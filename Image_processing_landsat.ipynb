{
  "nbformat": 4,
  "nbformat_minor": 0,
  "metadata": {
    "colab": {
      "provenance": [],
      "include_colab_link": true
    },
    "kernelspec": {
      "name": "ir",
      "display_name": "R"
    },
    "language_info": {
      "name": "R"
    }
  },
  "cells": [
    {
      "cell_type": "markdown",
      "metadata": {
        "id": "view-in-github",
        "colab_type": "text"
      },
      "source": [
        "<a href=\"https://colab.research.google.com/github/MadmanMarble/MadmanMarble/blob/main/Image_processing_landsat.ipynb\" target=\"_parent\"><img src=\"https://colab.research.google.com/assets/colab-badge.svg\" alt=\"Open In Colab\"/></a>"
      ]
    },
    {
      "cell_type": "code",
      "source": [
        "install.packages('gdalutils')\n",
        "install.packages('sf')\n",
        "install.packages('raster')\n",
        "install.packages('exactextractr')\n",
        "install.packages(\"googledrive\")\n",
        "install.packages(\"googletoken\")\n",
        "install.packages(\"DBI\")\n",
        "install.packages(\"RSQLite\")\n",
        "install.packages(\"RPostgreSQL\")"
      ],
      "metadata": {
        "id": "rC3Pg61Wq8On",
        "colab": {
          "base_uri": "https://localhost:8080/"
        },
        "outputId": "79bdda7e-a30e-4b31-8327-6847c65fe937"
      },
      "execution_count": 1,
      "outputs": [
        {
          "output_type": "stream",
          "name": "stderr",
          "text": [
            "Installing package into ‘/usr/local/lib/R/site-library’\n",
            "(as ‘lib’ is unspecified)\n",
            "\n",
            "Warning message:\n",
            "“package ‘gdalutils’ is not available for this version of R\n",
            "\n",
            "A version of this package for your version of R might be available elsewhere,\n",
            "see the ideas at\n",
            "https://cran.r-project.org/doc/manuals/r-patched/R-admin.html#Installing-packages”\n",
            "Installing package into ‘/usr/local/lib/R/site-library’\n",
            "(as ‘lib’ is unspecified)\n",
            "\n",
            "also installing the dependencies ‘proxy’, ‘e1071’, ‘wk’, ‘classInt’, ‘Rcpp’, ‘s2’, ‘units’\n",
            "\n",
            "\n",
            "Installing package into ‘/usr/local/lib/R/site-library’\n",
            "(as ‘lib’ is unspecified)\n",
            "\n",
            "also installing the dependencies ‘sp’, ‘terra’\n",
            "\n",
            "\n",
            "Installing package into ‘/usr/local/lib/R/site-library’\n",
            "(as ‘lib’ is unspecified)\n",
            "\n",
            "Installing package into ‘/usr/local/lib/R/site-library’\n",
            "(as ‘lib’ is unspecified)\n",
            "\n",
            "Installing package into ‘/usr/local/lib/R/site-library’\n",
            "(as ‘lib’ is unspecified)\n",
            "\n",
            "Warning message:\n",
            "“package ‘googletoken’ is not available for this version of R\n",
            "\n",
            "A version of this package for your version of R might be available elsewhere,\n",
            "see the ideas at\n",
            "https://cran.r-project.org/doc/manuals/r-patched/R-admin.html#Installing-packages”\n",
            "Installing package into ‘/usr/local/lib/R/site-library’\n",
            "(as ‘lib’ is unspecified)\n",
            "\n",
            "Installing package into ‘/usr/local/lib/R/site-library’\n",
            "(as ‘lib’ is unspecified)\n",
            "\n",
            "also installing the dependency ‘plogr’\n",
            "\n",
            "\n",
            "Installing package into ‘/usr/local/lib/R/site-library’\n",
            "(as ‘lib’ is unspecified)\n",
            "\n"
          ]
        }
      ]
    },
    {
      "cell_type": "markdown",
      "source": [
        "# New Section"
      ],
      "metadata": {
        "id": "MGk7RPdkt5zg"
      }
    },
    {
      "cell_type": "code",
      "execution_count": 2,
      "metadata": {
        "id": "ohy4torjkZq2",
        "outputId": "34be59e9-56c0-429b-fff9-2df986ee7fad",
        "colab": {
          "base_uri": "https://localhost:8080/"
        }
      },
      "outputs": [
        {
          "output_type": "stream",
          "name": "stderr",
          "text": [
            "Linking to GEOS 3.11.1, GDAL 3.6.4, PROJ 9.1.1; sf_use_s2() is TRUE\n",
            "\n",
            "Loading required package: sp\n",
            "\n",
            "\n",
            "Attaching package: ‘zip’\n",
            "\n",
            "\n",
            "The following objects are masked from ‘package:utils’:\n",
            "\n",
            "    unzip, zip\n",
            "\n",
            "\n"
          ]
        }
      ],
      "source": [
        "library(ggplot2)\n",
        "library(sf)\n",
        "library(magrittr)\n",
        "library(data.table)\n",
        "library(raster)\n",
        "library(exactextractr)\n",
        "library(googledrive)\n",
        "library(DBI)\n",
        "library(zip)"
      ]
    },
    {
      "cell_type": "code",
      "source": [
        "drive_auth(use_oob = TRUE, cache = FALSE)"
      ],
      "metadata": {
        "colab": {
          "base_uri": "https://localhost:8080/"
        },
        "id": "3OdTtHfYVHu7",
        "outputId": "984f1fdc-bb62-401e-fb31-fdece96a642c"
      },
      "execution_count": 5,
      "outputs": [
        {
          "output_type": "stream",
          "name": "stderr",
          "text": [
            "Please point your browser to the following url: \n",
            "\n",
            "https://accounts.google.com/o/oauth2/v2/auth?client_id=603366585132-frjlouoa3s2ono25d2l9ukvhlsrlnr7k.apps.googleusercontent.com&scope=https%3A%2F%2Fwww.googleapis.com%2Fauth%2Fdrive%20https%3A%2F%2Fwww.googleapis.com%2Fauth%2Fuserinfo.email&redirect_uri=https%3A%2F%2Fwww.tidyverse.org%2Fgoogle-callback%2F&response_type=code&state=b0fcd42ca021db7fcec0ad8deb2ec535&access_type=offline&prompt=consent\n",
            "\n"
          ]
        },
        {
          "name": "stdout",
          "output_type": "stream",
          "text": [
            "Enter authorization code: eyJjb2RlIjoiNC8wQWZKb2hYblhjZFhuMnQ1elgyWlVVSWY4Sm1CWnF5QjhMUnJmSFlDdGZKc3ZRVFZVQUVheHVmakxZMWdLN1NEU0hlc2FpUSIsInN0YXRlIjoiYjBmY2Q0MmNhMDIxZGI3ZmNlYzBhZDhkZWIyZWM1MzUifQ==\n"
          ]
        }
      ]
    },
    {
      "cell_type": "code",
      "source": [
        "dir.create('/content/waipio2018/')"
      ],
      "metadata": {
        "id": "4d1CaNadVlqX"
      },
      "execution_count": 250,
      "outputs": []
    },
    {
      "cell_type": "code",
      "source": [
        "# kahuku\n",
        "# CCAP: https://drive.google.com/file/d//view?usp=drive_link\n",
        "drive_download(file = as_id('1wvtHlIlzIT-rzXKS4gohsTgd63T-Z0EI'), path =  '/content/waipio2018/waipio2018_ccap.tif', overwrite = TRUE)"
      ],
      "metadata": {
        "id": "M1J-1sdUIHwf",
        "outputId": "db2c2c8f-6e7e-4d1c-cd09-08560b62ce34",
        "colab": {
          "base_uri": "https://localhost:8080/"
        }
      },
      "execution_count": 251,
      "outputs": [
        {
          "output_type": "stream",
          "name": "stderr",
          "text": [
            "File downloaded:\n",
            "\n",
            "• \u001b[36mwaipio.tif\u001b[39m \u001b[90m<id: 1wvtHlIlzIT-rzXKS4gohsTgd63T-Z0EI>\u001b[39m\n",
            "\n",
            "Saved locally as:\n",
            "\n",
            "• \u001b[34m/content/waipio2018/waipio2018_ccap.tif\u001b[39m\n",
            "\n"
          ]
        }
      ]
    },
    {
      "cell_type": "code",
      "source": [
        "# Planet Labs:\n",
        "drive_download(file = as_id('1YL8DwgkdxH5kdbw6aVBh3OE34yl3rQsa'), path =  '/content/waipio2018/01.tif', overwrite = TRUE)\n",
        "drive_download(file = as_id('1QLPXlLysVX9GWfRxg9mNBsnhcgXIY2Wk'), path =  '/content/waipio2018/02.tif', overwrite = TRUE)\n",
        "drive_download(file = as_id('1VnD42ldpBzk6yUIXEGK5Wz0ckYH4zdug'), path =  '/content/waipio2018/03.tif', overwrite = TRUE)\n",
        "# drive_download(file = as_id(''), path =  '/content/waipio2018/04.tif', overwrite = TRUE)\n",
        "\n",
        "# https://drive.google.com/open?id=&usp=drive_copy\n",
        "# https://drive.google.com/open?id=&usp=drive_copy\n",
        "# https://drive.google.com/open?id=&usp=drive_copy"
      ],
      "metadata": {
        "id": "6ip0T5wNKsIg",
        "outputId": "18cafa4f-49d6-419b-9af4-6887f9f5e63c",
        "colab": {
          "base_uri": "https://localhost:8080/"
        }
      },
      "execution_count": 252,
      "outputs": [
        {
          "output_type": "stream",
          "name": "stderr",
          "text": [
            "File downloaded:\n",
            "\n",
            "• \u001b[36mwaipio2018_01.tif\u001b[39m \u001b[90m<id: 1YL8DwgkdxH5kdbw6aVBh3OE34yl3rQsa>\u001b[39m\n",
            "\n",
            "Saved locally as:\n",
            "\n",
            "• \u001b[34m/content/waipio2018/01.tif\u001b[39m\n",
            "\n",
            "File downloaded:\n",
            "\n",
            "• \u001b[36mwaipio2018_02.tif\u001b[39m \u001b[90m<id: 1QLPXlLysVX9GWfRxg9mNBsnhcgXIY2Wk>\u001b[39m\n",
            "\n",
            "Saved locally as:\n",
            "\n",
            "• \u001b[34m/content/waipio2018/02.tif\u001b[39m\n",
            "\n",
            "File downloaded:\n",
            "\n",
            "• \u001b[36mwaipio2018_03.tif\u001b[39m \u001b[90m<id: 1VnD42ldpBzk6yUIXEGK5Wz0ckYH4zdug>\u001b[39m\n",
            "\n",
            "Saved locally as:\n",
            "\n",
            "• \u001b[34m/content/waipio2018/03.tif\u001b[39m\n",
            "\n"
          ]
        }
      ]
    },
    {
      "cell_type": "code",
      "source": [
        "planet_raster <-stack(\n",
        "  '/content/waipio2018/01.tif',\n",
        "'/content/waipio2018/02.tif',\n",
        "'/content/waipio2018/03.tif')\n",
        "# '/content/waipio2018/04.tif')"
      ],
      "metadata": {
        "id": "-PzPAS--LqPx"
      },
      "execution_count": 253,
      "outputs": []
    },
    {
      "cell_type": "code",
      "source": [
        "ccap_raster <- stack('/content/waipio2018/waipio2018_ccap.tif')"
      ],
      "metadata": {
        "id": "VpVS_GIgCZOU"
      },
      "execution_count": 254,
      "outputs": []
    },
    {
      "cell_type": "code",
      "source": [
        "planet_raster_extended <- extend(planet_raster, projectExtent(ccap_raster, planet_raster), value=NA)"
      ],
      "metadata": {
        "id": "XhmhaXUYFW37"
      },
      "execution_count": 255,
      "outputs": []
    },
    {
      "cell_type": "code",
      "source": [
        "ccap_raster\n",
        "planet_raster"
      ],
      "metadata": {
        "id": "mEa1EkTwDVfC",
        "outputId": "9f879805-f3bd-4d9e-87a5-a20b20c675cc",
        "colab": {
          "base_uri": "https://localhost:8080/",
          "height": 225
        }
      },
      "execution_count": 256,
      "outputs": [
        {
          "output_type": "display_data",
          "data": {
            "text/plain": [
              "class      : RasterStack \n",
              "dimensions : 1942, 1247, 2421674, 1  (nrow, ncol, ncell, nlayers)\n",
              "resolution : 2.4, 2.4  (x, y)\n",
              "extent     : 226466.3, 229459.1, 2223094, 2227755  (xmin, xmax, ymin, ymax)\n",
              "crs        : +proj=utm +zone=5 +datum=WGS84 +units=m +no_defs \n",
              "names      : Layer_1 \n"
            ]
          },
          "metadata": {}
        },
        {
          "output_type": "display_data",
          "data": {
            "text/plain": [
              "class      : RasterStack \n",
              "dimensions : 156, 105, 16380, 21  (nrow, ncol, ncell, nlayers)\n",
              "resolution : 0.0002694946, 0.0002694946  (x, y)\n",
              "extent     : -155.6159, -155.5876, 20.0857, 20.12774  (xmin, xmax, ymin, ymax)\n",
              "crs        : +proj=longlat +datum=WGS84 +no_defs \n",
              "names      : Blue.1, Blue.2, Blue.3, Blue.4, Blue.5, Blue.6, Blue.7, Blue.8, Blue.9, Blue.10, Blue.11, Blue.12, Blue.13, Blue.14, Blue.15, ... \n"
            ]
          },
          "metadata": {}
        }
      ]
    },
    {
      "cell_type": "code",
      "source": [
        "planet_raster [[1]]%>% plot"
      ],
      "metadata": {
        "id": "HD4_Q9AKVLed",
        "outputId": "8e6f6d7e-680a-4cad-cb9b-7eaa6da3d93f",
        "colab": {
          "base_uri": "https://localhost:8080/",
          "height": 437
        }
      },
      "execution_count": 257,
      "outputs": [
        {
          "output_type": "display_data",
          "data": {
            "text/plain": [
              "Plot with title “”"
            ],
            "image/png": "[encoded data removed]"
          },
          "metadata": {
            "image/png": {
              "width": 420,
              "height": 420
            }
          }
        }
      ]
    },
    {
      "cell_type": "code",
      "source": [
        "ccap_raster %>% plot"
      ],
      "metadata": {
        "id": "Soe7adURCzrf",
        "outputId": "0578b19e-c05c-4695-f58d-e475f0fd0854",
        "colab": {
          "base_uri": "https://localhost:8080/",
          "height": 437
        }
      },
      "execution_count": 258,
      "outputs": [
        {
          "output_type": "display_data",
          "data": {
            "text/plain": [
              "Plot with title “”"
            ],
            "image/png": "[encoded data removed]"
          },
          "metadata": {
            "image/png": {
              "width": 420,
              "height": 420
            }
          }
        }
      ]
    },
    {
      "cell_type": "code",
      "source": [
        "ncol(ccap_raster)\n",
        "\n",
        "nrow(ccap_raster)\n",
        "\n",
        "\n",
        "y_end <- c(seq(1,ccap_raster %>% nrow,512),nrow(ccap_raster))[-1]\n",
        "x_end <- c(seq(1,ccap_raster %>% ncol,512),ncol(ccap_raster))[-1]\n",
        "\n",
        "extract_grid <- expand.grid(x_end,y_end) %>% data.table\n",
        "\n",
        "names(extract_grid) <- c('x_end','y_end')\n",
        "\n",
        "extract_grid$x_org <- extract_grid$x_end - 512\n",
        "extract_grid$y_org <- extract_grid$y_end - 512\n",
        "\n",
        "extract_grid$id <- 1:nrow(extract_grid)"
      ],
      "metadata": {
        "id": "BbpM2KyNkAd4",
        "outputId": "1f38611a-e579-4c24-d81f-b9e2dfa33936",
        "colab": {
          "base_uri": "https://localhost:8080/",
          "height": 52
        }
      },
      "execution_count": 259,
      "outputs": [
        {
          "output_type": "display_data",
          "data": {
            "text/html": [
              "1247"
            ],
            "text/markdown": "1247",
            "text/latex": "1247",
            "text/plain": [
              "[1] 1247"
            ]
          },
          "metadata": {}
        },
        {
          "output_type": "display_data",
          "data": {
            "text/html": [
              "1942"
            ],
            "text/markdown": "1942",
            "text/latex": "1942",
            "text/plain": [
              "[1] 1942"
            ]
          },
          "metadata": {}
        }
      ]
    },
    {
      "cell_type": "code",
      "source": [
        "# dir.create('/TrainingData/Niihau')\n",
        "# Specify the path for the new folder/directory\n",
        "new_folder_path <- \"/content/waipio2018/Images\"\n",
        "new_folder_path2 <- \"/content/waipio2018/Labels\"\n",
        "# Use dir.create to create the new folder\n",
        "dir.create(new_folder_path, showWarnings = FALSE)\n",
        "\n",
        "# Check if the folder was created successfully\n",
        "if (file.exists(new_folder_path)) {\n",
        "  cat(\"Folder created:\", new_folder_path, \"\\n\")\n",
        "} else {\n",
        "  cat(\"Failed to create folder:\", new_folder_path, \"\\n\")\n",
        "}\n",
        "\n",
        "\n",
        "# Use dir.create to create the new folder\n",
        "dir.create(new_folder_path2, showWarnings = FALSE)\n",
        "# Check if the folder was created successfully\n",
        "if (file.exists(new_folder_path2)) {\n",
        "  cat(\"Folder created:\", new_folder_path2, \"\\n\")\n",
        "} else {\n",
        "  cat(\"Failed to create folder:\", new_folder_path2, \"\\n\")\n",
        "}"
      ],
      "metadata": {
        "id": "ku_aB94VliRd",
        "outputId": "b512a3ed-229a-4d5a-d9f4-1dfce90b0195",
        "colab": {
          "base_uri": "https://localhost:8080/"
        }
      },
      "execution_count": 260,
      "outputs": [
        {
          "output_type": "stream",
          "name": "stdout",
          "text": [
            "Folder created: /content/waipio2018/Images \n",
            "Folder created: /content/waipio2018/Labels \n"
          ]
        }
      ]
    },
    {
      "cell_type": "code",
      "source": [
        "result_dt <-\n",
        "1:nrow(extract_grid) %>% lapply(function(x){\n",
        "\n",
        "  nrow <- 0\n",
        "  ncol <- 0\n",
        "  i <- 0\n",
        "  while(nrow !=512 | ncol != 512){\n",
        "    i <- i + 1\n",
        "    # Calculate the geographic coordinates for the cropping extent\n",
        "    xmin <- xFromCol(ccap_raster, extract_grid[x,]$x_org) + rnorm(1)*.01*2.4\n",
        "    xmax <- xFromCol(ccap_raster, extract_grid[x,]$x_end) + rnorm(1)*.01*2.4\n",
        "    ymin <- yFromRow(ccap_raster, extract_grid[x,]$y_end) + rnorm(1)*.01*2.4 # Note row_max as raster origin is top-left\n",
        "    ymax <- yFromRow(ccap_raster, extract_grid[x,]$y_org) + rnorm(1)*.01*2.4 # Note row_min as raster origin is top-left\n",
        "\n",
        "    e <- extent(xmin, xmax, ymin, ymax)\n",
        "\n",
        "    ccap_cropped_raster <- crop(ccap_raster, e)\n",
        "\n",
        "    nrow <- nrow(ccap_cropped_raster)\n",
        "    ncol <- ncol(ccap_cropped_raster)\n",
        "\n",
        "\n",
        "    # print(dim(ccap_cropped_raster))\n",
        "    if(i>1000){return('failed to converge')}\n",
        "    }\n",
        "\n",
        "  ls_cropped_raster <- crop(planet_raster_extended, projectExtent(ccap_cropped_raster,planet_raster))\n",
        "\n",
        "  ls_resampled_raster <- projectRaster(ls_cropped_raster,ccap_cropped_raster)\n",
        "  print(ls_resampled_raster)\n",
        "  pixel_table <- (table(values(ccap_cropped_raster))/ncell(ccap_cropped_raster)) %>% data.table\n",
        "\n",
        "  names(pixel_table) <- c('label','percent')\n",
        "\n",
        "  out_dt <- data.table(extract_grid[x,],xmin = xmin,xmax =xmax,ymin= ymin,ymax, pixel_table)\n",
        "\n",
        "  if(ls_resampled_raster %>% nrow ==512 & ls_resampled_raster %>% ncol ==512 & ccap_cropped_raster%>% nrow ==512 & ccap_cropped_raster%>% ncol ==512){\n",
        "    ls_resampled_raster %>%\n",
        "    writeRaster(., paste(\"/content/waipio2018/Images/\",extract_grid[x,]$x_org,'_',extract_grid[x,]$y_org,'.tif',sep=''),overwrite=T)\n",
        "\n",
        "    ccap_cropped_raster %>%\n",
        "    writeRaster(., paste(\"/content/waipio2018/Labels/\",extract_grid[x,]$x_org,'_',extract_grid[x,]$y_org,'.tif',sep=''),overwrite=T)\n",
        "  }else(print('uh oh'))\n",
        "\n",
        "  return(out_dt)\n",
        "})\n",
        "result_dt[ result_dt %>% lapply(function(x){is.data.table(x)}) %>% unlist] %>% rbindlist %>%\n",
        "fwrite(\"/content/waipio2018/waipio2018.csv\")\n"
      ],
      "metadata": {
        "id": "v3NDtnuuDTVK",
        "outputId": "d447e3e3-f9b1-4c67-8e56-8b73e98030a0",
        "colab": {
          "base_uri": "https://localhost:8080/"
        }
      },
      "execution_count": 261,
      "outputs": [
        {
          "output_type": "stream",
          "name": "stdout",
          "text": [
            "class      : RasterBrick \n",
            "dimensions : 512, 512, 262144, 21  (nrow, ncol, ncell, nlayers)\n",
            "resolution : 2.4, 2.4  (x, y)\n",
            "extent     : 226466.3, 227695.1, 2226523, 2227752  (xmin, xmax, ymin, ymax)\n",
            "crs        : +proj=utm +zone=5 +datum=WGS84 +units=m +no_defs \n",
            "source     : memory\n",
            "names      :     Blue.1,     Blue.2,     Blue.3,     Blue.4,     Blue.5,     Blue.6,     Blue.7,     Blue.8,     Blue.9,    Blue.10,    Blue.11,    Blue.12,    Blue.13,    Blue.14,    Blue.15, ... \n",
            "min values :   60.74300,  107.72674,   60.01729,  926.78097,  279.48214,   95.14716,  223.53131,   91.71397,  176.62554,   78.45554, 2283.30520,  650.73561,  233.69707,  223.53131,   63.32118, ... \n",
            "max values :   336.3590,   710.4351,   543.3946,  4972.4869,  2133.9300,   933.3074,   548.1155,   340.1285,   721.6266,   429.3125,  5168.1433,  2017.1935,   852.6651,   548.1155,   297.8575, ... \n",
            "\n",
            "class      : RasterBrick \n",
            "dimensions : 512, 512, 262144, 21  (nrow, ncol, ncell, nlayers)\n",
            "resolution : 2.4, 2.4  (x, y)\n",
            "extent     : 227697.5, 228926.3, 2226523, 2227752  (xmin, xmax, ymin, ymax)\n",
            "crs        : +proj=utm +zone=5 +datum=WGS84 +units=m +no_defs \n",
            "source     : memory\n",
            "names      :     Blue.1,     Blue.2,     Blue.3,     Blue.4,     Blue.5,     Blue.6,     Blue.7,     Blue.8,     Blue.9,    Blue.10,    Blue.11,    Blue.12,    Blue.13,    Blue.14,    Blue.15, ... \n",
            "min values :  57.307612, 122.085612,  61.435593,  77.025768,  38.053072,  24.991034,  -4.773422, 102.197806, 222.746449, 133.313208, 227.347661,  74.475545,  54.332829,  -4.773422, 107.094401, ... \n",
            "max values :  3645.9392,  3926.4252,  3937.9230,  6129.4817,  3049.7688,  1493.7553,   434.3094,  1958.1297,  2120.6242,  1972.1613,  5745.1430,  2557.7670,  1265.0980,   434.3094,  3117.6725, ... \n",
            "\n",
            "class      : RasterBrick \n",
            "dimensions : 512, 512, 262144, 21  (nrow, ncol, ncell, nlayers)\n",
            "resolution : 2.4, 2.4  (x, y)\n",
            "extent     : 228227.9, 229456.7, 2226523, 2227752  (xmin, xmax, ymin, ymax)\n",
            "crs        : +proj=utm +zone=5 +datum=WGS84 +units=m +no_defs \n",
            "source     : memory\n",
            "names      :      Blue.1,      Blue.2,      Blue.3,      Blue.4,      Blue.5,      Blue.6,      Blue.7,      Blue.8,      Blue.9,     Blue.10,     Blue.11,     Blue.12,     Blue.13,     Blue.14,     Blue.15, ... \n",
            "min values : -284.340616,   57.707358, -134.171153,  -65.852528,   26.664988,   18.050547,   -4.773422,   75.869324,  217.639679,  133.313208,   52.638336,  -54.264399,   -1.916127,   -4.773422,   -5.693504, ... \n",
            "max values :   3645.9392,   3926.4252,   3937.9230,   5648.7655,   2465.7256,   1164.6416,    178.7397,   1958.1297,   2120.6242,   1972.1613,   5420.9119,   2557.7670,   1198.1773,    178.7397,   3117.6725, ... \n",
            "\n",
            "class      : RasterBrick \n",
            "dimensions : 512, 512, 262144, 21  (nrow, ncol, ncell, nlayers)\n",
            "resolution : 2.4, 2.4  (x, y)\n",
            "extent     : 226468.7, 227697.5, 2225297, 2226526  (xmin, xmax, ymin, ymax)\n",
            "crs        : +proj=utm +zone=5 +datum=WGS84 +units=m +no_defs \n",
            "source     : memory\n",
            "names      :      Blue.1,      Blue.2,      Blue.3,      Blue.4,      Blue.5,      Blue.6,      Blue.7,      Blue.8,      Blue.9,     Blue.10,     Blue.11,     Blue.12,     Blue.13,     Blue.14,     Blue.15, ... \n",
            "min values :   88.095139,  194.103479,  141.192456, 1263.283489,  521.839123,  221.338784,    6.082198,  139.570495,  388.359144,  239.505178, 2024.090296,  886.889723,  421.001438,    6.082198,   78.544666, ... \n",
            "max values :    525.4152,    931.0905,    849.8234,   6341.5446,   2781.5740,   1416.0924,    600.0000,    477.1872,    959.1542,    777.3748,   5779.9197,   2457.7688,   1206.5630,    600.0000,    424.9918, ... \n",
            "\n",
            "class      : RasterBrick \n",
            "dimensions : 512, 512, 262144, 21  (nrow, ncol, ncell, nlayers)\n",
            "resolution : 2.4, 2.4  (x, y)\n",
            "extent     : 227697.5, 228926.3, 2225297, 2226526  (xmin, xmax, ymin, ymax)\n",
            "crs        : +proj=utm +zone=5 +datum=WGS84 +units=m +no_defs \n",
            "source     : memory\n",
            "names      :      Blue.1,      Blue.2,      Blue.3,      Blue.4,      Blue.5,      Blue.6,      Blue.7,      Blue.8,      Blue.9,     Blue.10,     Blue.11,     Blue.12,     Blue.13,     Blue.14,     Blue.15, ... \n",
            "min values :   48.970958,   84.604410,   53.416727,  686.650854,  198.893717,   77.145968,    3.004423,  123.149806,  299.661493,  162.535164, 1141.812814,  419.515216,  233.420380,    3.004423,   76.860390, ... \n",
            "max values :    447.7545,    937.3493,    803.0507,   5827.3848,   2466.6272,   1313.6731,    209.1226,    530.1780,   1044.7572,    821.2657,   5864.3763,   2292.1186,   1225.4519,    209.1226,    459.3345, ... \n",
            "\n",
            "class      : RasterBrick \n",
            "dimensions : 512, 512, 262144, 21  (nrow, ncol, ncell, nlayers)\n",
            "resolution : 2.4, 2.4  (x, y)\n",
            "extent     : 228227.9, 229456.7, 2225297, 2226526  (xmin, xmax, ymin, ymax)\n",
            "crs        : +proj=utm +zone=5 +datum=WGS84 +units=m +no_defs \n",
            "source     : memory\n",
            "names      :    Blue.1,    Blue.2,    Blue.3,    Blue.4,    Blue.5,    Blue.6,    Blue.7,    Blue.8,    Blue.9,   Blue.10,   Blue.11,   Blue.12,   Blue.13,   Blue.14,   Blue.15, ... \n",
            "min values :  33.92755,  65.84967,  31.29315, 281.60567, 102.24223,  32.27895,   3.00000,  71.54638, 208.68308, 107.37760, 848.66413, 419.51522, 210.56332,   3.00000,  63.70803, ... \n",
            "max values :  428.2911,  876.1355,  803.0507, 5452.9366, 2441.8893, 1272.5940,  433.7256,  475.3792,  951.0084,  686.5495, 5829.4233, 2292.1186, 1246.6824,  433.7256,  406.9632, ... \n",
            "\n",
            "class      : RasterBrick \n",
            "dimensions : 512, 512, 262144, 21  (nrow, ncol, ncell, nlayers)\n",
            "resolution : 2.4, 2.4  (x, y)\n",
            "extent     : 226466.3, 227695.1, 2224068, 2225297  (xmin, xmax, ymin, ymax)\n",
            "crs        : +proj=utm +zone=5 +datum=WGS84 +units=m +no_defs \n",
            "source     : memory\n",
            "names      :     Blue.1,     Blue.2,     Blue.3,     Blue.4,     Blue.5,     Blue.6,     Blue.7,     Blue.8,     Blue.9,    Blue.10,    Blue.11,    Blue.12,    Blue.13,    Blue.14,    Blue.15, ... \n",
            "min values :   28.12734,   74.92605,   36.62393,  640.89553,  155.87251,   49.65579,   11.70960,   66.99689,  311.02010,  153.55728, 1743.36855,  682.69358,  313.74036,   11.70960,   28.64871, ... \n",
            "max values :   710.0667,  1168.8142,   974.2168,  6077.6254,  2469.8521,  1512.2396,   553.0000,   618.8101,   966.5571,   809.0701,  5917.7997,  2317.4747,  1251.5980,   553.0000,   459.2510, ... \n",
            "\n",
            "class      : RasterBrick \n",
            "dimensions : 512, 512, 262144, 21  (nrow, ncol, ncell, nlayers)\n",
            "resolution : 2.4, 2.4  (x, y)\n",
            "extent     : 227695.1, 228923.9, 2224068, 2225297  (xmin, xmax, ymin, ymax)\n",
            "crs        : +proj=utm +zone=5 +datum=WGS84 +units=m +no_defs \n",
            "source     : memory\n",
            "names      :     Blue.1,     Blue.2,     Blue.3,     Blue.4,     Blue.5,     Blue.6,     Blue.7,     Blue.8,     Blue.9,    Blue.10,    Blue.11,    Blue.12,    Blue.13,    Blue.14,    Blue.15, ... \n",
            "min values :   6.324940,  25.669866,  15.539752,  93.077158,  38.470392,  16.750150,   8.061846, -16.922688,  36.069317,  22.680303, 258.238318, 156.494777,  83.213021,   8.061846,  12.767561, ... \n",
            "max values :   345.7342,   703.9658,   500.3113,  5624.7370,  2229.3176,   967.2680,   582.3462,   449.0007,   855.8094,   649.2890,  6344.5535,  2686.6882,  1220.7442,   582.3462,   377.9839, ... \n",
            "\n",
            "class      : RasterBrick \n",
            "dimensions : 512, 512, 262144, 21  (nrow, ncol, ncell, nlayers)\n",
            "resolution : 2.4, 2.4  (x, y)\n",
            "extent     : 228230.3, 229459.1, 2224066, 2225295  (xmin, xmax, ymin, ymax)\n",
            "crs        : +proj=utm +zone=5 +datum=WGS84 +units=m +no_defs \n",
            "source     : memory\n",
            "names      :     Blue.1,     Blue.2,     Blue.3,     Blue.4,     Blue.5,     Blue.6,     Blue.7,     Blue.8,     Blue.9,    Blue.10,    Blue.11,    Blue.12,    Blue.13,    Blue.14,    Blue.15, ... \n",
            "min values :   6.002097,  25.669866,  15.539752,  93.077158,  38.470392,  16.750150,  30.839932, -16.922688,  36.069317,  22.680303, 258.238318, 156.494777,  83.213021,  30.839932,  12.767561, ... \n",
            "max values :   332.0619,   703.9658,   491.2504,  5015.5924,  2229.3176,   967.2680,   575.5248,   449.0007,   855.8094,   630.4619,  5284.4727,  2686.6882,  1220.7442,   575.5248,   348.6977, ... \n",
            "\n",
            "class      : RasterBrick \n",
            "dimensions : 512, 512, 262144, 21  (nrow, ncol, ncell, nlayers)\n",
            "resolution : 2.4, 2.4  (x, y)\n",
            "extent     : 226466.3, 227695.1, 2223096, 2224325  (xmin, xmax, ymin, ymax)\n",
            "crs        : +proj=utm +zone=5 +datum=WGS84 +units=m +no_defs \n",
            "source     : memory\n",
            "names      :      Blue.1,      Blue.2,      Blue.3,      Blue.4,      Blue.5,      Blue.6,      Blue.7,      Blue.8,      Blue.9,     Blue.10,     Blue.11,     Blue.12,     Blue.13,     Blue.14,     Blue.15, ... \n",
            "min values :  -61.676606,   38.016925,  -21.371002,  427.065520,   90.335816,   22.078679,   23.551549,  -15.853725,  219.408874,  117.522790, 2026.229909,  753.518992,  276.304211,   23.551549,    7.030008, ... \n",
            "max values :    669.8109,   1023.2074,   1025.4628,   5231.1772,   2779.5091,   1460.1179,    682.9985,    873.1485,   1148.8410,   1007.4527,   5308.8578,   2260.6536,   1368.9600,    682.9985,    419.1680, ... \n",
            "\n",
            "class      : RasterBrick \n",
            "dimensions : 512, 512, 262144, 21  (nrow, ncol, ncell, nlayers)\n",
            "resolution : 2.4, 2.4  (x, y)\n",
            "extent     : 227695.1, 228923.9, 2223096, 2224325  (xmin, xmax, ymin, ymax)\n",
            "crs        : +proj=utm +zone=5 +datum=WGS84 +units=m +no_defs \n",
            "source     : memory\n",
            "names      :     Blue.1,     Blue.2,     Blue.3,     Blue.4,     Blue.5,     Blue.6,     Blue.7,     Blue.8,     Blue.9,    Blue.10,    Blue.11,    Blue.12,    Blue.13,    Blue.14,    Blue.15, ... \n",
            "min values :   7.287719,  25.669866,  15.539752,  93.077158,  38.470392,  16.750150, 239.828131, -16.922688,  36.069317,  22.680303, 258.238318, 156.494777,  83.213021, 239.828131,  12.767561, ... \n",
            "max values :   272.1423,   649.8295,   523.4942,  4875.1312,  2177.9357,   967.2680,   667.0000,   449.0007,   762.7370,   630.4619,  5721.7889,  2777.7059,  1243.7858,   667.0000,   255.2214, ... \n",
            "\n",
            "class      : RasterBrick \n",
            "dimensions : 512, 512, 262144, 21  (nrow, ncol, ncell, nlayers)\n",
            "resolution : 2.4, 2.4  (x, y)\n",
            "extent     : 228230.3, 229459.1, 2223094, 2224323  (xmin, xmax, ymin, ymax)\n",
            "crs        : +proj=utm +zone=5 +datum=WGS84 +units=m +no_defs \n",
            "source     : memory\n",
            "names      :     Blue.1,     Blue.2,     Blue.3,     Blue.4,     Blue.5,     Blue.6,     Blue.7,     Blue.8,     Blue.9,    Blue.10,    Blue.11,    Blue.12,    Blue.13,    Blue.14,    Blue.15, ... \n",
            "min values :  -7.805685,  25.669866,  15.539752,  93.077158,  38.470392,  16.750150, 273.527271, -16.922688,  36.069317,  22.680303, 258.238318, 156.494777,  83.213021, 273.527271,  12.767561, ... \n",
            "max values :   279.9660,   650.7034,   495.2051,  4875.1312,  2161.0017,   967.2680,   641.0000,   449.0007,   757.0259,   630.4619,  5722.3637,  2740.1403,  1231.3746,   641.0000,   255.2214, ... \n",
            "\n"
          ]
        }
      ]
    },
    {
      "cell_type": "code",
      "source": [
        "zip(zipfile = \"/content/waipio2018.zip\",\n",
        "    files = c(\"/content/waipio2018/Images\",\n",
        "              \"/content/waipio2018/Labels\",\n",
        "              \"/content/waipio2018/waipio2018.csv\"))"
      ],
      "metadata": {
        "id": "M0T2xbuKO3bJ",
        "outputId": "e90a1996-b6b1-4fa9-a614-36bb5ad3dc23",
        "colab": {
          "base_uri": "https://localhost:8080/"
        }
      },
      "execution_count": 262,
      "outputs": [
        {
          "output_type": "stream",
          "name": "stderr",
          "text": [
            "Warning message in fix_absolute_paths(data$key):\n",
            "“Dropping leading `/` from paths, all paths in a zip file must be relative paths.”\n"
          ]
        }
      ]
    },
    {
      "cell_type": "code",
      "source": [
        "# save to processed_data https://drive.google.com/drive/folders/16L0tZprsxCXcltp-UgkuISTL3rvX8KAV?usp=drive_link\n",
        "drive_upload(media = \"/content/waipio2018.zip\", path = as_id(\"16L0tZprsxCXcltp-UgkuISTL3rvX8KAV\"))"
      ],
      "metadata": {
        "id": "oyviE6TxeBRn",
        "outputId": "c9c1a9c2-f7dc-4fe9-c101-d8362afc6ebc",
        "colab": {
          "base_uri": "https://localhost:8080/"
        }
      },
      "execution_count": 263,
      "outputs": [
        {
          "output_type": "stream",
          "name": "stderr",
          "text": [
            "Local file:\n",
            "\n",
            "• \u001b[34m/content/waipio2018.zip\u001b[39m\n",
            "\n",
            "Uploaded into Drive file:\n",
            "\n",
            "• \u001b[36mwaipio2018.zip\u001b[39m \u001b[90m<id: 1ONCUgbqtrMm0680n-wqcmkZZZ8ZUvy2J>\u001b[39m\n",
            "\n",
            "With MIME type:\n",
            "\n",
            "• \u001b[32mapplication/zip\u001b[39m\n",
            "\n"
          ]
        }
      ]
    },
    {
      "cell_type": "markdown",
      "source": [
        "### 2019 Cell"
      ],
      "metadata": {
        "id": "dd6c2wJmNqSI"
      }
    },
    {
      "cell_type": "code",
      "source": [
        "dir.create('/content/waipio2019/')"
      ],
      "metadata": {
        "id": "wuQhh9_4NosV"
      },
      "execution_count": 264,
      "outputs": []
    },
    {
      "cell_type": "code",
      "source": [
        "# Planet Labs:\n",
        "drive_download(file = as_id('15jOaWgMeH3xjwdM5bMtSvKcU48xqbn7y'), path =  '/content/waipio2019/01.tif', overwrite = TRUE)\n",
        "drive_download(file = as_id('1MMw6Udh3wevnVeCZqpyhvY-t-9HTiTIB'), path =  '/content/waipio2019/02.tif', overwrite = TRUE)\n",
        "# drive_download(file = as_id('1YKNzKBM2_hHtMfOT1huWPcaTFj7RNQ6O'), path =  '/content/waihee2019/03.tif', overwrite = TRUE)\n",
        "# drive_download(file = as_id('1RSkJIjx6Owne9ccMP5c4mySRcNPQ1oF7'), path =  '/content/waihee2019/04.tif', overwrite = TRUE)\n",
        "\n",
        "# https://drive.google.com/open?id=&usp=drive_copy\n",
        "# https://drive.google.com/open?id=&usp=drive_copy"
      ],
      "metadata": {
        "colab": {
          "base_uri": "https://localhost:8080/"
        },
        "id": "APk9s8ZpNwcd",
        "outputId": "c326d0c8-8d18-41f2-df2e-4ffe1cf423cf"
      },
      "execution_count": 265,
      "outputs": [
        {
          "output_type": "stream",
          "name": "stderr",
          "text": [
            "File downloaded:\n",
            "\n",
            "• \u001b[36mwaipio2019_01.tif\u001b[39m \u001b[90m<id: 15jOaWgMeH3xjwdM5bMtSvKcU48xqbn7y>\u001b[39m\n",
            "\n",
            "Saved locally as:\n",
            "\n",
            "• \u001b[34m/content/waipio2019/01.tif\u001b[39m\n",
            "\n",
            "File downloaded:\n",
            "\n",
            "• \u001b[36mwaipio2019_02.tif\u001b[39m \u001b[90m<id: 1MMw6Udh3wevnVeCZqpyhvY-t-9HTiTIB>\u001b[39m\n",
            "\n",
            "Saved locally as:\n",
            "\n",
            "• \u001b[34m/content/waipio2019/02.tif\u001b[39m\n",
            "\n"
          ]
        }
      ]
    },
    {
      "cell_type": "code",
      "source": [
        "planet_raster <-stack(\n",
        "  '/content/waipio2019/01.tif',\n",
        "'/content/waipio2019/02.tif')\n",
        "# '/content/waihee2019/03.tif',\n",
        "# '/content/waihee2019/04.tif')"
      ],
      "metadata": {
        "id": "g3nsHOYON-TA"
      },
      "execution_count": 266,
      "outputs": []
    },
    {
      "cell_type": "code",
      "source": [
        "planet_raster_extended <- extend(planet_raster, projectExtent(ccap_raster, planet_raster), value=NA)"
      ],
      "metadata": {
        "id": "Nugee4ZyOTuK"
      },
      "execution_count": 267,
      "outputs": []
    },
    {
      "cell_type": "code",
      "source": [
        "ccap_raster\n",
        "planet_raster"
      ],
      "metadata": {
        "colab": {
          "base_uri": "https://localhost:8080/",
          "height": 225
        },
        "id": "xHQIxAlAOacc",
        "outputId": "81614667-7997-45b1-a291-738e6b3bd3bf"
      },
      "execution_count": 268,
      "outputs": [
        {
          "output_type": "display_data",
          "data": {
            "text/plain": [
              "class      : RasterStack \n",
              "dimensions : 1942, 1247, 2421674, 1  (nrow, ncol, ncell, nlayers)\n",
              "resolution : 2.4, 2.4  (x, y)\n",
              "extent     : 226466.3, 229459.1, 2223094, 2227755  (xmin, xmax, ymin, ymax)\n",
              "crs        : +proj=utm +zone=5 +datum=WGS84 +units=m +no_defs \n",
              "names      : Layer_1 \n"
            ]
          },
          "metadata": {}
        },
        {
          "output_type": "display_data",
          "data": {
            "text/plain": [
              "class      : RasterStack \n",
              "dimensions : 156, 105, 16380, 14  (nrow, ncol, ncell, nlayers)\n",
              "resolution : 0.0002694946, 0.0002694946  (x, y)\n",
              "extent     : -155.6159, -155.5876, 20.0857, 20.12774  (xmin, xmax, ymin, ymax)\n",
              "crs        : +proj=longlat +datum=WGS84 +no_defs \n",
              "names      : Blue.1, Blue.2, Blue.3, Blue.4, Blue.5, Blue.6, Blue.7, Blue.8, Blue.9, Blue.10, Blue.11, Blue.12, Blue.13, Blue.14 \n"
            ]
          },
          "metadata": {}
        }
      ]
    },
    {
      "cell_type": "code",
      "source": [
        "planet_raster [[1]]%>% plot"
      ],
      "metadata": {
        "colab": {
          "base_uri": "https://localhost:8080/",
          "height": 437
        },
        "id": "dZAjz_NlOacd",
        "outputId": "79a7b27b-f90f-4714-c0a3-9a2c860d5c13"
      },
      "execution_count": 269,
      "outputs": [
        {
          "output_type": "display_data",
          "data": {
            "text/plain": [
              "Plot with title “”"
            ],
            "image/png": "[encoded data removed]"
          },
          "metadata": {
            "image/png": {
              "width": 420,
              "height": 420
            }
          }
        }
      ]
    },
    {
      "cell_type": "code",
      "source": [
        "ccap_raster %>% plot"
      ],
      "metadata": {
        "colab": {
          "base_uri": "https://localhost:8080/",
          "height": 437
        },
        "id": "v13p28-XOacd",
        "outputId": "5697327d-7ffb-47ef-8c3e-7f2625ff6698"
      },
      "execution_count": 270,
      "outputs": [
        {
          "output_type": "display_data",
          "data": {
            "text/plain": [
              "Plot with title “”"
            ],
            "image/png": "[encoded data removed]"
          },
          "metadata": {
            "image/png": {
              "width": 420,
              "height": 420
            }
          }
        }
      ]
    },
    {
      "cell_type": "code",
      "source": [
        "ncol(ccap_raster)\n",
        "\n",
        "nrow(ccap_raster)\n",
        "\n",
        "\n",
        "y_end <- c(seq(1,ccap_raster %>% nrow,512),nrow(ccap_raster))[-1]\n",
        "x_end <- c(seq(1,ccap_raster %>% ncol,512),ncol(ccap_raster))[-1]\n",
        "\n",
        "extract_grid <- expand.grid(x_end,y_end) %>% data.table\n",
        "\n",
        "names(extract_grid) <- c('x_end','y_end')\n",
        "\n",
        "extract_grid$x_org <- extract_grid$x_end - 512\n",
        "extract_grid$y_org <- extract_grid$y_end - 512\n",
        "\n",
        "extract_grid$id <- 1:nrow(extract_grid)"
      ],
      "metadata": {
        "colab": {
          "base_uri": "https://localhost:8080/",
          "height": 52
        },
        "id": "X7aedVe5Oacd",
        "outputId": "8f256f08-ef7a-46c3-e6b0-949e97226cdc"
      },
      "execution_count": 271,
      "outputs": [
        {
          "output_type": "display_data",
          "data": {
            "text/html": [
              "1247"
            ],
            "text/markdown": "1247",
            "text/latex": "1247",
            "text/plain": [
              "[1] 1247"
            ]
          },
          "metadata": {}
        },
        {
          "output_type": "display_data",
          "data": {
            "text/html": [
              "1942"
            ],
            "text/markdown": "1942",
            "text/latex": "1942",
            "text/plain": [
              "[1] 1942"
            ]
          },
          "metadata": {}
        }
      ]
    },
    {
      "cell_type": "code",
      "source": [
        "# dir.create('/TrainingData/Niihau')\n",
        "# Specify the path for the new folder/directory\n",
        "new_folder_path <- \"/content/waipio2019/Images\"\n",
        "new_folder_path2 <- \"/content/waipio2019/Labels\"\n",
        "# Use dir.create to create the new folder\n",
        "dir.create(new_folder_path, showWarnings = FALSE)\n",
        "\n",
        "# Check if the folder was created successfully\n",
        "if (file.exists(new_folder_path)) {\n",
        "  cat(\"Folder created:\", new_folder_path, \"\\n\")\n",
        "} else {\n",
        "  cat(\"Failed to create folder:\", new_folder_path, \"\\n\")\n",
        "}\n",
        "\n",
        "\n",
        "# Use dir.create to create the new folder\n",
        "dir.create(new_folder_path2, showWarnings = FALSE)\n",
        "# Check if the folder was created successfully\n",
        "if (file.exists(new_folder_path2)) {\n",
        "  cat(\"Folder created:\", new_folder_path2, \"\\n\")\n",
        "} else {\n",
        "  cat(\"Failed to create folder:\", new_folder_path2, \"\\n\")\n",
        "}"
      ],
      "metadata": {
        "colab": {
          "base_uri": "https://localhost:8080/"
        },
        "id": "D-dfCgGBOacd",
        "outputId": "a66eaf34-16db-4f77-c7e9-5acbb0f8a9af"
      },
      "execution_count": 272,
      "outputs": [
        {
          "output_type": "stream",
          "name": "stdout",
          "text": [
            "Folder created: /content/waipio2019/Images \n",
            "Folder created: /content/waipio2019/Labels \n"
          ]
        }
      ]
    },
    {
      "cell_type": "code",
      "source": [
        "result_dt <-\n",
        "1:nrow(extract_grid) %>% lapply(function(x){\n",
        "\n",
        "  nrow <- 0\n",
        "  ncol <- 0\n",
        "  i <- 0\n",
        "  while(nrow !=512 | ncol != 512){\n",
        "    i <- i + 1\n",
        "    # Calculate the geographic coordinates for the cropping extent\n",
        "    xmin <- xFromCol(ccap_raster, extract_grid[x,]$x_org) + rnorm(1)*.01*2.4\n",
        "    xmax <- xFromCol(ccap_raster, extract_grid[x,]$x_end) + rnorm(1)*.01*2.4\n",
        "    ymin <- yFromRow(ccap_raster, extract_grid[x,]$y_end) + rnorm(1)*.01*2.4 # Note row_max as raster origin is top-left\n",
        "    ymax <- yFromRow(ccap_raster, extract_grid[x,]$y_org) + rnorm(1)*.01*2.4 # Note row_min as raster origin is top-left\n",
        "\n",
        "    e <- extent(xmin, xmax, ymin, ymax)\n",
        "\n",
        "    ccap_cropped_raster <- crop(ccap_raster, e)\n",
        "\n",
        "    nrow <- nrow(ccap_cropped_raster)\n",
        "    ncol <- ncol(ccap_cropped_raster)\n",
        "\n",
        "\n",
        "    # print(dim(ccap_cropped_raster))\n",
        "    if(i>1000){return('failed to converge')}\n",
        "    }\n",
        "\n",
        "  ls_cropped_raster <- crop(planet_raster_extended, projectExtent(ccap_cropped_raster,planet_raster))\n",
        "\n",
        "  ls_resampled_raster <- projectRaster(ls_cropped_raster,ccap_cropped_raster)\n",
        "  print(ls_resampled_raster)\n",
        "  pixel_table <- (table(values(ccap_cropped_raster))/ncell(ccap_cropped_raster)) %>% data.table\n",
        "\n",
        "  names(pixel_table) <- c('label','percent')\n",
        "\n",
        "  out_dt <- data.table(extract_grid[x,],xmin = xmin,xmax =xmax,ymin= ymin,ymax, pixel_table)\n",
        "\n",
        "  if(ls_resampled_raster %>% nrow ==512 & ls_resampled_raster %>% ncol ==512 & ccap_cropped_raster%>% nrow ==512 & ccap_cropped_raster%>% ncol ==512){\n",
        "    ls_resampled_raster %>%\n",
        "    writeRaster(., paste(\"/content/waipio2019/Images/\",extract_grid[x,]$x_org,'_',extract_grid[x,]$y_org,'.tif',sep=''),overwrite=T)\n",
        "\n",
        "    ccap_cropped_raster %>%\n",
        "    writeRaster(., paste(\"/content/waipio2019/Labels/\",extract_grid[x,]$x_org,'_',extract_grid[x,]$y_org,'.tif',sep=''),overwrite=T)\n",
        "  }else(print('uh oh'))\n",
        "\n",
        "  return(out_dt)\n",
        "})\n",
        "result_dt[ result_dt %>% lapply(function(x){is.data.table(x)}) %>% unlist] %>% rbindlist %>%\n",
        "fwrite(\"/content/waipio2019/waipio2019.csv\")\n"
      ],
      "metadata": {
        "colab": {
          "base_uri": "https://localhost:8080/"
        },
        "id": "NyPfnmdROacd",
        "outputId": "ab9b5943-6bdc-486c-a3da-8a81cfeddf16"
      },
      "execution_count": 273,
      "outputs": [
        {
          "output_type": "stream",
          "name": "stdout",
          "text": [
            "class      : RasterBrick \n",
            "dimensions : 512, 512, 262144, 14  (nrow, ncol, ncell, nlayers)\n",
            "resolution : 2.4, 2.4  (x, y)\n",
            "extent     : 226466.3, 227695.1, 2226523, 2227752  (xmin, xmax, ymin, ymax)\n",
            "crs        : +proj=utm +zone=5 +datum=WGS84 +units=m +no_defs \n",
            "source     : memory\n",
            "names      :     Blue.1,     Blue.2,     Blue.3,     Blue.4,     Blue.5,     Blue.6,     Blue.7,     Blue.8,     Blue.9,    Blue.10,    Blue.11,    Blue.12,    Blue.13,    Blue.14 \n",
            "min values :  124.83295,  246.34435,  163.42258, 2472.59603,  725.12563,  339.29346,  223.53131,   84.87830,  187.65933,   87.96841, 2033.55230,  645.35552,  228.85899,  223.53131 \n",
            "max values :   307.9556,   712.9176,   463.9766,  5423.8226,  1993.6362,   899.6412,   548.1155,   293.4120,   723.5084,   456.9755,  5734.7463,  2262.5745,  1029.0048,   548.1155 \n",
            "\n",
            "class      : RasterBrick \n",
            "dimensions : 512, 512, 262144, 14  (nrow, ncol, ncell, nlayers)\n",
            "resolution : 2.4, 2.4  (x, y)\n",
            "extent     : 227695.1, 228923.9, 2226526, 2227755  (xmin, xmax, ymin, ymax)\n",
            "crs        : +proj=utm +zone=5 +datum=WGS84 +units=m +no_defs \n",
            "source     : memory\n",
            "names      :     Blue.1,     Blue.2,     Blue.3,     Blue.4,     Blue.5,     Blue.6,     Blue.7,     Blue.8,     Blue.9,    Blue.10,    Blue.11,    Blue.12,    Blue.13,    Blue.14 \n",
            "min values : 149.579520, 261.899831, 163.836174, 471.639125, 283.621492, 187.674018,  -4.773422, 118.739023, 229.984807, 125.959213, 159.582258, 119.699864,  91.760242,  -4.773422 \n",
            "max values :  2428.0583,  2805.4778,  2769.8134,  6167.3012,  2683.0620,  1402.3153,   436.6178,  1870.8765,  1881.5275,  1815.9737,  6105.2821,  3436.3751,  1835.7367,   436.6178 \n",
            "\n",
            "class      : RasterBrick \n",
            "dimensions : 512, 512, 262144, 14  (nrow, ncol, ncell, nlayers)\n",
            "resolution : 2.4, 2.4  (x, y)\n",
            "extent     : 228227.9, 229456.7, 2226526, 2227755  (xmin, xmax, ymin, ymax)\n",
            "crs        : +proj=utm +zone=5 +datum=WGS84 +units=m +no_defs \n",
            "source     : memory\n",
            "names      :     Blue.1,     Blue.2,     Blue.3,     Blue.4,     Blue.5,     Blue.6,     Blue.7,     Blue.8,     Blue.9,    Blue.10,    Blue.11,    Blue.12,    Blue.13,    Blue.14 \n",
            "min values : 133.038139, 244.625067, 141.028305, 471.639125, 283.621492, 187.674018,  -4.773422,  96.201774, 189.638303, 104.519400, 159.582258, 119.699864,  91.760242,  -4.773422 \n",
            "max values :  2428.0583,  2805.4778,  2769.8134,  5513.4091,  2667.8434,  1313.7851,   178.7397,  1870.8765,  1881.5275,  1874.5867,  5870.7520,  2636.9626,  1389.9669,   178.7397 \n",
            "\n",
            "class      : RasterBrick \n",
            "dimensions : 512, 512, 262144, 14  (nrow, ncol, ncell, nlayers)\n",
            "resolution : 2.4, 2.4  (x, y)\n",
            "extent     : 226466.3, 227695.1, 2225295, 2226523  (xmin, xmax, ymin, ymax)\n",
            "crs        : +proj=utm +zone=5 +datum=WGS84 +units=m +no_defs \n",
            "source     : memory\n",
            "names      :      Blue.1,      Blue.2,      Blue.3,      Blue.4,      Blue.5,      Blue.6,      Blue.7,      Blue.8,      Blue.9,     Blue.10,     Blue.11,     Blue.12,     Blue.13,     Blue.14 \n",
            "min values :  146.011723,  390.126649,  236.608282, 1993.668046, 1010.460498,  398.157108,    6.588446,  144.629617,  352.221688,  214.135538, 1895.562871,  803.895386,  361.828694,    6.588446 \n",
            "max values :    528.2914,   1028.8066,    936.9935,   5758.6146,   2610.5446,   1377.1781,    600.0000,    547.7285,    920.8175,    886.4436,   5922.6181,   2733.4004,   1383.4110,    600.0000 \n",
            "\n",
            "class      : RasterBrick \n",
            "dimensions : 512, 512, 262144, 14  (nrow, ncol, ncell, nlayers)\n",
            "resolution : 2.4, 2.4  (x, y)\n",
            "extent     : 227697.5, 228926.3, 2225297, 2226526  (xmin, xmax, ymin, ymax)\n",
            "crs        : +proj=utm +zone=5 +datum=WGS84 +units=m +no_defs \n",
            "source     : memory\n",
            "names      :      Blue.1,      Blue.2,      Blue.3,      Blue.4,      Blue.5,      Blue.6,      Blue.7,      Blue.8,      Blue.9,     Blue.10,     Blue.11,     Blue.12,     Blue.13,     Blue.14 \n",
            "min values :  132.952801,  359.012975,  199.230961, 1772.334131,  850.739858,  378.298034,    3.004423,  107.534292,  217.493450,  110.388472, 1157.912900,  466.842763,  240.299476,    3.004423 \n",
            "max values :    575.3263,   1009.9796,   1025.8691,   5954.1918,   2546.0451,   1651.4979,    209.1226,    425.4982,    955.9187,    727.5268,   6221.3023,   2777.0799,   1357.7769,    209.1226 \n",
            "\n",
            "class      : RasterBrick \n",
            "dimensions : 512, 512, 262144, 14  (nrow, ncol, ncell, nlayers)\n",
            "resolution : 2.4, 2.4  (x, y)\n",
            "extent     : 228227.9, 229456.7, 2225297, 2226526  (xmin, xmax, ymin, ymax)\n",
            "crs        : +proj=utm +zone=5 +datum=WGS84 +units=m +no_defs \n",
            "source     : memory\n",
            "names      :     Blue.1,     Blue.2,     Blue.3,     Blue.4,     Blue.5,     Blue.6,     Blue.7,     Blue.8,     Blue.9,    Blue.10,    Blue.11,    Blue.12,    Blue.13,    Blue.14 \n",
            "min values :   82.84836,  242.51334,  137.81408, 1209.64477,  682.56064,  231.10279,    3.00000,   83.26287,  197.50649,   99.44442, 1157.91290,  400.28856,  210.74244,    3.00000 \n",
            "max values :   485.8573,  1007.1437,   759.8511,  5526.7547,  2403.3541,  1449.0129,   433.7256,   425.4982,   944.2124,   601.3635,  5522.4833,  2333.9687,  1058.0314,   433.7256 \n",
            "\n",
            "class      : RasterBrick \n",
            "dimensions : 512, 512, 262144, 14  (nrow, ncol, ncell, nlayers)\n",
            "resolution : 2.4, 2.4  (x, y)\n",
            "extent     : 226466.3, 227695.1, 2224066, 2225295  (xmin, xmax, ymin, ymax)\n",
            "crs        : +proj=utm +zone=5 +datum=WGS84 +units=m +no_defs \n",
            "source     : memory\n",
            "names      :     Blue.1,     Blue.2,     Blue.3,     Blue.4,     Blue.5,     Blue.6,     Blue.7,     Blue.8,     Blue.9,    Blue.10,    Blue.11,    Blue.12,    Blue.13,    Blue.14 \n",
            "min values :  110.69687,  234.22744,  137.54834, 1553.79626,  636.38789,  295.42202,   12.03043,   41.39931,  101.10532,   40.72323,  697.44409,  237.36099,   98.65765,   12.03043 \n",
            "max values :   766.7597,  1154.2751,  1057.8470,  5941.2331,  2456.3056,  1615.9502,   553.0000,   437.5044,   806.2995,   683.8656,  6085.3852,  2711.0815,  1275.5378,   553.0000 \n",
            "\n",
            "class      : RasterBrick \n",
            "dimensions : 512, 512, 262144, 14  (nrow, ncol, ncell, nlayers)\n",
            "resolution : 2.4, 2.4  (x, y)\n",
            "extent     : 227697.5, 228926.3, 2224068, 2225297  (xmin, xmax, ymin, ymax)\n",
            "crs        : +proj=utm +zone=5 +datum=WGS84 +units=m +no_defs \n",
            "source     : memory\n",
            "names      :     Blue.1,     Blue.2,     Blue.3,     Blue.4,     Blue.5,     Blue.6,     Blue.7,     Blue.8,     Blue.9,    Blue.10,    Blue.11,    Blue.12,    Blue.13,    Blue.14 \n",
            "min values :  81.360119,  85.259829,  61.278676, 219.076876, 114.511628,  56.613366,   8.061846,  34.910708,  87.338283,  25.595799, 408.590868, 225.219368,  99.751896,   8.061846 \n",
            "max values :   499.1074,   917.5620,   785.7353,  5514.6631,  2673.1176,  1201.2504,   582.3462,   443.5669,   795.8362,   717.7673,  5516.8311,  2334.1149,  1066.6144,   582.3462 \n",
            "\n",
            "class      : RasterBrick \n",
            "dimensions : 512, 512, 262144, 14  (nrow, ncol, ncell, nlayers)\n",
            "resolution : 2.4, 2.4  (x, y)\n",
            "extent     : 228227.9, 229456.7, 2224066, 2225295  (xmin, xmax, ymin, ymax)\n",
            "crs        : +proj=utm +zone=5 +datum=WGS84 +units=m +no_defs \n",
            "source     : memory\n",
            "names      :    Blue.1,    Blue.2,    Blue.3,    Blue.4,    Blue.5,    Blue.6,    Blue.7,    Blue.8,    Blue.9,   Blue.10,   Blue.11,   Blue.12,   Blue.13,   Blue.14 \n",
            "min values :  81.36012,  85.25983,  61.27868, 219.07688, 114.51163,  56.61337,  30.83993,  34.91071,  87.33828,  42.54581, 408.59087, 264.78200, 130.09593,  30.83993 \n",
            "max values :  352.7977,  852.7291,  579.1392, 5514.6631, 2673.1176, 1201.2504,  576.0354,  364.8601,  753.4692,  537.6742, 5516.8311, 2334.1149, 1020.1592,  576.0354 \n",
            "\n",
            "class      : RasterBrick \n",
            "dimensions : 512, 512, 262144, 14  (nrow, ncol, ncell, nlayers)\n",
            "resolution : 2.4, 2.4  (x, y)\n",
            "extent     : 226468.7, 227697.5, 2223096, 2224325  (xmin, xmax, ymin, ymax)\n",
            "crs        : +proj=utm +zone=5 +datum=WGS84 +units=m +no_defs \n",
            "source     : memory\n",
            "names      :     Blue.1,     Blue.2,     Blue.3,     Blue.4,     Blue.5,     Blue.6,     Blue.7,     Blue.8,     Blue.9,    Blue.10,    Blue.11,    Blue.12,    Blue.13,    Blue.14 \n",
            "min values :   91.02921,  198.08488,  102.83099, 1295.08807,  520.36880,  240.83270,   23.55155,   27.17147,   89.72421,   28.39703,  539.26411,  156.74259,   74.86343,   23.55155 \n",
            "max values :   408.9579,   804.2614,   719.7812,  5333.2146,  2430.3032,  1195.8308,   682.9985,   437.8649,   787.4151,   675.7796,  5023.5288,  2760.0915,  1277.4880,   682.9985 \n",
            "\n",
            "class      : RasterBrick \n",
            "dimensions : 512, 512, 262144, 14  (nrow, ncol, ncell, nlayers)\n",
            "resolution : 2.4, 2.4  (x, y)\n",
            "extent     : 227695.1, 228923.9, 2223096, 2224325  (xmin, xmax, ymin, ymax)\n",
            "crs        : +proj=utm +zone=5 +datum=WGS84 +units=m +no_defs \n",
            "source     : memory\n",
            "names      :    Blue.1,    Blue.2,    Blue.3,    Blue.4,    Blue.5,    Blue.6,    Blue.7,    Blue.8,    Blue.9,   Blue.10,   Blue.11,   Blue.12,   Blue.13,   Blue.14 \n",
            "min values :  78.11757,  85.25983,  61.27868, 219.07688, 114.51163,  56.61337, 239.82813,  21.94793,  83.74412,  16.21922, 408.59087, 204.31322,  93.13541, 239.82813 \n",
            "max values :  399.4108,  729.6049,  636.9533, 5359.7118, 2683.5642, 1238.1115,  667.0000,  394.0678,  620.1948,  512.0710, 4603.2188, 2089.5842,  970.3349,  667.0000 \n",
            "\n",
            "class      : RasterBrick \n",
            "dimensions : 512, 512, 262144, 14  (nrow, ncol, ncell, nlayers)\n",
            "resolution : 2.4, 2.4  (x, y)\n",
            "extent     : 228230.3, 229459.1, 2223094, 2224323  (xmin, xmax, ymin, ymax)\n",
            "crs        : +proj=utm +zone=5 +datum=WGS84 +units=m +no_defs \n",
            "source     : memory\n",
            "names      :    Blue.1,    Blue.2,    Blue.3,    Blue.4,    Blue.5,    Blue.6,    Blue.7,    Blue.8,    Blue.9,   Blue.10,   Blue.11,   Blue.12,   Blue.13,   Blue.14 \n",
            "min values :  81.36012,  85.25983,  61.27868, 219.07688, 114.51163,  56.61337, 273.52727,  34.91071,  87.33828,  46.69896, 408.59087, 264.78200, 130.09593, 273.52727 \n",
            "max values :  401.7083,  729.6049,  636.9533, 5310.4137, 2680.1355, 1224.1109,  641.0000,  394.0678,  614.6462,  529.5783, 4603.2188, 2089.5842, 1002.2919,  641.0000 \n",
            "\n"
          ]
        }
      ]
    },
    {
      "cell_type": "code",
      "source": [
        "zip(zipfile = \"/content/waipio2019.zip\",\n",
        "    files = c(\"/content/waipio2019/Images\",\n",
        "              \"/content/waipio2019/Labels\",\n",
        "              \"/content/waipio2019/waipio2019.csv\"))"
      ],
      "metadata": {
        "colab": {
          "base_uri": "https://localhost:8080/"
        },
        "id": "M2sVYGanOacd",
        "outputId": "d617ed36-774c-42cb-fa4e-c3e5b662ecf6"
      },
      "execution_count": 274,
      "outputs": [
        {
          "output_type": "stream",
          "name": "stderr",
          "text": [
            "Warning message in fix_absolute_paths(data$key):\n",
            "“Dropping leading `/` from paths, all paths in a zip file must be relative paths.”\n"
          ]
        }
      ]
    },
    {
      "cell_type": "code",
      "source": [
        "# save to processed_data https://drive.google.com/drive/folders/?usp=drive_link\n",
        "drive_upload(media = \"/content/waipio2019.zip\", path = as_id(\"16L0tZprsxCXcltp-UgkuISTL3rvX8KAV\"))"
      ],
      "metadata": {
        "colab": {
          "base_uri": "https://localhost:8080/"
        },
        "id": "aoeheH6BOacd",
        "outputId": "f6043ec8-b92e-4aa0-c1d8-a16371c85e7a"
      },
      "execution_count": 275,
      "outputs": [
        {
          "output_type": "stream",
          "name": "stderr",
          "text": [
            "Local file:\n",
            "\n",
            "• \u001b[34m/content/waipio2019.zip\u001b[39m\n",
            "\n",
            "Uploaded into Drive file:\n",
            "\n",
            "• \u001b[36mwaipio2019.zip\u001b[39m \u001b[90m<id: 1zeEzOxMVrjzejs53EKmoK-cCPPtwRpu1>\u001b[39m\n",
            "\n",
            "With MIME type:\n",
            "\n",
            "• \u001b[32mapplication/zip\u001b[39m\n",
            "\n"
          ]
        }
      ]
    },
    {
      "cell_type": "markdown",
      "source": [
        "## 2020 Cell"
      ],
      "metadata": {
        "id": "QFgxklcQO6Gq"
      }
    },
    {
      "cell_type": "code",
      "source": [
        "dir.create('/content/waipio2020/')"
      ],
      "metadata": {
        "id": "bqod2-LDPOID"
      },
      "execution_count": 276,
      "outputs": []
    },
    {
      "cell_type": "code",
      "source": [
        "# Planet Labs\n",
        "drive_download(file = as_id('1M3YbhiTp5SAyA6wdIN0WJOOTXJ0YW6kx'), path =  '/content/waipio2020/01.tif', overwrite = TRUE)\n",
        "drive_download(file = as_id('1H79RinBHRNE2CGeubpMLl0sBIyoWr9aL'), path =  '/content/waipio2020/02.tif', overwrite = TRUE)\n",
        "# drive_download(file = as_id('1LzedXLqQKpKNrRuiHbVGX7uA3NpZqrPc'), path =  '/content/waihee2020/03.tif', overwrite = TRUE)\n",
        "# drive_download(file = as_id('1mENXEvZUkpFO5xSk2zX9xJ5rQOWDHzvc'), path =  '/content/waihee2020/04.tif', overwrite = TRUE)\n",
        "\n",
        "# https://drive.google.com/open?id=&usp=drive_copy\n",
        "# https://drive.google.com/open?id=&usp=drive_copy"
      ],
      "metadata": {
        "colab": {
          "base_uri": "https://localhost:8080/"
        },
        "id": "xPX7-68nPOIJ",
        "outputId": "51b597d3-4373-4560-af4d-2488bc8bf51e"
      },
      "execution_count": 277,
      "outputs": [
        {
          "output_type": "stream",
          "name": "stderr",
          "text": [
            "File downloaded:\n",
            "\n",
            "• \u001b[36mwaipio2020_01.tif\u001b[39m \u001b[90m<id: 1M3YbhiTp5SAyA6wdIN0WJOOTXJ0YW6kx>\u001b[39m\n",
            "\n",
            "Saved locally as:\n",
            "\n",
            "• \u001b[34m/content/waipio2020/01.tif\u001b[39m\n",
            "\n",
            "File downloaded:\n",
            "\n",
            "• \u001b[36mwaipio2020_02.tif\u001b[39m \u001b[90m<id: 1H79RinBHRNE2CGeubpMLl0sBIyoWr9aL>\u001b[39m\n",
            "\n",
            "Saved locally as:\n",
            "\n",
            "• \u001b[34m/content/waipio2020/02.tif\u001b[39m\n",
            "\n"
          ]
        }
      ]
    },
    {
      "cell_type": "code",
      "source": [
        "# planet <- stack ('/content/kaluaapuhi2020/09.tif')\n",
        "# planet[[1]] %>% plot"
      ],
      "metadata": {
        "id": "QpyeFpe2TcbB"
      },
      "execution_count": 278,
      "outputs": []
    },
    {
      "cell_type": "code",
      "source": [
        "planet_raster <-stack(\n",
        "  '/content/waipio2020/01.tif',\n",
        "'/content/waipio2020/02.tif')\n",
        "# '/content/waihee2020/03.tif',\n",
        "# '/content/waihee2020/04.tif')"
      ],
      "metadata": {
        "id": "5_s2Z1IQPOIK"
      },
      "execution_count": 279,
      "outputs": []
    },
    {
      "cell_type": "code",
      "source": [
        "planet_raster_extended <- extend(planet_raster, projectExtent(ccap_raster, planet_raster), value=NA)"
      ],
      "metadata": {
        "id": "BmuJC0yYPOIK"
      },
      "execution_count": 280,
      "outputs": []
    },
    {
      "cell_type": "code",
      "source": [
        "ccap_raster\n",
        "planet_raster"
      ],
      "metadata": {
        "colab": {
          "base_uri": "https://localhost:8080/",
          "height": 225
        },
        "id": "7UUolwFEPOIK",
        "outputId": "9fe8f8a0-4f8e-4075-931d-4fcbfe4a92bd"
      },
      "execution_count": 281,
      "outputs": [
        {
          "output_type": "display_data",
          "data": {
            "text/plain": [
              "class      : RasterStack \n",
              "dimensions : 1942, 1247, 2421674, 1  (nrow, ncol, ncell, nlayers)\n",
              "resolution : 2.4, 2.4  (x, y)\n",
              "extent     : 226466.3, 229459.1, 2223094, 2227755  (xmin, xmax, ymin, ymax)\n",
              "crs        : +proj=utm +zone=5 +datum=WGS84 +units=m +no_defs \n",
              "names      : Layer_1 \n"
            ]
          },
          "metadata": {}
        },
        {
          "output_type": "display_data",
          "data": {
            "text/plain": [
              "class      : RasterStack \n",
              "dimensions : 156, 105, 16380, 14  (nrow, ncol, ncell, nlayers)\n",
              "resolution : 0.0002694946, 0.0002694946  (x, y)\n",
              "extent     : -155.6159, -155.5876, 20.0857, 20.12774  (xmin, xmax, ymin, ymax)\n",
              "crs        : +proj=longlat +datum=WGS84 +no_defs \n",
              "names      : Blue.1, Blue.2, Blue.3, Blue.4, Blue.5, Blue.6, Blue.7, Blue.8, Blue.9, Blue.10, Blue.11, Blue.12, Blue.13, Blue.14 \n"
            ]
          },
          "metadata": {}
        }
      ]
    },
    {
      "cell_type": "code",
      "source": [
        "planet_raster [[1]]%>% plot"
      ],
      "metadata": {
        "colab": {
          "base_uri": "https://localhost:8080/",
          "height": 437
        },
        "id": "rSCMwrU7POIK",
        "outputId": "c1531454-e330-4e88-fe42-93d41d079642"
      },
      "execution_count": 282,
      "outputs": [
        {
          "output_type": "display_data",
          "data": {
            "text/plain": [
              "Plot with title “”"
            ],
            "image/png": "[encoded data removed]"
          },
          "metadata": {
            "image/png": {
              "width": 420,
              "height": 420
            }
          }
        }
      ]
    },
    {
      "cell_type": "code",
      "source": [
        "ccap_raster %>% plot"
      ],
      "metadata": {
        "colab": {
          "base_uri": "https://localhost:8080/",
          "height": 437
        },
        "id": "NIusXet8POIK",
        "outputId": "71446f6a-3307-431c-db3e-6469914232ff"
      },
      "execution_count": 283,
      "outputs": [
        {
          "output_type": "display_data",
          "data": {
            "text/plain": [
              "Plot with title “”"
            ],
            "image/png": "[encoded data removed]"
          },
          "metadata": {
            "image/png": {
              "width": 420,
              "height": 420
            }
          }
        }
      ]
    },
    {
      "cell_type": "code",
      "source": [
        "ncol(ccap_raster)\n",
        "\n",
        "nrow(ccap_raster)\n",
        "\n",
        "\n",
        "y_end <- c(seq(1,ccap_raster %>% nrow,512),nrow(ccap_raster))[-1]\n",
        "x_end <- c(seq(1,ccap_raster %>% ncol,512),ncol(ccap_raster))[-1]\n",
        "\n",
        "extract_grid <- expand.grid(x_end,y_end) %>% data.table\n",
        "\n",
        "names(extract_grid) <- c('x_end','y_end')\n",
        "\n",
        "extract_grid$x_org <- extract_grid$x_end - 512\n",
        "extract_grid$y_org <- extract_grid$y_end - 512\n",
        "\n",
        "extract_grid$id <- 1:nrow(extract_grid)"
      ],
      "metadata": {
        "colab": {
          "base_uri": "https://localhost:8080/",
          "height": 52
        },
        "id": "v4ycpfVwPOIK",
        "outputId": "5adf8f37-369a-4efd-fafb-43837091f2d2"
      },
      "execution_count": 284,
      "outputs": [
        {
          "output_type": "display_data",
          "data": {
            "text/html": [
              "1247"
            ],
            "text/markdown": "1247",
            "text/latex": "1247",
            "text/plain": [
              "[1] 1247"
            ]
          },
          "metadata": {}
        },
        {
          "output_type": "display_data",
          "data": {
            "text/html": [
              "1942"
            ],
            "text/markdown": "1942",
            "text/latex": "1942",
            "text/plain": [
              "[1] 1942"
            ]
          },
          "metadata": {}
        }
      ]
    },
    {
      "cell_type": "code",
      "source": [
        "# dir.create('/TrainingData/Niihau')\n",
        "# Specify the path for the new folder/directory\n",
        "new_folder_path <- \"/content/waipio2020/Images\"\n",
        "new_folder_path2 <- \"/content/waipio2020/Labels\"\n",
        "# Use dir.create to create the new folder\n",
        "dir.create(new_folder_path, showWarnings = FALSE)\n",
        "\n",
        "# Check if the folder was created successfully\n",
        "if (file.exists(new_folder_path)) {\n",
        "  cat(\"Folder created:\", new_folder_path, \"\\n\")\n",
        "} else {\n",
        "  cat(\"Failed to create folder:\", new_folder_path, \"\\n\")\n",
        "}\n",
        "\n",
        "\n",
        "# Use dir.create to create the new folder\n",
        "dir.create(new_folder_path2, showWarnings = FALSE)\n",
        "# Check if the folder was created successfully\n",
        "if (file.exists(new_folder_path2)) {\n",
        "  cat(\"Folder created:\", new_folder_path2, \"\\n\")\n",
        "} else {\n",
        "  cat(\"Failed to create folder:\", new_folder_path2, \"\\n\")\n",
        "}"
      ],
      "metadata": {
        "colab": {
          "base_uri": "https://localhost:8080/"
        },
        "id": "BbpNSeNVPOIK",
        "outputId": "6bb17795-9dc2-495d-a7e7-02bb32e8f042"
      },
      "execution_count": 285,
      "outputs": [
        {
          "output_type": "stream",
          "name": "stdout",
          "text": [
            "Folder created: /content/waipio2020/Images \n",
            "Folder created: /content/waipio2020/Labels \n"
          ]
        }
      ]
    },
    {
      "cell_type": "code",
      "source": [
        "result_dt <-\n",
        "1:nrow(extract_grid) %>% lapply(function(x){\n",
        "\n",
        "  nrow <- 0\n",
        "  ncol <- 0\n",
        "  i <- 0\n",
        "  while(nrow !=512 | ncol != 512){\n",
        "    i <- i + 1\n",
        "    # Calculate the geographic coordinates for the cropping extent\n",
        "    xmin <- xFromCol(ccap_raster, extract_grid[x,]$x_org) + rnorm(1)*.01*2.4\n",
        "    xmax <- xFromCol(ccap_raster, extract_grid[x,]$x_end) + rnorm(1)*.01*2.4\n",
        "    ymin <- yFromRow(ccap_raster, extract_grid[x,]$y_end) + rnorm(1)*.01*2.4 # Note row_max as raster origin is top-left\n",
        "    ymax <- yFromRow(ccap_raster, extract_grid[x,]$y_org) + rnorm(1)*.01*2.4 # Note row_min as raster origin is top-left\n",
        "\n",
        "    e <- extent(xmin, xmax, ymin, ymax)\n",
        "\n",
        "    ccap_cropped_raster <- crop(ccap_raster, e)\n",
        "\n",
        "    nrow <- nrow(ccap_cropped_raster)\n",
        "    ncol <- ncol(ccap_cropped_raster)\n",
        "\n",
        "\n",
        "    # print(dim(ccap_cropped_raster))\n",
        "    if(i>1000){return('failed to converge')}\n",
        "    }\n",
        "\n",
        "  ls_cropped_raster <- crop(planet_raster_extended, projectExtent(ccap_cropped_raster,planet_raster))\n",
        "\n",
        "  ls_resampled_raster <- projectRaster(ls_cropped_raster,ccap_cropped_raster)\n",
        "  print(ls_resampled_raster)\n",
        "  pixel_table <- (table(values(ccap_cropped_raster))/ncell(ccap_cropped_raster)) %>% data.table\n",
        "\n",
        "  names(pixel_table) <- c('label','percent')\n",
        "\n",
        "  out_dt <- data.table(extract_grid[x,],xmin = xmin,xmax =xmax,ymin= ymin,ymax, pixel_table)\n",
        "\n",
        "  if(ls_resampled_raster %>% nrow ==512 & ls_resampled_raster %>% ncol ==512 & ccap_cropped_raster%>% nrow ==512 & ccap_cropped_raster%>% ncol ==512){\n",
        "    ls_resampled_raster %>%\n",
        "    writeRaster(., paste(\"/content/waipio2020/Images/\",extract_grid[x,]$x_org,'_',extract_grid[x,]$y_org,'.tif',sep=''),overwrite=T)\n",
        "\n",
        "    ccap_cropped_raster %>%\n",
        "    writeRaster(., paste(\"/content/waipio2020/Labels/\",extract_grid[x,]$x_org,'_',extract_grid[x,]$y_org,'.tif',sep=''),overwrite=T)\n",
        "  }else(print('uh oh'))\n",
        "\n",
        "  return(out_dt)\n",
        "})\n",
        "result_dt[ result_dt %>% lapply(function(x){is.data.table(x)}) %>% unlist] %>% rbindlist %>%\n",
        "fwrite(\"/content/waipio2020/waipio2020.csv\")\n"
      ],
      "metadata": {
        "colab": {
          "base_uri": "https://localhost:8080/"
        },
        "id": "oV1H8ZaMPOIL",
        "outputId": "20869ec3-ff15-4279-d909-ac065fbfa93a"
      },
      "execution_count": 286,
      "outputs": [
        {
          "output_type": "stream",
          "name": "stdout",
          "text": [
            "class      : RasterBrick \n",
            "dimensions : 512, 512, 262144, 14  (nrow, ncol, ncell, nlayers)\n",
            "resolution : 2.4, 2.4  (x, y)\n",
            "extent     : 226468.7, 227697.5, 2226523, 2227752  (xmin, xmax, ymin, ymax)\n",
            "crs        : +proj=utm +zone=5 +datum=WGS84 +units=m +no_defs \n",
            "source     : memory\n",
            "names      :     Blue.1,     Blue.2,     Blue.3,     Blue.4,     Blue.5,     Blue.6,     Blue.7,     Blue.8,     Blue.9,    Blue.10,    Blue.11,    Blue.12,    Blue.13,    Blue.14 \n",
            "min values :   94.51142,  201.38702,  105.53752, 1192.75950,  478.53824,  253.48491,  221.55792,   68.78100,  166.19168,  100.46619, 1783.12369,  637.54826,  257.69397,  221.55792 \n",
            "max values :   346.5949,   739.2916,   522.3371,  4977.2836,  2029.8533,   924.3741,   548.1155,   296.0000,   665.2479,   453.8177,  5318.8349,  2082.1244,   889.7932,   548.1155 \n",
            "\n",
            "class      : RasterBrick \n",
            "dimensions : 512, 512, 262144, 14  (nrow, ncol, ncell, nlayers)\n",
            "resolution : 2.4, 2.4  (x, y)\n",
            "extent     : 227697.5, 228926.3, 2226526, 2227755  (xmin, xmax, ymin, ymax)\n",
            "crs        : +proj=utm +zone=5 +datum=WGS84 +units=m +no_defs \n",
            "source     : memory\n",
            "names      :     Blue.1,     Blue.2,     Blue.3,     Blue.4,     Blue.5,     Blue.6,     Blue.7,     Blue.8,     Blue.9,    Blue.10,    Blue.11,    Blue.12,    Blue.13,    Blue.14 \n",
            "min values : 105.022229, 174.859902,  86.550569, 166.000000, 121.015096,  95.000000,  -4.773422, 106.326060, 193.611720, 123.196210, 186.164640, 130.370515,  78.744354,  -4.773422 \n",
            "max values :  3797.4746,  3948.5237,  3899.1323,  6031.7868,  2758.7075,  1404.0788,   434.3094,  2258.2724,  2243.7720,  2092.5862,  5948.0846,  3013.5944,  1699.9276,   434.3094 \n",
            "\n",
            "class      : RasterBrick \n",
            "dimensions : 512, 512, 262144, 14  (nrow, ncol, ncell, nlayers)\n",
            "resolution : 2.4, 2.4  (x, y)\n",
            "extent     : 228230.3, 229459.1, 2226523, 2227752  (xmin, xmax, ymin, ymax)\n",
            "crs        : +proj=utm +zone=5 +datum=WGS84 +units=m +no_defs \n",
            "source     : memory\n",
            "names      :     Blue.1,     Blue.2,     Blue.3,     Blue.4,     Blue.5,     Blue.6,     Blue.7,     Blue.8,     Blue.9,    Blue.10,    Blue.11,    Blue.12,    Blue.13,    Blue.14 \n",
            "min values :  44.494511, 165.255819,  90.851501,  88.143096,  56.796324,  37.038513,  -4.773422, 116.817116, 183.018354, 123.196210, 186.164640, 130.370515,  78.744354,  -4.773422 \n",
            "max values :  3783.6524,  4060.8989,  3829.6224,  5799.5978,  2500.8465,  1253.8464,   178.6982,  2258.2724,  2243.7720,  2092.5862,  5687.2353,  2601.6727,  1449.3704,   178.6982 \n",
            "\n",
            "class      : RasterBrick \n",
            "dimensions : 512, 512, 262144, 14  (nrow, ncol, ncell, nlayers)\n",
            "resolution : 2.4, 2.4  (x, y)\n",
            "extent     : 226468.7, 227697.5, 2225297, 2226526  (xmin, xmax, ymin, ymax)\n",
            "crs        : +proj=utm +zone=5 +datum=WGS84 +units=m +no_defs \n",
            "source     : memory\n",
            "names      :      Blue.1,      Blue.2,      Blue.3,      Blue.4,      Blue.5,      Blue.6,      Blue.7,      Blue.8,      Blue.9,     Blue.10,     Blue.11,     Blue.12,     Blue.13,     Blue.14 \n",
            "min values :  118.018215,  254.193474,  167.126744, 1592.602057,  684.623213,  320.218915,    6.082198,  123.484977,  328.278514,  170.574572, 1208.035066,  593.152937,  347.250475,    6.082198 \n",
            "max values :    446.0900,    859.9127,    715.8362,   5620.2425,   2614.8686,   1320.8383,    600.0000,    453.1442,    876.9839,    755.7773,   5655.9605,   2575.4104,   1267.2930,    600.0000 \n",
            "\n",
            "class      : RasterBrick \n",
            "dimensions : 512, 512, 262144, 14  (nrow, ncol, ncell, nlayers)\n",
            "resolution : 2.4, 2.4  (x, y)\n",
            "extent     : 227695.1, 228923.9, 2225297, 2226526  (xmin, xmax, ymin, ymax)\n",
            "crs        : +proj=utm +zone=5 +datum=WGS84 +units=m +no_defs \n",
            "source     : memory\n",
            "names      :      Blue.1,      Blue.2,      Blue.3,      Blue.4,      Blue.5,      Blue.6,      Blue.7,      Blue.8,      Blue.9,     Blue.10,     Blue.11,     Blue.12,     Blue.13,     Blue.14 \n",
            "min values :   78.447747,  182.567215,  118.484339, 1138.930508,  429.740708,  203.102963,    3.004423,   83.865710,  198.349942,   97.443938, 1408.366249,  507.461768,  216.070842,    3.004423 \n",
            "max values :    436.1033,    975.2165,    772.3634,   5721.4052,   2480.2492,   1296.5730,    209.1226,    516.1316,    963.8328,    771.2555,   6204.7390,   2454.9178,   1190.5123,    209.1226 \n",
            "\n",
            "class      : RasterBrick \n",
            "dimensions : 512, 512, 262144, 14  (nrow, ncol, ncell, nlayers)\n",
            "resolution : 2.4, 2.4  (x, y)\n",
            "extent     : 228230.3, 229459.1, 2225297, 2226526  (xmin, xmax, ymin, ymax)\n",
            "crs        : +proj=utm +zone=5 +datum=WGS84 +units=m +no_defs \n",
            "source     : memory\n",
            "names      :     Blue.1,     Blue.2,     Blue.3,     Blue.4,     Blue.5,     Blue.6,     Blue.7,     Blue.8,     Blue.9,    Blue.10,    Blue.11,    Blue.12,    Blue.13,    Blue.14 \n",
            "min values :   75.16410,  140.62567,   85.93827,  793.29274,  275.88363,  159.98101,    3.00000,   62.15017,  190.64892,   90.38132, 1330.71530,  432.53649,  172.35557,    3.00000 \n",
            "max values :   407.5659,   842.4733,   772.3634,  5427.0044,  2480.2492,  1296.5730,   433.7256,   516.1316,   944.7770,   771.2555,  5861.9214,  2339.0200,  1137.3545,   433.7256 \n",
            "\n",
            "class      : RasterBrick \n",
            "dimensions : 512, 512, 262144, 14  (nrow, ncol, ncell, nlayers)\n",
            "resolution : 2.4, 2.4  (x, y)\n",
            "extent     : 226466.3, 227695.1, 2224066, 2225295  (xmin, xmax, ymin, ymax)\n",
            "crs        : +proj=utm +zone=5 +datum=WGS84 +units=m +no_defs \n",
            "source     : memory\n",
            "names      :    Blue.1,    Blue.2,    Blue.3,    Blue.4,    Blue.5,    Blue.6,    Blue.7,    Blue.8,    Blue.9,   Blue.10,   Blue.11,   Blue.12,   Blue.13,   Blue.14 \n",
            "min values :  37.32978, 112.53136,  57.43242, 812.34663, 305.52897, 111.23938,  12.03043,  44.42986, 109.83351,  57.47172, 939.30977, 346.11947, 124.89795,  12.03043 \n",
            "max values :  439.2163,  932.7678,  773.0006, 5843.6351, 2533.6880, 1380.5240,  553.0000,  574.0700,  968.3450,  816.7375, 6068.9917, 2418.6738, 1082.1328,  553.0000 \n",
            "\n",
            "class      : RasterBrick \n",
            "dimensions : 512, 512, 262144, 14  (nrow, ncol, ncell, nlayers)\n",
            "resolution : 2.4, 2.4  (x, y)\n",
            "extent     : 227695.1, 228923.9, 2224066, 2225295  (xmin, xmax, ymin, ymax)\n",
            "crs        : +proj=utm +zone=5 +datum=WGS84 +units=m +no_defs \n",
            "source     : memory\n",
            "names      :     Blue.1,     Blue.2,     Blue.3,     Blue.4,     Blue.5,     Blue.6,     Blue.7,     Blue.8,     Blue.9,    Blue.10,    Blue.11,    Blue.12,    Blue.13,    Blue.14 \n",
            "min values :  57.879332, 124.090758,  69.337747, 400.575019, 183.895609, 118.194121,   7.698888,  27.791841,  63.321357,  27.126322, 525.736444, 248.408071,  95.055551,   7.698888 \n",
            "max values :   432.9504,   762.1377,   641.5397,  5428.8467,  2155.7370,  1172.8680,   582.3462,   463.8029,   865.3103,   687.7913,  5714.4351,  2358.0604,  1171.9038,   582.3462 \n",
            "\n",
            "class      : RasterBrick \n",
            "dimensions : 512, 512, 262144, 14  (nrow, ncol, ncell, nlayers)\n",
            "resolution : 2.4, 2.4  (x, y)\n",
            "extent     : 228230.3, 229459.1, 2224068, 2225297  (xmin, xmax, ymin, ymax)\n",
            "crs        : +proj=utm +zone=5 +datum=WGS84 +units=m +no_defs \n",
            "source     : memory\n",
            "names      :    Blue.1,    Blue.2,    Blue.3,    Blue.4,    Blue.5,    Blue.6,    Blue.7,    Blue.8,    Blue.9,   Blue.10,   Blue.11,   Blue.12,   Blue.13,   Blue.14 \n",
            "min values :  57.87933, 124.09076,  69.33775, 400.57502, 183.89561, 118.19412,  30.43797,  31.27862,  63.32136,  27.12632, 525.73644, 248.40807,  95.05555,  30.43797 \n",
            "max values :  361.0562,  754.8055,  555.8177, 4996.0633, 2155.7370,  969.0661,  575.5248,  322.8233,  812.0314,  521.7012, 5070.5938, 2358.0604,  999.4931,  575.5248 \n",
            "\n",
            "class      : RasterBrick \n",
            "dimensions : 512, 512, 262144, 14  (nrow, ncol, ncell, nlayers)\n",
            "resolution : 2.4, 2.4  (x, y)\n",
            "extent     : 226466.3, 227695.1, 2223096, 2224325  (xmin, xmax, ymin, ymax)\n",
            "crs        : +proj=utm +zone=5 +datum=WGS84 +units=m +no_defs \n",
            "source     : memory\n",
            "names      :    Blue.1,    Blue.2,    Blue.3,    Blue.4,    Blue.5,    Blue.6,    Blue.7,    Blue.8,    Blue.9,   Blue.10,   Blue.11,   Blue.12,   Blue.13,   Blue.14 \n",
            "min values :  35.39970, 108.31529,  54.97772, 748.43033, 202.61094, 106.51724,  23.55155,  42.57097,  91.41114,  46.54600, 864.75712, 286.94332,  93.43287,  23.55155 \n",
            "max values :  540.5155,  932.7678,  805.6393, 5105.0164, 2593.6991, 1380.5240,  682.9985,  390.3438,  698.7304,  583.0590, 5360.7975, 2424.4920, 1082.1328,  682.9985 \n",
            "\n",
            "class      : RasterBrick \n",
            "dimensions : 512, 512, 262144, 14  (nrow, ncol, ncell, nlayers)\n",
            "resolution : 2.4, 2.4  (x, y)\n",
            "extent     : 227697.5, 228926.3, 2223096, 2224325  (xmin, xmax, ymin, ymax)\n",
            "crs        : +proj=utm +zone=5 +datum=WGS84 +units=m +no_defs \n",
            "source     : memory\n",
            "names      :    Blue.1,    Blue.2,    Blue.3,    Blue.4,    Blue.5,    Blue.6,    Blue.7,    Blue.8,    Blue.9,   Blue.10,   Blue.11,   Blue.12,   Blue.13,   Blue.14 \n",
            "min values :  24.50020, 125.55886,  66.13642, 400.57502, 183.89561, 130.20513, 239.82813,  27.53205,  63.32136,  24.68625, 525.73644, 242.68461,  95.05555, 239.82813 \n",
            "max values :  476.1636,  740.3122,  652.3570, 4393.7384, 2155.6651,  986.8312,  667.0000,  244.2161,  615.5549,  457.3564, 5104.5770, 2410.6192, 1041.5995,  667.0000 \n",
            "\n",
            "class      : RasterBrick \n",
            "dimensions : 512, 512, 262144, 14  (nrow, ncol, ncell, nlayers)\n",
            "resolution : 2.4, 2.4  (x, y)\n",
            "extent     : 228227.9, 229456.7, 2223096, 2224325  (xmin, xmax, ymin, ymax)\n",
            "crs        : +proj=utm +zone=5 +datum=WGS84 +units=m +no_defs \n",
            "source     : memory\n",
            "names      :    Blue.1,    Blue.2,    Blue.3,    Blue.4,    Blue.5,    Blue.6,    Blue.7,    Blue.8,    Blue.9,   Blue.10,   Blue.11,   Blue.12,   Blue.13,   Blue.14 \n",
            "min values :  15.19942, 125.55886,  74.33059, 400.57502, 183.89561, 130.20513, 267.23177,  16.21353,  63.32136,  24.68625, 525.73644, 242.68461,  95.05555, 267.23177 \n",
            "max values :  293.3455,  641.5809,  558.5967, 4401.3157, 2155.6651, 1004.8981,  641.0000,  244.2161,  615.5549,  458.6677, 5104.5770, 2410.6192, 1041.5995,  641.0000 \n",
            "\n"
          ]
        }
      ]
    },
    {
      "cell_type": "code",
      "source": [
        "zip(zipfile = \"/content/waipio2020.zip\",\n",
        "    files = c(\"/content/waipio2020/Images\",\n",
        "              \"/content/waipio2020/Labels\",\n",
        "              \"/content/waipio2020/waipio2020.csv\"))"
      ],
      "metadata": {
        "colab": {
          "base_uri": "https://localhost:8080/"
        },
        "id": "uOl2RYHMPOIL",
        "outputId": "48a316b5-3502-44ec-b286-c0b3d0ee8193"
      },
      "execution_count": 287,
      "outputs": [
        {
          "output_type": "stream",
          "name": "stderr",
          "text": [
            "Warning message in fix_absolute_paths(data$key):\n",
            "“Dropping leading `/` from paths, all paths in a zip file must be relative paths.”\n"
          ]
        }
      ]
    },
    {
      "cell_type": "code",
      "source": [
        "# save to processed_data https://drive.google.com/drive/folders/?usp=drive_link\n",
        "drive_upload(media = \"/content/waipio2020.zip\", path = as_id(\"16L0tZprsxCXcltp-UgkuISTL3rvX8KAV\"))"
      ],
      "metadata": {
        "colab": {
          "base_uri": "https://localhost:8080/"
        },
        "id": "xglYH0kqPOIL",
        "outputId": "88648583-c586-497a-a246-609a476950ca"
      },
      "execution_count": 288,
      "outputs": [
        {
          "output_type": "stream",
          "name": "stderr",
          "text": [
            "Local file:\n",
            "\n",
            "• \u001b[34m/content/waipio2020.zip\u001b[39m\n",
            "\n",
            "Uploaded into Drive file:\n",
            "\n",
            "• \u001b[36mwaipio2020.zip\u001b[39m \u001b[90m<id: 1cmumrN6tRQVM9GCd9r8R__3OwBmJz7JS>\u001b[39m\n",
            "\n",
            "With MIME type:\n",
            "\n",
            "• \u001b[32mapplication/zip\u001b[39m\n",
            "\n"
          ]
        }
      ]
    },
    {
      "cell_type": "code",
      "source": [
        "stoppppp"
      ],
      "metadata": {
        "id": "PKM5V3XM0x8x",
        "outputId": "bbfc79e9-c24f-44ba-dc6e-97c5e5f50096",
        "colab": {
          "base_uri": "https://localhost:8080/",
          "height": 106
        }
      },
      "execution_count": 289,
      "outputs": [
        {
          "output_type": "error",
          "ename": "ERROR",
          "evalue": "Error in eval(expr, envir, enclos): object 'stoppppp' not found\n",
          "traceback": [
            "Error in eval(expr, envir, enclos): object 'stoppppp' not found\nTraceback:\n"
          ]
        }
      ]
    },
    {
      "cell_type": "markdown",
      "source": [
        "### *2nd* 2018 cells"
      ],
      "metadata": {
        "id": "5AexYRJ5eH0a"
      }
    },
    {
      "cell_type": "code",
      "source": [
        "dir.create('/content/wailua_opaekaa2018/')"
      ],
      "metadata": {
        "id": "NUTy7Sd_eFsH"
      },
      "execution_count": null,
      "outputs": []
    },
    {
      "cell_type": "code",
      "source": [
        "# kahuku\n",
        "# CCAP:  https://drive.google.com/file/d/15C9JfgvPGz9p0Zv48UK0odbMQMqgZXAE/view?usp=drive_link\n",
        "drive_download(file = as_id('15C9JfgvPGz9p0Zv48UK0odbMQMqgZXAE'), path =  '/content/wailua_opaekaa2018/wailua_opaekaa2018_ccap.tif', overwrite = TRUE)"
      ],
      "metadata": {
        "id": "lE1rymI8eFsN"
      },
      "execution_count": null,
      "outputs": []
    },
    {
      "cell_type": "code",
      "source": [
        "# Planet Labs:\n",
        "drive_download(file = as_id('1TGoghVIQ3Ubih0msM24gwdhNxZuU8qc4'), path =  '/content/wailua_opaekaa2018/01.tif', overwrite = TRUE)\n",
        "drive_download(file = as_id('1tmGdhRocimTjv_-5UNIU6XtHi9fT5NaK'), path =  '/content/wailua_opaekaa2018/02.tif', overwrite = TRUE)\n",
        "drive_download(file = as_id('1xGPx9vuSMDbt6AaF89YJQwgXVqYp8QIK'), path =  '/content/wailua_opaekaa2018/03.tif', overwrite = TRUE)\n",
        "drive_download(file = as_id('1Xu_LPT9HXLIQIpJmZfx7ila8IS9jaqg3'), path =  '/content/wailua_opaekaa2018/04.tif', overwrite = TRUE)\n",
        "\n",
        "\n",
        "# https://drive.google.com/open?id=&usp=drive_copy\n",
        "# https://drive.google.com/open?id=&usp=drive_copy\n",
        "# https://drive.google.com/open?id=&usp=drive_copy\n",
        "# https://drive.google.com/open?id=&usp=drive_copy"
      ],
      "metadata": {
        "id": "kh5iHPqueFsN"
      },
      "execution_count": null,
      "outputs": []
    },
    {
      "cell_type": "code",
      "source": [
        "planet_raster <-stack(\n",
        "  '/content/wailua_opaekaa2018/01.tif',\n",
        "'/content/wailua_opaekaa2018/02.tif',\n",
        "'/content/wailua_opaekaa2018/03.tif',\n",
        "'/content/wailua_opaekaa2018/04.tif')"
      ],
      "metadata": {
        "id": "0IdxS4dpeFsN"
      },
      "execution_count": null,
      "outputs": []
    },
    {
      "cell_type": "code",
      "source": [
        "ccap_raster <- stack('/content/wailua_opaekaa2018/wailua_opaekaa2018_ccap.tif')"
      ],
      "metadata": {
        "id": "RKcAcj0JeFsN"
      },
      "execution_count": null,
      "outputs": []
    },
    {
      "cell_type": "code",
      "source": [
        "planet_raster_extended <- extend(planet_raster, projectExtent(ccap_raster, planet_raster), value=NA)"
      ],
      "metadata": {
        "id": "ppJ8bv0weFsN"
      },
      "execution_count": null,
      "outputs": []
    },
    {
      "cell_type": "code",
      "source": [
        "ccap_raster\n",
        "planet_raster"
      ],
      "metadata": {
        "id": "hREx0PzAeFsN"
      },
      "execution_count": null,
      "outputs": []
    },
    {
      "cell_type": "code",
      "source": [
        "planet_raster [[1]]%>% plot"
      ],
      "metadata": {
        "id": "Qdn1LghleFsN"
      },
      "execution_count": null,
      "outputs": []
    },
    {
      "cell_type": "code",
      "source": [
        "ccap_raster %>% plot"
      ],
      "metadata": {
        "id": "AklAGTHdeFsO"
      },
      "execution_count": null,
      "outputs": []
    },
    {
      "cell_type": "code",
      "source": [
        "ncol(ccap_raster)\n",
        "\n",
        "nrow(ccap_raster)\n",
        "\n",
        "\n",
        "y_end <- c(seq(1,ccap_raster %>% nrow,512),nrow(ccap_raster))[-1]\n",
        "x_end <- c(seq(1,ccap_raster %>% ncol,512),ncol(ccap_raster))[-1]\n",
        "\n",
        "extract_grid <- expand.grid(x_end,y_end) %>% data.table\n",
        "\n",
        "names(extract_grid) <- c('x_end','y_end')\n",
        "\n",
        "extract_grid$x_org <- extract_grid$x_end - 512\n",
        "extract_grid$y_org <- extract_grid$y_end - 512\n",
        "\n",
        "extract_grid$id <- 1:nrow(extract_grid)"
      ],
      "metadata": {
        "id": "qhoxHZk6eFsO"
      },
      "execution_count": null,
      "outputs": []
    },
    {
      "cell_type": "code",
      "source": [
        "# dir.create('/TrainingData/Niihau')\n",
        "# Specify the path for the new folder/directory\n",
        "new_folder_path <- \"/content/wailua_opaekaa2018/Images\"\n",
        "new_folder_path2 <- \"/content/wailua_opaekaa2018/Labels\"\n",
        "# Use dir.create to create the new folder\n",
        "dir.create(new_folder_path, showWarnings = FALSE)\n",
        "\n",
        "# Check if the folder was created successfully\n",
        "if (file.exists(new_folder_path)) {\n",
        "  cat(\"Folder created:\", new_folder_path, \"\\n\")\n",
        "} else {\n",
        "  cat(\"Failed to create folder:\", new_folder_path, \"\\n\")\n",
        "}\n",
        "\n",
        "\n",
        "# Use dir.create to create the new folder\n",
        "dir.create(new_folder_path2, showWarnings = FALSE)\n",
        "# Check if the folder was created successfully\n",
        "if (file.exists(new_folder_path2)) {\n",
        "  cat(\"Folder created:\", new_folder_path2, \"\\n\")\n",
        "} else {\n",
        "  cat(\"Failed to create folder:\", new_folder_path2, \"\\n\")\n",
        "}"
      ],
      "metadata": {
        "id": "a_YTpKsFeFsO"
      },
      "execution_count": null,
      "outputs": []
    },
    {
      "cell_type": "code",
      "source": [
        "result_dt <-\n",
        "1:nrow(extract_grid) %>% lapply(function(x){\n",
        "\n",
        "  nrow <- 0\n",
        "  ncol <- 0\n",
        "  i <- 0\n",
        "  while(nrow !=512 | ncol != 512){\n",
        "    i <- i + 1\n",
        "    # Calculate the geographic coordinates for the cropping extent\n",
        "    xmin <- xFromCol(ccap_raster, extract_grid[x,]$x_org) + rnorm(1)*.01*2.4\n",
        "    xmax <- xFromCol(ccap_raster, extract_grid[x,]$x_end) + rnorm(1)*.01*2.4\n",
        "    ymin <- yFromRow(ccap_raster, extract_grid[x,]$y_end) + rnorm(1)*.01*2.4 # Note row_max as raster origin is top-left\n",
        "    ymax <- yFromRow(ccap_raster, extract_grid[x,]$y_org) + rnorm(1)*.01*2.4 # Note row_min as raster origin is top-left\n",
        "\n",
        "    e <- extent(xmin, xmax, ymin, ymax)\n",
        "\n",
        "    ccap_cropped_raster <- crop(ccap_raster, e)\n",
        "\n",
        "    nrow <- nrow(ccap_cropped_raster)\n",
        "    ncol <- ncol(ccap_cropped_raster)\n",
        "\n",
        "\n",
        "    # print(dim(ccap_cropped_raster))\n",
        "    if(i>1000){return('failed to converge')}\n",
        "    }\n",
        "\n",
        "  ls_cropped_raster <- crop(planet_raster_extended, projectExtent(ccap_cropped_raster,planet_raster))\n",
        "\n",
        "  ls_resampled_raster <- projectRaster(ls_cropped_raster,ccap_cropped_raster)\n",
        "  print(ls_resampled_raster)\n",
        "  pixel_table <- (table(values(ccap_cropped_raster))/ncell(ccap_cropped_raster)) %>% data.table\n",
        "\n",
        "  names(pixel_table) <- c('label','percent')\n",
        "\n",
        "  out_dt <- data.table(extract_grid[x,],xmin = xmin,xmax =xmax,ymin= ymin,ymax, pixel_table)\n",
        "\n",
        "  if(ls_resampled_raster %>% nrow ==512 & ls_resampled_raster %>% ncol ==512 & ccap_cropped_raster%>% nrow ==512 & ccap_cropped_raster%>% ncol ==512){\n",
        "    ls_resampled_raster %>%\n",
        "    writeRaster(., paste(\"/content/wailua_opaekaa2018/Images/\",extract_grid[x,]$x_org,'_',extract_grid[x,]$y_org,'.tif',sep=''),overwrite=T)\n",
        "\n",
        "    ccap_cropped_raster %>%\n",
        "    writeRaster(., paste(\"/content/wailua_opaekaa2018/Labels/\",extract_grid[x,]$x_org,'_',extract_grid[x,]$y_org,'.tif',sep=''),overwrite=T)\n",
        "  }else(print('uh oh'))\n",
        "\n",
        "  return(out_dt)\n",
        "})\n",
        "result_dt[ result_dt %>% lapply(function(x){is.data.table(x)}) %>% unlist] %>% rbindlist %>%\n",
        "fwrite(\"/content/wailua_opaekaa2018/wailua_opaekaa2018.csv\")\n"
      ],
      "metadata": {
        "id": "OxY0dgdZeFsO"
      },
      "execution_count": null,
      "outputs": []
    },
    {
      "cell_type": "code",
      "source": [
        "zip(zipfile = \"/content/wailua_opaekaa2018.zip\",\n",
        "    files = c(\"/content/wailua_opaekaa2018/Images\",\n",
        "              \"/content/wailua_opaekaa2018/Labels\",\n",
        "              \"/content/wailua_opaekaa2018/wailua_opaekaa2018.csv\"))"
      ],
      "metadata": {
        "id": "CWXKW-DkeFsO"
      },
      "execution_count": null,
      "outputs": []
    },
    {
      "cell_type": "code",
      "source": [
        "# save to processed_data https://drive.google.com/drive/folders/16L0tZprsxCXcltp-UgkuISTL3rvX8KAV?usp=drive_link\n",
        "drive_upload(media = \"/content/wailua_opaekaa2018.zip\", path = as_id(\"16L0tZprsxCXcltp-UgkuISTL3rvX8KAV\"))"
      ],
      "metadata": {
        "id": "iADtiruveFsO"
      },
      "execution_count": null,
      "outputs": []
    },
    {
      "cell_type": "markdown",
      "source": [
        "### 2nd 2019 cells\n"
      ],
      "metadata": {
        "id": "wAQSqsnVeOmS"
      }
    },
    {
      "cell_type": "code",
      "source": [
        "dir.create('/content/wailua_opaekaa2019/')"
      ],
      "metadata": {
        "id": "-GT_ZvuBePvl"
      },
      "execution_count": null,
      "outputs": []
    },
    {
      "cell_type": "code",
      "source": [
        "# Planet Labs:\n",
        "drive_download(file = as_id('1EE1QkJmx_U9M6Sl6TQgd32MHDkx09ebe'), path =  '/content/wailua_opaekaa2019/01.tif', overwrite = TRUE)\n",
        "drive_download(file = as_id('1Yb3W5wLUJ0SfY_0n8YoSudQVt8NJITzL'), path =  '/content/wailua_opaekaa2019/02.tif', overwrite = TRUE)\n",
        "drive_download(file = as_id('1AgTQkxOWsAC_o9mjqzcqHiefWfmwlU83'), path =  '/content/wailua_opaekaa2019/03.tif', overwrite = TRUE)\n",
        "drive_download(file = as_id('1BXCCnL9mJBL_CchrjEpUT3RhYKg_ymwz'), path =  '/content/wailua_opaekaa2019/04.tif', overwrite = TRUE)\n",
        "\n",
        "# https://drive.google.com/open?id=&usp=drive_copy\n",
        "# https://drive.google.com/open?id=&usp=drive_copy\n",
        "# https://drive.google.com/open?id=&usp=drive_copy\n",
        "# https://drive.google.com/open?id=&usp=drive_copy"
      ],
      "metadata": {
        "id": "uhq06RxtePvm"
      },
      "execution_count": null,
      "outputs": []
    },
    {
      "cell_type": "code",
      "source": [
        "planet_raster <-stack(\n",
        "  '/content/wailua_opaekaa2019/01.tif',\n",
        "'/content/wailua_opaekaa2019/02.tif',\n",
        "'/content/wailua_opaekaa2019/03.tif',\n",
        "'/content/wailua_opaekaa2019/04.tif')"
      ],
      "metadata": {
        "id": "jsLexM2mePvm"
      },
      "execution_count": null,
      "outputs": []
    },
    {
      "cell_type": "code",
      "source": [
        "planet_raster_extended <- extend(planet_raster, projectExtent(ccap_raster, planet_raster), value=NA)"
      ],
      "metadata": {
        "id": "9ii91fEfePvm"
      },
      "execution_count": null,
      "outputs": []
    },
    {
      "cell_type": "code",
      "source": [
        "ccap_raster\n",
        "planet_raster"
      ],
      "metadata": {
        "id": "KHPmjOS_ePvm"
      },
      "execution_count": null,
      "outputs": []
    },
    {
      "cell_type": "code",
      "source": [
        "planet_raster [[1]]%>% plot"
      ],
      "metadata": {
        "id": "kl4Kls5oePvm"
      },
      "execution_count": null,
      "outputs": []
    },
    {
      "cell_type": "code",
      "source": [
        "ccap_raster %>% plot"
      ],
      "metadata": {
        "id": "3CMZ8xoXePvm"
      },
      "execution_count": null,
      "outputs": []
    },
    {
      "cell_type": "code",
      "source": [
        "ncol(ccap_raster)\n",
        "\n",
        "nrow(ccap_raster)\n",
        "\n",
        "\n",
        "y_end <- c(seq(1,ccap_raster %>% nrow,512),nrow(ccap_raster))[-1]\n",
        "x_end <- c(seq(1,ccap_raster %>% ncol,512),ncol(ccap_raster))[-1]\n",
        "\n",
        "extract_grid <- expand.grid(x_end,y_end) %>% data.table\n",
        "\n",
        "names(extract_grid) <- c('x_end','y_end')\n",
        "\n",
        "extract_grid$x_org <- extract_grid$x_end - 512\n",
        "extract_grid$y_org <- extract_grid$y_end - 512\n",
        "\n",
        "extract_grid$id <- 1:nrow(extract_grid)"
      ],
      "metadata": {
        "id": "MBF1q2qpePvm"
      },
      "execution_count": null,
      "outputs": []
    },
    {
      "cell_type": "code",
      "source": [
        "# dir.create('/TrainingData/Niihau')\n",
        "# Specify the path for the new folder/directory\n",
        "new_folder_path <- \"/content/wailua_opaekaa2019/Images\"\n",
        "new_folder_path2 <- \"/content/wailua_opaekaa2019/Labels\"\n",
        "# Use dir.create to create the new folder\n",
        "dir.create(new_folder_path, showWarnings = FALSE)\n",
        "\n",
        "# Check if the folder was created successfully\n",
        "if (file.exists(new_folder_path)) {\n",
        "  cat(\"Folder created:\", new_folder_path, \"\\n\")\n",
        "} else {\n",
        "  cat(\"Failed to create folder:\", new_folder_path, \"\\n\")\n",
        "}\n",
        "\n",
        "\n",
        "# Use dir.create to create the new folder\n",
        "dir.create(new_folder_path2, showWarnings = FALSE)\n",
        "# Check if the folder was created successfully\n",
        "if (file.exists(new_folder_path2)) {\n",
        "  cat(\"Folder created:\", new_folder_path2, \"\\n\")\n",
        "} else {\n",
        "  cat(\"Failed to create folder:\", new_folder_path2, \"\\n\")\n",
        "}"
      ],
      "metadata": {
        "id": "aDxrO2jqePvn"
      },
      "execution_count": null,
      "outputs": []
    },
    {
      "cell_type": "code",
      "source": [
        "result_dt <-\n",
        "1:nrow(extract_grid) %>% lapply(function(x){\n",
        "\n",
        "  nrow <- 0\n",
        "  ncol <- 0\n",
        "  i <- 0\n",
        "  while(nrow !=512 | ncol != 512){\n",
        "    i <- i + 1\n",
        "    # Calculate the geographic coordinates for the cropping extent\n",
        "    xmin <- xFromCol(ccap_raster, extract_grid[x,]$x_org) + rnorm(1)*.01*2.4\n",
        "    xmax <- xFromCol(ccap_raster, extract_grid[x,]$x_end) + rnorm(1)*.01*2.4\n",
        "    ymin <- yFromRow(ccap_raster, extract_grid[x,]$y_end) + rnorm(1)*.01*2.4 # Note row_max as raster origin is top-left\n",
        "    ymax <- yFromRow(ccap_raster, extract_grid[x,]$y_org) + rnorm(1)*.01*2.4 # Note row_min as raster origin is top-left\n",
        "\n",
        "    e <- extent(xmin, xmax, ymin, ymax)\n",
        "\n",
        "    ccap_cropped_raster <- crop(ccap_raster, e)\n",
        "\n",
        "    nrow <- nrow(ccap_cropped_raster)\n",
        "    ncol <- ncol(ccap_cropped_raster)\n",
        "\n",
        "\n",
        "    # print(dim(ccap_cropped_raster))\n",
        "    if(i>1000){return('failed to converge')}\n",
        "    }\n",
        "\n",
        "  ls_cropped_raster <- crop(planet_raster_extended, projectExtent(ccap_cropped_raster,planet_raster))\n",
        "\n",
        "  ls_resampled_raster <- projectRaster(ls_cropped_raster,ccap_cropped_raster)\n",
        "  print(ls_resampled_raster)\n",
        "  pixel_table <- (table(values(ccap_cropped_raster))/ncell(ccap_cropped_raster)) %>% data.table\n",
        "\n",
        "  names(pixel_table) <- c('label','percent')\n",
        "\n",
        "  out_dt <- data.table(extract_grid[x,],xmin = xmin,xmax =xmax,ymin= ymin,ymax, pixel_table)\n",
        "\n",
        "  if(ls_resampled_raster %>% nrow ==512 & ls_resampled_raster %>% ncol ==512 & ccap_cropped_raster%>% nrow ==512 & ccap_cropped_raster%>% ncol ==512){\n",
        "    ls_resampled_raster %>%\n",
        "    writeRaster(., paste(\"/content/wailua_opaekaa2019/Images/\",extract_grid[x,]$x_org,'_',extract_grid[x,]$y_org,'.tif',sep=''),overwrite=T)\n",
        "\n",
        "    ccap_cropped_raster %>%\n",
        "    writeRaster(., paste(\"/content/wailua_opaekaa2019/Labels/\",extract_grid[x,]$x_org,'_',extract_grid[x,]$y_org,'.tif',sep=''),overwrite=T)\n",
        "  }else(print('uh oh'))\n",
        "\n",
        "  return(out_dt)\n",
        "})\n",
        "result_dt[ result_dt %>% lapply(function(x){is.data.table(x)}) %>% unlist] %>% rbindlist %>%\n",
        "fwrite(\"/content/wailua_opaekaa2019/wailua_opaekaa2019.csv\")\n"
      ],
      "metadata": {
        "id": "O9xIVuVNePvn"
      },
      "execution_count": null,
      "outputs": []
    },
    {
      "cell_type": "code",
      "source": [
        "zip(zipfile = \"/content/wailua_opaekaa2019.zip\",\n",
        "    files = c(\"/content/wailua_opaekaa2019/Images\",\n",
        "              \"/content/wailua_opaekaa2019/Labels\",\n",
        "              \"/content/wailua_opaekaa2019/wailua_opaekaa2019.csv\"))"
      ],
      "metadata": {
        "id": "kb9gcQWEePvn"
      },
      "execution_count": null,
      "outputs": []
    },
    {
      "cell_type": "code",
      "source": [
        "# save to processed_data https://drive.google.com/drive/folders/?usp=drive_link\n",
        "drive_upload(media = \"/content/wailua_opaekaa2019.zip\", path = as_id(\"16L0tZprsxCXcltp-UgkuISTL3rvX8KAV\"))"
      ],
      "metadata": {
        "id": "y4l6jGztePvn"
      },
      "execution_count": null,
      "outputs": []
    },
    {
      "cell_type": "markdown",
      "source": [
        "### 2nd 2020 cells\n"
      ],
      "metadata": {
        "id": "N3sEGjmveX-Z"
      }
    },
    {
      "cell_type": "code",
      "source": [
        "dir.create('/content/wailua_opaekaa2020/')"
      ],
      "metadata": {
        "id": "D9rsRr2SeZc_"
      },
      "execution_count": null,
      "outputs": []
    },
    {
      "cell_type": "code",
      "source": [
        "# Planet Labs:\n",
        "drive_download(file = as_id('1jJUfrKPuJZEv6wDdZCEPMTUqZjCR8X5a'), path =  '/content/wailua_opaekaa2020/01.tif', overwrite = TRUE)\n",
        "drive_download(file = as_id('1Peh35-xqUCd8DTWZiYr96IsDhYsDHAQg'), path =  '/content/wailua_opaekaa2020/02.tif', overwrite = TRUE)\n",
        "drive_download(file = as_id('1NhDrHWqlO_VxPef-bsBKzl2OVn13MJPr'), path =  '/content/wailua_opaekaa2020/03.tif', overwrite = TRUE)\n",
        "drive_download(file = as_id('1oGgT2M_V7_uHq7HrCYqBfUjiPG-jwh9N'), path =  '/content/wailua_opaekaa2020/04.tif', overwrite = TRUE)\n",
        "\n",
        "\n",
        "# https://drive.google.com/open?id=&usp=drive_copy\n",
        "# https://drive.google.com/open?id=&usp=drive_copy\n",
        "# https://drive.google.com/open?id=&usp=drive_copy\n",
        "# https://drive.google.com/open?id=&usp=drive_copy"
      ],
      "metadata": {
        "id": "oqb7iIs_eZdA"
      },
      "execution_count": null,
      "outputs": []
    },
    {
      "cell_type": "code",
      "source": [
        "# planet <- stack ('/content/kaluaapuhi2020/09.tif')\n",
        "# planet[[1]] %>% plot"
      ],
      "metadata": {
        "id": "srJ_qx1ieZdA"
      },
      "execution_count": null,
      "outputs": []
    },
    {
      "cell_type": "code",
      "source": [
        "planet_raster <-stack(\n",
        "  '/content/wailua_opaekaa2020/01.tif',\n",
        "'/content/wailua_opaekaa2020/02.tif',\n",
        "'/content/wailua_opaekaa2020/03.tif',\n",
        "'/content/wailua_opaekaa2020/04.tif')"
      ],
      "metadata": {
        "id": "_tNY8DHYeZdA"
      },
      "execution_count": null,
      "outputs": []
    },
    {
      "cell_type": "code",
      "source": [
        "planet_raster_extended <- extend(planet_raster, projectExtent(ccap_raster, planet_raster), value=NA)"
      ],
      "metadata": {
        "id": "9TmQQv1WeZdA"
      },
      "execution_count": null,
      "outputs": []
    },
    {
      "cell_type": "code",
      "source": [
        "ccap_raster\n",
        "planet_raster"
      ],
      "metadata": {
        "id": "NLv_fk1ceZdA"
      },
      "execution_count": null,
      "outputs": []
    },
    {
      "cell_type": "code",
      "source": [
        "planet_raster [[1]]%>% plot"
      ],
      "metadata": {
        "id": "mg8UH2cleZdA"
      },
      "execution_count": null,
      "outputs": []
    },
    {
      "cell_type": "code",
      "source": [
        "ccap_raster %>% plot"
      ],
      "metadata": {
        "id": "YaLQQi_eeZdA"
      },
      "execution_count": null,
      "outputs": []
    },
    {
      "cell_type": "code",
      "source": [
        "ncol(ccap_raster)\n",
        "\n",
        "nrow(ccap_raster)\n",
        "\n",
        "\n",
        "y_end <- c(seq(1,ccap_raster %>% nrow,512),nrow(ccap_raster))[-1]\n",
        "x_end <- c(seq(1,ccap_raster %>% ncol,512),ncol(ccap_raster))[-1]\n",
        "\n",
        "extract_grid <- expand.grid(x_end,y_end) %>% data.table\n",
        "\n",
        "names(extract_grid) <- c('x_end','y_end')\n",
        "\n",
        "extract_grid$x_org <- extract_grid$x_end - 512\n",
        "extract_grid$y_org <- extract_grid$y_end - 512\n",
        "\n",
        "extract_grid$id <- 1:nrow(extract_grid)"
      ],
      "metadata": {
        "id": "FJHknPUDeZdA"
      },
      "execution_count": null,
      "outputs": []
    },
    {
      "cell_type": "code",
      "source": [
        "# dir.create('/TrainingData/Niihau')\n",
        "# Specify the path for the new folder/directory\n",
        "new_folder_path <- \"/content/wailua_opaekaa2020/Images\"\n",
        "new_folder_path2 <- \"/content/wailua_opaekaa2020/Labels\"\n",
        "# Use dir.create to create the new folder\n",
        "dir.create(new_folder_path, showWarnings = FALSE)\n",
        "\n",
        "# Check if the folder was created successfully\n",
        "if (file.exists(new_folder_path)) {\n",
        "  cat(\"Folder created:\", new_folder_path, \"\\n\")\n",
        "} else {\n",
        "  cat(\"Failed to create folder:\", new_folder_path, \"\\n\")\n",
        "}\n",
        "\n",
        "\n",
        "# Use dir.create to create the new folder\n",
        "dir.create(new_folder_path2, showWarnings = FALSE)\n",
        "# Check if the folder was created successfully\n",
        "if (file.exists(new_folder_path2)) {\n",
        "  cat(\"Folder created:\", new_folder_path2, \"\\n\")\n",
        "} else {\n",
        "  cat(\"Failed to create folder:\", new_folder_path2, \"\\n\")\n",
        "}"
      ],
      "metadata": {
        "id": "UXvsh4NveZdB"
      },
      "execution_count": null,
      "outputs": []
    },
    {
      "cell_type": "code",
      "source": [
        "result_dt <-\n",
        "1:nrow(extract_grid) %>% lapply(function(x){\n",
        "\n",
        "  nrow <- 0\n",
        "  ncol <- 0\n",
        "  i <- 0\n",
        "  while(nrow !=512 | ncol != 512){\n",
        "    i <- i + 1\n",
        "    # Calculate the geographic coordinates for the cropping extent\n",
        "    xmin <- xFromCol(ccap_raster, extract_grid[x,]$x_org) + rnorm(1)*.01*2.4\n",
        "    xmax <- xFromCol(ccap_raster, extract_grid[x,]$x_end) + rnorm(1)*.01*2.4\n",
        "    ymin <- yFromRow(ccap_raster, extract_grid[x,]$y_end) + rnorm(1)*.01*2.4 # Note row_max as raster origin is top-left\n",
        "    ymax <- yFromRow(ccap_raster, extract_grid[x,]$y_org) + rnorm(1)*.01*2.4 # Note row_min as raster origin is top-left\n",
        "\n",
        "    e <- extent(xmin, xmax, ymin, ymax)\n",
        "\n",
        "    ccap_cropped_raster <- crop(ccap_raster, e)\n",
        "\n",
        "    nrow <- nrow(ccap_cropped_raster)\n",
        "    ncol <- ncol(ccap_cropped_raster)\n",
        "\n",
        "\n",
        "    # print(dim(ccap_cropped_raster))\n",
        "    if(i>1000){return('failed to converge')}\n",
        "    }\n",
        "\n",
        "  ls_cropped_raster <- crop(planet_raster_extended, projectExtent(ccap_cropped_raster,planet_raster))\n",
        "\n",
        "  ls_resampled_raster <- projectRaster(ls_cropped_raster,ccap_cropped_raster)\n",
        "  print(ls_resampled_raster)\n",
        "  pixel_table <- (table(values(ccap_cropped_raster))/ncell(ccap_cropped_raster)) %>% data.table\n",
        "\n",
        "  names(pixel_table) <- c('label','percent')\n",
        "\n",
        "  out_dt <- data.table(extract_grid[x,],xmin = xmin,xmax =xmax,ymin= ymin,ymax, pixel_table)\n",
        "\n",
        "  if(ls_resampled_raster %>% nrow ==512 & ls_resampled_raster %>% ncol ==512 & ccap_cropped_raster%>% nrow ==512 & ccap_cropped_raster%>% ncol ==512){\n",
        "    ls_resampled_raster %>%\n",
        "    writeRaster(., paste(\"/content/wailua_opaekaa2020/Images/\",extract_grid[x,]$x_org,'_',extract_grid[x,]$y_org,'.tif',sep=''),overwrite=T)\n",
        "\n",
        "    ccap_cropped_raster %>%\n",
        "    writeRaster(., paste(\"/content/wailua_opaekaa2020/Labels/\",extract_grid[x,]$x_org,'_',extract_grid[x,]$y_org,'.tif',sep=''),overwrite=T)\n",
        "  }else(print('uh oh'))\n",
        "\n",
        "  return(out_dt)\n",
        "})\n",
        "result_dt[ result_dt %>% lapply(function(x){is.data.table(x)}) %>% unlist] %>% rbindlist %>%\n",
        "fwrite(\"/content/wailua_opaekaa2020/wailua_opaekaa2020.csv\")\n"
      ],
      "metadata": {
        "id": "DH4ElmGheZdB"
      },
      "execution_count": null,
      "outputs": []
    },
    {
      "cell_type": "code",
      "source": [
        "zip(zipfile = \"/content/wailua_opaekaa2020.zip\",\n",
        "    files = c(\"/content/wailua_opaekaa2020/Images\",\n",
        "              \"/content/wailua_opaekaa2020/Labels\",\n",
        "              \"/content/wailua_opaekaa2020/wailua_opaekaa2020.csv\"))"
      ],
      "metadata": {
        "id": "2wbigMGaeZdB"
      },
      "execution_count": null,
      "outputs": []
    },
    {
      "cell_type": "code",
      "source": [
        "# save to processed_data https://drive.google.com/drive/folders/?usp=drive_link\n",
        "drive_upload(media = \"/content/wailua_opaekaa2020.zip\", path = as_id(\"16L0tZprsxCXcltp-UgkuISTL3rvX8KAV\"))"
      ],
      "metadata": {
        "id": "BQQuiLPPeZdB"
      },
      "execution_count": null,
      "outputs": []
    },
    {
      "cell_type": "markdown",
      "source": [
        "### 3rd 2018 cells"
      ],
      "metadata": {
        "id": "dkig9ak_ewyv"
      }
    },
    {
      "cell_type": "code",
      "source": [
        "dir.create('/content/waimanu2018/')"
      ],
      "metadata": {
        "id": "NeJ4u9xSewyv"
      },
      "execution_count": null,
      "outputs": []
    },
    {
      "cell_type": "code",
      "source": [
        "# kahuku\n",
        "# CCAP:  https://drive.google.com/file/d//view?usp=drive_link\n",
        "drive_download(file = as_id('1ou-uw7LTAnhSkC84BgCMVuzDxaN882kg'), path =  '/content/waimanu2018/waimanu2018_ccap.tif', overwrite = TRUE)"
      ],
      "metadata": {
        "id": "okDpkR0Eewyv"
      },
      "execution_count": null,
      "outputs": []
    },
    {
      "cell_type": "code",
      "source": [
        "# Planet Labs:\n",
        "drive_download(file = as_id('1w49Gn5g0Tnob4vXBZKVMkzDTldmKDd81'), path =  '/content/waimanu2018/01.tif', overwrite = TRUE)\n",
        "drive_download(file = as_id('1-Jltknos36S3jnlfcTfwSbQMDNI4fscM'), path =  '/content/waimanu2018/02.tif', overwrite = TRUE)\n",
        "drive_download(file = as_id('162dl0rTodML5Fux4lDyNwltxEgwZHL_p'), path =  '/content/waimanu2018/03.tif', overwrite = TRUE)\n",
        "drive_download(file = as_id('16B4lAdCC91Pp-mGZ1Hg-quB6x_5r9f--'), path =  '/content/waimanu2018/04.tif', overwrite = TRUE)\n",
        "\n",
        "\n",
        "# https://drive.google.com/open?id=&usp=drive_copy\n",
        "# https://drive.google.com/open?id=&usp=drive_copy\n",
        "# https://drive.google.com/open?id=&usp=drive_copy\n",
        "# https://drive.google.com/open?id=&usp=drive_copy"
      ],
      "metadata": {
        "id": "V8yt4qmjewyw"
      },
      "execution_count": null,
      "outputs": []
    },
    {
      "cell_type": "code",
      "source": [
        "planet_raster <-stack(\n",
        "  '/content/waimanu2018/01.tif',\n",
        "'/content/waimanu2018/02.tif',\n",
        "'/content/waimanu2018/03.tif',\n",
        "'/content/waimanu2018/04.tif')"
      ],
      "metadata": {
        "id": "CmdQYr2cewyw"
      },
      "execution_count": null,
      "outputs": []
    },
    {
      "cell_type": "code",
      "source": [
        "ccap_raster <- stack('/content/waimanu2018/waimanu2018_ccap.tif')"
      ],
      "metadata": {
        "id": "bS8gNZuEewyw"
      },
      "execution_count": null,
      "outputs": []
    },
    {
      "cell_type": "code",
      "source": [
        "planet_raster_extended <- extend(planet_raster, projectExtent(ccap_raster, planet_raster), value=NA)"
      ],
      "metadata": {
        "id": "5jz3fQVcewyw"
      },
      "execution_count": null,
      "outputs": []
    },
    {
      "cell_type": "code",
      "source": [
        "ccap_raster\n",
        "planet_raster"
      ],
      "metadata": {
        "id": "M9L1nJXZewyw"
      },
      "execution_count": null,
      "outputs": []
    },
    {
      "cell_type": "code",
      "source": [
        "planet_raster [[1]]%>% plot"
      ],
      "metadata": {
        "id": "rRqITuUgewyw"
      },
      "execution_count": null,
      "outputs": []
    },
    {
      "cell_type": "code",
      "source": [
        "ccap_raster %>% plot"
      ],
      "metadata": {
        "id": "tivJ6mfWewyw"
      },
      "execution_count": null,
      "outputs": []
    },
    {
      "cell_type": "code",
      "source": [
        "ncol(ccap_raster)\n",
        "\n",
        "nrow(ccap_raster)\n",
        "\n",
        "\n",
        "y_end <- c(seq(1,ccap_raster %>% nrow,512),nrow(ccap_raster))[-1]\n",
        "x_end <- c(seq(1,ccap_raster %>% ncol,512),ncol(ccap_raster))[-1]\n",
        "\n",
        "extract_grid <- expand.grid(x_end,y_end) %>% data.table\n",
        "\n",
        "names(extract_grid) <- c('x_end','y_end')\n",
        "\n",
        "extract_grid$x_org <- extract_grid$x_end - 512\n",
        "extract_grid$y_org <- extract_grid$y_end - 512\n",
        "\n",
        "extract_grid$id <- 1:nrow(extract_grid)"
      ],
      "metadata": {
        "id": "x6w9wyGeewyw"
      },
      "execution_count": null,
      "outputs": []
    },
    {
      "cell_type": "code",
      "source": [
        "# dir.create('/TrainingData/Niihau')\n",
        "# Specify the path for the new folder/directory\n",
        "new_folder_path <- \"/content/waimanu2018/Images\"\n",
        "new_folder_path2 <- \"/content/waimanu2018/Labels\"\n",
        "# Use dir.create to create the new folder\n",
        "dir.create(new_folder_path, showWarnings = FALSE)\n",
        "\n",
        "# Check if the folder was created successfully\n",
        "if (file.exists(new_folder_path)) {\n",
        "  cat(\"Folder created:\", new_folder_path, \"\\n\")\n",
        "} else {\n",
        "  cat(\"Failed to create folder:\", new_folder_path, \"\\n\")\n",
        "}\n",
        "\n",
        "\n",
        "# Use dir.create to create the new folder\n",
        "dir.create(new_folder_path2, showWarnings = FALSE)\n",
        "# Check if the folder was created successfully\n",
        "if (file.exists(new_folder_path2)) {\n",
        "  cat(\"Folder created:\", new_folder_path2, \"\\n\")\n",
        "} else {\n",
        "  cat(\"Failed to create folder:\", new_folder_path2, \"\\n\")\n",
        "}"
      ],
      "metadata": {
        "id": "dwXlKLlMewyw"
      },
      "execution_count": null,
      "outputs": []
    },
    {
      "cell_type": "code",
      "source": [
        "result_dt <-\n",
        "1:nrow(extract_grid) %>% lapply(function(x){\n",
        "\n",
        "  nrow <- 0\n",
        "  ncol <- 0\n",
        "  i <- 0\n",
        "  while(nrow !=512 | ncol != 512){\n",
        "    i <- i + 1\n",
        "    # Calculate the geographic coordinates for the cropping extent\n",
        "    xmin <- xFromCol(ccap_raster, extract_grid[x,]$x_org) + rnorm(1)*.01*2.4\n",
        "    xmax <- xFromCol(ccap_raster, extract_grid[x,]$x_end) + rnorm(1)*.01*2.4\n",
        "    ymin <- yFromRow(ccap_raster, extract_grid[x,]$y_end) + rnorm(1)*.01*2.4 # Note row_max as raster origin is top-left\n",
        "    ymax <- yFromRow(ccap_raster, extract_grid[x,]$y_org) + rnorm(1)*.01*2.4 # Note row_min as raster origin is top-left\n",
        "\n",
        "    e <- extent(xmin, xmax, ymin, ymax)\n",
        "\n",
        "    ccap_cropped_raster <- crop(ccap_raster, e)\n",
        "\n",
        "    nrow <- nrow(ccap_cropped_raster)\n",
        "    ncol <- ncol(ccap_cropped_raster)\n",
        "\n",
        "\n",
        "    # print(dim(ccap_cropped_raster))\n",
        "    if(i>1000){return('failed to converge')}\n",
        "    }\n",
        "\n",
        "  ls_cropped_raster <- crop(planet_raster_extended, projectExtent(ccap_cropped_raster,planet_raster))\n",
        "\n",
        "  ls_resampled_raster <- projectRaster(ls_cropped_raster,ccap_cropped_raster)\n",
        "  print(ls_resampled_raster)\n",
        "  pixel_table <- (table(values(ccap_cropped_raster))/ncell(ccap_cropped_raster)) %>% data.table\n",
        "\n",
        "  names(pixel_table) <- c('label','percent')\n",
        "\n",
        "  out_dt <- data.table(extract_grid[x,],xmin = xmin,xmax =xmax,ymin= ymin,ymax, pixel_table)\n",
        "\n",
        "  if(ls_resampled_raster %>% nrow ==512 & ls_resampled_raster %>% ncol ==512 & ccap_cropped_raster%>% nrow ==512 & ccap_cropped_raster%>% ncol ==512){\n",
        "    ls_resampled_raster %>%\n",
        "    writeRaster(., paste(\"/content/waimanu2018/Images/\",extract_grid[x,]$x_org,'_',extract_grid[x,]$y_org,'.tif',sep=''),overwrite=T)\n",
        "\n",
        "    ccap_cropped_raster %>%\n",
        "    writeRaster(., paste(\"/content/waimanu2018/Labels/\",extract_grid[x,]$x_org,'_',extract_grid[x,]$y_org,'.tif',sep=''),overwrite=T)\n",
        "  }else(print('uh oh'))\n",
        "\n",
        "  return(out_dt)\n",
        "})\n",
        "result_dt[ result_dt %>% lapply(function(x){is.data.table(x)}) %>% unlist] %>% rbindlist %>%\n",
        "fwrite(\"/content/waimanu2018/waimanu2018.csv\")\n"
      ],
      "metadata": {
        "id": "EkO9lHBDewyx"
      },
      "execution_count": null,
      "outputs": []
    },
    {
      "cell_type": "code",
      "source": [
        "zip(zipfile = \"/content/waimanu2018.zip\",\n",
        "    files = c(\"/content/waimanu2018/Images\",\n",
        "              \"/content/waimanu2018/Labels\",\n",
        "              \"/content/waimanu2018/waimanu2018.csv\"))"
      ],
      "metadata": {
        "id": "7iTUhNecewyx"
      },
      "execution_count": null,
      "outputs": []
    },
    {
      "cell_type": "code",
      "source": [
        "# save to processed_data https://drive.google.com/drive/folders/16L0tZprsxCXcltp-UgkuISTL3rvX8KAV?usp=drive_link\n",
        "drive_upload(media = \"/content/waimanu2018.zip\", path = as_id(\"16L0tZprsxCXcltp-UgkuISTL3rvX8KAV\"))"
      ],
      "metadata": {
        "id": "OeqYuUNQewyx"
      },
      "execution_count": null,
      "outputs": []
    },
    {
      "cell_type": "markdown",
      "source": [
        "### 3rd 2019 cells\n"
      ],
      "metadata": {
        "id": "n6vHdevYek8y"
      }
    },
    {
      "cell_type": "code",
      "source": [
        "dir.create('/content/waimanu2019/')"
      ],
      "metadata": {
        "id": "20ZuN85xemXJ"
      },
      "execution_count": null,
      "outputs": []
    },
    {
      "cell_type": "code",
      "source": [
        "# Planet Labs:\n",
        "drive_download(file = as_id('1pWMeURy2rEGhpE6i089fl7wpavJEs1-t'), path =  '/content/waimanu2019/01.tif', overwrite = TRUE)\n",
        "drive_download(file = as_id('1YMsRPEflmZIoqXbjeBDdP_VNo9FMohnF'), path =  '/content/waimanu2019/02.tif', overwrite = TRUE)\n",
        "drive_download(file = as_id('12Q2wekuVFQI9xaFuHjCPojHPN5O-bQNc'), path =  '/content/waimanu2019/03.tif', overwrite = TRUE)\n",
        "# drive_download(file = as_id('1pe9MCEhf2tkIDQqdHiT9rMs_PcatSrIP'), path =  '/content/waimanu2019/04.tif', overwrite = TRUE)\n",
        "\n",
        "# https://drive.google.com/open?id=&usp=drive_copy\n",
        "# https://drive.google.com/open?id=&usp=drive_copy\n",
        "# https://drive.google.com/open?id=&usp=drive_copy"
      ],
      "metadata": {
        "id": "z1u6AN0QemXJ"
      },
      "execution_count": null,
      "outputs": []
    },
    {
      "cell_type": "code",
      "source": [
        "planet_raster <-stack(\n",
        "  '/content/waimanu2019/01.tif',\n",
        "'/content/waimanu2019/02.tif',\n",
        "'/content/waimanu2019/03.tif')\n",
        "# '/content/pololu2019/04.tif')"
      ],
      "metadata": {
        "id": "VWzZ6MueemXJ"
      },
      "execution_count": null,
      "outputs": []
    },
    {
      "cell_type": "code",
      "source": [
        "planet_raster_extended <- extend(planet_raster, projectExtent(ccap_raster, planet_raster), value=NA)"
      ],
      "metadata": {
        "id": "Knj-vivTemXJ"
      },
      "execution_count": null,
      "outputs": []
    },
    {
      "cell_type": "code",
      "source": [
        "ccap_raster\n",
        "planet_raster"
      ],
      "metadata": {
        "id": "klc2Sd1QemXJ"
      },
      "execution_count": null,
      "outputs": []
    },
    {
      "cell_type": "code",
      "source": [
        "planet_raster [[1]]%>% plot"
      ],
      "metadata": {
        "id": "xrXkaXMVemXJ"
      },
      "execution_count": null,
      "outputs": []
    },
    {
      "cell_type": "code",
      "source": [
        "ccap_raster %>% plot"
      ],
      "metadata": {
        "id": "lTVPIuVPemXK"
      },
      "execution_count": null,
      "outputs": []
    },
    {
      "cell_type": "code",
      "source": [
        "ncol(ccap_raster)\n",
        "\n",
        "nrow(ccap_raster)\n",
        "\n",
        "\n",
        "y_end <- c(seq(1,ccap_raster %>% nrow,512),nrow(ccap_raster))[-1]\n",
        "x_end <- c(seq(1,ccap_raster %>% ncol,512),ncol(ccap_raster))[-1]\n",
        "\n",
        "extract_grid <- expand.grid(x_end,y_end) %>% data.table\n",
        "\n",
        "names(extract_grid) <- c('x_end','y_end')\n",
        "\n",
        "extract_grid$x_org <- extract_grid$x_end - 512\n",
        "extract_grid$y_org <- extract_grid$y_end - 512\n",
        "\n",
        "extract_grid$id <- 1:nrow(extract_grid)"
      ],
      "metadata": {
        "id": "ixHOz8lZemXK"
      },
      "execution_count": null,
      "outputs": []
    },
    {
      "cell_type": "code",
      "source": [
        "# dir.create('/TrainingData/Niihau')\n",
        "# Specify the path for the new folder/directory\n",
        "new_folder_path <- \"/content/waimanu2019/Images\"\n",
        "new_folder_path2 <- \"/content/waimanu2019/Labels\"\n",
        "# Use dir.create to create the new folder\n",
        "dir.create(new_folder_path, showWarnings = FALSE)\n",
        "\n",
        "# Check if the folder was created successfully\n",
        "if (file.exists(new_folder_path)) {\n",
        "  cat(\"Folder created:\", new_folder_path, \"\\n\")\n",
        "} else {\n",
        "  cat(\"Failed to create folder:\", new_folder_path, \"\\n\")\n",
        "}\n",
        "\n",
        "\n",
        "# Use dir.create to create the new folder\n",
        "dir.create(new_folder_path2, showWarnings = FALSE)\n",
        "# Check if the folder was created successfully\n",
        "if (file.exists(new_folder_path2)) {\n",
        "  cat(\"Folder created:\", new_folder_path2, \"\\n\")\n",
        "} else {\n",
        "  cat(\"Failed to create folder:\", new_folder_path2, \"\\n\")\n",
        "}"
      ],
      "metadata": {
        "id": "97R9OV8YemXK"
      },
      "execution_count": null,
      "outputs": []
    },
    {
      "cell_type": "code",
      "source": [
        "result_dt <-\n",
        "1:nrow(extract_grid) %>% lapply(function(x){\n",
        "\n",
        "  nrow <- 0\n",
        "  ncol <- 0\n",
        "  i <- 0\n",
        "  while(nrow !=512 | ncol != 512){\n",
        "    i <- i + 1\n",
        "    # Calculate the geographic coordinates for the cropping extent\n",
        "    xmin <- xFromCol(ccap_raster, extract_grid[x,]$x_org) + rnorm(1)*.01*2.4\n",
        "    xmax <- xFromCol(ccap_raster, extract_grid[x,]$x_end) + rnorm(1)*.01*2.4\n",
        "    ymin <- yFromRow(ccap_raster, extract_grid[x,]$y_end) + rnorm(1)*.01*2.4 # Note row_max as raster origin is top-left\n",
        "    ymax <- yFromRow(ccap_raster, extract_grid[x,]$y_org) + rnorm(1)*.01*2.4 # Note row_min as raster origin is top-left\n",
        "\n",
        "    e <- extent(xmin, xmax, ymin, ymax)\n",
        "\n",
        "    ccap_cropped_raster <- crop(ccap_raster, e)\n",
        "\n",
        "    nrow <- nrow(ccap_cropped_raster)\n",
        "    ncol <- ncol(ccap_cropped_raster)\n",
        "\n",
        "\n",
        "    # print(dim(ccap_cropped_raster))\n",
        "    if(i>1000){return('failed to converge')}\n",
        "    }\n",
        "\n",
        "  ls_cropped_raster <- crop(planet_raster_extended, projectExtent(ccap_cropped_raster,planet_raster))\n",
        "\n",
        "  ls_resampled_raster <- projectRaster(ls_cropped_raster,ccap_cropped_raster)\n",
        "  print(ls_resampled_raster)\n",
        "  pixel_table <- (table(values(ccap_cropped_raster))/ncell(ccap_cropped_raster)) %>% data.table\n",
        "\n",
        "  names(pixel_table) <- c('label','percent')\n",
        "\n",
        "  out_dt <- data.table(extract_grid[x,],xmin = xmin,xmax =xmax,ymin= ymin,ymax, pixel_table)\n",
        "\n",
        "  if(ls_resampled_raster %>% nrow ==512 & ls_resampled_raster %>% ncol ==512 & ccap_cropped_raster%>% nrow ==512 & ccap_cropped_raster%>% ncol ==512){\n",
        "    ls_resampled_raster %>%\n",
        "    writeRaster(., paste(\"/content/waimanu2019/Images/\",extract_grid[x,]$x_org,'_',extract_grid[x,]$y_org,'.tif',sep=''),overwrite=T)\n",
        "\n",
        "    ccap_cropped_raster %>%\n",
        "    writeRaster(., paste(\"/content/waimanu2019/Labels/\",extract_grid[x,]$x_org,'_',extract_grid[x,]$y_org,'.tif',sep=''),overwrite=T)\n",
        "  }else(print('uh oh'))\n",
        "\n",
        "  return(out_dt)\n",
        "})\n",
        "result_dt[ result_dt %>% lapply(function(x){is.data.table(x)}) %>% unlist] %>% rbindlist %>%\n",
        "fwrite(\"/content/waimanu2019/waimanu2019.csv\")\n"
      ],
      "metadata": {
        "id": "EPfG9yx0emXK"
      },
      "execution_count": null,
      "outputs": []
    },
    {
      "cell_type": "code",
      "source": [
        "zip(zipfile = \"/content/waimanu2019.zip\",\n",
        "    files = c(\"/content/waimanu2019/Images\",\n",
        "              \"/content/waimanu2019/Labels\",\n",
        "              \"/content/waimanu2019/waimanu2019.csv\"))"
      ],
      "metadata": {
        "id": "vmTLP5ndemXK"
      },
      "execution_count": null,
      "outputs": []
    },
    {
      "cell_type": "code",
      "source": [
        "# save to processed_data https://drive.google.com/drive/folders/?usp=drive_link\n",
        "drive_upload(media = \"/content/waimanu2019.zip\", path = as_id(\"16L0tZprsxCXcltp-UgkuISTL3rvX8KAV\"))"
      ],
      "metadata": {
        "id": "Bi9Cvz5VemXK"
      },
      "execution_count": null,
      "outputs": []
    },
    {
      "cell_type": "markdown",
      "source": [
        "### 3rd 2020 cells\n"
      ],
      "metadata": {
        "id": "XJ9ruDaUeb9y"
      }
    },
    {
      "cell_type": "code",
      "source": [
        "dir.create('/content/waimanu2020/')"
      ],
      "metadata": {
        "id": "u7fRfhuheee8"
      },
      "execution_count": null,
      "outputs": []
    },
    {
      "cell_type": "code",
      "source": [
        "# Planet Labs:\n",
        "drive_download(file = as_id('1UMRy7LLNZM4TRWQ-ZoBswp8VDWruUPlJ'), path =  '/content/waimanu2020/01.tif', overwrite = TRUE)\n",
        "drive_download(file = as_id('1zzXEm8uaVQMbDbqZxCXjeKvNWBdJenO4'), path =  '/content/waimanu2020/02.tif', overwrite = TRUE)\n",
        "drive_download(file = as_id('15UQ9_1hgrYFHWB2wvCdxe5-JQZbcjgN4'), path =  '/content/waimanu2020/03.tif', overwrite = TRUE)\n",
        "# drive_download(file = as_id('16noL_yWgoW41IbWJgiXF6u1hPrG2UFI1'), path =  '/content/pololu2020/04.tif', overwrite = TRUE)\n",
        "# https://drive.google.com/open?id=&usp=drive_copy\n",
        "# https://drive.google.com/open?id=&usp=drive_copy\n",
        "# https://drive.google.com/open?id=&usp=drive_copy"
      ],
      "metadata": {
        "id": "w1_sng4weefE"
      },
      "execution_count": null,
      "outputs": []
    },
    {
      "cell_type": "code",
      "source": [
        "# planet <- stack ('/content/kaluaapuhi2020/09.tif')\n",
        "# planet[[1]] %>% plot"
      ],
      "metadata": {
        "id": "6aDr3JEWeefE"
      },
      "execution_count": null,
      "outputs": []
    },
    {
      "cell_type": "code",
      "source": [
        "planet_raster <-stack(\n",
        "  '/content/waimanu2020/01.tif',\n",
        "'/content/waimanu2020/02.tif',\n",
        "'/content/waimanu2020/03.tif')\n",
        "# '/content/waimanu2020/04.tif')"
      ],
      "metadata": {
        "id": "lXFRe2MUeefE"
      },
      "execution_count": null,
      "outputs": []
    },
    {
      "cell_type": "code",
      "source": [
        "planet_raster_extended <- extend(planet_raster, projectExtent(ccap_raster, planet_raster), value=NA)"
      ],
      "metadata": {
        "id": "KL3YtRXaeefE"
      },
      "execution_count": null,
      "outputs": []
    },
    {
      "cell_type": "code",
      "source": [
        "ccap_raster\n",
        "planet_raster"
      ],
      "metadata": {
        "id": "1EAY_uKheefE"
      },
      "execution_count": null,
      "outputs": []
    },
    {
      "cell_type": "code",
      "source": [
        "planet_raster [[1]]%>% plot"
      ],
      "metadata": {
        "id": "n8B4fjHheefE"
      },
      "execution_count": null,
      "outputs": []
    },
    {
      "cell_type": "code",
      "source": [
        "ccap_raster %>% plot"
      ],
      "metadata": {
        "id": "gv8VtBsXeefE"
      },
      "execution_count": null,
      "outputs": []
    },
    {
      "cell_type": "code",
      "source": [
        "ncol(ccap_raster)\n",
        "\n",
        "nrow(ccap_raster)\n",
        "\n",
        "\n",
        "y_end <- c(seq(1,ccap_raster %>% nrow,512),nrow(ccap_raster))[-1]\n",
        "x_end <- c(seq(1,ccap_raster %>% ncol,512),ncol(ccap_raster))[-1]\n",
        "\n",
        "extract_grid <- expand.grid(x_end,y_end) %>% data.table\n",
        "\n",
        "names(extract_grid) <- c('x_end','y_end')\n",
        "\n",
        "extract_grid$x_org <- extract_grid$x_end - 512\n",
        "extract_grid$y_org <- extract_grid$y_end - 512\n",
        "\n",
        "extract_grid$id <- 1:nrow(extract_grid)"
      ],
      "metadata": {
        "id": "R7XuisL0eefF"
      },
      "execution_count": null,
      "outputs": []
    },
    {
      "cell_type": "code",
      "source": [
        "# dir.create('/TrainingData/Niihau')\n",
        "# Specify the path for the new folder/directory\n",
        "new_folder_path <- \"/content/waimanu2020/Images\"\n",
        "new_folder_path2 <- \"/content/waimanu2020/Labels\"\n",
        "# Use dir.create to create the new folder\n",
        "dir.create(new_folder_path, showWarnings = FALSE)\n",
        "\n",
        "# Check if the folder was created successfully\n",
        "if (file.exists(new_folder_path)) {\n",
        "  cat(\"Folder created:\", new_folder_path, \"\\n\")\n",
        "} else {\n",
        "  cat(\"Failed to create folder:\", new_folder_path, \"\\n\")\n",
        "}\n",
        "\n",
        "\n",
        "# Use dir.create to create the new folder\n",
        "dir.create(new_folder_path2, showWarnings = FALSE)\n",
        "# Check if the folder was created successfully\n",
        "if (file.exists(new_folder_path2)) {\n",
        "  cat(\"Folder created:\", new_folder_path2, \"\\n\")\n",
        "} else {\n",
        "  cat(\"Failed to create folder:\", new_folder_path2, \"\\n\")\n",
        "}"
      ],
      "metadata": {
        "id": "9WOBGYwteefF"
      },
      "execution_count": null,
      "outputs": []
    },
    {
      "cell_type": "code",
      "source": [
        "result_dt <-\n",
        "1:nrow(extract_grid) %>% lapply(function(x){\n",
        "\n",
        "  nrow <- 0\n",
        "  ncol <- 0\n",
        "  i <- 0\n",
        "  while(nrow !=512 | ncol != 512){\n",
        "    i <- i + 1\n",
        "    # Calculate the geographic coordinates for the cropping extent\n",
        "    xmin <- xFromCol(ccap_raster, extract_grid[x,]$x_org) + rnorm(1)*.01*2.4\n",
        "    xmax <- xFromCol(ccap_raster, extract_grid[x,]$x_end) + rnorm(1)*.01*2.4\n",
        "    ymin <- yFromRow(ccap_raster, extract_grid[x,]$y_end) + rnorm(1)*.01*2.4 # Note row_max as raster origin is top-left\n",
        "    ymax <- yFromRow(ccap_raster, extract_grid[x,]$y_org) + rnorm(1)*.01*2.4 # Note row_min as raster origin is top-left\n",
        "\n",
        "    e <- extent(xmin, xmax, ymin, ymax)\n",
        "\n",
        "    ccap_cropped_raster <- crop(ccap_raster, e)\n",
        "\n",
        "    nrow <- nrow(ccap_cropped_raster)\n",
        "    ncol <- ncol(ccap_cropped_raster)\n",
        "\n",
        "\n",
        "    # print(dim(ccap_cropped_raster))\n",
        "    if(i>1000){return('failed to converge')}\n",
        "    }\n",
        "\n",
        "  ls_cropped_raster <- crop(planet_raster_extended, projectExtent(ccap_cropped_raster,planet_raster))\n",
        "\n",
        "  ls_resampled_raster <- projectRaster(ls_cropped_raster,ccap_cropped_raster)\n",
        "  print(ls_resampled_raster)\n",
        "  pixel_table <- (table(values(ccap_cropped_raster))/ncell(ccap_cropped_raster)) %>% data.table\n",
        "\n",
        "  names(pixel_table) <- c('label','percent')\n",
        "\n",
        "  out_dt <- data.table(extract_grid[x,],xmin = xmin,xmax =xmax,ymin= ymin,ymax, pixel_table)\n",
        "\n",
        "  if(ls_resampled_raster %>% nrow ==512 & ls_resampled_raster %>% ncol ==512 & ccap_cropped_raster%>% nrow ==512 & ccap_cropped_raster%>% ncol ==512){\n",
        "    ls_resampled_raster %>%\n",
        "    writeRaster(., paste(\"/content/waimanu2020/Images/\",extract_grid[x,]$x_org,'_',extract_grid[x,]$y_org,'.tif',sep=''),overwrite=T)\n",
        "\n",
        "    ccap_cropped_raster %>%\n",
        "    writeRaster(., paste(\"/content/waimanu2020/Labels/\",extract_grid[x,]$x_org,'_',extract_grid[x,]$y_org,'.tif',sep=''),overwrite=T)\n",
        "  }else(print('uh oh'))\n",
        "\n",
        "  return(out_dt)\n",
        "})\n",
        "result_dt[ result_dt %>% lapply(function(x){is.data.table(x)}) %>% unlist] %>% rbindlist %>%\n",
        "fwrite(\"/content/waimanu2020/waimanu2020.csv\")\n"
      ],
      "metadata": {
        "id": "62rj-JF0eefF"
      },
      "execution_count": null,
      "outputs": []
    },
    {
      "cell_type": "code",
      "source": [
        "zip(zipfile = \"/content/waimanu2020.zip\",\n",
        "    files = c(\"/content/waimanu2020/Images\",\n",
        "              \"/content/waimanu2020/Labels\",\n",
        "              \"/content/waimanu2020/waimanu2020.csv\"))"
      ],
      "metadata": {
        "id": "Iy_XtUeZeefF"
      },
      "execution_count": null,
      "outputs": []
    },
    {
      "cell_type": "code",
      "source": [
        "# save to processed_data https://drive.google.com/drive/folders/?usp=drive_link\n",
        "drive_upload(media = \"/content/waimanu2020.zip\", path = as_id(\"16L0tZprsxCXcltp-UgkuISTL3rvX8KAV\"))"
      ],
      "metadata": {
        "id": "stqG1pHQeefF"
      },
      "execution_count": null,
      "outputs": []
    },
    {
      "cell_type": "markdown",
      "source": [],
      "metadata": {
        "id": "FhATQYySsMkD"
      }
    }
  ]
}