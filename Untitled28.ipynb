{
  "nbformat": 4,
  "nbformat_minor": 0,
  "metadata": {
    "colab": {
      "provenance": [],
      "machine_shape": "hm",
      "authorship_tag": "ABX9TyNPE7fU4Cnb78RW2vcmbSv8",
      "include_colab_link": true
    },
    "kernelspec": {
      "name": "ir",
      "display_name": "R"
    },
    "language_info": {
      "name": "R"
    }
  },
  "cells": [
    {
      "cell_type": "markdown",
      "metadata": {
        "id": "view-in-github",
        "colab_type": "text"
      },
      "source": [
        "<a href=\"https://colab.research.google.com/github/MadmanMarble/MadmanMarble/blob/main/Untitled28.ipynb\" target=\"_parent\"><img src=\"https://colab.research.google.com/assets/colab-badge.svg\" alt=\"Open In Colab\"/></a>"
      ]
    },
    {
      "cell_type": "code",
      "execution_count": 1,
      "metadata": {
        "colab": {
          "base_uri": "https://localhost:8080/"
        },
        "id": "eL9bXztGPUq0",
        "outputId": "d2cd1e9d-af5f-4eca-c7b2-2d9e15a3fa92"
      },
      "outputs": [
        {
          "output_type": "stream",
          "name": "stderr",
          "text": [
            "Installing packages into ‘/usr/local/lib/R/site-library’\n",
            "(as ‘lib’ is unspecified)\n",
            "\n",
            "also installing the dependencies ‘proxy’, ‘e1071’, ‘sp’, ‘Rcpp’, ‘terra’, ‘classInt’, ‘s2’, ‘units’, ‘wk’, ‘RcppArmadillo’\n",
            "\n",
            "\n",
            "Installing package into ‘/usr/local/lib/R/site-library’\n",
            "(as ‘lib’ is unspecified)\n",
            "\n",
            "Installing package into ‘/usr/local/lib/R/site-library’\n",
            "(as ‘lib’ is unspecified)\n",
            "\n",
            "Installing package into ‘/usr/local/lib/R/site-library’\n",
            "(as ‘lib’ is unspecified)\n",
            "\n",
            "also installing the dependencies ‘httpuv’, ‘xtable’, ‘sourcetools’, ‘later’, ‘promises’, ‘shiny’, ‘downlit’, ‘htmlwidgets’, ‘miniUI’, ‘pkgdown’, ‘profvis’, ‘urlchecker’\n",
            "\n",
            "\n",
            "Downloading GitHub repo gearslaboratory/gdalUtils@HEAD\n",
            "\n"
          ]
        },
        {
          "output_type": "stream",
          "name": "stdout",
          "text": [
            "R.methodsS3 (NA -> 1.8.2 ) [CRAN]\n",
            "R.oo        (NA -> 1.26.0) [CRAN]\n",
            "iterators   (NA -> 1.0.14) [CRAN]\n",
            "R.utils     (NA -> 2.12.3) [CRAN]\n",
            "foreach     (NA -> 1.5.2 ) [CRAN]\n"
          ]
        },
        {
          "output_type": "stream",
          "name": "stderr",
          "text": [
            "Skipping 1 packages not available: rgdal\n",
            "\n",
            "Installing 6 packages: R.methodsS3, R.oo, iterators, rgdal, R.utils, foreach\n",
            "\n",
            "Installing packages into ‘/usr/local/lib/R/site-library’\n",
            "(as ‘lib’ is unspecified)\n",
            "\n",
            "Warning message:\n",
            "“package ‘rgdal’ is not available for this version of R\n",
            "\n",
            "A version of this package for your version of R might be available elsewhere,\n",
            "see the ideas at\n",
            "https://cran.r-project.org/doc/manuals/r-patched/R-admin.html#Installing-packages”\n"
          ]
        },
        {
          "output_type": "stream",
          "name": "stdout",
          "text": [
            "\u001b[36m──\u001b[39m \u001b[36mR CMD build\u001b[39m \u001b[36m─────────────────────────────────────────────────────────────────\u001b[39m\n",
            "* checking for file ‘/tmp/Rtmp0fNgiC/remotes117628746de7/gearslaboratory-gdalUtils-8872aaf/DESCRIPTION’ ... OK\n",
            "* preparing ‘gdalUtils’:\n",
            "* checking DESCRIPTION meta-information ... OK\n",
            "* checking for LF line-endings in source and make files and shell scripts\n",
            "* checking for empty or unneeded directories\n",
            "* building ‘gdalUtils_2.0.3.2.tar.gz’\n",
            "\n"
          ]
        },
        {
          "output_type": "stream",
          "name": "stderr",
          "text": [
            "Installing package into ‘/usr/local/lib/R/site-library’\n",
            "(as ‘lib’ is unspecified)\n",
            "\n",
            "Warning message in i.p(...):\n",
            "“installation of package ‘/tmp/Rtmp0fNgiC/file11764672de/gdalUtils_2.0.3.2.tar.gz’ had non-zero exit status”\n"
          ]
        }
      ],
      "source": [
        "install.packages(c('raster','sf','fasterize'))\n",
        "install.packages(\"googledrive\")\n",
        "install.packages(\"dplyr\")\n",
        "install.packages(\"devtools\")\n",
        "\n",
        "devtools:::install_github(\"gearslaboratory/gdalUtils\")"
      ]
    },
    {
      "cell_type": "code",
      "source": [
        "library(raster)\n",
        "library(sf)\n",
        "library(fasterize)\n",
        "library(magrittr)\n",
        "library(googledrive)\n",
        "library(parallel)\n",
        "library(data.table)\n",
        "library(stringr)\n",
        "library(dplyr)\n",
        "# library(gdalUtils)\n",
        "\n",
        "drive_auth(use_oob = TRUE, cache = FALSE)"
      ],
      "metadata": {
        "id": "n-cYrFjlPaqU"
      },
      "execution_count": null,
      "outputs": []
    },
    {
      "cell_type": "code",
      "source": [
        "dir.create(\"/content/folder\")\n",
        "\n",
        "dir.create(\"/content/workingfolder\")\n",
        "dir.create(\"/content/workingfolder/aoi\")\n",
        "dir.create(\"/content/workingfolder/aoi/utm4\")\n",
        "dir.create(\"/content/workingfolder/aoi/utm5\")\n",
        "\n",
        "\n",
        "dir.create(\"/content/workingfolder/dem\")\n",
        "dir.create(\"/content/workingfolder/dem/utm4\")\n",
        "dir.create(\"/content/workingfolder/dem/utm5\")\n",
        "\n",
        "dir.create(\"/content/workingfolder/ccap\")\n",
        "dir.create(\"/content/workingfolder/ccap/utm4\")\n",
        "dir.create(\"/content/workingfolder/ccap/utm5\")\n",
        "\n",
        "dir.create(\"/content/workingfolder/nlcd\")\n",
        "dir.create(\"/content/workingfolder/nlcd/utm4\")\n",
        "dir.create(\"/content/workingfolder/nlcd/utm5\")"
      ],
      "metadata": {
        "id": "ylb0f4CsPmWU"
      },
      "execution_count": 3,
      "outputs": []
    },
    {
      "cell_type": "code",
      "source": [
        "dir.create(\"/content/imagery\")\n",
        "dir.create(\"/content/imagery/planet\")\n",
        "dir.create(\"/content/imagery/planet/2018\")\n",
        "dir.create(\"/content/imagery/planet/2019\")\n",
        "dir.create(\"/content/imagery/planet/2020\")\n",
        "\n",
        "dir.create(\"/content/imagery/planet/2018/utm4\")\n",
        "dir.create(\"/content/imagery/planet/2018/utm5\")\n",
        "dir.create(\"/content/imagery/planet/2019/utm4\")\n",
        "dir.create(\"/content/imagery/planet/2019/utm5\")\n",
        "dir.create(\"/content/imagery/planet/2020/utm4\")\n",
        "dir.create(\"/content/imagery/planet/2020/utm5\")"
      ],
      "metadata": {
        "id": "7GkipHTJPiUC"
      },
      "execution_count": 4,
      "outputs": []
    },
    {
      "cell_type": "code",
      "source": [
        "dir.create(\"/content/exports\")\n",
        "dir.create(\"/content/exports/planet_data\")\n",
        "dir.create(\"/content/exports/nwi\")\n",
        "dir.create(\"/content/exports/dem\")\n",
        "dir.create(\"/content/exports/ccap\")"
      ],
      "metadata": {
        "id": "hV8qLrsyP0er"
      },
      "execution_count": 6,
      "outputs": []
    },
    {
      "cell_type": "code",
      "source": [
        "# load NUMERIC nwi data\n",
        "# https://drive.google.com/file/d/1NHOKJKTqlNeuDg4DlfYfM3evDTvp0q8S/view?usp=drive_link\n",
        "drive_download(file = as_id('1NHOKJKTqlNeuDg4DlfYfM3evDTvp0q8S'), path =  '/content/folder/nwi_utm4.gpkg', overwrite = FALSE)\n",
        "\n",
        "# https://drive.google.com/file/d/1vjY2D7TCsFj5Mcs3Wk5Gh0OV3MIPD_M4/view?usp=drive_link\n",
        "drive_download(file = as_id('1vjY2D7TCsFj5Mcs3Wk5Gh0OV3MIPD_M4'), path =  '/content/folder/nwi_utm5.gpkg', overwrite = FALSE)\n",
        "\n",
        "# https://drive.google.com/file/d/1AsyHxmJ7MUJHwEqXUG61OXQ6bz9mgvDH/view?usp=drive_link\n",
        "drive_download(file = as_id(\"1AsyHxmJ7MUJHwEqXUG61OXQ6bz9mgvDH\"),\n",
        "path = \"/content/workingfolder/aoi/utm4/aoi_utm4.gpkg\", overwrite = FALSE)\n",
        "\n",
        "# https://drive.google.com/file/d/1klsckpbR73H4-2lj4Pi_4cyvQlU6dFbc/view?usp=drive_link\n",
        "drive_download(file = as_id(\"1klsckpbR73H4-2lj4Pi_4cyvQlU6dFbc\"),\n",
        "path = \"/content/workingfolder/aoi/utm5/aoi_utm5.gpkg\", overwrite = FALSE)\n",
        "\n",
        "# load the dem\n",
        "# https://drive.google.com/drive/folders/1URF4YPEnWirmyWjmueyIgiYchcORWe6q?usp=drive_link\n",
        "jp_folder = \"1URF4YPEnWirmyWjmueyIgiYchcORWe6q\"\n",
        "folder_id = drive_get(as_id(jp_folder)) # get folder ID\n",
        "print(folder_id) #print folder ID\n",
        "\n",
        "# Find files in the folder\n",
        "files = drive_ls(folder_id)\n",
        "\n",
        "# Loop through directories and download files inside them\n",
        "for (i in seq_along(files$name)) {\n",
        "  i_dir <- files[i, ] # Select directory\n",
        "    try({\n",
        "\n",
        "      # Download files from the directory to the specified path\n",
        "      drive_download(\n",
        "        as_id(i_dir$id[1]),\n",
        "        path = paste0('/content/workingfolder/dem/utm4/', i_dir$name[1])\n",
        "      )\n",
        "    })\n",
        "  }\n"
      ],
      "metadata": {
        "id": "CKOTDbI7PdEg"
      },
      "execution_count": null,
      "outputs": []
    },
    {
      "cell_type": "code",
      "source": [
        "dir.create(\"/content/folder/ccap\")\n",
        "dir.create(\"/content/folder/ccap/utm4\")\n",
        "dir.create(\"/content/folder/ccap/utm5\")\n",
        "\n",
        "dir.create(\"/content/folder/nlcd\")\n",
        "dir.create(\"/content/folder/nlcd/utm4\")\n",
        "dir.create(\"/content/folder/nlcd/utm5\")"
      ],
      "metadata": {
        "id": "f_EhhUiBuY5W"
      },
      "execution_count": 65,
      "outputs": []
    },
    {
      "cell_type": "code",
      "source": [
        "\n",
        "# load the ccap\n",
        "# https://drive.google.com/drive/folders/14fLGpMg2n9o6c8YmH4NSHc_ZQOC5MAuv?usp=drive_link\n",
        "jp_folder = \"14fLGpMg2n9o6c8YmH4NSHc_ZQOC5MAuv\"\n",
        "folder_id = drive_get(as_id(jp_folder)) # get folder ID\n",
        "print(folder_id) #print folder ID\n",
        "\n",
        "# Find files in the folder\n",
        "files = drive_ls(folder_id)\n",
        "\n",
        "# Loop through directories and download files inside them\n",
        "for (i in seq_along(files$name)) {\n",
        "  i_dir <- files[i, ] # Select directory\n",
        "    try({\n",
        "\n",
        "      # Download files from the directory to the specified path\n",
        "      drive_download(\n",
        "        as_id(i_dir$id[1]),\n",
        "        path = paste0('/content/folder/ccap/utm4/', i_dir$name[1])\n",
        "      )\n",
        "    })\n",
        "  }\n",
        "\n",
        "# load the ccap, utm5\n",
        "# https://drive.google.com/drive/folders/1CdwnqAx3xxZ-y1ppEktXHh78MdXN8TYW?usp=drive_link\n",
        "jp_folder = \"1CdwnqAx3xxZ-y1ppEktXHh78MdXN8TYW\"\n",
        "folder_id = drive_get(as_id(jp_folder)) # get folder ID\n",
        "print(folder_id) #print folder ID\n",
        "\n",
        "# Find files in the folder\n",
        "files = drive_ls(folder_id)\n",
        "\n",
        "# Loop through directories and download files inside them\n",
        "for (i in seq_along(files$name)) {\n",
        "  i_dir <- files[i, ] # Select directory\n",
        "    try({\n",
        "\n",
        "      # Download files from the directory to the specified path\n",
        "      drive_download(\n",
        "        as_id(i_dir$id[1]),\n",
        "        path = paste0('/content/folder/ccap/utm5/', i_dir$name[1])\n",
        "      )\n",
        "    })\n",
        "  }\n",
        "\n",
        "# load the nlcd, utm 4\n",
        "# https://drive.google.com/file/d/17tWhnoFP-VTrobjaMuTLwdLU15v7C0NC/view?usp=drive_link\n",
        "drive_download(file = as_id('17tWhnoFP-VTrobjaMuTLwdLU15v7C0NC'), path =  '/content/folder/nlcd/utm4/nlcd_utm4.tif', overwrite = FALSE)\n",
        "\n",
        "# load the nlcd, utm 5\n",
        "# https://drive.google.com/file/d/1mn_Q1q7HRA3Yh7oBS1KmBriUEtLVWovr/view?usp=drive_link\n",
        "drive_download(file = as_id('1mn_Q1q7HRA3Yh7oBS1KmBriUEtLVWovr'), path =  '/content/folder/nlcd/utm5/nlcd_utm5.tif', overwrite = FALSE)"
      ],
      "metadata": {
        "colab": {
          "base_uri": "https://localhost:8080/"
        },
        "id": "gl_1IUB2vPLB",
        "outputId": "ba9cc6f5-c78b-449d-d343-4bfc5f0483d2"
      },
      "execution_count": 66,
      "outputs": [
        {
          "output_type": "stream",
          "name": "stderr",
          "text": [
            "Auto-refreshing stale OAuth token.\n",
            "\n"
          ]
        },
        {
          "output_type": "stream",
          "name": "stdout",
          "text": [
            "\u001b[90m# A dribble: 1 × 3\u001b[39m\n",
            "  name  id                                drive_resource   \n",
            "  \u001b[3m\u001b[90m<chr>\u001b[39m\u001b[23m \u001b[3m\u001b[90m<drv_id>\u001b[39m\u001b[23m                          \u001b[3m\u001b[90m<list>\u001b[39m\u001b[23m           \n",
            "\u001b[90m1\u001b[39m ccap  14fLGpMg2n9o6c8YmH4NSHc_ZQOC5MAuv \u001b[90m<named list [34]>\u001b[39m\n",
            "Error in get_export_mime_type(mime_type) : \n",
            "  \u001b[1m\u001b[22mNot a recognized Google MIME type:\n",
            "\u001b[31m✖\u001b[39m \u001b[32mapplication/vnd.google-apps.folder\u001b[39m\n"
          ]
        },
        {
          "output_type": "stream",
          "name": "stderr",
          "text": [
            "File downloaded:\n",
            "\n",
            "• \u001b[36mkauai_ccap_2010.tif\u001b[39m \u001b[90m<id: 1-9SuvnH-Ck4CMaAXqDQTbbLGKtfMUnxn>\u001b[39m\n",
            "\n",
            "Saved locally as:\n",
            "\n",
            "• \u001b[34m/content/folder/ccap/utm4/kauai_ccap_2010.tif\u001b[39m\n",
            "\n",
            "File downloaded:\n",
            "\n",
            "• \u001b[36moahu_ccap_2010.tif\u001b[39m \u001b[90m<id: 1-5Q_qbss1zUnW1wcQlomRHehPemzy7HG>\u001b[39m\n",
            "\n",
            "Saved locally as:\n",
            "\n",
            "• \u001b[34m/content/folder/ccap/utm4/oahu_ccap_2010.tif\u001b[39m\n",
            "\n",
            "File downloaded:\n",
            "\n",
            "• \u001b[36mmolokai_ccap_2010.tif\u001b[39m \u001b[90m<id: 1-2M0JNgYiVMINDoW2mAiWLX3H9kYz_Z->\u001b[39m\n",
            "\n",
            "Saved locally as:\n",
            "\n",
            "• \u001b[34m/content/folder/ccap/utm4/molokai_ccap_2010.tif\u001b[39m\n",
            "\n",
            "File downloaded:\n",
            "\n",
            "• \u001b[36mmaui_ccap_2010.tif\u001b[39m \u001b[90m<id: 1--1nN7Gj_qx6iwPG8Jq5gZcGRA0uaOay>\u001b[39m\n",
            "\n",
            "Saved locally as:\n",
            "\n",
            "• \u001b[34m/content/folder/ccap/utm4/maui_ccap_2010.tif\u001b[39m\n",
            "\n"
          ]
        },
        {
          "output_type": "stream",
          "name": "stdout",
          "text": [
            "\u001b[90m# A dribble: 1 × 3\u001b[39m\n",
            "  name        id                                drive_resource   \n",
            "  \u001b[3m\u001b[90m<chr>\u001b[39m\u001b[23m       \u001b[3m\u001b[90m<drv_id>\u001b[39m\u001b[23m                          \u001b[3m\u001b[90m<list>\u001b[39m\u001b[23m           \n",
            "\u001b[90m1\u001b[39m ccap_hawaii 1CdwnqAx3xxZ-y1ppEktXHh78MdXN8TYW \u001b[90m<named list [34]>\u001b[39m\n",
            "Error in get_export_mime_type(mime_type) : \n",
            "  \u001b[1m\u001b[22mNot a recognized Google MIME type:\n",
            "\u001b[31m✖\u001b[39m \u001b[32mapplication/vnd.google-apps.folder\u001b[39m\n"
          ]
        },
        {
          "output_type": "stream",
          "name": "stderr",
          "text": [
            "File downloaded:\n",
            "\n",
            "• \u001b[36mccap_hawaii_03_nad83.tif\u001b[39m \u001b[90m<id: 1kzbf77OuzMinC90SpJVqMJ6fJpqWcJKf>\u001b[39m\n",
            "\n",
            "Saved locally as:\n",
            "\n",
            "• \u001b[34m/content/folder/ccap/utm5/ccap_hawaii_03_nad83.tif\u001b[39m\n",
            "\n",
            "File downloaded:\n",
            "\n",
            "• \u001b[36mhawaii_ccap_2010_01.tif\u001b[39m \u001b[90m<id: 1WI2adKHfm5J-bfBnRN0N2n-bI45foz60>\u001b[39m\n",
            "\n",
            "Saved locally as:\n",
            "\n",
            "• \u001b[34m/content/folder/ccap/utm5/hawaii_ccap_2010_01.tif\u001b[39m\n",
            "\n",
            "File downloaded:\n",
            "\n",
            "• \u001b[36mhawaii_ccap_2010_03.tif\u001b[39m \u001b[90m<id: 1-KHspFGnfIwHcWFsNvwshfy3H-_Y5gVB>\u001b[39m\n",
            "\n",
            "Saved locally as:\n",
            "\n",
            "• \u001b[34m/content/folder/ccap/utm5/hawaii_ccap_2010_03.tif\u001b[39m\n",
            "\n",
            "File downloaded:\n",
            "\n",
            "• \u001b[36mhawaii_ccap_2010_02.tif\u001b[39m \u001b[90m<id: 10BnucV2NpjYekC-Lr-PddVYJ2XFXmNwo>\u001b[39m\n",
            "\n",
            "Saved locally as:\n",
            "\n",
            "• \u001b[34m/content/folder/ccap/utm5/hawaii_ccap_2010_02.tif\u001b[39m\n",
            "\n",
            "File downloaded:\n",
            "\n",
            "• \u001b[36mnad83_nlcd_hi_2001_split_4.tif\u001b[39m \u001b[90m<id: 17tWhnoFP-VTrobjaMuTLwdLU15v7C0NC>\u001b[39m\n",
            "\n",
            "Saved locally as:\n",
            "\n",
            "• \u001b[34m/content/folder/nlcd/utm4/nlcd_utm4.tif\u001b[39m\n",
            "\n",
            "File downloaded:\n",
            "\n",
            "• \u001b[36mnad83_nlcd_hi_2001_split_hawaii.tif\u001b[39m \u001b[90m<id: 1mn_Q1q7HRA3Yh7oBS1KmBriUEtLVWovr>\u001b[39m\n",
            "\n",
            "Saved locally as:\n",
            "\n",
            "• \u001b[34m/content/folder/nlcd/utm5/nlcd_utm5.tif\u001b[39m\n",
            "\n"
          ]
        }
      ]
    },
    {
      "cell_type": "code",
      "source": [
        "cl <- makeCluster(8)\n",
        "\n",
        "# Load Planet 2018 utm4 image stacks\n",
        "# https://drive.google.com/drive/folders/1qKNxqjL8K71CO-KcmQGfbtPehlAjoD05?usp=drive_link\n",
        "# https://drive.google.com/drive/folders/1qKNxqjL8K71CO-KcmQGfbtPehlAjoD05?usp=drive_link\n",
        "jp_folder = \"1qKNxqjL8K71CO-KcmQGfbtPehlAjoD05\"\n",
        "folder_id = drive_get(as_id(jp_folder)) # get folder ID\n",
        "print(folder_id) #print folder ID\n",
        "\n",
        "# Find files in the folder\n",
        "files = drive_ls(folder_id)\n",
        "\n",
        "# Loop through directories and download files inside them\n",
        "for (i in seq_along(files$name)) {\n",
        "  i_dir <- files[i, ] # Select directory\n",
        "    try({\n",
        "\n",
        "      # Download files from the directory to the specified path\n",
        "      drive_download(\n",
        "        as_id(i_dir$id[1]),\n",
        "        path = paste0('/content/imagery/planet/2018/utm4/', i_dir$name[1])\n",
        "      )\n",
        "    })\n",
        "  }\n",
        "\n",
        "# # Load Planet 2019 utm4 image stacks\n",
        "# # https://drive.google.com/drive/folders/1Oz9FMjFR0QKSJiJNg41-4vVNKxqm5Ewu?usp=drive_link\n",
        "# jp_folder = \"1Oz9FMjFR0QKSJiJNg41-4vVNKxqm5Ewu\"\n",
        "# folder_id = drive_get(as_id(jp_folder)) # get folder ID\n",
        "# print(folder_id) #print folder ID\n",
        "\n",
        "# # Find files in the folder\n",
        "# files = drive_ls(folder_id)\n",
        "\n",
        "# # Loop through directories and download files inside them\n",
        "# for (i in seq_along(files$name)) {\n",
        "#   i_dir <- files[i, ] # Select directory\n",
        "#     try({\n",
        "\n",
        "#       # Download files from the directory to the specified path\n",
        "#       drive_download(\n",
        "#         as_id(i_dir$id[1]),\n",
        "#         path = paste0('/content/imagery/planet/2019/utm4/', i_dir$name[1])\n",
        "#       )\n",
        "#     })\n",
        "#   }\n",
        "\n",
        "# # Load Planet 2020 utm4 utm4 image stacks\n",
        "# # https://drive.google.com/drive/folders/18-AaCnLW5JnZ6owOf7uqCU06M0XhwMBL?usp=drive_link\n",
        "# jp_folder = \"18-AaCnLW5JnZ6owOf7uqCU06M0XhwMBL\"\n",
        "# folder_id = drive_get(as_id(jp_folder)) # get folder ID\n",
        "# print(folder_id) #print folder ID\n",
        "\n",
        "# # Find files in the folder\n",
        "# files = drive_ls(folder_id)\n",
        "\n",
        "# # Loop through directories and download files inside them\n",
        "# for (i in seq_along(files$name)) {\n",
        "#   i_dir <- files[i, ] # Select directory\n",
        "#     try({\n",
        "\n",
        "#       # Download files from the directory to the specified path\n",
        "#       drive_download(\n",
        "#         as_id(i_dir$id[1]),\n",
        "#         path = paste0('/content/imagery/planet/2020/utm4/', i_dir$name[1])\n",
        "#       )\n",
        "#     })\n",
        "#   }\n",
        "\n",
        "# # Load Planet 2018 utm5 image stacks\n",
        "# # https://drive.google.com/drive/folders/1h0rEeSo2ki_eir55V7gvl0i5fKz_vAPu?usp=drive_link\n",
        "# jp_folder = \"1h0rEeSo2ki_eir55V7gvl0i5fKz_vAPu\"\n",
        "# folder_id = drive_get(as_id(jp_folder)) # get folder ID\n",
        "# print(folder_id) #print folder ID\n",
        "\n",
        "# # Find files in the folder\n",
        "# files = drive_ls(folder_id)\n",
        "\n",
        "# # Loop through directories and download files inside them\n",
        "# for (i in seq_along(files$name)) {\n",
        "#   i_dir <- files[i, ] # Select directory\n",
        "#     try({\n",
        "\n",
        "#       # Download files from the directory to the specified path\n",
        "#       drive_download(\n",
        "#         as_id(i_dir$id[1]),\n",
        "#         path = paste0('/content/imagery/planet/2018/utm5/', i_dir$name[1])\n",
        "#       )\n",
        "#     })\n",
        "#   }\n",
        "\n",
        "# # Load Planet 2019 utm5 image stacks\n",
        "# # https://drive.google.com/drive/folders/1v2FNvU1rcgwvem6YU64rWeE9man76lPb?usp=drive_link\n",
        "# jp_folder = \"1v2FNvU1rcgwvem6YU64rWeE9man76lPb\"\n",
        "# folder_id = drive_get(as_id(jp_folder)) # get folder ID\n",
        "# print(folder_id) #print folder ID\n",
        "\n",
        "# # Find files in the folder\n",
        "# files = drive_ls(folder_id)\n",
        "\n",
        "# # Loop through directories and download files inside them\n",
        "# for (i in seq_along(files$name)) {\n",
        "#   i_dir <- files[i, ] # Select directory\n",
        "#     try({\n",
        "\n",
        "#       # Download files from the directory to the specified path\n",
        "#       drive_download(\n",
        "#         as_id(i_dir$id[1]),\n",
        "#         path = paste0('/content/imagery/planet/2019/utm5/', i_dir$name[1])\n",
        "#       )\n",
        "#     })\n",
        "#   }\n",
        "\n",
        "# # Load Planet 2020 utm5 image stacks\n",
        "# # https://drive.google.com/drive/folders/1-aSDCj6ZCYapfMr1uaaq9xreoP4HXBW2?usp=drive_link\n",
        "# jp_folder = \"1-aSDCj6ZCYapfMr1uaaq9xreoP4HXBW2\"\n",
        "# folder_id = drive_get(as_id(jp_folder)) # get folder ID\n",
        "# print(folder_id) #print folder ID\n",
        "\n",
        "# # Find files in the folder\n",
        "# files = drive_ls(folder_id)\n",
        "\n",
        "# # Loop through directories and download files inside them\n",
        "# for (i in seq_along(files$name)) {\n",
        "#   i_dir <- files[i, ] # Select directory\n",
        "#     try({\n",
        "\n",
        "#       # Download files from the directory to the specified path\n",
        "#       drive_download(\n",
        "#         as_id(i_dir$id[1]),\n",
        "#         path = paste0('/content/imagery/planet/2020/utm5/', i_dir$name[1])\n",
        "#       )\n",
        "#     })\n",
        "#   }\n",
        "\n",
        "\n",
        "stopCluster(cl)"
      ],
      "metadata": {
        "id": "RtNO2lHGPqT0"
      },
      "execution_count": null,
      "outputs": []
    },
    {
      "cell_type": "markdown",
      "source": [
        "check the unified table"
      ],
      "metadata": {
        "id": "F9YtW9B9HUK6"
      }
    },
    {
      "cell_type": "code",
      "source": [
        "unified_data_table <- data.table (unified = c(0, 1, 2, 3, 4, 5, 6, 7, 8, 9, 10, 11))"
      ],
      "metadata": {
        "id": "yL28KLcQHToW"
      },
      "execution_count": 67,
      "outputs": []
    },
    {
      "cell_type": "code",
      "source": [
        "unified_data_table"
      ],
      "metadata": {
        "id": "ApDM-Jj9HcKI"
      },
      "execution_count": null,
      "outputs": []
    },
    {
      "cell_type": "code",
      "source": [
        "nwi_data_table <- data.table (nwi = list(-1, c(1,2,3), 4, 5, 6, 7, -1, -1, -1, -1, -1, -1))"
      ],
      "metadata": {
        "id": "LcSPtCAaHhrV"
      },
      "execution_count": 69,
      "outputs": []
    },
    {
      "cell_type": "code",
      "source": [
        "nwi_data_table"
      ],
      "metadata": {
        "colab": {
          "base_uri": "https://localhost:8080/",
          "height": 509
        },
        "id": "BwZ8OO8UHqFd",
        "outputId": "bdf158f6-43aa-4af7-802d-be008bf16620"
      },
      "execution_count": 70,
      "outputs": [
        {
          "output_type": "display_data",
          "data": {
            "text/html": [
              "<table class=\"dataframe\">\n",
              "<caption>A data.table: 12 × 1</caption>\n",
              "<thead>\n",
              "\t<tr><th scope=col>nwi</th></tr>\n",
              "\t<tr><th scope=col>&lt;list&gt;</th></tr>\n",
              "</thead>\n",
              "<tbody>\n",
              "\t<tr><td>-1</td></tr>\n",
              "\t<tr><td>1, 2, 3</td></tr>\n",
              "\t<tr><td>4</td></tr>\n",
              "\t<tr><td>5</td></tr>\n",
              "\t<tr><td>6</td></tr>\n",
              "\t<tr><td>7</td></tr>\n",
              "\t<tr><td>-1</td></tr>\n",
              "\t<tr><td>-1</td></tr>\n",
              "\t<tr><td>-1</td></tr>\n",
              "\t<tr><td>-1</td></tr>\n",
              "\t<tr><td>-1</td></tr>\n",
              "\t<tr><td>-1</td></tr>\n",
              "</tbody>\n",
              "</table>\n"
            ],
            "text/markdown": "\nA data.table: 12 × 1\n\n| nwi &lt;list&gt; |\n|---|\n| -1 |\n| 1, 2, 3 |\n| 4 |\n| 5 |\n| 6 |\n| 7 |\n| -1 |\n| -1 |\n| -1 |\n| -1 |\n| -1 |\n| -1 |\n\n",
            "text/latex": "A data.table: 12 × 1\n\\begin{tabular}{l}\n nwi\\\\\n <list>\\\\\n\\hline\n\t -1\\\\\n\t 1, 2, 3\\\\\n\t 4\\\\\n\t 5\\\\\n\t 6\\\\\n\t 7\\\\\n\t -1\\\\\n\t -1\\\\\n\t -1\\\\\n\t -1\\\\\n\t -1\\\\\n\t -1\\\\\n\\end{tabular}\n",
            "text/plain": [
              "   nwi    \n",
              "1  -1     \n",
              "2  1, 2, 3\n",
              "3  4      \n",
              "4  5      \n",
              "5  6      \n",
              "6  7      \n",
              "7  -1     \n",
              "8  -1     \n",
              "9  -1     \n",
              "10 -1     \n",
              "11 -1     \n",
              "12 -1     "
            ]
          },
          "metadata": {}
        }
      ]
    },
    {
      "cell_type": "code",
      "source": [
        "nlcd_data_table <- data.table(list(-1, 11, 90, 95, -1, -1, c(21,22,23,24), c(81,82), 71, 31, c(41,42,43), 52))"
      ],
      "metadata": {
        "id": "Whf_nqg_HtpL"
      },
      "execution_count": 71,
      "outputs": []
    },
    {
      "cell_type": "code",
      "source": [
        "nlcd_data_table"
      ],
      "metadata": {
        "colab": {
          "base_uri": "https://localhost:8080/",
          "height": 491
        },
        "id": "_L_NzHWFHz43",
        "outputId": "b2d44e0a-5323-4ee1-9a83-5c04c8ad4c70"
      },
      "execution_count": 72,
      "outputs": [
        {
          "output_type": "display_data",
          "data": {
            "text/html": [
              "<table class=\"dataframe\">\n",
              "<caption>A data.table: 12 × 1</caption>\n",
              "<thead>\n",
              "\t<tr><th scope=col>V1</th></tr>\n",
              "\t<tr><th scope=col>&lt;list&gt;</th></tr>\n",
              "</thead>\n",
              "<tbody>\n",
              "\t<tr><td>-1</td></tr>\n",
              "\t<tr><td>11</td></tr>\n",
              "\t<tr><td>90</td></tr>\n",
              "\t<tr><td>95</td></tr>\n",
              "\t<tr><td>-1</td></tr>\n",
              "\t<tr><td>-1</td></tr>\n",
              "\t<tr><td>21, 22, 23, 24</td></tr>\n",
              "\t<tr><td>81, 82</td></tr>\n",
              "\t<tr><td>71</td></tr>\n",
              "\t<tr><td>31</td></tr>\n",
              "\t<tr><td>41, 42, 43</td></tr>\n",
              "\t<tr><td>52</td></tr>\n",
              "</tbody>\n",
              "</table>\n"
            ],
            "text/markdown": "\nA data.table: 12 × 1\n\n| V1 &lt;list&gt; |\n|---|\n| -1 |\n| 11 |\n| 90 |\n| 95 |\n| -1 |\n| -1 |\n| 21, 22, 23, 24 |\n| 81, 82 |\n| 71 |\n| 31 |\n| 41, 42, 43 |\n| 52 |\n\n",
            "text/latex": "A data.table: 12 × 1\n\\begin{tabular}{l}\n V1\\\\\n <list>\\\\\n\\hline\n\t -1\\\\\n\t 11\\\\\n\t 90\\\\\n\t 95\\\\\n\t -1\\\\\n\t -1\\\\\n\t 21, 22, 23, 24\\\\\n\t 81, 82\\\\\n\t 71\\\\\n\t 31\\\\\n\t 41, 42, 43\\\\\n\t 52\\\\\n\\end{tabular}\n",
            "text/plain": [
              "   V1            \n",
              "1  -1            \n",
              "2  11            \n",
              "3  90            \n",
              "4  95            \n",
              "5  -1            \n",
              "6  -1            \n",
              "7  21, 22, 23, 24\n",
              "8  81, 82        \n",
              "9  71            \n",
              "10 31            \n",
              "11 41, 42, 43    \n",
              "12 52            "
            ]
          },
          "metadata": {}
        }
      ]
    },
    {
      "cell_type": "code",
      "source": [
        "ccap_labels_data_table <- data.table(ccap = list(c(0,1), c(19,21), c(16,17,18), c(13,15), 14, c(22,23), c(2,3,4,5), c(6,7), 8, 20, c(9,10,11), 12))"
      ],
      "metadata": {
        "id": "a8WlLRN0H633"
      },
      "execution_count": 73,
      "outputs": []
    },
    {
      "cell_type": "code",
      "source": [
        "ccap_labels_data_table"
      ],
      "metadata": {
        "colab": {
          "base_uri": "https://localhost:8080/",
          "height": 509
        },
        "id": "Z260VUNiIBzl",
        "outputId": "cb6676d8-40d7-463e-b9f1-55169b46d789"
      },
      "execution_count": 74,
      "outputs": [
        {
          "output_type": "display_data",
          "data": {
            "text/html": [
              "<table class=\"dataframe\">\n",
              "<caption>A data.table: 12 × 1</caption>\n",
              "<thead>\n",
              "\t<tr><th scope=col>ccap</th></tr>\n",
              "\t<tr><th scope=col>&lt;list&gt;</th></tr>\n",
              "</thead>\n",
              "<tbody>\n",
              "\t<tr><td>0, 1</td></tr>\n",
              "\t<tr><td>19, 21</td></tr>\n",
              "\t<tr><td>16, 17, 18</td></tr>\n",
              "\t<tr><td>13, 15</td></tr>\n",
              "\t<tr><td>14</td></tr>\n",
              "\t<tr><td>22, 23</td></tr>\n",
              "\t<tr><td>2, 3, 4, 5</td></tr>\n",
              "\t<tr><td>6, 7</td></tr>\n",
              "\t<tr><td>8</td></tr>\n",
              "\t<tr><td>20</td></tr>\n",
              "\t<tr><td>9, 10, 11</td></tr>\n",
              "\t<tr><td>12</td></tr>\n",
              "</tbody>\n",
              "</table>\n"
            ],
            "text/markdown": "\nA data.table: 12 × 1\n\n| ccap &lt;list&gt; |\n|---|\n| 0, 1 |\n| 19, 21 |\n| 16, 17, 18 |\n| 13, 15 |\n| 14 |\n| 22, 23 |\n| 2, 3, 4, 5 |\n| 6, 7 |\n| 8 |\n| 20 |\n| 9, 10, 11 |\n| 12 |\n\n",
            "text/latex": "A data.table: 12 × 1\n\\begin{tabular}{l}\n ccap\\\\\n <list>\\\\\n\\hline\n\t 0, 1\\\\\n\t 19, 21\\\\\n\t 16, 17, 18\\\\\n\t 13, 15\\\\\n\t 14\\\\\n\t 22, 23\\\\\n\t 2, 3, 4, 5\\\\\n\t 6, 7\\\\\n\t 8\\\\\n\t 20\\\\\n\t 9, 10, 11\\\\\n\t 12\\\\\n\\end{tabular}\n",
            "text/plain": [
              "   ccap      \n",
              "1  0, 1      \n",
              "2  19, 21    \n",
              "3  16, 17, 18\n",
              "4  13, 15    \n",
              "5  14        \n",
              "6  22, 23    \n",
              "7  2, 3, 4, 5\n",
              "8  6, 7      \n",
              "9  8         \n",
              "10 20        \n",
              "11 9, 10, 11 \n",
              "12 12        "
            ]
          },
          "metadata": {}
        }
      ]
    },
    {
      "cell_type": "code",
      "source": [
        "unified_data_table_all <- data.table (\n",
        "  unified_data_table,\n",
        "  nwi_data_table,\n",
        "  nlcd_data_table,\n",
        "  ccap_labels_data_table\n",
        ")"
      ],
      "metadata": {
        "id": "XBFjCE-LIDat"
      },
      "execution_count": 75,
      "outputs": []
    },
    {
      "cell_type": "code",
      "source": [
        "unified_data_table_all"
      ],
      "metadata": {
        "colab": {
          "base_uri": "https://localhost:8080/",
          "height": 474
        },
        "id": "0k07Roq_IPm_",
        "outputId": "28bbe12f-aa1c-4815-a3c1-dd3c39194342"
      },
      "execution_count": 134,
      "outputs": [
        {
          "output_type": "display_data",
          "data": {
            "text/html": [
              "<table class=\"dataframe\">\n",
              "<caption>A data.table: 12 × 4</caption>\n",
              "<thead>\n",
              "\t<tr><th scope=col>unified</th><th scope=col>nwi</th><th scope=col>V1</th><th scope=col>ccap</th></tr>\n",
              "\t<tr><th scope=col>&lt;dbl&gt;</th><th scope=col>&lt;list&gt;</th><th scope=col>&lt;list&gt;</th><th scope=col>&lt;list&gt;</th></tr>\n",
              "</thead>\n",
              "<tbody>\n",
              "\t<tr><td> 0</td><td>-1</td><td>-1</td><td>0, 1</td></tr>\n",
              "\t<tr><td> 1</td><td>1, 2, 3</td><td>11</td><td>19, 21</td></tr>\n",
              "\t<tr><td> 2</td><td>4</td><td>90</td><td>16, 17, 18</td></tr>\n",
              "\t<tr><td> 3</td><td>5</td><td>95</td><td>13, 15</td></tr>\n",
              "\t<tr><td> 4</td><td>6</td><td>-1</td><td>14</td></tr>\n",
              "\t<tr><td> 5</td><td>7</td><td>-1</td><td>22, 23</td></tr>\n",
              "\t<tr><td> 6</td><td>-1</td><td>21, 22, 23, 24</td><td>2, 3, 4, 5</td></tr>\n",
              "\t<tr><td> 7</td><td>-1</td><td>81, 82</td><td>6, 7</td></tr>\n",
              "\t<tr><td> 8</td><td>-1</td><td>71</td><td>8</td></tr>\n",
              "\t<tr><td> 9</td><td>-1</td><td>31</td><td>20</td></tr>\n",
              "\t<tr><td>10</td><td>-1</td><td>41, 42, 43</td><td>9, 10, 11</td></tr>\n",
              "\t<tr><td>11</td><td>-1</td><td>52</td><td>12</td></tr>\n",
              "</tbody>\n",
              "</table>\n"
            ],
            "text/markdown": "\nA data.table: 12 × 4\n\n| unified &lt;dbl&gt; | nwi &lt;list&gt; | V1 &lt;list&gt; | ccap &lt;list&gt; |\n|---|---|---|---|\n|  0 | -1 | -1 | 0, 1 |\n|  1 | 1, 2, 3 | 11 | 19, 21 |\n|  2 | 4 | 90 | 16, 17, 18 |\n|  3 | 5 | 95 | 13, 15 |\n|  4 | 6 | -1 | 14 |\n|  5 | 7 | -1 | 22, 23 |\n|  6 | -1 | 21, 22, 23, 24 | 2, 3, 4, 5 |\n|  7 | -1 | 81, 82 | 6, 7 |\n|  8 | -1 | 71 | 8 |\n|  9 | -1 | 31 | 20 |\n| 10 | -1 | 41, 42, 43 | 9, 10, 11 |\n| 11 | -1 | 52 | 12 |\n\n",
            "text/latex": "A data.table: 12 × 4\n\\begin{tabular}{llll}\n unified & nwi & V1 & ccap\\\\\n <dbl> & <list> & <list> & <list>\\\\\n\\hline\n\t  0 & -1 & -1 & 0, 1\\\\\n\t  1 & 1, 2, 3 & 11 & 19, 21\\\\\n\t  2 & 4 & 90 & 16, 17, 18\\\\\n\t  3 & 5 & 95 & 13, 15\\\\\n\t  4 & 6 & -1 & 14\\\\\n\t  5 & 7 & -1 & 22, 23\\\\\n\t  6 & -1 & 21, 22, 23, 24 & 2, 3, 4, 5\\\\\n\t  7 & -1 & 81, 82 & 6, 7\\\\\n\t  8 & -1 & 71 & 8\\\\\n\t  9 & -1 & 31 & 20\\\\\n\t 10 & -1 & 41, 42, 43 & 9, 10, 11\\\\\n\t 11 & -1 & 52 & 12\\\\\n\\end{tabular}\n",
            "text/plain": [
              "   unified nwi     V1             ccap      \n",
              "1   0      -1      -1             0, 1      \n",
              "2   1      1, 2, 3 11             19, 21    \n",
              "3   2      4       90             16, 17, 18\n",
              "4   3      5       95             13, 15    \n",
              "5   4      6       -1             14        \n",
              "6   5      7       -1             22, 23    \n",
              "7   6      -1      21, 22, 23, 24 2, 3, 4, 5\n",
              "8   7      -1      81, 82         6, 7      \n",
              "9   8      -1      71             8         \n",
              "10  9      -1      31             20        \n",
              "11 10      -1      41, 42, 43     9, 10, 11 \n",
              "12 11      -1      52             12        "
            ]
          },
          "metadata": {}
        }
      ]
    },
    {
      "cell_type": "code",
      "source": [
        "# unified_table <- data.table(\n",
        "#   unified = c(0, 1, 2, 3, 4, 5, 6, 7, 8, 9, 10, 11),\n",
        "#   nwi = list(-1, c(1,2,3), 4, 5, 6, 7, -1, -1, -1, -1, -1, -1),\n",
        "#   nlcd = list(-1, 11, 90, 95, -1, -1, c(21,22,23,24), c(81,82), 71, 31, c(41,42,43), 52),\n",
        "#   ccap = list(c(0,1), c(19,21), c(16,17,18), c(13,15), 14, c(22,23), c(2,3,4,5), c(6,7), 8, 20, c(9,10,11), 12)\n",
        "# )"
      ],
      "metadata": {
        "id": "94-UAAn5Puto"
      },
      "execution_count": null,
      "outputs": []
    },
    {
      "cell_type": "markdown",
      "source": [
        "look at the ccap before starting anything else."
      ],
      "metadata": {
        "id": "Jgw1c7D0CqhO"
      }
    },
    {
      "cell_type": "code",
      "source": [
        "ccap_path =c('/content/folder/ccap/utm4/kauai_ccap_2010.tif',\n",
        "'/content/folder/ccap/utm4/oahu_ccap_2010.tif',\n",
        "'/content/folder/ccap/utm4/molokai_ccap_2010.tif',\n",
        "'/content/folder/ccap/utm4/maui_ccap_2010.tif')\n"
      ],
      "metadata": {
        "id": "CGNigkHcCvAc"
      },
      "execution_count": 77,
      "outputs": []
    },
    {
      "cell_type": "code",
      "source": [
        "ccap_path_data_table <- data.table (ccap_path)"
      ],
      "metadata": {
        "id": "b02Du9kPDD0w"
      },
      "execution_count": 78,
      "outputs": []
    },
    {
      "cell_type": "code",
      "source": [
        "ccap_path_data_table"
      ],
      "metadata": {
        "colab": {
          "base_uri": "https://localhost:8080/",
          "height": 223
        },
        "id": "xQz1JDE8DSR6",
        "outputId": "d39f8a36-4d6f-4139-ff33-14d914fb600d"
      },
      "execution_count": 79,
      "outputs": [
        {
          "output_type": "display_data",
          "data": {
            "text/html": [
              "<table class=\"dataframe\">\n",
              "<caption>A data.table: 4 × 1</caption>\n",
              "<thead>\n",
              "\t<tr><th scope=col>ccap_path</th></tr>\n",
              "\t<tr><th scope=col>&lt;chr&gt;</th></tr>\n",
              "</thead>\n",
              "<tbody>\n",
              "\t<tr><td>/content/folder/ccap/utm4/kauai_ccap_2010.tif  </td></tr>\n",
              "\t<tr><td>/content/folder/ccap/utm4/oahu_ccap_2010.tif   </td></tr>\n",
              "\t<tr><td>/content/folder/ccap/utm4/molokai_ccap_2010.tif</td></tr>\n",
              "\t<tr><td>/content/folder/ccap/utm4/maui_ccap_2010.tif   </td></tr>\n",
              "</tbody>\n",
              "</table>\n"
            ],
            "text/markdown": "\nA data.table: 4 × 1\n\n| ccap_path &lt;chr&gt; |\n|---|\n| /content/folder/ccap/utm4/kauai_ccap_2010.tif   |\n| /content/folder/ccap/utm4/oahu_ccap_2010.tif    |\n| /content/folder/ccap/utm4/molokai_ccap_2010.tif |\n| /content/folder/ccap/utm4/maui_ccap_2010.tif    |\n\n",
            "text/latex": "A data.table: 4 × 1\n\\begin{tabular}{l}\n ccap\\_path\\\\\n <chr>\\\\\n\\hline\n\t /content/folder/ccap/utm4/kauai\\_ccap\\_2010.tif  \\\\\n\t /content/folder/ccap/utm4/oahu\\_ccap\\_2010.tif   \\\\\n\t /content/folder/ccap/utm4/molokai\\_ccap\\_2010.tif\\\\\n\t /content/folder/ccap/utm4/maui\\_ccap\\_2010.tif   \\\\\n\\end{tabular}\n",
            "text/plain": [
              "  ccap_path                                      \n",
              "1 /content/folder/ccap/utm4/kauai_ccap_2010.tif  \n",
              "2 /content/folder/ccap/utm4/oahu_ccap_2010.tif   \n",
              "3 /content/folder/ccap/utm4/molokai_ccap_2010.tif\n",
              "4 /content/folder/ccap/utm4/maui_ccap_2010.tif   "
            ]
          },
          "metadata": {}
        }
      ]
    },
    {
      "cell_type": "code",
      "source": [
        "island = c('kauai','oahu','molokai','maui')"
      ],
      "metadata": {
        "id": "moTx65pxECGM"
      },
      "execution_count": 80,
      "outputs": []
    },
    {
      "cell_type": "code",
      "source": [
        "island_data_table <- data.table (island)"
      ],
      "metadata": {
        "id": "nKR_ToS7EIjm"
      },
      "execution_count": 81,
      "outputs": []
    },
    {
      "cell_type": "code",
      "source": [
        "island_data_table"
      ],
      "metadata": {
        "colab": {
          "base_uri": "https://localhost:8080/",
          "height": 258
        },
        "id": "L348gEdoEOss",
        "outputId": "7e1491dc-82e2-486e-c2db-1caca74bfd7f"
      },
      "execution_count": 82,
      "outputs": [
        {
          "output_type": "display_data",
          "data": {
            "text/html": [
              "<table class=\"dataframe\">\n",
              "<caption>A data.table: 4 × 1</caption>\n",
              "<thead>\n",
              "\t<tr><th scope=col>island</th></tr>\n",
              "\t<tr><th scope=col>&lt;chr&gt;</th></tr>\n",
              "</thead>\n",
              "<tbody>\n",
              "\t<tr><td>kauai  </td></tr>\n",
              "\t<tr><td>oahu   </td></tr>\n",
              "\t<tr><td>molokai</td></tr>\n",
              "\t<tr><td>maui   </td></tr>\n",
              "</tbody>\n",
              "</table>\n"
            ],
            "text/markdown": "\nA data.table: 4 × 1\n\n| island &lt;chr&gt; |\n|---|\n| kauai   |\n| oahu    |\n| molokai |\n| maui    |\n\n",
            "text/latex": "A data.table: 4 × 1\n\\begin{tabular}{l}\n island\\\\\n <chr>\\\\\n\\hline\n\t kauai  \\\\\n\t oahu   \\\\\n\t molokai\\\\\n\t maui   \\\\\n\\end{tabular}\n",
            "text/plain": [
              "  island \n",
              "1 kauai  \n",
              "2 oahu   \n",
              "3 molokai\n",
              "4 maui   "
            ]
          },
          "metadata": {}
        }
      ]
    },
    {
      "cell_type": "code",
      "source": [
        "dem_path =c('/content/workingfolder/dem/utm4/wgs84_kauai_10m.tif',\n",
        "'/content/workingfolder/dem/utm4/wgs84_oahu_dem.tif',\n",
        "'/content/workingfolder/dem/utm4/wgs84_molokai_dem.tif',\n",
        "'/content/workingfolder/dem/utm4/wgs84_maui_dem.tif')"
      ],
      "metadata": {
        "id": "e4sN1GyJE00R"
      },
      "execution_count": 83,
      "outputs": []
    },
    {
      "cell_type": "code",
      "source": [
        "dem_path_data_table <- data.table (dem_path)"
      ],
      "metadata": {
        "id": "6gh7xn-dE_iE"
      },
      "execution_count": 84,
      "outputs": []
    },
    {
      "cell_type": "code",
      "source": [
        "dem_path_data_table"
      ],
      "metadata": {
        "colab": {
          "base_uri": "https://localhost:8080/",
          "height": 223
        },
        "id": "oaeSgAuDFBnu",
        "outputId": "e771a054-35aa-4636-a31a-660239ab6006"
      },
      "execution_count": 85,
      "outputs": [
        {
          "output_type": "display_data",
          "data": {
            "text/html": [
              "<table class=\"dataframe\">\n",
              "<caption>A data.table: 4 × 1</caption>\n",
              "<thead>\n",
              "\t<tr><th scope=col>dem_path</th></tr>\n",
              "\t<tr><th scope=col>&lt;chr&gt;</th></tr>\n",
              "</thead>\n",
              "<tbody>\n",
              "\t<tr><td>/content/workingfolder/dem/utm4/wgs84_kauai_10m.tif  </td></tr>\n",
              "\t<tr><td>/content/workingfolder/dem/utm4/wgs84_oahu_dem.tif   </td></tr>\n",
              "\t<tr><td>/content/workingfolder/dem/utm4/wgs84_molokai_dem.tif</td></tr>\n",
              "\t<tr><td>/content/workingfolder/dem/utm4/wgs84_maui_dem.tif   </td></tr>\n",
              "</tbody>\n",
              "</table>\n"
            ],
            "text/markdown": "\nA data.table: 4 × 1\n\n| dem_path &lt;chr&gt; |\n|---|\n| /content/workingfolder/dem/utm4/wgs84_kauai_10m.tif   |\n| /content/workingfolder/dem/utm4/wgs84_oahu_dem.tif    |\n| /content/workingfolder/dem/utm4/wgs84_molokai_dem.tif |\n| /content/workingfolder/dem/utm4/wgs84_maui_dem.tif    |\n\n",
            "text/latex": "A data.table: 4 × 1\n\\begin{tabular}{l}\n dem\\_path\\\\\n <chr>\\\\\n\\hline\n\t /content/workingfolder/dem/utm4/wgs84\\_kauai\\_10m.tif  \\\\\n\t /content/workingfolder/dem/utm4/wgs84\\_oahu\\_dem.tif   \\\\\n\t /content/workingfolder/dem/utm4/wgs84\\_molokai\\_dem.tif\\\\\n\t /content/workingfolder/dem/utm4/wgs84\\_maui\\_dem.tif   \\\\\n\\end{tabular}\n",
            "text/plain": [
              "  dem_path                                             \n",
              "1 /content/workingfolder/dem/utm4/wgs84_kauai_10m.tif  \n",
              "2 /content/workingfolder/dem/utm4/wgs84_oahu_dem.tif   \n",
              "3 /content/workingfolder/dem/utm4/wgs84_molokai_dem.tif\n",
              "4 /content/workingfolder/dem/utm4/wgs84_maui_dem.tif   "
            ]
          },
          "metadata": {}
        }
      ]
    },
    {
      "cell_type": "code",
      "source": [
        "linked_dt <- data.table (\n",
        "  island_data_table,\n",
        "  ccap_path_data_table,\n",
        "  dem_path_data_table\n",
        ")"
      ],
      "metadata": {
        "id": "Ec0xet72EnP_"
      },
      "execution_count": 86,
      "outputs": []
    },
    {
      "cell_type": "code",
      "source": [
        "linked_dt"
      ],
      "metadata": {
        "colab": {
          "base_uri": "https://localhost:8080/",
          "height": 223
        },
        "id": "cHPaE8e4Ev9L",
        "outputId": "828c6d32-f590-4f1d-b356-06b92625053c"
      },
      "execution_count": 87,
      "outputs": [
        {
          "output_type": "display_data",
          "data": {
            "text/html": [
              "<table class=\"dataframe\">\n",
              "<caption>A data.table: 4 × 3</caption>\n",
              "<thead>\n",
              "\t<tr><th scope=col>island</th><th scope=col>ccap_path</th><th scope=col>dem_path</th></tr>\n",
              "\t<tr><th scope=col>&lt;chr&gt;</th><th scope=col>&lt;chr&gt;</th><th scope=col>&lt;chr&gt;</th></tr>\n",
              "</thead>\n",
              "<tbody>\n",
              "\t<tr><td>kauai  </td><td>/content/folder/ccap/utm4/kauai_ccap_2010.tif  </td><td>/content/workingfolder/dem/utm4/wgs84_kauai_10m.tif  </td></tr>\n",
              "\t<tr><td>oahu   </td><td>/content/folder/ccap/utm4/oahu_ccap_2010.tif   </td><td>/content/workingfolder/dem/utm4/wgs84_oahu_dem.tif   </td></tr>\n",
              "\t<tr><td>molokai</td><td>/content/folder/ccap/utm4/molokai_ccap_2010.tif</td><td>/content/workingfolder/dem/utm4/wgs84_molokai_dem.tif</td></tr>\n",
              "\t<tr><td>maui   </td><td>/content/folder/ccap/utm4/maui_ccap_2010.tif   </td><td>/content/workingfolder/dem/utm4/wgs84_maui_dem.tif   </td></tr>\n",
              "</tbody>\n",
              "</table>\n"
            ],
            "text/markdown": "\nA data.table: 4 × 3\n\n| island &lt;chr&gt; | ccap_path &lt;chr&gt; | dem_path &lt;chr&gt; |\n|---|---|---|\n| kauai   | /content/folder/ccap/utm4/kauai_ccap_2010.tif   | /content/workingfolder/dem/utm4/wgs84_kauai_10m.tif   |\n| oahu    | /content/folder/ccap/utm4/oahu_ccap_2010.tif    | /content/workingfolder/dem/utm4/wgs84_oahu_dem.tif    |\n| molokai | /content/folder/ccap/utm4/molokai_ccap_2010.tif | /content/workingfolder/dem/utm4/wgs84_molokai_dem.tif |\n| maui    | /content/folder/ccap/utm4/maui_ccap_2010.tif    | /content/workingfolder/dem/utm4/wgs84_maui_dem.tif    |\n\n",
            "text/latex": "A data.table: 4 × 3\n\\begin{tabular}{lll}\n island & ccap\\_path & dem\\_path\\\\\n <chr> & <chr> & <chr>\\\\\n\\hline\n\t kauai   & /content/folder/ccap/utm4/kauai\\_ccap\\_2010.tif   & /content/workingfolder/dem/utm4/wgs84\\_kauai\\_10m.tif  \\\\\n\t oahu    & /content/folder/ccap/utm4/oahu\\_ccap\\_2010.tif    & /content/workingfolder/dem/utm4/wgs84\\_oahu\\_dem.tif   \\\\\n\t molokai & /content/folder/ccap/utm4/molokai\\_ccap\\_2010.tif & /content/workingfolder/dem/utm4/wgs84\\_molokai\\_dem.tif\\\\\n\t maui    & /content/folder/ccap/utm4/maui\\_ccap\\_2010.tif    & /content/workingfolder/dem/utm4/wgs84\\_maui\\_dem.tif   \\\\\n\\end{tabular}\n",
            "text/plain": [
              "  island  ccap_path                                      \n",
              "1 kauai   /content/folder/ccap/utm4/kauai_ccap_2010.tif  \n",
              "2 oahu    /content/folder/ccap/utm4/oahu_ccap_2010.tif   \n",
              "3 molokai /content/folder/ccap/utm4/molokai_ccap_2010.tif\n",
              "4 maui    /content/folder/ccap/utm4/maui_ccap_2010.tif   \n",
              "  dem_path                                             \n",
              "1 /content/workingfolder/dem/utm4/wgs84_kauai_10m.tif  \n",
              "2 /content/workingfolder/dem/utm4/wgs84_oahu_dem.tif   \n",
              "3 /content/workingfolder/dem/utm4/wgs84_molokai_dem.tif\n",
              "4 /content/workingfolder/dem/utm4/wgs84_maui_dem.tif   "
            ]
          },
          "metadata": {}
        }
      ]
    },
    {
      "cell_type": "code",
      "source": [
        "linked_dt$ccap_raster <- linked_dt$ccap_path %>% lapply(stack)\n",
        "linked_dt$dem_raster <- linked_dt$dem_path %>% lapply(stack)"
      ],
      "metadata": {
        "id": "IF822oohFJkU"
      },
      "execution_count": 88,
      "outputs": []
    },
    {
      "cell_type": "code",
      "source": [
        "linked_dt"
      ],
      "metadata": {
        "colab": {
          "base_uri": "https://localhost:8080/",
          "height": 293
        },
        "id": "yVJN802AFXNs",
        "outputId": "5cc147ae-3dc1-4aeb-b297-e05e6402a1e6"
      },
      "execution_count": 89,
      "outputs": [
        {
          "output_type": "display_data",
          "data": {
            "text/html": [
              "<table class=\"dataframe\">\n",
              "<caption>A data.table: 4 × 5</caption>\n",
              "<thead>\n",
              "\t<tr><th scope=col>island</th><th scope=col>ccap_path</th><th scope=col>dem_path</th><th scope=col>ccap_raster</th><th scope=col>dem_raster</th></tr>\n",
              "\t<tr><th scope=col>&lt;chr&gt;</th><th scope=col>&lt;chr&gt;</th><th scope=col>&lt;chr&gt;</th><th scope=col>&lt;list&gt;</th><th scope=col>&lt;list&gt;</th></tr>\n",
              "</thead>\n",
              "<tbody>\n",
              "\t<tr><td><span style=white-space:pre-wrap>kauai  </span></td><td><span style=white-space:pre-wrap>/content/folder/ccap/utm4/kauai_ccap_2010.tif  </span></td><td><span style=white-space:pre-wrap>/content/workingfolder/dem/utm4/wgs84_kauai_10m.tif  </span></td><td>&lt;S4 class ‘RasterStack’ [package “raster”] with 12 slots&gt;</td><td>&lt;S4 class ‘RasterStack’ [package “raster”] with 12 slots&gt;</td></tr>\n",
              "\t<tr><td><span style=white-space:pre-wrap>oahu   </span></td><td><span style=white-space:pre-wrap>/content/folder/ccap/utm4/oahu_ccap_2010.tif   </span></td><td><span style=white-space:pre-wrap>/content/workingfolder/dem/utm4/wgs84_oahu_dem.tif   </span></td><td>&lt;S4 class ‘RasterStack’ [package “raster”] with 12 slots&gt;</td><td>&lt;S4 class ‘RasterStack’ [package “raster”] with 12 slots&gt;</td></tr>\n",
              "\t<tr><td>molokai</td><td>/content/folder/ccap/utm4/molokai_ccap_2010.tif</td><td>/content/workingfolder/dem/utm4/wgs84_molokai_dem.tif</td><td>&lt;S4 class ‘RasterStack’ [package “raster”] with 12 slots&gt;</td><td>&lt;S4 class ‘RasterStack’ [package “raster”] with 12 slots&gt;</td></tr>\n",
              "\t<tr><td><span style=white-space:pre-wrap>maui   </span></td><td><span style=white-space:pre-wrap>/content/folder/ccap/utm4/maui_ccap_2010.tif   </span></td><td><span style=white-space:pre-wrap>/content/workingfolder/dem/utm4/wgs84_maui_dem.tif   </span></td><td>&lt;S4 class ‘RasterStack’ [package “raster”] with 12 slots&gt;</td><td>&lt;S4 class ‘RasterStack’ [package “raster”] with 12 slots&gt;</td></tr>\n",
              "</tbody>\n",
              "</table>\n"
            ],
            "text/markdown": "\nA data.table: 4 × 5\n\n| island &lt;chr&gt; | ccap_path &lt;chr&gt; | dem_path &lt;chr&gt; | ccap_raster &lt;list&gt; | dem_raster &lt;list&gt; |\n|---|---|---|---|---|\n| kauai   | /content/folder/ccap/utm4/kauai_ccap_2010.tif   | /content/workingfolder/dem/utm4/wgs84_kauai_10m.tif   | &lt;S4 class ‘RasterStack’ [package “raster”] with 12 slots&gt; | &lt;S4 class ‘RasterStack’ [package “raster”] with 12 slots&gt; |\n| oahu    | /content/folder/ccap/utm4/oahu_ccap_2010.tif    | /content/workingfolder/dem/utm4/wgs84_oahu_dem.tif    | &lt;S4 class ‘RasterStack’ [package “raster”] with 12 slots&gt; | &lt;S4 class ‘RasterStack’ [package “raster”] with 12 slots&gt; |\n| molokai | /content/folder/ccap/utm4/molokai_ccap_2010.tif | /content/workingfolder/dem/utm4/wgs84_molokai_dem.tif | &lt;S4 class ‘RasterStack’ [package “raster”] with 12 slots&gt; | &lt;S4 class ‘RasterStack’ [package “raster”] with 12 slots&gt; |\n| maui    | /content/folder/ccap/utm4/maui_ccap_2010.tif    | /content/workingfolder/dem/utm4/wgs84_maui_dem.tif    | &lt;S4 class ‘RasterStack’ [package “raster”] with 12 slots&gt; | &lt;S4 class ‘RasterStack’ [package “raster”] with 12 slots&gt; |\n\n",
            "text/latex": "A data.table: 4 × 5\n\\begin{tabular}{lllll}\n island & ccap\\_path & dem\\_path & ccap\\_raster & dem\\_raster\\\\\n <chr> & <chr> & <chr> & <list> & <list>\\\\\n\\hline\n\t kauai   & /content/folder/ccap/utm4/kauai\\_ccap\\_2010.tif   & /content/workingfolder/dem/utm4/wgs84\\_kauai\\_10m.tif   & <S4 class ‘RasterStack’ {[}package “raster”{]} with 12 slots> & <S4 class ‘RasterStack’ {[}package “raster”{]} with 12 slots>\\\\\n\t oahu    & /content/folder/ccap/utm4/oahu\\_ccap\\_2010.tif    & /content/workingfolder/dem/utm4/wgs84\\_oahu\\_dem.tif    & <S4 class ‘RasterStack’ {[}package “raster”{]} with 12 slots> & <S4 class ‘RasterStack’ {[}package “raster”{]} with 12 slots>\\\\\n\t molokai & /content/folder/ccap/utm4/molokai\\_ccap\\_2010.tif & /content/workingfolder/dem/utm4/wgs84\\_molokai\\_dem.tif & <S4 class ‘RasterStack’ {[}package “raster”{]} with 12 slots> & <S4 class ‘RasterStack’ {[}package “raster”{]} with 12 slots>\\\\\n\t maui    & /content/folder/ccap/utm4/maui\\_ccap\\_2010.tif    & /content/workingfolder/dem/utm4/wgs84\\_maui\\_dem.tif    & <S4 class ‘RasterStack’ {[}package “raster”{]} with 12 slots> & <S4 class ‘RasterStack’ {[}package “raster”{]} with 12 slots>\\\\\n\\end{tabular}\n",
            "text/plain": [
              "  island  ccap_path                                      \n",
              "1 kauai   /content/folder/ccap/utm4/kauai_ccap_2010.tif  \n",
              "2 oahu    /content/folder/ccap/utm4/oahu_ccap_2010.tif   \n",
              "3 molokai /content/folder/ccap/utm4/molokai_ccap_2010.tif\n",
              "4 maui    /content/folder/ccap/utm4/maui_ccap_2010.tif   \n",
              "  dem_path                                             \n",
              "1 /content/workingfolder/dem/utm4/wgs84_kauai_10m.tif  \n",
              "2 /content/workingfolder/dem/utm4/wgs84_oahu_dem.tif   \n",
              "3 /content/workingfolder/dem/utm4/wgs84_molokai_dem.tif\n",
              "4 /content/workingfolder/dem/utm4/wgs84_maui_dem.tif   \n",
              "  ccap_raster                                              \n",
              "1 <S4 class ‘RasterStack’ [package “raster”] with 12 slots>\n",
              "2 <S4 class ‘RasterStack’ [package “raster”] with 12 slots>\n",
              "3 <S4 class ‘RasterStack’ [package “raster”] with 12 slots>\n",
              "4 <S4 class ‘RasterStack’ [package “raster”] with 12 slots>\n",
              "  dem_raster                                               \n",
              "1 <S4 class ‘RasterStack’ [package “raster”] with 12 slots>\n",
              "2 <S4 class ‘RasterStack’ [package “raster”] with 12 slots>\n",
              "3 <S4 class ‘RasterStack’ [package “raster”] with 12 slots>\n",
              "4 <S4 class ‘RasterStack’ [package “raster”] with 12 slots>"
            ]
          },
          "metadata": {}
        }
      ]
    },
    {
      "cell_type": "code",
      "source": [
        "location_island_lookup <- data.table(\n",
        "  island = c(\"kauai\",\"oahu\",\"kauai\",\"kauai\",\"oahu\",\"molokai\",\"molokai\",\"molokai\",\"maui\",\"oahu\",\"maui\",\"kauai\",\"maui\",\"oahu\",\"maui\",\"kauai\"),\n",
        "  location_name = c(\"anahola\",\"haleiwa\",\"hanalei\",\"huleia\",\"kahuku\",\"kakahaia\",\"kaluaapuhi\",\"kamalo\",\"kanaha\",\"kawainui\",\"kealia\",\"lumahai\",\"paukukalo\",\"pearl_harbor\",\"waihee\",\"wailua_opaekaa\"))\n",
        "\n",
        "\n",
        "\n",
        "# Assuming you have a vector of file paths for your Planet imagery from 2018\n",
        "planet_image_file_paths <- c(\n",
        "  \"/content/imagery/planet/2018/utm4/2018_anahola_stack.tif\",\n",
        "  \"/content/imagery/planet/2018/utm4/2018_haleiwa_stack.tif\",\n",
        "  \"/content/imagery/planet/2018/utm4/2018_hanalei_stack.tif\",\n",
        "  \"/content/imagery/planet/2018/utm4/2018_huleia_stack.tif\",\n",
        "  \"/content/imagery/planet/2018/utm4/2018_kahuku_stack.tif\",\n",
        "  \"/content/imagery/planet/2018/utm4/2018_kakahaia_stack.tif\",\n",
        "  \"/content/imagery/planet/2018/utm4/2018_kaluaapuhi_stack.tif\",\n",
        "  \"/content/imagery/planet/2018/utm4/2018_kamalo_stack.tif\",\n",
        "  \"/content/imagery/planet/2018/utm4/2018_kanaha_stack.tif\",\n",
        "  \"/content/imagery/planet/2018/utm4/2018_kawainui_stack.tif\",\n",
        "  \"/content/imagery/planet/2018/utm4/2018_kealia_stack.tif\",\n",
        "  \"/content/imagery/planet/2018/utm4/2018_lumahai_stack.tif\",\n",
        "  \"/content/imagery/planet/2018/utm4/2018_paukukalo_stack.tif\",\n",
        "  \"/content/imagery/planet/2018/utm4/2018_pearl_harbor_stack.tif\",\n",
        "  \"/content/imagery/planet/2018/utm4/2018_waihee_stack.tif\",\n",
        "  \"/content/imagery/planet/2018/utm4/2018_wailua_opaekaa_stack.tif\")"
      ],
      "metadata": {
        "id": "UkTbTzSMFsEN"
      },
      "execution_count": 90,
      "outputs": []
    },
    {
      "cell_type": "code",
      "source": [
        "planet_dt <- data.table(\n",
        "location_island_lookup,\n",
        "planet_file_path = planet_image_file_paths\n",
        "# location_name = str_extract(basename(planet_image_file_paths), \"(?<=2018_)(.*?)(?=_stack\\\\.tif)\")\n",
        ")\n"
      ],
      "metadata": {
        "id": "mrKXWLR9GIok"
      },
      "execution_count": 91,
      "outputs": []
    },
    {
      "cell_type": "code",
      "source": [
        "planet_dt"
      ],
      "metadata": {
        "colab": {
          "base_uri": "https://localhost:8080/",
          "height": 599
        },
        "id": "gflLfNvNGNgc",
        "outputId": "0d1ad22a-6297-4dce-efac-b9cfaf5fe561"
      },
      "execution_count": 92,
      "outputs": [
        {
          "output_type": "display_data",
          "data": {
            "text/html": [
              "<table class=\"dataframe\">\n",
              "<caption>A data.table: 16 × 3</caption>\n",
              "<thead>\n",
              "\t<tr><th scope=col>island</th><th scope=col>location_name</th><th scope=col>planet_file_path</th></tr>\n",
              "\t<tr><th scope=col>&lt;chr&gt;</th><th scope=col>&lt;chr&gt;</th><th scope=col>&lt;chr&gt;</th></tr>\n",
              "</thead>\n",
              "<tbody>\n",
              "\t<tr><td>kauai  </td><td>anahola       </td><td>/content/imagery/planet/2018/utm4/2018_anahola_stack.tif       </td></tr>\n",
              "\t<tr><td>oahu   </td><td>haleiwa       </td><td>/content/imagery/planet/2018/utm4/2018_haleiwa_stack.tif       </td></tr>\n",
              "\t<tr><td>kauai  </td><td>hanalei       </td><td>/content/imagery/planet/2018/utm4/2018_hanalei_stack.tif       </td></tr>\n",
              "\t<tr><td>kauai  </td><td>huleia        </td><td>/content/imagery/planet/2018/utm4/2018_huleia_stack.tif        </td></tr>\n",
              "\t<tr><td>oahu   </td><td>kahuku        </td><td>/content/imagery/planet/2018/utm4/2018_kahuku_stack.tif        </td></tr>\n",
              "\t<tr><td>molokai</td><td>kakahaia      </td><td>/content/imagery/planet/2018/utm4/2018_kakahaia_stack.tif      </td></tr>\n",
              "\t<tr><td>molokai</td><td>kaluaapuhi    </td><td>/content/imagery/planet/2018/utm4/2018_kaluaapuhi_stack.tif    </td></tr>\n",
              "\t<tr><td>molokai</td><td>kamalo        </td><td>/content/imagery/planet/2018/utm4/2018_kamalo_stack.tif        </td></tr>\n",
              "\t<tr><td>maui   </td><td>kanaha        </td><td>/content/imagery/planet/2018/utm4/2018_kanaha_stack.tif        </td></tr>\n",
              "\t<tr><td>oahu   </td><td>kawainui      </td><td>/content/imagery/planet/2018/utm4/2018_kawainui_stack.tif      </td></tr>\n",
              "\t<tr><td>maui   </td><td>kealia        </td><td>/content/imagery/planet/2018/utm4/2018_kealia_stack.tif        </td></tr>\n",
              "\t<tr><td>kauai  </td><td>lumahai       </td><td>/content/imagery/planet/2018/utm4/2018_lumahai_stack.tif       </td></tr>\n",
              "\t<tr><td>maui   </td><td>paukukalo     </td><td>/content/imagery/planet/2018/utm4/2018_paukukalo_stack.tif     </td></tr>\n",
              "\t<tr><td>oahu   </td><td>pearl_harbor  </td><td>/content/imagery/planet/2018/utm4/2018_pearl_harbor_stack.tif  </td></tr>\n",
              "\t<tr><td>maui   </td><td>waihee        </td><td>/content/imagery/planet/2018/utm4/2018_waihee_stack.tif        </td></tr>\n",
              "\t<tr><td>kauai  </td><td>wailua_opaekaa</td><td>/content/imagery/planet/2018/utm4/2018_wailua_opaekaa_stack.tif</td></tr>\n",
              "</tbody>\n",
              "</table>\n"
            ],
            "text/markdown": "\nA data.table: 16 × 3\n\n| island &lt;chr&gt; | location_name &lt;chr&gt; | planet_file_path &lt;chr&gt; |\n|---|---|---|\n| kauai   | anahola        | /content/imagery/planet/2018/utm4/2018_anahola_stack.tif        |\n| oahu    | haleiwa        | /content/imagery/planet/2018/utm4/2018_haleiwa_stack.tif        |\n| kauai   | hanalei        | /content/imagery/planet/2018/utm4/2018_hanalei_stack.tif        |\n| kauai   | huleia         | /content/imagery/planet/2018/utm4/2018_huleia_stack.tif         |\n| oahu    | kahuku         | /content/imagery/planet/2018/utm4/2018_kahuku_stack.tif         |\n| molokai | kakahaia       | /content/imagery/planet/2018/utm4/2018_kakahaia_stack.tif       |\n| molokai | kaluaapuhi     | /content/imagery/planet/2018/utm4/2018_kaluaapuhi_stack.tif     |\n| molokai | kamalo         | /content/imagery/planet/2018/utm4/2018_kamalo_stack.tif         |\n| maui    | kanaha         | /content/imagery/planet/2018/utm4/2018_kanaha_stack.tif         |\n| oahu    | kawainui       | /content/imagery/planet/2018/utm4/2018_kawainui_stack.tif       |\n| maui    | kealia         | /content/imagery/planet/2018/utm4/2018_kealia_stack.tif         |\n| kauai   | lumahai        | /content/imagery/planet/2018/utm4/2018_lumahai_stack.tif        |\n| maui    | paukukalo      | /content/imagery/planet/2018/utm4/2018_paukukalo_stack.tif      |\n| oahu    | pearl_harbor   | /content/imagery/planet/2018/utm4/2018_pearl_harbor_stack.tif   |\n| maui    | waihee         | /content/imagery/planet/2018/utm4/2018_waihee_stack.tif         |\n| kauai   | wailua_opaekaa | /content/imagery/planet/2018/utm4/2018_wailua_opaekaa_stack.tif |\n\n",
            "text/latex": "A data.table: 16 × 3\n\\begin{tabular}{lll}\n island & location\\_name & planet\\_file\\_path\\\\\n <chr> & <chr> & <chr>\\\\\n\\hline\n\t kauai   & anahola        & /content/imagery/planet/2018/utm4/2018\\_anahola\\_stack.tif       \\\\\n\t oahu    & haleiwa        & /content/imagery/planet/2018/utm4/2018\\_haleiwa\\_stack.tif       \\\\\n\t kauai   & hanalei        & /content/imagery/planet/2018/utm4/2018\\_hanalei\\_stack.tif       \\\\\n\t kauai   & huleia         & /content/imagery/planet/2018/utm4/2018\\_huleia\\_stack.tif        \\\\\n\t oahu    & kahuku         & /content/imagery/planet/2018/utm4/2018\\_kahuku\\_stack.tif        \\\\\n\t molokai & kakahaia       & /content/imagery/planet/2018/utm4/2018\\_kakahaia\\_stack.tif      \\\\\n\t molokai & kaluaapuhi     & /content/imagery/planet/2018/utm4/2018\\_kaluaapuhi\\_stack.tif    \\\\\n\t molokai & kamalo         & /content/imagery/planet/2018/utm4/2018\\_kamalo\\_stack.tif        \\\\\n\t maui    & kanaha         & /content/imagery/planet/2018/utm4/2018\\_kanaha\\_stack.tif        \\\\\n\t oahu    & kawainui       & /content/imagery/planet/2018/utm4/2018\\_kawainui\\_stack.tif      \\\\\n\t maui    & kealia         & /content/imagery/planet/2018/utm4/2018\\_kealia\\_stack.tif        \\\\\n\t kauai   & lumahai        & /content/imagery/planet/2018/utm4/2018\\_lumahai\\_stack.tif       \\\\\n\t maui    & paukukalo      & /content/imagery/planet/2018/utm4/2018\\_paukukalo\\_stack.tif     \\\\\n\t oahu    & pearl\\_harbor   & /content/imagery/planet/2018/utm4/2018\\_pearl\\_harbor\\_stack.tif  \\\\\n\t maui    & waihee         & /content/imagery/planet/2018/utm4/2018\\_waihee\\_stack.tif        \\\\\n\t kauai   & wailua\\_opaekaa & /content/imagery/planet/2018/utm4/2018\\_wailua\\_opaekaa\\_stack.tif\\\\\n\\end{tabular}\n",
            "text/plain": [
              "   island  location_name \n",
              "1  kauai   anahola       \n",
              "2  oahu    haleiwa       \n",
              "3  kauai   hanalei       \n",
              "4  kauai   huleia        \n",
              "5  oahu    kahuku        \n",
              "6  molokai kakahaia      \n",
              "7  molokai kaluaapuhi    \n",
              "8  molokai kamalo        \n",
              "9  maui    kanaha        \n",
              "10 oahu    kawainui      \n",
              "11 maui    kealia        \n",
              "12 kauai   lumahai       \n",
              "13 maui    paukukalo     \n",
              "14 oahu    pearl_harbor  \n",
              "15 maui    waihee        \n",
              "16 kauai   wailua_opaekaa\n",
              "   planet_file_path                                               \n",
              "1  /content/imagery/planet/2018/utm4/2018_anahola_stack.tif       \n",
              "2  /content/imagery/planet/2018/utm4/2018_haleiwa_stack.tif       \n",
              "3  /content/imagery/planet/2018/utm4/2018_hanalei_stack.tif       \n",
              "4  /content/imagery/planet/2018/utm4/2018_huleia_stack.tif        \n",
              "5  /content/imagery/planet/2018/utm4/2018_kahuku_stack.tif        \n",
              "6  /content/imagery/planet/2018/utm4/2018_kakahaia_stack.tif      \n",
              "7  /content/imagery/planet/2018/utm4/2018_kaluaapuhi_stack.tif    \n",
              "8  /content/imagery/planet/2018/utm4/2018_kamalo_stack.tif        \n",
              "9  /content/imagery/planet/2018/utm4/2018_kanaha_stack.tif        \n",
              "10 /content/imagery/planet/2018/utm4/2018_kawainui_stack.tif      \n",
              "11 /content/imagery/planet/2018/utm4/2018_kealia_stack.tif        \n",
              "12 /content/imagery/planet/2018/utm4/2018_lumahai_stack.tif       \n",
              "13 /content/imagery/planet/2018/utm4/2018_paukukalo_stack.tif     \n",
              "14 /content/imagery/planet/2018/utm4/2018_pearl_harbor_stack.tif  \n",
              "15 /content/imagery/planet/2018/utm4/2018_waihee_stack.tif        \n",
              "16 /content/imagery/planet/2018/utm4/2018_wailua_opaekaa_stack.tif"
            ]
          },
          "metadata": {}
        }
      ]
    },
    {
      "cell_type": "code",
      "source": [
        "planet_dt$planet_raster <- planet_dt9$planet_file_path %>% lapply(stack)"
      ],
      "metadata": {
        "id": "iyzESBMMMd3w"
      },
      "execution_count": 93,
      "outputs": []
    },
    {
      "cell_type": "code",
      "source": [
        "planet_dt"
      ],
      "metadata": {
        "colab": {
          "base_uri": "https://localhost:8080/",
          "height": 599
        },
        "id": "soupCS5NGgZ9",
        "outputId": "bc73f5b8-971c-47fc-96bf-d6f5bf4f1944"
      },
      "execution_count": 94,
      "outputs": [
        {
          "output_type": "display_data",
          "data": {
            "text/html": [
              "<table class=\"dataframe\">\n",
              "<caption>A data.table: 16 × 4</caption>\n",
              "<thead>\n",
              "\t<tr><th scope=col>island</th><th scope=col>location_name</th><th scope=col>planet_file_path</th><th scope=col>planet_raster</th></tr>\n",
              "\t<tr><th scope=col>&lt;chr&gt;</th><th scope=col>&lt;chr&gt;</th><th scope=col>&lt;chr&gt;</th><th scope=col>&lt;list&gt;</th></tr>\n",
              "</thead>\n",
              "<tbody>\n",
              "\t<tr><td><span style=white-space:pre-wrap>kauai  </span></td><td><span style=white-space:pre-wrap>anahola       </span></td><td><span style=white-space:pre-wrap>/content/imagery/planet/2018/utm4/2018_anahola_stack.tif       </span></td><td>&lt;S4 class ‘RasterStack’ [package “raster”] with 12 slots&gt;</td></tr>\n",
              "\t<tr><td><span style=white-space:pre-wrap>oahu   </span></td><td><span style=white-space:pre-wrap>haleiwa       </span></td><td><span style=white-space:pre-wrap>/content/imagery/planet/2018/utm4/2018_haleiwa_stack.tif       </span></td><td>&lt;S4 class ‘RasterStack’ [package “raster”] with 12 slots&gt;</td></tr>\n",
              "\t<tr><td><span style=white-space:pre-wrap>kauai  </span></td><td><span style=white-space:pre-wrap>hanalei       </span></td><td><span style=white-space:pre-wrap>/content/imagery/planet/2018/utm4/2018_hanalei_stack.tif       </span></td><td>&lt;S4 class ‘RasterStack’ [package “raster”] with 12 slots&gt;</td></tr>\n",
              "\t<tr><td><span style=white-space:pre-wrap>kauai  </span></td><td><span style=white-space:pre-wrap>huleia        </span></td><td><span style=white-space:pre-wrap>/content/imagery/planet/2018/utm4/2018_huleia_stack.tif        </span></td><td>&lt;S4 class ‘RasterStack’ [package “raster”] with 12 slots&gt;</td></tr>\n",
              "\t<tr><td><span style=white-space:pre-wrap>oahu   </span></td><td><span style=white-space:pre-wrap>kahuku        </span></td><td><span style=white-space:pre-wrap>/content/imagery/planet/2018/utm4/2018_kahuku_stack.tif        </span></td><td>&lt;S4 class ‘RasterStack’ [package “raster”] with 12 slots&gt;</td></tr>\n",
              "\t<tr><td>molokai</td><td><span style=white-space:pre-wrap>kakahaia      </span></td><td><span style=white-space:pre-wrap>/content/imagery/planet/2018/utm4/2018_kakahaia_stack.tif      </span></td><td>&lt;S4 class ‘RasterStack’ [package “raster”] with 12 slots&gt;</td></tr>\n",
              "\t<tr><td>molokai</td><td><span style=white-space:pre-wrap>kaluaapuhi    </span></td><td><span style=white-space:pre-wrap>/content/imagery/planet/2018/utm4/2018_kaluaapuhi_stack.tif    </span></td><td>&lt;S4 class ‘RasterStack’ [package “raster”] with 12 slots&gt;</td></tr>\n",
              "\t<tr><td>molokai</td><td><span style=white-space:pre-wrap>kamalo        </span></td><td><span style=white-space:pre-wrap>/content/imagery/planet/2018/utm4/2018_kamalo_stack.tif        </span></td><td>&lt;S4 class ‘RasterStack’ [package “raster”] with 12 slots&gt;</td></tr>\n",
              "\t<tr><td><span style=white-space:pre-wrap>maui   </span></td><td><span style=white-space:pre-wrap>kanaha        </span></td><td><span style=white-space:pre-wrap>/content/imagery/planet/2018/utm4/2018_kanaha_stack.tif        </span></td><td>&lt;S4 class ‘RasterStack’ [package “raster”] with 12 slots&gt;</td></tr>\n",
              "\t<tr><td><span style=white-space:pre-wrap>oahu   </span></td><td><span style=white-space:pre-wrap>kawainui      </span></td><td><span style=white-space:pre-wrap>/content/imagery/planet/2018/utm4/2018_kawainui_stack.tif      </span></td><td>&lt;S4 class ‘RasterStack’ [package “raster”] with 12 slots&gt;</td></tr>\n",
              "\t<tr><td><span style=white-space:pre-wrap>maui   </span></td><td><span style=white-space:pre-wrap>kealia        </span></td><td><span style=white-space:pre-wrap>/content/imagery/planet/2018/utm4/2018_kealia_stack.tif        </span></td><td>&lt;S4 class ‘RasterStack’ [package “raster”] with 12 slots&gt;</td></tr>\n",
              "\t<tr><td><span style=white-space:pre-wrap>kauai  </span></td><td><span style=white-space:pre-wrap>lumahai       </span></td><td><span style=white-space:pre-wrap>/content/imagery/planet/2018/utm4/2018_lumahai_stack.tif       </span></td><td>&lt;S4 class ‘RasterStack’ [package “raster”] with 12 slots&gt;</td></tr>\n",
              "\t<tr><td><span style=white-space:pre-wrap>maui   </span></td><td><span style=white-space:pre-wrap>paukukalo     </span></td><td><span style=white-space:pre-wrap>/content/imagery/planet/2018/utm4/2018_paukukalo_stack.tif     </span></td><td>&lt;S4 class ‘RasterStack’ [package “raster”] with 12 slots&gt;</td></tr>\n",
              "\t<tr><td><span style=white-space:pre-wrap>oahu   </span></td><td><span style=white-space:pre-wrap>pearl_harbor  </span></td><td><span style=white-space:pre-wrap>/content/imagery/planet/2018/utm4/2018_pearl_harbor_stack.tif  </span></td><td>&lt;S4 class ‘RasterStack’ [package “raster”] with 12 slots&gt;</td></tr>\n",
              "\t<tr><td><span style=white-space:pre-wrap>maui   </span></td><td><span style=white-space:pre-wrap>waihee        </span></td><td><span style=white-space:pre-wrap>/content/imagery/planet/2018/utm4/2018_waihee_stack.tif        </span></td><td>&lt;S4 class ‘RasterStack’ [package “raster”] with 12 slots&gt;</td></tr>\n",
              "\t<tr><td><span style=white-space:pre-wrap>kauai  </span></td><td>wailua_opaekaa</td><td>/content/imagery/planet/2018/utm4/2018_wailua_opaekaa_stack.tif</td><td>&lt;S4 class ‘RasterStack’ [package “raster”] with 12 slots&gt;</td></tr>\n",
              "</tbody>\n",
              "</table>\n"
            ],
            "text/markdown": "\nA data.table: 16 × 4\n\n| island &lt;chr&gt; | location_name &lt;chr&gt; | planet_file_path &lt;chr&gt; | planet_raster &lt;list&gt; |\n|---|---|---|---|\n| kauai   | anahola        | /content/imagery/planet/2018/utm4/2018_anahola_stack.tif        | &lt;S4 class ‘RasterStack’ [package “raster”] with 12 slots&gt; |\n| oahu    | haleiwa        | /content/imagery/planet/2018/utm4/2018_haleiwa_stack.tif        | &lt;S4 class ‘RasterStack’ [package “raster”] with 12 slots&gt; |\n| kauai   | hanalei        | /content/imagery/planet/2018/utm4/2018_hanalei_stack.tif        | &lt;S4 class ‘RasterStack’ [package “raster”] with 12 slots&gt; |\n| kauai   | huleia         | /content/imagery/planet/2018/utm4/2018_huleia_stack.tif         | &lt;S4 class ‘RasterStack’ [package “raster”] with 12 slots&gt; |\n| oahu    | kahuku         | /content/imagery/planet/2018/utm4/2018_kahuku_stack.tif         | &lt;S4 class ‘RasterStack’ [package “raster”] with 12 slots&gt; |\n| molokai | kakahaia       | /content/imagery/planet/2018/utm4/2018_kakahaia_stack.tif       | &lt;S4 class ‘RasterStack’ [package “raster”] with 12 slots&gt; |\n| molokai | kaluaapuhi     | /content/imagery/planet/2018/utm4/2018_kaluaapuhi_stack.tif     | &lt;S4 class ‘RasterStack’ [package “raster”] with 12 slots&gt; |\n| molokai | kamalo         | /content/imagery/planet/2018/utm4/2018_kamalo_stack.tif         | &lt;S4 class ‘RasterStack’ [package “raster”] with 12 slots&gt; |\n| maui    | kanaha         | /content/imagery/planet/2018/utm4/2018_kanaha_stack.tif         | &lt;S4 class ‘RasterStack’ [package “raster”] with 12 slots&gt; |\n| oahu    | kawainui       | /content/imagery/planet/2018/utm4/2018_kawainui_stack.tif       | &lt;S4 class ‘RasterStack’ [package “raster”] with 12 slots&gt; |\n| maui    | kealia         | /content/imagery/planet/2018/utm4/2018_kealia_stack.tif         | &lt;S4 class ‘RasterStack’ [package “raster”] with 12 slots&gt; |\n| kauai   | lumahai        | /content/imagery/planet/2018/utm4/2018_lumahai_stack.tif        | &lt;S4 class ‘RasterStack’ [package “raster”] with 12 slots&gt; |\n| maui    | paukukalo      | /content/imagery/planet/2018/utm4/2018_paukukalo_stack.tif      | &lt;S4 class ‘RasterStack’ [package “raster”] with 12 slots&gt; |\n| oahu    | pearl_harbor   | /content/imagery/planet/2018/utm4/2018_pearl_harbor_stack.tif   | &lt;S4 class ‘RasterStack’ [package “raster”] with 12 slots&gt; |\n| maui    | waihee         | /content/imagery/planet/2018/utm4/2018_waihee_stack.tif         | &lt;S4 class ‘RasterStack’ [package “raster”] with 12 slots&gt; |\n| kauai   | wailua_opaekaa | /content/imagery/planet/2018/utm4/2018_wailua_opaekaa_stack.tif | &lt;S4 class ‘RasterStack’ [package “raster”] with 12 slots&gt; |\n\n",
            "text/latex": "A data.table: 16 × 4\n\\begin{tabular}{llll}\n island & location\\_name & planet\\_file\\_path & planet\\_raster\\\\\n <chr> & <chr> & <chr> & <list>\\\\\n\\hline\n\t kauai   & anahola        & /content/imagery/planet/2018/utm4/2018\\_anahola\\_stack.tif        & <S4 class ‘RasterStack’ {[}package “raster”{]} with 12 slots>\\\\\n\t oahu    & haleiwa        & /content/imagery/planet/2018/utm4/2018\\_haleiwa\\_stack.tif        & <S4 class ‘RasterStack’ {[}package “raster”{]} with 12 slots>\\\\\n\t kauai   & hanalei        & /content/imagery/planet/2018/utm4/2018\\_hanalei\\_stack.tif        & <S4 class ‘RasterStack’ {[}package “raster”{]} with 12 slots>\\\\\n\t kauai   & huleia         & /content/imagery/planet/2018/utm4/2018\\_huleia\\_stack.tif         & <S4 class ‘RasterStack’ {[}package “raster”{]} with 12 slots>\\\\\n\t oahu    & kahuku         & /content/imagery/planet/2018/utm4/2018\\_kahuku\\_stack.tif         & <S4 class ‘RasterStack’ {[}package “raster”{]} with 12 slots>\\\\\n\t molokai & kakahaia       & /content/imagery/planet/2018/utm4/2018\\_kakahaia\\_stack.tif       & <S4 class ‘RasterStack’ {[}package “raster”{]} with 12 slots>\\\\\n\t molokai & kaluaapuhi     & /content/imagery/planet/2018/utm4/2018\\_kaluaapuhi\\_stack.tif     & <S4 class ‘RasterStack’ {[}package “raster”{]} with 12 slots>\\\\\n\t molokai & kamalo         & /content/imagery/planet/2018/utm4/2018\\_kamalo\\_stack.tif         & <S4 class ‘RasterStack’ {[}package “raster”{]} with 12 slots>\\\\\n\t maui    & kanaha         & /content/imagery/planet/2018/utm4/2018\\_kanaha\\_stack.tif         & <S4 class ‘RasterStack’ {[}package “raster”{]} with 12 slots>\\\\\n\t oahu    & kawainui       & /content/imagery/planet/2018/utm4/2018\\_kawainui\\_stack.tif       & <S4 class ‘RasterStack’ {[}package “raster”{]} with 12 slots>\\\\\n\t maui    & kealia         & /content/imagery/planet/2018/utm4/2018\\_kealia\\_stack.tif         & <S4 class ‘RasterStack’ {[}package “raster”{]} with 12 slots>\\\\\n\t kauai   & lumahai        & /content/imagery/planet/2018/utm4/2018\\_lumahai\\_stack.tif        & <S4 class ‘RasterStack’ {[}package “raster”{]} with 12 slots>\\\\\n\t maui    & paukukalo      & /content/imagery/planet/2018/utm4/2018\\_paukukalo\\_stack.tif      & <S4 class ‘RasterStack’ {[}package “raster”{]} with 12 slots>\\\\\n\t oahu    & pearl\\_harbor   & /content/imagery/planet/2018/utm4/2018\\_pearl\\_harbor\\_stack.tif   & <S4 class ‘RasterStack’ {[}package “raster”{]} with 12 slots>\\\\\n\t maui    & waihee         & /content/imagery/planet/2018/utm4/2018\\_waihee\\_stack.tif         & <S4 class ‘RasterStack’ {[}package “raster”{]} with 12 slots>\\\\\n\t kauai   & wailua\\_opaekaa & /content/imagery/planet/2018/utm4/2018\\_wailua\\_opaekaa\\_stack.tif & <S4 class ‘RasterStack’ {[}package “raster”{]} with 12 slots>\\\\\n\\end{tabular}\n",
            "text/plain": [
              "   island  location_name \n",
              "1  kauai   anahola       \n",
              "2  oahu    haleiwa       \n",
              "3  kauai   hanalei       \n",
              "4  kauai   huleia        \n",
              "5  oahu    kahuku        \n",
              "6  molokai kakahaia      \n",
              "7  molokai kaluaapuhi    \n",
              "8  molokai kamalo        \n",
              "9  maui    kanaha        \n",
              "10 oahu    kawainui      \n",
              "11 maui    kealia        \n",
              "12 kauai   lumahai       \n",
              "13 maui    paukukalo     \n",
              "14 oahu    pearl_harbor  \n",
              "15 maui    waihee        \n",
              "16 kauai   wailua_opaekaa\n",
              "   planet_file_path                                               \n",
              "1  /content/imagery/planet/2018/utm4/2018_anahola_stack.tif       \n",
              "2  /content/imagery/planet/2018/utm4/2018_haleiwa_stack.tif       \n",
              "3  /content/imagery/planet/2018/utm4/2018_hanalei_stack.tif       \n",
              "4  /content/imagery/planet/2018/utm4/2018_huleia_stack.tif        \n",
              "5  /content/imagery/planet/2018/utm4/2018_kahuku_stack.tif        \n",
              "6  /content/imagery/planet/2018/utm4/2018_kakahaia_stack.tif      \n",
              "7  /content/imagery/planet/2018/utm4/2018_kaluaapuhi_stack.tif    \n",
              "8  /content/imagery/planet/2018/utm4/2018_kamalo_stack.tif        \n",
              "9  /content/imagery/planet/2018/utm4/2018_kanaha_stack.tif        \n",
              "10 /content/imagery/planet/2018/utm4/2018_kawainui_stack.tif      \n",
              "11 /content/imagery/planet/2018/utm4/2018_kealia_stack.tif        \n",
              "12 /content/imagery/planet/2018/utm4/2018_lumahai_stack.tif       \n",
              "13 /content/imagery/planet/2018/utm4/2018_paukukalo_stack.tif     \n",
              "14 /content/imagery/planet/2018/utm4/2018_pearl_harbor_stack.tif  \n",
              "15 /content/imagery/planet/2018/utm4/2018_waihee_stack.tif        \n",
              "16 /content/imagery/planet/2018/utm4/2018_wailua_opaekaa_stack.tif\n",
              "   planet_raster                                            \n",
              "1  <S4 class ‘RasterStack’ [package “raster”] with 12 slots>\n",
              "2  <S4 class ‘RasterStack’ [package “raster”] with 12 slots>\n",
              "3  <S4 class ‘RasterStack’ [package “raster”] with 12 slots>\n",
              "4  <S4 class ‘RasterStack’ [package “raster”] with 12 slots>\n",
              "5  <S4 class ‘RasterStack’ [package “raster”] with 12 slots>\n",
              "6  <S4 class ‘RasterStack’ [package “raster”] with 12 slots>\n",
              "7  <S4 class ‘RasterStack’ [package “raster”] with 12 slots>\n",
              "8  <S4 class ‘RasterStack’ [package “raster”] with 12 slots>\n",
              "9  <S4 class ‘RasterStack’ [package “raster”] with 12 slots>\n",
              "10 <S4 class ‘RasterStack’ [package “raster”] with 12 slots>\n",
              "11 <S4 class ‘RasterStack’ [package “raster”] with 12 slots>\n",
              "12 <S4 class ‘RasterStack’ [package “raster”] with 12 slots>\n",
              "13 <S4 class ‘RasterStack’ [package “raster”] with 12 slots>\n",
              "14 <S4 class ‘RasterStack’ [package “raster”] with 12 slots>\n",
              "15 <S4 class ‘RasterStack’ [package “raster”] with 12 slots>\n",
              "16 <S4 class ‘RasterStack’ [package “raster”] with 12 slots>"
            ]
          },
          "metadata": {}
        }
      ]
    },
    {
      "cell_type": "code",
      "source": [
        "\n",
        "\n",
        "# # Create a data table from the file paths with extracted location names\n",
        "# planet_image_info <- data.table(\n",
        "#   planet_file_path = planet_image_file_paths,\n",
        "#   # Replace 'pattern_to_extract_location' with the appropriate regex pattern\n",
        "#   location_name = str_extract(basename(planet_image_file_paths), \"(?<=2018_)(.*?)(?=_stack\\\\.tif)\")\n",
        "# )"
      ],
      "metadata": {
        "id": "ccezfgMKF5ky"
      },
      "execution_count": null,
      "outputs": []
    },
    {
      "cell_type": "code",
      "source": [
        "# # THIS WORKED TO ADD PLANET IN THE SAME WAY WE ADDED DEM and CCAP!!! USE THIS\n",
        "\n",
        "# location_island_lookup <- data.table(\n",
        "#   island = c(\n",
        "#     'kauai', 'kauai', 'kauai', 'kauai','kauai',\n",
        "#     'oahu', 'oahu', 'oahu', 'oahu',\n",
        "#     'molokai', 'molokai', 'molokai',\n",
        "#     'maui', 'maui', 'maui', 'maui'),\n",
        "#   location_name = c(\n",
        "#     'lumahai', 'hanalei', 'anahola', 'wailua_opaekaa', 'huleia',\n",
        "#     'haleiwa', 'kahuku', 'kawainui', 'pearl_harbor',\n",
        "#     'kaluaapuhi', 'kakahaia', 'kamalo',\n",
        "#     'waihee', 'paukukalo', 'kanaha', 'kealia'))\n",
        "\n",
        "\n",
        "\n",
        "# # Assuming you have a vector of file paths for your Planet imagery from 2018\n",
        "# planet_image_file_paths <- c(\n",
        "#   \"/content/imagery/planet/2018/utm4/2018_anahola_stack.tif\",\n",
        "#   \"/content/imagery/planet/2018/utm4/2018_haleiwa_stack.tif\",\n",
        "#   \"/content/imagery/planet/2018/utm4/2018_hanalei_stack.tif\",\n",
        "#   \"/content/imagery/planet/2018/utm4/2018_huleia_stack.tif\",\n",
        "#   \"/content/imagery/planet/2018/utm4/2018_kahuku_stack.tif\",\n",
        "#   \"/content/imagery/planet/2018/utm4/2018_kakahaia_stack.tif\",\n",
        "#   \"/content/imagery/planet/2018/utm4/2018_kaluaapuhi_stack.tif\",\n",
        "#   \"/content/imagery/planet/2018/utm4/2018_kamalo_stack.tif\",\n",
        "#   \"/content/imagery/planet/2018/utm4/2018_kanaha_stack.tif\",\n",
        "#   \"/content/imagery/planet/2018/utm4/2018_kawainui_stack.tif\",\n",
        "#   \"/content/imagery/planet/2018/utm4/2018_kealia_stack.tif\",\n",
        "#   \"/content/imagery/planet/2018/utm4/2018_lumahai_stack.tif\",\n",
        "#   \"/content/imagery/planet/2018/utm4/2018_paukukalo_stack.tif\",\n",
        "#   \"/content/imagery/planet/2018/utm4/2018_pearl_harbor_stack.tif\",\n",
        "#   \"/content/imagery/planet/2018/utm4/2018_waihee_stack.tif\",\n",
        "#   \"/content/imagery/planet/2018/utm4/2018_wailua_opaekaa_stack.tif\")\n",
        "\n",
        "\n",
        "\n",
        "\n",
        "# # Create a data table from the file paths with extracted location names\n",
        "# planet_image_info <- data.table(\n",
        "#   planet_file_path = planet_image_file_paths,\n",
        "#   # Replace 'pattern_to_extract_location' with the appropriate regex pattern\n",
        "#   location_name = str_extract(basename(planet_image_file_paths), \"(?<=2018_)(.*?)(?=_stack\\\\.tif)\")\n",
        "# )\n",
        "\n",
        "# # Merge the location-to-island information to get the island names for each location\n",
        "# # Ensure the 'location_name' columns match exactly in both data tables\n",
        "# complete_planet_info <- merge(planet_image_info, location_island_lookup, by = \"location_name\", all.x = TRUE)\n",
        "\n",
        "# # This table now contains the file paths for Planet imagery, the location names, and the corresponding island names\n",
        "# print(complete_planet_info)\n",
        "\n",
        "\n"
      ],
      "metadata": {
        "id": "C6rD01lePsZm"
      },
      "execution_count": null,
      "outputs": []
    },
    {
      "cell_type": "code",
      "source": [
        "# # Assuming you have your links data table which contains paths to CCAP and DEM data for each island\n",
        "# island_links_info <- data.table(\n",
        "# island = c('kauai','oahu','molokai','maui'),\n",
        "# ccap_path =c('/content/workingfolder/ccap/utm4/wgs84_kauai_ccap.tif','/content/workingfolder/ccap/utm4/wgs84_oahu_ccap.tif','/content/workingfolder/ccap/utm4/wgs84_molokai_ccap.tif','/content/workingfolder/ccap/utm4/wgs84_maui_ccap.tif'),\n",
        "# dem_path =c('/content/workingfolder/dem/utm4/wgs84_kauai_10m.tif','/content/workingfolder/dem/utm4/wgs84_oahu_dem.tif','/content/workingfolder/dem/utm4/wgs84_molokai_dem.tif','/content/workingfolder/dem/utm4/wgs84_maui_dem.tif'))\n",
        "\n",
        "\n",
        "\n",
        "\n",
        "# # Add raster layers to island_links_info for CCAP and DEM\n",
        "# island_links_info$ccap_raster <- lapply(island_links_info$ccap_path, raster::stack)\n",
        "# island_links_info$dem_raster <- lapply(island_links_info$dem_path, raster::stack)\n",
        "\n",
        "# # Merge the complete planet imagery info with the island links based on island names\n",
        "# final_island_data <- merge(island_links_info, complete_planet_info, by = \"island\", all.x = TRUE)\n",
        "\n",
        "# # The final data table now contains links to CCAP, DEM, and Planet imagery along with the raster objects for each island\n",
        "# print(final_island_data)"
      ],
      "metadata": {
        "id": "wJfPMKKIC1Ti"
      },
      "execution_count": null,
      "outputs": []
    },
    {
      "cell_type": "markdown",
      "source": [
        "end"
      ],
      "metadata": {
        "id": "A9jsDKEcXYE4"
      }
    },
    {
      "cell_type": "code",
      "source": [
        "wetlandsVector <- st_read(\"/content/workingfolder/aoi/utm4/aoi_utm4.gpkg\")\n",
        "wetlandsVector_dt <- as.data.table(wetlandsVector)\n",
        "wetlandsVector_dt[,island:= path %>% substr(24,1000) %>% gsub('.shp','',.) %>% gsub(layer,'',.) %>% gsub('/','',.),by=1:nrow(wetlandsVector_dt)]\n",
        "wetlandsVector <- wetlandsVector_dt %>% st_as_sf\n",
        "\n",
        "nwi_utm4 <- st_read(\"/content/folder/nwi_utm4.gpkg\")\n",
        "nwi_utm5 <- st_read(\"/content/folder/nwi_utm5.gpkg\")\n"
      ],
      "metadata": {
        "colab": {
          "base_uri": "https://localhost:8080/"
        },
        "id": "rCTVyUhbPxGZ",
        "outputId": "5e075240-d31b-4592-bca8-67e1a936cdc1"
      },
      "execution_count": 95,
      "outputs": [
        {
          "output_type": "stream",
          "name": "stdout",
          "text": [
            "Reading layer `aoi_wetland_4' from data source \n",
            "  `/content/workingfolder/aoi/utm4/aoi_utm4.gpkg' using driver `GPKG'\n",
            "Simple feature collection with 16 features and 6 fields\n",
            "Geometry type: MULTIPOLYGON\n",
            "Dimension:     XY\n",
            "Bounding box:  xmin: 444046 ymin: 2299914 xmax: 766191.9 ymax: 2457336\n",
            "Projected CRS: WGS 84 / UTM zone 4N\n",
            "Reading layer `nwi_utm4_numeric' from data source `/content/folder/nwi_utm4.gpkg' using driver `GPKG'\n",
            "Simple feature collection with 10866 features and 8 fields\n",
            "Geometry type: MULTIPOLYGON\n",
            "Dimension:     XY\n",
            "Bounding box:  xmin: 412977.7 ymin: 2263072 xmax: 820600.7 ymax: 2464465\n",
            "Projected CRS: WGS 84 / UTM zone 4N\n",
            "Reading layer `nwi_utm5_numeric' from data source `/content/folder/nwi_utm5.gpkg' using driver `GPKG'\n",
            "Simple feature collection with 2105 features and 8 fields\n",
            "Geometry type: MULTIPOLYGON\n",
            "Dimension:     XY\n",
            "Bounding box:  xmin: 173408.4 ymin: 2087445 xmax: 316047.8 ymax: 2249339\n",
            "Projected CRS: WGS 84 / UTM zone 5N\n"
          ]
        }
      ]
    },
    {
      "cell_type": "code",
      "source": [
        "nlcdImages <- raster(\"/content/folder/nlcd/utm4/nlcd_utm4.tif\")"
      ],
      "metadata": {
        "id": "i4DQBUZxwFJT"
      },
      "execution_count": 96,
      "outputs": []
    },
    {
      "cell_type": "code",
      "source": [
        "nlcdImages\n",
        "nlcdImages %>% plot"
      ],
      "metadata": {
        "colab": {
          "base_uri": "https://localhost:8080/",
          "height": 565
        },
        "id": "EWd2ALdFmYg7",
        "outputId": "70f66364-8a58-4304-c76b-5e275365ab28"
      },
      "execution_count": 97,
      "outputs": [
        {
          "output_type": "display_data",
          "data": {
            "text/plain": [
              "class      : RasterLayer \n",
              "dimensions : 6949, 14128, 98175472  (nrow, ncol, ncell)\n",
              "resolution : 29.46031, 30.52282  (x, y)\n",
              "extent     : 412944.2, 829159.5, 2255174, 2467277  (xmin, xmax, ymin, ymax)\n",
              "crs        : +proj=utm +zone=4 +datum=NAD83 +units=m +no_defs \n",
              "source     : nlcd_utm4.tif \n",
              "names      : nlcd_utm4 \n"
            ]
          },
          "metadata": {}
        },
        {
          "output_type": "display_data",
          "data": {
            "text/plain": [
              "Plot with title “”"
            ],
            "image/png": "[encoded data removed]"
          },
          "metadata": {
            "image/png": {
              "width": 420,
              "height": 420
            }
          }
        }
      ]
    },
    {
      "cell_type": "code",
      "source": [
        "wetlandsVector"
      ],
      "metadata": {
        "colab": {
          "base_uri": "https://localhost:8080/",
          "height": 1000
        },
        "id": "uHMSxBw31_p8",
        "outputId": "dc70cc1b-402f-496c-a3d5-8f64988f7c5a"
      },
      "execution_count": 102,
      "outputs": [
        {
          "output_type": "stream",
          "name": "stderr",
          "text": [
            "ERROR while rich displaying an object: Error in loadNamespace(x): there is no package called ‘geojsonio’\n",
            "\n",
            "Traceback:\n",
            "1. tryCatch(withCallingHandlers({\n",
            " .     if (!mime %in% names(repr::mime2repr)) \n",
            " .         stop(\"No repr_* for mimetype \", mime, \" in repr::mime2repr\")\n",
            " .     rpr <- repr::mime2repr[[mime]](obj)\n",
            " .     if (is.null(rpr)) \n",
            " .         return(NULL)\n",
            " .     prepare_content(is.raw(rpr), rpr)\n",
            " . }, error = error_handler), error = outer_handler)\n",
            "2. tryCatchList(expr, classes, parentenv, handlers)\n",
            "3. tryCatchOne(expr, names, parentenv, handlers[[1L]])\n",
            "4. doTryCatch(return(expr), name, parentenv, handler)\n",
            "5. withCallingHandlers({\n",
            " .     if (!mime %in% names(repr::mime2repr)) \n",
            " .         stop(\"No repr_* for mimetype \", mime, \" in repr::mime2repr\")\n",
            " .     rpr <- repr::mime2repr[[mime]](obj)\n",
            " .     if (is.null(rpr)) \n",
            " .         return(NULL)\n",
            " .     prepare_content(is.raw(rpr), rpr)\n",
            " . }, error = error_handler)\n",
            "6. repr::mime2repr[[mime]](obj)\n",
            "7. repr_geojson.sf(obj)\n",
            "8. repr_geojson(geojsonio::geojson_list(obj), ...)\n",
            "9. loadNamespace(x)\n",
            "10. withRestarts(stop(cond), retry_loadNamespace = function() NULL)\n",
            "11. withOneRestart(expr, restarts[[1L]])\n",
            "12. doWithOneRestart(return(expr), restart)\n"
          ]
        },
        {
          "output_type": "display_data",
          "data": {
            "text/html": [
              "<table class=\"dataframe\">\n",
              "<caption>A sf: 16 × 7</caption>\n",
              "<thead>\n",
              "\t<tr><th scope=col>id</th><th scope=col>island</th><th scope=col>name</th><th scope=col>lumahai</th><th scope=col>layer</th><th scope=col>path</th><th scope=col>geom</th></tr>\n",
              "\t<tr><th scope=col>&lt;dbl&gt;</th><th scope=col>&lt;chr&gt;</th><th scope=col>&lt;chr&gt;</th><th scope=col>&lt;dbl&gt;</th><th scope=col>&lt;chr&gt;</th><th scope=col>&lt;chr&gt;</th><th scope=col>&lt;MULTIPOLYGON [m]&gt;</th></tr>\n",
              "</thead>\n",
              "<tbody>\n",
              "\t<tr><td> 1</td><td>kauai  </td><td>NA            </td><td>NA</td><td>anahola       </td><td>E:/Data/AOI_Shapefiles/kauai/anahola.shp       </td><td>MULTIPOLYGON (((467439.4 24...</td></tr>\n",
              "\t<tr><td> 1</td><td>oahu   </td><td>NA            </td><td>NA</td><td>haleiwa       </td><td>E:/Data/AOI_Shapefiles/oahu/haleiwa.shp        </td><td>MULTIPOLYGON (((590409.2 23...</td></tr>\n",
              "\t<tr><td> 1</td><td>kauai  </td><td>NA            </td><td>NA</td><td>hanalei       </td><td>E:/Data/AOI_Shapefiles/kauai/hanalei.shp       </td><td>MULTIPOLYGON (((445906 2451...</td></tr>\n",
              "\t<tr><td> 1</td><td>kauai  </td><td>NA            </td><td>NA</td><td>huleia        </td><td>E:/Data/AOI_Shapefiles/kauai/huleia.shp        </td><td>MULTIPOLYGON (((459399.5 24...</td></tr>\n",
              "\t<tr><td> 1</td><td>oahu   </td><td>NA            </td><td>NA</td><td>kahuku        </td><td>E:/Data/AOI_Shapefiles/oahu/kahuku.shp         </td><td>MULTIPOLYGON (((602662.2 23...</td></tr>\n",
              "\t<tr><td> 1</td><td>molokai</td><td>NA            </td><td>NA</td><td>kakahaia      </td><td>E:/Data/AOI_Shapefiles/molokai/kakahaia.shp    </td><td>MULTIPOLYGON (((712686.8 23...</td></tr>\n",
              "\t<tr><td> 1</td><td>molokai</td><td>NA            </td><td>NA</td><td>kaluaapuhi    </td><td>E:/Data/AOI_Shapefiles/molokai/kaluaapuhi.shp  </td><td>MULTIPOLYGON (((694186.8 23...</td></tr>\n",
              "\t<tr><td> 1</td><td>molokai</td><td>NA            </td><td>NA</td><td>kamalo        </td><td>E:/Data/AOI_Shapefiles/molokai/kamalo.shp      </td><td>MULTIPOLYGON (((718784.3 23...</td></tr>\n",
              "\t<tr><td> 1</td><td>maui   </td><td>NA            </td><td>NA</td><td>kanaha        </td><td>E:/Data/AOI_Shapefiles/maui/kanaha.shp         </td><td>MULTIPOLYGON (((763679.9 23...</td></tr>\n",
              "\t<tr><td> 1</td><td>oahu   </td><td>kawainui marsh</td><td>NA</td><td>kawainui_marsh</td><td>E:/Data/AOI_Shapefiles/oahu/kawainui_marsh.shp </td><td>MULTIPOLYGON (((625876.9 23...</td></tr>\n",
              "\t<tr><td> 1</td><td>maui   </td><td>NA            </td><td>NA</td><td>kealia        </td><td>E:/Data/AOI_Shapefiles/maui/kealia.shp         </td><td>MULTIPOLYGON (((759252.1 22...</td></tr>\n",
              "\t<tr><td>NA</td><td>kauai  </td><td>NA            </td><td> 1</td><td>lumahai       </td><td>E:/Data/AOI_Shapefiles/kauai/lumahai.shp       </td><td>MULTIPOLYGON (((444046 2452...</td></tr>\n",
              "\t<tr><td> 1</td><td>maui   </td><td>NA            </td><td>NA</td><td>paukukalo     </td><td>E:/Data/AOI_Shapefiles/maui/paukukalo.shp      </td><td>MULTIPOLYGON (((758616.3 23...</td></tr>\n",
              "\t<tr><td> 1</td><td>oahu   </td><td>NA            </td><td>NA</td><td>pearl_harbor  </td><td>E:/Data/AOI_Shapefiles/oahu/pearl_harbor.shp   </td><td>MULTIPOLYGON (((599581.1 23...</td></tr>\n",
              "\t<tr><td> 1</td><td>maui   </td><td>NA            </td><td>NA</td><td>waihee        </td><td>E:/Data/AOI_Shapefiles/maui/waihee.shp         </td><td>MULTIPOLYGON (((757873.3 23...</td></tr>\n",
              "\t<tr><td> 1</td><td>kauai  </td><td>NA            </td><td>NA</td><td>wailua_opaekaa</td><td>E:/Data/AOI_Shapefiles/kauai/wailua_opaekaa.shp</td><td>MULTIPOLYGON (((464124.8 24...</td></tr>\n",
              "</tbody>\n",
              "</table>\n"
            ],
            "text/markdown": "\nA sf: 16 × 7\n\n| id &lt;dbl&gt; | island &lt;chr&gt; | name &lt;chr&gt; | lumahai &lt;dbl&gt; | layer &lt;chr&gt; | path &lt;chr&gt; | geom &lt;MULTIPOLYGON [m]&gt; |\n|---|---|---|---|---|---|---|\n|  1 | kauai   | NA             | NA | anahola        | E:/Data/AOI_Shapefiles/kauai/anahola.shp        | MULTIPOLYGON (((467439.4 24... |\n|  1 | oahu    | NA             | NA | haleiwa        | E:/Data/AOI_Shapefiles/oahu/haleiwa.shp         | MULTIPOLYGON (((590409.2 23... |\n|  1 | kauai   | NA             | NA | hanalei        | E:/Data/AOI_Shapefiles/kauai/hanalei.shp        | MULTIPOLYGON (((445906 2451... |\n|  1 | kauai   | NA             | NA | huleia         | E:/Data/AOI_Shapefiles/kauai/huleia.shp         | MULTIPOLYGON (((459399.5 24... |\n|  1 | oahu    | NA             | NA | kahuku         | E:/Data/AOI_Shapefiles/oahu/kahuku.shp          | MULTIPOLYGON (((602662.2 23... |\n|  1 | molokai | NA             | NA | kakahaia       | E:/Data/AOI_Shapefiles/molokai/kakahaia.shp     | MULTIPOLYGON (((712686.8 23... |\n|  1 | molokai | NA             | NA | kaluaapuhi     | E:/Data/AOI_Shapefiles/molokai/kaluaapuhi.shp   | MULTIPOLYGON (((694186.8 23... |\n|  1 | molokai | NA             | NA | kamalo         | E:/Data/AOI_Shapefiles/molokai/kamalo.shp       | MULTIPOLYGON (((718784.3 23... |\n|  1 | maui    | NA             | NA | kanaha         | E:/Data/AOI_Shapefiles/maui/kanaha.shp          | MULTIPOLYGON (((763679.9 23... |\n|  1 | oahu    | kawainui marsh | NA | kawainui_marsh | E:/Data/AOI_Shapefiles/oahu/kawainui_marsh.shp  | MULTIPOLYGON (((625876.9 23... |\n|  1 | maui    | NA             | NA | kealia         | E:/Data/AOI_Shapefiles/maui/kealia.shp          | MULTIPOLYGON (((759252.1 22... |\n| NA | kauai   | NA             |  1 | lumahai        | E:/Data/AOI_Shapefiles/kauai/lumahai.shp        | MULTIPOLYGON (((444046 2452... |\n|  1 | maui    | NA             | NA | paukukalo      | E:/Data/AOI_Shapefiles/maui/paukukalo.shp       | MULTIPOLYGON (((758616.3 23... |\n|  1 | oahu    | NA             | NA | pearl_harbor   | E:/Data/AOI_Shapefiles/oahu/pearl_harbor.shp    | MULTIPOLYGON (((599581.1 23... |\n|  1 | maui    | NA             | NA | waihee         | E:/Data/AOI_Shapefiles/maui/waihee.shp          | MULTIPOLYGON (((757873.3 23... |\n|  1 | kauai   | NA             | NA | wailua_opaekaa | E:/Data/AOI_Shapefiles/kauai/wailua_opaekaa.shp | MULTIPOLYGON (((464124.8 24... |\n\n",
            "text/latex": "A sf: 16 × 7\n\\begin{tabular}{lllllll}\n id & island & name & lumahai & layer & path & geom\\\\\n <dbl> & <chr> & <chr> & <dbl> & <chr> & <chr> & <MULTIPOLYGON {[}m{]}>\\\\\n\\hline\n\t  1 & kauai   & NA             & NA & anahola        & E:/Data/AOI\\_Shapefiles/kauai/anahola.shp        & MULTIPOLYGON (((467439.4 24...\\\\\n\t  1 & oahu    & NA             & NA & haleiwa        & E:/Data/AOI\\_Shapefiles/oahu/haleiwa.shp         & MULTIPOLYGON (((590409.2 23...\\\\\n\t  1 & kauai   & NA             & NA & hanalei        & E:/Data/AOI\\_Shapefiles/kauai/hanalei.shp        & MULTIPOLYGON (((445906 2451...\\\\\n\t  1 & kauai   & NA             & NA & huleia         & E:/Data/AOI\\_Shapefiles/kauai/huleia.shp         & MULTIPOLYGON (((459399.5 24...\\\\\n\t  1 & oahu    & NA             & NA & kahuku         & E:/Data/AOI\\_Shapefiles/oahu/kahuku.shp          & MULTIPOLYGON (((602662.2 23...\\\\\n\t  1 & molokai & NA             & NA & kakahaia       & E:/Data/AOI\\_Shapefiles/molokai/kakahaia.shp     & MULTIPOLYGON (((712686.8 23...\\\\\n\t  1 & molokai & NA             & NA & kaluaapuhi     & E:/Data/AOI\\_Shapefiles/molokai/kaluaapuhi.shp   & MULTIPOLYGON (((694186.8 23...\\\\\n\t  1 & molokai & NA             & NA & kamalo         & E:/Data/AOI\\_Shapefiles/molokai/kamalo.shp       & MULTIPOLYGON (((718784.3 23...\\\\\n\t  1 & maui    & NA             & NA & kanaha         & E:/Data/AOI\\_Shapefiles/maui/kanaha.shp          & MULTIPOLYGON (((763679.9 23...\\\\\n\t  1 & oahu    & kawainui marsh & NA & kawainui\\_marsh & E:/Data/AOI\\_Shapefiles/oahu/kawainui\\_marsh.shp  & MULTIPOLYGON (((625876.9 23...\\\\\n\t  1 & maui    & NA             & NA & kealia         & E:/Data/AOI\\_Shapefiles/maui/kealia.shp          & MULTIPOLYGON (((759252.1 22...\\\\\n\t NA & kauai   & NA             &  1 & lumahai        & E:/Data/AOI\\_Shapefiles/kauai/lumahai.shp        & MULTIPOLYGON (((444046 2452...\\\\\n\t  1 & maui    & NA             & NA & paukukalo      & E:/Data/AOI\\_Shapefiles/maui/paukukalo.shp       & MULTIPOLYGON (((758616.3 23...\\\\\n\t  1 & oahu    & NA             & NA & pearl\\_harbor   & E:/Data/AOI\\_Shapefiles/oahu/pearl\\_harbor.shp    & MULTIPOLYGON (((599581.1 23...\\\\\n\t  1 & maui    & NA             & NA & waihee         & E:/Data/AOI\\_Shapefiles/maui/waihee.shp          & MULTIPOLYGON (((757873.3 23...\\\\\n\t  1 & kauai   & NA             & NA & wailua\\_opaekaa & E:/Data/AOI\\_Shapefiles/kauai/wailua\\_opaekaa.shp & MULTIPOLYGON (((464124.8 24...\\\\\n\\end{tabular}\n",
            "text/plain": [
              "   id island  name           lumahai layer         \n",
              "1   1 kauai   NA             NA      anahola       \n",
              "2   1 oahu    NA             NA      haleiwa       \n",
              "3   1 kauai   NA             NA      hanalei       \n",
              "4   1 kauai   NA             NA      huleia        \n",
              "5   1 oahu    NA             NA      kahuku        \n",
              "6   1 molokai NA             NA      kakahaia      \n",
              "7   1 molokai NA             NA      kaluaapuhi    \n",
              "8   1 molokai NA             NA      kamalo        \n",
              "9   1 maui    NA             NA      kanaha        \n",
              "10  1 oahu    kawainui marsh NA      kawainui_marsh\n",
              "11  1 maui    NA             NA      kealia        \n",
              "12 NA kauai   NA              1      lumahai       \n",
              "13  1 maui    NA             NA      paukukalo     \n",
              "14  1 oahu    NA             NA      pearl_harbor  \n",
              "15  1 maui    NA             NA      waihee        \n",
              "16  1 kauai   NA             NA      wailua_opaekaa\n",
              "   path                                           \n",
              "1  E:/Data/AOI_Shapefiles/kauai/anahola.shp       \n",
              "2  E:/Data/AOI_Shapefiles/oahu/haleiwa.shp        \n",
              "3  E:/Data/AOI_Shapefiles/kauai/hanalei.shp       \n",
              "4  E:/Data/AOI_Shapefiles/kauai/huleia.shp        \n",
              "5  E:/Data/AOI_Shapefiles/oahu/kahuku.shp         \n",
              "6  E:/Data/AOI_Shapefiles/molokai/kakahaia.shp    \n",
              "7  E:/Data/AOI_Shapefiles/molokai/kaluaapuhi.shp  \n",
              "8  E:/Data/AOI_Shapefiles/molokai/kamalo.shp      \n",
              "9  E:/Data/AOI_Shapefiles/maui/kanaha.shp         \n",
              "10 E:/Data/AOI_Shapefiles/oahu/kawainui_marsh.shp \n",
              "11 E:/Data/AOI_Shapefiles/maui/kealia.shp         \n",
              "12 E:/Data/AOI_Shapefiles/kauai/lumahai.shp       \n",
              "13 E:/Data/AOI_Shapefiles/maui/paukukalo.shp      \n",
              "14 E:/Data/AOI_Shapefiles/oahu/pearl_harbor.shp   \n",
              "15 E:/Data/AOI_Shapefiles/maui/waihee.shp         \n",
              "16 E:/Data/AOI_Shapefiles/kauai/wailua_opaekaa.shp\n",
              "   geom                          \n",
              "1  MULTIPOLYGON (((467439.4 24...\n",
              "2  MULTIPOLYGON (((590409.2 23...\n",
              "3  MULTIPOLYGON (((445906 2451...\n",
              "4  MULTIPOLYGON (((459399.5 24...\n",
              "5  MULTIPOLYGON (((602662.2 23...\n",
              "6  MULTIPOLYGON (((712686.8 23...\n",
              "7  MULTIPOLYGON (((694186.8 23...\n",
              "8  MULTIPOLYGON (((718784.3 23...\n",
              "9  MULTIPOLYGON (((763679.9 23...\n",
              "10 MULTIPOLYGON (((625876.9 23...\n",
              "11 MULTIPOLYGON (((759252.1 22...\n",
              "12 MULTIPOLYGON (((444046 2452...\n",
              "13 MULTIPOLYGON (((758616.3 23...\n",
              "14 MULTIPOLYGON (((599581.1 23...\n",
              "15 MULTIPOLYGON (((757873.3 23...\n",
              "16 MULTIPOLYGON (((464124.8 24..."
            ]
          },
          "metadata": {}
        }
      ]
    },
    {
      "cell_type": "code",
      "source": [
        "#  THIS ONE WORKS, IS CLOSEST TO THE CLIP EXPORTS, AND WORKS. USE THISSSSS\n",
        "#  planet data at 3m per pixel for 128 pixels wide for each tile = 384,384\n",
        "\n",
        "# Create a fishnet grid for each row in wetlandsVector matching the raster origin\n",
        "wetlandsFishnet <-\n",
        "  1:nrow(wetlandsVector) %>%\n",
        "  lapply(function(y){\n",
        "    # Create a fishnet grid with the specified cell size and origin matching the raster\n",
        "    fishnet <- st_make_grid(wetlandsVector[y,], cellsize = c(384,384)) %>%\n",
        "               st_as_sf() %>%\n",
        "               st_intersection(wetlandsVector[y,]) %>%\n",
        "               st_transform(st_crs(26904)) %>%\n",
        "               data.table()\n",
        "\n",
        "    fishnet$rowid <- 1:nrow(fishnet)\n",
        "\n",
        "    # Assuming 'island' is a column in wetlandsVector\n",
        "    fishnet$island <- wetlandsVector$island[y]\n",
        "\n",
        "    return(fishnet)\n",
        "  }) %>%\n",
        "  rbindlist()\n",
        "\n",
        "# Convert the result back to an sf object if needed\n",
        "wetlandsFishnet_sf <- st_as_sf(wetlandsFishnet)\n",
        "\n",
        "# If you need to save the result as a file\n",
        "st_write(wetlandsFishnet_sf, \"/content/384_wetlandsFishnet.gpkg\")"
      ],
      "metadata": {
        "colab": {
          "base_uri": "https://localhost:8080/"
        },
        "id": "dOe2obA9P3Bx",
        "outputId": "5679bef9-d0b3-4b92-df47-2b98bb7bc48e"
      },
      "execution_count": 98,
      "outputs": [
        {
          "output_type": "stream",
          "name": "stderr",
          "text": [
            "Warning message:\n",
            "“attribute variables are assumed to be spatially constant throughout all geometries”\n",
            "Warning message:\n",
            "“attribute variables are assumed to be spatially constant throughout all geometries”\n",
            "Warning message:\n",
            "“attribute variables are assumed to be spatially constant throughout all geometries”\n",
            "Warning message:\n",
            "“attribute variables are assumed to be spatially constant throughout all geometries”\n",
            "Warning message:\n",
            "“attribute variables are assumed to be spatially constant throughout all geometries”\n",
            "Warning message:\n",
            "“attribute variables are assumed to be spatially constant throughout all geometries”\n",
            "Warning message:\n",
            "“attribute variables are assumed to be spatially constant throughout all geometries”\n",
            "Warning message:\n",
            "“attribute variables are assumed to be spatially constant throughout all geometries”\n",
            "Warning message:\n",
            "“attribute variables are assumed to be spatially constant throughout all geometries”\n",
            "Warning message:\n",
            "“attribute variables are assumed to be spatially constant throughout all geometries”\n",
            "Warning message:\n",
            "“attribute variables are assumed to be spatially constant throughout all geometries”\n",
            "Warning message:\n",
            "“attribute variables are assumed to be spatially constant throughout all geometries”\n",
            "Warning message:\n",
            "“attribute variables are assumed to be spatially constant throughout all geometries”\n",
            "Warning message:\n",
            "“attribute variables are assumed to be spatially constant throughout all geometries”\n",
            "Warning message:\n",
            "“attribute variables are assumed to be spatially constant throughout all geometries”\n",
            "Warning message:\n",
            "“attribute variables are assumed to be spatially constant throughout all geometries”\n"
          ]
        },
        {
          "output_type": "stream",
          "name": "stdout",
          "text": [
            "Writing layer `384_wetlandsFishnet' to data source \n",
            "  `/content/384_wetlandsFishnet.gpkg' using driver `GPKG'\n",
            "Writing 2666 features with 7 fields and geometry type Polygon.\n"
          ]
        }
      ]
    },
    {
      "cell_type": "code",
      "source": [],
      "metadata": {
        "id": "VDNG3F2nytic"
      },
      "execution_count": null,
      "outputs": []
    },
    {
      "cell_type": "code",
      "source": [
        "# this created a fishnet that's still not 100 equal cell sizes\n",
        "\n",
        "# Assuming wetlandsVector is already defined and has the necessary CRS\n",
        "test_wetlandsFishnet <- lapply(1:nrow(wetlandsVector), function(y) {\n",
        "  feature <- wetlandsVector[y, ]\n",
        "  cellsize <- c(384, 384)\n",
        "\n",
        "  # Calculate the bounding box and its dimensions\n",
        "  bbox <- st_bbox(feature)\n",
        "  bbox_dim <- c(bbox[\"xmax\"] - bbox[\"xmin\"], bbox[\"ymax\"] - bbox[\"ymin\"])\n",
        "\n",
        "  # Calculate the necessary buffer to make the dimensions divisible by cell size\n",
        "  buffer <- cellsize - (bbox_dim %% cellsize)\n",
        "  buffer[buffer == cellsize] <- 0  # No buffer needed if perfectly divisible\n",
        "\n",
        "  # Adjust bbox to include the buffer\n",
        "  bbox_adjusted <- bbox + c(-buffer[1]/2, -buffer[2]/2, buffer[1]/2, buffer[2]/2)\n",
        "\n",
        "  # Create an sf object with the adjusted bbox\n",
        "  feature_adjusted <- st_as_sfc(st_bbox(bbox_adjusted), crs = st_crs(feature))\n",
        "\n",
        "  # Now create the fishnet with the adjusted feature\n",
        "  fishnet <- st_make_grid(feature_adjusted, cellsize = cellsize) %>%\n",
        "             st_as_sf() %>%\n",
        "             st_intersection(feature) %>%\n",
        "             st_transform(crs = st_crs(26904)) %>%\n",
        "             data.table()\n",
        "\n",
        "  fishnet$rowid <- 1:nrow(fishnet)\n",
        "  fishnet$island <- feature$island\n",
        "\n",
        "  return(fishnet)\n",
        "}) %>%\n",
        "rbindlist()\n",
        "\n",
        "# Convert the result back to an sf object\n",
        "test_wetlandsFishnet_sf <- st_as_sf(test_wetlandsFishnet)\n",
        "st_write(test_wetlandsFishnet_sf, \"/content/test_384_wetlandsFishnet.gpkg\")"
      ],
      "metadata": {
        "colab": {
          "base_uri": "https://localhost:8080/"
        },
        "id": "vwwYZBMBytgI",
        "outputId": "463c68d2-8dbf-4f5a-e615-e29aaccf97a1"
      },
      "execution_count": 99,
      "outputs": [
        {
          "output_type": "stream",
          "name": "stderr",
          "text": [
            "Warning message:\n",
            "“attribute variables are assumed to be spatially constant throughout all geometries”\n",
            "Warning message:\n",
            "“attribute variables are assumed to be spatially constant throughout all geometries”\n",
            "Warning message:\n",
            "“attribute variables are assumed to be spatially constant throughout all geometries”\n",
            "Warning message:\n",
            "“attribute variables are assumed to be spatially constant throughout all geometries”\n",
            "Warning message:\n",
            "“attribute variables are assumed to be spatially constant throughout all geometries”\n",
            "Warning message:\n",
            "“attribute variables are assumed to be spatially constant throughout all geometries”\n",
            "Warning message:\n",
            "“attribute variables are assumed to be spatially constant throughout all geometries”\n",
            "Warning message:\n",
            "“attribute variables are assumed to be spatially constant throughout all geometries”\n",
            "Warning message:\n",
            "“attribute variables are assumed to be spatially constant throughout all geometries”\n",
            "Warning message:\n",
            "“attribute variables are assumed to be spatially constant throughout all geometries”\n",
            "Warning message:\n",
            "“attribute variables are assumed to be spatially constant throughout all geometries”\n",
            "Warning message:\n",
            "“attribute variables are assumed to be spatially constant throughout all geometries”\n",
            "Warning message:\n",
            "“attribute variables are assumed to be spatially constant throughout all geometries”\n",
            "Warning message:\n",
            "“attribute variables are assumed to be spatially constant throughout all geometries”\n",
            "Warning message:\n",
            "“attribute variables are assumed to be spatially constant throughout all geometries”\n",
            "Warning message:\n",
            "“attribute variables are assumed to be spatially constant throughout all geometries”\n"
          ]
        },
        {
          "output_type": "stream",
          "name": "stdout",
          "text": [
            "Writing layer `test_384_wetlandsFishnet' to data source \n",
            "  `/content/test_384_wetlandsFishnet.gpkg' using driver `GPKG'\n",
            "Writing 2666 features with 7 fields and geometry type Polygon.\n"
          ]
        }
      ]
    },
    {
      "cell_type": "code",
      "source": [
        "test_wetlandsFishnet_sf"
      ],
      "metadata": {
        "id": "rZida4f04V0s"
      },
      "execution_count": null,
      "outputs": []
    },
    {
      "cell_type": "code",
      "source": [
        "# Error in FUN(X[[i]], ...): !anyNA(x) is not TRUE\n",
        "\n",
        "# Function to calculate expanded extent\n",
        "calculate_expanded_extent <- function(feature, cellsize) {\n",
        "  bbox <- st_bbox(feature)\n",
        "  xmin_expanded <- floor(bbox$xmin / cellsize[1]) * cellsize[1]\n",
        "  xmax_expanded <- ceiling(bbox$xmax / cellsize[1]) * cellsize[1]\n",
        "  ymin_expanded <- floor(bbox$ymin / cellsize[2]) * cellsize[2]\n",
        "  ymax_expanded <- ceiling(bbox$ymax / cellsize[2]) * cellsize[2]\n",
        "  expanded_bbox <- c(xmin = xmin_expanded, xmax = xmax_expanded, ymin = ymin_expanded, ymax = ymax_expanded)\n",
        "  return(st_as_sfc(st_bbox(expanded_bbox), crs = st_crs(feature)))\n",
        "}\n",
        "\n",
        "# Create the fishnet grid for each feature\n",
        "test_02_wetlandsFishnet <- lapply(1:nrow(wetlandsVector), function(y) {\n",
        "  feature <- wetlandsVector[y, ]\n",
        "  cellsize <- c(384, 384)\n",
        "\n",
        "  # Calculate the expanded extent\n",
        "  feature_expanded <- calculate_expanded_extent(feature, cellsize)\n",
        "\n",
        "  # Create the fishnet grid with the expanded extent\n",
        "  fishnet <- st_make_grid(feature_expanded, cellsize = cellsize) %>%\n",
        "             st_as_sf() %>%\n",
        "             st_intersection(feature) %>%  # Optional: Clip to original feature extent\n",
        "             st_transform(crs = st_crs(26904)) %>%\n",
        "             data.table()\n",
        "\n",
        "  fishnet$rowid <- 1:nrow(fishnet)\n",
        "  fishnet$island <- feature$island[y]\n",
        "\n",
        "  return(fishnet)\n",
        "}) %>%\n",
        "rbindlist()\n",
        "\n",
        "# Convert the result back to an sf object\n",
        "test_02_wetlandsFishnet_sf <- st_as_sf(wetlandsFishnet)\n",
        "st_write(test_02_wetlandsFishnet_sf, \"/content/test_02_384_wetlandsFishnet.gpkg\")"
      ],
      "metadata": {
        "colab": {
          "base_uri": "https://localhost:8080/",
          "height": 695
        },
        "id": "A9-VZiq6ytdu",
        "outputId": "c28b6b7b-81ba-441f-e5e8-9fbd310b41ab"
      },
      "execution_count": 100,
      "outputs": [
        {
          "output_type": "error",
          "ename": "ERROR",
          "evalue": "Error in FUN(X[[i]], ...): !anyNA(x) is not TRUE\n",
          "traceback": [
            "Error in FUN(X[[i]], ...): !anyNA(x) is not TRUE\nTraceback:\n",
            "1. lapply(1:nrow(wetlandsVector), function(y) {\n .     feature <- wetlandsVector[y, ]\n .     cellsize <- c(384, 384)\n .     feature_expanded <- calculate_expanded_extent(feature, cellsize)\n .     fishnet <- st_make_grid(feature_expanded, cellsize = cellsize) %>% \n .         st_as_sf() %>% st_intersection(feature) %>% st_transform(crs = st_crs(26904)) %>% \n .         data.table()\n .     fishnet$rowid <- 1:nrow(fishnet)\n .     fishnet$island <- feature$island[y]\n .     return(fishnet)\n . }) %>% rbindlist()",
            "2. rbindlist(.)",
            "3. lapply(1:nrow(wetlandsVector), function(y) {\n .     feature <- wetlandsVector[y, ]\n .     cellsize <- c(384, 384)\n .     feature_expanded <- calculate_expanded_extent(feature, cellsize)\n .     fishnet <- st_make_grid(feature_expanded, cellsize = cellsize) %>% \n .         st_as_sf() %>% st_intersection(feature) %>% st_transform(crs = st_crs(26904)) %>% \n .         data.table()\n .     fishnet$rowid <- 1:nrow(fishnet)\n .     fishnet$island <- feature$island[y]\n .     return(fishnet)\n . })",
            "4. FUN(X[[i]], ...)",
            "5. calculate_expanded_extent(feature, cellsize)   # at line 18 of file <text>",
            "6. st_as_sfc(st_bbox(expanded_bbox), crs = st_crs(feature))   # at line 9 of file <text>",
            "7. st_as_sfc.bbox(st_bbox(expanded_bbox), crs = st_crs(feature))",
            "8. st_polygon(list(matrix(x[c(1, 2, 3, 2, 3, 4, 1, 4, 1, 2)], ncol = 2, \n .     byrow = TRUE)))",
            "9. MtrxSet(x, dim, type = \"POLYGON\", needClosed = TRUE)",
            "10. lapply(x, valid_numeric_matrix)",
            "11. FUN(X[[i]], ...)",
            "12. stopifnot(is.numeric(x), is.matrix(x), !anyNA(x))"
          ]
        }
      ]
    },
    {
      "cell_type": "code",
      "source": [
        "# Error in FUN(X[[i]], ...): !anyNA(x) is not TRUE\n",
        "\n",
        "# Ensure wetlandsVector is correctly defined and has valid geometries and CRS\n",
        "\n",
        "# Function to calculate expanded extent with NA checks\n",
        "test_03_calculate_expanded_extent <- function(feature, cellsize) {\n",
        "  bbox <- st_bbox(feature)\n",
        "  if (any(is.na(bbox))) stop(\"Bounding box contains NA values.\")\n",
        "\n",
        "  xmin_expanded <- floor(bbox$xmin / cellsize[1]) * cellsize[1]\n",
        "  xmax_expanded <- ceiling(bbox$xmax / cellsize[1]) * cellsize[1]\n",
        "  ymin_expanded <- floor(bbox$ymin / cellsize[2]) * cellsize[2]\n",
        "  ymax_expanded <- ceiling(bbox$ymax / cellsize[2]) * cellsize[2]\n",
        "\n",
        "  if (any(is.na(c(xmin_expanded, xmax_expanded, ymin_expanded, ymax_expanded)))) {\n",
        "    stop(\"Expanded bounding box calculation resulted in NA values.\")\n",
        "  }\n",
        "\n",
        "  test_03_expanded_bbox <- c(xmin = xmin_expanded, xmax = xmax_expanded, ymin = ymin_expanded, ymax = ymax_expanded)\n",
        "  return(st_as_sfc(st_bbox(test_03_expanded_bbox), crs = st_crs(feature)))\n",
        "}\n",
        "\n",
        "test_03_wetlandsFishnet <- lapply(1:nrow(wetlandsVector), function(y) {\n",
        "  feature <- wetlandsVector[y, ]\n",
        "  if (st_is_empty(feature)) stop(paste(\"Feature\", y, \"is empty.\"))\n",
        "\n",
        "  cellsize <- c(384, 384)\n",
        "\n",
        "  feature_expanded <- test_03_calculate_expanded_extent(feature, cellsize)\n",
        "\n",
        "  fishnet <- st_make_grid(feature_expanded, cellsize = cellsize) %>%\n",
        "             st_as_sf() %>%\n",
        "             tryCatch({\n",
        "               st_intersection(feature)\n",
        "             }, error = function(e) {\n",
        "               stop(paste(\"Error in st_intersection for feature\", y, \":\", e$message))\n",
        "             }) %>%\n",
        "             st_transform(crs = st_crs(26904)) %>%\n",
        "             data.table()\n",
        "\n",
        "  if (nrow(fishnet) == 0) stop(paste(\"Fishnet for feature\", y, \"resulted in an empty geometry.\"))\n",
        "\n",
        "  fishnet$rowid <- 1:nrow(fishnet)\n",
        "  fishnet$island <- feature$island\n",
        "\n",
        "  return(fishnet)\n",
        "}) %>% rbindlist()\n",
        "\n",
        "test_03_wetlandsFishnet_sf <- st_as_sf(test_03_wetlandsFishnet)\n",
        "st_write(test_03_wetlandsFishnet_sf, \"/content/test_03_384_wetlandsFishnet.gpkg\")"
      ],
      "metadata": {
        "colab": {
          "base_uri": "https://localhost:8080/",
          "height": 1000
        },
        "id": "ZkOCzFak1Z9b",
        "outputId": "8dee7fe5-0568-42d5-e990-79bdddb3a338"
      },
      "execution_count": 101,
      "outputs": [
        {
          "output_type": "error",
          "ename": "ERROR",
          "evalue": "Error in FUN(X[[i]], ...): !anyNA(x) is not TRUE\n",
          "traceback": [
            "Error in FUN(X[[i]], ...): !anyNA(x) is not TRUE\nTraceback:\n",
            "1. lapply(1:nrow(wetlandsVector), function(y) {\n .     feature <- wetlandsVector[y, ]\n .     if (st_is_empty(feature)) \n .         stop(paste(\"Feature\", y, \"is empty.\"))\n .     cellsize <- c(384, 384)\n .     feature_expanded <- test_03_calculate_expanded_extent(feature, \n .         cellsize)\n .     fishnet <- st_make_grid(feature_expanded, cellsize = cellsize) %>% \n .         st_as_sf() %>% tryCatch({\n .         st_intersection(feature)\n .     }, error = function(e) {\n .         stop(paste(\"Error in st_intersection for feature\", y, \n .             \":\", e$message))\n .     }) %>% st_transform(crs = st_crs(26904)) %>% data.table()\n .     if (nrow(fishnet) == 0) \n .         stop(paste(\"Fishnet for feature\", y, \"resulted in an empty geometry.\"))\n .     fishnet$rowid <- 1:nrow(fishnet)\n .     fishnet$island <- feature$island\n .     return(fishnet)\n . }) %>% rbindlist()",
            "2. rbindlist(.)",
            "3. lapply(1:nrow(wetlandsVector), function(y) {\n .     feature <- wetlandsVector[y, ]\n .     if (st_is_empty(feature)) \n .         stop(paste(\"Feature\", y, \"is empty.\"))\n .     cellsize <- c(384, 384)\n .     feature_expanded <- test_03_calculate_expanded_extent(feature, \n .         cellsize)\n .     fishnet <- st_make_grid(feature_expanded, cellsize = cellsize) %>% \n .         st_as_sf() %>% tryCatch({\n .         st_intersection(feature)\n .     }, error = function(e) {\n .         stop(paste(\"Error in st_intersection for feature\", y, \n .             \":\", e$message))\n .     }) %>% st_transform(crs = st_crs(26904)) %>% data.table()\n .     if (nrow(fishnet) == 0) \n .         stop(paste(\"Fishnet for feature\", y, \"resulted in an empty geometry.\"))\n .     fishnet$rowid <- 1:nrow(fishnet)\n .     fishnet$island <- feature$island\n .     return(fishnet)\n . })",
            "4. FUN(X[[i]], ...)",
            "5. test_03_calculate_expanded_extent(feature, cellsize)   # at line 28 of file <text>",
            "6. st_as_sfc(st_bbox(test_03_expanded_bbox), crs = st_crs(feature))   # at line 19 of file <text>",
            "7. st_as_sfc.bbox(st_bbox(test_03_expanded_bbox), crs = st_crs(feature))",
            "8. st_polygon(list(matrix(x[c(1, 2, 3, 2, 3, 4, 1, 4, 1, 2)], ncol = 2, \n .     byrow = TRUE)))",
            "9. MtrxSet(x, dim, type = \"POLYGON\", needClosed = TRUE)",
            "10. lapply(x, valid_numeric_matrix)",
            "11. FUN(X[[i]], ...)",
            "12. stopifnot(is.numeric(x), is.matrix(x), !anyNA(x))"
          ]
        }
      ]
    },
    {
      "cell_type": "code",
      "source": [
        "test_04_wetlandsVector <- wetlandsVector"
      ],
      "metadata": {
        "id": "FugJUIEb2_gF"
      },
      "execution_count": 104,
      "outputs": []
    },
    {
      "cell_type": "code",
      "source": [
        "test_04_wetlandsVector"
      ],
      "metadata": {
        "id": "sSckCIM63DoH"
      },
      "execution_count": null,
      "outputs": []
    },
    {
      "cell_type": "code",
      "source": [
        "# Check for invalid geometries\n",
        "test_04_wetlandsVector <- st_make_valid(test_04_wetlandsVector)\n",
        "\n",
        "# Alternatively, if you need to identify invalid geometries\n",
        "invalid <- which(!st_is_valid(test_04_wetlandsVector))\n",
        "if (length(invalid) > 0) {\n",
        "  cat(\"Invalid geometries at indices:\", invalid, \"\\n\")\n",
        "}"
      ],
      "metadata": {
        "id": "2BSVHHLK298x"
      },
      "execution_count": 106,
      "outputs": []
    },
    {
      "cell_type": "code",
      "source": [
        "test_04_wetlandsVector$geom"
      ],
      "metadata": {
        "id": "6GtjlJKP3G3R"
      },
      "execution_count": null,
      "outputs": []
    },
    {
      "cell_type": "code",
      "source": [
        "# Error in FUN(X[[i]], ...): !anyNA(x) is not TRUE\n",
        "\n",
        "test_04_calculate_expanded_extent <- function(feature, cellsize) {\n",
        "  bbox <- st_bbox(feature)\n",
        "  xmin_expanded <- floor(bbox$xmin / cellsize[1]) * cellsize[1]\n",
        "  xmax_expanded <- ceiling(bbox$xmax / cellsize[1]) * cellsize[1]\n",
        "  ymin_expanded <- floor(bbox$ymin / cellsize[2]) * cellsize[2]\n",
        "  ymax_expanded <- ceiling(bbox$ymax / cellsize[2]) * cellsize[2]\n",
        "  expanded_bbox <- c(xmin = xmin_expanded, xmax = xmax_expanded, ymin = ymin_expanded, ymax = ymax_expanded)\n",
        "\n",
        "  # Return an expanded bbox as an sf polygon\n",
        "  st_as_sfc(st_bbox(expanded_bbox), crs = st_crs(feature))\n",
        "}\n",
        "\n",
        "test_04_wetlandsFishnet <- lapply(1:nrow(test_04_wetlandsVector), function(y) {\n",
        "  feature <- test_04_wetlandsVector[y, ]\n",
        "  cellsize <- c(384, 384)\n",
        "\n",
        "  if (any(is.na(feature$geom))) {\n",
        "    stop(paste(\"Feature\", y, \"contains NA in geometry.\"))\n",
        "  }\n",
        "\n",
        "\n",
        "\n",
        "  feature_expanded <- test_04_calculate_expanded_extent(feature, cellsize)\n",
        "\n",
        "  print(feature_expanded)\n",
        "\n",
        "  fishnet <- st_make_grid(feature_expanded, cellsize = cellsize) %>%\n",
        "             st_as_sf() %>%\n",
        "             st_intersection(feature) %>%\n",
        "             st_transform(crs = st_crs(test_04_wetlandsVector)) %>%\n",
        "             data.table()\n",
        "\n",
        "  print(fishnet)\n",
        "\n",
        "\n",
        "  fishnet$rowid <- 1:nrow(fishnet)\n",
        "  fishnet$island <- feature$island\n",
        "  print(test_04_wetlandsFishnet)\n",
        "  return(fishnet)\n",
        "}) %>% rbindlist()\n",
        "\n",
        "test_04_wetlandsFishnet_sf <- st_as_sf(test_04_wetlandsFishnet)\n",
        "st_write(test_04_wetlandsFishnet_sf, \"/content/test_04_384_wetlandsFishnet.gpkg\")"
      ],
      "metadata": {
        "colab": {
          "base_uri": "https://localhost:8080/",
          "height": 950
        },
        "id": "hxqObmxT1Z65",
        "outputId": "0e65a57b-3a1d-452f-f0d6-0e2db588c9a5"
      },
      "execution_count": 113,
      "outputs": [
        {
          "output_type": "error",
          "ename": "ERROR",
          "evalue": "Error in FUN(X[[i]], ...): !anyNA(x) is not TRUE\n",
          "traceback": [
            "Error in FUN(X[[i]], ...): !anyNA(x) is not TRUE\nTraceback:\n",
            "1. lapply(1:nrow(test_04_wetlandsVector), function(y) {\n .     feature <- test_04_wetlandsVector[y, ]\n .     cellsize <- c(384, 384)\n .     if (any(is.na(feature$geom))) {\n .         stop(paste(\"Feature\", y, \"contains NA in geometry.\"))\n .     }\n .     feature_expanded <- test_04_calculate_expanded_extent(feature, \n .         cellsize)\n .     print(feature_expanded)\n .     fishnet <- st_make_grid(feature_expanded, cellsize = cellsize) %>% \n .         st_as_sf() %>% st_intersection(feature) %>% st_transform(crs = st_crs(test_04_wetlandsVector)) %>% \n .         data.table()\n .     print(fishnet)\n .     fishnet$rowid <- 1:nrow(fishnet)\n .     fishnet$island <- feature$island\n .     print(test_04_wetlandsFishnet)\n .     return(fishnet)\n . }) %>% rbindlist()",
            "2. rbindlist(.)",
            "3. lapply(1:nrow(test_04_wetlandsVector), function(y) {\n .     feature <- test_04_wetlandsVector[y, ]\n .     cellsize <- c(384, 384)\n .     if (any(is.na(feature$geom))) {\n .         stop(paste(\"Feature\", y, \"contains NA in geometry.\"))\n .     }\n .     feature_expanded <- test_04_calculate_expanded_extent(feature, \n .         cellsize)\n .     print(feature_expanded)\n .     fishnet <- st_make_grid(feature_expanded, cellsize = cellsize) %>% \n .         st_as_sf() %>% st_intersection(feature) %>% st_transform(crs = st_crs(test_04_wetlandsVector)) %>% \n .         data.table()\n .     print(fishnet)\n .     fishnet$rowid <- 1:nrow(fishnet)\n .     fishnet$island <- feature$island\n .     print(test_04_wetlandsFishnet)\n .     return(fishnet)\n . })",
            "4. FUN(X[[i]], ...)",
            "5. test_04_calculate_expanded_extent(feature, cellsize)   # at line 23 of file <text>",
            "6. st_as_sfc(st_bbox(expanded_bbox), crs = st_crs(feature))   # at line 10 of file <text>",
            "7. st_as_sfc.bbox(st_bbox(expanded_bbox), crs = st_crs(feature))",
            "8. st_polygon(list(matrix(x[c(1, 2, 3, 2, 3, 4, 1, 4, 1, 2)], ncol = 2, \n .     byrow = TRUE)))",
            "9. MtrxSet(x, dim, type = \"POLYGON\", needClosed = TRUE)",
            "10. lapply(x, valid_numeric_matrix)",
            "11. FUN(X[[i]], ...)",
            "12. stopifnot(is.numeric(x), is.matrix(x), !anyNA(x))"
          ]
        }
      ]
    },
    {
      "cell_type": "code",
      "source": [
        "# from scratchhhh\n",
        "\n",
        "create_fishnet_for_feature <- function(feature_sf, cell_size) {\n",
        "  # Calculate the bounding box\n",
        "  bbox <- st_bbox(feature_sf)\n",
        "\n",
        "  # Expand the bounding box to ensure it can be divided into cells of the specified size\n",
        "  bbox_expanded <- bbox\n",
        "  bbox_expanded[c(\"xmin\", \"ymin\")] <- floor(bbox[c(\"xmin\", \"ymin\")] / cell_size) * cell_size\n",
        "  bbox_expanded[c(\"xmax\", \"ymax\")] <- ceiling(bbox[c(\"xmax\", \"ymax\")] / cell_size) * cell_size\n",
        "\n",
        "  # Create a grid (fishnet)\n",
        "  grid <- st_make_grid(st_as_sfc(bbox_expanded, crs = st_crs(feature_sf)), cellsize = c(cell_size, cell_size))\n",
        "\n",
        "  # Optionally, intersect with the original feature if you want cells only within the feature\n",
        "  # grid_intersected <- st_intersection(grid, feature_sf)\n",
        "\n",
        "  # Return the grid\n",
        "  return(grid)\n",
        "}"
      ],
      "metadata": {
        "id": "zUi7KSM2ytbs"
      },
      "execution_count": 115,
      "outputs": []
    },
    {
      "cell_type": "code",
      "source": [
        "# Example to convert wetlandsVector to sf object, replace with your actual data loading\n",
        "startover_wetlandsVector_sf <- st_read(\"/content/workingfolder/aoi/utm4/aoi_utm4.gpkg\")\n",
        "\n",
        "# Assuming wetlandsVector is already an sf object and properly projected\n",
        "cell_size <- 384  # Cell size of 384 meters\n",
        "\n",
        "# Apply the function to each feature\n",
        "fishnets <- lapply(seq_len(nrow(startover_wetlandsVector_sf)), function(i) {\n",
        "  feature_sf <- startover_wetlandsVector_sf[i, ]\n",
        "  create_fishnet_for_feature(feature_sf, cell_size)\n",
        "})\n",
        "\n",
        "# Combine all fishnets into a single sf object, if needed\n",
        "fishnets_combined_sf <- st_as_sf(fishnets_combined)\n",
        "# fishnets_combined <- do.call(rbind, fishnets)"
      ],
      "metadata": {
        "colab": {
          "base_uri": "https://localhost:8080/",
          "height": 238
        },
        "id": "drumoOMjytQw",
        "outputId": "b729f6c0-20a1-47b7-a027-7a07f3166c4d"
      },
      "execution_count": 126,
      "outputs": [
        {
          "output_type": "stream",
          "name": "stdout",
          "text": [
            "Reading layer `aoi_wetland_4' from data source \n",
            "  `/content/workingfolder/aoi/utm4/aoi_utm4.gpkg' using driver `GPKG'\n",
            "Simple feature collection with 16 features and 6 fields\n",
            "Geometry type: MULTIPOLYGON\n",
            "Dimension:     XY\n",
            "Bounding box:  xmin: 444046 ymin: 2299914 xmax: 766191.9 ymax: 2457336\n",
            "Projected CRS: WGS 84 / UTM zone 4N\n"
          ]
        },
        {
          "output_type": "error",
          "ename": "ERROR",
          "evalue": "Error in UseMethod(\"st_as_sf\"): no applicable method for 'st_as_sf' applied to an object of class \"c('matrix', 'array', 'list')\"\n",
          "traceback": [
            "Error in UseMethod(\"st_as_sf\"): no applicable method for 'st_as_sf' applied to an object of class \"c('matrix', 'array', 'list')\"\nTraceback:\n",
            "1. st_as_sf(fishnets_combined)"
          ]
        }
      ]
    },
    {
      "cell_type": "code",
      "source": [
        "fishnets_combined"
      ],
      "metadata": {
        "id": "ylgjUyVV5nGo"
      },
      "execution_count": null,
      "outputs": []
    },
    {
      "cell_type": "code",
      "source": [
        "class(fishnets_combined)"
      ],
      "metadata": {
        "colab": {
          "base_uri": "https://localhost:8080/",
          "height": 34
        },
        "id": "O_IHnk3Q6k6P",
        "outputId": "03c44e3c-cf91-4d3c-b1fa-342d3c8900ea"
      },
      "execution_count": 128,
      "outputs": [
        {
          "output_type": "display_data",
          "data": {
            "text/html": [
              "<style>\n",
              ".list-inline {list-style: none; margin:0; padding: 0}\n",
              ".list-inline>li {display: inline-block}\n",
              ".list-inline>li:not(:last-child)::after {content: \"\\00b7\"; padding: 0 .5ex}\n",
              "</style>\n",
              "<ol class=list-inline><li>'matrix'</li><li>'array'</li></ol>\n"
            ],
            "text/markdown": "1. 'matrix'\n2. 'array'\n\n\n",
            "text/latex": "\\begin{enumerate*}\n\\item 'matrix'\n\\item 'array'\n\\end{enumerate*}\n",
            "text/plain": [
              "[1] \"matrix\" \"array\" "
            ]
          },
          "metadata": {}
        }
      ]
    },
    {
      "cell_type": "code",
      "source": [
        "fishnets_combined_sf <- st_as_sf(fishnets_combined)"
      ],
      "metadata": {
        "colab": {
          "base_uri": "https://localhost:8080/",
          "height": 201
        },
        "id": "JEwsrEWG6rjP",
        "outputId": "16326785-4c2c-4e09-ebf4-3cbb9e8e7214"
      },
      "execution_count": 125,
      "outputs": [
        {
          "output_type": "error",
          "ename": "ERROR",
          "evalue": "Error in setValues(r, as.vector(t(x))): cannot use a matrix with these dimensions\n",
          "traceback": [
            "Error in setValues(r, as.vector(t(x))): cannot use a matrix with these dimensions\nTraceback:\n",
            "1. raster(fishnets_combined)",
            "2. raster(fishnets_combined)",
            "3. .local(x, ...)",
            "4. setValues(r, as.vector(t(x)))",
            "5. setValues(r, as.vector(t(x)))",
            "6. stop(\"cannot use a matrix with these dimensions\")"
          ]
        }
      ]
    },
    {
      "cell_type": "code",
      "source": [
        "startover_output_file_path <- \"/content/startover_wetlandsFishnet_output.gpkg\"\n",
        "st_write(fishnets_combined, startover_output_file_path, delete_layer = TRUE)"
      ],
      "metadata": {
        "colab": {
          "base_uri": "https://localhost:8080/",
          "height": 110
        },
        "id": "sCkEvRCk6K93",
        "outputId": "ec81a67a-e0ab-4847-e6e0-723057bf3ad1"
      },
      "execution_count": 120,
      "outputs": [
        {
          "output_type": "error",
          "ename": "ERROR",
          "evalue": "Error in UseMethod(\"st_write\"): no applicable method for 'st_write' applied to an object of class \"c('matrix', 'array', 'list')\"\n",
          "traceback": [
            "Error in UseMethod(\"st_write\"): no applicable method for 'st_write' applied to an object of class \"c('matrix', 'array', 'list')\"\nTraceback:\n",
            "1. st_write(fishnets_combined, startover_output_file_path, delete_layer = TRUE)"
          ]
        }
      ]
    },
    {
      "cell_type": "markdown",
      "source": [
        "testing tiles to see if the ccap is doing weird things?"
      ],
      "metadata": {
        "id": "qY4Vbx6rQpUG"
      }
    },
    {
      "cell_type": "code",
      "source": [],
      "metadata": {
        "id": "BDrTaxVI808D"
      },
      "execution_count": null,
      "outputs": []
    },
    {
      "cell_type": "code",
      "source": [
        "#  THIS IS ITTTTT\n",
        "#  Expands the box so that each cell is equal.\n",
        "# Adjusting the provided code\n",
        "test_05_wetlandsFishnet <- lapply(1:nrow(wetlandsVector), function(y) {\n",
        "  feature <- wetlandsVector[y, ]\n",
        "  cellsize <- c(384, 384)\n",
        "\n",
        "  # Calculate the bounding box\n",
        "  bbox <- st_bbox(feature)\n",
        "\n",
        "  # # Expand the bounding box to ensure full coverage by the cell size\n",
        "  # bbox_expanded <- vector(\"list\", length = 4)\n",
        "  # bbox_expanded$xmin <- floor(bbox$xmin / cellsize[1]) * cellsize[1]\n",
        "  # bbox_expanded$xmax <- ceiling(bbox$xmax / cellsize[1]) * cellsize[1]\n",
        "  # bbox_expanded$ymin <- floor(bbox$ymin / cellsize[2]) * cellsize[2]\n",
        "  # bbox_expanded$ymax <- ceiling(bbox$ymax / cellsize[2]) * cellsize[2]\n",
        "\n",
        "# Calculate the necessary buffer to make the dimensions divisible by cell size\n",
        "  bbox_dim <- c(diff(c(bbox[\"xmin\"], bbox[\"xmax\"])), diff(c(bbox[\"ymin\"], bbox[\"ymax\"])))\n",
        "  buffer <- cellsize - (bbox_dim %% cellsize)\n",
        "  buffer[buffer == cellsize] <- 0  # Adjust if buffer is equal to cellsize\n",
        "\n",
        "# Adjust bbox to include the buffer\n",
        "  bbox_adjusted <- bbox + c(-buffer[1]/2, -buffer[2]/2, buffer[1]/2, buffer[2]/2)\n",
        "\n",
        "# Create an sf object with the adjusted bbox\n",
        "  feature_adjusted <- st_as_sfc(st_bbox(bbox_adjusted), crs = st_crs(feature))\n",
        "\n",
        "\n",
        "\n",
        "  # Create an sf object with the expanded bbox\n",
        "  # bbox_expanded_sf <- st_as_sfc(st_bbox(bbox_expanded), crs = st_crs(feature))\n",
        "\n",
        "  # Create the fishnet grid with the expanded bbox\n",
        "  fishnet <- st_make_grid(feature_adjusted, cellsize = cellsize) %>%\n",
        "             st_as_sf() %>%\n",
        "             # Optionally, intersect with the original feature if needed\n",
        "             # st_intersection(feature) %>%\n",
        "             st_transform(crs = st_crs(26904)) %>%\n",
        "             data.table()\n",
        "\n",
        "  # Add row ID and island name\n",
        "  fishnet$rowid <- 1:nrow(fishnet)\n",
        "  fishnet$island <- feature$island\n",
        "\n",
        "  return(fishnet)\n",
        "}) %>%\n",
        "rbindlist()\n",
        "\n",
        "# Convert the result back to an sf object and write to a file\n",
        "test_05_wetlandsFishnet_sf <- st_as_sf(test_05_wetlandsFishnet)\n",
        "\n",
        "# Specify your desired output path\n",
        "# output_path <- \"/content/test_05_384_wetlandsFishnet.gpkg\"\n",
        "# st_write(test_05_wetlandsFishnet_sf, output_path, delete_layer = TRUE, layer_options = \"OVERWRITE=YES\")\n"
      ],
      "metadata": {
        "id": "u-_LkZzk805-"
      },
      "execution_count": 132,
      "outputs": []
    },
    {
      "cell_type": "code",
      "source": [
        "test_05_wetlandsFishnet_sf$island"
      ],
      "metadata": {
        "colab": {
          "base_uri": "https://localhost:8080/",
          "height": 295
        },
        "id": "TfnRvq6M803X",
        "outputId": "247be1c7-d72f-4d55-b3b7-3ba7b40d0e02"
      },
      "execution_count": 133,
      "outputs": [
        {
          "output_type": "display_data",
          "data": {
            "text/html": [
              "<style>\n",
              ".list-inline {list-style: none; margin:0; padding: 0}\n",
              ".list-inline>li {display: inline-block}\n",
              ".list-inline>li:not(:last-child)::after {content: \"\\00b7\"; padding: 0 .5ex}\n",
              "</style>\n",
              "<ol class=list-inline><li>'kauai'</li><li>'kauai'</li><li>'kauai'</li><li>'kauai'</li><li>'kauai'</li><li>'kauai'</li><li>'kauai'</li><li>'kauai'</li><li>'kauai'</li><li>'kauai'</li><li>'kauai'</li><li>'kauai'</li><li>'kauai'</li><li>'kauai'</li><li>'kauai'</li><li>'kauai'</li><li>'kauai'</li><li>'kauai'</li><li>'kauai'</li><li>'kauai'</li><li>'kauai'</li><li>'kauai'</li><li>'kauai'</li><li>'kauai'</li><li>'kauai'</li><li>'kauai'</li><li>'kauai'</li><li>'kauai'</li><li>'kauai'</li><li>'kauai'</li><li>'kauai'</li><li>'kauai'</li><li>'kauai'</li><li>'kauai'</li><li>'kauai'</li><li>'kauai'</li><li>'kauai'</li><li>'kauai'</li><li>'kauai'</li><li>'kauai'</li><li>'kauai'</li><li>'kauai'</li><li>'kauai'</li><li>'kauai'</li><li>'kauai'</li><li>'kauai'</li><li>'kauai'</li><li>'kauai'</li><li>'oahu'</li><li>'oahu'</li><li>'oahu'</li><li>'oahu'</li><li>'oahu'</li><li>'oahu'</li><li>'oahu'</li><li>'oahu'</li><li>'oahu'</li><li>'oahu'</li><li>'oahu'</li><li>'oahu'</li><li>'oahu'</li><li>'oahu'</li><li>'oahu'</li><li>'oahu'</li><li>'oahu'</li><li>'oahu'</li><li>'oahu'</li><li>'oahu'</li><li>'oahu'</li><li>'oahu'</li><li>'oahu'</li><li>'oahu'</li><li>'oahu'</li><li>'oahu'</li><li>'oahu'</li><li>'oahu'</li><li>'oahu'</li><li>'oahu'</li><li>'oahu'</li><li>'oahu'</li><li>'oahu'</li><li>'oahu'</li><li>'oahu'</li><li>'oahu'</li><li>'oahu'</li><li>'oahu'</li><li>'oahu'</li><li>'oahu'</li><li>'oahu'</li><li>'oahu'</li><li>'oahu'</li><li>'oahu'</li><li>'oahu'</li><li>'oahu'</li><li>'oahu'</li><li>'oahu'</li><li>'oahu'</li><li>'oahu'</li><li>'oahu'</li><li>'oahu'</li><li>'oahu'</li><li>'oahu'</li><li>'oahu'</li><li>'oahu'</li><li>'oahu'</li><li>'oahu'</li><li>'oahu'</li><li>'oahu'</li><li>'oahu'</li><li>'oahu'</li><li>'oahu'</li><li>'oahu'</li><li>'oahu'</li><li>'oahu'</li><li>'oahu'</li><li>'oahu'</li><li>'oahu'</li><li>'oahu'</li><li>'oahu'</li><li>'oahu'</li><li>'oahu'</li><li>'oahu'</li><li>'oahu'</li><li>'oahu'</li><li>'oahu'</li><li>'oahu'</li><li>'oahu'</li><li>'oahu'</li><li>'oahu'</li><li>'oahu'</li><li>'oahu'</li><li>'oahu'</li><li>'oahu'</li><li>'oahu'</li><li>'oahu'</li><li>'oahu'</li><li>'oahu'</li><li>'oahu'</li><li>'oahu'</li><li>'oahu'</li><li>'oahu'</li><li>'oahu'</li><li>'oahu'</li><li>'oahu'</li><li>'oahu'</li><li>'oahu'</li><li>'oahu'</li><li>'oahu'</li><li>'oahu'</li><li>'oahu'</li><li>'oahu'</li><li>'oahu'</li><li>'oahu'</li><li>'oahu'</li><li>'oahu'</li><li>'oahu'</li><li>'oahu'</li><li>'oahu'</li><li>'oahu'</li><li>'oahu'</li><li>'oahu'</li><li>'oahu'</li><li>'oahu'</li><li>'oahu'</li><li>'oahu'</li><li>'oahu'</li><li>'oahu'</li><li>'oahu'</li><li>'oahu'</li><li>'oahu'</li><li>'oahu'</li><li>'oahu'</li><li>'oahu'</li><li>'oahu'</li><li>'oahu'</li><li>'oahu'</li><li>'oahu'</li><li>'oahu'</li><li>'oahu'</li><li>'oahu'</li><li>'oahu'</li><li>'oahu'</li><li>'oahu'</li><li>'oahu'</li><li>'oahu'</li><li>'oahu'</li><li>'oahu'</li><li>'oahu'</li><li>'oahu'</li><li>'oahu'</li><li>'oahu'</li><li>'oahu'</li><li>'oahu'</li><li>'oahu'</li><li>'oahu'</li><li>'oahu'</li><li>'oahu'</li><li>'oahu'</li><li>'oahu'</li><li>'oahu'</li><li>⋯</li><li>'oahu'</li><li>'oahu'</li><li>'oahu'</li><li>'oahu'</li><li>'oahu'</li><li>'oahu'</li><li>'oahu'</li><li>'oahu'</li><li>'oahu'</li><li>'oahu'</li><li>'oahu'</li><li>'oahu'</li><li>'oahu'</li><li>'oahu'</li><li>'oahu'</li><li>'oahu'</li><li>'oahu'</li><li>'oahu'</li><li>'oahu'</li><li>'oahu'</li><li>'oahu'</li><li>'oahu'</li><li>'oahu'</li><li>'oahu'</li><li>'oahu'</li><li>'oahu'</li><li>'oahu'</li><li>'oahu'</li><li>'oahu'</li><li>'oahu'</li><li>'oahu'</li><li>'oahu'</li><li>'oahu'</li><li>'oahu'</li><li>'oahu'</li><li>'oahu'</li><li>'oahu'</li><li>'oahu'</li><li>'oahu'</li><li>'oahu'</li><li>'oahu'</li><li>'oahu'</li><li>'oahu'</li><li>'oahu'</li><li>'oahu'</li><li>'oahu'</li><li>'oahu'</li><li>'oahu'</li><li>'oahu'</li><li>'oahu'</li><li>'oahu'</li><li>'oahu'</li><li>'oahu'</li><li>'oahu'</li><li>'oahu'</li><li>'oahu'</li><li>'oahu'</li><li>'oahu'</li><li>'oahu'</li><li>'oahu'</li><li>'oahu'</li><li>'oahu'</li><li>'oahu'</li><li>'oahu'</li><li>'oahu'</li><li>'oahu'</li><li>'oahu'</li><li>'oahu'</li><li>'oahu'</li><li>'oahu'</li><li>'oahu'</li><li>'oahu'</li><li>'oahu'</li><li>'oahu'</li><li>'oahu'</li><li>'oahu'</li><li>'oahu'</li><li>'oahu'</li><li>'oahu'</li><li>'oahu'</li><li>'maui'</li><li>'maui'</li><li>'maui'</li><li>'maui'</li><li>'maui'</li><li>'maui'</li><li>'maui'</li><li>'maui'</li><li>'maui'</li><li>'maui'</li><li>'maui'</li><li>'maui'</li><li>'maui'</li><li>'maui'</li><li>'maui'</li><li>'maui'</li><li>'maui'</li><li>'maui'</li><li>'maui'</li><li>'maui'</li><li>'maui'</li><li>'maui'</li><li>'maui'</li><li>'maui'</li><li>'maui'</li><li>'maui'</li><li>'maui'</li><li>'maui'</li><li>'maui'</li><li>'maui'</li><li>'kauai'</li><li>'kauai'</li><li>'kauai'</li><li>'kauai'</li><li>'kauai'</li><li>'kauai'</li><li>'kauai'</li><li>'kauai'</li><li>'kauai'</li><li>'kauai'</li><li>'kauai'</li><li>'kauai'</li><li>'kauai'</li><li>'kauai'</li><li>'kauai'</li><li>'kauai'</li><li>'kauai'</li><li>'kauai'</li><li>'kauai'</li><li>'kauai'</li><li>'kauai'</li><li>'kauai'</li><li>'kauai'</li><li>'kauai'</li><li>'kauai'</li><li>'kauai'</li><li>'kauai'</li><li>'kauai'</li><li>'kauai'</li><li>'kauai'</li><li>'kauai'</li><li>'kauai'</li><li>'kauai'</li><li>'kauai'</li><li>'kauai'</li><li>'kauai'</li><li>'kauai'</li><li>'kauai'</li><li>'kauai'</li><li>'kauai'</li><li>'kauai'</li><li>'kauai'</li><li>'kauai'</li><li>'kauai'</li><li>'kauai'</li><li>'kauai'</li><li>'kauai'</li><li>'kauai'</li><li>'kauai'</li><li>'kauai'</li><li>'kauai'</li><li>'kauai'</li><li>'kauai'</li><li>'kauai'</li><li>'kauai'</li><li>'kauai'</li><li>'kauai'</li><li>'kauai'</li><li>'kauai'</li><li>'kauai'</li><li>'kauai'</li><li>'kauai'</li><li>'kauai'</li><li>'kauai'</li><li>'kauai'</li><li>'kauai'</li><li>'kauai'</li><li>'kauai'</li><li>'kauai'</li><li>'kauai'</li><li>'kauai'</li><li>'kauai'</li><li>'kauai'</li><li>'kauai'</li><li>'kauai'</li><li>'kauai'</li><li>'kauai'</li><li>'kauai'</li><li>'kauai'</li><li>'kauai'</li><li>'kauai'</li><li>'kauai'</li><li>'kauai'</li><li>'kauai'</li><li>'kauai'</li><li>'kauai'</li><li>'kauai'</li><li>'kauai'</li><li>'kauai'</li><li>'kauai'</li></ol>\n"
            ],
            "text/markdown": "1. 'kauai'\n2. 'kauai'\n3. 'kauai'\n4. 'kauai'\n5. 'kauai'\n6. 'kauai'\n7. 'kauai'\n8. 'kauai'\n9. 'kauai'\n10. 'kauai'\n11. 'kauai'\n12. 'kauai'\n13. 'kauai'\n14. 'kauai'\n15. 'kauai'\n16. 'kauai'\n17. 'kauai'\n18. 'kauai'\n19. 'kauai'\n20. 'kauai'\n21. 'kauai'\n22. 'kauai'\n23. 'kauai'\n24. 'kauai'\n25. 'kauai'\n26. 'kauai'\n27. 'kauai'\n28. 'kauai'\n29. 'kauai'\n30. 'kauai'\n31. 'kauai'\n32. 'kauai'\n33. 'kauai'\n34. 'kauai'\n35. 'kauai'\n36. 'kauai'\n37. 'kauai'\n38. 'kauai'\n39. 'kauai'\n40. 'kauai'\n41. 'kauai'\n42. 'kauai'\n43. 'kauai'\n44. 'kauai'\n45. 'kauai'\n46. 'kauai'\n47. 'kauai'\n48. 'kauai'\n49. 'oahu'\n50. 'oahu'\n51. 'oahu'\n52. 'oahu'\n53. 'oahu'\n54. 'oahu'\n55. 'oahu'\n56. 'oahu'\n57. 'oahu'\n58. 'oahu'\n59. 'oahu'\n60. 'oahu'\n61. 'oahu'\n62. 'oahu'\n63. 'oahu'\n64. 'oahu'\n65. 'oahu'\n66. 'oahu'\n67. 'oahu'\n68. 'oahu'\n69. 'oahu'\n70. 'oahu'\n71. 'oahu'\n72. 'oahu'\n73. 'oahu'\n74. 'oahu'\n75. 'oahu'\n76. 'oahu'\n77. 'oahu'\n78. 'oahu'\n79. 'oahu'\n80. 'oahu'\n81. 'oahu'\n82. 'oahu'\n83. 'oahu'\n84. 'oahu'\n85. 'oahu'\n86. 'oahu'\n87. 'oahu'\n88. 'oahu'\n89. 'oahu'\n90. 'oahu'\n91. 'oahu'\n92. 'oahu'\n93. 'oahu'\n94. 'oahu'\n95. 'oahu'\n96. 'oahu'\n97. 'oahu'\n98. 'oahu'\n99. 'oahu'\n100. 'oahu'\n101. 'oahu'\n102. 'oahu'\n103. 'oahu'\n104. 'oahu'\n105. 'oahu'\n106. 'oahu'\n107. 'oahu'\n108. 'oahu'\n109. 'oahu'\n110. 'oahu'\n111. 'oahu'\n112. 'oahu'\n113. 'oahu'\n114. 'oahu'\n115. 'oahu'\n116. 'oahu'\n117. 'oahu'\n118. 'oahu'\n119. 'oahu'\n120. 'oahu'\n121. 'oahu'\n122. 'oahu'\n123. 'oahu'\n124. 'oahu'\n125. 'oahu'\n126. 'oahu'\n127. 'oahu'\n128. 'oahu'\n129. 'oahu'\n130. 'oahu'\n131. 'oahu'\n132. 'oahu'\n133. 'oahu'\n134. 'oahu'\n135. 'oahu'\n136. 'oahu'\n137. 'oahu'\n138. 'oahu'\n139. 'oahu'\n140. 'oahu'\n141. 'oahu'\n142. 'oahu'\n143. 'oahu'\n144. 'oahu'\n145. 'oahu'\n146. 'oahu'\n147. 'oahu'\n148. 'oahu'\n149. 'oahu'\n150. 'oahu'\n151. 'oahu'\n152. 'oahu'\n153. 'oahu'\n154. 'oahu'\n155. 'oahu'\n156. 'oahu'\n157. 'oahu'\n158. 'oahu'\n159. 'oahu'\n160. 'oahu'\n161. 'oahu'\n162. 'oahu'\n163. 'oahu'\n164. 'oahu'\n165. 'oahu'\n166. 'oahu'\n167. 'oahu'\n168. 'oahu'\n169. 'oahu'\n170. 'oahu'\n171. 'oahu'\n172. 'oahu'\n173. 'oahu'\n174. 'oahu'\n175. 'oahu'\n176. 'oahu'\n177. 'oahu'\n178. 'oahu'\n179. 'oahu'\n180. 'oahu'\n181. 'oahu'\n182. 'oahu'\n183. 'oahu'\n184. 'oahu'\n185. 'oahu'\n186. 'oahu'\n187. 'oahu'\n188. 'oahu'\n189. 'oahu'\n190. 'oahu'\n191. 'oahu'\n192. 'oahu'\n193. 'oahu'\n194. 'oahu'\n195. 'oahu'\n196. 'oahu'\n197. 'oahu'\n198. 'oahu'\n199. 'oahu'\n200. 'oahu'\n201. ⋯\n202. 'oahu'\n203. 'oahu'\n204. 'oahu'\n205. 'oahu'\n206. 'oahu'\n207. 'oahu'\n208. 'oahu'\n209. 'oahu'\n210. 'oahu'\n211. 'oahu'\n212. 'oahu'\n213. 'oahu'\n214. 'oahu'\n215. 'oahu'\n216. 'oahu'\n217. 'oahu'\n218. 'oahu'\n219. 'oahu'\n220. 'oahu'\n221. 'oahu'\n222. 'oahu'\n223. 'oahu'\n224. 'oahu'\n225. 'oahu'\n226. 'oahu'\n227. 'oahu'\n228. 'oahu'\n229. 'oahu'\n230. 'oahu'\n231. 'oahu'\n232. 'oahu'\n233. 'oahu'\n234. 'oahu'\n235. 'oahu'\n236. 'oahu'\n237. 'oahu'\n238. 'oahu'\n239. 'oahu'\n240. 'oahu'\n241. 'oahu'\n242. 'oahu'\n243. 'oahu'\n244. 'oahu'\n245. 'oahu'\n246. 'oahu'\n247. 'oahu'\n248. 'oahu'\n249. 'oahu'\n250. 'oahu'\n251. 'oahu'\n252. 'oahu'\n253. 'oahu'\n254. 'oahu'\n255. 'oahu'\n256. 'oahu'\n257. 'oahu'\n258. 'oahu'\n259. 'oahu'\n260. 'oahu'\n261. 'oahu'\n262. 'oahu'\n263. 'oahu'\n264. 'oahu'\n265. 'oahu'\n266. 'oahu'\n267. 'oahu'\n268. 'oahu'\n269. 'oahu'\n270. 'oahu'\n271. 'oahu'\n272. 'oahu'\n273. 'oahu'\n274. 'oahu'\n275. 'oahu'\n276. 'oahu'\n277. 'oahu'\n278. 'oahu'\n279. 'oahu'\n280. 'oahu'\n281. 'oahu'\n282. 'maui'\n283. 'maui'\n284. 'maui'\n285. 'maui'\n286. 'maui'\n287. 'maui'\n288. 'maui'\n289. 'maui'\n290. 'maui'\n291. 'maui'\n292. 'maui'\n293. 'maui'\n294. 'maui'\n295. 'maui'\n296. 'maui'\n297. 'maui'\n298. 'maui'\n299. 'maui'\n300. 'maui'\n301. 'maui'\n302. 'maui'\n303. 'maui'\n304. 'maui'\n305. 'maui'\n306. 'maui'\n307. 'maui'\n308. 'maui'\n309. 'maui'\n310. 'maui'\n311. 'maui'\n312. 'kauai'\n313. 'kauai'\n314. 'kauai'\n315. 'kauai'\n316. 'kauai'\n317. 'kauai'\n318. 'kauai'\n319. 'kauai'\n320. 'kauai'\n321. 'kauai'\n322. 'kauai'\n323. 'kauai'\n324. 'kauai'\n325. 'kauai'\n326. 'kauai'\n327. 'kauai'\n328. 'kauai'\n329. 'kauai'\n330. 'kauai'\n331. 'kauai'\n332. 'kauai'\n333. 'kauai'\n334. 'kauai'\n335. 'kauai'\n336. 'kauai'\n337. 'kauai'\n338. 'kauai'\n339. 'kauai'\n340. 'kauai'\n341. 'kauai'\n342. 'kauai'\n343. 'kauai'\n344. 'kauai'\n345. 'kauai'\n346. 'kauai'\n347. 'kauai'\n348. 'kauai'\n349. 'kauai'\n350. 'kauai'\n351. 'kauai'\n352. 'kauai'\n353. 'kauai'\n354. 'kauai'\n355. 'kauai'\n356. 'kauai'\n357. 'kauai'\n358. 'kauai'\n359. 'kauai'\n360. 'kauai'\n361. 'kauai'\n362. 'kauai'\n363. 'kauai'\n364. 'kauai'\n365. 'kauai'\n366. 'kauai'\n367. 'kauai'\n368. 'kauai'\n369. 'kauai'\n370. 'kauai'\n371. 'kauai'\n372. 'kauai'\n373. 'kauai'\n374. 'kauai'\n375. 'kauai'\n376. 'kauai'\n377. 'kauai'\n378. 'kauai'\n379. 'kauai'\n380. 'kauai'\n381. 'kauai'\n382. 'kauai'\n383. 'kauai'\n384. 'kauai'\n385. 'kauai'\n386. 'kauai'\n387. 'kauai'\n388. 'kauai'\n389. 'kauai'\n390. 'kauai'\n391. 'kauai'\n392. 'kauai'\n393. 'kauai'\n394. 'kauai'\n395. 'kauai'\n396. 'kauai'\n397. 'kauai'\n398. 'kauai'\n399. 'kauai'\n400. 'kauai'\n401. 'kauai'\n\n\n",
            "text/latex": "\\begin{enumerate*}\n\\item 'kauai'\n\\item 'kauai'\n\\item 'kauai'\n\\item 'kauai'\n\\item 'kauai'\n\\item 'kauai'\n\\item 'kauai'\n\\item 'kauai'\n\\item 'kauai'\n\\item 'kauai'\n\\item 'kauai'\n\\item 'kauai'\n\\item 'kauai'\n\\item 'kauai'\n\\item 'kauai'\n\\item 'kauai'\n\\item 'kauai'\n\\item 'kauai'\n\\item 'kauai'\n\\item 'kauai'\n\\item 'kauai'\n\\item 'kauai'\n\\item 'kauai'\n\\item 'kauai'\n\\item 'kauai'\n\\item 'kauai'\n\\item 'kauai'\n\\item 'kauai'\n\\item 'kauai'\n\\item 'kauai'\n\\item 'kauai'\n\\item 'kauai'\n\\item 'kauai'\n\\item 'kauai'\n\\item 'kauai'\n\\item 'kauai'\n\\item 'kauai'\n\\item 'kauai'\n\\item 'kauai'\n\\item 'kauai'\n\\item 'kauai'\n\\item 'kauai'\n\\item 'kauai'\n\\item 'kauai'\n\\item 'kauai'\n\\item 'kauai'\n\\item 'kauai'\n\\item 'kauai'\n\\item 'oahu'\n\\item 'oahu'\n\\item 'oahu'\n\\item 'oahu'\n\\item 'oahu'\n\\item 'oahu'\n\\item 'oahu'\n\\item 'oahu'\n\\item 'oahu'\n\\item 'oahu'\n\\item 'oahu'\n\\item 'oahu'\n\\item 'oahu'\n\\item 'oahu'\n\\item 'oahu'\n\\item 'oahu'\n\\item 'oahu'\n\\item 'oahu'\n\\item 'oahu'\n\\item 'oahu'\n\\item 'oahu'\n\\item 'oahu'\n\\item 'oahu'\n\\item 'oahu'\n\\item 'oahu'\n\\item 'oahu'\n\\item 'oahu'\n\\item 'oahu'\n\\item 'oahu'\n\\item 'oahu'\n\\item 'oahu'\n\\item 'oahu'\n\\item 'oahu'\n\\item 'oahu'\n\\item 'oahu'\n\\item 'oahu'\n\\item 'oahu'\n\\item 'oahu'\n\\item 'oahu'\n\\item 'oahu'\n\\item 'oahu'\n\\item 'oahu'\n\\item 'oahu'\n\\item 'oahu'\n\\item 'oahu'\n\\item 'oahu'\n\\item 'oahu'\n\\item 'oahu'\n\\item 'oahu'\n\\item 'oahu'\n\\item 'oahu'\n\\item 'oahu'\n\\item 'oahu'\n\\item 'oahu'\n\\item 'oahu'\n\\item 'oahu'\n\\item 'oahu'\n\\item 'oahu'\n\\item 'oahu'\n\\item 'oahu'\n\\item 'oahu'\n\\item 'oahu'\n\\item 'oahu'\n\\item 'oahu'\n\\item 'oahu'\n\\item 'oahu'\n\\item 'oahu'\n\\item 'oahu'\n\\item 'oahu'\n\\item 'oahu'\n\\item 'oahu'\n\\item 'oahu'\n\\item 'oahu'\n\\item 'oahu'\n\\item 'oahu'\n\\item 'oahu'\n\\item 'oahu'\n\\item 'oahu'\n\\item 'oahu'\n\\item 'oahu'\n\\item 'oahu'\n\\item 'oahu'\n\\item 'oahu'\n\\item 'oahu'\n\\item 'oahu'\n\\item 'oahu'\n\\item 'oahu'\n\\item 'oahu'\n\\item 'oahu'\n\\item 'oahu'\n\\item 'oahu'\n\\item 'oahu'\n\\item 'oahu'\n\\item 'oahu'\n\\item 'oahu'\n\\item 'oahu'\n\\item 'oahu'\n\\item 'oahu'\n\\item 'oahu'\n\\item 'oahu'\n\\item 'oahu'\n\\item 'oahu'\n\\item 'oahu'\n\\item 'oahu'\n\\item 'oahu'\n\\item 'oahu'\n\\item 'oahu'\n\\item 'oahu'\n\\item 'oahu'\n\\item 'oahu'\n\\item 'oahu'\n\\item 'oahu'\n\\item 'oahu'\n\\item 'oahu'\n\\item 'oahu'\n\\item 'oahu'\n\\item 'oahu'\n\\item 'oahu'\n\\item 'oahu'\n\\item 'oahu'\n\\item 'oahu'\n\\item 'oahu'\n\\item 'oahu'\n\\item 'oahu'\n\\item 'oahu'\n\\item 'oahu'\n\\item 'oahu'\n\\item 'oahu'\n\\item 'oahu'\n\\item 'oahu'\n\\item 'oahu'\n\\item 'oahu'\n\\item 'oahu'\n\\item 'oahu'\n\\item 'oahu'\n\\item 'oahu'\n\\item 'oahu'\n\\item 'oahu'\n\\item 'oahu'\n\\item 'oahu'\n\\item 'oahu'\n\\item 'oahu'\n\\item 'oahu'\n\\item 'oahu'\n\\item 'oahu'\n\\item 'oahu'\n\\item 'oahu'\n\\item 'oahu'\n\\item 'oahu'\n\\item 'oahu'\n\\item 'oahu'\n\\item 'oahu'\n\\item ⋯\n\\item 'oahu'\n\\item 'oahu'\n\\item 'oahu'\n\\item 'oahu'\n\\item 'oahu'\n\\item 'oahu'\n\\item 'oahu'\n\\item 'oahu'\n\\item 'oahu'\n\\item 'oahu'\n\\item 'oahu'\n\\item 'oahu'\n\\item 'oahu'\n\\item 'oahu'\n\\item 'oahu'\n\\item 'oahu'\n\\item 'oahu'\n\\item 'oahu'\n\\item 'oahu'\n\\item 'oahu'\n\\item 'oahu'\n\\item 'oahu'\n\\item 'oahu'\n\\item 'oahu'\n\\item 'oahu'\n\\item 'oahu'\n\\item 'oahu'\n\\item 'oahu'\n\\item 'oahu'\n\\item 'oahu'\n\\item 'oahu'\n\\item 'oahu'\n\\item 'oahu'\n\\item 'oahu'\n\\item 'oahu'\n\\item 'oahu'\n\\item 'oahu'\n\\item 'oahu'\n\\item 'oahu'\n\\item 'oahu'\n\\item 'oahu'\n\\item 'oahu'\n\\item 'oahu'\n\\item 'oahu'\n\\item 'oahu'\n\\item 'oahu'\n\\item 'oahu'\n\\item 'oahu'\n\\item 'oahu'\n\\item 'oahu'\n\\item 'oahu'\n\\item 'oahu'\n\\item 'oahu'\n\\item 'oahu'\n\\item 'oahu'\n\\item 'oahu'\n\\item 'oahu'\n\\item 'oahu'\n\\item 'oahu'\n\\item 'oahu'\n\\item 'oahu'\n\\item 'oahu'\n\\item 'oahu'\n\\item 'oahu'\n\\item 'oahu'\n\\item 'oahu'\n\\item 'oahu'\n\\item 'oahu'\n\\item 'oahu'\n\\item 'oahu'\n\\item 'oahu'\n\\item 'oahu'\n\\item 'oahu'\n\\item 'oahu'\n\\item 'oahu'\n\\item 'oahu'\n\\item 'oahu'\n\\item 'oahu'\n\\item 'oahu'\n\\item 'oahu'\n\\item 'maui'\n\\item 'maui'\n\\item 'maui'\n\\item 'maui'\n\\item 'maui'\n\\item 'maui'\n\\item 'maui'\n\\item 'maui'\n\\item 'maui'\n\\item 'maui'\n\\item 'maui'\n\\item 'maui'\n\\item 'maui'\n\\item 'maui'\n\\item 'maui'\n\\item 'maui'\n\\item 'maui'\n\\item 'maui'\n\\item 'maui'\n\\item 'maui'\n\\item 'maui'\n\\item 'maui'\n\\item 'maui'\n\\item 'maui'\n\\item 'maui'\n\\item 'maui'\n\\item 'maui'\n\\item 'maui'\n\\item 'maui'\n\\item 'maui'\n\\item 'kauai'\n\\item 'kauai'\n\\item 'kauai'\n\\item 'kauai'\n\\item 'kauai'\n\\item 'kauai'\n\\item 'kauai'\n\\item 'kauai'\n\\item 'kauai'\n\\item 'kauai'\n\\item 'kauai'\n\\item 'kauai'\n\\item 'kauai'\n\\item 'kauai'\n\\item 'kauai'\n\\item 'kauai'\n\\item 'kauai'\n\\item 'kauai'\n\\item 'kauai'\n\\item 'kauai'\n\\item 'kauai'\n\\item 'kauai'\n\\item 'kauai'\n\\item 'kauai'\n\\item 'kauai'\n\\item 'kauai'\n\\item 'kauai'\n\\item 'kauai'\n\\item 'kauai'\n\\item 'kauai'\n\\item 'kauai'\n\\item 'kauai'\n\\item 'kauai'\n\\item 'kauai'\n\\item 'kauai'\n\\item 'kauai'\n\\item 'kauai'\n\\item 'kauai'\n\\item 'kauai'\n\\item 'kauai'\n\\item 'kauai'\n\\item 'kauai'\n\\item 'kauai'\n\\item 'kauai'\n\\item 'kauai'\n\\item 'kauai'\n\\item 'kauai'\n\\item 'kauai'\n\\item 'kauai'\n\\item 'kauai'\n\\item 'kauai'\n\\item 'kauai'\n\\item 'kauai'\n\\item 'kauai'\n\\item 'kauai'\n\\item 'kauai'\n\\item 'kauai'\n\\item 'kauai'\n\\item 'kauai'\n\\item 'kauai'\n\\item 'kauai'\n\\item 'kauai'\n\\item 'kauai'\n\\item 'kauai'\n\\item 'kauai'\n\\item 'kauai'\n\\item 'kauai'\n\\item 'kauai'\n\\item 'kauai'\n\\item 'kauai'\n\\item 'kauai'\n\\item 'kauai'\n\\item 'kauai'\n\\item 'kauai'\n\\item 'kauai'\n\\item 'kauai'\n\\item 'kauai'\n\\item 'kauai'\n\\item 'kauai'\n\\item 'kauai'\n\\item 'kauai'\n\\item 'kauai'\n\\item 'kauai'\n\\item 'kauai'\n\\item 'kauai'\n\\item 'kauai'\n\\item 'kauai'\n\\item 'kauai'\n\\item 'kauai'\n\\item 'kauai'\n\\end{enumerate*}\n",
            "text/plain": [
              "   [1] \"kauai\"   \"kauai\"   \"kauai\"   \"kauai\"   \"kauai\"   \"kauai\"   \"kauai\"  \n",
              "   [8] \"kauai\"   \"kauai\"   \"kauai\"   \"kauai\"   \"kauai\"   \"kauai\"   \"kauai\"  \n",
              "  [15] \"kauai\"   \"kauai\"   \"kauai\"   \"kauai\"   \"kauai\"   \"kauai\"   \"kauai\"  \n",
              "  [22] \"kauai\"   \"kauai\"   \"kauai\"   \"kauai\"   \"kauai\"   \"kauai\"   \"kauai\"  \n",
              "  [29] \"kauai\"   \"kauai\"   \"kauai\"   \"kauai\"   \"kauai\"   \"kauai\"   \"kauai\"  \n",
              "  [36] \"kauai\"   \"kauai\"   \"kauai\"   \"kauai\"   \"kauai\"   \"kauai\"   \"kauai\"  \n",
              "  [43] \"kauai\"   \"kauai\"   \"kauai\"   \"kauai\"   \"kauai\"   \"kauai\"   \"oahu\"   \n",
              "  [50] \"oahu\"    \"oahu\"    \"oahu\"    \"oahu\"    \"oahu\"    \"oahu\"    \"oahu\"   \n",
              "  [57] \"oahu\"    \"oahu\"    \"oahu\"    \"oahu\"    \"oahu\"    \"oahu\"    \"oahu\"   \n",
              "  [64] \"oahu\"    \"oahu\"    \"oahu\"    \"oahu\"    \"oahu\"    \"oahu\"    \"oahu\"   \n",
              "  [71] \"oahu\"    \"oahu\"    \"oahu\"    \"oahu\"    \"oahu\"    \"oahu\"    \"oahu\"   \n",
              "  [78] \"oahu\"    \"oahu\"    \"oahu\"    \"oahu\"    \"oahu\"    \"oahu\"    \"oahu\"   \n",
              "  [85] \"oahu\"    \"oahu\"    \"oahu\"    \"oahu\"    \"oahu\"    \"oahu\"    \"oahu\"   \n",
              "  [92] \"oahu\"    \"oahu\"    \"oahu\"    \"oahu\"    \"oahu\"    \"oahu\"    \"oahu\"   \n",
              "  [99] \"oahu\"    \"oahu\"    \"oahu\"    \"oahu\"    \"oahu\"    \"oahu\"    \"oahu\"   \n",
              " [106] \"oahu\"    \"oahu\"    \"oahu\"    \"oahu\"    \"oahu\"    \"oahu\"    \"oahu\"   \n",
              " [113] \"oahu\"    \"oahu\"    \"oahu\"    \"oahu\"    \"oahu\"    \"oahu\"    \"oahu\"   \n",
              " [120] \"oahu\"    \"oahu\"    \"oahu\"    \"oahu\"    \"oahu\"    \"oahu\"    \"oahu\"   \n",
              " [127] \"oahu\"    \"oahu\"    \"oahu\"    \"oahu\"    \"oahu\"    \"oahu\"    \"oahu\"   \n",
              " [134] \"oahu\"    \"oahu\"    \"oahu\"    \"oahu\"    \"oahu\"    \"oahu\"    \"oahu\"   \n",
              " [141] \"oahu\"    \"oahu\"    \"oahu\"    \"oahu\"    \"oahu\"    \"oahu\"    \"oahu\"   \n",
              " [148] \"oahu\"    \"oahu\"    \"oahu\"    \"oahu\"    \"oahu\"    \"oahu\"    \"oahu\"   \n",
              " [155] \"oahu\"    \"oahu\"    \"oahu\"    \"oahu\"    \"oahu\"    \"oahu\"    \"oahu\"   \n",
              " [162] \"oahu\"    \"oahu\"    \"oahu\"    \"oahu\"    \"oahu\"    \"oahu\"    \"oahu\"   \n",
              " [169] \"oahu\"    \"oahu\"    \"oahu\"    \"oahu\"    \"oahu\"    \"oahu\"    \"oahu\"   \n",
              " [176] \"oahu\"    \"oahu\"    \"oahu\"    \"oahu\"    \"oahu\"    \"oahu\"    \"oahu\"   \n",
              " [183] \"oahu\"    \"oahu\"    \"oahu\"    \"oahu\"    \"oahu\"    \"oahu\"    \"oahu\"   \n",
              " [190] \"oahu\"    \"oahu\"    \"oahu\"    \"oahu\"    \"oahu\"    \"oahu\"    \"oahu\"   \n",
              " [197] \"oahu\"    \"oahu\"    \"oahu\"    \"oahu\"    \"oahu\"    \"oahu\"    \"oahu\"   \n",
              " [204] \"oahu\"    \"oahu\"    \"oahu\"    \"oahu\"    \"oahu\"    \"oahu\"    \"oahu\"   \n",
              " [211] \"oahu\"    \"oahu\"    \"oahu\"    \"oahu\"    \"oahu\"    \"oahu\"    \"oahu\"   \n",
              " [218] \"oahu\"    \"oahu\"    \"oahu\"    \"oahu\"    \"oahu\"    \"oahu\"    \"oahu\"   \n",
              " [225] \"oahu\"    \"oahu\"    \"oahu\"    \"oahu\"    \"oahu\"    \"oahu\"    \"oahu\"   \n",
              " [232] \"oahu\"    \"oahu\"    \"oahu\"    \"oahu\"    \"oahu\"    \"oahu\"    \"oahu\"   \n",
              " [239] \"oahu\"    \"oahu\"    \"oahu\"    \"oahu\"    \"oahu\"    \"oahu\"    \"oahu\"   \n",
              " [246] \"oahu\"    \"oahu\"    \"oahu\"    \"oahu\"    \"oahu\"    \"oahu\"    \"oahu\"   \n",
              " [253] \"oahu\"    \"oahu\"    \"oahu\"    \"oahu\"    \"oahu\"    \"oahu\"    \"oahu\"   \n",
              " [260] \"oahu\"    \"oahu\"    \"oahu\"    \"oahu\"    \"oahu\"    \"oahu\"    \"oahu\"   \n",
              " [267] \"oahu\"    \"oahu\"    \"oahu\"    \"oahu\"    \"oahu\"    \"oahu\"    \"oahu\"   \n",
              " [274] \"oahu\"    \"oahu\"    \"oahu\"    \"oahu\"    \"oahu\"    \"oahu\"    \"oahu\"   \n",
              " [281] \"oahu\"    \"oahu\"    \"oahu\"    \"oahu\"    \"oahu\"    \"oahu\"    \"oahu\"   \n",
              " [288] \"oahu\"    \"oahu\"    \"oahu\"    \"oahu\"    \"oahu\"    \"oahu\"    \"oahu\"   \n",
              " [295] \"oahu\"    \"oahu\"    \"oahu\"    \"oahu\"    \"oahu\"    \"oahu\"    \"oahu\"   \n",
              " [302] \"oahu\"    \"oahu\"    \"oahu\"    \"oahu\"    \"oahu\"    \"oahu\"    \"oahu\"   \n",
              " [309] \"oahu\"    \"oahu\"    \"oahu\"    \"oahu\"    \"oahu\"    \"oahu\"    \"oahu\"   \n",
              " [316] \"oahu\"    \"oahu\"    \"oahu\"    \"oahu\"    \"oahu\"    \"oahu\"    \"oahu\"   \n",
              " [323] \"oahu\"    \"oahu\"    \"oahu\"    \"oahu\"    \"oahu\"    \"oahu\"    \"oahu\"   \n",
              " [330] \"oahu\"    \"oahu\"    \"oahu\"    \"oahu\"    \"oahu\"    \"oahu\"    \"oahu\"   \n",
              " [337] \"oahu\"    \"oahu\"    \"oahu\"    \"oahu\"    \"oahu\"    \"oahu\"    \"oahu\"   \n",
              " [344] \"oahu\"    \"oahu\"    \"oahu\"    \"oahu\"    \"oahu\"    \"kauai\"   \"kauai\"  \n",
              " [351] \"kauai\"   \"kauai\"   \"kauai\"   \"kauai\"   \"kauai\"   \"kauai\"   \"kauai\"  \n",
              " [358] \"kauai\"   \"kauai\"   \"kauai\"   \"kauai\"   \"kauai\"   \"kauai\"   \"kauai\"  \n",
              " [365] \"kauai\"   \"kauai\"   \"kauai\"   \"kauai\"   \"kauai\"   \"kauai\"   \"kauai\"  \n",
              " [372] \"kauai\"   \"kauai\"   \"kauai\"   \"kauai\"   \"kauai\"   \"kauai\"   \"kauai\"  \n",
              " [379] \"kauai\"   \"kauai\"   \"kauai\"   \"kauai\"   \"kauai\"   \"kauai\"   \"kauai\"  \n",
              " [386] \"kauai\"   \"kauai\"   \"kauai\"   \"kauai\"   \"kauai\"   \"kauai\"   \"kauai\"  \n",
              " [393] \"kauai\"   \"kauai\"   \"kauai\"   \"kauai\"   \"kauai\"   \"kauai\"   \"kauai\"  \n",
              " [400] \"kauai\"   \"kauai\"   \"kauai\"   \"kauai\"   \"kauai\"   \"kauai\"   \"kauai\"  \n",
              " [407] \"kauai\"   \"kauai\"   \"kauai\"   \"kauai\"   \"kauai\"   \"kauai\"   \"kauai\"  \n",
              " [414] \"kauai\"   \"kauai\"   \"kauai\"   \"kauai\"   \"kauai\"   \"kauai\"   \"kauai\"  \n",
              " [421] \"kauai\"   \"kauai\"   \"kauai\"   \"kauai\"   \"kauai\"   \"kauai\"   \"kauai\"  \n",
              " [428] \"kauai\"   \"kauai\"   \"kauai\"   \"kauai\"   \"kauai\"   \"kauai\"   \"kauai\"  \n",
              " [435] \"kauai\"   \"kauai\"   \"kauai\"   \"kauai\"   \"kauai\"   \"kauai\"   \"kauai\"  \n",
              " [442] \"kauai\"   \"kauai\"   \"kauai\"   \"kauai\"   \"kauai\"   \"kauai\"   \"kauai\"  \n",
              " [449] \"kauai\"   \"kauai\"   \"kauai\"   \"kauai\"   \"kauai\"   \"kauai\"   \"kauai\"  \n",
              " [456] \"kauai\"   \"kauai\"   \"kauai\"   \"kauai\"   \"kauai\"   \"kauai\"   \"kauai\"  \n",
              " [463] \"kauai\"   \"kauai\"   \"kauai\"   \"kauai\"   \"kauai\"   \"kauai\"   \"kauai\"  \n",
              " [470] \"kauai\"   \"kauai\"   \"kauai\"   \"kauai\"   \"kauai\"   \"kauai\"   \"kauai\"  \n",
              " [477] \"kauai\"   \"kauai\"   \"kauai\"   \"kauai\"   \"kauai\"   \"kauai\"   \"kauai\"  \n",
              " [484] \"kauai\"   \"kauai\"   \"kauai\"   \"kauai\"   \"kauai\"   \"kauai\"   \"kauai\"  \n",
              " [491] \"kauai\"   \"kauai\"   \"kauai\"   \"kauai\"   \"kauai\"   \"kauai\"   \"kauai\"  \n",
              " [498] \"kauai\"   \"kauai\"   \"kauai\"   \"kauai\"   \"kauai\"   \"kauai\"   \"kauai\"  \n",
              " [505] \"kauai\"   \"kauai\"   \"kauai\"   \"kauai\"   \"kauai\"   \"kauai\"   \"kauai\"  \n",
              " [512] \"kauai\"   \"kauai\"   \"kauai\"   \"kauai\"   \"kauai\"   \"kauai\"   \"kauai\"  \n",
              " [519] \"kauai\"   \"kauai\"   \"kauai\"   \"kauai\"   \"kauai\"   \"kauai\"   \"kauai\"  \n",
              " [526] \"kauai\"   \"kauai\"   \"kauai\"   \"kauai\"   \"kauai\"   \"kauai\"   \"kauai\"  \n",
              " [533] \"kauai\"   \"kauai\"   \"kauai\"   \"kauai\"   \"kauai\"   \"kauai\"   \"kauai\"  \n",
              " [540] \"kauai\"   \"kauai\"   \"kauai\"   \"kauai\"   \"kauai\"   \"kauai\"   \"kauai\"  \n",
              " [547] \"kauai\"   \"kauai\"   \"kauai\"   \"kauai\"   \"kauai\"   \"kauai\"   \"kauai\"  \n",
              " [554] \"kauai\"   \"kauai\"   \"kauai\"   \"kauai\"   \"kauai\"   \"kauai\"   \"kauai\"  \n",
              " [561] \"kauai\"   \"kauai\"   \"kauai\"   \"kauai\"   \"kauai\"   \"kauai\"   \"kauai\"  \n",
              " [568] \"kauai\"   \"kauai\"   \"kauai\"   \"kauai\"   \"kauai\"   \"kauai\"   \"kauai\"  \n",
              " [575] \"kauai\"   \"kauai\"   \"kauai\"   \"kauai\"   \"kauai\"   \"kauai\"   \"kauai\"  \n",
              " [582] \"kauai\"   \"kauai\"   \"kauai\"   \"kauai\"   \"kauai\"   \"kauai\"   \"kauai\"  \n",
              " [589] \"kauai\"   \"kauai\"   \"kauai\"   \"kauai\"   \"kauai\"   \"kauai\"   \"kauai\"  \n",
              " [596] \"kauai\"   \"kauai\"   \"kauai\"   \"kauai\"   \"kauai\"   \"kauai\"   \"kauai\"  \n",
              " [603] \"kauai\"   \"kauai\"   \"kauai\"   \"kauai\"   \"kauai\"   \"kauai\"   \"kauai\"  \n",
              " [610] \"kauai\"   \"kauai\"   \"kauai\"   \"kauai\"   \"kauai\"   \"kauai\"   \"kauai\"  \n",
              " [617] \"kauai\"   \"kauai\"   \"kauai\"   \"kauai\"   \"kauai\"   \"kauai\"   \"kauai\"  \n",
              " [624] \"kauai\"   \"kauai\"   \"kauai\"   \"kauai\"   \"kauai\"   \"kauai\"   \"kauai\"  \n",
              " [631] \"kauai\"   \"kauai\"   \"kauai\"   \"kauai\"   \"kauai\"   \"kauai\"   \"kauai\"  \n",
              " [638] \"kauai\"   \"kauai\"   \"kauai\"   \"kauai\"   \"kauai\"   \"kauai\"   \"kauai\"  \n",
              " [645] \"kauai\"   \"kauai\"   \"kauai\"   \"kauai\"   \"kauai\"   \"kauai\"   \"kauai\"  \n",
              " [652] \"kauai\"   \"kauai\"   \"kauai\"   \"kauai\"   \"kauai\"   \"kauai\"   \"kauai\"  \n",
              " [659] \"kauai\"   \"kauai\"   \"kauai\"   \"kauai\"   \"kauai\"   \"kauai\"   \"kauai\"  \n",
              " [666] \"kauai\"   \"kauai\"   \"kauai\"   \"kauai\"   \"kauai\"   \"kauai\"   \"kauai\"  \n",
              " [673] \"kauai\"   \"kauai\"   \"kauai\"   \"kauai\"   \"kauai\"   \"kauai\"   \"kauai\"  \n",
              " [680] \"kauai\"   \"kauai\"   \"kauai\"   \"kauai\"   \"kauai\"   \"kauai\"   \"kauai\"  \n",
              " [687] \"kauai\"   \"kauai\"   \"kauai\"   \"kauai\"   \"kauai\"   \"kauai\"   \"kauai\"  \n",
              " [694] \"kauai\"   \"kauai\"   \"kauai\"   \"kauai\"   \"kauai\"   \"kauai\"   \"kauai\"  \n",
              " [701] \"kauai\"   \"kauai\"   \"kauai\"   \"kauai\"   \"kauai\"   \"kauai\"   \"kauai\"  \n",
              " [708] \"kauai\"   \"kauai\"   \"kauai\"   \"oahu\"    \"oahu\"    \"oahu\"    \"oahu\"   \n",
              " [715] \"oahu\"    \"oahu\"    \"oahu\"    \"oahu\"    \"oahu\"    \"oahu\"    \"oahu\"   \n",
              " [722] \"oahu\"    \"oahu\"    \"oahu\"    \"oahu\"    \"oahu\"    \"oahu\"    \"oahu\"   \n",
              " [729] \"oahu\"    \"oahu\"    \"oahu\"    \"oahu\"    \"oahu\"    \"oahu\"    \"oahu\"   \n",
              " [736] \"oahu\"    \"oahu\"    \"oahu\"    \"oahu\"    \"oahu\"    \"oahu\"    \"oahu\"   \n",
              " [743] \"oahu\"    \"oahu\"    \"oahu\"    \"oahu\"    \"oahu\"    \"oahu\"    \"oahu\"   \n",
              " [750] \"oahu\"    \"oahu\"    \"oahu\"    \"oahu\"    \"oahu\"    \"oahu\"    \"oahu\"   \n",
              " [757] \"oahu\"    \"oahu\"    \"oahu\"    \"oahu\"    \"oahu\"    \"oahu\"    \"oahu\"   \n",
              " [764] \"oahu\"    \"oahu\"    \"oahu\"    \"oahu\"    \"oahu\"    \"oahu\"    \"oahu\"   \n",
              " [771] \"oahu\"    \"oahu\"    \"oahu\"    \"oahu\"    \"oahu\"    \"oahu\"    \"oahu\"   \n",
              " [778] \"oahu\"    \"oahu\"    \"oahu\"    \"oahu\"    \"oahu\"    \"oahu\"    \"oahu\"   \n",
              " [785] \"oahu\"    \"oahu\"    \"oahu\"    \"oahu\"    \"oahu\"    \"oahu\"    \"oahu\"   \n",
              " [792] \"oahu\"    \"oahu\"    \"oahu\"    \"oahu\"    \"oahu\"    \"oahu\"    \"oahu\"   \n",
              " [799] \"oahu\"    \"oahu\"    \"oahu\"    \"oahu\"    \"oahu\"    \"oahu\"    \"oahu\"   \n",
              " [806] \"oahu\"    \"oahu\"    \"oahu\"    \"oahu\"    \"oahu\"    \"oahu\"    \"oahu\"   \n",
              " [813] \"oahu\"    \"oahu\"    \"oahu\"    \"oahu\"    \"oahu\"    \"oahu\"    \"oahu\"   \n",
              " [820] \"oahu\"    \"oahu\"    \"oahu\"    \"oahu\"    \"oahu\"    \"oahu\"    \"oahu\"   \n",
              " [827] \"oahu\"    \"oahu\"    \"oahu\"    \"oahu\"    \"oahu\"    \"oahu\"    \"oahu\"   \n",
              " [834] \"oahu\"    \"oahu\"    \"oahu\"    \"oahu\"    \"oahu\"    \"oahu\"    \"oahu\"   \n",
              " [841] \"oahu\"    \"oahu\"    \"oahu\"    \"oahu\"    \"oahu\"    \"oahu\"    \"oahu\"   \n",
              " [848] \"oahu\"    \"oahu\"    \"oahu\"    \"oahu\"    \"oahu\"    \"oahu\"    \"oahu\"   \n",
              " [855] \"oahu\"    \"oahu\"    \"oahu\"    \"oahu\"    \"oahu\"    \"oahu\"    \"oahu\"   \n",
              " [862] \"oahu\"    \"oahu\"    \"oahu\"    \"oahu\"    \"oahu\"    \"oahu\"    \"oahu\"   \n",
              " [869] \"oahu\"    \"oahu\"    \"oahu\"    \"oahu\"    \"oahu\"    \"oahu\"    \"oahu\"   \n",
              " [876] \"oahu\"    \"oahu\"    \"oahu\"    \"oahu\"    \"oahu\"    \"oahu\"    \"oahu\"   \n",
              " [883] \"oahu\"    \"oahu\"    \"oahu\"    \"oahu\"    \"oahu\"    \"oahu\"    \"oahu\"   \n",
              " [890] \"oahu\"    \"oahu\"    \"oahu\"    \"oahu\"    \"oahu\"    \"oahu\"    \"oahu\"   \n",
              " [897] \"oahu\"    \"oahu\"    \"oahu\"    \"oahu\"    \"oahu\"    \"oahu\"    \"oahu\"   \n",
              " [904] \"oahu\"    \"oahu\"    \"oahu\"    \"oahu\"    \"oahu\"    \"oahu\"    \"oahu\"   \n",
              " [911] \"oahu\"    \"oahu\"    \"oahu\"    \"oahu\"    \"oahu\"    \"oahu\"    \"oahu\"   \n",
              " [918] \"oahu\"    \"oahu\"    \"oahu\"    \"oahu\"    \"oahu\"    \"oahu\"    \"oahu\"   \n",
              " [925] \"oahu\"    \"oahu\"    \"molokai\" \"molokai\" \"molokai\" \"molokai\" \"molokai\"\n",
              " [932] \"molokai\" \"molokai\" \"molokai\" \"molokai\" \"molokai\" \"molokai\" \"molokai\"\n",
              " [939] \"molokai\" \"molokai\" \"molokai\" \"molokai\" \"molokai\" \"molokai\" \"molokai\"\n",
              " [946] \"molokai\" \"molokai\" \"molokai\" \"molokai\" \"molokai\" \"molokai\" \"molokai\"\n",
              " [953] \"molokai\" \"molokai\" \"molokai\" \"molokai\" \"molokai\" \"molokai\" \"molokai\"\n",
              " [960] \"molokai\" \"molokai\" \"molokai\" \"molokai\" \"molokai\" \"molokai\" \"molokai\"\n",
              " [967] \"molokai\" \"molokai\" \"molokai\" \"molokai\" \"molokai\" \"molokai\" \"molokai\"\n",
              " [974] \"molokai\" \"molokai\" \"molokai\" \"molokai\" \"molokai\" \"molokai\" \"molokai\"\n",
              " [981] \"molokai\" \"molokai\" \"molokai\" \"molokai\" \"molokai\" \"molokai\" \"molokai\"\n",
              " [988] \"molokai\" \"molokai\" \"molokai\" \"molokai\" \"molokai\" \"molokai\" \"molokai\"\n",
              " [995] \"molokai\" \"molokai\" \"molokai\" \"molokai\" \"molokai\" \"molokai\" \"molokai\"\n",
              "[1002] \"molokai\" \"molokai\" \"molokai\" \"molokai\" \"molokai\" \"molokai\" \"molokai\"\n",
              "[1009] \"molokai\" \"molokai\" \"molokai\" \"molokai\" \"molokai\" \"molokai\" \"molokai\"\n",
              "[1016] \"molokai\" \"molokai\" \"molokai\" \"molokai\" \"molokai\" \"molokai\" \"molokai\"\n",
              "[1023] \"molokai\" \"molokai\" \"molokai\" \"molokai\" \"molokai\" \"molokai\" \"molokai\"\n",
              "[1030] \"molokai\" \"molokai\" \"molokai\" \"molokai\" \"molokai\" \"molokai\" \"molokai\"\n",
              "[1037] \"molokai\" \"molokai\" \"molokai\" \"molokai\" \"molokai\" \"molokai\" \"molokai\"\n",
              "[1044] \"molokai\" \"molokai\" \"molokai\" \"molokai\" \"molokai\" \"molokai\" \"molokai\"\n",
              "[1051] \"molokai\" \"molokai\" \"molokai\" \"molokai\" \"molokai\" \"molokai\" \"molokai\"\n",
              "[1058] \"molokai\" \"molokai\" \"molokai\" \"molokai\" \"molokai\" \"molokai\" \"molokai\"\n",
              "[1065] \"molokai\" \"molokai\" \"molokai\" \"molokai\" \"molokai\" \"molokai\" \"molokai\"\n",
              "[1072] \"molokai\" \"molokai\" \"molokai\" \"molokai\" \"molokai\" \"molokai\" \"molokai\"\n",
              "[1079] \"molokai\" \"molokai\" \"molokai\" \"molokai\" \"molokai\" \"molokai\" \"molokai\"\n",
              "[1086] \"molokai\" \"molokai\" \"molokai\" \"molokai\" \"molokai\" \"molokai\" \"molokai\"\n",
              "[1093] \"molokai\" \"molokai\" \"molokai\" \"molokai\" \"molokai\" \"molokai\" \"molokai\"\n",
              "[1100] \"molokai\" \"molokai\" \"molokai\" \"molokai\" \"molokai\" \"molokai\" \"molokai\"\n",
              "[1107] \"molokai\" \"molokai\" \"molokai\" \"molokai\" \"molokai\" \"molokai\" \"molokai\"\n",
              "[1114] \"molokai\" \"molokai\" \"molokai\" \"molokai\" \"molokai\" \"molokai\" \"molokai\"\n",
              "[1121] \"molokai\" \"molokai\" \"molokai\" \"molokai\" \"molokai\" \"molokai\" \"molokai\"\n",
              "[1128] \"molokai\" \"molokai\" \"molokai\" \"molokai\" \"molokai\" \"molokai\" \"molokai\"\n",
              "[1135] \"molokai\" \"molokai\" \"molokai\" \"molokai\" \"molokai\" \"molokai\" \"molokai\"\n",
              "[1142] \"molokai\" \"molokai\" \"molokai\" \"molokai\" \"molokai\" \"molokai\" \"molokai\"\n",
              "[1149] \"molokai\" \"molokai\" \"molokai\" \"molokai\" \"molokai\" \"molokai\" \"molokai\"\n",
              "[1156] \"molokai\" \"molokai\" \"molokai\" \"molokai\" \"molokai\" \"molokai\" \"molokai\"\n",
              "[1163] \"molokai\" \"molokai\" \"molokai\" \"molokai\" \"molokai\" \"molokai\" \"molokai\"\n",
              "[1170] \"molokai\" \"molokai\" \"molokai\" \"molokai\" \"molokai\" \"molokai\" \"molokai\"\n",
              "[1177] \"molokai\" \"molokai\" \"molokai\" \"molokai\" \"molokai\" \"molokai\" \"molokai\"\n",
              "[1184] \"molokai\" \"molokai\" \"molokai\" \"molokai\" \"molokai\" \"molokai\" \"molokai\"\n",
              "[1191] \"molokai\" \"molokai\" \"molokai\" \"molokai\" \"molokai\" \"molokai\" \"molokai\"\n",
              "[1198] \"molokai\" \"molokai\" \"molokai\" \"molokai\" \"molokai\" \"molokai\" \"molokai\"\n",
              "[1205] \"molokai\" \"molokai\" \"molokai\" \"molokai\" \"molokai\" \"molokai\" \"molokai\"\n",
              "[1212] \"molokai\" \"molokai\" \"molokai\" \"molokai\" \"molokai\" \"molokai\" \"molokai\"\n",
              "[1219] \"molokai\" \"molokai\" \"molokai\" \"molokai\" \"molokai\" \"molokai\" \"molokai\"\n",
              "[1226] \"molokai\" \"molokai\" \"molokai\" \"molokai\" \"molokai\" \"molokai\" \"molokai\"\n",
              "[1233] \"molokai\" \"molokai\" \"molokai\" \"molokai\" \"molokai\" \"molokai\" \"molokai\"\n",
              "[1240] \"molokai\" \"molokai\" \"molokai\" \"molokai\" \"molokai\" \"molokai\" \"molokai\"\n",
              "[1247] \"molokai\" \"molokai\" \"molokai\" \"molokai\" \"molokai\" \"molokai\" \"molokai\"\n",
              "[1254] \"molokai\" \"molokai\" \"molokai\" \"molokai\" \"molokai\" \"molokai\" \"molokai\"\n",
              "[1261] \"molokai\" \"molokai\" \"molokai\" \"molokai\" \"molokai\" \"molokai\" \"molokai\"\n",
              "[1268] \"molokai\" \"molokai\" \"molokai\" \"molokai\" \"molokai\" \"molokai\" \"molokai\"\n",
              "[1275] \"molokai\" \"molokai\" \"molokai\" \"molokai\" \"molokai\" \"molokai\" \"molokai\"\n",
              "[1282] \"molokai\" \"molokai\" \"molokai\" \"molokai\" \"molokai\" \"molokai\" \"molokai\"\n",
              "[1289] \"molokai\" \"molokai\" \"molokai\" \"molokai\" \"molokai\" \"molokai\" \"molokai\"\n",
              "[1296] \"molokai\" \"molokai\" \"molokai\" \"molokai\" \"molokai\" \"molokai\" \"molokai\"\n",
              "[1303] \"molokai\" \"molokai\" \"molokai\" \"molokai\" \"molokai\" \"molokai\" \"molokai\"\n",
              "[1310] \"molokai\" \"molokai\" \"molokai\" \"molokai\" \"molokai\" \"molokai\" \"molokai\"\n",
              "[1317] \"molokai\" \"molokai\" \"molokai\" \"molokai\" \"molokai\" \"maui\"    \"maui\"   \n",
              "[1324] \"maui\"    \"maui\"    \"maui\"    \"maui\"    \"maui\"    \"maui\"    \"maui\"   \n",
              "[1331] \"maui\"    \"maui\"    \"maui\"    \"maui\"    \"maui\"    \"maui\"    \"maui\"   \n",
              "[1338] \"maui\"    \"maui\"    \"maui\"    \"maui\"    \"maui\"    \"maui\"    \"maui\"   \n",
              "[1345] \"maui\"    \"maui\"    \"maui\"    \"maui\"    \"maui\"    \"maui\"    \"maui\"   \n",
              "[1352] \"maui\"    \"maui\"    \"maui\"    \"maui\"    \"maui\"    \"maui\"    \"maui\"   \n",
              "[1359] \"maui\"    \"maui\"    \"maui\"    \"maui\"    \"maui\"    \"oahu\"    \"oahu\"   \n",
              "[1366] \"oahu\"    \"oahu\"    \"oahu\"    \"oahu\"    \"oahu\"    \"oahu\"    \"oahu\"   \n",
              "[1373] \"oahu\"    \"oahu\"    \"oahu\"    \"oahu\"    \"oahu\"    \"oahu\"    \"oahu\"   \n",
              "[1380] \"oahu\"    \"oahu\"    \"oahu\"    \"oahu\"    \"oahu\"    \"oahu\"    \"oahu\"   \n",
              "[1387] \"oahu\"    \"oahu\"    \"oahu\"    \"oahu\"    \"oahu\"    \"oahu\"    \"oahu\"   \n",
              "[1394] \"oahu\"    \"oahu\"    \"oahu\"    \"oahu\"    \"oahu\"    \"oahu\"    \"oahu\"   \n",
              "[1401] \"oahu\"    \"oahu\"    \"oahu\"    \"oahu\"    \"oahu\"    \"oahu\"    \"oahu\"   \n",
              "[1408] \"oahu\"    \"oahu\"    \"oahu\"    \"oahu\"    \"oahu\"    \"oahu\"    \"oahu\"   \n",
              "[1415] \"oahu\"    \"oahu\"    \"oahu\"    \"oahu\"    \"oahu\"    \"oahu\"    \"oahu\"   \n",
              "[1422] \"oahu\"    \"oahu\"    \"oahu\"    \"oahu\"    \"oahu\"    \"oahu\"    \"oahu\"   \n",
              "[1429] \"oahu\"    \"oahu\"    \"oahu\"    \"oahu\"    \"oahu\"    \"oahu\"    \"oahu\"   \n",
              "[1436] \"oahu\"    \"oahu\"    \"oahu\"    \"oahu\"    \"oahu\"    \"oahu\"    \"oahu\"   \n",
              "[1443] \"oahu\"    \"oahu\"    \"oahu\"    \"oahu\"    \"oahu\"    \"oahu\"    \"oahu\"   \n",
              "[1450] \"oahu\"    \"oahu\"    \"oahu\"    \"oahu\"    \"oahu\"    \"oahu\"    \"oahu\"   \n",
              "[1457] \"oahu\"    \"oahu\"    \"oahu\"    \"oahu\"    \"oahu\"    \"oahu\"    \"oahu\"   \n",
              "[1464] \"oahu\"    \"oahu\"    \"oahu\"    \"oahu\"    \"oahu\"    \"oahu\"    \"oahu\"   \n",
              "[1471] \"oahu\"    \"oahu\"    \"oahu\"    \"oahu\"    \"oahu\"    \"oahu\"    \"oahu\"   \n",
              "[1478] \"oahu\"    \"oahu\"    \"oahu\"    \"oahu\"    \"oahu\"    \"oahu\"    \"oahu\"   \n",
              "[1485] \"oahu\"    \"oahu\"    \"oahu\"    \"oahu\"    \"oahu\"    \"oahu\"    \"oahu\"   \n",
              "[1492] \"oahu\"    \"oahu\"    \"oahu\"    \"oahu\"    \"oahu\"    \"oahu\"    \"oahu\"   \n",
              "[1499] \"oahu\"    \"oahu\"    \"oahu\"    \"oahu\"    \"oahu\"    \"oahu\"    \"oahu\"   \n",
              "[1506] \"oahu\"    \"oahu\"    \"oahu\"    \"oahu\"    \"oahu\"    \"oahu\"    \"oahu\"   \n",
              "[1513] \"oahu\"    \"oahu\"    \"oahu\"    \"oahu\"    \"oahu\"    \"oahu\"    \"oahu\"   \n",
              "[1520] \"oahu\"    \"oahu\"    \"oahu\"    \"oahu\"    \"oahu\"    \"oahu\"    \"oahu\"   \n",
              "[1527] \"oahu\"    \"oahu\"    \"oahu\"    \"oahu\"    \"oahu\"    \"oahu\"    \"oahu\"   \n",
              "[1534] \"oahu\"    \"oahu\"    \"oahu\"    \"oahu\"    \"oahu\"    \"oahu\"    \"oahu\"   \n",
              "[1541] \"oahu\"    \"oahu\"    \"oahu\"    \"oahu\"    \"oahu\"    \"oahu\"    \"oahu\"   \n",
              "[1548] \"oahu\"    \"oahu\"    \"oahu\"    \"oahu\"    \"oahu\"    \"oahu\"    \"oahu\"   \n",
              "[1555] \"oahu\"    \"oahu\"    \"oahu\"    \"oahu\"    \"oahu\"    \"oahu\"    \"oahu\"   \n",
              "[1562] \"oahu\"    \"oahu\"    \"oahu\"    \"oahu\"    \"oahu\"    \"oahu\"    \"oahu\"   \n",
              "[1569] \"oahu\"    \"oahu\"    \"oahu\"    \"oahu\"    \"oahu\"    \"oahu\"    \"oahu\"   \n",
              "[1576] \"oahu\"    \"oahu\"    \"oahu\"    \"oahu\"    \"oahu\"    \"oahu\"    \"oahu\"   \n",
              "[1583] \"oahu\"    \"oahu\"    \"oahu\"    \"oahu\"    \"oahu\"    \"oahu\"    \"oahu\"   \n",
              "[1590] \"oahu\"    \"oahu\"    \"oahu\"    \"oahu\"    \"oahu\"    \"oahu\"    \"oahu\"   \n",
              "[1597] \"oahu\"    \"oahu\"    \"oahu\"    \"oahu\"    \"oahu\"    \"oahu\"    \"oahu\"   \n",
              "[1604] \"oahu\"    \"oahu\"    \"oahu\"    \"oahu\"    \"oahu\"    \"oahu\"    \"oahu\"   \n",
              "[1611] \"oahu\"    \"oahu\"    \"oahu\"    \"oahu\"    \"oahu\"    \"oahu\"    \"oahu\"   \n",
              "[1618] \"oahu\"    \"oahu\"    \"oahu\"    \"oahu\"    \"oahu\"    \"oahu\"    \"oahu\"   \n",
              "[1625] \"oahu\"    \"oahu\"    \"oahu\"    \"oahu\"    \"oahu\"    \"oahu\"    \"oahu\"   \n",
              "[1632] \"oahu\"    \"oahu\"    \"oahu\"    \"oahu\"    \"oahu\"    \"oahu\"    \"oahu\"   \n",
              "[1639] \"oahu\"    \"oahu\"    \"oahu\"    \"oahu\"    \"oahu\"    \"oahu\"    \"oahu\"   \n",
              "[1646] \"oahu\"    \"oahu\"    \"oahu\"    \"oahu\"    \"oahu\"    \"oahu\"    \"maui\"   \n",
              "[1653] \"maui\"    \"maui\"    \"maui\"    \"maui\"    \"maui\"    \"maui\"    \"maui\"   \n",
              "[1660] \"maui\"    \"maui\"    \"maui\"    \"maui\"    \"maui\"    \"maui\"    \"maui\"   \n",
              "[1667] \"maui\"    \"maui\"    \"maui\"    \"maui\"    \"maui\"    \"maui\"    \"maui\"   \n",
              "[1674] \"maui\"    \"maui\"    \"maui\"    \"maui\"    \"maui\"    \"maui\"    \"maui\"   \n",
              "[1681] \"maui\"    \"maui\"    \"maui\"    \"maui\"    \"maui\"    \"maui\"    \"maui\"   \n",
              "[1688] \"maui\"    \"maui\"    \"maui\"    \"maui\"    \"maui\"    \"maui\"    \"maui\"   \n",
              "[1695] \"maui\"    \"maui\"    \"maui\"    \"maui\"    \"maui\"    \"maui\"    \"maui\"   \n",
              "[1702] \"maui\"    \"maui\"    \"maui\"    \"maui\"    \"maui\"    \"maui\"    \"maui\"   \n",
              "[1709] \"maui\"    \"maui\"    \"maui\"    \"maui\"    \"maui\"    \"maui\"    \"maui\"   \n",
              "[1716] \"maui\"    \"maui\"    \"maui\"    \"maui\"    \"maui\"    \"maui\"    \"maui\"   \n",
              "[1723] \"maui\"    \"maui\"    \"maui\"    \"maui\"    \"maui\"    \"maui\"    \"maui\"   \n",
              "[1730] \"maui\"    \"maui\"    \"maui\"    \"maui\"    \"maui\"    \"maui\"    \"maui\"   \n",
              "[1737] \"maui\"    \"maui\"    \"maui\"    \"maui\"    \"maui\"    \"maui\"    \"maui\"   \n",
              "[1744] \"maui\"    \"maui\"    \"maui\"    \"maui\"    \"maui\"    \"maui\"    \"maui\"   \n",
              "[1751] \"maui\"    \"maui\"    \"maui\"    \"maui\"    \"maui\"    \"maui\"    \"maui\"   \n",
              "[1758] \"maui\"    \"maui\"    \"maui\"    \"maui\"    \"maui\"    \"maui\"    \"maui\"   \n",
              "[1765] \"maui\"    \"maui\"    \"maui\"    \"maui\"    \"maui\"    \"maui\"    \"maui\"   \n",
              "[1772] \"kauai\"   \"kauai\"   \"kauai\"   \"kauai\"   \"kauai\"   \"kauai\"   \"kauai\"  \n",
              "[1779] \"kauai\"   \"kauai\"   \"kauai\"   \"kauai\"   \"kauai\"   \"kauai\"   \"kauai\"  \n",
              "[1786] \"kauai\"   \"kauai\"   \"kauai\"   \"kauai\"   \"kauai\"   \"kauai\"   \"kauai\"  \n",
              "[1793] \"kauai\"   \"kauai\"   \"kauai\"   \"kauai\"   \"kauai\"   \"kauai\"   \"kauai\"  \n",
              "[1800] \"kauai\"   \"kauai\"   \"kauai\"   \"kauai\"   \"kauai\"   \"kauai\"   \"kauai\"  \n",
              "[1807] \"kauai\"   \"kauai\"   \"kauai\"   \"kauai\"   \"kauai\"   \"kauai\"   \"kauai\"  \n",
              "[1814] \"kauai\"   \"kauai\"   \"kauai\"   \"kauai\"   \"kauai\"   \"kauai\"   \"kauai\"  \n",
              "[1821] \"kauai\"   \"kauai\"   \"kauai\"   \"kauai\"   \"kauai\"   \"kauai\"   \"kauai\"  \n",
              "[1828] \"kauai\"   \"kauai\"   \"kauai\"   \"kauai\"   \"kauai\"   \"kauai\"   \"kauai\"  \n",
              "[1835] \"kauai\"   \"kauai\"   \"maui\"    \"maui\"    \"maui\"    \"maui\"    \"maui\"   \n",
              "[1842] \"maui\"    \"maui\"    \"maui\"    \"maui\"    \"maui\"    \"maui\"    \"maui\"   \n",
              "[1849] \"maui\"    \"maui\"    \"maui\"    \"maui\"    \"maui\"    \"maui\"    \"maui\"   \n",
              "[1856] \"maui\"    \"maui\"    \"maui\"    \"maui\"    \"maui\"    \"maui\"    \"maui\"   \n",
              "[1863] \"maui\"    \"maui\"    \"maui\"    \"maui\"    \"maui\"    \"maui\"    \"maui\"   \n",
              "[1870] \"maui\"    \"maui\"    \"maui\"    \"maui\"    \"maui\"    \"maui\"    \"maui\"   \n",
              "[1877] \"maui\"    \"maui\"    \"maui\"    \"maui\"    \"maui\"    \"maui\"    \"maui\"   \n",
              "[1884] \"maui\"    \"maui\"    \"maui\"    \"maui\"    \"maui\"    \"maui\"    \"maui\"   \n",
              "[1891] \"maui\"    \"maui\"    \"maui\"    \"maui\"    \"maui\"    \"maui\"    \"maui\"   \n",
              "[1898] \"maui\"    \"maui\"    \"maui\"    \"maui\"    \"maui\"    \"maui\"    \"maui\"   \n",
              "[1905] \"maui\"    \"maui\"    \"maui\"    \"maui\"    \"maui\"    \"maui\"    \"maui\"   \n",
              "[1912] \"maui\"    \"maui\"    \"maui\"    \"maui\"    \"maui\"    \"maui\"    \"maui\"   \n",
              "[1919] \"maui\"    \"maui\"    \"maui\"    \"maui\"    \"maui\"    \"maui\"    \"maui\"   \n",
              "[1926] \"maui\"    \"oahu\"    \"oahu\"    \"oahu\"    \"oahu\"    \"oahu\"    \"oahu\"   \n",
              "[1933] \"oahu\"    \"oahu\"    \"oahu\"    \"oahu\"    \"oahu\"    \"oahu\"    \"oahu\"   \n",
              "[1940] \"oahu\"    \"oahu\"    \"oahu\"    \"oahu\"    \"oahu\"    \"oahu\"    \"oahu\"   \n",
              "[1947] \"oahu\"    \"oahu\"    \"oahu\"    \"oahu\"    \"oahu\"    \"oahu\"    \"oahu\"   \n",
              "[1954] \"oahu\"    \"oahu\"    \"oahu\"    \"oahu\"    \"oahu\"    \"oahu\"    \"oahu\"   \n",
              "[1961] \"oahu\"    \"oahu\"    \"oahu\"    \"oahu\"    \"oahu\"    \"oahu\"    \"oahu\"   \n",
              "[1968] \"oahu\"    \"oahu\"    \"oahu\"    \"oahu\"    \"oahu\"    \"oahu\"    \"oahu\"   \n",
              "[1975] \"oahu\"    \"oahu\"    \"oahu\"    \"oahu\"    \"oahu\"    \"oahu\"    \"oahu\"   \n",
              "[1982] \"oahu\"    \"oahu\"    \"oahu\"    \"oahu\"    \"oahu\"    \"oahu\"    \"oahu\"   \n",
              "[1989] \"oahu\"    \"oahu\"    \"oahu\"    \"oahu\"    \"oahu\"    \"oahu\"    \"oahu\"   \n",
              "[1996] \"oahu\"    \"oahu\"    \"oahu\"    \"oahu\"    \"oahu\"    \"oahu\"    \"oahu\"   \n",
              "[2003] \"oahu\"    \"oahu\"    \"oahu\"    \"oahu\"    \"oahu\"    \"oahu\"    \"oahu\"   \n",
              "[2010] \"oahu\"    \"oahu\"    \"oahu\"    \"oahu\"    \"oahu\"    \"oahu\"    \"oahu\"   \n",
              "[2017] \"oahu\"    \"oahu\"    \"oahu\"    \"oahu\"    \"oahu\"    \"oahu\"    \"oahu\"   \n",
              "[2024] \"oahu\"    \"oahu\"    \"oahu\"    \"oahu\"    \"oahu\"    \"oahu\"    \"oahu\"   \n",
              "[2031] \"oahu\"    \"oahu\"    \"oahu\"    \"oahu\"    \"oahu\"    \"oahu\"    \"oahu\"   \n",
              "[2038] \"oahu\"    \"oahu\"    \"oahu\"    \"oahu\"    \"oahu\"    \"oahu\"    \"oahu\"   \n",
              "[2045] \"oahu\"    \"oahu\"    \"oahu\"    \"oahu\"    \"oahu\"    \"oahu\"    \"oahu\"   \n",
              "[2052] \"oahu\"    \"oahu\"    \"oahu\"    \"oahu\"    \"oahu\"    \"oahu\"    \"oahu\"   \n",
              "[2059] \"oahu\"    \"oahu\"    \"oahu\"    \"oahu\"    \"oahu\"    \"oahu\"    \"oahu\"   \n",
              "[2066] \"oahu\"    \"oahu\"    \"oahu\"    \"oahu\"    \"oahu\"    \"oahu\"    \"oahu\"   \n",
              "[2073] \"oahu\"    \"oahu\"    \"oahu\"    \"oahu\"    \"oahu\"    \"oahu\"    \"oahu\"   \n",
              "[2080] \"oahu\"    \"oahu\"    \"oahu\"    \"oahu\"    \"oahu\"    \"oahu\"    \"oahu\"   \n",
              "[2087] \"oahu\"    \"oahu\"    \"oahu\"    \"oahu\"    \"oahu\"    \"oahu\"    \"oahu\"   \n",
              "[2094] \"oahu\"    \"oahu\"    \"oahu\"    \"oahu\"    \"oahu\"    \"oahu\"    \"oahu\"   \n",
              "[2101] \"oahu\"    \"oahu\"    \"oahu\"    \"oahu\"    \"oahu\"    \"oahu\"    \"oahu\"   \n",
              "[2108] \"oahu\"    \"oahu\"    \"oahu\"    \"oahu\"    \"oahu\"    \"oahu\"    \"oahu\"   \n",
              "[2115] \"oahu\"    \"oahu\"    \"oahu\"    \"oahu\"    \"oahu\"    \"oahu\"    \"oahu\"   \n",
              "[2122] \"oahu\"    \"oahu\"    \"oahu\"    \"oahu\"    \"oahu\"    \"oahu\"    \"oahu\"   \n",
              "[2129] \"oahu\"    \"oahu\"    \"oahu\"    \"oahu\"    \"oahu\"    \"oahu\"    \"oahu\"   \n",
              "[2136] \"oahu\"    \"oahu\"    \"oahu\"    \"oahu\"    \"oahu\"    \"oahu\"    \"oahu\"   \n",
              "[2143] \"oahu\"    \"oahu\"    \"oahu\"    \"oahu\"    \"oahu\"    \"oahu\"    \"oahu\"   \n",
              "[2150] \"oahu\"    \"oahu\"    \"oahu\"    \"oahu\"    \"oahu\"    \"oahu\"    \"oahu\"   \n",
              "[2157] \"oahu\"    \"oahu\"    \"oahu\"    \"oahu\"    \"oahu\"    \"oahu\"    \"oahu\"   \n",
              "[2164] \"oahu\"    \"oahu\"    \"oahu\"    \"oahu\"    \"oahu\"    \"oahu\"    \"oahu\"   \n",
              "[2171] \"oahu\"    \"oahu\"    \"oahu\"    \"oahu\"    \"oahu\"    \"oahu\"    \"oahu\"   \n",
              "[2178] \"oahu\"    \"oahu\"    \"oahu\"    \"oahu\"    \"oahu\"    \"oahu\"    \"oahu\"   \n",
              "[2185] \"oahu\"    \"oahu\"    \"oahu\"    \"oahu\"    \"oahu\"    \"oahu\"    \"oahu\"   \n",
              "[2192] \"oahu\"    \"oahu\"    \"oahu\"    \"oahu\"    \"oahu\"    \"oahu\"    \"oahu\"   \n",
              "[2199] \"oahu\"    \"oahu\"    \"oahu\"    \"oahu\"    \"oahu\"    \"oahu\"    \"oahu\"   \n",
              "[2206] \"oahu\"    \"oahu\"    \"oahu\"    \"oahu\"    \"oahu\"    \"oahu\"    \"oahu\"   \n",
              "[2213] \"oahu\"    \"oahu\"    \"oahu\"    \"oahu\"    \"oahu\"    \"oahu\"    \"oahu\"   \n",
              "[2220] \"oahu\"    \"oahu\"    \"oahu\"    \"oahu\"    \"oahu\"    \"oahu\"    \"oahu\"   \n",
              "[2227] \"oahu\"    \"oahu\"    \"oahu\"    \"oahu\"    \"oahu\"    \"oahu\"    \"oahu\"   \n",
              "[2234] \"oahu\"    \"oahu\"    \"oahu\"    \"oahu\"    \"oahu\"    \"oahu\"    \"oahu\"   \n",
              "[2241] \"oahu\"    \"oahu\"    \"oahu\"    \"oahu\"    \"oahu\"    \"oahu\"    \"oahu\"   \n",
              "[2248] \"oahu\"    \"oahu\"    \"oahu\"    \"oahu\"    \"oahu\"    \"oahu\"    \"oahu\"   \n",
              "[2255] \"oahu\"    \"oahu\"    \"oahu\"    \"oahu\"    \"oahu\"    \"oahu\"    \"oahu\"   \n",
              "[2262] \"oahu\"    \"oahu\"    \"oahu\"    \"oahu\"    \"oahu\"    \"oahu\"    \"oahu\"   \n",
              "[2269] \"oahu\"    \"oahu\"    \"oahu\"    \"oahu\"    \"oahu\"    \"oahu\"    \"oahu\"   \n",
              "[2276] \"oahu\"    \"oahu\"    \"oahu\"    \"oahu\"    \"oahu\"    \"oahu\"    \"oahu\"   \n",
              "[2283] \"oahu\"    \"oahu\"    \"oahu\"    \"oahu\"    \"oahu\"    \"oahu\"    \"oahu\"   \n",
              "[2290] \"oahu\"    \"oahu\"    \"oahu\"    \"oahu\"    \"oahu\"    \"oahu\"    \"oahu\"   \n",
              "[2297] \"oahu\"    \"oahu\"    \"oahu\"    \"oahu\"    \"oahu\"    \"oahu\"    \"oahu\"   \n",
              "[2304] \"oahu\"    \"oahu\"    \"oahu\"    \"oahu\"    \"oahu\"    \"oahu\"    \"oahu\"   \n",
              "[2311] \"oahu\"    \"oahu\"    \"oahu\"    \"oahu\"    \"oahu\"    \"oahu\"    \"oahu\"   \n",
              "[2318] \"oahu\"    \"oahu\"    \"oahu\"    \"oahu\"    \"oahu\"    \"oahu\"    \"oahu\"   \n",
              "[2325] \"oahu\"    \"oahu\"    \"oahu\"    \"oahu\"    \"oahu\"    \"oahu\"    \"oahu\"   \n",
              "[2332] \"oahu\"    \"oahu\"    \"oahu\"    \"oahu\"    \"oahu\"    \"oahu\"    \"oahu\"   \n",
              "[2339] \"oahu\"    \"oahu\"    \"oahu\"    \"oahu\"    \"oahu\"    \"oahu\"    \"oahu\"   \n",
              "[2346] \"oahu\"    \"oahu\"    \"oahu\"    \"oahu\"    \"oahu\"    \"oahu\"    \"oahu\"   \n",
              "[2353] \"oahu\"    \"oahu\"    \"oahu\"    \"oahu\"    \"oahu\"    \"oahu\"    \"oahu\"   \n",
              "[2360] \"oahu\"    \"oahu\"    \"oahu\"    \"oahu\"    \"oahu\"    \"oahu\"    \"oahu\"   \n",
              "[2367] \"oahu\"    \"oahu\"    \"oahu\"    \"oahu\"    \"oahu\"    \"oahu\"    \"oahu\"   \n",
              "[2374] \"oahu\"    \"oahu\"    \"oahu\"    \"oahu\"    \"oahu\"    \"oahu\"    \"oahu\"   \n",
              "[2381] \"oahu\"    \"oahu\"    \"oahu\"    \"oahu\"    \"oahu\"    \"oahu\"    \"oahu\"   \n",
              "[2388] \"oahu\"    \"oahu\"    \"oahu\"    \"oahu\"    \"oahu\"    \"oahu\"    \"oahu\"   \n",
              "[2395] \"oahu\"    \"oahu\"    \"oahu\"    \"oahu\"    \"oahu\"    \"oahu\"    \"oahu\"   \n",
              "[2402] \"oahu\"    \"oahu\"    \"oahu\"    \"oahu\"    \"oahu\"    \"oahu\"    \"oahu\"   \n",
              "[2409] \"oahu\"    \"oahu\"    \"oahu\"    \"oahu\"    \"oahu\"    \"oahu\"    \"oahu\"   \n",
              "[2416] \"oahu\"    \"oahu\"    \"oahu\"    \"oahu\"    \"oahu\"    \"oahu\"    \"oahu\"   \n",
              "[2423] \"oahu\"    \"oahu\"    \"oahu\"    \"oahu\"    \"oahu\"    \"oahu\"    \"oahu\"   \n",
              "[2430] \"oahu\"    \"oahu\"    \"oahu\"    \"oahu\"    \"oahu\"    \"oahu\"    \"oahu\"   \n",
              "[2437] \"oahu\"    \"oahu\"    \"oahu\"    \"oahu\"    \"oahu\"    \"oahu\"    \"oahu\"   \n",
              "[2444] \"oahu\"    \"oahu\"    \"oahu\"    \"oahu\"    \"oahu\"    \"oahu\"    \"oahu\"   \n",
              "[2451] \"oahu\"    \"oahu\"    \"oahu\"    \"oahu\"    \"oahu\"    \"oahu\"    \"oahu\"   \n",
              "[2458] \"oahu\"    \"oahu\"    \"oahu\"    \"oahu\"    \"oahu\"    \"oahu\"    \"oahu\"   \n",
              "[2465] \"oahu\"    \"oahu\"    \"oahu\"    \"oahu\"    \"oahu\"    \"oahu\"    \"oahu\"   \n",
              "[2472] \"oahu\"    \"oahu\"    \"oahu\"    \"oahu\"    \"oahu\"    \"oahu\"    \"oahu\"   \n",
              "[2479] \"oahu\"    \"oahu\"    \"oahu\"    \"oahu\"    \"oahu\"    \"oahu\"    \"oahu\"   \n",
              "[2486] \"oahu\"    \"oahu\"    \"oahu\"    \"oahu\"    \"oahu\"    \"oahu\"    \"oahu\"   \n",
              "[2493] \"oahu\"    \"oahu\"    \"oahu\"    \"oahu\"    \"oahu\"    \"oahu\"    \"oahu\"   \n",
              "[2500] \"oahu\"    \"oahu\"    \"oahu\"    \"oahu\"    \"oahu\"    \"oahu\"    \"oahu\"   \n",
              "[2507] \"oahu\"    \"oahu\"    \"oahu\"    \"oahu\"    \"oahu\"    \"oahu\"    \"oahu\"   \n",
              "[2514] \"oahu\"    \"oahu\"    \"oahu\"    \"oahu\"    \"oahu\"    \"oahu\"    \"oahu\"   \n",
              "[2521] \"oahu\"    \"oahu\"    \"oahu\"    \"oahu\"    \"oahu\"    \"oahu\"    \"oahu\"   \n",
              "[2528] \"oahu\"    \"oahu\"    \"oahu\"    \"oahu\"    \"oahu\"    \"oahu\"    \"oahu\"   \n",
              "[2535] \"oahu\"    \"oahu\"    \"oahu\"    \"oahu\"    \"oahu\"    \"oahu\"    \"oahu\"   \n",
              "[2542] \"oahu\"    \"oahu\"    \"oahu\"    \"oahu\"    \"oahu\"    \"maui\"    \"maui\"   \n",
              "[2549] \"maui\"    \"maui\"    \"maui\"    \"maui\"    \"maui\"    \"maui\"    \"maui\"   \n",
              "[2556] \"maui\"    \"maui\"    \"maui\"    \"maui\"    \"maui\"    \"maui\"    \"maui\"   \n",
              "[2563] \"maui\"    \"maui\"    \"maui\"    \"maui\"    \"maui\"    \"maui\"    \"maui\"   \n",
              "[2570] \"maui\"    \"maui\"    \"maui\"    \"maui\"    \"maui\"    \"maui\"    \"maui\"   \n",
              "[2577] \"kauai\"   \"kauai\"   \"kauai\"   \"kauai\"   \"kauai\"   \"kauai\"   \"kauai\"  \n",
              "[2584] \"kauai\"   \"kauai\"   \"kauai\"   \"kauai\"   \"kauai\"   \"kauai\"   \"kauai\"  \n",
              "[2591] \"kauai\"   \"kauai\"   \"kauai\"   \"kauai\"   \"kauai\"   \"kauai\"   \"kauai\"  \n",
              "[2598] \"kauai\"   \"kauai\"   \"kauai\"   \"kauai\"   \"kauai\"   \"kauai\"   \"kauai\"  \n",
              "[2605] \"kauai\"   \"kauai\"   \"kauai\"   \"kauai\"   \"kauai\"   \"kauai\"   \"kauai\"  \n",
              "[2612] \"kauai\"   \"kauai\"   \"kauai\"   \"kauai\"   \"kauai\"   \"kauai\"   \"kauai\"  \n",
              "[2619] \"kauai\"   \"kauai\"   \"kauai\"   \"kauai\"   \"kauai\"   \"kauai\"   \"kauai\"  \n",
              "[2626] \"kauai\"   \"kauai\"   \"kauai\"   \"kauai\"   \"kauai\"   \"kauai\"   \"kauai\"  \n",
              "[2633] \"kauai\"   \"kauai\"   \"kauai\"   \"kauai\"   \"kauai\"   \"kauai\"   \"kauai\"  \n",
              "[2640] \"kauai\"   \"kauai\"   \"kauai\"   \"kauai\"   \"kauai\"   \"kauai\"   \"kauai\"  \n",
              "[2647] \"kauai\"   \"kauai\"   \"kauai\"   \"kauai\"   \"kauai\"   \"kauai\"   \"kauai\"  \n",
              "[2654] \"kauai\"   \"kauai\"   \"kauai\"   \"kauai\"   \"kauai\"   \"kauai\"   \"kauai\"  \n",
              "[2661] \"kauai\"   \"kauai\"   \"kauai\"   \"kauai\"   \"kauai\"   \"kauai\"  "
            ]
          },
          "metadata": {}
        }
      ]
    },
    {
      "cell_type": "code",
      "source": [
        "cl <- makeCluster(8)\n",
        "library(raster)\n",
        "library(sf)\n",
        "library(fasterize)\n",
        "library(magrittr)\n",
        "library(googledrive)\n",
        "library(parallel)\n",
        "library(data.table)\n",
        "library(stringr)\n",
        "library(dplyr)\n",
        "\n",
        "\n",
        "  # Load the Planet data raster for the specific location\n",
        "  location_name <- wetlandsFishnet$layer\n",
        "  # Find the corresponding row in final_island_data based on location_name\n",
        "  matching_row <- final_island_data[location_name == final_island_data$location_name]\n",
        "\n",
        "  planet_file_path <- matching_row$planet_file_path[1]\n",
        "  planet_raster <- stack(planet_file_path)\n",
        "\n",
        "  # Transform and crop the raster to match the wetlandsFishnet extent\n",
        "  wetlands_sf <- st_as_sf(wetlandsFishnet[t,]) %>% st_transform(crs = crs(planet_raster))\n",
        "  planet_cropped <- crop(planet_raster, extent(wetlands_sf))\n",
        "\n",
        "  # Create a uniform raster template\n",
        "  template_extent <- extent(planet_cropped)\n",
        "  template_raster <- raster(nrows = 384, ncols = 384, ext = template_extent, crs = crs(planet_raster))\n",
        "  planet_resampled <- resample(planet_cropped, template_raster, method = \"ngb\") # This is the planet tiles!!!\n",
        "\n",
        "\n",
        "\n",
        "\n",
        "\n",
        "placeholder <- c(15:18) %>% lapply(function(f){\n",
        "test <- wetlandsFishnet_nad83_sf[f,] %>% st_transform(st_crs(naipImages)) %>% crop(naipImages,.)\n",
        "test_extent <-extent(test)\n",
        "test_extent_raster <- raster(nrow=128, ncol=128, ext=test_extent, crs=crs(naipImages))\n",
        "test_extent_raster_size <- crop(resample(test, test_extent_raster, method = \"ngb\"), extent(test_extent_raster)) # this is the naip tiles!\n",
        "\n",
        "\n",
        "test_nwi_crop <- nwi_utm4 %>% st_intersection(wetlandsFishnet_nad83_sf[f,] %>% st_transform(st_crs(nwi_utm4))) %>%\n",
        "  st_transform(st_crs(naipImages)) %>% fasterize(.,test_extent_raster_size[[1]], \"wetland_ty_numeric\")\n",
        "\n",
        "test_nlcd_crop <- wetlandsFishnet_nad83_sf[f,] %>% st_buffer(100) %>% st_transform(st_crs(naipImages)) %>% crop(nlcdImages_nad83,.) %>%\n",
        "  resample(test_extent_raster_size, method = \"ngb\")\n",
        "\n",
        "test_dem_crop <- wetlandsFishnet_nad83_sf[f,] %>% st_buffer(100) %>% st_transform(st_crs(naipImages)) %>%\n",
        "  crop(links_dt[island ==wetlandsFishnet_nad83_sf[f,]$island]$dem_raster[[1]],.) %>% resample(test_extent_raster_size, method= \"ngb\")\n",
        "\n",
        "test_ccap_crop <- wetlandsFishnet_nad83_sf[f,] %>% st_buffer(100) %>% st_transform(st_crs(naipImages)) %>%\n",
        "  crop(links_dt[island ==wetlandsFishnet_nad83_sf[f,]$island]$ccap_raster[[1]],.) %>% resample(test_extent_raster_size, method = \"ngb\")\n",
        "\n",
        "\n",
        "nwi_harm <- test_nwi_crop\n",
        "nlcd_harm <- test_nlcd_crop\n",
        "ccap_harm <- test_ccap_crop\n",
        "\n",
        "values(nwi_harm) <- -1\n",
        "values(nlcd_harm) <- -1\n",
        "values(ccap_harm) <- -1\n",
        "\n",
        "for(i in 1:nrow(unified_table)){\n",
        " values(nwi_harm)[ values(test_nwi_crop %in% unified_table$nwi[[i]])] <- unified_table$unified[[i]]\n",
        " values(nlcd_harm)[ values(test_nlcd_crop %in% unified_table$nlcd[[i]])] <- unified_table$unified[[i]]\n",
        " values(ccap_harm)[ values(test_ccap_crop %in% unified_table$ccap[[i]])] <- unified_table$unified[[i]]\n",
        "\n",
        "}\n",
        "\n",
        "nwi_filled <- nlcd_harm\n",
        "values(nwi_filled)[values(nwi_harm) !=-1] <- values(nwi_harm)[values(nwi_harm) !=-1]\n",
        "values(nwi_filled)[values(nwi_filled) ==-1] <- 12\n",
        "\n",
        "\n",
        "\n",
        "ccap_filled <- ccap_harm\n",
        "values(ccap_filled)[values(ccap_harm) !=-1] <- values(ccap_harm)[values(ccap_harm) !=-1]\n",
        "values(ccap_filled)[values(ccap_filled) ==-1] <- 12\n",
        "\n",
        "\n",
        "\n",
        "\n",
        "test_extent_raster_size %>% writeRaster(paste0('/content/', f, \"_naip\",'.tif'),overwrite=T)\n",
        "nwi_filled %>% writeRaster(paste0('/content/', f,\"_nwiFilled\",'.tif'),overwrite=T)\n",
        "test_dem_crop %>% writeRaster(paste0('/content/', f,\"_dem\",'.tif'),overwrite=T)\n",
        "ccap_filled %>% writeRaster(paste0('/content/', f,\"_ccapFilled\",'.tif'),overwrite=T)\n",
        "\n",
        "})\n",
        "\n",
        "stopCluster(cl)\n",
        "\n",
        "# zip(zipfile = \"/content/naip_16:10000.zip\",\n",
        "#     files = c(\"/content/exports/naip_image\",\n",
        "#     \"/content/exports/nwi_filled\",\n",
        "#     \"/content/exports/ccap_filled\",\n",
        "#     \"/content/exports/dem\"))\n",
        "# # https://drive.google.com/drive/folders/10RJ85fxzoc_jbWpZU2ySAg8uVFmtzl-T?usp=drive_link\n",
        "# drive_upload(media = \"/content/naip_16:10000.zip\", path = as_id(\"10RJ85fxzoc_jbWpZU2ySAg8uVFmtzl-T\"))"
      ],
      "metadata": {
        "id": "eEH83qA48001"
      },
      "execution_count": null,
      "outputs": []
    },
    {
      "cell_type": "code",
      "source": [],
      "metadata": {
        "id": "ndj1bS5G80yr"
      },
      "execution_count": null,
      "outputs": []
    },
    {
      "cell_type": "code",
      "source": [],
      "metadata": {
        "id": "IhYVw9Ak80wZ"
      },
      "execution_count": null,
      "outputs": []
    },
    {
      "cell_type": "code",
      "source": [],
      "metadata": {
        "id": "MqUrjcot80th"
      },
      "execution_count": null,
      "outputs": []
    },
    {
      "cell_type": "code",
      "source": [],
      "metadata": {
        "id": "aAi_Ko_D80rP"
      },
      "execution_count": null,
      "outputs": []
    },
    {
      "cell_type": "code",
      "source": [],
      "metadata": {
        "id": "7vO3eVkU_O8y"
      },
      "execution_count": null,
      "outputs": []
    },
    {
      "cell_type": "code",
      "source": [
        "  t <- c(4,5,12,13) %>% lapply(function(t){\n",
        "  # Load the Planet data raster for the specific location\n",
        "  location_name <- wetlandsFishnet$layer\n",
        "  # Find the corresponding row in final_island_data based on location_name\n",
        "  matching_row <- final_island_data[location_name == final_island_data$location_name]\n",
        "\n",
        "  planet_file_path <- matching_row$planet_file_path[1]\n",
        "  planet_raster <- stack(planet_file_path)\n",
        "\n",
        "  # Transform and crop the raster to match the wetlandsFishnet extent\n",
        "  wetlands_sf <- st_as_sf(wetlandsFishnet[t,]) %>% st_transform(crs = crs(planet_raster))\n",
        "  planet_cropped <- crop(planet_raster, extent(wetlands_sf))\n",
        "\n",
        "  # Create a uniform raster template\n",
        "  template_extent <- extent(planet_cropped)\n",
        "  template_raster <- raster(nrows = 384, ncols = 384, ext = template_extent, crs = crs(planet_raster))\n",
        "  planet_resampled <- resample(planet_cropped, template_raster, method = \"ngb\") # This is the planet tiles!!!\n",
        "\n",
        "\n",
        "  nwi_crop <- nwi_utm4 %>% st_intersection(wetlandsFishnet[t,] %>% st_as_sf %>% st_transform(st_crs(nwi_utm4))) %>%\n",
        "  st_transform(st_crs(planet_raster)) %>% fasterize(.,planet_resampled[[1]],'wetland_ty_numeric')\n",
        "\n",
        "  nlcd_crop <- wetlandsFishnet[t,] %>% st_as_sf %>% st_buffer(100) %>% st_transform(st_crs(nlcdImages)) %>% crop(nlcdImages,.) %>%\n",
        "  resample(planet_resampled,method='ngb')\n",
        "\n",
        "  ccap_crop <- planet_resampled %>% crop(final_island_data[island ==  wetlandsFishnet[t,]$island]$ccap_raster[[1]],.) %>%\n",
        "  resample(planet_resampled,method='ngb')\n",
        "\n",
        "  dem_crop <- wetlandsFishnet[t,] %>% st_as_sf %>% st_buffer(100) %>% st_transform(st_crs(nlcdImages)) %>%\n",
        "  crop(final_island_data[island ==  wetlandsFishnet[t,]$island]$dem_raster[[1]],.) %>% resample(planet_resampled,method='ngb')\n",
        "\n",
        "\n",
        "  planet_resampled %>% writeRaster(paste0('/content/exports/planet_data/', t, '_planet.tif'), overwrite = TRUE)\n",
        "  nwi_crop %>% writeRaster(paste0('/content/exports/nwi/', t, '_nwi.tif'), overwrite = TRUE)\n",
        "  dem_crop %>% writeRaster(paste0('/content/exports/dem/', t, '_dem.tif'), overwrite = TRUE)\n",
        "  ccap_crop %>% writeRaster(paste0('/content/exports/ccap/', t, '_ccap.tif'), overwrite = TRUE)\n",
        "\n",
        "  })\n"
      ],
      "metadata": {
        "colab": {
          "base_uri": "https://localhost:8080/"
        },
        "id": "2meOGdIyQCqu",
        "outputId": "9afb8ecc-674c-40ff-e8fd-f930d285fbc4"
      },
      "execution_count": null,
      "outputs": [
        {
          "output_type": "stream",
          "name": "stderr",
          "text": [
            "Warning message:\n",
            "“attribute variables are assumed to be spatially constant throughout all geometries”\n",
            "Warning message:\n",
            "“attribute variables are assumed to be spatially constant throughout all geometries”\n",
            "Warning message:\n",
            "“attribute variables are assumed to be spatially constant throughout all geometries”\n",
            "Warning message:\n",
            "“attribute variables are assumed to be spatially constant throughout all geometries”\n"
          ]
        }
      ]
    }
  ]
}