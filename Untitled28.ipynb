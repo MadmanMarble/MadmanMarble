{
  "nbformat": 4,
  "nbformat_minor": 0,
  "metadata": {
    "colab": {
      "provenance": [],
      "machine_shape": "hm",
      "authorship_tag": "ABX9TyMLiZLCwB0XFpJbSQnYHbCI",
      "include_colab_link": true
    },
    "kernelspec": {
      "name": "ir",
      "display_name": "R"
    },
    "language_info": {
      "name": "R"
    }
  },
  "cells": [
    {
      "cell_type": "markdown",
      "metadata": {
        "id": "view-in-github",
        "colab_type": "text"
      },
      "source": [
        "<a href=\"https://colab.research.google.com/github/MadmanMarble/MadmanMarble/blob/main/Untitled28.ipynb\" target=\"_parent\"><img src=\"https://colab.research.google.com/assets/colab-badge.svg\" alt=\"Open In Colab\"/></a>"
      ]
    },
    {
      "cell_type": "code",
      "execution_count": 1,
      "metadata": {
        "colab": {
          "base_uri": "https://localhost:8080/"
        },
        "id": "eL9bXztGPUq0",
        "outputId": "93704c4c-1c91-48f8-e92f-b938a73b20cb"
      },
      "outputs": [
        {
          "output_type": "stream",
          "name": "stderr",
          "text": [
            "Installing packages into ‘/usr/local/lib/R/site-library’\n",
            "(as ‘lib’ is unspecified)\n",
            "\n",
            "also installing the dependencies ‘proxy’, ‘e1071’, ‘sp’, ‘Rcpp’, ‘terra’, ‘classInt’, ‘s2’, ‘units’, ‘wk’, ‘RcppArmadillo’\n",
            "\n",
            "\n",
            "Installing package into ‘/usr/local/lib/R/site-library’\n",
            "(as ‘lib’ is unspecified)\n",
            "\n",
            "Installing package into ‘/usr/local/lib/R/site-library’\n",
            "(as ‘lib’ is unspecified)\n",
            "\n",
            "Installing package into ‘/usr/local/lib/R/site-library’\n",
            "(as ‘lib’ is unspecified)\n",
            "\n",
            "also installing the dependencies ‘httpuv’, ‘xtable’, ‘sourcetools’, ‘later’, ‘promises’, ‘shiny’, ‘downlit’, ‘htmlwidgets’, ‘miniUI’, ‘pkgdown’, ‘profvis’, ‘urlchecker’\n",
            "\n",
            "\n",
            "Downloading GitHub repo gearslaboratory/gdalUtils@HEAD\n",
            "\n"
          ]
        },
        {
          "output_type": "stream",
          "name": "stdout",
          "text": [
            "R.methodsS3 (NA -> 1.8.2 ) [CRAN]\n",
            "R.oo        (NA -> 1.26.0) [CRAN]\n",
            "iterators   (NA -> 1.0.14) [CRAN]\n",
            "R.utils     (NA -> 2.12.3) [CRAN]\n",
            "foreach     (NA -> 1.5.2 ) [CRAN]\n"
          ]
        },
        {
          "output_type": "stream",
          "name": "stderr",
          "text": [
            "Skipping 1 packages not available: rgdal\n",
            "\n",
            "Installing 6 packages: R.methodsS3, R.oo, iterators, rgdal, R.utils, foreach\n",
            "\n",
            "Installing packages into ‘/usr/local/lib/R/site-library’\n",
            "(as ‘lib’ is unspecified)\n",
            "\n",
            "Warning message:\n",
            "“package ‘rgdal’ is not available for this version of R\n",
            "\n",
            "A version of this package for your version of R might be available elsewhere,\n",
            "see the ideas at\n",
            "https://cran.r-project.org/doc/manuals/r-patched/R-admin.html#Installing-packages”\n"
          ]
        },
        {
          "output_type": "stream",
          "name": "stdout",
          "text": [
            "\u001b[36m──\u001b[39m \u001b[36mR CMD build\u001b[39m \u001b[36m─────────────────────────────────────────────────────────────────\u001b[39m\n",
            "* checking for file ‘/tmp/Rtmp2e4b02/remotes60f6d77b276/gearslaboratory-gdalUtils-8872aaf/DESCRIPTION’ ... OK\n",
            "* preparing ‘gdalUtils’:\n",
            "* checking DESCRIPTION meta-information ... OK\n",
            "* checking for LF line-endings in source and make files and shell scripts\n",
            "* checking for empty or unneeded directories\n",
            "* building ‘gdalUtils_2.0.3.2.tar.gz’\n",
            "\n"
          ]
        },
        {
          "output_type": "stream",
          "name": "stderr",
          "text": [
            "Installing package into ‘/usr/local/lib/R/site-library’\n",
            "(as ‘lib’ is unspecified)\n",
            "\n",
            "Warning message in i.p(...):\n",
            "“installation of package ‘/tmp/Rtmp2e4b02/file60f609abbac/gdalUtils_2.0.3.2.tar.gz’ had non-zero exit status”\n"
          ]
        }
      ],
      "source": [
        "install.packages(c('raster','sf','fasterize'))\n",
        "install.packages(\"googledrive\")\n",
        "install.packages(\"dplyr\")\n",
        "install.packages(\"devtools\")\n",
        "\n",
        "devtools:::install_github(\"gearslaboratory/gdalUtils\")"
      ]
    },
    {
      "cell_type": "code",
      "source": [
        "library(raster)\n",
        "library(sf)\n",
        "library(fasterize)\n",
        "library(magrittr)\n",
        "library(googledrive)\n",
        "library(parallel)\n",
        "library(data.table)\n",
        "library(stringr)\n",
        "library(dplyr)\n",
        "# library(gdalUtils)\n",
        "\n",
        "drive_auth(use_oob = TRUE, cache = FALSE)"
      ],
      "metadata": {
        "id": "n-cYrFjlPaqU",
        "colab": {
          "base_uri": "https://localhost:8080/"
        },
        "outputId": "3567f080-ba0e-44e1-8be0-a5e84a1520aa"
      },
      "execution_count": 2,
      "outputs": [
        {
          "output_type": "stream",
          "name": "stderr",
          "text": [
            "Loading required package: sp\n",
            "\n",
            "Linking to GEOS 3.11.1, GDAL 3.6.4, PROJ 9.1.1; sf_use_s2() is TRUE\n",
            "\n",
            "\n",
            "Attaching package: ‘fasterize’\n",
            "\n",
            "\n",
            "The following object is masked from ‘package:graphics’:\n",
            "\n",
            "    plot\n",
            "\n",
            "\n",
            "The following object is masked from ‘package:base’:\n",
            "\n",
            "    plot\n",
            "\n",
            "\n",
            "\n",
            "Attaching package: ‘magrittr’\n",
            "\n",
            "\n",
            "The following object is masked from ‘package:raster’:\n",
            "\n",
            "    extract\n",
            "\n",
            "\n",
            "\n",
            "Attaching package: ‘data.table’\n",
            "\n",
            "\n",
            "The following object is masked from ‘package:raster’:\n",
            "\n",
            "    shift\n",
            "\n",
            "\n",
            "\n",
            "Attaching package: ‘dplyr’\n",
            "\n",
            "\n",
            "The following objects are masked from ‘package:data.table’:\n",
            "\n",
            "    between, first, last\n",
            "\n",
            "\n",
            "The following objects are masked from ‘package:raster’:\n",
            "\n",
            "    intersect, select, union\n",
            "\n",
            "\n",
            "The following objects are masked from ‘package:stats’:\n",
            "\n",
            "    filter, lag\n",
            "\n",
            "\n",
            "The following objects are masked from ‘package:base’:\n",
            "\n",
            "    intersect, setdiff, setequal, union\n",
            "\n",
            "\n",
            "Please point your browser to the following url: \n",
            "\n",
            "https://accounts.google.com/o/oauth2/v2/auth?client_id=603366585132-frjlouoa3s2ono25d2l9ukvhlsrlnr7k.apps.googleusercontent.com&scope=https%3A%2F%2Fwww.googleapis.com%2Fauth%2Fdrive%20https%3A%2F%2Fwww.googleapis.com%2Fauth%2Fuserinfo.email&redirect_uri=https%3A%2F%2Fwww.tidyverse.org%2Fgoogle-callback%2F&response_type=code&state=43c534e0b60dca5ee8e115d6a4622fec&access_type=offline&prompt=consent\n",
            "\n"
          ]
        },
        {
          "name": "stdout",
          "output_type": "stream",
          "text": [
            "Enter authorization code: eyJjb2RlIjoiNC8wQWVhWVNIRDN4bWwxSkZLeU9jWXg1dUNCbm9GS25JTjE2dEpQelR0dTZUMHE1Z1BDTF9tY25mcThLNHUtQ0dBWnQzX2NWZyIsInN0YXRlIjoiNDNjNTM0ZTBiNjBkY2E1ZWU4ZTExNWQ2YTQ2MjJmZWMifQ==\n"
          ]
        }
      ]
    },
    {
      "cell_type": "code",
      "source": [
        "dir.create(\"/content/workingfolder\")\n",
        "dir.create(\"/content/workingfolder/nwi_utm4\")\n",
        "dir.create(\"/content/workingfolder/nwi_utm5\")\n",
        "\n",
        "# load NUMERIC nwi data\n",
        "# https://drive.google.com/file/d/1NHOKJKTqlNeuDg4DlfYfM3evDTvp0q8S/view?usp=drive_link\n",
        "# This file is the national wetland inventory vector file (for utm 4 islands = Kauai, Oahu, Molokai, Maui) that includes a column called wetland_ty_numeric numbered 1 - 7 for the 7 differenet wetland categories.\n",
        "drive_download(file = as_id('1NHOKJKTqlNeuDg4DlfYfM3evDTvp0q8S'), path =  '/content/workingfolder/nwi_utm4/nwi_utm4.gpkg', overwrite = FALSE)\n",
        "\n",
        "# https://drive.google.com/file/d/1vjY2D7TCsFj5Mcs3Wk5Gh0OV3MIPD_M4/view?usp=drive_link\n",
        "# This file is the national wetland inventory vector file (for utm 5 island = Hawaii)that includes a column called wetland_ty_numeric numbered 1 - 7 for the 7 differenet wetland categories.\n",
        "drive_download(file = as_id('1vjY2D7TCsFj5Mcs3Wk5Gh0OV3MIPD_M4'), path =  '/content/workingfolder/nwi_utm5/nwi_utm5.gpkg', overwrite = FALSE)"
      ],
      "metadata": {
        "colab": {
          "base_uri": "https://localhost:8080/"
        },
        "id": "CjgvRdxIkCC5",
        "outputId": "baa56e99-2fa4-4dfe-cf7f-2894052d956a"
      },
      "execution_count": 3,
      "outputs": [
        {
          "output_type": "stream",
          "name": "stderr",
          "text": [
            "Auto-refreshing stale OAuth token.\n",
            "\n",
            "File downloaded:\n",
            "\n",
            "• \u001b[36mnwi_utm4_numeric.gpkg\u001b[39m \u001b[90m<id: 1NHOKJKTqlNeuDg4DlfYfM3evDTvp0q8S>\u001b[39m\n",
            "\n",
            "Saved locally as:\n",
            "\n",
            "• \u001b[34m/content/workingfolder/nwi_utm4/nwi_utm4.gpkg\u001b[39m\n",
            "\n",
            "File downloaded:\n",
            "\n",
            "• \u001b[36mnwi_utm5_numeric.gpkg\u001b[39m \u001b[90m<id: 1vjY2D7TCsFj5Mcs3Wk5Gh0OV3MIPD_M4>\u001b[39m\n",
            "\n",
            "Saved locally as:\n",
            "\n",
            "• \u001b[34m/content/workingfolder/nwi_utm5/nwi_utm5.gpkg\u001b[39m\n",
            "\n"
          ]
        }
      ]
    },
    {
      "cell_type": "code",
      "source": [
        "dir.create(\"/content/workingfolder/aoi\")\n",
        "dir.create(\"/content/workingfolder/aoi/utm4\")\n",
        "dir.create(\"/content/workingfolder/aoi/utm5\")\n",
        "\n",
        "# https://drive.google.com/file/d/1AsyHxmJ7MUJHwEqXUG61OXQ6bz9mgvDH/view?usp=drive_link\n",
        "# This file is the area of interest vector file (for utm 4 islands = Kauai, Oahu, Molokai, Maui) that outlines which areas of interest to clip data to.\n",
        "drive_download(file = as_id(\"1AsyHxmJ7MUJHwEqXUG61OXQ6bz9mgvDH\"),\n",
        "path = \"/content/workingfolder/aoi/utm4/aoi_utm4.gpkg\", overwrite = FALSE)\n",
        "\n",
        "# https://drive.google.com/file/d/1klsckpbR73H4-2lj4Pi_4cyvQlU6dFbc/view?usp=drive_link\n",
        "# This file is the area of interest vector file (for utm 5 island = Hawaii) that outlines which areas of interest to clip data to.\n",
        "drive_download(file = as_id(\"1klsckpbR73H4-2lj4Pi_4cyvQlU6dFbc\"),\n",
        "path = \"/content/workingfolder/aoi/utm5/aoi_utm5.gpkg\", overwrite = FALSE)"
      ],
      "metadata": {
        "colab": {
          "base_uri": "https://localhost:8080/"
        },
        "id": "fnAGqZuNpbQO",
        "outputId": "cf64e5b3-853f-4c2f-f3b4-a11d3de55aee"
      },
      "execution_count": 4,
      "outputs": [
        {
          "output_type": "stream",
          "name": "stderr",
          "text": [
            "File downloaded:\n",
            "\n",
            "• \u001b[36maoi_wetland_4.gpkg\u001b[39m \u001b[90m<id: 1AsyHxmJ7MUJHwEqXUG61OXQ6bz9mgvDH>\u001b[39m\n",
            "\n",
            "Saved locally as:\n",
            "\n",
            "• \u001b[34m/content/workingfolder/aoi/utm4/aoi_utm4.gpkg\u001b[39m\n",
            "\n",
            "File downloaded:\n",
            "\n",
            "• \u001b[36maoi_wetland_hawaii.gpkg\u001b[39m \u001b[90m<id: 1klsckpbR73H4-2lj4Pi_4cyvQlU6dFbc>\u001b[39m\n",
            "\n",
            "Saved locally as:\n",
            "\n",
            "• \u001b[34m/content/workingfolder/aoi/utm5/aoi_utm5.gpkg\u001b[39m\n",
            "\n"
          ]
        }
      ]
    },
    {
      "cell_type": "code",
      "source": [
        "dir.create(\"/content/workingfolder/dem\")\n",
        "dir.create(\"/content/workingfolder/dem/utm4\")\n",
        "dir.create(\"/content/workingfolder/dem/utm5\")\n",
        "\n",
        "\n",
        "# load the dem (for utm 4 islands = Kauai, Oahu, Molokai, Maui) it also will load the Hawaii dem\n",
        "# https://drive.google.com/drive/folders/1URF4YPEnWirmyWjmueyIgiYchcORWe6q?usp=drive_link\n",
        "jp_folder = \"1URF4YPEnWirmyWjmueyIgiYchcORWe6q\"\n",
        "folder_id = drive_get(as_id(jp_folder)) # get folder ID\n",
        "print(folder_id) #print folder ID\n",
        "\n",
        "# Find files in the folder\n",
        "files = drive_ls(folder_id)\n",
        "\n",
        "# Loop through directories and download files inside them\n",
        "for (i in seq_along(files$name)) {\n",
        "  i_dir <- files[i, ] # Select directory\n",
        "    try({\n",
        "\n",
        "      # Download files from the directory to the specified path\n",
        "      drive_download(\n",
        "        as_id(i_dir$id[1]),\n",
        "        path = paste0('/content/workingfolder/dem/utm4/', i_dir$name[1])\n",
        "      )\n",
        "    })\n",
        "  }"
      ],
      "metadata": {
        "colab": {
          "base_uri": "https://localhost:8080/"
        },
        "id": "8X_MeKosqZhv",
        "outputId": "dfe3af7f-d2c7-4654-e473-fad792f7209c"
      },
      "execution_count": 5,
      "outputs": [
        {
          "output_type": "stream",
          "name": "stdout",
          "text": [
            "\u001b[90m# A dribble: 1 × 3\u001b[39m\n",
            "  name       id                                drive_resource   \n",
            "  \u001b[3m\u001b[90m<chr>\u001b[39m\u001b[23m      \u001b[3m\u001b[90m<drv_id>\u001b[39m\u001b[23m                          \u001b[3m\u001b[90m<list>\u001b[39m\u001b[23m           \n",
            "\u001b[90m1\u001b[39m dem_wgs_84 1URF4YPEnWirmyWjmueyIgiYchcORWe6q \u001b[90m<named list [34]>\u001b[39m\n"
          ]
        },
        {
          "output_type": "stream",
          "name": "stderr",
          "text": [
            "File downloaded:\n",
            "\n",
            "• \u001b[36mwgs84_hawaii_dem.tif\u001b[39m \u001b[90m<id: 1GgimNhsSiLUY-6ttztqOmdcUn7nH6ryF>\u001b[39m\n",
            "\n",
            "Saved locally as:\n",
            "\n",
            "• \u001b[34m/content/workingfolder/dem/utm4/wgs84_hawaii_dem.tif\u001b[39m\n",
            "\n",
            "File downloaded:\n",
            "\n",
            "• \u001b[36mwgs84_maui_dem.tif\u001b[39m \u001b[90m<id: 17NL9FjRrW8Osurqj6VFbnj7KQjJ1gg0L>\u001b[39m\n",
            "\n",
            "Saved locally as:\n",
            "\n",
            "• \u001b[34m/content/workingfolder/dem/utm4/wgs84_maui_dem.tif\u001b[39m\n",
            "\n",
            "File downloaded:\n",
            "\n",
            "• \u001b[36mwgs84_molokai_dem.tif\u001b[39m \u001b[90m<id: 1A7N8UpmUn8Tq95ePGXQYdjLF5_TpcTwC>\u001b[39m\n",
            "\n",
            "Saved locally as:\n",
            "\n",
            "• \u001b[34m/content/workingfolder/dem/utm4/wgs84_molokai_dem.tif\u001b[39m\n",
            "\n",
            "File downloaded:\n",
            "\n",
            "• \u001b[36mwgs84_oahu_dem.tif\u001b[39m \u001b[90m<id: 1AmtIltpD8KGRH53RzSIawJpVqvOP9OLz>\u001b[39m\n",
            "\n",
            "Saved locally as:\n",
            "\n",
            "• \u001b[34m/content/workingfolder/dem/utm4/wgs84_oahu_dem.tif\u001b[39m\n",
            "\n",
            "File downloaded:\n",
            "\n",
            "• \u001b[36mwgs84_kauai_10m.tif\u001b[39m \u001b[90m<id: 1eu_7lpCjyl5WpgGq_HizUz8n4d1u35tC>\u001b[39m\n",
            "\n",
            "Saved locally as:\n",
            "\n",
            "• \u001b[34m/content/workingfolder/dem/utm4/wgs84_kauai_10m.tif\u001b[39m\n",
            "\n"
          ]
        }
      ]
    },
    {
      "cell_type": "code",
      "source": [
        "dir.create(\"/content/workingfolder/dem/utm5\")\n",
        "# move hawaii to utm5"
      ],
      "metadata": {
        "id": "H1HlFOEktJf6"
      },
      "execution_count": 6,
      "outputs": []
    },
    {
      "cell_type": "code",
      "source": [
        "dir.create(\"/content/workingfolder/ccap\")\n",
        "dir.create(\"/content/workingfolder/ccap/utm4\")\n",
        "dir.create(\"/content/workingfolder/ccap/utm5\")\n",
        "\n",
        "# load the ccap (for utm 4 islands = Kauai, Oahu, Molokai, Maui)\n",
        "# https://drive.google.com/drive/folders/14fLGpMg2n9o6c8YmH4NSHc_ZQOC5MAuv?usp=drive_link\n",
        "jp_folder = \"14fLGpMg2n9o6c8YmH4NSHc_ZQOC5MAuv\"\n",
        "folder_id = drive_get(as_id(jp_folder)) # get folder ID\n",
        "print(folder_id) #print folder ID\n",
        "\n",
        "# Find files in the folder\n",
        "files = drive_ls(folder_id)\n",
        "\n",
        "# Loop through directories and download files inside them\n",
        "for (i in seq_along(files$name)) {\n",
        "  i_dir <- files[i, ] # Select directory\n",
        "    try({\n",
        "\n",
        "      # Download files from the directory to the specified path\n",
        "      drive_download(\n",
        "        as_id(i_dir$id[1]),\n",
        "        path = paste0('/content/workingfolder/ccap/utm4/', i_dir$name[1])\n",
        "      )\n",
        "    })\n",
        "  }\n",
        "\n",
        "# load the ccap (for utm 5 island = Hawaii) DONT use/need ccap_hawaii_03_nad83\n",
        "# https://drive.google.com/drive/folders/1CdwnqAx3xxZ-y1ppEktXHh78MdXN8TYW?usp=drive_link\n",
        "jp_folder = \"1CdwnqAx3xxZ-y1ppEktXHh78MdXN8TYW\"\n",
        "folder_id = drive_get(as_id(jp_folder)) # get folder ID\n",
        "print(folder_id) #print folder ID\n",
        "\n",
        "# Find files in the folder\n",
        "files = drive_ls(folder_id)\n",
        "\n",
        "# Loop through directories and download files inside them\n",
        "for (i in seq_along(files$name)) {\n",
        "  i_dir <- files[i, ] # Select directory\n",
        "    try({\n",
        "\n",
        "      # Download files from the directory to the specified path\n",
        "      drive_download(\n",
        "        as_id(i_dir$id[1]),\n",
        "        path = paste0('/content/workingfolder/ccap/utm5/', i_dir$name[1])\n",
        "      )\n",
        "    })\n",
        "  }"
      ],
      "metadata": {
        "colab": {
          "base_uri": "https://localhost:8080/"
        },
        "id": "RPrqBwUyq4Fy",
        "outputId": "2ba8db07-5e58-48fb-902d-50df0004889c"
      },
      "execution_count": 9,
      "outputs": [
        {
          "output_type": "stream",
          "name": "stderr",
          "text": [
            "Warning message in dir.create(\"/content/workingfolder/ccap\"):\n",
            "“'/content/workingfolder/ccap' already exists”\n",
            "Warning message in dir.create(\"/content/workingfolder/ccap/utm4\"):\n",
            "“'/content/workingfolder/ccap/utm4' already exists”\n",
            "Warning message in dir.create(\"/content/workingfolder/ccap/utm5\"):\n",
            "“'/content/workingfolder/ccap/utm5' already exists”\n"
          ]
        },
        {
          "output_type": "stream",
          "name": "stdout",
          "text": [
            "\u001b[90m# A dribble: 1 × 3\u001b[39m\n",
            "  name  id                                drive_resource   \n",
            "  \u001b[3m\u001b[90m<chr>\u001b[39m\u001b[23m \u001b[3m\u001b[90m<drv_id>\u001b[39m\u001b[23m                          \u001b[3m\u001b[90m<list>\u001b[39m\u001b[23m           \n",
            "\u001b[90m1\u001b[39m ccap  14fLGpMg2n9o6c8YmH4NSHc_ZQOC5MAuv \u001b[90m<named list [34]>\u001b[39m\n",
            "Error in get_export_mime_type(mime_type) : \n",
            "  \u001b[1m\u001b[22mNot a recognized Google MIME type:\n",
            "\u001b[31m✖\u001b[39m \u001b[32mapplication/vnd.google-apps.folder\u001b[39m\n"
          ]
        },
        {
          "output_type": "stream",
          "name": "stderr",
          "text": [
            "File downloaded:\n",
            "\n",
            "• \u001b[36mkauai_ccap_2010.tif\u001b[39m \u001b[90m<id: 1-9SuvnH-Ck4CMaAXqDQTbbLGKtfMUnxn>\u001b[39m\n",
            "\n",
            "Saved locally as:\n",
            "\n",
            "• \u001b[34m/content/workingfolder/ccap/utm4/kauai_ccap_2010.tif\u001b[39m\n",
            "\n",
            "File downloaded:\n",
            "\n",
            "• \u001b[36moahu_ccap_2010.tif\u001b[39m \u001b[90m<id: 1-5Q_qbss1zUnW1wcQlomRHehPemzy7HG>\u001b[39m\n",
            "\n",
            "Saved locally as:\n",
            "\n",
            "• \u001b[34m/content/workingfolder/ccap/utm4/oahu_ccap_2010.tif\u001b[39m\n",
            "\n",
            "File downloaded:\n",
            "\n",
            "• \u001b[36mmolokai_ccap_2010.tif\u001b[39m \u001b[90m<id: 1-2M0JNgYiVMINDoW2mAiWLX3H9kYz_Z->\u001b[39m\n",
            "\n",
            "Saved locally as:\n",
            "\n",
            "• \u001b[34m/content/workingfolder/ccap/utm4/molokai_ccap_2010.tif\u001b[39m\n",
            "\n",
            "File downloaded:\n",
            "\n",
            "• \u001b[36mmaui_ccap_2010.tif\u001b[39m \u001b[90m<id: 1--1nN7Gj_qx6iwPG8Jq5gZcGRA0uaOay>\u001b[39m\n",
            "\n",
            "Saved locally as:\n",
            "\n",
            "• \u001b[34m/content/workingfolder/ccap/utm4/maui_ccap_2010.tif\u001b[39m\n",
            "\n"
          ]
        },
        {
          "output_type": "stream",
          "name": "stdout",
          "text": [
            "\u001b[90m# A dribble: 1 × 3\u001b[39m\n",
            "  name        id                                drive_resource   \n",
            "  \u001b[3m\u001b[90m<chr>\u001b[39m\u001b[23m       \u001b[3m\u001b[90m<drv_id>\u001b[39m\u001b[23m                          \u001b[3m\u001b[90m<list>\u001b[39m\u001b[23m           \n",
            "\u001b[90m1\u001b[39m ccap_hawaii 1CdwnqAx3xxZ-y1ppEktXHh78MdXN8TYW \u001b[90m<named list [34]>\u001b[39m\n",
            "Error in get_export_mime_type(mime_type) : \n",
            "  \u001b[1m\u001b[22mNot a recognized Google MIME type:\n",
            "\u001b[31m✖\u001b[39m \u001b[32mapplication/vnd.google-apps.folder\u001b[39m\n"
          ]
        },
        {
          "output_type": "stream",
          "name": "stderr",
          "text": [
            "File downloaded:\n",
            "\n",
            "• \u001b[36mccap_hawaii_03_nad83.tif\u001b[39m \u001b[90m<id: 1kzbf77OuzMinC90SpJVqMJ6fJpqWcJKf>\u001b[39m\n",
            "\n",
            "Saved locally as:\n",
            "\n",
            "• \u001b[34m/content/workingfolder/ccap/utm5/ccap_hawaii_03_nad83.tif\u001b[39m\n",
            "\n",
            "File downloaded:\n",
            "\n",
            "• \u001b[36mhawaii_ccap_2010_01.tif\u001b[39m \u001b[90m<id: 1WI2adKHfm5J-bfBnRN0N2n-bI45foz60>\u001b[39m\n",
            "\n",
            "Saved locally as:\n",
            "\n",
            "• \u001b[34m/content/workingfolder/ccap/utm5/hawaii_ccap_2010_01.tif\u001b[39m\n",
            "\n",
            "File downloaded:\n",
            "\n",
            "• \u001b[36mhawaii_ccap_2010_03.tif\u001b[39m \u001b[90m<id: 1-KHspFGnfIwHcWFsNvwshfy3H-_Y5gVB>\u001b[39m\n",
            "\n",
            "Saved locally as:\n",
            "\n",
            "• \u001b[34m/content/workingfolder/ccap/utm5/hawaii_ccap_2010_03.tif\u001b[39m\n",
            "\n",
            "File downloaded:\n",
            "\n",
            "• \u001b[36mhawaii_ccap_2010_02.tif\u001b[39m \u001b[90m<id: 10BnucV2NpjYekC-Lr-PddVYJ2XFXmNwo>\u001b[39m\n",
            "\n",
            "Saved locally as:\n",
            "\n",
            "• \u001b[34m/content/workingfolder/ccap/utm5/hawaii_ccap_2010_02.tif\u001b[39m\n",
            "\n"
          ]
        }
      ]
    },
    {
      "cell_type": "code",
      "source": [
        "dir.create(\"/content/workingfolder/nlcd\")\n",
        "dir.create(\"/content/workingfolder/nlcd/utm4\")\n",
        "dir.create(\"/content/workingfolder/nlcd/utm5\")\n",
        "\n",
        "# load the nlcd, utm 4 (for utm 4 islands = Kauai, Oahu, Molokai, Maui)\n",
        "# https://drive.google.com/file/d/17tWhnoFP-VTrobjaMuTLwdLU15v7C0NC/view?usp=drive_link\n",
        "drive_download(file = as_id('17tWhnoFP-VTrobjaMuTLwdLU15v7C0NC'), path =  '/content/workingfolder/nlcd/utm4/nlcd_utm4.tif', overwrite = FALSE)\n",
        "\n",
        "# load the nlcd, utm 5 (for utm 5 island = Hawaii)\n",
        "# https://drive.google.com/file/d/1mn_Q1q7HRA3Yh7oBS1KmBriUEtLVWovr/view?usp=drive_link\n",
        "drive_download(file = as_id('1mn_Q1q7HRA3Yh7oBS1KmBriUEtLVWovr'), path =  '/content/workingfolder/nlcd/utm5/nlcd_utm5.tif', overwrite = FALSE)"
      ],
      "metadata": {
        "id": "ylb0f4CsPmWU",
        "colab": {
          "base_uri": "https://localhost:8080/"
        },
        "outputId": "5386a968-2b87-4a65-f5b0-1da0dfa3000f"
      },
      "execution_count": 10,
      "outputs": [
        {
          "output_type": "stream",
          "name": "stderr",
          "text": [
            "Warning message in dir.create(\"/content/workingfolder/nlcd\"):\n",
            "“'/content/workingfolder/nlcd' already exists”\n",
            "Warning message in dir.create(\"/content/workingfolder/nlcd/utm4\"):\n",
            "“'/content/workingfolder/nlcd/utm4' already exists”\n",
            "Warning message in dir.create(\"/content/workingfolder/nlcd/utm5\"):\n",
            "“'/content/workingfolder/nlcd/utm5' already exists”\n",
            "File downloaded:\n",
            "\n",
            "• \u001b[36mnad83_nlcd_hi_2001_split_4.tif\u001b[39m \u001b[90m<id: 17tWhnoFP-VTrobjaMuTLwdLU15v7C0NC>\u001b[39m\n",
            "\n",
            "Saved locally as:\n",
            "\n",
            "• \u001b[34m/content/workingfolder/nlcd/utm4/nlcd_utm4.tif\u001b[39m\n",
            "\n",
            "File downloaded:\n",
            "\n",
            "• \u001b[36mnad83_nlcd_hi_2001_split_hawaii.tif\u001b[39m \u001b[90m<id: 1mn_Q1q7HRA3Yh7oBS1KmBriUEtLVWovr>\u001b[39m\n",
            "\n",
            "Saved locally as:\n",
            "\n",
            "• \u001b[34m/content/workingfolder/nlcd/utm5/nlcd_utm5.tif\u001b[39m\n",
            "\n"
          ]
        }
      ]
    },
    {
      "cell_type": "code",
      "source": [
        "dir.create(\"/content/imagery\")\n",
        "dir.create(\"/content/imagery/planet\")\n",
        "dir.create(\"/content/imagery/planet/2018\")\n",
        "# dir.create(\"/content/imagery/planet/2019\")\n",
        "# dir.create(\"/content/imagery/planet/2020\")\n",
        "\n",
        "dir.create(\"/content/imagery/planet/2018/utm4\")\n",
        "# dir.create(\"/content/imagery/planet/2018/utm5\")\n",
        "# dir.create(\"/content/imagery/planet/2019/utm4\")\n",
        "# dir.create(\"/content/imagery/planet/2019/utm5\")\n",
        "# dir.create(\"/content/imagery/planet/2020/utm4\")\n",
        "# dir.create(\"/content/imagery/planet/2020/utm5\")"
      ],
      "metadata": {
        "id": "7GkipHTJPiUC"
      },
      "execution_count": 11,
      "outputs": []
    },
    {
      "cell_type": "code",
      "source": [
        "dir.create(\"/content/exports\")\n",
        "dir.create(\"/content/exports/planet_data\")\n",
        "dir.create(\"/content/exports/nwi\")\n",
        "dir.create(\"/content/exports/dem\")\n",
        "dir.create(\"/content/exports/ccap\")"
      ],
      "metadata": {
        "id": "hV8qLrsyP0er"
      },
      "execution_count": 12,
      "outputs": []
    },
    {
      "cell_type": "code",
      "source": [
        "cl <- makeCluster(8)\n",
        "\n",
        "# Load Planet 2018 utm4 image stacks\n",
        "# https://drive.google.com/drive/folders/1qKNxqjL8K71CO-KcmQGfbtPehlAjoD05?usp=drive_link\n",
        "# https://drive.google.com/drive/folders/1qKNxqjL8K71CO-KcmQGfbtPehlAjoD05?usp=drive_link\n",
        "jp_folder = \"1qKNxqjL8K71CO-KcmQGfbtPehlAjoD05\"\n",
        "folder_id = drive_get(as_id(jp_folder)) # get folder ID\n",
        "print(folder_id) #print folder ID\n",
        "\n",
        "# Find files in the folder\n",
        "files = drive_ls(folder_id)\n",
        "\n",
        "# Loop through directories and download files inside them\n",
        "for (i in seq_along(files$name)) {\n",
        "  i_dir <- files[i, ] # Select directory\n",
        "    try({\n",
        "\n",
        "      # Download files from the directory to the specified path\n",
        "      drive_download(\n",
        "        as_id(i_dir$id[1]),\n",
        "        path = paste0('/content/imagery/planet/2018/utm4/', i_dir$name[1])\n",
        "      )\n",
        "    })\n",
        "  }\n",
        "\n",
        "# # Load Planet 2019 utm4 image stacks\n",
        "# # https://drive.google.com/drive/folders/1Oz9FMjFR0QKSJiJNg41-4vVNKxqm5Ewu?usp=drive_link\n",
        "# jp_folder = \"1Oz9FMjFR0QKSJiJNg41-4vVNKxqm5Ewu\"\n",
        "# folder_id = drive_get(as_id(jp_folder)) # get folder ID\n",
        "# print(folder_id) #print folder ID\n",
        "\n",
        "# # Find files in the folder\n",
        "# files = drive_ls(folder_id)\n",
        "\n",
        "# # Loop through directories and download files inside them\n",
        "# for (i in seq_along(files$name)) {\n",
        "#   i_dir <- files[i, ] # Select directory\n",
        "#     try({\n",
        "\n",
        "#       # Download files from the directory to the specified path\n",
        "#       drive_download(\n",
        "#         as_id(i_dir$id[1]),\n",
        "#         path = paste0('/content/imagery/planet/2019/utm4/', i_dir$name[1])\n",
        "#       )\n",
        "#     })\n",
        "#   }\n",
        "\n",
        "# # Load Planet 2020 utm4 utm4 image stacks\n",
        "# # https://drive.google.com/drive/folders/18-AaCnLW5JnZ6owOf7uqCU06M0XhwMBL?usp=drive_link\n",
        "# jp_folder = \"18-AaCnLW5JnZ6owOf7uqCU06M0XhwMBL\"\n",
        "# folder_id = drive_get(as_id(jp_folder)) # get folder ID\n",
        "# print(folder_id) #print folder ID\n",
        "\n",
        "# # Find files in the folder\n",
        "# files = drive_ls(folder_id)\n",
        "\n",
        "# # Loop through directories and download files inside them\n",
        "# for (i in seq_along(files$name)) {\n",
        "#   i_dir <- files[i, ] # Select directory\n",
        "#     try({\n",
        "\n",
        "#       # Download files from the directory to the specified path\n",
        "#       drive_download(\n",
        "#         as_id(i_dir$id[1]),\n",
        "#         path = paste0('/content/imagery/planet/2020/utm4/', i_dir$name[1])\n",
        "#       )\n",
        "#     })\n",
        "#   }\n",
        "\n",
        "# # Load Planet 2018 utm5 image stacks\n",
        "# # https://drive.google.com/drive/folders/1h0rEeSo2ki_eir55V7gvl0i5fKz_vAPu?usp=drive_link\n",
        "# jp_folder = \"1h0rEeSo2ki_eir55V7gvl0i5fKz_vAPu\"\n",
        "# folder_id = drive_get(as_id(jp_folder)) # get folder ID\n",
        "# print(folder_id) #print folder ID\n",
        "\n",
        "# # Find files in the folder\n",
        "# files = drive_ls(folder_id)\n",
        "\n",
        "# # Loop through directories and download files inside them\n",
        "# for (i in seq_along(files$name)) {\n",
        "#   i_dir <- files[i, ] # Select directory\n",
        "#     try({\n",
        "\n",
        "#       # Download files from the directory to the specified path\n",
        "#       drive_download(\n",
        "#         as_id(i_dir$id[1]),\n",
        "#         path = paste0('/content/imagery/planet/2018/utm5/', i_dir$name[1])\n",
        "#       )\n",
        "#     })\n",
        "#   }\n",
        "\n",
        "# # Load Planet 2019 utm5 image stacks\n",
        "# # https://drive.google.com/drive/folders/1v2FNvU1rcgwvem6YU64rWeE9man76lPb?usp=drive_link\n",
        "# jp_folder = \"1v2FNvU1rcgwvem6YU64rWeE9man76lPb\"\n",
        "# folder_id = drive_get(as_id(jp_folder)) # get folder ID\n",
        "# print(folder_id) #print folder ID\n",
        "\n",
        "# # Find files in the folder\n",
        "# files = drive_ls(folder_id)\n",
        "\n",
        "# # Loop through directories and download files inside them\n",
        "# for (i in seq_along(files$name)) {\n",
        "#   i_dir <- files[i, ] # Select directory\n",
        "#     try({\n",
        "\n",
        "#       # Download files from the directory to the specified path\n",
        "#       drive_download(\n",
        "#         as_id(i_dir$id[1]),\n",
        "#         path = paste0('/content/imagery/planet/2019/utm5/', i_dir$name[1])\n",
        "#       )\n",
        "#     })\n",
        "#   }\n",
        "\n",
        "# # Load Planet 2020 utm5 image stacks\n",
        "# # https://drive.google.com/drive/folders/1-aSDCj6ZCYapfMr1uaaq9xreoP4HXBW2?usp=drive_link\n",
        "# jp_folder = \"1-aSDCj6ZCYapfMr1uaaq9xreoP4HXBW2\"\n",
        "# folder_id = drive_get(as_id(jp_folder)) # get folder ID\n",
        "# print(folder_id) #print folder ID\n",
        "\n",
        "# # Find files in the folder\n",
        "# files = drive_ls(folder_id)\n",
        "\n",
        "# # Loop through directories and download files inside them\n",
        "# for (i in seq_along(files$name)) {\n",
        "#   i_dir <- files[i, ] # Select directory\n",
        "#     try({\n",
        "\n",
        "#       # Download files from the directory to the specified path\n",
        "#       drive_download(\n",
        "#         as_id(i_dir$id[1]),\n",
        "#         path = paste0('/content/imagery/planet/2020/utm5/', i_dir$name[1])\n",
        "#       )\n",
        "#     })\n",
        "#   }\n",
        "\n",
        "\n",
        "stopCluster(cl)\n",
        "\n",
        "\n",
        "# Delete the 3 vrt files in the folder. maybe theyre causing issues?"
      ],
      "metadata": {
        "id": "RtNO2lHGPqT0",
        "colab": {
          "base_uri": "https://localhost:8080/"
        },
        "outputId": "70ba8dd2-fb9c-46db-fe5e-33718addd63c"
      },
      "execution_count": 13,
      "outputs": [
        {
          "output_type": "stream",
          "name": "stdout",
          "text": [
            "\u001b[90m# A dribble: 1 × 3\u001b[39m\n",
            "  name              id                                drive_resource   \n",
            "  \u001b[3m\u001b[90m<chr>\u001b[39m\u001b[23m             \u001b[3m\u001b[90m<drv_id>\u001b[39m\u001b[23m                          \u001b[3m\u001b[90m<list>\u001b[39m\u001b[23m           \n",
            "\u001b[90m1\u001b[39m planet_2018_stack 1qKNxqjL8K71CO-KcmQGfbtPehlAjoD05 \u001b[90m<named list [34]>\u001b[39m\n"
          ]
        },
        {
          "output_type": "stream",
          "name": "stderr",
          "text": [
            "File downloaded:\n",
            "\n",
            "• \u001b[36mplanet_2018_stack_index.vrt\u001b[39m \u001b[90m<id: 1rQuRP1pdFsus6yQYVuQBLxDXfrn_b0OZ>\u001b[39m\n",
            "\n",
            "Saved locally as:\n",
            "\n",
            "• \u001b[34m/content/imagery/planet/2018/utm4/planet_2018_stack_index.vrt\u001b[39m\n",
            "\n",
            "File downloaded:\n",
            "\n",
            "• \u001b[36mindex_2018_planet.vrt\u001b[39m \u001b[90m<id: 1-6m1m9EBrJe7Z8zghvMy59lAY-KOxq-p>\u001b[39m\n",
            "\n",
            "Saved locally as:\n",
            "\n",
            "• \u001b[34m/content/imagery/planet/2018/utm4/index_2018_planet.vrt\u001b[39m\n",
            "\n",
            "File downloaded:\n",
            "\n",
            "• \u001b[36mindex_planet_2018.vrt\u001b[39m \u001b[90m<id: 1--S7Pkmpta4s0tS8kAa7U5Ok8u8JG1ma>\u001b[39m\n",
            "\n",
            "Saved locally as:\n",
            "\n",
            "• \u001b[34m/content/imagery/planet/2018/utm4/index_planet_2018.vrt\u001b[39m\n",
            "\n",
            "File downloaded:\n",
            "\n",
            "• \u001b[36m2018_wailua_opaekaa_stack.tif\u001b[39m \u001b[90m<id: 1PdzUjoLVeg3TAuqwduv5wgPzgmiDCuuT>\u001b[39m\n",
            "\n",
            "Saved locally as:\n",
            "\n",
            "• \u001b[34m/content/imagery/planet/2018/utm4/2018_wailua_opaekaa_stack.tif\u001b[39m\n",
            "\n",
            "File downloaded:\n",
            "\n",
            "• \u001b[36m2018_waihee_stack.tif\u001b[39m \u001b[90m<id: 1hI4DdmqsnRbqfZe3YEhFFX-2-4cCaQw3>\u001b[39m\n",
            "\n",
            "Saved locally as:\n",
            "\n",
            "• \u001b[34m/content/imagery/planet/2018/utm4/2018_waihee_stack.tif\u001b[39m\n",
            "\n",
            "File downloaded:\n",
            "\n",
            "• \u001b[36m2018_pearl_harbor_stack.tif\u001b[39m \u001b[90m<id: 1MD7x2rD5hXZUndOgAsV_c1SCitLX65bt>\u001b[39m\n",
            "\n",
            "Saved locally as:\n",
            "\n",
            "• \u001b[34m/content/imagery/planet/2018/utm4/2018_pearl_harbor_stack.tif\u001b[39m\n",
            "\n",
            "File downloaded:\n",
            "\n",
            "• \u001b[36m2018_paukukalo_stack.tif\u001b[39m \u001b[90m<id: 1051c89FwvU6VcwSxIraQRqbpn-ngQb3a>\u001b[39m\n",
            "\n",
            "Saved locally as:\n",
            "\n",
            "• \u001b[34m/content/imagery/planet/2018/utm4/2018_paukukalo_stack.tif\u001b[39m\n",
            "\n",
            "File downloaded:\n",
            "\n",
            "• \u001b[36m2018_lumahai_stack.tif\u001b[39m \u001b[90m<id: 150UVCXYoVonMrjsWY4fb2tH5dqdXo6EB>\u001b[39m\n",
            "\n",
            "Saved locally as:\n",
            "\n",
            "• \u001b[34m/content/imagery/planet/2018/utm4/2018_lumahai_stack.tif\u001b[39m\n",
            "\n",
            "File downloaded:\n",
            "\n",
            "• \u001b[36m2018_kealia_stack.tif\u001b[39m \u001b[90m<id: 1JuEJE4og7idgaDVHzoSXjiXuqJgaGj37>\u001b[39m\n",
            "\n",
            "Saved locally as:\n",
            "\n",
            "• \u001b[34m/content/imagery/planet/2018/utm4/2018_kealia_stack.tif\u001b[39m\n",
            "\n",
            "File downloaded:\n",
            "\n",
            "• \u001b[36m2018_kawainui_stack.tif\u001b[39m \u001b[90m<id: 1rblLD5slDJcr5XHcv9s-VsGp6uziClPu>\u001b[39m\n",
            "\n",
            "Saved locally as:\n",
            "\n",
            "• \u001b[34m/content/imagery/planet/2018/utm4/2018_kawainui_stack.tif\u001b[39m\n",
            "\n",
            "File downloaded:\n",
            "\n",
            "• \u001b[36m2018_kanaha_stack.tif\u001b[39m \u001b[90m<id: 1n9HgjD_gbgpEPhYxTiO1Bpnpvk0Rck0Q>\u001b[39m\n",
            "\n",
            "Saved locally as:\n",
            "\n",
            "• \u001b[34m/content/imagery/planet/2018/utm4/2018_kanaha_stack.tif\u001b[39m\n",
            "\n",
            "File downloaded:\n",
            "\n",
            "• \u001b[36m2018_kamalo_stack.tif\u001b[39m \u001b[90m<id: 18fFia7qa-3mUKRcOZnHVPBXFWJAO-SHb>\u001b[39m\n",
            "\n",
            "Saved locally as:\n",
            "\n",
            "• \u001b[34m/content/imagery/planet/2018/utm4/2018_kamalo_stack.tif\u001b[39m\n",
            "\n",
            "File downloaded:\n",
            "\n",
            "• \u001b[36m2018_kaluaapuhi_stack.tif\u001b[39m \u001b[90m<id: 1CirZDpXEfkWRCP-S50vIjMwqH2LjD09j>\u001b[39m\n",
            "\n",
            "Saved locally as:\n",
            "\n",
            "• \u001b[34m/content/imagery/planet/2018/utm4/2018_kaluaapuhi_stack.tif\u001b[39m\n",
            "\n",
            "File downloaded:\n",
            "\n",
            "• \u001b[36m2018_kakahaia_stack.tif\u001b[39m \u001b[90m<id: 1hvEpVBENgDV07DzoPe0KJ4zO8oB_1jBL>\u001b[39m\n",
            "\n",
            "Saved locally as:\n",
            "\n",
            "• \u001b[34m/content/imagery/planet/2018/utm4/2018_kakahaia_stack.tif\u001b[39m\n",
            "\n",
            "File downloaded:\n",
            "\n",
            "• \u001b[36m2018_kahuku_stack.tif\u001b[39m \u001b[90m<id: 1jQqCbJLp34ATjX4J2EPYhJluYiMpFR5x>\u001b[39m\n",
            "\n",
            "Saved locally as:\n",
            "\n",
            "• \u001b[34m/content/imagery/planet/2018/utm4/2018_kahuku_stack.tif\u001b[39m\n",
            "\n",
            "File downloaded:\n",
            "\n",
            "• \u001b[36m2018_huleia_stack.tif\u001b[39m \u001b[90m<id: 1XDHdq__tlpa1KSBD4MYsIl64yKBGG6WG>\u001b[39m\n",
            "\n",
            "Saved locally as:\n",
            "\n",
            "• \u001b[34m/content/imagery/planet/2018/utm4/2018_huleia_stack.tif\u001b[39m\n",
            "\n",
            "File downloaded:\n",
            "\n",
            "• \u001b[36m2018_hanalei_stack.tif\u001b[39m \u001b[90m<id: 1h6YJDdkRp64gpA_lzebnWEp6-RFVYmsP>\u001b[39m\n",
            "\n",
            "Saved locally as:\n",
            "\n",
            "• \u001b[34m/content/imagery/planet/2018/utm4/2018_hanalei_stack.tif\u001b[39m\n",
            "\n",
            "File downloaded:\n",
            "\n",
            "• \u001b[36m2018_haleiwa_stack.tif\u001b[39m \u001b[90m<id: 1HU4-fJnWcsFoJPlAtMQvDHU4RbMaxqoI>\u001b[39m\n",
            "\n",
            "Saved locally as:\n",
            "\n",
            "• \u001b[34m/content/imagery/planet/2018/utm4/2018_haleiwa_stack.tif\u001b[39m\n",
            "\n",
            "File downloaded:\n",
            "\n",
            "• \u001b[36m2018_anahola_stack.tif\u001b[39m \u001b[90m<id: 1Ubf2qa_4jBVvaRzJnf_HC5dmCw05_aM7>\u001b[39m\n",
            "\n",
            "Saved locally as:\n",
            "\n",
            "• \u001b[34m/content/imagery/planet/2018/utm4/2018_anahola_stack.tif\u001b[39m\n",
            "\n"
          ]
        }
      ]
    },
    {
      "cell_type": "markdown",
      "source": [
        "check the unified table"
      ],
      "metadata": {
        "id": "F9YtW9B9HUK6"
      }
    },
    {
      "cell_type": "code",
      "source": [
        "haieiwastack_test <- stack(\"/content/imagery/planet/2018/utm4/2018_haleiwa_stack.tif\")"
      ],
      "metadata": {
        "id": "pqCCRtTNyJ06"
      },
      "execution_count": 269,
      "outputs": []
    },
    {
      "cell_type": "code",
      "source": [
        "haieiwastack_test"
      ],
      "metadata": {
        "id": "PNRSJBvDyR9Y",
        "outputId": "0ad42135-cf51-4ed9-8286-93df0dd675f5",
        "colab": {
          "base_uri": "https://localhost:8080/",
          "height": 225
        }
      },
      "execution_count": 270,
      "outputs": [
        {
          "output_type": "display_data",
          "data": {
            "text/plain": [
              "class      : RasterStack \n",
              "dimensions : 2454, 1884, 4623336, 16  (nrow, ncol, ncell, nlayers)\n",
              "resolution : 3, 3  (x, y)\n",
              "extent     : 590409, 596061, 2383569, 2390931  (xmin, xmax, ymin, ymax)\n",
              "crs        : +proj=utm +zone=4 +datum=WGS84 +units=m +no_defs \n",
              "names      : X2018_haleiwa_stack_1, X2018_haleiwa_stack_2, X2018_haleiwa_stack_3, X2018_haleiwa_stack_4, X2018_haleiwa_stack_5, X2018_haleiwa_stack_6, X2018_haleiwa_stack_7, X2018_haleiwa_stack_8, X2018_haleiwa_stack_9, X2018_haleiwa_stack_10, X2018_haleiwa_stack_11, X2018_haleiwa_stack_12, X2018_haleiwa_stack_13, X2018_haleiwa_stack_14, X2018_haleiwa_stack_15, ... \n",
              "min values :                    46,                    11,                     1,                     1,                   180,                     2,                    18,                    73,                   130,                      1,                      1,                      5,                    126,                      1,                      1, ... \n",
              "max values :                  5859,                  4993,                  7294,                  5970,                  5787,                  4976,                  7815,                 13306,                  5272,                   4787,                   6725,                   7085,                   4482,                   4203,                   6064, ... \n"
            ]
          },
          "metadata": {}
        }
      ]
    },
    {
      "cell_type": "code",
      "source": [
        "unified_data_table <- data.table (unified = c(0, 1, 2, 3, 4, 5, 6, 7, 8, 9, 10, 11))"
      ],
      "metadata": {
        "id": "yL28KLcQHToW"
      },
      "execution_count": 14,
      "outputs": []
    },
    {
      "cell_type": "code",
      "source": [
        "unified_data_table"
      ],
      "metadata": {
        "id": "ApDM-Jj9HcKI",
        "colab": {
          "base_uri": "https://localhost:8080/",
          "height": 509
        },
        "outputId": "e7f280a5-96b7-4745-938c-398bd09da42b"
      },
      "execution_count": 15,
      "outputs": [
        {
          "output_type": "display_data",
          "data": {
            "text/html": [
              "<table class=\"dataframe\">\n",
              "<caption>A data.table: 12 × 1</caption>\n",
              "<thead>\n",
              "\t<tr><th scope=col>unified</th></tr>\n",
              "\t<tr><th scope=col>&lt;dbl&gt;</th></tr>\n",
              "</thead>\n",
              "<tbody>\n",
              "\t<tr><td> 0</td></tr>\n",
              "\t<tr><td> 1</td></tr>\n",
              "\t<tr><td> 2</td></tr>\n",
              "\t<tr><td> 3</td></tr>\n",
              "\t<tr><td> 4</td></tr>\n",
              "\t<tr><td> 5</td></tr>\n",
              "\t<tr><td> 6</td></tr>\n",
              "\t<tr><td> 7</td></tr>\n",
              "\t<tr><td> 8</td></tr>\n",
              "\t<tr><td> 9</td></tr>\n",
              "\t<tr><td>10</td></tr>\n",
              "\t<tr><td>11</td></tr>\n",
              "</tbody>\n",
              "</table>\n"
            ],
            "text/markdown": "\nA data.table: 12 × 1\n\n| unified &lt;dbl&gt; |\n|---|\n|  0 |\n|  1 |\n|  2 |\n|  3 |\n|  4 |\n|  5 |\n|  6 |\n|  7 |\n|  8 |\n|  9 |\n| 10 |\n| 11 |\n\n",
            "text/latex": "A data.table: 12 × 1\n\\begin{tabular}{l}\n unified\\\\\n <dbl>\\\\\n\\hline\n\t  0\\\\\n\t  1\\\\\n\t  2\\\\\n\t  3\\\\\n\t  4\\\\\n\t  5\\\\\n\t  6\\\\\n\t  7\\\\\n\t  8\\\\\n\t  9\\\\\n\t 10\\\\\n\t 11\\\\\n\\end{tabular}\n",
            "text/plain": [
              "   unified\n",
              "1   0     \n",
              "2   1     \n",
              "3   2     \n",
              "4   3     \n",
              "5   4     \n",
              "6   5     \n",
              "7   6     \n",
              "8   7     \n",
              "9   8     \n",
              "10  9     \n",
              "11 10     \n",
              "12 11     "
            ]
          },
          "metadata": {}
        }
      ]
    },
    {
      "cell_type": "code",
      "source": [
        "nwi_data_table <- data.table (nwi = list(-1, c(1,2,3), 4, 5, 6, 7, -1, -1, -1, -1, -1, -1))"
      ],
      "metadata": {
        "id": "LcSPtCAaHhrV"
      },
      "execution_count": 16,
      "outputs": []
    },
    {
      "cell_type": "code",
      "source": [
        "nwi_data_table"
      ],
      "metadata": {
        "colab": {
          "base_uri": "https://localhost:8080/",
          "height": 509
        },
        "id": "BwZ8OO8UHqFd",
        "outputId": "402b2c3f-d900-4636-e36a-e67ecb89e568"
      },
      "execution_count": 17,
      "outputs": [
        {
          "output_type": "display_data",
          "data": {
            "text/html": [
              "<table class=\"dataframe\">\n",
              "<caption>A data.table: 12 × 1</caption>\n",
              "<thead>\n",
              "\t<tr><th scope=col>nwi</th></tr>\n",
              "\t<tr><th scope=col>&lt;list&gt;</th></tr>\n",
              "</thead>\n",
              "<tbody>\n",
              "\t<tr><td>-1</td></tr>\n",
              "\t<tr><td>1, 2, 3</td></tr>\n",
              "\t<tr><td>4</td></tr>\n",
              "\t<tr><td>5</td></tr>\n",
              "\t<tr><td>6</td></tr>\n",
              "\t<tr><td>7</td></tr>\n",
              "\t<tr><td>-1</td></tr>\n",
              "\t<tr><td>-1</td></tr>\n",
              "\t<tr><td>-1</td></tr>\n",
              "\t<tr><td>-1</td></tr>\n",
              "\t<tr><td>-1</td></tr>\n",
              "\t<tr><td>-1</td></tr>\n",
              "</tbody>\n",
              "</table>\n"
            ],
            "text/markdown": "\nA data.table: 12 × 1\n\n| nwi &lt;list&gt; |\n|---|\n| -1 |\n| 1, 2, 3 |\n| 4 |\n| 5 |\n| 6 |\n| 7 |\n| -1 |\n| -1 |\n| -1 |\n| -1 |\n| -1 |\n| -1 |\n\n",
            "text/latex": "A data.table: 12 × 1\n\\begin{tabular}{l}\n nwi\\\\\n <list>\\\\\n\\hline\n\t -1\\\\\n\t 1, 2, 3\\\\\n\t 4\\\\\n\t 5\\\\\n\t 6\\\\\n\t 7\\\\\n\t -1\\\\\n\t -1\\\\\n\t -1\\\\\n\t -1\\\\\n\t -1\\\\\n\t -1\\\\\n\\end{tabular}\n",
            "text/plain": [
              "   nwi    \n",
              "1  -1     \n",
              "2  1, 2, 3\n",
              "3  4      \n",
              "4  5      \n",
              "5  6      \n",
              "6  7      \n",
              "7  -1     \n",
              "8  -1     \n",
              "9  -1     \n",
              "10 -1     \n",
              "11 -1     \n",
              "12 -1     "
            ]
          },
          "metadata": {}
        }
      ]
    },
    {
      "cell_type": "code",
      "source": [
        "nlcd_data_table <- data.table(nlcd = list(-1, 11, 90, 95, -1, -1, c(21,22,23,24), c(81,82), 71, 31, c(41,42,43), 52))"
      ],
      "metadata": {
        "id": "Whf_nqg_HtpL"
      },
      "execution_count": 18,
      "outputs": []
    },
    {
      "cell_type": "code",
      "source": [
        "nlcd_data_table"
      ],
      "metadata": {
        "colab": {
          "base_uri": "https://localhost:8080/",
          "height": 492
        },
        "id": "_L_NzHWFHz43",
        "outputId": "6a54aedd-77ed-4985-bcda-f5ae5e156ad5"
      },
      "execution_count": 19,
      "outputs": [
        {
          "output_type": "display_data",
          "data": {
            "text/html": [
              "<table class=\"dataframe\">\n",
              "<caption>A data.table: 12 × 1</caption>\n",
              "<thead>\n",
              "\t<tr><th scope=col>nlcd</th></tr>\n",
              "\t<tr><th scope=col>&lt;list&gt;</th></tr>\n",
              "</thead>\n",
              "<tbody>\n",
              "\t<tr><td>-1</td></tr>\n",
              "\t<tr><td>11</td></tr>\n",
              "\t<tr><td>90</td></tr>\n",
              "\t<tr><td>95</td></tr>\n",
              "\t<tr><td>-1</td></tr>\n",
              "\t<tr><td>-1</td></tr>\n",
              "\t<tr><td>21, 22, 23, 24</td></tr>\n",
              "\t<tr><td>81, 82</td></tr>\n",
              "\t<tr><td>71</td></tr>\n",
              "\t<tr><td>31</td></tr>\n",
              "\t<tr><td>41, 42, 43</td></tr>\n",
              "\t<tr><td>52</td></tr>\n",
              "</tbody>\n",
              "</table>\n"
            ],
            "text/markdown": "\nA data.table: 12 × 1\n\n| nlcd &lt;list&gt; |\n|---|\n| -1 |\n| 11 |\n| 90 |\n| 95 |\n| -1 |\n| -1 |\n| 21, 22, 23, 24 |\n| 81, 82 |\n| 71 |\n| 31 |\n| 41, 42, 43 |\n| 52 |\n\n",
            "text/latex": "A data.table: 12 × 1\n\\begin{tabular}{l}\n nlcd\\\\\n <list>\\\\\n\\hline\n\t -1\\\\\n\t 11\\\\\n\t 90\\\\\n\t 95\\\\\n\t -1\\\\\n\t -1\\\\\n\t 21, 22, 23, 24\\\\\n\t 81, 82\\\\\n\t 71\\\\\n\t 31\\\\\n\t 41, 42, 43\\\\\n\t 52\\\\\n\\end{tabular}\n",
            "text/plain": [
              "   nlcd          \n",
              "1  -1            \n",
              "2  11            \n",
              "3  90            \n",
              "4  95            \n",
              "5  -1            \n",
              "6  -1            \n",
              "7  21, 22, 23, 24\n",
              "8  81, 82        \n",
              "9  71            \n",
              "10 31            \n",
              "11 41, 42, 43    \n",
              "12 52            "
            ]
          },
          "metadata": {}
        }
      ]
    },
    {
      "cell_type": "code",
      "source": [
        "ccap_labels_data_table <- data.table(ccap = list(c(0,1), c(19,21), c(16,17,18), c(13,15), 14, c(22,23), c(2,3,4,5), c(6,7), 8, 20, c(9,10,11), 12))"
      ],
      "metadata": {
        "id": "a8WlLRN0H633"
      },
      "execution_count": 20,
      "outputs": []
    },
    {
      "cell_type": "code",
      "source": [
        "ccap_labels_data_table"
      ],
      "metadata": {
        "colab": {
          "base_uri": "https://localhost:8080/",
          "height": 509
        },
        "id": "Z260VUNiIBzl",
        "outputId": "259cab3e-fd36-4466-b21b-f089667ab59f"
      },
      "execution_count": 21,
      "outputs": [
        {
          "output_type": "display_data",
          "data": {
            "text/html": [
              "<table class=\"dataframe\">\n",
              "<caption>A data.table: 12 × 1</caption>\n",
              "<thead>\n",
              "\t<tr><th scope=col>ccap</th></tr>\n",
              "\t<tr><th scope=col>&lt;list&gt;</th></tr>\n",
              "</thead>\n",
              "<tbody>\n",
              "\t<tr><td>0, 1</td></tr>\n",
              "\t<tr><td>19, 21</td></tr>\n",
              "\t<tr><td>16, 17, 18</td></tr>\n",
              "\t<tr><td>13, 15</td></tr>\n",
              "\t<tr><td>14</td></tr>\n",
              "\t<tr><td>22, 23</td></tr>\n",
              "\t<tr><td>2, 3, 4, 5</td></tr>\n",
              "\t<tr><td>6, 7</td></tr>\n",
              "\t<tr><td>8</td></tr>\n",
              "\t<tr><td>20</td></tr>\n",
              "\t<tr><td>9, 10, 11</td></tr>\n",
              "\t<tr><td>12</td></tr>\n",
              "</tbody>\n",
              "</table>\n"
            ],
            "text/markdown": "\nA data.table: 12 × 1\n\n| ccap &lt;list&gt; |\n|---|\n| 0, 1 |\n| 19, 21 |\n| 16, 17, 18 |\n| 13, 15 |\n| 14 |\n| 22, 23 |\n| 2, 3, 4, 5 |\n| 6, 7 |\n| 8 |\n| 20 |\n| 9, 10, 11 |\n| 12 |\n\n",
            "text/latex": "A data.table: 12 × 1\n\\begin{tabular}{l}\n ccap\\\\\n <list>\\\\\n\\hline\n\t 0, 1\\\\\n\t 19, 21\\\\\n\t 16, 17, 18\\\\\n\t 13, 15\\\\\n\t 14\\\\\n\t 22, 23\\\\\n\t 2, 3, 4, 5\\\\\n\t 6, 7\\\\\n\t 8\\\\\n\t 20\\\\\n\t 9, 10, 11\\\\\n\t 12\\\\\n\\end{tabular}\n",
            "text/plain": [
              "   ccap      \n",
              "1  0, 1      \n",
              "2  19, 21    \n",
              "3  16, 17, 18\n",
              "4  13, 15    \n",
              "5  14        \n",
              "6  22, 23    \n",
              "7  2, 3, 4, 5\n",
              "8  6, 7      \n",
              "9  8         \n",
              "10 20        \n",
              "11 9, 10, 11 \n",
              "12 12        "
            ]
          },
          "metadata": {}
        }
      ]
    },
    {
      "cell_type": "code",
      "source": [
        "unified_data_table_all <- data.table (\n",
        "  unified_data_table,\n",
        "  nwi_data_table,\n",
        "  nlcd_data_table,\n",
        "  ccap_labels_data_table)"
      ],
      "metadata": {
        "id": "XBFjCE-LIDat"
      },
      "execution_count": 22,
      "outputs": []
    },
    {
      "cell_type": "code",
      "source": [
        "unified_data_table_all"
      ],
      "metadata": {
        "colab": {
          "base_uri": "https://localhost:8080/",
          "height": 474
        },
        "id": "0k07Roq_IPm_",
        "outputId": "f00ed4ab-8a2f-4544-cc19-8b13af43c3cc"
      },
      "execution_count": 23,
      "outputs": [
        {
          "output_type": "display_data",
          "data": {
            "text/html": [
              "<table class=\"dataframe\">\n",
              "<caption>A data.table: 12 × 4</caption>\n",
              "<thead>\n",
              "\t<tr><th scope=col>unified</th><th scope=col>nwi</th><th scope=col>nlcd</th><th scope=col>ccap</th></tr>\n",
              "\t<tr><th scope=col>&lt;dbl&gt;</th><th scope=col>&lt;list&gt;</th><th scope=col>&lt;list&gt;</th><th scope=col>&lt;list&gt;</th></tr>\n",
              "</thead>\n",
              "<tbody>\n",
              "\t<tr><td> 0</td><td>-1</td><td>-1</td><td>0, 1</td></tr>\n",
              "\t<tr><td> 1</td><td>1, 2, 3</td><td>11</td><td>19, 21</td></tr>\n",
              "\t<tr><td> 2</td><td>4</td><td>90</td><td>16, 17, 18</td></tr>\n",
              "\t<tr><td> 3</td><td>5</td><td>95</td><td>13, 15</td></tr>\n",
              "\t<tr><td> 4</td><td>6</td><td>-1</td><td>14</td></tr>\n",
              "\t<tr><td> 5</td><td>7</td><td>-1</td><td>22, 23</td></tr>\n",
              "\t<tr><td> 6</td><td>-1</td><td>21, 22, 23, 24</td><td>2, 3, 4, 5</td></tr>\n",
              "\t<tr><td> 7</td><td>-1</td><td>81, 82</td><td>6, 7</td></tr>\n",
              "\t<tr><td> 8</td><td>-1</td><td>71</td><td>8</td></tr>\n",
              "\t<tr><td> 9</td><td>-1</td><td>31</td><td>20</td></tr>\n",
              "\t<tr><td>10</td><td>-1</td><td>41, 42, 43</td><td>9, 10, 11</td></tr>\n",
              "\t<tr><td>11</td><td>-1</td><td>52</td><td>12</td></tr>\n",
              "</tbody>\n",
              "</table>\n"
            ],
            "text/markdown": "\nA data.table: 12 × 4\n\n| unified &lt;dbl&gt; | nwi &lt;list&gt; | nlcd &lt;list&gt; | ccap &lt;list&gt; |\n|---|---|---|---|\n|  0 | -1 | -1 | 0, 1 |\n|  1 | 1, 2, 3 | 11 | 19, 21 |\n|  2 | 4 | 90 | 16, 17, 18 |\n|  3 | 5 | 95 | 13, 15 |\n|  4 | 6 | -1 | 14 |\n|  5 | 7 | -1 | 22, 23 |\n|  6 | -1 | 21, 22, 23, 24 | 2, 3, 4, 5 |\n|  7 | -1 | 81, 82 | 6, 7 |\n|  8 | -1 | 71 | 8 |\n|  9 | -1 | 31 | 20 |\n| 10 | -1 | 41, 42, 43 | 9, 10, 11 |\n| 11 | -1 | 52 | 12 |\n\n",
            "text/latex": "A data.table: 12 × 4\n\\begin{tabular}{llll}\n unified & nwi & nlcd & ccap\\\\\n <dbl> & <list> & <list> & <list>\\\\\n\\hline\n\t  0 & -1 & -1 & 0, 1\\\\\n\t  1 & 1, 2, 3 & 11 & 19, 21\\\\\n\t  2 & 4 & 90 & 16, 17, 18\\\\\n\t  3 & 5 & 95 & 13, 15\\\\\n\t  4 & 6 & -1 & 14\\\\\n\t  5 & 7 & -1 & 22, 23\\\\\n\t  6 & -1 & 21, 22, 23, 24 & 2, 3, 4, 5\\\\\n\t  7 & -1 & 81, 82 & 6, 7\\\\\n\t  8 & -1 & 71 & 8\\\\\n\t  9 & -1 & 31 & 20\\\\\n\t 10 & -1 & 41, 42, 43 & 9, 10, 11\\\\\n\t 11 & -1 & 52 & 12\\\\\n\\end{tabular}\n",
            "text/plain": [
              "   unified nwi     nlcd           ccap      \n",
              "1   0      -1      -1             0, 1      \n",
              "2   1      1, 2, 3 11             19, 21    \n",
              "3   2      4       90             16, 17, 18\n",
              "4   3      5       95             13, 15    \n",
              "5   4      6       -1             14        \n",
              "6   5      7       -1             22, 23    \n",
              "7   6      -1      21, 22, 23, 24 2, 3, 4, 5\n",
              "8   7      -1      81, 82         6, 7      \n",
              "9   8      -1      71             8         \n",
              "10  9      -1      31             20        \n",
              "11 10      -1      41, 42, 43     9, 10, 11 \n",
              "12 11      -1      52             12        "
            ]
          },
          "metadata": {}
        }
      ]
    },
    {
      "cell_type": "code",
      "source": [
        "unified_data_table <- data.table (unified = c(0, 1, 2, 3, 4, 5, 6, 7, 8, 9, 10, 11))\n",
        "nwi_data_table <- data.table (nwi = list(-1, c(1,2,3), 4, 5, 6, 7, -1, -1, -1, -1, -1, -1))\n",
        "nlcd_data_table <- data.table(nlcd = list(-1, 11, 90, 95, -1, -1, c(21,22,23,24), c(81,82), 71, 31, c(41,42,43), 52))\n",
        "ccap_labels_data_table <- data.table(ccap = list(c(0,1), c(19,21), c(16,17,18), c(13,15), 14, c(22,23), c(2,3,4,5), c(6,7), 8, 20, c(9,10,11), 12))\n",
        "\n",
        "unified_data_table_all <- data.table (\n",
        "  unified_data_table,\n",
        "  nwi_data_table,\n",
        "  nlcd_data_table,\n",
        "  ccap_labels_data_table)"
      ],
      "metadata": {
        "id": "YO0NOIe-t-TO"
      },
      "execution_count": 24,
      "outputs": []
    },
    {
      "cell_type": "code",
      "source": [
        "unified_data_table_all"
      ],
      "metadata": {
        "colab": {
          "base_uri": "https://localhost:8080/",
          "height": 474
        },
        "id": "isPDahQvuhuY",
        "outputId": "ca0142cc-ac0c-421c-922d-db9601e98c85"
      },
      "execution_count": 25,
      "outputs": [
        {
          "output_type": "display_data",
          "data": {
            "text/html": [
              "<table class=\"dataframe\">\n",
              "<caption>A data.table: 12 × 4</caption>\n",
              "<thead>\n",
              "\t<tr><th scope=col>unified</th><th scope=col>nwi</th><th scope=col>nlcd</th><th scope=col>ccap</th></tr>\n",
              "\t<tr><th scope=col>&lt;dbl&gt;</th><th scope=col>&lt;list&gt;</th><th scope=col>&lt;list&gt;</th><th scope=col>&lt;list&gt;</th></tr>\n",
              "</thead>\n",
              "<tbody>\n",
              "\t<tr><td> 0</td><td>-1</td><td>-1</td><td>0, 1</td></tr>\n",
              "\t<tr><td> 1</td><td>1, 2, 3</td><td>11</td><td>19, 21</td></tr>\n",
              "\t<tr><td> 2</td><td>4</td><td>90</td><td>16, 17, 18</td></tr>\n",
              "\t<tr><td> 3</td><td>5</td><td>95</td><td>13, 15</td></tr>\n",
              "\t<tr><td> 4</td><td>6</td><td>-1</td><td>14</td></tr>\n",
              "\t<tr><td> 5</td><td>7</td><td>-1</td><td>22, 23</td></tr>\n",
              "\t<tr><td> 6</td><td>-1</td><td>21, 22, 23, 24</td><td>2, 3, 4, 5</td></tr>\n",
              "\t<tr><td> 7</td><td>-1</td><td>81, 82</td><td>6, 7</td></tr>\n",
              "\t<tr><td> 8</td><td>-1</td><td>71</td><td>8</td></tr>\n",
              "\t<tr><td> 9</td><td>-1</td><td>31</td><td>20</td></tr>\n",
              "\t<tr><td>10</td><td>-1</td><td>41, 42, 43</td><td>9, 10, 11</td></tr>\n",
              "\t<tr><td>11</td><td>-1</td><td>52</td><td>12</td></tr>\n",
              "</tbody>\n",
              "</table>\n"
            ],
            "text/markdown": "\nA data.table: 12 × 4\n\n| unified &lt;dbl&gt; | nwi &lt;list&gt; | nlcd &lt;list&gt; | ccap &lt;list&gt; |\n|---|---|---|---|\n|  0 | -1 | -1 | 0, 1 |\n|  1 | 1, 2, 3 | 11 | 19, 21 |\n|  2 | 4 | 90 | 16, 17, 18 |\n|  3 | 5 | 95 | 13, 15 |\n|  4 | 6 | -1 | 14 |\n|  5 | 7 | -1 | 22, 23 |\n|  6 | -1 | 21, 22, 23, 24 | 2, 3, 4, 5 |\n|  7 | -1 | 81, 82 | 6, 7 |\n|  8 | -1 | 71 | 8 |\n|  9 | -1 | 31 | 20 |\n| 10 | -1 | 41, 42, 43 | 9, 10, 11 |\n| 11 | -1 | 52 | 12 |\n\n",
            "text/latex": "A data.table: 12 × 4\n\\begin{tabular}{llll}\n unified & nwi & nlcd & ccap\\\\\n <dbl> & <list> & <list> & <list>\\\\\n\\hline\n\t  0 & -1 & -1 & 0, 1\\\\\n\t  1 & 1, 2, 3 & 11 & 19, 21\\\\\n\t  2 & 4 & 90 & 16, 17, 18\\\\\n\t  3 & 5 & 95 & 13, 15\\\\\n\t  4 & 6 & -1 & 14\\\\\n\t  5 & 7 & -1 & 22, 23\\\\\n\t  6 & -1 & 21, 22, 23, 24 & 2, 3, 4, 5\\\\\n\t  7 & -1 & 81, 82 & 6, 7\\\\\n\t  8 & -1 & 71 & 8\\\\\n\t  9 & -1 & 31 & 20\\\\\n\t 10 & -1 & 41, 42, 43 & 9, 10, 11\\\\\n\t 11 & -1 & 52 & 12\\\\\n\\end{tabular}\n",
            "text/plain": [
              "   unified nwi     nlcd           ccap      \n",
              "1   0      -1      -1             0, 1      \n",
              "2   1      1, 2, 3 11             19, 21    \n",
              "3   2      4       90             16, 17, 18\n",
              "4   3      5       95             13, 15    \n",
              "5   4      6       -1             14        \n",
              "6   5      7       -1             22, 23    \n",
              "7   6      -1      21, 22, 23, 24 2, 3, 4, 5\n",
              "8   7      -1      81, 82         6, 7      \n",
              "9   8      -1      71             8         \n",
              "10  9      -1      31             20        \n",
              "11 10      -1      41, 42, 43     9, 10, 11 \n",
              "12 11      -1      52             12        "
            ]
          },
          "metadata": {}
        }
      ]
    },
    {
      "cell_type": "markdown",
      "source": [
        "look at the ccap before starting anything else."
      ],
      "metadata": {
        "id": "Jgw1c7D0CqhO"
      }
    },
    {
      "cell_type": "code",
      "source": [
        "ccap_path =c('/content/workingfolder/ccap/utm4/kauai_ccap_2010.tif',\n",
        "'/content/workingfolder/ccap/utm4/oahu_ccap_2010.tif',\n",
        "'/content/workingfolder/ccap/utm4/molokai_ccap_2010.tif',\n",
        "'/content/workingfolder/ccap/utm4/maui_ccap_2010.tif')\n",
        "ccap_path_data_table <- data.table (ccap_path)\n",
        "\n",
        "island = c('kauai','oahu','molokai','maui')\n",
        "island_data_table <- data.table (island)\n",
        "\n",
        "dem_path =c('/content/workingfolder/dem/utm4/wgs84_kauai_10m.tif',\n",
        "'/content/workingfolder/dem/utm4/wgs84_oahu_dem.tif',\n",
        "'/content/workingfolder/dem/utm4/wgs84_molokai_dem.tif',\n",
        "'/content/workingfolder/dem/utm4/wgs84_maui_dem.tif')\n",
        "dem_path_data_table <- data.table (dem_path)\n",
        "\n",
        "linked_dt <- data.table (\n",
        "  island_data_table,\n",
        "  ccap_path_data_table,\n",
        "  dem_path_data_table)\n",
        "\n",
        "linked_dt$ccap_raster <- linked_dt$ccap_path %>% lapply(stack)\n",
        "linked_dt$dem_raster <- linked_dt$dem_path %>% lapply(stack)"
      ],
      "metadata": {
        "id": "sFWy_E10upWT"
      },
      "execution_count": 38,
      "outputs": []
    },
    {
      "cell_type": "code",
      "source": [
        "linked_dt"
      ],
      "metadata": {
        "colab": {
          "base_uri": "https://localhost:8080/",
          "height": 293
        },
        "id": "_iFI8GY33_pj",
        "outputId": "d238763a-ca1c-4fc3-b66c-d55763b4dfdb"
      },
      "execution_count": 54,
      "outputs": [
        {
          "output_type": "display_data",
          "data": {
            "text/html": [
              "<table class=\"dataframe\">\n",
              "<caption>A data.table: 4 × 5</caption>\n",
              "<thead>\n",
              "\t<tr><th scope=col>island</th><th scope=col>ccap_path</th><th scope=col>dem_path</th><th scope=col>ccap_raster</th><th scope=col>dem_raster</th></tr>\n",
              "\t<tr><th scope=col>&lt;chr&gt;</th><th scope=col>&lt;chr&gt;</th><th scope=col>&lt;chr&gt;</th><th scope=col>&lt;list&gt;</th><th scope=col>&lt;list&gt;</th></tr>\n",
              "</thead>\n",
              "<tbody>\n",
              "\t<tr><td><span style=white-space:pre-wrap>kauai  </span></td><td><span style=white-space:pre-wrap>/content/workingfolder/ccap/utm4/kauai_ccap_2010.tif  </span></td><td><span style=white-space:pre-wrap>/content/workingfolder/dem/utm4/wgs84_kauai_10m.tif  </span></td><td>&lt;S4 class ‘RasterStack’ [package “raster”] with 12 slots&gt;</td><td>&lt;S4 class ‘RasterStack’ [package “raster”] with 12 slots&gt;</td></tr>\n",
              "\t<tr><td><span style=white-space:pre-wrap>oahu   </span></td><td><span style=white-space:pre-wrap>/content/workingfolder/ccap/utm4/oahu_ccap_2010.tif   </span></td><td><span style=white-space:pre-wrap>/content/workingfolder/dem/utm4/wgs84_oahu_dem.tif   </span></td><td>&lt;S4 class ‘RasterStack’ [package “raster”] with 12 slots&gt;</td><td>&lt;S4 class ‘RasterStack’ [package “raster”] with 12 slots&gt;</td></tr>\n",
              "\t<tr><td>molokai</td><td>/content/workingfolder/ccap/utm4/molokai_ccap_2010.tif</td><td>/content/workingfolder/dem/utm4/wgs84_molokai_dem.tif</td><td>&lt;S4 class ‘RasterStack’ [package “raster”] with 12 slots&gt;</td><td>&lt;S4 class ‘RasterStack’ [package “raster”] with 12 slots&gt;</td></tr>\n",
              "\t<tr><td><span style=white-space:pre-wrap>maui   </span></td><td><span style=white-space:pre-wrap>/content/workingfolder/ccap/utm4/maui_ccap_2010.tif   </span></td><td><span style=white-space:pre-wrap>/content/workingfolder/dem/utm4/wgs84_maui_dem.tif   </span></td><td>&lt;S4 class ‘RasterStack’ [package “raster”] with 12 slots&gt;</td><td>&lt;S4 class ‘RasterStack’ [package “raster”] with 12 slots&gt;</td></tr>\n",
              "</tbody>\n",
              "</table>\n"
            ],
            "text/markdown": "\nA data.table: 4 × 5\n\n| island &lt;chr&gt; | ccap_path &lt;chr&gt; | dem_path &lt;chr&gt; | ccap_raster &lt;list&gt; | dem_raster &lt;list&gt; |\n|---|---|---|---|---|\n| kauai   | /content/workingfolder/ccap/utm4/kauai_ccap_2010.tif   | /content/workingfolder/dem/utm4/wgs84_kauai_10m.tif   | &lt;S4 class ‘RasterStack’ [package “raster”] with 12 slots&gt; | &lt;S4 class ‘RasterStack’ [package “raster”] with 12 slots&gt; |\n| oahu    | /content/workingfolder/ccap/utm4/oahu_ccap_2010.tif    | /content/workingfolder/dem/utm4/wgs84_oahu_dem.tif    | &lt;S4 class ‘RasterStack’ [package “raster”] with 12 slots&gt; | &lt;S4 class ‘RasterStack’ [package “raster”] with 12 slots&gt; |\n| molokai | /content/workingfolder/ccap/utm4/molokai_ccap_2010.tif | /content/workingfolder/dem/utm4/wgs84_molokai_dem.tif | &lt;S4 class ‘RasterStack’ [package “raster”] with 12 slots&gt; | &lt;S4 class ‘RasterStack’ [package “raster”] with 12 slots&gt; |\n| maui    | /content/workingfolder/ccap/utm4/maui_ccap_2010.tif    | /content/workingfolder/dem/utm4/wgs84_maui_dem.tif    | &lt;S4 class ‘RasterStack’ [package “raster”] with 12 slots&gt; | &lt;S4 class ‘RasterStack’ [package “raster”] with 12 slots&gt; |\n\n",
            "text/latex": "A data.table: 4 × 5\n\\begin{tabular}{lllll}\n island & ccap\\_path & dem\\_path & ccap\\_raster & dem\\_raster\\\\\n <chr> & <chr> & <chr> & <list> & <list>\\\\\n\\hline\n\t kauai   & /content/workingfolder/ccap/utm4/kauai\\_ccap\\_2010.tif   & /content/workingfolder/dem/utm4/wgs84\\_kauai\\_10m.tif   & <S4 class ‘RasterStack’ {[}package “raster”{]} with 12 slots> & <S4 class ‘RasterStack’ {[}package “raster”{]} with 12 slots>\\\\\n\t oahu    & /content/workingfolder/ccap/utm4/oahu\\_ccap\\_2010.tif    & /content/workingfolder/dem/utm4/wgs84\\_oahu\\_dem.tif    & <S4 class ‘RasterStack’ {[}package “raster”{]} with 12 slots> & <S4 class ‘RasterStack’ {[}package “raster”{]} with 12 slots>\\\\\n\t molokai & /content/workingfolder/ccap/utm4/molokai\\_ccap\\_2010.tif & /content/workingfolder/dem/utm4/wgs84\\_molokai\\_dem.tif & <S4 class ‘RasterStack’ {[}package “raster”{]} with 12 slots> & <S4 class ‘RasterStack’ {[}package “raster”{]} with 12 slots>\\\\\n\t maui    & /content/workingfolder/ccap/utm4/maui\\_ccap\\_2010.tif    & /content/workingfolder/dem/utm4/wgs84\\_maui\\_dem.tif    & <S4 class ‘RasterStack’ {[}package “raster”{]} with 12 slots> & <S4 class ‘RasterStack’ {[}package “raster”{]} with 12 slots>\\\\\n\\end{tabular}\n",
            "text/plain": [
              "  island  ccap_path                                             \n",
              "1 kauai   /content/workingfolder/ccap/utm4/kauai_ccap_2010.tif  \n",
              "2 oahu    /content/workingfolder/ccap/utm4/oahu_ccap_2010.tif   \n",
              "3 molokai /content/workingfolder/ccap/utm4/molokai_ccap_2010.tif\n",
              "4 maui    /content/workingfolder/ccap/utm4/maui_ccap_2010.tif   \n",
              "  dem_path                                             \n",
              "1 /content/workingfolder/dem/utm4/wgs84_kauai_10m.tif  \n",
              "2 /content/workingfolder/dem/utm4/wgs84_oahu_dem.tif   \n",
              "3 /content/workingfolder/dem/utm4/wgs84_molokai_dem.tif\n",
              "4 /content/workingfolder/dem/utm4/wgs84_maui_dem.tif   \n",
              "  ccap_raster                                              \n",
              "1 <S4 class ‘RasterStack’ [package “raster”] with 12 slots>\n",
              "2 <S4 class ‘RasterStack’ [package “raster”] with 12 slots>\n",
              "3 <S4 class ‘RasterStack’ [package “raster”] with 12 slots>\n",
              "4 <S4 class ‘RasterStack’ [package “raster”] with 12 slots>\n",
              "  dem_raster                                               \n",
              "1 <S4 class ‘RasterStack’ [package “raster”] with 12 slots>\n",
              "2 <S4 class ‘RasterStack’ [package “raster”] with 12 slots>\n",
              "3 <S4 class ‘RasterStack’ [package “raster”] with 12 slots>\n",
              "4 <S4 class ‘RasterStack’ [package “raster”] with 12 slots>"
            ]
          },
          "metadata": {}
        }
      ]
    },
    {
      "cell_type": "code",
      "source": [
        "location_island_lookup <- data.table(\n",
        "  island = c(\"kauai\",\"oahu\",\"kauai\",\"kauai\",\"oahu\",\"molokai\",\"molokai\",\"molokai\",\"maui\",\"oahu\",\"maui\",\"kauai\",\"maui\",\"oahu\",\"maui\",\"kauai\"),\n",
        "  location_name = c(\"anahola\",\"haleiwa\",\"hanalei\",\"huleia\",\"kahuku\",\"kakahaia\",\"kaluaapuhi\",\"kamalo\",\"kanaha\",\"kawainui\",\"kealia\",\"lumahai\",\"paukukalo\",\"pearl_harbor\",\"waihee\",\"wailua_opaekaa\"))\n",
        "\n",
        "\n",
        "\n",
        "# Assuming you have a vector of file paths for your Planet imagery from 2018\n",
        "planet_image_file_paths <- c(\n",
        "  \"/content/imagery/planet/2018/utm4/2018_anahola_stack.tif\",\n",
        "  \"/content/imagery/planet/2018/utm4/2018_haleiwa_stack.tif\",\n",
        "  \"/content/imagery/planet/2018/utm4/2018_hanalei_stack.tif\",\n",
        "  \"/content/imagery/planet/2018/utm4/2018_huleia_stack.tif\",\n",
        "  \"/content/imagery/planet/2018/utm4/2018_kahuku_stack.tif\",\n",
        "  \"/content/imagery/planet/2018/utm4/2018_kakahaia_stack.tif\",\n",
        "  \"/content/imagery/planet/2018/utm4/2018_kaluaapuhi_stack.tif\",\n",
        "  \"/content/imagery/planet/2018/utm4/2018_kamalo_stack.tif\",\n",
        "  \"/content/imagery/planet/2018/utm4/2018_kanaha_stack.tif\",\n",
        "  \"/content/imagery/planet/2018/utm4/2018_kawainui_stack.tif\",\n",
        "  \"/content/imagery/planet/2018/utm4/2018_kealia_stack.tif\",\n",
        "  \"/content/imagery/planet/2018/utm4/2018_lumahai_stack.tif\",\n",
        "  \"/content/imagery/planet/2018/utm4/2018_paukukalo_stack.tif\",\n",
        "  \"/content/imagery/planet/2018/utm4/2018_pearl_harbor_stack.tif\",\n",
        "  \"/content/imagery/planet/2018/utm4/2018_waihee_stack.tif\",\n",
        "  \"/content/imagery/planet/2018/utm4/2018_wailua_opaekaa_stack.tif\")"
      ],
      "metadata": {
        "id": "UkTbTzSMFsEN"
      },
      "execution_count": 60,
      "outputs": []
    },
    {
      "cell_type": "code",
      "source": [
        "anaholaaaa <- stack(\"/content/imagery/planet/2018/utm4/2018_anahola_stack.tif\")"
      ],
      "metadata": {
        "id": "BK17WDfu4Lj0"
      },
      "execution_count": 57,
      "outputs": []
    },
    {
      "cell_type": "code",
      "source": [
        "anaholaaaa\n"
      ],
      "metadata": {
        "colab": {
          "base_uri": "https://localhost:8080/",
          "height": 225
        },
        "id": "ssbuCVoh4PYo",
        "outputId": "aae4c30e-1e9e-4a27-e72f-3bd24c2b5bf9"
      },
      "execution_count": 59,
      "outputs": [
        {
          "output_type": "display_data",
          "data": {
            "text/plain": [
              "class      : RasterStack \n",
              "dimensions : 751, 918, 689418, 16  (nrow, ncol, ncell, nlayers)\n",
              "resolution : 3, 3  (x, y)\n",
              "extent     : 467439, 470193, 2447514, 2449767  (xmin, xmax, ymin, ymax)\n",
              "crs        : +proj=utm +zone=4 +datum=WGS84 +units=m +no_defs \n",
              "names      : X2018_anahola_stack_1, X2018_anahola_stack_2, X2018_anahola_stack_3, X2018_anahola_stack_4, X2018_anahola_stack_5, X2018_anahola_stack_6, X2018_anahola_stack_7, X2018_anahola_stack_8, X2018_anahola_stack_9, X2018_anahola_stack_10, X2018_anahola_stack_11, X2018_anahola_stack_12, X2018_anahola_stack_13, X2018_anahola_stack_14, X2018_anahola_stack_15, ... \n",
              "min values :                   169,                   284,                     7,                    15,                   156,                   119,                   111,                   125,                    40,                     31,                      2,                     30,                    144,                     77,                     95, ... \n",
              "max values :                  3060,                  3588,                  3493,                  4672,                  4356,                  3747,                  5560,                  4849,                  3724,                   4222,                   4908,                   5411,                   4644,                   5045,                   5691, ... \n"
            ]
          },
          "metadata": {}
        }
      ]
    },
    {
      "cell_type": "code",
      "source": [
        "planet_dt <- data.table(\n",
        "location_island_lookup,\n",
        "planet_file_path = planet_image_file_paths\n",
        "# location_name = str_extract(basename(planet_image_file_paths), \"(?<=2018_)(.*?)(?=_stack\\\\.tif)\")\n",
        ")\n"
      ],
      "metadata": {
        "id": "mrKXWLR9GIok"
      },
      "execution_count": 61,
      "outputs": []
    },
    {
      "cell_type": "code",
      "source": [
        "planet_dt"
      ],
      "metadata": {
        "colab": {
          "base_uri": "https://localhost:8080/",
          "height": 600
        },
        "id": "gflLfNvNGNgc",
        "outputId": "ea69c67a-5394-4701-d94c-9653768a91d4"
      },
      "execution_count": 62,
      "outputs": [
        {
          "output_type": "display_data",
          "data": {
            "text/html": [
              "<table class=\"dataframe\">\n",
              "<caption>A data.table: 16 × 3</caption>\n",
              "<thead>\n",
              "\t<tr><th scope=col>island</th><th scope=col>location_name</th><th scope=col>planet_file_path</th></tr>\n",
              "\t<tr><th scope=col>&lt;chr&gt;</th><th scope=col>&lt;chr&gt;</th><th scope=col>&lt;chr&gt;</th></tr>\n",
              "</thead>\n",
              "<tbody>\n",
              "\t<tr><td>kauai  </td><td>anahola       </td><td>/content/imagery/planet/2018/utm4/2018_anahola_stack.tif       </td></tr>\n",
              "\t<tr><td>oahu   </td><td>haleiwa       </td><td>/content/imagery/planet/2018/utm4/2018_haleiwa_stack.tif       </td></tr>\n",
              "\t<tr><td>kauai  </td><td>hanalei       </td><td>/content/imagery/planet/2018/utm4/2018_hanalei_stack.tif       </td></tr>\n",
              "\t<tr><td>kauai  </td><td>huleia        </td><td>/content/imagery/planet/2018/utm4/2018_huleia_stack.tif        </td></tr>\n",
              "\t<tr><td>oahu   </td><td>kahuku        </td><td>/content/imagery/planet/2018/utm4/2018_kahuku_stack.tif        </td></tr>\n",
              "\t<tr><td>molokai</td><td>kakahaia      </td><td>/content/imagery/planet/2018/utm4/2018_kakahaia_stack.tif      </td></tr>\n",
              "\t<tr><td>molokai</td><td>kaluaapuhi    </td><td>/content/imagery/planet/2018/utm4/2018_kaluaapuhi_stack.tif    </td></tr>\n",
              "\t<tr><td>molokai</td><td>kamalo        </td><td>/content/imagery/planet/2018/utm4/2018_kamalo_stack.tif        </td></tr>\n",
              "\t<tr><td>maui   </td><td>kanaha        </td><td>/content/imagery/planet/2018/utm4/2018_kanaha_stack.tif        </td></tr>\n",
              "\t<tr><td>oahu   </td><td>kawainui      </td><td>/content/imagery/planet/2018/utm4/2018_kawainui_stack.tif      </td></tr>\n",
              "\t<tr><td>maui   </td><td>kealia        </td><td>/content/imagery/planet/2018/utm4/2018_kealia_stack.tif        </td></tr>\n",
              "\t<tr><td>kauai  </td><td>lumahai       </td><td>/content/imagery/planet/2018/utm4/2018_lumahai_stack.tif       </td></tr>\n",
              "\t<tr><td>maui   </td><td>paukukalo     </td><td>/content/imagery/planet/2018/utm4/2018_paukukalo_stack.tif     </td></tr>\n",
              "\t<tr><td>oahu   </td><td>pearl_harbor  </td><td>/content/imagery/planet/2018/utm4/2018_pearl_harbor_stack.tif  </td></tr>\n",
              "\t<tr><td>maui   </td><td>waihee        </td><td>/content/imagery/planet/2018/utm4/2018_waihee_stack.tif        </td></tr>\n",
              "\t<tr><td>kauai  </td><td>wailua_opaekaa</td><td>/content/imagery/planet/2018/utm4/2018_wailua_opaekaa_stack.tif</td></tr>\n",
              "</tbody>\n",
              "</table>\n"
            ],
            "text/markdown": "\nA data.table: 16 × 3\n\n| island &lt;chr&gt; | location_name &lt;chr&gt; | planet_file_path &lt;chr&gt; |\n|---|---|---|\n| kauai   | anahola        | /content/imagery/planet/2018/utm4/2018_anahola_stack.tif        |\n| oahu    | haleiwa        | /content/imagery/planet/2018/utm4/2018_haleiwa_stack.tif        |\n| kauai   | hanalei        | /content/imagery/planet/2018/utm4/2018_hanalei_stack.tif        |\n| kauai   | huleia         | /content/imagery/planet/2018/utm4/2018_huleia_stack.tif         |\n| oahu    | kahuku         | /content/imagery/planet/2018/utm4/2018_kahuku_stack.tif         |\n| molokai | kakahaia       | /content/imagery/planet/2018/utm4/2018_kakahaia_stack.tif       |\n| molokai | kaluaapuhi     | /content/imagery/planet/2018/utm4/2018_kaluaapuhi_stack.tif     |\n| molokai | kamalo         | /content/imagery/planet/2018/utm4/2018_kamalo_stack.tif         |\n| maui    | kanaha         | /content/imagery/planet/2018/utm4/2018_kanaha_stack.tif         |\n| oahu    | kawainui       | /content/imagery/planet/2018/utm4/2018_kawainui_stack.tif       |\n| maui    | kealia         | /content/imagery/planet/2018/utm4/2018_kealia_stack.tif         |\n| kauai   | lumahai        | /content/imagery/planet/2018/utm4/2018_lumahai_stack.tif        |\n| maui    | paukukalo      | /content/imagery/planet/2018/utm4/2018_paukukalo_stack.tif      |\n| oahu    | pearl_harbor   | /content/imagery/planet/2018/utm4/2018_pearl_harbor_stack.tif   |\n| maui    | waihee         | /content/imagery/planet/2018/utm4/2018_waihee_stack.tif         |\n| kauai   | wailua_opaekaa | /content/imagery/planet/2018/utm4/2018_wailua_opaekaa_stack.tif |\n\n",
            "text/latex": "A data.table: 16 × 3\n\\begin{tabular}{lll}\n island & location\\_name & planet\\_file\\_path\\\\\n <chr> & <chr> & <chr>\\\\\n\\hline\n\t kauai   & anahola        & /content/imagery/planet/2018/utm4/2018\\_anahola\\_stack.tif       \\\\\n\t oahu    & haleiwa        & /content/imagery/planet/2018/utm4/2018\\_haleiwa\\_stack.tif       \\\\\n\t kauai   & hanalei        & /content/imagery/planet/2018/utm4/2018\\_hanalei\\_stack.tif       \\\\\n\t kauai   & huleia         & /content/imagery/planet/2018/utm4/2018\\_huleia\\_stack.tif        \\\\\n\t oahu    & kahuku         & /content/imagery/planet/2018/utm4/2018\\_kahuku\\_stack.tif        \\\\\n\t molokai & kakahaia       & /content/imagery/planet/2018/utm4/2018\\_kakahaia\\_stack.tif      \\\\\n\t molokai & kaluaapuhi     & /content/imagery/planet/2018/utm4/2018\\_kaluaapuhi\\_stack.tif    \\\\\n\t molokai & kamalo         & /content/imagery/planet/2018/utm4/2018\\_kamalo\\_stack.tif        \\\\\n\t maui    & kanaha         & /content/imagery/planet/2018/utm4/2018\\_kanaha\\_stack.tif        \\\\\n\t oahu    & kawainui       & /content/imagery/planet/2018/utm4/2018\\_kawainui\\_stack.tif      \\\\\n\t maui    & kealia         & /content/imagery/planet/2018/utm4/2018\\_kealia\\_stack.tif        \\\\\n\t kauai   & lumahai        & /content/imagery/planet/2018/utm4/2018\\_lumahai\\_stack.tif       \\\\\n\t maui    & paukukalo      & /content/imagery/planet/2018/utm4/2018\\_paukukalo\\_stack.tif     \\\\\n\t oahu    & pearl\\_harbor   & /content/imagery/planet/2018/utm4/2018\\_pearl\\_harbor\\_stack.tif  \\\\\n\t maui    & waihee         & /content/imagery/planet/2018/utm4/2018\\_waihee\\_stack.tif        \\\\\n\t kauai   & wailua\\_opaekaa & /content/imagery/planet/2018/utm4/2018\\_wailua\\_opaekaa\\_stack.tif\\\\\n\\end{tabular}\n",
            "text/plain": [
              "   island  location_name \n",
              "1  kauai   anahola       \n",
              "2  oahu    haleiwa       \n",
              "3  kauai   hanalei       \n",
              "4  kauai   huleia        \n",
              "5  oahu    kahuku        \n",
              "6  molokai kakahaia      \n",
              "7  molokai kaluaapuhi    \n",
              "8  molokai kamalo        \n",
              "9  maui    kanaha        \n",
              "10 oahu    kawainui      \n",
              "11 maui    kealia        \n",
              "12 kauai   lumahai       \n",
              "13 maui    paukukalo     \n",
              "14 oahu    pearl_harbor  \n",
              "15 maui    waihee        \n",
              "16 kauai   wailua_opaekaa\n",
              "   planet_file_path                                               \n",
              "1  /content/imagery/planet/2018/utm4/2018_anahola_stack.tif       \n",
              "2  /content/imagery/planet/2018/utm4/2018_haleiwa_stack.tif       \n",
              "3  /content/imagery/planet/2018/utm4/2018_hanalei_stack.tif       \n",
              "4  /content/imagery/planet/2018/utm4/2018_huleia_stack.tif        \n",
              "5  /content/imagery/planet/2018/utm4/2018_kahuku_stack.tif        \n",
              "6  /content/imagery/planet/2018/utm4/2018_kakahaia_stack.tif      \n",
              "7  /content/imagery/planet/2018/utm4/2018_kaluaapuhi_stack.tif    \n",
              "8  /content/imagery/planet/2018/utm4/2018_kamalo_stack.tif        \n",
              "9  /content/imagery/planet/2018/utm4/2018_kanaha_stack.tif        \n",
              "10 /content/imagery/planet/2018/utm4/2018_kawainui_stack.tif      \n",
              "11 /content/imagery/planet/2018/utm4/2018_kealia_stack.tif        \n",
              "12 /content/imagery/planet/2018/utm4/2018_lumahai_stack.tif       \n",
              "13 /content/imagery/planet/2018/utm4/2018_paukukalo_stack.tif     \n",
              "14 /content/imagery/planet/2018/utm4/2018_pearl_harbor_stack.tif  \n",
              "15 /content/imagery/planet/2018/utm4/2018_waihee_stack.tif        \n",
              "16 /content/imagery/planet/2018/utm4/2018_wailua_opaekaa_stack.tif"
            ]
          },
          "metadata": {}
        }
      ]
    },
    {
      "cell_type": "code",
      "source": [
        "planet_dt$planet_raster <- planet_dt$planet_file_path %>% lapply(stack)"
      ],
      "metadata": {
        "id": "iyzESBMMMd3w"
      },
      "execution_count": 63,
      "outputs": []
    },
    {
      "cell_type": "code",
      "source": [
        "planet_dt"
      ],
      "metadata": {
        "id": "soupCS5NGgZ9",
        "colab": {
          "base_uri": "https://localhost:8080/",
          "height": 600
        },
        "outputId": "f76249e5-6636-4309-d3ff-2fa538c36892"
      },
      "execution_count": 64,
      "outputs": [
        {
          "output_type": "display_data",
          "data": {
            "text/html": [
              "<table class=\"dataframe\">\n",
              "<caption>A data.table: 16 × 4</caption>\n",
              "<thead>\n",
              "\t<tr><th scope=col>island</th><th scope=col>location_name</th><th scope=col>planet_file_path</th><th scope=col>planet_raster</th></tr>\n",
              "\t<tr><th scope=col>&lt;chr&gt;</th><th scope=col>&lt;chr&gt;</th><th scope=col>&lt;chr&gt;</th><th scope=col>&lt;list&gt;</th></tr>\n",
              "</thead>\n",
              "<tbody>\n",
              "\t<tr><td><span style=white-space:pre-wrap>kauai  </span></td><td><span style=white-space:pre-wrap>anahola       </span></td><td><span style=white-space:pre-wrap>/content/imagery/planet/2018/utm4/2018_anahola_stack.tif       </span></td><td>&lt;S4 class ‘RasterStack’ [package “raster”] with 12 slots&gt;</td></tr>\n",
              "\t<tr><td><span style=white-space:pre-wrap>oahu   </span></td><td><span style=white-space:pre-wrap>haleiwa       </span></td><td><span style=white-space:pre-wrap>/content/imagery/planet/2018/utm4/2018_haleiwa_stack.tif       </span></td><td>&lt;S4 class ‘RasterStack’ [package “raster”] with 12 slots&gt;</td></tr>\n",
              "\t<tr><td><span style=white-space:pre-wrap>kauai  </span></td><td><span style=white-space:pre-wrap>hanalei       </span></td><td><span style=white-space:pre-wrap>/content/imagery/planet/2018/utm4/2018_hanalei_stack.tif       </span></td><td>&lt;S4 class ‘RasterStack’ [package “raster”] with 12 slots&gt;</td></tr>\n",
              "\t<tr><td><span style=white-space:pre-wrap>kauai  </span></td><td><span style=white-space:pre-wrap>huleia        </span></td><td><span style=white-space:pre-wrap>/content/imagery/planet/2018/utm4/2018_huleia_stack.tif        </span></td><td>&lt;S4 class ‘RasterStack’ [package “raster”] with 12 slots&gt;</td></tr>\n",
              "\t<tr><td><span style=white-space:pre-wrap>oahu   </span></td><td><span style=white-space:pre-wrap>kahuku        </span></td><td><span style=white-space:pre-wrap>/content/imagery/planet/2018/utm4/2018_kahuku_stack.tif        </span></td><td>&lt;S4 class ‘RasterStack’ [package “raster”] with 12 slots&gt;</td></tr>\n",
              "\t<tr><td>molokai</td><td><span style=white-space:pre-wrap>kakahaia      </span></td><td><span style=white-space:pre-wrap>/content/imagery/planet/2018/utm4/2018_kakahaia_stack.tif      </span></td><td>&lt;S4 class ‘RasterStack’ [package “raster”] with 12 slots&gt;</td></tr>\n",
              "\t<tr><td>molokai</td><td><span style=white-space:pre-wrap>kaluaapuhi    </span></td><td><span style=white-space:pre-wrap>/content/imagery/planet/2018/utm4/2018_kaluaapuhi_stack.tif    </span></td><td>&lt;S4 class ‘RasterStack’ [package “raster”] with 12 slots&gt;</td></tr>\n",
              "\t<tr><td>molokai</td><td><span style=white-space:pre-wrap>kamalo        </span></td><td><span style=white-space:pre-wrap>/content/imagery/planet/2018/utm4/2018_kamalo_stack.tif        </span></td><td>&lt;S4 class ‘RasterStack’ [package “raster”] with 12 slots&gt;</td></tr>\n",
              "\t<tr><td><span style=white-space:pre-wrap>maui   </span></td><td><span style=white-space:pre-wrap>kanaha        </span></td><td><span style=white-space:pre-wrap>/content/imagery/planet/2018/utm4/2018_kanaha_stack.tif        </span></td><td>&lt;S4 class ‘RasterStack’ [package “raster”] with 12 slots&gt;</td></tr>\n",
              "\t<tr><td><span style=white-space:pre-wrap>oahu   </span></td><td><span style=white-space:pre-wrap>kawainui      </span></td><td><span style=white-space:pre-wrap>/content/imagery/planet/2018/utm4/2018_kawainui_stack.tif      </span></td><td>&lt;S4 class ‘RasterStack’ [package “raster”] with 12 slots&gt;</td></tr>\n",
              "\t<tr><td><span style=white-space:pre-wrap>maui   </span></td><td><span style=white-space:pre-wrap>kealia        </span></td><td><span style=white-space:pre-wrap>/content/imagery/planet/2018/utm4/2018_kealia_stack.tif        </span></td><td>&lt;S4 class ‘RasterStack’ [package “raster”] with 12 slots&gt;</td></tr>\n",
              "\t<tr><td><span style=white-space:pre-wrap>kauai  </span></td><td><span style=white-space:pre-wrap>lumahai       </span></td><td><span style=white-space:pre-wrap>/content/imagery/planet/2018/utm4/2018_lumahai_stack.tif       </span></td><td>&lt;S4 class ‘RasterStack’ [package “raster”] with 12 slots&gt;</td></tr>\n",
              "\t<tr><td><span style=white-space:pre-wrap>maui   </span></td><td><span style=white-space:pre-wrap>paukukalo     </span></td><td><span style=white-space:pre-wrap>/content/imagery/planet/2018/utm4/2018_paukukalo_stack.tif     </span></td><td>&lt;S4 class ‘RasterStack’ [package “raster”] with 12 slots&gt;</td></tr>\n",
              "\t<tr><td><span style=white-space:pre-wrap>oahu   </span></td><td><span style=white-space:pre-wrap>pearl_harbor  </span></td><td><span style=white-space:pre-wrap>/content/imagery/planet/2018/utm4/2018_pearl_harbor_stack.tif  </span></td><td>&lt;S4 class ‘RasterStack’ [package “raster”] with 12 slots&gt;</td></tr>\n",
              "\t<tr><td><span style=white-space:pre-wrap>maui   </span></td><td><span style=white-space:pre-wrap>waihee        </span></td><td><span style=white-space:pre-wrap>/content/imagery/planet/2018/utm4/2018_waihee_stack.tif        </span></td><td>&lt;S4 class ‘RasterStack’ [package “raster”] with 12 slots&gt;</td></tr>\n",
              "\t<tr><td><span style=white-space:pre-wrap>kauai  </span></td><td>wailua_opaekaa</td><td>/content/imagery/planet/2018/utm4/2018_wailua_opaekaa_stack.tif</td><td>&lt;S4 class ‘RasterStack’ [package “raster”] with 12 slots&gt;</td></tr>\n",
              "</tbody>\n",
              "</table>\n"
            ],
            "text/markdown": "\nA data.table: 16 × 4\n\n| island &lt;chr&gt; | location_name &lt;chr&gt; | planet_file_path &lt;chr&gt; | planet_raster &lt;list&gt; |\n|---|---|---|---|\n| kauai   | anahola        | /content/imagery/planet/2018/utm4/2018_anahola_stack.tif        | &lt;S4 class ‘RasterStack’ [package “raster”] with 12 slots&gt; |\n| oahu    | haleiwa        | /content/imagery/planet/2018/utm4/2018_haleiwa_stack.tif        | &lt;S4 class ‘RasterStack’ [package “raster”] with 12 slots&gt; |\n| kauai   | hanalei        | /content/imagery/planet/2018/utm4/2018_hanalei_stack.tif        | &lt;S4 class ‘RasterStack’ [package “raster”] with 12 slots&gt; |\n| kauai   | huleia         | /content/imagery/planet/2018/utm4/2018_huleia_stack.tif         | &lt;S4 class ‘RasterStack’ [package “raster”] with 12 slots&gt; |\n| oahu    | kahuku         | /content/imagery/planet/2018/utm4/2018_kahuku_stack.tif         | &lt;S4 class ‘RasterStack’ [package “raster”] with 12 slots&gt; |\n| molokai | kakahaia       | /content/imagery/planet/2018/utm4/2018_kakahaia_stack.tif       | &lt;S4 class ‘RasterStack’ [package “raster”] with 12 slots&gt; |\n| molokai | kaluaapuhi     | /content/imagery/planet/2018/utm4/2018_kaluaapuhi_stack.tif     | &lt;S4 class ‘RasterStack’ [package “raster”] with 12 slots&gt; |\n| molokai | kamalo         | /content/imagery/planet/2018/utm4/2018_kamalo_stack.tif         | &lt;S4 class ‘RasterStack’ [package “raster”] with 12 slots&gt; |\n| maui    | kanaha         | /content/imagery/planet/2018/utm4/2018_kanaha_stack.tif         | &lt;S4 class ‘RasterStack’ [package “raster”] with 12 slots&gt; |\n| oahu    | kawainui       | /content/imagery/planet/2018/utm4/2018_kawainui_stack.tif       | &lt;S4 class ‘RasterStack’ [package “raster”] with 12 slots&gt; |\n| maui    | kealia         | /content/imagery/planet/2018/utm4/2018_kealia_stack.tif         | &lt;S4 class ‘RasterStack’ [package “raster”] with 12 slots&gt; |\n| kauai   | lumahai        | /content/imagery/planet/2018/utm4/2018_lumahai_stack.tif        | &lt;S4 class ‘RasterStack’ [package “raster”] with 12 slots&gt; |\n| maui    | paukukalo      | /content/imagery/planet/2018/utm4/2018_paukukalo_stack.tif      | &lt;S4 class ‘RasterStack’ [package “raster”] with 12 slots&gt; |\n| oahu    | pearl_harbor   | /content/imagery/planet/2018/utm4/2018_pearl_harbor_stack.tif   | &lt;S4 class ‘RasterStack’ [package “raster”] with 12 slots&gt; |\n| maui    | waihee         | /content/imagery/planet/2018/utm4/2018_waihee_stack.tif         | &lt;S4 class ‘RasterStack’ [package “raster”] with 12 slots&gt; |\n| kauai   | wailua_opaekaa | /content/imagery/planet/2018/utm4/2018_wailua_opaekaa_stack.tif | &lt;S4 class ‘RasterStack’ [package “raster”] with 12 slots&gt; |\n\n",
            "text/latex": "A data.table: 16 × 4\n\\begin{tabular}{llll}\n island & location\\_name & planet\\_file\\_path & planet\\_raster\\\\\n <chr> & <chr> & <chr> & <list>\\\\\n\\hline\n\t kauai   & anahola        & /content/imagery/planet/2018/utm4/2018\\_anahola\\_stack.tif        & <S4 class ‘RasterStack’ {[}package “raster”{]} with 12 slots>\\\\\n\t oahu    & haleiwa        & /content/imagery/planet/2018/utm4/2018\\_haleiwa\\_stack.tif        & <S4 class ‘RasterStack’ {[}package “raster”{]} with 12 slots>\\\\\n\t kauai   & hanalei        & /content/imagery/planet/2018/utm4/2018\\_hanalei\\_stack.tif        & <S4 class ‘RasterStack’ {[}package “raster”{]} with 12 slots>\\\\\n\t kauai   & huleia         & /content/imagery/planet/2018/utm4/2018\\_huleia\\_stack.tif         & <S4 class ‘RasterStack’ {[}package “raster”{]} with 12 slots>\\\\\n\t oahu    & kahuku         & /content/imagery/planet/2018/utm4/2018\\_kahuku\\_stack.tif         & <S4 class ‘RasterStack’ {[}package “raster”{]} with 12 slots>\\\\\n\t molokai & kakahaia       & /content/imagery/planet/2018/utm4/2018\\_kakahaia\\_stack.tif       & <S4 class ‘RasterStack’ {[}package “raster”{]} with 12 slots>\\\\\n\t molokai & kaluaapuhi     & /content/imagery/planet/2018/utm4/2018\\_kaluaapuhi\\_stack.tif     & <S4 class ‘RasterStack’ {[}package “raster”{]} with 12 slots>\\\\\n\t molokai & kamalo         & /content/imagery/planet/2018/utm4/2018\\_kamalo\\_stack.tif         & <S4 class ‘RasterStack’ {[}package “raster”{]} with 12 slots>\\\\\n\t maui    & kanaha         & /content/imagery/planet/2018/utm4/2018\\_kanaha\\_stack.tif         & <S4 class ‘RasterStack’ {[}package “raster”{]} with 12 slots>\\\\\n\t oahu    & kawainui       & /content/imagery/planet/2018/utm4/2018\\_kawainui\\_stack.tif       & <S4 class ‘RasterStack’ {[}package “raster”{]} with 12 slots>\\\\\n\t maui    & kealia         & /content/imagery/planet/2018/utm4/2018\\_kealia\\_stack.tif         & <S4 class ‘RasterStack’ {[}package “raster”{]} with 12 slots>\\\\\n\t kauai   & lumahai        & /content/imagery/planet/2018/utm4/2018\\_lumahai\\_stack.tif        & <S4 class ‘RasterStack’ {[}package “raster”{]} with 12 slots>\\\\\n\t maui    & paukukalo      & /content/imagery/planet/2018/utm4/2018\\_paukukalo\\_stack.tif      & <S4 class ‘RasterStack’ {[}package “raster”{]} with 12 slots>\\\\\n\t oahu    & pearl\\_harbor   & /content/imagery/planet/2018/utm4/2018\\_pearl\\_harbor\\_stack.tif   & <S4 class ‘RasterStack’ {[}package “raster”{]} with 12 slots>\\\\\n\t maui    & waihee         & /content/imagery/planet/2018/utm4/2018\\_waihee\\_stack.tif         & <S4 class ‘RasterStack’ {[}package “raster”{]} with 12 slots>\\\\\n\t kauai   & wailua\\_opaekaa & /content/imagery/planet/2018/utm4/2018\\_wailua\\_opaekaa\\_stack.tif & <S4 class ‘RasterStack’ {[}package “raster”{]} with 12 slots>\\\\\n\\end{tabular}\n",
            "text/plain": [
              "   island  location_name \n",
              "1  kauai   anahola       \n",
              "2  oahu    haleiwa       \n",
              "3  kauai   hanalei       \n",
              "4  kauai   huleia        \n",
              "5  oahu    kahuku        \n",
              "6  molokai kakahaia      \n",
              "7  molokai kaluaapuhi    \n",
              "8  molokai kamalo        \n",
              "9  maui    kanaha        \n",
              "10 oahu    kawainui      \n",
              "11 maui    kealia        \n",
              "12 kauai   lumahai       \n",
              "13 maui    paukukalo     \n",
              "14 oahu    pearl_harbor  \n",
              "15 maui    waihee        \n",
              "16 kauai   wailua_opaekaa\n",
              "   planet_file_path                                               \n",
              "1  /content/imagery/planet/2018/utm4/2018_anahola_stack.tif       \n",
              "2  /content/imagery/planet/2018/utm4/2018_haleiwa_stack.tif       \n",
              "3  /content/imagery/planet/2018/utm4/2018_hanalei_stack.tif       \n",
              "4  /content/imagery/planet/2018/utm4/2018_huleia_stack.tif        \n",
              "5  /content/imagery/planet/2018/utm4/2018_kahuku_stack.tif        \n",
              "6  /content/imagery/planet/2018/utm4/2018_kakahaia_stack.tif      \n",
              "7  /content/imagery/planet/2018/utm4/2018_kaluaapuhi_stack.tif    \n",
              "8  /content/imagery/planet/2018/utm4/2018_kamalo_stack.tif        \n",
              "9  /content/imagery/planet/2018/utm4/2018_kanaha_stack.tif        \n",
              "10 /content/imagery/planet/2018/utm4/2018_kawainui_stack.tif      \n",
              "11 /content/imagery/planet/2018/utm4/2018_kealia_stack.tif        \n",
              "12 /content/imagery/planet/2018/utm4/2018_lumahai_stack.tif       \n",
              "13 /content/imagery/planet/2018/utm4/2018_paukukalo_stack.tif     \n",
              "14 /content/imagery/planet/2018/utm4/2018_pearl_harbor_stack.tif  \n",
              "15 /content/imagery/planet/2018/utm4/2018_waihee_stack.tif        \n",
              "16 /content/imagery/planet/2018/utm4/2018_wailua_opaekaa_stack.tif\n",
              "   planet_raster                                            \n",
              "1  <S4 class ‘RasterStack’ [package “raster”] with 12 slots>\n",
              "2  <S4 class ‘RasterStack’ [package “raster”] with 12 slots>\n",
              "3  <S4 class ‘RasterStack’ [package “raster”] with 12 slots>\n",
              "4  <S4 class ‘RasterStack’ [package “raster”] with 12 slots>\n",
              "5  <S4 class ‘RasterStack’ [package “raster”] with 12 slots>\n",
              "6  <S4 class ‘RasterStack’ [package “raster”] with 12 slots>\n",
              "7  <S4 class ‘RasterStack’ [package “raster”] with 12 slots>\n",
              "8  <S4 class ‘RasterStack’ [package “raster”] with 12 slots>\n",
              "9  <S4 class ‘RasterStack’ [package “raster”] with 12 slots>\n",
              "10 <S4 class ‘RasterStack’ [package “raster”] with 12 slots>\n",
              "11 <S4 class ‘RasterStack’ [package “raster”] with 12 slots>\n",
              "12 <S4 class ‘RasterStack’ [package “raster”] with 12 slots>\n",
              "13 <S4 class ‘RasterStack’ [package “raster”] with 12 slots>\n",
              "14 <S4 class ‘RasterStack’ [package “raster”] with 12 slots>\n",
              "15 <S4 class ‘RasterStack’ [package “raster”] with 12 slots>\n",
              "16 <S4 class ‘RasterStack’ [package “raster”] with 12 slots>"
            ]
          },
          "metadata": {}
        }
      ]
    },
    {
      "cell_type": "markdown",
      "source": [
        "end"
      ],
      "metadata": {
        "id": "A9jsDKEcXYE4"
      }
    },
    {
      "cell_type": "code",
      "source": [
        "nwi_utm4 <- st_read(\"/content/workingfolder/nwi_utm4/nwi_utm4.gpkg\")"
      ],
      "metadata": {
        "colab": {
          "base_uri": "https://localhost:8080/"
        },
        "id": "1e-6TzQWw7W4",
        "outputId": "4ed06f92-8ea3-4a40-b994-88b2f282695b"
      },
      "execution_count": 65,
      "outputs": [
        {
          "output_type": "stream",
          "name": "stdout",
          "text": [
            "Reading layer `nwi_utm4_numeric' from data source \n",
            "  `/content/workingfolder/nwi_utm4/nwi_utm4.gpkg' using driver `GPKG'\n",
            "Simple feature collection with 10866 features and 8 fields\n",
            "Geometry type: MULTIPOLYGON\n",
            "Dimension:     XY\n",
            "Bounding box:  xmin: 412977.7 ymin: 2263072 xmax: 820600.7 ymax: 2464465\n",
            "Projected CRS: WGS 84 / UTM zone 4N\n"
          ]
        }
      ]
    },
    {
      "cell_type": "code",
      "source": [
        "nlcdImages <- raster(\"/content/workingfolder/nlcd/utm4/nlcd_utm4.tif\")\n",
        "nlcdImages"
      ],
      "metadata": {
        "colab": {
          "base_uri": "https://localhost:8080/",
          "height": 139
        },
        "id": "GCIyUzOExDxz",
        "outputId": "10f50fb6-33a7-439c-e059-4461e81f4f1e"
      },
      "execution_count": 66,
      "outputs": [
        {
          "output_type": "display_data",
          "data": {
            "text/plain": [
              "class      : RasterLayer \n",
              "dimensions : 6949, 14128, 98175472  (nrow, ncol, ncell)\n",
              "resolution : 29.46031, 30.52282  (x, y)\n",
              "extent     : 412944.2, 829159.5, 2255174, 2467277  (xmin, xmax, ymin, ymax)\n",
              "crs        : +proj=utm +zone=4 +datum=NAD83 +units=m +no_defs \n",
              "source     : nlcd_utm4.tif \n",
              "names      : nlcd_utm4 \n"
            ]
          },
          "metadata": {}
        }
      ]
    },
    {
      "cell_type": "code",
      "source": [
        "wetlandsVector <- st_read(\"/content/workingfolder/aoi/utm4/aoi_utm4.gpkg\")\n",
        "wetlandsVector"
      ],
      "metadata": {
        "colab": {
          "base_uri": "https://localhost:8080/",
          "height": 1000
        },
        "id": "LGXWE0lcw9qz",
        "outputId": "8e0db271-17e4-494a-b577-3faa78c2ef81"
      },
      "execution_count": 67,
      "outputs": [
        {
          "output_type": "stream",
          "name": "stdout",
          "text": [
            "Reading layer `aoi_wetland_4' from data source \n",
            "  `/content/workingfolder/aoi/utm4/aoi_utm4.gpkg' using driver `GPKG'\n",
            "Simple feature collection with 16 features and 6 fields\n",
            "Geometry type: MULTIPOLYGON\n",
            "Dimension:     XY\n",
            "Bounding box:  xmin: 444046 ymin: 2299914 xmax: 766191.9 ymax: 2457336\n",
            "Projected CRS: WGS 84 / UTM zone 4N\n"
          ]
        },
        {
          "output_type": "stream",
          "name": "stderr",
          "text": [
            "ERROR while rich displaying an object: Error in loadNamespace(x): there is no package called ‘geojsonio’\n",
            "\n",
            "Traceback:\n",
            "1. tryCatch(withCallingHandlers({\n",
            " .     if (!mime %in% names(repr::mime2repr)) \n",
            " .         stop(\"No repr_* for mimetype \", mime, \" in repr::mime2repr\")\n",
            " .     rpr <- repr::mime2repr[[mime]](obj)\n",
            " .     if (is.null(rpr)) \n",
            " .         return(NULL)\n",
            " .     prepare_content(is.raw(rpr), rpr)\n",
            " . }, error = error_handler), error = outer_handler)\n",
            "2. tryCatchList(expr, classes, parentenv, handlers)\n",
            "3. tryCatchOne(expr, names, parentenv, handlers[[1L]])\n",
            "4. doTryCatch(return(expr), name, parentenv, handler)\n",
            "5. withCallingHandlers({\n",
            " .     if (!mime %in% names(repr::mime2repr)) \n",
            " .         stop(\"No repr_* for mimetype \", mime, \" in repr::mime2repr\")\n",
            " .     rpr <- repr::mime2repr[[mime]](obj)\n",
            " .     if (is.null(rpr)) \n",
            " .         return(NULL)\n",
            " .     prepare_content(is.raw(rpr), rpr)\n",
            " . }, error = error_handler)\n",
            "6. repr::mime2repr[[mime]](obj)\n",
            "7. repr_geojson.sf(obj)\n",
            "8. repr_geojson(geojsonio::geojson_list(obj), ...)\n",
            "9. loadNamespace(x)\n",
            "10. withRestarts(stop(cond), retry_loadNamespace = function() NULL)\n",
            "11. withOneRestart(expr, restarts[[1L]])\n",
            "12. doWithOneRestart(return(expr), restart)\n"
          ]
        },
        {
          "output_type": "display_data",
          "data": {
            "text/html": [
              "<table class=\"dataframe\">\n",
              "<caption>A sf: 16 × 7</caption>\n",
              "<thead>\n",
              "\t<tr><th scope=col>id</th><th scope=col>island</th><th scope=col>name</th><th scope=col>lumahai</th><th scope=col>layer</th><th scope=col>path</th><th scope=col>geom</th></tr>\n",
              "\t<tr><th scope=col>&lt;dbl&gt;</th><th scope=col>&lt;chr&gt;</th><th scope=col>&lt;chr&gt;</th><th scope=col>&lt;dbl&gt;</th><th scope=col>&lt;chr&gt;</th><th scope=col>&lt;chr&gt;</th><th scope=col>&lt;MULTIPOLYGON [m]&gt;</th></tr>\n",
              "</thead>\n",
              "<tbody>\n",
              "\t<tr><td> 1</td><td>NA  </td><td>NA            </td><td>NA</td><td>anahola       </td><td>E:/Data/AOI_Shapefiles/kauai/anahola.shp       </td><td>MULTIPOLYGON (((467439.4 24...</td></tr>\n",
              "\t<tr><td> 1</td><td>NA  </td><td>NA            </td><td>NA</td><td>haleiwa       </td><td>E:/Data/AOI_Shapefiles/oahu/haleiwa.shp        </td><td>MULTIPOLYGON (((590409.2 23...</td></tr>\n",
              "\t<tr><td> 1</td><td>NA  </td><td>NA            </td><td>NA</td><td>hanalei       </td><td>E:/Data/AOI_Shapefiles/kauai/hanalei.shp       </td><td>MULTIPOLYGON (((445906 2451...</td></tr>\n",
              "\t<tr><td> 1</td><td>NA  </td><td>NA            </td><td>NA</td><td>huleia        </td><td>E:/Data/AOI_Shapefiles/kauai/huleia.shp        </td><td>MULTIPOLYGON (((459399.5 24...</td></tr>\n",
              "\t<tr><td> 1</td><td>NA  </td><td>NA            </td><td>NA</td><td>kahuku        </td><td>E:/Data/AOI_Shapefiles/oahu/kahuku.shp         </td><td>MULTIPOLYGON (((602662.2 23...</td></tr>\n",
              "\t<tr><td> 1</td><td>NA  </td><td>NA            </td><td>NA</td><td>kakahaia      </td><td>E:/Data/AOI_Shapefiles/molokai/kakahaia.shp    </td><td>MULTIPOLYGON (((712686.8 23...</td></tr>\n",
              "\t<tr><td> 1</td><td>NA  </td><td>NA            </td><td>NA</td><td>kaluaapuhi    </td><td>E:/Data/AOI_Shapefiles/molokai/kaluaapuhi.shp  </td><td>MULTIPOLYGON (((694186.8 23...</td></tr>\n",
              "\t<tr><td> 1</td><td>NA  </td><td>NA            </td><td>NA</td><td>kamalo        </td><td>E:/Data/AOI_Shapefiles/molokai/kamalo.shp      </td><td>MULTIPOLYGON (((718784.3 23...</td></tr>\n",
              "\t<tr><td> 1</td><td>NA  </td><td>NA            </td><td>NA</td><td>kanaha        </td><td>E:/Data/AOI_Shapefiles/maui/kanaha.shp         </td><td>MULTIPOLYGON (((763679.9 23...</td></tr>\n",
              "\t<tr><td> 1</td><td>oahu</td><td>kawainui marsh</td><td>NA</td><td>kawainui_marsh</td><td>E:/Data/AOI_Shapefiles/oahu/kawainui_marsh.shp </td><td>MULTIPOLYGON (((625876.9 23...</td></tr>\n",
              "\t<tr><td> 1</td><td>NA  </td><td>NA            </td><td>NA</td><td>kealia        </td><td>E:/Data/AOI_Shapefiles/maui/kealia.shp         </td><td>MULTIPOLYGON (((759252.1 22...</td></tr>\n",
              "\t<tr><td>NA</td><td>NA  </td><td>NA            </td><td> 1</td><td>lumahai       </td><td>E:/Data/AOI_Shapefiles/kauai/lumahai.shp       </td><td>MULTIPOLYGON (((444046 2452...</td></tr>\n",
              "\t<tr><td> 1</td><td>NA  </td><td>NA            </td><td>NA</td><td>paukukalo     </td><td>E:/Data/AOI_Shapefiles/maui/paukukalo.shp      </td><td>MULTIPOLYGON (((758616.3 23...</td></tr>\n",
              "\t<tr><td> 1</td><td>NA  </td><td>NA            </td><td>NA</td><td>pearl_harbor  </td><td>E:/Data/AOI_Shapefiles/oahu/pearl_harbor.shp   </td><td>MULTIPOLYGON (((599581.1 23...</td></tr>\n",
              "\t<tr><td> 1</td><td>NA  </td><td>NA            </td><td>NA</td><td>waihee        </td><td>E:/Data/AOI_Shapefiles/maui/waihee.shp         </td><td>MULTIPOLYGON (((757873.3 23...</td></tr>\n",
              "\t<tr><td> 1</td><td>NA  </td><td>NA            </td><td>NA</td><td>wailua_opaekaa</td><td>E:/Data/AOI_Shapefiles/kauai/wailua_opaekaa.shp</td><td>MULTIPOLYGON (((464124.8 24...</td></tr>\n",
              "</tbody>\n",
              "</table>\n"
            ],
            "text/markdown": "\nA sf: 16 × 7\n\n| id &lt;dbl&gt; | island &lt;chr&gt; | name &lt;chr&gt; | lumahai &lt;dbl&gt; | layer &lt;chr&gt; | path &lt;chr&gt; | geom &lt;MULTIPOLYGON [m]&gt; |\n|---|---|---|---|---|---|---|\n|  1 | NA   | NA             | NA | anahola        | E:/Data/AOI_Shapefiles/kauai/anahola.shp        | MULTIPOLYGON (((467439.4 24... |\n|  1 | NA   | NA             | NA | haleiwa        | E:/Data/AOI_Shapefiles/oahu/haleiwa.shp         | MULTIPOLYGON (((590409.2 23... |\n|  1 | NA   | NA             | NA | hanalei        | E:/Data/AOI_Shapefiles/kauai/hanalei.shp        | MULTIPOLYGON (((445906 2451... |\n|  1 | NA   | NA             | NA | huleia         | E:/Data/AOI_Shapefiles/kauai/huleia.shp         | MULTIPOLYGON (((459399.5 24... |\n|  1 | NA   | NA             | NA | kahuku         | E:/Data/AOI_Shapefiles/oahu/kahuku.shp          | MULTIPOLYGON (((602662.2 23... |\n|  1 | NA   | NA             | NA | kakahaia       | E:/Data/AOI_Shapefiles/molokai/kakahaia.shp     | MULTIPOLYGON (((712686.8 23... |\n|  1 | NA   | NA             | NA | kaluaapuhi     | E:/Data/AOI_Shapefiles/molokai/kaluaapuhi.shp   | MULTIPOLYGON (((694186.8 23... |\n|  1 | NA   | NA             | NA | kamalo         | E:/Data/AOI_Shapefiles/molokai/kamalo.shp       | MULTIPOLYGON (((718784.3 23... |\n|  1 | NA   | NA             | NA | kanaha         | E:/Data/AOI_Shapefiles/maui/kanaha.shp          | MULTIPOLYGON (((763679.9 23... |\n|  1 | oahu | kawainui marsh | NA | kawainui_marsh | E:/Data/AOI_Shapefiles/oahu/kawainui_marsh.shp  | MULTIPOLYGON (((625876.9 23... |\n|  1 | NA   | NA             | NA | kealia         | E:/Data/AOI_Shapefiles/maui/kealia.shp          | MULTIPOLYGON (((759252.1 22... |\n| NA | NA   | NA             |  1 | lumahai        | E:/Data/AOI_Shapefiles/kauai/lumahai.shp        | MULTIPOLYGON (((444046 2452... |\n|  1 | NA   | NA             | NA | paukukalo      | E:/Data/AOI_Shapefiles/maui/paukukalo.shp       | MULTIPOLYGON (((758616.3 23... |\n|  1 | NA   | NA             | NA | pearl_harbor   | E:/Data/AOI_Shapefiles/oahu/pearl_harbor.shp    | MULTIPOLYGON (((599581.1 23... |\n|  1 | NA   | NA             | NA | waihee         | E:/Data/AOI_Shapefiles/maui/waihee.shp          | MULTIPOLYGON (((757873.3 23... |\n|  1 | NA   | NA             | NA | wailua_opaekaa | E:/Data/AOI_Shapefiles/kauai/wailua_opaekaa.shp | MULTIPOLYGON (((464124.8 24... |\n\n",
            "text/latex": "A sf: 16 × 7\n\\begin{tabular}{lllllll}\n id & island & name & lumahai & layer & path & geom\\\\\n <dbl> & <chr> & <chr> & <dbl> & <chr> & <chr> & <MULTIPOLYGON {[}m{]}>\\\\\n\\hline\n\t  1 & NA   & NA             & NA & anahola        & E:/Data/AOI\\_Shapefiles/kauai/anahola.shp        & MULTIPOLYGON (((467439.4 24...\\\\\n\t  1 & NA   & NA             & NA & haleiwa        & E:/Data/AOI\\_Shapefiles/oahu/haleiwa.shp         & MULTIPOLYGON (((590409.2 23...\\\\\n\t  1 & NA   & NA             & NA & hanalei        & E:/Data/AOI\\_Shapefiles/kauai/hanalei.shp        & MULTIPOLYGON (((445906 2451...\\\\\n\t  1 & NA   & NA             & NA & huleia         & E:/Data/AOI\\_Shapefiles/kauai/huleia.shp         & MULTIPOLYGON (((459399.5 24...\\\\\n\t  1 & NA   & NA             & NA & kahuku         & E:/Data/AOI\\_Shapefiles/oahu/kahuku.shp          & MULTIPOLYGON (((602662.2 23...\\\\\n\t  1 & NA   & NA             & NA & kakahaia       & E:/Data/AOI\\_Shapefiles/molokai/kakahaia.shp     & MULTIPOLYGON (((712686.8 23...\\\\\n\t  1 & NA   & NA             & NA & kaluaapuhi     & E:/Data/AOI\\_Shapefiles/molokai/kaluaapuhi.shp   & MULTIPOLYGON (((694186.8 23...\\\\\n\t  1 & NA   & NA             & NA & kamalo         & E:/Data/AOI\\_Shapefiles/molokai/kamalo.shp       & MULTIPOLYGON (((718784.3 23...\\\\\n\t  1 & NA   & NA             & NA & kanaha         & E:/Data/AOI\\_Shapefiles/maui/kanaha.shp          & MULTIPOLYGON (((763679.9 23...\\\\\n\t  1 & oahu & kawainui marsh & NA & kawainui\\_marsh & E:/Data/AOI\\_Shapefiles/oahu/kawainui\\_marsh.shp  & MULTIPOLYGON (((625876.9 23...\\\\\n\t  1 & NA   & NA             & NA & kealia         & E:/Data/AOI\\_Shapefiles/maui/kealia.shp          & MULTIPOLYGON (((759252.1 22...\\\\\n\t NA & NA   & NA             &  1 & lumahai        & E:/Data/AOI\\_Shapefiles/kauai/lumahai.shp        & MULTIPOLYGON (((444046 2452...\\\\\n\t  1 & NA   & NA             & NA & paukukalo      & E:/Data/AOI\\_Shapefiles/maui/paukukalo.shp       & MULTIPOLYGON (((758616.3 23...\\\\\n\t  1 & NA   & NA             & NA & pearl\\_harbor   & E:/Data/AOI\\_Shapefiles/oahu/pearl\\_harbor.shp    & MULTIPOLYGON (((599581.1 23...\\\\\n\t  1 & NA   & NA             & NA & waihee         & E:/Data/AOI\\_Shapefiles/maui/waihee.shp          & MULTIPOLYGON (((757873.3 23...\\\\\n\t  1 & NA   & NA             & NA & wailua\\_opaekaa & E:/Data/AOI\\_Shapefiles/kauai/wailua\\_opaekaa.shp & MULTIPOLYGON (((464124.8 24...\\\\\n\\end{tabular}\n",
            "text/plain": [
              "   id island name           lumahai layer         \n",
              "1   1 NA     NA             NA      anahola       \n",
              "2   1 NA     NA             NA      haleiwa       \n",
              "3   1 NA     NA             NA      hanalei       \n",
              "4   1 NA     NA             NA      huleia        \n",
              "5   1 NA     NA             NA      kahuku        \n",
              "6   1 NA     NA             NA      kakahaia      \n",
              "7   1 NA     NA             NA      kaluaapuhi    \n",
              "8   1 NA     NA             NA      kamalo        \n",
              "9   1 NA     NA             NA      kanaha        \n",
              "10  1 oahu   kawainui marsh NA      kawainui_marsh\n",
              "11  1 NA     NA             NA      kealia        \n",
              "12 NA NA     NA              1      lumahai       \n",
              "13  1 NA     NA             NA      paukukalo     \n",
              "14  1 NA     NA             NA      pearl_harbor  \n",
              "15  1 NA     NA             NA      waihee        \n",
              "16  1 NA     NA             NA      wailua_opaekaa\n",
              "   path                                           \n",
              "1  E:/Data/AOI_Shapefiles/kauai/anahola.shp       \n",
              "2  E:/Data/AOI_Shapefiles/oahu/haleiwa.shp        \n",
              "3  E:/Data/AOI_Shapefiles/kauai/hanalei.shp       \n",
              "4  E:/Data/AOI_Shapefiles/kauai/huleia.shp        \n",
              "5  E:/Data/AOI_Shapefiles/oahu/kahuku.shp         \n",
              "6  E:/Data/AOI_Shapefiles/molokai/kakahaia.shp    \n",
              "7  E:/Data/AOI_Shapefiles/molokai/kaluaapuhi.shp  \n",
              "8  E:/Data/AOI_Shapefiles/molokai/kamalo.shp      \n",
              "9  E:/Data/AOI_Shapefiles/maui/kanaha.shp         \n",
              "10 E:/Data/AOI_Shapefiles/oahu/kawainui_marsh.shp \n",
              "11 E:/Data/AOI_Shapefiles/maui/kealia.shp         \n",
              "12 E:/Data/AOI_Shapefiles/kauai/lumahai.shp       \n",
              "13 E:/Data/AOI_Shapefiles/maui/paukukalo.shp      \n",
              "14 E:/Data/AOI_Shapefiles/oahu/pearl_harbor.shp   \n",
              "15 E:/Data/AOI_Shapefiles/maui/waihee.shp         \n",
              "16 E:/Data/AOI_Shapefiles/kauai/wailua_opaekaa.shp\n",
              "   geom                          \n",
              "1  MULTIPOLYGON (((467439.4 24...\n",
              "2  MULTIPOLYGON (((590409.2 23...\n",
              "3  MULTIPOLYGON (((445906 2451...\n",
              "4  MULTIPOLYGON (((459399.5 24...\n",
              "5  MULTIPOLYGON (((602662.2 23...\n",
              "6  MULTIPOLYGON (((712686.8 23...\n",
              "7  MULTIPOLYGON (((694186.8 23...\n",
              "8  MULTIPOLYGON (((718784.3 23...\n",
              "9  MULTIPOLYGON (((763679.9 23...\n",
              "10 MULTIPOLYGON (((625876.9 23...\n",
              "11 MULTIPOLYGON (((759252.1 22...\n",
              "12 MULTIPOLYGON (((444046 2452...\n",
              "13 MULTIPOLYGON (((758616.3 23...\n",
              "14 MULTIPOLYGON (((599581.1 23...\n",
              "15 MULTIPOLYGON (((757873.3 23...\n",
              "16 MULTIPOLYGON (((464124.8 24..."
            ]
          },
          "metadata": {}
        }
      ]
    },
    {
      "cell_type": "code",
      "source": [
        "class(wetlandsVector)"
      ],
      "metadata": {
        "colab": {
          "base_uri": "https://localhost:8080/",
          "height": 34
        },
        "id": "R6ZDZM-NxTLD",
        "outputId": "5b578a2c-ff49-4cfa-d4ad-66ecd3d36828"
      },
      "execution_count": 45,
      "outputs": [
        {
          "output_type": "display_data",
          "data": {
            "text/html": [
              "<style>\n",
              ".list-inline {list-style: none; margin:0; padding: 0}\n",
              ".list-inline>li {display: inline-block}\n",
              ".list-inline>li:not(:last-child)::after {content: \"\\00b7\"; padding: 0 .5ex}\n",
              "</style>\n",
              "<ol class=list-inline><li>'sf'</li><li>'data.frame'</li></ol>\n"
            ],
            "text/markdown": "1. 'sf'\n2. 'data.frame'\n\n\n",
            "text/latex": "\\begin{enumerate*}\n\\item 'sf'\n\\item 'data.frame'\n\\end{enumerate*}\n",
            "text/plain": [
              "[1] \"sf\"         \"data.frame\""
            ]
          },
          "metadata": {}
        }
      ]
    },
    {
      "cell_type": "code",
      "source": [
        "wetlandsVector_dataTable <- as.data.table(wetlandsVector)"
      ],
      "metadata": {
        "id": "L7MXW_ewxXFp"
      },
      "execution_count": 46,
      "outputs": []
    },
    {
      "cell_type": "code",
      "source": [
        "class(wetlandsVector_dataTable)"
      ],
      "metadata": {
        "colab": {
          "base_uri": "https://localhost:8080/",
          "height": 34
        },
        "id": "7NuQ0CNzxb2Z",
        "outputId": "eb27cd3c-5ef8-4080-b893-0318aca27afa"
      },
      "execution_count": 47,
      "outputs": [
        {
          "output_type": "display_data",
          "data": {
            "text/html": [
              "<style>\n",
              ".list-inline {list-style: none; margin:0; padding: 0}\n",
              ".list-inline>li {display: inline-block}\n",
              ".list-inline>li:not(:last-child)::after {content: \"\\00b7\"; padding: 0 .5ex}\n",
              "</style>\n",
              "<ol class=list-inline><li>'data.table'</li><li>'data.frame'</li></ol>\n"
            ],
            "text/markdown": "1. 'data.table'\n2. 'data.frame'\n\n\n",
            "text/latex": "\\begin{enumerate*}\n\\item 'data.table'\n\\item 'data.frame'\n\\end{enumerate*}\n",
            "text/plain": [
              "[1] \"data.table\" \"data.frame\""
            ]
          },
          "metadata": {}
        }
      ]
    },
    {
      "cell_type": "code",
      "source": [
        "wetlandsVector_dataTable[,island:= path %>% substr(24,1000) %>% gsub('.shp','',.) %>% gsub(layer,'',.) %>% gsub('/','',.),by=1:nrow(wetlandsVector_dataTable)]\n"
      ],
      "metadata": {
        "id": "6yOaNzhS0jI3"
      },
      "execution_count": 48,
      "outputs": []
    },
    {
      "cell_type": "code",
      "source": [
        "class(wetlandsVector_dataTable)\n"
      ],
      "metadata": {
        "colab": {
          "base_uri": "https://localhost:8080/",
          "height": 34
        },
        "id": "QzkEoH7d0lLR",
        "outputId": "bcb8da8d-223c-40c3-f5ae-bd1b5a7acbbb"
      },
      "execution_count": 50,
      "outputs": [
        {
          "output_type": "display_data",
          "data": {
            "text/html": [
              "<style>\n",
              ".list-inline {list-style: none; margin:0; padding: 0}\n",
              ".list-inline>li {display: inline-block}\n",
              ".list-inline>li:not(:last-child)::after {content: \"\\00b7\"; padding: 0 .5ex}\n",
              "</style>\n",
              "<ol class=list-inline><li>'data.table'</li><li>'data.frame'</li></ol>\n"
            ],
            "text/markdown": "1. 'data.table'\n2. 'data.frame'\n\n\n",
            "text/latex": "\\begin{enumerate*}\n\\item 'data.table'\n\\item 'data.frame'\n\\end{enumerate*}\n",
            "text/plain": [
              "[1] \"data.table\" \"data.frame\""
            ]
          },
          "metadata": {}
        }
      ]
    },
    {
      "cell_type": "code",
      "source": [
        "wetlandsVector <- wetlandsVector_dataTable %>% st_as_sf\n"
      ],
      "metadata": {
        "id": "ATIlfc4Z0riu"
      },
      "execution_count": 51,
      "outputs": []
    },
    {
      "cell_type": "code",
      "source": [
        "class(wetlandsVector)"
      ],
      "metadata": {
        "colab": {
          "base_uri": "https://localhost:8080/",
          "height": 34
        },
        "id": "jPSoHoQL0uoV",
        "outputId": "5b28fbc8-4bbb-4100-b31d-f7224d4bcad8"
      },
      "execution_count": 53,
      "outputs": [
        {
          "output_type": "display_data",
          "data": {
            "text/html": [
              "<style>\n",
              ".list-inline {list-style: none; margin:0; padding: 0}\n",
              ".list-inline>li {display: inline-block}\n",
              ".list-inline>li:not(:last-child)::after {content: \"\\00b7\"; padding: 0 .5ex}\n",
              "</style>\n",
              "<ol class=list-inline><li>'sf'</li><li>'data.table'</li><li>'data.frame'</li></ol>\n"
            ],
            "text/markdown": "1. 'sf'\n2. 'data.table'\n3. 'data.frame'\n\n\n",
            "text/latex": "\\begin{enumerate*}\n\\item 'sf'\n\\item 'data.table'\n\\item 'data.frame'\n\\end{enumerate*}\n",
            "text/plain": [
              "[1] \"sf\"         \"data.table\" \"data.frame\""
            ]
          },
          "metadata": {}
        }
      ]
    },
    {
      "cell_type": "code",
      "source": [
        "wetlandsVector"
      ],
      "metadata": {
        "colab": {
          "base_uri": "https://localhost:8080/",
          "height": 1000
        },
        "id": "3tq_rNjJ5H6N",
        "outputId": "13443027-55dc-4fe8-f419-f33435ad8d31"
      },
      "execution_count": 68,
      "outputs": [
        {
          "output_type": "stream",
          "name": "stderr",
          "text": [
            "ERROR while rich displaying an object: Error in loadNamespace(x): there is no package called ‘geojsonio’\n",
            "\n",
            "Traceback:\n",
            "1. tryCatch(withCallingHandlers({\n",
            " .     if (!mime %in% names(repr::mime2repr)) \n",
            " .         stop(\"No repr_* for mimetype \", mime, \" in repr::mime2repr\")\n",
            " .     rpr <- repr::mime2repr[[mime]](obj)\n",
            " .     if (is.null(rpr)) \n",
            " .         return(NULL)\n",
            " .     prepare_content(is.raw(rpr), rpr)\n",
            " . }, error = error_handler), error = outer_handler)\n",
            "2. tryCatchList(expr, classes, parentenv, handlers)\n",
            "3. tryCatchOne(expr, names, parentenv, handlers[[1L]])\n",
            "4. doTryCatch(return(expr), name, parentenv, handler)\n",
            "5. withCallingHandlers({\n",
            " .     if (!mime %in% names(repr::mime2repr)) \n",
            " .         stop(\"No repr_* for mimetype \", mime, \" in repr::mime2repr\")\n",
            " .     rpr <- repr::mime2repr[[mime]](obj)\n",
            " .     if (is.null(rpr)) \n",
            " .         return(NULL)\n",
            " .     prepare_content(is.raw(rpr), rpr)\n",
            " . }, error = error_handler)\n",
            "6. repr::mime2repr[[mime]](obj)\n",
            "7. repr_geojson.sf(obj)\n",
            "8. repr_geojson(geojsonio::geojson_list(obj), ...)\n",
            "9. loadNamespace(x)\n",
            "10. withRestarts(stop(cond), retry_loadNamespace = function() NULL)\n",
            "11. withOneRestart(expr, restarts[[1L]])\n",
            "12. doWithOneRestart(return(expr), restart)\n"
          ]
        },
        {
          "output_type": "display_data",
          "data": {
            "text/html": [
              "<table class=\"dataframe\">\n",
              "<caption>A sf: 16 × 7</caption>\n",
              "<thead>\n",
              "\t<tr><th scope=col>id</th><th scope=col>island</th><th scope=col>name</th><th scope=col>lumahai</th><th scope=col>layer</th><th scope=col>path</th><th scope=col>geom</th></tr>\n",
              "\t<tr><th scope=col>&lt;dbl&gt;</th><th scope=col>&lt;chr&gt;</th><th scope=col>&lt;chr&gt;</th><th scope=col>&lt;dbl&gt;</th><th scope=col>&lt;chr&gt;</th><th scope=col>&lt;chr&gt;</th><th scope=col>&lt;MULTIPOLYGON [m]&gt;</th></tr>\n",
              "</thead>\n",
              "<tbody>\n",
              "\t<tr><td> 1</td><td>NA  </td><td>NA            </td><td>NA</td><td>anahola       </td><td>E:/Data/AOI_Shapefiles/kauai/anahola.shp       </td><td>MULTIPOLYGON (((467439.4 24...</td></tr>\n",
              "\t<tr><td> 1</td><td>NA  </td><td>NA            </td><td>NA</td><td>haleiwa       </td><td>E:/Data/AOI_Shapefiles/oahu/haleiwa.shp        </td><td>MULTIPOLYGON (((590409.2 23...</td></tr>\n",
              "\t<tr><td> 1</td><td>NA  </td><td>NA            </td><td>NA</td><td>hanalei       </td><td>E:/Data/AOI_Shapefiles/kauai/hanalei.shp       </td><td>MULTIPOLYGON (((445906 2451...</td></tr>\n",
              "\t<tr><td> 1</td><td>NA  </td><td>NA            </td><td>NA</td><td>huleia        </td><td>E:/Data/AOI_Shapefiles/kauai/huleia.shp        </td><td>MULTIPOLYGON (((459399.5 24...</td></tr>\n",
              "\t<tr><td> 1</td><td>NA  </td><td>NA            </td><td>NA</td><td>kahuku        </td><td>E:/Data/AOI_Shapefiles/oahu/kahuku.shp         </td><td>MULTIPOLYGON (((602662.2 23...</td></tr>\n",
              "\t<tr><td> 1</td><td>NA  </td><td>NA            </td><td>NA</td><td>kakahaia      </td><td>E:/Data/AOI_Shapefiles/molokai/kakahaia.shp    </td><td>MULTIPOLYGON (((712686.8 23...</td></tr>\n",
              "\t<tr><td> 1</td><td>NA  </td><td>NA            </td><td>NA</td><td>kaluaapuhi    </td><td>E:/Data/AOI_Shapefiles/molokai/kaluaapuhi.shp  </td><td>MULTIPOLYGON (((694186.8 23...</td></tr>\n",
              "\t<tr><td> 1</td><td>NA  </td><td>NA            </td><td>NA</td><td>kamalo        </td><td>E:/Data/AOI_Shapefiles/molokai/kamalo.shp      </td><td>MULTIPOLYGON (((718784.3 23...</td></tr>\n",
              "\t<tr><td> 1</td><td>NA  </td><td>NA            </td><td>NA</td><td>kanaha        </td><td>E:/Data/AOI_Shapefiles/maui/kanaha.shp         </td><td>MULTIPOLYGON (((763679.9 23...</td></tr>\n",
              "\t<tr><td> 1</td><td>oahu</td><td>kawainui marsh</td><td>NA</td><td>kawainui_marsh</td><td>E:/Data/AOI_Shapefiles/oahu/kawainui_marsh.shp </td><td>MULTIPOLYGON (((625876.9 23...</td></tr>\n",
              "\t<tr><td> 1</td><td>NA  </td><td>NA            </td><td>NA</td><td>kealia        </td><td>E:/Data/AOI_Shapefiles/maui/kealia.shp         </td><td>MULTIPOLYGON (((759252.1 22...</td></tr>\n",
              "\t<tr><td>NA</td><td>NA  </td><td>NA            </td><td> 1</td><td>lumahai       </td><td>E:/Data/AOI_Shapefiles/kauai/lumahai.shp       </td><td>MULTIPOLYGON (((444046 2452...</td></tr>\n",
              "\t<tr><td> 1</td><td>NA  </td><td>NA            </td><td>NA</td><td>paukukalo     </td><td>E:/Data/AOI_Shapefiles/maui/paukukalo.shp      </td><td>MULTIPOLYGON (((758616.3 23...</td></tr>\n",
              "\t<tr><td> 1</td><td>NA  </td><td>NA            </td><td>NA</td><td>pearl_harbor  </td><td>E:/Data/AOI_Shapefiles/oahu/pearl_harbor.shp   </td><td>MULTIPOLYGON (((599581.1 23...</td></tr>\n",
              "\t<tr><td> 1</td><td>NA  </td><td>NA            </td><td>NA</td><td>waihee        </td><td>E:/Data/AOI_Shapefiles/maui/waihee.shp         </td><td>MULTIPOLYGON (((757873.3 23...</td></tr>\n",
              "\t<tr><td> 1</td><td>NA  </td><td>NA            </td><td>NA</td><td>wailua_opaekaa</td><td>E:/Data/AOI_Shapefiles/kauai/wailua_opaekaa.shp</td><td>MULTIPOLYGON (((464124.8 24...</td></tr>\n",
              "</tbody>\n",
              "</table>\n"
            ],
            "text/markdown": "\nA sf: 16 × 7\n\n| id &lt;dbl&gt; | island &lt;chr&gt; | name &lt;chr&gt; | lumahai &lt;dbl&gt; | layer &lt;chr&gt; | path &lt;chr&gt; | geom &lt;MULTIPOLYGON [m]&gt; |\n|---|---|---|---|---|---|---|\n|  1 | NA   | NA             | NA | anahola        | E:/Data/AOI_Shapefiles/kauai/anahola.shp        | MULTIPOLYGON (((467439.4 24... |\n|  1 | NA   | NA             | NA | haleiwa        | E:/Data/AOI_Shapefiles/oahu/haleiwa.shp         | MULTIPOLYGON (((590409.2 23... |\n|  1 | NA   | NA             | NA | hanalei        | E:/Data/AOI_Shapefiles/kauai/hanalei.shp        | MULTIPOLYGON (((445906 2451... |\n|  1 | NA   | NA             | NA | huleia         | E:/Data/AOI_Shapefiles/kauai/huleia.shp         | MULTIPOLYGON (((459399.5 24... |\n|  1 | NA   | NA             | NA | kahuku         | E:/Data/AOI_Shapefiles/oahu/kahuku.shp          | MULTIPOLYGON (((602662.2 23... |\n|  1 | NA   | NA             | NA | kakahaia       | E:/Data/AOI_Shapefiles/molokai/kakahaia.shp     | MULTIPOLYGON (((712686.8 23... |\n|  1 | NA   | NA             | NA | kaluaapuhi     | E:/Data/AOI_Shapefiles/molokai/kaluaapuhi.shp   | MULTIPOLYGON (((694186.8 23... |\n|  1 | NA   | NA             | NA | kamalo         | E:/Data/AOI_Shapefiles/molokai/kamalo.shp       | MULTIPOLYGON (((718784.3 23... |\n|  1 | NA   | NA             | NA | kanaha         | E:/Data/AOI_Shapefiles/maui/kanaha.shp          | MULTIPOLYGON (((763679.9 23... |\n|  1 | oahu | kawainui marsh | NA | kawainui_marsh | E:/Data/AOI_Shapefiles/oahu/kawainui_marsh.shp  | MULTIPOLYGON (((625876.9 23... |\n|  1 | NA   | NA             | NA | kealia         | E:/Data/AOI_Shapefiles/maui/kealia.shp          | MULTIPOLYGON (((759252.1 22... |\n| NA | NA   | NA             |  1 | lumahai        | E:/Data/AOI_Shapefiles/kauai/lumahai.shp        | MULTIPOLYGON (((444046 2452... |\n|  1 | NA   | NA             | NA | paukukalo      | E:/Data/AOI_Shapefiles/maui/paukukalo.shp       | MULTIPOLYGON (((758616.3 23... |\n|  1 | NA   | NA             | NA | pearl_harbor   | E:/Data/AOI_Shapefiles/oahu/pearl_harbor.shp    | MULTIPOLYGON (((599581.1 23... |\n|  1 | NA   | NA             | NA | waihee         | E:/Data/AOI_Shapefiles/maui/waihee.shp          | MULTIPOLYGON (((757873.3 23... |\n|  1 | NA   | NA             | NA | wailua_opaekaa | E:/Data/AOI_Shapefiles/kauai/wailua_opaekaa.shp | MULTIPOLYGON (((464124.8 24... |\n\n",
            "text/latex": "A sf: 16 × 7\n\\begin{tabular}{lllllll}\n id & island & name & lumahai & layer & path & geom\\\\\n <dbl> & <chr> & <chr> & <dbl> & <chr> & <chr> & <MULTIPOLYGON {[}m{]}>\\\\\n\\hline\n\t  1 & NA   & NA             & NA & anahola        & E:/Data/AOI\\_Shapefiles/kauai/anahola.shp        & MULTIPOLYGON (((467439.4 24...\\\\\n\t  1 & NA   & NA             & NA & haleiwa        & E:/Data/AOI\\_Shapefiles/oahu/haleiwa.shp         & MULTIPOLYGON (((590409.2 23...\\\\\n\t  1 & NA   & NA             & NA & hanalei        & E:/Data/AOI\\_Shapefiles/kauai/hanalei.shp        & MULTIPOLYGON (((445906 2451...\\\\\n\t  1 & NA   & NA             & NA & huleia         & E:/Data/AOI\\_Shapefiles/kauai/huleia.shp         & MULTIPOLYGON (((459399.5 24...\\\\\n\t  1 & NA   & NA             & NA & kahuku         & E:/Data/AOI\\_Shapefiles/oahu/kahuku.shp          & MULTIPOLYGON (((602662.2 23...\\\\\n\t  1 & NA   & NA             & NA & kakahaia       & E:/Data/AOI\\_Shapefiles/molokai/kakahaia.shp     & MULTIPOLYGON (((712686.8 23...\\\\\n\t  1 & NA   & NA             & NA & kaluaapuhi     & E:/Data/AOI\\_Shapefiles/molokai/kaluaapuhi.shp   & MULTIPOLYGON (((694186.8 23...\\\\\n\t  1 & NA   & NA             & NA & kamalo         & E:/Data/AOI\\_Shapefiles/molokai/kamalo.shp       & MULTIPOLYGON (((718784.3 23...\\\\\n\t  1 & NA   & NA             & NA & kanaha         & E:/Data/AOI\\_Shapefiles/maui/kanaha.shp          & MULTIPOLYGON (((763679.9 23...\\\\\n\t  1 & oahu & kawainui marsh & NA & kawainui\\_marsh & E:/Data/AOI\\_Shapefiles/oahu/kawainui\\_marsh.shp  & MULTIPOLYGON (((625876.9 23...\\\\\n\t  1 & NA   & NA             & NA & kealia         & E:/Data/AOI\\_Shapefiles/maui/kealia.shp          & MULTIPOLYGON (((759252.1 22...\\\\\n\t NA & NA   & NA             &  1 & lumahai        & E:/Data/AOI\\_Shapefiles/kauai/lumahai.shp        & MULTIPOLYGON (((444046 2452...\\\\\n\t  1 & NA   & NA             & NA & paukukalo      & E:/Data/AOI\\_Shapefiles/maui/paukukalo.shp       & MULTIPOLYGON (((758616.3 23...\\\\\n\t  1 & NA   & NA             & NA & pearl\\_harbor   & E:/Data/AOI\\_Shapefiles/oahu/pearl\\_harbor.shp    & MULTIPOLYGON (((599581.1 23...\\\\\n\t  1 & NA   & NA             & NA & waihee         & E:/Data/AOI\\_Shapefiles/maui/waihee.shp          & MULTIPOLYGON (((757873.3 23...\\\\\n\t  1 & NA   & NA             & NA & wailua\\_opaekaa & E:/Data/AOI\\_Shapefiles/kauai/wailua\\_opaekaa.shp & MULTIPOLYGON (((464124.8 24...\\\\\n\\end{tabular}\n",
            "text/plain": [
              "   id island name           lumahai layer         \n",
              "1   1 NA     NA             NA      anahola       \n",
              "2   1 NA     NA             NA      haleiwa       \n",
              "3   1 NA     NA             NA      hanalei       \n",
              "4   1 NA     NA             NA      huleia        \n",
              "5   1 NA     NA             NA      kahuku        \n",
              "6   1 NA     NA             NA      kakahaia      \n",
              "7   1 NA     NA             NA      kaluaapuhi    \n",
              "8   1 NA     NA             NA      kamalo        \n",
              "9   1 NA     NA             NA      kanaha        \n",
              "10  1 oahu   kawainui marsh NA      kawainui_marsh\n",
              "11  1 NA     NA             NA      kealia        \n",
              "12 NA NA     NA              1      lumahai       \n",
              "13  1 NA     NA             NA      paukukalo     \n",
              "14  1 NA     NA             NA      pearl_harbor  \n",
              "15  1 NA     NA             NA      waihee        \n",
              "16  1 NA     NA             NA      wailua_opaekaa\n",
              "   path                                           \n",
              "1  E:/Data/AOI_Shapefiles/kauai/anahola.shp       \n",
              "2  E:/Data/AOI_Shapefiles/oahu/haleiwa.shp        \n",
              "3  E:/Data/AOI_Shapefiles/kauai/hanalei.shp       \n",
              "4  E:/Data/AOI_Shapefiles/kauai/huleia.shp        \n",
              "5  E:/Data/AOI_Shapefiles/oahu/kahuku.shp         \n",
              "6  E:/Data/AOI_Shapefiles/molokai/kakahaia.shp    \n",
              "7  E:/Data/AOI_Shapefiles/molokai/kaluaapuhi.shp  \n",
              "8  E:/Data/AOI_Shapefiles/molokai/kamalo.shp      \n",
              "9  E:/Data/AOI_Shapefiles/maui/kanaha.shp         \n",
              "10 E:/Data/AOI_Shapefiles/oahu/kawainui_marsh.shp \n",
              "11 E:/Data/AOI_Shapefiles/maui/kealia.shp         \n",
              "12 E:/Data/AOI_Shapefiles/kauai/lumahai.shp       \n",
              "13 E:/Data/AOI_Shapefiles/maui/paukukalo.shp      \n",
              "14 E:/Data/AOI_Shapefiles/oahu/pearl_harbor.shp   \n",
              "15 E:/Data/AOI_Shapefiles/maui/waihee.shp         \n",
              "16 E:/Data/AOI_Shapefiles/kauai/wailua_opaekaa.shp\n",
              "   geom                          \n",
              "1  MULTIPOLYGON (((467439.4 24...\n",
              "2  MULTIPOLYGON (((590409.2 23...\n",
              "3  MULTIPOLYGON (((445906 2451...\n",
              "4  MULTIPOLYGON (((459399.5 24...\n",
              "5  MULTIPOLYGON (((602662.2 23...\n",
              "6  MULTIPOLYGON (((712686.8 23...\n",
              "7  MULTIPOLYGON (((694186.8 23...\n",
              "8  MULTIPOLYGON (((718784.3 23...\n",
              "9  MULTIPOLYGON (((763679.9 23...\n",
              "10 MULTIPOLYGON (((625876.9 23...\n",
              "11 MULTIPOLYGON (((759252.1 22...\n",
              "12 MULTIPOLYGON (((444046 2452...\n",
              "13 MULTIPOLYGON (((758616.3 23...\n",
              "14 MULTIPOLYGON (((599581.1 23...\n",
              "15 MULTIPOLYGON (((757873.3 23...\n",
              "16 MULTIPOLYGON (((464124.8 24..."
            ]
          },
          "metadata": {}
        }
      ]
    },
    {
      "cell_type": "code",
      "source": [
        "wetlandsVector_dt <- as.data.table(wetlandsVector)\n",
        "wetlandsVector_dt[,island:= path %>% substr(24,1000) %>% gsub('.shp','',.) %>% gsub(layer,'',.) %>% gsub('/','',.),by=1:nrow(wetlandsVector_dt)]\n",
        "wetlandsVector <- wetlandsVector_dt %>% st_as_sf\n",
        "setDT(wetlandsVector_dt)\n",
        "wetlandsVector_dt[layer == \"lumahai\", id := 1]\n",
        "wetlandsVector_dt[, name := NULL]\n",
        "wetlandsVector_dt[, lumahai := NULL]\n",
        "wetlandsVector <- wetlandsVector_dt %>% st_as_sf"
      ],
      "metadata": {
        "id": "XNHYjobr5eBp"
      },
      "execution_count": 69,
      "outputs": []
    },
    {
      "cell_type": "code",
      "source": [
        "wetlandsVector"
      ],
      "metadata": {
        "colab": {
          "base_uri": "https://localhost:8080/",
          "height": 1000
        },
        "id": "u8Lw1PeP5jpN",
        "outputId": "62a26740-d60d-43e2-8fdc-4402ddd0af62"
      },
      "execution_count": 70,
      "outputs": [
        {
          "output_type": "stream",
          "name": "stderr",
          "text": [
            "ERROR while rich displaying an object: Error in loadNamespace(x): there is no package called ‘geojsonio’\n",
            "\n",
            "Traceback:\n",
            "1. tryCatch(withCallingHandlers({\n",
            " .     if (!mime %in% names(repr::mime2repr)) \n",
            " .         stop(\"No repr_* for mimetype \", mime, \" in repr::mime2repr\")\n",
            " .     rpr <- repr::mime2repr[[mime]](obj)\n",
            " .     if (is.null(rpr)) \n",
            " .         return(NULL)\n",
            " .     prepare_content(is.raw(rpr), rpr)\n",
            " . }, error = error_handler), error = outer_handler)\n",
            "2. tryCatchList(expr, classes, parentenv, handlers)\n",
            "3. tryCatchOne(expr, names, parentenv, handlers[[1L]])\n",
            "4. doTryCatch(return(expr), name, parentenv, handler)\n",
            "5. withCallingHandlers({\n",
            " .     if (!mime %in% names(repr::mime2repr)) \n",
            " .         stop(\"No repr_* for mimetype \", mime, \" in repr::mime2repr\")\n",
            " .     rpr <- repr::mime2repr[[mime]](obj)\n",
            " .     if (is.null(rpr)) \n",
            " .         return(NULL)\n",
            " .     prepare_content(is.raw(rpr), rpr)\n",
            " . }, error = error_handler)\n",
            "6. repr::mime2repr[[mime]](obj)\n",
            "7. repr_geojson.sf(obj)\n",
            "8. repr_geojson(geojsonio::geojson_list(obj), ...)\n",
            "9. loadNamespace(x)\n",
            "10. withRestarts(stop(cond), retry_loadNamespace = function() NULL)\n",
            "11. withOneRestart(expr, restarts[[1L]])\n",
            "12. doWithOneRestart(return(expr), restart)\n"
          ]
        },
        {
          "output_type": "display_data",
          "data": {
            "text/html": [
              "<table class=\"dataframe\">\n",
              "<caption>A sf: 16 × 5</caption>\n",
              "<thead>\n",
              "\t<tr><th scope=col>id</th><th scope=col>island</th><th scope=col>layer</th><th scope=col>path</th><th scope=col>geom</th></tr>\n",
              "\t<tr><th scope=col>&lt;dbl&gt;</th><th scope=col>&lt;chr&gt;</th><th scope=col>&lt;chr&gt;</th><th scope=col>&lt;chr&gt;</th><th scope=col>&lt;MULTIPOLYGON [m]&gt;</th></tr>\n",
              "</thead>\n",
              "<tbody>\n",
              "\t<tr><td>1</td><td>kauai  </td><td>anahola       </td><td>E:/Data/AOI_Shapefiles/kauai/anahola.shp       </td><td>MULTIPOLYGON (((467439.4 24...</td></tr>\n",
              "\t<tr><td>1</td><td>oahu   </td><td>haleiwa       </td><td>E:/Data/AOI_Shapefiles/oahu/haleiwa.shp        </td><td>MULTIPOLYGON (((590409.2 23...</td></tr>\n",
              "\t<tr><td>1</td><td>kauai  </td><td>hanalei       </td><td>E:/Data/AOI_Shapefiles/kauai/hanalei.shp       </td><td>MULTIPOLYGON (((445906 2451...</td></tr>\n",
              "\t<tr><td>1</td><td>kauai  </td><td>huleia        </td><td>E:/Data/AOI_Shapefiles/kauai/huleia.shp        </td><td>MULTIPOLYGON (((459399.5 24...</td></tr>\n",
              "\t<tr><td>1</td><td>oahu   </td><td>kahuku        </td><td>E:/Data/AOI_Shapefiles/oahu/kahuku.shp         </td><td>MULTIPOLYGON (((602662.2 23...</td></tr>\n",
              "\t<tr><td>1</td><td>molokai</td><td>kakahaia      </td><td>E:/Data/AOI_Shapefiles/molokai/kakahaia.shp    </td><td>MULTIPOLYGON (((712686.8 23...</td></tr>\n",
              "\t<tr><td>1</td><td>molokai</td><td>kaluaapuhi    </td><td>E:/Data/AOI_Shapefiles/molokai/kaluaapuhi.shp  </td><td>MULTIPOLYGON (((694186.8 23...</td></tr>\n",
              "\t<tr><td>1</td><td>molokai</td><td>kamalo        </td><td>E:/Data/AOI_Shapefiles/molokai/kamalo.shp      </td><td>MULTIPOLYGON (((718784.3 23...</td></tr>\n",
              "\t<tr><td>1</td><td>maui   </td><td>kanaha        </td><td>E:/Data/AOI_Shapefiles/maui/kanaha.shp         </td><td>MULTIPOLYGON (((763679.9 23...</td></tr>\n",
              "\t<tr><td>1</td><td>oahu   </td><td>kawainui_marsh</td><td>E:/Data/AOI_Shapefiles/oahu/kawainui_marsh.shp </td><td>MULTIPOLYGON (((625876.9 23...</td></tr>\n",
              "\t<tr><td>1</td><td>maui   </td><td>kealia        </td><td>E:/Data/AOI_Shapefiles/maui/kealia.shp         </td><td>MULTIPOLYGON (((759252.1 22...</td></tr>\n",
              "\t<tr><td>1</td><td>kauai  </td><td>lumahai       </td><td>E:/Data/AOI_Shapefiles/kauai/lumahai.shp       </td><td>MULTIPOLYGON (((444046 2452...</td></tr>\n",
              "\t<tr><td>1</td><td>maui   </td><td>paukukalo     </td><td>E:/Data/AOI_Shapefiles/maui/paukukalo.shp      </td><td>MULTIPOLYGON (((758616.3 23...</td></tr>\n",
              "\t<tr><td>1</td><td>oahu   </td><td>pearl_harbor  </td><td>E:/Data/AOI_Shapefiles/oahu/pearl_harbor.shp   </td><td>MULTIPOLYGON (((599581.1 23...</td></tr>\n",
              "\t<tr><td>1</td><td>maui   </td><td>waihee        </td><td>E:/Data/AOI_Shapefiles/maui/waihee.shp         </td><td>MULTIPOLYGON (((757873.3 23...</td></tr>\n",
              "\t<tr><td>1</td><td>kauai  </td><td>wailua_opaekaa</td><td>E:/Data/AOI_Shapefiles/kauai/wailua_opaekaa.shp</td><td>MULTIPOLYGON (((464124.8 24...</td></tr>\n",
              "</tbody>\n",
              "</table>\n"
            ],
            "text/markdown": "\nA sf: 16 × 5\n\n| id &lt;dbl&gt; | island &lt;chr&gt; | layer &lt;chr&gt; | path &lt;chr&gt; | geom &lt;MULTIPOLYGON [m]&gt; |\n|---|---|---|---|---|\n| 1 | kauai   | anahola        | E:/Data/AOI_Shapefiles/kauai/anahola.shp        | MULTIPOLYGON (((467439.4 24... |\n| 1 | oahu    | haleiwa        | E:/Data/AOI_Shapefiles/oahu/haleiwa.shp         | MULTIPOLYGON (((590409.2 23... |\n| 1 | kauai   | hanalei        | E:/Data/AOI_Shapefiles/kauai/hanalei.shp        | MULTIPOLYGON (((445906 2451... |\n| 1 | kauai   | huleia         | E:/Data/AOI_Shapefiles/kauai/huleia.shp         | MULTIPOLYGON (((459399.5 24... |\n| 1 | oahu    | kahuku         | E:/Data/AOI_Shapefiles/oahu/kahuku.shp          | MULTIPOLYGON (((602662.2 23... |\n| 1 | molokai | kakahaia       | E:/Data/AOI_Shapefiles/molokai/kakahaia.shp     | MULTIPOLYGON (((712686.8 23... |\n| 1 | molokai | kaluaapuhi     | E:/Data/AOI_Shapefiles/molokai/kaluaapuhi.shp   | MULTIPOLYGON (((694186.8 23... |\n| 1 | molokai | kamalo         | E:/Data/AOI_Shapefiles/molokai/kamalo.shp       | MULTIPOLYGON (((718784.3 23... |\n| 1 | maui    | kanaha         | E:/Data/AOI_Shapefiles/maui/kanaha.shp          | MULTIPOLYGON (((763679.9 23... |\n| 1 | oahu    | kawainui_marsh | E:/Data/AOI_Shapefiles/oahu/kawainui_marsh.shp  | MULTIPOLYGON (((625876.9 23... |\n| 1 | maui    | kealia         | E:/Data/AOI_Shapefiles/maui/kealia.shp          | MULTIPOLYGON (((759252.1 22... |\n| 1 | kauai   | lumahai        | E:/Data/AOI_Shapefiles/kauai/lumahai.shp        | MULTIPOLYGON (((444046 2452... |\n| 1 | maui    | paukukalo      | E:/Data/AOI_Shapefiles/maui/paukukalo.shp       | MULTIPOLYGON (((758616.3 23... |\n| 1 | oahu    | pearl_harbor   | E:/Data/AOI_Shapefiles/oahu/pearl_harbor.shp    | MULTIPOLYGON (((599581.1 23... |\n| 1 | maui    | waihee         | E:/Data/AOI_Shapefiles/maui/waihee.shp          | MULTIPOLYGON (((757873.3 23... |\n| 1 | kauai   | wailua_opaekaa | E:/Data/AOI_Shapefiles/kauai/wailua_opaekaa.shp | MULTIPOLYGON (((464124.8 24... |\n\n",
            "text/latex": "A sf: 16 × 5\n\\begin{tabular}{lllll}\n id & island & layer & path & geom\\\\\n <dbl> & <chr> & <chr> & <chr> & <MULTIPOLYGON {[}m{]}>\\\\\n\\hline\n\t 1 & kauai   & anahola        & E:/Data/AOI\\_Shapefiles/kauai/anahola.shp        & MULTIPOLYGON (((467439.4 24...\\\\\n\t 1 & oahu    & haleiwa        & E:/Data/AOI\\_Shapefiles/oahu/haleiwa.shp         & MULTIPOLYGON (((590409.2 23...\\\\\n\t 1 & kauai   & hanalei        & E:/Data/AOI\\_Shapefiles/kauai/hanalei.shp        & MULTIPOLYGON (((445906 2451...\\\\\n\t 1 & kauai   & huleia         & E:/Data/AOI\\_Shapefiles/kauai/huleia.shp         & MULTIPOLYGON (((459399.5 24...\\\\\n\t 1 & oahu    & kahuku         & E:/Data/AOI\\_Shapefiles/oahu/kahuku.shp          & MULTIPOLYGON (((602662.2 23...\\\\\n\t 1 & molokai & kakahaia       & E:/Data/AOI\\_Shapefiles/molokai/kakahaia.shp     & MULTIPOLYGON (((712686.8 23...\\\\\n\t 1 & molokai & kaluaapuhi     & E:/Data/AOI\\_Shapefiles/molokai/kaluaapuhi.shp   & MULTIPOLYGON (((694186.8 23...\\\\\n\t 1 & molokai & kamalo         & E:/Data/AOI\\_Shapefiles/molokai/kamalo.shp       & MULTIPOLYGON (((718784.3 23...\\\\\n\t 1 & maui    & kanaha         & E:/Data/AOI\\_Shapefiles/maui/kanaha.shp          & MULTIPOLYGON (((763679.9 23...\\\\\n\t 1 & oahu    & kawainui\\_marsh & E:/Data/AOI\\_Shapefiles/oahu/kawainui\\_marsh.shp  & MULTIPOLYGON (((625876.9 23...\\\\\n\t 1 & maui    & kealia         & E:/Data/AOI\\_Shapefiles/maui/kealia.shp          & MULTIPOLYGON (((759252.1 22...\\\\\n\t 1 & kauai   & lumahai        & E:/Data/AOI\\_Shapefiles/kauai/lumahai.shp        & MULTIPOLYGON (((444046 2452...\\\\\n\t 1 & maui    & paukukalo      & E:/Data/AOI\\_Shapefiles/maui/paukukalo.shp       & MULTIPOLYGON (((758616.3 23...\\\\\n\t 1 & oahu    & pearl\\_harbor   & E:/Data/AOI\\_Shapefiles/oahu/pearl\\_harbor.shp    & MULTIPOLYGON (((599581.1 23...\\\\\n\t 1 & maui    & waihee         & E:/Data/AOI\\_Shapefiles/maui/waihee.shp          & MULTIPOLYGON (((757873.3 23...\\\\\n\t 1 & kauai   & wailua\\_opaekaa & E:/Data/AOI\\_Shapefiles/kauai/wailua\\_opaekaa.shp & MULTIPOLYGON (((464124.8 24...\\\\\n\\end{tabular}\n",
            "text/plain": [
              "   id island  layer          path                                           \n",
              "1  1  kauai   anahola        E:/Data/AOI_Shapefiles/kauai/anahola.shp       \n",
              "2  1  oahu    haleiwa        E:/Data/AOI_Shapefiles/oahu/haleiwa.shp        \n",
              "3  1  kauai   hanalei        E:/Data/AOI_Shapefiles/kauai/hanalei.shp       \n",
              "4  1  kauai   huleia         E:/Data/AOI_Shapefiles/kauai/huleia.shp        \n",
              "5  1  oahu    kahuku         E:/Data/AOI_Shapefiles/oahu/kahuku.shp         \n",
              "6  1  molokai kakahaia       E:/Data/AOI_Shapefiles/molokai/kakahaia.shp    \n",
              "7  1  molokai kaluaapuhi     E:/Data/AOI_Shapefiles/molokai/kaluaapuhi.shp  \n",
              "8  1  molokai kamalo         E:/Data/AOI_Shapefiles/molokai/kamalo.shp      \n",
              "9  1  maui    kanaha         E:/Data/AOI_Shapefiles/maui/kanaha.shp         \n",
              "10 1  oahu    kawainui_marsh E:/Data/AOI_Shapefiles/oahu/kawainui_marsh.shp \n",
              "11 1  maui    kealia         E:/Data/AOI_Shapefiles/maui/kealia.shp         \n",
              "12 1  kauai   lumahai        E:/Data/AOI_Shapefiles/kauai/lumahai.shp       \n",
              "13 1  maui    paukukalo      E:/Data/AOI_Shapefiles/maui/paukukalo.shp      \n",
              "14 1  oahu    pearl_harbor   E:/Data/AOI_Shapefiles/oahu/pearl_harbor.shp   \n",
              "15 1  maui    waihee         E:/Data/AOI_Shapefiles/maui/waihee.shp         \n",
              "16 1  kauai   wailua_opaekaa E:/Data/AOI_Shapefiles/kauai/wailua_opaekaa.shp\n",
              "   geom                          \n",
              "1  MULTIPOLYGON (((467439.4 24...\n",
              "2  MULTIPOLYGON (((590409.2 23...\n",
              "3  MULTIPOLYGON (((445906 2451...\n",
              "4  MULTIPOLYGON (((459399.5 24...\n",
              "5  MULTIPOLYGON (((602662.2 23...\n",
              "6  MULTIPOLYGON (((712686.8 23...\n",
              "7  MULTIPOLYGON (((694186.8 23...\n",
              "8  MULTIPOLYGON (((718784.3 23...\n",
              "9  MULTIPOLYGON (((763679.9 23...\n",
              "10 MULTIPOLYGON (((625876.9 23...\n",
              "11 MULTIPOLYGON (((759252.1 22...\n",
              "12 MULTIPOLYGON (((444046 2452...\n",
              "13 MULTIPOLYGON (((758616.3 23...\n",
              "14 MULTIPOLYGON (((599581.1 23...\n",
              "15 MULTIPOLYGON (((757873.3 23...\n",
              "16 MULTIPOLYGON (((464124.8 24..."
            ]
          },
          "metadata": {}
        }
      ]
    },
    {
      "cell_type": "code",
      "source": [
        "wetland_outline <- st_read(\"/content/workingfolder/aoi/utm4/aoi_utm4.gpkg\")"
      ],
      "metadata": {
        "colab": {
          "base_uri": "https://localhost:8080/"
        },
        "id": "iMBFnGXtDprM",
        "outputId": "c107790c-6b96-445b-bb59-347cf9118203"
      },
      "execution_count": 105,
      "outputs": [
        {
          "output_type": "stream",
          "name": "stdout",
          "text": [
            "Reading layer `aoi_wetland_4' from data source \n",
            "  `/content/workingfolder/aoi/utm4/aoi_utm4.gpkg' using driver `GPKG'\n",
            "Simple feature collection with 16 features and 6 fields\n",
            "Geometry type: MULTIPOLYGON\n",
            "Dimension:     XY\n",
            "Bounding box:  xmin: 444046 ymin: 2299914 xmax: 766191.9 ymax: 2457336\n",
            "Projected CRS: WGS 84 / UTM zone 4N\n"
          ]
        }
      ]
    },
    {
      "cell_type": "code",
      "source": [
        "wetland_outline <- wetlandsVector"
      ],
      "metadata": {
        "id": "l9gvPgRkD9ZX"
      },
      "execution_count": 108,
      "outputs": []
    },
    {
      "cell_type": "code",
      "source": [
        "#  THIS ONE WORKS, IS CLOSEST TO THE CLIP EXPORTS, AND WORKS. USE THISSSSS\n",
        "#  planet data at 3m per pixel for 128 pixels wide for each tile = 384,384\n",
        "\n",
        "# Create a fishnet grid for each row in wetlandsVector matching the raster origin\n",
        "wetlandsFishnet <-\n",
        "  1:nrow(wetlandsVector) %>%\n",
        "  lapply(function(y){\n",
        "    # Create a fishnet grid with the specified cell size and origin matching the raster\n",
        "    fishnet <- st_make_grid(wetlandsVector[y,], cellsize = c(384,384)) %>%\n",
        "               st_as_sf() %>%\n",
        "               st_intersection(wetlandsVector[y,]) %>%\n",
        "               st_transform(st_crs(26904)) %>%\n",
        "               data.table()\n",
        "\n",
        "    fishnet$rowid <- 1:nrow(fishnet)\n",
        "\n",
        "    # Assuming 'island' is a column in wetlandsVector\n",
        "    fishnet$island <- wetlandsVector$island[y]\n",
        "\n",
        "    return(fishnet)\n",
        "  }) %>%\n",
        "  rbindlist()\n",
        "\n",
        "# Convert the result back to an sf object if needed\n",
        "wetlandsFishnet_sf <- st_as_sf(wetlandsFishnet)\n",
        "\n",
        "# If you need to save the result as a file\n",
        "st_write(wetlandsFishnet_sf, \"/content/384_wetlandsFishnet.gpkg\")"
      ],
      "metadata": {
        "colab": {
          "base_uri": "https://localhost:8080/"
        },
        "id": "dOe2obA9P3Bx",
        "outputId": "062d02d5-bdb1-4cce-da9b-b26338453166"
      },
      "execution_count": 201,
      "outputs": [
        {
          "output_type": "stream",
          "name": "stderr",
          "text": [
            "Warning message:\n",
            "“attribute variables are assumed to be spatially constant throughout all geometries”\n",
            "Warning message:\n",
            "“attribute variables are assumed to be spatially constant throughout all geometries”\n",
            "Warning message:\n",
            "“attribute variables are assumed to be spatially constant throughout all geometries”\n",
            "Warning message:\n",
            "“attribute variables are assumed to be spatially constant throughout all geometries”\n",
            "Warning message:\n",
            "“attribute variables are assumed to be spatially constant throughout all geometries”\n",
            "Warning message:\n",
            "“attribute variables are assumed to be spatially constant throughout all geometries”\n",
            "Warning message:\n",
            "“attribute variables are assumed to be spatially constant throughout all geometries”\n",
            "Warning message:\n",
            "“attribute variables are assumed to be spatially constant throughout all geometries”\n",
            "Warning message:\n",
            "“attribute variables are assumed to be spatially constant throughout all geometries”\n",
            "Warning message:\n",
            "“attribute variables are assumed to be spatially constant throughout all geometries”\n",
            "Warning message:\n",
            "“attribute variables are assumed to be spatially constant throughout all geometries”\n",
            "Warning message:\n",
            "“attribute variables are assumed to be spatially constant throughout all geometries”\n",
            "Warning message:\n",
            "“attribute variables are assumed to be spatially constant throughout all geometries”\n",
            "Warning message:\n",
            "“attribute variables are assumed to be spatially constant throughout all geometries”\n",
            "Warning message:\n",
            "“attribute variables are assumed to be spatially constant throughout all geometries”\n",
            "Warning message:\n",
            "“attribute variables are assumed to be spatially constant throughout all geometries”\n"
          ]
        },
        {
          "output_type": "stream",
          "name": "stdout",
          "text": [
            "Writing layer `384_wetlandsFishnet' to data source \n",
            "  `/content/384_wetlandsFishnet.gpkg' using driver `GPKG'\n",
            "Writing 2666 features with 5 fields and geometry type Polygon.\n"
          ]
        }
      ]
    },
    {
      "cell_type": "code",
      "source": [],
      "metadata": {
        "id": "VDNG3F2nytic"
      },
      "execution_count": null,
      "outputs": []
    },
    {
      "cell_type": "markdown",
      "source": [
        "testing tiles to see if the ccap is doing weird things?"
      ],
      "metadata": {
        "id": "qY4Vbx6rQpUG"
      }
    },
    {
      "cell_type": "code",
      "source": [
        "wetlandsVector %>% plot"
      ],
      "metadata": {
        "id": "A5BPbhaUbVav",
        "outputId": "575f4d5e-7026-4fe7-caf3-53097f5cf5c4",
        "colab": {
          "base_uri": "https://localhost:8080/",
          "height": 437
        }
      },
      "execution_count": 166,
      "outputs": [
        {
          "output_type": "display_data",
          "data": {
            "text/plain": [
              "Plot with title “path”"
            ],
            "image/png": "[encoded data removed]"
          },
          "metadata": {
            "image/png": {
              "width": 420,
              "height": 420
            }
          }
        }
      ]
    },
    {
      "cell_type": "code",
      "source": [
        "#  THIS IS ITTTTT\n",
        "#  Expands the box so that each cell is equal.\n",
        "# Adjusting the provided code\n",
        "test_05_wetlandsFishnet <- lapply(1:nrow(wetlandsVector), function(y) {\n",
        "  tryCatch({\n",
        "\n",
        ", error = function(e) {\n",
        "  cat(\"Error processing AOI at index\", y, \":\", e$message, \"\\n\")\n",
        "\n",
        "}  }) %>% rbindlist()\n",
        "\n",
        "  feature <- wetlandsVector[y, ]\n",
        "  cellsize <- c(384, 384)\n",
        "\n",
        "  # Calculate the bounding box\n",
        "  bbox <- st_bbox(feature)\n",
        "\n",
        "\n",
        "# Calculate the necessary buffer to make the dimensions divisible by cell size\n",
        "  bbox_dim <- c(diff(c(bbox[\"xmin\"], bbox[\"xmax\"])), diff(c(bbox[\"ymin\"], bbox[\"ymax\"])))\n",
        "  buffer <- cellsize - (bbox_dim %% cellsize)\n",
        "  buffer[buffer == cellsize] <- 0  # Adjust if buffer is equal to cellsize\n",
        "\n",
        "# Adjust bbox to include the buffer\n",
        "  bbox_adjusted <- bbox + c(-buffer[1]/2, -buffer[2]/2, buffer[1]/2, buffer[2]/2)\n",
        "\n",
        "# Create an sf object with the adjusted bbox\n",
        "  feature_adjusted <- st_as_sfc(st_bbox(bbox_adjusted), crs = st_crs(feature))\n",
        "\n",
        "\n",
        "\n",
        "  # Create an sf object with the expanded bbox\n",
        "  # bbox_expanded_sf <- st_as_sfc(st_bbox(bbox_expanded), crs = st_crs(feature))\n",
        "\n",
        "  # Create the fishnet grid with the expanded bbox\n",
        "  fishnet <- st_make_grid(feature_adjusted, cellsize = cellsize) %>%\n",
        "             st_as_sf() %>%\n",
        "             # Optionally, intersect with the original feature if needed\n",
        "             # st_intersection(feature) %>%\n",
        "             st_transform(crs = st_crs(26904)) %>%\n",
        "             data.table()\n",
        "\n",
        "  # Add row ID and island name\n",
        "  fishnet$rowid <- 1:nrow(fishnet)\n",
        "  fishnet$island <- feature$island\n",
        "\n",
        "\n",
        "  return(fishnet)\n",
        "}) %>%\n",
        "rbindlist()\n",
        "\n",
        "# Convert the result back to an sf object and write to a file\n",
        "new_wetlandFishnet_sf <- st_as_sf(test_05_wetlandsFishnet)\n",
        "\n",
        "# # Specify your desired output path\n",
        "# output_path <- \"/content/test_05_384_wetlandsFishnet.gpkg\"\n",
        "# st_write(test_05_wetlandsFishnet_sf, output_path, delete_layer = TRUE, layer_options = \"OVERWRITE=YES\")\n"
      ],
      "metadata": {
        "id": "u-_LkZzk805-"
      },
      "execution_count": null,
      "outputs": []
    },
    {
      "cell_type": "code",
      "source": [
        "new_wetlandFishnet_sf"
      ],
      "metadata": {
        "id": "TfnRvq6M803X"
      },
      "execution_count": null,
      "outputs": []
    },
    {
      "cell_type": "code",
      "source": [
        "new_wetlandFishnet_sf %>% plot"
      ],
      "metadata": {
        "id": "VCvBWcZwcN-F"
      },
      "execution_count": null,
      "outputs": []
    },
    {
      "cell_type": "code",
      "source": [
        "print(nrow(wetlandsVector))\n",
        "wetlandsVector"
      ],
      "metadata": {
        "id": "FLkLeXpEdr0r"
      },
      "execution_count": null,
      "outputs": []
    },
    {
      "cell_type": "code",
      "source": [
        "\n",
        "\n",
        "# Create a fishnet grid for each row in wetlandsVector matching the raster origin\n",
        "wetlandsFishnet_nad83 <-\n",
        "  1:nrow(wetlandsVector) %>%\n",
        "  lapply(function(x){\n",
        "    # Create a fishnet grid with the specified cell size and origin matching the raster\n",
        "    fishnet <- st_make_grid(wetlandsVector[x,], cellsize = c(384, 384)) %>%\n",
        "               st_as_sf() %>%\n",
        "               st_intersection(wetlandsVector[x,]) %>%\n",
        "               st_transform(st_crs(26904)) %>%\n",
        "               data.table()\n",
        "\n",
        "    fishnet$rowid <- 1:nrow(fishnet)\n",
        "\n",
        "    # Assuming 'island' is a column in wetlandsVector\n",
        "    fishnet$island <- wetlandsVector$island[x]\n",
        "    fishnet$layer <- wetlandsVector$layer[x]\n",
        "\n",
        "    return(fishnet)\n",
        "  }) %>%\n",
        "  rbindlist()\n",
        "\n",
        "# Convert the result back to an sf object if needed\n",
        "wetlandsFishnet_nad83_sf <- st_as_sf(wetlandsFishnet_nad83)\n",
        "\n",
        "# If you need to save the result as a file\n",
        "# st_write(wetlandsFishnet_nad83, \"/content/76.8_wetlandsFishnet_nad83.gpkg\",overwrite=T)"
      ],
      "metadata": {
        "id": "GY2zVTwrbszo",
        "outputId": "378be989-4ce5-4c7e-ba29-13da1e32dfc5",
        "colab": {
          "base_uri": "https://localhost:8080/"
        }
      },
      "execution_count": 220,
      "outputs": [
        {
          "output_type": "stream",
          "name": "stderr",
          "text": [
            "Warning message:\n",
            "“attribute variables are assumed to be spatially constant throughout all geometries”\n",
            "Warning message:\n",
            "“attribute variables are assumed to be spatially constant throughout all geometries”\n",
            "Warning message:\n",
            "“attribute variables are assumed to be spatially constant throughout all geometries”\n",
            "Warning message:\n",
            "“attribute variables are assumed to be spatially constant throughout all geometries”\n",
            "Warning message:\n",
            "“attribute variables are assumed to be spatially constant throughout all geometries”\n",
            "Warning message:\n",
            "“attribute variables are assumed to be spatially constant throughout all geometries”\n",
            "Warning message:\n",
            "“attribute variables are assumed to be spatially constant throughout all geometries”\n",
            "Warning message:\n",
            "“attribute variables are assumed to be spatially constant throughout all geometries”\n",
            "Warning message:\n",
            "“attribute variables are assumed to be spatially constant throughout all geometries”\n",
            "Warning message:\n",
            "“attribute variables are assumed to be spatially constant throughout all geometries”\n",
            "Warning message:\n",
            "“attribute variables are assumed to be spatially constant throughout all geometries”\n",
            "Warning message:\n",
            "“attribute variables are assumed to be spatially constant throughout all geometries”\n",
            "Warning message:\n",
            "“attribute variables are assumed to be spatially constant throughout all geometries”\n",
            "Warning message:\n",
            "“attribute variables are assumed to be spatially constant throughout all geometries”\n",
            "Warning message:\n",
            "“attribute variables are assumed to be spatially constant throughout all geometries”\n",
            "Warning message:\n",
            "“attribute variables are assumed to be spatially constant throughout all geometries”\n"
          ]
        }
      ]
    },
    {
      "cell_type": "code",
      "source": [
        "wetlandsFishnet_nad83_sf"
      ],
      "metadata": {
        "id": "bTPuDfvKgqXx",
        "outputId": "d96d1559-e9d9-416f-e83d-a3da074498f6",
        "colab": {
          "base_uri": "https://localhost:8080/",
          "height": 1000
        }
      },
      "execution_count": 221,
      "outputs": [
        {
          "output_type": "stream",
          "name": "stderr",
          "text": [
            "ERROR while rich displaying an object: Error in loadNamespace(x): there is no package called ‘geojsonio’\n",
            "\n",
            "Traceback:\n",
            "1. tryCatch(withCallingHandlers({\n",
            " .     if (!mime %in% names(repr::mime2repr)) \n",
            " .         stop(\"No repr_* for mimetype \", mime, \" in repr::mime2repr\")\n",
            " .     rpr <- repr::mime2repr[[mime]](obj)\n",
            " .     if (is.null(rpr)) \n",
            " .         return(NULL)\n",
            " .     prepare_content(is.raw(rpr), rpr)\n",
            " . }, error = error_handler), error = outer_handler)\n",
            "2. tryCatchList(expr, classes, parentenv, handlers)\n",
            "3. tryCatchOne(expr, names, parentenv, handlers[[1L]])\n",
            "4. doTryCatch(return(expr), name, parentenv, handler)\n",
            "5. withCallingHandlers({\n",
            " .     if (!mime %in% names(repr::mime2repr)) \n",
            " .         stop(\"No repr_* for mimetype \", mime, \" in repr::mime2repr\")\n",
            " .     rpr <- repr::mime2repr[[mime]](obj)\n",
            " .     if (is.null(rpr)) \n",
            " .         return(NULL)\n",
            " .     prepare_content(is.raw(rpr), rpr)\n",
            " . }, error = error_handler)\n",
            "6. repr::mime2repr[[mime]](obj)\n",
            "7. repr_geojson.sf(obj)\n",
            "8. repr_geojson(geojsonio::geojson_list(obj), ...)\n",
            "9. loadNamespace(x)\n",
            "10. withRestarts(stop(cond), retry_loadNamespace = function() NULL)\n",
            "11. withOneRestart(expr, restarts[[1L]])\n",
            "12. doWithOneRestart(return(expr), restart)\n"
          ]
        },
        {
          "output_type": "display_data",
          "data": {
            "text/html": [
              "<table class=\"dataframe\">\n",
              "<caption>A sf: 2666 × 6</caption>\n",
              "<thead>\n",
              "\t<tr><th scope=col>id</th><th scope=col>island</th><th scope=col>layer</th><th scope=col>path</th><th scope=col>rowid</th><th scope=col>x</th></tr>\n",
              "\t<tr><th scope=col>&lt;dbl&gt;</th><th scope=col>&lt;chr&gt;</th><th scope=col>&lt;chr&gt;</th><th scope=col>&lt;chr&gt;</th><th scope=col>&lt;int&gt;</th><th scope=col>&lt;POLYGON [m]&gt;</th></tr>\n",
              "</thead>\n",
              "<tbody>\n",
              "\t<tr><td>1</td><td>kauai</td><td>anahola</td><td>E:/Data/AOI_Shapefiles/kauai/anahola.shp</td><td> 1</td><td>POLYGON ((467437.8 2447514,...</td></tr>\n",
              "\t<tr><td>1</td><td>kauai</td><td>anahola</td><td>E:/Data/AOI_Shapefiles/kauai/anahola.shp</td><td> 2</td><td>POLYGON ((467821.8 2447514,...</td></tr>\n",
              "\t<tr><td>1</td><td>kauai</td><td>anahola</td><td>E:/Data/AOI_Shapefiles/kauai/anahola.shp</td><td> 3</td><td>POLYGON ((468205.8 2447514,...</td></tr>\n",
              "\t<tr><td>1</td><td>kauai</td><td>anahola</td><td>E:/Data/AOI_Shapefiles/kauai/anahola.shp</td><td> 4</td><td>POLYGON ((468589.8 2447514,...</td></tr>\n",
              "\t<tr><td>1</td><td>kauai</td><td>anahola</td><td>E:/Data/AOI_Shapefiles/kauai/anahola.shp</td><td> 5</td><td>POLYGON ((468973.8 2447514,...</td></tr>\n",
              "\t<tr><td>1</td><td>kauai</td><td>anahola</td><td>E:/Data/AOI_Shapefiles/kauai/anahola.shp</td><td> 6</td><td>POLYGON ((469357.8 2447514,...</td></tr>\n",
              "\t<tr><td>1</td><td>kauai</td><td>anahola</td><td>E:/Data/AOI_Shapefiles/kauai/anahola.shp</td><td> 7</td><td>POLYGON ((469741.8 2447514,...</td></tr>\n",
              "\t<tr><td>1</td><td>kauai</td><td>anahola</td><td>E:/Data/AOI_Shapefiles/kauai/anahola.shp</td><td> 8</td><td>POLYGON ((470125.8 2447514,...</td></tr>\n",
              "\t<tr><td>1</td><td>kauai</td><td>anahola</td><td>E:/Data/AOI_Shapefiles/kauai/anahola.shp</td><td> 9</td><td>POLYGON ((467821.8 2448282,...</td></tr>\n",
              "\t<tr><td>1</td><td>kauai</td><td>anahola</td><td>E:/Data/AOI_Shapefiles/kauai/anahola.shp</td><td>10</td><td>POLYGON ((467821.8 2448282,...</td></tr>\n",
              "\t<tr><td>1</td><td>kauai</td><td>anahola</td><td>E:/Data/AOI_Shapefiles/kauai/anahola.shp</td><td>11</td><td>POLYGON ((468205.8 2448282,...</td></tr>\n",
              "\t<tr><td>1</td><td>kauai</td><td>anahola</td><td>E:/Data/AOI_Shapefiles/kauai/anahola.shp</td><td>12</td><td>POLYGON ((468589.8 2448282,...</td></tr>\n",
              "\t<tr><td>1</td><td>kauai</td><td>anahola</td><td>E:/Data/AOI_Shapefiles/kauai/anahola.shp</td><td>13</td><td>POLYGON ((468973.8 2448282,...</td></tr>\n",
              "\t<tr><td>1</td><td>kauai</td><td>anahola</td><td>E:/Data/AOI_Shapefiles/kauai/anahola.shp</td><td>14</td><td>POLYGON ((469357.8 2448282,...</td></tr>\n",
              "\t<tr><td>1</td><td>kauai</td><td>anahola</td><td>E:/Data/AOI_Shapefiles/kauai/anahola.shp</td><td>15</td><td>POLYGON ((469741.8 2448282,...</td></tr>\n",
              "\t<tr><td>1</td><td>kauai</td><td>anahola</td><td>E:/Data/AOI_Shapefiles/kauai/anahola.shp</td><td>16</td><td>POLYGON ((470125.8 2447898,...</td></tr>\n",
              "\t<tr><td>1</td><td>kauai</td><td>anahola</td><td>E:/Data/AOI_Shapefiles/kauai/anahola.shp</td><td>17</td><td>POLYGON ((467821.8 2448666,...</td></tr>\n",
              "\t<tr><td>1</td><td>kauai</td><td>anahola</td><td>E:/Data/AOI_Shapefiles/kauai/anahola.shp</td><td>18</td><td>POLYGON ((467821.8 2448666,...</td></tr>\n",
              "\t<tr><td>1</td><td>kauai</td><td>anahola</td><td>E:/Data/AOI_Shapefiles/kauai/anahola.shp</td><td>19</td><td>POLYGON ((468205.8 2448666,...</td></tr>\n",
              "\t<tr><td>1</td><td>kauai</td><td>anahola</td><td>E:/Data/AOI_Shapefiles/kauai/anahola.shp</td><td>20</td><td>POLYGON ((468589.8 2448666,...</td></tr>\n",
              "\t<tr><td>1</td><td>kauai</td><td>anahola</td><td>E:/Data/AOI_Shapefiles/kauai/anahola.shp</td><td>21</td><td>POLYGON ((468973.8 2448666,...</td></tr>\n",
              "\t<tr><td>1</td><td>kauai</td><td>anahola</td><td>E:/Data/AOI_Shapefiles/kauai/anahola.shp</td><td>22</td><td>POLYGON ((469357.8 2448666,...</td></tr>\n",
              "\t<tr><td>1</td><td>kauai</td><td>anahola</td><td>E:/Data/AOI_Shapefiles/kauai/anahola.shp</td><td>23</td><td>POLYGON ((469741.8 2448666,...</td></tr>\n",
              "\t<tr><td>1</td><td>kauai</td><td>anahola</td><td>E:/Data/AOI_Shapefiles/kauai/anahola.shp</td><td>24</td><td>POLYGON ((470125.8 2448282,...</td></tr>\n",
              "\t<tr><td>1</td><td>kauai</td><td>anahola</td><td>E:/Data/AOI_Shapefiles/kauai/anahola.shp</td><td>25</td><td>POLYGON ((467821.8 2449050,...</td></tr>\n",
              "\t<tr><td>1</td><td>kauai</td><td>anahola</td><td>E:/Data/AOI_Shapefiles/kauai/anahola.shp</td><td>26</td><td>POLYGON ((467821.8 2449050,...</td></tr>\n",
              "\t<tr><td>1</td><td>kauai</td><td>anahola</td><td>E:/Data/AOI_Shapefiles/kauai/anahola.shp</td><td>27</td><td>POLYGON ((468205.8 2449050,...</td></tr>\n",
              "\t<tr><td>1</td><td>kauai</td><td>anahola</td><td>E:/Data/AOI_Shapefiles/kauai/anahola.shp</td><td>28</td><td>POLYGON ((468589.8 2449050,...</td></tr>\n",
              "\t<tr><td>1</td><td>kauai</td><td>anahola</td><td>E:/Data/AOI_Shapefiles/kauai/anahola.shp</td><td>29</td><td>POLYGON ((468973.8 2449050,...</td></tr>\n",
              "\t<tr><td>1</td><td>kauai</td><td>anahola</td><td>E:/Data/AOI_Shapefiles/kauai/anahola.shp</td><td>30</td><td>POLYGON ((469357.8 2449050,...</td></tr>\n",
              "\t<tr><td>⋮</td><td>⋮</td><td>⋮</td><td>⋮</td><td>⋮</td><td>⋮</td></tr>\n",
              "\t<tr><td>1</td><td>kauai</td><td>wailua_opaekaa</td><td>E:/Data/AOI_Shapefiles/kauai/wailua_opaekaa.shp</td><td>61</td><td>POLYGON ((464507.4 2441957,...</td></tr>\n",
              "\t<tr><td>1</td><td>kauai</td><td>wailua_opaekaa</td><td>E:/Data/AOI_Shapefiles/kauai/wailua_opaekaa.shp</td><td>62</td><td>POLYGON ((464507.4 2441957,...</td></tr>\n",
              "\t<tr><td>1</td><td>kauai</td><td>wailua_opaekaa</td><td>E:/Data/AOI_Shapefiles/kauai/wailua_opaekaa.shp</td><td>63</td><td>POLYGON ((464891.4 2441957,...</td></tr>\n",
              "\t<tr><td>1</td><td>kauai</td><td>wailua_opaekaa</td><td>E:/Data/AOI_Shapefiles/kauai/wailua_opaekaa.shp</td><td>64</td><td>POLYGON ((465275.4 2441957,...</td></tr>\n",
              "\t<tr><td>1</td><td>kauai</td><td>wailua_opaekaa</td><td>E:/Data/AOI_Shapefiles/kauai/wailua_opaekaa.shp</td><td>65</td><td>POLYGON ((465659.4 2441957,...</td></tr>\n",
              "\t<tr><td>1</td><td>kauai</td><td>wailua_opaekaa</td><td>E:/Data/AOI_Shapefiles/kauai/wailua_opaekaa.shp</td><td>66</td><td>POLYGON ((466043.4 2441957,...</td></tr>\n",
              "\t<tr><td>1</td><td>kauai</td><td>wailua_opaekaa</td><td>E:/Data/AOI_Shapefiles/kauai/wailua_opaekaa.shp</td><td>67</td><td>POLYGON ((466427.4 2441957,...</td></tr>\n",
              "\t<tr><td>1</td><td>kauai</td><td>wailua_opaekaa</td><td>E:/Data/AOI_Shapefiles/kauai/wailua_opaekaa.shp</td><td>68</td><td>POLYGON ((466811.3 2441957,...</td></tr>\n",
              "\t<tr><td>1</td><td>kauai</td><td>wailua_opaekaa</td><td>E:/Data/AOI_Shapefiles/kauai/wailua_opaekaa.shp</td><td>69</td><td>POLYGON ((467195.3 2441957,...</td></tr>\n",
              "\t<tr><td>1</td><td>kauai</td><td>wailua_opaekaa</td><td>E:/Data/AOI_Shapefiles/kauai/wailua_opaekaa.shp</td><td>70</td><td>POLYGON ((467579.3 2441573,...</td></tr>\n",
              "\t<tr><td>1</td><td>kauai</td><td>wailua_opaekaa</td><td>E:/Data/AOI_Shapefiles/kauai/wailua_opaekaa.shp</td><td>71</td><td>POLYGON ((464507.4 2442341,...</td></tr>\n",
              "\t<tr><td>1</td><td>kauai</td><td>wailua_opaekaa</td><td>E:/Data/AOI_Shapefiles/kauai/wailua_opaekaa.shp</td><td>72</td><td>POLYGON ((464507.4 2442341,...</td></tr>\n",
              "\t<tr><td>1</td><td>kauai</td><td>wailua_opaekaa</td><td>E:/Data/AOI_Shapefiles/kauai/wailua_opaekaa.shp</td><td>73</td><td>POLYGON ((464891.4 2442341,...</td></tr>\n",
              "\t<tr><td>1</td><td>kauai</td><td>wailua_opaekaa</td><td>E:/Data/AOI_Shapefiles/kauai/wailua_opaekaa.shp</td><td>74</td><td>POLYGON ((465275.4 2442341,...</td></tr>\n",
              "\t<tr><td>1</td><td>kauai</td><td>wailua_opaekaa</td><td>E:/Data/AOI_Shapefiles/kauai/wailua_opaekaa.shp</td><td>75</td><td>POLYGON ((465659.4 2442341,...</td></tr>\n",
              "\t<tr><td>1</td><td>kauai</td><td>wailua_opaekaa</td><td>E:/Data/AOI_Shapefiles/kauai/wailua_opaekaa.shp</td><td>76</td><td>POLYGON ((466043.4 2442341,...</td></tr>\n",
              "\t<tr><td>1</td><td>kauai</td><td>wailua_opaekaa</td><td>E:/Data/AOI_Shapefiles/kauai/wailua_opaekaa.shp</td><td>77</td><td>POLYGON ((466427.4 2442341,...</td></tr>\n",
              "\t<tr><td>1</td><td>kauai</td><td>wailua_opaekaa</td><td>E:/Data/AOI_Shapefiles/kauai/wailua_opaekaa.shp</td><td>78</td><td>POLYGON ((466811.3 2442341,...</td></tr>\n",
              "\t<tr><td>1</td><td>kauai</td><td>wailua_opaekaa</td><td>E:/Data/AOI_Shapefiles/kauai/wailua_opaekaa.shp</td><td>79</td><td>POLYGON ((467195.3 2442341,...</td></tr>\n",
              "\t<tr><td>1</td><td>kauai</td><td>wailua_opaekaa</td><td>E:/Data/AOI_Shapefiles/kauai/wailua_opaekaa.shp</td><td>80</td><td>POLYGON ((467579.3 2441957,...</td></tr>\n",
              "\t<tr><td>1</td><td>kauai</td><td>wailua_opaekaa</td><td>E:/Data/AOI_Shapefiles/kauai/wailua_opaekaa.shp</td><td>81</td><td>POLYGON ((464507.4 2442341,...</td></tr>\n",
              "\t<tr><td>1</td><td>kauai</td><td>wailua_opaekaa</td><td>E:/Data/AOI_Shapefiles/kauai/wailua_opaekaa.shp</td><td>82</td><td>POLYGON ((464891.4 2442341,...</td></tr>\n",
              "\t<tr><td>1</td><td>kauai</td><td>wailua_opaekaa</td><td>E:/Data/AOI_Shapefiles/kauai/wailua_opaekaa.shp</td><td>83</td><td>POLYGON ((465275.4 2442341,...</td></tr>\n",
              "\t<tr><td>1</td><td>kauai</td><td>wailua_opaekaa</td><td>E:/Data/AOI_Shapefiles/kauai/wailua_opaekaa.shp</td><td>84</td><td>POLYGON ((465659.4 2442341,...</td></tr>\n",
              "\t<tr><td>1</td><td>kauai</td><td>wailua_opaekaa</td><td>E:/Data/AOI_Shapefiles/kauai/wailua_opaekaa.shp</td><td>85</td><td>POLYGON ((466043.4 2442341,...</td></tr>\n",
              "\t<tr><td>1</td><td>kauai</td><td>wailua_opaekaa</td><td>E:/Data/AOI_Shapefiles/kauai/wailua_opaekaa.shp</td><td>86</td><td>POLYGON ((466427.4 2442341,...</td></tr>\n",
              "\t<tr><td>1</td><td>kauai</td><td>wailua_opaekaa</td><td>E:/Data/AOI_Shapefiles/kauai/wailua_opaekaa.shp</td><td>87</td><td>POLYGON ((466811.3 2442341,...</td></tr>\n",
              "\t<tr><td>1</td><td>kauai</td><td>wailua_opaekaa</td><td>E:/Data/AOI_Shapefiles/kauai/wailua_opaekaa.shp</td><td>88</td><td>POLYGON ((467195.3 2442341,...</td></tr>\n",
              "\t<tr><td>1</td><td>kauai</td><td>wailua_opaekaa</td><td>E:/Data/AOI_Shapefiles/kauai/wailua_opaekaa.shp</td><td>89</td><td>POLYGON ((467579.3 2442341,...</td></tr>\n",
              "\t<tr><td>1</td><td>kauai</td><td>wailua_opaekaa</td><td>E:/Data/AOI_Shapefiles/kauai/wailua_opaekaa.shp</td><td>90</td><td>POLYGON ((467579.3 2442341,...</td></tr>\n",
              "</tbody>\n",
              "</table>\n"
            ],
            "text/markdown": "\nA sf: 2666 × 6\n\n| id &lt;dbl&gt; | island &lt;chr&gt; | layer &lt;chr&gt; | path &lt;chr&gt; | rowid &lt;int&gt; | x &lt;POLYGON [m]&gt; |\n|---|---|---|---|---|---|\n| 1 | kauai | anahola | E:/Data/AOI_Shapefiles/kauai/anahola.shp |  1 | POLYGON ((467437.8 2447514,... |\n| 1 | kauai | anahola | E:/Data/AOI_Shapefiles/kauai/anahola.shp |  2 | POLYGON ((467821.8 2447514,... |\n| 1 | kauai | anahola | E:/Data/AOI_Shapefiles/kauai/anahola.shp |  3 | POLYGON ((468205.8 2447514,... |\n| 1 | kauai | anahola | E:/Data/AOI_Shapefiles/kauai/anahola.shp |  4 | POLYGON ((468589.8 2447514,... |\n| 1 | kauai | anahola | E:/Data/AOI_Shapefiles/kauai/anahola.shp |  5 | POLYGON ((468973.8 2447514,... |\n| 1 | kauai | anahola | E:/Data/AOI_Shapefiles/kauai/anahola.shp |  6 | POLYGON ((469357.8 2447514,... |\n| 1 | kauai | anahola | E:/Data/AOI_Shapefiles/kauai/anahola.shp |  7 | POLYGON ((469741.8 2447514,... |\n| 1 | kauai | anahola | E:/Data/AOI_Shapefiles/kauai/anahola.shp |  8 | POLYGON ((470125.8 2447514,... |\n| 1 | kauai | anahola | E:/Data/AOI_Shapefiles/kauai/anahola.shp |  9 | POLYGON ((467821.8 2448282,... |\n| 1 | kauai | anahola | E:/Data/AOI_Shapefiles/kauai/anahola.shp | 10 | POLYGON ((467821.8 2448282,... |\n| 1 | kauai | anahola | E:/Data/AOI_Shapefiles/kauai/anahola.shp | 11 | POLYGON ((468205.8 2448282,... |\n| 1 | kauai | anahola | E:/Data/AOI_Shapefiles/kauai/anahola.shp | 12 | POLYGON ((468589.8 2448282,... |\n| 1 | kauai | anahola | E:/Data/AOI_Shapefiles/kauai/anahola.shp | 13 | POLYGON ((468973.8 2448282,... |\n| 1 | kauai | anahola | E:/Data/AOI_Shapefiles/kauai/anahola.shp | 14 | POLYGON ((469357.8 2448282,... |\n| 1 | kauai | anahola | E:/Data/AOI_Shapefiles/kauai/anahola.shp | 15 | POLYGON ((469741.8 2448282,... |\n| 1 | kauai | anahola | E:/Data/AOI_Shapefiles/kauai/anahola.shp | 16 | POLYGON ((470125.8 2447898,... |\n| 1 | kauai | anahola | E:/Data/AOI_Shapefiles/kauai/anahola.shp | 17 | POLYGON ((467821.8 2448666,... |\n| 1 | kauai | anahola | E:/Data/AOI_Shapefiles/kauai/anahola.shp | 18 | POLYGON ((467821.8 2448666,... |\n| 1 | kauai | anahola | E:/Data/AOI_Shapefiles/kauai/anahola.shp | 19 | POLYGON ((468205.8 2448666,... |\n| 1 | kauai | anahola | E:/Data/AOI_Shapefiles/kauai/anahola.shp | 20 | POLYGON ((468589.8 2448666,... |\n| 1 | kauai | anahola | E:/Data/AOI_Shapefiles/kauai/anahola.shp | 21 | POLYGON ((468973.8 2448666,... |\n| 1 | kauai | anahola | E:/Data/AOI_Shapefiles/kauai/anahola.shp | 22 | POLYGON ((469357.8 2448666,... |\n| 1 | kauai | anahola | E:/Data/AOI_Shapefiles/kauai/anahola.shp | 23 | POLYGON ((469741.8 2448666,... |\n| 1 | kauai | anahola | E:/Data/AOI_Shapefiles/kauai/anahola.shp | 24 | POLYGON ((470125.8 2448282,... |\n| 1 | kauai | anahola | E:/Data/AOI_Shapefiles/kauai/anahola.shp | 25 | POLYGON ((467821.8 2449050,... |\n| 1 | kauai | anahola | E:/Data/AOI_Shapefiles/kauai/anahola.shp | 26 | POLYGON ((467821.8 2449050,... |\n| 1 | kauai | anahola | E:/Data/AOI_Shapefiles/kauai/anahola.shp | 27 | POLYGON ((468205.8 2449050,... |\n| 1 | kauai | anahola | E:/Data/AOI_Shapefiles/kauai/anahola.shp | 28 | POLYGON ((468589.8 2449050,... |\n| 1 | kauai | anahola | E:/Data/AOI_Shapefiles/kauai/anahola.shp | 29 | POLYGON ((468973.8 2449050,... |\n| 1 | kauai | anahola | E:/Data/AOI_Shapefiles/kauai/anahola.shp | 30 | POLYGON ((469357.8 2449050,... |\n| ⋮ | ⋮ | ⋮ | ⋮ | ⋮ | ⋮ |\n| 1 | kauai | wailua_opaekaa | E:/Data/AOI_Shapefiles/kauai/wailua_opaekaa.shp | 61 | POLYGON ((464507.4 2441957,... |\n| 1 | kauai | wailua_opaekaa | E:/Data/AOI_Shapefiles/kauai/wailua_opaekaa.shp | 62 | POLYGON ((464507.4 2441957,... |\n| 1 | kauai | wailua_opaekaa | E:/Data/AOI_Shapefiles/kauai/wailua_opaekaa.shp | 63 | POLYGON ((464891.4 2441957,... |\n| 1 | kauai | wailua_opaekaa | E:/Data/AOI_Shapefiles/kauai/wailua_opaekaa.shp | 64 | POLYGON ((465275.4 2441957,... |\n| 1 | kauai | wailua_opaekaa | E:/Data/AOI_Shapefiles/kauai/wailua_opaekaa.shp | 65 | POLYGON ((465659.4 2441957,... |\n| 1 | kauai | wailua_opaekaa | E:/Data/AOI_Shapefiles/kauai/wailua_opaekaa.shp | 66 | POLYGON ((466043.4 2441957,... |\n| 1 | kauai | wailua_opaekaa | E:/Data/AOI_Shapefiles/kauai/wailua_opaekaa.shp | 67 | POLYGON ((466427.4 2441957,... |\n| 1 | kauai | wailua_opaekaa | E:/Data/AOI_Shapefiles/kauai/wailua_opaekaa.shp | 68 | POLYGON ((466811.3 2441957,... |\n| 1 | kauai | wailua_opaekaa | E:/Data/AOI_Shapefiles/kauai/wailua_opaekaa.shp | 69 | POLYGON ((467195.3 2441957,... |\n| 1 | kauai | wailua_opaekaa | E:/Data/AOI_Shapefiles/kauai/wailua_opaekaa.shp | 70 | POLYGON ((467579.3 2441573,... |\n| 1 | kauai | wailua_opaekaa | E:/Data/AOI_Shapefiles/kauai/wailua_opaekaa.shp | 71 | POLYGON ((464507.4 2442341,... |\n| 1 | kauai | wailua_opaekaa | E:/Data/AOI_Shapefiles/kauai/wailua_opaekaa.shp | 72 | POLYGON ((464507.4 2442341,... |\n| 1 | kauai | wailua_opaekaa | E:/Data/AOI_Shapefiles/kauai/wailua_opaekaa.shp | 73 | POLYGON ((464891.4 2442341,... |\n| 1 | kauai | wailua_opaekaa | E:/Data/AOI_Shapefiles/kauai/wailua_opaekaa.shp | 74 | POLYGON ((465275.4 2442341,... |\n| 1 | kauai | wailua_opaekaa | E:/Data/AOI_Shapefiles/kauai/wailua_opaekaa.shp | 75 | POLYGON ((465659.4 2442341,... |\n| 1 | kauai | wailua_opaekaa | E:/Data/AOI_Shapefiles/kauai/wailua_opaekaa.shp | 76 | POLYGON ((466043.4 2442341,... |\n| 1 | kauai | wailua_opaekaa | E:/Data/AOI_Shapefiles/kauai/wailua_opaekaa.shp | 77 | POLYGON ((466427.4 2442341,... |\n| 1 | kauai | wailua_opaekaa | E:/Data/AOI_Shapefiles/kauai/wailua_opaekaa.shp | 78 | POLYGON ((466811.3 2442341,... |\n| 1 | kauai | wailua_opaekaa | E:/Data/AOI_Shapefiles/kauai/wailua_opaekaa.shp | 79 | POLYGON ((467195.3 2442341,... |\n| 1 | kauai | wailua_opaekaa | E:/Data/AOI_Shapefiles/kauai/wailua_opaekaa.shp | 80 | POLYGON ((467579.3 2441957,... |\n| 1 | kauai | wailua_opaekaa | E:/Data/AOI_Shapefiles/kauai/wailua_opaekaa.shp | 81 | POLYGON ((464507.4 2442341,... |\n| 1 | kauai | wailua_opaekaa | E:/Data/AOI_Shapefiles/kauai/wailua_opaekaa.shp | 82 | POLYGON ((464891.4 2442341,... |\n| 1 | kauai | wailua_opaekaa | E:/Data/AOI_Shapefiles/kauai/wailua_opaekaa.shp | 83 | POLYGON ((465275.4 2442341,... |\n| 1 | kauai | wailua_opaekaa | E:/Data/AOI_Shapefiles/kauai/wailua_opaekaa.shp | 84 | POLYGON ((465659.4 2442341,... |\n| 1 | kauai | wailua_opaekaa | E:/Data/AOI_Shapefiles/kauai/wailua_opaekaa.shp | 85 | POLYGON ((466043.4 2442341,... |\n| 1 | kauai | wailua_opaekaa | E:/Data/AOI_Shapefiles/kauai/wailua_opaekaa.shp | 86 | POLYGON ((466427.4 2442341,... |\n| 1 | kauai | wailua_opaekaa | E:/Data/AOI_Shapefiles/kauai/wailua_opaekaa.shp | 87 | POLYGON ((466811.3 2442341,... |\n| 1 | kauai | wailua_opaekaa | E:/Data/AOI_Shapefiles/kauai/wailua_opaekaa.shp | 88 | POLYGON ((467195.3 2442341,... |\n| 1 | kauai | wailua_opaekaa | E:/Data/AOI_Shapefiles/kauai/wailua_opaekaa.shp | 89 | POLYGON ((467579.3 2442341,... |\n| 1 | kauai | wailua_opaekaa | E:/Data/AOI_Shapefiles/kauai/wailua_opaekaa.shp | 90 | POLYGON ((467579.3 2442341,... |\n\n",
            "text/latex": "A sf: 2666 × 6\n\\begin{tabular}{llllll}\n id & island & layer & path & rowid & x\\\\\n <dbl> & <chr> & <chr> & <chr> & <int> & <POLYGON {[}m{]}>\\\\\n\\hline\n\t 1 & kauai & anahola & E:/Data/AOI\\_Shapefiles/kauai/anahola.shp &  1 & POLYGON ((467437.8 2447514,...\\\\\n\t 1 & kauai & anahola & E:/Data/AOI\\_Shapefiles/kauai/anahola.shp &  2 & POLYGON ((467821.8 2447514,...\\\\\n\t 1 & kauai & anahola & E:/Data/AOI\\_Shapefiles/kauai/anahola.shp &  3 & POLYGON ((468205.8 2447514,...\\\\\n\t 1 & kauai & anahola & E:/Data/AOI\\_Shapefiles/kauai/anahola.shp &  4 & POLYGON ((468589.8 2447514,...\\\\\n\t 1 & kauai & anahola & E:/Data/AOI\\_Shapefiles/kauai/anahola.shp &  5 & POLYGON ((468973.8 2447514,...\\\\\n\t 1 & kauai & anahola & E:/Data/AOI\\_Shapefiles/kauai/anahola.shp &  6 & POLYGON ((469357.8 2447514,...\\\\\n\t 1 & kauai & anahola & E:/Data/AOI\\_Shapefiles/kauai/anahola.shp &  7 & POLYGON ((469741.8 2447514,...\\\\\n\t 1 & kauai & anahola & E:/Data/AOI\\_Shapefiles/kauai/anahola.shp &  8 & POLYGON ((470125.8 2447514,...\\\\\n\t 1 & kauai & anahola & E:/Data/AOI\\_Shapefiles/kauai/anahola.shp &  9 & POLYGON ((467821.8 2448282,...\\\\\n\t 1 & kauai & anahola & E:/Data/AOI\\_Shapefiles/kauai/anahola.shp & 10 & POLYGON ((467821.8 2448282,...\\\\\n\t 1 & kauai & anahola & E:/Data/AOI\\_Shapefiles/kauai/anahola.shp & 11 & POLYGON ((468205.8 2448282,...\\\\\n\t 1 & kauai & anahola & E:/Data/AOI\\_Shapefiles/kauai/anahola.shp & 12 & POLYGON ((468589.8 2448282,...\\\\\n\t 1 & kauai & anahola & E:/Data/AOI\\_Shapefiles/kauai/anahola.shp & 13 & POLYGON ((468973.8 2448282,...\\\\\n\t 1 & kauai & anahola & E:/Data/AOI\\_Shapefiles/kauai/anahola.shp & 14 & POLYGON ((469357.8 2448282,...\\\\\n\t 1 & kauai & anahola & E:/Data/AOI\\_Shapefiles/kauai/anahola.shp & 15 & POLYGON ((469741.8 2448282,...\\\\\n\t 1 & kauai & anahola & E:/Data/AOI\\_Shapefiles/kauai/anahola.shp & 16 & POLYGON ((470125.8 2447898,...\\\\\n\t 1 & kauai & anahola & E:/Data/AOI\\_Shapefiles/kauai/anahola.shp & 17 & POLYGON ((467821.8 2448666,...\\\\\n\t 1 & kauai & anahola & E:/Data/AOI\\_Shapefiles/kauai/anahola.shp & 18 & POLYGON ((467821.8 2448666,...\\\\\n\t 1 & kauai & anahola & E:/Data/AOI\\_Shapefiles/kauai/anahola.shp & 19 & POLYGON ((468205.8 2448666,...\\\\\n\t 1 & kauai & anahola & E:/Data/AOI\\_Shapefiles/kauai/anahola.shp & 20 & POLYGON ((468589.8 2448666,...\\\\\n\t 1 & kauai & anahola & E:/Data/AOI\\_Shapefiles/kauai/anahola.shp & 21 & POLYGON ((468973.8 2448666,...\\\\\n\t 1 & kauai & anahola & E:/Data/AOI\\_Shapefiles/kauai/anahola.shp & 22 & POLYGON ((469357.8 2448666,...\\\\\n\t 1 & kauai & anahola & E:/Data/AOI\\_Shapefiles/kauai/anahola.shp & 23 & POLYGON ((469741.8 2448666,...\\\\\n\t 1 & kauai & anahola & E:/Data/AOI\\_Shapefiles/kauai/anahola.shp & 24 & POLYGON ((470125.8 2448282,...\\\\\n\t 1 & kauai & anahola & E:/Data/AOI\\_Shapefiles/kauai/anahola.shp & 25 & POLYGON ((467821.8 2449050,...\\\\\n\t 1 & kauai & anahola & E:/Data/AOI\\_Shapefiles/kauai/anahola.shp & 26 & POLYGON ((467821.8 2449050,...\\\\\n\t 1 & kauai & anahola & E:/Data/AOI\\_Shapefiles/kauai/anahola.shp & 27 & POLYGON ((468205.8 2449050,...\\\\\n\t 1 & kauai & anahola & E:/Data/AOI\\_Shapefiles/kauai/anahola.shp & 28 & POLYGON ((468589.8 2449050,...\\\\\n\t 1 & kauai & anahola & E:/Data/AOI\\_Shapefiles/kauai/anahola.shp & 29 & POLYGON ((468973.8 2449050,...\\\\\n\t 1 & kauai & anahola & E:/Data/AOI\\_Shapefiles/kauai/anahola.shp & 30 & POLYGON ((469357.8 2449050,...\\\\\n\t ⋮ & ⋮ & ⋮ & ⋮ & ⋮ & ⋮\\\\\n\t 1 & kauai & wailua\\_opaekaa & E:/Data/AOI\\_Shapefiles/kauai/wailua\\_opaekaa.shp & 61 & POLYGON ((464507.4 2441957,...\\\\\n\t 1 & kauai & wailua\\_opaekaa & E:/Data/AOI\\_Shapefiles/kauai/wailua\\_opaekaa.shp & 62 & POLYGON ((464507.4 2441957,...\\\\\n\t 1 & kauai & wailua\\_opaekaa & E:/Data/AOI\\_Shapefiles/kauai/wailua\\_opaekaa.shp & 63 & POLYGON ((464891.4 2441957,...\\\\\n\t 1 & kauai & wailua\\_opaekaa & E:/Data/AOI\\_Shapefiles/kauai/wailua\\_opaekaa.shp & 64 & POLYGON ((465275.4 2441957,...\\\\\n\t 1 & kauai & wailua\\_opaekaa & E:/Data/AOI\\_Shapefiles/kauai/wailua\\_opaekaa.shp & 65 & POLYGON ((465659.4 2441957,...\\\\\n\t 1 & kauai & wailua\\_opaekaa & E:/Data/AOI\\_Shapefiles/kauai/wailua\\_opaekaa.shp & 66 & POLYGON ((466043.4 2441957,...\\\\\n\t 1 & kauai & wailua\\_opaekaa & E:/Data/AOI\\_Shapefiles/kauai/wailua\\_opaekaa.shp & 67 & POLYGON ((466427.4 2441957,...\\\\\n\t 1 & kauai & wailua\\_opaekaa & E:/Data/AOI\\_Shapefiles/kauai/wailua\\_opaekaa.shp & 68 & POLYGON ((466811.3 2441957,...\\\\\n\t 1 & kauai & wailua\\_opaekaa & E:/Data/AOI\\_Shapefiles/kauai/wailua\\_opaekaa.shp & 69 & POLYGON ((467195.3 2441957,...\\\\\n\t 1 & kauai & wailua\\_opaekaa & E:/Data/AOI\\_Shapefiles/kauai/wailua\\_opaekaa.shp & 70 & POLYGON ((467579.3 2441573,...\\\\\n\t 1 & kauai & wailua\\_opaekaa & E:/Data/AOI\\_Shapefiles/kauai/wailua\\_opaekaa.shp & 71 & POLYGON ((464507.4 2442341,...\\\\\n\t 1 & kauai & wailua\\_opaekaa & E:/Data/AOI\\_Shapefiles/kauai/wailua\\_opaekaa.shp & 72 & POLYGON ((464507.4 2442341,...\\\\\n\t 1 & kauai & wailua\\_opaekaa & E:/Data/AOI\\_Shapefiles/kauai/wailua\\_opaekaa.shp & 73 & POLYGON ((464891.4 2442341,...\\\\\n\t 1 & kauai & wailua\\_opaekaa & E:/Data/AOI\\_Shapefiles/kauai/wailua\\_opaekaa.shp & 74 & POLYGON ((465275.4 2442341,...\\\\\n\t 1 & kauai & wailua\\_opaekaa & E:/Data/AOI\\_Shapefiles/kauai/wailua\\_opaekaa.shp & 75 & POLYGON ((465659.4 2442341,...\\\\\n\t 1 & kauai & wailua\\_opaekaa & E:/Data/AOI\\_Shapefiles/kauai/wailua\\_opaekaa.shp & 76 & POLYGON ((466043.4 2442341,...\\\\\n\t 1 & kauai & wailua\\_opaekaa & E:/Data/AOI\\_Shapefiles/kauai/wailua\\_opaekaa.shp & 77 & POLYGON ((466427.4 2442341,...\\\\\n\t 1 & kauai & wailua\\_opaekaa & E:/Data/AOI\\_Shapefiles/kauai/wailua\\_opaekaa.shp & 78 & POLYGON ((466811.3 2442341,...\\\\\n\t 1 & kauai & wailua\\_opaekaa & E:/Data/AOI\\_Shapefiles/kauai/wailua\\_opaekaa.shp & 79 & POLYGON ((467195.3 2442341,...\\\\\n\t 1 & kauai & wailua\\_opaekaa & E:/Data/AOI\\_Shapefiles/kauai/wailua\\_opaekaa.shp & 80 & POLYGON ((467579.3 2441957,...\\\\\n\t 1 & kauai & wailua\\_opaekaa & E:/Data/AOI\\_Shapefiles/kauai/wailua\\_opaekaa.shp & 81 & POLYGON ((464507.4 2442341,...\\\\\n\t 1 & kauai & wailua\\_opaekaa & E:/Data/AOI\\_Shapefiles/kauai/wailua\\_opaekaa.shp & 82 & POLYGON ((464891.4 2442341,...\\\\\n\t 1 & kauai & wailua\\_opaekaa & E:/Data/AOI\\_Shapefiles/kauai/wailua\\_opaekaa.shp & 83 & POLYGON ((465275.4 2442341,...\\\\\n\t 1 & kauai & wailua\\_opaekaa & E:/Data/AOI\\_Shapefiles/kauai/wailua\\_opaekaa.shp & 84 & POLYGON ((465659.4 2442341,...\\\\\n\t 1 & kauai & wailua\\_opaekaa & E:/Data/AOI\\_Shapefiles/kauai/wailua\\_opaekaa.shp & 85 & POLYGON ((466043.4 2442341,...\\\\\n\t 1 & kauai & wailua\\_opaekaa & E:/Data/AOI\\_Shapefiles/kauai/wailua\\_opaekaa.shp & 86 & POLYGON ((466427.4 2442341,...\\\\\n\t 1 & kauai & wailua\\_opaekaa & E:/Data/AOI\\_Shapefiles/kauai/wailua\\_opaekaa.shp & 87 & POLYGON ((466811.3 2442341,...\\\\\n\t 1 & kauai & wailua\\_opaekaa & E:/Data/AOI\\_Shapefiles/kauai/wailua\\_opaekaa.shp & 88 & POLYGON ((467195.3 2442341,...\\\\\n\t 1 & kauai & wailua\\_opaekaa & E:/Data/AOI\\_Shapefiles/kauai/wailua\\_opaekaa.shp & 89 & POLYGON ((467579.3 2442341,...\\\\\n\t 1 & kauai & wailua\\_opaekaa & E:/Data/AOI\\_Shapefiles/kauai/wailua\\_opaekaa.shp & 90 & POLYGON ((467579.3 2442341,...\\\\\n\\end{tabular}\n",
            "text/plain": [
              "     id island layer          path                                           \n",
              "1    1  kauai  anahola        E:/Data/AOI_Shapefiles/kauai/anahola.shp       \n",
              "2    1  kauai  anahola        E:/Data/AOI_Shapefiles/kauai/anahola.shp       \n",
              "3    1  kauai  anahola        E:/Data/AOI_Shapefiles/kauai/anahola.shp       \n",
              "4    1  kauai  anahola        E:/Data/AOI_Shapefiles/kauai/anahola.shp       \n",
              "5    1  kauai  anahola        E:/Data/AOI_Shapefiles/kauai/anahola.shp       \n",
              "6    1  kauai  anahola        E:/Data/AOI_Shapefiles/kauai/anahola.shp       \n",
              "7    1  kauai  anahola        E:/Data/AOI_Shapefiles/kauai/anahola.shp       \n",
              "8    1  kauai  anahola        E:/Data/AOI_Shapefiles/kauai/anahola.shp       \n",
              "9    1  kauai  anahola        E:/Data/AOI_Shapefiles/kauai/anahola.shp       \n",
              "10   1  kauai  anahola        E:/Data/AOI_Shapefiles/kauai/anahola.shp       \n",
              "11   1  kauai  anahola        E:/Data/AOI_Shapefiles/kauai/anahola.shp       \n",
              "12   1  kauai  anahola        E:/Data/AOI_Shapefiles/kauai/anahola.shp       \n",
              "13   1  kauai  anahola        E:/Data/AOI_Shapefiles/kauai/anahola.shp       \n",
              "14   1  kauai  anahola        E:/Data/AOI_Shapefiles/kauai/anahola.shp       \n",
              "15   1  kauai  anahola        E:/Data/AOI_Shapefiles/kauai/anahola.shp       \n",
              "16   1  kauai  anahola        E:/Data/AOI_Shapefiles/kauai/anahola.shp       \n",
              "17   1  kauai  anahola        E:/Data/AOI_Shapefiles/kauai/anahola.shp       \n",
              "18   1  kauai  anahola        E:/Data/AOI_Shapefiles/kauai/anahola.shp       \n",
              "19   1  kauai  anahola        E:/Data/AOI_Shapefiles/kauai/anahola.shp       \n",
              "20   1  kauai  anahola        E:/Data/AOI_Shapefiles/kauai/anahola.shp       \n",
              "21   1  kauai  anahola        E:/Data/AOI_Shapefiles/kauai/anahola.shp       \n",
              "22   1  kauai  anahola        E:/Data/AOI_Shapefiles/kauai/anahola.shp       \n",
              "23   1  kauai  anahola        E:/Data/AOI_Shapefiles/kauai/anahola.shp       \n",
              "24   1  kauai  anahola        E:/Data/AOI_Shapefiles/kauai/anahola.shp       \n",
              "25   1  kauai  anahola        E:/Data/AOI_Shapefiles/kauai/anahola.shp       \n",
              "26   1  kauai  anahola        E:/Data/AOI_Shapefiles/kauai/anahola.shp       \n",
              "27   1  kauai  anahola        E:/Data/AOI_Shapefiles/kauai/anahola.shp       \n",
              "28   1  kauai  anahola        E:/Data/AOI_Shapefiles/kauai/anahola.shp       \n",
              "29   1  kauai  anahola        E:/Data/AOI_Shapefiles/kauai/anahola.shp       \n",
              "30   1  kauai  anahola        E:/Data/AOI_Shapefiles/kauai/anahola.shp       \n",
              "⋮    ⋮  ⋮      ⋮              ⋮                                              \n",
              "2637 1  kauai  wailua_opaekaa E:/Data/AOI_Shapefiles/kauai/wailua_opaekaa.shp\n",
              "2638 1  kauai  wailua_opaekaa E:/Data/AOI_Shapefiles/kauai/wailua_opaekaa.shp\n",
              "2639 1  kauai  wailua_opaekaa E:/Data/AOI_Shapefiles/kauai/wailua_opaekaa.shp\n",
              "2640 1  kauai  wailua_opaekaa E:/Data/AOI_Shapefiles/kauai/wailua_opaekaa.shp\n",
              "2641 1  kauai  wailua_opaekaa E:/Data/AOI_Shapefiles/kauai/wailua_opaekaa.shp\n",
              "2642 1  kauai  wailua_opaekaa E:/Data/AOI_Shapefiles/kauai/wailua_opaekaa.shp\n",
              "2643 1  kauai  wailua_opaekaa E:/Data/AOI_Shapefiles/kauai/wailua_opaekaa.shp\n",
              "2644 1  kauai  wailua_opaekaa E:/Data/AOI_Shapefiles/kauai/wailua_opaekaa.shp\n",
              "2645 1  kauai  wailua_opaekaa E:/Data/AOI_Shapefiles/kauai/wailua_opaekaa.shp\n",
              "2646 1  kauai  wailua_opaekaa E:/Data/AOI_Shapefiles/kauai/wailua_opaekaa.shp\n",
              "2647 1  kauai  wailua_opaekaa E:/Data/AOI_Shapefiles/kauai/wailua_opaekaa.shp\n",
              "2648 1  kauai  wailua_opaekaa E:/Data/AOI_Shapefiles/kauai/wailua_opaekaa.shp\n",
              "2649 1  kauai  wailua_opaekaa E:/Data/AOI_Shapefiles/kauai/wailua_opaekaa.shp\n",
              "2650 1  kauai  wailua_opaekaa E:/Data/AOI_Shapefiles/kauai/wailua_opaekaa.shp\n",
              "2651 1  kauai  wailua_opaekaa E:/Data/AOI_Shapefiles/kauai/wailua_opaekaa.shp\n",
              "2652 1  kauai  wailua_opaekaa E:/Data/AOI_Shapefiles/kauai/wailua_opaekaa.shp\n",
              "2653 1  kauai  wailua_opaekaa E:/Data/AOI_Shapefiles/kauai/wailua_opaekaa.shp\n",
              "2654 1  kauai  wailua_opaekaa E:/Data/AOI_Shapefiles/kauai/wailua_opaekaa.shp\n",
              "2655 1  kauai  wailua_opaekaa E:/Data/AOI_Shapefiles/kauai/wailua_opaekaa.shp\n",
              "2656 1  kauai  wailua_opaekaa E:/Data/AOI_Shapefiles/kauai/wailua_opaekaa.shp\n",
              "2657 1  kauai  wailua_opaekaa E:/Data/AOI_Shapefiles/kauai/wailua_opaekaa.shp\n",
              "2658 1  kauai  wailua_opaekaa E:/Data/AOI_Shapefiles/kauai/wailua_opaekaa.shp\n",
              "2659 1  kauai  wailua_opaekaa E:/Data/AOI_Shapefiles/kauai/wailua_opaekaa.shp\n",
              "2660 1  kauai  wailua_opaekaa E:/Data/AOI_Shapefiles/kauai/wailua_opaekaa.shp\n",
              "2661 1  kauai  wailua_opaekaa E:/Data/AOI_Shapefiles/kauai/wailua_opaekaa.shp\n",
              "2662 1  kauai  wailua_opaekaa E:/Data/AOI_Shapefiles/kauai/wailua_opaekaa.shp\n",
              "2663 1  kauai  wailua_opaekaa E:/Data/AOI_Shapefiles/kauai/wailua_opaekaa.shp\n",
              "2664 1  kauai  wailua_opaekaa E:/Data/AOI_Shapefiles/kauai/wailua_opaekaa.shp\n",
              "2665 1  kauai  wailua_opaekaa E:/Data/AOI_Shapefiles/kauai/wailua_opaekaa.shp\n",
              "2666 1  kauai  wailua_opaekaa E:/Data/AOI_Shapefiles/kauai/wailua_opaekaa.shp\n",
              "     rowid x                             \n",
              "1     1    POLYGON ((467437.8 2447514,...\n",
              "2     2    POLYGON ((467821.8 2447514,...\n",
              "3     3    POLYGON ((468205.8 2447514,...\n",
              "4     4    POLYGON ((468589.8 2447514,...\n",
              "5     5    POLYGON ((468973.8 2447514,...\n",
              "6     6    POLYGON ((469357.8 2447514,...\n",
              "7     7    POLYGON ((469741.8 2447514,...\n",
              "8     8    POLYGON ((470125.8 2447514,...\n",
              "9     9    POLYGON ((467821.8 2448282,...\n",
              "10   10    POLYGON ((467821.8 2448282,...\n",
              "11   11    POLYGON ((468205.8 2448282,...\n",
              "12   12    POLYGON ((468589.8 2448282,...\n",
              "13   13    POLYGON ((468973.8 2448282,...\n",
              "14   14    POLYGON ((469357.8 2448282,...\n",
              "15   15    POLYGON ((469741.8 2448282,...\n",
              "16   16    POLYGON ((470125.8 2447898,...\n",
              "17   17    POLYGON ((467821.8 2448666,...\n",
              "18   18    POLYGON ((467821.8 2448666,...\n",
              "19   19    POLYGON ((468205.8 2448666,...\n",
              "20   20    POLYGON ((468589.8 2448666,...\n",
              "21   21    POLYGON ((468973.8 2448666,...\n",
              "22   22    POLYGON ((469357.8 2448666,...\n",
              "23   23    POLYGON ((469741.8 2448666,...\n",
              "24   24    POLYGON ((470125.8 2448282,...\n",
              "25   25    POLYGON ((467821.8 2449050,...\n",
              "26   26    POLYGON ((467821.8 2449050,...\n",
              "27   27    POLYGON ((468205.8 2449050,...\n",
              "28   28    POLYGON ((468589.8 2449050,...\n",
              "29   29    POLYGON ((468973.8 2449050,...\n",
              "30   30    POLYGON ((469357.8 2449050,...\n",
              "⋮    ⋮     ⋮                             \n",
              "2637 61    POLYGON ((464507.4 2441957,...\n",
              "2638 62    POLYGON ((464507.4 2441957,...\n",
              "2639 63    POLYGON ((464891.4 2441957,...\n",
              "2640 64    POLYGON ((465275.4 2441957,...\n",
              "2641 65    POLYGON ((465659.4 2441957,...\n",
              "2642 66    POLYGON ((466043.4 2441957,...\n",
              "2643 67    POLYGON ((466427.4 2441957,...\n",
              "2644 68    POLYGON ((466811.3 2441957,...\n",
              "2645 69    POLYGON ((467195.3 2441957,...\n",
              "2646 70    POLYGON ((467579.3 2441573,...\n",
              "2647 71    POLYGON ((464507.4 2442341,...\n",
              "2648 72    POLYGON ((464507.4 2442341,...\n",
              "2649 73    POLYGON ((464891.4 2442341,...\n",
              "2650 74    POLYGON ((465275.4 2442341,...\n",
              "2651 75    POLYGON ((465659.4 2442341,...\n",
              "2652 76    POLYGON ((466043.4 2442341,...\n",
              "2653 77    POLYGON ((466427.4 2442341,...\n",
              "2654 78    POLYGON ((466811.3 2442341,...\n",
              "2655 79    POLYGON ((467195.3 2442341,...\n",
              "2656 80    POLYGON ((467579.3 2441957,...\n",
              "2657 81    POLYGON ((464507.4 2442341,...\n",
              "2658 82    POLYGON ((464891.4 2442341,...\n",
              "2659 83    POLYGON ((465275.4 2442341,...\n",
              "2660 84    POLYGON ((465659.4 2442341,...\n",
              "2661 85    POLYGON ((466043.4 2442341,...\n",
              "2662 86    POLYGON ((466427.4 2442341,...\n",
              "2663 87    POLYGON ((466811.3 2442341,...\n",
              "2664 88    POLYGON ((467195.3 2442341,...\n",
              "2665 89    POLYGON ((467579.3 2442341,...\n",
              "2666 90    POLYGON ((467579.3 2442341,..."
            ]
          },
          "metadata": {}
        }
      ]
    },
    {
      "cell_type": "code",
      "source": [
        "# ttt <- c(15) %>% lapply(function(t){\n",
        "# location_name <- test_05_wetlandsFishnet_sf$island\n",
        "# matching_row <- test_05_planet_dt[location_name == test_05_planet_dt$location_name]\n",
        "# planet_file_path <- matching_row$planet_file_path[1]\n",
        "# planet_raster <- stack(planet_file_path)\n",
        "\n",
        "# # test_05_wetlands_sf <- st_as_sf(test_05_wetlandsFishnet_sf[t,]) %>% st_transform(crs = st_crs(26904))\n",
        "# # test_05_wetlands_sf <- st_as_sf(test_05_wetlandsFishnet_sf[t,]) %>% st_transform(CRS(\"+init=epsg:26904\"))\n",
        "# test_05_wetlands_sf <- st_as_sf(test_05_wetlandsFishnet_sf[t,]) %>% st_transform(crs = st_crs(\"+init=epsg:26904\"))\n",
        "\n",
        "\n",
        "\n",
        "# test_05_planet_cropped <- crop(planet_raster, extent(test_05_wetlands_sf))\n",
        "# test_05_template_extent <- extent(test_05_planet_cropped)\n",
        "# # test_05_template_raster <- raster(nrows = 384, ncols = 384, ext = test_05_template_extent, crs = st_crs(26904))\n",
        "# # test_05_template_raster <- raster(nrows = 384, ncols = 384, ext = test_05_template_extent, CRS(\"+init=epsg:26904\"))\n",
        "# test_05_template_raster <- raster(nrows = 384, ncols = 384, ext = test_05_template_extent, crs = st_crs(\"+init=epsg:26904\"))\n",
        "\n",
        "\n",
        "# test_05_planet_resampled <- resample(test_05_planet_cropped, test_05_template_raster, method = \"ngb\") # This is the planet tiles!!!\n",
        "\n",
        "\n",
        "\n",
        "# test_05_planet_resampled %>% writeRaster(paste0('/content/', t, '_planetnad.tif'), overwrite = TRUE)\n",
        "\n",
        "\n",
        "#   })\n"
      ],
      "metadata": {
        "id": "M4hHKHgsBsek"
      },
      "execution_count": null,
      "outputs": []
    },
    {
      "cell_type": "code",
      "source": [
        "test_05_wetlandsFishnet_sf"
      ],
      "metadata": {
        "colab": {
          "base_uri": "https://localhost:8080/",
          "height": 1000
        },
        "id": "lllzUs1GPzmD",
        "outputId": "1ee8c8e0-8709-49c7-b8a3-2a9e855024e9"
      },
      "execution_count": 72,
      "outputs": [
        {
          "output_type": "stream",
          "name": "stderr",
          "text": [
            "ERROR while rich displaying an object: Error in loadNamespace(x): there is no package called ‘geojsonio’\n",
            "\n",
            "Traceback:\n",
            "1. tryCatch(withCallingHandlers({\n",
            " .     if (!mime %in% names(repr::mime2repr)) \n",
            " .         stop(\"No repr_* for mimetype \", mime, \" in repr::mime2repr\")\n",
            " .     rpr <- repr::mime2repr[[mime]](obj)\n",
            " .     if (is.null(rpr)) \n",
            " .         return(NULL)\n",
            " .     prepare_content(is.raw(rpr), rpr)\n",
            " . }, error = error_handler), error = outer_handler)\n",
            "2. tryCatchList(expr, classes, parentenv, handlers)\n",
            "3. tryCatchOne(expr, names, parentenv, handlers[[1L]])\n",
            "4. doTryCatch(return(expr), name, parentenv, handler)\n",
            "5. withCallingHandlers({\n",
            " .     if (!mime %in% names(repr::mime2repr)) \n",
            " .         stop(\"No repr_* for mimetype \", mime, \" in repr::mime2repr\")\n",
            " .     rpr <- repr::mime2repr[[mime]](obj)\n",
            " .     if (is.null(rpr)) \n",
            " .         return(NULL)\n",
            " .     prepare_content(is.raw(rpr), rpr)\n",
            " . }, error = error_handler)\n",
            "6. repr::mime2repr[[mime]](obj)\n",
            "7. repr_geojson.sf(obj)\n",
            "8. repr_geojson(geojsonio::geojson_list(obj), ...)\n",
            "9. loadNamespace(x)\n",
            "10. withRestarts(stop(cond), retry_loadNamespace = function() NULL)\n",
            "11. withOneRestart(expr, restarts[[1L]])\n",
            "12. doWithOneRestart(return(expr), restart)\n"
          ]
        },
        {
          "output_type": "display_data",
          "data": {
            "text/html": [
              "<table class=\"dataframe\">\n",
              "<caption>A sf: 2666 × 3</caption>\n",
              "<thead>\n",
              "\t<tr><th scope=col>rowid</th><th scope=col>island</th><th scope=col>x</th></tr>\n",
              "\t<tr><th scope=col>&lt;int&gt;</th><th scope=col>&lt;chr&gt;</th><th scope=col>&lt;POLYGON [m]&gt;</th></tr>\n",
              "</thead>\n",
              "<tbody>\n",
              "\t<tr><td> 1</td><td>kauai</td><td>POLYGON ((467278.6 2447486,...</td></tr>\n",
              "\t<tr><td> 2</td><td>kauai</td><td>POLYGON ((467662.6 2447486,...</td></tr>\n",
              "\t<tr><td> 3</td><td>kauai</td><td>POLYGON ((468046.6 2447486,...</td></tr>\n",
              "\t<tr><td> 4</td><td>kauai</td><td>POLYGON ((468430.5 2447486,...</td></tr>\n",
              "\t<tr><td> 5</td><td>kauai</td><td>POLYGON ((468814.5 2447486,...</td></tr>\n",
              "\t<tr><td> 6</td><td>kauai</td><td>POLYGON ((469198.5 2447486,...</td></tr>\n",
              "\t<tr><td> 7</td><td>kauai</td><td>POLYGON ((469582.5 2447486,...</td></tr>\n",
              "\t<tr><td> 8</td><td>kauai</td><td>POLYGON ((469966.5 2447486,...</td></tr>\n",
              "\t<tr><td> 9</td><td>kauai</td><td>POLYGON ((467278.6 2447870,...</td></tr>\n",
              "\t<tr><td>10</td><td>kauai</td><td>POLYGON ((467662.6 2447870,...</td></tr>\n",
              "\t<tr><td>11</td><td>kauai</td><td>POLYGON ((468046.5 2447870,...</td></tr>\n",
              "\t<tr><td>12</td><td>kauai</td><td>POLYGON ((468430.5 2447870,...</td></tr>\n",
              "\t<tr><td>13</td><td>kauai</td><td>POLYGON ((468814.5 2447870,...</td></tr>\n",
              "\t<tr><td>14</td><td>kauai</td><td>POLYGON ((469198.5 2447870,...</td></tr>\n",
              "\t<tr><td>15</td><td>kauai</td><td>POLYGON ((469582.5 2447870,...</td></tr>\n",
              "\t<tr><td>16</td><td>kauai</td><td>POLYGON ((469966.5 2447870,...</td></tr>\n",
              "\t<tr><td>17</td><td>kauai</td><td>POLYGON ((467278.6 2448254,...</td></tr>\n",
              "\t<tr><td>18</td><td>kauai</td><td>POLYGON ((467662.6 2448254,...</td></tr>\n",
              "\t<tr><td>19</td><td>kauai</td><td>POLYGON ((468046.5 2448254,...</td></tr>\n",
              "\t<tr><td>20</td><td>kauai</td><td>POLYGON ((468430.5 2448254,...</td></tr>\n",
              "\t<tr><td>21</td><td>kauai</td><td>POLYGON ((468814.5 2448254,...</td></tr>\n",
              "\t<tr><td>22</td><td>kauai</td><td>POLYGON ((469198.5 2448254,...</td></tr>\n",
              "\t<tr><td>23</td><td>kauai</td><td>POLYGON ((469582.5 2448254,...</td></tr>\n",
              "\t<tr><td>24</td><td>kauai</td><td>POLYGON ((469966.5 2448254,...</td></tr>\n",
              "\t<tr><td>25</td><td>kauai</td><td>POLYGON ((467278.6 2448638,...</td></tr>\n",
              "\t<tr><td>26</td><td>kauai</td><td>POLYGON ((467662.5 2448638,...</td></tr>\n",
              "\t<tr><td>27</td><td>kauai</td><td>POLYGON ((468046.5 2448638,...</td></tr>\n",
              "\t<tr><td>28</td><td>kauai</td><td>POLYGON ((468430.5 2448638,...</td></tr>\n",
              "\t<tr><td>29</td><td>kauai</td><td>POLYGON ((468814.5 2448638,...</td></tr>\n",
              "\t<tr><td>30</td><td>kauai</td><td>POLYGON ((469198.5 2448638,...</td></tr>\n",
              "\t<tr><td>⋮</td><td>⋮</td><td>⋮</td></tr>\n",
              "\t<tr><td>61</td><td>kauai</td><td>POLYGON ((463988.6 2441388,...</td></tr>\n",
              "\t<tr><td>62</td><td>kauai</td><td>POLYGON ((464372.6 2441388,...</td></tr>\n",
              "\t<tr><td>63</td><td>kauai</td><td>POLYGON ((464756.6 2441388,...</td></tr>\n",
              "\t<tr><td>64</td><td>kauai</td><td>POLYGON ((465140.6 2441388,...</td></tr>\n",
              "\t<tr><td>65</td><td>kauai</td><td>POLYGON ((465524.6 2441388,...</td></tr>\n",
              "\t<tr><td>66</td><td>kauai</td><td>POLYGON ((465908.6 2441388,...</td></tr>\n",
              "\t<tr><td>67</td><td>kauai</td><td>POLYGON ((466292.6 2441388,...</td></tr>\n",
              "\t<tr><td>68</td><td>kauai</td><td>POLYGON ((466676.6 2441388,...</td></tr>\n",
              "\t<tr><td>69</td><td>kauai</td><td>POLYGON ((467060.6 2441388,...</td></tr>\n",
              "\t<tr><td>70</td><td>kauai</td><td>POLYGON ((467444.6 2441388,...</td></tr>\n",
              "\t<tr><td>71</td><td>kauai</td><td>POLYGON ((463988.6 2441772,...</td></tr>\n",
              "\t<tr><td>72</td><td>kauai</td><td>POLYGON ((464372.6 2441772,...</td></tr>\n",
              "\t<tr><td>73</td><td>kauai</td><td>POLYGON ((464756.6 2441772,...</td></tr>\n",
              "\t<tr><td>74</td><td>kauai</td><td>POLYGON ((465140.6 2441772,...</td></tr>\n",
              "\t<tr><td>75</td><td>kauai</td><td>POLYGON ((465524.6 2441772,...</td></tr>\n",
              "\t<tr><td>76</td><td>kauai</td><td>POLYGON ((465908.6 2441772,...</td></tr>\n",
              "\t<tr><td>77</td><td>kauai</td><td>POLYGON ((466292.6 2441772,...</td></tr>\n",
              "\t<tr><td>78</td><td>kauai</td><td>POLYGON ((466676.6 2441772,...</td></tr>\n",
              "\t<tr><td>79</td><td>kauai</td><td>POLYGON ((467060.6 2441772,...</td></tr>\n",
              "\t<tr><td>80</td><td>kauai</td><td>POLYGON ((467444.6 2441772,...</td></tr>\n",
              "\t<tr><td>81</td><td>kauai</td><td>POLYGON ((463988.6 2442156,...</td></tr>\n",
              "\t<tr><td>82</td><td>kauai</td><td>POLYGON ((464372.6 2442156,...</td></tr>\n",
              "\t<tr><td>83</td><td>kauai</td><td>POLYGON ((464756.6 2442156,...</td></tr>\n",
              "\t<tr><td>84</td><td>kauai</td><td>POLYGON ((465140.6 2442156,...</td></tr>\n",
              "\t<tr><td>85</td><td>kauai</td><td>POLYGON ((465524.6 2442156,...</td></tr>\n",
              "\t<tr><td>86</td><td>kauai</td><td>POLYGON ((465908.6 2442156,...</td></tr>\n",
              "\t<tr><td>87</td><td>kauai</td><td>POLYGON ((466292.6 2442156,...</td></tr>\n",
              "\t<tr><td>88</td><td>kauai</td><td>POLYGON ((466676.6 2442156,...</td></tr>\n",
              "\t<tr><td>89</td><td>kauai</td><td>POLYGON ((467060.6 2442156,...</td></tr>\n",
              "\t<tr><td>90</td><td>kauai</td><td>POLYGON ((467444.6 2442156,...</td></tr>\n",
              "</tbody>\n",
              "</table>\n"
            ],
            "text/markdown": "\nA sf: 2666 × 3\n\n| rowid &lt;int&gt; | island &lt;chr&gt; | x &lt;POLYGON [m]&gt; |\n|---|---|---|\n|  1 | kauai | POLYGON ((467278.6 2447486,... |\n|  2 | kauai | POLYGON ((467662.6 2447486,... |\n|  3 | kauai | POLYGON ((468046.6 2447486,... |\n|  4 | kauai | POLYGON ((468430.5 2447486,... |\n|  5 | kauai | POLYGON ((468814.5 2447486,... |\n|  6 | kauai | POLYGON ((469198.5 2447486,... |\n|  7 | kauai | POLYGON ((469582.5 2447486,... |\n|  8 | kauai | POLYGON ((469966.5 2447486,... |\n|  9 | kauai | POLYGON ((467278.6 2447870,... |\n| 10 | kauai | POLYGON ((467662.6 2447870,... |\n| 11 | kauai | POLYGON ((468046.5 2447870,... |\n| 12 | kauai | POLYGON ((468430.5 2447870,... |\n| 13 | kauai | POLYGON ((468814.5 2447870,... |\n| 14 | kauai | POLYGON ((469198.5 2447870,... |\n| 15 | kauai | POLYGON ((469582.5 2447870,... |\n| 16 | kauai | POLYGON ((469966.5 2447870,... |\n| 17 | kauai | POLYGON ((467278.6 2448254,... |\n| 18 | kauai | POLYGON ((467662.6 2448254,... |\n| 19 | kauai | POLYGON ((468046.5 2448254,... |\n| 20 | kauai | POLYGON ((468430.5 2448254,... |\n| 21 | kauai | POLYGON ((468814.5 2448254,... |\n| 22 | kauai | POLYGON ((469198.5 2448254,... |\n| 23 | kauai | POLYGON ((469582.5 2448254,... |\n| 24 | kauai | POLYGON ((469966.5 2448254,... |\n| 25 | kauai | POLYGON ((467278.6 2448638,... |\n| 26 | kauai | POLYGON ((467662.5 2448638,... |\n| 27 | kauai | POLYGON ((468046.5 2448638,... |\n| 28 | kauai | POLYGON ((468430.5 2448638,... |\n| 29 | kauai | POLYGON ((468814.5 2448638,... |\n| 30 | kauai | POLYGON ((469198.5 2448638,... |\n| ⋮ | ⋮ | ⋮ |\n| 61 | kauai | POLYGON ((463988.6 2441388,... |\n| 62 | kauai | POLYGON ((464372.6 2441388,... |\n| 63 | kauai | POLYGON ((464756.6 2441388,... |\n| 64 | kauai | POLYGON ((465140.6 2441388,... |\n| 65 | kauai | POLYGON ((465524.6 2441388,... |\n| 66 | kauai | POLYGON ((465908.6 2441388,... |\n| 67 | kauai | POLYGON ((466292.6 2441388,... |\n| 68 | kauai | POLYGON ((466676.6 2441388,... |\n| 69 | kauai | POLYGON ((467060.6 2441388,... |\n| 70 | kauai | POLYGON ((467444.6 2441388,... |\n| 71 | kauai | POLYGON ((463988.6 2441772,... |\n| 72 | kauai | POLYGON ((464372.6 2441772,... |\n| 73 | kauai | POLYGON ((464756.6 2441772,... |\n| 74 | kauai | POLYGON ((465140.6 2441772,... |\n| 75 | kauai | POLYGON ((465524.6 2441772,... |\n| 76 | kauai | POLYGON ((465908.6 2441772,... |\n| 77 | kauai | POLYGON ((466292.6 2441772,... |\n| 78 | kauai | POLYGON ((466676.6 2441772,... |\n| 79 | kauai | POLYGON ((467060.6 2441772,... |\n| 80 | kauai | POLYGON ((467444.6 2441772,... |\n| 81 | kauai | POLYGON ((463988.6 2442156,... |\n| 82 | kauai | POLYGON ((464372.6 2442156,... |\n| 83 | kauai | POLYGON ((464756.6 2442156,... |\n| 84 | kauai | POLYGON ((465140.6 2442156,... |\n| 85 | kauai | POLYGON ((465524.6 2442156,... |\n| 86 | kauai | POLYGON ((465908.6 2442156,... |\n| 87 | kauai | POLYGON ((466292.6 2442156,... |\n| 88 | kauai | POLYGON ((466676.6 2442156,... |\n| 89 | kauai | POLYGON ((467060.6 2442156,... |\n| 90 | kauai | POLYGON ((467444.6 2442156,... |\n\n",
            "text/latex": "A sf: 2666 × 3\n\\begin{tabular}{lll}\n rowid & island & x\\\\\n <int> & <chr> & <POLYGON {[}m{]}>\\\\\n\\hline\n\t  1 & kauai & POLYGON ((467278.6 2447486,...\\\\\n\t  2 & kauai & POLYGON ((467662.6 2447486,...\\\\\n\t  3 & kauai & POLYGON ((468046.6 2447486,...\\\\\n\t  4 & kauai & POLYGON ((468430.5 2447486,...\\\\\n\t  5 & kauai & POLYGON ((468814.5 2447486,...\\\\\n\t  6 & kauai & POLYGON ((469198.5 2447486,...\\\\\n\t  7 & kauai & POLYGON ((469582.5 2447486,...\\\\\n\t  8 & kauai & POLYGON ((469966.5 2447486,...\\\\\n\t  9 & kauai & POLYGON ((467278.6 2447870,...\\\\\n\t 10 & kauai & POLYGON ((467662.6 2447870,...\\\\\n\t 11 & kauai & POLYGON ((468046.5 2447870,...\\\\\n\t 12 & kauai & POLYGON ((468430.5 2447870,...\\\\\n\t 13 & kauai & POLYGON ((468814.5 2447870,...\\\\\n\t 14 & kauai & POLYGON ((469198.5 2447870,...\\\\\n\t 15 & kauai & POLYGON ((469582.5 2447870,...\\\\\n\t 16 & kauai & POLYGON ((469966.5 2447870,...\\\\\n\t 17 & kauai & POLYGON ((467278.6 2448254,...\\\\\n\t 18 & kauai & POLYGON ((467662.6 2448254,...\\\\\n\t 19 & kauai & POLYGON ((468046.5 2448254,...\\\\\n\t 20 & kauai & POLYGON ((468430.5 2448254,...\\\\\n\t 21 & kauai & POLYGON ((468814.5 2448254,...\\\\\n\t 22 & kauai & POLYGON ((469198.5 2448254,...\\\\\n\t 23 & kauai & POLYGON ((469582.5 2448254,...\\\\\n\t 24 & kauai & POLYGON ((469966.5 2448254,...\\\\\n\t 25 & kauai & POLYGON ((467278.6 2448638,...\\\\\n\t 26 & kauai & POLYGON ((467662.5 2448638,...\\\\\n\t 27 & kauai & POLYGON ((468046.5 2448638,...\\\\\n\t 28 & kauai & POLYGON ((468430.5 2448638,...\\\\\n\t 29 & kauai & POLYGON ((468814.5 2448638,...\\\\\n\t 30 & kauai & POLYGON ((469198.5 2448638,...\\\\\n\t ⋮ & ⋮ & ⋮\\\\\n\t 61 & kauai & POLYGON ((463988.6 2441388,...\\\\\n\t 62 & kauai & POLYGON ((464372.6 2441388,...\\\\\n\t 63 & kauai & POLYGON ((464756.6 2441388,...\\\\\n\t 64 & kauai & POLYGON ((465140.6 2441388,...\\\\\n\t 65 & kauai & POLYGON ((465524.6 2441388,...\\\\\n\t 66 & kauai & POLYGON ((465908.6 2441388,...\\\\\n\t 67 & kauai & POLYGON ((466292.6 2441388,...\\\\\n\t 68 & kauai & POLYGON ((466676.6 2441388,...\\\\\n\t 69 & kauai & POLYGON ((467060.6 2441388,...\\\\\n\t 70 & kauai & POLYGON ((467444.6 2441388,...\\\\\n\t 71 & kauai & POLYGON ((463988.6 2441772,...\\\\\n\t 72 & kauai & POLYGON ((464372.6 2441772,...\\\\\n\t 73 & kauai & POLYGON ((464756.6 2441772,...\\\\\n\t 74 & kauai & POLYGON ((465140.6 2441772,...\\\\\n\t 75 & kauai & POLYGON ((465524.6 2441772,...\\\\\n\t 76 & kauai & POLYGON ((465908.6 2441772,...\\\\\n\t 77 & kauai & POLYGON ((466292.6 2441772,...\\\\\n\t 78 & kauai & POLYGON ((466676.6 2441772,...\\\\\n\t 79 & kauai & POLYGON ((467060.6 2441772,...\\\\\n\t 80 & kauai & POLYGON ((467444.6 2441772,...\\\\\n\t 81 & kauai & POLYGON ((463988.6 2442156,...\\\\\n\t 82 & kauai & POLYGON ((464372.6 2442156,...\\\\\n\t 83 & kauai & POLYGON ((464756.6 2442156,...\\\\\n\t 84 & kauai & POLYGON ((465140.6 2442156,...\\\\\n\t 85 & kauai & POLYGON ((465524.6 2442156,...\\\\\n\t 86 & kauai & POLYGON ((465908.6 2442156,...\\\\\n\t 87 & kauai & POLYGON ((466292.6 2442156,...\\\\\n\t 88 & kauai & POLYGON ((466676.6 2442156,...\\\\\n\t 89 & kauai & POLYGON ((467060.6 2442156,...\\\\\n\t 90 & kauai & POLYGON ((467444.6 2442156,...\\\\\n\\end{tabular}\n",
            "text/plain": [
              "     rowid island x                             \n",
              "1     1    kauai  POLYGON ((467278.6 2447486,...\n",
              "2     2    kauai  POLYGON ((467662.6 2447486,...\n",
              "3     3    kauai  POLYGON ((468046.6 2447486,...\n",
              "4     4    kauai  POLYGON ((468430.5 2447486,...\n",
              "5     5    kauai  POLYGON ((468814.5 2447486,...\n",
              "6     6    kauai  POLYGON ((469198.5 2447486,...\n",
              "7     7    kauai  POLYGON ((469582.5 2447486,...\n",
              "8     8    kauai  POLYGON ((469966.5 2447486,...\n",
              "9     9    kauai  POLYGON ((467278.6 2447870,...\n",
              "10   10    kauai  POLYGON ((467662.6 2447870,...\n",
              "11   11    kauai  POLYGON ((468046.5 2447870,...\n",
              "12   12    kauai  POLYGON ((468430.5 2447870,...\n",
              "13   13    kauai  POLYGON ((468814.5 2447870,...\n",
              "14   14    kauai  POLYGON ((469198.5 2447870,...\n",
              "15   15    kauai  POLYGON ((469582.5 2447870,...\n",
              "16   16    kauai  POLYGON ((469966.5 2447870,...\n",
              "17   17    kauai  POLYGON ((467278.6 2448254,...\n",
              "18   18    kauai  POLYGON ((467662.6 2448254,...\n",
              "19   19    kauai  POLYGON ((468046.5 2448254,...\n",
              "20   20    kauai  POLYGON ((468430.5 2448254,...\n",
              "21   21    kauai  POLYGON ((468814.5 2448254,...\n",
              "22   22    kauai  POLYGON ((469198.5 2448254,...\n",
              "23   23    kauai  POLYGON ((469582.5 2448254,...\n",
              "24   24    kauai  POLYGON ((469966.5 2448254,...\n",
              "25   25    kauai  POLYGON ((467278.6 2448638,...\n",
              "26   26    kauai  POLYGON ((467662.5 2448638,...\n",
              "27   27    kauai  POLYGON ((468046.5 2448638,...\n",
              "28   28    kauai  POLYGON ((468430.5 2448638,...\n",
              "29   29    kauai  POLYGON ((468814.5 2448638,...\n",
              "30   30    kauai  POLYGON ((469198.5 2448638,...\n",
              "⋮    ⋮     ⋮      ⋮                             \n",
              "2637 61    kauai  POLYGON ((463988.6 2441388,...\n",
              "2638 62    kauai  POLYGON ((464372.6 2441388,...\n",
              "2639 63    kauai  POLYGON ((464756.6 2441388,...\n",
              "2640 64    kauai  POLYGON ((465140.6 2441388,...\n",
              "2641 65    kauai  POLYGON ((465524.6 2441388,...\n",
              "2642 66    kauai  POLYGON ((465908.6 2441388,...\n",
              "2643 67    kauai  POLYGON ((466292.6 2441388,...\n",
              "2644 68    kauai  POLYGON ((466676.6 2441388,...\n",
              "2645 69    kauai  POLYGON ((467060.6 2441388,...\n",
              "2646 70    kauai  POLYGON ((467444.6 2441388,...\n",
              "2647 71    kauai  POLYGON ((463988.6 2441772,...\n",
              "2648 72    kauai  POLYGON ((464372.6 2441772,...\n",
              "2649 73    kauai  POLYGON ((464756.6 2441772,...\n",
              "2650 74    kauai  POLYGON ((465140.6 2441772,...\n",
              "2651 75    kauai  POLYGON ((465524.6 2441772,...\n",
              "2652 76    kauai  POLYGON ((465908.6 2441772,...\n",
              "2653 77    kauai  POLYGON ((466292.6 2441772,...\n",
              "2654 78    kauai  POLYGON ((466676.6 2441772,...\n",
              "2655 79    kauai  POLYGON ((467060.6 2441772,...\n",
              "2656 80    kauai  POLYGON ((467444.6 2441772,...\n",
              "2657 81    kauai  POLYGON ((463988.6 2442156,...\n",
              "2658 82    kauai  POLYGON ((464372.6 2442156,...\n",
              "2659 83    kauai  POLYGON ((464756.6 2442156,...\n",
              "2660 84    kauai  POLYGON ((465140.6 2442156,...\n",
              "2661 85    kauai  POLYGON ((465524.6 2442156,...\n",
              "2662 86    kauai  POLYGON ((465908.6 2442156,...\n",
              "2663 87    kauai  POLYGON ((466292.6 2442156,...\n",
              "2664 88    kauai  POLYGON ((466676.6 2442156,...\n",
              "2665 89    kauai  POLYGON ((467060.6 2442156,...\n",
              "2666 90    kauai  POLYGON ((467444.6 2442156,..."
            ]
          },
          "metadata": {}
        }
      ]
    },
    {
      "cell_type": "code",
      "source": [
        "planet_dt"
      ],
      "metadata": {
        "colab": {
          "base_uri": "https://localhost:8080/",
          "height": 600
        },
        "id": "GZOkEKwq8Eh6",
        "outputId": "2cb2c8b3-569a-4bcd-caf8-4a38b024100e"
      },
      "execution_count": 74,
      "outputs": [
        {
          "output_type": "display_data",
          "data": {
            "text/html": [
              "<table class=\"dataframe\">\n",
              "<caption>A data.table: 16 × 4</caption>\n",
              "<thead>\n",
              "\t<tr><th scope=col>island</th><th scope=col>location_name</th><th scope=col>planet_file_path</th><th scope=col>planet_raster</th></tr>\n",
              "\t<tr><th scope=col>&lt;chr&gt;</th><th scope=col>&lt;chr&gt;</th><th scope=col>&lt;chr&gt;</th><th scope=col>&lt;list&gt;</th></tr>\n",
              "</thead>\n",
              "<tbody>\n",
              "\t<tr><td><span style=white-space:pre-wrap>kauai  </span></td><td><span style=white-space:pre-wrap>anahola       </span></td><td><span style=white-space:pre-wrap>/content/imagery/planet/2018/utm4/2018_anahola_stack.tif       </span></td><td>&lt;S4 class ‘RasterStack’ [package “raster”] with 12 slots&gt;</td></tr>\n",
              "\t<tr><td><span style=white-space:pre-wrap>oahu   </span></td><td><span style=white-space:pre-wrap>haleiwa       </span></td><td><span style=white-space:pre-wrap>/content/imagery/planet/2018/utm4/2018_haleiwa_stack.tif       </span></td><td>&lt;S4 class ‘RasterStack’ [package “raster”] with 12 slots&gt;</td></tr>\n",
              "\t<tr><td><span style=white-space:pre-wrap>kauai  </span></td><td><span style=white-space:pre-wrap>hanalei       </span></td><td><span style=white-space:pre-wrap>/content/imagery/planet/2018/utm4/2018_hanalei_stack.tif       </span></td><td>&lt;S4 class ‘RasterStack’ [package “raster”] with 12 slots&gt;</td></tr>\n",
              "\t<tr><td><span style=white-space:pre-wrap>kauai  </span></td><td><span style=white-space:pre-wrap>huleia        </span></td><td><span style=white-space:pre-wrap>/content/imagery/planet/2018/utm4/2018_huleia_stack.tif        </span></td><td>&lt;S4 class ‘RasterStack’ [package “raster”] with 12 slots&gt;</td></tr>\n",
              "\t<tr><td><span style=white-space:pre-wrap>oahu   </span></td><td><span style=white-space:pre-wrap>kahuku        </span></td><td><span style=white-space:pre-wrap>/content/imagery/planet/2018/utm4/2018_kahuku_stack.tif        </span></td><td>&lt;S4 class ‘RasterStack’ [package “raster”] with 12 slots&gt;</td></tr>\n",
              "\t<tr><td>molokai</td><td><span style=white-space:pre-wrap>kakahaia      </span></td><td><span style=white-space:pre-wrap>/content/imagery/planet/2018/utm4/2018_kakahaia_stack.tif      </span></td><td>&lt;S4 class ‘RasterStack’ [package “raster”] with 12 slots&gt;</td></tr>\n",
              "\t<tr><td>molokai</td><td><span style=white-space:pre-wrap>kaluaapuhi    </span></td><td><span style=white-space:pre-wrap>/content/imagery/planet/2018/utm4/2018_kaluaapuhi_stack.tif    </span></td><td>&lt;S4 class ‘RasterStack’ [package “raster”] with 12 slots&gt;</td></tr>\n",
              "\t<tr><td>molokai</td><td><span style=white-space:pre-wrap>kamalo        </span></td><td><span style=white-space:pre-wrap>/content/imagery/planet/2018/utm4/2018_kamalo_stack.tif        </span></td><td>&lt;S4 class ‘RasterStack’ [package “raster”] with 12 slots&gt;</td></tr>\n",
              "\t<tr><td><span style=white-space:pre-wrap>maui   </span></td><td><span style=white-space:pre-wrap>kanaha        </span></td><td><span style=white-space:pre-wrap>/content/imagery/planet/2018/utm4/2018_kanaha_stack.tif        </span></td><td>&lt;S4 class ‘RasterStack’ [package “raster”] with 12 slots&gt;</td></tr>\n",
              "\t<tr><td><span style=white-space:pre-wrap>oahu   </span></td><td><span style=white-space:pre-wrap>kawainui      </span></td><td><span style=white-space:pre-wrap>/content/imagery/planet/2018/utm4/2018_kawainui_stack.tif      </span></td><td>&lt;S4 class ‘RasterStack’ [package “raster”] with 12 slots&gt;</td></tr>\n",
              "\t<tr><td><span style=white-space:pre-wrap>maui   </span></td><td><span style=white-space:pre-wrap>kealia        </span></td><td><span style=white-space:pre-wrap>/content/imagery/planet/2018/utm4/2018_kealia_stack.tif        </span></td><td>&lt;S4 class ‘RasterStack’ [package “raster”] with 12 slots&gt;</td></tr>\n",
              "\t<tr><td><span style=white-space:pre-wrap>kauai  </span></td><td><span style=white-space:pre-wrap>lumahai       </span></td><td><span style=white-space:pre-wrap>/content/imagery/planet/2018/utm4/2018_lumahai_stack.tif       </span></td><td>&lt;S4 class ‘RasterStack’ [package “raster”] with 12 slots&gt;</td></tr>\n",
              "\t<tr><td><span style=white-space:pre-wrap>maui   </span></td><td><span style=white-space:pre-wrap>paukukalo     </span></td><td><span style=white-space:pre-wrap>/content/imagery/planet/2018/utm4/2018_paukukalo_stack.tif     </span></td><td>&lt;S4 class ‘RasterStack’ [package “raster”] with 12 slots&gt;</td></tr>\n",
              "\t<tr><td><span style=white-space:pre-wrap>oahu   </span></td><td><span style=white-space:pre-wrap>pearl_harbor  </span></td><td><span style=white-space:pre-wrap>/content/imagery/planet/2018/utm4/2018_pearl_harbor_stack.tif  </span></td><td>&lt;S4 class ‘RasterStack’ [package “raster”] with 12 slots&gt;</td></tr>\n",
              "\t<tr><td><span style=white-space:pre-wrap>maui   </span></td><td><span style=white-space:pre-wrap>waihee        </span></td><td><span style=white-space:pre-wrap>/content/imagery/planet/2018/utm4/2018_waihee_stack.tif        </span></td><td>&lt;S4 class ‘RasterStack’ [package “raster”] with 12 slots&gt;</td></tr>\n",
              "\t<tr><td><span style=white-space:pre-wrap>kauai  </span></td><td>wailua_opaekaa</td><td>/content/imagery/planet/2018/utm4/2018_wailua_opaekaa_stack.tif</td><td>&lt;S4 class ‘RasterStack’ [package “raster”] with 12 slots&gt;</td></tr>\n",
              "</tbody>\n",
              "</table>\n"
            ],
            "text/markdown": "\nA data.table: 16 × 4\n\n| island &lt;chr&gt; | location_name &lt;chr&gt; | planet_file_path &lt;chr&gt; | planet_raster &lt;list&gt; |\n|---|---|---|---|\n| kauai   | anahola        | /content/imagery/planet/2018/utm4/2018_anahola_stack.tif        | &lt;S4 class ‘RasterStack’ [package “raster”] with 12 slots&gt; |\n| oahu    | haleiwa        | /content/imagery/planet/2018/utm4/2018_haleiwa_stack.tif        | &lt;S4 class ‘RasterStack’ [package “raster”] with 12 slots&gt; |\n| kauai   | hanalei        | /content/imagery/planet/2018/utm4/2018_hanalei_stack.tif        | &lt;S4 class ‘RasterStack’ [package “raster”] with 12 slots&gt; |\n| kauai   | huleia         | /content/imagery/planet/2018/utm4/2018_huleia_stack.tif         | &lt;S4 class ‘RasterStack’ [package “raster”] with 12 slots&gt; |\n| oahu    | kahuku         | /content/imagery/planet/2018/utm4/2018_kahuku_stack.tif         | &lt;S4 class ‘RasterStack’ [package “raster”] with 12 slots&gt; |\n| molokai | kakahaia       | /content/imagery/planet/2018/utm4/2018_kakahaia_stack.tif       | &lt;S4 class ‘RasterStack’ [package “raster”] with 12 slots&gt; |\n| molokai | kaluaapuhi     | /content/imagery/planet/2018/utm4/2018_kaluaapuhi_stack.tif     | &lt;S4 class ‘RasterStack’ [package “raster”] with 12 slots&gt; |\n| molokai | kamalo         | /content/imagery/planet/2018/utm4/2018_kamalo_stack.tif         | &lt;S4 class ‘RasterStack’ [package “raster”] with 12 slots&gt; |\n| maui    | kanaha         | /content/imagery/planet/2018/utm4/2018_kanaha_stack.tif         | &lt;S4 class ‘RasterStack’ [package “raster”] with 12 slots&gt; |\n| oahu    | kawainui       | /content/imagery/planet/2018/utm4/2018_kawainui_stack.tif       | &lt;S4 class ‘RasterStack’ [package “raster”] with 12 slots&gt; |\n| maui    | kealia         | /content/imagery/planet/2018/utm4/2018_kealia_stack.tif         | &lt;S4 class ‘RasterStack’ [package “raster”] with 12 slots&gt; |\n| kauai   | lumahai        | /content/imagery/planet/2018/utm4/2018_lumahai_stack.tif        | &lt;S4 class ‘RasterStack’ [package “raster”] with 12 slots&gt; |\n| maui    | paukukalo      | /content/imagery/planet/2018/utm4/2018_paukukalo_stack.tif      | &lt;S4 class ‘RasterStack’ [package “raster”] with 12 slots&gt; |\n| oahu    | pearl_harbor   | /content/imagery/planet/2018/utm4/2018_pearl_harbor_stack.tif   | &lt;S4 class ‘RasterStack’ [package “raster”] with 12 slots&gt; |\n| maui    | waihee         | /content/imagery/planet/2018/utm4/2018_waihee_stack.tif         | &lt;S4 class ‘RasterStack’ [package “raster”] with 12 slots&gt; |\n| kauai   | wailua_opaekaa | /content/imagery/planet/2018/utm4/2018_wailua_opaekaa_stack.tif | &lt;S4 class ‘RasterStack’ [package “raster”] with 12 slots&gt; |\n\n",
            "text/latex": "A data.table: 16 × 4\n\\begin{tabular}{llll}\n island & location\\_name & planet\\_file\\_path & planet\\_raster\\\\\n <chr> & <chr> & <chr> & <list>\\\\\n\\hline\n\t kauai   & anahola        & /content/imagery/planet/2018/utm4/2018\\_anahola\\_stack.tif        & <S4 class ‘RasterStack’ {[}package “raster”{]} with 12 slots>\\\\\n\t oahu    & haleiwa        & /content/imagery/planet/2018/utm4/2018\\_haleiwa\\_stack.tif        & <S4 class ‘RasterStack’ {[}package “raster”{]} with 12 slots>\\\\\n\t kauai   & hanalei        & /content/imagery/planet/2018/utm4/2018\\_hanalei\\_stack.tif        & <S4 class ‘RasterStack’ {[}package “raster”{]} with 12 slots>\\\\\n\t kauai   & huleia         & /content/imagery/planet/2018/utm4/2018\\_huleia\\_stack.tif         & <S4 class ‘RasterStack’ {[}package “raster”{]} with 12 slots>\\\\\n\t oahu    & kahuku         & /content/imagery/planet/2018/utm4/2018\\_kahuku\\_stack.tif         & <S4 class ‘RasterStack’ {[}package “raster”{]} with 12 slots>\\\\\n\t molokai & kakahaia       & /content/imagery/planet/2018/utm4/2018\\_kakahaia\\_stack.tif       & <S4 class ‘RasterStack’ {[}package “raster”{]} with 12 slots>\\\\\n\t molokai & kaluaapuhi     & /content/imagery/planet/2018/utm4/2018\\_kaluaapuhi\\_stack.tif     & <S4 class ‘RasterStack’ {[}package “raster”{]} with 12 slots>\\\\\n\t molokai & kamalo         & /content/imagery/planet/2018/utm4/2018\\_kamalo\\_stack.tif         & <S4 class ‘RasterStack’ {[}package “raster”{]} with 12 slots>\\\\\n\t maui    & kanaha         & /content/imagery/planet/2018/utm4/2018\\_kanaha\\_stack.tif         & <S4 class ‘RasterStack’ {[}package “raster”{]} with 12 slots>\\\\\n\t oahu    & kawainui       & /content/imagery/planet/2018/utm4/2018\\_kawainui\\_stack.tif       & <S4 class ‘RasterStack’ {[}package “raster”{]} with 12 slots>\\\\\n\t maui    & kealia         & /content/imagery/planet/2018/utm4/2018\\_kealia\\_stack.tif         & <S4 class ‘RasterStack’ {[}package “raster”{]} with 12 slots>\\\\\n\t kauai   & lumahai        & /content/imagery/planet/2018/utm4/2018\\_lumahai\\_stack.tif        & <S4 class ‘RasterStack’ {[}package “raster”{]} with 12 slots>\\\\\n\t maui    & paukukalo      & /content/imagery/planet/2018/utm4/2018\\_paukukalo\\_stack.tif      & <S4 class ‘RasterStack’ {[}package “raster”{]} with 12 slots>\\\\\n\t oahu    & pearl\\_harbor   & /content/imagery/planet/2018/utm4/2018\\_pearl\\_harbor\\_stack.tif   & <S4 class ‘RasterStack’ {[}package “raster”{]} with 12 slots>\\\\\n\t maui    & waihee         & /content/imagery/planet/2018/utm4/2018\\_waihee\\_stack.tif         & <S4 class ‘RasterStack’ {[}package “raster”{]} with 12 slots>\\\\\n\t kauai   & wailua\\_opaekaa & /content/imagery/planet/2018/utm4/2018\\_wailua\\_opaekaa\\_stack.tif & <S4 class ‘RasterStack’ {[}package “raster”{]} with 12 slots>\\\\\n\\end{tabular}\n",
            "text/plain": [
              "   island  location_name \n",
              "1  kauai   anahola       \n",
              "2  oahu    haleiwa       \n",
              "3  kauai   hanalei       \n",
              "4  kauai   huleia        \n",
              "5  oahu    kahuku        \n",
              "6  molokai kakahaia      \n",
              "7  molokai kaluaapuhi    \n",
              "8  molokai kamalo        \n",
              "9  maui    kanaha        \n",
              "10 oahu    kawainui      \n",
              "11 maui    kealia        \n",
              "12 kauai   lumahai       \n",
              "13 maui    paukukalo     \n",
              "14 oahu    pearl_harbor  \n",
              "15 maui    waihee        \n",
              "16 kauai   wailua_opaekaa\n",
              "   planet_file_path                                               \n",
              "1  /content/imagery/planet/2018/utm4/2018_anahola_stack.tif       \n",
              "2  /content/imagery/planet/2018/utm4/2018_haleiwa_stack.tif       \n",
              "3  /content/imagery/planet/2018/utm4/2018_hanalei_stack.tif       \n",
              "4  /content/imagery/planet/2018/utm4/2018_huleia_stack.tif        \n",
              "5  /content/imagery/planet/2018/utm4/2018_kahuku_stack.tif        \n",
              "6  /content/imagery/planet/2018/utm4/2018_kakahaia_stack.tif      \n",
              "7  /content/imagery/planet/2018/utm4/2018_kaluaapuhi_stack.tif    \n",
              "8  /content/imagery/planet/2018/utm4/2018_kamalo_stack.tif        \n",
              "9  /content/imagery/planet/2018/utm4/2018_kanaha_stack.tif        \n",
              "10 /content/imagery/planet/2018/utm4/2018_kawainui_stack.tif      \n",
              "11 /content/imagery/planet/2018/utm4/2018_kealia_stack.tif        \n",
              "12 /content/imagery/planet/2018/utm4/2018_lumahai_stack.tif       \n",
              "13 /content/imagery/planet/2018/utm4/2018_paukukalo_stack.tif     \n",
              "14 /content/imagery/planet/2018/utm4/2018_pearl_harbor_stack.tif  \n",
              "15 /content/imagery/planet/2018/utm4/2018_waihee_stack.tif        \n",
              "16 /content/imagery/planet/2018/utm4/2018_wailua_opaekaa_stack.tif\n",
              "   planet_raster                                            \n",
              "1  <S4 class ‘RasterStack’ [package “raster”] with 12 slots>\n",
              "2  <S4 class ‘RasterStack’ [package “raster”] with 12 slots>\n",
              "3  <S4 class ‘RasterStack’ [package “raster”] with 12 slots>\n",
              "4  <S4 class ‘RasterStack’ [package “raster”] with 12 slots>\n",
              "5  <S4 class ‘RasterStack’ [package “raster”] with 12 slots>\n",
              "6  <S4 class ‘RasterStack’ [package “raster”] with 12 slots>\n",
              "7  <S4 class ‘RasterStack’ [package “raster”] with 12 slots>\n",
              "8  <S4 class ‘RasterStack’ [package “raster”] with 12 slots>\n",
              "9  <S4 class ‘RasterStack’ [package “raster”] with 12 slots>\n",
              "10 <S4 class ‘RasterStack’ [package “raster”] with 12 slots>\n",
              "11 <S4 class ‘RasterStack’ [package “raster”] with 12 slots>\n",
              "12 <S4 class ‘RasterStack’ [package “raster”] with 12 slots>\n",
              "13 <S4 class ‘RasterStack’ [package “raster”] with 12 slots>\n",
              "14 <S4 class ‘RasterStack’ [package “raster”] with 12 slots>\n",
              "15 <S4 class ‘RasterStack’ [package “raster”] with 12 slots>\n",
              "16 <S4 class ‘RasterStack’ [package “raster”] with 12 slots>"
            ]
          },
          "metadata": {}
        }
      ]
    },
    {
      "cell_type": "code",
      "source": [
        "test_05_wetlandsFishnet_sf_layer <- test_05_wetlandsFishnet_sf"
      ],
      "metadata": {
        "id": "s97uJcj4Aoqn"
      },
      "execution_count": 94,
      "outputs": []
    },
    {
      "cell_type": "code",
      "source": [
        "test_05_wetlandsFishnet_sf_layer"
      ],
      "metadata": {
        "colab": {
          "base_uri": "https://localhost:8080/",
          "height": 1000
        },
        "id": "1lojnRKLBgI8",
        "outputId": "dda3860f-c43f-493a-e0a7-06cf4986c8b4"
      },
      "execution_count": 98,
      "outputs": [
        {
          "output_type": "stream",
          "name": "stderr",
          "text": [
            "ERROR while rich displaying an object: Error in loadNamespace(x): there is no package called ‘geojsonio’\n",
            "\n",
            "Traceback:\n",
            "1. tryCatch(withCallingHandlers({\n",
            " .     if (!mime %in% names(repr::mime2repr)) \n",
            " .         stop(\"No repr_* for mimetype \", mime, \" in repr::mime2repr\")\n",
            " .     rpr <- repr::mime2repr[[mime]](obj)\n",
            " .     if (is.null(rpr)) \n",
            " .         return(NULL)\n",
            " .     prepare_content(is.raw(rpr), rpr)\n",
            " . }, error = error_handler), error = outer_handler)\n",
            "2. tryCatchList(expr, classes, parentenv, handlers)\n",
            "3. tryCatchOne(expr, names, parentenv, handlers[[1L]])\n",
            "4. doTryCatch(return(expr), name, parentenv, handler)\n",
            "5. withCallingHandlers({\n",
            " .     if (!mime %in% names(repr::mime2repr)) \n",
            " .         stop(\"No repr_* for mimetype \", mime, \" in repr::mime2repr\")\n",
            " .     rpr <- repr::mime2repr[[mime]](obj)\n",
            " .     if (is.null(rpr)) \n",
            " .         return(NULL)\n",
            " .     prepare_content(is.raw(rpr), rpr)\n",
            " . }, error = error_handler)\n",
            "6. repr::mime2repr[[mime]](obj)\n",
            "7. repr_geojson.sf(obj)\n",
            "8. repr_geojson(geojsonio::geojson_list(obj), ...)\n",
            "9. loadNamespace(x)\n",
            "10. withRestarts(stop(cond), retry_loadNamespace = function() NULL)\n",
            "11. withOneRestart(expr, restarts[[1L]])\n",
            "12. doWithOneRestart(return(expr), restart)\n"
          ]
        },
        {
          "output_type": "display_data",
          "data": {
            "text/html": [
              "<table class=\"dataframe\">\n",
              "<caption>A sf: 2666 × 3</caption>\n",
              "<thead>\n",
              "\t<tr><th scope=col>rowid</th><th scope=col>island</th><th scope=col>x</th></tr>\n",
              "\t<tr><th scope=col>&lt;int&gt;</th><th scope=col>&lt;chr&gt;</th><th scope=col>&lt;POLYGON [m]&gt;</th></tr>\n",
              "</thead>\n",
              "<tbody>\n",
              "\t<tr><td> 1</td><td>kauai</td><td>POLYGON ((467278.6 2447486,...</td></tr>\n",
              "\t<tr><td> 2</td><td>kauai</td><td>POLYGON ((467662.6 2447486,...</td></tr>\n",
              "\t<tr><td> 3</td><td>kauai</td><td>POLYGON ((468046.6 2447486,...</td></tr>\n",
              "\t<tr><td> 4</td><td>kauai</td><td>POLYGON ((468430.5 2447486,...</td></tr>\n",
              "\t<tr><td> 5</td><td>kauai</td><td>POLYGON ((468814.5 2447486,...</td></tr>\n",
              "\t<tr><td> 6</td><td>kauai</td><td>POLYGON ((469198.5 2447486,...</td></tr>\n",
              "\t<tr><td> 7</td><td>kauai</td><td>POLYGON ((469582.5 2447486,...</td></tr>\n",
              "\t<tr><td> 8</td><td>kauai</td><td>POLYGON ((469966.5 2447486,...</td></tr>\n",
              "\t<tr><td> 9</td><td>kauai</td><td>POLYGON ((467278.6 2447870,...</td></tr>\n",
              "\t<tr><td>10</td><td>kauai</td><td>POLYGON ((467662.6 2447870,...</td></tr>\n",
              "\t<tr><td>11</td><td>kauai</td><td>POLYGON ((468046.5 2447870,...</td></tr>\n",
              "\t<tr><td>12</td><td>kauai</td><td>POLYGON ((468430.5 2447870,...</td></tr>\n",
              "\t<tr><td>13</td><td>kauai</td><td>POLYGON ((468814.5 2447870,...</td></tr>\n",
              "\t<tr><td>14</td><td>kauai</td><td>POLYGON ((469198.5 2447870,...</td></tr>\n",
              "\t<tr><td>15</td><td>kauai</td><td>POLYGON ((469582.5 2447870,...</td></tr>\n",
              "\t<tr><td>16</td><td>kauai</td><td>POLYGON ((469966.5 2447870,...</td></tr>\n",
              "\t<tr><td>17</td><td>kauai</td><td>POLYGON ((467278.6 2448254,...</td></tr>\n",
              "\t<tr><td>18</td><td>kauai</td><td>POLYGON ((467662.6 2448254,...</td></tr>\n",
              "\t<tr><td>19</td><td>kauai</td><td>POLYGON ((468046.5 2448254,...</td></tr>\n",
              "\t<tr><td>20</td><td>kauai</td><td>POLYGON ((468430.5 2448254,...</td></tr>\n",
              "\t<tr><td>21</td><td>kauai</td><td>POLYGON ((468814.5 2448254,...</td></tr>\n",
              "\t<tr><td>22</td><td>kauai</td><td>POLYGON ((469198.5 2448254,...</td></tr>\n",
              "\t<tr><td>23</td><td>kauai</td><td>POLYGON ((469582.5 2448254,...</td></tr>\n",
              "\t<tr><td>24</td><td>kauai</td><td>POLYGON ((469966.5 2448254,...</td></tr>\n",
              "\t<tr><td>25</td><td>kauai</td><td>POLYGON ((467278.6 2448638,...</td></tr>\n",
              "\t<tr><td>26</td><td>kauai</td><td>POLYGON ((467662.5 2448638,...</td></tr>\n",
              "\t<tr><td>27</td><td>kauai</td><td>POLYGON ((468046.5 2448638,...</td></tr>\n",
              "\t<tr><td>28</td><td>kauai</td><td>POLYGON ((468430.5 2448638,...</td></tr>\n",
              "\t<tr><td>29</td><td>kauai</td><td>POLYGON ((468814.5 2448638,...</td></tr>\n",
              "\t<tr><td>30</td><td>kauai</td><td>POLYGON ((469198.5 2448638,...</td></tr>\n",
              "\t<tr><td>⋮</td><td>⋮</td><td>⋮</td></tr>\n",
              "\t<tr><td>61</td><td>kauai</td><td>POLYGON ((463988.6 2441388,...</td></tr>\n",
              "\t<tr><td>62</td><td>kauai</td><td>POLYGON ((464372.6 2441388,...</td></tr>\n",
              "\t<tr><td>63</td><td>kauai</td><td>POLYGON ((464756.6 2441388,...</td></tr>\n",
              "\t<tr><td>64</td><td>kauai</td><td>POLYGON ((465140.6 2441388,...</td></tr>\n",
              "\t<tr><td>65</td><td>kauai</td><td>POLYGON ((465524.6 2441388,...</td></tr>\n",
              "\t<tr><td>66</td><td>kauai</td><td>POLYGON ((465908.6 2441388,...</td></tr>\n",
              "\t<tr><td>67</td><td>kauai</td><td>POLYGON ((466292.6 2441388,...</td></tr>\n",
              "\t<tr><td>68</td><td>kauai</td><td>POLYGON ((466676.6 2441388,...</td></tr>\n",
              "\t<tr><td>69</td><td>kauai</td><td>POLYGON ((467060.6 2441388,...</td></tr>\n",
              "\t<tr><td>70</td><td>kauai</td><td>POLYGON ((467444.6 2441388,...</td></tr>\n",
              "\t<tr><td>71</td><td>kauai</td><td>POLYGON ((463988.6 2441772,...</td></tr>\n",
              "\t<tr><td>72</td><td>kauai</td><td>POLYGON ((464372.6 2441772,...</td></tr>\n",
              "\t<tr><td>73</td><td>kauai</td><td>POLYGON ((464756.6 2441772,...</td></tr>\n",
              "\t<tr><td>74</td><td>kauai</td><td>POLYGON ((465140.6 2441772,...</td></tr>\n",
              "\t<tr><td>75</td><td>kauai</td><td>POLYGON ((465524.6 2441772,...</td></tr>\n",
              "\t<tr><td>76</td><td>kauai</td><td>POLYGON ((465908.6 2441772,...</td></tr>\n",
              "\t<tr><td>77</td><td>kauai</td><td>POLYGON ((466292.6 2441772,...</td></tr>\n",
              "\t<tr><td>78</td><td>kauai</td><td>POLYGON ((466676.6 2441772,...</td></tr>\n",
              "\t<tr><td>79</td><td>kauai</td><td>POLYGON ((467060.6 2441772,...</td></tr>\n",
              "\t<tr><td>80</td><td>kauai</td><td>POLYGON ((467444.6 2441772,...</td></tr>\n",
              "\t<tr><td>81</td><td>kauai</td><td>POLYGON ((463988.6 2442156,...</td></tr>\n",
              "\t<tr><td>82</td><td>kauai</td><td>POLYGON ((464372.6 2442156,...</td></tr>\n",
              "\t<tr><td>83</td><td>kauai</td><td>POLYGON ((464756.6 2442156,...</td></tr>\n",
              "\t<tr><td>84</td><td>kauai</td><td>POLYGON ((465140.6 2442156,...</td></tr>\n",
              "\t<tr><td>85</td><td>kauai</td><td>POLYGON ((465524.6 2442156,...</td></tr>\n",
              "\t<tr><td>86</td><td>kauai</td><td>POLYGON ((465908.6 2442156,...</td></tr>\n",
              "\t<tr><td>87</td><td>kauai</td><td>POLYGON ((466292.6 2442156,...</td></tr>\n",
              "\t<tr><td>88</td><td>kauai</td><td>POLYGON ((466676.6 2442156,...</td></tr>\n",
              "\t<tr><td>89</td><td>kauai</td><td>POLYGON ((467060.6 2442156,...</td></tr>\n",
              "\t<tr><td>90</td><td>kauai</td><td>POLYGON ((467444.6 2442156,...</td></tr>\n",
              "</tbody>\n",
              "</table>\n"
            ],
            "text/markdown": "\nA sf: 2666 × 3\n\n| rowid &lt;int&gt; | island &lt;chr&gt; | x &lt;POLYGON [m]&gt; |\n|---|---|---|\n|  1 | kauai | POLYGON ((467278.6 2447486,... |\n|  2 | kauai | POLYGON ((467662.6 2447486,... |\n|  3 | kauai | POLYGON ((468046.6 2447486,... |\n|  4 | kauai | POLYGON ((468430.5 2447486,... |\n|  5 | kauai | POLYGON ((468814.5 2447486,... |\n|  6 | kauai | POLYGON ((469198.5 2447486,... |\n|  7 | kauai | POLYGON ((469582.5 2447486,... |\n|  8 | kauai | POLYGON ((469966.5 2447486,... |\n|  9 | kauai | POLYGON ((467278.6 2447870,... |\n| 10 | kauai | POLYGON ((467662.6 2447870,... |\n| 11 | kauai | POLYGON ((468046.5 2447870,... |\n| 12 | kauai | POLYGON ((468430.5 2447870,... |\n| 13 | kauai | POLYGON ((468814.5 2447870,... |\n| 14 | kauai | POLYGON ((469198.5 2447870,... |\n| 15 | kauai | POLYGON ((469582.5 2447870,... |\n| 16 | kauai | POLYGON ((469966.5 2447870,... |\n| 17 | kauai | POLYGON ((467278.6 2448254,... |\n| 18 | kauai | POLYGON ((467662.6 2448254,... |\n| 19 | kauai | POLYGON ((468046.5 2448254,... |\n| 20 | kauai | POLYGON ((468430.5 2448254,... |\n| 21 | kauai | POLYGON ((468814.5 2448254,... |\n| 22 | kauai | POLYGON ((469198.5 2448254,... |\n| 23 | kauai | POLYGON ((469582.5 2448254,... |\n| 24 | kauai | POLYGON ((469966.5 2448254,... |\n| 25 | kauai | POLYGON ((467278.6 2448638,... |\n| 26 | kauai | POLYGON ((467662.5 2448638,... |\n| 27 | kauai | POLYGON ((468046.5 2448638,... |\n| 28 | kauai | POLYGON ((468430.5 2448638,... |\n| 29 | kauai | POLYGON ((468814.5 2448638,... |\n| 30 | kauai | POLYGON ((469198.5 2448638,... |\n| ⋮ | ⋮ | ⋮ |\n| 61 | kauai | POLYGON ((463988.6 2441388,... |\n| 62 | kauai | POLYGON ((464372.6 2441388,... |\n| 63 | kauai | POLYGON ((464756.6 2441388,... |\n| 64 | kauai | POLYGON ((465140.6 2441388,... |\n| 65 | kauai | POLYGON ((465524.6 2441388,... |\n| 66 | kauai | POLYGON ((465908.6 2441388,... |\n| 67 | kauai | POLYGON ((466292.6 2441388,... |\n| 68 | kauai | POLYGON ((466676.6 2441388,... |\n| 69 | kauai | POLYGON ((467060.6 2441388,... |\n| 70 | kauai | POLYGON ((467444.6 2441388,... |\n| 71 | kauai | POLYGON ((463988.6 2441772,... |\n| 72 | kauai | POLYGON ((464372.6 2441772,... |\n| 73 | kauai | POLYGON ((464756.6 2441772,... |\n| 74 | kauai | POLYGON ((465140.6 2441772,... |\n| 75 | kauai | POLYGON ((465524.6 2441772,... |\n| 76 | kauai | POLYGON ((465908.6 2441772,... |\n| 77 | kauai | POLYGON ((466292.6 2441772,... |\n| 78 | kauai | POLYGON ((466676.6 2441772,... |\n| 79 | kauai | POLYGON ((467060.6 2441772,... |\n| 80 | kauai | POLYGON ((467444.6 2441772,... |\n| 81 | kauai | POLYGON ((463988.6 2442156,... |\n| 82 | kauai | POLYGON ((464372.6 2442156,... |\n| 83 | kauai | POLYGON ((464756.6 2442156,... |\n| 84 | kauai | POLYGON ((465140.6 2442156,... |\n| 85 | kauai | POLYGON ((465524.6 2442156,... |\n| 86 | kauai | POLYGON ((465908.6 2442156,... |\n| 87 | kauai | POLYGON ((466292.6 2442156,... |\n| 88 | kauai | POLYGON ((466676.6 2442156,... |\n| 89 | kauai | POLYGON ((467060.6 2442156,... |\n| 90 | kauai | POLYGON ((467444.6 2442156,... |\n\n",
            "text/latex": "A sf: 2666 × 3\n\\begin{tabular}{lll}\n rowid & island & x\\\\\n <int> & <chr> & <POLYGON {[}m{]}>\\\\\n\\hline\n\t  1 & kauai & POLYGON ((467278.6 2447486,...\\\\\n\t  2 & kauai & POLYGON ((467662.6 2447486,...\\\\\n\t  3 & kauai & POLYGON ((468046.6 2447486,...\\\\\n\t  4 & kauai & POLYGON ((468430.5 2447486,...\\\\\n\t  5 & kauai & POLYGON ((468814.5 2447486,...\\\\\n\t  6 & kauai & POLYGON ((469198.5 2447486,...\\\\\n\t  7 & kauai & POLYGON ((469582.5 2447486,...\\\\\n\t  8 & kauai & POLYGON ((469966.5 2447486,...\\\\\n\t  9 & kauai & POLYGON ((467278.6 2447870,...\\\\\n\t 10 & kauai & POLYGON ((467662.6 2447870,...\\\\\n\t 11 & kauai & POLYGON ((468046.5 2447870,...\\\\\n\t 12 & kauai & POLYGON ((468430.5 2447870,...\\\\\n\t 13 & kauai & POLYGON ((468814.5 2447870,...\\\\\n\t 14 & kauai & POLYGON ((469198.5 2447870,...\\\\\n\t 15 & kauai & POLYGON ((469582.5 2447870,...\\\\\n\t 16 & kauai & POLYGON ((469966.5 2447870,...\\\\\n\t 17 & kauai & POLYGON ((467278.6 2448254,...\\\\\n\t 18 & kauai & POLYGON ((467662.6 2448254,...\\\\\n\t 19 & kauai & POLYGON ((468046.5 2448254,...\\\\\n\t 20 & kauai & POLYGON ((468430.5 2448254,...\\\\\n\t 21 & kauai & POLYGON ((468814.5 2448254,...\\\\\n\t 22 & kauai & POLYGON ((469198.5 2448254,...\\\\\n\t 23 & kauai & POLYGON ((469582.5 2448254,...\\\\\n\t 24 & kauai & POLYGON ((469966.5 2448254,...\\\\\n\t 25 & kauai & POLYGON ((467278.6 2448638,...\\\\\n\t 26 & kauai & POLYGON ((467662.5 2448638,...\\\\\n\t 27 & kauai & POLYGON ((468046.5 2448638,...\\\\\n\t 28 & kauai & POLYGON ((468430.5 2448638,...\\\\\n\t 29 & kauai & POLYGON ((468814.5 2448638,...\\\\\n\t 30 & kauai & POLYGON ((469198.5 2448638,...\\\\\n\t ⋮ & ⋮ & ⋮\\\\\n\t 61 & kauai & POLYGON ((463988.6 2441388,...\\\\\n\t 62 & kauai & POLYGON ((464372.6 2441388,...\\\\\n\t 63 & kauai & POLYGON ((464756.6 2441388,...\\\\\n\t 64 & kauai & POLYGON ((465140.6 2441388,...\\\\\n\t 65 & kauai & POLYGON ((465524.6 2441388,...\\\\\n\t 66 & kauai & POLYGON ((465908.6 2441388,...\\\\\n\t 67 & kauai & POLYGON ((466292.6 2441388,...\\\\\n\t 68 & kauai & POLYGON ((466676.6 2441388,...\\\\\n\t 69 & kauai & POLYGON ((467060.6 2441388,...\\\\\n\t 70 & kauai & POLYGON ((467444.6 2441388,...\\\\\n\t 71 & kauai & POLYGON ((463988.6 2441772,...\\\\\n\t 72 & kauai & POLYGON ((464372.6 2441772,...\\\\\n\t 73 & kauai & POLYGON ((464756.6 2441772,...\\\\\n\t 74 & kauai & POLYGON ((465140.6 2441772,...\\\\\n\t 75 & kauai & POLYGON ((465524.6 2441772,...\\\\\n\t 76 & kauai & POLYGON ((465908.6 2441772,...\\\\\n\t 77 & kauai & POLYGON ((466292.6 2441772,...\\\\\n\t 78 & kauai & POLYGON ((466676.6 2441772,...\\\\\n\t 79 & kauai & POLYGON ((467060.6 2441772,...\\\\\n\t 80 & kauai & POLYGON ((467444.6 2441772,...\\\\\n\t 81 & kauai & POLYGON ((463988.6 2442156,...\\\\\n\t 82 & kauai & POLYGON ((464372.6 2442156,...\\\\\n\t 83 & kauai & POLYGON ((464756.6 2442156,...\\\\\n\t 84 & kauai & POLYGON ((465140.6 2442156,...\\\\\n\t 85 & kauai & POLYGON ((465524.6 2442156,...\\\\\n\t 86 & kauai & POLYGON ((465908.6 2442156,...\\\\\n\t 87 & kauai & POLYGON ((466292.6 2442156,...\\\\\n\t 88 & kauai & POLYGON ((466676.6 2442156,...\\\\\n\t 89 & kauai & POLYGON ((467060.6 2442156,...\\\\\n\t 90 & kauai & POLYGON ((467444.6 2442156,...\\\\\n\\end{tabular}\n",
            "text/plain": [
              "     rowid island x                             \n",
              "1     1    kauai  POLYGON ((467278.6 2447486,...\n",
              "2     2    kauai  POLYGON ((467662.6 2447486,...\n",
              "3     3    kauai  POLYGON ((468046.6 2447486,...\n",
              "4     4    kauai  POLYGON ((468430.5 2447486,...\n",
              "5     5    kauai  POLYGON ((468814.5 2447486,...\n",
              "6     6    kauai  POLYGON ((469198.5 2447486,...\n",
              "7     7    kauai  POLYGON ((469582.5 2447486,...\n",
              "8     8    kauai  POLYGON ((469966.5 2447486,...\n",
              "9     9    kauai  POLYGON ((467278.6 2447870,...\n",
              "10   10    kauai  POLYGON ((467662.6 2447870,...\n",
              "11   11    kauai  POLYGON ((468046.5 2447870,...\n",
              "12   12    kauai  POLYGON ((468430.5 2447870,...\n",
              "13   13    kauai  POLYGON ((468814.5 2447870,...\n",
              "14   14    kauai  POLYGON ((469198.5 2447870,...\n",
              "15   15    kauai  POLYGON ((469582.5 2447870,...\n",
              "16   16    kauai  POLYGON ((469966.5 2447870,...\n",
              "17   17    kauai  POLYGON ((467278.6 2448254,...\n",
              "18   18    kauai  POLYGON ((467662.6 2448254,...\n",
              "19   19    kauai  POLYGON ((468046.5 2448254,...\n",
              "20   20    kauai  POLYGON ((468430.5 2448254,...\n",
              "21   21    kauai  POLYGON ((468814.5 2448254,...\n",
              "22   22    kauai  POLYGON ((469198.5 2448254,...\n",
              "23   23    kauai  POLYGON ((469582.5 2448254,...\n",
              "24   24    kauai  POLYGON ((469966.5 2448254,...\n",
              "25   25    kauai  POLYGON ((467278.6 2448638,...\n",
              "26   26    kauai  POLYGON ((467662.5 2448638,...\n",
              "27   27    kauai  POLYGON ((468046.5 2448638,...\n",
              "28   28    kauai  POLYGON ((468430.5 2448638,...\n",
              "29   29    kauai  POLYGON ((468814.5 2448638,...\n",
              "30   30    kauai  POLYGON ((469198.5 2448638,...\n",
              "⋮    ⋮     ⋮      ⋮                             \n",
              "2637 61    kauai  POLYGON ((463988.6 2441388,...\n",
              "2638 62    kauai  POLYGON ((464372.6 2441388,...\n",
              "2639 63    kauai  POLYGON ((464756.6 2441388,...\n",
              "2640 64    kauai  POLYGON ((465140.6 2441388,...\n",
              "2641 65    kauai  POLYGON ((465524.6 2441388,...\n",
              "2642 66    kauai  POLYGON ((465908.6 2441388,...\n",
              "2643 67    kauai  POLYGON ((466292.6 2441388,...\n",
              "2644 68    kauai  POLYGON ((466676.6 2441388,...\n",
              "2645 69    kauai  POLYGON ((467060.6 2441388,...\n",
              "2646 70    kauai  POLYGON ((467444.6 2441388,...\n",
              "2647 71    kauai  POLYGON ((463988.6 2441772,...\n",
              "2648 72    kauai  POLYGON ((464372.6 2441772,...\n",
              "2649 73    kauai  POLYGON ((464756.6 2441772,...\n",
              "2650 74    kauai  POLYGON ((465140.6 2441772,...\n",
              "2651 75    kauai  POLYGON ((465524.6 2441772,...\n",
              "2652 76    kauai  POLYGON ((465908.6 2441772,...\n",
              "2653 77    kauai  POLYGON ((466292.6 2441772,...\n",
              "2654 78    kauai  POLYGON ((466676.6 2441772,...\n",
              "2655 79    kauai  POLYGON ((467060.6 2441772,...\n",
              "2656 80    kauai  POLYGON ((467444.6 2441772,...\n",
              "2657 81    kauai  POLYGON ((463988.6 2442156,...\n",
              "2658 82    kauai  POLYGON ((464372.6 2442156,...\n",
              "2659 83    kauai  POLYGON ((464756.6 2442156,...\n",
              "2660 84    kauai  POLYGON ((465140.6 2442156,...\n",
              "2661 85    kauai  POLYGON ((465524.6 2442156,...\n",
              "2662 86    kauai  POLYGON ((465908.6 2442156,...\n",
              "2663 87    kauai  POLYGON ((466292.6 2442156,...\n",
              "2664 88    kauai  POLYGON ((466676.6 2442156,...\n",
              "2665 89    kauai  POLYGON ((467060.6 2442156,...\n",
              "2666 90    kauai  POLYGON ((467444.6 2442156,..."
            ]
          },
          "metadata": {}
        }
      ]
    },
    {
      "cell_type": "code",
      "source": [
        "test_05_wetlandsFishnet_sf_layer$location_name <- NA"
      ],
      "metadata": {
        "id": "_X65ObjkDNOM"
      },
      "execution_count": 99,
      "outputs": []
    },
    {
      "cell_type": "code",
      "source": [
        "crs(test_05_wetlandsFishnet_sf_layer)"
      ],
      "metadata": {
        "colab": {
          "base_uri": "https://localhost:8080/",
          "height": 139
        },
        "id": "8kYdPzYeF4Z1",
        "outputId": "63cc030c-65f5-4acb-8fc2-5cf8e85ff3b9"
      },
      "execution_count": 114,
      "outputs": [
        {
          "output_type": "display_data",
          "data": {
            "text/html": [
              "<span style=white-space:pre-wrap>'PROJCRS[\"NAD83 / UTM zone 4N\",\\n    BASEGEOGCRS[\"NAD83\",\\n        DATUM[\"North American Datum 1983\",\\n            ELLIPSOID[\"GRS 1980\",6378137,298.257222101,\\n                LENGTHUNIT[\"metre\",1]]],\\n        PRIMEM[\"Greenwich\",0,\\n            ANGLEUNIT[\"degree\",0.0174532925199433]],\\n        ID[\"EPSG\",4269]],\\n    CONVERSION[\"UTM zone 4N\",\\n        METHOD[\"Transverse Mercator\",\\n            ID[\"EPSG\",9807]],\\n        PARAMETER[\"Latitude of natural origin\",0,\\n            ANGLEUNIT[\"degree\",0.0174532925199433],\\n            ID[\"EPSG\",8801]],\\n        PARAMETER[\"Longitude of natural origin\",-159,\\n            ANGLEUNIT[\"degree\",0.0174532925199433],\\n            ID[\"EPSG\",8802]],\\n        PARAMETER[\"Scale factor at natural origin\",0.9996,\\n            SCALEUNIT[\"unity\",1],\\n            ID[\"EPSG\",8805]],\\n        PARAMETER[\"False easting\",500000,\\n            LENGTHUNIT[\"metre\",1],\\n            ID[\"EPSG\",8806]],\\n        PARAMETER[\"False northing\",0,\\n            LENGTHUNIT[\"metre\",1],\\n            ID[\"EPSG\",8807]]],\\n    CS[Cartesian,2],\\n        AXIS[\"(E)\",east,\\n            ORDER[1],\\n            LENGTHUNIT[\"metre\",1]],\\n        AXIS[\"(N)\",north,\\n            ORDER[2],\\n            LENGTHUNIT[\"metre\",1]],\\n    USAGE[\\n        SCOPE[\"Engineering survey, topographic mapping.\"],\\n        AREA[\"United States (USA) - between 162°W and 156°W onshore and offshore - Alaska, Hawaii.\"],\\n        BBOX[15.57,-162,74.71,-155.99]],\\n    ID[\"EPSG\",26904]]'</span>"
            ],
            "text/markdown": "<span style=white-space:pre-wrap>'PROJCRS[\"NAD83 / UTM zone 4N\",\\n    BASEGEOGCRS[\"NAD83\",\\n        DATUM[\"North American Datum 1983\",\\n            ELLIPSOID[\"GRS 1980\",6378137,298.257222101,\\n                LENGTHUNIT[\"metre\",1]]],\\n        PRIMEM[\"Greenwich\",0,\\n            ANGLEUNIT[\"degree\",0.0174532925199433]],\\n        ID[\"EPSG\",4269]],\\n    CONVERSION[\"UTM zone 4N\",\\n        METHOD[\"Transverse Mercator\",\\n            ID[\"EPSG\",9807]],\\n        PARAMETER[\"Latitude of natural origin\",0,\\n            ANGLEUNIT[\"degree\",0.0174532925199433],\\n            ID[\"EPSG\",8801]],\\n        PARAMETER[\"Longitude of natural origin\",-159,\\n            ANGLEUNIT[\"degree\",0.0174532925199433],\\n            ID[\"EPSG\",8802]],\\n        PARAMETER[\"Scale factor at natural origin\",0.9996,\\n            SCALEUNIT[\"unity\",1],\\n            ID[\"EPSG\",8805]],\\n        PARAMETER[\"False easting\",500000,\\n            LENGTHUNIT[\"metre\",1],\\n            ID[\"EPSG\",8806]],\\n        PARAMETER[\"False northing\",0,\\n            LENGTHUNIT[\"metre\",1],\\n            ID[\"EPSG\",8807]]],\\n    CS[Cartesian,2],\\n        AXIS[\"(E)\",east,\\n            ORDER[1],\\n            LENGTHUNIT[\"metre\",1]],\\n        AXIS[\"(N)\",north,\\n            ORDER[2],\\n            LENGTHUNIT[\"metre\",1]],\\n    USAGE[\\n        SCOPE[\"Engineering survey, topographic mapping.\"],\\n        AREA[\"United States (USA) - between 162°W and 156°W onshore and offshore - Alaska, Hawaii.\"],\\n        BBOX[15.57,-162,74.71,-155.99]],\\n    ID[\"EPSG\",26904]]'</span>",
            "text/latex": "'PROJCRS{[}\"NAD83 / UTM zone 4N\",\\textbackslash{}n    BASEGEOGCRS{[}\"NAD83\",\\textbackslash{}n        DATUM{[}\"North American Datum 1983\",\\textbackslash{}n            ELLIPSOID{[}\"GRS 1980\",6378137,298.257222101,\\textbackslash{}n                LENGTHUNIT{[}\"metre\",1{]}{]}{]},\\textbackslash{}n        PRIMEM{[}\"Greenwich\",0,\\textbackslash{}n            ANGLEUNIT{[}\"degree\",0.0174532925199433{]}{]},\\textbackslash{}n        ID{[}\"EPSG\",4269{]}{]},\\textbackslash{}n    CONVERSION{[}\"UTM zone 4N\",\\textbackslash{}n        METHOD{[}\"Transverse Mercator\",\\textbackslash{}n            ID{[}\"EPSG\",9807{]}{]},\\textbackslash{}n        PARAMETER{[}\"Latitude of natural origin\",0,\\textbackslash{}n            ANGLEUNIT{[}\"degree\",0.0174532925199433{]},\\textbackslash{}n            ID{[}\"EPSG\",8801{]}{]},\\textbackslash{}n        PARAMETER{[}\"Longitude of natural origin\",-159,\\textbackslash{}n            ANGLEUNIT{[}\"degree\",0.0174532925199433{]},\\textbackslash{}n            ID{[}\"EPSG\",8802{]}{]},\\textbackslash{}n        PARAMETER{[}\"Scale factor at natural origin\",0.9996,\\textbackslash{}n            SCALEUNIT{[}\"unity\",1{]},\\textbackslash{}n            ID{[}\"EPSG\",8805{]}{]},\\textbackslash{}n        PARAMETER{[}\"False easting\",500000,\\textbackslash{}n            LENGTHUNIT{[}\"metre\",1{]},\\textbackslash{}n            ID{[}\"EPSG\",8806{]}{]},\\textbackslash{}n        PARAMETER{[}\"False northing\",0,\\textbackslash{}n            LENGTHUNIT{[}\"metre\",1{]},\\textbackslash{}n            ID{[}\"EPSG\",8807{]}{]}{]},\\textbackslash{}n    CS{[}Cartesian,2{]},\\textbackslash{}n        AXIS{[}\"(E)\",east,\\textbackslash{}n            ORDER{[}1{]},\\textbackslash{}n            LENGTHUNIT{[}\"metre\",1{]}{]},\\textbackslash{}n        AXIS{[}\"(N)\",north,\\textbackslash{}n            ORDER{[}2{]},\\textbackslash{}n            LENGTHUNIT{[}\"metre\",1{]}{]},\\textbackslash{}n    USAGE{[}\\textbackslash{}n        SCOPE{[}\"Engineering survey, topographic mapping.\"{]},\\textbackslash{}n        AREA{[}\"United States (USA) - between 162°W and 156°W onshore and offshore - Alaska, Hawaii.\"{]},\\textbackslash{}n        BBOX{[}15.57,-162,74.71,-155.99{]}{]},\\textbackslash{}n    ID{[}\"EPSG\",26904{]}{]}'",
            "text/plain": [
              "[1] \"PROJCRS[\\\"NAD83 / UTM zone 4N\\\",\\n    BASEGEOGCRS[\\\"NAD83\\\",\\n        DATUM[\\\"North American Datum 1983\\\",\\n            ELLIPSOID[\\\"GRS 1980\\\",6378137,298.257222101,\\n                LENGTHUNIT[\\\"metre\\\",1]]],\\n        PRIMEM[\\\"Greenwich\\\",0,\\n            ANGLEUNIT[\\\"degree\\\",0.0174532925199433]],\\n        ID[\\\"EPSG\\\",4269]],\\n    CONVERSION[\\\"UTM zone 4N\\\",\\n        METHOD[\\\"Transverse Mercator\\\",\\n            ID[\\\"EPSG\\\",9807]],\\n        PARAMETER[\\\"Latitude of natural origin\\\",0,\\n            ANGLEUNIT[\\\"degree\\\",0.0174532925199433],\\n            ID[\\\"EPSG\\\",8801]],\\n        PARAMETER[\\\"Longitude of natural origin\\\",-159,\\n            ANGLEUNIT[\\\"degree\\\",0.0174532925199433],\\n            ID[\\\"EPSG\\\",8802]],\\n        PARAMETER[\\\"Scale factor at natural origin\\\",0.9996,\\n            SCALEUNIT[\\\"unity\\\",1],\\n            ID[\\\"EPSG\\\",8805]],\\n        PARAMETER[\\\"False easting\\\",500000,\\n            LENGTHUNIT[\\\"metre\\\",1],\\n            ID[\\\"EPSG\\\",8806]],\\n        PARAMETER[\\\"False northing\\\",0,\\n            LENGTHUNIT[\\\"metre\\\",1],\\n            ID[\\\"EPSG\\\",8807]]],\\n    CS[Cartesian,2],\\n        AXIS[\\\"(E)\\\",east,\\n            ORDER[1],\\n            LENGTHUNIT[\\\"metre\\\",1]],\\n        AXIS[\\\"(N)\\\",north,\\n            ORDER[2],\\n            LENGTHUNIT[\\\"metre\\\",1]],\\n    USAGE[\\n        SCOPE[\\\"Engineering survey, topographic mapping.\\\"],\\n        AREA[\\\"United States (USA) - between 162°W and 156°W onshore and offshore - Alaska, Hawaii.\\\"],\\n        BBOX[15.57,-162,74.71,-155.99]],\\n    ID[\\\"EPSG\\\",26904]]\""
            ]
          },
          "metadata": {}
        }
      ]
    },
    {
      "cell_type": "code",
      "source": [
        "class(wetland_outline)"
      ],
      "metadata": {
        "colab": {
          "base_uri": "https://localhost:8080/",
          "height": 34
        },
        "id": "IgXvdJIiFzTv",
        "outputId": "3ec026a2-1bd8-4dde-9bab-5dd75967bf4a"
      },
      "execution_count": 115,
      "outputs": [
        {
          "output_type": "display_data",
          "data": {
            "text/html": [
              "<style>\n",
              ".list-inline {list-style: none; margin:0; padding: 0}\n",
              ".list-inline>li {display: inline-block}\n",
              ".list-inline>li:not(:last-child)::after {content: \"\\00b7\"; padding: 0 .5ex}\n",
              "</style>\n",
              "<ol class=list-inline><li>'sf'</li><li>'data.table'</li><li>'data.frame'</li></ol>\n"
            ],
            "text/markdown": "1. 'sf'\n2. 'data.table'\n3. 'data.frame'\n\n\n",
            "text/latex": "\\begin{enumerate*}\n\\item 'sf'\n\\item 'data.table'\n\\item 'data.frame'\n\\end{enumerate*}\n",
            "text/plain": [
              "[1] \"sf\"         \"data.table\" \"data.frame\""
            ]
          },
          "metadata": {}
        }
      ]
    },
    {
      "cell_type": "code",
      "source": [
        "wetland_outline_transform <- st_transform(wetland_outline, crs = 26904)"
      ],
      "metadata": {
        "id": "8B2hURFxF96_"
      },
      "execution_count": 118,
      "outputs": []
    },
    {
      "cell_type": "code",
      "source": [
        "crs(wetland_outline_transform)"
      ],
      "metadata": {
        "colab": {
          "base_uri": "https://localhost:8080/",
          "height": 139
        },
        "id": "Wvf-LeK1F933",
        "outputId": "e1c5d6a9-1785-42a3-b198-07ab449ab205"
      },
      "execution_count": 119,
      "outputs": [
        {
          "output_type": "display_data",
          "data": {
            "text/html": [
              "<span style=white-space:pre-wrap>'PROJCRS[\"NAD83 / UTM zone 4N\",\\n    BASEGEOGCRS[\"NAD83\",\\n        DATUM[\"North American Datum 1983\",\\n            ELLIPSOID[\"GRS 1980\",6378137,298.257222101,\\n                LENGTHUNIT[\"metre\",1]]],\\n        PRIMEM[\"Greenwich\",0,\\n            ANGLEUNIT[\"degree\",0.0174532925199433]],\\n        ID[\"EPSG\",4269]],\\n    CONVERSION[\"UTM zone 4N\",\\n        METHOD[\"Transverse Mercator\",\\n            ID[\"EPSG\",9807]],\\n        PARAMETER[\"Latitude of natural origin\",0,\\n            ANGLEUNIT[\"degree\",0.0174532925199433],\\n            ID[\"EPSG\",8801]],\\n        PARAMETER[\"Longitude of natural origin\",-159,\\n            ANGLEUNIT[\"degree\",0.0174532925199433],\\n            ID[\"EPSG\",8802]],\\n        PARAMETER[\"Scale factor at natural origin\",0.9996,\\n            SCALEUNIT[\"unity\",1],\\n            ID[\"EPSG\",8805]],\\n        PARAMETER[\"False easting\",500000,\\n            LENGTHUNIT[\"metre\",1],\\n            ID[\"EPSG\",8806]],\\n        PARAMETER[\"False northing\",0,\\n            LENGTHUNIT[\"metre\",1],\\n            ID[\"EPSG\",8807]]],\\n    CS[Cartesian,2],\\n        AXIS[\"(E)\",east,\\n            ORDER[1],\\n            LENGTHUNIT[\"metre\",1]],\\n        AXIS[\"(N)\",north,\\n            ORDER[2],\\n            LENGTHUNIT[\"metre\",1]],\\n    USAGE[\\n        SCOPE[\"Engineering survey, topographic mapping.\"],\\n        AREA[\"United States (USA) - between 162°W and 156°W onshore and offshore - Alaska, Hawaii.\"],\\n        BBOX[15.57,-162,74.71,-155.99]],\\n    ID[\"EPSG\",26904]]'</span>"
            ],
            "text/markdown": "<span style=white-space:pre-wrap>'PROJCRS[\"NAD83 / UTM zone 4N\",\\n    BASEGEOGCRS[\"NAD83\",\\n        DATUM[\"North American Datum 1983\",\\n            ELLIPSOID[\"GRS 1980\",6378137,298.257222101,\\n                LENGTHUNIT[\"metre\",1]]],\\n        PRIMEM[\"Greenwich\",0,\\n            ANGLEUNIT[\"degree\",0.0174532925199433]],\\n        ID[\"EPSG\",4269]],\\n    CONVERSION[\"UTM zone 4N\",\\n        METHOD[\"Transverse Mercator\",\\n            ID[\"EPSG\",9807]],\\n        PARAMETER[\"Latitude of natural origin\",0,\\n            ANGLEUNIT[\"degree\",0.0174532925199433],\\n            ID[\"EPSG\",8801]],\\n        PARAMETER[\"Longitude of natural origin\",-159,\\n            ANGLEUNIT[\"degree\",0.0174532925199433],\\n            ID[\"EPSG\",8802]],\\n        PARAMETER[\"Scale factor at natural origin\",0.9996,\\n            SCALEUNIT[\"unity\",1],\\n            ID[\"EPSG\",8805]],\\n        PARAMETER[\"False easting\",500000,\\n            LENGTHUNIT[\"metre\",1],\\n            ID[\"EPSG\",8806]],\\n        PARAMETER[\"False northing\",0,\\n            LENGTHUNIT[\"metre\",1],\\n            ID[\"EPSG\",8807]]],\\n    CS[Cartesian,2],\\n        AXIS[\"(E)\",east,\\n            ORDER[1],\\n            LENGTHUNIT[\"metre\",1]],\\n        AXIS[\"(N)\",north,\\n            ORDER[2],\\n            LENGTHUNIT[\"metre\",1]],\\n    USAGE[\\n        SCOPE[\"Engineering survey, topographic mapping.\"],\\n        AREA[\"United States (USA) - between 162°W and 156°W onshore and offshore - Alaska, Hawaii.\"],\\n        BBOX[15.57,-162,74.71,-155.99]],\\n    ID[\"EPSG\",26904]]'</span>",
            "text/latex": "'PROJCRS{[}\"NAD83 / UTM zone 4N\",\\textbackslash{}n    BASEGEOGCRS{[}\"NAD83\",\\textbackslash{}n        DATUM{[}\"North American Datum 1983\",\\textbackslash{}n            ELLIPSOID{[}\"GRS 1980\",6378137,298.257222101,\\textbackslash{}n                LENGTHUNIT{[}\"metre\",1{]}{]}{]},\\textbackslash{}n        PRIMEM{[}\"Greenwich\",0,\\textbackslash{}n            ANGLEUNIT{[}\"degree\",0.0174532925199433{]}{]},\\textbackslash{}n        ID{[}\"EPSG\",4269{]}{]},\\textbackslash{}n    CONVERSION{[}\"UTM zone 4N\",\\textbackslash{}n        METHOD{[}\"Transverse Mercator\",\\textbackslash{}n            ID{[}\"EPSG\",9807{]}{]},\\textbackslash{}n        PARAMETER{[}\"Latitude of natural origin\",0,\\textbackslash{}n            ANGLEUNIT{[}\"degree\",0.0174532925199433{]},\\textbackslash{}n            ID{[}\"EPSG\",8801{]}{]},\\textbackslash{}n        PARAMETER{[}\"Longitude of natural origin\",-159,\\textbackslash{}n            ANGLEUNIT{[}\"degree\",0.0174532925199433{]},\\textbackslash{}n            ID{[}\"EPSG\",8802{]}{]},\\textbackslash{}n        PARAMETER{[}\"Scale factor at natural origin\",0.9996,\\textbackslash{}n            SCALEUNIT{[}\"unity\",1{]},\\textbackslash{}n            ID{[}\"EPSG\",8805{]}{]},\\textbackslash{}n        PARAMETER{[}\"False easting\",500000,\\textbackslash{}n            LENGTHUNIT{[}\"metre\",1{]},\\textbackslash{}n            ID{[}\"EPSG\",8806{]}{]},\\textbackslash{}n        PARAMETER{[}\"False northing\",0,\\textbackslash{}n            LENGTHUNIT{[}\"metre\",1{]},\\textbackslash{}n            ID{[}\"EPSG\",8807{]}{]}{]},\\textbackslash{}n    CS{[}Cartesian,2{]},\\textbackslash{}n        AXIS{[}\"(E)\",east,\\textbackslash{}n            ORDER{[}1{]},\\textbackslash{}n            LENGTHUNIT{[}\"metre\",1{]}{]},\\textbackslash{}n        AXIS{[}\"(N)\",north,\\textbackslash{}n            ORDER{[}2{]},\\textbackslash{}n            LENGTHUNIT{[}\"metre\",1{]}{]},\\textbackslash{}n    USAGE{[}\\textbackslash{}n        SCOPE{[}\"Engineering survey, topographic mapping.\"{]},\\textbackslash{}n        AREA{[}\"United States (USA) - between 162°W and 156°W onshore and offshore - Alaska, Hawaii.\"{]},\\textbackslash{}n        BBOX{[}15.57,-162,74.71,-155.99{]}{]},\\textbackslash{}n    ID{[}\"EPSG\",26904{]}{]}'",
            "text/plain": [
              "[1] \"PROJCRS[\\\"NAD83 / UTM zone 4N\\\",\\n    BASEGEOGCRS[\\\"NAD83\\\",\\n        DATUM[\\\"North American Datum 1983\\\",\\n            ELLIPSOID[\\\"GRS 1980\\\",6378137,298.257222101,\\n                LENGTHUNIT[\\\"metre\\\",1]]],\\n        PRIMEM[\\\"Greenwich\\\",0,\\n            ANGLEUNIT[\\\"degree\\\",0.0174532925199433]],\\n        ID[\\\"EPSG\\\",4269]],\\n    CONVERSION[\\\"UTM zone 4N\\\",\\n        METHOD[\\\"Transverse Mercator\\\",\\n            ID[\\\"EPSG\\\",9807]],\\n        PARAMETER[\\\"Latitude of natural origin\\\",0,\\n            ANGLEUNIT[\\\"degree\\\",0.0174532925199433],\\n            ID[\\\"EPSG\\\",8801]],\\n        PARAMETER[\\\"Longitude of natural origin\\\",-159,\\n            ANGLEUNIT[\\\"degree\\\",0.0174532925199433],\\n            ID[\\\"EPSG\\\",8802]],\\n        PARAMETER[\\\"Scale factor at natural origin\\\",0.9996,\\n            SCALEUNIT[\\\"unity\\\",1],\\n            ID[\\\"EPSG\\\",8805]],\\n        PARAMETER[\\\"False easting\\\",500000,\\n            LENGTHUNIT[\\\"metre\\\",1],\\n            ID[\\\"EPSG\\\",8806]],\\n        PARAMETER[\\\"False northing\\\",0,\\n            LENGTHUNIT[\\\"metre\\\",1],\\n            ID[\\\"EPSG\\\",8807]]],\\n    CS[Cartesian,2],\\n        AXIS[\\\"(E)\\\",east,\\n            ORDER[1],\\n            LENGTHUNIT[\\\"metre\\\",1]],\\n        AXIS[\\\"(N)\\\",north,\\n            ORDER[2],\\n            LENGTHUNIT[\\\"metre\\\",1]],\\n    USAGE[\\n        SCOPE[\\\"Engineering survey, topographic mapping.\\\"],\\n        AREA[\\\"United States (USA) - between 162°W and 156°W onshore and offshore - Alaska, Hawaii.\\\"],\\n        BBOX[15.57,-162,74.71,-155.99]],\\n    ID[\\\"EPSG\\\",26904]]\""
            ]
          },
          "metadata": {}
        }
      ]
    },
    {
      "cell_type": "code",
      "source": [
        "nrow(wetland_outline_transform)"
      ],
      "metadata": {
        "id": "lQjaXLHzZXLO",
        "outputId": "6086464f-f2af-42b1-de98-aaea8fd9a9b0",
        "colab": {
          "base_uri": "https://localhost:8080/",
          "height": 34
        }
      },
      "execution_count": 159,
      "outputs": [
        {
          "output_type": "display_data",
          "data": {
            "text/html": [
              "16"
            ],
            "text/markdown": "16",
            "text/latex": "16",
            "text/plain": [
              "[1] 16"
            ]
          },
          "metadata": {}
        }
      ]
    },
    {
      "cell_type": "code",
      "source": [
        "nrow(test_05_wetlandsFishnet_sf_layer)"
      ],
      "metadata": {
        "id": "9umz3hudZfjw",
        "outputId": "e9a35847-cc47-4e14-86a4-90afd80bb9de",
        "colab": {
          "base_uri": "https://localhost:8080/",
          "height": 34
        }
      },
      "execution_count": 156,
      "outputs": [
        {
          "output_type": "display_data",
          "data": {
            "text/html": [
              "2666"
            ],
            "text/markdown": "2666",
            "text/latex": "2666",
            "text/plain": [
              "[1] 2666"
            ]
          },
          "metadata": {}
        }
      ]
    },
    {
      "cell_type": "code",
      "source": [
        "test_05_wetlandsFishnet_sf_layer %>% plot"
      ],
      "metadata": {
        "id": "96uu04NzaYyz",
        "outputId": "8506f81b-db24-4613-e398-1a3cb55acd56",
        "colab": {
          "base_uri": "https://localhost:8080/",
          "height": 506
        }
      },
      "execution_count": 160,
      "outputs": [
        {
          "output_type": "stream",
          "name": "stderr",
          "text": [
            "Warning message in min(x):\n",
            "“no non-missing arguments to min; returning Inf”\n",
            "Warning message in max(x):\n",
            "“no non-missing arguments to max; returning -Inf”\n"
          ]
        },
        {
          "output_type": "display_data",
          "data": {
            "text/plain": [
              "Plot with title “location_name”"
            ],
            "image/png": "[encoded data removed]"
          },
          "metadata": {
            "image/png": {
              "width": 420,
              "height": 420
            }
          }
        }
      ]
    },
    {
      "cell_type": "code",
      "source": [
        "test_05_wetlandsFishnet_sf_layer"
      ],
      "metadata": {
        "id": "yhFAqrhGaYwT",
        "outputId": "584b1b8f-bb94-4095-cd98-d3d977fff7a1",
        "colab": {
          "base_uri": "https://localhost:8080/",
          "height": 1000
        }
      },
      "execution_count": 161,
      "outputs": [
        {
          "output_type": "stream",
          "name": "stderr",
          "text": [
            "ERROR while rich displaying an object: Error in loadNamespace(x): there is no package called ‘geojsonio’\n",
            "\n",
            "Traceback:\n",
            "1. tryCatch(withCallingHandlers({\n",
            " .     if (!mime %in% names(repr::mime2repr)) \n",
            " .         stop(\"No repr_* for mimetype \", mime, \" in repr::mime2repr\")\n",
            " .     rpr <- repr::mime2repr[[mime]](obj)\n",
            " .     if (is.null(rpr)) \n",
            " .         return(NULL)\n",
            " .     prepare_content(is.raw(rpr), rpr)\n",
            " . }, error = error_handler), error = outer_handler)\n",
            "2. tryCatchList(expr, classes, parentenv, handlers)\n",
            "3. tryCatchOne(expr, names, parentenv, handlers[[1L]])\n",
            "4. doTryCatch(return(expr), name, parentenv, handler)\n",
            "5. withCallingHandlers({\n",
            " .     if (!mime %in% names(repr::mime2repr)) \n",
            " .         stop(\"No repr_* for mimetype \", mime, \" in repr::mime2repr\")\n",
            " .     rpr <- repr::mime2repr[[mime]](obj)\n",
            " .     if (is.null(rpr)) \n",
            " .         return(NULL)\n",
            " .     prepare_content(is.raw(rpr), rpr)\n",
            " . }, error = error_handler)\n",
            "6. repr::mime2repr[[mime]](obj)\n",
            "7. repr_geojson.sf(obj)\n",
            "8. repr_geojson(geojsonio::geojson_list(obj), ...)\n",
            "9. loadNamespace(x)\n",
            "10. withRestarts(stop(cond), retry_loadNamespace = function() NULL)\n",
            "11. withOneRestart(expr, restarts[[1L]])\n",
            "12. doWithOneRestart(return(expr), restart)\n"
          ]
        },
        {
          "output_type": "display_data",
          "data": {
            "text/html": [
              "<table class=\"dataframe\">\n",
              "<caption>A sf: 2666 × 4</caption>\n",
              "<thead>\n",
              "\t<tr><th></th><th scope=col>rowid</th><th scope=col>island</th><th scope=col>x</th><th scope=col>location_name</th></tr>\n",
              "\t<tr><th></th><th scope=col>&lt;int&gt;</th><th scope=col>&lt;chr&gt;</th><th scope=col>&lt;POLYGON [m]&gt;</th><th scope=col>&lt;lgl&gt;</th></tr>\n",
              "</thead>\n",
              "<tbody>\n",
              "\t<tr><th scope=row>1</th><td> 1</td><td>kauai</td><td>POLYGON ((467278.6 2447486,...</td><td>NA</td></tr>\n",
              "\t<tr><th scope=row>2</th><td> 2</td><td>kauai</td><td>POLYGON ((467662.6 2447486,...</td><td>NA</td></tr>\n",
              "\t<tr><th scope=row>3</th><td> 3</td><td>kauai</td><td>POLYGON ((468046.6 2447486,...</td><td>NA</td></tr>\n",
              "\t<tr><th scope=row>4</th><td> 4</td><td>kauai</td><td>POLYGON ((468430.5 2447486,...</td><td>NA</td></tr>\n",
              "\t<tr><th scope=row>5</th><td> 5</td><td>kauai</td><td>POLYGON ((468814.5 2447486,...</td><td>NA</td></tr>\n",
              "\t<tr><th scope=row>6</th><td> 6</td><td>kauai</td><td>POLYGON ((469198.5 2447486,...</td><td>NA</td></tr>\n",
              "\t<tr><th scope=row>7</th><td> 7</td><td>kauai</td><td>POLYGON ((469582.5 2447486,...</td><td>NA</td></tr>\n",
              "\t<tr><th scope=row>8</th><td> 8</td><td>kauai</td><td>POLYGON ((469966.5 2447486,...</td><td>NA</td></tr>\n",
              "\t<tr><th scope=row>9</th><td> 9</td><td>kauai</td><td>POLYGON ((467278.6 2447870,...</td><td>NA</td></tr>\n",
              "\t<tr><th scope=row>10</th><td>10</td><td>kauai</td><td>POLYGON ((467662.6 2447870,...</td><td>NA</td></tr>\n",
              "\t<tr><th scope=row>11</th><td>11</td><td>kauai</td><td>POLYGON ((468046.5 2447870,...</td><td>NA</td></tr>\n",
              "\t<tr><th scope=row>12</th><td>12</td><td>kauai</td><td>POLYGON ((468430.5 2447870,...</td><td>NA</td></tr>\n",
              "\t<tr><th scope=row>13</th><td>13</td><td>kauai</td><td>POLYGON ((468814.5 2447870,...</td><td>NA</td></tr>\n",
              "\t<tr><th scope=row>14</th><td>14</td><td>kauai</td><td>POLYGON ((469198.5 2447870,...</td><td>NA</td></tr>\n",
              "\t<tr><th scope=row>15</th><td>15</td><td>kauai</td><td>POLYGON ((469582.5 2447870,...</td><td>NA</td></tr>\n",
              "\t<tr><th scope=row>16</th><td>16</td><td>kauai</td><td>POLYGON ((469966.5 2447870,...</td><td>NA</td></tr>\n",
              "\t<tr><th scope=row>17</th><td>17</td><td>kauai</td><td>POLYGON ((467278.6 2448254,...</td><td>NA</td></tr>\n",
              "\t<tr><th scope=row>18</th><td>18</td><td>kauai</td><td>POLYGON ((467662.6 2448254,...</td><td>NA</td></tr>\n",
              "\t<tr><th scope=row>19</th><td>19</td><td>kauai</td><td>POLYGON ((468046.5 2448254,...</td><td>NA</td></tr>\n",
              "\t<tr><th scope=row>20</th><td>20</td><td>kauai</td><td>POLYGON ((468430.5 2448254,...</td><td>NA</td></tr>\n",
              "\t<tr><th scope=row>21</th><td>21</td><td>kauai</td><td>POLYGON ((468814.5 2448254,...</td><td>NA</td></tr>\n",
              "\t<tr><th scope=row>22</th><td>22</td><td>kauai</td><td>POLYGON ((469198.5 2448254,...</td><td>NA</td></tr>\n",
              "\t<tr><th scope=row>23</th><td>23</td><td>kauai</td><td>POLYGON ((469582.5 2448254,...</td><td>NA</td></tr>\n",
              "\t<tr><th scope=row>24</th><td>24</td><td>kauai</td><td>POLYGON ((469966.5 2448254,...</td><td>NA</td></tr>\n",
              "\t<tr><th scope=row>25</th><td>25</td><td>kauai</td><td>POLYGON ((467278.6 2448638,...</td><td>NA</td></tr>\n",
              "\t<tr><th scope=row>26</th><td>26</td><td>kauai</td><td>POLYGON ((467662.5 2448638,...</td><td>NA</td></tr>\n",
              "\t<tr><th scope=row>27</th><td>27</td><td>kauai</td><td>POLYGON ((468046.5 2448638,...</td><td>NA</td></tr>\n",
              "\t<tr><th scope=row>28</th><td>28</td><td>kauai</td><td>POLYGON ((468430.5 2448638,...</td><td>NA</td></tr>\n",
              "\t<tr><th scope=row>29</th><td>29</td><td>kauai</td><td>POLYGON ((468814.5 2448638,...</td><td>NA</td></tr>\n",
              "\t<tr><th scope=row>30</th><td>30</td><td>kauai</td><td>POLYGON ((469198.5 2448638,...</td><td>NA</td></tr>\n",
              "\t<tr><th scope=row>⋮</th><td>⋮</td><td>⋮</td><td>⋮</td><td>⋮</td></tr>\n",
              "\t<tr><th scope=row>2637</th><td>61</td><td>kauai</td><td>POLYGON ((463988.6 2441388,...</td><td>NA</td></tr>\n",
              "\t<tr><th scope=row>2638</th><td>62</td><td>kauai</td><td>POLYGON ((464372.6 2441388,...</td><td>NA</td></tr>\n",
              "\t<tr><th scope=row>2639</th><td>63</td><td>kauai</td><td>POLYGON ((464756.6 2441388,...</td><td>NA</td></tr>\n",
              "\t<tr><th scope=row>2640</th><td>64</td><td>kauai</td><td>POLYGON ((465140.6 2441388,...</td><td>NA</td></tr>\n",
              "\t<tr><th scope=row>2641</th><td>65</td><td>kauai</td><td>POLYGON ((465524.6 2441388,...</td><td>NA</td></tr>\n",
              "\t<tr><th scope=row>2642</th><td>66</td><td>kauai</td><td>POLYGON ((465908.6 2441388,...</td><td>NA</td></tr>\n",
              "\t<tr><th scope=row>2643</th><td>67</td><td>kauai</td><td>POLYGON ((466292.6 2441388,...</td><td>NA</td></tr>\n",
              "\t<tr><th scope=row>2644</th><td>68</td><td>kauai</td><td>POLYGON ((466676.6 2441388,...</td><td>NA</td></tr>\n",
              "\t<tr><th scope=row>2645</th><td>69</td><td>kauai</td><td>POLYGON ((467060.6 2441388,...</td><td>NA</td></tr>\n",
              "\t<tr><th scope=row>2646</th><td>70</td><td>kauai</td><td>POLYGON ((467444.6 2441388,...</td><td>NA</td></tr>\n",
              "\t<tr><th scope=row>2647</th><td>71</td><td>kauai</td><td>POLYGON ((463988.6 2441772,...</td><td>NA</td></tr>\n",
              "\t<tr><th scope=row>2648</th><td>72</td><td>kauai</td><td>POLYGON ((464372.6 2441772,...</td><td>NA</td></tr>\n",
              "\t<tr><th scope=row>2649</th><td>73</td><td>kauai</td><td>POLYGON ((464756.6 2441772,...</td><td>NA</td></tr>\n",
              "\t<tr><th scope=row>2650</th><td>74</td><td>kauai</td><td>POLYGON ((465140.6 2441772,...</td><td>NA</td></tr>\n",
              "\t<tr><th scope=row>2651</th><td>75</td><td>kauai</td><td>POLYGON ((465524.6 2441772,...</td><td>NA</td></tr>\n",
              "\t<tr><th scope=row>2652</th><td>76</td><td>kauai</td><td>POLYGON ((465908.6 2441772,...</td><td>NA</td></tr>\n",
              "\t<tr><th scope=row>2653</th><td>77</td><td>kauai</td><td>POLYGON ((466292.6 2441772,...</td><td>NA</td></tr>\n",
              "\t<tr><th scope=row>2654</th><td>78</td><td>kauai</td><td>POLYGON ((466676.6 2441772,...</td><td>NA</td></tr>\n",
              "\t<tr><th scope=row>2655</th><td>79</td><td>kauai</td><td>POLYGON ((467060.6 2441772,...</td><td>NA</td></tr>\n",
              "\t<tr><th scope=row>2656</th><td>80</td><td>kauai</td><td>POLYGON ((467444.6 2441772,...</td><td>NA</td></tr>\n",
              "\t<tr><th scope=row>2657</th><td>81</td><td>kauai</td><td>POLYGON ((463988.6 2442156,...</td><td>NA</td></tr>\n",
              "\t<tr><th scope=row>2658</th><td>82</td><td>kauai</td><td>POLYGON ((464372.6 2442156,...</td><td>NA</td></tr>\n",
              "\t<tr><th scope=row>2659</th><td>83</td><td>kauai</td><td>POLYGON ((464756.6 2442156,...</td><td>NA</td></tr>\n",
              "\t<tr><th scope=row>2660</th><td>84</td><td>kauai</td><td>POLYGON ((465140.6 2442156,...</td><td>NA</td></tr>\n",
              "\t<tr><th scope=row>2661</th><td>85</td><td>kauai</td><td>POLYGON ((465524.6 2442156,...</td><td>NA</td></tr>\n",
              "\t<tr><th scope=row>2662</th><td>86</td><td>kauai</td><td>POLYGON ((465908.6 2442156,...</td><td>NA</td></tr>\n",
              "\t<tr><th scope=row>2663</th><td>87</td><td>kauai</td><td>POLYGON ((466292.6 2442156,...</td><td>NA</td></tr>\n",
              "\t<tr><th scope=row>2664</th><td>88</td><td>kauai</td><td>POLYGON ((466676.6 2442156,...</td><td>NA</td></tr>\n",
              "\t<tr><th scope=row>2665</th><td>89</td><td>kauai</td><td>POLYGON ((467060.6 2442156,...</td><td>NA</td></tr>\n",
              "\t<tr><th scope=row>2666</th><td>90</td><td>kauai</td><td>POLYGON ((467444.6 2442156,...</td><td>NA</td></tr>\n",
              "</tbody>\n",
              "</table>\n"
            ],
            "text/markdown": "\nA sf: 2666 × 4\n\n| <!--/--> | rowid &lt;int&gt; | island &lt;chr&gt; | x &lt;POLYGON [m]&gt; | location_name &lt;lgl&gt; |\n|---|---|---|---|---|\n| 1 |  1 | kauai | POLYGON ((467278.6 2447486,... | NA |\n| 2 |  2 | kauai | POLYGON ((467662.6 2447486,... | NA |\n| 3 |  3 | kauai | POLYGON ((468046.6 2447486,... | NA |\n| 4 |  4 | kauai | POLYGON ((468430.5 2447486,... | NA |\n| 5 |  5 | kauai | POLYGON ((468814.5 2447486,... | NA |\n| 6 |  6 | kauai | POLYGON ((469198.5 2447486,... | NA |\n| 7 |  7 | kauai | POLYGON ((469582.5 2447486,... | NA |\n| 8 |  8 | kauai | POLYGON ((469966.5 2447486,... | NA |\n| 9 |  9 | kauai | POLYGON ((467278.6 2447870,... | NA |\n| 10 | 10 | kauai | POLYGON ((467662.6 2447870,... | NA |\n| 11 | 11 | kauai | POLYGON ((468046.5 2447870,... | NA |\n| 12 | 12 | kauai | POLYGON ((468430.5 2447870,... | NA |\n| 13 | 13 | kauai | POLYGON ((468814.5 2447870,... | NA |\n| 14 | 14 | kauai | POLYGON ((469198.5 2447870,... | NA |\n| 15 | 15 | kauai | POLYGON ((469582.5 2447870,... | NA |\n| 16 | 16 | kauai | POLYGON ((469966.5 2447870,... | NA |\n| 17 | 17 | kauai | POLYGON ((467278.6 2448254,... | NA |\n| 18 | 18 | kauai | POLYGON ((467662.6 2448254,... | NA |\n| 19 | 19 | kauai | POLYGON ((468046.5 2448254,... | NA |\n| 20 | 20 | kauai | POLYGON ((468430.5 2448254,... | NA |\n| 21 | 21 | kauai | POLYGON ((468814.5 2448254,... | NA |\n| 22 | 22 | kauai | POLYGON ((469198.5 2448254,... | NA |\n| 23 | 23 | kauai | POLYGON ((469582.5 2448254,... | NA |\n| 24 | 24 | kauai | POLYGON ((469966.5 2448254,... | NA |\n| 25 | 25 | kauai | POLYGON ((467278.6 2448638,... | NA |\n| 26 | 26 | kauai | POLYGON ((467662.5 2448638,... | NA |\n| 27 | 27 | kauai | POLYGON ((468046.5 2448638,... | NA |\n| 28 | 28 | kauai | POLYGON ((468430.5 2448638,... | NA |\n| 29 | 29 | kauai | POLYGON ((468814.5 2448638,... | NA |\n| 30 | 30 | kauai | POLYGON ((469198.5 2448638,... | NA |\n| ⋮ | ⋮ | ⋮ | ⋮ | ⋮ |\n| 2637 | 61 | kauai | POLYGON ((463988.6 2441388,... | NA |\n| 2638 | 62 | kauai | POLYGON ((464372.6 2441388,... | NA |\n| 2639 | 63 | kauai | POLYGON ((464756.6 2441388,... | NA |\n| 2640 | 64 | kauai | POLYGON ((465140.6 2441388,... | NA |\n| 2641 | 65 | kauai | POLYGON ((465524.6 2441388,... | NA |\n| 2642 | 66 | kauai | POLYGON ((465908.6 2441388,... | NA |\n| 2643 | 67 | kauai | POLYGON ((466292.6 2441388,... | NA |\n| 2644 | 68 | kauai | POLYGON ((466676.6 2441388,... | NA |\n| 2645 | 69 | kauai | POLYGON ((467060.6 2441388,... | NA |\n| 2646 | 70 | kauai | POLYGON ((467444.6 2441388,... | NA |\n| 2647 | 71 | kauai | POLYGON ((463988.6 2441772,... | NA |\n| 2648 | 72 | kauai | POLYGON ((464372.6 2441772,... | NA |\n| 2649 | 73 | kauai | POLYGON ((464756.6 2441772,... | NA |\n| 2650 | 74 | kauai | POLYGON ((465140.6 2441772,... | NA |\n| 2651 | 75 | kauai | POLYGON ((465524.6 2441772,... | NA |\n| 2652 | 76 | kauai | POLYGON ((465908.6 2441772,... | NA |\n| 2653 | 77 | kauai | POLYGON ((466292.6 2441772,... | NA |\n| 2654 | 78 | kauai | POLYGON ((466676.6 2441772,... | NA |\n| 2655 | 79 | kauai | POLYGON ((467060.6 2441772,... | NA |\n| 2656 | 80 | kauai | POLYGON ((467444.6 2441772,... | NA |\n| 2657 | 81 | kauai | POLYGON ((463988.6 2442156,... | NA |\n| 2658 | 82 | kauai | POLYGON ((464372.6 2442156,... | NA |\n| 2659 | 83 | kauai | POLYGON ((464756.6 2442156,... | NA |\n| 2660 | 84 | kauai | POLYGON ((465140.6 2442156,... | NA |\n| 2661 | 85 | kauai | POLYGON ((465524.6 2442156,... | NA |\n| 2662 | 86 | kauai | POLYGON ((465908.6 2442156,... | NA |\n| 2663 | 87 | kauai | POLYGON ((466292.6 2442156,... | NA |\n| 2664 | 88 | kauai | POLYGON ((466676.6 2442156,... | NA |\n| 2665 | 89 | kauai | POLYGON ((467060.6 2442156,... | NA |\n| 2666 | 90 | kauai | POLYGON ((467444.6 2442156,... | NA |\n\n",
            "text/latex": "A sf: 2666 × 4\n\\begin{tabular}{r|llll}\n  & rowid & island & x & location\\_name\\\\\n  & <int> & <chr> & <POLYGON {[}m{]}> & <lgl>\\\\\n\\hline\n\t1 &  1 & kauai & POLYGON ((467278.6 2447486,... & NA\\\\\n\t2 &  2 & kauai & POLYGON ((467662.6 2447486,... & NA\\\\\n\t3 &  3 & kauai & POLYGON ((468046.6 2447486,... & NA\\\\\n\t4 &  4 & kauai & POLYGON ((468430.5 2447486,... & NA\\\\\n\t5 &  5 & kauai & POLYGON ((468814.5 2447486,... & NA\\\\\n\t6 &  6 & kauai & POLYGON ((469198.5 2447486,... & NA\\\\\n\t7 &  7 & kauai & POLYGON ((469582.5 2447486,... & NA\\\\\n\t8 &  8 & kauai & POLYGON ((469966.5 2447486,... & NA\\\\\n\t9 &  9 & kauai & POLYGON ((467278.6 2447870,... & NA\\\\\n\t10 & 10 & kauai & POLYGON ((467662.6 2447870,... & NA\\\\\n\t11 & 11 & kauai & POLYGON ((468046.5 2447870,... & NA\\\\\n\t12 & 12 & kauai & POLYGON ((468430.5 2447870,... & NA\\\\\n\t13 & 13 & kauai & POLYGON ((468814.5 2447870,... & NA\\\\\n\t14 & 14 & kauai & POLYGON ((469198.5 2447870,... & NA\\\\\n\t15 & 15 & kauai & POLYGON ((469582.5 2447870,... & NA\\\\\n\t16 & 16 & kauai & POLYGON ((469966.5 2447870,... & NA\\\\\n\t17 & 17 & kauai & POLYGON ((467278.6 2448254,... & NA\\\\\n\t18 & 18 & kauai & POLYGON ((467662.6 2448254,... & NA\\\\\n\t19 & 19 & kauai & POLYGON ((468046.5 2448254,... & NA\\\\\n\t20 & 20 & kauai & POLYGON ((468430.5 2448254,... & NA\\\\\n\t21 & 21 & kauai & POLYGON ((468814.5 2448254,... & NA\\\\\n\t22 & 22 & kauai & POLYGON ((469198.5 2448254,... & NA\\\\\n\t23 & 23 & kauai & POLYGON ((469582.5 2448254,... & NA\\\\\n\t24 & 24 & kauai & POLYGON ((469966.5 2448254,... & NA\\\\\n\t25 & 25 & kauai & POLYGON ((467278.6 2448638,... & NA\\\\\n\t26 & 26 & kauai & POLYGON ((467662.5 2448638,... & NA\\\\\n\t27 & 27 & kauai & POLYGON ((468046.5 2448638,... & NA\\\\\n\t28 & 28 & kauai & POLYGON ((468430.5 2448638,... & NA\\\\\n\t29 & 29 & kauai & POLYGON ((468814.5 2448638,... & NA\\\\\n\t30 & 30 & kauai & POLYGON ((469198.5 2448638,... & NA\\\\\n\t⋮ & ⋮ & ⋮ & ⋮ & ⋮\\\\\n\t2637 & 61 & kauai & POLYGON ((463988.6 2441388,... & NA\\\\\n\t2638 & 62 & kauai & POLYGON ((464372.6 2441388,... & NA\\\\\n\t2639 & 63 & kauai & POLYGON ((464756.6 2441388,... & NA\\\\\n\t2640 & 64 & kauai & POLYGON ((465140.6 2441388,... & NA\\\\\n\t2641 & 65 & kauai & POLYGON ((465524.6 2441388,... & NA\\\\\n\t2642 & 66 & kauai & POLYGON ((465908.6 2441388,... & NA\\\\\n\t2643 & 67 & kauai & POLYGON ((466292.6 2441388,... & NA\\\\\n\t2644 & 68 & kauai & POLYGON ((466676.6 2441388,... & NA\\\\\n\t2645 & 69 & kauai & POLYGON ((467060.6 2441388,... & NA\\\\\n\t2646 & 70 & kauai & POLYGON ((467444.6 2441388,... & NA\\\\\n\t2647 & 71 & kauai & POLYGON ((463988.6 2441772,... & NA\\\\\n\t2648 & 72 & kauai & POLYGON ((464372.6 2441772,... & NA\\\\\n\t2649 & 73 & kauai & POLYGON ((464756.6 2441772,... & NA\\\\\n\t2650 & 74 & kauai & POLYGON ((465140.6 2441772,... & NA\\\\\n\t2651 & 75 & kauai & POLYGON ((465524.6 2441772,... & NA\\\\\n\t2652 & 76 & kauai & POLYGON ((465908.6 2441772,... & NA\\\\\n\t2653 & 77 & kauai & POLYGON ((466292.6 2441772,... & NA\\\\\n\t2654 & 78 & kauai & POLYGON ((466676.6 2441772,... & NA\\\\\n\t2655 & 79 & kauai & POLYGON ((467060.6 2441772,... & NA\\\\\n\t2656 & 80 & kauai & POLYGON ((467444.6 2441772,... & NA\\\\\n\t2657 & 81 & kauai & POLYGON ((463988.6 2442156,... & NA\\\\\n\t2658 & 82 & kauai & POLYGON ((464372.6 2442156,... & NA\\\\\n\t2659 & 83 & kauai & POLYGON ((464756.6 2442156,... & NA\\\\\n\t2660 & 84 & kauai & POLYGON ((465140.6 2442156,... & NA\\\\\n\t2661 & 85 & kauai & POLYGON ((465524.6 2442156,... & NA\\\\\n\t2662 & 86 & kauai & POLYGON ((465908.6 2442156,... & NA\\\\\n\t2663 & 87 & kauai & POLYGON ((466292.6 2442156,... & NA\\\\\n\t2664 & 88 & kauai & POLYGON ((466676.6 2442156,... & NA\\\\\n\t2665 & 89 & kauai & POLYGON ((467060.6 2442156,... & NA\\\\\n\t2666 & 90 & kauai & POLYGON ((467444.6 2442156,... & NA\\\\\n\\end{tabular}\n",
            "text/plain": [
              "     rowid island x                              location_name\n",
              "1     1    kauai  POLYGON ((467278.6 2447486,... NA           \n",
              "2     2    kauai  POLYGON ((467662.6 2447486,... NA           \n",
              "3     3    kauai  POLYGON ((468046.6 2447486,... NA           \n",
              "4     4    kauai  POLYGON ((468430.5 2447486,... NA           \n",
              "5     5    kauai  POLYGON ((468814.5 2447486,... NA           \n",
              "6     6    kauai  POLYGON ((469198.5 2447486,... NA           \n",
              "7     7    kauai  POLYGON ((469582.5 2447486,... NA           \n",
              "8     8    kauai  POLYGON ((469966.5 2447486,... NA           \n",
              "9     9    kauai  POLYGON ((467278.6 2447870,... NA           \n",
              "10   10    kauai  POLYGON ((467662.6 2447870,... NA           \n",
              "11   11    kauai  POLYGON ((468046.5 2447870,... NA           \n",
              "12   12    kauai  POLYGON ((468430.5 2447870,... NA           \n",
              "13   13    kauai  POLYGON ((468814.5 2447870,... NA           \n",
              "14   14    kauai  POLYGON ((469198.5 2447870,... NA           \n",
              "15   15    kauai  POLYGON ((469582.5 2447870,... NA           \n",
              "16   16    kauai  POLYGON ((469966.5 2447870,... NA           \n",
              "17   17    kauai  POLYGON ((467278.6 2448254,... NA           \n",
              "18   18    kauai  POLYGON ((467662.6 2448254,... NA           \n",
              "19   19    kauai  POLYGON ((468046.5 2448254,... NA           \n",
              "20   20    kauai  POLYGON ((468430.5 2448254,... NA           \n",
              "21   21    kauai  POLYGON ((468814.5 2448254,... NA           \n",
              "22   22    kauai  POLYGON ((469198.5 2448254,... NA           \n",
              "23   23    kauai  POLYGON ((469582.5 2448254,... NA           \n",
              "24   24    kauai  POLYGON ((469966.5 2448254,... NA           \n",
              "25   25    kauai  POLYGON ((467278.6 2448638,... NA           \n",
              "26   26    kauai  POLYGON ((467662.5 2448638,... NA           \n",
              "27   27    kauai  POLYGON ((468046.5 2448638,... NA           \n",
              "28   28    kauai  POLYGON ((468430.5 2448638,... NA           \n",
              "29   29    kauai  POLYGON ((468814.5 2448638,... NA           \n",
              "30   30    kauai  POLYGON ((469198.5 2448638,... NA           \n",
              "⋮    ⋮     ⋮      ⋮                              ⋮            \n",
              "2637 61    kauai  POLYGON ((463988.6 2441388,... NA           \n",
              "2638 62    kauai  POLYGON ((464372.6 2441388,... NA           \n",
              "2639 63    kauai  POLYGON ((464756.6 2441388,... NA           \n",
              "2640 64    kauai  POLYGON ((465140.6 2441388,... NA           \n",
              "2641 65    kauai  POLYGON ((465524.6 2441388,... NA           \n",
              "2642 66    kauai  POLYGON ((465908.6 2441388,... NA           \n",
              "2643 67    kauai  POLYGON ((466292.6 2441388,... NA           \n",
              "2644 68    kauai  POLYGON ((466676.6 2441388,... NA           \n",
              "2645 69    kauai  POLYGON ((467060.6 2441388,... NA           \n",
              "2646 70    kauai  POLYGON ((467444.6 2441388,... NA           \n",
              "2647 71    kauai  POLYGON ((463988.6 2441772,... NA           \n",
              "2648 72    kauai  POLYGON ((464372.6 2441772,... NA           \n",
              "2649 73    kauai  POLYGON ((464756.6 2441772,... NA           \n",
              "2650 74    kauai  POLYGON ((465140.6 2441772,... NA           \n",
              "2651 75    kauai  POLYGON ((465524.6 2441772,... NA           \n",
              "2652 76    kauai  POLYGON ((465908.6 2441772,... NA           \n",
              "2653 77    kauai  POLYGON ((466292.6 2441772,... NA           \n",
              "2654 78    kauai  POLYGON ((466676.6 2441772,... NA           \n",
              "2655 79    kauai  POLYGON ((467060.6 2441772,... NA           \n",
              "2656 80    kauai  POLYGON ((467444.6 2441772,... NA           \n",
              "2657 81    kauai  POLYGON ((463988.6 2442156,... NA           \n",
              "2658 82    kauai  POLYGON ((464372.6 2442156,... NA           \n",
              "2659 83    kauai  POLYGON ((464756.6 2442156,... NA           \n",
              "2660 84    kauai  POLYGON ((465140.6 2442156,... NA           \n",
              "2661 85    kauai  POLYGON ((465524.6 2442156,... NA           \n",
              "2662 86    kauai  POLYGON ((465908.6 2442156,... NA           \n",
              "2663 87    kauai  POLYGON ((466292.6 2442156,... NA           \n",
              "2664 88    kauai  POLYGON ((466676.6 2442156,... NA           \n",
              "2665 89    kauai  POLYGON ((467060.6 2442156,... NA           \n",
              "2666 90    kauai  POLYGON ((467444.6 2442156,... NA           "
            ]
          },
          "metadata": {}
        }
      ]
    },
    {
      "cell_type": "code",
      "source": [
        "match_layers <- st_intersects(wetland_outline_transform$geom, test_05_wetlandsFishnet_sf_layer$x)"
      ],
      "metadata": {
        "id": "mt764N4AFUbe"
      },
      "execution_count": 120,
      "outputs": []
    },
    {
      "cell_type": "code",
      "source": [],
      "metadata": {
        "colab": {
          "base_uri": "https://localhost:8080/",
          "height": 34
        },
        "id": "cyOibkQnGy0h",
        "outputId": "11a08cea-e482-4687-c636-91bdec9adda8"
      },
      "execution_count": 158,
      "outputs": [
        {
          "output_type": "display_data",
          "data": {
            "text/html": [
              "16"
            ],
            "text/markdown": "16",
            "text/latex": "16",
            "text/plain": [
              "[1] 16"
            ]
          },
          "metadata": {}
        }
      ]
    },
    {
      "cell_type": "code",
      "source": [
        "match_layers"
      ],
      "metadata": {
        "colab": {
          "base_uri": "https://localhost:8080/",
          "height": 1000
        },
        "id": "NkdU7PYMHuUa",
        "outputId": "af619cab-d2ee-4385-ece3-52999dcfc869"
      },
      "execution_count": 127,
      "outputs": [
        {
          "output_type": "display_data",
          "data": {
            "text/html": [
              "<ol>\n",
              "\t<li><style>\n",
              ".list-inline {list-style: none; margin:0; padding: 0}\n",
              ".list-inline>li {display: inline-block}\n",
              ".list-inline>li:not(:last-child)::after {content: \"\\00b7\"; padding: 0 .5ex}\n",
              "</style>\n",
              "<ol class=list-inline><li>1</li><li>2</li><li>3</li><li>4</li><li>5</li><li>6</li><li>7</li><li>8</li><li>9</li><li>10</li><li>11</li><li>12</li><li>13</li><li>14</li><li>15</li><li>16</li><li>17</li><li>18</li><li>19</li><li>20</li><li>21</li><li>22</li><li>23</li><li>24</li><li>25</li><li>26</li><li>27</li><li>28</li><li>29</li><li>30</li><li>31</li><li>32</li><li>33</li><li>34</li><li>35</li><li>36</li><li>37</li><li>38</li><li>39</li><li>40</li><li>41</li><li>42</li><li>43</li><li>44</li><li>45</li><li>46</li><li>47</li><li>48</li></ol>\n",
              "</li>\n",
              "\t<li><style>\n",
              ".list-inline {list-style: none; margin:0; padding: 0}\n",
              ".list-inline>li {display: inline-block}\n",
              ".list-inline>li:not(:last-child)::after {content: \"\\00b7\"; padding: 0 .5ex}\n",
              "</style>\n",
              "<ol class=list-inline><li>49</li><li>50</li><li>51</li><li>52</li><li>53</li><li>54</li><li>55</li><li>56</li><li>57</li><li>58</li><li>59</li><li>60</li><li>61</li><li>62</li><li>63</li><li>64</li><li>65</li><li>66</li><li>67</li><li>68</li><li>69</li><li>70</li><li>71</li><li>72</li><li>73</li><li>74</li><li>75</li><li>76</li><li>77</li><li>78</li><li>79</li><li>80</li><li>81</li><li>82</li><li>83</li><li>84</li><li>85</li><li>86</li><li>87</li><li>88</li><li>89</li><li>90</li><li>91</li><li>92</li><li>93</li><li>94</li><li>95</li><li>96</li><li>97</li><li>98</li><li>99</li><li>100</li><li>101</li><li>102</li><li>103</li><li>104</li><li>105</li><li>106</li><li>107</li><li>108</li><li>109</li><li>110</li><li>111</li><li>112</li><li>113</li><li>114</li><li>115</li><li>116</li><li>117</li><li>118</li><li>119</li><li>120</li><li>121</li><li>122</li><li>123</li><li>124</li><li>125</li><li>126</li><li>127</li><li>128</li><li>129</li><li>130</li><li>131</li><li>132</li><li>133</li><li>134</li><li>135</li><li>136</li><li>137</li><li>138</li><li>139</li><li>140</li><li>141</li><li>142</li><li>143</li><li>144</li><li>145</li><li>146</li><li>147</li><li>148</li><li>149</li><li>150</li><li>151</li><li>152</li><li>153</li><li>154</li><li>155</li><li>156</li><li>157</li><li>158</li><li>159</li><li>160</li><li>161</li><li>162</li><li>163</li><li>164</li><li>165</li><li>166</li><li>167</li><li>168</li><li>169</li><li>170</li><li>171</li><li>172</li><li>173</li><li>174</li><li>175</li><li>176</li><li>177</li><li>178</li><li>179</li><li>180</li><li>181</li><li>182</li><li>183</li><li>184</li><li>185</li><li>186</li><li>187</li><li>188</li><li>189</li><li>190</li><li>191</li><li>192</li><li>193</li><li>194</li><li>195</li><li>196</li><li>197</li><li>198</li><li>199</li><li>200</li><li>201</li><li>202</li><li>203</li><li>204</li><li>205</li><li>206</li><li>207</li><li>208</li><li>209</li><li>210</li><li>211</li><li>212</li><li>213</li><li>214</li><li>215</li><li>216</li><li>217</li><li>218</li><li>219</li><li>220</li><li>221</li><li>222</li><li>223</li><li>224</li><li>225</li><li>226</li><li>227</li><li>228</li><li>229</li><li>230</li><li>231</li><li>232</li><li>233</li><li>234</li><li>235</li><li>236</li><li>237</li><li>238</li><li>239</li><li>240</li><li>241</li><li>242</li><li>243</li><li>244</li><li>245</li><li>246</li><li>247</li><li>248</li><li>249</li><li>250</li><li>251</li><li>252</li><li>253</li><li>254</li><li>255</li><li>256</li><li>257</li><li>258</li><li>259</li><li>260</li><li>261</li><li>262</li><li>263</li><li>264</li><li>265</li><li>266</li><li>267</li><li>268</li><li>269</li><li>270</li><li>271</li><li>272</li><li>273</li><li>274</li><li>275</li><li>276</li><li>277</li><li>278</li><li>279</li><li>280</li><li>281</li><li>282</li><li>283</li><li>284</li><li>285</li><li>286</li><li>287</li><li>288</li><li>289</li><li>290</li><li>291</li><li>292</li><li>293</li><li>294</li><li>295</li><li>296</li><li>297</li><li>298</li><li>299</li><li>300</li><li>301</li><li>302</li><li>303</li><li>304</li><li>305</li><li>306</li><li>307</li><li>308</li><li>309</li><li>310</li><li>311</li><li>312</li><li>313</li><li>314</li><li>315</li><li>316</li><li>317</li><li>318</li><li>319</li><li>320</li><li>321</li><li>322</li><li>323</li><li>324</li><li>325</li><li>326</li><li>327</li><li>328</li><li>329</li><li>330</li><li>331</li><li>332</li><li>333</li><li>334</li><li>335</li><li>336</li><li>337</li><li>338</li><li>339</li><li>340</li><li>341</li><li>342</li><li>343</li><li>344</li><li>345</li><li>346</li><li>347</li><li>348</li></ol>\n",
              "</li>\n",
              "\t<li><style>\n",
              ".list-inline {list-style: none; margin:0; padding: 0}\n",
              ".list-inline>li {display: inline-block}\n",
              ".list-inline>li:not(:last-child)::after {content: \"\\00b7\"; padding: 0 .5ex}\n",
              "</style>\n",
              "<ol class=list-inline><li>349</li><li>350</li><li>351</li><li>352</li><li>353</li><li>354</li><li>355</li><li>356</li><li>357</li><li>358</li><li>359</li><li>360</li><li>361</li><li>362</li><li>363</li><li>364</li><li>365</li><li>366</li><li>367</li><li>368</li><li>369</li><li>370</li><li>371</li><li>372</li><li>373</li><li>374</li><li>375</li><li>376</li><li>377</li><li>378</li><li>379</li><li>380</li><li>381</li><li>382</li><li>383</li><li>384</li><li>385</li><li>386</li><li>387</li><li>388</li><li>389</li><li>390</li><li>391</li><li>392</li><li>393</li><li>394</li><li>395</li><li>396</li><li>397</li><li>398</li><li>399</li><li>400</li><li>401</li><li>402</li><li>403</li><li>404</li><li>405</li><li>406</li><li>407</li><li>408</li><li>409</li><li>410</li><li>411</li><li>412</li><li>413</li><li>414</li><li>415</li><li>416</li><li>417</li><li>418</li><li>419</li><li>420</li><li>421</li><li>422</li><li>423</li><li>424</li><li>425</li><li>426</li><li>427</li><li>428</li><li>429</li><li>430</li><li>431</li><li>432</li><li>433</li><li>434</li><li>435</li><li>436</li><li>437</li><li>438</li><li>439</li><li>440</li><li>441</li><li>442</li><li>443</li><li>444</li><li>445</li><li>446</li><li>447</li><li>448</li><li>449</li><li>450</li><li>451</li><li>452</li><li>453</li><li>454</li><li>455</li><li>456</li><li>457</li><li>458</li><li>459</li><li>460</li><li>461</li><li>462</li><li>463</li><li>464</li><li>465</li><li>466</li><li>467</li><li>468</li><li>469</li><li>470</li><li>471</li><li>472</li><li>473</li><li>474</li><li>475</li><li>476</li><li>477</li><li>478</li><li>479</li><li>480</li><li>481</li><li>482</li><li>483</li><li>484</li><li>485</li><li>486</li><li>487</li><li>488</li><li>489</li><li>490</li><li>491</li><li>492</li><li>493</li><li>494</li><li>495</li><li>496</li><li>497</li><li>498</li><li>499</li><li>500</li><li>501</li><li>502</li><li>503</li><li>504</li><li>505</li><li>506</li><li>507</li><li>508</li><li>509</li><li>510</li><li>511</li><li>512</li><li>513</li><li>514</li><li>515</li><li>516</li><li>517</li><li>518</li><li>519</li><li>520</li><li>521</li><li>522</li><li>523</li><li>524</li><li>525</li><li>526</li><li>527</li><li>528</li><li>529</li><li>530</li><li>531</li><li>532</li><li>533</li><li>534</li><li>535</li><li>536</li><li>537</li><li>538</li><li>539</li><li>540</li><li>541</li><li>542</li><li>543</li><li>544</li><li>545</li><li>546</li><li>547</li><li>548</li><li>549</li><li>550</li><li>551</li><li>552</li><li>553</li><li>554</li><li>555</li><li>556</li><li>557</li><li>558</li><li>559</li><li>560</li><li>561</li><li>562</li><li>563</li><li>564</li><li>565</li><li>566</li><li>567</li><li>568</li><li>569</li><li>570</li><li>571</li><li>572</li><li>573</li><li>574</li><li>575</li><li>576</li><li>577</li><li>578</li><li>579</li><li>580</li><li>581</li><li>582</li><li>583</li><li>584</li><li>585</li><li>586</li><li>587</li><li>588</li><li>589</li><li>590</li><li>591</li><li>592</li><li>593</li><li>594</li><li>595</li><li>596</li><li>597</li><li>598</li><li>599</li><li>600</li><li>601</li><li>602</li><li>603</li><li>604</li><li>605</li><li>606</li><li>607</li><li>608</li><li>609</li><li>610</li><li>611</li><li>612</li><li>613</li><li>614</li><li>615</li><li>616</li><li>617</li><li>618</li><li>619</li><li>620</li><li>621</li><li>622</li><li>623</li><li>624</li><li>625</li><li>626</li><li>627</li><li>628</li><li>629</li><li>630</li><li>631</li><li>632</li><li>633</li></ol>\n",
              "</li>\n",
              "\t<li><style>\n",
              ".list-inline {list-style: none; margin:0; padding: 0}\n",
              ".list-inline>li {display: inline-block}\n",
              ".list-inline>li:not(:last-child)::after {content: \"\\00b7\"; padding: 0 .5ex}\n",
              "</style>\n",
              "<ol class=list-inline><li>634</li><li>635</li><li>636</li><li>637</li><li>638</li><li>639</li><li>640</li><li>641</li><li>642</li><li>643</li><li>644</li><li>645</li><li>646</li><li>647</li><li>648</li><li>649</li><li>650</li><li>651</li><li>652</li><li>653</li><li>654</li><li>655</li><li>656</li><li>657</li><li>658</li><li>659</li><li>660</li><li>661</li><li>662</li><li>663</li><li>664</li><li>665</li><li>666</li><li>667</li><li>668</li><li>669</li><li>670</li><li>671</li><li>672</li><li>673</li><li>674</li><li>675</li><li>676</li><li>677</li><li>678</li><li>679</li><li>680</li><li>681</li><li>682</li><li>683</li><li>684</li><li>685</li><li>686</li><li>687</li><li>688</li><li>689</li><li>690</li><li>691</li><li>692</li><li>693</li><li>694</li><li>695</li><li>696</li><li>697</li><li>698</li><li>699</li><li>700</li><li>701</li><li>702</li><li>703</li><li>704</li><li>705</li><li>706</li><li>707</li><li>708</li><li>709</li><li>710</li></ol>\n",
              "</li>\n",
              "\t<li><style>\n",
              ".list-inline {list-style: none; margin:0; padding: 0}\n",
              ".list-inline>li {display: inline-block}\n",
              ".list-inline>li:not(:last-child)::after {content: \"\\00b7\"; padding: 0 .5ex}\n",
              "</style>\n",
              "<ol class=list-inline><li>711</li><li>712</li><li>713</li><li>714</li><li>715</li><li>716</li><li>717</li><li>718</li><li>719</li><li>720</li><li>721</li><li>722</li><li>723</li><li>724</li><li>725</li><li>726</li><li>727</li><li>728</li><li>729</li><li>730</li><li>731</li><li>732</li><li>733</li><li>734</li><li>735</li><li>736</li><li>737</li><li>738</li><li>739</li><li>740</li><li>741</li><li>742</li><li>743</li><li>744</li><li>745</li><li>746</li><li>747</li><li>748</li><li>749</li><li>750</li><li>751</li><li>752</li><li>753</li><li>754</li><li>755</li><li>756</li><li>757</li><li>758</li><li>759</li><li>760</li><li>761</li><li>762</li><li>763</li><li>764</li><li>765</li><li>766</li><li>767</li><li>768</li><li>769</li><li>770</li><li>771</li><li>772</li><li>773</li><li>774</li><li>775</li><li>776</li><li>777</li><li>778</li><li>779</li><li>780</li><li>781</li><li>782</li><li>783</li><li>784</li><li>785</li><li>786</li><li>787</li><li>788</li><li>789</li><li>790</li><li>791</li><li>792</li><li>793</li><li>794</li><li>795</li><li>796</li><li>797</li><li>798</li><li>799</li><li>800</li><li>801</li><li>802</li><li>803</li><li>804</li><li>805</li><li>806</li><li>807</li><li>808</li><li>809</li><li>810</li><li>811</li><li>812</li><li>813</li><li>814</li><li>815</li><li>816</li><li>817</li><li>818</li><li>819</li><li>820</li><li>821</li><li>822</li><li>823</li><li>824</li><li>825</li><li>826</li><li>827</li><li>828</li><li>829</li><li>830</li><li>831</li><li>832</li><li>833</li><li>834</li><li>835</li><li>836</li><li>837</li><li>838</li><li>839</li><li>840</li><li>841</li><li>842</li><li>843</li><li>844</li><li>845</li><li>846</li><li>847</li><li>848</li><li>849</li><li>850</li><li>851</li><li>852</li><li>853</li><li>854</li><li>855</li><li>856</li><li>857</li><li>858</li><li>859</li><li>860</li><li>861</li><li>862</li><li>863</li><li>864</li><li>865</li><li>866</li><li>867</li><li>868</li><li>869</li><li>870</li><li>871</li><li>872</li><li>873</li><li>874</li><li>875</li><li>876</li><li>877</li><li>878</li><li>879</li><li>880</li><li>881</li><li>882</li><li>883</li><li>884</li><li>885</li><li>886</li><li>887</li><li>888</li><li>889</li><li>890</li><li>891</li><li>892</li><li>893</li><li>894</li><li>895</li><li>896</li><li>897</li><li>898</li><li>899</li><li>900</li><li>901</li><li>902</li><li>903</li><li>904</li><li>905</li><li>906</li><li>907</li><li>908</li><li>909</li><li>910</li><li>911</li><li>912</li><li>913</li><li>914</li><li>915</li><li>916</li><li>917</li><li>918</li><li>919</li><li>920</li><li>921</li><li>922</li><li>923</li><li>924</li><li>925</li><li>926</li></ol>\n",
              "</li>\n",
              "\t<li><style>\n",
              ".list-inline {list-style: none; margin:0; padding: 0}\n",
              ".list-inline>li {display: inline-block}\n",
              ".list-inline>li:not(:last-child)::after {content: \"\\00b7\"; padding: 0 .5ex}\n",
              "</style>\n",
              "<ol class=list-inline><li>927</li><li>928</li><li>929</li><li>930</li><li>931</li><li>932</li><li>933</li><li>934</li><li>935</li><li>936</li><li>937</li><li>938</li><li>939</li><li>940</li><li>941</li><li>942</li><li>943</li><li>944</li><li>945</li><li>946</li><li>947</li><li>948</li><li>949</li><li>950</li><li>951</li><li>952</li><li>953</li><li>954</li><li>955</li><li>956</li><li>957</li><li>958</li><li>959</li><li>960</li><li>961</li><li>962</li><li>963</li><li>964</li><li>965</li><li>966</li><li>967</li><li>968</li><li>969</li><li>970</li><li>971</li><li>972</li><li>973</li><li>974</li><li>975</li><li>976</li><li>977</li><li>978</li><li>979</li><li>980</li><li>981</li><li>982</li><li>983</li><li>984</li><li>985</li><li>986</li><li>987</li><li>988</li><li>989</li><li>990</li><li>991</li><li>992</li><li>993</li><li>994</li><li>995</li><li>996</li><li>997</li><li>998</li><li>999</li><li>1000</li><li>1001</li><li>1002</li><li>1003</li><li>1004</li><li>1005</li><li>1006</li><li>1289</li><li>1300</li><li>1311</li></ol>\n",
              "</li>\n",
              "\t<li><style>\n",
              ".list-inline {list-style: none; margin:0; padding: 0}\n",
              ".list-inline>li {display: inline-block}\n",
              ".list-inline>li:not(:last-child)::after {content: \"\\00b7\"; padding: 0 .5ex}\n",
              "</style>\n",
              "<ol class=list-inline><li>1007</li><li>1008</li><li>1009</li><li>1010</li><li>1011</li><li>1012</li><li>1013</li><li>1014</li><li>1015</li><li>1016</li><li>1017</li><li>1018</li><li>1019</li><li>1020</li><li>1021</li><li>1022</li><li>1023</li><li>1024</li><li>1025</li><li>1026</li><li>1027</li><li>1028</li><li>1029</li><li>1030</li><li>1031</li><li>1032</li><li>1033</li><li>1034</li><li>1035</li><li>1036</li><li>1037</li><li>1038</li><li>1039</li><li>1040</li><li>1041</li><li>1042</li><li>1043</li><li>1044</li><li>1045</li><li>1046</li><li>1047</li><li>1048</li><li>1049</li><li>1050</li><li>1051</li><li>1052</li><li>1053</li><li>1054</li><li>1055</li><li>1056</li><li>1057</li><li>1058</li><li>1059</li><li>1060</li><li>1061</li><li>1062</li><li>1063</li><li>1064</li><li>1065</li><li>1066</li><li>1067</li><li>1068</li><li>1069</li><li>1070</li><li>1071</li><li>1072</li><li>1073</li><li>1074</li><li>1075</li><li>1076</li><li>1077</li><li>1078</li><li>1079</li><li>1080</li><li>1081</li><li>1082</li><li>1083</li><li>1084</li><li>1085</li><li>1086</li><li>1087</li><li>1088</li><li>1089</li><li>1090</li><li>1091</li><li>1092</li><li>1093</li><li>1094</li><li>1095</li><li>1096</li><li>1097</li><li>1098</li><li>1099</li><li>1100</li><li>1101</li><li>1102</li><li>1103</li><li>1104</li><li>1105</li><li>1106</li><li>1107</li><li>1108</li><li>1109</li><li>1110</li><li>1111</li><li>1112</li><li>1113</li><li>1114</li><li>1115</li><li>1116</li><li>1117</li><li>1118</li><li>1119</li><li>1120</li><li>1121</li><li>1122</li><li>1123</li><li>1124</li><li>1125</li><li>1126</li><li>1127</li><li>1128</li><li>1129</li><li>1130</li><li>1131</li><li>1132</li><li>1133</li><li>1134</li><li>1135</li><li>1136</li><li>1137</li><li>1138</li><li>1139</li><li>1140</li><li>1141</li><li>1142</li><li>1143</li><li>1144</li><li>1145</li><li>1146</li><li>1147</li><li>1148</li><li>1149</li><li>1150</li><li>1151</li><li>1152</li><li>1153</li><li>1154</li><li>1155</li><li>1156</li><li>1157</li><li>1158</li><li>1159</li><li>1160</li><li>1161</li><li>1162</li><li>1163</li><li>1164</li><li>1165</li><li>1166</li><li>1167</li><li>1168</li><li>1169</li><li>1170</li><li>1171</li><li>1172</li><li>1173</li><li>1174</li><li>1175</li><li>1176</li><li>1177</li><li>1178</li><li>1179</li><li>1180</li><li>1181</li><li>1182</li><li>1183</li><li>1184</li><li>1185</li><li>1186</li><li>1187</li><li>1188</li><li>1189</li><li>1190</li><li>1191</li><li>1192</li><li>1193</li><li>1194</li><li>1195</li><li>1196</li><li>1197</li><li>1198</li><li>1199</li><li>1200</li><li>1201</li><li>1202</li><li>1203</li><li>1204</li><li>1205</li><li>1206</li><li>1207</li><li>1208</li><li>1209</li><li>1210</li><li>1211</li><li>1212</li><li>1213</li><li>1214</li><li>1215</li><li>1216</li><li>1217</li><li>1218</li><li>1219</li><li>1220</li><li>1221</li><li>1222</li><li>1223</li><li>1224</li><li>1225</li><li>1226</li><li>1227</li><li>1228</li><li>1229</li><li>1230</li><li>1231</li><li>1232</li><li>1233</li><li>1234</li><li>1235</li><li>1236</li><li>1237</li><li>1238</li><li>1239</li><li>1240</li><li>1241</li><li>1242</li><li>1243</li><li>1244</li><li>1245</li><li>1246</li><li>1247</li><li>1248</li><li>1249</li><li>1250</li><li>1251</li><li>1252</li><li>1253</li><li>1254</li><li>1255</li><li>1256</li><li>1257</li><li>1258</li><li>1259</li><li>1260</li><li>1261</li><li>1262</li><li>1263</li><li>1264</li><li>1265</li><li>1266</li></ol>\n",
              "</li>\n",
              "\t<li><style>\n",
              ".list-inline {list-style: none; margin:0; padding: 0}\n",
              ".list-inline>li {display: inline-block}\n",
              ".list-inline>li:not(:last-child)::after {content: \"\\00b7\"; padding: 0 .5ex}\n",
              "</style>\n",
              "<ol class=list-inline><li>942</li><li>958</li><li>974</li><li>1267</li><li>1268</li><li>1269</li><li>1270</li><li>1271</li><li>1272</li><li>1273</li><li>1274</li><li>1275</li><li>1276</li><li>1277</li><li>1278</li><li>1279</li><li>1280</li><li>1281</li><li>1282</li><li>1283</li><li>1284</li><li>1285</li><li>1286</li><li>1287</li><li>1288</li><li>1289</li><li>1290</li><li>1291</li><li>1292</li><li>1293</li><li>1294</li><li>1295</li><li>1296</li><li>1297</li><li>1298</li><li>1299</li><li>1300</li><li>1301</li><li>1302</li><li>1303</li><li>1304</li><li>1305</li><li>1306</li><li>1307</li><li>1308</li><li>1309</li><li>1310</li><li>1311</li><li>1312</li><li>1313</li><li>1314</li><li>1315</li><li>1316</li><li>1317</li><li>1318</li><li>1319</li><li>1320</li><li>1321</li></ol>\n",
              "</li>\n",
              "\t<li><style>\n",
              ".list-inline {list-style: none; margin:0; padding: 0}\n",
              ".list-inline>li {display: inline-block}\n",
              ".list-inline>li:not(:last-child)::after {content: \"\\00b7\"; padding: 0 .5ex}\n",
              "</style>\n",
              "<ol class=list-inline><li>1322</li><li>1323</li><li>1324</li><li>1325</li><li>1326</li><li>1327</li><li>1328</li><li>1329</li><li>1330</li><li>1331</li><li>1332</li><li>1333</li><li>1334</li><li>1335</li><li>1336</li><li>1337</li><li>1338</li><li>1339</li><li>1340</li><li>1341</li><li>1342</li><li>1343</li><li>1344</li><li>1345</li><li>1346</li><li>1347</li><li>1348</li><li>1349</li><li>1350</li><li>1351</li><li>1352</li><li>1353</li><li>1354</li><li>1355</li><li>1356</li><li>1357</li><li>1358</li><li>1359</li><li>1360</li><li>1361</li><li>1362</li><li>1363</li></ol>\n",
              "</li>\n",
              "\t<li><style>\n",
              ".list-inline {list-style: none; margin:0; padding: 0}\n",
              ".list-inline>li {display: inline-block}\n",
              ".list-inline>li:not(:last-child)::after {content: \"\\00b7\"; padding: 0 .5ex}\n",
              "</style>\n",
              "<ol class=list-inline><li>1364</li><li>1365</li><li>1366</li><li>1367</li><li>1368</li><li>1369</li><li>1370</li><li>1371</li><li>1372</li><li>1373</li><li>1374</li><li>1375</li><li>1376</li><li>1377</li><li>1378</li><li>1379</li><li>1380</li><li>1381</li><li>1382</li><li>1383</li><li>1384</li><li>1385</li><li>1386</li><li>1387</li><li>1388</li><li>1389</li><li>1390</li><li>1391</li><li>1392</li><li>1393</li><li>1394</li><li>1395</li><li>1396</li><li>1397</li><li>1398</li><li>1399</li><li>1400</li><li>1401</li><li>1402</li><li>1403</li><li>1404</li><li>1405</li><li>1406</li><li>1407</li><li>1408</li><li>1409</li><li>1410</li><li>1411</li><li>1412</li><li>1413</li><li>1414</li><li>1415</li><li>1416</li><li>1417</li><li>1418</li><li>1419</li><li>1420</li><li>1421</li><li>1422</li><li>1423</li><li>1424</li><li>1425</li><li>1426</li><li>1427</li><li>1428</li><li>1429</li><li>1430</li><li>1431</li><li>1432</li><li>1433</li><li>1434</li><li>1435</li><li>1436</li><li>1437</li><li>1438</li><li>1439</li><li>1440</li><li>1441</li><li>1442</li><li>1443</li><li>1444</li><li>1445</li><li>1446</li><li>1447</li><li>1448</li><li>1449</li><li>1450</li><li>1451</li><li>1452</li><li>1453</li><li>1454</li><li>1455</li><li>1456</li><li>1457</li><li>1458</li><li>1459</li><li>1460</li><li>1461</li><li>1462</li><li>1463</li><li>1464</li><li>1465</li><li>1466</li><li>1467</li><li>1468</li><li>1469</li><li>1470</li><li>1471</li><li>1472</li><li>1473</li><li>1474</li><li>1475</li><li>1476</li><li>1477</li><li>1478</li><li>1479</li><li>1480</li><li>1481</li><li>1482</li><li>1483</li><li>1484</li><li>1485</li><li>1486</li><li>1487</li><li>1488</li><li>1489</li><li>1490</li><li>1491</li><li>1492</li><li>1493</li><li>1494</li><li>1495</li><li>1496</li><li>1497</li><li>1498</li><li>1499</li><li>1500</li><li>1501</li><li>1502</li><li>1503</li><li>1504</li><li>1505</li><li>1506</li><li>1507</li><li>1508</li><li>1509</li><li>1510</li><li>1511</li><li>1512</li><li>1513</li><li>1514</li><li>1515</li><li>1516</li><li>1517</li><li>1518</li><li>1519</li><li>1520</li><li>1521</li><li>1522</li><li>1523</li><li>1524</li><li>1525</li><li>1526</li><li>1527</li><li>1528</li><li>1529</li><li>1530</li><li>1531</li><li>1532</li><li>1533</li><li>1534</li><li>1535</li><li>1536</li><li>1537</li><li>1538</li><li>1539</li><li>1540</li><li>1541</li><li>1542</li><li>1543</li><li>1544</li><li>1545</li><li>1546</li><li>1547</li><li>1548</li><li>1549</li><li>1550</li><li>1551</li><li>1552</li><li>1553</li><li>1554</li><li>1555</li><li>1556</li><li>1557</li><li>1558</li><li>1559</li><li>1560</li><li>1561</li><li>1562</li><li>1563</li><li>1564</li><li>1565</li><li>1566</li><li>1567</li><li>1568</li><li>1569</li><li>1570</li><li>1571</li><li>1572</li><li>1573</li><li>1574</li><li>1575</li><li>1576</li><li>1577</li><li>1578</li><li>1579</li><li>1580</li><li>1581</li><li>1582</li><li>1583</li><li>1584</li><li>1585</li><li>1586</li><li>1587</li><li>1588</li><li>1589</li><li>1590</li><li>1591</li><li>1592</li><li>1593</li><li>1594</li><li>1595</li><li>1596</li><li>1597</li><li>1598</li><li>1599</li><li>1600</li><li>1601</li><li>1602</li><li>1603</li><li>1604</li><li>1605</li><li>1606</li><li>1607</li><li>1608</li><li>1609</li><li>1610</li><li>1611</li><li>1612</li><li>1613</li><li>1614</li><li>1615</li><li>1616</li><li>1617</li><li>1618</li><li>1619</li><li>1620</li><li>1621</li><li>1622</li><li>1623</li><li>1624</li><li>1625</li><li>1626</li><li>1627</li><li>1628</li><li>1629</li><li>1630</li><li>1631</li><li>1632</li><li>1633</li><li>1634</li><li>1635</li><li>1636</li><li>1637</li><li>1638</li><li>1639</li><li>1640</li><li>1641</li><li>1642</li><li>1643</li><li>1644</li><li>1645</li><li>1646</li><li>1647</li><li>1648</li><li>1649</li><li>1650</li><li>1651</li></ol>\n",
              "</li>\n",
              "\t<li><style>\n",
              ".list-inline {list-style: none; margin:0; padding: 0}\n",
              ".list-inline>li {display: inline-block}\n",
              ".list-inline>li:not(:last-child)::after {content: \"\\00b7\"; padding: 0 .5ex}\n",
              "</style>\n",
              "<ol class=list-inline><li>1652</li><li>1653</li><li>1654</li><li>1655</li><li>1656</li><li>1657</li><li>1658</li><li>1659</li><li>1660</li><li>1661</li><li>1662</li><li>1663</li><li>1664</li><li>1665</li><li>1666</li><li>1667</li><li>1668</li><li>1669</li><li>1670</li><li>1671</li><li>1672</li><li>1673</li><li>1674</li><li>1675</li><li>1676</li><li>1677</li><li>1678</li><li>1679</li><li>1680</li><li>1681</li><li>1682</li><li>1683</li><li>1684</li><li>1685</li><li>1686</li><li>1687</li><li>1688</li><li>1689</li><li>1690</li><li>1691</li><li>1692</li><li>1693</li><li>1694</li><li>1695</li><li>1696</li><li>1697</li><li>1698</li><li>1699</li><li>1700</li><li>1701</li><li>1702</li><li>1703</li><li>1704</li><li>1705</li><li>1706</li><li>1707</li><li>1708</li><li>1709</li><li>1710</li><li>1711</li><li>1712</li><li>1713</li><li>1714</li><li>1715</li><li>1716</li><li>1717</li><li>1718</li><li>1719</li><li>1720</li><li>1721</li><li>1722</li><li>1723</li><li>1724</li><li>1725</li><li>1726</li><li>1727</li><li>1728</li><li>1729</li><li>1730</li><li>1731</li><li>1732</li><li>1733</li><li>1734</li><li>1735</li><li>1736</li><li>1737</li><li>1738</li><li>1739</li><li>1740</li><li>1741</li><li>1742</li><li>1743</li><li>1744</li><li>1745</li><li>1746</li><li>1747</li><li>1748</li><li>1749</li><li>1750</li><li>1751</li><li>1752</li><li>1753</li><li>1754</li><li>1755</li><li>1756</li><li>1757</li><li>1758</li><li>1759</li><li>1760</li><li>1761</li><li>1762</li><li>1763</li><li>1764</li><li>1765</li><li>1766</li><li>1767</li><li>1768</li><li>1769</li><li>1770</li><li>1771</li></ol>\n",
              "</li>\n",
              "\t<li><style>\n",
              ".list-inline {list-style: none; margin:0; padding: 0}\n",
              ".list-inline>li {display: inline-block}\n",
              ".list-inline>li:not(:last-child)::after {content: \"\\00b7\"; padding: 0 .5ex}\n",
              "</style>\n",
              "<ol class=list-inline><li>1772</li><li>1773</li><li>1774</li><li>1775</li><li>1776</li><li>1777</li><li>1778</li><li>1779</li><li>1780</li><li>1781</li><li>1782</li><li>1783</li><li>1784</li><li>1785</li><li>1786</li><li>1787</li><li>1788</li><li>1789</li><li>1790</li><li>1791</li><li>1792</li><li>1793</li><li>1794</li><li>1795</li><li>1796</li><li>1797</li><li>1798</li><li>1799</li><li>1800</li><li>1801</li><li>1802</li><li>1803</li><li>1804</li><li>1805</li><li>1806</li><li>1807</li><li>1808</li><li>1809</li><li>1810</li><li>1811</li><li>1812</li><li>1813</li><li>1814</li><li>1815</li><li>1816</li><li>1817</li><li>1818</li><li>1819</li><li>1820</li><li>1821</li><li>1822</li><li>1823</li><li>1824</li><li>1825</li><li>1826</li><li>1827</li><li>1828</li><li>1829</li><li>1830</li><li>1831</li><li>1832</li><li>1833</li><li>1834</li><li>1835</li><li>1836</li></ol>\n",
              "</li>\n",
              "\t<li><style>\n",
              ".list-inline {list-style: none; margin:0; padding: 0}\n",
              ".list-inline>li {display: inline-block}\n",
              ".list-inline>li:not(:last-child)::after {content: \"\\00b7\"; padding: 0 .5ex}\n",
              "</style>\n",
              "<ol class=list-inline><li>1837</li><li>1838</li><li>1839</li><li>1840</li><li>1841</li><li>1842</li><li>1843</li><li>1844</li><li>1845</li><li>1846</li><li>1847</li><li>1848</li><li>1849</li><li>1850</li><li>1851</li><li>1852</li><li>1853</li><li>1854</li><li>1855</li><li>1856</li><li>1857</li><li>1858</li><li>1859</li><li>1860</li><li>1861</li><li>1862</li><li>1863</li><li>1864</li><li>1865</li><li>1866</li><li>1867</li><li>1868</li><li>1869</li><li>1870</li><li>1871</li><li>1872</li><li>1873</li><li>1874</li><li>1875</li><li>1876</li><li>1877</li><li>1878</li><li>1879</li><li>1880</li><li>1881</li><li>1882</li><li>1883</li><li>1884</li><li>1885</li><li>1886</li><li>1887</li><li>1888</li><li>1889</li><li>1890</li><li>1891</li><li>1892</li><li>1893</li><li>1894</li><li>1895</li><li>1896</li><li>1897</li><li>1898</li><li>1899</li><li>1900</li><li>1901</li><li>1902</li><li>1903</li><li>1904</li><li>1905</li><li>1906</li><li>1907</li><li>1908</li><li>1909</li><li>1910</li><li>1911</li><li>1912</li><li>1913</li><li>1914</li><li>1915</li><li>1916</li><li>1917</li><li>1918</li><li>1919</li><li>1920</li><li>1921</li><li>1922</li><li>1923</li><li>1924</li><li>1925</li><li>1926</li></ol>\n",
              "</li>\n",
              "\t<li><style>\n",
              ".list-inline {list-style: none; margin:0; padding: 0}\n",
              ".list-inline>li {display: inline-block}\n",
              ".list-inline>li:not(:last-child)::after {content: \"\\00b7\"; padding: 0 .5ex}\n",
              "</style>\n",
              "<ol class=list-inline><li>1927</li><li>1928</li><li>1929</li><li>1930</li><li>1931</li><li>1932</li><li>1933</li><li>1934</li><li>1935</li><li>1936</li><li>1937</li><li>1938</li><li>1939</li><li>1940</li><li>1941</li><li>1942</li><li>1943</li><li>1944</li><li>1945</li><li>1946</li><li>1947</li><li>1948</li><li>1949</li><li>1950</li><li>1951</li><li>1952</li><li>1953</li><li>1954</li><li>1955</li><li>1956</li><li>1957</li><li>1958</li><li>1959</li><li>1960</li><li>1961</li><li>1962</li><li>1963</li><li>1964</li><li>1965</li><li>1966</li><li>1967</li><li>1968</li><li>1969</li><li>1970</li><li>1971</li><li>1972</li><li>1973</li><li>1974</li><li>1975</li><li>1976</li><li>1977</li><li>1978</li><li>1979</li><li>1980</li><li>1981</li><li>1982</li><li>1983</li><li>1984</li><li>1985</li><li>1986</li><li>1987</li><li>1988</li><li>1989</li><li>1990</li><li>1991</li><li>1992</li><li>1993</li><li>1994</li><li>1995</li><li>1996</li><li>1997</li><li>1998</li><li>1999</li><li>2000</li><li>2001</li><li>2002</li><li>2003</li><li>2004</li><li>2005</li><li>2006</li><li>2007</li><li>2008</li><li>2009</li><li>2010</li><li>2011</li><li>2012</li><li>2013</li><li>2014</li><li>2015</li><li>2016</li><li>2017</li><li>2018</li><li>2019</li><li>2020</li><li>2021</li><li>2022</li><li>2023</li><li>2024</li><li>2025</li><li>2026</li><li>2027</li><li>2028</li><li>2029</li><li>2030</li><li>2031</li><li>2032</li><li>2033</li><li>2034</li><li>2035</li><li>2036</li><li>2037</li><li>2038</li><li>2039</li><li>2040</li><li>2041</li><li>2042</li><li>2043</li><li>2044</li><li>2045</li><li>2046</li><li>2047</li><li>2048</li><li>2049</li><li>2050</li><li>2051</li><li>2052</li><li>2053</li><li>2054</li><li>2055</li><li>2056</li><li>2057</li><li>2058</li><li>2059</li><li>2060</li><li>2061</li><li>2062</li><li>2063</li><li>2064</li><li>2065</li><li>2066</li><li>2067</li><li>2068</li><li>2069</li><li>2070</li><li>2071</li><li>2072</li><li>2073</li><li>2074</li><li>2075</li><li>2076</li><li>2077</li><li>2078</li><li>2079</li><li>2080</li><li>2081</li><li>2082</li><li>2083</li><li>2084</li><li>2085</li><li>2086</li><li>2087</li><li>2088</li><li>2089</li><li>2090</li><li>2091</li><li>2092</li><li>2093</li><li>2094</li><li>2095</li><li>2096</li><li>2097</li><li>2098</li><li>2099</li><li>2100</li><li>2101</li><li>2102</li><li>2103</li><li>2104</li><li>2105</li><li>2106</li><li>2107</li><li>2108</li><li>2109</li><li>2110</li><li>2111</li><li>2112</li><li>2113</li><li>2114</li><li>2115</li><li>2116</li><li>2117</li><li>2118</li><li>2119</li><li>2120</li><li>2121</li><li>2122</li><li>2123</li><li>2124</li><li>2125</li><li>2126</li><li>⋯</li><li>2347</li><li>2348</li><li>2349</li><li>2350</li><li>2351</li><li>2352</li><li>2353</li><li>2354</li><li>2355</li><li>2356</li><li>2357</li><li>2358</li><li>2359</li><li>2360</li><li>2361</li><li>2362</li><li>2363</li><li>2364</li><li>2365</li><li>2366</li><li>2367</li><li>2368</li><li>2369</li><li>2370</li><li>2371</li><li>2372</li><li>2373</li><li>2374</li><li>2375</li><li>2376</li><li>2377</li><li>2378</li><li>2379</li><li>2380</li><li>2381</li><li>2382</li><li>2383</li><li>2384</li><li>2385</li><li>2386</li><li>2387</li><li>2388</li><li>2389</li><li>2390</li><li>2391</li><li>2392</li><li>2393</li><li>2394</li><li>2395</li><li>2396</li><li>2397</li><li>2398</li><li>2399</li><li>2400</li><li>2401</li><li>2402</li><li>2403</li><li>2404</li><li>2405</li><li>2406</li><li>2407</li><li>2408</li><li>2409</li><li>2410</li><li>2411</li><li>2412</li><li>2413</li><li>2414</li><li>2415</li><li>2416</li><li>2417</li><li>2418</li><li>2419</li><li>2420</li><li>2421</li><li>2422</li><li>2423</li><li>2424</li><li>2425</li><li>2426</li><li>2427</li><li>2428</li><li>2429</li><li>2430</li><li>2431</li><li>2432</li><li>2433</li><li>2434</li><li>2435</li><li>2436</li><li>2437</li><li>2438</li><li>2439</li><li>2440</li><li>2441</li><li>2442</li><li>2443</li><li>2444</li><li>2445</li><li>2446</li><li>2447</li><li>2448</li><li>2449</li><li>2450</li><li>2451</li><li>2452</li><li>2453</li><li>2454</li><li>2455</li><li>2456</li><li>2457</li><li>2458</li><li>2459</li><li>2460</li><li>2461</li><li>2462</li><li>2463</li><li>2464</li><li>2465</li><li>2466</li><li>2467</li><li>2468</li><li>2469</li><li>2470</li><li>2471</li><li>2472</li><li>2473</li><li>2474</li><li>2475</li><li>2476</li><li>2477</li><li>2478</li><li>2479</li><li>2480</li><li>2481</li><li>2482</li><li>2483</li><li>2484</li><li>2485</li><li>2486</li><li>2487</li><li>2488</li><li>2489</li><li>2490</li><li>2491</li><li>2492</li><li>2493</li><li>2494</li><li>2495</li><li>2496</li><li>2497</li><li>2498</li><li>2499</li><li>2500</li><li>2501</li><li>2502</li><li>2503</li><li>2504</li><li>2505</li><li>2506</li><li>2507</li><li>2508</li><li>2509</li><li>2510</li><li>2511</li><li>2512</li><li>2513</li><li>2514</li><li>2515</li><li>2516</li><li>2517</li><li>2518</li><li>2519</li><li>2520</li><li>2521</li><li>2522</li><li>2523</li><li>2524</li><li>2525</li><li>2526</li><li>2527</li><li>2528</li><li>2529</li><li>2530</li><li>2531</li><li>2532</li><li>2533</li><li>2534</li><li>2535</li><li>2536</li><li>2537</li><li>2538</li><li>2539</li><li>2540</li><li>2541</li><li>2542</li><li>2543</li><li>2544</li><li>2545</li><li>2546</li></ol>\n",
              "</li>\n",
              "\t<li><style>\n",
              ".list-inline {list-style: none; margin:0; padding: 0}\n",
              ".list-inline>li {display: inline-block}\n",
              ".list-inline>li:not(:last-child)::after {content: \"\\00b7\"; padding: 0 .5ex}\n",
              "</style>\n",
              "<ol class=list-inline><li>2547</li><li>2548</li><li>2549</li><li>2550</li><li>2551</li><li>2552</li><li>2553</li><li>2554</li><li>2555</li><li>2556</li><li>2557</li><li>2558</li><li>2559</li><li>2560</li><li>2561</li><li>2562</li><li>2563</li><li>2564</li><li>2565</li><li>2566</li><li>2567</li><li>2568</li><li>2569</li><li>2570</li><li>2571</li><li>2572</li><li>2573</li><li>2574</li><li>2575</li><li>2576</li></ol>\n",
              "</li>\n",
              "\t<li><style>\n",
              ".list-inline {list-style: none; margin:0; padding: 0}\n",
              ".list-inline>li {display: inline-block}\n",
              ".list-inline>li:not(:last-child)::after {content: \"\\00b7\"; padding: 0 .5ex}\n",
              "</style>\n",
              "<ol class=list-inline><li>2577</li><li>2578</li><li>2579</li><li>2580</li><li>2581</li><li>2582</li><li>2583</li><li>2584</li><li>2585</li><li>2586</li><li>2587</li><li>2588</li><li>2589</li><li>2590</li><li>2591</li><li>2592</li><li>2593</li><li>2594</li><li>2595</li><li>2596</li><li>2597</li><li>2598</li><li>2599</li><li>2600</li><li>2601</li><li>2602</li><li>2603</li><li>2604</li><li>2605</li><li>2606</li><li>2607</li><li>2608</li><li>2609</li><li>2610</li><li>2611</li><li>2612</li><li>2613</li><li>2614</li><li>2615</li><li>2616</li><li>2617</li><li>2618</li><li>2619</li><li>2620</li><li>2621</li><li>2622</li><li>2623</li><li>2624</li><li>2625</li><li>2626</li><li>2627</li><li>2628</li><li>2629</li><li>2630</li><li>2631</li><li>2632</li><li>2633</li><li>2634</li><li>2635</li><li>2636</li><li>2637</li><li>2638</li><li>2639</li><li>2640</li><li>2641</li><li>2642</li><li>2643</li><li>2644</li><li>2645</li><li>2646</li><li>2647</li><li>2648</li><li>2649</li><li>2650</li><li>2651</li><li>2652</li><li>2653</li><li>2654</li><li>2655</li><li>2656</li><li>2657</li><li>2658</li><li>2659</li><li>2660</li><li>2661</li><li>2662</li><li>2663</li><li>2664</li><li>2665</li><li>2666</li></ol>\n",
              "</li>\n",
              "</ol>\n"
            ],
            "text/markdown": "1. 1. 1\n2. 2\n3. 3\n4. 4\n5. 5\n6. 6\n7. 7\n8. 8\n9. 9\n10. 10\n11. 11\n12. 12\n13. 13\n14. 14\n15. 15\n16. 16\n17. 17\n18. 18\n19. 19\n20. 20\n21. 21\n22. 22\n23. 23\n24. 24\n25. 25\n26. 26\n27. 27\n28. 28\n29. 29\n30. 30\n31. 31\n32. 32\n33. 33\n34. 34\n35. 35\n36. 36\n37. 37\n38. 38\n39. 39\n40. 40\n41. 41\n42. 42\n43. 43\n44. 44\n45. 45\n46. 46\n47. 47\n48. 48\n\n\n\n2. 1. 49\n2. 50\n3. 51\n4. 52\n5. 53\n6. 54\n7. 55\n8. 56\n9. 57\n10. 58\n11. 59\n12. 60\n13. 61\n14. 62\n15. 63\n16. 64\n17. 65\n18. 66\n19. 67\n20. 68\n21. 69\n22. 70\n23. 71\n24. 72\n25. 73\n26. 74\n27. 75\n28. 76\n29. 77\n30. 78\n31. 79\n32. 80\n33. 81\n34. 82\n35. 83\n36. 84\n37. 85\n38. 86\n39. 87\n40. 88\n41. 89\n42. 90\n43. 91\n44. 92\n45. 93\n46. 94\n47. 95\n48. 96\n49. 97\n50. 98\n51. 99\n52. 100\n53. 101\n54. 102\n55. 103\n56. 104\n57. 105\n58. 106\n59. 107\n60. 108\n61. 109\n62. 110\n63. 111\n64. 112\n65. 113\n66. 114\n67. 115\n68. 116\n69. 117\n70. 118\n71. 119\n72. 120\n73. 121\n74. 122\n75. 123\n76. 124\n77. 125\n78. 126\n79. 127\n80. 128\n81. 129\n82. 130\n83. 131\n84. 132\n85. 133\n86. 134\n87. 135\n88. 136\n89. 137\n90. 138\n91. 139\n92. 140\n93. 141\n94. 142\n95. 143\n96. 144\n97. 145\n98. 146\n99. 147\n100. 148\n101. 149\n102. 150\n103. 151\n104. 152\n105. 153\n106. 154\n107. 155\n108. 156\n109. 157\n110. 158\n111. 159\n112. 160\n113. 161\n114. 162\n115. 163\n116. 164\n117. 165\n118. 166\n119. 167\n120. 168\n121. 169\n122. 170\n123. 171\n124. 172\n125. 173\n126. 174\n127. 175\n128. 176\n129. 177\n130. 178\n131. 179\n132. 180\n133. 181\n134. 182\n135. 183\n136. 184\n137. 185\n138. 186\n139. 187\n140. 188\n141. 189\n142. 190\n143. 191\n144. 192\n145. 193\n146. 194\n147. 195\n148. 196\n149. 197\n150. 198\n151. 199\n152. 200\n153. 201\n154. 202\n155. 203\n156. 204\n157. 205\n158. 206\n159. 207\n160. 208\n161. 209\n162. 210\n163. 211\n164. 212\n165. 213\n166. 214\n167. 215\n168. 216\n169. 217\n170. 218\n171. 219\n172. 220\n173. 221\n174. 222\n175. 223\n176. 224\n177. 225\n178. 226\n179. 227\n180. 228\n181. 229\n182. 230\n183. 231\n184. 232\n185. 233\n186. 234\n187. 235\n188. 236\n189. 237\n190. 238\n191. 239\n192. 240\n193. 241\n194. 242\n195. 243\n196. 244\n197. 245\n198. 246\n199. 247\n200. 248\n201. 249\n202. 250\n203. 251\n204. 252\n205. 253\n206. 254\n207. 255\n208. 256\n209. 257\n210. 258\n211. 259\n212. 260\n213. 261\n214. 262\n215. 263\n216. 264\n217. 265\n218. 266\n219. 267\n220. 268\n221. 269\n222. 270\n223. 271\n224. 272\n225. 273\n226. 274\n227. 275\n228. 276\n229. 277\n230. 278\n231. 279\n232. 280\n233. 281\n234. 282\n235. 283\n236. 284\n237. 285\n238. 286\n239. 287\n240. 288\n241. 289\n242. 290\n243. 291\n244. 292\n245. 293\n246. 294\n247. 295\n248. 296\n249. 297\n250. 298\n251. 299\n252. 300\n253. 301\n254. 302\n255. 303\n256. 304\n257. 305\n258. 306\n259. 307\n260. 308\n261. 309\n262. 310\n263. 311\n264. 312\n265. 313\n266. 314\n267. 315\n268. 316\n269. 317\n270. 318\n271. 319\n272. 320\n273. 321\n274. 322\n275. 323\n276. 324\n277. 325\n278. 326\n279. 327\n280. 328\n281. 329\n282. 330\n283. 331\n284. 332\n285. 333\n286. 334\n287. 335\n288. 336\n289. 337\n290. 338\n291. 339\n292. 340\n293. 341\n294. 342\n295. 343\n296. 344\n297. 345\n298. 346\n299. 347\n300. 348\n\n\n\n3. 1. 349\n2. 350\n3. 351\n4. 352\n5. 353\n6. 354\n7. 355\n8. 356\n9. 357\n10. 358\n11. 359\n12. 360\n13. 361\n14. 362\n15. 363\n16. 364\n17. 365\n18. 366\n19. 367\n20. 368\n21. 369\n22. 370\n23. 371\n24. 372\n25. 373\n26. 374\n27. 375\n28. 376\n29. 377\n30. 378\n31. 379\n32. 380\n33. 381\n34. 382\n35. 383\n36. 384\n37. 385\n38. 386\n39. 387\n40. 388\n41. 389\n42. 390\n43. 391\n44. 392\n45. 393\n46. 394\n47. 395\n48. 396\n49. 397\n50. 398\n51. 399\n52. 400\n53. 401\n54. 402\n55. 403\n56. 404\n57. 405\n58. 406\n59. 407\n60. 408\n61. 409\n62. 410\n63. 411\n64. 412\n65. 413\n66. 414\n67. 415\n68. 416\n69. 417\n70. 418\n71. 419\n72. 420\n73. 421\n74. 422\n75. 423\n76. 424\n77. 425\n78. 426\n79. 427\n80. 428\n81. 429\n82. 430\n83. 431\n84. 432\n85. 433\n86. 434\n87. 435\n88. 436\n89. 437\n90. 438\n91. 439\n92. 440\n93. 441\n94. 442\n95. 443\n96. 444\n97. 445\n98. 446\n99. 447\n100. 448\n101. 449\n102. 450\n103. 451\n104. 452\n105. 453\n106. 454\n107. 455\n108. 456\n109. 457\n110. 458\n111. 459\n112. 460\n113. 461\n114. 462\n115. 463\n116. 464\n117. 465\n118. 466\n119. 467\n120. 468\n121. 469\n122. 470\n123. 471\n124. 472\n125. 473\n126. 474\n127. 475\n128. 476\n129. 477\n130. 478\n131. 479\n132. 480\n133. 481\n134. 482\n135. 483\n136. 484\n137. 485\n138. 486\n139. 487\n140. 488\n141. 489\n142. 490\n143. 491\n144. 492\n145. 493\n146. 494\n147. 495\n148. 496\n149. 497\n150. 498\n151. 499\n152. 500\n153. 501\n154. 502\n155. 503\n156. 504\n157. 505\n158. 506\n159. 507\n160. 508\n161. 509\n162. 510\n163. 511\n164. 512\n165. 513\n166. 514\n167. 515\n168. 516\n169. 517\n170. 518\n171. 519\n172. 520\n173. 521\n174. 522\n175. 523\n176. 524\n177. 525\n178. 526\n179. 527\n180. 528\n181. 529\n182. 530\n183. 531\n184. 532\n185. 533\n186. 534\n187. 535\n188. 536\n189. 537\n190. 538\n191. 539\n192. 540\n193. 541\n194. 542\n195. 543\n196. 544\n197. 545\n198. 546\n199. 547\n200. 548\n201. 549\n202. 550\n203. 551\n204. 552\n205. 553\n206. 554\n207. 555\n208. 556\n209. 557\n210. 558\n211. 559\n212. 560\n213. 561\n214. 562\n215. 563\n216. 564\n217. 565\n218. 566\n219. 567\n220. 568\n221. 569\n222. 570\n223. 571\n224. 572\n225. 573\n226. 574\n227. 575\n228. 576\n229. 577\n230. 578\n231. 579\n232. 580\n233. 581\n234. 582\n235. 583\n236. 584\n237. 585\n238. 586\n239. 587\n240. 588\n241. 589\n242. 590\n243. 591\n244. 592\n245. 593\n246. 594\n247. 595\n248. 596\n249. 597\n250. 598\n251. 599\n252. 600\n253. 601\n254. 602\n255. 603\n256. 604\n257. 605\n258. 606\n259. 607\n260. 608\n261. 609\n262. 610\n263. 611\n264. 612\n265. 613\n266. 614\n267. 615\n268. 616\n269. 617\n270. 618\n271. 619\n272. 620\n273. 621\n274. 622\n275. 623\n276. 624\n277. 625\n278. 626\n279. 627\n280. 628\n281. 629\n282. 630\n283. 631\n284. 632\n285. 633\n\n\n\n4. 1. 634\n2. 635\n3. 636\n4. 637\n5. 638\n6. 639\n7. 640\n8. 641\n9. 642\n10. 643\n11. 644\n12. 645\n13. 646\n14. 647\n15. 648\n16. 649\n17. 650\n18. 651\n19. 652\n20. 653\n21. 654\n22. 655\n23. 656\n24. 657\n25. 658\n26. 659\n27. 660\n28. 661\n29. 662\n30. 663\n31. 664\n32. 665\n33. 666\n34. 667\n35. 668\n36. 669\n37. 670\n38. 671\n39. 672\n40. 673\n41. 674\n42. 675\n43. 676\n44. 677\n45. 678\n46. 679\n47. 680\n48. 681\n49. 682\n50. 683\n51. 684\n52. 685\n53. 686\n54. 687\n55. 688\n56. 689\n57. 690\n58. 691\n59. 692\n60. 693\n61. 694\n62. 695\n63. 696\n64. 697\n65. 698\n66. 699\n67. 700\n68. 701\n69. 702\n70. 703\n71. 704\n72. 705\n73. 706\n74. 707\n75. 708\n76. 709\n77. 710\n\n\n\n5. 1. 711\n2. 712\n3. 713\n4. 714\n5. 715\n6. 716\n7. 717\n8. 718\n9. 719\n10. 720\n11. 721\n12. 722\n13. 723\n14. 724\n15. 725\n16. 726\n17. 727\n18. 728\n19. 729\n20. 730\n21. 731\n22. 732\n23. 733\n24. 734\n25. 735\n26. 736\n27. 737\n28. 738\n29. 739\n30. 740\n31. 741\n32. 742\n33. 743\n34. 744\n35. 745\n36. 746\n37. 747\n38. 748\n39. 749\n40. 750\n41. 751\n42. 752\n43. 753\n44. 754\n45. 755\n46. 756\n47. 757\n48. 758\n49. 759\n50. 760\n51. 761\n52. 762\n53. 763\n54. 764\n55. 765\n56. 766\n57. 767\n58. 768\n59. 769\n60. 770\n61. 771\n62. 772\n63. 773\n64. 774\n65. 775\n66. 776\n67. 777\n68. 778\n69. 779\n70. 780\n71. 781\n72. 782\n73. 783\n74. 784\n75. 785\n76. 786\n77. 787\n78. 788\n79. 789\n80. 790\n81. 791\n82. 792\n83. 793\n84. 794\n85. 795\n86. 796\n87. 797\n88. 798\n89. 799\n90. 800\n91. 801\n92. 802\n93. 803\n94. 804\n95. 805\n96. 806\n97. 807\n98. 808\n99. 809\n100. 810\n101. 811\n102. 812\n103. 813\n104. 814\n105. 815\n106. 816\n107. 817\n108. 818\n109. 819\n110. 820\n111. 821\n112. 822\n113. 823\n114. 824\n115. 825\n116. 826\n117. 827\n118. 828\n119. 829\n120. 830\n121. 831\n122. 832\n123. 833\n124. 834\n125. 835\n126. 836\n127. 837\n128. 838\n129. 839\n130. 840\n131. 841\n132. 842\n133. 843\n134. 844\n135. 845\n136. 846\n137. 847\n138. 848\n139. 849\n140. 850\n141. 851\n142. 852\n143. 853\n144. 854\n145. 855\n146. 856\n147. 857\n148. 858\n149. 859\n150. 860\n151. 861\n152. 862\n153. 863\n154. 864\n155. 865\n156. 866\n157. 867\n158. 868\n159. 869\n160. 870\n161. 871\n162. 872\n163. 873\n164. 874\n165. 875\n166. 876\n167. 877\n168. 878\n169. 879\n170. 880\n171. 881\n172. 882\n173. 883\n174. 884\n175. 885\n176. 886\n177. 887\n178. 888\n179. 889\n180. 890\n181. 891\n182. 892\n183. 893\n184. 894\n185. 895\n186. 896\n187. 897\n188. 898\n189. 899\n190. 900\n191. 901\n192. 902\n193. 903\n194. 904\n195. 905\n196. 906\n197. 907\n198. 908\n199. 909\n200. 910\n201. 911\n202. 912\n203. 913\n204. 914\n205. 915\n206. 916\n207. 917\n208. 918\n209. 919\n210. 920\n211. 921\n212. 922\n213. 923\n214. 924\n215. 925\n216. 926\n\n\n\n6. 1. 927\n2. 928\n3. 929\n4. 930\n5. 931\n6. 932\n7. 933\n8. 934\n9. 935\n10. 936\n11. 937\n12. 938\n13. 939\n14. 940\n15. 941\n16. 942\n17. 943\n18. 944\n19. 945\n20. 946\n21. 947\n22. 948\n23. 949\n24. 950\n25. 951\n26. 952\n27. 953\n28. 954\n29. 955\n30. 956\n31. 957\n32. 958\n33. 959\n34. 960\n35. 961\n36. 962\n37. 963\n38. 964\n39. 965\n40. 966\n41. 967\n42. 968\n43. 969\n44. 970\n45. 971\n46. 972\n47. 973\n48. 974\n49. 975\n50. 976\n51. 977\n52. 978\n53. 979\n54. 980\n55. 981\n56. 982\n57. 983\n58. 984\n59. 985\n60. 986\n61. 987\n62. 988\n63. 989\n64. 990\n65. 991\n66. 992\n67. 993\n68. 994\n69. 995\n70. 996\n71. 997\n72. 998\n73. 999\n74. 1000\n75. 1001\n76. 1002\n77. 1003\n78. 1004\n79. 1005\n80. 1006\n81. 1289\n82. 1300\n83. 1311\n\n\n\n7. 1. 1007\n2. 1008\n3. 1009\n4. 1010\n5. 1011\n6. 1012\n7. 1013\n8. 1014\n9. 1015\n10. 1016\n11. 1017\n12. 1018\n13. 1019\n14. 1020\n15. 1021\n16. 1022\n17. 1023\n18. 1024\n19. 1025\n20. 1026\n21. 1027\n22. 1028\n23. 1029\n24. 1030\n25. 1031\n26. 1032\n27. 1033\n28. 1034\n29. 1035\n30. 1036\n31. 1037\n32. 1038\n33. 1039\n34. 1040\n35. 1041\n36. 1042\n37. 1043\n38. 1044\n39. 1045\n40. 1046\n41. 1047\n42. 1048\n43. 1049\n44. 1050\n45. 1051\n46. 1052\n47. 1053\n48. 1054\n49. 1055\n50. 1056\n51. 1057\n52. 1058\n53. 1059\n54. 1060\n55. 1061\n56. 1062\n57. 1063\n58. 1064\n59. 1065\n60. 1066\n61. 1067\n62. 1068\n63. 1069\n64. 1070\n65. 1071\n66. 1072\n67. 1073\n68. 1074\n69. 1075\n70. 1076\n71. 1077\n72. 1078\n73. 1079\n74. 1080\n75. 1081\n76. 1082\n77. 1083\n78. 1084\n79. 1085\n80. 1086\n81. 1087\n82. 1088\n83. 1089\n84. 1090\n85. 1091\n86. 1092\n87. 1093\n88. 1094\n89. 1095\n90. 1096\n91. 1097\n92. 1098\n93. 1099\n94. 1100\n95. 1101\n96. 1102\n97. 1103\n98. 1104\n99. 1105\n100. 1106\n101. 1107\n102. 1108\n103. 1109\n104. 1110\n105. 1111\n106. 1112\n107. 1113\n108. 1114\n109. 1115\n110. 1116\n111. 1117\n112. 1118\n113. 1119\n114. 1120\n115. 1121\n116. 1122\n117. 1123\n118. 1124\n119. 1125\n120. 1126\n121. 1127\n122. 1128\n123. 1129\n124. 1130\n125. 1131\n126. 1132\n127. 1133\n128. 1134\n129. 1135\n130. 1136\n131. 1137\n132. 1138\n133. 1139\n134. 1140\n135. 1141\n136. 1142\n137. 1143\n138. 1144\n139. 1145\n140. 1146\n141. 1147\n142. 1148\n143. 1149\n144. 1150\n145. 1151\n146. 1152\n147. 1153\n148. 1154\n149. 1155\n150. 1156\n151. 1157\n152. 1158\n153. 1159\n154. 1160\n155. 1161\n156. 1162\n157. 1163\n158. 1164\n159. 1165\n160. 1166\n161. 1167\n162. 1168\n163. 1169\n164. 1170\n165. 1171\n166. 1172\n167. 1173\n168. 1174\n169. 1175\n170. 1176\n171. 1177\n172. 1178\n173. 1179\n174. 1180\n175. 1181\n176. 1182\n177. 1183\n178. 1184\n179. 1185\n180. 1186\n181. 1187\n182. 1188\n183. 1189\n184. 1190\n185. 1191\n186. 1192\n187. 1193\n188. 1194\n189. 1195\n190. 1196\n191. 1197\n192. 1198\n193. 1199\n194. 1200\n195. 1201\n196. 1202\n197. 1203\n198. 1204\n199. 1205\n200. 1206\n201. 1207\n202. 1208\n203. 1209\n204. 1210\n205. 1211\n206. 1212\n207. 1213\n208. 1214\n209. 1215\n210. 1216\n211. 1217\n212. 1218\n213. 1219\n214. 1220\n215. 1221\n216. 1222\n217. 1223\n218. 1224\n219. 1225\n220. 1226\n221. 1227\n222. 1228\n223. 1229\n224. 1230\n225. 1231\n226. 1232\n227. 1233\n228. 1234\n229. 1235\n230. 1236\n231. 1237\n232. 1238\n233. 1239\n234. 1240\n235. 1241\n236. 1242\n237. 1243\n238. 1244\n239. 1245\n240. 1246\n241. 1247\n242. 1248\n243. 1249\n244. 1250\n245. 1251\n246. 1252\n247. 1253\n248. 1254\n249. 1255\n250. 1256\n251. 1257\n252. 1258\n253. 1259\n254. 1260\n255. 1261\n256. 1262\n257. 1263\n258. 1264\n259. 1265\n260. 1266\n\n\n\n8. 1. 942\n2. 958\n3. 974\n4. 1267\n5. 1268\n6. 1269\n7. 1270\n8. 1271\n9. 1272\n10. 1273\n11. 1274\n12. 1275\n13. 1276\n14. 1277\n15. 1278\n16. 1279\n17. 1280\n18. 1281\n19. 1282\n20. 1283\n21. 1284\n22. 1285\n23. 1286\n24. 1287\n25. 1288\n26. 1289\n27. 1290\n28. 1291\n29. 1292\n30. 1293\n31. 1294\n32. 1295\n33. 1296\n34. 1297\n35. 1298\n36. 1299\n37. 1300\n38. 1301\n39. 1302\n40. 1303\n41. 1304\n42. 1305\n43. 1306\n44. 1307\n45. 1308\n46. 1309\n47. 1310\n48. 1311\n49. 1312\n50. 1313\n51. 1314\n52. 1315\n53. 1316\n54. 1317\n55. 1318\n56. 1319\n57. 1320\n58. 1321\n\n\n\n9. 1. 1322\n2. 1323\n3. 1324\n4. 1325\n5. 1326\n6. 1327\n7. 1328\n8. 1329\n9. 1330\n10. 1331\n11. 1332\n12. 1333\n13. 1334\n14. 1335\n15. 1336\n16. 1337\n17. 1338\n18. 1339\n19. 1340\n20. 1341\n21. 1342\n22. 1343\n23. 1344\n24. 1345\n25. 1346\n26. 1347\n27. 1348\n28. 1349\n29. 1350\n30. 1351\n31. 1352\n32. 1353\n33. 1354\n34. 1355\n35. 1356\n36. 1357\n37. 1358\n38. 1359\n39. 1360\n40. 1361\n41. 1362\n42. 1363\n\n\n\n10. 1. 1364\n2. 1365\n3. 1366\n4. 1367\n5. 1368\n6. 1369\n7. 1370\n8. 1371\n9. 1372\n10. 1373\n11. 1374\n12. 1375\n13. 1376\n14. 1377\n15. 1378\n16. 1379\n17. 1380\n18. 1381\n19. 1382\n20. 1383\n21. 1384\n22. 1385\n23. 1386\n24. 1387\n25. 1388\n26. 1389\n27. 1390\n28. 1391\n29. 1392\n30. 1393\n31. 1394\n32. 1395\n33. 1396\n34. 1397\n35. 1398\n36. 1399\n37. 1400\n38. 1401\n39. 1402\n40. 1403\n41. 1404\n42. 1405\n43. 1406\n44. 1407\n45. 1408\n46. 1409\n47. 1410\n48. 1411\n49. 1412\n50. 1413\n51. 1414\n52. 1415\n53. 1416\n54. 1417\n55. 1418\n56. 1419\n57. 1420\n58. 1421\n59. 1422\n60. 1423\n61. 1424\n62. 1425\n63. 1426\n64. 1427\n65. 1428\n66. 1429\n67. 1430\n68. 1431\n69. 1432\n70. 1433\n71. 1434\n72. 1435\n73. 1436\n74. 1437\n75. 1438\n76. 1439\n77. 1440\n78. 1441\n79. 1442\n80. 1443\n81. 1444\n82. 1445\n83. 1446\n84. 1447\n85. 1448\n86. 1449\n87. 1450\n88. 1451\n89. 1452\n90. 1453\n91. 1454\n92. 1455\n93. 1456\n94. 1457\n95. 1458\n96. 1459\n97. 1460\n98. 1461\n99. 1462\n100. 1463\n101. 1464\n102. 1465\n103. 1466\n104. 1467\n105. 1468\n106. 1469\n107. 1470\n108. 1471\n109. 1472\n110. 1473\n111. 1474\n112. 1475\n113. 1476\n114. 1477\n115. 1478\n116. 1479\n117. 1480\n118. 1481\n119. 1482\n120. 1483\n121. 1484\n122. 1485\n123. 1486\n124. 1487\n125. 1488\n126. 1489\n127. 1490\n128. 1491\n129. 1492\n130. 1493\n131. 1494\n132. 1495\n133. 1496\n134. 1497\n135. 1498\n136. 1499\n137. 1500\n138. 1501\n139. 1502\n140. 1503\n141. 1504\n142. 1505\n143. 1506\n144. 1507\n145. 1508\n146. 1509\n147. 1510\n148. 1511\n149. 1512\n150. 1513\n151. 1514\n152. 1515\n153. 1516\n154. 1517\n155. 1518\n156. 1519\n157. 1520\n158. 1521\n159. 1522\n160. 1523\n161. 1524\n162. 1525\n163. 1526\n164. 1527\n165. 1528\n166. 1529\n167. 1530\n168. 1531\n169. 1532\n170. 1533\n171. 1534\n172. 1535\n173. 1536\n174. 1537\n175. 1538\n176. 1539\n177. 1540\n178. 1541\n179. 1542\n180. 1543\n181. 1544\n182. 1545\n183. 1546\n184. 1547\n185. 1548\n186. 1549\n187. 1550\n188. 1551\n189. 1552\n190. 1553\n191. 1554\n192. 1555\n193. 1556\n194. 1557\n195. 1558\n196. 1559\n197. 1560\n198. 1561\n199. 1562\n200. 1563\n201. 1564\n202. 1565\n203. 1566\n204. 1567\n205. 1568\n206. 1569\n207. 1570\n208. 1571\n209. 1572\n210. 1573\n211. 1574\n212. 1575\n213. 1576\n214. 1577\n215. 1578\n216. 1579\n217. 1580\n218. 1581\n219. 1582\n220. 1583\n221. 1584\n222. 1585\n223. 1586\n224. 1587\n225. 1588\n226. 1589\n227. 1590\n228. 1591\n229. 1592\n230. 1593\n231. 1594\n232. 1595\n233. 1596\n234. 1597\n235. 1598\n236. 1599\n237. 1600\n238. 1601\n239. 1602\n240. 1603\n241. 1604\n242. 1605\n243. 1606\n244. 1607\n245. 1608\n246. 1609\n247. 1610\n248. 1611\n249. 1612\n250. 1613\n251. 1614\n252. 1615\n253. 1616\n254. 1617\n255. 1618\n256. 1619\n257. 1620\n258. 1621\n259. 1622\n260. 1623\n261. 1624\n262. 1625\n263. 1626\n264. 1627\n265. 1628\n266. 1629\n267. 1630\n268. 1631\n269. 1632\n270. 1633\n271. 1634\n272. 1635\n273. 1636\n274. 1637\n275. 1638\n276. 1639\n277. 1640\n278. 1641\n279. 1642\n280. 1643\n281. 1644\n282. 1645\n283. 1646\n284. 1647\n285. 1648\n286. 1649\n287. 1650\n288. 1651\n\n\n\n11. 1. 1652\n2. 1653\n3. 1654\n4. 1655\n5. 1656\n6. 1657\n7. 1658\n8. 1659\n9. 1660\n10. 1661\n11. 1662\n12. 1663\n13. 1664\n14. 1665\n15. 1666\n16. 1667\n17. 1668\n18. 1669\n19. 1670\n20. 1671\n21. 1672\n22. 1673\n23. 1674\n24. 1675\n25. 1676\n26. 1677\n27. 1678\n28. 1679\n29. 1680\n30. 1681\n31. 1682\n32. 1683\n33. 1684\n34. 1685\n35. 1686\n36. 1687\n37. 1688\n38. 1689\n39. 1690\n40. 1691\n41. 1692\n42. 1693\n43. 1694\n44. 1695\n45. 1696\n46. 1697\n47. 1698\n48. 1699\n49. 1700\n50. 1701\n51. 1702\n52. 1703\n53. 1704\n54. 1705\n55. 1706\n56. 1707\n57. 1708\n58. 1709\n59. 1710\n60. 1711\n61. 1712\n62. 1713\n63. 1714\n64. 1715\n65. 1716\n66. 1717\n67. 1718\n68. 1719\n69. 1720\n70. 1721\n71. 1722\n72. 1723\n73. 1724\n74. 1725\n75. 1726\n76. 1727\n77. 1728\n78. 1729\n79. 1730\n80. 1731\n81. 1732\n82. 1733\n83. 1734\n84. 1735\n85. 1736\n86. 1737\n87. 1738\n88. 1739\n89. 1740\n90. 1741\n91. 1742\n92. 1743\n93. 1744\n94. 1745\n95. 1746\n96. 1747\n97. 1748\n98. 1749\n99. 1750\n100. 1751\n101. 1752\n102. 1753\n103. 1754\n104. 1755\n105. 1756\n106. 1757\n107. 1758\n108. 1759\n109. 1760\n110. 1761\n111. 1762\n112. 1763\n113. 1764\n114. 1765\n115. 1766\n116. 1767\n117. 1768\n118. 1769\n119. 1770\n120. 1771\n\n\n\n12. 1. 1772\n2. 1773\n3. 1774\n4. 1775\n5. 1776\n6. 1777\n7. 1778\n8. 1779\n9. 1780\n10. 1781\n11. 1782\n12. 1783\n13. 1784\n14. 1785\n15. 1786\n16. 1787\n17. 1788\n18. 1789\n19. 1790\n20. 1791\n21. 1792\n22. 1793\n23. 1794\n24. 1795\n25. 1796\n26. 1797\n27. 1798\n28. 1799\n29. 1800\n30. 1801\n31. 1802\n32. 1803\n33. 1804\n34. 1805\n35. 1806\n36. 1807\n37. 1808\n38. 1809\n39. 1810\n40. 1811\n41. 1812\n42. 1813\n43. 1814\n44. 1815\n45. 1816\n46. 1817\n47. 1818\n48. 1819\n49. 1820\n50. 1821\n51. 1822\n52. 1823\n53. 1824\n54. 1825\n55. 1826\n56. 1827\n57. 1828\n58. 1829\n59. 1830\n60. 1831\n61. 1832\n62. 1833\n63. 1834\n64. 1835\n65. 1836\n\n\n\n13. 1. 1837\n2. 1838\n3. 1839\n4. 1840\n5. 1841\n6. 1842\n7. 1843\n8. 1844\n9. 1845\n10. 1846\n11. 1847\n12. 1848\n13. 1849\n14. 1850\n15. 1851\n16. 1852\n17. 1853\n18. 1854\n19. 1855\n20. 1856\n21. 1857\n22. 1858\n23. 1859\n24. 1860\n25. 1861\n26. 1862\n27. 1863\n28. 1864\n29. 1865\n30. 1866\n31. 1867\n32. 1868\n33. 1869\n34. 1870\n35. 1871\n36. 1872\n37. 1873\n38. 1874\n39. 1875\n40. 1876\n41. 1877\n42. 1878\n43. 1879\n44. 1880\n45. 1881\n46. 1882\n47. 1883\n48. 1884\n49. 1885\n50. 1886\n51. 1887\n52. 1888\n53. 1889\n54. 1890\n55. 1891\n56. 1892\n57. 1893\n58. 1894\n59. 1895\n60. 1896\n61. 1897\n62. 1898\n63. 1899\n64. 1900\n65. 1901\n66. 1902\n67. 1903\n68. 1904\n69. 1905\n70. 1906\n71. 1907\n72. 1908\n73. 1909\n74. 1910\n75. 1911\n76. 1912\n77. 1913\n78. 1914\n79. 1915\n80. 1916\n81. 1917\n82. 1918\n83. 1919\n84. 1920\n85. 1921\n86. 1922\n87. 1923\n88. 1924\n89. 1925\n90. 1926\n\n\n\n14. 1. 1927\n2. 1928\n3. 1929\n4. 1930\n5. 1931\n6. 1932\n7. 1933\n8. 1934\n9. 1935\n10. 1936\n11. 1937\n12. 1938\n13. 1939\n14. 1940\n15. 1941\n16. 1942\n17. 1943\n18. 1944\n19. 1945\n20. 1946\n21. 1947\n22. 1948\n23. 1949\n24. 1950\n25. 1951\n26. 1952\n27. 1953\n28. 1954\n29. 1955\n30. 1956\n31. 1957\n32. 1958\n33. 1959\n34. 1960\n35. 1961\n36. 1962\n37. 1963\n38. 1964\n39. 1965\n40. 1966\n41. 1967\n42. 1968\n43. 1969\n44. 1970\n45. 1971\n46. 1972\n47. 1973\n48. 1974\n49. 1975\n50. 1976\n51. 1977\n52. 1978\n53. 1979\n54. 1980\n55. 1981\n56. 1982\n57. 1983\n58. 1984\n59. 1985\n60. 1986\n61. 1987\n62. 1988\n63. 1989\n64. 1990\n65. 1991\n66. 1992\n67. 1993\n68. 1994\n69. 1995\n70. 1996\n71. 1997\n72. 1998\n73. 1999\n74. 2000\n75. 2001\n76. 2002\n77. 2003\n78. 2004\n79. 2005\n80. 2006\n81. 2007\n82. 2008\n83. 2009\n84. 2010\n85. 2011\n86. 2012\n87. 2013\n88. 2014\n89. 2015\n90. 2016\n91. 2017\n92. 2018\n93. 2019\n94. 2020\n95. 2021\n96. 2022\n97. 2023\n98. 2024\n99. 2025\n100. 2026\n101. 2027\n102. 2028\n103. 2029\n104. 2030\n105. 2031\n106. 2032\n107. 2033\n108. 2034\n109. 2035\n110. 2036\n111. 2037\n112. 2038\n113. 2039\n114. 2040\n115. 2041\n116. 2042\n117. 2043\n118. 2044\n119. 2045\n120. 2046\n121. 2047\n122. 2048\n123. 2049\n124. 2050\n125. 2051\n126. 2052\n127. 2053\n128. 2054\n129. 2055\n130. 2056\n131. 2057\n132. 2058\n133. 2059\n134. 2060\n135. 2061\n136. 2062\n137. 2063\n138. 2064\n139. 2065\n140. 2066\n141. 2067\n142. 2068\n143. 2069\n144. 2070\n145. 2071\n146. 2072\n147. 2073\n148. 2074\n149. 2075\n150. 2076\n151. 2077\n152. 2078\n153. 2079\n154. 2080\n155. 2081\n156. 2082\n157. 2083\n158. 2084\n159. 2085\n160. 2086\n161. 2087\n162. 2088\n163. 2089\n164. 2090\n165. 2091\n166. 2092\n167. 2093\n168. 2094\n169. 2095\n170. 2096\n171. 2097\n172. 2098\n173. 2099\n174. 2100\n175. 2101\n176. 2102\n177. 2103\n178. 2104\n179. 2105\n180. 2106\n181. 2107\n182. 2108\n183. 2109\n184. 2110\n185. 2111\n186. 2112\n187. 2113\n188. 2114\n189. 2115\n190. 2116\n191. 2117\n192. 2118\n193. 2119\n194. 2120\n195. 2121\n196. 2122\n197. 2123\n198. 2124\n199. 2125\n200. 2126\n201. ⋯\n202. 2347\n203. 2348\n204. 2349\n205. 2350\n206. 2351\n207. 2352\n208. 2353\n209. 2354\n210. 2355\n211. 2356\n212. 2357\n213. 2358\n214. 2359\n215. 2360\n216. 2361\n217. 2362\n218. 2363\n219. 2364\n220. 2365\n221. 2366\n222. 2367\n223. 2368\n224. 2369\n225. 2370\n226. 2371\n227. 2372\n228. 2373\n229. 2374\n230. 2375\n231. 2376\n232. 2377\n233. 2378\n234. 2379\n235. 2380\n236. 2381\n237. 2382\n238. 2383\n239. 2384\n240. 2385\n241. 2386\n242. 2387\n243. 2388\n244. 2389\n245. 2390\n246. 2391\n247. 2392\n248. 2393\n249. 2394\n250. 2395\n251. 2396\n252. 2397\n253. 2398\n254. 2399\n255. 2400\n256. 2401\n257. 2402\n258. 2403\n259. 2404\n260. 2405\n261. 2406\n262. 2407\n263. 2408\n264. 2409\n265. 2410\n266. 2411\n267. 2412\n268. 2413\n269. 2414\n270. 2415\n271. 2416\n272. 2417\n273. 2418\n274. 2419\n275. 2420\n276. 2421\n277. 2422\n278. 2423\n279. 2424\n280. 2425\n281. 2426\n282. 2427\n283. 2428\n284. 2429\n285. 2430\n286. 2431\n287. 2432\n288. 2433\n289. 2434\n290. 2435\n291. 2436\n292. 2437\n293. 2438\n294. 2439\n295. 2440\n296. 2441\n297. 2442\n298. 2443\n299. 2444\n300. 2445\n301. 2446\n302. 2447\n303. 2448\n304. 2449\n305. 2450\n306. 2451\n307. 2452\n308. 2453\n309. 2454\n310. 2455\n311. 2456\n312. 2457\n313. 2458\n314. 2459\n315. 2460\n316. 2461\n317. 2462\n318. 2463\n319. 2464\n320. 2465\n321. 2466\n322. 2467\n323. 2468\n324. 2469\n325. 2470\n326. 2471\n327. 2472\n328. 2473\n329. 2474\n330. 2475\n331. 2476\n332. 2477\n333. 2478\n334. 2479\n335. 2480\n336. 2481\n337. 2482\n338. 2483\n339. 2484\n340. 2485\n341. 2486\n342. 2487\n343. 2488\n344. 2489\n345. 2490\n346. 2491\n347. 2492\n348. 2493\n349. 2494\n350. 2495\n351. 2496\n352. 2497\n353. 2498\n354. 2499\n355. 2500\n356. 2501\n357. 2502\n358. 2503\n359. 2504\n360. 2505\n361. 2506\n362. 2507\n363. 2508\n364. 2509\n365. 2510\n366. 2511\n367. 2512\n368. 2513\n369. 2514\n370. 2515\n371. 2516\n372. 2517\n373. 2518\n374. 2519\n375. 2520\n376. 2521\n377. 2522\n378. 2523\n379. 2524\n380. 2525\n381. 2526\n382. 2527\n383. 2528\n384. 2529\n385. 2530\n386. 2531\n387. 2532\n388. 2533\n389. 2534\n390. 2535\n391. 2536\n392. 2537\n393. 2538\n394. 2539\n395. 2540\n396. 2541\n397. 2542\n398. 2543\n399. 2544\n400. 2545\n401. 2546\n\n\n\n15. 1. 2547\n2. 2548\n3. 2549\n4. 2550\n5. 2551\n6. 2552\n7. 2553\n8. 2554\n9. 2555\n10. 2556\n11. 2557\n12. 2558\n13. 2559\n14. 2560\n15. 2561\n16. 2562\n17. 2563\n18. 2564\n19. 2565\n20. 2566\n21. 2567\n22. 2568\n23. 2569\n24. 2570\n25. 2571\n26. 2572\n27. 2573\n28. 2574\n29. 2575\n30. 2576\n\n\n\n16. 1. 2577\n2. 2578\n3. 2579\n4. 2580\n5. 2581\n6. 2582\n7. 2583\n8. 2584\n9. 2585\n10. 2586\n11. 2587\n12. 2588\n13. 2589\n14. 2590\n15. 2591\n16. 2592\n17. 2593\n18. 2594\n19. 2595\n20. 2596\n21. 2597\n22. 2598\n23. 2599\n24. 2600\n25. 2601\n26. 2602\n27. 2603\n28. 2604\n29. 2605\n30. 2606\n31. 2607\n32. 2608\n33. 2609\n34. 2610\n35. 2611\n36. 2612\n37. 2613\n38. 2614\n39. 2615\n40. 2616\n41. 2617\n42. 2618\n43. 2619\n44. 2620\n45. 2621\n46. 2622\n47. 2623\n48. 2624\n49. 2625\n50. 2626\n51. 2627\n52. 2628\n53. 2629\n54. 2630\n55. 2631\n56. 2632\n57. 2633\n58. 2634\n59. 2635\n60. 2636\n61. 2637\n62. 2638\n63. 2639\n64. 2640\n65. 2641\n66. 2642\n67. 2643\n68. 2644\n69. 2645\n70. 2646\n71. 2647\n72. 2648\n73. 2649\n74. 2650\n75. 2651\n76. 2652\n77. 2653\n78. 2654\n79. 2655\n80. 2656\n81. 2657\n82. 2658\n83. 2659\n84. 2660\n85. 2661\n86. 2662\n87. 2663\n88. 2664\n89. 2665\n90. 2666\n\n\n\n\n\n",
            "text/latex": "\\begin{enumerate}\n\\item \\begin{enumerate*}\n\\item 1\n\\item 2\n\\item 3\n\\item 4\n\\item 5\n\\item 6\n\\item 7\n\\item 8\n\\item 9\n\\item 10\n\\item 11\n\\item 12\n\\item 13\n\\item 14\n\\item 15\n\\item 16\n\\item 17\n\\item 18\n\\item 19\n\\item 20\n\\item 21\n\\item 22\n\\item 23\n\\item 24\n\\item 25\n\\item 26\n\\item 27\n\\item 28\n\\item 29\n\\item 30\n\\item 31\n\\item 32\n\\item 33\n\\item 34\n\\item 35\n\\item 36\n\\item 37\n\\item 38\n\\item 39\n\\item 40\n\\item 41\n\\item 42\n\\item 43\n\\item 44\n\\item 45\n\\item 46\n\\item 47\n\\item 48\n\\end{enumerate*}\n\n\\item \\begin{enumerate*}\n\\item 49\n\\item 50\n\\item 51\n\\item 52\n\\item 53\n\\item 54\n\\item 55\n\\item 56\n\\item 57\n\\item 58\n\\item 59\n\\item 60\n\\item 61\n\\item 62\n\\item 63\n\\item 64\n\\item 65\n\\item 66\n\\item 67\n\\item 68\n\\item 69\n\\item 70\n\\item 71\n\\item 72\n\\item 73\n\\item 74\n\\item 75\n\\item 76\n\\item 77\n\\item 78\n\\item 79\n\\item 80\n\\item 81\n\\item 82\n\\item 83\n\\item 84\n\\item 85\n\\item 86\n\\item 87\n\\item 88\n\\item 89\n\\item 90\n\\item 91\n\\item 92\n\\item 93\n\\item 94\n\\item 95\n\\item 96\n\\item 97\n\\item 98\n\\item 99\n\\item 100\n\\item 101\n\\item 102\n\\item 103\n\\item 104\n\\item 105\n\\item 106\n\\item 107\n\\item 108\n\\item 109\n\\item 110\n\\item 111\n\\item 112\n\\item 113\n\\item 114\n\\item 115\n\\item 116\n\\item 117\n\\item 118\n\\item 119\n\\item 120\n\\item 121\n\\item 122\n\\item 123\n\\item 124\n\\item 125\n\\item 126\n\\item 127\n\\item 128\n\\item 129\n\\item 130\n\\item 131\n\\item 132\n\\item 133\n\\item 134\n\\item 135\n\\item 136\n\\item 137\n\\item 138\n\\item 139\n\\item 140\n\\item 141\n\\item 142\n\\item 143\n\\item 144\n\\item 145\n\\item 146\n\\item 147\n\\item 148\n\\item 149\n\\item 150\n\\item 151\n\\item 152\n\\item 153\n\\item 154\n\\item 155\n\\item 156\n\\item 157\n\\item 158\n\\item 159\n\\item 160\n\\item 161\n\\item 162\n\\item 163\n\\item 164\n\\item 165\n\\item 166\n\\item 167\n\\item 168\n\\item 169\n\\item 170\n\\item 171\n\\item 172\n\\item 173\n\\item 174\n\\item 175\n\\item 176\n\\item 177\n\\item 178\n\\item 179\n\\item 180\n\\item 181\n\\item 182\n\\item 183\n\\item 184\n\\item 185\n\\item 186\n\\item 187\n\\item 188\n\\item 189\n\\item 190\n\\item 191\n\\item 192\n\\item 193\n\\item 194\n\\item 195\n\\item 196\n\\item 197\n\\item 198\n\\item 199\n\\item 200\n\\item 201\n\\item 202\n\\item 203\n\\item 204\n\\item 205\n\\item 206\n\\item 207\n\\item 208\n\\item 209\n\\item 210\n\\item 211\n\\item 212\n\\item 213\n\\item 214\n\\item 215\n\\item 216\n\\item 217\n\\item 218\n\\item 219\n\\item 220\n\\item 221\n\\item 222\n\\item 223\n\\item 224\n\\item 225\n\\item 226\n\\item 227\n\\item 228\n\\item 229\n\\item 230\n\\item 231\n\\item 232\n\\item 233\n\\item 234\n\\item 235\n\\item 236\n\\item 237\n\\item 238\n\\item 239\n\\item 240\n\\item 241\n\\item 242\n\\item 243\n\\item 244\n\\item 245\n\\item 246\n\\item 247\n\\item 248\n\\item 249\n\\item 250\n\\item 251\n\\item 252\n\\item 253\n\\item 254\n\\item 255\n\\item 256\n\\item 257\n\\item 258\n\\item 259\n\\item 260\n\\item 261\n\\item 262\n\\item 263\n\\item 264\n\\item 265\n\\item 266\n\\item 267\n\\item 268\n\\item 269\n\\item 270\n\\item 271\n\\item 272\n\\item 273\n\\item 274\n\\item 275\n\\item 276\n\\item 277\n\\item 278\n\\item 279\n\\item 280\n\\item 281\n\\item 282\n\\item 283\n\\item 284\n\\item 285\n\\item 286\n\\item 287\n\\item 288\n\\item 289\n\\item 290\n\\item 291\n\\item 292\n\\item 293\n\\item 294\n\\item 295\n\\item 296\n\\item 297\n\\item 298\n\\item 299\n\\item 300\n\\item 301\n\\item 302\n\\item 303\n\\item 304\n\\item 305\n\\item 306\n\\item 307\n\\item 308\n\\item 309\n\\item 310\n\\item 311\n\\item 312\n\\item 313\n\\item 314\n\\item 315\n\\item 316\n\\item 317\n\\item 318\n\\item 319\n\\item 320\n\\item 321\n\\item 322\n\\item 323\n\\item 324\n\\item 325\n\\item 326\n\\item 327\n\\item 328\n\\item 329\n\\item 330\n\\item 331\n\\item 332\n\\item 333\n\\item 334\n\\item 335\n\\item 336\n\\item 337\n\\item 338\n\\item 339\n\\item 340\n\\item 341\n\\item 342\n\\item 343\n\\item 344\n\\item 345\n\\item 346\n\\item 347\n\\item 348\n\\end{enumerate*}\n\n\\item \\begin{enumerate*}\n\\item 349\n\\item 350\n\\item 351\n\\item 352\n\\item 353\n\\item 354\n\\item 355\n\\item 356\n\\item 357\n\\item 358\n\\item 359\n\\item 360\n\\item 361\n\\item 362\n\\item 363\n\\item 364\n\\item 365\n\\item 366\n\\item 367\n\\item 368\n\\item 369\n\\item 370\n\\item 371\n\\item 372\n\\item 373\n\\item 374\n\\item 375\n\\item 376\n\\item 377\n\\item 378\n\\item 379\n\\item 380\n\\item 381\n\\item 382\n\\item 383\n\\item 384\n\\item 385\n\\item 386\n\\item 387\n\\item 388\n\\item 389\n\\item 390\n\\item 391\n\\item 392\n\\item 393\n\\item 394\n\\item 395\n\\item 396\n\\item 397\n\\item 398\n\\item 399\n\\item 400\n\\item 401\n\\item 402\n\\item 403\n\\item 404\n\\item 405\n\\item 406\n\\item 407\n\\item 408\n\\item 409\n\\item 410\n\\item 411\n\\item 412\n\\item 413\n\\item 414\n\\item 415\n\\item 416\n\\item 417\n\\item 418\n\\item 419\n\\item 420\n\\item 421\n\\item 422\n\\item 423\n\\item 424\n\\item 425\n\\item 426\n\\item 427\n\\item 428\n\\item 429\n\\item 430\n\\item 431\n\\item 432\n\\item 433\n\\item 434\n\\item 435\n\\item 436\n\\item 437\n\\item 438\n\\item 439\n\\item 440\n\\item 441\n\\item 442\n\\item 443\n\\item 444\n\\item 445\n\\item 446\n\\item 447\n\\item 448\n\\item 449\n\\item 450\n\\item 451\n\\item 452\n\\item 453\n\\item 454\n\\item 455\n\\item 456\n\\item 457\n\\item 458\n\\item 459\n\\item 460\n\\item 461\n\\item 462\n\\item 463\n\\item 464\n\\item 465\n\\item 466\n\\item 467\n\\item 468\n\\item 469\n\\item 470\n\\item 471\n\\item 472\n\\item 473\n\\item 474\n\\item 475\n\\item 476\n\\item 477\n\\item 478\n\\item 479\n\\item 480\n\\item 481\n\\item 482\n\\item 483\n\\item 484\n\\item 485\n\\item 486\n\\item 487\n\\item 488\n\\item 489\n\\item 490\n\\item 491\n\\item 492\n\\item 493\n\\item 494\n\\item 495\n\\item 496\n\\item 497\n\\item 498\n\\item 499\n\\item 500\n\\item 501\n\\item 502\n\\item 503\n\\item 504\n\\item 505\n\\item 506\n\\item 507\n\\item 508\n\\item 509\n\\item 510\n\\item 511\n\\item 512\n\\item 513\n\\item 514\n\\item 515\n\\item 516\n\\item 517\n\\item 518\n\\item 519\n\\item 520\n\\item 521\n\\item 522\n\\item 523\n\\item 524\n\\item 525\n\\item 526\n\\item 527\n\\item 528\n\\item 529\n\\item 530\n\\item 531\n\\item 532\n\\item 533\n\\item 534\n\\item 535\n\\item 536\n\\item 537\n\\item 538\n\\item 539\n\\item 540\n\\item 541\n\\item 542\n\\item 543\n\\item 544\n\\item 545\n\\item 546\n\\item 547\n\\item 548\n\\item 549\n\\item 550\n\\item 551\n\\item 552\n\\item 553\n\\item 554\n\\item 555\n\\item 556\n\\item 557\n\\item 558\n\\item 559\n\\item 560\n\\item 561\n\\item 562\n\\item 563\n\\item 564\n\\item 565\n\\item 566\n\\item 567\n\\item 568\n\\item 569\n\\item 570\n\\item 571\n\\item 572\n\\item 573\n\\item 574\n\\item 575\n\\item 576\n\\item 577\n\\item 578\n\\item 579\n\\item 580\n\\item 581\n\\item 582\n\\item 583\n\\item 584\n\\item 585\n\\item 586\n\\item 587\n\\item 588\n\\item 589\n\\item 590\n\\item 591\n\\item 592\n\\item 593\n\\item 594\n\\item 595\n\\item 596\n\\item 597\n\\item 598\n\\item 599\n\\item 600\n\\item 601\n\\item 602\n\\item 603\n\\item 604\n\\item 605\n\\item 606\n\\item 607\n\\item 608\n\\item 609\n\\item 610\n\\item 611\n\\item 612\n\\item 613\n\\item 614\n\\item 615\n\\item 616\n\\item 617\n\\item 618\n\\item 619\n\\item 620\n\\item 621\n\\item 622\n\\item 623\n\\item 624\n\\item 625\n\\item 626\n\\item 627\n\\item 628\n\\item 629\n\\item 630\n\\item 631\n\\item 632\n\\item 633\n\\end{enumerate*}\n\n\\item \\begin{enumerate*}\n\\item 634\n\\item 635\n\\item 636\n\\item 637\n\\item 638\n\\item 639\n\\item 640\n\\item 641\n\\item 642\n\\item 643\n\\item 644\n\\item 645\n\\item 646\n\\item 647\n\\item 648\n\\item 649\n\\item 650\n\\item 651\n\\item 652\n\\item 653\n\\item 654\n\\item 655\n\\item 656\n\\item 657\n\\item 658\n\\item 659\n\\item 660\n\\item 661\n\\item 662\n\\item 663\n\\item 664\n\\item 665\n\\item 666\n\\item 667\n\\item 668\n\\item 669\n\\item 670\n\\item 671\n\\item 672\n\\item 673\n\\item 674\n\\item 675\n\\item 676\n\\item 677\n\\item 678\n\\item 679\n\\item 680\n\\item 681\n\\item 682\n\\item 683\n\\item 684\n\\item 685\n\\item 686\n\\item 687\n\\item 688\n\\item 689\n\\item 690\n\\item 691\n\\item 692\n\\item 693\n\\item 694\n\\item 695\n\\item 696\n\\item 697\n\\item 698\n\\item 699\n\\item 700\n\\item 701\n\\item 702\n\\item 703\n\\item 704\n\\item 705\n\\item 706\n\\item 707\n\\item 708\n\\item 709\n\\item 710\n\\end{enumerate*}\n\n\\item \\begin{enumerate*}\n\\item 711\n\\item 712\n\\item 713\n\\item 714\n\\item 715\n\\item 716\n\\item 717\n\\item 718\n\\item 719\n\\item 720\n\\item 721\n\\item 722\n\\item 723\n\\item 724\n\\item 725\n\\item 726\n\\item 727\n\\item 728\n\\item 729\n\\item 730\n\\item 731\n\\item 732\n\\item 733\n\\item 734\n\\item 735\n\\item 736\n\\item 737\n\\item 738\n\\item 739\n\\item 740\n\\item 741\n\\item 742\n\\item 743\n\\item 744\n\\item 745\n\\item 746\n\\item 747\n\\item 748\n\\item 749\n\\item 750\n\\item 751\n\\item 752\n\\item 753\n\\item 754\n\\item 755\n\\item 756\n\\item 757\n\\item 758\n\\item 759\n\\item 760\n\\item 761\n\\item 762\n\\item 763\n\\item 764\n\\item 765\n\\item 766\n\\item 767\n\\item 768\n\\item 769\n\\item 770\n\\item 771\n\\item 772\n\\item 773\n\\item 774\n\\item 775\n\\item 776\n\\item 777\n\\item 778\n\\item 779\n\\item 780\n\\item 781\n\\item 782\n\\item 783\n\\item 784\n\\item 785\n\\item 786\n\\item 787\n\\item 788\n\\item 789\n\\item 790\n\\item 791\n\\item 792\n\\item 793\n\\item 794\n\\item 795\n\\item 796\n\\item 797\n\\item 798\n\\item 799\n\\item 800\n\\item 801\n\\item 802\n\\item 803\n\\item 804\n\\item 805\n\\item 806\n\\item 807\n\\item 808\n\\item 809\n\\item 810\n\\item 811\n\\item 812\n\\item 813\n\\item 814\n\\item 815\n\\item 816\n\\item 817\n\\item 818\n\\item 819\n\\item 820\n\\item 821\n\\item 822\n\\item 823\n\\item 824\n\\item 825\n\\item 826\n\\item 827\n\\item 828\n\\item 829\n\\item 830\n\\item 831\n\\item 832\n\\item 833\n\\item 834\n\\item 835\n\\item 836\n\\item 837\n\\item 838\n\\item 839\n\\item 840\n\\item 841\n\\item 842\n\\item 843\n\\item 844\n\\item 845\n\\item 846\n\\item 847\n\\item 848\n\\item 849\n\\item 850\n\\item 851\n\\item 852\n\\item 853\n\\item 854\n\\item 855\n\\item 856\n\\item 857\n\\item 858\n\\item 859\n\\item 860\n\\item 861\n\\item 862\n\\item 863\n\\item 864\n\\item 865\n\\item 866\n\\item 867\n\\item 868\n\\item 869\n\\item 870\n\\item 871\n\\item 872\n\\item 873\n\\item 874\n\\item 875\n\\item 876\n\\item 877\n\\item 878\n\\item 879\n\\item 880\n\\item 881\n\\item 882\n\\item 883\n\\item 884\n\\item 885\n\\item 886\n\\item 887\n\\item 888\n\\item 889\n\\item 890\n\\item 891\n\\item 892\n\\item 893\n\\item 894\n\\item 895\n\\item 896\n\\item 897\n\\item 898\n\\item 899\n\\item 900\n\\item 901\n\\item 902\n\\item 903\n\\item 904\n\\item 905\n\\item 906\n\\item 907\n\\item 908\n\\item 909\n\\item 910\n\\item 911\n\\item 912\n\\item 913\n\\item 914\n\\item 915\n\\item 916\n\\item 917\n\\item 918\n\\item 919\n\\item 920\n\\item 921\n\\item 922\n\\item 923\n\\item 924\n\\item 925\n\\item 926\n\\end{enumerate*}\n\n\\item \\begin{enumerate*}\n\\item 927\n\\item 928\n\\item 929\n\\item 930\n\\item 931\n\\item 932\n\\item 933\n\\item 934\n\\item 935\n\\item 936\n\\item 937\n\\item 938\n\\item 939\n\\item 940\n\\item 941\n\\item 942\n\\item 943\n\\item 944\n\\item 945\n\\item 946\n\\item 947\n\\item 948\n\\item 949\n\\item 950\n\\item 951\n\\item 952\n\\item 953\n\\item 954\n\\item 955\n\\item 956\n\\item 957\n\\item 958\n\\item 959\n\\item 960\n\\item 961\n\\item 962\n\\item 963\n\\item 964\n\\item 965\n\\item 966\n\\item 967\n\\item 968\n\\item 969\n\\item 970\n\\item 971\n\\item 972\n\\item 973\n\\item 974\n\\item 975\n\\item 976\n\\item 977\n\\item 978\n\\item 979\n\\item 980\n\\item 981\n\\item 982\n\\item 983\n\\item 984\n\\item 985\n\\item 986\n\\item 987\n\\item 988\n\\item 989\n\\item 990\n\\item 991\n\\item 992\n\\item 993\n\\item 994\n\\item 995\n\\item 996\n\\item 997\n\\item 998\n\\item 999\n\\item 1000\n\\item 1001\n\\item 1002\n\\item 1003\n\\item 1004\n\\item 1005\n\\item 1006\n\\item 1289\n\\item 1300\n\\item 1311\n\\end{enumerate*}\n\n\\item \\begin{enumerate*}\n\\item 1007\n\\item 1008\n\\item 1009\n\\item 1010\n\\item 1011\n\\item 1012\n\\item 1013\n\\item 1014\n\\item 1015\n\\item 1016\n\\item 1017\n\\item 1018\n\\item 1019\n\\item 1020\n\\item 1021\n\\item 1022\n\\item 1023\n\\item 1024\n\\item 1025\n\\item 1026\n\\item 1027\n\\item 1028\n\\item 1029\n\\item 1030\n\\item 1031\n\\item 1032\n\\item 1033\n\\item 1034\n\\item 1035\n\\item 1036\n\\item 1037\n\\item 1038\n\\item 1039\n\\item 1040\n\\item 1041\n\\item 1042\n\\item 1043\n\\item 1044\n\\item 1045\n\\item 1046\n\\item 1047\n\\item 1048\n\\item 1049\n\\item 1050\n\\item 1051\n\\item 1052\n\\item 1053\n\\item 1054\n\\item 1055\n\\item 1056\n\\item 1057\n\\item 1058\n\\item 1059\n\\item 1060\n\\item 1061\n\\item 1062\n\\item 1063\n\\item 1064\n\\item 1065\n\\item 1066\n\\item 1067\n\\item 1068\n\\item 1069\n\\item 1070\n\\item 1071\n\\item 1072\n\\item 1073\n\\item 1074\n\\item 1075\n\\item 1076\n\\item 1077\n\\item 1078\n\\item 1079\n\\item 1080\n\\item 1081\n\\item 1082\n\\item 1083\n\\item 1084\n\\item 1085\n\\item 1086\n\\item 1087\n\\item 1088\n\\item 1089\n\\item 1090\n\\item 1091\n\\item 1092\n\\item 1093\n\\item 1094\n\\item 1095\n\\item 1096\n\\item 1097\n\\item 1098\n\\item 1099\n\\item 1100\n\\item 1101\n\\item 1102\n\\item 1103\n\\item 1104\n\\item 1105\n\\item 1106\n\\item 1107\n\\item 1108\n\\item 1109\n\\item 1110\n\\item 1111\n\\item 1112\n\\item 1113\n\\item 1114\n\\item 1115\n\\item 1116\n\\item 1117\n\\item 1118\n\\item 1119\n\\item 1120\n\\item 1121\n\\item 1122\n\\item 1123\n\\item 1124\n\\item 1125\n\\item 1126\n\\item 1127\n\\item 1128\n\\item 1129\n\\item 1130\n\\item 1131\n\\item 1132\n\\item 1133\n\\item 1134\n\\item 1135\n\\item 1136\n\\item 1137\n\\item 1138\n\\item 1139\n\\item 1140\n\\item 1141\n\\item 1142\n\\item 1143\n\\item 1144\n\\item 1145\n\\item 1146\n\\item 1147\n\\item 1148\n\\item 1149\n\\item 1150\n\\item 1151\n\\item 1152\n\\item 1153\n\\item 1154\n\\item 1155\n\\item 1156\n\\item 1157\n\\item 1158\n\\item 1159\n\\item 1160\n\\item 1161\n\\item 1162\n\\item 1163\n\\item 1164\n\\item 1165\n\\item 1166\n\\item 1167\n\\item 1168\n\\item 1169\n\\item 1170\n\\item 1171\n\\item 1172\n\\item 1173\n\\item 1174\n\\item 1175\n\\item 1176\n\\item 1177\n\\item 1178\n\\item 1179\n\\item 1180\n\\item 1181\n\\item 1182\n\\item 1183\n\\item 1184\n\\item 1185\n\\item 1186\n\\item 1187\n\\item 1188\n\\item 1189\n\\item 1190\n\\item 1191\n\\item 1192\n\\item 1193\n\\item 1194\n\\item 1195\n\\item 1196\n\\item 1197\n\\item 1198\n\\item 1199\n\\item 1200\n\\item 1201\n\\item 1202\n\\item 1203\n\\item 1204\n\\item 1205\n\\item 1206\n\\item 1207\n\\item 1208\n\\item 1209\n\\item 1210\n\\item 1211\n\\item 1212\n\\item 1213\n\\item 1214\n\\item 1215\n\\item 1216\n\\item 1217\n\\item 1218\n\\item 1219\n\\item 1220\n\\item 1221\n\\item 1222\n\\item 1223\n\\item 1224\n\\item 1225\n\\item 1226\n\\item 1227\n\\item 1228\n\\item 1229\n\\item 1230\n\\item 1231\n\\item 1232\n\\item 1233\n\\item 1234\n\\item 1235\n\\item 1236\n\\item 1237\n\\item 1238\n\\item 1239\n\\item 1240\n\\item 1241\n\\item 1242\n\\item 1243\n\\item 1244\n\\item 1245\n\\item 1246\n\\item 1247\n\\item 1248\n\\item 1249\n\\item 1250\n\\item 1251\n\\item 1252\n\\item 1253\n\\item 1254\n\\item 1255\n\\item 1256\n\\item 1257\n\\item 1258\n\\item 1259\n\\item 1260\n\\item 1261\n\\item 1262\n\\item 1263\n\\item 1264\n\\item 1265\n\\item 1266\n\\end{enumerate*}\n\n\\item \\begin{enumerate*}\n\\item 942\n\\item 958\n\\item 974\n\\item 1267\n\\item 1268\n\\item 1269\n\\item 1270\n\\item 1271\n\\item 1272\n\\item 1273\n\\item 1274\n\\item 1275\n\\item 1276\n\\item 1277\n\\item 1278\n\\item 1279\n\\item 1280\n\\item 1281\n\\item 1282\n\\item 1283\n\\item 1284\n\\item 1285\n\\item 1286\n\\item 1287\n\\item 1288\n\\item 1289\n\\item 1290\n\\item 1291\n\\item 1292\n\\item 1293\n\\item 1294\n\\item 1295\n\\item 1296\n\\item 1297\n\\item 1298\n\\item 1299\n\\item 1300\n\\item 1301\n\\item 1302\n\\item 1303\n\\item 1304\n\\item 1305\n\\item 1306\n\\item 1307\n\\item 1308\n\\item 1309\n\\item 1310\n\\item 1311\n\\item 1312\n\\item 1313\n\\item 1314\n\\item 1315\n\\item 1316\n\\item 1317\n\\item 1318\n\\item 1319\n\\item 1320\n\\item 1321\n\\end{enumerate*}\n\n\\item \\begin{enumerate*}\n\\item 1322\n\\item 1323\n\\item 1324\n\\item 1325\n\\item 1326\n\\item 1327\n\\item 1328\n\\item 1329\n\\item 1330\n\\item 1331\n\\item 1332\n\\item 1333\n\\item 1334\n\\item 1335\n\\item 1336\n\\item 1337\n\\item 1338\n\\item 1339\n\\item 1340\n\\item 1341\n\\item 1342\n\\item 1343\n\\item 1344\n\\item 1345\n\\item 1346\n\\item 1347\n\\item 1348\n\\item 1349\n\\item 1350\n\\item 1351\n\\item 1352\n\\item 1353\n\\item 1354\n\\item 1355\n\\item 1356\n\\item 1357\n\\item 1358\n\\item 1359\n\\item 1360\n\\item 1361\n\\item 1362\n\\item 1363\n\\end{enumerate*}\n\n\\item \\begin{enumerate*}\n\\item 1364\n\\item 1365\n\\item 1366\n\\item 1367\n\\item 1368\n\\item 1369\n\\item 1370\n\\item 1371\n\\item 1372\n\\item 1373\n\\item 1374\n\\item 1375\n\\item 1376\n\\item 1377\n\\item 1378\n\\item 1379\n\\item 1380\n\\item 1381\n\\item 1382\n\\item 1383\n\\item 1384\n\\item 1385\n\\item 1386\n\\item 1387\n\\item 1388\n\\item 1389\n\\item 1390\n\\item 1391\n\\item 1392\n\\item 1393\n\\item 1394\n\\item 1395\n\\item 1396\n\\item 1397\n\\item 1398\n\\item 1399\n\\item 1400\n\\item 1401\n\\item 1402\n\\item 1403\n\\item 1404\n\\item 1405\n\\item 1406\n\\item 1407\n\\item 1408\n\\item 1409\n\\item 1410\n\\item 1411\n\\item 1412\n\\item 1413\n\\item 1414\n\\item 1415\n\\item 1416\n\\item 1417\n\\item 1418\n\\item 1419\n\\item 1420\n\\item 1421\n\\item 1422\n\\item 1423\n\\item 1424\n\\item 1425\n\\item 1426\n\\item 1427\n\\item 1428\n\\item 1429\n\\item 1430\n\\item 1431\n\\item 1432\n\\item 1433\n\\item 1434\n\\item 1435\n\\item 1436\n\\item 1437\n\\item 1438\n\\item 1439\n\\item 1440\n\\item 1441\n\\item 1442\n\\item 1443\n\\item 1444\n\\item 1445\n\\item 1446\n\\item 1447\n\\item 1448\n\\item 1449\n\\item 1450\n\\item 1451\n\\item 1452\n\\item 1453\n\\item 1454\n\\item 1455\n\\item 1456\n\\item 1457\n\\item 1458\n\\item 1459\n\\item 1460\n\\item 1461\n\\item 1462\n\\item 1463\n\\item 1464\n\\item 1465\n\\item 1466\n\\item 1467\n\\item 1468\n\\item 1469\n\\item 1470\n\\item 1471\n\\item 1472\n\\item 1473\n\\item 1474\n\\item 1475\n\\item 1476\n\\item 1477\n\\item 1478\n\\item 1479\n\\item 1480\n\\item 1481\n\\item 1482\n\\item 1483\n\\item 1484\n\\item 1485\n\\item 1486\n\\item 1487\n\\item 1488\n\\item 1489\n\\item 1490\n\\item 1491\n\\item 1492\n\\item 1493\n\\item 1494\n\\item 1495\n\\item 1496\n\\item 1497\n\\item 1498\n\\item 1499\n\\item 1500\n\\item 1501\n\\item 1502\n\\item 1503\n\\item 1504\n\\item 1505\n\\item 1506\n\\item 1507\n\\item 1508\n\\item 1509\n\\item 1510\n\\item 1511\n\\item 1512\n\\item 1513\n\\item 1514\n\\item 1515\n\\item 1516\n\\item 1517\n\\item 1518\n\\item 1519\n\\item 1520\n\\item 1521\n\\item 1522\n\\item 1523\n\\item 1524\n\\item 1525\n\\item 1526\n\\item 1527\n\\item 1528\n\\item 1529\n\\item 1530\n\\item 1531\n\\item 1532\n\\item 1533\n\\item 1534\n\\item 1535\n\\item 1536\n\\item 1537\n\\item 1538\n\\item 1539\n\\item 1540\n\\item 1541\n\\item 1542\n\\item 1543\n\\item 1544\n\\item 1545\n\\item 1546\n\\item 1547\n\\item 1548\n\\item 1549\n\\item 1550\n\\item 1551\n\\item 1552\n\\item 1553\n\\item 1554\n\\item 1555\n\\item 1556\n\\item 1557\n\\item 1558\n\\item 1559\n\\item 1560\n\\item 1561\n\\item 1562\n\\item 1563\n\\item 1564\n\\item 1565\n\\item 1566\n\\item 1567\n\\item 1568\n\\item 1569\n\\item 1570\n\\item 1571\n\\item 1572\n\\item 1573\n\\item 1574\n\\item 1575\n\\item 1576\n\\item 1577\n\\item 1578\n\\item 1579\n\\item 1580\n\\item 1581\n\\item 1582\n\\item 1583\n\\item 1584\n\\item 1585\n\\item 1586\n\\item 1587\n\\item 1588\n\\item 1589\n\\item 1590\n\\item 1591\n\\item 1592\n\\item 1593\n\\item 1594\n\\item 1595\n\\item 1596\n\\item 1597\n\\item 1598\n\\item 1599\n\\item 1600\n\\item 1601\n\\item 1602\n\\item 1603\n\\item 1604\n\\item 1605\n\\item 1606\n\\item 1607\n\\item 1608\n\\item 1609\n\\item 1610\n\\item 1611\n\\item 1612\n\\item 1613\n\\item 1614\n\\item 1615\n\\item 1616\n\\item 1617\n\\item 1618\n\\item 1619\n\\item 1620\n\\item 1621\n\\item 1622\n\\item 1623\n\\item 1624\n\\item 1625\n\\item 1626\n\\item 1627\n\\item 1628\n\\item 1629\n\\item 1630\n\\item 1631\n\\item 1632\n\\item 1633\n\\item 1634\n\\item 1635\n\\item 1636\n\\item 1637\n\\item 1638\n\\item 1639\n\\item 1640\n\\item 1641\n\\item 1642\n\\item 1643\n\\item 1644\n\\item 1645\n\\item 1646\n\\item 1647\n\\item 1648\n\\item 1649\n\\item 1650\n\\item 1651\n\\end{enumerate*}\n\n\\item \\begin{enumerate*}\n\\item 1652\n\\item 1653\n\\item 1654\n\\item 1655\n\\item 1656\n\\item 1657\n\\item 1658\n\\item 1659\n\\item 1660\n\\item 1661\n\\item 1662\n\\item 1663\n\\item 1664\n\\item 1665\n\\item 1666\n\\item 1667\n\\item 1668\n\\item 1669\n\\item 1670\n\\item 1671\n\\item 1672\n\\item 1673\n\\item 1674\n\\item 1675\n\\item 1676\n\\item 1677\n\\item 1678\n\\item 1679\n\\item 1680\n\\item 1681\n\\item 1682\n\\item 1683\n\\item 1684\n\\item 1685\n\\item 1686\n\\item 1687\n\\item 1688\n\\item 1689\n\\item 1690\n\\item 1691\n\\item 1692\n\\item 1693\n\\item 1694\n\\item 1695\n\\item 1696\n\\item 1697\n\\item 1698\n\\item 1699\n\\item 1700\n\\item 1701\n\\item 1702\n\\item 1703\n\\item 1704\n\\item 1705\n\\item 1706\n\\item 1707\n\\item 1708\n\\item 1709\n\\item 1710\n\\item 1711\n\\item 1712\n\\item 1713\n\\item 1714\n\\item 1715\n\\item 1716\n\\item 1717\n\\item 1718\n\\item 1719\n\\item 1720\n\\item 1721\n\\item 1722\n\\item 1723\n\\item 1724\n\\item 1725\n\\item 1726\n\\item 1727\n\\item 1728\n\\item 1729\n\\item 1730\n\\item 1731\n\\item 1732\n\\item 1733\n\\item 1734\n\\item 1735\n\\item 1736\n\\item 1737\n\\item 1738\n\\item 1739\n\\item 1740\n\\item 1741\n\\item 1742\n\\item 1743\n\\item 1744\n\\item 1745\n\\item 1746\n\\item 1747\n\\item 1748\n\\item 1749\n\\item 1750\n\\item 1751\n\\item 1752\n\\item 1753\n\\item 1754\n\\item 1755\n\\item 1756\n\\item 1757\n\\item 1758\n\\item 1759\n\\item 1760\n\\item 1761\n\\item 1762\n\\item 1763\n\\item 1764\n\\item 1765\n\\item 1766\n\\item 1767\n\\item 1768\n\\item 1769\n\\item 1770\n\\item 1771\n\\end{enumerate*}\n\n\\item \\begin{enumerate*}\n\\item 1772\n\\item 1773\n\\item 1774\n\\item 1775\n\\item 1776\n\\item 1777\n\\item 1778\n\\item 1779\n\\item 1780\n\\item 1781\n\\item 1782\n\\item 1783\n\\item 1784\n\\item 1785\n\\item 1786\n\\item 1787\n\\item 1788\n\\item 1789\n\\item 1790\n\\item 1791\n\\item 1792\n\\item 1793\n\\item 1794\n\\item 1795\n\\item 1796\n\\item 1797\n\\item 1798\n\\item 1799\n\\item 1800\n\\item 1801\n\\item 1802\n\\item 1803\n\\item 1804\n\\item 1805\n\\item 1806\n\\item 1807\n\\item 1808\n\\item 1809\n\\item 1810\n\\item 1811\n\\item 1812\n\\item 1813\n\\item 1814\n\\item 1815\n\\item 1816\n\\item 1817\n\\item 1818\n\\item 1819\n\\item 1820\n\\item 1821\n\\item 1822\n\\item 1823\n\\item 1824\n\\item 1825\n\\item 1826\n\\item 1827\n\\item 1828\n\\item 1829\n\\item 1830\n\\item 1831\n\\item 1832\n\\item 1833\n\\item 1834\n\\item 1835\n\\item 1836\n\\end{enumerate*}\n\n\\item \\begin{enumerate*}\n\\item 1837\n\\item 1838\n\\item 1839\n\\item 1840\n\\item 1841\n\\item 1842\n\\item 1843\n\\item 1844\n\\item 1845\n\\item 1846\n\\item 1847\n\\item 1848\n\\item 1849\n\\item 1850\n\\item 1851\n\\item 1852\n\\item 1853\n\\item 1854\n\\item 1855\n\\item 1856\n\\item 1857\n\\item 1858\n\\item 1859\n\\item 1860\n\\item 1861\n\\item 1862\n\\item 1863\n\\item 1864\n\\item 1865\n\\item 1866\n\\item 1867\n\\item 1868\n\\item 1869\n\\item 1870\n\\item 1871\n\\item 1872\n\\item 1873\n\\item 1874\n\\item 1875\n\\item 1876\n\\item 1877\n\\item 1878\n\\item 1879\n\\item 1880\n\\item 1881\n\\item 1882\n\\item 1883\n\\item 1884\n\\item 1885\n\\item 1886\n\\item 1887\n\\item 1888\n\\item 1889\n\\item 1890\n\\item 1891\n\\item 1892\n\\item 1893\n\\item 1894\n\\item 1895\n\\item 1896\n\\item 1897\n\\item 1898\n\\item 1899\n\\item 1900\n\\item 1901\n\\item 1902\n\\item 1903\n\\item 1904\n\\item 1905\n\\item 1906\n\\item 1907\n\\item 1908\n\\item 1909\n\\item 1910\n\\item 1911\n\\item 1912\n\\item 1913\n\\item 1914\n\\item 1915\n\\item 1916\n\\item 1917\n\\item 1918\n\\item 1919\n\\item 1920\n\\item 1921\n\\item 1922\n\\item 1923\n\\item 1924\n\\item 1925\n\\item 1926\n\\end{enumerate*}\n\n\\item \\begin{enumerate*}\n\\item 1927\n\\item 1928\n\\item 1929\n\\item 1930\n\\item 1931\n\\item 1932\n\\item 1933\n\\item 1934\n\\item 1935\n\\item 1936\n\\item 1937\n\\item 1938\n\\item 1939\n\\item 1940\n\\item 1941\n\\item 1942\n\\item 1943\n\\item 1944\n\\item 1945\n\\item 1946\n\\item 1947\n\\item 1948\n\\item 1949\n\\item 1950\n\\item 1951\n\\item 1952\n\\item 1953\n\\item 1954\n\\item 1955\n\\item 1956\n\\item 1957\n\\item 1958\n\\item 1959\n\\item 1960\n\\item 1961\n\\item 1962\n\\item 1963\n\\item 1964\n\\item 1965\n\\item 1966\n\\item 1967\n\\item 1968\n\\item 1969\n\\item 1970\n\\item 1971\n\\item 1972\n\\item 1973\n\\item 1974\n\\item 1975\n\\item 1976\n\\item 1977\n\\item 1978\n\\item 1979\n\\item 1980\n\\item 1981\n\\item 1982\n\\item 1983\n\\item 1984\n\\item 1985\n\\item 1986\n\\item 1987\n\\item 1988\n\\item 1989\n\\item 1990\n\\item 1991\n\\item 1992\n\\item 1993\n\\item 1994\n\\item 1995\n\\item 1996\n\\item 1997\n\\item 1998\n\\item 1999\n\\item 2000\n\\item 2001\n\\item 2002\n\\item 2003\n\\item 2004\n\\item 2005\n\\item 2006\n\\item 2007\n\\item 2008\n\\item 2009\n\\item 2010\n\\item 2011\n\\item 2012\n\\item 2013\n\\item 2014\n\\item 2015\n\\item 2016\n\\item 2017\n\\item 2018\n\\item 2019\n\\item 2020\n\\item 2021\n\\item 2022\n\\item 2023\n\\item 2024\n\\item 2025\n\\item 2026\n\\item 2027\n\\item 2028\n\\item 2029\n\\item 2030\n\\item 2031\n\\item 2032\n\\item 2033\n\\item 2034\n\\item 2035\n\\item 2036\n\\item 2037\n\\item 2038\n\\item 2039\n\\item 2040\n\\item 2041\n\\item 2042\n\\item 2043\n\\item 2044\n\\item 2045\n\\item 2046\n\\item 2047\n\\item 2048\n\\item 2049\n\\item 2050\n\\item 2051\n\\item 2052\n\\item 2053\n\\item 2054\n\\item 2055\n\\item 2056\n\\item 2057\n\\item 2058\n\\item 2059\n\\item 2060\n\\item 2061\n\\item 2062\n\\item 2063\n\\item 2064\n\\item 2065\n\\item 2066\n\\item 2067\n\\item 2068\n\\item 2069\n\\item 2070\n\\item 2071\n\\item 2072\n\\item 2073\n\\item 2074\n\\item 2075\n\\item 2076\n\\item 2077\n\\item 2078\n\\item 2079\n\\item 2080\n\\item 2081\n\\item 2082\n\\item 2083\n\\item 2084\n\\item 2085\n\\item 2086\n\\item 2087\n\\item 2088\n\\item 2089\n\\item 2090\n\\item 2091\n\\item 2092\n\\item 2093\n\\item 2094\n\\item 2095\n\\item 2096\n\\item 2097\n\\item 2098\n\\item 2099\n\\item 2100\n\\item 2101\n\\item 2102\n\\item 2103\n\\item 2104\n\\item 2105\n\\item 2106\n\\item 2107\n\\item 2108\n\\item 2109\n\\item 2110\n\\item 2111\n\\item 2112\n\\item 2113\n\\item 2114\n\\item 2115\n\\item 2116\n\\item 2117\n\\item 2118\n\\item 2119\n\\item 2120\n\\item 2121\n\\item 2122\n\\item 2123\n\\item 2124\n\\item 2125\n\\item 2126\n\\item ⋯\n\\item 2347\n\\item 2348\n\\item 2349\n\\item 2350\n\\item 2351\n\\item 2352\n\\item 2353\n\\item 2354\n\\item 2355\n\\item 2356\n\\item 2357\n\\item 2358\n\\item 2359\n\\item 2360\n\\item 2361\n\\item 2362\n\\item 2363\n\\item 2364\n\\item 2365\n\\item 2366\n\\item 2367\n\\item 2368\n\\item 2369\n\\item 2370\n\\item 2371\n\\item 2372\n\\item 2373\n\\item 2374\n\\item 2375\n\\item 2376\n\\item 2377\n\\item 2378\n\\item 2379\n\\item 2380\n\\item 2381\n\\item 2382\n\\item 2383\n\\item 2384\n\\item 2385\n\\item 2386\n\\item 2387\n\\item 2388\n\\item 2389\n\\item 2390\n\\item 2391\n\\item 2392\n\\item 2393\n\\item 2394\n\\item 2395\n\\item 2396\n\\item 2397\n\\item 2398\n\\item 2399\n\\item 2400\n\\item 2401\n\\item 2402\n\\item 2403\n\\item 2404\n\\item 2405\n\\item 2406\n\\item 2407\n\\item 2408\n\\item 2409\n\\item 2410\n\\item 2411\n\\item 2412\n\\item 2413\n\\item 2414\n\\item 2415\n\\item 2416\n\\item 2417\n\\item 2418\n\\item 2419\n\\item 2420\n\\item 2421\n\\item 2422\n\\item 2423\n\\item 2424\n\\item 2425\n\\item 2426\n\\item 2427\n\\item 2428\n\\item 2429\n\\item 2430\n\\item 2431\n\\item 2432\n\\item 2433\n\\item 2434\n\\item 2435\n\\item 2436\n\\item 2437\n\\item 2438\n\\item 2439\n\\item 2440\n\\item 2441\n\\item 2442\n\\item 2443\n\\item 2444\n\\item 2445\n\\item 2446\n\\item 2447\n\\item 2448\n\\item 2449\n\\item 2450\n\\item 2451\n\\item 2452\n\\item 2453\n\\item 2454\n\\item 2455\n\\item 2456\n\\item 2457\n\\item 2458\n\\item 2459\n\\item 2460\n\\item 2461\n\\item 2462\n\\item 2463\n\\item 2464\n\\item 2465\n\\item 2466\n\\item 2467\n\\item 2468\n\\item 2469\n\\item 2470\n\\item 2471\n\\item 2472\n\\item 2473\n\\item 2474\n\\item 2475\n\\item 2476\n\\item 2477\n\\item 2478\n\\item 2479\n\\item 2480\n\\item 2481\n\\item 2482\n\\item 2483\n\\item 2484\n\\item 2485\n\\item 2486\n\\item 2487\n\\item 2488\n\\item 2489\n\\item 2490\n\\item 2491\n\\item 2492\n\\item 2493\n\\item 2494\n\\item 2495\n\\item 2496\n\\item 2497\n\\item 2498\n\\item 2499\n\\item 2500\n\\item 2501\n\\item 2502\n\\item 2503\n\\item 2504\n\\item 2505\n\\item 2506\n\\item 2507\n\\item 2508\n\\item 2509\n\\item 2510\n\\item 2511\n\\item 2512\n\\item 2513\n\\item 2514\n\\item 2515\n\\item 2516\n\\item 2517\n\\item 2518\n\\item 2519\n\\item 2520\n\\item 2521\n\\item 2522\n\\item 2523\n\\item 2524\n\\item 2525\n\\item 2526\n\\item 2527\n\\item 2528\n\\item 2529\n\\item 2530\n\\item 2531\n\\item 2532\n\\item 2533\n\\item 2534\n\\item 2535\n\\item 2536\n\\item 2537\n\\item 2538\n\\item 2539\n\\item 2540\n\\item 2541\n\\item 2542\n\\item 2543\n\\item 2544\n\\item 2545\n\\item 2546\n\\end{enumerate*}\n\n\\item \\begin{enumerate*}\n\\item 2547\n\\item 2548\n\\item 2549\n\\item 2550\n\\item 2551\n\\item 2552\n\\item 2553\n\\item 2554\n\\item 2555\n\\item 2556\n\\item 2557\n\\item 2558\n\\item 2559\n\\item 2560\n\\item 2561\n\\item 2562\n\\item 2563\n\\item 2564\n\\item 2565\n\\item 2566\n\\item 2567\n\\item 2568\n\\item 2569\n\\item 2570\n\\item 2571\n\\item 2572\n\\item 2573\n\\item 2574\n\\item 2575\n\\item 2576\n\\end{enumerate*}\n\n\\item \\begin{enumerate*}\n\\item 2577\n\\item 2578\n\\item 2579\n\\item 2580\n\\item 2581\n\\item 2582\n\\item 2583\n\\item 2584\n\\item 2585\n\\item 2586\n\\item 2587\n\\item 2588\n\\item 2589\n\\item 2590\n\\item 2591\n\\item 2592\n\\item 2593\n\\item 2594\n\\item 2595\n\\item 2596\n\\item 2597\n\\item 2598\n\\item 2599\n\\item 2600\n\\item 2601\n\\item 2602\n\\item 2603\n\\item 2604\n\\item 2605\n\\item 2606\n\\item 2607\n\\item 2608\n\\item 2609\n\\item 2610\n\\item 2611\n\\item 2612\n\\item 2613\n\\item 2614\n\\item 2615\n\\item 2616\n\\item 2617\n\\item 2618\n\\item 2619\n\\item 2620\n\\item 2621\n\\item 2622\n\\item 2623\n\\item 2624\n\\item 2625\n\\item 2626\n\\item 2627\n\\item 2628\n\\item 2629\n\\item 2630\n\\item 2631\n\\item 2632\n\\item 2633\n\\item 2634\n\\item 2635\n\\item 2636\n\\item 2637\n\\item 2638\n\\item 2639\n\\item 2640\n\\item 2641\n\\item 2642\n\\item 2643\n\\item 2644\n\\item 2645\n\\item 2646\n\\item 2647\n\\item 2648\n\\item 2649\n\\item 2650\n\\item 2651\n\\item 2652\n\\item 2653\n\\item 2654\n\\item 2655\n\\item 2656\n\\item 2657\n\\item 2658\n\\item 2659\n\\item 2660\n\\item 2661\n\\item 2662\n\\item 2663\n\\item 2664\n\\item 2665\n\\item 2666\n\\end{enumerate*}\n\n\\end{enumerate}\n",
            "text/plain": [
              "Sparse geometry binary predicate list of length 16, where the predicate\n",
              "was `intersects'\n",
              "first 10 elements:\n",
              " 1: 1, 2, 3, 4, 5, 6, 7, 8, 9, 10, ...\n",
              " 2: 49, 50, 51, 52, 53, 54, 55, 56, 57, 58, ...\n",
              " 3: 349, 350, 351, 352, 353, 354, 355, 356, 357, 358, ...\n",
              " 4: 634, 635, 636, 637, 638, 639, 640, 641, 642, 643, ...\n",
              " 5: 711, 712, 713, 714, 715, 716, 717, 718, 719, 720, ...\n",
              " 6: 927, 928, 929, 930, 931, 932, 933, 934, 935, 936, ...\n",
              " 7: 1007, 1008, 1009, 1010, 1011, 1012, 1013, 1014, 1015, 1016, ...\n",
              " 8: 942, 958, 974, 1267, 1268, 1269, 1270, 1271, 1272, 1273, ...\n",
              " 9: 1322, 1323, 1324, 1325, 1326, 1327, 1328, 1329, 1330, 1331, ...\n",
              " 10: 1364, 1365, 1366, 1367, 1368, 1369, 1370, 1371, 1372, 1373, ..."
            ]
          },
          "metadata": {}
        }
      ]
    },
    {
      "cell_type": "code",
      "source": [
        "# location_island_lookup <- data.table(\n",
        "#   island = c(\"kauai\",\"oahu\",\"kauai\",\"kauai\",\"oahu\",\"molokai\",\"molokai\",\"molokai\",\"maui\",\"oahu\",\"maui\",\"kauai\",\"maui\",\"oahu\",\"maui\",\"kauai\"),\n",
        "#   location_name = c(\"anahola\",\"haleiwa\",\"hanalei\",\"huleia\",\"kahuku\",\"kakahaia\",\"kaluaapuhi\",\"kamalo\",\"kanaha\",\"kawainui\",\"kealia\",\"lumahai\",\"paukukalo\",\"pearl_harbor\",\"waihee\",\"wailua_opaekaa\"))\n"
      ],
      "metadata": {
        "id": "y_WWXT63IfTL"
      },
      "execution_count": 128,
      "outputs": []
    },
    {
      "cell_type": "code",
      "source": [
        "anahola <- rep  (\"anahola\", times = 48)            #1\n",
        "haleiwa <- rep (\"haleiwa\", times = 300)           #2\n",
        "hanalei <- rep (\"hanalei\", times = 285)           #3\n",
        "huleia <- rep (\"huleia\", times = 77)              #4\n",
        "kahuku <- rep (\"kahuku\", times = 216)             #5\n",
        "kakahaia <- rep (\"kakahaia\", times = 385)         #6\n",
        "kaluaapuhi <- rep (\"kaluaapuhi\", times = 260 )     #7\n",
        "kamalo <- rep (\"kamalo\", times = 380 )             #8\n",
        "kanaha <- rep (\"kanaha\", times = 42 )              #9\n",
        "kawainui <- rep (\"kawainui\", times = 288 )         #10\n",
        "kealia <- rep (\"kealia\", times = 120 )             #11\n",
        "lumahai <- rep (\"lumahai\", times = 65 )            #12\n",
        "paukukalo <- rep (\"paukukalo\", times = 90 )        #13\n",
        "pearl_harbor <- rep (\"pearl_harbor\", times = 620 )     #14\n",
        "waihee <- rep (\"waihee\", times = 30 )                  #15\n",
        "wailua_opaekaa <- rep (\"wailua_opaekaa\", times = 90 )  #16\n",
        "\n",
        "\n"
      ],
      "metadata": {
        "id": "a-HZM70jJkrD"
      },
      "execution_count": 144,
      "outputs": []
    },
    {
      "cell_type": "code",
      "source": [
        "match_layer_listtttt <- c(\n",
        "anahola,\n",
        "haleiwa,\n",
        "hanalei,\n",
        "huleia,\n",
        "kahuku,\n",
        "kakahaia,\n",
        "kaluaapuhi,\n",
        "kamalo,\n",
        "kanaha,\n",
        "kawainui,\n",
        "kealia,\n",
        "lumahai,\n",
        "paukukalo,\n",
        "pearl_harbor,\n",
        "waihee,\n",
        "wailua_opaekaa)"
      ],
      "metadata": {
        "id": "-2KTBWkpLBwa"
      },
      "execution_count": 146,
      "outputs": []
    },
    {
      "cell_type": "code",
      "source": [
        "match_layer_listtttt"
      ],
      "metadata": {
        "colab": {
          "base_uri": "https://localhost:8080/",
          "height": 451
        },
        "id": "WNXNcpbZLdC_",
        "outputId": "25ca43c7-03a5-4367-a233-2e76cd671d8d"
      },
      "execution_count": 147,
      "outputs": [
        {
          "output_type": "display_data",
          "data": {
            "text/html": [
              "<style>\n",
              ".list-inline {list-style: none; margin:0; padding: 0}\n",
              ".list-inline>li {display: inline-block}\n",
              ".list-inline>li:not(:last-child)::after {content: \"\\00b7\"; padding: 0 .5ex}\n",
              "</style>\n",
              "<ol class=list-inline><li>'anahola'</li><li>'anahola'</li><li>'anahola'</li><li>'anahola'</li><li>'anahola'</li><li>'anahola'</li><li>'anahola'</li><li>'anahola'</li><li>'anahola'</li><li>'anahola'</li><li>'anahola'</li><li>'anahola'</li><li>'anahola'</li><li>'anahola'</li><li>'anahola'</li><li>'anahola'</li><li>'anahola'</li><li>'anahola'</li><li>'anahola'</li><li>'anahola'</li><li>'anahola'</li><li>'anahola'</li><li>'anahola'</li><li>'anahola'</li><li>'anahola'</li><li>'anahola'</li><li>'anahola'</li><li>'anahola'</li><li>'anahola'</li><li>'anahola'</li><li>'anahola'</li><li>'anahola'</li><li>'anahola'</li><li>'anahola'</li><li>'anahola'</li><li>'anahola'</li><li>'anahola'</li><li>'anahola'</li><li>'anahola'</li><li>'anahola'</li><li>'anahola'</li><li>'anahola'</li><li>'anahola'</li><li>'anahola'</li><li>'anahola'</li><li>'anahola'</li><li>'anahola'</li><li>'anahola'</li><li>'haleiwa'</li><li>'haleiwa'</li><li>'haleiwa'</li><li>'haleiwa'</li><li>'haleiwa'</li><li>'haleiwa'</li><li>'haleiwa'</li><li>'haleiwa'</li><li>'haleiwa'</li><li>'haleiwa'</li><li>'haleiwa'</li><li>'haleiwa'</li><li>'haleiwa'</li><li>'haleiwa'</li><li>'haleiwa'</li><li>'haleiwa'</li><li>'haleiwa'</li><li>'haleiwa'</li><li>'haleiwa'</li><li>'haleiwa'</li><li>'haleiwa'</li><li>'haleiwa'</li><li>'haleiwa'</li><li>'haleiwa'</li><li>'haleiwa'</li><li>'haleiwa'</li><li>'haleiwa'</li><li>'haleiwa'</li><li>'haleiwa'</li><li>'haleiwa'</li><li>'haleiwa'</li><li>'haleiwa'</li><li>'haleiwa'</li><li>'haleiwa'</li><li>'haleiwa'</li><li>'haleiwa'</li><li>'haleiwa'</li><li>'haleiwa'</li><li>'haleiwa'</li><li>'haleiwa'</li><li>'haleiwa'</li><li>'haleiwa'</li><li>'haleiwa'</li><li>'haleiwa'</li><li>'haleiwa'</li><li>'haleiwa'</li><li>'haleiwa'</li><li>'haleiwa'</li><li>'haleiwa'</li><li>'haleiwa'</li><li>'haleiwa'</li><li>'haleiwa'</li><li>'haleiwa'</li><li>'haleiwa'</li><li>'haleiwa'</li><li>'haleiwa'</li><li>'haleiwa'</li><li>'haleiwa'</li><li>'haleiwa'</li><li>'haleiwa'</li><li>'haleiwa'</li><li>'haleiwa'</li><li>'haleiwa'</li><li>'haleiwa'</li><li>'haleiwa'</li><li>'haleiwa'</li><li>'haleiwa'</li><li>'haleiwa'</li><li>'haleiwa'</li><li>'haleiwa'</li><li>'haleiwa'</li><li>'haleiwa'</li><li>'haleiwa'</li><li>'haleiwa'</li><li>'haleiwa'</li><li>'haleiwa'</li><li>'haleiwa'</li><li>'haleiwa'</li><li>'haleiwa'</li><li>'haleiwa'</li><li>'haleiwa'</li><li>'haleiwa'</li><li>'haleiwa'</li><li>'haleiwa'</li><li>'haleiwa'</li><li>'haleiwa'</li><li>'haleiwa'</li><li>'haleiwa'</li><li>'haleiwa'</li><li>'haleiwa'</li><li>'haleiwa'</li><li>'haleiwa'</li><li>'haleiwa'</li><li>'haleiwa'</li><li>'haleiwa'</li><li>'haleiwa'</li><li>'haleiwa'</li><li>'haleiwa'</li><li>'haleiwa'</li><li>'haleiwa'</li><li>'haleiwa'</li><li>'haleiwa'</li><li>'haleiwa'</li><li>'haleiwa'</li><li>'haleiwa'</li><li>'haleiwa'</li><li>'haleiwa'</li><li>'haleiwa'</li><li>'haleiwa'</li><li>'haleiwa'</li><li>'haleiwa'</li><li>'haleiwa'</li><li>'haleiwa'</li><li>'haleiwa'</li><li>'haleiwa'</li><li>'haleiwa'</li><li>'haleiwa'</li><li>'haleiwa'</li><li>'haleiwa'</li><li>'haleiwa'</li><li>'haleiwa'</li><li>'haleiwa'</li><li>'haleiwa'</li><li>'haleiwa'</li><li>'haleiwa'</li><li>'haleiwa'</li><li>'haleiwa'</li><li>'haleiwa'</li><li>'haleiwa'</li><li>'haleiwa'</li><li>'haleiwa'</li><li>'haleiwa'</li><li>'haleiwa'</li><li>'haleiwa'</li><li>'haleiwa'</li><li>'haleiwa'</li><li>'haleiwa'</li><li>'haleiwa'</li><li>'haleiwa'</li><li>'haleiwa'</li><li>'haleiwa'</li><li>'haleiwa'</li><li>'haleiwa'</li><li>'haleiwa'</li><li>'haleiwa'</li><li>'haleiwa'</li><li>'haleiwa'</li><li>'haleiwa'</li><li>'haleiwa'</li><li>'haleiwa'</li><li>'haleiwa'</li><li>'haleiwa'</li><li>⋯</li><li>'pearl_harbor'</li><li>'pearl_harbor'</li><li>'pearl_harbor'</li><li>'pearl_harbor'</li><li>'pearl_harbor'</li><li>'pearl_harbor'</li><li>'pearl_harbor'</li><li>'pearl_harbor'</li><li>'pearl_harbor'</li><li>'pearl_harbor'</li><li>'pearl_harbor'</li><li>'pearl_harbor'</li><li>'pearl_harbor'</li><li>'pearl_harbor'</li><li>'pearl_harbor'</li><li>'pearl_harbor'</li><li>'pearl_harbor'</li><li>'pearl_harbor'</li><li>'pearl_harbor'</li><li>'pearl_harbor'</li><li>'pearl_harbor'</li><li>'pearl_harbor'</li><li>'pearl_harbor'</li><li>'pearl_harbor'</li><li>'pearl_harbor'</li><li>'pearl_harbor'</li><li>'pearl_harbor'</li><li>'pearl_harbor'</li><li>'pearl_harbor'</li><li>'pearl_harbor'</li><li>'pearl_harbor'</li><li>'pearl_harbor'</li><li>'pearl_harbor'</li><li>'pearl_harbor'</li><li>'pearl_harbor'</li><li>'pearl_harbor'</li><li>'pearl_harbor'</li><li>'pearl_harbor'</li><li>'pearl_harbor'</li><li>'pearl_harbor'</li><li>'pearl_harbor'</li><li>'pearl_harbor'</li><li>'pearl_harbor'</li><li>'pearl_harbor'</li><li>'pearl_harbor'</li><li>'pearl_harbor'</li><li>'pearl_harbor'</li><li>'pearl_harbor'</li><li>'pearl_harbor'</li><li>'pearl_harbor'</li><li>'pearl_harbor'</li><li>'pearl_harbor'</li><li>'pearl_harbor'</li><li>'pearl_harbor'</li><li>'pearl_harbor'</li><li>'pearl_harbor'</li><li>'pearl_harbor'</li><li>'pearl_harbor'</li><li>'pearl_harbor'</li><li>'pearl_harbor'</li><li>'pearl_harbor'</li><li>'pearl_harbor'</li><li>'pearl_harbor'</li><li>'pearl_harbor'</li><li>'pearl_harbor'</li><li>'pearl_harbor'</li><li>'pearl_harbor'</li><li>'pearl_harbor'</li><li>'pearl_harbor'</li><li>'pearl_harbor'</li><li>'pearl_harbor'</li><li>'pearl_harbor'</li><li>'pearl_harbor'</li><li>'pearl_harbor'</li><li>'pearl_harbor'</li><li>'pearl_harbor'</li><li>'pearl_harbor'</li><li>'pearl_harbor'</li><li>'pearl_harbor'</li><li>'pearl_harbor'</li><li>'waihee'</li><li>'waihee'</li><li>'waihee'</li><li>'waihee'</li><li>'waihee'</li><li>'waihee'</li><li>'waihee'</li><li>'waihee'</li><li>'waihee'</li><li>'waihee'</li><li>'waihee'</li><li>'waihee'</li><li>'waihee'</li><li>'waihee'</li><li>'waihee'</li><li>'waihee'</li><li>'waihee'</li><li>'waihee'</li><li>'waihee'</li><li>'waihee'</li><li>'waihee'</li><li>'waihee'</li><li>'waihee'</li><li>'waihee'</li><li>'waihee'</li><li>'waihee'</li><li>'waihee'</li><li>'waihee'</li><li>'waihee'</li><li>'waihee'</li><li>'wailua_opaekaa'</li><li>'wailua_opaekaa'</li><li>'wailua_opaekaa'</li><li>'wailua_opaekaa'</li><li>'wailua_opaekaa'</li><li>'wailua_opaekaa'</li><li>'wailua_opaekaa'</li><li>'wailua_opaekaa'</li><li>'wailua_opaekaa'</li><li>'wailua_opaekaa'</li><li>'wailua_opaekaa'</li><li>'wailua_opaekaa'</li><li>'wailua_opaekaa'</li><li>'wailua_opaekaa'</li><li>'wailua_opaekaa'</li><li>'wailua_opaekaa'</li><li>'wailua_opaekaa'</li><li>'wailua_opaekaa'</li><li>'wailua_opaekaa'</li><li>'wailua_opaekaa'</li><li>'wailua_opaekaa'</li><li>'wailua_opaekaa'</li><li>'wailua_opaekaa'</li><li>'wailua_opaekaa'</li><li>'wailua_opaekaa'</li><li>'wailua_opaekaa'</li><li>'wailua_opaekaa'</li><li>'wailua_opaekaa'</li><li>'wailua_opaekaa'</li><li>'wailua_opaekaa'</li><li>'wailua_opaekaa'</li><li>'wailua_opaekaa'</li><li>'wailua_opaekaa'</li><li>'wailua_opaekaa'</li><li>'wailua_opaekaa'</li><li>'wailua_opaekaa'</li><li>'wailua_opaekaa'</li><li>'wailua_opaekaa'</li><li>'wailua_opaekaa'</li><li>'wailua_opaekaa'</li><li>'wailua_opaekaa'</li><li>'wailua_opaekaa'</li><li>'wailua_opaekaa'</li><li>'wailua_opaekaa'</li><li>'wailua_opaekaa'</li><li>'wailua_opaekaa'</li><li>'wailua_opaekaa'</li><li>'wailua_opaekaa'</li><li>'wailua_opaekaa'</li><li>'wailua_opaekaa'</li><li>'wailua_opaekaa'</li><li>'wailua_opaekaa'</li><li>'wailua_opaekaa'</li><li>'wailua_opaekaa'</li><li>'wailua_opaekaa'</li><li>'wailua_opaekaa'</li><li>'wailua_opaekaa'</li><li>'wailua_opaekaa'</li><li>'wailua_opaekaa'</li><li>'wailua_opaekaa'</li><li>'wailua_opaekaa'</li><li>'wailua_opaekaa'</li><li>'wailua_opaekaa'</li><li>'wailua_opaekaa'</li><li>'wailua_opaekaa'</li><li>'wailua_opaekaa'</li><li>'wailua_opaekaa'</li><li>'wailua_opaekaa'</li><li>'wailua_opaekaa'</li><li>'wailua_opaekaa'</li><li>'wailua_opaekaa'</li><li>'wailua_opaekaa'</li><li>'wailua_opaekaa'</li><li>'wailua_opaekaa'</li><li>'wailua_opaekaa'</li><li>'wailua_opaekaa'</li><li>'wailua_opaekaa'</li><li>'wailua_opaekaa'</li><li>'wailua_opaekaa'</li><li>'wailua_opaekaa'</li><li>'wailua_opaekaa'</li><li>'wailua_opaekaa'</li><li>'wailua_opaekaa'</li><li>'wailua_opaekaa'</li><li>'wailua_opaekaa'</li><li>'wailua_opaekaa'</li><li>'wailua_opaekaa'</li><li>'wailua_opaekaa'</li><li>'wailua_opaekaa'</li><li>'wailua_opaekaa'</li></ol>\n"
            ],
            "text/markdown": "1. 'anahola'\n2. 'anahola'\n3. 'anahola'\n4. 'anahola'\n5. 'anahola'\n6. 'anahola'\n7. 'anahola'\n8. 'anahola'\n9. 'anahola'\n10. 'anahola'\n11. 'anahola'\n12. 'anahola'\n13. 'anahola'\n14. 'anahola'\n15. 'anahola'\n16. 'anahola'\n17. 'anahola'\n18. 'anahola'\n19. 'anahola'\n20. 'anahola'\n21. 'anahola'\n22. 'anahola'\n23. 'anahola'\n24. 'anahola'\n25. 'anahola'\n26. 'anahola'\n27. 'anahola'\n28. 'anahola'\n29. 'anahola'\n30. 'anahola'\n31. 'anahola'\n32. 'anahola'\n33. 'anahola'\n34. 'anahola'\n35. 'anahola'\n36. 'anahola'\n37. 'anahola'\n38. 'anahola'\n39. 'anahola'\n40. 'anahola'\n41. 'anahola'\n42. 'anahola'\n43. 'anahola'\n44. 'anahola'\n45. 'anahola'\n46. 'anahola'\n47. 'anahola'\n48. 'anahola'\n49. 'haleiwa'\n50. 'haleiwa'\n51. 'haleiwa'\n52. 'haleiwa'\n53. 'haleiwa'\n54. 'haleiwa'\n55. 'haleiwa'\n56. 'haleiwa'\n57. 'haleiwa'\n58. 'haleiwa'\n59. 'haleiwa'\n60. 'haleiwa'\n61. 'haleiwa'\n62. 'haleiwa'\n63. 'haleiwa'\n64. 'haleiwa'\n65. 'haleiwa'\n66. 'haleiwa'\n67. 'haleiwa'\n68. 'haleiwa'\n69. 'haleiwa'\n70. 'haleiwa'\n71. 'haleiwa'\n72. 'haleiwa'\n73. 'haleiwa'\n74. 'haleiwa'\n75. 'haleiwa'\n76. 'haleiwa'\n77. 'haleiwa'\n78. 'haleiwa'\n79. 'haleiwa'\n80. 'haleiwa'\n81. 'haleiwa'\n82. 'haleiwa'\n83. 'haleiwa'\n84. 'haleiwa'\n85. 'haleiwa'\n86. 'haleiwa'\n87. 'haleiwa'\n88. 'haleiwa'\n89. 'haleiwa'\n90. 'haleiwa'\n91. 'haleiwa'\n92. 'haleiwa'\n93. 'haleiwa'\n94. 'haleiwa'\n95. 'haleiwa'\n96. 'haleiwa'\n97. 'haleiwa'\n98. 'haleiwa'\n99. 'haleiwa'\n100. 'haleiwa'\n101. 'haleiwa'\n102. 'haleiwa'\n103. 'haleiwa'\n104. 'haleiwa'\n105. 'haleiwa'\n106. 'haleiwa'\n107. 'haleiwa'\n108. 'haleiwa'\n109. 'haleiwa'\n110. 'haleiwa'\n111. 'haleiwa'\n112. 'haleiwa'\n113. 'haleiwa'\n114. 'haleiwa'\n115. 'haleiwa'\n116. 'haleiwa'\n117. 'haleiwa'\n118. 'haleiwa'\n119. 'haleiwa'\n120. 'haleiwa'\n121. 'haleiwa'\n122. 'haleiwa'\n123. 'haleiwa'\n124. 'haleiwa'\n125. 'haleiwa'\n126. 'haleiwa'\n127. 'haleiwa'\n128. 'haleiwa'\n129. 'haleiwa'\n130. 'haleiwa'\n131. 'haleiwa'\n132. 'haleiwa'\n133. 'haleiwa'\n134. 'haleiwa'\n135. 'haleiwa'\n136. 'haleiwa'\n137. 'haleiwa'\n138. 'haleiwa'\n139. 'haleiwa'\n140. 'haleiwa'\n141. 'haleiwa'\n142. 'haleiwa'\n143. 'haleiwa'\n144. 'haleiwa'\n145. 'haleiwa'\n146. 'haleiwa'\n147. 'haleiwa'\n148. 'haleiwa'\n149. 'haleiwa'\n150. 'haleiwa'\n151. 'haleiwa'\n152. 'haleiwa'\n153. 'haleiwa'\n154. 'haleiwa'\n155. 'haleiwa'\n156. 'haleiwa'\n157. 'haleiwa'\n158. 'haleiwa'\n159. 'haleiwa'\n160. 'haleiwa'\n161. 'haleiwa'\n162. 'haleiwa'\n163. 'haleiwa'\n164. 'haleiwa'\n165. 'haleiwa'\n166. 'haleiwa'\n167. 'haleiwa'\n168. 'haleiwa'\n169. 'haleiwa'\n170. 'haleiwa'\n171. 'haleiwa'\n172. 'haleiwa'\n173. 'haleiwa'\n174. 'haleiwa'\n175. 'haleiwa'\n176. 'haleiwa'\n177. 'haleiwa'\n178. 'haleiwa'\n179. 'haleiwa'\n180. 'haleiwa'\n181. 'haleiwa'\n182. 'haleiwa'\n183. 'haleiwa'\n184. 'haleiwa'\n185. 'haleiwa'\n186. 'haleiwa'\n187. 'haleiwa'\n188. 'haleiwa'\n189. 'haleiwa'\n190. 'haleiwa'\n191. 'haleiwa'\n192. 'haleiwa'\n193. 'haleiwa'\n194. 'haleiwa'\n195. 'haleiwa'\n196. 'haleiwa'\n197. 'haleiwa'\n198. 'haleiwa'\n199. 'haleiwa'\n200. 'haleiwa'\n201. ⋯\n202. 'pearl_harbor'\n203. 'pearl_harbor'\n204. 'pearl_harbor'\n205. 'pearl_harbor'\n206. 'pearl_harbor'\n207. 'pearl_harbor'\n208. 'pearl_harbor'\n209. 'pearl_harbor'\n210. 'pearl_harbor'\n211. 'pearl_harbor'\n212. 'pearl_harbor'\n213. 'pearl_harbor'\n214. 'pearl_harbor'\n215. 'pearl_harbor'\n216. 'pearl_harbor'\n217. 'pearl_harbor'\n218. 'pearl_harbor'\n219. 'pearl_harbor'\n220. 'pearl_harbor'\n221. 'pearl_harbor'\n222. 'pearl_harbor'\n223. 'pearl_harbor'\n224. 'pearl_harbor'\n225. 'pearl_harbor'\n226. 'pearl_harbor'\n227. 'pearl_harbor'\n228. 'pearl_harbor'\n229. 'pearl_harbor'\n230. 'pearl_harbor'\n231. 'pearl_harbor'\n232. 'pearl_harbor'\n233. 'pearl_harbor'\n234. 'pearl_harbor'\n235. 'pearl_harbor'\n236. 'pearl_harbor'\n237. 'pearl_harbor'\n238. 'pearl_harbor'\n239. 'pearl_harbor'\n240. 'pearl_harbor'\n241. 'pearl_harbor'\n242. 'pearl_harbor'\n243. 'pearl_harbor'\n244. 'pearl_harbor'\n245. 'pearl_harbor'\n246. 'pearl_harbor'\n247. 'pearl_harbor'\n248. 'pearl_harbor'\n249. 'pearl_harbor'\n250. 'pearl_harbor'\n251. 'pearl_harbor'\n252. 'pearl_harbor'\n253. 'pearl_harbor'\n254. 'pearl_harbor'\n255. 'pearl_harbor'\n256. 'pearl_harbor'\n257. 'pearl_harbor'\n258. 'pearl_harbor'\n259. 'pearl_harbor'\n260. 'pearl_harbor'\n261. 'pearl_harbor'\n262. 'pearl_harbor'\n263. 'pearl_harbor'\n264. 'pearl_harbor'\n265. 'pearl_harbor'\n266. 'pearl_harbor'\n267. 'pearl_harbor'\n268. 'pearl_harbor'\n269. 'pearl_harbor'\n270. 'pearl_harbor'\n271. 'pearl_harbor'\n272. 'pearl_harbor'\n273. 'pearl_harbor'\n274. 'pearl_harbor'\n275. 'pearl_harbor'\n276. 'pearl_harbor'\n277. 'pearl_harbor'\n278. 'pearl_harbor'\n279. 'pearl_harbor'\n280. 'pearl_harbor'\n281. 'pearl_harbor'\n282. 'waihee'\n283. 'waihee'\n284. 'waihee'\n285. 'waihee'\n286. 'waihee'\n287. 'waihee'\n288. 'waihee'\n289. 'waihee'\n290. 'waihee'\n291. 'waihee'\n292. 'waihee'\n293. 'waihee'\n294. 'waihee'\n295. 'waihee'\n296. 'waihee'\n297. 'waihee'\n298. 'waihee'\n299. 'waihee'\n300. 'waihee'\n301. 'waihee'\n302. 'waihee'\n303. 'waihee'\n304. 'waihee'\n305. 'waihee'\n306. 'waihee'\n307. 'waihee'\n308. 'waihee'\n309. 'waihee'\n310. 'waihee'\n311. 'waihee'\n312. 'wailua_opaekaa'\n313. 'wailua_opaekaa'\n314. 'wailua_opaekaa'\n315. 'wailua_opaekaa'\n316. 'wailua_opaekaa'\n317. 'wailua_opaekaa'\n318. 'wailua_opaekaa'\n319. 'wailua_opaekaa'\n320. 'wailua_opaekaa'\n321. 'wailua_opaekaa'\n322. 'wailua_opaekaa'\n323. 'wailua_opaekaa'\n324. 'wailua_opaekaa'\n325. 'wailua_opaekaa'\n326. 'wailua_opaekaa'\n327. 'wailua_opaekaa'\n328. 'wailua_opaekaa'\n329. 'wailua_opaekaa'\n330. 'wailua_opaekaa'\n331. 'wailua_opaekaa'\n332. 'wailua_opaekaa'\n333. 'wailua_opaekaa'\n334. 'wailua_opaekaa'\n335. 'wailua_opaekaa'\n336. 'wailua_opaekaa'\n337. 'wailua_opaekaa'\n338. 'wailua_opaekaa'\n339. 'wailua_opaekaa'\n340. 'wailua_opaekaa'\n341. 'wailua_opaekaa'\n342. 'wailua_opaekaa'\n343. 'wailua_opaekaa'\n344. 'wailua_opaekaa'\n345. 'wailua_opaekaa'\n346. 'wailua_opaekaa'\n347. 'wailua_opaekaa'\n348. 'wailua_opaekaa'\n349. 'wailua_opaekaa'\n350. 'wailua_opaekaa'\n351. 'wailua_opaekaa'\n352. 'wailua_opaekaa'\n353. 'wailua_opaekaa'\n354. 'wailua_opaekaa'\n355. 'wailua_opaekaa'\n356. 'wailua_opaekaa'\n357. 'wailua_opaekaa'\n358. 'wailua_opaekaa'\n359. 'wailua_opaekaa'\n360. 'wailua_opaekaa'\n361. 'wailua_opaekaa'\n362. 'wailua_opaekaa'\n363. 'wailua_opaekaa'\n364. 'wailua_opaekaa'\n365. 'wailua_opaekaa'\n366. 'wailua_opaekaa'\n367. 'wailua_opaekaa'\n368. 'wailua_opaekaa'\n369. 'wailua_opaekaa'\n370. 'wailua_opaekaa'\n371. 'wailua_opaekaa'\n372. 'wailua_opaekaa'\n373. 'wailua_opaekaa'\n374. 'wailua_opaekaa'\n375. 'wailua_opaekaa'\n376. 'wailua_opaekaa'\n377. 'wailua_opaekaa'\n378. 'wailua_opaekaa'\n379. 'wailua_opaekaa'\n380. 'wailua_opaekaa'\n381. 'wailua_opaekaa'\n382. 'wailua_opaekaa'\n383. 'wailua_opaekaa'\n384. 'wailua_opaekaa'\n385. 'wailua_opaekaa'\n386. 'wailua_opaekaa'\n387. 'wailua_opaekaa'\n388. 'wailua_opaekaa'\n389. 'wailua_opaekaa'\n390. 'wailua_opaekaa'\n391. 'wailua_opaekaa'\n392. 'wailua_opaekaa'\n393. 'wailua_opaekaa'\n394. 'wailua_opaekaa'\n395. 'wailua_opaekaa'\n396. 'wailua_opaekaa'\n397. 'wailua_opaekaa'\n398. 'wailua_opaekaa'\n399. 'wailua_opaekaa'\n400. 'wailua_opaekaa'\n401. 'wailua_opaekaa'\n\n\n",
            "text/latex": "\\begin{enumerate*}\n\\item 'anahola'\n\\item 'anahola'\n\\item 'anahola'\n\\item 'anahola'\n\\item 'anahola'\n\\item 'anahola'\n\\item 'anahola'\n\\item 'anahola'\n\\item 'anahola'\n\\item 'anahola'\n\\item 'anahola'\n\\item 'anahola'\n\\item 'anahola'\n\\item 'anahola'\n\\item 'anahola'\n\\item 'anahola'\n\\item 'anahola'\n\\item 'anahola'\n\\item 'anahola'\n\\item 'anahola'\n\\item 'anahola'\n\\item 'anahola'\n\\item 'anahola'\n\\item 'anahola'\n\\item 'anahola'\n\\item 'anahola'\n\\item 'anahola'\n\\item 'anahola'\n\\item 'anahola'\n\\item 'anahola'\n\\item 'anahola'\n\\item 'anahola'\n\\item 'anahola'\n\\item 'anahola'\n\\item 'anahola'\n\\item 'anahola'\n\\item 'anahola'\n\\item 'anahola'\n\\item 'anahola'\n\\item 'anahola'\n\\item 'anahola'\n\\item 'anahola'\n\\item 'anahola'\n\\item 'anahola'\n\\item 'anahola'\n\\item 'anahola'\n\\item 'anahola'\n\\item 'anahola'\n\\item 'haleiwa'\n\\item 'haleiwa'\n\\item 'haleiwa'\n\\item 'haleiwa'\n\\item 'haleiwa'\n\\item 'haleiwa'\n\\item 'haleiwa'\n\\item 'haleiwa'\n\\item 'haleiwa'\n\\item 'haleiwa'\n\\item 'haleiwa'\n\\item 'haleiwa'\n\\item 'haleiwa'\n\\item 'haleiwa'\n\\item 'haleiwa'\n\\item 'haleiwa'\n\\item 'haleiwa'\n\\item 'haleiwa'\n\\item 'haleiwa'\n\\item 'haleiwa'\n\\item 'haleiwa'\n\\item 'haleiwa'\n\\item 'haleiwa'\n\\item 'haleiwa'\n\\item 'haleiwa'\n\\item 'haleiwa'\n\\item 'haleiwa'\n\\item 'haleiwa'\n\\item 'haleiwa'\n\\item 'haleiwa'\n\\item 'haleiwa'\n\\item 'haleiwa'\n\\item 'haleiwa'\n\\item 'haleiwa'\n\\item 'haleiwa'\n\\item 'haleiwa'\n\\item 'haleiwa'\n\\item 'haleiwa'\n\\item 'haleiwa'\n\\item 'haleiwa'\n\\item 'haleiwa'\n\\item 'haleiwa'\n\\item 'haleiwa'\n\\item 'haleiwa'\n\\item 'haleiwa'\n\\item 'haleiwa'\n\\item 'haleiwa'\n\\item 'haleiwa'\n\\item 'haleiwa'\n\\item 'haleiwa'\n\\item 'haleiwa'\n\\item 'haleiwa'\n\\item 'haleiwa'\n\\item 'haleiwa'\n\\item 'haleiwa'\n\\item 'haleiwa'\n\\item 'haleiwa'\n\\item 'haleiwa'\n\\item 'haleiwa'\n\\item 'haleiwa'\n\\item 'haleiwa'\n\\item 'haleiwa'\n\\item 'haleiwa'\n\\item 'haleiwa'\n\\item 'haleiwa'\n\\item 'haleiwa'\n\\item 'haleiwa'\n\\item 'haleiwa'\n\\item 'haleiwa'\n\\item 'haleiwa'\n\\item 'haleiwa'\n\\item 'haleiwa'\n\\item 'haleiwa'\n\\item 'haleiwa'\n\\item 'haleiwa'\n\\item 'haleiwa'\n\\item 'haleiwa'\n\\item 'haleiwa'\n\\item 'haleiwa'\n\\item 'haleiwa'\n\\item 'haleiwa'\n\\item 'haleiwa'\n\\item 'haleiwa'\n\\item 'haleiwa'\n\\item 'haleiwa'\n\\item 'haleiwa'\n\\item 'haleiwa'\n\\item 'haleiwa'\n\\item 'haleiwa'\n\\item 'haleiwa'\n\\item 'haleiwa'\n\\item 'haleiwa'\n\\item 'haleiwa'\n\\item 'haleiwa'\n\\item 'haleiwa'\n\\item 'haleiwa'\n\\item 'haleiwa'\n\\item 'haleiwa'\n\\item 'haleiwa'\n\\item 'haleiwa'\n\\item 'haleiwa'\n\\item 'haleiwa'\n\\item 'haleiwa'\n\\item 'haleiwa'\n\\item 'haleiwa'\n\\item 'haleiwa'\n\\item 'haleiwa'\n\\item 'haleiwa'\n\\item 'haleiwa'\n\\item 'haleiwa'\n\\item 'haleiwa'\n\\item 'haleiwa'\n\\item 'haleiwa'\n\\item 'haleiwa'\n\\item 'haleiwa'\n\\item 'haleiwa'\n\\item 'haleiwa'\n\\item 'haleiwa'\n\\item 'haleiwa'\n\\item 'haleiwa'\n\\item 'haleiwa'\n\\item 'haleiwa'\n\\item 'haleiwa'\n\\item 'haleiwa'\n\\item 'haleiwa'\n\\item 'haleiwa'\n\\item 'haleiwa'\n\\item 'haleiwa'\n\\item 'haleiwa'\n\\item 'haleiwa'\n\\item 'haleiwa'\n\\item 'haleiwa'\n\\item 'haleiwa'\n\\item 'haleiwa'\n\\item 'haleiwa'\n\\item 'haleiwa'\n\\item 'haleiwa'\n\\item 'haleiwa'\n\\item 'haleiwa'\n\\item 'haleiwa'\n\\item 'haleiwa'\n\\item 'haleiwa'\n\\item 'haleiwa'\n\\item 'haleiwa'\n\\item 'haleiwa'\n\\item 'haleiwa'\n\\item 'haleiwa'\n\\item 'haleiwa'\n\\item 'haleiwa'\n\\item 'haleiwa'\n\\item 'haleiwa'\n\\item 'haleiwa'\n\\item ⋯\n\\item 'pearl\\_harbor'\n\\item 'pearl\\_harbor'\n\\item 'pearl\\_harbor'\n\\item 'pearl\\_harbor'\n\\item 'pearl\\_harbor'\n\\item 'pearl\\_harbor'\n\\item 'pearl\\_harbor'\n\\item 'pearl\\_harbor'\n\\item 'pearl\\_harbor'\n\\item 'pearl\\_harbor'\n\\item 'pearl\\_harbor'\n\\item 'pearl\\_harbor'\n\\item 'pearl\\_harbor'\n\\item 'pearl\\_harbor'\n\\item 'pearl\\_harbor'\n\\item 'pearl\\_harbor'\n\\item 'pearl\\_harbor'\n\\item 'pearl\\_harbor'\n\\item 'pearl\\_harbor'\n\\item 'pearl\\_harbor'\n\\item 'pearl\\_harbor'\n\\item 'pearl\\_harbor'\n\\item 'pearl\\_harbor'\n\\item 'pearl\\_harbor'\n\\item 'pearl\\_harbor'\n\\item 'pearl\\_harbor'\n\\item 'pearl\\_harbor'\n\\item 'pearl\\_harbor'\n\\item 'pearl\\_harbor'\n\\item 'pearl\\_harbor'\n\\item 'pearl\\_harbor'\n\\item 'pearl\\_harbor'\n\\item 'pearl\\_harbor'\n\\item 'pearl\\_harbor'\n\\item 'pearl\\_harbor'\n\\item 'pearl\\_harbor'\n\\item 'pearl\\_harbor'\n\\item 'pearl\\_harbor'\n\\item 'pearl\\_harbor'\n\\item 'pearl\\_harbor'\n\\item 'pearl\\_harbor'\n\\item 'pearl\\_harbor'\n\\item 'pearl\\_harbor'\n\\item 'pearl\\_harbor'\n\\item 'pearl\\_harbor'\n\\item 'pearl\\_harbor'\n\\item 'pearl\\_harbor'\n\\item 'pearl\\_harbor'\n\\item 'pearl\\_harbor'\n\\item 'pearl\\_harbor'\n\\item 'pearl\\_harbor'\n\\item 'pearl\\_harbor'\n\\item 'pearl\\_harbor'\n\\item 'pearl\\_harbor'\n\\item 'pearl\\_harbor'\n\\item 'pearl\\_harbor'\n\\item 'pearl\\_harbor'\n\\item 'pearl\\_harbor'\n\\item 'pearl\\_harbor'\n\\item 'pearl\\_harbor'\n\\item 'pearl\\_harbor'\n\\item 'pearl\\_harbor'\n\\item 'pearl\\_harbor'\n\\item 'pearl\\_harbor'\n\\item 'pearl\\_harbor'\n\\item 'pearl\\_harbor'\n\\item 'pearl\\_harbor'\n\\item 'pearl\\_harbor'\n\\item 'pearl\\_harbor'\n\\item 'pearl\\_harbor'\n\\item 'pearl\\_harbor'\n\\item 'pearl\\_harbor'\n\\item 'pearl\\_harbor'\n\\item 'pearl\\_harbor'\n\\item 'pearl\\_harbor'\n\\item 'pearl\\_harbor'\n\\item 'pearl\\_harbor'\n\\item 'pearl\\_harbor'\n\\item 'pearl\\_harbor'\n\\item 'pearl\\_harbor'\n\\item 'waihee'\n\\item 'waihee'\n\\item 'waihee'\n\\item 'waihee'\n\\item 'waihee'\n\\item 'waihee'\n\\item 'waihee'\n\\item 'waihee'\n\\item 'waihee'\n\\item 'waihee'\n\\item 'waihee'\n\\item 'waihee'\n\\item 'waihee'\n\\item 'waihee'\n\\item 'waihee'\n\\item 'waihee'\n\\item 'waihee'\n\\item 'waihee'\n\\item 'waihee'\n\\item 'waihee'\n\\item 'waihee'\n\\item 'waihee'\n\\item 'waihee'\n\\item 'waihee'\n\\item 'waihee'\n\\item 'waihee'\n\\item 'waihee'\n\\item 'waihee'\n\\item 'waihee'\n\\item 'waihee'\n\\item 'wailua\\_opaekaa'\n\\item 'wailua\\_opaekaa'\n\\item 'wailua\\_opaekaa'\n\\item 'wailua\\_opaekaa'\n\\item 'wailua\\_opaekaa'\n\\item 'wailua\\_opaekaa'\n\\item 'wailua\\_opaekaa'\n\\item 'wailua\\_opaekaa'\n\\item 'wailua\\_opaekaa'\n\\item 'wailua\\_opaekaa'\n\\item 'wailua\\_opaekaa'\n\\item 'wailua\\_opaekaa'\n\\item 'wailua\\_opaekaa'\n\\item 'wailua\\_opaekaa'\n\\item 'wailua\\_opaekaa'\n\\item 'wailua\\_opaekaa'\n\\item 'wailua\\_opaekaa'\n\\item 'wailua\\_opaekaa'\n\\item 'wailua\\_opaekaa'\n\\item 'wailua\\_opaekaa'\n\\item 'wailua\\_opaekaa'\n\\item 'wailua\\_opaekaa'\n\\item 'wailua\\_opaekaa'\n\\item 'wailua\\_opaekaa'\n\\item 'wailua\\_opaekaa'\n\\item 'wailua\\_opaekaa'\n\\item 'wailua\\_opaekaa'\n\\item 'wailua\\_opaekaa'\n\\item 'wailua\\_opaekaa'\n\\item 'wailua\\_opaekaa'\n\\item 'wailua\\_opaekaa'\n\\item 'wailua\\_opaekaa'\n\\item 'wailua\\_opaekaa'\n\\item 'wailua\\_opaekaa'\n\\item 'wailua\\_opaekaa'\n\\item 'wailua\\_opaekaa'\n\\item 'wailua\\_opaekaa'\n\\item 'wailua\\_opaekaa'\n\\item 'wailua\\_opaekaa'\n\\item 'wailua\\_opaekaa'\n\\item 'wailua\\_opaekaa'\n\\item 'wailua\\_opaekaa'\n\\item 'wailua\\_opaekaa'\n\\item 'wailua\\_opaekaa'\n\\item 'wailua\\_opaekaa'\n\\item 'wailua\\_opaekaa'\n\\item 'wailua\\_opaekaa'\n\\item 'wailua\\_opaekaa'\n\\item 'wailua\\_opaekaa'\n\\item 'wailua\\_opaekaa'\n\\item 'wailua\\_opaekaa'\n\\item 'wailua\\_opaekaa'\n\\item 'wailua\\_opaekaa'\n\\item 'wailua\\_opaekaa'\n\\item 'wailua\\_opaekaa'\n\\item 'wailua\\_opaekaa'\n\\item 'wailua\\_opaekaa'\n\\item 'wailua\\_opaekaa'\n\\item 'wailua\\_opaekaa'\n\\item 'wailua\\_opaekaa'\n\\item 'wailua\\_opaekaa'\n\\item 'wailua\\_opaekaa'\n\\item 'wailua\\_opaekaa'\n\\item 'wailua\\_opaekaa'\n\\item 'wailua\\_opaekaa'\n\\item 'wailua\\_opaekaa'\n\\item 'wailua\\_opaekaa'\n\\item 'wailua\\_opaekaa'\n\\item 'wailua\\_opaekaa'\n\\item 'wailua\\_opaekaa'\n\\item 'wailua\\_opaekaa'\n\\item 'wailua\\_opaekaa'\n\\item 'wailua\\_opaekaa'\n\\item 'wailua\\_opaekaa'\n\\item 'wailua\\_opaekaa'\n\\item 'wailua\\_opaekaa'\n\\item 'wailua\\_opaekaa'\n\\item 'wailua\\_opaekaa'\n\\item 'wailua\\_opaekaa'\n\\item 'wailua\\_opaekaa'\n\\item 'wailua\\_opaekaa'\n\\item 'wailua\\_opaekaa'\n\\item 'wailua\\_opaekaa'\n\\item 'wailua\\_opaekaa'\n\\item 'wailua\\_opaekaa'\n\\item 'wailua\\_opaekaa'\n\\item 'wailua\\_opaekaa'\n\\item 'wailua\\_opaekaa'\n\\item 'wailua\\_opaekaa'\n\\item 'wailua\\_opaekaa'\n\\end{enumerate*}\n",
            "text/plain": [
              "   [1] \"anahola\"        \"anahola\"        \"anahola\"        \"anahola\"       \n",
              "   [5] \"anahola\"        \"anahola\"        \"anahola\"        \"anahola\"       \n",
              "   [9] \"anahola\"        \"anahola\"        \"anahola\"        \"anahola\"       \n",
              "  [13] \"anahola\"        \"anahola\"        \"anahola\"        \"anahola\"       \n",
              "  [17] \"anahola\"        \"anahola\"        \"anahola\"        \"anahola\"       \n",
              "  [21] \"anahola\"        \"anahola\"        \"anahola\"        \"anahola\"       \n",
              "  [25] \"anahola\"        \"anahola\"        \"anahola\"        \"anahola\"       \n",
              "  [29] \"anahola\"        \"anahola\"        \"anahola\"        \"anahola\"       \n",
              "  [33] \"anahola\"        \"anahola\"        \"anahola\"        \"anahola\"       \n",
              "  [37] \"anahola\"        \"anahola\"        \"anahola\"        \"anahola\"       \n",
              "  [41] \"anahola\"        \"anahola\"        \"anahola\"        \"anahola\"       \n",
              "  [45] \"anahola\"        \"anahola\"        \"anahola\"        \"anahola\"       \n",
              "  [49] \"haleiwa\"        \"haleiwa\"        \"haleiwa\"        \"haleiwa\"       \n",
              "  [53] \"haleiwa\"        \"haleiwa\"        \"haleiwa\"        \"haleiwa\"       \n",
              "  [57] \"haleiwa\"        \"haleiwa\"        \"haleiwa\"        \"haleiwa\"       \n",
              "  [61] \"haleiwa\"        \"haleiwa\"        \"haleiwa\"        \"haleiwa\"       \n",
              "  [65] \"haleiwa\"        \"haleiwa\"        \"haleiwa\"        \"haleiwa\"       \n",
              "  [69] \"haleiwa\"        \"haleiwa\"        \"haleiwa\"        \"haleiwa\"       \n",
              "  [73] \"haleiwa\"        \"haleiwa\"        \"haleiwa\"        \"haleiwa\"       \n",
              "  [77] \"haleiwa\"        \"haleiwa\"        \"haleiwa\"        \"haleiwa\"       \n",
              "  [81] \"haleiwa\"        \"haleiwa\"        \"haleiwa\"        \"haleiwa\"       \n",
              "  [85] \"haleiwa\"        \"haleiwa\"        \"haleiwa\"        \"haleiwa\"       \n",
              "  [89] \"haleiwa\"        \"haleiwa\"        \"haleiwa\"        \"haleiwa\"       \n",
              "  [93] \"haleiwa\"        \"haleiwa\"        \"haleiwa\"        \"haleiwa\"       \n",
              "  [97] \"haleiwa\"        \"haleiwa\"        \"haleiwa\"        \"haleiwa\"       \n",
              " [101] \"haleiwa\"        \"haleiwa\"        \"haleiwa\"        \"haleiwa\"       \n",
              " [105] \"haleiwa\"        \"haleiwa\"        \"haleiwa\"        \"haleiwa\"       \n",
              " [109] \"haleiwa\"        \"haleiwa\"        \"haleiwa\"        \"haleiwa\"       \n",
              " [113] \"haleiwa\"        \"haleiwa\"        \"haleiwa\"        \"haleiwa\"       \n",
              " [117] \"haleiwa\"        \"haleiwa\"        \"haleiwa\"        \"haleiwa\"       \n",
              " [121] \"haleiwa\"        \"haleiwa\"        \"haleiwa\"        \"haleiwa\"       \n",
              " [125] \"haleiwa\"        \"haleiwa\"        \"haleiwa\"        \"haleiwa\"       \n",
              " [129] \"haleiwa\"        \"haleiwa\"        \"haleiwa\"        \"haleiwa\"       \n",
              " [133] \"haleiwa\"        \"haleiwa\"        \"haleiwa\"        \"haleiwa\"       \n",
              " [137] \"haleiwa\"        \"haleiwa\"        \"haleiwa\"        \"haleiwa\"       \n",
              " [141] \"haleiwa\"        \"haleiwa\"        \"haleiwa\"        \"haleiwa\"       \n",
              " [145] \"haleiwa\"        \"haleiwa\"        \"haleiwa\"        \"haleiwa\"       \n",
              " [149] \"haleiwa\"        \"haleiwa\"        \"haleiwa\"        \"haleiwa\"       \n",
              " [153] \"haleiwa\"        \"haleiwa\"        \"haleiwa\"        \"haleiwa\"       \n",
              " [157] \"haleiwa\"        \"haleiwa\"        \"haleiwa\"        \"haleiwa\"       \n",
              " [161] \"haleiwa\"        \"haleiwa\"        \"haleiwa\"        \"haleiwa\"       \n",
              " [165] \"haleiwa\"        \"haleiwa\"        \"haleiwa\"        \"haleiwa\"       \n",
              " [169] \"haleiwa\"        \"haleiwa\"        \"haleiwa\"        \"haleiwa\"       \n",
              " [173] \"haleiwa\"        \"haleiwa\"        \"haleiwa\"        \"haleiwa\"       \n",
              " [177] \"haleiwa\"        \"haleiwa\"        \"haleiwa\"        \"haleiwa\"       \n",
              " [181] \"haleiwa\"        \"haleiwa\"        \"haleiwa\"        \"haleiwa\"       \n",
              " [185] \"haleiwa\"        \"haleiwa\"        \"haleiwa\"        \"haleiwa\"       \n",
              " [189] \"haleiwa\"        \"haleiwa\"        \"haleiwa\"        \"haleiwa\"       \n",
              " [193] \"haleiwa\"        \"haleiwa\"        \"haleiwa\"        \"haleiwa\"       \n",
              " [197] \"haleiwa\"        \"haleiwa\"        \"haleiwa\"        \"haleiwa\"       \n",
              " [201] \"haleiwa\"        \"haleiwa\"        \"haleiwa\"        \"haleiwa\"       \n",
              " [205] \"haleiwa\"        \"haleiwa\"        \"haleiwa\"        \"haleiwa\"       \n",
              " [209] \"haleiwa\"        \"haleiwa\"        \"haleiwa\"        \"haleiwa\"       \n",
              " [213] \"haleiwa\"        \"haleiwa\"        \"haleiwa\"        \"haleiwa\"       \n",
              " [217] \"haleiwa\"        \"haleiwa\"        \"haleiwa\"        \"haleiwa\"       \n",
              " [221] \"haleiwa\"        \"haleiwa\"        \"haleiwa\"        \"haleiwa\"       \n",
              " [225] \"haleiwa\"        \"haleiwa\"        \"haleiwa\"        \"haleiwa\"       \n",
              " [229] \"haleiwa\"        \"haleiwa\"        \"haleiwa\"        \"haleiwa\"       \n",
              " [233] \"haleiwa\"        \"haleiwa\"        \"haleiwa\"        \"haleiwa\"       \n",
              " [237] \"haleiwa\"        \"haleiwa\"        \"haleiwa\"        \"haleiwa\"       \n",
              " [241] \"haleiwa\"        \"haleiwa\"        \"haleiwa\"        \"haleiwa\"       \n",
              " [245] \"haleiwa\"        \"haleiwa\"        \"haleiwa\"        \"haleiwa\"       \n",
              " [249] \"haleiwa\"        \"haleiwa\"        \"haleiwa\"        \"haleiwa\"       \n",
              " [253] \"haleiwa\"        \"haleiwa\"        \"haleiwa\"        \"haleiwa\"       \n",
              " [257] \"haleiwa\"        \"haleiwa\"        \"haleiwa\"        \"haleiwa\"       \n",
              " [261] \"haleiwa\"        \"haleiwa\"        \"haleiwa\"        \"haleiwa\"       \n",
              " [265] \"haleiwa\"        \"haleiwa\"        \"haleiwa\"        \"haleiwa\"       \n",
              " [269] \"haleiwa\"        \"haleiwa\"        \"haleiwa\"        \"haleiwa\"       \n",
              " [273] \"haleiwa\"        \"haleiwa\"        \"haleiwa\"        \"haleiwa\"       \n",
              " [277] \"haleiwa\"        \"haleiwa\"        \"haleiwa\"        \"haleiwa\"       \n",
              " [281] \"haleiwa\"        \"haleiwa\"        \"haleiwa\"        \"haleiwa\"       \n",
              " [285] \"haleiwa\"        \"haleiwa\"        \"haleiwa\"        \"haleiwa\"       \n",
              " [289] \"haleiwa\"        \"haleiwa\"        \"haleiwa\"        \"haleiwa\"       \n",
              " [293] \"haleiwa\"        \"haleiwa\"        \"haleiwa\"        \"haleiwa\"       \n",
              " [297] \"haleiwa\"        \"haleiwa\"        \"haleiwa\"        \"haleiwa\"       \n",
              " [301] \"haleiwa\"        \"haleiwa\"        \"haleiwa\"        \"haleiwa\"       \n",
              " [305] \"haleiwa\"        \"haleiwa\"        \"haleiwa\"        \"haleiwa\"       \n",
              " [309] \"haleiwa\"        \"haleiwa\"        \"haleiwa\"        \"haleiwa\"       \n",
              " [313] \"haleiwa\"        \"haleiwa\"        \"haleiwa\"        \"haleiwa\"       \n",
              " [317] \"haleiwa\"        \"haleiwa\"        \"haleiwa\"        \"haleiwa\"       \n",
              " [321] \"haleiwa\"        \"haleiwa\"        \"haleiwa\"        \"haleiwa\"       \n",
              " [325] \"haleiwa\"        \"haleiwa\"        \"haleiwa\"        \"haleiwa\"       \n",
              " [329] \"haleiwa\"        \"haleiwa\"        \"haleiwa\"        \"haleiwa\"       \n",
              " [333] \"haleiwa\"        \"haleiwa\"        \"haleiwa\"        \"haleiwa\"       \n",
              " [337] \"haleiwa\"        \"haleiwa\"        \"haleiwa\"        \"haleiwa\"       \n",
              " [341] \"haleiwa\"        \"haleiwa\"        \"haleiwa\"        \"haleiwa\"       \n",
              " [345] \"haleiwa\"        \"haleiwa\"        \"haleiwa\"        \"haleiwa\"       \n",
              " [349] \"hanalei\"        \"hanalei\"        \"hanalei\"        \"hanalei\"       \n",
              " [353] \"hanalei\"        \"hanalei\"        \"hanalei\"        \"hanalei\"       \n",
              " [357] \"hanalei\"        \"hanalei\"        \"hanalei\"        \"hanalei\"       \n",
              " [361] \"hanalei\"        \"hanalei\"        \"hanalei\"        \"hanalei\"       \n",
              " [365] \"hanalei\"        \"hanalei\"        \"hanalei\"        \"hanalei\"       \n",
              " [369] \"hanalei\"        \"hanalei\"        \"hanalei\"        \"hanalei\"       \n",
              " [373] \"hanalei\"        \"hanalei\"        \"hanalei\"        \"hanalei\"       \n",
              " [377] \"hanalei\"        \"hanalei\"        \"hanalei\"        \"hanalei\"       \n",
              " [381] \"hanalei\"        \"hanalei\"        \"hanalei\"        \"hanalei\"       \n",
              " [385] \"hanalei\"        \"hanalei\"        \"hanalei\"        \"hanalei\"       \n",
              " [389] \"hanalei\"        \"hanalei\"        \"hanalei\"        \"hanalei\"       \n",
              " [393] \"hanalei\"        \"hanalei\"        \"hanalei\"        \"hanalei\"       \n",
              " [397] \"hanalei\"        \"hanalei\"        \"hanalei\"        \"hanalei\"       \n",
              " [401] \"hanalei\"        \"hanalei\"        \"hanalei\"        \"hanalei\"       \n",
              " [405] \"hanalei\"        \"hanalei\"        \"hanalei\"        \"hanalei\"       \n",
              " [409] \"hanalei\"        \"hanalei\"        \"hanalei\"        \"hanalei\"       \n",
              " [413] \"hanalei\"        \"hanalei\"        \"hanalei\"        \"hanalei\"       \n",
              " [417] \"hanalei\"        \"hanalei\"        \"hanalei\"        \"hanalei\"       \n",
              " [421] \"hanalei\"        \"hanalei\"        \"hanalei\"        \"hanalei\"       \n",
              " [425] \"hanalei\"        \"hanalei\"        \"hanalei\"        \"hanalei\"       \n",
              " [429] \"hanalei\"        \"hanalei\"        \"hanalei\"        \"hanalei\"       \n",
              " [433] \"hanalei\"        \"hanalei\"        \"hanalei\"        \"hanalei\"       \n",
              " [437] \"hanalei\"        \"hanalei\"        \"hanalei\"        \"hanalei\"       \n",
              " [441] \"hanalei\"        \"hanalei\"        \"hanalei\"        \"hanalei\"       \n",
              " [445] \"hanalei\"        \"hanalei\"        \"hanalei\"        \"hanalei\"       \n",
              " [449] \"hanalei\"        \"hanalei\"        \"hanalei\"        \"hanalei\"       \n",
              " [453] \"hanalei\"        \"hanalei\"        \"hanalei\"        \"hanalei\"       \n",
              " [457] \"hanalei\"        \"hanalei\"        \"hanalei\"        \"hanalei\"       \n",
              " [461] \"hanalei\"        \"hanalei\"        \"hanalei\"        \"hanalei\"       \n",
              " [465] \"hanalei\"        \"hanalei\"        \"hanalei\"        \"hanalei\"       \n",
              " [469] \"hanalei\"        \"hanalei\"        \"hanalei\"        \"hanalei\"       \n",
              " [473] \"hanalei\"        \"hanalei\"        \"hanalei\"        \"hanalei\"       \n",
              " [477] \"hanalei\"        \"hanalei\"        \"hanalei\"        \"hanalei\"       \n",
              " [481] \"hanalei\"        \"hanalei\"        \"hanalei\"        \"hanalei\"       \n",
              " [485] \"hanalei\"        \"hanalei\"        \"hanalei\"        \"hanalei\"       \n",
              " [489] \"hanalei\"        \"hanalei\"        \"hanalei\"        \"hanalei\"       \n",
              " [493] \"hanalei\"        \"hanalei\"        \"hanalei\"        \"hanalei\"       \n",
              " [497] \"hanalei\"        \"hanalei\"        \"hanalei\"        \"hanalei\"       \n",
              " [501] \"hanalei\"        \"hanalei\"        \"hanalei\"        \"hanalei\"       \n",
              " [505] \"hanalei\"        \"hanalei\"        \"hanalei\"        \"hanalei\"       \n",
              " [509] \"hanalei\"        \"hanalei\"        \"hanalei\"        \"hanalei\"       \n",
              " [513] \"hanalei\"        \"hanalei\"        \"hanalei\"        \"hanalei\"       \n",
              " [517] \"hanalei\"        \"hanalei\"        \"hanalei\"        \"hanalei\"       \n",
              " [521] \"hanalei\"        \"hanalei\"        \"hanalei\"        \"hanalei\"       \n",
              " [525] \"hanalei\"        \"hanalei\"        \"hanalei\"        \"hanalei\"       \n",
              " [529] \"hanalei\"        \"hanalei\"        \"hanalei\"        \"hanalei\"       \n",
              " [533] \"hanalei\"        \"hanalei\"        \"hanalei\"        \"hanalei\"       \n",
              " [537] \"hanalei\"        \"hanalei\"        \"hanalei\"        \"hanalei\"       \n",
              " [541] \"hanalei\"        \"hanalei\"        \"hanalei\"        \"hanalei\"       \n",
              " [545] \"hanalei\"        \"hanalei\"        \"hanalei\"        \"hanalei\"       \n",
              " [549] \"hanalei\"        \"hanalei\"        \"hanalei\"        \"hanalei\"       \n",
              " [553] \"hanalei\"        \"hanalei\"        \"hanalei\"        \"hanalei\"       \n",
              " [557] \"hanalei\"        \"hanalei\"        \"hanalei\"        \"hanalei\"       \n",
              " [561] \"hanalei\"        \"hanalei\"        \"hanalei\"        \"hanalei\"       \n",
              " [565] \"hanalei\"        \"hanalei\"        \"hanalei\"        \"hanalei\"       \n",
              " [569] \"hanalei\"        \"hanalei\"        \"hanalei\"        \"hanalei\"       \n",
              " [573] \"hanalei\"        \"hanalei\"        \"hanalei\"        \"hanalei\"       \n",
              " [577] \"hanalei\"        \"hanalei\"        \"hanalei\"        \"hanalei\"       \n",
              " [581] \"hanalei\"        \"hanalei\"        \"hanalei\"        \"hanalei\"       \n",
              " [585] \"hanalei\"        \"hanalei\"        \"hanalei\"        \"hanalei\"       \n",
              " [589] \"hanalei\"        \"hanalei\"        \"hanalei\"        \"hanalei\"       \n",
              " [593] \"hanalei\"        \"hanalei\"        \"hanalei\"        \"hanalei\"       \n",
              " [597] \"hanalei\"        \"hanalei\"        \"hanalei\"        \"hanalei\"       \n",
              " [601] \"hanalei\"        \"hanalei\"        \"hanalei\"        \"hanalei\"       \n",
              " [605] \"hanalei\"        \"hanalei\"        \"hanalei\"        \"hanalei\"       \n",
              " [609] \"hanalei\"        \"hanalei\"        \"hanalei\"        \"hanalei\"       \n",
              " [613] \"hanalei\"        \"hanalei\"        \"hanalei\"        \"hanalei\"       \n",
              " [617] \"hanalei\"        \"hanalei\"        \"hanalei\"        \"hanalei\"       \n",
              " [621] \"hanalei\"        \"hanalei\"        \"hanalei\"        \"hanalei\"       \n",
              " [625] \"hanalei\"        \"hanalei\"        \"hanalei\"        \"hanalei\"       \n",
              " [629] \"hanalei\"        \"hanalei\"        \"hanalei\"        \"hanalei\"       \n",
              " [633] \"hanalei\"        \"huleia\"         \"huleia\"         \"huleia\"        \n",
              " [637] \"huleia\"         \"huleia\"         \"huleia\"         \"huleia\"        \n",
              " [641] \"huleia\"         \"huleia\"         \"huleia\"         \"huleia\"        \n",
              " [645] \"huleia\"         \"huleia\"         \"huleia\"         \"huleia\"        \n",
              " [649] \"huleia\"         \"huleia\"         \"huleia\"         \"huleia\"        \n",
              " [653] \"huleia\"         \"huleia\"         \"huleia\"         \"huleia\"        \n",
              " [657] \"huleia\"         \"huleia\"         \"huleia\"         \"huleia\"        \n",
              " [661] \"huleia\"         \"huleia\"         \"huleia\"         \"huleia\"        \n",
              " [665] \"huleia\"         \"huleia\"         \"huleia\"         \"huleia\"        \n",
              " [669] \"huleia\"         \"huleia\"         \"huleia\"         \"huleia\"        \n",
              " [673] \"huleia\"         \"huleia\"         \"huleia\"         \"huleia\"        \n",
              " [677] \"huleia\"         \"huleia\"         \"huleia\"         \"huleia\"        \n",
              " [681] \"huleia\"         \"huleia\"         \"huleia\"         \"huleia\"        \n",
              " [685] \"huleia\"         \"huleia\"         \"huleia\"         \"huleia\"        \n",
              " [689] \"huleia\"         \"huleia\"         \"huleia\"         \"huleia\"        \n",
              " [693] \"huleia\"         \"huleia\"         \"huleia\"         \"huleia\"        \n",
              " [697] \"huleia\"         \"huleia\"         \"huleia\"         \"huleia\"        \n",
              " [701] \"huleia\"         \"huleia\"         \"huleia\"         \"huleia\"        \n",
              " [705] \"huleia\"         \"huleia\"         \"huleia\"         \"huleia\"        \n",
              " [709] \"huleia\"         \"huleia\"         \"kahuku\"         \"kahuku\"        \n",
              " [713] \"kahuku\"         \"kahuku\"         \"kahuku\"         \"kahuku\"        \n",
              " [717] \"kahuku\"         \"kahuku\"         \"kahuku\"         \"kahuku\"        \n",
              " [721] \"kahuku\"         \"kahuku\"         \"kahuku\"         \"kahuku\"        \n",
              " [725] \"kahuku\"         \"kahuku\"         \"kahuku\"         \"kahuku\"        \n",
              " [729] \"kahuku\"         \"kahuku\"         \"kahuku\"         \"kahuku\"        \n",
              " [733] \"kahuku\"         \"kahuku\"         \"kahuku\"         \"kahuku\"        \n",
              " [737] \"kahuku\"         \"kahuku\"         \"kahuku\"         \"kahuku\"        \n",
              " [741] \"kahuku\"         \"kahuku\"         \"kahuku\"         \"kahuku\"        \n",
              " [745] \"kahuku\"         \"kahuku\"         \"kahuku\"         \"kahuku\"        \n",
              " [749] \"kahuku\"         \"kahuku\"         \"kahuku\"         \"kahuku\"        \n",
              " [753] \"kahuku\"         \"kahuku\"         \"kahuku\"         \"kahuku\"        \n",
              " [757] \"kahuku\"         \"kahuku\"         \"kahuku\"         \"kahuku\"        \n",
              " [761] \"kahuku\"         \"kahuku\"         \"kahuku\"         \"kahuku\"        \n",
              " [765] \"kahuku\"         \"kahuku\"         \"kahuku\"         \"kahuku\"        \n",
              " [769] \"kahuku\"         \"kahuku\"         \"kahuku\"         \"kahuku\"        \n",
              " [773] \"kahuku\"         \"kahuku\"         \"kahuku\"         \"kahuku\"        \n",
              " [777] \"kahuku\"         \"kahuku\"         \"kahuku\"         \"kahuku\"        \n",
              " [781] \"kahuku\"         \"kahuku\"         \"kahuku\"         \"kahuku\"        \n",
              " [785] \"kahuku\"         \"kahuku\"         \"kahuku\"         \"kahuku\"        \n",
              " [789] \"kahuku\"         \"kahuku\"         \"kahuku\"         \"kahuku\"        \n",
              " [793] \"kahuku\"         \"kahuku\"         \"kahuku\"         \"kahuku\"        \n",
              " [797] \"kahuku\"         \"kahuku\"         \"kahuku\"         \"kahuku\"        \n",
              " [801] \"kahuku\"         \"kahuku\"         \"kahuku\"         \"kahuku\"        \n",
              " [805] \"kahuku\"         \"kahuku\"         \"kahuku\"         \"kahuku\"        \n",
              " [809] \"kahuku\"         \"kahuku\"         \"kahuku\"         \"kahuku\"        \n",
              " [813] \"kahuku\"         \"kahuku\"         \"kahuku\"         \"kahuku\"        \n",
              " [817] \"kahuku\"         \"kahuku\"         \"kahuku\"         \"kahuku\"        \n",
              " [821] \"kahuku\"         \"kahuku\"         \"kahuku\"         \"kahuku\"        \n",
              " [825] \"kahuku\"         \"kahuku\"         \"kahuku\"         \"kahuku\"        \n",
              " [829] \"kahuku\"         \"kahuku\"         \"kahuku\"         \"kahuku\"        \n",
              " [833] \"kahuku\"         \"kahuku\"         \"kahuku\"         \"kahuku\"        \n",
              " [837] \"kahuku\"         \"kahuku\"         \"kahuku\"         \"kahuku\"        \n",
              " [841] \"kahuku\"         \"kahuku\"         \"kahuku\"         \"kahuku\"        \n",
              " [845] \"kahuku\"         \"kahuku\"         \"kahuku\"         \"kahuku\"        \n",
              " [849] \"kahuku\"         \"kahuku\"         \"kahuku\"         \"kahuku\"        \n",
              " [853] \"kahuku\"         \"kahuku\"         \"kahuku\"         \"kahuku\"        \n",
              " [857] \"kahuku\"         \"kahuku\"         \"kahuku\"         \"kahuku\"        \n",
              " [861] \"kahuku\"         \"kahuku\"         \"kahuku\"         \"kahuku\"        \n",
              " [865] \"kahuku\"         \"kahuku\"         \"kahuku\"         \"kahuku\"        \n",
              " [869] \"kahuku\"         \"kahuku\"         \"kahuku\"         \"kahuku\"        \n",
              " [873] \"kahuku\"         \"kahuku\"         \"kahuku\"         \"kahuku\"        \n",
              " [877] \"kahuku\"         \"kahuku\"         \"kahuku\"         \"kahuku\"        \n",
              " [881] \"kahuku\"         \"kahuku\"         \"kahuku\"         \"kahuku\"        \n",
              " [885] \"kahuku\"         \"kahuku\"         \"kahuku\"         \"kahuku\"        \n",
              " [889] \"kahuku\"         \"kahuku\"         \"kahuku\"         \"kahuku\"        \n",
              " [893] \"kahuku\"         \"kahuku\"         \"kahuku\"         \"kahuku\"        \n",
              " [897] \"kahuku\"         \"kahuku\"         \"kahuku\"         \"kahuku\"        \n",
              " [901] \"kahuku\"         \"kahuku\"         \"kahuku\"         \"kahuku\"        \n",
              " [905] \"kahuku\"         \"kahuku\"         \"kahuku\"         \"kahuku\"        \n",
              " [909] \"kahuku\"         \"kahuku\"         \"kahuku\"         \"kahuku\"        \n",
              " [913] \"kahuku\"         \"kahuku\"         \"kahuku\"         \"kahuku\"        \n",
              " [917] \"kahuku\"         \"kahuku\"         \"kahuku\"         \"kahuku\"        \n",
              " [921] \"kahuku\"         \"kahuku\"         \"kahuku\"         \"kahuku\"        \n",
              " [925] \"kahuku\"         \"kahuku\"         \"kakahaia\"       \"kakahaia\"      \n",
              " [929] \"kakahaia\"       \"kakahaia\"       \"kakahaia\"       \"kakahaia\"      \n",
              " [933] \"kakahaia\"       \"kakahaia\"       \"kakahaia\"       \"kakahaia\"      \n",
              " [937] \"kakahaia\"       \"kakahaia\"       \"kakahaia\"       \"kakahaia\"      \n",
              " [941] \"kakahaia\"       \"kakahaia\"       \"kakahaia\"       \"kakahaia\"      \n",
              " [945] \"kakahaia\"       \"kakahaia\"       \"kakahaia\"       \"kakahaia\"      \n",
              " [949] \"kakahaia\"       \"kakahaia\"       \"kakahaia\"       \"kakahaia\"      \n",
              " [953] \"kakahaia\"       \"kakahaia\"       \"kakahaia\"       \"kakahaia\"      \n",
              " [957] \"kakahaia\"       \"kakahaia\"       \"kakahaia\"       \"kakahaia\"      \n",
              " [961] \"kakahaia\"       \"kakahaia\"       \"kakahaia\"       \"kakahaia\"      \n",
              " [965] \"kakahaia\"       \"kakahaia\"       \"kakahaia\"       \"kakahaia\"      \n",
              " [969] \"kakahaia\"       \"kakahaia\"       \"kakahaia\"       \"kakahaia\"      \n",
              " [973] \"kakahaia\"       \"kakahaia\"       \"kakahaia\"       \"kakahaia\"      \n",
              " [977] \"kakahaia\"       \"kakahaia\"       \"kakahaia\"       \"kakahaia\"      \n",
              " [981] \"kakahaia\"       \"kakahaia\"       \"kakahaia\"       \"kakahaia\"      \n",
              " [985] \"kakahaia\"       \"kakahaia\"       \"kakahaia\"       \"kakahaia\"      \n",
              " [989] \"kakahaia\"       \"kakahaia\"       \"kakahaia\"       \"kakahaia\"      \n",
              " [993] \"kakahaia\"       \"kakahaia\"       \"kakahaia\"       \"kakahaia\"      \n",
              " [997] \"kakahaia\"       \"kakahaia\"       \"kakahaia\"       \"kakahaia\"      \n",
              "[1001] \"kakahaia\"       \"kakahaia\"       \"kakahaia\"       \"kakahaia\"      \n",
              "[1005] \"kakahaia\"       \"kakahaia\"       \"kakahaia\"       \"kakahaia\"      \n",
              "[1009] \"kakahaia\"       \"kakahaia\"       \"kakahaia\"       \"kakahaia\"      \n",
              "[1013] \"kakahaia\"       \"kakahaia\"       \"kakahaia\"       \"kakahaia\"      \n",
              "[1017] \"kakahaia\"       \"kakahaia\"       \"kakahaia\"       \"kakahaia\"      \n",
              "[1021] \"kakahaia\"       \"kakahaia\"       \"kakahaia\"       \"kakahaia\"      \n",
              "[1025] \"kakahaia\"       \"kakahaia\"       \"kakahaia\"       \"kakahaia\"      \n",
              "[1029] \"kakahaia\"       \"kakahaia\"       \"kakahaia\"       \"kakahaia\"      \n",
              "[1033] \"kakahaia\"       \"kakahaia\"       \"kakahaia\"       \"kakahaia\"      \n",
              "[1037] \"kakahaia\"       \"kakahaia\"       \"kakahaia\"       \"kakahaia\"      \n",
              "[1041] \"kakahaia\"       \"kakahaia\"       \"kakahaia\"       \"kakahaia\"      \n",
              "[1045] \"kakahaia\"       \"kakahaia\"       \"kakahaia\"       \"kakahaia\"      \n",
              "[1049] \"kakahaia\"       \"kakahaia\"       \"kakahaia\"       \"kakahaia\"      \n",
              "[1053] \"kakahaia\"       \"kakahaia\"       \"kakahaia\"       \"kakahaia\"      \n",
              "[1057] \"kakahaia\"       \"kakahaia\"       \"kakahaia\"       \"kakahaia\"      \n",
              "[1061] \"kakahaia\"       \"kakahaia\"       \"kakahaia\"       \"kakahaia\"      \n",
              "[1065] \"kakahaia\"       \"kakahaia\"       \"kakahaia\"       \"kakahaia\"      \n",
              "[1069] \"kakahaia\"       \"kakahaia\"       \"kakahaia\"       \"kakahaia\"      \n",
              "[1073] \"kakahaia\"       \"kakahaia\"       \"kakahaia\"       \"kakahaia\"      \n",
              "[1077] \"kakahaia\"       \"kakahaia\"       \"kakahaia\"       \"kakahaia\"      \n",
              "[1081] \"kakahaia\"       \"kakahaia\"       \"kakahaia\"       \"kakahaia\"      \n",
              "[1085] \"kakahaia\"       \"kakahaia\"       \"kakahaia\"       \"kakahaia\"      \n",
              "[1089] \"kakahaia\"       \"kakahaia\"       \"kakahaia\"       \"kakahaia\"      \n",
              "[1093] \"kakahaia\"       \"kakahaia\"       \"kakahaia\"       \"kakahaia\"      \n",
              "[1097] \"kakahaia\"       \"kakahaia\"       \"kakahaia\"       \"kakahaia\"      \n",
              "[1101] \"kakahaia\"       \"kakahaia\"       \"kakahaia\"       \"kakahaia\"      \n",
              "[1105] \"kakahaia\"       \"kakahaia\"       \"kakahaia\"       \"kakahaia\"      \n",
              "[1109] \"kakahaia\"       \"kakahaia\"       \"kakahaia\"       \"kakahaia\"      \n",
              "[1113] \"kakahaia\"       \"kakahaia\"       \"kakahaia\"       \"kakahaia\"      \n",
              "[1117] \"kakahaia\"       \"kakahaia\"       \"kakahaia\"       \"kakahaia\"      \n",
              "[1121] \"kakahaia\"       \"kakahaia\"       \"kakahaia\"       \"kakahaia\"      \n",
              "[1125] \"kakahaia\"       \"kakahaia\"       \"kakahaia\"       \"kakahaia\"      \n",
              "[1129] \"kakahaia\"       \"kakahaia\"       \"kakahaia\"       \"kakahaia\"      \n",
              "[1133] \"kakahaia\"       \"kakahaia\"       \"kakahaia\"       \"kakahaia\"      \n",
              "[1137] \"kakahaia\"       \"kakahaia\"       \"kakahaia\"       \"kakahaia\"      \n",
              "[1141] \"kakahaia\"       \"kakahaia\"       \"kakahaia\"       \"kakahaia\"      \n",
              "[1145] \"kakahaia\"       \"kakahaia\"       \"kakahaia\"       \"kakahaia\"      \n",
              "[1149] \"kakahaia\"       \"kakahaia\"       \"kakahaia\"       \"kakahaia\"      \n",
              "[1153] \"kakahaia\"       \"kakahaia\"       \"kakahaia\"       \"kakahaia\"      \n",
              "[1157] \"kakahaia\"       \"kakahaia\"       \"kakahaia\"       \"kakahaia\"      \n",
              "[1161] \"kakahaia\"       \"kakahaia\"       \"kakahaia\"       \"kakahaia\"      \n",
              "[1165] \"kakahaia\"       \"kakahaia\"       \"kakahaia\"       \"kakahaia\"      \n",
              "[1169] \"kakahaia\"       \"kakahaia\"       \"kakahaia\"       \"kakahaia\"      \n",
              "[1173] \"kakahaia\"       \"kakahaia\"       \"kakahaia\"       \"kakahaia\"      \n",
              "[1177] \"kakahaia\"       \"kakahaia\"       \"kakahaia\"       \"kakahaia\"      \n",
              "[1181] \"kakahaia\"       \"kakahaia\"       \"kakahaia\"       \"kakahaia\"      \n",
              "[1185] \"kakahaia\"       \"kakahaia\"       \"kakahaia\"       \"kakahaia\"      \n",
              "[1189] \"kakahaia\"       \"kakahaia\"       \"kakahaia\"       \"kakahaia\"      \n",
              "[1193] \"kakahaia\"       \"kakahaia\"       \"kakahaia\"       \"kakahaia\"      \n",
              "[1197] \"kakahaia\"       \"kakahaia\"       \"kakahaia\"       \"kakahaia\"      \n",
              "[1201] \"kakahaia\"       \"kakahaia\"       \"kakahaia\"       \"kakahaia\"      \n",
              "[1205] \"kakahaia\"       \"kakahaia\"       \"kakahaia\"       \"kakahaia\"      \n",
              "[1209] \"kakahaia\"       \"kakahaia\"       \"kakahaia\"       \"kakahaia\"      \n",
              "[1213] \"kakahaia\"       \"kakahaia\"       \"kakahaia\"       \"kakahaia\"      \n",
              "[1217] \"kakahaia\"       \"kakahaia\"       \"kakahaia\"       \"kakahaia\"      \n",
              "[1221] \"kakahaia\"       \"kakahaia\"       \"kakahaia\"       \"kakahaia\"      \n",
              "[1225] \"kakahaia\"       \"kakahaia\"       \"kakahaia\"       \"kakahaia\"      \n",
              "[1229] \"kakahaia\"       \"kakahaia\"       \"kakahaia\"       \"kakahaia\"      \n",
              "[1233] \"kakahaia\"       \"kakahaia\"       \"kakahaia\"       \"kakahaia\"      \n",
              "[1237] \"kakahaia\"       \"kakahaia\"       \"kakahaia\"       \"kakahaia\"      \n",
              "[1241] \"kakahaia\"       \"kakahaia\"       \"kakahaia\"       \"kakahaia\"      \n",
              "[1245] \"kakahaia\"       \"kakahaia\"       \"kakahaia\"       \"kakahaia\"      \n",
              "[1249] \"kakahaia\"       \"kakahaia\"       \"kakahaia\"       \"kakahaia\"      \n",
              "[1253] \"kakahaia\"       \"kakahaia\"       \"kakahaia\"       \"kakahaia\"      \n",
              "[1257] \"kakahaia\"       \"kakahaia\"       \"kakahaia\"       \"kakahaia\"      \n",
              "[1261] \"kakahaia\"       \"kakahaia\"       \"kakahaia\"       \"kakahaia\"      \n",
              "[1265] \"kakahaia\"       \"kakahaia\"       \"kakahaia\"       \"kakahaia\"      \n",
              "[1269] \"kakahaia\"       \"kakahaia\"       \"kakahaia\"       \"kakahaia\"      \n",
              "[1273] \"kakahaia\"       \"kakahaia\"       \"kakahaia\"       \"kakahaia\"      \n",
              "[1277] \"kakahaia\"       \"kakahaia\"       \"kakahaia\"       \"kakahaia\"      \n",
              "[1281] \"kakahaia\"       \"kakahaia\"       \"kakahaia\"       \"kakahaia\"      \n",
              "[1285] \"kakahaia\"       \"kakahaia\"       \"kakahaia\"       \"kakahaia\"      \n",
              "[1289] \"kakahaia\"       \"kakahaia\"       \"kakahaia\"       \"kakahaia\"      \n",
              "[1293] \"kakahaia\"       \"kakahaia\"       \"kakahaia\"       \"kakahaia\"      \n",
              "[1297] \"kakahaia\"       \"kakahaia\"       \"kakahaia\"       \"kakahaia\"      \n",
              "[1301] \"kakahaia\"       \"kakahaia\"       \"kakahaia\"       \"kakahaia\"      \n",
              "[1305] \"kakahaia\"       \"kakahaia\"       \"kakahaia\"       \"kakahaia\"      \n",
              "[1309] \"kakahaia\"       \"kakahaia\"       \"kakahaia\"       \"kaluaapuhi\"    \n",
              "[1313] \"kaluaapuhi\"     \"kaluaapuhi\"     \"kaluaapuhi\"     \"kaluaapuhi\"    \n",
              "[1317] \"kaluaapuhi\"     \"kaluaapuhi\"     \"kaluaapuhi\"     \"kaluaapuhi\"    \n",
              "[1321] \"kaluaapuhi\"     \"kaluaapuhi\"     \"kaluaapuhi\"     \"kaluaapuhi\"    \n",
              "[1325] \"kaluaapuhi\"     \"kaluaapuhi\"     \"kaluaapuhi\"     \"kaluaapuhi\"    \n",
              "[1329] \"kaluaapuhi\"     \"kaluaapuhi\"     \"kaluaapuhi\"     \"kaluaapuhi\"    \n",
              "[1333] \"kaluaapuhi\"     \"kaluaapuhi\"     \"kaluaapuhi\"     \"kaluaapuhi\"    \n",
              "[1337] \"kaluaapuhi\"     \"kaluaapuhi\"     \"kaluaapuhi\"     \"kaluaapuhi\"    \n",
              "[1341] \"kaluaapuhi\"     \"kaluaapuhi\"     \"kaluaapuhi\"     \"kaluaapuhi\"    \n",
              "[1345] \"kaluaapuhi\"     \"kaluaapuhi\"     \"kaluaapuhi\"     \"kaluaapuhi\"    \n",
              "[1349] \"kaluaapuhi\"     \"kaluaapuhi\"     \"kaluaapuhi\"     \"kaluaapuhi\"    \n",
              "[1353] \"kaluaapuhi\"     \"kaluaapuhi\"     \"kaluaapuhi\"     \"kaluaapuhi\"    \n",
              "[1357] \"kaluaapuhi\"     \"kaluaapuhi\"     \"kaluaapuhi\"     \"kaluaapuhi\"    \n",
              "[1361] \"kaluaapuhi\"     \"kaluaapuhi\"     \"kaluaapuhi\"     \"kaluaapuhi\"    \n",
              "[1365] \"kaluaapuhi\"     \"kaluaapuhi\"     \"kaluaapuhi\"     \"kaluaapuhi\"    \n",
              "[1369] \"kaluaapuhi\"     \"kaluaapuhi\"     \"kaluaapuhi\"     \"kaluaapuhi\"    \n",
              "[1373] \"kaluaapuhi\"     \"kaluaapuhi\"     \"kaluaapuhi\"     \"kaluaapuhi\"    \n",
              "[1377] \"kaluaapuhi\"     \"kaluaapuhi\"     \"kaluaapuhi\"     \"kaluaapuhi\"    \n",
              "[1381] \"kaluaapuhi\"     \"kaluaapuhi\"     \"kaluaapuhi\"     \"kaluaapuhi\"    \n",
              "[1385] \"kaluaapuhi\"     \"kaluaapuhi\"     \"kaluaapuhi\"     \"kaluaapuhi\"    \n",
              "[1389] \"kaluaapuhi\"     \"kaluaapuhi\"     \"kaluaapuhi\"     \"kaluaapuhi\"    \n",
              "[1393] \"kaluaapuhi\"     \"kaluaapuhi\"     \"kaluaapuhi\"     \"kaluaapuhi\"    \n",
              "[1397] \"kaluaapuhi\"     \"kaluaapuhi\"     \"kaluaapuhi\"     \"kaluaapuhi\"    \n",
              "[1401] \"kaluaapuhi\"     \"kaluaapuhi\"     \"kaluaapuhi\"     \"kaluaapuhi\"    \n",
              "[1405] \"kaluaapuhi\"     \"kaluaapuhi\"     \"kaluaapuhi\"     \"kaluaapuhi\"    \n",
              "[1409] \"kaluaapuhi\"     \"kaluaapuhi\"     \"kaluaapuhi\"     \"kaluaapuhi\"    \n",
              "[1413] \"kaluaapuhi\"     \"kaluaapuhi\"     \"kaluaapuhi\"     \"kaluaapuhi\"    \n",
              "[1417] \"kaluaapuhi\"     \"kaluaapuhi\"     \"kaluaapuhi\"     \"kaluaapuhi\"    \n",
              "[1421] \"kaluaapuhi\"     \"kaluaapuhi\"     \"kaluaapuhi\"     \"kaluaapuhi\"    \n",
              "[1425] \"kaluaapuhi\"     \"kaluaapuhi\"     \"kaluaapuhi\"     \"kaluaapuhi\"    \n",
              "[1429] \"kaluaapuhi\"     \"kaluaapuhi\"     \"kaluaapuhi\"     \"kaluaapuhi\"    \n",
              "[1433] \"kaluaapuhi\"     \"kaluaapuhi\"     \"kaluaapuhi\"     \"kaluaapuhi\"    \n",
              "[1437] \"kaluaapuhi\"     \"kaluaapuhi\"     \"kaluaapuhi\"     \"kaluaapuhi\"    \n",
              "[1441] \"kaluaapuhi\"     \"kaluaapuhi\"     \"kaluaapuhi\"     \"kaluaapuhi\"    \n",
              "[1445] \"kaluaapuhi\"     \"kaluaapuhi\"     \"kaluaapuhi\"     \"kaluaapuhi\"    \n",
              "[1449] \"kaluaapuhi\"     \"kaluaapuhi\"     \"kaluaapuhi\"     \"kaluaapuhi\"    \n",
              "[1453] \"kaluaapuhi\"     \"kaluaapuhi\"     \"kaluaapuhi\"     \"kaluaapuhi\"    \n",
              "[1457] \"kaluaapuhi\"     \"kaluaapuhi\"     \"kaluaapuhi\"     \"kaluaapuhi\"    \n",
              "[1461] \"kaluaapuhi\"     \"kaluaapuhi\"     \"kaluaapuhi\"     \"kaluaapuhi\"    \n",
              "[1465] \"kaluaapuhi\"     \"kaluaapuhi\"     \"kaluaapuhi\"     \"kaluaapuhi\"    \n",
              "[1469] \"kaluaapuhi\"     \"kaluaapuhi\"     \"kaluaapuhi\"     \"kaluaapuhi\"    \n",
              "[1473] \"kaluaapuhi\"     \"kaluaapuhi\"     \"kaluaapuhi\"     \"kaluaapuhi\"    \n",
              "[1477] \"kaluaapuhi\"     \"kaluaapuhi\"     \"kaluaapuhi\"     \"kaluaapuhi\"    \n",
              "[1481] \"kaluaapuhi\"     \"kaluaapuhi\"     \"kaluaapuhi\"     \"kaluaapuhi\"    \n",
              "[1485] \"kaluaapuhi\"     \"kaluaapuhi\"     \"kaluaapuhi\"     \"kaluaapuhi\"    \n",
              "[1489] \"kaluaapuhi\"     \"kaluaapuhi\"     \"kaluaapuhi\"     \"kaluaapuhi\"    \n",
              "[1493] \"kaluaapuhi\"     \"kaluaapuhi\"     \"kaluaapuhi\"     \"kaluaapuhi\"    \n",
              "[1497] \"kaluaapuhi\"     \"kaluaapuhi\"     \"kaluaapuhi\"     \"kaluaapuhi\"    \n",
              "[1501] \"kaluaapuhi\"     \"kaluaapuhi\"     \"kaluaapuhi\"     \"kaluaapuhi\"    \n",
              "[1505] \"kaluaapuhi\"     \"kaluaapuhi\"     \"kaluaapuhi\"     \"kaluaapuhi\"    \n",
              "[1509] \"kaluaapuhi\"     \"kaluaapuhi\"     \"kaluaapuhi\"     \"kaluaapuhi\"    \n",
              "[1513] \"kaluaapuhi\"     \"kaluaapuhi\"     \"kaluaapuhi\"     \"kaluaapuhi\"    \n",
              "[1517] \"kaluaapuhi\"     \"kaluaapuhi\"     \"kaluaapuhi\"     \"kaluaapuhi\"    \n",
              "[1521] \"kaluaapuhi\"     \"kaluaapuhi\"     \"kaluaapuhi\"     \"kaluaapuhi\"    \n",
              "[1525] \"kaluaapuhi\"     \"kaluaapuhi\"     \"kaluaapuhi\"     \"kaluaapuhi\"    \n",
              "[1529] \"kaluaapuhi\"     \"kaluaapuhi\"     \"kaluaapuhi\"     \"kaluaapuhi\"    \n",
              "[1533] \"kaluaapuhi\"     \"kaluaapuhi\"     \"kaluaapuhi\"     \"kaluaapuhi\"    \n",
              "[1537] \"kaluaapuhi\"     \"kaluaapuhi\"     \"kaluaapuhi\"     \"kaluaapuhi\"    \n",
              "[1541] \"kaluaapuhi\"     \"kaluaapuhi\"     \"kaluaapuhi\"     \"kaluaapuhi\"    \n",
              "[1545] \"kaluaapuhi\"     \"kaluaapuhi\"     \"kaluaapuhi\"     \"kaluaapuhi\"    \n",
              "[1549] \"kaluaapuhi\"     \"kaluaapuhi\"     \"kaluaapuhi\"     \"kaluaapuhi\"    \n",
              "[1553] \"kaluaapuhi\"     \"kaluaapuhi\"     \"kaluaapuhi\"     \"kaluaapuhi\"    \n",
              "[1557] \"kaluaapuhi\"     \"kaluaapuhi\"     \"kaluaapuhi\"     \"kaluaapuhi\"    \n",
              "[1561] \"kaluaapuhi\"     \"kaluaapuhi\"     \"kaluaapuhi\"     \"kaluaapuhi\"    \n",
              "[1565] \"kaluaapuhi\"     \"kaluaapuhi\"     \"kaluaapuhi\"     \"kaluaapuhi\"    \n",
              "[1569] \"kaluaapuhi\"     \"kaluaapuhi\"     \"kaluaapuhi\"     \"kamalo\"        \n",
              "[1573] \"kamalo\"         \"kamalo\"         \"kamalo\"         \"kamalo\"        \n",
              "[1577] \"kamalo\"         \"kamalo\"         \"kamalo\"         \"kamalo\"        \n",
              "[1581] \"kamalo\"         \"kamalo\"         \"kamalo\"         \"kamalo\"        \n",
              "[1585] \"kamalo\"         \"kamalo\"         \"kamalo\"         \"kamalo\"        \n",
              "[1589] \"kamalo\"         \"kamalo\"         \"kamalo\"         \"kamalo\"        \n",
              "[1593] \"kamalo\"         \"kamalo\"         \"kamalo\"         \"kamalo\"        \n",
              "[1597] \"kamalo\"         \"kamalo\"         \"kamalo\"         \"kamalo\"        \n",
              "[1601] \"kamalo\"         \"kamalo\"         \"kamalo\"         \"kamalo\"        \n",
              "[1605] \"kamalo\"         \"kamalo\"         \"kamalo\"         \"kamalo\"        \n",
              "[1609] \"kamalo\"         \"kamalo\"         \"kamalo\"         \"kamalo\"        \n",
              "[1613] \"kamalo\"         \"kamalo\"         \"kamalo\"         \"kamalo\"        \n",
              "[1617] \"kamalo\"         \"kamalo\"         \"kamalo\"         \"kamalo\"        \n",
              "[1621] \"kamalo\"         \"kamalo\"         \"kamalo\"         \"kamalo\"        \n",
              "[1625] \"kamalo\"         \"kamalo\"         \"kamalo\"         \"kamalo\"        \n",
              "[1629] \"kamalo\"         \"kamalo\"         \"kamalo\"         \"kamalo\"        \n",
              "[1633] \"kamalo\"         \"kamalo\"         \"kamalo\"         \"kamalo\"        \n",
              "[1637] \"kamalo\"         \"kamalo\"         \"kamalo\"         \"kamalo\"        \n",
              "[1641] \"kamalo\"         \"kamalo\"         \"kamalo\"         \"kamalo\"        \n",
              "[1645] \"kamalo\"         \"kamalo\"         \"kamalo\"         \"kamalo\"        \n",
              "[1649] \"kamalo\"         \"kamalo\"         \"kamalo\"         \"kamalo\"        \n",
              "[1653] \"kamalo\"         \"kamalo\"         \"kamalo\"         \"kamalo\"        \n",
              "[1657] \"kamalo\"         \"kamalo\"         \"kamalo\"         \"kamalo\"        \n",
              "[1661] \"kamalo\"         \"kamalo\"         \"kamalo\"         \"kamalo\"        \n",
              "[1665] \"kamalo\"         \"kamalo\"         \"kamalo\"         \"kamalo\"        \n",
              "[1669] \"kamalo\"         \"kamalo\"         \"kamalo\"         \"kamalo\"        \n",
              "[1673] \"kamalo\"         \"kamalo\"         \"kamalo\"         \"kamalo\"        \n",
              "[1677] \"kamalo\"         \"kamalo\"         \"kamalo\"         \"kamalo\"        \n",
              "[1681] \"kamalo\"         \"kamalo\"         \"kamalo\"         \"kamalo\"        \n",
              "[1685] \"kamalo\"         \"kamalo\"         \"kamalo\"         \"kamalo\"        \n",
              "[1689] \"kamalo\"         \"kamalo\"         \"kamalo\"         \"kamalo\"        \n",
              "[1693] \"kamalo\"         \"kamalo\"         \"kamalo\"         \"kamalo\"        \n",
              "[1697] \"kamalo\"         \"kamalo\"         \"kamalo\"         \"kamalo\"        \n",
              "[1701] \"kamalo\"         \"kamalo\"         \"kamalo\"         \"kamalo\"        \n",
              "[1705] \"kamalo\"         \"kamalo\"         \"kamalo\"         \"kamalo\"        \n",
              "[1709] \"kamalo\"         \"kamalo\"         \"kamalo\"         \"kamalo\"        \n",
              "[1713] \"kamalo\"         \"kamalo\"         \"kamalo\"         \"kamalo\"        \n",
              "[1717] \"kamalo\"         \"kamalo\"         \"kamalo\"         \"kamalo\"        \n",
              "[1721] \"kamalo\"         \"kamalo\"         \"kamalo\"         \"kamalo\"        \n",
              "[1725] \"kamalo\"         \"kamalo\"         \"kamalo\"         \"kamalo\"        \n",
              "[1729] \"kamalo\"         \"kamalo\"         \"kamalo\"         \"kamalo\"        \n",
              "[1733] \"kamalo\"         \"kamalo\"         \"kamalo\"         \"kamalo\"        \n",
              "[1737] \"kamalo\"         \"kamalo\"         \"kamalo\"         \"kamalo\"        \n",
              "[1741] \"kamalo\"         \"kamalo\"         \"kamalo\"         \"kamalo\"        \n",
              "[1745] \"kamalo\"         \"kamalo\"         \"kamalo\"         \"kamalo\"        \n",
              "[1749] \"kamalo\"         \"kamalo\"         \"kamalo\"         \"kamalo\"        \n",
              "[1753] \"kamalo\"         \"kamalo\"         \"kamalo\"         \"kamalo\"        \n",
              "[1757] \"kamalo\"         \"kamalo\"         \"kamalo\"         \"kamalo\"        \n",
              "[1761] \"kamalo\"         \"kamalo\"         \"kamalo\"         \"kamalo\"        \n",
              "[1765] \"kamalo\"         \"kamalo\"         \"kamalo\"         \"kamalo\"        \n",
              "[1769] \"kamalo\"         \"kamalo\"         \"kamalo\"         \"kamalo\"        \n",
              "[1773] \"kamalo\"         \"kamalo\"         \"kamalo\"         \"kamalo\"        \n",
              "[1777] \"kamalo\"         \"kamalo\"         \"kamalo\"         \"kamalo\"        \n",
              "[1781] \"kamalo\"         \"kamalo\"         \"kamalo\"         \"kamalo\"        \n",
              "[1785] \"kamalo\"         \"kamalo\"         \"kamalo\"         \"kamalo\"        \n",
              "[1789] \"kamalo\"         \"kamalo\"         \"kamalo\"         \"kamalo\"        \n",
              "[1793] \"kamalo\"         \"kamalo\"         \"kamalo\"         \"kamalo\"        \n",
              "[1797] \"kamalo\"         \"kamalo\"         \"kamalo\"         \"kamalo\"        \n",
              "[1801] \"kamalo\"         \"kamalo\"         \"kamalo\"         \"kamalo\"        \n",
              "[1805] \"kamalo\"         \"kamalo\"         \"kamalo\"         \"kamalo\"        \n",
              "[1809] \"kamalo\"         \"kamalo\"         \"kamalo\"         \"kamalo\"        \n",
              "[1813] \"kamalo\"         \"kamalo\"         \"kamalo\"         \"kamalo\"        \n",
              "[1817] \"kamalo\"         \"kamalo\"         \"kamalo\"         \"kamalo\"        \n",
              "[1821] \"kamalo\"         \"kamalo\"         \"kamalo\"         \"kamalo\"        \n",
              "[1825] \"kamalo\"         \"kamalo\"         \"kamalo\"         \"kamalo\"        \n",
              "[1829] \"kamalo\"         \"kamalo\"         \"kamalo\"         \"kamalo\"        \n",
              "[1833] \"kamalo\"         \"kamalo\"         \"kamalo\"         \"kamalo\"        \n",
              "[1837] \"kamalo\"         \"kamalo\"         \"kamalo\"         \"kamalo\"        \n",
              "[1841] \"kamalo\"         \"kamalo\"         \"kamalo\"         \"kamalo\"        \n",
              "[1845] \"kamalo\"         \"kamalo\"         \"kamalo\"         \"kamalo\"        \n",
              "[1849] \"kamalo\"         \"kamalo\"         \"kamalo\"         \"kamalo\"        \n",
              "[1853] \"kamalo\"         \"kamalo\"         \"kamalo\"         \"kamalo\"        \n",
              "[1857] \"kamalo\"         \"kamalo\"         \"kamalo\"         \"kamalo\"        \n",
              "[1861] \"kamalo\"         \"kamalo\"         \"kamalo\"         \"kamalo\"        \n",
              "[1865] \"kamalo\"         \"kamalo\"         \"kamalo\"         \"kamalo\"        \n",
              "[1869] \"kamalo\"         \"kamalo\"         \"kamalo\"         \"kamalo\"        \n",
              "[1873] \"kamalo\"         \"kamalo\"         \"kamalo\"         \"kamalo\"        \n",
              "[1877] \"kamalo\"         \"kamalo\"         \"kamalo\"         \"kamalo\"        \n",
              "[1881] \"kamalo\"         \"kamalo\"         \"kamalo\"         \"kamalo\"        \n",
              "[1885] \"kamalo\"         \"kamalo\"         \"kamalo\"         \"kamalo\"        \n",
              "[1889] \"kamalo\"         \"kamalo\"         \"kamalo\"         \"kamalo\"        \n",
              "[1893] \"kamalo\"         \"kamalo\"         \"kamalo\"         \"kamalo\"        \n",
              "[1897] \"kamalo\"         \"kamalo\"         \"kamalo\"         \"kamalo\"        \n",
              "[1901] \"kamalo\"         \"kamalo\"         \"kamalo\"         \"kamalo\"        \n",
              "[1905] \"kamalo\"         \"kamalo\"         \"kamalo\"         \"kamalo\"        \n",
              "[1909] \"kamalo\"         \"kamalo\"         \"kamalo\"         \"kamalo\"        \n",
              "[1913] \"kamalo\"         \"kamalo\"         \"kamalo\"         \"kamalo\"        \n",
              "[1917] \"kamalo\"         \"kamalo\"         \"kamalo\"         \"kamalo\"        \n",
              "[1921] \"kamalo\"         \"kamalo\"         \"kamalo\"         \"kamalo\"        \n",
              "[1925] \"kamalo\"         \"kamalo\"         \"kamalo\"         \"kamalo\"        \n",
              "[1929] \"kamalo\"         \"kamalo\"         \"kamalo\"         \"kamalo\"        \n",
              "[1933] \"kamalo\"         \"kamalo\"         \"kamalo\"         \"kamalo\"        \n",
              "[1937] \"kamalo\"         \"kamalo\"         \"kamalo\"         \"kamalo\"        \n",
              "[1941] \"kamalo\"         \"kamalo\"         \"kamalo\"         \"kamalo\"        \n",
              "[1945] \"kamalo\"         \"kamalo\"         \"kamalo\"         \"kamalo\"        \n",
              "[1949] \"kamalo\"         \"kamalo\"         \"kamalo\"         \"kanaha\"        \n",
              "[1953] \"kanaha\"         \"kanaha\"         \"kanaha\"         \"kanaha\"        \n",
              "[1957] \"kanaha\"         \"kanaha\"         \"kanaha\"         \"kanaha\"        \n",
              "[1961] \"kanaha\"         \"kanaha\"         \"kanaha\"         \"kanaha\"        \n",
              "[1965] \"kanaha\"         \"kanaha\"         \"kanaha\"         \"kanaha\"        \n",
              "[1969] \"kanaha\"         \"kanaha\"         \"kanaha\"         \"kanaha\"        \n",
              "[1973] \"kanaha\"         \"kanaha\"         \"kanaha\"         \"kanaha\"        \n",
              "[1977] \"kanaha\"         \"kanaha\"         \"kanaha\"         \"kanaha\"        \n",
              "[1981] \"kanaha\"         \"kanaha\"         \"kanaha\"         \"kanaha\"        \n",
              "[1985] \"kanaha\"         \"kanaha\"         \"kanaha\"         \"kanaha\"        \n",
              "[1989] \"kanaha\"         \"kanaha\"         \"kanaha\"         \"kanaha\"        \n",
              "[1993] \"kanaha\"         \"kawainui\"       \"kawainui\"       \"kawainui\"      \n",
              "[1997] \"kawainui\"       \"kawainui\"       \"kawainui\"       \"kawainui\"      \n",
              "[2001] \"kawainui\"       \"kawainui\"       \"kawainui\"       \"kawainui\"      \n",
              "[2005] \"kawainui\"       \"kawainui\"       \"kawainui\"       \"kawainui\"      \n",
              "[2009] \"kawainui\"       \"kawainui\"       \"kawainui\"       \"kawainui\"      \n",
              "[2013] \"kawainui\"       \"kawainui\"       \"kawainui\"       \"kawainui\"      \n",
              "[2017] \"kawainui\"       \"kawainui\"       \"kawainui\"       \"kawainui\"      \n",
              "[2021] \"kawainui\"       \"kawainui\"       \"kawainui\"       \"kawainui\"      \n",
              "[2025] \"kawainui\"       \"kawainui\"       \"kawainui\"       \"kawainui\"      \n",
              "[2029] \"kawainui\"       \"kawainui\"       \"kawainui\"       \"kawainui\"      \n",
              "[2033] \"kawainui\"       \"kawainui\"       \"kawainui\"       \"kawainui\"      \n",
              "[2037] \"kawainui\"       \"kawainui\"       \"kawainui\"       \"kawainui\"      \n",
              "[2041] \"kawainui\"       \"kawainui\"       \"kawainui\"       \"kawainui\"      \n",
              "[2045] \"kawainui\"       \"kawainui\"       \"kawainui\"       \"kawainui\"      \n",
              "[2049] \"kawainui\"       \"kawainui\"       \"kawainui\"       \"kawainui\"      \n",
              "[2053] \"kawainui\"       \"kawainui\"       \"kawainui\"       \"kawainui\"      \n",
              "[2057] \"kawainui\"       \"kawainui\"       \"kawainui\"       \"kawainui\"      \n",
              "[2061] \"kawainui\"       \"kawainui\"       \"kawainui\"       \"kawainui\"      \n",
              "[2065] \"kawainui\"       \"kawainui\"       \"kawainui\"       \"kawainui\"      \n",
              "[2069] \"kawainui\"       \"kawainui\"       \"kawainui\"       \"kawainui\"      \n",
              "[2073] \"kawainui\"       \"kawainui\"       \"kawainui\"       \"kawainui\"      \n",
              "[2077] \"kawainui\"       \"kawainui\"       \"kawainui\"       \"kawainui\"      \n",
              "[2081] \"kawainui\"       \"kawainui\"       \"kawainui\"       \"kawainui\"      \n",
              "[2085] \"kawainui\"       \"kawainui\"       \"kawainui\"       \"kawainui\"      \n",
              "[2089] \"kawainui\"       \"kawainui\"       \"kawainui\"       \"kawainui\"      \n",
              "[2093] \"kawainui\"       \"kawainui\"       \"kawainui\"       \"kawainui\"      \n",
              "[2097] \"kawainui\"       \"kawainui\"       \"kawainui\"       \"kawainui\"      \n",
              "[2101] \"kawainui\"       \"kawainui\"       \"kawainui\"       \"kawainui\"      \n",
              "[2105] \"kawainui\"       \"kawainui\"       \"kawainui\"       \"kawainui\"      \n",
              "[2109] \"kawainui\"       \"kawainui\"       \"kawainui\"       \"kawainui\"      \n",
              "[2113] \"kawainui\"       \"kawainui\"       \"kawainui\"       \"kawainui\"      \n",
              "[2117] \"kawainui\"       \"kawainui\"       \"kawainui\"       \"kawainui\"      \n",
              "[2121] \"kawainui\"       \"kawainui\"       \"kawainui\"       \"kawainui\"      \n",
              "[2125] \"kawainui\"       \"kawainui\"       \"kawainui\"       \"kawainui\"      \n",
              "[2129] \"kawainui\"       \"kawainui\"       \"kawainui\"       \"kawainui\"      \n",
              "[2133] \"kawainui\"       \"kawainui\"       \"kawainui\"       \"kawainui\"      \n",
              "[2137] \"kawainui\"       \"kawainui\"       \"kawainui\"       \"kawainui\"      \n",
              "[2141] \"kawainui\"       \"kawainui\"       \"kawainui\"       \"kawainui\"      \n",
              "[2145] \"kawainui\"       \"kawainui\"       \"kawainui\"       \"kawainui\"      \n",
              "[2149] \"kawainui\"       \"kawainui\"       \"kawainui\"       \"kawainui\"      \n",
              "[2153] \"kawainui\"       \"kawainui\"       \"kawainui\"       \"kawainui\"      \n",
              "[2157] \"kawainui\"       \"kawainui\"       \"kawainui\"       \"kawainui\"      \n",
              "[2161] \"kawainui\"       \"kawainui\"       \"kawainui\"       \"kawainui\"      \n",
              "[2165] \"kawainui\"       \"kawainui\"       \"kawainui\"       \"kawainui\"      \n",
              "[2169] \"kawainui\"       \"kawainui\"       \"kawainui\"       \"kawainui\"      \n",
              "[2173] \"kawainui\"       \"kawainui\"       \"kawainui\"       \"kawainui\"      \n",
              "[2177] \"kawainui\"       \"kawainui\"       \"kawainui\"       \"kawainui\"      \n",
              "[2181] \"kawainui\"       \"kawainui\"       \"kawainui\"       \"kawainui\"      \n",
              "[2185] \"kawainui\"       \"kawainui\"       \"kawainui\"       \"kawainui\"      \n",
              "[2189] \"kawainui\"       \"kawainui\"       \"kawainui\"       \"kawainui\"      \n",
              "[2193] \"kawainui\"       \"kawainui\"       \"kawainui\"       \"kawainui\"      \n",
              "[2197] \"kawainui\"       \"kawainui\"       \"kawainui\"       \"kawainui\"      \n",
              "[2201] \"kawainui\"       \"kawainui\"       \"kawainui\"       \"kawainui\"      \n",
              "[2205] \"kawainui\"       \"kawainui\"       \"kawainui\"       \"kawainui\"      \n",
              "[2209] \"kawainui\"       \"kawainui\"       \"kawainui\"       \"kawainui\"      \n",
              "[2213] \"kawainui\"       \"kawainui\"       \"kawainui\"       \"kawainui\"      \n",
              "[2217] \"kawainui\"       \"kawainui\"       \"kawainui\"       \"kawainui\"      \n",
              "[2221] \"kawainui\"       \"kawainui\"       \"kawainui\"       \"kawainui\"      \n",
              "[2225] \"kawainui\"       \"kawainui\"       \"kawainui\"       \"kawainui\"      \n",
              "[2229] \"kawainui\"       \"kawainui\"       \"kawainui\"       \"kawainui\"      \n",
              "[2233] \"kawainui\"       \"kawainui\"       \"kawainui\"       \"kawainui\"      \n",
              "[2237] \"kawainui\"       \"kawainui\"       \"kawainui\"       \"kawainui\"      \n",
              "[2241] \"kawainui\"       \"kawainui\"       \"kawainui\"       \"kawainui\"      \n",
              "[2245] \"kawainui\"       \"kawainui\"       \"kawainui\"       \"kawainui\"      \n",
              "[2249] \"kawainui\"       \"kawainui\"       \"kawainui\"       \"kawainui\"      \n",
              "[2253] \"kawainui\"       \"kawainui\"       \"kawainui\"       \"kawainui\"      \n",
              "[2257] \"kawainui\"       \"kawainui\"       \"kawainui\"       \"kawainui\"      \n",
              "[2261] \"kawainui\"       \"kawainui\"       \"kawainui\"       \"kawainui\"      \n",
              "[2265] \"kawainui\"       \"kawainui\"       \"kawainui\"       \"kawainui\"      \n",
              "[2269] \"kawainui\"       \"kawainui\"       \"kawainui\"       \"kawainui\"      \n",
              "[2273] \"kawainui\"       \"kawainui\"       \"kawainui\"       \"kawainui\"      \n",
              "[2277] \"kawainui\"       \"kawainui\"       \"kawainui\"       \"kawainui\"      \n",
              "[2281] \"kawainui\"       \"kealia\"         \"kealia\"         \"kealia\"        \n",
              "[2285] \"kealia\"         \"kealia\"         \"kealia\"         \"kealia\"        \n",
              "[2289] \"kealia\"         \"kealia\"         \"kealia\"         \"kealia\"        \n",
              "[2293] \"kealia\"         \"kealia\"         \"kealia\"         \"kealia\"        \n",
              "[2297] \"kealia\"         \"kealia\"         \"kealia\"         \"kealia\"        \n",
              "[2301] \"kealia\"         \"kealia\"         \"kealia\"         \"kealia\"        \n",
              "[2305] \"kealia\"         \"kealia\"         \"kealia\"         \"kealia\"        \n",
              "[2309] \"kealia\"         \"kealia\"         \"kealia\"         \"kealia\"        \n",
              "[2313] \"kealia\"         \"kealia\"         \"kealia\"         \"kealia\"        \n",
              "[2317] \"kealia\"         \"kealia\"         \"kealia\"         \"kealia\"        \n",
              "[2321] \"kealia\"         \"kealia\"         \"kealia\"         \"kealia\"        \n",
              "[2325] \"kealia\"         \"kealia\"         \"kealia\"         \"kealia\"        \n",
              "[2329] \"kealia\"         \"kealia\"         \"kealia\"         \"kealia\"        \n",
              "[2333] \"kealia\"         \"kealia\"         \"kealia\"         \"kealia\"        \n",
              "[2337] \"kealia\"         \"kealia\"         \"kealia\"         \"kealia\"        \n",
              "[2341] \"kealia\"         \"kealia\"         \"kealia\"         \"kealia\"        \n",
              "[2345] \"kealia\"         \"kealia\"         \"kealia\"         \"kealia\"        \n",
              "[2349] \"kealia\"         \"kealia\"         \"kealia\"         \"kealia\"        \n",
              "[2353] \"kealia\"         \"kealia\"         \"kealia\"         \"kealia\"        \n",
              "[2357] \"kealia\"         \"kealia\"         \"kealia\"         \"kealia\"        \n",
              "[2361] \"kealia\"         \"kealia\"         \"kealia\"         \"kealia\"        \n",
              "[2365] \"kealia\"         \"kealia\"         \"kealia\"         \"kealia\"        \n",
              "[2369] \"kealia\"         \"kealia\"         \"kealia\"         \"kealia\"        \n",
              "[2373] \"kealia\"         \"kealia\"         \"kealia\"         \"kealia\"        \n",
              "[2377] \"kealia\"         \"kealia\"         \"kealia\"         \"kealia\"        \n",
              "[2381] \"kealia\"         \"kealia\"         \"kealia\"         \"kealia\"        \n",
              "[2385] \"kealia\"         \"kealia\"         \"kealia\"         \"kealia\"        \n",
              "[2389] \"kealia\"         \"kealia\"         \"kealia\"         \"kealia\"        \n",
              "[2393] \"kealia\"         \"kealia\"         \"kealia\"         \"kealia\"        \n",
              "[2397] \"kealia\"         \"kealia\"         \"kealia\"         \"kealia\"        \n",
              "[2401] \"kealia\"         \"lumahai\"        \"lumahai\"        \"lumahai\"       \n",
              "[2405] \"lumahai\"        \"lumahai\"        \"lumahai\"        \"lumahai\"       \n",
              "[2409] \"lumahai\"        \"lumahai\"        \"lumahai\"        \"lumahai\"       \n",
              "[2413] \"lumahai\"        \"lumahai\"        \"lumahai\"        \"lumahai\"       \n",
              "[2417] \"lumahai\"        \"lumahai\"        \"lumahai\"        \"lumahai\"       \n",
              "[2421] \"lumahai\"        \"lumahai\"        \"lumahai\"        \"lumahai\"       \n",
              "[2425] \"lumahai\"        \"lumahai\"        \"lumahai\"        \"lumahai\"       \n",
              "[2429] \"lumahai\"        \"lumahai\"        \"lumahai\"        \"lumahai\"       \n",
              "[2433] \"lumahai\"        \"lumahai\"        \"lumahai\"        \"lumahai\"       \n",
              "[2437] \"lumahai\"        \"lumahai\"        \"lumahai\"        \"lumahai\"       \n",
              "[2441] \"lumahai\"        \"lumahai\"        \"lumahai\"        \"lumahai\"       \n",
              "[2445] \"lumahai\"        \"lumahai\"        \"lumahai\"        \"lumahai\"       \n",
              "[2449] \"lumahai\"        \"lumahai\"        \"lumahai\"        \"lumahai\"       \n",
              "[2453] \"lumahai\"        \"lumahai\"        \"lumahai\"        \"lumahai\"       \n",
              "[2457] \"lumahai\"        \"lumahai\"        \"lumahai\"        \"lumahai\"       \n",
              "[2461] \"lumahai\"        \"lumahai\"        \"lumahai\"        \"lumahai\"       \n",
              "[2465] \"lumahai\"        \"lumahai\"        \"paukukalo\"      \"paukukalo\"     \n",
              "[2469] \"paukukalo\"      \"paukukalo\"      \"paukukalo\"      \"paukukalo\"     \n",
              "[2473] \"paukukalo\"      \"paukukalo\"      \"paukukalo\"      \"paukukalo\"     \n",
              "[2477] \"paukukalo\"      \"paukukalo\"      \"paukukalo\"      \"paukukalo\"     \n",
              "[2481] \"paukukalo\"      \"paukukalo\"      \"paukukalo\"      \"paukukalo\"     \n",
              "[2485] \"paukukalo\"      \"paukukalo\"      \"paukukalo\"      \"paukukalo\"     \n",
              "[2489] \"paukukalo\"      \"paukukalo\"      \"paukukalo\"      \"paukukalo\"     \n",
              "[2493] \"paukukalo\"      \"paukukalo\"      \"paukukalo\"      \"paukukalo\"     \n",
              "[2497] \"paukukalo\"      \"paukukalo\"      \"paukukalo\"      \"paukukalo\"     \n",
              "[2501] \"paukukalo\"      \"paukukalo\"      \"paukukalo\"      \"paukukalo\"     \n",
              "[2505] \"paukukalo\"      \"paukukalo\"      \"paukukalo\"      \"paukukalo\"     \n",
              "[2509] \"paukukalo\"      \"paukukalo\"      \"paukukalo\"      \"paukukalo\"     \n",
              "[2513] \"paukukalo\"      \"paukukalo\"      \"paukukalo\"      \"paukukalo\"     \n",
              "[2517] \"paukukalo\"      \"paukukalo\"      \"paukukalo\"      \"paukukalo\"     \n",
              "[2521] \"paukukalo\"      \"paukukalo\"      \"paukukalo\"      \"paukukalo\"     \n",
              "[2525] \"paukukalo\"      \"paukukalo\"      \"paukukalo\"      \"paukukalo\"     \n",
              "[2529] \"paukukalo\"      \"paukukalo\"      \"paukukalo\"      \"paukukalo\"     \n",
              "[2533] \"paukukalo\"      \"paukukalo\"      \"paukukalo\"      \"paukukalo\"     \n",
              "[2537] \"paukukalo\"      \"paukukalo\"      \"paukukalo\"      \"paukukalo\"     \n",
              "[2541] \"paukukalo\"      \"paukukalo\"      \"paukukalo\"      \"paukukalo\"     \n",
              "[2545] \"paukukalo\"      \"paukukalo\"      \"paukukalo\"      \"paukukalo\"     \n",
              "[2549] \"paukukalo\"      \"paukukalo\"      \"paukukalo\"      \"paukukalo\"     \n",
              "[2553] \"paukukalo\"      \"paukukalo\"      \"paukukalo\"      \"paukukalo\"     \n",
              "[2557] \"pearl_harbor\"   \"pearl_harbor\"   \"pearl_harbor\"   \"pearl_harbor\"  \n",
              "[2561] \"pearl_harbor\"   \"pearl_harbor\"   \"pearl_harbor\"   \"pearl_harbor\"  \n",
              "[2565] \"pearl_harbor\"   \"pearl_harbor\"   \"pearl_harbor\"   \"pearl_harbor\"  \n",
              "[2569] \"pearl_harbor\"   \"pearl_harbor\"   \"pearl_harbor\"   \"pearl_harbor\"  \n",
              "[2573] \"pearl_harbor\"   \"pearl_harbor\"   \"pearl_harbor\"   \"pearl_harbor\"  \n",
              "[2577] \"pearl_harbor\"   \"pearl_harbor\"   \"pearl_harbor\"   \"pearl_harbor\"  \n",
              "[2581] \"pearl_harbor\"   \"pearl_harbor\"   \"pearl_harbor\"   \"pearl_harbor\"  \n",
              "[2585] \"pearl_harbor\"   \"pearl_harbor\"   \"pearl_harbor\"   \"pearl_harbor\"  \n",
              "[2589] \"pearl_harbor\"   \"pearl_harbor\"   \"pearl_harbor\"   \"pearl_harbor\"  \n",
              "[2593] \"pearl_harbor\"   \"pearl_harbor\"   \"pearl_harbor\"   \"pearl_harbor\"  \n",
              "[2597] \"pearl_harbor\"   \"pearl_harbor\"   \"pearl_harbor\"   \"pearl_harbor\"  \n",
              "[2601] \"pearl_harbor\"   \"pearl_harbor\"   \"pearl_harbor\"   \"pearl_harbor\"  \n",
              "[2605] \"pearl_harbor\"   \"pearl_harbor\"   \"pearl_harbor\"   \"pearl_harbor\"  \n",
              "[2609] \"pearl_harbor\"   \"pearl_harbor\"   \"pearl_harbor\"   \"pearl_harbor\"  \n",
              "[2613] \"pearl_harbor\"   \"pearl_harbor\"   \"pearl_harbor\"   \"pearl_harbor\"  \n",
              "[2617] \"pearl_harbor\"   \"pearl_harbor\"   \"pearl_harbor\"   \"pearl_harbor\"  \n",
              "[2621] \"pearl_harbor\"   \"pearl_harbor\"   \"pearl_harbor\"   \"pearl_harbor\"  \n",
              "[2625] \"pearl_harbor\"   \"pearl_harbor\"   \"pearl_harbor\"   \"pearl_harbor\"  \n",
              "[2629] \"pearl_harbor\"   \"pearl_harbor\"   \"pearl_harbor\"   \"pearl_harbor\"  \n",
              "[2633] \"pearl_harbor\"   \"pearl_harbor\"   \"pearl_harbor\"   \"pearl_harbor\"  \n",
              "[2637] \"pearl_harbor\"   \"pearl_harbor\"   \"pearl_harbor\"   \"pearl_harbor\"  \n",
              "[2641] \"pearl_harbor\"   \"pearl_harbor\"   \"pearl_harbor\"   \"pearl_harbor\"  \n",
              "[2645] \"pearl_harbor\"   \"pearl_harbor\"   \"pearl_harbor\"   \"pearl_harbor\"  \n",
              "[2649] \"pearl_harbor\"   \"pearl_harbor\"   \"pearl_harbor\"   \"pearl_harbor\"  \n",
              "[2653] \"pearl_harbor\"   \"pearl_harbor\"   \"pearl_harbor\"   \"pearl_harbor\"  \n",
              "[2657] \"pearl_harbor\"   \"pearl_harbor\"   \"pearl_harbor\"   \"pearl_harbor\"  \n",
              "[2661] \"pearl_harbor\"   \"pearl_harbor\"   \"pearl_harbor\"   \"pearl_harbor\"  \n",
              "[2665] \"pearl_harbor\"   \"pearl_harbor\"   \"pearl_harbor\"   \"pearl_harbor\"  \n",
              "[2669] \"pearl_harbor\"   \"pearl_harbor\"   \"pearl_harbor\"   \"pearl_harbor\"  \n",
              "[2673] \"pearl_harbor\"   \"pearl_harbor\"   \"pearl_harbor\"   \"pearl_harbor\"  \n",
              "[2677] \"pearl_harbor\"   \"pearl_harbor\"   \"pearl_harbor\"   \"pearl_harbor\"  \n",
              "[2681] \"pearl_harbor\"   \"pearl_harbor\"   \"pearl_harbor\"   \"pearl_harbor\"  \n",
              "[2685] \"pearl_harbor\"   \"pearl_harbor\"   \"pearl_harbor\"   \"pearl_harbor\"  \n",
              "[2689] \"pearl_harbor\"   \"pearl_harbor\"   \"pearl_harbor\"   \"pearl_harbor\"  \n",
              "[2693] \"pearl_harbor\"   \"pearl_harbor\"   \"pearl_harbor\"   \"pearl_harbor\"  \n",
              "[2697] \"pearl_harbor\"   \"pearl_harbor\"   \"pearl_harbor\"   \"pearl_harbor\"  \n",
              "[2701] \"pearl_harbor\"   \"pearl_harbor\"   \"pearl_harbor\"   \"pearl_harbor\"  \n",
              "[2705] \"pearl_harbor\"   \"pearl_harbor\"   \"pearl_harbor\"   \"pearl_harbor\"  \n",
              "[2709] \"pearl_harbor\"   \"pearl_harbor\"   \"pearl_harbor\"   \"pearl_harbor\"  \n",
              "[2713] \"pearl_harbor\"   \"pearl_harbor\"   \"pearl_harbor\"   \"pearl_harbor\"  \n",
              "[2717] \"pearl_harbor\"   \"pearl_harbor\"   \"pearl_harbor\"   \"pearl_harbor\"  \n",
              "[2721] \"pearl_harbor\"   \"pearl_harbor\"   \"pearl_harbor\"   \"pearl_harbor\"  \n",
              "[2725] \"pearl_harbor\"   \"pearl_harbor\"   \"pearl_harbor\"   \"pearl_harbor\"  \n",
              "[2729] \"pearl_harbor\"   \"pearl_harbor\"   \"pearl_harbor\"   \"pearl_harbor\"  \n",
              "[2733] \"pearl_harbor\"   \"pearl_harbor\"   \"pearl_harbor\"   \"pearl_harbor\"  \n",
              "[2737] \"pearl_harbor\"   \"pearl_harbor\"   \"pearl_harbor\"   \"pearl_harbor\"  \n",
              "[2741] \"pearl_harbor\"   \"pearl_harbor\"   \"pearl_harbor\"   \"pearl_harbor\"  \n",
              "[2745] \"pearl_harbor\"   \"pearl_harbor\"   \"pearl_harbor\"   \"pearl_harbor\"  \n",
              "[2749] \"pearl_harbor\"   \"pearl_harbor\"   \"pearl_harbor\"   \"pearl_harbor\"  \n",
              "[2753] \"pearl_harbor\"   \"pearl_harbor\"   \"pearl_harbor\"   \"pearl_harbor\"  \n",
              "[2757] \"pearl_harbor\"   \"pearl_harbor\"   \"pearl_harbor\"   \"pearl_harbor\"  \n",
              "[2761] \"pearl_harbor\"   \"pearl_harbor\"   \"pearl_harbor\"   \"pearl_harbor\"  \n",
              "[2765] \"pearl_harbor\"   \"pearl_harbor\"   \"pearl_harbor\"   \"pearl_harbor\"  \n",
              "[2769] \"pearl_harbor\"   \"pearl_harbor\"   \"pearl_harbor\"   \"pearl_harbor\"  \n",
              "[2773] \"pearl_harbor\"   \"pearl_harbor\"   \"pearl_harbor\"   \"pearl_harbor\"  \n",
              "[2777] \"pearl_harbor\"   \"pearl_harbor\"   \"pearl_harbor\"   \"pearl_harbor\"  \n",
              "[2781] \"pearl_harbor\"   \"pearl_harbor\"   \"pearl_harbor\"   \"pearl_harbor\"  \n",
              "[2785] \"pearl_harbor\"   \"pearl_harbor\"   \"pearl_harbor\"   \"pearl_harbor\"  \n",
              "[2789] \"pearl_harbor\"   \"pearl_harbor\"   \"pearl_harbor\"   \"pearl_harbor\"  \n",
              "[2793] \"pearl_harbor\"   \"pearl_harbor\"   \"pearl_harbor\"   \"pearl_harbor\"  \n",
              "[2797] \"pearl_harbor\"   \"pearl_harbor\"   \"pearl_harbor\"   \"pearl_harbor\"  \n",
              "[2801] \"pearl_harbor\"   \"pearl_harbor\"   \"pearl_harbor\"   \"pearl_harbor\"  \n",
              "[2805] \"pearl_harbor\"   \"pearl_harbor\"   \"pearl_harbor\"   \"pearl_harbor\"  \n",
              "[2809] \"pearl_harbor\"   \"pearl_harbor\"   \"pearl_harbor\"   \"pearl_harbor\"  \n",
              "[2813] \"pearl_harbor\"   \"pearl_harbor\"   \"pearl_harbor\"   \"pearl_harbor\"  \n",
              "[2817] \"pearl_harbor\"   \"pearl_harbor\"   \"pearl_harbor\"   \"pearl_harbor\"  \n",
              "[2821] \"pearl_harbor\"   \"pearl_harbor\"   \"pearl_harbor\"   \"pearl_harbor\"  \n",
              "[2825] \"pearl_harbor\"   \"pearl_harbor\"   \"pearl_harbor\"   \"pearl_harbor\"  \n",
              "[2829] \"pearl_harbor\"   \"pearl_harbor\"   \"pearl_harbor\"   \"pearl_harbor\"  \n",
              "[2833] \"pearl_harbor\"   \"pearl_harbor\"   \"pearl_harbor\"   \"pearl_harbor\"  \n",
              "[2837] \"pearl_harbor\"   \"pearl_harbor\"   \"pearl_harbor\"   \"pearl_harbor\"  \n",
              "[2841] \"pearl_harbor\"   \"pearl_harbor\"   \"pearl_harbor\"   \"pearl_harbor\"  \n",
              "[2845] \"pearl_harbor\"   \"pearl_harbor\"   \"pearl_harbor\"   \"pearl_harbor\"  \n",
              "[2849] \"pearl_harbor\"   \"pearl_harbor\"   \"pearl_harbor\"   \"pearl_harbor\"  \n",
              "[2853] \"pearl_harbor\"   \"pearl_harbor\"   \"pearl_harbor\"   \"pearl_harbor\"  \n",
              "[2857] \"pearl_harbor\"   \"pearl_harbor\"   \"pearl_harbor\"   \"pearl_harbor\"  \n",
              "[2861] \"pearl_harbor\"   \"pearl_harbor\"   \"pearl_harbor\"   \"pearl_harbor\"  \n",
              "[2865] \"pearl_harbor\"   \"pearl_harbor\"   \"pearl_harbor\"   \"pearl_harbor\"  \n",
              "[2869] \"pearl_harbor\"   \"pearl_harbor\"   \"pearl_harbor\"   \"pearl_harbor\"  \n",
              "[2873] \"pearl_harbor\"   \"pearl_harbor\"   \"pearl_harbor\"   \"pearl_harbor\"  \n",
              "[2877] \"pearl_harbor\"   \"pearl_harbor\"   \"pearl_harbor\"   \"pearl_harbor\"  \n",
              "[2881] \"pearl_harbor\"   \"pearl_harbor\"   \"pearl_harbor\"   \"pearl_harbor\"  \n",
              "[2885] \"pearl_harbor\"   \"pearl_harbor\"   \"pearl_harbor\"   \"pearl_harbor\"  \n",
              "[2889] \"pearl_harbor\"   \"pearl_harbor\"   \"pearl_harbor\"   \"pearl_harbor\"  \n",
              "[2893] \"pearl_harbor\"   \"pearl_harbor\"   \"pearl_harbor\"   \"pearl_harbor\"  \n",
              "[2897] \"pearl_harbor\"   \"pearl_harbor\"   \"pearl_harbor\"   \"pearl_harbor\"  \n",
              "[2901] \"pearl_harbor\"   \"pearl_harbor\"   \"pearl_harbor\"   \"pearl_harbor\"  \n",
              "[2905] \"pearl_harbor\"   \"pearl_harbor\"   \"pearl_harbor\"   \"pearl_harbor\"  \n",
              "[2909] \"pearl_harbor\"   \"pearl_harbor\"   \"pearl_harbor\"   \"pearl_harbor\"  \n",
              "[2913] \"pearl_harbor\"   \"pearl_harbor\"   \"pearl_harbor\"   \"pearl_harbor\"  \n",
              "[2917] \"pearl_harbor\"   \"pearl_harbor\"   \"pearl_harbor\"   \"pearl_harbor\"  \n",
              "[2921] \"pearl_harbor\"   \"pearl_harbor\"   \"pearl_harbor\"   \"pearl_harbor\"  \n",
              "[2925] \"pearl_harbor\"   \"pearl_harbor\"   \"pearl_harbor\"   \"pearl_harbor\"  \n",
              "[2929] \"pearl_harbor\"   \"pearl_harbor\"   \"pearl_harbor\"   \"pearl_harbor\"  \n",
              "[2933] \"pearl_harbor\"   \"pearl_harbor\"   \"pearl_harbor\"   \"pearl_harbor\"  \n",
              "[2937] \"pearl_harbor\"   \"pearl_harbor\"   \"pearl_harbor\"   \"pearl_harbor\"  \n",
              "[2941] \"pearl_harbor\"   \"pearl_harbor\"   \"pearl_harbor\"   \"pearl_harbor\"  \n",
              "[2945] \"pearl_harbor\"   \"pearl_harbor\"   \"pearl_harbor\"   \"pearl_harbor\"  \n",
              "[2949] \"pearl_harbor\"   \"pearl_harbor\"   \"pearl_harbor\"   \"pearl_harbor\"  \n",
              "[2953] \"pearl_harbor\"   \"pearl_harbor\"   \"pearl_harbor\"   \"pearl_harbor\"  \n",
              "[2957] \"pearl_harbor\"   \"pearl_harbor\"   \"pearl_harbor\"   \"pearl_harbor\"  \n",
              "[2961] \"pearl_harbor\"   \"pearl_harbor\"   \"pearl_harbor\"   \"pearl_harbor\"  \n",
              "[2965] \"pearl_harbor\"   \"pearl_harbor\"   \"pearl_harbor\"   \"pearl_harbor\"  \n",
              "[2969] \"pearl_harbor\"   \"pearl_harbor\"   \"pearl_harbor\"   \"pearl_harbor\"  \n",
              "[2973] \"pearl_harbor\"   \"pearl_harbor\"   \"pearl_harbor\"   \"pearl_harbor\"  \n",
              "[2977] \"pearl_harbor\"   \"pearl_harbor\"   \"pearl_harbor\"   \"pearl_harbor\"  \n",
              "[2981] \"pearl_harbor\"   \"pearl_harbor\"   \"pearl_harbor\"   \"pearl_harbor\"  \n",
              "[2985] \"pearl_harbor\"   \"pearl_harbor\"   \"pearl_harbor\"   \"pearl_harbor\"  \n",
              "[2989] \"pearl_harbor\"   \"pearl_harbor\"   \"pearl_harbor\"   \"pearl_harbor\"  \n",
              "[2993] \"pearl_harbor\"   \"pearl_harbor\"   \"pearl_harbor\"   \"pearl_harbor\"  \n",
              "[2997] \"pearl_harbor\"   \"pearl_harbor\"   \"pearl_harbor\"   \"pearl_harbor\"  \n",
              "[3001] \"pearl_harbor\"   \"pearl_harbor\"   \"pearl_harbor\"   \"pearl_harbor\"  \n",
              "[3005] \"pearl_harbor\"   \"pearl_harbor\"   \"pearl_harbor\"   \"pearl_harbor\"  \n",
              "[3009] \"pearl_harbor\"   \"pearl_harbor\"   \"pearl_harbor\"   \"pearl_harbor\"  \n",
              "[3013] \"pearl_harbor\"   \"pearl_harbor\"   \"pearl_harbor\"   \"pearl_harbor\"  \n",
              "[3017] \"pearl_harbor\"   \"pearl_harbor\"   \"pearl_harbor\"   \"pearl_harbor\"  \n",
              "[3021] \"pearl_harbor\"   \"pearl_harbor\"   \"pearl_harbor\"   \"pearl_harbor\"  \n",
              "[3025] \"pearl_harbor\"   \"pearl_harbor\"   \"pearl_harbor\"   \"pearl_harbor\"  \n",
              "[3029] \"pearl_harbor\"   \"pearl_harbor\"   \"pearl_harbor\"   \"pearl_harbor\"  \n",
              "[3033] \"pearl_harbor\"   \"pearl_harbor\"   \"pearl_harbor\"   \"pearl_harbor\"  \n",
              "[3037] \"pearl_harbor\"   \"pearl_harbor\"   \"pearl_harbor\"   \"pearl_harbor\"  \n",
              "[3041] \"pearl_harbor\"   \"pearl_harbor\"   \"pearl_harbor\"   \"pearl_harbor\"  \n",
              "[3045] \"pearl_harbor\"   \"pearl_harbor\"   \"pearl_harbor\"   \"pearl_harbor\"  \n",
              "[3049] \"pearl_harbor\"   \"pearl_harbor\"   \"pearl_harbor\"   \"pearl_harbor\"  \n",
              "[3053] \"pearl_harbor\"   \"pearl_harbor\"   \"pearl_harbor\"   \"pearl_harbor\"  \n",
              "[3057] \"pearl_harbor\"   \"pearl_harbor\"   \"pearl_harbor\"   \"pearl_harbor\"  \n",
              "[3061] \"pearl_harbor\"   \"pearl_harbor\"   \"pearl_harbor\"   \"pearl_harbor\"  \n",
              "[3065] \"pearl_harbor\"   \"pearl_harbor\"   \"pearl_harbor\"   \"pearl_harbor\"  \n",
              "[3069] \"pearl_harbor\"   \"pearl_harbor\"   \"pearl_harbor\"   \"pearl_harbor\"  \n",
              "[3073] \"pearl_harbor\"   \"pearl_harbor\"   \"pearl_harbor\"   \"pearl_harbor\"  \n",
              "[3077] \"pearl_harbor\"   \"pearl_harbor\"   \"pearl_harbor\"   \"pearl_harbor\"  \n",
              "[3081] \"pearl_harbor\"   \"pearl_harbor\"   \"pearl_harbor\"   \"pearl_harbor\"  \n",
              "[3085] \"pearl_harbor\"   \"pearl_harbor\"   \"pearl_harbor\"   \"pearl_harbor\"  \n",
              "[3089] \"pearl_harbor\"   \"pearl_harbor\"   \"pearl_harbor\"   \"pearl_harbor\"  \n",
              "[3093] \"pearl_harbor\"   \"pearl_harbor\"   \"pearl_harbor\"   \"pearl_harbor\"  \n",
              "[3097] \"pearl_harbor\"   \"pearl_harbor\"   \"pearl_harbor\"   \"pearl_harbor\"  \n",
              "[3101] \"pearl_harbor\"   \"pearl_harbor\"   \"pearl_harbor\"   \"pearl_harbor\"  \n",
              "[3105] \"pearl_harbor\"   \"pearl_harbor\"   \"pearl_harbor\"   \"pearl_harbor\"  \n",
              "[3109] \"pearl_harbor\"   \"pearl_harbor\"   \"pearl_harbor\"   \"pearl_harbor\"  \n",
              "[3113] \"pearl_harbor\"   \"pearl_harbor\"   \"pearl_harbor\"   \"pearl_harbor\"  \n",
              "[3117] \"pearl_harbor\"   \"pearl_harbor\"   \"pearl_harbor\"   \"pearl_harbor\"  \n",
              "[3121] \"pearl_harbor\"   \"pearl_harbor\"   \"pearl_harbor\"   \"pearl_harbor\"  \n",
              "[3125] \"pearl_harbor\"   \"pearl_harbor\"   \"pearl_harbor\"   \"pearl_harbor\"  \n",
              "[3129] \"pearl_harbor\"   \"pearl_harbor\"   \"pearl_harbor\"   \"pearl_harbor\"  \n",
              "[3133] \"pearl_harbor\"   \"pearl_harbor\"   \"pearl_harbor\"   \"pearl_harbor\"  \n",
              "[3137] \"pearl_harbor\"   \"pearl_harbor\"   \"pearl_harbor\"   \"pearl_harbor\"  \n",
              "[3141] \"pearl_harbor\"   \"pearl_harbor\"   \"pearl_harbor\"   \"pearl_harbor\"  \n",
              "[3145] \"pearl_harbor\"   \"pearl_harbor\"   \"pearl_harbor\"   \"pearl_harbor\"  \n",
              "[3149] \"pearl_harbor\"   \"pearl_harbor\"   \"pearl_harbor\"   \"pearl_harbor\"  \n",
              "[3153] \"pearl_harbor\"   \"pearl_harbor\"   \"pearl_harbor\"   \"pearl_harbor\"  \n",
              "[3157] \"pearl_harbor\"   \"pearl_harbor\"   \"pearl_harbor\"   \"pearl_harbor\"  \n",
              "[3161] \"pearl_harbor\"   \"pearl_harbor\"   \"pearl_harbor\"   \"pearl_harbor\"  \n",
              "[3165] \"pearl_harbor\"   \"pearl_harbor\"   \"pearl_harbor\"   \"pearl_harbor\"  \n",
              "[3169] \"pearl_harbor\"   \"pearl_harbor\"   \"pearl_harbor\"   \"pearl_harbor\"  \n",
              "[3173] \"pearl_harbor\"   \"pearl_harbor\"   \"pearl_harbor\"   \"pearl_harbor\"  \n",
              "[3177] \"waihee\"         \"waihee\"         \"waihee\"         \"waihee\"        \n",
              "[3181] \"waihee\"         \"waihee\"         \"waihee\"         \"waihee\"        \n",
              "[3185] \"waihee\"         \"waihee\"         \"waihee\"         \"waihee\"        \n",
              "[3189] \"waihee\"         \"waihee\"         \"waihee\"         \"waihee\"        \n",
              "[3193] \"waihee\"         \"waihee\"         \"waihee\"         \"waihee\"        \n",
              "[3197] \"waihee\"         \"waihee\"         \"waihee\"         \"waihee\"        \n",
              "[3201] \"waihee\"         \"waihee\"         \"waihee\"         \"waihee\"        \n",
              "[3205] \"waihee\"         \"waihee\"         \"wailua_opaekaa\" \"wailua_opaekaa\"\n",
              "[3209] \"wailua_opaekaa\" \"wailua_opaekaa\" \"wailua_opaekaa\" \"wailua_opaekaa\"\n",
              "[3213] \"wailua_opaekaa\" \"wailua_opaekaa\" \"wailua_opaekaa\" \"wailua_opaekaa\"\n",
              "[3217] \"wailua_opaekaa\" \"wailua_opaekaa\" \"wailua_opaekaa\" \"wailua_opaekaa\"\n",
              "[3221] \"wailua_opaekaa\" \"wailua_opaekaa\" \"wailua_opaekaa\" \"wailua_opaekaa\"\n",
              "[3225] \"wailua_opaekaa\" \"wailua_opaekaa\" \"wailua_opaekaa\" \"wailua_opaekaa\"\n",
              "[3229] \"wailua_opaekaa\" \"wailua_opaekaa\" \"wailua_opaekaa\" \"wailua_opaekaa\"\n",
              "[3233] \"wailua_opaekaa\" \"wailua_opaekaa\" \"wailua_opaekaa\" \"wailua_opaekaa\"\n",
              "[3237] \"wailua_opaekaa\" \"wailua_opaekaa\" \"wailua_opaekaa\" \"wailua_opaekaa\"\n",
              "[3241] \"wailua_opaekaa\" \"wailua_opaekaa\" \"wailua_opaekaa\" \"wailua_opaekaa\"\n",
              "[3245] \"wailua_opaekaa\" \"wailua_opaekaa\" \"wailua_opaekaa\" \"wailua_opaekaa\"\n",
              "[3249] \"wailua_opaekaa\" \"wailua_opaekaa\" \"wailua_opaekaa\" \"wailua_opaekaa\"\n",
              "[3253] \"wailua_opaekaa\" \"wailua_opaekaa\" \"wailua_opaekaa\" \"wailua_opaekaa\"\n",
              "[3257] \"wailua_opaekaa\" \"wailua_opaekaa\" \"wailua_opaekaa\" \"wailua_opaekaa\"\n",
              "[3261] \"wailua_opaekaa\" \"wailua_opaekaa\" \"wailua_opaekaa\" \"wailua_opaekaa\"\n",
              "[3265] \"wailua_opaekaa\" \"wailua_opaekaa\" \"wailua_opaekaa\" \"wailua_opaekaa\"\n",
              "[3269] \"wailua_opaekaa\" \"wailua_opaekaa\" \"wailua_opaekaa\" \"wailua_opaekaa\"\n",
              "[3273] \"wailua_opaekaa\" \"wailua_opaekaa\" \"wailua_opaekaa\" \"wailua_opaekaa\"\n",
              "[3277] \"wailua_opaekaa\" \"wailua_opaekaa\" \"wailua_opaekaa\" \"wailua_opaekaa\"\n",
              "[3281] \"wailua_opaekaa\" \"wailua_opaekaa\" \"wailua_opaekaa\" \"wailua_opaekaa\"\n",
              "[3285] \"wailua_opaekaa\" \"wailua_opaekaa\" \"wailua_opaekaa\" \"wailua_opaekaa\"\n",
              "[3289] \"wailua_opaekaa\" \"wailua_opaekaa\" \"wailua_opaekaa\" \"wailua_opaekaa\"\n",
              "[3293] \"wailua_opaekaa\" \"wailua_opaekaa\" \"wailua_opaekaa\" \"wailua_opaekaa\""
            ]
          },
          "metadata": {}
        }
      ]
    },
    {
      "cell_type": "code",
      "source": [
        "class(match_layer_listtttt)"
      ],
      "metadata": {
        "colab": {
          "base_uri": "https://localhost:8080/",
          "height": 34
        },
        "id": "0rkLtzD6Jkoq",
        "outputId": "78c60717-6b6e-4228-ce2f-d3aa91ddbc0b"
      },
      "execution_count": 149,
      "outputs": [
        {
          "output_type": "display_data",
          "data": {
            "text/html": [
              "'character'"
            ],
            "text/markdown": "'character'",
            "text/latex": "'character'",
            "text/plain": [
              "[1] \"character\""
            ]
          },
          "metadata": {}
        }
      ]
    },
    {
      "cell_type": "code",
      "source": [
        "class(test_05_wetlandsFishnet_sf_layer)"
      ],
      "metadata": {
        "colab": {
          "base_uri": "https://localhost:8080/",
          "height": 34
        },
        "id": "g_Q4fyc4FE50",
        "outputId": "8e4d42ee-72e0-4512-c0bb-891ec8843c82"
      },
      "execution_count": 150,
      "outputs": [
        {
          "output_type": "display_data",
          "data": {
            "text/html": [
              "<style>\n",
              ".list-inline {list-style: none; margin:0; padding: 0}\n",
              ".list-inline>li {display: inline-block}\n",
              ".list-inline>li:not(:last-child)::after {content: \"\\00b7\"; padding: 0 .5ex}\n",
              "</style>\n",
              "<ol class=list-inline><li>'sf'</li><li>'data.table'</li><li>'data.frame'</li></ol>\n"
            ],
            "text/markdown": "1. 'sf'\n2. 'data.table'\n3. 'data.frame'\n\n\n",
            "text/latex": "\\begin{enumerate*}\n\\item 'sf'\n\\item 'data.table'\n\\item 'data.frame'\n\\end{enumerate*}\n",
            "text/plain": [
              "[1] \"sf\"         \"data.table\" \"data.frame\""
            ]
          },
          "metadata": {}
        }
      ]
    },
    {
      "cell_type": "code",
      "source": [
        "if(length(match_layer_listtttt) == nrow(test_05_wetlandsFishnet_sf_layer)) {\n",
        "  test_05_wetlandsFishnet_sf_layer$location_name <- match_layer_listtttt\n",
        "} else {\n",
        "  warning(\"Length of 'match_layer_list' does not match the number of rows in 'test_05_wetlandsFishnet_sf_layer'.\")\n",
        "}"
      ],
      "metadata": {
        "id": "Ru8upsJmYooS",
        "outputId": "48f2ff4e-0265-44db-f124-427bd0244226",
        "colab": {
          "base_uri": "https://localhost:8080/"
        }
      },
      "execution_count": 154,
      "outputs": [
        {
          "output_type": "stream",
          "name": "stderr",
          "text": [
            "Warning message in eval(expr, envir, enclos):\n",
            "“Length of 'match_layer_list' does not match the number of rows in 'test_05_wetlandsFishnet_sf_layer'.”\n"
          ]
        }
      ]
    },
    {
      "cell_type": "code",
      "source": [
        "test_05_wetlandsFishnet_sf_layer$location_name <- match_layer_listtttt"
      ],
      "metadata": {
        "id": "uZeogKpmX82j",
        "outputId": "7c201ef1-2ace-437f-8c69-483d14c883ac",
        "colab": {
          "base_uri": "https://localhost:8080/",
          "height": 1000
        }
      },
      "execution_count": 152,
      "outputs": [
        {
          "output_type": "error",
          "ename": "ERROR",
          "evalue": "Error in `[[<-.data.frame`(`*tmp*`, i, value = c(\"anahola\", \"anahola\", : replacement has 3296 rows, data has 2666\n",
          "traceback": [
            "Error in `[[<-.data.frame`(`*tmp*`, i, value = c(\"anahola\", \"anahola\", : replacement has 3296 rows, data has 2666\nTraceback:\n",
            "1. `$<-`(`*tmp*`, location_name, value = c(\"anahola\", \"anahola\", \n . \"anahola\", \"anahola\", \"anahola\", \"anahola\", \"anahola\", \"anahola\", \n . \"anahola\", \"anahola\", \"anahola\", \"anahola\", \"anahola\", \"anahola\", \n . \"anahola\", \"anahola\", \"anahola\", \"anahola\", \"anahola\", \"anahola\", \n . \"anahola\", \"anahola\", \"anahola\", \"anahola\", \"anahola\", \"anahola\", \n . \"anahola\", \"anahola\", \"anahola\", \"anahola\", \"anahola\", \"anahola\", \n . \"anahola\", \"anahola\", \"anahola\", \"anahola\", \"anahola\", \"anahola\", \n . \"anahola\", \"anahola\", \"anahola\", \"anahola\", \"anahola\", \"anahola\", \n . \"anahola\", \"anahola\", \"anahola\", \"anahola\", \"haleiwa\", \"haleiwa\", \n . \"haleiwa\", \"haleiwa\", \"haleiwa\", \"haleiwa\", \"haleiwa\", \"haleiwa\", \n . \"haleiwa\", \"haleiwa\", \"haleiwa\", \"haleiwa\", \"haleiwa\", \"haleiwa\", \n . \"haleiwa\", \"haleiwa\", \"haleiwa\", \"haleiwa\", \"haleiwa\", \"haleiwa\", \n . \"haleiwa\", \"haleiwa\", \"haleiwa\", \"haleiwa\", \"haleiwa\", \"haleiwa\", \n . \"haleiwa\", \"haleiwa\", \"haleiwa\", \"haleiwa\", \"haleiwa\", \"haleiwa\", \n . \"haleiwa\", \"haleiwa\", \"haleiwa\", \"haleiwa\", \"haleiwa\", \"haleiwa\", \n . \"haleiwa\", \"haleiwa\", \"haleiwa\", \"haleiwa\", \"haleiwa\", \"haleiwa\", \n . \"haleiwa\", \"haleiwa\", \"haleiwa\", \"haleiwa\", \"haleiwa\", \"haleiwa\", \n . \"haleiwa\", \"haleiwa\", \"haleiwa\", \"haleiwa\", \"haleiwa\", \"haleiwa\", \n . \"haleiwa\", \"haleiwa\", \"haleiwa\", \"haleiwa\", \"haleiwa\", \"haleiwa\", \n . \"haleiwa\", \"haleiwa\", \"haleiwa\", \"haleiwa\", \"haleiwa\", \"haleiwa\", \n . \"haleiwa\", \"haleiwa\", \"haleiwa\", \"haleiwa\", \"haleiwa\", \"haleiwa\", \n . \"haleiwa\", \"haleiwa\", \"haleiwa\", \"haleiwa\", \"haleiwa\", \"haleiwa\", \n . \"haleiwa\", \"haleiwa\", \"haleiwa\", \"haleiwa\", \"haleiwa\", \"haleiwa\", \n . \"haleiwa\", \"haleiwa\", \"haleiwa\", \"haleiwa\", \"haleiwa\", \"haleiwa\", \n . \"haleiwa\", \"haleiwa\", \"haleiwa\", \"haleiwa\", \"haleiwa\", \"haleiwa\", \n . \"haleiwa\", \"haleiwa\", \"haleiwa\", \"haleiwa\", \"haleiwa\", \"haleiwa\", \n . \"haleiwa\", \"haleiwa\", \"haleiwa\", \"haleiwa\", \"haleiwa\", \"haleiwa\", \n . \"haleiwa\", \"haleiwa\", \"haleiwa\", \"haleiwa\", \"haleiwa\", \"haleiwa\", \n . \"haleiwa\", \"haleiwa\", \"haleiwa\", \"haleiwa\", \"haleiwa\", \"haleiwa\", \n . \"haleiwa\", \"haleiwa\", \"haleiwa\", \"haleiwa\", \"haleiwa\", \"haleiwa\", \n . \"haleiwa\", \"haleiwa\", \"haleiwa\", \"haleiwa\", \"haleiwa\", \"haleiwa\", \n . \"haleiwa\", \"haleiwa\", \"haleiwa\", \"haleiwa\", \"haleiwa\", \"haleiwa\", \n . \"haleiwa\", \"haleiwa\", \"haleiwa\", \"haleiwa\", \"haleiwa\", \"haleiwa\", \n . \"haleiwa\", \"haleiwa\", \"haleiwa\", \"haleiwa\", \"haleiwa\", \"haleiwa\", \n . \"haleiwa\", \"haleiwa\", \"haleiwa\", \"haleiwa\", \"haleiwa\", \"haleiwa\", \n . \"haleiwa\", \"haleiwa\", \"haleiwa\", \"haleiwa\", \"haleiwa\", \"haleiwa\", \n . \"haleiwa\", \"haleiwa\", \"haleiwa\", \"haleiwa\", \"haleiwa\", \"haleiwa\", \n . \"haleiwa\", \"haleiwa\", \"haleiwa\", \"haleiwa\", \"haleiwa\", \"haleiwa\", \n . \"haleiwa\", \"haleiwa\", \"haleiwa\", \"haleiwa\", \"haleiwa\", \"haleiwa\", \n . \"haleiwa\", \"haleiwa\", \"haleiwa\", \"haleiwa\", \"haleiwa\", \"haleiwa\", \n . \"haleiwa\", \"haleiwa\", \"haleiwa\", \"haleiwa\", \"haleiwa\", \"haleiwa\", \n . \"haleiwa\", \"haleiwa\", \"haleiwa\", \"haleiwa\", \"haleiwa\", \"haleiwa\", \n . \"haleiwa\", \"haleiwa\", \"haleiwa\", \"haleiwa\", \"haleiwa\", \"haleiwa\", \n . \"haleiwa\", \"haleiwa\", \"haleiwa\", \"haleiwa\", \"haleiwa\", \"haleiwa\", \n . \"haleiwa\", \"haleiwa\", \"haleiwa\", \"haleiwa\", \"haleiwa\", \"haleiwa\", \n . \"haleiwa\", \"haleiwa\", \"haleiwa\", \"haleiwa\", \"haleiwa\", \"haleiwa\", \n . \"haleiwa\", \"haleiwa\", \"haleiwa\", \"haleiwa\", \"haleiwa\", \"haleiwa\", \n . \"haleiwa\", \"haleiwa\", \"haleiwa\", \"haleiwa\", \"haleiwa\", \"haleiwa\", \n . \"haleiwa\", \"haleiwa\", \"haleiwa\", \"haleiwa\", \"haleiwa\", \"haleiwa\", \n . \"haleiwa\", \"haleiwa\", \"haleiwa\", \"haleiwa\", \"haleiwa\", \"haleiwa\", \n . \"haleiwa\", \"haleiwa\", \"haleiwa\", \"haleiwa\", \"haleiwa\", \"haleiwa\", \n . \"haleiwa\", \"haleiwa\", \"haleiwa\", \"haleiwa\", \"haleiwa\", \"haleiwa\", \n . \"haleiwa\", \"haleiwa\", \"haleiwa\", \"haleiwa\", \"haleiwa\", \"haleiwa\", \n . \"haleiwa\", \"haleiwa\", \"haleiwa\", \"haleiwa\", \"haleiwa\", \"haleiwa\", \n . \"haleiwa\", \"haleiwa\", \"haleiwa\", \"haleiwa\", \"haleiwa\", \"haleiwa\", \n . \"haleiwa\", \"haleiwa\", \"haleiwa\", \"haleiwa\", \"haleiwa\", \"haleiwa\", \n . \"haleiwa\", \"haleiwa\", \"haleiwa\", \"haleiwa\", \"haleiwa\", \"haleiwa\", \n . \"haleiwa\", \"haleiwa\", \"haleiwa\", \"haleiwa\", \"haleiwa\", \"haleiwa\", \n . \"haleiwa\", \"haleiwa\", \"haleiwa\", \"haleiwa\", \"hanalei\", \"hanalei\", \n . \"hanalei\", \"hanalei\", \"hanalei\", \"hanalei\", \"hanalei\", \"hanalei\", \n . \"hanalei\", \"hanalei\", \"hanalei\", \"hanalei\", \"hanalei\", \"hanalei\", \n . \"hanalei\", \"hanalei\", \"hanalei\", \"hanalei\", \"hanalei\", \"hanalei\", \n . \"hanalei\", \"hanalei\", \"hanalei\", \"hanalei\", \"hanalei\", \"hanalei\", \n . \"hanalei\", \"hanalei\", \"hanalei\", \"hanalei\", \"hanalei\", \"hanalei\", \n . \"hanalei\", \"hanalei\", \"hanalei\", \"hanalei\", \"hanalei\", \"hanalei\", \n . \"hanalei\", \"hanalei\", \"hanalei\", \"hanalei\", \"hanalei\", \"hanalei\", \n . \"hanalei\", \"hanalei\", \"hanalei\", \"hanalei\", \"hanalei\", \"hanalei\", \n . \"hanalei\", \"hanalei\", \"hanalei\", \"hanalei\", \"hanalei\", \"hanalei\", \n . \"hanalei\", \"hanalei\", \"hanalei\", \"hanalei\", \"hanalei\", \"hanalei\", \n . \"hanalei\", \"hanalei\", \"hanalei\", \"hanalei\", \"hanalei\", \"hanalei\", \n . \"hanalei\", \"hanalei\", \"hanalei\", \"hanalei\", \"hanalei\", \"hanalei\", \n . \"hanalei\", \"hanalei\", \"hanalei\", \"hanalei\", \"hanalei\", \"hanalei\", \n . \"hanalei\", \"hanalei\", \"hanalei\", \"hanalei\", \"hanalei\", \"hanalei\", \n . \"hanalei\", \"hanalei\", \"hanalei\", \"hanalei\", \"hanalei\", \"hanalei\", \n . \"hanalei\", \"hanalei\", \"hanalei\", \"hanalei\", \"hanalei\", \"hanalei\", \n . \"hanalei\", \"hanalei\", \"hanalei\", \"hanalei\", \"hanalei\", \"hanalei\", \n . \"hanalei\", \"hanalei\", \"hanalei\", \"hanalei\", \"hanalei\", \"hanalei\", \n . \"hanalei\", \"hanalei\", \"hanalei\", \"hanalei\", \"hanalei\", \"hanalei\", \n . \"hanalei\", \"hanalei\", \"hanalei\", \"hanalei\", \"hanalei\", \"hanalei\", \n . \"hanalei\", \"hanalei\", \"hanalei\", \"hanalei\", \"hanalei\", \"hanalei\", \n . \"hanalei\", \"hanalei\", \"hanalei\", \"hanalei\", \"hanalei\", \"hanalei\", \n . \"hanalei\", \"hanalei\", \"hanalei\", \"hanalei\", \"hanalei\", \"hanalei\", \n . \"hanalei\", \"hanalei\", \"hanalei\", \"hanalei\", \"hanalei\", \"hanalei\", \n . \"hanalei\", \"hanalei\", \"hanalei\", \"hanalei\", \"hanalei\", \"hanalei\", \n . \"hanalei\", \"hanalei\", \"hanalei\", \"hanalei\", \"hanalei\", \"hanalei\", \n . \"hanalei\", \"hanalei\", \"hanalei\", \"hanalei\", \"hanalei\", \"hanalei\", \n . \"hanalei\", \"hanalei\", \"hanalei\", \"hanalei\", \"hanalei\", \"hanalei\", \n . \"hanalei\", \"hanalei\", \"hanalei\", \"hanalei\", \"hanalei\", \"hanalei\", \n . \"hanalei\", \"hanalei\", \"hanalei\", \"hanalei\", \"hanalei\", \"hanalei\", \n . \"hanalei\", \"hanalei\", \"hanalei\", \"hanalei\", \"hanalei\", \"hanalei\", \n . \"hanalei\", \"hanalei\", \"hanalei\", \"hanalei\", \"hanalei\", \"hanalei\", \n . \"hanalei\", \"hanalei\", \"hanalei\", \"hanalei\", \"hanalei\", \"hanalei\", \n . \"hanalei\", \"hanalei\", \"hanalei\", \"hanalei\", \"hanalei\", \"hanalei\", \n . \"hanalei\", \"hanalei\", \"hanalei\", \"hanalei\", \"hanalei\", \"hanalei\", \n . \"hanalei\", \"hanalei\", \"hanalei\", \"hanalei\", \"hanalei\", \"hanalei\", \n . \"hanalei\", \"hanalei\", \"hanalei\", \"hanalei\", \"hanalei\", \"hanalei\", \n . \"hanalei\", \"hanalei\", \"hanalei\", \"hanalei\", \"hanalei\", \"hanalei\", \n . \"hanalei\", \"hanalei\", \"hanalei\", \"hanalei\", \"hanalei\", \"hanalei\", \n . \"hanalei\", \"hanalei\", \"hanalei\", \"hanalei\", \"hanalei\", \"hanalei\", \n . \"hanalei\", \"hanalei\", \"hanalei\", \"hanalei\", \"hanalei\", \"hanalei\", \n . \"hanalei\", \"hanalei\", \"hanalei\", \"hanalei\", \"hanalei\", \"hanalei\", \n . \"hanalei\", \"hanalei\", \"hanalei\", \"hanalei\", \"hanalei\", \"hanalei\", \n . \"hanalei\", \"hanalei\", \"hanalei\", \"hanalei\", \"hanalei\", \"hanalei\", \n . \"hanalei\", \"hanalei\", \"hanalei\", \"hanalei\", \"hanalei\", \"hanalei\", \n . \"hanalei\", \"hanalei\", \"hanalei\", \"hanalei\", \"hanalei\", \"hanalei\", \n . \"hanalei\", \"hanalei\", \"hanalei\", \"hanalei\", \"hanalei\", \"hanalei\", \n . \"hanalei\", \"huleia\", \"huleia\", \"huleia\", \"huleia\", \"huleia\", \n . \"huleia\", \"huleia\", \"huleia\", \"huleia\", \"huleia\", \"huleia\", \"huleia\", \n . \"huleia\", \"huleia\", \"huleia\", \"huleia\", \"huleia\", \"huleia\", \"huleia\", \n . \"huleia\", \"huleia\", \"huleia\", \"huleia\", \"huleia\", \"huleia\", \"huleia\", \n . \"huleia\", \"huleia\", \"huleia\", \"huleia\", \"huleia\", \"huleia\", \"huleia\", \n . \"huleia\", \"huleia\", \"huleia\", \"huleia\", \"huleia\", \"huleia\", \"huleia\", \n . \"huleia\", \"huleia\", \"huleia\", \"huleia\", \"huleia\", \"huleia\", \"huleia\", \n . \"huleia\", \"huleia\", \"huleia\", \"huleia\", \"huleia\", \"huleia\", \"huleia\", \n . \"huleia\", \"huleia\", \"huleia\", \"huleia\", \"huleia\", \"huleia\", \"huleia\", \n . \"huleia\", \"huleia\", \"huleia\", \"huleia\", \"huleia\", \"huleia\", \"huleia\", \n . \"huleia\", \"huleia\", \"huleia\", \"huleia\", \"huleia\", \"huleia\", \"huleia\", \n . \"huleia\", \"huleia\", \"kahuku\", \"kahuku\", \"kahuku\", \"kahuku\", \"kahuku\", \n . \"kahuku\", \"kahuku\", \"kahuku\", \"kahuku\", \"kahuku\", \"kahuku\", \"kahuku\", \n . \"kahuku\", \"kahuku\", \"kahuku\", \"kahuku\", \"kahuku\", \"kahuku\", \"kahuku\", \n . \"kahuku\", \"kahuku\", \"kahuku\", \"kahuku\", \"kahuku\", \"kahuku\", \"kahuku\", \n . \"kahuku\", \"kahuku\", \"kahuku\", \"kahuku\", \"kahuku\", \"kahuku\", \"kahuku\", \n . \"kahuku\", \"kahuku\", \"kahuku\", \"kahuku\", \"kahuku\", \"kahuku\", \"kahuku\", \n . \"kahuku\", \"kahuku\", \"kahuku\", \"kahuku\", \"kahuku\", \"kahuku\", \"kahuku\", \n . \"kahuku\", \"kahuku\", \"kahuku\", \"kahuku\", \"kahuku\", \"kahuku\", \"kahuku\", \n . \"kahuku\", \"kahuku\", \"kahuku\", \"kahuku\", \"kahuku\", \"kahuku\", \"kahuku\", \n . \"kahuku\", \"kahuku\", \"kahuku\", \"kahuku\", \"kahuku\", \"kahuku\", \"kahuku\", \n . \"kahuku\", \"kahuku\", \"kahuku\", \"kahuku\", \"kahuku\", \"kahuku\", \"kahuku\", \n . \"kahuku\", \"kahuku\", \"kahuku\", \"kahuku\", \"kahuku\", \"kahuku\", \"kahuku\", \n . \"kahuku\", \"kahuku\", \"kahuku\", \"kahuku\", \"kahuku\", \"kahuku\", \"kahuku\", \n . \"kahuku\", \"kahuku\", \"kahuku\", \"kahuku\", \"kahuku\", \"kahuku\", \"kahuku\", \n . \"kahuku\", \"kahuku\", \"kahuku\", \"kahuku\", \"kahuku\", \"kahuku\", \"kahuku\", \n . \"kahuku\", \"kahuku\", \"kahuku\", \"kahuku\", \"kahuku\", \"kahuku\", \"kahuku\", \n . \"kahuku\", \"kahuku\", \"kahuku\", \"kahuku\", \"kahuku\", \"kahuku\", \"kahuku\", \n . \"kahuku\", \"kahuku\", \"kahuku\", \"kahuku\", \"kahuku\", \"kahuku\", \"kahuku\", \n . \"kahuku\", \"kahuku\", \"kahuku\", \"kahuku\", \"kahuku\", \"kahuku\", \"kahuku\", \n . \"kahuku\", \"kahuku\", \"kahuku\", \"kahuku\", \"kahuku\", \"kahuku\", \"kahuku\", \n . \"kahuku\", \"kahuku\", \"kahuku\", \"kahuku\", \"kahuku\", \"kahuku\", \"kahuku\", \n . \"kahuku\", \"kahuku\", \"kahuku\", \"kahuku\", \"kahuku\", \"kahuku\", \"kahuku\", \n . \"kahuku\", \"kahuku\", \"kahuku\", \"kahuku\", \"kahuku\", \"kahuku\", \"kahuku\", \n . \"kahuku\", \"kahuku\", \"kahuku\", \"kahuku\", \"kahuku\", \"kahuku\", \"kahuku\", \n . \"kahuku\", \"kahuku\", \"kahuku\", \"kahuku\", \"kahuku\", \"kahuku\", \"kahuku\", \n . \"kahuku\", \"kahuku\", \"kahuku\", \"kahuku\", \"kahuku\", \"kahuku\", \"kahuku\", \n . \"kahuku\", \"kahuku\", \"kahuku\", \"kahuku\", \"kahuku\", \"kahuku\", \"kahuku\", \n . \"kahuku\", \"kahuku\", \"kahuku\", \"kahuku\", \"kahuku\", \"kahuku\", \"kahuku\", \n . \"kahuku\", \"kahuku\", \"kahuku\", \"kahuku\", \"kahuku\", \"kahuku\", \"kahuku\", \n . \"kahuku\", \"kahuku\", \"kahuku\", \"kahuku\", \"kahuku\", \"kahuku\", \"kahuku\", \n . \"kahuku\", \"kahuku\", \"kahuku\", \"kahuku\", \"kahuku\", \"kahuku\", \"kahuku\", \n . \"kahuku\", \"kakahaia\", \"kakahaia\", \"kakahaia\", \"kakahaia\", \"kakahaia\", \n . \"kakahaia\", \"kakahaia\", \"kakahaia\", \"kakahaia\", \"kakahaia\", \"kakahaia\", \n . \"kakahaia\", \"kakahaia\", \"kakahaia\", \"kakahaia\", \"kakahaia\", \"kakahaia\", \n . \"kakahaia\", \"kakahaia\", \"kakahaia\", \"kakahaia\", \"kakahaia\", \"kakahaia\", \n . \"kakahaia\", \"kakahaia\", \"kakahaia\", \"kakahaia\", \"kakahaia\", \"kakahaia\", \n . \"kakahaia\", \"kakahaia\", \"kakahaia\", \"kakahaia\", \"kakahaia\", \"kakahaia\", \n . \"kakahaia\", \"kakahaia\", \"kakahaia\", \"kakahaia\", \"kakahaia\", \"kakahaia\", \n . \"kakahaia\", \"kakahaia\", \"kakahaia\", \"kakahaia\", \"kakahaia\", \"kakahaia\", \n . \"kakahaia\", \"kakahaia\", \"kakahaia\", \"kakahaia\", \"kakahaia\", \"kakahaia\", \n . \"kakahaia\", \"kakahaia\", \"kakahaia\", \"kakahaia\", \"kakahaia\", \"kakahaia\", \n . \"kakahaia\", \"kakahaia\", \"kakahaia\", \"kakahaia\", \"kakahaia\", \"kakahaia\", \n . \"kakahaia\", \"kakahaia\", \"kakahaia\", \"kakahaia\", \"kakahaia\", \"kakahaia\", \n . \"kakahaia\", \"kakahaia\", \"kakahaia\", \"kakahaia\", \"kakahaia\", \"kakahaia\", \n . \"kakahaia\", \"kakahaia\", \"kakahaia\", \"kakahaia\", \"kakahaia\", \"kakahaia\", \n . \"kakahaia\", \"kakahaia\", \"kakahaia\", \"kakahaia\", \"kakahaia\", \"kakahaia\", \n . \"kakahaia\", \"kakahaia\", \"kakahaia\", \"kakahaia\", \"kakahaia\", \"kakahaia\", \n . \"kakahaia\", \"kakahaia\", \"kakahaia\", \"kakahaia\", \"kakahaia\", \"kakahaia\", \n . \"kakahaia\", \"kakahaia\", \"kakahaia\", \"kakahaia\", \"kakahaia\", \"kakahaia\", \n . \"kakahaia\", \"kakahaia\", \"kakahaia\", \"kakahaia\", \"kakahaia\", \"kakahaia\", \n . \"kakahaia\", \"kakahaia\", \"kakahaia\", \"kakahaia\", \"kakahaia\", \"kakahaia\", \n . \"kakahaia\", \"kakahaia\", \"kakahaia\", \"kakahaia\", \"kakahaia\", \"kakahaia\", \n . \"kakahaia\", \"kakahaia\", \"kakahaia\", \"kakahaia\", \"kakahaia\", \"kakahaia\", \n . \"kakahaia\", \"kakahaia\", \"kakahaia\", \"kakahaia\", \"kakahaia\", \"kakahaia\", \n . \"kakahaia\", \"kakahaia\", \"kakahaia\", \"kakahaia\", \"kakahaia\", \"kakahaia\", \n . \"kakahaia\", \"kakahaia\", \"kakahaia\", \"kakahaia\", \"kakahaia\", \"kakahaia\", \n . \"kakahaia\", \"kakahaia\", \"kakahaia\", \"kakahaia\", \"kakahaia\", \"kakahaia\", \n . \"kakahaia\", \"kakahaia\", \"kakahaia\", \"kakahaia\", \"kakahaia\", \"kakahaia\", \n . \"kakahaia\", \"kakahaia\", \"kakahaia\", \"kakahaia\", \"kakahaia\", \"kakahaia\", \n . \"kakahaia\", \"kakahaia\", \"kakahaia\", \"kakahaia\", \"kakahaia\", \"kakahaia\", \n . \"kakahaia\", \"kakahaia\", \"kakahaia\", \"kakahaia\", \"kakahaia\", \"kakahaia\", \n . \"kakahaia\", \"kakahaia\", \"kakahaia\", \"kakahaia\", \"kakahaia\", \"kakahaia\", \n . \"kakahaia\", \"kakahaia\", \"kakahaia\", \"kakahaia\", \"kakahaia\", \"kakahaia\", \n . \"kakahaia\", \"kakahaia\", \"kakahaia\", \"kakahaia\", \"kakahaia\", \"kakahaia\", \n . \"kakahaia\", \"kakahaia\", \"kakahaia\", \"kakahaia\", \"kakahaia\", \"kakahaia\", \n . \"kakahaia\", \"kakahaia\", \"kakahaia\", \"kakahaia\", \"kakahaia\", \"kakahaia\", \n . \"kakahaia\", \"kakahaia\", \"kakahaia\", \"kakahaia\", \"kakahaia\", \"kakahaia\", \n . \"kakahaia\", \"kakahaia\", \"kakahaia\", \"kakahaia\", \"kakahaia\", \"kakahaia\", \n . \"kakahaia\", \"kakahaia\", \"kakahaia\", \"kakahaia\", \"kakahaia\", \"kakahaia\", \n . \"kakahaia\", \"kakahaia\", \"kakahaia\", \"kakahaia\", \"kakahaia\", \"kakahaia\", \n . \"kakahaia\", \"kakahaia\", \"kakahaia\", \"kakahaia\", \"kakahaia\", \"kakahaia\", \n . \"kakahaia\", \"kakahaia\", \"kakahaia\", \"kakahaia\", \"kakahaia\", \"kakahaia\", \n . \"kakahaia\", \"kakahaia\", \"kakahaia\", \"kakahaia\", \"kakahaia\", \"kakahaia\", \n . \"kakahaia\", \"kakahaia\", \"kakahaia\", \"kakahaia\", \"kakahaia\", \"kakahaia\", \n . \"kakahaia\", \"kakahaia\", \"kakahaia\", \"kakahaia\", \"kakahaia\", \"kakahaia\", \n . \"kakahaia\", \"kakahaia\", \"kakahaia\", \"kakahaia\", \"kakahaia\", \"kakahaia\", \n . \"kakahaia\", \"kakahaia\", \"kakahaia\", \"kakahaia\", \"kakahaia\", \"kakahaia\", \n . \"kakahaia\", \"kakahaia\", \"kakahaia\", \"kakahaia\", \"kakahaia\", \"kakahaia\", \n . \"kakahaia\", \"kakahaia\", \"kakahaia\", \"kakahaia\", \"kakahaia\", \"kakahaia\", \n . \"kakahaia\", \"kakahaia\", \"kakahaia\", \"kakahaia\", \"kakahaia\", \"kakahaia\", \n . \"kakahaia\", \"kakahaia\", \"kakahaia\", \"kakahaia\", \"kakahaia\", \"kakahaia\", \n . \"kakahaia\", \"kakahaia\", \"kakahaia\", \"kakahaia\", \"kakahaia\", \"kakahaia\", \n . \"kakahaia\", \"kakahaia\", \"kakahaia\", \"kakahaia\", \"kakahaia\", \"kakahaia\", \n . \"kakahaia\", \"kakahaia\", \"kakahaia\", \"kakahaia\", \"kakahaia\", \"kakahaia\", \n . \"kakahaia\", \"kakahaia\", \"kakahaia\", \"kakahaia\", \"kakahaia\", \"kakahaia\", \n . \"kakahaia\", \"kakahaia\", \"kakahaia\", \"kakahaia\", \"kakahaia\", \"kakahaia\", \n . \"kakahaia\", \"kakahaia\", \"kakahaia\", \"kakahaia\", \"kakahaia\", \"kakahaia\", \n . \"kakahaia\", \"kakahaia\", \"kakahaia\", \"kakahaia\", \"kakahaia\", \"kakahaia\", \n . \"kakahaia\", \"kakahaia\", \"kakahaia\", \"kakahaia\", \"kakahaia\", \"kakahaia\", \n . \"kakahaia\", \"kakahaia\", \"kakahaia\", \"kakahaia\", \"kakahaia\", \"kakahaia\", \n . \"kakahaia\", \"kakahaia\", \"kakahaia\", \"kakahaia\", \"kakahaia\", \"kakahaia\", \n . \"kakahaia\", \"kakahaia\", \"kakahaia\", \"kakahaia\", \"kakahaia\", \"kakahaia\", \n . \"kakahaia\", \"kakahaia\", \"kakahaia\", \"kakahaia\", \"kakahaia\", \"kakahaia\", \n . \"kakahaia\", \"kakahaia\", \"kakahaia\", \"kakahaia\", \"kakahaia\", \"kakahaia\", \n . \"kakahaia\", \"kakahaia\", \"kakahaia\", \"kakahaia\", \"kakahaia\", \"kakahaia\", \n . \"kakahaia\", \"kakahaia\", \"kaluaapuhi\", \"kaluaapuhi\", \"kaluaapuhi\", \n . \"kaluaapuhi\", \"kaluaapuhi\", \"kaluaapuhi\", \"kaluaapuhi\", \"kaluaapuhi\", \n . \"kaluaapuhi\", \"kaluaapuhi\", \"kaluaapuhi\", \"kaluaapuhi\", \"kaluaapuhi\", \n . \"kaluaapuhi\", \"kaluaapuhi\", \"kaluaapuhi\", \"kaluaapuhi\", \"kaluaapuhi\", \n . \"kaluaapuhi\", \"kaluaapuhi\", \"kaluaapuhi\", \"kaluaapuhi\", \"kaluaapuhi\", \n . \"kaluaapuhi\", \"kaluaapuhi\", \"kaluaapuhi\", \"kaluaapuhi\", \"kaluaapuhi\", \n . \"kaluaapuhi\", \"kaluaapuhi\", \"kaluaapuhi\", \"kaluaapuhi\", \"kaluaapuhi\", \n . \"kaluaapuhi\", \"kaluaapuhi\", \"kaluaapuhi\", \"kaluaapuhi\", \"kaluaapuhi\", \n . \"kaluaapuhi\", \"kaluaapuhi\", \"kaluaapuhi\", \"kaluaapuhi\", \"kaluaapuhi\", \n . \"kaluaapuhi\", \"kaluaapuhi\", \"kaluaapuhi\", \"kaluaapuhi\", \"kaluaapuhi\", \n . \"kaluaapuhi\", \"kaluaapuhi\", \"kaluaapuhi\", \"kaluaapuhi\", \"kaluaapuhi\", \n . \"kaluaapuhi\", \"kaluaapuhi\", \"kaluaapuhi\", \"kaluaapuhi\", \"kaluaapuhi\", \n . \"kaluaapuhi\", \"kaluaapuhi\", \"kaluaapuhi\", \"kaluaapuhi\", \"kaluaapuhi\", \n . \"kaluaapuhi\", \"kaluaapuhi\", \"kaluaapuhi\", \"kaluaapuhi\", \"kaluaapuhi\", \n . \"kaluaapuhi\", \"kaluaapuhi\", \"kaluaapuhi\", \"kaluaapuhi\", \"kaluaapuhi\", \n . \"kaluaapuhi\", \"kaluaapuhi\", \"kaluaapuhi\", \"kaluaapuhi\", \"kaluaapuhi\", \n . \"kaluaapuhi\", \"kaluaapuhi\", \"kaluaapuhi\", \"kaluaapuhi\", \"kaluaapuhi\", \n . \"kaluaapuhi\", \"kaluaapuhi\", \"kaluaapuhi\", \"kaluaapuhi\", \"kaluaapuhi\", \n . \"kaluaapuhi\", \"kaluaapuhi\", \"kaluaapuhi\", \"kaluaapuhi\", \"kaluaapuhi\", \n . \"kaluaapuhi\", \"kaluaapuhi\", \"kaluaapuhi\", \"kaluaapuhi\", \"kaluaapuhi\", \n . \"kaluaapuhi\", \"kaluaapuhi\", \"kaluaapuhi\", \"kaluaapuhi\", \"kaluaapuhi\", \n . \"kaluaapuhi\", \"kaluaapuhi\", \"kaluaapuhi\", \"kaluaapuhi\", \"kaluaapuhi\", \n . \"kaluaapuhi\", \"kaluaapuhi\", \"kaluaapuhi\", \"kaluaapuhi\", \"kaluaapuhi\", \n . \"kaluaapuhi\", \"kaluaapuhi\", \"kaluaapuhi\", \"kaluaapuhi\", \"kaluaapuhi\", \n . \"kaluaapuhi\", \"kaluaapuhi\", \"kaluaapuhi\", \"kaluaapuhi\", \"kaluaapuhi\", \n . \"kaluaapuhi\", \"kaluaapuhi\", \"kaluaapuhi\", \"kaluaapuhi\", \"kaluaapuhi\", \n . \"kaluaapuhi\", \"kaluaapuhi\", \"kaluaapuhi\", \"kaluaapuhi\", \"kaluaapuhi\", \n . \"kaluaapuhi\", \"kaluaapuhi\", \"kaluaapuhi\", \"kaluaapuhi\", \"kaluaapuhi\", \n . \"kaluaapuhi\", \"kaluaapuhi\", \"kaluaapuhi\", \"kaluaapuhi\", \"kaluaapuhi\", \n . \"kaluaapuhi\", \"kaluaapuhi\", \"kaluaapuhi\", \"kaluaapuhi\", \"kaluaapuhi\", \n . \"kaluaapuhi\", \"kaluaapuhi\", \"kaluaapuhi\", \"kaluaapuhi\", \"kaluaapuhi\", \n . \"kaluaapuhi\", \"kaluaapuhi\", \"kaluaapuhi\", \"kaluaapuhi\", \"kaluaapuhi\", \n . \"kaluaapuhi\", \"kaluaapuhi\", \"kaluaapuhi\", \"kaluaapuhi\", \"kaluaapuhi\", \n . \"kaluaapuhi\", \"kaluaapuhi\", \"kaluaapuhi\", \"kaluaapuhi\", \"kaluaapuhi\", \n . \"kaluaapuhi\", \"kaluaapuhi\", \"kaluaapuhi\", \"kaluaapuhi\", \"kaluaapuhi\", \n . \"kaluaapuhi\", \"kaluaapuhi\", \"kaluaapuhi\", \"kaluaapuhi\", \"kaluaapuhi\", \n . \"kaluaapuhi\", \"kaluaapuhi\", \"kaluaapuhi\", \"kaluaapuhi\", \"kaluaapuhi\", \n . \"kaluaapuhi\", \"kaluaapuhi\", \"kaluaapuhi\", \"kaluaapuhi\", \"kaluaapuhi\", \n . \"kaluaapuhi\", \"kaluaapuhi\", \"kaluaapuhi\", \"kaluaapuhi\", \"kaluaapuhi\", \n . \"kaluaapuhi\", \"kaluaapuhi\", \"kaluaapuhi\", \"kaluaapuhi\", \"kaluaapuhi\", \n . \"kaluaapuhi\", \"kaluaapuhi\", \"kaluaapuhi\", \"kaluaapuhi\", \"kaluaapuhi\", \n . \"kaluaapuhi\", \"kaluaapuhi\", \"kaluaapuhi\", \"kaluaapuhi\", \"kaluaapuhi\", \n . \"kaluaapuhi\", \"kaluaapuhi\", \"kaluaapuhi\", \"kaluaapuhi\", \"kaluaapuhi\", \n . \"kaluaapuhi\", \"kaluaapuhi\", \"kaluaapuhi\", \"kaluaapuhi\", \"kaluaapuhi\", \n . \"kaluaapuhi\", \"kaluaapuhi\", \"kaluaapuhi\", \"kaluaapuhi\", \"kaluaapuhi\", \n . \"kaluaapuhi\", \"kaluaapuhi\", \"kaluaapuhi\", \"kaluaapuhi\", \"kaluaapuhi\", \n . \"kaluaapuhi\", \"kaluaapuhi\", \"kaluaapuhi\", \"kaluaapuhi\", \"kaluaapuhi\", \n . \"kaluaapuhi\", \"kaluaapuhi\", \"kaluaapuhi\", \"kaluaapuhi\", \"kaluaapuhi\", \n . \"kaluaapuhi\", \"kaluaapuhi\", \"kaluaapuhi\", \"kaluaapuhi\", \"kaluaapuhi\", \n . \"kaluaapuhi\", \"kaluaapuhi\", \"kaluaapuhi\", \"kaluaapuhi\", \"kaluaapuhi\", \n . \"kaluaapuhi\", \"kaluaapuhi\", \"kaluaapuhi\", \"kaluaapuhi\", \"kaluaapuhi\", \n . \"kaluaapuhi\", \"kaluaapuhi\", \"kaluaapuhi\", \"kaluaapuhi\", \"kaluaapuhi\", \n . \"kaluaapuhi\", \"kaluaapuhi\", \"kamalo\", \"kamalo\", \"kamalo\", \"kamalo\", \n . \"kamalo\", \"kamalo\", \"kamalo\", \"kamalo\", \"kamalo\", \"kamalo\", \"kamalo\", \n . \"kamalo\", \"kamalo\", \"kamalo\", \"kamalo\", \"kamalo\", \"kamalo\", \"kamalo\", \n . \"kamalo\", \"kamalo\", \"kamalo\", \"kamalo\", \"kamalo\", \"kamalo\", \"kamalo\", \n . \"kamalo\", \"kamalo\", \"kamalo\", \"kamalo\", \"kamalo\", \"kamalo\", \"kamalo\", \n . \"kamalo\", \"kamalo\", \"kamalo\", \"kamalo\", \"kamalo\", \"kamalo\", \"kamalo\", \n . \"kamalo\", \"kamalo\", \"kamalo\", \"kamalo\", \"kamalo\", \"kamalo\", \"kamalo\", \n . \"kamalo\", \"kamalo\", \"kamalo\", \"kamalo\", \"kamalo\", \"kamalo\", \"kamalo\", \n . \"kamalo\", \"kamalo\", \"kamalo\", \"kamalo\", \"kamalo\", \"kamalo\", \"kamalo\", \n . \"kamalo\", \"kamalo\", \"kamalo\", \"kamalo\", \"kamalo\", \"kamalo\", \"kamalo\", \n . \"kamalo\", \"kamalo\", \"kamalo\", \"kamalo\", \"kamalo\", \"kamalo\", \"kamalo\", \n . \"kamalo\", \"kamalo\", \"kamalo\", \"kamalo\", \"kamalo\", \"kamalo\", \"kamalo\", \n . \"kamalo\", \"kamalo\", \"kamalo\", \"kamalo\", \"kamalo\", \"kamalo\", \"kamalo\", \n . \"kamalo\", \"kamalo\", \"kamalo\", \"kamalo\", \"kamalo\", \"kamalo\", \"kamalo\", \n . \"kamalo\", \"kamalo\", \"kamalo\", \"kamalo\", \"kamalo\", \"kamalo\", \"kamalo\", \n . \"kamalo\", \"kamalo\", \"kamalo\", \"kamalo\", \"kamalo\", \"kamalo\", \"kamalo\", \n . \"kamalo\", \"kamalo\", \"kamalo\", \"kamalo\", \"kamalo\", \"kamalo\", \"kamalo\", \n . \"kamalo\", \"kamalo\", \"kamalo\", \"kamalo\", \"kamalo\", \"kamalo\", \"kamalo\", \n . \"kamalo\", \"kamalo\", \"kamalo\", \"kamalo\", \"kamalo\", \"kamalo\", \"kamalo\", \n . \"kamalo\", \"kamalo\", \"kamalo\", \"kamalo\", \"kamalo\", \"kamalo\", \"kamalo\", \n . \"kamalo\", \"kamalo\", \"kamalo\", \"kamalo\", \"kamalo\", \"kamalo\", \"kamalo\", \n . \"kamalo\", \"kamalo\", \"kamalo\", \"kamalo\", \"kamalo\", \"kamalo\", \"kamalo\", \n . \"kamalo\", \"kamalo\", \"kamalo\", \"kamalo\", \"kamalo\", \"kamalo\", \"kamalo\", \n . \"kamalo\", \"kamalo\", \"kamalo\", \"kamalo\", \"kamalo\", \"kamalo\", \"kamalo\", \n . \"kamalo\", \"kamalo\", \"kamalo\", \"kamalo\", \"kamalo\", \"kamalo\", \"kamalo\", \n . \"kamalo\", \"kamalo\", \"kamalo\", \"kamalo\", \"kamalo\", \"kamalo\", \"kamalo\", \n . \"kamalo\", \"kamalo\", \"kamalo\", \"kamalo\", \"kamalo\", \"kamalo\", \"kamalo\", \n . \"kamalo\", \"kamalo\", \"kamalo\", \"kamalo\", \"kamalo\", \"kamalo\", \"kamalo\", \n . \"kamalo\", \"kamalo\", \"kamalo\", \"kamalo\", \"kamalo\", \"kamalo\", \"kamalo\", \n . \"kamalo\", \"kamalo\", \"kamalo\", \"kamalo\", \"kamalo\", \"kamalo\", \"kamalo\", \n . \"kamalo\", \"kamalo\", \"kamalo\", \"kamalo\", \"kamalo\", \"kamalo\", \"kamalo\", \n . \"kamalo\", \"kamalo\", \"kamalo\", \"kamalo\", \"kamalo\", \"kamalo\", \"kamalo\", \n . \"kamalo\", \"kamalo\", \"kamalo\", \"kamalo\", \"kamalo\", \"kamalo\", \"kamalo\", \n . \"kamalo\", \"kamalo\", \"kamalo\", \"kamalo\", \"kamalo\", \"kamalo\", \"kamalo\", \n . \"kamalo\", \"kamalo\", \"kamalo\", \"kamalo\", \"kamalo\", \"kamalo\", \"kamalo\", \n . \"kamalo\", \"kamalo\", \"kamalo\", \"kamalo\", \"kamalo\", \"kamalo\", \"kamalo\", \n . \"kamalo\", \"kamalo\", \"kamalo\", \"kamalo\", \"kamalo\", \"kamalo\", \"kamalo\", \n . \"kamalo\", \"kamalo\", \"kamalo\", \"kamalo\", \"kamalo\", \"kamalo\", \"kamalo\", \n . \"kamalo\", \"kamalo\", \"kamalo\", \"kamalo\", \"kamalo\", \"kamalo\", \"kamalo\", \n . \"kamalo\", \"kamalo\", \"kamalo\", \"kamalo\", \"kamalo\", \"kamalo\", \"kamalo\", \n . \"kamalo\", \"kamalo\", \"kamalo\", \"kamalo\", \"kamalo\", \"kamalo\", \"kamalo\", \n . \"kamalo\", \"kamalo\", \"kamalo\", \"kamalo\", \"kamalo\", \"kamalo\", \"kamalo\", \n . \"kamalo\", \"kamalo\", \"kamalo\", \"kamalo\", \"kamalo\", \"kamalo\", \"kamalo\", \n . \"kamalo\", \"kamalo\", \"kamalo\", \"kamalo\", \"kamalo\", \"kamalo\", \"kamalo\", \n . \"kamalo\", \"kamalo\", \"kamalo\", \"kamalo\", \"kamalo\", \"kamalo\", \"kamalo\", \n . \"kamalo\", \"kamalo\", \"kamalo\", \"kamalo\", \"kamalo\", \"kamalo\", \"kamalo\", \n . \"kamalo\", \"kamalo\", \"kamalo\", \"kamalo\", \"kamalo\", \"kamalo\", \"kamalo\", \n . \"kamalo\", \"kamalo\", \"kamalo\", \"kamalo\", \"kamalo\", \"kamalo\", \"kamalo\", \n . \"kamalo\", \"kamalo\", \"kamalo\", \"kamalo\", \"kamalo\", \"kamalo\", \"kamalo\", \n . \"kamalo\", \"kamalo\", \"kamalo\", \"kamalo\", \"kamalo\", \"kamalo\", \"kamalo\", \n . \"kamalo\", \"kamalo\", \"kamalo\", \"kamalo\", \"kamalo\", \"kamalo\", \"kamalo\", \n . \"kamalo\", \"kamalo\", \"kamalo\", \"kamalo\", \"kamalo\", \"kamalo\", \"kamalo\", \n . \"kamalo\", \"kamalo\", \"kamalo\", \"kamalo\", \"kamalo\", \"kamalo\", \"kamalo\", \n . \"kamalo\", \"kamalo\", \"kamalo\", \"kamalo\", \"kamalo\", \"kamalo\", \"kamalo\", \n . \"kamalo\", \"kamalo\", \"kamalo\", \"kamalo\", \"kamalo\", \"kanaha\", \"kanaha\", \n . \"kanaha\", \"kanaha\", \"kanaha\", \"kanaha\", \"kanaha\", \"kanaha\", \"kanaha\", \n . \"kanaha\", \"kanaha\", \"kanaha\", \"kanaha\", \"kanaha\", \"kanaha\", \"kanaha\", \n . \"kanaha\", \"kanaha\", \"kanaha\", \"kanaha\", \"kanaha\", \"kanaha\", \"kanaha\", \n . \"kanaha\", \"kanaha\", \"kanaha\", \"kanaha\", \"kanaha\", \"kanaha\", \"kanaha\", \n . \"kanaha\", \"kanaha\", \"kanaha\", \"kanaha\", \"kanaha\", \"kanaha\", \"kanaha\", \n . \"kanaha\", \"kanaha\", \"kanaha\", \"kanaha\", \"kanaha\", \"kawainui\", \n . \"kawainui\", \"kawainui\", \"kawainui\", \"kawainui\", \"kawainui\", \"kawainui\", \n . \"kawainui\", \"kawainui\", \"kawainui\", \"kawainui\", \"kawainui\", \"kawainui\", \n . \"kawainui\", \"kawainui\", \"kawainui\", \"kawainui\", \"kawainui\", \"kawainui\", \n . \"kawainui\", \"kawainui\", \"kawainui\", \"kawainui\", \"kawainui\", \"kawainui\", \n . \"kawainui\", \"kawainui\", \"kawainui\", \"kawainui\", \"kawainui\", \"kawainui\", \n . \"kawainui\", \"kawainui\", \"kawainui\", \"kawainui\", \"kawainui\", \"kawainui\", \n . \"kawainui\", \"kawainui\", \"kawainui\", \"kawainui\", \"kawainui\", \"kawainui\", \n . \"kawainui\", \"kawainui\", \"kawainui\", \"kawainui\", \"kawainui\", \"kawainui\", \n . \"kawainui\", \"kawainui\", \"kawainui\", \"kawainui\", \"kawainui\", \"kawainui\", \n . \"kawainui\", \"kawainui\", \"kawainui\", \"kawainui\", \"kawainui\", \"kawainui\", \n . \"kawainui\", \"kawainui\", \"kawainui\", \"kawainui\", \"kawainui\", \"kawainui\", \n . \"kawainui\", \"kawainui\", \"kawainui\", \"kawainui\", \"kawainui\", \"kawainui\", \n . \"kawainui\", \"kawainui\", \"kawainui\", \"kawainui\", \"kawainui\", \"kawainui\", \n . \"kawainui\", \"kawainui\", \"kawainui\", \"kawainui\", \"kawainui\", \"kawainui\", \n . \"kawainui\", \"kawainui\", \"kawainui\", \"kawainui\", \"kawainui\", \"kawainui\", \n . \"kawainui\", \"kawainui\", \"kawainui\", \"kawainui\", \"kawainui\", \"kawainui\", \n . \"kawainui\", \"kawainui\", \"kawainui\", \"kawainui\", \"kawainui\", \"kawainui\", \n . \"kawainui\", \"kawainui\", \"kawainui\", \"kawainui\", \"kawainui\", \"kawainui\", \n . \"kawainui\", \"kawainui\", \"kawainui\", \"kawainui\", \"kawainui\", \"kawainui\", \n . \"kawainui\", \"kawainui\", \"kawainui\", \"kawainui\", \"kawainui\", \"kawainui\", \n . \"kawainui\", \"kawainui\", \"kawainui\", \"kawainui\", \"kawainui\", \"kawainui\", \n . \"kawainui\", \"kawainui\", \"kawainui\", \"kawainui\", \"kawainui\", \"kawainui\", \n . \"kawainui\", \"kawainui\", \"kawainui\", \"kawainui\", \"kawainui\", \"kawainui\", \n . \"kawainui\", \"kawainui\", \"kawainui\", \"kawainui\", \"kawainui\", \"kawainui\", \n . \"kawainui\", \"kawainui\", \"kawainui\", \"kawainui\", \"kawainui\", \"kawainui\", \n . \"kawainui\", \"kawainui\", \"kawainui\", \"kawainui\", \"kawainui\", \"kawainui\", \n . \"kawainui\", \"kawainui\", \"kawainui\", \"kawainui\", \"kawainui\", \"kawainui\", \n . \"kawainui\", \"kawainui\", \"kawainui\", \"kawainui\", \"kawainui\", \"kawainui\", \n . \"kawainui\", \"kawainui\", \"kawainui\", \"kawainui\", \"kawainui\", \"kawainui\", \n . \"kawainui\", \"kawainui\", \"kawainui\", \"kawainui\", \"kawainui\", \"kawainui\", \n . \"kawainui\", \"kawainui\", \"kawainui\", \"kawainui\", \"kawainui\", \"kawainui\", \n . \"kawainui\", \"kawainui\", \"kawainui\", \"kawainui\", \"kawainui\", \"kawainui\", \n . \"kawainui\", \"kawainui\", \"kawainui\", \"kawainui\", \"kawainui\", \"kawainui\", \n . \"kawainui\", \"kawainui\", \"kawainui\", \"kawainui\", \"kawainui\", \"kawainui\", \n . \"kawainui\", \"kawainui\", \"kawainui\", \"kawainui\", \"kawainui\", \"kawainui\", \n . \"kawainui\", \"kawainui\", \"kawainui\", \"kawainui\", \"kawainui\", \"kawainui\", \n . \"kawainui\", \"kawainui\", \"kawainui\", \"kawainui\", \"kawainui\", \"kawainui\", \n . \"kawainui\", \"kawainui\", \"kawainui\", \"kawainui\", \"kawainui\", \"kawainui\", \n . \"kawainui\", \"kawainui\", \"kawainui\", \"kawainui\", \"kawainui\", \"kawainui\", \n . \"kawainui\", \"kawainui\", \"kawainui\", \"kawainui\", \"kawainui\", \"kawainui\", \n . \"kawainui\", \"kawainui\", \"kawainui\", \"kawainui\", \"kawainui\", \"kawainui\", \n . \"kawainui\", \"kawainui\", \"kawainui\", \"kawainui\", \"kawainui\", \"kawainui\", \n . \"kawainui\", \"kawainui\", \"kawainui\", \"kawainui\", \"kawainui\", \"kawainui\", \n . \"kawainui\", \"kawainui\", \"kawainui\", \"kawainui\", \"kawainui\", \"kawainui\", \n . \"kawainui\", \"kawainui\", \"kawainui\", \"kawainui\", \"kawainui\", \"kawainui\", \n . \"kawainui\", \"kawainui\", \"kawainui\", \"kawainui\", \"kawainui\", \"kawainui\", \n . \"kawainui\", \"kawainui\", \"kawainui\", \"kawainui\", \"kawainui\", \"kawainui\", \n . \"kawainui\", \"kawainui\", \"kawainui\", \"kawainui\", \"kawainui\", \"kealia\", \n . \"kealia\", \"kealia\", \"kealia\", \"kealia\", \"kealia\", \"kealia\", \"kealia\", \n . \"kealia\", \"kealia\", \"kealia\", \"kealia\", \"kealia\", \"kealia\", \"kealia\", \n . \"kealia\", \"kealia\", \"kealia\", \"kealia\", \"kealia\", \"kealia\", \"kealia\", \n . \"kealia\", \"kealia\", \"kealia\", \"kealia\", \"kealia\", \"kealia\", \"kealia\", \n . \"kealia\", \"kealia\", \"kealia\", \"kealia\", \"kealia\", \"kealia\", \"kealia\", \n . \"kealia\", \"kealia\", \"kealia\", \"kealia\", \"kealia\", \"kealia\", \"kealia\", \n . \"kealia\", \"kealia\", \"kealia\", \"kealia\", \"kealia\", \"kealia\", \"kealia\", \n . \"kealia\", \"kealia\", \"kealia\", \"kealia\", \"kealia\", \"kealia\", \"kealia\", \n . \"kealia\", \"kealia\", \"kealia\", \"kealia\", \"kealia\", \"kealia\", \"kealia\", \n . \"kealia\", \"kealia\", \"kealia\", \"kealia\", \"kealia\", \"kealia\", \"kealia\", \n . \"kealia\", \"kealia\", \"kealia\", \"kealia\", \"kealia\", \"kealia\", \"kealia\", \n . \"kealia\", \"kealia\", \"kealia\", \"kealia\", \"kealia\", \"kealia\", \"kealia\", \n . \"kealia\", \"kealia\", \"kealia\", \"kealia\", \"kealia\", \"kealia\", \"kealia\", \n . \"kealia\", \"kealia\", \"kealia\", \"kealia\", \"kealia\", \"kealia\", \"kealia\", \n . \"kealia\", \"kealia\", \"kealia\", \"kealia\", \"kealia\", \"kealia\", \"kealia\", \n . \"kealia\", \"kealia\", \"kealia\", \"kealia\", \"kealia\", \"kealia\", \"kealia\", \n . \"kealia\", \"kealia\", \"kealia\", \"kealia\", \"kealia\", \"kealia\", \"kealia\", \n . \"lumahai\", \"lumahai\", \"lumahai\", \"lumahai\", \"lumahai\", \"lumahai\", \n . \"lumahai\", \"lumahai\", \"lumahai\", \"lumahai\", \"lumahai\", \"lumahai\", \n . \"lumahai\", \"lumahai\", \"lumahai\", \"lumahai\", \"lumahai\", \"lumahai\", \n . \"lumahai\", \"lumahai\", \"lumahai\", \"lumahai\", \"lumahai\", \"lumahai\", \n . \"lumahai\", \"lumahai\", \"lumahai\", \"lumahai\", \"lumahai\", \"lumahai\", \n . \"lumahai\", \"lumahai\", \"lumahai\", \"lumahai\", \"lumahai\", \"lumahai\", \n . \"lumahai\", \"lumahai\", \"lumahai\", \"lumahai\", \"lumahai\", \"lumahai\", \n . \"lumahai\", \"lumahai\", \"lumahai\", \"lumahai\", \"lumahai\", \"lumahai\", \n . \"lumahai\", \"lumahai\", \"lumahai\", \"lumahai\", \"lumahai\", \"lumahai\", \n . \"lumahai\", \"lumahai\", \"lumahai\", \"lumahai\", \"lumahai\", \"lumahai\", \n . \"lumahai\", \"lumahai\", \"lumahai\", \"lumahai\", \"lumahai\", \"paukukalo\", \n . \"paukukalo\", \"paukukalo\", \"paukukalo\", \"paukukalo\", \"paukukalo\", \n . \"paukukalo\", \"paukukalo\", \"paukukalo\", \"paukukalo\", \"paukukalo\", \n . \"paukukalo\", \"paukukalo\", \"paukukalo\", \"paukukalo\", \"paukukalo\", \n . \"paukukalo\", \"paukukalo\", \"paukukalo\", \"paukukalo\", \"paukukalo\", \n . \"paukukalo\", \"paukukalo\", \"paukukalo\", \"paukukalo\", \"paukukalo\", \n . \"paukukalo\", \"paukukalo\", \"paukukalo\", \"paukukalo\", \"paukukalo\", \n . \"paukukalo\", \"paukukalo\", \"paukukalo\", \"paukukalo\", \"paukukalo\", \n . \"paukukalo\", \"paukukalo\", \"paukukalo\", \"paukukalo\", \"paukukalo\", \n . \"paukukalo\", \"paukukalo\", \"paukukalo\", \"paukukalo\", \"paukukalo\", \n . \"paukukalo\", \"paukukalo\", \"paukukalo\", \"paukukalo\", \"paukukalo\", \n . \"paukukalo\", \"paukukalo\", \"paukukalo\", \"paukukalo\", \"paukukalo\", \n . \"paukukalo\", \"paukukalo\", \"paukukalo\", \"paukukalo\", \"paukukalo\", \n . \"paukukalo\", \"paukukalo\", \"paukukalo\", \"paukukalo\", \"paukukalo\", \n . \"paukukalo\", \"paukukalo\", \"paukukalo\", \"paukukalo\", \"paukukalo\", \n . \"paukukalo\", \"paukukalo\", \"paukukalo\", \"paukukalo\", \"paukukalo\", \n . \"paukukalo\", \"paukukalo\", \"paukukalo\", \"paukukalo\", \"paukukalo\", \n . \"paukukalo\", \"paukukalo\", \"paukukalo\", \"paukukalo\", \"paukukalo\", \n . \"paukukalo\", \"paukukalo\", \"paukukalo\", \"paukukalo\", \"pearl_harbor\", \n . \"pearl_harbor\", \"pearl_harbor\", \"pearl_harbor\", \"pearl_harbor\", \n . \"pearl_harbor\", \"pearl_harbor\", \"pearl_harbor\", \"pearl_harbor\", \n . \"pearl_harbor\", \"pearl_harbor\", \"pearl_harbor\", \"pearl_harbor\", \n . \"pearl_harbor\", \"pearl_harbor\", \"pearl_harbor\", \"pearl_harbor\", \n . \"pearl_harbor\", \"pearl_harbor\", \"pearl_harbor\", \"pearl_harbor\", \n . \"pearl_harbor\", \"pearl_harbor\", \"pearl_harbor\", \"pearl_harbor\", \n . \"pearl_harbor\", \"pearl_harbor\", \"pearl_harbor\", \"pearl_harbor\", \n . \"pearl_harbor\", \"pearl_harbor\", \"pearl_harbor\", \"pearl_harbor\", \n . \"pearl_harbor\", \"pearl_harbor\", \"pearl_harbor\", \"pearl_harbor\", \n . \"pearl_harbor\", \"pearl_harbor\", \"pearl_harbor\", \"pearl_harbor\", \n . \"pearl_harbor\", \"pearl_harbor\", \"pearl_harbor\", \"pearl_harbor\", \n . \"pearl_harbor\", \"pearl_harbor\", \"pearl_harbor\", \"pearl_harbor\", \n . \"pearl_harbor\", \"pearl_harbor\", \"pearl_harbor\", \"pearl_harbor\", \n . \"pearl_harbor\", \"pearl_harbor\", \"pearl_harbor\", \"pearl_harbor\", \n . \"pearl_harbor\", \"pearl_harbor\", \"pearl_harbor\", \"pearl_harbor\", \n . \"pearl_harbor\", \"pearl_harbor\", \"pearl_harbor\", \"pearl_harbor\", \n . \"pearl_harbor\", \"pearl_harbor\", \"pearl_harbor\", \"pearl_harbor\", \n . \"pearl_harbor\", \"pearl_harbor\", \"pearl_harbor\", \"pearl_harbor\", \n . \"pearl_harbor\", \"pearl_harbor\", \"pearl_harbor\", \"pearl_harbor\", \n . \"pearl_harbor\", \"pearl_harbor\", \"pearl_harbor\", \"pearl_harbor\", \n . \"pearl_harbor\", \"pearl_harbor\", \"pearl_harbor\", \"pearl_harbor\", \n . \"pearl_harbor\", \"pearl_harbor\", \"pearl_harbor\", \"pearl_harbor\", \n . \"pearl_harbor\", \"pearl_harbor\", \"pearl_harbor\", \"pearl_harbor\", \n . \"pearl_harbor\", \"pearl_harbor\", \"pearl_harbor\", \"pearl_harbor\", \n . \"pearl_harbor\", \"pearl_harbor\", \"pearl_harbor\", \"pearl_harbor\", \n . \"pearl_harbor\", \"pearl_harbor\", \"pearl_harbor\", \"pearl_harbor\", \n . \"pearl_harbor\", \"pearl_harbor\", \"pearl_harbor\", \"pearl_harbor\", \n . \"pearl_harbor\", \"pearl_harbor\", \"pearl_harbor\", \"pearl_harbor\", \n . \"pearl_harbor\", \"pearl_harbor\", \"pearl_harbor\", \"pearl_harbor\", \n . \"pearl_harbor\", \"pearl_harbor\", \"pearl_harbor\", \"pearl_harbor\", \n . \"pearl_harbor\", \"pearl_harbor\", \"pearl_harbor\", \"pearl_harbor\", \n . \"pearl_harbor\", \"pearl_harbor\", \"pearl_harbor\", \"pearl_harbor\", \n . \"pearl_harbor\", \"pearl_harbor\", \"pearl_harbor\", \"pearl_harbor\", \n . \"pearl_harbor\", \"pearl_harbor\", \"pearl_harbor\", \"pearl_harbor\", \n . \"pearl_harbor\", \"pearl_harbor\", \"pearl_harbor\", \"pearl_harbor\", \n . \"pearl_harbor\", \"pearl_harbor\", \"pearl_harbor\", \"pearl_harbor\", \n . \"pearl_harbor\", \"pearl_harbor\", \"pearl_harbor\", \"pearl_harbor\", \n . \"pearl_harbor\", \"pearl_harbor\", \"pearl_harbor\", \"pearl_harbor\", \n . \"pearl_harbor\", \"pearl_harbor\", \"pearl_harbor\", \"pearl_harbor\", \n . \"pearl_harbor\", \"pearl_harbor\", \"pearl_harbor\", \"pearl_harbor\", \n . \"pearl_harbor\", \"pearl_harbor\", \"pearl_harbor\", \"pearl_harbor\", \n . \"pearl_harbor\", \"pearl_harbor\", \"pearl_harbor\", \"pearl_harbor\", \n . \"pearl_harbor\", \"pearl_harbor\", \"pearl_harbor\", \"pearl_harbor\", \n . \"pearl_harbor\", \"pearl_harbor\", \"pearl_harbor\", \"pearl_harbor\", \n . \"pearl_harbor\", \"pearl_harbor\", \"pearl_harbor\", \"pearl_harbor\", \n . \"pearl_harbor\", \"pearl_harbor\", \"pearl_harbor\", \"pearl_harbor\", \n . \"pearl_harbor\", \"pearl_harbor\", \"pearl_harbor\", \"pearl_harbor\", \n . \"pearl_harbor\", \"pearl_harbor\", \"pearl_harbor\", \"pearl_harbor\", \n . \"pearl_harbor\", \"pearl_harbor\", \"pearl_harbor\", \"pearl_harbor\", \n . \"pearl_harbor\", \"pearl_harbor\", \"pearl_harbor\", \"pearl_harbor\", \n . \"pearl_harbor\", \"pearl_harbor\", \"pearl_harbor\", \"pearl_harbor\", \n . \"pearl_harbor\", \"pearl_harbor\", \"pearl_harbor\", \"pearl_harbor\", \n . \"pearl_harbor\", \"pearl_harbor\", \"pearl_harbor\", \"pearl_harbor\", \n . \"pearl_harbor\", \"pearl_harbor\", \"pearl_harbor\", \"pearl_harbor\", \n . \"pearl_harbor\", \"pearl_harbor\", \"pearl_harbor\", \"pearl_harbor\", \n . \"pearl_harbor\", \"pearl_harbor\", \"pearl_harbor\", \"pearl_harbor\", \n . \"pearl_harbor\", \"pearl_harbor\", \"pearl_harbor\", \"pearl_harbor\", \n . \"pearl_harbor\", \"pearl_harbor\", \"pearl_harbor\", \"pearl_harbor\", \n . \"pearl_harbor\", \"pearl_harbor\", \"pearl_harbor\", \"pearl_harbor\", \n . \"pearl_harbor\", \"pearl_harbor\", \"pearl_harbor\", \"pearl_harbor\", \n . \"pearl_harbor\", \"pearl_harbor\", \"pearl_harbor\", \"pearl_harbor\", \n . \"pearl_harbor\", \"pearl_harbor\", \"pearl_harbor\", \"pearl_harbor\", \n . \"pearl_harbor\", \"pearl_harbor\", \"pearl_harbor\", \"pearl_harbor\", \n . \"pearl_harbor\", \"pearl_harbor\", \"pearl_harbor\", \"pearl_harbor\", \n . \"pearl_harbor\", \"pearl_harbor\", \"pearl_harbor\", \"pearl_harbor\", \n . \"pearl_harbor\", \"pearl_harbor\", \"pearl_harbor\", \"pearl_harbor\", \n . \"pearl_harbor\", \"pearl_harbor\", \"pearl_harbor\", \"pearl_harbor\", \n . \"pearl_harbor\", \"pearl_harbor\", \"pearl_harbor\", \"pearl_harbor\", \n . \"pearl_harbor\", \"pearl_harbor\", \"pearl_harbor\", \"pearl_harbor\", \n . \"pearl_harbor\", \"pearl_harbor\", \"pearl_harbor\", \"pearl_harbor\", \n . \"pearl_harbor\", \"pearl_harbor\", \"pearl_harbor\", \"pearl_harbor\", \n . \"pearl_harbor\", \"pearl_harbor\", \"pearl_harbor\", \"pearl_harbor\", \n . \"pearl_harbor\", \"pearl_harbor\", \"pearl_harbor\", \"pearl_harbor\", \n . \"pearl_harbor\", \"pearl_harbor\", \"pearl_harbor\", \"pearl_harbor\", \n . \"pearl_harbor\", \"pearl_harbor\", \"pearl_harbor\", \"pearl_harbor\", \n . \"pearl_harbor\", \"pearl_harbor\", \"pearl_harbor\", \"pearl_harbor\", \n . \"pearl_harbor\", \"pearl_harbor\", \"pearl_harbor\", \"pearl_harbor\", \n . \"pearl_harbor\", \"pearl_harbor\", \"pearl_harbor\", \"pearl_harbor\", \n . \"pearl_harbor\", \"pearl_harbor\", \"pearl_harbor\", \"pearl_harbor\", \n . \"pearl_harbor\", \"pearl_harbor\", \"pearl_harbor\", \"pearl_harbor\", \n . \"pearl_harbor\", \"pearl_harbor\", \"pearl_harbor\", \"pearl_harbor\", \n . \"pearl_harbor\", \"pearl_harbor\", \"pearl_harbor\", \"pearl_harbor\", \n . \"pearl_harbor\", \"pearl_harbor\", \"pearl_harbor\", \"pearl_harbor\", \n . \"pearl_harbor\", \"pearl_harbor\", \"pearl_harbor\", \"pearl_harbor\", \n . \"pearl_harbor\", \"pearl_harbor\", \"pearl_harbor\", \"pearl_harbor\", \n . \"pearl_harbor\", \"pearl_harbor\", \"pearl_harbor\", \"pearl_harbor\", \n . \"pearl_harbor\", \"pearl_harbor\", \"pearl_harbor\", \"pearl_harbor\", \n . \"pearl_harbor\", \"pearl_harbor\", \"pearl_harbor\", \"pearl_harbor\", \n . \"pearl_harbor\", \"pearl_harbor\", \"pearl_harbor\", \"pearl_harbor\", \n . \"pearl_harbor\", \"pearl_harbor\", \"pearl_harbor\", \"pearl_harbor\", \n . \"pearl_harbor\", \"pearl_harbor\", \"pearl_harbor\", \"pearl_harbor\", \n . \"pearl_harbor\", \"pearl_harbor\", \"pearl_harbor\", \"pearl_harbor\", \n . \"pearl_harbor\", \"pearl_harbor\", \"pearl_harbor\", \"pearl_harbor\", \n . \"pearl_harbor\", \"pearl_harbor\", \"pearl_harbor\", \"pearl_harbor\", \n . \"pearl_harbor\", \"pearl_harbor\", \"pearl_harbor\", \"pearl_harbor\", \n . \"pearl_harbor\", \"pearl_harbor\", \"pearl_harbor\", \"pearl_harbor\", \n . \"pearl_harbor\", \"pearl_harbor\", \"pearl_harbor\", \"pearl_harbor\", \n . \"pearl_harbor\", \"pearl_harbor\", \"pearl_harbor\", \"pearl_harbor\", \n . \"pearl_harbor\", \"pearl_harbor\", \"pearl_harbor\", \"pearl_harbor\", \n . \"pearl_harbor\", \"pearl_harbor\", \"pearl_harbor\", \"pearl_harbor\", \n . \"pearl_harbor\", \"pearl_harbor\", \"pearl_harbor\", \"pearl_harbor\", \n . \"pearl_harbor\", \"pearl_harbor\", \"pearl_harbor\", \"pearl_harbor\", \n . \"pearl_harbor\", \"pearl_harbor\", \"pearl_harbor\", \"pearl_harbor\", \n . \"pearl_harbor\", \"pearl_harbor\", \"pearl_harbor\", \"pearl_harbor\", \n . \"pearl_harbor\", \"pearl_harbor\", \"pearl_harbor\", \"pearl_harbor\", \n . \"pearl_harbor\", \"pearl_harbor\", \"pearl_harbor\", \"pearl_harbor\", \n . \"pearl_harbor\", \"pearl_harbor\", \"pearl_harbor\", \"pearl_harbor\", \n . \"pearl_harbor\", \"pearl_harbor\", \"pearl_harbor\", \"pearl_harbor\", \n . \"pearl_harbor\", \"pearl_harbor\", \"pearl_harbor\", \"pearl_harbor\", \n . \"pearl_harbor\", \"pearl_harbor\", \"pearl_harbor\", \"pearl_harbor\", \n . \"pearl_harbor\", \"pearl_harbor\", \"pearl_harbor\", \"pearl_harbor\", \n . \"pearl_harbor\", \"pearl_harbor\", \"pearl_harbor\", \"pearl_harbor\", \n . \"pearl_harbor\", \"pearl_harbor\", \"pearl_harbor\", \"pearl_harbor\", \n . \"pearl_harbor\", \"pearl_harbor\", \"pearl_harbor\", \"pearl_harbor\", \n . \"pearl_harbor\", \"pearl_harbor\", \"pearl_harbor\", \"pearl_harbor\", \n . \"pearl_harbor\", \"pearl_harbor\", \"pearl_harbor\", \"pearl_harbor\", \n . \"pearl_harbor\", \"pearl_harbor\", \"pearl_harbor\", \"pearl_harbor\", \n . \"pearl_harbor\", \"pearl_harbor\", \"pearl_harbor\", \"pearl_harbor\", \n . \"pearl_harbor\", \"pearl_harbor\", \"pearl_harbor\", \"pearl_harbor\", \n . \"pearl_harbor\", \"pearl_harbor\", \"pearl_harbor\", \"pearl_harbor\", \n . \"pearl_harbor\", \"pearl_harbor\", \"pearl_harbor\", \"pearl_harbor\", \n . \"pearl_harbor\", \"pearl_harbor\", \"pearl_harbor\", \"pearl_harbor\", \n . \"pearl_harbor\", \"pearl_harbor\", \"pearl_harbor\", \"pearl_harbor\", \n . \"pearl_harbor\", \"pearl_harbor\", \"pearl_harbor\", \"pearl_harbor\", \n . \"pearl_harbor\", \"pearl_harbor\", \"pearl_harbor\", \"pearl_harbor\", \n . \"pearl_harbor\", \"pearl_harbor\", \"pearl_harbor\", \"pearl_harbor\", \n . \"pearl_harbor\", \"pearl_harbor\", \"pearl_harbor\", \"pearl_harbor\", \n . \"pearl_harbor\", \"pearl_harbor\", \"pearl_harbor\", \"pearl_harbor\", \n . \"pearl_harbor\", \"pearl_harbor\", \"pearl_harbor\", \"pearl_harbor\", \n . \"pearl_harbor\", \"pearl_harbor\", \"pearl_harbor\", \"pearl_harbor\", \n . \"pearl_harbor\", \"pearl_harbor\", \"pearl_harbor\", \"pearl_harbor\", \n . \"pearl_harbor\", \"pearl_harbor\", \"pearl_harbor\", \"pearl_harbor\", \n . \"pearl_harbor\", \"pearl_harbor\", \"pearl_harbor\", \"pearl_harbor\", \n . \"pearl_harbor\", \"pearl_harbor\", \"pearl_harbor\", \"pearl_harbor\", \n . \"pearl_harbor\", \"pearl_harbor\", \"pearl_harbor\", \"pearl_harbor\", \n . \"pearl_harbor\", \"pearl_harbor\", \"pearl_harbor\", \"pearl_harbor\", \n . \"pearl_harbor\", \"pearl_harbor\", \"pearl_harbor\", \"pearl_harbor\", \n . \"pearl_harbor\", \"pearl_harbor\", \"pearl_harbor\", \"pearl_harbor\", \n . \"pearl_harbor\", \"pearl_harbor\", \"pearl_harbor\", \"pearl_harbor\", \n . \"pearl_harbor\", \"pearl_harbor\", \"pearl_harbor\", \"pearl_harbor\", \n . \"pearl_harbor\", \"pearl_harbor\", \"pearl_harbor\", \"pearl_harbor\", \n . \"pearl_harbor\", \"pearl_harbor\", \"pearl_harbor\", \"pearl_harbor\", \n . \"pearl_harbor\", \"pearl_harbor\", \"pearl_harbor\", \"pearl_harbor\", \n . \"pearl_harbor\", \"pearl_harbor\", \"pearl_harbor\", \"pearl_harbor\", \n . \"pearl_harbor\", \"pearl_harbor\", \"pearl_harbor\", \"pearl_harbor\", \n . \"pearl_harbor\", \"pearl_harbor\", \"pearl_harbor\", \"pearl_harbor\", \n . \"pearl_harbor\", \"pearl_harbor\", \"pearl_harbor\", \"pearl_harbor\", \n . \"pearl_harbor\", \"pearl_harbor\", \"pearl_harbor\", \"pearl_harbor\", \n . \"pearl_harbor\", \"pearl_harbor\", \"pearl_harbor\", \"pearl_harbor\", \n . \"pearl_harbor\", \"pearl_harbor\", \"pearl_harbor\", \"pearl_harbor\", \n . \"pearl_harbor\", \"pearl_harbor\", \"pearl_harbor\", \"pearl_harbor\", \n . \"pearl_harbor\", \"pearl_harbor\", \"pearl_harbor\", \"pearl_harbor\", \n . \"pearl_harbor\", \"pearl_harbor\", \"pearl_harbor\", \"pearl_harbor\", \n . \"pearl_harbor\", \"pearl_harbor\", \"pearl_harbor\", \"pearl_harbor\", \n . \"pearl_harbor\", \"pearl_harbor\", \"pearl_harbor\", \"waihee\", \"waihee\", \n . \"waihee\", \"waihee\", \"waihee\", \"waihee\", \"waihee\", \"waihee\", \"waihee\", \n . \"waihee\", \"waihee\", \"waihee\", \"waihee\", \"waihee\", \"waihee\", \"waihee\", \n . \"waihee\", \"waihee\", \"waihee\", \"waihee\", \"waihee\", \"waihee\", \"waihee\", \n . \"waihee\", \"waihee\", \"waihee\", \"waihee\", \"waihee\", \"waihee\", \"waihee\", \n . \"wailua_opaekaa\", \"wailua_opaekaa\", \"wailua_opaekaa\", \"wailua_opaekaa\", \n . \"wailua_opaekaa\", \"wailua_opaekaa\", \"wailua_opaekaa\", \"wailua_opaekaa\", \n . \"wailua_opaekaa\", \"wailua_opaekaa\", \"wailua_opaekaa\", \"wailua_opaekaa\", \n . \"wailua_opaekaa\", \"wailua_opaekaa\", \"wailua_opaekaa\", \"wailua_opaekaa\", \n . \"wailua_opaekaa\", \"wailua_opaekaa\", \"wailua_opaekaa\", \"wailua_opaekaa\", \n . \"wailua_opaekaa\", \"wailua_opaekaa\", \"wailua_opaekaa\", \"wailua_opaekaa\", \n . \"wailua_opaekaa\", \"wailua_opaekaa\", \"wailua_opaekaa\", \"wailua_opaekaa\", \n . \"wailua_opaekaa\", \"wailua_opaekaa\", \"wailua_opaekaa\", \"wailua_opaekaa\", \n . \"wailua_opaekaa\", \"wailua_opaekaa\", \"wailua_opaekaa\", \"wailua_opaekaa\", \n . \"wailua_opaekaa\", \"wailua_opaekaa\", \"wailua_opaekaa\", \"wailua_opaekaa\", \n . \"wailua_opaekaa\", \"wailua_opaekaa\", \"wailua_opaekaa\", \"wailua_opaekaa\", \n . \"wailua_opaekaa\", \"wailua_opaekaa\", \"wailua_opaekaa\", \"wailua_opaekaa\", \n . \"wailua_opaekaa\", \"wailua_opaekaa\", \"wailua_opaekaa\", \"wailua_opaekaa\", \n . \"wailua_opaekaa\", \"wailua_opaekaa\", \"wailua_opaekaa\", \"wailua_opaekaa\", \n . \"wailua_opaekaa\", \"wailua_opaekaa\", \"wailua_opaekaa\", \"wailua_opaekaa\", \n . \"wailua_opaekaa\", \"wailua_opaekaa\", \"wailua_opaekaa\", \"wailua_opaekaa\", \n . \"wailua_opaekaa\", \"wailua_opaekaa\", \"wailua_opaekaa\", \"wailua_opaekaa\", \n . \"wailua_opaekaa\", \"wailua_opaekaa\", \"wailua_opaekaa\", \"wailua_opaekaa\", \n . \"wailua_opaekaa\", \"wailua_opaekaa\", \"wailua_opaekaa\", \"wailua_opaekaa\", \n . \"wailua_opaekaa\", \"wailua_opaekaa\", \"wailua_opaekaa\", \"wailua_opaekaa\", \n . \"wailua_opaekaa\", \"wailua_opaekaa\", \"wailua_opaekaa\", \"wailua_opaekaa\", \n . \"wailua_opaekaa\", \"wailua_opaekaa\", \"wailua_opaekaa\", \"wailua_opaekaa\", \n . \"wailua_opaekaa\", \"wailua_opaekaa\"))",
            "2. `$<-.sf`(`*tmp*`, location_name, value = c(\"anahola\", \"anahola\", \n . \"anahola\", \"anahola\", \"anahola\", \"anahola\", \"anahola\", \"anahola\", \n . \"anahola\", \"anahola\", \"anahola\", \"anahola\", \"anahola\", \"anahola\", \n . \"anahola\", \"anahola\", \"anahola\", \"anahola\", \"anahola\", \"anahola\", \n . \"anahola\", \"anahola\", \"anahola\", \"anahola\", \"anahola\", \"anahola\", \n . \"anahola\", \"anahola\", \"anahola\", \"anahola\", \"anahola\", \"anahola\", \n . \"anahola\", \"anahola\", \"anahola\", \"anahola\", \"anahola\", \"anahola\", \n . \"anahola\", \"anahola\", \"anahola\", \"anahola\", \"anahola\", \"anahola\", \n . \"anahola\", \"anahola\", \"anahola\", \"anahola\", \"haleiwa\", \"haleiwa\", \n . \"haleiwa\", \"haleiwa\", \"haleiwa\", \"haleiwa\", \"haleiwa\", \"haleiwa\", \n . \"haleiwa\", \"haleiwa\", \"haleiwa\", \"haleiwa\", \"haleiwa\", \"haleiwa\", \n . \"haleiwa\", \"haleiwa\", \"haleiwa\", \"haleiwa\", \"haleiwa\", \"haleiwa\", \n . \"haleiwa\", \"haleiwa\", \"haleiwa\", \"haleiwa\", \"haleiwa\", \"haleiwa\", \n . \"haleiwa\", \"haleiwa\", \"haleiwa\", \"haleiwa\", \"haleiwa\", \"haleiwa\", \n . \"haleiwa\", \"haleiwa\", \"haleiwa\", \"haleiwa\", \"haleiwa\", \"haleiwa\", \n . \"haleiwa\", \"haleiwa\", \"haleiwa\", \"haleiwa\", \"haleiwa\", \"haleiwa\", \n . \"haleiwa\", \"haleiwa\", \"haleiwa\", \"haleiwa\", \"haleiwa\", \"haleiwa\", \n . \"haleiwa\", \"haleiwa\", \"haleiwa\", \"haleiwa\", \"haleiwa\", \"haleiwa\", \n . \"haleiwa\", \"haleiwa\", \"haleiwa\", \"haleiwa\", \"haleiwa\", \"haleiwa\", \n . \"haleiwa\", \"haleiwa\", \"haleiwa\", \"haleiwa\", \"haleiwa\", \"haleiwa\", \n . \"haleiwa\", \"haleiwa\", \"haleiwa\", \"haleiwa\", \"haleiwa\", \"haleiwa\", \n . \"haleiwa\", \"haleiwa\", \"haleiwa\", \"haleiwa\", \"haleiwa\", \"haleiwa\", \n . \"haleiwa\", \"haleiwa\", \"haleiwa\", \"haleiwa\", \"haleiwa\", \"haleiwa\", \n . \"haleiwa\", \"haleiwa\", \"haleiwa\", \"haleiwa\", \"haleiwa\", \"haleiwa\", \n . \"haleiwa\", \"haleiwa\", \"haleiwa\", \"haleiwa\", \"haleiwa\", \"haleiwa\", \n . \"haleiwa\", \"haleiwa\", \"haleiwa\", \"haleiwa\", \"haleiwa\", \"haleiwa\", \n . \"haleiwa\", \"haleiwa\", \"haleiwa\", \"haleiwa\", \"haleiwa\", \"haleiwa\", \n . \"haleiwa\", \"haleiwa\", \"haleiwa\", \"haleiwa\", \"haleiwa\", \"haleiwa\", \n . \"haleiwa\", \"haleiwa\", \"haleiwa\", \"haleiwa\", \"haleiwa\", \"haleiwa\", \n . \"haleiwa\", \"haleiwa\", \"haleiwa\", \"haleiwa\", \"haleiwa\", \"haleiwa\", \n . \"haleiwa\", \"haleiwa\", \"haleiwa\", \"haleiwa\", \"haleiwa\", \"haleiwa\", \n . \"haleiwa\", \"haleiwa\", \"haleiwa\", \"haleiwa\", \"haleiwa\", \"haleiwa\", \n . \"haleiwa\", \"haleiwa\", \"haleiwa\", \"haleiwa\", \"haleiwa\", \"haleiwa\", \n . \"haleiwa\", \"haleiwa\", \"haleiwa\", \"haleiwa\", \"haleiwa\", \"haleiwa\", \n . \"haleiwa\", \"haleiwa\", \"haleiwa\", \"haleiwa\", \"haleiwa\", \"haleiwa\", \n . \"haleiwa\", \"haleiwa\", \"haleiwa\", \"haleiwa\", \"haleiwa\", \"haleiwa\", \n . \"haleiwa\", \"haleiwa\", \"haleiwa\", \"haleiwa\", \"haleiwa\", \"haleiwa\", \n . \"haleiwa\", \"haleiwa\", \"haleiwa\", \"haleiwa\", \"haleiwa\", \"haleiwa\", \n . \"haleiwa\", \"haleiwa\", \"haleiwa\", \"haleiwa\", \"haleiwa\", \"haleiwa\", \n . \"haleiwa\", \"haleiwa\", \"haleiwa\", \"haleiwa\", \"haleiwa\", \"haleiwa\", \n . \"haleiwa\", \"haleiwa\", \"haleiwa\", \"haleiwa\", \"haleiwa\", \"haleiwa\", \n . \"haleiwa\", \"haleiwa\", \"haleiwa\", \"haleiwa\", \"haleiwa\", \"haleiwa\", \n . \"haleiwa\", \"haleiwa\", \"haleiwa\", \"haleiwa\", \"haleiwa\", \"haleiwa\", \n . \"haleiwa\", \"haleiwa\", \"haleiwa\", \"haleiwa\", \"haleiwa\", \"haleiwa\", \n . \"haleiwa\", \"haleiwa\", \"haleiwa\", \"haleiwa\", \"haleiwa\", \"haleiwa\", \n . \"haleiwa\", \"haleiwa\", \"haleiwa\", \"haleiwa\", \"haleiwa\", \"haleiwa\", \n . \"haleiwa\", \"haleiwa\", \"haleiwa\", \"haleiwa\", \"haleiwa\", \"haleiwa\", \n . \"haleiwa\", \"haleiwa\", \"haleiwa\", \"haleiwa\", \"haleiwa\", \"haleiwa\", \n . \"haleiwa\", \"haleiwa\", \"haleiwa\", \"haleiwa\", \"haleiwa\", \"haleiwa\", \n . \"haleiwa\", \"haleiwa\", \"haleiwa\", \"haleiwa\", \"haleiwa\", \"haleiwa\", \n . \"haleiwa\", \"haleiwa\", \"haleiwa\", \"haleiwa\", \"haleiwa\", \"haleiwa\", \n . \"haleiwa\", \"haleiwa\", \"haleiwa\", \"haleiwa\", \"haleiwa\", \"haleiwa\", \n . \"haleiwa\", \"haleiwa\", \"haleiwa\", \"haleiwa\", \"haleiwa\", \"haleiwa\", \n . \"haleiwa\", \"haleiwa\", \"haleiwa\", \"haleiwa\", \"haleiwa\", \"haleiwa\", \n . \"haleiwa\", \"haleiwa\", \"haleiwa\", \"haleiwa\", \"haleiwa\", \"haleiwa\", \n . \"haleiwa\", \"haleiwa\", \"haleiwa\", \"haleiwa\", \"haleiwa\", \"haleiwa\", \n . \"haleiwa\", \"haleiwa\", \"haleiwa\", \"haleiwa\", \"haleiwa\", \"haleiwa\", \n . \"haleiwa\", \"haleiwa\", \"haleiwa\", \"haleiwa\", \"haleiwa\", \"haleiwa\", \n . \"haleiwa\", \"haleiwa\", \"haleiwa\", \"haleiwa\", \"hanalei\", \"hanalei\", \n . \"hanalei\", \"hanalei\", \"hanalei\", \"hanalei\", \"hanalei\", \"hanalei\", \n . \"hanalei\", \"hanalei\", \"hanalei\", \"hanalei\", \"hanalei\", \"hanalei\", \n . \"hanalei\", \"hanalei\", \"hanalei\", \"hanalei\", \"hanalei\", \"hanalei\", \n . \"hanalei\", \"hanalei\", \"hanalei\", \"hanalei\", \"hanalei\", \"hanalei\", \n . \"hanalei\", \"hanalei\", \"hanalei\", \"hanalei\", \"hanalei\", \"hanalei\", \n . \"hanalei\", \"hanalei\", \"hanalei\", \"hanalei\", \"hanalei\", \"hanalei\", \n . \"hanalei\", \"hanalei\", \"hanalei\", \"hanalei\", \"hanalei\", \"hanalei\", \n . \"hanalei\", \"hanalei\", \"hanalei\", \"hanalei\", \"hanalei\", \"hanalei\", \n . \"hanalei\", \"hanalei\", \"hanalei\", \"hanalei\", \"hanalei\", \"hanalei\", \n . \"hanalei\", \"hanalei\", \"hanalei\", \"hanalei\", \"hanalei\", \"hanalei\", \n . \"hanalei\", \"hanalei\", \"hanalei\", \"hanalei\", \"hanalei\", \"hanalei\", \n . \"hanalei\", \"hanalei\", \"hanalei\", \"hanalei\", \"hanalei\", \"hanalei\", \n . \"hanalei\", \"hanalei\", \"hanalei\", \"hanalei\", \"hanalei\", \"hanalei\", \n . \"hanalei\", \"hanalei\", \"hanalei\", \"hanalei\", \"hanalei\", \"hanalei\", \n . \"hanalei\", \"hanalei\", \"hanalei\", \"hanalei\", \"hanalei\", \"hanalei\", \n . \"hanalei\", \"hanalei\", \"hanalei\", \"hanalei\", \"hanalei\", \"hanalei\", \n . \"hanalei\", \"hanalei\", \"hanalei\", \"hanalei\", \"hanalei\", \"hanalei\", \n . \"hanalei\", \"hanalei\", \"hanalei\", \"hanalei\", \"hanalei\", \"hanalei\", \n . \"hanalei\", \"hanalei\", \"hanalei\", \"hanalei\", \"hanalei\", \"hanalei\", \n . \"hanalei\", \"hanalei\", \"hanalei\", \"hanalei\", \"hanalei\", \"hanalei\", \n . \"hanalei\", \"hanalei\", \"hanalei\", \"hanalei\", \"hanalei\", \"hanalei\", \n . \"hanalei\", \"hanalei\", \"hanalei\", \"hanalei\", \"hanalei\", \"hanalei\", \n . \"hanalei\", \"hanalei\", \"hanalei\", \"hanalei\", \"hanalei\", \"hanalei\", \n . \"hanalei\", \"hanalei\", \"hanalei\", \"hanalei\", \"hanalei\", \"hanalei\", \n . \"hanalei\", \"hanalei\", \"hanalei\", \"hanalei\", \"hanalei\", \"hanalei\", \n . \"hanalei\", \"hanalei\", \"hanalei\", \"hanalei\", \"hanalei\", \"hanalei\", \n . \"hanalei\", \"hanalei\", \"hanalei\", \"hanalei\", \"hanalei\", \"hanalei\", \n . \"hanalei\", \"hanalei\", \"hanalei\", \"hanalei\", \"hanalei\", \"hanalei\", \n . \"hanalei\", \"hanalei\", \"hanalei\", \"hanalei\", \"hanalei\", \"hanalei\", \n . \"hanalei\", \"hanalei\", \"hanalei\", \"hanalei\", \"hanalei\", \"hanalei\", \n . \"hanalei\", \"hanalei\", \"hanalei\", \"hanalei\", \"hanalei\", \"hanalei\", \n . \"hanalei\", \"hanalei\", \"hanalei\", \"hanalei\", \"hanalei\", \"hanalei\", \n . \"hanalei\", \"hanalei\", \"hanalei\", \"hanalei\", \"hanalei\", \"hanalei\", \n . \"hanalei\", \"hanalei\", \"hanalei\", \"hanalei\", \"hanalei\", \"hanalei\", \n . \"hanalei\", \"hanalei\", \"hanalei\", \"hanalei\", \"hanalei\", \"hanalei\", \n . \"hanalei\", \"hanalei\", \"hanalei\", \"hanalei\", \"hanalei\", \"hanalei\", \n . \"hanalei\", \"hanalei\", \"hanalei\", \"hanalei\", \"hanalei\", \"hanalei\", \n . \"hanalei\", \"hanalei\", \"hanalei\", \"hanalei\", \"hanalei\", \"hanalei\", \n . \"hanalei\", \"hanalei\", \"hanalei\", \"hanalei\", \"hanalei\", \"hanalei\", \n . \"hanalei\", \"hanalei\", \"hanalei\", \"hanalei\", \"hanalei\", \"hanalei\", \n . \"hanalei\", \"hanalei\", \"hanalei\", \"hanalei\", \"hanalei\", \"hanalei\", \n . \"hanalei\", \"hanalei\", \"hanalei\", \"hanalei\", \"hanalei\", \"hanalei\", \n . \"hanalei\", \"hanalei\", \"hanalei\", \"hanalei\", \"hanalei\", \"hanalei\", \n . \"hanalei\", \"hanalei\", \"hanalei\", \"hanalei\", \"hanalei\", \"hanalei\", \n . \"hanalei\", \"hanalei\", \"hanalei\", \"hanalei\", \"hanalei\", \"hanalei\", \n . \"hanalei\", \"hanalei\", \"hanalei\", \"hanalei\", \"hanalei\", \"hanalei\", \n . \"hanalei\", \"hanalei\", \"hanalei\", \"hanalei\", \"hanalei\", \"hanalei\", \n . \"hanalei\", \"huleia\", \"huleia\", \"huleia\", \"huleia\", \"huleia\", \n . \"huleia\", \"huleia\", \"huleia\", \"huleia\", \"huleia\", \"huleia\", \"huleia\", \n . \"huleia\", \"huleia\", \"huleia\", \"huleia\", \"huleia\", \"huleia\", \"huleia\", \n . \"huleia\", \"huleia\", \"huleia\", \"huleia\", \"huleia\", \"huleia\", \"huleia\", \n . \"huleia\", \"huleia\", \"huleia\", \"huleia\", \"huleia\", \"huleia\", \"huleia\", \n . \"huleia\", \"huleia\", \"huleia\", \"huleia\", \"huleia\", \"huleia\", \"huleia\", \n . \"huleia\", \"huleia\", \"huleia\", \"huleia\", \"huleia\", \"huleia\", \"huleia\", \n . \"huleia\", \"huleia\", \"huleia\", \"huleia\", \"huleia\", \"huleia\", \"huleia\", \n . \"huleia\", \"huleia\", \"huleia\", \"huleia\", \"huleia\", \"huleia\", \"huleia\", \n . \"huleia\", \"huleia\", \"huleia\", \"huleia\", \"huleia\", \"huleia\", \"huleia\", \n . \"huleia\", \"huleia\", \"huleia\", \"huleia\", \"huleia\", \"huleia\", \"huleia\", \n . \"huleia\", \"huleia\", \"kahuku\", \"kahuku\", \"kahuku\", \"kahuku\", \"kahuku\", \n . \"kahuku\", \"kahuku\", \"kahuku\", \"kahuku\", \"kahuku\", \"kahuku\", \"kahuku\", \n . \"kahuku\", \"kahuku\", \"kahuku\", \"kahuku\", \"kahuku\", \"kahuku\", \"kahuku\", \n . \"kahuku\", \"kahuku\", \"kahuku\", \"kahuku\", \"kahuku\", \"kahuku\", \"kahuku\", \n . \"kahuku\", \"kahuku\", \"kahuku\", \"kahuku\", \"kahuku\", \"kahuku\", \"kahuku\", \n . \"kahuku\", \"kahuku\", \"kahuku\", \"kahuku\", \"kahuku\", \"kahuku\", \"kahuku\", \n . \"kahuku\", \"kahuku\", \"kahuku\", \"kahuku\", \"kahuku\", \"kahuku\", \"kahuku\", \n . \"kahuku\", \"kahuku\", \"kahuku\", \"kahuku\", \"kahuku\", \"kahuku\", \"kahuku\", \n . \"kahuku\", \"kahuku\", \"kahuku\", \"kahuku\", \"kahuku\", \"kahuku\", \"kahuku\", \n . \"kahuku\", \"kahuku\", \"kahuku\", \"kahuku\", \"kahuku\", \"kahuku\", \"kahuku\", \n . \"kahuku\", \"kahuku\", \"kahuku\", \"kahuku\", \"kahuku\", \"kahuku\", \"kahuku\", \n . \"kahuku\", \"kahuku\", \"kahuku\", \"kahuku\", \"kahuku\", \"kahuku\", \"kahuku\", \n . \"kahuku\", \"kahuku\", \"kahuku\", \"kahuku\", \"kahuku\", \"kahuku\", \"kahuku\", \n . \"kahuku\", \"kahuku\", \"kahuku\", \"kahuku\", \"kahuku\", \"kahuku\", \"kahuku\", \n . \"kahuku\", \"kahuku\", \"kahuku\", \"kahuku\", \"kahuku\", \"kahuku\", \"kahuku\", \n . \"kahuku\", \"kahuku\", \"kahuku\", \"kahuku\", \"kahuku\", \"kahuku\", \"kahuku\", \n . \"kahuku\", \"kahuku\", \"kahuku\", \"kahuku\", \"kahuku\", \"kahuku\", \"kahuku\", \n . \"kahuku\", \"kahuku\", \"kahuku\", \"kahuku\", \"kahuku\", \"kahuku\", \"kahuku\", \n . \"kahuku\", \"kahuku\", \"kahuku\", \"kahuku\", \"kahuku\", \"kahuku\", \"kahuku\", \n . \"kahuku\", \"kahuku\", \"kahuku\", \"kahuku\", \"kahuku\", \"kahuku\", \"kahuku\", \n . \"kahuku\", \"kahuku\", \"kahuku\", \"kahuku\", \"kahuku\", \"kahuku\", \"kahuku\", \n . \"kahuku\", \"kahuku\", \"kahuku\", \"kahuku\", \"kahuku\", \"kahuku\", \"kahuku\", \n . \"kahuku\", \"kahuku\", \"kahuku\", \"kahuku\", \"kahuku\", \"kahuku\", \"kahuku\", \n . \"kahuku\", \"kahuku\", \"kahuku\", \"kahuku\", \"kahuku\", \"kahuku\", \"kahuku\", \n . \"kahuku\", \"kahuku\", \"kahuku\", \"kahuku\", \"kahuku\", \"kahuku\", \"kahuku\", \n . \"kahuku\", \"kahuku\", \"kahuku\", \"kahuku\", \"kahuku\", \"kahuku\", \"kahuku\", \n . \"kahuku\", \"kahuku\", \"kahuku\", \"kahuku\", \"kahuku\", \"kahuku\", \"kahuku\", \n . \"kahuku\", \"kahuku\", \"kahuku\", \"kahuku\", \"kahuku\", \"kahuku\", \"kahuku\", \n . \"kahuku\", \"kahuku\", \"kahuku\", \"kahuku\", \"kahuku\", \"kahuku\", \"kahuku\", \n . \"kahuku\", \"kahuku\", \"kahuku\", \"kahuku\", \"kahuku\", \"kahuku\", \"kahuku\", \n . \"kahuku\", \"kahuku\", \"kahuku\", \"kahuku\", \"kahuku\", \"kahuku\", \"kahuku\", \n . \"kahuku\", \"kakahaia\", \"kakahaia\", \"kakahaia\", \"kakahaia\", \"kakahaia\", \n . \"kakahaia\", \"kakahaia\", \"kakahaia\", \"kakahaia\", \"kakahaia\", \"kakahaia\", \n . \"kakahaia\", \"kakahaia\", \"kakahaia\", \"kakahaia\", \"kakahaia\", \"kakahaia\", \n . \"kakahaia\", \"kakahaia\", \"kakahaia\", \"kakahaia\", \"kakahaia\", \"kakahaia\", \n . \"kakahaia\", \"kakahaia\", \"kakahaia\", \"kakahaia\", \"kakahaia\", \"kakahaia\", \n . \"kakahaia\", \"kakahaia\", \"kakahaia\", \"kakahaia\", \"kakahaia\", \"kakahaia\", \n . \"kakahaia\", \"kakahaia\", \"kakahaia\", \"kakahaia\", \"kakahaia\", \"kakahaia\", \n . \"kakahaia\", \"kakahaia\", \"kakahaia\", \"kakahaia\", \"kakahaia\", \"kakahaia\", \n . \"kakahaia\", \"kakahaia\", \"kakahaia\", \"kakahaia\", \"kakahaia\", \"kakahaia\", \n . \"kakahaia\", \"kakahaia\", \"kakahaia\", \"kakahaia\", \"kakahaia\", \"kakahaia\", \n . \"kakahaia\", \"kakahaia\", \"kakahaia\", \"kakahaia\", \"kakahaia\", \"kakahaia\", \n . \"kakahaia\", \"kakahaia\", \"kakahaia\", \"kakahaia\", \"kakahaia\", \"kakahaia\", \n . \"kakahaia\", \"kakahaia\", \"kakahaia\", \"kakahaia\", \"kakahaia\", \"kakahaia\", \n . \"kakahaia\", \"kakahaia\", \"kakahaia\", \"kakahaia\", \"kakahaia\", \"kakahaia\", \n . \"kakahaia\", \"kakahaia\", \"kakahaia\", \"kakahaia\", \"kakahaia\", \"kakahaia\", \n . \"kakahaia\", \"kakahaia\", \"kakahaia\", \"kakahaia\", \"kakahaia\", \"kakahaia\", \n . \"kakahaia\", \"kakahaia\", \"kakahaia\", \"kakahaia\", \"kakahaia\", \"kakahaia\", \n . \"kakahaia\", \"kakahaia\", \"kakahaia\", \"kakahaia\", \"kakahaia\", \"kakahaia\", \n . \"kakahaia\", \"kakahaia\", \"kakahaia\", \"kakahaia\", \"kakahaia\", \"kakahaia\", \n . \"kakahaia\", \"kakahaia\", \"kakahaia\", \"kakahaia\", \"kakahaia\", \"kakahaia\", \n . \"kakahaia\", \"kakahaia\", \"kakahaia\", \"kakahaia\", \"kakahaia\", \"kakahaia\", \n . \"kakahaia\", \"kakahaia\", \"kakahaia\", \"kakahaia\", \"kakahaia\", \"kakahaia\", \n . \"kakahaia\", \"kakahaia\", \"kakahaia\", \"kakahaia\", \"kakahaia\", \"kakahaia\", \n . \"kakahaia\", \"kakahaia\", \"kakahaia\", \"kakahaia\", \"kakahaia\", \"kakahaia\", \n . \"kakahaia\", \"kakahaia\", \"kakahaia\", \"kakahaia\", \"kakahaia\", \"kakahaia\", \n . \"kakahaia\", \"kakahaia\", \"kakahaia\", \"kakahaia\", \"kakahaia\", \"kakahaia\", \n . \"kakahaia\", \"kakahaia\", \"kakahaia\", \"kakahaia\", \"kakahaia\", \"kakahaia\", \n . \"kakahaia\", \"kakahaia\", \"kakahaia\", \"kakahaia\", \"kakahaia\", \"kakahaia\", \n . \"kakahaia\", \"kakahaia\", \"kakahaia\", \"kakahaia\", \"kakahaia\", \"kakahaia\", \n . \"kakahaia\", \"kakahaia\", \"kakahaia\", \"kakahaia\", \"kakahaia\", \"kakahaia\", \n . \"kakahaia\", \"kakahaia\", \"kakahaia\", \"kakahaia\", \"kakahaia\", \"kakahaia\", \n . \"kakahaia\", \"kakahaia\", \"kakahaia\", \"kakahaia\", \"kakahaia\", \"kakahaia\", \n . \"kakahaia\", \"kakahaia\", \"kakahaia\", \"kakahaia\", \"kakahaia\", \"kakahaia\", \n . \"kakahaia\", \"kakahaia\", \"kakahaia\", \"kakahaia\", \"kakahaia\", \"kakahaia\", \n . \"kakahaia\", \"kakahaia\", \"kakahaia\", \"kakahaia\", \"kakahaia\", \"kakahaia\", \n . \"kakahaia\", \"kakahaia\", \"kakahaia\", \"kakahaia\", \"kakahaia\", \"kakahaia\", \n . \"kakahaia\", \"kakahaia\", \"kakahaia\", \"kakahaia\", \"kakahaia\", \"kakahaia\", \n . \"kakahaia\", \"kakahaia\", \"kakahaia\", \"kakahaia\", \"kakahaia\", \"kakahaia\", \n . \"kakahaia\", \"kakahaia\", \"kakahaia\", \"kakahaia\", \"kakahaia\", \"kakahaia\", \n . \"kakahaia\", \"kakahaia\", \"kakahaia\", \"kakahaia\", \"kakahaia\", \"kakahaia\", \n . \"kakahaia\", \"kakahaia\", \"kakahaia\", \"kakahaia\", \"kakahaia\", \"kakahaia\", \n . \"kakahaia\", \"kakahaia\", \"kakahaia\", \"kakahaia\", \"kakahaia\", \"kakahaia\", \n . \"kakahaia\", \"kakahaia\", \"kakahaia\", \"kakahaia\", \"kakahaia\", \"kakahaia\", \n . \"kakahaia\", \"kakahaia\", \"kakahaia\", \"kakahaia\", \"kakahaia\", \"kakahaia\", \n . \"kakahaia\", \"kakahaia\", \"kakahaia\", \"kakahaia\", \"kakahaia\", \"kakahaia\", \n . \"kakahaia\", \"kakahaia\", \"kakahaia\", \"kakahaia\", \"kakahaia\", \"kakahaia\", \n . \"kakahaia\", \"kakahaia\", \"kakahaia\", \"kakahaia\", \"kakahaia\", \"kakahaia\", \n . \"kakahaia\", \"kakahaia\", \"kakahaia\", \"kakahaia\", \"kakahaia\", \"kakahaia\", \n . \"kakahaia\", \"kakahaia\", \"kakahaia\", \"kakahaia\", \"kakahaia\", \"kakahaia\", \n . \"kakahaia\", \"kakahaia\", \"kakahaia\", \"kakahaia\", \"kakahaia\", \"kakahaia\", \n . \"kakahaia\", \"kakahaia\", \"kakahaia\", \"kakahaia\", \"kakahaia\", \"kakahaia\", \n . \"kakahaia\", \"kakahaia\", \"kakahaia\", \"kakahaia\", \"kakahaia\", \"kakahaia\", \n . \"kakahaia\", \"kakahaia\", \"kakahaia\", \"kakahaia\", \"kakahaia\", \"kakahaia\", \n . \"kakahaia\", \"kakahaia\", \"kakahaia\", \"kakahaia\", \"kakahaia\", \"kakahaia\", \n . \"kakahaia\", \"kakahaia\", \"kakahaia\", \"kakahaia\", \"kakahaia\", \"kakahaia\", \n . \"kakahaia\", \"kakahaia\", \"kakahaia\", \"kakahaia\", \"kakahaia\", \"kakahaia\", \n . \"kakahaia\", \"kakahaia\", \"kakahaia\", \"kakahaia\", \"kakahaia\", \"kakahaia\", \n . \"kakahaia\", \"kakahaia\", \"kakahaia\", \"kakahaia\", \"kakahaia\", \"kakahaia\", \n . \"kakahaia\", \"kakahaia\", \"kakahaia\", \"kakahaia\", \"kakahaia\", \"kakahaia\", \n . \"kakahaia\", \"kakahaia\", \"kakahaia\", \"kakahaia\", \"kakahaia\", \"kakahaia\", \n . \"kakahaia\", \"kakahaia\", \"kakahaia\", \"kakahaia\", \"kakahaia\", \"kakahaia\", \n . \"kakahaia\", \"kakahaia\", \"kakahaia\", \"kakahaia\", \"kakahaia\", \"kakahaia\", \n . \"kakahaia\", \"kakahaia\", \"kakahaia\", \"kakahaia\", \"kakahaia\", \"kakahaia\", \n . \"kakahaia\", \"kakahaia\", \"kakahaia\", \"kakahaia\", \"kakahaia\", \"kakahaia\", \n . \"kakahaia\", \"kakahaia\", \"kaluaapuhi\", \"kaluaapuhi\", \"kaluaapuhi\", \n . \"kaluaapuhi\", \"kaluaapuhi\", \"kaluaapuhi\", \"kaluaapuhi\", \"kaluaapuhi\", \n . \"kaluaapuhi\", \"kaluaapuhi\", \"kaluaapuhi\", \"kaluaapuhi\", \"kaluaapuhi\", \n . \"kaluaapuhi\", \"kaluaapuhi\", \"kaluaapuhi\", \"kaluaapuhi\", \"kaluaapuhi\", \n . \"kaluaapuhi\", \"kaluaapuhi\", \"kaluaapuhi\", \"kaluaapuhi\", \"kaluaapuhi\", \n . \"kaluaapuhi\", \"kaluaapuhi\", \"kaluaapuhi\", \"kaluaapuhi\", \"kaluaapuhi\", \n . \"kaluaapuhi\", \"kaluaapuhi\", \"kaluaapuhi\", \"kaluaapuhi\", \"kaluaapuhi\", \n . \"kaluaapuhi\", \"kaluaapuhi\", \"kaluaapuhi\", \"kaluaapuhi\", \"kaluaapuhi\", \n . \"kaluaapuhi\", \"kaluaapuhi\", \"kaluaapuhi\", \"kaluaapuhi\", \"kaluaapuhi\", \n . \"kaluaapuhi\", \"kaluaapuhi\", \"kaluaapuhi\", \"kaluaapuhi\", \"kaluaapuhi\", \n . \"kaluaapuhi\", \"kaluaapuhi\", \"kaluaapuhi\", \"kaluaapuhi\", \"kaluaapuhi\", \n . \"kaluaapuhi\", \"kaluaapuhi\", \"kaluaapuhi\", \"kaluaapuhi\", \"kaluaapuhi\", \n . \"kaluaapuhi\", \"kaluaapuhi\", \"kaluaapuhi\", \"kaluaapuhi\", \"kaluaapuhi\", \n . \"kaluaapuhi\", \"kaluaapuhi\", \"kaluaapuhi\", \"kaluaapuhi\", \"kaluaapuhi\", \n . \"kaluaapuhi\", \"kaluaapuhi\", \"kaluaapuhi\", \"kaluaapuhi\", \"kaluaapuhi\", \n . \"kaluaapuhi\", \"kaluaapuhi\", \"kaluaapuhi\", \"kaluaapuhi\", \"kaluaapuhi\", \n . \"kaluaapuhi\", \"kaluaapuhi\", \"kaluaapuhi\", \"kaluaapuhi\", \"kaluaapuhi\", \n . \"kaluaapuhi\", \"kaluaapuhi\", \"kaluaapuhi\", \"kaluaapuhi\", \"kaluaapuhi\", \n . \"kaluaapuhi\", \"kaluaapuhi\", \"kaluaapuhi\", \"kaluaapuhi\", \"kaluaapuhi\", \n . \"kaluaapuhi\", \"kaluaapuhi\", \"kaluaapuhi\", \"kaluaapuhi\", \"kaluaapuhi\", \n . \"kaluaapuhi\", \"kaluaapuhi\", \"kaluaapuhi\", \"kaluaapuhi\", \"kaluaapuhi\", \n . \"kaluaapuhi\", \"kaluaapuhi\", \"kaluaapuhi\", \"kaluaapuhi\", \"kaluaapuhi\", \n . \"kaluaapuhi\", \"kaluaapuhi\", \"kaluaapuhi\", \"kaluaapuhi\", \"kaluaapuhi\", \n . \"kaluaapuhi\", \"kaluaapuhi\", \"kaluaapuhi\", \"kaluaapuhi\", \"kaluaapuhi\", \n . \"kaluaapuhi\", \"kaluaapuhi\", \"kaluaapuhi\", \"kaluaapuhi\", \"kaluaapuhi\", \n . \"kaluaapuhi\", \"kaluaapuhi\", \"kaluaapuhi\", \"kaluaapuhi\", \"kaluaapuhi\", \n . \"kaluaapuhi\", \"kaluaapuhi\", \"kaluaapuhi\", \"kaluaapuhi\", \"kaluaapuhi\", \n . \"kaluaapuhi\", \"kaluaapuhi\", \"kaluaapuhi\", \"kaluaapuhi\", \"kaluaapuhi\", \n . \"kaluaapuhi\", \"kaluaapuhi\", \"kaluaapuhi\", \"kaluaapuhi\", \"kaluaapuhi\", \n . \"kaluaapuhi\", \"kaluaapuhi\", \"kaluaapuhi\", \"kaluaapuhi\", \"kaluaapuhi\", \n . \"kaluaapuhi\", \"kaluaapuhi\", \"kaluaapuhi\", \"kaluaapuhi\", \"kaluaapuhi\", \n . \"kaluaapuhi\", \"kaluaapuhi\", \"kaluaapuhi\", \"kaluaapuhi\", \"kaluaapuhi\", \n . \"kaluaapuhi\", \"kaluaapuhi\", \"kaluaapuhi\", \"kaluaapuhi\", \"kaluaapuhi\", \n . \"kaluaapuhi\", \"kaluaapuhi\", \"kaluaapuhi\", \"kaluaapuhi\", \"kaluaapuhi\", \n . \"kaluaapuhi\", \"kaluaapuhi\", \"kaluaapuhi\", \"kaluaapuhi\", \"kaluaapuhi\", \n . \"kaluaapuhi\", \"kaluaapuhi\", \"kaluaapuhi\", \"kaluaapuhi\", \"kaluaapuhi\", \n . \"kaluaapuhi\", \"kaluaapuhi\", \"kaluaapuhi\", \"kaluaapuhi\", \"kaluaapuhi\", \n . \"kaluaapuhi\", \"kaluaapuhi\", \"kaluaapuhi\", \"kaluaapuhi\", \"kaluaapuhi\", \n . \"kaluaapuhi\", \"kaluaapuhi\", \"kaluaapuhi\", \"kaluaapuhi\", \"kaluaapuhi\", \n . \"kaluaapuhi\", \"kaluaapuhi\", \"kaluaapuhi\", \"kaluaapuhi\", \"kaluaapuhi\", \n . \"kaluaapuhi\", \"kaluaapuhi\", \"kaluaapuhi\", \"kaluaapuhi\", \"kaluaapuhi\", \n . \"kaluaapuhi\", \"kaluaapuhi\", \"kaluaapuhi\", \"kaluaapuhi\", \"kaluaapuhi\", \n . \"kaluaapuhi\", \"kaluaapuhi\", \"kaluaapuhi\", \"kaluaapuhi\", \"kaluaapuhi\", \n . \"kaluaapuhi\", \"kaluaapuhi\", \"kaluaapuhi\", \"kaluaapuhi\", \"kaluaapuhi\", \n . \"kaluaapuhi\", \"kaluaapuhi\", \"kaluaapuhi\", \"kaluaapuhi\", \"kaluaapuhi\", \n . \"kaluaapuhi\", \"kaluaapuhi\", \"kaluaapuhi\", \"kaluaapuhi\", \"kaluaapuhi\", \n . \"kaluaapuhi\", \"kaluaapuhi\", \"kaluaapuhi\", \"kaluaapuhi\", \"kaluaapuhi\", \n . \"kaluaapuhi\", \"kaluaapuhi\", \"kaluaapuhi\", \"kaluaapuhi\", \"kaluaapuhi\", \n . \"kaluaapuhi\", \"kaluaapuhi\", \"kaluaapuhi\", \"kaluaapuhi\", \"kaluaapuhi\", \n . \"kaluaapuhi\", \"kaluaapuhi\", \"kaluaapuhi\", \"kaluaapuhi\", \"kaluaapuhi\", \n . \"kaluaapuhi\", \"kaluaapuhi\", \"kaluaapuhi\", \"kaluaapuhi\", \"kaluaapuhi\", \n . \"kaluaapuhi\", \"kaluaapuhi\", \"kaluaapuhi\", \"kaluaapuhi\", \"kaluaapuhi\", \n . \"kaluaapuhi\", \"kaluaapuhi\", \"kamalo\", \"kamalo\", \"kamalo\", \"kamalo\", \n . \"kamalo\", \"kamalo\", \"kamalo\", \"kamalo\", \"kamalo\", \"kamalo\", \"kamalo\", \n . \"kamalo\", \"kamalo\", \"kamalo\", \"kamalo\", \"kamalo\", \"kamalo\", \"kamalo\", \n . \"kamalo\", \"kamalo\", \"kamalo\", \"kamalo\", \"kamalo\", \"kamalo\", \"kamalo\", \n . \"kamalo\", \"kamalo\", \"kamalo\", \"kamalo\", \"kamalo\", \"kamalo\", \"kamalo\", \n . \"kamalo\", \"kamalo\", \"kamalo\", \"kamalo\", \"kamalo\", \"kamalo\", \"kamalo\", \n . \"kamalo\", \"kamalo\", \"kamalo\", \"kamalo\", \"kamalo\", \"kamalo\", \"kamalo\", \n . \"kamalo\", \"kamalo\", \"kamalo\", \"kamalo\", \"kamalo\", \"kamalo\", \"kamalo\", \n . \"kamalo\", \"kamalo\", \"kamalo\", \"kamalo\", \"kamalo\", \"kamalo\", \"kamalo\", \n . \"kamalo\", \"kamalo\", \"kamalo\", \"kamalo\", \"kamalo\", \"kamalo\", \"kamalo\", \n . \"kamalo\", \"kamalo\", \"kamalo\", \"kamalo\", \"kamalo\", \"kamalo\", \"kamalo\", \n . \"kamalo\", \"kamalo\", \"kamalo\", \"kamalo\", \"kamalo\", \"kamalo\", \"kamalo\", \n . \"kamalo\", \"kamalo\", \"kamalo\", \"kamalo\", \"kamalo\", \"kamalo\", \"kamalo\", \n . \"kamalo\", \"kamalo\", \"kamalo\", \"kamalo\", \"kamalo\", \"kamalo\", \"kamalo\", \n . \"kamalo\", \"kamalo\", \"kamalo\", \"kamalo\", \"kamalo\", \"kamalo\", \"kamalo\", \n . \"kamalo\", \"kamalo\", \"kamalo\", \"kamalo\", \"kamalo\", \"kamalo\", \"kamalo\", \n . \"kamalo\", \"kamalo\", \"kamalo\", \"kamalo\", \"kamalo\", \"kamalo\", \"kamalo\", \n . \"kamalo\", \"kamalo\", \"kamalo\", \"kamalo\", \"kamalo\", \"kamalo\", \"kamalo\", \n . \"kamalo\", \"kamalo\", \"kamalo\", \"kamalo\", \"kamalo\", \"kamalo\", \"kamalo\", \n . \"kamalo\", \"kamalo\", \"kamalo\", \"kamalo\", \"kamalo\", \"kamalo\", \"kamalo\", \n . \"kamalo\", \"kamalo\", \"kamalo\", \"kamalo\", \"kamalo\", \"kamalo\", \"kamalo\", \n . \"kamalo\", \"kamalo\", \"kamalo\", \"kamalo\", \"kamalo\", \"kamalo\", \"kamalo\", \n . \"kamalo\", \"kamalo\", \"kamalo\", \"kamalo\", \"kamalo\", \"kamalo\", \"kamalo\", \n . \"kamalo\", \"kamalo\", \"kamalo\", \"kamalo\", \"kamalo\", \"kamalo\", \"kamalo\", \n . \"kamalo\", \"kamalo\", \"kamalo\", \"kamalo\", \"kamalo\", \"kamalo\", \"kamalo\", \n . \"kamalo\", \"kamalo\", \"kamalo\", \"kamalo\", \"kamalo\", \"kamalo\", \"kamalo\", \n . \"kamalo\", \"kamalo\", \"kamalo\", \"kamalo\", \"kamalo\", \"kamalo\", \"kamalo\", \n . \"kamalo\", \"kamalo\", \"kamalo\", \"kamalo\", \"kamalo\", \"kamalo\", \"kamalo\", \n . \"kamalo\", \"kamalo\", \"kamalo\", \"kamalo\", \"kamalo\", \"kamalo\", \"kamalo\", \n . \"kamalo\", \"kamalo\", \"kamalo\", \"kamalo\", \"kamalo\", \"kamalo\", \"kamalo\", \n . \"kamalo\", \"kamalo\", \"kamalo\", \"kamalo\", \"kamalo\", \"kamalo\", \"kamalo\", \n . \"kamalo\", \"kamalo\", \"kamalo\", \"kamalo\", \"kamalo\", \"kamalo\", \"kamalo\", \n . \"kamalo\", \"kamalo\", \"kamalo\", \"kamalo\", \"kamalo\", \"kamalo\", \"kamalo\", \n . \"kamalo\", \"kamalo\", \"kamalo\", \"kamalo\", \"kamalo\", \"kamalo\", \"kamalo\", \n . \"kamalo\", \"kamalo\", \"kamalo\", \"kamalo\", \"kamalo\", \"kamalo\", \"kamalo\", \n . \"kamalo\", \"kamalo\", \"kamalo\", \"kamalo\", \"kamalo\", \"kamalo\", \"kamalo\", \n . \"kamalo\", \"kamalo\", \"kamalo\", \"kamalo\", \"kamalo\", \"kamalo\", \"kamalo\", \n . \"kamalo\", \"kamalo\", \"kamalo\", \"kamalo\", \"kamalo\", \"kamalo\", \"kamalo\", \n . \"kamalo\", \"kamalo\", \"kamalo\", \"kamalo\", \"kamalo\", \"kamalo\", \"kamalo\", \n . \"kamalo\", \"kamalo\", \"kamalo\", \"kamalo\", \"kamalo\", \"kamalo\", \"kamalo\", \n . \"kamalo\", \"kamalo\", \"kamalo\", \"kamalo\", \"kamalo\", \"kamalo\", \"kamalo\", \n . \"kamalo\", \"kamalo\", \"kamalo\", \"kamalo\", \"kamalo\", \"kamalo\", \"kamalo\", \n . \"kamalo\", \"kamalo\", \"kamalo\", \"kamalo\", \"kamalo\", \"kamalo\", \"kamalo\", \n . \"kamalo\", \"kamalo\", \"kamalo\", \"kamalo\", \"kamalo\", \"kamalo\", \"kamalo\", \n . \"kamalo\", \"kamalo\", \"kamalo\", \"kamalo\", \"kamalo\", \"kamalo\", \"kamalo\", \n . \"kamalo\", \"kamalo\", \"kamalo\", \"kamalo\", \"kamalo\", \"kamalo\", \"kamalo\", \n . \"kamalo\", \"kamalo\", \"kamalo\", \"kamalo\", \"kamalo\", \"kamalo\", \"kamalo\", \n . \"kamalo\", \"kamalo\", \"kamalo\", \"kamalo\", \"kamalo\", \"kamalo\", \"kamalo\", \n . \"kamalo\", \"kamalo\", \"kamalo\", \"kamalo\", \"kamalo\", \"kamalo\", \"kamalo\", \n . \"kamalo\", \"kamalo\", \"kamalo\", \"kamalo\", \"kamalo\", \"kamalo\", \"kamalo\", \n . \"kamalo\", \"kamalo\", \"kamalo\", \"kamalo\", \"kamalo\", \"kamalo\", \"kamalo\", \n . \"kamalo\", \"kamalo\", \"kamalo\", \"kamalo\", \"kamalo\", \"kamalo\", \"kamalo\", \n . \"kamalo\", \"kamalo\", \"kamalo\", \"kamalo\", \"kamalo\", \"kamalo\", \"kamalo\", \n . \"kamalo\", \"kamalo\", \"kamalo\", \"kamalo\", \"kamalo\", \"kamalo\", \"kamalo\", \n . \"kamalo\", \"kamalo\", \"kamalo\", \"kamalo\", \"kamalo\", \"kanaha\", \"kanaha\", \n . \"kanaha\", \"kanaha\", \"kanaha\", \"kanaha\", \"kanaha\", \"kanaha\", \"kanaha\", \n . \"kanaha\", \"kanaha\", \"kanaha\", \"kanaha\", \"kanaha\", \"kanaha\", \"kanaha\", \n . \"kanaha\", \"kanaha\", \"kanaha\", \"kanaha\", \"kanaha\", \"kanaha\", \"kanaha\", \n . \"kanaha\", \"kanaha\", \"kanaha\", \"kanaha\", \"kanaha\", \"kanaha\", \"kanaha\", \n . \"kanaha\", \"kanaha\", \"kanaha\", \"kanaha\", \"kanaha\", \"kanaha\", \"kanaha\", \n . \"kanaha\", \"kanaha\", \"kanaha\", \"kanaha\", \"kanaha\", \"kawainui\", \n . \"kawainui\", \"kawainui\", \"kawainui\", \"kawainui\", \"kawainui\", \"kawainui\", \n . \"kawainui\", \"kawainui\", \"kawainui\", \"kawainui\", \"kawainui\", \"kawainui\", \n . \"kawainui\", \"kawainui\", \"kawainui\", \"kawainui\", \"kawainui\", \"kawainui\", \n . \"kawainui\", \"kawainui\", \"kawainui\", \"kawainui\", \"kawainui\", \"kawainui\", \n . \"kawainui\", \"kawainui\", \"kawainui\", \"kawainui\", \"kawainui\", \"kawainui\", \n . \"kawainui\", \"kawainui\", \"kawainui\", \"kawainui\", \"kawainui\", \"kawainui\", \n . \"kawainui\", \"kawainui\", \"kawainui\", \"kawainui\", \"kawainui\", \"kawainui\", \n . \"kawainui\", \"kawainui\", \"kawainui\", \"kawainui\", \"kawainui\", \"kawainui\", \n . \"kawainui\", \"kawainui\", \"kawainui\", \"kawainui\", \"kawainui\", \"kawainui\", \n . \"kawainui\", \"kawainui\", \"kawainui\", \"kawainui\", \"kawainui\", \"kawainui\", \n . \"kawainui\", \"kawainui\", \"kawainui\", \"kawainui\", \"kawainui\", \"kawainui\", \n . \"kawainui\", \"kawainui\", \"kawainui\", \"kawainui\", \"kawainui\", \"kawainui\", \n . \"kawainui\", \"kawainui\", \"kawainui\", \"kawainui\", \"kawainui\", \"kawainui\", \n . \"kawainui\", \"kawainui\", \"kawainui\", \"kawainui\", \"kawainui\", \"kawainui\", \n . \"kawainui\", \"kawainui\", \"kawainui\", \"kawainui\", \"kawainui\", \"kawainui\", \n . \"kawainui\", \"kawainui\", \"kawainui\", \"kawainui\", \"kawainui\", \"kawainui\", \n . \"kawainui\", \"kawainui\", \"kawainui\", \"kawainui\", \"kawainui\", \"kawainui\", \n . \"kawainui\", \"kawainui\", \"kawainui\", \"kawainui\", \"kawainui\", \"kawainui\", \n . \"kawainui\", \"kawainui\", \"kawainui\", \"kawainui\", \"kawainui\", \"kawainui\", \n . \"kawainui\", \"kawainui\", \"kawainui\", \"kawainui\", \"kawainui\", \"kawainui\", \n . \"kawainui\", \"kawainui\", \"kawainui\", \"kawainui\", \"kawainui\", \"kawainui\", \n . \"kawainui\", \"kawainui\", \"kawainui\", \"kawainui\", \"kawainui\", \"kawainui\", \n . \"kawainui\", \"kawainui\", \"kawainui\", \"kawainui\", \"kawainui\", \"kawainui\", \n . \"kawainui\", \"kawainui\", \"kawainui\", \"kawainui\", \"kawainui\", \"kawainui\", \n . \"kawainui\", \"kawainui\", \"kawainui\", \"kawainui\", \"kawainui\", \"kawainui\", \n . \"kawainui\", \"kawainui\", \"kawainui\", \"kawainui\", \"kawainui\", \"kawainui\", \n . \"kawainui\", \"kawainui\", \"kawainui\", \"kawainui\", \"kawainui\", \"kawainui\", \n . \"kawainui\", \"kawainui\", \"kawainui\", \"kawainui\", \"kawainui\", \"kawainui\", \n . \"kawainui\", \"kawainui\", \"kawainui\", \"kawainui\", \"kawainui\", \"kawainui\", \n . \"kawainui\", \"kawainui\", \"kawainui\", \"kawainui\", \"kawainui\", \"kawainui\", \n . \"kawainui\", \"kawainui\", \"kawainui\", \"kawainui\", \"kawainui\", \"kawainui\", \n . \"kawainui\", \"kawainui\", \"kawainui\", \"kawainui\", \"kawainui\", \"kawainui\", \n . \"kawainui\", \"kawainui\", \"kawainui\", \"kawainui\", \"kawainui\", \"kawainui\", \n . \"kawainui\", \"kawainui\", \"kawainui\", \"kawainui\", \"kawainui\", \"kawainui\", \n . \"kawainui\", \"kawainui\", \"kawainui\", \"kawainui\", \"kawainui\", \"kawainui\", \n . \"kawainui\", \"kawainui\", \"kawainui\", \"kawainui\", \"kawainui\", \"kawainui\", \n . \"kawainui\", \"kawainui\", \"kawainui\", \"kawainui\", \"kawainui\", \"kawainui\", \n . \"kawainui\", \"kawainui\", \"kawainui\", \"kawainui\", \"kawainui\", \"kawainui\", \n . \"kawainui\", \"kawainui\", \"kawainui\", \"kawainui\", \"kawainui\", \"kawainui\", \n . \"kawainui\", \"kawainui\", \"kawainui\", \"kawainui\", \"kawainui\", \"kawainui\", \n . \"kawainui\", \"kawainui\", \"kawainui\", \"kawainui\", \"kawainui\", \"kawainui\", \n . \"kawainui\", \"kawainui\", \"kawainui\", \"kawainui\", \"kawainui\", \"kawainui\", \n . \"kawainui\", \"kawainui\", \"kawainui\", \"kawainui\", \"kawainui\", \"kawainui\", \n . \"kawainui\", \"kawainui\", \"kawainui\", \"kawainui\", \"kawainui\", \"kawainui\", \n . \"kawainui\", \"kawainui\", \"kawainui\", \"kawainui\", \"kawainui\", \"kawainui\", \n . \"kawainui\", \"kawainui\", \"kawainui\", \"kawainui\", \"kawainui\", \"kawainui\", \n . \"kawainui\", \"kawainui\", \"kawainui\", \"kawainui\", \"kawainui\", \"kawainui\", \n . \"kawainui\", \"kawainui\", \"kawainui\", \"kawainui\", \"kawainui\", \"kealia\", \n . \"kealia\", \"kealia\", \"kealia\", \"kealia\", \"kealia\", \"kealia\", \"kealia\", \n . \"kealia\", \"kealia\", \"kealia\", \"kealia\", \"kealia\", \"kealia\", \"kealia\", \n . \"kealia\", \"kealia\", \"kealia\", \"kealia\", \"kealia\", \"kealia\", \"kealia\", \n . \"kealia\", \"kealia\", \"kealia\", \"kealia\", \"kealia\", \"kealia\", \"kealia\", \n . \"kealia\", \"kealia\", \"kealia\", \"kealia\", \"kealia\", \"kealia\", \"kealia\", \n . \"kealia\", \"kealia\", \"kealia\", \"kealia\", \"kealia\", \"kealia\", \"kealia\", \n . \"kealia\", \"kealia\", \"kealia\", \"kealia\", \"kealia\", \"kealia\", \"kealia\", \n . \"kealia\", \"kealia\", \"kealia\", \"kealia\", \"kealia\", \"kealia\", \"kealia\", \n . \"kealia\", \"kealia\", \"kealia\", \"kealia\", \"kealia\", \"kealia\", \"kealia\", \n . \"kealia\", \"kealia\", \"kealia\", \"kealia\", \"kealia\", \"kealia\", \"kealia\", \n . \"kealia\", \"kealia\", \"kealia\", \"kealia\", \"kealia\", \"kealia\", \"kealia\", \n . \"kealia\", \"kealia\", \"kealia\", \"kealia\", \"kealia\", \"kealia\", \"kealia\", \n . \"kealia\", \"kealia\", \"kealia\", \"kealia\", \"kealia\", \"kealia\", \"kealia\", \n . \"kealia\", \"kealia\", \"kealia\", \"kealia\", \"kealia\", \"kealia\", \"kealia\", \n . \"kealia\", \"kealia\", \"kealia\", \"kealia\", \"kealia\", \"kealia\", \"kealia\", \n . \"kealia\", \"kealia\", \"kealia\", \"kealia\", \"kealia\", \"kealia\", \"kealia\", \n . \"kealia\", \"kealia\", \"kealia\", \"kealia\", \"kealia\", \"kealia\", \"kealia\", \n . \"lumahai\", \"lumahai\", \"lumahai\", \"lumahai\", \"lumahai\", \"lumahai\", \n . \"lumahai\", \"lumahai\", \"lumahai\", \"lumahai\", \"lumahai\", \"lumahai\", \n . \"lumahai\", \"lumahai\", \"lumahai\", \"lumahai\", \"lumahai\", \"lumahai\", \n . \"lumahai\", \"lumahai\", \"lumahai\", \"lumahai\", \"lumahai\", \"lumahai\", \n . \"lumahai\", \"lumahai\", \"lumahai\", \"lumahai\", \"lumahai\", \"lumahai\", \n . \"lumahai\", \"lumahai\", \"lumahai\", \"lumahai\", \"lumahai\", \"lumahai\", \n . \"lumahai\", \"lumahai\", \"lumahai\", \"lumahai\", \"lumahai\", \"lumahai\", \n . \"lumahai\", \"lumahai\", \"lumahai\", \"lumahai\", \"lumahai\", \"lumahai\", \n . \"lumahai\", \"lumahai\", \"lumahai\", \"lumahai\", \"lumahai\", \"lumahai\", \n . \"lumahai\", \"lumahai\", \"lumahai\", \"lumahai\", \"lumahai\", \"lumahai\", \n . \"lumahai\", \"lumahai\", \"lumahai\", \"lumahai\", \"lumahai\", \"paukukalo\", \n . \"paukukalo\", \"paukukalo\", \"paukukalo\", \"paukukalo\", \"paukukalo\", \n . \"paukukalo\", \"paukukalo\", \"paukukalo\", \"paukukalo\", \"paukukalo\", \n . \"paukukalo\", \"paukukalo\", \"paukukalo\", \"paukukalo\", \"paukukalo\", \n . \"paukukalo\", \"paukukalo\", \"paukukalo\", \"paukukalo\", \"paukukalo\", \n . \"paukukalo\", \"paukukalo\", \"paukukalo\", \"paukukalo\", \"paukukalo\", \n . \"paukukalo\", \"paukukalo\", \"paukukalo\", \"paukukalo\", \"paukukalo\", \n . \"paukukalo\", \"paukukalo\", \"paukukalo\", \"paukukalo\", \"paukukalo\", \n . \"paukukalo\", \"paukukalo\", \"paukukalo\", \"paukukalo\", \"paukukalo\", \n . \"paukukalo\", \"paukukalo\", \"paukukalo\", \"paukukalo\", \"paukukalo\", \n . \"paukukalo\", \"paukukalo\", \"paukukalo\", \"paukukalo\", \"paukukalo\", \n . \"paukukalo\", \"paukukalo\", \"paukukalo\", \"paukukalo\", \"paukukalo\", \n . \"paukukalo\", \"paukukalo\", \"paukukalo\", \"paukukalo\", \"paukukalo\", \n . \"paukukalo\", \"paukukalo\", \"paukukalo\", \"paukukalo\", \"paukukalo\", \n . \"paukukalo\", \"paukukalo\", \"paukukalo\", \"paukukalo\", \"paukukalo\", \n . \"paukukalo\", \"paukukalo\", \"paukukalo\", \"paukukalo\", \"paukukalo\", \n . \"paukukalo\", \"paukukalo\", \"paukukalo\", \"paukukalo\", \"paukukalo\", \n . \"paukukalo\", \"paukukalo\", \"paukukalo\", \"paukukalo\", \"paukukalo\", \n . \"paukukalo\", \"paukukalo\", \"paukukalo\", \"paukukalo\", \"pearl_harbor\", \n . \"pearl_harbor\", \"pearl_harbor\", \"pearl_harbor\", \"pearl_harbor\", \n . \"pearl_harbor\", \"pearl_harbor\", \"pearl_harbor\", \"pearl_harbor\", \n . \"pearl_harbor\", \"pearl_harbor\", \"pearl_harbor\", \"pearl_harbor\", \n . \"pearl_harbor\", \"pearl_harbor\", \"pearl_harbor\", \"pearl_harbor\", \n . \"pearl_harbor\", \"pearl_harbor\", \"pearl_harbor\", \"pearl_harbor\", \n . \"pearl_harbor\", \"pearl_harbor\", \"pearl_harbor\", \"pearl_harbor\", \n . \"pearl_harbor\", \"pearl_harbor\", \"pearl_harbor\", \"pearl_harbor\", \n . \"pearl_harbor\", \"pearl_harbor\", \"pearl_harbor\", \"pearl_harbor\", \n . \"pearl_harbor\", \"pearl_harbor\", \"pearl_harbor\", \"pearl_harbor\", \n . \"pearl_harbor\", \"pearl_harbor\", \"pearl_harbor\", \"pearl_harbor\", \n . \"pearl_harbor\", \"pearl_harbor\", \"pearl_harbor\", \"pearl_harbor\", \n . \"pearl_harbor\", \"pearl_harbor\", \"pearl_harbor\", \"pearl_harbor\", \n . \"pearl_harbor\", \"pearl_harbor\", \"pearl_harbor\", \"pearl_harbor\", \n . \"pearl_harbor\", \"pearl_harbor\", \"pearl_harbor\", \"pearl_harbor\", \n . \"pearl_harbor\", \"pearl_harbor\", \"pearl_harbor\", \"pearl_harbor\", \n . \"pearl_harbor\", \"pearl_harbor\", \"pearl_harbor\", \"pearl_harbor\", \n . \"pearl_harbor\", \"pearl_harbor\", \"pearl_harbor\", \"pearl_harbor\", \n . \"pearl_harbor\", \"pearl_harbor\", \"pearl_harbor\", \"pearl_harbor\", \n . \"pearl_harbor\", \"pearl_harbor\", \"pearl_harbor\", \"pearl_harbor\", \n . \"pearl_harbor\", \"pearl_harbor\", \"pearl_harbor\", \"pearl_harbor\", \n . \"pearl_harbor\", \"pearl_harbor\", \"pearl_harbor\", \"pearl_harbor\", \n . \"pearl_harbor\", \"pearl_harbor\", \"pearl_harbor\", \"pearl_harbor\", \n . \"pearl_harbor\", \"pearl_harbor\", \"pearl_harbor\", \"pearl_harbor\", \n . \"pearl_harbor\", \"pearl_harbor\", \"pearl_harbor\", \"pearl_harbor\", \n . \"pearl_harbor\", \"pearl_harbor\", \"pearl_harbor\", \"pearl_harbor\", \n . \"pearl_harbor\", \"pearl_harbor\", \"pearl_harbor\", \"pearl_harbor\", \n . \"pearl_harbor\", \"pearl_harbor\", \"pearl_harbor\", \"pearl_harbor\", \n . \"pearl_harbor\", \"pearl_harbor\", \"pearl_harbor\", \"pearl_harbor\", \n . \"pearl_harbor\", \"pearl_harbor\", \"pearl_harbor\", \"pearl_harbor\", \n . \"pearl_harbor\", \"pearl_harbor\", \"pearl_harbor\", \"pearl_harbor\", \n . \"pearl_harbor\", \"pearl_harbor\", \"pearl_harbor\", \"pearl_harbor\", \n . \"pearl_harbor\", \"pearl_harbor\", \"pearl_harbor\", \"pearl_harbor\", \n . \"pearl_harbor\", \"pearl_harbor\", \"pearl_harbor\", \"pearl_harbor\", \n . \"pearl_harbor\", \"pearl_harbor\", \"pearl_harbor\", \"pearl_harbor\", \n . \"pearl_harbor\", \"pearl_harbor\", \"pearl_harbor\", \"pearl_harbor\", \n . \"pearl_harbor\", \"pearl_harbor\", \"pearl_harbor\", \"pearl_harbor\", \n . \"pearl_harbor\", \"pearl_harbor\", \"pearl_harbor\", \"pearl_harbor\", \n . \"pearl_harbor\", \"pearl_harbor\", \"pearl_harbor\", \"pearl_harbor\", \n . \"pearl_harbor\", \"pearl_harbor\", \"pearl_harbor\", \"pearl_harbor\", \n . \"pearl_harbor\", \"pearl_harbor\", \"pearl_harbor\", \"pearl_harbor\", \n . \"pearl_harbor\", \"pearl_harbor\", \"pearl_harbor\", \"pearl_harbor\", \n . \"pearl_harbor\", \"pearl_harbor\", \"pearl_harbor\", \"pearl_harbor\", \n . \"pearl_harbor\", \"pearl_harbor\", \"pearl_harbor\", \"pearl_harbor\", \n . \"pearl_harbor\", \"pearl_harbor\", \"pearl_harbor\", \"pearl_harbor\", \n . \"pearl_harbor\", \"pearl_harbor\", \"pearl_harbor\", \"pearl_harbor\", \n . \"pearl_harbor\", \"pearl_harbor\", \"pearl_harbor\", \"pearl_harbor\", \n . \"pearl_harbor\", \"pearl_harbor\", \"pearl_harbor\", \"pearl_harbor\", \n . \"pearl_harbor\", \"pearl_harbor\", \"pearl_harbor\", \"pearl_harbor\", \n . \"pearl_harbor\", \"pearl_harbor\", \"pearl_harbor\", \"pearl_harbor\", \n . \"pearl_harbor\", \"pearl_harbor\", \"pearl_harbor\", \"pearl_harbor\", \n . \"pearl_harbor\", \"pearl_harbor\", \"pearl_harbor\", \"pearl_harbor\", \n . \"pearl_harbor\", \"pearl_harbor\", \"pearl_harbor\", \"pearl_harbor\", \n . \"pearl_harbor\", \"pearl_harbor\", \"pearl_harbor\", \"pearl_harbor\", \n . \"pearl_harbor\", \"pearl_harbor\", \"pearl_harbor\", \"pearl_harbor\", \n . \"pearl_harbor\", \"pearl_harbor\", \"pearl_harbor\", \"pearl_harbor\", \n . \"pearl_harbor\", \"pearl_harbor\", \"pearl_harbor\", \"pearl_harbor\", \n . \"pearl_harbor\", \"pearl_harbor\", \"pearl_harbor\", \"pearl_harbor\", \n . \"pearl_harbor\", \"pearl_harbor\", \"pearl_harbor\", \"pearl_harbor\", \n . \"pearl_harbor\", \"pearl_harbor\", \"pearl_harbor\", \"pearl_harbor\", \n . \"pearl_harbor\", \"pearl_harbor\", \"pearl_harbor\", \"pearl_harbor\", \n . \"pearl_harbor\", \"pearl_harbor\", \"pearl_harbor\", \"pearl_harbor\", \n . \"pearl_harbor\", \"pearl_harbor\", \"pearl_harbor\", \"pearl_harbor\", \n . \"pearl_harbor\", \"pearl_harbor\", \"pearl_harbor\", \"pearl_harbor\", \n . \"pearl_harbor\", \"pearl_harbor\", \"pearl_harbor\", \"pearl_harbor\", \n . \"pearl_harbor\", \"pearl_harbor\", \"pearl_harbor\", \"pearl_harbor\", \n . \"pearl_harbor\", \"pearl_harbor\", \"pearl_harbor\", \"pearl_harbor\", \n . \"pearl_harbor\", \"pearl_harbor\", \"pearl_harbor\", \"pearl_harbor\", \n . \"pearl_harbor\", \"pearl_harbor\", \"pearl_harbor\", \"pearl_harbor\", \n . \"pearl_harbor\", \"pearl_harbor\", \"pearl_harbor\", \"pearl_harbor\", \n . \"pearl_harbor\", \"pearl_harbor\", \"pearl_harbor\", \"pearl_harbor\", \n . \"pearl_harbor\", \"pearl_harbor\", \"pearl_harbor\", \"pearl_harbor\", \n . \"pearl_harbor\", \"pearl_harbor\", \"pearl_harbor\", \"pearl_harbor\", \n . \"pearl_harbor\", \"pearl_harbor\", \"pearl_harbor\", \"pearl_harbor\", \n . \"pearl_harbor\", \"pearl_harbor\", \"pearl_harbor\", \"pearl_harbor\", \n . \"pearl_harbor\", \"pearl_harbor\", \"pearl_harbor\", \"pearl_harbor\", \n . \"pearl_harbor\", \"pearl_harbor\", \"pearl_harbor\", \"pearl_harbor\", \n . \"pearl_harbor\", \"pearl_harbor\", \"pearl_harbor\", \"pearl_harbor\", \n . \"pearl_harbor\", \"pearl_harbor\", \"pearl_harbor\", \"pearl_harbor\", \n . \"pearl_harbor\", \"pearl_harbor\", \"pearl_harbor\", \"pearl_harbor\", \n . \"pearl_harbor\", \"pearl_harbor\", \"pearl_harbor\", \"pearl_harbor\", \n . \"pearl_harbor\", \"pearl_harbor\", \"pearl_harbor\", \"pearl_harbor\", \n . \"pearl_harbor\", \"pearl_harbor\", \"pearl_harbor\", \"pearl_harbor\", \n . \"pearl_harbor\", \"pearl_harbor\", \"pearl_harbor\", \"pearl_harbor\", \n . \"pearl_harbor\", \"pearl_harbor\", \"pearl_harbor\", \"pearl_harbor\", \n . \"pearl_harbor\", \"pearl_harbor\", \"pearl_harbor\", \"pearl_harbor\", \n . \"pearl_harbor\", \"pearl_harbor\", \"pearl_harbor\", \"pearl_harbor\", \n . \"pearl_harbor\", \"pearl_harbor\", \"pearl_harbor\", \"pearl_harbor\", \n . \"pearl_harbor\", \"pearl_harbor\", \"pearl_harbor\", \"pearl_harbor\", \n . \"pearl_harbor\", \"pearl_harbor\", \"pearl_harbor\", \"pearl_harbor\", \n . \"pearl_harbor\", \"pearl_harbor\", \"pearl_harbor\", \"pearl_harbor\", \n . \"pearl_harbor\", \"pearl_harbor\", \"pearl_harbor\", \"pearl_harbor\", \n . \"pearl_harbor\", \"pearl_harbor\", \"pearl_harbor\", \"pearl_harbor\", \n . \"pearl_harbor\", \"pearl_harbor\", \"pearl_harbor\", \"pearl_harbor\", \n . \"pearl_harbor\", \"pearl_harbor\", \"pearl_harbor\", \"pearl_harbor\", \n . \"pearl_harbor\", \"pearl_harbor\", \"pearl_harbor\", \"pearl_harbor\", \n . \"pearl_harbor\", \"pearl_harbor\", \"pearl_harbor\", \"pearl_harbor\", \n . \"pearl_harbor\", \"pearl_harbor\", \"pearl_harbor\", \"pearl_harbor\", \n . \"pearl_harbor\", \"pearl_harbor\", \"pearl_harbor\", \"pearl_harbor\", \n . \"pearl_harbor\", \"pearl_harbor\", \"pearl_harbor\", \"pearl_harbor\", \n . \"pearl_harbor\", \"pearl_harbor\", \"pearl_harbor\", \"pearl_harbor\", \n . \"pearl_harbor\", \"pearl_harbor\", \"pearl_harbor\", \"pearl_harbor\", \n . \"pearl_harbor\", \"pearl_harbor\", \"pearl_harbor\", \"pearl_harbor\", \n . \"pearl_harbor\", \"pearl_harbor\", \"pearl_harbor\", \"pearl_harbor\", \n . \"pearl_harbor\", \"pearl_harbor\", \"pearl_harbor\", \"pearl_harbor\", \n . \"pearl_harbor\", \"pearl_harbor\", \"pearl_harbor\", \"pearl_harbor\", \n . \"pearl_harbor\", \"pearl_harbor\", \"pearl_harbor\", \"pearl_harbor\", \n . \"pearl_harbor\", \"pearl_harbor\", \"pearl_harbor\", \"pearl_harbor\", \n . \"pearl_harbor\", \"pearl_harbor\", \"pearl_harbor\", \"pearl_harbor\", \n . \"pearl_harbor\", \"pearl_harbor\", \"pearl_harbor\", \"pearl_harbor\", \n . \"pearl_harbor\", \"pearl_harbor\", \"pearl_harbor\", \"pearl_harbor\", \n . \"pearl_harbor\", \"pearl_harbor\", \"pearl_harbor\", \"pearl_harbor\", \n . \"pearl_harbor\", \"pearl_harbor\", \"pearl_harbor\", \"pearl_harbor\", \n . \"pearl_harbor\", \"pearl_harbor\", \"pearl_harbor\", \"pearl_harbor\", \n . \"pearl_harbor\", \"pearl_harbor\", \"pearl_harbor\", \"pearl_harbor\", \n . \"pearl_harbor\", \"pearl_harbor\", \"pearl_harbor\", \"pearl_harbor\", \n . \"pearl_harbor\", \"pearl_harbor\", \"pearl_harbor\", \"pearl_harbor\", \n . \"pearl_harbor\", \"pearl_harbor\", \"pearl_harbor\", \"pearl_harbor\", \n . \"pearl_harbor\", \"pearl_harbor\", \"pearl_harbor\", \"pearl_harbor\", \n . \"pearl_harbor\", \"pearl_harbor\", \"pearl_harbor\", \"pearl_harbor\", \n . \"pearl_harbor\", \"pearl_harbor\", \"pearl_harbor\", \"pearl_harbor\", \n . \"pearl_harbor\", \"pearl_harbor\", \"pearl_harbor\", \"pearl_harbor\", \n . \"pearl_harbor\", \"pearl_harbor\", \"pearl_harbor\", \"pearl_harbor\", \n . \"pearl_harbor\", \"pearl_harbor\", \"pearl_harbor\", \"pearl_harbor\", \n . \"pearl_harbor\", \"pearl_harbor\", \"pearl_harbor\", \"pearl_harbor\", \n . \"pearl_harbor\", \"pearl_harbor\", \"pearl_harbor\", \"pearl_harbor\", \n . \"pearl_harbor\", \"pearl_harbor\", \"pearl_harbor\", \"pearl_harbor\", \n . \"pearl_harbor\", \"pearl_harbor\", \"pearl_harbor\", \"pearl_harbor\", \n . \"pearl_harbor\", \"pearl_harbor\", \"pearl_harbor\", \"pearl_harbor\", \n . \"pearl_harbor\", \"pearl_harbor\", \"pearl_harbor\", \"pearl_harbor\", \n . \"pearl_harbor\", \"pearl_harbor\", \"pearl_harbor\", \"pearl_harbor\", \n . \"pearl_harbor\", \"pearl_harbor\", \"pearl_harbor\", \"pearl_harbor\", \n . \"pearl_harbor\", \"pearl_harbor\", \"pearl_harbor\", \"pearl_harbor\", \n . \"pearl_harbor\", \"pearl_harbor\", \"pearl_harbor\", \"pearl_harbor\", \n . \"pearl_harbor\", \"pearl_harbor\", \"pearl_harbor\", \"pearl_harbor\", \n . \"pearl_harbor\", \"pearl_harbor\", \"pearl_harbor\", \"pearl_harbor\", \n . \"pearl_harbor\", \"pearl_harbor\", \"pearl_harbor\", \"pearl_harbor\", \n . \"pearl_harbor\", \"pearl_harbor\", \"pearl_harbor\", \"pearl_harbor\", \n . \"pearl_harbor\", \"pearl_harbor\", \"pearl_harbor\", \"pearl_harbor\", \n . \"pearl_harbor\", \"pearl_harbor\", \"pearl_harbor\", \"pearl_harbor\", \n . \"pearl_harbor\", \"pearl_harbor\", \"pearl_harbor\", \"pearl_harbor\", \n . \"pearl_harbor\", \"pearl_harbor\", \"pearl_harbor\", \"pearl_harbor\", \n . \"pearl_harbor\", \"pearl_harbor\", \"pearl_harbor\", \"pearl_harbor\", \n . \"pearl_harbor\", \"pearl_harbor\", \"pearl_harbor\", \"pearl_harbor\", \n . \"pearl_harbor\", \"pearl_harbor\", \"pearl_harbor\", \"pearl_harbor\", \n . \"pearl_harbor\", \"pearl_harbor\", \"pearl_harbor\", \"pearl_harbor\", \n . \"pearl_harbor\", \"pearl_harbor\", \"pearl_harbor\", \"pearl_harbor\", \n . \"pearl_harbor\", \"pearl_harbor\", \"pearl_harbor\", \"pearl_harbor\", \n . \"pearl_harbor\", \"pearl_harbor\", \"pearl_harbor\", \"pearl_harbor\", \n . \"pearl_harbor\", \"pearl_harbor\", \"pearl_harbor\", \"pearl_harbor\", \n . \"pearl_harbor\", \"pearl_harbor\", \"pearl_harbor\", \"pearl_harbor\", \n . \"pearl_harbor\", \"pearl_harbor\", \"pearl_harbor\", \"pearl_harbor\", \n . \"pearl_harbor\", \"pearl_harbor\", \"pearl_harbor\", \"pearl_harbor\", \n . \"pearl_harbor\", \"pearl_harbor\", \"pearl_harbor\", \"pearl_harbor\", \n . \"pearl_harbor\", \"pearl_harbor\", \"pearl_harbor\", \"pearl_harbor\", \n . \"pearl_harbor\", \"pearl_harbor\", \"pearl_harbor\", \"waihee\", \"waihee\", \n . \"waihee\", \"waihee\", \"waihee\", \"waihee\", \"waihee\", \"waihee\", \"waihee\", \n . \"waihee\", \"waihee\", \"waihee\", \"waihee\", \"waihee\", \"waihee\", \"waihee\", \n . \"waihee\", \"waihee\", \"waihee\", \"waihee\", \"waihee\", \"waihee\", \"waihee\", \n . \"waihee\", \"waihee\", \"waihee\", \"waihee\", \"waihee\", \"waihee\", \"waihee\", \n . \"wailua_opaekaa\", \"wailua_opaekaa\", \"wailua_opaekaa\", \"wailua_opaekaa\", \n . \"wailua_opaekaa\", \"wailua_opaekaa\", \"wailua_opaekaa\", \"wailua_opaekaa\", \n . \"wailua_opaekaa\", \"wailua_opaekaa\", \"wailua_opaekaa\", \"wailua_opaekaa\", \n . \"wailua_opaekaa\", \"wailua_opaekaa\", \"wailua_opaekaa\", \"wailua_opaekaa\", \n . \"wailua_opaekaa\", \"wailua_opaekaa\", \"wailua_opaekaa\", \"wailua_opaekaa\", \n . \"wailua_opaekaa\", \"wailua_opaekaa\", \"wailua_opaekaa\", \"wailua_opaekaa\", \n . \"wailua_opaekaa\", \"wailua_opaekaa\", \"wailua_opaekaa\", \"wailua_opaekaa\", \n . \"wailua_opaekaa\", \"wailua_opaekaa\", \"wailua_opaekaa\", \"wailua_opaekaa\", \n . \"wailua_opaekaa\", \"wailua_opaekaa\", \"wailua_opaekaa\", \"wailua_opaekaa\", \n . \"wailua_opaekaa\", \"wailua_opaekaa\", \"wailua_opaekaa\", \"wailua_opaekaa\", \n . \"wailua_opaekaa\", \"wailua_opaekaa\", \"wailua_opaekaa\", \"wailua_opaekaa\", \n . \"wailua_opaekaa\", \"wailua_opaekaa\", \"wailua_opaekaa\", \"wailua_opaekaa\", \n . \"wailua_opaekaa\", \"wailua_opaekaa\", \"wailua_opaekaa\", \"wailua_opaekaa\", \n . \"wailua_opaekaa\", \"wailua_opaekaa\", \"wailua_opaekaa\", \"wailua_opaekaa\", \n . \"wailua_opaekaa\", \"wailua_opaekaa\", \"wailua_opaekaa\", \"wailua_opaekaa\", \n . \"wailua_opaekaa\", \"wailua_opaekaa\", \"wailua_opaekaa\", \"wailua_opaekaa\", \n . \"wailua_opaekaa\", \"wailua_opaekaa\", \"wailua_opaekaa\", \"wailua_opaekaa\", \n . \"wailua_opaekaa\", \"wailua_opaekaa\", \"wailua_opaekaa\", \"wailua_opaekaa\", \n . \"wailua_opaekaa\", \"wailua_opaekaa\", \"wailua_opaekaa\", \"wailua_opaekaa\", \n . \"wailua_opaekaa\", \"wailua_opaekaa\", \"wailua_opaekaa\", \"wailua_opaekaa\", \n . \"wailua_opaekaa\", \"wailua_opaekaa\", \"wailua_opaekaa\", \"wailua_opaekaa\", \n . \"wailua_opaekaa\", \"wailua_opaekaa\", \"wailua_opaekaa\", \"wailua_opaekaa\", \n . \"wailua_opaekaa\", \"wailua_opaekaa\"))",
            "3. `[[<-`(`*tmp*`, i, value = c(\"anahola\", \"anahola\", \"anahola\", \n . \"anahola\", \"anahola\", \"anahola\", \"anahola\", \"anahola\", \"anahola\", \n . \"anahola\", \"anahola\", \"anahola\", \"anahola\", \"anahola\", \"anahola\", \n . \"anahola\", \"anahola\", \"anahola\", \"anahola\", \"anahola\", \"anahola\", \n . \"anahola\", \"anahola\", \"anahola\", \"anahola\", \"anahola\", \"anahola\", \n . \"anahola\", \"anahola\", \"anahola\", \"anahola\", \"anahola\", \"anahola\", \n . \"anahola\", \"anahola\", \"anahola\", \"anahola\", \"anahola\", \"anahola\", \n . \"anahola\", \"anahola\", \"anahola\", \"anahola\", \"anahola\", \"anahola\", \n . \"anahola\", \"anahola\", \"anahola\", \"haleiwa\", \"haleiwa\", \"haleiwa\", \n . \"haleiwa\", \"haleiwa\", \"haleiwa\", \"haleiwa\", \"haleiwa\", \"haleiwa\", \n . \"haleiwa\", \"haleiwa\", \"haleiwa\", \"haleiwa\", \"haleiwa\", \"haleiwa\", \n . \"haleiwa\", \"haleiwa\", \"haleiwa\", \"haleiwa\", \"haleiwa\", \"haleiwa\", \n . \"haleiwa\", \"haleiwa\", \"haleiwa\", \"haleiwa\", \"haleiwa\", \"haleiwa\", \n . \"haleiwa\", \"haleiwa\", \"haleiwa\", \"haleiwa\", \"haleiwa\", \"haleiwa\", \n . \"haleiwa\", \"haleiwa\", \"haleiwa\", \"haleiwa\", \"haleiwa\", \"haleiwa\", \n . \"haleiwa\", \"haleiwa\", \"haleiwa\", \"haleiwa\", \"haleiwa\", \"haleiwa\", \n . \"haleiwa\", \"haleiwa\", \"haleiwa\", \"haleiwa\", \"haleiwa\", \"haleiwa\", \n . \"haleiwa\", \"haleiwa\", \"haleiwa\", \"haleiwa\", \"haleiwa\", \"haleiwa\", \n . \"haleiwa\", \"haleiwa\", \"haleiwa\", \"haleiwa\", \"haleiwa\", \"haleiwa\", \n . \"haleiwa\", \"haleiwa\", \"haleiwa\", \"haleiwa\", \"haleiwa\", \"haleiwa\", \n . \"haleiwa\", \"haleiwa\", \"haleiwa\", \"haleiwa\", \"haleiwa\", \"haleiwa\", \n . \"haleiwa\", \"haleiwa\", \"haleiwa\", \"haleiwa\", \"haleiwa\", \"haleiwa\", \n . \"haleiwa\", \"haleiwa\", \"haleiwa\", \"haleiwa\", \"haleiwa\", \"haleiwa\", \n . \"haleiwa\", \"haleiwa\", \"haleiwa\", \"haleiwa\", \"haleiwa\", \"haleiwa\", \n . \"haleiwa\", \"haleiwa\", \"haleiwa\", \"haleiwa\", \"haleiwa\", \"haleiwa\", \n . \"haleiwa\", \"haleiwa\", \"haleiwa\", \"haleiwa\", \"haleiwa\", \"haleiwa\", \n . \"haleiwa\", \"haleiwa\", \"haleiwa\", \"haleiwa\", \"haleiwa\", \"haleiwa\", \n . \"haleiwa\", \"haleiwa\", \"haleiwa\", \"haleiwa\", \"haleiwa\", \"haleiwa\", \n . \"haleiwa\", \"haleiwa\", \"haleiwa\", \"haleiwa\", \"haleiwa\", \"haleiwa\", \n . \"haleiwa\", \"haleiwa\", \"haleiwa\", \"haleiwa\", \"haleiwa\", \"haleiwa\", \n . \"haleiwa\", \"haleiwa\", \"haleiwa\", \"haleiwa\", \"haleiwa\", \"haleiwa\", \n . \"haleiwa\", \"haleiwa\", \"haleiwa\", \"haleiwa\", \"haleiwa\", \"haleiwa\", \n . \"haleiwa\", \"haleiwa\", \"haleiwa\", \"haleiwa\", \"haleiwa\", \"haleiwa\", \n . \"haleiwa\", \"haleiwa\", \"haleiwa\", \"haleiwa\", \"haleiwa\", \"haleiwa\", \n . \"haleiwa\", \"haleiwa\", \"haleiwa\", \"haleiwa\", \"haleiwa\", \"haleiwa\", \n . \"haleiwa\", \"haleiwa\", \"haleiwa\", \"haleiwa\", \"haleiwa\", \"haleiwa\", \n . \"haleiwa\", \"haleiwa\", \"haleiwa\", \"haleiwa\", \"haleiwa\", \"haleiwa\", \n . \"haleiwa\", \"haleiwa\", \"haleiwa\", \"haleiwa\", \"haleiwa\", \"haleiwa\", \n . \"haleiwa\", \"haleiwa\", \"haleiwa\", \"haleiwa\", \"haleiwa\", \"haleiwa\", \n . \"haleiwa\", \"haleiwa\", \"haleiwa\", \"haleiwa\", \"haleiwa\", \"haleiwa\", \n . \"haleiwa\", \"haleiwa\", \"haleiwa\", \"haleiwa\", \"haleiwa\", \"haleiwa\", \n . \"haleiwa\", \"haleiwa\", \"haleiwa\", \"haleiwa\", \"haleiwa\", \"haleiwa\", \n . \"haleiwa\", \"haleiwa\", \"haleiwa\", \"haleiwa\", \"haleiwa\", \"haleiwa\", \n . \"haleiwa\", \"haleiwa\", \"haleiwa\", \"haleiwa\", \"haleiwa\", \"haleiwa\", \n . \"haleiwa\", \"haleiwa\", \"haleiwa\", \"haleiwa\", \"haleiwa\", \"haleiwa\", \n . \"haleiwa\", \"haleiwa\", \"haleiwa\", \"haleiwa\", \"haleiwa\", \"haleiwa\", \n . \"haleiwa\", \"haleiwa\", \"haleiwa\", \"haleiwa\", \"haleiwa\", \"haleiwa\", \n . \"haleiwa\", \"haleiwa\", \"haleiwa\", \"haleiwa\", \"haleiwa\", \"haleiwa\", \n . \"haleiwa\", \"haleiwa\", \"haleiwa\", \"haleiwa\", \"haleiwa\", \"haleiwa\", \n . \"haleiwa\", \"haleiwa\", \"haleiwa\", \"haleiwa\", \"haleiwa\", \"haleiwa\", \n . \"haleiwa\", \"haleiwa\", \"haleiwa\", \"haleiwa\", \"haleiwa\", \"haleiwa\", \n . \"haleiwa\", \"haleiwa\", \"haleiwa\", \"haleiwa\", \"haleiwa\", \"haleiwa\", \n . \"haleiwa\", \"haleiwa\", \"haleiwa\", \"haleiwa\", \"haleiwa\", \"haleiwa\", \n . \"haleiwa\", \"haleiwa\", \"haleiwa\", \"haleiwa\", \"haleiwa\", \"haleiwa\", \n . \"haleiwa\", \"haleiwa\", \"haleiwa\", \"haleiwa\", \"haleiwa\", \"haleiwa\", \n . \"haleiwa\", \"haleiwa\", \"haleiwa\", \"haleiwa\", \"haleiwa\", \"haleiwa\", \n . \"haleiwa\", \"haleiwa\", \"haleiwa\", \"haleiwa\", \"haleiwa\", \"haleiwa\", \n . \"haleiwa\", \"haleiwa\", \"haleiwa\", \"haleiwa\", \"haleiwa\", \"haleiwa\", \n . \"haleiwa\", \"haleiwa\", \"haleiwa\", \"hanalei\", \"hanalei\", \"hanalei\", \n . \"hanalei\", \"hanalei\", \"hanalei\", \"hanalei\", \"hanalei\", \"hanalei\", \n . \"hanalei\", \"hanalei\", \"hanalei\", \"hanalei\", \"hanalei\", \"hanalei\", \n . \"hanalei\", \"hanalei\", \"hanalei\", \"hanalei\", \"hanalei\", \"hanalei\", \n . \"hanalei\", \"hanalei\", \"hanalei\", \"hanalei\", \"hanalei\", \"hanalei\", \n . \"hanalei\", \"hanalei\", \"hanalei\", \"hanalei\", \"hanalei\", \"hanalei\", \n . \"hanalei\", \"hanalei\", \"hanalei\", \"hanalei\", \"hanalei\", \"hanalei\", \n . \"hanalei\", \"hanalei\", \"hanalei\", \"hanalei\", \"hanalei\", \"hanalei\", \n . \"hanalei\", \"hanalei\", \"hanalei\", \"hanalei\", \"hanalei\", \"hanalei\", \n . \"hanalei\", \"hanalei\", \"hanalei\", \"hanalei\", \"hanalei\", \"hanalei\", \n . \"hanalei\", \"hanalei\", \"hanalei\", \"hanalei\", \"hanalei\", \"hanalei\", \n . \"hanalei\", \"hanalei\", \"hanalei\", \"hanalei\", \"hanalei\", \"hanalei\", \n . \"hanalei\", \"hanalei\", \"hanalei\", \"hanalei\", \"hanalei\", \"hanalei\", \n . \"hanalei\", \"hanalei\", \"hanalei\", \"hanalei\", \"hanalei\", \"hanalei\", \n . \"hanalei\", \"hanalei\", \"hanalei\", \"hanalei\", \"hanalei\", \"hanalei\", \n . \"hanalei\", \"hanalei\", \"hanalei\", \"hanalei\", \"hanalei\", \"hanalei\", \n . \"hanalei\", \"hanalei\", \"hanalei\", \"hanalei\", \"hanalei\", \"hanalei\", \n . \"hanalei\", \"hanalei\", \"hanalei\", \"hanalei\", \"hanalei\", \"hanalei\", \n . \"hanalei\", \"hanalei\", \"hanalei\", \"hanalei\", \"hanalei\", \"hanalei\", \n . \"hanalei\", \"hanalei\", \"hanalei\", \"hanalei\", \"hanalei\", \"hanalei\", \n . \"hanalei\", \"hanalei\", \"hanalei\", \"hanalei\", \"hanalei\", \"hanalei\", \n . \"hanalei\", \"hanalei\", \"hanalei\", \"hanalei\", \"hanalei\", \"hanalei\", \n . \"hanalei\", \"hanalei\", \"hanalei\", \"hanalei\", \"hanalei\", \"hanalei\", \n . \"hanalei\", \"hanalei\", \"hanalei\", \"hanalei\", \"hanalei\", \"hanalei\", \n . \"hanalei\", \"hanalei\", \"hanalei\", \"hanalei\", \"hanalei\", \"hanalei\", \n . \"hanalei\", \"hanalei\", \"hanalei\", \"hanalei\", \"hanalei\", \"hanalei\", \n . \"hanalei\", \"hanalei\", \"hanalei\", \"hanalei\", \"hanalei\", \"hanalei\", \n . \"hanalei\", \"hanalei\", \"hanalei\", \"hanalei\", \"hanalei\", \"hanalei\", \n . \"hanalei\", \"hanalei\", \"hanalei\", \"hanalei\", \"hanalei\", \"hanalei\", \n . \"hanalei\", \"hanalei\", \"hanalei\", \"hanalei\", \"hanalei\", \"hanalei\", \n . \"hanalei\", \"hanalei\", \"hanalei\", \"hanalei\", \"hanalei\", \"hanalei\", \n . \"hanalei\", \"hanalei\", \"hanalei\", \"hanalei\", \"hanalei\", \"hanalei\", \n . \"hanalei\", \"hanalei\", \"hanalei\", \"hanalei\", \"hanalei\", \"hanalei\", \n . \"hanalei\", \"hanalei\", \"hanalei\", \"hanalei\", \"hanalei\", \"hanalei\", \n . \"hanalei\", \"hanalei\", \"hanalei\", \"hanalei\", \"hanalei\", \"hanalei\", \n . \"hanalei\", \"hanalei\", \"hanalei\", \"hanalei\", \"hanalei\", \"hanalei\", \n . \"hanalei\", \"hanalei\", \"hanalei\", \"hanalei\", \"hanalei\", \"hanalei\", \n . \"hanalei\", \"hanalei\", \"hanalei\", \"hanalei\", \"hanalei\", \"hanalei\", \n . \"hanalei\", \"hanalei\", \"hanalei\", \"hanalei\", \"hanalei\", \"hanalei\", \n . \"hanalei\", \"hanalei\", \"hanalei\", \"hanalei\", \"hanalei\", \"hanalei\", \n . \"hanalei\", \"hanalei\", \"hanalei\", \"hanalei\", \"hanalei\", \"hanalei\", \n . \"hanalei\", \"hanalei\", \"hanalei\", \"hanalei\", \"hanalei\", \"hanalei\", \n . \"hanalei\", \"hanalei\", \"hanalei\", \"hanalei\", \"hanalei\", \"hanalei\", \n . \"hanalei\", \"hanalei\", \"hanalei\", \"hanalei\", \"hanalei\", \"hanalei\", \n . \"hanalei\", \"hanalei\", \"hanalei\", \"hanalei\", \"hanalei\", \"hanalei\", \n . \"hanalei\", \"hanalei\", \"hanalei\", \"hanalei\", \"hanalei\", \"hanalei\", \n . \"hanalei\", \"hanalei\", \"hanalei\", \"hanalei\", \"hanalei\", \"hanalei\", \n . \"hanalei\", \"hanalei\", \"hanalei\", \"hanalei\", \"hanalei\", \"hanalei\", \n . \"huleia\", \"huleia\", \"huleia\", \"huleia\", \"huleia\", \"huleia\", \"huleia\", \n . \"huleia\", \"huleia\", \"huleia\", \"huleia\", \"huleia\", \"huleia\", \"huleia\", \n . \"huleia\", \"huleia\", \"huleia\", \"huleia\", \"huleia\", \"huleia\", \"huleia\", \n . \"huleia\", \"huleia\", \"huleia\", \"huleia\", \"huleia\", \"huleia\", \"huleia\", \n . \"huleia\", \"huleia\", \"huleia\", \"huleia\", \"huleia\", \"huleia\", \"huleia\", \n . \"huleia\", \"huleia\", \"huleia\", \"huleia\", \"huleia\", \"huleia\", \"huleia\", \n . \"huleia\", \"huleia\", \"huleia\", \"huleia\", \"huleia\", \"huleia\", \"huleia\", \n . \"huleia\", \"huleia\", \"huleia\", \"huleia\", \"huleia\", \"huleia\", \"huleia\", \n . \"huleia\", \"huleia\", \"huleia\", \"huleia\", \"huleia\", \"huleia\", \"huleia\", \n . \"huleia\", \"huleia\", \"huleia\", \"huleia\", \"huleia\", \"huleia\", \"huleia\", \n . \"huleia\", \"huleia\", \"huleia\", \"huleia\", \"huleia\", \"huleia\", \"huleia\", \n . \"kahuku\", \"kahuku\", \"kahuku\", \"kahuku\", \"kahuku\", \"kahuku\", \"kahuku\", \n . \"kahuku\", \"kahuku\", \"kahuku\", \"kahuku\", \"kahuku\", \"kahuku\", \"kahuku\", \n . \"kahuku\", \"kahuku\", \"kahuku\", \"kahuku\", \"kahuku\", \"kahuku\", \"kahuku\", \n . \"kahuku\", \"kahuku\", \"kahuku\", \"kahuku\", \"kahuku\", \"kahuku\", \"kahuku\", \n . \"kahuku\", \"kahuku\", \"kahuku\", \"kahuku\", \"kahuku\", \"kahuku\", \"kahuku\", \n . \"kahuku\", \"kahuku\", \"kahuku\", \"kahuku\", \"kahuku\", \"kahuku\", \"kahuku\", \n . \"kahuku\", \"kahuku\", \"kahuku\", \"kahuku\", \"kahuku\", \"kahuku\", \"kahuku\", \n . \"kahuku\", \"kahuku\", \"kahuku\", \"kahuku\", \"kahuku\", \"kahuku\", \"kahuku\", \n . \"kahuku\", \"kahuku\", \"kahuku\", \"kahuku\", \"kahuku\", \"kahuku\", \"kahuku\", \n . \"kahuku\", \"kahuku\", \"kahuku\", \"kahuku\", \"kahuku\", \"kahuku\", \"kahuku\", \n . \"kahuku\", \"kahuku\", \"kahuku\", \"kahuku\", \"kahuku\", \"kahuku\", \"kahuku\", \n . \"kahuku\", \"kahuku\", \"kahuku\", \"kahuku\", \"kahuku\", \"kahuku\", \"kahuku\", \n . \"kahuku\", \"kahuku\", \"kahuku\", \"kahuku\", \"kahuku\", \"kahuku\", \"kahuku\", \n . \"kahuku\", \"kahuku\", \"kahuku\", \"kahuku\", \"kahuku\", \"kahuku\", \"kahuku\", \n . \"kahuku\", \"kahuku\", \"kahuku\", \"kahuku\", \"kahuku\", \"kahuku\", \"kahuku\", \n . \"kahuku\", \"kahuku\", \"kahuku\", \"kahuku\", \"kahuku\", \"kahuku\", \"kahuku\", \n . \"kahuku\", \"kahuku\", \"kahuku\", \"kahuku\", \"kahuku\", \"kahuku\", \"kahuku\", \n . \"kahuku\", \"kahuku\", \"kahuku\", \"kahuku\", \"kahuku\", \"kahuku\", \"kahuku\", \n . \"kahuku\", \"kahuku\", \"kahuku\", \"kahuku\", \"kahuku\", \"kahuku\", \"kahuku\", \n . \"kahuku\", \"kahuku\", \"kahuku\", \"kahuku\", \"kahuku\", \"kahuku\", \"kahuku\", \n . \"kahuku\", \"kahuku\", \"kahuku\", \"kahuku\", \"kahuku\", \"kahuku\", \"kahuku\", \n . \"kahuku\", \"kahuku\", \"kahuku\", \"kahuku\", \"kahuku\", \"kahuku\", \"kahuku\", \n . \"kahuku\", \"kahuku\", \"kahuku\", \"kahuku\", \"kahuku\", \"kahuku\", \"kahuku\", \n . \"kahuku\", \"kahuku\", \"kahuku\", \"kahuku\", \"kahuku\", \"kahuku\", \"kahuku\", \n . \"kahuku\", \"kahuku\", \"kahuku\", \"kahuku\", \"kahuku\", \"kahuku\", \"kahuku\", \n . \"kahuku\", \"kahuku\", \"kahuku\", \"kahuku\", \"kahuku\", \"kahuku\", \"kahuku\", \n . \"kahuku\", \"kahuku\", \"kahuku\", \"kahuku\", \"kahuku\", \"kahuku\", \"kahuku\", \n . \"kahuku\", \"kahuku\", \"kahuku\", \"kahuku\", \"kahuku\", \"kahuku\", \"kahuku\", \n . \"kahuku\", \"kahuku\", \"kahuku\", \"kahuku\", \"kahuku\", \"kahuku\", \"kahuku\", \n . \"kahuku\", \"kahuku\", \"kahuku\", \"kahuku\", \"kahuku\", \"kahuku\", \"kahuku\", \n . \"kahuku\", \"kahuku\", \"kahuku\", \"kahuku\", \"kahuku\", \"kahuku\", \"kakahaia\", \n . \"kakahaia\", \"kakahaia\", \"kakahaia\", \"kakahaia\", \"kakahaia\", \"kakahaia\", \n . \"kakahaia\", \"kakahaia\", \"kakahaia\", \"kakahaia\", \"kakahaia\", \"kakahaia\", \n . \"kakahaia\", \"kakahaia\", \"kakahaia\", \"kakahaia\", \"kakahaia\", \"kakahaia\", \n . \"kakahaia\", \"kakahaia\", \"kakahaia\", \"kakahaia\", \"kakahaia\", \"kakahaia\", \n . \"kakahaia\", \"kakahaia\", \"kakahaia\", \"kakahaia\", \"kakahaia\", \"kakahaia\", \n . \"kakahaia\", \"kakahaia\", \"kakahaia\", \"kakahaia\", \"kakahaia\", \"kakahaia\", \n . \"kakahaia\", \"kakahaia\", \"kakahaia\", \"kakahaia\", \"kakahaia\", \"kakahaia\", \n . \"kakahaia\", \"kakahaia\", \"kakahaia\", \"kakahaia\", \"kakahaia\", \"kakahaia\", \n . \"kakahaia\", \"kakahaia\", \"kakahaia\", \"kakahaia\", \"kakahaia\", \"kakahaia\", \n . \"kakahaia\", \"kakahaia\", \"kakahaia\", \"kakahaia\", \"kakahaia\", \"kakahaia\", \n . \"kakahaia\", \"kakahaia\", \"kakahaia\", \"kakahaia\", \"kakahaia\", \"kakahaia\", \n . \"kakahaia\", \"kakahaia\", \"kakahaia\", \"kakahaia\", \"kakahaia\", \"kakahaia\", \n . \"kakahaia\", \"kakahaia\", \"kakahaia\", \"kakahaia\", \"kakahaia\", \"kakahaia\", \n . \"kakahaia\", \"kakahaia\", \"kakahaia\", \"kakahaia\", \"kakahaia\", \"kakahaia\", \n . \"kakahaia\", \"kakahaia\", \"kakahaia\", \"kakahaia\", \"kakahaia\", \"kakahaia\", \n . \"kakahaia\", \"kakahaia\", \"kakahaia\", \"kakahaia\", \"kakahaia\", \"kakahaia\", \n . \"kakahaia\", \"kakahaia\", \"kakahaia\", \"kakahaia\", \"kakahaia\", \"kakahaia\", \n . \"kakahaia\", \"kakahaia\", \"kakahaia\", \"kakahaia\", \"kakahaia\", \"kakahaia\", \n . \"kakahaia\", \"kakahaia\", \"kakahaia\", \"kakahaia\", \"kakahaia\", \"kakahaia\", \n . \"kakahaia\", \"kakahaia\", \"kakahaia\", \"kakahaia\", \"kakahaia\", \"kakahaia\", \n . \"kakahaia\", \"kakahaia\", \"kakahaia\", \"kakahaia\", \"kakahaia\", \"kakahaia\", \n . \"kakahaia\", \"kakahaia\", \"kakahaia\", \"kakahaia\", \"kakahaia\", \"kakahaia\", \n . \"kakahaia\", \"kakahaia\", \"kakahaia\", \"kakahaia\", \"kakahaia\", \"kakahaia\", \n . \"kakahaia\", \"kakahaia\", \"kakahaia\", \"kakahaia\", \"kakahaia\", \"kakahaia\", \n . \"kakahaia\", \"kakahaia\", \"kakahaia\", \"kakahaia\", \"kakahaia\", \"kakahaia\", \n . \"kakahaia\", \"kakahaia\", \"kakahaia\", \"kakahaia\", \"kakahaia\", \"kakahaia\", \n . \"kakahaia\", \"kakahaia\", \"kakahaia\", \"kakahaia\", \"kakahaia\", \"kakahaia\", \n . \"kakahaia\", \"kakahaia\", \"kakahaia\", \"kakahaia\", \"kakahaia\", \"kakahaia\", \n . \"kakahaia\", \"kakahaia\", \"kakahaia\", \"kakahaia\", \"kakahaia\", \"kakahaia\", \n . \"kakahaia\", \"kakahaia\", \"kakahaia\", \"kakahaia\", \"kakahaia\", \"kakahaia\", \n . \"kakahaia\", \"kakahaia\", \"kakahaia\", \"kakahaia\", \"kakahaia\", \"kakahaia\", \n . \"kakahaia\", \"kakahaia\", \"kakahaia\", \"kakahaia\", \"kakahaia\", \"kakahaia\", \n . \"kakahaia\", \"kakahaia\", \"kakahaia\", \"kakahaia\", \"kakahaia\", \"kakahaia\", \n . \"kakahaia\", \"kakahaia\", \"kakahaia\", \"kakahaia\", \"kakahaia\", \"kakahaia\", \n . \"kakahaia\", \"kakahaia\", \"kakahaia\", \"kakahaia\", \"kakahaia\", \"kakahaia\", \n . \"kakahaia\", \"kakahaia\", \"kakahaia\", \"kakahaia\", \"kakahaia\", \"kakahaia\", \n . \"kakahaia\", \"kakahaia\", \"kakahaia\", \"kakahaia\", \"kakahaia\", \"kakahaia\", \n . \"kakahaia\", \"kakahaia\", \"kakahaia\", \"kakahaia\", \"kakahaia\", \"kakahaia\", \n . \"kakahaia\", \"kakahaia\", \"kakahaia\", \"kakahaia\", \"kakahaia\", \"kakahaia\", \n . \"kakahaia\", \"kakahaia\", \"kakahaia\", \"kakahaia\", \"kakahaia\", \"kakahaia\", \n . \"kakahaia\", \"kakahaia\", \"kakahaia\", \"kakahaia\", \"kakahaia\", \"kakahaia\", \n . \"kakahaia\", \"kakahaia\", \"kakahaia\", \"kakahaia\", \"kakahaia\", \"kakahaia\", \n . \"kakahaia\", \"kakahaia\", \"kakahaia\", \"kakahaia\", \"kakahaia\", \"kakahaia\", \n . \"kakahaia\", \"kakahaia\", \"kakahaia\", \"kakahaia\", \"kakahaia\", \"kakahaia\", \n . \"kakahaia\", \"kakahaia\", \"kakahaia\", \"kakahaia\", \"kakahaia\", \"kakahaia\", \n . \"kakahaia\", \"kakahaia\", \"kakahaia\", \"kakahaia\", \"kakahaia\", \"kakahaia\", \n . \"kakahaia\", \"kakahaia\", \"kakahaia\", \"kakahaia\", \"kakahaia\", \"kakahaia\", \n . \"kakahaia\", \"kakahaia\", \"kakahaia\", \"kakahaia\", \"kakahaia\", \"kakahaia\", \n . \"kakahaia\", \"kakahaia\", \"kakahaia\", \"kakahaia\", \"kakahaia\", \"kakahaia\", \n . \"kakahaia\", \"kakahaia\", \"kakahaia\", \"kakahaia\", \"kakahaia\", \"kakahaia\", \n . \"kakahaia\", \"kakahaia\", \"kakahaia\", \"kakahaia\", \"kakahaia\", \"kakahaia\", \n . \"kakahaia\", \"kakahaia\", \"kakahaia\", \"kakahaia\", \"kakahaia\", \"kakahaia\", \n . \"kakahaia\", \"kakahaia\", \"kakahaia\", \"kakahaia\", \"kakahaia\", \"kakahaia\", \n . \"kakahaia\", \"kakahaia\", \"kakahaia\", \"kakahaia\", \"kakahaia\", \"kakahaia\", \n . \"kakahaia\", \"kakahaia\", \"kakahaia\", \"kakahaia\", \"kakahaia\", \"kakahaia\", \n . \"kakahaia\", \"kakahaia\", \"kakahaia\", \"kakahaia\", \"kakahaia\", \"kakahaia\", \n . \"kakahaia\", \"kakahaia\", \"kakahaia\", \"kakahaia\", \"kakahaia\", \"kakahaia\", \n . \"kakahaia\", \"kakahaia\", \"kakahaia\", \"kakahaia\", \"kakahaia\", \"kakahaia\", \n . \"kakahaia\", \"kakahaia\", \"kakahaia\", \"kakahaia\", \"kakahaia\", \"kakahaia\", \n . \"kakahaia\", \"kakahaia\", \"kakahaia\", \"kakahaia\", \"kakahaia\", \"kakahaia\", \n . \"kakahaia\", \"kakahaia\", \"kakahaia\", \"kakahaia\", \"kakahaia\", \"kakahaia\", \n . \"kakahaia\", \"kakahaia\", \"kakahaia\", \"kakahaia\", \"kakahaia\", \"kakahaia\", \n . \"kakahaia\", \"kakahaia\", \"kakahaia\", \"kakahaia\", \"kakahaia\", \"kakahaia\", \n . \"kakahaia\", \"kakahaia\", \"kakahaia\", \"kakahaia\", \"kakahaia\", \"kakahaia\", \n . \"kaluaapuhi\", \"kaluaapuhi\", \"kaluaapuhi\", \"kaluaapuhi\", \"kaluaapuhi\", \n . \"kaluaapuhi\", \"kaluaapuhi\", \"kaluaapuhi\", \"kaluaapuhi\", \"kaluaapuhi\", \n . \"kaluaapuhi\", \"kaluaapuhi\", \"kaluaapuhi\", \"kaluaapuhi\", \"kaluaapuhi\", \n . \"kaluaapuhi\", \"kaluaapuhi\", \"kaluaapuhi\", \"kaluaapuhi\", \"kaluaapuhi\", \n . \"kaluaapuhi\", \"kaluaapuhi\", \"kaluaapuhi\", \"kaluaapuhi\", \"kaluaapuhi\", \n . \"kaluaapuhi\", \"kaluaapuhi\", \"kaluaapuhi\", \"kaluaapuhi\", \"kaluaapuhi\", \n . \"kaluaapuhi\", \"kaluaapuhi\", \"kaluaapuhi\", \"kaluaapuhi\", \"kaluaapuhi\", \n . \"kaluaapuhi\", \"kaluaapuhi\", \"kaluaapuhi\", \"kaluaapuhi\", \"kaluaapuhi\", \n . \"kaluaapuhi\", \"kaluaapuhi\", \"kaluaapuhi\", \"kaluaapuhi\", \"kaluaapuhi\", \n . \"kaluaapuhi\", \"kaluaapuhi\", \"kaluaapuhi\", \"kaluaapuhi\", \"kaluaapuhi\", \n . \"kaluaapuhi\", \"kaluaapuhi\", \"kaluaapuhi\", \"kaluaapuhi\", \"kaluaapuhi\", \n . \"kaluaapuhi\", \"kaluaapuhi\", \"kaluaapuhi\", \"kaluaapuhi\", \"kaluaapuhi\", \n . \"kaluaapuhi\", \"kaluaapuhi\", \"kaluaapuhi\", \"kaluaapuhi\", \"kaluaapuhi\", \n . \"kaluaapuhi\", \"kaluaapuhi\", \"kaluaapuhi\", \"kaluaapuhi\", \"kaluaapuhi\", \n . \"kaluaapuhi\", \"kaluaapuhi\", \"kaluaapuhi\", \"kaluaapuhi\", \"kaluaapuhi\", \n . \"kaluaapuhi\", \"kaluaapuhi\", \"kaluaapuhi\", \"kaluaapuhi\", \"kaluaapuhi\", \n . \"kaluaapuhi\", \"kaluaapuhi\", \"kaluaapuhi\", \"kaluaapuhi\", \"kaluaapuhi\", \n . \"kaluaapuhi\", \"kaluaapuhi\", \"kaluaapuhi\", \"kaluaapuhi\", \"kaluaapuhi\", \n . \"kaluaapuhi\", \"kaluaapuhi\", \"kaluaapuhi\", \"kaluaapuhi\", \"kaluaapuhi\", \n . \"kaluaapuhi\", \"kaluaapuhi\", \"kaluaapuhi\", \"kaluaapuhi\", \"kaluaapuhi\", \n . \"kaluaapuhi\", \"kaluaapuhi\", \"kaluaapuhi\", \"kaluaapuhi\", \"kaluaapuhi\", \n . \"kaluaapuhi\", \"kaluaapuhi\", \"kaluaapuhi\", \"kaluaapuhi\", \"kaluaapuhi\", \n . \"kaluaapuhi\", \"kaluaapuhi\", \"kaluaapuhi\", \"kaluaapuhi\", \"kaluaapuhi\", \n . \"kaluaapuhi\", \"kaluaapuhi\", \"kaluaapuhi\", \"kaluaapuhi\", \"kaluaapuhi\", \n . \"kaluaapuhi\", \"kaluaapuhi\", \"kaluaapuhi\", \"kaluaapuhi\", \"kaluaapuhi\", \n . \"kaluaapuhi\", \"kaluaapuhi\", \"kaluaapuhi\", \"kaluaapuhi\", \"kaluaapuhi\", \n . \"kaluaapuhi\", \"kaluaapuhi\", \"kaluaapuhi\", \"kaluaapuhi\", \"kaluaapuhi\", \n . \"kaluaapuhi\", \"kaluaapuhi\", \"kaluaapuhi\", \"kaluaapuhi\", \"kaluaapuhi\", \n . \"kaluaapuhi\", \"kaluaapuhi\", \"kaluaapuhi\", \"kaluaapuhi\", \"kaluaapuhi\", \n . \"kaluaapuhi\", \"kaluaapuhi\", \"kaluaapuhi\", \"kaluaapuhi\", \"kaluaapuhi\", \n . \"kaluaapuhi\", \"kaluaapuhi\", \"kaluaapuhi\", \"kaluaapuhi\", \"kaluaapuhi\", \n . \"kaluaapuhi\", \"kaluaapuhi\", \"kaluaapuhi\", \"kaluaapuhi\", \"kaluaapuhi\", \n . \"kaluaapuhi\", \"kaluaapuhi\", \"kaluaapuhi\", \"kaluaapuhi\", \"kaluaapuhi\", \n . \"kaluaapuhi\", \"kaluaapuhi\", \"kaluaapuhi\", \"kaluaapuhi\", \"kaluaapuhi\", \n . \"kaluaapuhi\", \"kaluaapuhi\", \"kaluaapuhi\", \"kaluaapuhi\", \"kaluaapuhi\", \n . \"kaluaapuhi\", \"kaluaapuhi\", \"kaluaapuhi\", \"kaluaapuhi\", \"kaluaapuhi\", \n . \"kaluaapuhi\", \"kaluaapuhi\", \"kaluaapuhi\", \"kaluaapuhi\", \"kaluaapuhi\", \n . \"kaluaapuhi\", \"kaluaapuhi\", \"kaluaapuhi\", \"kaluaapuhi\", \"kaluaapuhi\", \n . \"kaluaapuhi\", \"kaluaapuhi\", \"kaluaapuhi\", \"kaluaapuhi\", \"kaluaapuhi\", \n . \"kaluaapuhi\", \"kaluaapuhi\", \"kaluaapuhi\", \"kaluaapuhi\", \"kaluaapuhi\", \n . \"kaluaapuhi\", \"kaluaapuhi\", \"kaluaapuhi\", \"kaluaapuhi\", \"kaluaapuhi\", \n . \"kaluaapuhi\", \"kaluaapuhi\", \"kaluaapuhi\", \"kaluaapuhi\", \"kaluaapuhi\", \n . \"kaluaapuhi\", \"kaluaapuhi\", \"kaluaapuhi\", \"kaluaapuhi\", \"kaluaapuhi\", \n . \"kaluaapuhi\", \"kaluaapuhi\", \"kaluaapuhi\", \"kaluaapuhi\", \"kaluaapuhi\", \n . \"kaluaapuhi\", \"kaluaapuhi\", \"kaluaapuhi\", \"kaluaapuhi\", \"kaluaapuhi\", \n . \"kaluaapuhi\", \"kaluaapuhi\", \"kaluaapuhi\", \"kaluaapuhi\", \"kaluaapuhi\", \n . \"kaluaapuhi\", \"kaluaapuhi\", \"kaluaapuhi\", \"kaluaapuhi\", \"kaluaapuhi\", \n . \"kaluaapuhi\", \"kaluaapuhi\", \"kaluaapuhi\", \"kaluaapuhi\", \"kaluaapuhi\", \n . \"kaluaapuhi\", \"kaluaapuhi\", \"kaluaapuhi\", \"kaluaapuhi\", \"kaluaapuhi\", \n . \"kaluaapuhi\", \"kaluaapuhi\", \"kaluaapuhi\", \"kaluaapuhi\", \"kaluaapuhi\", \n . \"kaluaapuhi\", \"kaluaapuhi\", \"kaluaapuhi\", \"kaluaapuhi\", \"kaluaapuhi\", \n . \"kaluaapuhi\", \"kaluaapuhi\", \"kaluaapuhi\", \"kaluaapuhi\", \"kaluaapuhi\", \n . \"kamalo\", \"kamalo\", \"kamalo\", \"kamalo\", \"kamalo\", \"kamalo\", \"kamalo\", \n . \"kamalo\", \"kamalo\", \"kamalo\", \"kamalo\", \"kamalo\", \"kamalo\", \"kamalo\", \n . \"kamalo\", \"kamalo\", \"kamalo\", \"kamalo\", \"kamalo\", \"kamalo\", \"kamalo\", \n . \"kamalo\", \"kamalo\", \"kamalo\", \"kamalo\", \"kamalo\", \"kamalo\", \"kamalo\", \n . \"kamalo\", \"kamalo\", \"kamalo\", \"kamalo\", \"kamalo\", \"kamalo\", \"kamalo\", \n . \"kamalo\", \"kamalo\", \"kamalo\", \"kamalo\", \"kamalo\", \"kamalo\", \"kamalo\", \n . \"kamalo\", \"kamalo\", \"kamalo\", \"kamalo\", \"kamalo\", \"kamalo\", \"kamalo\", \n . \"kamalo\", \"kamalo\", \"kamalo\", \"kamalo\", \"kamalo\", \"kamalo\", \"kamalo\", \n . \"kamalo\", \"kamalo\", \"kamalo\", \"kamalo\", \"kamalo\", \"kamalo\", \"kamalo\", \n . \"kamalo\", \"kamalo\", \"kamalo\", \"kamalo\", \"kamalo\", \"kamalo\", \"kamalo\", \n . \"kamalo\", \"kamalo\", \"kamalo\", \"kamalo\", \"kamalo\", \"kamalo\", \"kamalo\", \n . \"kamalo\", \"kamalo\", \"kamalo\", \"kamalo\", \"kamalo\", \"kamalo\", \"kamalo\", \n . \"kamalo\", \"kamalo\", \"kamalo\", \"kamalo\", \"kamalo\", \"kamalo\", \"kamalo\", \n . \"kamalo\", \"kamalo\", \"kamalo\", \"kamalo\", \"kamalo\", \"kamalo\", \"kamalo\", \n . \"kamalo\", \"kamalo\", \"kamalo\", \"kamalo\", \"kamalo\", \"kamalo\", \"kamalo\", \n . \"kamalo\", \"kamalo\", \"kamalo\", \"kamalo\", \"kamalo\", \"kamalo\", \"kamalo\", \n . \"kamalo\", \"kamalo\", \"kamalo\", \"kamalo\", \"kamalo\", \"kamalo\", \"kamalo\", \n . \"kamalo\", \"kamalo\", \"kamalo\", \"kamalo\", \"kamalo\", \"kamalo\", \"kamalo\", \n . \"kamalo\", \"kamalo\", \"kamalo\", \"kamalo\", \"kamalo\", \"kamalo\", \"kamalo\", \n . \"kamalo\", \"kamalo\", \"kamalo\", \"kamalo\", \"kamalo\", \"kamalo\", \"kamalo\", \n . \"kamalo\", \"kamalo\", \"kamalo\", \"kamalo\", \"kamalo\", \"kamalo\", \"kamalo\", \n . \"kamalo\", \"kamalo\", \"kamalo\", \"kamalo\", \"kamalo\", \"kamalo\", \"kamalo\", \n . \"kamalo\", \"kamalo\", \"kamalo\", \"kamalo\", \"kamalo\", \"kamalo\", \"kamalo\", \n . \"kamalo\", \"kamalo\", \"kamalo\", \"kamalo\", \"kamalo\", \"kamalo\", \"kamalo\", \n . \"kamalo\", \"kamalo\", \"kamalo\", \"kamalo\", \"kamalo\", \"kamalo\", \"kamalo\", \n . \"kamalo\", \"kamalo\", \"kamalo\", \"kamalo\", \"kamalo\", \"kamalo\", \"kamalo\", \n . \"kamalo\", \"kamalo\", \"kamalo\", \"kamalo\", \"kamalo\", \"kamalo\", \"kamalo\", \n . \"kamalo\", \"kamalo\", \"kamalo\", \"kamalo\", \"kamalo\", \"kamalo\", \"kamalo\", \n . \"kamalo\", \"kamalo\", \"kamalo\", \"kamalo\", \"kamalo\", \"kamalo\", \"kamalo\", \n . \"kamalo\", \"kamalo\", \"kamalo\", \"kamalo\", \"kamalo\", \"kamalo\", \"kamalo\", \n . \"kamalo\", \"kamalo\", \"kamalo\", \"kamalo\", \"kamalo\", \"kamalo\", \"kamalo\", \n . \"kamalo\", \"kamalo\", \"kamalo\", \"kamalo\", \"kamalo\", \"kamalo\", \"kamalo\", \n . \"kamalo\", \"kamalo\", \"kamalo\", \"kamalo\", \"kamalo\", \"kamalo\", \"kamalo\", \n . \"kamalo\", \"kamalo\", \"kamalo\", \"kamalo\", \"kamalo\", \"kamalo\", \"kamalo\", \n . \"kamalo\", \"kamalo\", \"kamalo\", \"kamalo\", \"kamalo\", \"kamalo\", \"kamalo\", \n . \"kamalo\", \"kamalo\", \"kamalo\", \"kamalo\", \"kamalo\", \"kamalo\", \"kamalo\", \n . \"kamalo\", \"kamalo\", \"kamalo\", \"kamalo\", \"kamalo\", \"kamalo\", \"kamalo\", \n . \"kamalo\", \"kamalo\", \"kamalo\", \"kamalo\", \"kamalo\", \"kamalo\", \"kamalo\", \n . \"kamalo\", \"kamalo\", \"kamalo\", \"kamalo\", \"kamalo\", \"kamalo\", \"kamalo\", \n . \"kamalo\", \"kamalo\", \"kamalo\", \"kamalo\", \"kamalo\", \"kamalo\", \"kamalo\", \n . \"kamalo\", \"kamalo\", \"kamalo\", \"kamalo\", \"kamalo\", \"kamalo\", \"kamalo\", \n . \"kamalo\", \"kamalo\", \"kamalo\", \"kamalo\", \"kamalo\", \"kamalo\", \"kamalo\", \n . \"kamalo\", \"kamalo\", \"kamalo\", \"kamalo\", \"kamalo\", \"kamalo\", \"kamalo\", \n . \"kamalo\", \"kamalo\", \"kamalo\", \"kamalo\", \"kamalo\", \"kamalo\", \"kamalo\", \n . \"kamalo\", \"kamalo\", \"kamalo\", \"kamalo\", \"kamalo\", \"kamalo\", \"kamalo\", \n . \"kamalo\", \"kamalo\", \"kamalo\", \"kamalo\", \"kamalo\", \"kamalo\", \"kamalo\", \n . \"kamalo\", \"kamalo\", \"kamalo\", \"kamalo\", \"kamalo\", \"kamalo\", \"kamalo\", \n . \"kamalo\", \"kamalo\", \"kamalo\", \"kamalo\", \"kamalo\", \"kamalo\", \"kamalo\", \n . \"kamalo\", \"kamalo\", \"kamalo\", \"kamalo\", \"kamalo\", \"kamalo\", \"kamalo\", \n . \"kamalo\", \"kamalo\", \"kamalo\", \"kamalo\", \"kamalo\", \"kamalo\", \"kamalo\", \n . \"kamalo\", \"kamalo\", \"kamalo\", \"kamalo\", \"kamalo\", \"kamalo\", \"kamalo\", \n . \"kamalo\", \"kamalo\", \"kamalo\", \"kamalo\", \"kamalo\", \"kamalo\", \"kamalo\", \n . \"kamalo\", \"kamalo\", \"kamalo\", \"kamalo\", \"kamalo\", \"kamalo\", \"kamalo\", \n . \"kamalo\", \"kamalo\", \"kamalo\", \"kamalo\", \"kamalo\", \"kamalo\", \"kamalo\", \n . \"kamalo\", \"kamalo\", \"kanaha\", \"kanaha\", \"kanaha\", \"kanaha\", \"kanaha\", \n . \"kanaha\", \"kanaha\", \"kanaha\", \"kanaha\", \"kanaha\", \"kanaha\", \"kanaha\", \n . \"kanaha\", \"kanaha\", \"kanaha\", \"kanaha\", \"kanaha\", \"kanaha\", \"kanaha\", \n . \"kanaha\", \"kanaha\", \"kanaha\", \"kanaha\", \"kanaha\", \"kanaha\", \"kanaha\", \n . \"kanaha\", \"kanaha\", \"kanaha\", \"kanaha\", \"kanaha\", \"kanaha\", \"kanaha\", \n . \"kanaha\", \"kanaha\", \"kanaha\", \"kanaha\", \"kanaha\", \"kanaha\", \"kanaha\", \n . \"kanaha\", \"kanaha\", \"kawainui\", \"kawainui\", \"kawainui\", \"kawainui\", \n . \"kawainui\", \"kawainui\", \"kawainui\", \"kawainui\", \"kawainui\", \"kawainui\", \n . \"kawainui\", \"kawainui\", \"kawainui\", \"kawainui\", \"kawainui\", \"kawainui\", \n . \"kawainui\", \"kawainui\", \"kawainui\", \"kawainui\", \"kawainui\", \"kawainui\", \n . \"kawainui\", \"kawainui\", \"kawainui\", \"kawainui\", \"kawainui\", \"kawainui\", \n . \"kawainui\", \"kawainui\", \"kawainui\", \"kawainui\", \"kawainui\", \"kawainui\", \n . \"kawainui\", \"kawainui\", \"kawainui\", \"kawainui\", \"kawainui\", \"kawainui\", \n . \"kawainui\", \"kawainui\", \"kawainui\", \"kawainui\", \"kawainui\", \"kawainui\", \n . \"kawainui\", \"kawainui\", \"kawainui\", \"kawainui\", \"kawainui\", \"kawainui\", \n . \"kawainui\", \"kawainui\", \"kawainui\", \"kawainui\", \"kawainui\", \"kawainui\", \n . \"kawainui\", \"kawainui\", \"kawainui\", \"kawainui\", \"kawainui\", \"kawainui\", \n . \"kawainui\", \"kawainui\", \"kawainui\", \"kawainui\", \"kawainui\", \"kawainui\", \n . \"kawainui\", \"kawainui\", \"kawainui\", \"kawainui\", \"kawainui\", \"kawainui\", \n . \"kawainui\", \"kawainui\", \"kawainui\", \"kawainui\", \"kawainui\", \"kawainui\", \n . \"kawainui\", \"kawainui\", \"kawainui\", \"kawainui\", \"kawainui\", \"kawainui\", \n . \"kawainui\", \"kawainui\", \"kawainui\", \"kawainui\", \"kawainui\", \"kawainui\", \n . \"kawainui\", \"kawainui\", \"kawainui\", \"kawainui\", \"kawainui\", \"kawainui\", \n . \"kawainui\", \"kawainui\", \"kawainui\", \"kawainui\", \"kawainui\", \"kawainui\", \n . \"kawainui\", \"kawainui\", \"kawainui\", \"kawainui\", \"kawainui\", \"kawainui\", \n . \"kawainui\", \"kawainui\", \"kawainui\", \"kawainui\", \"kawainui\", \"kawainui\", \n . \"kawainui\", \"kawainui\", \"kawainui\", \"kawainui\", \"kawainui\", \"kawainui\", \n . \"kawainui\", \"kawainui\", \"kawainui\", \"kawainui\", \"kawainui\", \"kawainui\", \n . \"kawainui\", \"kawainui\", \"kawainui\", \"kawainui\", \"kawainui\", \"kawainui\", \n . \"kawainui\", \"kawainui\", \"kawainui\", \"kawainui\", \"kawainui\", \"kawainui\", \n . \"kawainui\", \"kawainui\", \"kawainui\", \"kawainui\", \"kawainui\", \"kawainui\", \n . \"kawainui\", \"kawainui\", \"kawainui\", \"kawainui\", \"kawainui\", \"kawainui\", \n . \"kawainui\", \"kawainui\", \"kawainui\", \"kawainui\", \"kawainui\", \"kawainui\", \n . \"kawainui\", \"kawainui\", \"kawainui\", \"kawainui\", \"kawainui\", \"kawainui\", \n . \"kawainui\", \"kawainui\", \"kawainui\", \"kawainui\", \"kawainui\", \"kawainui\", \n . \"kawainui\", \"kawainui\", \"kawainui\", \"kawainui\", \"kawainui\", \"kawainui\", \n . \"kawainui\", \"kawainui\", \"kawainui\", \"kawainui\", \"kawainui\", \"kawainui\", \n . \"kawainui\", \"kawainui\", \"kawainui\", \"kawainui\", \"kawainui\", \"kawainui\", \n . \"kawainui\", \"kawainui\", \"kawainui\", \"kawainui\", \"kawainui\", \"kawainui\", \n . \"kawainui\", \"kawainui\", \"kawainui\", \"kawainui\", \"kawainui\", \"kawainui\", \n . \"kawainui\", \"kawainui\", \"kawainui\", \"kawainui\", \"kawainui\", \"kawainui\", \n . \"kawainui\", \"kawainui\", \"kawainui\", \"kawainui\", \"kawainui\", \"kawainui\", \n . \"kawainui\", \"kawainui\", \"kawainui\", \"kawainui\", \"kawainui\", \"kawainui\", \n . \"kawainui\", \"kawainui\", \"kawainui\", \"kawainui\", \"kawainui\", \"kawainui\", \n . \"kawainui\", \"kawainui\", \"kawainui\", \"kawainui\", \"kawainui\", \"kawainui\", \n . \"kawainui\", \"kawainui\", \"kawainui\", \"kawainui\", \"kawainui\", \"kawainui\", \n . \"kawainui\", \"kawainui\", \"kawainui\", \"kawainui\", \"kawainui\", \"kawainui\", \n . \"kawainui\", \"kawainui\", \"kawainui\", \"kawainui\", \"kawainui\", \"kawainui\", \n . \"kawainui\", \"kawainui\", \"kawainui\", \"kawainui\", \"kawainui\", \"kawainui\", \n . \"kawainui\", \"kawainui\", \"kawainui\", \"kawainui\", \"kawainui\", \"kawainui\", \n . \"kawainui\", \"kawainui\", \"kawainui\", \"kawainui\", \"kawainui\", \"kawainui\", \n . \"kawainui\", \"kawainui\", \"kawainui\", \"kawainui\", \"kawainui\", \"kawainui\", \n . \"kawainui\", \"kawainui\", \"kawainui\", \"kawainui\", \"kawainui\", \"kawainui\", \n . \"kawainui\", \"kawainui\", \"kawainui\", \"kawainui\", \"kawainui\", \"kawainui\", \n . \"kawainui\", \"kawainui\", \"kealia\", \"kealia\", \"kealia\", \"kealia\", \n . \"kealia\", \"kealia\", \"kealia\", \"kealia\", \"kealia\", \"kealia\", \"kealia\", \n . \"kealia\", \"kealia\", \"kealia\", \"kealia\", \"kealia\", \"kealia\", \"kealia\", \n . \"kealia\", \"kealia\", \"kealia\", \"kealia\", \"kealia\", \"kealia\", \"kealia\", \n . \"kealia\", \"kealia\", \"kealia\", \"kealia\", \"kealia\", \"kealia\", \"kealia\", \n . \"kealia\", \"kealia\", \"kealia\", \"kealia\", \"kealia\", \"kealia\", \"kealia\", \n . \"kealia\", \"kealia\", \"kealia\", \"kealia\", \"kealia\", \"kealia\", \"kealia\", \n . \"kealia\", \"kealia\", \"kealia\", \"kealia\", \"kealia\", \"kealia\", \"kealia\", \n . \"kealia\", \"kealia\", \"kealia\", \"kealia\", \"kealia\", \"kealia\", \"kealia\", \n . \"kealia\", \"kealia\", \"kealia\", \"kealia\", \"kealia\", \"kealia\", \"kealia\", \n . \"kealia\", \"kealia\", \"kealia\", \"kealia\", \"kealia\", \"kealia\", \"kealia\", \n . \"kealia\", \"kealia\", \"kealia\", \"kealia\", \"kealia\", \"kealia\", \"kealia\", \n . \"kealia\", \"kealia\", \"kealia\", \"kealia\", \"kealia\", \"kealia\", \"kealia\", \n . \"kealia\", \"kealia\", \"kealia\", \"kealia\", \"kealia\", \"kealia\", \"kealia\", \n . \"kealia\", \"kealia\", \"kealia\", \"kealia\", \"kealia\", \"kealia\", \"kealia\", \n . \"kealia\", \"kealia\", \"kealia\", \"kealia\", \"kealia\", \"kealia\", \"kealia\", \n . \"kealia\", \"kealia\", \"kealia\", \"kealia\", \"kealia\", \"kealia\", \"kealia\", \n . \"kealia\", \"kealia\", \"kealia\", \"kealia\", \"lumahai\", \"lumahai\", \n . \"lumahai\", \"lumahai\", \"lumahai\", \"lumahai\", \"lumahai\", \"lumahai\", \n . \"lumahai\", \"lumahai\", \"lumahai\", \"lumahai\", \"lumahai\", \"lumahai\", \n . \"lumahai\", \"lumahai\", \"lumahai\", \"lumahai\", \"lumahai\", \"lumahai\", \n . \"lumahai\", \"lumahai\", \"lumahai\", \"lumahai\", \"lumahai\", \"lumahai\", \n . \"lumahai\", \"lumahai\", \"lumahai\", \"lumahai\", \"lumahai\", \"lumahai\", \n . \"lumahai\", \"lumahai\", \"lumahai\", \"lumahai\", \"lumahai\", \"lumahai\", \n . \"lumahai\", \"lumahai\", \"lumahai\", \"lumahai\", \"lumahai\", \"lumahai\", \n . \"lumahai\", \"lumahai\", \"lumahai\", \"lumahai\", \"lumahai\", \"lumahai\", \n . \"lumahai\", \"lumahai\", \"lumahai\", \"lumahai\", \"lumahai\", \"lumahai\", \n . \"lumahai\", \"lumahai\", \"lumahai\", \"lumahai\", \"lumahai\", \"lumahai\", \n . \"lumahai\", \"lumahai\", \"lumahai\", \"paukukalo\", \"paukukalo\", \"paukukalo\", \n . \"paukukalo\", \"paukukalo\", \"paukukalo\", \"paukukalo\", \"paukukalo\", \n . \"paukukalo\", \"paukukalo\", \"paukukalo\", \"paukukalo\", \"paukukalo\", \n . \"paukukalo\", \"paukukalo\", \"paukukalo\", \"paukukalo\", \"paukukalo\", \n . \"paukukalo\", \"paukukalo\", \"paukukalo\", \"paukukalo\", \"paukukalo\", \n . \"paukukalo\", \"paukukalo\", \"paukukalo\", \"paukukalo\", \"paukukalo\", \n . \"paukukalo\", \"paukukalo\", \"paukukalo\", \"paukukalo\", \"paukukalo\", \n . \"paukukalo\", \"paukukalo\", \"paukukalo\", \"paukukalo\", \"paukukalo\", \n . \"paukukalo\", \"paukukalo\", \"paukukalo\", \"paukukalo\", \"paukukalo\", \n . \"paukukalo\", \"paukukalo\", \"paukukalo\", \"paukukalo\", \"paukukalo\", \n . \"paukukalo\", \"paukukalo\", \"paukukalo\", \"paukukalo\", \"paukukalo\", \n . \"paukukalo\", \"paukukalo\", \"paukukalo\", \"paukukalo\", \"paukukalo\", \n . \"paukukalo\", \"paukukalo\", \"paukukalo\", \"paukukalo\", \"paukukalo\", \n . \"paukukalo\", \"paukukalo\", \"paukukalo\", \"paukukalo\", \"paukukalo\", \n . \"paukukalo\", \"paukukalo\", \"paukukalo\", \"paukukalo\", \"paukukalo\", \n . \"paukukalo\", \"paukukalo\", \"paukukalo\", \"paukukalo\", \"paukukalo\", \n . \"paukukalo\", \"paukukalo\", \"paukukalo\", \"paukukalo\", \"paukukalo\", \n . \"paukukalo\", \"paukukalo\", \"paukukalo\", \"paukukalo\", \"paukukalo\", \n . \"paukukalo\", \"paukukalo\", \"pearl_harbor\", \"pearl_harbor\", \"pearl_harbor\", \n . \"pearl_harbor\", \"pearl_harbor\", \"pearl_harbor\", \"pearl_harbor\", \n . \"pearl_harbor\", \"pearl_harbor\", \"pearl_harbor\", \"pearl_harbor\", \n . \"pearl_harbor\", \"pearl_harbor\", \"pearl_harbor\", \"pearl_harbor\", \n . \"pearl_harbor\", \"pearl_harbor\", \"pearl_harbor\", \"pearl_harbor\", \n . \"pearl_harbor\", \"pearl_harbor\", \"pearl_harbor\", \"pearl_harbor\", \n . \"pearl_harbor\", \"pearl_harbor\", \"pearl_harbor\", \"pearl_harbor\", \n . \"pearl_harbor\", \"pearl_harbor\", \"pearl_harbor\", \"pearl_harbor\", \n . \"pearl_harbor\", \"pearl_harbor\", \"pearl_harbor\", \"pearl_harbor\", \n . \"pearl_harbor\", \"pearl_harbor\", \"pearl_harbor\", \"pearl_harbor\", \n . \"pearl_harbor\", \"pearl_harbor\", \"pearl_harbor\", \"pearl_harbor\", \n . \"pearl_harbor\", \"pearl_harbor\", \"pearl_harbor\", \"pearl_harbor\", \n . \"pearl_harbor\", \"pearl_harbor\", \"pearl_harbor\", \"pearl_harbor\", \n . \"pearl_harbor\", \"pearl_harbor\", \"pearl_harbor\", \"pearl_harbor\", \n . \"pearl_harbor\", \"pearl_harbor\", \"pearl_harbor\", \"pearl_harbor\", \n . \"pearl_harbor\", \"pearl_harbor\", \"pearl_harbor\", \"pearl_harbor\", \n . \"pearl_harbor\", \"pearl_harbor\", \"pearl_harbor\", \"pearl_harbor\", \n . \"pearl_harbor\", \"pearl_harbor\", \"pearl_harbor\", \"pearl_harbor\", \n . \"pearl_harbor\", \"pearl_harbor\", \"pearl_harbor\", \"pearl_harbor\", \n . \"pearl_harbor\", \"pearl_harbor\", \"pearl_harbor\", \"pearl_harbor\", \n . \"pearl_harbor\", \"pearl_harbor\", \"pearl_harbor\", \"pearl_harbor\", \n . \"pearl_harbor\", \"pearl_harbor\", \"pearl_harbor\", \"pearl_harbor\", \n . \"pearl_harbor\", \"pearl_harbor\", \"pearl_harbor\", \"pearl_harbor\", \n . \"pearl_harbor\", \"pearl_harbor\", \"pearl_harbor\", \"pearl_harbor\", \n . \"pearl_harbor\", \"pearl_harbor\", \"pearl_harbor\", \"pearl_harbor\", \n . \"pearl_harbor\", \"pearl_harbor\", \"pearl_harbor\", \"pearl_harbor\", \n . \"pearl_harbor\", \"pearl_harbor\", \"pearl_harbor\", \"pearl_harbor\", \n . \"pearl_harbor\", \"pearl_harbor\", \"pearl_harbor\", \"pearl_harbor\", \n . \"pearl_harbor\", \"pearl_harbor\", \"pearl_harbor\", \"pearl_harbor\", \n . \"pearl_harbor\", \"pearl_harbor\", \"pearl_harbor\", \"pearl_harbor\", \n . \"pearl_harbor\", \"pearl_harbor\", \"pearl_harbor\", \"pearl_harbor\", \n . \"pearl_harbor\", \"pearl_harbor\", \"pearl_harbor\", \"pearl_harbor\", \n . \"pearl_harbor\", \"pearl_harbor\", \"pearl_harbor\", \"pearl_harbor\", \n . \"pearl_harbor\", \"pearl_harbor\", \"pearl_harbor\", \"pearl_harbor\", \n . \"pearl_harbor\", \"pearl_harbor\", \"pearl_harbor\", \"pearl_harbor\", \n . \"pearl_harbor\", \"pearl_harbor\", \"pearl_harbor\", \"pearl_harbor\", \n . \"pearl_harbor\", \"pearl_harbor\", \"pearl_harbor\", \"pearl_harbor\", \n . \"pearl_harbor\", \"pearl_harbor\", \"pearl_harbor\", \"pearl_harbor\", \n . \"pearl_harbor\", \"pearl_harbor\", \"pearl_harbor\", \"pearl_harbor\", \n . \"pearl_harbor\", \"pearl_harbor\", \"pearl_harbor\", \"pearl_harbor\", \n . \"pearl_harbor\", \"pearl_harbor\", \"pearl_harbor\", \"pearl_harbor\", \n . \"pearl_harbor\", \"pearl_harbor\", \"pearl_harbor\", \"pearl_harbor\", \n . \"pearl_harbor\", \"pearl_harbor\", \"pearl_harbor\", \"pearl_harbor\", \n . \"pearl_harbor\", \"pearl_harbor\", \"pearl_harbor\", \"pearl_harbor\", \n . \"pearl_harbor\", \"pearl_harbor\", \"pearl_harbor\", \"pearl_harbor\", \n . \"pearl_harbor\", \"pearl_harbor\", \"pearl_harbor\", \"pearl_harbor\", \n . \"pearl_harbor\", \"pearl_harbor\", \"pearl_harbor\", \"pearl_harbor\", \n . \"pearl_harbor\", \"pearl_harbor\", \"pearl_harbor\", \"pearl_harbor\", \n . \"pearl_harbor\", \"pearl_harbor\", \"pearl_harbor\", \"pearl_harbor\", \n . \"pearl_harbor\", \"pearl_harbor\", \"pearl_harbor\", \"pearl_harbor\", \n . \"pearl_harbor\", \"pearl_harbor\", \"pearl_harbor\", \"pearl_harbor\", \n . \"pearl_harbor\", \"pearl_harbor\", \"pearl_harbor\", \"pearl_harbor\", \n . \"pearl_harbor\", \"pearl_harbor\", \"pearl_harbor\", \"pearl_harbor\", \n . \"pearl_harbor\", \"pearl_harbor\", \"pearl_harbor\", \"pearl_harbor\", \n . \"pearl_harbor\", \"pearl_harbor\", \"pearl_harbor\", \"pearl_harbor\", \n . \"pearl_harbor\", \"pearl_harbor\", \"pearl_harbor\", \"pearl_harbor\", \n . \"pearl_harbor\", \"pearl_harbor\", \"pearl_harbor\", \"pearl_harbor\", \n . \"pearl_harbor\", \"pearl_harbor\", \"pearl_harbor\", \"pearl_harbor\", \n . \"pearl_harbor\", \"pearl_harbor\", \"pearl_harbor\", \"pearl_harbor\", \n . \"pearl_harbor\", \"pearl_harbor\", \"pearl_harbor\", \"pearl_harbor\", \n . \"pearl_harbor\", \"pearl_harbor\", \"pearl_harbor\", \"pearl_harbor\", \n . \"pearl_harbor\", \"pearl_harbor\", \"pearl_harbor\", \"pearl_harbor\", \n . \"pearl_harbor\", \"pearl_harbor\", \"pearl_harbor\", \"pearl_harbor\", \n . \"pearl_harbor\", \"pearl_harbor\", \"pearl_harbor\", \"pearl_harbor\", \n . \"pearl_harbor\", \"pearl_harbor\", \"pearl_harbor\", \"pearl_harbor\", \n . \"pearl_harbor\", \"pearl_harbor\", \"pearl_harbor\", \"pearl_harbor\", \n . \"pearl_harbor\", \"pearl_harbor\", \"pearl_harbor\", \"pearl_harbor\", \n . \"pearl_harbor\", \"pearl_harbor\", \"pearl_harbor\", \"pearl_harbor\", \n . \"pearl_harbor\", \"pearl_harbor\", \"pearl_harbor\", \"pearl_harbor\", \n . \"pearl_harbor\", \"pearl_harbor\", \"pearl_harbor\", \"pearl_harbor\", \n . \"pearl_harbor\", \"pearl_harbor\", \"pearl_harbor\", \"pearl_harbor\", \n . \"pearl_harbor\", \"pearl_harbor\", \"pearl_harbor\", \"pearl_harbor\", \n . \"pearl_harbor\", \"pearl_harbor\", \"pearl_harbor\", \"pearl_harbor\", \n . \"pearl_harbor\", \"pearl_harbor\", \"pearl_harbor\", \"pearl_harbor\", \n . \"pearl_harbor\", \"pearl_harbor\", \"pearl_harbor\", \"pearl_harbor\", \n . \"pearl_harbor\", \"pearl_harbor\", \"pearl_harbor\", \"pearl_harbor\", \n . \"pearl_harbor\", \"pearl_harbor\", \"pearl_harbor\", \"pearl_harbor\", \n . \"pearl_harbor\", \"pearl_harbor\", \"pearl_harbor\", \"pearl_harbor\", \n . \"pearl_harbor\", \"pearl_harbor\", \"pearl_harbor\", \"pearl_harbor\", \n . \"pearl_harbor\", \"pearl_harbor\", \"pearl_harbor\", \"pearl_harbor\", \n . \"pearl_harbor\", \"pearl_harbor\", \"pearl_harbor\", \"pearl_harbor\", \n . \"pearl_harbor\", \"pearl_harbor\", \"pearl_harbor\", \"pearl_harbor\", \n . \"pearl_harbor\", \"pearl_harbor\", \"pearl_harbor\", \"pearl_harbor\", \n . \"pearl_harbor\", \"pearl_harbor\", \"pearl_harbor\", \"pearl_harbor\", \n . \"pearl_harbor\", \"pearl_harbor\", \"pearl_harbor\", \"pearl_harbor\", \n . \"pearl_harbor\", \"pearl_harbor\", \"pearl_harbor\", \"pearl_harbor\", \n . \"pearl_harbor\", \"pearl_harbor\", \"pearl_harbor\", \"pearl_harbor\", \n . \"pearl_harbor\", \"pearl_harbor\", \"pearl_harbor\", \"pearl_harbor\", \n . \"pearl_harbor\", \"pearl_harbor\", \"pearl_harbor\", \"pearl_harbor\", \n . \"pearl_harbor\", \"pearl_harbor\", \"pearl_harbor\", \"pearl_harbor\", \n . \"pearl_harbor\", \"pearl_harbor\", \"pearl_harbor\", \"pearl_harbor\", \n . \"pearl_harbor\", \"pearl_harbor\", \"pearl_harbor\", \"pearl_harbor\", \n . \"pearl_harbor\", \"pearl_harbor\", \"pearl_harbor\", \"pearl_harbor\", \n . \"pearl_harbor\", \"pearl_harbor\", \"pearl_harbor\", \"pearl_harbor\", \n . \"pearl_harbor\", \"pearl_harbor\", \"pearl_harbor\", \"pearl_harbor\", \n . \"pearl_harbor\", \"pearl_harbor\", \"pearl_harbor\", \"pearl_harbor\", \n . \"pearl_harbor\", \"pearl_harbor\", \"pearl_harbor\", \"pearl_harbor\", \n . \"pearl_harbor\", \"pearl_harbor\", \"pearl_harbor\", \"pearl_harbor\", \n . \"pearl_harbor\", \"pearl_harbor\", \"pearl_harbor\", \"pearl_harbor\", \n . \"pearl_harbor\", \"pearl_harbor\", \"pearl_harbor\", \"pearl_harbor\", \n . \"pearl_harbor\", \"pearl_harbor\", \"pearl_harbor\", \"pearl_harbor\", \n . \"pearl_harbor\", \"pearl_harbor\", \"pearl_harbor\", \"pearl_harbor\", \n . \"pearl_harbor\", \"pearl_harbor\", \"pearl_harbor\", \"pearl_harbor\", \n . \"pearl_harbor\", \"pearl_harbor\", \"pearl_harbor\", \"pearl_harbor\", \n . \"pearl_harbor\", \"pearl_harbor\", \"pearl_harbor\", \"pearl_harbor\", \n . \"pearl_harbor\", \"pearl_harbor\", \"pearl_harbor\", \"pearl_harbor\", \n . \"pearl_harbor\", \"pearl_harbor\", \"pearl_harbor\", \"pearl_harbor\", \n . \"pearl_harbor\", \"pearl_harbor\", \"pearl_harbor\", \"pearl_harbor\", \n . \"pearl_harbor\", \"pearl_harbor\", \"pearl_harbor\", \"pearl_harbor\", \n . \"pearl_harbor\", \"pearl_harbor\", \"pearl_harbor\", \"pearl_harbor\", \n . \"pearl_harbor\", \"pearl_harbor\", \"pearl_harbor\", \"pearl_harbor\", \n . \"pearl_harbor\", \"pearl_harbor\", \"pearl_harbor\", \"pearl_harbor\", \n . \"pearl_harbor\", \"pearl_harbor\", \"pearl_harbor\", \"pearl_harbor\", \n . \"pearl_harbor\", \"pearl_harbor\", \"pearl_harbor\", \"pearl_harbor\", \n . \"pearl_harbor\", \"pearl_harbor\", \"pearl_harbor\", \"pearl_harbor\", \n . \"pearl_harbor\", \"pearl_harbor\", \"pearl_harbor\", \"pearl_harbor\", \n . \"pearl_harbor\", \"pearl_harbor\", \"pearl_harbor\", \"pearl_harbor\", \n . \"pearl_harbor\", \"pearl_harbor\", \"pearl_harbor\", \"pearl_harbor\", \n . \"pearl_harbor\", \"pearl_harbor\", \"pearl_harbor\", \"pearl_harbor\", \n . \"pearl_harbor\", \"pearl_harbor\", \"pearl_harbor\", \"pearl_harbor\", \n . \"pearl_harbor\", \"pearl_harbor\", \"pearl_harbor\", \"pearl_harbor\", \n . \"pearl_harbor\", \"pearl_harbor\", \"pearl_harbor\", \"pearl_harbor\", \n . \"pearl_harbor\", \"pearl_harbor\", \"pearl_harbor\", \"pearl_harbor\", \n . \"pearl_harbor\", \"pearl_harbor\", \"pearl_harbor\", \"pearl_harbor\", \n . \"pearl_harbor\", \"pearl_harbor\", \"pearl_harbor\", \"pearl_harbor\", \n . \"pearl_harbor\", \"pearl_harbor\", \"pearl_harbor\", \"pearl_harbor\", \n . \"pearl_harbor\", \"pearl_harbor\", \"pearl_harbor\", \"pearl_harbor\", \n . \"pearl_harbor\", \"pearl_harbor\", \"pearl_harbor\", \"pearl_harbor\", \n . \"pearl_harbor\", \"pearl_harbor\", \"pearl_harbor\", \"pearl_harbor\", \n . \"pearl_harbor\", \"pearl_harbor\", \"pearl_harbor\", \"pearl_harbor\", \n . \"pearl_harbor\", \"pearl_harbor\", \"pearl_harbor\", \"pearl_harbor\", \n . \"pearl_harbor\", \"pearl_harbor\", \"pearl_harbor\", \"pearl_harbor\", \n . \"pearl_harbor\", \"pearl_harbor\", \"pearl_harbor\", \"pearl_harbor\", \n . \"pearl_harbor\", \"pearl_harbor\", \"pearl_harbor\", \"pearl_harbor\", \n . \"pearl_harbor\", \"pearl_harbor\", \"pearl_harbor\", \"pearl_harbor\", \n . \"pearl_harbor\", \"pearl_harbor\", \"pearl_harbor\", \"pearl_harbor\", \n . \"pearl_harbor\", \"pearl_harbor\", \"pearl_harbor\", \"pearl_harbor\", \n . \"pearl_harbor\", \"pearl_harbor\", \"pearl_harbor\", \"pearl_harbor\", \n . \"pearl_harbor\", \"pearl_harbor\", \"pearl_harbor\", \"pearl_harbor\", \n . \"pearl_harbor\", \"pearl_harbor\", \"pearl_harbor\", \"pearl_harbor\", \n . \"pearl_harbor\", \"pearl_harbor\", \"pearl_harbor\", \"pearl_harbor\", \n . \"pearl_harbor\", \"pearl_harbor\", \"pearl_harbor\", \"pearl_harbor\", \n . \"pearl_harbor\", \"pearl_harbor\", \"pearl_harbor\", \"pearl_harbor\", \n . \"pearl_harbor\", \"pearl_harbor\", \"pearl_harbor\", \"pearl_harbor\", \n . \"pearl_harbor\", \"pearl_harbor\", \"pearl_harbor\", \"pearl_harbor\", \n . \"pearl_harbor\", \"pearl_harbor\", \"pearl_harbor\", \"pearl_harbor\", \n . \"pearl_harbor\", \"pearl_harbor\", \"pearl_harbor\", \"pearl_harbor\", \n . \"pearl_harbor\", \"pearl_harbor\", \"pearl_harbor\", \"pearl_harbor\", \n . \"pearl_harbor\", \"pearl_harbor\", \"pearl_harbor\", \"pearl_harbor\", \n . \"pearl_harbor\", \"pearl_harbor\", \"pearl_harbor\", \"pearl_harbor\", \n . \"pearl_harbor\", \"pearl_harbor\", \"pearl_harbor\", \"pearl_harbor\", \n . \"pearl_harbor\", \"pearl_harbor\", \"pearl_harbor\", \"pearl_harbor\", \n . \"pearl_harbor\", \"pearl_harbor\", \"pearl_harbor\", \"pearl_harbor\", \n . \"pearl_harbor\", \"pearl_harbor\", \"pearl_harbor\", \"pearl_harbor\", \n . \"pearl_harbor\", \"pearl_harbor\", \"pearl_harbor\", \"pearl_harbor\", \n . \"pearl_harbor\", \"waihee\", \"waihee\", \"waihee\", \"waihee\", \"waihee\", \n . \"waihee\", \"waihee\", \"waihee\", \"waihee\", \"waihee\", \"waihee\", \"waihee\", \n . \"waihee\", \"waihee\", \"waihee\", \"waihee\", \"waihee\", \"waihee\", \"waihee\", \n . \"waihee\", \"waihee\", \"waihee\", \"waihee\", \"waihee\", \"waihee\", \"waihee\", \n . \"waihee\", \"waihee\", \"waihee\", \"waihee\", \"wailua_opaekaa\", \"wailua_opaekaa\", \n . \"wailua_opaekaa\", \"wailua_opaekaa\", \"wailua_opaekaa\", \"wailua_opaekaa\", \n . \"wailua_opaekaa\", \"wailua_opaekaa\", \"wailua_opaekaa\", \"wailua_opaekaa\", \n . \"wailua_opaekaa\", \"wailua_opaekaa\", \"wailua_opaekaa\", \"wailua_opaekaa\", \n . \"wailua_opaekaa\", \"wailua_opaekaa\", \"wailua_opaekaa\", \"wailua_opaekaa\", \n . \"wailua_opaekaa\", \"wailua_opaekaa\", \"wailua_opaekaa\", \"wailua_opaekaa\", \n . \"wailua_opaekaa\", \"wailua_opaekaa\", \"wailua_opaekaa\", \"wailua_opaekaa\", \n . \"wailua_opaekaa\", \"wailua_opaekaa\", \"wailua_opaekaa\", \"wailua_opaekaa\", \n . \"wailua_opaekaa\", \"wailua_opaekaa\", \"wailua_opaekaa\", \"wailua_opaekaa\", \n . \"wailua_opaekaa\", \"wailua_opaekaa\", \"wailua_opaekaa\", \"wailua_opaekaa\", \n . \"wailua_opaekaa\", \"wailua_opaekaa\", \"wailua_opaekaa\", \"wailua_opaekaa\", \n . \"wailua_opaekaa\", \"wailua_opaekaa\", \"wailua_opaekaa\", \"wailua_opaekaa\", \n . \"wailua_opaekaa\", \"wailua_opaekaa\", \"wailua_opaekaa\", \"wailua_opaekaa\", \n . \"wailua_opaekaa\", \"wailua_opaekaa\", \"wailua_opaekaa\", \"wailua_opaekaa\", \n . \"wailua_opaekaa\", \"wailua_opaekaa\", \"wailua_opaekaa\", \"wailua_opaekaa\", \n . \"wailua_opaekaa\", \"wailua_opaekaa\", \"wailua_opaekaa\", \"wailua_opaekaa\", \n . \"wailua_opaekaa\", \"wailua_opaekaa\", \"wailua_opaekaa\", \"wailua_opaekaa\", \n . \"wailua_opaekaa\", \"wailua_opaekaa\", \"wailua_opaekaa\", \"wailua_opaekaa\", \n . \"wailua_opaekaa\", \"wailua_opaekaa\", \"wailua_opaekaa\", \"wailua_opaekaa\", \n . \"wailua_opaekaa\", \"wailua_opaekaa\", \"wailua_opaekaa\", \"wailua_opaekaa\", \n . \"wailua_opaekaa\", \"wailua_opaekaa\", \"wailua_opaekaa\", \"wailua_opaekaa\", \n . \"wailua_opaekaa\", \"wailua_opaekaa\", \"wailua_opaekaa\", \"wailua_opaekaa\", \n . \"wailua_opaekaa\", \"wailua_opaekaa\", \"wailua_opaekaa\", \"wailua_opaekaa\"\n . ))",
            "4. `[[<-.sf`(`*tmp*`, i, value = c(\"anahola\", \"anahola\", \"anahola\", \n . \"anahola\", \"anahola\", \"anahola\", \"anahola\", \"anahola\", \"anahola\", \n . \"anahola\", \"anahola\", \"anahola\", \"anahola\", \"anahola\", \"anahola\", \n . \"anahola\", \"anahola\", \"anahola\", \"anahola\", \"anahola\", \"anahola\", \n . \"anahola\", \"anahola\", \"anahola\", \"anahola\", \"anahola\", \"anahola\", \n . \"anahola\", \"anahola\", \"anahola\", \"anahola\", \"anahola\", \"anahola\", \n . \"anahola\", \"anahola\", \"anahola\", \"anahola\", \"anahola\", \"anahola\", \n . \"anahola\", \"anahola\", \"anahola\", \"anahola\", \"anahola\", \"anahola\", \n . \"anahola\", \"anahola\", \"anahola\", \"haleiwa\", \"haleiwa\", \"haleiwa\", \n . \"haleiwa\", \"haleiwa\", \"haleiwa\", \"haleiwa\", \"haleiwa\", \"haleiwa\", \n . \"haleiwa\", \"haleiwa\", \"haleiwa\", \"haleiwa\", \"haleiwa\", \"haleiwa\", \n . \"haleiwa\", \"haleiwa\", \"haleiwa\", \"haleiwa\", \"haleiwa\", \"haleiwa\", \n . \"haleiwa\", \"haleiwa\", \"haleiwa\", \"haleiwa\", \"haleiwa\", \"haleiwa\", \n . \"haleiwa\", \"haleiwa\", \"haleiwa\", \"haleiwa\", \"haleiwa\", \"haleiwa\", \n . \"haleiwa\", \"haleiwa\", \"haleiwa\", \"haleiwa\", \"haleiwa\", \"haleiwa\", \n . \"haleiwa\", \"haleiwa\", \"haleiwa\", \"haleiwa\", \"haleiwa\", \"haleiwa\", \n . \"haleiwa\", \"haleiwa\", \"haleiwa\", \"haleiwa\", \"haleiwa\", \"haleiwa\", \n . \"haleiwa\", \"haleiwa\", \"haleiwa\", \"haleiwa\", \"haleiwa\", \"haleiwa\", \n . \"haleiwa\", \"haleiwa\", \"haleiwa\", \"haleiwa\", \"haleiwa\", \"haleiwa\", \n . \"haleiwa\", \"haleiwa\", \"haleiwa\", \"haleiwa\", \"haleiwa\", \"haleiwa\", \n . \"haleiwa\", \"haleiwa\", \"haleiwa\", \"haleiwa\", \"haleiwa\", \"haleiwa\", \n . \"haleiwa\", \"haleiwa\", \"haleiwa\", \"haleiwa\", \"haleiwa\", \"haleiwa\", \n . \"haleiwa\", \"haleiwa\", \"haleiwa\", \"haleiwa\", \"haleiwa\", \"haleiwa\", \n . \"haleiwa\", \"haleiwa\", \"haleiwa\", \"haleiwa\", \"haleiwa\", \"haleiwa\", \n . \"haleiwa\", \"haleiwa\", \"haleiwa\", \"haleiwa\", \"haleiwa\", \"haleiwa\", \n . \"haleiwa\", \"haleiwa\", \"haleiwa\", \"haleiwa\", \"haleiwa\", \"haleiwa\", \n . \"haleiwa\", \"haleiwa\", \"haleiwa\", \"haleiwa\", \"haleiwa\", \"haleiwa\", \n . \"haleiwa\", \"haleiwa\", \"haleiwa\", \"haleiwa\", \"haleiwa\", \"haleiwa\", \n . \"haleiwa\", \"haleiwa\", \"haleiwa\", \"haleiwa\", \"haleiwa\", \"haleiwa\", \n . \"haleiwa\", \"haleiwa\", \"haleiwa\", \"haleiwa\", \"haleiwa\", \"haleiwa\", \n . \"haleiwa\", \"haleiwa\", \"haleiwa\", \"haleiwa\", \"haleiwa\", \"haleiwa\", \n . \"haleiwa\", \"haleiwa\", \"haleiwa\", \"haleiwa\", \"haleiwa\", \"haleiwa\", \n . \"haleiwa\", \"haleiwa\", \"haleiwa\", \"haleiwa\", \"haleiwa\", \"haleiwa\", \n . \"haleiwa\", \"haleiwa\", \"haleiwa\", \"haleiwa\", \"haleiwa\", \"haleiwa\", \n . \"haleiwa\", \"haleiwa\", \"haleiwa\", \"haleiwa\", \"haleiwa\", \"haleiwa\", \n . \"haleiwa\", \"haleiwa\", \"haleiwa\", \"haleiwa\", \"haleiwa\", \"haleiwa\", \n . \"haleiwa\", \"haleiwa\", \"haleiwa\", \"haleiwa\", \"haleiwa\", \"haleiwa\", \n . \"haleiwa\", \"haleiwa\", \"haleiwa\", \"haleiwa\", \"haleiwa\", \"haleiwa\", \n . \"haleiwa\", \"haleiwa\", \"haleiwa\", \"haleiwa\", \"haleiwa\", \"haleiwa\", \n . \"haleiwa\", \"haleiwa\", \"haleiwa\", \"haleiwa\", \"haleiwa\", \"haleiwa\", \n . \"haleiwa\", \"haleiwa\", \"haleiwa\", \"haleiwa\", \"haleiwa\", \"haleiwa\", \n . \"haleiwa\", \"haleiwa\", \"haleiwa\", \"haleiwa\", \"haleiwa\", \"haleiwa\", \n . \"haleiwa\", \"haleiwa\", \"haleiwa\", \"haleiwa\", \"haleiwa\", \"haleiwa\", \n . \"haleiwa\", \"haleiwa\", \"haleiwa\", \"haleiwa\", \"haleiwa\", \"haleiwa\", \n . \"haleiwa\", \"haleiwa\", \"haleiwa\", \"haleiwa\", \"haleiwa\", \"haleiwa\", \n . \"haleiwa\", \"haleiwa\", \"haleiwa\", \"haleiwa\", \"haleiwa\", \"haleiwa\", \n . \"haleiwa\", \"haleiwa\", \"haleiwa\", \"haleiwa\", \"haleiwa\", \"haleiwa\", \n . \"haleiwa\", \"haleiwa\", \"haleiwa\", \"haleiwa\", \"haleiwa\", \"haleiwa\", \n . \"haleiwa\", \"haleiwa\", \"haleiwa\", \"haleiwa\", \"haleiwa\", \"haleiwa\", \n . \"haleiwa\", \"haleiwa\", \"haleiwa\", \"haleiwa\", \"haleiwa\", \"haleiwa\", \n . \"haleiwa\", \"haleiwa\", \"haleiwa\", \"haleiwa\", \"haleiwa\", \"haleiwa\", \n . \"haleiwa\", \"haleiwa\", \"haleiwa\", \"haleiwa\", \"haleiwa\", \"haleiwa\", \n . \"haleiwa\", \"haleiwa\", \"haleiwa\", \"haleiwa\", \"haleiwa\", \"haleiwa\", \n . \"haleiwa\", \"haleiwa\", \"haleiwa\", \"haleiwa\", \"haleiwa\", \"haleiwa\", \n . \"haleiwa\", \"haleiwa\", \"haleiwa\", \"haleiwa\", \"haleiwa\", \"haleiwa\", \n . \"haleiwa\", \"haleiwa\", \"haleiwa\", \"haleiwa\", \"haleiwa\", \"haleiwa\", \n . \"haleiwa\", \"haleiwa\", \"haleiwa\", \"haleiwa\", \"haleiwa\", \"haleiwa\", \n . \"haleiwa\", \"haleiwa\", \"haleiwa\", \"haleiwa\", \"haleiwa\", \"haleiwa\", \n . \"haleiwa\", \"haleiwa\", \"haleiwa\", \"hanalei\", \"hanalei\", \"hanalei\", \n . \"hanalei\", \"hanalei\", \"hanalei\", \"hanalei\", \"hanalei\", \"hanalei\", \n . \"hanalei\", \"hanalei\", \"hanalei\", \"hanalei\", \"hanalei\", \"hanalei\", \n . \"hanalei\", \"hanalei\", \"hanalei\", \"hanalei\", \"hanalei\", \"hanalei\", \n . \"hanalei\", \"hanalei\", \"hanalei\", \"hanalei\", \"hanalei\", \"hanalei\", \n . \"hanalei\", \"hanalei\", \"hanalei\", \"hanalei\", \"hanalei\", \"hanalei\", \n . \"hanalei\", \"hanalei\", \"hanalei\", \"hanalei\", \"hanalei\", \"hanalei\", \n . \"hanalei\", \"hanalei\", \"hanalei\", \"hanalei\", \"hanalei\", \"hanalei\", \n . \"hanalei\", \"hanalei\", \"hanalei\", \"hanalei\", \"hanalei\", \"hanalei\", \n . \"hanalei\", \"hanalei\", \"hanalei\", \"hanalei\", \"hanalei\", \"hanalei\", \n . \"hanalei\", \"hanalei\", \"hanalei\", \"hanalei\", \"hanalei\", \"hanalei\", \n . \"hanalei\", \"hanalei\", \"hanalei\", \"hanalei\", \"hanalei\", \"hanalei\", \n . \"hanalei\", \"hanalei\", \"hanalei\", \"hanalei\", \"hanalei\", \"hanalei\", \n . \"hanalei\", \"hanalei\", \"hanalei\", \"hanalei\", \"hanalei\", \"hanalei\", \n . \"hanalei\", \"hanalei\", \"hanalei\", \"hanalei\", \"hanalei\", \"hanalei\", \n . \"hanalei\", \"hanalei\", \"hanalei\", \"hanalei\", \"hanalei\", \"hanalei\", \n . \"hanalei\", \"hanalei\", \"hanalei\", \"hanalei\", \"hanalei\", \"hanalei\", \n . \"hanalei\", \"hanalei\", \"hanalei\", \"hanalei\", \"hanalei\", \"hanalei\", \n . \"hanalei\", \"hanalei\", \"hanalei\", \"hanalei\", \"hanalei\", \"hanalei\", \n . \"hanalei\", \"hanalei\", \"hanalei\", \"hanalei\", \"hanalei\", \"hanalei\", \n . \"hanalei\", \"hanalei\", \"hanalei\", \"hanalei\", \"hanalei\", \"hanalei\", \n . \"hanalei\", \"hanalei\", \"hanalei\", \"hanalei\", \"hanalei\", \"hanalei\", \n . \"hanalei\", \"hanalei\", \"hanalei\", \"hanalei\", \"hanalei\", \"hanalei\", \n . \"hanalei\", \"hanalei\", \"hanalei\", \"hanalei\", \"hanalei\", \"hanalei\", \n . \"hanalei\", \"hanalei\", \"hanalei\", \"hanalei\", \"hanalei\", \"hanalei\", \n . \"hanalei\", \"hanalei\", \"hanalei\", \"hanalei\", \"hanalei\", \"hanalei\", \n . \"hanalei\", \"hanalei\", \"hanalei\", \"hanalei\", \"hanalei\", \"hanalei\", \n . \"hanalei\", \"hanalei\", \"hanalei\", \"hanalei\", \"hanalei\", \"hanalei\", \n . \"hanalei\", \"hanalei\", \"hanalei\", \"hanalei\", \"hanalei\", \"hanalei\", \n . \"hanalei\", \"hanalei\", \"hanalei\", \"hanalei\", \"hanalei\", \"hanalei\", \n . \"hanalei\", \"hanalei\", \"hanalei\", \"hanalei\", \"hanalei\", \"hanalei\", \n . \"hanalei\", \"hanalei\", \"hanalei\", \"hanalei\", \"hanalei\", \"hanalei\", \n . \"hanalei\", \"hanalei\", \"hanalei\", \"hanalei\", \"hanalei\", \"hanalei\", \n . \"hanalei\", \"hanalei\", \"hanalei\", \"hanalei\", \"hanalei\", \"hanalei\", \n . \"hanalei\", \"hanalei\", \"hanalei\", \"hanalei\", \"hanalei\", \"hanalei\", \n . \"hanalei\", \"hanalei\", \"hanalei\", \"hanalei\", \"hanalei\", \"hanalei\", \n . \"hanalei\", \"hanalei\", \"hanalei\", \"hanalei\", \"hanalei\", \"hanalei\", \n . \"hanalei\", \"hanalei\", \"hanalei\", \"hanalei\", \"hanalei\", \"hanalei\", \n . \"hanalei\", \"hanalei\", \"hanalei\", \"hanalei\", \"hanalei\", \"hanalei\", \n . \"hanalei\", \"hanalei\", \"hanalei\", \"hanalei\", \"hanalei\", \"hanalei\", \n . \"hanalei\", \"hanalei\", \"hanalei\", \"hanalei\", \"hanalei\", \"hanalei\", \n . \"hanalei\", \"hanalei\", \"hanalei\", \"hanalei\", \"hanalei\", \"hanalei\", \n . \"hanalei\", \"hanalei\", \"hanalei\", \"hanalei\", \"hanalei\", \"hanalei\", \n . \"hanalei\", \"hanalei\", \"hanalei\", \"hanalei\", \"hanalei\", \"hanalei\", \n . \"hanalei\", \"hanalei\", \"hanalei\", \"hanalei\", \"hanalei\", \"hanalei\", \n . \"hanalei\", \"hanalei\", \"hanalei\", \"hanalei\", \"hanalei\", \"hanalei\", \n . \"hanalei\", \"hanalei\", \"hanalei\", \"hanalei\", \"hanalei\", \"hanalei\", \n . \"hanalei\", \"hanalei\", \"hanalei\", \"hanalei\", \"hanalei\", \"hanalei\", \n . \"huleia\", \"huleia\", \"huleia\", \"huleia\", \"huleia\", \"huleia\", \"huleia\", \n . \"huleia\", \"huleia\", \"huleia\", \"huleia\", \"huleia\", \"huleia\", \"huleia\", \n . \"huleia\", \"huleia\", \"huleia\", \"huleia\", \"huleia\", \"huleia\", \"huleia\", \n . \"huleia\", \"huleia\", \"huleia\", \"huleia\", \"huleia\", \"huleia\", \"huleia\", \n . \"huleia\", \"huleia\", \"huleia\", \"huleia\", \"huleia\", \"huleia\", \"huleia\", \n . \"huleia\", \"huleia\", \"huleia\", \"huleia\", \"huleia\", \"huleia\", \"huleia\", \n . \"huleia\", \"huleia\", \"huleia\", \"huleia\", \"huleia\", \"huleia\", \"huleia\", \n . \"huleia\", \"huleia\", \"huleia\", \"huleia\", \"huleia\", \"huleia\", \"huleia\", \n . \"huleia\", \"huleia\", \"huleia\", \"huleia\", \"huleia\", \"huleia\", \"huleia\", \n . \"huleia\", \"huleia\", \"huleia\", \"huleia\", \"huleia\", \"huleia\", \"huleia\", \n . \"huleia\", \"huleia\", \"huleia\", \"huleia\", \"huleia\", \"huleia\", \"huleia\", \n . \"kahuku\", \"kahuku\", \"kahuku\", \"kahuku\", \"kahuku\", \"kahuku\", \"kahuku\", \n . \"kahuku\", \"kahuku\", \"kahuku\", \"kahuku\", \"kahuku\", \"kahuku\", \"kahuku\", \n . \"kahuku\", \"kahuku\", \"kahuku\", \"kahuku\", \"kahuku\", \"kahuku\", \"kahuku\", \n . \"kahuku\", \"kahuku\", \"kahuku\", \"kahuku\", \"kahuku\", \"kahuku\", \"kahuku\", \n . \"kahuku\", \"kahuku\", \"kahuku\", \"kahuku\", \"kahuku\", \"kahuku\", \"kahuku\", \n . \"kahuku\", \"kahuku\", \"kahuku\", \"kahuku\", \"kahuku\", \"kahuku\", \"kahuku\", \n . \"kahuku\", \"kahuku\", \"kahuku\", \"kahuku\", \"kahuku\", \"kahuku\", \"kahuku\", \n . \"kahuku\", \"kahuku\", \"kahuku\", \"kahuku\", \"kahuku\", \"kahuku\", \"kahuku\", \n . \"kahuku\", \"kahuku\", \"kahuku\", \"kahuku\", \"kahuku\", \"kahuku\", \"kahuku\", \n . \"kahuku\", \"kahuku\", \"kahuku\", \"kahuku\", \"kahuku\", \"kahuku\", \"kahuku\", \n . \"kahuku\", \"kahuku\", \"kahuku\", \"kahuku\", \"kahuku\", \"kahuku\", \"kahuku\", \n . \"kahuku\", \"kahuku\", \"kahuku\", \"kahuku\", \"kahuku\", \"kahuku\", \"kahuku\", \n . \"kahuku\", \"kahuku\", \"kahuku\", \"kahuku\", \"kahuku\", \"kahuku\", \"kahuku\", \n . \"kahuku\", \"kahuku\", \"kahuku\", \"kahuku\", \"kahuku\", \"kahuku\", \"kahuku\", \n . \"kahuku\", \"kahuku\", \"kahuku\", \"kahuku\", \"kahuku\", \"kahuku\", \"kahuku\", \n . \"kahuku\", \"kahuku\", \"kahuku\", \"kahuku\", \"kahuku\", \"kahuku\", \"kahuku\", \n . \"kahuku\", \"kahuku\", \"kahuku\", \"kahuku\", \"kahuku\", \"kahuku\", \"kahuku\", \n . \"kahuku\", \"kahuku\", \"kahuku\", \"kahuku\", \"kahuku\", \"kahuku\", \"kahuku\", \n . \"kahuku\", \"kahuku\", \"kahuku\", \"kahuku\", \"kahuku\", \"kahuku\", \"kahuku\", \n . \"kahuku\", \"kahuku\", \"kahuku\", \"kahuku\", \"kahuku\", \"kahuku\", \"kahuku\", \n . \"kahuku\", \"kahuku\", \"kahuku\", \"kahuku\", \"kahuku\", \"kahuku\", \"kahuku\", \n . \"kahuku\", \"kahuku\", \"kahuku\", \"kahuku\", \"kahuku\", \"kahuku\", \"kahuku\", \n . \"kahuku\", \"kahuku\", \"kahuku\", \"kahuku\", \"kahuku\", \"kahuku\", \"kahuku\", \n . \"kahuku\", \"kahuku\", \"kahuku\", \"kahuku\", \"kahuku\", \"kahuku\", \"kahuku\", \n . \"kahuku\", \"kahuku\", \"kahuku\", \"kahuku\", \"kahuku\", \"kahuku\", \"kahuku\", \n . \"kahuku\", \"kahuku\", \"kahuku\", \"kahuku\", \"kahuku\", \"kahuku\", \"kahuku\", \n . \"kahuku\", \"kahuku\", \"kahuku\", \"kahuku\", \"kahuku\", \"kahuku\", \"kahuku\", \n . \"kahuku\", \"kahuku\", \"kahuku\", \"kahuku\", \"kahuku\", \"kahuku\", \"kahuku\", \n . \"kahuku\", \"kahuku\", \"kahuku\", \"kahuku\", \"kahuku\", \"kahuku\", \"kahuku\", \n . \"kahuku\", \"kahuku\", \"kahuku\", \"kahuku\", \"kahuku\", \"kahuku\", \"kahuku\", \n . \"kahuku\", \"kahuku\", \"kahuku\", \"kahuku\", \"kahuku\", \"kahuku\", \"kakahaia\", \n . \"kakahaia\", \"kakahaia\", \"kakahaia\", \"kakahaia\", \"kakahaia\", \"kakahaia\", \n . \"kakahaia\", \"kakahaia\", \"kakahaia\", \"kakahaia\", \"kakahaia\", \"kakahaia\", \n . \"kakahaia\", \"kakahaia\", \"kakahaia\", \"kakahaia\", \"kakahaia\", \"kakahaia\", \n . \"kakahaia\", \"kakahaia\", \"kakahaia\", \"kakahaia\", \"kakahaia\", \"kakahaia\", \n . \"kakahaia\", \"kakahaia\", \"kakahaia\", \"kakahaia\", \"kakahaia\", \"kakahaia\", \n . \"kakahaia\", \"kakahaia\", \"kakahaia\", \"kakahaia\", \"kakahaia\", \"kakahaia\", \n . \"kakahaia\", \"kakahaia\", \"kakahaia\", \"kakahaia\", \"kakahaia\", \"kakahaia\", \n . \"kakahaia\", \"kakahaia\", \"kakahaia\", \"kakahaia\", \"kakahaia\", \"kakahaia\", \n . \"kakahaia\", \"kakahaia\", \"kakahaia\", \"kakahaia\", \"kakahaia\", \"kakahaia\", \n . \"kakahaia\", \"kakahaia\", \"kakahaia\", \"kakahaia\", \"kakahaia\", \"kakahaia\", \n . \"kakahaia\", \"kakahaia\", \"kakahaia\", \"kakahaia\", \"kakahaia\", \"kakahaia\", \n . \"kakahaia\", \"kakahaia\", \"kakahaia\", \"kakahaia\", \"kakahaia\", \"kakahaia\", \n . \"kakahaia\", \"kakahaia\", \"kakahaia\", \"kakahaia\", \"kakahaia\", \"kakahaia\", \n . \"kakahaia\", \"kakahaia\", \"kakahaia\", \"kakahaia\", \"kakahaia\", \"kakahaia\", \n . \"kakahaia\", \"kakahaia\", \"kakahaia\", \"kakahaia\", \"kakahaia\", \"kakahaia\", \n . \"kakahaia\", \"kakahaia\", \"kakahaia\", \"kakahaia\", \"kakahaia\", \"kakahaia\", \n . \"kakahaia\", \"kakahaia\", \"kakahaia\", \"kakahaia\", \"kakahaia\", \"kakahaia\", \n . \"kakahaia\", \"kakahaia\", \"kakahaia\", \"kakahaia\", \"kakahaia\", \"kakahaia\", \n . \"kakahaia\", \"kakahaia\", \"kakahaia\", \"kakahaia\", \"kakahaia\", \"kakahaia\", \n . \"kakahaia\", \"kakahaia\", \"kakahaia\", \"kakahaia\", \"kakahaia\", \"kakahaia\", \n . \"kakahaia\", \"kakahaia\", \"kakahaia\", \"kakahaia\", \"kakahaia\", \"kakahaia\", \n . \"kakahaia\", \"kakahaia\", \"kakahaia\", \"kakahaia\", \"kakahaia\", \"kakahaia\", \n . \"kakahaia\", \"kakahaia\", \"kakahaia\", \"kakahaia\", \"kakahaia\", \"kakahaia\", \n . \"kakahaia\", \"kakahaia\", \"kakahaia\", \"kakahaia\", \"kakahaia\", \"kakahaia\", \n . \"kakahaia\", \"kakahaia\", \"kakahaia\", \"kakahaia\", \"kakahaia\", \"kakahaia\", \n . \"kakahaia\", \"kakahaia\", \"kakahaia\", \"kakahaia\", \"kakahaia\", \"kakahaia\", \n . \"kakahaia\", \"kakahaia\", \"kakahaia\", \"kakahaia\", \"kakahaia\", \"kakahaia\", \n . \"kakahaia\", \"kakahaia\", \"kakahaia\", \"kakahaia\", \"kakahaia\", \"kakahaia\", \n . \"kakahaia\", \"kakahaia\", \"kakahaia\", \"kakahaia\", \"kakahaia\", \"kakahaia\", \n . \"kakahaia\", \"kakahaia\", \"kakahaia\", \"kakahaia\", \"kakahaia\", \"kakahaia\", \n . \"kakahaia\", \"kakahaia\", \"kakahaia\", \"kakahaia\", \"kakahaia\", \"kakahaia\", \n . \"kakahaia\", \"kakahaia\", \"kakahaia\", \"kakahaia\", \"kakahaia\", \"kakahaia\", \n . \"kakahaia\", \"kakahaia\", \"kakahaia\", \"kakahaia\", \"kakahaia\", \"kakahaia\", \n . \"kakahaia\", \"kakahaia\", \"kakahaia\", \"kakahaia\", \"kakahaia\", \"kakahaia\", \n . \"kakahaia\", \"kakahaia\", \"kakahaia\", \"kakahaia\", \"kakahaia\", \"kakahaia\", \n . \"kakahaia\", \"kakahaia\", \"kakahaia\", \"kakahaia\", \"kakahaia\", \"kakahaia\", \n . \"kakahaia\", \"kakahaia\", \"kakahaia\", \"kakahaia\", \"kakahaia\", \"kakahaia\", \n . \"kakahaia\", \"kakahaia\", \"kakahaia\", \"kakahaia\", \"kakahaia\", \"kakahaia\", \n . \"kakahaia\", \"kakahaia\", \"kakahaia\", \"kakahaia\", \"kakahaia\", \"kakahaia\", \n . \"kakahaia\", \"kakahaia\", \"kakahaia\", \"kakahaia\", \"kakahaia\", \"kakahaia\", \n . \"kakahaia\", \"kakahaia\", \"kakahaia\", \"kakahaia\", \"kakahaia\", \"kakahaia\", \n . \"kakahaia\", \"kakahaia\", \"kakahaia\", \"kakahaia\", \"kakahaia\", \"kakahaia\", \n . \"kakahaia\", \"kakahaia\", \"kakahaia\", \"kakahaia\", \"kakahaia\", \"kakahaia\", \n . \"kakahaia\", \"kakahaia\", \"kakahaia\", \"kakahaia\", \"kakahaia\", \"kakahaia\", \n . \"kakahaia\", \"kakahaia\", \"kakahaia\", \"kakahaia\", \"kakahaia\", \"kakahaia\", \n . \"kakahaia\", \"kakahaia\", \"kakahaia\", \"kakahaia\", \"kakahaia\", \"kakahaia\", \n . \"kakahaia\", \"kakahaia\", \"kakahaia\", \"kakahaia\", \"kakahaia\", \"kakahaia\", \n . \"kakahaia\", \"kakahaia\", \"kakahaia\", \"kakahaia\", \"kakahaia\", \"kakahaia\", \n . \"kakahaia\", \"kakahaia\", \"kakahaia\", \"kakahaia\", \"kakahaia\", \"kakahaia\", \n . \"kakahaia\", \"kakahaia\", \"kakahaia\", \"kakahaia\", \"kakahaia\", \"kakahaia\", \n . \"kakahaia\", \"kakahaia\", \"kakahaia\", \"kakahaia\", \"kakahaia\", \"kakahaia\", \n . \"kakahaia\", \"kakahaia\", \"kakahaia\", \"kakahaia\", \"kakahaia\", \"kakahaia\", \n . \"kakahaia\", \"kakahaia\", \"kakahaia\", \"kakahaia\", \"kakahaia\", \"kakahaia\", \n . \"kakahaia\", \"kakahaia\", \"kakahaia\", \"kakahaia\", \"kakahaia\", \"kakahaia\", \n . \"kakahaia\", \"kakahaia\", \"kakahaia\", \"kakahaia\", \"kakahaia\", \"kakahaia\", \n . \"kakahaia\", \"kakahaia\", \"kakahaia\", \"kakahaia\", \"kakahaia\", \"kakahaia\", \n . \"kakahaia\", \"kakahaia\", \"kakahaia\", \"kakahaia\", \"kakahaia\", \"kakahaia\", \n . \"kakahaia\", \"kakahaia\", \"kakahaia\", \"kakahaia\", \"kakahaia\", \"kakahaia\", \n . \"kakahaia\", \"kakahaia\", \"kakahaia\", \"kakahaia\", \"kakahaia\", \"kakahaia\", \n . \"kakahaia\", \"kakahaia\", \"kakahaia\", \"kakahaia\", \"kakahaia\", \"kakahaia\", \n . \"kakahaia\", \"kakahaia\", \"kakahaia\", \"kakahaia\", \"kakahaia\", \"kakahaia\", \n . \"kakahaia\", \"kakahaia\", \"kakahaia\", \"kakahaia\", \"kakahaia\", \"kakahaia\", \n . \"kakahaia\", \"kakahaia\", \"kakahaia\", \"kakahaia\", \"kakahaia\", \"kakahaia\", \n . \"kakahaia\", \"kakahaia\", \"kakahaia\", \"kakahaia\", \"kakahaia\", \"kakahaia\", \n . \"kaluaapuhi\", \"kaluaapuhi\", \"kaluaapuhi\", \"kaluaapuhi\", \"kaluaapuhi\", \n . \"kaluaapuhi\", \"kaluaapuhi\", \"kaluaapuhi\", \"kaluaapuhi\", \"kaluaapuhi\", \n . \"kaluaapuhi\", \"kaluaapuhi\", \"kaluaapuhi\", \"kaluaapuhi\", \"kaluaapuhi\", \n . \"kaluaapuhi\", \"kaluaapuhi\", \"kaluaapuhi\", \"kaluaapuhi\", \"kaluaapuhi\", \n . \"kaluaapuhi\", \"kaluaapuhi\", \"kaluaapuhi\", \"kaluaapuhi\", \"kaluaapuhi\", \n . \"kaluaapuhi\", \"kaluaapuhi\", \"kaluaapuhi\", \"kaluaapuhi\", \"kaluaapuhi\", \n . \"kaluaapuhi\", \"kaluaapuhi\", \"kaluaapuhi\", \"kaluaapuhi\", \"kaluaapuhi\", \n . \"kaluaapuhi\", \"kaluaapuhi\", \"kaluaapuhi\", \"kaluaapuhi\", \"kaluaapuhi\", \n . \"kaluaapuhi\", \"kaluaapuhi\", \"kaluaapuhi\", \"kaluaapuhi\", \"kaluaapuhi\", \n . \"kaluaapuhi\", \"kaluaapuhi\", \"kaluaapuhi\", \"kaluaapuhi\", \"kaluaapuhi\", \n . \"kaluaapuhi\", \"kaluaapuhi\", \"kaluaapuhi\", \"kaluaapuhi\", \"kaluaapuhi\", \n . \"kaluaapuhi\", \"kaluaapuhi\", \"kaluaapuhi\", \"kaluaapuhi\", \"kaluaapuhi\", \n . \"kaluaapuhi\", \"kaluaapuhi\", \"kaluaapuhi\", \"kaluaapuhi\", \"kaluaapuhi\", \n . \"kaluaapuhi\", \"kaluaapuhi\", \"kaluaapuhi\", \"kaluaapuhi\", \"kaluaapuhi\", \n . \"kaluaapuhi\", \"kaluaapuhi\", \"kaluaapuhi\", \"kaluaapuhi\", \"kaluaapuhi\", \n . \"kaluaapuhi\", \"kaluaapuhi\", \"kaluaapuhi\", \"kaluaapuhi\", \"kaluaapuhi\", \n . \"kaluaapuhi\", \"kaluaapuhi\", \"kaluaapuhi\", \"kaluaapuhi\", \"kaluaapuhi\", \n . \"kaluaapuhi\", \"kaluaapuhi\", \"kaluaapuhi\", \"kaluaapuhi\", \"kaluaapuhi\", \n . \"kaluaapuhi\", \"kaluaapuhi\", \"kaluaapuhi\", \"kaluaapuhi\", \"kaluaapuhi\", \n . \"kaluaapuhi\", \"kaluaapuhi\", \"kaluaapuhi\", \"kaluaapuhi\", \"kaluaapuhi\", \n . \"kaluaapuhi\", \"kaluaapuhi\", \"kaluaapuhi\", \"kaluaapuhi\", \"kaluaapuhi\", \n . \"kaluaapuhi\", \"kaluaapuhi\", \"kaluaapuhi\", \"kaluaapuhi\", \"kaluaapuhi\", \n . \"kaluaapuhi\", \"kaluaapuhi\", \"kaluaapuhi\", \"kaluaapuhi\", \"kaluaapuhi\", \n . \"kaluaapuhi\", \"kaluaapuhi\", \"kaluaapuhi\", \"kaluaapuhi\", \"kaluaapuhi\", \n . \"kaluaapuhi\", \"kaluaapuhi\", \"kaluaapuhi\", \"kaluaapuhi\", \"kaluaapuhi\", \n . \"kaluaapuhi\", \"kaluaapuhi\", \"kaluaapuhi\", \"kaluaapuhi\", \"kaluaapuhi\", \n . \"kaluaapuhi\", \"kaluaapuhi\", \"kaluaapuhi\", \"kaluaapuhi\", \"kaluaapuhi\", \n . \"kaluaapuhi\", \"kaluaapuhi\", \"kaluaapuhi\", \"kaluaapuhi\", \"kaluaapuhi\", \n . \"kaluaapuhi\", \"kaluaapuhi\", \"kaluaapuhi\", \"kaluaapuhi\", \"kaluaapuhi\", \n . \"kaluaapuhi\", \"kaluaapuhi\", \"kaluaapuhi\", \"kaluaapuhi\", \"kaluaapuhi\", \n . \"kaluaapuhi\", \"kaluaapuhi\", \"kaluaapuhi\", \"kaluaapuhi\", \"kaluaapuhi\", \n . \"kaluaapuhi\", \"kaluaapuhi\", \"kaluaapuhi\", \"kaluaapuhi\", \"kaluaapuhi\", \n . \"kaluaapuhi\", \"kaluaapuhi\", \"kaluaapuhi\", \"kaluaapuhi\", \"kaluaapuhi\", \n . \"kaluaapuhi\", \"kaluaapuhi\", \"kaluaapuhi\", \"kaluaapuhi\", \"kaluaapuhi\", \n . \"kaluaapuhi\", \"kaluaapuhi\", \"kaluaapuhi\", \"kaluaapuhi\", \"kaluaapuhi\", \n . \"kaluaapuhi\", \"kaluaapuhi\", \"kaluaapuhi\", \"kaluaapuhi\", \"kaluaapuhi\", \n . \"kaluaapuhi\", \"kaluaapuhi\", \"kaluaapuhi\", \"kaluaapuhi\", \"kaluaapuhi\", \n . \"kaluaapuhi\", \"kaluaapuhi\", \"kaluaapuhi\", \"kaluaapuhi\", \"kaluaapuhi\", \n . \"kaluaapuhi\", \"kaluaapuhi\", \"kaluaapuhi\", \"kaluaapuhi\", \"kaluaapuhi\", \n . \"kaluaapuhi\", \"kaluaapuhi\", \"kaluaapuhi\", \"kaluaapuhi\", \"kaluaapuhi\", \n . \"kaluaapuhi\", \"kaluaapuhi\", \"kaluaapuhi\", \"kaluaapuhi\", \"kaluaapuhi\", \n . \"kaluaapuhi\", \"kaluaapuhi\", \"kaluaapuhi\", \"kaluaapuhi\", \"kaluaapuhi\", \n . \"kaluaapuhi\", \"kaluaapuhi\", \"kaluaapuhi\", \"kaluaapuhi\", \"kaluaapuhi\", \n . \"kaluaapuhi\", \"kaluaapuhi\", \"kaluaapuhi\", \"kaluaapuhi\", \"kaluaapuhi\", \n . \"kaluaapuhi\", \"kaluaapuhi\", \"kaluaapuhi\", \"kaluaapuhi\", \"kaluaapuhi\", \n . \"kaluaapuhi\", \"kaluaapuhi\", \"kaluaapuhi\", \"kaluaapuhi\", \"kaluaapuhi\", \n . \"kaluaapuhi\", \"kaluaapuhi\", \"kaluaapuhi\", \"kaluaapuhi\", \"kaluaapuhi\", \n . \"kaluaapuhi\", \"kaluaapuhi\", \"kaluaapuhi\", \"kaluaapuhi\", \"kaluaapuhi\", \n . \"kaluaapuhi\", \"kaluaapuhi\", \"kaluaapuhi\", \"kaluaapuhi\", \"kaluaapuhi\", \n . \"kaluaapuhi\", \"kaluaapuhi\", \"kaluaapuhi\", \"kaluaapuhi\", \"kaluaapuhi\", \n . \"kaluaapuhi\", \"kaluaapuhi\", \"kaluaapuhi\", \"kaluaapuhi\", \"kaluaapuhi\", \n . \"kaluaapuhi\", \"kaluaapuhi\", \"kaluaapuhi\", \"kaluaapuhi\", \"kaluaapuhi\", \n . \"kamalo\", \"kamalo\", \"kamalo\", \"kamalo\", \"kamalo\", \"kamalo\", \"kamalo\", \n . \"kamalo\", \"kamalo\", \"kamalo\", \"kamalo\", \"kamalo\", \"kamalo\", \"kamalo\", \n . \"kamalo\", \"kamalo\", \"kamalo\", \"kamalo\", \"kamalo\", \"kamalo\", \"kamalo\", \n . \"kamalo\", \"kamalo\", \"kamalo\", \"kamalo\", \"kamalo\", \"kamalo\", \"kamalo\", \n . \"kamalo\", \"kamalo\", \"kamalo\", \"kamalo\", \"kamalo\", \"kamalo\", \"kamalo\", \n . \"kamalo\", \"kamalo\", \"kamalo\", \"kamalo\", \"kamalo\", \"kamalo\", \"kamalo\", \n . \"kamalo\", \"kamalo\", \"kamalo\", \"kamalo\", \"kamalo\", \"kamalo\", \"kamalo\", \n . \"kamalo\", \"kamalo\", \"kamalo\", \"kamalo\", \"kamalo\", \"kamalo\", \"kamalo\", \n . \"kamalo\", \"kamalo\", \"kamalo\", \"kamalo\", \"kamalo\", \"kamalo\", \"kamalo\", \n . \"kamalo\", \"kamalo\", \"kamalo\", \"kamalo\", \"kamalo\", \"kamalo\", \"kamalo\", \n . \"kamalo\", \"kamalo\", \"kamalo\", \"kamalo\", \"kamalo\", \"kamalo\", \"kamalo\", \n . \"kamalo\", \"kamalo\", \"kamalo\", \"kamalo\", \"kamalo\", \"kamalo\", \"kamalo\", \n . \"kamalo\", \"kamalo\", \"kamalo\", \"kamalo\", \"kamalo\", \"kamalo\", \"kamalo\", \n . \"kamalo\", \"kamalo\", \"kamalo\", \"kamalo\", \"kamalo\", \"kamalo\", \"kamalo\", \n . \"kamalo\", \"kamalo\", \"kamalo\", \"kamalo\", \"kamalo\", \"kamalo\", \"kamalo\", \n . \"kamalo\", \"kamalo\", \"kamalo\", \"kamalo\", \"kamalo\", \"kamalo\", \"kamalo\", \n . \"kamalo\", \"kamalo\", \"kamalo\", \"kamalo\", \"kamalo\", \"kamalo\", \"kamalo\", \n . \"kamalo\", \"kamalo\", \"kamalo\", \"kamalo\", \"kamalo\", \"kamalo\", \"kamalo\", \n . \"kamalo\", \"kamalo\", \"kamalo\", \"kamalo\", \"kamalo\", \"kamalo\", \"kamalo\", \n . \"kamalo\", \"kamalo\", \"kamalo\", \"kamalo\", \"kamalo\", \"kamalo\", \"kamalo\", \n . \"kamalo\", \"kamalo\", \"kamalo\", \"kamalo\", \"kamalo\", \"kamalo\", \"kamalo\", \n . \"kamalo\", \"kamalo\", \"kamalo\", \"kamalo\", \"kamalo\", \"kamalo\", \"kamalo\", \n . \"kamalo\", \"kamalo\", \"kamalo\", \"kamalo\", \"kamalo\", \"kamalo\", \"kamalo\", \n . \"kamalo\", \"kamalo\", \"kamalo\", \"kamalo\", \"kamalo\", \"kamalo\", \"kamalo\", \n . \"kamalo\", \"kamalo\", \"kamalo\", \"kamalo\", \"kamalo\", \"kamalo\", \"kamalo\", \n . \"kamalo\", \"kamalo\", \"kamalo\", \"kamalo\", \"kamalo\", \"kamalo\", \"kamalo\", \n . \"kamalo\", \"kamalo\", \"kamalo\", \"kamalo\", \"kamalo\", \"kamalo\", \"kamalo\", \n . \"kamalo\", \"kamalo\", \"kamalo\", \"kamalo\", \"kamalo\", \"kamalo\", \"kamalo\", \n . \"kamalo\", \"kamalo\", \"kamalo\", \"kamalo\", \"kamalo\", \"kamalo\", \"kamalo\", \n . \"kamalo\", \"kamalo\", \"kamalo\", \"kamalo\", \"kamalo\", \"kamalo\", \"kamalo\", \n . \"kamalo\", \"kamalo\", \"kamalo\", \"kamalo\", \"kamalo\", \"kamalo\", \"kamalo\", \n . \"kamalo\", \"kamalo\", \"kamalo\", \"kamalo\", \"kamalo\", \"kamalo\", \"kamalo\", \n . \"kamalo\", \"kamalo\", \"kamalo\", \"kamalo\", \"kamalo\", \"kamalo\", \"kamalo\", \n . \"kamalo\", \"kamalo\", \"kamalo\", \"kamalo\", \"kamalo\", \"kamalo\", \"kamalo\", \n . \"kamalo\", \"kamalo\", \"kamalo\", \"kamalo\", \"kamalo\", \"kamalo\", \"kamalo\", \n . \"kamalo\", \"kamalo\", \"kamalo\", \"kamalo\", \"kamalo\", \"kamalo\", \"kamalo\", \n . \"kamalo\", \"kamalo\", \"kamalo\", \"kamalo\", \"kamalo\", \"kamalo\", \"kamalo\", \n . \"kamalo\", \"kamalo\", \"kamalo\", \"kamalo\", \"kamalo\", \"kamalo\", \"kamalo\", \n . \"kamalo\", \"kamalo\", \"kamalo\", \"kamalo\", \"kamalo\", \"kamalo\", \"kamalo\", \n . \"kamalo\", \"kamalo\", \"kamalo\", \"kamalo\", \"kamalo\", \"kamalo\", \"kamalo\", \n . \"kamalo\", \"kamalo\", \"kamalo\", \"kamalo\", \"kamalo\", \"kamalo\", \"kamalo\", \n . \"kamalo\", \"kamalo\", \"kamalo\", \"kamalo\", \"kamalo\", \"kamalo\", \"kamalo\", \n . \"kamalo\", \"kamalo\", \"kamalo\", \"kamalo\", \"kamalo\", \"kamalo\", \"kamalo\", \n . \"kamalo\", \"kamalo\", \"kamalo\", \"kamalo\", \"kamalo\", \"kamalo\", \"kamalo\", \n . \"kamalo\", \"kamalo\", \"kamalo\", \"kamalo\", \"kamalo\", \"kamalo\", \"kamalo\", \n . \"kamalo\", \"kamalo\", \"kamalo\", \"kamalo\", \"kamalo\", \"kamalo\", \"kamalo\", \n . \"kamalo\", \"kamalo\", \"kamalo\", \"kamalo\", \"kamalo\", \"kamalo\", \"kamalo\", \n . \"kamalo\", \"kamalo\", \"kamalo\", \"kamalo\", \"kamalo\", \"kamalo\", \"kamalo\", \n . \"kamalo\", \"kamalo\", \"kamalo\", \"kamalo\", \"kamalo\", \"kamalo\", \"kamalo\", \n . \"kamalo\", \"kamalo\", \"kamalo\", \"kamalo\", \"kamalo\", \"kamalo\", \"kamalo\", \n . \"kamalo\", \"kamalo\", \"kamalo\", \"kamalo\", \"kamalo\", \"kamalo\", \"kamalo\", \n . \"kamalo\", \"kamalo\", \"kamalo\", \"kamalo\", \"kamalo\", \"kamalo\", \"kamalo\", \n . \"kamalo\", \"kamalo\", \"kamalo\", \"kamalo\", \"kamalo\", \"kamalo\", \"kamalo\", \n . \"kamalo\", \"kamalo\", \"kamalo\", \"kamalo\", \"kamalo\", \"kamalo\", \"kamalo\", \n . \"kamalo\", \"kamalo\", \"kanaha\", \"kanaha\", \"kanaha\", \"kanaha\", \"kanaha\", \n . \"kanaha\", \"kanaha\", \"kanaha\", \"kanaha\", \"kanaha\", \"kanaha\", \"kanaha\", \n . \"kanaha\", \"kanaha\", \"kanaha\", \"kanaha\", \"kanaha\", \"kanaha\", \"kanaha\", \n . \"kanaha\", \"kanaha\", \"kanaha\", \"kanaha\", \"kanaha\", \"kanaha\", \"kanaha\", \n . \"kanaha\", \"kanaha\", \"kanaha\", \"kanaha\", \"kanaha\", \"kanaha\", \"kanaha\", \n . \"kanaha\", \"kanaha\", \"kanaha\", \"kanaha\", \"kanaha\", \"kanaha\", \"kanaha\", \n . \"kanaha\", \"kanaha\", \"kawainui\", \"kawainui\", \"kawainui\", \"kawainui\", \n . \"kawainui\", \"kawainui\", \"kawainui\", \"kawainui\", \"kawainui\", \"kawainui\", \n . \"kawainui\", \"kawainui\", \"kawainui\", \"kawainui\", \"kawainui\", \"kawainui\", \n . \"kawainui\", \"kawainui\", \"kawainui\", \"kawainui\", \"kawainui\", \"kawainui\", \n . \"kawainui\", \"kawainui\", \"kawainui\", \"kawainui\", \"kawainui\", \"kawainui\", \n . \"kawainui\", \"kawainui\", \"kawainui\", \"kawainui\", \"kawainui\", \"kawainui\", \n . \"kawainui\", \"kawainui\", \"kawainui\", \"kawainui\", \"kawainui\", \"kawainui\", \n . \"kawainui\", \"kawainui\", \"kawainui\", \"kawainui\", \"kawainui\", \"kawainui\", \n . \"kawainui\", \"kawainui\", \"kawainui\", \"kawainui\", \"kawainui\", \"kawainui\", \n . \"kawainui\", \"kawainui\", \"kawainui\", \"kawainui\", \"kawainui\", \"kawainui\", \n . \"kawainui\", \"kawainui\", \"kawainui\", \"kawainui\", \"kawainui\", \"kawainui\", \n . \"kawainui\", \"kawainui\", \"kawainui\", \"kawainui\", \"kawainui\", \"kawainui\", \n . \"kawainui\", \"kawainui\", \"kawainui\", \"kawainui\", \"kawainui\", \"kawainui\", \n . \"kawainui\", \"kawainui\", \"kawainui\", \"kawainui\", \"kawainui\", \"kawainui\", \n . \"kawainui\", \"kawainui\", \"kawainui\", \"kawainui\", \"kawainui\", \"kawainui\", \n . \"kawainui\", \"kawainui\", \"kawainui\", \"kawainui\", \"kawainui\", \"kawainui\", \n . \"kawainui\", \"kawainui\", \"kawainui\", \"kawainui\", \"kawainui\", \"kawainui\", \n . \"kawainui\", \"kawainui\", \"kawainui\", \"kawainui\", \"kawainui\", \"kawainui\", \n . \"kawainui\", \"kawainui\", \"kawainui\", \"kawainui\", \"kawainui\", \"kawainui\", \n . \"kawainui\", \"kawainui\", \"kawainui\", \"kawainui\", \"kawainui\", \"kawainui\", \n . \"kawainui\", \"kawainui\", \"kawainui\", \"kawainui\", \"kawainui\", \"kawainui\", \n . \"kawainui\", \"kawainui\", \"kawainui\", \"kawainui\", \"kawainui\", \"kawainui\", \n . \"kawainui\", \"kawainui\", \"kawainui\", \"kawainui\", \"kawainui\", \"kawainui\", \n . \"kawainui\", \"kawainui\", \"kawainui\", \"kawainui\", \"kawainui\", \"kawainui\", \n . \"kawainui\", \"kawainui\", \"kawainui\", \"kawainui\", \"kawainui\", \"kawainui\", \n . \"kawainui\", \"kawainui\", \"kawainui\", \"kawainui\", \"kawainui\", \"kawainui\", \n . \"kawainui\", \"kawainui\", \"kawainui\", \"kawainui\", \"kawainui\", \"kawainui\", \n . \"kawainui\", \"kawainui\", \"kawainui\", \"kawainui\", \"kawainui\", \"kawainui\", \n . \"kawainui\", \"kawainui\", \"kawainui\", \"kawainui\", \"kawainui\", \"kawainui\", \n . \"kawainui\", \"kawainui\", \"kawainui\", \"kawainui\", \"kawainui\", \"kawainui\", \n . \"kawainui\", \"kawainui\", \"kawainui\", \"kawainui\", \"kawainui\", \"kawainui\", \n . \"kawainui\", \"kawainui\", \"kawainui\", \"kawainui\", \"kawainui\", \"kawainui\", \n . \"kawainui\", \"kawainui\", \"kawainui\", \"kawainui\", \"kawainui\", \"kawainui\", \n . \"kawainui\", \"kawainui\", \"kawainui\", \"kawainui\", \"kawainui\", \"kawainui\", \n . \"kawainui\", \"kawainui\", \"kawainui\", \"kawainui\", \"kawainui\", \"kawainui\", \n . \"kawainui\", \"kawainui\", \"kawainui\", \"kawainui\", \"kawainui\", \"kawainui\", \n . \"kawainui\", \"kawainui\", \"kawainui\", \"kawainui\", \"kawainui\", \"kawainui\", \n . \"kawainui\", \"kawainui\", \"kawainui\", \"kawainui\", \"kawainui\", \"kawainui\", \n . \"kawainui\", \"kawainui\", \"kawainui\", \"kawainui\", \"kawainui\", \"kawainui\", \n . \"kawainui\", \"kawainui\", \"kawainui\", \"kawainui\", \"kawainui\", \"kawainui\", \n . \"kawainui\", \"kawainui\", \"kawainui\", \"kawainui\", \"kawainui\", \"kawainui\", \n . \"kawainui\", \"kawainui\", \"kawainui\", \"kawainui\", \"kawainui\", \"kawainui\", \n . \"kawainui\", \"kawainui\", \"kawainui\", \"kawainui\", \"kawainui\", \"kawainui\", \n . \"kawainui\", \"kawainui\", \"kawainui\", \"kawainui\", \"kawainui\", \"kawainui\", \n . \"kawainui\", \"kawainui\", \"kawainui\", \"kawainui\", \"kawainui\", \"kawainui\", \n . \"kawainui\", \"kawainui\", \"kawainui\", \"kawainui\", \"kawainui\", \"kawainui\", \n . \"kawainui\", \"kawainui\", \"kawainui\", \"kawainui\", \"kawainui\", \"kawainui\", \n . \"kawainui\", \"kawainui\", \"kawainui\", \"kawainui\", \"kawainui\", \"kawainui\", \n . \"kawainui\", \"kawainui\", \"kealia\", \"kealia\", \"kealia\", \"kealia\", \n . \"kealia\", \"kealia\", \"kealia\", \"kealia\", \"kealia\", \"kealia\", \"kealia\", \n . \"kealia\", \"kealia\", \"kealia\", \"kealia\", \"kealia\", \"kealia\", \"kealia\", \n . \"kealia\", \"kealia\", \"kealia\", \"kealia\", \"kealia\", \"kealia\", \"kealia\", \n . \"kealia\", \"kealia\", \"kealia\", \"kealia\", \"kealia\", \"kealia\", \"kealia\", \n . \"kealia\", \"kealia\", \"kealia\", \"kealia\", \"kealia\", \"kealia\", \"kealia\", \n . \"kealia\", \"kealia\", \"kealia\", \"kealia\", \"kealia\", \"kealia\", \"kealia\", \n . \"kealia\", \"kealia\", \"kealia\", \"kealia\", \"kealia\", \"kealia\", \"kealia\", \n . \"kealia\", \"kealia\", \"kealia\", \"kealia\", \"kealia\", \"kealia\", \"kealia\", \n . \"kealia\", \"kealia\", \"kealia\", \"kealia\", \"kealia\", \"kealia\", \"kealia\", \n . \"kealia\", \"kealia\", \"kealia\", \"kealia\", \"kealia\", \"kealia\", \"kealia\", \n . \"kealia\", \"kealia\", \"kealia\", \"kealia\", \"kealia\", \"kealia\", \"kealia\", \n . \"kealia\", \"kealia\", \"kealia\", \"kealia\", \"kealia\", \"kealia\", \"kealia\", \n . \"kealia\", \"kealia\", \"kealia\", \"kealia\", \"kealia\", \"kealia\", \"kealia\", \n . \"kealia\", \"kealia\", \"kealia\", \"kealia\", \"kealia\", \"kealia\", \"kealia\", \n . \"kealia\", \"kealia\", \"kealia\", \"kealia\", \"kealia\", \"kealia\", \"kealia\", \n . \"kealia\", \"kealia\", \"kealia\", \"kealia\", \"kealia\", \"kealia\", \"kealia\", \n . \"kealia\", \"kealia\", \"kealia\", \"kealia\", \"lumahai\", \"lumahai\", \n . \"lumahai\", \"lumahai\", \"lumahai\", \"lumahai\", \"lumahai\", \"lumahai\", \n . \"lumahai\", \"lumahai\", \"lumahai\", \"lumahai\", \"lumahai\", \"lumahai\", \n . \"lumahai\", \"lumahai\", \"lumahai\", \"lumahai\", \"lumahai\", \"lumahai\", \n . \"lumahai\", \"lumahai\", \"lumahai\", \"lumahai\", \"lumahai\", \"lumahai\", \n . \"lumahai\", \"lumahai\", \"lumahai\", \"lumahai\", \"lumahai\", \"lumahai\", \n . \"lumahai\", \"lumahai\", \"lumahai\", \"lumahai\", \"lumahai\", \"lumahai\", \n . \"lumahai\", \"lumahai\", \"lumahai\", \"lumahai\", \"lumahai\", \"lumahai\", \n . \"lumahai\", \"lumahai\", \"lumahai\", \"lumahai\", \"lumahai\", \"lumahai\", \n . \"lumahai\", \"lumahai\", \"lumahai\", \"lumahai\", \"lumahai\", \"lumahai\", \n . \"lumahai\", \"lumahai\", \"lumahai\", \"lumahai\", \"lumahai\", \"lumahai\", \n . \"lumahai\", \"lumahai\", \"lumahai\", \"paukukalo\", \"paukukalo\", \"paukukalo\", \n . \"paukukalo\", \"paukukalo\", \"paukukalo\", \"paukukalo\", \"paukukalo\", \n . \"paukukalo\", \"paukukalo\", \"paukukalo\", \"paukukalo\", \"paukukalo\", \n . \"paukukalo\", \"paukukalo\", \"paukukalo\", \"paukukalo\", \"paukukalo\", \n . \"paukukalo\", \"paukukalo\", \"paukukalo\", \"paukukalo\", \"paukukalo\", \n . \"paukukalo\", \"paukukalo\", \"paukukalo\", \"paukukalo\", \"paukukalo\", \n . \"paukukalo\", \"paukukalo\", \"paukukalo\", \"paukukalo\", \"paukukalo\", \n . \"paukukalo\", \"paukukalo\", \"paukukalo\", \"paukukalo\", \"paukukalo\", \n . \"paukukalo\", \"paukukalo\", \"paukukalo\", \"paukukalo\", \"paukukalo\", \n . \"paukukalo\", \"paukukalo\", \"paukukalo\", \"paukukalo\", \"paukukalo\", \n . \"paukukalo\", \"paukukalo\", \"paukukalo\", \"paukukalo\", \"paukukalo\", \n . \"paukukalo\", \"paukukalo\", \"paukukalo\", \"paukukalo\", \"paukukalo\", \n . \"paukukalo\", \"paukukalo\", \"paukukalo\", \"paukukalo\", \"paukukalo\", \n . \"paukukalo\", \"paukukalo\", \"paukukalo\", \"paukukalo\", \"paukukalo\", \n . \"paukukalo\", \"paukukalo\", \"paukukalo\", \"paukukalo\", \"paukukalo\", \n . \"paukukalo\", \"paukukalo\", \"paukukalo\", \"paukukalo\", \"paukukalo\", \n . \"paukukalo\", \"paukukalo\", \"paukukalo\", \"paukukalo\", \"paukukalo\", \n . \"paukukalo\", \"paukukalo\", \"paukukalo\", \"paukukalo\", \"paukukalo\", \n . \"paukukalo\", \"paukukalo\", \"pearl_harbor\", \"pearl_harbor\", \"pearl_harbor\", \n . \"pearl_harbor\", \"pearl_harbor\", \"pearl_harbor\", \"pearl_harbor\", \n . \"pearl_harbor\", \"pearl_harbor\", \"pearl_harbor\", \"pearl_harbor\", \n . \"pearl_harbor\", \"pearl_harbor\", \"pearl_harbor\", \"pearl_harbor\", \n . \"pearl_harbor\", \"pearl_harbor\", \"pearl_harbor\", \"pearl_harbor\", \n . \"pearl_harbor\", \"pearl_harbor\", \"pearl_harbor\", \"pearl_harbor\", \n . \"pearl_harbor\", \"pearl_harbor\", \"pearl_harbor\", \"pearl_harbor\", \n . \"pearl_harbor\", \"pearl_harbor\", \"pearl_harbor\", \"pearl_harbor\", \n . \"pearl_harbor\", \"pearl_harbor\", \"pearl_harbor\", \"pearl_harbor\", \n . \"pearl_harbor\", \"pearl_harbor\", \"pearl_harbor\", \"pearl_harbor\", \n . \"pearl_harbor\", \"pearl_harbor\", \"pearl_harbor\", \"pearl_harbor\", \n . \"pearl_harbor\", \"pearl_harbor\", \"pearl_harbor\", \"pearl_harbor\", \n . \"pearl_harbor\", \"pearl_harbor\", \"pearl_harbor\", \"pearl_harbor\", \n . \"pearl_harbor\", \"pearl_harbor\", \"pearl_harbor\", \"pearl_harbor\", \n . \"pearl_harbor\", \"pearl_harbor\", \"pearl_harbor\", \"pearl_harbor\", \n . \"pearl_harbor\", \"pearl_harbor\", \"pearl_harbor\", \"pearl_harbor\", \n . \"pearl_harbor\", \"pearl_harbor\", \"pearl_harbor\", \"pearl_harbor\", \n . \"pearl_harbor\", \"pearl_harbor\", \"pearl_harbor\", \"pearl_harbor\", \n . \"pearl_harbor\", \"pearl_harbor\", \"pearl_harbor\", \"pearl_harbor\", \n . \"pearl_harbor\", \"pearl_harbor\", \"pearl_harbor\", \"pearl_harbor\", \n . \"pearl_harbor\", \"pearl_harbor\", \"pearl_harbor\", \"pearl_harbor\", \n . \"pearl_harbor\", \"pearl_harbor\", \"pearl_harbor\", \"pearl_harbor\", \n . \"pearl_harbor\", \"pearl_harbor\", \"pearl_harbor\", \"pearl_harbor\", \n . \"pearl_harbor\", \"pearl_harbor\", \"pearl_harbor\", \"pearl_harbor\", \n . \"pearl_harbor\", \"pearl_harbor\", \"pearl_harbor\", \"pearl_harbor\", \n . \"pearl_harbor\", \"pearl_harbor\", \"pearl_harbor\", \"pearl_harbor\", \n . \"pearl_harbor\", \"pearl_harbor\", \"pearl_harbor\", \"pearl_harbor\", \n . \"pearl_harbor\", \"pearl_harbor\", \"pearl_harbor\", \"pearl_harbor\", \n . \"pearl_harbor\", \"pearl_harbor\", \"pearl_harbor\", \"pearl_harbor\", \n . \"pearl_harbor\", \"pearl_harbor\", \"pearl_harbor\", \"pearl_harbor\", \n . \"pearl_harbor\", \"pearl_harbor\", \"pearl_harbor\", \"pearl_harbor\", \n . \"pearl_harbor\", \"pearl_harbor\", \"pearl_harbor\", \"pearl_harbor\", \n . \"pearl_harbor\", \"pearl_harbor\", \"pearl_harbor\", \"pearl_harbor\", \n . \"pearl_harbor\", \"pearl_harbor\", \"pearl_harbor\", \"pearl_harbor\", \n . \"pearl_harbor\", \"pearl_harbor\", \"pearl_harbor\", \"pearl_harbor\", \n . \"pearl_harbor\", \"pearl_harbor\", \"pearl_harbor\", \"pearl_harbor\", \n . \"pearl_harbor\", \"pearl_harbor\", \"pearl_harbor\", \"pearl_harbor\", \n . \"pearl_harbor\", \"pearl_harbor\", \"pearl_harbor\", \"pearl_harbor\", \n . \"pearl_harbor\", \"pearl_harbor\", \"pearl_harbor\", \"pearl_harbor\", \n . \"pearl_harbor\", \"pearl_harbor\", \"pearl_harbor\", \"pearl_harbor\", \n . \"pearl_harbor\", \"pearl_harbor\", \"pearl_harbor\", \"pearl_harbor\", \n . \"pearl_harbor\", \"pearl_harbor\", \"pearl_harbor\", \"pearl_harbor\", \n . \"pearl_harbor\", \"pearl_harbor\", \"pearl_harbor\", \"pearl_harbor\", \n . \"pearl_harbor\", \"pearl_harbor\", \"pearl_harbor\", \"pearl_harbor\", \n . \"pearl_harbor\", \"pearl_harbor\", \"pearl_harbor\", \"pearl_harbor\", \n . \"pearl_harbor\", \"pearl_harbor\", \"pearl_harbor\", \"pearl_harbor\", \n . \"pearl_harbor\", \"pearl_harbor\", \"pearl_harbor\", \"pearl_harbor\", \n . \"pearl_harbor\", \"pearl_harbor\", \"pearl_harbor\", \"pearl_harbor\", \n . \"pearl_harbor\", \"pearl_harbor\", \"pearl_harbor\", \"pearl_harbor\", \n . \"pearl_harbor\", \"pearl_harbor\", \"pearl_harbor\", \"pearl_harbor\", \n . \"pearl_harbor\", \"pearl_harbor\", \"pearl_harbor\", \"pearl_harbor\", \n . \"pearl_harbor\", \"pearl_harbor\", \"pearl_harbor\", \"pearl_harbor\", \n . \"pearl_harbor\", \"pearl_harbor\", \"pearl_harbor\", \"pearl_harbor\", \n . \"pearl_harbor\", \"pearl_harbor\", \"pearl_harbor\", \"pearl_harbor\", \n . \"pearl_harbor\", \"pearl_harbor\", \"pearl_harbor\", \"pearl_harbor\", \n . \"pearl_harbor\", \"pearl_harbor\", \"pearl_harbor\", \"pearl_harbor\", \n . \"pearl_harbor\", \"pearl_harbor\", \"pearl_harbor\", \"pearl_harbor\", \n . \"pearl_harbor\", \"pearl_harbor\", \"pearl_harbor\", \"pearl_harbor\", \n . \"pearl_harbor\", \"pearl_harbor\", \"pearl_harbor\", \"pearl_harbor\", \n . \"pearl_harbor\", \"pearl_harbor\", \"pearl_harbor\", \"pearl_harbor\", \n . \"pearl_harbor\", \"pearl_harbor\", \"pearl_harbor\", \"pearl_harbor\", \n . \"pearl_harbor\", \"pearl_harbor\", \"pearl_harbor\", \"pearl_harbor\", \n . \"pearl_harbor\", \"pearl_harbor\", \"pearl_harbor\", \"pearl_harbor\", \n . \"pearl_harbor\", \"pearl_harbor\", \"pearl_harbor\", \"pearl_harbor\", \n . \"pearl_harbor\", \"pearl_harbor\", \"pearl_harbor\", \"pearl_harbor\", \n . \"pearl_harbor\", \"pearl_harbor\", \"pearl_harbor\", \"pearl_harbor\", \n . \"pearl_harbor\", \"pearl_harbor\", \"pearl_harbor\", \"pearl_harbor\", \n . \"pearl_harbor\", \"pearl_harbor\", \"pearl_harbor\", \"pearl_harbor\", \n . \"pearl_harbor\", \"pearl_harbor\", \"pearl_harbor\", \"pearl_harbor\", \n . \"pearl_harbor\", \"pearl_harbor\", \"pearl_harbor\", \"pearl_harbor\", \n . \"pearl_harbor\", \"pearl_harbor\", \"pearl_harbor\", \"pearl_harbor\", \n . \"pearl_harbor\", \"pearl_harbor\", \"pearl_harbor\", \"pearl_harbor\", \n . \"pearl_harbor\", \"pearl_harbor\", \"pearl_harbor\", \"pearl_harbor\", \n . \"pearl_harbor\", \"pearl_harbor\", \"pearl_harbor\", \"pearl_harbor\", \n . \"pearl_harbor\", \"pearl_harbor\", \"pearl_harbor\", \"pearl_harbor\", \n . \"pearl_harbor\", \"pearl_harbor\", \"pearl_harbor\", \"pearl_harbor\", \n . \"pearl_harbor\", \"pearl_harbor\", \"pearl_harbor\", \"pearl_harbor\", \n . \"pearl_harbor\", \"pearl_harbor\", \"pearl_harbor\", \"pearl_harbor\", \n . \"pearl_harbor\", \"pearl_harbor\", \"pearl_harbor\", \"pearl_harbor\", \n . \"pearl_harbor\", \"pearl_harbor\", \"pearl_harbor\", \"pearl_harbor\", \n . \"pearl_harbor\", \"pearl_harbor\", \"pearl_harbor\", \"pearl_harbor\", \n . \"pearl_harbor\", \"pearl_harbor\", \"pearl_harbor\", \"pearl_harbor\", \n . \"pearl_harbor\", \"pearl_harbor\", \"pearl_harbor\", \"pearl_harbor\", \n . \"pearl_harbor\", \"pearl_harbor\", \"pearl_harbor\", \"pearl_harbor\", \n . \"pearl_harbor\", \"pearl_harbor\", \"pearl_harbor\", \"pearl_harbor\", \n . \"pearl_harbor\", \"pearl_harbor\", \"pearl_harbor\", \"pearl_harbor\", \n . \"pearl_harbor\", \"pearl_harbor\", \"pearl_harbor\", \"pearl_harbor\", \n . \"pearl_harbor\", \"pearl_harbor\", \"pearl_harbor\", \"pearl_harbor\", \n . \"pearl_harbor\", \"pearl_harbor\", \"pearl_harbor\", \"pearl_harbor\", \n . \"pearl_harbor\", \"pearl_harbor\", \"pearl_harbor\", \"pearl_harbor\", \n . \"pearl_harbor\", \"pearl_harbor\", \"pearl_harbor\", \"pearl_harbor\", \n . \"pearl_harbor\", \"pearl_harbor\", \"pearl_harbor\", \"pearl_harbor\", \n . \"pearl_harbor\", \"pearl_harbor\", \"pearl_harbor\", \"pearl_harbor\", \n . \"pearl_harbor\", \"pearl_harbor\", \"pearl_harbor\", \"pearl_harbor\", \n . \"pearl_harbor\", \"pearl_harbor\", \"pearl_harbor\", \"pearl_harbor\", \n . \"pearl_harbor\", \"pearl_harbor\", \"pearl_harbor\", \"pearl_harbor\", \n . \"pearl_harbor\", \"pearl_harbor\", \"pearl_harbor\", \"pearl_harbor\", \n . \"pearl_harbor\", \"pearl_harbor\", \"pearl_harbor\", \"pearl_harbor\", \n . \"pearl_harbor\", \"pearl_harbor\", \"pearl_harbor\", \"pearl_harbor\", \n . \"pearl_harbor\", \"pearl_harbor\", \"pearl_harbor\", \"pearl_harbor\", \n . \"pearl_harbor\", \"pearl_harbor\", \"pearl_harbor\", \"pearl_harbor\", \n . \"pearl_harbor\", \"pearl_harbor\", \"pearl_harbor\", \"pearl_harbor\", \n . \"pearl_harbor\", \"pearl_harbor\", \"pearl_harbor\", \"pearl_harbor\", \n . \"pearl_harbor\", \"pearl_harbor\", \"pearl_harbor\", \"pearl_harbor\", \n . \"pearl_harbor\", \"pearl_harbor\", \"pearl_harbor\", \"pearl_harbor\", \n . \"pearl_harbor\", \"pearl_harbor\", \"pearl_harbor\", \"pearl_harbor\", \n . \"pearl_harbor\", \"pearl_harbor\", \"pearl_harbor\", \"pearl_harbor\", \n . \"pearl_harbor\", \"pearl_harbor\", \"pearl_harbor\", \"pearl_harbor\", \n . \"pearl_harbor\", \"pearl_harbor\", \"pearl_harbor\", \"pearl_harbor\", \n . \"pearl_harbor\", \"pearl_harbor\", \"pearl_harbor\", \"pearl_harbor\", \n . \"pearl_harbor\", \"pearl_harbor\", \"pearl_harbor\", \"pearl_harbor\", \n . \"pearl_harbor\", \"pearl_harbor\", \"pearl_harbor\", \"pearl_harbor\", \n . \"pearl_harbor\", \"pearl_harbor\", \"pearl_harbor\", \"pearl_harbor\", \n . \"pearl_harbor\", \"pearl_harbor\", \"pearl_harbor\", \"pearl_harbor\", \n . \"pearl_harbor\", \"pearl_harbor\", \"pearl_harbor\", \"pearl_harbor\", \n . \"pearl_harbor\", \"pearl_harbor\", \"pearl_harbor\", \"pearl_harbor\", \n . \"pearl_harbor\", \"pearl_harbor\", \"pearl_harbor\", \"pearl_harbor\", \n . \"pearl_harbor\", \"pearl_harbor\", \"pearl_harbor\", \"pearl_harbor\", \n . \"pearl_harbor\", \"pearl_harbor\", \"pearl_harbor\", \"pearl_harbor\", \n . \"pearl_harbor\", \"pearl_harbor\", \"pearl_harbor\", \"pearl_harbor\", \n . \"pearl_harbor\", \"pearl_harbor\", \"pearl_harbor\", \"pearl_harbor\", \n . \"pearl_harbor\", \"pearl_harbor\", \"pearl_harbor\", \"pearl_harbor\", \n . \"pearl_harbor\", \"pearl_harbor\", \"pearl_harbor\", \"pearl_harbor\", \n . \"pearl_harbor\", \"pearl_harbor\", \"pearl_harbor\", \"pearl_harbor\", \n . \"pearl_harbor\", \"pearl_harbor\", \"pearl_harbor\", \"pearl_harbor\", \n . \"pearl_harbor\", \"pearl_harbor\", \"pearl_harbor\", \"pearl_harbor\", \n . \"pearl_harbor\", \"pearl_harbor\", \"pearl_harbor\", \"pearl_harbor\", \n . \"pearl_harbor\", \"pearl_harbor\", \"pearl_harbor\", \"pearl_harbor\", \n . \"pearl_harbor\", \"pearl_harbor\", \"pearl_harbor\", \"pearl_harbor\", \n . \"pearl_harbor\", \"pearl_harbor\", \"pearl_harbor\", \"pearl_harbor\", \n . \"pearl_harbor\", \"pearl_harbor\", \"pearl_harbor\", \"pearl_harbor\", \n . \"pearl_harbor\", \"pearl_harbor\", \"pearl_harbor\", \"pearl_harbor\", \n . \"pearl_harbor\", \"pearl_harbor\", \"pearl_harbor\", \"pearl_harbor\", \n . \"pearl_harbor\", \"pearl_harbor\", \"pearl_harbor\", \"pearl_harbor\", \n . \"pearl_harbor\", \"pearl_harbor\", \"pearl_harbor\", \"pearl_harbor\", \n . \"pearl_harbor\", \"pearl_harbor\", \"pearl_harbor\", \"pearl_harbor\", \n . \"pearl_harbor\", \"pearl_harbor\", \"pearl_harbor\", \"pearl_harbor\", \n . \"pearl_harbor\", \"pearl_harbor\", \"pearl_harbor\", \"pearl_harbor\", \n . \"pearl_harbor\", \"pearl_harbor\", \"pearl_harbor\", \"pearl_harbor\", \n . \"pearl_harbor\", \"pearl_harbor\", \"pearl_harbor\", \"pearl_harbor\", \n . \"pearl_harbor\", \"pearl_harbor\", \"pearl_harbor\", \"pearl_harbor\", \n . \"pearl_harbor\", \"pearl_harbor\", \"pearl_harbor\", \"pearl_harbor\", \n . \"pearl_harbor\", \"pearl_harbor\", \"pearl_harbor\", \"pearl_harbor\", \n . \"pearl_harbor\", \"pearl_harbor\", \"pearl_harbor\", \"pearl_harbor\", \n . \"pearl_harbor\", \"pearl_harbor\", \"pearl_harbor\", \"pearl_harbor\", \n . \"pearl_harbor\", \"pearl_harbor\", \"pearl_harbor\", \"pearl_harbor\", \n . \"pearl_harbor\", \"pearl_harbor\", \"pearl_harbor\", \"pearl_harbor\", \n . \"pearl_harbor\", \"pearl_harbor\", \"pearl_harbor\", \"pearl_harbor\", \n . \"pearl_harbor\", \"pearl_harbor\", \"pearl_harbor\", \"pearl_harbor\", \n . \"pearl_harbor\", \"pearl_harbor\", \"pearl_harbor\", \"pearl_harbor\", \n . \"pearl_harbor\", \"pearl_harbor\", \"pearl_harbor\", \"pearl_harbor\", \n . \"pearl_harbor\", \"pearl_harbor\", \"pearl_harbor\", \"pearl_harbor\", \n . \"pearl_harbor\", \"pearl_harbor\", \"pearl_harbor\", \"pearl_harbor\", \n . \"pearl_harbor\", \"pearl_harbor\", \"pearl_harbor\", \"pearl_harbor\", \n . \"pearl_harbor\", \"pearl_harbor\", \"pearl_harbor\", \"pearl_harbor\", \n . \"pearl_harbor\", \"waihee\", \"waihee\", \"waihee\", \"waihee\", \"waihee\", \n . \"waihee\", \"waihee\", \"waihee\", \"waihee\", \"waihee\", \"waihee\", \"waihee\", \n . \"waihee\", \"waihee\", \"waihee\", \"waihee\", \"waihee\", \"waihee\", \"waihee\", \n . \"waihee\", \"waihee\", \"waihee\", \"waihee\", \"waihee\", \"waihee\", \"waihee\", \n . \"waihee\", \"waihee\", \"waihee\", \"waihee\", \"wailua_opaekaa\", \"wailua_opaekaa\", \n . \"wailua_opaekaa\", \"wailua_opaekaa\", \"wailua_opaekaa\", \"wailua_opaekaa\", \n . \"wailua_opaekaa\", \"wailua_opaekaa\", \"wailua_opaekaa\", \"wailua_opaekaa\", \n . \"wailua_opaekaa\", \"wailua_opaekaa\", \"wailua_opaekaa\", \"wailua_opaekaa\", \n . \"wailua_opaekaa\", \"wailua_opaekaa\", \"wailua_opaekaa\", \"wailua_opaekaa\", \n . \"wailua_opaekaa\", \"wailua_opaekaa\", \"wailua_opaekaa\", \"wailua_opaekaa\", \n . \"wailua_opaekaa\", \"wailua_opaekaa\", \"wailua_opaekaa\", \"wailua_opaekaa\", \n . \"wailua_opaekaa\", \"wailua_opaekaa\", \"wailua_opaekaa\", \"wailua_opaekaa\", \n . \"wailua_opaekaa\", \"wailua_opaekaa\", \"wailua_opaekaa\", \"wailua_opaekaa\", \n . \"wailua_opaekaa\", \"wailua_opaekaa\", \"wailua_opaekaa\", \"wailua_opaekaa\", \n . \"wailua_opaekaa\", \"wailua_opaekaa\", \"wailua_opaekaa\", \"wailua_opaekaa\", \n . \"wailua_opaekaa\", \"wailua_opaekaa\", \"wailua_opaekaa\", \"wailua_opaekaa\", \n . \"wailua_opaekaa\", \"wailua_opaekaa\", \"wailua_opaekaa\", \"wailua_opaekaa\", \n . \"wailua_opaekaa\", \"wailua_opaekaa\", \"wailua_opaekaa\", \"wailua_opaekaa\", \n . \"wailua_opaekaa\", \"wailua_opaekaa\", \"wailua_opaekaa\", \"wailua_opaekaa\", \n . \"wailua_opaekaa\", \"wailua_opaekaa\", \"wailua_opaekaa\", \"wailua_opaekaa\", \n . \"wailua_opaekaa\", \"wailua_opaekaa\", \"wailua_opaekaa\", \"wailua_opaekaa\", \n . \"wailua_opaekaa\", \"wailua_opaekaa\", \"wailua_opaekaa\", \"wailua_opaekaa\", \n . \"wailua_opaekaa\", \"wailua_opaekaa\", \"wailua_opaekaa\", \"wailua_opaekaa\", \n . \"wailua_opaekaa\", \"wailua_opaekaa\", \"wailua_opaekaa\", \"wailua_opaekaa\", \n . \"wailua_opaekaa\", \"wailua_opaekaa\", \"wailua_opaekaa\", \"wailua_opaekaa\", \n . \"wailua_opaekaa\", \"wailua_opaekaa\", \"wailua_opaekaa\", \"wailua_opaekaa\", \n . \"wailua_opaekaa\", \"wailua_opaekaa\", \"wailua_opaekaa\", \"wailua_opaekaa\"\n . ))",
            "5. structure(NextMethod(), class = c(\"sf\", setdiff(class(x), \"sf\")))",
            "6. NextMethod()",
            "7. `[[<-.data.frame`(`*tmp*`, i, value = c(\"anahola\", \"anahola\", \n . \"anahola\", \"anahola\", \"anahola\", \"anahola\", \"anahola\", \"anahola\", \n . \"anahola\", \"anahola\", \"anahola\", \"anahola\", \"anahola\", \"anahola\", \n . \"anahola\", \"anahola\", \"anahola\", \"anahola\", \"anahola\", \"anahola\", \n . \"anahola\", \"anahola\", \"anahola\", \"anahola\", \"anahola\", \"anahola\", \n . \"anahola\", \"anahola\", \"anahola\", \"anahola\", \"anahola\", \"anahola\", \n . \"anahola\", \"anahola\", \"anahola\", \"anahola\", \"anahola\", \"anahola\", \n . \"anahola\", \"anahola\", \"anahola\", \"anahola\", \"anahola\", \"anahola\", \n . \"anahola\", \"anahola\", \"anahola\", \"anahola\", \"haleiwa\", \"haleiwa\", \n . \"haleiwa\", \"haleiwa\", \"haleiwa\", \"haleiwa\", \"haleiwa\", \"haleiwa\", \n . \"haleiwa\", \"haleiwa\", \"haleiwa\", \"haleiwa\", \"haleiwa\", \"haleiwa\", \n . \"haleiwa\", \"haleiwa\", \"haleiwa\", \"haleiwa\", \"haleiwa\", \"haleiwa\", \n . \"haleiwa\", \"haleiwa\", \"haleiwa\", \"haleiwa\", \"haleiwa\", \"haleiwa\", \n . \"haleiwa\", \"haleiwa\", \"haleiwa\", \"haleiwa\", \"haleiwa\", \"haleiwa\", \n . \"haleiwa\", \"haleiwa\", \"haleiwa\", \"haleiwa\", \"haleiwa\", \"haleiwa\", \n . \"haleiwa\", \"haleiwa\", \"haleiwa\", \"haleiwa\", \"haleiwa\", \"haleiwa\", \n . \"haleiwa\", \"haleiwa\", \"haleiwa\", \"haleiwa\", \"haleiwa\", \"haleiwa\", \n . \"haleiwa\", \"haleiwa\", \"haleiwa\", \"haleiwa\", \"haleiwa\", \"haleiwa\", \n . \"haleiwa\", \"haleiwa\", \"haleiwa\", \"haleiwa\", \"haleiwa\", \"haleiwa\", \n . \"haleiwa\", \"haleiwa\", \"haleiwa\", \"haleiwa\", \"haleiwa\", \"haleiwa\", \n . \"haleiwa\", \"haleiwa\", \"haleiwa\", \"haleiwa\", \"haleiwa\", \"haleiwa\", \n . \"haleiwa\", \"haleiwa\", \"haleiwa\", \"haleiwa\", \"haleiwa\", \"haleiwa\", \n . \"haleiwa\", \"haleiwa\", \"haleiwa\", \"haleiwa\", \"haleiwa\", \"haleiwa\", \n . \"haleiwa\", \"haleiwa\", \"haleiwa\", \"haleiwa\", \"haleiwa\", \"haleiwa\", \n . \"haleiwa\", \"haleiwa\", \"haleiwa\", \"haleiwa\", \"haleiwa\", \"haleiwa\", \n . \"haleiwa\", \"haleiwa\", \"haleiwa\", \"haleiwa\", \"haleiwa\", \"haleiwa\", \n . \"haleiwa\", \"haleiwa\", \"haleiwa\", \"haleiwa\", \"haleiwa\", \"haleiwa\", \n . \"haleiwa\", \"haleiwa\", \"haleiwa\", \"haleiwa\", \"haleiwa\", \"haleiwa\", \n . \"haleiwa\", \"haleiwa\", \"haleiwa\", \"haleiwa\", \"haleiwa\", \"haleiwa\", \n . \"haleiwa\", \"haleiwa\", \"haleiwa\", \"haleiwa\", \"haleiwa\", \"haleiwa\", \n . \"haleiwa\", \"haleiwa\", \"haleiwa\", \"haleiwa\", \"haleiwa\", \"haleiwa\", \n . \"haleiwa\", \"haleiwa\", \"haleiwa\", \"haleiwa\", \"haleiwa\", \"haleiwa\", \n . \"haleiwa\", \"haleiwa\", \"haleiwa\", \"haleiwa\", \"haleiwa\", \"haleiwa\", \n . \"haleiwa\", \"haleiwa\", \"haleiwa\", \"haleiwa\", \"haleiwa\", \"haleiwa\", \n . \"haleiwa\", \"haleiwa\", \"haleiwa\", \"haleiwa\", \"haleiwa\", \"haleiwa\", \n . \"haleiwa\", \"haleiwa\", \"haleiwa\", \"haleiwa\", \"haleiwa\", \"haleiwa\", \n . \"haleiwa\", \"haleiwa\", \"haleiwa\", \"haleiwa\", \"haleiwa\", \"haleiwa\", \n . \"haleiwa\", \"haleiwa\", \"haleiwa\", \"haleiwa\", \"haleiwa\", \"haleiwa\", \n . \"haleiwa\", \"haleiwa\", \"haleiwa\", \"haleiwa\", \"haleiwa\", \"haleiwa\", \n . \"haleiwa\", \"haleiwa\", \"haleiwa\", \"haleiwa\", \"haleiwa\", \"haleiwa\", \n . \"haleiwa\", \"haleiwa\", \"haleiwa\", \"haleiwa\", \"haleiwa\", \"haleiwa\", \n . \"haleiwa\", \"haleiwa\", \"haleiwa\", \"haleiwa\", \"haleiwa\", \"haleiwa\", \n . \"haleiwa\", \"haleiwa\", \"haleiwa\", \"haleiwa\", \"haleiwa\", \"haleiwa\", \n . \"haleiwa\", \"haleiwa\", \"haleiwa\", \"haleiwa\", \"haleiwa\", \"haleiwa\", \n . \"haleiwa\", \"haleiwa\", \"haleiwa\", \"haleiwa\", \"haleiwa\", \"haleiwa\", \n . \"haleiwa\", \"haleiwa\", \"haleiwa\", \"haleiwa\", \"haleiwa\", \"haleiwa\", \n . \"haleiwa\", \"haleiwa\", \"haleiwa\", \"haleiwa\", \"haleiwa\", \"haleiwa\", \n . \"haleiwa\", \"haleiwa\", \"haleiwa\", \"haleiwa\", \"haleiwa\", \"haleiwa\", \n . \"haleiwa\", \"haleiwa\", \"haleiwa\", \"haleiwa\", \"haleiwa\", \"haleiwa\", \n . \"haleiwa\", \"haleiwa\", \"haleiwa\", \"haleiwa\", \"haleiwa\", \"haleiwa\", \n . \"haleiwa\", \"haleiwa\", \"haleiwa\", \"haleiwa\", \"haleiwa\", \"haleiwa\", \n . \"haleiwa\", \"haleiwa\", \"haleiwa\", \"haleiwa\", \"haleiwa\", \"haleiwa\", \n . \"haleiwa\", \"haleiwa\", \"haleiwa\", \"haleiwa\", \"haleiwa\", \"haleiwa\", \n . \"haleiwa\", \"haleiwa\", \"haleiwa\", \"haleiwa\", \"haleiwa\", \"haleiwa\", \n . \"haleiwa\", \"haleiwa\", \"haleiwa\", \"haleiwa\", \"haleiwa\", \"haleiwa\", \n . \"haleiwa\", \"haleiwa\", \"haleiwa\", \"haleiwa\", \"haleiwa\", \"haleiwa\", \n . \"haleiwa\", \"haleiwa\", \"haleiwa\", \"haleiwa\", \"haleiwa\", \"haleiwa\", \n . \"haleiwa\", \"haleiwa\", \"haleiwa\", \"haleiwa\", \"haleiwa\", \"haleiwa\", \n . \"haleiwa\", \"haleiwa\", \"haleiwa\", \"haleiwa\", \"hanalei\", \"hanalei\", \n . \"hanalei\", \"hanalei\", \"hanalei\", \"hanalei\", \"hanalei\", \"hanalei\", \n . \"hanalei\", \"hanalei\", \"hanalei\", \"hanalei\", \"hanalei\", \"hanalei\", \n . \"hanalei\", \"hanalei\", \"hanalei\", \"hanalei\", \"hanalei\", \"hanalei\", \n . \"hanalei\", \"hanalei\", \"hanalei\", \"hanalei\", \"hanalei\", \"hanalei\", \n . \"hanalei\", \"hanalei\", \"hanalei\", \"hanalei\", \"hanalei\", \"hanalei\", \n . \"hanalei\", \"hanalei\", \"hanalei\", \"hanalei\", \"hanalei\", \"hanalei\", \n . \"hanalei\", \"hanalei\", \"hanalei\", \"hanalei\", \"hanalei\", \"hanalei\", \n . \"hanalei\", \"hanalei\", \"hanalei\", \"hanalei\", \"hanalei\", \"hanalei\", \n . \"hanalei\", \"hanalei\", \"hanalei\", \"hanalei\", \"hanalei\", \"hanalei\", \n . \"hanalei\", \"hanalei\", \"hanalei\", \"hanalei\", \"hanalei\", \"hanalei\", \n . \"hanalei\", \"hanalei\", \"hanalei\", \"hanalei\", \"hanalei\", \"hanalei\", \n . \"hanalei\", \"hanalei\", \"hanalei\", \"hanalei\", \"hanalei\", \"hanalei\", \n . \"hanalei\", \"hanalei\", \"hanalei\", \"hanalei\", \"hanalei\", \"hanalei\", \n . \"hanalei\", \"hanalei\", \"hanalei\", \"hanalei\", \"hanalei\", \"hanalei\", \n . \"hanalei\", \"hanalei\", \"hanalei\", \"hanalei\", \"hanalei\", \"hanalei\", \n . \"hanalei\", \"hanalei\", \"hanalei\", \"hanalei\", \"hanalei\", \"hanalei\", \n . \"hanalei\", \"hanalei\", \"hanalei\", \"hanalei\", \"hanalei\", \"hanalei\", \n . \"hanalei\", \"hanalei\", \"hanalei\", \"hanalei\", \"hanalei\", \"hanalei\", \n . \"hanalei\", \"hanalei\", \"hanalei\", \"hanalei\", \"hanalei\", \"hanalei\", \n . \"hanalei\", \"hanalei\", \"hanalei\", \"hanalei\", \"hanalei\", \"hanalei\", \n . \"hanalei\", \"hanalei\", \"hanalei\", \"hanalei\", \"hanalei\", \"hanalei\", \n . \"hanalei\", \"hanalei\", \"hanalei\", \"hanalei\", \"hanalei\", \"hanalei\", \n . \"hanalei\", \"hanalei\", \"hanalei\", \"hanalei\", \"hanalei\", \"hanalei\", \n . \"hanalei\", \"hanalei\", \"hanalei\", \"hanalei\", \"hanalei\", \"hanalei\", \n . \"hanalei\", \"hanalei\", \"hanalei\", \"hanalei\", \"hanalei\", \"hanalei\", \n . \"hanalei\", \"hanalei\", \"hanalei\", \"hanalei\", \"hanalei\", \"hanalei\", \n . \"hanalei\", \"hanalei\", \"hanalei\", \"hanalei\", \"hanalei\", \"hanalei\", \n . \"hanalei\", \"hanalei\", \"hanalei\", \"hanalei\", \"hanalei\", \"hanalei\", \n . \"hanalei\", \"hanalei\", \"hanalei\", \"hanalei\", \"hanalei\", \"hanalei\", \n . \"hanalei\", \"hanalei\", \"hanalei\", \"hanalei\", \"hanalei\", \"hanalei\", \n . \"hanalei\", \"hanalei\", \"hanalei\", \"hanalei\", \"hanalei\", \"hanalei\", \n . \"hanalei\", \"hanalei\", \"hanalei\", \"hanalei\", \"hanalei\", \"hanalei\", \n . \"hanalei\", \"hanalei\", \"hanalei\", \"hanalei\", \"hanalei\", \"hanalei\", \n . \"hanalei\", \"hanalei\", \"hanalei\", \"hanalei\", \"hanalei\", \"hanalei\", \n . \"hanalei\", \"hanalei\", \"hanalei\", \"hanalei\", \"hanalei\", \"hanalei\", \n . \"hanalei\", \"hanalei\", \"hanalei\", \"hanalei\", \"hanalei\", \"hanalei\", \n . \"hanalei\", \"hanalei\", \"hanalei\", \"hanalei\", \"hanalei\", \"hanalei\", \n . \"hanalei\", \"hanalei\", \"hanalei\", \"hanalei\", \"hanalei\", \"hanalei\", \n . \"hanalei\", \"hanalei\", \"hanalei\", \"hanalei\", \"hanalei\", \"hanalei\", \n . \"hanalei\", \"hanalei\", \"hanalei\", \"hanalei\", \"hanalei\", \"hanalei\", \n . \"hanalei\", \"hanalei\", \"hanalei\", \"hanalei\", \"hanalei\", \"hanalei\", \n . \"hanalei\", \"hanalei\", \"hanalei\", \"hanalei\", \"hanalei\", \"hanalei\", \n . \"hanalei\", \"hanalei\", \"hanalei\", \"hanalei\", \"hanalei\", \"hanalei\", \n . \"hanalei\", \"hanalei\", \"hanalei\", \"hanalei\", \"hanalei\", \"hanalei\", \n . \"hanalei\", \"hanalei\", \"hanalei\", \"hanalei\", \"hanalei\", \"hanalei\", \n . \"hanalei\", \"hanalei\", \"hanalei\", \"hanalei\", \"hanalei\", \"hanalei\", \n . \"hanalei\", \"hanalei\", \"hanalei\", \"hanalei\", \"hanalei\", \"hanalei\", \n . \"hanalei\", \"huleia\", \"huleia\", \"huleia\", \"huleia\", \"huleia\", \n . \"huleia\", \"huleia\", \"huleia\", \"huleia\", \"huleia\", \"huleia\", \"huleia\", \n . \"huleia\", \"huleia\", \"huleia\", \"huleia\", \"huleia\", \"huleia\", \"huleia\", \n . \"huleia\", \"huleia\", \"huleia\", \"huleia\", \"huleia\", \"huleia\", \"huleia\", \n . \"huleia\", \"huleia\", \"huleia\", \"huleia\", \"huleia\", \"huleia\", \"huleia\", \n . \"huleia\", \"huleia\", \"huleia\", \"huleia\", \"huleia\", \"huleia\", \"huleia\", \n . \"huleia\", \"huleia\", \"huleia\", \"huleia\", \"huleia\", \"huleia\", \"huleia\", \n . \"huleia\", \"huleia\", \"huleia\", \"huleia\", \"huleia\", \"huleia\", \"huleia\", \n . \"huleia\", \"huleia\", \"huleia\", \"huleia\", \"huleia\", \"huleia\", \"huleia\", \n . \"huleia\", \"huleia\", \"huleia\", \"huleia\", \"huleia\", \"huleia\", \"huleia\", \n . \"huleia\", \"huleia\", \"huleia\", \"huleia\", \"huleia\", \"huleia\", \"huleia\", \n . \"huleia\", \"huleia\", \"kahuku\", \"kahuku\", \"kahuku\", \"kahuku\", \"kahuku\", \n . \"kahuku\", \"kahuku\", \"kahuku\", \"kahuku\", \"kahuku\", \"kahuku\", \"kahuku\", \n . \"kahuku\", \"kahuku\", \"kahuku\", \"kahuku\", \"kahuku\", \"kahuku\", \"kahuku\", \n . \"kahuku\", \"kahuku\", \"kahuku\", \"kahuku\", \"kahuku\", \"kahuku\", \"kahuku\", \n . \"kahuku\", \"kahuku\", \"kahuku\", \"kahuku\", \"kahuku\", \"kahuku\", \"kahuku\", \n . \"kahuku\", \"kahuku\", \"kahuku\", \"kahuku\", \"kahuku\", \"kahuku\", \"kahuku\", \n . \"kahuku\", \"kahuku\", \"kahuku\", \"kahuku\", \"kahuku\", \"kahuku\", \"kahuku\", \n . \"kahuku\", \"kahuku\", \"kahuku\", \"kahuku\", \"kahuku\", \"kahuku\", \"kahuku\", \n . \"kahuku\", \"kahuku\", \"kahuku\", \"kahuku\", \"kahuku\", \"kahuku\", \"kahuku\", \n . \"kahuku\", \"kahuku\", \"kahuku\", \"kahuku\", \"kahuku\", \"kahuku\", \"kahuku\", \n . \"kahuku\", \"kahuku\", \"kahuku\", \"kahuku\", \"kahuku\", \"kahuku\", \"kahuku\", \n . \"kahuku\", \"kahuku\", \"kahuku\", \"kahuku\", \"kahuku\", \"kahuku\", \"kahuku\", \n . \"kahuku\", \"kahuku\", \"kahuku\", \"kahuku\", \"kahuku\", \"kahuku\", \"kahuku\", \n . \"kahuku\", \"kahuku\", \"kahuku\", \"kahuku\", \"kahuku\", \"kahuku\", \"kahuku\", \n . \"kahuku\", \"kahuku\", \"kahuku\", \"kahuku\", \"kahuku\", \"kahuku\", \"kahuku\", \n . \"kahuku\", \"kahuku\", \"kahuku\", \"kahuku\", \"kahuku\", \"kahuku\", \"kahuku\", \n . \"kahuku\", \"kahuku\", \"kahuku\", \"kahuku\", \"kahuku\", \"kahuku\", \"kahuku\", \n . \"kahuku\", \"kahuku\", \"kahuku\", \"kahuku\", \"kahuku\", \"kahuku\", \"kahuku\", \n . \"kahuku\", \"kahuku\", \"kahuku\", \"kahuku\", \"kahuku\", \"kahuku\", \"kahuku\", \n . \"kahuku\", \"kahuku\", \"kahuku\", \"kahuku\", \"kahuku\", \"kahuku\", \"kahuku\", \n . \"kahuku\", \"kahuku\", \"kahuku\", \"kahuku\", \"kahuku\", \"kahuku\", \"kahuku\", \n . \"kahuku\", \"kahuku\", \"kahuku\", \"kahuku\", \"kahuku\", \"kahuku\", \"kahuku\", \n . \"kahuku\", \"kahuku\", \"kahuku\", \"kahuku\", \"kahuku\", \"kahuku\", \"kahuku\", \n . \"kahuku\", \"kahuku\", \"kahuku\", \"kahuku\", \"kahuku\", \"kahuku\", \"kahuku\", \n . \"kahuku\", \"kahuku\", \"kahuku\", \"kahuku\", \"kahuku\", \"kahuku\", \"kahuku\", \n . \"kahuku\", \"kahuku\", \"kahuku\", \"kahuku\", \"kahuku\", \"kahuku\", \"kahuku\", \n . \"kahuku\", \"kahuku\", \"kahuku\", \"kahuku\", \"kahuku\", \"kahuku\", \"kahuku\", \n . \"kahuku\", \"kahuku\", \"kahuku\", \"kahuku\", \"kahuku\", \"kahuku\", \"kahuku\", \n . \"kahuku\", \"kahuku\", \"kahuku\", \"kahuku\", \"kahuku\", \"kahuku\", \"kahuku\", \n . \"kahuku\", \"kahuku\", \"kahuku\", \"kahuku\", \"kahuku\", \"kahuku\", \"kahuku\", \n . \"kahuku\", \"kahuku\", \"kahuku\", \"kahuku\", \"kahuku\", \"kahuku\", \"kahuku\", \n . \"kahuku\", \"kakahaia\", \"kakahaia\", \"kakahaia\", \"kakahaia\", \"kakahaia\", \n . \"kakahaia\", \"kakahaia\", \"kakahaia\", \"kakahaia\", \"kakahaia\", \"kakahaia\", \n . \"kakahaia\", \"kakahaia\", \"kakahaia\", \"kakahaia\", \"kakahaia\", \"kakahaia\", \n . \"kakahaia\", \"kakahaia\", \"kakahaia\", \"kakahaia\", \"kakahaia\", \"kakahaia\", \n . \"kakahaia\", \"kakahaia\", \"kakahaia\", \"kakahaia\", \"kakahaia\", \"kakahaia\", \n . \"kakahaia\", \"kakahaia\", \"kakahaia\", \"kakahaia\", \"kakahaia\", \"kakahaia\", \n . \"kakahaia\", \"kakahaia\", \"kakahaia\", \"kakahaia\", \"kakahaia\", \"kakahaia\", \n . \"kakahaia\", \"kakahaia\", \"kakahaia\", \"kakahaia\", \"kakahaia\", \"kakahaia\", \n . \"kakahaia\", \"kakahaia\", \"kakahaia\", \"kakahaia\", \"kakahaia\", \"kakahaia\", \n . \"kakahaia\", \"kakahaia\", \"kakahaia\", \"kakahaia\", \"kakahaia\", \"kakahaia\", \n . \"kakahaia\", \"kakahaia\", \"kakahaia\", \"kakahaia\", \"kakahaia\", \"kakahaia\", \n . \"kakahaia\", \"kakahaia\", \"kakahaia\", \"kakahaia\", \"kakahaia\", \"kakahaia\", \n . \"kakahaia\", \"kakahaia\", \"kakahaia\", \"kakahaia\", \"kakahaia\", \"kakahaia\", \n . \"kakahaia\", \"kakahaia\", \"kakahaia\", \"kakahaia\", \"kakahaia\", \"kakahaia\", \n . \"kakahaia\", \"kakahaia\", \"kakahaia\", \"kakahaia\", \"kakahaia\", \"kakahaia\", \n . \"kakahaia\", \"kakahaia\", \"kakahaia\", \"kakahaia\", \"kakahaia\", \"kakahaia\", \n . \"kakahaia\", \"kakahaia\", \"kakahaia\", \"kakahaia\", \"kakahaia\", \"kakahaia\", \n . \"kakahaia\", \"kakahaia\", \"kakahaia\", \"kakahaia\", \"kakahaia\", \"kakahaia\", \n . \"kakahaia\", \"kakahaia\", \"kakahaia\", \"kakahaia\", \"kakahaia\", \"kakahaia\", \n . \"kakahaia\", \"kakahaia\", \"kakahaia\", \"kakahaia\", \"kakahaia\", \"kakahaia\", \n . \"kakahaia\", \"kakahaia\", \"kakahaia\", \"kakahaia\", \"kakahaia\", \"kakahaia\", \n . \"kakahaia\", \"kakahaia\", \"kakahaia\", \"kakahaia\", \"kakahaia\", \"kakahaia\", \n . \"kakahaia\", \"kakahaia\", \"kakahaia\", \"kakahaia\", \"kakahaia\", \"kakahaia\", \n . \"kakahaia\", \"kakahaia\", \"kakahaia\", \"kakahaia\", \"kakahaia\", \"kakahaia\", \n . \"kakahaia\", \"kakahaia\", \"kakahaia\", \"kakahaia\", \"kakahaia\", \"kakahaia\", \n . \"kakahaia\", \"kakahaia\", \"kakahaia\", \"kakahaia\", \"kakahaia\", \"kakahaia\", \n . \"kakahaia\", \"kakahaia\", \"kakahaia\", \"kakahaia\", \"kakahaia\", \"kakahaia\", \n . \"kakahaia\", \"kakahaia\", \"kakahaia\", \"kakahaia\", \"kakahaia\", \"kakahaia\", \n . \"kakahaia\", \"kakahaia\", \"kakahaia\", \"kakahaia\", \"kakahaia\", \"kakahaia\", \n . \"kakahaia\", \"kakahaia\", \"kakahaia\", \"kakahaia\", \"kakahaia\", \"kakahaia\", \n . \"kakahaia\", \"kakahaia\", \"kakahaia\", \"kakahaia\", \"kakahaia\", \"kakahaia\", \n . \"kakahaia\", \"kakahaia\", \"kakahaia\", \"kakahaia\", \"kakahaia\", \"kakahaia\", \n . \"kakahaia\", \"kakahaia\", \"kakahaia\", \"kakahaia\", \"kakahaia\", \"kakahaia\", \n . \"kakahaia\", \"kakahaia\", \"kakahaia\", \"kakahaia\", \"kakahaia\", \"kakahaia\", \n . \"kakahaia\", \"kakahaia\", \"kakahaia\", \"kakahaia\", \"kakahaia\", \"kakahaia\", \n . \"kakahaia\", \"kakahaia\", \"kakahaia\", \"kakahaia\", \"kakahaia\", \"kakahaia\", \n . \"kakahaia\", \"kakahaia\", \"kakahaia\", \"kakahaia\", \"kakahaia\", \"kakahaia\", \n . \"kakahaia\", \"kakahaia\", \"kakahaia\", \"kakahaia\", \"kakahaia\", \"kakahaia\", \n . \"kakahaia\", \"kakahaia\", \"kakahaia\", \"kakahaia\", \"kakahaia\", \"kakahaia\", \n . \"kakahaia\", \"kakahaia\", \"kakahaia\", \"kakahaia\", \"kakahaia\", \"kakahaia\", \n . \"kakahaia\", \"kakahaia\", \"kakahaia\", \"kakahaia\", \"kakahaia\", \"kakahaia\", \n . \"kakahaia\", \"kakahaia\", \"kakahaia\", \"kakahaia\", \"kakahaia\", \"kakahaia\", \n . \"kakahaia\", \"kakahaia\", \"kakahaia\", \"kakahaia\", \"kakahaia\", \"kakahaia\", \n . \"kakahaia\", \"kakahaia\", \"kakahaia\", \"kakahaia\", \"kakahaia\", \"kakahaia\", \n . \"kakahaia\", \"kakahaia\", \"kakahaia\", \"kakahaia\", \"kakahaia\", \"kakahaia\", \n . \"kakahaia\", \"kakahaia\", \"kakahaia\", \"kakahaia\", \"kakahaia\", \"kakahaia\", \n . \"kakahaia\", \"kakahaia\", \"kakahaia\", \"kakahaia\", \"kakahaia\", \"kakahaia\", \n . \"kakahaia\", \"kakahaia\", \"kakahaia\", \"kakahaia\", \"kakahaia\", \"kakahaia\", \n . \"kakahaia\", \"kakahaia\", \"kakahaia\", \"kakahaia\", \"kakahaia\", \"kakahaia\", \n . \"kakahaia\", \"kakahaia\", \"kakahaia\", \"kakahaia\", \"kakahaia\", \"kakahaia\", \n . \"kakahaia\", \"kakahaia\", \"kakahaia\", \"kakahaia\", \"kakahaia\", \"kakahaia\", \n . \"kakahaia\", \"kakahaia\", \"kakahaia\", \"kakahaia\", \"kakahaia\", \"kakahaia\", \n . \"kakahaia\", \"kakahaia\", \"kakahaia\", \"kakahaia\", \"kakahaia\", \"kakahaia\", \n . \"kakahaia\", \"kakahaia\", \"kakahaia\", \"kakahaia\", \"kakahaia\", \"kakahaia\", \n . \"kakahaia\", \"kakahaia\", \"kakahaia\", \"kakahaia\", \"kakahaia\", \"kakahaia\", \n . \"kakahaia\", \"kakahaia\", \"kakahaia\", \"kakahaia\", \"kakahaia\", \"kakahaia\", \n . \"kakahaia\", \"kakahaia\", \"kakahaia\", \"kakahaia\", \"kakahaia\", \"kakahaia\", \n . \"kakahaia\", \"kakahaia\", \"kakahaia\", \"kakahaia\", \"kakahaia\", \"kakahaia\", \n . \"kakahaia\", \"kakahaia\", \"kakahaia\", \"kakahaia\", \"kakahaia\", \"kakahaia\", \n . \"kakahaia\", \"kakahaia\", \"kakahaia\", \"kakahaia\", \"kakahaia\", \"kakahaia\", \n . \"kakahaia\", \"kakahaia\", \"kakahaia\", \"kakahaia\", \"kakahaia\", \"kakahaia\", \n . \"kakahaia\", \"kakahaia\", \"kakahaia\", \"kakahaia\", \"kakahaia\", \"kakahaia\", \n . \"kakahaia\", \"kakahaia\", \"kakahaia\", \"kakahaia\", \"kakahaia\", \"kakahaia\", \n . \"kakahaia\", \"kakahaia\", \"kakahaia\", \"kakahaia\", \"kakahaia\", \"kakahaia\", \n . \"kakahaia\", \"kakahaia\", \"kaluaapuhi\", \"kaluaapuhi\", \"kaluaapuhi\", \n . \"kaluaapuhi\", \"kaluaapuhi\", \"kaluaapuhi\", \"kaluaapuhi\", \"kaluaapuhi\", \n . \"kaluaapuhi\", \"kaluaapuhi\", \"kaluaapuhi\", \"kaluaapuhi\", \"kaluaapuhi\", \n . \"kaluaapuhi\", \"kaluaapuhi\", \"kaluaapuhi\", \"kaluaapuhi\", \"kaluaapuhi\", \n . \"kaluaapuhi\", \"kaluaapuhi\", \"kaluaapuhi\", \"kaluaapuhi\", \"kaluaapuhi\", \n . \"kaluaapuhi\", \"kaluaapuhi\", \"kaluaapuhi\", \"kaluaapuhi\", \"kaluaapuhi\", \n . \"kaluaapuhi\", \"kaluaapuhi\", \"kaluaapuhi\", \"kaluaapuhi\", \"kaluaapuhi\", \n . \"kaluaapuhi\", \"kaluaapuhi\", \"kaluaapuhi\", \"kaluaapuhi\", \"kaluaapuhi\", \n . \"kaluaapuhi\", \"kaluaapuhi\", \"kaluaapuhi\", \"kaluaapuhi\", \"kaluaapuhi\", \n . \"kaluaapuhi\", \"kaluaapuhi\", \"kaluaapuhi\", \"kaluaapuhi\", \"kaluaapuhi\", \n . \"kaluaapuhi\", \"kaluaapuhi\", \"kaluaapuhi\", \"kaluaapuhi\", \"kaluaapuhi\", \n . \"kaluaapuhi\", \"kaluaapuhi\", \"kaluaapuhi\", \"kaluaapuhi\", \"kaluaapuhi\", \n . \"kaluaapuhi\", \"kaluaapuhi\", \"kaluaapuhi\", \"kaluaapuhi\", \"kaluaapuhi\", \n . \"kaluaapuhi\", \"kaluaapuhi\", \"kaluaapuhi\", \"kaluaapuhi\", \"kaluaapuhi\", \n . \"kaluaapuhi\", \"kaluaapuhi\", \"kaluaapuhi\", \"kaluaapuhi\", \"kaluaapuhi\", \n . \"kaluaapuhi\", \"kaluaapuhi\", \"kaluaapuhi\", \"kaluaapuhi\", \"kaluaapuhi\", \n . \"kaluaapuhi\", \"kaluaapuhi\", \"kaluaapuhi\", \"kaluaapuhi\", \"kaluaapuhi\", \n . \"kaluaapuhi\", \"kaluaapuhi\", \"kaluaapuhi\", \"kaluaapuhi\", \"kaluaapuhi\", \n . \"kaluaapuhi\", \"kaluaapuhi\", \"kaluaapuhi\", \"kaluaapuhi\", \"kaluaapuhi\", \n . \"kaluaapuhi\", \"kaluaapuhi\", \"kaluaapuhi\", \"kaluaapuhi\", \"kaluaapuhi\", \n . \"kaluaapuhi\", \"kaluaapuhi\", \"kaluaapuhi\", \"kaluaapuhi\", \"kaluaapuhi\", \n . \"kaluaapuhi\", \"kaluaapuhi\", \"kaluaapuhi\", \"kaluaapuhi\", \"kaluaapuhi\", \n . \"kaluaapuhi\", \"kaluaapuhi\", \"kaluaapuhi\", \"kaluaapuhi\", \"kaluaapuhi\", \n . \"kaluaapuhi\", \"kaluaapuhi\", \"kaluaapuhi\", \"kaluaapuhi\", \"kaluaapuhi\", \n . \"kaluaapuhi\", \"kaluaapuhi\", \"kaluaapuhi\", \"kaluaapuhi\", \"kaluaapuhi\", \n . \"kaluaapuhi\", \"kaluaapuhi\", \"kaluaapuhi\", \"kaluaapuhi\", \"kaluaapuhi\", \n . \"kaluaapuhi\", \"kaluaapuhi\", \"kaluaapuhi\", \"kaluaapuhi\", \"kaluaapuhi\", \n . \"kaluaapuhi\", \"kaluaapuhi\", \"kaluaapuhi\", \"kaluaapuhi\", \"kaluaapuhi\", \n . \"kaluaapuhi\", \"kaluaapuhi\", \"kaluaapuhi\", \"kaluaapuhi\", \"kaluaapuhi\", \n . \"kaluaapuhi\", \"kaluaapuhi\", \"kaluaapuhi\", \"kaluaapuhi\", \"kaluaapuhi\", \n . \"kaluaapuhi\", \"kaluaapuhi\", \"kaluaapuhi\", \"kaluaapuhi\", \"kaluaapuhi\", \n . \"kaluaapuhi\", \"kaluaapuhi\", \"kaluaapuhi\", \"kaluaapuhi\", \"kaluaapuhi\", \n . \"kaluaapuhi\", \"kaluaapuhi\", \"kaluaapuhi\", \"kaluaapuhi\", \"kaluaapuhi\", \n . \"kaluaapuhi\", \"kaluaapuhi\", \"kaluaapuhi\", \"kaluaapuhi\", \"kaluaapuhi\", \n . \"kaluaapuhi\", \"kaluaapuhi\", \"kaluaapuhi\", \"kaluaapuhi\", \"kaluaapuhi\", \n . \"kaluaapuhi\", \"kaluaapuhi\", \"kaluaapuhi\", \"kaluaapuhi\", \"kaluaapuhi\", \n . \"kaluaapuhi\", \"kaluaapuhi\", \"kaluaapuhi\", \"kaluaapuhi\", \"kaluaapuhi\", \n . \"kaluaapuhi\", \"kaluaapuhi\", \"kaluaapuhi\", \"kaluaapuhi\", \"kaluaapuhi\", \n . \"kaluaapuhi\", \"kaluaapuhi\", \"kaluaapuhi\", \"kaluaapuhi\", \"kaluaapuhi\", \n . \"kaluaapuhi\", \"kaluaapuhi\", \"kaluaapuhi\", \"kaluaapuhi\", \"kaluaapuhi\", \n . \"kaluaapuhi\", \"kaluaapuhi\", \"kaluaapuhi\", \"kaluaapuhi\", \"kaluaapuhi\", \n . \"kaluaapuhi\", \"kaluaapuhi\", \"kaluaapuhi\", \"kaluaapuhi\", \"kaluaapuhi\", \n . \"kaluaapuhi\", \"kaluaapuhi\", \"kaluaapuhi\", \"kaluaapuhi\", \"kaluaapuhi\", \n . \"kaluaapuhi\", \"kaluaapuhi\", \"kaluaapuhi\", \"kaluaapuhi\", \"kaluaapuhi\", \n . \"kaluaapuhi\", \"kaluaapuhi\", \"kaluaapuhi\", \"kaluaapuhi\", \"kaluaapuhi\", \n . \"kaluaapuhi\", \"kaluaapuhi\", \"kaluaapuhi\", \"kaluaapuhi\", \"kaluaapuhi\", \n . \"kaluaapuhi\", \"kaluaapuhi\", \"kaluaapuhi\", \"kaluaapuhi\", \"kaluaapuhi\", \n . \"kaluaapuhi\", \"kaluaapuhi\", \"kaluaapuhi\", \"kaluaapuhi\", \"kaluaapuhi\", \n . \"kaluaapuhi\", \"kaluaapuhi\", \"kaluaapuhi\", \"kaluaapuhi\", \"kaluaapuhi\", \n . \"kaluaapuhi\", \"kaluaapuhi\", \"kaluaapuhi\", \"kaluaapuhi\", \"kaluaapuhi\", \n . \"kaluaapuhi\", \"kaluaapuhi\", \"kaluaapuhi\", \"kaluaapuhi\", \"kaluaapuhi\", \n . \"kaluaapuhi\", \"kaluaapuhi\", \"kaluaapuhi\", \"kaluaapuhi\", \"kaluaapuhi\", \n . \"kaluaapuhi\", \"kaluaapuhi\", \"kamalo\", \"kamalo\", \"kamalo\", \"kamalo\", \n . \"kamalo\", \"kamalo\", \"kamalo\", \"kamalo\", \"kamalo\", \"kamalo\", \"kamalo\", \n . \"kamalo\", \"kamalo\", \"kamalo\", \"kamalo\", \"kamalo\", \"kamalo\", \"kamalo\", \n . \"kamalo\", \"kamalo\", \"kamalo\", \"kamalo\", \"kamalo\", \"kamalo\", \"kamalo\", \n . \"kamalo\", \"kamalo\", \"kamalo\", \"kamalo\", \"kamalo\", \"kamalo\", \"kamalo\", \n . \"kamalo\", \"kamalo\", \"kamalo\", \"kamalo\", \"kamalo\", \"kamalo\", \"kamalo\", \n . \"kamalo\", \"kamalo\", \"kamalo\", \"kamalo\", \"kamalo\", \"kamalo\", \"kamalo\", \n . \"kamalo\", \"kamalo\", \"kamalo\", \"kamalo\", \"kamalo\", \"kamalo\", \"kamalo\", \n . \"kamalo\", \"kamalo\", \"kamalo\", \"kamalo\", \"kamalo\", \"kamalo\", \"kamalo\", \n . \"kamalo\", \"kamalo\", \"kamalo\", \"kamalo\", \"kamalo\", \"kamalo\", \"kamalo\", \n . \"kamalo\", \"kamalo\", \"kamalo\", \"kamalo\", \"kamalo\", \"kamalo\", \"kamalo\", \n . \"kamalo\", \"kamalo\", \"kamalo\", \"kamalo\", \"kamalo\", \"kamalo\", \"kamalo\", \n . \"kamalo\", \"kamalo\", \"kamalo\", \"kamalo\", \"kamalo\", \"kamalo\", \"kamalo\", \n . \"kamalo\", \"kamalo\", \"kamalo\", \"kamalo\", \"kamalo\", \"kamalo\", \"kamalo\", \n . \"kamalo\", \"kamalo\", \"kamalo\", \"kamalo\", \"kamalo\", \"kamalo\", \"kamalo\", \n . \"kamalo\", \"kamalo\", \"kamalo\", \"kamalo\", \"kamalo\", \"kamalo\", \"kamalo\", \n . \"kamalo\", \"kamalo\", \"kamalo\", \"kamalo\", \"kamalo\", \"kamalo\", \"kamalo\", \n . \"kamalo\", \"kamalo\", \"kamalo\", \"kamalo\", \"kamalo\", \"kamalo\", \"kamalo\", \n . \"kamalo\", \"kamalo\", \"kamalo\", \"kamalo\", \"kamalo\", \"kamalo\", \"kamalo\", \n . \"kamalo\", \"kamalo\", \"kamalo\", \"kamalo\", \"kamalo\", \"kamalo\", \"kamalo\", \n . \"kamalo\", \"kamalo\", \"kamalo\", \"kamalo\", \"kamalo\", \"kamalo\", \"kamalo\", \n . \"kamalo\", \"kamalo\", \"kamalo\", \"kamalo\", \"kamalo\", \"kamalo\", \"kamalo\", \n . \"kamalo\", \"kamalo\", \"kamalo\", \"kamalo\", \"kamalo\", \"kamalo\", \"kamalo\", \n . \"kamalo\", \"kamalo\", \"kamalo\", \"kamalo\", \"kamalo\", \"kamalo\", \"kamalo\", \n . \"kamalo\", \"kamalo\", \"kamalo\", \"kamalo\", \"kamalo\", \"kamalo\", \"kamalo\", \n . \"kamalo\", \"kamalo\", \"kamalo\", \"kamalo\", \"kamalo\", \"kamalo\", \"kamalo\", \n . \"kamalo\", \"kamalo\", \"kamalo\", \"kamalo\", \"kamalo\", \"kamalo\", \"kamalo\", \n . \"kamalo\", \"kamalo\", \"kamalo\", \"kamalo\", \"kamalo\", \"kamalo\", \"kamalo\", \n . \"kamalo\", \"kamalo\", \"kamalo\", \"kamalo\", \"kamalo\", \"kamalo\", \"kamalo\", \n . \"kamalo\", \"kamalo\", \"kamalo\", \"kamalo\", \"kamalo\", \"kamalo\", \"kamalo\", \n . \"kamalo\", \"kamalo\", \"kamalo\", \"kamalo\", \"kamalo\", \"kamalo\", \"kamalo\", \n . \"kamalo\", \"kamalo\", \"kamalo\", \"kamalo\", \"kamalo\", \"kamalo\", \"kamalo\", \n . \"kamalo\", \"kamalo\", \"kamalo\", \"kamalo\", \"kamalo\", \"kamalo\", \"kamalo\", \n . \"kamalo\", \"kamalo\", \"kamalo\", \"kamalo\", \"kamalo\", \"kamalo\", \"kamalo\", \n . \"kamalo\", \"kamalo\", \"kamalo\", \"kamalo\", \"kamalo\", \"kamalo\", \"kamalo\", \n . \"kamalo\", \"kamalo\", \"kamalo\", \"kamalo\", \"kamalo\", \"kamalo\", \"kamalo\", \n . \"kamalo\", \"kamalo\", \"kamalo\", \"kamalo\", \"kamalo\", \"kamalo\", \"kamalo\", \n . \"kamalo\", \"kamalo\", \"kamalo\", \"kamalo\", \"kamalo\", \"kamalo\", \"kamalo\", \n . \"kamalo\", \"kamalo\", \"kamalo\", \"kamalo\", \"kamalo\", \"kamalo\", \"kamalo\", \n . \"kamalo\", \"kamalo\", \"kamalo\", \"kamalo\", \"kamalo\", \"kamalo\", \"kamalo\", \n . \"kamalo\", \"kamalo\", \"kamalo\", \"kamalo\", \"kamalo\", \"kamalo\", \"kamalo\", \n . \"kamalo\", \"kamalo\", \"kamalo\", \"kamalo\", \"kamalo\", \"kamalo\", \"kamalo\", \n . \"kamalo\", \"kamalo\", \"kamalo\", \"kamalo\", \"kamalo\", \"kamalo\", \"kamalo\", \n . \"kamalo\", \"kamalo\", \"kamalo\", \"kamalo\", \"kamalo\", \"kamalo\", \"kamalo\", \n . \"kamalo\", \"kamalo\", \"kamalo\", \"kamalo\", \"kamalo\", \"kamalo\", \"kamalo\", \n . \"kamalo\", \"kamalo\", \"kamalo\", \"kamalo\", \"kamalo\", \"kamalo\", \"kamalo\", \n . \"kamalo\", \"kamalo\", \"kamalo\", \"kamalo\", \"kamalo\", \"kamalo\", \"kamalo\", \n . \"kamalo\", \"kamalo\", \"kamalo\", \"kamalo\", \"kamalo\", \"kamalo\", \"kamalo\", \n . \"kamalo\", \"kamalo\", \"kamalo\", \"kamalo\", \"kamalo\", \"kamalo\", \"kamalo\", \n . \"kamalo\", \"kamalo\", \"kamalo\", \"kamalo\", \"kamalo\", \"kamalo\", \"kamalo\", \n . \"kamalo\", \"kamalo\", \"kamalo\", \"kamalo\", \"kamalo\", \"kamalo\", \"kamalo\", \n . \"kamalo\", \"kamalo\", \"kamalo\", \"kamalo\", \"kamalo\", \"kamalo\", \"kamalo\", \n . \"kamalo\", \"kamalo\", \"kamalo\", \"kamalo\", \"kamalo\", \"kamalo\", \"kamalo\", \n . \"kamalo\", \"kamalo\", \"kamalo\", \"kamalo\", \"kamalo\", \"kamalo\", \"kamalo\", \n . \"kamalo\", \"kamalo\", \"kamalo\", \"kamalo\", \"kamalo\", \"kanaha\", \"kanaha\", \n . \"kanaha\", \"kanaha\", \"kanaha\", \"kanaha\", \"kanaha\", \"kanaha\", \"kanaha\", \n . \"kanaha\", \"kanaha\", \"kanaha\", \"kanaha\", \"kanaha\", \"kanaha\", \"kanaha\", \n . \"kanaha\", \"kanaha\", \"kanaha\", \"kanaha\", \"kanaha\", \"kanaha\", \"kanaha\", \n . \"kanaha\", \"kanaha\", \"kanaha\", \"kanaha\", \"kanaha\", \"kanaha\", \"kanaha\", \n . \"kanaha\", \"kanaha\", \"kanaha\", \"kanaha\", \"kanaha\", \"kanaha\", \"kanaha\", \n . \"kanaha\", \"kanaha\", \"kanaha\", \"kanaha\", \"kanaha\", \"kawainui\", \n . \"kawainui\", \"kawainui\", \"kawainui\", \"kawainui\", \"kawainui\", \"kawainui\", \n . \"kawainui\", \"kawainui\", \"kawainui\", \"kawainui\", \"kawainui\", \"kawainui\", \n . \"kawainui\", \"kawainui\", \"kawainui\", \"kawainui\", \"kawainui\", \"kawainui\", \n . \"kawainui\", \"kawainui\", \"kawainui\", \"kawainui\", \"kawainui\", \"kawainui\", \n . \"kawainui\", \"kawainui\", \"kawainui\", \"kawainui\", \"kawainui\", \"kawainui\", \n . \"kawainui\", \"kawainui\", \"kawainui\", \"kawainui\", \"kawainui\", \"kawainui\", \n . \"kawainui\", \"kawainui\", \"kawainui\", \"kawainui\", \"kawainui\", \"kawainui\", \n . \"kawainui\", \"kawainui\", \"kawainui\", \"kawainui\", \"kawainui\", \"kawainui\", \n . \"kawainui\", \"kawainui\", \"kawainui\", \"kawainui\", \"kawainui\", \"kawainui\", \n . \"kawainui\", \"kawainui\", \"kawainui\", \"kawainui\", \"kawainui\", \"kawainui\", \n . \"kawainui\", \"kawainui\", \"kawainui\", \"kawainui\", \"kawainui\", \"kawainui\", \n . \"kawainui\", \"kawainui\", \"kawainui\", \"kawainui\", \"kawainui\", \"kawainui\", \n . \"kawainui\", \"kawainui\", \"kawainui\", \"kawainui\", \"kawainui\", \"kawainui\", \n . \"kawainui\", \"kawainui\", \"kawainui\", \"kawainui\", \"kawainui\", \"kawainui\", \n . \"kawainui\", \"kawainui\", \"kawainui\", \"kawainui\", \"kawainui\", \"kawainui\", \n . \"kawainui\", \"kawainui\", \"kawainui\", \"kawainui\", \"kawainui\", \"kawainui\", \n . \"kawainui\", \"kawainui\", \"kawainui\", \"kawainui\", \"kawainui\", \"kawainui\", \n . \"kawainui\", \"kawainui\", \"kawainui\", \"kawainui\", \"kawainui\", \"kawainui\", \n . \"kawainui\", \"kawainui\", \"kawainui\", \"kawainui\", \"kawainui\", \"kawainui\", \n . \"kawainui\", \"kawainui\", \"kawainui\", \"kawainui\", \"kawainui\", \"kawainui\", \n . \"kawainui\", \"kawainui\", \"kawainui\", \"kawainui\", \"kawainui\", \"kawainui\", \n . \"kawainui\", \"kawainui\", \"kawainui\", \"kawainui\", \"kawainui\", \"kawainui\", \n . \"kawainui\", \"kawainui\", \"kawainui\", \"kawainui\", \"kawainui\", \"kawainui\", \n . \"kawainui\", \"kawainui\", \"kawainui\", \"kawainui\", \"kawainui\", \"kawainui\", \n . \"kawainui\", \"kawainui\", \"kawainui\", \"kawainui\", \"kawainui\", \"kawainui\", \n . \"kawainui\", \"kawainui\", \"kawainui\", \"kawainui\", \"kawainui\", \"kawainui\", \n . \"kawainui\", \"kawainui\", \"kawainui\", \"kawainui\", \"kawainui\", \"kawainui\", \n . \"kawainui\", \"kawainui\", \"kawainui\", \"kawainui\", \"kawainui\", \"kawainui\", \n . \"kawainui\", \"kawainui\", \"kawainui\", \"kawainui\", \"kawainui\", \"kawainui\", \n . \"kawainui\", \"kawainui\", \"kawainui\", \"kawainui\", \"kawainui\", \"kawainui\", \n . \"kawainui\", \"kawainui\", \"kawainui\", \"kawainui\", \"kawainui\", \"kawainui\", \n . \"kawainui\", \"kawainui\", \"kawainui\", \"kawainui\", \"kawainui\", \"kawainui\", \n . \"kawainui\", \"kawainui\", \"kawainui\", \"kawainui\", \"kawainui\", \"kawainui\", \n . \"kawainui\", \"kawainui\", \"kawainui\", \"kawainui\", \"kawainui\", \"kawainui\", \n . \"kawainui\", \"kawainui\", \"kawainui\", \"kawainui\", \"kawainui\", \"kawainui\", \n . \"kawainui\", \"kawainui\", \"kawainui\", \"kawainui\", \"kawainui\", \"kawainui\", \n . \"kawainui\", \"kawainui\", \"kawainui\", \"kawainui\", \"kawainui\", \"kawainui\", \n . \"kawainui\", \"kawainui\", \"kawainui\", \"kawainui\", \"kawainui\", \"kawainui\", \n . \"kawainui\", \"kawainui\", \"kawainui\", \"kawainui\", \"kawainui\", \"kawainui\", \n . \"kawainui\", \"kawainui\", \"kawainui\", \"kawainui\", \"kawainui\", \"kawainui\", \n . \"kawainui\", \"kawainui\", \"kawainui\", \"kawainui\", \"kawainui\", \"kawainui\", \n . \"kawainui\", \"kawainui\", \"kawainui\", \"kawainui\", \"kawainui\", \"kawainui\", \n . \"kawainui\", \"kawainui\", \"kawainui\", \"kawainui\", \"kawainui\", \"kawainui\", \n . \"kawainui\", \"kawainui\", \"kawainui\", \"kawainui\", \"kawainui\", \"kawainui\", \n . \"kawainui\", \"kawainui\", \"kawainui\", \"kawainui\", \"kawainui\", \"kawainui\", \n . \"kawainui\", \"kawainui\", \"kawainui\", \"kawainui\", \"kawainui\", \"kawainui\", \n . \"kawainui\", \"kawainui\", \"kawainui\", \"kawainui\", \"kawainui\", \"kawainui\", \n . \"kawainui\", \"kawainui\", \"kawainui\", \"kawainui\", \"kawainui\", \"kealia\", \n . \"kealia\", \"kealia\", \"kealia\", \"kealia\", \"kealia\", \"kealia\", \"kealia\", \n . \"kealia\", \"kealia\", \"kealia\", \"kealia\", \"kealia\", \"kealia\", \"kealia\", \n . \"kealia\", \"kealia\", \"kealia\", \"kealia\", \"kealia\", \"kealia\", \"kealia\", \n . \"kealia\", \"kealia\", \"kealia\", \"kealia\", \"kealia\", \"kealia\", \"kealia\", \n . \"kealia\", \"kealia\", \"kealia\", \"kealia\", \"kealia\", \"kealia\", \"kealia\", \n . \"kealia\", \"kealia\", \"kealia\", \"kealia\", \"kealia\", \"kealia\", \"kealia\", \n . \"kealia\", \"kealia\", \"kealia\", \"kealia\", \"kealia\", \"kealia\", \"kealia\", \n . \"kealia\", \"kealia\", \"kealia\", \"kealia\", \"kealia\", \"kealia\", \"kealia\", \n . \"kealia\", \"kealia\", \"kealia\", \"kealia\", \"kealia\", \"kealia\", \"kealia\", \n . \"kealia\", \"kealia\", \"kealia\", \"kealia\", \"kealia\", \"kealia\", \"kealia\", \n . \"kealia\", \"kealia\", \"kealia\", \"kealia\", \"kealia\", \"kealia\", \"kealia\", \n . \"kealia\", \"kealia\", \"kealia\", \"kealia\", \"kealia\", \"kealia\", \"kealia\", \n . \"kealia\", \"kealia\", \"kealia\", \"kealia\", \"kealia\", \"kealia\", \"kealia\", \n . \"kealia\", \"kealia\", \"kealia\", \"kealia\", \"kealia\", \"kealia\", \"kealia\", \n . \"kealia\", \"kealia\", \"kealia\", \"kealia\", \"kealia\", \"kealia\", \"kealia\", \n . \"kealia\", \"kealia\", \"kealia\", \"kealia\", \"kealia\", \"kealia\", \"kealia\", \n . \"kealia\", \"kealia\", \"kealia\", \"kealia\", \"kealia\", \"kealia\", \"kealia\", \n . \"lumahai\", \"lumahai\", \"lumahai\", \"lumahai\", \"lumahai\", \"lumahai\", \n . \"lumahai\", \"lumahai\", \"lumahai\", \"lumahai\", \"lumahai\", \"lumahai\", \n . \"lumahai\", \"lumahai\", \"lumahai\", \"lumahai\", \"lumahai\", \"lumahai\", \n . \"lumahai\", \"lumahai\", \"lumahai\", \"lumahai\", \"lumahai\", \"lumahai\", \n . \"lumahai\", \"lumahai\", \"lumahai\", \"lumahai\", \"lumahai\", \"lumahai\", \n . \"lumahai\", \"lumahai\", \"lumahai\", \"lumahai\", \"lumahai\", \"lumahai\", \n . \"lumahai\", \"lumahai\", \"lumahai\", \"lumahai\", \"lumahai\", \"lumahai\", \n . \"lumahai\", \"lumahai\", \"lumahai\", \"lumahai\", \"lumahai\", \"lumahai\", \n . \"lumahai\", \"lumahai\", \"lumahai\", \"lumahai\", \"lumahai\", \"lumahai\", \n . \"lumahai\", \"lumahai\", \"lumahai\", \"lumahai\", \"lumahai\", \"lumahai\", \n . \"lumahai\", \"lumahai\", \"lumahai\", \"lumahai\", \"lumahai\", \"paukukalo\", \n . \"paukukalo\", \"paukukalo\", \"paukukalo\", \"paukukalo\", \"paukukalo\", \n . \"paukukalo\", \"paukukalo\", \"paukukalo\", \"paukukalo\", \"paukukalo\", \n . \"paukukalo\", \"paukukalo\", \"paukukalo\", \"paukukalo\", \"paukukalo\", \n . \"paukukalo\", \"paukukalo\", \"paukukalo\", \"paukukalo\", \"paukukalo\", \n . \"paukukalo\", \"paukukalo\", \"paukukalo\", \"paukukalo\", \"paukukalo\", \n . \"paukukalo\", \"paukukalo\", \"paukukalo\", \"paukukalo\", \"paukukalo\", \n . \"paukukalo\", \"paukukalo\", \"paukukalo\", \"paukukalo\", \"paukukalo\", \n . \"paukukalo\", \"paukukalo\", \"paukukalo\", \"paukukalo\", \"paukukalo\", \n . \"paukukalo\", \"paukukalo\", \"paukukalo\", \"paukukalo\", \"paukukalo\", \n . \"paukukalo\", \"paukukalo\", \"paukukalo\", \"paukukalo\", \"paukukalo\", \n . \"paukukalo\", \"paukukalo\", \"paukukalo\", \"paukukalo\", \"paukukalo\", \n . \"paukukalo\", \"paukukalo\", \"paukukalo\", \"paukukalo\", \"paukukalo\", \n . \"paukukalo\", \"paukukalo\", \"paukukalo\", \"paukukalo\", \"paukukalo\", \n . \"paukukalo\", \"paukukalo\", \"paukukalo\", \"paukukalo\", \"paukukalo\", \n . \"paukukalo\", \"paukukalo\", \"paukukalo\", \"paukukalo\", \"paukukalo\", \n . \"paukukalo\", \"paukukalo\", \"paukukalo\", \"paukukalo\", \"paukukalo\", \n . \"paukukalo\", \"paukukalo\", \"paukukalo\", \"paukukalo\", \"paukukalo\", \n . \"paukukalo\", \"paukukalo\", \"paukukalo\", \"paukukalo\", \"pearl_harbor\", \n . \"pearl_harbor\", \"pearl_harbor\", \"pearl_harbor\", \"pearl_harbor\", \n . \"pearl_harbor\", \"pearl_harbor\", \"pearl_harbor\", \"pearl_harbor\", \n . \"pearl_harbor\", \"pearl_harbor\", \"pearl_harbor\", \"pearl_harbor\", \n . \"pearl_harbor\", \"pearl_harbor\", \"pearl_harbor\", \"pearl_harbor\", \n . \"pearl_harbor\", \"pearl_harbor\", \"pearl_harbor\", \"pearl_harbor\", \n . \"pearl_harbor\", \"pearl_harbor\", \"pearl_harbor\", \"pearl_harbor\", \n . \"pearl_harbor\", \"pearl_harbor\", \"pearl_harbor\", \"pearl_harbor\", \n . \"pearl_harbor\", \"pearl_harbor\", \"pearl_harbor\", \"pearl_harbor\", \n . \"pearl_harbor\", \"pearl_harbor\", \"pearl_harbor\", \"pearl_harbor\", \n . \"pearl_harbor\", \"pearl_harbor\", \"pearl_harbor\", \"pearl_harbor\", \n . \"pearl_harbor\", \"pearl_harbor\", \"pearl_harbor\", \"pearl_harbor\", \n . \"pearl_harbor\", \"pearl_harbor\", \"pearl_harbor\", \"pearl_harbor\", \n . \"pearl_harbor\", \"pearl_harbor\", \"pearl_harbor\", \"pearl_harbor\", \n . \"pearl_harbor\", \"pearl_harbor\", \"pearl_harbor\", \"pearl_harbor\", \n . \"pearl_harbor\", \"pearl_harbor\", \"pearl_harbor\", \"pearl_harbor\", \n . \"pearl_harbor\", \"pearl_harbor\", \"pearl_harbor\", \"pearl_harbor\", \n . \"pearl_harbor\", \"pearl_harbor\", \"pearl_harbor\", \"pearl_harbor\", \n . \"pearl_harbor\", \"pearl_harbor\", \"pearl_harbor\", \"pearl_harbor\", \n . \"pearl_harbor\", \"pearl_harbor\", \"pearl_harbor\", \"pearl_harbor\", \n . \"pearl_harbor\", \"pearl_harbor\", \"pearl_harbor\", \"pearl_harbor\", \n . \"pearl_harbor\", \"pearl_harbor\", \"pearl_harbor\", \"pearl_harbor\", \n . \"pearl_harbor\", \"pearl_harbor\", \"pearl_harbor\", \"pearl_harbor\", \n . \"pearl_harbor\", \"pearl_harbor\", \"pearl_harbor\", \"pearl_harbor\", \n . \"pearl_harbor\", \"pearl_harbor\", \"pearl_harbor\", \"pearl_harbor\", \n . \"pearl_harbor\", \"pearl_harbor\", \"pearl_harbor\", \"pearl_harbor\", \n . \"pearl_harbor\", \"pearl_harbor\", \"pearl_harbor\", \"pearl_harbor\", \n . \"pearl_harbor\", \"pearl_harbor\", \"pearl_harbor\", \"pearl_harbor\", \n . \"pearl_harbor\", \"pearl_harbor\", \"pearl_harbor\", \"pearl_harbor\", \n . \"pearl_harbor\", \"pearl_harbor\", \"pearl_harbor\", \"pearl_harbor\", \n . \"pearl_harbor\", \"pearl_harbor\", \"pearl_harbor\", \"pearl_harbor\", \n . \"pearl_harbor\", \"pearl_harbor\", \"pearl_harbor\", \"pearl_harbor\", \n . \"pearl_harbor\", \"pearl_harbor\", \"pearl_harbor\", \"pearl_harbor\", \n . \"pearl_harbor\", \"pearl_harbor\", \"pearl_harbor\", \"pearl_harbor\", \n . \"pearl_harbor\", \"pearl_harbor\", \"pearl_harbor\", \"pearl_harbor\", \n . \"pearl_harbor\", \"pearl_harbor\", \"pearl_harbor\", \"pearl_harbor\", \n . \"pearl_harbor\", \"pearl_harbor\", \"pearl_harbor\", \"pearl_harbor\", \n . \"pearl_harbor\", \"pearl_harbor\", \"pearl_harbor\", \"pearl_harbor\", \n . \"pearl_harbor\", \"pearl_harbor\", \"pearl_harbor\", \"pearl_harbor\", \n . \"pearl_harbor\", \"pearl_harbor\", \"pearl_harbor\", \"pearl_harbor\", \n . \"pearl_harbor\", \"pearl_harbor\", \"pearl_harbor\", \"pearl_harbor\", \n . \"pearl_harbor\", \"pearl_harbor\", \"pearl_harbor\", \"pearl_harbor\", \n . \"pearl_harbor\", \"pearl_harbor\", \"pearl_harbor\", \"pearl_harbor\", \n . \"pearl_harbor\", \"pearl_harbor\", \"pearl_harbor\", \"pearl_harbor\", \n . \"pearl_harbor\", \"pearl_harbor\", \"pearl_harbor\", \"pearl_harbor\", \n . \"pearl_harbor\", \"pearl_harbor\", \"pearl_harbor\", \"pearl_harbor\", \n . \"pearl_harbor\", \"pearl_harbor\", \"pearl_harbor\", \"pearl_harbor\", \n . \"pearl_harbor\", \"pearl_harbor\", \"pearl_harbor\", \"pearl_harbor\", \n . \"pearl_harbor\", \"pearl_harbor\", \"pearl_harbor\", \"pearl_harbor\", \n . \"pearl_harbor\", \"pearl_harbor\", \"pearl_harbor\", \"pearl_harbor\", \n . \"pearl_harbor\", \"pearl_harbor\", \"pearl_harbor\", \"pearl_harbor\", \n . \"pearl_harbor\", \"pearl_harbor\", \"pearl_harbor\", \"pearl_harbor\", \n . \"pearl_harbor\", \"pearl_harbor\", \"pearl_harbor\", \"pearl_harbor\", \n . \"pearl_harbor\", \"pearl_harbor\", \"pearl_harbor\", \"pearl_harbor\", \n . \"pearl_harbor\", \"pearl_harbor\", \"pearl_harbor\", \"pearl_harbor\", \n . \"pearl_harbor\", \"pearl_harbor\", \"pearl_harbor\", \"pearl_harbor\", \n . \"pearl_harbor\", \"pearl_harbor\", \"pearl_harbor\", \"pearl_harbor\", \n . \"pearl_harbor\", \"pearl_harbor\", \"pearl_harbor\", \"pearl_harbor\", \n . \"pearl_harbor\", \"pearl_harbor\", \"pearl_harbor\", \"pearl_harbor\", \n . \"pearl_harbor\", \"pearl_harbor\", \"pearl_harbor\", \"pearl_harbor\", \n . \"pearl_harbor\", \"pearl_harbor\", \"pearl_harbor\", \"pearl_harbor\", \n . \"pearl_harbor\", \"pearl_harbor\", \"pearl_harbor\", \"pearl_harbor\", \n . \"pearl_harbor\", \"pearl_harbor\", \"pearl_harbor\", \"pearl_harbor\", \n . \"pearl_harbor\", \"pearl_harbor\", \"pearl_harbor\", \"pearl_harbor\", \n . \"pearl_harbor\", \"pearl_harbor\", \"pearl_harbor\", \"pearl_harbor\", \n . \"pearl_harbor\", \"pearl_harbor\", \"pearl_harbor\", \"pearl_harbor\", \n . \"pearl_harbor\", \"pearl_harbor\", \"pearl_harbor\", \"pearl_harbor\", \n . \"pearl_harbor\", \"pearl_harbor\", \"pearl_harbor\", \"pearl_harbor\", \n . \"pearl_harbor\", \"pearl_harbor\", \"pearl_harbor\", \"pearl_harbor\", \n . \"pearl_harbor\", \"pearl_harbor\", \"pearl_harbor\", \"pearl_harbor\", \n . \"pearl_harbor\", \"pearl_harbor\", \"pearl_harbor\", \"pearl_harbor\", \n . \"pearl_harbor\", \"pearl_harbor\", \"pearl_harbor\", \"pearl_harbor\", \n . \"pearl_harbor\", \"pearl_harbor\", \"pearl_harbor\", \"pearl_harbor\", \n . \"pearl_harbor\", \"pearl_harbor\", \"pearl_harbor\", \"pearl_harbor\", \n . \"pearl_harbor\", \"pearl_harbor\", \"pearl_harbor\", \"pearl_harbor\", \n . \"pearl_harbor\", \"pearl_harbor\", \"pearl_harbor\", \"pearl_harbor\", \n . \"pearl_harbor\", \"pearl_harbor\", \"pearl_harbor\", \"pearl_harbor\", \n . \"pearl_harbor\", \"pearl_harbor\", \"pearl_harbor\", \"pearl_harbor\", \n . \"pearl_harbor\", \"pearl_harbor\", \"pearl_harbor\", \"pearl_harbor\", \n . \"pearl_harbor\", \"pearl_harbor\", \"pearl_harbor\", \"pearl_harbor\", \n . \"pearl_harbor\", \"pearl_harbor\", \"pearl_harbor\", \"pearl_harbor\", \n . \"pearl_harbor\", \"pearl_harbor\", \"pearl_harbor\", \"pearl_harbor\", \n . \"pearl_harbor\", \"pearl_harbor\", \"pearl_harbor\", \"pearl_harbor\", \n . \"pearl_harbor\", \"pearl_harbor\", \"pearl_harbor\", \"pearl_harbor\", \n . \"pearl_harbor\", \"pearl_harbor\", \"pearl_harbor\", \"pearl_harbor\", \n . \"pearl_harbor\", \"pearl_harbor\", \"pearl_harbor\", \"pearl_harbor\", \n . \"pearl_harbor\", \"pearl_harbor\", \"pearl_harbor\", \"pearl_harbor\", \n . \"pearl_harbor\", \"pearl_harbor\", \"pearl_harbor\", \"pearl_harbor\", \n . \"pearl_harbor\", \"pearl_harbor\", \"pearl_harbor\", \"pearl_harbor\", \n . \"pearl_harbor\", \"pearl_harbor\", \"pearl_harbor\", \"pearl_harbor\", \n . \"pearl_harbor\", \"pearl_harbor\", \"pearl_harbor\", \"pearl_harbor\", \n . \"pearl_harbor\", \"pearl_harbor\", \"pearl_harbor\", \"pearl_harbor\", \n . \"pearl_harbor\", \"pearl_harbor\", \"pearl_harbor\", \"pearl_harbor\", \n . \"pearl_harbor\", \"pearl_harbor\", \"pearl_harbor\", \"pearl_harbor\", \n . \"pearl_harbor\", \"pearl_harbor\", \"pearl_harbor\", \"pearl_harbor\", \n . \"pearl_harbor\", \"pearl_harbor\", \"pearl_harbor\", \"pearl_harbor\", \n . \"pearl_harbor\", \"pearl_harbor\", \"pearl_harbor\", \"pearl_harbor\", \n . \"pearl_harbor\", \"pearl_harbor\", \"pearl_harbor\", \"pearl_harbor\", \n . \"pearl_harbor\", \"pearl_harbor\", \"pearl_harbor\", \"pearl_harbor\", \n . \"pearl_harbor\", \"pearl_harbor\", \"pearl_harbor\", \"pearl_harbor\", \n . \"pearl_harbor\", \"pearl_harbor\", \"pearl_harbor\", \"pearl_harbor\", \n . \"pearl_harbor\", \"pearl_harbor\", \"pearl_harbor\", \"pearl_harbor\", \n . \"pearl_harbor\", \"pearl_harbor\", \"pearl_harbor\", \"pearl_harbor\", \n . \"pearl_harbor\", \"pearl_harbor\", \"pearl_harbor\", \"pearl_harbor\", \n . \"pearl_harbor\", \"pearl_harbor\", \"pearl_harbor\", \"pearl_harbor\", \n . \"pearl_harbor\", \"pearl_harbor\", \"pearl_harbor\", \"pearl_harbor\", \n . \"pearl_harbor\", \"pearl_harbor\", \"pearl_harbor\", \"pearl_harbor\", \n . \"pearl_harbor\", \"pearl_harbor\", \"pearl_harbor\", \"pearl_harbor\", \n . \"pearl_harbor\", \"pearl_harbor\", \"pearl_harbor\", \"pearl_harbor\", \n . \"pearl_harbor\", \"pearl_harbor\", \"pearl_harbor\", \"pearl_harbor\", \n . \"pearl_harbor\", \"pearl_harbor\", \"pearl_harbor\", \"pearl_harbor\", \n . \"pearl_harbor\", \"pearl_harbor\", \"pearl_harbor\", \"pearl_harbor\", \n . \"pearl_harbor\", \"pearl_harbor\", \"pearl_harbor\", \"pearl_harbor\", \n . \"pearl_harbor\", \"pearl_harbor\", \"pearl_harbor\", \"pearl_harbor\", \n . \"pearl_harbor\", \"pearl_harbor\", \"pearl_harbor\", \"pearl_harbor\", \n . \"pearl_harbor\", \"pearl_harbor\", \"pearl_harbor\", \"pearl_harbor\", \n . \"pearl_harbor\", \"pearl_harbor\", \"pearl_harbor\", \"pearl_harbor\", \n . \"pearl_harbor\", \"pearl_harbor\", \"pearl_harbor\", \"pearl_harbor\", \n . \"pearl_harbor\", \"pearl_harbor\", \"pearl_harbor\", \"pearl_harbor\", \n . \"pearl_harbor\", \"pearl_harbor\", \"pearl_harbor\", \"pearl_harbor\", \n . \"pearl_harbor\", \"pearl_harbor\", \"pearl_harbor\", \"pearl_harbor\", \n . \"pearl_harbor\", \"pearl_harbor\", \"pearl_harbor\", \"pearl_harbor\", \n . \"pearl_harbor\", \"pearl_harbor\", \"pearl_harbor\", \"pearl_harbor\", \n . \"pearl_harbor\", \"pearl_harbor\", \"pearl_harbor\", \"pearl_harbor\", \n . \"pearl_harbor\", \"pearl_harbor\", \"pearl_harbor\", \"pearl_harbor\", \n . \"pearl_harbor\", \"pearl_harbor\", \"pearl_harbor\", \"pearl_harbor\", \n . \"pearl_harbor\", \"pearl_harbor\", \"pearl_harbor\", \"pearl_harbor\", \n . \"pearl_harbor\", \"pearl_harbor\", \"pearl_harbor\", \"pearl_harbor\", \n . \"pearl_harbor\", \"pearl_harbor\", \"pearl_harbor\", \"pearl_harbor\", \n . \"pearl_harbor\", \"pearl_harbor\", \"pearl_harbor\", \"pearl_harbor\", \n . \"pearl_harbor\", \"pearl_harbor\", \"pearl_harbor\", \"pearl_harbor\", \n . \"pearl_harbor\", \"pearl_harbor\", \"pearl_harbor\", \"pearl_harbor\", \n . \"pearl_harbor\", \"pearl_harbor\", \"pearl_harbor\", \"pearl_harbor\", \n . \"pearl_harbor\", \"pearl_harbor\", \"pearl_harbor\", \"pearl_harbor\", \n . \"pearl_harbor\", \"pearl_harbor\", \"pearl_harbor\", \"pearl_harbor\", \n . \"pearl_harbor\", \"pearl_harbor\", \"pearl_harbor\", \"pearl_harbor\", \n . \"pearl_harbor\", \"pearl_harbor\", \"pearl_harbor\", \"pearl_harbor\", \n . \"pearl_harbor\", \"pearl_harbor\", \"pearl_harbor\", \"pearl_harbor\", \n . \"pearl_harbor\", \"pearl_harbor\", \"pearl_harbor\", \"pearl_harbor\", \n . \"pearl_harbor\", \"pearl_harbor\", \"pearl_harbor\", \"pearl_harbor\", \n . \"pearl_harbor\", \"pearl_harbor\", \"pearl_harbor\", \"pearl_harbor\", \n . \"pearl_harbor\", \"pearl_harbor\", \"pearl_harbor\", \"pearl_harbor\", \n . \"pearl_harbor\", \"pearl_harbor\", \"pearl_harbor\", \"pearl_harbor\", \n . \"pearl_harbor\", \"pearl_harbor\", \"pearl_harbor\", \"pearl_harbor\", \n . \"pearl_harbor\", \"pearl_harbor\", \"pearl_harbor\", \"pearl_harbor\", \n . \"pearl_harbor\", \"pearl_harbor\", \"pearl_harbor\", \"pearl_harbor\", \n . \"pearl_harbor\", \"pearl_harbor\", \"pearl_harbor\", \"pearl_harbor\", \n . \"pearl_harbor\", \"pearl_harbor\", \"pearl_harbor\", \"pearl_harbor\", \n . \"pearl_harbor\", \"pearl_harbor\", \"pearl_harbor\", \"pearl_harbor\", \n . \"pearl_harbor\", \"pearl_harbor\", \"pearl_harbor\", \"pearl_harbor\", \n . \"pearl_harbor\", \"pearl_harbor\", \"pearl_harbor\", \"pearl_harbor\", \n . \"pearl_harbor\", \"pearl_harbor\", \"pearl_harbor\", \"pearl_harbor\", \n . \"pearl_harbor\", \"pearl_harbor\", \"pearl_harbor\", \"pearl_harbor\", \n . \"pearl_harbor\", \"pearl_harbor\", \"pearl_harbor\", \"pearl_harbor\", \n . \"pearl_harbor\", \"pearl_harbor\", \"pearl_harbor\", \"pearl_harbor\", \n . \"pearl_harbor\", \"pearl_harbor\", \"pearl_harbor\", \"waihee\", \"waihee\", \n . \"waihee\", \"waihee\", \"waihee\", \"waihee\", \"waihee\", \"waihee\", \"waihee\", \n . \"waihee\", \"waihee\", \"waihee\", \"waihee\", \"waihee\", \"waihee\", \"waihee\", \n . \"waihee\", \"waihee\", \"waihee\", \"waihee\", \"waihee\", \"waihee\", \"waihee\", \n . \"waihee\", \"waihee\", \"waihee\", \"waihee\", \"waihee\", \"waihee\", \"waihee\", \n . \"wailua_opaekaa\", \"wailua_opaekaa\", \"wailua_opaekaa\", \"wailua_opaekaa\", \n . \"wailua_opaekaa\", \"wailua_opaekaa\", \"wailua_opaekaa\", \"wailua_opaekaa\", \n . \"wailua_opaekaa\", \"wailua_opaekaa\", \"wailua_opaekaa\", \"wailua_opaekaa\", \n . \"wailua_opaekaa\", \"wailua_opaekaa\", \"wailua_opaekaa\", \"wailua_opaekaa\", \n . \"wailua_opaekaa\", \"wailua_opaekaa\", \"wailua_opaekaa\", \"wailua_opaekaa\", \n . \"wailua_opaekaa\", \"wailua_opaekaa\", \"wailua_opaekaa\", \"wailua_opaekaa\", \n . \"wailua_opaekaa\", \"wailua_opaekaa\", \"wailua_opaekaa\", \"wailua_opaekaa\", \n . \"wailua_opaekaa\", \"wailua_opaekaa\", \"wailua_opaekaa\", \"wailua_opaekaa\", \n . \"wailua_opaekaa\", \"wailua_opaekaa\", \"wailua_opaekaa\", \"wailua_opaekaa\", \n . \"wailua_opaekaa\", \"wailua_opaekaa\", \"wailua_opaekaa\", \"wailua_opaekaa\", \n . \"wailua_opaekaa\", \"wailua_opaekaa\", \"wailua_opaekaa\", \"wailua_opaekaa\", \n . \"wailua_opaekaa\", \"wailua_opaekaa\", \"wailua_opaekaa\", \"wailua_opaekaa\", \n . \"wailua_opaekaa\", \"wailua_opaekaa\", \"wailua_opaekaa\", \"wailua_opaekaa\", \n . \"wailua_opaekaa\", \"wailua_opaekaa\", \"wailua_opaekaa\", \"wailua_opaekaa\", \n . \"wailua_opaekaa\", \"wailua_opaekaa\", \"wailua_opaekaa\", \"wailua_opaekaa\", \n . \"wailua_opaekaa\", \"wailua_opaekaa\", \"wailua_opaekaa\", \"wailua_opaekaa\", \n . \"wailua_opaekaa\", \"wailua_opaekaa\", \"wailua_opaekaa\", \"wailua_opaekaa\", \n . \"wailua_opaekaa\", \"wailua_opaekaa\", \"wailua_opaekaa\", \"wailua_opaekaa\", \n . \"wailua_opaekaa\", \"wailua_opaekaa\", \"wailua_opaekaa\", \"wailua_opaekaa\", \n . \"wailua_opaekaa\", \"wailua_opaekaa\", \"wailua_opaekaa\", \"wailua_opaekaa\", \n . \"wailua_opaekaa\", \"wailua_opaekaa\", \"wailua_opaekaa\", \"wailua_opaekaa\", \n . \"wailua_opaekaa\", \"wailua_opaekaa\", \"wailua_opaekaa\", \"wailua_opaekaa\", \n . \"wailua_opaekaa\", \"wailua_opaekaa\"))",
            "8. stop(sprintf(ngettext(N, \"replacement has %d row, data has %d\", \n .     \"replacement has %d rows, data has %d\"), N, nrows), domain = NA)"
          ]
        }
      ]
    },
    {
      "cell_type": "code",
      "source": [
        "planet_dt"
      ],
      "metadata": {
        "id": "03j-H_hKi4Rp",
        "outputId": "82933b71-6191-4560-e788-1f0493e643ef",
        "colab": {
          "base_uri": "https://localhost:8080/",
          "height": 600
        }
      },
      "execution_count": 208,
      "outputs": [
        {
          "output_type": "display_data",
          "data": {
            "text/html": [
              "<table class=\"dataframe\">\n",
              "<caption>A data.table: 16 × 4</caption>\n",
              "<thead>\n",
              "\t<tr><th scope=col>island</th><th scope=col>location_name</th><th scope=col>planet_file_path</th><th scope=col>planet_raster</th></tr>\n",
              "\t<tr><th scope=col>&lt;chr&gt;</th><th scope=col>&lt;chr&gt;</th><th scope=col>&lt;chr&gt;</th><th scope=col>&lt;list&gt;</th></tr>\n",
              "</thead>\n",
              "<tbody>\n",
              "\t<tr><td><span style=white-space:pre-wrap>kauai  </span></td><td><span style=white-space:pre-wrap>anahola       </span></td><td><span style=white-space:pre-wrap>/content/imagery/planet/2018/utm4/2018_anahola_stack.tif       </span></td><td>&lt;S4 class ‘RasterStack’ [package “raster”] with 12 slots&gt;</td></tr>\n",
              "\t<tr><td><span style=white-space:pre-wrap>oahu   </span></td><td><span style=white-space:pre-wrap>haleiwa       </span></td><td><span style=white-space:pre-wrap>/content/imagery/planet/2018/utm4/2018_haleiwa_stack.tif       </span></td><td>&lt;S4 class ‘RasterStack’ [package “raster”] with 12 slots&gt;</td></tr>\n",
              "\t<tr><td><span style=white-space:pre-wrap>kauai  </span></td><td><span style=white-space:pre-wrap>hanalei       </span></td><td><span style=white-space:pre-wrap>/content/imagery/planet/2018/utm4/2018_hanalei_stack.tif       </span></td><td>&lt;S4 class ‘RasterStack’ [package “raster”] with 12 slots&gt;</td></tr>\n",
              "\t<tr><td><span style=white-space:pre-wrap>kauai  </span></td><td><span style=white-space:pre-wrap>huleia        </span></td><td><span style=white-space:pre-wrap>/content/imagery/planet/2018/utm4/2018_huleia_stack.tif        </span></td><td>&lt;S4 class ‘RasterStack’ [package “raster”] with 12 slots&gt;</td></tr>\n",
              "\t<tr><td><span style=white-space:pre-wrap>oahu   </span></td><td><span style=white-space:pre-wrap>kahuku        </span></td><td><span style=white-space:pre-wrap>/content/imagery/planet/2018/utm4/2018_kahuku_stack.tif        </span></td><td>&lt;S4 class ‘RasterStack’ [package “raster”] with 12 slots&gt;</td></tr>\n",
              "\t<tr><td>molokai</td><td><span style=white-space:pre-wrap>kakahaia      </span></td><td><span style=white-space:pre-wrap>/content/imagery/planet/2018/utm4/2018_kakahaia_stack.tif      </span></td><td>&lt;S4 class ‘RasterStack’ [package “raster”] with 12 slots&gt;</td></tr>\n",
              "\t<tr><td>molokai</td><td><span style=white-space:pre-wrap>kaluaapuhi    </span></td><td><span style=white-space:pre-wrap>/content/imagery/planet/2018/utm4/2018_kaluaapuhi_stack.tif    </span></td><td>&lt;S4 class ‘RasterStack’ [package “raster”] with 12 slots&gt;</td></tr>\n",
              "\t<tr><td>molokai</td><td><span style=white-space:pre-wrap>kamalo        </span></td><td><span style=white-space:pre-wrap>/content/imagery/planet/2018/utm4/2018_kamalo_stack.tif        </span></td><td>&lt;S4 class ‘RasterStack’ [package “raster”] with 12 slots&gt;</td></tr>\n",
              "\t<tr><td><span style=white-space:pre-wrap>maui   </span></td><td><span style=white-space:pre-wrap>kanaha        </span></td><td><span style=white-space:pre-wrap>/content/imagery/planet/2018/utm4/2018_kanaha_stack.tif        </span></td><td>&lt;S4 class ‘RasterStack’ [package “raster”] with 12 slots&gt;</td></tr>\n",
              "\t<tr><td><span style=white-space:pre-wrap>oahu   </span></td><td><span style=white-space:pre-wrap>kawainui      </span></td><td><span style=white-space:pre-wrap>/content/imagery/planet/2018/utm4/2018_kawainui_stack.tif      </span></td><td>&lt;S4 class ‘RasterStack’ [package “raster”] with 12 slots&gt;</td></tr>\n",
              "\t<tr><td><span style=white-space:pre-wrap>maui   </span></td><td><span style=white-space:pre-wrap>kealia        </span></td><td><span style=white-space:pre-wrap>/content/imagery/planet/2018/utm4/2018_kealia_stack.tif        </span></td><td>&lt;S4 class ‘RasterStack’ [package “raster”] with 12 slots&gt;</td></tr>\n",
              "\t<tr><td><span style=white-space:pre-wrap>kauai  </span></td><td><span style=white-space:pre-wrap>lumahai       </span></td><td><span style=white-space:pre-wrap>/content/imagery/planet/2018/utm4/2018_lumahai_stack.tif       </span></td><td>&lt;S4 class ‘RasterStack’ [package “raster”] with 12 slots&gt;</td></tr>\n",
              "\t<tr><td><span style=white-space:pre-wrap>maui   </span></td><td><span style=white-space:pre-wrap>paukukalo     </span></td><td><span style=white-space:pre-wrap>/content/imagery/planet/2018/utm4/2018_paukukalo_stack.tif     </span></td><td>&lt;S4 class ‘RasterStack’ [package “raster”] with 12 slots&gt;</td></tr>\n",
              "\t<tr><td><span style=white-space:pre-wrap>oahu   </span></td><td><span style=white-space:pre-wrap>pearl_harbor  </span></td><td><span style=white-space:pre-wrap>/content/imagery/planet/2018/utm4/2018_pearl_harbor_stack.tif  </span></td><td>&lt;S4 class ‘RasterStack’ [package “raster”] with 12 slots&gt;</td></tr>\n",
              "\t<tr><td><span style=white-space:pre-wrap>maui   </span></td><td><span style=white-space:pre-wrap>waihee        </span></td><td><span style=white-space:pre-wrap>/content/imagery/planet/2018/utm4/2018_waihee_stack.tif        </span></td><td>&lt;S4 class ‘RasterStack’ [package “raster”] with 12 slots&gt;</td></tr>\n",
              "\t<tr><td><span style=white-space:pre-wrap>kauai  </span></td><td>wailua_opaekaa</td><td>/content/imagery/planet/2018/utm4/2018_wailua_opaekaa_stack.tif</td><td>&lt;S4 class ‘RasterStack’ [package “raster”] with 12 slots&gt;</td></tr>\n",
              "</tbody>\n",
              "</table>\n"
            ],
            "text/markdown": "\nA data.table: 16 × 4\n\n| island &lt;chr&gt; | location_name &lt;chr&gt; | planet_file_path &lt;chr&gt; | planet_raster &lt;list&gt; |\n|---|---|---|---|\n| kauai   | anahola        | /content/imagery/planet/2018/utm4/2018_anahola_stack.tif        | &lt;S4 class ‘RasterStack’ [package “raster”] with 12 slots&gt; |\n| oahu    | haleiwa        | /content/imagery/planet/2018/utm4/2018_haleiwa_stack.tif        | &lt;S4 class ‘RasterStack’ [package “raster”] with 12 slots&gt; |\n| kauai   | hanalei        | /content/imagery/planet/2018/utm4/2018_hanalei_stack.tif        | &lt;S4 class ‘RasterStack’ [package “raster”] with 12 slots&gt; |\n| kauai   | huleia         | /content/imagery/planet/2018/utm4/2018_huleia_stack.tif         | &lt;S4 class ‘RasterStack’ [package “raster”] with 12 slots&gt; |\n| oahu    | kahuku         | /content/imagery/planet/2018/utm4/2018_kahuku_stack.tif         | &lt;S4 class ‘RasterStack’ [package “raster”] with 12 slots&gt; |\n| molokai | kakahaia       | /content/imagery/planet/2018/utm4/2018_kakahaia_stack.tif       | &lt;S4 class ‘RasterStack’ [package “raster”] with 12 slots&gt; |\n| molokai | kaluaapuhi     | /content/imagery/planet/2018/utm4/2018_kaluaapuhi_stack.tif     | &lt;S4 class ‘RasterStack’ [package “raster”] with 12 slots&gt; |\n| molokai | kamalo         | /content/imagery/planet/2018/utm4/2018_kamalo_stack.tif         | &lt;S4 class ‘RasterStack’ [package “raster”] with 12 slots&gt; |\n| maui    | kanaha         | /content/imagery/planet/2018/utm4/2018_kanaha_stack.tif         | &lt;S4 class ‘RasterStack’ [package “raster”] with 12 slots&gt; |\n| oahu    | kawainui       | /content/imagery/planet/2018/utm4/2018_kawainui_stack.tif       | &lt;S4 class ‘RasterStack’ [package “raster”] with 12 slots&gt; |\n| maui    | kealia         | /content/imagery/planet/2018/utm4/2018_kealia_stack.tif         | &lt;S4 class ‘RasterStack’ [package “raster”] with 12 slots&gt; |\n| kauai   | lumahai        | /content/imagery/planet/2018/utm4/2018_lumahai_stack.tif        | &lt;S4 class ‘RasterStack’ [package “raster”] with 12 slots&gt; |\n| maui    | paukukalo      | /content/imagery/planet/2018/utm4/2018_paukukalo_stack.tif      | &lt;S4 class ‘RasterStack’ [package “raster”] with 12 slots&gt; |\n| oahu    | pearl_harbor   | /content/imagery/planet/2018/utm4/2018_pearl_harbor_stack.tif   | &lt;S4 class ‘RasterStack’ [package “raster”] with 12 slots&gt; |\n| maui    | waihee         | /content/imagery/planet/2018/utm4/2018_waihee_stack.tif         | &lt;S4 class ‘RasterStack’ [package “raster”] with 12 slots&gt; |\n| kauai   | wailua_opaekaa | /content/imagery/planet/2018/utm4/2018_wailua_opaekaa_stack.tif | &lt;S4 class ‘RasterStack’ [package “raster”] with 12 slots&gt; |\n\n",
            "text/latex": "A data.table: 16 × 4\n\\begin{tabular}{llll}\n island & location\\_name & planet\\_file\\_path & planet\\_raster\\\\\n <chr> & <chr> & <chr> & <list>\\\\\n\\hline\n\t kauai   & anahola        & /content/imagery/planet/2018/utm4/2018\\_anahola\\_stack.tif        & <S4 class ‘RasterStack’ {[}package “raster”{]} with 12 slots>\\\\\n\t oahu    & haleiwa        & /content/imagery/planet/2018/utm4/2018\\_haleiwa\\_stack.tif        & <S4 class ‘RasterStack’ {[}package “raster”{]} with 12 slots>\\\\\n\t kauai   & hanalei        & /content/imagery/planet/2018/utm4/2018\\_hanalei\\_stack.tif        & <S4 class ‘RasterStack’ {[}package “raster”{]} with 12 slots>\\\\\n\t kauai   & huleia         & /content/imagery/planet/2018/utm4/2018\\_huleia\\_stack.tif         & <S4 class ‘RasterStack’ {[}package “raster”{]} with 12 slots>\\\\\n\t oahu    & kahuku         & /content/imagery/planet/2018/utm4/2018\\_kahuku\\_stack.tif         & <S4 class ‘RasterStack’ {[}package “raster”{]} with 12 slots>\\\\\n\t molokai & kakahaia       & /content/imagery/planet/2018/utm4/2018\\_kakahaia\\_stack.tif       & <S4 class ‘RasterStack’ {[}package “raster”{]} with 12 slots>\\\\\n\t molokai & kaluaapuhi     & /content/imagery/planet/2018/utm4/2018\\_kaluaapuhi\\_stack.tif     & <S4 class ‘RasterStack’ {[}package “raster”{]} with 12 slots>\\\\\n\t molokai & kamalo         & /content/imagery/planet/2018/utm4/2018\\_kamalo\\_stack.tif         & <S4 class ‘RasterStack’ {[}package “raster”{]} with 12 slots>\\\\\n\t maui    & kanaha         & /content/imagery/planet/2018/utm4/2018\\_kanaha\\_stack.tif         & <S4 class ‘RasterStack’ {[}package “raster”{]} with 12 slots>\\\\\n\t oahu    & kawainui       & /content/imagery/planet/2018/utm4/2018\\_kawainui\\_stack.tif       & <S4 class ‘RasterStack’ {[}package “raster”{]} with 12 slots>\\\\\n\t maui    & kealia         & /content/imagery/planet/2018/utm4/2018\\_kealia\\_stack.tif         & <S4 class ‘RasterStack’ {[}package “raster”{]} with 12 slots>\\\\\n\t kauai   & lumahai        & /content/imagery/planet/2018/utm4/2018\\_lumahai\\_stack.tif        & <S4 class ‘RasterStack’ {[}package “raster”{]} with 12 slots>\\\\\n\t maui    & paukukalo      & /content/imagery/planet/2018/utm4/2018\\_paukukalo\\_stack.tif      & <S4 class ‘RasterStack’ {[}package “raster”{]} with 12 slots>\\\\\n\t oahu    & pearl\\_harbor   & /content/imagery/planet/2018/utm4/2018\\_pearl\\_harbor\\_stack.tif   & <S4 class ‘RasterStack’ {[}package “raster”{]} with 12 slots>\\\\\n\t maui    & waihee         & /content/imagery/planet/2018/utm4/2018\\_waihee\\_stack.tif         & <S4 class ‘RasterStack’ {[}package “raster”{]} with 12 slots>\\\\\n\t kauai   & wailua\\_opaekaa & /content/imagery/planet/2018/utm4/2018\\_wailua\\_opaekaa\\_stack.tif & <S4 class ‘RasterStack’ {[}package “raster”{]} with 12 slots>\\\\\n\\end{tabular}\n",
            "text/plain": [
              "   island  location_name \n",
              "1  kauai   anahola       \n",
              "2  oahu    haleiwa       \n",
              "3  kauai   hanalei       \n",
              "4  kauai   huleia        \n",
              "5  oahu    kahuku        \n",
              "6  molokai kakahaia      \n",
              "7  molokai kaluaapuhi    \n",
              "8  molokai kamalo        \n",
              "9  maui    kanaha        \n",
              "10 oahu    kawainui      \n",
              "11 maui    kealia        \n",
              "12 kauai   lumahai       \n",
              "13 maui    paukukalo     \n",
              "14 oahu    pearl_harbor  \n",
              "15 maui    waihee        \n",
              "16 kauai   wailua_opaekaa\n",
              "   planet_file_path                                               \n",
              "1  /content/imagery/planet/2018/utm4/2018_anahola_stack.tif       \n",
              "2  /content/imagery/planet/2018/utm4/2018_haleiwa_stack.tif       \n",
              "3  /content/imagery/planet/2018/utm4/2018_hanalei_stack.tif       \n",
              "4  /content/imagery/planet/2018/utm4/2018_huleia_stack.tif        \n",
              "5  /content/imagery/planet/2018/utm4/2018_kahuku_stack.tif        \n",
              "6  /content/imagery/planet/2018/utm4/2018_kakahaia_stack.tif      \n",
              "7  /content/imagery/planet/2018/utm4/2018_kaluaapuhi_stack.tif    \n",
              "8  /content/imagery/planet/2018/utm4/2018_kamalo_stack.tif        \n",
              "9  /content/imagery/planet/2018/utm4/2018_kanaha_stack.tif        \n",
              "10 /content/imagery/planet/2018/utm4/2018_kawainui_stack.tif      \n",
              "11 /content/imagery/planet/2018/utm4/2018_kealia_stack.tif        \n",
              "12 /content/imagery/planet/2018/utm4/2018_lumahai_stack.tif       \n",
              "13 /content/imagery/planet/2018/utm4/2018_paukukalo_stack.tif     \n",
              "14 /content/imagery/planet/2018/utm4/2018_pearl_harbor_stack.tif  \n",
              "15 /content/imagery/planet/2018/utm4/2018_waihee_stack.tif        \n",
              "16 /content/imagery/planet/2018/utm4/2018_wailua_opaekaa_stack.tif\n",
              "   planet_raster                                            \n",
              "1  <S4 class ‘RasterStack’ [package “raster”] with 12 slots>\n",
              "2  <S4 class ‘RasterStack’ [package “raster”] with 12 slots>\n",
              "3  <S4 class ‘RasterStack’ [package “raster”] with 12 slots>\n",
              "4  <S4 class ‘RasterStack’ [package “raster”] with 12 slots>\n",
              "5  <S4 class ‘RasterStack’ [package “raster”] with 12 slots>\n",
              "6  <S4 class ‘RasterStack’ [package “raster”] with 12 slots>\n",
              "7  <S4 class ‘RasterStack’ [package “raster”] with 12 slots>\n",
              "8  <S4 class ‘RasterStack’ [package “raster”] with 12 slots>\n",
              "9  <S4 class ‘RasterStack’ [package “raster”] with 12 slots>\n",
              "10 <S4 class ‘RasterStack’ [package “raster”] with 12 slots>\n",
              "11 <S4 class ‘RasterStack’ [package “raster”] with 12 slots>\n",
              "12 <S4 class ‘RasterStack’ [package “raster”] with 12 slots>\n",
              "13 <S4 class ‘RasterStack’ [package “raster”] with 12 slots>\n",
              "14 <S4 class ‘RasterStack’ [package “raster”] with 12 slots>\n",
              "15 <S4 class ‘RasterStack’ [package “raster”] with 12 slots>\n",
              "16 <S4 class ‘RasterStack’ [package “raster”] with 12 slots>"
            ]
          },
          "metadata": {}
        }
      ]
    },
    {
      "cell_type": "code",
      "source": [
        "plot(wetlandsFishnet_nad83_sf)"
      ],
      "metadata": {
        "id": "IsZVZxAzpVUn",
        "outputId": "82ccfbcb-5b7e-4527-fbac-adfdf8607a2f",
        "colab": {
          "base_uri": "https://localhost:8080/",
          "height": 437
        }
      },
      "execution_count": 219,
      "outputs": [
        {
          "output_type": "display_data",
          "data": {
            "text/plain": [
              "Plot with title “rowid”"
            ],
            "image/png": "[encoded data removed]"
          },
          "metadata": {
            "image/png": {
              "width": 420,
              "height": 420
            }
          }
        }
      ]
    },
    {
      "cell_type": "code",
      "source": [
        "wetland_location_name <- $layer"
      ],
      "metadata": {
        "id": "w8BGHgajrr7z"
      },
      "execution_count": 227,
      "outputs": []
    },
    {
      "cell_type": "code",
      "source": [
        "wetland_location_name"
      ],
      "metadata": {
        "id": "CzshV2arrs5s"
      },
      "execution_count": null,
      "outputs": []
    },
    {
      "cell_type": "code",
      "source": [
        "wetlandsFishnet_nad83_sf"
      ],
      "metadata": {
        "id": "VdvkF8VUr4dm"
      },
      "execution_count": null,
      "outputs": []
    },
    {
      "cell_type": "code",
      "source": [
        "planet_dt"
      ],
      "metadata": {
        "id": "ooTibeKArwp2"
      },
      "execution_count": null,
      "outputs": []
    },
    {
      "cell_type": "code",
      "source": [
        "\n",
        "\n",
        "matching_row <- planet_dt[wetland_location_name == planet_dt$location_name]"
      ],
      "metadata": {
        "id": "rAR7QopJrIBo",
        "outputId": "c2b12518-d930-44a4-df3b-18f4258a8d66",
        "colab": {
          "base_uri": "https://localhost:8080/",
          "height": 245
        }
      },
      "execution_count": 226,
      "outputs": [
        {
          "output_type": "stream",
          "name": "stderr",
          "text": [
            "Warning message in wetland_location_name == planet_dt$location_name:\n",
            "“longer object length is not a multiple of shorter object length”\n"
          ]
        },
        {
          "output_type": "error",
          "ename": "ERROR",
          "evalue": "Error: i evaluates to a logical vector length 2666 but there are 16 rows. Recycling of logical i is no longer allowed as it hides more bugs than is worth the rare convenience. Explicitly use rep(...,length=.N) if you really need to recycle.\n",
          "traceback": [
            "Error: i evaluates to a logical vector length 2666 but there are 16 rows. Recycling of logical i is no longer allowed as it hides more bugs than is worth the rare convenience. Explicitly use rep(...,length=.N) if you really need to recycle.\nTraceback:\n",
            "1. planet_dt[wetland_location_name == planet_dt$location_name]",
            "2. `[.data.table`(planet_dt, wetland_location_name == planet_dt$location_name)",
            "3. stopf(\"i evaluates to a logical vector length %d but there are %d rows. Recycling of logical i is no longer allowed as it hides more bugs than is worth the rare convenience. Explicitly use rep(...,length=.N) if you really need to recycle.\", \n .     length(i), nrow(x))",
            "4. stop(gettextf(fmt, ..., domain = domain), domain = NA, call. = FALSE)"
          ]
        }
      ]
    },
    {
      "cell_type": "code",
      "source": [
        "wetlandsFishnet_nad83_sf"
      ],
      "metadata": {
        "id": "IvnhkLesshMW",
        "outputId": "1685503d-1bb4-4f44-9754-9d813b08e53f",
        "colab": {
          "base_uri": "https://localhost:8080/",
          "height": 1000
        }
      },
      "execution_count": 234,
      "outputs": [
        {
          "output_type": "stream",
          "name": "stderr",
          "text": [
            "ERROR while rich displaying an object: Error in loadNamespace(x): there is no package called ‘geojsonio’\n",
            "\n",
            "Traceback:\n",
            "1. tryCatch(withCallingHandlers({\n",
            " .     if (!mime %in% names(repr::mime2repr)) \n",
            " .         stop(\"No repr_* for mimetype \", mime, \" in repr::mime2repr\")\n",
            " .     rpr <- repr::mime2repr[[mime]](obj)\n",
            " .     if (is.null(rpr)) \n",
            " .         return(NULL)\n",
            " .     prepare_content(is.raw(rpr), rpr)\n",
            " . }, error = error_handler), error = outer_handler)\n",
            "2. tryCatchList(expr, classes, parentenv, handlers)\n",
            "3. tryCatchOne(expr, names, parentenv, handlers[[1L]])\n",
            "4. doTryCatch(return(expr), name, parentenv, handler)\n",
            "5. withCallingHandlers({\n",
            " .     if (!mime %in% names(repr::mime2repr)) \n",
            " .         stop(\"No repr_* for mimetype \", mime, \" in repr::mime2repr\")\n",
            " .     rpr <- repr::mime2repr[[mime]](obj)\n",
            " .     if (is.null(rpr)) \n",
            " .         return(NULL)\n",
            " .     prepare_content(is.raw(rpr), rpr)\n",
            " . }, error = error_handler)\n",
            "6. repr::mime2repr[[mime]](obj)\n",
            "7. repr_geojson.sf(obj)\n",
            "8. repr_geojson(geojsonio::geojson_list(obj), ...)\n",
            "9. loadNamespace(x)\n",
            "10. withRestarts(stop(cond), retry_loadNamespace = function() NULL)\n",
            "11. withOneRestart(expr, restarts[[1L]])\n",
            "12. doWithOneRestart(return(expr), restart)\n"
          ]
        },
        {
          "output_type": "display_data",
          "data": {
            "text/html": [
              "<table class=\"dataframe\">\n",
              "<caption>A sf: 2666 × 6</caption>\n",
              "<thead>\n",
              "\t<tr><th scope=col>id</th><th scope=col>island</th><th scope=col>layer</th><th scope=col>path</th><th scope=col>rowid</th><th scope=col>x</th></tr>\n",
              "\t<tr><th scope=col>&lt;dbl&gt;</th><th scope=col>&lt;chr&gt;</th><th scope=col>&lt;chr&gt;</th><th scope=col>&lt;chr&gt;</th><th scope=col>&lt;int&gt;</th><th scope=col>&lt;POLYGON [m]&gt;</th></tr>\n",
              "</thead>\n",
              "<tbody>\n",
              "\t<tr><td>1</td><td>kauai</td><td>anahola</td><td>E:/Data/AOI_Shapefiles/kauai/anahola.shp</td><td> 1</td><td>POLYGON ((467437.8 2447514,...</td></tr>\n",
              "\t<tr><td>1</td><td>kauai</td><td>anahola</td><td>E:/Data/AOI_Shapefiles/kauai/anahola.shp</td><td> 2</td><td>POLYGON ((467821.8 2447514,...</td></tr>\n",
              "\t<tr><td>1</td><td>kauai</td><td>anahola</td><td>E:/Data/AOI_Shapefiles/kauai/anahola.shp</td><td> 3</td><td>POLYGON ((468205.8 2447514,...</td></tr>\n",
              "\t<tr><td>1</td><td>kauai</td><td>anahola</td><td>E:/Data/AOI_Shapefiles/kauai/anahola.shp</td><td> 4</td><td>POLYGON ((468589.8 2447514,...</td></tr>\n",
              "\t<tr><td>1</td><td>kauai</td><td>anahola</td><td>E:/Data/AOI_Shapefiles/kauai/anahola.shp</td><td> 5</td><td>POLYGON ((468973.8 2447514,...</td></tr>\n",
              "\t<tr><td>1</td><td>kauai</td><td>anahola</td><td>E:/Data/AOI_Shapefiles/kauai/anahola.shp</td><td> 6</td><td>POLYGON ((469357.8 2447514,...</td></tr>\n",
              "\t<tr><td>1</td><td>kauai</td><td>anahola</td><td>E:/Data/AOI_Shapefiles/kauai/anahola.shp</td><td> 7</td><td>POLYGON ((469741.8 2447514,...</td></tr>\n",
              "\t<tr><td>1</td><td>kauai</td><td>anahola</td><td>E:/Data/AOI_Shapefiles/kauai/anahola.shp</td><td> 8</td><td>POLYGON ((470125.8 2447514,...</td></tr>\n",
              "\t<tr><td>1</td><td>kauai</td><td>anahola</td><td>E:/Data/AOI_Shapefiles/kauai/anahola.shp</td><td> 9</td><td>POLYGON ((467821.8 2448282,...</td></tr>\n",
              "\t<tr><td>1</td><td>kauai</td><td>anahola</td><td>E:/Data/AOI_Shapefiles/kauai/anahola.shp</td><td>10</td><td>POLYGON ((467821.8 2448282,...</td></tr>\n",
              "\t<tr><td>1</td><td>kauai</td><td>anahola</td><td>E:/Data/AOI_Shapefiles/kauai/anahola.shp</td><td>11</td><td>POLYGON ((468205.8 2448282,...</td></tr>\n",
              "\t<tr><td>1</td><td>kauai</td><td>anahola</td><td>E:/Data/AOI_Shapefiles/kauai/anahola.shp</td><td>12</td><td>POLYGON ((468589.8 2448282,...</td></tr>\n",
              "\t<tr><td>1</td><td>kauai</td><td>anahola</td><td>E:/Data/AOI_Shapefiles/kauai/anahola.shp</td><td>13</td><td>POLYGON ((468973.8 2448282,...</td></tr>\n",
              "\t<tr><td>1</td><td>kauai</td><td>anahola</td><td>E:/Data/AOI_Shapefiles/kauai/anahola.shp</td><td>14</td><td>POLYGON ((469357.8 2448282,...</td></tr>\n",
              "\t<tr><td>1</td><td>kauai</td><td>anahola</td><td>E:/Data/AOI_Shapefiles/kauai/anahola.shp</td><td>15</td><td>POLYGON ((469741.8 2448282,...</td></tr>\n",
              "\t<tr><td>1</td><td>kauai</td><td>anahola</td><td>E:/Data/AOI_Shapefiles/kauai/anahola.shp</td><td>16</td><td>POLYGON ((470125.8 2447898,...</td></tr>\n",
              "\t<tr><td>1</td><td>kauai</td><td>anahola</td><td>E:/Data/AOI_Shapefiles/kauai/anahola.shp</td><td>17</td><td>POLYGON ((467821.8 2448666,...</td></tr>\n",
              "\t<tr><td>1</td><td>kauai</td><td>anahola</td><td>E:/Data/AOI_Shapefiles/kauai/anahola.shp</td><td>18</td><td>POLYGON ((467821.8 2448666,...</td></tr>\n",
              "\t<tr><td>1</td><td>kauai</td><td>anahola</td><td>E:/Data/AOI_Shapefiles/kauai/anahola.shp</td><td>19</td><td>POLYGON ((468205.8 2448666,...</td></tr>\n",
              "\t<tr><td>1</td><td>kauai</td><td>anahola</td><td>E:/Data/AOI_Shapefiles/kauai/anahola.shp</td><td>20</td><td>POLYGON ((468589.8 2448666,...</td></tr>\n",
              "\t<tr><td>1</td><td>kauai</td><td>anahola</td><td>E:/Data/AOI_Shapefiles/kauai/anahola.shp</td><td>21</td><td>POLYGON ((468973.8 2448666,...</td></tr>\n",
              "\t<tr><td>1</td><td>kauai</td><td>anahola</td><td>E:/Data/AOI_Shapefiles/kauai/anahola.shp</td><td>22</td><td>POLYGON ((469357.8 2448666,...</td></tr>\n",
              "\t<tr><td>1</td><td>kauai</td><td>anahola</td><td>E:/Data/AOI_Shapefiles/kauai/anahola.shp</td><td>23</td><td>POLYGON ((469741.8 2448666,...</td></tr>\n",
              "\t<tr><td>1</td><td>kauai</td><td>anahola</td><td>E:/Data/AOI_Shapefiles/kauai/anahola.shp</td><td>24</td><td>POLYGON ((470125.8 2448282,...</td></tr>\n",
              "\t<tr><td>1</td><td>kauai</td><td>anahola</td><td>E:/Data/AOI_Shapefiles/kauai/anahola.shp</td><td>25</td><td>POLYGON ((467821.8 2449050,...</td></tr>\n",
              "\t<tr><td>1</td><td>kauai</td><td>anahola</td><td>E:/Data/AOI_Shapefiles/kauai/anahola.shp</td><td>26</td><td>POLYGON ((467821.8 2449050,...</td></tr>\n",
              "\t<tr><td>1</td><td>kauai</td><td>anahola</td><td>E:/Data/AOI_Shapefiles/kauai/anahola.shp</td><td>27</td><td>POLYGON ((468205.8 2449050,...</td></tr>\n",
              "\t<tr><td>1</td><td>kauai</td><td>anahola</td><td>E:/Data/AOI_Shapefiles/kauai/anahola.shp</td><td>28</td><td>POLYGON ((468589.8 2449050,...</td></tr>\n",
              "\t<tr><td>1</td><td>kauai</td><td>anahola</td><td>E:/Data/AOI_Shapefiles/kauai/anahola.shp</td><td>29</td><td>POLYGON ((468973.8 2449050,...</td></tr>\n",
              "\t<tr><td>1</td><td>kauai</td><td>anahola</td><td>E:/Data/AOI_Shapefiles/kauai/anahola.shp</td><td>30</td><td>POLYGON ((469357.8 2449050,...</td></tr>\n",
              "\t<tr><td>⋮</td><td>⋮</td><td>⋮</td><td>⋮</td><td>⋮</td><td>⋮</td></tr>\n",
              "\t<tr><td>1</td><td>kauai</td><td>wailua_opaekaa</td><td>E:/Data/AOI_Shapefiles/kauai/wailua_opaekaa.shp</td><td>61</td><td>POLYGON ((464507.4 2441957,...</td></tr>\n",
              "\t<tr><td>1</td><td>kauai</td><td>wailua_opaekaa</td><td>E:/Data/AOI_Shapefiles/kauai/wailua_opaekaa.shp</td><td>62</td><td>POLYGON ((464507.4 2441957,...</td></tr>\n",
              "\t<tr><td>1</td><td>kauai</td><td>wailua_opaekaa</td><td>E:/Data/AOI_Shapefiles/kauai/wailua_opaekaa.shp</td><td>63</td><td>POLYGON ((464891.4 2441957,...</td></tr>\n",
              "\t<tr><td>1</td><td>kauai</td><td>wailua_opaekaa</td><td>E:/Data/AOI_Shapefiles/kauai/wailua_opaekaa.shp</td><td>64</td><td>POLYGON ((465275.4 2441957,...</td></tr>\n",
              "\t<tr><td>1</td><td>kauai</td><td>wailua_opaekaa</td><td>E:/Data/AOI_Shapefiles/kauai/wailua_opaekaa.shp</td><td>65</td><td>POLYGON ((465659.4 2441957,...</td></tr>\n",
              "\t<tr><td>1</td><td>kauai</td><td>wailua_opaekaa</td><td>E:/Data/AOI_Shapefiles/kauai/wailua_opaekaa.shp</td><td>66</td><td>POLYGON ((466043.4 2441957,...</td></tr>\n",
              "\t<tr><td>1</td><td>kauai</td><td>wailua_opaekaa</td><td>E:/Data/AOI_Shapefiles/kauai/wailua_opaekaa.shp</td><td>67</td><td>POLYGON ((466427.4 2441957,...</td></tr>\n",
              "\t<tr><td>1</td><td>kauai</td><td>wailua_opaekaa</td><td>E:/Data/AOI_Shapefiles/kauai/wailua_opaekaa.shp</td><td>68</td><td>POLYGON ((466811.3 2441957,...</td></tr>\n",
              "\t<tr><td>1</td><td>kauai</td><td>wailua_opaekaa</td><td>E:/Data/AOI_Shapefiles/kauai/wailua_opaekaa.shp</td><td>69</td><td>POLYGON ((467195.3 2441957,...</td></tr>\n",
              "\t<tr><td>1</td><td>kauai</td><td>wailua_opaekaa</td><td>E:/Data/AOI_Shapefiles/kauai/wailua_opaekaa.shp</td><td>70</td><td>POLYGON ((467579.3 2441573,...</td></tr>\n",
              "\t<tr><td>1</td><td>kauai</td><td>wailua_opaekaa</td><td>E:/Data/AOI_Shapefiles/kauai/wailua_opaekaa.shp</td><td>71</td><td>POLYGON ((464507.4 2442341,...</td></tr>\n",
              "\t<tr><td>1</td><td>kauai</td><td>wailua_opaekaa</td><td>E:/Data/AOI_Shapefiles/kauai/wailua_opaekaa.shp</td><td>72</td><td>POLYGON ((464507.4 2442341,...</td></tr>\n",
              "\t<tr><td>1</td><td>kauai</td><td>wailua_opaekaa</td><td>E:/Data/AOI_Shapefiles/kauai/wailua_opaekaa.shp</td><td>73</td><td>POLYGON ((464891.4 2442341,...</td></tr>\n",
              "\t<tr><td>1</td><td>kauai</td><td>wailua_opaekaa</td><td>E:/Data/AOI_Shapefiles/kauai/wailua_opaekaa.shp</td><td>74</td><td>POLYGON ((465275.4 2442341,...</td></tr>\n",
              "\t<tr><td>1</td><td>kauai</td><td>wailua_opaekaa</td><td>E:/Data/AOI_Shapefiles/kauai/wailua_opaekaa.shp</td><td>75</td><td>POLYGON ((465659.4 2442341,...</td></tr>\n",
              "\t<tr><td>1</td><td>kauai</td><td>wailua_opaekaa</td><td>E:/Data/AOI_Shapefiles/kauai/wailua_opaekaa.shp</td><td>76</td><td>POLYGON ((466043.4 2442341,...</td></tr>\n",
              "\t<tr><td>1</td><td>kauai</td><td>wailua_opaekaa</td><td>E:/Data/AOI_Shapefiles/kauai/wailua_opaekaa.shp</td><td>77</td><td>POLYGON ((466427.4 2442341,...</td></tr>\n",
              "\t<tr><td>1</td><td>kauai</td><td>wailua_opaekaa</td><td>E:/Data/AOI_Shapefiles/kauai/wailua_opaekaa.shp</td><td>78</td><td>POLYGON ((466811.3 2442341,...</td></tr>\n",
              "\t<tr><td>1</td><td>kauai</td><td>wailua_opaekaa</td><td>E:/Data/AOI_Shapefiles/kauai/wailua_opaekaa.shp</td><td>79</td><td>POLYGON ((467195.3 2442341,...</td></tr>\n",
              "\t<tr><td>1</td><td>kauai</td><td>wailua_opaekaa</td><td>E:/Data/AOI_Shapefiles/kauai/wailua_opaekaa.shp</td><td>80</td><td>POLYGON ((467579.3 2441957,...</td></tr>\n",
              "\t<tr><td>1</td><td>kauai</td><td>wailua_opaekaa</td><td>E:/Data/AOI_Shapefiles/kauai/wailua_opaekaa.shp</td><td>81</td><td>POLYGON ((464507.4 2442341,...</td></tr>\n",
              "\t<tr><td>1</td><td>kauai</td><td>wailua_opaekaa</td><td>E:/Data/AOI_Shapefiles/kauai/wailua_opaekaa.shp</td><td>82</td><td>POLYGON ((464891.4 2442341,...</td></tr>\n",
              "\t<tr><td>1</td><td>kauai</td><td>wailua_opaekaa</td><td>E:/Data/AOI_Shapefiles/kauai/wailua_opaekaa.shp</td><td>83</td><td>POLYGON ((465275.4 2442341,...</td></tr>\n",
              "\t<tr><td>1</td><td>kauai</td><td>wailua_opaekaa</td><td>E:/Data/AOI_Shapefiles/kauai/wailua_opaekaa.shp</td><td>84</td><td>POLYGON ((465659.4 2442341,...</td></tr>\n",
              "\t<tr><td>1</td><td>kauai</td><td>wailua_opaekaa</td><td>E:/Data/AOI_Shapefiles/kauai/wailua_opaekaa.shp</td><td>85</td><td>POLYGON ((466043.4 2442341,...</td></tr>\n",
              "\t<tr><td>1</td><td>kauai</td><td>wailua_opaekaa</td><td>E:/Data/AOI_Shapefiles/kauai/wailua_opaekaa.shp</td><td>86</td><td>POLYGON ((466427.4 2442341,...</td></tr>\n",
              "\t<tr><td>1</td><td>kauai</td><td>wailua_opaekaa</td><td>E:/Data/AOI_Shapefiles/kauai/wailua_opaekaa.shp</td><td>87</td><td>POLYGON ((466811.3 2442341,...</td></tr>\n",
              "\t<tr><td>1</td><td>kauai</td><td>wailua_opaekaa</td><td>E:/Data/AOI_Shapefiles/kauai/wailua_opaekaa.shp</td><td>88</td><td>POLYGON ((467195.3 2442341,...</td></tr>\n",
              "\t<tr><td>1</td><td>kauai</td><td>wailua_opaekaa</td><td>E:/Data/AOI_Shapefiles/kauai/wailua_opaekaa.shp</td><td>89</td><td>POLYGON ((467579.3 2442341,...</td></tr>\n",
              "\t<tr><td>1</td><td>kauai</td><td>wailua_opaekaa</td><td>E:/Data/AOI_Shapefiles/kauai/wailua_opaekaa.shp</td><td>90</td><td>POLYGON ((467579.3 2442341,...</td></tr>\n",
              "</tbody>\n",
              "</table>\n"
            ],
            "text/markdown": "\nA sf: 2666 × 6\n\n| id &lt;dbl&gt; | island &lt;chr&gt; | layer &lt;chr&gt; | path &lt;chr&gt; | rowid &lt;int&gt; | x &lt;POLYGON [m]&gt; |\n|---|---|---|---|---|---|\n| 1 | kauai | anahola | E:/Data/AOI_Shapefiles/kauai/anahola.shp |  1 | POLYGON ((467437.8 2447514,... |\n| 1 | kauai | anahola | E:/Data/AOI_Shapefiles/kauai/anahola.shp |  2 | POLYGON ((467821.8 2447514,... |\n| 1 | kauai | anahola | E:/Data/AOI_Shapefiles/kauai/anahola.shp |  3 | POLYGON ((468205.8 2447514,... |\n| 1 | kauai | anahola | E:/Data/AOI_Shapefiles/kauai/anahola.shp |  4 | POLYGON ((468589.8 2447514,... |\n| 1 | kauai | anahola | E:/Data/AOI_Shapefiles/kauai/anahola.shp |  5 | POLYGON ((468973.8 2447514,... |\n| 1 | kauai | anahola | E:/Data/AOI_Shapefiles/kauai/anahola.shp |  6 | POLYGON ((469357.8 2447514,... |\n| 1 | kauai | anahola | E:/Data/AOI_Shapefiles/kauai/anahola.shp |  7 | POLYGON ((469741.8 2447514,... |\n| 1 | kauai | anahola | E:/Data/AOI_Shapefiles/kauai/anahola.shp |  8 | POLYGON ((470125.8 2447514,... |\n| 1 | kauai | anahola | E:/Data/AOI_Shapefiles/kauai/anahola.shp |  9 | POLYGON ((467821.8 2448282,... |\n| 1 | kauai | anahola | E:/Data/AOI_Shapefiles/kauai/anahola.shp | 10 | POLYGON ((467821.8 2448282,... |\n| 1 | kauai | anahola | E:/Data/AOI_Shapefiles/kauai/anahola.shp | 11 | POLYGON ((468205.8 2448282,... |\n| 1 | kauai | anahola | E:/Data/AOI_Shapefiles/kauai/anahola.shp | 12 | POLYGON ((468589.8 2448282,... |\n| 1 | kauai | anahola | E:/Data/AOI_Shapefiles/kauai/anahola.shp | 13 | POLYGON ((468973.8 2448282,... |\n| 1 | kauai | anahola | E:/Data/AOI_Shapefiles/kauai/anahola.shp | 14 | POLYGON ((469357.8 2448282,... |\n| 1 | kauai | anahola | E:/Data/AOI_Shapefiles/kauai/anahola.shp | 15 | POLYGON ((469741.8 2448282,... |\n| 1 | kauai | anahola | E:/Data/AOI_Shapefiles/kauai/anahola.shp | 16 | POLYGON ((470125.8 2447898,... |\n| 1 | kauai | anahola | E:/Data/AOI_Shapefiles/kauai/anahola.shp | 17 | POLYGON ((467821.8 2448666,... |\n| 1 | kauai | anahola | E:/Data/AOI_Shapefiles/kauai/anahola.shp | 18 | POLYGON ((467821.8 2448666,... |\n| 1 | kauai | anahola | E:/Data/AOI_Shapefiles/kauai/anahola.shp | 19 | POLYGON ((468205.8 2448666,... |\n| 1 | kauai | anahola | E:/Data/AOI_Shapefiles/kauai/anahola.shp | 20 | POLYGON ((468589.8 2448666,... |\n| 1 | kauai | anahola | E:/Data/AOI_Shapefiles/kauai/anahola.shp | 21 | POLYGON ((468973.8 2448666,... |\n| 1 | kauai | anahola | E:/Data/AOI_Shapefiles/kauai/anahola.shp | 22 | POLYGON ((469357.8 2448666,... |\n| 1 | kauai | anahola | E:/Data/AOI_Shapefiles/kauai/anahola.shp | 23 | POLYGON ((469741.8 2448666,... |\n| 1 | kauai | anahola | E:/Data/AOI_Shapefiles/kauai/anahola.shp | 24 | POLYGON ((470125.8 2448282,... |\n| 1 | kauai | anahola | E:/Data/AOI_Shapefiles/kauai/anahola.shp | 25 | POLYGON ((467821.8 2449050,... |\n| 1 | kauai | anahola | E:/Data/AOI_Shapefiles/kauai/anahola.shp | 26 | POLYGON ((467821.8 2449050,... |\n| 1 | kauai | anahola | E:/Data/AOI_Shapefiles/kauai/anahola.shp | 27 | POLYGON ((468205.8 2449050,... |\n| 1 | kauai | anahola | E:/Data/AOI_Shapefiles/kauai/anahola.shp | 28 | POLYGON ((468589.8 2449050,... |\n| 1 | kauai | anahola | E:/Data/AOI_Shapefiles/kauai/anahola.shp | 29 | POLYGON ((468973.8 2449050,... |\n| 1 | kauai | anahola | E:/Data/AOI_Shapefiles/kauai/anahola.shp | 30 | POLYGON ((469357.8 2449050,... |\n| ⋮ | ⋮ | ⋮ | ⋮ | ⋮ | ⋮ |\n| 1 | kauai | wailua_opaekaa | E:/Data/AOI_Shapefiles/kauai/wailua_opaekaa.shp | 61 | POLYGON ((464507.4 2441957,... |\n| 1 | kauai | wailua_opaekaa | E:/Data/AOI_Shapefiles/kauai/wailua_opaekaa.shp | 62 | POLYGON ((464507.4 2441957,... |\n| 1 | kauai | wailua_opaekaa | E:/Data/AOI_Shapefiles/kauai/wailua_opaekaa.shp | 63 | POLYGON ((464891.4 2441957,... |\n| 1 | kauai | wailua_opaekaa | E:/Data/AOI_Shapefiles/kauai/wailua_opaekaa.shp | 64 | POLYGON ((465275.4 2441957,... |\n| 1 | kauai | wailua_opaekaa | E:/Data/AOI_Shapefiles/kauai/wailua_opaekaa.shp | 65 | POLYGON ((465659.4 2441957,... |\n| 1 | kauai | wailua_opaekaa | E:/Data/AOI_Shapefiles/kauai/wailua_opaekaa.shp | 66 | POLYGON ((466043.4 2441957,... |\n| 1 | kauai | wailua_opaekaa | E:/Data/AOI_Shapefiles/kauai/wailua_opaekaa.shp | 67 | POLYGON ((466427.4 2441957,... |\n| 1 | kauai | wailua_opaekaa | E:/Data/AOI_Shapefiles/kauai/wailua_opaekaa.shp | 68 | POLYGON ((466811.3 2441957,... |\n| 1 | kauai | wailua_opaekaa | E:/Data/AOI_Shapefiles/kauai/wailua_opaekaa.shp | 69 | POLYGON ((467195.3 2441957,... |\n| 1 | kauai | wailua_opaekaa | E:/Data/AOI_Shapefiles/kauai/wailua_opaekaa.shp | 70 | POLYGON ((467579.3 2441573,... |\n| 1 | kauai | wailua_opaekaa | E:/Data/AOI_Shapefiles/kauai/wailua_opaekaa.shp | 71 | POLYGON ((464507.4 2442341,... |\n| 1 | kauai | wailua_opaekaa | E:/Data/AOI_Shapefiles/kauai/wailua_opaekaa.shp | 72 | POLYGON ((464507.4 2442341,... |\n| 1 | kauai | wailua_opaekaa | E:/Data/AOI_Shapefiles/kauai/wailua_opaekaa.shp | 73 | POLYGON ((464891.4 2442341,... |\n| 1 | kauai | wailua_opaekaa | E:/Data/AOI_Shapefiles/kauai/wailua_opaekaa.shp | 74 | POLYGON ((465275.4 2442341,... |\n| 1 | kauai | wailua_opaekaa | E:/Data/AOI_Shapefiles/kauai/wailua_opaekaa.shp | 75 | POLYGON ((465659.4 2442341,... |\n| 1 | kauai | wailua_opaekaa | E:/Data/AOI_Shapefiles/kauai/wailua_opaekaa.shp | 76 | POLYGON ((466043.4 2442341,... |\n| 1 | kauai | wailua_opaekaa | E:/Data/AOI_Shapefiles/kauai/wailua_opaekaa.shp | 77 | POLYGON ((466427.4 2442341,... |\n| 1 | kauai | wailua_opaekaa | E:/Data/AOI_Shapefiles/kauai/wailua_opaekaa.shp | 78 | POLYGON ((466811.3 2442341,... |\n| 1 | kauai | wailua_opaekaa | E:/Data/AOI_Shapefiles/kauai/wailua_opaekaa.shp | 79 | POLYGON ((467195.3 2442341,... |\n| 1 | kauai | wailua_opaekaa | E:/Data/AOI_Shapefiles/kauai/wailua_opaekaa.shp | 80 | POLYGON ((467579.3 2441957,... |\n| 1 | kauai | wailua_opaekaa | E:/Data/AOI_Shapefiles/kauai/wailua_opaekaa.shp | 81 | POLYGON ((464507.4 2442341,... |\n| 1 | kauai | wailua_opaekaa | E:/Data/AOI_Shapefiles/kauai/wailua_opaekaa.shp | 82 | POLYGON ((464891.4 2442341,... |\n| 1 | kauai | wailua_opaekaa | E:/Data/AOI_Shapefiles/kauai/wailua_opaekaa.shp | 83 | POLYGON ((465275.4 2442341,... |\n| 1 | kauai | wailua_opaekaa | E:/Data/AOI_Shapefiles/kauai/wailua_opaekaa.shp | 84 | POLYGON ((465659.4 2442341,... |\n| 1 | kauai | wailua_opaekaa | E:/Data/AOI_Shapefiles/kauai/wailua_opaekaa.shp | 85 | POLYGON ((466043.4 2442341,... |\n| 1 | kauai | wailua_opaekaa | E:/Data/AOI_Shapefiles/kauai/wailua_opaekaa.shp | 86 | POLYGON ((466427.4 2442341,... |\n| 1 | kauai | wailua_opaekaa | E:/Data/AOI_Shapefiles/kauai/wailua_opaekaa.shp | 87 | POLYGON ((466811.3 2442341,... |\n| 1 | kauai | wailua_opaekaa | E:/Data/AOI_Shapefiles/kauai/wailua_opaekaa.shp | 88 | POLYGON ((467195.3 2442341,... |\n| 1 | kauai | wailua_opaekaa | E:/Data/AOI_Shapefiles/kauai/wailua_opaekaa.shp | 89 | POLYGON ((467579.3 2442341,... |\n| 1 | kauai | wailua_opaekaa | E:/Data/AOI_Shapefiles/kauai/wailua_opaekaa.shp | 90 | POLYGON ((467579.3 2442341,... |\n\n",
            "text/latex": "A sf: 2666 × 6\n\\begin{tabular}{llllll}\n id & island & layer & path & rowid & x\\\\\n <dbl> & <chr> & <chr> & <chr> & <int> & <POLYGON {[}m{]}>\\\\\n\\hline\n\t 1 & kauai & anahola & E:/Data/AOI\\_Shapefiles/kauai/anahola.shp &  1 & POLYGON ((467437.8 2447514,...\\\\\n\t 1 & kauai & anahola & E:/Data/AOI\\_Shapefiles/kauai/anahola.shp &  2 & POLYGON ((467821.8 2447514,...\\\\\n\t 1 & kauai & anahola & E:/Data/AOI\\_Shapefiles/kauai/anahola.shp &  3 & POLYGON ((468205.8 2447514,...\\\\\n\t 1 & kauai & anahola & E:/Data/AOI\\_Shapefiles/kauai/anahola.shp &  4 & POLYGON ((468589.8 2447514,...\\\\\n\t 1 & kauai & anahola & E:/Data/AOI\\_Shapefiles/kauai/anahola.shp &  5 & POLYGON ((468973.8 2447514,...\\\\\n\t 1 & kauai & anahola & E:/Data/AOI\\_Shapefiles/kauai/anahola.shp &  6 & POLYGON ((469357.8 2447514,...\\\\\n\t 1 & kauai & anahola & E:/Data/AOI\\_Shapefiles/kauai/anahola.shp &  7 & POLYGON ((469741.8 2447514,...\\\\\n\t 1 & kauai & anahola & E:/Data/AOI\\_Shapefiles/kauai/anahola.shp &  8 & POLYGON ((470125.8 2447514,...\\\\\n\t 1 & kauai & anahola & E:/Data/AOI\\_Shapefiles/kauai/anahola.shp &  9 & POLYGON ((467821.8 2448282,...\\\\\n\t 1 & kauai & anahola & E:/Data/AOI\\_Shapefiles/kauai/anahola.shp & 10 & POLYGON ((467821.8 2448282,...\\\\\n\t 1 & kauai & anahola & E:/Data/AOI\\_Shapefiles/kauai/anahola.shp & 11 & POLYGON ((468205.8 2448282,...\\\\\n\t 1 & kauai & anahola & E:/Data/AOI\\_Shapefiles/kauai/anahola.shp & 12 & POLYGON ((468589.8 2448282,...\\\\\n\t 1 & kauai & anahola & E:/Data/AOI\\_Shapefiles/kauai/anahola.shp & 13 & POLYGON ((468973.8 2448282,...\\\\\n\t 1 & kauai & anahola & E:/Data/AOI\\_Shapefiles/kauai/anahola.shp & 14 & POLYGON ((469357.8 2448282,...\\\\\n\t 1 & kauai & anahola & E:/Data/AOI\\_Shapefiles/kauai/anahola.shp & 15 & POLYGON ((469741.8 2448282,...\\\\\n\t 1 & kauai & anahola & E:/Data/AOI\\_Shapefiles/kauai/anahola.shp & 16 & POLYGON ((470125.8 2447898,...\\\\\n\t 1 & kauai & anahola & E:/Data/AOI\\_Shapefiles/kauai/anahola.shp & 17 & POLYGON ((467821.8 2448666,...\\\\\n\t 1 & kauai & anahola & E:/Data/AOI\\_Shapefiles/kauai/anahola.shp & 18 & POLYGON ((467821.8 2448666,...\\\\\n\t 1 & kauai & anahola & E:/Data/AOI\\_Shapefiles/kauai/anahola.shp & 19 & POLYGON ((468205.8 2448666,...\\\\\n\t 1 & kauai & anahola & E:/Data/AOI\\_Shapefiles/kauai/anahola.shp & 20 & POLYGON ((468589.8 2448666,...\\\\\n\t 1 & kauai & anahola & E:/Data/AOI\\_Shapefiles/kauai/anahola.shp & 21 & POLYGON ((468973.8 2448666,...\\\\\n\t 1 & kauai & anahola & E:/Data/AOI\\_Shapefiles/kauai/anahola.shp & 22 & POLYGON ((469357.8 2448666,...\\\\\n\t 1 & kauai & anahola & E:/Data/AOI\\_Shapefiles/kauai/anahola.shp & 23 & POLYGON ((469741.8 2448666,...\\\\\n\t 1 & kauai & anahola & E:/Data/AOI\\_Shapefiles/kauai/anahola.shp & 24 & POLYGON ((470125.8 2448282,...\\\\\n\t 1 & kauai & anahola & E:/Data/AOI\\_Shapefiles/kauai/anahola.shp & 25 & POLYGON ((467821.8 2449050,...\\\\\n\t 1 & kauai & anahola & E:/Data/AOI\\_Shapefiles/kauai/anahola.shp & 26 & POLYGON ((467821.8 2449050,...\\\\\n\t 1 & kauai & anahola & E:/Data/AOI\\_Shapefiles/kauai/anahola.shp & 27 & POLYGON ((468205.8 2449050,...\\\\\n\t 1 & kauai & anahola & E:/Data/AOI\\_Shapefiles/kauai/anahola.shp & 28 & POLYGON ((468589.8 2449050,...\\\\\n\t 1 & kauai & anahola & E:/Data/AOI\\_Shapefiles/kauai/anahola.shp & 29 & POLYGON ((468973.8 2449050,...\\\\\n\t 1 & kauai & anahola & E:/Data/AOI\\_Shapefiles/kauai/anahola.shp & 30 & POLYGON ((469357.8 2449050,...\\\\\n\t ⋮ & ⋮ & ⋮ & ⋮ & ⋮ & ⋮\\\\\n\t 1 & kauai & wailua\\_opaekaa & E:/Data/AOI\\_Shapefiles/kauai/wailua\\_opaekaa.shp & 61 & POLYGON ((464507.4 2441957,...\\\\\n\t 1 & kauai & wailua\\_opaekaa & E:/Data/AOI\\_Shapefiles/kauai/wailua\\_opaekaa.shp & 62 & POLYGON ((464507.4 2441957,...\\\\\n\t 1 & kauai & wailua\\_opaekaa & E:/Data/AOI\\_Shapefiles/kauai/wailua\\_opaekaa.shp & 63 & POLYGON ((464891.4 2441957,...\\\\\n\t 1 & kauai & wailua\\_opaekaa & E:/Data/AOI\\_Shapefiles/kauai/wailua\\_opaekaa.shp & 64 & POLYGON ((465275.4 2441957,...\\\\\n\t 1 & kauai & wailua\\_opaekaa & E:/Data/AOI\\_Shapefiles/kauai/wailua\\_opaekaa.shp & 65 & POLYGON ((465659.4 2441957,...\\\\\n\t 1 & kauai & wailua\\_opaekaa & E:/Data/AOI\\_Shapefiles/kauai/wailua\\_opaekaa.shp & 66 & POLYGON ((466043.4 2441957,...\\\\\n\t 1 & kauai & wailua\\_opaekaa & E:/Data/AOI\\_Shapefiles/kauai/wailua\\_opaekaa.shp & 67 & POLYGON ((466427.4 2441957,...\\\\\n\t 1 & kauai & wailua\\_opaekaa & E:/Data/AOI\\_Shapefiles/kauai/wailua\\_opaekaa.shp & 68 & POLYGON ((466811.3 2441957,...\\\\\n\t 1 & kauai & wailua\\_opaekaa & E:/Data/AOI\\_Shapefiles/kauai/wailua\\_opaekaa.shp & 69 & POLYGON ((467195.3 2441957,...\\\\\n\t 1 & kauai & wailua\\_opaekaa & E:/Data/AOI\\_Shapefiles/kauai/wailua\\_opaekaa.shp & 70 & POLYGON ((467579.3 2441573,...\\\\\n\t 1 & kauai & wailua\\_opaekaa & E:/Data/AOI\\_Shapefiles/kauai/wailua\\_opaekaa.shp & 71 & POLYGON ((464507.4 2442341,...\\\\\n\t 1 & kauai & wailua\\_opaekaa & E:/Data/AOI\\_Shapefiles/kauai/wailua\\_opaekaa.shp & 72 & POLYGON ((464507.4 2442341,...\\\\\n\t 1 & kauai & wailua\\_opaekaa & E:/Data/AOI\\_Shapefiles/kauai/wailua\\_opaekaa.shp & 73 & POLYGON ((464891.4 2442341,...\\\\\n\t 1 & kauai & wailua\\_opaekaa & E:/Data/AOI\\_Shapefiles/kauai/wailua\\_opaekaa.shp & 74 & POLYGON ((465275.4 2442341,...\\\\\n\t 1 & kauai & wailua\\_opaekaa & E:/Data/AOI\\_Shapefiles/kauai/wailua\\_opaekaa.shp & 75 & POLYGON ((465659.4 2442341,...\\\\\n\t 1 & kauai & wailua\\_opaekaa & E:/Data/AOI\\_Shapefiles/kauai/wailua\\_opaekaa.shp & 76 & POLYGON ((466043.4 2442341,...\\\\\n\t 1 & kauai & wailua\\_opaekaa & E:/Data/AOI\\_Shapefiles/kauai/wailua\\_opaekaa.shp & 77 & POLYGON ((466427.4 2442341,...\\\\\n\t 1 & kauai & wailua\\_opaekaa & E:/Data/AOI\\_Shapefiles/kauai/wailua\\_opaekaa.shp & 78 & POLYGON ((466811.3 2442341,...\\\\\n\t 1 & kauai & wailua\\_opaekaa & E:/Data/AOI\\_Shapefiles/kauai/wailua\\_opaekaa.shp & 79 & POLYGON ((467195.3 2442341,...\\\\\n\t 1 & kauai & wailua\\_opaekaa & E:/Data/AOI\\_Shapefiles/kauai/wailua\\_opaekaa.shp & 80 & POLYGON ((467579.3 2441957,...\\\\\n\t 1 & kauai & wailua\\_opaekaa & E:/Data/AOI\\_Shapefiles/kauai/wailua\\_opaekaa.shp & 81 & POLYGON ((464507.4 2442341,...\\\\\n\t 1 & kauai & wailua\\_opaekaa & E:/Data/AOI\\_Shapefiles/kauai/wailua\\_opaekaa.shp & 82 & POLYGON ((464891.4 2442341,...\\\\\n\t 1 & kauai & wailua\\_opaekaa & E:/Data/AOI\\_Shapefiles/kauai/wailua\\_opaekaa.shp & 83 & POLYGON ((465275.4 2442341,...\\\\\n\t 1 & kauai & wailua\\_opaekaa & E:/Data/AOI\\_Shapefiles/kauai/wailua\\_opaekaa.shp & 84 & POLYGON ((465659.4 2442341,...\\\\\n\t 1 & kauai & wailua\\_opaekaa & E:/Data/AOI\\_Shapefiles/kauai/wailua\\_opaekaa.shp & 85 & POLYGON ((466043.4 2442341,...\\\\\n\t 1 & kauai & wailua\\_opaekaa & E:/Data/AOI\\_Shapefiles/kauai/wailua\\_opaekaa.shp & 86 & POLYGON ((466427.4 2442341,...\\\\\n\t 1 & kauai & wailua\\_opaekaa & E:/Data/AOI\\_Shapefiles/kauai/wailua\\_opaekaa.shp & 87 & POLYGON ((466811.3 2442341,...\\\\\n\t 1 & kauai & wailua\\_opaekaa & E:/Data/AOI\\_Shapefiles/kauai/wailua\\_opaekaa.shp & 88 & POLYGON ((467195.3 2442341,...\\\\\n\t 1 & kauai & wailua\\_opaekaa & E:/Data/AOI\\_Shapefiles/kauai/wailua\\_opaekaa.shp & 89 & POLYGON ((467579.3 2442341,...\\\\\n\t 1 & kauai & wailua\\_opaekaa & E:/Data/AOI\\_Shapefiles/kauai/wailua\\_opaekaa.shp & 90 & POLYGON ((467579.3 2442341,...\\\\\n\\end{tabular}\n",
            "text/plain": [
              "     id island layer          path                                           \n",
              "1    1  kauai  anahola        E:/Data/AOI_Shapefiles/kauai/anahola.shp       \n",
              "2    1  kauai  anahola        E:/Data/AOI_Shapefiles/kauai/anahola.shp       \n",
              "3    1  kauai  anahola        E:/Data/AOI_Shapefiles/kauai/anahola.shp       \n",
              "4    1  kauai  anahola        E:/Data/AOI_Shapefiles/kauai/anahola.shp       \n",
              "5    1  kauai  anahola        E:/Data/AOI_Shapefiles/kauai/anahola.shp       \n",
              "6    1  kauai  anahola        E:/Data/AOI_Shapefiles/kauai/anahola.shp       \n",
              "7    1  kauai  anahola        E:/Data/AOI_Shapefiles/kauai/anahola.shp       \n",
              "8    1  kauai  anahola        E:/Data/AOI_Shapefiles/kauai/anahola.shp       \n",
              "9    1  kauai  anahola        E:/Data/AOI_Shapefiles/kauai/anahola.shp       \n",
              "10   1  kauai  anahola        E:/Data/AOI_Shapefiles/kauai/anahola.shp       \n",
              "11   1  kauai  anahola        E:/Data/AOI_Shapefiles/kauai/anahola.shp       \n",
              "12   1  kauai  anahola        E:/Data/AOI_Shapefiles/kauai/anahola.shp       \n",
              "13   1  kauai  anahola        E:/Data/AOI_Shapefiles/kauai/anahola.shp       \n",
              "14   1  kauai  anahola        E:/Data/AOI_Shapefiles/kauai/anahola.shp       \n",
              "15   1  kauai  anahola        E:/Data/AOI_Shapefiles/kauai/anahola.shp       \n",
              "16   1  kauai  anahola        E:/Data/AOI_Shapefiles/kauai/anahola.shp       \n",
              "17   1  kauai  anahola        E:/Data/AOI_Shapefiles/kauai/anahola.shp       \n",
              "18   1  kauai  anahola        E:/Data/AOI_Shapefiles/kauai/anahola.shp       \n",
              "19   1  kauai  anahola        E:/Data/AOI_Shapefiles/kauai/anahola.shp       \n",
              "20   1  kauai  anahola        E:/Data/AOI_Shapefiles/kauai/anahola.shp       \n",
              "21   1  kauai  anahola        E:/Data/AOI_Shapefiles/kauai/anahola.shp       \n",
              "22   1  kauai  anahola        E:/Data/AOI_Shapefiles/kauai/anahola.shp       \n",
              "23   1  kauai  anahola        E:/Data/AOI_Shapefiles/kauai/anahola.shp       \n",
              "24   1  kauai  anahola        E:/Data/AOI_Shapefiles/kauai/anahola.shp       \n",
              "25   1  kauai  anahola        E:/Data/AOI_Shapefiles/kauai/anahola.shp       \n",
              "26   1  kauai  anahola        E:/Data/AOI_Shapefiles/kauai/anahola.shp       \n",
              "27   1  kauai  anahola        E:/Data/AOI_Shapefiles/kauai/anahola.shp       \n",
              "28   1  kauai  anahola        E:/Data/AOI_Shapefiles/kauai/anahola.shp       \n",
              "29   1  kauai  anahola        E:/Data/AOI_Shapefiles/kauai/anahola.shp       \n",
              "30   1  kauai  anahola        E:/Data/AOI_Shapefiles/kauai/anahola.shp       \n",
              "⋮    ⋮  ⋮      ⋮              ⋮                                              \n",
              "2637 1  kauai  wailua_opaekaa E:/Data/AOI_Shapefiles/kauai/wailua_opaekaa.shp\n",
              "2638 1  kauai  wailua_opaekaa E:/Data/AOI_Shapefiles/kauai/wailua_opaekaa.shp\n",
              "2639 1  kauai  wailua_opaekaa E:/Data/AOI_Shapefiles/kauai/wailua_opaekaa.shp\n",
              "2640 1  kauai  wailua_opaekaa E:/Data/AOI_Shapefiles/kauai/wailua_opaekaa.shp\n",
              "2641 1  kauai  wailua_opaekaa E:/Data/AOI_Shapefiles/kauai/wailua_opaekaa.shp\n",
              "2642 1  kauai  wailua_opaekaa E:/Data/AOI_Shapefiles/kauai/wailua_opaekaa.shp\n",
              "2643 1  kauai  wailua_opaekaa E:/Data/AOI_Shapefiles/kauai/wailua_opaekaa.shp\n",
              "2644 1  kauai  wailua_opaekaa E:/Data/AOI_Shapefiles/kauai/wailua_opaekaa.shp\n",
              "2645 1  kauai  wailua_opaekaa E:/Data/AOI_Shapefiles/kauai/wailua_opaekaa.shp\n",
              "2646 1  kauai  wailua_opaekaa E:/Data/AOI_Shapefiles/kauai/wailua_opaekaa.shp\n",
              "2647 1  kauai  wailua_opaekaa E:/Data/AOI_Shapefiles/kauai/wailua_opaekaa.shp\n",
              "2648 1  kauai  wailua_opaekaa E:/Data/AOI_Shapefiles/kauai/wailua_opaekaa.shp\n",
              "2649 1  kauai  wailua_opaekaa E:/Data/AOI_Shapefiles/kauai/wailua_opaekaa.shp\n",
              "2650 1  kauai  wailua_opaekaa E:/Data/AOI_Shapefiles/kauai/wailua_opaekaa.shp\n",
              "2651 1  kauai  wailua_opaekaa E:/Data/AOI_Shapefiles/kauai/wailua_opaekaa.shp\n",
              "2652 1  kauai  wailua_opaekaa E:/Data/AOI_Shapefiles/kauai/wailua_opaekaa.shp\n",
              "2653 1  kauai  wailua_opaekaa E:/Data/AOI_Shapefiles/kauai/wailua_opaekaa.shp\n",
              "2654 1  kauai  wailua_opaekaa E:/Data/AOI_Shapefiles/kauai/wailua_opaekaa.shp\n",
              "2655 1  kauai  wailua_opaekaa E:/Data/AOI_Shapefiles/kauai/wailua_opaekaa.shp\n",
              "2656 1  kauai  wailua_opaekaa E:/Data/AOI_Shapefiles/kauai/wailua_opaekaa.shp\n",
              "2657 1  kauai  wailua_opaekaa E:/Data/AOI_Shapefiles/kauai/wailua_opaekaa.shp\n",
              "2658 1  kauai  wailua_opaekaa E:/Data/AOI_Shapefiles/kauai/wailua_opaekaa.shp\n",
              "2659 1  kauai  wailua_opaekaa E:/Data/AOI_Shapefiles/kauai/wailua_opaekaa.shp\n",
              "2660 1  kauai  wailua_opaekaa E:/Data/AOI_Shapefiles/kauai/wailua_opaekaa.shp\n",
              "2661 1  kauai  wailua_opaekaa E:/Data/AOI_Shapefiles/kauai/wailua_opaekaa.shp\n",
              "2662 1  kauai  wailua_opaekaa E:/Data/AOI_Shapefiles/kauai/wailua_opaekaa.shp\n",
              "2663 1  kauai  wailua_opaekaa E:/Data/AOI_Shapefiles/kauai/wailua_opaekaa.shp\n",
              "2664 1  kauai  wailua_opaekaa E:/Data/AOI_Shapefiles/kauai/wailua_opaekaa.shp\n",
              "2665 1  kauai  wailua_opaekaa E:/Data/AOI_Shapefiles/kauai/wailua_opaekaa.shp\n",
              "2666 1  kauai  wailua_opaekaa E:/Data/AOI_Shapefiles/kauai/wailua_opaekaa.shp\n",
              "     rowid x                             \n",
              "1     1    POLYGON ((467437.8 2447514,...\n",
              "2     2    POLYGON ((467821.8 2447514,...\n",
              "3     3    POLYGON ((468205.8 2447514,...\n",
              "4     4    POLYGON ((468589.8 2447514,...\n",
              "5     5    POLYGON ((468973.8 2447514,...\n",
              "6     6    POLYGON ((469357.8 2447514,...\n",
              "7     7    POLYGON ((469741.8 2447514,...\n",
              "8     8    POLYGON ((470125.8 2447514,...\n",
              "9     9    POLYGON ((467821.8 2448282,...\n",
              "10   10    POLYGON ((467821.8 2448282,...\n",
              "11   11    POLYGON ((468205.8 2448282,...\n",
              "12   12    POLYGON ((468589.8 2448282,...\n",
              "13   13    POLYGON ((468973.8 2448282,...\n",
              "14   14    POLYGON ((469357.8 2448282,...\n",
              "15   15    POLYGON ((469741.8 2448282,...\n",
              "16   16    POLYGON ((470125.8 2447898,...\n",
              "17   17    POLYGON ((467821.8 2448666,...\n",
              "18   18    POLYGON ((467821.8 2448666,...\n",
              "19   19    POLYGON ((468205.8 2448666,...\n",
              "20   20    POLYGON ((468589.8 2448666,...\n",
              "21   21    POLYGON ((468973.8 2448666,...\n",
              "22   22    POLYGON ((469357.8 2448666,...\n",
              "23   23    POLYGON ((469741.8 2448666,...\n",
              "24   24    POLYGON ((470125.8 2448282,...\n",
              "25   25    POLYGON ((467821.8 2449050,...\n",
              "26   26    POLYGON ((467821.8 2449050,...\n",
              "27   27    POLYGON ((468205.8 2449050,...\n",
              "28   28    POLYGON ((468589.8 2449050,...\n",
              "29   29    POLYGON ((468973.8 2449050,...\n",
              "30   30    POLYGON ((469357.8 2449050,...\n",
              "⋮    ⋮     ⋮                             \n",
              "2637 61    POLYGON ((464507.4 2441957,...\n",
              "2638 62    POLYGON ((464507.4 2441957,...\n",
              "2639 63    POLYGON ((464891.4 2441957,...\n",
              "2640 64    POLYGON ((465275.4 2441957,...\n",
              "2641 65    POLYGON ((465659.4 2441957,...\n",
              "2642 66    POLYGON ((466043.4 2441957,...\n",
              "2643 67    POLYGON ((466427.4 2441957,...\n",
              "2644 68    POLYGON ((466811.3 2441957,...\n",
              "2645 69    POLYGON ((467195.3 2441957,...\n",
              "2646 70    POLYGON ((467579.3 2441573,...\n",
              "2647 71    POLYGON ((464507.4 2442341,...\n",
              "2648 72    POLYGON ((464507.4 2442341,...\n",
              "2649 73    POLYGON ((464891.4 2442341,...\n",
              "2650 74    POLYGON ((465275.4 2442341,...\n",
              "2651 75    POLYGON ((465659.4 2442341,...\n",
              "2652 76    POLYGON ((466043.4 2442341,...\n",
              "2653 77    POLYGON ((466427.4 2442341,...\n",
              "2654 78    POLYGON ((466811.3 2442341,...\n",
              "2655 79    POLYGON ((467195.3 2442341,...\n",
              "2656 80    POLYGON ((467579.3 2441957,...\n",
              "2657 81    POLYGON ((464507.4 2442341,...\n",
              "2658 82    POLYGON ((464891.4 2442341,...\n",
              "2659 83    POLYGON ((465275.4 2442341,...\n",
              "2660 84    POLYGON ((465659.4 2442341,...\n",
              "2661 85    POLYGON ((466043.4 2442341,...\n",
              "2662 86    POLYGON ((466427.4 2442341,...\n",
              "2663 87    POLYGON ((466811.3 2442341,...\n",
              "2664 88    POLYGON ((467195.3 2442341,...\n",
              "2665 89    POLYGON ((467579.3 2442341,...\n",
              "2666 90    POLYGON ((467579.3 2442341,..."
            ]
          },
          "metadata": {}
        }
      ]
    },
    {
      "cell_type": "code",
      "source": [
        "planet_dt$planet_file_path"
      ],
      "metadata": {
        "id": "wuSFsCiysqo6",
        "outputId": "4ad0e9d7-1e33-4eab-9214-b8e244f32f0b",
        "colab": {
          "base_uri": "https://localhost:8080/",
          "height": 121
        }
      },
      "execution_count": 236,
      "outputs": [
        {
          "output_type": "display_data",
          "data": {
            "text/html": [
              "<style>\n",
              ".list-inline {list-style: none; margin:0; padding: 0}\n",
              ".list-inline>li {display: inline-block}\n",
              ".list-inline>li:not(:last-child)::after {content: \"\\00b7\"; padding: 0 .5ex}\n",
              "</style>\n",
              "<ol class=list-inline><li>'/content/imagery/planet/2018/utm4/2018_anahola_stack.tif'</li><li>'/content/imagery/planet/2018/utm4/2018_haleiwa_stack.tif'</li><li>'/content/imagery/planet/2018/utm4/2018_hanalei_stack.tif'</li><li>'/content/imagery/planet/2018/utm4/2018_huleia_stack.tif'</li><li>'/content/imagery/planet/2018/utm4/2018_kahuku_stack.tif'</li><li>'/content/imagery/planet/2018/utm4/2018_kakahaia_stack.tif'</li><li>'/content/imagery/planet/2018/utm4/2018_kaluaapuhi_stack.tif'</li><li>'/content/imagery/planet/2018/utm4/2018_kamalo_stack.tif'</li><li>'/content/imagery/planet/2018/utm4/2018_kanaha_stack.tif'</li><li>'/content/imagery/planet/2018/utm4/2018_kawainui_stack.tif'</li><li>'/content/imagery/planet/2018/utm4/2018_kealia_stack.tif'</li><li>'/content/imagery/planet/2018/utm4/2018_lumahai_stack.tif'</li><li>'/content/imagery/planet/2018/utm4/2018_paukukalo_stack.tif'</li><li>'/content/imagery/planet/2018/utm4/2018_pearl_harbor_stack.tif'</li><li>'/content/imagery/planet/2018/utm4/2018_waihee_stack.tif'</li><li>'/content/imagery/planet/2018/utm4/2018_wailua_opaekaa_stack.tif'</li></ol>\n"
            ],
            "text/markdown": "1. '/content/imagery/planet/2018/utm4/2018_anahola_stack.tif'\n2. '/content/imagery/planet/2018/utm4/2018_haleiwa_stack.tif'\n3. '/content/imagery/planet/2018/utm4/2018_hanalei_stack.tif'\n4. '/content/imagery/planet/2018/utm4/2018_huleia_stack.tif'\n5. '/content/imagery/planet/2018/utm4/2018_kahuku_stack.tif'\n6. '/content/imagery/planet/2018/utm4/2018_kakahaia_stack.tif'\n7. '/content/imagery/planet/2018/utm4/2018_kaluaapuhi_stack.tif'\n8. '/content/imagery/planet/2018/utm4/2018_kamalo_stack.tif'\n9. '/content/imagery/planet/2018/utm4/2018_kanaha_stack.tif'\n10. '/content/imagery/planet/2018/utm4/2018_kawainui_stack.tif'\n11. '/content/imagery/planet/2018/utm4/2018_kealia_stack.tif'\n12. '/content/imagery/planet/2018/utm4/2018_lumahai_stack.tif'\n13. '/content/imagery/planet/2018/utm4/2018_paukukalo_stack.tif'\n14. '/content/imagery/planet/2018/utm4/2018_pearl_harbor_stack.tif'\n15. '/content/imagery/planet/2018/utm4/2018_waihee_stack.tif'\n16. '/content/imagery/planet/2018/utm4/2018_wailua_opaekaa_stack.tif'\n\n\n",
            "text/latex": "\\begin{enumerate*}\n\\item '/content/imagery/planet/2018/utm4/2018\\_anahola\\_stack.tif'\n\\item '/content/imagery/planet/2018/utm4/2018\\_haleiwa\\_stack.tif'\n\\item '/content/imagery/planet/2018/utm4/2018\\_hanalei\\_stack.tif'\n\\item '/content/imagery/planet/2018/utm4/2018\\_huleia\\_stack.tif'\n\\item '/content/imagery/planet/2018/utm4/2018\\_kahuku\\_stack.tif'\n\\item '/content/imagery/planet/2018/utm4/2018\\_kakahaia\\_stack.tif'\n\\item '/content/imagery/planet/2018/utm4/2018\\_kaluaapuhi\\_stack.tif'\n\\item '/content/imagery/planet/2018/utm4/2018\\_kamalo\\_stack.tif'\n\\item '/content/imagery/planet/2018/utm4/2018\\_kanaha\\_stack.tif'\n\\item '/content/imagery/planet/2018/utm4/2018\\_kawainui\\_stack.tif'\n\\item '/content/imagery/planet/2018/utm4/2018\\_kealia\\_stack.tif'\n\\item '/content/imagery/planet/2018/utm4/2018\\_lumahai\\_stack.tif'\n\\item '/content/imagery/planet/2018/utm4/2018\\_paukukalo\\_stack.tif'\n\\item '/content/imagery/planet/2018/utm4/2018\\_pearl\\_harbor\\_stack.tif'\n\\item '/content/imagery/planet/2018/utm4/2018\\_waihee\\_stack.tif'\n\\item '/content/imagery/planet/2018/utm4/2018\\_wailua\\_opaekaa\\_stack.tif'\n\\end{enumerate*}\n",
            "text/plain": [
              " [1] \"/content/imagery/planet/2018/utm4/2018_anahola_stack.tif\"       \n",
              " [2] \"/content/imagery/planet/2018/utm4/2018_haleiwa_stack.tif\"       \n",
              " [3] \"/content/imagery/planet/2018/utm4/2018_hanalei_stack.tif\"       \n",
              " [4] \"/content/imagery/planet/2018/utm4/2018_huleia_stack.tif\"        \n",
              " [5] \"/content/imagery/planet/2018/utm4/2018_kahuku_stack.tif\"        \n",
              " [6] \"/content/imagery/planet/2018/utm4/2018_kakahaia_stack.tif\"      \n",
              " [7] \"/content/imagery/planet/2018/utm4/2018_kaluaapuhi_stack.tif\"    \n",
              " [8] \"/content/imagery/planet/2018/utm4/2018_kamalo_stack.tif\"        \n",
              " [9] \"/content/imagery/planet/2018/utm4/2018_kanaha_stack.tif\"        \n",
              "[10] \"/content/imagery/planet/2018/utm4/2018_kawainui_stack.tif\"      \n",
              "[11] \"/content/imagery/planet/2018/utm4/2018_kealia_stack.tif\"        \n",
              "[12] \"/content/imagery/planet/2018/utm4/2018_lumahai_stack.tif\"       \n",
              "[13] \"/content/imagery/planet/2018/utm4/2018_paukukalo_stack.tif\"     \n",
              "[14] \"/content/imagery/planet/2018/utm4/2018_pearl_harbor_stack.tif\"  \n",
              "[15] \"/content/imagery/planet/2018/utm4/2018_waihee_stack.tif\"        \n",
              "[16] \"/content/imagery/planet/2018/utm4/2018_wailua_opaekaa_stack.tif\""
            ]
          },
          "metadata": {}
        }
      ]
    },
    {
      "cell_type": "code",
      "source": [
        "# Ensure both data frames have the column names set for the matching criteria\n",
        "wetlandsFishnet_nad83_sf$location_name <- wetlandsFishnet_nad83_sf$layer\n",
        "\n",
        "# Merge based on the matching column 'location_name'\n",
        "matched_rows <- merge(wetlandsFishnet_nad83_sf, planet_dt, by = \"location_name\", all.x = TRUE)\n",
        "\n",
        "matched_rows$island.y <- NULL\n"
      ],
      "metadata": {
        "id": "lAkC6a89tPw5"
      },
      "execution_count": 243,
      "outputs": []
    },
    {
      "cell_type": "code",
      "source": [
        "matched_rows"
      ],
      "metadata": {
        "id": "o-VgccsFtoGb"
      },
      "execution_count": null,
      "outputs": []
    },
    {
      "cell_type": "code",
      "source": [
        "class(matched_rows)"
      ],
      "metadata": {
        "id": "fKT-vQ3Ju3dS",
        "outputId": "60384672-7be9-4a1c-849a-d514d3731b5d",
        "colab": {
          "base_uri": "https://localhost:8080/",
          "height": 34
        }
      },
      "execution_count": 246,
      "outputs": [
        {
          "output_type": "display_data",
          "data": {
            "text/html": [
              "<style>\n",
              ".list-inline {list-style: none; margin:0; padding: 0}\n",
              ".list-inline>li {display: inline-block}\n",
              ".list-inline>li:not(:last-child)::after {content: \"\\00b7\"; padding: 0 .5ex}\n",
              "</style>\n",
              "<ol class=list-inline><li>'sf'</li><li>'data.table'</li><li>'data.frame'</li></ol>\n"
            ],
            "text/markdown": "1. 'sf'\n2. 'data.table'\n3. 'data.frame'\n\n\n",
            "text/latex": "\\begin{enumerate*}\n\\item 'sf'\n\\item 'data.table'\n\\item 'data.frame'\n\\end{enumerate*}\n",
            "text/plain": [
              "[1] \"sf\"         \"data.table\" \"data.frame\""
            ]
          },
          "metadata": {}
        }
      ]
    },
    {
      "cell_type": "code",
      "source": [
        "# Ensure both data frames have the column names set for the matching criteria\n",
        "wetlandsFishnet_nad83_sf$location_name <- wetlandsFishnet_nad83_sf$layer\n",
        "\n",
        "# Merge based on the matching column 'location_name'\n",
        "matched_rows <- merge(wetlandsFishnet_nad83_sf, planet_dt, by = \"location_name\", all.x = TRUE)\n",
        "matched_rows$island.y <- NULL\n",
        "\n",
        "# Assuming planet_dt is a data frame or tibble\n",
        "matched_rows <- wetlandsFishnet_nad83_sf %>%\n",
        "  rename(location = layer) %>%\n",
        "  inner_join(planet_dt, by = \"location_name\")\n",
        "\n",
        "planet_file_path <- matched_rows$planet_file_path"
      ],
      "metadata": {
        "id": "Qzy5Sa-OtUrA"
      },
      "execution_count": 247,
      "outputs": []
    },
    {
      "cell_type": "code",
      "source": [
        "class(matched_rows)"
      ],
      "metadata": {
        "id": "0MlUPFfaxSSM",
        "outputId": "abc020c6-6b55-4ada-b34d-9404a817dfe6",
        "colab": {
          "base_uri": "https://localhost:8080/",
          "height": 34
        }
      },
      "execution_count": 260,
      "outputs": [
        {
          "output_type": "display_data",
          "data": {
            "text/html": [
              "<style>\n",
              ".list-inline {list-style: none; margin:0; padding: 0}\n",
              ".list-inline>li {display: inline-block}\n",
              ".list-inline>li:not(:last-child)::after {content: \"\\00b7\"; padding: 0 .5ex}\n",
              "</style>\n",
              "<ol class=list-inline><li>'sf'</li><li>'data.table'</li><li>'data.frame'</li></ol>\n"
            ],
            "text/markdown": "1. 'sf'\n2. 'data.table'\n3. 'data.frame'\n\n\n",
            "text/latex": "\\begin{enumerate*}\n\\item 'sf'\n\\item 'data.table'\n\\item 'data.frame'\n\\end{enumerate*}\n",
            "text/plain": [
              "[1] \"sf\"         \"data.table\" \"data.frame\""
            ]
          },
          "metadata": {}
        }
      ]
    },
    {
      "cell_type": "code",
      "source": [
        "matched_rows"
      ],
      "metadata": {
        "id": "wg1gRdxIzEm6"
      },
      "execution_count": null,
      "outputs": []
    },
    {
      "cell_type": "code",
      "source": [
        "class(planet_file_path)"
      ],
      "metadata": {
        "id": "GUVib90qwrLI",
        "outputId": "573bc3f5-bd7c-41c9-efb6-64c0fc5eb6f5",
        "colab": {
          "base_uri": "https://localhost:8080/",
          "height": 34
        }
      },
      "execution_count": 259,
      "outputs": [
        {
          "output_type": "display_data",
          "data": {
            "text/html": [
              "'character'"
            ],
            "text/markdown": "'character'",
            "text/latex": "'character'",
            "text/plain": [
              "[1] \"character\""
            ]
          },
          "metadata": {}
        }
      ]
    },
    {
      "cell_type": "code",
      "source": [],
      "metadata": {
        "id": "1XazVAEZxgma"
      },
      "execution_count": null,
      "outputs": []
    },
    {
      "cell_type": "code",
      "source": [
        "does_it_stack <- stack(planet_file_path[1:2])"
      ],
      "metadata": {
        "id": "gT-BU4k1vAWR"
      },
      "execution_count": 271,
      "outputs": []
    },
    {
      "cell_type": "code",
      "source": [
        "does_it_stack %>% unique"
      ],
      "metadata": {
        "id": "xk1yS2fNwjw4"
      },
      "execution_count": null,
      "outputs": []
    },
    {
      "cell_type": "code",
      "source": [
        "tttdddd <- c(1) %>% lapply(function(t){\n",
        "location_name <- wetlandsFishnet_nad83_sf$layer\n",
        "# change test_05_wetlandsFishnet_sf to test_05_wetlandsFishnet_sf_layer$location_name\n",
        "\n",
        "matching_row <- planet_dt[location_name == planet_dt$location_name]\n",
        "\n",
        "print(matching_row)\n",
        "\n",
        "planet_file_path <- matching_row$planet_file_path[1:16]\n",
        "\n",
        "\n",
        "stack_01 <- stack(planet_file_path[5])\n",
        "\n",
        "crs(stack_01) <- CRS(\"+init=epsg:26904\")\n",
        "\n",
        "print(stack_01)\n",
        "# planet_raster\n",
        "\n",
        "# test_05_planet_cropped <- crop(stack_01, extent(wetlandsFishnet_nad83_sf))\n",
        "\n",
        "# print(test_05_planet_cropped)\n",
        "})"
      ],
      "metadata": {
        "id": "aGRWWq-joJBW"
      },
      "execution_count": null,
      "outputs": []
    },
    {
      "cell_type": "code",
      "source": [
        "\n",
        "\n",
        "test_05_wetlands_sf <- st_as_sf(test_05_wetlandsFishnet_sf[t,]) %>% st_transform(crs = crs(stack_01))\n",
        "test_05_planet_cropped <- crop(stack_01, extent(test_05_wetlands_sf))\n",
        "test_05_template_extent <- extent(test_05_planet_cropped)\n",
        "test_05_template_raster <- raster(nrows = 384, ncols = 384, ext = test_05_template_extent, crs = crs(stack_01))\n",
        "test_05_planet_resampled <- resample(test_05_planet_cropped, test_05_template_raster, method = \"ngb\") # This is the planet tiles!!!\n",
        "\n",
        "# test_nwi_crop <- nwi_utm4 %>% st_intersection(test_05_wetlandsFishnet_sf[t,] %>% st_transform(st_crs(nwi_utm4))) %>%\n",
        "#   st_transform(st_crs(stack_01)) %>% fasterize(.,test_05_planet_resampled[[1]], \"wetland_ty_numeric\")\n",
        "\n",
        "# test_nlcd_crop <- test_05_wetlandsFishnet_sf[t,] %>% st_buffer(100) %>% st_transform(st_crs(stack_01)) %>% crop(nlcdImages,.) %>%\n",
        "#   resample(test_05_planet_resampled, method = \"ngb\")\n",
        "\n",
        "# test_dem_crop <- test_05_wetlandsFishnet_sf[t,] %>% st_buffer(100) %>% st_transform(st_crs(stack_01)) %>%\n",
        "#   crop(linked_dt[island ==test_05_wetlandsFishnet_sf[t,]$island]$dem_raster[[1]],.) %>% resample(test_05_planet_resampled, method= \"ngb\")\n",
        "\n",
        "# test_ccap_crop <- test_05_wetlandsFishnet_sf[t,] %>% st_buffer(100) %>% st_transform(st_crs(stack_01)) %>%\n",
        "#   crop(linked_dt[island ==test_05_wetlandsFishnet_sf[t,]$island]$ccap_raster[[1]],.) %>% resample(test_05_planet_resampled, method = \"ngb\")\n",
        "\n",
        "\n",
        "\n",
        "\n",
        "print(test_05_planet_resampled)\n",
        "\n",
        "\n",
        "})"
      ],
      "metadata": {
        "id": "ZIYGeI4D8bH7"
      },
      "execution_count": null,
      "outputs": []
    },
    {
      "cell_type": "code",
      "source": [
        "cl <- makeCluster(8)\n",
        "library(raster)\n",
        "library(sf)\n",
        "library(fasterize)\n",
        "library(magrittr)\n",
        "library(googledrive)\n",
        "library(parallel)\n",
        "library(data.table)\n",
        "library(stringr)\n",
        "library(dplyr)\n",
        "\n",
        "\n",
        "# test_05_planet_dt\n",
        "\n",
        "tttdddd <- c(1:100) %>% lapply(function(t){\n",
        "location_name <- test_05_wetlandsFishnet_sf$island\n",
        "matching_row <- planet_dt[location_name == planet_dt$location_name]\n",
        "planet_file_path <- matching_row$planet_file_path[1]\n",
        "planet_raster <- stack(planet_file_path)\n",
        "crs(planet_raster) <- CRS(\"+init=epsg:26904\")\n",
        "\n",
        "test_05_wetlands_sf <- st_as_sf(test_05_wetlandsFishnet_sf[t,]) %>% st_transform(crs = crs(planet_raster))\n",
        "test_05_planet_cropped <- crop(planet_raster, extent(test_05_wetlands_sf))\n",
        "test_05_template_extent <- extent(test_05_planet_cropped)\n",
        "test_05_template_raster <- raster(nrows = 384, ncols = 384, ext = test_05_template_extent, crs = crs(planet_raster))\n",
        "test_05_planet_resampled <- resample(test_05_planet_cropped, test_05_template_raster, method = \"ngb\") # This is the planet tiles!!!\n",
        "\n",
        "test_nwi_crop <- nwi_utm4 %>% st_intersection(test_05_wetlandsFishnet_sf[t,] %>% st_transform(st_crs(nwi_utm4))) %>%\n",
        "  st_transform(st_crs(planet_raster)) %>% fasterize(.,test_05_planet_resampled[[1]], \"wetland_ty_numeric\")\n",
        "\n",
        "test_nlcd_crop <- test_05_wetlandsFishnet_sf[t,] %>% st_buffer(100) %>% st_transform(st_crs(planet_raster)) %>% crop(nlcdImages,.) %>%\n",
        "  resample(test_05_planet_resampled, method = \"ngb\")\n",
        "\n",
        "test_dem_crop <- test_05_wetlandsFishnet_sf[t,] %>% st_buffer(100) %>% st_transform(st_crs(planet_raster)) %>%\n",
        "  crop(linked_dt[island ==test_05_wetlandsFishnet_sf[t,]$island]$dem_raster[[1]],.) %>% resample(test_05_planet_resampled, method= \"ngb\")\n",
        "\n",
        "test_ccap_crop <- test_05_wetlandsFishnet_sf[t,] %>% st_buffer(100) %>% st_transform(st_crs(planet_raster)) %>%\n",
        "  crop(linked_dt[island ==test_05_wetlandsFishnet_sf[t,]$island]$ccap_raster[[1]],.) %>% resample(test_05_planet_resampled, method = \"ngb\")\n",
        "\n",
        "# unified_data_table_all\n",
        "# unified_table\n",
        "nwi_harm <- test_nwi_crop\n",
        "nlcd_harm <- test_nlcd_crop\n",
        "ccap_harm <- test_ccap_crop\n",
        "\n",
        "values(nwi_harm) <- -1\n",
        "values(nlcd_harm) <- -1\n",
        "values(ccap_harm) <- -1\n",
        "\n",
        "for(i in 1:nrow(unified_data_table_all)){\n",
        " values(nwi_harm)[ values(test_nwi_crop %in% unified_data_table_all$nwi[[i]])] <- unified_data_table_all$unified[[i]]\n",
        " values(nlcd_harm)[ values(test_nlcd_crop %in% unified_data_table_all$nlcd[[i]])] <- unified_data_table_all$unified[[i]]\n",
        " values(ccap_harm)[ values(test_ccap_crop %in% unified_data_table_all$ccap[[i]])] <- unified_data_table_all$unified[[i]]\n",
        "\n",
        "}\n",
        "\n",
        "nwi_filled <- nlcd_harm\n",
        "values(nwi_filled)[values(nwi_harm) !=-1] <- values(nwi_harm)[values(nwi_harm) !=-1]\n",
        "values(nwi_filled)[values(nwi_filled) ==-1] <- 12\n",
        "\n",
        "\n",
        "\n",
        "ccap_filled <- ccap_harm\n",
        "values(ccap_filled)[values(ccap_harm) !=-1] <- values(ccap_harm)[values(ccap_harm) !=-1]\n",
        "values(ccap_filled)[values(ccap_filled) ==-1] <- 12\n",
        "\n",
        "test_05_planet_resampled %>% writeRaster(paste0('/content/exports/planet_data/', t, '_planet.tif'), overwrite = TRUE)\n",
        "nwi_filled %>% writeRaster(paste0('/content/exports/nwi/', t,\"_nwiFilled\",'.tif'),overwrite=T)\n",
        "# test_nlcd_crop %>% writeRaster(paste0('/content/', t,\"_nlcd\",'.tif'),overwrite=T)\n",
        "test_dem_crop %>% writeRaster(paste0('/content/exports/dem/', t,\"_dem\",'.tif'),overwrite=T)\n",
        "ccap_filled %>% writeRaster(paste0('/content/exports/ccap/', t,\"_ccapFilled\",'.tif'),overwrite=T)\n",
        "\n",
        "})\n",
        "\n",
        "stopCluster(cl)\n",
        "\n",
        "zip(zipfile = \"/content/planert_2018_1:100.zip\",\n",
        "    files = c(\"/content/exports/planet_data\",\n",
        "    \"/content/exports/nwi\",\n",
        "    \"/content/exports/ccap\",\n",
        "    \"/content/exports/dem\"))\n",
        "# https://drive.google.com/drive/folders/1sSsUCJZ3gqAOmKAuFfsgJTyTK2-Q0NBx?usp=drive_link\n",
        "drive_upload(media = \"/content/planert_2018_1:100.zip\", path = as_id(\"1sSsUCJZ3gqAOmKAuFfsgJTyTK2-Q0NBx\"))"
      ],
      "metadata": {
        "colab": {
          "base_uri": "https://localhost:8080/",
          "height": 1000
        },
        "id": "oGfM7N0lL_Vq",
        "outputId": "16d70ce6-59ff-47db-e367-a8ae1716dc85"
      },
      "execution_count": null,
      "outputs": [
        {
          "output_type": "stream",
          "name": "stderr",
          "text": [
            "Warning message:\n",
            "“attribute variables are assumed to be spatially constant throughout all geometries”\n"
          ]
        },
        {
          "output_type": "error",
          "ename": "ERROR",
          "evalue": "Error in .local(x, y, ...): extents do not overlap\n",
          "traceback": [
            "Error in .local(x, y, ...): extents do not overlap\nTraceback:\n",
            "1. c(1:100) %>% lapply(function(t) {\n .     location_name <- test_05_wetlandsFishnet_sf$island\n .     matching_row <- test_05_planet_dt[location_name == test_05_planet_dt$location_name]\n .     planet_file_path <- matching_row$planet_file_path[t]\n .     planet_raster <- stack(planet_file_path)\n .     crs(planet_raster) <- CRS(\"+init=epsg:26904\")\n .     test_05_wetlands_sf <- st_as_sf(test_05_wetlandsFishnet_sf[t, \n .         ]) %>% st_transform(crs = crs(planet_raster))\n .     test_05_planet_cropped <- crop(planet_raster, extent(test_05_wetlands_sf))\n .     test_05_template_extent <- extent(test_05_planet_cropped)\n .     test_05_template_raster <- raster(nrows = 384, ncols = 384, \n .         ext = test_05_template_extent, crs = crs(planet_raster))\n .     test_05_planet_resampled <- resample(test_05_planet_cropped, \n .         test_05_template_raster, method = \"ngb\")\n .     test_nwi_crop <- nwi_utm4 %>% st_intersection(test_05_wetlandsFishnet_sf[t, \n .         ] %>% st_transform(st_crs(nwi_utm4))) %>% st_transform(st_crs(planet_raster)) %>% \n .         fasterize(., test_05_planet_resampled[[1]], \"wetland_ty_numeric\")\n .     test_nlcd_crop <- test_05_wetlandsFishnet_sf[t, ] %>% st_buffer(100) %>% \n .         st_transform(st_crs(planet_raster)) %>% crop(nlcdImages, \n .         .) %>% resample(test_05_planet_resampled, method = \"ngb\")\n .     test_dem_crop <- test_05_wetlandsFishnet_sf[t, ] %>% st_buffer(100) %>% \n .         st_transform(st_crs(planet_raster)) %>% crop(linked_dt[island == \n .         test_05_wetlandsFishnet_sf[t, ]$island]$dem_raster[[1]], \n .         .) %>% resample(test_05_planet_resampled, method = \"ngb\")\n .     test_ccap_crop <- test_05_wetlandsFishnet_sf[t, ] %>% st_buffer(100) %>% \n .         st_transform(st_crs(planet_raster)) %>% crop(linked_dt[island == \n .         test_05_wetlandsFishnet_sf[t, ]$island]$ccap_raster[[1]], \n .         .) %>% resample(test_05_planet_resampled, method = \"ngb\")\n .     nwi_harm <- test_nwi_crop\n .     nlcd_harm <- test_nlcd_crop\n .     ccap_harm <- test_ccap_crop\n .     values(nwi_harm) <- -1\n .     values(nlcd_harm) <- -1\n .     values(ccap_harm) <- -1\n .     for (i in 1:nrow(unified_data_table_all)) {\n .         values(nwi_harm)[values(test_nwi_crop %in% unified_data_table_all$nwi[[i]])] <- unified_data_table_all$unified[[i]]\n .         values(nlcd_harm)[values(test_nlcd_crop %in% unified_data_table_all$nlcd[[i]])] <- unified_data_table_all$unified[[i]]\n .         values(ccap_harm)[values(test_ccap_crop %in% unified_data_table_all$ccap[[i]])] <- unified_data_table_all$unified[[i]]\n .     }\n .     nwi_filled <- nlcd_harm\n .     values(nwi_filled)[values(nwi_harm) != -1] <- values(nwi_harm)[values(nwi_harm) != \n .         -1]\n .     values(nwi_filled)[values(nwi_filled) == -1] <- 12\n .     ccap_filled <- ccap_harm\n .     values(ccap_filled)[values(ccap_harm) != -1] <- values(ccap_harm)[values(ccap_harm) != \n .         -1]\n .     values(ccap_filled)[values(ccap_filled) == -1] <- 12\n .     test_05_planet_resampled %>% writeRaster(paste0(\"/content/exports/planet_data/\", \n .         t, \"_planet.tif\"), overwrite = TRUE)\n .     nwi_filled %>% writeRaster(paste0(\"/content/exports/nwi/\", \n .         t, \"_nwiFilled\", \".tif\"), overwrite = T)\n .     test_dem_crop %>% writeRaster(paste0(\"/content/exports/dem/\", \n .         t, \"_dem\", \".tif\"), overwrite = T)\n .     ccap_filled %>% writeRaster(paste0(\"/content/exports/ccap/\", \n .         t, \"_ccapFilled\", \".tif\"), overwrite = T)\n . })",
            "2. lapply(., function(t) {\n .     location_name <- test_05_wetlandsFishnet_sf$island\n .     matching_row <- test_05_planet_dt[location_name == test_05_planet_dt$location_name]\n .     planet_file_path <- matching_row$planet_file_path[t]\n .     planet_raster <- stack(planet_file_path)\n .     crs(planet_raster) <- CRS(\"+init=epsg:26904\")\n .     test_05_wetlands_sf <- st_as_sf(test_05_wetlandsFishnet_sf[t, \n .         ]) %>% st_transform(crs = crs(planet_raster))\n .     test_05_planet_cropped <- crop(planet_raster, extent(test_05_wetlands_sf))\n .     test_05_template_extent <- extent(test_05_planet_cropped)\n .     test_05_template_raster <- raster(nrows = 384, ncols = 384, \n .         ext = test_05_template_extent, crs = crs(planet_raster))\n .     test_05_planet_resampled <- resample(test_05_planet_cropped, \n .         test_05_template_raster, method = \"ngb\")\n .     test_nwi_crop <- nwi_utm4 %>% st_intersection(test_05_wetlandsFishnet_sf[t, \n .         ] %>% st_transform(st_crs(nwi_utm4))) %>% st_transform(st_crs(planet_raster)) %>% \n .         fasterize(., test_05_planet_resampled[[1]], \"wetland_ty_numeric\")\n .     test_nlcd_crop <- test_05_wetlandsFishnet_sf[t, ] %>% st_buffer(100) %>% \n .         st_transform(st_crs(planet_raster)) %>% crop(nlcdImages, \n .         .) %>% resample(test_05_planet_resampled, method = \"ngb\")\n .     test_dem_crop <- test_05_wetlandsFishnet_sf[t, ] %>% st_buffer(100) %>% \n .         st_transform(st_crs(planet_raster)) %>% crop(linked_dt[island == \n .         test_05_wetlandsFishnet_sf[t, ]$island]$dem_raster[[1]], \n .         .) %>% resample(test_05_planet_resampled, method = \"ngb\")\n .     test_ccap_crop <- test_05_wetlandsFishnet_sf[t, ] %>% st_buffer(100) %>% \n .         st_transform(st_crs(planet_raster)) %>% crop(linked_dt[island == \n .         test_05_wetlandsFishnet_sf[t, ]$island]$ccap_raster[[1]], \n .         .) %>% resample(test_05_planet_resampled, method = \"ngb\")\n .     nwi_harm <- test_nwi_crop\n .     nlcd_harm <- test_nlcd_crop\n .     ccap_harm <- test_ccap_crop\n .     values(nwi_harm) <- -1\n .     values(nlcd_harm) <- -1\n .     values(ccap_harm) <- -1\n .     for (i in 1:nrow(unified_data_table_all)) {\n .         values(nwi_harm)[values(test_nwi_crop %in% unified_data_table_all$nwi[[i]])] <- unified_data_table_all$unified[[i]]\n .         values(nlcd_harm)[values(test_nlcd_crop %in% unified_data_table_all$nlcd[[i]])] <- unified_data_table_all$unified[[i]]\n .         values(ccap_harm)[values(test_ccap_crop %in% unified_data_table_all$ccap[[i]])] <- unified_data_table_all$unified[[i]]\n .     }\n .     nwi_filled <- nlcd_harm\n .     values(nwi_filled)[values(nwi_harm) != -1] <- values(nwi_harm)[values(nwi_harm) != \n .         -1]\n .     values(nwi_filled)[values(nwi_filled) == -1] <- 12\n .     ccap_filled <- ccap_harm\n .     values(ccap_filled)[values(ccap_harm) != -1] <- values(ccap_harm)[values(ccap_harm) != \n .         -1]\n .     values(ccap_filled)[values(ccap_filled) == -1] <- 12\n .     test_05_planet_resampled %>% writeRaster(paste0(\"/content/exports/planet_data/\", \n .         t, \"_planet.tif\"), overwrite = TRUE)\n .     nwi_filled %>% writeRaster(paste0(\"/content/exports/nwi/\", \n .         t, \"_nwiFilled\", \".tif\"), overwrite = T)\n .     test_dem_crop %>% writeRaster(paste0(\"/content/exports/dem/\", \n .         t, \"_dem\", \".tif\"), overwrite = T)\n .     ccap_filled %>% writeRaster(paste0(\"/content/exports/ccap/\", \n .         t, \"_ccapFilled\", \".tif\"), overwrite = T)\n . })",
            "3. FUN(X[[i]], ...)",
            "4. crop(planet_raster, extent(test_05_wetlands_sf))   # at line 23 of file <text>",
            "5. crop(planet_raster, extent(test_05_wetlands_sf))",
            "6. .local(x, y, ...)",
            "7. stop(\"extents do not overlap\")"
          ]
        }
      ]
    },
    {
      "cell_type": "code",
      "source": [],
      "metadata": {
        "id": "4c79K4g1EOjX"
      },
      "execution_count": null,
      "outputs": []
    },
    {
      "cell_type": "code",
      "source": [],
      "metadata": {
        "id": "FlCD8tXoEOhH"
      },
      "execution_count": null,
      "outputs": []
    },
    {
      "cell_type": "code",
      "source": [
        "cl <- makeCluster(8)\n",
        "library(raster)\n",
        "library(sf)\n",
        "library(fasterize)\n",
        "library(magrittr)\n",
        "library(googledrive)\n",
        "library(parallel)\n",
        "library(data.table)\n",
        "library(stringr)\n",
        "library(dplyr)\n",
        "\n",
        "placeholder <- c(15:18) %>% lapply(function(f){\n",
        "\n",
        "location_name <- test_05_wetlandsFishnet_sf$island\n",
        "matching_row <- test_05_planet_dt[location_name == test_05_planet_dt$location_name]\n",
        "planet_file_path <- matching_row$planet_file_path[1]\n",
        "planet_raster <- stack(planet_file_path)\n",
        "\n",
        "test_05_wetlands_sf <- st_as_sf(test_05_wetlandsFishnet_sf[t,]) %>% st_transform(crs = crs(planet_raster))\n",
        "test_05_planet_cropped <- crop(planet_raster, extent(test_05_wetlands_sf))\n",
        "test_05_template_extent <- extent(test_05_planet_cropped)\n",
        "test_05_template_raster <- raster(nrows = 384, ncols = 384, ext = test_05_template_extent, crs = crs(planet_raster))\n",
        "test_05_planet_resampled <- resample(test_05_planet_cropped, test_05_template_raster, method = \"ngb\") # This is the planet tiles!!!\n",
        "\n",
        "\n",
        "# wetlandsFishnet_nad83_sf\n",
        "# test_extent_raster_size\n",
        "# nlcdImages_nad83\n",
        "# naipImages\n",
        "\n",
        "# test <- test_05_wetlandsFishnet_sf[f,] %>% st_transform(st_crs(naipImages)) %>% crop(naipImages,.)\n",
        "# test_extent <-extent(test)\n",
        "# test_extent_raster <- raster(nrow=128, ncol=128, ext=test_extent, crs=crs(naipImages))\n",
        "# test_extent_raster_size <- crop(resample(test, test_extent_raster, method = \"ngb\"), extent(test_extent_raster)) # this is the naip tiles!\n",
        "\n",
        "\n",
        "test_nwi_crop <- nwi_utm4 %>% st_intersection(test_05_wetlandsFishnet_sf[f,] %>% st_transform(st_crs(nwi_utm4))) %>%\n",
        "  st_transform(st_crs(nlcdImages)) %>% fasterize(.,test_05_planet_resampled[[1]], \"wetland_ty_numeric\")\n",
        "\n",
        "test_nlcd_crop <- test_05_wetlandsFishnet_sf[f,] %>% st_buffer(100) %>% st_transform(st_crs(nlcdImages)) %>% crop(nlcdImages,.) %>%\n",
        "  resample(test_05_planet_resampled, method = \"ngb\")\n",
        "\n",
        "test_dem_crop <- test_05_wetlandsFishnet_sf[f,] %>% st_buffer(100) %>% st_transform(st_crs(nlcdImages)) %>%\n",
        "  crop(links_dt[island ==test_05_wetlandsFishnet_sf[f,]$island]$dem_raster[[1]],.) %>% resample(test_extent_raster_size, method= \"ngb\")\n",
        "\n",
        "test_ccap_crop <- test_05_wetlandsFishnet_sf[f,] %>% st_buffer(100) %>% st_transform(st_crs(nlcdImages)) %>%\n",
        "  crop(links_dt[island ==test_05_wetlandsFishnet_sf[f,]$island]$ccap_raster[[1]],.) %>% resample(test_extent_raster_size, method = \"ngb\")\n",
        "\n",
        "\n",
        "nwi_harm <- test_nwi_crop\n",
        "nlcd_harm <- test_nlcd_crop\n",
        "ccap_harm <- test_ccap_crop\n",
        "\n",
        "values(nwi_harm) <- -1\n",
        "values(nlcd_harm) <- -1\n",
        "values(ccap_harm) <- -1\n",
        "\n",
        "for(i in 1:nrow(unified_table)){\n",
        " values(nwi_harm)[ values(test_nwi_crop %in% unified_table$nwi[[i]])] <- unified_table$unified[[i]]\n",
        " values(nlcd_harm)[ values(test_nlcd_crop %in% unified_table$nlcd[[i]])] <- unified_table$unified[[i]]\n",
        " values(ccap_harm)[ values(test_ccap_crop %in% unified_table$ccap[[i]])] <- unified_table$unified[[i]]\n",
        "\n",
        "}\n",
        "\n",
        "nwi_filled <- nlcd_harm\n",
        "values(nwi_filled)[values(nwi_harm) !=-1] <- values(nwi_harm)[values(nwi_harm) !=-1]\n",
        "values(nwi_filled)[values(nwi_filled) ==-1] <- 12\n",
        "\n",
        "\n",
        "\n",
        "ccap_filled <- ccap_harm\n",
        "values(ccap_filled)[values(ccap_harm) !=-1] <- values(ccap_harm)[values(ccap_harm) !=-1]\n",
        "values(ccap_filled)[values(ccap_filled) ==-1] <- 12\n",
        "\n",
        "\n",
        "\n",
        "\n",
        "test_05_planet_resampled %>% writeRaster(paste0('/content/', f, \"_planet\",'.tif'),overwrite=T)\n",
        "nwi_filled %>% writeRaster(paste0('/content/', f,\"_nwiFilled\",'.tif'),overwrite=T)\n",
        "test_dem_crop %>% writeRaster(paste0('/content/', f,\"_dem\",'.tif'),overwrite=T)\n",
        "ccap_filled %>% writeRaster(paste0('/content/', f,\"_ccapFilled\",'.tif'),overwrite=T)\n",
        "\n",
        "})\n",
        "\n",
        "stopCluster(cl)\n",
        "\n",
        "# zip(zipfile = \"/content/naip_16:10000.zip\",\n",
        "#     files = c(\"/content/exports/naip_image\",\n",
        "#     \"/content/exports/nwi_filled\",\n",
        "#     \"/content/exports/ccap_filled\",\n",
        "#     \"/content/exports/dem\"))\n",
        "# # https://drive.google.com/drive/folders/10RJ85fxzoc_jbWpZU2ySAg8uVFmtzl-T?usp=drive_link\n",
        "# drive_upload(media = \"/content/naip_16:10000.zip\", path = as_id(\"10RJ85fxzoc_jbWpZU2ySAg8uVFmtzl-T\"))"
      ],
      "metadata": {
        "id": "eEH83qA48001"
      },
      "execution_count": null,
      "outputs": []
    },
    {
      "cell_type": "code",
      "source": [],
      "metadata": {
        "id": "ndj1bS5G80yr"
      },
      "execution_count": null,
      "outputs": []
    },
    {
      "cell_type": "code",
      "source": [],
      "metadata": {
        "id": "IhYVw9Ak80wZ"
      },
      "execution_count": null,
      "outputs": []
    },
    {
      "cell_type": "code",
      "source": [],
      "metadata": {
        "id": "MqUrjcot80th"
      },
      "execution_count": null,
      "outputs": []
    },
    {
      "cell_type": "code",
      "source": [],
      "metadata": {
        "id": "aAi_Ko_D80rP"
      },
      "execution_count": null,
      "outputs": []
    },
    {
      "cell_type": "code",
      "source": [],
      "metadata": {
        "id": "7vO3eVkU_O8y"
      },
      "execution_count": null,
      "outputs": []
    },
    {
      "cell_type": "code",
      "source": [
        "  t <- c(4,5,12,13) %>% lapply(function(t){\n",
        "  # Load the Planet data raster for the specific location\n",
        "  location_name <- wetlandsFishnet$layer\n",
        "  # Find the corresponding row in final_island_data based on location_name\n",
        "  matching_row <- final_island_data[location_name == final_island_data$location_name]\n",
        "\n",
        "  planet_file_path <- matching_row$planet_file_path[1]\n",
        "  planet_raster <- stack(planet_file_path)\n",
        "\n",
        "  # Transform and crop the raster to match the wetlandsFishnet extent\n",
        "  wetlands_sf <- st_as_sf(wetlandsFishnet[t,]) %>% st_transform(crs = crs(planet_raster))\n",
        "  planet_cropped <- crop(planet_raster, extent(wetlands_sf))\n",
        "\n",
        "  # Create a uniform raster template\n",
        "  template_extent <- extent(planet_cropped)\n",
        "  template_raster <- raster(nrows = 384, ncols = 384, ext = template_extent, crs = crs(planet_raster))\n",
        "  planet_resampled <- resample(planet_cropped, template_raster, method = \"ngb\") # This is the planet tiles!!!\n",
        "\n",
        "\n",
        "  nwi_crop <- nwi_utm4 %>% st_intersection(wetlandsFishnet[t,] %>% st_as_sf %>% st_transform(st_crs(nwi_utm4))) %>%\n",
        "  st_transform(st_crs(planet_raster)) %>% fasterize(.,planet_resampled[[1]],'wetland_ty_numeric')\n",
        "\n",
        "  nlcd_crop <- wetlandsFishnet[t,] %>% st_as_sf %>% st_buffer(100) %>% st_transform(st_crs(nlcdImages)) %>% crop(nlcdImages,.) %>%\n",
        "  resample(planet_resampled,method='ngb')\n",
        "\n",
        "  ccap_crop <- planet_resampled %>% crop(final_island_data[island ==  wetlandsFishnet[t,]$island]$ccap_raster[[1]],.) %>%\n",
        "  resample(planet_resampled,method='ngb')\n",
        "\n",
        "  dem_crop <- wetlandsFishnet[t,] %>% st_as_sf %>% st_buffer(100) %>% st_transform(st_crs(nlcdImages)) %>%\n",
        "  crop(final_island_data[island ==  wetlandsFishnet[t,]$island]$dem_raster[[1]],.) %>% resample(planet_resampled,method='ngb')\n",
        "\n",
        "\n",
        "  planet_resampled %>% writeRaster(paste0('/content/exports/planet_data/', t, '_planet.tif'), overwrite = TRUE)\n",
        "  nwi_crop %>% writeRaster(paste0('/content/exports/nwi/', t, '_nwi.tif'), overwrite = TRUE)\n",
        "  dem_crop %>% writeRaster(paste0('/content/exports/dem/', t, '_dem.tif'), overwrite = TRUE)\n",
        "  ccap_crop %>% writeRaster(paste0('/content/exports/ccap/', t, '_ccap.tif'), overwrite = TRUE)\n",
        "\n",
        "  })\n"
      ],
      "metadata": {
        "colab": {
          "base_uri": "https://localhost:8080/"
        },
        "id": "2meOGdIyQCqu",
        "outputId": "9afb8ecc-674c-40ff-e8fd-f930d285fbc4"
      },
      "execution_count": null,
      "outputs": [
        {
          "output_type": "stream",
          "name": "stderr",
          "text": [
            "Warning message:\n",
            "“attribute variables are assumed to be spatially constant throughout all geometries”\n",
            "Warning message:\n",
            "“attribute variables are assumed to be spatially constant throughout all geometries”\n",
            "Warning message:\n",
            "“attribute variables are assumed to be spatially constant throughout all geometries”\n",
            "Warning message:\n",
            "“attribute variables are assumed to be spatially constant throughout all geometries”\n"
          ]
        }
      ]
    }
  ]
}