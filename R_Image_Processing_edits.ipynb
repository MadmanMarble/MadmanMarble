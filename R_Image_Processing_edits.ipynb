{
  "nbformat": 4,
  "nbformat_minor": 0,
  "metadata": {
    "colab": {
      "provenance": [],
      "machine_shape": "hm",
      "include_colab_link": true
    },
    "kernelspec": {
      "name": "ir",
      "display_name": "R"
    },
    "language_info": {
      "name": "R"
    }
  },
  "cells": [
    {
      "cell_type": "markdown",
      "metadata": {
        "id": "view-in-github",
        "colab_type": "text"
      },
      "source": [
        "<a href=\"https://colab.research.google.com/github/MadmanMarble/MadmanMarble/blob/main/R_Image_Processing_edits.ipynb\" target=\"_parent\"><img src=\"https://colab.research.google.com/assets/colab-badge.svg\" alt=\"Open In Colab\"/></a>"
      ]
    },
    {
      "cell_type": "code",
      "source": [
        "# Data\n",
        "# #Training\n",
        "# # #Labels\n",
        "# # #Images\n",
        "# #Validation\n",
        "# # #Labels\n",
        "# # #Images"
      ],
      "metadata": {
        "id": "3Jyn25BIhxN6"
      },
      "execution_count": null,
      "outputs": []
    },
    {
      "cell_type": "markdown",
      "source": [
        "Install Packages"
      ],
      "metadata": {
        "id": "SWcehFJf0f9f"
      }
    },
    {
      "cell_type": "code",
      "execution_count": 8,
      "metadata": {
        "colab": {
          "base_uri": "https://localhost:8080/"
        },
        "id": "rqIPU5GJbz7Y",
        "outputId": "f1f4c7e9-e99c-4c39-d5c8-4a8527798f88"
      },
      "outputs": [
        {
          "output_type": "stream",
          "name": "stderr",
          "text": [
            "Installing packages into ‘/usr/local/lib/R/site-library’\n",
            "(as ‘lib’ is unspecified)\n",
            "\n"
          ]
        }
      ],
      "source": [
        "install.packages(c('raster','sf','fasterize'))"
      ]
    },
    {
      "cell_type": "code",
      "source": [
        "install.packages(\"googledrive\")"
      ],
      "metadata": {
        "id": "TUmN_QDXjVlC",
        "outputId": "39752d28-8603-44ca-e452-cd4f2b169fd3",
        "colab": {
          "base_uri": "https://localhost:8080/"
        }
      },
      "execution_count": 9,
      "outputs": [
        {
          "output_type": "stream",
          "name": "stderr",
          "text": [
            "Installing package into ‘/usr/local/lib/R/site-library’\n",
            "(as ‘lib’ is unspecified)\n",
            "\n"
          ]
        }
      ]
    },
    {
      "cell_type": "code",
      "source": [
        "install.packages(\"devtools\")\n",
        "devtools:::install_github(\"gearslaboratory/gdalUtils\")"
      ],
      "metadata": {
        "colab": {
          "base_uri": "https://localhost:8080/"
        },
        "id": "b9eGuuoazL10",
        "outputId": "610040ff-79ea-4a95-8930-ba20c83b198f"
      },
      "execution_count": 10,
      "outputs": [
        {
          "output_type": "stream",
          "name": "stderr",
          "text": [
            "Installing package into ‘/usr/local/lib/R/site-library’\n",
            "(as ‘lib’ is unspecified)\n",
            "\n",
            "Downloading GitHub repo gearslaboratory/gdalUtils@HEAD\n",
            "\n"
          ]
        },
        {
          "output_type": "stream",
          "name": "stdout",
          "text": [
            "\n"
          ]
        },
        {
          "output_type": "stream",
          "name": "stderr",
          "text": [
            "Skipping 1 packages not available: rgdal\n",
            "\n"
          ]
        },
        {
          "output_type": "stream",
          "name": "stdout",
          "text": [
            "\u001b[36m──\u001b[39m \u001b[36mR CMD build\u001b[39m \u001b[36m─────────────────────────────────────────────────────────────────\u001b[39m\n",
            "* checking for file ‘/tmp/RtmpC2okj7/remotes11c443deafee1/gearslaboratory-gdalUtils-8872aaf/DESCRIPTION’ ... OK\n",
            "* preparing ‘gdalUtils’:\n",
            "* checking DESCRIPTION meta-information ... OK\n",
            "* checking for LF line-endings in source and make files and shell scripts\n",
            "* checking for empty or unneeded directories\n",
            "* building ‘gdalUtils_2.0.3.2.tar.gz’\n",
            "\n"
          ]
        },
        {
          "output_type": "stream",
          "name": "stderr",
          "text": [
            "Installing package into ‘/usr/local/lib/R/site-library’\n",
            "(as ‘lib’ is unspecified)\n",
            "\n",
            "Warning message in i.p(...):\n",
            "“installation of package ‘/tmp/RtmpC2okj7/file11c44596071d7/gdalUtils_2.0.3.2.tar.gz’ had non-zero exit status”\n"
          ]
        }
      ]
    },
    {
      "cell_type": "markdown",
      "source": [
        "Load Libraries"
      ],
      "metadata": {
        "id": "2W36Visb1UAu"
      }
    },
    {
      "cell_type": "code",
      "source": [
        "library(raster)\n",
        "library(sf)\n",
        "library(fasterize)\n",
        "library(magrittr)\n",
        "library(googledrive)\n",
        "library(parallel)\n",
        "library(data.table)\n",
        "library(stringr)\n",
        "# library(gdalUtils)"
      ],
      "metadata": {
        "id": "7Ro8y26OitYr"
      },
      "execution_count": 11,
      "outputs": []
    },
    {
      "cell_type": "markdown",
      "source": [
        "Connect to Google Drive"
      ],
      "metadata": {
        "id": "gQYlLVvy1mWk"
      }
    },
    {
      "cell_type": "code",
      "source": [
        "drive_auth(use_oob = TRUE, cache = FALSE)"
      ],
      "metadata": {
        "colab": {
          "base_uri": "https://localhost:8080/"
        },
        "id": "8lpzsRZsiwKc",
        "outputId": "fe1ec1b4-06fb-4a99-bef2-01365c08f333"
      },
      "execution_count": 12,
      "outputs": [
        {
          "output_type": "stream",
          "name": "stderr",
          "text": [
            "Please point your browser to the following url: \n",
            "\n",
            "https://accounts.google.com/o/oauth2/v2/auth?client_id=603366585132-frjlouoa3s2ono25d2l9ukvhlsrlnr7k.apps.googleusercontent.com&scope=https%3A%2F%2Fwww.googleapis.com%2Fauth%2Fdrive%20https%3A%2F%2Fwww.googleapis.com%2Fauth%2Fuserinfo.email&redirect_uri=https%3A%2F%2Fwww.tidyverse.org%2Fgoogle-callback%2F&response_type=code&state=424d05dd7fcf58039dcbb32b8b18cb96&access_type=offline&prompt=consent\n",
            "\n"
          ]
        },
        {
          "name": "stdout",
          "output_type": "stream",
          "text": [
            "Enter authorization code: eyJjb2RlIjoiNC8wQWVhWVNIQUxlTk81Y3RESnVPRXJEZEJhUURKc3FyWUkyNGlIRE9lQ2JPbkFpcVRXRUZKcG1XSFNaUVpkY2I1Y0RtWXZCQSIsInN0YXRlIjoiNDI0ZDA1ZGQ3ZmNmNTgwMzlkY2JiMzJiOGIxOGNiOTYifQ==\n"
          ]
        }
      ]
    },
    {
      "cell_type": "markdown",
      "source": [
        "**input_data folder set up**\n",
        "\n",
        "\n",
        "*   naip_index.zip\n",
        "     *   NAIP tile index > Drive/DeepLearning_Project/Datasets/naip\n",
        "*   nwi_wetlands.gpkg\n",
        " *    NWI wetlands geoPackage > Drive/DeepLearning_Project/Datasets/nwi\n",
        "*   wetland_aoi.gpgk\n",
        " *   Wetland AOIs geoPackage > Drive/DeepLearning_Project/Datasets/clip_data\n",
        "*   nlcd_hi_2001.tif\n",
        " *   NLCD land cover data > Drive/DeepLearning_Project/Datasets/nlcd\n",
        "*   ccap_2010.tif\n",
        "    * CCAP land cover data > Drive/DeepLearning_Project/Datasets/ccap\n",
        "\n"
      ],
      "metadata": {
        "id": "HW2iA1I31rlo"
      }
    },
    {
      "cell_type": "code",
      "source": [
        "dir.create('input_data')"
      ],
      "metadata": {
        "id": "4HqxMRL7qqdN",
        "outputId": "9766b349-faf7-4488-ac1c-5c387640120a",
        "colab": {
          "base_uri": "https://localhost:8080/"
        }
      },
      "execution_count": 13,
      "outputs": [
        {
          "output_type": "stream",
          "name": "stderr",
          "text": [
            "Warning message in dir.create(\"input_data\"):\n",
            "“'input_data' already exists”\n"
          ]
        }
      ]
    },
    {
      "cell_type": "code",
      "source": [
        "# https://drive.google.com/file/d/1thj0vGXN0xgXxI_XDY-hagp-gWHZCdaS/view?usp=drive_link\n",
        "drive_download(file = as_id('1thj0vGXN0xgXxI_XDY-hagp-gWHZCdaS'), path =  '/content/input_data/naip_index.zip', overwrite = TRUE)\n",
        "# unzip naip tile index\n",
        "unzip(zipfile ='/content/input_data/naip_index.zip', exdir = \"/content/input_data/naip_index/\")\n",
        "naip_index_gpkg = st_read('/content/input_data/naip_index/tileindex_HI_NAIP_2021.shp')\n",
        "naip_index_gpkg"
      ],
      "metadata": {
        "id": "3YhBxPs1kYWr",
        "outputId": "1dabbe2a-3e92-4d70-921a-9cd3206b9031",
        "colab": {
          "base_uri": "https://localhost:8080/",
          "height": 1000
        }
      },
      "execution_count": 14,
      "outputs": [
        {
          "output_type": "stream",
          "name": "stderr",
          "text": [
            "File downloaded:\n",
            "\n",
            "• \u001b[36mtileindex_HI_NAIP_2021.zip\u001b[39m \u001b[90m<id: 1thj0vGXN0xgXxI_XDY-hagp-gWHZCdaS>\u001b[39m\n",
            "\n",
            "Saved locally as:\n",
            "\n",
            "• \u001b[34m/content/input_data/naip_index.zip\u001b[39m\n",
            "\n"
          ]
        },
        {
          "output_type": "stream",
          "name": "stdout",
          "text": [
            "Reading layer `tileindex_HI_NAIP_2021' from data source \n",
            "  `/content/input_data/naip_index/tileindex_HI_NAIP_2021.shp' \n",
            "  using driver `ESRI Shapefile'\n",
            "Simple feature collection with 611 features and 3 fields\n",
            "Geometry type: POLYGON\n",
            "Dimension:     XY\n",
            "Bounding box:  xmin: -160.3144 ymin: 18.8732 xmax: -154.7481 ymax: 22.25184\n",
            "Geodetic CRS:  NAD83\n"
          ]
        },
        {
          "output_type": "stream",
          "name": "stderr",
          "text": [
            "ERROR while rich displaying an object: Error in loadNamespace(x): there is no package called ‘geojsonio’\n",
            "\n",
            "Traceback:\n",
            "1. tryCatch(withCallingHandlers({\n",
            " .     if (!mime %in% names(repr::mime2repr)) \n",
            " .         stop(\"No repr_* for mimetype \", mime, \" in repr::mime2repr\")\n",
            " .     rpr <- repr::mime2repr[[mime]](obj)\n",
            " .     if (is.null(rpr)) \n",
            " .         return(NULL)\n",
            " .     prepare_content(is.raw(rpr), rpr)\n",
            " . }, error = error_handler), error = outer_handler)\n",
            "2. tryCatchList(expr, classes, parentenv, handlers)\n",
            "3. tryCatchOne(expr, names, parentenv, handlers[[1L]])\n",
            "4. doTryCatch(return(expr), name, parentenv, handler)\n",
            "5. withCallingHandlers({\n",
            " .     if (!mime %in% names(repr::mime2repr)) \n",
            " .         stop(\"No repr_* for mimetype \", mime, \" in repr::mime2repr\")\n",
            " .     rpr <- repr::mime2repr[[mime]](obj)\n",
            " .     if (is.null(rpr)) \n",
            " .         return(NULL)\n",
            " .     prepare_content(is.raw(rpr), rpr)\n",
            " . }, error = error_handler)\n",
            "6. repr::mime2repr[[mime]](obj)\n",
            "7. repr_geojson.sf(obj)\n",
            "8. repr_geojson(geojsonio::geojson_list(obj), ...)\n",
            "9. loadNamespace(x)\n",
            "10. withRestarts(stop(cond), retry_loadNamespace = function() NULL)\n",
            "11. withOneRestart(expr, restarts[[1L]])\n",
            "12. doWithOneRestart(return(expr), restart)\n"
          ]
        },
        {
          "output_type": "display_data",
          "data": {
            "text/html": [
              "<table class=\"dataframe\">\n",
              "<caption>A sf: 611 × 4</caption>\n",
              "<thead>\n",
              "\t<tr><th scope=col>location</th><th scope=col>url</th><th scope=col>missionid</th><th scope=col>geometry</th></tr>\n",
              "\t<tr><th scope=col>&lt;chr&gt;</th><th scope=col>&lt;chr&gt;</th><th scope=col>&lt;int&gt;</th><th scope=col>&lt;POLYGON [°]&gt;</th></tr>\n",
              "</thead>\n",
              "<tbody>\n",
              "\t<tr><td>m_2015612_ne_04_060_20220108.tif</td><td>https://coastalimagery.blob.core.windows.net/digitalcoast/HI_NAIP_2021_9668/m_2015612_ne_04_060_20220108.tif</td><td>9668</td><td>POLYGON ((-156.497 20.80974...</td></tr>\n",
              "\t<tr><td>m_2015612_nw_04_060_20220108.tif</td><td>https://coastalimagery.blob.core.windows.net/digitalcoast/HI_NAIP_2021_9668/m_2015612_nw_04_060_20220108.tif</td><td>9668</td><td>POLYGON ((-156.5595 20.8097...</td></tr>\n",
              "\t<tr><td>m_2015612_se_04_060_20220108.tif</td><td>https://coastalimagery.blob.core.windows.net/digitalcoast/HI_NAIP_2021_9668/m_2015612_se_04_060_20220108.tif</td><td>9668</td><td>POLYGON ((-156.497 20.74727...</td></tr>\n",
              "\t<tr><td>m_2015612_sw_04_060_20220108.tif</td><td>https://coastalimagery.blob.core.windows.net/digitalcoast/HI_NAIP_2021_9668/m_2015612_sw_04_060_20220108.tif</td><td>9668</td><td>POLYGON ((-156.5596 20.7473...</td></tr>\n",
              "\t<tr><td>m_2015613_ne_04_060_20220108.tif</td><td>https://coastalimagery.blob.core.windows.net/digitalcoast/HI_NAIP_2021_9668/m_2015613_ne_04_060_20220108.tif</td><td>9668</td><td>POLYGON ((-156.372 20.80971...</td></tr>\n",
              "\t<tr><td>m_2015613_nw_04_060_20220108.tif</td><td>https://coastalimagery.blob.core.windows.net/digitalcoast/HI_NAIP_2021_9668/m_2015613_nw_04_060_20220108.tif</td><td>9668</td><td>POLYGON ((-156.4345 20.8097...</td></tr>\n",
              "\t<tr><td>m_2015613_se_04_060_20220108.tif</td><td>https://coastalimagery.blob.core.windows.net/digitalcoast/HI_NAIP_2021_9668/m_2015613_se_04_060_20220108.tif</td><td>9668</td><td>POLYGON ((-156.372 20.7472,...</td></tr>\n",
              "\t<tr><td>m_2015613_sw_04_060_20220108.tif</td><td>https://coastalimagery.blob.core.windows.net/digitalcoast/HI_NAIP_2021_9668/m_2015613_sw_04_060_20220108.tif</td><td>9668</td><td>POLYGON ((-156.4345 20.7472...</td></tr>\n",
              "\t<tr><td>m_2015614_ne_04_060_20220108.tif</td><td>https://coastalimagery.blob.core.windows.net/digitalcoast/HI_NAIP_2021_9668/m_2015614_ne_04_060_20220108.tif</td><td>9668</td><td>POLYGON ((-156.2469 20.8096...</td></tr>\n",
              "\t<tr><td>m_2015614_nw_04_060_20220108.tif</td><td>https://coastalimagery.blob.core.windows.net/digitalcoast/HI_NAIP_2021_9668/m_2015614_nw_04_060_20220108.tif</td><td>9668</td><td>POLYGON ((-156.3094 20.8096...</td></tr>\n",
              "\t<tr><td>m_2015614_se_04_060_20220108.tif</td><td>https://coastalimagery.blob.core.windows.net/digitalcoast/HI_NAIP_2021_9668/m_2015614_se_04_060_20220108.tif</td><td>9668</td><td>POLYGON ((-156.2469 20.7471...</td></tr>\n",
              "\t<tr><td>m_2015614_sw_04_060_20220108.tif</td><td>https://coastalimagery.blob.core.windows.net/digitalcoast/HI_NAIP_2021_9668/m_2015614_sw_04_060_20220108.tif</td><td>9668</td><td>POLYGON ((-156.3094 20.7472...</td></tr>\n",
              "\t<tr><td>m_2015615_ne_04_060_20220108.tif</td><td>https://coastalimagery.blob.core.windows.net/digitalcoast/HI_NAIP_2021_9668/m_2015615_ne_04_060_20220108.tif</td><td>9668</td><td>POLYGON ((-156.1218 20.8096...</td></tr>\n",
              "\t<tr><td>m_2015615_nw_04_060_20220108.tif</td><td>https://coastalimagery.blob.core.windows.net/digitalcoast/HI_NAIP_2021_9668/m_2015615_nw_04_060_20220108.tif</td><td>9668</td><td>POLYGON ((-156.1844 20.8096...</td></tr>\n",
              "\t<tr><td>m_2015615_se_04_060_20220108.tif</td><td>https://coastalimagery.blob.core.windows.net/digitalcoast/HI_NAIP_2021_9668/m_2015615_se_04_060_20220108.tif</td><td>9668</td><td>POLYGON ((-156.1219 20.7470...</td></tr>\n",
              "\t<tr><td>m_2015615_sw_04_060_20220108.tif</td><td>https://coastalimagery.blob.core.windows.net/digitalcoast/HI_NAIP_2021_9668/m_2015615_sw_04_060_20220108.tif</td><td>9668</td><td>POLYGON ((-156.1844 20.7471...</td></tr>\n",
              "\t<tr><td>m_2015616_ne_04_060_20220108.tif</td><td>https://coastalimagery.blob.core.windows.net/digitalcoast/HI_NAIP_2021_9668/m_2015616_ne_04_060_20220108.tif</td><td>9668</td><td>POLYGON ((-155.9968 20.8095...</td></tr>\n",
              "\t<tr><td>m_2015616_nw_04_060_20220108.tif</td><td>https://coastalimagery.blob.core.windows.net/digitalcoast/HI_NAIP_2021_9668/m_2015616_nw_04_060_20220108.tif</td><td>9668</td><td>POLYGON ((-156.0593 20.8096...</td></tr>\n",
              "\t<tr><td>m_2015616_se_04_060_20220108.tif</td><td>https://coastalimagery.blob.core.windows.net/digitalcoast/HI_NAIP_2021_9668/m_2015616_se_04_060_20220108.tif</td><td>9668</td><td>POLYGON ((-155.9968 20.7470...</td></tr>\n",
              "\t<tr><td>m_2015616_sw_04_060_20220108.tif</td><td>https://coastalimagery.blob.core.windows.net/digitalcoast/HI_NAIP_2021_9668/m_2015616_sw_04_060_20220108.tif</td><td>9668</td><td>POLYGON ((-156.0593 20.7471...</td></tr>\n",
              "\t<tr><td>m_2015617_ne_04_060_20220108.tif</td><td>https://coastalimagery.blob.core.windows.net/digitalcoast/HI_NAIP_2021_9668/m_2015617_ne_04_060_20220108.tif</td><td>9668</td><td>POLYGON ((-156.8722 20.6849...</td></tr>\n",
              "\t<tr><td>m_2015617_nw_04_060_20220108.tif</td><td>https://coastalimagery.blob.core.windows.net/digitalcoast/HI_NAIP_2021_9668/m_2015617_nw_04_060_20220108.tif</td><td>9668</td><td>POLYGON ((-156.9347 20.6849...</td></tr>\n",
              "\t<tr><td>m_2015618_nw_04_060_20220108.tif</td><td>https://coastalimagery.blob.core.windows.net/digitalcoast/HI_NAIP_2021_9668/m_2015618_nw_04_060_20220108.tif</td><td>9668</td><td>POLYGON ((-156.8096 20.6848...</td></tr>\n",
              "\t<tr><td>m_2015622_sw_04_060_20220108.tif</td><td>https://coastalimagery.blob.core.windows.net/digitalcoast/HI_NAIP_2021_9668/m_2015622_sw_04_060_20220108.tif</td><td>9668</td><td>POLYGON ((-156.3094 20.6221...</td></tr>\n",
              "\t<tr><td>m_2015620_se_04_060_20220108.tif</td><td>https://coastalimagery.blob.core.windows.net/digitalcoast/HI_NAIP_2021_9668/m_2015620_se_04_060_20220108.tif</td><td>9668</td><td>POLYGON ((-156.497 20.62229...</td></tr>\n",
              "\t<tr><td>m_2015620_se_04_060_20221110.tif</td><td>https://coastalimagery.blob.core.windows.net/digitalcoast/HI_NAIP_2021_9668/m_2015620_se_04_060_20221110.tif</td><td>9668</td><td>POLYGON ((-156.497 20.62229...</td></tr>\n",
              "\t<tr><td>m_2015621_ne_04_060_20220108.tif</td><td>https://coastalimagery.blob.core.windows.net/digitalcoast/HI_NAIP_2021_9668/m_2015621_ne_04_060_20220108.tif</td><td>9668</td><td>POLYGON ((-156.3719 20.6847...</td></tr>\n",
              "\t<tr><td>m_2015621_nw_04_060_20220108.tif</td><td>https://coastalimagery.blob.core.windows.net/digitalcoast/HI_NAIP_2021_9668/m_2015621_nw_04_060_20220108.tif</td><td>9668</td><td>POLYGON ((-156.4345 20.6847...</td></tr>\n",
              "\t<tr><td>m_2015621_se_04_060_20220108.tif</td><td>https://coastalimagery.blob.core.windows.net/digitalcoast/HI_NAIP_2021_9668/m_2015621_se_04_060_20220108.tif</td><td>9668</td><td>POLYGON ((-156.372 20.62222...</td></tr>\n",
              "\t<tr><td>m_2015621_se_04_060_20221110.tif</td><td>https://coastalimagery.blob.core.windows.net/digitalcoast/HI_NAIP_2021_9668/m_2015621_se_04_060_20221110.tif</td><td>9668</td><td>POLYGON ((-156.372 20.62222...</td></tr>\n",
              "\t<tr><td>⋮</td><td>⋮</td><td>⋮</td><td>⋮</td></tr>\n",
              "\t<tr><td>m_2215953_nw_04_060_20220321.tif</td><td>https://coastalimagery.blob.core.windows.net/digitalcoast/HI_NAIP_2021_9668/m_2215953_nw_04_060_20220321.tif</td><td>9668</td><td>POLYGON ((-159.4355 22.1856...</td></tr>\n",
              "\t<tr><td>m_2215953_se_04_060_20220321.tif</td><td>https://coastalimagery.blob.core.windows.net/digitalcoast/HI_NAIP_2021_9668/m_2215953_se_04_060_20220321.tif</td><td>9668</td><td>POLYGON ((-159.3731 22.1232...</td></tr>\n",
              "\t<tr><td>m_2215953_sw_04_060_20220321.tif</td><td>https://coastalimagery.blob.core.windows.net/digitalcoast/HI_NAIP_2021_9668/m_2215953_sw_04_060_20220321.tif</td><td>9668</td><td>POLYGON ((-159.4356 22.1231...</td></tr>\n",
              "\t<tr><td>m_2215954_ne_04_060_20220128.tif</td><td>https://coastalimagery.blob.core.windows.net/digitalcoast/HI_NAIP_2021_9668/m_2215954_ne_04_060_20220128.tif</td><td>9668</td><td>POLYGON ((-159.248 22.18568...</td></tr>\n",
              "\t<tr><td>m_2215954_nw_04_060_20220128.tif</td><td>https://coastalimagery.blob.core.windows.net/digitalcoast/HI_NAIP_2021_9668/m_2215954_nw_04_060_20220128.tif</td><td>9668</td><td>POLYGON ((-159.3106 22.1856...</td></tr>\n",
              "\t<tr><td>m_2215954_se_04_060_20220128.tif</td><td>https://coastalimagery.blob.core.windows.net/digitalcoast/HI_NAIP_2021_9668/m_2215954_se_04_060_20220128.tif</td><td>9668</td><td>POLYGON ((-159.248 22.12318...</td></tr>\n",
              "\t<tr><td>m_2215954_sw_04_060_20220321.tif</td><td>https://coastalimagery.blob.core.windows.net/digitalcoast/HI_NAIP_2021_9668/m_2215954_sw_04_060_20220321.tif</td><td>9668</td><td>POLYGON ((-159.3105 22.1231...</td></tr>\n",
              "\t<tr><td>m_2215958_ne_04_060_20220321.tif</td><td>https://coastalimagery.blob.core.windows.net/digitalcoast/HI_NAIP_2021_9668/m_2215958_ne_04_060_20220321.tif</td><td>9668</td><td>POLYGON ((-159.7481 22.0606...</td></tr>\n",
              "\t<tr><td>m_2215958_se_04_060_20220321.tif</td><td>https://coastalimagery.blob.core.windows.net/digitalcoast/HI_NAIP_2021_9668/m_2215958_se_04_060_20220321.tif</td><td>9668</td><td>POLYGON ((-159.748 21.99818...</td></tr>\n",
              "\t<tr><td>m_2215959_ne_04_060_20220321.tif</td><td>https://coastalimagery.blob.core.windows.net/digitalcoast/HI_NAIP_2021_9668/m_2215959_ne_04_060_20220321.tif</td><td>9668</td><td>POLYGON ((-159.6231 22.0607...</td></tr>\n",
              "\t<tr><td>m_2215959_ne_04_060_20221204.tif</td><td>https://coastalimagery.blob.core.windows.net/digitalcoast/HI_NAIP_2021_9668/m_2215959_ne_04_060_20221204.tif</td><td>9668</td><td>POLYGON ((-159.6231 22.0607...</td></tr>\n",
              "\t<tr><td>m_2215959_nw_04_060_20220321.tif</td><td>https://coastalimagery.blob.core.windows.net/digitalcoast/HI_NAIP_2021_9668/m_2215959_nw_04_060_20220321.tif</td><td>9668</td><td>POLYGON ((-159.6855 22.0606...</td></tr>\n",
              "\t<tr><td>m_2215959_se_04_060_20220321.tif</td><td>https://coastalimagery.blob.core.windows.net/digitalcoast/HI_NAIP_2021_9668/m_2215959_se_04_060_20220321.tif</td><td>9668</td><td>POLYGON ((-159.6231 21.9982...</td></tr>\n",
              "\t<tr><td>m_2215959_sw_04_060_20220321.tif</td><td>https://coastalimagery.blob.core.windows.net/digitalcoast/HI_NAIP_2021_9668/m_2215959_sw_04_060_20220321.tif</td><td>9668</td><td>POLYGON ((-159.6856 21.9981...</td></tr>\n",
              "\t<tr><td>m_2215960_ne_04_060_20220321.tif</td><td>https://coastalimagery.blob.core.windows.net/digitalcoast/HI_NAIP_2021_9668/m_2215960_ne_04_060_20220321.tif</td><td>9668</td><td>POLYGON ((-159.498 22.06071...</td></tr>\n",
              "\t<tr><td>m_2215960_ne_04_060_20221204.tif</td><td>https://coastalimagery.blob.core.windows.net/digitalcoast/HI_NAIP_2021_9668/m_2215960_ne_04_060_20221204.tif</td><td>9668</td><td>POLYGON ((-159.498 22.06071...</td></tr>\n",
              "\t<tr><td>m_2215960_nw_04_060_20220321.tif</td><td>https://coastalimagery.blob.core.windows.net/digitalcoast/HI_NAIP_2021_9668/m_2215960_nw_04_060_20220321.tif</td><td>9668</td><td>POLYGON ((-159.5606 22.0606...</td></tr>\n",
              "\t<tr><td>m_2215960_se_04_060_20220321.tif</td><td>https://coastalimagery.blob.core.windows.net/digitalcoast/HI_NAIP_2021_9668/m_2215960_se_04_060_20220321.tif</td><td>9668</td><td>POLYGON ((-159.498 21.99821...</td></tr>\n",
              "\t<tr><td>m_2215960_se_04_060_20230101.tif</td><td>https://coastalimagery.blob.core.windows.net/digitalcoast/HI_NAIP_2021_9668/m_2215960_se_04_060_20230101.tif</td><td>9668</td><td>POLYGON ((-159.498 21.99821...</td></tr>\n",
              "\t<tr><td>m_2215960_sw_04_060_20220321.tif</td><td>https://coastalimagery.blob.core.windows.net/digitalcoast/HI_NAIP_2021_9668/m_2215960_sw_04_060_20220321.tif</td><td>9668</td><td>POLYGON ((-159.5606 21.9981...</td></tr>\n",
              "\t<tr><td>m_2215961_ne_04_060_20220321.tif</td><td>https://coastalimagery.blob.core.windows.net/digitalcoast/HI_NAIP_2021_9668/m_2215961_ne_04_060_20220321.tif</td><td>9668</td><td>POLYGON ((-159.3731 22.0607...</td></tr>\n",
              "\t<tr><td>m_2215961_nw_04_060_20220321.tif</td><td>https://coastalimagery.blob.core.windows.net/digitalcoast/HI_NAIP_2021_9668/m_2215961_nw_04_060_20220321.tif</td><td>9668</td><td>POLYGON ((-159.4355 22.0606...</td></tr>\n",
              "\t<tr><td>m_2215961_se_04_060_20220321.tif</td><td>https://coastalimagery.blob.core.windows.net/digitalcoast/HI_NAIP_2021_9668/m_2215961_se_04_060_20220321.tif</td><td>9668</td><td>POLYGON ((-159.3731 21.9982...</td></tr>\n",
              "\t<tr><td>m_2215961_sw_04_060_20220321.tif</td><td>https://coastalimagery.blob.core.windows.net/digitalcoast/HI_NAIP_2021_9668/m_2215961_sw_04_060_20220321.tif</td><td>9668</td><td>POLYGON ((-159.4355 21.9981...</td></tr>\n",
              "\t<tr><td>m_2215962_ne_04_060_20220321.tif</td><td>https://coastalimagery.blob.core.windows.net/digitalcoast/HI_NAIP_2021_9668/m_2215962_ne_04_060_20220321.tif</td><td>9668</td><td>POLYGON ((-159.248 22.06068...</td></tr>\n",
              "\t<tr><td>m_2215962_nw_04_060_20220321.tif</td><td>https://coastalimagery.blob.core.windows.net/digitalcoast/HI_NAIP_2021_9668/m_2215962_nw_04_060_20220321.tif</td><td>9668</td><td>POLYGON ((-159.3106 22.0606...</td></tr>\n",
              "\t<tr><td>m_2215962_se_04_060_20220321.tif</td><td>https://coastalimagery.blob.core.windows.net/digitalcoast/HI_NAIP_2021_9668/m_2215962_se_04_060_20220321.tif</td><td>9668</td><td>POLYGON ((-159.248 21.99818...</td></tr>\n",
              "\t<tr><td>m_2215962_sw_04_060_20220321.tif</td><td>https://coastalimagery.blob.core.windows.net/digitalcoast/HI_NAIP_2021_9668/m_2215962_sw_04_060_20220321.tif</td><td>9668</td><td>POLYGON ((-159.3106 21.9981...</td></tr>\n",
              "\t<tr><td>m_2216064_se_04_060_20220211.tif</td><td>https://coastalimagery.blob.core.windows.net/digitalcoast/HI_NAIP_2021_9668/m_2216064_se_04_060_20220211.tif</td><td>9668</td><td>POLYGON ((-159.9981 21.9982...</td></tr>\n",
              "\t<tr><td>m_2216064_sw_04_060_20220211.tif</td><td>https://coastalimagery.blob.core.windows.net/digitalcoast/HI_NAIP_2021_9668/m_2216064_sw_04_060_20220211.tif</td><td>9668</td><td>POLYGON ((-160.0606 21.9981...</td></tr>\n",
              "</tbody>\n",
              "</table>\n"
            ],
            "text/markdown": "\nA sf: 611 × 4\n\n| location &lt;chr&gt; | url &lt;chr&gt; | missionid &lt;int&gt; | geometry &lt;POLYGON [°]&gt; |\n|---|---|---|---|\n| m_2015612_ne_04_060_20220108.tif | https://coastalimagery.blob.core.windows.net/digitalcoast/HI_NAIP_2021_9668/m_2015612_ne_04_060_20220108.tif | 9668 | POLYGON ((-156.497 20.80974... |\n| m_2015612_nw_04_060_20220108.tif | https://coastalimagery.blob.core.windows.net/digitalcoast/HI_NAIP_2021_9668/m_2015612_nw_04_060_20220108.tif | 9668 | POLYGON ((-156.5595 20.8097... |\n| m_2015612_se_04_060_20220108.tif | https://coastalimagery.blob.core.windows.net/digitalcoast/HI_NAIP_2021_9668/m_2015612_se_04_060_20220108.tif | 9668 | POLYGON ((-156.497 20.74727... |\n| m_2015612_sw_04_060_20220108.tif | https://coastalimagery.blob.core.windows.net/digitalcoast/HI_NAIP_2021_9668/m_2015612_sw_04_060_20220108.tif | 9668 | POLYGON ((-156.5596 20.7473... |\n| m_2015613_ne_04_060_20220108.tif | https://coastalimagery.blob.core.windows.net/digitalcoast/HI_NAIP_2021_9668/m_2015613_ne_04_060_20220108.tif | 9668 | POLYGON ((-156.372 20.80971... |\n| m_2015613_nw_04_060_20220108.tif | https://coastalimagery.blob.core.windows.net/digitalcoast/HI_NAIP_2021_9668/m_2015613_nw_04_060_20220108.tif | 9668 | POLYGON ((-156.4345 20.8097... |\n| m_2015613_se_04_060_20220108.tif | https://coastalimagery.blob.core.windows.net/digitalcoast/HI_NAIP_2021_9668/m_2015613_se_04_060_20220108.tif | 9668 | POLYGON ((-156.372 20.7472,... |\n| m_2015613_sw_04_060_20220108.tif | https://coastalimagery.blob.core.windows.net/digitalcoast/HI_NAIP_2021_9668/m_2015613_sw_04_060_20220108.tif | 9668 | POLYGON ((-156.4345 20.7472... |\n| m_2015614_ne_04_060_20220108.tif | https://coastalimagery.blob.core.windows.net/digitalcoast/HI_NAIP_2021_9668/m_2015614_ne_04_060_20220108.tif | 9668 | POLYGON ((-156.2469 20.8096... |\n| m_2015614_nw_04_060_20220108.tif | https://coastalimagery.blob.core.windows.net/digitalcoast/HI_NAIP_2021_9668/m_2015614_nw_04_060_20220108.tif | 9668 | POLYGON ((-156.3094 20.8096... |\n| m_2015614_se_04_060_20220108.tif | https://coastalimagery.blob.core.windows.net/digitalcoast/HI_NAIP_2021_9668/m_2015614_se_04_060_20220108.tif | 9668 | POLYGON ((-156.2469 20.7471... |\n| m_2015614_sw_04_060_20220108.tif | https://coastalimagery.blob.core.windows.net/digitalcoast/HI_NAIP_2021_9668/m_2015614_sw_04_060_20220108.tif | 9668 | POLYGON ((-156.3094 20.7472... |\n| m_2015615_ne_04_060_20220108.tif | https://coastalimagery.blob.core.windows.net/digitalcoast/HI_NAIP_2021_9668/m_2015615_ne_04_060_20220108.tif | 9668 | POLYGON ((-156.1218 20.8096... |\n| m_2015615_nw_04_060_20220108.tif | https://coastalimagery.blob.core.windows.net/digitalcoast/HI_NAIP_2021_9668/m_2015615_nw_04_060_20220108.tif | 9668 | POLYGON ((-156.1844 20.8096... |\n| m_2015615_se_04_060_20220108.tif | https://coastalimagery.blob.core.windows.net/digitalcoast/HI_NAIP_2021_9668/m_2015615_se_04_060_20220108.tif | 9668 | POLYGON ((-156.1219 20.7470... |\n| m_2015615_sw_04_060_20220108.tif | https://coastalimagery.blob.core.windows.net/digitalcoast/HI_NAIP_2021_9668/m_2015615_sw_04_060_20220108.tif | 9668 | POLYGON ((-156.1844 20.7471... |\n| m_2015616_ne_04_060_20220108.tif | https://coastalimagery.blob.core.windows.net/digitalcoast/HI_NAIP_2021_9668/m_2015616_ne_04_060_20220108.tif | 9668 | POLYGON ((-155.9968 20.8095... |\n| m_2015616_nw_04_060_20220108.tif | https://coastalimagery.blob.core.windows.net/digitalcoast/HI_NAIP_2021_9668/m_2015616_nw_04_060_20220108.tif | 9668 | POLYGON ((-156.0593 20.8096... |\n| m_2015616_se_04_060_20220108.tif | https://coastalimagery.blob.core.windows.net/digitalcoast/HI_NAIP_2021_9668/m_2015616_se_04_060_20220108.tif | 9668 | POLYGON ((-155.9968 20.7470... |\n| m_2015616_sw_04_060_20220108.tif | https://coastalimagery.blob.core.windows.net/digitalcoast/HI_NAIP_2021_9668/m_2015616_sw_04_060_20220108.tif | 9668 | POLYGON ((-156.0593 20.7471... |\n| m_2015617_ne_04_060_20220108.tif | https://coastalimagery.blob.core.windows.net/digitalcoast/HI_NAIP_2021_9668/m_2015617_ne_04_060_20220108.tif | 9668 | POLYGON ((-156.8722 20.6849... |\n| m_2015617_nw_04_060_20220108.tif | https://coastalimagery.blob.core.windows.net/digitalcoast/HI_NAIP_2021_9668/m_2015617_nw_04_060_20220108.tif | 9668 | POLYGON ((-156.9347 20.6849... |\n| m_2015618_nw_04_060_20220108.tif | https://coastalimagery.blob.core.windows.net/digitalcoast/HI_NAIP_2021_9668/m_2015618_nw_04_060_20220108.tif | 9668 | POLYGON ((-156.8096 20.6848... |\n| m_2015622_sw_04_060_20220108.tif | https://coastalimagery.blob.core.windows.net/digitalcoast/HI_NAIP_2021_9668/m_2015622_sw_04_060_20220108.tif | 9668 | POLYGON ((-156.3094 20.6221... |\n| m_2015620_se_04_060_20220108.tif | https://coastalimagery.blob.core.windows.net/digitalcoast/HI_NAIP_2021_9668/m_2015620_se_04_060_20220108.tif | 9668 | POLYGON ((-156.497 20.62229... |\n| m_2015620_se_04_060_20221110.tif | https://coastalimagery.blob.core.windows.net/digitalcoast/HI_NAIP_2021_9668/m_2015620_se_04_060_20221110.tif | 9668 | POLYGON ((-156.497 20.62229... |\n| m_2015621_ne_04_060_20220108.tif | https://coastalimagery.blob.core.windows.net/digitalcoast/HI_NAIP_2021_9668/m_2015621_ne_04_060_20220108.tif | 9668 | POLYGON ((-156.3719 20.6847... |\n| m_2015621_nw_04_060_20220108.tif | https://coastalimagery.blob.core.windows.net/digitalcoast/HI_NAIP_2021_9668/m_2015621_nw_04_060_20220108.tif | 9668 | POLYGON ((-156.4345 20.6847... |\n| m_2015621_se_04_060_20220108.tif | https://coastalimagery.blob.core.windows.net/digitalcoast/HI_NAIP_2021_9668/m_2015621_se_04_060_20220108.tif | 9668 | POLYGON ((-156.372 20.62222... |\n| m_2015621_se_04_060_20221110.tif | https://coastalimagery.blob.core.windows.net/digitalcoast/HI_NAIP_2021_9668/m_2015621_se_04_060_20221110.tif | 9668 | POLYGON ((-156.372 20.62222... |\n| ⋮ | ⋮ | ⋮ | ⋮ |\n| m_2215953_nw_04_060_20220321.tif | https://coastalimagery.blob.core.windows.net/digitalcoast/HI_NAIP_2021_9668/m_2215953_nw_04_060_20220321.tif | 9668 | POLYGON ((-159.4355 22.1856... |\n| m_2215953_se_04_060_20220321.tif | https://coastalimagery.blob.core.windows.net/digitalcoast/HI_NAIP_2021_9668/m_2215953_se_04_060_20220321.tif | 9668 | POLYGON ((-159.3731 22.1232... |\n| m_2215953_sw_04_060_20220321.tif | https://coastalimagery.blob.core.windows.net/digitalcoast/HI_NAIP_2021_9668/m_2215953_sw_04_060_20220321.tif | 9668 | POLYGON ((-159.4356 22.1231... |\n| m_2215954_ne_04_060_20220128.tif | https://coastalimagery.blob.core.windows.net/digitalcoast/HI_NAIP_2021_9668/m_2215954_ne_04_060_20220128.tif | 9668 | POLYGON ((-159.248 22.18568... |\n| m_2215954_nw_04_060_20220128.tif | https://coastalimagery.blob.core.windows.net/digitalcoast/HI_NAIP_2021_9668/m_2215954_nw_04_060_20220128.tif | 9668 | POLYGON ((-159.3106 22.1856... |\n| m_2215954_se_04_060_20220128.tif | https://coastalimagery.blob.core.windows.net/digitalcoast/HI_NAIP_2021_9668/m_2215954_se_04_060_20220128.tif | 9668 | POLYGON ((-159.248 22.12318... |\n| m_2215954_sw_04_060_20220321.tif | https://coastalimagery.blob.core.windows.net/digitalcoast/HI_NAIP_2021_9668/m_2215954_sw_04_060_20220321.tif | 9668 | POLYGON ((-159.3105 22.1231... |\n| m_2215958_ne_04_060_20220321.tif | https://coastalimagery.blob.core.windows.net/digitalcoast/HI_NAIP_2021_9668/m_2215958_ne_04_060_20220321.tif | 9668 | POLYGON ((-159.7481 22.0606... |\n| m_2215958_se_04_060_20220321.tif | https://coastalimagery.blob.core.windows.net/digitalcoast/HI_NAIP_2021_9668/m_2215958_se_04_060_20220321.tif | 9668 | POLYGON ((-159.748 21.99818... |\n| m_2215959_ne_04_060_20220321.tif | https://coastalimagery.blob.core.windows.net/digitalcoast/HI_NAIP_2021_9668/m_2215959_ne_04_060_20220321.tif | 9668 | POLYGON ((-159.6231 22.0607... |\n| m_2215959_ne_04_060_20221204.tif | https://coastalimagery.blob.core.windows.net/digitalcoast/HI_NAIP_2021_9668/m_2215959_ne_04_060_20221204.tif | 9668 | POLYGON ((-159.6231 22.0607... |\n| m_2215959_nw_04_060_20220321.tif | https://coastalimagery.blob.core.windows.net/digitalcoast/HI_NAIP_2021_9668/m_2215959_nw_04_060_20220321.tif | 9668 | POLYGON ((-159.6855 22.0606... |\n| m_2215959_se_04_060_20220321.tif | https://coastalimagery.blob.core.windows.net/digitalcoast/HI_NAIP_2021_9668/m_2215959_se_04_060_20220321.tif | 9668 | POLYGON ((-159.6231 21.9982... |\n| m_2215959_sw_04_060_20220321.tif | https://coastalimagery.blob.core.windows.net/digitalcoast/HI_NAIP_2021_9668/m_2215959_sw_04_060_20220321.tif | 9668 | POLYGON ((-159.6856 21.9981... |\n| m_2215960_ne_04_060_20220321.tif | https://coastalimagery.blob.core.windows.net/digitalcoast/HI_NAIP_2021_9668/m_2215960_ne_04_060_20220321.tif | 9668 | POLYGON ((-159.498 22.06071... |\n| m_2215960_ne_04_060_20221204.tif | https://coastalimagery.blob.core.windows.net/digitalcoast/HI_NAIP_2021_9668/m_2215960_ne_04_060_20221204.tif | 9668 | POLYGON ((-159.498 22.06071... |\n| m_2215960_nw_04_060_20220321.tif | https://coastalimagery.blob.core.windows.net/digitalcoast/HI_NAIP_2021_9668/m_2215960_nw_04_060_20220321.tif | 9668 | POLYGON ((-159.5606 22.0606... |\n| m_2215960_se_04_060_20220321.tif | https://coastalimagery.blob.core.windows.net/digitalcoast/HI_NAIP_2021_9668/m_2215960_se_04_060_20220321.tif | 9668 | POLYGON ((-159.498 21.99821... |\n| m_2215960_se_04_060_20230101.tif | https://coastalimagery.blob.core.windows.net/digitalcoast/HI_NAIP_2021_9668/m_2215960_se_04_060_20230101.tif | 9668 | POLYGON ((-159.498 21.99821... |\n| m_2215960_sw_04_060_20220321.tif | https://coastalimagery.blob.core.windows.net/digitalcoast/HI_NAIP_2021_9668/m_2215960_sw_04_060_20220321.tif | 9668 | POLYGON ((-159.5606 21.9981... |\n| m_2215961_ne_04_060_20220321.tif | https://coastalimagery.blob.core.windows.net/digitalcoast/HI_NAIP_2021_9668/m_2215961_ne_04_060_20220321.tif | 9668 | POLYGON ((-159.3731 22.0607... |\n| m_2215961_nw_04_060_20220321.tif | https://coastalimagery.blob.core.windows.net/digitalcoast/HI_NAIP_2021_9668/m_2215961_nw_04_060_20220321.tif | 9668 | POLYGON ((-159.4355 22.0606... |\n| m_2215961_se_04_060_20220321.tif | https://coastalimagery.blob.core.windows.net/digitalcoast/HI_NAIP_2021_9668/m_2215961_se_04_060_20220321.tif | 9668 | POLYGON ((-159.3731 21.9982... |\n| m_2215961_sw_04_060_20220321.tif | https://coastalimagery.blob.core.windows.net/digitalcoast/HI_NAIP_2021_9668/m_2215961_sw_04_060_20220321.tif | 9668 | POLYGON ((-159.4355 21.9981... |\n| m_2215962_ne_04_060_20220321.tif | https://coastalimagery.blob.core.windows.net/digitalcoast/HI_NAIP_2021_9668/m_2215962_ne_04_060_20220321.tif | 9668 | POLYGON ((-159.248 22.06068... |\n| m_2215962_nw_04_060_20220321.tif | https://coastalimagery.blob.core.windows.net/digitalcoast/HI_NAIP_2021_9668/m_2215962_nw_04_060_20220321.tif | 9668 | POLYGON ((-159.3106 22.0606... |\n| m_2215962_se_04_060_20220321.tif | https://coastalimagery.blob.core.windows.net/digitalcoast/HI_NAIP_2021_9668/m_2215962_se_04_060_20220321.tif | 9668 | POLYGON ((-159.248 21.99818... |\n| m_2215962_sw_04_060_20220321.tif | https://coastalimagery.blob.core.windows.net/digitalcoast/HI_NAIP_2021_9668/m_2215962_sw_04_060_20220321.tif | 9668 | POLYGON ((-159.3106 21.9981... |\n| m_2216064_se_04_060_20220211.tif | https://coastalimagery.blob.core.windows.net/digitalcoast/HI_NAIP_2021_9668/m_2216064_se_04_060_20220211.tif | 9668 | POLYGON ((-159.9981 21.9982... |\n| m_2216064_sw_04_060_20220211.tif | https://coastalimagery.blob.core.windows.net/digitalcoast/HI_NAIP_2021_9668/m_2216064_sw_04_060_20220211.tif | 9668 | POLYGON ((-160.0606 21.9981... |\n\n",
            "text/latex": "A sf: 611 × 4\n\\begin{tabular}{llll}\n location & url & missionid & geometry\\\\\n <chr> & <chr> & <int> & <POLYGON {[}°{]}>\\\\\n\\hline\n\t m\\_2015612\\_ne\\_04\\_060\\_20220108.tif & https://coastalimagery.blob.core.windows.net/digitalcoast/HI\\_NAIP\\_2021\\_9668/m\\_2015612\\_ne\\_04\\_060\\_20220108.tif & 9668 & POLYGON ((-156.497 20.80974...\\\\\n\t m\\_2015612\\_nw\\_04\\_060\\_20220108.tif & https://coastalimagery.blob.core.windows.net/digitalcoast/HI\\_NAIP\\_2021\\_9668/m\\_2015612\\_nw\\_04\\_060\\_20220108.tif & 9668 & POLYGON ((-156.5595 20.8097...\\\\\n\t m\\_2015612\\_se\\_04\\_060\\_20220108.tif & https://coastalimagery.blob.core.windows.net/digitalcoast/HI\\_NAIP\\_2021\\_9668/m\\_2015612\\_se\\_04\\_060\\_20220108.tif & 9668 & POLYGON ((-156.497 20.74727...\\\\\n\t m\\_2015612\\_sw\\_04\\_060\\_20220108.tif & https://coastalimagery.blob.core.windows.net/digitalcoast/HI\\_NAIP\\_2021\\_9668/m\\_2015612\\_sw\\_04\\_060\\_20220108.tif & 9668 & POLYGON ((-156.5596 20.7473...\\\\\n\t m\\_2015613\\_ne\\_04\\_060\\_20220108.tif & https://coastalimagery.blob.core.windows.net/digitalcoast/HI\\_NAIP\\_2021\\_9668/m\\_2015613\\_ne\\_04\\_060\\_20220108.tif & 9668 & POLYGON ((-156.372 20.80971...\\\\\n\t m\\_2015613\\_nw\\_04\\_060\\_20220108.tif & https://coastalimagery.blob.core.windows.net/digitalcoast/HI\\_NAIP\\_2021\\_9668/m\\_2015613\\_nw\\_04\\_060\\_20220108.tif & 9668 & POLYGON ((-156.4345 20.8097...\\\\\n\t m\\_2015613\\_se\\_04\\_060\\_20220108.tif & https://coastalimagery.blob.core.windows.net/digitalcoast/HI\\_NAIP\\_2021\\_9668/m\\_2015613\\_se\\_04\\_060\\_20220108.tif & 9668 & POLYGON ((-156.372 20.7472,...\\\\\n\t m\\_2015613\\_sw\\_04\\_060\\_20220108.tif & https://coastalimagery.blob.core.windows.net/digitalcoast/HI\\_NAIP\\_2021\\_9668/m\\_2015613\\_sw\\_04\\_060\\_20220108.tif & 9668 & POLYGON ((-156.4345 20.7472...\\\\\n\t m\\_2015614\\_ne\\_04\\_060\\_20220108.tif & https://coastalimagery.blob.core.windows.net/digitalcoast/HI\\_NAIP\\_2021\\_9668/m\\_2015614\\_ne\\_04\\_060\\_20220108.tif & 9668 & POLYGON ((-156.2469 20.8096...\\\\\n\t m\\_2015614\\_nw\\_04\\_060\\_20220108.tif & https://coastalimagery.blob.core.windows.net/digitalcoast/HI\\_NAIP\\_2021\\_9668/m\\_2015614\\_nw\\_04\\_060\\_20220108.tif & 9668 & POLYGON ((-156.3094 20.8096...\\\\\n\t m\\_2015614\\_se\\_04\\_060\\_20220108.tif & https://coastalimagery.blob.core.windows.net/digitalcoast/HI\\_NAIP\\_2021\\_9668/m\\_2015614\\_se\\_04\\_060\\_20220108.tif & 9668 & POLYGON ((-156.2469 20.7471...\\\\\n\t m\\_2015614\\_sw\\_04\\_060\\_20220108.tif & https://coastalimagery.blob.core.windows.net/digitalcoast/HI\\_NAIP\\_2021\\_9668/m\\_2015614\\_sw\\_04\\_060\\_20220108.tif & 9668 & POLYGON ((-156.3094 20.7472...\\\\\n\t m\\_2015615\\_ne\\_04\\_060\\_20220108.tif & https://coastalimagery.blob.core.windows.net/digitalcoast/HI\\_NAIP\\_2021\\_9668/m\\_2015615\\_ne\\_04\\_060\\_20220108.tif & 9668 & POLYGON ((-156.1218 20.8096...\\\\\n\t m\\_2015615\\_nw\\_04\\_060\\_20220108.tif & https://coastalimagery.blob.core.windows.net/digitalcoast/HI\\_NAIP\\_2021\\_9668/m\\_2015615\\_nw\\_04\\_060\\_20220108.tif & 9668 & POLYGON ((-156.1844 20.8096...\\\\\n\t m\\_2015615\\_se\\_04\\_060\\_20220108.tif & https://coastalimagery.blob.core.windows.net/digitalcoast/HI\\_NAIP\\_2021\\_9668/m\\_2015615\\_se\\_04\\_060\\_20220108.tif & 9668 & POLYGON ((-156.1219 20.7470...\\\\\n\t m\\_2015615\\_sw\\_04\\_060\\_20220108.tif & https://coastalimagery.blob.core.windows.net/digitalcoast/HI\\_NAIP\\_2021\\_9668/m\\_2015615\\_sw\\_04\\_060\\_20220108.tif & 9668 & POLYGON ((-156.1844 20.7471...\\\\\n\t m\\_2015616\\_ne\\_04\\_060\\_20220108.tif & https://coastalimagery.blob.core.windows.net/digitalcoast/HI\\_NAIP\\_2021\\_9668/m\\_2015616\\_ne\\_04\\_060\\_20220108.tif & 9668 & POLYGON ((-155.9968 20.8095...\\\\\n\t m\\_2015616\\_nw\\_04\\_060\\_20220108.tif & https://coastalimagery.blob.core.windows.net/digitalcoast/HI\\_NAIP\\_2021\\_9668/m\\_2015616\\_nw\\_04\\_060\\_20220108.tif & 9668 & POLYGON ((-156.0593 20.8096...\\\\\n\t m\\_2015616\\_se\\_04\\_060\\_20220108.tif & https://coastalimagery.blob.core.windows.net/digitalcoast/HI\\_NAIP\\_2021\\_9668/m\\_2015616\\_se\\_04\\_060\\_20220108.tif & 9668 & POLYGON ((-155.9968 20.7470...\\\\\n\t m\\_2015616\\_sw\\_04\\_060\\_20220108.tif & https://coastalimagery.blob.core.windows.net/digitalcoast/HI\\_NAIP\\_2021\\_9668/m\\_2015616\\_sw\\_04\\_060\\_20220108.tif & 9668 & POLYGON ((-156.0593 20.7471...\\\\\n\t m\\_2015617\\_ne\\_04\\_060\\_20220108.tif & https://coastalimagery.blob.core.windows.net/digitalcoast/HI\\_NAIP\\_2021\\_9668/m\\_2015617\\_ne\\_04\\_060\\_20220108.tif & 9668 & POLYGON ((-156.8722 20.6849...\\\\\n\t m\\_2015617\\_nw\\_04\\_060\\_20220108.tif & https://coastalimagery.blob.core.windows.net/digitalcoast/HI\\_NAIP\\_2021\\_9668/m\\_2015617\\_nw\\_04\\_060\\_20220108.tif & 9668 & POLYGON ((-156.9347 20.6849...\\\\\n\t m\\_2015618\\_nw\\_04\\_060\\_20220108.tif & https://coastalimagery.blob.core.windows.net/digitalcoast/HI\\_NAIP\\_2021\\_9668/m\\_2015618\\_nw\\_04\\_060\\_20220108.tif & 9668 & POLYGON ((-156.8096 20.6848...\\\\\n\t m\\_2015622\\_sw\\_04\\_060\\_20220108.tif & https://coastalimagery.blob.core.windows.net/digitalcoast/HI\\_NAIP\\_2021\\_9668/m\\_2015622\\_sw\\_04\\_060\\_20220108.tif & 9668 & POLYGON ((-156.3094 20.6221...\\\\\n\t m\\_2015620\\_se\\_04\\_060\\_20220108.tif & https://coastalimagery.blob.core.windows.net/digitalcoast/HI\\_NAIP\\_2021\\_9668/m\\_2015620\\_se\\_04\\_060\\_20220108.tif & 9668 & POLYGON ((-156.497 20.62229...\\\\\n\t m\\_2015620\\_se\\_04\\_060\\_20221110.tif & https://coastalimagery.blob.core.windows.net/digitalcoast/HI\\_NAIP\\_2021\\_9668/m\\_2015620\\_se\\_04\\_060\\_20221110.tif & 9668 & POLYGON ((-156.497 20.62229...\\\\\n\t m\\_2015621\\_ne\\_04\\_060\\_20220108.tif & https://coastalimagery.blob.core.windows.net/digitalcoast/HI\\_NAIP\\_2021\\_9668/m\\_2015621\\_ne\\_04\\_060\\_20220108.tif & 9668 & POLYGON ((-156.3719 20.6847...\\\\\n\t m\\_2015621\\_nw\\_04\\_060\\_20220108.tif & https://coastalimagery.blob.core.windows.net/digitalcoast/HI\\_NAIP\\_2021\\_9668/m\\_2015621\\_nw\\_04\\_060\\_20220108.tif & 9668 & POLYGON ((-156.4345 20.6847...\\\\\n\t m\\_2015621\\_se\\_04\\_060\\_20220108.tif & https://coastalimagery.blob.core.windows.net/digitalcoast/HI\\_NAIP\\_2021\\_9668/m\\_2015621\\_se\\_04\\_060\\_20220108.tif & 9668 & POLYGON ((-156.372 20.62222...\\\\\n\t m\\_2015621\\_se\\_04\\_060\\_20221110.tif & https://coastalimagery.blob.core.windows.net/digitalcoast/HI\\_NAIP\\_2021\\_9668/m\\_2015621\\_se\\_04\\_060\\_20221110.tif & 9668 & POLYGON ((-156.372 20.62222...\\\\\n\t ⋮ & ⋮ & ⋮ & ⋮\\\\\n\t m\\_2215953\\_nw\\_04\\_060\\_20220321.tif & https://coastalimagery.blob.core.windows.net/digitalcoast/HI\\_NAIP\\_2021\\_9668/m\\_2215953\\_nw\\_04\\_060\\_20220321.tif & 9668 & POLYGON ((-159.4355 22.1856...\\\\\n\t m\\_2215953\\_se\\_04\\_060\\_20220321.tif & https://coastalimagery.blob.core.windows.net/digitalcoast/HI\\_NAIP\\_2021\\_9668/m\\_2215953\\_se\\_04\\_060\\_20220321.tif & 9668 & POLYGON ((-159.3731 22.1232...\\\\\n\t m\\_2215953\\_sw\\_04\\_060\\_20220321.tif & https://coastalimagery.blob.core.windows.net/digitalcoast/HI\\_NAIP\\_2021\\_9668/m\\_2215953\\_sw\\_04\\_060\\_20220321.tif & 9668 & POLYGON ((-159.4356 22.1231...\\\\\n\t m\\_2215954\\_ne\\_04\\_060\\_20220128.tif & https://coastalimagery.blob.core.windows.net/digitalcoast/HI\\_NAIP\\_2021\\_9668/m\\_2215954\\_ne\\_04\\_060\\_20220128.tif & 9668 & POLYGON ((-159.248 22.18568...\\\\\n\t m\\_2215954\\_nw\\_04\\_060\\_20220128.tif & https://coastalimagery.blob.core.windows.net/digitalcoast/HI\\_NAIP\\_2021\\_9668/m\\_2215954\\_nw\\_04\\_060\\_20220128.tif & 9668 & POLYGON ((-159.3106 22.1856...\\\\\n\t m\\_2215954\\_se\\_04\\_060\\_20220128.tif & https://coastalimagery.blob.core.windows.net/digitalcoast/HI\\_NAIP\\_2021\\_9668/m\\_2215954\\_se\\_04\\_060\\_20220128.tif & 9668 & POLYGON ((-159.248 22.12318...\\\\\n\t m\\_2215954\\_sw\\_04\\_060\\_20220321.tif & https://coastalimagery.blob.core.windows.net/digitalcoast/HI\\_NAIP\\_2021\\_9668/m\\_2215954\\_sw\\_04\\_060\\_20220321.tif & 9668 & POLYGON ((-159.3105 22.1231...\\\\\n\t m\\_2215958\\_ne\\_04\\_060\\_20220321.tif & https://coastalimagery.blob.core.windows.net/digitalcoast/HI\\_NAIP\\_2021\\_9668/m\\_2215958\\_ne\\_04\\_060\\_20220321.tif & 9668 & POLYGON ((-159.7481 22.0606...\\\\\n\t m\\_2215958\\_se\\_04\\_060\\_20220321.tif & https://coastalimagery.blob.core.windows.net/digitalcoast/HI\\_NAIP\\_2021\\_9668/m\\_2215958\\_se\\_04\\_060\\_20220321.tif & 9668 & POLYGON ((-159.748 21.99818...\\\\\n\t m\\_2215959\\_ne\\_04\\_060\\_20220321.tif & https://coastalimagery.blob.core.windows.net/digitalcoast/HI\\_NAIP\\_2021\\_9668/m\\_2215959\\_ne\\_04\\_060\\_20220321.tif & 9668 & POLYGON ((-159.6231 22.0607...\\\\\n\t m\\_2215959\\_ne\\_04\\_060\\_20221204.tif & https://coastalimagery.blob.core.windows.net/digitalcoast/HI\\_NAIP\\_2021\\_9668/m\\_2215959\\_ne\\_04\\_060\\_20221204.tif & 9668 & POLYGON ((-159.6231 22.0607...\\\\\n\t m\\_2215959\\_nw\\_04\\_060\\_20220321.tif & https://coastalimagery.blob.core.windows.net/digitalcoast/HI\\_NAIP\\_2021\\_9668/m\\_2215959\\_nw\\_04\\_060\\_20220321.tif & 9668 & POLYGON ((-159.6855 22.0606...\\\\\n\t m\\_2215959\\_se\\_04\\_060\\_20220321.tif & https://coastalimagery.blob.core.windows.net/digitalcoast/HI\\_NAIP\\_2021\\_9668/m\\_2215959\\_se\\_04\\_060\\_20220321.tif & 9668 & POLYGON ((-159.6231 21.9982...\\\\\n\t m\\_2215959\\_sw\\_04\\_060\\_20220321.tif & https://coastalimagery.blob.core.windows.net/digitalcoast/HI\\_NAIP\\_2021\\_9668/m\\_2215959\\_sw\\_04\\_060\\_20220321.tif & 9668 & POLYGON ((-159.6856 21.9981...\\\\\n\t m\\_2215960\\_ne\\_04\\_060\\_20220321.tif & https://coastalimagery.blob.core.windows.net/digitalcoast/HI\\_NAIP\\_2021\\_9668/m\\_2215960\\_ne\\_04\\_060\\_20220321.tif & 9668 & POLYGON ((-159.498 22.06071...\\\\\n\t m\\_2215960\\_ne\\_04\\_060\\_20221204.tif & https://coastalimagery.blob.core.windows.net/digitalcoast/HI\\_NAIP\\_2021\\_9668/m\\_2215960\\_ne\\_04\\_060\\_20221204.tif & 9668 & POLYGON ((-159.498 22.06071...\\\\\n\t m\\_2215960\\_nw\\_04\\_060\\_20220321.tif & https://coastalimagery.blob.core.windows.net/digitalcoast/HI\\_NAIP\\_2021\\_9668/m\\_2215960\\_nw\\_04\\_060\\_20220321.tif & 9668 & POLYGON ((-159.5606 22.0606...\\\\\n\t m\\_2215960\\_se\\_04\\_060\\_20220321.tif & https://coastalimagery.blob.core.windows.net/digitalcoast/HI\\_NAIP\\_2021\\_9668/m\\_2215960\\_se\\_04\\_060\\_20220321.tif & 9668 & POLYGON ((-159.498 21.99821...\\\\\n\t m\\_2215960\\_se\\_04\\_060\\_20230101.tif & https://coastalimagery.blob.core.windows.net/digitalcoast/HI\\_NAIP\\_2021\\_9668/m\\_2215960\\_se\\_04\\_060\\_20230101.tif & 9668 & POLYGON ((-159.498 21.99821...\\\\\n\t m\\_2215960\\_sw\\_04\\_060\\_20220321.tif & https://coastalimagery.blob.core.windows.net/digitalcoast/HI\\_NAIP\\_2021\\_9668/m\\_2215960\\_sw\\_04\\_060\\_20220321.tif & 9668 & POLYGON ((-159.5606 21.9981...\\\\\n\t m\\_2215961\\_ne\\_04\\_060\\_20220321.tif & https://coastalimagery.blob.core.windows.net/digitalcoast/HI\\_NAIP\\_2021\\_9668/m\\_2215961\\_ne\\_04\\_060\\_20220321.tif & 9668 & POLYGON ((-159.3731 22.0607...\\\\\n\t m\\_2215961\\_nw\\_04\\_060\\_20220321.tif & https://coastalimagery.blob.core.windows.net/digitalcoast/HI\\_NAIP\\_2021\\_9668/m\\_2215961\\_nw\\_04\\_060\\_20220321.tif & 9668 & POLYGON ((-159.4355 22.0606...\\\\\n\t m\\_2215961\\_se\\_04\\_060\\_20220321.tif & https://coastalimagery.blob.core.windows.net/digitalcoast/HI\\_NAIP\\_2021\\_9668/m\\_2215961\\_se\\_04\\_060\\_20220321.tif & 9668 & POLYGON ((-159.3731 21.9982...\\\\\n\t m\\_2215961\\_sw\\_04\\_060\\_20220321.tif & https://coastalimagery.blob.core.windows.net/digitalcoast/HI\\_NAIP\\_2021\\_9668/m\\_2215961\\_sw\\_04\\_060\\_20220321.tif & 9668 & POLYGON ((-159.4355 21.9981...\\\\\n\t m\\_2215962\\_ne\\_04\\_060\\_20220321.tif & https://coastalimagery.blob.core.windows.net/digitalcoast/HI\\_NAIP\\_2021\\_9668/m\\_2215962\\_ne\\_04\\_060\\_20220321.tif & 9668 & POLYGON ((-159.248 22.06068...\\\\\n\t m\\_2215962\\_nw\\_04\\_060\\_20220321.tif & https://coastalimagery.blob.core.windows.net/digitalcoast/HI\\_NAIP\\_2021\\_9668/m\\_2215962\\_nw\\_04\\_060\\_20220321.tif & 9668 & POLYGON ((-159.3106 22.0606...\\\\\n\t m\\_2215962\\_se\\_04\\_060\\_20220321.tif & https://coastalimagery.blob.core.windows.net/digitalcoast/HI\\_NAIP\\_2021\\_9668/m\\_2215962\\_se\\_04\\_060\\_20220321.tif & 9668 & POLYGON ((-159.248 21.99818...\\\\\n\t m\\_2215962\\_sw\\_04\\_060\\_20220321.tif & https://coastalimagery.blob.core.windows.net/digitalcoast/HI\\_NAIP\\_2021\\_9668/m\\_2215962\\_sw\\_04\\_060\\_20220321.tif & 9668 & POLYGON ((-159.3106 21.9981...\\\\\n\t m\\_2216064\\_se\\_04\\_060\\_20220211.tif & https://coastalimagery.blob.core.windows.net/digitalcoast/HI\\_NAIP\\_2021\\_9668/m\\_2216064\\_se\\_04\\_060\\_20220211.tif & 9668 & POLYGON ((-159.9981 21.9982...\\\\\n\t m\\_2216064\\_sw\\_04\\_060\\_20220211.tif & https://coastalimagery.blob.core.windows.net/digitalcoast/HI\\_NAIP\\_2021\\_9668/m\\_2216064\\_sw\\_04\\_060\\_20220211.tif & 9668 & POLYGON ((-160.0606 21.9981...\\\\\n\\end{tabular}\n",
            "text/plain": [
              "    location                        \n",
              "1   m_2015612_ne_04_060_20220108.tif\n",
              "2   m_2015612_nw_04_060_20220108.tif\n",
              "3   m_2015612_se_04_060_20220108.tif\n",
              "4   m_2015612_sw_04_060_20220108.tif\n",
              "5   m_2015613_ne_04_060_20220108.tif\n",
              "6   m_2015613_nw_04_060_20220108.tif\n",
              "7   m_2015613_se_04_060_20220108.tif\n",
              "8   m_2015613_sw_04_060_20220108.tif\n",
              "9   m_2015614_ne_04_060_20220108.tif\n",
              "10  m_2015614_nw_04_060_20220108.tif\n",
              "11  m_2015614_se_04_060_20220108.tif\n",
              "12  m_2015614_sw_04_060_20220108.tif\n",
              "13  m_2015615_ne_04_060_20220108.tif\n",
              "14  m_2015615_nw_04_060_20220108.tif\n",
              "15  m_2015615_se_04_060_20220108.tif\n",
              "16  m_2015615_sw_04_060_20220108.tif\n",
              "17  m_2015616_ne_04_060_20220108.tif\n",
              "18  m_2015616_nw_04_060_20220108.tif\n",
              "19  m_2015616_se_04_060_20220108.tif\n",
              "20  m_2015616_sw_04_060_20220108.tif\n",
              "21  m_2015617_ne_04_060_20220108.tif\n",
              "22  m_2015617_nw_04_060_20220108.tif\n",
              "23  m_2015618_nw_04_060_20220108.tif\n",
              "24  m_2015622_sw_04_060_20220108.tif\n",
              "25  m_2015620_se_04_060_20220108.tif\n",
              "26  m_2015620_se_04_060_20221110.tif\n",
              "27  m_2015621_ne_04_060_20220108.tif\n",
              "28  m_2015621_nw_04_060_20220108.tif\n",
              "29  m_2015621_se_04_060_20220108.tif\n",
              "30  m_2015621_se_04_060_20221110.tif\n",
              "⋮   ⋮                               \n",
              "582 m_2215953_nw_04_060_20220321.tif\n",
              "583 m_2215953_se_04_060_20220321.tif\n",
              "584 m_2215953_sw_04_060_20220321.tif\n",
              "585 m_2215954_ne_04_060_20220128.tif\n",
              "586 m_2215954_nw_04_060_20220128.tif\n",
              "587 m_2215954_se_04_060_20220128.tif\n",
              "588 m_2215954_sw_04_060_20220321.tif\n",
              "589 m_2215958_ne_04_060_20220321.tif\n",
              "590 m_2215958_se_04_060_20220321.tif\n",
              "591 m_2215959_ne_04_060_20220321.tif\n",
              "592 m_2215959_ne_04_060_20221204.tif\n",
              "593 m_2215959_nw_04_060_20220321.tif\n",
              "594 m_2215959_se_04_060_20220321.tif\n",
              "595 m_2215959_sw_04_060_20220321.tif\n",
              "596 m_2215960_ne_04_060_20220321.tif\n",
              "597 m_2215960_ne_04_060_20221204.tif\n",
              "598 m_2215960_nw_04_060_20220321.tif\n",
              "599 m_2215960_se_04_060_20220321.tif\n",
              "600 m_2215960_se_04_060_20230101.tif\n",
              "601 m_2215960_sw_04_060_20220321.tif\n",
              "602 m_2215961_ne_04_060_20220321.tif\n",
              "603 m_2215961_nw_04_060_20220321.tif\n",
              "604 m_2215961_se_04_060_20220321.tif\n",
              "605 m_2215961_sw_04_060_20220321.tif\n",
              "606 m_2215962_ne_04_060_20220321.tif\n",
              "607 m_2215962_nw_04_060_20220321.tif\n",
              "608 m_2215962_se_04_060_20220321.tif\n",
              "609 m_2215962_sw_04_060_20220321.tif\n",
              "610 m_2216064_se_04_060_20220211.tif\n",
              "611 m_2216064_sw_04_060_20220211.tif\n",
              "    url                                                                                                         \n",
              "1   https://coastalimagery.blob.core.windows.net/digitalcoast/HI_NAIP_2021_9668/m_2015612_ne_04_060_20220108.tif\n",
              "2   https://coastalimagery.blob.core.windows.net/digitalcoast/HI_NAIP_2021_9668/m_2015612_nw_04_060_20220108.tif\n",
              "3   https://coastalimagery.blob.core.windows.net/digitalcoast/HI_NAIP_2021_9668/m_2015612_se_04_060_20220108.tif\n",
              "4   https://coastalimagery.blob.core.windows.net/digitalcoast/HI_NAIP_2021_9668/m_2015612_sw_04_060_20220108.tif\n",
              "5   https://coastalimagery.blob.core.windows.net/digitalcoast/HI_NAIP_2021_9668/m_2015613_ne_04_060_20220108.tif\n",
              "6   https://coastalimagery.blob.core.windows.net/digitalcoast/HI_NAIP_2021_9668/m_2015613_nw_04_060_20220108.tif\n",
              "7   https://coastalimagery.blob.core.windows.net/digitalcoast/HI_NAIP_2021_9668/m_2015613_se_04_060_20220108.tif\n",
              "8   https://coastalimagery.blob.core.windows.net/digitalcoast/HI_NAIP_2021_9668/m_2015613_sw_04_060_20220108.tif\n",
              "9   https://coastalimagery.blob.core.windows.net/digitalcoast/HI_NAIP_2021_9668/m_2015614_ne_04_060_20220108.tif\n",
              "10  https://coastalimagery.blob.core.windows.net/digitalcoast/HI_NAIP_2021_9668/m_2015614_nw_04_060_20220108.tif\n",
              "11  https://coastalimagery.blob.core.windows.net/digitalcoast/HI_NAIP_2021_9668/m_2015614_se_04_060_20220108.tif\n",
              "12  https://coastalimagery.blob.core.windows.net/digitalcoast/HI_NAIP_2021_9668/m_2015614_sw_04_060_20220108.tif\n",
              "13  https://coastalimagery.blob.core.windows.net/digitalcoast/HI_NAIP_2021_9668/m_2015615_ne_04_060_20220108.tif\n",
              "14  https://coastalimagery.blob.core.windows.net/digitalcoast/HI_NAIP_2021_9668/m_2015615_nw_04_060_20220108.tif\n",
              "15  https://coastalimagery.blob.core.windows.net/digitalcoast/HI_NAIP_2021_9668/m_2015615_se_04_060_20220108.tif\n",
              "16  https://coastalimagery.blob.core.windows.net/digitalcoast/HI_NAIP_2021_9668/m_2015615_sw_04_060_20220108.tif\n",
              "17  https://coastalimagery.blob.core.windows.net/digitalcoast/HI_NAIP_2021_9668/m_2015616_ne_04_060_20220108.tif\n",
              "18  https://coastalimagery.blob.core.windows.net/digitalcoast/HI_NAIP_2021_9668/m_2015616_nw_04_060_20220108.tif\n",
              "19  https://coastalimagery.blob.core.windows.net/digitalcoast/HI_NAIP_2021_9668/m_2015616_se_04_060_20220108.tif\n",
              "20  https://coastalimagery.blob.core.windows.net/digitalcoast/HI_NAIP_2021_9668/m_2015616_sw_04_060_20220108.tif\n",
              "21  https://coastalimagery.blob.core.windows.net/digitalcoast/HI_NAIP_2021_9668/m_2015617_ne_04_060_20220108.tif\n",
              "22  https://coastalimagery.blob.core.windows.net/digitalcoast/HI_NAIP_2021_9668/m_2015617_nw_04_060_20220108.tif\n",
              "23  https://coastalimagery.blob.core.windows.net/digitalcoast/HI_NAIP_2021_9668/m_2015618_nw_04_060_20220108.tif\n",
              "24  https://coastalimagery.blob.core.windows.net/digitalcoast/HI_NAIP_2021_9668/m_2015622_sw_04_060_20220108.tif\n",
              "25  https://coastalimagery.blob.core.windows.net/digitalcoast/HI_NAIP_2021_9668/m_2015620_se_04_060_20220108.tif\n",
              "26  https://coastalimagery.blob.core.windows.net/digitalcoast/HI_NAIP_2021_9668/m_2015620_se_04_060_20221110.tif\n",
              "27  https://coastalimagery.blob.core.windows.net/digitalcoast/HI_NAIP_2021_9668/m_2015621_ne_04_060_20220108.tif\n",
              "28  https://coastalimagery.blob.core.windows.net/digitalcoast/HI_NAIP_2021_9668/m_2015621_nw_04_060_20220108.tif\n",
              "29  https://coastalimagery.blob.core.windows.net/digitalcoast/HI_NAIP_2021_9668/m_2015621_se_04_060_20220108.tif\n",
              "30  https://coastalimagery.blob.core.windows.net/digitalcoast/HI_NAIP_2021_9668/m_2015621_se_04_060_20221110.tif\n",
              "⋮   ⋮                                                                                                           \n",
              "582 https://coastalimagery.blob.core.windows.net/digitalcoast/HI_NAIP_2021_9668/m_2215953_nw_04_060_20220321.tif\n",
              "583 https://coastalimagery.blob.core.windows.net/digitalcoast/HI_NAIP_2021_9668/m_2215953_se_04_060_20220321.tif\n",
              "584 https://coastalimagery.blob.core.windows.net/digitalcoast/HI_NAIP_2021_9668/m_2215953_sw_04_060_20220321.tif\n",
              "585 https://coastalimagery.blob.core.windows.net/digitalcoast/HI_NAIP_2021_9668/m_2215954_ne_04_060_20220128.tif\n",
              "586 https://coastalimagery.blob.core.windows.net/digitalcoast/HI_NAIP_2021_9668/m_2215954_nw_04_060_20220128.tif\n",
              "587 https://coastalimagery.blob.core.windows.net/digitalcoast/HI_NAIP_2021_9668/m_2215954_se_04_060_20220128.tif\n",
              "588 https://coastalimagery.blob.core.windows.net/digitalcoast/HI_NAIP_2021_9668/m_2215954_sw_04_060_20220321.tif\n",
              "589 https://coastalimagery.blob.core.windows.net/digitalcoast/HI_NAIP_2021_9668/m_2215958_ne_04_060_20220321.tif\n",
              "590 https://coastalimagery.blob.core.windows.net/digitalcoast/HI_NAIP_2021_9668/m_2215958_se_04_060_20220321.tif\n",
              "591 https://coastalimagery.blob.core.windows.net/digitalcoast/HI_NAIP_2021_9668/m_2215959_ne_04_060_20220321.tif\n",
              "592 https://coastalimagery.blob.core.windows.net/digitalcoast/HI_NAIP_2021_9668/m_2215959_ne_04_060_20221204.tif\n",
              "593 https://coastalimagery.blob.core.windows.net/digitalcoast/HI_NAIP_2021_9668/m_2215959_nw_04_060_20220321.tif\n",
              "594 https://coastalimagery.blob.core.windows.net/digitalcoast/HI_NAIP_2021_9668/m_2215959_se_04_060_20220321.tif\n",
              "595 https://coastalimagery.blob.core.windows.net/digitalcoast/HI_NAIP_2021_9668/m_2215959_sw_04_060_20220321.tif\n",
              "596 https://coastalimagery.blob.core.windows.net/digitalcoast/HI_NAIP_2021_9668/m_2215960_ne_04_060_20220321.tif\n",
              "597 https://coastalimagery.blob.core.windows.net/digitalcoast/HI_NAIP_2021_9668/m_2215960_ne_04_060_20221204.tif\n",
              "598 https://coastalimagery.blob.core.windows.net/digitalcoast/HI_NAIP_2021_9668/m_2215960_nw_04_060_20220321.tif\n",
              "599 https://coastalimagery.blob.core.windows.net/digitalcoast/HI_NAIP_2021_9668/m_2215960_se_04_060_20220321.tif\n",
              "600 https://coastalimagery.blob.core.windows.net/digitalcoast/HI_NAIP_2021_9668/m_2215960_se_04_060_20230101.tif\n",
              "601 https://coastalimagery.blob.core.windows.net/digitalcoast/HI_NAIP_2021_9668/m_2215960_sw_04_060_20220321.tif\n",
              "602 https://coastalimagery.blob.core.windows.net/digitalcoast/HI_NAIP_2021_9668/m_2215961_ne_04_060_20220321.tif\n",
              "603 https://coastalimagery.blob.core.windows.net/digitalcoast/HI_NAIP_2021_9668/m_2215961_nw_04_060_20220321.tif\n",
              "604 https://coastalimagery.blob.core.windows.net/digitalcoast/HI_NAIP_2021_9668/m_2215961_se_04_060_20220321.tif\n",
              "605 https://coastalimagery.blob.core.windows.net/digitalcoast/HI_NAIP_2021_9668/m_2215961_sw_04_060_20220321.tif\n",
              "606 https://coastalimagery.blob.core.windows.net/digitalcoast/HI_NAIP_2021_9668/m_2215962_ne_04_060_20220321.tif\n",
              "607 https://coastalimagery.blob.core.windows.net/digitalcoast/HI_NAIP_2021_9668/m_2215962_nw_04_060_20220321.tif\n",
              "608 https://coastalimagery.blob.core.windows.net/digitalcoast/HI_NAIP_2021_9668/m_2215962_se_04_060_20220321.tif\n",
              "609 https://coastalimagery.blob.core.windows.net/digitalcoast/HI_NAIP_2021_9668/m_2215962_sw_04_060_20220321.tif\n",
              "610 https://coastalimagery.blob.core.windows.net/digitalcoast/HI_NAIP_2021_9668/m_2216064_se_04_060_20220211.tif\n",
              "611 https://coastalimagery.blob.core.windows.net/digitalcoast/HI_NAIP_2021_9668/m_2216064_sw_04_060_20220211.tif\n",
              "    missionid geometry                      \n",
              "1   9668      POLYGON ((-156.497 20.80974...\n",
              "2   9668      POLYGON ((-156.5595 20.8097...\n",
              "3   9668      POLYGON ((-156.497 20.74727...\n",
              "4   9668      POLYGON ((-156.5596 20.7473...\n",
              "5   9668      POLYGON ((-156.372 20.80971...\n",
              "6   9668      POLYGON ((-156.4345 20.8097...\n",
              "7   9668      POLYGON ((-156.372 20.7472,...\n",
              "8   9668      POLYGON ((-156.4345 20.7472...\n",
              "9   9668      POLYGON ((-156.2469 20.8096...\n",
              "10  9668      POLYGON ((-156.3094 20.8096...\n",
              "11  9668      POLYGON ((-156.2469 20.7471...\n",
              "12  9668      POLYGON ((-156.3094 20.7472...\n",
              "13  9668      POLYGON ((-156.1218 20.8096...\n",
              "14  9668      POLYGON ((-156.1844 20.8096...\n",
              "15  9668      POLYGON ((-156.1219 20.7470...\n",
              "16  9668      POLYGON ((-156.1844 20.7471...\n",
              "17  9668      POLYGON ((-155.9968 20.8095...\n",
              "18  9668      POLYGON ((-156.0593 20.8096...\n",
              "19  9668      POLYGON ((-155.9968 20.7470...\n",
              "20  9668      POLYGON ((-156.0593 20.7471...\n",
              "21  9668      POLYGON ((-156.8722 20.6849...\n",
              "22  9668      POLYGON ((-156.9347 20.6849...\n",
              "23  9668      POLYGON ((-156.8096 20.6848...\n",
              "24  9668      POLYGON ((-156.3094 20.6221...\n",
              "25  9668      POLYGON ((-156.497 20.62229...\n",
              "26  9668      POLYGON ((-156.497 20.62229...\n",
              "27  9668      POLYGON ((-156.3719 20.6847...\n",
              "28  9668      POLYGON ((-156.4345 20.6847...\n",
              "29  9668      POLYGON ((-156.372 20.62222...\n",
              "30  9668      POLYGON ((-156.372 20.62222...\n",
              "⋮   ⋮         ⋮                             \n",
              "582 9668      POLYGON ((-159.4355 22.1856...\n",
              "583 9668      POLYGON ((-159.3731 22.1232...\n",
              "584 9668      POLYGON ((-159.4356 22.1231...\n",
              "585 9668      POLYGON ((-159.248 22.18568...\n",
              "586 9668      POLYGON ((-159.3106 22.1856...\n",
              "587 9668      POLYGON ((-159.248 22.12318...\n",
              "588 9668      POLYGON ((-159.3105 22.1231...\n",
              "589 9668      POLYGON ((-159.7481 22.0606...\n",
              "590 9668      POLYGON ((-159.748 21.99818...\n",
              "591 9668      POLYGON ((-159.6231 22.0607...\n",
              "592 9668      POLYGON ((-159.6231 22.0607...\n",
              "593 9668      POLYGON ((-159.6855 22.0606...\n",
              "594 9668      POLYGON ((-159.6231 21.9982...\n",
              "595 9668      POLYGON ((-159.6856 21.9981...\n",
              "596 9668      POLYGON ((-159.498 22.06071...\n",
              "597 9668      POLYGON ((-159.498 22.06071...\n",
              "598 9668      POLYGON ((-159.5606 22.0606...\n",
              "599 9668      POLYGON ((-159.498 21.99821...\n",
              "600 9668      POLYGON ((-159.498 21.99821...\n",
              "601 9668      POLYGON ((-159.5606 21.9981...\n",
              "602 9668      POLYGON ((-159.3731 22.0607...\n",
              "603 9668      POLYGON ((-159.4355 22.0606...\n",
              "604 9668      POLYGON ((-159.3731 21.9982...\n",
              "605 9668      POLYGON ((-159.4355 21.9981...\n",
              "606 9668      POLYGON ((-159.248 22.06068...\n",
              "607 9668      POLYGON ((-159.3106 22.0606...\n",
              "608 9668      POLYGON ((-159.248 21.99818...\n",
              "609 9668      POLYGON ((-159.3106 21.9981...\n",
              "610 9668      POLYGON ((-159.9981 21.9982...\n",
              "611 9668      POLYGON ((-160.0606 21.9981..."
            ]
          },
          "metadata": {}
        }
      ]
    },
    {
      "cell_type": "code",
      "source": [
        "# https://drive.google.com/file/d/1ozE_Ldpio1LJaH2WS9r9hqRAIBDV8TDF/view?usp=drive_link\n",
        "drive_download(file = as_id('1ozE_Ldpio1LJaH2WS9r9hqRAIBDV8TDF'), path =  '/content/input_data/NWI_wetlands.gpkg', overwrite = TRUE)\n",
        "nwi_gpkg = st_read('/content/input_data/NWI_wetlands.gpkg')\n",
        "nwi_gpkg"
      ],
      "metadata": {
        "id": "kypOwbbTIDH9",
        "outputId": "b27021de-a495-4588-9bf3-6f12756ec2e3",
        "colab": {
          "base_uri": "https://localhost:8080/",
          "height": 1000
        }
      },
      "execution_count": 15,
      "outputs": [
        {
          "output_type": "stream",
          "name": "stderr",
          "text": [
            "File downloaded:\n",
            "\n",
            "• \u001b[36mNWI_wetlands.gpkg\u001b[39m \u001b[90m<id: 1ozE_Ldpio1LJaH2WS9r9hqRAIBDV8TDF>\u001b[39m\n",
            "\n",
            "Saved locally as:\n",
            "\n",
            "• \u001b[34m/content/input_data/NWI_wetlands.gpkg\u001b[39m\n",
            "\n"
          ]
        },
        {
          "output_type": "stream",
          "name": "stdout",
          "text": [
            "Reading layer `NWI_wetlands' from data source \n",
            "  `/content/input_data/NWI_wetlands.gpkg' using driver `GPKG'\n",
            "Simple feature collection with 13555 features and 6 fields\n",
            "Geometry type: MULTIPOLYGON\n",
            "Dimension:     XY\n",
            "Bounding box:  xmin: -160.3031 ymin: 18.85975 xmax: -154.7531 ymax: 22.28533\n",
            "Geodetic CRS:  WGS 84\n"
          ]
        },
        {
          "output_type": "stream",
          "name": "stderr",
          "text": [
            "ERROR while rich displaying an object: Error in loadNamespace(x): there is no package called ‘geojsonio’\n",
            "\n",
            "Traceback:\n",
            "1. tryCatch(withCallingHandlers({\n",
            " .     if (!mime %in% names(repr::mime2repr)) \n",
            " .         stop(\"No repr_* for mimetype \", mime, \" in repr::mime2repr\")\n",
            " .     rpr <- repr::mime2repr[[mime]](obj)\n",
            " .     if (is.null(rpr)) \n",
            " .         return(NULL)\n",
            " .     prepare_content(is.raw(rpr), rpr)\n",
            " . }, error = error_handler), error = outer_handler)\n",
            "2. tryCatchList(expr, classes, parentenv, handlers)\n",
            "3. tryCatchOne(expr, names, parentenv, handlers[[1L]])\n",
            "4. doTryCatch(return(expr), name, parentenv, handler)\n",
            "5. withCallingHandlers({\n",
            " .     if (!mime %in% names(repr::mime2repr)) \n",
            " .         stop(\"No repr_* for mimetype \", mime, \" in repr::mime2repr\")\n",
            " .     rpr <- repr::mime2repr[[mime]](obj)\n",
            " .     if (is.null(rpr)) \n",
            " .         return(NULL)\n",
            " .     prepare_content(is.raw(rpr), rpr)\n",
            " . }, error = error_handler)\n",
            "6. repr::mime2repr[[mime]](obj)\n",
            "7. repr_geojson.sf(obj)\n",
            "8. repr_geojson(geojsonio::geojson_list(obj), ...)\n",
            "9. loadNamespace(x)\n",
            "10. withRestarts(stop(cond), retry_loadNamespace = function() NULL)\n",
            "11. withOneRestart(expr, restarts[[1L]])\n",
            "12. doWithOneRestart(return(expr), restart)\n"
          ]
        },
        {
          "output_type": "display_data",
          "data": {
            "text/html": [
              "<table class=\"dataframe\">\n",
              "<caption>A sf: 13555 × 7</caption>\n",
              "<thead>\n",
              "\t<tr><th scope=col>objectid</th><th scope=col>attribute</th><th scope=col>acres</th><th scope=col>wetland_ty</th><th scope=col>st_areasha</th><th scope=col>st_perimet</th><th scope=col>geom</th></tr>\n",
              "\t<tr><th scope=col>&lt;int&gt;</th><th scope=col>&lt;chr&gt;</th><th scope=col>&lt;dbl&gt;</th><th scope=col>&lt;chr&gt;</th><th scope=col>&lt;dbl&gt;</th><th scope=col>&lt;dbl&gt;</th><th scope=col>&lt;MULTIPOLYGON [°]&gt;</th></tr>\n",
              "</thead>\n",
              "<tbody>\n",
              "\t<tr><td> 1</td><td>PUBHh </td><td> 0.2609826</td><td>Freshwater Pond</td><td> 1056.1591</td><td>  121.4864</td><td>MULTIPOLYGON (((-155.5763 1...</td></tr>\n",
              "\t<tr><td> 2</td><td>PUBHh </td><td> 0.3178072</td><td>Freshwater Pond</td><td> 1286.1200</td><td>  129.4962</td><td>MULTIPOLYGON (((-155.5912 1...</td></tr>\n",
              "\t<tr><td> 3</td><td>PUS3Ah</td><td> 0.2185504</td><td>Freshwater Pond</td><td>  884.4421</td><td>  107.8919</td><td>MULTIPOLYGON (((-155.6126 1...</td></tr>\n",
              "\t<tr><td> 4</td><td>PUS3Ah</td><td> 0.4064771</td><td>Freshwater Pond</td><td> 1644.9544</td><td>  153.5977</td><td>MULTIPOLYGON (((-155.6217 1...</td></tr>\n",
              "\t<tr><td> 5</td><td>PUS3Ch</td><td> 0.2855907</td><td>Freshwater Pond</td><td> 1155.7447</td><td>  124.3542</td><td>MULTIPOLYGON (((-155.6106 1...</td></tr>\n",
              "\t<tr><td> 6</td><td>PUS3Ch</td><td> 0.4222651</td><td>Freshwater Pond</td><td> 1708.8463</td><td>  156.8640</td><td>MULTIPOLYGON (((-155.5966 1...</td></tr>\n",
              "\t<tr><td> 7</td><td>PUS3Ch</td><td> 0.1888957</td><td>Freshwater Pond</td><td>  764.4338</td><td>   99.7818</td><td>MULTIPOLYGON (((-155.6122 1...</td></tr>\n",
              "\t<tr><td> 8</td><td>PUS3Ch</td><td> 0.2335592</td><td>Freshwater Pond</td><td>  945.1806</td><td>  111.1221</td><td>MULTIPOLYGON (((-155.6162 1...</td></tr>\n",
              "\t<tr><td> 9</td><td>PUS3Ch</td><td> 0.2310241</td><td>Freshwater Pond</td><td>  934.9212</td><td>  111.1674</td><td>MULTIPOLYGON (((-155.5946 1...</td></tr>\n",
              "\t<tr><td>10</td><td>PUS3Ch</td><td> 0.2015431</td><td>Freshwater Pond</td><td>  815.6161</td><td>  105.6278</td><td>MULTIPOLYGON (((-155.5991 1...</td></tr>\n",
              "\t<tr><td>11</td><td>R4SBC </td><td> 0.4070043</td><td>Riverine       </td><td> 1646.9234</td><td>  556.9228</td><td>MULTIPOLYGON (((-155.5225 1...</td></tr>\n",
              "\t<tr><td>12</td><td>R4SBC </td><td> 3.9465503</td><td>Riverine       </td><td>15970.8954</td><td> 5325.1074</td><td>MULTIPOLYGON (((-155.6126 1...</td></tr>\n",
              "\t<tr><td>13</td><td>R4SBC </td><td> 1.3529643</td><td>Riverine       </td><td> 5475.1169</td><td> 1832.7210</td><td>MULTIPOLYGON (((-155.6204 1...</td></tr>\n",
              "\t<tr><td>14</td><td>R4SBC </td><td>10.1487054</td><td>Riverine       </td><td>41070.0629</td><td>13694.5000</td><td>MULTIPOLYGON (((-155.516 19...</td></tr>\n",
              "\t<tr><td>15</td><td>R4SBC </td><td> 1.4777824</td><td>Riverine       </td><td> 5980.2342</td><td> 1996.2841</td><td>MULTIPOLYGON (((-155.6133 1...</td></tr>\n",
              "\t<tr><td>16</td><td>R4SBC </td><td> 5.9207439</td><td>Riverine       </td><td>23960.2932</td><td> 7967.5341</td><td>MULTIPOLYGON (((-155.6181 1...</td></tr>\n",
              "\t<tr><td>17</td><td>R4SBC </td><td> 9.0715699</td><td>Riverine       </td><td>36711.1878</td><td>12207.3978</td><td>MULTIPOLYGON (((-155.6212 1...</td></tr>\n",
              "\t<tr><td>18</td><td>R4SBC </td><td> 2.4382452</td><td>Riverine       </td><td> 9866.9612</td><td> 3292.6908</td><td>MULTIPOLYGON (((-155.1446 1...</td></tr>\n",
              "\t<tr><td>19</td><td>R4SBC </td><td> 1.3194634</td><td>Riverine       </td><td> 5339.6051</td><td> 1786.6469</td><td>MULTIPOLYGON (((-155.1766 1...</td></tr>\n",
              "\t<tr><td>20</td><td>R4SBC </td><td> 3.6162789</td><td>Riverine       </td><td>14634.0357</td><td> 4871.8329</td><td>MULTIPOLYGON (((-155.1291 1...</td></tr>\n",
              "\t<tr><td>21</td><td>R4SBC </td><td> 2.4195243</td><td>Riverine       </td><td> 9791.1000</td><td> 3264.1502</td><td>MULTIPOLYGON (((-155.137 19...</td></tr>\n",
              "\t<tr><td>22</td><td>R4SBC </td><td> 4.5438877</td><td>Riverine       </td><td>18387.9959</td><td> 6120.0947</td><td>MULTIPOLYGON (((-155.1467 1...</td></tr>\n",
              "\t<tr><td>23</td><td>R4SBC </td><td> 2.9091712</td><td>Riverine       </td><td>11772.5234</td><td> 3921.0823</td><td>MULTIPOLYGON (((-155.132 19...</td></tr>\n",
              "\t<tr><td>24</td><td>R4SBC </td><td> 0.3698654</td><td>Riverine       </td><td> 1496.7545</td><td>  513.7667</td><td>MULTIPOLYGON (((-155.1773 1...</td></tr>\n",
              "\t<tr><td>25</td><td>R4SBC </td><td> 3.7599832</td><td>Riverine       </td><td>15215.7718</td><td> 5063.3799</td><td>MULTIPOLYGON (((-155.1484 1...</td></tr>\n",
              "\t<tr><td>26</td><td>R4SBC </td><td> 4.3259941</td><td>Riverine       </td><td>17506.0764</td><td> 5825.8932</td><td>MULTIPOLYGON (((-155.1231 1...</td></tr>\n",
              "\t<tr><td>27</td><td>R4SBC </td><td> 2.5076827</td><td>Riverine       </td><td>10147.8762</td><td> 3390.4412</td><td>MULTIPOLYGON (((-155.1227 1...</td></tr>\n",
              "\t<tr><td>28</td><td>R4SBC </td><td> 1.4185481</td><td>Riverine       </td><td> 5740.5360</td><td> 1935.6427</td><td>MULTIPOLYGON (((-155.1613 1...</td></tr>\n",
              "\t<tr><td>29</td><td>R4SBC </td><td> 1.4315388</td><td>Riverine       </td><td> 5793.1206</td><td> 1944.2396</td><td>MULTIPOLYGON (((-155.1761 1...</td></tr>\n",
              "\t<tr><td>30</td><td>R4SBC </td><td> 3.2701971</td><td>Riverine       </td><td>13233.7760</td><td> 4406.9238</td><td>MULTIPOLYGON (((-155.1223 1...</td></tr>\n",
              "\t<tr><td>⋮</td><td>⋮</td><td>⋮</td><td>⋮</td><td>⋮</td><td>⋮</td><td>⋮</td></tr>\n",
              "\t<tr><td>13526</td><td>R4SBCx</td><td>0.21560476</td><td>Riverine</td><td>  872.5215</td><td>  871.9206</td><td>MULTIPOLYGON (((-159.4466 2...</td></tr>\n",
              "\t<tr><td>13527</td><td>R4SBCx</td><td>0.70233035</td><td>Riverine</td><td> 2842.2301</td><td> 1431.9941</td><td>MULTIPOLYGON (((-159.561 22...</td></tr>\n",
              "\t<tr><td>13528</td><td>R4SBCx</td><td>0.54904167</td><td>Riverine</td><td> 2221.8928</td><td> 1494.2070</td><td>MULTIPOLYGON (((-159.3639 2...</td></tr>\n",
              "\t<tr><td>13529</td><td>R4SBCx</td><td>0.10584546</td><td>Riverine</td><td>  428.3414</td><td>  852.7348</td><td>MULTIPOLYGON (((-159.4668 2...</td></tr>\n",
              "\t<tr><td>13530</td><td>R4SBCx</td><td>0.72386174</td><td>Riverine</td><td> 2929.3645</td><td> 2938.0217</td><td>MULTIPOLYGON (((-159.3837 2...</td></tr>\n",
              "\t<tr><td>13531</td><td>R4SBCx</td><td>0.29451188</td><td>Riverine</td><td> 1191.8473</td><td> 2382.5772</td><td>MULTIPOLYGON (((-159.3427 2...</td></tr>\n",
              "\t<tr><td>13532</td><td>R4SBCx</td><td>0.19314289</td><td>Riverine</td><td>  781.6216</td><td>  779.0966</td><td>MULTIPOLYGON (((-159.5044 2...</td></tr>\n",
              "\t<tr><td>13533</td><td>R4SBCx</td><td>1.66945938</td><td>Riverine</td><td> 6756.0624</td><td> 3952.5300</td><td>MULTIPOLYGON (((-159.467 22...</td></tr>\n",
              "\t<tr><td>13534</td><td>R4SBCx</td><td>0.28237546</td><td>Riverine</td><td> 1142.7329</td><td> 1151.3590</td><td>MULTIPOLYGON (((-159.456 22...</td></tr>\n",
              "\t<tr><td>13535</td><td>R4SBCx</td><td>2.58817578</td><td>Riverine</td><td>10473.9758</td><td>10480.7181</td><td>MULTIPOLYGON (((-159.4045 2...</td></tr>\n",
              "\t<tr><td>13536</td><td>R4SBCx</td><td>0.07034209</td><td>Riverine</td><td>  284.6644</td><td>  576.7305</td><td>MULTIPOLYGON (((-159.4428 2...</td></tr>\n",
              "\t<tr><td>13537</td><td>R4SBCx</td><td>0.48648071</td><td>Riverine</td><td> 1968.7176</td><td> 1976.1648</td><td>MULTIPOLYGON (((-159.3907 2...</td></tr>\n",
              "\t<tr><td>13538</td><td>R4SBCx</td><td>0.13720993</td><td>Riverine</td><td>  555.2689</td><td> 1123.6350</td><td>MULTIPOLYGON (((-159.4187 2...</td></tr>\n",
              "\t<tr><td>13539</td><td>R4SBCx</td><td>0.14436468</td><td>Riverine</td><td>  584.2231</td><td> 1182.0058</td><td>MULTIPOLYGON (((-159.4202 2...</td></tr>\n",
              "\t<tr><td>13540</td><td>R4SBCx</td><td>0.62274132</td><td>Riverine</td><td> 2520.1447</td><td> 1682.4872</td><td>MULTIPOLYGON (((-159.3682 2...</td></tr>\n",
              "\t<tr><td>13541</td><td>R4SBCx</td><td>0.13046186</td><td>Riverine</td><td>  527.9604</td><td> 1070.6170</td><td>MULTIPOLYGON (((-159.4229 2...</td></tr>\n",
              "\t<tr><td>13542</td><td>R4SBCx</td><td>0.21240656</td><td>Riverine</td><td>  859.5789</td><td> 1738.5778</td><td>MULTIPOLYGON (((-159.4219 2...</td></tr>\n",
              "\t<tr><td>13543</td><td>R4SBCx</td><td>1.41030711</td><td>Riverine</td><td> 5707.3104</td><td> 5720.1017</td><td>MULTIPOLYGON (((-159.3824 2...</td></tr>\n",
              "\t<tr><td>13544</td><td>R4SBCx</td><td>0.21942528</td><td>Riverine</td><td>  887.9826</td><td>  894.6046</td><td>MULTIPOLYGON (((-159.5117 2...</td></tr>\n",
              "\t<tr><td>13545</td><td>R4SBCx</td><td>0.11224802</td><td>Riverine</td><td>  454.2516</td><td>  908.4936</td><td>MULTIPOLYGON (((-159.4488 2...</td></tr>\n",
              "\t<tr><td>13546</td><td>R4SBCx</td><td>0.13638037</td><td>Riverine</td><td>  551.9118</td><td> 1113.5446</td><td>MULTIPOLYGON (((-159.4243 2...</td></tr>\n",
              "\t<tr><td>13547</td><td>R4SBCx</td><td>0.08250345</td><td>Riverine</td><td>  333.8796</td><td>  671.0495</td><td>MULTIPOLYGON (((-159.4398 2...</td></tr>\n",
              "\t<tr><td>13548</td><td>R4SBCx</td><td>0.17722100</td><td>Riverine</td><td>  717.1879</td><td> 1451.6362</td><td>MULTIPOLYGON (((-159.4257 2...</td></tr>\n",
              "\t<tr><td>13549</td><td>R4SBCx</td><td>0.51986551</td><td>Riverine</td><td> 2103.8211</td><td> 1405.2871</td><td>MULTIPOLYGON (((-159.4697 2...</td></tr>\n",
              "\t<tr><td>13550</td><td>R4SBCx</td><td>0.16983494</td><td>Riverine</td><td>  687.2976</td><td> 1390.3566</td><td>MULTIPOLYGON (((-159.4274 2...</td></tr>\n",
              "\t<tr><td>13551</td><td>R4SBCx</td><td>0.14433971</td><td>Riverine</td><td>  584.1221</td><td> 1183.7630</td><td>MULTIPOLYGON (((-159.4286 2...</td></tr>\n",
              "\t<tr><td>13552</td><td>R4SBCx</td><td>1.09625443</td><td>Riverine</td><td> 4436.3843</td><td> 1792.1447</td><td>MULTIPOLYGON (((-159.4838 2...</td></tr>\n",
              "\t<tr><td>13553</td><td>R4SBCx</td><td>0.23688473</td><td>Riverine</td><td>  958.6385</td><td> 1927.9238</td><td>MULTIPOLYGON (((-159.4443 2...</td></tr>\n",
              "\t<tr><td>13554</td><td>R4SBCx</td><td>1.59187575</td><td>Riverine</td><td> 6442.0926</td><td> 4307.7626</td><td>MULTIPOLYGON (((-159.4589 2...</td></tr>\n",
              "\t<tr><td>13555</td><td>R4SBCx</td><td>0.13483148</td><td>Riverine</td><td>  545.6437</td><td> 1089.9558</td><td>MULTIPOLYGON (((-159.4506 2...</td></tr>\n",
              "</tbody>\n",
              "</table>\n"
            ],
            "text/markdown": "\nA sf: 13555 × 7\n\n| objectid &lt;int&gt; | attribute &lt;chr&gt; | acres &lt;dbl&gt; | wetland_ty &lt;chr&gt; | st_areasha &lt;dbl&gt; | st_perimet &lt;dbl&gt; | geom &lt;MULTIPOLYGON [°]&gt; |\n|---|---|---|---|---|---|---|\n|  1 | PUBHh  |  0.2609826 | Freshwater Pond |  1056.1591 |   121.4864 | MULTIPOLYGON (((-155.5763 1... |\n|  2 | PUBHh  |  0.3178072 | Freshwater Pond |  1286.1200 |   129.4962 | MULTIPOLYGON (((-155.5912 1... |\n|  3 | PUS3Ah |  0.2185504 | Freshwater Pond |   884.4421 |   107.8919 | MULTIPOLYGON (((-155.6126 1... |\n|  4 | PUS3Ah |  0.4064771 | Freshwater Pond |  1644.9544 |   153.5977 | MULTIPOLYGON (((-155.6217 1... |\n|  5 | PUS3Ch |  0.2855907 | Freshwater Pond |  1155.7447 |   124.3542 | MULTIPOLYGON (((-155.6106 1... |\n|  6 | PUS3Ch |  0.4222651 | Freshwater Pond |  1708.8463 |   156.8640 | MULTIPOLYGON (((-155.5966 1... |\n|  7 | PUS3Ch |  0.1888957 | Freshwater Pond |   764.4338 |    99.7818 | MULTIPOLYGON (((-155.6122 1... |\n|  8 | PUS3Ch |  0.2335592 | Freshwater Pond |   945.1806 |   111.1221 | MULTIPOLYGON (((-155.6162 1... |\n|  9 | PUS3Ch |  0.2310241 | Freshwater Pond |   934.9212 |   111.1674 | MULTIPOLYGON (((-155.5946 1... |\n| 10 | PUS3Ch |  0.2015431 | Freshwater Pond |   815.6161 |   105.6278 | MULTIPOLYGON (((-155.5991 1... |\n| 11 | R4SBC  |  0.4070043 | Riverine        |  1646.9234 |   556.9228 | MULTIPOLYGON (((-155.5225 1... |\n| 12 | R4SBC  |  3.9465503 | Riverine        | 15970.8954 |  5325.1074 | MULTIPOLYGON (((-155.6126 1... |\n| 13 | R4SBC  |  1.3529643 | Riverine        |  5475.1169 |  1832.7210 | MULTIPOLYGON (((-155.6204 1... |\n| 14 | R4SBC  | 10.1487054 | Riverine        | 41070.0629 | 13694.5000 | MULTIPOLYGON (((-155.516 19... |\n| 15 | R4SBC  |  1.4777824 | Riverine        |  5980.2342 |  1996.2841 | MULTIPOLYGON (((-155.6133 1... |\n| 16 | R4SBC  |  5.9207439 | Riverine        | 23960.2932 |  7967.5341 | MULTIPOLYGON (((-155.6181 1... |\n| 17 | R4SBC  |  9.0715699 | Riverine        | 36711.1878 | 12207.3978 | MULTIPOLYGON (((-155.6212 1... |\n| 18 | R4SBC  |  2.4382452 | Riverine        |  9866.9612 |  3292.6908 | MULTIPOLYGON (((-155.1446 1... |\n| 19 | R4SBC  |  1.3194634 | Riverine        |  5339.6051 |  1786.6469 | MULTIPOLYGON (((-155.1766 1... |\n| 20 | R4SBC  |  3.6162789 | Riverine        | 14634.0357 |  4871.8329 | MULTIPOLYGON (((-155.1291 1... |\n| 21 | R4SBC  |  2.4195243 | Riverine        |  9791.1000 |  3264.1502 | MULTIPOLYGON (((-155.137 19... |\n| 22 | R4SBC  |  4.5438877 | Riverine        | 18387.9959 |  6120.0947 | MULTIPOLYGON (((-155.1467 1... |\n| 23 | R4SBC  |  2.9091712 | Riverine        | 11772.5234 |  3921.0823 | MULTIPOLYGON (((-155.132 19... |\n| 24 | R4SBC  |  0.3698654 | Riverine        |  1496.7545 |   513.7667 | MULTIPOLYGON (((-155.1773 1... |\n| 25 | R4SBC  |  3.7599832 | Riverine        | 15215.7718 |  5063.3799 | MULTIPOLYGON (((-155.1484 1... |\n| 26 | R4SBC  |  4.3259941 | Riverine        | 17506.0764 |  5825.8932 | MULTIPOLYGON (((-155.1231 1... |\n| 27 | R4SBC  |  2.5076827 | Riverine        | 10147.8762 |  3390.4412 | MULTIPOLYGON (((-155.1227 1... |\n| 28 | R4SBC  |  1.4185481 | Riverine        |  5740.5360 |  1935.6427 | MULTIPOLYGON (((-155.1613 1... |\n| 29 | R4SBC  |  1.4315388 | Riverine        |  5793.1206 |  1944.2396 | MULTIPOLYGON (((-155.1761 1... |\n| 30 | R4SBC  |  3.2701971 | Riverine        | 13233.7760 |  4406.9238 | MULTIPOLYGON (((-155.1223 1... |\n| ⋮ | ⋮ | ⋮ | ⋮ | ⋮ | ⋮ | ⋮ |\n| 13526 | R4SBCx | 0.21560476 | Riverine |   872.5215 |   871.9206 | MULTIPOLYGON (((-159.4466 2... |\n| 13527 | R4SBCx | 0.70233035 | Riverine |  2842.2301 |  1431.9941 | MULTIPOLYGON (((-159.561 22... |\n| 13528 | R4SBCx | 0.54904167 | Riverine |  2221.8928 |  1494.2070 | MULTIPOLYGON (((-159.3639 2... |\n| 13529 | R4SBCx | 0.10584546 | Riverine |   428.3414 |   852.7348 | MULTIPOLYGON (((-159.4668 2... |\n| 13530 | R4SBCx | 0.72386174 | Riverine |  2929.3645 |  2938.0217 | MULTIPOLYGON (((-159.3837 2... |\n| 13531 | R4SBCx | 0.29451188 | Riverine |  1191.8473 |  2382.5772 | MULTIPOLYGON (((-159.3427 2... |\n| 13532 | R4SBCx | 0.19314289 | Riverine |   781.6216 |   779.0966 | MULTIPOLYGON (((-159.5044 2... |\n| 13533 | R4SBCx | 1.66945938 | Riverine |  6756.0624 |  3952.5300 | MULTIPOLYGON (((-159.467 22... |\n| 13534 | R4SBCx | 0.28237546 | Riverine |  1142.7329 |  1151.3590 | MULTIPOLYGON (((-159.456 22... |\n| 13535 | R4SBCx | 2.58817578 | Riverine | 10473.9758 | 10480.7181 | MULTIPOLYGON (((-159.4045 2... |\n| 13536 | R4SBCx | 0.07034209 | Riverine |   284.6644 |   576.7305 | MULTIPOLYGON (((-159.4428 2... |\n| 13537 | R4SBCx | 0.48648071 | Riverine |  1968.7176 |  1976.1648 | MULTIPOLYGON (((-159.3907 2... |\n| 13538 | R4SBCx | 0.13720993 | Riverine |   555.2689 |  1123.6350 | MULTIPOLYGON (((-159.4187 2... |\n| 13539 | R4SBCx | 0.14436468 | Riverine |   584.2231 |  1182.0058 | MULTIPOLYGON (((-159.4202 2... |\n| 13540 | R4SBCx | 0.62274132 | Riverine |  2520.1447 |  1682.4872 | MULTIPOLYGON (((-159.3682 2... |\n| 13541 | R4SBCx | 0.13046186 | Riverine |   527.9604 |  1070.6170 | MULTIPOLYGON (((-159.4229 2... |\n| 13542 | R4SBCx | 0.21240656 | Riverine |   859.5789 |  1738.5778 | MULTIPOLYGON (((-159.4219 2... |\n| 13543 | R4SBCx | 1.41030711 | Riverine |  5707.3104 |  5720.1017 | MULTIPOLYGON (((-159.3824 2... |\n| 13544 | R4SBCx | 0.21942528 | Riverine |   887.9826 |   894.6046 | MULTIPOLYGON (((-159.5117 2... |\n| 13545 | R4SBCx | 0.11224802 | Riverine |   454.2516 |   908.4936 | MULTIPOLYGON (((-159.4488 2... |\n| 13546 | R4SBCx | 0.13638037 | Riverine |   551.9118 |  1113.5446 | MULTIPOLYGON (((-159.4243 2... |\n| 13547 | R4SBCx | 0.08250345 | Riverine |   333.8796 |   671.0495 | MULTIPOLYGON (((-159.4398 2... |\n| 13548 | R4SBCx | 0.17722100 | Riverine |   717.1879 |  1451.6362 | MULTIPOLYGON (((-159.4257 2... |\n| 13549 | R4SBCx | 0.51986551 | Riverine |  2103.8211 |  1405.2871 | MULTIPOLYGON (((-159.4697 2... |\n| 13550 | R4SBCx | 0.16983494 | Riverine |   687.2976 |  1390.3566 | MULTIPOLYGON (((-159.4274 2... |\n| 13551 | R4SBCx | 0.14433971 | Riverine |   584.1221 |  1183.7630 | MULTIPOLYGON (((-159.4286 2... |\n| 13552 | R4SBCx | 1.09625443 | Riverine |  4436.3843 |  1792.1447 | MULTIPOLYGON (((-159.4838 2... |\n| 13553 | R4SBCx | 0.23688473 | Riverine |   958.6385 |  1927.9238 | MULTIPOLYGON (((-159.4443 2... |\n| 13554 | R4SBCx | 1.59187575 | Riverine |  6442.0926 |  4307.7626 | MULTIPOLYGON (((-159.4589 2... |\n| 13555 | R4SBCx | 0.13483148 | Riverine |   545.6437 |  1089.9558 | MULTIPOLYGON (((-159.4506 2... |\n\n",
            "text/latex": "A sf: 13555 × 7\n\\begin{tabular}{lllllll}\n objectid & attribute & acres & wetland\\_ty & st\\_areasha & st\\_perimet & geom\\\\\n <int> & <chr> & <dbl> & <chr> & <dbl> & <dbl> & <MULTIPOLYGON {[}°{]}>\\\\\n\\hline\n\t  1 & PUBHh  &  0.2609826 & Freshwater Pond &  1056.1591 &   121.4864 & MULTIPOLYGON (((-155.5763 1...\\\\\n\t  2 & PUBHh  &  0.3178072 & Freshwater Pond &  1286.1200 &   129.4962 & MULTIPOLYGON (((-155.5912 1...\\\\\n\t  3 & PUS3Ah &  0.2185504 & Freshwater Pond &   884.4421 &   107.8919 & MULTIPOLYGON (((-155.6126 1...\\\\\n\t  4 & PUS3Ah &  0.4064771 & Freshwater Pond &  1644.9544 &   153.5977 & MULTIPOLYGON (((-155.6217 1...\\\\\n\t  5 & PUS3Ch &  0.2855907 & Freshwater Pond &  1155.7447 &   124.3542 & MULTIPOLYGON (((-155.6106 1...\\\\\n\t  6 & PUS3Ch &  0.4222651 & Freshwater Pond &  1708.8463 &   156.8640 & MULTIPOLYGON (((-155.5966 1...\\\\\n\t  7 & PUS3Ch &  0.1888957 & Freshwater Pond &   764.4338 &    99.7818 & MULTIPOLYGON (((-155.6122 1...\\\\\n\t  8 & PUS3Ch &  0.2335592 & Freshwater Pond &   945.1806 &   111.1221 & MULTIPOLYGON (((-155.6162 1...\\\\\n\t  9 & PUS3Ch &  0.2310241 & Freshwater Pond &   934.9212 &   111.1674 & MULTIPOLYGON (((-155.5946 1...\\\\\n\t 10 & PUS3Ch &  0.2015431 & Freshwater Pond &   815.6161 &   105.6278 & MULTIPOLYGON (((-155.5991 1...\\\\\n\t 11 & R4SBC  &  0.4070043 & Riverine        &  1646.9234 &   556.9228 & MULTIPOLYGON (((-155.5225 1...\\\\\n\t 12 & R4SBC  &  3.9465503 & Riverine        & 15970.8954 &  5325.1074 & MULTIPOLYGON (((-155.6126 1...\\\\\n\t 13 & R4SBC  &  1.3529643 & Riverine        &  5475.1169 &  1832.7210 & MULTIPOLYGON (((-155.6204 1...\\\\\n\t 14 & R4SBC  & 10.1487054 & Riverine        & 41070.0629 & 13694.5000 & MULTIPOLYGON (((-155.516 19...\\\\\n\t 15 & R4SBC  &  1.4777824 & Riverine        &  5980.2342 &  1996.2841 & MULTIPOLYGON (((-155.6133 1...\\\\\n\t 16 & R4SBC  &  5.9207439 & Riverine        & 23960.2932 &  7967.5341 & MULTIPOLYGON (((-155.6181 1...\\\\\n\t 17 & R4SBC  &  9.0715699 & Riverine        & 36711.1878 & 12207.3978 & MULTIPOLYGON (((-155.6212 1...\\\\\n\t 18 & R4SBC  &  2.4382452 & Riverine        &  9866.9612 &  3292.6908 & MULTIPOLYGON (((-155.1446 1...\\\\\n\t 19 & R4SBC  &  1.3194634 & Riverine        &  5339.6051 &  1786.6469 & MULTIPOLYGON (((-155.1766 1...\\\\\n\t 20 & R4SBC  &  3.6162789 & Riverine        & 14634.0357 &  4871.8329 & MULTIPOLYGON (((-155.1291 1...\\\\\n\t 21 & R4SBC  &  2.4195243 & Riverine        &  9791.1000 &  3264.1502 & MULTIPOLYGON (((-155.137 19...\\\\\n\t 22 & R4SBC  &  4.5438877 & Riverine        & 18387.9959 &  6120.0947 & MULTIPOLYGON (((-155.1467 1...\\\\\n\t 23 & R4SBC  &  2.9091712 & Riverine        & 11772.5234 &  3921.0823 & MULTIPOLYGON (((-155.132 19...\\\\\n\t 24 & R4SBC  &  0.3698654 & Riverine        &  1496.7545 &   513.7667 & MULTIPOLYGON (((-155.1773 1...\\\\\n\t 25 & R4SBC  &  3.7599832 & Riverine        & 15215.7718 &  5063.3799 & MULTIPOLYGON (((-155.1484 1...\\\\\n\t 26 & R4SBC  &  4.3259941 & Riverine        & 17506.0764 &  5825.8932 & MULTIPOLYGON (((-155.1231 1...\\\\\n\t 27 & R4SBC  &  2.5076827 & Riverine        & 10147.8762 &  3390.4412 & MULTIPOLYGON (((-155.1227 1...\\\\\n\t 28 & R4SBC  &  1.4185481 & Riverine        &  5740.5360 &  1935.6427 & MULTIPOLYGON (((-155.1613 1...\\\\\n\t 29 & R4SBC  &  1.4315388 & Riverine        &  5793.1206 &  1944.2396 & MULTIPOLYGON (((-155.1761 1...\\\\\n\t 30 & R4SBC  &  3.2701971 & Riverine        & 13233.7760 &  4406.9238 & MULTIPOLYGON (((-155.1223 1...\\\\\n\t ⋮ & ⋮ & ⋮ & ⋮ & ⋮ & ⋮ & ⋮\\\\\n\t 13526 & R4SBCx & 0.21560476 & Riverine &   872.5215 &   871.9206 & MULTIPOLYGON (((-159.4466 2...\\\\\n\t 13527 & R4SBCx & 0.70233035 & Riverine &  2842.2301 &  1431.9941 & MULTIPOLYGON (((-159.561 22...\\\\\n\t 13528 & R4SBCx & 0.54904167 & Riverine &  2221.8928 &  1494.2070 & MULTIPOLYGON (((-159.3639 2...\\\\\n\t 13529 & R4SBCx & 0.10584546 & Riverine &   428.3414 &   852.7348 & MULTIPOLYGON (((-159.4668 2...\\\\\n\t 13530 & R4SBCx & 0.72386174 & Riverine &  2929.3645 &  2938.0217 & MULTIPOLYGON (((-159.3837 2...\\\\\n\t 13531 & R4SBCx & 0.29451188 & Riverine &  1191.8473 &  2382.5772 & MULTIPOLYGON (((-159.3427 2...\\\\\n\t 13532 & R4SBCx & 0.19314289 & Riverine &   781.6216 &   779.0966 & MULTIPOLYGON (((-159.5044 2...\\\\\n\t 13533 & R4SBCx & 1.66945938 & Riverine &  6756.0624 &  3952.5300 & MULTIPOLYGON (((-159.467 22...\\\\\n\t 13534 & R4SBCx & 0.28237546 & Riverine &  1142.7329 &  1151.3590 & MULTIPOLYGON (((-159.456 22...\\\\\n\t 13535 & R4SBCx & 2.58817578 & Riverine & 10473.9758 & 10480.7181 & MULTIPOLYGON (((-159.4045 2...\\\\\n\t 13536 & R4SBCx & 0.07034209 & Riverine &   284.6644 &   576.7305 & MULTIPOLYGON (((-159.4428 2...\\\\\n\t 13537 & R4SBCx & 0.48648071 & Riverine &  1968.7176 &  1976.1648 & MULTIPOLYGON (((-159.3907 2...\\\\\n\t 13538 & R4SBCx & 0.13720993 & Riverine &   555.2689 &  1123.6350 & MULTIPOLYGON (((-159.4187 2...\\\\\n\t 13539 & R4SBCx & 0.14436468 & Riverine &   584.2231 &  1182.0058 & MULTIPOLYGON (((-159.4202 2...\\\\\n\t 13540 & R4SBCx & 0.62274132 & Riverine &  2520.1447 &  1682.4872 & MULTIPOLYGON (((-159.3682 2...\\\\\n\t 13541 & R4SBCx & 0.13046186 & Riverine &   527.9604 &  1070.6170 & MULTIPOLYGON (((-159.4229 2...\\\\\n\t 13542 & R4SBCx & 0.21240656 & Riverine &   859.5789 &  1738.5778 & MULTIPOLYGON (((-159.4219 2...\\\\\n\t 13543 & R4SBCx & 1.41030711 & Riverine &  5707.3104 &  5720.1017 & MULTIPOLYGON (((-159.3824 2...\\\\\n\t 13544 & R4SBCx & 0.21942528 & Riverine &   887.9826 &   894.6046 & MULTIPOLYGON (((-159.5117 2...\\\\\n\t 13545 & R4SBCx & 0.11224802 & Riverine &   454.2516 &   908.4936 & MULTIPOLYGON (((-159.4488 2...\\\\\n\t 13546 & R4SBCx & 0.13638037 & Riverine &   551.9118 &  1113.5446 & MULTIPOLYGON (((-159.4243 2...\\\\\n\t 13547 & R4SBCx & 0.08250345 & Riverine &   333.8796 &   671.0495 & MULTIPOLYGON (((-159.4398 2...\\\\\n\t 13548 & R4SBCx & 0.17722100 & Riverine &   717.1879 &  1451.6362 & MULTIPOLYGON (((-159.4257 2...\\\\\n\t 13549 & R4SBCx & 0.51986551 & Riverine &  2103.8211 &  1405.2871 & MULTIPOLYGON (((-159.4697 2...\\\\\n\t 13550 & R4SBCx & 0.16983494 & Riverine &   687.2976 &  1390.3566 & MULTIPOLYGON (((-159.4274 2...\\\\\n\t 13551 & R4SBCx & 0.14433971 & Riverine &   584.1221 &  1183.7630 & MULTIPOLYGON (((-159.4286 2...\\\\\n\t 13552 & R4SBCx & 1.09625443 & Riverine &  4436.3843 &  1792.1447 & MULTIPOLYGON (((-159.4838 2...\\\\\n\t 13553 & R4SBCx & 0.23688473 & Riverine &   958.6385 &  1927.9238 & MULTIPOLYGON (((-159.4443 2...\\\\\n\t 13554 & R4SBCx & 1.59187575 & Riverine &  6442.0926 &  4307.7626 & MULTIPOLYGON (((-159.4589 2...\\\\\n\t 13555 & R4SBCx & 0.13483148 & Riverine &   545.6437 &  1089.9558 & MULTIPOLYGON (((-159.4506 2...\\\\\n\\end{tabular}\n",
            "text/plain": [
              "      objectid attribute acres      wetland_ty      st_areasha st_perimet\n",
              "1      1       PUBHh      0.2609826 Freshwater Pond  1056.1591   121.4864\n",
              "2      2       PUBHh      0.3178072 Freshwater Pond  1286.1200   129.4962\n",
              "3      3       PUS3Ah     0.2185504 Freshwater Pond   884.4421   107.8919\n",
              "4      4       PUS3Ah     0.4064771 Freshwater Pond  1644.9544   153.5977\n",
              "5      5       PUS3Ch     0.2855907 Freshwater Pond  1155.7447   124.3542\n",
              "6      6       PUS3Ch     0.4222651 Freshwater Pond  1708.8463   156.8640\n",
              "7      7       PUS3Ch     0.1888957 Freshwater Pond   764.4338    99.7818\n",
              "8      8       PUS3Ch     0.2335592 Freshwater Pond   945.1806   111.1221\n",
              "9      9       PUS3Ch     0.2310241 Freshwater Pond   934.9212   111.1674\n",
              "10    10       PUS3Ch     0.2015431 Freshwater Pond   815.6161   105.6278\n",
              "11    11       R4SBC      0.4070043 Riverine         1646.9234   556.9228\n",
              "12    12       R4SBC      3.9465503 Riverine        15970.8954  5325.1074\n",
              "13    13       R4SBC      1.3529643 Riverine         5475.1169  1832.7210\n",
              "14    14       R4SBC     10.1487054 Riverine        41070.0629 13694.5000\n",
              "15    15       R4SBC      1.4777824 Riverine         5980.2342  1996.2841\n",
              "16    16       R4SBC      5.9207439 Riverine        23960.2932  7967.5341\n",
              "17    17       R4SBC      9.0715699 Riverine        36711.1878 12207.3978\n",
              "18    18       R4SBC      2.4382452 Riverine         9866.9612  3292.6908\n",
              "19    19       R4SBC      1.3194634 Riverine         5339.6051  1786.6469\n",
              "20    20       R4SBC      3.6162789 Riverine        14634.0357  4871.8329\n",
              "21    21       R4SBC      2.4195243 Riverine         9791.1000  3264.1502\n",
              "22    22       R4SBC      4.5438877 Riverine        18387.9959  6120.0947\n",
              "23    23       R4SBC      2.9091712 Riverine        11772.5234  3921.0823\n",
              "24    24       R4SBC      0.3698654 Riverine         1496.7545   513.7667\n",
              "25    25       R4SBC      3.7599832 Riverine        15215.7718  5063.3799\n",
              "26    26       R4SBC      4.3259941 Riverine        17506.0764  5825.8932\n",
              "27    27       R4SBC      2.5076827 Riverine        10147.8762  3390.4412\n",
              "28    28       R4SBC      1.4185481 Riverine         5740.5360  1935.6427\n",
              "29    29       R4SBC      1.4315388 Riverine         5793.1206  1944.2396\n",
              "30    30       R4SBC      3.2701971 Riverine        13233.7760  4406.9238\n",
              "⋮     ⋮        ⋮         ⋮          ⋮               ⋮          ⋮         \n",
              "13526 13526    R4SBCx    0.21560476 Riverine          872.5215   871.9206\n",
              "13527 13527    R4SBCx    0.70233035 Riverine         2842.2301  1431.9941\n",
              "13528 13528    R4SBCx    0.54904167 Riverine         2221.8928  1494.2070\n",
              "13529 13529    R4SBCx    0.10584546 Riverine          428.3414   852.7348\n",
              "13530 13530    R4SBCx    0.72386174 Riverine         2929.3645  2938.0217\n",
              "13531 13531    R4SBCx    0.29451188 Riverine         1191.8473  2382.5772\n",
              "13532 13532    R4SBCx    0.19314289 Riverine          781.6216   779.0966\n",
              "13533 13533    R4SBCx    1.66945938 Riverine         6756.0624  3952.5300\n",
              "13534 13534    R4SBCx    0.28237546 Riverine         1142.7329  1151.3590\n",
              "13535 13535    R4SBCx    2.58817578 Riverine        10473.9758 10480.7181\n",
              "13536 13536    R4SBCx    0.07034209 Riverine          284.6644   576.7305\n",
              "13537 13537    R4SBCx    0.48648071 Riverine         1968.7176  1976.1648\n",
              "13538 13538    R4SBCx    0.13720993 Riverine          555.2689  1123.6350\n",
              "13539 13539    R4SBCx    0.14436468 Riverine          584.2231  1182.0058\n",
              "13540 13540    R4SBCx    0.62274132 Riverine         2520.1447  1682.4872\n",
              "13541 13541    R4SBCx    0.13046186 Riverine          527.9604  1070.6170\n",
              "13542 13542    R4SBCx    0.21240656 Riverine          859.5789  1738.5778\n",
              "13543 13543    R4SBCx    1.41030711 Riverine         5707.3104  5720.1017\n",
              "13544 13544    R4SBCx    0.21942528 Riverine          887.9826   894.6046\n",
              "13545 13545    R4SBCx    0.11224802 Riverine          454.2516   908.4936\n",
              "13546 13546    R4SBCx    0.13638037 Riverine          551.9118  1113.5446\n",
              "13547 13547    R4SBCx    0.08250345 Riverine          333.8796   671.0495\n",
              "13548 13548    R4SBCx    0.17722100 Riverine          717.1879  1451.6362\n",
              "13549 13549    R4SBCx    0.51986551 Riverine         2103.8211  1405.2871\n",
              "13550 13550    R4SBCx    0.16983494 Riverine          687.2976  1390.3566\n",
              "13551 13551    R4SBCx    0.14433971 Riverine          584.1221  1183.7630\n",
              "13552 13552    R4SBCx    1.09625443 Riverine         4436.3843  1792.1447\n",
              "13553 13553    R4SBCx    0.23688473 Riverine          958.6385  1927.9238\n",
              "13554 13554    R4SBCx    1.59187575 Riverine         6442.0926  4307.7626\n",
              "13555 13555    R4SBCx    0.13483148 Riverine          545.6437  1089.9558\n",
              "      geom                          \n",
              "1     MULTIPOLYGON (((-155.5763 1...\n",
              "2     MULTIPOLYGON (((-155.5912 1...\n",
              "3     MULTIPOLYGON (((-155.6126 1...\n",
              "4     MULTIPOLYGON (((-155.6217 1...\n",
              "5     MULTIPOLYGON (((-155.6106 1...\n",
              "6     MULTIPOLYGON (((-155.5966 1...\n",
              "7     MULTIPOLYGON (((-155.6122 1...\n",
              "8     MULTIPOLYGON (((-155.6162 1...\n",
              "9     MULTIPOLYGON (((-155.5946 1...\n",
              "10    MULTIPOLYGON (((-155.5991 1...\n",
              "11    MULTIPOLYGON (((-155.5225 1...\n",
              "12    MULTIPOLYGON (((-155.6126 1...\n",
              "13    MULTIPOLYGON (((-155.6204 1...\n",
              "14    MULTIPOLYGON (((-155.516 19...\n",
              "15    MULTIPOLYGON (((-155.6133 1...\n",
              "16    MULTIPOLYGON (((-155.6181 1...\n",
              "17    MULTIPOLYGON (((-155.6212 1...\n",
              "18    MULTIPOLYGON (((-155.1446 1...\n",
              "19    MULTIPOLYGON (((-155.1766 1...\n",
              "20    MULTIPOLYGON (((-155.1291 1...\n",
              "21    MULTIPOLYGON (((-155.137 19...\n",
              "22    MULTIPOLYGON (((-155.1467 1...\n",
              "23    MULTIPOLYGON (((-155.132 19...\n",
              "24    MULTIPOLYGON (((-155.1773 1...\n",
              "25    MULTIPOLYGON (((-155.1484 1...\n",
              "26    MULTIPOLYGON (((-155.1231 1...\n",
              "27    MULTIPOLYGON (((-155.1227 1...\n",
              "28    MULTIPOLYGON (((-155.1613 1...\n",
              "29    MULTIPOLYGON (((-155.1761 1...\n",
              "30    MULTIPOLYGON (((-155.1223 1...\n",
              "⋮     ⋮                             \n",
              "13526 MULTIPOLYGON (((-159.4466 2...\n",
              "13527 MULTIPOLYGON (((-159.561 22...\n",
              "13528 MULTIPOLYGON (((-159.3639 2...\n",
              "13529 MULTIPOLYGON (((-159.4668 2...\n",
              "13530 MULTIPOLYGON (((-159.3837 2...\n",
              "13531 MULTIPOLYGON (((-159.3427 2...\n",
              "13532 MULTIPOLYGON (((-159.5044 2...\n",
              "13533 MULTIPOLYGON (((-159.467 22...\n",
              "13534 MULTIPOLYGON (((-159.456 22...\n",
              "13535 MULTIPOLYGON (((-159.4045 2...\n",
              "13536 MULTIPOLYGON (((-159.4428 2...\n",
              "13537 MULTIPOLYGON (((-159.3907 2...\n",
              "13538 MULTIPOLYGON (((-159.4187 2...\n",
              "13539 MULTIPOLYGON (((-159.4202 2...\n",
              "13540 MULTIPOLYGON (((-159.3682 2...\n",
              "13541 MULTIPOLYGON (((-159.4229 2...\n",
              "13542 MULTIPOLYGON (((-159.4219 2...\n",
              "13543 MULTIPOLYGON (((-159.3824 2...\n",
              "13544 MULTIPOLYGON (((-159.5117 2...\n",
              "13545 MULTIPOLYGON (((-159.4488 2...\n",
              "13546 MULTIPOLYGON (((-159.4243 2...\n",
              "13547 MULTIPOLYGON (((-159.4398 2...\n",
              "13548 MULTIPOLYGON (((-159.4257 2...\n",
              "13549 MULTIPOLYGON (((-159.4697 2...\n",
              "13550 MULTIPOLYGON (((-159.4274 2...\n",
              "13551 MULTIPOLYGON (((-159.4286 2...\n",
              "13552 MULTIPOLYGON (((-159.4838 2...\n",
              "13553 MULTIPOLYGON (((-159.4443 2...\n",
              "13554 MULTIPOLYGON (((-159.4589 2...\n",
              "13555 MULTIPOLYGON (((-159.4506 2..."
            ]
          },
          "metadata": {}
        }
      ]
    },
    {
      "cell_type": "code",
      "source": [
        "# all wetland areas in utm 4\n",
        "# https://drive.google.com/file/d/1cKHJ95tAkl0CSoNZkdO0w2wlaH6Wr_YZ/view?usp=drive_lin\n",
        "\n",
        "drive_download(file = as_id('1cKHJ95tAkl0CSoNZkdO0w2wlaH6Wr_YZ'), path =  '/content/input_data/wetlands.gpkg', overwrite = TRUE)\n",
        "wetlands_gpkg  = st_read('/content/input_data/wetlands.gpkg')\n",
        "wetlands_gpkg"
      ],
      "metadata": {
        "id": "tI_hRaOaEUtJ",
        "outputId": "eb8ef055-a03e-4eb8-d40a-0a961f69d46b",
        "colab": {
          "base_uri": "https://localhost:8080/",
          "height": 1000
        }
      },
      "execution_count": 16,
      "outputs": [
        {
          "output_type": "stream",
          "name": "stderr",
          "text": [
            "File downloaded:\n",
            "\n",
            "• \u001b[36mwetland_AOI.gpkg\u001b[39m \u001b[90m<id: 1cKHJ95tAkl0CSoNZkdO0w2wlaH6Wr_YZ>\u001b[39m\n",
            "\n",
            "Saved locally as:\n",
            "\n",
            "• \u001b[34m/content/input_data/wetlands.gpkg\u001b[39m\n",
            "\n"
          ]
        },
        {
          "output_type": "stream",
          "name": "stdout",
          "text": [
            "Reading layer `wetland_AOI' from data source `/content/input_data/wetlands.gpkg' using driver `GPKG'\n",
            "Simple feature collection with 17 features and 6 fields\n",
            "Geometry type: MULTIPOLYGON\n",
            "Dimension:     XY\n",
            "Bounding box:  xmin: 444046 ymin: 2185865 xmax: 917131.2 ymax: 2457336\n",
            "Projected CRS: WGS 84 / UTM zone 4N\n"
          ]
        },
        {
          "output_type": "stream",
          "name": "stderr",
          "text": [
            "ERROR while rich displaying an object: Error in loadNamespace(x): there is no package called ‘geojsonio’\n",
            "\n",
            "Traceback:\n",
            "1. tryCatch(withCallingHandlers({\n",
            " .     if (!mime %in% names(repr::mime2repr)) \n",
            " .         stop(\"No repr_* for mimetype \", mime, \" in repr::mime2repr\")\n",
            " .     rpr <- repr::mime2repr[[mime]](obj)\n",
            " .     if (is.null(rpr)) \n",
            " .         return(NULL)\n",
            " .     prepare_content(is.raw(rpr), rpr)\n",
            " . }, error = error_handler), error = outer_handler)\n",
            "2. tryCatchList(expr, classes, parentenv, handlers)\n",
            "3. tryCatchOne(expr, names, parentenv, handlers[[1L]])\n",
            "4. doTryCatch(return(expr), name, parentenv, handler)\n",
            "5. withCallingHandlers({\n",
            " .     if (!mime %in% names(repr::mime2repr)) \n",
            " .         stop(\"No repr_* for mimetype \", mime, \" in repr::mime2repr\")\n",
            " .     rpr <- repr::mime2repr[[mime]](obj)\n",
            " .     if (is.null(rpr)) \n",
            " .         return(NULL)\n",
            " .     prepare_content(is.raw(rpr), rpr)\n",
            " . }, error = error_handler)\n",
            "6. repr::mime2repr[[mime]](obj)\n",
            "7. repr_geojson.sf(obj)\n",
            "8. repr_geojson(geojsonio::geojson_list(obj), ...)\n",
            "9. loadNamespace(x)\n",
            "10. withRestarts(stop(cond), retry_loadNamespace = function() NULL)\n",
            "11. withOneRestart(expr, restarts[[1L]])\n",
            "12. doWithOneRestart(return(expr), restart)\n"
          ]
        },
        {
          "output_type": "display_data",
          "data": {
            "text/html": [
              "<table class=\"dataframe\">\n",
              "<caption>A sf: 17 × 7</caption>\n",
              "<thead>\n",
              "\t<tr><th scope=col>id</th><th scope=col>island</th><th scope=col>name</th><th scope=col>lumahai</th><th scope=col>layer</th><th scope=col>path</th><th scope=col>geom</th></tr>\n",
              "\t<tr><th scope=col>&lt;dbl&gt;</th><th scope=col>&lt;chr&gt;</th><th scope=col>&lt;chr&gt;</th><th scope=col>&lt;dbl&gt;</th><th scope=col>&lt;chr&gt;</th><th scope=col>&lt;chr&gt;</th><th scope=col>&lt;MULTIPOLYGON [m]&gt;</th></tr>\n",
              "</thead>\n",
              "<tbody>\n",
              "\t<tr><td> 1</td><td>NA  </td><td>NA            </td><td>NA</td><td>anahola            </td><td>E:/Data/AOI_Shapefiles/kauai/anahola.shp             </td><td>MULTIPOLYGON (((467439.4 24...</td></tr>\n",
              "\t<tr><td> 1</td><td>NA  </td><td>NA            </td><td>NA</td><td>haleiwa            </td><td>E:/Data/AOI_Shapefiles/oahu/haleiwa.shp              </td><td>MULTIPOLYGON (((590409.2 23...</td></tr>\n",
              "\t<tr><td> 1</td><td>NA  </td><td>NA            </td><td>NA</td><td>hanalei            </td><td>E:/Data/AOI_Shapefiles/kauai/hanalei.shp             </td><td>MULTIPOLYGON (((445906 2451...</td></tr>\n",
              "\t<tr><td> 1</td><td>NA  </td><td>NA            </td><td>NA</td><td>huleia             </td><td>E:/Data/AOI_Shapefiles/kauai/huleia.shp              </td><td>MULTIPOLYGON (((459399.5 24...</td></tr>\n",
              "\t<tr><td> 1</td><td>NA  </td><td>NA            </td><td>NA</td><td>kahuku             </td><td>E:/Data/AOI_Shapefiles/oahu/kahuku.shp               </td><td>MULTIPOLYGON (((602662.2 23...</td></tr>\n",
              "\t<tr><td> 1</td><td>NA  </td><td>NA            </td><td>NA</td><td>kanaha             </td><td>E:/Data/AOI_Shapefiles/maui/kanaha.shp               </td><td>MULTIPOLYGON (((763679.9 23...</td></tr>\n",
              "\t<tr><td> 1</td><td>oahu</td><td>kawainui marsh</td><td>NA</td><td>kawainui_marsh     </td><td>E:/Data/AOI_Shapefiles/oahu/kawainui_marsh.shp       </td><td>MULTIPOLYGON (((625876.9 23...</td></tr>\n",
              "\t<tr><td> 1</td><td>NA  </td><td>NA            </td><td>NA</td><td>kealia             </td><td>E:/Data/AOI_Shapefiles/maui/kealia.shp               </td><td>MULTIPOLYGON (((759252.1 22...</td></tr>\n",
              "\t<tr><td> 1</td><td>NA  </td><td>NA            </td><td>NA</td><td>lokoaka_kionakapahu</td><td>E:/Data/AOI_Shapefiles/hawaii/lokoaka_kionakapahu.shp</td><td>MULTIPOLYGON (((914763.5 21...</td></tr>\n",
              "\t<tr><td>NA</td><td>NA  </td><td>NA            </td><td> 1</td><td>lumahai            </td><td>E:/Data/AOI_Shapefiles/kauai/lumahai.shp             </td><td>MULTIPOLYGON (((444046 2452...</td></tr>\n",
              "\t<tr><td> 1</td><td>NA  </td><td>NA            </td><td>NA</td><td>paukukalo02        </td><td>E:/Data/AOI_Shapefiles/maui/paukukalo02.shp          </td><td>MULTIPOLYGON (((758616.3 23...</td></tr>\n",
              "\t<tr><td> 1</td><td>NA  </td><td>NA            </td><td>NA</td><td>pearl_harbor       </td><td>E:/Data/AOI_Shapefiles/oahu/pearl_harbor.shp         </td><td>MULTIPOLYGON (((599581.1 23...</td></tr>\n",
              "\t<tr><td> 1</td><td>NA  </td><td>NA            </td><td>NA</td><td>pololu             </td><td>E:/Data/AOI_Shapefiles/hawaii/pololu.shp             </td><td>MULTIPOLYGON (((840462.3 22...</td></tr>\n",
              "\t<tr><td> 1</td><td>NA  </td><td>NA            </td><td>NA</td><td>waihee02           </td><td>E:/Data/AOI_Shapefiles/maui/waihee02.shp             </td><td>MULTIPOLYGON (((757873.3 23...</td></tr>\n",
              "\t<tr><td> 1</td><td>NA  </td><td>NA            </td><td>NA</td><td>wailua_opaekaa     </td><td>E:/Data/AOI_Shapefiles/kauai/wailua_opaekaa.shp      </td><td>MULTIPOLYGON (((464124.8 24...</td></tr>\n",
              "\t<tr><td> 1</td><td>NA  </td><td>NA            </td><td>NA</td><td>waimanu            </td><td>E:/Data/AOI_Shapefiles/hawaii/waimanu.shp            </td><td>MULTIPOLYGON (((850383 2228...</td></tr>\n",
              "\t<tr><td> 1</td><td>NA  </td><td>NA            </td><td>NA</td><td>waipio             </td><td>E:/Data/AOI_Shapefiles/hawaii/waipio.shp             </td><td>MULTIPOLYGON (((853985.5 22...</td></tr>\n",
              "</tbody>\n",
              "</table>\n"
            ],
            "text/markdown": "\nA sf: 17 × 7\n\n| id &lt;dbl&gt; | island &lt;chr&gt; | name &lt;chr&gt; | lumahai &lt;dbl&gt; | layer &lt;chr&gt; | path &lt;chr&gt; | geom &lt;MULTIPOLYGON [m]&gt; |\n|---|---|---|---|---|---|---|\n|  1 | NA   | NA             | NA | anahola             | E:/Data/AOI_Shapefiles/kauai/anahola.shp              | MULTIPOLYGON (((467439.4 24... |\n|  1 | NA   | NA             | NA | haleiwa             | E:/Data/AOI_Shapefiles/oahu/haleiwa.shp               | MULTIPOLYGON (((590409.2 23... |\n|  1 | NA   | NA             | NA | hanalei             | E:/Data/AOI_Shapefiles/kauai/hanalei.shp              | MULTIPOLYGON (((445906 2451... |\n|  1 | NA   | NA             | NA | huleia              | E:/Data/AOI_Shapefiles/kauai/huleia.shp               | MULTIPOLYGON (((459399.5 24... |\n|  1 | NA   | NA             | NA | kahuku              | E:/Data/AOI_Shapefiles/oahu/kahuku.shp                | MULTIPOLYGON (((602662.2 23... |\n|  1 | NA   | NA             | NA | kanaha              | E:/Data/AOI_Shapefiles/maui/kanaha.shp                | MULTIPOLYGON (((763679.9 23... |\n|  1 | oahu | kawainui marsh | NA | kawainui_marsh      | E:/Data/AOI_Shapefiles/oahu/kawainui_marsh.shp        | MULTIPOLYGON (((625876.9 23... |\n|  1 | NA   | NA             | NA | kealia              | E:/Data/AOI_Shapefiles/maui/kealia.shp                | MULTIPOLYGON (((759252.1 22... |\n|  1 | NA   | NA             | NA | lokoaka_kionakapahu | E:/Data/AOI_Shapefiles/hawaii/lokoaka_kionakapahu.shp | MULTIPOLYGON (((914763.5 21... |\n| NA | NA   | NA             |  1 | lumahai             | E:/Data/AOI_Shapefiles/kauai/lumahai.shp              | MULTIPOLYGON (((444046 2452... |\n|  1 | NA   | NA             | NA | paukukalo02         | E:/Data/AOI_Shapefiles/maui/paukukalo02.shp           | MULTIPOLYGON (((758616.3 23... |\n|  1 | NA   | NA             | NA | pearl_harbor        | E:/Data/AOI_Shapefiles/oahu/pearl_harbor.shp          | MULTIPOLYGON (((599581.1 23... |\n|  1 | NA   | NA             | NA | pololu              | E:/Data/AOI_Shapefiles/hawaii/pololu.shp              | MULTIPOLYGON (((840462.3 22... |\n|  1 | NA   | NA             | NA | waihee02            | E:/Data/AOI_Shapefiles/maui/waihee02.shp              | MULTIPOLYGON (((757873.3 23... |\n|  1 | NA   | NA             | NA | wailua_opaekaa      | E:/Data/AOI_Shapefiles/kauai/wailua_opaekaa.shp       | MULTIPOLYGON (((464124.8 24... |\n|  1 | NA   | NA             | NA | waimanu             | E:/Data/AOI_Shapefiles/hawaii/waimanu.shp             | MULTIPOLYGON (((850383 2228... |\n|  1 | NA   | NA             | NA | waipio              | E:/Data/AOI_Shapefiles/hawaii/waipio.shp              | MULTIPOLYGON (((853985.5 22... |\n\n",
            "text/latex": "A sf: 17 × 7\n\\begin{tabular}{lllllll}\n id & island & name & lumahai & layer & path & geom\\\\\n <dbl> & <chr> & <chr> & <dbl> & <chr> & <chr> & <MULTIPOLYGON {[}m{]}>\\\\\n\\hline\n\t  1 & NA   & NA             & NA & anahola             & E:/Data/AOI\\_Shapefiles/kauai/anahola.shp              & MULTIPOLYGON (((467439.4 24...\\\\\n\t  1 & NA   & NA             & NA & haleiwa             & E:/Data/AOI\\_Shapefiles/oahu/haleiwa.shp               & MULTIPOLYGON (((590409.2 23...\\\\\n\t  1 & NA   & NA             & NA & hanalei             & E:/Data/AOI\\_Shapefiles/kauai/hanalei.shp              & MULTIPOLYGON (((445906 2451...\\\\\n\t  1 & NA   & NA             & NA & huleia              & E:/Data/AOI\\_Shapefiles/kauai/huleia.shp               & MULTIPOLYGON (((459399.5 24...\\\\\n\t  1 & NA   & NA             & NA & kahuku              & E:/Data/AOI\\_Shapefiles/oahu/kahuku.shp                & MULTIPOLYGON (((602662.2 23...\\\\\n\t  1 & NA   & NA             & NA & kanaha              & E:/Data/AOI\\_Shapefiles/maui/kanaha.shp                & MULTIPOLYGON (((763679.9 23...\\\\\n\t  1 & oahu & kawainui marsh & NA & kawainui\\_marsh      & E:/Data/AOI\\_Shapefiles/oahu/kawainui\\_marsh.shp        & MULTIPOLYGON (((625876.9 23...\\\\\n\t  1 & NA   & NA             & NA & kealia              & E:/Data/AOI\\_Shapefiles/maui/kealia.shp                & MULTIPOLYGON (((759252.1 22...\\\\\n\t  1 & NA   & NA             & NA & lokoaka\\_kionakapahu & E:/Data/AOI\\_Shapefiles/hawaii/lokoaka\\_kionakapahu.shp & MULTIPOLYGON (((914763.5 21...\\\\\n\t NA & NA   & NA             &  1 & lumahai             & E:/Data/AOI\\_Shapefiles/kauai/lumahai.shp              & MULTIPOLYGON (((444046 2452...\\\\\n\t  1 & NA   & NA             & NA & paukukalo02         & E:/Data/AOI\\_Shapefiles/maui/paukukalo02.shp           & MULTIPOLYGON (((758616.3 23...\\\\\n\t  1 & NA   & NA             & NA & pearl\\_harbor        & E:/Data/AOI\\_Shapefiles/oahu/pearl\\_harbor.shp          & MULTIPOLYGON (((599581.1 23...\\\\\n\t  1 & NA   & NA             & NA & pololu              & E:/Data/AOI\\_Shapefiles/hawaii/pololu.shp              & MULTIPOLYGON (((840462.3 22...\\\\\n\t  1 & NA   & NA             & NA & waihee02            & E:/Data/AOI\\_Shapefiles/maui/waihee02.shp              & MULTIPOLYGON (((757873.3 23...\\\\\n\t  1 & NA   & NA             & NA & wailua\\_opaekaa      & E:/Data/AOI\\_Shapefiles/kauai/wailua\\_opaekaa.shp       & MULTIPOLYGON (((464124.8 24...\\\\\n\t  1 & NA   & NA             & NA & waimanu             & E:/Data/AOI\\_Shapefiles/hawaii/waimanu.shp             & MULTIPOLYGON (((850383 2228...\\\\\n\t  1 & NA   & NA             & NA & waipio              & E:/Data/AOI\\_Shapefiles/hawaii/waipio.shp              & MULTIPOLYGON (((853985.5 22...\\\\\n\\end{tabular}\n",
            "text/plain": [
              "   id island name           lumahai layer              \n",
              "1   1 NA     NA             NA      anahola            \n",
              "2   1 NA     NA             NA      haleiwa            \n",
              "3   1 NA     NA             NA      hanalei            \n",
              "4   1 NA     NA             NA      huleia             \n",
              "5   1 NA     NA             NA      kahuku             \n",
              "6   1 NA     NA             NA      kanaha             \n",
              "7   1 oahu   kawainui marsh NA      kawainui_marsh     \n",
              "8   1 NA     NA             NA      kealia             \n",
              "9   1 NA     NA             NA      lokoaka_kionakapahu\n",
              "10 NA NA     NA              1      lumahai            \n",
              "11  1 NA     NA             NA      paukukalo02        \n",
              "12  1 NA     NA             NA      pearl_harbor       \n",
              "13  1 NA     NA             NA      pololu             \n",
              "14  1 NA     NA             NA      waihee02           \n",
              "15  1 NA     NA             NA      wailua_opaekaa     \n",
              "16  1 NA     NA             NA      waimanu            \n",
              "17  1 NA     NA             NA      waipio             \n",
              "   path                                                 \n",
              "1  E:/Data/AOI_Shapefiles/kauai/anahola.shp             \n",
              "2  E:/Data/AOI_Shapefiles/oahu/haleiwa.shp              \n",
              "3  E:/Data/AOI_Shapefiles/kauai/hanalei.shp             \n",
              "4  E:/Data/AOI_Shapefiles/kauai/huleia.shp              \n",
              "5  E:/Data/AOI_Shapefiles/oahu/kahuku.shp               \n",
              "6  E:/Data/AOI_Shapefiles/maui/kanaha.shp               \n",
              "7  E:/Data/AOI_Shapefiles/oahu/kawainui_marsh.shp       \n",
              "8  E:/Data/AOI_Shapefiles/maui/kealia.shp               \n",
              "9  E:/Data/AOI_Shapefiles/hawaii/lokoaka_kionakapahu.shp\n",
              "10 E:/Data/AOI_Shapefiles/kauai/lumahai.shp             \n",
              "11 E:/Data/AOI_Shapefiles/maui/paukukalo02.shp          \n",
              "12 E:/Data/AOI_Shapefiles/oahu/pearl_harbor.shp         \n",
              "13 E:/Data/AOI_Shapefiles/hawaii/pololu.shp             \n",
              "14 E:/Data/AOI_Shapefiles/maui/waihee02.shp             \n",
              "15 E:/Data/AOI_Shapefiles/kauai/wailua_opaekaa.shp      \n",
              "16 E:/Data/AOI_Shapefiles/hawaii/waimanu.shp            \n",
              "17 E:/Data/AOI_Shapefiles/hawaii/waipio.shp             \n",
              "   geom                          \n",
              "1  MULTIPOLYGON (((467439.4 24...\n",
              "2  MULTIPOLYGON (((590409.2 23...\n",
              "3  MULTIPOLYGON (((445906 2451...\n",
              "4  MULTIPOLYGON (((459399.5 24...\n",
              "5  MULTIPOLYGON (((602662.2 23...\n",
              "6  MULTIPOLYGON (((763679.9 23...\n",
              "7  MULTIPOLYGON (((625876.9 23...\n",
              "8  MULTIPOLYGON (((759252.1 22...\n",
              "9  MULTIPOLYGON (((914763.5 21...\n",
              "10 MULTIPOLYGON (((444046 2452...\n",
              "11 MULTIPOLYGON (((758616.3 23...\n",
              "12 MULTIPOLYGON (((599581.1 23...\n",
              "13 MULTIPOLYGON (((840462.3 22...\n",
              "14 MULTIPOLYGON (((757873.3 23...\n",
              "15 MULTIPOLYGON (((464124.8 24...\n",
              "16 MULTIPOLYGON (((850383 2228...\n",
              "17 MULTIPOLYGON (((853985.5 22..."
            ]
          },
          "metadata": {}
        }
      ]
    },
    {
      "cell_type": "code",
      "source": [
        "# split wetland aois between utm 4 and utm 5\n",
        "\n",
        "# # https://drive.google.com/file/d/1e8uLLUpsN-BJevTlQvrezkQzv4-csQOY/view?usp=drive_link\n",
        "# drive_download(file = as_id('1e8uLLUpsN-BJevTlQvrezkQzv4-csQOY'), path =  '/content/input_data/wetlands_4.gpkg', overwrite = TRUE)\n",
        "# wetlands_gpkg_4  = st_read('/content/input_data/wetlands_4.gpkg')\n",
        "# wetlands_gpkg_4\n"
      ],
      "metadata": {
        "id": "ug0fFy8ttGHA"
      },
      "execution_count": 17,
      "outputs": []
    },
    {
      "cell_type": "code",
      "source": [
        "# # https://drive.google.com/file/d/1fj2ebpkGNNpIPBRyi2hOyeNWlVlzUD7L/view?usp=drive_link\n",
        "# drive_download(file = as_id('1fj2ebpkGNNpIPBRyi2hOyeNWlVlzUD7L'), path =  '/content/input_data/wetlands_5.gpkg', overwrite = TRUE)\n",
        "# wetlands_gpkg_5  = st_read('/content/input_data/wetlands_5.gpkg')\n",
        "# wetlands_gpkg_5"
      ],
      "metadata": {
        "id": "venugVPpn1XX"
      },
      "execution_count": 18,
      "outputs": []
    },
    {
      "cell_type": "code",
      "source": [
        "# https://drive.google.com/file/d/1foSde5txo6hPvWp4kcQF8We2WTDqDpYh/view?usp=drive_link\n",
        "drive_download(file = as_id('1foSde5txo6hPvWp4kcQF8We2WTDqDpYh'), path =  '/content/input_data/nlcd_hi_2001', overwrite = TRUE)\n",
        "nlcd_tif <- raster('/content/input_data/nlcd_hi_2001')\n",
        "nlcd_tif"
      ],
      "metadata": {
        "colab": {
          "base_uri": "https://localhost:8080/",
          "height": 277
        },
        "id": "E0IWJ0GYKkRf",
        "outputId": "354d0411-4b62-441e-ce98-3a4ec6c0ab80"
      },
      "execution_count": 19,
      "outputs": [
        {
          "output_type": "stream",
          "name": "stderr",
          "text": [
            "File downloaded:\n",
            "\n",
            "• \u001b[36mnlcd_hi_2001.tif\u001b[39m \u001b[90m<id: 1foSde5txo6hPvWp4kcQF8We2WTDqDpYh>\u001b[39m\n",
            "\n",
            "Saved locally as:\n",
            "\n",
            "• \u001b[34m/content/input_data/nlcd_hi_2001\u001b[39m\n",
            "\n"
          ]
        },
        {
          "output_type": "display_data",
          "data": {
            "text/plain": [
              "class      : RasterLayer \n",
              "dimensions : 12618, 19439, 245281302  (nrow, ncol, ncell)\n",
              "resolution : 30, 30  (x, y)\n",
              "extent     : -345945, 237225, 1753875, 2132415  (xmin, xmax, ymin, ymax)\n",
              "crs        : +proj=aea +lat_0=3 +lon_0=-157 +lat_1=8 +lat_2=18 +x_0=0 +y_0=0 +datum=WGS84 +units=m +no_defs \n",
              "source     : nlcd_hi_2001 \n",
              "names      : nlcd_hi_2001 \n"
            ]
          },
          "metadata": {}
        }
      ]
    },
    {
      "cell_type": "code",
      "source": [
        "wetlands_gpkg %>% st_crs"
      ],
      "metadata": {
        "id": "BqfC-Nr6Fa7x",
        "outputId": "21150727-358c-4322-f478-3c3c2e4e7cb3",
        "colab": {
          "base_uri": "https://localhost:8080/",
          "height": 868
        }
      },
      "execution_count": 20,
      "outputs": [
        {
          "output_type": "display_data",
          "data": {
            "text/plain": [
              "Coordinate Reference System:\n",
              "  User input: WGS 84 / UTM zone 4N \n",
              "  wkt:\n",
              "PROJCRS[\"WGS 84 / UTM zone 4N\",\n",
              "    BASEGEOGCRS[\"WGS 84\",\n",
              "        ENSEMBLE[\"World Geodetic System 1984 ensemble\",\n",
              "            MEMBER[\"World Geodetic System 1984 (Transit)\"],\n",
              "            MEMBER[\"World Geodetic System 1984 (G730)\"],\n",
              "            MEMBER[\"World Geodetic System 1984 (G873)\"],\n",
              "            MEMBER[\"World Geodetic System 1984 (G1150)\"],\n",
              "            MEMBER[\"World Geodetic System 1984 (G1674)\"],\n",
              "            MEMBER[\"World Geodetic System 1984 (G1762)\"],\n",
              "            MEMBER[\"World Geodetic System 1984 (G2139)\"],\n",
              "            ELLIPSOID[\"WGS 84\",6378137,298.257223563,\n",
              "                LENGTHUNIT[\"metre\",1]],\n",
              "            ENSEMBLEACCURACY[2.0]],\n",
              "        PRIMEM[\"Greenwich\",0,\n",
              "            ANGLEUNIT[\"degree\",0.0174532925199433]],\n",
              "        ID[\"EPSG\",4326]],\n",
              "    CONVERSION[\"UTM zone 4N\",\n",
              "        METHOD[\"Transverse Mercator\",\n",
              "            ID[\"EPSG\",9807]],\n",
              "        PARAMETER[\"Latitude of natural origin\",0,\n",
              "            ANGLEUNIT[\"degree\",0.0174532925199433],\n",
              "            ID[\"EPSG\",8801]],\n",
              "        PARAMETER[\"Longitude of natural origin\",-159,\n",
              "            ANGLEUNIT[\"degree\",0.0174532925199433],\n",
              "            ID[\"EPSG\",8802]],\n",
              "        PARAMETER[\"Scale factor at natural origin\",0.9996,\n",
              "            SCALEUNIT[\"unity\",1],\n",
              "            ID[\"EPSG\",8805]],\n",
              "        PARAMETER[\"False easting\",500000,\n",
              "            LENGTHUNIT[\"metre\",1],\n",
              "            ID[\"EPSG\",8806]],\n",
              "        PARAMETER[\"False northing\",0,\n",
              "            LENGTHUNIT[\"metre\",1],\n",
              "            ID[\"EPSG\",8807]]],\n",
              "    CS[Cartesian,2],\n",
              "        AXIS[\"(E)\",east,\n",
              "            ORDER[1],\n",
              "            LENGTHUNIT[\"metre\",1]],\n",
              "        AXIS[\"(N)\",north,\n",
              "            ORDER[2],\n",
              "            LENGTHUNIT[\"metre\",1]],\n",
              "    USAGE[\n",
              "        SCOPE[\"Engineering survey, topographic mapping.\"],\n",
              "        AREA[\"Between 162°W and 156°W, northern hemisphere between equator and 84°N, onshore and offshore. United States (USA) - Alaska (AK).\"],\n",
              "        BBOX[0,-162,84,-156]],\n",
              "    ID[\"EPSG\",32604]]"
            ]
          },
          "metadata": {}
        }
      ]
    },
    {
      "cell_type": "code",
      "source": [
        "naip_index_gpkg %>% st_crs"
      ],
      "metadata": {
        "id": "9Cd-N0muHIX_",
        "outputId": "4225297b-2ca5-44a5-8ea4-0cdd7d0a20a9",
        "colab": {
          "base_uri": "https://localhost:8080/",
          "height": 312
        }
      },
      "execution_count": 21,
      "outputs": [
        {
          "output_type": "display_data",
          "data": {
            "text/plain": [
              "Coordinate Reference System:\n",
              "  User input: NAD83 \n",
              "  wkt:\n",
              "GEOGCRS[\"NAD83\",\n",
              "    DATUM[\"North American Datum 1983\",\n",
              "        ELLIPSOID[\"GRS 1980\",6378137,298.257222101,\n",
              "            LENGTHUNIT[\"metre\",1]]],\n",
              "    PRIMEM[\"Greenwich\",0,\n",
              "        ANGLEUNIT[\"degree\",0.0174532925199433]],\n",
              "    CS[ellipsoidal,2],\n",
              "        AXIS[\"latitude\",north,\n",
              "            ORDER[1],\n",
              "            ANGLEUNIT[\"degree\",0.0174532925199433]],\n",
              "        AXIS[\"longitude\",east,\n",
              "            ORDER[2],\n",
              "            ANGLEUNIT[\"degree\",0.0174532925199433]],\n",
              "    ID[\"EPSG\",4269]]"
            ]
          },
          "metadata": {}
        }
      ]
    },
    {
      "cell_type": "code",
      "source": [
        "nwi_gpkg %>% st_crs"
      ],
      "metadata": {
        "id": "xQvYVuFjHLUB",
        "outputId": "31ca4243-508e-4403-c4de-4afc102ad874",
        "colab": {
          "base_uri": "https://localhost:8080/",
          "height": 520
        }
      },
      "execution_count": 22,
      "outputs": [
        {
          "output_type": "display_data",
          "data": {
            "text/plain": [
              "Coordinate Reference System:\n",
              "  User input: WGS 84 \n",
              "  wkt:\n",
              "GEOGCRS[\"WGS 84\",\n",
              "    ENSEMBLE[\"World Geodetic System 1984 ensemble\",\n",
              "        MEMBER[\"World Geodetic System 1984 (Transit)\"],\n",
              "        MEMBER[\"World Geodetic System 1984 (G730)\"],\n",
              "        MEMBER[\"World Geodetic System 1984 (G873)\"],\n",
              "        MEMBER[\"World Geodetic System 1984 (G1150)\"],\n",
              "        MEMBER[\"World Geodetic System 1984 (G1674)\"],\n",
              "        MEMBER[\"World Geodetic System 1984 (G1762)\"],\n",
              "        MEMBER[\"World Geodetic System 1984 (G2139)\"],\n",
              "        ELLIPSOID[\"WGS 84\",6378137,298.257223563,\n",
              "            LENGTHUNIT[\"metre\",1]],\n",
              "        ENSEMBLEACCURACY[2.0]],\n",
              "    PRIMEM[\"Greenwich\",0,\n",
              "        ANGLEUNIT[\"degree\",0.0174532925199433]],\n",
              "    CS[ellipsoidal,2],\n",
              "        AXIS[\"geodetic latitude (Lat)\",north,\n",
              "            ORDER[1],\n",
              "            ANGLEUNIT[\"degree\",0.0174532925199433]],\n",
              "        AXIS[\"geodetic longitude (Lon)\",east,\n",
              "            ORDER[2],\n",
              "            ANGLEUNIT[\"degree\",0.0174532925199433]],\n",
              "    USAGE[\n",
              "        SCOPE[\"Horizontal component of 3D system.\"],\n",
              "        AREA[\"World.\"],\n",
              "        BBOX[-90,-180,90,180]],\n",
              "    ID[\"EPSG\",4326]]"
            ]
          },
          "metadata": {}
        }
      ]
    },
    {
      "cell_type": "code",
      "source": [
        "nlcd_tif %>% st_crs"
      ],
      "metadata": {
        "id": "w18UiNyZH1ly",
        "outputId": "5b230956-c268-4e24-87bf-47db844d5618",
        "colab": {
          "base_uri": "https://localhost:8080/",
          "height": 746
        }
      },
      "execution_count": 23,
      "outputs": [
        {
          "output_type": "display_data",
          "data": {
            "text/plain": [
              "Coordinate Reference System:\n",
              "  User input: +proj=aea +lat_0=3 +lon_0=-157 +lat_1=8 +lat_2=18 +x_0=0 +y_0=0 +datum=WGS84 +units=m +no_defs \n",
              "  wkt:\n",
              "PROJCRS[\"unknown\",\n",
              "    BASEGEOGCRS[\"unknown\",\n",
              "        DATUM[\"World Geodetic System 1984\",\n",
              "            ELLIPSOID[\"WGS 84\",6378137,298.257223563,\n",
              "                LENGTHUNIT[\"metre\",1]],\n",
              "            ID[\"EPSG\",6326]],\n",
              "        PRIMEM[\"Greenwich\",0,\n",
              "            ANGLEUNIT[\"degree\",0.0174532925199433],\n",
              "            ID[\"EPSG\",8901]]],\n",
              "    CONVERSION[\"unknown\",\n",
              "        METHOD[\"Albers Equal Area\",\n",
              "            ID[\"EPSG\",9822]],\n",
              "        PARAMETER[\"Latitude of false origin\",3,\n",
              "            ANGLEUNIT[\"degree\",0.0174532925199433],\n",
              "            ID[\"EPSG\",8821]],\n",
              "        PARAMETER[\"Longitude of false origin\",-157,\n",
              "            ANGLEUNIT[\"degree\",0.0174532925199433],\n",
              "            ID[\"EPSG\",8822]],\n",
              "        PARAMETER[\"Latitude of 1st standard parallel\",8,\n",
              "            ANGLEUNIT[\"degree\",0.0174532925199433],\n",
              "            ID[\"EPSG\",8823]],\n",
              "        PARAMETER[\"Latitude of 2nd standard parallel\",18,\n",
              "            ANGLEUNIT[\"degree\",0.0174532925199433],\n",
              "            ID[\"EPSG\",8824]],\n",
              "        PARAMETER[\"Easting at false origin\",0,\n",
              "            LENGTHUNIT[\"metre\",1],\n",
              "            ID[\"EPSG\",8826]],\n",
              "        PARAMETER[\"Northing at false origin\",0,\n",
              "            LENGTHUNIT[\"metre\",1],\n",
              "            ID[\"EPSG\",8827]]],\n",
              "    CS[Cartesian,2],\n",
              "        AXIS[\"(E)\",east,\n",
              "            ORDER[1],\n",
              "            LENGTHUNIT[\"metre\",1,\n",
              "                ID[\"EPSG\",9001]]],\n",
              "        AXIS[\"(N)\",north,\n",
              "            ORDER[2],\n",
              "            LENGTHUNIT[\"metre\",1,\n",
              "                ID[\"EPSG\",9001]]]]"
            ]
          },
          "metadata": {}
        }
      ]
    },
    {
      "cell_type": "code",
      "source": [
        "# Convert coordinate systems to WGS84 UTM Zone 4N (EPSG:32604)\n",
        "Naip_index_wgs84_utm <- st_transform(naip_index_gpkg, crs = 32604)"
      ],
      "metadata": {
        "id": "ARMCNrDWIngg"
      },
      "execution_count": 24,
      "outputs": []
    },
    {
      "cell_type": "code",
      "source": [
        "Naip_index_wgs84_utm %>% st_crs"
      ],
      "metadata": {
        "id": "4YJoAuuPIwLc",
        "outputId": "7e4b0942-703c-47ef-9f9a-b88f066aad02",
        "colab": {
          "base_uri": "https://localhost:8080/",
          "height": 868
        }
      },
      "execution_count": 25,
      "outputs": [
        {
          "output_type": "display_data",
          "data": {
            "text/plain": [
              "Coordinate Reference System:\n",
              "  User input: EPSG:32604 \n",
              "  wkt:\n",
              "PROJCRS[\"WGS 84 / UTM zone 4N\",\n",
              "    BASEGEOGCRS[\"WGS 84\",\n",
              "        ENSEMBLE[\"World Geodetic System 1984 ensemble\",\n",
              "            MEMBER[\"World Geodetic System 1984 (Transit)\"],\n",
              "            MEMBER[\"World Geodetic System 1984 (G730)\"],\n",
              "            MEMBER[\"World Geodetic System 1984 (G873)\"],\n",
              "            MEMBER[\"World Geodetic System 1984 (G1150)\"],\n",
              "            MEMBER[\"World Geodetic System 1984 (G1674)\"],\n",
              "            MEMBER[\"World Geodetic System 1984 (G1762)\"],\n",
              "            MEMBER[\"World Geodetic System 1984 (G2139)\"],\n",
              "            ELLIPSOID[\"WGS 84\",6378137,298.257223563,\n",
              "                LENGTHUNIT[\"metre\",1]],\n",
              "            ENSEMBLEACCURACY[2.0]],\n",
              "        PRIMEM[\"Greenwich\",0,\n",
              "            ANGLEUNIT[\"degree\",0.0174532925199433]],\n",
              "        ID[\"EPSG\",4326]],\n",
              "    CONVERSION[\"UTM zone 4N\",\n",
              "        METHOD[\"Transverse Mercator\",\n",
              "            ID[\"EPSG\",9807]],\n",
              "        PARAMETER[\"Latitude of natural origin\",0,\n",
              "            ANGLEUNIT[\"degree\",0.0174532925199433],\n",
              "            ID[\"EPSG\",8801]],\n",
              "        PARAMETER[\"Longitude of natural origin\",-159,\n",
              "            ANGLEUNIT[\"degree\",0.0174532925199433],\n",
              "            ID[\"EPSG\",8802]],\n",
              "        PARAMETER[\"Scale factor at natural origin\",0.9996,\n",
              "            SCALEUNIT[\"unity\",1],\n",
              "            ID[\"EPSG\",8805]],\n",
              "        PARAMETER[\"False easting\",500000,\n",
              "            LENGTHUNIT[\"metre\",1],\n",
              "            ID[\"EPSG\",8806]],\n",
              "        PARAMETER[\"False northing\",0,\n",
              "            LENGTHUNIT[\"metre\",1],\n",
              "            ID[\"EPSG\",8807]]],\n",
              "    CS[Cartesian,2],\n",
              "        AXIS[\"(E)\",east,\n",
              "            ORDER[1],\n",
              "            LENGTHUNIT[\"metre\",1]],\n",
              "        AXIS[\"(N)\",north,\n",
              "            ORDER[2],\n",
              "            LENGTHUNIT[\"metre\",1]],\n",
              "    USAGE[\n",
              "        SCOPE[\"Engineering survey, topographic mapping.\"],\n",
              "        AREA[\"Between 162°W and 156°W, northern hemisphere between equator and 84°N, onshore and offshore. United States (USA) - Alaska (AK).\"],\n",
              "        BBOX[0,-162,84,-156]],\n",
              "    ID[\"EPSG\",32604]]"
            ]
          },
          "metadata": {}
        }
      ]
    },
    {
      "cell_type": "code",
      "source": [
        "# Convert coordinate systems to WGS84 UTM Zone 4N (EPSG:32604)\n",
        "Nwi_wgs84_utm <- st_transform(nwi_gpkg, crs = 32604)"
      ],
      "metadata": {
        "id": "p7CBo2LTJN0V"
      },
      "execution_count": 26,
      "outputs": []
    },
    {
      "cell_type": "code",
      "source": [
        "Nwi_wgs84_utm %>% st_crs"
      ],
      "metadata": {
        "id": "l9GSGcouJVID",
        "outputId": "1193037e-a338-4a9c-c568-4f270a39f756",
        "colab": {
          "base_uri": "https://localhost:8080/",
          "height": 868
        }
      },
      "execution_count": 27,
      "outputs": [
        {
          "output_type": "display_data",
          "data": {
            "text/plain": [
              "Coordinate Reference System:\n",
              "  User input: EPSG:32604 \n",
              "  wkt:\n",
              "PROJCRS[\"WGS 84 / UTM zone 4N\",\n",
              "    BASEGEOGCRS[\"WGS 84\",\n",
              "        ENSEMBLE[\"World Geodetic System 1984 ensemble\",\n",
              "            MEMBER[\"World Geodetic System 1984 (Transit)\"],\n",
              "            MEMBER[\"World Geodetic System 1984 (G730)\"],\n",
              "            MEMBER[\"World Geodetic System 1984 (G873)\"],\n",
              "            MEMBER[\"World Geodetic System 1984 (G1150)\"],\n",
              "            MEMBER[\"World Geodetic System 1984 (G1674)\"],\n",
              "            MEMBER[\"World Geodetic System 1984 (G1762)\"],\n",
              "            MEMBER[\"World Geodetic System 1984 (G2139)\"],\n",
              "            ELLIPSOID[\"WGS 84\",6378137,298.257223563,\n",
              "                LENGTHUNIT[\"metre\",1]],\n",
              "            ENSEMBLEACCURACY[2.0]],\n",
              "        PRIMEM[\"Greenwich\",0,\n",
              "            ANGLEUNIT[\"degree\",0.0174532925199433]],\n",
              "        ID[\"EPSG\",4326]],\n",
              "    CONVERSION[\"UTM zone 4N\",\n",
              "        METHOD[\"Transverse Mercator\",\n",
              "            ID[\"EPSG\",9807]],\n",
              "        PARAMETER[\"Latitude of natural origin\",0,\n",
              "            ANGLEUNIT[\"degree\",0.0174532925199433],\n",
              "            ID[\"EPSG\",8801]],\n",
              "        PARAMETER[\"Longitude of natural origin\",-159,\n",
              "            ANGLEUNIT[\"degree\",0.0174532925199433],\n",
              "            ID[\"EPSG\",8802]],\n",
              "        PARAMETER[\"Scale factor at natural origin\",0.9996,\n",
              "            SCALEUNIT[\"unity\",1],\n",
              "            ID[\"EPSG\",8805]],\n",
              "        PARAMETER[\"False easting\",500000,\n",
              "            LENGTHUNIT[\"metre\",1],\n",
              "            ID[\"EPSG\",8806]],\n",
              "        PARAMETER[\"False northing\",0,\n",
              "            LENGTHUNIT[\"metre\",1],\n",
              "            ID[\"EPSG\",8807]]],\n",
              "    CS[Cartesian,2],\n",
              "        AXIS[\"(E)\",east,\n",
              "            ORDER[1],\n",
              "            LENGTHUNIT[\"metre\",1]],\n",
              "        AXIS[\"(N)\",north,\n",
              "            ORDER[2],\n",
              "            LENGTHUNIT[\"metre\",1]],\n",
              "    USAGE[\n",
              "        SCOPE[\"Engineering survey, topographic mapping.\"],\n",
              "        AREA[\"Between 162°W and 156°W, northern hemisphere between equator and 84°N, onshore and offshore. United States (USA) - Alaska (AK).\"],\n",
              "        BBOX[0,-162,84,-156]],\n",
              "    ID[\"EPSG\",32604]]"
            ]
          },
          "metadata": {}
        }
      ]
    },
    {
      "cell_type": "code",
      "source": [
        "# Convert coordinate systems to WGS84 UTM Zone 4N (EPSG:32604)\n",
        "Wetlands_wgs84_utm <- st_transform(wetlands_gpkg, crs = 32604)"
      ],
      "metadata": {
        "id": "ou4Mj9IOJbo7"
      },
      "execution_count": 28,
      "outputs": []
    },
    {
      "cell_type": "code",
      "source": [
        "Wetlands_wgs84_utm %>% st_crs"
      ],
      "metadata": {
        "id": "Jb4_cR-7JnNR",
        "outputId": "123f6fc4-a8f3-41d1-a735-e9b90f63f28a",
        "colab": {
          "base_uri": "https://localhost:8080/",
          "height": 868
        }
      },
      "execution_count": 29,
      "outputs": [
        {
          "output_type": "display_data",
          "data": {
            "text/plain": [
              "Coordinate Reference System:\n",
              "  User input: EPSG:32604 \n",
              "  wkt:\n",
              "PROJCRS[\"WGS 84 / UTM zone 4N\",\n",
              "    BASEGEOGCRS[\"WGS 84\",\n",
              "        ENSEMBLE[\"World Geodetic System 1984 ensemble\",\n",
              "            MEMBER[\"World Geodetic System 1984 (Transit)\"],\n",
              "            MEMBER[\"World Geodetic System 1984 (G730)\"],\n",
              "            MEMBER[\"World Geodetic System 1984 (G873)\"],\n",
              "            MEMBER[\"World Geodetic System 1984 (G1150)\"],\n",
              "            MEMBER[\"World Geodetic System 1984 (G1674)\"],\n",
              "            MEMBER[\"World Geodetic System 1984 (G1762)\"],\n",
              "            MEMBER[\"World Geodetic System 1984 (G2139)\"],\n",
              "            ELLIPSOID[\"WGS 84\",6378137,298.257223563,\n",
              "                LENGTHUNIT[\"metre\",1]],\n",
              "            ENSEMBLEACCURACY[2.0]],\n",
              "        PRIMEM[\"Greenwich\",0,\n",
              "            ANGLEUNIT[\"degree\",0.0174532925199433]],\n",
              "        ID[\"EPSG\",4326]],\n",
              "    CONVERSION[\"UTM zone 4N\",\n",
              "        METHOD[\"Transverse Mercator\",\n",
              "            ID[\"EPSG\",9807]],\n",
              "        PARAMETER[\"Latitude of natural origin\",0,\n",
              "            ANGLEUNIT[\"degree\",0.0174532925199433],\n",
              "            ID[\"EPSG\",8801]],\n",
              "        PARAMETER[\"Longitude of natural origin\",-159,\n",
              "            ANGLEUNIT[\"degree\",0.0174532925199433],\n",
              "            ID[\"EPSG\",8802]],\n",
              "        PARAMETER[\"Scale factor at natural origin\",0.9996,\n",
              "            SCALEUNIT[\"unity\",1],\n",
              "            ID[\"EPSG\",8805]],\n",
              "        PARAMETER[\"False easting\",500000,\n",
              "            LENGTHUNIT[\"metre\",1],\n",
              "            ID[\"EPSG\",8806]],\n",
              "        PARAMETER[\"False northing\",0,\n",
              "            LENGTHUNIT[\"metre\",1],\n",
              "            ID[\"EPSG\",8807]]],\n",
              "    CS[Cartesian,2],\n",
              "        AXIS[\"(E)\",east,\n",
              "            ORDER[1],\n",
              "            LENGTHUNIT[\"metre\",1]],\n",
              "        AXIS[\"(N)\",north,\n",
              "            ORDER[2],\n",
              "            LENGTHUNIT[\"metre\",1]],\n",
              "    USAGE[\n",
              "        SCOPE[\"Engineering survey, topographic mapping.\"],\n",
              "        AREA[\"Between 162°W and 156°W, northern hemisphere between equator and 84°N, onshore and offshore. United States (USA) - Alaska (AK).\"],\n",
              "        BBOX[0,-162,84,-156]],\n",
              "    ID[\"EPSG\",32604]]"
            ]
          },
          "metadata": {}
        }
      ]
    },
    {
      "cell_type": "code",
      "source": [
        "# Convert coordinate systems to WGS84 UTM Zone 4N (EPSG:32604)\n",
        "Nlcd_wgs84_utm <- projectRaster(nlcd_tif, crs = \"+proj=utm +zone=4 +datum=WGS84\")"
      ],
      "metadata": {
        "id": "NEHQvLssISdG"
      },
      "execution_count": 30,
      "outputs": []
    },
    {
      "cell_type": "code",
      "source": [
        "Nlcd_wgs84_utm %>% st_crs"
      ],
      "metadata": {
        "id": "Z0yXtip9LNio",
        "outputId": "621dc2e1-ad66-4cfa-99ba-088becf9dd9c",
        "colab": {
          "base_uri": "https://localhost:8080/",
          "height": 711
        }
      },
      "execution_count": 31,
      "outputs": [
        {
          "output_type": "display_data",
          "data": {
            "text/plain": [
              "Coordinate Reference System:\n",
              "  User input: +proj=utm +zone=4 +datum=WGS84 +units=m +no_defs \n",
              "  wkt:\n",
              "PROJCRS[\"unknown\",\n",
              "    BASEGEOGCRS[\"unknown\",\n",
              "        DATUM[\"World Geodetic System 1984\",\n",
              "            ELLIPSOID[\"WGS 84\",6378137,298.257223563,\n",
              "                LENGTHUNIT[\"metre\",1]],\n",
              "            ID[\"EPSG\",6326]],\n",
              "        PRIMEM[\"Greenwich\",0,\n",
              "            ANGLEUNIT[\"degree\",0.0174532925199433],\n",
              "            ID[\"EPSG\",8901]]],\n",
              "    CONVERSION[\"UTM zone 4N\",\n",
              "        METHOD[\"Transverse Mercator\",\n",
              "            ID[\"EPSG\",9807]],\n",
              "        PARAMETER[\"Latitude of natural origin\",0,\n",
              "            ANGLEUNIT[\"degree\",0.0174532925199433],\n",
              "            ID[\"EPSG\",8801]],\n",
              "        PARAMETER[\"Longitude of natural origin\",-159,\n",
              "            ANGLEUNIT[\"degree\",0.0174532925199433],\n",
              "            ID[\"EPSG\",8802]],\n",
              "        PARAMETER[\"Scale factor at natural origin\",0.9996,\n",
              "            SCALEUNIT[\"unity\",1],\n",
              "            ID[\"EPSG\",8805]],\n",
              "        PARAMETER[\"False easting\",500000,\n",
              "            LENGTHUNIT[\"metre\",1],\n",
              "            ID[\"EPSG\",8806]],\n",
              "        PARAMETER[\"False northing\",0,\n",
              "            LENGTHUNIT[\"metre\",1],\n",
              "            ID[\"EPSG\",8807]],\n",
              "        ID[\"EPSG\",16004]],\n",
              "    CS[Cartesian,2],\n",
              "        AXIS[\"(E)\",east,\n",
              "            ORDER[1],\n",
              "            LENGTHUNIT[\"metre\",1,\n",
              "                ID[\"EPSG\",9001]]],\n",
              "        AXIS[\"(N)\",north,\n",
              "            ORDER[2],\n",
              "            LENGTHUNIT[\"metre\",1,\n",
              "                ID[\"EPSG\",9001]]]]"
            ]
          },
          "metadata": {}
        }
      ]
    },
    {
      "cell_type": "code",
      "source": [
        "# write_sf(Naip_index_wgs84_utm, \"Naip_index_wgs84_utm.shp\")\n",
        "# write_sf(Nwi_wgs84_utm, \"Nwi_wgs84_utm.gpkg\")\n",
        "# write_sf(Wetlands_wgs84_utm, \"Wetlands_wgs84_utm.gpkg\")\n",
        "# writeRaster(Nlcd_wgs84_utm, \"Nlcd_wgs84_utm.tif\", overwrite = TRUE)\n",
        "# zip(zipfile = \"/content/wgs84_utm.zip\",\n",
        "#     files = c(\"/content/Naip_index_wgs84_utm.dbf\",\"/content/Naip_index_wgs84_utm.prj\",\"/content/Naip_index_wgs84_utm.shp\",\"/content/Naip_index_wgs84_utm.shx\",\"/content/Nlcd_wgs84_utm.tif\",\"/content/Nwi_wgs84_utm.gpkg\",\"/content/Wetlands_wgs84_utm.gpkg\"))\n",
        "\n",
        "# # save to processed_data https://drive.google.com/drive/folders/1K1mqp81pQBKtqupK3J3_7c3hHrM4RIzg?usp=drive_link\n",
        "# drive_upload(media = \"/content/wgs84_utm.zip\", path = as_id(\"1K1mqp81pQBKtqupK3J3_7c3hHrM4RIzg\"))"
      ],
      "metadata": {
        "id": "K72ksZYyLovi"
      },
      "execution_count": 32,
      "outputs": []
    },
    {
      "cell_type": "code",
      "source": [
        "# Calculate the intersection\n",
        "# intersection <- st_intersection(Naip_index_wgs84_utm, Wetlands_wgs84_utm)\n",
        "Naip_Wetlands_intersection <- st_intersection(Naip_index_wgs84_utm, Wetlands_wgs84_utm) # %>% st_write(\"Naip_Wetlands_intersection.gpkg\", driver = \"GPKG\")"
      ],
      "metadata": {
        "id": "l8XRelAUOho7",
        "outputId": "908be0ca-21dd-4509-80c6-10fb613c80a5",
        "colab": {
          "base_uri": "https://localhost:8080/"
        }
      },
      "execution_count": 34,
      "outputs": [
        {
          "output_type": "stream",
          "name": "stderr",
          "text": [
            "Warning message:\n",
            "“attribute variables are assumed to be spatially constant throughout all geometries”\n"
          ]
        }
      ]
    },
    {
      "cell_type": "code",
      "source": [
        "# How many tiles intersect with the Wetlands_wgs84_utm geopackage?\n",
        "Naip_Wetlands_intersection$url %>% unique %>% length"
      ],
      "metadata": {
        "id": "-NbMeOhtPZdv",
        "outputId": "4ca5ce11-b72a-46b1-a631-3015879a5a18",
        "colab": {
          "base_uri": "https://localhost:8080/",
          "height": 34
        }
      },
      "execution_count": 35,
      "outputs": [
        {
          "output_type": "display_data",
          "data": {
            "text/html": [
              "48"
            ],
            "text/markdown": "48",
            "text/latex": "48",
            "text/plain": [
              "[1] 48"
            ]
          },
          "metadata": {}
        }
      ]
    },
    {
      "cell_type": "markdown",
      "source": [
        "Working with Elevation files"
      ],
      "metadata": {
        "id": "gm8s6uRMQt6g"
      }
    },
    {
      "cell_type": "code",
      "source": [
        "dir.create('HI_DEM')"
      ],
      "metadata": {
        "id": "hCGHjZ0u8sUW",
        "outputId": "47570563-9ae0-4e65-c513-6216bb19fb46",
        "colab": {
          "base_uri": "https://localhost:8080/"
        }
      },
      "execution_count": 36,
      "outputs": [
        {
          "output_type": "stream",
          "name": "stderr",
          "text": [
            "Warning message in dir.create(\"HI_DEM\"):\n",
            "“'HI_DEM' already exists”\n"
          ]
        }
      ]
    },
    {
      "cell_type": "code",
      "source": [
        "# https://drive.google.com/drive/folders/15nbWHXZdDOZbt9gUuB9BUPeCXc2SoivB?usp=drive_link\n",
        "      # Drive/DeepLearning_Project/Datasets/dem folder\n",
        "\n",
        "jp_folder = \"15nbWHXZdDOZbt9gUuB9BUPeCXc2SoivB\"\n",
        "folder_id = drive_get(as_id(jp_folder)) # get folder ID\n",
        "print(folder_id) #print folder ID\n",
        "\n",
        "# Find files in the folder\n",
        "files = drive_ls(folder_id)\n",
        "\n",
        "# Loop through directories and download files inside them\n",
        "for (i in seq_along(files$name)) {\n",
        "  i_dir <- files[i, ] # Select directory\n",
        "    try({\n",
        "\n",
        "      # Download files from the directory to the specified path\n",
        "      drive_download(\n",
        "        as_id(i_dir$id[1]),\n",
        "        path = paste0('/content/HI_DEM/', i_dir$name[1])\n",
        "      )\n",
        "    })\n",
        "  }\n"
      ],
      "metadata": {
        "id": "ey6PZID38sJJ",
        "outputId": "d4148962-1c08-4f44-e38e-3e4a333c95cc",
        "colab": {
          "base_uri": "https://localhost:8080/"
        }
      },
      "execution_count": 79,
      "outputs": [
        {
          "output_type": "stream",
          "name": "stdout",
          "text": [
            "\u001b[90m# A dribble: 1 × 3\u001b[39m\n",
            "  name  id                                drive_resource   \n",
            "  \u001b[3m\u001b[90m<chr>\u001b[39m\u001b[23m \u001b[3m\u001b[90m<drv_id>\u001b[39m\u001b[23m                          \u001b[3m\u001b[90m<list>\u001b[39m\u001b[23m           \n",
            "\u001b[90m1\u001b[39m dem   15nbWHXZdDOZbt9gUuB9BUPeCXc2SoivB \u001b[90m<named list [34]>\u001b[39m\n",
            "Error in drive_download(as_id(i_dir$id[1]), path = paste0(\"/content/HI_DEM/\",  : \n",
            "  \u001b[1m\u001b[22mLocal `path` already exists and overwrite is `FALSE`:\n",
            "\u001b[36m•\u001b[39m \u001b[34m/content/HI_DEM/maui_10m.tif\u001b[39m\n",
            "Error in drive_download(as_id(i_dir$id[1]), path = paste0(\"/content/HI_DEM/\",  : \n",
            "  \u001b[1m\u001b[22mLocal `path` already exists and overwrite is `FALSE`:\n",
            "\u001b[36m•\u001b[39m \u001b[34m/content/HI_DEM/kauai_10m.tif\u001b[39m\n",
            "Error in drive_download(as_id(i_dir$id[1]), path = paste0(\"/content/HI_DEM/\",  : \n",
            "  \u001b[1m\u001b[22mLocal `path` already exists and overwrite is `FALSE`:\n",
            "\u001b[36m•\u001b[39m \u001b[34m/content/HI_DEM/hawaii_10m.tif\u001b[39m\n",
            "Error in drive_download(as_id(i_dir$id[1]), path = paste0(\"/content/HI_DEM/\",  : \n",
            "  \u001b[1m\u001b[22mLocal `path` already exists and overwrite is `FALSE`:\n",
            "\u001b[36m•\u001b[39m \u001b[34m/content/HI_DEM/oahu_10m.tif\u001b[39m\n",
            "Error in drive_download(as_id(i_dir$id[1]), path = paste0(\"/content/HI_DEM/\",  : \n",
            "  \u001b[1m\u001b[22mLocal `path` already exists and overwrite is `FALSE`:\n",
            "\u001b[36m•\u001b[39m \u001b[34m/content/HI_DEM/molokai_10m.tif\u001b[39m\n"
          ]
        }
      ]
    },
    {
      "cell_type": "code",
      "source": [
        "# raster_files <- stack ('/content/HI_DEM/hawaii_10m.tif')\n",
        "# raster_files\n",
        "# raster_files %>% plot"
      ],
      "metadata": {
        "id": "B_nov2-nT8X0"
      },
      "execution_count": null,
      "outputs": []
    },
    {
      "cell_type": "code",
      "source": [
        "# # Set the directory where your raster files are located\n",
        "# raster_dir <- \"/content/HI_DEM\"\n",
        "# # List all raster files in the directory\n",
        "# raster_files <- list.files(path = raster_dir, pattern = \"\\\\.tif$\", full.names = TRUE)\n",
        "# # Create an empty list to store results\n",
        "# result_list <- list()\n",
        "\n",
        "# # Define a function to process each raster file\n",
        "# process_raster <- function(file) {\n",
        "#   r <- raster(file)\n",
        "#   sp_poly <- as(r, \"SpatialPolygonsDataFrame\")\n",
        "#   file_name <- basename(file)\n",
        "#   elev_values <- as.data.table(getValues(r))\n",
        "#   data_table <- data.table(file_name = file_name, elevation = elev_values)\n",
        "#   return(data_table)\n",
        "# }\n",
        "\n",
        "# # Apply the process_raster function to each raster file using lapply\n",
        "# # result_list  <- lapply(raster_files, process_raster) ## takes a long time and used all RAM\n",
        "# dem_gpkg <- rbindlist(result_list)\n",
        "# print(dem_gpkg)"
      ],
      "metadata": {
        "id": "5o8TzldQVGEk"
      },
      "execution_count": null,
      "outputs": []
    },
    {
      "cell_type": "code",
      "source": [
        "# Convert dem tif files to SpatialPolygons and create a data.table\n",
        "\n",
        "# dem_gpkg <-\n",
        "# \"/content/HI_DEM\" %>%\n",
        "#   list.files(pattern='*.tif', full.names = T) %>%\n",
        "#   # lapply(stack) %>%\n",
        "#   # lapply(extent) %>%\n",
        "#   lapply(function(x){\n",
        "#     x_tif <- x %>% stack\n",
        "#     x_gpkg <- x_tif %>% extent %>% as('SpatialPolygons') %>% st_as_sf(crs = st_crs(x_tif))\n",
        "#     x_gpkg$path <- x\n",
        "#     st_crs(x_gpkg) <- st_crs(x_tif)\n",
        "#     x_gpkg %>% data.table %>% return\n",
        "#     }) %>%\n",
        "#   rbindlist()"
      ],
      "metadata": {
        "id": "FxWw8kckBINL"
      },
      "execution_count": 38,
      "outputs": []
    },
    {
      "cell_type": "code",
      "source": [
        "# Convert DEM data to Simple Features (sf) format and retrieve the coordinate reference system (CRS)\n",
        "# dem_gpkg %>% st_as_sf"
      ],
      "metadata": {
        "id": "CuAz7Mw7DPfP"
      },
      "execution_count": null,
      "outputs": []
    },
    {
      "cell_type": "markdown",
      "source": [
        "\n",
        "\n",
        "\n",
        "\n",
        "*   create ccap folder\n",
        "*   download the ccap files\n",
        "\n",
        "\n",
        "\n"
      ],
      "metadata": {
        "id": "u5Kz63DcYEwc"
      }
    },
    {
      "cell_type": "code",
      "source": [
        "# Convert dem tif files to SpatialPolygons and create a data.table\n",
        "\n",
        "hi_dem <-\n",
        "\"/content/HI_DEM\" %>%\n",
        "  list.files(pattern='*.tif', full.names = T) %>%\n",
        "  # lapply(stack) %>%\n",
        "  # lapply(extent) %>%\n",
        "  lapply(function(x){\n",
        "    x_tif <- x %>% stack\n",
        "    x_gpkg <- x_tif %>% extent %>% as('SpatialPolygons') %>% st_as_sf(crs = st_crs(x_tif))\n",
        "    x_gpkg$path <- x\n",
        "    st_crs(x_gpkg) <- st_crs(x_tif)\n",
        "    x_gpkg %>% data.table %>% return\n",
        "    }) %>%\n",
        "  rbindlist()"
      ],
      "metadata": {
        "id": "KwmUMlptg8B7"
      },
      "execution_count": 80,
      "outputs": []
    },
    {
      "cell_type": "code",
      "source": [
        "hi_dem %>% st_as_sf %>% st_crs"
      ],
      "metadata": {
        "id": "1Ya9806ug-qZ",
        "outputId": "6998f35e-284d-4e92-8f67-840573d1cd7b",
        "colab": {
          "base_uri": "https://localhost:8080/",
          "height": 364
        }
      },
      "execution_count": 81,
      "outputs": [
        {
          "output_type": "display_data",
          "data": {
            "text/plain": [
              "Coordinate Reference System:\n",
              "  User input: +proj=longlat +datum=WGS84 +no_defs \n",
              "  wkt:\n",
              "GEOGCRS[\"unknown\",\n",
              "    DATUM[\"World Geodetic System 1984\",\n",
              "        ELLIPSOID[\"WGS 84\",6378137,298.257223563,\n",
              "            LENGTHUNIT[\"metre\",1]],\n",
              "        ID[\"EPSG\",6326]],\n",
              "    PRIMEM[\"Greenwich\",0,\n",
              "        ANGLEUNIT[\"degree\",0.0174532925199433],\n",
              "        ID[\"EPSG\",8901]],\n",
              "    CS[ellipsoidal,2],\n",
              "        AXIS[\"longitude\",east,\n",
              "            ORDER[1],\n",
              "            ANGLEUNIT[\"degree\",0.0174532925199433,\n",
              "                ID[\"EPSG\",9122]]],\n",
              "        AXIS[\"latitude\",north,\n",
              "            ORDER[2],\n",
              "            ANGLEUNIT[\"degree\",0.0174532925199433,\n",
              "                ID[\"EPSG\",9122]]]]"
            ]
          },
          "metadata": {}
        }
      ]
    },
    {
      "cell_type": "code",
      "source": [
        "hi_dem"
      ],
      "metadata": {
        "id": "w_3iCZQfk4I6",
        "outputId": "fb9433ba-6506-470c-a149-1bc2050dcb44",
        "colab": {
          "base_uri": "https://localhost:8080/",
          "height": 255
        }
      },
      "execution_count": 86,
      "outputs": [
        {
          "output_type": "display_data",
          "data": {
            "text/html": [
              "<table class=\"dataframe\">\n",
              "<caption>A data.table: 5 × 2</caption>\n",
              "<thead>\n",
              "\t<tr><th scope=col>geometry</th><th scope=col>path</th></tr>\n",
              "\t<tr><th scope=col>&lt;POLYGON [°]&gt;</th><th scope=col>&lt;chr&gt;</th></tr>\n",
              "</thead>\n",
              "<tbody>\n",
              "\t<tr><td>POLYGON ((-156.1156 18.8597...</td><td>/content/HI_DEM/hawaii_10m.tif </td></tr>\n",
              "\t<tr><td>POLYGON ((-159.8432 21.8181...</td><td>/content/HI_DEM/kauai_10m.tif  </td></tr>\n",
              "\t<tr><td>POLYGON ((-156.7506 20.5252...</td><td>/content/HI_DEM/maui_10m.tif   </td></tr>\n",
              "\t<tr><td>POLYGON ((-157.3647 20.9877...</td><td>/content/HI_DEM/molokai_10m.tif</td></tr>\n",
              "\t<tr><td>POLYGON ((-158.336 21.20128...</td><td>/content/HI_DEM/oahu_10m.tif   </td></tr>\n",
              "</tbody>\n",
              "</table>\n"
            ],
            "text/markdown": "\nA data.table: 5 × 2\n\n| geometry &lt;POLYGON [°]&gt; | path &lt;chr&gt; |\n|---|---|\n| POLYGON ((-156.1156 18.8597... | /content/HI_DEM/hawaii_10m.tif  |\n| POLYGON ((-159.8432 21.8181... | /content/HI_DEM/kauai_10m.tif   |\n| POLYGON ((-156.7506 20.5252... | /content/HI_DEM/maui_10m.tif    |\n| POLYGON ((-157.3647 20.9877... | /content/HI_DEM/molokai_10m.tif |\n| POLYGON ((-158.336 21.20128... | /content/HI_DEM/oahu_10m.tif    |\n\n",
            "text/latex": "A data.table: 5 × 2\n\\begin{tabular}{ll}\n geometry & path\\\\\n <POLYGON {[}°{]}> & <chr>\\\\\n\\hline\n\t POLYGON ((-156.1156 18.8597... & /content/HI\\_DEM/hawaii\\_10m.tif \\\\\n\t POLYGON ((-159.8432 21.8181... & /content/HI\\_DEM/kauai\\_10m.tif  \\\\\n\t POLYGON ((-156.7506 20.5252... & /content/HI\\_DEM/maui\\_10m.tif   \\\\\n\t POLYGON ((-157.3647 20.9877... & /content/HI\\_DEM/molokai\\_10m.tif\\\\\n\t POLYGON ((-158.336 21.20128... & /content/HI\\_DEM/oahu\\_10m.tif   \\\\\n\\end{tabular}\n",
            "text/plain": [
              "  geometry                       path                           \n",
              "1 POLYGON ((-156.1156 18.8597... /content/HI_DEM/hawaii_10m.tif \n",
              "2 POLYGON ((-159.8432 21.8181... /content/HI_DEM/kauai_10m.tif  \n",
              "3 POLYGON ((-156.7506 20.5252... /content/HI_DEM/maui_10m.tif   \n",
              "4 POLYGON ((-157.3647 20.9877... /content/HI_DEM/molokai_10m.tif\n",
              "5 POLYGON ((-158.336 21.20128... /content/HI_DEM/oahu_10m.tif   "
            ]
          },
          "metadata": {}
        }
      ]
    },
    {
      "cell_type": "code",
      "source": [
        "hi_dem_sf <- st_as_sf(hi_dem)\n",
        "\n",
        "hi_dem_wgs84_utm <- st_transform(hi_dem_sf, crs = st_crs(\"+proj=utm +zone=4 +datum=WGS84\"))\n",
        "\n",
        "hi_dem_wgs84_utm"
      ],
      "metadata": {
        "id": "Y8mna9D8lKZV",
        "outputId": "8da5ec71-2574-415f-f3b3-dfa25f7eb7d7",
        "colab": {
          "base_uri": "https://localhost:8080/",
          "height": 758
        }
      },
      "execution_count": 90,
      "outputs": [
        {
          "output_type": "stream",
          "name": "stderr",
          "text": [
            "ERROR while rich displaying an object: Error in loadNamespace(x): there is no package called ‘geojsonio’\n",
            "\n",
            "Traceback:\n",
            "1. tryCatch(withCallingHandlers({\n",
            " .     if (!mime %in% names(repr::mime2repr)) \n",
            " .         stop(\"No repr_* for mimetype \", mime, \" in repr::mime2repr\")\n",
            " .     rpr <- repr::mime2repr[[mime]](obj)\n",
            " .     if (is.null(rpr)) \n",
            " .         return(NULL)\n",
            " .     prepare_content(is.raw(rpr), rpr)\n",
            " . }, error = error_handler), error = outer_handler)\n",
            "2. tryCatchList(expr, classes, parentenv, handlers)\n",
            "3. tryCatchOne(expr, names, parentenv, handlers[[1L]])\n",
            "4. doTryCatch(return(expr), name, parentenv, handler)\n",
            "5. withCallingHandlers({\n",
            " .     if (!mime %in% names(repr::mime2repr)) \n",
            " .         stop(\"No repr_* for mimetype \", mime, \" in repr::mime2repr\")\n",
            " .     rpr <- repr::mime2repr[[mime]](obj)\n",
            " .     if (is.null(rpr)) \n",
            " .         return(NULL)\n",
            " .     prepare_content(is.raw(rpr), rpr)\n",
            " . }, error = error_handler)\n",
            "6. repr::mime2repr[[mime]](obj)\n",
            "7. repr_geojson.sf(obj)\n",
            "8. repr_geojson(geojsonio::geojson_list(obj), ...)\n",
            "9. loadNamespace(x)\n",
            "10. withRestarts(stop(cond), retry_loadNamespace = function() NULL)\n",
            "11. withOneRestart(expr, restarts[[1L]])\n",
            "12. doWithOneRestart(return(expr), restart)\n"
          ]
        },
        {
          "output_type": "display_data",
          "data": {
            "text/html": [
              "<table class=\"dataframe\">\n",
              "<caption>A sf: 5 × 2</caption>\n",
              "<thead>\n",
              "\t<tr><th></th><th scope=col>path</th><th scope=col>geometry</th></tr>\n",
              "\t<tr><th></th><th scope=col>&lt;chr&gt;</th><th scope=col>&lt;POLYGON [m]&gt;</th></tr>\n",
              "</thead>\n",
              "<tbody>\n",
              "\t<tr><th scope=row>1</th><td>/content/HI_DEM/hawaii_10m.tif </td><td>POLYGON ((803934.6 2087781,...</td></tr>\n",
              "\t<tr><th scope=row>2</th><td>/content/HI_DEM/kauai_10m.tif  </td><td>POLYGON ((412851.7 2412937,...</td></tr>\n",
              "\t<tr><th scope=row>3</th><td>/content/HI_DEM/maui_10m.tif   </td><td>POLYGON ((734557.9 2271227,...</td></tr>\n",
              "\t<tr><th scope=row>4</th><td>/content/HI_DEM/molokai_10m.tif</td><td>POLYGON ((669990.6 2321661,...</td></tr>\n",
              "\t<tr><th scope=row>5</th><td>/content/HI_DEM/oahu_10m.tif   </td><td>POLYGON ((568916.6 2344568,...</td></tr>\n",
              "</tbody>\n",
              "</table>\n"
            ],
            "text/markdown": "\nA sf: 5 × 2\n\n| <!--/--> | path &lt;chr&gt; | geometry &lt;POLYGON [m]&gt; |\n|---|---|---|\n| 1 | /content/HI_DEM/hawaii_10m.tif  | POLYGON ((803934.6 2087781,... |\n| 2 | /content/HI_DEM/kauai_10m.tif   | POLYGON ((412851.7 2412937,... |\n| 3 | /content/HI_DEM/maui_10m.tif    | POLYGON ((734557.9 2271227,... |\n| 4 | /content/HI_DEM/molokai_10m.tif | POLYGON ((669990.6 2321661,... |\n| 5 | /content/HI_DEM/oahu_10m.tif    | POLYGON ((568916.6 2344568,... |\n\n",
            "text/latex": "A sf: 5 × 2\n\\begin{tabular}{r|ll}\n  & path & geometry\\\\\n  & <chr> & <POLYGON {[}m{]}>\\\\\n\\hline\n\t1 & /content/HI\\_DEM/hawaii\\_10m.tif  & POLYGON ((803934.6 2087781,...\\\\\n\t2 & /content/HI\\_DEM/kauai\\_10m.tif   & POLYGON ((412851.7 2412937,...\\\\\n\t3 & /content/HI\\_DEM/maui\\_10m.tif    & POLYGON ((734557.9 2271227,...\\\\\n\t4 & /content/HI\\_DEM/molokai\\_10m.tif & POLYGON ((669990.6 2321661,...\\\\\n\t5 & /content/HI\\_DEM/oahu\\_10m.tif    & POLYGON ((568916.6 2344568,...\\\\\n\\end{tabular}\n",
            "text/plain": [
              "  path                            geometry                      \n",
              "1 /content/HI_DEM/hawaii_10m.tif  POLYGON ((803934.6 2087781,...\n",
              "2 /content/HI_DEM/kauai_10m.tif   POLYGON ((412851.7 2412937,...\n",
              "3 /content/HI_DEM/maui_10m.tif    POLYGON ((734557.9 2271227,...\n",
              "4 /content/HI_DEM/molokai_10m.tif POLYGON ((669990.6 2321661,...\n",
              "5 /content/HI_DEM/oahu_10m.tif    POLYGON ((568916.6 2344568,..."
            ]
          },
          "metadata": {}
        }
      ]
    },
    {
      "cell_type": "code",
      "source": [
        "dir.create('HI_CCAP')"
      ],
      "metadata": {
        "id": "aexIMAX9YEwh"
      },
      "execution_count": 58,
      "outputs": []
    },
    {
      "cell_type": "code",
      "source": [
        "# https://drive.google.com/drive/folders/14fLGpMg2n9o6c8YmH4NSHc_ZQOC5MAuv?usp=drive_link\n",
        "      # Drive/DeepLearning_Project/Datasets/ccap folder\n",
        "\n",
        "jp_folder = \"14fLGpMg2n9o6c8YmH4NSHc_ZQOC5MAuv\"\n",
        "folder_id = drive_get(as_id(jp_folder)) # get folder ID\n",
        "print(folder_id) #print folder ID\n",
        "\n",
        "# Find files in the folder\n",
        "files = drive_ls(folder_id)\n",
        "\n",
        "# Loop through directories and download files inside them\n",
        "for (i in seq_along(files$name)) {\n",
        "  i_dir <- files[i, ] # Select directory\n",
        "    try({\n",
        "\n",
        "      # Download files from the directory to the specified path\n",
        "      drive_download(\n",
        "        as_id(i_dir$id[1]),\n",
        "        path = paste0('/content/HI_CCAP/', i_dir$name[1])\n",
        "      )\n",
        "    })\n",
        "  }\n"
      ],
      "metadata": {
        "id": "xzhZxne7YEwi",
        "outputId": "9d0d0a3f-cfdb-43a7-afc2-0c2a4965d996",
        "colab": {
          "base_uri": "https://localhost:8080/"
        }
      },
      "execution_count": 82,
      "outputs": [
        {
          "output_type": "stream",
          "name": "stdout",
          "text": [
            "\u001b[90m# A dribble: 1 × 3\u001b[39m\n",
            "  name  id                                drive_resource   \n",
            "  \u001b[3m\u001b[90m<chr>\u001b[39m\u001b[23m \u001b[3m\u001b[90m<drv_id>\u001b[39m\u001b[23m                          \u001b[3m\u001b[90m<list>\u001b[39m\u001b[23m           \n",
            "\u001b[90m1\u001b[39m ccap  14fLGpMg2n9o6c8YmH4NSHc_ZQOC5MAuv \u001b[90m<named list [34]>\u001b[39m\n",
            "Error in drive_download(as_id(i_dir$id[1]), path = paste0(\"/content/HI_CCAP/\",  : \n",
            "  \u001b[1m\u001b[22mLocal `path` already exists and overwrite is `FALSE`:\n",
            "\u001b[36m•\u001b[39m \u001b[34m/content/HI_CCAP/kauai_ccap_2010.tif\u001b[39m\n",
            "Error in drive_download(as_id(i_dir$id[1]), path = paste0(\"/content/HI_CCAP/\",  : \n",
            "  \u001b[1m\u001b[22mLocal `path` already exists and overwrite is `FALSE`:\n",
            "\u001b[36m•\u001b[39m \u001b[34m/content/HI_CCAP/oahu_ccap_2010.tif\u001b[39m\n",
            "Error in drive_download(as_id(i_dir$id[1]), path = paste0(\"/content/HI_CCAP/\",  : \n",
            "  \u001b[1m\u001b[22mLocal `path` already exists and overwrite is `FALSE`:\n",
            "\u001b[36m•\u001b[39m \u001b[34m/content/HI_CCAP/molokai_ccap_2010.tif\u001b[39m\n",
            "Error in drive_download(as_id(i_dir$id[1]), path = paste0(\"/content/HI_CCAP/\",  : \n",
            "  \u001b[1m\u001b[22mLocal `path` already exists and overwrite is `FALSE`:\n",
            "\u001b[36m•\u001b[39m \u001b[34m/content/HI_CCAP/maui_ccap_2010.tif\u001b[39m\n",
            "Error in drive_download(as_id(i_dir$id[1]), path = paste0(\"/content/HI_CCAP/\",  : \n",
            "  \u001b[1m\u001b[22mLocal `path` already exists and overwrite is `FALSE`:\n",
            "\u001b[36m•\u001b[39m \u001b[34m/content/HI_CCAP/hawaii_ccap_2010_01.tif\u001b[39m\n",
            "Error in drive_download(as_id(i_dir$id[1]), path = paste0(\"/content/HI_CCAP/\",  : \n",
            "  \u001b[1m\u001b[22mLocal `path` already exists and overwrite is `FALSE`:\n",
            "\u001b[36m•\u001b[39m \u001b[34m/content/HI_CCAP/hawaii_ccap_2010_03.tif\u001b[39m\n",
            "Error in drive_download(as_id(i_dir$id[1]), path = paste0(\"/content/HI_CCAP/\",  : \n",
            "  \u001b[1m\u001b[22mLocal `path` already exists and overwrite is `FALSE`:\n",
            "\u001b[36m•\u001b[39m \u001b[34m/content/HI_CCAP/hawaii_ccap_2010_02.tif\u001b[39m\n"
          ]
        }
      ]
    },
    {
      "cell_type": "code",
      "source": [
        "# Convert dem tif files to SpatialPolygons and create a data.table\n",
        "\n",
        "# Define the directory containing dem tif files\n",
        "hi_ccap <- \"/content/HI_CCAP\" %>%\n",
        "  list.files(pattern='*.tif', full.names = T) %>%\n",
        "  # lapply(stack) %>%\n",
        "  # lapply(extent) %>%\n",
        "\n",
        "  # Iterate over each tif file\n",
        "  lapply(function(x){\n",
        "    x_tif <- x %>% stack # Read the tif file into a raster stack\n",
        "    x_gpkg <- x_tif %>% extent %>% as('SpatialPolygons') %>% st_as_sf(crs = st_crs(x_tif)) # Convert the extent of the raster stack to a spatial polygon\n",
        "    x_gpkg$path <- x # Assign the file path to the spatial polygon\n",
        "    st_crs(x_gpkg) <- st_crs(x_tif) # Set the CRS of the spatial polygon to match the raster stack\n",
        "    x_gpkg %>% data.table %>% return # Convert the spatial polygon to a data.table and return it\n",
        "    }) %>%\n",
        "  rbindlist() # Combine all data.tables into a single data.table"
      ],
      "metadata": {
        "id": "rb3HV6_2YEwi"
      },
      "execution_count": 83,
      "outputs": []
    },
    {
      "cell_type": "code",
      "source": [
        "hi_ccap %>% st_as_sf %>% st_crs"
      ],
      "metadata": {
        "id": "NZrLcUE4ixy8",
        "outputId": "5ce83971-4b81-4f1f-cfd8-f729fac341e5",
        "colab": {
          "base_uri": "https://localhost:8080/",
          "height": 711
        }
      },
      "execution_count": 84,
      "outputs": [
        {
          "output_type": "display_data",
          "data": {
            "text/plain": [
              "Coordinate Reference System:\n",
              "  User input: +proj=utm +zone=5 +datum=WGS84 +units=m +no_defs \n",
              "  wkt:\n",
              "PROJCRS[\"unknown\",\n",
              "    BASEGEOGCRS[\"unknown\",\n",
              "        DATUM[\"World Geodetic System 1984\",\n",
              "            ELLIPSOID[\"WGS 84\",6378137,298.257223563,\n",
              "                LENGTHUNIT[\"metre\",1]],\n",
              "            ID[\"EPSG\",6326]],\n",
              "        PRIMEM[\"Greenwich\",0,\n",
              "            ANGLEUNIT[\"degree\",0.0174532925199433],\n",
              "            ID[\"EPSG\",8901]]],\n",
              "    CONVERSION[\"UTM zone 5N\",\n",
              "        METHOD[\"Transverse Mercator\",\n",
              "            ID[\"EPSG\",9807]],\n",
              "        PARAMETER[\"Latitude of natural origin\",0,\n",
              "            ANGLEUNIT[\"degree\",0.0174532925199433],\n",
              "            ID[\"EPSG\",8801]],\n",
              "        PARAMETER[\"Longitude of natural origin\",-153,\n",
              "            ANGLEUNIT[\"degree\",0.0174532925199433],\n",
              "            ID[\"EPSG\",8802]],\n",
              "        PARAMETER[\"Scale factor at natural origin\",0.9996,\n",
              "            SCALEUNIT[\"unity\",1],\n",
              "            ID[\"EPSG\",8805]],\n",
              "        PARAMETER[\"False easting\",500000,\n",
              "            LENGTHUNIT[\"metre\",1],\n",
              "            ID[\"EPSG\",8806]],\n",
              "        PARAMETER[\"False northing\",0,\n",
              "            LENGTHUNIT[\"metre\",1],\n",
              "            ID[\"EPSG\",8807]],\n",
              "        ID[\"EPSG\",16005]],\n",
              "    CS[Cartesian,2],\n",
              "        AXIS[\"(E)\",east,\n",
              "            ORDER[1],\n",
              "            LENGTHUNIT[\"metre\",1,\n",
              "                ID[\"EPSG\",9001]]],\n",
              "        AXIS[\"(N)\",north,\n",
              "            ORDER[2],\n",
              "            LENGTHUNIT[\"metre\",1,\n",
              "                ID[\"EPSG\",9001]]]]"
            ]
          },
          "metadata": {}
        }
      ]
    },
    {
      "cell_type": "code",
      "source": [
        "hi_ccap_sf <- st_as_sf(hi_ccap)\n",
        "\n",
        "hi_ccap_wgs84_utm <- st_transform(hi_ccap_sf, crs = st_crs(\"+proj=utm +zone=4 +datum=WGS84\"))\n",
        "\n",
        "hi_ccap_wgs84_utm"
      ],
      "metadata": {
        "id": "bEwPOD7Ikyy8",
        "outputId": "eca4781b-f22a-4c3b-d642-cc37dbf0d6ee",
        "colab": {
          "base_uri": "https://localhost:8080/",
          "height": 821
        }
      },
      "execution_count": 93,
      "outputs": [
        {
          "output_type": "stream",
          "name": "stderr",
          "text": [
            "ERROR while rich displaying an object: Error in loadNamespace(x): there is no package called ‘geojsonio’\n",
            "\n",
            "Traceback:\n",
            "1. tryCatch(withCallingHandlers({\n",
            " .     if (!mime %in% names(repr::mime2repr)) \n",
            " .         stop(\"No repr_* for mimetype \", mime, \" in repr::mime2repr\")\n",
            " .     rpr <- repr::mime2repr[[mime]](obj)\n",
            " .     if (is.null(rpr)) \n",
            " .         return(NULL)\n",
            " .     prepare_content(is.raw(rpr), rpr)\n",
            " . }, error = error_handler), error = outer_handler)\n",
            "2. tryCatchList(expr, classes, parentenv, handlers)\n",
            "3. tryCatchOne(expr, names, parentenv, handlers[[1L]])\n",
            "4. doTryCatch(return(expr), name, parentenv, handler)\n",
            "5. withCallingHandlers({\n",
            " .     if (!mime %in% names(repr::mime2repr)) \n",
            " .         stop(\"No repr_* for mimetype \", mime, \" in repr::mime2repr\")\n",
            " .     rpr <- repr::mime2repr[[mime]](obj)\n",
            " .     if (is.null(rpr)) \n",
            " .         return(NULL)\n",
            " .     prepare_content(is.raw(rpr), rpr)\n",
            " . }, error = error_handler)\n",
            "6. repr::mime2repr[[mime]](obj)\n",
            "7. repr_geojson.sf(obj)\n",
            "8. repr_geojson(geojsonio::geojson_list(obj), ...)\n",
            "9. loadNamespace(x)\n",
            "10. withRestarts(stop(cond), retry_loadNamespace = function() NULL)\n",
            "11. withOneRestart(expr, restarts[[1L]])\n",
            "12. doWithOneRestart(return(expr), restart)\n"
          ]
        },
        {
          "output_type": "display_data",
          "data": {
            "text/html": [
              "<table class=\"dataframe\">\n",
              "<caption>A sf: 7 × 2</caption>\n",
              "<thead>\n",
              "\t<tr><th></th><th scope=col>path</th><th scope=col>geometry</th></tr>\n",
              "\t<tr><th></th><th scope=col>&lt;chr&gt;</th><th scope=col>&lt;POLYGON [m]&gt;</th></tr>\n",
              "</thead>\n",
              "<tbody>\n",
              "\t<tr><th scope=row>1</th><td>/content/HI_CCAP/hawaii_ccap_2010_01.tif</td><td>POLYGON ((807441.3 2193359,...</td></tr>\n",
              "\t<tr><th scope=row>2</th><td>/content/HI_CCAP/hawaii_ccap_2010_02.tif</td><td>POLYGON ((851348.7 2194920,...</td></tr>\n",
              "\t<tr><th scope=row>3</th><td>/content/HI_CCAP/hawaii_ccap_2010_03.tif</td><td>POLYGON ((897058.4 2146092,...</td></tr>\n",
              "\t<tr><th scope=row>4</th><td>/content/HI_CCAP/kauai_ccap_2010.tif    </td><td>POLYGON ((1038405 2426723, ...</td></tr>\n",
              "\t<tr><th scope=row>5</th><td>/content/HI_CCAP/maui_ccap_2010.tif     </td><td>POLYGON ((1366878 2297729, ...</td></tr>\n",
              "\t<tr><th scope=row>6</th><td>/content/HI_CCAP/molokai_ccap_2010.tif  </td><td>POLYGON ((1298975 2345091, ...</td></tr>\n",
              "\t<tr><th scope=row>7</th><td>/content/HI_CCAP/oahu_ccap_2010.tif     </td><td>POLYGON ((1197971 2365370, ...</td></tr>\n",
              "</tbody>\n",
              "</table>\n"
            ],
            "text/markdown": "\nA sf: 7 × 2\n\n| <!--/--> | path &lt;chr&gt; | geometry &lt;POLYGON [m]&gt; |\n|---|---|---|\n| 1 | /content/HI_CCAP/hawaii_ccap_2010_01.tif | POLYGON ((807441.3 2193359,... |\n| 2 | /content/HI_CCAP/hawaii_ccap_2010_02.tif | POLYGON ((851348.7 2194920,... |\n| 3 | /content/HI_CCAP/hawaii_ccap_2010_03.tif | POLYGON ((897058.4 2146092,... |\n| 4 | /content/HI_CCAP/kauai_ccap_2010.tif     | POLYGON ((1038405 2426723, ... |\n| 5 | /content/HI_CCAP/maui_ccap_2010.tif      | POLYGON ((1366878 2297729, ... |\n| 6 | /content/HI_CCAP/molokai_ccap_2010.tif   | POLYGON ((1298975 2345091, ... |\n| 7 | /content/HI_CCAP/oahu_ccap_2010.tif      | POLYGON ((1197971 2365370, ... |\n\n",
            "text/latex": "A sf: 7 × 2\n\\begin{tabular}{r|ll}\n  & path & geometry\\\\\n  & <chr> & <POLYGON {[}m{]}>\\\\\n\\hline\n\t1 & /content/HI\\_CCAP/hawaii\\_ccap\\_2010\\_01.tif & POLYGON ((807441.3 2193359,...\\\\\n\t2 & /content/HI\\_CCAP/hawaii\\_ccap\\_2010\\_02.tif & POLYGON ((851348.7 2194920,...\\\\\n\t3 & /content/HI\\_CCAP/hawaii\\_ccap\\_2010\\_03.tif & POLYGON ((897058.4 2146092,...\\\\\n\t4 & /content/HI\\_CCAP/kauai\\_ccap\\_2010.tif     & POLYGON ((1038405 2426723, ...\\\\\n\t5 & /content/HI\\_CCAP/maui\\_ccap\\_2010.tif      & POLYGON ((1366878 2297729, ...\\\\\n\t6 & /content/HI\\_CCAP/molokai\\_ccap\\_2010.tif   & POLYGON ((1298975 2345091, ...\\\\\n\t7 & /content/HI\\_CCAP/oahu\\_ccap\\_2010.tif      & POLYGON ((1197971 2365370, ...\\\\\n\\end{tabular}\n",
            "text/plain": [
              "  path                                     geometry                      \n",
              "1 /content/HI_CCAP/hawaii_ccap_2010_01.tif POLYGON ((807441.3 2193359,...\n",
              "2 /content/HI_CCAP/hawaii_ccap_2010_02.tif POLYGON ((851348.7 2194920,...\n",
              "3 /content/HI_CCAP/hawaii_ccap_2010_03.tif POLYGON ((897058.4 2146092,...\n",
              "4 /content/HI_CCAP/kauai_ccap_2010.tif     POLYGON ((1038405 2426723, ...\n",
              "5 /content/HI_CCAP/maui_ccap_2010.tif      POLYGON ((1366878 2297729, ...\n",
              "6 /content/HI_CCAP/molokai_ccap_2010.tif   POLYGON ((1298975 2345091, ...\n",
              "7 /content/HI_CCAP/oahu_ccap_2010.tif      POLYGON ((1197971 2365370, ..."
            ]
          },
          "metadata": {}
        }
      ]
    },
    {
      "cell_type": "code",
      "source": [
        "# Convert DEM data to Simple Features (sf) format and retrieve the coordinate reference system (CRS)\n",
        "# ccap_gpkg %>% st_as_sf %>% st_crs"
      ],
      "metadata": {
        "id": "K2UVazBbYEwi"
      },
      "execution_count": null,
      "outputs": []
    },
    {
      "cell_type": "code",
      "source": [
        "dir.create('HI_2021_NAIP')"
      ],
      "metadata": {
        "id": "IFiuE9CGw72R"
      },
      "execution_count": 94,
      "outputs": []
    },
    {
      "cell_type": "markdown",
      "source": [
        "Download NAIP files in parallel from multiple URLs specified in the download_index_gpkg dataset."
      ],
      "metadata": {
        "id": "0LXOvys-ED6_"
      }
    },
    {
      "cell_type": "code",
      "source": [
        "stopCluster(cl)"
      ],
      "metadata": {
        "id": "9pE2j30anoBG"
      },
      "execution_count": null,
      "outputs": []
    },
    {
      "cell_type": "code",
      "source": [
        "dir.create('HI_NAIP')\n",
        "\n",
        "# Extract the URLs and corresponding file paths from Naip_Wetlands_intersection\n",
        "urls <- Naip_Wetlands_intersection$url\n",
        "locations <- Naip_Wetlands_intersection$location\n",
        "\n",
        "# Construct the destination paths\n",
        "destination_paths <- file.path(\"/content/HI_NAIP\", basename(locations))\n",
        "\n",
        "# Download the files using vectorized download.file\n",
        "Map(download.file, urls, destination_paths)"
      ],
      "metadata": {
        "id": "PQU8weTlrCo4",
        "outputId": "24db3eb0-30ee-47e1-8fe6-956fe1d1884a",
        "colab": {
          "base_uri": "https://localhost:8080/",
          "height": 1000
        }
      },
      "execution_count": 110,
      "outputs": [
        {
          "output_type": "stream",
          "name": "stderr",
          "text": [
            "Warning message in (function (url, destfile, method, quiet = FALSE, mode = \"w\", :\n",
            "“downloaded length 0 != reported length 0”\n",
            "Warning message in (function (url, destfile, method, quiet = FALSE, mode = \"w\", :\n",
            "“URL 'https://coastalimagery.blob.core.windows.net/digitalcoast/HI_NAIP_2021_9668/m_2215954_se_04_060_20220128.tif': Timeout of 60 seconds was reached”\n"
          ]
        },
        {
          "output_type": "error",
          "ename": "ERROR",
          "evalue": "Error in (function (url, destfile, method, quiet = FALSE, mode = \"w\", : download from 'https://coastalimagery.blob.core.windows.net/digitalcoast/HI_NAIP_2021_9668/m_2215954_se_04_060_20220128.tif' failed\n",
          "traceback": [
            "Error in (function (url, destfile, method, quiet = FALSE, mode = \"w\", : download from 'https://coastalimagery.blob.core.windows.net/digitalcoast/HI_NAIP_2021_9668/m_2215954_se_04_060_20220128.tif' failed\nTraceback:\n",
            "1. Map(download.file, urls, destination_paths)",
            "2. mapply(FUN = f, ..., SIMPLIFY = FALSE)",
            "3. (function (url, destfile, method, quiet = FALSE, mode = \"w\", \n .     cacheOK = TRUE, extra = getOption(\"download.file.extra\"), \n .     headers = NULL, ...) \n . {\n .     destfile\n .     if (missing(method)) \n .         method <- getOption(\"download.file.method\", default = \"auto\")\n .     method <- match.arg(method, c(\"auto\", \"internal\", \"libcurl\", \n .         \"wget\", \"curl\", \"lynx\"))\n .     if (method == \"auto\") {\n .         if (length(url) != 1L || typeof(url) != \"character\") \n .             stop(\"'url' must be a length-one character vector\")\n .         method <- if (startsWith(url, \"file:\")) \n .             \"internal\"\n .         else \"libcurl\"\n .     }\n .     nh <- names(headers)\n .     if (length(nh) != length(headers) || any(nh == \"\") || anyNA(headers) || \n .         anyNA(nh)) \n .         stop(\"'headers' must have names and must not be NA\")\n .     switch(method, internal = {\n .         headers <- if (length(headers)) paste0(nh, \": \", headers, \n .             \"\\r\\n\", collapse = \"\")\n .         status <- .External(C_download, url, destfile, quiet, \n .             mode, cacheOK, headers)\n .         if (!quiet) flush.console()\n .     }, libcurl = {\n .         headers <- if (length(headers)) paste0(nh, \": \", headers)\n .         status <- .Internal(curlDownload(url, destfile, quiet, \n .             mode, cacheOK, headers))\n .         if (!quiet) flush.console()\n .     }, wget = {\n .         if (length(url) != 1L || typeof(url) != \"character\") stop(\"'url' must be a length-one character vector\")\n .         if (length(destfile) != 1L || typeof(destfile) != \"character\") stop(\"'destfile' must be a length-one character vector\")\n .         if (quiet) extra <- c(extra, \"--quiet\")\n .         if (!cacheOK) extra <- c(extra, \"--cache=off\")\n .         status <- system(paste(\"wget\", paste(extra, collapse = \" \"), \n .             shQuote(url), \"-O\", shQuote(path.expand(destfile))))\n .         if (status) stop(\"'wget' call had nonzero exit status\")\n .     }, curl = {\n .         if (length(url) != 1L || typeof(url) != \"character\") stop(\"'url' must be a length-one character vector\")\n .         if (length(destfile) != 1L || typeof(url) != \"character\") stop(\"'destfile' must be a length-one character vector\")\n .         if (quiet) extra <- c(extra, \"-s -S\")\n .         if (!cacheOK) extra <- c(extra, paste(\"-H\", shQuote(\"Pragma: no-cache\")))\n .         status <- system(paste(\"curl\", paste(extra, collapse = \" \"), \n .             shQuote(url), \" -o\", shQuote(path.expand(destfile))))\n .         if (status) stop(\"'curl' call had nonzero exit status\")\n .     }, lynx = stop(\"method 'lynx' is defunct\", domain = NA), \n .         stop(\"invalid method: \", method))\n .     if (status) \n .         warning(\"download had nonzero exit status\")\n .     invisible(status)\n . })(dots[[1L]][[1L]], dots[[2L]][[1L]])"
          ]
        }
      ]
    },
    {
      "cell_type": "code",
      "source": [
        "# Distribute the task of downloading files from download_index_gpkg across 8 parallel processes using makeCluster\n",
        "# Loop over the row indices of download_index_gpkg and download each file from its corresponding URL to the specified location\n",
        "# After completion, stop the parallel cluster to free up resources\n",
        "\n",
        "\n",
        "# cl <- makeCluster(15)\n",
        "1:nrow(Naip_Wetlands_intersection) %>%\n",
        "  parLapply(cl,.,function(x,Naip_Wetlands_intersection){\n",
        "  x_dt <- Naip_Wetlands_intersection[x,]\n",
        "  download.file(x_dt$url, paste0('/content/HI_2021_NAIP/',x_dt$location,sep='') )\n",
        "  },Naip_Wetlands_intersection)\n",
        "# stopCluster(cl)"
      ],
      "metadata": {
        "id": "vsGwTn7FweoF",
        "outputId": "90027786-c6d8-4a0a-c30d-906337d75770",
        "colab": {
          "base_uri": "https://localhost:8080/",
          "height": 470
        }
      },
      "execution_count": 103,
      "outputs": [
        {
          "output_type": "error",
          "ename": "ERROR",
          "evalue": "Error in checkForRemoteErrors(val): 14 nodes produced errors; first error: download from 'https://coastalimagery.blob.core.windows.net/digitalcoast/HI_NAIP_2021_9668/m_2215954_sw_04_060_20220321.tif' failed\n",
          "traceback": [
            "Error in checkForRemoteErrors(val): 14 nodes produced errors; first error: download from 'https://coastalimagery.blob.core.windows.net/digitalcoast/HI_NAIP_2021_9668/m_2215954_sw_04_060_20220321.tif' failed\nTraceback:\n",
            "1. 1:nrow(Naip_Wetlands_intersection) %>% parLapply(cl, ., function(x, \n .     Naip_Wetlands_intersection) {\n .     x_dt <- Naip_Wetlands_intersection[x, ]\n .     download.file(x_dt$url, paste0(\"/content/HI_2021_NAIP/\", \n .         x_dt$location, sep = \"\"))\n . }, Naip_Wetlands_intersection)",
            "2. parLapply(cl, ., function(x, Naip_Wetlands_intersection) {\n .     x_dt <- Naip_Wetlands_intersection[x, ]\n .     download.file(x_dt$url, paste0(\"/content/HI_2021_NAIP/\", \n .         x_dt$location, sep = \"\"))\n . }, Naip_Wetlands_intersection)",
            "3. do.call(c, clusterApply(cl = cl, x = splitList(X, nchunks), fun = lapply, \n .     FUN = fun, ...), quote = TRUE)",
            "4. clusterApply(cl = cl, x = splitList(X, nchunks), fun = lapply, \n .     FUN = fun, ...)",
            "5. staticClusterApply(cl, fun, length(x), argfun)",
            "6. checkForRemoteErrors(val)",
            "7. stop(count, \" nodes produced errors; first error: \", firstmsg, \n .     domain = NA)"
          ]
        }
      ]
    },
    {
      "cell_type": "code",
      "source": [
        "# Extract URLs or file paths from Naip_Wetlands_intersection\n",
        "file_urls <- Naip_Wetlands_intersection$url  # Assuming the URLs are stored in a column named 'url'\n",
        "# or\n",
        "file_paths <- Naip_Wetlands_intersection$location  # Assuming the file paths are stored in a column named 'location'\n",
        "\n",
        "# Print the list of file URLs or paths\n",
        "print(file_urls)\n",
        "# or\n",
        "print(file_paths)\n"
      ],
      "metadata": {
        "id": "PuwvwEgEorOw",
        "outputId": "78051859-dbfe-4b31-b7ee-6f083c82c7fc",
        "colab": {
          "base_uri": "https://localhost:8080/"
        }
      },
      "execution_count": 102,
      "outputs": [
        {
          "output_type": "stream",
          "name": "stdout",
          "text": [
            " [1] \"https://coastalimagery.blob.core.windows.net/digitalcoast/HI_NAIP_2021_9668/m_2215954_se_04_060_20220128.tif\"\n",
            " [2] \"https://coastalimagery.blob.core.windows.net/digitalcoast/HI_NAIP_2021_9668/m_2215954_sw_04_060_20220321.tif\"\n",
            " [3] \"https://coastalimagery.blob.core.windows.net/digitalcoast/HI_NAIP_2021_9668/m_2115831_ne_04_060_20220211.tif\"\n",
            " [4] \"https://coastalimagery.blob.core.windows.net/digitalcoast/HI_NAIP_2021_9668/m_2115831_se_04_060_20220211.tif\"\n",
            " [5] \"https://coastalimagery.blob.core.windows.net/digitalcoast/HI_NAIP_2021_9668/m_2115832_nw_04_060_20220211.tif\"\n",
            " [6] \"https://coastalimagery.blob.core.windows.net/digitalcoast/HI_NAIP_2021_9668/m_2115832_sw_04_060_20220211.tif\"\n",
            " [7] \"https://coastalimagery.blob.core.windows.net/digitalcoast/HI_NAIP_2021_9668/m_2215952_ne_04_060_20220128.tif\"\n",
            " [8] \"https://coastalimagery.blob.core.windows.net/digitalcoast/HI_NAIP_2021_9668/m_2215952_se_04_060_20220128.tif\"\n",
            " [9] \"https://coastalimagery.blob.core.windows.net/digitalcoast/HI_NAIP_2021_9668/m_2215952_se_04_060_20220321.tif\"\n",
            "[10] \"https://coastalimagery.blob.core.windows.net/digitalcoast/HI_NAIP_2021_9668/m_2215953_nw_04_060_20220321.tif\"\n",
            "[11] \"https://coastalimagery.blob.core.windows.net/digitalcoast/HI_NAIP_2021_9668/m_2215953_sw_04_060_20220321.tif\"\n",
            "[12] \"https://coastalimagery.blob.core.windows.net/digitalcoast/HI_NAIP_2021_9668/m_2115905_ne_04_060_20220321.tif\"\n",
            "[13] \"https://coastalimagery.blob.core.windows.net/digitalcoast/HI_NAIP_2021_9668/m_2115905_se_04_060_20220211.tif\"\n",
            "[14] \"https://coastalimagery.blob.core.windows.net/digitalcoast/HI_NAIP_2021_9668/m_2115905_se_04_060_20220212.tif\"\n",
            "[15] \"https://coastalimagery.blob.core.windows.net/digitalcoast/HI_NAIP_2021_9668/m_2115906_nw_04_060_20220321.tif\"\n",
            "[16] \"https://coastalimagery.blob.core.windows.net/digitalcoast/HI_NAIP_2021_9668/m_2115906_sw_04_060_20220211.tif\"\n",
            "[17] \"https://coastalimagery.blob.core.windows.net/digitalcoast/HI_NAIP_2021_9668/m_2115717_nw_04_060_20221217.tif\"\n",
            "[18] \"https://coastalimagery.blob.core.windows.net/digitalcoast/HI_NAIP_2021_9668/m_2115717_sw_04_060_20221231.tif\"\n",
            "[19] \"https://coastalimagery.blob.core.windows.net/digitalcoast/HI_NAIP_2021_9668/m_2115824_ne_04_060_20221217.tif\"\n",
            "[20] \"https://coastalimagery.blob.core.windows.net/digitalcoast/HI_NAIP_2021_9668/m_2115824_se_04_060_20221231.tif\"\n",
            "[21] \"https://coastalimagery.blob.core.windows.net/digitalcoast/HI_NAIP_2021_9668/m_2015605_sw_04_060_20221214.tif\"\n",
            "[22] \"https://coastalimagery.blob.core.windows.net/digitalcoast/HI_NAIP_2021_9668/m_2015605_sw_04_060_20220327.tif\"\n",
            "[23] \"https://coastalimagery.blob.core.windows.net/digitalcoast/HI_NAIP_2021_9668/m_2115734_se_04_060_20221215.tif\"\n",
            "[24] \"https://coastalimagery.blob.core.windows.net/digitalcoast/HI_NAIP_2021_9668/m_2115735_sw_04_060_20221215.tif\"\n",
            "[25] \"https://coastalimagery.blob.core.windows.net/digitalcoast/HI_NAIP_2021_9668/m_2115742_ne_04_060_20221215.tif\"\n",
            "[26] \"https://coastalimagery.blob.core.windows.net/digitalcoast/HI_NAIP_2021_9668/m_2115743_nw_04_060_20221215.tif\"\n",
            "[27] \"https://coastalimagery.blob.core.windows.net/digitalcoast/HI_NAIP_2021_9668/m_2015612_se_04_060_20220108.tif\"\n",
            "[28] \"https://coastalimagery.blob.core.windows.net/digitalcoast/HI_NAIP_2021_9668/m_2015613_sw_04_060_20220108.tif\"\n",
            "[29] \"https://coastalimagery.blob.core.windows.net/digitalcoast/HI_NAIP_2021_9668/m_1915524_ne_05_060_20221225.tif\"\n",
            "[30] \"https://coastalimagery.blob.core.windows.net/digitalcoast/HI_NAIP_2021_9668/m_2215952_ne_04_060_20220128.tif\"\n",
            "[31] \"https://coastalimagery.blob.core.windows.net/digitalcoast/HI_NAIP_2021_9668/m_2215952_se_04_060_20220128.tif\"\n",
            "[32] \"https://coastalimagery.blob.core.windows.net/digitalcoast/HI_NAIP_2021_9668/m_2215952_se_04_060_20220321.tif\"\n",
            "[33] \"https://coastalimagery.blob.core.windows.net/digitalcoast/HI_NAIP_2021_9668/m_2015604_se_04_060_20220108.tif\"\n",
            "[34] \"https://coastalimagery.blob.core.windows.net/digitalcoast/HI_NAIP_2021_9668/m_2015604_se_04_060_20221214.tif\"\n",
            "[35] \"https://coastalimagery.blob.core.windows.net/digitalcoast/HI_NAIP_2021_9668/m_2015605_sw_04_060_20221214.tif\"\n",
            "[36] \"https://coastalimagery.blob.core.windows.net/digitalcoast/HI_NAIP_2021_9668/m_2015605_sw_04_060_20220327.tif\"\n",
            "[37] \"https://coastalimagery.blob.core.windows.net/digitalcoast/HI_NAIP_2021_9668/m_2115733_se_04_060_20221215.tif\"\n",
            "[38] \"https://coastalimagery.blob.core.windows.net/digitalcoast/HI_NAIP_2021_9668/m_2115733_sw_04_060_20221215.tif\"\n",
            "[39] \"https://coastalimagery.blob.core.windows.net/digitalcoast/HI_NAIP_2021_9668/m_2115741_ne_04_060_20221215.tif\"\n",
            "[40] \"https://coastalimagery.blob.core.windows.net/digitalcoast/HI_NAIP_2021_9668/m_2115741_nw_04_060_20221215.tif\"\n",
            "[41] \"https://coastalimagery.blob.core.windows.net/digitalcoast/HI_NAIP_2021_9668/m_2115840_se_04_060_20221215.tif\"\n",
            "[42] \"https://coastalimagery.blob.core.windows.net/digitalcoast/HI_NAIP_2021_9668/m_2115848_ne_04_060_20221215.tif\"\n",
            "[43] \"https://coastalimagery.blob.core.windows.net/digitalcoast/HI_NAIP_2021_9668/m_2015551_nw_05_060_20211215.tif\"\n",
            "[44] \"https://coastalimagery.blob.core.windows.net/digitalcoast/HI_NAIP_2021_9668/m_2015551_sw_05_060_20211226.tif\"\n",
            "[45] \"https://coastalimagery.blob.core.windows.net/digitalcoast/HI_NAIP_2021_9668/m_2015604_ne_04_060_20220108.tif\"\n",
            "[46] \"https://coastalimagery.blob.core.windows.net/digitalcoast/HI_NAIP_2021_9668/m_2015604_se_04_060_20220108.tif\"\n",
            "[47] \"https://coastalimagery.blob.core.windows.net/digitalcoast/HI_NAIP_2021_9668/m_2015604_se_04_060_20221214.tif\"\n",
            "[48] \"https://coastalimagery.blob.core.windows.net/digitalcoast/HI_NAIP_2021_9668/m_2215962_ne_04_060_20220321.tif\"\n",
            "[49] \"https://coastalimagery.blob.core.windows.net/digitalcoast/HI_NAIP_2021_9668/m_2215962_nw_04_060_20220321.tif\"\n",
            "[50] \"https://coastalimagery.blob.core.windows.net/digitalcoast/HI_NAIP_2021_9668/m_2215962_se_04_060_20220321.tif\"\n",
            "[51] \"https://coastalimagery.blob.core.windows.net/digitalcoast/HI_NAIP_2021_9668/m_2215962_sw_04_060_20220321.tif\"\n",
            "[52] \"https://coastalimagery.blob.core.windows.net/digitalcoast/HI_NAIP_2021_9668/m_2015551_se_05_060_20211226.tif\"\n",
            "[53] \"https://coastalimagery.blob.core.windows.net/digitalcoast/HI_NAIP_2021_9668/m_2015559_ne_05_060_20220310.tif\"\n",
            "[54] \"https://coastalimagery.blob.core.windows.net/digitalcoast/HI_NAIP_2021_9668/m_2015552_sw_05_060_20211226.tif\"\n",
            "[55] \"https://coastalimagery.blob.core.windows.net/digitalcoast/HI_NAIP_2021_9668/m_2015560_nw_05_060_20211226.tif\"\n",
            " [1] \"m_2215954_se_04_060_20220128.tif\" \"m_2215954_sw_04_060_20220321.tif\"\n",
            " [3] \"m_2115831_ne_04_060_20220211.tif\" \"m_2115831_se_04_060_20220211.tif\"\n",
            " [5] \"m_2115832_nw_04_060_20220211.tif\" \"m_2115832_sw_04_060_20220211.tif\"\n",
            " [7] \"m_2215952_ne_04_060_20220128.tif\" \"m_2215952_se_04_060_20220128.tif\"\n",
            " [9] \"m_2215952_se_04_060_20220321.tif\" \"m_2215953_nw_04_060_20220321.tif\"\n",
            "[11] \"m_2215953_sw_04_060_20220321.tif\" \"m_2115905_ne_04_060_20220321.tif\"\n",
            "[13] \"m_2115905_se_04_060_20220211.tif\" \"m_2115905_se_04_060_20220212.tif\"\n",
            "[15] \"m_2115906_nw_04_060_20220321.tif\" \"m_2115906_sw_04_060_20220211.tif\"\n",
            "[17] \"m_2115717_nw_04_060_20221217.tif\" \"m_2115717_sw_04_060_20221231.tif\"\n",
            "[19] \"m_2115824_ne_04_060_20221217.tif\" \"m_2115824_se_04_060_20221231.tif\"\n",
            "[21] \"m_2015605_sw_04_060_20221214.tif\" \"m_2015605_sw_04_060_20220327.tif\"\n",
            "[23] \"m_2115734_se_04_060_20221215.tif\" \"m_2115735_sw_04_060_20221215.tif\"\n",
            "[25] \"m_2115742_ne_04_060_20221215.tif\" \"m_2115743_nw_04_060_20221215.tif\"\n",
            "[27] \"m_2015612_se_04_060_20220108.tif\" \"m_2015613_sw_04_060_20220108.tif\"\n",
            "[29] \"m_1915524_ne_05_060_20221225.tif\" \"m_2215952_ne_04_060_20220128.tif\"\n",
            "[31] \"m_2215952_se_04_060_20220128.tif\" \"m_2215952_se_04_060_20220321.tif\"\n",
            "[33] \"m_2015604_se_04_060_20220108.tif\" \"m_2015604_se_04_060_20221214.tif\"\n",
            "[35] \"m_2015605_sw_04_060_20221214.tif\" \"m_2015605_sw_04_060_20220327.tif\"\n",
            "[37] \"m_2115733_se_04_060_20221215.tif\" \"m_2115733_sw_04_060_20221215.tif\"\n",
            "[39] \"m_2115741_ne_04_060_20221215.tif\" \"m_2115741_nw_04_060_20221215.tif\"\n",
            "[41] \"m_2115840_se_04_060_20221215.tif\" \"m_2115848_ne_04_060_20221215.tif\"\n",
            "[43] \"m_2015551_nw_05_060_20211215.tif\" \"m_2015551_sw_05_060_20211226.tif\"\n",
            "[45] \"m_2015604_ne_04_060_20220108.tif\" \"m_2015604_se_04_060_20220108.tif\"\n",
            "[47] \"m_2015604_se_04_060_20221214.tif\" \"m_2215962_ne_04_060_20220321.tif\"\n",
            "[49] \"m_2215962_nw_04_060_20220321.tif\" \"m_2215962_se_04_060_20220321.tif\"\n",
            "[51] \"m_2215962_sw_04_060_20220321.tif\" \"m_2015551_se_05_060_20211226.tif\"\n",
            "[53] \"m_2015559_ne_05_060_20220310.tif\" \"m_2015552_sw_05_060_20211226.tif\"\n",
            "[55] \"m_2015560_nw_05_060_20211226.tif\"\n"
          ]
        }
      ]
    },
    {
      "cell_type": "code",
      "source": [
        "# Specify the folder path\n",
        "folder_path <- \"/content/HI_2021_NAIP/\"\n",
        "\n",
        "# List all files in the folder\n",
        "folder_files <- list.files(folder_path)\n",
        "\n",
        "# Extract file names from the file paths in Naip_Wetlands_intersection\n",
        "file_names <- basename(Naip_Wetlands_intersection$url)\n",
        "\n",
        "# Compare file names in the folder with file names from Naip_Wetlands_intersection\n",
        "matching_files <- file_names[file_names %in% folder_files]\n",
        "\n",
        "# Print matching files\n",
        "print(matching_files)\n"
      ],
      "metadata": {
        "id": "895AjpaMp3L6",
        "outputId": "12a10484-c91f-4b12-e359-5686352f96e5",
        "colab": {
          "base_uri": "https://localhost:8080/"
        }
      },
      "execution_count": 105,
      "outputs": [
        {
          "output_type": "stream",
          "name": "stdout",
          "text": [
            " [1] \"m_2215954_se_04_060_20220128.tif\" \"m_2215954_sw_04_060_20220321.tif\"\n",
            " [3] \"m_2115832_nw_04_060_20220211.tif\" \"m_2115832_sw_04_060_20220211.tif\"\n",
            " [5] \"m_2215952_ne_04_060_20220128.tif\" \"m_2215952_se_04_060_20220128.tif\"\n",
            " [7] \"m_2215952_se_04_060_20220321.tif\" \"m_2115905_ne_04_060_20220321.tif\"\n",
            " [9] \"m_2115905_se_04_060_20220211.tif\" \"m_2115906_sw_04_060_20220211.tif\"\n",
            "[11] \"m_2115717_nw_04_060_20221217.tif\" \"m_2115717_sw_04_060_20221231.tif\"\n",
            "[13] \"m_2115824_ne_04_060_20221217.tif\" \"m_2115824_se_04_060_20221231.tif\"\n",
            "[15] \"m_2015605_sw_04_060_20221214.tif\" \"m_2115734_se_04_060_20221215.tif\"\n",
            "[17] \"m_2115742_ne_04_060_20221215.tif\" \"m_2015612_se_04_060_20220108.tif\"\n",
            "[19] \"m_2015613_sw_04_060_20220108.tif\" \"m_2215952_ne_04_060_20220128.tif\"\n",
            "[21] \"m_2215952_se_04_060_20220128.tif\" \"m_2215952_se_04_060_20220321.tif\"\n",
            "[23] \"m_2015604_se_04_060_20220108.tif\" \"m_2015604_se_04_060_20221214.tif\"\n",
            "[25] \"m_2015605_sw_04_060_20221214.tif\" \"m_2115733_sw_04_060_20221215.tif\"\n",
            "[27] \"m_2115840_se_04_060_20221215.tif\" \"m_2115848_ne_04_060_20221215.tif\"\n",
            "[29] \"m_2015551_nw_05_060_20211215.tif\" \"m_2015551_sw_05_060_20211226.tif\"\n",
            "[31] \"m_2015604_ne_04_060_20220108.tif\" \"m_2015604_se_04_060_20220108.tif\"\n",
            "[33] \"m_2015604_se_04_060_20221214.tif\" \"m_2215962_ne_04_060_20220321.tif\"\n",
            "[35] \"m_2215962_nw_04_060_20220321.tif\" \"m_2215962_se_04_060_20220321.tif\"\n",
            "[37] \"m_2215962_sw_04_060_20220321.tif\" \"m_2015551_se_05_060_20211226.tif\"\n"
          ]
        }
      ]
    },
    {
      "cell_type": "code",
      "source": [
        "# Specify the folder path\n",
        "folder_path <- \"/content/hi_naip/\"\n",
        "\n",
        "# List all files in the folder\n",
        "folder_files <- list.files(folder_path)\n",
        "\n",
        "# Extract file names from the file paths in Naip_Wetlands_intersection\n",
        "file_names <- basename(Naip_Wetlands_intersection$url)\n",
        "\n",
        "# Find files in the folder but not in Naip_Wetlands_intersection\n",
        "missing_in_table <- setdiff(folder_files, file_names)\n",
        "\n",
        "# Find files in Naip_Wetlands_intersection but not in the folder\n",
        "missing_in_folder <- setdiff(file_names, folder_files)\n",
        "\n",
        "# Print missing files\n",
        "cat(\"Files missing in Naip_Wetlands_intersection:\\n\")\n",
        "print(missing_in_table)\n",
        "\n",
        "cat(\"Files missing in folder:\\n\")\n",
        "print(missing_in_folder)\n"
      ],
      "metadata": {
        "id": "_kcRNJvZqOCN",
        "outputId": "2b581da6-bddc-403c-8679-391897df3713",
        "colab": {
          "base_uri": "https://localhost:8080/"
        }
      },
      "execution_count": 106,
      "outputs": [
        {
          "output_type": "stream",
          "name": "stdout",
          "text": [
            "Files missing in Naip_Wetlands_intersection:\n",
            "character(0)\n",
            "Files missing in folder:\n",
            " [1] \"m_2215954_se_04_060_20220128.tif\" \"m_2215954_sw_04_060_20220321.tif\"\n",
            " [3] \"m_2115831_ne_04_060_20220211.tif\" \"m_2115831_se_04_060_20220211.tif\"\n",
            " [5] \"m_2115832_nw_04_060_20220211.tif\" \"m_2115832_sw_04_060_20220211.tif\"\n",
            " [7] \"m_2215952_ne_04_060_20220128.tif\" \"m_2215952_se_04_060_20220128.tif\"\n",
            " [9] \"m_2215952_se_04_060_20220321.tif\" \"m_2215953_nw_04_060_20220321.tif\"\n",
            "[11] \"m_2215953_sw_04_060_20220321.tif\" \"m_2115905_ne_04_060_20220321.tif\"\n",
            "[13] \"m_2115905_se_04_060_20220211.tif\" \"m_2115905_se_04_060_20220212.tif\"\n",
            "[15] \"m_2115906_nw_04_060_20220321.tif\" \"m_2115906_sw_04_060_20220211.tif\"\n",
            "[17] \"m_2115717_nw_04_060_20221217.tif\" \"m_2115717_sw_04_060_20221231.tif\"\n",
            "[19] \"m_2115824_ne_04_060_20221217.tif\" \"m_2115824_se_04_060_20221231.tif\"\n",
            "[21] \"m_2015605_sw_04_060_20221214.tif\" \"m_2015605_sw_04_060_20220327.tif\"\n",
            "[23] \"m_2115734_se_04_060_20221215.tif\" \"m_2115735_sw_04_060_20221215.tif\"\n",
            "[25] \"m_2115742_ne_04_060_20221215.tif\" \"m_2115743_nw_04_060_20221215.tif\"\n",
            "[27] \"m_2015612_se_04_060_20220108.tif\" \"m_2015613_sw_04_060_20220108.tif\"\n",
            "[29] \"m_1915524_ne_05_060_20221225.tif\" \"m_2015604_se_04_060_20220108.tif\"\n",
            "[31] \"m_2015604_se_04_060_20221214.tif\" \"m_2115733_se_04_060_20221215.tif\"\n",
            "[33] \"m_2115733_sw_04_060_20221215.tif\" \"m_2115741_ne_04_060_20221215.tif\"\n",
            "[35] \"m_2115741_nw_04_060_20221215.tif\" \"m_2115840_se_04_060_20221215.tif\"\n",
            "[37] \"m_2115848_ne_04_060_20221215.tif\" \"m_2015551_nw_05_060_20211215.tif\"\n",
            "[39] \"m_2015551_sw_05_060_20211226.tif\" \"m_2015604_ne_04_060_20220108.tif\"\n",
            "[41] \"m_2215962_ne_04_060_20220321.tif\" \"m_2215962_nw_04_060_20220321.tif\"\n",
            "[43] \"m_2215962_se_04_060_20220321.tif\" \"m_2215962_sw_04_060_20220321.tif\"\n",
            "[45] \"m_2015551_se_05_060_20211226.tif\" \"m_2015559_ne_05_060_20220310.tif\"\n",
            "[47] \"m_2015552_sw_05_060_20211226.tif\" \"m_2015560_nw_05_060_20211226.tif\"\n"
          ]
        }
      ]
    },
    {
      "cell_type": "code",
      "source": [
        "stopCluster(cl)"
      ],
      "metadata": {
        "id": "CweIbK63q2ds"
      },
      "execution_count": 108,
      "outputs": []
    },
    {
      "cell_type": "code",
      "source": [
        "cl <- makeCluster(9)\n",
        "url <- \"https://coastalimagery.blob.core.windows.net/digitalcoast/HI_NAIP_2021_9668/m_2215954_sw_04_060_20220321.tif\"\n",
        "destination <- \"/content/HI_2021_NAIP/m_2215954_sw_04_060_20220321.tif\"\n",
        "download.file(url, destfile = destination, method = \"auto\")\n",
        "stopCluster(cl)"
      ],
      "metadata": {
        "id": "ZckhDNqvn630"
      },
      "execution_count": 107,
      "outputs": []
    },
    {
      "cell_type": "markdown",
      "source": [
        "Download NAIP vrt file"
      ],
      "metadata": {
        "id": "ghxSY8PRFqAv"
      }
    },
    {
      "cell_type": "code",
      "source": [
        "download.file('https://coast.noaa.gov/htdata/raster7/imagery/HI_NAIP_2021_9668/HI_NAIP_2021_EPSG-26904.vrt', paste('/content/HI_2021_NAIP/HI_NAIP_2021_EPSG-26904.vrt',sep=''))\n",
        "download.file('https://coast.noaa.gov/htdata/raster7/imagery/HI_NAIP_2021_9668/HI_NAIP_2021_EPSG-26905.vrt', paste('/content/HI_2021_NAIP/HI_NAIP_2021_EPSG-26905.vrt',sep=''))\n",
        "hawaii_naip <- stack('/content/HI_2021_NAIP/HI_NAIP_2021_EPSG-26904.vrt')\n",
        "hawaii_naip_5 <- stack('/content/HI_2021_NAIP/HI_NAIP_2021_EPSG-26905.vrt')"
      ],
      "metadata": {
        "id": "CbvR1zxT0zzA"
      },
      "execution_count": null,
      "outputs": []
    },
    {
      "cell_type": "markdown",
      "source": [
        "Name and point to the NAIP vrt file"
      ],
      "metadata": {
        "id": "6CQqBmZVFzgd"
      }
    },
    {
      "cell_type": "code",
      "source": [
        "download.file('https://coast.noaa.gov/htdata/raster7/imagery/HI_NAIP_2021_9668/HI_NAIP_2021_EPSG-26905.vrt', paste('/content/HI_2021_NAIP/HI_NAIP_2021_EPSG-26905.vrt',sep=''))\n"
      ],
      "metadata": {
        "id": "e3vvYYr-i-JR"
      },
      "execution_count": null,
      "outputs": []
    },
    {
      "cell_type": "code",
      "source": [
        "hawaii_naip <- stack('/content/HI_2021_NAIP/HI_NAIP_2021_EPSG-26904.vrt')"
      ],
      "metadata": {
        "id": "W3qBfvrN1Kn8"
      },
      "execution_count": null,
      "outputs": []
    },
    {
      "cell_type": "code",
      "source": [
        "hawaii_naip_5 <- stack('/content/HI_2021_NAIP/HI_NAIP_2021_EPSG-26905.vrt')"
      ],
      "metadata": {
        "id": "L2SqxKjZjoPT"
      },
      "execution_count": null,
      "outputs": []
    },
    {
      "cell_type": "markdown",
      "source": [
        "Create an ouput folder to save the fishnets"
      ],
      "metadata": {
        "id": "Py_Gp4ciGAKe"
      }
    },
    {
      "cell_type": "code",
      "source": [
        "dir.create('output_fishnets')"
      ],
      "metadata": {
        "id": "8MNrBoimLMAp"
      },
      "execution_count": null,
      "outputs": []
    },
    {
      "cell_type": "markdown",
      "source": [
        "    # changing the cell size affects the size of the individual grid cells in the fishnet grid\n",
        "    # decreasing the cell size = smaller grid & provides higher spatial resolution\n",
        "    # increasing the cell size = larger grid & reduces the spatial resolution\n",
        "\n",
        "    # naip 0.6m pixel resolution\n",
        "    # for 256 pixels wide tile and each pixel is 0.6m = (256*0.6) = (153.6,153.6) cell size\n",
        "    # for 128 pixels wide tile and each pixel is 0.6m = (128*0.6) = (76.8,76.8) cell size\n",
        "    # for 64 pixels wide tile and each pixel is 0.6m = (64*0.6) = (38.4,38.4) cell size\n",
        "    # for 32 pixels wide tile and each pixel is 0.6m = (32*0.6) = (19.2,19.2) cell size\n",
        "    # for 16 pixels wide tile and each pixel is 0.6m = (16*0.6) = (9.6,9.6) cell size\n",
        "\n",
        "    # naip 0.4m pixel resolution    \n",
        "    # for 256 pixels wide tile and each pixel is 0.4m = (256*0.4) = (102.4,102.4) cell size\n",
        "    # for 128 pixels wide tile and each pixel is 0.4m = (128*0.4) = (81.92,81.92) cell size\n",
        "    # for 64 pixels wide tile and each pixel is 0.4m = (64*0.4) = (25.6,25.6) cell size\n",
        "    # for 32 pixels wide tile and each pixel is 0.4m = (32*0.6) = (12.8,12.8) cell size\n",
        "    # for 16 pixels wide tile and each pixel is 0.4m = (16*0.4) = (6.4,6.4) cell size\n",
        "\n",
        "    # planet 3m pixel resolution\n",
        "    # for 256 pixels wide tile and each pixel is 3m = (256*3) = (768,768) cell size\n",
        "    # for 128 pixels wide tile and each pixel is 3m = (128*3) = (384,384) cell size\n",
        "    # for 64 pixels wide tile and each pixel is 3m = (64*3) = (192,192) cell size\n",
        "    # for 32 pixels wide tile and each pixel is 3m = (32*3) = (96,96) cell size\n",
        "    # for 16 pixels wide tile and each pixel is 3m = (16*3) = (48,48) cell size\n",
        "\n",
        "    # landsat 30m pixel resolution\n",
        "    # for 256 pixels wide tile and each pixel is 30m = (256*30) = (7680,7680) cell size\n",
        "    # for 128 pixels wide tile and each pixel is 30m = (128*30) = (3840,3840) cell size\n",
        "    # for 64 pixels wide tile and each pixel is 30m = (64*30) = (1920,1920) cell size\n",
        "    # for 32 pixels wide tile and each pixel is 30m = (32*30) = (960,960) cell size\n",
        "    # for 16 pixels wide tile and each pixel is 30m = (16*30) = (480,480) cell size"
      ],
      "metadata": {
        "id": "x4zJ9Y9lR44-"
      }
    },
    {
      "cell_type": "code",
      "source": [
        "hawaii_naip"
      ],
      "metadata": {
        "id": "lXo2pl7RcX4A"
      },
      "execution_count": null,
      "outputs": []
    },
    {
      "cell_type": "code",
      "source": [
        "hawaii_naip_5"
      ],
      "metadata": {
        "id": "rJ_tGEfqjwPh"
      },
      "execution_count": null,
      "outputs": []
    },
    {
      "cell_type": "code",
      "source": [
        "wetlands_sample <- wetlands_gpkg[1,] %>% st_transform(st_crs(hawaii_naip)) %>% crop(hawaii_naip,.)"
      ],
      "metadata": {
        "id": "e5znfeVvcnxN"
      },
      "execution_count": null,
      "outputs": []
    },
    {
      "cell_type": "code",
      "source": [
        "dir.create('output_utm4_dem')"
      ],
      "metadata": {
        "id": "pMAcScleBdtW"
      },
      "execution_count": null,
      "outputs": []
    },
    {
      "cell_type": "code",
      "source": [
        "# UTM 4 wetlands\n",
        "\n",
        "# 1:nrow(wetlands_gpkg) %>% lapply(function(y){\n",
        "#   wetlands_sample_utm4 <- wetlands_gpkg[y,] %>% st_transform(st_crs(hawaii_naip)) %>% crop(hawaii_naip,.)\n",
        "#   wetlands_fishnnet_gpkg_utm4 <- wetlands_gpkg[y,] %>% st_transform(st_crs(hawaii_naip)) %>% st_make_grid(cellsize =c(76.8,76.8)) %>% st_as_sf\n",
        "#   st_write(wetlands_fishnnet_gpkg_utm4,paste0('/content/output_utm5/',wetlands_gpkg$layer[y],'.gpkg')) # ,delete_dsn=T,delete_layer = T)\n",
        "# })\n",
        "\n",
        "1:nrow(wetlands_gpkg) %>% lapply(function(y){\n",
        "  wetlands_sample_utm4 <- wetlands_gpkg[y,] %>% st_transform(st_crs(hawaii_naip)) %>% crop(hawaii_naip,.)\n",
        "  wetlands_fishnnet_gpkg_utm4 <- wetlands_gpkg[y,] %>% st_transform(st_crs(hawaii_naip)) %>% st_make_grid(cellsize =c(76.8,76.8)) %>% st_as_sf\n",
        "  dem_loc_gpkg <- dem_gpkg %>% st_as_sf() %>% st_transform(st_crs(wetlands_gpkg[y,])) %>% st_intersection(wetlands_gpkg[y,])\n",
        "  dem_load_tif <- raster(dem_loc_gpkg$path) %>% crop(., wetlands_sample_utm4)\n",
        "  st_write(wetlands_fishnnet_gpkg_utm4,paste0('/content/output_utm4_dem/',wetlands_gpkg$layer[y],'.gpkg')) # ,delete_dsn=T,delete_layer = T)\n",
        "})\n",
        "\n",
        "\n"
      ],
      "metadata": {
        "id": "ddbpdLGAeSFm"
      },
      "execution_count": null,
      "outputs": []
    },
    {
      "cell_type": "code",
      "source": [
        "dir.create('output_utm5_dem')"
      ],
      "metadata": {
        "id": "hnnPXuFYiElz"
      },
      "execution_count": null,
      "outputs": []
    },
    {
      "cell_type": "code",
      "source": [
        "# UTM 5 wetlands\n",
        "\n",
        "# 1:nrow(wetlands_gpkg_5) %>% lapply(function(y){\n",
        "#   wetlands_sample_utm5 <- wetlands_gpkg_5[y,] %>% st_transform(st_crs(hawaii_naip_5)) %>% crop(hawaii_naip_5,.)\n",
        "#   wetlands_fishnnet_gpkg_utm5 <- wetlands_gpkg_5[y,] %>% st_transform(st_crs(hawaii_naip_5)) %>% st_make_grid(cellsize =c(76.8,76.8)) %>% st_as_sf\n",
        "#   st_write(wetlands_fishnnet_gpkg_utm5,paste0('/content/output_utm5_dem/',wetlands_gpkg_5$layer[y],'.gpkg'))  # ,delete_dsn=T,delete_layer = T)\n",
        "# })\n",
        "\n",
        "\n",
        "\n",
        "\n",
        "# wetland_aoi_gpkg hawaii_naip\n",
        "1:nrow(wetlands_gpkg_5) %>% lapply(function(y) {\n",
        "  wetlands_sample_utm5 <- wetlands_gpkg_5[y,] %>% st_transform(st_crs(hawaii_naip_5)) %>% crop(hawaii_naip_5,.)\n",
        "  dem_loc_gpkg <- dem_gpkg %>% st_as_sf() %>% st_transform(st_crs(wetlands_gpkg_5[y,])) %>% st_intersection(wetlands_gpkg_5[y,])\n",
        "  dem_load_tif <- raster(dem_loc_gpkg$path) %>% crop(., wetlands_sample_utm5)\n",
        "  st_write(wetlands_fishnnet_gpkg_utm5,paste0('/content/output_utm5_dem/',wetlands_gpkg_5$layer[y],'.gpkg'))  # ,delete_dsn=T,delete_layer = T)\n",
        "})\n",
        "\n",
        "  #   # Process CCAP data\n",
        "  #   ccap_loc_gpkg <- ccap_gpkg %>%\n",
        "  #     st_as_sf() %>%\n",
        "  #     st_transform(st_crs(wetland_aoi_gpkg[y,])) %>%\n",
        "  #     st_intersection(wetland_aoi_gpkg[y,])\n",
        "  #   ccap_load_tif <- raster(ccap_loc_gpkg$path) %>%\n",
        "  #     crop(., wetlands_sample)\n",
        "\n",
        "  #   # Process NLCD data\n",
        "  #   nlcd_load_tif <- raster(nlcd_tif) %>%\n",
        "  #     crop(., wetlands_sample)\n",
        "\n",
        "  #   # Generate fishnet grid for the area\n",
        "  #   wetlands_fishnet_gpkg <- wetland_aoi_gpkg[y,] %>%\n",
        "  #     st_transform(st_crs(hawaii_naip)) %>%\n",
        "  #     st_make_grid(cellsize = c(76.8, 76.8)) %>%\n",
        "  #     st_as_sf()\n",
        "\n",
        "  #   # Save fishnet to GeoPackage\n",
        "  #   st_write(wetlands_fishnet_gpkg, paste0('/content/output_fishnets/', wetland_aoi_gpkg$layer[y], '.gpkg'), delete_dsn = TRUE, delete_layer = TRUE)\n",
        "  # })\n",
        "\n",
        "\n"
      ],
      "metadata": {
        "id": "wU62pDSA3MRT"
      },
      "execution_count": null,
      "outputs": []
    },
    {
      "cell_type": "code",
      "source": [
        "# @title\n",
        "# Print the first row of wetlands_gpkg_5\n",
        "print(extent(wetlands_gpkg_5))\n",
        "print(st_crs(wetlands_gpkg_5))"
      ],
      "metadata": {
        "id": "WXdtlaxG8zG_"
      },
      "execution_count": null,
      "outputs": []
    },
    {
      "cell_type": "code",
      "source": [
        "# Print the CRS of hawaii_naip_5\n",
        "print(extent(hawaii_naip_5))\n",
        "print(st_crs(hawaii_naip_5))"
      ],
      "metadata": {
        "id": "tsAWqKUo-NsT"
      },
      "execution_count": null,
      "outputs": []
    },
    {
      "cell_type": "code",
      "source": [
        "# Print the CRS of nlcd_tif\n",
        "print(extent(nlcd_tif))\n",
        "print(st_crs(nlcd_tif))"
      ],
      "metadata": {
        "id": "Pi38W0wh-Svr"
      },
      "execution_count": null,
      "outputs": []
    },
    {
      "cell_type": "code",
      "source": [
        "print(extent(nwi_gpkg))\n",
        "print(st_crs(nwi_gpkg))"
      ],
      "metadata": {
        "id": "tq8rf_V3-6UR"
      },
      "execution_count": null,
      "outputs": []
    },
    {
      "cell_type": "code",
      "source": [
        "# # Check the extent of the two objects\n",
        "# print(extent(wetlands_gpkg[y,]))\n",
        "# print(st_crs(wetlands_gpkg[y,]))\n",
        "# # print(extent(hawaii_naip_5))"
      ],
      "metadata": {
        "id": "herE5Gh4rt1Y"
      },
      "execution_count": null,
      "outputs": []
    },
    {
      "cell_type": "code",
      "source": [
        "# print(extent(hawaii_naip_5))\n",
        "# print(st_crs(hawaii_naip_5))"
      ],
      "metadata": {
        "id": "nCf3pJyZrwjF"
      },
      "execution_count": null,
      "outputs": []
    },
    {
      "cell_type": "code",
      "source": [
        "dem_loc_gpkg <- dem_gpkg %>% st_as_sf %>% st_transform(st_crs(wetlands_gpkg[y,])) %>% st_intersection(wetlands_gpkg[y,])\n",
        "dem_load_tif <- dem_loc_gpkg$path %>% raster %>% crop(., wetlands_fishnnet_gpkg[y,] %>% st_transform(st_crs(dem_load_tif)))"
      ],
      "metadata": {
        "id": "mLGehjA4emjU"
      },
      "execution_count": null,
      "outputs": []
    },
    {
      "cell_type": "code",
      "source": [
        "# Load necessary libraries\n",
        "library(raster)\n",
        "library(sf)\n",
        "library(fasterize)\n",
        "library(magrittr)\n",
        "library(googledrive)\n",
        "library(parallel)\n",
        "library(data.table)\n",
        "\n",
        "# Ensure output directories exist\n",
        "dir.create(\"/content/output_fishnets/\", recursive = TRUE, showWarnings = FALSE)\n",
        "dir.create(\"/content/output_chips/\", recursive = TRUE, showWarnings = FALSE)\n",
        "\n",
        "# Pre-process and transform data for each wetland area of interest\n",
        "1:nrow(wetland_aoi_gpkg) %>%\n",
        "  lapply(function(y) {\n",
        "    # Transform and crop to wetland sample\n",
        "    wetlands_sample <- wetland_aoi_gpkg[y,] %>%\n",
        "      st_transform(st_crs(hawaii_naip)) %>%\n",
        "      crop(hawaii_naip, .)\n",
        "\n",
        "    # Process DEM data\n",
        "    dem_loc_gpkg <- dem_gpkg %>%\n",
        "      st_as_sf() %>%\n",
        "      st_transform(st_crs(wetland_aoi_gpkg[y,])) %>%\n",
        "      st_intersection(wetland_aoi_gpkg[y,])\n",
        "    dem_load_tif <- raster(dem_loc_gpkg$path) %>%\n",
        "      crop(., wetlands_sample)\n",
        "\n",
        "    # Process CCAP data\n",
        "    ccap_loc_gpkg <- ccap_gpkg %>%\n",
        "      st_as_sf() %>%\n",
        "      st_transform(st_crs(wetland_aoi_gpkg[y,])) %>%\n",
        "      st_intersection(wetland_aoi_gpkg[y,])\n",
        "    ccap_load_tif <- raster(ccap_loc_gpkg$path) %>%\n",
        "      crop(., wetlands_sample)\n",
        "\n",
        "    # Process NLCD data\n",
        "    nlcd_load_tif <- raster(nlcd_tif) %>%\n",
        "      crop(., wetlands_sample)\n",
        "\n",
        "    # Generate fishnet grid for the area\n",
        "    wetlands_fishnet_gpkg <- wetland_aoi_gpkg[y,] %>%\n",
        "      st_transform(st_crs(hawaii_naip)) %>%\n",
        "      st_make_grid(cellsize = c(76.8, 76.8)) %>%\n",
        "      st_as_sf()\n",
        "\n",
        "    # Save fishnet to GeoPackage\n",
        "    st_write(wetlands_fishnet_gpkg, paste0('/content/output_fishnets/', wetland_aoi_gpkg$layer[y], '.gpkg'), delete_dsn = TRUE, delete_layer = TRUE)\n",
        "  })\n",
        "\n",
        "# Parallel processing for spatial analysis and raster operations\n",
        "cl <- makeCluster(8)\n",
        "clusterExport(cl, varlist = c(\"wetland_aoi_gpkg\", \"hawaii_naip\", \"dem_gpkg\", \"ccap_gpkg\", \"nlcd_tif\", \"nwi_gpkg\"))\n",
        "\n",
        "1:nrow(wetland_aoi_gpkg) %>%\n",
        "  parLapply(cl, ., function(x, wetland_aoi_gpkg, hawaii_naip, dem_gpkg, ccap_gpkg, nlcd_tif, nwi_gpkg) {\n",
        "    # Repeat the transformation and cropping for parallel execution context\n",
        "    wetlands_sample <- wetland_aoi_gpkg[x,] %>%\n",
        "      st_transform(st_crs(hawaii_naip)) %>%\n",
        "      crop(hawaii_naip, .)\n",
        "\n",
        "    sample_chip <- wetlands_sample # Assuming sample_chip uses wetlands_sample directly\n",
        "\n",
        "    # Project raster data to match sample_chip\n",
        "    sample_chip$dem <- projectRaster(dem_load_tif, sample_chip, method = \"ngb\")\n",
        "    sample_chip$ccap <- projectRaster(ccap_load_tif, sample_chip, method = \"ngb\")\n",
        "    sample_chip$nlcd <- projectRaster(nlcd_load_tif, sample_chip, method = \"ngb\")\n",
        "\n",
        "    # Classify wetland types\n",
        "    nwi_gpkg$wetland_ty <- as.factor(nwi_gpkg$wetland_ty)\n",
        "    nwi_gpkg <- nwi_gpkg %>%\n",
        "      st_transform(st_crs(sample_chip))\n",
        "\n",
        "    sample_chip$class <- fasterize(nwi_gpkg, sample_chip[[1]], field = 'wetland_ty', fun = \"first\")\n",
        "\n",
        "    # Fill missing class values with NLCD data, then set remaining NAs to 0\n",
        "    sample_chip$class_fill <- sample_chip$class\n",
        "    values(sample_chip$class_fill)[is.na(values(sample_chip$class_fill))] <- values(sample_chip$nlcd)[is.na(values(sample_chip$class_fill))]\n",
        "    values(sample_chip$class_fill)[is.na(values(sample_chip$class_fill))] <- 0\n",
        "\n",
        "    # Set NA values in DEM, NLCD, and class columns to 0\n",
        "    values(sample_chip$dem)[is.na(values(sample_chip$dem))] <- 0\n",
        "    values(sample_chip$nlcd)[is.na(values(sample_chip$nlcd))] <- 0\n",
        "    values(sample_chip$class)[is.na(values(sample_chip$class))] <- 0\n",
        "    values(sample_chip$ccap)[is.na(values(sample_chip$ccap))] <- 0\n",
        "\n",
        "    # Write the processed sample_chip to a raster file\n",
        "    writeRaster(sample_chip, paste0('output_chips/', (extent(sample_chip) %>% round)[1], '_', (extent(sample_chip) %>% round)[3], '.tif'), overwrite = TRUE)\n",
        "  }, wetland_aoi_gpkg, hawaii_naip, dem_gpkg, ccap_gpkg, nlcd_tif, nwi_gpkg)\n",
        "stopCluster(cl)\n"
      ],
      "metadata": {
        "id": "KHfOTHNT_mAi"
      },
      "execution_count": null,
      "outputs": []
    },
    {
      "cell_type": "code",
      "source": [
        "wetlands_sample\n",
        "wetlands_sample_utm4\n",
        "wetlands_sample_utm5"
      ],
      "metadata": {
        "id": "g0JBIxydcwmX"
      },
      "execution_count": null,
      "outputs": []
    },
    {
      "cell_type": "code",
      "source": [
        "wetlands_fishnet_gpkg <- wetlands_gpkg[1,] %>% st_transform(st_crs(hawaii_naip)) %>% st_make_grid(cellsize =c(76.8,76.8)) %>% st_as_sf"
      ],
      "metadata": {
        "id": "PO_PkyDBc0f5"
      },
      "execution_count": null,
      "outputs": []
    },
    {
      "cell_type": "code",
      "source": [
        "wetlands_fishnet_gpkg %>% plot"
      ],
      "metadata": {
        "id": "xqgzWGRlc3UB"
      },
      "execution_count": null,
      "outputs": []
    },
    {
      "cell_type": "code",
      "source": [
        "wetlands_fishnet_sample <- wetlands_fishnet_gpkg[200,] %>% st_transform(st_crs(hawaii_naip)) %>% crop(wetlands_sample,.)%>% plot"
      ],
      "metadata": {
        "id": "g8WMAM7odFWF"
      },
      "execution_count": null,
      "outputs": []
    },
    {
      "cell_type": "code",
      "source": [
        "sample_chip <- wetlands_fishnet_gpkg[20,] %>% st_transform(st_crs(hawaii_naip)) %>% crop(wetlands_sample,.)\n",
        "sample_chip\n",
        "sample_chip%>% plot"
      ],
      "metadata": {
        "id": "db7lxRP8dT5o"
      },
      "execution_count": null,
      "outputs": []
    },
    {
      "cell_type": "code",
      "source": [
        "nwi_gpkg$wetland_ty %>% table"
      ],
      "metadata": {
        "id": "q-gEV9j3dyl_"
      },
      "execution_count": null,
      "outputs": []
    },
    {
      "cell_type": "code",
      "source": [
        "1:nrow(wetlands_gpkg) %>%\n",
        "  lapply(function(y){\n",
        "wetlands_sample <- wetlands_gpkg[y,] %>% st_transform(st_crs(hawaii_naip)) %>% crop(hawaii_naip,.)\n",
        "dem_loc_gpkg <- dem_gpkg %>% st_as_sf %>% st_transform(st_crs(wetlands_gpkg[y,])) %>% st_intersection(wetlands_gpkg[y,])\n",
        "dem_load_tif <- dem_loc_gpkg$path %>% raster %>% crop(., wetlands_fishnnet_gpkg[y,] %>% st_transform(st_crs(dem_load_tif)))\n",
        "ccap_loc_gpkg <- ccap_gpkg %>% st_as_sf %>% st_transform(st_crs(wetlands_gpkg[y,])) %>% st_intersection(wetlands_gpkg[y,])\n",
        "ccap_load_tif <- ccap_loc_gpkg$path %>% raster %>% crop(., wetlands_fishnnet_gpkg[y,] %>% st_transform(st_crs(ccap_load_tif)))\n",
        "nlcd_load_tif <- nlcd_tif %>% crop(., wetlands_fishnnet_gpkg[y,] %>% st_transform(st_crs(nlcd_tif)))\n",
        "wetlands_fishnnet_gpkg <- wetlands_gpkg[y,] %>% st_transform(st_crs(hawaii_naip)) %>% st_make_grid(cellsize =c(76.8,76.8)) %>% st_as_sf\n",
        "st_write(wetlands_fishnnet_gpkg,paste0('/content/output_fishnets/',wetlands_gpkg$layer[y],'.gpkg'),delete_dsn=T,delete_layer = T)\n",
        "  })"
      ],
      "metadata": {
        "id": "XgRpu6C6buRI"
      },
      "execution_count": null,
      "outputs": []
    },
    {
      "cell_type": "code",
      "source": [
        "1:nrow(wetlands_gpkg) %>%\n",
        "  lapply(function(y){\n",
        "wetlands_sample <- wetlands_gpkg[y,] %>% st_transform(st_crs(hawaii_naip)) %>% crop(hawaii_naip,.)\n",
        "dem_loc_gpkg <- dem_gpkg %>% st_as_sf %>% st_transform(st_crs(wetlands_gpkg[y,])) %>% st_intersection(wetlands_gpkg[y,])\n",
        "dem_load_tif <- dem_loc_gpkg$path %>% raster %>% crop(., wetlands_fishnnet_gpkg[y,] %>% st_transform(st_crs(dem_load_tif)))\n",
        "ccap_loc_gpkg <- ccap_gpkg %>% st_as_sf %>% st_transform(st_crs(wetlands_gpkg[y,])) %>% st_intersection(wetlands_gpkg[y,])\n",
        "ccap_load_tif <- ccap_loc_gpkg$path %>% raster %>% crop(., wetlands_fishnnet_gpkg[y,] %>% st_transform(st_crs(ccap_load_tif)))\n",
        "nlcd_load_tif <- nlcd_tif %>% crop(., wetlands_fishnnet_gpkg[y,] %>% st_transform(st_crs(nlcd_tif)))\n",
        "wetlands_fishnnet_gpkg <- wetlands_gpkg[y,] %>% st_transform(st_crs(hawaii_naip)) %>% st_make_grid(cellsize =c(76.8,76.8)) %>% st_as_sf\n",
        "# file.remove(paste0('/content/output_fishnets/',wetlands_sample$layer[1],'.gpkg'))\n",
        "st_write(wetlands_fishnnet_gpkg,paste0('/content/output_fishnets/',wetlands_gpkg$layer[y],'.gpkg'),delete_dsn=T,delete_layer = T)\n",
        "\n",
        "cl <- makeCluster(8)\n",
        "1:nrow(download_index_gpkg) %>%\n",
        "  parLapply(cl,.,function(x,wetlands_fishnnet_gpkg,hawaii_naip,wetlands_sample,dem_load_tif,ccap_load_tif,nlcd_load_tif,nwi_gpkg){\n",
        "\n",
        "library(raster)\n",
        "library(sf)\n",
        "library(fasterize)\n",
        "library(magrittr)\n",
        "library(googledrive)\n",
        "library(parallel)\n",
        "library(data.table)\n",
        "sample_chip <- wetlands_fishnnet_gpkg[x,] %>% st_transform(st_crs(hawaii_naip)) %>% crop(wetlands_sample,.)\n",
        "sample_chip$dem <- projectRaster(dem_load_tif, sample_chip, method=\"ngb\")\n",
        "sample_chip$nlcd <- projectRaster(nlcd_load_tif, sample_chip, method=\"ngb\")\n",
        "sample_chip$ccap <- projectRaster(ccap_load_tif, sample_chip, method=\"ngb\")\n",
        "nwi_gpkg$wetland_ty <- nwi_gpkg$wetland_ty %>% as.factor\n",
        "nwi_gpkg <- nwi_gpkg %>% st_transform(st_crs(sample_chip))\n",
        "sample_chip$class <- fasterize(\n",
        "nwi_gpkg,\n",
        "sample_chip[[1]],\n",
        "field = 'wetland_ty',\n",
        "fun = \"first\")\n",
        "sample_chip$class_fill <-sample_chip$class\n",
        "values(sample_chip$class_fill)[is.na(values(sample_chip$class_fill))] <- values(sample_chip$nlcd)[is.na(values(sample_chip$class_fill))]\n",
        "values(sample_chip$class_fill)[is.na(values(sample_chip$class_fill))] <- 0\n",
        "values(sample_chip$dem)[is.na(values(sample_chip$dem))] <- 0\n",
        "values(sample_chip$ccap)[is.na(values(sample_chip$ccap))] <- 0\n",
        "values(sample_chip$nlcd)[is.na(values(sample_chip$nlcd))] <- 0\n",
        "values(sample_chip$class)[is.na(values(sample_chip$class))] <- 0\n",
        "sample_chip  %>% writeRaster(paste0('output_chips/',(sample_chip %>% extent %>% round)[1],'_',(sample_chip %>% extent %>% round)[3],'.tif'),overwrite=T)\n",
        "\n",
        "  },wetlands_fishnnet_gpkg,hawaii_naip,wetlands_sample,dem_load_tif,ccap_load_tif,nlcd_load_tif,nwi_gpkg)\n",
        "stopCluster(cl)\n",
        "  })"
      ],
      "metadata": {
        "id": "xYrY_2Vndage"
      },
      "execution_count": null,
      "outputs": []
    },
    {
      "cell_type": "code",
      "source": [
        "# Iterate over each row index of the 'wetland_aoi_gpkg' dataset\n",
        "1:nrow(wetland_aoi_gpkg) %>% lapply(function(y){\n",
        "\n",
        "# Select the wetland polygon of interest for the current row index,\n",
        "# transform its CRS to match that of 'hawaii_naip'\n",
        "# crop the 'hawaii_naip' raster dataset to the wetland polygon\n",
        "# wetland_polygon /was/ wetlands_sample\n",
        "wetland_polygon <- wetland_aoi_gpkg[y,] %>% st_transform(st_crs(hawaii_naip)) %>% crop(hawaii_naip,.)\n",
        "\n",
        "# DEM ----------------------------------------------------------------------------------------------------------------\n",
        "# Extract elevation data within the extent of the current wetland polygon,\n",
        "# transform its CRS to match that of the wetland polygon, and calculate the intersection with the wetland polygon\n",
        "# dem_location_gpkg /was/ dem_loc_gpkg  dem_gpkg\n",
        "dem_location_gpkg <- dem_gpkg %>% st_as_sf %>% st_transform(st_crs(wetland_aoi_gpkg[y,])) %>% st_intersection(wetland_aoi_gpkg[y,])\n",
        "\n",
        "# Crop the elevation data raster to the extent of the intersected wetland polygon\n",
        "# dem_load_tif\n",
        "# wetland_aoi_fishnet_gpkg /was/ wetlands_fishnnet_gpkg\n",
        "dem_load_tif <- dem_location_gpkg$path %>% raster %>% crop(., wetland_aoi_fishnet_gpkg[y,] %>% st_transform(st_crs(dem_load_tif)))\n",
        "\n",
        "# CCAP ----------------------------------------------------------------------------------------------------------------\n",
        "# Extract ccap data within the extent of the current wetland polygon,\n",
        "# transform its CRS to match that of the wetland polygon, and calculate the intersection with the wetland polygon\n",
        "# dem_location_gpkg /was/ dem_loc_gpkg\n",
        "# ccap_gpkg\n",
        "# dem_location_gpkg\n",
        "ccap_location_gpkg <- ccap_gpkg %>% st_as_sf %>% st_transform(st_crs(wetland_aoi_gpkg[y,])) %>% st_intersection(wetland_aoi_gpkg[y,])\n",
        "\n",
        "# Crop the ccap data raster to the extent of the intersected wetland polygon\n",
        "# ccap_load_tif\n",
        "# wetland_aoi_fishnet_gpkg /was/ wetlands_fishnnet_gpkg\n",
        "ccap_load_tif <- ccap_location_gpkg$path %>% raster %>% crop(., wetland_aoi_fishnet_gpkg[y,] %>% st_transform(st_crs(ccap_load_tif)))\n",
        "\n",
        "\n",
        "# NLCD ----------------------------------------------------------------------------------------------------------------\n",
        "# Crop the NLCD raster dataset to the extent of the intersected wetland polygon\n",
        "nlcd_load_tif <- nlcd_tif %>% crop(., wetland_aoi_fishnet_gpkg[y,] %>% st_transform(st_crs(nlcd_tif)))\n",
        "\n",
        "\n",
        "# Transform the wetland polygon to match the CRS of 'hawaii_naip',\n",
        "# create a grid of fishnet cells with a specified cell size, and convert it to an sf object\n",
        "# change cell size\n",
        "wetland_aoi_fishnet_gpkg <- wetland_aoi_gpkg[y,] %>% st_transform(st_crs(hawaii_naip)) %>% st_make_grid(cellsize =c(76.8,76.8)) %>% st_as_sf\n",
        "\n",
        "# file.remove(paste0('/content/output_fishnets/',wetland_polygon$layer[1],'.gpkg'))\n",
        "\n",
        "# Write the fishnet grid to a GeoPackage file in the 'output_fishnets' directory,\n",
        "# with the filename based on the layer name from 'wetland_aoi_gpkg'\n",
        "st_write(wetland_aoi_fishnet_gpkg,paste0('/content/output_fishnets/',wetland_aoi_gpkg$layer[y],'.gpkg'),delete_dsn=T,delete_layer = T)\n",
        "  })"
      ],
      "metadata": {
        "id": "28PwKRd_dGVS"
      },
      "execution_count": null,
      "outputs": []
    },
    {
      "cell_type": "code",
      "source": [
        "# Iterate over each row index of the 'wetland_aoi_gpkg' dataset\n",
        "1:nrow(wetland_aoi_gpkg) %>%\n",
        "  lapply(function(y){\n",
        "\n",
        "# Select the wetland polygon of interest for the current row index,\n",
        "# transform its CRS to match that of 'hawaii_naip'\n",
        "# crop the 'hawaii_naip' raster dataset to the wetland polygon\n",
        "wetland_polygon <- wetland_aoi_gpkg[y,] %>% # wetland_polygon /was/ wetlands_sample\n",
        "  st_transform(st_crs(hawaii_naip)) %>%\n",
        "    crop(hawaii_naip,.)\n",
        "\n",
        "# DEM ----------------------------------------------------------------------------------------------------------------\n",
        "# Extract elevation data within the extent of the current wetland polygon,\n",
        "# transform its CRS to match that of the wetland polygon, and calculate the intersection with the wetland polygon\n",
        "dem_location_gpkg <- dem_gpkg %>% # dem_location_gpkg /was/ dem_loc_gpkg  dem_gpkg\n",
        "  st_as_sf %>%\n",
        "  st_transform(st_crs(wetland_aoi_gpkg[y,])) %>%\n",
        "  st_intersection(wetland_aoi_gpkg[y,])\n",
        "\n",
        "# Crop the elevation data raster to the extent of the intersected wetland polygon\n",
        "dem_load_tif <- dem_location_gpkg$path %>%  # dem_load_tif\n",
        "  raster %>%\n",
        "    crop(., wetland_aoi_fishnet_gpkg[y,] %>% st_transform(st_crs(dem_load_tif))) # wetland_aoi_fishnet_gpkg /was/ wetlands_fishnnet_gpkg\n",
        "\n",
        "# CCAP ----------------------------------------------------------------------------------------------------------------\n",
        "# Extract ccap data within the extent of the current wetland polygon,\n",
        "# transform its CRS to match that of the wetland polygon, and calculate the intersection with the wetland polygon\n",
        "ccap_location_gpkg <- ccap_gpkg %>% # dem_location_gpkg /was/ dem_loc_gpkg      ccap_gpkg dem_location_gpkg\n",
        "  st_as_sf %>%\n",
        "  st_transform(st_crs(wetland_aoi_gpkg[y,])) %>%\n",
        "  st_intersection(wetland_aoi_gpkg[y,])\n",
        "\n",
        "# Crop the ccap data raster to the extent of the intersected wetland polygon\n",
        "ccap_load_tif <- ccap_location_gpkg$path %>%  # ccap_load_tif\n",
        "  raster %>%\n",
        "    crop(., wetland_aoi_fishnet_gpkg[y,] %>% st_transform(st_crs(ccap_load_tif))) # wetland_aoi_fishnet_gpkg /was/ wetlands_fishnnet_gpkg\n",
        "\n",
        "\n",
        "# NLCD ----------------------------------------------------------------------------------------------------------------\n",
        "# Crop the NLCD raster dataset to the extent of the intersected wetland polygon\n",
        "nlcd_load_tif <- nlcd_tif %>%\n",
        "  crop(., wetland_aoi_fishnet_gpkg[y,] %>% st_transform(st_crs(nlcd_tif)))\n",
        "\n",
        "\n",
        "# Transform the wetland polygon to match the CRS of 'hawaii_naip',\n",
        "# create a grid of fishnet cells with a specified cell size, and convert it to an sf object\n",
        "wetland_aoi_fishnet_gpkg <- wetland_aoi_gpkg[y,] %>%\n",
        "  st_transform(st_crs(hawaii_naip)) %>%\n",
        "    st_make_grid(cellsize =c(76.8,76.8)) %>% # change cell size\n",
        "      st_as_sf\n",
        "\n",
        "# file.remove(paste0('/content/output_fishnets/',wetland_polygon$layer[1],'.gpkg'))\n",
        "\n",
        "# Write the fishnet grid to a GeoPackage file in the 'output_fishnets' directory,\n",
        "# with the filename based on the layer name from 'wetland_aoi_gpkg'\n",
        "st_write(wetland_aoi_fishnet_gpkg,paste0('/content/output_fishnets/',wetland_aoi_gpkg$layer[y],'.gpkg'),delete_dsn=T,delete_layer = T)\n",
        "\n",
        "cl <- makeCluster(8)\n",
        "1:nrow(download_index_gpkg) %>%\n",
        "  parLapply(cl,.,function(x,wetland_aoi_fishnet_gpkg,hawaii_naip,wetland_polygon,dem_load_tif,ccap_load_tif,nlcd_load_tif,nwi_gpkg){\n",
        "\n",
        "library(raster)\n",
        "library(sf)\n",
        "library(fasterize)\n",
        "library(magrittr)\n",
        "library(googledrive)\n",
        "library(parallel)\n",
        "library(data.table)\n",
        "\n",
        "# Define a sample chip by transforming the wetland polygon to match the CRS of 'hawaii_naip',\n",
        "# and crop it to the extent of the wetland sample\n",
        "sample_chip <- wetland_aoi_fishnet_gpkg[x,] %>%\n",
        "  st_transform(st_crs(hawaii_naip)) %>%\n",
        "    crop(wetland_polygon,.)\n",
        "\n",
        "# Project the elevation and NLCD data to match the extent and resolution of the sample chip using nearest neighbor (ngb)\n",
        "sample_chip$dem <- projectRaster(dem_load_tif, sample_chip, method=\"ngb\")\n",
        "sample_chip$ccap <- projectRaster(ccap_load_tif, sample_chip, method=\"ngb\")\n",
        "sample_chip$nlcd <- projectRaster(nlcd_load_tif, sample_chip, method=\"ngb\")\n",
        "\n",
        "\n",
        "# Convert the 'wetland_ty' column in 'nwi_gpkg' to a factor and transform its CRS to match the sample chip\n",
        "nwi_gpkg$wetland_ty <- nwi_gpkg$wetland_ty %>% as.factor\n",
        "nwi_gpkg <- nwi_gpkg %>% st_transform(st_crs(sample_chip))\n",
        "\n",
        "# Classify wetland types using fasterize and assign the result to the 'class' column of the sample chip\n",
        "sample_chip$class <- fasterize(\n",
        "nwi_gpkg,\n",
        "sample_chip[[1]],\n",
        "field = 'wetland_ty',\n",
        "fun = \"first\")\n",
        "\n",
        "# Create a 'class_fill' column in the sample chip and fill missing values using NLCD data,\n",
        "# then set remaining missing values to 0\n",
        "sample_chip$class_fill <-sample_chip$class\n",
        "values(sample_chip$class_fill)[is.na(values(sample_chip$class_fill))] <- values(sample_chip$nlcd)[is.na(values(sample_chip$class_fill))]\n",
        "values(sample_chip$class_fill)[is.na(values(sample_chip$class_fill))] <- 0\n",
        "\n",
        "# Set NA values in the elevation, NLCD, class, and ccap columns of the sample chip to 0\n",
        "values(sample_chip$dem)[is.na(values(sample_chip$dem))] <- 0\n",
        "values(sample_chip$nlcd)[is.na(values(sample_chip$nlcd))] <- 0\n",
        "values(sample_chip$class)[is.na(values(sample_chip$class))] <- 0\n",
        "values(sample_chip$ccap)[is.na(values(sample_chip$ccap))] <- 0\n",
        "\n",
        "# Write the sample chip to a tif file in the 'output_chips' directory\n",
        "sample_chip  %>% writeRaster(paste0('output_chips/',(sample_chip %>% extent %>% round)[1],'_',(sample_chip %>% extent %>% round)[3],'.tif'),overwrite=T)\n",
        "\n",
        "  },wetland_aoi_fishnet_gpkg,hawaii_naip,wetland_polygon,dem_load_tif,ccap_load_tif,nlcd_load_tif,nwi_gpkg)\n",
        "stopCluster(cl)\n",
        "  })"
      ],
      "metadata": {
        "id": "r_028zA554bZ"
      },
      "execution_count": null,
      "outputs": []
    },
    {
      "cell_type": "code",
      "source": [
        "zip(zipfile = 'testZip', files = 'testDir/test.csv') #make this work"
      ],
      "metadata": {
        "id": "mg6S8zDvVFVz"
      },
      "execution_count": null,
      "outputs": []
    },
    {
      "cell_type": "code",
      "source": [
        "#put code here to upload to drive"
      ],
      "metadata": {
        "id": "UqCOVY7pVNsM"
      },
      "execution_count": null,
      "outputs": []
    },
    {
      "cell_type": "code",
      "source": [
        "zip(zipfile = \"/content/output_utm5.zip\",\n",
        "    files = c(\"/content/output_utm5\"))"
      ],
      "metadata": {
        "id": "vFRzWwHzWMTq"
      },
      "execution_count": null,
      "outputs": []
    },
    {
      "cell_type": "code",
      "source": [
        "zip(zipfile = \"/content/output_utm5.zip\",\n",
        "    files = c(\"/content/output_utm5\"))\n",
        "# save to processed_data https://drive.google.com/drive/folders/1CXLo3IfmEVgOIaKHtpaXiblhBePgl1fS?usp=drive_link\n",
        "drive_upload(media = \"/content/output_utm5.zip\", path = as_id(\"1CXLo3IfmEVgOIaKHtpaXiblhBePgl1fS\"))"
      ],
      "metadata": {
        "id": "3oUU8QlGWT7g"
      },
      "execution_count": null,
      "outputs": []
    }
  ]
}