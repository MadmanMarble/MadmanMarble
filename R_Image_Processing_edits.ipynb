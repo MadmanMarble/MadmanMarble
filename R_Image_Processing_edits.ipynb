{
  "nbformat": 4,
  "nbformat_minor": 0,
  "metadata": {
    "colab": {
      "provenance": [],
      "machine_shape": "hm",
      "include_colab_link": true
    },
    "kernelspec": {
      "name": "ir",
      "display_name": "R"
    },
    "language_info": {
      "name": "R"
    }
  },
  "cells": [
    {
      "cell_type": "markdown",
      "metadata": {
        "id": "view-in-github",
        "colab_type": "text"
      },
      "source": [
        "<a href=\"https://colab.research.google.com/github/MadmanMarble/MadmanMarble/blob/main/R_Image_Processing_edits.ipynb\" target=\"_parent\"><img src=\"https://colab.research.google.com/assets/colab-badge.svg\" alt=\"Open In Colab\"/></a>"
      ]
    },
    {
      "cell_type": "code",
      "source": [
        "# Data\n",
        "# #Training\n",
        "# # #Labels\n",
        "# # #Images\n",
        "# #Validation\n",
        "# # #Labels\n",
        "# # #Images"
      ],
      "metadata": {
        "id": "3Jyn25BIhxN6"
      },
      "execution_count": 3,
      "outputs": []
    },
    {
      "cell_type": "markdown",
      "source": [
        "Install Packages"
      ],
      "metadata": {
        "id": "SWcehFJf0f9f"
      }
    },
    {
      "cell_type": "code",
      "execution_count": 4,
      "metadata": {
        "colab": {
          "base_uri": "https://localhost:8080/"
        },
        "id": "rqIPU5GJbz7Y",
        "outputId": "078b99cb-6f5a-4bc6-be92-28dc57987c86"
      },
      "outputs": [
        {
          "output_type": "stream",
          "name": "stderr",
          "text": [
            "Installing packages into ‘/usr/local/lib/R/site-library’\n",
            "(as ‘lib’ is unspecified)\n",
            "\n"
          ]
        }
      ],
      "source": [
        "install.packages(c('raster','sf','fasterize'))"
      ]
    },
    {
      "cell_type": "code",
      "source": [
        "install.packages(\"googledrive\")"
      ],
      "metadata": {
        "id": "TUmN_QDXjVlC",
        "outputId": "066cea51-9564-448c-cb85-61a43f7d5935",
        "colab": {
          "base_uri": "https://localhost:8080/"
        }
      },
      "execution_count": 5,
      "outputs": [
        {
          "output_type": "stream",
          "name": "stderr",
          "text": [
            "Installing package into ‘/usr/local/lib/R/site-library’\n",
            "(as ‘lib’ is unspecified)\n",
            "\n"
          ]
        }
      ]
    },
    {
      "cell_type": "code",
      "source": [
        "install.packages(\"devtools\")\n",
        "devtools:::install_github(\"gearslaboratory/gdalUtils\")"
      ],
      "metadata": {
        "colab": {
          "base_uri": "https://localhost:8080/"
        },
        "id": "b9eGuuoazL10",
        "outputId": "b7fabd94-44ea-4faa-da32-3f8f9f2d952b"
      },
      "execution_count": 6,
      "outputs": [
        {
          "output_type": "stream",
          "name": "stderr",
          "text": [
            "Installing package into ‘/usr/local/lib/R/site-library’\n",
            "(as ‘lib’ is unspecified)\n",
            "\n",
            "Downloading GitHub repo gearslaboratory/gdalUtils@HEAD\n",
            "\n"
          ]
        },
        {
          "output_type": "stream",
          "name": "stdout",
          "text": [
            "\n"
          ]
        },
        {
          "output_type": "stream",
          "name": "stderr",
          "text": [
            "Skipping 1 packages not available: rgdal\n",
            "\n"
          ]
        },
        {
          "output_type": "stream",
          "name": "stdout",
          "text": [
            "\u001b[36m──\u001b[39m \u001b[36mR CMD build\u001b[39m \u001b[36m─────────────────────────────────────────────────────────────────\u001b[39m\n",
            "* checking for file ‘/tmp/Rtmp6F5oNx/remotesa9a32d093c27/gearslaboratory-gdalUtils-8872aaf/DESCRIPTION’ ... OK\n",
            "* preparing ‘gdalUtils’:\n",
            "* checking DESCRIPTION meta-information ... OK\n",
            "* checking for LF line-endings in source and make files and shell scripts\n",
            "* checking for empty or unneeded directories\n",
            "* building ‘gdalUtils_2.0.3.2.tar.gz’\n",
            "\n"
          ]
        },
        {
          "output_type": "stream",
          "name": "stderr",
          "text": [
            "Installing package into ‘/usr/local/lib/R/site-library’\n",
            "(as ‘lib’ is unspecified)\n",
            "\n",
            "Warning message in i.p(...):\n",
            "“installation of package ‘/tmp/Rtmp6F5oNx/filea9a37648fbd8/gdalUtils_2.0.3.2.tar.gz’ had non-zero exit status”\n"
          ]
        }
      ]
    },
    {
      "cell_type": "markdown",
      "source": [
        "Load Libraries"
      ],
      "metadata": {
        "id": "2W36Visb1UAu"
      }
    },
    {
      "cell_type": "code",
      "source": [
        "library(raster)\n",
        "library(sf)\n",
        "library(fasterize)\n",
        "library(magrittr)\n",
        "library(googledrive)\n",
        "library(parallel)\n",
        "library(data.table)\n",
        "library(stringr)\n",
        "# library(gdalUtils)"
      ],
      "metadata": {
        "id": "7Ro8y26OitYr"
      },
      "execution_count": 25,
      "outputs": []
    },
    {
      "cell_type": "markdown",
      "source": [
        "Connect to Google Drive"
      ],
      "metadata": {
        "id": "gQYlLVvy1mWk"
      }
    },
    {
      "cell_type": "code",
      "source": [
        "drive_auth(use_oob = TRUE, cache = FALSE)"
      ],
      "metadata": {
        "colab": {
          "base_uri": "https://localhost:8080/"
        },
        "id": "8lpzsRZsiwKc",
        "outputId": "27346966-d707-47fd-e990-d9d5970f31d8"
      },
      "execution_count": 8,
      "outputs": [
        {
          "output_type": "stream",
          "name": "stderr",
          "text": [
            "Please point your browser to the following url: \n",
            "\n",
            "https://accounts.google.com/o/oauth2/v2/auth?client_id=603366585132-frjlouoa3s2ono25d2l9ukvhlsrlnr7k.apps.googleusercontent.com&scope=https%3A%2F%2Fwww.googleapis.com%2Fauth%2Fdrive%20https%3A%2F%2Fwww.googleapis.com%2Fauth%2Fuserinfo.email&redirect_uri=https%3A%2F%2Fwww.tidyverse.org%2Fgoogle-callback%2F&response_type=code&state=d3cc2517f1f2c3af6487824ee587950d&access_type=offline&prompt=consent\n",
            "\n"
          ]
        },
        {
          "name": "stdout",
          "output_type": "stream",
          "text": [
            "Enter authorization code: eyJjb2RlIjoiNC8wQWZKb2hYbGJ1YnJnbndzVTBtRzRkaS1rNVl5QXpwSnRWQVNWQ2RGczBCcVJpdDFFT0tJMjRwQXo5Yk9HRUUxbUg3TXVJZyIsInN0YXRlIjoiZDNjYzI1MTdmMWYyYzNhZjY0ODc4MjRlZTU4Nzk1MGQifQ==\n"
          ]
        }
      ]
    },
    {
      "cell_type": "markdown",
      "source": [
        "**input_data folder set up**\n",
        "\n",
        "\n",
        "*   naip_index.zip\n",
        "     *   NAIP tile index > Drive/DeepLearning_Project/Datasets/naip\n",
        "*   nwi_wetlands.gpkg\n",
        " *    NWI wetlands geoPackage > Drive/DeepLearning_Project/Datasets/nwi\n",
        "*   wetland_aoi.gpgk\n",
        " *   Wetland AOIs geoPackage > Drive/DeepLearning_Project/Datasets/clip_data\n",
        "*   nlcd_hi_2001.tif\n",
        " *   NLCD land cover data > Drive/DeepLearning_Project/Datasets/nlcd\n",
        "*   ccap_2010.tif\n",
        "    * CCAP land cover data > Drive/DeepLearning_Project/Datasets/ccap\n",
        "\n"
      ],
      "metadata": {
        "id": "HW2iA1I31rlo"
      }
    },
    {
      "cell_type": "code",
      "source": [
        "dir.create('input_data')"
      ],
      "metadata": {
        "colab": {
          "base_uri": "https://localhost:8080/"
        },
        "id": "4HqxMRL7qqdN",
        "outputId": "05fa850c-3759-40aa-bd89-7c333f47fc1f"
      },
      "execution_count": 9,
      "outputs": [
        {
          "output_type": "stream",
          "name": "stderr",
          "text": [
            "Warning message in dir.create(\"input_data\"):\n",
            "“'input_data' already exists”\n"
          ]
        }
      ]
    },
    {
      "cell_type": "code",
      "source": [
        "# https://drive.google.com/file/d/1thj0vGXN0xgXxI_XDY-hagp-gWHZCdaS/view?usp=drive_link\n",
        "drive_download(file = as_id('1thj0vGXN0xgXxI_XDY-hagp-gWHZCdaS'), path =  '/content/input_data/naip_index.zip', overwrite = TRUE)"
      ],
      "metadata": {
        "colab": {
          "base_uri": "https://localhost:8080/"
        },
        "id": "3YhBxPs1kYWr",
        "outputId": "0027ede9-9bbf-49ad-e607-813b69a2985f"
      },
      "execution_count": 11,
      "outputs": [
        {
          "output_type": "stream",
          "name": "stderr",
          "text": [
            "File downloaded:\n",
            "\n",
            "• \u001b[36mtileindex_HI_NAIP_2021.zip\u001b[39m \u001b[90m<id: 1thj0vGXN0xgXxI_XDY-hagp-gWHZCdaS>\u001b[39m\n",
            "\n",
            "Saved locally as:\n",
            "\n",
            "• \u001b[34m/content/input_data/naip_index.zip\u001b[39m\n",
            "\n"
          ]
        }
      ]
    },
    {
      "cell_type": "code",
      "source": [
        "# unzip naip tile index\n",
        "unzip(zipfile ='/content/input_data/naip_index.zip', exdir = \"/content/input_data/naip_index/\")"
      ],
      "metadata": {
        "id": "4Ac2v2-tqlOa"
      },
      "execution_count": 12,
      "outputs": []
    },
    {
      "cell_type": "code",
      "source": [
        "# https://drive.google.com/file/d/1ozE_Ldpio1LJaH2WS9r9hqRAIBDV8TDF/view?usp=drive_link\n",
        "drive_download(file = as_id('1ozE_Ldpio1LJaH2WS9r9hqRAIBDV8TDF'), path =  '/content/input_data/nwi_wetlands.gpkg', overwrite = TRUE)"
      ],
      "metadata": {
        "colab": {
          "base_uri": "https://localhost:8080/"
        },
        "id": "kypOwbbTIDH9",
        "outputId": "52d64a45-5835-4806-ef23-7e8c926443f8"
      },
      "execution_count": 13,
      "outputs": [
        {
          "output_type": "stream",
          "name": "stderr",
          "text": [
            "File downloaded:\n",
            "\n",
            "• \u001b[36mNWI_wetlands.gpkg\u001b[39m \u001b[90m<id: 1ozE_Ldpio1LJaH2WS9r9hqRAIBDV8TDF>\u001b[39m\n",
            "\n",
            "Saved locally as:\n",
            "\n",
            "• \u001b[34m/content/input_data/nwi_wetlands.gpkg\u001b[39m\n",
            "\n"
          ]
        }
      ]
    },
    {
      "cell_type": "code",
      "source": [
        "# https://drive.google.com/file/d/1cKHJ95tAkl0CSoNZkdO0w2wlaH6Wr_YZ/view?usp=drive_link\n",
        "drive_download(file = as_id('1cKHJ95tAkl0CSoNZkdO0w2wlaH6Wr_YZ'), path =  '/content/input_data/wetland_aoi.gpkg', overwrite = TRUE)"
      ],
      "metadata": {
        "colab": {
          "base_uri": "https://localhost:8080/"
        },
        "id": "ug0fFy8ttGHA",
        "outputId": "0d2eaf22-4aaf-4b58-d5f9-b20370aafcf2"
      },
      "execution_count": 14,
      "outputs": [
        {
          "output_type": "stream",
          "name": "stderr",
          "text": [
            "File downloaded:\n",
            "\n",
            "• \u001b[36mwetland_AOI.gpkg\u001b[39m \u001b[90m<id: 1cKHJ95tAkl0CSoNZkdO0w2wlaH6Wr_YZ>\u001b[39m\n",
            "\n",
            "Saved locally as:\n",
            "\n",
            "• \u001b[34m/content/input_data/wetland_aoi.gpkg\u001b[39m\n",
            "\n"
          ]
        }
      ]
    },
    {
      "cell_type": "code",
      "source": [
        "# https://drive.google.com/file/d/1foSde5txo6hPvWp4kcQF8We2WTDqDpYh/view?usp=drive_link\n",
        "drive_download(file = as_id('1foSde5txo6hPvWp4kcQF8We2WTDqDpYh'), path =  '/content/input_data/nlcd_hi_2001.tif', overwrite = TRUE)"
      ],
      "metadata": {
        "colab": {
          "base_uri": "https://localhost:8080/"
        },
        "id": "E0IWJ0GYKkRf",
        "outputId": "3deb8f0f-2bdc-4749-aad2-bfb4c00166c8"
      },
      "execution_count": 15,
      "outputs": [
        {
          "output_type": "stream",
          "name": "stderr",
          "text": [
            "File downloaded:\n",
            "\n",
            "• \u001b[36mnlcd_hi_2001.tif\u001b[39m \u001b[90m<id: 1foSde5txo6hPvWp4kcQF8We2WTDqDpYh>\u001b[39m\n",
            "\n",
            "Saved locally as:\n",
            "\n",
            "• \u001b[34m/content/input_data/nlcd_hi_2001.tif\u001b[39m\n",
            "\n"
          ]
        }
      ]
    },
    {
      "cell_type": "code",
      "source": [
        "# https://drive.google.com/file/d/1foSde5txo6hPvWp4kcQF8We2WTDqDpYh/view?usp=drive_link\n",
        "drive_download(file = as_id('1foSde5txo6hPvWp4kcQF8We2WTDqDpYh'), path =  '/content/input_data/ccap_2010.tif', overwrite = TRUE)\n",
        "\n"
      ],
      "metadata": {
        "id": "kU_iqyt7Wfvm"
      },
      "execution_count": null,
      "outputs": []
    },
    {
      "cell_type": "markdown",
      "source": [
        "Name and read input data"
      ],
      "metadata": {
        "id": "t-zziRhR6K24"
      }
    },
    {
      "cell_type": "code",
      "source": [
        "naip_index_gpkg = st_read('/content/input_data/naip_index/tileindex_HI_NAIP_2021.shp')"
      ],
      "metadata": {
        "colab": {
          "base_uri": "https://localhost:8080/"
        },
        "id": "ln5jb3F-rATO",
        "outputId": "2145f0b4-0670-4bcb-e366-2a0d59193571"
      },
      "execution_count": 16,
      "outputs": [
        {
          "output_type": "stream",
          "name": "stdout",
          "text": [
            "Reading layer `tileindex_HI_NAIP_2021' from data source \n",
            "  `/content/input_data/naip_index/tileindex_HI_NAIP_2021.shp' \n",
            "  using driver `ESRI Shapefile'\n",
            "Simple feature collection with 611 features and 3 fields\n",
            "Geometry type: POLYGON\n",
            "Dimension:     XY\n",
            "Bounding box:  xmin: -160.3144 ymin: 18.8732 xmax: -154.7481 ymax: 22.25184\n",
            "Geodetic CRS:  NAD83\n"
          ]
        }
      ]
    },
    {
      "cell_type": "code",
      "source": [
        "nwi_gpkg = st_read('/content/input_data/nwi_wetlands.gpkg')"
      ],
      "metadata": {
        "colab": {
          "base_uri": "https://localhost:8080/"
        },
        "id": "oU63hVcPIMz9",
        "outputId": "bced2061-5c3b-4650-eaf6-7f75cb3b34bf"
      },
      "execution_count": 17,
      "outputs": [
        {
          "output_type": "stream",
          "name": "stdout",
          "text": [
            "Reading layer `NWI_wetlands' from data source \n",
            "  `/content/input_data/nwi_wetlands.gpkg' using driver `GPKG'\n",
            "Simple feature collection with 13555 features and 6 fields\n",
            "Geometry type: MULTIPOLYGON\n",
            "Dimension:     XY\n",
            "Bounding box:  xmin: -160.3031 ymin: 18.85975 xmax: -154.7531 ymax: 22.28533\n",
            "Geodetic CRS:  WGS 84\n"
          ]
        }
      ]
    },
    {
      "cell_type": "code",
      "source": [
        "wetland_aoi_gpkg = st_read('/content/input_data/wetland_aoi.gpkg')"
      ],
      "metadata": {
        "colab": {
          "base_uri": "https://localhost:8080/"
        },
        "id": "wzp5GD8stPFd",
        "outputId": "7b6f4c30-3bcb-4955-a937-f6a151b1a5f1"
      },
      "execution_count": 18,
      "outputs": [
        {
          "output_type": "stream",
          "name": "stdout",
          "text": [
            "Reading layer `wetland_AOI' from data source \n",
            "  `/content/input_data/wetland_aoi.gpkg' using driver `GPKG'\n",
            "Simple feature collection with 17 features and 6 fields\n",
            "Geometry type: MULTIPOLYGON\n",
            "Dimension:     XY\n",
            "Bounding box:  xmin: 444046 ymin: 2185865 xmax: 917131.2 ymax: 2457336\n",
            "Projected CRS: WGS 84 / UTM zone 4N\n"
          ]
        }
      ]
    },
    {
      "cell_type": "code",
      "source": [
        "nlcd_tif <- raster('/content/input_data/nlcd_hi_2001.tif')"
      ],
      "metadata": {
        "id": "yR0ZiyCtK8Ma"
      },
      "execution_count": 19,
      "outputs": []
    },
    {
      "cell_type": "code",
      "source": [
        "# Calculate intersection between NAIP index and wetland area of interest, retaining overlapping portions\n",
        "download_index_gpkg <- naip_index_gpkg %>% st_intersection(wetland_aoi_gpkg %>% st_transform(st_crs(naip_index_gpkg)))"
      ],
      "metadata": {
        "colab": {
          "base_uri": "https://localhost:8080/"
        },
        "id": "tK5RKiGktV7W",
        "outputId": "2c118d95-5ee9-4353-de63-6de00c24e688"
      },
      "execution_count": 20,
      "outputs": [
        {
          "output_type": "stream",
          "name": "stderr",
          "text": [
            "Warning message:\n",
            "“attribute variables are assumed to be spatially constant throughout all geometries”\n"
          ]
        }
      ]
    },
    {
      "cell_type": "code",
      "source": [
        "# Count unique URLs in 'url' column\n",
        "download_index_gpkg$url %>% unique %>% length"
      ],
      "metadata": {
        "colab": {
          "base_uri": "https://localhost:8080/",
          "height": 34
        },
        "id": "HFWmwjGHwLhP",
        "outputId": "2e2a9838-62aa-49be-8cfd-5ec80033f090"
      },
      "execution_count": 21,
      "outputs": [
        {
          "output_type": "display_data",
          "data": {
            "text/html": [
              "48"
            ],
            "text/markdown": "48",
            "text/latex": "48",
            "text/plain": [
              "[1] 48"
            ]
          },
          "metadata": {}
        }
      ]
    },
    {
      "cell_type": "code",
      "source": [
        "download_index_gpkg"
      ],
      "metadata": {
        "id": "DyzsV1HJAbsR"
      },
      "execution_count": null,
      "outputs": []
    },
    {
      "cell_type": "markdown",
      "source": [
        "create an imagery folder for naip"
      ],
      "metadata": {
        "id": "1xEJMuo_AhS_"
      }
    },
    {
      "cell_type": "code",
      "source": [
        "dir.create('hi_naip_2021')"
      ],
      "metadata": {
        "id": "IFiuE9CGw72R"
      },
      "execution_count": 23,
      "outputs": []
    },
    {
      "cell_type": "markdown",
      "source": [
        "\n",
        "\n",
        "\n",
        "\n",
        "*   create elevation folder\n",
        "*   download the elevation files\n",
        "\n",
        "\n",
        "\n"
      ],
      "metadata": {
        "id": "XA8MjTqkAlHT"
      }
    },
    {
      "cell_type": "code",
      "source": [
        "dir.create('hi_dem')"
      ],
      "metadata": {
        "id": "hCGHjZ0u8sUW"
      },
      "execution_count": 24,
      "outputs": []
    },
    {
      "cell_type": "code",
      "source": [
        "# https://drive.google.com/drive/folders/15nbWHXZdDOZbt9gUuB9BUPeCXc2SoivB?usp=drive_link\n",
        "      # Drive/DeepLearning_Project/Datasets/dem folder\n",
        "\n",
        "jp_folder = \"15nbWHXZdDOZbt9gUuB9BUPeCXc2SoivB\"\n",
        "folder_id = drive_get(as_id(jp_folder)) # get folder ID\n",
        "print(folder_id) #print folder ID\n",
        "\n",
        "# Find files in the folder\n",
        "files = drive_ls(folder_id)\n",
        "\n",
        "# Loop through directories and download files inside them\n",
        "for (i in seq_along(files$name)) {\n",
        "  i_dir <- files[i, ] # Select directory\n",
        "    try({\n",
        "\n",
        "      # Download files from the directory to the specified path\n",
        "      drive_download(\n",
        "        as_id(i_dir$id[1]),\n",
        "        path = paste('/content/hi_dem/', i_dir$name[1])\n",
        "      )\n",
        "    })\n",
        "  }\n"
      ],
      "metadata": {
        "id": "ey6PZID38sJJ"
      },
      "execution_count": null,
      "outputs": []
    },
    {
      "cell_type": "code",
      "source": [
        "# Convert dem tif files to SpatialPolygons and create a data.table\n",
        "\n",
        "# Define the directory containing dem tif files\n",
        "dem_gpkg <- \"/content/hi_dem\" %>%\n",
        "  list.files(pattern='*.tif', full.names = T) %>%\n",
        "  # lapply(stack) %>%\n",
        "  # lapply(extent) %>%\n",
        "\n",
        "  # Iterate over each tif file\n",
        "  lapply(function(x){\n",
        "    x_tif <- x %>% stack # Read the tif file into a raster stack\n",
        "    x_gpkg <- x_tif %>% extent %>% as('SpatialPolygons') %>% st_as_sf(crs = st_crs(x_tif)) # Convert the extent of the raster stack to a spatial polygon\n",
        "    x_gpkg$path <- x # Assign the file path to the spatial polygon\n",
        "    st_crs(x_gpkg) <- st_crs(x_tif) # Set the CRS of the spatial polygon to match the raster stack\n",
        "    x_gpkg %>% data.table %>% return # Convert the spatial polygon to a data.table and return it\n",
        "    }) %>%\n",
        "  rbindlist() # Combine all data.tables into a single data.table"
      ],
      "metadata": {
        "id": "FxWw8kckBINL"
      },
      "execution_count": 27,
      "outputs": []
    },
    {
      "cell_type": "code",
      "source": [
        "# Convert DEM data to Simple Features (sf) format and retrieve the coordinate reference system (CRS)\n",
        "dem_gpkg %>% st_as_sf %>% st_crs"
      ],
      "metadata": {
        "id": "CuAz7Mw7DPfP"
      },
      "execution_count": null,
      "outputs": []
    },
    {
      "cell_type": "markdown",
      "source": [
        "\n",
        "\n",
        "\n",
        "\n",
        "*   create ccap folder\n",
        "*   download the ccap files\n",
        "\n",
        "\n",
        "\n"
      ],
      "metadata": {
        "id": "u5Kz63DcYEwc"
      }
    },
    {
      "cell_type": "code",
      "source": [
        "dir.create('hi_ccap')"
      ],
      "metadata": {
        "id": "aexIMAX9YEwh"
      },
      "execution_count": 33,
      "outputs": []
    },
    {
      "cell_type": "code",
      "source": [
        "# https://drive.google.com/drive/folders/14fLGpMg2n9o6c8YmH4NSHc_ZQOC5MAuv?usp=drive_link\n",
        "      # Drive/DeepLearning_Project/Datasets/ccap folder\n",
        "\n",
        "jp_folder = \"14fLGpMg2n9o6c8YmH4NSHc_ZQOC5MAuv\"\n",
        "folder_id = drive_get(as_id(jp_folder)) # get folder ID\n",
        "print(folder_id) #print folder ID\n",
        "\n",
        "# Find files in the folder\n",
        "files = drive_ls(folder_id)\n",
        "\n",
        "# Loop through directories and download files inside them\n",
        "for (i in seq_along(files$name)) {\n",
        "  i_dir <- files[i, ] # Select directory\n",
        "    try({\n",
        "\n",
        "      # Download files from the directory to the specified path\n",
        "      drive_download(\n",
        "        as_id(i_dir$id[1]),\n",
        "        path = paste('/content/hi_ccap/', i_dir$name[1])\n",
        "      )\n",
        "    })\n",
        "  }\n"
      ],
      "metadata": {
        "id": "xzhZxne7YEwi",
        "outputId": "eb9ed31d-7336-4310-d649-f072fa990642",
        "colab": {
          "base_uri": "https://localhost:8080/"
        }
      },
      "execution_count": 34,
      "outputs": [
        {
          "output_type": "stream",
          "name": "stderr",
          "text": [
            "Auto-refreshing stale OAuth token.\n",
            "\n"
          ]
        },
        {
          "output_type": "stream",
          "name": "stdout",
          "text": [
            "\u001b[90m# A dribble: 1 × 3\u001b[39m\n",
            "  name  id                                drive_resource   \n",
            "  \u001b[3m\u001b[90m<chr>\u001b[39m\u001b[23m \u001b[3m\u001b[90m<drv_id>\u001b[39m\u001b[23m                          \u001b[3m\u001b[90m<list>\u001b[39m\u001b[23m           \n",
            "\u001b[90m1\u001b[39m ccap  14fLGpMg2n9o6c8YmH4NSHc_ZQOC5MAuv \u001b[90m<named list [34]>\u001b[39m\n"
          ]
        },
        {
          "output_type": "stream",
          "name": "stderr",
          "text": [
            "File downloaded:\n",
            "\n",
            "• \u001b[36mkauai_ccap_2010.tif\u001b[39m \u001b[90m<id: 1-9SuvnH-Ck4CMaAXqDQTbbLGKtfMUnxn>\u001b[39m\n",
            "\n",
            "Saved locally as:\n",
            "\n",
            "• \u001b[34m/content/hi_ccap/ kauai_ccap_2010.tif\u001b[39m\n",
            "\n",
            "File downloaded:\n",
            "\n",
            "• \u001b[36moahu_ccap_2010.tif\u001b[39m \u001b[90m<id: 1-5Q_qbss1zUnW1wcQlomRHehPemzy7HG>\u001b[39m\n",
            "\n",
            "Saved locally as:\n",
            "\n",
            "• \u001b[34m/content/hi_ccap/ oahu_ccap_2010.tif\u001b[39m\n",
            "\n",
            "File downloaded:\n",
            "\n",
            "• \u001b[36mmolokai_ccap_2010.tif\u001b[39m \u001b[90m<id: 1-2M0JNgYiVMINDoW2mAiWLX3H9kYz_Z->\u001b[39m\n",
            "\n",
            "Saved locally as:\n",
            "\n",
            "• \u001b[34m/content/hi_ccap/ molokai_ccap_2010.tif\u001b[39m\n",
            "\n",
            "File downloaded:\n",
            "\n",
            "• \u001b[36mmaui_ccap_2010.tif\u001b[39m \u001b[90m<id: 1--1nN7Gj_qx6iwPG8Jq5gZcGRA0uaOay>\u001b[39m\n",
            "\n",
            "Saved locally as:\n",
            "\n",
            "• \u001b[34m/content/hi_ccap/ maui_ccap_2010.tif\u001b[39m\n",
            "\n",
            "File downloaded:\n",
            "\n",
            "• \u001b[36mhawaii_ccap_2010_01.tif\u001b[39m \u001b[90m<id: 1WI2adKHfm5J-bfBnRN0N2n-bI45foz60>\u001b[39m\n",
            "\n",
            "Saved locally as:\n",
            "\n",
            "• \u001b[34m/content/hi_ccap/ hawaii_ccap_2010_01.tif\u001b[39m\n",
            "\n",
            "File downloaded:\n",
            "\n",
            "• \u001b[36mhawaii_ccap_2010_03.tif\u001b[39m \u001b[90m<id: 1-KHspFGnfIwHcWFsNvwshfy3H-_Y5gVB>\u001b[39m\n",
            "\n",
            "Saved locally as:\n",
            "\n",
            "• \u001b[34m/content/hi_ccap/ hawaii_ccap_2010_03.tif\u001b[39m\n",
            "\n",
            "File downloaded:\n",
            "\n",
            "• \u001b[36mhawaii_ccap_2010_02.tif\u001b[39m \u001b[90m<id: 10BnucV2NpjYekC-Lr-PddVYJ2XFXmNwo>\u001b[39m\n",
            "\n",
            "Saved locally as:\n",
            "\n",
            "• \u001b[34m/content/hi_ccap/ hawaii_ccap_2010_02.tif\u001b[39m\n",
            "\n"
          ]
        }
      ]
    },
    {
      "cell_type": "code",
      "source": [
        "# Convert dem tif files to SpatialPolygons and create a data.table\n",
        "\n",
        "# Define the directory containing dem tif files\n",
        "ccap_gpkg <- \"/content/hi_ccap\" %>%\n",
        "  list.files(pattern='*.tif', full.names = T) %>%\n",
        "  # lapply(stack) %>%\n",
        "  # lapply(extent) %>%\n",
        "\n",
        "  # Iterate over each tif file\n",
        "  lapply(function(x){\n",
        "    x_tif <- x %>% stack # Read the tif file into a raster stack\n",
        "    x_gpkg <- x_tif %>% extent %>% as('SpatialPolygons') %>% st_as_sf(crs = st_crs(x_tif)) # Convert the extent of the raster stack to a spatial polygon\n",
        "    x_gpkg$path <- x # Assign the file path to the spatial polygon\n",
        "    st_crs(x_gpkg) <- st_crs(x_tif) # Set the CRS of the spatial polygon to match the raster stack\n",
        "    x_gpkg %>% data.table %>% return # Convert the spatial polygon to a data.table and return it\n",
        "    }) %>%\n",
        "  rbindlist() # Combine all data.tables into a single data.table"
      ],
      "metadata": {
        "id": "rb3HV6_2YEwi"
      },
      "execution_count": 35,
      "outputs": []
    },
    {
      "cell_type": "code",
      "source": [
        "# Convert DEM data to Simple Features (sf) format and retrieve the coordinate reference system (CRS)\n",
        "ccap_gpkg %>% st_as_sf %>% st_crs"
      ],
      "metadata": {
        "id": "K2UVazBbYEwi",
        "outputId": "7097c62f-fd12-478b-de3a-84da0ab066a1",
        "colab": {
          "base_uri": "https://localhost:8080/",
          "height": 748
        }
      },
      "execution_count": 37,
      "outputs": [
        {
          "output_type": "display_data",
          "data": {
            "text/plain": [
              "Coordinate Reference System:\n",
              "  User input: +proj=utm +zone=5 +datum=WGS84 +units=m +no_defs \n",
              "  wkt:\n",
              "PROJCRS[\"unknown\",\n",
              "    BASEGEOGCRS[\"unknown\",\n",
              "        DATUM[\"World Geodetic System 1984\",\n",
              "            ELLIPSOID[\"WGS 84\",6378137,298.257223563,\n",
              "                LENGTHUNIT[\"metre\",1]],\n",
              "            ID[\"EPSG\",6326]],\n",
              "        PRIMEM[\"Greenwich\",0,\n",
              "            ANGLEUNIT[\"degree\",0.0174532925199433],\n",
              "            ID[\"EPSG\",8901]]],\n",
              "    CONVERSION[\"UTM zone 5N\",\n",
              "        METHOD[\"Transverse Mercator\",\n",
              "            ID[\"EPSG\",9807]],\n",
              "        PARAMETER[\"Latitude of natural origin\",0,\n",
              "            ANGLEUNIT[\"degree\",0.0174532925199433],\n",
              "            ID[\"EPSG\",8801]],\n",
              "        PARAMETER[\"Longitude of natural origin\",-153,\n",
              "            ANGLEUNIT[\"degree\",0.0174532925199433],\n",
              "            ID[\"EPSG\",8802]],\n",
              "        PARAMETER[\"Scale factor at natural origin\",0.9996,\n",
              "            SCALEUNIT[\"unity\",1],\n",
              "            ID[\"EPSG\",8805]],\n",
              "        PARAMETER[\"False easting\",500000,\n",
              "            LENGTHUNIT[\"metre\",1],\n",
              "            ID[\"EPSG\",8806]],\n",
              "        PARAMETER[\"False northing\",0,\n",
              "            LENGTHUNIT[\"metre\",1],\n",
              "            ID[\"EPSG\",8807]],\n",
              "        ID[\"EPSG\",16005]],\n",
              "    CS[Cartesian,2],\n",
              "        AXIS[\"(E)\",east,\n",
              "            ORDER[1],\n",
              "            LENGTHUNIT[\"metre\",1,\n",
              "                ID[\"EPSG\",9001]]],\n",
              "        AXIS[\"(N)\",north,\n",
              "            ORDER[2],\n",
              "            LENGTHUNIT[\"metre\",1,\n",
              "                ID[\"EPSG\",9001]]]]"
            ]
          },
          "metadata": {}
        }
      ]
    },
    {
      "cell_type": "markdown",
      "source": [
        "Download NAIP files in parallel from multiple URLs specified in the download_index_gpkg dataset."
      ],
      "metadata": {
        "id": "0LXOvys-ED6_"
      }
    },
    {
      "cell_type": "code",
      "source": [
        "# Distribute the task of downloading files from download_index_gpkg across 8 parallel processes using makeCluster\n",
        "# Loop over the row indices of download_index_gpkg and download each file from its corresponding URL to the specified location\n",
        "# After completion, stop the parallel cluster to free up resources\n",
        "\n",
        "\n",
        "cl <- makeCluster(8)\n",
        "1:nrow(download_index_gpkg) %>%\n",
        "  parLapply(cl,.,function(x,download_index_gpkg){\n",
        "  x_dt <- download_index_gpkg[x,]\n",
        "  download.file(x_dt$url, paste('/content/hi_naip_2021/',x_dt$location,sep='') )\n",
        "  },download_index_gpkg)\n",
        "stopCluster(cl)"
      ],
      "metadata": {
        "id": "vsGwTn7FweoF"
      },
      "execution_count": null,
      "outputs": []
    },
    {
      "cell_type": "markdown",
      "source": [
        "Download NAIP vrt file"
      ],
      "metadata": {
        "id": "ghxSY8PRFqAv"
      }
    },
    {
      "cell_type": "code",
      "source": [
        "download.file('https://coast.noaa.gov/htdata/raster7/imagery/HI_NAIP_2021_9668/HI_NAIP_2021_EPSG-26904.vrt',\n",
        "paste('/content/hi_naip_2021/HI_NAIP_2021_EPSG-26904.vrt',sep=''))"
      ],
      "metadata": {
        "id": "CbvR1zxT0zzA"
      },
      "execution_count": 30,
      "outputs": []
    },
    {
      "cell_type": "markdown",
      "source": [
        "Name and point to the NAIP vrt file"
      ],
      "metadata": {
        "id": "6CQqBmZVFzgd"
      }
    },
    {
      "cell_type": "code",
      "source": [
        "hawaii_naip <- stack('/content/hi_naip_2021/HI_NAIP_2021_EPSG-26904.vrt')"
      ],
      "metadata": {
        "id": "W3qBfvrN1Kn8"
      },
      "execution_count": 31,
      "outputs": []
    },
    {
      "cell_type": "markdown",
      "source": [
        "Create an ouput folder to save the fishnets"
      ],
      "metadata": {
        "id": "Py_Gp4ciGAKe"
      }
    },
    {
      "cell_type": "code",
      "source": [
        "dir.create('output_fishnets')"
      ],
      "metadata": {
        "id": "8MNrBoimLMAp"
      },
      "execution_count": 32,
      "outputs": []
    },
    {
      "cell_type": "markdown",
      "source": [
        "    # changing the cell size affects the size of the individual grid cells in the fishnet grid\n",
        "    # decreasing the cell size = smaller grid & provides higher spatial resolution\n",
        "    # increasing the cell size = larger grid & reduces the spatial resolution\n",
        "\n",
        "    # naip 0.6m pixel resolution\n",
        "    # for 256 pixels wide tile and each pixel is 0.6m = (256*0.6) = (153.6,153.6) cell size\n",
        "    # for 128 pixels wide tile and each pixel is 0.6m = (128*0.6) = (76.8,76.8) cell size\n",
        "    # for 64 pixels wide tile and each pixel is 0.6m = (64*0.6) = (38.4,38.4) cell size\n",
        "    # for 32 pixels wide tile and each pixel is 0.6m = (32*0.6) = (19.2,19.2) cell size\n",
        "    # for 16 pixels wide tile and each pixel is 0.6m = (16*0.6) = (9.6,9.6) cell size\n",
        "\n",
        "    # naip 0.4m pixel resolution    \n",
        "    # for 256 pixels wide tile and each pixel is 0.4m = (256*0.4) = (102.4,102.4) cell size\n",
        "    # for 128 pixels wide tile and each pixel is 0.4m = (128*0.4) = (81.92,81.92) cell size\n",
        "    # for 64 pixels wide tile and each pixel is 0.4m = (64*0.4) = (25.6,25.6) cell size\n",
        "    # for 32 pixels wide tile and each pixel is 0.4m = (32*0.6) = (12.8,12.8) cell size\n",
        "    # for 16 pixels wide tile and each pixel is 0.4m = (16*0.4) = (6.4,6.4) cell size\n",
        "\n",
        "    # planet 3m pixel resolution\n",
        "    # for 256 pixels wide tile and each pixel is 3m = (256*3) = (768,768) cell size\n",
        "    # for 128 pixels wide tile and each pixel is 3m = (128*3) = (384,384) cell size\n",
        "    # for 64 pixels wide tile and each pixel is 3m = (64*3) = (192,192) cell size\n",
        "    # for 32 pixels wide tile and each pixel is 3m = (32*3) = (96,96) cell size\n",
        "    # for 16 pixels wide tile and each pixel is 3m = (16*3) = (48,48) cell size\n",
        "\n",
        "    # landsat 30m pixel resolution\n",
        "    # for 256 pixels wide tile and each pixel is 30m = (256*30) = (7680,7680) cell size\n",
        "    # for 128 pixels wide tile and each pixel is 30m = (128*30) = (3840,3840) cell size\n",
        "    # for 64 pixels wide tile and each pixel is 30m = (64*30) = (1920,1920) cell size\n",
        "    # for 32 pixels wide tile and each pixel is 30m = (32*30) = (960,960) cell size\n",
        "    # for 16 pixels wide tile and each pixel is 30m = (16*30) = (480,480) cell size"
      ],
      "metadata": {
        "id": "x4zJ9Y9lR44-"
      }
    },
    {
      "cell_type": "code",
      "source": [],
      "metadata": {
        "id": "xYrY_2Vndage"
      },
      "execution_count": null,
      "outputs": []
    },
    {
      "cell_type": "code",
      "source": [
        "# Iterate over each row index of the 'wetland_aoi_gpkg' dataset\n",
        "1:nrow(wetland_aoi_gpkg) %>% lapply(function(y){\n",
        "\n",
        "# Select the wetland polygon of interest for the current row index,\n",
        "# transform its CRS to match that of 'hawaii_naip'\n",
        "# crop the 'hawaii_naip' raster dataset to the wetland polygon\n",
        "# wetland_polygon /was/ wetlands_sample\n",
        "wetland_polygon <- wetland_aoi_gpkg[y,] %>% st_transform(st_crs(hawaii_naip)) %>% crop(hawaii_naip,.)\n",
        "\n",
        "# DEM ----------------------------------------------------------------------------------------------------------------\n",
        "# Extract elevation data within the extent of the current wetland polygon,\n",
        "# transform its CRS to match that of the wetland polygon, and calculate the intersection with the wetland polygon\n",
        "# dem_location_gpkg /was/ dem_loc_gpkg  dem_gpkg\n",
        "dem_location_gpkg <- dem_gpkg %>% st_as_sf %>% st_transform(st_crs(wetland_aoi_gpkg[y,])) %>% st_intersection(wetland_aoi_gpkg[y,])\n",
        "\n",
        "# Crop the elevation data raster to the extent of the intersected wetland polygon\n",
        "# dem_load_tif\n",
        "# wetland_aoi_fishnet_gpkg /was/ wetlands_fishnnet_gpkg\n",
        "dem_load_tif <- dem_location_gpkg$path %>% raster %>% crop(., wetland_aoi_fishnet_gpkg[y,] %>% st_transform(st_crs(dem_load_tif)))\n",
        "\n",
        "# CCAP ----------------------------------------------------------------------------------------------------------------\n",
        "# Extract ccap data within the extent of the current wetland polygon,\n",
        "# transform its CRS to match that of the wetland polygon, and calculate the intersection with the wetland polygon\n",
        "# dem_location_gpkg /was/ dem_loc_gpkg\n",
        "# ccap_gpkg\n",
        "# dem_location_gpkg\n",
        "ccap_location_gpkg <- ccap_gpkg %>% st_as_sf %>% st_transform(st_crs(wetland_aoi_gpkg[y,])) %>% st_intersection(wetland_aoi_gpkg[y,])\n",
        "\n",
        "# Crop the ccap data raster to the extent of the intersected wetland polygon\n",
        "# ccap_load_tif\n",
        "# wetland_aoi_fishnet_gpkg /was/ wetlands_fishnnet_gpkg\n",
        "ccap_load_tif <- ccap_location_gpkg$path %>% raster %>% crop(., wetland_aoi_fishnet_gpkg[y,] %>% st_transform(st_crs(ccap_load_tif)))\n",
        "\n",
        "\n",
        "# NLCD ----------------------------------------------------------------------------------------------------------------\n",
        "# Crop the NLCD raster dataset to the extent of the intersected wetland polygon\n",
        "nlcd_load_tif <- nlcd_tif %>% crop(., wetland_aoi_fishnet_gpkg[y,] %>% st_transform(st_crs(nlcd_tif)))\n",
        "\n",
        "\n",
        "# Transform the wetland polygon to match the CRS of 'hawaii_naip',\n",
        "# create a grid of fishnet cells with a specified cell size, and convert it to an sf object\n",
        "# change cell size\n",
        "wetland_aoi_fishnet_gpkg <- wetland_aoi_gpkg[y,] %>% st_transform(st_crs(hawaii_naip)) %>% st_make_grid(cellsize =c(76.8,76.8)) %>% st_as_sf\n",
        "\n",
        "# file.remove(paste0('/content/output_fishnets/',wetland_polygon$layer[1],'.gpkg'))\n",
        "\n",
        "# Write the fishnet grid to a GeoPackage file in the 'output_fishnets' directory,\n",
        "# with the filename based on the layer name from 'wetland_aoi_gpkg'\n",
        "st_write(wetland_aoi_fishnet_gpkg,paste0('/content/output_fishnets/',wetland_aoi_gpkg$layer[y],'.gpkg'),delete_dsn=T,delete_layer = T)\n",
        "  })"
      ],
      "metadata": {
        "id": "28PwKRd_dGVS",
        "outputId": "3a1c391e-c21e-4101-d4e1-05b0edea65dc",
        "colab": {
          "base_uri": "https://localhost:8080/",
          "height": 985
        }
      },
      "execution_count": 40,
      "outputs": [
        {
          "output_type": "stream",
          "name": "stderr",
          "text": [
            "Warning message:\n",
            "“attribute variables are assumed to be spatially constant throughout all geometries”\n"
          ]
        },
        {
          "output_type": "error",
          "ename": "ERROR",
          "evalue": "Error in .local(x, y, ...): Cannot get an Extent object from argument y\n",
          "traceback": [
            "Error in .local(x, y, ...): Cannot get an Extent object from argument y\nTraceback:\n",
            "1. 1:nrow(wetland_aoi_gpkg) %>% lapply(function(y) {\n .     wetland_polygon <- wetland_aoi_gpkg[y, ] %>% st_transform(st_crs(hawaii_naip)) %>% \n .         crop(hawaii_naip, .)\n .     dem_location_gpkg <- dem_gpkg %>% st_as_sf %>% st_transform(st_crs(wetland_aoi_gpkg[y, \n .         ])) %>% st_intersection(wetland_aoi_gpkg[y, ])\n .     dem_load_tif <- dem_location_gpkg$path %>% raster %>% crop(., \n .         wetland_aoi_fishnet_gpkg[y, ] %>% st_transform(st_crs(dem_load_tif)))\n .     ccap_location_gpkg <- ccap_gpkg %>% st_as_sf %>% st_transform(st_crs(wetland_aoi_gpkg[y, \n .         ])) %>% st_intersection(wetland_aoi_gpkg[y, ])\n .     ccap_load_tif <- ccap_location_gpkg$path %>% raster %>% crop(., \n .         wetland_aoi_fishnet_gpkg[y, ] %>% st_transform(st_crs(ccap_load_tif)))\n .     nlcd_load_tif <- nlcd_tif %>% crop(., wetland_aoi_fishnet_gpkg[y, \n .         ] %>% st_transform(st_crs(nlcd_tif)))\n .     wetland_aoi_fishnet_gpkg <- wetland_aoi_gpkg[y, ] %>% st_transform(st_crs(hawaii_naip)) %>% \n .         st_make_grid(cellsize = c(76.8, 76.8)) %>% st_as_sf\n .     st_write(wetland_aoi_fishnet_gpkg, paste0(\"/content/output_fishnets/\", \n .         wetland_aoi_gpkg$layer[y], \".gpkg\"), delete_dsn = T, \n .         delete_layer = T)\n . })",
            "2. lapply(., function(y) {\n .     wetland_polygon <- wetland_aoi_gpkg[y, ] %>% st_transform(st_crs(hawaii_naip)) %>% \n .         crop(hawaii_naip, .)\n .     dem_location_gpkg <- dem_gpkg %>% st_as_sf %>% st_transform(st_crs(wetland_aoi_gpkg[y, \n .         ])) %>% st_intersection(wetland_aoi_gpkg[y, ])\n .     dem_load_tif <- dem_location_gpkg$path %>% raster %>% crop(., \n .         wetland_aoi_fishnet_gpkg[y, ] %>% st_transform(st_crs(dem_load_tif)))\n .     ccap_location_gpkg <- ccap_gpkg %>% st_as_sf %>% st_transform(st_crs(wetland_aoi_gpkg[y, \n .         ])) %>% st_intersection(wetland_aoi_gpkg[y, ])\n .     ccap_load_tif <- ccap_location_gpkg$path %>% raster %>% crop(., \n .         wetland_aoi_fishnet_gpkg[y, ] %>% st_transform(st_crs(ccap_load_tif)))\n .     nlcd_load_tif <- nlcd_tif %>% crop(., wetland_aoi_fishnet_gpkg[y, \n .         ] %>% st_transform(st_crs(nlcd_tif)))\n .     wetland_aoi_fishnet_gpkg <- wetland_aoi_gpkg[y, ] %>% st_transform(st_crs(hawaii_naip)) %>% \n .         st_make_grid(cellsize = c(76.8, 76.8)) %>% st_as_sf\n .     st_write(wetland_aoi_fishnet_gpkg, paste0(\"/content/output_fishnets/\", \n .         wetland_aoi_gpkg$layer[y], \".gpkg\"), delete_dsn = T, \n .         delete_layer = T)\n . })",
            "3. FUN(X[[i]], ...)",
            "4. dem_location_gpkg$path %>% raster %>% crop(., wetland_aoi_fishnet_gpkg[y, \n .     ] %>% st_transform(st_crs(dem_load_tif)))   # at line 19 of file <text>",
            "5. crop(., wetland_aoi_fishnet_gpkg[y, ] %>% st_transform(st_crs(dem_load_tif)))",
            "6. crop(., wetland_aoi_fishnet_gpkg[y, ] %>% st_transform(st_crs(dem_load_tif)))",
            "7. .local(x, y, ...)",
            "8. stop(\"Cannot get an Extent object from argument y\")"
          ]
        }
      ]
    },
    {
      "cell_type": "code",
      "source": [
        "# Iterate over each row index of the 'wetland_aoi_gpkg' dataset\n",
        "1:nrow(wetland_aoi_gpkg) %>%\n",
        "  lapply(function(y){\n",
        "\n",
        "# Select the wetland polygon of interest for the current row index,\n",
        "# transform its CRS to match that of 'hawaii_naip'\n",
        "# crop the 'hawaii_naip' raster dataset to the wetland polygon\n",
        "wetland_polygon <- wetland_aoi_gpkg[y,] %>% # wetland_polygon /was/ wetlands_sample\n",
        "  st_transform(st_crs(hawaii_naip)) %>%\n",
        "    crop(hawaii_naip,.)\n",
        "\n",
        "# DEM ----------------------------------------------------------------------------------------------------------------\n",
        "# Extract elevation data within the extent of the current wetland polygon,\n",
        "# transform its CRS to match that of the wetland polygon, and calculate the intersection with the wetland polygon\n",
        "dem_location_gpkg <- dem_gpkg %>% # dem_location_gpkg /was/ dem_loc_gpkg  dem_gpkg\n",
        "  st_as_sf %>%\n",
        "  st_transform(st_crs(wetland_aoi_gpkg[y,])) %>%\n",
        "  st_intersection(wetland_aoi_gpkg[y,])\n",
        "\n",
        "# Crop the elevation data raster to the extent of the intersected wetland polygon\n",
        "dem_load_tif <- dem_location_gpkg$path %>%  # dem_load_tif\n",
        "  raster %>%\n",
        "    crop(., wetland_aoi_fishnet_gpkg[y,] %>% st_transform(st_crs(dem_load_tif))) # wetland_aoi_fishnet_gpkg /was/ wetlands_fishnnet_gpkg\n",
        "\n",
        "# CCAP ----------------------------------------------------------------------------------------------------------------\n",
        "# Extract ccap data within the extent of the current wetland polygon,\n",
        "# transform its CRS to match that of the wetland polygon, and calculate the intersection with the wetland polygon\n",
        "ccap_location_gpkg <- ccap_gpkg %>% # dem_location_gpkg /was/ dem_loc_gpkg      ccap_gpkg dem_location_gpkg\n",
        "  st_as_sf %>%\n",
        "  st_transform(st_crs(wetland_aoi_gpkg[y,])) %>%\n",
        "  st_intersection(wetland_aoi_gpkg[y,])\n",
        "\n",
        "# Crop the ccap data raster to the extent of the intersected wetland polygon\n",
        "ccap_load_tif <- ccap_location_gpkg$path %>%  # ccap_load_tif\n",
        "  raster %>%\n",
        "    crop(., wetland_aoi_fishnet_gpkg[y,] %>% st_transform(st_crs(ccap_load_tif))) # wetland_aoi_fishnet_gpkg /was/ wetlands_fishnnet_gpkg\n",
        "\n",
        "\n",
        "# NLCD ----------------------------------------------------------------------------------------------------------------\n",
        "# Crop the NLCD raster dataset to the extent of the intersected wetland polygon\n",
        "nlcd_load_tif <- nlcd_tif %>%\n",
        "  crop(., wetland_aoi_fishnet_gpkg[y,] %>% st_transform(st_crs(nlcd_tif)))\n",
        "\n",
        "\n",
        "# Transform the wetland polygon to match the CRS of 'hawaii_naip',\n",
        "# create a grid of fishnet cells with a specified cell size, and convert it to an sf object\n",
        "wetland_aoi_fishnet_gpkg <- wetland_aoi_gpkg[y,] %>%\n",
        "  st_transform(st_crs(hawaii_naip)) %>%\n",
        "    st_make_grid(cellsize =c(76.8,76.8)) %>% # change cell size\n",
        "      st_as_sf\n",
        "\n",
        "# file.remove(paste0('/content/output_fishnets/',wetland_polygon$layer[1],'.gpkg'))\n",
        "\n",
        "# Write the fishnet grid to a GeoPackage file in the 'output_fishnets' directory,\n",
        "# with the filename based on the layer name from 'wetland_aoi_gpkg'\n",
        "st_write(wetland_aoi_fishnet_gpkg,paste0('/content/output_fishnets/',wetland_aoi_gpkg$layer[y],'.gpkg'),delete_dsn=T,delete_layer = T)\n",
        "\n",
        "cl <- makeCluster(8)\n",
        "1:nrow(download_index_gpkg) %>%\n",
        "  parLapply(cl,.,function(x,wetland_aoi_fishnet_gpkg,hawaii_naip,wetland_polygon,dem_load_tif,ccap_load_tif,nlcd_load_tif,nwi_gpkg){\n",
        "\n",
        "library(raster)\n",
        "library(sf)\n",
        "library(fasterize)\n",
        "library(magrittr)\n",
        "library(googledrive)\n",
        "library(parallel)\n",
        "library(data.table)\n",
        "\n",
        "# Define a sample chip by transforming the wetland polygon to match the CRS of 'hawaii_naip',\n",
        "# and crop it to the extent of the wetland sample\n",
        "sample_chip <- wetland_aoi_fishnet_gpkg[x,] %>%\n",
        "  st_transform(st_crs(hawaii_naip)) %>%\n",
        "    crop(wetland_polygon,.)\n",
        "\n",
        "# Project the elevation and NLCD data to match the extent and resolution of the sample chip using nearest neighbor (ngb)\n",
        "sample_chip$dem <- projectRaster(dem_load_tif, sample_chip, method=\"ngb\")\n",
        "sample_chip$ccap <- projectRaster(ccap_load_tif, sample_chip, method=\"ngb\")\n",
        "sample_chip$nlcd <- projectRaster(nlcd_load_tif, sample_chip, method=\"ngb\")\n",
        "\n",
        "\n",
        "# Convert the 'wetland_ty' column in 'nwi_gpkg' to a factor and transform its CRS to match the sample chip\n",
        "nwi_gpkg$wetland_ty <- nwi_gpkg$wetland_ty %>% as.factor\n",
        "nwi_gpkg <- nwi_gpkg %>% st_transform(st_crs(sample_chip))\n",
        "\n",
        "# Classify wetland types using fasterize and assign the result to the 'class' column of the sample chip\n",
        "sample_chip$class <- fasterize(\n",
        "nwi_gpkg,\n",
        "sample_chip[[1]],\n",
        "field = 'wetland_ty',\n",
        "fun = \"first\")\n",
        "\n",
        "# Create a 'class_fill' column in the sample chip and fill missing values using NLCD data,\n",
        "# then set remaining missing values to 0\n",
        "sample_chip$class_fill <-sample_chip$class\n",
        "values(sample_chip$class_fill)[is.na(values(sample_chip$class_fill))] <- values(sample_chip$nlcd)[is.na(values(sample_chip$class_fill))]\n",
        "values(sample_chip$class_fill)[is.na(values(sample_chip$class_fill))] <- 0\n",
        "\n",
        "# Set NA values in the elevation, NLCD, class, and ccap columns of the sample chip to 0\n",
        "values(sample_chip$dem)[is.na(values(sample_chip$dem))] <- 0\n",
        "values(sample_chip$nlcd)[is.na(values(sample_chip$nlcd))] <- 0\n",
        "values(sample_chip$class)[is.na(values(sample_chip$class))] <- 0\n",
        "values(sample_chip$ccap)[is.na(values(sample_chip$ccap))] <- 0\n",
        "\n",
        "# Write the sample chip to a tif file in the 'output_chips' directory\n",
        "sample_chip  %>% writeRaster(paste0('output_chips/',(sample_chip %>% extent %>% round)[1],'_',(sample_chip %>% extent %>% round)[3],'.tif'),overwrite=T)\n",
        "\n",
        "  },wetland_aoi_fishnet_gpkg,hawaii_naip,wetland_polygon,dem_load_tif,ccap_load_tif,nlcd_load_tif,nwi_gpkg)\n",
        "stopCluster(cl)\n",
        "  })"
      ],
      "metadata": {
        "colab": {
          "base_uri": "https://localhost:8080/",
          "height": 1000
        },
        "id": "r_028zA554bZ",
        "outputId": "2121814c-fec2-43b6-91eb-aaeda5b5f20a"
      },
      "execution_count": 38,
      "outputs": [
        {
          "output_type": "stream",
          "name": "stderr",
          "text": [
            "Warning message:\n",
            "“attribute variables are assumed to be spatially constant throughout all geometries”\n"
          ]
        },
        {
          "output_type": "error",
          "ename": "ERROR",
          "evalue": "Error in .local(x, y, ...): Cannot get an Extent object from argument y\n",
          "traceback": [
            "Error in .local(x, y, ...): Cannot get an Extent object from argument y\nTraceback:\n",
            "1. 1:nrow(wetland_aoi_gpkg) %>% lapply(function(y) {\n .     wetland_polygon <- wetland_aoi_gpkg[y, ] %>% st_transform(st_crs(hawaii_naip)) %>% \n .         crop(hawaii_naip, .)\n .     dem_location_gpkg <- dem_gpkg %>% st_as_sf %>% st_transform(st_crs(wetland_aoi_gpkg[y, \n .         ])) %>% st_intersection(wetland_aoi_gpkg[y, ])\n .     dem_load_tif <- dem_location_gpkg$path %>% raster %>% crop(., \n .         wetland_aoi_fishnet_gpkg[y, ] %>% st_transform(st_crs(dem_load_tif)))\n .     ccap_location_gpkg <- ccap_gpkg %>% st_as_sf %>% st_transform(st_crs(wetland_aoi_gpkg[y, \n .         ])) %>% st_intersection(wetland_aoi_gpkg[y, ])\n .     ccap_load_tif <- ccap_location_gpkg$path %>% raster %>% crop(., \n .         wetland_aoi_fishnet_gpkg[y, ] %>% st_transform(st_crs(ccap_load_tif)))\n .     nlcd_load_tif <- nlcd_tif %>% crop(., wetland_aoi_fishnet_gpkg[y, \n .         ] %>% st_transform(st_crs(nlcd_tif)))\n .     wetland_aoi_fishnet_gpkg <- wetland_aoi_gpkg[y, ] %>% st_transform(st_crs(hawaii_naip)) %>% \n .         st_make_grid(cellsize = c(76.8, 76.8)) %>% st_as_sf\n .     st_write(wetland_aoi_fishnet_gpkg, paste0(\"/content/output_fishnets/\", \n .         wetland_aoi_gpkg$layer[y], \".gpkg\"), delete_dsn = T, \n .         delete_layer = T)\n .     cl <- makeCluster(8)\n .     1:nrow(download_index_gpkg) %>% parLapply(cl, ., function(x, \n .         wetland_aoi_fishnet_gpkg, hawaii_naip, wetland_polygon, \n .         dem_load_tif, ccap_load_tif, nlcd_load_tif, nwi_gpkg) {\n .         library(raster)\n .         library(sf)\n .         library(fasterize)\n .         library(magrittr)\n .         library(googledrive)\n .         library(parallel)\n .         library(data.table)\n .         sample_chip <- wetland_aoi_fishnet_gpkg[x, ] %>% st_transform(st_crs(hawaii_naip)) %>% \n .             crop(wetland_polygon, .)\n .         sample_chip$dem <- projectRaster(dem_load_tif, sample_chip, \n .             method = \"ngb\")\n .         sample_chip$ccap <- projectRaster(ccap_load_tif, sample_chip, \n .             method = \"ngb\")\n .         sample_chip$nlcd <- projectRaster(nlcd_load_tif, sample_chip, \n .             method = \"ngb\")\n .         nwi_gpkg$wetland_ty <- nwi_gpkg$wetland_ty %>% as.factor\n .         nwi_gpkg <- nwi_gpkg %>% st_transform(st_crs(sample_chip))\n .         sample_chip$class <- fasterize(nwi_gpkg, sample_chip[[1]], \n .             field = \"wetland_ty\", fun = \"first\")\n .         sample_chip$class_fill <- sample_chip$class\n .         values(sample_chip$class_fill)[is.na(values(sample_chip$class_fill))] <- values(sample_chip$nlcd)[is.na(values(sample_chip$class_fill))]\n .         values(sample_chip$class_fill)[is.na(values(sample_chip$class_fill))] <- 0\n .         values(sample_chip$dem)[is.na(values(sample_chip$dem))] <- 0\n .         values(sample_chip$nlcd)[is.na(values(sample_chip$nlcd))] <- 0\n .         values(sample_chip$class)[is.na(values(sample_chip$class))] <- 0\n .         values(sample_chip$ccap)[is.na(values(sample_chip$ccap))] <- 0\n .         sample_chip %>% writeRaster(paste0(\"output_chips/\", (sample_chip %>% \n .             extent %>% round)[1], \"_\", (sample_chip %>% extent %>% \n .             round)[3], \".tif\"), overwrite = T)\n .     }, wetland_aoi_fishnet_gpkg, hawaii_naip, wetland_polygon, \n .         dem_load_tif, ccap_load_tif, nlcd_load_tif, nwi_gpkg)\n .     stopCluster(cl)\n . })",
            "2. lapply(., function(y) {\n .     wetland_polygon <- wetland_aoi_gpkg[y, ] %>% st_transform(st_crs(hawaii_naip)) %>% \n .         crop(hawaii_naip, .)\n .     dem_location_gpkg <- dem_gpkg %>% st_as_sf %>% st_transform(st_crs(wetland_aoi_gpkg[y, \n .         ])) %>% st_intersection(wetland_aoi_gpkg[y, ])\n .     dem_load_tif <- dem_location_gpkg$path %>% raster %>% crop(., \n .         wetland_aoi_fishnet_gpkg[y, ] %>% st_transform(st_crs(dem_load_tif)))\n .     ccap_location_gpkg <- ccap_gpkg %>% st_as_sf %>% st_transform(st_crs(wetland_aoi_gpkg[y, \n .         ])) %>% st_intersection(wetland_aoi_gpkg[y, ])\n .     ccap_load_tif <- ccap_location_gpkg$path %>% raster %>% crop(., \n .         wetland_aoi_fishnet_gpkg[y, ] %>% st_transform(st_crs(ccap_load_tif)))\n .     nlcd_load_tif <- nlcd_tif %>% crop(., wetland_aoi_fishnet_gpkg[y, \n .         ] %>% st_transform(st_crs(nlcd_tif)))\n .     wetland_aoi_fishnet_gpkg <- wetland_aoi_gpkg[y, ] %>% st_transform(st_crs(hawaii_naip)) %>% \n .         st_make_grid(cellsize = c(76.8, 76.8)) %>% st_as_sf\n .     st_write(wetland_aoi_fishnet_gpkg, paste0(\"/content/output_fishnets/\", \n .         wetland_aoi_gpkg$layer[y], \".gpkg\"), delete_dsn = T, \n .         delete_layer = T)\n .     cl <- makeCluster(8)\n .     1:nrow(download_index_gpkg) %>% parLapply(cl, ., function(x, \n .         wetland_aoi_fishnet_gpkg, hawaii_naip, wetland_polygon, \n .         dem_load_tif, ccap_load_tif, nlcd_load_tif, nwi_gpkg) {\n .         library(raster)\n .         library(sf)\n .         library(fasterize)\n .         library(magrittr)\n .         library(googledrive)\n .         library(parallel)\n .         library(data.table)\n .         sample_chip <- wetland_aoi_fishnet_gpkg[x, ] %>% st_transform(st_crs(hawaii_naip)) %>% \n .             crop(wetland_polygon, .)\n .         sample_chip$dem <- projectRaster(dem_load_tif, sample_chip, \n .             method = \"ngb\")\n .         sample_chip$ccap <- projectRaster(ccap_load_tif, sample_chip, \n .             method = \"ngb\")\n .         sample_chip$nlcd <- projectRaster(nlcd_load_tif, sample_chip, \n .             method = \"ngb\")\n .         nwi_gpkg$wetland_ty <- nwi_gpkg$wetland_ty %>% as.factor\n .         nwi_gpkg <- nwi_gpkg %>% st_transform(st_crs(sample_chip))\n .         sample_chip$class <- fasterize(nwi_gpkg, sample_chip[[1]], \n .             field = \"wetland_ty\", fun = \"first\")\n .         sample_chip$class_fill <- sample_chip$class\n .         values(sample_chip$class_fill)[is.na(values(sample_chip$class_fill))] <- values(sample_chip$nlcd)[is.na(values(sample_chip$class_fill))]\n .         values(sample_chip$class_fill)[is.na(values(sample_chip$class_fill))] <- 0\n .         values(sample_chip$dem)[is.na(values(sample_chip$dem))] <- 0\n .         values(sample_chip$nlcd)[is.na(values(sample_chip$nlcd))] <- 0\n .         values(sample_chip$class)[is.na(values(sample_chip$class))] <- 0\n .         values(sample_chip$ccap)[is.na(values(sample_chip$ccap))] <- 0\n .         sample_chip %>% writeRaster(paste0(\"output_chips/\", (sample_chip %>% \n .             extent %>% round)[1], \"_\", (sample_chip %>% extent %>% \n .             round)[3], \".tif\"), overwrite = T)\n .     }, wetland_aoi_fishnet_gpkg, hawaii_naip, wetland_polygon, \n .         dem_load_tif, ccap_load_tif, nlcd_load_tif, nwi_gpkg)\n .     stopCluster(cl)\n . })",
            "3. FUN(X[[i]], ...)",
            "4. dem_location_gpkg$path %>% raster %>% crop(., wetland_aoi_fishnet_gpkg[y, \n .     ] %>% st_transform(st_crs(dem_load_tif)))   # at line 21-23 of file <text>",
            "5. crop(., wetland_aoi_fishnet_gpkg[y, ] %>% st_transform(st_crs(dem_load_tif)))",
            "6. crop(., wetland_aoi_fishnet_gpkg[y, ] %>% st_transform(st_crs(dem_load_tif)))",
            "7. .local(x, y, ...)",
            "8. stop(\"Cannot get an Extent object from argument y\")"
          ]
        }
      ]
    },
    {
      "cell_type": "code",
      "source": [
        "zip(zipfile = 'testZip', files = 'testDir/test.csv') #make this work"
      ],
      "metadata": {
        "id": "mg6S8zDvVFVz"
      },
      "execution_count": null,
      "outputs": []
    },
    {
      "cell_type": "code",
      "source": [
        "#put code here to upload to drive"
      ],
      "metadata": {
        "id": "UqCOVY7pVNsM"
      },
      "execution_count": null,
      "outputs": []
    }
  ]
}