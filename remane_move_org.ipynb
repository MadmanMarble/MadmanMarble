{
  "nbformat": 4,
  "nbformat_minor": 0,
  "metadata": {
    "colab": {
      "provenance": [],
      "authorship_tag": "ABX9TyNtUubARdGgaAkvGsdmyguW",
      "include_colab_link": true
    },
    "kernelspec": {
      "name": "python3",
      "display_name": "Python 3"
    },
    "language_info": {
      "name": "python"
    }
  },
  "cells": [
    {
      "cell_type": "markdown",
      "metadata": {
        "id": "view-in-github",
        "colab_type": "text"
      },
      "source": [
        "<a href=\"https://colab.research.google.com/github/MadmanMarble/MadmanMarble/blob/main/remane_move_org.ipynb\" target=\"_parent\"><img src=\"https://colab.research.google.com/assets/colab-badge.svg\" alt=\"Open In Colab\"/></a>"
      ]
    },
    {
      "cell_type": "code",
      "execution_count": 1,
      "metadata": {
        "id": "X3Okp-juyV3G",
        "colab": {
          "base_uri": "https://localhost:8080/"
        },
        "outputId": "b28228dc-bef8-4829-c53d-4423eafb20af"
      },
      "outputs": [
        {
          "output_type": "stream",
          "name": "stdout",
          "text": [
            "Mounted at /content/drive\n"
          ]
        }
      ],
      "source": [
        "from google.colab import drive\n",
        "drive.mount('/content/drive')"
      ]
    },
    {
      "cell_type": "code",
      "source": [
        "import os\n",
        "import shutil"
      ],
      "metadata": {
        "id": "VGYfTozH0K1B"
      },
      "execution_count": 2,
      "outputs": []
    },
    {
      "cell_type": "code",
      "source": [
        "\n",
        "\n",
        "# Define the paths\n",
        "original_file_path = '/content/drive/MyDrive/data/wetland_project/raw_data/ccap_clip/'  # Example file path\n",
        "new_file_path = '/content/drive/MyDrive/data/wetland_project/raw_data/ccap_clip/'   # New name for the file\n",
        "\n"
      ],
      "metadata": {
        "id": "wt_5-HcWyYmn"
      },
      "execution_count": 7,
      "outputs": []
    },
    {
      "cell_type": "code",
      "source": [
        "# Rename a file\n",
        "os.rename(original_file_path, new_file_path)\n",
        "print(f\"File renamed to {new_file_path}\")\n",
        "\n",
        "# Define paths for the copy operation\n",
        "source_file_path = new_file_path  # We'll use the newly renamed file as the source\n",
        "destination_folder_path = '/content/drive/MyDrive/data/DATA/CCAP/'\n",
        "destination_file_path = os.path.join(destination_folder_path, os.path.basename(source_file_path))\n",
        "\n",
        "# Make sure the destination folder exists, if not, create it\n",
        "if not os.path.exists(destination_folder_path):\n",
        "    os.makedirs(destination_folder_path)\n",
        "\n",
        "# Copy the file\n",
        "shutil.copy2(source_file_path, destination_file_path)\n",
        "print(f\"File copied to {destination_file_path}\")\n"
      ],
      "metadata": {
        "id": "Ji6noGEr0S3_"
      },
      "execution_count": null,
      "outputs": []
    },
    {
      "cell_type": "code",
      "source": [
        "# import the module\n",
        "import shutil\n",
        "\n",
        "# Specify the path of the file you want to copy\n",
        "file_to_copy = '/content/drive/MyDrive/data/wetland_project/processed_data/naip/'\n",
        "\n",
        "# Get a list of files in the directory\n",
        "files = os.listdir(file_to_copy)\n",
        "\n",
        "# Select the file you want to copy\n",
        "file_to_copy = os.path.join(file_to_copy, files[])\n",
        "\n",
        "# Specify the path of the destination directory you want to copy to\n",
        "destination_directory = '/content/drive/MyDrive/data/DATA/NAIP/'\n",
        "\n",
        "# Use the shutil.copy() method to copy the file to the destination directory\n",
        "shutil.copy(file_to_copy, destination_directory)"
      ],
      "metadata": {
        "colab": {
          "base_uri": "https://localhost:8080/",
          "height": 35
        },
        "id": "KEFTJBVA08Ck",
        "outputId": "66169fed-7c80-42e4-b028-5246950c03b3"
      },
      "execution_count": 14,
      "outputs": [
        {
          "output_type": "execute_result",
          "data": {
            "text/plain": [
              "'/content/drive/MyDrive/data/DATA/NAIP/anahola2017.zip'"
            ],
            "application/vnd.google.colaboratory.intrinsic+json": {
              "type": "string"
            }
          },
          "metadata": {},
          "execution_count": 14
        }
      ]
    },
    {
      "source": [
        "import os\n",
        "import shutil\n",
        "\n",
        "# Specify the path of the directory you want to copy from\n",
        "source_directory = '/content/drive/MyDrive/data/wetland_project/processed_data/naip/'\n",
        "\n",
        "# Get a list of files in the directory\n",
        "files = os.listdir(source_directory)\n",
        "\n",
        "# Specify the path of the destination directory you want to copy to\n",
        "destination_directory = '/content/drive/MyDrive/data/DATA/NAIP/'\n",
        "\n",
        "# Ensure the destination directory exists\n",
        "if not os.path.exists(destination_directory):\n",
        "    os.makedirs(destination_directory)\n",
        "\n",
        "# Iterate over the list of files and copy each one\n",
        "for file_name in files:\n",
        "    # Construct the full file path\n",
        "    file_to_copy = os.path.join(source_directory, file_name)\n",
        "\n",
        "    # Use shutil.copy() to copy the file to the destination directory\n",
        "    shutil.copy(file_to_copy, destination_directory)\n",
        "\n",
        "print(f\"All files from {source_directory} have been copied to {destination_directory}\")\n"
      ],
      "cell_type": "code",
      "metadata": {
        "colab": {
          "base_uri": "https://localhost:8080/"
        },
        "id": "gdFpffWu2C4r",
        "outputId": "ec9b272b-3466-4f27-c8f5-a5f36f299443"
      },
      "execution_count": 15,
      "outputs": [
        {
          "output_type": "stream",
          "name": "stdout",
          "text": [
            "All files from /content/drive/MyDrive/data/wetland_project/processed_data/naip/ have been copied to /content/drive/MyDrive/data/DATA/NAIP/\n"
          ]
        }
      ]
    },
    {
      "cell_type": "code",
      "source": [
        "# Specify the path of the directory you want to copy from\n",
        "source_directory = '/content/drive/MyDrive/data/wetland_project/raw_data/naip_tiles/2022_original/'\n",
        "\n",
        "# Get a list of files in the directory\n",
        "files = os.listdir(source_directory)\n",
        "\n",
        "# Specify the path of the destination directory you want to copy to\n",
        "destination_directory = '/content/drive/MyDrive/data/raw_data/naip/'\n",
        "\n",
        "# Ensure the destination directory exists\n",
        "if not os.path.exists(destination_directory):\n",
        "    os.makedirs(destination_directory)\n",
        "\n",
        "# Iterate over the list of files and copy each one\n",
        "for file_name in files:\n",
        "    # Construct the full file path\n",
        "    file_to_copy = os.path.join(source_directory, file_name)\n",
        "\n",
        "    # Use shutil.copy() to copy the file to the destination directory\n",
        "    shutil.copy(file_to_copy, destination_directory)\n",
        "\n",
        "print(f\"All files from {source_directory} have been copied to {destination_directory}\")"
      ],
      "metadata": {
        "colab": {
          "base_uri": "https://localhost:8080/"
        },
        "id": "kalS6Tvr3WgV",
        "outputId": "23cda277-6eab-4c68-9847-76db12c72b8c"
      },
      "execution_count": 25,
      "outputs": [
        {
          "output_type": "stream",
          "name": "stdout",
          "text": [
            "All files from /content/drive/MyDrive/data/wetland_project/raw_data/naip_tiles/2022_original/ have been copied to /content/drive/MyDrive/data/raw_data/naip/\n"
          ]
        }
      ]
    },
    {
      "cell_type": "code",
      "source": [
        "import os\n",
        "import shutil\n",
        "\n",
        "# Define the source directory containing the .tif files\n",
        "source_directory = '/content/drive/MyDrive/data/wetland_project/preprocessed_data/planet_processing/Waipio_2020'\n",
        "\n",
        "# Define the destination directory where the renamed files will be placed\n",
        "destination_directory = '/content/drive/MyDrive/data/raw_data/planet/'\n",
        "\n",
        "# Ensure the destination directory exists\n",
        "if not os.path.exists(destination_directory):\n",
        "    os.makedirs(destination_directory)\n",
        "\n",
        "# Loop through all files in the source directory\n",
        "for filename in os.listdir(source_directory):\n",
        "    if filename.endswith('composite.tif'):\n",
        "        # Extract the date and other needed information from the filename\n",
        "        # Assuming the format is: YYYY-MM-DD_otherinfo.tif\n",
        "        parts = filename.split('_')\n",
        "        date = parts[0]  # This assumes the date is always the first part of the filename\n",
        "        new_name = f\"waipio_{date}.tif\"  # Change 'Anahola' to your desired location name if needed\n",
        "\n",
        "        # Full path for source and destination\n",
        "        original_file_path = os.path.join(source_directory, filename)\n",
        "        new_file_path = os.path.join(destination_directory, new_name)\n",
        "\n",
        "        # Rename and move the file\n",
        "        shutil.move(original_file_path, new_file_path)\n",
        "\n",
        "        print(f\"Renamed and moved: {filename} to {new_file_path}\")\n"
      ],
      "metadata": {
        "colab": {
          "base_uri": "https://localhost:8080/"
        },
        "id": "502y-rJIOc1K",
        "outputId": "d4430a3e-3ac2-43f9-d85b-560a50f11104"
      },
      "execution_count": 85,
      "outputs": [
        {
          "output_type": "stream",
          "name": "stdout",
          "text": [
            "Renamed and moved: 2020-08-28_strip_3684568_composite.tif to /content/drive/MyDrive/data/raw_data/planet/waipio_2020-08-28.tif\n",
            "Renamed and moved: 2020-11-09_strip_3885059_composite.tif to /content/drive/MyDrive/data/raw_data/planet/waipio_2020-11-09.tif\n",
            "Renamed and moved: 2020-05-27_strip_3435035_composite.tif to /content/drive/MyDrive/data/raw_data/planet/waipio_2020-05-27.tif\n",
            "Renamed and moved: 2020-03-02_strip_3193454_composite.tif to /content/drive/MyDrive/data/raw_data/planet/waipio_2020-03-02.tif\n",
            "Renamed and moved: 2020-10-18_strip_3821849_composite.tif to /content/drive/MyDrive/data/raw_data/planet/waipio_2020-10-18.tif\n"
          ]
        }
      ]
    },
    {
      "cell_type": "code",
      "source": [
        "\n",
        "# Specify the directory containing the .tif files\n",
        "directory = '/content/drive/MyDrive/data/raw_data/naip/'\n",
        "\n",
        "# Loop through all files in the directory\n",
        "for filename in os.listdir(directory):\n",
        "    if filename.endswith('.tif'):\n",
        "        # Split the filename into parts based on the underscore\n",
        "        parts = filename.split('_')\n",
        "        if len(parts) == 2:  # Ensure the filename format matches 'year_name.tif'\n",
        "            year = parts[0]\n",
        "            name = parts[1].split('.')[0]  # Remove the file extension for rearrangement\n",
        "            new_filename = f\"{name}{year}.tif\"  # Construct the new filename\n",
        "\n",
        "            # Full path for the original and new filename\n",
        "            original_file_path = os.path.join(directory, filename)\n",
        "            new_file_path = os.path.join(directory, new_filename)\n",
        "\n",
        "            # Rename the file\n",
        "            os.rename(original_file_path, new_file_path)\n",
        "\n",
        "            print(f\"Renamed '{filename}' to '{new_filename}'\")\n"
      ],
      "metadata": {
        "id": "hjv06YVBTWTp"
      },
      "execution_count": null,
      "outputs": []
    }
  ]
}