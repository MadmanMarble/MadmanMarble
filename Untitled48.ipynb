{
  "nbformat": 4,
  "nbformat_minor": 0,
  "metadata": {
    "colab": {
      "provenance": [],
      "machine_shape": "hm",
      "authorship_tag": "ABX9TyM3scSVJSpt1jyfopZf9mm0",
      "include_colab_link": true
    },
    "kernelspec": {
      "name": "python3",
      "display_name": "Python 3"
    },
    "language_info": {
      "name": "python"
    }
  },
  "cells": [
    {
      "cell_type": "markdown",
      "metadata": {
        "id": "view-in-github",
        "colab_type": "text"
      },
      "source": [
        "<a href=\"https://colab.research.google.com/github/MadmanMarble/MadmanMarble/blob/main/Untitled48.ipynb\" target=\"_parent\"><img src=\"https://colab.research.google.com/assets/colab-badge.svg\" alt=\"Open In Colab\"/></a>"
      ]
    },
    {
      "cell_type": "code",
      "execution_count": 1,
      "metadata": {
        "colab": {
          "base_uri": "https://localhost:8080/"
        },
        "id": "wq1n6ccqSC76",
        "outputId": "16956604-151b-4f4d-88bf-6bdb28f18150"
      },
      "outputs": [
        {
          "output_type": "stream",
          "name": "stdout",
          "text": [
            "Mounted at /content/drive\n"
          ]
        }
      ],
      "source": [
        "from google.colab import drive\n",
        "drive.mount('/content/drive')\n",
        ""
      ]
    },
    {
      "cell_type": "code",
      "source": [
        "import os\n",
        "import glob\n",
        "import cv2\n",
        "import numpy as np\n",
        "from matplotlib import pyplot as plt\n",
        "import tensorflow as tf\n"
      ],
      "metadata": {
        "id": "bujm-onGSQga"
      },
      "execution_count": 2,
      "outputs": []
    },
    {
      "cell_type": "code",
      "source": [
        "pip install rasterio"
      ],
      "metadata": {
        "colab": {
          "base_uri": "https://localhost:8080/"
        },
        "id": "-gx9Z613SYHX",
        "outputId": "95e9bb7a-a12e-4803-d21d-969de93e8766"
      },
      "execution_count": 3,
      "outputs": [
        {
          "output_type": "stream",
          "name": "stdout",
          "text": [
            "Collecting rasterio\n",
            "  Downloading rasterio-1.3.10-cp310-cp310-manylinux2014_x86_64.whl (21.5 MB)\n",
            "\u001b[?25l     \u001b[90m━━━━━━━━━━━━━━━━━━━━━━━━━━━━━━━━━━━━━━━━\u001b[0m \u001b[32m0.0/21.5 MB\u001b[0m \u001b[31m?\u001b[0m eta \u001b[36m-:--:--\u001b[0m\r\u001b[2K     \u001b[90m━━━━━━━━━━━━━━━━━━━━━━━━━━━━━━━━━━━━━━━━\u001b[0m \u001b[32m0.1/21.5 MB\u001b[0m \u001b[31m4.0 MB/s\u001b[0m eta \u001b[36m0:00:06\u001b[0m\r\u001b[2K     \u001b[91m━━\u001b[0m\u001b[91m╸\u001b[0m\u001b[90m━━━━━━━━━━━━━━━━━━━━━━━━━━━━━━━━━━━━━\u001b[0m \u001b[32m1.4/21.5 MB\u001b[0m \u001b[31m21.5 MB/s\u001b[0m eta \u001b[36m0:00:01\u001b[0m\r\u001b[2K     \u001b[91m━━━━━━━━━━━\u001b[0m\u001b[90m╺\u001b[0m\u001b[90m━━━━━━━━━━━━━━━━━━━━━━━━━━━━\u001b[0m \u001b[32m6.0/21.5 MB\u001b[0m \u001b[31m58.2 MB/s\u001b[0m eta \u001b[36m0:00:01\u001b[0m\r\u001b[2K     \u001b[91m━━━━━━━━━━━━━━━━━\u001b[0m\u001b[91m╸\u001b[0m\u001b[90m━━━━━━━━━━━━━━━━━━━━━━\u001b[0m \u001b[32m9.6/21.5 MB\u001b[0m \u001b[31m69.4 MB/s\u001b[0m eta \u001b[36m0:00:01\u001b[0m\r\u001b[2K     \u001b[91m━━━━━━━━━━━━━━━━━━━━━━━━━\u001b[0m\u001b[91m╸\u001b[0m\u001b[90m━━━━━━━━━━━━━━\u001b[0m \u001b[32m13.8/21.5 MB\u001b[0m \u001b[31m121.1 MB/s\u001b[0m eta \u001b[36m0:00:01\u001b[0m\r\u001b[2K     \u001b[91m━━━━━━━━━━━━━━━━━━━━━━━━━━━━━\u001b[0m\u001b[90m╺\u001b[0m\u001b[90m━━━━━━━━━━\u001b[0m \u001b[32m15.7/21.5 MB\u001b[0m \u001b[31m95.7 MB/s\u001b[0m eta \u001b[36m0:00:01\u001b[0m\r\u001b[2K     \u001b[91m━━━━━━━━━━━━━━━━━━━━━━━━━━━━━━━━━━━━\u001b[0m\u001b[90m╺\u001b[0m\u001b[90m━━━\u001b[0m \u001b[32m19.5/21.5 MB\u001b[0m \u001b[31m91.3 MB/s\u001b[0m eta \u001b[36m0:00:01\u001b[0m\r\u001b[2K     \u001b[91m━━━━━━━━━━━━━━━━━━━━━━━━━━━━━━━━━━━━━━━\u001b[0m\u001b[91m╸\u001b[0m \u001b[32m21.5/21.5 MB\u001b[0m \u001b[31m95.0 MB/s\u001b[0m eta \u001b[36m0:00:01\u001b[0m\r\u001b[2K     \u001b[91m━━━━━━━━━━━━━━━━━━━━━━━━━━━━━━━━━━━━━━━\u001b[0m\u001b[91m╸\u001b[0m \u001b[32m21.5/21.5 MB\u001b[0m \u001b[31m95.0 MB/s\u001b[0m eta \u001b[36m0:00:01\u001b[0m\r\u001b[2K     \u001b[91m━━━━━━━━━━━━━━━━━━━━━━━━━━━━━━━━━━━━━━━\u001b[0m\u001b[91m╸\u001b[0m \u001b[32m21.5/21.5 MB\u001b[0m \u001b[31m95.0 MB/s\u001b[0m eta \u001b[36m0:00:01\u001b[0m\r\u001b[2K     \u001b[90m━━━━━━━━━━━━━━━━━━━━━━━━━━━━━━━━━━━━━━━━\u001b[0m \u001b[32m21.5/21.5 MB\u001b[0m \u001b[31m48.1 MB/s\u001b[0m eta \u001b[36m0:00:00\u001b[0m\n",
            "\u001b[?25hCollecting affine (from rasterio)\n",
            "  Downloading affine-2.4.0-py3-none-any.whl (15 kB)\n",
            "Requirement already satisfied: attrs in /usr/local/lib/python3.10/dist-packages (from rasterio) (23.2.0)\n",
            "Requirement already satisfied: certifi in /usr/local/lib/python3.10/dist-packages (from rasterio) (2024.2.2)\n",
            "Requirement already satisfied: click>=4.0 in /usr/local/lib/python3.10/dist-packages (from rasterio) (8.1.7)\n",
            "Requirement already satisfied: cligj>=0.5 in /usr/local/lib/python3.10/dist-packages (from rasterio) (0.7.2)\n",
            "Requirement already satisfied: numpy in /usr/local/lib/python3.10/dist-packages (from rasterio) (1.25.2)\n",
            "Collecting snuggs>=1.4.1 (from rasterio)\n",
            "  Downloading snuggs-1.4.7-py3-none-any.whl (5.4 kB)\n",
            "Requirement already satisfied: click-plugins in /usr/local/lib/python3.10/dist-packages (from rasterio) (1.1.1)\n",
            "Requirement already satisfied: setuptools in /usr/local/lib/python3.10/dist-packages (from rasterio) (67.7.2)\n",
            "Requirement already satisfied: pyparsing>=2.1.6 in /usr/local/lib/python3.10/dist-packages (from snuggs>=1.4.1->rasterio) (3.1.2)\n",
            "Installing collected packages: snuggs, affine, rasterio\n",
            "Successfully installed affine-2.4.0 rasterio-1.3.10 snuggs-1.4.7\n"
          ]
        }
      ]
    },
    {
      "cell_type": "code",
      "source": [
        "import rasterio\n",
        "from sklearn.model_selection import train_test_split\n",
        "import shutil"
      ],
      "metadata": {
        "id": "awIMyHcBScDI"
      },
      "execution_count": 4,
      "outputs": []
    },
    {
      "cell_type": "code",
      "source": [
        "# experiment one\n",
        "files_01 = os.listdir('/content/drive/MyDrive/data/model_prediction/oneyear_data/20240418_1448')\n",
        "tif_files_01 = [f for f in files_01 if f.endswith('.tif')]\n",
        "print(f\"There are {len(tif_files_01)} .tif files in the directory.\")"
      ],
      "metadata": {
        "colab": {
          "base_uri": "https://localhost:8080/"
        },
        "id": "2Vu1kTjvSiUQ",
        "outputId": "421feb3d-1fb6-4064-99b4-5d57db8537a0"
      },
      "execution_count": 5,
      "outputs": [
        {
          "output_type": "stream",
          "name": "stdout",
          "text": [
            "There are 1500 .tif files in the directory.\n"
          ]
        }
      ]
    },
    {
      "cell_type": "code",
      "source": [
        "# experiment two\n",
        "files_02 = os.listdir('/content/drive/MyDrive/data/model_prediction/twoyear_data/20240418_1448')\n",
        "tif_files_02 = [f for f in files_02 if f.endswith('.tif')]\n",
        "print(f\"There are {len(tif_files_02)} .tif files in the directory.\")"
      ],
      "metadata": {
        "colab": {
          "base_uri": "https://localhost:8080/"
        },
        "id": "e1oBZ7SeSvE8",
        "outputId": "d3ef33d1-86d7-4478-b407-656594903dd9"
      },
      "execution_count": 6,
      "outputs": [
        {
          "output_type": "stream",
          "name": "stdout",
          "text": [
            "There are 1500 .tif files in the directory.\n"
          ]
        }
      ]
    },
    {
      "cell_type": "code",
      "source": [
        "# experiment three\n",
        "files_03 = os.listdir('/content/drive/MyDrive/data/model_prediction/threeyear_data/20240418_1448')\n",
        "tif_files_03 = [f for f in files_03 if f.endswith('.tif')]\n",
        "print(f\"There are {len(tif_files_03)} .tif files in the directory.\")"
      ],
      "metadata": {
        "colab": {
          "base_uri": "https://localhost:8080/"
        },
        "id": "R6FF5BSLTCXC",
        "outputId": "037eb92b-4cd2-40d1-a07d-0687cd24c992"
      },
      "execution_count": 7,
      "outputs": [
        {
          "output_type": "stream",
          "name": "stdout",
          "text": [
            "There are 1500 .tif files in the directory.\n"
          ]
        }
      ]
    },
    {
      "cell_type": "code",
      "source": [
        "files_labels = os.listdir('/content/drive/MyDrive/data/labels/y_test')\n",
        "tif_files_labels = [f for f in files_labels if f.endswith('.tif')]\n",
        "print(f\"There are {len(tif_files_labels)} .tif files in the directory.\")"
      ],
      "metadata": {
        "colab": {
          "base_uri": "https://localhost:8080/"
        },
        "id": "AWAzN6w6YOpL",
        "outputId": "d54224c2-da57-444b-b6dd-d4fadfcb959b"
      },
      "execution_count": 8,
      "outputs": [
        {
          "output_type": "stream",
          "name": "stdout",
          "text": [
            "There are 15 .tif files in the directory.\n"
          ]
        }
      ]
    },
    {
      "cell_type": "code",
      "source": [
        "files_01[0]"
      ],
      "metadata": {
        "colab": {
          "base_uri": "https://localhost:8080/",
          "height": 35
        },
        "id": "CfY7Dq1KZSI4",
        "outputId": "af55acd1-6c12-4da6-dbb4-23a43c774a8e"
      },
      "execution_count": 10,
      "outputs": [
        {
          "output_type": "execute_result",
          "data": {
            "text/plain": [
              "'epoch_166_1516_1year.tif'"
            ],
            "application/vnd.google.colaboratory.intrinsic+json": {
              "type": "string"
            }
          },
          "metadata": {},
          "execution_count": 10
        }
      ]
    },
    {
      "cell_type": "code",
      "source": [
        "files_labels[0]"
      ],
      "metadata": {
        "colab": {
          "base_uri": "https://localhost:8080/",
          "height": 35
        },
        "id": "LJZ1tyK5ZUvY",
        "outputId": "22c419fa-8bee-4ffb-8490-0e3d459d382d"
      },
      "execution_count": 11,
      "outputs": [
        {
          "output_type": "execute_result",
          "data": {
            "text/plain": [
              "'823_multi_wl.tif'"
            ],
            "application/vnd.google.colaboratory.intrinsic+json": {
              "type": "string"
            }
          },
          "metadata": {},
          "execution_count": 11
        }
      ]
    },
    {
      "cell_type": "code",
      "source": [
        "import os\n",
        "import pandas as pd\n",
        "import numpy as np\n",
        "import rasterio\n",
        "from rasterio.plot import show\n",
        "import matplotlib.pyplot as plt\n",
        "from sklearn.metrics import confusion_matrix, accuracy_score, balanced_accuracy_score\n"
      ],
      "metadata": {
        "id": "Y6LdlHxUTUEr"
      },
      "execution_count": 12,
      "outputs": []
    },
    {
      "cell_type": "code",
      "source": [
        "# predict_path and epoch and tile_id match, but label_path does not\n",
        "\n",
        "def list_files(directory, pattern=\".tif\"):\n",
        "    # List all files with the specified pattern, fully sorted\n",
        "    return sorted([os.path.join(root, f)\n",
        "                   for root, dirs, files in os.walk(directory)\n",
        "                   for f in files if f.endswith(pattern)])\n",
        "\n",
        "# def create_df(file_list, label_list):\n",
        "#     # Assuming each label file corresponds to 100 prediction files in sequence\n",
        "#     repeat_factor = len(file_list) // len(label_list)\n",
        "\n",
        "#     # Repeat each label to match the number of prediction files it corresponds to\n",
        "#     label_paths = np.repeat(label_list, repeat_factor)\n",
        "\n",
        "#     # Extracting epoch and tile_id from filenames\n",
        "#     epochs = [os.path.basename(path).split('_')[1] for path in file_list]\n",
        "#     tile_ids = [os.path.basename(path).split('_')[2] for path in file_list]\n",
        "\n",
        "#     # Creating DataFrame\n",
        "#     df = pd.DataFrame({\n",
        "#         'predict_path': file_list,\n",
        "#         'label_path': label_paths,\n",
        "#         'epoch': epochs,\n",
        "#         'tile_id': tile_ids\n",
        "#     })\n",
        "#     return df"
      ],
      "metadata": {
        "id": "xNYByJfvZuD7"
      },
      "execution_count": 13,
      "outputs": []
    },
    {
      "cell_type": "code",
      "source": [
        "def extract_id(filename):\n",
        "    # This function extracts the unique ID from the filename\n",
        "    # It assumes the ID is the part before the first underscore for label files\n",
        "    # And it's the part between the second and third underscore for predict files\n",
        "    parts = os.path.basename(filename).split('_')\n",
        "    return parts[-3] if 'epoch' in parts else parts[0]"
      ],
      "metadata": {
        "id": "Wvi61FApcwAh"
      },
      "execution_count": 14,
      "outputs": []
    },
    {
      "cell_type": "code",
      "source": [
        "def extract_id(filename):\n",
        "    # This function extracts the numeric id from the filename\n",
        "    # It splits the filename by '_' and takes the fourth element for file_list_01\n",
        "    # And splits by '/' and takes the last element before the file extension for file_list_labels\n",
        "    if \"epoch\" in filename:\n",
        "        return filename.split('_')[5]  # Extracts '1472' from file_list_01\n",
        "    else:\n",
        "        return os.path.basename(filename).split('_')[0]  # Extracts '1472' from file_list_labels\n",
        "\n",
        "def create_df(file_list, label_list):\n",
        "    # Create a dictionary to map unique IDs to label paths\n",
        "    label_dict = {extract_id(label): label for label in label_list}\n",
        "\n",
        "    # Extracting the unique ID and 'epoch' from the predict file name\n",
        "    unique_ids = [extract_id(f) for f in file_list]\n",
        "    epochs = [os.path.basename(f).split('_')[1] for f in file_list]\n",
        "\n",
        "    # Match the predict file with the label using the unique ID\n",
        "    matched_labels = [label_dict.get(uid) for uid in unique_ids]\n",
        "\n",
        "    # Creating the DataFrame\n",
        "    df = pd.DataFrame({\n",
        "        'predict_path': file_list,\n",
        "        'label_path': matched_labels,\n",
        "        'epoch': epochs,\n",
        "        'unique_id': unique_ids  # Added unique_id for verification\n",
        "    })\n",
        "    return df"
      ],
      "metadata": {
        "id": "U9wtHi85dAPq"
      },
      "execution_count": 15,
      "outputs": []
    },
    {
      "cell_type": "code",
      "source": [],
      "metadata": {
        "id": "aJuGtNUKdAM5"
      },
      "execution_count": null,
      "outputs": []
    },
    {
      "cell_type": "code",
      "source": [],
      "metadata": {
        "id": "OcTKL4ridAKu"
      },
      "execution_count": null,
      "outputs": []
    },
    {
      "cell_type": "code",
      "source": [
        "# Example directories (replace with actual paths)\n",
        "file_list_01 = list_files(\"/content/drive/MyDrive/data/model_prediction/oneyear_data/20240418_1448\", \".tif\")\n",
        "file_list_02 = list_files(\"/content/drive/MyDrive/data/model_prediction/twoyear_data/20240418_1448\", \".tif\")\n",
        "file_list_03 = list_files(\"/content/drive/MyDrive/data/model_prediction/threeyear_data/20240418_1448\", \".tif\")\n",
        "file_list_labels = list_files(\"/content/drive/MyDrive/data/labels/y_test\", \".tif\")"
      ],
      "metadata": {
        "id": "LAvcT0jiZuBh"
      },
      "execution_count": 16,
      "outputs": []
    },
    {
      "cell_type": "code",
      "source": [
        "file_list_01[0]"
      ],
      "metadata": {
        "colab": {
          "base_uri": "https://localhost:8080/",
          "height": 35
        },
        "id": "sOS1V2D0ap6W",
        "outputId": "19a2f0c7-b837-499f-b89d-a2a622913e1a"
      },
      "execution_count": 17,
      "outputs": [
        {
          "output_type": "execute_result",
          "data": {
            "text/plain": [
              "'/content/drive/MyDrive/data/model_prediction/oneyear_data/20240418_1448/epoch_101_1472_1year.tif'"
            ],
            "application/vnd.google.colaboratory.intrinsic+json": {
              "type": "string"
            }
          },
          "metadata": {},
          "execution_count": 17
        }
      ]
    },
    {
      "cell_type": "code",
      "source": [
        "file_list_labels[0]"
      ],
      "metadata": {
        "colab": {
          "base_uri": "https://localhost:8080/",
          "height": 35
        },
        "id": "FsdEsWNWcSpT",
        "outputId": "3c62222a-cd61-4dd6-a797-3920dfb7ffc7"
      },
      "execution_count": 18,
      "outputs": [
        {
          "output_type": "execute_result",
          "data": {
            "text/plain": [
              "'/content/drive/MyDrive/data/labels/y_test/1472_multi_wl.tif'"
            ],
            "application/vnd.google.colaboratory.intrinsic+json": {
              "type": "string"
            }
          },
          "metadata": {},
          "execution_count": 18
        }
      ]
    },
    {
      "cell_type": "code",
      "source": [
        "id_dt_01 = create_df(file_list_01, file_list_labels)\n",
        "id_dt_02 = create_df(file_list_02, file_list_labels)\n",
        "id_dt_03 = create_df(file_list_03, file_list_labels)"
      ],
      "metadata": {
        "id": "L0_5BG6Fc527"
      },
      "execution_count": 19,
      "outputs": []
    },
    {
      "cell_type": "code",
      "source": [
        "id_dt_03"
      ],
      "metadata": {
        "colab": {
          "base_uri": "https://localhost:8080/",
          "height": 687
        },
        "id": "mxonNw6Zc50b",
        "outputId": "0774e46c-d317-42f3-deb8-9efa074d0224"
      },
      "execution_count": 20,
      "outputs": [
        {
          "output_type": "execute_result",
          "data": {
            "text/plain": [
              "                                           predict_path  \\\n",
              "0     /content/drive/MyDrive/data/model_prediction/t...   \n",
              "1     /content/drive/MyDrive/data/model_prediction/t...   \n",
              "2     /content/drive/MyDrive/data/model_prediction/t...   \n",
              "3     /content/drive/MyDrive/data/model_prediction/t...   \n",
              "4     /content/drive/MyDrive/data/model_prediction/t...   \n",
              "...                                                 ...   \n",
              "1495  /content/drive/MyDrive/data/model_prediction/t...   \n",
              "1496  /content/drive/MyDrive/data/model_prediction/t...   \n",
              "1497  /content/drive/MyDrive/data/model_prediction/t...   \n",
              "1498  /content/drive/MyDrive/data/model_prediction/t...   \n",
              "1499  /content/drive/MyDrive/data/model_prediction/t...   \n",
              "\n",
              "                                             label_path epoch unique_id  \n",
              "0     /content/drive/MyDrive/data/labels/y_test/1472...   101      1472  \n",
              "1     /content/drive/MyDrive/data/labels/y_test/1482...   101      1482  \n",
              "2     /content/drive/MyDrive/data/labels/y_test/1516...   101      1516  \n",
              "3     /content/drive/MyDrive/data/labels/y_test/1530...   101      1530  \n",
              "4     /content/drive/MyDrive/data/labels/y_test/1549...   101      1549  \n",
              "...                                                 ...   ...       ...  \n",
              "1495  /content/drive/MyDrive/data/labels/y_test/283_...    96       283  \n",
              "1496  /content/drive/MyDrive/data/labels/y_test/776_...    96       776  \n",
              "1497  /content/drive/MyDrive/data/labels/y_test/808_...    96       808  \n",
              "1498  /content/drive/MyDrive/data/labels/y_test/812_...    96       812  \n",
              "1499  /content/drive/MyDrive/data/labels/y_test/823_...    96       823  \n",
              "\n",
              "[1500 rows x 4 columns]"
            ],
            "text/html": [
              "\n",
              "  <div id=\"df-79eb0037-26b4-458e-b016-b27df2775461\" class=\"colab-df-container\">\n",
              "    <div>\n",
              "<style scoped>\n",
              "    .dataframe tbody tr th:only-of-type {\n",
              "        vertical-align: middle;\n",
              "    }\n",
              "\n",
              "    .dataframe tbody tr th {\n",
              "        vertical-align: top;\n",
              "    }\n",
              "\n",
              "    .dataframe thead th {\n",
              "        text-align: right;\n",
              "    }\n",
              "</style>\n",
              "<table border=\"1\" class=\"dataframe\">\n",
              "  <thead>\n",
              "    <tr style=\"text-align: right;\">\n",
              "      <th></th>\n",
              "      <th>predict_path</th>\n",
              "      <th>label_path</th>\n",
              "      <th>epoch</th>\n",
              "      <th>unique_id</th>\n",
              "    </tr>\n",
              "  </thead>\n",
              "  <tbody>\n",
              "    <tr>\n",
              "      <th>0</th>\n",
              "      <td>/content/drive/MyDrive/data/model_prediction/t...</td>\n",
              "      <td>/content/drive/MyDrive/data/labels/y_test/1472...</td>\n",
              "      <td>101</td>\n",
              "      <td>1472</td>\n",
              "    </tr>\n",
              "    <tr>\n",
              "      <th>1</th>\n",
              "      <td>/content/drive/MyDrive/data/model_prediction/t...</td>\n",
              "      <td>/content/drive/MyDrive/data/labels/y_test/1482...</td>\n",
              "      <td>101</td>\n",
              "      <td>1482</td>\n",
              "    </tr>\n",
              "    <tr>\n",
              "      <th>2</th>\n",
              "      <td>/content/drive/MyDrive/data/model_prediction/t...</td>\n",
              "      <td>/content/drive/MyDrive/data/labels/y_test/1516...</td>\n",
              "      <td>101</td>\n",
              "      <td>1516</td>\n",
              "    </tr>\n",
              "    <tr>\n",
              "      <th>3</th>\n",
              "      <td>/content/drive/MyDrive/data/model_prediction/t...</td>\n",
              "      <td>/content/drive/MyDrive/data/labels/y_test/1530...</td>\n",
              "      <td>101</td>\n",
              "      <td>1530</td>\n",
              "    </tr>\n",
              "    <tr>\n",
              "      <th>4</th>\n",
              "      <td>/content/drive/MyDrive/data/model_prediction/t...</td>\n",
              "      <td>/content/drive/MyDrive/data/labels/y_test/1549...</td>\n",
              "      <td>101</td>\n",
              "      <td>1549</td>\n",
              "    </tr>\n",
              "    <tr>\n",
              "      <th>...</th>\n",
              "      <td>...</td>\n",
              "      <td>...</td>\n",
              "      <td>...</td>\n",
              "      <td>...</td>\n",
              "    </tr>\n",
              "    <tr>\n",
              "      <th>1495</th>\n",
              "      <td>/content/drive/MyDrive/data/model_prediction/t...</td>\n",
              "      <td>/content/drive/MyDrive/data/labels/y_test/283_...</td>\n",
              "      <td>96</td>\n",
              "      <td>283</td>\n",
              "    </tr>\n",
              "    <tr>\n",
              "      <th>1496</th>\n",
              "      <td>/content/drive/MyDrive/data/model_prediction/t...</td>\n",
              "      <td>/content/drive/MyDrive/data/labels/y_test/776_...</td>\n",
              "      <td>96</td>\n",
              "      <td>776</td>\n",
              "    </tr>\n",
              "    <tr>\n",
              "      <th>1497</th>\n",
              "      <td>/content/drive/MyDrive/data/model_prediction/t...</td>\n",
              "      <td>/content/drive/MyDrive/data/labels/y_test/808_...</td>\n",
              "      <td>96</td>\n",
              "      <td>808</td>\n",
              "    </tr>\n",
              "    <tr>\n",
              "      <th>1498</th>\n",
              "      <td>/content/drive/MyDrive/data/model_prediction/t...</td>\n",
              "      <td>/content/drive/MyDrive/data/labels/y_test/812_...</td>\n",
              "      <td>96</td>\n",
              "      <td>812</td>\n",
              "    </tr>\n",
              "    <tr>\n",
              "      <th>1499</th>\n",
              "      <td>/content/drive/MyDrive/data/model_prediction/t...</td>\n",
              "      <td>/content/drive/MyDrive/data/labels/y_test/823_...</td>\n",
              "      <td>96</td>\n",
              "      <td>823</td>\n",
              "    </tr>\n",
              "  </tbody>\n",
              "</table>\n",
              "<p>1500 rows × 4 columns</p>\n",
              "</div>\n",
              "    <div class=\"colab-df-buttons\">\n",
              "\n",
              "  <div class=\"colab-df-container\">\n",
              "    <button class=\"colab-df-convert\" onclick=\"convertToInteractive('df-79eb0037-26b4-458e-b016-b27df2775461')\"\n",
              "            title=\"Convert this dataframe to an interactive table.\"\n",
              "            style=\"display:none;\">\n",
              "\n",
              "  <svg xmlns=\"http://www.w3.org/2000/svg\" height=\"24px\" viewBox=\"0 -960 960 960\">\n",
              "    <path d=\"M120-120v-720h720v720H120Zm60-500h600v-160H180v160Zm220 220h160v-160H400v160Zm0 220h160v-160H400v160ZM180-400h160v-160H180v160Zm440 0h160v-160H620v160ZM180-180h160v-160H180v160Zm440 0h160v-160H620v160Z\"/>\n",
              "  </svg>\n",
              "    </button>\n",
              "\n",
              "  <style>\n",
              "    .colab-df-container {\n",
              "      display:flex;\n",
              "      gap: 12px;\n",
              "    }\n",
              "\n",
              "    .colab-df-convert {\n",
              "      background-color: #E8F0FE;\n",
              "      border: none;\n",
              "      border-radius: 50%;\n",
              "      cursor: pointer;\n",
              "      display: none;\n",
              "      fill: #1967D2;\n",
              "      height: 32px;\n",
              "      padding: 0 0 0 0;\n",
              "      width: 32px;\n",
              "    }\n",
              "\n",
              "    .colab-df-convert:hover {\n",
              "      background-color: #E2EBFA;\n",
              "      box-shadow: 0px 1px 2px rgba(60, 64, 67, 0.3), 0px 1px 3px 1px rgba(60, 64, 67, 0.15);\n",
              "      fill: #174EA6;\n",
              "    }\n",
              "\n",
              "    .colab-df-buttons div {\n",
              "      margin-bottom: 4px;\n",
              "    }\n",
              "\n",
              "    [theme=dark] .colab-df-convert {\n",
              "      background-color: #3B4455;\n",
              "      fill: #D2E3FC;\n",
              "    }\n",
              "\n",
              "    [theme=dark] .colab-df-convert:hover {\n",
              "      background-color: #434B5C;\n",
              "      box-shadow: 0px 1px 3px 1px rgba(0, 0, 0, 0.15);\n",
              "      filter: drop-shadow(0px 1px 2px rgba(0, 0, 0, 0.3));\n",
              "      fill: #FFFFFF;\n",
              "    }\n",
              "  </style>\n",
              "\n",
              "    <script>\n",
              "      const buttonEl =\n",
              "        document.querySelector('#df-79eb0037-26b4-458e-b016-b27df2775461 button.colab-df-convert');\n",
              "      buttonEl.style.display =\n",
              "        google.colab.kernel.accessAllowed ? 'block' : 'none';\n",
              "\n",
              "      async function convertToInteractive(key) {\n",
              "        const element = document.querySelector('#df-79eb0037-26b4-458e-b016-b27df2775461');\n",
              "        const dataTable =\n",
              "          await google.colab.kernel.invokeFunction('convertToInteractive',\n",
              "                                                    [key], {});\n",
              "        if (!dataTable) return;\n",
              "\n",
              "        const docLinkHtml = 'Like what you see? Visit the ' +\n",
              "          '<a target=\"_blank\" href=https://colab.research.google.com/notebooks/data_table.ipynb>data table notebook</a>'\n",
              "          + ' to learn more about interactive tables.';\n",
              "        element.innerHTML = '';\n",
              "        dataTable['output_type'] = 'display_data';\n",
              "        await google.colab.output.renderOutput(dataTable, element);\n",
              "        const docLink = document.createElement('div');\n",
              "        docLink.innerHTML = docLinkHtml;\n",
              "        element.appendChild(docLink);\n",
              "      }\n",
              "    </script>\n",
              "  </div>\n",
              "\n",
              "\n",
              "<div id=\"df-ea990db2-8378-4729-94d2-95e7d4111b35\">\n",
              "  <button class=\"colab-df-quickchart\" onclick=\"quickchart('df-ea990db2-8378-4729-94d2-95e7d4111b35')\"\n",
              "            title=\"Suggest charts\"\n",
              "            style=\"display:none;\">\n",
              "\n",
              "<svg xmlns=\"http://www.w3.org/2000/svg\" height=\"24px\"viewBox=\"0 0 24 24\"\n",
              "     width=\"24px\">\n",
              "    <g>\n",
              "        <path d=\"M19 3H5c-1.1 0-2 .9-2 2v14c0 1.1.9 2 2 2h14c1.1 0 2-.9 2-2V5c0-1.1-.9-2-2-2zM9 17H7v-7h2v7zm4 0h-2V7h2v10zm4 0h-2v-4h2v4z\"/>\n",
              "    </g>\n",
              "</svg>\n",
              "  </button>\n",
              "\n",
              "<style>\n",
              "  .colab-df-quickchart {\n",
              "      --bg-color: #E8F0FE;\n",
              "      --fill-color: #1967D2;\n",
              "      --hover-bg-color: #E2EBFA;\n",
              "      --hover-fill-color: #174EA6;\n",
              "      --disabled-fill-color: #AAA;\n",
              "      --disabled-bg-color: #DDD;\n",
              "  }\n",
              "\n",
              "  [theme=dark] .colab-df-quickchart {\n",
              "      --bg-color: #3B4455;\n",
              "      --fill-color: #D2E3FC;\n",
              "      --hover-bg-color: #434B5C;\n",
              "      --hover-fill-color: #FFFFFF;\n",
              "      --disabled-bg-color: #3B4455;\n",
              "      --disabled-fill-color: #666;\n",
              "  }\n",
              "\n",
              "  .colab-df-quickchart {\n",
              "    background-color: var(--bg-color);\n",
              "    border: none;\n",
              "    border-radius: 50%;\n",
              "    cursor: pointer;\n",
              "    display: none;\n",
              "    fill: var(--fill-color);\n",
              "    height: 32px;\n",
              "    padding: 0;\n",
              "    width: 32px;\n",
              "  }\n",
              "\n",
              "  .colab-df-quickchart:hover {\n",
              "    background-color: var(--hover-bg-color);\n",
              "    box-shadow: 0 1px 2px rgba(60, 64, 67, 0.3), 0 1px 3px 1px rgba(60, 64, 67, 0.15);\n",
              "    fill: var(--button-hover-fill-color);\n",
              "  }\n",
              "\n",
              "  .colab-df-quickchart-complete:disabled,\n",
              "  .colab-df-quickchart-complete:disabled:hover {\n",
              "    background-color: var(--disabled-bg-color);\n",
              "    fill: var(--disabled-fill-color);\n",
              "    box-shadow: none;\n",
              "  }\n",
              "\n",
              "  .colab-df-spinner {\n",
              "    border: 2px solid var(--fill-color);\n",
              "    border-color: transparent;\n",
              "    border-bottom-color: var(--fill-color);\n",
              "    animation:\n",
              "      spin 1s steps(1) infinite;\n",
              "  }\n",
              "\n",
              "  @keyframes spin {\n",
              "    0% {\n",
              "      border-color: transparent;\n",
              "      border-bottom-color: var(--fill-color);\n",
              "      border-left-color: var(--fill-color);\n",
              "    }\n",
              "    20% {\n",
              "      border-color: transparent;\n",
              "      border-left-color: var(--fill-color);\n",
              "      border-top-color: var(--fill-color);\n",
              "    }\n",
              "    30% {\n",
              "      border-color: transparent;\n",
              "      border-left-color: var(--fill-color);\n",
              "      border-top-color: var(--fill-color);\n",
              "      border-right-color: var(--fill-color);\n",
              "    }\n",
              "    40% {\n",
              "      border-color: transparent;\n",
              "      border-right-color: var(--fill-color);\n",
              "      border-top-color: var(--fill-color);\n",
              "    }\n",
              "    60% {\n",
              "      border-color: transparent;\n",
              "      border-right-color: var(--fill-color);\n",
              "    }\n",
              "    80% {\n",
              "      border-color: transparent;\n",
              "      border-right-color: var(--fill-color);\n",
              "      border-bottom-color: var(--fill-color);\n",
              "    }\n",
              "    90% {\n",
              "      border-color: transparent;\n",
              "      border-bottom-color: var(--fill-color);\n",
              "    }\n",
              "  }\n",
              "</style>\n",
              "\n",
              "  <script>\n",
              "    async function quickchart(key) {\n",
              "      const quickchartButtonEl =\n",
              "        document.querySelector('#' + key + ' button');\n",
              "      quickchartButtonEl.disabled = true;  // To prevent multiple clicks.\n",
              "      quickchartButtonEl.classList.add('colab-df-spinner');\n",
              "      try {\n",
              "        const charts = await google.colab.kernel.invokeFunction(\n",
              "            'suggestCharts', [key], {});\n",
              "      } catch (error) {\n",
              "        console.error('Error during call to suggestCharts:', error);\n",
              "      }\n",
              "      quickchartButtonEl.classList.remove('colab-df-spinner');\n",
              "      quickchartButtonEl.classList.add('colab-df-quickchart-complete');\n",
              "    }\n",
              "    (() => {\n",
              "      let quickchartButtonEl =\n",
              "        document.querySelector('#df-ea990db2-8378-4729-94d2-95e7d4111b35 button');\n",
              "      quickchartButtonEl.style.display =\n",
              "        google.colab.kernel.accessAllowed ? 'block' : 'none';\n",
              "    })();\n",
              "  </script>\n",
              "</div>\n",
              "\n",
              "  <div id=\"id_bc6efffb-750f-48a2-b678-0f4544ec2d4b\">\n",
              "    <style>\n",
              "      .colab-df-generate {\n",
              "        background-color: #E8F0FE;\n",
              "        border: none;\n",
              "        border-radius: 50%;\n",
              "        cursor: pointer;\n",
              "        display: none;\n",
              "        fill: #1967D2;\n",
              "        height: 32px;\n",
              "        padding: 0 0 0 0;\n",
              "        width: 32px;\n",
              "      }\n",
              "\n",
              "      .colab-df-generate:hover {\n",
              "        background-color: #E2EBFA;\n",
              "        box-shadow: 0px 1px 2px rgba(60, 64, 67, 0.3), 0px 1px 3px 1px rgba(60, 64, 67, 0.15);\n",
              "        fill: #174EA6;\n",
              "      }\n",
              "\n",
              "      [theme=dark] .colab-df-generate {\n",
              "        background-color: #3B4455;\n",
              "        fill: #D2E3FC;\n",
              "      }\n",
              "\n",
              "      [theme=dark] .colab-df-generate:hover {\n",
              "        background-color: #434B5C;\n",
              "        box-shadow: 0px 1px 3px 1px rgba(0, 0, 0, 0.15);\n",
              "        filter: drop-shadow(0px 1px 2px rgba(0, 0, 0, 0.3));\n",
              "        fill: #FFFFFF;\n",
              "      }\n",
              "    </style>\n",
              "    <button class=\"colab-df-generate\" onclick=\"generateWithVariable('id_dt_03')\"\n",
              "            title=\"Generate code using this dataframe.\"\n",
              "            style=\"display:none;\">\n",
              "\n",
              "  <svg xmlns=\"http://www.w3.org/2000/svg\" height=\"24px\"viewBox=\"0 0 24 24\"\n",
              "       width=\"24px\">\n",
              "    <path d=\"M7,19H8.4L18.45,9,17,7.55,7,17.6ZM5,21V16.75L18.45,3.32a2,2,0,0,1,2.83,0l1.4,1.43a1.91,1.91,0,0,1,.58,1.4,1.91,1.91,0,0,1-.58,1.4L9.25,21ZM18.45,9,17,7.55Zm-12,3A5.31,5.31,0,0,0,4.9,8.1,5.31,5.31,0,0,0,1,6.5,5.31,5.31,0,0,0,4.9,4.9,5.31,5.31,0,0,0,6.5,1,5.31,5.31,0,0,0,8.1,4.9,5.31,5.31,0,0,0,12,6.5,5.46,5.46,0,0,0,6.5,12Z\"/>\n",
              "  </svg>\n",
              "    </button>\n",
              "    <script>\n",
              "      (() => {\n",
              "      const buttonEl =\n",
              "        document.querySelector('#id_bc6efffb-750f-48a2-b678-0f4544ec2d4b button.colab-df-generate');\n",
              "      buttonEl.style.display =\n",
              "        google.colab.kernel.accessAllowed ? 'block' : 'none';\n",
              "\n",
              "      buttonEl.onclick = () => {\n",
              "        google.colab.notebook.generateWithVariable('id_dt_03');\n",
              "      }\n",
              "      })();\n",
              "    </script>\n",
              "  </div>\n",
              "\n",
              "    </div>\n",
              "  </div>\n"
            ],
            "application/vnd.google.colaboratory.intrinsic+json": {
              "type": "dataframe",
              "variable_name": "id_dt_03",
              "summary": "{\n  \"name\": \"id_dt_03\",\n  \"rows\": 1500,\n  \"fields\": [\n    {\n      \"column\": \"predict_path\",\n      \"properties\": {\n        \"dtype\": \"string\",\n        \"num_unique_values\": 1500,\n        \"samples\": [\n          \"/content/drive/MyDrive/data/model_prediction/threeyear_data/20240418_1448/epoch_431_157_3year.tif\",\n          \"/content/drive/MyDrive/data/model_prediction/threeyear_data/20240418_1448/epoch_61_1530_3year.tif\",\n          \"/content/drive/MyDrive/data/model_prediction/threeyear_data/20240418_1448/epoch_221_1516_3year.tif\"\n        ],\n        \"semantic_type\": \"\",\n        \"description\": \"\"\n      }\n    },\n    {\n      \"column\": \"label_path\",\n      \"properties\": {\n        \"dtype\": \"category\",\n        \"num_unique_values\": 15,\n        \"samples\": [\n          \"/content/drive/MyDrive/data/labels/y_test/265_multi_wl.tif\",\n          \"/content/drive/MyDrive/data/labels/y_test/776_multi_wl.tif\",\n          \"/content/drive/MyDrive/data/labels/y_test/1472_multi_wl.tif\"\n        ],\n        \"semantic_type\": \"\",\n        \"description\": \"\"\n      }\n    },\n    {\n      \"column\": \"epoch\",\n      \"properties\": {\n        \"dtype\": \"category\",\n        \"num_unique_values\": 100,\n        \"samples\": [\n          \"471\",\n          \"336\",\n          \"416\"\n        ],\n        \"semantic_type\": \"\",\n        \"description\": \"\"\n      }\n    },\n    {\n      \"column\": \"unique_id\",\n      \"properties\": {\n        \"dtype\": \"category\",\n        \"num_unique_values\": 15,\n        \"samples\": [\n          \"265\",\n          \"776\",\n          \"1472\"\n        ],\n        \"semantic_type\": \"\",\n        \"description\": \"\"\n      }\n    }\n  ]\n}"
            }
          },
          "metadata": {},
          "execution_count": 20
        }
      ]
    },
    {
      "cell_type": "code",
      "source": [
        "id_dt_01['epoch'] = id_dt_01['epoch'].astype(int)\n",
        "id_dt_02['epoch'] = id_dt_02['epoch'].astype(int)\n",
        "id_dt_03['epoch'] = id_dt_03['epoch'].astype(int)\n"
      ],
      "metadata": {
        "id": "mY6rIudoc5ye"
      },
      "execution_count": 21,
      "outputs": []
    },
    {
      "cell_type": "code",
      "source": [
        "id_dt_01_ordered = id_dt_01.sort_values(by='epoch')\n",
        "id_dt_02_ordered = id_dt_02.sort_values(by='epoch')\n",
        "id_dt_03_ordered = id_dt_03.sort_values(by='epoch')\n"
      ],
      "metadata": {
        "id": "5kTq36zqZJhj"
      },
      "execution_count": 22,
      "outputs": []
    },
    {
      "cell_type": "code",
      "source": [
        "len(id_dt_03_ordered)"
      ],
      "metadata": {
        "colab": {
          "base_uri": "https://localhost:8080/"
        },
        "id": "lcpefYy0fe75",
        "outputId": "380da0cd-d40f-46e7-dd0c-131491480ee0"
      },
      "execution_count": 25,
      "outputs": [
        {
          "output_type": "execute_result",
          "data": {
            "text/plain": [
              "1500"
            ]
          },
          "metadata": {},
          "execution_count": 25
        }
      ]
    },
    {
      "cell_type": "code",
      "source": [
        "test_sub_01 = id_dt_01_ordered.head(45)"
      ],
      "metadata": {
        "id": "lB_5owMK0l7i"
      },
      "execution_count": 56,
      "outputs": []
    },
    {
      "cell_type": "code",
      "source": [
        "id_dt_01_ordered_subset = id_dt_01_ordered.head(1000)"
      ],
      "metadata": {
        "id": "B4BpcNnjYC2U"
      },
      "execution_count": 54,
      "outputs": []
    },
    {
      "cell_type": "code",
      "source": [
        "# id_dt_01_ordered_subset"
      ],
      "metadata": {
        "id": "HjgQMlmhgm8m"
      },
      "execution_count": 52,
      "outputs": []
    },
    {
      "cell_type": "code",
      "source": [
        "def process_rasters(df):\n",
        "    results = []\n",
        "    for index, row in df.iterrows():\n",
        "        with rasterio.open(row['predict_path']) as src:\n",
        "            predict_rast = src.read(1)  # Reading the first band\n",
        "        with rasterio.open(row['label_path']) as src:\n",
        "            label_rast = src.read(1)  # Reading the first band\n",
        "\n",
        "        # Adjust prediction values to match label values (by adding 1)\n",
        "        predict_rast = predict_rast + 1\n",
        "\n",
        "        # Flattening the arrays and creating a DataFrame\n",
        "        data = {\n",
        "            'prediction': predict_rast.flatten().astype(int),\n",
        "            'label': label_rast.flatten().astype(int),\n",
        "            'epoch': row['epoch'],\n",
        "            'unique_id': row['unique_id']\n",
        "        }\n",
        "        results.append(pd.DataFrame(data))\n",
        "    return pd.concat(results)"
      ],
      "metadata": {
        "id": "SwUC7sPvhe24"
      },
      "execution_count": 49,
      "outputs": []
    },
    {
      "cell_type": "code",
      "source": [
        "conf_test_sub_01 = process_rasters(test_sub_01)"
      ],
      "metadata": {
        "id": "2tC7upXg0rvX"
      },
      "execution_count": 57,
      "outputs": []
    },
    {
      "cell_type": "code",
      "source": [
        "confusion_id_dt_01_ordered_sub = process_rasters(id_dt_01_ordered_subset)"
      ],
      "metadata": {
        "id": "OwTKd1vThe0m"
      },
      "execution_count": 55,
      "outputs": []
    },
    {
      "cell_type": "code",
      "source": [
        "# confusion_id_dt_01_ordered_sub"
      ],
      "metadata": {
        "colab": {
          "base_uri": "https://localhost:8080/",
          "height": 424
        },
        "id": "lC6Rd69lh0wR",
        "outputId": "0f5a4a5e-c913-4ffd-cd84-834515a8fa3b"
      },
      "execution_count": 30,
      "outputs": [
        {
          "output_type": "execute_result",
          "data": {
            "text/plain": [
              "        prediction  label  epoch unique_id\n",
              "0                1      7      1      1472\n",
              "1                1      7      1      1472\n",
              "2                1      7      1      1472\n",
              "3                1      7      1      1472\n",
              "4                1      7      1      1472\n",
              "...            ...    ...    ...       ...\n",
              "147451           7      7     81       155\n",
              "147452           7      7     81       155\n",
              "147453           7      7     81       155\n",
              "147454           7      7     81       155\n",
              "147455           7      7     81       155\n",
              "\n",
              "[36864000 rows x 4 columns]"
            ],
            "text/html": [
              "\n",
              "  <div id=\"df-8c7d916d-d2ff-4a76-a98f-c5ad0222b433\" class=\"colab-df-container\">\n",
              "    <div>\n",
              "<style scoped>\n",
              "    .dataframe tbody tr th:only-of-type {\n",
              "        vertical-align: middle;\n",
              "    }\n",
              "\n",
              "    .dataframe tbody tr th {\n",
              "        vertical-align: top;\n",
              "    }\n",
              "\n",
              "    .dataframe thead th {\n",
              "        text-align: right;\n",
              "    }\n",
              "</style>\n",
              "<table border=\"1\" class=\"dataframe\">\n",
              "  <thead>\n",
              "    <tr style=\"text-align: right;\">\n",
              "      <th></th>\n",
              "      <th>prediction</th>\n",
              "      <th>label</th>\n",
              "      <th>epoch</th>\n",
              "      <th>unique_id</th>\n",
              "    </tr>\n",
              "  </thead>\n",
              "  <tbody>\n",
              "    <tr>\n",
              "      <th>0</th>\n",
              "      <td>1</td>\n",
              "      <td>7</td>\n",
              "      <td>1</td>\n",
              "      <td>1472</td>\n",
              "    </tr>\n",
              "    <tr>\n",
              "      <th>1</th>\n",
              "      <td>1</td>\n",
              "      <td>7</td>\n",
              "      <td>1</td>\n",
              "      <td>1472</td>\n",
              "    </tr>\n",
              "    <tr>\n",
              "      <th>2</th>\n",
              "      <td>1</td>\n",
              "      <td>7</td>\n",
              "      <td>1</td>\n",
              "      <td>1472</td>\n",
              "    </tr>\n",
              "    <tr>\n",
              "      <th>3</th>\n",
              "      <td>1</td>\n",
              "      <td>7</td>\n",
              "      <td>1</td>\n",
              "      <td>1472</td>\n",
              "    </tr>\n",
              "    <tr>\n",
              "      <th>4</th>\n",
              "      <td>1</td>\n",
              "      <td>7</td>\n",
              "      <td>1</td>\n",
              "      <td>1472</td>\n",
              "    </tr>\n",
              "    <tr>\n",
              "      <th>...</th>\n",
              "      <td>...</td>\n",
              "      <td>...</td>\n",
              "      <td>...</td>\n",
              "      <td>...</td>\n",
              "    </tr>\n",
              "    <tr>\n",
              "      <th>147451</th>\n",
              "      <td>7</td>\n",
              "      <td>7</td>\n",
              "      <td>81</td>\n",
              "      <td>155</td>\n",
              "    </tr>\n",
              "    <tr>\n",
              "      <th>147452</th>\n",
              "      <td>7</td>\n",
              "      <td>7</td>\n",
              "      <td>81</td>\n",
              "      <td>155</td>\n",
              "    </tr>\n",
              "    <tr>\n",
              "      <th>147453</th>\n",
              "      <td>7</td>\n",
              "      <td>7</td>\n",
              "      <td>81</td>\n",
              "      <td>155</td>\n",
              "    </tr>\n",
              "    <tr>\n",
              "      <th>147454</th>\n",
              "      <td>7</td>\n",
              "      <td>7</td>\n",
              "      <td>81</td>\n",
              "      <td>155</td>\n",
              "    </tr>\n",
              "    <tr>\n",
              "      <th>147455</th>\n",
              "      <td>7</td>\n",
              "      <td>7</td>\n",
              "      <td>81</td>\n",
              "      <td>155</td>\n",
              "    </tr>\n",
              "  </tbody>\n",
              "</table>\n",
              "<p>36864000 rows × 4 columns</p>\n",
              "</div>\n",
              "    <div class=\"colab-df-buttons\">\n",
              "\n",
              "  <div class=\"colab-df-container\">\n",
              "    <button class=\"colab-df-convert\" onclick=\"convertToInteractive('df-8c7d916d-d2ff-4a76-a98f-c5ad0222b433')\"\n",
              "            title=\"Convert this dataframe to an interactive table.\"\n",
              "            style=\"display:none;\">\n",
              "\n",
              "  <svg xmlns=\"http://www.w3.org/2000/svg\" height=\"24px\" viewBox=\"0 -960 960 960\">\n",
              "    <path d=\"M120-120v-720h720v720H120Zm60-500h600v-160H180v160Zm220 220h160v-160H400v160Zm0 220h160v-160H400v160ZM180-400h160v-160H180v160Zm440 0h160v-160H620v160ZM180-180h160v-160H180v160Zm440 0h160v-160H620v160Z\"/>\n",
              "  </svg>\n",
              "    </button>\n",
              "\n",
              "  <style>\n",
              "    .colab-df-container {\n",
              "      display:flex;\n",
              "      gap: 12px;\n",
              "    }\n",
              "\n",
              "    .colab-df-convert {\n",
              "      background-color: #E8F0FE;\n",
              "      border: none;\n",
              "      border-radius: 50%;\n",
              "      cursor: pointer;\n",
              "      display: none;\n",
              "      fill: #1967D2;\n",
              "      height: 32px;\n",
              "      padding: 0 0 0 0;\n",
              "      width: 32px;\n",
              "    }\n",
              "\n",
              "    .colab-df-convert:hover {\n",
              "      background-color: #E2EBFA;\n",
              "      box-shadow: 0px 1px 2px rgba(60, 64, 67, 0.3), 0px 1px 3px 1px rgba(60, 64, 67, 0.15);\n",
              "      fill: #174EA6;\n",
              "    }\n",
              "\n",
              "    .colab-df-buttons div {\n",
              "      margin-bottom: 4px;\n",
              "    }\n",
              "\n",
              "    [theme=dark] .colab-df-convert {\n",
              "      background-color: #3B4455;\n",
              "      fill: #D2E3FC;\n",
              "    }\n",
              "\n",
              "    [theme=dark] .colab-df-convert:hover {\n",
              "      background-color: #434B5C;\n",
              "      box-shadow: 0px 1px 3px 1px rgba(0, 0, 0, 0.15);\n",
              "      filter: drop-shadow(0px 1px 2px rgba(0, 0, 0, 0.3));\n",
              "      fill: #FFFFFF;\n",
              "    }\n",
              "  </style>\n",
              "\n",
              "    <script>\n",
              "      const buttonEl =\n",
              "        document.querySelector('#df-8c7d916d-d2ff-4a76-a98f-c5ad0222b433 button.colab-df-convert');\n",
              "      buttonEl.style.display =\n",
              "        google.colab.kernel.accessAllowed ? 'block' : 'none';\n",
              "\n",
              "      async function convertToInteractive(key) {\n",
              "        const element = document.querySelector('#df-8c7d916d-d2ff-4a76-a98f-c5ad0222b433');\n",
              "        const dataTable =\n",
              "          await google.colab.kernel.invokeFunction('convertToInteractive',\n",
              "                                                    [key], {});\n",
              "        if (!dataTable) return;\n",
              "\n",
              "        const docLinkHtml = 'Like what you see? Visit the ' +\n",
              "          '<a target=\"_blank\" href=https://colab.research.google.com/notebooks/data_table.ipynb>data table notebook</a>'\n",
              "          + ' to learn more about interactive tables.';\n",
              "        element.innerHTML = '';\n",
              "        dataTable['output_type'] = 'display_data';\n",
              "        await google.colab.output.renderOutput(dataTable, element);\n",
              "        const docLink = document.createElement('div');\n",
              "        docLink.innerHTML = docLinkHtml;\n",
              "        element.appendChild(docLink);\n",
              "      }\n",
              "    </script>\n",
              "  </div>\n",
              "\n",
              "\n",
              "<div id=\"df-8a73aae8-444b-41f2-897e-b361943d9d75\">\n",
              "  <button class=\"colab-df-quickchart\" onclick=\"quickchart('df-8a73aae8-444b-41f2-897e-b361943d9d75')\"\n",
              "            title=\"Suggest charts\"\n",
              "            style=\"display:none;\">\n",
              "\n",
              "<svg xmlns=\"http://www.w3.org/2000/svg\" height=\"24px\"viewBox=\"0 0 24 24\"\n",
              "     width=\"24px\">\n",
              "    <g>\n",
              "        <path d=\"M19 3H5c-1.1 0-2 .9-2 2v14c0 1.1.9 2 2 2h14c1.1 0 2-.9 2-2V5c0-1.1-.9-2-2-2zM9 17H7v-7h2v7zm4 0h-2V7h2v10zm4 0h-2v-4h2v4z\"/>\n",
              "    </g>\n",
              "</svg>\n",
              "  </button>\n",
              "\n",
              "<style>\n",
              "  .colab-df-quickchart {\n",
              "      --bg-color: #E8F0FE;\n",
              "      --fill-color: #1967D2;\n",
              "      --hover-bg-color: #E2EBFA;\n",
              "      --hover-fill-color: #174EA6;\n",
              "      --disabled-fill-color: #AAA;\n",
              "      --disabled-bg-color: #DDD;\n",
              "  }\n",
              "\n",
              "  [theme=dark] .colab-df-quickchart {\n",
              "      --bg-color: #3B4455;\n",
              "      --fill-color: #D2E3FC;\n",
              "      --hover-bg-color: #434B5C;\n",
              "      --hover-fill-color: #FFFFFF;\n",
              "      --disabled-bg-color: #3B4455;\n",
              "      --disabled-fill-color: #666;\n",
              "  }\n",
              "\n",
              "  .colab-df-quickchart {\n",
              "    background-color: var(--bg-color);\n",
              "    border: none;\n",
              "    border-radius: 50%;\n",
              "    cursor: pointer;\n",
              "    display: none;\n",
              "    fill: var(--fill-color);\n",
              "    height: 32px;\n",
              "    padding: 0;\n",
              "    width: 32px;\n",
              "  }\n",
              "\n",
              "  .colab-df-quickchart:hover {\n",
              "    background-color: var(--hover-bg-color);\n",
              "    box-shadow: 0 1px 2px rgba(60, 64, 67, 0.3), 0 1px 3px 1px rgba(60, 64, 67, 0.15);\n",
              "    fill: var(--button-hover-fill-color);\n",
              "  }\n",
              "\n",
              "  .colab-df-quickchart-complete:disabled,\n",
              "  .colab-df-quickchart-complete:disabled:hover {\n",
              "    background-color: var(--disabled-bg-color);\n",
              "    fill: var(--disabled-fill-color);\n",
              "    box-shadow: none;\n",
              "  }\n",
              "\n",
              "  .colab-df-spinner {\n",
              "    border: 2px solid var(--fill-color);\n",
              "    border-color: transparent;\n",
              "    border-bottom-color: var(--fill-color);\n",
              "    animation:\n",
              "      spin 1s steps(1) infinite;\n",
              "  }\n",
              "\n",
              "  @keyframes spin {\n",
              "    0% {\n",
              "      border-color: transparent;\n",
              "      border-bottom-color: var(--fill-color);\n",
              "      border-left-color: var(--fill-color);\n",
              "    }\n",
              "    20% {\n",
              "      border-color: transparent;\n",
              "      border-left-color: var(--fill-color);\n",
              "      border-top-color: var(--fill-color);\n",
              "    }\n",
              "    30% {\n",
              "      border-color: transparent;\n",
              "      border-left-color: var(--fill-color);\n",
              "      border-top-color: var(--fill-color);\n",
              "      border-right-color: var(--fill-color);\n",
              "    }\n",
              "    40% {\n",
              "      border-color: transparent;\n",
              "      border-right-color: var(--fill-color);\n",
              "      border-top-color: var(--fill-color);\n",
              "    }\n",
              "    60% {\n",
              "      border-color: transparent;\n",
              "      border-right-color: var(--fill-color);\n",
              "    }\n",
              "    80% {\n",
              "      border-color: transparent;\n",
              "      border-right-color: var(--fill-color);\n",
              "      border-bottom-color: var(--fill-color);\n",
              "    }\n",
              "    90% {\n",
              "      border-color: transparent;\n",
              "      border-bottom-color: var(--fill-color);\n",
              "    }\n",
              "  }\n",
              "</style>\n",
              "\n",
              "  <script>\n",
              "    async function quickchart(key) {\n",
              "      const quickchartButtonEl =\n",
              "        document.querySelector('#' + key + ' button');\n",
              "      quickchartButtonEl.disabled = true;  // To prevent multiple clicks.\n",
              "      quickchartButtonEl.classList.add('colab-df-spinner');\n",
              "      try {\n",
              "        const charts = await google.colab.kernel.invokeFunction(\n",
              "            'suggestCharts', [key], {});\n",
              "      } catch (error) {\n",
              "        console.error('Error during call to suggestCharts:', error);\n",
              "      }\n",
              "      quickchartButtonEl.classList.remove('colab-df-spinner');\n",
              "      quickchartButtonEl.classList.add('colab-df-quickchart-complete');\n",
              "    }\n",
              "    (() => {\n",
              "      let quickchartButtonEl =\n",
              "        document.querySelector('#df-8a73aae8-444b-41f2-897e-b361943d9d75 button');\n",
              "      quickchartButtonEl.style.display =\n",
              "        google.colab.kernel.accessAllowed ? 'block' : 'none';\n",
              "    })();\n",
              "  </script>\n",
              "</div>\n",
              "\n",
              "  <div id=\"id_d2a5a60a-aac7-4d7b-b606-96dc22a25f16\">\n",
              "    <style>\n",
              "      .colab-df-generate {\n",
              "        background-color: #E8F0FE;\n",
              "        border: none;\n",
              "        border-radius: 50%;\n",
              "        cursor: pointer;\n",
              "        display: none;\n",
              "        fill: #1967D2;\n",
              "        height: 32px;\n",
              "        padding: 0 0 0 0;\n",
              "        width: 32px;\n",
              "      }\n",
              "\n",
              "      .colab-df-generate:hover {\n",
              "        background-color: #E2EBFA;\n",
              "        box-shadow: 0px 1px 2px rgba(60, 64, 67, 0.3), 0px 1px 3px 1px rgba(60, 64, 67, 0.15);\n",
              "        fill: #174EA6;\n",
              "      }\n",
              "\n",
              "      [theme=dark] .colab-df-generate {\n",
              "        background-color: #3B4455;\n",
              "        fill: #D2E3FC;\n",
              "      }\n",
              "\n",
              "      [theme=dark] .colab-df-generate:hover {\n",
              "        background-color: #434B5C;\n",
              "        box-shadow: 0px 1px 3px 1px rgba(0, 0, 0, 0.15);\n",
              "        filter: drop-shadow(0px 1px 2px rgba(0, 0, 0, 0.3));\n",
              "        fill: #FFFFFF;\n",
              "      }\n",
              "    </style>\n",
              "    <button class=\"colab-df-generate\" onclick=\"generateWithVariable('confusion_id_dt_01_ordered_sub')\"\n",
              "            title=\"Generate code using this dataframe.\"\n",
              "            style=\"display:none;\">\n",
              "\n",
              "  <svg xmlns=\"http://www.w3.org/2000/svg\" height=\"24px\"viewBox=\"0 0 24 24\"\n",
              "       width=\"24px\">\n",
              "    <path d=\"M7,19H8.4L18.45,9,17,7.55,7,17.6ZM5,21V16.75L18.45,3.32a2,2,0,0,1,2.83,0l1.4,1.43a1.91,1.91,0,0,1,.58,1.4,1.91,1.91,0,0,1-.58,1.4L9.25,21ZM18.45,9,17,7.55Zm-12,3A5.31,5.31,0,0,0,4.9,8.1,5.31,5.31,0,0,0,1,6.5,5.31,5.31,0,0,0,4.9,4.9,5.31,5.31,0,0,0,6.5,1,5.31,5.31,0,0,0,8.1,4.9,5.31,5.31,0,0,0,12,6.5,5.46,5.46,0,0,0,6.5,12Z\"/>\n",
              "  </svg>\n",
              "    </button>\n",
              "    <script>\n",
              "      (() => {\n",
              "      const buttonEl =\n",
              "        document.querySelector('#id_d2a5a60a-aac7-4d7b-b606-96dc22a25f16 button.colab-df-generate');\n",
              "      buttonEl.style.display =\n",
              "        google.colab.kernel.accessAllowed ? 'block' : 'none';\n",
              "\n",
              "      buttonEl.onclick = () => {\n",
              "        google.colab.notebook.generateWithVariable('confusion_id_dt_01_ordered_sub');\n",
              "      }\n",
              "      })();\n",
              "    </script>\n",
              "  </div>\n",
              "\n",
              "    </div>\n",
              "  </div>\n"
            ],
            "application/vnd.google.colaboratory.intrinsic+json": {
              "type": "dataframe",
              "variable_name": "confusion_id_dt_01_ordered_sub"
            }
          },
          "metadata": {},
          "execution_count": 30
        }
      ]
    },
    {
      "cell_type": "code",
      "source": [
        "# confusion_id_dt_01_ordered = process_rasters(id_dt_01_ordered)"
      ],
      "metadata": {
        "id": "4qlZ-da5s09C"
      },
      "execution_count": null,
      "outputs": []
    },
    {
      "cell_type": "code",
      "source": [
        "def calculate_metrics(df):\n",
        "    # Compute overall and by-class accuracy\n",
        "    overall_accuracy = accuracy_score(df['label'], df['prediction'])\n",
        "    balanced_acc = balanced_accuracy_score(df['label'], df['prediction'])\n",
        "    conf_matrix = confusion_matrix(df['label'], df['prediction'])\n",
        "    return overall_accuracy, balanced_acc, conf_matrix"
      ],
      "metadata": {
        "id": "eACrV6gHheyl"
      },
      "execution_count": 31,
      "outputs": []
    },
    {
      "cell_type": "code",
      "source": [
        "overall_accuracy_01, balanced_acc_01, conf_matrix_01 = calculate_metrics(conf_test_sub_01)"
      ],
      "metadata": {
        "id": "nAmJlnFE0wS3"
      },
      "execution_count": 58,
      "outputs": []
    },
    {
      "cell_type": "code",
      "source": [
        "overall_accuracy_01, balanced_acc_01, conf_matrix_01 = calculate_metrics(confusion_id_dt_01_ordered_sub)"
      ],
      "metadata": {
        "id": "nt2ZApRyg7aw"
      },
      "execution_count": 32,
      "outputs": []
    },
    {
      "cell_type": "code",
      "source": [
        "# type(overall_accuracy_01)\n",
        "# type(balanced_acc_01)\n",
        "# type(conf_matrix_01)"
      ],
      "metadata": {
        "id": "Jhc33bBjlWdm"
      },
      "execution_count": 37,
      "outputs": []
    },
    {
      "cell_type": "code",
      "source": [
        "print(\"Overall Accuracy:\", overall_accuracy_01)\n",
        "print(\"Balanced Accuracy:\", balanced_acc_01)\n",
        "print(\"Confusion Matrix:\\n\", conf_matrix_01)"
      ],
      "metadata": {
        "colab": {
          "base_uri": "https://localhost:8080/"
        },
        "id": "piUIIAEqk_4a",
        "outputId": "fe5a2269-b27b-49cf-8bbe-e0ebc624100a"
      },
      "execution_count": 59,
      "outputs": [
        {
          "output_type": "stream",
          "name": "stdout",
          "text": [
            "Overall Accuracy: 0.3596147702064043\n",
            "Balanced Accuracy: 0.17952200764100418\n",
            "Confusion Matrix:\n",
            " [[ 319280   87386     797   36314    2768   57983  415188]\n",
            " [ 385286  121166     199   47886    1291   11023  593402]\n",
            " [  11696       3       0    3633       0       0   19756]\n",
            " [  87432   12958       5    7948       9     390  153215]\n",
            " [ 164082   33644       2    3229      40   38002  250310]\n",
            " [  61238    6205    2080    6950    1151   63115  122271]\n",
            " [1224135  294623    1026   32154    1390   78177 1874682]]\n"
          ]
        }
      ]
    },
    {
      "cell_type": "code",
      "source": [
        "overall_accuracy_01"
      ],
      "metadata": {
        "colab": {
          "base_uri": "https://localhost:8080/"
        },
        "id": "EYf5Dk1SlLv6",
        "outputId": "29c0debb-43f0-46c2-d6c8-0cecfd377ee6"
      },
      "execution_count": 39,
      "outputs": [
        {
          "output_type": "execute_result",
          "data": {
            "text/plain": [
              "0.5149740397135417"
            ]
          },
          "metadata": {},
          "execution_count": 39
        }
      ]
    },
    {
      "cell_type": "code",
      "source": [
        "def calculate_class_accuracies(y_true, y_pred):\n",
        "    # Generate the confusion matrix\n",
        "    cm = confusion_matrix(y_true, y_pred)\n",
        "\n",
        "    # Per-class accuracy is the diagonal (true positives) divided by the row sum (true positives + false negatives)\n",
        "    class_accuracies = cm.diagonal() / cm.sum(axis=1)\n",
        "\n",
        "    # If any class didn't appear in y_true, it will result in nan for its accuracy.\n",
        "    # To handle this, we can use np.nan_to_num to replace nan with 0 or any other desired value.\n",
        "    class_accuracies = np.nan_to_num(class_accuracies)\n",
        "\n",
        "    return class_accuracies"
      ],
      "metadata": {
        "id": "PPQv3yevmS1o"
      },
      "execution_count": 40,
      "outputs": []
    },
    {
      "cell_type": "code",
      "source": [
        "# Calculate class accuracies\n",
        "class_accuracies_01 = calculate_class_accuracies(confusion_id_dt_01_ordered_sub['label'], confusion_id_dt_01_ordered_sub['prediction'])\n",
        "\n",
        "# Map class indices to the actual class names if necessary (e.g., 1, 2, 3, ...)\n",
        "class_indices_01 = [i+1 for i in range(len(class_accuracies_01))]  # Adjust based on your class labels\n",
        "\n",
        "# Create a dictionary for class accuracies\n",
        "class_accuracy_dict_01 = dict(zip(class_indices_01, class_accuracies_01))\n",
        "\n",
        "print(\"Class Accuracies:\", class_accuracy_dict_01)"
      ],
      "metadata": {
        "colab": {
          "base_uri": "https://localhost:8080/"
        },
        "id": "PuLdzXA2oZfa",
        "outputId": "b1daec9d-b51e-4a3b-e20f-6b8f7c95a28c"
      },
      "execution_count": 60,
      "outputs": [
        {
          "output_type": "stream",
          "name": "stdout",
          "text": [
            "Class Accuracies: {1: 0.2122892095187455, 2: 0.31379655394579725, 3: 7.65665516466913e-06, 4: 0.001686082263618317, 5: 0.0037446924206976555, 6: 0.31315992133451287, 7: 0.8772948212338061}\n"
          ]
        }
      ]
    },
    {
      "cell_type": "code",
      "source": [
        "print(\"Class Accuracies:\", class_accuracies_01)"
      ],
      "metadata": {
        "colab": {
          "base_uri": "https://localhost:8080/"
        },
        "id": "Vpc_doYSvUvM",
        "outputId": "2f902723-c347-47a0-8cdc-5fc00dee6bdc"
      },
      "execution_count": 42,
      "outputs": [
        {
          "output_type": "stream",
          "name": "stdout",
          "text": [
            "Class Accuracies: [1.27860872e-01 1.95656804e-01 0.00000000e+00 5.52609879e-03\n",
            " 1.50324400e-05 2.56151476e-01 8.49830361e-01]\n"
          ]
        }
      ]
    },
    {
      "cell_type": "code",
      "source": [
        "print(\"Class Indicies:\", class_indices_01)"
      ],
      "metadata": {
        "colab": {
          "base_uri": "https://localhost:8080/"
        },
        "id": "Up_QJnt7vTOf",
        "outputId": "9e87bf0f-726d-4d36-ac87-be6a3c496266"
      },
      "execution_count": 43,
      "outputs": [
        {
          "output_type": "stream",
          "name": "stdout",
          "text": [
            "Class Indicies: [1, 2, 3, 4, 5, 6, 7]\n"
          ]
        }
      ]
    },
    {
      "cell_type": "code",
      "source": [
        "from sklearn.metrics import confusion_matrix, ConfusionMatrixDisplay\n",
        "from sklearn.svm import SVC"
      ],
      "metadata": {
        "id": "armTwaT5opEv"
      },
      "execution_count": 44,
      "outputs": []
    },
    {
      "cell_type": "code",
      "source": [
        "conf_matrix_01"
      ],
      "metadata": {
        "colab": {
          "base_uri": "https://localhost:8080/"
        },
        "id": "-uqL76f0oZcy",
        "outputId": "c5118598-893f-4500-81cd-c2e8ee30969d"
      },
      "execution_count": 45,
      "outputs": [
        {
          "output_type": "execute_result",
          "data": {
            "text/plain": [
              "array([[  652808,   556138,      797,    36342,     2768,   307477,\n",
              "         3549282],\n",
              "       [  412587,  1242993,      199,    47948,     1291,    34720,\n",
              "         4613187],\n",
              "       [   11697,   104374,        0,     3633,        0,      233,\n",
              "           67199],\n",
              "       [   89120,   198460,        5,     7948,       25,     1560,\n",
              "         1141148],\n",
              "       [  166528,   220860,        2,     3229,       40,    39033,\n",
              "         2231220],\n",
              "       [   82240,    13987,     2080,     6950,     1151,   374287,\n",
              "          980499],\n",
              "       [ 1839149,   981065,     1026,    32166,     1390,    97232,\n",
              "        16705927]])"
            ]
          },
          "metadata": {},
          "execution_count": 45
        }
      ]
    },
    {
      "cell_type": "code",
      "source": [
        "fig, ax = plt.subplots(figsize=(10, 5))\n",
        "ConfusionMatrixDisplay.from_predictions(confusion_id_dt_01_ordered_sub['label'], confusion_id_dt_01_ordered_sub['prediction'], ax=ax)\n",
        "ax.xaxis.set_ticklabels(class_indices_01)\n",
        "ax.yaxis.set_ticklabels(class_indices_01)\n",
        "_ = ax.set_title(\"Confusion Matrix\")"
      ],
      "metadata": {
        "colab": {
          "base_uri": "https://localhost:8080/",
          "height": 487
        },
        "id": "9Ypwk1WzqQYz",
        "outputId": "7ada0701-42d1-4f60-8771-ee58ad0c7f50"
      },
      "execution_count": 61,
      "outputs": [
        {
          "output_type": "display_data",
          "data": {
            "text/plain": [
              "<Figure size 1000x500 with 2 Axes>"
            ],
            "image/png": "[encoded data removed]"
          },
          "metadata": {}
        }
      ]
    },
    {
      "cell_type": "code",
      "source": [
        "# Class Accuracies dictionary from your output\n",
        "# class_accuracy_dict = {1: 0.46514195686494525, 2: 0.14854260234621242, 3: 0.0, 4: 0.04551128620346087, 5: 0.00012262190149782653, 6: 0.28789209535759097, 7: 0.34833182029366944}\n",
        "\n",
        "# Lists for plotting\n",
        "classes = list(class_accuracy_dict_01.keys())\n",
        "accuracies = list(class_accuracy_dict_01.values())\n",
        "\n",
        "# Create bar plot\n",
        "plt.figure(figsize=(10, 6))\n",
        "plt.bar(classes, accuracies, color='skyblue')\n",
        "\n",
        "# Adding the aesthetics\n",
        "plt.title('Class Accuracy')\n",
        "plt.xlabel('Class')\n",
        "plt.ylabel('Accuracy')\n",
        "plt.xticks(classes)  # Set x-ticks to be the classes\n",
        "plt.ylim(0, 1)  # Assuming accuracy ranges from 0 to 1\n",
        "\n",
        "# Annotate the bars with the accuracy value\n",
        "# for i in range(len(classes)):\n",
        "#     plt.text(i, accuracies[i], round(accuracies[i], 1), ha = 'center', va = 'bottom')\n",
        "\n",
        "# Show the plot\n",
        "plt.show()\n"
      ],
      "metadata": {
        "colab": {
          "base_uri": "https://localhost:8080/",
          "height": 564
        },
        "id": "9qDOVkO_nPTL",
        "outputId": "a8b9c25f-e6dc-4812-beee-071d96a2be43"
      },
      "execution_count": 62,
      "outputs": [
        {
          "output_type": "display_data",
          "data": {
            "text/plain": [
              "<Figure size 1000x600 with 1 Axes>"
            ],
            "image/png": "[encoded data removed]"
          },
          "metadata": {}
        }
      ]
    },
    {
      "cell_type": "code",
      "source": [],
      "metadata": {
        "id": "eeLpvLPNqQWq"
      },
      "execution_count": null,
      "outputs": []
    },
    {
      "cell_type": "code",
      "source": [],
      "metadata": {
        "id": "wMnSDAs5qQUH"
      },
      "execution_count": null,
      "outputs": []
    },
    {
      "cell_type": "code",
      "source": [],
      "metadata": {
        "id": "88AGcroWqPpd"
      },
      "execution_count": null,
      "outputs": []
    },
    {
      "cell_type": "code",
      "source": [],
      "metadata": {
        "id": "p3Vo0oBIoZYG"
      },
      "execution_count": null,
      "outputs": []
    },
    {
      "cell_type": "code",
      "source": [],
      "metadata": {
        "id": "gBdHPsULoZV0"
      },
      "execution_count": null,
      "outputs": []
    },
    {
      "cell_type": "code",
      "source": [],
      "metadata": {
        "id": "k3zZRRtKoZTr"
      },
      "execution_count": null,
      "outputs": []
    },
    {
      "cell_type": "code",
      "source": [],
      "metadata": {
        "id": "165WrDLQoZO-"
      },
      "execution_count": null,
      "outputs": []
    },
    {
      "cell_type": "code",
      "source": [],
      "metadata": {
        "id": "FVpB-htIoZNC"
      },
      "execution_count": null,
      "outputs": []
    }
  ]
}