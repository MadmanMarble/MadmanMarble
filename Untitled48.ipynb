{
  "nbformat": 4,
  "nbformat_minor": 0,
  "metadata": {
    "colab": {
      "provenance": [],
      "machine_shape": "hm",
      "authorship_tag": "ABX9TyNLWKzFVlUgGJs6I8lR6no0",
      "include_colab_link": true
    },
    "kernelspec": {
      "name": "python3",
      "display_name": "Python 3"
    },
    "language_info": {
      "name": "python"
    }
  },
  "cells": [
    {
      "cell_type": "markdown",
      "metadata": {
        "id": "view-in-github",
        "colab_type": "text"
      },
      "source": [
        "<a href=\"https://colab.research.google.com/github/MadmanMarble/MadmanMarble/blob/main/Untitled48.ipynb\" target=\"_parent\"><img src=\"https://colab.research.google.com/assets/colab-badge.svg\" alt=\"Open In Colab\"/></a>"
      ]
    },
    {
      "cell_type": "code",
      "execution_count": 63,
      "metadata": {
        "colab": {
          "base_uri": "https://localhost:8080/"
        },
        "id": "wq1n6ccqSC76",
        "outputId": "66675456-936f-4024-fc27-f9f4484ab688"
      },
      "outputs": [
        {
          "output_type": "stream",
          "name": "stdout",
          "text": [
            "Drive already mounted at /content/drive; to attempt to forcibly remount, call drive.mount(\"/content/drive\", force_remount=True).\n"
          ]
        }
      ],
      "source": [
        "from google.colab import drive\n",
        "drive.mount('/content/drive')"
      ]
    },
    {
      "cell_type": "code",
      "source": [
        "import os\n",
        "import glob\n",
        "import cv2\n",
        "import numpy as np\n",
        "from matplotlib import pyplot as plt\n",
        "import tensorflow as tf\n"
      ],
      "metadata": {
        "id": "bujm-onGSQga"
      },
      "execution_count": 64,
      "outputs": []
    },
    {
      "cell_type": "code",
      "source": [
        "pip install rasterio"
      ],
      "metadata": {
        "colab": {
          "base_uri": "https://localhost:8080/"
        },
        "id": "-gx9Z613SYHX",
        "outputId": "32d9c88d-a7a6-4c19-edc4-c22310c471b7"
      },
      "execution_count": 65,
      "outputs": [
        {
          "output_type": "stream",
          "name": "stdout",
          "text": [
            "Requirement already satisfied: rasterio in /usr/local/lib/python3.10/dist-packages (1.3.10)\n",
            "Requirement already satisfied: affine in /usr/local/lib/python3.10/dist-packages (from rasterio) (2.4.0)\n",
            "Requirement already satisfied: attrs in /usr/local/lib/python3.10/dist-packages (from rasterio) (23.2.0)\n",
            "Requirement already satisfied: certifi in /usr/local/lib/python3.10/dist-packages (from rasterio) (2024.2.2)\n",
            "Requirement already satisfied: click>=4.0 in /usr/local/lib/python3.10/dist-packages (from rasterio) (8.1.7)\n",
            "Requirement already satisfied: cligj>=0.5 in /usr/local/lib/python3.10/dist-packages (from rasterio) (0.7.2)\n",
            "Requirement already satisfied: numpy in /usr/local/lib/python3.10/dist-packages (from rasterio) (1.25.2)\n",
            "Requirement already satisfied: snuggs>=1.4.1 in /usr/local/lib/python3.10/dist-packages (from rasterio) (1.4.7)\n",
            "Requirement already satisfied: click-plugins in /usr/local/lib/python3.10/dist-packages (from rasterio) (1.1.1)\n",
            "Requirement already satisfied: setuptools in /usr/local/lib/python3.10/dist-packages (from rasterio) (67.7.2)\n",
            "Requirement already satisfied: pyparsing>=2.1.6 in /usr/local/lib/python3.10/dist-packages (from snuggs>=1.4.1->rasterio) (3.1.2)\n"
          ]
        }
      ]
    },
    {
      "cell_type": "code",
      "source": [
        "import rasterio\n",
        "from sklearn.model_selection import train_test_split\n",
        "import shutil"
      ],
      "metadata": {
        "id": "awIMyHcBScDI"
      },
      "execution_count": 66,
      "outputs": []
    },
    {
      "cell_type": "code",
      "source": [
        "# experiment one\n",
        "files_01 = os.listdir('/content/drive/MyDrive/data/model_prediction/oneyear_data/20240418_1448')\n",
        "tif_files_01 = [f for f in files_01 if f.endswith('.tif')]\n",
        "print(f\"There are {len(tif_files_01)} .tif files in the directory.\")"
      ],
      "metadata": {
        "colab": {
          "base_uri": "https://localhost:8080/"
        },
        "id": "2Vu1kTjvSiUQ",
        "outputId": "95ed1244-dd93-41e9-9c24-1ae0686a6621"
      },
      "execution_count": 67,
      "outputs": [
        {
          "output_type": "stream",
          "name": "stdout",
          "text": [
            "There are 1500 .tif files in the directory.\n"
          ]
        }
      ]
    },
    {
      "cell_type": "code",
      "source": [
        "# experiment two\n",
        "files_02 = os.listdir('/content/drive/MyDrive/data/model_prediction/twoyear_data/20240418_1448')\n",
        "tif_files_02 = [f for f in files_02 if f.endswith('.tif')]\n",
        "print(f\"There are {len(tif_files_02)} .tif files in the directory.\")"
      ],
      "metadata": {
        "colab": {
          "base_uri": "https://localhost:8080/"
        },
        "id": "e1oBZ7SeSvE8",
        "outputId": "ad2cbb33-7411-4ac6-dc68-0e712f36b2c7"
      },
      "execution_count": 68,
      "outputs": [
        {
          "output_type": "stream",
          "name": "stdout",
          "text": [
            "There are 1500 .tif files in the directory.\n"
          ]
        }
      ]
    },
    {
      "cell_type": "code",
      "source": [
        "# experiment three\n",
        "files_03 = os.listdir('/content/drive/MyDrive/data/model_prediction/threeyear_data/20240418_1448')\n",
        "tif_files_03 = [f for f in files_03 if f.endswith('.tif')]\n",
        "print(f\"There are {len(tif_files_03)} .tif files in the directory.\")"
      ],
      "metadata": {
        "colab": {
          "base_uri": "https://localhost:8080/"
        },
        "id": "R6FF5BSLTCXC",
        "outputId": "d6046627-0deb-46f8-f2da-c8f2139b5d38"
      },
      "execution_count": 69,
      "outputs": [
        {
          "output_type": "stream",
          "name": "stdout",
          "text": [
            "There are 1500 .tif files in the directory.\n"
          ]
        }
      ]
    },
    {
      "cell_type": "code",
      "source": [
        "files_labels = os.listdir('/content/drive/MyDrive/data/labels/y_test')\n",
        "tif_files_labels = [f for f in files_labels if f.endswith('.tif')]\n",
        "print(f\"There are {len(tif_files_labels)} .tif files in the directory.\")"
      ],
      "metadata": {
        "colab": {
          "base_uri": "https://localhost:8080/"
        },
        "id": "AWAzN6w6YOpL",
        "outputId": "e2e92535-1818-4806-abd2-ec1665447423"
      },
      "execution_count": 70,
      "outputs": [
        {
          "output_type": "stream",
          "name": "stdout",
          "text": [
            "There are 15 .tif files in the directory.\n"
          ]
        }
      ]
    },
    {
      "cell_type": "code",
      "source": [
        "files_01[0]"
      ],
      "metadata": {
        "colab": {
          "base_uri": "https://localhost:8080/",
          "height": 35
        },
        "id": "CfY7Dq1KZSI4",
        "outputId": "af55acd1-6c12-4da6-dbb4-23a43c774a8e"
      },
      "execution_count": 10,
      "outputs": [
        {
          "output_type": "execute_result",
          "data": {
            "text/plain": [
              "'epoch_166_1516_1year.tif'"
            ],
            "application/vnd.google.colaboratory.intrinsic+json": {
              "type": "string"
            }
          },
          "metadata": {},
          "execution_count": 10
        }
      ]
    },
    {
      "cell_type": "code",
      "source": [
        "files_labels[0]"
      ],
      "metadata": {
        "colab": {
          "base_uri": "https://localhost:8080/",
          "height": 35
        },
        "id": "LJZ1tyK5ZUvY",
        "outputId": "22c419fa-8bee-4ffb-8490-0e3d459d382d"
      },
      "execution_count": 11,
      "outputs": [
        {
          "output_type": "execute_result",
          "data": {
            "text/plain": [
              "'823_multi_wl.tif'"
            ],
            "application/vnd.google.colaboratory.intrinsic+json": {
              "type": "string"
            }
          },
          "metadata": {},
          "execution_count": 11
        }
      ]
    },
    {
      "cell_type": "code",
      "source": [
        "import os\n",
        "import pandas as pd\n",
        "import numpy as np\n",
        "import rasterio\n",
        "from rasterio.plot import show\n",
        "import matplotlib.pyplot as plt\n",
        "from sklearn.metrics import confusion_matrix, accuracy_score, balanced_accuracy_score\n"
      ],
      "metadata": {
        "id": "Y6LdlHxUTUEr"
      },
      "execution_count": 71,
      "outputs": []
    },
    {
      "cell_type": "code",
      "source": [
        "# predict_path and epoch and tile_id match, but label_path does not\n",
        "\n",
        "def list_files(directory, pattern=\".tif\"):\n",
        "    # List all files with the specified pattern, fully sorted\n",
        "    return sorted([os.path.join(root, f)\n",
        "                   for root, dirs, files in os.walk(directory)\n",
        "                   for f in files if f.endswith(pattern)])\n",
        "\n",
        "# def create_df(file_list, label_list):\n",
        "#     # Assuming each label file corresponds to 100 prediction files in sequence\n",
        "#     repeat_factor = len(file_list) // len(label_list)\n",
        "\n",
        "#     # Repeat each label to match the number of prediction files it corresponds to\n",
        "#     label_paths = np.repeat(label_list, repeat_factor)\n",
        "\n",
        "#     # Extracting epoch and tile_id from filenames\n",
        "#     epochs = [os.path.basename(path).split('_')[1] for path in file_list]\n",
        "#     tile_ids = [os.path.basename(path).split('_')[2] for path in file_list]\n",
        "\n",
        "#     # Creating DataFrame\n",
        "#     df = pd.DataFrame({\n",
        "#         'predict_path': file_list,\n",
        "#         'label_path': label_paths,\n",
        "#         'epoch': epochs,\n",
        "#         'tile_id': tile_ids\n",
        "#     })\n",
        "#     return df"
      ],
      "metadata": {
        "id": "xNYByJfvZuD7"
      },
      "execution_count": 72,
      "outputs": []
    },
    {
      "cell_type": "code",
      "source": [
        "def extract_id(filename):\n",
        "    # This function extracts the unique ID from the filename\n",
        "    # It assumes the ID is the part before the first underscore for label files\n",
        "    # And it's the part between the second and third underscore for predict files\n",
        "    parts = os.path.basename(filename).split('_')\n",
        "    return parts[-3] if 'epoch' in parts else parts[0]"
      ],
      "metadata": {
        "id": "Wvi61FApcwAh"
      },
      "execution_count": 73,
      "outputs": []
    },
    {
      "cell_type": "code",
      "source": [
        "def extract_id(filename):\n",
        "    # This function extracts the numeric id from the filename\n",
        "    # It splits the filename by '_' and takes the fourth element for file_list_01\n",
        "    # And splits by '/' and takes the last element before the file extension for file_list_labels\n",
        "    if \"epoch\" in filename:\n",
        "        return filename.split('_')[5]  # Extracts '1472' from file_list_01\n",
        "    else:\n",
        "        return os.path.basename(filename).split('_')[0]  # Extracts '1472' from file_list_labels\n",
        "\n",
        "def create_df(file_list, label_list):\n",
        "    # Create a dictionary to map unique IDs to label paths\n",
        "    label_dict = {extract_id(label): label for label in label_list}\n",
        "\n",
        "    # Extracting the unique ID and 'epoch' from the predict file name\n",
        "    unique_ids = [extract_id(f) for f in file_list]\n",
        "    epochs = [os.path.basename(f).split('_')[1] for f in file_list]\n",
        "\n",
        "    # Match the predict file with the label using the unique ID\n",
        "    matched_labels = [label_dict.get(uid) for uid in unique_ids]\n",
        "\n",
        "    # Creating the DataFrame\n",
        "    df = pd.DataFrame({\n",
        "        'predict_path': file_list,\n",
        "        'label_path': matched_labels,\n",
        "        'epoch': epochs,\n",
        "        'unique_id': unique_ids  # Added unique_id for verification\n",
        "    })\n",
        "    return df"
      ],
      "metadata": {
        "id": "U9wtHi85dAPq"
      },
      "execution_count": 74,
      "outputs": []
    },
    {
      "cell_type": "code",
      "source": [],
      "metadata": {
        "id": "aJuGtNUKdAM5"
      },
      "execution_count": null,
      "outputs": []
    },
    {
      "cell_type": "code",
      "source": [],
      "metadata": {
        "id": "OcTKL4ridAKu"
      },
      "execution_count": null,
      "outputs": []
    },
    {
      "cell_type": "code",
      "source": [
        "# Example directories (replace with actual paths)\n",
        "file_list_01 = list_files(\"/content/drive/MyDrive/data/model_prediction/oneyear_data/20240418_1448\", \".tif\")\n",
        "file_list_02 = list_files(\"/content/drive/MyDrive/data/model_prediction/twoyear_data/20240418_1448\", \".tif\")\n",
        "file_list_03 = list_files(\"/content/drive/MyDrive/data/model_prediction/threeyear_data/20240418_1448\", \".tif\")\n",
        "file_list_labels = list_files(\"/content/drive/MyDrive/data/labels/y_test\", \".tif\")"
      ],
      "metadata": {
        "id": "LAvcT0jiZuBh"
      },
      "execution_count": 75,
      "outputs": []
    },
    {
      "cell_type": "code",
      "source": [
        "file_list_01[0]"
      ],
      "metadata": {
        "colab": {
          "base_uri": "https://localhost:8080/",
          "height": 35
        },
        "id": "sOS1V2D0ap6W",
        "outputId": "19a2f0c7-b837-499f-b89d-a2a622913e1a"
      },
      "execution_count": 17,
      "outputs": [
        {
          "output_type": "execute_result",
          "data": {
            "text/plain": [
              "'/content/drive/MyDrive/data/model_prediction/oneyear_data/20240418_1448/epoch_101_1472_1year.tif'"
            ],
            "application/vnd.google.colaboratory.intrinsic+json": {
              "type": "string"
            }
          },
          "metadata": {},
          "execution_count": 17
        }
      ]
    },
    {
      "cell_type": "code",
      "source": [
        "file_list_labels[0]"
      ],
      "metadata": {
        "colab": {
          "base_uri": "https://localhost:8080/",
          "height": 35
        },
        "id": "FsdEsWNWcSpT",
        "outputId": "3c62222a-cd61-4dd6-a797-3920dfb7ffc7"
      },
      "execution_count": 18,
      "outputs": [
        {
          "output_type": "execute_result",
          "data": {
            "text/plain": [
              "'/content/drive/MyDrive/data/labels/y_test/1472_multi_wl.tif'"
            ],
            "application/vnd.google.colaboratory.intrinsic+json": {
              "type": "string"
            }
          },
          "metadata": {},
          "execution_count": 18
        }
      ]
    },
    {
      "cell_type": "code",
      "source": [
        "id_dt_01 = create_df(file_list_01, file_list_labels)\n",
        "id_dt_02 = create_df(file_list_02, file_list_labels)\n",
        "id_dt_03 = create_df(file_list_03, file_list_labels)"
      ],
      "metadata": {
        "id": "L0_5BG6Fc527"
      },
      "execution_count": 76,
      "outputs": []
    },
    {
      "cell_type": "code",
      "source": [
        "id_dt_03"
      ],
      "metadata": {
        "colab": {
          "base_uri": "https://localhost:8080/",
          "height": 424
        },
        "id": "mxonNw6Zc50b",
        "outputId": "deb73a3c-cf9d-455c-ee36-377eb8fe215f"
      },
      "execution_count": 77,
      "outputs": [
        {
          "output_type": "execute_result",
          "data": {
            "text/plain": [
              "                                           predict_path  \\\n",
              "0     /content/drive/MyDrive/data/model_prediction/t...   \n",
              "1     /content/drive/MyDrive/data/model_prediction/t...   \n",
              "2     /content/drive/MyDrive/data/model_prediction/t...   \n",
              "3     /content/drive/MyDrive/data/model_prediction/t...   \n",
              "4     /content/drive/MyDrive/data/model_prediction/t...   \n",
              "...                                                 ...   \n",
              "1495  /content/drive/MyDrive/data/model_prediction/t...   \n",
              "1496  /content/drive/MyDrive/data/model_prediction/t...   \n",
              "1497  /content/drive/MyDrive/data/model_prediction/t...   \n",
              "1498  /content/drive/MyDrive/data/model_prediction/t...   \n",
              "1499  /content/drive/MyDrive/data/model_prediction/t...   \n",
              "\n",
              "                                             label_path epoch unique_id  \n",
              "0     /content/drive/MyDrive/data/labels/y_test/1472...   101      1472  \n",
              "1     /content/drive/MyDrive/data/labels/y_test/1482...   101      1482  \n",
              "2     /content/drive/MyDrive/data/labels/y_test/1516...   101      1516  \n",
              "3     /content/drive/MyDrive/data/labels/y_test/1530...   101      1530  \n",
              "4     /content/drive/MyDrive/data/labels/y_test/1549...   101      1549  \n",
              "...                                                 ...   ...       ...  \n",
              "1495  /content/drive/MyDrive/data/labels/y_test/283_...    96       283  \n",
              "1496  /content/drive/MyDrive/data/labels/y_test/776_...    96       776  \n",
              "1497  /content/drive/MyDrive/data/labels/y_test/808_...    96       808  \n",
              "1498  /content/drive/MyDrive/data/labels/y_test/812_...    96       812  \n",
              "1499  /content/drive/MyDrive/data/labels/y_test/823_...    96       823  \n",
              "\n",
              "[1500 rows x 4 columns]"
            ],
            "text/html": [
              "\n",
              "  <div id=\"df-d87ecad7-3dba-481c-a4d3-cec2a55ad42a\" class=\"colab-df-container\">\n",
              "    <div>\n",
              "<style scoped>\n",
              "    .dataframe tbody tr th:only-of-type {\n",
              "        vertical-align: middle;\n",
              "    }\n",
              "\n",
              "    .dataframe tbody tr th {\n",
              "        vertical-align: top;\n",
              "    }\n",
              "\n",
              "    .dataframe thead th {\n",
              "        text-align: right;\n",
              "    }\n",
              "</style>\n",
              "<table border=\"1\" class=\"dataframe\">\n",
              "  <thead>\n",
              "    <tr style=\"text-align: right;\">\n",
              "      <th></th>\n",
              "      <th>predict_path</th>\n",
              "      <th>label_path</th>\n",
              "      <th>epoch</th>\n",
              "      <th>unique_id</th>\n",
              "    </tr>\n",
              "  </thead>\n",
              "  <tbody>\n",
              "    <tr>\n",
              "      <th>0</th>\n",
              "      <td>/content/drive/MyDrive/data/model_prediction/t...</td>\n",
              "      <td>/content/drive/MyDrive/data/labels/y_test/1472...</td>\n",
              "      <td>101</td>\n",
              "      <td>1472</td>\n",
              "    </tr>\n",
              "    <tr>\n",
              "      <th>1</th>\n",
              "      <td>/content/drive/MyDrive/data/model_prediction/t...</td>\n",
              "      <td>/content/drive/MyDrive/data/labels/y_test/1482...</td>\n",
              "      <td>101</td>\n",
              "      <td>1482</td>\n",
              "    </tr>\n",
              "    <tr>\n",
              "      <th>2</th>\n",
              "      <td>/content/drive/MyDrive/data/model_prediction/t...</td>\n",
              "      <td>/content/drive/MyDrive/data/labels/y_test/1516...</td>\n",
              "      <td>101</td>\n",
              "      <td>1516</td>\n",
              "    </tr>\n",
              "    <tr>\n",
              "      <th>3</th>\n",
              "      <td>/content/drive/MyDrive/data/model_prediction/t...</td>\n",
              "      <td>/content/drive/MyDrive/data/labels/y_test/1530...</td>\n",
              "      <td>101</td>\n",
              "      <td>1530</td>\n",
              "    </tr>\n",
              "    <tr>\n",
              "      <th>4</th>\n",
              "      <td>/content/drive/MyDrive/data/model_prediction/t...</td>\n",
              "      <td>/content/drive/MyDrive/data/labels/y_test/1549...</td>\n",
              "      <td>101</td>\n",
              "      <td>1549</td>\n",
              "    </tr>\n",
              "    <tr>\n",
              "      <th>...</th>\n",
              "      <td>...</td>\n",
              "      <td>...</td>\n",
              "      <td>...</td>\n",
              "      <td>...</td>\n",
              "    </tr>\n",
              "    <tr>\n",
              "      <th>1495</th>\n",
              "      <td>/content/drive/MyDrive/data/model_prediction/t...</td>\n",
              "      <td>/content/drive/MyDrive/data/labels/y_test/283_...</td>\n",
              "      <td>96</td>\n",
              "      <td>283</td>\n",
              "    </tr>\n",
              "    <tr>\n",
              "      <th>1496</th>\n",
              "      <td>/content/drive/MyDrive/data/model_prediction/t...</td>\n",
              "      <td>/content/drive/MyDrive/data/labels/y_test/776_...</td>\n",
              "      <td>96</td>\n",
              "      <td>776</td>\n",
              "    </tr>\n",
              "    <tr>\n",
              "      <th>1497</th>\n",
              "      <td>/content/drive/MyDrive/data/model_prediction/t...</td>\n",
              "      <td>/content/drive/MyDrive/data/labels/y_test/808_...</td>\n",
              "      <td>96</td>\n",
              "      <td>808</td>\n",
              "    </tr>\n",
              "    <tr>\n",
              "      <th>1498</th>\n",
              "      <td>/content/drive/MyDrive/data/model_prediction/t...</td>\n",
              "      <td>/content/drive/MyDrive/data/labels/y_test/812_...</td>\n",
              "      <td>96</td>\n",
              "      <td>812</td>\n",
              "    </tr>\n",
              "    <tr>\n",
              "      <th>1499</th>\n",
              "      <td>/content/drive/MyDrive/data/model_prediction/t...</td>\n",
              "      <td>/content/drive/MyDrive/data/labels/y_test/823_...</td>\n",
              "      <td>96</td>\n",
              "      <td>823</td>\n",
              "    </tr>\n",
              "  </tbody>\n",
              "</table>\n",
              "<p>1500 rows × 4 columns</p>\n",
              "</div>\n",
              "    <div class=\"colab-df-buttons\">\n",
              "\n",
              "  <div class=\"colab-df-container\">\n",
              "    <button class=\"colab-df-convert\" onclick=\"convertToInteractive('df-d87ecad7-3dba-481c-a4d3-cec2a55ad42a')\"\n",
              "            title=\"Convert this dataframe to an interactive table.\"\n",
              "            style=\"display:none;\">\n",
              "\n",
              "  <svg xmlns=\"http://www.w3.org/2000/svg\" height=\"24px\" viewBox=\"0 -960 960 960\">\n",
              "    <path d=\"M120-120v-720h720v720H120Zm60-500h600v-160H180v160Zm220 220h160v-160H400v160Zm0 220h160v-160H400v160ZM180-400h160v-160H180v160Zm440 0h160v-160H620v160ZM180-180h160v-160H180v160Zm440 0h160v-160H620v160Z\"/>\n",
              "  </svg>\n",
              "    </button>\n",
              "\n",
              "  <style>\n",
              "    .colab-df-container {\n",
              "      display:flex;\n",
              "      gap: 12px;\n",
              "    }\n",
              "\n",
              "    .colab-df-convert {\n",
              "      background-color: #E8F0FE;\n",
              "      border: none;\n",
              "      border-radius: 50%;\n",
              "      cursor: pointer;\n",
              "      display: none;\n",
              "      fill: #1967D2;\n",
              "      height: 32px;\n",
              "      padding: 0 0 0 0;\n",
              "      width: 32px;\n",
              "    }\n",
              "\n",
              "    .colab-df-convert:hover {\n",
              "      background-color: #E2EBFA;\n",
              "      box-shadow: 0px 1px 2px rgba(60, 64, 67, 0.3), 0px 1px 3px 1px rgba(60, 64, 67, 0.15);\n",
              "      fill: #174EA6;\n",
              "    }\n",
              "\n",
              "    .colab-df-buttons div {\n",
              "      margin-bottom: 4px;\n",
              "    }\n",
              "\n",
              "    [theme=dark] .colab-df-convert {\n",
              "      background-color: #3B4455;\n",
              "      fill: #D2E3FC;\n",
              "    }\n",
              "\n",
              "    [theme=dark] .colab-df-convert:hover {\n",
              "      background-color: #434B5C;\n",
              "      box-shadow: 0px 1px 3px 1px rgba(0, 0, 0, 0.15);\n",
              "      filter: drop-shadow(0px 1px 2px rgba(0, 0, 0, 0.3));\n",
              "      fill: #FFFFFF;\n",
              "    }\n",
              "  </style>\n",
              "\n",
              "    <script>\n",
              "      const buttonEl =\n",
              "        document.querySelector('#df-d87ecad7-3dba-481c-a4d3-cec2a55ad42a button.colab-df-convert');\n",
              "      buttonEl.style.display =\n",
              "        google.colab.kernel.accessAllowed ? 'block' : 'none';\n",
              "\n",
              "      async function convertToInteractive(key) {\n",
              "        const element = document.querySelector('#df-d87ecad7-3dba-481c-a4d3-cec2a55ad42a');\n",
              "        const dataTable =\n",
              "          await google.colab.kernel.invokeFunction('convertToInteractive',\n",
              "                                                    [key], {});\n",
              "        if (!dataTable) return;\n",
              "\n",
              "        const docLinkHtml = 'Like what you see? Visit the ' +\n",
              "          '<a target=\"_blank\" href=https://colab.research.google.com/notebooks/data_table.ipynb>data table notebook</a>'\n",
              "          + ' to learn more about interactive tables.';\n",
              "        element.innerHTML = '';\n",
              "        dataTable['output_type'] = 'display_data';\n",
              "        await google.colab.output.renderOutput(dataTable, element);\n",
              "        const docLink = document.createElement('div');\n",
              "        docLink.innerHTML = docLinkHtml;\n",
              "        element.appendChild(docLink);\n",
              "      }\n",
              "    </script>\n",
              "  </div>\n",
              "\n",
              "\n",
              "<div id=\"df-a9dab6da-bdd4-4d7f-9e53-9cfbb74aa1c6\">\n",
              "  <button class=\"colab-df-quickchart\" onclick=\"quickchart('df-a9dab6da-bdd4-4d7f-9e53-9cfbb74aa1c6')\"\n",
              "            title=\"Suggest charts\"\n",
              "            style=\"display:none;\">\n",
              "\n",
              "<svg xmlns=\"http://www.w3.org/2000/svg\" height=\"24px\"viewBox=\"0 0 24 24\"\n",
              "     width=\"24px\">\n",
              "    <g>\n",
              "        <path d=\"M19 3H5c-1.1 0-2 .9-2 2v14c0 1.1.9 2 2 2h14c1.1 0 2-.9 2-2V5c0-1.1-.9-2-2-2zM9 17H7v-7h2v7zm4 0h-2V7h2v10zm4 0h-2v-4h2v4z\"/>\n",
              "    </g>\n",
              "</svg>\n",
              "  </button>\n",
              "\n",
              "<style>\n",
              "  .colab-df-quickchart {\n",
              "      --bg-color: #E8F0FE;\n",
              "      --fill-color: #1967D2;\n",
              "      --hover-bg-color: #E2EBFA;\n",
              "      --hover-fill-color: #174EA6;\n",
              "      --disabled-fill-color: #AAA;\n",
              "      --disabled-bg-color: #DDD;\n",
              "  }\n",
              "\n",
              "  [theme=dark] .colab-df-quickchart {\n",
              "      --bg-color: #3B4455;\n",
              "      --fill-color: #D2E3FC;\n",
              "      --hover-bg-color: #434B5C;\n",
              "      --hover-fill-color: #FFFFFF;\n",
              "      --disabled-bg-color: #3B4455;\n",
              "      --disabled-fill-color: #666;\n",
              "  }\n",
              "\n",
              "  .colab-df-quickchart {\n",
              "    background-color: var(--bg-color);\n",
              "    border: none;\n",
              "    border-radius: 50%;\n",
              "    cursor: pointer;\n",
              "    display: none;\n",
              "    fill: var(--fill-color);\n",
              "    height: 32px;\n",
              "    padding: 0;\n",
              "    width: 32px;\n",
              "  }\n",
              "\n",
              "  .colab-df-quickchart:hover {\n",
              "    background-color: var(--hover-bg-color);\n",
              "    box-shadow: 0 1px 2px rgba(60, 64, 67, 0.3), 0 1px 3px 1px rgba(60, 64, 67, 0.15);\n",
              "    fill: var(--button-hover-fill-color);\n",
              "  }\n",
              "\n",
              "  .colab-df-quickchart-complete:disabled,\n",
              "  .colab-df-quickchart-complete:disabled:hover {\n",
              "    background-color: var(--disabled-bg-color);\n",
              "    fill: var(--disabled-fill-color);\n",
              "    box-shadow: none;\n",
              "  }\n",
              "\n",
              "  .colab-df-spinner {\n",
              "    border: 2px solid var(--fill-color);\n",
              "    border-color: transparent;\n",
              "    border-bottom-color: var(--fill-color);\n",
              "    animation:\n",
              "      spin 1s steps(1) infinite;\n",
              "  }\n",
              "\n",
              "  @keyframes spin {\n",
              "    0% {\n",
              "      border-color: transparent;\n",
              "      border-bottom-color: var(--fill-color);\n",
              "      border-left-color: var(--fill-color);\n",
              "    }\n",
              "    20% {\n",
              "      border-color: transparent;\n",
              "      border-left-color: var(--fill-color);\n",
              "      border-top-color: var(--fill-color);\n",
              "    }\n",
              "    30% {\n",
              "      border-color: transparent;\n",
              "      border-left-color: var(--fill-color);\n",
              "      border-top-color: var(--fill-color);\n",
              "      border-right-color: var(--fill-color);\n",
              "    }\n",
              "    40% {\n",
              "      border-color: transparent;\n",
              "      border-right-color: var(--fill-color);\n",
              "      border-top-color: var(--fill-color);\n",
              "    }\n",
              "    60% {\n",
              "      border-color: transparent;\n",
              "      border-right-color: var(--fill-color);\n",
              "    }\n",
              "    80% {\n",
              "      border-color: transparent;\n",
              "      border-right-color: var(--fill-color);\n",
              "      border-bottom-color: var(--fill-color);\n",
              "    }\n",
              "    90% {\n",
              "      border-color: transparent;\n",
              "      border-bottom-color: var(--fill-color);\n",
              "    }\n",
              "  }\n",
              "</style>\n",
              "\n",
              "  <script>\n",
              "    async function quickchart(key) {\n",
              "      const quickchartButtonEl =\n",
              "        document.querySelector('#' + key + ' button');\n",
              "      quickchartButtonEl.disabled = true;  // To prevent multiple clicks.\n",
              "      quickchartButtonEl.classList.add('colab-df-spinner');\n",
              "      try {\n",
              "        const charts = await google.colab.kernel.invokeFunction(\n",
              "            'suggestCharts', [key], {});\n",
              "      } catch (error) {\n",
              "        console.error('Error during call to suggestCharts:', error);\n",
              "      }\n",
              "      quickchartButtonEl.classList.remove('colab-df-spinner');\n",
              "      quickchartButtonEl.classList.add('colab-df-quickchart-complete');\n",
              "    }\n",
              "    (() => {\n",
              "      let quickchartButtonEl =\n",
              "        document.querySelector('#df-a9dab6da-bdd4-4d7f-9e53-9cfbb74aa1c6 button');\n",
              "      quickchartButtonEl.style.display =\n",
              "        google.colab.kernel.accessAllowed ? 'block' : 'none';\n",
              "    })();\n",
              "  </script>\n",
              "</div>\n",
              "\n",
              "  <div id=\"id_3ccaf833-3d10-473d-aa52-3e98935aa619\">\n",
              "    <style>\n",
              "      .colab-df-generate {\n",
              "        background-color: #E8F0FE;\n",
              "        border: none;\n",
              "        border-radius: 50%;\n",
              "        cursor: pointer;\n",
              "        display: none;\n",
              "        fill: #1967D2;\n",
              "        height: 32px;\n",
              "        padding: 0 0 0 0;\n",
              "        width: 32px;\n",
              "      }\n",
              "\n",
              "      .colab-df-generate:hover {\n",
              "        background-color: #E2EBFA;\n",
              "        box-shadow: 0px 1px 2px rgba(60, 64, 67, 0.3), 0px 1px 3px 1px rgba(60, 64, 67, 0.15);\n",
              "        fill: #174EA6;\n",
              "      }\n",
              "\n",
              "      [theme=dark] .colab-df-generate {\n",
              "        background-color: #3B4455;\n",
              "        fill: #D2E3FC;\n",
              "      }\n",
              "\n",
              "      [theme=dark] .colab-df-generate:hover {\n",
              "        background-color: #434B5C;\n",
              "        box-shadow: 0px 1px 3px 1px rgba(0, 0, 0, 0.15);\n",
              "        filter: drop-shadow(0px 1px 2px rgba(0, 0, 0, 0.3));\n",
              "        fill: #FFFFFF;\n",
              "      }\n",
              "    </style>\n",
              "    <button class=\"colab-df-generate\" onclick=\"generateWithVariable('id_dt_03')\"\n",
              "            title=\"Generate code using this dataframe.\"\n",
              "            style=\"display:none;\">\n",
              "\n",
              "  <svg xmlns=\"http://www.w3.org/2000/svg\" height=\"24px\"viewBox=\"0 0 24 24\"\n",
              "       width=\"24px\">\n",
              "    <path d=\"M7,19H8.4L18.45,9,17,7.55,7,17.6ZM5,21V16.75L18.45,3.32a2,2,0,0,1,2.83,0l1.4,1.43a1.91,1.91,0,0,1,.58,1.4,1.91,1.91,0,0,1-.58,1.4L9.25,21ZM18.45,9,17,7.55Zm-12,3A5.31,5.31,0,0,0,4.9,8.1,5.31,5.31,0,0,0,1,6.5,5.31,5.31,0,0,0,4.9,4.9,5.31,5.31,0,0,0,6.5,1,5.31,5.31,0,0,0,8.1,4.9,5.31,5.31,0,0,0,12,6.5,5.46,5.46,0,0,0,6.5,12Z\"/>\n",
              "  </svg>\n",
              "    </button>\n",
              "    <script>\n",
              "      (() => {\n",
              "      const buttonEl =\n",
              "        document.querySelector('#id_3ccaf833-3d10-473d-aa52-3e98935aa619 button.colab-df-generate');\n",
              "      buttonEl.style.display =\n",
              "        google.colab.kernel.accessAllowed ? 'block' : 'none';\n",
              "\n",
              "      buttonEl.onclick = () => {\n",
              "        google.colab.notebook.generateWithVariable('id_dt_03');\n",
              "      }\n",
              "      })();\n",
              "    </script>\n",
              "  </div>\n",
              "\n",
              "    </div>\n",
              "  </div>\n"
            ],
            "application/vnd.google.colaboratory.intrinsic+json": {
              "type": "dataframe",
              "variable_name": "id_dt_03",
              "summary": "{\n  \"name\": \"id_dt_03\",\n  \"rows\": 1500,\n  \"fields\": [\n    {\n      \"column\": \"predict_path\",\n      \"properties\": {\n        \"dtype\": \"string\",\n        \"num_unique_values\": 1500,\n        \"samples\": [\n          \"/content/drive/MyDrive/data/model_prediction/threeyear_data/20240418_1448/epoch_431_157_3year.tif\",\n          \"/content/drive/MyDrive/data/model_prediction/threeyear_data/20240418_1448/epoch_61_1530_3year.tif\",\n          \"/content/drive/MyDrive/data/model_prediction/threeyear_data/20240418_1448/epoch_221_1516_3year.tif\"\n        ],\n        \"semantic_type\": \"\",\n        \"description\": \"\"\n      }\n    },\n    {\n      \"column\": \"label_path\",\n      \"properties\": {\n        \"dtype\": \"category\",\n        \"num_unique_values\": 15,\n        \"samples\": [\n          \"/content/drive/MyDrive/data/labels/y_test/265_multi_wl.tif\",\n          \"/content/drive/MyDrive/data/labels/y_test/776_multi_wl.tif\",\n          \"/content/drive/MyDrive/data/labels/y_test/1472_multi_wl.tif\"\n        ],\n        \"semantic_type\": \"\",\n        \"description\": \"\"\n      }\n    },\n    {\n      \"column\": \"epoch\",\n      \"properties\": {\n        \"dtype\": \"category\",\n        \"num_unique_values\": 100,\n        \"samples\": [\n          \"471\",\n          \"336\",\n          \"416\"\n        ],\n        \"semantic_type\": \"\",\n        \"description\": \"\"\n      }\n    },\n    {\n      \"column\": \"unique_id\",\n      \"properties\": {\n        \"dtype\": \"category\",\n        \"num_unique_values\": 15,\n        \"samples\": [\n          \"265\",\n          \"776\",\n          \"1472\"\n        ],\n        \"semantic_type\": \"\",\n        \"description\": \"\"\n      }\n    }\n  ]\n}"
            }
          },
          "metadata": {},
          "execution_count": 77
        }
      ]
    },
    {
      "cell_type": "code",
      "source": [
        "id_dt_01['epoch'] = id_dt_01['epoch'].astype(int)\n",
        "id_dt_02['epoch'] = id_dt_02['epoch'].astype(int)\n",
        "id_dt_03['epoch'] = id_dt_03['epoch'].astype(int)\n"
      ],
      "metadata": {
        "id": "mY6rIudoc5ye"
      },
      "execution_count": 78,
      "outputs": []
    },
    {
      "cell_type": "code",
      "source": [
        "id_dt_01_ordered = id_dt_01.sort_values(by='epoch')\n",
        "id_dt_02_ordered = id_dt_02.sort_values(by='epoch')\n",
        "id_dt_03_ordered = id_dt_03.sort_values(by='epoch')\n"
      ],
      "metadata": {
        "id": "5kTq36zqZJhj"
      },
      "execution_count": 79,
      "outputs": []
    },
    {
      "cell_type": "code",
      "source": [
        "len(id_dt_03_ordered)"
      ],
      "metadata": {
        "colab": {
          "base_uri": "https://localhost:8080/"
        },
        "id": "lcpefYy0fe75",
        "outputId": "c5c4c8a1-108e-4152-a6cd-39a98475f722"
      },
      "execution_count": 80,
      "outputs": [
        {
          "output_type": "execute_result",
          "data": {
            "text/plain": [
              "1500"
            ]
          },
          "metadata": {},
          "execution_count": 80
        }
      ]
    },
    {
      "cell_type": "code",
      "source": [
        "test_sub_01 = id_dt_01_ordered.head(45)"
      ],
      "metadata": {
        "id": "lB_5owMK0l7i"
      },
      "execution_count": 81,
      "outputs": []
    },
    {
      "cell_type": "code",
      "source": [
        "id_dt_01_ordered_subset = id_dt_01_ordered.head(1000)"
      ],
      "metadata": {
        "id": "B4BpcNnjYC2U"
      },
      "execution_count": 82,
      "outputs": []
    },
    {
      "cell_type": "code",
      "source": [
        "id_dt_01_ordered"
      ],
      "metadata": {
        "colab": {
          "base_uri": "https://localhost:8080/",
          "height": 424
        },
        "id": "HjgQMlmhgm8m",
        "outputId": "b96ab19c-d537-4877-bb43-9aa77cd94875"
      },
      "execution_count": 92,
      "outputs": [
        {
          "output_type": "execute_result",
          "data": {
            "text/plain": [
              "                                           predict_path  \\\n",
              "330   /content/drive/MyDrive/data/model_prediction/o...   \n",
              "331   /content/drive/MyDrive/data/model_prediction/o...   \n",
              "344   /content/drive/MyDrive/data/model_prediction/o...   \n",
              "343   /content/drive/MyDrive/data/model_prediction/o...   \n",
              "342   /content/drive/MyDrive/data/model_prediction/o...   \n",
              "...                                                 ...   \n",
              "1323  /content/drive/MyDrive/data/model_prediction/o...   \n",
              "1322  /content/drive/MyDrive/data/model_prediction/o...   \n",
              "1320  /content/drive/MyDrive/data/model_prediction/o...   \n",
              "1327  /content/drive/MyDrive/data/model_prediction/o...   \n",
              "1334  /content/drive/MyDrive/data/model_prediction/o...   \n",
              "\n",
              "                                             label_path  epoch unique_id  \n",
              "330   /content/drive/MyDrive/data/labels/y_test/1472...      1      1472  \n",
              "331   /content/drive/MyDrive/data/labels/y_test/1482...      1      1482  \n",
              "344   /content/drive/MyDrive/data/labels/y_test/823_...      1       823  \n",
              "343   /content/drive/MyDrive/data/labels/y_test/812_...      1       812  \n",
              "342   /content/drive/MyDrive/data/labels/y_test/808_...      1       808  \n",
              "...                                                 ...    ...       ...  \n",
              "1323  /content/drive/MyDrive/data/labels/y_test/1530...    496      1530  \n",
              "1322  /content/drive/MyDrive/data/labels/y_test/1516...    496      1516  \n",
              "1320  /content/drive/MyDrive/data/labels/y_test/1472...    496      1472  \n",
              "1327  /content/drive/MyDrive/data/labels/y_test/1593...    496      1593  \n",
              "1334  /content/drive/MyDrive/data/labels/y_test/823_...    496       823  \n",
              "\n",
              "[1500 rows x 4 columns]"
            ],
            "text/html": [
              "\n",
              "  <div id=\"df-9a61d82d-754d-42c4-a733-6a77a1cc8b7a\" class=\"colab-df-container\">\n",
              "    <div>\n",
              "<style scoped>\n",
              "    .dataframe tbody tr th:only-of-type {\n",
              "        vertical-align: middle;\n",
              "    }\n",
              "\n",
              "    .dataframe tbody tr th {\n",
              "        vertical-align: top;\n",
              "    }\n",
              "\n",
              "    .dataframe thead th {\n",
              "        text-align: right;\n",
              "    }\n",
              "</style>\n",
              "<table border=\"1\" class=\"dataframe\">\n",
              "  <thead>\n",
              "    <tr style=\"text-align: right;\">\n",
              "      <th></th>\n",
              "      <th>predict_path</th>\n",
              "      <th>label_path</th>\n",
              "      <th>epoch</th>\n",
              "      <th>unique_id</th>\n",
              "    </tr>\n",
              "  </thead>\n",
              "  <tbody>\n",
              "    <tr>\n",
              "      <th>330</th>\n",
              "      <td>/content/drive/MyDrive/data/model_prediction/o...</td>\n",
              "      <td>/content/drive/MyDrive/data/labels/y_test/1472...</td>\n",
              "      <td>1</td>\n",
              "      <td>1472</td>\n",
              "    </tr>\n",
              "    <tr>\n",
              "      <th>331</th>\n",
              "      <td>/content/drive/MyDrive/data/model_prediction/o...</td>\n",
              "      <td>/content/drive/MyDrive/data/labels/y_test/1482...</td>\n",
              "      <td>1</td>\n",
              "      <td>1482</td>\n",
              "    </tr>\n",
              "    <tr>\n",
              "      <th>344</th>\n",
              "      <td>/content/drive/MyDrive/data/model_prediction/o...</td>\n",
              "      <td>/content/drive/MyDrive/data/labels/y_test/823_...</td>\n",
              "      <td>1</td>\n",
              "      <td>823</td>\n",
              "    </tr>\n",
              "    <tr>\n",
              "      <th>343</th>\n",
              "      <td>/content/drive/MyDrive/data/model_prediction/o...</td>\n",
              "      <td>/content/drive/MyDrive/data/labels/y_test/812_...</td>\n",
              "      <td>1</td>\n",
              "      <td>812</td>\n",
              "    </tr>\n",
              "    <tr>\n",
              "      <th>342</th>\n",
              "      <td>/content/drive/MyDrive/data/model_prediction/o...</td>\n",
              "      <td>/content/drive/MyDrive/data/labels/y_test/808_...</td>\n",
              "      <td>1</td>\n",
              "      <td>808</td>\n",
              "    </tr>\n",
              "    <tr>\n",
              "      <th>...</th>\n",
              "      <td>...</td>\n",
              "      <td>...</td>\n",
              "      <td>...</td>\n",
              "      <td>...</td>\n",
              "    </tr>\n",
              "    <tr>\n",
              "      <th>1323</th>\n",
              "      <td>/content/drive/MyDrive/data/model_prediction/o...</td>\n",
              "      <td>/content/drive/MyDrive/data/labels/y_test/1530...</td>\n",
              "      <td>496</td>\n",
              "      <td>1530</td>\n",
              "    </tr>\n",
              "    <tr>\n",
              "      <th>1322</th>\n",
              "      <td>/content/drive/MyDrive/data/model_prediction/o...</td>\n",
              "      <td>/content/drive/MyDrive/data/labels/y_test/1516...</td>\n",
              "      <td>496</td>\n",
              "      <td>1516</td>\n",
              "    </tr>\n",
              "    <tr>\n",
              "      <th>1320</th>\n",
              "      <td>/content/drive/MyDrive/data/model_prediction/o...</td>\n",
              "      <td>/content/drive/MyDrive/data/labels/y_test/1472...</td>\n",
              "      <td>496</td>\n",
              "      <td>1472</td>\n",
              "    </tr>\n",
              "    <tr>\n",
              "      <th>1327</th>\n",
              "      <td>/content/drive/MyDrive/data/model_prediction/o...</td>\n",
              "      <td>/content/drive/MyDrive/data/labels/y_test/1593...</td>\n",
              "      <td>496</td>\n",
              "      <td>1593</td>\n",
              "    </tr>\n",
              "    <tr>\n",
              "      <th>1334</th>\n",
              "      <td>/content/drive/MyDrive/data/model_prediction/o...</td>\n",
              "      <td>/content/drive/MyDrive/data/labels/y_test/823_...</td>\n",
              "      <td>496</td>\n",
              "      <td>823</td>\n",
              "    </tr>\n",
              "  </tbody>\n",
              "</table>\n",
              "<p>1500 rows × 4 columns</p>\n",
              "</div>\n",
              "    <div class=\"colab-df-buttons\">\n",
              "\n",
              "  <div class=\"colab-df-container\">\n",
              "    <button class=\"colab-df-convert\" onclick=\"convertToInteractive('df-9a61d82d-754d-42c4-a733-6a77a1cc8b7a')\"\n",
              "            title=\"Convert this dataframe to an interactive table.\"\n",
              "            style=\"display:none;\">\n",
              "\n",
              "  <svg xmlns=\"http://www.w3.org/2000/svg\" height=\"24px\" viewBox=\"0 -960 960 960\">\n",
              "    <path d=\"M120-120v-720h720v720H120Zm60-500h600v-160H180v160Zm220 220h160v-160H400v160Zm0 220h160v-160H400v160ZM180-400h160v-160H180v160Zm440 0h160v-160H620v160ZM180-180h160v-160H180v160Zm440 0h160v-160H620v160Z\"/>\n",
              "  </svg>\n",
              "    </button>\n",
              "\n",
              "  <style>\n",
              "    .colab-df-container {\n",
              "      display:flex;\n",
              "      gap: 12px;\n",
              "    }\n",
              "\n",
              "    .colab-df-convert {\n",
              "      background-color: #E8F0FE;\n",
              "      border: none;\n",
              "      border-radius: 50%;\n",
              "      cursor: pointer;\n",
              "      display: none;\n",
              "      fill: #1967D2;\n",
              "      height: 32px;\n",
              "      padding: 0 0 0 0;\n",
              "      width: 32px;\n",
              "    }\n",
              "\n",
              "    .colab-df-convert:hover {\n",
              "      background-color: #E2EBFA;\n",
              "      box-shadow: 0px 1px 2px rgba(60, 64, 67, 0.3), 0px 1px 3px 1px rgba(60, 64, 67, 0.15);\n",
              "      fill: #174EA6;\n",
              "    }\n",
              "\n",
              "    .colab-df-buttons div {\n",
              "      margin-bottom: 4px;\n",
              "    }\n",
              "\n",
              "    [theme=dark] .colab-df-convert {\n",
              "      background-color: #3B4455;\n",
              "      fill: #D2E3FC;\n",
              "    }\n",
              "\n",
              "    [theme=dark] .colab-df-convert:hover {\n",
              "      background-color: #434B5C;\n",
              "      box-shadow: 0px 1px 3px 1px rgba(0, 0, 0, 0.15);\n",
              "      filter: drop-shadow(0px 1px 2px rgba(0, 0, 0, 0.3));\n",
              "      fill: #FFFFFF;\n",
              "    }\n",
              "  </style>\n",
              "\n",
              "    <script>\n",
              "      const buttonEl =\n",
              "        document.querySelector('#df-9a61d82d-754d-42c4-a733-6a77a1cc8b7a button.colab-df-convert');\n",
              "      buttonEl.style.display =\n",
              "        google.colab.kernel.accessAllowed ? 'block' : 'none';\n",
              "\n",
              "      async function convertToInteractive(key) {\n",
              "        const element = document.querySelector('#df-9a61d82d-754d-42c4-a733-6a77a1cc8b7a');\n",
              "        const dataTable =\n",
              "          await google.colab.kernel.invokeFunction('convertToInteractive',\n",
              "                                                    [key], {});\n",
              "        if (!dataTable) return;\n",
              "\n",
              "        const docLinkHtml = 'Like what you see? Visit the ' +\n",
              "          '<a target=\"_blank\" href=https://colab.research.google.com/notebooks/data_table.ipynb>data table notebook</a>'\n",
              "          + ' to learn more about interactive tables.';\n",
              "        element.innerHTML = '';\n",
              "        dataTable['output_type'] = 'display_data';\n",
              "        await google.colab.output.renderOutput(dataTable, element);\n",
              "        const docLink = document.createElement('div');\n",
              "        docLink.innerHTML = docLinkHtml;\n",
              "        element.appendChild(docLink);\n",
              "      }\n",
              "    </script>\n",
              "  </div>\n",
              "\n",
              "\n",
              "<div id=\"df-a59cbcd6-5ea2-4296-8cf4-b944ceb303e2\">\n",
              "  <button class=\"colab-df-quickchart\" onclick=\"quickchart('df-a59cbcd6-5ea2-4296-8cf4-b944ceb303e2')\"\n",
              "            title=\"Suggest charts\"\n",
              "            style=\"display:none;\">\n",
              "\n",
              "<svg xmlns=\"http://www.w3.org/2000/svg\" height=\"24px\"viewBox=\"0 0 24 24\"\n",
              "     width=\"24px\">\n",
              "    <g>\n",
              "        <path d=\"M19 3H5c-1.1 0-2 .9-2 2v14c0 1.1.9 2 2 2h14c1.1 0 2-.9 2-2V5c0-1.1-.9-2-2-2zM9 17H7v-7h2v7zm4 0h-2V7h2v10zm4 0h-2v-4h2v4z\"/>\n",
              "    </g>\n",
              "</svg>\n",
              "  </button>\n",
              "\n",
              "<style>\n",
              "  .colab-df-quickchart {\n",
              "      --bg-color: #E8F0FE;\n",
              "      --fill-color: #1967D2;\n",
              "      --hover-bg-color: #E2EBFA;\n",
              "      --hover-fill-color: #174EA6;\n",
              "      --disabled-fill-color: #AAA;\n",
              "      --disabled-bg-color: #DDD;\n",
              "  }\n",
              "\n",
              "  [theme=dark] .colab-df-quickchart {\n",
              "      --bg-color: #3B4455;\n",
              "      --fill-color: #D2E3FC;\n",
              "      --hover-bg-color: #434B5C;\n",
              "      --hover-fill-color: #FFFFFF;\n",
              "      --disabled-bg-color: #3B4455;\n",
              "      --disabled-fill-color: #666;\n",
              "  }\n",
              "\n",
              "  .colab-df-quickchart {\n",
              "    background-color: var(--bg-color);\n",
              "    border: none;\n",
              "    border-radius: 50%;\n",
              "    cursor: pointer;\n",
              "    display: none;\n",
              "    fill: var(--fill-color);\n",
              "    height: 32px;\n",
              "    padding: 0;\n",
              "    width: 32px;\n",
              "  }\n",
              "\n",
              "  .colab-df-quickchart:hover {\n",
              "    background-color: var(--hover-bg-color);\n",
              "    box-shadow: 0 1px 2px rgba(60, 64, 67, 0.3), 0 1px 3px 1px rgba(60, 64, 67, 0.15);\n",
              "    fill: var(--button-hover-fill-color);\n",
              "  }\n",
              "\n",
              "  .colab-df-quickchart-complete:disabled,\n",
              "  .colab-df-quickchart-complete:disabled:hover {\n",
              "    background-color: var(--disabled-bg-color);\n",
              "    fill: var(--disabled-fill-color);\n",
              "    box-shadow: none;\n",
              "  }\n",
              "\n",
              "  .colab-df-spinner {\n",
              "    border: 2px solid var(--fill-color);\n",
              "    border-color: transparent;\n",
              "    border-bottom-color: var(--fill-color);\n",
              "    animation:\n",
              "      spin 1s steps(1) infinite;\n",
              "  }\n",
              "\n",
              "  @keyframes spin {\n",
              "    0% {\n",
              "      border-color: transparent;\n",
              "      border-bottom-color: var(--fill-color);\n",
              "      border-left-color: var(--fill-color);\n",
              "    }\n",
              "    20% {\n",
              "      border-color: transparent;\n",
              "      border-left-color: var(--fill-color);\n",
              "      border-top-color: var(--fill-color);\n",
              "    }\n",
              "    30% {\n",
              "      border-color: transparent;\n",
              "      border-left-color: var(--fill-color);\n",
              "      border-top-color: var(--fill-color);\n",
              "      border-right-color: var(--fill-color);\n",
              "    }\n",
              "    40% {\n",
              "      border-color: transparent;\n",
              "      border-right-color: var(--fill-color);\n",
              "      border-top-color: var(--fill-color);\n",
              "    }\n",
              "    60% {\n",
              "      border-color: transparent;\n",
              "      border-right-color: var(--fill-color);\n",
              "    }\n",
              "    80% {\n",
              "      border-color: transparent;\n",
              "      border-right-color: var(--fill-color);\n",
              "      border-bottom-color: var(--fill-color);\n",
              "    }\n",
              "    90% {\n",
              "      border-color: transparent;\n",
              "      border-bottom-color: var(--fill-color);\n",
              "    }\n",
              "  }\n",
              "</style>\n",
              "\n",
              "  <script>\n",
              "    async function quickchart(key) {\n",
              "      const quickchartButtonEl =\n",
              "        document.querySelector('#' + key + ' button');\n",
              "      quickchartButtonEl.disabled = true;  // To prevent multiple clicks.\n",
              "      quickchartButtonEl.classList.add('colab-df-spinner');\n",
              "      try {\n",
              "        const charts = await google.colab.kernel.invokeFunction(\n",
              "            'suggestCharts', [key], {});\n",
              "      } catch (error) {\n",
              "        console.error('Error during call to suggestCharts:', error);\n",
              "      }\n",
              "      quickchartButtonEl.classList.remove('colab-df-spinner');\n",
              "      quickchartButtonEl.classList.add('colab-df-quickchart-complete');\n",
              "    }\n",
              "    (() => {\n",
              "      let quickchartButtonEl =\n",
              "        document.querySelector('#df-a59cbcd6-5ea2-4296-8cf4-b944ceb303e2 button');\n",
              "      quickchartButtonEl.style.display =\n",
              "        google.colab.kernel.accessAllowed ? 'block' : 'none';\n",
              "    })();\n",
              "  </script>\n",
              "</div>\n",
              "\n",
              "  <div id=\"id_de3d6fb2-61a3-4bb7-8c6f-b3904f70a353\">\n",
              "    <style>\n",
              "      .colab-df-generate {\n",
              "        background-color: #E8F0FE;\n",
              "        border: none;\n",
              "        border-radius: 50%;\n",
              "        cursor: pointer;\n",
              "        display: none;\n",
              "        fill: #1967D2;\n",
              "        height: 32px;\n",
              "        padding: 0 0 0 0;\n",
              "        width: 32px;\n",
              "      }\n",
              "\n",
              "      .colab-df-generate:hover {\n",
              "        background-color: #E2EBFA;\n",
              "        box-shadow: 0px 1px 2px rgba(60, 64, 67, 0.3), 0px 1px 3px 1px rgba(60, 64, 67, 0.15);\n",
              "        fill: #174EA6;\n",
              "      }\n",
              "\n",
              "      [theme=dark] .colab-df-generate {\n",
              "        background-color: #3B4455;\n",
              "        fill: #D2E3FC;\n",
              "      }\n",
              "\n",
              "      [theme=dark] .colab-df-generate:hover {\n",
              "        background-color: #434B5C;\n",
              "        box-shadow: 0px 1px 3px 1px rgba(0, 0, 0, 0.15);\n",
              "        filter: drop-shadow(0px 1px 2px rgba(0, 0, 0, 0.3));\n",
              "        fill: #FFFFFF;\n",
              "      }\n",
              "    </style>\n",
              "    <button class=\"colab-df-generate\" onclick=\"generateWithVariable('id_dt_01_ordered')\"\n",
              "            title=\"Generate code using this dataframe.\"\n",
              "            style=\"display:none;\">\n",
              "\n",
              "  <svg xmlns=\"http://www.w3.org/2000/svg\" height=\"24px\"viewBox=\"0 0 24 24\"\n",
              "       width=\"24px\">\n",
              "    <path d=\"M7,19H8.4L18.45,9,17,7.55,7,17.6ZM5,21V16.75L18.45,3.32a2,2,0,0,1,2.83,0l1.4,1.43a1.91,1.91,0,0,1,.58,1.4,1.91,1.91,0,0,1-.58,1.4L9.25,21ZM18.45,9,17,7.55Zm-12,3A5.31,5.31,0,0,0,4.9,8.1,5.31,5.31,0,0,0,1,6.5,5.31,5.31,0,0,0,4.9,4.9,5.31,5.31,0,0,0,6.5,1,5.31,5.31,0,0,0,8.1,4.9,5.31,5.31,0,0,0,12,6.5,5.46,5.46,0,0,0,6.5,12Z\"/>\n",
              "  </svg>\n",
              "    </button>\n",
              "    <script>\n",
              "      (() => {\n",
              "      const buttonEl =\n",
              "        document.querySelector('#id_de3d6fb2-61a3-4bb7-8c6f-b3904f70a353 button.colab-df-generate');\n",
              "      buttonEl.style.display =\n",
              "        google.colab.kernel.accessAllowed ? 'block' : 'none';\n",
              "\n",
              "      buttonEl.onclick = () => {\n",
              "        google.colab.notebook.generateWithVariable('id_dt_01_ordered');\n",
              "      }\n",
              "      })();\n",
              "    </script>\n",
              "  </div>\n",
              "\n",
              "    </div>\n",
              "  </div>\n"
            ],
            "application/vnd.google.colaboratory.intrinsic+json": {
              "type": "dataframe",
              "variable_name": "id_dt_01_ordered",
              "summary": "{\n  \"name\": \"id_dt_01_ordered\",\n  \"rows\": 1500,\n  \"fields\": [\n    {\n      \"column\": \"predict_path\",\n      \"properties\": {\n        \"dtype\": \"string\",\n        \"num_unique_values\": 1500,\n        \"samples\": [\n          \"/content/drive/MyDrive/data/model_prediction/oneyear_data/20240418_1448/epoch_371_812_1year.tif\",\n          \"/content/drive/MyDrive/data/model_prediction/oneyear_data/20240418_1448/epoch_456_808_1year.tif\",\n          \"/content/drive/MyDrive/data/model_prediction/oneyear_data/20240418_1448/epoch_141_1516_1year.tif\"\n        ],\n        \"semantic_type\": \"\",\n        \"description\": \"\"\n      }\n    },\n    {\n      \"column\": \"label_path\",\n      \"properties\": {\n        \"dtype\": \"category\",\n        \"num_unique_values\": 15,\n        \"samples\": [\n          \"/content/drive/MyDrive/data/labels/y_test/157_multi_wl.tif\",\n          \"/content/drive/MyDrive/data/labels/y_test/1549_multi_wl.tif\",\n          \"/content/drive/MyDrive/data/labels/y_test/1472_multi_wl.tif\"\n        ],\n        \"semantic_type\": \"\",\n        \"description\": \"\"\n      }\n    },\n    {\n      \"column\": \"epoch\",\n      \"properties\": {\n        \"dtype\": \"number\",\n        \"std\": 144,\n        \"min\": 1,\n        \"max\": 496,\n        \"num_unique_values\": 100,\n        \"samples\": [\n          416,\n          266,\n          351\n        ],\n        \"semantic_type\": \"\",\n        \"description\": \"\"\n      }\n    },\n    {\n      \"column\": \"unique_id\",\n      \"properties\": {\n        \"dtype\": \"category\",\n        \"num_unique_values\": 15,\n        \"samples\": [\n          \"157\",\n          \"1549\",\n          \"1472\"\n        ],\n        \"semantic_type\": \"\",\n        \"description\": \"\"\n      }\n    }\n  ]\n}"
            }
          },
          "metadata": {},
          "execution_count": 92
        }
      ]
    },
    {
      "cell_type": "code",
      "source": [
        "def process_rasters(df):\n",
        "    results = []\n",
        "    for index, row in df.iterrows():\n",
        "        with rasterio.open(row['predict_path']) as src:\n",
        "            predict_rast = src.read(1)  # Reading the first band\n",
        "        with rasterio.open(row['label_path']) as src:\n",
        "            label_rast = src.read(1)  # Reading the first band\n",
        "\n",
        "        # Adjust prediction values to match label values (by adding 1)\n",
        "        predict_rast = predict_rast + 1\n",
        "\n",
        "        # Flattening the arrays and creating a DataFrame\n",
        "        data = {\n",
        "            'prediction': predict_rast.flatten().astype(int),\n",
        "            'label': label_rast.flatten().astype(int),\n",
        "            'epoch': row['epoch'],\n",
        "            'unique_id': row['unique_id']\n",
        "        }\n",
        "        results.append(pd.DataFrame(data))\n",
        "    return pd.concat(results)"
      ],
      "metadata": {
        "id": "SwUC7sPvhe24"
      },
      "execution_count": 93,
      "outputs": []
    },
    {
      "cell_type": "code",
      "source": [
        "conf_id_dt_01_ordered = process_rasters(id_dt_01_ordered)"
      ],
      "metadata": {
        "id": "5J-7vWeatZYU"
      },
      "execution_count": 94,
      "outputs": []
    },
    {
      "cell_type": "code",
      "source": [
        "conf_id_dt_02_ordered = process_rasters(id_dt_02_ordered)"
      ],
      "metadata": {
        "id": "v7ffF72Rth9G"
      },
      "execution_count": 105,
      "outputs": []
    },
    {
      "cell_type": "code",
      "source": [
        "conf_id_dt_03_ordered = process_rasters(id_dt_03_ordered)"
      ],
      "metadata": {
        "id": "4xndmUsTtiPm"
      },
      "execution_count": 110,
      "outputs": []
    },
    {
      "cell_type": "code",
      "source": [
        "# conf_test_sub_01 = process_rasters(test_sub_01)"
      ],
      "metadata": {
        "id": "2tC7upXg0rvX"
      },
      "execution_count": 57,
      "outputs": []
    },
    {
      "cell_type": "code",
      "source": [
        "# confusion_id_dt_01_ordered_sub = process_rasters(id_dt_01_ordered_subset)"
      ],
      "metadata": {
        "id": "OwTKd1vThe0m"
      },
      "execution_count": 84,
      "outputs": []
    },
    {
      "cell_type": "code",
      "source": [
        "# confusion_id_dt_01_ordered_sub"
      ],
      "metadata": {
        "id": "lC6Rd69lh0wR"
      },
      "execution_count": null,
      "outputs": []
    },
    {
      "cell_type": "code",
      "source": [
        "# confusion_id_dt_01_ordered = process_rasters(id_dt_01_ordered)"
      ],
      "metadata": {
        "id": "4qlZ-da5s09C"
      },
      "execution_count": null,
      "outputs": []
    },
    {
      "cell_type": "code",
      "source": [
        "# values to run calculations on\n",
        "# id_dt_01_ordered\n",
        "# id_dt_02_ordered\n",
        "# id_dt_03_ordered"
      ],
      "metadata": {
        "id": "DZ61enzbtAnY"
      },
      "execution_count": null,
      "outputs": []
    },
    {
      "cell_type": "code",
      "source": [
        "def calculate_metrics(df):\n",
        "    # Compute overall and by-class accuracy\n",
        "    overall_accuracy = accuracy_score(df['label'], df['prediction'])\n",
        "    balanced_acc = balanced_accuracy_score(df['label'], df['prediction'])\n",
        "    conf_matrix = confusion_matrix(df['label'], df['prediction'])\n",
        "    return overall_accuracy, balanced_acc, conf_matrix"
      ],
      "metadata": {
        "id": "eACrV6gHheyl"
      },
      "execution_count": 87,
      "outputs": []
    },
    {
      "cell_type": "code",
      "source": [
        "# overall_accuracy_01, balanced_acc_01, conf_matrix_01 = calculate_metrics(conf_test_sub_01)"
      ],
      "metadata": {
        "id": "nAmJlnFE0wS3"
      },
      "execution_count": 88,
      "outputs": []
    },
    {
      "cell_type": "code",
      "source": [
        "# overall_accuracy_01, balanced_acc_01, conf_matrix_01 = calculate_metrics(conf_id_dt_01_ordered)"
      ],
      "metadata": {
        "id": "nt2ZApRyg7aw"
      },
      "execution_count": 95,
      "outputs": []
    },
    {
      "cell_type": "code",
      "source": [
        "overall_accuracy_02, balanced_acc_02, conf_matrix_02 = calculate_metrics(conf_id_dt_02_ordered)"
      ],
      "metadata": {
        "id": "g9HLKHRgtK3T"
      },
      "execution_count": 106,
      "outputs": []
    },
    {
      "cell_type": "code",
      "source": [
        "overall_accuracy_03, balanced_acc_03, conf_matrix_03 = calculate_metrics(conf_id_dt_03_ordered)"
      ],
      "metadata": {
        "id": "3rmnh6i_3P3A"
      },
      "execution_count": 111,
      "outputs": []
    },
    {
      "cell_type": "code",
      "source": [
        "# type(overall_accuracy_01)\n",
        "# type(balanced_acc_01)\n",
        "# type(conf_matrix_01)"
      ],
      "metadata": {
        "id": "Jhc33bBjlWdm"
      },
      "execution_count": 37,
      "outputs": []
    },
    {
      "cell_type": "code",
      "source": [
        "print(\"Overall Accuracy:\", overall_accuracy_01)\n",
        "print(\"Balanced Accuracy:\", balanced_acc_01)\n",
        "print(\"Confusion Matrix:\\n\", conf_matrix_01)"
      ],
      "metadata": {
        "colab": {
          "base_uri": "https://localhost:8080/"
        },
        "id": "piUIIAEqk_4a",
        "outputId": "39b726e9-4d8a-44c9-8a89-b850b31e9114"
      },
      "execution_count": 98,
      "outputs": [
        {
          "output_type": "stream",
          "name": "stdout",
          "text": [
            "Overall Accuracy: 0.5656759575737847\n",
            "Balanced Accuracy: 0.256851883790489\n",
            "Confusion Matrix:\n",
            " [[  7244454   3953296     11693    194066    197502   1024989  18031200]\n",
            " [  2255596  12757230     80108    229857    407015    251664  22693630]\n",
            " [    61234    843049      4579      3932       695       239    255872]\n",
            " [   379566   1128771      5022     25314     37737     25300   7130190]\n",
            " [   415095    937008     36268     84993    115574     44422  14676940]\n",
            " [  1152540    329174      2080     78897     45876   3030441   4127992]\n",
            " [  7285177   6684375     56334    234426    455784    215925 101940879]]\n"
          ]
        }
      ]
    },
    {
      "cell_type": "code",
      "source": [
        "print(\"Overall Accuracy:\", overall_accuracy_02)\n",
        "print(\"Balanced Accuracy:\", balanced_acc_02)\n",
        "print(\"Confusion Matrix:\\n\", conf_matrix_02)"
      ],
      "metadata": {
        "colab": {
          "base_uri": "https://localhost:8080/"
        },
        "id": "EYf5Dk1SlLv6",
        "outputId": "c7b5cca8-9bca-491b-993b-f3ff190207e9"
      },
      "execution_count": 107,
      "outputs": [
        {
          "output_type": "stream",
          "name": "stdout",
          "text": [
            "Overall Accuracy: 0.6045813440393518\n",
            "Balanced Accuracy: 0.2937719619610589\n",
            "Confusion Matrix:\n",
            " [[ 11882471   4383217    227431     34151    129715   2224014  11776201]\n",
            " [  1467792  16360676    379872    270896    246441    406444  19542979]\n",
            " [    44351   1040689     13272      3773        14       615     66886]\n",
            " [   194657   1082961     49713     41222    429221     38078   6896048]\n",
            " [   328790   1541593    124367    203804    776492     26963  13308291]\n",
            " [   360674    155368     30819     18635     52442   2717279   5431783]\n",
            " [  3286608   8790352    753473   1157565    793079    159515 101932308]]\n"
          ]
        }
      ]
    },
    {
      "cell_type": "code",
      "source": [
        "print(\"Overall Accuracy:\", overall_accuracy_03)\n",
        "print(\"Balanced Accuracy:\", balanced_acc_03)\n",
        "print(\"Confusion Matrix:\\n\", conf_matrix_03)"
      ],
      "metadata": {
        "colab": {
          "base_uri": "https://localhost:8080/"
        },
        "id": "OF92qqx0442W",
        "outputId": "1b0edf64-aa4b-4c47-ed0d-b1946410163d"
      },
      "execution_count": 112,
      "outputs": [
        {
          "output_type": "stream",
          "name": "stdout",
          "text": [
            "Overall Accuracy: 0.617224220558449\n",
            "Balanced Accuracy: 0.30037952777001514\n",
            "Confusion Matrix:\n",
            " [[ 12549729   4809086     20982    329209    143926   2452244  10352024]\n",
            " [  1213883  14976645    240604    832951    207204    215571  20988242]\n",
            " [   107995    962115      2704     15198       246        74     81268]\n",
            " [    78605   1413283     23830    222992    328434      6048   6658708]\n",
            " [   109231   2229496    453082    480197   1011540      6383  12020371]\n",
            " [   201517    472934       340    102818     52776   2788344   5148271]\n",
            " [  1494858   7057888     98794   2018628   1124961    109603 104968168]]\n"
          ]
        }
      ]
    },
    {
      "cell_type": "code",
      "source": [
        "conf_mat_all = [conf_matrix_01, conf_matrix_02, conf_matrix_03]"
      ],
      "metadata": {
        "id": "QEO2YqOmNr4c"
      },
      "execution_count": 117,
      "outputs": []
    },
    {
      "cell_type": "code",
      "source": [
        "conf_mat_all"
      ],
      "metadata": {
        "id": "G7J2vKQONvhB"
      },
      "execution_count": null,
      "outputs": []
    },
    {
      "cell_type": "code",
      "source": [
        "class_names = [\"Pond\", \"Emergent Wetland\", \"Aquatic Bed\", \"Shrub Wetland\", \"Forested Wetland\", \"Open Water\", \"Other\"]"
      ],
      "metadata": {
        "id": "fGh89B4YN4Pf"
      },
      "execution_count": 127,
      "outputs": []
    },
    {
      "cell_type": "code",
      "source": [
        "cm_01 = pd.DataFrame(conf_matrix_01, index=class_names, columns=class_names)"
      ],
      "metadata": {
        "id": "B3a95H-kOmrV"
      },
      "execution_count": 128,
      "outputs": []
    },
    {
      "cell_type": "code",
      "source": [
        "import seaborn as sns\n"
      ],
      "metadata": {
        "id": "_N8JQxziQl9z"
      },
      "execution_count": 130,
      "outputs": []
    },
    {
      "cell_type": "code",
      "source": [
        "plt.figure(figsize=(10, 7))\n",
        "sns.heatmap(cm_01, annot=True, fmt='g', cmap='viridis')\n",
        "plt.title('Confusion Matrix')\n",
        "plt.ylabel('Actual')\n",
        "plt.xlabel('Predicted')\n",
        "plt.show()"
      ],
      "metadata": {
        "colab": {
          "base_uri": "https://localhost:8080/",
          "height": 756
        },
        "id": "ddNqeP_SQgAB",
        "outputId": "b0ce63b9-4b5b-40a7-d9bf-8df9777a2680"
      },
      "execution_count": 135,
      "outputs": [
        {
          "output_type": "display_data",
          "data": {
            "text/plain": [
              "<Figure size 1000x700 with 2 Axes>"
            ],
            "image/png": "[encoded data removed]"
          },
          "metadata": {}
        }
      ]
    },
    {
      "cell_type": "code",
      "source": [
        "fig, axes = plt.subplots(1, len(confusion_matrices), figsize=(20, 5))\n",
        "\n",
        "# Plot each confusion matrix\n",
        "for i, conf_matrix in enumerate(confusion_matrices):\n",
        "    sns.heatmap(conf_matrix, annot=False, fmt='d', cmap='viridis', ax=axes[i], cbar=True,\n",
        "                xticklabels=class_names, yticklabels=class_names)\n",
        "    axes[i].set_title(f'Experiment {i+1} Confusion Matrix')\n",
        "    axes[i].set_xlabel('Predicted labels')\n",
        "    axes[i].set_ylabel('True labels')\n",
        "\n",
        "# Adjust the layout\n",
        "plt.tight_layout()\n",
        "plt.show()"
      ],
      "metadata": {
        "colab": {
          "base_uri": "https://localhost:8080/",
          "height": 527
        },
        "id": "MbK06BfjQf7b",
        "outputId": "d74b5e16-1567-4502-8fce-6ad03ea2f6f7"
      },
      "execution_count": 136,
      "outputs": [
        {
          "output_type": "display_data",
          "data": {
            "text/plain": [
              "<Figure size 2000x500 with 6 Axes>"
            ],
            "image/png": "[encoded data removed]"
          },
          "metadata": {}
        }
      ]
    },
    {
      "cell_type": "code",
      "source": [],
      "metadata": {
        "id": "8OzQhEOvQf5R"
      },
      "execution_count": null,
      "outputs": []
    },
    {
      "cell_type": "code",
      "source": [
        "def calculate_class_accuracies(y_true, y_pred):\n",
        "    # Generate the confusion matrix\n",
        "    cm = confusion_matrix(y_true, y_pred)\n",
        "\n",
        "    # Per-class accuracy is the diagonal (true positives) divided by the row sum (true positives + false negatives)\n",
        "    class_accuracies = cm.diagonal() / cm.sum(axis=1)\n",
        "\n",
        "    # If any class didn't appear in y_true, it will result in nan for its accuracy.\n",
        "    # To handle this, we can use np.nan_to_num to replace nan with 0 or any other desired value.\n",
        "    class_accuracies = np.nan_to_num(class_accuracies)\n",
        "\n",
        "    return class_accuracies"
      ],
      "metadata": {
        "id": "PPQv3yevmS1o"
      },
      "execution_count": 97,
      "outputs": []
    },
    {
      "cell_type": "code",
      "source": [
        "# experiment One\n",
        "\n",
        "# Calculate class accuracies\n",
        "class_accuracies_01 = calculate_class_accuracies(conf_id_dt_01_ordered['label'], conf_id_dt_01_ordered['prediction'])\n",
        "\n",
        "# Map class indices to the actual class names if necessary (e.g., 1, 2, 3, ...)\n",
        "class_indices_01 = [i+1 for i in range(len(class_accuracies_01))]  # Adjust based on your class labels\n",
        "\n",
        "# Create a dictionary for class accuracies\n",
        "class_accuracy_dict_01 = dict(zip(class_indices_01, class_accuracies_01))\n",
        "\n",
        "print(\"Class Accuracies:\", class_accuracy_dict_01)"
      ],
      "metadata": {
        "colab": {
          "base_uri": "https://localhost:8080/"
        },
        "id": "PuLdzXA2oZfa",
        "outputId": "4c5fb02c-d50a-4b79-8335-e90868490a18"
      },
      "execution_count": 99,
      "outputs": [
        {
          "output_type": "stream",
          "name": "stdout",
          "text": [
            "Class Accuracies: {1: 0.23630514202210248, 2: 0.32985641924649195, 3: 0.003915013679890561, 4: 0.0028990254125677113, 5: 0.007085951821854902, 6: 0.34566453747005815, 7: 0.8722370968804574}\n"
          ]
        }
      ]
    },
    {
      "cell_type": "code",
      "source": [
        "# experiment Two\n",
        "\n",
        "class_accuracies_02 = calculate_class_accuracies(conf_id_dt_02_ordered['label'], conf_id_dt_02_ordered['prediction'])\n",
        "class_indices_02 = [i+1 for i in range(len(class_accuracies_02))]  # Adjust based on your class labels\n",
        "class_accuracy_dict_02 = dict(zip(class_indices_02, class_accuracies_02))\n",
        "print(\"Class Accuracies:\", class_accuracy_dict_02)"
      ],
      "metadata": {
        "colab": {
          "base_uri": "https://localhost:8080/"
        },
        "id": "y7g6a8M5484g",
        "outputId": "b87a8a57-2de5-4ca7-8e1f-ea8762c9ebac"
      },
      "execution_count": 108,
      "outputs": [
        {
          "output_type": "stream",
          "name": "stdout",
          "text": [
            "Class Accuracies: {1: 0.38759152825437415, 2: 0.4230286670234854, 3: 0.011347469220246239, 4: 0.004720851132056025, 5: 0.047607462768925156, 6: 0.309943994524923, 7: 0.8721637608034026}\n"
          ]
        }
      ]
    },
    {
      "cell_type": "code",
      "source": [
        "# experiment three\n",
        "\n",
        "# Calculate class accuracies\n",
        "class_accuracies_03 = calculate_class_accuracies(conf_id_dt_03_ordered['label'], conf_id_dt_03_ordered['prediction'])\n",
        "class_indices_03 = [i+1 for i in range(len(class_accuracies_03))]  # Adjust based on your class labels\n",
        "class_accuracy_dict_03 = dict(zip(class_indices_03, class_accuracies_03))\n",
        "print(\"Class Accuracies:\", class_accuracy_dict_03)"
      ],
      "metadata": {
        "colab": {
          "base_uri": "https://localhost:8080/"
        },
        "id": "fKRiEkLX49QV",
        "outputId": "36b67934-9c1a-493f-b983-633c35f18a30"
      },
      "execution_count": 113,
      "outputs": [
        {
          "output_type": "stream",
          "name": "stdout",
          "text": [
            "Class Accuracies: {1: 0.409356660099422, 2: 0.3872425669229039, 3: 0.0023119015047879618, 4: 0.025537626404333536, 5: 0.06201847912055572, 6: 0.3180499600775636, 7: 0.8981395002605395}\n"
          ]
        }
      ]
    },
    {
      "cell_type": "code",
      "source": [
        "from sklearn.metrics import confusion_matrix, ConfusionMatrixDisplay\n",
        "from sklearn.svm import SVC\n",
        "from sklearn.metrics import classification_report"
      ],
      "metadata": {
        "id": "armTwaT5opEv"
      },
      "execution_count": 101,
      "outputs": []
    },
    {
      "cell_type": "code",
      "source": [
        "classification_report(conf_id_dt_01_ordered['label'], conf_id_dt_01_ordered['prediction'])"
      ],
      "metadata": {
        "colab": {
          "base_uri": "https://localhost:8080/",
          "height": 105
        },
        "id": "zCk3O6T5yZ3l",
        "outputId": "d7e3a245-32f2-4df3-c575-1271582a7163"
      },
      "execution_count": 103,
      "outputs": [
        {
          "output_type": "execute_result",
          "data": {
            "text/plain": [
              "'              precision    recall  f1-score   support\\n\\n           1       0.39      0.24      0.29  30657200\\n           2       0.48      0.33      0.39  38675100\\n           3       0.02      0.00      0.01   1169600\\n           4       0.03      0.00      0.01   8731900\\n           5       0.09      0.01      0.01  16310300\\n           6       0.66      0.35      0.45   8767000\\n           7       0.60      0.87      0.71 116872900\\n\\n    accuracy                           0.57 221184000\\n   macro avg       0.32      0.26      0.27 221184000\\nweighted avg       0.49      0.57      0.51 221184000\\n'"
            ],
            "application/vnd.google.colaboratory.intrinsic+json": {
              "type": "string"
            }
          },
          "metadata": {},
          "execution_count": 103
        }
      ]
    },
    {
      "cell_type": "code",
      "source": [
        "classification_report(conf_id_dt_02_ordered['label'], conf_id_dt_02_ordered['prediction'])"
      ],
      "metadata": {
        "colab": {
          "base_uri": "https://localhost:8080/",
          "height": 105
        },
        "id": "kZ_-ueQRyVAf",
        "outputId": "21b58572-c924-443b-af89-6b99764469cb"
      },
      "execution_count": 109,
      "outputs": [
        {
          "output_type": "execute_result",
          "data": {
            "text/plain": [
              "'              precision    recall  f1-score   support\\n\\n           1       0.68      0.39      0.49  30657200\\n           2       0.49      0.42      0.45  38675100\\n           3       0.01      0.01      0.01   1169600\\n           4       0.02      0.00      0.01   8731900\\n           5       0.32      0.05      0.08  16310300\\n           6       0.49      0.31      0.38   8767000\\n           7       0.64      0.87      0.74 116872900\\n\\n    accuracy                           0.60 221184000\\n   macro avg       0.38      0.29      0.31 221184000\\nweighted avg       0.56      0.60      0.56 221184000\\n'"
            ],
            "application/vnd.google.colaboratory.intrinsic+json": {
              "type": "string"
            }
          },
          "metadata": {},
          "execution_count": 109
        }
      ]
    },
    {
      "cell_type": "code",
      "source": [
        "classification_report(conf_id_dt_03_ordered['label'], conf_id_dt_03_ordered['prediction'])"
      ],
      "metadata": {
        "colab": {
          "base_uri": "https://localhost:8080/",
          "height": 105
        },
        "id": "qSS4wJroyU-E",
        "outputId": "83eba71f-e41a-4b29-e9c6-fc11b3e69798"
      },
      "execution_count": 114,
      "outputs": [
        {
          "output_type": "execute_result",
          "data": {
            "text/plain": [
              "'              precision    recall  f1-score   support\\n\\n           1       0.80      0.41      0.54  30657200\\n           2       0.47      0.39      0.42  38675100\\n           3       0.00      0.00      0.00   1169600\\n           4       0.06      0.03      0.04   8731900\\n           5       0.35      0.06      0.11  16310300\\n           6       0.50      0.32      0.39   8767000\\n           7       0.66      0.90      0.76 116872900\\n\\n    accuracy                           0.62 221184000\\n   macro avg       0.40      0.30      0.32 221184000\\nweighted avg       0.59      0.62      0.57 221184000\\n'"
            ],
            "application/vnd.google.colaboratory.intrinsic+json": {
              "type": "string"
            }
          },
          "metadata": {},
          "execution_count": 114
        }
      ]
    },
    {
      "cell_type": "code",
      "source": [],
      "metadata": {
        "id": "fhYxv1hpyU7M"
      },
      "execution_count": null,
      "outputs": []
    },
    {
      "cell_type": "code",
      "source": [],
      "metadata": {
        "id": "yyLP4pqKyU4U"
      },
      "execution_count": null,
      "outputs": []
    },
    {
      "cell_type": "code",
      "source": [
        "# fig, ax = plt.subplots(figsize=(10, 5))\n",
        "# ConfusionMatrixDisplay.from_predictions(conf_id_dt_01_ordered['label'], conf_id_dt_01_ordered['prediction'], ax=ax)\n",
        "# ax.xaxis.set_ticklabels(class_indices_01)\n",
        "# ax.yaxis.set_ticklabels(class_indices_01)\n",
        "# _ = ax.set_title(\"Experiment One\")"
      ],
      "metadata": {
        "id": "9Ypwk1WzqQYz"
      },
      "execution_count": 116,
      "outputs": []
    },
    {
      "cell_type": "code",
      "source": [
        "# Class Accuracies dictionary from your output\n",
        "# class_accuracy_dict = {1: 0.46514195686494525, 2: 0.14854260234621242, 3: 0.0, 4: 0.04551128620346087, 5: 0.00012262190149782653, 6: 0.28789209535759097, 7: 0.34833182029366944}\n",
        "\n",
        "# Lists for plotting\n",
        "classes = list(class_accuracy_dict_01.keys())\n",
        "accuracies = list(class_accuracy_dict_01.values())\n",
        "\n",
        "# Create bar plot\n",
        "plt.figure(figsize=(10, 6))\n",
        "plt.bar(classes, accuracies, color='skyblue')\n",
        "\n",
        "# Adding the aesthetics\n",
        "plt.title('Class Accuracy')\n",
        "plt.xlabel('Class')\n",
        "plt.ylabel('Accuracy')\n",
        "plt.xticks(classes)  # Set x-ticks to be the classes\n",
        "plt.ylim(0, 1)  # Assuming accuracy ranges from 0 to 1\n",
        "\n",
        "# Annotate the bars with the accuracy value\n",
        "# for i in range(len(classes)):\n",
        "#     plt.text(i, accuracies[i], round(accuracies[i], 1), ha = 'center', va = 'bottom')\n",
        "\n",
        "# Show the plot\n",
        "plt.show()\n"
      ],
      "metadata": {
        "id": "9qDOVkO_nPTL"
      },
      "execution_count": null,
      "outputs": []
    },
    {
      "cell_type": "code",
      "source": [],
      "metadata": {
        "id": "eeLpvLPNqQWq"
      },
      "execution_count": null,
      "outputs": []
    },
    {
      "cell_type": "code",
      "source": [],
      "metadata": {
        "id": "wMnSDAs5qQUH"
      },
      "execution_count": null,
      "outputs": []
    },
    {
      "cell_type": "code",
      "source": [],
      "metadata": {
        "id": "88AGcroWqPpd"
      },
      "execution_count": null,
      "outputs": []
    },
    {
      "cell_type": "code",
      "source": [],
      "metadata": {
        "id": "p3Vo0oBIoZYG"
      },
      "execution_count": null,
      "outputs": []
    },
    {
      "cell_type": "code",
      "source": [],
      "metadata": {
        "id": "gBdHPsULoZV0"
      },
      "execution_count": null,
      "outputs": []
    },
    {
      "cell_type": "code",
      "source": [],
      "metadata": {
        "id": "k3zZRRtKoZTr"
      },
      "execution_count": null,
      "outputs": []
    },
    {
      "cell_type": "code",
      "source": [],
      "metadata": {
        "id": "165WrDLQoZO-"
      },
      "execution_count": null,
      "outputs": []
    },
    {
      "cell_type": "code",
      "source": [],
      "metadata": {
        "id": "FVpB-htIoZNC"
      },
      "execution_count": null,
      "outputs": []
    }
  ]
}