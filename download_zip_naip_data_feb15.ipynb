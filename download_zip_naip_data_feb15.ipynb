{
  "nbformat": 4,
  "nbformat_minor": 0,
  "metadata": {
    "colab": {
      "provenance": [],
      "machine_shape": "hm",
      "collapsed_sections": [
        "JeCSwPvEK2R_"
      ],
      "authorship_tag": "ABX9TyMNbsku0bWV1SBHzP2mEsGy",
      "include_colab_link": true
    },
    "kernelspec": {
      "name": "ir",
      "display_name": "R"
    },
    "language_info": {
      "name": "R"
    }
  },
  "cells": [
    {
      "cell_type": "markdown",
      "metadata": {
        "id": "view-in-github",
        "colab_type": "text"
      },
      "source": [
        "<a href=\"https://colab.research.google.com/github/MadmanMarble/MadmanMarble/blob/main/download_zip_naip_data_feb15.ipynb\" target=\"_parent\"><img src=\"https://colab.research.google.com/assets/colab-badge.svg\" alt=\"Open In Colab\"/></a>"
      ]
    },
    {
      "cell_type": "code",
      "execution_count": 7,
      "metadata": {
        "id": "bM40GiEc7hOW",
        "colab": {
          "base_uri": "https://localhost:8080/"
        },
        "outputId": "95161d63-eb6a-430e-f15b-954db2433997"
      },
      "outputs": [
        {
          "output_type": "stream",
          "name": "stderr",
          "text": [
            "Installing packages into ‘/usr/local/lib/R/site-library’\n",
            "(as ‘lib’ is unspecified)\n",
            "\n",
            "Installing package into ‘/usr/local/lib/R/site-library’\n",
            "(as ‘lib’ is unspecified)\n",
            "\n",
            "Installing package into ‘/usr/local/lib/R/site-library’\n",
            "(as ‘lib’ is unspecified)\n",
            "\n",
            "Downloading GitHub repo gearslaboratory/gdalUtils@HEAD\n",
            "\n"
          ]
        },
        {
          "output_type": "stream",
          "name": "stdout",
          "text": [
            "\n"
          ]
        },
        {
          "output_type": "stream",
          "name": "stderr",
          "text": [
            "Skipping 1 packages not available: rgdal\n",
            "\n"
          ]
        },
        {
          "output_type": "stream",
          "name": "stdout",
          "text": [
            "\u001b[36m──\u001b[39m \u001b[36mR CMD build\u001b[39m \u001b[36m─────────────────────────────────────────────────────────────────\u001b[39m\n",
            "* checking for file ‘/tmp/RtmppQJj9f/remotesb41d70488a97/gearslaboratory-gdalUtils-8872aaf/DESCRIPTION’ ... OK\n",
            "* preparing ‘gdalUtils’:\n",
            "* checking DESCRIPTION meta-information ... OK\n",
            "* checking for LF line-endings in source and make files and shell scripts\n",
            "* checking for empty or unneeded directories\n",
            "* building ‘gdalUtils_2.0.3.2.tar.gz’\n",
            "\n"
          ]
        },
        {
          "output_type": "stream",
          "name": "stderr",
          "text": [
            "Installing package into ‘/usr/local/lib/R/site-library’\n",
            "(as ‘lib’ is unspecified)\n",
            "\n",
            "Warning message in i.p(...):\n",
            "“installation of package ‘/tmp/RtmppQJj9f/fileb41d14eb4555/gdalUtils_2.0.3.2.tar.gz’ had non-zero exit status”\n"
          ]
        }
      ],
      "source": [
        "install.packages(c('raster','sf','fasterize'))\n",
        "install.packages(\"googledrive\")\n",
        "install.packages(\"devtools\")\n",
        "devtools:::install_github(\"gearslaboratory/gdalUtils\")"
      ]
    },
    {
      "cell_type": "code",
      "source": [
        "library(raster)\n",
        "library(sf)\n",
        "library(fasterize)\n",
        "library(magrittr)\n",
        "library(googledrive)\n",
        "library(parallel)\n",
        "library(data.table)\n",
        "library(stringr)\n",
        "\n",
        "drive_auth(use_oob = TRUE, cache = FALSE)"
      ],
      "metadata": {
        "id": "l2K0Xr8Q7zhM"
      },
      "execution_count": null,
      "outputs": []
    },
    {
      "cell_type": "code",
      "source": [
        "dir.create(\"/content/workingfolder\")\n",
        "dir.create(\"/content/workingfolder/utm4\")\n",
        "dir.create(\"/content/workingfolder/utm5\")"
      ],
      "metadata": {
        "colab": {
          "base_uri": "https://localhost:8080/"
        },
        "id": "_s8ChjVSK5Q1",
        "outputId": "219e57ed-5e29-43b7-b443-e49727f639a9"
      },
      "execution_count": 9,
      "outputs": [
        {
          "output_type": "stream",
          "name": "stderr",
          "text": [
            "Warning message in dir.create(\"/content/workingfolder\"):\n",
            "“'/content/workingfolder' already exists”\n",
            "Warning message in dir.create(\"/content/workingfolder/utm4\"):\n",
            "“'/content/workingfolder/utm4' already exists”\n",
            "Warning message in dir.create(\"/content/workingfolder/utm5\"):\n",
            "“'/content/workingfolder/utm5' already exists”\n"
          ]
        }
      ]
    },
    {
      "cell_type": "code",
      "source": [
        "# load utm5 fishnets\n",
        "# https://drive.google.com/file/d/12HSKwZ4tjHA8QW4NtK945gja1RVvQjoB/view?usp=drive_link\n",
        "drive_download(file = as_id(\"12HSKwZ4tjHA8QW4NtK945gja1RVvQjoB\"),\n",
        "path = \"/content/workingfolder/utm5/lokoaka_kionakapahu.gpkg\", overwrite = FALSE)\n",
        "\n",
        "# https://drive.google.com/file/d//view?usp=drive_link\n",
        "drive_download(file = as_id(\"12Edck1WIVhwrwAWIpSYHr3nNAPUlip03\"),\n",
        "path = \"/content/workingfolder/utm5/pololu.gpkg\", overwrite = FALSE)\n",
        "\n",
        "# https://drive.google.com/file/d//view?usp=drive_link\n",
        "drive_download(file = as_id(\"12F2EN0Ev_wa_X9L4rxj2vGleFjl8_Kmx\"),\n",
        "path = \"/content/workingfolder/utm5/wainamu.gpkg\", overwrite = FALSE)\n",
        "\n",
        "# https://drive.google.com/file/d//view?usp=drive_link\n",
        "drive_download(file = as_id(\"12JyZ5Alpk36Jdt9sym23cJPydg6Ro8IA\"),\n",
        "path = \"/content/workingfolder/utm5/waipio.gpkg\", overwrite = FALSE)\n",
        "\n",
        "\n",
        "# load utm4 fishnets\n",
        "# https://drive.google.com/file/d/11JFB55CAQldZ_G-7z-Zw-uhSMRWtHZik/view?usp=drive_link\n",
        "drive_download(file = as_id(\"11JFB55CAQldZ_G-7z-Zw-uhSMRWtHZik\"),\n",
        "path = \"/content/workingfolder/utm4/anahola.gpkg\", overwrite = FALSE)\n",
        "\n"
      ],
      "metadata": {
        "colab": {
          "base_uri": "https://localhost:8080/",
          "height": 293
        },
        "id": "99geWf1hLGYc",
        "outputId": "3ec1f6ef-0fb2-4ed1-f9ab-33a1d695d5ec"
      },
      "execution_count": 10,
      "outputs": [
        {
          "output_type": "error",
          "ename": "ERROR",
          "evalue": "\u001b[1m\u001b[33mError\u001b[39m in `drive_download()`:\u001b[22m\n\u001b[1m\u001b[22m\u001b[33m!\u001b[39m Local `path` already exists and overwrite is `FALSE`:\n\u001b[36m•\u001b[39m \u001b[34m/content/workingfolder/utm5/lokoaka_kionakapahu.gpkg\u001b[39m\n",
          "traceback": [
            "\u001b[1m\u001b[33mError\u001b[39m in `drive_download()`:\u001b[22m\n\u001b[1m\u001b[22m\u001b[33m!\u001b[39m Local `path` already exists and overwrite is `FALSE`:\n\u001b[36m•\u001b[39m \u001b[34m/content/workingfolder/utm5/lokoaka_kionakapahu.gpkg\u001b[39m\nTraceback:\n",
            "1. drive_download(file = as_id(\"12HSKwZ4tjHA8QW4NtK945gja1RVvQjoB\"), \n .     path = \"/content/workingfolder/utm5/lokoaka_kionakapahu.gpkg\", \n .     overwrite = FALSE)",
            "2. drive_abort(c(\"Local {.arg path} already exists and overwrite is {.code FALSE}:\", \n .     bulletize(gargle_map_cli(path, \"{.path <<x>>}\"))))",
            "3. cli::cli_abort(message = message, ..., .envir = .envir)",
            "4. rlang::abort(message, ..., call = call, use_cli_format = TRUE, \n .     .frame = .frame)",
            "5. signal_abort(cnd, .file)"
          ]
        }
      ]
    },
    {
      "cell_type": "code",
      "source": [
        "# https://drive.google.com/drive/folders/1RjXItS-5s1It-oj69-WwN04hty7XDkBd?usp=drive_link\n",
        "      # load utm4 fishnets\n",
        "\n",
        "jp_folder = \"1RjXItS-5s1It-oj69-WwN04hty7XDkBd\"\n",
        "folder_id = drive_get(as_id(jp_folder)) # get folder ID\n",
        "print(folder_id) #print folder ID\n",
        "\n",
        "# Find files in the folder\n",
        "files = drive_ls(folder_id)\n",
        "\n",
        "# Loop through directories and download files inside them\n",
        "for (i in seq_along(files$name)) {\n",
        "  i_dir <- files[i, ] # Select directory\n",
        "    try({\n",
        "\n",
        "      # Download files from the directory to the specified path\n",
        "      drive_download(\n",
        "        as_id(i_dir$id[1]),\n",
        "        path = paste0('/content/workingfolder/utm4/', i_dir$name[1])\n",
        "      )\n",
        "    })\n",
        "  }"
      ],
      "metadata": {
        "id": "FnxbzQWvLzEc"
      },
      "execution_count": null,
      "outputs": []
    },
    {
      "cell_type": "code",
      "source": [
        "# https://drive.google.com/drive/folders/1n2kuDAzBOti15EIRCYVr3v-xiGX6DI5E?usp=drive_link\n",
        "      # load utm5 fishnets\n",
        "\n",
        "jp_folder = \"1n2kuDAzBOti15EIRCYVr3v-xiGX6DI5E\"\n",
        "folder_id = drive_get(as_id(jp_folder)) # get folder ID\n",
        "print(folder_id) #print folder ID\n",
        "\n",
        "# Find files in the folder\n",
        "files = drive_ls(folder_id)\n",
        "\n",
        "# Loop through directories and download files inside them\n",
        "for (i in seq_along(files$name)) {\n",
        "  i_dir <- files[i, ] # Select directory\n",
        "    try({\n",
        "\n",
        "      # Download files from the directory to the specified path\n",
        "      drive_download(\n",
        "        as_id(i_dir$id[1]),\n",
        "        path = paste0('/content/workingfolder/utm5/', i_dir$name[1])\n",
        "      )\n",
        "    })\n",
        "  }"
      ],
      "metadata": {
        "id": "Va1D8elZMC7y"
      },
      "execution_count": null,
      "outputs": []
    },
    {
      "cell_type": "code",
      "source": [
        "dir.create(\"/content/workingfolder/ccap\")\n",
        "dir.create(\"/content/workingfolder/ccap/utm4\")\n",
        "dir.create(\"/content/workingfolder/ccap/utm5\")"
      ],
      "metadata": {
        "id": "TCob2yV7NFDn"
      },
      "execution_count": null,
      "outputs": []
    },
    {
      "cell_type": "code",
      "source": [
        "# load the ccap, utm 4\n",
        "# https://drive.google.com/drive/folders/14fLGpMg2n9o6c8YmH4NSHc_ZQOC5MAuv?usp=drive_link\n",
        "jp_folder = \"14fLGpMg2n9o6c8YmH4NSHc_ZQOC5MAuv\"\n",
        "folder_id = drive_get(as_id(jp_folder)) # get folder ID\n",
        "print(folder_id) #print folder ID\n",
        "\n",
        "# Find files in the folder\n",
        "files = drive_ls(folder_id)\n",
        "\n",
        "# Loop through directories and download files inside them\n",
        "for (i in seq_along(files$name)) {\n",
        "  i_dir <- files[i, ] # Select directory\n",
        "    try({\n",
        "\n",
        "      # Download files from the directory to the specified path\n",
        "      drive_download(\n",
        "        as_id(i_dir$id[1]),\n",
        "        path = paste0('/content/workingfolder/ccap/utm4/', i_dir$name[1])\n",
        "      )\n",
        "    })\n",
        "  }"
      ],
      "metadata": {
        "id": "eU2thfA4Mf_V"
      },
      "execution_count": null,
      "outputs": []
    },
    {
      "cell_type": "code",
      "source": [
        "# load the ccap, utm 5\n",
        "# https://drive.google.com/drive/folders/1CdwnqAx3xxZ-y1ppEktXHh78MdXN8TYW?usp=drive_link\n",
        "jp_folder = \"1CdwnqAx3xxZ-y1ppEktXHh78MdXN8TYW\"\n",
        "folder_id = drive_get(as_id(jp_folder)) # get folder ID\n",
        "print(folder_id) #print folder ID\n",
        "\n",
        "# Find files in the folder\n",
        "files = drive_ls(folder_id)\n",
        "\n",
        "# Loop through directories and download files inside them\n",
        "for (i in seq_along(files$name)) {\n",
        "  i_dir <- files[i, ] # Select directory\n",
        "    try({\n",
        "\n",
        "      # Download files from the directory to the specified path\n",
        "      drive_download(\n",
        "        as_id(i_dir$id[1]),\n",
        "        path = paste0('/content/workingfolder/ccap/utm5/', i_dir$name[1])\n",
        "      )\n",
        "    })\n",
        "  }\n"
      ],
      "metadata": {
        "id": "SREMVVWtNfBq"
      },
      "execution_count": null,
      "outputs": []
    },
    {
      "cell_type": "code",
      "source": [
        "dir.create(\"/content/workingfolder/dem\")\n",
        "dir.create(\"/content/workingfolder/dem/utm4\")\n",
        "dir.create(\"/content/workingfolder/dem/utm5\")"
      ],
      "metadata": {
        "colab": {
          "base_uri": "https://localhost:8080/"
        },
        "id": "wn3UWrMCN5dA",
        "outputId": "90cb046e-a37a-4571-d13f-4259ad504703"
      },
      "execution_count": 11,
      "outputs": [
        {
          "output_type": "stream",
          "name": "stderr",
          "text": [
            "Warning message in dir.create(\"/content/workingfolder/dem\"):\n",
            "“'/content/workingfolder/dem' already exists”\n",
            "Warning message in dir.create(\"/content/workingfolder/dem/utm4\"):\n",
            "“'/content/workingfolder/dem/utm4' already exists”\n",
            "Warning message in dir.create(\"/content/workingfolder/dem/utm5\"):\n",
            "“'/content/workingfolder/dem/utm5' already exists”\n"
          ]
        }
      ]
    },
    {
      "cell_type": "code",
      "source": [
        "# load the dem, utm 4\n",
        "# https://drive.google.com/drive/folders/15nbWHXZdDOZbt9gUuB9BUPeCXc2SoivB?usp=drive_link\n",
        "jp_folder = \"15nbWHXZdDOZbt9gUuB9BUPeCXc2SoivB\"\n",
        "folder_id = drive_get(as_id(jp_folder)) # get folder ID\n",
        "print(folder_id) #print folder ID\n",
        "\n",
        "# Find files in the folder\n",
        "files = drive_ls(folder_id)\n",
        "\n",
        "# Loop through directories and download files inside them\n",
        "for (i in seq_along(files$name)) {\n",
        "  i_dir <- files[i, ] # Select directory\n",
        "    try({\n",
        "\n",
        "      # Download files from the directory to the specified path\n",
        "      drive_download(\n",
        "        as_id(i_dir$id[1]),\n",
        "        path = paste0('/content/workingfolder/dem/utm4/', i_dir$name[1])\n",
        "      )\n",
        "    })\n",
        "  }"
      ],
      "metadata": {
        "id": "XXTBmGM3N70O"
      },
      "execution_count": null,
      "outputs": []
    },
    {
      "cell_type": "code",
      "source": [
        "# load the dem, utm 5\n",
        "# https://drive.google.com/drive/folders/1i69kpClo2wDtemgit45ay3oogQXReg62?usp=drive_link\n",
        "jp_folder = \"1i69kpClo2wDtemgit45ay3oogQXReg62\"\n",
        "folder_id = drive_get(as_id(jp_folder)) # get folder ID\n",
        "print(folder_id) #print folder ID\n",
        "\n",
        "# Find files in the folder\n",
        "files = drive_ls(folder_id)\n",
        "\n",
        "# Loop through directories and download files inside them\n",
        "for (i in seq_along(files$name)) {\n",
        "  i_dir <- files[i, ] # Select directory\n",
        "    try({\n",
        "\n",
        "      # Download files from the directory to the specified path\n",
        "      drive_download(\n",
        "        as_id(i_dir$id[1]),\n",
        "        path = paste0('/content/workingfolder/dem/utm5/', i_dir$name[1])\n",
        "      )\n",
        "    })\n",
        "  }"
      ],
      "metadata": {
        "id": "oySdHSdGOEaE"
      },
      "execution_count": null,
      "outputs": []
    },
    {
      "cell_type": "code",
      "source": [
        "dir.create(\"/content/workingfolder/nlcd\")\n",
        "dir.create(\"/content/workingfolder/nlcd/utm4\")\n",
        "dir.create(\"/content/workingfolder/nlcd/utm5\")"
      ],
      "metadata": {
        "id": "cRJh9kMyOWci"
      },
      "execution_count": null,
      "outputs": []
    },
    {
      "cell_type": "code",
      "source": [
        "# load the nlcd, utm 4\n",
        "# https://drive.google.com/file/d/1KVtVRzV8j3cIhedykbEoBtHrwuB-RqwD/view?usp=drive_link\n",
        "drive_download(file = as_id('1KVtVRzV8j3cIhedykbEoBtHrwuB-RqwD'), path =  '/content/workingfolder/nlcd/utm4/nlcd_utm4.tif', overwrite = FALSE)"
      ],
      "metadata": {
        "id": "xxGWd5VuOkHE"
      },
      "execution_count": null,
      "outputs": []
    },
    {
      "cell_type": "code",
      "source": [
        "# load the nlcd, utm 4\n",
        "# https://drive.google.com/file/d/155LX_Gle2Pdm1pJ19po5J-PJEjFlC0oT/view?usp=drive_link\n",
        "drive_download(file = as_id('155LX_Gle2Pdm1pJ19po5J-PJEjFlC0oT'), path =  '/content/workingfolder/nlcd/utm5/nlcd_utm5.tif', overwrite = FALSE)"
      ],
      "metadata": {
        "id": "WZ11dsB6PDyj"
      },
      "execution_count": null,
      "outputs": []
    },
    {
      "cell_type": "code",
      "source": [
        "dir.create(\"/content/workingfolder/nwi\")\n",
        "dir.create(\"/content/workingfolder/nwi/utm4\")\n",
        "dir.create(\"/content/workingfolder/nwi/utm5\")"
      ],
      "metadata": {
        "id": "ANs7ai4KThay"
      },
      "execution_count": null,
      "outputs": []
    },
    {
      "cell_type": "code",
      "source": [
        "# load the nwi, utm 4\n",
        "# https://drive.google.com/file/d/1uKY_cwL8P_bir8T4VY3f-gKs4ZQQyYk9/view?usp=drive_link\n",
        "drive_download(file = as_id('1uKY_cwL8P_bir8T4VY3f-gKs4ZQQyYk9'), path =  '/content/workingfolder/nwi/utm4/nwi_utm4.gpkg', overwrite = FALSE)"
      ],
      "metadata": {
        "id": "eH40rbkCTkp6"
      },
      "execution_count": null,
      "outputs": []
    },
    {
      "cell_type": "code",
      "source": [
        "# https://drive.google.com/file/d/1qNqsskgMOSzMQ-2LdDaGulDXUjpaI3Jr/view?usp=drive_link\n",
        "drive_download(file = as_id('1qNqsskgMOSzMQ-2LdDaGulDXUjpaI3Jr'), path =  '/content/workingfolder/nwi/utm5/nwi_utm5.gpkg', overwrite = FALSE)"
      ],
      "metadata": {
        "id": "dwxuZDNSTwkw"
      },
      "execution_count": null,
      "outputs": []
    },
    {
      "cell_type": "markdown",
      "source": [],
      "metadata": {
        "id": "v4k3OvMXTwGW"
      }
    },
    {
      "cell_type": "markdown",
      "source": [
        "Load the clip data into a different folder"
      ],
      "metadata": {
        "id": "nX6a2ppnRjiR"
      }
    },
    {
      "cell_type": "code",
      "source": [],
      "metadata": {
        "id": "fyN5WGTxTe9O"
      },
      "execution_count": null,
      "outputs": []
    },
    {
      "cell_type": "code",
      "source": [
        "dir.create(\"/content/clipdata\")\n",
        "dir.create(\"/content/clipdata/utm4\")\n",
        "dir.create(\"/content/clipdata/utm5\")"
      ],
      "metadata": {
        "id": "paRWzJDiRmzd"
      },
      "execution_count": null,
      "outputs": []
    },
    {
      "cell_type": "code",
      "source": [
        "dir.create(\"/content/clipdata/dem\")\n",
        "dir.create(\"/content/clipdata/dem/utm4\")\n",
        "dir.create(\"/content/clipdata/dem/utm5\")"
      ],
      "metadata": {
        "id": "qqKemAaRRx-d"
      },
      "execution_count": null,
      "outputs": []
    },
    {
      "cell_type": "code",
      "source": [
        "# load the dem, utm 4\n",
        "# https://drive.google.com/drive/folders/17c3PyF3dEqWYsmHQLX4eJLIH7vi8EuLv?usp=drive_link\n",
        "jp_folder = \"17c3PyF3dEqWYsmHQLX4eJLIH7vi8EuLv\"\n",
        "folder_id = drive_get(as_id(jp_folder)) # get folder ID\n",
        "print(folder_id) #print folder ID\n",
        "\n",
        "# Find files in the folder\n",
        "files = drive_ls(folder_id)\n",
        "\n",
        "# Loop through directories and download files inside them\n",
        "for (i in seq_along(files$name)) {\n",
        "  i_dir <- files[i, ] # Select directory\n",
        "    try({\n",
        "\n",
        "      # Download files from the directory to the specified path\n",
        "      drive_download(\n",
        "        as_id(i_dir$id[1]),\n",
        "        path = paste0('/content/clipdata/dem/utm4/', i_dir$name[1])\n",
        "      )\n",
        "    })\n",
        "  }"
      ],
      "metadata": {
        "id": "gSZlIoOUR3qi"
      },
      "execution_count": null,
      "outputs": []
    },
    {
      "cell_type": "code",
      "source": [
        "dir.create(\"/content/clipdata/ccap\")\n",
        "dir.create(\"/content/clipdata/ccap/utm4\")\n",
        "dir.create(\"/content/clipdata/ccap/utm5\")"
      ],
      "metadata": {
        "id": "CbEB33gASRDJ"
      },
      "execution_count": null,
      "outputs": []
    },
    {
      "cell_type": "code",
      "source": [
        "# load the ccap, utm 4\n",
        "# https://drive.google.com/drive/folders/1VNJN0e9RK9AyqVLMctOr3jkY_di_9fIx?usp=drive_link\n",
        "jp_folder = \"1VNJN0e9RK9AyqVLMctOr3jkY_di_9fIx\"\n",
        "folder_id = drive_get(as_id(jp_folder)) # get folder ID\n",
        "print(folder_id) #print folder ID\n",
        "\n",
        "# Find files in the folder\n",
        "files = drive_ls(folder_id)\n",
        "\n",
        "# Loop through directories and download files inside them\n",
        "for (i in seq_along(files$name)) {\n",
        "  i_dir <- files[i, ] # Select directory\n",
        "    try({\n",
        "\n",
        "      # Download files from the directory to the specified path\n",
        "      drive_download(\n",
        "        as_id(i_dir$id[1]),\n",
        "        path = paste0('/content/clipdata/ccap/utm4/', i_dir$name[1])\n",
        "      )\n",
        "    })\n",
        "  }"
      ],
      "metadata": {
        "id": "Nja4L7oPSKWy"
      },
      "execution_count": null,
      "outputs": []
    },
    {
      "cell_type": "code",
      "source": [
        "dir.create(\"/content/clipdata/nlcd\")\n",
        "dir.create(\"/content/clipdata/nlcd/utm4\")\n",
        "dir.create(\"/content/clipdata/nlcd/utm5\")"
      ],
      "metadata": {
        "id": "Wu7912bsS2to"
      },
      "execution_count": null,
      "outputs": []
    },
    {
      "cell_type": "code",
      "source": [
        "# https://drive.google.com/drive/folders/1aDvPpi3ak-mt5S_7SWLCdL43GiOhLqxm?usp=drive_link\n",
        "jp_folder = \"1aDvPpi3ak-mt5S_7SWLCdL43GiOhLqxm\"\n",
        "folder_id = drive_get(as_id(jp_folder)) # get folder ID\n",
        "print(folder_id) #print folder ID\n",
        "\n",
        "# Find files in the folder\n",
        "files = drive_ls(folder_id)\n",
        "\n",
        "# Loop through directories and download files inside them\n",
        "for (i in seq_along(files$name)) {\n",
        "  i_dir <- files[i, ] # Select directory\n",
        "    try({\n",
        "\n",
        "      # Download files from the directory to the specified path\n",
        "      drive_download(\n",
        "        as_id(i_dir$id[1]),\n",
        "        path = paste0('/content/clipdata/nlcd/utm4/', i_dir$name[1])\n",
        "      )\n",
        "    })\n",
        "  }"
      ],
      "metadata": {
        "id": "vL9OH1WIS6hP"
      },
      "execution_count": null,
      "outputs": []
    },
    {
      "cell_type": "code",
      "source": [
        "dir.create(\"/content/clipdata/nwi\")\n",
        "dir.create(\"/content/clipdata/nwi/utm4\")\n",
        "dir.create(\"/content/clipdata/nwi/utm5\")"
      ],
      "metadata": {
        "id": "pW2-D_bITMSy"
      },
      "execution_count": null,
      "outputs": []
    },
    {
      "cell_type": "code",
      "source": [
        "nwi_utm4 <- st_read(\"/content/workingfolder/nwi/utm4/nwi_utm4.gpkg\")"
      ],
      "metadata": {
        "colab": {
          "base_uri": "https://localhost:8080/"
        },
        "id": "wdXsIfANUEX6",
        "outputId": "636b0e6f-e8f1-4102-d59b-02dbb47507fc"
      },
      "execution_count": 12,
      "outputs": [
        {
          "output_type": "stream",
          "name": "stdout",
          "text": [
            "Reading layer `nwi_wetlands' from data source \n",
            "  `/content/workingfolder/nwi/utm4/nwi_utm4.gpkg' using driver `GPKG'\n",
            "Simple feature collection with 10866 features and 6 fields\n",
            "Geometry type: MULTIPOLYGON\n",
            "Dimension:     XY\n",
            "Bounding box:  xmin: 412977.7 ymin: 2263072 xmax: 820600.7 ymax: 2464465\n",
            "Projected CRS: WGS 84 / UTM zone 4N\n"
          ]
        }
      ]
    },
    {
      "cell_type": "code",
      "source": [
        "nwi_utm4$wetland_ty %>% unique"
      ],
      "metadata": {
        "colab": {
          "base_uri": "https://localhost:8080/",
          "height": 34
        },
        "id": "EKltIx0rULhp",
        "outputId": "605f31cf-64fd-40be-af2b-cd278b8a5729"
      },
      "execution_count": 19,
      "outputs": [
        {
          "output_type": "display_data",
          "data": {
            "text/html": [
              "<style>\n",
              ".list-inline {list-style: none; margin:0; padding: 0}\n",
              ".list-inline>li {display: inline-block}\n",
              ".list-inline>li:not(:last-child)::after {content: \"\\00b7\"; padding: 0 .5ex}\n",
              "</style>\n",
              "<ol class=list-inline><li>'Estuarine and Marine Deepwater'</li><li>'Estuarine and Marine Wetland'</li><li>'Freshwater Emergent Wetland'</li><li>'Freshwater Forested/Shrub Wetland'</li><li>'Freshwater Pond'</li><li>'Riverine'</li><li>'Lake'</li></ol>\n"
            ],
            "text/markdown": "1. 'Estuarine and Marine Deepwater'\n2. 'Estuarine and Marine Wetland'\n3. 'Freshwater Emergent Wetland'\n4. 'Freshwater Forested/Shrub Wetland'\n5. 'Freshwater Pond'\n6. 'Riverine'\n7. 'Lake'\n\n\n",
            "text/latex": "\\begin{enumerate*}\n\\item 'Estuarine and Marine Deepwater'\n\\item 'Estuarine and Marine Wetland'\n\\item 'Freshwater Emergent Wetland'\n\\item 'Freshwater Forested/Shrub Wetland'\n\\item 'Freshwater Pond'\n\\item 'Riverine'\n\\item 'Lake'\n\\end{enumerate*}\n",
            "text/plain": [
              "[1] \"Estuarine and Marine Deepwater\"    \"Estuarine and Marine Wetland\"     \n",
              "[3] \"Freshwater Emergent Wetland\"       \"Freshwater Forested/Shrub Wetland\"\n",
              "[5] \"Freshwater Pond\"                   \"Riverine\"                         \n",
              "[7] \"Lake\"                             "
            ]
          },
          "metadata": {}
        }
      ]
    },
    {
      "cell_type": "code",
      "source": [
        "nwi_utm5 <- st_read(\"/content/workingfolder/nwi/utm5/nwi_utm5.gpkg\")"
      ],
      "metadata": {
        "colab": {
          "base_uri": "https://localhost:8080/"
        },
        "id": "DaerwufeUjNy",
        "outputId": "2d85e86d-3026-408f-e48d-ea78965682ec"
      },
      "execution_count": 14,
      "outputs": [
        {
          "output_type": "stream",
          "name": "stdout",
          "text": [
            "Reading layer `nwi_wetlands_hawaii' from data source \n",
            "  `/content/workingfolder/nwi/utm5/nwi_utm5.gpkg' using driver `GPKG'\n",
            "Simple feature collection with 2105 features and 6 fields\n",
            "Geometry type: MULTIPOLYGON\n",
            "Dimension:     XY\n",
            "Bounding box:  xmin: 173408.4 ymin: 2087445 xmax: 316047.8 ymax: 2249339\n",
            "Projected CRS: WGS 84 / UTM zone 5N\n"
          ]
        }
      ]
    },
    {
      "cell_type": "code",
      "source": [
        "nwi_utm5$wetland_ty %>% unique"
      ],
      "metadata": {
        "colab": {
          "base_uri": "https://localhost:8080/",
          "height": 34
        },
        "id": "3jGeW8EMU_iW",
        "outputId": "5908a22a-2471-4e1b-f1cf-cca8e563d80c"
      },
      "execution_count": 16,
      "outputs": [
        {
          "output_type": "display_data",
          "data": {
            "text/html": [
              "<style>\n",
              ".list-inline {list-style: none; margin:0; padding: 0}\n",
              ".list-inline>li {display: inline-block}\n",
              ".list-inline>li:not(:last-child)::after {content: \"\\00b7\"; padding: 0 .5ex}\n",
              "</style>\n",
              "<ol class=list-inline><li>'Freshwater Pond'</li><li>'Riverine'</li><li>'Estuarine and Marine Wetland'</li><li>'Freshwater Emergent Wetland'</li><li>'Freshwater Forested/Shrub Wetland'</li><li>'Estuarine and Marine Deepwater'</li><li>'Lake'</li></ol>\n"
            ],
            "text/markdown": "1. 'Freshwater Pond'\n2. 'Riverine'\n3. 'Estuarine and Marine Wetland'\n4. 'Freshwater Emergent Wetland'\n5. 'Freshwater Forested/Shrub Wetland'\n6. 'Estuarine and Marine Deepwater'\n7. 'Lake'\n\n\n",
            "text/latex": "\\begin{enumerate*}\n\\item 'Freshwater Pond'\n\\item 'Riverine'\n\\item 'Estuarine and Marine Wetland'\n\\item 'Freshwater Emergent Wetland'\n\\item 'Freshwater Forested/Shrub Wetland'\n\\item 'Estuarine and Marine Deepwater'\n\\item 'Lake'\n\\end{enumerate*}\n",
            "text/plain": [
              "[1] \"Freshwater Pond\"                   \"Riverine\"                         \n",
              "[3] \"Estuarine and Marine Wetland\"      \"Freshwater Emergent Wetland\"      \n",
              "[5] \"Freshwater Forested/Shrub Wetland\" \"Estuarine and Marine Deepwater\"   \n",
              "[7] \"Lake\"                             "
            ]
          },
          "metadata": {}
        }
      ]
    },
    {
      "cell_type": "markdown",
      "source": [
        "load the iamgery data"
      ],
      "metadata": {
        "id": "5vq3gwc4ZU29"
      }
    },
    {
      "cell_type": "code",
      "source": [
        "dir.create(\"/content/clipdata/naip\")\n",
        "dir.create(\"/content/clipdata/naip/utm4\")\n",
        "dir.create(\"/content/clipdata/naip/utm5\")"
      ],
      "metadata": {
        "id": "7TwBufwAaLFZ"
      },
      "execution_count": 39,
      "outputs": []
    },
    {
      "cell_type": "code",
      "source": [
        "# Load the naip 2022 data\n",
        "# THIS DATA IS ONLY 3 BANDS - SHOULD NOT USE THIS\n",
        "\n",
        "# https://drive.google.com/drive/folders/1vJgeZx00E8AoqhsVnN9Dq7grpKiuYNlW?usp=drive_link\n",
        "jp_folder = \"1vJgeZx00E8AoqhsVnN9Dq7grpKiuYNlW\"\n",
        "folder_id = drive_get(as_id(jp_folder)) # get folder ID\n",
        "print(folder_id) #print folder ID\n",
        "\n",
        "# Find files in the folder\n",
        "files = drive_ls(folder_id)\n",
        "\n",
        "# Loop through directories and download files inside them\n",
        "for (i in seq_along(files$name)) {\n",
        "  i_dir <- files[i, ] # Select directory\n",
        "    try({\n",
        "\n",
        "      # Download files from the directory to the specified path\n",
        "      drive_download(\n",
        "        as_id(i_dir$id[1]),\n",
        "        path = paste0('/content/clipdata/naip/utm4/', i_dir$name[1])\n",
        "      )\n",
        "    })\n",
        "  }"
      ],
      "metadata": {
        "id": "4tXTHzbXaTO4"
      },
      "execution_count": null,
      "outputs": []
    },
    {
      "cell_type": "code",
      "source": [
        "dir.create(\"/content/workingfolder/naip\")\n",
        "dir.create(\"/content/workingfolder/naip/utm4\")\n",
        "dir.create(\"/content/workingfolder/naip/utm5\")"
      ],
      "metadata": {
        "id": "GWZJahX3cFmf"
      },
      "execution_count": null,
      "outputs": []
    },
    {
      "cell_type": "code",
      "source": [
        "# load the naip tiles\n",
        "# https://drive.google.com/drive/folders/1-08yCPufLF9TbgAjvs6eORE6wVOSh8TM?usp=drive_link\n",
        "jp_folder = \"1-08yCPufLF9TbgAjvs6eORE6wVOSh8TM\"\n",
        "folder_id = drive_get(as_id(jp_folder)) # get folder ID\n",
        "print(folder_id) #print folder ID\n",
        "\n",
        "# Find files in the folder\n",
        "files = drive_ls(folder_id)\n",
        "\n",
        "# Loop through directories and download files inside them\n",
        "for (i in seq_along(files$name)) {\n",
        "  i_dir <- files[i, ] # Select directory\n",
        "    try({\n",
        "\n",
        "      # Download files from the directory to the specified path\n",
        "      drive_download(\n",
        "        as_id(i_dir$id[1]),\n",
        "        path = paste0('/content/clipdata/naip/utm4/', i_dir$name[1])\n",
        "      )\n",
        "    })\n",
        "  }"
      ],
      "metadata": {
        "id": "Gv6SBldccFjt"
      },
      "execution_count": null,
      "outputs": []
    },
    {
      "cell_type": "code",
      "source": [
        "st_crs(nwi_utm4) # WGS 84 / UTM zone 4N\n",
        "st_crs(nwi_utm5) # WGS 84 / UTM zone 5N"
      ],
      "metadata": {
        "id": "BF5CGF5vXLq7"
      },
      "execution_count": null,
      "outputs": []
    },
    {
      "cell_type": "code",
      "source": [
        "anahola_fishnet <- st_read(\"/content/workingfolder/utm4/anahola.gpkg\")"
      ],
      "metadata": {
        "id": "eRga2Y0_XlMJ"
      },
      "execution_count": null,
      "outputs": []
    },
    {
      "cell_type": "markdown",
      "source": [
        "looking at the clip data"
      ],
      "metadata": {
        "id": "oW93Qd6eY3a0"
      }
    },
    {
      "cell_type": "code",
      "source": [
        "st_crs(anahola_fishnet) # NAD83 / UTM zone 4N"
      ],
      "metadata": {
        "id": "oemU0p4SXr_I"
      },
      "execution_count": null,
      "outputs": []
    },
    {
      "cell_type": "code",
      "source": [
        "anahola_ccap <- raster(\"/content/clipdata/ccap/utm4/anahola.tif\")\n",
        "anahola_ccap_crs <- proj4string(anahola_ccap)\n",
        "anahola_ccap_crs # '+proj=utm +zone=4 +datum=NAD83 +units=m +no_defs'"
      ],
      "metadata": {
        "id": "58duXpMRYPgm"
      },
      "execution_count": 27,
      "outputs": []
    },
    {
      "cell_type": "code",
      "source": [
        "extent(anahola_fishnet)"
      ],
      "metadata": {
        "colab": {
          "base_uri": "https://localhost:8080/",
          "height": 108
        },
        "id": "OWBZM5siZb3B",
        "outputId": "56e2bb13-c37d-4d76-fc56-e50ab629b7ca"
      },
      "execution_count": 33,
      "outputs": [
        {
          "output_type": "display_data",
          "data": {
            "text/plain": [
              "class      : Extent \n",
              "xmin       : 467437.8 \n",
              "xmax       : 470202.6 \n",
              "ymin       : 2447514 \n",
              "ymax       : 2449818 "
            ]
          },
          "metadata": {}
        }
      ]
    },
    {
      "cell_type": "code",
      "source": [
        "extent(anahola_ccap)"
      ],
      "metadata": {
        "colab": {
          "base_uri": "https://localhost:8080/",
          "height": 108
        },
        "id": "hevmX5oRZfhW",
        "outputId": "ba3a4da2-e203-4e09-afa4-9ef8961cf249"
      },
      "execution_count": 34,
      "outputs": [
        {
          "output_type": "display_data",
          "data": {
            "text/plain": [
              "class      : Extent \n",
              "xmin       : 467443.2 \n",
              "xmax       : 470193.6 \n",
              "ymin       : 2447516 \n",
              "ymax       : 2449763 "
            ]
          },
          "metadata": {}
        }
      ]
    },
    {
      "cell_type": "code",
      "source": [
        "anahola_dem <- raster (\"/content/clipdata/dem/utm4/anahola.tif\")\n",
        "anahola_dem_crs <- proj4string(anahola_dem)\n",
        "anahola_dem_crs # '+proj=longlat +datum=NAD83 +no_defs'"
      ],
      "metadata": {
        "id": "IRiQvJLZYYLe"
      },
      "execution_count": null,
      "outputs": []
    },
    {
      "cell_type": "code",
      "source": [
        "extent(anahola_dem)"
      ],
      "metadata": {
        "colab": {
          "base_uri": "https://localhost:8080/",
          "height": 108
        },
        "id": "DwENHP0IZiox",
        "outputId": "4989142a-a056-488c-8d42-d37b3a5e9dd6"
      },
      "execution_count": 36,
      "outputs": [
        {
          "output_type": "display_data",
          "data": {
            "text/plain": [
              "class      : Extent \n",
              "xmin       : -159.3157 \n",
              "xmax       : -159.289 \n",
              "ymin       : 22.13247 \n",
              "ymax       : 22.15277 "
            ]
          },
          "metadata": {}
        }
      ]
    },
    {
      "cell_type": "code",
      "source": [
        "anahola_nlcd <- raster (\"/content/clipdata/nlcd/utm4/nlcd_anahola.tif\")\n",
        "anahola_nlcd_crs <- proj4string(anahola_nlcd)\n",
        "anahola_nlcd_crs # '+proj=utm +zone=4 +datum=WGS84 +units=m +no_defs'"
      ],
      "metadata": {
        "id": "iJ-ZGIbqYmkn"
      },
      "execution_count": null,
      "outputs": []
    },
    {
      "cell_type": "code",
      "source": [
        "extent(anahola_nlcd)"
      ],
      "metadata": {
        "colab": {
          "base_uri": "https://localhost:8080/",
          "height": 108
        },
        "id": "hGhRIJGjZl5j",
        "outputId": "ed946724-7242-405c-95aa-901ecc11e2c1"
      },
      "execution_count": 38,
      "outputs": [
        {
          "output_type": "display_data",
          "data": {
            "text/plain": [
              "class      : Extent \n",
              "xmin       : 467439.3 \n",
              "xmax       : 470192.8 \n",
              "ymin       : 2447515 \n",
              "ymax       : 2449764 "
            ]
          },
          "metadata": {}
        }
      ]
    },
    {
      "cell_type": "code",
      "source": [],
      "metadata": {
        "id": "mlb_qy7zYtjD"
      },
      "execution_count": null,
      "outputs": []
    },
    {
      "cell_type": "code",
      "source": [
        "lokoaka_fishnet <- st_read(\"/content/workingfolder/utm5/lokoaka_kionakapahu.gpkg\")"
      ],
      "metadata": {
        "id": "WeV3QiUgX1Bs"
      },
      "execution_count": null,
      "outputs": []
    },
    {
      "cell_type": "code",
      "source": [
        "st_crs(lokoaka_fishnet) # NAD83 / UTM zone 5N"
      ],
      "metadata": {
        "id": "WP2hhQbZX9H6"
      },
      "execution_count": null,
      "outputs": []
    },
    {
      "cell_type": "markdown",
      "source": [
        "# previous work"
      ],
      "metadata": {
        "id": "JeCSwPvEK2R_"
      }
    },
    {
      "cell_type": "code",
      "source": [
        "# stack planet data by year.\n",
        "dir.create(\"/content/planet_input\")"
      ],
      "metadata": {
        "id": "6yNcDqKMR3J6"
      },
      "execution_count": null,
      "outputs": []
    },
    {
      "cell_type": "code",
      "source": [
        "dir.create(\"/content/planet_input/lokoaka_kionakapahu_2018\")"
      ],
      "metadata": {
        "id": "fqfAW_NZSojy"
      },
      "execution_count": null,
      "outputs": []
    },
    {
      "cell_type": "code",
      "source": [
        "# download planet data one by one for each aoi for each year (2018, 2019, and 2020)\n",
        "# https://drive.google.com/file/d//view?usp=drive_link,\n",
        "# https://drive.google.com/file/d//view?usp=drive_link,\n",
        "# https://drive.google.com/file/d//view?usp=drive_link,\n",
        "# https://drive.google.com/file/d//view?usp=drive_link,\n",
        "# https://drive.google.com/file/d//view?usp=drive_link,\n",
        "# https://drive.google.com/file/d//view?usp=drive_link\n",
        "\n",
        "drive_download(file = as_id('19U7YFEoeO_vl9JqIdw06C-3PStZlCa4T'), path =  '/content/planet_input/lokoaka_kionakapahu_2018/01.tif', overwrite = TRUE)\n",
        "drive_download(file = as_id('19GZwmpOrh8GiryPGAbnyMExuJhGcVQUd'), path =  '/content/planet_input/lokoaka_kionakapahu_2018/02.tif', overwrite = TRUE)\n",
        "drive_download(file = as_id('19c2MnxXeigighWQthjrN2vBAmR9ruwnT'), path =  '/content/planet_input/lokoaka_kionakapahu_2018/03.tif', overwrite = TRUE)\n",
        "drive_download(file = as_id('19DJ1fHfN0U9LR4wqIBgR2RaCvMTXqUbI'), path =  '/content/planet_input/lokoaka_kionakapahu_2018/04.tif', overwrite = TRUE)\n",
        "drive_download(file = as_id('19QU_LyTZrju5N_wsXpBtE3Ee6zox2N96'), path =  '/content/planet_input/lokoaka_kionakapahu_2018/05.tif', overwrite = TRUE)\n",
        "drive_download(file = as_id('19Pfg1C-9KhofJaUxLkafFgtxA-HMjfcY'), path =  '/content/planet_input/lokoaka_kionakapahu_2018/06.tif', overwrite = TRUE)\n"
      ],
      "metadata": {
        "id": "InZrE6fMR--a"
      },
      "execution_count": null,
      "outputs": []
    },
    {
      "cell_type": "code",
      "source": [
        "lokoaka_kionakapahu_2018 <- stack(\n",
        "  \"/content/planet_input/lokoaka_kionakapahu_2018/01.tif\",\n",
        "  \"/content/planet_input/lokoaka_kionakapahu_2018/02.tif\",\n",
        "  \"/content/planet_input/lokoaka_kionakapahu_2018/03.tif\",\n",
        "  \"/content/planet_input/lokoaka_kionakapahu_2018/04.tif\",\n",
        "  \"/content/planet_input/lokoaka_kionakapahu_2018/05.tif\",\n",
        "  \"/content/planet_input/lokoaka_kionakapahu_2018/06.tif\"\n",
        ")"
      ],
      "metadata": {
        "id": "PYhDOZnpTQ0w"
      },
      "execution_count": null,
      "outputs": []
    },
    {
      "cell_type": "code",
      "source": [
        "lokoaka_kionakapahu_2018%>% plot"
      ],
      "metadata": {
        "id": "pgr5bBojTivX"
      },
      "execution_count": null,
      "outputs": []
    },
    {
      "cell_type": "code",
      "source": [
        "dir.create(\"/content/planet_output\")"
      ],
      "metadata": {
        "id": "T7Wp4UOeU8pK"
      },
      "execution_count": null,
      "outputs": []
    },
    {
      "cell_type": "code",
      "source": [
        "# Assuming 'lokoaka_kionakapahu_2018' is your RasterStack\n",
        "output_file_path <- '/content/planet_output/lokoaka_kionakapahu_2018.tif'\n",
        "\n",
        "# Save the raster stack as a TIFF\n",
        "writeRaster(lokoaka_kionakapahu_2018, filename = output_file_path, format = 'GTiff', overwrite = TRUE)"
      ],
      "metadata": {
        "id": "-q-YV9BNUtTT"
      },
      "execution_count": null,
      "outputs": []
    },
    {
      "cell_type": "code",
      "source": [
        "# Assuming 'lokoaka_kionakapahu_2018' is your RasterStack\n",
        "metadata <- data.frame(\n",
        "  names = names(lokoaka_kionakapahu_2018),\n",
        "  resolution_x = xres(lokoaka_kionakapahu_2018),\n",
        "  resolution_y = yres(lokoaka_kionakapahu_2018),\n",
        "  extent = as.vector(extent(lokoaka_kionakapahu_2018)),\n",
        "  crs = projection(lokoaka_kionakapahu_2018)\n",
        ")\n",
        "\n",
        "# Save the metadata to a CSV file in your Google Drive path\n",
        "csv_output_path <- '/content/planet_output/lokoaka_kionakapahu_2018_metadata.csv'\n",
        "write.csv(metadata, csv_output_path, row.names = FALSE)"
      ],
      "metadata": {
        "id": "3EwLkHPKVMyV"
      },
      "execution_count": null,
      "outputs": []
    },
    {
      "cell_type": "code",
      "source": [
        "dir.create(\"/content/planet_2019\")"
      ],
      "metadata": {
        "id": "9wSXxSd2br6u"
      },
      "execution_count": null,
      "outputs": []
    },
    {
      "cell_type": "code",
      "source": [
        "# Assuming 'jp_folder' is your Google Drive folder ID\n",
        "# planet hawaii 2019 link\n",
        "# # https://drive.google.com/drive/folders/?usp=drive_link\n",
        "jp_folder <- \"1XcObigXcr0XD1EJOfP3iAUHErDvwXmhA\"\n",
        "folder_id <- drive_get(as_id(jp_folder))\n",
        "print(folder_id)\n",
        "\n",
        "# Find files in the folder\n",
        "files <- drive_ls(folder_id)\n",
        "\n",
        "# Loop through the files and download them into their respective directories\n",
        "for (i in seq_along(files$name)) {\n",
        "  # Extract the first part of the name before the first underscore\n",
        "  file_name_parts <- str_split(files$name[i], pattern = \"_\", n = 2)\n",
        "  folder_name <- file_name_parts[[1]][1]  # Take the first part of the split\n",
        "\n",
        "  # Create the directory path\n",
        "  dir_path <- paste0('/content/planet_2019/', folder_name)\n",
        "\n",
        "  # Check if the directory exists, if not, create it\n",
        "  if (!dir.exists(dir_path)) {\n",
        "    dir.create(dir_path, recursive = TRUE)\n",
        "  }\n",
        "\n",
        "  # Define the download path including the directory\n",
        "  download_path <- file.path(dir_path, files$name[i])\n",
        "\n",
        "  # Download the file into the specified directory\n",
        "  try({\n",
        "    drive_download(as_id(files$id[i]), path = download_path)\n",
        "  }, silent = TRUE) # Using silent = TRUE to suppress warnings in case of errors\n",
        "}"
      ],
      "metadata": {
        "id": "vWBKIUkIbexq"
      },
      "execution_count": null,
      "outputs": []
    },
    {
      "cell_type": "code",
      "source": [
        "lokoaka_kionakapahu_2019 <- stack(\n",
        "  \"/content/planet_2019/lokoaka/lokoaka_kionakapahu_2019-01-24.tif\",\n",
        "  \"/content/planet_2019/lokoaka/lokoaka_kionakapahu_2019-02-16.tif\",\n",
        "  \"/content/planet_2019/lokoaka/lokoaka_kionakapahu_2019-04-07.tif\",\n",
        "  \"/content/planet_2019/lokoaka/lokoaka_kionakapahu_2019-05-10.tif\"\n",
        ")"
      ],
      "metadata": {
        "id": "x4Sjr-RfYbXX"
      },
      "execution_count": null,
      "outputs": []
    },
    {
      "cell_type": "code",
      "source": [
        "# Define the directory containing your TIFF files\n",
        "tiff_directory <- \"/content/planet_2019/lokoaka/\"\n",
        "\n",
        "# Get a list of all TIFF files in the directory\n",
        "tiff_files <- list.files(path = tiff_directory, pattern = \"\\\\.tif$\", full.names = TRUE)\n",
        "\n",
        "# Stack all TIFF files\n",
        "lokoaka_kionakapahu_2019 <- stack(tiff_files)\n"
      ],
      "metadata": {
        "id": "AhmKaHCDdQ5c"
      },
      "execution_count": null,
      "outputs": []
    },
    {
      "cell_type": "code",
      "source": [
        "lokoaka_kionakapahu_2019"
      ],
      "metadata": {
        "id": "S8Oefma4Yq70"
      },
      "execution_count": null,
      "outputs": []
    },
    {
      "source": [
        "lokoaka_kionakapahu_2019%>% plot"
      ],
      "cell_type": "code",
      "metadata": {
        "id": "MSsoawXRgNij"
      },
      "execution_count": null,
      "outputs": []
    },
    {
      "cell_type": "code",
      "source": [
        "# Define the directory containing your TIFF files\n",
        "tiff_directory <- \"/content/planet_2019/pololu/\"\n",
        "\n",
        "# Get a list of all TIFF files in the directory\n",
        "tiff_files <- list.files(path = tiff_directory, pattern = \"\\\\.tif$\", full.names = TRUE)\n",
        "\n",
        "# Stack all TIFF files\n",
        "pololu_2019 <- stack(tiff_files)\n"
      ],
      "metadata": {
        "id": "II51TaFwhivG"
      },
      "execution_count": null,
      "outputs": []
    },
    {
      "cell_type": "code",
      "source": [
        "st_crs(pololu_2019)"
      ],
      "metadata": {
        "id": "fORBGh_BhpwC"
      },
      "execution_count": null,
      "outputs": []
    },
    {
      "cell_type": "code",
      "source": [],
      "metadata": {
        "id": "GJAf49DYio4O"
      },
      "execution_count": null,
      "outputs": []
    },
    {
      "cell_type": "code",
      "source": [
        "# output_file_path <- '/content/planet_output/lokoaka_kionakapahu_2019.tif'\n",
        "\n",
        "# writeRaster(lokoaka_kionakapahu_2019, filename = output_file_path, format = 'GTiff', overwrite = TRUE)\n",
        "\n",
        "# metadata <- data.frame(\n",
        "#   names = names(lokoaka_kionakapahu_2019),\n",
        "#   resolution_x = xres(lokoaka_kionakapahu_2019),\n",
        "#   resolution_y = yres(lokoaka_kionakapahu_2019),\n",
        "#   extent = as.vector(extent(lokoaka_kionakapahu_2019)),\n",
        "#   crs = projection(lokoaka_kionakapahu_2019)\n",
        "# )\n",
        "\n",
        "# # Save the metadata to a CSV file in your Google Drive path\n",
        "# csv_output_path <- '/content/planet_output/lokoaka_kionakapahu_2019_metadata.csv'\n",
        "# write.csv(metadata, csv_output_path, row.names = FALSE)"
      ],
      "metadata": {
        "id": "5pQTO-hzYuwa"
      },
      "execution_count": null,
      "outputs": []
    },
    {
      "cell_type": "code",
      "source": [
        "# # save stacked files to drive\n",
        "# # https://drive.google.com/drive/folders/1wcc5PdfUOzsWyrGywUamY3m--44OJl16?usp=drive_link planet_hawaii folder\n",
        "# drive_upload(media = \"/content/planet_output/waipio_2018_metadata.csv\", path = as_id(\"1wcc5PdfUOzsWyrGywUamY3m--44OJl16\"))"
      ],
      "metadata": {
        "id": "BTPAiXT0Z20k"
      },
      "execution_count": null,
      "outputs": []
    },
    {
      "cell_type": "markdown",
      "source": [
        "tbd"
      ],
      "metadata": {
        "id": "6TDoX9iSTO4O"
      }
    },
    {
      "cell_type": "code",
      "source": [
        "dir.create('input_data')"
      ],
      "metadata": {
        "id": "-ym7fQdu7usu"
      },
      "execution_count": null,
      "outputs": []
    },
    {
      "cell_type": "code",
      "source": [
        "# what is this? it's in the \"nwi_hawaii\" folder, but it's name is \"naip tile index hawaii...\"\n",
        "# https://drive.google.com/file/d/1vwocGJQjyrHXp27GN4wo-TgUJVWNkpeW/view?usp=drive_link\n",
        "drive_download(file = as_id(\"1vwocGJQjyrHXp27GN4wo-TgUJVWNkpeW\"),\n",
        "path = \"/content/input_data/hawaii_naip_tileindex.gpkg\", overwrite = FALSE)\n",
        "hawaii_naip_tileindex = st_read(\"/content/input_data/hawaii_naip_tileindex.gpkg\")\n",
        "hawaii_naip_tileindex\n",
        "\n",
        "# if this is a tile index for just hawaii island, rename it and read it for the code below = NAIP tile index\n",
        "# I need this to tell me which naip data tiles to download from NOAA. they need to overlap with the\n",
        "# https://drive.google.com/file/d/1klsckpbR73H4-2lj4Pi_4cyvQlU6dFbc/view?usp=drive_link (AOI Wetlands hawaii island)"
      ],
      "metadata": {
        "id": "DXOgAlzl8R-h"
      },
      "execution_count": null,
      "outputs": []
    },
    {
      "cell_type": "code",
      "source": [
        "# AOI wetland shapefiles for Hawaii Island\n",
        "# download, name it.\n",
        "# https://drive.google.com/file/d/1klsckpbR73H4-2lj4Pi_4cyvQlU6dFbc/view?usp=drive_link\n",
        "drive_download(file = as_id(\"1klsckpbR73H4-2lj4Pi_4cyvQlU6dFbc\"),\n",
        "path = \"/content/input_data/hawaii_aoi_wetlands.gpkg\", overwrite = FALSE)\n",
        "hawaii_aoi_wetlands = st_read(\"/content/input_data/hawaii_aoi_wetlands.gpkg\")\n",
        "hawaii_aoi_wetlands"
      ],
      "metadata": {
        "id": "4GxqpRFO7whm"
      },
      "execution_count": null,
      "outputs": []
    },
    {
      "cell_type": "code",
      "source": [
        "hawaii_aoi_wetlands = st_read(\"/content/input_data/hawaii_aoi_wetlands.gpkg\")\n",
        "hawaii_aoi_wetlands"
      ],
      "metadata": {
        "id": "opF6Kug8vUwT"
      },
      "execution_count": null,
      "outputs": []
    },
    {
      "cell_type": "code",
      "source": [
        "# check the crs of hawaii_naip_tileindex and hawaii_aoi_wetlands\n",
        "st_crs(hawaii_aoi_wetlands) #   User input: WGS 84 / UTM zone 5N"
      ],
      "metadata": {
        "id": "1TCCptJwE5cC"
      },
      "execution_count": null,
      "outputs": []
    },
    {
      "cell_type": "code",
      "source": [
        "st_crs(hawaii_naip_tileindex) #  User input: WGS 84 / UTM zone 5N"
      ],
      "metadata": {
        "id": "QY6RXokqFYd-"
      },
      "execution_count": null,
      "outputs": []
    },
    {
      "cell_type": "code",
      "source": [
        "# Transform CRS of the entire wetlands dataset to match hawaii_naip\n",
        "# wetlands_transformed <- st_transform(wetlands_gpkg, st_crs(hawaii_naip))"
      ],
      "metadata": {
        "id": "jJRhnk7mFHmP"
      },
      "execution_count": null,
      "outputs": []
    },
    {
      "cell_type": "code",
      "source": [
        "#"
      ],
      "metadata": {
        "id": "M7X0umD0i4Ld"
      },
      "execution_count": null,
      "outputs": []
    },
    {
      "cell_type": "code",
      "source": [
        "# Find the naip .tif files that overlap with Hawaii Island AOI wetland shapefile\n",
        "overlap_bw_naip_aoi <- hawaii_naip_tileindex %>% st_intersection(hawaii_aoi_wetlands)"
      ],
      "metadata": {
        "id": "P3ywuRNeEiBk"
      },
      "execution_count": null,
      "outputs": []
    },
    {
      "cell_type": "code",
      "source": [
        "# How many unique naip .tif files exist that overlap with Hawaii Island AOIs (there's 4 aois)\n",
        "overlap_bw_naip_aoi %>% unique %>% length"
      ],
      "metadata": {
        "id": "XJcoCi7_EctA"
      },
      "execution_count": null,
      "outputs": []
    },
    {
      "cell_type": "code",
      "source": [
        "# what does the overlap data table look like?\n",
        "overlap_bw_naip_aoi[,] %>% data.table()"
      ],
      "metadata": {
        "id": "Iolmp8f3GPW7"
      },
      "execution_count": null,
      "outputs": []
    },
    {
      "cell_type": "code",
      "source": [
        "class(overlap_bw_naip_aoi)\n",
        "class(hawaii_naip_tileindex)\n",
        "class(hawaii_aoi_wetlands)"
      ],
      "metadata": {
        "id": "7br9LVQ8wfV_"
      },
      "execution_count": null,
      "outputs": []
    },
    {
      "cell_type": "code",
      "source": [
        "# Make a cluster so that it's faster\n",
        "# Download the unique number of naip .tif files from the NOAA website and save to a local folder\n",
        "\n",
        "# dir.create(\"/content/hawaii_naip_tiles\")\n",
        "\n",
        "# cl <- makeCluster(8)\n",
        "\n",
        "\n",
        "# 1:nrow(overlap_bw_naip_aoi) %>%\n",
        "#   parLapply(cl,.,function(x,overlap_bw_naip_aoi){\n",
        "#   x_dt <- overlap_bw_naip_aoi[x,]\n",
        "#   download.file(x_dt$url, paste0('/content/hawaii_naip_tiles/',x_dt$location,sep='') )\n",
        "#   },overlap_bw_naip_aoi)\n",
        "\n",
        "\n",
        "# stopCluster(cl)"
      ],
      "metadata": {
        "id": "PbCQK2NNGrOV"
      },
      "execution_count": null,
      "outputs": []
    },
    {
      "cell_type": "code",
      "source": [
        "# Quick, before you forget and close the tab - zip the naip .tif files\n",
        "# Upload the zip folder to google drive\n",
        "# https://drive.google.com/drive/folders/1HsO3kKpawRzhrkzJfuOJU0WZNzIE91CK?usp=drive_link\n",
        "\n",
        "# # zip(zipfile = 'testZip', files = 'testDir/test.csv') #make this work\n",
        "# zip(zipfile = \"/content/hawaii_naip_tiles.zip\",\n",
        "#     files = c(\"/content/hawaii_naip_tiles\"))\n",
        "\n",
        "# drive_upload(media = \"/content/hawaii_naip_tiles.zip\", path = as_id(\"1HsO3kKpawRzhrkzJfuOJU0WZNzIE91CK\"))\n"
      ],
      "metadata": {
        "id": "ciknRfurHzyH"
      },
      "execution_count": null,
      "outputs": []
    },
    {
      "cell_type": "code",
      "source": [
        "# lokoaka_kionakapahu_2018\n",
        "# lokoaka_kionakapahu_2019\n",
        "\n",
        "# pololu_2018\n",
        "# pololu_2019\n",
        "\n",
        "# waimanu_2018\n",
        "\n",
        "# waipio_2018\n"
      ],
      "metadata": {
        "id": "vLwVjGOHiKQB"
      },
      "execution_count": null,
      "outputs": []
    },
    {
      "cell_type": "code",
      "source": [
        "# Add the DEM (tif), CCAP(tif), NCLD(tif), and NWI(gpkg)\n",
        "# clip each of these to each of the naip tiles...?"
      ],
      "metadata": {
        "id": "fdTLnFVJDp_L"
      },
      "execution_count": null,
      "outputs": []
    },
    {
      "cell_type": "code",
      "source": [
        "dir.create(\"/content/dem\")"
      ],
      "metadata": {
        "id": "odmMw8M71eTr"
      },
      "execution_count": null,
      "outputs": []
    },
    {
      "cell_type": "code",
      "source": [
        "\n",
        "\n",
        "# DEM (tif) for Hawaii Island\n",
        "# https://drive.google.com/file/d/1YVeXmyBKJdxvY1-msKWw1zSEtsqHYhft/view?usp=drive_link\n",
        "drive_download(file = as_id(\"1YVeXmyBKJdxvY1-msKWw1zSEtsqHYhft\"),\n",
        "path = \"/content/dem/hawaii_10m.tif\", overwrite = TRUE)"
      ],
      "metadata": {
        "id": "aFXOBrZGD1FQ"
      },
      "execution_count": null,
      "outputs": []
    },
    {
      "cell_type": "code",
      "source": [
        "dem_raster <- raster(\"/content/dem/hawaii_10m.tif\")"
      ],
      "metadata": {
        "id": "kZcA3xPoFQ1D"
      },
      "execution_count": null,
      "outputs": []
    },
    {
      "cell_type": "code",
      "source": [
        "dem_raster"
      ],
      "metadata": {
        "id": "4KQ2evd1FZZf"
      },
      "execution_count": null,
      "outputs": []
    },
    {
      "cell_type": "code",
      "source": [
        "dem_raster%>% plot"
      ],
      "metadata": {
        "id": "ShJTuiB9Fh94"
      },
      "execution_count": null,
      "outputs": []
    },
    {
      "cell_type": "code",
      "source": [
        "dem_gpkg <-\n",
        "\"/content/dem\" %>%\n",
        "  list.files(pattern='*.tif', full.names = T) %>%\n",
        "  # lapply(stack) %>%\n",
        "  # lapply(extent) %>%\n",
        "  lapply(function(x){\n",
        "    x_tif <- x %>% stack\n",
        "    x_gpkg <- x_tif %>% extent %>% as('SpatialPolygons') %>% st_as_sf(crs = st_crs(x_tif))\n",
        "    x_gpkg$path <- x\n",
        "    st_crs(x_gpkg) <- st_crs(x_tif)\n",
        "    x_gpkg %>% data.table %>% return\n",
        "    }) %>%\n",
        "  rbindlist()"
      ],
      "metadata": {
        "id": "KRzA3H9AKoWG"
      },
      "execution_count": null,
      "outputs": []
    },
    {
      "cell_type": "code",
      "source": [
        "dir.create(\"/content/output\")"
      ],
      "metadata": {
        "id": "b5aC7Hxc2P_K"
      },
      "execution_count": null,
      "outputs": []
    },
    {
      "cell_type": "code",
      "source": [
        "# Assuming 'lokoaka_kionakapahu_2018' is your RasterStack\n",
        "output_file_path <- '/content/output/'\n",
        "\n",
        "# Save the raster stack as a TIFF\n",
        "writeRaster(dem_raster, filename = output_file_path, format = 'GTiff', overwrite = TRUE)"
      ],
      "metadata": {
        "id": "TuCAc3w_2H44"
      },
      "execution_count": null,
      "outputs": []
    },
    {
      "cell_type": "code",
      "source": [
        "# dem_raster_crs <- rast()\n",
        "crs(dem_raster)\n",
        "crs(dem_raster) <- \"epsg:32605\""
      ],
      "metadata": {
        "id": "vAj5-FvyLNVw"
      },
      "execution_count": null,
      "outputs": []
    },
    {
      "cell_type": "code",
      "source": [
        "st_write(\"\")"
      ],
      "metadata": {
        "id": "p8zNWOWk1vON"
      },
      "execution_count": null,
      "outputs": []
    },
    {
      "cell_type": "code",
      "source": [
        "extent(lokoaka_kionakapahu_2018)"
      ],
      "metadata": {
        "id": "rbg3_k_XjWZ1"
      },
      "execution_count": null,
      "outputs": []
    },
    {
      "cell_type": "code",
      "source": [
        "extent(dem_raster) #  User input: +proj=utm +zone=5 +datum=WGS84 +units=m +no_defs"
      ],
      "metadata": {
        "id": "FwNlax-WLkh9"
      },
      "execution_count": null,
      "outputs": []
    },
    {
      "cell_type": "code",
      "source": [
        "# library(raster)\n",
        "\n",
        "# Load the DEM raster\n",
        "dem_raster <- raster(\"/content/dem/hawaii_10m.tif\")\n",
        "\n",
        "# Load the RasterStack to match the CRS\n",
        "lokoaka_kionakapahu_2018 <- stack(\"/content/planet_output/lokoaka_kionakapahu_2018.tif\")\n",
        "\n",
        "# Reproject the DEM raster to match the CRS of the RasterStack\n",
        "dem_raster_projected <- projectRaster(dem_raster, crs=crs(lokoaka_kionakapahu_2018))\n"
      ],
      "metadata": {
        "id": "vKrSfwtVlsO7"
      },
      "execution_count": null,
      "outputs": []
    },
    {
      "cell_type": "code",
      "source": [
        "# Get the extent of the RasterStack\n",
        "raster_stack_extent <- extent(lokoaka_kionakapahu_2018)\n",
        "\n",
        "# Clip the reprojected DEM to the extent of the RasterStack\n",
        "dem_clipped <- crop(dem_raster_projected, raster_stack_extent)\n",
        "\n",
        "# Save the clipped DEM to a new file\n",
        "output_file_path <- \"/content/clipping/2018/lokoaka_kionakapahu_2018_dem_clipped.tif\"\n",
        "writeRaster(dem_clipped, filename=output_file_path, format=\"GTiff\", overwrite=TRUE)\n"
      ],
      "metadata": {
        "id": "J09u9IV9nUCW"
      },
      "execution_count": null,
      "outputs": []
    },
    {
      "cell_type": "code",
      "source": [
        "extent(dem_clipped)"
      ],
      "metadata": {
        "id": "h2XUYT0Dnl8M"
      },
      "execution_count": null,
      "outputs": []
    },
    {
      "cell_type": "code",
      "source": [
        "dem_raster %>% plot"
      ],
      "metadata": {
        "id": "B97xq5xwvdxR"
      },
      "execution_count": null,
      "outputs": []
    },
    {
      "cell_type": "code",
      "source": [
        "dem_clipped %>% plot"
      ],
      "metadata": {
        "id": "fVnVne2xvLh8"
      },
      "execution_count": null,
      "outputs": []
    },
    {
      "cell_type": "code",
      "source": [
        "lokoaka_kionakapahu_2018 %>% plot"
      ],
      "metadata": {
        "id": "3KF6dkQevPcY"
      },
      "execution_count": null,
      "outputs": []
    },
    {
      "cell_type": "markdown",
      "source": [
        "tbd\n"
      ],
      "metadata": {
        "id": "d5tjbh3yjxD5"
      }
    },
    {
      "cell_type": "code",
      "source": [
        "dir.create(\"/content/ccap\")"
      ],
      "metadata": {
        "id": "Mkr46xMMF-4W"
      },
      "execution_count": null,
      "outputs": []
    },
    {
      "cell_type": "code",
      "source": [
        "# CCAP (tif) for Hawaii Island\n",
        "# https://drive.google.com/drive/folders/1CdwnqAx3xxZ-y1ppEktXHh78MdXN8TYW?usp=drive_link\n",
        "jp_folder = \"1CdwnqAx3xxZ-y1ppEktXHh78MdXN8TYW\"\n",
        "folder_id = drive_get(as_id(jp_folder))\n",
        "print(folder_id)\n",
        "#find files in folder\n",
        "files = drive_ls(folder_id)\n",
        "\n",
        "#loop dirs and download files inside them\n",
        "for (i in seq_along(files$name)) {\n",
        "\n",
        "  i_dir <- files[i, ]\n",
        "    try({\n",
        "      drive_download(\n",
        "        as_id(i_dir$id[1]),\n",
        "        path = paste0('/content/ccap/', i_dir$name[1])\n",
        "      )\n",
        "    })\n",
        "  }"
      ],
      "metadata": {
        "id": "cJYdfnrvFuxK"
      },
      "execution_count": null,
      "outputs": []
    },
    {
      "cell_type": "code",
      "source": [
        "hawaii_ccap_2010_01 <- raster(\"/content/ccap/hawaii_ccap_2010_01.tif\")\n",
        "hawaii_ccap_2010_01 %>% plot"
      ],
      "metadata": {
        "id": "4dp6u3u0GXm6"
      },
      "execution_count": null,
      "outputs": []
    },
    {
      "cell_type": "code",
      "source": [
        "hawaii_ccap_2010_02 <- raster(\"/content/ccap/hawaii_ccap_2010_02.tif\")\n",
        "hawaii_ccap_2010_02 %>% plot"
      ],
      "metadata": {
        "id": "f957a4w_GbpQ"
      },
      "execution_count": null,
      "outputs": []
    },
    {
      "cell_type": "code",
      "source": [
        "hawaii_ccap_2010_03 <- raster(\"/content/ccap/hawaii_ccap_2010_03.tif\")\n",
        "hawaii_ccap_2010_03 %>% plot"
      ],
      "metadata": {
        "id": "ChH3P3JYGOde"
      },
      "execution_count": null,
      "outputs": []
    },
    {
      "cell_type": "code",
      "source": [
        "dir.create(\"/content/nlcd\")"
      ],
      "metadata": {
        "id": "zitLyIBmIlLR"
      },
      "execution_count": null,
      "outputs": []
    },
    {
      "cell_type": "code",
      "source": [
        "# Add NLCD for Hawaii Island\n",
        "# https://drive.google.com/file/d/155LX_Gle2Pdm1pJ19po5J-PJEjFlC0oT/view?usp=drive_link\n",
        "drive_download(file =as_id(\"155LX_Gle2Pdm1pJ19po5J-PJEjFlC0oT\"),\n",
        "path = \"/content/nlcd/hawaii_nlcd.tif\")\n"
      ],
      "metadata": {
        "id": "PRnw9fgEIFcf"
      },
      "execution_count": null,
      "outputs": []
    },
    {
      "cell_type": "code",
      "source": [
        "hawaii_nlcd <-stack(\"/content/nlcd/hawaii_nlcd.tif\")"
      ],
      "metadata": {
        "id": "Qe-bS3B3Ixnr"
      },
      "execution_count": null,
      "outputs": []
    },
    {
      "cell_type": "code",
      "source": [
        "hawaii_nlcd %>% plot"
      ],
      "metadata": {
        "id": "6JoO56u5JBf6"
      },
      "execution_count": null,
      "outputs": []
    },
    {
      "cell_type": "code",
      "source": [
        "dir.create(\"/content/nwi\")"
      ],
      "metadata": {
        "id": "PpE_mV3BNG_A"
      },
      "execution_count": null,
      "outputs": []
    },
    {
      "cell_type": "code",
      "source": [
        "# Add the NWI wetlands areas for Hawaii Island\n",
        "# https://drive.google.com/file/d/1klsckpbR73H4-2lj4Pi_4cyvQlU6dFbc/view?usp=drive_link\n",
        "drive_download(file = as_id(\"1klsckpbR73H4-2lj4Pi_4cyvQlU6dFbc\"),\n",
        "path = \"/content/nwi/hawaii_nwi.gpkg\",\n",
        "overwrite = TRUE)\n",
        "hawaii_nwi = st_read(\"/content/nwi/hawaii_nwi.gpkg\")"
      ],
      "metadata": {
        "id": "EZSfJGS4Mto6"
      },
      "execution_count": null,
      "outputs": []
    },
    {
      "cell_type": "code",
      "source": [
        "hawaii_nwi$layer"
      ],
      "metadata": {
        "id": "GlTLZJyyMtlz"
      },
      "execution_count": null,
      "outputs": []
    },
    {
      "cell_type": "code",
      "source": [],
      "metadata": {
        "id": "RX2tI2_fMtfC"
      },
      "execution_count": null,
      "outputs": []
    },
    {
      "cell_type": "code",
      "source": [
        "st_crs(hawaii_nlcd)"
      ],
      "metadata": {
        "id": "ZZyyQinSJe7G"
      },
      "execution_count": null,
      "outputs": []
    },
    {
      "cell_type": "code",
      "source": [
        "st_crs(dem)"
      ],
      "metadata": {
        "id": "26fNeqUjJjAZ"
      },
      "execution_count": null,
      "outputs": []
    },
    {
      "cell_type": "code",
      "source": [],
      "metadata": {
        "id": "KdOVwBwPsrqU"
      },
      "execution_count": null,
      "outputs": []
    },
    {
      "cell_type": "code",
      "source": [
        "m_1915524_ne_05_060_20221225 <- stack(\"/content/hawaii_naip_tiles/m_1915524_ne_05_060_20221225.tif\")"
      ],
      "metadata": {
        "id": "fIXtBrtGCfcp"
      },
      "execution_count": null,
      "outputs": []
    },
    {
      "cell_type": "code",
      "source": [
        "m_1915524_ne_05_060_20221225 %>% plot"
      ],
      "metadata": {
        "id": "WRBCLqIADN7w"
      },
      "execution_count": null,
      "outputs": []
    },
    {
      "cell_type": "code",
      "source": [
        "m_1915524_ne_05_060_20221225"
      ],
      "metadata": {
        "id": "4hz30T4RDPXg"
      },
      "execution_count": null,
      "outputs": []
    },
    {
      "cell_type": "code",
      "source": [
        "dir.create(\"/content/output_data\")"
      ],
      "metadata": {
        "id": "khu_12pBSmx4"
      },
      "execution_count": null,
      "outputs": []
    },
    {
      "cell_type": "code",
      "source": [
        "# trying to do this a different way\n",
        "\n",
        "# Load the main TIF files\n",
        "hawaii_10m <- raster(\"/content/dem/hawaii_10m.tif\")\n",
        "hawaii_ccap_01 <- raster(\"/content/ccap/hawaii_ccap_2010_01.tif\")\n",
        "hawaii_ccap_02 <- raster(\"/content/ccap/hawaii_ccap_2010_02.tif\")\n",
        "hawaii_ccap_03 <- raster(\"/content/ccap/hawaii_ccap_2010_03.tif\")\n",
        "hawaii_nlcd <- raster(\"/content/nlcd/hawaii_nlcd.tif\")"
      ],
      "metadata": {
        "id": "zMboQxKyQ_si"
      },
      "execution_count": null,
      "outputs": []
    },
    {
      "cell_type": "code",
      "source": [
        "# List all the NAIP tile files\n",
        "naip_tiles_paths <- list.files(path = \"hawaii_naip_tiles\", pattern = \"m_.*.tif\", full.names = TRUE)"
      ],
      "metadata": {
        "id": "3Oj5DyfdRNqt"
      },
      "execution_count": null,
      "outputs": []
    },
    {
      "cell_type": "code",
      "source": [
        "naip_tile_raster <- raster(naip_tile_path)"
      ],
      "metadata": {
        "id": "Y6CZ5HPWV2yS"
      },
      "execution_count": null,
      "outputs": []
    },
    {
      "cell_type": "code",
      "source": [],
      "metadata": {
        "id": "bbVRQ31TYNTO"
      },
      "execution_count": null,
      "outputs": []
    },
    {
      "cell_type": "code",
      "source": [
        "\n",
        "# dem_gpkg <-\n",
        "# \"/content/HI_DEM\" %>%\n",
        "#   list.files(pattern='*.tif', full.names = T) %>%\n",
        "#   # lapply(stack) %>%\n",
        "#   # lapply(extent) %>%\n",
        "#   lapply(function(x){\n",
        "#     x_tif <- x %>% stack\n",
        "#     x_gpkg <- x_tif %>% extent %>% as('SpatialPolygons') %>% st_as_sf(crs = st_crs(x_tif))\n",
        "#     x_gpkg$path <- x\n",
        "#     st_crs(x_gpkg) <- st_crs(x_tif)\n",
        "#     x_gpkg %>% data.table %>% return\n",
        "#     }) %>%\n",
        "#   rbindlist()\n",
        "\n",
        "\n",
        "dem_clipped_sf <- dem_clipped %>% as(\"SpatialPolygons\")"
      ],
      "metadata": {
        "id": "Ef-K0VecvoJm"
      },
      "execution_count": null,
      "outputs": []
    },
    {
      "cell_type": "code",
      "source": [
        "class(dem_clipped_sf)"
      ],
      "metadata": {
        "id": "qY43Vn6KwmP9"
      },
      "execution_count": null,
      "outputs": []
    },
    {
      "cell_type": "code",
      "source": [
        "lokoaka_kionakapahu_2018_sf <- lokoaka_kionakapahu_2018 %>% as(\"SpatialPolygons\")"
      ],
      "metadata": {
        "id": "5UqJp1IhwjGF"
      },
      "execution_count": null,
      "outputs": []
    },
    {
      "cell_type": "code",
      "source": [
        "class(lokoaka_kionakapahu_2018_sf)"
      ],
      "metadata": {
        "id": "RYgNeB6LwvTs"
      },
      "execution_count": null,
      "outputs": []
    },
    {
      "cell_type": "code",
      "source": [
        "\n",
        "tbd <- dem_clipped_sf  %>% st_make_grid(cellsize = c(76.8,76.8))"
      ],
      "metadata": {
        "id": "39THvJYjvoG3"
      },
      "execution_count": null,
      "outputs": []
    },
    {
      "cell_type": "code",
      "source": [
        "class(tbd)\n",
        "tbd %>% plot"
      ],
      "metadata": {
        "id": "fn8QXIAqvoEU"
      },
      "execution_count": null,
      "outputs": []
    },
    {
      "cell_type": "code",
      "source": [
        "st_write(tbd,(\"/content/fishnet_oputput/\"))"
      ],
      "metadata": {
        "id": "fa4JyPXKxjMN"
      },
      "execution_count": null,
      "outputs": []
    },
    {
      "cell_type": "code",
      "source": [
        "# # https://drive.google.com/file/d//view?usp=drive_link\n",
        "drive_download(file = as_id(\"12JyZ5Alpk36Jdt9sym23cJPydg6Ro8IA\"),\n",
        "path = \"/content/01_workingFolder/waipio.gpkg\", overwrite = FALSE)"
      ],
      "metadata": {
        "id": "gvuD0YU35BSf"
      },
      "execution_count": null,
      "outputs": []
    },
    {
      "cell_type": "code",
      "source": [
        "lokoaka_fishnet_gpkg <- st_read(\"/content/01_workingFolder/lokoaka_kionakapahu.gpkg\")"
      ],
      "metadata": {
        "id": "tlU2z60J5urg"
      },
      "execution_count": null,
      "outputs": []
    },
    {
      "cell_type": "code",
      "source": [
        "st_crs(lokoaka_fishnet_gpkg)"
      ],
      "metadata": {
        "id": "Hysofwiv6nz2"
      },
      "execution_count": null,
      "outputs": []
    }
  ]
}