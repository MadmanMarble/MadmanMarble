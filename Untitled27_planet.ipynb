{
  "nbformat": 4,
  "nbformat_minor": 0,
  "metadata": {
    "colab": {
      "provenance": [],
      "machine_shape": "hm",
      "authorship_tag": "ABX9TyNF17J0Wzfc5YWRBcjBZBxG",
      "include_colab_link": true
    },
    "kernelspec": {
      "name": "ir",
      "display_name": "R"
    },
    "language_info": {
      "name": "R"
    }
  },
  "cells": [
    {
      "cell_type": "markdown",
      "metadata": {
        "id": "view-in-github",
        "colab_type": "text"
      },
      "source": [
        "<a href=\"https://colab.research.google.com/github/MadmanMarble/MadmanMarble/blob/main/Untitled27_planet.ipynb\" target=\"_parent\"><img src=\"https://colab.research.google.com/assets/colab-badge.svg\" alt=\"Open In Colab\"/></a>"
      ]
    },
    {
      "cell_type": "markdown",
      "source": [
        "# Planet Image Processing for croping to prep for training datasets."
      ],
      "metadata": {
        "id": "SbzVHvnv2YLj"
      }
    },
    {
      "cell_type": "code",
      "execution_count": 1,
      "metadata": {
        "colab": {
          "base_uri": "https://localhost:8080/"
        },
        "id": "liSOm7L011Dy",
        "outputId": "cd8cf81a-5662-4597-8c8c-1ce6e48cfbf7"
      },
      "outputs": [
        {
          "output_type": "stream",
          "name": "stderr",
          "text": [
            "Installing packages into ‘/usr/local/lib/R/site-library’\n",
            "(as ‘lib’ is unspecified)\n",
            "\n",
            "also installing the dependencies ‘proxy’, ‘e1071’, ‘sp’, ‘Rcpp’, ‘terra’, ‘classInt’, ‘s2’, ‘units’, ‘wk’, ‘RcppArmadillo’\n",
            "\n",
            "\n",
            "Installing package into ‘/usr/local/lib/R/site-library’\n",
            "(as ‘lib’ is unspecified)\n",
            "\n",
            "Installing package into ‘/usr/local/lib/R/site-library’\n",
            "(as ‘lib’ is unspecified)\n",
            "\n",
            "Installing package into ‘/usr/local/lib/R/site-library’\n",
            "(as ‘lib’ is unspecified)\n",
            "\n",
            "also installing the dependencies ‘httpuv’, ‘xtable’, ‘sourcetools’, ‘later’, ‘promises’, ‘shiny’, ‘downlit’, ‘htmlwidgets’, ‘miniUI’, ‘pkgdown’, ‘profvis’, ‘urlchecker’\n",
            "\n",
            "\n",
            "Downloading GitHub repo gearslaboratory/gdalUtils@HEAD\n",
            "\n"
          ]
        },
        {
          "output_type": "stream",
          "name": "stdout",
          "text": [
            "R.methodsS3 (NA -> 1.8.2 ) [CRAN]\n",
            "R.oo        (NA -> 1.26.0) [CRAN]\n",
            "iterators   (NA -> 1.0.14) [CRAN]\n",
            "R.utils     (NA -> 2.12.3) [CRAN]\n",
            "foreach     (NA -> 1.5.2 ) [CRAN]\n"
          ]
        },
        {
          "output_type": "stream",
          "name": "stderr",
          "text": [
            "Skipping 1 packages not available: rgdal\n",
            "\n",
            "Installing 6 packages: R.methodsS3, R.oo, iterators, rgdal, R.utils, foreach\n",
            "\n",
            "Installing packages into ‘/usr/local/lib/R/site-library’\n",
            "(as ‘lib’ is unspecified)\n",
            "\n",
            "Warning message:\n",
            "“package ‘rgdal’ is not available for this version of R\n",
            "\n",
            "A version of this package for your version of R might be available elsewhere,\n",
            "see the ideas at\n",
            "https://cran.r-project.org/doc/manuals/r-patched/R-admin.html#Installing-packages”\n"
          ]
        },
        {
          "output_type": "stream",
          "name": "stdout",
          "text": [
            "\u001b[36m──\u001b[39m \u001b[36mR CMD build\u001b[39m \u001b[36m─────────────────────────────────────────────────────────────────\u001b[39m\n",
            "* checking for file ‘/tmp/RtmpdqD3aN/remotes20a7fea5a64/gearslaboratory-gdalUtils-8872aaf/DESCRIPTION’ ... OK\n",
            "* preparing ‘gdalUtils’:\n",
            "* checking DESCRIPTION meta-information ... OK\n",
            "* checking for LF line-endings in source and make files and shell scripts\n",
            "* checking for empty or unneeded directories\n",
            "* building ‘gdalUtils_2.0.3.2.tar.gz’\n",
            "\n"
          ]
        },
        {
          "output_type": "stream",
          "name": "stderr",
          "text": [
            "Installing package into ‘/usr/local/lib/R/site-library’\n",
            "(as ‘lib’ is unspecified)\n",
            "\n",
            "Warning message in i.p(...):\n",
            "“installation of package ‘/tmp/RtmpdqD3aN/file20a35921022/gdalUtils_2.0.3.2.tar.gz’ had non-zero exit status”\n"
          ]
        }
      ],
      "source": [
        "install.packages(c('raster','sf','fasterize'))\n",
        "install.packages(\"googledrive\")\n",
        "install.packages(\"dplyr\")\n",
        "install.packages(\"devtools\")\n",
        "\n",
        "devtools:::install_github(\"gearslaboratory/gdalUtils\")"
      ]
    },
    {
      "cell_type": "code",
      "source": [
        "library(raster)\n",
        "library(sf)\n",
        "library(fasterize)\n",
        "library(magrittr)\n",
        "library(googledrive)\n",
        "library(parallel)\n",
        "library(data.table)\n",
        "library(stringr)\n",
        "library(dplyr)\n",
        "# library(gdalUtils)\n",
        "\n",
        "drive_auth(use_oob = TRUE, cache = FALSE)"
      ],
      "metadata": {
        "id": "pHwdEEvD13Ez"
      },
      "execution_count": null,
      "outputs": []
    },
    {
      "cell_type": "markdown",
      "source": [
        "Set up folders"
      ],
      "metadata": {
        "id": "oxcSSg072U5f"
      }
    },
    {
      "cell_type": "code",
      "source": [
        "dir.create(\"/content/folder\")\n",
        "\n",
        "# load NUMERIC nwi data\n",
        "# https://drive.google.com/file/d/1NHOKJKTqlNeuDg4DlfYfM3evDTvp0q8S/view?usp=drive_link\n",
        "drive_download(file = as_id('1NHOKJKTqlNeuDg4DlfYfM3evDTvp0q8S'), path =  '/content/folder/nwi_utm4.gpkg', overwrite = FALSE)\n",
        "\n",
        "# https://drive.google.com/file/d/1vjY2D7TCsFj5Mcs3Wk5Gh0OV3MIPD_M4/view?usp=drive_link\n",
        "drive_download(file = as_id('1vjY2D7TCsFj5Mcs3Wk5Gh0OV3MIPD_M4'), path =  '/content/folder/nwi_utm5.gpkg', overwrite = FALSE)"
      ],
      "metadata": {
        "colab": {
          "base_uri": "https://localhost:8080/"
        },
        "id": "bq2iSNAr16zz",
        "outputId": "7ca94f06-5e21-427e-f315-465d932a006b"
      },
      "execution_count": 3,
      "outputs": [
        {
          "output_type": "stream",
          "name": "stderr",
          "text": [
            "File downloaded:\n",
            "\n",
            "• \u001b[36mnwi_utm4_numeric.gpkg\u001b[39m \u001b[90m<id: 1NHOKJKTqlNeuDg4DlfYfM3evDTvp0q8S>\u001b[39m\n",
            "\n",
            "Saved locally as:\n",
            "\n",
            "• \u001b[34m/content/folder/nwi_utm4.gpkg\u001b[39m\n",
            "\n",
            "File downloaded:\n",
            "\n",
            "• \u001b[36mnwi_utm5_numeric.gpkg\u001b[39m \u001b[90m<id: 1vjY2D7TCsFj5Mcs3Wk5Gh0OV3MIPD_M4>\u001b[39m\n",
            "\n",
            "Saved locally as:\n",
            "\n",
            "• \u001b[34m/content/folder/nwi_utm5.gpkg\u001b[39m\n",
            "\n"
          ]
        }
      ]
    },
    {
      "cell_type": "code",
      "source": [
        "dir.create(\"/content/workingfolder\")\n",
        "dir.create(\"/content/workingfolder/aoi\")\n",
        "dir.create(\"/content/workingfolder/aoi/utm4\")\n",
        "dir.create(\"/content/workingfolder/aoi/utm5\")\n",
        "\n",
        "\n",
        "dir.create(\"/content/workingfolder/dem\")\n",
        "dir.create(\"/content/workingfolder/dem/utm4\")\n",
        "dir.create(\"/content/workingfolder/dem/utm5\")\n",
        "\n",
        "dir.create(\"/content/workingfolder/ccap\")\n",
        "dir.create(\"/content/workingfolder/ccap/utm4\")\n",
        "dir.create(\"/content/workingfolder/ccap/utm5\")\n",
        "\n",
        "dir.create(\"/content/workingfolder/nlcd\")\n",
        "dir.create(\"/content/workingfolder/nlcd/utm4\")\n",
        "dir.create(\"/content/workingfolder/nlcd/utm5\")\n",
        "\n",
        "dir.create(\"/content/workingfolder/nwi\")\n",
        "dir.create(\"/content/workingfolder/nwi/utm4\")\n",
        "dir.create(\"/content/workingfolder/nwi/utm5\")"
      ],
      "metadata": {
        "id": "0PK3h_uj2qCw"
      },
      "execution_count": 4,
      "outputs": []
    },
    {
      "cell_type": "code",
      "source": [
        "dir.create(\"/content/imagery\")\n",
        "dir.create(\"/content/imagery/planet\")\n",
        "dir.create(\"/content/imagery/planet/2018\")\n",
        "dir.create(\"/content/imagery/planet/2019\")\n",
        "dir.create(\"/content/imagery/planet/2020\")\n",
        "\n",
        "dir.create(\"/content/imagery/planet/2018/utm4\")\n",
        "dir.create(\"/content/imagery/planet/2018/utm5\")\n",
        "dir.create(\"/content/imagery/planet/2019/utm4\")\n",
        "dir.create(\"/content/imagery/planet/2019/utm5\")\n",
        "dir.create(\"/content/imagery/planet/2020/utm4\")\n",
        "dir.create(\"/content/imagery/planet/2020/utm5\")"
      ],
      "metadata": {
        "id": "fgVSXdEa2vQ-"
      },
      "execution_count": 5,
      "outputs": []
    },
    {
      "cell_type": "markdown",
      "source": [
        "add aoi (wetland shapefiles) data"
      ],
      "metadata": {
        "id": "SHhP-cLj3ALJ"
      }
    },
    {
      "cell_type": "code",
      "source": [
        "# https://drive.google.com/file/d/1AsyHxmJ7MUJHwEqXUG61OXQ6bz9mgvDH/view?usp=drive_link\n",
        "drive_download(file = as_id(\"1AsyHxmJ7MUJHwEqXUG61OXQ6bz9mgvDH\"),\n",
        "path = \"/content/workingfolder/aoi/utm4/aoi_utm4.gpkg\", overwrite = FALSE)\n",
        "\n",
        "# https://drive.google.com/file/d/1klsckpbR73H4-2lj4Pi_4cyvQlU6dFbc/view?usp=drive_link\n",
        "drive_download(file = as_id(\"1klsckpbR73H4-2lj4Pi_4cyvQlU6dFbc\"),\n",
        "path = \"/content/workingfolder/aoi/utm5/aoi_utm5.gpkg\", overwrite = FALSE)"
      ],
      "metadata": {
        "colab": {
          "base_uri": "https://localhost:8080/"
        },
        "id": "D6O4TiiF2z0i",
        "outputId": "2938be03-fd07-40f9-a0c9-39f382c09c13"
      },
      "execution_count": 6,
      "outputs": [
        {
          "output_type": "stream",
          "name": "stderr",
          "text": [
            "File downloaded:\n",
            "\n",
            "• \u001b[36maoi_wetland_4.gpkg\u001b[39m \u001b[90m<id: 1AsyHxmJ7MUJHwEqXUG61OXQ6bz9mgvDH>\u001b[39m\n",
            "\n",
            "Saved locally as:\n",
            "\n",
            "• \u001b[34m/content/workingfolder/aoi/utm4/aoi_utm4.gpkg\u001b[39m\n",
            "\n",
            "File downloaded:\n",
            "\n",
            "• \u001b[36maoi_wetland_hawaii.gpkg\u001b[39m \u001b[90m<id: 1klsckpbR73H4-2lj4Pi_4cyvQlU6dFbc>\u001b[39m\n",
            "\n",
            "Saved locally as:\n",
            "\n",
            "• \u001b[34m/content/workingfolder/aoi/utm5/aoi_utm5.gpkg\u001b[39m\n",
            "\n"
          ]
        }
      ]
    },
    {
      "cell_type": "markdown",
      "source": [
        "add dem, ccap, nlcd, nwi"
      ],
      "metadata": {
        "id": "bPNY0lzg3CiW"
      }
    },
    {
      "cell_type": "code",
      "source": [
        "# load the dem\n",
        "# https://drive.google.com/drive/folders/1URF4YPEnWirmyWjmueyIgiYchcORWe6q?usp=drive_link\n",
        "jp_folder = \"1URF4YPEnWirmyWjmueyIgiYchcORWe6q\"\n",
        "folder_id = drive_get(as_id(jp_folder)) # get folder ID\n",
        "print(folder_id) #print folder ID\n",
        "\n",
        "# Find files in the folder\n",
        "files = drive_ls(folder_id)\n",
        "\n",
        "# Loop through directories and download files inside them\n",
        "for (i in seq_along(files$name)) {\n",
        "  i_dir <- files[i, ] # Select directory\n",
        "    try({\n",
        "\n",
        "      # Download files from the directory to the specified path\n",
        "      drive_download(\n",
        "        as_id(i_dir$id[1]),\n",
        "        path = paste0('/content/workingfolder/dem/utm4/', i_dir$name[1])\n",
        "      )\n",
        "    })\n",
        "  }\n",
        "\n",
        "# load the ccap\n",
        "# https://drive.google.com/drive/folders/1SPcrK0XyJeP9zSdi9k_vbyCgd9GpvC16?usp=drive_link\n",
        "jp_folder = \"1SPcrK0XyJeP9zSdi9k_vbyCgd9GpvC16\"\n",
        "folder_id = drive_get(as_id(jp_folder)) # get folder ID\n",
        "print(folder_id) #print folder ID\n",
        "\n",
        "# Find files in the folder\n",
        "files = drive_ls(folder_id)\n",
        "\n",
        "# Loop through directories and download files inside them\n",
        "for (i in seq_along(files$name)) {\n",
        "  i_dir <- files[i, ] # Select directory\n",
        "    try({\n",
        "\n",
        "      # Download files from the directory to the specified path\n",
        "      drive_download(\n",
        "        as_id(i_dir$id[1]),\n",
        "        path = paste0('/content/workingfolder/ccap/utm4/', i_dir$name[1])\n",
        "      )\n",
        "    })\n",
        "  }\n",
        "\n",
        "# load the ccap, utm5\n",
        "# https://drive.google.com/drive/folders/18M_A-fAL-QMCgKKhjjR9Zzr5OIsD6Swk?usp=drive_link\n",
        "jp_folder = \"18M_A-fAL-QMCgKKhjjR9Zzr5OIsD6Swk\"\n",
        "folder_id = drive_get(as_id(jp_folder)) # get folder ID\n",
        "print(folder_id) #print folder ID\n",
        "\n",
        "# Find files in the folder\n",
        "files = drive_ls(folder_id)\n",
        "\n",
        "# Loop through directories and download files inside them\n",
        "for (i in seq_along(files$name)) {\n",
        "  i_dir <- files[i, ] # Select directory\n",
        "    try({\n",
        "\n",
        "      # Download files from the directory to the specified path\n",
        "      drive_download(\n",
        "        as_id(i_dir$id[1]),\n",
        "        path = paste0('/content/workingfolder/ccap/utm5/', i_dir$name[1])\n",
        "      )\n",
        "    })\n",
        "  }\n",
        "\n",
        "# load the nlcd, utm 4\n",
        "# https://drive.google.com/file/d/1KVtVRzV8j3cIhedykbEoBtHrwuB-RqwD/view?usp=drive_link\n",
        "drive_download(file = as_id('1KVtVRzV8j3cIhedykbEoBtHrwuB-RqwD'), path =  '/content/workingfolder/nlcd/utm4/nlcd_utm4.tif', overwrite = FALSE)\n",
        "\n",
        "# load the nlcd, utm 5\n",
        "# https://drive.google.com/file/d/155LX_Gle2Pdm1pJ19po5J-PJEjFlC0oT/view?usp=drive_link\n",
        "drive_download(file = as_id('155LX_Gle2Pdm1pJ19po5J-PJEjFlC0oT'), path =  '/content/workingfolder/nlcd/utm5/nlcd_utm5.tif', overwrite = FALSE)\n",
        "\n",
        "\n",
        "# load the nwi, utm 4 WITH NUMERIC COLUMN\n",
        "# https://drive.google.com/file/d/1ylMwqAV7AEZglnvOrTdPDSz5XJsUyHO-/view?usp=drive_link\n",
        "drive_download(file = as_id('1ylMwqAV7AEZglnvOrTdPDSz5XJsUyHO-'), path =  '/content/workingfolder/nwi/utm4/nwi_utm4.gpkg', overwrite = FALSE)\n",
        "\n",
        "# load the nwi, utm 5 (this one does not have numberic column)\n",
        "# https://drive.google.com/file/d/1qNqsskgMOSzMQ-2LdDaGulDXUjpaI3Jr/view?usp=drive_link\n",
        "drive_download(file = as_id('1qNqsskgMOSzMQ-2LdDaGulDXUjpaI3Jr'), path =  '/content/workingfolder/nwi/utm5/nwi_utm5.gpkg', overwrite = FALSE)"
      ],
      "metadata": {
        "colab": {
          "base_uri": "https://localhost:8080/"
        },
        "id": "gEFiKiQG25mB",
        "outputId": "b9661db5-f0dc-4846-8af4-ae04b6c3df7c"
      },
      "execution_count": 7,
      "outputs": [
        {
          "output_type": "stream",
          "name": "stdout",
          "text": [
            "\u001b[90m# A dribble: 1 × 3\u001b[39m\n",
            "  name       id                                drive_resource   \n",
            "  \u001b[3m\u001b[90m<chr>\u001b[39m\u001b[23m      \u001b[3m\u001b[90m<drv_id>\u001b[39m\u001b[23m                          \u001b[3m\u001b[90m<list>\u001b[39m\u001b[23m           \n",
            "\u001b[90m1\u001b[39m dem_wgs_84 1URF4YPEnWirmyWjmueyIgiYchcORWe6q \u001b[90m<named list [34]>\u001b[39m\n"
          ]
        },
        {
          "output_type": "stream",
          "name": "stderr",
          "text": [
            "File downloaded:\n",
            "\n",
            "• \u001b[36mwgs84_hawaii_dem.tif\u001b[39m \u001b[90m<id: 1GgimNhsSiLUY-6ttztqOmdcUn7nH6ryF>\u001b[39m\n",
            "\n",
            "Saved locally as:\n",
            "\n",
            "• \u001b[34m/content/workingfolder/dem/utm4/wgs84_hawaii_dem.tif\u001b[39m\n",
            "\n",
            "File downloaded:\n",
            "\n",
            "• \u001b[36mwgs84_maui_dem.tif\u001b[39m \u001b[90m<id: 17NL9FjRrW8Osurqj6VFbnj7KQjJ1gg0L>\u001b[39m\n",
            "\n",
            "Saved locally as:\n",
            "\n",
            "• \u001b[34m/content/workingfolder/dem/utm4/wgs84_maui_dem.tif\u001b[39m\n",
            "\n",
            "File downloaded:\n",
            "\n",
            "• \u001b[36mwgs84_molokai_dem.tif\u001b[39m \u001b[90m<id: 1A7N8UpmUn8Tq95ePGXQYdjLF5_TpcTwC>\u001b[39m\n",
            "\n",
            "Saved locally as:\n",
            "\n",
            "• \u001b[34m/content/workingfolder/dem/utm4/wgs84_molokai_dem.tif\u001b[39m\n",
            "\n",
            "File downloaded:\n",
            "\n",
            "• \u001b[36mwgs84_oahu_dem.tif\u001b[39m \u001b[90m<id: 1AmtIltpD8KGRH53RzSIawJpVqvOP9OLz>\u001b[39m\n",
            "\n",
            "Saved locally as:\n",
            "\n",
            "• \u001b[34m/content/workingfolder/dem/utm4/wgs84_oahu_dem.tif\u001b[39m\n",
            "\n",
            "File downloaded:\n",
            "\n",
            "• \u001b[36mwgs84_kauai_10m.tif\u001b[39m \u001b[90m<id: 1eu_7lpCjyl5WpgGq_HizUz8n4d1u35tC>\u001b[39m\n",
            "\n",
            "Saved locally as:\n",
            "\n",
            "• \u001b[34m/content/workingfolder/dem/utm4/wgs84_kauai_10m.tif\u001b[39m\n",
            "\n"
          ]
        },
        {
          "output_type": "stream",
          "name": "stdout",
          "text": [
            "\u001b[90m# A dribble: 1 × 3\u001b[39m\n",
            "  name       id                                drive_resource   \n",
            "  \u001b[3m\u001b[90m<chr>\u001b[39m\u001b[23m      \u001b[3m\u001b[90m<drv_id>\u001b[39m\u001b[23m                          \u001b[3m\u001b[90m<list>\u001b[39m\u001b[23m           \n",
            "\u001b[90m1\u001b[39m ccap_wgs84 1SPcrK0XyJeP9zSdi9k_vbyCgd9GpvC16 \u001b[90m<named list [34]>\u001b[39m\n"
          ]
        },
        {
          "output_type": "stream",
          "name": "stderr",
          "text": [
            "File downloaded:\n",
            "\n",
            "• \u001b[36mwgs84_maui_ccap.tif\u001b[39m \u001b[90m<id: 155aYsFVUCP4LGdiG2J3f8I8vCe1s1w7B>\u001b[39m\n",
            "\n",
            "Saved locally as:\n",
            "\n",
            "• \u001b[34m/content/workingfolder/ccap/utm4/wgs84_maui_ccap.tif\u001b[39m\n",
            "\n",
            "File downloaded:\n",
            "\n",
            "• \u001b[36mwgs84_molokai_ccap.tif\u001b[39m \u001b[90m<id: 1Nt7hzStQhl8xHRGSfKVhMiUlUCgxkBxj>\u001b[39m\n",
            "\n",
            "Saved locally as:\n",
            "\n",
            "• \u001b[34m/content/workingfolder/ccap/utm4/wgs84_molokai_ccap.tif\u001b[39m\n",
            "\n",
            "File downloaded:\n",
            "\n",
            "• \u001b[36mwgs84_oahu_ccap.tif\u001b[39m \u001b[90m<id: 1iAkOCO-H9v8m4ngXyJq7TYZvG7_0h1Pc>\u001b[39m\n",
            "\n",
            "Saved locally as:\n",
            "\n",
            "• \u001b[34m/content/workingfolder/ccap/utm4/wgs84_oahu_ccap.tif\u001b[39m\n",
            "\n",
            "File downloaded:\n",
            "\n",
            "• \u001b[36mwgs84_kauai_ccap.tif\u001b[39m \u001b[90m<id: 1DltKAOMlKT-TKh9OaMqdth06uZ_dwnY_>\u001b[39m\n",
            "\n",
            "Saved locally as:\n",
            "\n",
            "• \u001b[34m/content/workingfolder/ccap/utm4/wgs84_kauai_ccap.tif\u001b[39m\n",
            "\n"
          ]
        },
        {
          "output_type": "stream",
          "name": "stdout",
          "text": [
            "\u001b[90m# A dribble: 1 × 3\u001b[39m\n",
            "  name              id                                drive_resource   \n",
            "  \u001b[3m\u001b[90m<chr>\u001b[39m\u001b[23m             \u001b[3m\u001b[90m<drv_id>\u001b[39m\u001b[23m                          \u001b[3m\u001b[90m<list>\u001b[39m\u001b[23m           \n",
            "\u001b[90m1\u001b[39m ccap_wgs84_hawaii 18M_A-fAL-QMCgKKhjjR9Zzr5OIsD6Swk \u001b[90m<named list [34]>\u001b[39m\n"
          ]
        },
        {
          "output_type": "stream",
          "name": "stderr",
          "text": [
            "File downloaded:\n",
            "\n",
            "• \u001b[36mwgs84_hawaii_03_ccap.tif\u001b[39m \u001b[90m<id: 1pTD07owt5YlraAkjrOQ1RJoVA6nliujC>\u001b[39m\n",
            "\n",
            "Saved locally as:\n",
            "\n",
            "• \u001b[34m/content/workingfolder/ccap/utm5/wgs84_hawaii_03_ccap.tif\u001b[39m\n",
            "\n",
            "File downloaded:\n",
            "\n",
            "• \u001b[36mwgs84_hawaii_02_ccap.tif\u001b[39m \u001b[90m<id: 1QANq0161NtTxPVQo5EQFNLm32_zC_u4Q>\u001b[39m\n",
            "\n",
            "Saved locally as:\n",
            "\n",
            "• \u001b[34m/content/workingfolder/ccap/utm5/wgs84_hawaii_02_ccap.tif\u001b[39m\n",
            "\n",
            "File downloaded:\n",
            "\n",
            "• \u001b[36mwgs84_hawaii_01_ccap.tif\u001b[39m \u001b[90m<id: 1Rp7O2OhFZQ11sp6e1DIC6ZqU1UJpMU7Y>\u001b[39m\n",
            "\n",
            "Saved locally as:\n",
            "\n",
            "• \u001b[34m/content/workingfolder/ccap/utm5/wgs84_hawaii_01_ccap.tif\u001b[39m\n",
            "\n",
            "File downloaded:\n",
            "\n",
            "• \u001b[36mnlcd_2001_utm4.tif\u001b[39m \u001b[90m<id: 1KVtVRzV8j3cIhedykbEoBtHrwuB-RqwD>\u001b[39m\n",
            "\n",
            "Saved locally as:\n",
            "\n",
            "• \u001b[34m/content/workingfolder/nlcd/utm4/nlcd_utm4.tif\u001b[39m\n",
            "\n",
            "File downloaded:\n",
            "\n",
            "• \u001b[36mnlcd_2001_hawaii.tif\u001b[39m \u001b[90m<id: 155LX_Gle2Pdm1pJ19po5J-PJEjFlC0oT>\u001b[39m\n",
            "\n",
            "Saved locally as:\n",
            "\n",
            "• \u001b[34m/content/workingfolder/nlcd/utm5/nlcd_utm5.tif\u001b[39m\n",
            "\n",
            "File downloaded:\n",
            "\n",
            "• \u001b[36mutm4_nwi_numeric.gpkg\u001b[39m \u001b[90m<id: 1ylMwqAV7AEZglnvOrTdPDSz5XJsUyHO->\u001b[39m\n",
            "\n",
            "Saved locally as:\n",
            "\n",
            "• \u001b[34m/content/workingfolder/nwi/utm4/nwi_utm4.gpkg\u001b[39m\n",
            "\n",
            "File downloaded:\n",
            "\n",
            "• \u001b[36mnwi_wetlands_hawaii.gpkg\u001b[39m \u001b[90m<id: 1qNqsskgMOSzMQ-2LdDaGulDXUjpaI3Jr>\u001b[39m\n",
            "\n",
            "Saved locally as:\n",
            "\n",
            "• \u001b[34m/content/workingfolder/nwi/utm5/nwi_utm5.gpkg\u001b[39m\n",
            "\n"
          ]
        }
      ]
    },
    {
      "cell_type": "markdown",
      "source": [
        "add imagery data"
      ],
      "metadata": {
        "id": "dPWXprUI3d3t"
      }
    },
    {
      "cell_type": "code",
      "source": [
        "cl <- makeCluster(8)\n",
        "\n",
        "# Load Planet 2018 utm4 image stacks\n",
        "# https://drive.google.com/drive/folders/1qKNxqjL8K71CO-KcmQGfbtPehlAjoD05?usp=drive_link\n",
        "# https://drive.google.com/drive/folders/1qKNxqjL8K71CO-KcmQGfbtPehlAjoD05?usp=drive_link\n",
        "jp_folder = \"1qKNxqjL8K71CO-KcmQGfbtPehlAjoD05\"\n",
        "folder_id = drive_get(as_id(jp_folder)) # get folder ID\n",
        "print(folder_id) #print folder ID\n",
        "\n",
        "# Find files in the folder\n",
        "files = drive_ls(folder_id)\n",
        "\n",
        "# Loop through directories and download files inside them\n",
        "for (i in seq_along(files$name)) {\n",
        "  i_dir <- files[i, ] # Select directory\n",
        "    try({\n",
        "\n",
        "      # Download files from the directory to the specified path\n",
        "      drive_download(\n",
        "        as_id(i_dir$id[1]),\n",
        "        path = paste0('/content/imagery/planet/2018/utm4/', i_dir$name[1])\n",
        "      )\n",
        "    })\n",
        "  }\n",
        "\n",
        "# Load Planet 2019 utm4 image stacks\n",
        "# https://drive.google.com/drive/folders/1Oz9FMjFR0QKSJiJNg41-4vVNKxqm5Ewu?usp=drive_link\n",
        "jp_folder = \"1Oz9FMjFR0QKSJiJNg41-4vVNKxqm5Ewu\"\n",
        "folder_id = drive_get(as_id(jp_folder)) # get folder ID\n",
        "print(folder_id) #print folder ID\n",
        "\n",
        "# Find files in the folder\n",
        "files = drive_ls(folder_id)\n",
        "\n",
        "# Loop through directories and download files inside them\n",
        "for (i in seq_along(files$name)) {\n",
        "  i_dir <- files[i, ] # Select directory\n",
        "    try({\n",
        "\n",
        "      # Download files from the directory to the specified path\n",
        "      drive_download(\n",
        "        as_id(i_dir$id[1]),\n",
        "        path = paste0('/content/imagery/planet/2019/utm4/', i_dir$name[1])\n",
        "      )\n",
        "    })\n",
        "  }\n",
        "\n",
        "# Load Planet 2020 utm4 utm4 image stacks\n",
        "# https://drive.google.com/drive/folders/18-AaCnLW5JnZ6owOf7uqCU06M0XhwMBL?usp=drive_link\n",
        "jp_folder = \"18-AaCnLW5JnZ6owOf7uqCU06M0XhwMBL\"\n",
        "folder_id = drive_get(as_id(jp_folder)) # get folder ID\n",
        "print(folder_id) #print folder ID\n",
        "\n",
        "# Find files in the folder\n",
        "files = drive_ls(folder_id)\n",
        "\n",
        "# Loop through directories and download files inside them\n",
        "for (i in seq_along(files$name)) {\n",
        "  i_dir <- files[i, ] # Select directory\n",
        "    try({\n",
        "\n",
        "      # Download files from the directory to the specified path\n",
        "      drive_download(\n",
        "        as_id(i_dir$id[1]),\n",
        "        path = paste0('/content/imagery/planet/2020/utm4/', i_dir$name[1])\n",
        "      )\n",
        "    })\n",
        "  }\n",
        "\n",
        "# Load Planet 2018 utm5 image stacks\n",
        "# https://drive.google.com/drive/folders/1h0rEeSo2ki_eir55V7gvl0i5fKz_vAPu?usp=drive_link\n",
        "jp_folder = \"1h0rEeSo2ki_eir55V7gvl0i5fKz_vAPu\"\n",
        "folder_id = drive_get(as_id(jp_folder)) # get folder ID\n",
        "print(folder_id) #print folder ID\n",
        "\n",
        "# Find files in the folder\n",
        "files = drive_ls(folder_id)\n",
        "\n",
        "# Loop through directories and download files inside them\n",
        "for (i in seq_along(files$name)) {\n",
        "  i_dir <- files[i, ] # Select directory\n",
        "    try({\n",
        "\n",
        "      # Download files from the directory to the specified path\n",
        "      drive_download(\n",
        "        as_id(i_dir$id[1]),\n",
        "        path = paste0('/content/imagery/planet/2018/utm5/', i_dir$name[1])\n",
        "      )\n",
        "    })\n",
        "  }\n",
        "\n",
        "# Load Planet 2019 utm5 image stacks\n",
        "# https://drive.google.com/drive/folders/1v2FNvU1rcgwvem6YU64rWeE9man76lPb?usp=drive_link\n",
        "jp_folder = \"1v2FNvU1rcgwvem6YU64rWeE9man76lPb\"\n",
        "folder_id = drive_get(as_id(jp_folder)) # get folder ID\n",
        "print(folder_id) #print folder ID\n",
        "\n",
        "# Find files in the folder\n",
        "files = drive_ls(folder_id)\n",
        "\n",
        "# Loop through directories and download files inside them\n",
        "for (i in seq_along(files$name)) {\n",
        "  i_dir <- files[i, ] # Select directory\n",
        "    try({\n",
        "\n",
        "      # Download files from the directory to the specified path\n",
        "      drive_download(\n",
        "        as_id(i_dir$id[1]),\n",
        "        path = paste0('/content/imagery/planet/2019/utm5/', i_dir$name[1])\n",
        "      )\n",
        "    })\n",
        "  }\n",
        "\n",
        "# Load Planet 2020 utm5 image stacks\n",
        "# https://drive.google.com/drive/folders/1-aSDCj6ZCYapfMr1uaaq9xreoP4HXBW2?usp=drive_link\n",
        "jp_folder = \"1-aSDCj6ZCYapfMr1uaaq9xreoP4HXBW2\"\n",
        "folder_id = drive_get(as_id(jp_folder)) # get folder ID\n",
        "print(folder_id) #print folder ID\n",
        "\n",
        "# Find files in the folder\n",
        "files = drive_ls(folder_id)\n",
        "\n",
        "# Loop through directories and download files inside them\n",
        "for (i in seq_along(files$name)) {\n",
        "  i_dir <- files[i, ] # Select directory\n",
        "    try({\n",
        "\n",
        "      # Download files from the directory to the specified path\n",
        "      drive_download(\n",
        "        as_id(i_dir$id[1]),\n",
        "        path = paste0('/content/imagery/planet/2020/utm5/', i_dir$name[1])\n",
        "      )\n",
        "    })\n",
        "  }\n",
        "\n",
        "\n",
        "stopCluster(cl)"
      ],
      "metadata": {
        "id": "-OeHQOO53fCp"
      },
      "execution_count": null,
      "outputs": []
    },
    {
      "cell_type": "markdown",
      "source": [
        "for the naip, i assigned naipImage to the naip_index.vrt, BUT I dont have that for Planet data. Will need to do this the same way dem and ccap are read in with \"island\" column."
      ],
      "metadata": {
        "id": "WVfSb0nC4Arf"
      }
    },
    {
      "cell_type": "markdown",
      "source": [
        "complete code for planet to be added in the same way dem and ccap are.\n"
      ],
      "metadata": {
        "id": "63h_Kpw4H_GS"
      }
    },
    {
      "cell_type": "code",
      "source": [
        "# THIS WORKED TO ADD PLANET IN THE SAME WAY WE ADDED DEM and CCAP!!! USE THIS\n",
        "\n",
        "location_island_lookup <- data.table(\n",
        "  island = c(\n",
        "    'kauai', 'kauai', 'kauai', 'kauai','kauai',\n",
        "    'oahu', 'oahu', 'oahu', 'oahu',\n",
        "    'molokai', 'molokai', 'molokai',\n",
        "    'maui', 'maui', 'maui', 'maui'),\n",
        "  location_name = c(\n",
        "    'lumahai', 'hanalei', 'anahola', 'wailua_opaekaa', 'huleia',\n",
        "    'haleiwa', 'kahuku', 'kawainui', 'pearl_harbor',\n",
        "    'kaluaapuhi', 'kakahaia', 'kamalo',\n",
        "    'waihee', 'paukukalo', 'kanaha', 'kealia'))\n",
        "\n",
        "\n",
        "\n",
        "# Assuming you have a vector of file paths for your Planet imagery from 2018\n",
        "planet_image_file_paths <- c(\n",
        "  \"/content/imagery/planet/2018/utm4/2018_anahola_stack.tif\",\n",
        "  \"/content/imagery/planet/2018/utm4/2018_haleiwa_stack.tif\",\n",
        "  \"/content/imagery/planet/2018/utm4/2018_hanalei_stack.tif\",\n",
        "  \"/content/imagery/planet/2018/utm4/2018_huleia_stack.tif\",\n",
        "  \"/content/imagery/planet/2018/utm4/2018_kahuku_stack.tif\",\n",
        "  \"/content/imagery/planet/2018/utm4/2018_kakahaia_stack.tif\",\n",
        "  \"/content/imagery/planet/2018/utm4/2018_kaluaapuhi_stack.tif\",\n",
        "  \"/content/imagery/planet/2018/utm4/2018_kamalo_stack.tif\",\n",
        "  \"/content/imagery/planet/2018/utm4/2018_kanaha_stack.tif\",\n",
        "  \"/content/imagery/planet/2018/utm4/2018_kawainui_stack.tif\",\n",
        "  \"/content/imagery/planet/2018/utm4/2018_kealia_stack.tif\",\n",
        "  \"/content/imagery/planet/2018/utm4/2018_lumahai_stack.tif\",\n",
        "  \"/content/imagery/planet/2018/utm4/2018_paukukalo_stack.tif\",\n",
        "  \"/content/imagery/planet/2018/utm4/2018_pearl_harbor_stack.tif\",\n",
        "  \"/content/imagery/planet/2018/utm4/2018_waihee_stack.tif\",\n",
        "  \"/content/imagery/planet/2018/utm4/2018_wailua_opaekaa_stack.tif\")\n",
        "\n",
        "\n",
        "\n",
        "\n",
        "# Create a data table from the file paths with extracted location names\n",
        "planet_image_info <- data.table(\n",
        "  planet_file_path = planet_image_file_paths,\n",
        "  # Replace 'pattern_to_extract_location' with the appropriate regex pattern\n",
        "  location_name = str_extract(basename(planet_image_file_paths), \"(?<=2018_)(.*?)(?=_stack\\\\.tif)\")\n",
        ")\n",
        "\n",
        "# Merge the location-to-island information to get the island names for each location\n",
        "# Ensure the 'location_name' columns match exactly in both data tables\n",
        "complete_planet_info <- merge(planet_image_info, location_island_lookup, by = \"location_name\", all.x = TRUE)\n",
        "\n",
        "# This table now contains the file paths for Planet imagery, the location names, and the corresponding island names\n",
        "print(complete_planet_info)\n",
        "\n",
        "# Assuming you have your links data table which contains paths to CCAP and DEM data for each island\n",
        "island_links_info <- data.table(\n",
        "island = c('kauai','oahu','molokai','maui'),\n",
        "ccap_path =c('/content/workingfolder/ccap/utm4/wgs84_kauai_ccap.tif','/content/workingfolder/ccap/utm4/wgs84_oahu_ccap.tif','/content/workingfolder/ccap/utm4/wgs84_molokai_ccap.tif','/content/workingfolder/ccap/utm4/wgs84_maui_ccap.tif'),\n",
        "dem_path =c('/content/workingfolder/dem/utm4/wgs84_kauai_10m.tif','/content/workingfolder/dem/utm4/wgs84_oahu_dem.tif','/content/workingfolder/dem/utm4/wgs84_molokai_dem.tif','/content/workingfolder/dem/utm4/wgs84_maui_dem.tif'))\n",
        "\n",
        "\n",
        "\n",
        "\n",
        "# Add raster layers to island_links_info for CCAP and DEM\n",
        "island_links_info$ccap_raster <- lapply(island_links_info$ccap_path, raster::stack)\n",
        "island_links_info$dem_raster <- lapply(island_links_info$dem_path, raster::stack)\n",
        "\n",
        "# Merge the complete planet imagery info with the island links based on island names\n",
        "final_island_data <- merge(island_links_info, complete_planet_info, by = \"island\", all.x = TRUE)\n",
        "\n",
        "# The final data table now contains links to CCAP, DEM, and Planet imagery along with the raster objects for each island\n",
        "print(final_island_data)\n"
      ],
      "metadata": {
        "id": "pCtYTFkgIDAO"
      },
      "execution_count": null,
      "outputs": []
    },
    {
      "cell_type": "markdown",
      "source": [
        "make the unified classificationt table. same for all data."
      ],
      "metadata": {
        "id": "pLptREOB9I77"
      }
    },
    {
      "cell_type": "code",
      "source": [
        "unified_table <-\n",
        "data.table(\n",
        "  unified = c(0, 1, 2, 3, 4, 5, 6, 7, 8, 9, 10, 11),\n",
        "  nwi = list(-1, c(1,2,3), 4, 5, 6, 7, -1, -1, -1, -1, -1, -1),\n",
        "  nlcd = list(-1, 11, 90, 95, -1, -1, c(21,22,23,24), c(81,82), 71, 31, c(41,42,43), 52),\n",
        "  ccap = list(c(0,1), c(19,21), c(16,17,18), c(13,15), 14, c(22,23), c(2,3,4,5), c(6,7), 8, 20, c(9,10,11), 12)\n",
        ")"
      ],
      "metadata": {
        "id": "bSTzKSSA8LmM"
      },
      "execution_count": 12,
      "outputs": []
    },
    {
      "cell_type": "markdown",
      "source": [
        "assign names to files"
      ],
      "metadata": {
        "id": "FQP11a1E3PRO"
      }
    },
    {
      "cell_type": "code",
      "source": [
        "wetlandsVector <- st_read(\"/content/workingfolder/aoi/utm4/aoi_utm4.gpkg\")\n",
        "wetlandsVector_dt <- as.data.table(wetlandsVector)\n",
        "wetlandsVector_dt[,island:= path %>% substr(24,1000) %>% gsub('.shp','',.) %>% gsub(layer,'',.) %>% gsub('/','',.),by=1:nrow(wetlandsVector_dt)]"
      ],
      "metadata": {
        "colab": {
          "base_uri": "https://localhost:8080/"
        },
        "id": "_f2Pyc4y4JM5",
        "outputId": "3aa9a0ae-d590-4b43-d947-e8c056c9c560"
      },
      "execution_count": 9,
      "outputs": [
        {
          "output_type": "stream",
          "name": "stdout",
          "text": [
            "Reading layer `aoi_wetland_4' from data source \n",
            "  `/content/workingfolder/aoi/utm4/aoi_utm4.gpkg' using driver `GPKG'\n",
            "Simple feature collection with 16 features and 6 fields\n",
            "Geometry type: MULTIPOLYGON\n",
            "Dimension:     XY\n",
            "Bounding box:  xmin: 444046 ymin: 2299914 xmax: 766191.9 ymax: 2457336\n",
            "Projected CRS: WGS 84 / UTM zone 4N\n"
          ]
        }
      ]
    },
    {
      "cell_type": "code",
      "source": [
        "wetlandsVector <- wetlandsVector_dt %>% st_as_sf"
      ],
      "metadata": {
        "id": "ytSQzd1KcokG"
      },
      "execution_count": null,
      "outputs": []
    },
    {
      "cell_type": "code",
      "source": [
        "nwi_utm4 <- st_read(\"/content/folder/nwi_utm4.gpkg\")\n",
        "nwi_utm5 <- st_read(\"/content/folder/nwi_utm5.gpkg\")"
      ],
      "metadata": {
        "colab": {
          "base_uri": "https://localhost:8080/"
        },
        "id": "Hi6JuhfF2nQi",
        "outputId": "b7744b55-4781-4a48-b63b-e628400307ba"
      },
      "execution_count": 14,
      "outputs": [
        {
          "output_type": "stream",
          "name": "stdout",
          "text": [
            "Reading layer `nwi_utm4_numeric' from data source `/content/folder/nwi_utm4.gpkg' using driver `GPKG'\n",
            "Simple feature collection with 10866 features and 8 fields\n",
            "Geometry type: MULTIPOLYGON\n",
            "Dimension:     XY\n",
            "Bounding box:  xmin: 412977.7 ymin: 2263072 xmax: 820600.7 ymax: 2464465\n",
            "Projected CRS: WGS 84 / UTM zone 4N\n",
            "Reading layer `nwi_utm5_numeric' from data source `/content/folder/nwi_utm5.gpkg' using driver `GPKG'\n",
            "Simple feature collection with 2105 features and 8 fields\n",
            "Geometry type: MULTIPOLYGON\n",
            "Dimension:     XY\n",
            "Bounding box:  xmin: 173408.4 ymin: 2087445 xmax: 316047.8 ymax: 2249339\n",
            "Projected CRS: WGS 84 / UTM zone 5N\n"
          ]
        }
      ]
    },
    {
      "cell_type": "code",
      "source": [
        "nlcdImages <- raster(\"/content/workingfolder/nlcd/utm4/nlcd_utm4.tif\")"
      ],
      "metadata": {
        "id": "_F4Ze4iX4cPt"
      },
      "execution_count": 13,
      "outputs": []
    },
    {
      "cell_type": "code",
      "source": [
        "#  THIS ONE WORKS, IS CLOSEST TO THE CLIP EXPORTS, AND WORKS. USE THISSSSS\n",
        "\n",
        "#  planet data at 3m per pixel for 128 pixels wide for each tile = 384,384\n",
        "\n",
        "# raster_data <- # your raster data here\n",
        "# rasterOrigin <- st_bbox(naipImages)[c(\"xmin\", \"ymin\")]\n",
        "\n",
        "# Create a fishnet grid for each row in wetlandsVector matching the raster origin\n",
        "wetlandsFishnet <-\n",
        "  1:nrow(wetlandsVector) %>%\n",
        "  lapply(function(x){\n",
        "    # Create a fishnet grid with the specified cell size and origin matching the raster\n",
        "    fishnet <- st_make_grid(wetlandsVector[x,], cellsize = c(384,384)) %>%\n",
        "               st_as_sf() %>%\n",
        "               st_intersection(wetlandsVector[x,]) %>%\n",
        "               st_transform(st_crs(26904)) %>%\n",
        "               data.table()\n",
        "\n",
        "    fishnet$rowid <- 1:nrow(fishnet)\n",
        "\n",
        "    # Assuming 'island' is a column in wetlandsVector\n",
        "    fishnet$island <- wetlandsVector$island[x]\n",
        "\n",
        "    return(fishnet)\n",
        "  }) %>%\n",
        "  rbindlist()\n",
        "\n",
        "# Convert the result back to an sf object if needed\n",
        "wetlandsFishnet_sf <- st_as_sf(wetlandsFishnet)\n",
        "\n",
        "# If you need to save the result as a file\n",
        "st_write(wetlandsFishnet_sf, \"/content/76.8_wetlandsFishnet_nad83.gpkg\")"
      ],
      "metadata": {
        "id": "cso7oqih8uzj"
      },
      "execution_count": null,
      "outputs": []
    },
    {
      "cell_type": "code",
      "source": [
        "# links_dt\n",
        "# anything that referenced links_dt now needs to reference final_island_data!!!\n",
        "# it has ccap_raster, dem_raster, and now planet_file_path as reference to the exact .tif files to read, crop etc."
      ],
      "metadata": {
        "id": "RSasNS8XGE_4"
      },
      "execution_count": null,
      "outputs": []
    },
    {
      "cell_type": "code",
      "source": [
        "# x <- 2016\n",
        "# c(3001:8537) %>% lapply(function(x){\n",
        "# ttest <- wetlandsFishnet[x,] %>% st_as_sf %>% st_transform(st_crs(26904)) %>% crop(naipImages,.)\n",
        "# ttest_extent <-extent(ttest)\n",
        "# ttest_extent_raster <- raster(nrow=128, ncol=128, ext=ttest_extent, crs=crs(26904))\n",
        "# ttest_extent_raster_size <- crop(resample(ttest, ttest_extent_raster, method = \"ngb\"), extent(ttest_extent_raster)) # THIS IS THE NAIP TILES!!!!!!\n",
        "# })"
      ],
      "metadata": {
        "id": "5HaRlXxGfP-4"
      },
      "execution_count": null,
      "outputs": []
    },
    {
      "cell_type": "code",
      "source": [
        "final_island_data$island"
      ],
      "metadata": {
        "colab": {
          "base_uri": "https://localhost:8080/",
          "height": 34
        },
        "id": "EoSHsxnIJn1m",
        "outputId": "55e443ac-5f98-4b2e-ad1f-5f7232dcd239"
      },
      "execution_count": 21,
      "outputs": [
        {
          "output_type": "display_data",
          "data": {
            "text/html": [
              "<style>\n",
              ".list-inline {list-style: none; margin:0; padding: 0}\n",
              ".list-inline>li {display: inline-block}\n",
              ".list-inline>li:not(:last-child)::after {content: \"\\00b7\"; padding: 0 .5ex}\n",
              "</style>\n",
              "<ol class=list-inline><li>'kauai'</li><li>'kauai'</li><li>'kauai'</li><li>'kauai'</li><li>'kauai'</li><li>'maui'</li><li>'maui'</li><li>'maui'</li><li>'maui'</li><li>'molokai'</li><li>'molokai'</li><li>'molokai'</li><li>'oahu'</li><li>'oahu'</li><li>'oahu'</li><li>'oahu'</li></ol>\n"
            ],
            "text/markdown": "1. 'kauai'\n2. 'kauai'\n3. 'kauai'\n4. 'kauai'\n5. 'kauai'\n6. 'maui'\n7. 'maui'\n8. 'maui'\n9. 'maui'\n10. 'molokai'\n11. 'molokai'\n12. 'molokai'\n13. 'oahu'\n14. 'oahu'\n15. 'oahu'\n16. 'oahu'\n\n\n",
            "text/latex": "\\begin{enumerate*}\n\\item 'kauai'\n\\item 'kauai'\n\\item 'kauai'\n\\item 'kauai'\n\\item 'kauai'\n\\item 'maui'\n\\item 'maui'\n\\item 'maui'\n\\item 'maui'\n\\item 'molokai'\n\\item 'molokai'\n\\item 'molokai'\n\\item 'oahu'\n\\item 'oahu'\n\\item 'oahu'\n\\item 'oahu'\n\\end{enumerate*}\n",
            "text/plain": [
              " [1] \"kauai\"   \"kauai\"   \"kauai\"   \"kauai\"   \"kauai\"   \"maui\"    \"maui\"   \n",
              " [8] \"maui\"    \"maui\"    \"molokai\" \"molokai\" \"molokai\" \"oahu\"    \"oahu\"   \n",
              "[15] \"oahu\"    \"oahu\"   "
            ]
          },
          "metadata": {}
        }
      ]
    },
    {
      "cell_type": "code",
      "source": [
        "dir.create(\"/content/exports\")\n",
        "dir.create(\"/content/exports/planet_data\")\n",
        "dir.create(\"/content/exports/nwi_filled\")\n",
        "dir.create(\"/content/exports/dem\")\n",
        "dir.create(\"/content/exports/ccap_filled\")"
      ],
      "metadata": {
        "id": "938rP0_QhyYt"
      },
      "execution_count": 22,
      "outputs": []
    },
    {
      "cell_type": "code",
      "source": [
        "planet_raster <- stack(final_island_data$planet_file_path[x])"
      ],
      "metadata": {
        "colab": {
          "base_uri": "https://localhost:8080/",
          "height": 211
        },
        "id": "84xjWVE1jLn2",
        "outputId": "c1110fa0-eaa8-495e-c7dd-a6d53fd15b61"
      },
      "execution_count": 26,
      "outputs": [
        {
          "output_type": "error",
          "ename": "ERROR",
          "evalue": "Error in if (x == \"\" | x == \".\") {: missing value where TRUE/FALSE needed\n",
          "traceback": [
            "Error in if (x == \"\" | x == \".\") {: missing value where TRUE/FALSE needed\nTraceback:\n",
            "1. stack(final_island_data$planet_file_path[x])",
            "2. stack(final_island_data$planet_file_path[x])",
            "3. .local(x, ...)",
            "4. .quickStackOneFile(x, bands = bands, native = native)",
            "5. brick(filename, native = native)",
            "6. brick(filename, native = native)",
            "7. .rasterObjectFromFile(x, objecttype = \"RasterBrick\", ...)"
          ]
        }
      ]
    },
    {
      "source": [
        "print(final_island_data$planet_file_path)"
      ],
      "cell_type": "code",
      "metadata": {
        "colab": {
          "base_uri": "https://localhost:8080/"
        },
        "id": "QSorIfvpjU5x",
        "outputId": "be052756-db2d-4040-bc86-f48504aa968f"
      },
      "execution_count": 27,
      "outputs": [
        {
          "output_type": "stream",
          "name": "stdout",
          "text": [
            " [1] \"/content/imagery/planet/2018/utm4/2018_anahola_stack.tif\"       \n",
            " [2] \"/content/imagery/planet/2018/utm4/2018_hanalei_stack.tif\"       \n",
            " [3] \"/content/imagery/planet/2018/utm4/2018_huleia_stack.tif\"        \n",
            " [4] \"/content/imagery/planet/2018/utm4/2018_lumahai_stack.tif\"       \n",
            " [5] \"/content/imagery/planet/2018/utm4/2018_wailua_opaekaa_stack.tif\"\n",
            " [6] \"/content/imagery/planet/2018/utm4/2018_kanaha_stack.tif\"        \n",
            " [7] \"/content/imagery/planet/2018/utm4/2018_kealia_stack.tif\"        \n",
            " [8] \"/content/imagery/planet/2018/utm4/2018_paukukalo_stack.tif\"     \n",
            " [9] \"/content/imagery/planet/2018/utm4/2018_waihee_stack.tif\"        \n",
            "[10] \"/content/imagery/planet/2018/utm4/2018_kakahaia_stack.tif\"      \n",
            "[11] \"/content/imagery/planet/2018/utm4/2018_kaluaapuhi_stack.tif\"    \n",
            "[12] \"/content/imagery/planet/2018/utm4/2018_kamalo_stack.tif\"        \n",
            "[13] \"/content/imagery/planet/2018/utm4/2018_haleiwa_stack.tif\"       \n",
            "[14] \"/content/imagery/planet/2018/utm4/2018_kahuku_stack.tif\"        \n",
            "[15] \"/content/imagery/planet/2018/utm4/2018_kawainui_stack.tif\"      \n",
            "[16] \"/content/imagery/planet/2018/utm4/2018_pearl_harbor_stack.tif\"  \n"
          ]
        }
      ]
    },
    {
      "cell_type": "code",
      "source": [
        "y <- c(3:8) %>% lapply(function(y){\n",
        "  planet_file_path <- final_island_data$planet_file_path[y]\n",
        "if(is.na(planet_file_path) || planet_file_path == \"\") {\n",
        "  cat(\"Skipping due to invalid file path for index\", x, \"\\n\")\n",
        "  return(NULL) # Skip this iteration\n",
        "}})"
      ],
      "metadata": {
        "id": "P0p24Da1jiAs"
      },
      "execution_count": 34,
      "outputs": []
    },
    {
      "cell_type": "code",
      "source": [
        "y <- c(1) %>% lapply(function(y) {\n",
        "  # Load the Planet data raster for the specific location\n",
        "  planet_raster <- stack(final_island_data$planet_file_path[y])\n",
        "\n",
        "  # Transform and crop the raster to match the wetlandsFishnet extent\n",
        "  wetlands_sf <- st_as_sf(wetlandsFishnet[y,]) %>% st_transform(crs = crs(planet_raster))\n",
        "  planet_cropped <- crop(planet_raster, extent(wetlands_sf))\n",
        "\n",
        "  # Create a uniform raster template\n",
        "  template_extent <- extent(planet_cropped)\n",
        "  template_raster <- raster(nrows = 128, ncols = 128, ext = template_extent, crs = crs(planet_raster))\n",
        "  planet_resampled <- resample(planet_cropped, template_raster, method = \"ngb\") #### !!\n",
        "\n",
        "  writeRaster(planet_resampled, paste0('/content/exports/planet_data/', x, '_planet.tif'), overwrite = TRUE)\n",
        "\n",
        "\n",
        "})"
      ],
      "metadata": {
        "id": "wEObn857lHLC"
      },
      "execution_count": 40,
      "outputs": []
    },
    {
      "cell_type": "code",
      "source": [
        "# crop and process planet data?\n",
        "\n",
        "# Function to crop and process the data\n",
        "# x <- 2016\n",
        "# c(3001:8537) %>% lapply(function(x){\n",
        "process_data <- function(x) {\n",
        "  # Load the Planet data raster for the specific location\n",
        "  planet_raster <- stack(final_island_data$planet_file_path[x])\n",
        "\n",
        "  # Transform and crop the raster to match the wetlandsFishnet extent\n",
        "  wetlands_sf <- st_as_sf(wetlandsFishnet[x,]) %>% st_transform(crs = crs(planet_raster))\n",
        "  planet_cropped <- crop(planet_raster, extent(wetlands_sf))\n",
        "\n",
        "\n",
        "# ttest <- wetlandsFishnet[x,] %>% st_as_sf %>% st_transform(st_crs(26904)) %>% crop(naipImages,.)\n",
        "# ttest_extent <-extent(ttest)\n",
        "# ttest_extent_raster <- raster(nrow=128, ncol=128, ext=ttest_extent, crs=crs(26904))\n",
        "# ttest_extent_raster_size <- crop(resample(ttest, ttest_extent_raster, method = \"ngb\"), extent(ttest_extent_raster)) # THIS IS THE NAIP TILES!!!!!!\n",
        "\n",
        "\n",
        "\n",
        "\n",
        "  # Create a uniform raster template\n",
        "  template_extent <- extent(planet_cropped)\n",
        "  template_raster <- raster(nrows = 128, ncols = 128, ext = template_extent, crs = crs(planet_raster))\n",
        "  planet_resampled <- resample(planet_cropped, template_raster, method = \"ngb\") #### !!\n",
        "\n",
        "  # Process each data layer\n",
        "  island_name <- wetlandsFishnet$island[x]\n",
        "  selected_row <- final_island_data[island == island_name]\n",
        "\n",
        "  # NWI crop and harmonize\n",
        "  nwi_raster_path <- selected_row$nwi_raster[[1]]\n",
        "  nwi_raster <- raster(nwi_raster_path)\n",
        "  nwi_crop <- crop(nwi_raster, template_extent) %>% resample(template_raster, method = \"ngb\")\n",
        "\n",
        "  # DEM crop and harmonize\n",
        "  dem_raster_path <- selected_row$dem_raster[[1]]\n",
        "  dem_raster <- raster(dem_raster_path)\n",
        "  dem_crop <- crop(dem_raster, template_extent) %>% resample(template_raster, method = \"ngb\")\n",
        "\n",
        "  # CCAP crop and harmonize\n",
        "  ccap_raster_path <- selected_row$ccap_raster[[1]]\n",
        "  ccap_raster <- raster(ccap_raster_path)\n",
        "  ccap_crop <- crop(ccap_raster, template_extent) %>% resample(template_raster, method = \"ngb\")\n",
        "\n",
        "  # Apply unified table transformations\n",
        "  nwi_harm <- nwi_crop\n",
        "  nlcd_harm <- nlcd_crop\n",
        "  ccap_harm <- ccap_crop\n",
        "\n",
        "\n",
        "  values(nwi_harm) <- -1\n",
        "  values(nlcd_harm) <- -1\n",
        "  values(ccap_harm) <- -1\n",
        "\n",
        "\n",
        "  for(i in 1:nrow(unified_table)){\n",
        "  values(nwi_harm)[ values(nwi_crop %in% unified_table$nwi[[i]])] <- unified_table$unified[[i]]\n",
        "  values(nlcd_harm)[ values(nlcd_crop %in% unified_table$nlcd[[i]])] <- unified_table$unified[[i]]\n",
        "  values(ccap_harm)[ values(ccap_crop %in% unified_table$ccap[[i]])] <- unified_table$unified[[i]]\n",
        "\n",
        "  }\n",
        "\n",
        "  nwi_filled <- nlcd_harm\n",
        "  values(nwi_filled)[values(nwi_harm) !=-1] <- values(nwi_harm)[values(nwi_harm) !=-1]\n",
        "  values(nwi_filled)[values(nwi_filled) ==-1] <- 12\n",
        "\n",
        "  ccap_filled <- ccap_harm\n",
        "  values(ccap_filled)[values(ccap_harm) !=-1] <- values(ccap_harm)[values(ccap_harm) !=-1]\n",
        "  values(ccap_filled)[values(ccap_filled) ==-1] <- 12\n",
        "\n",
        "  # Write out processed rasters\n",
        "  writeRaster(planet_resampled, paste0('/content/exports/planet_data/', x, '_planet.tif'), overwrite = TRUE)\n",
        "  writeRaster(nwi_crop, paste0('/content/exports//nwi_filled/', x, '_nwi_filled.tif'), overwrite = TRUE)\n",
        "  writeRaster(dem_crop, paste0('/content/exports//dem/', x, '_dem.tif'), overwrite = TRUE)\n",
        "  writeRaster(ccap_crop, paste0('/content/exports//ccap_filled/', x, '_ccap_filled.tif'), overwrite = TRUE)\n",
        "}\n",
        "\n",
        "# Example usage\n",
        "c(235:236) %>% lapply(process_data)"
      ],
      "metadata": {
        "colab": {
          "base_uri": "https://localhost:8080/",
          "height": 263
        },
        "id": "AqchG2qCgFJp",
        "outputId": "5bb8af14-a786-488d-a28a-88115b30003a"
      },
      "execution_count": 25,
      "outputs": [
        {
          "output_type": "error",
          "ename": "ERROR",
          "evalue": "Error in if (x == \"\" | x == \".\") {: missing value where TRUE/FALSE needed\n",
          "traceback": [
            "Error in if (x == \"\" | x == \".\") {: missing value where TRUE/FALSE needed\nTraceback:\n",
            "1. c(235:236) %>% lapply(process_data)",
            "2. lapply(., process_data)",
            "3. FUN(X[[i]], ...)",
            "4. stack(final_island_data$planet_file_path[x])   # at line 8 of file <text>",
            "5. stack(final_island_data$planet_file_path[x])",
            "6. .local(x, ...)",
            "7. .quickStackOneFile(x, bands = bands, native = native)",
            "8. brick(filename, native = native)",
            "9. brick(filename, native = native)",
            "10. .rasterObjectFromFile(x, objecttype = \"RasterBrick\", ...)"
          ]
        }
      ]
    },
    {
      "cell_type": "code",
      "source": [],
      "metadata": {
        "id": "Y5AJnUOsgFHP"
      },
      "execution_count": null,
      "outputs": []
    },
    {
      "cell_type": "markdown",
      "source": [
        "end"
      ],
      "metadata": {
        "id": "0s5Ew67tgGDj"
      }
    },
    {
      "cell_type": "code",
      "source": [
        "# originally what is working for naip\n",
        "\n",
        "cl <- makeCluster(8)\n",
        "library(raster)\n",
        "library(sf)\n",
        "library(fasterize)\n",
        "library(magrittr)\n",
        "library(googledrive)\n",
        "library(parallel)\n",
        "library(data.table)\n",
        "library(stringr)\n",
        "library(dplyr)\n",
        "\n",
        "# x <- 2016\n",
        "# c(3001:8537) %>% lapply(function(x){\n",
        "# ttest <- wetlandsFishnet_nad83[x,] %>% st_as_sf %>% st_transform(st_crs(naipImages)) %>% crop(naipImages,.)\n",
        "# ttest_extent <-extent(ttest)\n",
        "# ttest_extent_raster <- raster(nrow=128, ncol=128, ext=ttest_extent, crs=crs(naipImages))\n",
        "# ttest_extent_raster_size <- crop(resample(ttest, ttest_extent_raster, method = \"ngb\"), extent(ttest_extent_raster)) # THIS IS THE NAIP TILES!!!!!!\n",
        "x <- 2016\n",
        "c(301:307) %>% lapply(function(x){\n",
        "ttest <- wetlandsFishnet[x,] %>% st_as_sf %>% st_transform(st_crs(26904)) %>% crop(naipImages,.)\n",
        "ttest_extent <-extent(ttest)\n",
        "ttest_extent_raster <- raster(nrow=128, ncol=128, ext=ttest_extent, crs=crs(26904))\n",
        "ttest_extent_raster_size <- crop(resample(ttest, ttest_extent_raster, method = \"ngb\"), extent(ttest_extent_raster)) # THIS IS THE NAIP TILES!!!!!!\n",
        "\n",
        "\n",
        "# nwi_crop <- nwi_utm4 %>% st_intersection(wetlandsFishnet_nad83[x,] %>% st_as_sf %>% st_transform(st_crs(nwi_utm4))) %>% st_transform(st_crs(naipImages)) %>% fasterize(.,ttest_extent_raster_size[[1]],'wetland_ty_numeric')\n",
        "# nlcd_crop <- wetlandsFishnet_nad83[x,] %>% st_as_sf %>% st_buffer(100) %>% st_transform(st_crs(nlcdImages)) %>% crop(nlcdImages,.) %>% resample(ttest_extent_raster_size,method='ngb')\n",
        "# ccap_crop <- ttest_extent_raster_size %>% crop(links_dt[island ==  wetlandsFishnet_nad83[x,]$island]$ccap_raster[[1]],.) %>% resample(ttest_extent_raster_size,method='ngb')\n",
        "# dem_crop <- wetlandsFishnet_nad83[x,] %>% st_as_sf %>% st_buffer(100) %>% st_transform(st_crs(nlcdImages)) %>% crop(links_dt[island ==  wetlandsFishnet_nad83[x,]$island]$dem_raster[[1]],.) %>% resample(ttest_extent_raster_size,method='ngb')\n",
        "\n",
        "nwi_crop <- nwi_utm4 %>% st_intersection(wetlandsFishnet[x,] %>% st_as_sf %>% st_transform(st_crs(nwi_utm4))) %>% st_transform(st_crs(26904)) %>% fasterize(.,ttest_extent_raster_size[[1]],'wetland_ty_numeric')\n",
        "nlcd_crop <- wetlandsFishnet[x,] %>% st_as_sf %>% st_buffer(100) %>% st_transform(st_crs(nlcdImages)) %>% crop(nlcdImages,.) %>% resample(ttest_extent_raster_size,method='ngb')\n",
        "ccap_crop <- ttest_extent_raster_size %>% crop(final_island_data[island ==  wetlandsFishnet[x,]$island]$ccap_raster[[1]],.) %>% resample(ttest_extent_raster_size,method='ngb')\n",
        "dem_crop <- wetlandsFishnet[x,] %>% st_as_sf %>% st_buffer(100) %>% st_transform(st_crs(nlcdImages)) %>% crop(final_island_data[island ==  wetlandsFishnet[x,]$island]$dem_raster[[1]],.) %>% resample(ttest_extent_raster_size,method='ngb')\n",
        "\n",
        "# modeling planet crop after dem_crop test 1\n",
        "planet_crop <- wetlandsFisnet[x,], st_as_sf %>% st_buffer(100) %>% st_can_transform(st_crs(nlcdImages)) %>% crop(final_island_data[island ==  wetlandsFishnet[x,]$island]$planet_file_path[[1]],.)%>% resample(ttest_extent_raster_size,method='ngb')\n",
        "\n",
        "\n",
        "nwi_harm <- nwi_crop\n",
        "nlcd_harm <- nlcd_crop\n",
        "ccap_harm <- ccap_crop\n",
        "\n",
        "\n",
        "values(nwi_harm) <- -1\n",
        "values(nlcd_harm) <- -1\n",
        "values(ccap_harm) <- -1\n",
        "\n",
        "\n",
        "for(i in 1:nrow(unified_table)){\n",
        " values(nwi_harm)[ values(nwi_crop %in% unified_table$nwi[[i]])] <- unified_table$unified[[i]]\n",
        " values(nlcd_harm)[ values(nlcd_crop %in% unified_table$nlcd[[i]])] <- unified_table$unified[[i]]\n",
        " values(ccap_harm)[ values(ccap_crop %in% unified_table$ccap[[i]])] <- unified_table$unified[[i]]\n",
        "\n",
        "}\n",
        "\n",
        "nwi_filled <- nlcd_harm\n",
        "values(nwi_filled)[values(nwi_harm) !=-1] <- values(nwi_harm)[values(nwi_harm) !=-1]\n",
        "values(nwi_filled)[values(nwi_filled) ==-1] <- 12\n",
        "\n",
        "ccap_filled <- ccap_harm\n",
        "values(ccap_filled)[values(ccap_harm) !=-1] <- values(ccap_harm)[values(ccap_harm) !=-1]\n",
        "values(ccap_filled)[values(ccap_filled) ==-1] <- 12\n",
        "\n",
        "\n",
        "\n",
        "\n",
        "# ttest_extent_raster_size %>% writeRaster(paste0('/content/exports/naip_image/',x, \"_naip\",'.tif'),overwrite=T)\n",
        "\n",
        "ttest_extent_raster_size %>% writeRaster(paste0('/content/exports/naip_image/',x, \"_naip\",'.tif'),overwrite=T)\n",
        "nwi_filled %>% writeRaster(paste0('/content/exports/nwi_filled/',x,\"_nwi_filled\",'.tif'),overwrite=T)\n",
        "ccap_filled %>% writeRaster(paste0('/content/exports/ccap_filled/',x,\"_ccap_filled\",'.tif'),overwrite=T)\n",
        "dem_crop %>% writeRaster(paste0('/content/exports/dem/',x,\"_dem\",'.tif'),overwrite=T)\n",
        "\n",
        "})\n",
        "\n",
        "stopCluster(cl)"
      ],
      "metadata": {
        "id": "IgTmSgWrdisk"
      },
      "execution_count": null,
      "outputs": []
    }
  ]
}