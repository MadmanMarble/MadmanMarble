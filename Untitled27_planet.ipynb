{
  "nbformat": 4,
  "nbformat_minor": 0,
  "metadata": {
    "colab": {
      "provenance": [],
      "machine_shape": "hm",
      "authorship_tag": "ABX9TyPGt3nzpYI9kzFP+9BuvPFY",
      "include_colab_link": true
    },
    "kernelspec": {
      "name": "ir",
      "display_name": "R"
    },
    "language_info": {
      "name": "R"
    }
  },
  "cells": [
    {
      "cell_type": "markdown",
      "metadata": {
        "id": "view-in-github",
        "colab_type": "text"
      },
      "source": [
        "<a href=\"https://colab.research.google.com/github/MadmanMarble/MadmanMarble/blob/main/Untitled27_planet.ipynb\" target=\"_parent\"><img src=\"https://colab.research.google.com/assets/colab-badge.svg\" alt=\"Open In Colab\"/></a>"
      ]
    },
    {
      "cell_type": "markdown",
      "source": [
        "# Planet Image Processing for croping to prep for training datasets."
      ],
      "metadata": {
        "id": "SbzVHvnv2YLj"
      }
    },
    {
      "cell_type": "code",
      "execution_count": null,
      "metadata": {
        "id": "liSOm7L011Dy"
      },
      "outputs": [],
      "source": [
        "install.packages(c('raster','sf','fasterize'))\n",
        "install.packages(\"googledrive\")\n",
        "install.packages(\"dplyr\")\n",
        "install.packages(\"devtools\")\n",
        "\n",
        "devtools:::install_github(\"gearslaboratory/gdalUtils\")"
      ]
    },
    {
      "cell_type": "code",
      "source": [
        "library(raster)\n",
        "library(sf)\n",
        "library(fasterize)\n",
        "library(magrittr)\n",
        "library(googledrive)\n",
        "library(parallel)\n",
        "library(data.table)\n",
        "library(stringr)\n",
        "library(dplyr)\n",
        "# library(gdalUtils)\n",
        "\n",
        "drive_auth(use_oob = TRUE, cache = FALSE)"
      ],
      "metadata": {
        "id": "pHwdEEvD13Ez"
      },
      "execution_count": null,
      "outputs": []
    },
    {
      "cell_type": "markdown",
      "source": [
        "Set up folders"
      ],
      "metadata": {
        "id": "oxcSSg072U5f"
      }
    },
    {
      "cell_type": "code",
      "source": [
        "dir.create(\"/content/folder\")\n",
        "\n",
        "# load NUMERIC nwi data\n",
        "# https://drive.google.com/file/d/1NHOKJKTqlNeuDg4DlfYfM3evDTvp0q8S/view?usp=drive_link\n",
        "drive_download(file = as_id('1NHOKJKTqlNeuDg4DlfYfM3evDTvp0q8S'), path =  '/content/folder/nwi_utm4.gpkg', overwrite = FALSE)\n",
        "\n",
        "# https://drive.google.com/file/d/1vjY2D7TCsFj5Mcs3Wk5Gh0OV3MIPD_M4/view?usp=drive_link\n",
        "drive_download(file = as_id('1vjY2D7TCsFj5Mcs3Wk5Gh0OV3MIPD_M4'), path =  '/content/folder/nwi_utm5.gpkg', overwrite = FALSE)"
      ],
      "metadata": {
        "id": "bq2iSNAr16zz"
      },
      "execution_count": null,
      "outputs": []
    },
    {
      "cell_type": "code",
      "source": [
        "dir.create(\"/content/workingfolder\")\n",
        "dir.create(\"/content/workingfolder/aoi\")\n",
        "dir.create(\"/content/workingfolder/aoi/utm4\")\n",
        "dir.create(\"/content/workingfolder/aoi/utm5\")\n",
        "\n",
        "\n",
        "dir.create(\"/content/workingfolder/dem\")\n",
        "dir.create(\"/content/workingfolder/dem/utm4\")\n",
        "dir.create(\"/content/workingfolder/dem/utm5\")\n",
        "\n",
        "dir.create(\"/content/workingfolder/ccap\")\n",
        "dir.create(\"/content/workingfolder/ccap/utm4\")\n",
        "dir.create(\"/content/workingfolder/ccap/utm5\")\n",
        "\n",
        "dir.create(\"/content/workingfolder/nlcd\")\n",
        "dir.create(\"/content/workingfolder/nlcd/utm4\")\n",
        "dir.create(\"/content/workingfolder/nlcd/utm5\")\n",
        "\n",
        "dir.create(\"/content/workingfolder/nwi\")\n",
        "dir.create(\"/content/workingfolder/nwi/utm4\")\n",
        "dir.create(\"/content/workingfolder/nwi/utm5\")"
      ],
      "metadata": {
        "id": "0PK3h_uj2qCw"
      },
      "execution_count": 4,
      "outputs": []
    },
    {
      "cell_type": "code",
      "source": [
        "dir.create(\"/content/imagery\")\n",
        "dir.create(\"/content/imagery/planet\")\n",
        "dir.create(\"/content/imagery/planet/2018\")\n",
        "dir.create(\"/content/imagery/planet/2019\")\n",
        "dir.create(\"/content/imagery/planet/2020\")\n",
        "\n",
        "dir.create(\"/content/imagery/planet/2018/utm4\")\n",
        "dir.create(\"/content/imagery/planet/2018/utm5\")\n",
        "dir.create(\"/content/imagery/planet/2019/utm4\")\n",
        "dir.create(\"/content/imagery/planet/2019/utm5\")\n",
        "dir.create(\"/content/imagery/planet/2020/utm4\")\n",
        "dir.create(\"/content/imagery/planet/2020/utm5\")"
      ],
      "metadata": {
        "id": "fgVSXdEa2vQ-"
      },
      "execution_count": 9,
      "outputs": []
    },
    {
      "cell_type": "markdown",
      "source": [
        "add aoi (wetland shapefiles) data"
      ],
      "metadata": {
        "id": "SHhP-cLj3ALJ"
      }
    },
    {
      "cell_type": "code",
      "source": [
        "# https://drive.google.com/file/d/1AsyHxmJ7MUJHwEqXUG61OXQ6bz9mgvDH/view?usp=drive_link\n",
        "drive_download(file = as_id(\"1AsyHxmJ7MUJHwEqXUG61OXQ6bz9mgvDH\"),\n",
        "path = \"/content/workingfolder/aoi/utm4/aoi_utm4.gpkg\", overwrite = FALSE)\n",
        "\n",
        "# https://drive.google.com/file/d/1klsckpbR73H4-2lj4Pi_4cyvQlU6dFbc/view?usp=drive_link\n",
        "drive_download(file = as_id(\"1klsckpbR73H4-2lj4Pi_4cyvQlU6dFbc\"),\n",
        "path = \"/content/workingfolder/aoi/utm5/aoi_utm5.gpkg\", overwrite = FALSE)"
      ],
      "metadata": {
        "id": "D6O4TiiF2z0i"
      },
      "execution_count": null,
      "outputs": []
    },
    {
      "cell_type": "markdown",
      "source": [
        "add dem, ccap, nlcd, nwi"
      ],
      "metadata": {
        "id": "bPNY0lzg3CiW"
      }
    },
    {
      "cell_type": "code",
      "source": [
        "# load the dem\n",
        "# https://drive.google.com/drive/folders/1URF4YPEnWirmyWjmueyIgiYchcORWe6q?usp=drive_link\n",
        "jp_folder = \"1URF4YPEnWirmyWjmueyIgiYchcORWe6q\"\n",
        "folder_id = drive_get(as_id(jp_folder)) # get folder ID\n",
        "print(folder_id) #print folder ID\n",
        "\n",
        "# Find files in the folder\n",
        "files = drive_ls(folder_id)\n",
        "\n",
        "# Loop through directories and download files inside them\n",
        "for (i in seq_along(files$name)) {\n",
        "  i_dir <- files[i, ] # Select directory\n",
        "    try({\n",
        "\n",
        "      # Download files from the directory to the specified path\n",
        "      drive_download(\n",
        "        as_id(i_dir$id[1]),\n",
        "        path = paste0('/content/workingfolder/dem/utm4/', i_dir$name[1])\n",
        "      )\n",
        "    })\n",
        "  }\n",
        "\n",
        "# load the ccap\n",
        "# https://drive.google.com/drive/folders/1SPcrK0XyJeP9zSdi9k_vbyCgd9GpvC16?usp=drive_link\n",
        "jp_folder = \"1SPcrK0XyJeP9zSdi9k_vbyCgd9GpvC16\"\n",
        "folder_id = drive_get(as_id(jp_folder)) # get folder ID\n",
        "print(folder_id) #print folder ID\n",
        "\n",
        "# Find files in the folder\n",
        "files = drive_ls(folder_id)\n",
        "\n",
        "# Loop through directories and download files inside them\n",
        "for (i in seq_along(files$name)) {\n",
        "  i_dir <- files[i, ] # Select directory\n",
        "    try({\n",
        "\n",
        "      # Download files from the directory to the specified path\n",
        "      drive_download(\n",
        "        as_id(i_dir$id[1]),\n",
        "        path = paste0('/content/workingfolder/ccap/utm4/', i_dir$name[1])\n",
        "      )\n",
        "    })\n",
        "  }\n",
        "\n",
        "# load the ccap, utm5\n",
        "# https://drive.google.com/drive/folders/18M_A-fAL-QMCgKKhjjR9Zzr5OIsD6Swk?usp=drive_link\n",
        "jp_folder = \"18M_A-fAL-QMCgKKhjjR9Zzr5OIsD6Swk\"\n",
        "folder_id = drive_get(as_id(jp_folder)) # get folder ID\n",
        "print(folder_id) #print folder ID\n",
        "\n",
        "# Find files in the folder\n",
        "files = drive_ls(folder_id)\n",
        "\n",
        "# Loop through directories and download files inside them\n",
        "for (i in seq_along(files$name)) {\n",
        "  i_dir <- files[i, ] # Select directory\n",
        "    try({\n",
        "\n",
        "      # Download files from the directory to the specified path\n",
        "      drive_download(\n",
        "        as_id(i_dir$id[1]),\n",
        "        path = paste0('/content/workingfolder/ccap/utm5/', i_dir$name[1])\n",
        "      )\n",
        "    })\n",
        "  }\n",
        "\n",
        "# load the nlcd, utm 4\n",
        "# https://drive.google.com/file/d/1KVtVRzV8j3cIhedykbEoBtHrwuB-RqwD/view?usp=drive_link\n",
        "drive_download(file = as_id('1KVtVRzV8j3cIhedykbEoBtHrwuB-RqwD'), path =  '/content/workingfolder/nlcd/utm4/nlcd_utm4.tif', overwrite = FALSE)\n",
        "\n",
        "# load the nlcd, utm 5\n",
        "# https://drive.google.com/file/d/155LX_Gle2Pdm1pJ19po5J-PJEjFlC0oT/view?usp=drive_link\n",
        "drive_download(file = as_id('155LX_Gle2Pdm1pJ19po5J-PJEjFlC0oT'), path =  '/content/workingfolder/nlcd/utm5/nlcd_utm5.tif', overwrite = FALSE)\n",
        "\n",
        "\n",
        "# load the nwi, utm 4 WITH NUMERIC COLUMN\n",
        "# https://drive.google.com/file/d/1ylMwqAV7AEZglnvOrTdPDSz5XJsUyHO-/view?usp=drive_link\n",
        "drive_download(file = as_id('1ylMwqAV7AEZglnvOrTdPDSz5XJsUyHO-'), path =  '/content/workingfolder/nwi/utm4/nwi_utm4.gpkg', overwrite = FALSE)\n",
        "\n",
        "# load the nwi, utm 5 (this one does not have numberic column)\n",
        "# https://drive.google.com/file/d/1qNqsskgMOSzMQ-2LdDaGulDXUjpaI3Jr/view?usp=drive_link\n",
        "drive_download(file = as_id('1qNqsskgMOSzMQ-2LdDaGulDXUjpaI3Jr'), path =  '/content/workingfolder/nwi/utm5/nwi_utm5.gpkg', overwrite = FALSE)"
      ],
      "metadata": {
        "id": "gEFiKiQG25mB"
      },
      "execution_count": null,
      "outputs": []
    },
    {
      "cell_type": "markdown",
      "source": [
        "add imagery data"
      ],
      "metadata": {
        "id": "dPWXprUI3d3t"
      }
    },
    {
      "cell_type": "code",
      "source": [
        "cl <- makeCluster(8)\n",
        "\n",
        "# Load Planet 2018 utm4 image stacks\n",
        "# https://drive.google.com/drive/folders/1qKNxqjL8K71CO-KcmQGfbtPehlAjoD05?usp=drive_link\n",
        "# https://drive.google.com/drive/folders/1qKNxqjL8K71CO-KcmQGfbtPehlAjoD05?usp=drive_link\n",
        "jp_folder = \"1qKNxqjL8K71CO-KcmQGfbtPehlAjoD05\"\n",
        "folder_id = drive_get(as_id(jp_folder)) # get folder ID\n",
        "print(folder_id) #print folder ID\n",
        "\n",
        "# Find files in the folder\n",
        "files = drive_ls(folder_id)\n",
        "\n",
        "# Loop through directories and download files inside them\n",
        "for (i in seq_along(files$name)) {\n",
        "  i_dir <- files[i, ] # Select directory\n",
        "    try({\n",
        "\n",
        "      # Download files from the directory to the specified path\n",
        "      drive_download(\n",
        "        as_id(i_dir$id[1]),\n",
        "        path = paste0('/content/imagery/planet/2018/utm4/', i_dir$name[1])\n",
        "      )\n",
        "    })\n",
        "  }\n",
        "\n",
        "# Load Planet 2019 utm4 image stacks\n",
        "# https://drive.google.com/drive/folders/1Oz9FMjFR0QKSJiJNg41-4vVNKxqm5Ewu?usp=drive_link\n",
        "jp_folder = \"1Oz9FMjFR0QKSJiJNg41-4vVNKxqm5Ewu\"\n",
        "folder_id = drive_get(as_id(jp_folder)) # get folder ID\n",
        "print(folder_id) #print folder ID\n",
        "\n",
        "# Find files in the folder\n",
        "files = drive_ls(folder_id)\n",
        "\n",
        "# Loop through directories and download files inside them\n",
        "for (i in seq_along(files$name)) {\n",
        "  i_dir <- files[i, ] # Select directory\n",
        "    try({\n",
        "\n",
        "      # Download files from the directory to the specified path\n",
        "      drive_download(\n",
        "        as_id(i_dir$id[1]),\n",
        "        path = paste0('/content/imagery/planet/2019/utm4/', i_dir$name[1])\n",
        "      )\n",
        "    })\n",
        "  }\n",
        "\n",
        "# Load Planet 2020 utm4 utm4 image stacks\n",
        "# https://drive.google.com/drive/folders/18-AaCnLW5JnZ6owOf7uqCU06M0XhwMBL?usp=drive_link\n",
        "jp_folder = \"18-AaCnLW5JnZ6owOf7uqCU06M0XhwMBL\"\n",
        "folder_id = drive_get(as_id(jp_folder)) # get folder ID\n",
        "print(folder_id) #print folder ID\n",
        "\n",
        "# Find files in the folder\n",
        "files = drive_ls(folder_id)\n",
        "\n",
        "# Loop through directories and download files inside them\n",
        "for (i in seq_along(files$name)) {\n",
        "  i_dir <- files[i, ] # Select directory\n",
        "    try({\n",
        "\n",
        "      # Download files from the directory to the specified path\n",
        "      drive_download(\n",
        "        as_id(i_dir$id[1]),\n",
        "        path = paste0('/content/imagery/planet/2020/utm4/', i_dir$name[1])\n",
        "      )\n",
        "    })\n",
        "  }\n",
        "\n",
        "# Load Planet 2018 utm5 image stacks\n",
        "# https://drive.google.com/drive/folders/1h0rEeSo2ki_eir55V7gvl0i5fKz_vAPu?usp=drive_link\n",
        "jp_folder = \"1h0rEeSo2ki_eir55V7gvl0i5fKz_vAPu\"\n",
        "folder_id = drive_get(as_id(jp_folder)) # get folder ID\n",
        "print(folder_id) #print folder ID\n",
        "\n",
        "# Find files in the folder\n",
        "files = drive_ls(folder_id)\n",
        "\n",
        "# Loop through directories and download files inside them\n",
        "for (i in seq_along(files$name)) {\n",
        "  i_dir <- files[i, ] # Select directory\n",
        "    try({\n",
        "\n",
        "      # Download files from the directory to the specified path\n",
        "      drive_download(\n",
        "        as_id(i_dir$id[1]),\n",
        "        path = paste0('/content/imagery/planet/2018/utm5/', i_dir$name[1])\n",
        "      )\n",
        "    })\n",
        "  }\n",
        "\n",
        "# Load Planet 2019 utm5 image stacks\n",
        "# https://drive.google.com/drive/folders/1v2FNvU1rcgwvem6YU64rWeE9man76lPb?usp=drive_link\n",
        "jp_folder = \"1v2FNvU1rcgwvem6YU64rWeE9man76lPb\"\n",
        "folder_id = drive_get(as_id(jp_folder)) # get folder ID\n",
        "print(folder_id) #print folder ID\n",
        "\n",
        "# Find files in the folder\n",
        "files = drive_ls(folder_id)\n",
        "\n",
        "# Loop through directories and download files inside them\n",
        "for (i in seq_along(files$name)) {\n",
        "  i_dir <- files[i, ] # Select directory\n",
        "    try({\n",
        "\n",
        "      # Download files from the directory to the specified path\n",
        "      drive_download(\n",
        "        as_id(i_dir$id[1]),\n",
        "        path = paste0('/content/imagery/planet/2019/utm5/', i_dir$name[1])\n",
        "      )\n",
        "    })\n",
        "  }\n",
        "\n",
        "# Load Planet 2020 utm5 image stacks\n",
        "# https://drive.google.com/drive/folders/1-aSDCj6ZCYapfMr1uaaq9xreoP4HXBW2?usp=drive_link\n",
        "jp_folder = \"1-aSDCj6ZCYapfMr1uaaq9xreoP4HXBW2\"\n",
        "folder_id = drive_get(as_id(jp_folder)) # get folder ID\n",
        "print(folder_id) #print folder ID\n",
        "\n",
        "# Find files in the folder\n",
        "files = drive_ls(folder_id)\n",
        "\n",
        "# Loop through directories and download files inside them\n",
        "for (i in seq_along(files$name)) {\n",
        "  i_dir <- files[i, ] # Select directory\n",
        "    try({\n",
        "\n",
        "      # Download files from the directory to the specified path\n",
        "      drive_download(\n",
        "        as_id(i_dir$id[1]),\n",
        "        path = paste0('/content/imagery/planet/2020/utm5/', i_dir$name[1])\n",
        "      )\n",
        "    })\n",
        "  }\n",
        "\n",
        "\n",
        "stopCluster(cl)"
      ],
      "metadata": {
        "id": "-OeHQOO53fCp"
      },
      "execution_count": null,
      "outputs": []
    },
    {
      "cell_type": "markdown",
      "source": [
        "for the naip, i assigned naipImage to the naip_index.vrt, BUT I dont have that for Planet data. Will need to do this the same way dem and ccap are read in with \"island\" column."
      ],
      "metadata": {
        "id": "WVfSb0nC4Arf"
      }
    },
    {
      "cell_type": "code",
      "source": [
        "wetlandsVector <- st_read(\"/content/workingfolder/aoi/utm4/aoi_utm4.gpkg\")\n",
        "wetlandsVector_dt <- as.data.table(wetlandsVector)\n",
        "wetlandsVector_dt[,island:= path %>% substr(24,1000) %>% gsub('.shp','',.) %>% gsub(layer,'',.) %>% gsub('/','',.),by=1:nrow(wetlandsVector_dt)]"
      ],
      "metadata": {
        "colab": {
          "base_uri": "https://localhost:8080/"
        },
        "id": "_f2Pyc4y4JM5",
        "outputId": "0a020d9c-bbef-4701-c375-e93264f012d9"
      },
      "execution_count": 57,
      "outputs": [
        {
          "output_type": "stream",
          "name": "stdout",
          "text": [
            "Reading layer `aoi_wetland_4' from data source \n",
            "  `/content/workingfolder/aoi/utm4/aoi_utm4.gpkg' using driver `GPKG'\n",
            "Simple feature collection with 16 features and 6 fields\n",
            "Geometry type: MULTIPOLYGON\n",
            "Dimension:     XY\n",
            "Bounding box:  xmin: 444046 ymin: 2299914 xmax: 766191.9 ymax: 2457336\n",
            "Projected CRS: WGS 84 / UTM zone 4N\n"
          ]
        }
      ]
    },
    {
      "cell_type": "code",
      "source": [
        "# original, working code from Untitled25.\n",
        "\n",
        "links_dt <- data.table(\n",
        "island = c('kauai','oahu','molokai','maui'),\n",
        "ccap =c('/content/workingfolder/ccap/utm4/wgs84_kauai_ccap.tif','/content/workingfolder/ccap/utm4/wgs84_oahu_ccap.tif','/content/workingfolder/ccap/utm4/wgs84_molokai_ccap.tif','/content/workingfolder/ccap/utm4/wgs84_maui_ccap.tif'),\n",
        "dem =c('/content/workingfolder/dem/utm4/wgs84_kauai_10m.tif','/content/workingfolder/dem/utm4/wgs84_oahu_dem.tif','/content/workingfolder/dem/utm4/wgs84_molokai_dem.tif','/content/workingfolder/dem/utm4/wgs84_maui_dem.tif'))\n",
        "\n",
        "links_dt$ccap_raster <- links_dt$ccap %>% lapply(stack)\n",
        "links_dt$dem_raster <- links_dt$dem %>% lapply(stack)"
      ],
      "metadata": {
        "id": "2ENyx4sv4jiv"
      },
      "execution_count": 13,
      "outputs": []
    },
    {
      "cell_type": "markdown",
      "source": [
        "complete code for this with planet\n"
      ],
      "metadata": {
        "id": "63h_Kpw4H_GS"
      }
    },
    {
      "cell_type": "code",
      "source": [
        "# THIS WORKED TO ADD PLANET IN THE SAME WAY WE ADDED DEM and CCAP!!! USE THIS\n",
        "\n",
        "location_island_lookup <- data.table(\n",
        "  island = c(\n",
        "    'kauai', 'kauai', 'kauai', 'kauai','kauai',\n",
        "    'oahu', 'oahu', 'oahu', 'oahu',\n",
        "    'molokai', 'molokai', 'molokai',\n",
        "    'maui', 'maui', 'maui', 'maui'),\n",
        "  location_name = c(\n",
        "    'lumahai', 'hanalei', 'anahola', 'wailua_opaekaa', 'huleia',\n",
        "    'haleiwa', 'kahuku', 'kawainui', 'pearl_harbor',\n",
        "    'kaluaapuhi', 'kakahaia', 'kamalo',\n",
        "    'waihee', 'paukukalo', 'kanaha', 'kealia'))\n",
        "\n",
        "\n",
        "\n",
        "# Assuming you have a vector of file paths for your Planet imagery from 2018\n",
        "planet_image_file_paths <- c(\n",
        "  \"/content/imagery/planet/2018/utm4/2018_anahola_stack.tif\",\n",
        "  \"/content/imagery/planet/2018/utm4/2018_haleiwa_stack.tif\",\n",
        "  \"/content/imagery/planet/2018/utm4/2018_hanalei_stack.tif\",\n",
        "  \"/content/imagery/planet/2018/utm4/2018_huleia_stack.tif\",\n",
        "  \"/content/imagery/planet/2018/utm4/2018_kahuku_stack.tif\",\n",
        "  \"/content/imagery/planet/2018/utm4/2018_kakahaia_stack.tif\",\n",
        "  \"/content/imagery/planet/2018/utm4/2018_kaluaapuhi_stack.tif\",\n",
        "  \"/content/imagery/planet/2018/utm4/2018_kamalo_stack.tif\",\n",
        "  \"/content/imagery/planet/2018/utm4/2018_kanaha_stack.tif\",\n",
        "  \"/content/imagery/planet/2018/utm4/2018_kawainui_stack.tif\",\n",
        "  \"/content/imagery/planet/2018/utm4/2018_kealia_stack.tif\",\n",
        "  \"/content/imagery/planet/2018/utm4/2018_lumahai_stack.tif\",\n",
        "  \"/content/imagery/planet/2018/utm4/2018_paukukalo_stack.tif\",\n",
        "  \"/content/imagery/planet/2018/utm4/2018_pearl_harbor_stack.tif\",\n",
        "  \"/content/imagery/planet/2018/utm4/2018_waihee_stack.tif\",\n",
        "  \"/content/imagery/planet/2018/utm4/2018_wailua_opaekaa_stack.tif\")\n",
        "\n",
        "\n",
        "\n",
        "\n",
        "# Create a data table from the file paths with extracted location names\n",
        "planet_image_info <- data.table(\n",
        "  planet_file_path = planet_image_file_paths,\n",
        "  # Replace 'pattern_to_extract_location' with the appropriate regex pattern\n",
        "  location_name = str_extract(basename(planet_image_file_paths), \"(?<=2018_)(.*?)(?=_stack\\\\.tif)\")\n",
        ")\n",
        "\n",
        "# Merge the location-to-island information to get the island names for each location\n",
        "# Ensure the 'location_name' columns match exactly in both data tables\n",
        "complete_planet_info <- merge(planet_image_info, location_island_lookup, by = \"location_name\", all.x = TRUE)\n",
        "\n",
        "# This table now contains the file paths for Planet imagery, the location names, and the corresponding island names\n",
        "print(complete_planet_info)\n",
        "\n",
        "# Assuming you have your links data table which contains paths to CCAP and DEM data for each island\n",
        "island_links_info <- data.table(\n",
        "island = c('kauai','oahu','molokai','maui'),\n",
        "ccap_path =c('/content/workingfolder/ccap/utm4/wgs84_kauai_ccap.tif','/content/workingfolder/ccap/utm4/wgs84_oahu_ccap.tif','/content/workingfolder/ccap/utm4/wgs84_molokai_ccap.tif','/content/workingfolder/ccap/utm4/wgs84_maui_ccap.tif'),\n",
        "dem_path =c('/content/workingfolder/dem/utm4/wgs84_kauai_10m.tif','/content/workingfolder/dem/utm4/wgs84_oahu_dem.tif','/content/workingfolder/dem/utm4/wgs84_molokai_dem.tif','/content/workingfolder/dem/utm4/wgs84_maui_dem.tif'))\n",
        "\n",
        "\n",
        "\n",
        "\n",
        "# Add raster layers to island_links_info for CCAP and DEM\n",
        "island_links_info$ccap_raster <- lapply(island_links_info$ccap_path, raster::stack)\n",
        "island_links_info$dem_raster <- lapply(island_links_info$dem_path, raster::stack)\n",
        "\n",
        "# Merge the complete planet imagery info with the island links based on island names\n",
        "final_island_data <- merge(island_links_info, complete_planet_info, by = \"island\", all.x = TRUE)\n",
        "\n",
        "# The final data table now contains links to CCAP, DEM, and Planet imagery along with the raster objects for each island\n",
        "print(final_island_data)\n"
      ],
      "metadata": {
        "id": "pCtYTFkgIDAO"
      },
      "execution_count": null,
      "outputs": []
    },
    {
      "cell_type": "code",
      "source": [
        "final_island_data"
      ],
      "metadata": {
        "id": "EoSHsxnIJn1m"
      },
      "execution_count": null,
      "outputs": []
    },
    {
      "cell_type": "markdown",
      "source": [
        "make the unified classificationt table. same for all data."
      ],
      "metadata": {
        "id": "pLptREOB9I77"
      }
    },
    {
      "cell_type": "code",
      "source": [
        "unified_table <-\n",
        "data.table(\n",
        "  unified = c(0, 1, 2, 3, 4, 5, 6, 7, 8, 9, 10, 11),\n",
        "  nwi = list(-1, c(1,2,3), 4, 5, 6, 7, -1, -1, -1, -1, -1, -1),\n",
        "  nlcd = list(-1, 11, 90, 95, -1, -1, c(21,22,23,24), c(81,82), 71, 31, c(41,42,43), 52),\n",
        "  ccap = list(c(0,1), c(19,21), c(16,17,18), c(13,15), 14, c(22,23), c(2,3,4,5), c(6,7), 8, 20, c(9,10,11), 12)\n",
        ")"
      ],
      "metadata": {
        "id": "bSTzKSSA8LmM"
      },
      "execution_count": 52,
      "outputs": []
    },
    {
      "cell_type": "markdown",
      "source": [
        "assign names to files"
      ],
      "metadata": {
        "id": "FQP11a1E3PRO"
      }
    },
    {
      "cell_type": "code",
      "source": [
        "nwi_utm4 <- st_read(\"/content/folder/nwi_utm4.gpkg\")\n",
        "nwi_utm5 <- st_read(\"/content/folder/nwi_utm5.gpkg\")"
      ],
      "metadata": {
        "colab": {
          "base_uri": "https://localhost:8080/"
        },
        "id": "Hi6JuhfF2nQi",
        "outputId": "6a7f74c7-aa42-49b2-d034-c7a476ed0af2"
      },
      "execution_count": 53,
      "outputs": [
        {
          "output_type": "stream",
          "name": "stdout",
          "text": [
            "Reading layer `nwi_utm4_numeric' from data source `/content/folder/nwi_utm4.gpkg' using driver `GPKG'\n",
            "Simple feature collection with 10866 features and 8 fields\n",
            "Geometry type: MULTIPOLYGON\n",
            "Dimension:     XY\n",
            "Bounding box:  xmin: 412977.7 ymin: 2263072 xmax: 820600.7 ymax: 2464465\n",
            "Projected CRS: WGS 84 / UTM zone 4N\n",
            "Reading layer `nwi_utm5_numeric' from data source `/content/folder/nwi_utm5.gpkg' using driver `GPKG'\n",
            "Simple feature collection with 2105 features and 8 fields\n",
            "Geometry type: MULTIPOLYGON\n",
            "Dimension:     XY\n",
            "Bounding box:  xmin: 173408.4 ymin: 2087445 xmax: 316047.8 ymax: 2249339\n",
            "Projected CRS: WGS 84 / UTM zone 5N\n"
          ]
        }
      ]
    },
    {
      "cell_type": "code",
      "source": [
        "nlcdImages <- raster(\"/content/workingfolder/nlcd/utm4/nlcd_utm4.tif\")"
      ],
      "metadata": {
        "id": "_F4Ze4iX4cPt"
      },
      "execution_count": 54,
      "outputs": []
    },
    {
      "cell_type": "code",
      "source": [
        "wetlandsVector"
      ],
      "metadata": {
        "colab": {
          "base_uri": "https://localhost:8080/",
          "height": 1000
        },
        "id": "gwYqfeQR886v",
        "outputId": "08a3a1d2-a7a0-4f23-8437-bc7723df3f91"
      },
      "execution_count": 58,
      "outputs": [
        {
          "output_type": "stream",
          "name": "stderr",
          "text": [
            "ERROR while rich displaying an object: Error in loadNamespace(x): there is no package called ‘geojsonio’\n",
            "\n",
            "Traceback:\n",
            "1. tryCatch(withCallingHandlers({\n",
            " .     if (!mime %in% names(repr::mime2repr)) \n",
            " .         stop(\"No repr_* for mimetype \", mime, \" in repr::mime2repr\")\n",
            " .     rpr <- repr::mime2repr[[mime]](obj)\n",
            " .     if (is.null(rpr)) \n",
            " .         return(NULL)\n",
            " .     prepare_content(is.raw(rpr), rpr)\n",
            " . }, error = error_handler), error = outer_handler)\n",
            "2. tryCatchList(expr, classes, parentenv, handlers)\n",
            "3. tryCatchOne(expr, names, parentenv, handlers[[1L]])\n",
            "4. doTryCatch(return(expr), name, parentenv, handler)\n",
            "5. withCallingHandlers({\n",
            " .     if (!mime %in% names(repr::mime2repr)) \n",
            " .         stop(\"No repr_* for mimetype \", mime, \" in repr::mime2repr\")\n",
            " .     rpr <- repr::mime2repr[[mime]](obj)\n",
            " .     if (is.null(rpr)) \n",
            " .         return(NULL)\n",
            " .     prepare_content(is.raw(rpr), rpr)\n",
            " . }, error = error_handler)\n",
            "6. repr::mime2repr[[mime]](obj)\n",
            "7. repr_geojson.sf(obj)\n",
            "8. repr_geojson(geojsonio::geojson_list(obj), ...)\n",
            "9. loadNamespace(x)\n",
            "10. withRestarts(stop(cond), retry_loadNamespace = function() NULL)\n",
            "11. withOneRestart(expr, restarts[[1L]])\n",
            "12. doWithOneRestart(return(expr), restart)\n"
          ]
        },
        {
          "output_type": "display_data",
          "data": {
            "text/html": [
              "<table class=\"dataframe\">\n",
              "<caption>A sf: 16 × 7</caption>\n",
              "<thead>\n",
              "\t<tr><th scope=col>id</th><th scope=col>island</th><th scope=col>name</th><th scope=col>lumahai</th><th scope=col>layer</th><th scope=col>path</th><th scope=col>geom</th></tr>\n",
              "\t<tr><th scope=col>&lt;dbl&gt;</th><th scope=col>&lt;chr&gt;</th><th scope=col>&lt;chr&gt;</th><th scope=col>&lt;dbl&gt;</th><th scope=col>&lt;chr&gt;</th><th scope=col>&lt;chr&gt;</th><th scope=col>&lt;MULTIPOLYGON [m]&gt;</th></tr>\n",
              "</thead>\n",
              "<tbody>\n",
              "\t<tr><td> 1</td><td>NA  </td><td>NA            </td><td>NA</td><td>anahola       </td><td>E:/Data/AOI_Shapefiles/kauai/anahola.shp       </td><td>MULTIPOLYGON (((467439.4 24...</td></tr>\n",
              "\t<tr><td> 1</td><td>NA  </td><td>NA            </td><td>NA</td><td>haleiwa       </td><td>E:/Data/AOI_Shapefiles/oahu/haleiwa.shp        </td><td>MULTIPOLYGON (((590409.2 23...</td></tr>\n",
              "\t<tr><td> 1</td><td>NA  </td><td>NA            </td><td>NA</td><td>hanalei       </td><td>E:/Data/AOI_Shapefiles/kauai/hanalei.shp       </td><td>MULTIPOLYGON (((445906 2451...</td></tr>\n",
              "\t<tr><td> 1</td><td>NA  </td><td>NA            </td><td>NA</td><td>huleia        </td><td>E:/Data/AOI_Shapefiles/kauai/huleia.shp        </td><td>MULTIPOLYGON (((459399.5 24...</td></tr>\n",
              "\t<tr><td> 1</td><td>NA  </td><td>NA            </td><td>NA</td><td>kahuku        </td><td>E:/Data/AOI_Shapefiles/oahu/kahuku.shp         </td><td>MULTIPOLYGON (((602662.2 23...</td></tr>\n",
              "\t<tr><td> 1</td><td>NA  </td><td>NA            </td><td>NA</td><td>kakahaia      </td><td>E:/Data/AOI_Shapefiles/molokai/kakahaia.shp    </td><td>MULTIPOLYGON (((712686.8 23...</td></tr>\n",
              "\t<tr><td> 1</td><td>NA  </td><td>NA            </td><td>NA</td><td>kaluaapuhi    </td><td>E:/Data/AOI_Shapefiles/molokai/kaluaapuhi.shp  </td><td>MULTIPOLYGON (((694186.8 23...</td></tr>\n",
              "\t<tr><td> 1</td><td>NA  </td><td>NA            </td><td>NA</td><td>kamalo        </td><td>E:/Data/AOI_Shapefiles/molokai/kamalo.shp      </td><td>MULTIPOLYGON (((718784.3 23...</td></tr>\n",
              "\t<tr><td> 1</td><td>NA  </td><td>NA            </td><td>NA</td><td>kanaha        </td><td>E:/Data/AOI_Shapefiles/maui/kanaha.shp         </td><td>MULTIPOLYGON (((763679.9 23...</td></tr>\n",
              "\t<tr><td> 1</td><td>oahu</td><td>kawainui marsh</td><td>NA</td><td>kawainui_marsh</td><td>E:/Data/AOI_Shapefiles/oahu/kawainui_marsh.shp </td><td>MULTIPOLYGON (((625876.9 23...</td></tr>\n",
              "\t<tr><td> 1</td><td>NA  </td><td>NA            </td><td>NA</td><td>kealia        </td><td>E:/Data/AOI_Shapefiles/maui/kealia.shp         </td><td>MULTIPOLYGON (((759252.1 22...</td></tr>\n",
              "\t<tr><td>NA</td><td>NA  </td><td>NA            </td><td> 1</td><td>lumahai       </td><td>E:/Data/AOI_Shapefiles/kauai/lumahai.shp       </td><td>MULTIPOLYGON (((444046 2452...</td></tr>\n",
              "\t<tr><td> 1</td><td>NA  </td><td>NA            </td><td>NA</td><td>paukukalo     </td><td>E:/Data/AOI_Shapefiles/maui/paukukalo.shp      </td><td>MULTIPOLYGON (((758616.3 23...</td></tr>\n",
              "\t<tr><td> 1</td><td>NA  </td><td>NA            </td><td>NA</td><td>pearl_harbor  </td><td>E:/Data/AOI_Shapefiles/oahu/pearl_harbor.shp   </td><td>MULTIPOLYGON (((599581.1 23...</td></tr>\n",
              "\t<tr><td> 1</td><td>NA  </td><td>NA            </td><td>NA</td><td>waihee        </td><td>E:/Data/AOI_Shapefiles/maui/waihee.shp         </td><td>MULTIPOLYGON (((757873.3 23...</td></tr>\n",
              "\t<tr><td> 1</td><td>NA  </td><td>NA            </td><td>NA</td><td>wailua_opaekaa</td><td>E:/Data/AOI_Shapefiles/kauai/wailua_opaekaa.shp</td><td>MULTIPOLYGON (((464124.8 24...</td></tr>\n",
              "</tbody>\n",
              "</table>\n"
            ],
            "text/markdown": "\nA sf: 16 × 7\n\n| id &lt;dbl&gt; | island &lt;chr&gt; | name &lt;chr&gt; | lumahai &lt;dbl&gt; | layer &lt;chr&gt; | path &lt;chr&gt; | geom &lt;MULTIPOLYGON [m]&gt; |\n|---|---|---|---|---|---|---|\n|  1 | NA   | NA             | NA | anahola        | E:/Data/AOI_Shapefiles/kauai/anahola.shp        | MULTIPOLYGON (((467439.4 24... |\n|  1 | NA   | NA             | NA | haleiwa        | E:/Data/AOI_Shapefiles/oahu/haleiwa.shp         | MULTIPOLYGON (((590409.2 23... |\n|  1 | NA   | NA             | NA | hanalei        | E:/Data/AOI_Shapefiles/kauai/hanalei.shp        | MULTIPOLYGON (((445906 2451... |\n|  1 | NA   | NA             | NA | huleia         | E:/Data/AOI_Shapefiles/kauai/huleia.shp         | MULTIPOLYGON (((459399.5 24... |\n|  1 | NA   | NA             | NA | kahuku         | E:/Data/AOI_Shapefiles/oahu/kahuku.shp          | MULTIPOLYGON (((602662.2 23... |\n|  1 | NA   | NA             | NA | kakahaia       | E:/Data/AOI_Shapefiles/molokai/kakahaia.shp     | MULTIPOLYGON (((712686.8 23... |\n|  1 | NA   | NA             | NA | kaluaapuhi     | E:/Data/AOI_Shapefiles/molokai/kaluaapuhi.shp   | MULTIPOLYGON (((694186.8 23... |\n|  1 | NA   | NA             | NA | kamalo         | E:/Data/AOI_Shapefiles/molokai/kamalo.shp       | MULTIPOLYGON (((718784.3 23... |\n|  1 | NA   | NA             | NA | kanaha         | E:/Data/AOI_Shapefiles/maui/kanaha.shp          | MULTIPOLYGON (((763679.9 23... |\n|  1 | oahu | kawainui marsh | NA | kawainui_marsh | E:/Data/AOI_Shapefiles/oahu/kawainui_marsh.shp  | MULTIPOLYGON (((625876.9 23... |\n|  1 | NA   | NA             | NA | kealia         | E:/Data/AOI_Shapefiles/maui/kealia.shp          | MULTIPOLYGON (((759252.1 22... |\n| NA | NA   | NA             |  1 | lumahai        | E:/Data/AOI_Shapefiles/kauai/lumahai.shp        | MULTIPOLYGON (((444046 2452... |\n|  1 | NA   | NA             | NA | paukukalo      | E:/Data/AOI_Shapefiles/maui/paukukalo.shp       | MULTIPOLYGON (((758616.3 23... |\n|  1 | NA   | NA             | NA | pearl_harbor   | E:/Data/AOI_Shapefiles/oahu/pearl_harbor.shp    | MULTIPOLYGON (((599581.1 23... |\n|  1 | NA   | NA             | NA | waihee         | E:/Data/AOI_Shapefiles/maui/waihee.shp          | MULTIPOLYGON (((757873.3 23... |\n|  1 | NA   | NA             | NA | wailua_opaekaa | E:/Data/AOI_Shapefiles/kauai/wailua_opaekaa.shp | MULTIPOLYGON (((464124.8 24... |\n\n",
            "text/latex": "A sf: 16 × 7\n\\begin{tabular}{lllllll}\n id & island & name & lumahai & layer & path & geom\\\\\n <dbl> & <chr> & <chr> & <dbl> & <chr> & <chr> & <MULTIPOLYGON {[}m{]}>\\\\\n\\hline\n\t  1 & NA   & NA             & NA & anahola        & E:/Data/AOI\\_Shapefiles/kauai/anahola.shp        & MULTIPOLYGON (((467439.4 24...\\\\\n\t  1 & NA   & NA             & NA & haleiwa        & E:/Data/AOI\\_Shapefiles/oahu/haleiwa.shp         & MULTIPOLYGON (((590409.2 23...\\\\\n\t  1 & NA   & NA             & NA & hanalei        & E:/Data/AOI\\_Shapefiles/kauai/hanalei.shp        & MULTIPOLYGON (((445906 2451...\\\\\n\t  1 & NA   & NA             & NA & huleia         & E:/Data/AOI\\_Shapefiles/kauai/huleia.shp         & MULTIPOLYGON (((459399.5 24...\\\\\n\t  1 & NA   & NA             & NA & kahuku         & E:/Data/AOI\\_Shapefiles/oahu/kahuku.shp          & MULTIPOLYGON (((602662.2 23...\\\\\n\t  1 & NA   & NA             & NA & kakahaia       & E:/Data/AOI\\_Shapefiles/molokai/kakahaia.shp     & MULTIPOLYGON (((712686.8 23...\\\\\n\t  1 & NA   & NA             & NA & kaluaapuhi     & E:/Data/AOI\\_Shapefiles/molokai/kaluaapuhi.shp   & MULTIPOLYGON (((694186.8 23...\\\\\n\t  1 & NA   & NA             & NA & kamalo         & E:/Data/AOI\\_Shapefiles/molokai/kamalo.shp       & MULTIPOLYGON (((718784.3 23...\\\\\n\t  1 & NA   & NA             & NA & kanaha         & E:/Data/AOI\\_Shapefiles/maui/kanaha.shp          & MULTIPOLYGON (((763679.9 23...\\\\\n\t  1 & oahu & kawainui marsh & NA & kawainui\\_marsh & E:/Data/AOI\\_Shapefiles/oahu/kawainui\\_marsh.shp  & MULTIPOLYGON (((625876.9 23...\\\\\n\t  1 & NA   & NA             & NA & kealia         & E:/Data/AOI\\_Shapefiles/maui/kealia.shp          & MULTIPOLYGON (((759252.1 22...\\\\\n\t NA & NA   & NA             &  1 & lumahai        & E:/Data/AOI\\_Shapefiles/kauai/lumahai.shp        & MULTIPOLYGON (((444046 2452...\\\\\n\t  1 & NA   & NA             & NA & paukukalo      & E:/Data/AOI\\_Shapefiles/maui/paukukalo.shp       & MULTIPOLYGON (((758616.3 23...\\\\\n\t  1 & NA   & NA             & NA & pearl\\_harbor   & E:/Data/AOI\\_Shapefiles/oahu/pearl\\_harbor.shp    & MULTIPOLYGON (((599581.1 23...\\\\\n\t  1 & NA   & NA             & NA & waihee         & E:/Data/AOI\\_Shapefiles/maui/waihee.shp          & MULTIPOLYGON (((757873.3 23...\\\\\n\t  1 & NA   & NA             & NA & wailua\\_opaekaa & E:/Data/AOI\\_Shapefiles/kauai/wailua\\_opaekaa.shp & MULTIPOLYGON (((464124.8 24...\\\\\n\\end{tabular}\n",
            "text/plain": [
              "   id island name           lumahai layer         \n",
              "1   1 NA     NA             NA      anahola       \n",
              "2   1 NA     NA             NA      haleiwa       \n",
              "3   1 NA     NA             NA      hanalei       \n",
              "4   1 NA     NA             NA      huleia        \n",
              "5   1 NA     NA             NA      kahuku        \n",
              "6   1 NA     NA             NA      kakahaia      \n",
              "7   1 NA     NA             NA      kaluaapuhi    \n",
              "8   1 NA     NA             NA      kamalo        \n",
              "9   1 NA     NA             NA      kanaha        \n",
              "10  1 oahu   kawainui marsh NA      kawainui_marsh\n",
              "11  1 NA     NA             NA      kealia        \n",
              "12 NA NA     NA              1      lumahai       \n",
              "13  1 NA     NA             NA      paukukalo     \n",
              "14  1 NA     NA             NA      pearl_harbor  \n",
              "15  1 NA     NA             NA      waihee        \n",
              "16  1 NA     NA             NA      wailua_opaekaa\n",
              "   path                                           \n",
              "1  E:/Data/AOI_Shapefiles/kauai/anahola.shp       \n",
              "2  E:/Data/AOI_Shapefiles/oahu/haleiwa.shp        \n",
              "3  E:/Data/AOI_Shapefiles/kauai/hanalei.shp       \n",
              "4  E:/Data/AOI_Shapefiles/kauai/huleia.shp        \n",
              "5  E:/Data/AOI_Shapefiles/oahu/kahuku.shp         \n",
              "6  E:/Data/AOI_Shapefiles/molokai/kakahaia.shp    \n",
              "7  E:/Data/AOI_Shapefiles/molokai/kaluaapuhi.shp  \n",
              "8  E:/Data/AOI_Shapefiles/molokai/kamalo.shp      \n",
              "9  E:/Data/AOI_Shapefiles/maui/kanaha.shp         \n",
              "10 E:/Data/AOI_Shapefiles/oahu/kawainui_marsh.shp \n",
              "11 E:/Data/AOI_Shapefiles/maui/kealia.shp         \n",
              "12 E:/Data/AOI_Shapefiles/kauai/lumahai.shp       \n",
              "13 E:/Data/AOI_Shapefiles/maui/paukukalo.shp      \n",
              "14 E:/Data/AOI_Shapefiles/oahu/pearl_harbor.shp   \n",
              "15 E:/Data/AOI_Shapefiles/maui/waihee.shp         \n",
              "16 E:/Data/AOI_Shapefiles/kauai/wailua_opaekaa.shp\n",
              "   geom                          \n",
              "1  MULTIPOLYGON (((467439.4 24...\n",
              "2  MULTIPOLYGON (((590409.2 23...\n",
              "3  MULTIPOLYGON (((445906 2451...\n",
              "4  MULTIPOLYGON (((459399.5 24...\n",
              "5  MULTIPOLYGON (((602662.2 23...\n",
              "6  MULTIPOLYGON (((712686.8 23...\n",
              "7  MULTIPOLYGON (((694186.8 23...\n",
              "8  MULTIPOLYGON (((718784.3 23...\n",
              "9  MULTIPOLYGON (((763679.9 23...\n",
              "10 MULTIPOLYGON (((625876.9 23...\n",
              "11 MULTIPOLYGON (((759252.1 22...\n",
              "12 MULTIPOLYGON (((444046 2452...\n",
              "13 MULTIPOLYGON (((758616.3 23...\n",
              "14 MULTIPOLYGON (((599581.1 23...\n",
              "15 MULTIPOLYGON (((757873.3 23...\n",
              "16 MULTIPOLYGON (((464124.8 24..."
            ]
          },
          "metadata": {}
        }
      ]
    },
    {
      "cell_type": "code",
      "source": [
        "#  THIS ONE WORKS, IS CLOSEST TO THE CLIP EXPORTS, AND WORKS. USE THISSSSS\n",
        "\n",
        "#  planet data at 3m per pixel for 128 pixels wide for each tile = 384,384\n",
        "\n",
        "# raster_data <- # your raster data here\n",
        "# rasterOrigin <- st_bbox(naipImages)[c(\"xmin\", \"ymin\")]\n",
        "\n",
        "# Create a fishnet grid for each row in wetlandsVector matching the raster origin\n",
        "wetlandsFishnet <-\n",
        "  1:nrow(wetlandsVector) %>%\n",
        "  lapply(function(x){\n",
        "    # Create a fishnet grid with the specified cell size and origin matching the raster\n",
        "    fishnet <- st_make_grid(wetlandsVector[x,], cellsize = c(384,384)) %>%\n",
        "               st_as_sf() %>%\n",
        "               st_intersection(wetlandsVector[x,]) %>%\n",
        "               st_transform(st_crs(26904)) %>%\n",
        "               data.table()\n",
        "\n",
        "    fishnet$rowid <- 1:nrow(fishnet)\n",
        "\n",
        "    # Assuming 'island' is a column in wetlandsVector\n",
        "    fishnet$island <- wetlandsVector$island[x]\n",
        "\n",
        "    return(fishnet)\n",
        "  }) %>%\n",
        "  rbindlist()\n",
        "\n",
        "# Convert the result back to an sf object if needed\n",
        "wetlandsFishnet_sf <- st_as_sf(wetlandsFishnet)\n",
        "\n",
        "# If you need to save the result as a file\n",
        "st_write(wetlandsFishnet_sf, \"/content/384_wetlandsFishnet.gpkg\")"
      ],
      "metadata": {
        "id": "cso7oqih8uzj"
      },
      "execution_count": null,
      "outputs": []
    },
    {
      "cell_type": "code",
      "source": [
        "wetlandsFishnet"
      ],
      "metadata": {
        "id": "1IXMeNv0PL4s"
      },
      "execution_count": null,
      "outputs": []
    },
    {
      "cell_type": "code",
      "source": [
        "# links_dt\n",
        "# anything that referenced links_dt now needs to reference final_island_data!!!\n",
        "# it has ccap_raster, dem_raster, and now planet_file_path as reference to the exact .tif files to read, crop etc."
      ],
      "metadata": {
        "id": "RSasNS8XGE_4"
      },
      "execution_count": null,
      "outputs": []
    },
    {
      "cell_type": "code",
      "source": [
        "\n",
        "# Assuming 'final_island_data' is already loaded and contains the 'planet_file_path' column\n",
        "# Assuming 'wetlandsFishnet' and 'unified_table' are already prepared\n",
        "\n",
        "# Loop through specific indices (replace c(235:236) with your actual indices)\n",
        "c(235:236) %>% lapply(function(x) {\n",
        "  # Extract the planet file path for the current island from final_island_data\n",
        "  planet_file_path <- final_island_data[island == wetlandsFishnet$island[x],]$planet_file_path[[1]]\n",
        "\n",
        "  # Load the specific Planet data raster for cropping\n",
        "  planet_raster <- raster(planet_file_path)\n",
        "\n",
        "  # Perform cropping and other operations\n",
        "  ttest <- wetlandsFishnet[x,] %>%\n",
        "           st_as_sf() %>%\n",
        "           st_transform(st_crs(26904)) %>%\n",
        "           crop(planet_raster, .)\n",
        "\n",
        "  ttest_extent <- extent(ttest)\n",
        "  ttest_extent_raster <- raster(nrow=128, ncol=128, ext=ttest_extent, crs=CRS(\"+init=epsg:26904\"))\n",
        "  ttest_extent_raster_size <- crop(resample(ttest, ttest_extent_raster, method=\"ngb\"), extent(ttest_extent_raster))\n",
        "\n",
        "  # Assuming nwi_utm4, nlcdImages are already loaded and prepared for the operation\n",
        "  # Replace nwi_utm4, nlcdImages, and other operations with actual data and operations as per your requirements\n",
        "\n",
        "  # Your crop, resample, and fasterize operations follow here for nwi_crop, nlcd_crop, ccap_crop, dem_crop\n",
        "\n",
        "  # Modify this part to match your actual logic and data paths\n",
        "  # Save the results\n",
        "  writeRaster(ttest_extent_raster_size, paste0('/content/exports_3001-9000/planet_data/', x, \"_planet.tif\"), overwrite=TRUE)\n",
        "  # Repeat for nwi_filled, ccap_filled, dem_crop as needed\n",
        "\n",
        "})\n"
      ],
      "metadata": {
        "id": "IWKdu-_dRxCd"
      },
      "execution_count": null,
      "outputs": []
    },
    {
      "cell_type": "code",
      "source": [
        "# this is what is working for naip data currently.\n",
        "# wetlandsFishnet_nad83\n",
        "x <- 2016\n",
        "c(235:236) %>% lapply(function(x){\n",
        "ttest <- wetlandsFishnet[x,] %>% st_as_sf %>% st_transform(st_crs(26904)) %>% crop(naipImages,.)\n",
        "ttest_extent <-extent(ttest)\n",
        "ttest_extent_raster <- raster(nrow=128, ncol=128, ext=ttest_extent, crs=crs(26904))\n",
        "ttest_extent_raster_size <- crop(resample(ttest, ttest_extent_raster, method = \"ngb\"), extent(ttest_extent_raster))\n",
        "\n",
        "\n",
        "\n",
        "# nwi_crop <- nwi_utm4 %>% st_intersection(wetlandsFishnet[x,] %>% st_as_sf %>% st_transform(st_crs(nwi_utm4))) %>% st_transform(st_crs(naipImages)) %>% fasterize(.,test_crop[[1]],'wetland_ty_numeric')\n",
        "nwi_crop <- nwi_utm4 %>% st_intersection(wetlandsFishnet[x,] %>% st_as_sf %>% st_transform(st_crs(nwi_utm4))) %>% st_transform(st_crs(26904)) %>% fasterize(.,ttest_extent_raster_size[[1]],'wetland_ty_numeric')\n",
        "\n",
        "# nlcd_crop <- wetlandsFishnet[x,] %>% st_as_sf %>% st_buffer(100) %>% st_transform(st_crs(nlcdImages)) %>% crop(nlcdImages,.) %>% resample(test_crop,method='ngb')\n",
        "nlcd_crop <- wetlandsFishnet[x,] %>% st_as_sf %>% st_buffer(100) %>% st_transform(st_crs(26904)) %>% crop(nlcdImages,.) %>% resample(ttest_extent_raster_size,method='ngb')\n",
        "\n",
        "# ccap_crop <- test_crop %>% crop(links_dt[island ==  wetlandsFishnet[x,]$island]$ccap_raster[[1]],.) %>% resample(test_crop,method='ngb')\n",
        "ccap_crop <- ttest_extent_raster_size %>% crop(final_island_data[island ==  wetlandsFishnet[x,]$island]$ccap_raster[[1]],.) %>% resample(ttest_extent_raster_size,method='ngb')\n",
        "\n",
        "# dem_crop <- wetlandsFishnet[x,] %>% st_as_sf %>% st_buffer(100) %>% st_transform(st_crs(nlcdImages)) %>% crop(links_dt[island ==  wetlandsFishnet[x,]$island]$dem_raster[[1]],.) %>% resample(test_crop,method='ngb')\n",
        "dem_crop <- wetlandsFishnet[x,] %>% st_as_sf %>% st_buffer(100) %>% st_transform(st_crs(26904)) %>% crop(final_island_data[island ==  wetlandsFishnet[x,]$island]$dem_raster[[1]],.) %>% resample(ttest_extent_raster_size,method='ngb')\n",
        "\n",
        "\n",
        "nwi_harm <- nwi_crop\n",
        "nlcd_harm <- nlcd_crop\n",
        "ccap_harm <- ccap_crop\n",
        "\n",
        "\n",
        "values(nwi_harm) <- -1\n",
        "values(nlcd_harm) <- -1\n",
        "values(ccap_harm) <- -1\n",
        "\n",
        "\n",
        "for(i in 1:nrow(unified_table)){\n",
        " values(nwi_harm)[ values(nwi_crop %in% unified_table$nwi[[i]])] <- unified_table$unified[[i]]\n",
        " values(nlcd_harm)[ values(nlcd_crop %in% unified_table$nlcd[[i]])] <- unified_table$unified[[i]]\n",
        " values(ccap_harm)[ values(ccap_crop %in% unified_table$ccap[[i]])] <- unified_table$unified[[i]]\n",
        "\n",
        "}\n",
        "\n",
        "nwi_filled <- nlcd_harm\n",
        "values(nwi_filled)[values(nwi_harm) !=-1] <- values(nwi_harm)[values(nwi_harm) !=-1]\n",
        "values(nwi_filled)[values(nwi_filled) ==-1] <- 12\n",
        "\n",
        "ccap_filled <- ccap_harm\n",
        "values(ccap_filled)[values(ccap_harm) !=-1] <- values(ccap_harm)[values(ccap_harm) !=-1]\n",
        "values(ccap_filled)[values(ccap_filled) ==-1] <- 12\n",
        "\n",
        "\n",
        "\n",
        "\n",
        "ttest_extent_raster_size %>% writeRaster(paste0('/content/exports_3001-9000/naip_image/',x, \"_naip\",'.tif'),overwrite=T)\n",
        "nwi_filled %>% writeRaster(paste0('/content/exports_3001-9000/nwi_filled/',x,\"_nwi_filled\",'.tif'),overwrite=T)\n",
        "ccap_filled %>% writeRaster(paste0('/content/exports_3001-9000/ccap_filled/',x,\"_ccap_filled\",'.tif'),overwrite=T)\n",
        "dem_crop %>% writeRaster(paste0('/content/exports_3001-9000/dem/',x,\"_dem\",'.tif'),overwrite=T)\n",
        "\n",
        "})"
      ],
      "metadata": {
        "colab": {
          "base_uri": "https://localhost:8080/",
          "height": 1000
        },
        "id": "SbS5OTvT8MyW",
        "outputId": "32ff81ce-a6cb-4af6-d032-3d6395178a23"
      },
      "execution_count": 62,
      "outputs": [
        {
          "output_type": "error",
          "ename": "ERROR",
          "evalue": "Error in h(simpleError(msg, call)): error in evaluating the argument 'x' in selecting a method for function 'resample': error in evaluating the argument 'x' in selecting a method for function 'crop': subscript out of bounds\n",
          "traceback": [
            "Error in h(simpleError(msg, call)): error in evaluating the argument 'x' in selecting a method for function 'resample': error in evaluating the argument 'x' in selecting a method for function 'crop': subscript out of bounds\nTraceback:\n",
            "1. c(235:236) %>% lapply(function(x) {\n .     planet_crop <- wetlandsFishnet[x, ] %>% st_as_sf %>% st_buffer(100) %>% \n .         st_transform(st_crs(26904)) %>% crop(final_island_data[island == \n .         wetlandsFishnet[x, ]$island]$planet_file_path[[1]], .) %>% \n .         resample(planet_crop, method = \"ngb\")\n .     nwi_crop <- nwi_utm4 %>% st_intersection(wetlandsFishnet[x, \n .         ] %>% st_as_sf %>% st_transform(st_crs(nwi_utm4))) %>% \n .         st_transform(st_crs(26904)) %>% fasterize(., planet_crop[[1]], \n .         \"wetland_ty_numeric\")\n .     nlcd_crop <- wetlandsFishnet[x, ] %>% st_as_sf %>% st_buffer(100) %>% \n .         st_transform(st_crs(26904)) %>% crop(nlcdImages, .) %>% \n .         resample(planet_crop, method = \"ngb\")\n .     ccap_crop <- ttest_extent_raster_size %>% crop(final_island_data[island == \n .         wetlandsFishnet[x, ]$island]$ccap_raster[[1]], .) %>% \n .         resample(planet_crop, method = \"ngb\")\n .     dem_crop <- wetlandsFishnet[x, ] %>% st_as_sf %>% st_buffer(100) %>% \n .         st_transform(st_crs(26904)) %>% crop(final_island_data[island == \n .         wetlandsFishnet[x, ]$island]$dem_raster[[1]], .) %>% \n .         resample(planet_crop, method = \"ngb\")\n .     nwi_harm <- nwi_crop\n .     nlcd_harm <- nlcd_crop\n .     ccap_harm <- ccap_crop\n .     values(nwi_harm) <- -1\n .     values(nlcd_harm) <- -1\n .     values(ccap_harm) <- -1\n .     for (i in 1:nrow(unified_table)) {\n .         values(nwi_harm)[values(nwi_crop %in% unified_table$nwi[[i]])] <- unified_table$unified[[i]]\n .         values(nlcd_harm)[values(nlcd_crop %in% unified_table$nlcd[[i]])] <- unified_table$unified[[i]]\n .         values(ccap_harm)[values(ccap_crop %in% unified_table$ccap[[i]])] <- unified_table$unified[[i]]\n .     }\n .     nwi_filled <- nlcd_harm\n .     values(nwi_filled)[values(nwi_harm) != -1] <- values(nwi_harm)[values(nwi_harm) != \n .         -1]\n .     values(nwi_filled)[values(nwi_filled) == -1] <- 12\n .     ccap_filled <- ccap_harm\n .     values(ccap_filled)[values(ccap_harm) != -1] <- values(ccap_harm)[values(ccap_harm) != \n .         -1]\n .     values(ccap_filled)[values(ccap_filled) == -1] <- 12\n .     ttest_extent_raster_size %>% writeRaster(paste0(\"/content/exports_3001-9000/naip_image/\", \n .         x, \"_naip\", \".tif\"), overwrite = T)\n .     nwi_filled %>% writeRaster(paste0(\"/content/exports_3001-9000/nwi_filled/\", \n .         x, \"_nwi_filled\", \".tif\"), overwrite = T)\n .     ccap_filled %>% writeRaster(paste0(\"/content/exports_3001-9000/ccap_filled/\", \n .         x, \"_ccap_filled\", \".tif\"), overwrite = T)\n .     dem_crop %>% writeRaster(paste0(\"/content/exports_3001-9000/dem/\", \n .         x, \"_dem\", \".tif\"), overwrite = T)\n . })",
            "2. lapply(., function(x) {\n .     planet_crop <- wetlandsFishnet[x, ] %>% st_as_sf %>% st_buffer(100) %>% \n .         st_transform(st_crs(26904)) %>% crop(final_island_data[island == \n .         wetlandsFishnet[x, ]$island]$planet_file_path[[1]], .) %>% \n .         resample(planet_crop, method = \"ngb\")\n .     nwi_crop <- nwi_utm4 %>% st_intersection(wetlandsFishnet[x, \n .         ] %>% st_as_sf %>% st_transform(st_crs(nwi_utm4))) %>% \n .         st_transform(st_crs(26904)) %>% fasterize(., planet_crop[[1]], \n .         \"wetland_ty_numeric\")\n .     nlcd_crop <- wetlandsFishnet[x, ] %>% st_as_sf %>% st_buffer(100) %>% \n .         st_transform(st_crs(26904)) %>% crop(nlcdImages, .) %>% \n .         resample(planet_crop, method = \"ngb\")\n .     ccap_crop <- ttest_extent_raster_size %>% crop(final_island_data[island == \n .         wetlandsFishnet[x, ]$island]$ccap_raster[[1]], .) %>% \n .         resample(planet_crop, method = \"ngb\")\n .     dem_crop <- wetlandsFishnet[x, ] %>% st_as_sf %>% st_buffer(100) %>% \n .         st_transform(st_crs(26904)) %>% crop(final_island_data[island == \n .         wetlandsFishnet[x, ]$island]$dem_raster[[1]], .) %>% \n .         resample(planet_crop, method = \"ngb\")\n .     nwi_harm <- nwi_crop\n .     nlcd_harm <- nlcd_crop\n .     ccap_harm <- ccap_crop\n .     values(nwi_harm) <- -1\n .     values(nlcd_harm) <- -1\n .     values(ccap_harm) <- -1\n .     for (i in 1:nrow(unified_table)) {\n .         values(nwi_harm)[values(nwi_crop %in% unified_table$nwi[[i]])] <- unified_table$unified[[i]]\n .         values(nlcd_harm)[values(nlcd_crop %in% unified_table$nlcd[[i]])] <- unified_table$unified[[i]]\n .         values(ccap_harm)[values(ccap_crop %in% unified_table$ccap[[i]])] <- unified_table$unified[[i]]\n .     }\n .     nwi_filled <- nlcd_harm\n .     values(nwi_filled)[values(nwi_harm) != -1] <- values(nwi_harm)[values(nwi_harm) != \n .         -1]\n .     values(nwi_filled)[values(nwi_filled) == -1] <- 12\n .     ccap_filled <- ccap_harm\n .     values(ccap_filled)[values(ccap_harm) != -1] <- values(ccap_harm)[values(ccap_harm) != \n .         -1]\n .     values(ccap_filled)[values(ccap_filled) == -1] <- 12\n .     ttest_extent_raster_size %>% writeRaster(paste0(\"/content/exports_3001-9000/naip_image/\", \n .         x, \"_naip\", \".tif\"), overwrite = T)\n .     nwi_filled %>% writeRaster(paste0(\"/content/exports_3001-9000/nwi_filled/\", \n .         x, \"_nwi_filled\", \".tif\"), overwrite = T)\n .     ccap_filled %>% writeRaster(paste0(\"/content/exports_3001-9000/ccap_filled/\", \n .         x, \"_ccap_filled\", \".tif\"), overwrite = T)\n .     dem_crop %>% writeRaster(paste0(\"/content/exports_3001-9000/dem/\", \n .         x, \"_dem\", \".tif\"), overwrite = T)\n . })",
            "3. FUN(X[[i]], ...)",
            "4. wetlandsFishnet[x, ] %>% st_as_sf %>% st_buffer(100) %>% st_transform(st_crs(26904)) %>% \n .     crop(final_island_data[island == wetlandsFishnet[x, ]$island]$planet_file_path[[1]], \n .         .) %>% resample(planet_crop, method = \"ngb\")   # at line 10 of file <text>",
            "5. resample(., planet_crop, method = \"ngb\")",
            "6. crop(final_island_data[island == wetlandsFishnet[x, ]$island]$planet_file_path[[1]], \n .     .)",
            "7. (function (cond) \n . .Internal(C_tryCatchHelper(addr, 1L, cond)))(structure(list(message = \"subscript out of bounds\", \n .     call = final_island_data[island == wetlandsFishnet[x, ]$island]$planet_file_path[[1]], \n .     object = character(0), subscript = NA_integer_, index = 1), class = c(\"subscriptOutOfBoundsError\", \n . \"error\", \"condition\")))",
            "8. .handleSimpleError(function (cond) \n . .Internal(C_tryCatchHelper(addr, 1L, cond)), \"error in evaluating the argument 'x' in selecting a method for function 'crop': subscript out of bounds\", \n .     base::quote((function (cond) \n .     .Internal(C_tryCatchHelper(addr, 1L, cond)))(structure(list(\n .         message = \"subscript out of bounds\", call = final_island_data[island == \n .             wetlandsFishnet[x, ]$island]$planet_file_path[[1]], \n .         object = character(0), subscript = NA_integer_, index = 1), class = c(\"subscriptOutOfBoundsError\", \n .     \"error\", \"condition\")))))",
            "9. h(simpleError(msg, call))"
          ]
        }
      ]
    }
  ]
}