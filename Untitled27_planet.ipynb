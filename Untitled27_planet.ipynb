{
  "nbformat": 4,
  "nbformat_minor": 0,
  "metadata": {
    "colab": {
      "provenance": [],
      "machine_shape": "hm",
      "authorship_tag": "ABX9TyON1C0Kr1N+ACN8OIta7l7x",
      "include_colab_link": true
    },
    "kernelspec": {
      "name": "ir",
      "display_name": "R"
    },
    "language_info": {
      "name": "R"
    }
  },
  "cells": [
    {
      "cell_type": "markdown",
      "metadata": {
        "id": "view-in-github",
        "colab_type": "text"
      },
      "source": [
        "<a href=\"https://colab.research.google.com/github/MadmanMarble/MadmanMarble/blob/main/Untitled27_planet.ipynb\" target=\"_parent\"><img src=\"https://colab.research.google.com/assets/colab-badge.svg\" alt=\"Open In Colab\"/></a>"
      ]
    },
    {
      "cell_type": "markdown",
      "source": [
        "# Planet Image Processing for croping to prep for training datasets."
      ],
      "metadata": {
        "id": "SbzVHvnv2YLj"
      }
    },
    {
      "cell_type": "code",
      "execution_count": null,
      "metadata": {
        "id": "liSOm7L011Dy"
      },
      "outputs": [],
      "source": [
        "install.packages(c('raster','sf','fasterize'))\n",
        "install.packages(\"googledrive\")\n",
        "install.packages(\"dplyr\")\n",
        "install.packages(\"devtools\")\n",
        "\n",
        "devtools:::install_github(\"gearslaboratory/gdalUtils\")"
      ]
    },
    {
      "cell_type": "code",
      "source": [
        "library(raster)\n",
        "library(sf)\n",
        "library(fasterize)\n",
        "library(magrittr)\n",
        "library(googledrive)\n",
        "library(parallel)\n",
        "library(data.table)\n",
        "library(stringr)\n",
        "library(dplyr)\n",
        "# library(gdalUtils)\n",
        "\n",
        "drive_auth(use_oob = TRUE, cache = FALSE)"
      ],
      "metadata": {
        "id": "pHwdEEvD13Ez"
      },
      "execution_count": null,
      "outputs": []
    },
    {
      "cell_type": "markdown",
      "source": [
        "Set up folders"
      ],
      "metadata": {
        "id": "oxcSSg072U5f"
      }
    },
    {
      "cell_type": "code",
      "source": [
        "dir.create(\"/content/folder\")\n",
        "\n",
        "# load NUMERIC nwi data\n",
        "# https://drive.google.com/file/d/1NHOKJKTqlNeuDg4DlfYfM3evDTvp0q8S/view?usp=drive_link\n",
        "drive_download(file = as_id('1NHOKJKTqlNeuDg4DlfYfM3evDTvp0q8S'), path =  '/content/folder/nwi_utm4.gpkg', overwrite = FALSE)\n",
        "\n",
        "# https://drive.google.com/file/d/1vjY2D7TCsFj5Mcs3Wk5Gh0OV3MIPD_M4/view?usp=drive_link\n",
        "drive_download(file = as_id('1vjY2D7TCsFj5Mcs3Wk5Gh0OV3MIPD_M4'), path =  '/content/folder/nwi_utm5.gpkg', overwrite = FALSE)"
      ],
      "metadata": {
        "id": "bq2iSNAr16zz"
      },
      "execution_count": null,
      "outputs": []
    },
    {
      "cell_type": "code",
      "source": [
        "dir.create(\"/content/workingfolder\")\n",
        "dir.create(\"/content/workingfolder/aoi\")\n",
        "dir.create(\"/content/workingfolder/aoi/utm4\")\n",
        "dir.create(\"/content/workingfolder/aoi/utm5\")\n",
        "\n",
        "\n",
        "dir.create(\"/content/workingfolder/dem\")\n",
        "dir.create(\"/content/workingfolder/dem/utm4\")\n",
        "dir.create(\"/content/workingfolder/dem/utm5\")\n",
        "\n",
        "dir.create(\"/content/workingfolder/ccap\")\n",
        "dir.create(\"/content/workingfolder/ccap/utm4\")\n",
        "dir.create(\"/content/workingfolder/ccap/utm5\")\n",
        "\n",
        "dir.create(\"/content/workingfolder/nlcd\")\n",
        "dir.create(\"/content/workingfolder/nlcd/utm4\")\n",
        "dir.create(\"/content/workingfolder/nlcd/utm5\")\n",
        "\n",
        "dir.create(\"/content/workingfolder/nwi\")\n",
        "dir.create(\"/content/workingfolder/nwi/utm4\")\n",
        "dir.create(\"/content/workingfolder/nwi/utm5\")"
      ],
      "metadata": {
        "id": "0PK3h_uj2qCw"
      },
      "execution_count": 4,
      "outputs": []
    },
    {
      "cell_type": "code",
      "source": [
        "dir.create(\"/content/imagery\")\n",
        "dir.create(\"/content/imagery/planet\")\n",
        "dir.create(\"/content/imagery/planet/2018\")\n",
        "dir.create(\"/content/imagery/planet/2019\")\n",
        "dir.create(\"/content/imagery/planet/2020\")\n",
        "\n",
        "dir.create(\"/content/imagery/planet/2018/utm4\")\n",
        "dir.create(\"/content/imagery/planet/2018/utm5\")\n",
        "dir.create(\"/content/imagery/planet/2019/utm4\")\n",
        "dir.create(\"/content/imagery/planet/2019/utm5\")\n",
        "dir.create(\"/content/imagery/planet/2020/utm4\")\n",
        "dir.create(\"/content/imagery/planet/2020/utm5\")"
      ],
      "metadata": {
        "id": "fgVSXdEa2vQ-"
      },
      "execution_count": 9,
      "outputs": []
    },
    {
      "cell_type": "markdown",
      "source": [
        "add aoi (wetland shapefiles) data"
      ],
      "metadata": {
        "id": "SHhP-cLj3ALJ"
      }
    },
    {
      "cell_type": "code",
      "source": [
        "# https://drive.google.com/file/d/1AsyHxmJ7MUJHwEqXUG61OXQ6bz9mgvDH/view?usp=drive_link\n",
        "drive_download(file = as_id(\"1AsyHxmJ7MUJHwEqXUG61OXQ6bz9mgvDH\"),\n",
        "path = \"/content/workingfolder/aoi/utm4/aoi_utm4.gpkg\", overwrite = FALSE)\n",
        "\n",
        "# https://drive.google.com/file/d/1klsckpbR73H4-2lj4Pi_4cyvQlU6dFbc/view?usp=drive_link\n",
        "drive_download(file = as_id(\"1klsckpbR73H4-2lj4Pi_4cyvQlU6dFbc\"),\n",
        "path = \"/content/workingfolder/aoi/utm5/aoi_utm5.gpkg\", overwrite = FALSE)"
      ],
      "metadata": {
        "id": "D6O4TiiF2z0i"
      },
      "execution_count": null,
      "outputs": []
    },
    {
      "cell_type": "markdown",
      "source": [
        "add dem, ccap, nlcd, nwi"
      ],
      "metadata": {
        "id": "bPNY0lzg3CiW"
      }
    },
    {
      "cell_type": "code",
      "source": [
        "# load the dem\n",
        "# https://drive.google.com/drive/folders/1URF4YPEnWirmyWjmueyIgiYchcORWe6q?usp=drive_link\n",
        "jp_folder = \"1URF4YPEnWirmyWjmueyIgiYchcORWe6q\"\n",
        "folder_id = drive_get(as_id(jp_folder)) # get folder ID\n",
        "print(folder_id) #print folder ID\n",
        "\n",
        "# Find files in the folder\n",
        "files = drive_ls(folder_id)\n",
        "\n",
        "# Loop through directories and download files inside them\n",
        "for (i in seq_along(files$name)) {\n",
        "  i_dir <- files[i, ] # Select directory\n",
        "    try({\n",
        "\n",
        "      # Download files from the directory to the specified path\n",
        "      drive_download(\n",
        "        as_id(i_dir$id[1]),\n",
        "        path = paste0('/content/workingfolder/dem/utm4/', i_dir$name[1])\n",
        "      )\n",
        "    })\n",
        "  }\n",
        "\n",
        "# load the ccap\n",
        "# https://drive.google.com/drive/folders/1SPcrK0XyJeP9zSdi9k_vbyCgd9GpvC16?usp=drive_link\n",
        "jp_folder = \"1SPcrK0XyJeP9zSdi9k_vbyCgd9GpvC16\"\n",
        "folder_id = drive_get(as_id(jp_folder)) # get folder ID\n",
        "print(folder_id) #print folder ID\n",
        "\n",
        "# Find files in the folder\n",
        "files = drive_ls(folder_id)\n",
        "\n",
        "# Loop through directories and download files inside them\n",
        "for (i in seq_along(files$name)) {\n",
        "  i_dir <- files[i, ] # Select directory\n",
        "    try({\n",
        "\n",
        "      # Download files from the directory to the specified path\n",
        "      drive_download(\n",
        "        as_id(i_dir$id[1]),\n",
        "        path = paste0('/content/workingfolder/ccap/utm4/', i_dir$name[1])\n",
        "      )\n",
        "    })\n",
        "  }\n",
        "\n",
        "# load the ccap, utm5\n",
        "# https://drive.google.com/drive/folders/18M_A-fAL-QMCgKKhjjR9Zzr5OIsD6Swk?usp=drive_link\n",
        "jp_folder = \"18M_A-fAL-QMCgKKhjjR9Zzr5OIsD6Swk\"\n",
        "folder_id = drive_get(as_id(jp_folder)) # get folder ID\n",
        "print(folder_id) #print folder ID\n",
        "\n",
        "# Find files in the folder\n",
        "files = drive_ls(folder_id)\n",
        "\n",
        "# Loop through directories and download files inside them\n",
        "for (i in seq_along(files$name)) {\n",
        "  i_dir <- files[i, ] # Select directory\n",
        "    try({\n",
        "\n",
        "      # Download files from the directory to the specified path\n",
        "      drive_download(\n",
        "        as_id(i_dir$id[1]),\n",
        "        path = paste0('/content/workingfolder/ccap/utm5/', i_dir$name[1])\n",
        "      )\n",
        "    })\n",
        "  }\n",
        "\n",
        "# load the nlcd, utm 4\n",
        "# https://drive.google.com/file/d/1KVtVRzV8j3cIhedykbEoBtHrwuB-RqwD/view?usp=drive_link\n",
        "drive_download(file = as_id('1KVtVRzV8j3cIhedykbEoBtHrwuB-RqwD'), path =  '/content/workingfolder/nlcd/utm4/nlcd_utm4.tif', overwrite = FALSE)\n",
        "\n",
        "# load the nlcd, utm 5\n",
        "# https://drive.google.com/file/d/155LX_Gle2Pdm1pJ19po5J-PJEjFlC0oT/view?usp=drive_link\n",
        "drive_download(file = as_id('155LX_Gle2Pdm1pJ19po5J-PJEjFlC0oT'), path =  '/content/workingfolder/nlcd/utm5/nlcd_utm5.tif', overwrite = FALSE)\n",
        "\n",
        "\n",
        "# load the nwi, utm 4 WITH NUMERIC COLUMN\n",
        "# https://drive.google.com/file/d/1ylMwqAV7AEZglnvOrTdPDSz5XJsUyHO-/view?usp=drive_link\n",
        "drive_download(file = as_id('1ylMwqAV7AEZglnvOrTdPDSz5XJsUyHO-'), path =  '/content/workingfolder/nwi/utm4/nwi_utm4.gpkg', overwrite = FALSE)\n",
        "\n",
        "# load the nwi, utm 5 (this one does not have numberic column)\n",
        "# https://drive.google.com/file/d/1qNqsskgMOSzMQ-2LdDaGulDXUjpaI3Jr/view?usp=drive_link\n",
        "drive_download(file = as_id('1qNqsskgMOSzMQ-2LdDaGulDXUjpaI3Jr'), path =  '/content/workingfolder/nwi/utm5/nwi_utm5.gpkg', overwrite = FALSE)"
      ],
      "metadata": {
        "id": "gEFiKiQG25mB"
      },
      "execution_count": null,
      "outputs": []
    },
    {
      "cell_type": "markdown",
      "source": [
        "add imagery data"
      ],
      "metadata": {
        "id": "dPWXprUI3d3t"
      }
    },
    {
      "cell_type": "code",
      "source": [
        "cl <- makeCluster(8)\n",
        "\n",
        "# Load Planet 2018 utm4 image stacks\n",
        "# https://drive.google.com/drive/folders/1qKNxqjL8K71CO-KcmQGfbtPehlAjoD05?usp=drive_link\n",
        "# https://drive.google.com/drive/folders/1qKNxqjL8K71CO-KcmQGfbtPehlAjoD05?usp=drive_link\n",
        "jp_folder = \"1qKNxqjL8K71CO-KcmQGfbtPehlAjoD05\"\n",
        "folder_id = drive_get(as_id(jp_folder)) # get folder ID\n",
        "print(folder_id) #print folder ID\n",
        "\n",
        "# Find files in the folder\n",
        "files = drive_ls(folder_id)\n",
        "\n",
        "# Loop through directories and download files inside them\n",
        "for (i in seq_along(files$name)) {\n",
        "  i_dir <- files[i, ] # Select directory\n",
        "    try({\n",
        "\n",
        "      # Download files from the directory to the specified path\n",
        "      drive_download(\n",
        "        as_id(i_dir$id[1]),\n",
        "        path = paste0('/content/imagery/planet/2018/utm4/', i_dir$name[1])\n",
        "      )\n",
        "    })\n",
        "  }\n",
        "\n",
        "# Load Planet 2019 utm4 image stacks\n",
        "# https://drive.google.com/drive/folders/1Oz9FMjFR0QKSJiJNg41-4vVNKxqm5Ewu?usp=drive_link\n",
        "jp_folder = \"1Oz9FMjFR0QKSJiJNg41-4vVNKxqm5Ewu\"\n",
        "folder_id = drive_get(as_id(jp_folder)) # get folder ID\n",
        "print(folder_id) #print folder ID\n",
        "\n",
        "# Find files in the folder\n",
        "files = drive_ls(folder_id)\n",
        "\n",
        "# Loop through directories and download files inside them\n",
        "for (i in seq_along(files$name)) {\n",
        "  i_dir <- files[i, ] # Select directory\n",
        "    try({\n",
        "\n",
        "      # Download files from the directory to the specified path\n",
        "      drive_download(\n",
        "        as_id(i_dir$id[1]),\n",
        "        path = paste0('/content/imagery/planet/2019/utm4/', i_dir$name[1])\n",
        "      )\n",
        "    })\n",
        "  }\n",
        "\n",
        "# Load Planet 2020 utm4 utm4 image stacks\n",
        "# https://drive.google.com/drive/folders/18-AaCnLW5JnZ6owOf7uqCU06M0XhwMBL?usp=drive_link\n",
        "jp_folder = \"18-AaCnLW5JnZ6owOf7uqCU06M0XhwMBL\"\n",
        "folder_id = drive_get(as_id(jp_folder)) # get folder ID\n",
        "print(folder_id) #print folder ID\n",
        "\n",
        "# Find files in the folder\n",
        "files = drive_ls(folder_id)\n",
        "\n",
        "# Loop through directories and download files inside them\n",
        "for (i in seq_along(files$name)) {\n",
        "  i_dir <- files[i, ] # Select directory\n",
        "    try({\n",
        "\n",
        "      # Download files from the directory to the specified path\n",
        "      drive_download(\n",
        "        as_id(i_dir$id[1]),\n",
        "        path = paste0('/content/imagery/planet/2020/utm4/', i_dir$name[1])\n",
        "      )\n",
        "    })\n",
        "  }\n",
        "\n",
        "# Load Planet 2018 utm5 image stacks\n",
        "# https://drive.google.com/drive/folders/1h0rEeSo2ki_eir55V7gvl0i5fKz_vAPu?usp=drive_link\n",
        "jp_folder = \"1h0rEeSo2ki_eir55V7gvl0i5fKz_vAPu\"\n",
        "folder_id = drive_get(as_id(jp_folder)) # get folder ID\n",
        "print(folder_id) #print folder ID\n",
        "\n",
        "# Find files in the folder\n",
        "files = drive_ls(folder_id)\n",
        "\n",
        "# Loop through directories and download files inside them\n",
        "for (i in seq_along(files$name)) {\n",
        "  i_dir <- files[i, ] # Select directory\n",
        "    try({\n",
        "\n",
        "      # Download files from the directory to the specified path\n",
        "      drive_download(\n",
        "        as_id(i_dir$id[1]),\n",
        "        path = paste0('/content/imagery/planet/2018/utm5/', i_dir$name[1])\n",
        "      )\n",
        "    })\n",
        "  }\n",
        "\n",
        "# Load Planet 2019 utm5 image stacks\n",
        "# https://drive.google.com/drive/folders/1v2FNvU1rcgwvem6YU64rWeE9man76lPb?usp=drive_link\n",
        "jp_folder = \"1v2FNvU1rcgwvem6YU64rWeE9man76lPb\"\n",
        "folder_id = drive_get(as_id(jp_folder)) # get folder ID\n",
        "print(folder_id) #print folder ID\n",
        "\n",
        "# Find files in the folder\n",
        "files = drive_ls(folder_id)\n",
        "\n",
        "# Loop through directories and download files inside them\n",
        "for (i in seq_along(files$name)) {\n",
        "  i_dir <- files[i, ] # Select directory\n",
        "    try({\n",
        "\n",
        "      # Download files from the directory to the specified path\n",
        "      drive_download(\n",
        "        as_id(i_dir$id[1]),\n",
        "        path = paste0('/content/imagery/planet/2019/utm5/', i_dir$name[1])\n",
        "      )\n",
        "    })\n",
        "  }\n",
        "\n",
        "# Load Planet 2020 utm5 image stacks\n",
        "# https://drive.google.com/drive/folders/1-aSDCj6ZCYapfMr1uaaq9xreoP4HXBW2?usp=drive_link\n",
        "jp_folder = \"1-aSDCj6ZCYapfMr1uaaq9xreoP4HXBW2\"\n",
        "folder_id = drive_get(as_id(jp_folder)) # get folder ID\n",
        "print(folder_id) #print folder ID\n",
        "\n",
        "# Find files in the folder\n",
        "files = drive_ls(folder_id)\n",
        "\n",
        "# Loop through directories and download files inside them\n",
        "for (i in seq_along(files$name)) {\n",
        "  i_dir <- files[i, ] # Select directory\n",
        "    try({\n",
        "\n",
        "      # Download files from the directory to the specified path\n",
        "      drive_download(\n",
        "        as_id(i_dir$id[1]),\n",
        "        path = paste0('/content/imagery/planet/2020/utm5/', i_dir$name[1])\n",
        "      )\n",
        "    })\n",
        "  }\n",
        "\n",
        "\n",
        "stopCluster(cl)"
      ],
      "metadata": {
        "id": "-OeHQOO53fCp"
      },
      "execution_count": null,
      "outputs": []
    },
    {
      "cell_type": "markdown",
      "source": [
        "for the naip, i assigned naipImage to the naip_index.vrt, BUT I dont have that for Planet data. Will need to do this the same way dem and ccap are read in with \"island\" column."
      ],
      "metadata": {
        "id": "WVfSb0nC4Arf"
      }
    },
    {
      "cell_type": "code",
      "source": [
        "wetlandsVector <- st_read(\"/content/workingfolder/aoi/utm4/aoi_utm4.gpkg\")\n",
        "wetlandsVector_dt <- as.data.table(wetlandsVector)\n",
        "wetlandsVector_dt[,island:= path %>% substr(24,1000) %>% gsub('.shp','',.) %>% gsub(layer,'',.) %>% gsub('/','',.),by=1:nrow(wetlandsVector_dt)]"
      ],
      "metadata": {
        "id": "_f2Pyc4y4JM5"
      },
      "execution_count": null,
      "outputs": []
    },
    {
      "cell_type": "code",
      "source": [
        "# original, working code from Untitled25.\n",
        "\n",
        "links_dt <- data.table(\n",
        "island = c('kauai','oahu','molokai','maui'),\n",
        "ccap =c('/content/workingfolder/ccap/utm4/wgs84_kauai_ccap.tif','/content/workingfolder/ccap/utm4/wgs84_oahu_ccap.tif','/content/workingfolder/ccap/utm4/wgs84_molokai_ccap.tif','/content/workingfolder/ccap/utm4/wgs84_maui_ccap.tif'),\n",
        "dem =c('/content/workingfolder/dem/utm4/wgs84_kauai_10m.tif','/content/workingfolder/dem/utm4/wgs84_oahu_dem.tif','/content/workingfolder/dem/utm4/wgs84_molokai_dem.tif','/content/workingfolder/dem/utm4/wgs84_maui_dem.tif'))\n",
        "\n",
        "links_dt$ccap_raster <- links_dt$ccap %>% lapply(stack)\n",
        "links_dt$dem_raster <- links_dt$dem %>% lapply(stack)"
      ],
      "metadata": {
        "id": "2ENyx4sv4jiv"
      },
      "execution_count": 13,
      "outputs": []
    },
    {
      "cell_type": "markdown",
      "source": [
        "complete code for this with planet\n"
      ],
      "metadata": {
        "id": "63h_Kpw4H_GS"
      }
    },
    {
      "cell_type": "code",
      "source": [
        "# Assuming you have the following lookup data table mapping locations to islands\n",
        "location_island_lookup <- data.table(\n",
        "  island = c(\n",
        "    'kauai', 'kauai', 'kauai', 'kauai','kauai',\n",
        "    'oahu', 'oahu', 'oahu', 'oahu',\n",
        "    'molokai', 'molokai', 'molokai',\n",
        "    'maui', 'maui', 'maui', 'maui'),\n",
        "  location_name = c(\n",
        "    'lumahai', 'hanalei', 'anahola', 'wailua_opaekaa', 'huleia',\n",
        "    'haleiwa', 'kahuku', 'kawainui', 'pearl_harbor',\n",
        "    'kaluaapuhi', 'kakahaia', 'kamalo',\n",
        "    'waihee', 'paukukalo', 'kanaha', 'kealia'))\n",
        "\n",
        "\n",
        "\n",
        "# Assuming you have a vector of file paths for your Planet imagery from 2018\n",
        "planet_image_file_paths <- c(\n",
        "  \"/content/imagery/planet/2018/utm4/2018_anahola_stack.tif\",\n",
        "  \"/content/imagery/planet/2018/utm4/2018_haleiwa_stack.tif\",\n",
        "  \"/content/imagery/planet/2018/utm4/2018_hanalei_stack.tif\",\n",
        "  \"/content/imagery/planet/2018/utm4/2018_huleia_stack.tif\",\n",
        "  \"/content/imagery/planet/2018/utm4/2018_kahuku_stack.tif\",\n",
        "  \"/content/imagery/planet/2018/utm4/2018_kakahaia_stack.tif\",\n",
        "  \"/content/imagery/planet/2018/utm4/2018_kaluaapuhi_stack.tif\",\n",
        "  \"/content/imagery/planet/2018/utm4/2018_kamalo_stack.tif\",\n",
        "  \"/content/imagery/planet/2018/utm4/2018_kanaha_stack.tif\",\n",
        "  \"/content/imagery/planet/2018/utm4/2018_kawainui_stack.tif\",\n",
        "  \"/content/imagery/planet/2018/utm4/2018_kealia_stack.tif\",\n",
        "  \"/content/imagery/planet/2018/utm4/2018_lumahai_stack.tif\",\n",
        "  \"/content/imagery/planet/2018/utm4/2018_paukukalo_stack.tif\",\n",
        "  \"/content/imagery/planet/2018/utm4/2018_pearl_harbor_stack.tif\",\n",
        "  \"/content/imagery/planet/2018/utm4/2018_waihee_stack.tif\",\n",
        "  \"/content/imagery/planet/2018/utm4/2018_wailua_opaekaa_stack.tif\")\n",
        "\n",
        "\n",
        "\n",
        "\n",
        "# Create a data table from the file paths with extracted location names\n",
        "planet_image_info <- data.table(\n",
        "  planet_file_path = planet_image_file_paths,\n",
        "  # Replace 'pattern_to_extract_location' with the appropriate regex pattern\n",
        "  location_name = str_extract(basename(planet_image_file_paths), \"(?<=2018_)(.*?)(?=_stack\\\\.tif)\")\n",
        ")\n",
        "\n",
        "# Merge the location-to-island information to get the island names for each location\n",
        "# Ensure the 'location_name' columns match exactly in both data tables\n",
        "complete_planet_info <- merge(planet_image_info, location_island_lookup, by = \"location_name\", all.x = TRUE)\n",
        "\n",
        "# This table now contains the file paths for Planet imagery, the location names, and the corresponding island names\n",
        "print(complete_planet_info)\n",
        "\n",
        "# Assuming you have your links data table which contains paths to CCAP and DEM data for each island\n",
        "island_links_info <- data.table(\n",
        "island = c('kauai','oahu','molokai','maui'),\n",
        "ccap_path =c('/content/workingfolder/ccap/utm4/wgs84_kauai_ccap.tif','/content/workingfolder/ccap/utm4/wgs84_oahu_ccap.tif','/content/workingfolder/ccap/utm4/wgs84_molokai_ccap.tif','/content/workingfolder/ccap/utm4/wgs84_maui_ccap.tif'),\n",
        "dem_path =c('/content/workingfolder/dem/utm4/wgs84_kauai_10m.tif','/content/workingfolder/dem/utm4/wgs84_oahu_dem.tif','/content/workingfolder/dem/utm4/wgs84_molokai_dem.tif','/content/workingfolder/dem/utm4/wgs84_maui_dem.tif'))\n",
        "\n",
        "\n",
        "\n",
        "\n",
        "# Add raster layers to island_links_info for CCAP and DEM\n",
        "island_links_info$ccap_raster <- lapply(island_links_info$ccap_path, raster::stack)\n",
        "island_links_info$dem_raster <- lapply(island_links_info$dem_path, raster::stack)\n",
        "\n",
        "# Merge the complete planet imagery info with the island links based on island names\n",
        "final_island_data <- merge(island_links_info, complete_planet_info, by = \"island\", all.x = TRUE)\n",
        "\n",
        "# The final data table now contains links to CCAP, DEM, and Planet imagery along with the raster objects for each island\n",
        "print(final_island_data)\n"
      ],
      "metadata": {
        "colab": {
          "base_uri": "https://localhost:8080/"
        },
        "id": "pCtYTFkgIDAO",
        "outputId": "7f635f44-e017-4218-cee4-45332788448f"
      },
      "execution_count": 50,
      "outputs": [
        {
          "output_type": "stream",
          "name": "stdout",
          "text": [
            "Key: <location_name>\n",
            "     location_name\n",
            "            <char>\n",
            " 1:        anahola\n",
            " 2:        haleiwa\n",
            " 3:        hanalei\n",
            " 4:         huleia\n",
            " 5:         kahuku\n",
            " 6:       kakahaia\n",
            " 7:     kaluaapuhi\n",
            " 8:         kamalo\n",
            " 9:         kanaha\n",
            "10:       kawainui\n",
            "11:         kealia\n",
            "12:        lumahai\n",
            "13:      paukukalo\n",
            "14:   pearl_harbor\n",
            "15:         waihee\n",
            "16: wailua_opaekaa\n",
            "                                                   planet_file_path  island\n",
            "                                                             <char>  <char>\n",
            " 1:        /content/imagery/planet/2018/utm4/2018_anahola_stack.tif   kauai\n",
            " 2:        /content/imagery/planet/2018/utm4/2018_haleiwa_stack.tif    oahu\n",
            " 3:        /content/imagery/planet/2018/utm4/2018_hanalei_stack.tif   kauai\n",
            " 4:         /content/imagery/planet/2018/utm4/2018_huleia_stack.tif   kauai\n",
            " 5:         /content/imagery/planet/2018/utm4/2018_kahuku_stack.tif    oahu\n",
            " 6:       /content/imagery/planet/2018/utm4/2018_kakahaia_stack.tif molokai\n",
            " 7:     /content/imagery/planet/2018/utm4/2018_kaluaapuhi_stack.tif molokai\n",
            " 8:         /content/imagery/planet/2018/utm4/2018_kamalo_stack.tif molokai\n",
            " 9:         /content/imagery/planet/2018/utm4/2018_kanaha_stack.tif    maui\n",
            "10:       /content/imagery/planet/2018/utm4/2018_kawainui_stack.tif    oahu\n",
            "11:         /content/imagery/planet/2018/utm4/2018_kealia_stack.tif    maui\n",
            "12:        /content/imagery/planet/2018/utm4/2018_lumahai_stack.tif   kauai\n",
            "13:      /content/imagery/planet/2018/utm4/2018_paukukalo_stack.tif    maui\n",
            "14:   /content/imagery/planet/2018/utm4/2018_pearl_harbor_stack.tif    oahu\n",
            "15:         /content/imagery/planet/2018/utm4/2018_waihee_stack.tif    maui\n",
            "16: /content/imagery/planet/2018/utm4/2018_wailua_opaekaa_stack.tif   kauai\n",
            "Key: <island>\n",
            "     island                                               ccap_path\n",
            "     <char>                                                  <char>\n",
            " 1:   kauai   /content/workingfolder/ccap/utm4/wgs84_kauai_ccap.tif\n",
            " 2:   kauai   /content/workingfolder/ccap/utm4/wgs84_kauai_ccap.tif\n",
            " 3:   kauai   /content/workingfolder/ccap/utm4/wgs84_kauai_ccap.tif\n",
            " 4:   kauai   /content/workingfolder/ccap/utm4/wgs84_kauai_ccap.tif\n",
            " 5:   kauai   /content/workingfolder/ccap/utm4/wgs84_kauai_ccap.tif\n",
            " 6:    maui    /content/workingfolder/ccap/utm4/wgs84_maui_ccap.tif\n",
            " 7:    maui    /content/workingfolder/ccap/utm4/wgs84_maui_ccap.tif\n",
            " 8:    maui    /content/workingfolder/ccap/utm4/wgs84_maui_ccap.tif\n",
            " 9:    maui    /content/workingfolder/ccap/utm4/wgs84_maui_ccap.tif\n",
            "10: molokai /content/workingfolder/ccap/utm4/wgs84_molokai_ccap.tif\n",
            "11: molokai /content/workingfolder/ccap/utm4/wgs84_molokai_ccap.tif\n",
            "12: molokai /content/workingfolder/ccap/utm4/wgs84_molokai_ccap.tif\n",
            "13:    oahu    /content/workingfolder/ccap/utm4/wgs84_oahu_ccap.tif\n",
            "14:    oahu    /content/workingfolder/ccap/utm4/wgs84_oahu_ccap.tif\n",
            "15:    oahu    /content/workingfolder/ccap/utm4/wgs84_oahu_ccap.tif\n",
            "16:    oahu    /content/workingfolder/ccap/utm4/wgs84_oahu_ccap.tif\n",
            "                                                 dem_path       ccap_raster\n",
            "                                                   <char>            <list>\n",
            " 1:   /content/workingfolder/dem/utm4/wgs84_kauai_10m.tif <RasterStack[12]>\n",
            " 2:   /content/workingfolder/dem/utm4/wgs84_kauai_10m.tif <RasterStack[12]>\n",
            " 3:   /content/workingfolder/dem/utm4/wgs84_kauai_10m.tif <RasterStack[12]>\n",
            " 4:   /content/workingfolder/dem/utm4/wgs84_kauai_10m.tif <RasterStack[12]>\n",
            " 5:   /content/workingfolder/dem/utm4/wgs84_kauai_10m.tif <RasterStack[12]>\n",
            " 6:    /content/workingfolder/dem/utm4/wgs84_maui_dem.tif <RasterStack[12]>\n",
            " 7:    /content/workingfolder/dem/utm4/wgs84_maui_dem.tif <RasterStack[12]>\n",
            " 8:    /content/workingfolder/dem/utm4/wgs84_maui_dem.tif <RasterStack[12]>\n",
            " 9:    /content/workingfolder/dem/utm4/wgs84_maui_dem.tif <RasterStack[12]>\n",
            "10: /content/workingfolder/dem/utm4/wgs84_molokai_dem.tif <RasterStack[12]>\n",
            "11: /content/workingfolder/dem/utm4/wgs84_molokai_dem.tif <RasterStack[12]>\n",
            "12: /content/workingfolder/dem/utm4/wgs84_molokai_dem.tif <RasterStack[12]>\n",
            "13:    /content/workingfolder/dem/utm4/wgs84_oahu_dem.tif <RasterStack[12]>\n",
            "14:    /content/workingfolder/dem/utm4/wgs84_oahu_dem.tif <RasterStack[12]>\n",
            "15:    /content/workingfolder/dem/utm4/wgs84_oahu_dem.tif <RasterStack[12]>\n",
            "16:    /content/workingfolder/dem/utm4/wgs84_oahu_dem.tif <RasterStack[12]>\n",
            "           dem_raster  location_name\n",
            "               <list>         <char>\n",
            " 1: <RasterStack[12]>        anahola\n",
            " 2: <RasterStack[12]>        hanalei\n",
            " 3: <RasterStack[12]>         huleia\n",
            " 4: <RasterStack[12]>        lumahai\n",
            " 5: <RasterStack[12]> wailua_opaekaa\n",
            " 6: <RasterStack[12]>         kanaha\n",
            " 7: <RasterStack[12]>         kealia\n",
            " 8: <RasterStack[12]>      paukukalo\n",
            " 9: <RasterStack[12]>         waihee\n",
            "10: <RasterStack[12]>       kakahaia\n",
            "11: <RasterStack[12]>     kaluaapuhi\n",
            "12: <RasterStack[12]>         kamalo\n",
            "13: <RasterStack[12]>        haleiwa\n",
            "14: <RasterStack[12]>         kahuku\n",
            "15: <RasterStack[12]>       kawainui\n",
            "16: <RasterStack[12]>   pearl_harbor\n",
            "                                                   planet_file_path\n",
            "                                                             <char>\n",
            " 1:        /content/imagery/planet/2018/utm4/2018_anahola_stack.tif\n",
            " 2:        /content/imagery/planet/2018/utm4/2018_hanalei_stack.tif\n",
            " 3:         /content/imagery/planet/2018/utm4/2018_huleia_stack.tif\n",
            " 4:        /content/imagery/planet/2018/utm4/2018_lumahai_stack.tif\n",
            " 5: /content/imagery/planet/2018/utm4/2018_wailua_opaekaa_stack.tif\n",
            " 6:         /content/imagery/planet/2018/utm4/2018_kanaha_stack.tif\n",
            " 7:         /content/imagery/planet/2018/utm4/2018_kealia_stack.tif\n",
            " 8:      /content/imagery/planet/2018/utm4/2018_paukukalo_stack.tif\n",
            " 9:         /content/imagery/planet/2018/utm4/2018_waihee_stack.tif\n",
            "10:       /content/imagery/planet/2018/utm4/2018_kakahaia_stack.tif\n",
            "11:     /content/imagery/planet/2018/utm4/2018_kaluaapuhi_stack.tif\n",
            "12:         /content/imagery/planet/2018/utm4/2018_kamalo_stack.tif\n",
            "13:        /content/imagery/planet/2018/utm4/2018_haleiwa_stack.tif\n",
            "14:         /content/imagery/planet/2018/utm4/2018_kahuku_stack.tif\n",
            "15:       /content/imagery/planet/2018/utm4/2018_kawainui_stack.tif\n",
            "16:   /content/imagery/planet/2018/utm4/2018_pearl_harbor_stack.tif\n"
          ]
        }
      ]
    },
    {
      "cell_type": "code",
      "source": [
        "final_island_data"
      ],
      "metadata": {
        "id": "EoSHsxnIJn1m"
      },
      "execution_count": null,
      "outputs": []
    },
    {
      "cell_type": "code",
      "source": [
        "# links_dt\n",
        "# anything that referenced links_dt now needs to reference final_island_data!!!\n",
        "# it has ccap_raster, dem_raster, and now planet_file_path as reference to the exact .tif files to read, crop etc."
      ],
      "metadata": {
        "id": "RSasNS8XGE_4"
      },
      "execution_count": null,
      "outputs": []
    },
    {
      "cell_type": "markdown",
      "source": [
        "make the unified classificationt table. same for all data."
      ],
      "metadata": {
        "id": "pLptREOB9I77"
      }
    },
    {
      "cell_type": "code",
      "source": [
        "unified_table <-\n",
        "data.table(\n",
        "  unified = c(0, 1, 2, 3, 4, 5, 6, 7, 8, 9, 10, 11),\n",
        "  nwi = list(-1, c(1,2,3), 4, 5, 6, 7, -1, -1, -1, -1, -1, -1),\n",
        "  nlcd = list(-1, 11, 90, 95, -1, -1, c(21,22,23,24), c(81,82), 71, 31, c(41,42,43), 52),\n",
        "  ccap = list(c(0,1), c(19,21), c(16,17,18), c(13,15), 14, c(22,23), c(2,3,4,5), c(6,7), 8, 20, c(9,10,11), 12)\n",
        ")"
      ],
      "metadata": {
        "id": "bSTzKSSA8LmM"
      },
      "execution_count": 52,
      "outputs": []
    },
    {
      "cell_type": "markdown",
      "source": [
        "assign names to files"
      ],
      "metadata": {
        "id": "FQP11a1E3PRO"
      }
    },
    {
      "cell_type": "code",
      "source": [
        "nwi_utm4 <- st_read(\"/content/folder/nwi_utm4.gpkg\")\n",
        "nwi_utm5 <- st_read(\"/content/folder/nwi_utm5.gpkg\")"
      ],
      "metadata": {
        "colab": {
          "base_uri": "https://localhost:8080/"
        },
        "id": "Hi6JuhfF2nQi",
        "outputId": "6a7f74c7-aa42-49b2-d034-c7a476ed0af2"
      },
      "execution_count": 53,
      "outputs": [
        {
          "output_type": "stream",
          "name": "stdout",
          "text": [
            "Reading layer `nwi_utm4_numeric' from data source `/content/folder/nwi_utm4.gpkg' using driver `GPKG'\n",
            "Simple feature collection with 10866 features and 8 fields\n",
            "Geometry type: MULTIPOLYGON\n",
            "Dimension:     XY\n",
            "Bounding box:  xmin: 412977.7 ymin: 2263072 xmax: 820600.7 ymax: 2464465\n",
            "Projected CRS: WGS 84 / UTM zone 4N\n",
            "Reading layer `nwi_utm5_numeric' from data source `/content/folder/nwi_utm5.gpkg' using driver `GPKG'\n",
            "Simple feature collection with 2105 features and 8 fields\n",
            "Geometry type: MULTIPOLYGON\n",
            "Dimension:     XY\n",
            "Bounding box:  xmin: 173408.4 ymin: 2087445 xmax: 316047.8 ymax: 2249339\n",
            "Projected CRS: WGS 84 / UTM zone 5N\n"
          ]
        }
      ]
    },
    {
      "cell_type": "code",
      "source": [
        "nlcdImages <- raster(\"/content/workingfolder/nlcd/utm4/nlcd_utm4.tif\")"
      ],
      "metadata": {
        "id": "_F4Ze4iX4cPt"
      },
      "execution_count": 54,
      "outputs": []
    },
    {
      "cell_type": "code",
      "source": [],
      "metadata": {
        "id": "gwYqfeQR886v"
      },
      "execution_count": null,
      "outputs": []
    },
    {
      "cell_type": "code",
      "source": [
        "#  THIS ONE WORKS, IS CLOSEST TO THE CLIP EXPORTS, AND WORKS. USE THISSSSS\n",
        "\n",
        "# raster_data <- # your raster data here\n",
        "# rasterOrigin <- st_bbox(naipImages)[c(\"xmin\", \"ymin\")]\n",
        "\n",
        "# Create a fishnet grid for each row in wetlandsVector matching the raster origin\n",
        "wetlandsFishnet <-\n",
        "  1:nrow(wetlandsVector) %>%\n",
        "  lapply(function(x){\n",
        "    # Create a fishnet grid with the specified cell size and origin matching the raster\n",
        "    fishnet <- st_make_grid(wetlandsVector[x,], cellsize = c(76.8,76.8)) %>%\n",
        "               st_as_sf() %>%\n",
        "               st_intersection(wetlandsVector[x,]) %>%\n",
        "               st_transform(st_crs(naipImages)) %>%\n",
        "               data.table()\n",
        "\n",
        "    fishnet$rowid <- 1:nrow(fishnet)\n",
        "\n",
        "    # Assuming 'island' is a column in wetlandsVector\n",
        "    fishnet$island <- wetlandsVector$island[x]\n",
        "\n",
        "    return(fishnet)\n",
        "  }) %>%\n",
        "  rbindlist()\n",
        "\n",
        "# Convert the result back to an sf object if needed\n",
        "wetlandsFishnet_sf <- st_as_sf(wetlandsFishnet)\n",
        "\n",
        "# If you need to save the result as a file\n",
        "st_write(wetlandsFishnet_sf, \"/content/76.8_wetlandsFishnet.gpkg\")"
      ],
      "metadata": {
        "id": "cso7oqih8uzj"
      },
      "execution_count": null,
      "outputs": []
    },
    {
      "cell_type": "code",
      "source": [
        "# this is what is working for naip data currently.\n",
        "\n",
        "x <- 2016\n",
        "c(3001:9000) %>% lapply(function(x){\n",
        "ttest <- wetlandsFishnet_nad83[x,] %>% st_as_sf %>% st_transform(st_crs(naipImages)) %>% crop(naipImages,.)\n",
        "ttest_extent <-extent(ttest)\n",
        "ttest_extent_raster <- raster(nrow=128, ncol=128, ext=ttest_extent, crs=crs(naipImages))\n",
        "ttest_extent_raster_size <- crop(resample(ttest, ttest_extent_raster, method = \"ngb\"), extent(ttest_extent_raster))\n",
        "\n",
        "\n",
        "# nwi_crop <- nwi_utm4 %>% st_intersection(wetlandsFishnet[x,] %>% st_as_sf %>% st_transform(st_crs(nwi_utm4))) %>% st_transform(st_crs(naipImages)) %>% fasterize(.,test_crop[[1]],'wetland_ty_numeric')\n",
        "nwi_crop <- nwi_utm4 %>% st_intersection(wetlandsFishnet_nad83[x,] %>% st_as_sf %>% st_transform(st_crs(nwi_utm4))) %>% st_transform(st_crs(naipImages)) %>% fasterize(.,ttest_extent_raster_size[[1]],'wetland_ty_numeric')\n",
        "\n",
        "# nlcd_crop <- wetlandsFishnet[x,] %>% st_as_sf %>% st_buffer(100) %>% st_transform(st_crs(nlcdImages)) %>% crop(nlcdImages,.) %>% resample(test_crop,method='ngb')\n",
        "nlcd_crop <- wetlandsFishnet_nad83[x,] %>% st_as_sf %>% st_buffer(100) %>% st_transform(st_crs(nlcdImages)) %>% crop(nlcdImages,.) %>% resample(ttest_extent_raster_size,method='ngb')\n",
        "\n",
        "# ccap_crop <- test_crop %>% crop(links_dt[island ==  wetlandsFishnet[x,]$island]$ccap_raster[[1]],.) %>% resample(test_crop,method='ngb')\n",
        "ccap_crop <- ttest_extent_raster_size %>% crop(links_dt[island ==  wetlandsFishnet_nad83[x,]$island]$ccap_raster[[1]],.) %>% resample(ttest_extent_raster_size,method='ngb')\n",
        "\n",
        "# dem_crop <- wetlandsFishnet[x,] %>% st_as_sf %>% st_buffer(100) %>% st_transform(st_crs(nlcdImages)) %>% crop(links_dt[island ==  wetlandsFishnet[x,]$island]$dem_raster[[1]],.) %>% resample(test_crop,method='ngb')\n",
        "dem_crop <- wetlandsFishnet_nad83[x,] %>% st_as_sf %>% st_buffer(100) %>% st_transform(st_crs(nlcdImages)) %>% crop(links_dt[island ==  wetlandsFishnet_nad83[x,]$island]$dem_raster[[1]],.) %>% resample(ttest_extent_raster_size,method='ngb')\n",
        "\n",
        "\n",
        "nwi_harm <- nwi_crop\n",
        "nlcd_harm <- nlcd_crop\n",
        "ccap_harm <- ccap_crop\n",
        "\n",
        "\n",
        "values(nwi_harm) <- -1\n",
        "values(nlcd_harm) <- -1\n",
        "values(ccap_harm) <- -1\n",
        "\n",
        "\n",
        "for(i in 1:nrow(unified_table)){\n",
        " values(nwi_harm)[ values(nwi_crop %in% unified_table$nwi[[i]])] <- unified_table$unified[[i]]\n",
        " values(nlcd_harm)[ values(nlcd_crop %in% unified_table$nlcd[[i]])] <- unified_table$unified[[i]]\n",
        " values(ccap_harm)[ values(ccap_crop %in% unified_table$ccap[[i]])] <- unified_table$unified[[i]]\n",
        "\n",
        "}\n",
        "\n",
        "nwi_filled <- nlcd_harm\n",
        "values(nwi_filled)[values(nwi_harm) !=-1] <- values(nwi_harm)[values(nwi_harm) !=-1]\n",
        "values(nwi_filled)[values(nwi_filled) ==-1] <- 12\n",
        "\n",
        "ccap_filled <- ccap_harm\n",
        "values(ccap_filled)[values(ccap_harm) !=-1] <- values(ccap_harm)[values(ccap_harm) !=-1]\n",
        "values(ccap_filled)[values(ccap_filled) ==-1] <- 12\n",
        "\n",
        "\n",
        "\n",
        "\n",
        "ttest_extent_raster_size %>% writeRaster(paste0('/content/exports_3001-9000/naip_image/',x, \"_naip\",'.tif'),overwrite=T)\n",
        "nwi_filled %>% writeRaster(paste0('/content/exports_3001-9000/nwi_filled/',x,\"_nwi_filled\",'.tif'),overwrite=T)\n",
        "ccap_filled %>% writeRaster(paste0('/content/exports_3001-9000/ccap_filled/',x,\"_ccap_filled\",'.tif'),overwrite=T)\n",
        "dem_crop %>% writeRaster(paste0('/content/exports_3001-9000/dem/',x,\"_dem\",'.tif'),overwrite=T)\n",
        "\n",
        "})"
      ],
      "metadata": {
        "id": "SbS5OTvT8MyW"
      },
      "execution_count": null,
      "outputs": []
    }
  ]
}