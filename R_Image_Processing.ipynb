{
  "nbformat": 4,
  "nbformat_minor": 0,
  "metadata": {
    "colab": {
      "provenance": [],
      "machine_shape": "hm",
      "include_colab_link": true
    },
    "kernelspec": {
      "name": "ir",
      "display_name": "R"
    },
    "language_info": {
      "name": "R"
    }
  },
  "cells": [
    {
      "cell_type": "markdown",
      "metadata": {
        "id": "view-in-github",
        "colab_type": "text"
      },
      "source": [
        "<a href=\"https://colab.research.google.com/github/MadmanMarble/MadmanMarble/blob/main/R_Image_Processing.ipynb\" target=\"_parent\"><img src=\"https://colab.research.google.com/assets/colab-badge.svg\" alt=\"Open In Colab\"/></a>"
      ]
    },
    {
      "cell_type": "code",
      "source": [
        "# Data\n",
        "# #Training\n",
        "# # #Labels\n",
        "# # #Images\n",
        "# #Validation\n",
        "# # #Labels\n",
        "# # #Images"
      ],
      "metadata": {
        "id": "3Jyn25BIhxN6"
      },
      "execution_count": null,
      "outputs": []
    },
    {
      "cell_type": "markdown",
      "source": [
        "Install Packages"
      ],
      "metadata": {
        "id": "EEOgMEmwAe1R"
      }
    },
    {
      "cell_type": "code",
      "execution_count": 1,
      "metadata": {
        "colab": {
          "base_uri": "https://localhost:8080/"
        },
        "id": "rqIPU5GJbz7Y",
        "outputId": "746deeff-8d4e-4b35-d00e-f87172026c8b"
      },
      "outputs": [
        {
          "output_type": "stream",
          "name": "stderr",
          "text": [
            "Installing packages into ‘/usr/local/lib/R/site-library’\n",
            "(as ‘lib’ is unspecified)\n",
            "\n",
            "also installing the dependencies ‘proxy’, ‘e1071’, ‘sp’, ‘Rcpp’, ‘terra’, ‘classInt’, ‘s2’, ‘units’, ‘wk’, ‘RcppArmadillo’\n",
            "\n",
            "\n"
          ]
        }
      ],
      "source": [
        "install.packages(c('raster','sf','fasterize'))"
      ]
    },
    {
      "cell_type": "code",
      "source": [
        "install.packages(\"googledrive\")"
      ],
      "metadata": {
        "id": "TUmN_QDXjVlC",
        "outputId": "48f8bfa7-ce30-416c-fa7e-578225a2e3dc",
        "colab": {
          "base_uri": "https://localhost:8080/"
        }
      },
      "execution_count": 2,
      "outputs": [
        {
          "output_type": "stream",
          "name": "stderr",
          "text": [
            "Installing package into ‘/usr/local/lib/R/site-library’\n",
            "(as ‘lib’ is unspecified)\n",
            "\n"
          ]
        }
      ]
    },
    {
      "cell_type": "code",
      "source": [
        "install.packages(\"devtools\")\n",
        "\n",
        "devtools:::install_github(\"gearslaboratory/gdalUtils\")"
      ],
      "metadata": {
        "colab": {
          "base_uri": "https://localhost:8080/"
        },
        "id": "b9eGuuoazL10",
        "outputId": "b4dda30c-c80f-4c19-d7b9-7942da7e7188"
      },
      "execution_count": 3,
      "outputs": [
        {
          "output_type": "stream",
          "name": "stderr",
          "text": [
            "Installing package into ‘/usr/local/lib/R/site-library’\n",
            "(as ‘lib’ is unspecified)\n",
            "\n",
            "also installing the dependencies ‘httpuv’, ‘xtable’, ‘sourcetools’, ‘later’, ‘promises’, ‘shiny’, ‘downlit’, ‘htmlwidgets’, ‘miniUI’, ‘pkgdown’, ‘profvis’, ‘urlchecker’\n",
            "\n",
            "\n",
            "Downloading GitHub repo gearslaboratory/gdalUtils@HEAD\n",
            "\n"
          ]
        },
        {
          "output_type": "stream",
          "name": "stdout",
          "text": [
            "R.methodsS3 (NA -> 1.8.2 ) [CRAN]\n",
            "R.oo        (NA -> 1.26.0) [CRAN]\n",
            "iterators   (NA -> 1.0.14) [CRAN]\n",
            "R.utils     (NA -> 2.12.3) [CRAN]\n",
            "foreach     (NA -> 1.5.2 ) [CRAN]\n"
          ]
        },
        {
          "output_type": "stream",
          "name": "stderr",
          "text": [
            "Skipping 1 packages not available: rgdal\n",
            "\n",
            "Installing 6 packages: R.methodsS3, R.oo, iterators, rgdal, R.utils, foreach\n",
            "\n",
            "Installing packages into ‘/usr/local/lib/R/site-library’\n",
            "(as ‘lib’ is unspecified)\n",
            "\n",
            "Warning message:\n",
            "“package ‘rgdal’ is not available for this version of R\n",
            "\n",
            "A version of this package for your version of R might be available elsewhere,\n",
            "see the ideas at\n",
            "https://cran.r-project.org/doc/manuals/r-patched/R-admin.html#Installing-packages”\n"
          ]
        },
        {
          "output_type": "stream",
          "name": "stdout",
          "text": [
            "\u001b[36m──\u001b[39m \u001b[36mR CMD build\u001b[39m \u001b[36m─────────────────────────────────────────────────────────────────\u001b[39m\n",
            "* checking for file ‘/tmp/Rtmp2NoMLs/remotes3b64428284f/gearslaboratory-gdalUtils-8872aaf/DESCRIPTION’ ... OK\n",
            "* preparing ‘gdalUtils’:\n",
            "* checking DESCRIPTION meta-information ... OK\n",
            "* checking for LF line-endings in source and make files and shell scripts\n",
            "* checking for empty or unneeded directories\n",
            "* building ‘gdalUtils_2.0.3.2.tar.gz’\n",
            "\n"
          ]
        },
        {
          "output_type": "stream",
          "name": "stderr",
          "text": [
            "Installing package into ‘/usr/local/lib/R/site-library’\n",
            "(as ‘lib’ is unspecified)\n",
            "\n",
            "Warning message in i.p(...):\n",
            "“installation of package ‘/tmp/Rtmp2NoMLs/file3b665ca74a3/gdalUtils_2.0.3.2.tar.gz’ had non-zero exit status”\n"
          ]
        }
      ]
    },
    {
      "cell_type": "markdown",
      "source": [
        "Load Libraries"
      ],
      "metadata": {
        "id": "yOfLLlTTAj-A"
      }
    },
    {
      "cell_type": "code",
      "source": [
        "library(raster)\n",
        "library(sf)\n",
        "library(fasterize)\n",
        "library(magrittr)\n",
        "library(googledrive)\n",
        "library(parallel)\n",
        "library(data.table)\n",
        "library(stringr)\n",
        "# library(gdalUtils)"
      ],
      "metadata": {
        "colab": {
          "base_uri": "https://localhost:8080/"
        },
        "id": "7Ro8y26OitYr",
        "outputId": "bb17ce78-82e4-4539-84dd-3aeee731e0e8"
      },
      "execution_count": 4,
      "outputs": [
        {
          "output_type": "stream",
          "name": "stderr",
          "text": [
            "Loading required package: sp\n",
            "\n",
            "Linking to GEOS 3.11.1, GDAL 3.6.4, PROJ 9.1.1; sf_use_s2() is TRUE\n",
            "\n",
            "\n",
            "Attaching package: ‘fasterize’\n",
            "\n",
            "\n",
            "The following object is masked from ‘package:graphics’:\n",
            "\n",
            "    plot\n",
            "\n",
            "\n",
            "The following object is masked from ‘package:base’:\n",
            "\n",
            "    plot\n",
            "\n",
            "\n",
            "\n",
            "Attaching package: ‘magrittr’\n",
            "\n",
            "\n",
            "The following object is masked from ‘package:raster’:\n",
            "\n",
            "    extract\n",
            "\n",
            "\n",
            "\n",
            "Attaching package: ‘data.table’\n",
            "\n",
            "\n",
            "The following object is masked from ‘package:raster’:\n",
            "\n",
            "    shift\n",
            "\n",
            "\n"
          ]
        }
      ]
    },
    {
      "cell_type": "markdown",
      "source": [
        "Connect to Google Drive"
      ],
      "metadata": {
        "id": "5RSzFY4eAmqb"
      }
    },
    {
      "cell_type": "code",
      "source": [
        "drive_auth(use_oob = TRUE, cache = FALSE)"
      ],
      "metadata": {
        "colab": {
          "base_uri": "https://localhost:8080/"
        },
        "id": "8lpzsRZsiwKc",
        "outputId": "49b5f891-7a57-4fa9-c839-4d7d221da1e5"
      },
      "execution_count": 5,
      "outputs": [
        {
          "output_type": "stream",
          "name": "stderr",
          "text": [
            "Please point your browser to the following url: \n",
            "\n",
            "https://accounts.google.com/o/oauth2/v2/auth?client_id=603366585132-frjlouoa3s2ono25d2l9ukvhlsrlnr7k.apps.googleusercontent.com&scope=https%3A%2F%2Fwww.googleapis.com%2Fauth%2Fdrive%20https%3A%2F%2Fwww.googleapis.com%2Fauth%2Fuserinfo.email&redirect_uri=https%3A%2F%2Fwww.tidyverse.org%2Fgoogle-callback%2F&response_type=code&state=16032e1c29145f8d4ae0d48351b0a3fc&access_type=offline&prompt=consent\n",
            "\n"
          ]
        },
        {
          "name": "stdout",
          "output_type": "stream",
          "text": [
            "Enter authorization code: eyJjb2RlIjoiNC8wQWVhWVNIQmIwN1lFTUdTbGxLLXR4dXJMcjZYV0otWjFRRnIwVUJzNVh3TTk0U1hjU05HZzh0UW50dlFJNmlNelc5RnZ2ZyIsInN0YXRlIjoiMTYwMzJlMWMyOTE0NWY4ZDRhZTBkNDgzNTFiMGEzZmMifQ==\n"
          ]
        }
      ]
    },
    {
      "cell_type": "code",
      "source": [
        "dir.create('input_data')"
      ],
      "metadata": {
        "id": "4HqxMRL7qqdN"
      },
      "execution_count": 6,
      "outputs": []
    },
    {
      "cell_type": "code",
      "source": [
        "# https://drive.google.com/file/d/1thj0vGXN0xgXxI_XDY-hagp-gWHZCdaS/view?usp=drive_link\n",
        "drive_download(file = as_id('1thj0vGXN0xgXxI_XDY-hagp-gWHZCdaS'), path =  '/content/input_data/naip_index.zip', overwrite = FALSE)\n",
        "unzip(zipfile ='/content/input_data/naip_index.zip', exdir = \"/content/input_data/naip_index/\")\n",
        "naip_index_gpkg = st_read('/content/input_data/naip_index/tileindex_HI_NAIP_2021.shp')"
      ],
      "metadata": {
        "colab": {
          "base_uri": "https://localhost:8080/"
        },
        "id": "3YhBxPs1kYWr",
        "outputId": "0382f3ad-96b9-43f2-e73e-42e2cb5cb4d5"
      },
      "execution_count": 7,
      "outputs": [
        {
          "output_type": "stream",
          "name": "stderr",
          "text": [
            "File downloaded:\n",
            "\n",
            "• \u001b[36mtileindex_HI_NAIP_2021.zip\u001b[39m \u001b[90m<id: 1thj0vGXN0xgXxI_XDY-hagp-gWHZCdaS>\u001b[39m\n",
            "\n",
            "Saved locally as:\n",
            "\n",
            "• \u001b[34m/content/input_data/naip_index.zip\u001b[39m\n",
            "\n"
          ]
        },
        {
          "output_type": "stream",
          "name": "stdout",
          "text": [
            "Reading layer `tileindex_HI_NAIP_2021' from data source \n",
            "  `/content/input_data/naip_index/tileindex_HI_NAIP_2021.shp' \n",
            "  using driver `ESRI Shapefile'\n",
            "Simple feature collection with 611 features and 3 fields\n",
            "Geometry type: POLYGON\n",
            "Dimension:     XY\n",
            "Bounding box:  xmin: -160.3144 ymin: 18.8732 xmax: -154.7481 ymax: 22.25184\n",
            "Geodetic CRS:  NAD83\n"
          ]
        }
      ]
    },
    {
      "cell_type": "code",
      "source": [
        "# NWI wetlands for all islands\n",
        "# https://drive.google.com/file/d/1ozE_Ldpio1LJaH2WS9r9hqRAIBDV8TDF/view?usp=drive_link\n",
        "\n",
        "\n",
        "# NWI wetlands for the islands in UTM 4 (kauai, oahu, molokai, maui)\n",
        "# https://drive.google.com/file/d/1uKY_cwL8P_bir8T4VY3f-gKs4ZQQyYk9/view?usp=drive_link\n",
        "drive_download(file = as_id('1uKY_cwL8P_bir8T4VY3f-gKs4ZQQyYk9'), path =  '/content/input_data/NWI_wetlands.gpkg', overwrite = TRUE)\n",
        "nwi_gpkg = st_read('/content/input_data/NWI_wetlands.gpkg')"
      ],
      "metadata": {
        "colab": {
          "base_uri": "https://localhost:8080/"
        },
        "id": "kypOwbbTIDH9",
        "outputId": "a9988748-575b-4b5d-c6c4-4a557c6a483d"
      },
      "execution_count": 8,
      "outputs": [
        {
          "output_type": "stream",
          "name": "stderr",
          "text": [
            "File downloaded:\n",
            "\n",
            "• \u001b[36mnwi_wetlands_4.gpkg\u001b[39m \u001b[90m<id: 1uKY_cwL8P_bir8T4VY3f-gKs4ZQQyYk9>\u001b[39m\n",
            "\n",
            "Saved locally as:\n",
            "\n",
            "• \u001b[34m/content/input_data/NWI_wetlands.gpkg\u001b[39m\n",
            "\n"
          ]
        },
        {
          "output_type": "stream",
          "name": "stdout",
          "text": [
            "Reading layer `nwi_wetlands' from data source \n",
            "  `/content/input_data/NWI_wetlands.gpkg' using driver `GPKG'\n",
            "Simple feature collection with 10866 features and 6 fields\n",
            "Geometry type: MULTIPOLYGON\n",
            "Dimension:     XY\n",
            "Bounding box:  xmin: 412977.7 ymin: 2263072 xmax: 820600.7 ymax: 2464465\n",
            "Projected CRS: WGS 84 / UTM zone 4N\n"
          ]
        }
      ]
    },
    {
      "cell_type": "code",
      "source": [
        "# AOI wetlands for all islands\n",
        "# https://drive.google.com/file/d/1cKHJ95tAkl0CSoNZkdO0w2wlaH6Wr_YZ/view?usp=drive_link\n",
        "# drive_download(file = as_id('1cKHJ95tAkl0CSoNZkdO0w2wlaH6Wr_YZ'), path =  '/content/input_data/wetlands.gpgk', overwrite = TRUE)\n",
        "\n",
        "\n",
        "# AOI wetlands for the islands in UTM 4 (kauai, oahu, molokai, maui)\n",
        "# https://drive.google.com/file/d/1AsyHxmJ7MUJHwEqXUG61OXQ6bz9mgvDH/view?usp=drive_link\n",
        "drive_download(file = as_id('1AsyHxmJ7MUJHwEqXUG61OXQ6bz9mgvDH'), path =  '/content/input_data/wetlands.gpgk', overwrite = TRUE)\n",
        "wetlands_gpkg = st_read('/content/input_data/wetlands.gpgk')"
      ],
      "metadata": {
        "colab": {
          "base_uri": "https://localhost:8080/"
        },
        "id": "ug0fFy8ttGHA",
        "outputId": "c4440a3c-14cd-4a38-a276-4f6033b4988a"
      },
      "execution_count": 9,
      "outputs": [
        {
          "output_type": "stream",
          "name": "stderr",
          "text": [
            "File downloaded:\n",
            "\n",
            "• \u001b[36maoi_wetland_4.gpkg\u001b[39m \u001b[90m<id: 1AsyHxmJ7MUJHwEqXUG61OXQ6bz9mgvDH>\u001b[39m\n",
            "\n",
            "Saved locally as:\n",
            "\n",
            "• \u001b[34m/content/input_data/wetlands.gpgk\u001b[39m\n",
            "\n",
            "Warning message in CPL_read_ogr(dsn, layer, query, as.character(options), quiet, :\n",
            "“GDAL Message 1: File /content/input_data/wetlands.gpgk has GPKG application_id, but non conformant file extension”\n"
          ]
        },
        {
          "output_type": "stream",
          "name": "stdout",
          "text": [
            "Reading layer `aoi_wetland_4' from data source `/content/input_data/wetlands.gpgk' using driver `GPKG'\n",
            "Simple feature collection with 16 features and 6 fields\n",
            "Geometry type: MULTIPOLYGON\n",
            "Dimension:     XY\n",
            "Bounding box:  xmin: 444046 ymin: 2299914 xmax: 766191.9 ymax: 2457336\n",
            "Projected CRS: WGS 84 / UTM zone 4N\n"
          ]
        }
      ]
    },
    {
      "cell_type": "code",
      "source": [
        "# NLCD for all islands\n",
        "# https://drive.google.com/file/d/1foSde5txo6hPvWp4kcQF8We2WTDqDpYh/view?usp=drive_link\n",
        "drive_download(file = as_id('1foSde5txo6hPvWp4kcQF8We2WTDqDpYh'), path =  '/content/input_data/nlcd_hi_2001', overwrite = TRUE)\n",
        "nlcd_tif <- raster('/content/input_data/nlcd_hi_2001')"
      ],
      "metadata": {
        "colab": {
          "base_uri": "https://localhost:8080/"
        },
        "id": "E0IWJ0GYKkRf",
        "outputId": "38b23f75-df79-4734-e07d-70eba01a23ed"
      },
      "execution_count": 10,
      "outputs": [
        {
          "output_type": "stream",
          "name": "stderr",
          "text": [
            "File downloaded:\n",
            "\n",
            "• \u001b[36mnlcd_hi_2001.tif\u001b[39m \u001b[90m<id: 1foSde5txo6hPvWp4kcQF8We2WTDqDpYh>\u001b[39m\n",
            "\n",
            "Saved locally as:\n",
            "\n",
            "• \u001b[34m/content/input_data/nlcd_hi_2001\u001b[39m\n",
            "\n"
          ]
        }
      ]
    },
    {
      "cell_type": "code",
      "source": [
        "download_index_gpkg <- naip_index_gpkg %>% st_intersection(wetlands_gpkg %>% st_transform(st_crs(naip_index_gpkg)))"
      ],
      "metadata": {
        "colab": {
          "base_uri": "https://localhost:8080/"
        },
        "id": "tK5RKiGktV7W",
        "outputId": "7bf23be1-a16a-4d22-d2b8-a14470365d16"
      },
      "execution_count": 11,
      "outputs": [
        {
          "output_type": "stream",
          "name": "stderr",
          "text": [
            "Warning message:\n",
            "“attribute variables are assumed to be spatially constant throughout all geometries”\n"
          ]
        }
      ]
    },
    {
      "cell_type": "code",
      "source": [
        "download_index_gpkg$url %>% unique %>% length"
      ],
      "metadata": {
        "colab": {
          "base_uri": "https://localhost:8080/",
          "height": 34
        },
        "id": "HFWmwjGHwLhP",
        "outputId": "ec04076e-3698-48c9-eadd-586e1537f6e1"
      },
      "execution_count": 12,
      "outputs": [
        {
          "output_type": "display_data",
          "data": {
            "text/html": [
              "50"
            ],
            "text/markdown": "50",
            "text/latex": "50",
            "text/plain": [
              "[1] 50"
            ]
          },
          "metadata": {}
        }
      ]
    },
    {
      "cell_type": "code",
      "source": [
        "download_index_gpkg %>% data.table"
      ],
      "metadata": {
        "id": "HBvgz6TjIsIJ",
        "outputId": "4633b20e-a739-4433-e793-7dfd2505245e",
        "colab": {
          "base_uri": "https://localhost:8080/",
          "height": 1000
        }
      },
      "execution_count": 14,
      "outputs": [
        {
          "output_type": "display_data",
          "data": {
            "text/html": [
              "<table class=\"dataframe\">\n",
              "<caption>A data.table: 59 × 10</caption>\n",
              "<thead>\n",
              "\t<tr><th scope=col>location</th><th scope=col>url</th><th scope=col>missionid</th><th scope=col>id</th><th scope=col>island</th><th scope=col>name</th><th scope=col>lumahai</th><th scope=col>layer</th><th scope=col>path</th><th scope=col>geometry</th></tr>\n",
              "\t<tr><th scope=col>&lt;chr&gt;</th><th scope=col>&lt;chr&gt;</th><th scope=col>&lt;int&gt;</th><th scope=col>&lt;dbl&gt;</th><th scope=col>&lt;chr&gt;</th><th scope=col>&lt;chr&gt;</th><th scope=col>&lt;dbl&gt;</th><th scope=col>&lt;chr&gt;</th><th scope=col>&lt;chr&gt;</th><th scope=col>&lt;POLYGON [°]&gt;</th></tr>\n",
              "</thead>\n",
              "<tbody>\n",
              "\t<tr><td>m_2215954_se_04_060_20220128.tif</td><td>https://coastalimagery.blob.core.windows.net/digitalcoast/HI_NAIP_2021_9668/m_2215954_se_04_060_20220128.tif</td><td>9668</td><td> 1</td><td>NA  </td><td>NA            </td><td>NA</td><td>anahola       </td><td>E:/Data/AOI_Shapefiles/kauai/anahola.shp       </td><td>POLYGON ((-159.2891 22.1324...</td></tr>\n",
              "\t<tr><td>m_2215954_sw_04_060_20220321.tif</td><td>https://coastalimagery.blob.core.windows.net/digitalcoast/HI_NAIP_2021_9668/m_2215954_sw_04_060_20220321.tif</td><td>9668</td><td> 1</td><td>NA  </td><td>NA            </td><td>NA</td><td>anahola       </td><td>E:/Data/AOI_Shapefiles/kauai/anahola.shp       </td><td>POLYGON ((-159.3105 22.1323...</td></tr>\n",
              "\t<tr><td>m_2115831_ne_04_060_20220211.tif</td><td>https://coastalimagery.blob.core.windows.net/digitalcoast/HI_NAIP_2021_9668/m_2115831_ne_04_060_20220211.tif</td><td>9668</td><td> 1</td><td>NA  </td><td>NA            </td><td>NA</td><td>haleiwa       </td><td>E:/Data/AOI_Shapefiles/oahu/haleiwa.shp        </td><td>POLYGON ((-158.1268 21.5603...</td></tr>\n",
              "\t<tr><td>m_2115831_se_04_060_20220211.tif</td><td>https://coastalimagery.blob.core.windows.net/digitalcoast/HI_NAIP_2021_9668/m_2115831_se_04_060_20220211.tif</td><td>9668</td><td> 1</td><td>NA  </td><td>NA            </td><td>NA</td><td>haleiwa       </td><td>E:/Data/AOI_Shapefiles/oahu/haleiwa.shp        </td><td>POLYGON ((-158.1226 21.5526...</td></tr>\n",
              "\t<tr><td>m_2115832_nw_04_060_20220211.tif</td><td>https://coastalimagery.blob.core.windows.net/digitalcoast/HI_NAIP_2021_9668/m_2115832_nw_04_060_20220211.tif</td><td>9668</td><td> 1</td><td>NA  </td><td>NA            </td><td>NA</td><td>haleiwa       </td><td>E:/Data/AOI_Shapefiles/oahu/haleiwa.shp        </td><td>POLYGON ((-158.1268 21.5603...</td></tr>\n",
              "\t<tr><td>m_2115832_sw_04_060_20220211.tif</td><td>https://coastalimagery.blob.core.windows.net/digitalcoast/HI_NAIP_2021_9668/m_2115832_sw_04_060_20220211.tif</td><td>9668</td><td> 1</td><td>NA  </td><td>NA            </td><td>NA</td><td>haleiwa       </td><td>E:/Data/AOI_Shapefiles/oahu/haleiwa.shp        </td><td>POLYGON ((-158.0723 21.5523...</td></tr>\n",
              "\t<tr><td>m_2215952_ne_04_060_20220128.tif</td><td>https://coastalimagery.blob.core.windows.net/digitalcoast/HI_NAIP_2021_9668/m_2215952_ne_04_060_20220128.tif</td><td>9668</td><td> 1</td><td>NA  </td><td>NA            </td><td>NA</td><td>hanalei       </td><td>E:/Data/AOI_Shapefiles/kauai/hanalei.shp       </td><td>POLYGON ((-159.5248 22.1857...</td></tr>\n",
              "\t<tr><td>m_2215952_se_04_060_20220128.tif</td><td>https://coastalimagery.blob.core.windows.net/digitalcoast/HI_NAIP_2021_9668/m_2215952_se_04_060_20220128.tif</td><td>9668</td><td> 1</td><td>NA  </td><td>NA            </td><td>NA</td><td>hanalei       </td><td>E:/Data/AOI_Shapefiles/kauai/hanalei.shp       </td><td>POLYGON ((-159.4981 22.1696...</td></tr>\n",
              "\t<tr><td>m_2215952_se_04_060_20220321.tif</td><td>https://coastalimagery.blob.core.windows.net/digitalcoast/HI_NAIP_2021_9668/m_2215952_se_04_060_20220321.tif</td><td>9668</td><td> 1</td><td>NA  </td><td>NA            </td><td>NA</td><td>hanalei       </td><td>E:/Data/AOI_Shapefiles/kauai/hanalei.shp       </td><td>POLYGON ((-159.4981 22.1696...</td></tr>\n",
              "\t<tr><td>m_2215953_nw_04_060_20220321.tif</td><td>https://coastalimagery.blob.core.windows.net/digitalcoast/HI_NAIP_2021_9668/m_2215953_nw_04_060_20220321.tif</td><td>9668</td><td> 1</td><td>NA  </td><td>NA            </td><td>NA</td><td>hanalei       </td><td>E:/Data/AOI_Shapefiles/kauai/hanalei.shp       </td><td>POLYGON ((-159.502 22.22064...</td></tr>\n",
              "\t<tr><td>m_2215953_sw_04_060_20220321.tif</td><td>https://coastalimagery.blob.core.windows.net/digitalcoast/HI_NAIP_2021_9668/m_2215953_sw_04_060_20220321.tif</td><td>9668</td><td> 1</td><td>NA  </td><td>NA            </td><td>NA</td><td>hanalei       </td><td>E:/Data/AOI_Shapefiles/kauai/hanalei.shp       </td><td>POLYGON ((-159.4567 22.1697...</td></tr>\n",
              "\t<tr><td>m_2115905_ne_04_060_20220321.tif</td><td>https://coastalimagery.blob.core.windows.net/digitalcoast/HI_NAIP_2021_9668/m_2115905_ne_04_060_20220321.tif</td><td>9668</td><td> 1</td><td>NA  </td><td>NA            </td><td>NA</td><td>huleia        </td><td>E:/Data/AOI_Shapefiles/kauai/huleia.shp        </td><td>POLYGON ((-159.3731 21.9370...</td></tr>\n",
              "\t<tr><td>m_2115905_se_04_060_20220211.tif</td><td>https://coastalimagery.blob.core.windows.net/digitalcoast/HI_NAIP_2021_9668/m_2115905_se_04_060_20220211.tif</td><td>9668</td><td> 1</td><td>NA  </td><td>NA            </td><td>NA</td><td>huleia        </td><td>E:/Data/AOI_Shapefiles/kauai/huleia.shp        </td><td>POLYGON ((-159.373 21.93709...</td></tr>\n",
              "\t<tr><td>m_2115905_se_04_060_20220212.tif</td><td>https://coastalimagery.blob.core.windows.net/digitalcoast/HI_NAIP_2021_9668/m_2115905_se_04_060_20220212.tif</td><td>9668</td><td> 1</td><td>NA  </td><td>NA            </td><td>NA</td><td>huleia        </td><td>E:/Data/AOI_Shapefiles/kauai/huleia.shp        </td><td>POLYGON ((-159.373 21.93709...</td></tr>\n",
              "\t<tr><td>m_2115906_nw_04_060_20220321.tif</td><td>https://coastalimagery.blob.core.windows.net/digitalcoast/HI_NAIP_2021_9668/m_2115906_nw_04_060_20220321.tif</td><td>9668</td><td> 1</td><td>NA  </td><td>NA            </td><td>NA</td><td>huleia        </td><td>E:/Data/AOI_Shapefiles/kauai/huleia.shp        </td><td>POLYGON ((-159.3534 21.9371...</td></tr>\n",
              "\t<tr><td>m_2115906_sw_04_060_20220211.tif</td><td>https://coastalimagery.blob.core.windows.net/digitalcoast/HI_NAIP_2021_9668/m_2115906_sw_04_060_20220211.tif</td><td>9668</td><td> 1</td><td>NA  </td><td>NA            </td><td>NA</td><td>huleia        </td><td>E:/Data/AOI_Shapefiles/kauai/huleia.shp        </td><td>POLYGON ((-159.3534 21.9371...</td></tr>\n",
              "\t<tr><td>m_2115717_nw_04_060_20221217.tif</td><td>https://coastalimagery.blob.core.windows.net/digitalcoast/HI_NAIP_2021_9668/m_2115717_nw_04_060_20221217.tif</td><td>9668</td><td> 1</td><td>NA  </td><td>NA            </td><td>NA</td><td>kahuku        </td><td>E:/Data/AOI_Shapefiles/oahu/kahuku.shp         </td><td>POLYGON ((-158.0024 21.7171...</td></tr>\n",
              "\t<tr><td>m_2115717_sw_04_060_20221231.tif</td><td>https://coastalimagery.blob.core.windows.net/digitalcoast/HI_NAIP_2021_9668/m_2115717_sw_04_060_20221231.tif</td><td>9668</td><td> 1</td><td>NA  </td><td>NA            </td><td>NA</td><td>kahuku        </td><td>E:/Data/AOI_Shapefiles/oahu/kahuku.shp         </td><td>POLYGON ((-157.943 21.67555...</td></tr>\n",
              "\t<tr><td>m_2115824_ne_04_060_20221217.tif</td><td>https://coastalimagery.blob.core.windows.net/digitalcoast/HI_NAIP_2021_9668/m_2115824_ne_04_060_20221217.tif</td><td>9668</td><td> 1</td><td>NA  </td><td>NA            </td><td>NA</td><td>kahuku        </td><td>E:/Data/AOI_Shapefiles/oahu/kahuku.shp         </td><td>POLYGON ((-158.0076 21.6853...</td></tr>\n",
              "\t<tr><td>m_2115824_se_04_060_20221231.tif</td><td>https://coastalimagery.blob.core.windows.net/digitalcoast/HI_NAIP_2021_9668/m_2115824_se_04_060_20221231.tif</td><td>9668</td><td> 1</td><td>NA  </td><td>NA            </td><td>NA</td><td>kahuku        </td><td>E:/Data/AOI_Shapefiles/oahu/kahuku.shp         </td><td>POLYGON ((-157.9976 21.6758...</td></tr>\n",
              "\t<tr><td>m_2115657_ne_04_060_20220109.tif</td><td>https://coastalimagery.blob.core.windows.net/digitalcoast/HI_NAIP_2021_9668/m_2115657_ne_04_060_20220109.tif</td><td>9668</td><td> 1</td><td>NA  </td><td>NA            </td><td>NA</td><td>kakahaia      </td><td>E:/Data/AOI_Shapefiles/molokai/kakahaia.shp    </td><td>POLYGON ((-156.9403 21.0688...</td></tr>\n",
              "\t<tr><td>m_2115657_nw_04_060_20220109.tif</td><td>https://coastalimagery.blob.core.windows.net/digitalcoast/HI_NAIP_2021_9668/m_2115657_nw_04_060_20220109.tif</td><td>9668</td><td> 1</td><td>NA  </td><td>NA            </td><td>NA</td><td>kakahaia      </td><td>E:/Data/AOI_Shapefiles/molokai/kakahaia.shp    </td><td>POLYGON ((-156.953 21.0599,...</td></tr>\n",
              "\t<tr><td>m_2115657_se_04_060_20220109.tif</td><td>https://coastalimagery.blob.core.windows.net/digitalcoast/HI_NAIP_2021_9668/m_2115657_se_04_060_20220109.tif</td><td>9668</td><td> 1</td><td>NA  </td><td>NA            </td><td>NA</td><td>kakahaia      </td><td>E:/Data/AOI_Shapefiles/molokai/kakahaia.shp    </td><td>POLYGON ((-156.8947 21.0517...</td></tr>\n",
              "\t<tr><td>m_2115657_sw_04_060_20220109.tif</td><td>https://coastalimagery.blob.core.windows.net/digitalcoast/HI_NAIP_2021_9668/m_2115657_sw_04_060_20220109.tif</td><td>9668</td><td> 1</td><td>NA  </td><td>NA            </td><td>NA</td><td>kakahaia      </td><td>E:/Data/AOI_Shapefiles/molokai/kakahaia.shp    </td><td>POLYGON ((-156.9347 21.0522...</td></tr>\n",
              "\t<tr><td>m_2115763_ne_04_060_20220109.tif</td><td>https://coastalimagery.blob.core.windows.net/digitalcoast/HI_NAIP_2021_9668/m_2115763_ne_04_060_20220109.tif</td><td>9668</td><td> 1</td><td>NA  </td><td>NA            </td><td>NA</td><td>kaluaapuhi    </td><td>E:/Data/AOI_Shapefiles/molokai/kaluaapuhi.shp  </td><td>POLYGON ((-157.1223 21.0882...</td></tr>\n",
              "\t<tr><td>m_2115764_ne_04_060_20220109.tif</td><td>https://coastalimagery.blob.core.windows.net/digitalcoast/HI_NAIP_2021_9668/m_2115764_ne_04_060_20220109.tif</td><td>9668</td><td> 1</td><td>NA  </td><td>NA            </td><td>NA</td><td>kaluaapuhi    </td><td>E:/Data/AOI_Shapefiles/molokai/kaluaapuhi.shp  </td><td>POLYGON ((-157.0364 21.0872...</td></tr>\n",
              "\t<tr><td>m_2115764_nw_04_060_20220109.tif</td><td>https://coastalimagery.blob.core.windows.net/digitalcoast/HI_NAIP_2021_9668/m_2115764_nw_04_060_20220109.tif</td><td>9668</td><td> 1</td><td>NA  </td><td>NA            </td><td>NA</td><td>kaluaapuhi    </td><td>E:/Data/AOI_Shapefiles/molokai/kaluaapuhi.shp  </td><td>POLYGON ((-157.0597 21.0875...</td></tr>\n",
              "\t<tr><td>m_2115657_ne_04_060_20220109.tif</td><td>https://coastalimagery.blob.core.windows.net/digitalcoast/HI_NAIP_2021_9668/m_2115657_ne_04_060_20220109.tif</td><td>9668</td><td> 1</td><td>NA  </td><td>NA            </td><td>NA</td><td>kamalo        </td><td>E:/Data/AOI_Shapefiles/molokai/kamalo.shp      </td><td>POLYGON ((-156.8944 21.0598...</td></tr>\n",
              "\t<tr><td>m_2115657_se_04_060_20220109.tif</td><td>https://coastalimagery.blob.core.windows.net/digitalcoast/HI_NAIP_2021_9668/m_2115657_se_04_060_20220109.tif</td><td>9668</td><td> 1</td><td>NA  </td><td>NA            </td><td>NA</td><td>kamalo        </td><td>E:/Data/AOI_Shapefiles/molokai/kamalo.shp      </td><td>POLYGON ((-156.8722 21.0447...</td></tr>\n",
              "\t<tr><td>m_2115658_nw_04_060_20220109.tif</td><td>https://coastalimagery.blob.core.windows.net/digitalcoast/HI_NAIP_2021_9668/m_2115658_nw_04_060_20220109.tif</td><td>9668</td><td> 1</td><td>NA  </td><td>NA            </td><td>NA</td><td>kamalo        </td><td>E:/Data/AOI_Shapefiles/molokai/kamalo.shp      </td><td>POLYGON ((-156.8778 21.0602...</td></tr>\n",
              "\t<tr><td>m_2115658_sw_04_060_20220109.tif</td><td>https://coastalimagery.blob.core.windows.net/digitalcoast/HI_NAIP_2021_9668/m_2115658_sw_04_060_20220109.tif</td><td>9668</td><td> 1</td><td>NA  </td><td>NA            </td><td>NA</td><td>kamalo        </td><td>E:/Data/AOI_Shapefiles/molokai/kamalo.shp      </td><td>POLYGON ((-156.8554 21.0445...</td></tr>\n",
              "\t<tr><td>m_2015605_sw_04_060_20221214.tif</td><td>https://coastalimagery.blob.core.windows.net/digitalcoast/HI_NAIP_2021_9668/m_2015605_sw_04_060_20221214.tif</td><td>9668</td><td> 1</td><td>NA  </td><td>NA            </td><td>NA</td><td>kanaha        </td><td>E:/Data/AOI_Shapefiles/maui/kanaha.shp         </td><td>POLYGON ((-156.4413 20.8839...</td></tr>\n",
              "\t<tr><td>m_2015605_sw_04_060_20220327.tif</td><td>https://coastalimagery.blob.core.windows.net/digitalcoast/HI_NAIP_2021_9668/m_2015605_sw_04_060_20220327.tif</td><td>9668</td><td> 1</td><td>NA  </td><td>NA            </td><td>NA</td><td>kanaha        </td><td>E:/Data/AOI_Shapefiles/maui/kanaha.shp         </td><td>POLYGON ((-156.4413 20.8839...</td></tr>\n",
              "\t<tr><td>m_2115734_se_04_060_20221215.tif</td><td>https://coastalimagery.blob.core.windows.net/digitalcoast/HI_NAIP_2021_9668/m_2115734_se_04_060_20221215.tif</td><td>9668</td><td> 1</td><td>oahu</td><td>kawainui marsh</td><td>NA</td><td>kawainui_marsh</td><td>E:/Data/AOI_Shapefiles/oahu/kawainui_marsh.shp </td><td>POLYGON ((-157.7858 21.3727...</td></tr>\n",
              "\t<tr><td>m_2115735_sw_04_060_20221215.tif</td><td>https://coastalimagery.blob.core.windows.net/digitalcoast/HI_NAIP_2021_9668/m_2115735_sw_04_060_20221215.tif</td><td>9668</td><td> 1</td><td>oahu</td><td>kawainui marsh</td><td>NA</td><td>kawainui_marsh</td><td>E:/Data/AOI_Shapefiles/oahu/kawainui_marsh.shp </td><td>POLYGON ((-157.7525 21.4153...</td></tr>\n",
              "\t<tr><td>m_2115742_ne_04_060_20221215.tif</td><td>https://coastalimagery.blob.core.windows.net/digitalcoast/HI_NAIP_2021_9668/m_2115742_ne_04_060_20221215.tif</td><td>9668</td><td> 1</td><td>oahu</td><td>kawainui marsh</td><td>NA</td><td>kawainui_marsh</td><td>E:/Data/AOI_Shapefiles/oahu/kawainui_marsh.shp </td><td>POLYGON ((-157.7475 21.3532...</td></tr>\n",
              "\t<tr><td>m_2115743_nw_04_060_20221215.tif</td><td>https://coastalimagery.blob.core.windows.net/digitalcoast/HI_NAIP_2021_9668/m_2115743_nw_04_060_20221215.tif</td><td>9668</td><td> 1</td><td>oahu</td><td>kawainui marsh</td><td>NA</td><td>kawainui_marsh</td><td>E:/Data/AOI_Shapefiles/oahu/kawainui_marsh.shp </td><td>POLYGON ((-157.7287 21.3531...</td></tr>\n",
              "\t<tr><td>m_2015612_se_04_060_20220108.tif</td><td>https://coastalimagery.blob.core.windows.net/digitalcoast/HI_NAIP_2021_9668/m_2015612_se_04_060_20220108.tif</td><td>9668</td><td> 1</td><td>NA  </td><td>NA            </td><td>NA</td><td>kealia        </td><td>E:/Data/AOI_Shapefiles/maui/kealia.shp         </td><td>POLYGON ((-156.497 20.78083...</td></tr>\n",
              "\t<tr><td>m_2015613_sw_04_060_20220108.tif</td><td>https://coastalimagery.blob.core.windows.net/digitalcoast/HI_NAIP_2021_9668/m_2015613_sw_04_060_20220108.tif</td><td>9668</td><td> 1</td><td>NA  </td><td>NA            </td><td>NA</td><td>kealia        </td><td>E:/Data/AOI_Shapefiles/maui/kealia.shp         </td><td>POLYGON ((-156.4571 20.7802...</td></tr>\n",
              "\t<tr><td>m_2215952_ne_04_060_20220128.tif</td><td>https://coastalimagery.blob.core.windows.net/digitalcoast/HI_NAIP_2021_9668/m_2215952_ne_04_060_20220128.tif</td><td>9668</td><td>NA</td><td>NA  </td><td>NA            </td><td> 1</td><td>lumahai       </td><td>E:/Data/AOI_Shapefiles/kauai/lumahai.shp       </td><td>POLYGON ((-159.5428 22.1857...</td></tr>\n",
              "\t<tr><td>m_2215952_se_04_060_20220128.tif</td><td>https://coastalimagery.blob.core.windows.net/digitalcoast/HI_NAIP_2021_9668/m_2215952_se_04_060_20220128.tif</td><td>9668</td><td>NA</td><td>NA  </td><td>NA            </td><td> 1</td><td>lumahai       </td><td>E:/Data/AOI_Shapefiles/kauai/lumahai.shp       </td><td>POLYGON ((-159.5271 22.1761...</td></tr>\n",
              "\t<tr><td>m_2215952_se_04_060_20220321.tif</td><td>https://coastalimagery.blob.core.windows.net/digitalcoast/HI_NAIP_2021_9668/m_2215952_se_04_060_20220321.tif</td><td>9668</td><td>NA</td><td>NA  </td><td>NA            </td><td> 1</td><td>lumahai       </td><td>E:/Data/AOI_Shapefiles/kauai/lumahai.shp       </td><td>POLYGON ((-159.5271 22.1761...</td></tr>\n",
              "\t<tr><td>m_2015604_se_04_060_20220108.tif</td><td>https://coastalimagery.blob.core.windows.net/digitalcoast/HI_NAIP_2021_9668/m_2015604_se_04_060_20220108.tif</td><td>9668</td><td> 1</td><td>NA  </td><td>NA            </td><td>NA</td><td>paukukalo     </td><td>E:/Data/AOI_Shapefiles/maui/paukukalo.shp      </td><td>POLYGON ((-156.497 20.89221...</td></tr>\n",
              "\t<tr><td>m_2015604_se_04_060_20221214.tif</td><td>https://coastalimagery.blob.core.windows.net/digitalcoast/HI_NAIP_2021_9668/m_2015604_se_04_060_20221214.tif</td><td>9668</td><td> 1</td><td>NA  </td><td>NA            </td><td>NA</td><td>paukukalo     </td><td>E:/Data/AOI_Shapefiles/maui/paukukalo.shp      </td><td>POLYGON ((-156.497 20.89221...</td></tr>\n",
              "\t<tr><td>m_2015605_sw_04_060_20221214.tif</td><td>https://coastalimagery.blob.core.windows.net/digitalcoast/HI_NAIP_2021_9668/m_2015605_sw_04_060_20221214.tif</td><td>9668</td><td> 1</td><td>NA  </td><td>NA            </td><td>NA</td><td>paukukalo     </td><td>E:/Data/AOI_Shapefiles/maui/paukukalo.shp      </td><td>POLYGON ((-156.4825 20.892,...</td></tr>\n",
              "\t<tr><td>m_2015605_sw_04_060_20220327.tif</td><td>https://coastalimagery.blob.core.windows.net/digitalcoast/HI_NAIP_2021_9668/m_2015605_sw_04_060_20220327.tif</td><td>9668</td><td> 1</td><td>NA  </td><td>NA            </td><td>NA</td><td>paukukalo     </td><td>E:/Data/AOI_Shapefiles/maui/paukukalo.shp      </td><td>POLYGON ((-156.4825 20.892,...</td></tr>\n",
              "\t<tr><td>m_2115733_se_04_060_20221215.tif</td><td>https://coastalimagery.blob.core.windows.net/digitalcoast/HI_NAIP_2021_9668/m_2115733_se_04_060_20221215.tif</td><td>9668</td><td> 1</td><td>NA  </td><td>NA            </td><td>NA</td><td>pearl_harbor  </td><td>E:/Data/AOI_Shapefiles/oahu/pearl_harbor.shp   </td><td>POLYGON ((-157.9399 21.4025...</td></tr>\n",
              "\t<tr><td>m_2115733_sw_04_060_20221215.tif</td><td>https://coastalimagery.blob.core.windows.net/digitalcoast/HI_NAIP_2021_9668/m_2115733_sw_04_060_20221215.tif</td><td>9668</td><td> 1</td><td>NA  </td><td>NA            </td><td>NA</td><td>pearl_harbor  </td><td>E:/Data/AOI_Shapefiles/oahu/pearl_harbor.shp   </td><td>POLYGON ((-158.0024 21.4028...</td></tr>\n",
              "\t<tr><td>m_2115741_ne_04_060_20221215.tif</td><td>https://coastalimagery.blob.core.windows.net/digitalcoast/HI_NAIP_2021_9668/m_2115741_ne_04_060_20221215.tif</td><td>9668</td><td> 1</td><td>NA  </td><td>NA            </td><td>NA</td><td>pearl_harbor  </td><td>E:/Data/AOI_Shapefiles/oahu/pearl_harbor.shp   </td><td>POLYGON ((-157.9263 21.3345...</td></tr>\n",
              "\t<tr><td>m_2115741_nw_04_060_20221215.tif</td><td>https://coastalimagery.blob.core.windows.net/digitalcoast/HI_NAIP_2021_9668/m_2115741_nw_04_060_20221215.tif</td><td>9668</td><td> 1</td><td>NA  </td><td>NA            </td><td>NA</td><td>pearl_harbor  </td><td>E:/Data/AOI_Shapefiles/oahu/pearl_harbor.shp   </td><td>POLYGON ((-157.9351 21.3346...</td></tr>\n",
              "\t<tr><td>m_2115840_se_04_060_20221215.tif</td><td>https://coastalimagery.blob.core.windows.net/digitalcoast/HI_NAIP_2021_9668/m_2115840_se_04_060_20221215.tif</td><td>9668</td><td> 1</td><td>NA  </td><td>NA            </td><td>NA</td><td>pearl_harbor  </td><td>E:/Data/AOI_Shapefiles/oahu/pearl_harbor.shp   </td><td>POLYGON ((-158.0395 21.3728...</td></tr>\n",
              "\t<tr><td>m_2115848_ne_04_060_20221215.tif</td><td>https://coastalimagery.blob.core.windows.net/digitalcoast/HI_NAIP_2021_9668/m_2115848_ne_04_060_20221215.tif</td><td>9668</td><td> 1</td><td>NA  </td><td>NA            </td><td>NA</td><td>pearl_harbor  </td><td>E:/Data/AOI_Shapefiles/oahu/pearl_harbor.shp   </td><td>POLYGON ((-157.9976 21.3350...</td></tr>\n",
              "\t<tr><td>m_2015604_ne_04_060_20220108.tif</td><td>https://coastalimagery.blob.core.windows.net/digitalcoast/HI_NAIP_2021_9668/m_2015604_ne_04_060_20220108.tif</td><td>9668</td><td> 1</td><td>NA  </td><td>NA            </td><td>NA</td><td>waihee        </td><td>E:/Data/AOI_Shapefiles/maui/waihee.shp         </td><td>POLYGON ((-156.5204 20.9347...</td></tr>\n",
              "\t<tr><td>m_2015604_se_04_060_20220108.tif</td><td>https://coastalimagery.blob.core.windows.net/digitalcoast/HI_NAIP_2021_9668/m_2015604_se_04_060_20220108.tif</td><td>9668</td><td> 1</td><td>NA  </td><td>NA            </td><td>NA</td><td>waihee        </td><td>E:/Data/AOI_Shapefiles/maui/waihee.shp         </td><td>POLYGON ((-156.5053 20.9318...</td></tr>\n",
              "\t<tr><td>m_2015604_se_04_060_20221214.tif</td><td>https://coastalimagery.blob.core.windows.net/digitalcoast/HI_NAIP_2021_9668/m_2015604_se_04_060_20221214.tif</td><td>9668</td><td> 1</td><td>NA  </td><td>NA            </td><td>NA</td><td>waihee        </td><td>E:/Data/AOI_Shapefiles/maui/waihee.shp         </td><td>POLYGON ((-156.5053 20.9318...</td></tr>\n",
              "\t<tr><td>m_2215962_ne_04_060_20220321.tif</td><td>https://coastalimagery.blob.core.windows.net/digitalcoast/HI_NAIP_2021_9668/m_2215962_ne_04_060_20220321.tif</td><td>9668</td><td> 1</td><td>NA  </td><td>NA            </td><td>NA</td><td>wailua_opaekaa</td><td>E:/Data/AOI_Shapefiles/kauai/wailua_opaekaa.shp</td><td>POLYGON ((-159.3144 22.0857...</td></tr>\n",
              "\t<tr><td>m_2215962_nw_04_060_20220321.tif</td><td>https://coastalimagery.blob.core.windows.net/digitalcoast/HI_NAIP_2021_9668/m_2215962_nw_04_060_20220321.tif</td><td>9668</td><td> 1</td><td>NA  </td><td>NA            </td><td>NA</td><td>wailua_opaekaa</td><td>E:/Data/AOI_Shapefiles/kauai/wailua_opaekaa.shp</td><td>POLYGON ((-159.3477 22.0606...</td></tr>\n",
              "\t<tr><td>m_2215962_se_04_060_20220321.tif</td><td>https://coastalimagery.blob.core.windows.net/digitalcoast/HI_NAIP_2021_9668/m_2215962_se_04_060_20220321.tif</td><td>9668</td><td> 1</td><td>NA  </td><td>NA            </td><td>NA</td><td>wailua_opaekaa</td><td>E:/Data/AOI_Shapefiles/kauai/wailua_opaekaa.shp</td><td>POLYGON ((-159.3131 22.0579...</td></tr>\n",
              "\t<tr><td>m_2215962_sw_04_060_20220321.tif</td><td>https://coastalimagery.blob.core.windows.net/digitalcoast/HI_NAIP_2021_9668/m_2215962_sw_04_060_20220321.tif</td><td>9668</td><td> 1</td><td>NA  </td><td>NA            </td><td>NA</td><td>wailua_opaekaa</td><td>E:/Data/AOI_Shapefiles/kauai/wailua_opaekaa.shp</td><td>POLYGON ((-159.3131 22.0579...</td></tr>\n",
              "</tbody>\n",
              "</table>\n"
            ],
            "text/markdown": "\nA data.table: 59 × 10\n\n| location &lt;chr&gt; | url &lt;chr&gt; | missionid &lt;int&gt; | id &lt;dbl&gt; | island &lt;chr&gt; | name &lt;chr&gt; | lumahai &lt;dbl&gt; | layer &lt;chr&gt; | path &lt;chr&gt; | geometry &lt;POLYGON [°]&gt; |\n|---|---|---|---|---|---|---|---|---|---|\n| m_2215954_se_04_060_20220128.tif | https://coastalimagery.blob.core.windows.net/digitalcoast/HI_NAIP_2021_9668/m_2215954_se_04_060_20220128.tif | 9668 |  1 | NA   | NA             | NA | anahola        | E:/Data/AOI_Shapefiles/kauai/anahola.shp        | POLYGON ((-159.2891 22.1324... |\n| m_2215954_sw_04_060_20220321.tif | https://coastalimagery.blob.core.windows.net/digitalcoast/HI_NAIP_2021_9668/m_2215954_sw_04_060_20220321.tif | 9668 |  1 | NA   | NA             | NA | anahola        | E:/Data/AOI_Shapefiles/kauai/anahola.shp        | POLYGON ((-159.3105 22.1323... |\n| m_2115831_ne_04_060_20220211.tif | https://coastalimagery.blob.core.windows.net/digitalcoast/HI_NAIP_2021_9668/m_2115831_ne_04_060_20220211.tif | 9668 |  1 | NA   | NA             | NA | haleiwa        | E:/Data/AOI_Shapefiles/oahu/haleiwa.shp         | POLYGON ((-158.1268 21.5603... |\n| m_2115831_se_04_060_20220211.tif | https://coastalimagery.blob.core.windows.net/digitalcoast/HI_NAIP_2021_9668/m_2115831_se_04_060_20220211.tif | 9668 |  1 | NA   | NA             | NA | haleiwa        | E:/Data/AOI_Shapefiles/oahu/haleiwa.shp         | POLYGON ((-158.1226 21.5526... |\n| m_2115832_nw_04_060_20220211.tif | https://coastalimagery.blob.core.windows.net/digitalcoast/HI_NAIP_2021_9668/m_2115832_nw_04_060_20220211.tif | 9668 |  1 | NA   | NA             | NA | haleiwa        | E:/Data/AOI_Shapefiles/oahu/haleiwa.shp         | POLYGON ((-158.1268 21.5603... |\n| m_2115832_sw_04_060_20220211.tif | https://coastalimagery.blob.core.windows.net/digitalcoast/HI_NAIP_2021_9668/m_2115832_sw_04_060_20220211.tif | 9668 |  1 | NA   | NA             | NA | haleiwa        | E:/Data/AOI_Shapefiles/oahu/haleiwa.shp         | POLYGON ((-158.0723 21.5523... |\n| m_2215952_ne_04_060_20220128.tif | https://coastalimagery.blob.core.windows.net/digitalcoast/HI_NAIP_2021_9668/m_2215952_ne_04_060_20220128.tif | 9668 |  1 | NA   | NA             | NA | hanalei        | E:/Data/AOI_Shapefiles/kauai/hanalei.shp        | POLYGON ((-159.5248 22.1857... |\n| m_2215952_se_04_060_20220128.tif | https://coastalimagery.blob.core.windows.net/digitalcoast/HI_NAIP_2021_9668/m_2215952_se_04_060_20220128.tif | 9668 |  1 | NA   | NA             | NA | hanalei        | E:/Data/AOI_Shapefiles/kauai/hanalei.shp        | POLYGON ((-159.4981 22.1696... |\n| m_2215952_se_04_060_20220321.tif | https://coastalimagery.blob.core.windows.net/digitalcoast/HI_NAIP_2021_9668/m_2215952_se_04_060_20220321.tif | 9668 |  1 | NA   | NA             | NA | hanalei        | E:/Data/AOI_Shapefiles/kauai/hanalei.shp        | POLYGON ((-159.4981 22.1696... |\n| m_2215953_nw_04_060_20220321.tif | https://coastalimagery.blob.core.windows.net/digitalcoast/HI_NAIP_2021_9668/m_2215953_nw_04_060_20220321.tif | 9668 |  1 | NA   | NA             | NA | hanalei        | E:/Data/AOI_Shapefiles/kauai/hanalei.shp        | POLYGON ((-159.502 22.22064... |\n| m_2215953_sw_04_060_20220321.tif | https://coastalimagery.blob.core.windows.net/digitalcoast/HI_NAIP_2021_9668/m_2215953_sw_04_060_20220321.tif | 9668 |  1 | NA   | NA             | NA | hanalei        | E:/Data/AOI_Shapefiles/kauai/hanalei.shp        | POLYGON ((-159.4567 22.1697... |\n| m_2115905_ne_04_060_20220321.tif | https://coastalimagery.blob.core.windows.net/digitalcoast/HI_NAIP_2021_9668/m_2115905_ne_04_060_20220321.tif | 9668 |  1 | NA   | NA             | NA | huleia         | E:/Data/AOI_Shapefiles/kauai/huleia.shp         | POLYGON ((-159.3731 21.9370... |\n| m_2115905_se_04_060_20220211.tif | https://coastalimagery.blob.core.windows.net/digitalcoast/HI_NAIP_2021_9668/m_2115905_se_04_060_20220211.tif | 9668 |  1 | NA   | NA             | NA | huleia         | E:/Data/AOI_Shapefiles/kauai/huleia.shp         | POLYGON ((-159.373 21.93709... |\n| m_2115905_se_04_060_20220212.tif | https://coastalimagery.blob.core.windows.net/digitalcoast/HI_NAIP_2021_9668/m_2115905_se_04_060_20220212.tif | 9668 |  1 | NA   | NA             | NA | huleia         | E:/Data/AOI_Shapefiles/kauai/huleia.shp         | POLYGON ((-159.373 21.93709... |\n| m_2115906_nw_04_060_20220321.tif | https://coastalimagery.blob.core.windows.net/digitalcoast/HI_NAIP_2021_9668/m_2115906_nw_04_060_20220321.tif | 9668 |  1 | NA   | NA             | NA | huleia         | E:/Data/AOI_Shapefiles/kauai/huleia.shp         | POLYGON ((-159.3534 21.9371... |\n| m_2115906_sw_04_060_20220211.tif | https://coastalimagery.blob.core.windows.net/digitalcoast/HI_NAIP_2021_9668/m_2115906_sw_04_060_20220211.tif | 9668 |  1 | NA   | NA             | NA | huleia         | E:/Data/AOI_Shapefiles/kauai/huleia.shp         | POLYGON ((-159.3534 21.9371... |\n| m_2115717_nw_04_060_20221217.tif | https://coastalimagery.blob.core.windows.net/digitalcoast/HI_NAIP_2021_9668/m_2115717_nw_04_060_20221217.tif | 9668 |  1 | NA   | NA             | NA | kahuku         | E:/Data/AOI_Shapefiles/oahu/kahuku.shp          | POLYGON ((-158.0024 21.7171... |\n| m_2115717_sw_04_060_20221231.tif | https://coastalimagery.blob.core.windows.net/digitalcoast/HI_NAIP_2021_9668/m_2115717_sw_04_060_20221231.tif | 9668 |  1 | NA   | NA             | NA | kahuku         | E:/Data/AOI_Shapefiles/oahu/kahuku.shp          | POLYGON ((-157.943 21.67555... |\n| m_2115824_ne_04_060_20221217.tif | https://coastalimagery.blob.core.windows.net/digitalcoast/HI_NAIP_2021_9668/m_2115824_ne_04_060_20221217.tif | 9668 |  1 | NA   | NA             | NA | kahuku         | E:/Data/AOI_Shapefiles/oahu/kahuku.shp          | POLYGON ((-158.0076 21.6853... |\n| m_2115824_se_04_060_20221231.tif | https://coastalimagery.blob.core.windows.net/digitalcoast/HI_NAIP_2021_9668/m_2115824_se_04_060_20221231.tif | 9668 |  1 | NA   | NA             | NA | kahuku         | E:/Data/AOI_Shapefiles/oahu/kahuku.shp          | POLYGON ((-157.9976 21.6758... |\n| m_2115657_ne_04_060_20220109.tif | https://coastalimagery.blob.core.windows.net/digitalcoast/HI_NAIP_2021_9668/m_2115657_ne_04_060_20220109.tif | 9668 |  1 | NA   | NA             | NA | kakahaia       | E:/Data/AOI_Shapefiles/molokai/kakahaia.shp     | POLYGON ((-156.9403 21.0688... |\n| m_2115657_nw_04_060_20220109.tif | https://coastalimagery.blob.core.windows.net/digitalcoast/HI_NAIP_2021_9668/m_2115657_nw_04_060_20220109.tif | 9668 |  1 | NA   | NA             | NA | kakahaia       | E:/Data/AOI_Shapefiles/molokai/kakahaia.shp     | POLYGON ((-156.953 21.0599,... |\n| m_2115657_se_04_060_20220109.tif | https://coastalimagery.blob.core.windows.net/digitalcoast/HI_NAIP_2021_9668/m_2115657_se_04_060_20220109.tif | 9668 |  1 | NA   | NA             | NA | kakahaia       | E:/Data/AOI_Shapefiles/molokai/kakahaia.shp     | POLYGON ((-156.8947 21.0517... |\n| m_2115657_sw_04_060_20220109.tif | https://coastalimagery.blob.core.windows.net/digitalcoast/HI_NAIP_2021_9668/m_2115657_sw_04_060_20220109.tif | 9668 |  1 | NA   | NA             | NA | kakahaia       | E:/Data/AOI_Shapefiles/molokai/kakahaia.shp     | POLYGON ((-156.9347 21.0522... |\n| m_2115763_ne_04_060_20220109.tif | https://coastalimagery.blob.core.windows.net/digitalcoast/HI_NAIP_2021_9668/m_2115763_ne_04_060_20220109.tif | 9668 |  1 | NA   | NA             | NA | kaluaapuhi     | E:/Data/AOI_Shapefiles/molokai/kaluaapuhi.shp   | POLYGON ((-157.1223 21.0882... |\n| m_2115764_ne_04_060_20220109.tif | https://coastalimagery.blob.core.windows.net/digitalcoast/HI_NAIP_2021_9668/m_2115764_ne_04_060_20220109.tif | 9668 |  1 | NA   | NA             | NA | kaluaapuhi     | E:/Data/AOI_Shapefiles/molokai/kaluaapuhi.shp   | POLYGON ((-157.0364 21.0872... |\n| m_2115764_nw_04_060_20220109.tif | https://coastalimagery.blob.core.windows.net/digitalcoast/HI_NAIP_2021_9668/m_2115764_nw_04_060_20220109.tif | 9668 |  1 | NA   | NA             | NA | kaluaapuhi     | E:/Data/AOI_Shapefiles/molokai/kaluaapuhi.shp   | POLYGON ((-157.0597 21.0875... |\n| m_2115657_ne_04_060_20220109.tif | https://coastalimagery.blob.core.windows.net/digitalcoast/HI_NAIP_2021_9668/m_2115657_ne_04_060_20220109.tif | 9668 |  1 | NA   | NA             | NA | kamalo         | E:/Data/AOI_Shapefiles/molokai/kamalo.shp       | POLYGON ((-156.8944 21.0598... |\n| m_2115657_se_04_060_20220109.tif | https://coastalimagery.blob.core.windows.net/digitalcoast/HI_NAIP_2021_9668/m_2115657_se_04_060_20220109.tif | 9668 |  1 | NA   | NA             | NA | kamalo         | E:/Data/AOI_Shapefiles/molokai/kamalo.shp       | POLYGON ((-156.8722 21.0447... |\n| m_2115658_nw_04_060_20220109.tif | https://coastalimagery.blob.core.windows.net/digitalcoast/HI_NAIP_2021_9668/m_2115658_nw_04_060_20220109.tif | 9668 |  1 | NA   | NA             | NA | kamalo         | E:/Data/AOI_Shapefiles/molokai/kamalo.shp       | POLYGON ((-156.8778 21.0602... |\n| m_2115658_sw_04_060_20220109.tif | https://coastalimagery.blob.core.windows.net/digitalcoast/HI_NAIP_2021_9668/m_2115658_sw_04_060_20220109.tif | 9668 |  1 | NA   | NA             | NA | kamalo         | E:/Data/AOI_Shapefiles/molokai/kamalo.shp       | POLYGON ((-156.8554 21.0445... |\n| m_2015605_sw_04_060_20221214.tif | https://coastalimagery.blob.core.windows.net/digitalcoast/HI_NAIP_2021_9668/m_2015605_sw_04_060_20221214.tif | 9668 |  1 | NA   | NA             | NA | kanaha         | E:/Data/AOI_Shapefiles/maui/kanaha.shp          | POLYGON ((-156.4413 20.8839... |\n| m_2015605_sw_04_060_20220327.tif | https://coastalimagery.blob.core.windows.net/digitalcoast/HI_NAIP_2021_9668/m_2015605_sw_04_060_20220327.tif | 9668 |  1 | NA   | NA             | NA | kanaha         | E:/Data/AOI_Shapefiles/maui/kanaha.shp          | POLYGON ((-156.4413 20.8839... |\n| m_2115734_se_04_060_20221215.tif | https://coastalimagery.blob.core.windows.net/digitalcoast/HI_NAIP_2021_9668/m_2115734_se_04_060_20221215.tif | 9668 |  1 | oahu | kawainui marsh | NA | kawainui_marsh | E:/Data/AOI_Shapefiles/oahu/kawainui_marsh.shp  | POLYGON ((-157.7858 21.3727... |\n| m_2115735_sw_04_060_20221215.tif | https://coastalimagery.blob.core.windows.net/digitalcoast/HI_NAIP_2021_9668/m_2115735_sw_04_060_20221215.tif | 9668 |  1 | oahu | kawainui marsh | NA | kawainui_marsh | E:/Data/AOI_Shapefiles/oahu/kawainui_marsh.shp  | POLYGON ((-157.7525 21.4153... |\n| m_2115742_ne_04_060_20221215.tif | https://coastalimagery.blob.core.windows.net/digitalcoast/HI_NAIP_2021_9668/m_2115742_ne_04_060_20221215.tif | 9668 |  1 | oahu | kawainui marsh | NA | kawainui_marsh | E:/Data/AOI_Shapefiles/oahu/kawainui_marsh.shp  | POLYGON ((-157.7475 21.3532... |\n| m_2115743_nw_04_060_20221215.tif | https://coastalimagery.blob.core.windows.net/digitalcoast/HI_NAIP_2021_9668/m_2115743_nw_04_060_20221215.tif | 9668 |  1 | oahu | kawainui marsh | NA | kawainui_marsh | E:/Data/AOI_Shapefiles/oahu/kawainui_marsh.shp  | POLYGON ((-157.7287 21.3531... |\n| m_2015612_se_04_060_20220108.tif | https://coastalimagery.blob.core.windows.net/digitalcoast/HI_NAIP_2021_9668/m_2015612_se_04_060_20220108.tif | 9668 |  1 | NA   | NA             | NA | kealia         | E:/Data/AOI_Shapefiles/maui/kealia.shp          | POLYGON ((-156.497 20.78083... |\n| m_2015613_sw_04_060_20220108.tif | https://coastalimagery.blob.core.windows.net/digitalcoast/HI_NAIP_2021_9668/m_2015613_sw_04_060_20220108.tif | 9668 |  1 | NA   | NA             | NA | kealia         | E:/Data/AOI_Shapefiles/maui/kealia.shp          | POLYGON ((-156.4571 20.7802... |\n| m_2215952_ne_04_060_20220128.tif | https://coastalimagery.blob.core.windows.net/digitalcoast/HI_NAIP_2021_9668/m_2215952_ne_04_060_20220128.tif | 9668 | NA | NA   | NA             |  1 | lumahai        | E:/Data/AOI_Shapefiles/kauai/lumahai.shp        | POLYGON ((-159.5428 22.1857... |\n| m_2215952_se_04_060_20220128.tif | https://coastalimagery.blob.core.windows.net/digitalcoast/HI_NAIP_2021_9668/m_2215952_se_04_060_20220128.tif | 9668 | NA | NA   | NA             |  1 | lumahai        | E:/Data/AOI_Shapefiles/kauai/lumahai.shp        | POLYGON ((-159.5271 22.1761... |\n| m_2215952_se_04_060_20220321.tif | https://coastalimagery.blob.core.windows.net/digitalcoast/HI_NAIP_2021_9668/m_2215952_se_04_060_20220321.tif | 9668 | NA | NA   | NA             |  1 | lumahai        | E:/Data/AOI_Shapefiles/kauai/lumahai.shp        | POLYGON ((-159.5271 22.1761... |\n| m_2015604_se_04_060_20220108.tif | https://coastalimagery.blob.core.windows.net/digitalcoast/HI_NAIP_2021_9668/m_2015604_se_04_060_20220108.tif | 9668 |  1 | NA   | NA             | NA | paukukalo      | E:/Data/AOI_Shapefiles/maui/paukukalo.shp       | POLYGON ((-156.497 20.89221... |\n| m_2015604_se_04_060_20221214.tif | https://coastalimagery.blob.core.windows.net/digitalcoast/HI_NAIP_2021_9668/m_2015604_se_04_060_20221214.tif | 9668 |  1 | NA   | NA             | NA | paukukalo      | E:/Data/AOI_Shapefiles/maui/paukukalo.shp       | POLYGON ((-156.497 20.89221... |\n| m_2015605_sw_04_060_20221214.tif | https://coastalimagery.blob.core.windows.net/digitalcoast/HI_NAIP_2021_9668/m_2015605_sw_04_060_20221214.tif | 9668 |  1 | NA   | NA             | NA | paukukalo      | E:/Data/AOI_Shapefiles/maui/paukukalo.shp       | POLYGON ((-156.4825 20.892,... |\n| m_2015605_sw_04_060_20220327.tif | https://coastalimagery.blob.core.windows.net/digitalcoast/HI_NAIP_2021_9668/m_2015605_sw_04_060_20220327.tif | 9668 |  1 | NA   | NA             | NA | paukukalo      | E:/Data/AOI_Shapefiles/maui/paukukalo.shp       | POLYGON ((-156.4825 20.892,... |\n| m_2115733_se_04_060_20221215.tif | https://coastalimagery.blob.core.windows.net/digitalcoast/HI_NAIP_2021_9668/m_2115733_se_04_060_20221215.tif | 9668 |  1 | NA   | NA             | NA | pearl_harbor   | E:/Data/AOI_Shapefiles/oahu/pearl_harbor.shp    | POLYGON ((-157.9399 21.4025... |\n| m_2115733_sw_04_060_20221215.tif | https://coastalimagery.blob.core.windows.net/digitalcoast/HI_NAIP_2021_9668/m_2115733_sw_04_060_20221215.tif | 9668 |  1 | NA   | NA             | NA | pearl_harbor   | E:/Data/AOI_Shapefiles/oahu/pearl_harbor.shp    | POLYGON ((-158.0024 21.4028... |\n| m_2115741_ne_04_060_20221215.tif | https://coastalimagery.blob.core.windows.net/digitalcoast/HI_NAIP_2021_9668/m_2115741_ne_04_060_20221215.tif | 9668 |  1 | NA   | NA             | NA | pearl_harbor   | E:/Data/AOI_Shapefiles/oahu/pearl_harbor.shp    | POLYGON ((-157.9263 21.3345... |\n| m_2115741_nw_04_060_20221215.tif | https://coastalimagery.blob.core.windows.net/digitalcoast/HI_NAIP_2021_9668/m_2115741_nw_04_060_20221215.tif | 9668 |  1 | NA   | NA             | NA | pearl_harbor   | E:/Data/AOI_Shapefiles/oahu/pearl_harbor.shp    | POLYGON ((-157.9351 21.3346... |\n| m_2115840_se_04_060_20221215.tif | https://coastalimagery.blob.core.windows.net/digitalcoast/HI_NAIP_2021_9668/m_2115840_se_04_060_20221215.tif | 9668 |  1 | NA   | NA             | NA | pearl_harbor   | E:/Data/AOI_Shapefiles/oahu/pearl_harbor.shp    | POLYGON ((-158.0395 21.3728... |\n| m_2115848_ne_04_060_20221215.tif | https://coastalimagery.blob.core.windows.net/digitalcoast/HI_NAIP_2021_9668/m_2115848_ne_04_060_20221215.tif | 9668 |  1 | NA   | NA             | NA | pearl_harbor   | E:/Data/AOI_Shapefiles/oahu/pearl_harbor.shp    | POLYGON ((-157.9976 21.3350... |\n| m_2015604_ne_04_060_20220108.tif | https://coastalimagery.blob.core.windows.net/digitalcoast/HI_NAIP_2021_9668/m_2015604_ne_04_060_20220108.tif | 9668 |  1 | NA   | NA             | NA | waihee         | E:/Data/AOI_Shapefiles/maui/waihee.shp          | POLYGON ((-156.5204 20.9347... |\n| m_2015604_se_04_060_20220108.tif | https://coastalimagery.blob.core.windows.net/digitalcoast/HI_NAIP_2021_9668/m_2015604_se_04_060_20220108.tif | 9668 |  1 | NA   | NA             | NA | waihee         | E:/Data/AOI_Shapefiles/maui/waihee.shp          | POLYGON ((-156.5053 20.9318... |\n| m_2015604_se_04_060_20221214.tif | https://coastalimagery.blob.core.windows.net/digitalcoast/HI_NAIP_2021_9668/m_2015604_se_04_060_20221214.tif | 9668 |  1 | NA   | NA             | NA | waihee         | E:/Data/AOI_Shapefiles/maui/waihee.shp          | POLYGON ((-156.5053 20.9318... |\n| m_2215962_ne_04_060_20220321.tif | https://coastalimagery.blob.core.windows.net/digitalcoast/HI_NAIP_2021_9668/m_2215962_ne_04_060_20220321.tif | 9668 |  1 | NA   | NA             | NA | wailua_opaekaa | E:/Data/AOI_Shapefiles/kauai/wailua_opaekaa.shp | POLYGON ((-159.3144 22.0857... |\n| m_2215962_nw_04_060_20220321.tif | https://coastalimagery.blob.core.windows.net/digitalcoast/HI_NAIP_2021_9668/m_2215962_nw_04_060_20220321.tif | 9668 |  1 | NA   | NA             | NA | wailua_opaekaa | E:/Data/AOI_Shapefiles/kauai/wailua_opaekaa.shp | POLYGON ((-159.3477 22.0606... |\n| m_2215962_se_04_060_20220321.tif | https://coastalimagery.blob.core.windows.net/digitalcoast/HI_NAIP_2021_9668/m_2215962_se_04_060_20220321.tif | 9668 |  1 | NA   | NA             | NA | wailua_opaekaa | E:/Data/AOI_Shapefiles/kauai/wailua_opaekaa.shp | POLYGON ((-159.3131 22.0579... |\n| m_2215962_sw_04_060_20220321.tif | https://coastalimagery.blob.core.windows.net/digitalcoast/HI_NAIP_2021_9668/m_2215962_sw_04_060_20220321.tif | 9668 |  1 | NA   | NA             | NA | wailua_opaekaa | E:/Data/AOI_Shapefiles/kauai/wailua_opaekaa.shp | POLYGON ((-159.3131 22.0579... |\n\n",
            "text/latex": "A data.table: 59 × 10\n\\begin{tabular}{llllllllll}\n location & url & missionid & id & island & name & lumahai & layer & path & geometry\\\\\n <chr> & <chr> & <int> & <dbl> & <chr> & <chr> & <dbl> & <chr> & <chr> & <POLYGON {[}°{]}>\\\\\n\\hline\n\t m\\_2215954\\_se\\_04\\_060\\_20220128.tif & https://coastalimagery.blob.core.windows.net/digitalcoast/HI\\_NAIP\\_2021\\_9668/m\\_2215954\\_se\\_04\\_060\\_20220128.tif & 9668 &  1 & NA   & NA             & NA & anahola        & E:/Data/AOI\\_Shapefiles/kauai/anahola.shp        & POLYGON ((-159.2891 22.1324...\\\\\n\t m\\_2215954\\_sw\\_04\\_060\\_20220321.tif & https://coastalimagery.blob.core.windows.net/digitalcoast/HI\\_NAIP\\_2021\\_9668/m\\_2215954\\_sw\\_04\\_060\\_20220321.tif & 9668 &  1 & NA   & NA             & NA & anahola        & E:/Data/AOI\\_Shapefiles/kauai/anahola.shp        & POLYGON ((-159.3105 22.1323...\\\\\n\t m\\_2115831\\_ne\\_04\\_060\\_20220211.tif & https://coastalimagery.blob.core.windows.net/digitalcoast/HI\\_NAIP\\_2021\\_9668/m\\_2115831\\_ne\\_04\\_060\\_20220211.tif & 9668 &  1 & NA   & NA             & NA & haleiwa        & E:/Data/AOI\\_Shapefiles/oahu/haleiwa.shp         & POLYGON ((-158.1268 21.5603...\\\\\n\t m\\_2115831\\_se\\_04\\_060\\_20220211.tif & https://coastalimagery.blob.core.windows.net/digitalcoast/HI\\_NAIP\\_2021\\_9668/m\\_2115831\\_se\\_04\\_060\\_20220211.tif & 9668 &  1 & NA   & NA             & NA & haleiwa        & E:/Data/AOI\\_Shapefiles/oahu/haleiwa.shp         & POLYGON ((-158.1226 21.5526...\\\\\n\t m\\_2115832\\_nw\\_04\\_060\\_20220211.tif & https://coastalimagery.blob.core.windows.net/digitalcoast/HI\\_NAIP\\_2021\\_9668/m\\_2115832\\_nw\\_04\\_060\\_20220211.tif & 9668 &  1 & NA   & NA             & NA & haleiwa        & E:/Data/AOI\\_Shapefiles/oahu/haleiwa.shp         & POLYGON ((-158.1268 21.5603...\\\\\n\t m\\_2115832\\_sw\\_04\\_060\\_20220211.tif & https://coastalimagery.blob.core.windows.net/digitalcoast/HI\\_NAIP\\_2021\\_9668/m\\_2115832\\_sw\\_04\\_060\\_20220211.tif & 9668 &  1 & NA   & NA             & NA & haleiwa        & E:/Data/AOI\\_Shapefiles/oahu/haleiwa.shp         & POLYGON ((-158.0723 21.5523...\\\\\n\t m\\_2215952\\_ne\\_04\\_060\\_20220128.tif & https://coastalimagery.blob.core.windows.net/digitalcoast/HI\\_NAIP\\_2021\\_9668/m\\_2215952\\_ne\\_04\\_060\\_20220128.tif & 9668 &  1 & NA   & NA             & NA & hanalei        & E:/Data/AOI\\_Shapefiles/kauai/hanalei.shp        & POLYGON ((-159.5248 22.1857...\\\\\n\t m\\_2215952\\_se\\_04\\_060\\_20220128.tif & https://coastalimagery.blob.core.windows.net/digitalcoast/HI\\_NAIP\\_2021\\_9668/m\\_2215952\\_se\\_04\\_060\\_20220128.tif & 9668 &  1 & NA   & NA             & NA & hanalei        & E:/Data/AOI\\_Shapefiles/kauai/hanalei.shp        & POLYGON ((-159.4981 22.1696...\\\\\n\t m\\_2215952\\_se\\_04\\_060\\_20220321.tif & https://coastalimagery.blob.core.windows.net/digitalcoast/HI\\_NAIP\\_2021\\_9668/m\\_2215952\\_se\\_04\\_060\\_20220321.tif & 9668 &  1 & NA   & NA             & NA & hanalei        & E:/Data/AOI\\_Shapefiles/kauai/hanalei.shp        & POLYGON ((-159.4981 22.1696...\\\\\n\t m\\_2215953\\_nw\\_04\\_060\\_20220321.tif & https://coastalimagery.blob.core.windows.net/digitalcoast/HI\\_NAIP\\_2021\\_9668/m\\_2215953\\_nw\\_04\\_060\\_20220321.tif & 9668 &  1 & NA   & NA             & NA & hanalei        & E:/Data/AOI\\_Shapefiles/kauai/hanalei.shp        & POLYGON ((-159.502 22.22064...\\\\\n\t m\\_2215953\\_sw\\_04\\_060\\_20220321.tif & https://coastalimagery.blob.core.windows.net/digitalcoast/HI\\_NAIP\\_2021\\_9668/m\\_2215953\\_sw\\_04\\_060\\_20220321.tif & 9668 &  1 & NA   & NA             & NA & hanalei        & E:/Data/AOI\\_Shapefiles/kauai/hanalei.shp        & POLYGON ((-159.4567 22.1697...\\\\\n\t m\\_2115905\\_ne\\_04\\_060\\_20220321.tif & https://coastalimagery.blob.core.windows.net/digitalcoast/HI\\_NAIP\\_2021\\_9668/m\\_2115905\\_ne\\_04\\_060\\_20220321.tif & 9668 &  1 & NA   & NA             & NA & huleia         & E:/Data/AOI\\_Shapefiles/kauai/huleia.shp         & POLYGON ((-159.3731 21.9370...\\\\\n\t m\\_2115905\\_se\\_04\\_060\\_20220211.tif & https://coastalimagery.blob.core.windows.net/digitalcoast/HI\\_NAIP\\_2021\\_9668/m\\_2115905\\_se\\_04\\_060\\_20220211.tif & 9668 &  1 & NA   & NA             & NA & huleia         & E:/Data/AOI\\_Shapefiles/kauai/huleia.shp         & POLYGON ((-159.373 21.93709...\\\\\n\t m\\_2115905\\_se\\_04\\_060\\_20220212.tif & https://coastalimagery.blob.core.windows.net/digitalcoast/HI\\_NAIP\\_2021\\_9668/m\\_2115905\\_se\\_04\\_060\\_20220212.tif & 9668 &  1 & NA   & NA             & NA & huleia         & E:/Data/AOI\\_Shapefiles/kauai/huleia.shp         & POLYGON ((-159.373 21.93709...\\\\\n\t m\\_2115906\\_nw\\_04\\_060\\_20220321.tif & https://coastalimagery.blob.core.windows.net/digitalcoast/HI\\_NAIP\\_2021\\_9668/m\\_2115906\\_nw\\_04\\_060\\_20220321.tif & 9668 &  1 & NA   & NA             & NA & huleia         & E:/Data/AOI\\_Shapefiles/kauai/huleia.shp         & POLYGON ((-159.3534 21.9371...\\\\\n\t m\\_2115906\\_sw\\_04\\_060\\_20220211.tif & https://coastalimagery.blob.core.windows.net/digitalcoast/HI\\_NAIP\\_2021\\_9668/m\\_2115906\\_sw\\_04\\_060\\_20220211.tif & 9668 &  1 & NA   & NA             & NA & huleia         & E:/Data/AOI\\_Shapefiles/kauai/huleia.shp         & POLYGON ((-159.3534 21.9371...\\\\\n\t m\\_2115717\\_nw\\_04\\_060\\_20221217.tif & https://coastalimagery.blob.core.windows.net/digitalcoast/HI\\_NAIP\\_2021\\_9668/m\\_2115717\\_nw\\_04\\_060\\_20221217.tif & 9668 &  1 & NA   & NA             & NA & kahuku         & E:/Data/AOI\\_Shapefiles/oahu/kahuku.shp          & POLYGON ((-158.0024 21.7171...\\\\\n\t m\\_2115717\\_sw\\_04\\_060\\_20221231.tif & https://coastalimagery.blob.core.windows.net/digitalcoast/HI\\_NAIP\\_2021\\_9668/m\\_2115717\\_sw\\_04\\_060\\_20221231.tif & 9668 &  1 & NA   & NA             & NA & kahuku         & E:/Data/AOI\\_Shapefiles/oahu/kahuku.shp          & POLYGON ((-157.943 21.67555...\\\\\n\t m\\_2115824\\_ne\\_04\\_060\\_20221217.tif & https://coastalimagery.blob.core.windows.net/digitalcoast/HI\\_NAIP\\_2021\\_9668/m\\_2115824\\_ne\\_04\\_060\\_20221217.tif & 9668 &  1 & NA   & NA             & NA & kahuku         & E:/Data/AOI\\_Shapefiles/oahu/kahuku.shp          & POLYGON ((-158.0076 21.6853...\\\\\n\t m\\_2115824\\_se\\_04\\_060\\_20221231.tif & https://coastalimagery.blob.core.windows.net/digitalcoast/HI\\_NAIP\\_2021\\_9668/m\\_2115824\\_se\\_04\\_060\\_20221231.tif & 9668 &  1 & NA   & NA             & NA & kahuku         & E:/Data/AOI\\_Shapefiles/oahu/kahuku.shp          & POLYGON ((-157.9976 21.6758...\\\\\n\t m\\_2115657\\_ne\\_04\\_060\\_20220109.tif & https://coastalimagery.blob.core.windows.net/digitalcoast/HI\\_NAIP\\_2021\\_9668/m\\_2115657\\_ne\\_04\\_060\\_20220109.tif & 9668 &  1 & NA   & NA             & NA & kakahaia       & E:/Data/AOI\\_Shapefiles/molokai/kakahaia.shp     & POLYGON ((-156.9403 21.0688...\\\\\n\t m\\_2115657\\_nw\\_04\\_060\\_20220109.tif & https://coastalimagery.blob.core.windows.net/digitalcoast/HI\\_NAIP\\_2021\\_9668/m\\_2115657\\_nw\\_04\\_060\\_20220109.tif & 9668 &  1 & NA   & NA             & NA & kakahaia       & E:/Data/AOI\\_Shapefiles/molokai/kakahaia.shp     & POLYGON ((-156.953 21.0599,...\\\\\n\t m\\_2115657\\_se\\_04\\_060\\_20220109.tif & https://coastalimagery.blob.core.windows.net/digitalcoast/HI\\_NAIP\\_2021\\_9668/m\\_2115657\\_se\\_04\\_060\\_20220109.tif & 9668 &  1 & NA   & NA             & NA & kakahaia       & E:/Data/AOI\\_Shapefiles/molokai/kakahaia.shp     & POLYGON ((-156.8947 21.0517...\\\\\n\t m\\_2115657\\_sw\\_04\\_060\\_20220109.tif & https://coastalimagery.blob.core.windows.net/digitalcoast/HI\\_NAIP\\_2021\\_9668/m\\_2115657\\_sw\\_04\\_060\\_20220109.tif & 9668 &  1 & NA   & NA             & NA & kakahaia       & E:/Data/AOI\\_Shapefiles/molokai/kakahaia.shp     & POLYGON ((-156.9347 21.0522...\\\\\n\t m\\_2115763\\_ne\\_04\\_060\\_20220109.tif & https://coastalimagery.blob.core.windows.net/digitalcoast/HI\\_NAIP\\_2021\\_9668/m\\_2115763\\_ne\\_04\\_060\\_20220109.tif & 9668 &  1 & NA   & NA             & NA & kaluaapuhi     & E:/Data/AOI\\_Shapefiles/molokai/kaluaapuhi.shp   & POLYGON ((-157.1223 21.0882...\\\\\n\t m\\_2115764\\_ne\\_04\\_060\\_20220109.tif & https://coastalimagery.blob.core.windows.net/digitalcoast/HI\\_NAIP\\_2021\\_9668/m\\_2115764\\_ne\\_04\\_060\\_20220109.tif & 9668 &  1 & NA   & NA             & NA & kaluaapuhi     & E:/Data/AOI\\_Shapefiles/molokai/kaluaapuhi.shp   & POLYGON ((-157.0364 21.0872...\\\\\n\t m\\_2115764\\_nw\\_04\\_060\\_20220109.tif & https://coastalimagery.blob.core.windows.net/digitalcoast/HI\\_NAIP\\_2021\\_9668/m\\_2115764\\_nw\\_04\\_060\\_20220109.tif & 9668 &  1 & NA   & NA             & NA & kaluaapuhi     & E:/Data/AOI\\_Shapefiles/molokai/kaluaapuhi.shp   & POLYGON ((-157.0597 21.0875...\\\\\n\t m\\_2115657\\_ne\\_04\\_060\\_20220109.tif & https://coastalimagery.blob.core.windows.net/digitalcoast/HI\\_NAIP\\_2021\\_9668/m\\_2115657\\_ne\\_04\\_060\\_20220109.tif & 9668 &  1 & NA   & NA             & NA & kamalo         & E:/Data/AOI\\_Shapefiles/molokai/kamalo.shp       & POLYGON ((-156.8944 21.0598...\\\\\n\t m\\_2115657\\_se\\_04\\_060\\_20220109.tif & https://coastalimagery.blob.core.windows.net/digitalcoast/HI\\_NAIP\\_2021\\_9668/m\\_2115657\\_se\\_04\\_060\\_20220109.tif & 9668 &  1 & NA   & NA             & NA & kamalo         & E:/Data/AOI\\_Shapefiles/molokai/kamalo.shp       & POLYGON ((-156.8722 21.0447...\\\\\n\t m\\_2115658\\_nw\\_04\\_060\\_20220109.tif & https://coastalimagery.blob.core.windows.net/digitalcoast/HI\\_NAIP\\_2021\\_9668/m\\_2115658\\_nw\\_04\\_060\\_20220109.tif & 9668 &  1 & NA   & NA             & NA & kamalo         & E:/Data/AOI\\_Shapefiles/molokai/kamalo.shp       & POLYGON ((-156.8778 21.0602...\\\\\n\t m\\_2115658\\_sw\\_04\\_060\\_20220109.tif & https://coastalimagery.blob.core.windows.net/digitalcoast/HI\\_NAIP\\_2021\\_9668/m\\_2115658\\_sw\\_04\\_060\\_20220109.tif & 9668 &  1 & NA   & NA             & NA & kamalo         & E:/Data/AOI\\_Shapefiles/molokai/kamalo.shp       & POLYGON ((-156.8554 21.0445...\\\\\n\t m\\_2015605\\_sw\\_04\\_060\\_20221214.tif & https://coastalimagery.blob.core.windows.net/digitalcoast/HI\\_NAIP\\_2021\\_9668/m\\_2015605\\_sw\\_04\\_060\\_20221214.tif & 9668 &  1 & NA   & NA             & NA & kanaha         & E:/Data/AOI\\_Shapefiles/maui/kanaha.shp          & POLYGON ((-156.4413 20.8839...\\\\\n\t m\\_2015605\\_sw\\_04\\_060\\_20220327.tif & https://coastalimagery.blob.core.windows.net/digitalcoast/HI\\_NAIP\\_2021\\_9668/m\\_2015605\\_sw\\_04\\_060\\_20220327.tif & 9668 &  1 & NA   & NA             & NA & kanaha         & E:/Data/AOI\\_Shapefiles/maui/kanaha.shp          & POLYGON ((-156.4413 20.8839...\\\\\n\t m\\_2115734\\_se\\_04\\_060\\_20221215.tif & https://coastalimagery.blob.core.windows.net/digitalcoast/HI\\_NAIP\\_2021\\_9668/m\\_2115734\\_se\\_04\\_060\\_20221215.tif & 9668 &  1 & oahu & kawainui marsh & NA & kawainui\\_marsh & E:/Data/AOI\\_Shapefiles/oahu/kawainui\\_marsh.shp  & POLYGON ((-157.7858 21.3727...\\\\\n\t m\\_2115735\\_sw\\_04\\_060\\_20221215.tif & https://coastalimagery.blob.core.windows.net/digitalcoast/HI\\_NAIP\\_2021\\_9668/m\\_2115735\\_sw\\_04\\_060\\_20221215.tif & 9668 &  1 & oahu & kawainui marsh & NA & kawainui\\_marsh & E:/Data/AOI\\_Shapefiles/oahu/kawainui\\_marsh.shp  & POLYGON ((-157.7525 21.4153...\\\\\n\t m\\_2115742\\_ne\\_04\\_060\\_20221215.tif & https://coastalimagery.blob.core.windows.net/digitalcoast/HI\\_NAIP\\_2021\\_9668/m\\_2115742\\_ne\\_04\\_060\\_20221215.tif & 9668 &  1 & oahu & kawainui marsh & NA & kawainui\\_marsh & E:/Data/AOI\\_Shapefiles/oahu/kawainui\\_marsh.shp  & POLYGON ((-157.7475 21.3532...\\\\\n\t m\\_2115743\\_nw\\_04\\_060\\_20221215.tif & https://coastalimagery.blob.core.windows.net/digitalcoast/HI\\_NAIP\\_2021\\_9668/m\\_2115743\\_nw\\_04\\_060\\_20221215.tif & 9668 &  1 & oahu & kawainui marsh & NA & kawainui\\_marsh & E:/Data/AOI\\_Shapefiles/oahu/kawainui\\_marsh.shp  & POLYGON ((-157.7287 21.3531...\\\\\n\t m\\_2015612\\_se\\_04\\_060\\_20220108.tif & https://coastalimagery.blob.core.windows.net/digitalcoast/HI\\_NAIP\\_2021\\_9668/m\\_2015612\\_se\\_04\\_060\\_20220108.tif & 9668 &  1 & NA   & NA             & NA & kealia         & E:/Data/AOI\\_Shapefiles/maui/kealia.shp          & POLYGON ((-156.497 20.78083...\\\\\n\t m\\_2015613\\_sw\\_04\\_060\\_20220108.tif & https://coastalimagery.blob.core.windows.net/digitalcoast/HI\\_NAIP\\_2021\\_9668/m\\_2015613\\_sw\\_04\\_060\\_20220108.tif & 9668 &  1 & NA   & NA             & NA & kealia         & E:/Data/AOI\\_Shapefiles/maui/kealia.shp          & POLYGON ((-156.4571 20.7802...\\\\\n\t m\\_2215952\\_ne\\_04\\_060\\_20220128.tif & https://coastalimagery.blob.core.windows.net/digitalcoast/HI\\_NAIP\\_2021\\_9668/m\\_2215952\\_ne\\_04\\_060\\_20220128.tif & 9668 & NA & NA   & NA             &  1 & lumahai        & E:/Data/AOI\\_Shapefiles/kauai/lumahai.shp        & POLYGON ((-159.5428 22.1857...\\\\\n\t m\\_2215952\\_se\\_04\\_060\\_20220128.tif & https://coastalimagery.blob.core.windows.net/digitalcoast/HI\\_NAIP\\_2021\\_9668/m\\_2215952\\_se\\_04\\_060\\_20220128.tif & 9668 & NA & NA   & NA             &  1 & lumahai        & E:/Data/AOI\\_Shapefiles/kauai/lumahai.shp        & POLYGON ((-159.5271 22.1761...\\\\\n\t m\\_2215952\\_se\\_04\\_060\\_20220321.tif & https://coastalimagery.blob.core.windows.net/digitalcoast/HI\\_NAIP\\_2021\\_9668/m\\_2215952\\_se\\_04\\_060\\_20220321.tif & 9668 & NA & NA   & NA             &  1 & lumahai        & E:/Data/AOI\\_Shapefiles/kauai/lumahai.shp        & POLYGON ((-159.5271 22.1761...\\\\\n\t m\\_2015604\\_se\\_04\\_060\\_20220108.tif & https://coastalimagery.blob.core.windows.net/digitalcoast/HI\\_NAIP\\_2021\\_9668/m\\_2015604\\_se\\_04\\_060\\_20220108.tif & 9668 &  1 & NA   & NA             & NA & paukukalo      & E:/Data/AOI\\_Shapefiles/maui/paukukalo.shp       & POLYGON ((-156.497 20.89221...\\\\\n\t m\\_2015604\\_se\\_04\\_060\\_20221214.tif & https://coastalimagery.blob.core.windows.net/digitalcoast/HI\\_NAIP\\_2021\\_9668/m\\_2015604\\_se\\_04\\_060\\_20221214.tif & 9668 &  1 & NA   & NA             & NA & paukukalo      & E:/Data/AOI\\_Shapefiles/maui/paukukalo.shp       & POLYGON ((-156.497 20.89221...\\\\\n\t m\\_2015605\\_sw\\_04\\_060\\_20221214.tif & https://coastalimagery.blob.core.windows.net/digitalcoast/HI\\_NAIP\\_2021\\_9668/m\\_2015605\\_sw\\_04\\_060\\_20221214.tif & 9668 &  1 & NA   & NA             & NA & paukukalo      & E:/Data/AOI\\_Shapefiles/maui/paukukalo.shp       & POLYGON ((-156.4825 20.892,...\\\\\n\t m\\_2015605\\_sw\\_04\\_060\\_20220327.tif & https://coastalimagery.blob.core.windows.net/digitalcoast/HI\\_NAIP\\_2021\\_9668/m\\_2015605\\_sw\\_04\\_060\\_20220327.tif & 9668 &  1 & NA   & NA             & NA & paukukalo      & E:/Data/AOI\\_Shapefiles/maui/paukukalo.shp       & POLYGON ((-156.4825 20.892,...\\\\\n\t m\\_2115733\\_se\\_04\\_060\\_20221215.tif & https://coastalimagery.blob.core.windows.net/digitalcoast/HI\\_NAIP\\_2021\\_9668/m\\_2115733\\_se\\_04\\_060\\_20221215.tif & 9668 &  1 & NA   & NA             & NA & pearl\\_harbor   & E:/Data/AOI\\_Shapefiles/oahu/pearl\\_harbor.shp    & POLYGON ((-157.9399 21.4025...\\\\\n\t m\\_2115733\\_sw\\_04\\_060\\_20221215.tif & https://coastalimagery.blob.core.windows.net/digitalcoast/HI\\_NAIP\\_2021\\_9668/m\\_2115733\\_sw\\_04\\_060\\_20221215.tif & 9668 &  1 & NA   & NA             & NA & pearl\\_harbor   & E:/Data/AOI\\_Shapefiles/oahu/pearl\\_harbor.shp    & POLYGON ((-158.0024 21.4028...\\\\\n\t m\\_2115741\\_ne\\_04\\_060\\_20221215.tif & https://coastalimagery.blob.core.windows.net/digitalcoast/HI\\_NAIP\\_2021\\_9668/m\\_2115741\\_ne\\_04\\_060\\_20221215.tif & 9668 &  1 & NA   & NA             & NA & pearl\\_harbor   & E:/Data/AOI\\_Shapefiles/oahu/pearl\\_harbor.shp    & POLYGON ((-157.9263 21.3345...\\\\\n\t m\\_2115741\\_nw\\_04\\_060\\_20221215.tif & https://coastalimagery.blob.core.windows.net/digitalcoast/HI\\_NAIP\\_2021\\_9668/m\\_2115741\\_nw\\_04\\_060\\_20221215.tif & 9668 &  1 & NA   & NA             & NA & pearl\\_harbor   & E:/Data/AOI\\_Shapefiles/oahu/pearl\\_harbor.shp    & POLYGON ((-157.9351 21.3346...\\\\\n\t m\\_2115840\\_se\\_04\\_060\\_20221215.tif & https://coastalimagery.blob.core.windows.net/digitalcoast/HI\\_NAIP\\_2021\\_9668/m\\_2115840\\_se\\_04\\_060\\_20221215.tif & 9668 &  1 & NA   & NA             & NA & pearl\\_harbor   & E:/Data/AOI\\_Shapefiles/oahu/pearl\\_harbor.shp    & POLYGON ((-158.0395 21.3728...\\\\\n\t m\\_2115848\\_ne\\_04\\_060\\_20221215.tif & https://coastalimagery.blob.core.windows.net/digitalcoast/HI\\_NAIP\\_2021\\_9668/m\\_2115848\\_ne\\_04\\_060\\_20221215.tif & 9668 &  1 & NA   & NA             & NA & pearl\\_harbor   & E:/Data/AOI\\_Shapefiles/oahu/pearl\\_harbor.shp    & POLYGON ((-157.9976 21.3350...\\\\\n\t m\\_2015604\\_ne\\_04\\_060\\_20220108.tif & https://coastalimagery.blob.core.windows.net/digitalcoast/HI\\_NAIP\\_2021\\_9668/m\\_2015604\\_ne\\_04\\_060\\_20220108.tif & 9668 &  1 & NA   & NA             & NA & waihee         & E:/Data/AOI\\_Shapefiles/maui/waihee.shp          & POLYGON ((-156.5204 20.9347...\\\\\n\t m\\_2015604\\_se\\_04\\_060\\_20220108.tif & https://coastalimagery.blob.core.windows.net/digitalcoast/HI\\_NAIP\\_2021\\_9668/m\\_2015604\\_se\\_04\\_060\\_20220108.tif & 9668 &  1 & NA   & NA             & NA & waihee         & E:/Data/AOI\\_Shapefiles/maui/waihee.shp          & POLYGON ((-156.5053 20.9318...\\\\\n\t m\\_2015604\\_se\\_04\\_060\\_20221214.tif & https://coastalimagery.blob.core.windows.net/digitalcoast/HI\\_NAIP\\_2021\\_9668/m\\_2015604\\_se\\_04\\_060\\_20221214.tif & 9668 &  1 & NA   & NA             & NA & waihee         & E:/Data/AOI\\_Shapefiles/maui/waihee.shp          & POLYGON ((-156.5053 20.9318...\\\\\n\t m\\_2215962\\_ne\\_04\\_060\\_20220321.tif & https://coastalimagery.blob.core.windows.net/digitalcoast/HI\\_NAIP\\_2021\\_9668/m\\_2215962\\_ne\\_04\\_060\\_20220321.tif & 9668 &  1 & NA   & NA             & NA & wailua\\_opaekaa & E:/Data/AOI\\_Shapefiles/kauai/wailua\\_opaekaa.shp & POLYGON ((-159.3144 22.0857...\\\\\n\t m\\_2215962\\_nw\\_04\\_060\\_20220321.tif & https://coastalimagery.blob.core.windows.net/digitalcoast/HI\\_NAIP\\_2021\\_9668/m\\_2215962\\_nw\\_04\\_060\\_20220321.tif & 9668 &  1 & NA   & NA             & NA & wailua\\_opaekaa & E:/Data/AOI\\_Shapefiles/kauai/wailua\\_opaekaa.shp & POLYGON ((-159.3477 22.0606...\\\\\n\t m\\_2215962\\_se\\_04\\_060\\_20220321.tif & https://coastalimagery.blob.core.windows.net/digitalcoast/HI\\_NAIP\\_2021\\_9668/m\\_2215962\\_se\\_04\\_060\\_20220321.tif & 9668 &  1 & NA   & NA             & NA & wailua\\_opaekaa & E:/Data/AOI\\_Shapefiles/kauai/wailua\\_opaekaa.shp & POLYGON ((-159.3131 22.0579...\\\\\n\t m\\_2215962\\_sw\\_04\\_060\\_20220321.tif & https://coastalimagery.blob.core.windows.net/digitalcoast/HI\\_NAIP\\_2021\\_9668/m\\_2215962\\_sw\\_04\\_060\\_20220321.tif & 9668 &  1 & NA   & NA             & NA & wailua\\_opaekaa & E:/Data/AOI\\_Shapefiles/kauai/wailua\\_opaekaa.shp & POLYGON ((-159.3131 22.0579...\\\\\n\\end{tabular}\n",
            "text/plain": [
              "   location                        \n",
              "1  m_2215954_se_04_060_20220128.tif\n",
              "2  m_2215954_sw_04_060_20220321.tif\n",
              "3  m_2115831_ne_04_060_20220211.tif\n",
              "4  m_2115831_se_04_060_20220211.tif\n",
              "5  m_2115832_nw_04_060_20220211.tif\n",
              "6  m_2115832_sw_04_060_20220211.tif\n",
              "7  m_2215952_ne_04_060_20220128.tif\n",
              "8  m_2215952_se_04_060_20220128.tif\n",
              "9  m_2215952_se_04_060_20220321.tif\n",
              "10 m_2215953_nw_04_060_20220321.tif\n",
              "11 m_2215953_sw_04_060_20220321.tif\n",
              "12 m_2115905_ne_04_060_20220321.tif\n",
              "13 m_2115905_se_04_060_20220211.tif\n",
              "14 m_2115905_se_04_060_20220212.tif\n",
              "15 m_2115906_nw_04_060_20220321.tif\n",
              "16 m_2115906_sw_04_060_20220211.tif\n",
              "17 m_2115717_nw_04_060_20221217.tif\n",
              "18 m_2115717_sw_04_060_20221231.tif\n",
              "19 m_2115824_ne_04_060_20221217.tif\n",
              "20 m_2115824_se_04_060_20221231.tif\n",
              "21 m_2115657_ne_04_060_20220109.tif\n",
              "22 m_2115657_nw_04_060_20220109.tif\n",
              "23 m_2115657_se_04_060_20220109.tif\n",
              "24 m_2115657_sw_04_060_20220109.tif\n",
              "25 m_2115763_ne_04_060_20220109.tif\n",
              "26 m_2115764_ne_04_060_20220109.tif\n",
              "27 m_2115764_nw_04_060_20220109.tif\n",
              "28 m_2115657_ne_04_060_20220109.tif\n",
              "29 m_2115657_se_04_060_20220109.tif\n",
              "30 m_2115658_nw_04_060_20220109.tif\n",
              "31 m_2115658_sw_04_060_20220109.tif\n",
              "32 m_2015605_sw_04_060_20221214.tif\n",
              "33 m_2015605_sw_04_060_20220327.tif\n",
              "34 m_2115734_se_04_060_20221215.tif\n",
              "35 m_2115735_sw_04_060_20221215.tif\n",
              "36 m_2115742_ne_04_060_20221215.tif\n",
              "37 m_2115743_nw_04_060_20221215.tif\n",
              "38 m_2015612_se_04_060_20220108.tif\n",
              "39 m_2015613_sw_04_060_20220108.tif\n",
              "40 m_2215952_ne_04_060_20220128.tif\n",
              "41 m_2215952_se_04_060_20220128.tif\n",
              "42 m_2215952_se_04_060_20220321.tif\n",
              "43 m_2015604_se_04_060_20220108.tif\n",
              "44 m_2015604_se_04_060_20221214.tif\n",
              "45 m_2015605_sw_04_060_20221214.tif\n",
              "46 m_2015605_sw_04_060_20220327.tif\n",
              "47 m_2115733_se_04_060_20221215.tif\n",
              "48 m_2115733_sw_04_060_20221215.tif\n",
              "49 m_2115741_ne_04_060_20221215.tif\n",
              "50 m_2115741_nw_04_060_20221215.tif\n",
              "51 m_2115840_se_04_060_20221215.tif\n",
              "52 m_2115848_ne_04_060_20221215.tif\n",
              "53 m_2015604_ne_04_060_20220108.tif\n",
              "54 m_2015604_se_04_060_20220108.tif\n",
              "55 m_2015604_se_04_060_20221214.tif\n",
              "56 m_2215962_ne_04_060_20220321.tif\n",
              "57 m_2215962_nw_04_060_20220321.tif\n",
              "58 m_2215962_se_04_060_20220321.tif\n",
              "59 m_2215962_sw_04_060_20220321.tif\n",
              "   url                                                                                                         \n",
              "1  https://coastalimagery.blob.core.windows.net/digitalcoast/HI_NAIP_2021_9668/m_2215954_se_04_060_20220128.tif\n",
              "2  https://coastalimagery.blob.core.windows.net/digitalcoast/HI_NAIP_2021_9668/m_2215954_sw_04_060_20220321.tif\n",
              "3  https://coastalimagery.blob.core.windows.net/digitalcoast/HI_NAIP_2021_9668/m_2115831_ne_04_060_20220211.tif\n",
              "4  https://coastalimagery.blob.core.windows.net/digitalcoast/HI_NAIP_2021_9668/m_2115831_se_04_060_20220211.tif\n",
              "5  https://coastalimagery.blob.core.windows.net/digitalcoast/HI_NAIP_2021_9668/m_2115832_nw_04_060_20220211.tif\n",
              "6  https://coastalimagery.blob.core.windows.net/digitalcoast/HI_NAIP_2021_9668/m_2115832_sw_04_060_20220211.tif\n",
              "7  https://coastalimagery.blob.core.windows.net/digitalcoast/HI_NAIP_2021_9668/m_2215952_ne_04_060_20220128.tif\n",
              "8  https://coastalimagery.blob.core.windows.net/digitalcoast/HI_NAIP_2021_9668/m_2215952_se_04_060_20220128.tif\n",
              "9  https://coastalimagery.blob.core.windows.net/digitalcoast/HI_NAIP_2021_9668/m_2215952_se_04_060_20220321.tif\n",
              "10 https://coastalimagery.blob.core.windows.net/digitalcoast/HI_NAIP_2021_9668/m_2215953_nw_04_060_20220321.tif\n",
              "11 https://coastalimagery.blob.core.windows.net/digitalcoast/HI_NAIP_2021_9668/m_2215953_sw_04_060_20220321.tif\n",
              "12 https://coastalimagery.blob.core.windows.net/digitalcoast/HI_NAIP_2021_9668/m_2115905_ne_04_060_20220321.tif\n",
              "13 https://coastalimagery.blob.core.windows.net/digitalcoast/HI_NAIP_2021_9668/m_2115905_se_04_060_20220211.tif\n",
              "14 https://coastalimagery.blob.core.windows.net/digitalcoast/HI_NAIP_2021_9668/m_2115905_se_04_060_20220212.tif\n",
              "15 https://coastalimagery.blob.core.windows.net/digitalcoast/HI_NAIP_2021_9668/m_2115906_nw_04_060_20220321.tif\n",
              "16 https://coastalimagery.blob.core.windows.net/digitalcoast/HI_NAIP_2021_9668/m_2115906_sw_04_060_20220211.tif\n",
              "17 https://coastalimagery.blob.core.windows.net/digitalcoast/HI_NAIP_2021_9668/m_2115717_nw_04_060_20221217.tif\n",
              "18 https://coastalimagery.blob.core.windows.net/digitalcoast/HI_NAIP_2021_9668/m_2115717_sw_04_060_20221231.tif\n",
              "19 https://coastalimagery.blob.core.windows.net/digitalcoast/HI_NAIP_2021_9668/m_2115824_ne_04_060_20221217.tif\n",
              "20 https://coastalimagery.blob.core.windows.net/digitalcoast/HI_NAIP_2021_9668/m_2115824_se_04_060_20221231.tif\n",
              "21 https://coastalimagery.blob.core.windows.net/digitalcoast/HI_NAIP_2021_9668/m_2115657_ne_04_060_20220109.tif\n",
              "22 https://coastalimagery.blob.core.windows.net/digitalcoast/HI_NAIP_2021_9668/m_2115657_nw_04_060_20220109.tif\n",
              "23 https://coastalimagery.blob.core.windows.net/digitalcoast/HI_NAIP_2021_9668/m_2115657_se_04_060_20220109.tif\n",
              "24 https://coastalimagery.blob.core.windows.net/digitalcoast/HI_NAIP_2021_9668/m_2115657_sw_04_060_20220109.tif\n",
              "25 https://coastalimagery.blob.core.windows.net/digitalcoast/HI_NAIP_2021_9668/m_2115763_ne_04_060_20220109.tif\n",
              "26 https://coastalimagery.blob.core.windows.net/digitalcoast/HI_NAIP_2021_9668/m_2115764_ne_04_060_20220109.tif\n",
              "27 https://coastalimagery.blob.core.windows.net/digitalcoast/HI_NAIP_2021_9668/m_2115764_nw_04_060_20220109.tif\n",
              "28 https://coastalimagery.blob.core.windows.net/digitalcoast/HI_NAIP_2021_9668/m_2115657_ne_04_060_20220109.tif\n",
              "29 https://coastalimagery.blob.core.windows.net/digitalcoast/HI_NAIP_2021_9668/m_2115657_se_04_060_20220109.tif\n",
              "30 https://coastalimagery.blob.core.windows.net/digitalcoast/HI_NAIP_2021_9668/m_2115658_nw_04_060_20220109.tif\n",
              "31 https://coastalimagery.blob.core.windows.net/digitalcoast/HI_NAIP_2021_9668/m_2115658_sw_04_060_20220109.tif\n",
              "32 https://coastalimagery.blob.core.windows.net/digitalcoast/HI_NAIP_2021_9668/m_2015605_sw_04_060_20221214.tif\n",
              "33 https://coastalimagery.blob.core.windows.net/digitalcoast/HI_NAIP_2021_9668/m_2015605_sw_04_060_20220327.tif\n",
              "34 https://coastalimagery.blob.core.windows.net/digitalcoast/HI_NAIP_2021_9668/m_2115734_se_04_060_20221215.tif\n",
              "35 https://coastalimagery.blob.core.windows.net/digitalcoast/HI_NAIP_2021_9668/m_2115735_sw_04_060_20221215.tif\n",
              "36 https://coastalimagery.blob.core.windows.net/digitalcoast/HI_NAIP_2021_9668/m_2115742_ne_04_060_20221215.tif\n",
              "37 https://coastalimagery.blob.core.windows.net/digitalcoast/HI_NAIP_2021_9668/m_2115743_nw_04_060_20221215.tif\n",
              "38 https://coastalimagery.blob.core.windows.net/digitalcoast/HI_NAIP_2021_9668/m_2015612_se_04_060_20220108.tif\n",
              "39 https://coastalimagery.blob.core.windows.net/digitalcoast/HI_NAIP_2021_9668/m_2015613_sw_04_060_20220108.tif\n",
              "40 https://coastalimagery.blob.core.windows.net/digitalcoast/HI_NAIP_2021_9668/m_2215952_ne_04_060_20220128.tif\n",
              "41 https://coastalimagery.blob.core.windows.net/digitalcoast/HI_NAIP_2021_9668/m_2215952_se_04_060_20220128.tif\n",
              "42 https://coastalimagery.blob.core.windows.net/digitalcoast/HI_NAIP_2021_9668/m_2215952_se_04_060_20220321.tif\n",
              "43 https://coastalimagery.blob.core.windows.net/digitalcoast/HI_NAIP_2021_9668/m_2015604_se_04_060_20220108.tif\n",
              "44 https://coastalimagery.blob.core.windows.net/digitalcoast/HI_NAIP_2021_9668/m_2015604_se_04_060_20221214.tif\n",
              "45 https://coastalimagery.blob.core.windows.net/digitalcoast/HI_NAIP_2021_9668/m_2015605_sw_04_060_20221214.tif\n",
              "46 https://coastalimagery.blob.core.windows.net/digitalcoast/HI_NAIP_2021_9668/m_2015605_sw_04_060_20220327.tif\n",
              "47 https://coastalimagery.blob.core.windows.net/digitalcoast/HI_NAIP_2021_9668/m_2115733_se_04_060_20221215.tif\n",
              "48 https://coastalimagery.blob.core.windows.net/digitalcoast/HI_NAIP_2021_9668/m_2115733_sw_04_060_20221215.tif\n",
              "49 https://coastalimagery.blob.core.windows.net/digitalcoast/HI_NAIP_2021_9668/m_2115741_ne_04_060_20221215.tif\n",
              "50 https://coastalimagery.blob.core.windows.net/digitalcoast/HI_NAIP_2021_9668/m_2115741_nw_04_060_20221215.tif\n",
              "51 https://coastalimagery.blob.core.windows.net/digitalcoast/HI_NAIP_2021_9668/m_2115840_se_04_060_20221215.tif\n",
              "52 https://coastalimagery.blob.core.windows.net/digitalcoast/HI_NAIP_2021_9668/m_2115848_ne_04_060_20221215.tif\n",
              "53 https://coastalimagery.blob.core.windows.net/digitalcoast/HI_NAIP_2021_9668/m_2015604_ne_04_060_20220108.tif\n",
              "54 https://coastalimagery.blob.core.windows.net/digitalcoast/HI_NAIP_2021_9668/m_2015604_se_04_060_20220108.tif\n",
              "55 https://coastalimagery.blob.core.windows.net/digitalcoast/HI_NAIP_2021_9668/m_2015604_se_04_060_20221214.tif\n",
              "56 https://coastalimagery.blob.core.windows.net/digitalcoast/HI_NAIP_2021_9668/m_2215962_ne_04_060_20220321.tif\n",
              "57 https://coastalimagery.blob.core.windows.net/digitalcoast/HI_NAIP_2021_9668/m_2215962_nw_04_060_20220321.tif\n",
              "58 https://coastalimagery.blob.core.windows.net/digitalcoast/HI_NAIP_2021_9668/m_2215962_se_04_060_20220321.tif\n",
              "59 https://coastalimagery.blob.core.windows.net/digitalcoast/HI_NAIP_2021_9668/m_2215962_sw_04_060_20220321.tif\n",
              "   missionid id island name           lumahai layer         \n",
              "1  9668       1 NA     NA             NA      anahola       \n",
              "2  9668       1 NA     NA             NA      anahola       \n",
              "3  9668       1 NA     NA             NA      haleiwa       \n",
              "4  9668       1 NA     NA             NA      haleiwa       \n",
              "5  9668       1 NA     NA             NA      haleiwa       \n",
              "6  9668       1 NA     NA             NA      haleiwa       \n",
              "7  9668       1 NA     NA             NA      hanalei       \n",
              "8  9668       1 NA     NA             NA      hanalei       \n",
              "9  9668       1 NA     NA             NA      hanalei       \n",
              "10 9668       1 NA     NA             NA      hanalei       \n",
              "11 9668       1 NA     NA             NA      hanalei       \n",
              "12 9668       1 NA     NA             NA      huleia        \n",
              "13 9668       1 NA     NA             NA      huleia        \n",
              "14 9668       1 NA     NA             NA      huleia        \n",
              "15 9668       1 NA     NA             NA      huleia        \n",
              "16 9668       1 NA     NA             NA      huleia        \n",
              "17 9668       1 NA     NA             NA      kahuku        \n",
              "18 9668       1 NA     NA             NA      kahuku        \n",
              "19 9668       1 NA     NA             NA      kahuku        \n",
              "20 9668       1 NA     NA             NA      kahuku        \n",
              "21 9668       1 NA     NA             NA      kakahaia      \n",
              "22 9668       1 NA     NA             NA      kakahaia      \n",
              "23 9668       1 NA     NA             NA      kakahaia      \n",
              "24 9668       1 NA     NA             NA      kakahaia      \n",
              "25 9668       1 NA     NA             NA      kaluaapuhi    \n",
              "26 9668       1 NA     NA             NA      kaluaapuhi    \n",
              "27 9668       1 NA     NA             NA      kaluaapuhi    \n",
              "28 9668       1 NA     NA             NA      kamalo        \n",
              "29 9668       1 NA     NA             NA      kamalo        \n",
              "30 9668       1 NA     NA             NA      kamalo        \n",
              "31 9668       1 NA     NA             NA      kamalo        \n",
              "32 9668       1 NA     NA             NA      kanaha        \n",
              "33 9668       1 NA     NA             NA      kanaha        \n",
              "34 9668       1 oahu   kawainui marsh NA      kawainui_marsh\n",
              "35 9668       1 oahu   kawainui marsh NA      kawainui_marsh\n",
              "36 9668       1 oahu   kawainui marsh NA      kawainui_marsh\n",
              "37 9668       1 oahu   kawainui marsh NA      kawainui_marsh\n",
              "38 9668       1 NA     NA             NA      kealia        \n",
              "39 9668       1 NA     NA             NA      kealia        \n",
              "40 9668      NA NA     NA              1      lumahai       \n",
              "41 9668      NA NA     NA              1      lumahai       \n",
              "42 9668      NA NA     NA              1      lumahai       \n",
              "43 9668       1 NA     NA             NA      paukukalo     \n",
              "44 9668       1 NA     NA             NA      paukukalo     \n",
              "45 9668       1 NA     NA             NA      paukukalo     \n",
              "46 9668       1 NA     NA             NA      paukukalo     \n",
              "47 9668       1 NA     NA             NA      pearl_harbor  \n",
              "48 9668       1 NA     NA             NA      pearl_harbor  \n",
              "49 9668       1 NA     NA             NA      pearl_harbor  \n",
              "50 9668       1 NA     NA             NA      pearl_harbor  \n",
              "51 9668       1 NA     NA             NA      pearl_harbor  \n",
              "52 9668       1 NA     NA             NA      pearl_harbor  \n",
              "53 9668       1 NA     NA             NA      waihee        \n",
              "54 9668       1 NA     NA             NA      waihee        \n",
              "55 9668       1 NA     NA             NA      waihee        \n",
              "56 9668       1 NA     NA             NA      wailua_opaekaa\n",
              "57 9668       1 NA     NA             NA      wailua_opaekaa\n",
              "58 9668       1 NA     NA             NA      wailua_opaekaa\n",
              "59 9668       1 NA     NA             NA      wailua_opaekaa\n",
              "   path                                           \n",
              "1  E:/Data/AOI_Shapefiles/kauai/anahola.shp       \n",
              "2  E:/Data/AOI_Shapefiles/kauai/anahola.shp       \n",
              "3  E:/Data/AOI_Shapefiles/oahu/haleiwa.shp        \n",
              "4  E:/Data/AOI_Shapefiles/oahu/haleiwa.shp        \n",
              "5  E:/Data/AOI_Shapefiles/oahu/haleiwa.shp        \n",
              "6  E:/Data/AOI_Shapefiles/oahu/haleiwa.shp        \n",
              "7  E:/Data/AOI_Shapefiles/kauai/hanalei.shp       \n",
              "8  E:/Data/AOI_Shapefiles/kauai/hanalei.shp       \n",
              "9  E:/Data/AOI_Shapefiles/kauai/hanalei.shp       \n",
              "10 E:/Data/AOI_Shapefiles/kauai/hanalei.shp       \n",
              "11 E:/Data/AOI_Shapefiles/kauai/hanalei.shp       \n",
              "12 E:/Data/AOI_Shapefiles/kauai/huleia.shp        \n",
              "13 E:/Data/AOI_Shapefiles/kauai/huleia.shp        \n",
              "14 E:/Data/AOI_Shapefiles/kauai/huleia.shp        \n",
              "15 E:/Data/AOI_Shapefiles/kauai/huleia.shp        \n",
              "16 E:/Data/AOI_Shapefiles/kauai/huleia.shp        \n",
              "17 E:/Data/AOI_Shapefiles/oahu/kahuku.shp         \n",
              "18 E:/Data/AOI_Shapefiles/oahu/kahuku.shp         \n",
              "19 E:/Data/AOI_Shapefiles/oahu/kahuku.shp         \n",
              "20 E:/Data/AOI_Shapefiles/oahu/kahuku.shp         \n",
              "21 E:/Data/AOI_Shapefiles/molokai/kakahaia.shp    \n",
              "22 E:/Data/AOI_Shapefiles/molokai/kakahaia.shp    \n",
              "23 E:/Data/AOI_Shapefiles/molokai/kakahaia.shp    \n",
              "24 E:/Data/AOI_Shapefiles/molokai/kakahaia.shp    \n",
              "25 E:/Data/AOI_Shapefiles/molokai/kaluaapuhi.shp  \n",
              "26 E:/Data/AOI_Shapefiles/molokai/kaluaapuhi.shp  \n",
              "27 E:/Data/AOI_Shapefiles/molokai/kaluaapuhi.shp  \n",
              "28 E:/Data/AOI_Shapefiles/molokai/kamalo.shp      \n",
              "29 E:/Data/AOI_Shapefiles/molokai/kamalo.shp      \n",
              "30 E:/Data/AOI_Shapefiles/molokai/kamalo.shp      \n",
              "31 E:/Data/AOI_Shapefiles/molokai/kamalo.shp      \n",
              "32 E:/Data/AOI_Shapefiles/maui/kanaha.shp         \n",
              "33 E:/Data/AOI_Shapefiles/maui/kanaha.shp         \n",
              "34 E:/Data/AOI_Shapefiles/oahu/kawainui_marsh.shp \n",
              "35 E:/Data/AOI_Shapefiles/oahu/kawainui_marsh.shp \n",
              "36 E:/Data/AOI_Shapefiles/oahu/kawainui_marsh.shp \n",
              "37 E:/Data/AOI_Shapefiles/oahu/kawainui_marsh.shp \n",
              "38 E:/Data/AOI_Shapefiles/maui/kealia.shp         \n",
              "39 E:/Data/AOI_Shapefiles/maui/kealia.shp         \n",
              "40 E:/Data/AOI_Shapefiles/kauai/lumahai.shp       \n",
              "41 E:/Data/AOI_Shapefiles/kauai/lumahai.shp       \n",
              "42 E:/Data/AOI_Shapefiles/kauai/lumahai.shp       \n",
              "43 E:/Data/AOI_Shapefiles/maui/paukukalo.shp      \n",
              "44 E:/Data/AOI_Shapefiles/maui/paukukalo.shp      \n",
              "45 E:/Data/AOI_Shapefiles/maui/paukukalo.shp      \n",
              "46 E:/Data/AOI_Shapefiles/maui/paukukalo.shp      \n",
              "47 E:/Data/AOI_Shapefiles/oahu/pearl_harbor.shp   \n",
              "48 E:/Data/AOI_Shapefiles/oahu/pearl_harbor.shp   \n",
              "49 E:/Data/AOI_Shapefiles/oahu/pearl_harbor.shp   \n",
              "50 E:/Data/AOI_Shapefiles/oahu/pearl_harbor.shp   \n",
              "51 E:/Data/AOI_Shapefiles/oahu/pearl_harbor.shp   \n",
              "52 E:/Data/AOI_Shapefiles/oahu/pearl_harbor.shp   \n",
              "53 E:/Data/AOI_Shapefiles/maui/waihee.shp         \n",
              "54 E:/Data/AOI_Shapefiles/maui/waihee.shp         \n",
              "55 E:/Data/AOI_Shapefiles/maui/waihee.shp         \n",
              "56 E:/Data/AOI_Shapefiles/kauai/wailua_opaekaa.shp\n",
              "57 E:/Data/AOI_Shapefiles/kauai/wailua_opaekaa.shp\n",
              "58 E:/Data/AOI_Shapefiles/kauai/wailua_opaekaa.shp\n",
              "59 E:/Data/AOI_Shapefiles/kauai/wailua_opaekaa.shp\n",
              "   geometry                      \n",
              "1  POLYGON ((-159.2891 22.1324...\n",
              "2  POLYGON ((-159.3105 22.1323...\n",
              "3  POLYGON ((-158.1268 21.5603...\n",
              "4  POLYGON ((-158.1226 21.5526...\n",
              "5  POLYGON ((-158.1268 21.5603...\n",
              "6  POLYGON ((-158.0723 21.5523...\n",
              "7  POLYGON ((-159.5248 22.1857...\n",
              "8  POLYGON ((-159.4981 22.1696...\n",
              "9  POLYGON ((-159.4981 22.1696...\n",
              "10 POLYGON ((-159.502 22.22064...\n",
              "11 POLYGON ((-159.4567 22.1697...\n",
              "12 POLYGON ((-159.3731 21.9370...\n",
              "13 POLYGON ((-159.373 21.93709...\n",
              "14 POLYGON ((-159.373 21.93709...\n",
              "15 POLYGON ((-159.3534 21.9371...\n",
              "16 POLYGON ((-159.3534 21.9371...\n",
              "17 POLYGON ((-158.0024 21.7171...\n",
              "18 POLYGON ((-157.943 21.67555...\n",
              "19 POLYGON ((-158.0076 21.6853...\n",
              "20 POLYGON ((-157.9976 21.6758...\n",
              "21 POLYGON ((-156.9403 21.0688...\n",
              "22 POLYGON ((-156.953 21.0599,...\n",
              "23 POLYGON ((-156.8947 21.0517...\n",
              "24 POLYGON ((-156.9347 21.0522...\n",
              "25 POLYGON ((-157.1223 21.0882...\n",
              "26 POLYGON ((-157.0364 21.0872...\n",
              "27 POLYGON ((-157.0597 21.0875...\n",
              "28 POLYGON ((-156.8944 21.0598...\n",
              "29 POLYGON ((-156.8722 21.0447...\n",
              "30 POLYGON ((-156.8778 21.0602...\n",
              "31 POLYGON ((-156.8554 21.0445...\n",
              "32 POLYGON ((-156.4413 20.8839...\n",
              "33 POLYGON ((-156.4413 20.8839...\n",
              "34 POLYGON ((-157.7858 21.3727...\n",
              "35 POLYGON ((-157.7525 21.4153...\n",
              "36 POLYGON ((-157.7475 21.3532...\n",
              "37 POLYGON ((-157.7287 21.3531...\n",
              "38 POLYGON ((-156.497 20.78083...\n",
              "39 POLYGON ((-156.4571 20.7802...\n",
              "40 POLYGON ((-159.5428 22.1857...\n",
              "41 POLYGON ((-159.5271 22.1761...\n",
              "42 POLYGON ((-159.5271 22.1761...\n",
              "43 POLYGON ((-156.497 20.89221...\n",
              "44 POLYGON ((-156.497 20.89221...\n",
              "45 POLYGON ((-156.4825 20.892,...\n",
              "46 POLYGON ((-156.4825 20.892,...\n",
              "47 POLYGON ((-157.9399 21.4025...\n",
              "48 POLYGON ((-158.0024 21.4028...\n",
              "49 POLYGON ((-157.9263 21.3345...\n",
              "50 POLYGON ((-157.9351 21.3346...\n",
              "51 POLYGON ((-158.0395 21.3728...\n",
              "52 POLYGON ((-157.9976 21.3350...\n",
              "53 POLYGON ((-156.5204 20.9347...\n",
              "54 POLYGON ((-156.5053 20.9318...\n",
              "55 POLYGON ((-156.5053 20.9318...\n",
              "56 POLYGON ((-159.3144 22.0857...\n",
              "57 POLYGON ((-159.3477 22.0606...\n",
              "58 POLYGON ((-159.3131 22.0579...\n",
              "59 POLYGON ((-159.3131 22.0579..."
            ]
          },
          "metadata": {}
        }
      ]
    },
    {
      "cell_type": "code",
      "source": [
        "wetlands_gpkg$layer"
      ],
      "metadata": {
        "id": "_AjIGmGguiel",
        "outputId": "0db163eb-6d45-45b0-9e13-5dc2a2292965",
        "colab": {
          "base_uri": "https://localhost:8080/",
          "height": 34
        }
      },
      "execution_count": 17,
      "outputs": [
        {
          "output_type": "display_data",
          "data": {
            "text/html": [
              "<style>\n",
              ".list-inline {list-style: none; margin:0; padding: 0}\n",
              ".list-inline>li {display: inline-block}\n",
              ".list-inline>li:not(:last-child)::after {content: \"\\00b7\"; padding: 0 .5ex}\n",
              "</style>\n",
              "<ol class=list-inline><li>'anahola'</li><li>'haleiwa'</li><li>'hanalei'</li><li>'huleia'</li><li>'kahuku'</li><li>'kakahaia'</li><li>'kaluaapuhi'</li><li>'kamalo'</li><li>'kanaha'</li><li>'kawainui_marsh'</li><li>'kealia'</li><li>'lumahai'</li><li>'paukukalo'</li><li>'pearl_harbor'</li><li>'waihee'</li><li>'wailua_opaekaa'</li></ol>\n"
            ],
            "text/markdown": "1. 'anahola'\n2. 'haleiwa'\n3. 'hanalei'\n4. 'huleia'\n5. 'kahuku'\n6. 'kakahaia'\n7. 'kaluaapuhi'\n8. 'kamalo'\n9. 'kanaha'\n10. 'kawainui_marsh'\n11. 'kealia'\n12. 'lumahai'\n13. 'paukukalo'\n14. 'pearl_harbor'\n15. 'waihee'\n16. 'wailua_opaekaa'\n\n\n",
            "text/latex": "\\begin{enumerate*}\n\\item 'anahola'\n\\item 'haleiwa'\n\\item 'hanalei'\n\\item 'huleia'\n\\item 'kahuku'\n\\item 'kakahaia'\n\\item 'kaluaapuhi'\n\\item 'kamalo'\n\\item 'kanaha'\n\\item 'kawainui\\_marsh'\n\\item 'kealia'\n\\item 'lumahai'\n\\item 'paukukalo'\n\\item 'pearl\\_harbor'\n\\item 'waihee'\n\\item 'wailua\\_opaekaa'\n\\end{enumerate*}\n",
            "text/plain": [
              " [1] \"anahola\"        \"haleiwa\"        \"hanalei\"        \"huleia\"        \n",
              " [5] \"kahuku\"         \"kakahaia\"       \"kaluaapuhi\"     \"kamalo\"        \n",
              " [9] \"kanaha\"         \"kawainui_marsh\" \"kealia\"         \"lumahai\"       \n",
              "[13] \"paukukalo\"      \"pearl_harbor\"   \"waihee\"         \"wailua_opaekaa\""
            ]
          },
          "metadata": {}
        }
      ]
    },
    {
      "cell_type": "code",
      "source": [
        "dir.create('HI_DEM')"
      ],
      "metadata": {
        "id": "hCGHjZ0u8sUW"
      },
      "execution_count": 18,
      "outputs": []
    },
    {
      "cell_type": "code",
      "source": [
        "#folder link to id\n",
        "# https://drive.google.com/drive/folders/15nbWHXZdDOZbt9gUuB9BUPeCXc2SoivB?usp=drive_link\n",
        "jp_folder = \"15nbWHXZdDOZbt9gUuB9BUPeCXc2SoivB\"\n",
        "folder_id = drive_get(as_id(jp_folder))\n",
        "print(folder_id)\n",
        "#find files in folder\n",
        "files = drive_ls(folder_id)\n",
        "\n",
        "#loop dirs and download files inside them\n",
        "for (i in seq_along(files$name)) {\n",
        "\n",
        "  i_dir <- files[i, ]\n",
        "    try({\n",
        "      drive_download(\n",
        "        as_id(i_dir$id[1]),\n",
        "        path = paste0('/content/HI_DEM/', i_dir$name[1])\n",
        "      )\n",
        "    })\n",
        "  }\n"
      ],
      "metadata": {
        "colab": {
          "base_uri": "https://localhost:8080/"
        },
        "id": "ey6PZID38sJJ",
        "outputId": "48734d77-268d-4f8b-f1a1-c3f71a51276f"
      },
      "execution_count": 19,
      "outputs": [
        {
          "output_type": "stream",
          "name": "stdout",
          "text": [
            "\u001b[90m# A dribble: 1 × 3\u001b[39m\n",
            "  name  id                                drive_resource   \n",
            "  \u001b[3m\u001b[90m<chr>\u001b[39m\u001b[23m \u001b[3m\u001b[90m<drv_id>\u001b[39m\u001b[23m                          \u001b[3m\u001b[90m<list>\u001b[39m\u001b[23m           \n",
            "\u001b[90m1\u001b[39m dem   15nbWHXZdDOZbt9gUuB9BUPeCXc2SoivB \u001b[90m<named list [34]>\u001b[39m\n"
          ]
        },
        {
          "output_type": "stream",
          "name": "stderr",
          "text": [
            "File downloaded:\n",
            "\n",
            "• \u001b[36mmaui_10m.tif\u001b[39m \u001b[90m<id: 10dHshukbiMC3z7h4xWxeOdY7x6dtkOf2>\u001b[39m\n",
            "\n",
            "Saved locally as:\n",
            "\n",
            "• \u001b[34m/content/HI_DEM/maui_10m.tif\u001b[39m\n",
            "\n",
            "File downloaded:\n",
            "\n",
            "• \u001b[36mkauai_10m.tif\u001b[39m \u001b[90m<id: 17G_F8uiM6c-0qe24JPCGUZWMAp2uoIro>\u001b[39m\n",
            "\n",
            "Saved locally as:\n",
            "\n",
            "• \u001b[34m/content/HI_DEM/kauai_10m.tif\u001b[39m\n",
            "\n",
            "File downloaded:\n",
            "\n",
            "• \u001b[36moahu_10m.tif\u001b[39m \u001b[90m<id: 19_F1B-d5trv8iwBDBNKcLCWa19vnFvGI>\u001b[39m\n",
            "\n",
            "Saved locally as:\n",
            "\n",
            "• \u001b[34m/content/HI_DEM/oahu_10m.tif\u001b[39m\n",
            "\n",
            "File downloaded:\n",
            "\n",
            "• \u001b[36mmolokai_10m.tif\u001b[39m \u001b[90m<id: 14WqA4pNafauzjr2tlJUUJjYROsaH7uEX>\u001b[39m\n",
            "\n",
            "Saved locally as:\n",
            "\n",
            "• \u001b[34m/content/HI_DEM/molokai_10m.tif\u001b[39m\n",
            "\n"
          ]
        }
      ]
    },
    {
      "cell_type": "code",
      "source": [
        "# spatial polygon of each dem making the footprints of each dem.\n",
        "dem_gpkg <-\n",
        "\"/content/HI_DEM\" %>%\n",
        "  list.files(pattern='*.tif', full.names = T) %>%\n",
        "  # lapply(stack) %>%\n",
        "  # lapply(extent) %>%\n",
        "  lapply(function(x){\n",
        "    x_tif <- x %>% stack\n",
        "    x_gpkg <- x_tif %>% extent %>% as('SpatialPolygons') %>% st_as_sf(crs = st_crs(x_tif))\n",
        "    x_gpkg$path <- x\n",
        "    st_crs(x_gpkg) <- st_crs(x_tif)\n",
        "    x_gpkg %>% data.table %>% return\n",
        "    }) %>%\n",
        "  rbindlist()"
      ],
      "metadata": {
        "id": "FxWw8kckBINL"
      },
      "execution_count": 20,
      "outputs": []
    },
    {
      "cell_type": "code",
      "source": [
        "dir.create('HI_CCAP')"
      ],
      "metadata": {
        "id": "OIjZdcQMC0Zs"
      },
      "execution_count": 21,
      "outputs": []
    },
    {
      "cell_type": "code",
      "source": [
        "#folder link to id\n",
        "# https://drive.google.com/drive/folders/14fLGpMg2n9o6c8YmH4NSHc_ZQOC5MAuv?usp=drive_link\n",
        "jp_folder = \"14fLGpMg2n9o6c8YmH4NSHc_ZQOC5MAuv\"\n",
        "folder_id = drive_get(as_id(jp_folder))\n",
        "print(folder_id)\n",
        "#find files in folder\n",
        "files = drive_ls(folder_id)\n",
        "\n",
        "#loop dirs and download files inside them\n",
        "for (i in seq_along(files$name)) {\n",
        "\n",
        "  i_dir <- files[i, ]\n",
        "    try({\n",
        "      drive_download(\n",
        "        as_id(i_dir$id[1]),\n",
        "        path = paste0('/content/HI_CCAP/', i_dir$name[1])\n",
        "      )\n",
        "    })\n",
        "  }\n"
      ],
      "metadata": {
        "id": "B1dM5rBhC3Su",
        "outputId": "4c09f535-256b-4cf4-86fb-026698842cd1",
        "colab": {
          "base_uri": "https://localhost:8080/"
        }
      },
      "execution_count": 22,
      "outputs": [
        {
          "output_type": "stream",
          "name": "stdout",
          "text": [
            "\u001b[90m# A dribble: 1 × 3\u001b[39m\n",
            "  name  id                                drive_resource   \n",
            "  \u001b[3m\u001b[90m<chr>\u001b[39m\u001b[23m \u001b[3m\u001b[90m<drv_id>\u001b[39m\u001b[23m                          \u001b[3m\u001b[90m<list>\u001b[39m\u001b[23m           \n",
            "\u001b[90m1\u001b[39m ccap  14fLGpMg2n9o6c8YmH4NSHc_ZQOC5MAuv \u001b[90m<named list [34]>\u001b[39m\n"
          ]
        },
        {
          "output_type": "stream",
          "name": "stderr",
          "text": [
            "File downloaded:\n",
            "\n",
            "• \u001b[36mkauai_ccap_2010.tif\u001b[39m \u001b[90m<id: 1-9SuvnH-Ck4CMaAXqDQTbbLGKtfMUnxn>\u001b[39m\n",
            "\n",
            "Saved locally as:\n",
            "\n",
            "• \u001b[34m/content/HI_CCAP/kauai_ccap_2010.tif\u001b[39m\n",
            "\n",
            "File downloaded:\n",
            "\n",
            "• \u001b[36moahu_ccap_2010.tif\u001b[39m \u001b[90m<id: 1-5Q_qbss1zUnW1wcQlomRHehPemzy7HG>\u001b[39m\n",
            "\n",
            "Saved locally as:\n",
            "\n",
            "• \u001b[34m/content/HI_CCAP/oahu_ccap_2010.tif\u001b[39m\n",
            "\n",
            "File downloaded:\n",
            "\n",
            "• \u001b[36mmolokai_ccap_2010.tif\u001b[39m \u001b[90m<id: 1-2M0JNgYiVMINDoW2mAiWLX3H9kYz_Z->\u001b[39m\n",
            "\n",
            "Saved locally as:\n",
            "\n",
            "• \u001b[34m/content/HI_CCAP/molokai_ccap_2010.tif\u001b[39m\n",
            "\n",
            "File downloaded:\n",
            "\n",
            "• \u001b[36mmaui_ccap_2010.tif\u001b[39m \u001b[90m<id: 1--1nN7Gj_qx6iwPG8Jq5gZcGRA0uaOay>\u001b[39m\n",
            "\n",
            "Saved locally as:\n",
            "\n",
            "• \u001b[34m/content/HI_CCAP/maui_ccap_2010.tif\u001b[39m\n",
            "\n"
          ]
        }
      ]
    },
    {
      "cell_type": "code",
      "source": [
        "ccap_gpkg <-\n",
        "\"/content/HI_CCAP\" %>%\n",
        "  list.files(pattern='*.tif', full.names = T) %>%\n",
        "  # lapply(stack) %>%\n",
        "  # lapply(extent) %>%\n",
        "  lapply(function(x){\n",
        "    x_tif <- x %>% stack\n",
        "    x_gpkg <- x_tif %>% extent %>% as('SpatialPolygons') %>% st_as_sf(crs = st_crs(x_tif))\n",
        "    x_gpkg$path <- x\n",
        "    st_crs(x_gpkg) <- st_crs(x_tif)\n",
        "    x_gpkg %>% data.table %>% return\n",
        "    }) %>%\n",
        "  rbindlist()"
      ],
      "metadata": {
        "id": "7_pVzsnuDAyW"
      },
      "execution_count": 23,
      "outputs": []
    },
    {
      "cell_type": "code",
      "source": [
        "# dem_gpkg %>% st_as_sf %>% st_crs"
      ],
      "metadata": {
        "id": "CuAz7Mw7DPfP"
      },
      "execution_count": null,
      "outputs": []
    },
    {
      "cell_type": "code",
      "source": [
        "dir.create('HI_2021_NAIP')"
      ],
      "metadata": {
        "id": "IFiuE9CGw72R"
      },
      "execution_count": 24,
      "outputs": []
    },
    {
      "cell_type": "code",
      "source": [
        "# (runif(1)*10) %>% round"
      ],
      "metadata": {
        "id": "LBFalJAfMVIx",
        "outputId": "2b22b6fd-eab6-49f5-a214-7829da1cadd2",
        "colab": {
          "base_uri": "https://localhost:8080/",
          "height": 34
        }
      },
      "execution_count": 28,
      "outputs": [
        {
          "output_type": "display_data",
          "data": {
            "text/html": [
              "8"
            ],
            "text/markdown": "8",
            "text/latex": "8",
            "text/plain": [
              "[1] 8"
            ]
          },
          "metadata": {}
        }
      ]
    },
    {
      "cell_type": "code",
      "source": [
        "# file.exists('/content/HI_2021_NAIP/m_2015604_se_04_060_20220108.tif')"
      ],
      "metadata": {
        "id": "OdUOssc9Olxx",
        "outputId": "153d5ec6-5fbb-4f20-97ef-a554cd395a00",
        "colab": {
          "base_uri": "https://localhost:8080/",
          "height": 34
        }
      },
      "execution_count": 25,
      "outputs": [
        {
          "output_type": "display_data",
          "data": {
            "text/html": [
              "FALSE"
            ],
            "text/markdown": "FALSE",
            "text/latex": "FALSE",
            "text/plain": [
              "[1] FALSE"
            ]
          },
          "metadata": {}
        }
      ]
    },
    {
      "cell_type": "code",
      "source": [
        "download_index_gpkg[,] %>% data.table()"
      ],
      "metadata": {
        "id": "D7p1pVI3ROop"
      },
      "execution_count": null,
      "outputs": []
    },
    {
      "cell_type": "code",
      "source": [
        "cl <- makeCluster(8)\n",
        "\n",
        "\n",
        "1:nrow(download_index_gpkg) %>%\n",
        "  parLapply(cl,.,function(x,download_index_gpkg){\n",
        "  x_dt <- download_index_gpkg[x,]\n",
        "  download.file(x_dt$url, paste0('/content/HI_2021_NAIP/',x_dt$location,sep='') )\n",
        "  },download_index_gpkg)\n",
        "\n",
        "\n",
        "stopCluster(cl)"
      ],
      "metadata": {
        "id": "jIuGlA8mrmgI",
        "outputId": "16c116c4-9575-4d39-ff1e-6e6e0ecc445e",
        "colab": {
          "base_uri": "https://localhost:8080/",
          "height": 1000
        }
      },
      "execution_count": 33,
      "outputs": [
        {
          "output_type": "display_data",
          "data": {
            "text/html": [
              "<ol>\n",
              "\t<li>0</li>\n",
              "\t<li>0</li>\n",
              "\t<li>0</li>\n",
              "\t<li>0</li>\n",
              "\t<li>0</li>\n",
              "\t<li>0</li>\n",
              "\t<li>0</li>\n",
              "\t<li>0</li>\n",
              "\t<li>0</li>\n",
              "\t<li>0</li>\n",
              "\t<li>0</li>\n",
              "\t<li>0</li>\n",
              "\t<li>0</li>\n",
              "\t<li>0</li>\n",
              "\t<li>0</li>\n",
              "\t<li>0</li>\n",
              "\t<li>0</li>\n",
              "\t<li>0</li>\n",
              "\t<li>0</li>\n",
              "\t<li>0</li>\n",
              "\t<li>0</li>\n",
              "\t<li>0</li>\n",
              "\t<li>0</li>\n",
              "\t<li>0</li>\n",
              "\t<li>0</li>\n",
              "\t<li>0</li>\n",
              "\t<li>0</li>\n",
              "\t<li>0</li>\n",
              "\t<li>0</li>\n",
              "\t<li>0</li>\n",
              "\t<li>0</li>\n",
              "\t<li>0</li>\n",
              "\t<li>0</li>\n",
              "\t<li>0</li>\n",
              "\t<li>0</li>\n",
              "\t<li>0</li>\n",
              "\t<li>0</li>\n",
              "\t<li>0</li>\n",
              "\t<li>0</li>\n",
              "\t<li>0</li>\n",
              "\t<li>0</li>\n",
              "\t<li>0</li>\n",
              "\t<li>0</li>\n",
              "\t<li>0</li>\n",
              "\t<li>0</li>\n",
              "\t<li>0</li>\n",
              "\t<li>0</li>\n",
              "\t<li>0</li>\n",
              "\t<li>0</li>\n",
              "\t<li>0</li>\n",
              "\t<li>0</li>\n",
              "\t<li>0</li>\n",
              "\t<li>0</li>\n",
              "\t<li>0</li>\n",
              "\t<li>0</li>\n",
              "\t<li>0</li>\n",
              "\t<li>0</li>\n",
              "\t<li>0</li>\n",
              "\t<li>0</li>\n",
              "</ol>\n"
            ],
            "text/markdown": "1. 0\n2. 0\n3. 0\n4. 0\n5. 0\n6. 0\n7. 0\n8. 0\n9. 0\n10. 0\n11. 0\n12. 0\n13. 0\n14. 0\n15. 0\n16. 0\n17. 0\n18. 0\n19. 0\n20. 0\n21. 0\n22. 0\n23. 0\n24. 0\n25. 0\n26. 0\n27. 0\n28. 0\n29. 0\n30. 0\n31. 0\n32. 0\n33. 0\n34. 0\n35. 0\n36. 0\n37. 0\n38. 0\n39. 0\n40. 0\n41. 0\n42. 0\n43. 0\n44. 0\n45. 0\n46. 0\n47. 0\n48. 0\n49. 0\n50. 0\n51. 0\n52. 0\n53. 0\n54. 0\n55. 0\n56. 0\n57. 0\n58. 0\n59. 0\n\n\n",
            "text/latex": "\\begin{enumerate}\n\\item 0\n\\item 0\n\\item 0\n\\item 0\n\\item 0\n\\item 0\n\\item 0\n\\item 0\n\\item 0\n\\item 0\n\\item 0\n\\item 0\n\\item 0\n\\item 0\n\\item 0\n\\item 0\n\\item 0\n\\item 0\n\\item 0\n\\item 0\n\\item 0\n\\item 0\n\\item 0\n\\item 0\n\\item 0\n\\item 0\n\\item 0\n\\item 0\n\\item 0\n\\item 0\n\\item 0\n\\item 0\n\\item 0\n\\item 0\n\\item 0\n\\item 0\n\\item 0\n\\item 0\n\\item 0\n\\item 0\n\\item 0\n\\item 0\n\\item 0\n\\item 0\n\\item 0\n\\item 0\n\\item 0\n\\item 0\n\\item 0\n\\item 0\n\\item 0\n\\item 0\n\\item 0\n\\item 0\n\\item 0\n\\item 0\n\\item 0\n\\item 0\n\\item 0\n\\end{enumerate}\n",
            "text/plain": [
              "[[1]]\n",
              "[1] 0\n",
              "\n",
              "[[2]]\n",
              "[1] 0\n",
              "\n",
              "[[3]]\n",
              "[1] 0\n",
              "\n",
              "[[4]]\n",
              "[1] 0\n",
              "\n",
              "[[5]]\n",
              "[1] 0\n",
              "\n",
              "[[6]]\n",
              "[1] 0\n",
              "\n",
              "[[7]]\n",
              "[1] 0\n",
              "\n",
              "[[8]]\n",
              "[1] 0\n",
              "\n",
              "[[9]]\n",
              "[1] 0\n",
              "\n",
              "[[10]]\n",
              "[1] 0\n",
              "\n",
              "[[11]]\n",
              "[1] 0\n",
              "\n",
              "[[12]]\n",
              "[1] 0\n",
              "\n",
              "[[13]]\n",
              "[1] 0\n",
              "\n",
              "[[14]]\n",
              "[1] 0\n",
              "\n",
              "[[15]]\n",
              "[1] 0\n",
              "\n",
              "[[16]]\n",
              "[1] 0\n",
              "\n",
              "[[17]]\n",
              "[1] 0\n",
              "\n",
              "[[18]]\n",
              "[1] 0\n",
              "\n",
              "[[19]]\n",
              "[1] 0\n",
              "\n",
              "[[20]]\n",
              "[1] 0\n",
              "\n",
              "[[21]]\n",
              "[1] 0\n",
              "\n",
              "[[22]]\n",
              "[1] 0\n",
              "\n",
              "[[23]]\n",
              "[1] 0\n",
              "\n",
              "[[24]]\n",
              "[1] 0\n",
              "\n",
              "[[25]]\n",
              "[1] 0\n",
              "\n",
              "[[26]]\n",
              "[1] 0\n",
              "\n",
              "[[27]]\n",
              "[1] 0\n",
              "\n",
              "[[28]]\n",
              "[1] 0\n",
              "\n",
              "[[29]]\n",
              "[1] 0\n",
              "\n",
              "[[30]]\n",
              "[1] 0\n",
              "\n",
              "[[31]]\n",
              "[1] 0\n",
              "\n",
              "[[32]]\n",
              "[1] 0\n",
              "\n",
              "[[33]]\n",
              "[1] 0\n",
              "\n",
              "[[34]]\n",
              "[1] 0\n",
              "\n",
              "[[35]]\n",
              "[1] 0\n",
              "\n",
              "[[36]]\n",
              "[1] 0\n",
              "\n",
              "[[37]]\n",
              "[1] 0\n",
              "\n",
              "[[38]]\n",
              "[1] 0\n",
              "\n",
              "[[39]]\n",
              "[1] 0\n",
              "\n",
              "[[40]]\n",
              "[1] 0\n",
              "\n",
              "[[41]]\n",
              "[1] 0\n",
              "\n",
              "[[42]]\n",
              "[1] 0\n",
              "\n",
              "[[43]]\n",
              "[1] 0\n",
              "\n",
              "[[44]]\n",
              "[1] 0\n",
              "\n",
              "[[45]]\n",
              "[1] 0\n",
              "\n",
              "[[46]]\n",
              "[1] 0\n",
              "\n",
              "[[47]]\n",
              "[1] 0\n",
              "\n",
              "[[48]]\n",
              "[1] 0\n",
              "\n",
              "[[49]]\n",
              "[1] 0\n",
              "\n",
              "[[50]]\n",
              "[1] 0\n",
              "\n",
              "[[51]]\n",
              "[1] 0\n",
              "\n",
              "[[52]]\n",
              "[1] 0\n",
              "\n",
              "[[53]]\n",
              "[1] 0\n",
              "\n",
              "[[54]]\n",
              "[1] 0\n",
              "\n",
              "[[55]]\n",
              "[1] 0\n",
              "\n",
              "[[56]]\n",
              "[1] 0\n",
              "\n",
              "[[57]]\n",
              "[1] 0\n",
              "\n",
              "[[58]]\n",
              "[1] 0\n",
              "\n",
              "[[59]]\n",
              "[1] 0\n"
            ]
          },
          "metadata": {}
        }
      ]
    },
    {
      "cell_type": "code",
      "source": [
        "# cl <- makeCluster(8)\n",
        "# 1:nrow(download_index_gpkg) %>%\n",
        "#   # parLapply(cl,.,function(x,download_index_gpkg){\n",
        "#   lapply(function(x){\n",
        "#   library(magrittr)\n",
        "#   x_dt <- download_index_gpkg[x,]\n",
        "#   Sys.sleep((runif(1)*10) %>% round)\n",
        "\n",
        "#   if(!file.exists(paste0('/content/HI_2021_NAIP/',x_dt$location,sep=''))){\n",
        "#    tryCatch({\n",
        "#   download.file(\n",
        "#     paste0(\"https://coast.noaa.gov/htdata/raster7/imagery/HI_NAIP_2021_9668/\",x_dt$location),\n",
        "#     # x_dt$url,\n",
        "#      paste0('/content/HI_2021_NAIP/',x_dt$location,sep='') )\n",
        "#    },error={return( paste0('/content/HI_2021_NAIP/',x_dt$location,sep=''))})\n",
        "#   }\n",
        "#   # },download_index_gpkg)\n",
        "#   })\n",
        "# stopCluster(cl)"
      ],
      "metadata": {
        "id": "vsGwTn7FweoF"
      },
      "execution_count": null,
      "outputs": []
    },
    {
      "cell_type": "code",
      "source": [
        "download.file('https://coast.noaa.gov/htdata/raster7/imagery/HI_NAIP_2021_9668/HI_NAIP_2021_EPSG-26904.vrt', paste('/content/HI_2021_NAIP/HI_NAIP_2021_EPSG-26904.vrt',sep=''))"
      ],
      "metadata": {
        "id": "CbvR1zxT0zzA"
      },
      "execution_count": 37,
      "outputs": []
    },
    {
      "cell_type": "code",
      "source": [
        "hawaii_naip <- stack('/content/HI_2021_NAIP/HI_NAIP_2021_EPSG-26904.vrt')"
      ],
      "metadata": {
        "id": "W3qBfvrN1Kn8"
      },
      "execution_count": 38,
      "outputs": []
    },
    {
      "cell_type": "code",
      "source": [
        "dir.create('output_fishnets')"
      ],
      "metadata": {
        "id": "8MNrBoimLMAp"
      },
      "execution_count": 39,
      "outputs": []
    },
    {
      "cell_type": "code",
      "source": [
        "hawaii_naip"
      ],
      "metadata": {
        "id": "xklJFKaBy_wO",
        "outputId": "72aeb8a3-ced5-45a7-b557-87e9e7a682b8",
        "colab": {
          "base_uri": "https://localhost:8080/",
          "height": 121
        }
      },
      "execution_count": 44,
      "outputs": [
        {
          "output_type": "display_data",
          "data": {
            "text/plain": [
              "class      : RasterStack \n",
              "dimensions : 480700, 751320, 361159524000, 4  (nrow, ncol, ncell, nlayers)\n",
              "resolution : 0.6, 0.6  (x, y)\n",
              "extent     : 364074, 814866, 2172438, 2460858  (xmin, xmax, ymin, ymax)\n",
              "crs        : +proj=utm +zone=4 +datum=NAD83 +units=m +no_defs \n",
              "names      : HI_NAIP_2021_EPSG.26904_1, HI_NAIP_2021_EPSG.26904_2, HI_NAIP_2021_EPSG.26904_3, HI_NAIP_2021_EPSG.26904_4 \n"
            ]
          },
          "metadata": {}
        }
      ]
    },
    {
      "cell_type": "code",
      "source": [
        "wetlands_gpkg"
      ],
      "metadata": {
        "id": "pOLXwPwTzFYv",
        "outputId": "722cbee3-67d1-4dca-c3f1-8787b60bf158",
        "colab": {
          "base_uri": "https://localhost:8080/",
          "height": 1000
        }
      },
      "execution_count": 46,
      "outputs": [
        {
          "output_type": "stream",
          "name": "stderr",
          "text": [
            "ERROR while rich displaying an object: Error in loadNamespace(x): there is no package called ‘geojsonio’\n",
            "\n",
            "Traceback:\n",
            "1. tryCatch(withCallingHandlers({\n",
            " .     if (!mime %in% names(repr::mime2repr)) \n",
            " .         stop(\"No repr_* for mimetype \", mime, \" in repr::mime2repr\")\n",
            " .     rpr <- repr::mime2repr[[mime]](obj)\n",
            " .     if (is.null(rpr)) \n",
            " .         return(NULL)\n",
            " .     prepare_content(is.raw(rpr), rpr)\n",
            " . }, error = error_handler), error = outer_handler)\n",
            "2. tryCatchList(expr, classes, parentenv, handlers)\n",
            "3. tryCatchOne(expr, names, parentenv, handlers[[1L]])\n",
            "4. doTryCatch(return(expr), name, parentenv, handler)\n",
            "5. withCallingHandlers({\n",
            " .     if (!mime %in% names(repr::mime2repr)) \n",
            " .         stop(\"No repr_* for mimetype \", mime, \" in repr::mime2repr\")\n",
            " .     rpr <- repr::mime2repr[[mime]](obj)\n",
            " .     if (is.null(rpr)) \n",
            " .         return(NULL)\n",
            " .     prepare_content(is.raw(rpr), rpr)\n",
            " . }, error = error_handler)\n",
            "6. repr::mime2repr[[mime]](obj)\n",
            "7. repr_geojson.sf(obj)\n",
            "8. repr_geojson(geojsonio::geojson_list(obj), ...)\n",
            "9. loadNamespace(x)\n",
            "10. withRestarts(stop(cond), retry_loadNamespace = function() NULL)\n",
            "11. withOneRestart(expr, restarts[[1L]])\n",
            "12. doWithOneRestart(return(expr), restart)\n"
          ]
        },
        {
          "output_type": "display_data",
          "data": {
            "text/html": [
              "<table class=\"dataframe\">\n",
              "<caption>A sf: 16 × 7</caption>\n",
              "<thead>\n",
              "\t<tr><th scope=col>id</th><th scope=col>island</th><th scope=col>name</th><th scope=col>lumahai</th><th scope=col>layer</th><th scope=col>path</th><th scope=col>geom</th></tr>\n",
              "\t<tr><th scope=col>&lt;dbl&gt;</th><th scope=col>&lt;chr&gt;</th><th scope=col>&lt;chr&gt;</th><th scope=col>&lt;dbl&gt;</th><th scope=col>&lt;chr&gt;</th><th scope=col>&lt;chr&gt;</th><th scope=col>&lt;MULTIPOLYGON [m]&gt;</th></tr>\n",
              "</thead>\n",
              "<tbody>\n",
              "\t<tr><td> 1</td><td>NA  </td><td>NA            </td><td>NA</td><td>anahola       </td><td>E:/Data/AOI_Shapefiles/kauai/anahola.shp       </td><td>MULTIPOLYGON (((467439.4 24...</td></tr>\n",
              "\t<tr><td> 1</td><td>NA  </td><td>NA            </td><td>NA</td><td>haleiwa       </td><td>E:/Data/AOI_Shapefiles/oahu/haleiwa.shp        </td><td>MULTIPOLYGON (((590409.2 23...</td></tr>\n",
              "\t<tr><td> 1</td><td>NA  </td><td>NA            </td><td>NA</td><td>hanalei       </td><td>E:/Data/AOI_Shapefiles/kauai/hanalei.shp       </td><td>MULTIPOLYGON (((445906 2451...</td></tr>\n",
              "\t<tr><td> 1</td><td>NA  </td><td>NA            </td><td>NA</td><td>huleia        </td><td>E:/Data/AOI_Shapefiles/kauai/huleia.shp        </td><td>MULTIPOLYGON (((459399.5 24...</td></tr>\n",
              "\t<tr><td> 1</td><td>NA  </td><td>NA            </td><td>NA</td><td>kahuku        </td><td>E:/Data/AOI_Shapefiles/oahu/kahuku.shp         </td><td>MULTIPOLYGON (((602662.2 23...</td></tr>\n",
              "\t<tr><td> 1</td><td>NA  </td><td>NA            </td><td>NA</td><td>kakahaia      </td><td>E:/Data/AOI_Shapefiles/molokai/kakahaia.shp    </td><td>MULTIPOLYGON (((712686.8 23...</td></tr>\n",
              "\t<tr><td> 1</td><td>NA  </td><td>NA            </td><td>NA</td><td>kaluaapuhi    </td><td>E:/Data/AOI_Shapefiles/molokai/kaluaapuhi.shp  </td><td>MULTIPOLYGON (((694186.8 23...</td></tr>\n",
              "\t<tr><td> 1</td><td>NA  </td><td>NA            </td><td>NA</td><td>kamalo        </td><td>E:/Data/AOI_Shapefiles/molokai/kamalo.shp      </td><td>MULTIPOLYGON (((718784.3 23...</td></tr>\n",
              "\t<tr><td> 1</td><td>NA  </td><td>NA            </td><td>NA</td><td>kanaha        </td><td>E:/Data/AOI_Shapefiles/maui/kanaha.shp         </td><td>MULTIPOLYGON (((763679.9 23...</td></tr>\n",
              "\t<tr><td> 1</td><td>oahu</td><td>kawainui marsh</td><td>NA</td><td>kawainui_marsh</td><td>E:/Data/AOI_Shapefiles/oahu/kawainui_marsh.shp </td><td>MULTIPOLYGON (((625876.9 23...</td></tr>\n",
              "\t<tr><td> 1</td><td>NA  </td><td>NA            </td><td>NA</td><td>kealia        </td><td>E:/Data/AOI_Shapefiles/maui/kealia.shp         </td><td>MULTIPOLYGON (((759252.1 22...</td></tr>\n",
              "\t<tr><td>NA</td><td>NA  </td><td>NA            </td><td> 1</td><td>lumahai       </td><td>E:/Data/AOI_Shapefiles/kauai/lumahai.shp       </td><td>MULTIPOLYGON (((444046 2452...</td></tr>\n",
              "\t<tr><td> 1</td><td>NA  </td><td>NA            </td><td>NA</td><td>paukukalo     </td><td>E:/Data/AOI_Shapefiles/maui/paukukalo.shp      </td><td>MULTIPOLYGON (((758616.3 23...</td></tr>\n",
              "\t<tr><td> 1</td><td>NA  </td><td>NA            </td><td>NA</td><td>pearl_harbor  </td><td>E:/Data/AOI_Shapefiles/oahu/pearl_harbor.shp   </td><td>MULTIPOLYGON (((599581.1 23...</td></tr>\n",
              "\t<tr><td> 1</td><td>NA  </td><td>NA            </td><td>NA</td><td>waihee        </td><td>E:/Data/AOI_Shapefiles/maui/waihee.shp         </td><td>MULTIPOLYGON (((757873.3 23...</td></tr>\n",
              "\t<tr><td> 1</td><td>NA  </td><td>NA            </td><td>NA</td><td>wailua_opaekaa</td><td>E:/Data/AOI_Shapefiles/kauai/wailua_opaekaa.shp</td><td>MULTIPOLYGON (((464124.8 24...</td></tr>\n",
              "</tbody>\n",
              "</table>\n"
            ],
            "text/markdown": "\nA sf: 16 × 7\n\n| id &lt;dbl&gt; | island &lt;chr&gt; | name &lt;chr&gt; | lumahai &lt;dbl&gt; | layer &lt;chr&gt; | path &lt;chr&gt; | geom &lt;MULTIPOLYGON [m]&gt; |\n|---|---|---|---|---|---|---|\n|  1 | NA   | NA             | NA | anahola        | E:/Data/AOI_Shapefiles/kauai/anahola.shp        | MULTIPOLYGON (((467439.4 24... |\n|  1 | NA   | NA             | NA | haleiwa        | E:/Data/AOI_Shapefiles/oahu/haleiwa.shp         | MULTIPOLYGON (((590409.2 23... |\n|  1 | NA   | NA             | NA | hanalei        | E:/Data/AOI_Shapefiles/kauai/hanalei.shp        | MULTIPOLYGON (((445906 2451... |\n|  1 | NA   | NA             | NA | huleia         | E:/Data/AOI_Shapefiles/kauai/huleia.shp         | MULTIPOLYGON (((459399.5 24... |\n|  1 | NA   | NA             | NA | kahuku         | E:/Data/AOI_Shapefiles/oahu/kahuku.shp          | MULTIPOLYGON (((602662.2 23... |\n|  1 | NA   | NA             | NA | kakahaia       | E:/Data/AOI_Shapefiles/molokai/kakahaia.shp     | MULTIPOLYGON (((712686.8 23... |\n|  1 | NA   | NA             | NA | kaluaapuhi     | E:/Data/AOI_Shapefiles/molokai/kaluaapuhi.shp   | MULTIPOLYGON (((694186.8 23... |\n|  1 | NA   | NA             | NA | kamalo         | E:/Data/AOI_Shapefiles/molokai/kamalo.shp       | MULTIPOLYGON (((718784.3 23... |\n|  1 | NA   | NA             | NA | kanaha         | E:/Data/AOI_Shapefiles/maui/kanaha.shp          | MULTIPOLYGON (((763679.9 23... |\n|  1 | oahu | kawainui marsh | NA | kawainui_marsh | E:/Data/AOI_Shapefiles/oahu/kawainui_marsh.shp  | MULTIPOLYGON (((625876.9 23... |\n|  1 | NA   | NA             | NA | kealia         | E:/Data/AOI_Shapefiles/maui/kealia.shp          | MULTIPOLYGON (((759252.1 22... |\n| NA | NA   | NA             |  1 | lumahai        | E:/Data/AOI_Shapefiles/kauai/lumahai.shp        | MULTIPOLYGON (((444046 2452... |\n|  1 | NA   | NA             | NA | paukukalo      | E:/Data/AOI_Shapefiles/maui/paukukalo.shp       | MULTIPOLYGON (((758616.3 23... |\n|  1 | NA   | NA             | NA | pearl_harbor   | E:/Data/AOI_Shapefiles/oahu/pearl_harbor.shp    | MULTIPOLYGON (((599581.1 23... |\n|  1 | NA   | NA             | NA | waihee         | E:/Data/AOI_Shapefiles/maui/waihee.shp          | MULTIPOLYGON (((757873.3 23... |\n|  1 | NA   | NA             | NA | wailua_opaekaa | E:/Data/AOI_Shapefiles/kauai/wailua_opaekaa.shp | MULTIPOLYGON (((464124.8 24... |\n\n",
            "text/latex": "A sf: 16 × 7\n\\begin{tabular}{lllllll}\n id & island & name & lumahai & layer & path & geom\\\\\n <dbl> & <chr> & <chr> & <dbl> & <chr> & <chr> & <MULTIPOLYGON {[}m{]}>\\\\\n\\hline\n\t  1 & NA   & NA             & NA & anahola        & E:/Data/AOI\\_Shapefiles/kauai/anahola.shp        & MULTIPOLYGON (((467439.4 24...\\\\\n\t  1 & NA   & NA             & NA & haleiwa        & E:/Data/AOI\\_Shapefiles/oahu/haleiwa.shp         & MULTIPOLYGON (((590409.2 23...\\\\\n\t  1 & NA   & NA             & NA & hanalei        & E:/Data/AOI\\_Shapefiles/kauai/hanalei.shp        & MULTIPOLYGON (((445906 2451...\\\\\n\t  1 & NA   & NA             & NA & huleia         & E:/Data/AOI\\_Shapefiles/kauai/huleia.shp         & MULTIPOLYGON (((459399.5 24...\\\\\n\t  1 & NA   & NA             & NA & kahuku         & E:/Data/AOI\\_Shapefiles/oahu/kahuku.shp          & MULTIPOLYGON (((602662.2 23...\\\\\n\t  1 & NA   & NA             & NA & kakahaia       & E:/Data/AOI\\_Shapefiles/molokai/kakahaia.shp     & MULTIPOLYGON (((712686.8 23...\\\\\n\t  1 & NA   & NA             & NA & kaluaapuhi     & E:/Data/AOI\\_Shapefiles/molokai/kaluaapuhi.shp   & MULTIPOLYGON (((694186.8 23...\\\\\n\t  1 & NA   & NA             & NA & kamalo         & E:/Data/AOI\\_Shapefiles/molokai/kamalo.shp       & MULTIPOLYGON (((718784.3 23...\\\\\n\t  1 & NA   & NA             & NA & kanaha         & E:/Data/AOI\\_Shapefiles/maui/kanaha.shp          & MULTIPOLYGON (((763679.9 23...\\\\\n\t  1 & oahu & kawainui marsh & NA & kawainui\\_marsh & E:/Data/AOI\\_Shapefiles/oahu/kawainui\\_marsh.shp  & MULTIPOLYGON (((625876.9 23...\\\\\n\t  1 & NA   & NA             & NA & kealia         & E:/Data/AOI\\_Shapefiles/maui/kealia.shp          & MULTIPOLYGON (((759252.1 22...\\\\\n\t NA & NA   & NA             &  1 & lumahai        & E:/Data/AOI\\_Shapefiles/kauai/lumahai.shp        & MULTIPOLYGON (((444046 2452...\\\\\n\t  1 & NA   & NA             & NA & paukukalo      & E:/Data/AOI\\_Shapefiles/maui/paukukalo.shp       & MULTIPOLYGON (((758616.3 23...\\\\\n\t  1 & NA   & NA             & NA & pearl\\_harbor   & E:/Data/AOI\\_Shapefiles/oahu/pearl\\_harbor.shp    & MULTIPOLYGON (((599581.1 23...\\\\\n\t  1 & NA   & NA             & NA & waihee         & E:/Data/AOI\\_Shapefiles/maui/waihee.shp          & MULTIPOLYGON (((757873.3 23...\\\\\n\t  1 & NA   & NA             & NA & wailua\\_opaekaa & E:/Data/AOI\\_Shapefiles/kauai/wailua\\_opaekaa.shp & MULTIPOLYGON (((464124.8 24...\\\\\n\\end{tabular}\n",
            "text/plain": [
              "   id island name           lumahai layer         \n",
              "1   1 NA     NA             NA      anahola       \n",
              "2   1 NA     NA             NA      haleiwa       \n",
              "3   1 NA     NA             NA      hanalei       \n",
              "4   1 NA     NA             NA      huleia        \n",
              "5   1 NA     NA             NA      kahuku        \n",
              "6   1 NA     NA             NA      kakahaia      \n",
              "7   1 NA     NA             NA      kaluaapuhi    \n",
              "8   1 NA     NA             NA      kamalo        \n",
              "9   1 NA     NA             NA      kanaha        \n",
              "10  1 oahu   kawainui marsh NA      kawainui_marsh\n",
              "11  1 NA     NA             NA      kealia        \n",
              "12 NA NA     NA              1      lumahai       \n",
              "13  1 NA     NA             NA      paukukalo     \n",
              "14  1 NA     NA             NA      pearl_harbor  \n",
              "15  1 NA     NA             NA      waihee        \n",
              "16  1 NA     NA             NA      wailua_opaekaa\n",
              "   path                                           \n",
              "1  E:/Data/AOI_Shapefiles/kauai/anahola.shp       \n",
              "2  E:/Data/AOI_Shapefiles/oahu/haleiwa.shp        \n",
              "3  E:/Data/AOI_Shapefiles/kauai/hanalei.shp       \n",
              "4  E:/Data/AOI_Shapefiles/kauai/huleia.shp        \n",
              "5  E:/Data/AOI_Shapefiles/oahu/kahuku.shp         \n",
              "6  E:/Data/AOI_Shapefiles/molokai/kakahaia.shp    \n",
              "7  E:/Data/AOI_Shapefiles/molokai/kaluaapuhi.shp  \n",
              "8  E:/Data/AOI_Shapefiles/molokai/kamalo.shp      \n",
              "9  E:/Data/AOI_Shapefiles/maui/kanaha.shp         \n",
              "10 E:/Data/AOI_Shapefiles/oahu/kawainui_marsh.shp \n",
              "11 E:/Data/AOI_Shapefiles/maui/kealia.shp         \n",
              "12 E:/Data/AOI_Shapefiles/kauai/lumahai.shp       \n",
              "13 E:/Data/AOI_Shapefiles/maui/paukukalo.shp      \n",
              "14 E:/Data/AOI_Shapefiles/oahu/pearl_harbor.shp   \n",
              "15 E:/Data/AOI_Shapefiles/maui/waihee.shp         \n",
              "16 E:/Data/AOI_Shapefiles/kauai/wailua_opaekaa.shp\n",
              "   geom                          \n",
              "1  MULTIPOLYGON (((467439.4 24...\n",
              "2  MULTIPOLYGON (((590409.2 23...\n",
              "3  MULTIPOLYGON (((445906 2451...\n",
              "4  MULTIPOLYGON (((459399.5 24...\n",
              "5  MULTIPOLYGON (((602662.2 23...\n",
              "6  MULTIPOLYGON (((712686.8 23...\n",
              "7  MULTIPOLYGON (((694186.8 23...\n",
              "8  MULTIPOLYGON (((718784.3 23...\n",
              "9  MULTIPOLYGON (((763679.9 23...\n",
              "10 MULTIPOLYGON (((625876.9 23...\n",
              "11 MULTIPOLYGON (((759252.1 22...\n",
              "12 MULTIPOLYGON (((444046 2452...\n",
              "13 MULTIPOLYGON (((758616.3 23...\n",
              "14 MULTIPOLYGON (((599581.1 23...\n",
              "15 MULTIPOLYGON (((757873.3 23...\n",
              "16 MULTIPOLYGON (((464124.8 24..."
            ]
          },
          "metadata": {}
        }
      ]
    },
    {
      "cell_type": "code",
      "source": [
        "1:nrow(wetlands_gpkg) %>%\n",
        "  lapply(function(y){\n",
        "    wetlands_sample <- wetlands_gpkg[y,] %>%\n",
        "      st_transform(st_crs(hawaii_naip))%>%\n",
        "      crop(hawaii_naip,.)})"
      ],
      "metadata": {
        "id": "_0BC8u-HztXU",
        "outputId": "9e06bd9a-8e66-4ba8-c7e8-aa0dfd726433",
        "colab": {
          "base_uri": "https://localhost:8080/",
          "height": 1000
        }
      },
      "execution_count": 47,
      "outputs": [
        {
          "output_type": "display_data",
          "data": {
            "text/plain": [
              "[[1]]\n",
              "class      : RasterBrick \n",
              "dimensions : 3748, 4589, 17199572, 4  (nrow, ncol, ncell, nlayers)\n",
              "resolution : 0.6, 0.6  (x, y)\n",
              "extent     : 467437.8, 470191.2, 2447514, 2449763  (xmin, xmax, ymin, ymax)\n",
              "crs        : +proj=utm +zone=4 +datum=NAD83 +units=m +no_defs \n",
              "source     : r_tmp_2024-02-15_034101.268267_950_20929.grd \n",
              "names      : HI_NAIP_2021_EPSG.26904_1, HI_NAIP_2021_EPSG.26904_2, HI_NAIP_2021_EPSG.26904_3, HI_NAIP_2021_EPSG.26904_4 \n",
              "min values :                        26,                        55,                        84,                         1 \n",
              "max values :                       234,                       228,                       230,                       230 \n",
              "\n",
              "\n",
              "[[2]]\n",
              "class      : RasterBrick \n",
              "dimensions : 12262, 9419, 115495778, 4  (nrow, ncol, ncell, nlayers)\n",
              "resolution : 0.6, 0.6  (x, y)\n",
              "extent     : 590409, 596060.4, 2383570, 2390927  (xmin, xmax, ymin, ymax)\n",
              "crs        : +proj=utm +zone=4 +datum=NAD83 +units=m +no_defs \n",
              "source     : r_tmp_2024-02-15_034116.402807_950_15992.grd \n",
              "names      : HI_NAIP_2021_EPSG.26904_1, HI_NAIP_2021_EPSG.26904_2, HI_NAIP_2021_EPSG.26904_3, HI_NAIP_2021_EPSG.26904_4 \n",
              "min values :                        18,                        35,                        56,                         1 \n",
              "max values :                       250,                       244,                       234,                       241 \n",
              "\n",
              "\n",
              "[[3]]\n",
              "class      : RasterBrick \n",
              "dimensions : 9420, 11687, 110091540, 4  (nrow, ncol, ncell, nlayers)\n",
              "resolution : 0.6, 0.6  (x, y)\n",
              "extent     : 445904.4, 452916.6, 2451683, 2457335  (xmin, xmax, ymin, ymax)\n",
              "crs        : +proj=utm +zone=4 +datum=NAD83 +units=m +no_defs \n",
              "source     : r_tmp_2024-02-15_034313.795891_950_14984.grd \n",
              "names      : HI_NAIP_2021_EPSG.26904_1, HI_NAIP_2021_EPSG.26904_2, HI_NAIP_2021_EPSG.26904_3, HI_NAIP_2021_EPSG.26904_4 \n",
              "min values :                        19,                        47,                        72,                         1 \n",
              "max values :                       249,                       242,                       245,                       237 \n",
              "\n",
              "\n",
              "[[4]]\n",
              "class      : RasterBrick \n",
              "dimensions : 4219, 6841, 28862179, 4  (nrow, ncol, ncell, nlayers)\n",
              "resolution : 0.6, 0.6  (x, y)\n",
              "extent     : 459398.4, 463503, 2425911, 2428442  (xmin, xmax, ymin, ymax)\n",
              "crs        : +proj=utm +zone=4 +datum=NAD83 +units=m +no_defs \n",
              "source     : r_tmp_2024-02-15_034534.902665_950_94369.grd \n",
              "names      : HI_NAIP_2021_EPSG.26904_1, HI_NAIP_2021_EPSG.26904_2, HI_NAIP_2021_EPSG.26904_3, HI_NAIP_2021_EPSG.26904_4 \n",
              "min values :                        16,                        39,                        59,                         4 \n",
              "max values :                       241,                       239,                       240,                       236 \n",
              "\n",
              "\n",
              "[[5]]\n",
              "class      : RasterBrick \n",
              "dimensions : 7602, 11151, 84769902, 4  (nrow, ncol, ncell, nlayers)\n",
              "resolution : 0.6, 0.6  (x, y)\n",
              "extent     : 602661.6, 609352.2, 2397289, 2401850  (xmin, xmax, ymin, ymax)\n",
              "crs        : +proj=utm +zone=4 +datum=NAD83 +units=m +no_defs \n",
              "source     : r_tmp_2024-02-15_034601.439908_950_93864.grd \n",
              "names      : HI_NAIP_2021_EPSG.26904_1, HI_NAIP_2021_EPSG.26904_2, HI_NAIP_2021_EPSG.26904_3, HI_NAIP_2021_EPSG.26904_4 \n",
              "min values :                        13,                        36,                        54,                         6 \n",
              "max values :                       240,                       233,                       225,                       232 \n",
              "\n",
              "\n",
              "[[6]]\n",
              "class      : RasterBrick \n",
              "dimensions : 3055, 10128, 30941040, 4  (nrow, ncol, ncell, nlayers)\n",
              "resolution : 0.6, 0.6  (x, y)\n",
              "extent     : 712687.8, 718764.6, 2329322, 2331155  (xmin, xmax, ymin, ymax)\n",
              "crs        : +proj=utm +zone=4 +datum=NAD83 +units=m +no_defs \n",
              "source     : r_tmp_2024-02-15_034710.962046_950_81738.grd \n",
              "names      : HI_NAIP_2021_EPSG.26904_1, HI_NAIP_2021_EPSG.26904_2, HI_NAIP_2021_EPSG.26904_3, HI_NAIP_2021_EPSG.26904_4 \n",
              "min values :                        12,                        36,                        52,                         1 \n",
              "max values :                       220,                       223,                       227,                       239 \n",
              "\n",
              "\n",
              "[[7]]\n",
              "class      : RasterBrick \n",
              "dimensions : 6280, 16323, 102508440, 4  (nrow, ncol, ncell, nlayers)\n",
              "resolution : 0.6, 0.6  (x, y)\n",
              "extent     : 694188, 703981.8, 2333065, 2336833  (xmin, xmax, ymin, ymax)\n",
              "crs        : +proj=utm +zone=4 +datum=NAD83 +units=m +no_defs \n",
              "source     : r_tmp_2024-02-15_034751.867583_950_48148.grd \n",
              "names      : HI_NAIP_2021_EPSG.26904_1, HI_NAIP_2021_EPSG.26904_2, HI_NAIP_2021_EPSG.26904_3, HI_NAIP_2021_EPSG.26904_4 \n",
              "min values :                        19,                        43,                        61,                         1 \n",
              "max values :                       232,                       235,                       229,                       224 \n",
              "\n",
              "\n",
              "[[8]]\n",
              "class      : RasterBrick \n",
              "dimensions : 2843, 6789, 19301127, 4  (nrow, ncol, ncell, nlayers)\n",
              "resolution : 0.6, 0.6  (x, y)\n",
              "extent     : 718785.6, 722859, 2328575, 2330281  (xmin, xmax, ymin, ymax)\n",
              "crs        : +proj=utm +zone=4 +datum=NAD83 +units=m +no_defs \n",
              "source     : r_tmp_2024-02-15_034938.885067_950_22858.grd \n",
              "names      : HI_NAIP_2021_EPSG.26904_1, HI_NAIP_2021_EPSG.26904_2, HI_NAIP_2021_EPSG.26904_3, HI_NAIP_2021_EPSG.26904_4 \n",
              "min values :                        11,                        42,                        58,                         1 \n",
              "max values :                       236,                       230,                       224,                       221 \n",
              "\n",
              "\n",
              "[[9]]\n",
              "class      : RasterBrick \n",
              "dimensions : 3210, 4186, 13437060, 4  (nrow, ncol, ncell, nlayers)\n",
              "resolution : 0.6, 0.6  (x, y)\n",
              "extent     : 763680.6, 766192.2, 2311429, 2313355  (xmin, xmax, ymin, ymax)\n",
              "crs        : +proj=utm +zone=4 +datum=NAD83 +units=m +no_defs \n",
              "source     : r_tmp_2024-02-15_034955.593964_950_90340.grd \n",
              "names      : HI_NAIP_2021_EPSG.26904_1, HI_NAIP_2021_EPSG.26904_2, HI_NAIP_2021_EPSG.26904_3, HI_NAIP_2021_EPSG.26904_4 \n",
              "min values :                        44,                        73,                        90,                         1 \n",
              "max values :                       255,                       245,                       246,                       237 \n",
              "\n",
              "\n",
              "[[10]]\n",
              "class      : RasterBrick \n",
              "dimensions : 11444, 9910, 113410040, 4  (nrow, ncol, ncell, nlayers)\n",
              "resolution : 0.6, 0.6  (x, y)\n",
              "extent     : 625876.8, 631822.8, 2361764, 2368631  (xmin, xmax, ymin, ymax)\n",
              "crs        : +proj=utm +zone=4 +datum=NAD83 +units=m +no_defs \n",
              "source     : r_tmp_2024-02-15_035009.456676_950_61382.grd \n",
              "names      : HI_NAIP_2021_EPSG.26904_1, HI_NAIP_2021_EPSG.26904_2, HI_NAIP_2021_EPSG.26904_3, HI_NAIP_2021_EPSG.26904_4 \n",
              "min values :                        11,                        35,                        47,                         1 \n",
              "max values :                       252,                       249,                       245,                       251 \n",
              "\n",
              "\n",
              "[[11]]\n",
              "class      : RasterBrick \n",
              "dimensions : 5064, 9137, 46269768, 4  (nrow, ncol, ncell, nlayers)\n",
              "resolution : 0.6, 0.6  (x, y)\n",
              "extent     : 759252.6, 764734.8, 2299912, 2302951  (xmin, xmax, ymin, ymax)\n",
              "crs        : +proj=utm +zone=4 +datum=NAD83 +units=m +no_defs \n",
              "source     : r_tmp_2024-02-15_035159.436129_950_57831.grd \n",
              "names      : HI_NAIP_2021_EPSG.26904_1, HI_NAIP_2021_EPSG.26904_2, HI_NAIP_2021_EPSG.26904_3, HI_NAIP_2021_EPSG.26904_4 \n",
              "min values :                        21,                        48,                        75,                         1 \n",
              "max values :                       237,                       235,                       239,                       237 \n",
              "\n",
              "\n",
              "[[12]]\n",
              "class      : RasterBrick \n",
              "dimensions : 7699, 2689, 20702611, 4  (nrow, ncol, ncell, nlayers)\n",
              "resolution : 0.6, 0.6  (x, y)\n",
              "extent     : 444045, 445658.4, 2452419, 2457038  (xmin, xmax, ymin, ymax)\n",
              "crs        : +proj=utm +zone=4 +datum=NAD83 +units=m +no_defs \n",
              "source     : r_tmp_2024-02-15_035245.58014_950_85556.grd \n",
              "names      : HI_NAIP_2021_EPSG.26904_1, HI_NAIP_2021_EPSG.26904_2, HI_NAIP_2021_EPSG.26904_3, HI_NAIP_2021_EPSG.26904_4 \n",
              "min values :                        27,                        53,                        85,                         2 \n",
              "max values :                       231,                       235,                       238,                       218 \n",
              "\n",
              "\n",
              "[[13]]\n",
              "class      : RasterBrick \n",
              "dimensions : 6082, 5464, 33232048, 4  (nrow, ncol, ncell, nlayers)\n",
              "resolution : 0.6, 0.6  (x, y)\n",
              "extent     : 758616.6, 761895, 2312248, 2315897  (xmin, xmax, ymin, ymax)\n",
              "crs        : +proj=utm +zone=4 +datum=NAD83 +units=m +no_defs \n",
              "source     : r_tmp_2024-02-15_035304.258508_950_29443.grd \n",
              "names      : HI_NAIP_2021_EPSG.26904_1, HI_NAIP_2021_EPSG.26904_2, HI_NAIP_2021_EPSG.26904_3, HI_NAIP_2021_EPSG.26904_4 \n",
              "min values :                        32,                        54,                        85,                         1 \n",
              "max values :                       255,                       254,                       255,                       255 \n",
              "\n",
              "\n",
              "[[14]]\n",
              "class      : RasterBrick \n",
              "dimensions : 12517, 19605, 245395785, 4  (nrow, ncol, ncell, nlayers)\n",
              "resolution : 0.6, 0.6  (x, y)\n",
              "extent     : 599580.6, 611343.6, 2359555, 2367065  (xmin, xmax, ymin, ymax)\n",
              "crs        : +proj=utm +zone=4 +datum=NAD83 +units=m +no_defs \n",
              "source     : r_tmp_2024-02-15_035345.812819_950_45641.grd \n",
              "names      : HI_NAIP_2021_EPSG.26904_1, HI_NAIP_2021_EPSG.26904_2, HI_NAIP_2021_EPSG.26904_3, HI_NAIP_2021_EPSG.26904_4 \n",
              "min values :                         3,                        24,                        48,                         1 \n",
              "max values :                       245,                       239,                       233,                       245 \n",
              "\n",
              "\n",
              "[[15]]\n",
              "class      : RasterBrick \n",
              "dimensions : 3546, 2624, 9304704, 4  (nrow, ncol, ncell, nlayers)\n",
              "resolution : 0.6, 0.6  (x, y)\n",
              "extent     : 757873.8, 759448.2, 2316620, 2318747  (xmin, xmax, ymin, ymax)\n",
              "crs        : +proj=utm +zone=4 +datum=NAD83 +units=m +no_defs \n",
              "source     : r_tmp_2024-02-15_035811.268567_950_18293.grd \n",
              "names      : HI_NAIP_2021_EPSG.26904_1, HI_NAIP_2021_EPSG.26904_2, HI_NAIP_2021_EPSG.26904_3, HI_NAIP_2021_EPSG.26904_4 \n",
              "min values :                        11,                        29,                        63,                         1 \n",
              "max values :                       255,                       253,                       255,                       255 \n",
              "\n",
              "\n",
              "[[16]]\n",
              "class      : RasterBrick \n",
              "dimensions : 5144, 5951, 30611944, 4  (nrow, ncol, ncell, nlayers)\n",
              "resolution : 0.6, 0.6  (x, y)\n",
              "extent     : 464123.4, 467694, 2439269, 2442355  (xmin, xmax, ymin, ymax)\n",
              "crs        : +proj=utm +zone=4 +datum=NAD83 +units=m +no_defs \n",
              "source     : r_tmp_2024-02-15_035823.137783_950_40432.grd \n",
              "names      : HI_NAIP_2021_EPSG.26904_1, HI_NAIP_2021_EPSG.26904_2, HI_NAIP_2021_EPSG.26904_3, HI_NAIP_2021_EPSG.26904_4 \n",
              "min values :                        23,                        52,                        76,                         1 \n",
              "max values :                       235,                       233,                       231,                       239 \n",
              "\n"
            ]
          },
          "metadata": {}
        }
      ]
    },
    {
      "cell_type": "code",
      "source": [
        "wetlands_fishnet_gpkg <- 1:nrow(wetlands_gpkg) %>%\n",
        "  lapply(function(y){\n",
        "  wetlands_fishnet_gpkg <- wetlands_gpkg[y,] %>%\n",
        "    st_transform(st_crs(hawaii_naip)) %>%\n",
        "    st_make_grid(cellsize = c(76.8, 76.8)) %>%\n",
        "    st_as_sf\n",
        "  })"
      ],
      "metadata": {
        "id": "VTWRqDBLGhfU"
      },
      "execution_count": 95,
      "outputs": []
    },
    {
      "cell_type": "code",
      "source": [
        "wetlands_fishnet_gpkg %>% data.table"
      ],
      "metadata": {
        "id": "GLGP-kWeS5dQ"
      },
      "execution_count": 100,
      "outputs": []
    },
    {
      "cell_type": "code",
      "source": [
        "st_write(wetlands_fishnet_gpkg,paste0('/content/output_fishnets/', wetlands_gpkg$layer[y],'.gpkg'))"
      ],
      "metadata": {
        "id": "fp5gMvM-TIBS",
        "outputId": "ef638e68-34c6-4242-832e-fe9bc9a57b6d",
        "colab": {
          "base_uri": "https://localhost:8080/",
          "height": 124
        }
      },
      "execution_count": 99,
      "outputs": [
        {
          "output_type": "error",
          "ename": "ERROR",
          "evalue": "Error in UseMethod(\"st_write\"): no applicable method for 'st_write' applied to an object of class \"list\"\n",
          "traceback": [
            "Error in UseMethod(\"st_write\"): no applicable method for 'st_write' applied to an object of class \"list\"\nTraceback:\n",
            "1. st_write(wetlands_fishnet_gpkg, paste0(\"/content/output_fishnets/\", \n .     wetlands_gpkg$layer[y], \".gpkg\"))"
          ]
        }
      ]
    },
    {
      "cell_type": "code",
      "source": [
        "1:nrow(wetlands_gpkg) %>%\n",
        "  lapply(function(y){\n",
        "  wetlands_fishnet_sample <- wetlands_fishnet_gpkg[y,] %>%\n",
        "    st_transform(st_crs(hawaii_naip)) %>%\n",
        "    crop(wetlands_sample,.)\n",
        "  })"
      ],
      "metadata": {
        "id": "r-ImrCaYGhaX",
        "outputId": "a5b1987d-d1c6-470b-a414-7956b490e0d9",
        "colab": {
          "base_uri": "https://localhost:8080/",
          "height": 401
        }
      },
      "execution_count": 94,
      "outputs": [
        {
          "output_type": "error",
          "ename": "ERROR",
          "evalue": "Error in h(simpleError(msg, call)): error in evaluating the argument 'x' in selecting a method for function 'crop': object 'wetlands_sample' not found\n",
          "traceback": [
            "Error in h(simpleError(msg, call)): error in evaluating the argument 'x' in selecting a method for function 'crop': object 'wetlands_sample' not found\nTraceback:\n",
            "1. 1:nrow(wetlands_gpkg) %>% lapply(function(y) {\n .     wetlands_fishnet_sample <- wetlands_fishnet_gpkg[y, ] %>% \n .         st_transform(st_crs(hawaii_naip)) %>% crop(wetlands_sample, \n .         .)\n . })",
            "2. lapply(., function(y) {\n .     wetlands_fishnet_sample <- wetlands_fishnet_gpkg[y, ] %>% \n .         st_transform(st_crs(hawaii_naip)) %>% crop(wetlands_sample, \n .         .)\n . })",
            "3. FUN(X[[i]], ...)",
            "4. wetlands_fishnet_gpkg[y, ] %>% st_transform(st_crs(hawaii_naip)) %>% \n .     crop(wetlands_sample, .)   # at line 3-5 of file <text>",
            "5. crop(wetlands_sample, .)",
            "6. .handleSimpleError(function (cond) \n . .Internal(C_tryCatchHelper(addr, 1L, cond)), \"object 'wetlands_sample' not found\", \n .     base::quote(NULL))",
            "7. h(simpleError(msg, call))"
          ]
        }
      ]
    },
    {
      "cell_type": "code",
      "source": [
        "# 1:nrow(wetlands_gpkg) %>%\n",
        "#   lapply(function(y){\n",
        "#   wetlands_fishnet_gpkg <- wetlands_gpkg[y,] %>%\n",
        "#     st_transform(st_crs(hawaii_naip)) %>%\n",
        "#     st_make_grid(cellsize = c(76.8, 76.8)) %>%\n",
        "#     st_as_sf\n",
        "#   })"
      ],
      "metadata": {
        "id": "iRKMEg6NGhc8"
      },
      "execution_count": null,
      "outputs": []
    },
    {
      "cell_type": "code",
      "source": [
        "print(wetlands_gpkg)"
      ],
      "metadata": {
        "id": "bu2klZkV0jSv"
      },
      "execution_count": null,
      "outputs": []
    },
    {
      "cell_type": "code",
      "source": [
        "library(dplyr)"
      ],
      "metadata": {
        "id": "Ip_Rv62C0jOR"
      },
      "execution_count": null,
      "outputs": []
    },
    {
      "cell_type": "code",
      "source": [
        "wetlands_class <- class(wetlands_gpkg)\n",
        "print(wetlands_class)"
      ],
      "metadata": {
        "id": "xyTh7qdt0jLu",
        "outputId": "2cb95bd4-2d4c-45fb-a2f2-c0503f3bbc06",
        "colab": {
          "base_uri": "https://localhost:8080/"
        }
      },
      "execution_count": 87,
      "outputs": [
        {
          "output_type": "stream",
          "name": "stdout",
          "text": [
            "[1] \"sf\"         \"data.frame\"\n"
          ]
        }
      ]
    },
    {
      "cell_type": "code",
      "source": [
        "hawaii_naip_class <- class(hawaii_naip)\n",
        "print(hawaii_naip_class)"
      ],
      "metadata": {
        "id": "TYuSDtYF0jF_",
        "outputId": "cb47c761-573d-4bf4-f420-0f92529aee15",
        "colab": {
          "base_uri": "https://localhost:8080/"
        }
      },
      "execution_count": 86,
      "outputs": [
        {
          "output_type": "stream",
          "name": "stdout",
          "text": [
            "[1] \"RasterStack\"\n",
            "attr(,\"package\")\n",
            "[1] \"raster\"\n"
          ]
        }
      ]
    },
    {
      "cell_type": "code",
      "source": [
        "# Transform CRS of the entire wetlands dataset to match hawaii_naip\n",
        "wetlands_transformed <- st_transform(wetlands_gpkg, st_crs(hawaii_naip))"
      ],
      "metadata": {
        "id": "s9Jan03X0jC_"
      },
      "execution_count": 58,
      "outputs": []
    },
    {
      "cell_type": "code",
      "source": [
        "# Crop the entire wetlands dataset to the extent of hawaii_naip\n",
        "wetlands_cropped <- st_intersection(wetlands_transformed, hawaii_naip)"
      ],
      "metadata": {
        "id": "gS2BZWTL-iPO"
      },
      "execution_count": null,
      "outputs": []
    },
    {
      "cell_type": "code",
      "source": [
        "# If hawaii_naip is a raster, convert it to an sf object to use st_intersection for cropping\n",
        "hawaii_naip_sf <- st_as_sf(as(hawaii_naip, \"SpatialPixelsDataFrame\"))"
      ],
      "metadata": {
        "id": "yWaS_Vi597Vp"
      },
      "execution_count": null,
      "outputs": []
    },
    {
      "source": [
        "install.packages('stars')"
      ],
      "cell_type": "code",
      "metadata": {
        "id": "6ZXY0Ndb_C6v",
        "outputId": "b0e8f962-aae8-43df-a084-2f57e1f2c5c1",
        "colab": {
          "base_uri": "https://localhost:8080/"
        }
      },
      "execution_count": 65,
      "outputs": [
        {
          "output_type": "stream",
          "name": "stderr",
          "text": [
            "Installing package into ‘/usr/local/lib/R/site-library’\n",
            "(as ‘lib’ is unspecified)\n",
            "\n",
            "also installing the dependency ‘abind’\n",
            "\n",
            "\n"
          ]
        }
      ]
    },
    {
      "source": [
        "library(stars)"
      ],
      "cell_type": "code",
      "metadata": {
        "id": "1O-iSLAh_Bp-",
        "outputId": "3a2bdadd-97df-4c42-f9f1-5c3e0015f0ca",
        "colab": {
          "base_uri": "https://localhost:8080/"
        }
      },
      "execution_count": 66,
      "outputs": [
        {
          "output_type": "stream",
          "name": "stderr",
          "text": [
            "Loading required package: abind\n",
            "\n"
          ]
        }
      ]
    },
    {
      "cell_type": "code",
      "source": [
        "setwd(\"/content/HI_2021_NAIP/\")"
      ],
      "metadata": {
        "id": "-zC5gk9BACvJ"
      },
      "execution_count": 73,
      "outputs": []
    },
    {
      "cell_type": "code",
      "source": [
        "hawaii_naip_index\n",
        "hawaii_naip"
      ],
      "metadata": {
        "id": "kocBJjBsDh4g",
        "outputId": "9fbe291e-44fc-426a-dd3b-33a8a89d213c",
        "colab": {
          "base_uri": "https://localhost:8080/",
          "height": 225
        }
      },
      "execution_count": 91,
      "outputs": [
        {
          "output_type": "display_data",
          "data": {
            "text/plain": [
              "class      : RasterStack \n",
              "dimensions : 274360, 542070, 148722325200, 4  (nrow, ncol, ncell, nlayers)\n",
              "resolution : 0.6, 0.6  (x, y)\n",
              "extent     : 441786, 767028, 2296194, 2460810  (xmin, xmax, ymin, ymax)\n",
              "crs        : +proj=utm +zone=4 +datum=NAD83 +units=m +no_defs \n",
              "names      : HI_2021_NAIP_index_1, HI_2021_NAIP_index_2, HI_2021_NAIP_index_3, HI_2021_NAIP_index_4 \n"
            ]
          },
          "metadata": {}
        },
        {
          "output_type": "display_data",
          "data": {
            "text/plain": [
              "class      : RasterStack \n",
              "dimensions : 480700, 751320, 361159524000, 4  (nrow, ncol, ncell, nlayers)\n",
              "resolution : 0.6, 0.6  (x, y)\n",
              "extent     : 364074, 814866, 2172438, 2460858  (xmin, xmax, ymin, ymax)\n",
              "crs        : +proj=utm +zone=4 +datum=NAD83 +units=m +no_defs \n",
              "names      : HI_NAIP_2021_EPSG.26904_1, HI_NAIP_2021_EPSG.26904_2, HI_NAIP_2021_EPSG.26904_3, HI_NAIP_2021_EPSG.26904_4 \n"
            ]
          },
          "metadata": {}
        }
      ]
    },
    {
      "cell_type": "code",
      "source": [
        "# https://drive.google.com/file/d/12X5aI49evFswTAlfAFSvNgPm1lKN7RPE/view?usp=drive_link\n",
        "drive_download(file = as_id('12X5aI49evFswTAlfAFSvNgPm1lKN7RPE'), path =  '/content/HI_2021_NAIP/HI_2021_NAIP_index.vrt', overwrite = TRUE)\n",
        "hawaii_naip_index <- stack('/content/HI_2021_NAIP/HI_2021_NAIP_index.vrt')"
      ],
      "metadata": {
        "id": "KBVgW4nADnzF",
        "outputId": "af5b31d7-f519-4c9f-98a7-4f2a46844388",
        "colab": {
          "base_uri": "https://localhost:8080/"
        }
      },
      "execution_count": 76,
      "outputs": [
        {
          "output_type": "stream",
          "name": "stderr",
          "text": [
            "Auto-refreshing stale OAuth token.\n",
            "\n",
            "File downloaded:\n",
            "\n",
            "• \u001b[36mHI_2021_NAIP_index.vrt\u001b[39m \u001b[90m<id: 12X5aI49evFswTAlfAFSvNgPm1lKN7RPE>\u001b[39m\n",
            "\n",
            "Saved locally as:\n",
            "\n",
            "• \u001b[34m/content/HI_2021_NAIP/HI_2021_NAIP_index.vrt\u001b[39m\n",
            "\n"
          ]
        }
      ]
    },
    {
      "cell_type": "code",
      "source": [
        "# hawaii_naip <- stack(\"/content/HI_2021_NAIP/HI_NAIP_2021_EPSG-26904.vrt\")"
      ],
      "metadata": {
        "id": "fNjNjA1hAGIV"
      },
      "execution_count": 74,
      "outputs": []
    },
    {
      "cell_type": "code",
      "source": [
        "hawaii_naip_indexr <- raster('/content/HI_2021_NAIP/HI_2021_NAIP_index.vrt')"
      ],
      "metadata": {
        "id": "oxLJYhFlEUGF"
      },
      "execution_count": 78,
      "outputs": []
    },
    {
      "cell_type": "code",
      "source": [
        "plot(hawaii_naip_indexr)  # Attempt to plot the first layer to verify it's accessible"
      ],
      "metadata": {
        "id": "Ujs5a2c8AG58"
      },
      "execution_count": null,
      "outputs": []
    },
    {
      "cell_type": "code",
      "source": [
        "# Set the path to the directory containing your .tif files\n",
        "tif_directory <- \"/content/HI_2021_NAIP/\" # Adjust this path as necessary\n",
        "\n",
        "# List all .tif files in the directory\n",
        "tif_files <- list.files(path = tif_directory, pattern = \"\\\\.tif$\", full.names = TRUE)\n"
      ],
      "metadata": {
        "id": "Okvuu1OkEq1M"
      },
      "execution_count": 81,
      "outputs": []
    },
    {
      "cell_type": "code",
      "source": [
        "# Stack the .tif files\n",
        "hawaii_naip_stack <- stack(tif_files)"
      ],
      "metadata": {
        "id": "yQbA5X7GFwTA"
      },
      "execution_count": null,
      "outputs": []
    },
    {
      "cell_type": "code",
      "source": [
        "# Load the first raster to use its extent as the target\n",
        "target_extent <- extent(raster(tif_files[1]))\n",
        "\n"
      ],
      "metadata": {
        "id": "KRsY2McvGGAi"
      },
      "execution_count": 83,
      "outputs": []
    },
    {
      "cell_type": "code",
      "source": [
        "# Initialize an empty list to hold the adjusted rasters\n",
        "adjusted_rasters <- list()\n",
        "\n",
        "# Loop through all tif files, crop them to the target extent, and add to the list\n",
        "for (tif_file in tif_files) {\n",
        "  r <- raster(tif_file)\n",
        "  cropped_r <- crop(r, target_extent)\n",
        "  adjusted_rasters[[length(adjusted_rasters) + 1]] <- cropped_r\n",
        "}\n",
        "\n"
      ],
      "metadata": {
        "id": "11loH07nGIdT",
        "outputId": "45fa98ad-0718-4e5f-9d73-60a41fe88ccf",
        "colab": {
          "base_uri": "https://localhost:8080/",
          "height": 158
        }
      },
      "execution_count": 84,
      "outputs": [
        {
          "output_type": "error",
          "ename": "ERROR",
          "evalue": "Error in .local(x, y, ...): extents do not overlap\n",
          "traceback": [
            "Error in .local(x, y, ...): extents do not overlap\nTraceback:\n",
            "1. crop(r, target_extent)",
            "2. crop(r, target_extent)",
            "3. .local(x, y, ...)",
            "4. stop(\"extents do not overlap\")"
          ]
        }
      ]
    },
    {
      "cell_type": "code",
      "source": [
        "# Load all rasters\n",
        "rasters <- lapply(tif_files, raster)\n",
        "\n",
        "# Extract and print extents\n",
        "extents <- lapply(rasters, extent)\n",
        "print(extents)"
      ],
      "metadata": {
        "id": "uXJyv71jGTgv",
        "outputId": "f943dcdf-4fb8-4d5b-b17f-92e0345952f7",
        "colab": {
          "base_uri": "https://localhost:8080/"
        }
      },
      "execution_count": 85,
      "outputs": [
        {
          "output_type": "stream",
          "name": "stdout",
          "text": [
            "[[1]]\n",
            "class      : Extent \n",
            "xmin       : 753180 \n",
            "xmax       : 760194 \n",
            "ymin       : 2316960 \n",
            "ymax       : 2324382 \n",
            "\n",
            "[[2]]\n",
            "class      : Extent \n",
            "xmin       : 753288 \n",
            "xmax       : 760302 \n",
            "ymin       : 2310036 \n",
            "ymax       : 2317458 \n",
            "\n",
            "[[3]]\n",
            "class      : Extent \n",
            "xmin       : 753288 \n",
            "xmax       : 760302 \n",
            "ymin       : 2310036 \n",
            "ymax       : 2317458 \n",
            "\n",
            "[[4]]\n",
            "class      : Extent \n",
            "xmin       : 759792 \n",
            "xmax       : 766806 \n",
            "ymin       : 2310138 \n",
            "ymax       : 2317560 \n",
            "\n",
            "[[5]]\n",
            "class      : Extent \n",
            "xmin       : 759792 \n",
            "xmax       : 766806 \n",
            "ymin       : 2310138 \n",
            "ymax       : 2317560 \n",
            "\n",
            "[[6]]\n",
            "class      : Extent \n",
            "xmin       : 753498 \n",
            "xmax       : 760518 \n",
            "ymin       : 2296194 \n",
            "ymax       : 2303616 \n",
            "\n",
            "[[7]]\n",
            "class      : Extent \n",
            "xmin       : 760008 \n",
            "xmax       : 767028 \n",
            "ymin       : 2296290 \n",
            "ymax       : 2303718 \n",
            "\n",
            "[[8]]\n",
            "class      : Extent \n",
            "xmin       : 714006 \n",
            "xmax       : 720996 \n",
            "ymin       : 2330250 \n",
            "ymax       : 2337660 \n",
            "\n",
            "[[9]]\n",
            "class      : Extent \n",
            "xmin       : 707514 \n",
            "xmax       : 714498 \n",
            "ymin       : 2330166 \n",
            "ymax       : 2337570 \n",
            "\n",
            "[[10]]\n",
            "class      : Extent \n",
            "xmin       : 714096 \n",
            "xmax       : 721086 \n",
            "ymin       : 2323332 \n",
            "ymax       : 2330736 \n",
            "\n",
            "[[11]]\n",
            "class      : Extent \n",
            "xmin       : 707604 \n",
            "xmax       : 714588 \n",
            "ymin       : 2323248 \n",
            "ymax       : 2330652 \n",
            "\n",
            "[[12]]\n",
            "class      : Extent \n",
            "xmin       : 720504 \n",
            "xmax       : 727494 \n",
            "ymin       : 2330334 \n",
            "ymax       : 2337744 \n",
            "\n",
            "[[13]]\n",
            "class      : Extent \n",
            "xmin       : 720594 \n",
            "xmax       : 727584 \n",
            "ymin       : 2323416 \n",
            "ymax       : 2330826 \n",
            "\n",
            "[[14]]\n",
            "class      : Extent \n",
            "xmin       : 603204 \n",
            "xmax       : 610116 \n",
            "ymin       : 2398368 \n",
            "ymax       : 2405736 \n",
            "\n",
            "[[15]]\n",
            "class      : Extent \n",
            "xmin       : 603246 \n",
            "xmax       : 610164 \n",
            "ymin       : 2391450 \n",
            "ymax       : 2398818 \n",
            "\n",
            "[[16]]\n",
            "class      : Extent \n",
            "xmin       : 609906 \n",
            "xmax       : 616830 \n",
            "ymin       : 2363820 \n",
            "ymax       : 2371188 \n",
            "\n",
            "[[17]]\n",
            "class      : Extent \n",
            "xmin       : 603426 \n",
            "xmax       : 610350 \n",
            "ymin       : 2363778 \n",
            "ymax       : 2371140 \n",
            "\n",
            "[[18]]\n",
            "class      : Extent \n",
            "xmin       : 622860 \n",
            "xmax       : 629790 \n",
            "ymin       : 2363916 \n",
            "ymax       : 2371284 \n",
            "\n",
            "[[19]]\n",
            "class      : Extent \n",
            "xmin       : 629334 \n",
            "xmax       : 636270 \n",
            "ymin       : 2363964 \n",
            "ymax       : 2371338 \n",
            "\n",
            "[[20]]\n",
            "class      : Extent \n",
            "xmin       : 609948 \n",
            "xmax       : 616884 \n",
            "ymin       : 2356902 \n",
            "ymax       : 2364270 \n",
            "\n",
            "[[21]]\n",
            "class      : Extent \n",
            "xmin       : 603468 \n",
            "xmax       : 610398 \n",
            "ymin       : 2356860 \n",
            "ymax       : 2364222 \n",
            "\n",
            "[[22]]\n",
            "class      : Extent \n",
            "xmin       : 622908 \n",
            "xmax       : 629850 \n",
            "ymin       : 2356998 \n",
            "ymax       : 2364366 \n",
            "\n",
            "[[23]]\n",
            "class      : Extent \n",
            "xmin       : 629388 \n",
            "xmax       : 636330 \n",
            "ymin       : 2357046 \n",
            "ymax       : 2364420 \n",
            "\n",
            "[[24]]\n",
            "class      : Extent \n",
            "xmin       : 688038 \n",
            "xmax       : 695010 \n",
            "ymin       : 2329932 \n",
            "ymax       : 2337330 \n",
            "\n",
            "[[25]]\n",
            "class      : Extent \n",
            "xmin       : 701022 \n",
            "xmax       : 708006 \n",
            "ymin       : 2330088 \n",
            "ymax       : 2337492 \n",
            "\n",
            "[[26]]\n",
            "class      : Extent \n",
            "xmin       : 694530 \n",
            "xmax       : 701508 \n",
            "ymin       : 2330010 \n",
            "ymax       : 2337408 \n",
            "\n",
            "[[27]]\n",
            "class      : Extent \n",
            "xmin       : 596742 \n",
            "xmax       : 603648 \n",
            "ymin       : 2398332 \n",
            "ymax       : 2405694 \n",
            "\n",
            "[[28]]\n",
            "class      : Extent \n",
            "xmin       : 596784 \n",
            "xmax       : 603696 \n",
            "ymin       : 2391414 \n",
            "ymax       : 2398770 \n",
            "\n",
            "[[29]]\n",
            "class      : Extent \n",
            "xmin       : 583884 \n",
            "xmax       : 590796 \n",
            "ymin       : 2384424 \n",
            "ymax       : 2391774 \n",
            "\n",
            "[[30]]\n",
            "class      : Extent \n",
            "xmin       : 583920 \n",
            "xmax       : 590838 \n",
            "ymin       : 2377506 \n",
            "ymax       : 2384856 \n",
            "\n",
            "[[31]]\n",
            "class      : Extent \n",
            "xmin       : 590358 \n",
            "xmax       : 597270 \n",
            "ymin       : 2384454 \n",
            "ymax       : 2391816 \n",
            "\n",
            "[[32]]\n",
            "class      : Extent \n",
            "xmin       : 590394 \n",
            "xmax       : 597312 \n",
            "ymin       : 2377536 \n",
            "ymax       : 2384898 \n",
            "\n",
            "[[33]]\n",
            "class      : Extent \n",
            "xmin       : 596946 \n",
            "xmax       : 603870 \n",
            "ymin       : 2363742 \n",
            "ymax       : 2371098 \n",
            "\n",
            "[[34]]\n",
            "class      : Extent \n",
            "xmin       : 596988 \n",
            "xmax       : 603918 \n",
            "ymin       : 2356824 \n",
            "ymax       : 2364180 \n",
            "\n",
            "[[35]]\n",
            "class      : Extent \n",
            "xmin       : 454620 \n",
            "xmax       : 461490 \n",
            "ymin       : 2425758 \n",
            "ymax       : 2433090 \n",
            "\n",
            "[[36]]\n",
            "class      : Extent \n",
            "xmin       : 454602 \n",
            "xmax       : 461478 \n",
            "ymin       : 2418840 \n",
            "ymax       : 2426172 \n",
            "\n",
            "[[37]]\n",
            "class      : Extent \n",
            "xmin       : 454602 \n",
            "xmax       : 461478 \n",
            "ymin       : 2418840 \n",
            "ymax       : 2426172 \n",
            "\n",
            "[[38]]\n",
            "class      : Extent \n",
            "xmin       : 461076 \n",
            "xmax       : 467946 \n",
            "ymin       : 2425740 \n",
            "ymax       : 2433078 \n",
            "\n",
            "[[39]]\n",
            "class      : Extent \n",
            "xmin       : 461058 \n",
            "xmax       : 467928 \n",
            "ymin       : 2418822 \n",
            "ymax       : 2426160 \n",
            "\n",
            "[[40]]\n",
            "class      : Extent \n",
            "xmin       : 441816 \n",
            "xmax       : 448680 \n",
            "ymin       : 2453466 \n",
            "ymax       : 2460810 \n",
            "\n",
            "[[41]]\n",
            "class      : Extent \n",
            "xmin       : 441786 \n",
            "xmax       : 448656 \n",
            "ymin       : 2446548 \n",
            "ymax       : 2453892 \n",
            "\n",
            "[[42]]\n",
            "class      : Extent \n",
            "xmin       : 441786 \n",
            "xmax       : 448656 \n",
            "ymin       : 2446548 \n",
            "ymax       : 2453892 \n",
            "\n",
            "[[43]]\n",
            "class      : Extent \n",
            "xmin       : 448254 \n",
            "xmax       : 455124 \n",
            "ymin       : 2453442 \n",
            "ymax       : 2460786 \n",
            "\n",
            "[[44]]\n",
            "class      : Extent \n",
            "xmin       : 448236 \n",
            "xmax       : 455100 \n",
            "ymin       : 2446524 \n",
            "ymax       : 2453868 \n",
            "\n",
            "[[45]]\n",
            "class      : Extent \n",
            "xmin       : 467568 \n",
            "xmax       : 474432 \n",
            "ymin       : 2446482 \n",
            "ymax       : 2453814 \n",
            "\n",
            "[[46]]\n",
            "class      : Extent \n",
            "xmin       : 461124 \n",
            "xmax       : 467988 \n",
            "ymin       : 2446494 \n",
            "ymax       : 2453832 \n",
            "\n",
            "[[47]]\n",
            "class      : Extent \n",
            "xmin       : 467556 \n",
            "xmax       : 474420 \n",
            "ymin       : 2439564 \n",
            "ymax       : 2446896 \n",
            "\n",
            "[[48]]\n",
            "class      : Extent \n",
            "xmin       : 461106 \n",
            "xmax       : 467970 \n",
            "ymin       : 2439576 \n",
            "ymax       : 2446914 \n",
            "\n",
            "[[49]]\n",
            "class      : Extent \n",
            "xmin       : 467544 \n",
            "xmax       : 474408 \n",
            "ymin       : 2432646 \n",
            "ymax       : 2439978 \n",
            "\n",
            "[[50]]\n",
            "class      : Extent \n",
            "xmin       : 461088 \n",
            "xmax       : 467958 \n",
            "ymin       : 2432658 \n",
            "ymax       : 2439996 \n",
            "\n"
          ]
        }
      ]
    },
    {
      "cell_type": "code",
      "source": [
        "# Check if hawaii_naip is a RasterLayer, RasterBrick, or RasterStack\n",
        "if (class(hawaii_naip) %in% c(\"RasterLayer\", \"RasterBrick\", \"RasterStack\")) {\n",
        "  # Convert Raster* to SpatialPixelsDataFrame then to an sf object\n",
        "  hawaii_naip_sf <- st_as_sf(as(hawaii_naip, \"SpatialPixelsDataFrame\"))\n",
        "} else {\n",
        "  # If hawaii_naip is already an sf object, use it directly\n",
        "  hawaii_naip_sf <- hawaii_naip\n",
        "}"
      ],
      "metadata": {
        "id": "YXubPWFQ9XZX",
        "outputId": "f11a86db-4729-4c61-e64c-390465bd0243",
        "colab": {
          "base_uri": "https://localhost:8080/",
          "height": 488
        }
      },
      "execution_count": 72,
      "outputs": [
        {
          "output_type": "stream",
          "name": "stderr",
          "text": [
            "Warning message in x@cpp$readValues(row - 1, nrows, col - 1, ncols):\n",
            "“GDAL Error 4: /content/HI_2021_NAIP/./m_2215951_ne_04_060_20220128.tif: No such file or directory”\n"
          ]
        },
        {
          "output_type": "error",
          "ename": "ERROR",
          "evalue": "Error: [readValues] cannot read values\n",
          "traceback": [
            "Error: [readValues] cannot read values\nTraceback:\n",
            "1. st_as_sf(as(hawaii_naip, \"SpatialPixelsDataFrame\"))   # at line 4 of file <text>",
            "2. as(hawaii_naip, \"SpatialPixelsDataFrame\")",
            "3. asMethod(object)",
            "4. rasterToPoints(from, fun = NULL, spatial = FALSE)",
            "5. cbind(rep(X, tr$nrows[i]), rep(Y[r], each = ncol(x)), getValues(x, \n .     row = tr$row[i], nrows = tr$nrows[i]))",
            "6. getValues(x, row = tr$row[i], nrows = tr$nrows[i])",
            "7. getValues(x, row = tr$row[i], nrows = tr$nrows[i])",
            "8. .local(x, row, nrows, ...)",
            "9. getValues(x@layers[[i]], row, nrows)",
            "10. getValues(x@layers[[i]], row, nrows)",
            "11. .local(x, row, nrows, ...)",
            "12. .readRasterLayerValues(x, row, nrows)",
            "13. readValues(object, startrow, nrows, startcol, ncols, mat = FALSE, \n  .     dataframe = FALSE)",
            "14. readValues(object, startrow, nrows, startcol, ncols, mat = FALSE, \n  .     dataframe = FALSE)",
            "15. .local(x, ...)",
            "16. messages(x, \"readValues\")",
            "17. error(f, x@cpp$getError())",
            "18. stop(\"[\", f, \"] \", emsg, ..., call. = FALSE)"
          ]
        }
      ]
    },
    {
      "cell_type": "code",
      "source": [],
      "metadata": {
        "id": "yb7EWqDF9XV6"
      },
      "execution_count": null,
      "outputs": []
    },
    {
      "cell_type": "code",
      "source": [],
      "metadata": {
        "id": "98K8IwfJ9XTt"
      },
      "execution_count": null,
      "outputs": []
    },
    {
      "cell_type": "code",
      "source": [
        "# go through each wetland, one at a time. wetlands_sample is imagery dataset.\n",
        "# translate dem gpkg\n",
        "\n",
        "1:nrow(wetlands_gpkg) %>%\n",
        "  lapply(function(y){\n",
        "wetlands_sample <- wetlands_gpkg[y,] %>% st_transform(st_crs(hawaii_naip)) %>% crop(hawaii_naip,.)\n",
        "dem_loc_gpkg <- dem_gpkg %>% st_as_sf %>% st_transform(st_crs(wetlands_gpkg[y,])) %>% st_intersection(wetlands_gpkg[y,])\n",
        "dem_load_tif <- dem_loc_gpkg$path %>% raster %>% crop(., wetlands_fishnet_gpkg[y,] %>% st_transform(st_crs(dem_load_tif)))\n",
        "nlcd_load_tif <- nlcd_tif %>% crop(., wetlands_fishnet_gpkg[y,] %>% st_transform(st_crs(nlcd_tif)))\n",
        "wetlands_fishnet_gpkg <- wetlands_gpkg[y,] %>% st_transform(st_crs(hawaii_naip)) %>% st_make_grid(cellsize =c(76.8,76.8)) %>% st_as_sf\n",
        "# file.remove(paste0('/content/output_fishnets/',wetlands_sample$layer[1],'.gpkg'))\n",
        "st_write(wetlands_fishnet_gpkg,paste0('/content/output_fishnets/',wetlands_gpkg$layer[y],'.gpkg'),delete_dsn=T,delete_layer = T)\n",
        "\n",
        "cl <- makeCluster(8)\n",
        "1:nrow(download_index_gpkg) %>%\n",
        "  parLapply(cl,.,function(x,wetlands_fishnet_gpkg,hawaii_naip,wetlands_sample,dem_load_tif,nlcd_load_tif,nwi_gpkg){\n",
        "\n",
        "library(raster)\n",
        "library(sf)\n",
        "library(fasterize)\n",
        "library(magrittr)\n",
        "library(googledrive)\n",
        "library(parallel)\n",
        "library(data.table)\n",
        "sample_chip <- wetlands_fishnet_gpkg[x,] %>% st_transform(st_crs(hawaii_naip)) %>% crop(wetlands_sample,.)\n",
        "sample_chip$dem <- projectRaster(dem_load_tif, sample_chip, method=\"ngb\")\n",
        "sample_chip$nlcd <- projectRaster(nlcd_load_tif, sample_chip, method=\"ngb\")\n",
        "nwi_gpkg$wetland_ty <- nwi_gpkg$wetland_ty %>% as.factor\n",
        "nwi_gpkg <- nwi_gpkg %>% st_transform(st_crs(sample_chip))\n",
        "sample_chip$class <- fasterize(\n",
        "nwi_gpkg,\n",
        "sample_chip[[1]],\n",
        "field = 'wetland_ty',\n",
        "fun = \"first\")\n",
        "sample_chip$class_fill <-sample_chip$class\n",
        "values(sample_chip$class_fill)[is.na(values(sample_chip$class_fill))] <- values(sample_chip$nlcd)[is.na(values(sample_chip$class_fill))]\n",
        "values(sample_chip$class_fill)[is.na(values(sample_chip$class_fill))] <- 0\n",
        "values(sample_chip$dem)[is.na(values(sample_chip$dem))] <- 0\n",
        "values(sample_chip$nlcd)[is.na(values(sample_chip$nlcd))] <- 0\n",
        "values(sample_chip$class)[is.na(values(sample_chip$class))] <- 0\n",
        "sample_chip  %>% writeRaster(paste0('output_chips/',(sample_chip %>% extent %>% round)[1],'_',(sample_chip %>% extent %>% round)[3],'.tif'),overwrite=T)\n",
        "\n",
        "  },wetlands_fishnet_gpkg,hawaii_naip,wetlands_sample,dem_load_tif,nlcd_load_tif,nwi_gpkg)\n",
        "stopCluster(cl)\n",
        "  })"
      ],
      "metadata": {
        "id": "r_028zA554bZ"
      },
      "execution_count": null,
      "outputs": []
    },
    {
      "cell_type": "markdown",
      "source": [
        "Zip files and save to drive"
      ],
      "metadata": {
        "id": "C59eMR9_DPoE"
      }
    },
    {
      "cell_type": "code",
      "source": [
        "# zip(zipfile = 'testZip', files = 'testDir/test.csv') #make this work\n",
        "zip(zipfile = \"/content/HI_2021_NAIP_4islands.zip\",\n",
        "    files = c(\"/content/HI_2021_NAIP\"))"
      ],
      "metadata": {
        "id": "mg6S8zDvVFVz"
      },
      "execution_count": 35,
      "outputs": []
    },
    {
      "cell_type": "code",
      "source": [
        "#put code here to upload to drive\n",
        "# save to https://drive.google.com/drive/folders/1rTT6ZCyV8gxQBZYt6kPVZ331ya5kP-aT?usp=drive_link\n",
        "drive_upload(media = \"/content/HI_2021_NAIP_4islands.zip\", path = as_id(\"1rTT6ZCyV8gxQBZYt6kPVZ331ya5kP-aT\"))"
      ],
      "metadata": {
        "id": "UqCOVY7pVNsM",
        "outputId": "8c4316be-97de-4f0b-fadd-8c8da6b3ef38",
        "colab": {
          "base_uri": "https://localhost:8080/"
        }
      },
      "execution_count": 36,
      "outputs": [
        {
          "output_type": "stream",
          "name": "stderr",
          "text": [
            "Local file:\n",
            "\n",
            "• \u001b[34m/content/HI_2021_NAIP_4islands.zip\u001b[39m\n",
            "\n",
            "Uploaded into Drive file:\n",
            "\n",
            "• \u001b[36mHI_2021_NAIP_4islands.zip\u001b[39m \u001b[90m<id: 1Ehz62pSNL26DOxEWN2czXIegAJwQ80kZ>\u001b[39m\n",
            "\n",
            "With MIME type:\n",
            "\n",
            "• \u001b[32mapplication/zip\u001b[39m\n",
            "\n"
          ]
        }
      ]
    }
  ]
}