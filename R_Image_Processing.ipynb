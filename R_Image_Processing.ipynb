{
  "nbformat": 4,
  "nbformat_minor": 0,
  "metadata": {
    "colab": {
      "provenance": [],
      "machine_shape": "hm",
      "include_colab_link": true
    },
    "kernelspec": {
      "name": "ir",
      "display_name": "R"
    },
    "language_info": {
      "name": "R"
    }
  },
  "cells": [
    {
      "cell_type": "markdown",
      "metadata": {
        "id": "view-in-github",
        "colab_type": "text"
      },
      "source": [
        "<a href=\"https://colab.research.google.com/github/MadmanMarble/MadmanMarble/blob/main/R_Image_Processing.ipynb\" target=\"_parent\"><img src=\"https://colab.research.google.com/assets/colab-badge.svg\" alt=\"Open In Colab\"/></a>"
      ]
    },
    {
      "cell_type": "code",
      "source": [
        "# Data\n",
        "# #Training\n",
        "# # #Labels\n",
        "# # #Images\n",
        "# #Validation\n",
        "# # #Labels\n",
        "# # #Images"
      ],
      "metadata": {
        "id": "3Jyn25BIhxN6"
      },
      "execution_count": null,
      "outputs": []
    },
    {
      "cell_type": "markdown",
      "source": [
        "Install Packages"
      ],
      "metadata": {
        "id": "EEOgMEmwAe1R"
      }
    },
    {
      "cell_type": "code",
      "execution_count": 1,
      "metadata": {
        "colab": {
          "base_uri": "https://localhost:8080/"
        },
        "id": "rqIPU5GJbz7Y",
        "outputId": "97002726-5064-43bb-aad4-51b7276001f6"
      },
      "outputs": [
        {
          "output_type": "stream",
          "name": "stderr",
          "text": [
            "Installing packages into ‘/usr/local/lib/R/site-library’\n",
            "(as ‘lib’ is unspecified)\n",
            "\n",
            "also installing the dependencies ‘proxy’, ‘e1071’, ‘sp’, ‘Rcpp’, ‘terra’, ‘classInt’, ‘s2’, ‘units’, ‘wk’, ‘RcppArmadillo’\n",
            "\n",
            "\n"
          ]
        }
      ],
      "source": [
        "install.packages(c('raster','sf','fasterize'))"
      ]
    },
    {
      "cell_type": "code",
      "source": [
        "install.packages(\"googledrive\")"
      ],
      "metadata": {
        "id": "TUmN_QDXjVlC",
        "outputId": "3d3c7a39-73f8-4aaf-b252-ecc020215a2f",
        "colab": {
          "base_uri": "https://localhost:8080/"
        }
      },
      "execution_count": 2,
      "outputs": [
        {
          "output_type": "stream",
          "name": "stderr",
          "text": [
            "Installing package into ‘/usr/local/lib/R/site-library’\n",
            "(as ‘lib’ is unspecified)\n",
            "\n"
          ]
        }
      ]
    },
    {
      "cell_type": "code",
      "source": [
        "install.packages(\"devtools\")\n",
        "\n",
        "devtools:::install_github(\"gearslaboratory/gdalUtils\")"
      ],
      "metadata": {
        "colab": {
          "base_uri": "https://localhost:8080/"
        },
        "id": "b9eGuuoazL10",
        "outputId": "5987f22a-c786-4ed4-dde4-28fe0e374640"
      },
      "execution_count": 3,
      "outputs": [
        {
          "output_type": "stream",
          "name": "stderr",
          "text": [
            "Installing package into ‘/usr/local/lib/R/site-library’\n",
            "(as ‘lib’ is unspecified)\n",
            "\n",
            "also installing the dependencies ‘httpuv’, ‘xtable’, ‘sourcetools’, ‘later’, ‘promises’, ‘shiny’, ‘downlit’, ‘htmlwidgets’, ‘miniUI’, ‘pkgdown’, ‘profvis’, ‘urlchecker’\n",
            "\n",
            "\n",
            "Downloading GitHub repo gearslaboratory/gdalUtils@HEAD\n",
            "\n"
          ]
        },
        {
          "output_type": "stream",
          "name": "stdout",
          "text": [
            "R.methodsS3 (NA -> 1.8.2 ) [CRAN]\n",
            "R.oo        (NA -> 1.26.0) [CRAN]\n",
            "iterators   (NA -> 1.0.14) [CRAN]\n",
            "R.utils     (NA -> 2.12.3) [CRAN]\n",
            "foreach     (NA -> 1.5.2 ) [CRAN]\n"
          ]
        },
        {
          "output_type": "stream",
          "name": "stderr",
          "text": [
            "Skipping 1 packages not available: rgdal\n",
            "\n",
            "Installing 6 packages: R.methodsS3, R.oo, iterators, rgdal, R.utils, foreach\n",
            "\n",
            "Installing packages into ‘/usr/local/lib/R/site-library’\n",
            "(as ‘lib’ is unspecified)\n",
            "\n",
            "Warning message:\n",
            "“package ‘rgdal’ is not available for this version of R\n",
            "\n",
            "A version of this package for your version of R might be available elsewhere,\n",
            "see the ideas at\n",
            "https://cran.r-project.org/doc/manuals/r-patched/R-admin.html#Installing-packages”\n"
          ]
        },
        {
          "output_type": "stream",
          "name": "stdout",
          "text": [
            "\u001b[36m──\u001b[39m \u001b[36mR CMD build\u001b[39m \u001b[36m─────────────────────────────────────────────────────────────────\u001b[39m\n",
            "* checking for file ‘/tmp/RtmpfLXr9E/remotes27778cb5ddd/gearslaboratory-gdalUtils-8872aaf/DESCRIPTION’ ... OK\n",
            "* preparing ‘gdalUtils’:\n",
            "* checking DESCRIPTION meta-information ... OK\n",
            "* checking for LF line-endings in source and make files and shell scripts\n",
            "* checking for empty or unneeded directories\n",
            "* building ‘gdalUtils_2.0.3.2.tar.gz’\n",
            "\n"
          ]
        },
        {
          "output_type": "stream",
          "name": "stderr",
          "text": [
            "Installing package into ‘/usr/local/lib/R/site-library’\n",
            "(as ‘lib’ is unspecified)\n",
            "\n",
            "Warning message in i.p(...):\n",
            "“installation of package ‘/tmp/RtmpfLXr9E/file27732a12eb7/gdalUtils_2.0.3.2.tar.gz’ had non-zero exit status”\n"
          ]
        }
      ]
    },
    {
      "cell_type": "markdown",
      "source": [
        "Load Libraries"
      ],
      "metadata": {
        "id": "yOfLLlTTAj-A"
      }
    },
    {
      "cell_type": "code",
      "source": [
        "library(raster)\n",
        "library(sf)\n",
        "library(fasterize)\n",
        "library(magrittr)\n",
        "library(googledrive)\n",
        "library(parallel)\n",
        "library(data.table)\n",
        "library(stringr)\n",
        "# library(gdalUtils)"
      ],
      "metadata": {
        "colab": {
          "base_uri": "https://localhost:8080/"
        },
        "id": "7Ro8y26OitYr",
        "outputId": "d5be101f-a048-44d3-f8c4-3887cd49fd32"
      },
      "execution_count": 4,
      "outputs": [
        {
          "output_type": "stream",
          "name": "stderr",
          "text": [
            "Loading required package: sp\n",
            "\n",
            "Linking to GEOS 3.11.1, GDAL 3.6.4, PROJ 9.1.1; sf_use_s2() is TRUE\n",
            "\n",
            "\n",
            "Attaching package: ‘fasterize’\n",
            "\n",
            "\n",
            "The following object is masked from ‘package:graphics’:\n",
            "\n",
            "    plot\n",
            "\n",
            "\n",
            "The following object is masked from ‘package:base’:\n",
            "\n",
            "    plot\n",
            "\n",
            "\n",
            "\n",
            "Attaching package: ‘magrittr’\n",
            "\n",
            "\n",
            "The following object is masked from ‘package:raster’:\n",
            "\n",
            "    extract\n",
            "\n",
            "\n",
            "\n",
            "Attaching package: ‘data.table’\n",
            "\n",
            "\n",
            "The following object is masked from ‘package:raster’:\n",
            "\n",
            "    shift\n",
            "\n",
            "\n"
          ]
        }
      ]
    },
    {
      "cell_type": "markdown",
      "source": [
        "Connect to Google Drive"
      ],
      "metadata": {
        "id": "5RSzFY4eAmqb"
      }
    },
    {
      "cell_type": "code",
      "source": [
        "drive_auth(use_oob = TRUE, cache = FALSE)"
      ],
      "metadata": {
        "colab": {
          "base_uri": "https://localhost:8080/"
        },
        "id": "8lpzsRZsiwKc",
        "outputId": "a751089e-2839-4475-df9c-813a44b23f46"
      },
      "execution_count": 5,
      "outputs": [
        {
          "output_type": "stream",
          "name": "stderr",
          "text": [
            "Please point your browser to the following url: \n",
            "\n",
            "https://accounts.google.com/o/oauth2/v2/auth?client_id=603366585132-frjlouoa3s2ono25d2l9ukvhlsrlnr7k.apps.googleusercontent.com&scope=https%3A%2F%2Fwww.googleapis.com%2Fauth%2Fdrive%20https%3A%2F%2Fwww.googleapis.com%2Fauth%2Fuserinfo.email&redirect_uri=https%3A%2F%2Fwww.tidyverse.org%2Fgoogle-callback%2F&response_type=code&state=b576452c70a320ab320811abee1b8dd7&access_type=offline&prompt=consent\n",
            "\n"
          ]
        },
        {
          "name": "stdout",
          "output_type": "stream",
          "text": [
            "Enter authorization code: eyJjb2RlIjoiNC8wQWZKb2hYbDdrRW1YX1lobkhwa0xsLWlDbkhrMjUzWHZkUzF5bkdQXzFPRXVydk1wS0h6STJvcDRQaFRmVXRYVG1fQmtCUSIsInN0YXRlIjoiYjU3NjQ1MmM3MGEzMjBhYjMyMDgxMWFiZWUxYjhkZDcifQ==\n"
          ]
        }
      ]
    },
    {
      "cell_type": "code",
      "source": [
        "dir.create('input_data')"
      ],
      "metadata": {
        "id": "4HqxMRL7qqdN"
      },
      "execution_count": 6,
      "outputs": []
    },
    {
      "cell_type": "code",
      "source": [
        "# https://drive.google.com/file/d/1thj0vGXN0xgXxI_XDY-hagp-gWHZCdaS/view?usp=drive_link\n",
        "drive_download(file = as_id('1thj0vGXN0xgXxI_XDY-hagp-gWHZCdaS'), path =  '/content/input_data/naip_index.zip', overwrite = FALSE)\n",
        "unzip(zipfile ='/content/input_data/naip_index.zip', exdir = \"/content/input_data/naip_index/\")\n",
        "naip_index_gpkg = st_read('/content/input_data/naip_index/tileindex_HI_NAIP_2021.shp')"
      ],
      "metadata": {
        "colab": {
          "base_uri": "https://localhost:8080/"
        },
        "id": "3YhBxPs1kYWr",
        "outputId": "f4160647-7e2c-4274-9b3d-ed511ad7c8ee"
      },
      "execution_count": 7,
      "outputs": [
        {
          "output_type": "stream",
          "name": "stderr",
          "text": [
            "File downloaded:\n",
            "\n",
            "• \u001b[36mtileindex_HI_NAIP_2021.zip\u001b[39m \u001b[90m<id: 1thj0vGXN0xgXxI_XDY-hagp-gWHZCdaS>\u001b[39m\n",
            "\n",
            "Saved locally as:\n",
            "\n",
            "• \u001b[34m/content/input_data/naip_index.zip\u001b[39m\n",
            "\n"
          ]
        },
        {
          "output_type": "stream",
          "name": "stdout",
          "text": [
            "Reading layer `tileindex_HI_NAIP_2021' from data source \n",
            "  `/content/input_data/naip_index/tileindex_HI_NAIP_2021.shp' \n",
            "  using driver `ESRI Shapefile'\n",
            "Simple feature collection with 611 features and 3 fields\n",
            "Geometry type: POLYGON\n",
            "Dimension:     XY\n",
            "Bounding box:  xmin: -160.3144 ymin: 18.8732 xmax: -154.7481 ymax: 22.25184\n",
            "Geodetic CRS:  NAD83\n"
          ]
        }
      ]
    },
    {
      "cell_type": "code",
      "source": [
        "# NWI wetlands for all islands\n",
        "# https://drive.google.com/file/d/1ozE_Ldpio1LJaH2WS9r9hqRAIBDV8TDF/view?usp=drive_link\n",
        "\n",
        "\n",
        "# NWI wetlands for the islands in UTM 4 (kauai, oahu, molokai, maui)\n",
        "# https://drive.google.com/file/d/1uKY_cwL8P_bir8T4VY3f-gKs4ZQQyYk9/view?usp=drive_link\n",
        "drive_download(file = as_id('1uKY_cwL8P_bir8T4VY3f-gKs4ZQQyYk9'), path =  '/content/input_data/NWI_wetlands.gpkg', overwrite = TRUE)\n",
        "nwi_gpkg = st_read('/content/input_data/NWI_wetlands.gpkg')"
      ],
      "metadata": {
        "colab": {
          "base_uri": "https://localhost:8080/"
        },
        "id": "kypOwbbTIDH9",
        "outputId": "60408c17-a70d-4179-86b0-e13fb213b870"
      },
      "execution_count": 8,
      "outputs": [
        {
          "output_type": "stream",
          "name": "stderr",
          "text": [
            "File downloaded:\n",
            "\n",
            "• \u001b[36mnwi_wetlands_4.gpkg\u001b[39m \u001b[90m<id: 1uKY_cwL8P_bir8T4VY3f-gKs4ZQQyYk9>\u001b[39m\n",
            "\n",
            "Saved locally as:\n",
            "\n",
            "• \u001b[34m/content/input_data/NWI_wetlands.gpkg\u001b[39m\n",
            "\n"
          ]
        },
        {
          "output_type": "stream",
          "name": "stdout",
          "text": [
            "Reading layer `nwi_wetlands' from data source \n",
            "  `/content/input_data/NWI_wetlands.gpkg' using driver `GPKG'\n",
            "Simple feature collection with 10866 features and 6 fields\n",
            "Geometry type: MULTIPOLYGON\n",
            "Dimension:     XY\n",
            "Bounding box:  xmin: 412977.7 ymin: 2263072 xmax: 820600.7 ymax: 2464465\n",
            "Projected CRS: WGS 84 / UTM zone 4N\n"
          ]
        }
      ]
    },
    {
      "cell_type": "code",
      "source": [
        "# AOI wetlands for all islands\n",
        "# https://drive.google.com/file/d/1cKHJ95tAkl0CSoNZkdO0w2wlaH6Wr_YZ/view?usp=drive_link\n",
        "# drive_download(file = as_id('1cKHJ95tAkl0CSoNZkdO0w2wlaH6Wr_YZ'), path =  '/content/input_data/wetlands.gpgk', overwrite = TRUE)\n",
        "\n",
        "\n",
        "# AOI wetlands for the islands in UTM 4 (kauai, oahu, molokai, maui)\n",
        "# https://drive.google.com/file/d/1AsyHxmJ7MUJHwEqXUG61OXQ6bz9mgvDH/view?usp=drive_link\n",
        "drive_download(file = as_id('1AsyHxmJ7MUJHwEqXUG61OXQ6bz9mgvDH'), path =  '/content/input_data/wetlands.gpgk', overwrite = TRUE)\n",
        "wetlands_gpkg = st_read('/content/input_data/wetlands.gpgk')"
      ],
      "metadata": {
        "colab": {
          "base_uri": "https://localhost:8080/"
        },
        "id": "ug0fFy8ttGHA",
        "outputId": "c5513ae5-caca-4996-e8f4-a0a12149cad3"
      },
      "execution_count": 9,
      "outputs": [
        {
          "output_type": "stream",
          "name": "stderr",
          "text": [
            "File downloaded:\n",
            "\n",
            "• \u001b[36maoi_wetland_4.gpkg\u001b[39m \u001b[90m<id: 1AsyHxmJ7MUJHwEqXUG61OXQ6bz9mgvDH>\u001b[39m\n",
            "\n",
            "Saved locally as:\n",
            "\n",
            "• \u001b[34m/content/input_data/wetlands.gpgk\u001b[39m\n",
            "\n",
            "Warning message in CPL_read_ogr(dsn, layer, query, as.character(options), quiet, :\n",
            "“GDAL Message 1: File /content/input_data/wetlands.gpgk has GPKG application_id, but non conformant file extension”\n"
          ]
        },
        {
          "output_type": "stream",
          "name": "stdout",
          "text": [
            "Reading layer `aoi_wetland_4' from data source `/content/input_data/wetlands.gpgk' using driver `GPKG'\n",
            "Simple feature collection with 16 features and 6 fields\n",
            "Geometry type: MULTIPOLYGON\n",
            "Dimension:     XY\n",
            "Bounding box:  xmin: 444046 ymin: 2299914 xmax: 766191.9 ymax: 2457336\n",
            "Projected CRS: WGS 84 / UTM zone 4N\n"
          ]
        }
      ]
    },
    {
      "cell_type": "code",
      "source": [
        "# NLCD for all islands\n",
        "# https://drive.google.com/file/d/1foSde5txo6hPvWp4kcQF8We2WTDqDpYh/view?usp=drive_link\n",
        "drive_download(file = as_id('1foSde5txo6hPvWp4kcQF8We2WTDqDpYh'), path =  '/content/input_data/nlcd_hi_2001', overwrite = TRUE)\n",
        "nlcd_tif <- raster('/content/input_data/nlcd_hi_2001')"
      ],
      "metadata": {
        "colab": {
          "base_uri": "https://localhost:8080/"
        },
        "id": "E0IWJ0GYKkRf",
        "outputId": "9fb927c2-99a2-405c-bd18-58ac7be1523a"
      },
      "execution_count": 10,
      "outputs": [
        {
          "output_type": "stream",
          "name": "stderr",
          "text": [
            "File downloaded:\n",
            "\n",
            "• \u001b[36mnlcd_hi_2001.tif\u001b[39m \u001b[90m<id: 1foSde5txo6hPvWp4kcQF8We2WTDqDpYh>\u001b[39m\n",
            "\n",
            "Saved locally as:\n",
            "\n",
            "• \u001b[34m/content/input_data/nlcd_hi_2001\u001b[39m\n",
            "\n"
          ]
        }
      ]
    },
    {
      "cell_type": "code",
      "source": [
        "download_index_gpkg <- naip_index_gpkg %>% st_intersection(wetlands_gpkg %>% st_transform(st_crs(naip_index_gpkg)))"
      ],
      "metadata": {
        "colab": {
          "base_uri": "https://localhost:8080/"
        },
        "id": "tK5RKiGktV7W",
        "outputId": "9c41ca68-444c-4dfd-df6a-4334836003a4"
      },
      "execution_count": 11,
      "outputs": [
        {
          "output_type": "stream",
          "name": "stderr",
          "text": [
            "Warning message:\n",
            "“attribute variables are assumed to be spatially constant throughout all geometries”\n"
          ]
        }
      ]
    },
    {
      "cell_type": "code",
      "source": [
        "download_index_gpkg$url %>% unique %>% length"
      ],
      "metadata": {
        "colab": {
          "base_uri": "https://localhost:8080/",
          "height": 34
        },
        "id": "HFWmwjGHwLhP",
        "outputId": "1aa31762-b57c-41bc-9be7-84b586603f2b"
      },
      "execution_count": 12,
      "outputs": [
        {
          "output_type": "display_data",
          "data": {
            "text/html": [
              "50"
            ],
            "text/markdown": "50",
            "text/latex": "50",
            "text/plain": [
              "[1] 50"
            ]
          },
          "metadata": {}
        }
      ]
    },
    {
      "cell_type": "code",
      "source": [
        "download_index_gpkg$path"
      ],
      "metadata": {
        "id": "HBvgz6TjIsIJ",
        "outputId": "183dd698-5196-4649-d85d-936455f24863",
        "colab": {
          "base_uri": "https://localhost:8080/",
          "height": 295
        }
      },
      "execution_count": 22,
      "outputs": [
        {
          "output_type": "display_data",
          "data": {
            "text/html": [
              "<style>\n",
              ".list-inline {list-style: none; margin:0; padding: 0}\n",
              ".list-inline>li {display: inline-block}\n",
              ".list-inline>li:not(:last-child)::after {content: \"\\00b7\"; padding: 0 .5ex}\n",
              "</style>\n",
              "<ol class=list-inline><li>'E:/Data/AOI_Shapefiles/kauai/anahola.shp'</li><li>'E:/Data/AOI_Shapefiles/kauai/anahola.shp'</li><li>'E:/Data/AOI_Shapefiles/oahu/haleiwa.shp'</li><li>'E:/Data/AOI_Shapefiles/oahu/haleiwa.shp'</li><li>'E:/Data/AOI_Shapefiles/oahu/haleiwa.shp'</li><li>'E:/Data/AOI_Shapefiles/oahu/haleiwa.shp'</li><li>'E:/Data/AOI_Shapefiles/kauai/hanalei.shp'</li><li>'E:/Data/AOI_Shapefiles/kauai/hanalei.shp'</li><li>'E:/Data/AOI_Shapefiles/kauai/hanalei.shp'</li><li>'E:/Data/AOI_Shapefiles/kauai/hanalei.shp'</li><li>'E:/Data/AOI_Shapefiles/kauai/hanalei.shp'</li><li>'E:/Data/AOI_Shapefiles/kauai/huleia.shp'</li><li>'E:/Data/AOI_Shapefiles/kauai/huleia.shp'</li><li>'E:/Data/AOI_Shapefiles/kauai/huleia.shp'</li><li>'E:/Data/AOI_Shapefiles/kauai/huleia.shp'</li><li>'E:/Data/AOI_Shapefiles/kauai/huleia.shp'</li><li>'E:/Data/AOI_Shapefiles/oahu/kahuku.shp'</li><li>'E:/Data/AOI_Shapefiles/oahu/kahuku.shp'</li><li>'E:/Data/AOI_Shapefiles/oahu/kahuku.shp'</li><li>'E:/Data/AOI_Shapefiles/oahu/kahuku.shp'</li><li>'E:/Data/AOI_Shapefiles/molokai/kakahaia.shp'</li><li>'E:/Data/AOI_Shapefiles/molokai/kakahaia.shp'</li><li>'E:/Data/AOI_Shapefiles/molokai/kakahaia.shp'</li><li>'E:/Data/AOI_Shapefiles/molokai/kakahaia.shp'</li><li>'E:/Data/AOI_Shapefiles/molokai/kaluaapuhi.shp'</li><li>'E:/Data/AOI_Shapefiles/molokai/kaluaapuhi.shp'</li><li>'E:/Data/AOI_Shapefiles/molokai/kaluaapuhi.shp'</li><li>'E:/Data/AOI_Shapefiles/molokai/kamalo.shp'</li><li>'E:/Data/AOI_Shapefiles/molokai/kamalo.shp'</li><li>'E:/Data/AOI_Shapefiles/molokai/kamalo.shp'</li><li>'E:/Data/AOI_Shapefiles/molokai/kamalo.shp'</li><li>'E:/Data/AOI_Shapefiles/maui/kanaha.shp'</li><li>'E:/Data/AOI_Shapefiles/maui/kanaha.shp'</li><li>'E:/Data/AOI_Shapefiles/oahu/kawainui_marsh.shp'</li><li>'E:/Data/AOI_Shapefiles/oahu/kawainui_marsh.shp'</li><li>'E:/Data/AOI_Shapefiles/oahu/kawainui_marsh.shp'</li><li>'E:/Data/AOI_Shapefiles/oahu/kawainui_marsh.shp'</li><li>'E:/Data/AOI_Shapefiles/maui/kealia.shp'</li><li>'E:/Data/AOI_Shapefiles/maui/kealia.shp'</li><li>'E:/Data/AOI_Shapefiles/kauai/lumahai.shp'</li><li>'E:/Data/AOI_Shapefiles/kauai/lumahai.shp'</li><li>'E:/Data/AOI_Shapefiles/kauai/lumahai.shp'</li><li>'E:/Data/AOI_Shapefiles/maui/paukukalo.shp'</li><li>'E:/Data/AOI_Shapefiles/maui/paukukalo.shp'</li><li>'E:/Data/AOI_Shapefiles/maui/paukukalo.shp'</li><li>'E:/Data/AOI_Shapefiles/maui/paukukalo.shp'</li><li>'E:/Data/AOI_Shapefiles/oahu/pearl_harbor.shp'</li><li>'E:/Data/AOI_Shapefiles/oahu/pearl_harbor.shp'</li><li>'E:/Data/AOI_Shapefiles/oahu/pearl_harbor.shp'</li><li>'E:/Data/AOI_Shapefiles/oahu/pearl_harbor.shp'</li><li>'E:/Data/AOI_Shapefiles/oahu/pearl_harbor.shp'</li><li>'E:/Data/AOI_Shapefiles/oahu/pearl_harbor.shp'</li><li>'E:/Data/AOI_Shapefiles/maui/waihee.shp'</li><li>'E:/Data/AOI_Shapefiles/maui/waihee.shp'</li><li>'E:/Data/AOI_Shapefiles/maui/waihee.shp'</li><li>'E:/Data/AOI_Shapefiles/kauai/wailua_opaekaa.shp'</li><li>'E:/Data/AOI_Shapefiles/kauai/wailua_opaekaa.shp'</li><li>'E:/Data/AOI_Shapefiles/kauai/wailua_opaekaa.shp'</li><li>'E:/Data/AOI_Shapefiles/kauai/wailua_opaekaa.shp'</li></ol>\n"
            ],
            "text/markdown": "1. 'E:/Data/AOI_Shapefiles/kauai/anahola.shp'\n2. 'E:/Data/AOI_Shapefiles/kauai/anahola.shp'\n3. 'E:/Data/AOI_Shapefiles/oahu/haleiwa.shp'\n4. 'E:/Data/AOI_Shapefiles/oahu/haleiwa.shp'\n5. 'E:/Data/AOI_Shapefiles/oahu/haleiwa.shp'\n6. 'E:/Data/AOI_Shapefiles/oahu/haleiwa.shp'\n7. 'E:/Data/AOI_Shapefiles/kauai/hanalei.shp'\n8. 'E:/Data/AOI_Shapefiles/kauai/hanalei.shp'\n9. 'E:/Data/AOI_Shapefiles/kauai/hanalei.shp'\n10. 'E:/Data/AOI_Shapefiles/kauai/hanalei.shp'\n11. 'E:/Data/AOI_Shapefiles/kauai/hanalei.shp'\n12. 'E:/Data/AOI_Shapefiles/kauai/huleia.shp'\n13. 'E:/Data/AOI_Shapefiles/kauai/huleia.shp'\n14. 'E:/Data/AOI_Shapefiles/kauai/huleia.shp'\n15. 'E:/Data/AOI_Shapefiles/kauai/huleia.shp'\n16. 'E:/Data/AOI_Shapefiles/kauai/huleia.shp'\n17. 'E:/Data/AOI_Shapefiles/oahu/kahuku.shp'\n18. 'E:/Data/AOI_Shapefiles/oahu/kahuku.shp'\n19. 'E:/Data/AOI_Shapefiles/oahu/kahuku.shp'\n20. 'E:/Data/AOI_Shapefiles/oahu/kahuku.shp'\n21. 'E:/Data/AOI_Shapefiles/molokai/kakahaia.shp'\n22. 'E:/Data/AOI_Shapefiles/molokai/kakahaia.shp'\n23. 'E:/Data/AOI_Shapefiles/molokai/kakahaia.shp'\n24. 'E:/Data/AOI_Shapefiles/molokai/kakahaia.shp'\n25. 'E:/Data/AOI_Shapefiles/molokai/kaluaapuhi.shp'\n26. 'E:/Data/AOI_Shapefiles/molokai/kaluaapuhi.shp'\n27. 'E:/Data/AOI_Shapefiles/molokai/kaluaapuhi.shp'\n28. 'E:/Data/AOI_Shapefiles/molokai/kamalo.shp'\n29. 'E:/Data/AOI_Shapefiles/molokai/kamalo.shp'\n30. 'E:/Data/AOI_Shapefiles/molokai/kamalo.shp'\n31. 'E:/Data/AOI_Shapefiles/molokai/kamalo.shp'\n32. 'E:/Data/AOI_Shapefiles/maui/kanaha.shp'\n33. 'E:/Data/AOI_Shapefiles/maui/kanaha.shp'\n34. 'E:/Data/AOI_Shapefiles/oahu/kawainui_marsh.shp'\n35. 'E:/Data/AOI_Shapefiles/oahu/kawainui_marsh.shp'\n36. 'E:/Data/AOI_Shapefiles/oahu/kawainui_marsh.shp'\n37. 'E:/Data/AOI_Shapefiles/oahu/kawainui_marsh.shp'\n38. 'E:/Data/AOI_Shapefiles/maui/kealia.shp'\n39. 'E:/Data/AOI_Shapefiles/maui/kealia.shp'\n40. 'E:/Data/AOI_Shapefiles/kauai/lumahai.shp'\n41. 'E:/Data/AOI_Shapefiles/kauai/lumahai.shp'\n42. 'E:/Data/AOI_Shapefiles/kauai/lumahai.shp'\n43. 'E:/Data/AOI_Shapefiles/maui/paukukalo.shp'\n44. 'E:/Data/AOI_Shapefiles/maui/paukukalo.shp'\n45. 'E:/Data/AOI_Shapefiles/maui/paukukalo.shp'\n46. 'E:/Data/AOI_Shapefiles/maui/paukukalo.shp'\n47. 'E:/Data/AOI_Shapefiles/oahu/pearl_harbor.shp'\n48. 'E:/Data/AOI_Shapefiles/oahu/pearl_harbor.shp'\n49. 'E:/Data/AOI_Shapefiles/oahu/pearl_harbor.shp'\n50. 'E:/Data/AOI_Shapefiles/oahu/pearl_harbor.shp'\n51. 'E:/Data/AOI_Shapefiles/oahu/pearl_harbor.shp'\n52. 'E:/Data/AOI_Shapefiles/oahu/pearl_harbor.shp'\n53. 'E:/Data/AOI_Shapefiles/maui/waihee.shp'\n54. 'E:/Data/AOI_Shapefiles/maui/waihee.shp'\n55. 'E:/Data/AOI_Shapefiles/maui/waihee.shp'\n56. 'E:/Data/AOI_Shapefiles/kauai/wailua_opaekaa.shp'\n57. 'E:/Data/AOI_Shapefiles/kauai/wailua_opaekaa.shp'\n58. 'E:/Data/AOI_Shapefiles/kauai/wailua_opaekaa.shp'\n59. 'E:/Data/AOI_Shapefiles/kauai/wailua_opaekaa.shp'\n\n\n",
            "text/latex": "\\begin{enumerate*}\n\\item 'E:/Data/AOI\\_Shapefiles/kauai/anahola.shp'\n\\item 'E:/Data/AOI\\_Shapefiles/kauai/anahola.shp'\n\\item 'E:/Data/AOI\\_Shapefiles/oahu/haleiwa.shp'\n\\item 'E:/Data/AOI\\_Shapefiles/oahu/haleiwa.shp'\n\\item 'E:/Data/AOI\\_Shapefiles/oahu/haleiwa.shp'\n\\item 'E:/Data/AOI\\_Shapefiles/oahu/haleiwa.shp'\n\\item 'E:/Data/AOI\\_Shapefiles/kauai/hanalei.shp'\n\\item 'E:/Data/AOI\\_Shapefiles/kauai/hanalei.shp'\n\\item 'E:/Data/AOI\\_Shapefiles/kauai/hanalei.shp'\n\\item 'E:/Data/AOI\\_Shapefiles/kauai/hanalei.shp'\n\\item 'E:/Data/AOI\\_Shapefiles/kauai/hanalei.shp'\n\\item 'E:/Data/AOI\\_Shapefiles/kauai/huleia.shp'\n\\item 'E:/Data/AOI\\_Shapefiles/kauai/huleia.shp'\n\\item 'E:/Data/AOI\\_Shapefiles/kauai/huleia.shp'\n\\item 'E:/Data/AOI\\_Shapefiles/kauai/huleia.shp'\n\\item 'E:/Data/AOI\\_Shapefiles/kauai/huleia.shp'\n\\item 'E:/Data/AOI\\_Shapefiles/oahu/kahuku.shp'\n\\item 'E:/Data/AOI\\_Shapefiles/oahu/kahuku.shp'\n\\item 'E:/Data/AOI\\_Shapefiles/oahu/kahuku.shp'\n\\item 'E:/Data/AOI\\_Shapefiles/oahu/kahuku.shp'\n\\item 'E:/Data/AOI\\_Shapefiles/molokai/kakahaia.shp'\n\\item 'E:/Data/AOI\\_Shapefiles/molokai/kakahaia.shp'\n\\item 'E:/Data/AOI\\_Shapefiles/molokai/kakahaia.shp'\n\\item 'E:/Data/AOI\\_Shapefiles/molokai/kakahaia.shp'\n\\item 'E:/Data/AOI\\_Shapefiles/molokai/kaluaapuhi.shp'\n\\item 'E:/Data/AOI\\_Shapefiles/molokai/kaluaapuhi.shp'\n\\item 'E:/Data/AOI\\_Shapefiles/molokai/kaluaapuhi.shp'\n\\item 'E:/Data/AOI\\_Shapefiles/molokai/kamalo.shp'\n\\item 'E:/Data/AOI\\_Shapefiles/molokai/kamalo.shp'\n\\item 'E:/Data/AOI\\_Shapefiles/molokai/kamalo.shp'\n\\item 'E:/Data/AOI\\_Shapefiles/molokai/kamalo.shp'\n\\item 'E:/Data/AOI\\_Shapefiles/maui/kanaha.shp'\n\\item 'E:/Data/AOI\\_Shapefiles/maui/kanaha.shp'\n\\item 'E:/Data/AOI\\_Shapefiles/oahu/kawainui\\_marsh.shp'\n\\item 'E:/Data/AOI\\_Shapefiles/oahu/kawainui\\_marsh.shp'\n\\item 'E:/Data/AOI\\_Shapefiles/oahu/kawainui\\_marsh.shp'\n\\item 'E:/Data/AOI\\_Shapefiles/oahu/kawainui\\_marsh.shp'\n\\item 'E:/Data/AOI\\_Shapefiles/maui/kealia.shp'\n\\item 'E:/Data/AOI\\_Shapefiles/maui/kealia.shp'\n\\item 'E:/Data/AOI\\_Shapefiles/kauai/lumahai.shp'\n\\item 'E:/Data/AOI\\_Shapefiles/kauai/lumahai.shp'\n\\item 'E:/Data/AOI\\_Shapefiles/kauai/lumahai.shp'\n\\item 'E:/Data/AOI\\_Shapefiles/maui/paukukalo.shp'\n\\item 'E:/Data/AOI\\_Shapefiles/maui/paukukalo.shp'\n\\item 'E:/Data/AOI\\_Shapefiles/maui/paukukalo.shp'\n\\item 'E:/Data/AOI\\_Shapefiles/maui/paukukalo.shp'\n\\item 'E:/Data/AOI\\_Shapefiles/oahu/pearl\\_harbor.shp'\n\\item 'E:/Data/AOI\\_Shapefiles/oahu/pearl\\_harbor.shp'\n\\item 'E:/Data/AOI\\_Shapefiles/oahu/pearl\\_harbor.shp'\n\\item 'E:/Data/AOI\\_Shapefiles/oahu/pearl\\_harbor.shp'\n\\item 'E:/Data/AOI\\_Shapefiles/oahu/pearl\\_harbor.shp'\n\\item 'E:/Data/AOI\\_Shapefiles/oahu/pearl\\_harbor.shp'\n\\item 'E:/Data/AOI\\_Shapefiles/maui/waihee.shp'\n\\item 'E:/Data/AOI\\_Shapefiles/maui/waihee.shp'\n\\item 'E:/Data/AOI\\_Shapefiles/maui/waihee.shp'\n\\item 'E:/Data/AOI\\_Shapefiles/kauai/wailua\\_opaekaa.shp'\n\\item 'E:/Data/AOI\\_Shapefiles/kauai/wailua\\_opaekaa.shp'\n\\item 'E:/Data/AOI\\_Shapefiles/kauai/wailua\\_opaekaa.shp'\n\\item 'E:/Data/AOI\\_Shapefiles/kauai/wailua\\_opaekaa.shp'\n\\end{enumerate*}\n",
            "text/plain": [
              " [1] \"E:/Data/AOI_Shapefiles/kauai/anahola.shp\"       \n",
              " [2] \"E:/Data/AOI_Shapefiles/kauai/anahola.shp\"       \n",
              " [3] \"E:/Data/AOI_Shapefiles/oahu/haleiwa.shp\"        \n",
              " [4] \"E:/Data/AOI_Shapefiles/oahu/haleiwa.shp\"        \n",
              " [5] \"E:/Data/AOI_Shapefiles/oahu/haleiwa.shp\"        \n",
              " [6] \"E:/Data/AOI_Shapefiles/oahu/haleiwa.shp\"        \n",
              " [7] \"E:/Data/AOI_Shapefiles/kauai/hanalei.shp\"       \n",
              " [8] \"E:/Data/AOI_Shapefiles/kauai/hanalei.shp\"       \n",
              " [9] \"E:/Data/AOI_Shapefiles/kauai/hanalei.shp\"       \n",
              "[10] \"E:/Data/AOI_Shapefiles/kauai/hanalei.shp\"       \n",
              "[11] \"E:/Data/AOI_Shapefiles/kauai/hanalei.shp\"       \n",
              "[12] \"E:/Data/AOI_Shapefiles/kauai/huleia.shp\"        \n",
              "[13] \"E:/Data/AOI_Shapefiles/kauai/huleia.shp\"        \n",
              "[14] \"E:/Data/AOI_Shapefiles/kauai/huleia.shp\"        \n",
              "[15] \"E:/Data/AOI_Shapefiles/kauai/huleia.shp\"        \n",
              "[16] \"E:/Data/AOI_Shapefiles/kauai/huleia.shp\"        \n",
              "[17] \"E:/Data/AOI_Shapefiles/oahu/kahuku.shp\"         \n",
              "[18] \"E:/Data/AOI_Shapefiles/oahu/kahuku.shp\"         \n",
              "[19] \"E:/Data/AOI_Shapefiles/oahu/kahuku.shp\"         \n",
              "[20] \"E:/Data/AOI_Shapefiles/oahu/kahuku.shp\"         \n",
              "[21] \"E:/Data/AOI_Shapefiles/molokai/kakahaia.shp\"    \n",
              "[22] \"E:/Data/AOI_Shapefiles/molokai/kakahaia.shp\"    \n",
              "[23] \"E:/Data/AOI_Shapefiles/molokai/kakahaia.shp\"    \n",
              "[24] \"E:/Data/AOI_Shapefiles/molokai/kakahaia.shp\"    \n",
              "[25] \"E:/Data/AOI_Shapefiles/molokai/kaluaapuhi.shp\"  \n",
              "[26] \"E:/Data/AOI_Shapefiles/molokai/kaluaapuhi.shp\"  \n",
              "[27] \"E:/Data/AOI_Shapefiles/molokai/kaluaapuhi.shp\"  \n",
              "[28] \"E:/Data/AOI_Shapefiles/molokai/kamalo.shp\"      \n",
              "[29] \"E:/Data/AOI_Shapefiles/molokai/kamalo.shp\"      \n",
              "[30] \"E:/Data/AOI_Shapefiles/molokai/kamalo.shp\"      \n",
              "[31] \"E:/Data/AOI_Shapefiles/molokai/kamalo.shp\"      \n",
              "[32] \"E:/Data/AOI_Shapefiles/maui/kanaha.shp\"         \n",
              "[33] \"E:/Data/AOI_Shapefiles/maui/kanaha.shp\"         \n",
              "[34] \"E:/Data/AOI_Shapefiles/oahu/kawainui_marsh.shp\" \n",
              "[35] \"E:/Data/AOI_Shapefiles/oahu/kawainui_marsh.shp\" \n",
              "[36] \"E:/Data/AOI_Shapefiles/oahu/kawainui_marsh.shp\" \n",
              "[37] \"E:/Data/AOI_Shapefiles/oahu/kawainui_marsh.shp\" \n",
              "[38] \"E:/Data/AOI_Shapefiles/maui/kealia.shp\"         \n",
              "[39] \"E:/Data/AOI_Shapefiles/maui/kealia.shp\"         \n",
              "[40] \"E:/Data/AOI_Shapefiles/kauai/lumahai.shp\"       \n",
              "[41] \"E:/Data/AOI_Shapefiles/kauai/lumahai.shp\"       \n",
              "[42] \"E:/Data/AOI_Shapefiles/kauai/lumahai.shp\"       \n",
              "[43] \"E:/Data/AOI_Shapefiles/maui/paukukalo.shp\"      \n",
              "[44] \"E:/Data/AOI_Shapefiles/maui/paukukalo.shp\"      \n",
              "[45] \"E:/Data/AOI_Shapefiles/maui/paukukalo.shp\"      \n",
              "[46] \"E:/Data/AOI_Shapefiles/maui/paukukalo.shp\"      \n",
              "[47] \"E:/Data/AOI_Shapefiles/oahu/pearl_harbor.shp\"   \n",
              "[48] \"E:/Data/AOI_Shapefiles/oahu/pearl_harbor.shp\"   \n",
              "[49] \"E:/Data/AOI_Shapefiles/oahu/pearl_harbor.shp\"   \n",
              "[50] \"E:/Data/AOI_Shapefiles/oahu/pearl_harbor.shp\"   \n",
              "[51] \"E:/Data/AOI_Shapefiles/oahu/pearl_harbor.shp\"   \n",
              "[52] \"E:/Data/AOI_Shapefiles/oahu/pearl_harbor.shp\"   \n",
              "[53] \"E:/Data/AOI_Shapefiles/maui/waihee.shp\"         \n",
              "[54] \"E:/Data/AOI_Shapefiles/maui/waihee.shp\"         \n",
              "[55] \"E:/Data/AOI_Shapefiles/maui/waihee.shp\"         \n",
              "[56] \"E:/Data/AOI_Shapefiles/kauai/wailua_opaekaa.shp\"\n",
              "[57] \"E:/Data/AOI_Shapefiles/kauai/wailua_opaekaa.shp\"\n",
              "[58] \"E:/Data/AOI_Shapefiles/kauai/wailua_opaekaa.shp\"\n",
              "[59] \"E:/Data/AOI_Shapefiles/kauai/wailua_opaekaa.shp\""
            ]
          },
          "metadata": {}
        }
      ]
    },
    {
      "cell_type": "code",
      "source": [
        "# wetlands_gpkg %>% plot"
      ],
      "metadata": {
        "id": "_AjIGmGguiel"
      },
      "execution_count": null,
      "outputs": []
    },
    {
      "cell_type": "code",
      "source": [
        "dir.create('HI_DEM')"
      ],
      "metadata": {
        "id": "hCGHjZ0u8sUW"
      },
      "execution_count": 13,
      "outputs": []
    },
    {
      "cell_type": "code",
      "source": [
        "#folder link to id\n",
        "# https://drive.google.com/drive/folders/15nbWHXZdDOZbt9gUuB9BUPeCXc2SoivB?usp=drive_link\n",
        "jp_folder = \"15nbWHXZdDOZbt9gUuB9BUPeCXc2SoivB\"\n",
        "folder_id = drive_get(as_id(jp_folder))\n",
        "print(folder_id)\n",
        "#find files in folder\n",
        "files = drive_ls(folder_id)\n",
        "\n",
        "#loop dirs and download files inside them\n",
        "for (i in seq_along(files$name)) {\n",
        "\n",
        "  i_dir <- files[i, ]\n",
        "    try({\n",
        "      drive_download(\n",
        "        as_id(i_dir$id[1]),\n",
        "        path = paste0('/content/HI_DEM/', i_dir$name[1])\n",
        "      )\n",
        "    })\n",
        "  }\n"
      ],
      "metadata": {
        "colab": {
          "base_uri": "https://localhost:8080/"
        },
        "id": "ey6PZID38sJJ",
        "outputId": "5f87c620-18cc-4d99-ab0e-a283f303f062"
      },
      "execution_count": 14,
      "outputs": [
        {
          "output_type": "stream",
          "name": "stdout",
          "text": [
            "\u001b[90m# A dribble: 1 × 3\u001b[39m\n",
            "  name  id                                drive_resource   \n",
            "  \u001b[3m\u001b[90m<chr>\u001b[39m\u001b[23m \u001b[3m\u001b[90m<drv_id>\u001b[39m\u001b[23m                          \u001b[3m\u001b[90m<list>\u001b[39m\u001b[23m           \n",
            "\u001b[90m1\u001b[39m dem   15nbWHXZdDOZbt9gUuB9BUPeCXc2SoivB \u001b[90m<named list [34]>\u001b[39m\n"
          ]
        },
        {
          "output_type": "stream",
          "name": "stderr",
          "text": [
            "File downloaded:\n",
            "\n",
            "• \u001b[36mmaui_10m.tif\u001b[39m \u001b[90m<id: 10dHshukbiMC3z7h4xWxeOdY7x6dtkOf2>\u001b[39m\n",
            "\n",
            "Saved locally as:\n",
            "\n",
            "• \u001b[34m/content/HI_DEM/maui_10m.tif\u001b[39m\n",
            "\n",
            "File downloaded:\n",
            "\n",
            "• \u001b[36mkauai_10m.tif\u001b[39m \u001b[90m<id: 17G_F8uiM6c-0qe24JPCGUZWMAp2uoIro>\u001b[39m\n",
            "\n",
            "Saved locally as:\n",
            "\n",
            "• \u001b[34m/content/HI_DEM/kauai_10m.tif\u001b[39m\n",
            "\n",
            "File downloaded:\n",
            "\n",
            "• \u001b[36moahu_10m.tif\u001b[39m \u001b[90m<id: 19_F1B-d5trv8iwBDBNKcLCWa19vnFvGI>\u001b[39m\n",
            "\n",
            "Saved locally as:\n",
            "\n",
            "• \u001b[34m/content/HI_DEM/oahu_10m.tif\u001b[39m\n",
            "\n",
            "File downloaded:\n",
            "\n",
            "• \u001b[36mmolokai_10m.tif\u001b[39m \u001b[90m<id: 14WqA4pNafauzjr2tlJUUJjYROsaH7uEX>\u001b[39m\n",
            "\n",
            "Saved locally as:\n",
            "\n",
            "• \u001b[34m/content/HI_DEM/molokai_10m.tif\u001b[39m\n",
            "\n"
          ]
        }
      ]
    },
    {
      "cell_type": "code",
      "source": [
        "# spatial polygon of each dem making the footprints of each dem.\n",
        "dem_gpkg <-\n",
        "\"/content/HI_DEM\" %>%\n",
        "  list.files(pattern='*.tif', full.names = T) %>%\n",
        "  # lapply(stack) %>%\n",
        "  # lapply(extent) %>%\n",
        "  lapply(function(x){\n",
        "    x_tif <- x %>% stack\n",
        "    x_gpkg <- x_tif %>% extent %>% as('SpatialPolygons') %>% st_as_sf(crs = st_crs(x_tif))\n",
        "    x_gpkg$path <- x\n",
        "    st_crs(x_gpkg) <- st_crs(x_tif)\n",
        "    x_gpkg %>% data.table %>% return\n",
        "    }) %>%\n",
        "  rbindlist()"
      ],
      "metadata": {
        "id": "FxWw8kckBINL"
      },
      "execution_count": 15,
      "outputs": []
    },
    {
      "cell_type": "code",
      "source": [
        "dir.create('HI_CCAP')"
      ],
      "metadata": {
        "id": "OIjZdcQMC0Zs"
      },
      "execution_count": 16,
      "outputs": []
    },
    {
      "cell_type": "code",
      "source": [
        "#folder link to id\n",
        "# https://drive.google.com/drive/folders/14fLGpMg2n9o6c8YmH4NSHc_ZQOC5MAuv?usp=drive_link\n",
        "jp_folder = \"14fLGpMg2n9o6c8YmH4NSHc_ZQOC5MAuv\"\n",
        "folder_id = drive_get(as_id(jp_folder))\n",
        "print(folder_id)\n",
        "#find files in folder\n",
        "files = drive_ls(folder_id)\n",
        "\n",
        "#loop dirs and download files inside them\n",
        "for (i in seq_along(files$name)) {\n",
        "\n",
        "  i_dir <- files[i, ]\n",
        "    try({\n",
        "      drive_download(\n",
        "        as_id(i_dir$id[1]),\n",
        "        path = paste0('/content/HI_CCAP/', i_dir$name[1])\n",
        "      )\n",
        "    })\n",
        "  }\n"
      ],
      "metadata": {
        "id": "B1dM5rBhC3Su",
        "outputId": "1e7e293b-5fae-41d1-fe17-acb64ba94b1f",
        "colab": {
          "base_uri": "https://localhost:8080/"
        }
      },
      "execution_count": 17,
      "outputs": [
        {
          "output_type": "stream",
          "name": "stdout",
          "text": [
            "\u001b[90m# A dribble: 1 × 3\u001b[39m\n",
            "  name  id                                drive_resource   \n",
            "  \u001b[3m\u001b[90m<chr>\u001b[39m\u001b[23m \u001b[3m\u001b[90m<drv_id>\u001b[39m\u001b[23m                          \u001b[3m\u001b[90m<list>\u001b[39m\u001b[23m           \n",
            "\u001b[90m1\u001b[39m ccap  14fLGpMg2n9o6c8YmH4NSHc_ZQOC5MAuv \u001b[90m<named list [34]>\u001b[39m\n"
          ]
        },
        {
          "output_type": "stream",
          "name": "stderr",
          "text": [
            "File downloaded:\n",
            "\n",
            "• \u001b[36mkauai_ccap_2010.tif\u001b[39m \u001b[90m<id: 1-9SuvnH-Ck4CMaAXqDQTbbLGKtfMUnxn>\u001b[39m\n",
            "\n",
            "Saved locally as:\n",
            "\n",
            "• \u001b[34m/content/HI_CCAP/kauai_ccap_2010.tif\u001b[39m\n",
            "\n",
            "File downloaded:\n",
            "\n",
            "• \u001b[36moahu_ccap_2010.tif\u001b[39m \u001b[90m<id: 1-5Q_qbss1zUnW1wcQlomRHehPemzy7HG>\u001b[39m\n",
            "\n",
            "Saved locally as:\n",
            "\n",
            "• \u001b[34m/content/HI_CCAP/oahu_ccap_2010.tif\u001b[39m\n",
            "\n",
            "File downloaded:\n",
            "\n",
            "• \u001b[36mmolokai_ccap_2010.tif\u001b[39m \u001b[90m<id: 1-2M0JNgYiVMINDoW2mAiWLX3H9kYz_Z->\u001b[39m\n",
            "\n",
            "Saved locally as:\n",
            "\n",
            "• \u001b[34m/content/HI_CCAP/molokai_ccap_2010.tif\u001b[39m\n",
            "\n",
            "File downloaded:\n",
            "\n",
            "• \u001b[36mmaui_ccap_2010.tif\u001b[39m \u001b[90m<id: 1--1nN7Gj_qx6iwPG8Jq5gZcGRA0uaOay>\u001b[39m\n",
            "\n",
            "Saved locally as:\n",
            "\n",
            "• \u001b[34m/content/HI_CCAP/maui_ccap_2010.tif\u001b[39m\n",
            "\n"
          ]
        }
      ]
    },
    {
      "cell_type": "code",
      "source": [
        "ccap_gpkg <-\n",
        "\"/content/HI_CCAP\" %>%\n",
        "  list.files(pattern='*.tif', full.names = T) %>%\n",
        "  # lapply(stack) %>%\n",
        "  # lapply(extent) %>%\n",
        "  lapply(function(x){\n",
        "    x_tif <- x %>% stack\n",
        "    x_gpkg <- x_tif %>% extent %>% as('SpatialPolygons') %>% st_as_sf(crs = st_crs(x_tif))\n",
        "    x_gpkg$path <- x\n",
        "    st_crs(x_gpkg) <- st_crs(x_tif)\n",
        "    x_gpkg %>% data.table %>% return\n",
        "    }) %>%\n",
        "  rbindlist()"
      ],
      "metadata": {
        "id": "7_pVzsnuDAyW"
      },
      "execution_count": 18,
      "outputs": []
    },
    {
      "cell_type": "code",
      "source": [
        "# dem_gpkg %>% st_as_sf %>% st_crs"
      ],
      "metadata": {
        "id": "CuAz7Mw7DPfP"
      },
      "execution_count": null,
      "outputs": []
    },
    {
      "cell_type": "code",
      "source": [
        "dir.create('HI_2021_NAIP')"
      ],
      "metadata": {
        "id": "IFiuE9CGw72R"
      },
      "execution_count": 19,
      "outputs": []
    },
    {
      "cell_type": "code",
      "source": [
        "(runif(1)*10) %>% round"
      ],
      "metadata": {
        "id": "LBFalJAfMVIx",
        "outputId": "ae3d0184-b9b6-4bf7-cf27-62dfb2831996",
        "colab": {
          "base_uri": "https://localhost:8080/",
          "height": 34
        }
      },
      "execution_count": 33,
      "outputs": [
        {
          "output_type": "display_data",
          "data": {
            "text/html": [
              "1"
            ],
            "text/markdown": "1",
            "text/latex": "1",
            "text/plain": [
              "[1] 1"
            ]
          },
          "metadata": {}
        }
      ]
    },
    {
      "cell_type": "code",
      "source": [
        "file.exists('/content/HI_2021_NAIP/m_2015604_se_04_060_20220108.tif')"
      ],
      "metadata": {
        "id": "OdUOssc9Olxx",
        "outputId": "2a4fb427-5832-4fdf-ff00-667e8c60d4f1",
        "colab": {
          "base_uri": "https://localhost:8080/",
          "height": 34
        }
      },
      "execution_count": 95,
      "outputs": [
        {
          "output_type": "display_data",
          "data": {
            "text/html": [
              "TRUE"
            ],
            "text/markdown": "TRUE",
            "text/latex": "TRUE",
            "text/plain": [
              "[1] TRUE"
            ]
          },
          "metadata": {}
        }
      ]
    },
    {
      "cell_type": "code",
      "source": [
        "download_index_gpkg[6,] %>% data.table()"
      ],
      "metadata": {
        "id": "D7p1pVI3ROop",
        "outputId": "6807bb71-f0a0-4627-c267-75b03c735eba",
        "colab": {
          "base_uri": "https://localhost:8080/",
          "height": 163
        }
      },
      "execution_count": 66,
      "outputs": [
        {
          "output_type": "error",
          "ename": "ERROR",
          "evalue": "Error in parse(text = x, srcfile = src): <text>:2:26: unexpected symbol\n1: # download_index_gpkg[6,] %>% data.table()\n2: download_index_gpkg[6, 0].to_dataframe\n                            ^\n",
          "traceback": [
            "Error in parse(text = x, srcfile = src): <text>:2:26: unexpected symbol\n1: # download_index_gpkg[6,] %>% data.table()\n2: download_index_gpkg[6, 0].to_dataframe\n                            ^\nTraceback:\n"
          ]
        }
      ]
    },
    {
      "cell_type": "code",
      "source": [
        "paste0(\"https://coast.noaa.gov/htdata/raster7/imagery/HI_NAIP_2021_9668/\",download_index_gpkg[5,]$location)\n",
        "\n",
        "  download.file(\n",
        "    paste0(\"https://coast.noaa.gov/htdata/raster7/imagery/HI_NAIP_2021_9668/\",download_index_gpkg[5,]$location),\n",
        "    # x_dt$url,\n",
        "     paste0('/content/HI_2021_NAIP/',download_index_gpkg[5,]$location,sep='') )"
      ],
      "metadata": {
        "id": "H3-90jCFT6a1",
        "outputId": "426435bb-f0ba-408e-f9d4-53999f1b177a",
        "colab": {
          "base_uri": "https://localhost:8080/",
          "height": 163
        }
      },
      "execution_count": 59,
      "outputs": [
        {
          "output_type": "error",
          "ename": "ERROR",
          "evalue": "Error in download_index_gpkg[5, ]: incorrect number of dimensions\n",
          "traceback": [
            "Error in download_index_gpkg[5, ]: incorrect number of dimensions\nTraceback:\n",
            "1. paste0(\"https://coast.noaa.gov/htdata/raster7/imagery/HI_NAIP_2021_9668/\", \n .     download_index_gpkg[5, ]$location)"
          ]
        }
      ]
    },
    {
      "cell_type": "code",
      "source": [
        "download.file('https://coast.noaa.gov/htdata/raster7/imagery/HI_NAIP_2021_9668/m_2115832_sw_04_060_20220211.tif')"
      ],
      "metadata": {
        "id": "D_J7DSSTby-o",
        "outputId": "4e55574a-3402-483c-e74e-79ce8e92607c",
        "colab": {
          "base_uri": "https://localhost:8080/",
          "height": 163
        }
      },
      "execution_count": 68,
      "outputs": [
        {
          "output_type": "error",
          "ename": "ERROR",
          "evalue": "Error in download.file(\"https://coast.noaa.gov/htdata/raster7/imagery/HI_NAIP_2021_9668/m_2115832_sw_04_060_20220211.tif\"): argument \"destfile\" is missing, with no default\n",
          "traceback": [
            "Error in download.file(\"https://coast.noaa.gov/htdata/raster7/imagery/HI_NAIP_2021_9668/m_2115832_sw_04_060_20220211.tif\"): argument \"destfile\" is missing, with no default\nTraceback:\n",
            "1. download.file(\"https://coast.noaa.gov/htdata/raster7/imagery/HI_NAIP_2021_9668/m_2115832_sw_04_060_20220211.tif\")"
          ]
        }
      ]
    },
    {
      "cell_type": "code",
      "source": [
        "# URL of the file to download\n",
        "file_url <- 'https://coast.noaa.gov/htdata/raster7/imagery/HI_NAIP_2021_9668/m_2115733_sw_04_060_20221215.tif'\n",
        "\n",
        "# Destination file path\n",
        "dest_file <- 'm_2115733_sw_04_060_20221215.tif'\n",
        "\n",
        "# Download the file with optimizations\n",
        "download.file(url = file_url,\n",
        "              destfile = dest_file,\n",
        "              method = \"libcurl\")\n",
        "              # extra = \"-#\",\n",
        "              # options = list(timeout = 3600)) # Set a long timeout, e.g., 1 hour\n",
        "\n",
        "# Note: The `extra = \"-#\"` option adds a progress bar for command line usage. If you're running this in an R environment\n",
        "# that does not support this kind of progress bar (e.g., some RStudio versions), you might want to remove it or adjust accordingly.\n"
      ],
      "metadata": {
        "id": "8xavDYprcp7D"
      },
      "execution_count": 84,
      "outputs": []
    },
    {
      "cell_type": "code",
      "source": [
        "# URL of the file to download\n",
        "file_url <- 'https://coast.noaa.gov/htdata/raster7/imagery/HI_NAIP_2021_9668/m_2115741_ne_04_060_20221215.tif'\n",
        "\n",
        "# Destination file path\n",
        "dest_file <- 'm_2115741_ne_04_060_20221215.tif'\n",
        "\n",
        "# Download the file with optimizations\n",
        "download.file(url = file_url,\n",
        "              destfile = dest_file,\n",
        "              method = \"libcurl\")"
      ],
      "metadata": {
        "id": "3JbsJehfeT0s"
      },
      "execution_count": 85,
      "outputs": []
    },
    {
      "cell_type": "code",
      "source": [
        "# URL of the file to download\n",
        "file_url <- 'https://coast.noaa.gov/htdata/raster7/imagery/HI_NAIP_2021_9668/m_2115741_nw_04_060_20221215.tif'\n",
        "\n",
        "# Destination file path\n",
        "dest_file <- 'm_2115741_nw_04_060_20221215.tif'\n",
        "\n",
        "# Download the file with optimizations\n",
        "download.file(url = file_url,\n",
        "              destfile = dest_file,\n",
        "              method = \"libcurl\")"
      ],
      "metadata": {
        "id": "Fk7BBQ-meUUQ"
      },
      "execution_count": 86,
      "outputs": []
    },
    {
      "cell_type": "code",
      "source": [
        "# URL of the file to download\n",
        "file_url <- 'https://coast.noaa.gov/htdata/raster7/imagery/HI_NAIP_2021_9668/m_2115840_se_04_060_20221215.tif'\n",
        "\n",
        "# Destination file path\n",
        "dest_file <- 'm_2115840_se_04_060_20221215.tif'\n",
        "\n",
        "# Download the file with optimizations\n",
        "download.file(url = file_url,\n",
        "              destfile = dest_file,\n",
        "              method = \"libcurl\")"
      ],
      "metadata": {
        "id": "zMqK9lneeU6E"
      },
      "execution_count": 87,
      "outputs": []
    },
    {
      "cell_type": "code",
      "source": [
        "# URL of the file to download\n",
        "file_url <- 'https://coast.noaa.gov/htdata/raster7/imagery/HI_NAIP_2021_9668/m_2015604_se_04_060_20220108.tif'\n",
        "\n",
        "# Destination file path\n",
        "dest_file <- 'm_2015604_se_04_060_20220108.tif'\n",
        "\n",
        "# Download the file with optimizations\n",
        "download.file(url = file_url,\n",
        "              destfile = dest_file,\n",
        "              method = \"libcurl\")"
      ],
      "metadata": {
        "id": "9l81EOkMeVrS"
      },
      "execution_count": 88,
      "outputs": []
    },
    {
      "cell_type": "code",
      "source": [
        "# URL of the file to download\n",
        "file_url <- 'https://coast.noaa.gov/htdata/raster7/imagery/HI_NAIP_2021_9668/m_2015604_se_04_060_20221214.tif'\n",
        "\n",
        "# Destination file path\n",
        "dest_file <- 'm_2015604_se_04_060_20221214.tif'\n",
        "\n",
        "# Download the file with optimizations\n",
        "download.file(url = file_url,\n",
        "              destfile = dest_file,\n",
        "              method = \"libcurl\")"
      ],
      "metadata": {
        "id": "r9xKGNPOeWHO"
      },
      "execution_count": 89,
      "outputs": []
    },
    {
      "cell_type": "code",
      "source": [
        "# URL of the file to download\n",
        "file_url <- 'https://coast.noaa.gov/htdata/raster7/imagery/HI_NAIP_2021_9668/m_2215962_ne_04_060_20220321.tif'\n",
        "\n",
        "# Destination file path\n",
        "dest_file <- 'm_2215962_ne_04_060_20220321.tif'\n",
        "\n",
        "# Download the file with optimizations\n",
        "download.file(url = file_url,\n",
        "              destfile = dest_file,\n",
        "              method = \"libcurl\")"
      ],
      "metadata": {
        "id": "gndzU-IJeWf2"
      },
      "execution_count": 90,
      "outputs": []
    },
    {
      "cell_type": "code",
      "source": [
        "# URL of the file to download\n",
        "file_url <- 'https://coast.noaa.gov/htdata/raster7/imagery/HI_NAIP_2021_9668/m_2215962_nw_04_060_20220321.tif'\n",
        "\n",
        "# Destination file path\n",
        "dest_file <- 'm_2215962_nw_04_060_20220321.tif'\n",
        "\n",
        "# Download the file with optimizations\n",
        "download.file(url = file_url,\n",
        "              destfile = dest_file,\n",
        "              method = \"libcurl\")"
      ],
      "metadata": {
        "id": "SsHF0IB6eW46"
      },
      "execution_count": 91,
      "outputs": []
    },
    {
      "cell_type": "code",
      "source": [
        "# URL of the file to download\n",
        "file_url <- 'https://coast.noaa.gov/htdata/raster7/imagery/HI_NAIP_2021_9668/m_2215962_se_04_060_20220321.tif'\n",
        "\n",
        "# Destination file path\n",
        "dest_file <- 'm_2215962_se_04_060_20220321.tif'\n",
        "\n",
        "# Download the file with optimizations\n",
        "download.file(url = file_url,\n",
        "              destfile = dest_file,\n",
        "              method = \"libcurl\")"
      ],
      "metadata": {
        "id": "-tFlluMCeXQy"
      },
      "execution_count": 92,
      "outputs": []
    },
    {
      "cell_type": "code",
      "source": [
        "# URL of the file to download\n",
        "file_url <- 'https://coast.noaa.gov/htdata/raster7/imagery/HI_NAIP_2021_9668/m_2215962_sw_04_060_20220321.tif'\n",
        "\n",
        "# Destination file path\n",
        "dest_file <- 'm_2215962_sw_04_060_20220321.tif'\n",
        "\n",
        "# Download the file with optimizations\n",
        "download.file(url = file_url,\n",
        "              destfile = dest_file,\n",
        "              method = \"libcurl\")"
      ],
      "metadata": {
        "id": "WC-WxptteXmo"
      },
      "execution_count": 93,
      "outputs": []
    },
    {
      "cell_type": "code",
      "source": [
        "stoppdidue"
      ],
      "metadata": {
        "id": "nv6fMMN8ekZA",
        "outputId": "1e763980-97a9-4b1b-b7bf-682998146156",
        "colab": {
          "base_uri": "https://localhost:8080/",
          "height": 108
        }
      },
      "execution_count": 94,
      "outputs": [
        {
          "output_type": "error",
          "ename": "ERROR",
          "evalue": "Error in eval(expr, envir, enclos): object 'stoppdidue' not found\n",
          "traceback": [
            "Error in eval(expr, envir, enclos): object 'stoppdidue' not found\nTraceback:\n"
          ]
        }
      ]
    },
    {
      "cell_type": "code",
      "source": [
        "cl <- makeCluster(8)\n",
        "1:nrow(download_index_gpkg) %>%\n",
        "  # parLapply(cl,.,function(x,download_index_gpkg){\n",
        "  lapply(function(x){\n",
        "  library(magrittr)\n",
        "  x_dt <- download_index_gpkg[x,]\n",
        "  Sys.sleep((runif(1)*10) %>% round)\n",
        "\n",
        "  if(!file.exists(paste0('/content/HI_2021_NAIP/',x_dt$location,sep=''))){\n",
        "   tryCatch({\n",
        "  download.file(\n",
        "    paste0(\"https://coast.noaa.gov/htdata/raster7/imagery/HI_NAIP_2021_9668/\",x_dt$location),\n",
        "    # x_dt$url,\n",
        "     paste0('/content/HI_2021_NAIP/',x_dt$location,sep='') )\n",
        "   },error={return( paste0('/content/HI_2021_NAIP/',x_dt$location,sep=''))})\n",
        "  }\n",
        "  # },download_index_gpkg)\n",
        "  })\n",
        "stopCluster(cl)"
      ],
      "metadata": {
        "colab": {
          "base_uri": "https://localhost:8080/",
          "height": 711
        },
        "id": "vsGwTn7FweoF",
        "outputId": "b580000f-ff3e-408e-aa30-cd896cf1ef58"
      },
      "execution_count": 96,
      "outputs": [
        {
          "output_type": "error",
          "ename": "ERROR",
          "evalue": "Error in 1:nrow(download_index_gpkg): argument of length 0\n",
          "traceback": [
            "Error in 1:nrow(download_index_gpkg): argument of length 0\nTraceback:\n",
            "1. 1:nrow(download_index_gpkg) %>% lapply(function(x) {\n .     library(magrittr)\n .     x_dt <- download_index_gpkg[x, ]\n .     Sys.sleep((runif(1) * 10) %>% round)\n .     if (!file.exists(paste0(\"/content/HI_2021_NAIP/\", x_dt$location, \n .         sep = \"\"))) {\n .         tryCatch({\n .             download.file(paste0(\"https://coast.noaa.gov/htdata/raster7/imagery/HI_NAIP_2021_9668/\", \n .                 x_dt$location), paste0(\"/content/HI_2021_NAIP/\", \n .                 x_dt$location, sep = \"\"))\n .         }, error = {\n .             return(paste0(\"/content/HI_2021_NAIP/\", x_dt$location, \n .                 sep = \"\"))\n .         })\n .     }\n . })",
            "2. lapply(., function(x) {\n .     library(magrittr)\n .     x_dt <- download_index_gpkg[x, ]\n .     Sys.sleep((runif(1) * 10) %>% round)\n .     if (!file.exists(paste0(\"/content/HI_2021_NAIP/\", x_dt$location, \n .         sep = \"\"))) {\n .         tryCatch({\n .             download.file(paste0(\"https://coast.noaa.gov/htdata/raster7/imagery/HI_NAIP_2021_9668/\", \n .                 x_dt$location), paste0(\"/content/HI_2021_NAIP/\", \n .                 x_dt$location, sep = \"\"))\n .         }, error = {\n .             return(paste0(\"/content/HI_2021_NAIP/\", x_dt$location, \n .                 sep = \"\"))\n .         })\n .     }\n . })"
          ]
        }
      ]
    },
    {
      "cell_type": "code",
      "source": [
        "# Load necessary libraries\n",
        "library(parallel)\n",
        "library(magrittr)\n",
        "# Assuming download_index_gpkg is a vector of file names or URLs\n",
        "download_index_gpkg <- c(\"m_2115832_sw_04_060_20220211.tif\", \"m_2215953_sw_04_060_20220321.tif\") # Replace with your actual files or URLs\n",
        "\n",
        "# Define the base URL if the files are identified by names that need to be appended to a base URL\n",
        "base_url <- \"https://coast.noaa.gov/htdata/raster7/imagery/HI_NAIP_2021_9668/\"\n",
        "\n",
        "# Define the directory where files will be saved\n",
        "save_directory <- \"/content/HI_2021_NAIP\"\n",
        "\n",
        "# Ensure the save directory exists\n",
        "if(!dir.exists(save_directory)) {\n",
        "  dir.create(save_directory, recursive = TRUE)\n",
        "}\n",
        "library(magrittr)\n",
        "# Define the download function with checks for existing files and randomized sleep\n",
        "download_file <- function(file_name) {\n",
        "  # Full URL of the file to download\n",
        "  full_url <- paste0(base_url, file_name)\n",
        "\n",
        "  # Destination file path\n",
        "  dest_file_path <- paste0(save_directory, file_name)\n",
        "\n",
        "  # Check if the file already exists\n",
        "  if(!file.exists(dest_file_path)) {\n",
        "    # Randomized sleep to reduce load on the server\n",
        "    Sys.sleep(runif(1, 0, 10) %>% round)\n",
        "\n",
        "    # Download the file\n",
        "    download.file(full_url, dest_file_path, mode = \"wb\")\n",
        "\n",
        "    return(paste(\"Downloaded\", file_name))\n",
        "  } else {\n",
        "    return(paste(\"Skipped\", file_name, \"- already exists\"))\n",
        "  }\n",
        "}\n",
        "\n",
        "# Set up parallel computing\n",
        "num_cores <- 8\n",
        "cl <- makeCluster(num_cores)\n",
        "library(magrittr)\n",
        "# Export necessary variables and functions to the cluster\n",
        "clusterExport(cl, varlist = c(\"download_file\", \"base_url\", \"save_directory\"), envir = environment())\n",
        "\n",
        "# Execute the download in parallel\n",
        "result <- parLapply(cl, download_index_gpkg, download_file)\n",
        "\n",
        "# Stop the cluster\n",
        "stopCluster(cl)\n",
        "\n",
        "# Print result to see which files were downloaded or skipped\n",
        "print(result)\n"
      ],
      "metadata": {
        "id": "s6coZn6yZP64"
      },
      "execution_count": null,
      "outputs": []
    },
    {
      "cell_type": "code",
      "source": [
        "download.file('https://coast.noaa.gov/htdata/raster7/imagery/HI_NAIP_2021_9668/HI_NAIP_2021_EPSG-26904.vrt', paste('/content/HI_2021_NAIP/HI_NAIP_2021_EPSG-26904.vrt',sep=''))"
      ],
      "metadata": {
        "id": "CbvR1zxT0zzA"
      },
      "execution_count": null,
      "outputs": []
    },
    {
      "cell_type": "code",
      "source": [
        "hawaii_naip <- stack('/content/HI_2021_NAIP/HI_NAIP_2021_EPSG-26904.vrt')"
      ],
      "metadata": {
        "id": "W3qBfvrN1Kn8"
      },
      "execution_count": null,
      "outputs": []
    },
    {
      "cell_type": "code",
      "source": [
        "dir.create('output_fishnets')"
      ],
      "metadata": {
        "id": "8MNrBoimLMAp"
      },
      "execution_count": null,
      "outputs": []
    },
    {
      "cell_type": "code",
      "source": [
        "# go through each wetland, one at a time. wetlands_sample is imagery dataset.\n",
        "# translate dem gpkg\n",
        "\n",
        "1:nrow(wetlands_gpkg) %>%\n",
        "  lapply(function(y){\n",
        "wetlands_sample <- wetlands_gpkg[y,] %>% st_transform(st_crs(hawaii_naip)) %>% crop(hawaii_naip,.)\n",
        "dem_loc_gpkg <- dem_gpkg %>% st_as_sf %>% st_transform(st_crs(wetlands_gpkg[y,])) %>% st_intersection(wetlands_gpkg[y,])\n",
        "dem_load_tif <- dem_loc_gpkg$path %>% raster %>% crop(., wetlands_fishnnet_gpkg[y,] %>% st_transform(st_crs(dem_load_tif)))\n",
        "nlcd_load_tif <- nlcd_tif %>% crop(., wetlands_fishnnet_gpkg[y,] %>% st_transform(st_crs(nlcd_tif)))\n",
        "wetlands_fishnnet_gpkg <- wetlands_gpkg[y,] %>% st_transform(st_crs(hawaii_naip)) %>% st_make_grid(cellsize =c(76.8,76.8)) %>% st_as_sf\n",
        "# file.remove(paste0('/content/output_fishnets/',wetlands_sample$layer[1],'.gpkg'))\n",
        "st_write(wetlands_fishnnet_gpkg,paste0('/content/output_fishnets/',wetlands_gpkg$layer[y],'.gpkg'),delete_dsn=T,delete_layer = T)\n",
        "\n",
        "cl <- makeCluster(8)\n",
        "1:nrow(download_index_gpkg) %>%\n",
        "  parLapply(cl,.,function(x,wetlands_fishnnet_gpkg,hawaii_naip,wetlands_sample,dem_load_tif,nlcd_load_tif,nwi_gpkg){\n",
        "\n",
        "library(raster)\n",
        "library(sf)\n",
        "library(fasterize)\n",
        "library(magrittr)\n",
        "library(googledrive)\n",
        "library(parallel)\n",
        "library(data.table)\n",
        "sample_chip <- wetlands_fishnnet_gpkg[x,] %>% st_transform(st_crs(hawaii_naip)) %>% crop(wetlands_sample,.)\n",
        "sample_chip$dem <- projectRaster(dem_load_tif, sample_chip, method=\"ngb\")\n",
        "sample_chip$nlcd <- projectRaster(nlcd_load_tif, sample_chip, method=\"ngb\")\n",
        "nwi_gpkg$wetland_ty <- nwi_gpkg$wetland_ty %>% as.factor\n",
        "nwi_gpkg <- nwi_gpkg %>% st_transform(st_crs(sample_chip))\n",
        "sample_chip$class <- fasterize(\n",
        "nwi_gpkg,\n",
        "sample_chip[[1]],\n",
        "field = 'wetland_ty',\n",
        "fun = \"first\")\n",
        "sample_chip$class_fill <-sample_chip$class\n",
        "values(sample_chip$class_fill)[is.na(values(sample_chip$class_fill))] <- values(sample_chip$nlcd)[is.na(values(sample_chip$class_fill))]\n",
        "values(sample_chip$class_fill)[is.na(values(sample_chip$class_fill))] <- 0\n",
        "values(sample_chip$dem)[is.na(values(sample_chip$dem))] <- 0\n",
        "values(sample_chip$nlcd)[is.na(values(sample_chip$nlcd))] <- 0\n",
        "values(sample_chip$class)[is.na(values(sample_chip$class))] <- 0\n",
        "sample_chip  %>% writeRaster(paste0('output_chips/',(sample_chip %>% extent %>% round)[1],'_',(sample_chip %>% extent %>% round)[3],'.tif'),overwrite=T)\n",
        "\n",
        "  },wetlands_fishnnet_gpkg,hawaii_naip,wetlands_sample,dem_load_tif,nlcd_load_tif,nwi_gpkg)\n",
        "stopCluster(cl)\n",
        "  })"
      ],
      "metadata": {
        "id": "r_028zA554bZ"
      },
      "execution_count": null,
      "outputs": []
    },
    {
      "cell_type": "markdown",
      "source": [
        "Zip files and save to drive"
      ],
      "metadata": {
        "id": "C59eMR9_DPoE"
      }
    },
    {
      "cell_type": "code",
      "source": [
        "# zip(zipfile = 'testZip', files = 'testDir/test.csv') #make this work\n",
        "zip(zipfile = \"/content/testZip.zip\",\n",
        "    files = c(\"/content/testZip\"))"
      ],
      "metadata": {
        "id": "mg6S8zDvVFVz"
      },
      "execution_count": null,
      "outputs": []
    },
    {
      "cell_type": "code",
      "source": [
        "#put code here to upload to drive\n",
        "# save to processed_data https://drive.google.com/drive/folders/1CXLo3IfmEVgOIaKHtpaXiblhBePgl1fS?usp=drive_link\n",
        "drive_upload(media = \"/content/testZip.zip\", path = as_id(\"1CXLo3IfmEVgOIaKHtpaXiblhBePgl1fS\"))"
      ],
      "metadata": {
        "id": "UqCOVY7pVNsM"
      },
      "execution_count": null,
      "outputs": []
    }
  ]
}