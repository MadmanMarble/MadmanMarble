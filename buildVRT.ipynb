{
  "nbformat": 4,
  "nbformat_minor": 0,
  "metadata": {
    "colab": {
      "provenance": [],
      "mount_file_id": "15G36pZkacpcc0xah8b-X7iAKF0-qHbkt",
      "authorship_tag": "ABX9TyM3vg209e8kPzDaGiViZJZO",
      "include_colab_link": true
    },
    "kernelspec": {
      "name": "python3",
      "display_name": "Python 3"
    },
    "language_info": {
      "name": "python"
    }
  },
  "cells": [
    {
      "cell_type": "markdown",
      "metadata": {
        "id": "view-in-github",
        "colab_type": "text"
      },
      "source": [
        "<a href=\"https://colab.research.google.com/github/MadmanMarble/MadmanMarble/blob/main/buildVRT.ipynb\" target=\"_parent\"><img src=\"https://colab.research.google.com/assets/colab-badge.svg\" alt=\"Open In Colab\"/></a>"
      ]
    },
    {
      "cell_type": "code",
      "source": [
        "from osgeo import gdal\n",
        "import glob"
      ],
      "metadata": {
        "id": "8n8u0YLFVW2D"
      },
      "execution_count": 1,
      "outputs": []
    },
    {
      "cell_type": "code",
      "source": [
        "from google.colab import drive\n",
        "drive.mount('/content/drive')"
      ],
      "metadata": {
        "colab": {
          "base_uri": "https://localhost:8080/"
        },
        "id": "4Io4Uj7dWhPl",
        "outputId": "ab3fbd63-3bd0-4164-8dfa-cff340f8df78"
      },
      "execution_count": 2,
      "outputs": [
        {
          "output_type": "stream",
          "name": "stdout",
          "text": [
            "Mounted at /content/drive\n"
          ]
        }
      ]
    },
    {
      "cell_type": "code",
      "source": [
        "import os\n",
        "import shutil"
      ],
      "metadata": {
        "id": "iwCCmvjeaks5"
      },
      "execution_count": 3,
      "outputs": []
    },
    {
      "cell_type": "markdown",
      "source": [
        "build using chatgpt"
      ],
      "metadata": {
        "id": "ISlEcWbl8mWy"
      }
    },
    {
      "cell_type": "code",
      "source": [
        "# listf('/content/drive/MyDrive/DeepLearning_Project/Datasets/planet_2018_stack/',pattern = '*.tif')\n",
        "import os\n",
        "dir_path = '/content/drive/MyDrive/DeepLearning_Project/Datasets/planet_2018_stack/'\n",
        "[dir_path+f for f in os.listdir(dir_path) if f.endswith('.tif')]"
      ],
      "metadata": {
        "colab": {
          "base_uri": "https://localhost:8080/"
        },
        "id": "oHu8hSaCOHyw",
        "outputId": "384b5667-a953-4bdc-8257-700a04bcb2d3"
      },
      "execution_count": 6,
      "outputs": [
        {
          "output_type": "execute_result",
          "data": {
            "text/plain": [
              "['/content/drive/MyDrive/DeepLearning_Project/Datasets/planet_2018_stack/2018_anahola_stack.tif',\n",
              " '/content/drive/MyDrive/DeepLearning_Project/Datasets/planet_2018_stack/2018_haleiwa_stack.tif',\n",
              " '/content/drive/MyDrive/DeepLearning_Project/Datasets/planet_2018_stack/2018_hanalei_stack.tif',\n",
              " '/content/drive/MyDrive/DeepLearning_Project/Datasets/planet_2018_stack/2018_huleia_stack.tif',\n",
              " '/content/drive/MyDrive/DeepLearning_Project/Datasets/planet_2018_stack/2018_kahuku_stack.tif',\n",
              " '/content/drive/MyDrive/DeepLearning_Project/Datasets/planet_2018_stack/2018_kakahaia_stack.tif',\n",
              " '/content/drive/MyDrive/DeepLearning_Project/Datasets/planet_2018_stack/2018_kaluaapuhi_stack.tif',\n",
              " '/content/drive/MyDrive/DeepLearning_Project/Datasets/planet_2018_stack/2018_kamalo_stack.tif',\n",
              " '/content/drive/MyDrive/DeepLearning_Project/Datasets/planet_2018_stack/2018_kanaha_stack.tif',\n",
              " '/content/drive/MyDrive/DeepLearning_Project/Datasets/planet_2018_stack/2018_kawainui_stack.tif',\n",
              " '/content/drive/MyDrive/DeepLearning_Project/Datasets/planet_2018_stack/2018_kealia_stack.tif',\n",
              " '/content/drive/MyDrive/DeepLearning_Project/Datasets/planet_2018_stack/2018_lumahai_stack.tif',\n",
              " '/content/drive/MyDrive/DeepLearning_Project/Datasets/planet_2018_stack/2018_paukukalo_stack.tif',\n",
              " '/content/drive/MyDrive/DeepLearning_Project/Datasets/planet_2018_stack/2018_pearl_harbor_stack.tif',\n",
              " '/content/drive/MyDrive/DeepLearning_Project/Datasets/planet_2018_stack/2018_waihee_stack.tif',\n",
              " '/content/drive/MyDrive/DeepLearning_Project/Datasets/planet_2018_stack/2018_wailua_opaekaa_stack.tif']"
            ]
          },
          "metadata": {},
          "execution_count": 6
        }
      ]
    },
    {
      "cell_type": "code",
      "source": [
        "# List of your multi-band TIFF files\n",
        "\n",
        "\n",
        "dir_path = '/content/drive/MyDrive/DeepLearning_Project/Datasets/planet/2020_select_hawaii/'\n",
        "[dir_path+f for f in os.listdir(dir_path) if f.endswith('.tif')]\n",
        "\n",
        "\n",
        "tiff_files = [\n",
        "    dir_path+f for f in os.listdir(dir_path) if f.endswith('.tif')\n",
        "]\n",
        "\n",
        "# Path to the output VRT file\n",
        "output_vrt = '/content/drive/MyDrive/DeepLearning_Project/Datasets/planet/2020_select_hawaii/2020_select_hawaii_vrt.vrt'\n",
        "\n",
        "# Create VRT\n",
        "vrt_options = gdal.BuildVRTOptions(separate=False)  # Use separate=True for multi-band handling\n",
        "vrt = gdal.BuildVRT(output_vrt, tiff_files, options=vrt_options)\n",
        "vrt = None  # Close the VRT to flush to disk"
      ],
      "metadata": {
        "id": "Le84ilsI8ozv"
      },
      "execution_count": 17,
      "outputs": []
    },
    {
      "cell_type": "markdown",
      "source": [
        "end"
      ],
      "metadata": {
        "id": "4LyxiY3q8pCR"
      }
    },
    {
      "cell_type": "code",
      "source": [
        "# !unzip /content/drive/MyDrive/DeepLearning_Project/Datasets/naip_2021/HI_2021_NAIP_4islands.zip -d /content/drive/MyDrive/DeepLearning_Project/Datasets/naip_2021/"
      ],
      "metadata": {
        "id": "0A6DHahCAvV8"
      },
      "execution_count": null,
      "outputs": []
    },
    {
      "cell_type": "code",
      "source": [
        "# Directory containing your .tif files\n",
        "tif_directory = \"/content/drive/MyDrive/DeepLearning_Project/Datasets/planet_hawaii_2020_stack\"\n",
        "\n",
        "# List all .tif files\n",
        "tif_files = [os.path.join(tif_directory, f) for f in os.listdir(tif_directory) if f.endswith('.tif')]\n",
        "\n",
        "# Function to get CRS and resolution\n",
        "def get_crs_and_resolution(file_path):\n",
        "    dataset = gdal.Open(file_path)\n",
        "    crs = dataset.GetProjection()\n",
        "    geotransform = dataset.GetGeoTransform()\n",
        "    resolution = (geotransform[1], geotransform[5])  # Pixel width and height\n",
        "    return crs, resolution\n",
        "\n",
        "# Check CRS and resolution for each file\n",
        "for file in tif_files:\n",
        "    crs, resolution = get_crs_and_resolution(file)\n",
        "    print(f\"{file}: CRS={crs}, Resolution={resolution}\")\n"
      ],
      "metadata": {
        "id": "jxO0kgdwNMmI"
      },
      "execution_count": null,
      "outputs": []
    },
    {
      "cell_type": "code",
      "source": [
        "pip install GDAL\n"
      ],
      "metadata": {
        "colab": {
          "base_uri": "https://localhost:8080/"
        },
        "id": "cOccoVYKOOBI",
        "outputId": "b1bffa50-6b9f-4da4-8da5-f06948eabfb5"
      },
      "execution_count": null,
      "outputs": [
        {
          "output_type": "stream",
          "name": "stdout",
          "text": [
            "Requirement already satisfied: GDAL in /usr/local/lib/python3.10/dist-packages (3.6.4)\n"
          ]
        }
      ]
    },
    {
      "cell_type": "code",
      "source": [
        "# Specify the directory containing your .tif files\n",
        "tif_directory = \"/content/drive/MyDrive/DeepLearning_Project/Datasets/planet_2018_stack\"\n",
        "\n",
        "# Specify the output VRT file path\n",
        "output_vrt_path = os.path.join(tif_directory, \"planet_2018_stack_index.vrt\")\n",
        "\n",
        "# List all .tif files in the directory\n",
        "tif_files = [os.path.join(tif_directory, f) for f in os.listdir(tif_directory) if f.endswith('.tif')]\n",
        "\n",
        "print(f\"Number of files detected: {len(tif_files)}\")\n",
        "for file in tif_files:\n",
        "    print(file)\n",
        "\n",
        "# Use GDAL's buildVRT function to create a VRT from the list of tif files\n",
        "vrt = gdal.BuildVRT(output_vrt_path, tif_files)\n",
        "\n",
        "# Save and close the VRT\n",
        "vrt.FlushCache()\n",
        "vrt = None\n",
        "\n",
        "print(f\"VRT created successfully: {output_vrt_path}\")"
      ],
      "metadata": {
        "id": "yvYPuYMuLBOG"
      },
      "execution_count": null,
      "outputs": []
    },
    {
      "cell_type": "code",
      "source": [
        "# try merging?\n",
        "\n"
      ],
      "metadata": {
        "id": "-dUrLgIZNnEy"
      },
      "execution_count": null,
      "outputs": []
    },
    {
      "cell_type": "markdown",
      "source": [
        "end"
      ],
      "metadata": {
        "id": "xZ7yREJTNlUm"
      }
    },
    {
      "cell_type": "code",
      "execution_count": null,
      "metadata": {
        "id": "Br8vGpOEU46C"
      },
      "outputs": [],
      "source": [
        "#Create VRT, write to disk\n",
        "path_vrt = gdal.BuildVRT('/content/drive/MyDrive/DeepLearning_Project/Datasets/naip_2021/content/HI_2021_NAIP/naip_index.vrt',\n",
        "                         glob.glob('/content/drive/MyDrive/DeepLearning_Project/Datasets/naip_2021/content/HI_2021_NAIP/*.tif'))#,options =gdal.BuildVRTOptions(bandList= [1,2,3]))\n",
        "path_vrt.FlushCache()\n",
        "\n",
        "# output_raster = gdal.Translate('/content/mosaic.tif',\n",
        "#                                 '/content/output/gtiff_index.vrt',\n",
        "#                                 outputSRS='EPSG:3857')\n",
        "# output_raster.FlushCache()"
      ]
    },
    {
      "cell_type": "code",
      "source": [
        "path_vrt = gdal.BuildVRT('/content/drive/MyDrive/DeepLearning_Project/Datasets/planet_2018_stack/index_planet_2018.vrt',\n",
        "                         glob.glob('/content/drive/MyDrive/DeepLearning_Project/Datasets/planet_2018_stack/*.tif'))#,options =gdal.BuildVRTOptions(bandList= [1,2,3]))\n",
        "path_vrt.FlushCache()"
      ],
      "metadata": {
        "id": "6RYJ3p5cKL6g"
      },
      "execution_count": null,
      "outputs": []
    },
    {
      "cell_type": "code",
      "source": [],
      "metadata": {
        "id": "GrWm4cPwaxA3"
      },
      "execution_count": null,
      "outputs": []
    },
    {
      "cell_type": "code",
      "source": [
        "source = '/content/drive/MyDrive/DeepLearning_Project/Datasets/planet'\n",
        "destination = '/content/drive/MyDrive/DeepLearning_Project/Datasets/planet_2018'\n",
        "\n",
        "# Ensure the destination directory exists\n",
        "if not os.path.exists(destination):\n",
        "    os.makedirs(destination)\n",
        "\n",
        "# Loop through all files in the source directory\n",
        "for filename in os.listdir(source):\n",
        "    if filename.('.tif'):\n",
        "\n",
        "\n"
      ],
      "metadata": {
        "id": "twTpJ4D1arDf"
      },
      "execution_count": null,
      "outputs": []
    }
  ]
}