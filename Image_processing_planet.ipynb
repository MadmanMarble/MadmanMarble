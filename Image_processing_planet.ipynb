{
  "nbformat": 4,
  "nbformat_minor": 0,
  "metadata": {
    "colab": {
      "provenance": [],
      "include_colab_link": true
    },
    "kernelspec": {
      "name": "ir",
      "display_name": "R"
    },
    "language_info": {
      "name": "R"
    }
  },
  "cells": [
    {
      "cell_type": "markdown",
      "metadata": {
        "id": "view-in-github",
        "colab_type": "text"
      },
      "source": [
        "<a href=\"https://colab.research.google.com/github/MadmanMarble/MadmanMarble/blob/main/Image_processing_planet.ipynb\" target=\"_parent\"><img src=\"https://colab.research.google.com/assets/colab-badge.svg\" alt=\"Open In Colab\"/></a>"
      ]
    },
    {
      "cell_type": "code",
      "source": [
        "install.packages('gdalutils')\n",
        "install.packages('sf')\n",
        "install.packages('raster')\n",
        "install.packages('exactextractr')\n",
        "install.packages(\"googledrive\")\n",
        "install.packages(\"googletoken\")\n",
        "install.packages(\"DBI\")\n",
        "install.packages(\"RSQLite\")\n",
        "install.packages(\"RPostgreSQL\")"
      ],
      "metadata": {
        "id": "rC3Pg61Wq8On",
        "colab": {
          "base_uri": "https://localhost:8080/"
        },
        "outputId": "0b1f965b-de4c-43bf-8666-92c151893b7a"
      },
      "execution_count": 4,
      "outputs": [
        {
          "output_type": "stream",
          "name": "stderr",
          "text": [
            "Installing package into ‘/usr/local/lib/R/site-library’\n",
            "(as ‘lib’ is unspecified)\n",
            "\n",
            "Warning message:\n",
            "“package ‘gdalutils’ is not available for this version of R\n",
            "\n",
            "A version of this package for your version of R might be available elsewhere,\n",
            "see the ideas at\n",
            "https://cran.r-project.org/doc/manuals/r-patched/R-admin.html#Installing-packages”\n",
            "Installing package into ‘/usr/local/lib/R/site-library’\n",
            "(as ‘lib’ is unspecified)\n",
            "\n",
            "Installing package into ‘/usr/local/lib/R/site-library’\n",
            "(as ‘lib’ is unspecified)\n",
            "\n",
            "Installing package into ‘/usr/local/lib/R/site-library’\n",
            "(as ‘lib’ is unspecified)\n",
            "\n",
            "Installing package into ‘/usr/local/lib/R/site-library’\n",
            "(as ‘lib’ is unspecified)\n",
            "\n",
            "Installing package into ‘/usr/local/lib/R/site-library’\n",
            "(as ‘lib’ is unspecified)\n",
            "\n",
            "Warning message:\n",
            "“package ‘googletoken’ is not available for this version of R\n",
            "\n",
            "A version of this package for your version of R might be available elsewhere,\n",
            "see the ideas at\n",
            "https://cran.r-project.org/doc/manuals/r-patched/R-admin.html#Installing-packages”\n",
            "Installing package into ‘/usr/local/lib/R/site-library’\n",
            "(as ‘lib’ is unspecified)\n",
            "\n",
            "Installing package into ‘/usr/local/lib/R/site-library’\n",
            "(as ‘lib’ is unspecified)\n",
            "\n",
            "Installing package into ‘/usr/local/lib/R/site-library’\n",
            "(as ‘lib’ is unspecified)\n",
            "\n"
          ]
        }
      ]
    },
    {
      "cell_type": "markdown",
      "source": [
        "# New Section"
      ],
      "metadata": {
        "id": "MGk7RPdkt5zg"
      }
    },
    {
      "cell_type": "code",
      "execution_count": 5,
      "metadata": {
        "id": "ohy4torjkZq2"
      },
      "outputs": [],
      "source": [
        "library(ggplot2)\n",
        "library(sf)\n",
        "library(magrittr)\n",
        "library(data.table)\n",
        "library(raster)\n",
        "library(exactextractr)\n",
        "library(googledrive)\n",
        "library(DBI)\n",
        "library(zip)"
      ]
    },
    {
      "cell_type": "code",
      "source": [
        "drive_auth(use_oob = TRUE, cache = FALSE)"
      ],
      "metadata": {
        "colab": {
          "base_uri": "https://localhost:8080/"
        },
        "id": "3OdTtHfYVHu7",
        "outputId": "027a332a-52bc-4f76-eaf8-e73c183acb1b"
      },
      "execution_count": 7,
      "outputs": [
        {
          "output_type": "stream",
          "name": "stderr",
          "text": [
            "Please point your browser to the following url: \n",
            "\n",
            "https://accounts.google.com/o/oauth2/v2/auth?client_id=603366585132-frjlouoa3s2ono25d2l9ukvhlsrlnr7k.apps.googleusercontent.com&scope=https%3A%2F%2Fwww.googleapis.com%2Fauth%2Fdrive%20https%3A%2F%2Fwww.googleapis.com%2Fauth%2Fuserinfo.email&redirect_uri=https%3A%2F%2Fwww.tidyverse.org%2Fgoogle-callback%2F&response_type=code&state=cc24847bf9d11fae24ae2cb01a41770d&access_type=offline&prompt=consent\n",
            "\n"
          ]
        },
        {
          "name": "stdout",
          "output_type": "stream",
          "text": [
            "Enter authorization code: eyJjb2RlIjoiNC8wQWZKb2hYbUtBTzJOaGJJeFJodGl0ekVpdkFNQTJ6YVBFZk1DbnpwbzVUamtyVXF3WG1TZmIyUlhKZTl4bUZ5c1AyWHRyZyIsInN0YXRlIjoiY2MyNDg0N2JmOWQxMWZhZTI0YWUyY2IwMWE0MTc3MGQifQ==\n"
          ]
        }
      ]
    },
    {
      "cell_type": "code",
      "source": [
        "dir.create('/content/kahuku2019/')"
      ],
      "metadata": {
        "id": "4d1CaNadVlqX"
      },
      "execution_count": 180,
      "outputs": []
    },
    {
      "cell_type": "code",
      "source": [
        "# kahuku\n",
        "# CCAP:  https://drive.google.com/file/d//view?usp=drive_link\n",
        "drive_download(file = as_id('1rmLeIkZKapy580evTocdFtRlSJZNqt3e'), path =  '/content/kahuku2018/kahuku2018_ccap.tif', overwrite = TRUE)"
      ],
      "metadata": {
        "id": "M1J-1sdUIHwf",
        "outputId": "0b63b95d-d110-4964-afa0-55f86a79c7e7",
        "colab": {
          "base_uri": "https://localhost:8080/"
        }
      },
      "execution_count": 181,
      "outputs": [
        {
          "output_type": "stream",
          "name": "stderr",
          "text": [
            "File downloaded:\n",
            "\n",
            "• \u001b[36mkahuku.tif\u001b[39m \u001b[90m<id: 1rmLeIkZKapy580evTocdFtRlSJZNqt3e>\u001b[39m\n",
            "\n",
            "Saved locally as:\n",
            "\n",
            "• \u001b[34m/content/kahuku2018/kahuku2018_ccap.tif\u001b[39m\n",
            "\n"
          ]
        }
      ]
    },
    {
      "cell_type": "code",
      "source": [
        "#  kawinuimarsh 2020\n",
        "# Planet Labs:\n",
        "drive_download(file = as_id('19VQJrQdjldBPnGLqEUlXlTYMaPbYEb3E'), path =  '/content/kahuku2019/01.tif', overwrite = TRUE)\n",
        "drive_download(file = as_id('17q83cY0iQ9gryUD-TXvzebRKF0sFtF9t'), path =  '/content/kahuku2019/02.tif', overwrite = TRUE)\n",
        "drive_download(file = as_id('17YdI4uccBryL3e9r4LKdbM2EQeKVDeKn'), path =  '/content/kahuku2019/03.tif', overwrite = TRUE)\n",
        "drive_download(file = as_id('1AeA3u1liji68-OMQ75ysT29OpBYTLvAp'), path =  '/content/kahuku2019/04.tif', overwrite = TRUE)\n",
        "drive_download(file = as_id('18WXqsWMCI6RaC8birSoSPwWjW5swUf-V'), path =  '/content/kahuku2019/05.tif', overwrite = TRUE)\n",
        "drive_download(file = as_id('17sjWS8dhcD6lk6TmbMqh7DTw31d15XI3'), path =  '/content/kahuku2019/06.tif', overwrite = TRUE)\n",
        "drive_download(file = as_id('1ANrHeSNEHiAtWDMD5erEr0MbJqnjXDVs'), path =  '/content/kahuku2019/07.tif', overwrite = TRUE)\n",
        "drive_download(file = as_id('19MF-VyY4uLhJW_sR2qfGwJESgCaKp2Mi'), path =  '/content/kahuku2019/08.tif', overwrite = TRUE)\n",
        "drive_download(file = as_id('18WpzxSP3BcyCUZLGAvy6hchKdC3Awe3Y'), path =  '/content/kahuku2019/09.tif', overwrite = TRUE)\n",
        "# drive_download(file = as_id(''), path =  '/content/kahuku2019/10.tif', overwrite = TRUE)\n",
        "# drive_download(file = as_id(''), path =  '/content/kahuku2019/11.tif', overwrite = TRUE)\n",
        "\n",
        "# https://drive.google.com/open?id=&usp=drive_copy\n",
        "# https://drive.google.com/open?id=&usp=drive_copy\n",
        "# https://drive.google.com/open?id=&usp=drive_copy\n",
        "# https://drive.google.com/open?id=&usp=drive_copy\n",
        "# https://drive.google.com/open?id=&usp=drive_copy\n",
        "# https://drive.google.com/open?id=&usp=drive_copy\n",
        "# https://drive.google.com/open?id=&usp=drive_copy\n",
        "# https://drive.google.com/open?id=&usp=drive_copy\n",
        "# https://drive.google.com/open?id=&usp=drive_copy"
      ],
      "metadata": {
        "id": "6ip0T5wNKsIg",
        "outputId": "fc711c3c-114a-4b55-b3a4-060a09e431d9",
        "colab": {
          "base_uri": "https://localhost:8080/",
          "height": 1000
        }
      },
      "execution_count": 182,
      "outputs": [
        {
          "output_type": "stream",
          "name": "stderr",
          "text": [
            "File downloaded:\n",
            "\n",
            "• \u001b[36m2019-01-20_strip_2041858_composite.tif\u001b[39m\n",
            "  \u001b[90m<id: 19VQJrQdjldBPnGLqEUlXlTYMaPbYEb3E>\u001b[39m\n",
            "\n",
            "Saved locally as:\n",
            "\n",
            "• \u001b[34m/content/kahuku2019/01.tif\u001b[39m\n",
            "\n",
            "File downloaded:\n",
            "\n",
            "• \u001b[36m2019-03-15_strip_2206055_composite.tif\u001b[39m\n",
            "  \u001b[90m<id: 17q83cY0iQ9gryUD-TXvzebRKF0sFtF9t>\u001b[39m\n",
            "\n",
            "Saved locally as:\n",
            "\n",
            "• \u001b[34m/content/kahuku2019/02.tif\u001b[39m\n",
            "\n",
            "File downloaded:\n",
            "\n",
            "• \u001b[36m2019-05-21_strip_2382113_composite.tif\u001b[39m\n",
            "  \u001b[90m<id: 17YdI4uccBryL3e9r4LKdbM2EQeKVDeKn>\u001b[39m\n",
            "\n",
            "Saved locally as:\n",
            "\n",
            "• \u001b[34m/content/kahuku2019/03.tif\u001b[39m\n",
            "\n",
            "File downloaded:\n",
            "\n",
            "• \u001b[36m2019-06-06_strip_2423787_composite.tif\u001b[39m\n",
            "  \u001b[90m<id: 1AeA3u1liji68-OMQ75ysT29OpBYTLvAp>\u001b[39m\n",
            "\n",
            "Saved locally as:\n",
            "\n",
            "• \u001b[34m/content/kahuku2019/04.tif\u001b[39m\n",
            "\n",
            "File downloaded:\n",
            "\n",
            "• \u001b[36m2019-06-06_strip_2425031_composite.tif\u001b[39m\n",
            "  \u001b[90m<id: 18WXqsWMCI6RaC8birSoSPwWjW5swUf-V>\u001b[39m\n",
            "\n",
            "Saved locally as:\n",
            "\n",
            "• \u001b[34m/content/kahuku2019/05.tif\u001b[39m\n",
            "\n",
            "File downloaded:\n",
            "\n",
            "• \u001b[36m2019-07-24_strip_2546409_composite.tif\u001b[39m\n",
            "  \u001b[90m<id: 17sjWS8dhcD6lk6TmbMqh7DTw31d15XI3>\u001b[39m\n",
            "\n",
            "Saved locally as:\n",
            "\n",
            "• \u001b[34m/content/kahuku2019/06.tif\u001b[39m\n",
            "\n",
            "File downloaded:\n",
            "\n",
            "• \u001b[36m2019-10-07_strip_2733400_composite.tif\u001b[39m\n",
            "  \u001b[90m<id: 1ANrHeSNEHiAtWDMD5erEr0MbJqnjXDVs>\u001b[39m\n",
            "\n",
            "Saved locally as:\n",
            "\n",
            "• \u001b[34m/content/kahuku2019/07.tif\u001b[39m\n",
            "\n"
          ]
        },
        {
          "output_type": "error",
          "ename": "ERROR",
          "evalue": "Error in curl::curl_fetch_disk(url, x$path, handle = handle): Operation was aborted by an application callback\n",
          "traceback": [
            "Error in curl::curl_fetch_disk(url, x$path, handle = handle): Operation was aborted by an application callback\nTraceback:\n",
            "1. drive_download(file = as_id(\"19MF-VyY4uLhJW_sR2qfGwJESgCaKp2Mi\"), \n .     path = \"/content/kahuku2019/08.tif\", overwrite = TRUE)",
            "2. request_make(request, httr::write_disk(path, overwrite = overwrite))",
            "3. gargle::request_retry(x, ..., user_agent = drive_ua())",
            "4. request_make(...)",
            "5. method(url = x$url, body = x$body, x$token, encode = encode, \n .     user_agent, ...)",
            "6. request_perform(req, hu$handle$handle)",
            "7. request_fetch(req$output, req$url, handle)",
            "8. request_fetch.write_disk(req$output, req$url, handle)",
            "9. curl::curl_fetch_disk(url, x$path, handle = handle)"
          ]
        }
      ]
    },
    {
      "cell_type": "code",
      "source": [],
      "metadata": {
        "id": "Lk79I2oLJgIW"
      },
      "execution_count": null,
      "outputs": []
    },
    {
      "cell_type": "code",
      "source": [
        "planet <- stack ('/content/kahuku2019/01.tif')\n",
        "# planet\n",
        "planet %>% plot\n"
      ],
      "metadata": {
        "id": "ZQJo0SmrJkdJ"
      },
      "execution_count": null,
      "outputs": []
    },
    {
      "cell_type": "markdown",
      "source": [
        "redo the ones where I forgot to include 03"
      ],
      "metadata": {
        "id": "HXQvtdAevO5C"
      }
    },
    {
      "cell_type": "code",
      "source": [
        "planet_raster <-stack(\n",
        "  '/content/kahuku2019/01.tif',\n",
        "'/content/kahuku2019/02.tif',\n",
        "'/content/kahuku2019/03.tif',\n",
        "'/content/kahuku2019/04.tif',\n",
        "'/content/kahuku2019/05.tif',\n",
        "'/content/kahuku2019/06.tif',\n",
        "'/content/kahuku2019/07.tif',\n",
        "'/content/kahuku2019/08.tif',\n",
        "'/content/kahuku2019/09.tif')"
      ],
      "metadata": {
        "id": "-PzPAS--LqPx"
      },
      "execution_count": null,
      "outputs": []
    },
    {
      "cell_type": "code",
      "source": [
        "ccap_raster <- stack('/content/kahuku2018/kahuku2018_ccap.tif')"
      ],
      "metadata": {
        "id": "VpVS_GIgCZOU"
      },
      "execution_count": null,
      "outputs": []
    },
    {
      "cell_type": "code",
      "source": [
        "planet_raster_extended <- extend(planet_raster, projectExtent(ccap_raster, planet_raster), value=NA)"
      ],
      "metadata": {
        "id": "XhmhaXUYFW37"
      },
      "execution_count": null,
      "outputs": []
    },
    {
      "cell_type": "code",
      "source": [
        "ccap_raster\n",
        "planet_raster"
      ],
      "metadata": {
        "id": "mEa1EkTwDVfC"
      },
      "execution_count": null,
      "outputs": []
    },
    {
      "cell_type": "code",
      "source": [
        "planet_raster %>% plot\n",
        "# planet_raster %>% plot"
      ],
      "metadata": {
        "id": "HD4_Q9AKVLed"
      },
      "execution_count": null,
      "outputs": []
    },
    {
      "cell_type": "code",
      "source": [
        "ccap_raster %>% plot"
      ],
      "metadata": {
        "id": "Soe7adURCzrf"
      },
      "execution_count": null,
      "outputs": []
    },
    {
      "cell_type": "code",
      "source": [
        "ncol(ccap_raster)\n",
        "\n",
        "nrow(ccap_raster)\n",
        "\n",
        "\n",
        "y_end <- c(seq(1,ccap_raster %>% nrow,512),nrow(ccap_raster))[-1]\n",
        "x_end <- c(seq(1,ccap_raster %>% ncol,512),ncol(ccap_raster))[-1]\n",
        "\n",
        "extract_grid <- expand.grid(x_end,y_end) %>% data.table\n",
        "\n",
        "names(extract_grid) <- c('x_end','y_end')\n",
        "\n",
        "extract_grid$x_org <- extract_grid$x_end - 512\n",
        "extract_grid$y_org <- extract_grid$y_end - 512\n",
        "\n",
        "extract_grid$id <- 1:nrow(extract_grid)"
      ],
      "metadata": {
        "id": "BbpM2KyNkAd4"
      },
      "execution_count": null,
      "outputs": []
    },
    {
      "cell_type": "code",
      "source": [
        "# dir.create('/TrainingData/Niihau')\n",
        "# Specify the path for the new folder/directory\n",
        "new_folder_path <- \"/content/kahuku2019/Images\"\n",
        "new_folder_path2 <- \"/content/kahuku2019/Labels\"\n",
        "# Use dir.create to create the new folder\n",
        "dir.create(new_folder_path, showWarnings = FALSE)\n",
        "\n",
        "# Check if the folder was created successfully\n",
        "if (file.exists(new_folder_path)) {\n",
        "  cat(\"Folder created:\", new_folder_path, \"\\n\")\n",
        "} else {\n",
        "  cat(\"Failed to create folder:\", new_folder_path, \"\\n\")\n",
        "}\n",
        "\n",
        "\n",
        "# Use dir.create to create the new folder\n",
        "dir.create(new_folder_path2, showWarnings = FALSE)\n",
        "# Check if the folder was created successfully\n",
        "if (file.exists(new_folder_path2)) {\n",
        "  cat(\"Folder created:\", new_folder_path2, \"\\n\")\n",
        "} else {\n",
        "  cat(\"Failed to create folder:\", new_folder_path2, \"\\n\")\n",
        "}"
      ],
      "metadata": {
        "id": "ku_aB94VliRd"
      },
      "execution_count": null,
      "outputs": []
    },
    {
      "cell_type": "code",
      "source": [
        "result_dt <-\n",
        "1:nrow(extract_grid) %>% lapply(function(x){\n",
        "\n",
        "  nrow <- 0\n",
        "  ncol <- 0\n",
        "  i <- 0\n",
        "  while(nrow !=512 | ncol != 512){\n",
        "    i <- i + 1\n",
        "    # Calculate the geographic coordinates for the cropping extent\n",
        "    xmin <- xFromCol(ccap_raster, extract_grid[x,]$x_org) + rnorm(1)*.01*2.4\n",
        "    xmax <- xFromCol(ccap_raster, extract_grid[x,]$x_end) + rnorm(1)*.01*2.4\n",
        "    ymin <- yFromRow(ccap_raster, extract_grid[x,]$y_end) + rnorm(1)*.01*2.4 # Note row_max as raster origin is top-left\n",
        "    ymax <- yFromRow(ccap_raster, extract_grid[x,]$y_org) + rnorm(1)*.01*2.4 # Note row_min as raster origin is top-left\n",
        "\n",
        "    e <- extent(xmin, xmax, ymin, ymax)\n",
        "\n",
        "    ccap_cropped_raster <- crop(ccap_raster, e)\n",
        "\n",
        "    nrow <- nrow(ccap_cropped_raster)\n",
        "    ncol <- ncol(ccap_cropped_raster)\n",
        "\n",
        "\n",
        "    # print(dim(ccap_cropped_raster))\n",
        "    if(i>1000){return('failed to converge')}\n",
        "    }\n",
        "\n",
        "  ls_cropped_raster <- crop(planet_raster_extended, projectExtent(ccap_cropped_raster,planet_raster))\n",
        "\n",
        "  ls_resampled_raster <- projectRaster(ls_cropped_raster,ccap_cropped_raster)\n",
        "  print(ls_resampled_raster)\n",
        "  pixel_table <- (table(values(ccap_cropped_raster))/ncell(ccap_cropped_raster)) %>% data.table\n",
        "\n",
        "  names(pixel_table) <- c('label','percent')\n",
        "\n",
        "  out_dt <- data.table(extract_grid[x,],xmin = xmin,xmax =xmax,ymin= ymin,ymax, pixel_table)\n",
        "\n",
        "  if(ls_resampled_raster %>% nrow ==512 & ls_resampled_raster %>% ncol ==512 & ccap_cropped_raster%>% nrow ==512 & ccap_cropped_raster%>% ncol ==512){\n",
        "    ls_resampled_raster %>%\n",
        "    writeRaster(., paste(\"/content/kahuku2019/Images/\",extract_grid[x,]$x_org,'_',extract_grid[x,]$y_org,'.tif',sep=''),overwrite=T)\n",
        "\n",
        "    ccap_cropped_raster %>%\n",
        "    writeRaster(., paste(\"/content/kahuku2019/Labels/\",extract_grid[x,]$x_org,'_',extract_grid[x,]$y_org,'.tif',sep=''),overwrite=T)\n",
        "  }else(print('uh oh'))\n",
        "\n",
        "  return(out_dt)\n",
        "})\n",
        "result_dt[ result_dt %>% lapply(function(x){is.data.table(x)}) %>% unlist] %>% rbindlist %>%\n",
        "fwrite(\"/content/kahuku2019/kahuku2019.csv\")\n"
      ],
      "metadata": {
        "id": "v3NDtnuuDTVK"
      },
      "execution_count": null,
      "outputs": []
    },
    {
      "cell_type": "code",
      "source": [
        "zip(zipfile = \"/content/kahuku2019.zip\",\n",
        "    files = c(\"/content/kahuku2019/Images\",\n",
        "              \"/content/kahuku2019/Labels\",\n",
        "              \"/content/kahuku2019/kahuku2019.csv\"))"
      ],
      "metadata": {
        "id": "M0T2xbuKO3bJ"
      },
      "execution_count": null,
      "outputs": []
    },
    {
      "cell_type": "code",
      "source": [
        "# save to processed_data https://drive.google.com/drive/folders/1d_Ix2hIbwtT2XAqtzncui2jPq13vKOoe?usp=drive_link\n",
        "drive_upload(media = \"/content/kahuku2019.zip\", path = as_id(\"1d_Ix2hIbwtT2XAqtzncui2jPq13vKOoe\"))"
      ],
      "metadata": {
        "id": "oyviE6TxeBRn"
      },
      "execution_count": null,
      "outputs": []
    }
  ]
}