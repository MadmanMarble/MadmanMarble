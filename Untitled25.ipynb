{
  "nbformat": 4,
  "nbformat_minor": 0,
  "metadata": {
    "colab": {
      "provenance": [],
      "machine_shape": "hm",
      "authorship_tag": "ABX9TyOhTnUcanjXF/PFusxjIGaA",
      "include_colab_link": true
    },
    "kernelspec": {
      "name": "ir",
      "display_name": "R"
    },
    "language_info": {
      "name": "R"
    }
  },
  "cells": [
    {
      "cell_type": "markdown",
      "metadata": {
        "id": "view-in-github",
        "colab_type": "text"
      },
      "source": [
        "<a href=\"https://colab.research.google.com/github/MadmanMarble/MadmanMarble/blob/main/Untitled25.ipynb\" target=\"_parent\"><img src=\"https://colab.research.google.com/assets/colab-badge.svg\" alt=\"Open In Colab\"/></a>"
      ]
    },
    {
      "cell_type": "code",
      "execution_count": 1,
      "metadata": {
        "colab": {
          "base_uri": "https://localhost:8080/"
        },
        "id": "iHwJDohEVcgO",
        "outputId": "7d6a846f-d48e-4e86-c9f2-554fb8325faf"
      },
      "outputs": [
        {
          "output_type": "stream",
          "name": "stderr",
          "text": [
            "Installing packages into ‘/usr/local/lib/R/site-library’\n",
            "(as ‘lib’ is unspecified)\n",
            "\n",
            "also installing the dependencies ‘proxy’, ‘e1071’, ‘sp’, ‘Rcpp’, ‘terra’, ‘classInt’, ‘s2’, ‘units’, ‘wk’, ‘RcppArmadillo’\n",
            "\n",
            "\n",
            "Installing package into ‘/usr/local/lib/R/site-library’\n",
            "(as ‘lib’ is unspecified)\n",
            "\n",
            "Installing package into ‘/usr/local/lib/R/site-library’\n",
            "(as ‘lib’ is unspecified)\n",
            "\n",
            "also installing the dependencies ‘httpuv’, ‘xtable’, ‘sourcetools’, ‘later’, ‘promises’, ‘shiny’, ‘downlit’, ‘htmlwidgets’, ‘miniUI’, ‘pkgdown’, ‘profvis’, ‘urlchecker’\n",
            "\n",
            "\n",
            "Downloading GitHub repo gearslaboratory/gdalUtils@HEAD\n",
            "\n"
          ]
        },
        {
          "output_type": "stream",
          "name": "stdout",
          "text": [
            "R.methodsS3 (NA -> 1.8.2 ) [CRAN]\n",
            "R.oo        (NA -> 1.26.0) [CRAN]\n",
            "iterators   (NA -> 1.0.14) [CRAN]\n",
            "R.utils     (NA -> 2.12.3) [CRAN]\n",
            "foreach     (NA -> 1.5.2 ) [CRAN]\n"
          ]
        },
        {
          "output_type": "stream",
          "name": "stderr",
          "text": [
            "Skipping 1 packages not available: rgdal\n",
            "\n",
            "Installing 6 packages: R.methodsS3, R.oo, iterators, rgdal, R.utils, foreach\n",
            "\n",
            "Installing packages into ‘/usr/local/lib/R/site-library’\n",
            "(as ‘lib’ is unspecified)\n",
            "\n",
            "Warning message:\n",
            "“package ‘rgdal’ is not available for this version of R\n",
            "\n",
            "A version of this package for your version of R might be available elsewhere,\n",
            "see the ideas at\n",
            "https://cran.r-project.org/doc/manuals/r-patched/R-admin.html#Installing-packages”\n"
          ]
        },
        {
          "output_type": "stream",
          "name": "stdout",
          "text": [
            "\u001b[36m──\u001b[39m \u001b[36mR CMD build\u001b[39m \u001b[36m─────────────────────────────────────────────────────────────────\u001b[39m\n",
            "* checking for file ‘/tmp/RtmpTscOTq/remotes8d4f8e3e2b/gearslaboratory-gdalUtils-8872aaf/DESCRIPTION’ ... OK\n",
            "* preparing ‘gdalUtils’:\n",
            "* checking DESCRIPTION meta-information ... OK\n",
            "* checking for LF line-endings in source and make files and shell scripts\n",
            "* checking for empty or unneeded directories\n",
            "* building ‘gdalUtils_2.0.3.2.tar.gz’\n",
            "\n"
          ]
        },
        {
          "output_type": "stream",
          "name": "stderr",
          "text": [
            "Installing package into ‘/usr/local/lib/R/site-library’\n",
            "(as ‘lib’ is unspecified)\n",
            "\n",
            "Warning message in i.p(...):\n",
            "“installation of package ‘/tmp/RtmpTscOTq/file8d4523be9a5/gdalUtils_2.0.3.2.tar.gz’ had non-zero exit status”\n"
          ]
        }
      ],
      "source": [
        "install.packages(c('raster','sf','fasterize'))\n",
        "install.packages(\"googledrive\")\n",
        "install.packages(\"devtools\")\n",
        "\n",
        "devtools:::install_github(\"gearslaboratory/gdalUtils\")\n"
      ]
    },
    {
      "cell_type": "code",
      "source": [
        "install.packages(\"dplyr\")"
      ],
      "metadata": {
        "colab": {
          "base_uri": "https://localhost:8080/"
        },
        "id": "Bze-7kxrOyEP",
        "outputId": "a6ead21c-a4d9-42cf-cda0-9955913a7909"
      },
      "execution_count": 404,
      "outputs": [
        {
          "output_type": "stream",
          "name": "stderr",
          "text": [
            "Installing package into ‘/usr/local/lib/R/site-library’\n",
            "(as ‘lib’ is unspecified)\n",
            "\n"
          ]
        }
      ]
    },
    {
      "cell_type": "code",
      "source": [
        "library(dplyr)"
      ],
      "metadata": {
        "id": "yMOD4OSpO1Ew"
      },
      "execution_count": null,
      "outputs": []
    },
    {
      "cell_type": "code",
      "source": [
        "library(raster)\n",
        "library(sf)\n",
        "library(fasterize)\n",
        "library(magrittr)\n",
        "library(googledrive)\n",
        "library(parallel)\n",
        "library(data.table)\n",
        "library(stringr)\n",
        "# library(gdalUtils)\n",
        "\n",
        "drive_auth(use_oob = TRUE, cache = FALSE)"
      ],
      "metadata": {
        "id": "68lwGEaFVnw5"
      },
      "execution_count": null,
      "outputs": []
    },
    {
      "cell_type": "markdown",
      "source": [
        "Set up working folder"
      ],
      "metadata": {
        "id": "wP3nsSDuWC0H"
      }
    },
    {
      "cell_type": "code",
      "source": [
        "dir.create(\"/content/folder\")\n",
        "\n",
        "# load original nwi data\n",
        "# https://drive.google.com/file/d/1uKY_cwL8P_bir8T4VY3f-gKs4ZQQyYk9/view?usp=drive_link\n",
        "drive_download(file = as_id('1uKY_cwL8P_bir8T4VY3f-gKs4ZQQyYk9'), path =  '/content/folder/nwi_utm4.gpkg', overwrite = FALSE)\n",
        "\n",
        "# https://drive.google.com/file/d/1qNqsskgMOSzMQ-2LdDaGulDXUjpaI3Jr/view?usp=drive_link\n",
        "drive_download(file = as_id('1qNqsskgMOSzMQ-2LdDaGulDXUjpaI3Jr'), path =  '/content/folder/nwi_utm5.gpkg', overwrite = FALSE)"
      ],
      "metadata": {
        "colab": {
          "base_uri": "https://localhost:8080/"
        },
        "id": "bjtyqLHsWpqg",
        "outputId": "214a6348-623e-4f85-c1bd-f47e3bd6b3a5"
      },
      "execution_count": 400,
      "outputs": [
        {
          "output_type": "stream",
          "name": "stderr",
          "text": [
            "Auto-refreshing stale OAuth token.\n",
            "\n",
            "File downloaded:\n",
            "\n",
            "• \u001b[36mnwi_wetlands_4.gpkg\u001b[39m \u001b[90m<id: 1uKY_cwL8P_bir8T4VY3f-gKs4ZQQyYk9>\u001b[39m\n",
            "\n",
            "Saved locally as:\n",
            "\n",
            "• \u001b[34m/content/folder/nwi_utm4.gpkg\u001b[39m\n",
            "\n",
            "File downloaded:\n",
            "\n",
            "• \u001b[36mnwi_wetlands_hawaii.gpkg\u001b[39m \u001b[90m<id: 1qNqsskgMOSzMQ-2LdDaGulDXUjpaI3Jr>\u001b[39m\n",
            "\n",
            "Saved locally as:\n",
            "\n",
            "• \u001b[34m/content/folder/nwi_utm5.gpkg\u001b[39m\n",
            "\n"
          ]
        }
      ]
    },
    {
      "cell_type": "code",
      "source": [
        "nwiutm4 <- st_read(\"/content/folder/nwi_utm4.gpkg\")\n",
        "nwiutm5 <- st_read(\"/content/folder/nwi_utm5.gpkg\")\n"
      ],
      "metadata": {
        "colab": {
          "base_uri": "https://localhost:8080/"
        },
        "id": "kkl11MTfM2-c",
        "outputId": "bff47ceb-44b4-44ab-d4b2-35c8ca7e8059"
      },
      "execution_count": 420,
      "outputs": [
        {
          "output_type": "stream",
          "name": "stdout",
          "text": [
            "Reading layer `nwi_wetlands' from data source `/content/folder/nwi_utm4.gpkg' using driver `GPKG'\n",
            "Simple feature collection with 10866 features and 6 fields\n",
            "Geometry type: MULTIPOLYGON\n",
            "Dimension:     XY\n",
            "Bounding box:  xmin: 412977.7 ymin: 2263072 xmax: 820600.7 ymax: 2464465\n",
            "Projected CRS: WGS 84 / UTM zone 4N\n",
            "Reading layer `nwi_wetlands_hawaii' from data source \n",
            "  `/content/folder/nwi_utm5.gpkg' using driver `GPKG'\n",
            "Simple feature collection with 2105 features and 6 fields\n",
            "Geometry type: MULTIPOLYGON\n",
            "Dimension:     XY\n",
            "Bounding box:  xmin: 173408.4 ymin: 2087445 xmax: 316047.8 ymax: 2249339\n",
            "Projected CRS: WGS 84 / UTM zone 5N\n"
          ]
        }
      ]
    },
    {
      "cell_type": "code",
      "source": [
        "nwiutm5"
      ],
      "metadata": {
        "colab": {
          "base_uri": "https://localhost:8080/",
          "height": 1000
        },
        "id": "rgEyLFLjNiN6",
        "outputId": "5669baf4-edd9-48ef-a55b-83d1dc351b76"
      },
      "execution_count": 424,
      "outputs": [
        {
          "output_type": "stream",
          "name": "stderr",
          "text": [
            "ERROR while rich displaying an object: Error in loadNamespace(x): there is no package called ‘geojsonio’\n",
            "\n",
            "Traceback:\n",
            "1. tryCatch(withCallingHandlers({\n",
            " .     if (!mime %in% names(repr::mime2repr)) \n",
            " .         stop(\"No repr_* for mimetype \", mime, \" in repr::mime2repr\")\n",
            " .     rpr <- repr::mime2repr[[mime]](obj)\n",
            " .     if (is.null(rpr)) \n",
            " .         return(NULL)\n",
            " .     prepare_content(is.raw(rpr), rpr)\n",
            " . }, error = error_handler), error = outer_handler)\n",
            "2. tryCatchList(expr, classes, parentenv, handlers)\n",
            "3. tryCatchOne(expr, names, parentenv, handlers[[1L]])\n",
            "4. doTryCatch(return(expr), name, parentenv, handler)\n",
            "5. withCallingHandlers({\n",
            " .     if (!mime %in% names(repr::mime2repr)) \n",
            " .         stop(\"No repr_* for mimetype \", mime, \" in repr::mime2repr\")\n",
            " .     rpr <- repr::mime2repr[[mime]](obj)\n",
            " .     if (is.null(rpr)) \n",
            " .         return(NULL)\n",
            " .     prepare_content(is.raw(rpr), rpr)\n",
            " . }, error = error_handler)\n",
            "6. repr::mime2repr[[mime]](obj)\n",
            "7. repr_geojson.sf(obj)\n",
            "8. repr_geojson(geojsonio::geojson_list(obj), ...)\n",
            "9. loadNamespace(x)\n",
            "10. withRestarts(stop(cond), retry_loadNamespace = function() NULL)\n",
            "11. withOneRestart(expr, restarts[[1L]])\n",
            "12. doWithOneRestart(return(expr), restart)\n"
          ]
        },
        {
          "output_type": "display_data",
          "data": {
            "text/html": [
              "<table class=\"dataframe\">\n",
              "<caption>A sf: 2105 × 7</caption>\n",
              "<thead>\n",
              "\t<tr><th scope=col>objectid</th><th scope=col>attribute</th><th scope=col>acres</th><th scope=col>wetland_ty</th><th scope=col>st_areasha</th><th scope=col>st_perimet</th><th scope=col>geom</th></tr>\n",
              "\t<tr><th scope=col>&lt;int&gt;</th><th scope=col>&lt;chr&gt;</th><th scope=col>&lt;dbl&gt;</th><th scope=col>&lt;chr&gt;</th><th scope=col>&lt;dbl&gt;</th><th scope=col>&lt;dbl&gt;</th><th scope=col>&lt;MULTIPOLYGON [m]&gt;</th></tr>\n",
              "</thead>\n",
              "<tbody>\n",
              "\t<tr><td> 1</td><td>PUBHh </td><td> 0.2609826</td><td>Freshwater Pond</td><td> 1056.1591</td><td>  121.4864</td><td>MULTIPOLYGON (((230022.7 21...</td></tr>\n",
              "\t<tr><td> 2</td><td>PUBHh </td><td> 0.3178072</td><td>Freshwater Pond</td><td> 1286.1200</td><td>  129.4962</td><td>MULTIPOLYGON (((228629.6 21...</td></tr>\n",
              "\t<tr><td> 3</td><td>PUS3Ah</td><td> 0.2185504</td><td>Freshwater Pond</td><td>  884.4421</td><td>  107.8919</td><td>MULTIPOLYGON (((226387.3 21...</td></tr>\n",
              "\t<tr><td> 4</td><td>PUS3Ah</td><td> 0.4064771</td><td>Freshwater Pond</td><td> 1644.9544</td><td>  153.5977</td><td>MULTIPOLYGON (((225440.1 21...</td></tr>\n",
              "\t<tr><td> 5</td><td>PUS3Ch</td><td> 0.2855907</td><td>Freshwater Pond</td><td> 1155.7447</td><td>  124.3542</td><td>MULTIPOLYGON (((226575.2 21...</td></tr>\n",
              "\t<tr><td> 6</td><td>PUS3Ch</td><td> 0.4222651</td><td>Freshwater Pond</td><td> 1708.8463</td><td>  156.8640</td><td>MULTIPOLYGON (((228047.3 21...</td></tr>\n",
              "\t<tr><td> 7</td><td>PUS3Ch</td><td> 0.1888957</td><td>Freshwater Pond</td><td>  764.4338</td><td>   99.7818</td><td>MULTIPOLYGON (((226417.9 21...</td></tr>\n",
              "\t<tr><td> 8</td><td>PUS3Ch</td><td> 0.2335592</td><td>Freshwater Pond</td><td>  945.1806</td><td>  111.1221</td><td>MULTIPOLYGON (((225989.5 21...</td></tr>\n",
              "\t<tr><td> 9</td><td>PUS3Ch</td><td> 0.2310241</td><td>Freshwater Pond</td><td>  934.9212</td><td>  111.1674</td><td>MULTIPOLYGON (((228259.3 21...</td></tr>\n",
              "\t<tr><td>10</td><td>PUS3Ch</td><td> 0.2015431</td><td>Freshwater Pond</td><td>  815.6161</td><td>  105.6278</td><td>MULTIPOLYGON (((227795.9 21...</td></tr>\n",
              "\t<tr><td>11</td><td>R4SBC </td><td> 0.4070043</td><td>Riverine       </td><td> 1646.9234</td><td>  556.9228</td><td>MULTIPOLYGON (((235668 2186...</td></tr>\n",
              "\t<tr><td>12</td><td>R4SBC </td><td> 3.9465503</td><td>Riverine       </td><td>15970.8954</td><td> 5325.1074</td><td>MULTIPOLYGON (((226262 2189...</td></tr>\n",
              "\t<tr><td>13</td><td>R4SBC </td><td> 1.3529643</td><td>Riverine       </td><td> 5475.1169</td><td> 1832.7210</td><td>MULTIPOLYGON (((225460 2190...</td></tr>\n",
              "\t<tr><td>14</td><td>R4SBC </td><td>10.1487054</td><td>Riverine       </td><td>41070.0629</td><td>13694.5000</td><td>MULTIPOLYGON (((236429.9 21...</td></tr>\n",
              "\t<tr><td>15</td><td>R4SBC </td><td> 1.4777824</td><td>Riverine       </td><td> 5980.2342</td><td> 1996.2841</td><td>MULTIPOLYGON (((226241.6 21...</td></tr>\n",
              "\t<tr><td>16</td><td>R4SBC </td><td> 5.9207439</td><td>Riverine       </td><td>23960.2932</td><td> 7967.5341</td><td>MULTIPOLYGON (((225756.6 21...</td></tr>\n",
              "\t<tr><td>17</td><td>R4SBC </td><td> 9.0715699</td><td>Riverine       </td><td>36711.1878</td><td>12207.3978</td><td>MULTIPOLYGON (((225469.7 21...</td></tr>\n",
              "\t<tr><td>18</td><td>R4SBC </td><td> 2.4382452</td><td>Riverine       </td><td> 9866.9612</td><td> 3292.6908</td><td>MULTIPOLYGON (((275273 2185...</td></tr>\n",
              "\t<tr><td>19</td><td>R4SBC </td><td> 1.3194634</td><td>Riverine       </td><td> 5339.6051</td><td> 1786.6469</td><td>MULTIPOLYGON (((271928.9 21...</td></tr>\n",
              "\t<tr><td>20</td><td>R4SBC </td><td> 3.6162789</td><td>Riverine       </td><td>14634.0357</td><td> 4871.8329</td><td>MULTIPOLYGON (((276912.8 21...</td></tr>\n",
              "\t<tr><td>21</td><td>R4SBC </td><td> 2.4195243</td><td>Riverine       </td><td> 9791.1000</td><td> 3264.1502</td><td>MULTIPOLYGON (((276105.1 21...</td></tr>\n",
              "\t<tr><td>22</td><td>R4SBC </td><td> 4.5438877</td><td>Riverine       </td><td>18387.9959</td><td> 6120.0947</td><td>MULTIPOLYGON (((275084.8 21...</td></tr>\n",
              "\t<tr><td>23</td><td>R4SBC </td><td> 2.9091712</td><td>Riverine       </td><td>11772.5234</td><td> 3921.0823</td><td>MULTIPOLYGON (((276630.1 21...</td></tr>\n",
              "\t<tr><td>24</td><td>R4SBC </td><td> 0.3698654</td><td>Riverine       </td><td> 1496.7545</td><td>  513.7667</td><td>MULTIPOLYGON (((271892.4 21...</td></tr>\n",
              "\t<tr><td>25</td><td>R4SBC </td><td> 3.7599832</td><td>Riverine       </td><td>15215.7718</td><td> 5063.3799</td><td>MULTIPOLYGON (((274924.3 21...</td></tr>\n",
              "\t<tr><td>26</td><td>R4SBC </td><td> 4.3259941</td><td>Riverine       </td><td>17506.0764</td><td> 5825.8932</td><td>MULTIPOLYGON (((277571.3 21...</td></tr>\n",
              "\t<tr><td>27</td><td>R4SBC </td><td> 2.5076827</td><td>Riverine       </td><td>10147.8762</td><td> 3390.4412</td><td>MULTIPOLYGON (((277627.9 21...</td></tr>\n",
              "\t<tr><td>28</td><td>R4SBC </td><td> 1.4185481</td><td>Riverine       </td><td> 5740.5360</td><td> 1935.6427</td><td>MULTIPOLYGON (((273604.8 21...</td></tr>\n",
              "\t<tr><td>29</td><td>R4SBC </td><td> 1.4315388</td><td>Riverine       </td><td> 5793.1206</td><td> 1944.2396</td><td>MULTIPOLYGON (((272066.7 21...</td></tr>\n",
              "\t<tr><td>30</td><td>R4SBC </td><td> 3.2701971</td><td>Riverine       </td><td>13233.7760</td><td> 4406.9238</td><td>MULTIPOLYGON (((277715.6 21...</td></tr>\n",
              "\t<tr><td>⋮</td><td>⋮</td><td>⋮</td><td>⋮</td><td>⋮</td><td>⋮</td><td>⋮</td></tr>\n",
              "\t<tr><td> 9982</td><td>PFO3A </td><td>5.195364e+00</td><td>Freshwater Forested/Shrub Wetland</td><td>2.102443e+04</td><td>   7000.1270</td><td>MULTIPOLYGON (((274932.2 21...</td></tr>\n",
              "\t<tr><td> 9983</td><td>PFO3A </td><td>4.961877e+00</td><td>Freshwater Forested/Shrub Wetland</td><td>2.007969e+04</td><td>   6689.8844</td><td>MULTIPOLYGON (((275174.4 21...</td></tr>\n",
              "\t<tr><td> 9984</td><td>PSS3A </td><td>2.986335e+00</td><td>Freshwater Forested/Shrub Wetland</td><td>1.208519e+04</td><td>   4042.0998</td><td>MULTIPOLYGON (((278582.6 21...</td></tr>\n",
              "\t<tr><td> 9985</td><td>PSS3C </td><td>1.240973e+01</td><td>Freshwater Forested/Shrub Wetland</td><td>5.022014e+04</td><td>  16704.3303</td><td>MULTIPOLYGON (((278683.1 21...</td></tr>\n",
              "\t<tr><td> 9986</td><td>PUBH  </td><td>1.071638e+00</td><td>Freshwater Pond                  </td><td>4.336885e+03</td><td>    256.2984</td><td>MULTIPOLYGON (((274576.4 21...</td></tr>\n",
              "\t<tr><td> 9987</td><td>PUBH  </td><td>7.934745e-01</td><td>Freshwater Pond                  </td><td>3.211214e+03</td><td>    209.2720</td><td>MULTIPOLYGON (((276158.1 21...</td></tr>\n",
              "\t<tr><td> 9988</td><td>R5UBH </td><td>4.957001e+00</td><td>Riverine                         </td><td>2.005944e+04</td><td>   5018.2701</td><td>MULTIPOLYGON (((266055.7 21...</td></tr>\n",
              "\t<tr><td> 9989</td><td>R3UBH </td><td>1.004487e+00</td><td>Riverine                         </td><td>4.064781e+03</td><td>   1025.4636</td><td>MULTIPOLYGON (((275013.1 21...</td></tr>\n",
              "\t<tr><td> 9990</td><td>R3UBH </td><td>1.460592e+01</td><td>Riverine                         </td><td>5.910723e+04</td><td>  14668.1916</td><td>MULTIPOLYGON (((280917.5 21...</td></tr>\n",
              "\t<tr><td> 9991</td><td>E1UBL </td><td>1.094611e+01</td><td>Estuarine and Marine Deepwater   </td><td>4.429720e+04</td><td>   1266.2043</td><td>MULTIPOLYGON (((214609 2236...</td></tr>\n",
              "\t<tr><td> 9992</td><td>M2US2N</td><td>1.171522e+00</td><td>Estuarine and Marine Wetland     </td><td>4.741051e+03</td><td>   1231.9390</td><td>MULTIPOLYGON (((214956.3 22...</td></tr>\n",
              "\t<tr><td> 9993</td><td>PFO3B </td><td>1.580907e+04</td><td>Freshwater Forested/Shrub Wetland</td><td>6.397704e+07</td><td> 148101.3602</td><td>MULTIPOLYGON (((213997.4 22...</td></tr>\n",
              "\t<tr><td> 9994</td><td>R3UBH </td><td>1.378119e+01</td><td>Riverine                         </td><td>5.576973e+04</td><td>  13973.4363</td><td>MULTIPOLYGON (((217848.7 22...</td></tr>\n",
              "\t<tr><td> 9995</td><td>PFO3A </td><td>4.675133e+00</td><td>Freshwater Forested/Shrub Wetland</td><td>1.891954e+04</td><td>   6312.6256</td><td>MULTIPOLYGON (((262213.3 21...</td></tr>\n",
              "\t<tr><td> 9996</td><td>PFO3A </td><td>1.075346e+01</td><td>Freshwater Forested/Shrub Wetland</td><td>4.351734e+04</td><td>  14481.2254</td><td>MULTIPOLYGON (((259682.1 21...</td></tr>\n",
              "\t<tr><td> 9997</td><td>PFO3A </td><td>2.342838e+01</td><td>Freshwater Forested/Shrub Wetland</td><td>9.481049e+04</td><td>  31493.1520</td><td>MULTIPOLYGON (((260396.6 21...</td></tr>\n",
              "\t<tr><td> 9998</td><td>PFO3A </td><td>1.229269e+01</td><td>Freshwater Forested/Shrub Wetland</td><td>4.974637e+04</td><td>  16535.6776</td><td>MULTIPOLYGON (((266452.5 21...</td></tr>\n",
              "\t<tr><td> 9999</td><td>PFO3C </td><td>1.394752e+01</td><td>Freshwater Forested/Shrub Wetland</td><td>5.644312e+04</td><td>  18783.4206</td><td>MULTIPOLYGON (((266746.3 21...</td></tr>\n",
              "\t<tr><td>10000</td><td>PEM1A </td><td>2.261225e+00</td><td>Freshwater Emergent Wetland      </td><td>9.150821e+03</td><td>   3068.2431</td><td>MULTIPOLYGON (((234411 2115...</td></tr>\n",
              "\t<tr><td>10001</td><td>PFO3A </td><td>3.923106e+00</td><td>Freshwater Forested/Shrub Wetland</td><td>1.587620e+04</td><td>   5299.8400</td><td>MULTIPOLYGON (((232676.3 21...</td></tr>\n",
              "\t<tr><td>10021</td><td>PSS3B </td><td>3.741407e+04</td><td>Freshwater Forested/Shrub Wetland</td><td>1.514094e+08</td><td> 270810.0361</td><td>MULTIPOLYGON (((265172.3 21...</td></tr>\n",
              "\t<tr><td>10030</td><td>PFO3A </td><td>8.049439e+00</td><td>Freshwater Forested/Shrub Wetland</td><td>3.257470e+04</td><td>  10852.9098</td><td>MULTIPOLYGON (((240422.4 21...</td></tr>\n",
              "\t<tr><td>10031</td><td>PSS3A </td><td>1.005655e+01</td><td>Freshwater Forested/Shrub Wetland</td><td>4.069718e+04</td><td>  13563.4082</td><td>MULTIPOLYGON (((237674 2130...</td></tr>\n",
              "\t<tr><td>10032</td><td>PEM1A </td><td>2.494951e-01</td><td>Freshwater Emergent Wetland      </td><td>1.009786e+03</td><td>    363.2872</td><td>MULTIPOLYGON (((204271.9 22...</td></tr>\n",
              "\t<tr><td>10033</td><td>PFO3A </td><td>1.334859e+00</td><td>Freshwater Forested/Shrub Wetland</td><td>5.401861e+03</td><td>   1812.8379</td><td>MULTIPOLYGON (((204813.9 22...</td></tr>\n",
              "\t<tr><td>10034</td><td>PSS3A </td><td>7.425328e-01</td><td>Freshwater Forested/Shrub Wetland</td><td>3.004768e+03</td><td>   1011.2833</td><td>MULTIPOLYGON (((204271.9 22...</td></tr>\n",
              "\t<tr><td>10035</td><td>PSS3A </td><td>8.984495e-01</td><td>Freshwater Forested/Shrub Wetland</td><td>3.635785e+03</td><td>   1228.8204</td><td>MULTIPOLYGON (((204475.4 22...</td></tr>\n",
              "\t<tr><td>10036</td><td>PSS3A </td><td>3.231922e+00</td><td>Freshwater Forested/Shrub Wetland</td><td>1.307869e+04</td><td>   4372.9824</td><td>MULTIPOLYGON (((205896 2240...</td></tr>\n",
              "\t<tr><td>10037</td><td>PSS3A </td><td>4.998937e+00</td><td>Freshwater Forested/Shrub Wetland</td><td>2.022956e+04</td><td>   6753.4464</td><td>MULTIPOLYGON (((205708.1 22...</td></tr>\n",
              "\t<tr><td>10048</td><td>M1UBL </td><td>6.817024e+05</td><td>Estuarine and Marine Deepwater   </td><td>2.758752e+09</td><td>1100668.9611</td><td>MULTIPOLYGON (((197671.9 22...</td></tr>\n",
              "</tbody>\n",
              "</table>\n"
            ],
            "text/markdown": "\nA sf: 2105 × 7\n\n| objectid &lt;int&gt; | attribute &lt;chr&gt; | acres &lt;dbl&gt; | wetland_ty &lt;chr&gt; | st_areasha &lt;dbl&gt; | st_perimet &lt;dbl&gt; | geom &lt;MULTIPOLYGON [m]&gt; |\n|---|---|---|---|---|---|---|\n|  1 | PUBHh  |  0.2609826 | Freshwater Pond |  1056.1591 |   121.4864 | MULTIPOLYGON (((230022.7 21... |\n|  2 | PUBHh  |  0.3178072 | Freshwater Pond |  1286.1200 |   129.4962 | MULTIPOLYGON (((228629.6 21... |\n|  3 | PUS3Ah |  0.2185504 | Freshwater Pond |   884.4421 |   107.8919 | MULTIPOLYGON (((226387.3 21... |\n|  4 | PUS3Ah |  0.4064771 | Freshwater Pond |  1644.9544 |   153.5977 | MULTIPOLYGON (((225440.1 21... |\n|  5 | PUS3Ch |  0.2855907 | Freshwater Pond |  1155.7447 |   124.3542 | MULTIPOLYGON (((226575.2 21... |\n|  6 | PUS3Ch |  0.4222651 | Freshwater Pond |  1708.8463 |   156.8640 | MULTIPOLYGON (((228047.3 21... |\n|  7 | PUS3Ch |  0.1888957 | Freshwater Pond |   764.4338 |    99.7818 | MULTIPOLYGON (((226417.9 21... |\n|  8 | PUS3Ch |  0.2335592 | Freshwater Pond |   945.1806 |   111.1221 | MULTIPOLYGON (((225989.5 21... |\n|  9 | PUS3Ch |  0.2310241 | Freshwater Pond |   934.9212 |   111.1674 | MULTIPOLYGON (((228259.3 21... |\n| 10 | PUS3Ch |  0.2015431 | Freshwater Pond |   815.6161 |   105.6278 | MULTIPOLYGON (((227795.9 21... |\n| 11 | R4SBC  |  0.4070043 | Riverine        |  1646.9234 |   556.9228 | MULTIPOLYGON (((235668 2186... |\n| 12 | R4SBC  |  3.9465503 | Riverine        | 15970.8954 |  5325.1074 | MULTIPOLYGON (((226262 2189... |\n| 13 | R4SBC  |  1.3529643 | Riverine        |  5475.1169 |  1832.7210 | MULTIPOLYGON (((225460 2190... |\n| 14 | R4SBC  | 10.1487054 | Riverine        | 41070.0629 | 13694.5000 | MULTIPOLYGON (((236429.9 21... |\n| 15 | R4SBC  |  1.4777824 | Riverine        |  5980.2342 |  1996.2841 | MULTIPOLYGON (((226241.6 21... |\n| 16 | R4SBC  |  5.9207439 | Riverine        | 23960.2932 |  7967.5341 | MULTIPOLYGON (((225756.6 21... |\n| 17 | R4SBC  |  9.0715699 | Riverine        | 36711.1878 | 12207.3978 | MULTIPOLYGON (((225469.7 21... |\n| 18 | R4SBC  |  2.4382452 | Riverine        |  9866.9612 |  3292.6908 | MULTIPOLYGON (((275273 2185... |\n| 19 | R4SBC  |  1.3194634 | Riverine        |  5339.6051 |  1786.6469 | MULTIPOLYGON (((271928.9 21... |\n| 20 | R4SBC  |  3.6162789 | Riverine        | 14634.0357 |  4871.8329 | MULTIPOLYGON (((276912.8 21... |\n| 21 | R4SBC  |  2.4195243 | Riverine        |  9791.1000 |  3264.1502 | MULTIPOLYGON (((276105.1 21... |\n| 22 | R4SBC  |  4.5438877 | Riverine        | 18387.9959 |  6120.0947 | MULTIPOLYGON (((275084.8 21... |\n| 23 | R4SBC  |  2.9091712 | Riverine        | 11772.5234 |  3921.0823 | MULTIPOLYGON (((276630.1 21... |\n| 24 | R4SBC  |  0.3698654 | Riverine        |  1496.7545 |   513.7667 | MULTIPOLYGON (((271892.4 21... |\n| 25 | R4SBC  |  3.7599832 | Riverine        | 15215.7718 |  5063.3799 | MULTIPOLYGON (((274924.3 21... |\n| 26 | R4SBC  |  4.3259941 | Riverine        | 17506.0764 |  5825.8932 | MULTIPOLYGON (((277571.3 21... |\n| 27 | R4SBC  |  2.5076827 | Riverine        | 10147.8762 |  3390.4412 | MULTIPOLYGON (((277627.9 21... |\n| 28 | R4SBC  |  1.4185481 | Riverine        |  5740.5360 |  1935.6427 | MULTIPOLYGON (((273604.8 21... |\n| 29 | R4SBC  |  1.4315388 | Riverine        |  5793.1206 |  1944.2396 | MULTIPOLYGON (((272066.7 21... |\n| 30 | R4SBC  |  3.2701971 | Riverine        | 13233.7760 |  4406.9238 | MULTIPOLYGON (((277715.6 21... |\n| ⋮ | ⋮ | ⋮ | ⋮ | ⋮ | ⋮ | ⋮ |\n|  9982 | PFO3A  | 5.195364e+00 | Freshwater Forested/Shrub Wetland | 2.102443e+04 |    7000.1270 | MULTIPOLYGON (((274932.2 21... |\n|  9983 | PFO3A  | 4.961877e+00 | Freshwater Forested/Shrub Wetland | 2.007969e+04 |    6689.8844 | MULTIPOLYGON (((275174.4 21... |\n|  9984 | PSS3A  | 2.986335e+00 | Freshwater Forested/Shrub Wetland | 1.208519e+04 |    4042.0998 | MULTIPOLYGON (((278582.6 21... |\n|  9985 | PSS3C  | 1.240973e+01 | Freshwater Forested/Shrub Wetland | 5.022014e+04 |   16704.3303 | MULTIPOLYGON (((278683.1 21... |\n|  9986 | PUBH   | 1.071638e+00 | Freshwater Pond                   | 4.336885e+03 |     256.2984 | MULTIPOLYGON (((274576.4 21... |\n|  9987 | PUBH   | 7.934745e-01 | Freshwater Pond                   | 3.211214e+03 |     209.2720 | MULTIPOLYGON (((276158.1 21... |\n|  9988 | R5UBH  | 4.957001e+00 | Riverine                          | 2.005944e+04 |    5018.2701 | MULTIPOLYGON (((266055.7 21... |\n|  9989 | R3UBH  | 1.004487e+00 | Riverine                          | 4.064781e+03 |    1025.4636 | MULTIPOLYGON (((275013.1 21... |\n|  9990 | R3UBH  | 1.460592e+01 | Riverine                          | 5.910723e+04 |   14668.1916 | MULTIPOLYGON (((280917.5 21... |\n|  9991 | E1UBL  | 1.094611e+01 | Estuarine and Marine Deepwater    | 4.429720e+04 |    1266.2043 | MULTIPOLYGON (((214609 2236... |\n|  9992 | M2US2N | 1.171522e+00 | Estuarine and Marine Wetland      | 4.741051e+03 |    1231.9390 | MULTIPOLYGON (((214956.3 22... |\n|  9993 | PFO3B  | 1.580907e+04 | Freshwater Forested/Shrub Wetland | 6.397704e+07 |  148101.3602 | MULTIPOLYGON (((213997.4 22... |\n|  9994 | R3UBH  | 1.378119e+01 | Riverine                          | 5.576973e+04 |   13973.4363 | MULTIPOLYGON (((217848.7 22... |\n|  9995 | PFO3A  | 4.675133e+00 | Freshwater Forested/Shrub Wetland | 1.891954e+04 |    6312.6256 | MULTIPOLYGON (((262213.3 21... |\n|  9996 | PFO3A  | 1.075346e+01 | Freshwater Forested/Shrub Wetland | 4.351734e+04 |   14481.2254 | MULTIPOLYGON (((259682.1 21... |\n|  9997 | PFO3A  | 2.342838e+01 | Freshwater Forested/Shrub Wetland | 9.481049e+04 |   31493.1520 | MULTIPOLYGON (((260396.6 21... |\n|  9998 | PFO3A  | 1.229269e+01 | Freshwater Forested/Shrub Wetland | 4.974637e+04 |   16535.6776 | MULTIPOLYGON (((266452.5 21... |\n|  9999 | PFO3C  | 1.394752e+01 | Freshwater Forested/Shrub Wetland | 5.644312e+04 |   18783.4206 | MULTIPOLYGON (((266746.3 21... |\n| 10000 | PEM1A  | 2.261225e+00 | Freshwater Emergent Wetland       | 9.150821e+03 |    3068.2431 | MULTIPOLYGON (((234411 2115... |\n| 10001 | PFO3A  | 3.923106e+00 | Freshwater Forested/Shrub Wetland | 1.587620e+04 |    5299.8400 | MULTIPOLYGON (((232676.3 21... |\n| 10021 | PSS3B  | 3.741407e+04 | Freshwater Forested/Shrub Wetland | 1.514094e+08 |  270810.0361 | MULTIPOLYGON (((265172.3 21... |\n| 10030 | PFO3A  | 8.049439e+00 | Freshwater Forested/Shrub Wetland | 3.257470e+04 |   10852.9098 | MULTIPOLYGON (((240422.4 21... |\n| 10031 | PSS3A  | 1.005655e+01 | Freshwater Forested/Shrub Wetland | 4.069718e+04 |   13563.4082 | MULTIPOLYGON (((237674 2130... |\n| 10032 | PEM1A  | 2.494951e-01 | Freshwater Emergent Wetland       | 1.009786e+03 |     363.2872 | MULTIPOLYGON (((204271.9 22... |\n| 10033 | PFO3A  | 1.334859e+00 | Freshwater Forested/Shrub Wetland | 5.401861e+03 |    1812.8379 | MULTIPOLYGON (((204813.9 22... |\n| 10034 | PSS3A  | 7.425328e-01 | Freshwater Forested/Shrub Wetland | 3.004768e+03 |    1011.2833 | MULTIPOLYGON (((204271.9 22... |\n| 10035 | PSS3A  | 8.984495e-01 | Freshwater Forested/Shrub Wetland | 3.635785e+03 |    1228.8204 | MULTIPOLYGON (((204475.4 22... |\n| 10036 | PSS3A  | 3.231922e+00 | Freshwater Forested/Shrub Wetland | 1.307869e+04 |    4372.9824 | MULTIPOLYGON (((205896 2240... |\n| 10037 | PSS3A  | 4.998937e+00 | Freshwater Forested/Shrub Wetland | 2.022956e+04 |    6753.4464 | MULTIPOLYGON (((205708.1 22... |\n| 10048 | M1UBL  | 6.817024e+05 | Estuarine and Marine Deepwater    | 2.758752e+09 | 1100668.9611 | MULTIPOLYGON (((197671.9 22... |\n\n",
            "text/latex": "A sf: 2105 × 7\n\\begin{tabular}{lllllll}\n objectid & attribute & acres & wetland\\_ty & st\\_areasha & st\\_perimet & geom\\\\\n <int> & <chr> & <dbl> & <chr> & <dbl> & <dbl> & <MULTIPOLYGON {[}m{]}>\\\\\n\\hline\n\t  1 & PUBHh  &  0.2609826 & Freshwater Pond &  1056.1591 &   121.4864 & MULTIPOLYGON (((230022.7 21...\\\\\n\t  2 & PUBHh  &  0.3178072 & Freshwater Pond &  1286.1200 &   129.4962 & MULTIPOLYGON (((228629.6 21...\\\\\n\t  3 & PUS3Ah &  0.2185504 & Freshwater Pond &   884.4421 &   107.8919 & MULTIPOLYGON (((226387.3 21...\\\\\n\t  4 & PUS3Ah &  0.4064771 & Freshwater Pond &  1644.9544 &   153.5977 & MULTIPOLYGON (((225440.1 21...\\\\\n\t  5 & PUS3Ch &  0.2855907 & Freshwater Pond &  1155.7447 &   124.3542 & MULTIPOLYGON (((226575.2 21...\\\\\n\t  6 & PUS3Ch &  0.4222651 & Freshwater Pond &  1708.8463 &   156.8640 & MULTIPOLYGON (((228047.3 21...\\\\\n\t  7 & PUS3Ch &  0.1888957 & Freshwater Pond &   764.4338 &    99.7818 & MULTIPOLYGON (((226417.9 21...\\\\\n\t  8 & PUS3Ch &  0.2335592 & Freshwater Pond &   945.1806 &   111.1221 & MULTIPOLYGON (((225989.5 21...\\\\\n\t  9 & PUS3Ch &  0.2310241 & Freshwater Pond &   934.9212 &   111.1674 & MULTIPOLYGON (((228259.3 21...\\\\\n\t 10 & PUS3Ch &  0.2015431 & Freshwater Pond &   815.6161 &   105.6278 & MULTIPOLYGON (((227795.9 21...\\\\\n\t 11 & R4SBC  &  0.4070043 & Riverine        &  1646.9234 &   556.9228 & MULTIPOLYGON (((235668 2186...\\\\\n\t 12 & R4SBC  &  3.9465503 & Riverine        & 15970.8954 &  5325.1074 & MULTIPOLYGON (((226262 2189...\\\\\n\t 13 & R4SBC  &  1.3529643 & Riverine        &  5475.1169 &  1832.7210 & MULTIPOLYGON (((225460 2190...\\\\\n\t 14 & R4SBC  & 10.1487054 & Riverine        & 41070.0629 & 13694.5000 & MULTIPOLYGON (((236429.9 21...\\\\\n\t 15 & R4SBC  &  1.4777824 & Riverine        &  5980.2342 &  1996.2841 & MULTIPOLYGON (((226241.6 21...\\\\\n\t 16 & R4SBC  &  5.9207439 & Riverine        & 23960.2932 &  7967.5341 & MULTIPOLYGON (((225756.6 21...\\\\\n\t 17 & R4SBC  &  9.0715699 & Riverine        & 36711.1878 & 12207.3978 & MULTIPOLYGON (((225469.7 21...\\\\\n\t 18 & R4SBC  &  2.4382452 & Riverine        &  9866.9612 &  3292.6908 & MULTIPOLYGON (((275273 2185...\\\\\n\t 19 & R4SBC  &  1.3194634 & Riverine        &  5339.6051 &  1786.6469 & MULTIPOLYGON (((271928.9 21...\\\\\n\t 20 & R4SBC  &  3.6162789 & Riverine        & 14634.0357 &  4871.8329 & MULTIPOLYGON (((276912.8 21...\\\\\n\t 21 & R4SBC  &  2.4195243 & Riverine        &  9791.1000 &  3264.1502 & MULTIPOLYGON (((276105.1 21...\\\\\n\t 22 & R4SBC  &  4.5438877 & Riverine        & 18387.9959 &  6120.0947 & MULTIPOLYGON (((275084.8 21...\\\\\n\t 23 & R4SBC  &  2.9091712 & Riverine        & 11772.5234 &  3921.0823 & MULTIPOLYGON (((276630.1 21...\\\\\n\t 24 & R4SBC  &  0.3698654 & Riverine        &  1496.7545 &   513.7667 & MULTIPOLYGON (((271892.4 21...\\\\\n\t 25 & R4SBC  &  3.7599832 & Riverine        & 15215.7718 &  5063.3799 & MULTIPOLYGON (((274924.3 21...\\\\\n\t 26 & R4SBC  &  4.3259941 & Riverine        & 17506.0764 &  5825.8932 & MULTIPOLYGON (((277571.3 21...\\\\\n\t 27 & R4SBC  &  2.5076827 & Riverine        & 10147.8762 &  3390.4412 & MULTIPOLYGON (((277627.9 21...\\\\\n\t 28 & R4SBC  &  1.4185481 & Riverine        &  5740.5360 &  1935.6427 & MULTIPOLYGON (((273604.8 21...\\\\\n\t 29 & R4SBC  &  1.4315388 & Riverine        &  5793.1206 &  1944.2396 & MULTIPOLYGON (((272066.7 21...\\\\\n\t 30 & R4SBC  &  3.2701971 & Riverine        & 13233.7760 &  4406.9238 & MULTIPOLYGON (((277715.6 21...\\\\\n\t ⋮ & ⋮ & ⋮ & ⋮ & ⋮ & ⋮ & ⋮\\\\\n\t  9982 & PFO3A  & 5.195364e+00 & Freshwater Forested/Shrub Wetland & 2.102443e+04 &    7000.1270 & MULTIPOLYGON (((274932.2 21...\\\\\n\t  9983 & PFO3A  & 4.961877e+00 & Freshwater Forested/Shrub Wetland & 2.007969e+04 &    6689.8844 & MULTIPOLYGON (((275174.4 21...\\\\\n\t  9984 & PSS3A  & 2.986335e+00 & Freshwater Forested/Shrub Wetland & 1.208519e+04 &    4042.0998 & MULTIPOLYGON (((278582.6 21...\\\\\n\t  9985 & PSS3C  & 1.240973e+01 & Freshwater Forested/Shrub Wetland & 5.022014e+04 &   16704.3303 & MULTIPOLYGON (((278683.1 21...\\\\\n\t  9986 & PUBH   & 1.071638e+00 & Freshwater Pond                   & 4.336885e+03 &     256.2984 & MULTIPOLYGON (((274576.4 21...\\\\\n\t  9987 & PUBH   & 7.934745e-01 & Freshwater Pond                   & 3.211214e+03 &     209.2720 & MULTIPOLYGON (((276158.1 21...\\\\\n\t  9988 & R5UBH  & 4.957001e+00 & Riverine                          & 2.005944e+04 &    5018.2701 & MULTIPOLYGON (((266055.7 21...\\\\\n\t  9989 & R3UBH  & 1.004487e+00 & Riverine                          & 4.064781e+03 &    1025.4636 & MULTIPOLYGON (((275013.1 21...\\\\\n\t  9990 & R3UBH  & 1.460592e+01 & Riverine                          & 5.910723e+04 &   14668.1916 & MULTIPOLYGON (((280917.5 21...\\\\\n\t  9991 & E1UBL  & 1.094611e+01 & Estuarine and Marine Deepwater    & 4.429720e+04 &    1266.2043 & MULTIPOLYGON (((214609 2236...\\\\\n\t  9992 & M2US2N & 1.171522e+00 & Estuarine and Marine Wetland      & 4.741051e+03 &    1231.9390 & MULTIPOLYGON (((214956.3 22...\\\\\n\t  9993 & PFO3B  & 1.580907e+04 & Freshwater Forested/Shrub Wetland & 6.397704e+07 &  148101.3602 & MULTIPOLYGON (((213997.4 22...\\\\\n\t  9994 & R3UBH  & 1.378119e+01 & Riverine                          & 5.576973e+04 &   13973.4363 & MULTIPOLYGON (((217848.7 22...\\\\\n\t  9995 & PFO3A  & 4.675133e+00 & Freshwater Forested/Shrub Wetland & 1.891954e+04 &    6312.6256 & MULTIPOLYGON (((262213.3 21...\\\\\n\t  9996 & PFO3A  & 1.075346e+01 & Freshwater Forested/Shrub Wetland & 4.351734e+04 &   14481.2254 & MULTIPOLYGON (((259682.1 21...\\\\\n\t  9997 & PFO3A  & 2.342838e+01 & Freshwater Forested/Shrub Wetland & 9.481049e+04 &   31493.1520 & MULTIPOLYGON (((260396.6 21...\\\\\n\t  9998 & PFO3A  & 1.229269e+01 & Freshwater Forested/Shrub Wetland & 4.974637e+04 &   16535.6776 & MULTIPOLYGON (((266452.5 21...\\\\\n\t  9999 & PFO3C  & 1.394752e+01 & Freshwater Forested/Shrub Wetland & 5.644312e+04 &   18783.4206 & MULTIPOLYGON (((266746.3 21...\\\\\n\t 10000 & PEM1A  & 2.261225e+00 & Freshwater Emergent Wetland       & 9.150821e+03 &    3068.2431 & MULTIPOLYGON (((234411 2115...\\\\\n\t 10001 & PFO3A  & 3.923106e+00 & Freshwater Forested/Shrub Wetland & 1.587620e+04 &    5299.8400 & MULTIPOLYGON (((232676.3 21...\\\\\n\t 10021 & PSS3B  & 3.741407e+04 & Freshwater Forested/Shrub Wetland & 1.514094e+08 &  270810.0361 & MULTIPOLYGON (((265172.3 21...\\\\\n\t 10030 & PFO3A  & 8.049439e+00 & Freshwater Forested/Shrub Wetland & 3.257470e+04 &   10852.9098 & MULTIPOLYGON (((240422.4 21...\\\\\n\t 10031 & PSS3A  & 1.005655e+01 & Freshwater Forested/Shrub Wetland & 4.069718e+04 &   13563.4082 & MULTIPOLYGON (((237674 2130...\\\\\n\t 10032 & PEM1A  & 2.494951e-01 & Freshwater Emergent Wetland       & 1.009786e+03 &     363.2872 & MULTIPOLYGON (((204271.9 22...\\\\\n\t 10033 & PFO3A  & 1.334859e+00 & Freshwater Forested/Shrub Wetland & 5.401861e+03 &    1812.8379 & MULTIPOLYGON (((204813.9 22...\\\\\n\t 10034 & PSS3A  & 7.425328e-01 & Freshwater Forested/Shrub Wetland & 3.004768e+03 &    1011.2833 & MULTIPOLYGON (((204271.9 22...\\\\\n\t 10035 & PSS3A  & 8.984495e-01 & Freshwater Forested/Shrub Wetland & 3.635785e+03 &    1228.8204 & MULTIPOLYGON (((204475.4 22...\\\\\n\t 10036 & PSS3A  & 3.231922e+00 & Freshwater Forested/Shrub Wetland & 1.307869e+04 &    4372.9824 & MULTIPOLYGON (((205896 2240...\\\\\n\t 10037 & PSS3A  & 4.998937e+00 & Freshwater Forested/Shrub Wetland & 2.022956e+04 &    6753.4464 & MULTIPOLYGON (((205708.1 22...\\\\\n\t 10048 & M1UBL  & 6.817024e+05 & Estuarine and Marine Deepwater    & 2.758752e+09 & 1100668.9611 & MULTIPOLYGON (((197671.9 22...\\\\\n\\end{tabular}\n",
            "text/plain": [
              "     objectid attribute acres        wetland_ty                       \n",
              "1     1       PUBHh      0.2609826   Freshwater Pond                  \n",
              "2     2       PUBHh      0.3178072   Freshwater Pond                  \n",
              "3     3       PUS3Ah     0.2185504   Freshwater Pond                  \n",
              "4     4       PUS3Ah     0.4064771   Freshwater Pond                  \n",
              "5     5       PUS3Ch     0.2855907   Freshwater Pond                  \n",
              "6     6       PUS3Ch     0.4222651   Freshwater Pond                  \n",
              "7     7       PUS3Ch     0.1888957   Freshwater Pond                  \n",
              "8     8       PUS3Ch     0.2335592   Freshwater Pond                  \n",
              "9     9       PUS3Ch     0.2310241   Freshwater Pond                  \n",
              "10   10       PUS3Ch     0.2015431   Freshwater Pond                  \n",
              "11   11       R4SBC      0.4070043   Riverine                         \n",
              "12   12       R4SBC      3.9465503   Riverine                         \n",
              "13   13       R4SBC      1.3529643   Riverine                         \n",
              "14   14       R4SBC     10.1487054   Riverine                         \n",
              "15   15       R4SBC      1.4777824   Riverine                         \n",
              "16   16       R4SBC      5.9207439   Riverine                         \n",
              "17   17       R4SBC      9.0715699   Riverine                         \n",
              "18   18       R4SBC      2.4382452   Riverine                         \n",
              "19   19       R4SBC      1.3194634   Riverine                         \n",
              "20   20       R4SBC      3.6162789   Riverine                         \n",
              "21   21       R4SBC      2.4195243   Riverine                         \n",
              "22   22       R4SBC      4.5438877   Riverine                         \n",
              "23   23       R4SBC      2.9091712   Riverine                         \n",
              "24   24       R4SBC      0.3698654   Riverine                         \n",
              "25   25       R4SBC      3.7599832   Riverine                         \n",
              "26   26       R4SBC      4.3259941   Riverine                         \n",
              "27   27       R4SBC      2.5076827   Riverine                         \n",
              "28   28       R4SBC      1.4185481   Riverine                         \n",
              "29   29       R4SBC      1.4315388   Riverine                         \n",
              "30   30       R4SBC      3.2701971   Riverine                         \n",
              "⋮    ⋮        ⋮         ⋮            ⋮                                \n",
              "2076  9982    PFO3A     5.195364e+00 Freshwater Forested/Shrub Wetland\n",
              "2077  9983    PFO3A     4.961877e+00 Freshwater Forested/Shrub Wetland\n",
              "2078  9984    PSS3A     2.986335e+00 Freshwater Forested/Shrub Wetland\n",
              "2079  9985    PSS3C     1.240973e+01 Freshwater Forested/Shrub Wetland\n",
              "2080  9986    PUBH      1.071638e+00 Freshwater Pond                  \n",
              "2081  9987    PUBH      7.934745e-01 Freshwater Pond                  \n",
              "2082  9988    R5UBH     4.957001e+00 Riverine                         \n",
              "2083  9989    R3UBH     1.004487e+00 Riverine                         \n",
              "2084  9990    R3UBH     1.460592e+01 Riverine                         \n",
              "2085  9991    E1UBL     1.094611e+01 Estuarine and Marine Deepwater   \n",
              "2086  9992    M2US2N    1.171522e+00 Estuarine and Marine Wetland     \n",
              "2087  9993    PFO3B     1.580907e+04 Freshwater Forested/Shrub Wetland\n",
              "2088  9994    R3UBH     1.378119e+01 Riverine                         \n",
              "2089  9995    PFO3A     4.675133e+00 Freshwater Forested/Shrub Wetland\n",
              "2090  9996    PFO3A     1.075346e+01 Freshwater Forested/Shrub Wetland\n",
              "2091  9997    PFO3A     2.342838e+01 Freshwater Forested/Shrub Wetland\n",
              "2092  9998    PFO3A     1.229269e+01 Freshwater Forested/Shrub Wetland\n",
              "2093  9999    PFO3C     1.394752e+01 Freshwater Forested/Shrub Wetland\n",
              "2094 10000    PEM1A     2.261225e+00 Freshwater Emergent Wetland      \n",
              "2095 10001    PFO3A     3.923106e+00 Freshwater Forested/Shrub Wetland\n",
              "2096 10021    PSS3B     3.741407e+04 Freshwater Forested/Shrub Wetland\n",
              "2097 10030    PFO3A     8.049439e+00 Freshwater Forested/Shrub Wetland\n",
              "2098 10031    PSS3A     1.005655e+01 Freshwater Forested/Shrub Wetland\n",
              "2099 10032    PEM1A     2.494951e-01 Freshwater Emergent Wetland      \n",
              "2100 10033    PFO3A     1.334859e+00 Freshwater Forested/Shrub Wetland\n",
              "2101 10034    PSS3A     7.425328e-01 Freshwater Forested/Shrub Wetland\n",
              "2102 10035    PSS3A     8.984495e-01 Freshwater Forested/Shrub Wetland\n",
              "2103 10036    PSS3A     3.231922e+00 Freshwater Forested/Shrub Wetland\n",
              "2104 10037    PSS3A     4.998937e+00 Freshwater Forested/Shrub Wetland\n",
              "2105 10048    M1UBL     6.817024e+05 Estuarine and Marine Deepwater   \n",
              "     st_areasha   st_perimet   geom                          \n",
              "1     1056.1591     121.4864   MULTIPOLYGON (((230022.7 21...\n",
              "2     1286.1200     129.4962   MULTIPOLYGON (((228629.6 21...\n",
              "3      884.4421     107.8919   MULTIPOLYGON (((226387.3 21...\n",
              "4     1644.9544     153.5977   MULTIPOLYGON (((225440.1 21...\n",
              "5     1155.7447     124.3542   MULTIPOLYGON (((226575.2 21...\n",
              "6     1708.8463     156.8640   MULTIPOLYGON (((228047.3 21...\n",
              "7      764.4338      99.7818   MULTIPOLYGON (((226417.9 21...\n",
              "8      945.1806     111.1221   MULTIPOLYGON (((225989.5 21...\n",
              "9      934.9212     111.1674   MULTIPOLYGON (((228259.3 21...\n",
              "10     815.6161     105.6278   MULTIPOLYGON (((227795.9 21...\n",
              "11    1646.9234     556.9228   MULTIPOLYGON (((235668 2186...\n",
              "12   15970.8954    5325.1074   MULTIPOLYGON (((226262 2189...\n",
              "13    5475.1169    1832.7210   MULTIPOLYGON (((225460 2190...\n",
              "14   41070.0629   13694.5000   MULTIPOLYGON (((236429.9 21...\n",
              "15    5980.2342    1996.2841   MULTIPOLYGON (((226241.6 21...\n",
              "16   23960.2932    7967.5341   MULTIPOLYGON (((225756.6 21...\n",
              "17   36711.1878   12207.3978   MULTIPOLYGON (((225469.7 21...\n",
              "18    9866.9612    3292.6908   MULTIPOLYGON (((275273 2185...\n",
              "19    5339.6051    1786.6469   MULTIPOLYGON (((271928.9 21...\n",
              "20   14634.0357    4871.8329   MULTIPOLYGON (((276912.8 21...\n",
              "21    9791.1000    3264.1502   MULTIPOLYGON (((276105.1 21...\n",
              "22   18387.9959    6120.0947   MULTIPOLYGON (((275084.8 21...\n",
              "23   11772.5234    3921.0823   MULTIPOLYGON (((276630.1 21...\n",
              "24    1496.7545     513.7667   MULTIPOLYGON (((271892.4 21...\n",
              "25   15215.7718    5063.3799   MULTIPOLYGON (((274924.3 21...\n",
              "26   17506.0764    5825.8932   MULTIPOLYGON (((277571.3 21...\n",
              "27   10147.8762    3390.4412   MULTIPOLYGON (((277627.9 21...\n",
              "28    5740.5360    1935.6427   MULTIPOLYGON (((273604.8 21...\n",
              "29    5793.1206    1944.2396   MULTIPOLYGON (((272066.7 21...\n",
              "30   13233.7760    4406.9238   MULTIPOLYGON (((277715.6 21...\n",
              "⋮    ⋮            ⋮            ⋮                             \n",
              "2076 2.102443e+04    7000.1270 MULTIPOLYGON (((274932.2 21...\n",
              "2077 2.007969e+04    6689.8844 MULTIPOLYGON (((275174.4 21...\n",
              "2078 1.208519e+04    4042.0998 MULTIPOLYGON (((278582.6 21...\n",
              "2079 5.022014e+04   16704.3303 MULTIPOLYGON (((278683.1 21...\n",
              "2080 4.336885e+03     256.2984 MULTIPOLYGON (((274576.4 21...\n",
              "2081 3.211214e+03     209.2720 MULTIPOLYGON (((276158.1 21...\n",
              "2082 2.005944e+04    5018.2701 MULTIPOLYGON (((266055.7 21...\n",
              "2083 4.064781e+03    1025.4636 MULTIPOLYGON (((275013.1 21...\n",
              "2084 5.910723e+04   14668.1916 MULTIPOLYGON (((280917.5 21...\n",
              "2085 4.429720e+04    1266.2043 MULTIPOLYGON (((214609 2236...\n",
              "2086 4.741051e+03    1231.9390 MULTIPOLYGON (((214956.3 22...\n",
              "2087 6.397704e+07  148101.3602 MULTIPOLYGON (((213997.4 22...\n",
              "2088 5.576973e+04   13973.4363 MULTIPOLYGON (((217848.7 22...\n",
              "2089 1.891954e+04    6312.6256 MULTIPOLYGON (((262213.3 21...\n",
              "2090 4.351734e+04   14481.2254 MULTIPOLYGON (((259682.1 21...\n",
              "2091 9.481049e+04   31493.1520 MULTIPOLYGON (((260396.6 21...\n",
              "2092 4.974637e+04   16535.6776 MULTIPOLYGON (((266452.5 21...\n",
              "2093 5.644312e+04   18783.4206 MULTIPOLYGON (((266746.3 21...\n",
              "2094 9.150821e+03    3068.2431 MULTIPOLYGON (((234411 2115...\n",
              "2095 1.587620e+04    5299.8400 MULTIPOLYGON (((232676.3 21...\n",
              "2096 1.514094e+08  270810.0361 MULTIPOLYGON (((265172.3 21...\n",
              "2097 3.257470e+04   10852.9098 MULTIPOLYGON (((240422.4 21...\n",
              "2098 4.069718e+04   13563.4082 MULTIPOLYGON (((237674 2130...\n",
              "2099 1.009786e+03     363.2872 MULTIPOLYGON (((204271.9 22...\n",
              "2100 5.401861e+03    1812.8379 MULTIPOLYGON (((204813.9 22...\n",
              "2101 3.004768e+03    1011.2833 MULTIPOLYGON (((204271.9 22...\n",
              "2102 3.635785e+03    1228.8204 MULTIPOLYGON (((204475.4 22...\n",
              "2103 1.307869e+04    4372.9824 MULTIPOLYGON (((205896 2240...\n",
              "2104 2.022956e+04    6753.4464 MULTIPOLYGON (((205708.1 22...\n",
              "2105 2.758752e+09 1100668.9611 MULTIPOLYGON (((197671.9 22..."
            ]
          },
          "metadata": {}
        }
      ]
    },
    {
      "cell_type": "code",
      "source": [
        "# convert wetland_ty to a factor then to numeric\n",
        "\n",
        "nwiutm5$wetland_ty <- as.factor(nwiutm5$wetland_ty)"
      ],
      "metadata": {
        "id": "tmRLalGwQLT_"
      },
      "execution_count": 428,
      "outputs": []
    },
    {
      "cell_type": "code",
      "source": [
        "nwiutm4"
      ],
      "metadata": {
        "id": "lUFHNxXQRCFh"
      },
      "execution_count": null,
      "outputs": []
    },
    {
      "cell_type": "code",
      "source": [
        "wetland_table <- data.frame(\n",
        "  wetland_ty = c(\"Estuarine and Marine Deepwater\", \"Lake\", \"Riverine\", \"Estuarine and Marine Wetland\",\n",
        "  \"Freshwater Emergent Wetland\", \"Freshwater Forested/Shrub Wetland\", \"Freshwater Pond\"),\n",
        "  value = c(1, 2, 3, 4, 5, 6, 7)\n",
        ")"
      ],
      "metadata": {
        "id": "0kJaIplrNFoP"
      },
      "execution_count": 429,
      "outputs": []
    },
    {
      "cell_type": "code",
      "source": [
        "nwiutm5$wetland_ty <- as.numeric(nwiutm5$wetland_ty)"
      ],
      "metadata": {
        "id": "A-0xP8jcQdJN"
      },
      "execution_count": null,
      "outputs": []
    },
    {
      "cell_type": "code",
      "source": [
        "nwiutm4"
      ],
      "metadata": {
        "id": "eeluAb1UQ2eR"
      },
      "execution_count": null,
      "outputs": []
    },
    {
      "cell_type": "code",
      "source": [
        "nwiutm5_numeric <- nwiutm5 %>%\n",
        "  left_join(wetland_table, by = \"wetland_ty\") %>%\n",
        "  mutate(wetland_ty_numeric = ifelse(is.na(value), default_value, value)) # Replace NA with a default value if needed\n"
      ],
      "metadata": {
        "id": "M8UjEDeqPE7H"
      },
      "execution_count": 430,
      "outputs": []
    },
    {
      "cell_type": "code",
      "source": [
        "nwiutm5_numeric"
      ],
      "metadata": {
        "id": "Daqsa63ORJ4G"
      },
      "execution_count": null,
      "outputs": []
    },
    {
      "cell_type": "code",
      "source": [
        "dir.create(\"/content/workingfolder\")\n",
        "dir.create(\"/content/workingfolder/aoi\")\n",
        "dir.create(\"/content/workingfolder/aoi/utm4\")\n",
        "dir.create(\"/content/workingfolder/aoi/utm5\")\n",
        "\n",
        "\n",
        "dir.create(\"/content/workingfolder/dem\")\n",
        "dir.create(\"/content/workingfolder/dem/utm4\")\n",
        "dir.create(\"/content/workingfolder/dem/utm5\")\n",
        "\n",
        "dir.create(\"/content/workingfolder/ccap\")\n",
        "dir.create(\"/content/workingfolder/ccap/utm4\")\n",
        "dir.create(\"/content/workingfolder/ccap/utm5\")\n",
        "\n",
        "dir.create(\"/content/workingfolder/nlcd\")\n",
        "dir.create(\"/content/workingfolder/nlcd/utm4\")\n",
        "dir.create(\"/content/workingfolder/nlcd/utm5\")\n",
        "\n",
        "dir.create(\"/content/workingfolder/nwi\")\n",
        "dir.create(\"/content/workingfolder/nwi/utm4\")\n",
        "dir.create(\"/content/workingfolder/nwi/utm5\")"
      ],
      "metadata": {
        "id": "VJLecs9GVr7V"
      },
      "execution_count": 3,
      "outputs": []
    },
    {
      "cell_type": "markdown",
      "source": [
        "Set up imagery folder"
      ],
      "metadata": {
        "id": "UDq08IcAWEqj"
      }
    },
    {
      "cell_type": "code",
      "source": [
        "dir.create(\"/content/imagery\")\n",
        "dir.create(\"/content/imagery/naip\")\n",
        "dir.create(\"/content/imagery/naip/utm4\")\n",
        "dir.create(\"/content/imagery/naip/utm5\")\n",
        "\n",
        "dir.create(\"/content/imagery/planet\")\n",
        "dir.create(\"/content/imagery/planet/2018\")\n",
        "dir.create(\"/content/imagery/planet/2019\")\n",
        "dir.create(\"/content/imagery/planet/2020\")\n"
      ],
      "metadata": {
        "id": "67J_aDb_Vw9x"
      },
      "execution_count": 4,
      "outputs": []
    },
    {
      "cell_type": "code",
      "source": [
        "dir.create(\"/content/imagery/planet/stack\")\n",
        "dir.create(\"/content/imagery/planet/stack/2018\")\n",
        "dir.create(\"/content/imagery/planet/stack/2019\")\n",
        "dir.create(\"/content/imagery/planet/stack/2020\")"
      ],
      "metadata": {
        "colab": {
          "base_uri": "https://localhost:8080/"
        },
        "id": "Q73PPdGB6W4Q",
        "outputId": "a75edbc0-ab9b-4733-bf8f-56eab8b02d27"
      },
      "execution_count": 42,
      "outputs": [
        {
          "output_type": "stream",
          "name": "stderr",
          "text": [
            "Warning message in dir.create(\"/content/imagery/planet/stack\"):\n",
            "“'/content/imagery/planet/stack' already exists”\n",
            "Warning message in dir.create(\"/content/imagery/planet/stack/2019\"):\n",
            "“'/content/imagery/planet/stack/2019' already exists”\n",
            "Warning message in dir.create(\"/content/imagery/planet/stack/2020\"):\n",
            "“'/content/imagery/planet/stack/2020' already exists”\n"
          ]
        }
      ]
    },
    {
      "cell_type": "code",
      "source": [
        "dir.create(\"/content/imagery/planet/stack/2018/utm4\")\n",
        "dir.create(\"/content/imagery/planet/stack/2019/utm4\")\n",
        "dir.create(\"/content/imagery/planet/stack/2020/utm4\")\n",
        "\n",
        "dir.create(\"/content/imagery/planet/stack/2018/utm5\")\n",
        "dir.create(\"/content/imagery/planet/stack/2019/utm5\")\n",
        "dir.create(\"/content/imagery/planet/stack/2020/utm5\")"
      ],
      "metadata": {
        "id": "-Rt-Ilr76-ZX"
      },
      "execution_count": 43,
      "outputs": []
    },
    {
      "cell_type": "code",
      "source": [
        "dir.create(\"/content/imagery/planet/hawaii\")\n",
        "dir.create(\"/content/imagery/planet/hawaii/2018\")\n",
        "dir.create(\"/content/imagery/planet/hawaii/2019\")\n",
        "dir.create(\"/content/imagery/planet/hawaii/2020\")"
      ],
      "metadata": {
        "id": "2v8QDL_XzUfY"
      },
      "execution_count": 29,
      "outputs": []
    },
    {
      "cell_type": "code",
      "source": [
        "dir.create(\"/content/output_chips\")"
      ],
      "metadata": {
        "id": "hti7Ad7k8TO7"
      },
      "execution_count": 5,
      "outputs": []
    },
    {
      "cell_type": "markdown",
      "source": [
        "add aoi data"
      ],
      "metadata": {
        "id": "w6rfmsJdp6Na"
      }
    },
    {
      "cell_type": "code",
      "source": [
        "# https://drive.google.com/file/d/1AsyHxmJ7MUJHwEqXUG61OXQ6bz9mgvDH/view?usp=drive_link\n",
        "drive_download(file = as_id(\"1AsyHxmJ7MUJHwEqXUG61OXQ6bz9mgvDH\"),\n",
        "path = \"/content/workingfolder/aoi/utm4/aoi_utm4.gpkg\", overwrite = FALSE)\n",
        "\n",
        "# https://drive.google.com/file/d/1klsckpbR73H4-2lj4Pi_4cyvQlU6dFbc/view?usp=drive_link\n",
        "drive_download(file = as_id(\"1klsckpbR73H4-2lj4Pi_4cyvQlU6dFbc\"),\n",
        "path = \"/content/workingfolder/aoi/utm5/aoi_utm5.gpkg\", overwrite = FALSE)"
      ],
      "metadata": {
        "colab": {
          "base_uri": "https://localhost:8080/"
        },
        "id": "GE0fFTEIiD3G",
        "outputId": "eeaa4899-c4ed-4246-aaa2-6dd15db3851a"
      },
      "execution_count": 6,
      "outputs": [
        {
          "output_type": "stream",
          "name": "stderr",
          "text": [
            "File downloaded:\n",
            "\n",
            "• \u001b[36maoi_wetland_4.gpkg\u001b[39m \u001b[90m<id: 1AsyHxmJ7MUJHwEqXUG61OXQ6bz9mgvDH>\u001b[39m\n",
            "\n",
            "Saved locally as:\n",
            "\n",
            "• \u001b[34m/content/workingfolder/aoi/utm4/aoi_utm4.gpkg\u001b[39m\n",
            "\n",
            "File downloaded:\n",
            "\n",
            "• \u001b[36maoi_wetland_hawaii.gpkg\u001b[39m \u001b[90m<id: 1klsckpbR73H4-2lj4Pi_4cyvQlU6dFbc>\u001b[39m\n",
            "\n",
            "Saved locally as:\n",
            "\n",
            "• \u001b[34m/content/workingfolder/aoi/utm5/aoi_utm5.gpkg\u001b[39m\n",
            "\n"
          ]
        }
      ]
    },
    {
      "cell_type": "markdown",
      "source": [
        "add dem, ccap, nlcd, and nwi data"
      ],
      "metadata": {
        "id": "jgFImwLEp9JJ"
      }
    },
    {
      "cell_type": "code",
      "source": [
        "# load the dem\n",
        "# https://drive.google.com/drive/folders/1URF4YPEnWirmyWjmueyIgiYchcORWe6q?usp=drive_link\n",
        "jp_folder = \"1URF4YPEnWirmyWjmueyIgiYchcORWe6q\"\n",
        "folder_id = drive_get(as_id(jp_folder)) # get folder ID\n",
        "print(folder_id) #print folder ID\n",
        "\n",
        "# Find files in the folder\n",
        "files = drive_ls(folder_id)\n",
        "\n",
        "# Loop through directories and download files inside them\n",
        "for (i in seq_along(files$name)) {\n",
        "  i_dir <- files[i, ] # Select directory\n",
        "    try({\n",
        "\n",
        "      # Download files from the directory to the specified path\n",
        "      drive_download(\n",
        "        as_id(i_dir$id[1]),\n",
        "        path = paste0('/content/workingfolder/dem/utm4/', i_dir$name[1])\n",
        "      )\n",
        "    })\n",
        "  }\n",
        "\n",
        "# load the ccap\n",
        "# https://drive.google.com/drive/folders/1SPcrK0XyJeP9zSdi9k_vbyCgd9GpvC16?usp=drive_link\n",
        "jp_folder = \"1SPcrK0XyJeP9zSdi9k_vbyCgd9GpvC16\"\n",
        "folder_id = drive_get(as_id(jp_folder)) # get folder ID\n",
        "print(folder_id) #print folder ID\n",
        "\n",
        "# Find files in the folder\n",
        "files = drive_ls(folder_id)\n",
        "\n",
        "# Loop through directories and download files inside them\n",
        "for (i in seq_along(files$name)) {\n",
        "  i_dir <- files[i, ] # Select directory\n",
        "    try({\n",
        "\n",
        "      # Download files from the directory to the specified path\n",
        "      drive_download(\n",
        "        as_id(i_dir$id[1]),\n",
        "        path = paste0('/content/workingfolder/ccap/utm4/', i_dir$name[1])\n",
        "      )\n",
        "    })\n",
        "  }\n",
        "\n",
        "# load the ccap, utm5\n",
        "# https://drive.google.com/drive/folders/18M_A-fAL-QMCgKKhjjR9Zzr5OIsD6Swk?usp=drive_link\n",
        "jp_folder = \"18M_A-fAL-QMCgKKhjjR9Zzr5OIsD6Swk\"\n",
        "folder_id = drive_get(as_id(jp_folder)) # get folder ID\n",
        "print(folder_id) #print folder ID\n",
        "\n",
        "# Find files in the folder\n",
        "files = drive_ls(folder_id)\n",
        "\n",
        "# Loop through directories and download files inside them\n",
        "for (i in seq_along(files$name)) {\n",
        "  i_dir <- files[i, ] # Select directory\n",
        "    try({\n",
        "\n",
        "      # Download files from the directory to the specified path\n",
        "      drive_download(\n",
        "        as_id(i_dir$id[1]),\n",
        "        path = paste0('/content/workingfolder/ccap/utm5/', i_dir$name[1])\n",
        "      )\n",
        "    })\n",
        "  }\n",
        "\n",
        "# load the nlcd, utm 4\n",
        "# https://drive.google.com/file/d/1KVtVRzV8j3cIhedykbEoBtHrwuB-RqwD/view?usp=drive_link\n",
        "drive_download(file = as_id('1KVtVRzV8j3cIhedykbEoBtHrwuB-RqwD'), path =  '/content/workingfolder/nlcd/utm4/nlcd_utm4.tif', overwrite = FALSE)\n",
        "\n",
        "# load the nlcd, utm 5\n",
        "# https://drive.google.com/file/d/155LX_Gle2Pdm1pJ19po5J-PJEjFlC0oT/view?usp=drive_link\n",
        "drive_download(file = as_id('155LX_Gle2Pdm1pJ19po5J-PJEjFlC0oT'), path =  '/content/workingfolder/nlcd/utm5/nlcd_utm5.tif', overwrite = FALSE)\n",
        "\n",
        "\n",
        "# load the nwi, utm 4 WITH NUMERIC COLUMN\n",
        "# https://drive.google.com/file/d/1ylMwqAV7AEZglnvOrTdPDSz5XJsUyHO-/view?usp=drive_link\n",
        "drive_download(file = as_id('1ylMwqAV7AEZglnvOrTdPDSz5XJsUyHO-'), path =  '/content/workingfolder/nwi/utm4/nwi_utm4.gpkg', overwrite = FALSE)\n",
        "\n",
        "# load the nwi, utm 5 (this one does not have numberic column)\n",
        "# https://drive.google.com/file/d/1qNqsskgMOSzMQ-2LdDaGulDXUjpaI3Jr/view?usp=drive_link\n",
        "drive_download(file = as_id('1qNqsskgMOSzMQ-2LdDaGulDXUjpaI3Jr'), path =  '/content/workingfolder/nwi/utm5/nwi_utm5.gpkg', overwrite = FALSE)"
      ],
      "metadata": {
        "id": "D5OAXToap_iL"
      },
      "execution_count": null,
      "outputs": []
    },
    {
      "cell_type": "markdown",
      "source": [
        "add the imagery data"
      ],
      "metadata": {
        "id": "xjj--KcZrjdx"
      }
    },
    {
      "cell_type": "code",
      "source": [
        "cl <- makeCluster(8)\n",
        "# load the utm 4 naip tiles\n",
        "# https://drive.google.com/drive/folders/1-08yCPufLF9TbgAjvs6eORE6wVOSh8TM?usp=drive_link\n",
        "jp_folder = \"1-08yCPufLF9TbgAjvs6eORE6wVOSh8TM\"\n",
        "folder_id = drive_get(as_id(jp_folder)) # get folder ID\n",
        "print(folder_id) #print folder ID\n",
        "\n",
        "# Find files in the folder\n",
        "files = drive_ls(folder_id)\n",
        "\n",
        "# Loop through directories and download files inside them\n",
        "for (i in seq_along(files$name)) {\n",
        "  i_dir <- files[i, ] # Select directory\n",
        "    try({\n",
        "\n",
        "      # Download files from the directory to the specified path\n",
        "      drive_download(\n",
        "        as_id(i_dir$id[1]),\n",
        "        path = paste0('/content/imagery/naip/utm4/', i_dir$name[1])\n",
        "      )\n",
        "    })\n",
        "  }\n",
        "\n",
        "# Load NAIP utm 5 image tiles\n",
        "# https://drive.google.com/drive/folders/1-6sv35-cMTza4S3BXZySBhQ5bC08-alG?usp=drive_link\n",
        "jp_folder = \"1-6sv35-cMTza4S3BXZySBhQ5bC08-alG\"\n",
        "folder_id = drive_get(as_id(jp_folder)) # get folder ID\n",
        "print(folder_id) #print folder ID\n",
        "\n",
        "# Find files in the folder\n",
        "files = drive_ls(folder_id)\n",
        "\n",
        "# Loop through directories and download files inside them\n",
        "for (i in seq_along(files$name)) {\n",
        "  i_dir <- files[i, ] # Select directory\n",
        "    try({\n",
        "\n",
        "      # Download files from the directory to the specified path\n",
        "      drive_download(\n",
        "        as_id(i_dir$id[1]),\n",
        "        path = paste0('/content/imagery/naip/utm5/', i_dir$name[1])\n",
        "      )\n",
        "    })\n",
        "  }\n",
        "\n",
        "stopCluster(cl)"
      ],
      "metadata": {
        "colab": {
          "base_uri": "https://localhost:8080/"
        },
        "id": "kkx84urhFKdA",
        "outputId": "80f64dd5-c0fc-4b6d-d112-b40ba5f5c4a6"
      },
      "execution_count": 97,
      "outputs": [
        {
          "output_type": "stream",
          "name": "stdout",
          "text": [
            "\u001b[90m# A dribble: 1 × 3\u001b[39m\n",
            "  name         id                                drive_resource   \n",
            "  \u001b[3m\u001b[90m<chr>\u001b[39m\u001b[23m        \u001b[3m\u001b[90m<drv_id>\u001b[39m\u001b[23m                          \u001b[3m\u001b[90m<list>\u001b[39m\u001b[23m           \n",
            "\u001b[90m1\u001b[39m HI_2021_NAIP 1-08yCPufLF9TbgAjvs6eORE6wVOSh8TM \u001b[90m<named list [34]>\u001b[39m\n"
          ]
        },
        {
          "output_type": "stream",
          "name": "stderr",
          "text": [
            "File downloaded:\n",
            "\n",
            "• \u001b[36mm_2015604_ne_04_060_20220108.tif\u001b[39m \u001b[90m<id: 11v99JoaQI9NqwJEa5u6gGLonahAx8mIw>\u001b[39m\n",
            "\n",
            "Saved locally as:\n",
            "\n",
            "• \u001b[34m/content/imagery/naip/utm4/m_2015604_ne_04_060_20220108.tif\u001b[39m\n",
            "\n",
            "File downloaded:\n",
            "\n",
            "• \u001b[36mHI_2021_NAIP_index.vrt\u001b[39m \u001b[90m<id: 12X5aI49evFswTAlfAFSvNgPm1lKN7RPE>\u001b[39m\n",
            "\n",
            "Saved locally as:\n",
            "\n",
            "• \u001b[34m/content/imagery/naip/utm4/HI_2021_NAIP_index.vrt\u001b[39m\n",
            "\n",
            "File downloaded:\n",
            "\n",
            "• \u001b[36mm_2115832_sw_04_060_20220211.tif\u001b[39m \u001b[90m<id: 12T324pldP-HF7AkhPkOx0pxvDfEjmmbe>\u001b[39m\n",
            "\n",
            "Saved locally as:\n",
            "\n",
            "• \u001b[34m/content/imagery/naip/utm4/m_2115832_sw_04_060_20220211.tif\u001b[39m\n",
            "\n",
            "File downloaded:\n",
            "\n",
            "• \u001b[36mm_2115764_ne_04_060_20220109.tif\u001b[39m \u001b[90m<id: 12L_3ptiPLBOkqz4LIWvYyoQmV3bmB5d8>\u001b[39m\n",
            "\n",
            "Saved locally as:\n",
            "\n",
            "• \u001b[34m/content/imagery/naip/utm4/m_2115764_ne_04_060_20220109.tif\u001b[39m\n",
            "\n",
            "File downloaded:\n",
            "\n",
            "• \u001b[36mm_2115742_ne_04_060_20221215.tif\u001b[39m \u001b[90m<id: 12KRp_hWndVLCnpx8EVlrOR0FV9RxJvQx>\u001b[39m\n",
            "\n",
            "Saved locally as:\n",
            "\n",
            "• \u001b[34m/content/imagery/naip/utm4/m_2115742_ne_04_060_20221215.tif\u001b[39m\n",
            "\n",
            "File downloaded:\n",
            "\n",
            "• \u001b[36mm_2115658_sw_04_060_20220109.tif\u001b[39m \u001b[90m<id: 12JSKNFl0lqM_GsuXukcOSStoZDi92aOJ>\u001b[39m\n",
            "\n",
            "Saved locally as:\n",
            "\n",
            "• \u001b[34m/content/imagery/naip/utm4/m_2115658_sw_04_060_20220109.tif\u001b[39m\n",
            "\n",
            "File downloaded:\n",
            "\n",
            "• \u001b[36mm_2115657_nw_04_060_20220109.tif\u001b[39m \u001b[90m<id: 12ILpwx_aaJRsSPwgxKgirtRPRqsyU4Qm>\u001b[39m\n",
            "\n",
            "Saved locally as:\n",
            "\n",
            "• \u001b[34m/content/imagery/naip/utm4/m_2115657_nw_04_060_20220109.tif\u001b[39m\n",
            "\n",
            "File downloaded:\n",
            "\n",
            "• \u001b[36mm_2115733_sw_04_060_20221215.tif\u001b[39m \u001b[90m<id: 12F8vwyTATl8gTewIKI9Y7zYIu46nAlw5>\u001b[39m\n",
            "\n",
            "Saved locally as:\n",
            "\n",
            "• \u001b[34m/content/imagery/naip/utm4/m_2115733_sw_04_060_20221215.tif\u001b[39m\n",
            "\n",
            "File downloaded:\n",
            "\n",
            "• \u001b[36mm_2115905_se_04_060_20220212.tif\u001b[39m \u001b[90m<id: 12Dj83Ls7epVt_9rJw8cX92YMSp2eC-AT>\u001b[39m\n",
            "\n",
            "Saved locally as:\n",
            "\n",
            "• \u001b[34m/content/imagery/naip/utm4/m_2115905_se_04_060_20220212.tif\u001b[39m\n",
            "\n",
            "File downloaded:\n",
            "\n",
            "• \u001b[36mm_2215962_ne_04_060_20220321.tif\u001b[39m \u001b[90m<id: 12CVrMsyuom2ReiwnEHocf120ureX0-mm>\u001b[39m\n",
            "\n",
            "Saved locally as:\n",
            "\n",
            "• \u001b[34m/content/imagery/naip/utm4/m_2215962_ne_04_060_20220321.tif\u001b[39m\n",
            "\n",
            "File downloaded:\n",
            "\n",
            "• \u001b[36mm_2115832_nw_04_060_20220211.tif\u001b[39m \u001b[90m<id: 12-Aymf7runAuzAYUHtTWUNxaZmfRr-Ar>\u001b[39m\n",
            "\n",
            "Saved locally as:\n",
            "\n",
            "• \u001b[34m/content/imagery/naip/utm4/m_2115832_nw_04_060_20220211.tif\u001b[39m\n",
            "\n",
            "File downloaded:\n",
            "\n",
            "• \u001b[36mm_2215952_se_04_060_20220321.tif\u001b[39m \u001b[90m<id: 11zS2xLDFDwj3QjVB3ItvvcEF_z8taeyL>\u001b[39m\n",
            "\n",
            "Saved locally as:\n",
            "\n",
            "• \u001b[34m/content/imagery/naip/utm4/m_2215952_se_04_060_20220321.tif\u001b[39m\n",
            "\n",
            "File downloaded:\n",
            "\n",
            "• \u001b[36mm_2015604_se_04_060_20220108.tif\u001b[39m \u001b[90m<id: 11yRAjqY6aLLPuUUi4QLkkQcpml6CNV9c>\u001b[39m\n",
            "\n",
            "Saved locally as:\n",
            "\n",
            "• \u001b[34m/content/imagery/naip/utm4/m_2015604_se_04_060_20220108.tif\u001b[39m\n",
            "\n",
            "File downloaded:\n",
            "\n",
            "• \u001b[36mm_2215952_se_04_060_20220128.tif\u001b[39m \u001b[90m<id: 11xmQfeBEQHONIvpN-aq4PtMGyHrDb-pK>\u001b[39m\n",
            "\n",
            "Saved locally as:\n",
            "\n",
            "• \u001b[34m/content/imagery/naip/utm4/m_2215952_se_04_060_20220128.tif\u001b[39m\n",
            "\n",
            "File downloaded:\n",
            "\n",
            "• \u001b[36mm_2115840_se_04_060_20221215.tif\u001b[39m \u001b[90m<id: 11xD3tSwKk231kLoRZo4Qila7YQOCaPC3>\u001b[39m\n",
            "\n",
            "Saved locally as:\n",
            "\n",
            "• \u001b[34m/content/imagery/naip/utm4/m_2115840_se_04_060_20221215.tif\u001b[39m\n",
            "\n",
            "File downloaded:\n",
            "\n",
            "• \u001b[36mm_2115764_nw_04_060_20220109.tif\u001b[39m \u001b[90m<id: 11sLCZdTVvtRzsWHddDB_yGcqwG6OlzEx>\u001b[39m\n",
            "\n",
            "Saved locally as:\n",
            "\n",
            "• \u001b[34m/content/imagery/naip/utm4/m_2115764_nw_04_060_20220109.tif\u001b[39m\n",
            "\n",
            "File downloaded:\n",
            "\n",
            "• \u001b[36mm_2015604_se_04_060_20221214.tif\u001b[39m \u001b[90m<id: 11rP8ryHwdaAkxT1ZrU_47rQWoBjfuou0>\u001b[39m\n",
            "\n",
            "Saved locally as:\n",
            "\n",
            "• \u001b[34m/content/imagery/naip/utm4/m_2015604_se_04_060_20221214.tif\u001b[39m\n",
            "\n",
            "File downloaded:\n",
            "\n",
            "• \u001b[36mm_2015613_sw_04_060_20220108.tif\u001b[39m \u001b[90m<id: 11jIAgZQdjt3VU6_UraR959F34xf02ZEl>\u001b[39m\n",
            "\n",
            "Saved locally as:\n",
            "\n",
            "• \u001b[34m/content/imagery/naip/utm4/m_2015613_sw_04_060_20220108.tif\u001b[39m\n",
            "\n",
            "File downloaded:\n",
            "\n",
            "• \u001b[36mm_2215962_se_04_060_20220321.tif\u001b[39m \u001b[90m<id: 11cC47MNnGjJCCvXr28g69QJ5fYZPjEFw>\u001b[39m\n",
            "\n",
            "Saved locally as:\n",
            "\n",
            "• \u001b[34m/content/imagery/naip/utm4/m_2215962_se_04_060_20220321.tif\u001b[39m\n",
            "\n",
            "File downloaded:\n",
            "\n",
            "• \u001b[36mm_2215954_sw_04_060_20220321.tif\u001b[39m \u001b[90m<id: 11R-vwQFWyVlShmGd2-fqwp060pCIZJ4C>\u001b[39m\n",
            "\n",
            "Saved locally as:\n",
            "\n",
            "• \u001b[34m/content/imagery/naip/utm4/m_2215954_sw_04_060_20220321.tif\u001b[39m\n",
            "\n",
            "File downloaded:\n",
            "\n",
            "• \u001b[36mm_2115763_ne_04_060_20220109.tif\u001b[39m \u001b[90m<id: 11LokLbanwPYcAhf3wS0UcjdpUdp0mCW0>\u001b[39m\n",
            "\n",
            "Saved locally as:\n",
            "\n",
            "• \u001b[34m/content/imagery/naip/utm4/m_2115763_ne_04_060_20220109.tif\u001b[39m\n",
            "\n",
            "File downloaded:\n",
            "\n",
            "• \u001b[36mm_2215953_sw_04_060_20220321.tif\u001b[39m \u001b[90m<id: 11IIxE5P0yyL2-QCAPAKNrFNi07sj4Xu7>\u001b[39m\n",
            "\n",
            "Saved locally as:\n",
            "\n",
            "• \u001b[34m/content/imagery/naip/utm4/m_2215953_sw_04_060_20220321.tif\u001b[39m\n",
            "\n",
            "File downloaded:\n",
            "\n",
            "• \u001b[36mm_2115657_se_04_060_20220109.tif\u001b[39m \u001b[90m<id: 11EzYrhYDhyrzjYYExlkbp88BJVEmxpbQ>\u001b[39m\n",
            "\n",
            "Saved locally as:\n",
            "\n",
            "• \u001b[34m/content/imagery/naip/utm4/m_2115657_se_04_060_20220109.tif\u001b[39m\n",
            "\n",
            "File downloaded:\n",
            "\n",
            "• \u001b[36mm_2115735_sw_04_060_20221215.tif\u001b[39m \u001b[90m<id: 1115KGgOKV-u5gQdiNPjGrtXwkzyceRU8>\u001b[39m\n",
            "\n",
            "Saved locally as:\n",
            "\n",
            "• \u001b[34m/content/imagery/naip/utm4/m_2115735_sw_04_060_20221215.tif\u001b[39m\n",
            "\n",
            "File downloaded:\n",
            "\n",
            "• \u001b[36mm_2215962_sw_04_060_20220321.tif\u001b[39m \u001b[90m<id: 10wcG88Wz_cuahghBqF9-v1MGR_yS7a1h>\u001b[39m\n",
            "\n",
            "Saved locally as:\n",
            "\n",
            "• \u001b[34m/content/imagery/naip/utm4/m_2215962_sw_04_060_20220321.tif\u001b[39m\n",
            "\n",
            "File downloaded:\n",
            "\n",
            "• \u001b[36mm_2115905_se_04_060_20220211.tif\u001b[39m \u001b[90m<id: 10vIPi-XQhdBcJ5gS0znr2r1CmHhRx3CI>\u001b[39m\n",
            "\n",
            "Saved locally as:\n",
            "\n",
            "• \u001b[34m/content/imagery/naip/utm4/m_2115905_se_04_060_20220211.tif\u001b[39m\n",
            "\n",
            "File downloaded:\n",
            "\n",
            "• \u001b[36mm_2115717_sw_04_060_20221231.tif\u001b[39m \u001b[90m<id: 10tIcwR6RtWrAsc2W_p8E4UH33SdzXG3z>\u001b[39m\n",
            "\n",
            "Saved locally as:\n",
            "\n",
            "• \u001b[34m/content/imagery/naip/utm4/m_2115717_sw_04_060_20221231.tif\u001b[39m\n",
            "\n",
            "File downloaded:\n",
            "\n",
            "• \u001b[36mm_2115741_nw_04_060_20221215.tif\u001b[39m \u001b[90m<id: 10nV__7B2cK0C-LdFkTFoPNN2JN41YdNC>\u001b[39m\n",
            "\n",
            "Saved locally as:\n",
            "\n",
            "• \u001b[34m/content/imagery/naip/utm4/m_2115741_nw_04_060_20221215.tif\u001b[39m\n",
            "\n",
            "File downloaded:\n",
            "\n",
            "• \u001b[36mm_2215962_nw_04_060_20220321.tif\u001b[39m \u001b[90m<id: 10dTfRxOx-yoWoMFMhGbd10s0inpkhR0R>\u001b[39m\n",
            "\n",
            "Saved locally as:\n",
            "\n",
            "• \u001b[34m/content/imagery/naip/utm4/m_2215962_nw_04_060_20220321.tif\u001b[39m\n",
            "\n",
            "File downloaded:\n",
            "\n",
            "• \u001b[36mm_2115906_nw_04_060_20220321.tif\u001b[39m \u001b[90m<id: 10azKJFPIPqkc3mqTI7LZpOIbVZNfZnDF>\u001b[39m\n",
            "\n",
            "Saved locally as:\n",
            "\n",
            "• \u001b[34m/content/imagery/naip/utm4/m_2115906_nw_04_060_20220321.tif\u001b[39m\n",
            "\n",
            "File downloaded:\n",
            "\n",
            "• \u001b[36mm_2215953_nw_04_060_20220321.tif\u001b[39m \u001b[90m<id: 10_Vj1gk1d80DxWEy235ma1cT63C9nkjD>\u001b[39m\n",
            "\n",
            "Saved locally as:\n",
            "\n",
            "• \u001b[34m/content/imagery/naip/utm4/m_2215953_nw_04_060_20220321.tif\u001b[39m\n",
            "\n",
            "File downloaded:\n",
            "\n",
            "• \u001b[36mm_2015605_sw_04_060_20221214.tif\u001b[39m \u001b[90m<id: 10U341pV8ANUfADwsCyE_gjFdaCIAvu4A>\u001b[39m\n",
            "\n",
            "Saved locally as:\n",
            "\n",
            "• \u001b[34m/content/imagery/naip/utm4/m_2015605_sw_04_060_20221214.tif\u001b[39m\n",
            "\n",
            "File downloaded:\n",
            "\n",
            "• \u001b[36mm_2115658_nw_04_060_20220109.tif\u001b[39m \u001b[90m<id: 10TyxEeGgoIdVLwJCdBiwODlDhmWfCbtx>\u001b[39m\n",
            "\n",
            "Saved locally as:\n",
            "\n",
            "• \u001b[34m/content/imagery/naip/utm4/m_2115658_nw_04_060_20220109.tif\u001b[39m\n",
            "\n",
            "File downloaded:\n",
            "\n",
            "• \u001b[36mm_2115733_se_04_060_20221215.tif\u001b[39m \u001b[90m<id: 10GYn75mXDo2RqXdMu_s-thOFJ6UJqG2N>\u001b[39m\n",
            "\n",
            "Saved locally as:\n",
            "\n",
            "• \u001b[34m/content/imagery/naip/utm4/m_2115733_se_04_060_20221215.tif\u001b[39m\n",
            "\n",
            "File downloaded:\n",
            "\n",
            "• \u001b[36mm_2015612_se_04_060_20220108.tif\u001b[39m \u001b[90m<id: 10E4y-3O0NBIfLtrXOQkX8jiKjRxV7UTk>\u001b[39m\n",
            "\n",
            "Saved locally as:\n",
            "\n",
            "• \u001b[34m/content/imagery/naip/utm4/m_2015612_se_04_060_20220108.tif\u001b[39m\n",
            "\n",
            "File downloaded:\n",
            "\n",
            "• \u001b[36mm_2115824_ne_04_060_20221217.tif\u001b[39m \u001b[90m<id: 10BOA3cO8CatEEwKnvtMR1cl6Fn6N0bEa>\u001b[39m\n",
            "\n",
            "Saved locally as:\n",
            "\n",
            "• \u001b[34m/content/imagery/naip/utm4/m_2115824_ne_04_060_20221217.tif\u001b[39m\n",
            "\n",
            "File downloaded:\n",
            "\n",
            "• \u001b[36mm_2115717_nw_04_060_20221217.tif\u001b[39m \u001b[90m<id: 1-zsU-3WgdBju8HlsDMhL8g5H6bb0_vQI>\u001b[39m\n",
            "\n",
            "Saved locally as:\n",
            "\n",
            "• \u001b[34m/content/imagery/naip/utm4/m_2115717_nw_04_060_20221217.tif\u001b[39m\n",
            "\n",
            "File downloaded:\n",
            "\n",
            "• \u001b[36mm_2115831_se_04_060_20220211.tif\u001b[39m \u001b[90m<id: 1-yqKgzYdUZowSHxqjG9V6CcgiGG-fON_>\u001b[39m\n",
            "\n",
            "Saved locally as:\n",
            "\n",
            "• \u001b[34m/content/imagery/naip/utm4/m_2115831_se_04_060_20220211.tif\u001b[39m\n",
            "\n",
            "File downloaded:\n",
            "\n",
            "• \u001b[36mm_2115906_sw_04_060_20220211.tif\u001b[39m \u001b[90m<id: 1-vaLiQmtV3cApBgCLZ8VubIEhhexoXbK>\u001b[39m\n",
            "\n",
            "Saved locally as:\n",
            "\n",
            "• \u001b[34m/content/imagery/naip/utm4/m_2115906_sw_04_060_20220211.tif\u001b[39m\n",
            "\n",
            "File downloaded:\n",
            "\n",
            "• \u001b[36mm_2115824_se_04_060_20221231.tif\u001b[39m \u001b[90m<id: 1-uf43eowEM6NvIYcvQiwU3g6OteBLINe>\u001b[39m\n",
            "\n",
            "Saved locally as:\n",
            "\n",
            "• \u001b[34m/content/imagery/naip/utm4/m_2115824_se_04_060_20221231.tif\u001b[39m\n",
            "\n",
            "File downloaded:\n",
            "\n",
            "• \u001b[36mm_2015605_sw_04_060_20220327.tif\u001b[39m \u001b[90m<id: 1-mlDdhKHGNiSNQt2FNsRnZ3cVP2waQzz>\u001b[39m\n",
            "\n",
            "Saved locally as:\n",
            "\n",
            "• \u001b[34m/content/imagery/naip/utm4/m_2015605_sw_04_060_20220327.tif\u001b[39m\n",
            "\n",
            "File downloaded:\n",
            "\n",
            "• \u001b[36mm_2115905_ne_04_060_20220321.tif\u001b[39m \u001b[90m<id: 1-jRYTG9DRjLqP1kiJWytlsCvFdiNa8uF>\u001b[39m\n",
            "\n",
            "Saved locally as:\n",
            "\n",
            "• \u001b[34m/content/imagery/naip/utm4/m_2115905_ne_04_060_20220321.tif\u001b[39m\n",
            "\n",
            "File downloaded:\n",
            "\n",
            "• \u001b[36mm_2115743_nw_04_060_20221215.tif\u001b[39m \u001b[90m<id: 1-aiNsCqp6TT8OdHuflvdFN1hnlkukjoe>\u001b[39m\n",
            "\n",
            "Saved locally as:\n",
            "\n",
            "• \u001b[34m/content/imagery/naip/utm4/m_2115743_nw_04_060_20221215.tif\u001b[39m\n",
            "\n",
            "File downloaded:\n",
            "\n",
            "• \u001b[36mm_2115831_ne_04_060_20220211.tif\u001b[39m \u001b[90m<id: 1-MmOAjOOSdyWIg9_blHHZKOvRbIfnynj>\u001b[39m\n",
            "\n",
            "Saved locally as:\n",
            "\n",
            "• \u001b[34m/content/imagery/naip/utm4/m_2115831_ne_04_060_20220211.tif\u001b[39m\n",
            "\n",
            "File downloaded:\n",
            "\n",
            "• \u001b[36mm_2115741_ne_04_060_20221215.tif\u001b[39m \u001b[90m<id: 1-LDo1AOjMzkzP6sbcCidOFjMhImcYttr>\u001b[39m\n",
            "\n",
            "Saved locally as:\n",
            "\n",
            "• \u001b[34m/content/imagery/naip/utm4/m_2115741_ne_04_060_20221215.tif\u001b[39m\n",
            "\n",
            "File downloaded:\n",
            "\n",
            "• \u001b[36mm_2115848_ne_04_060_20221215.tif\u001b[39m \u001b[90m<id: 1-GT4eKNavZysNkN99uqVUgyFV4txMI9V>\u001b[39m\n",
            "\n",
            "Saved locally as:\n",
            "\n",
            "• \u001b[34m/content/imagery/naip/utm4/m_2115848_ne_04_060_20221215.tif\u001b[39m\n",
            "\n",
            "File downloaded:\n",
            "\n",
            "• \u001b[36mm_2115734_se_04_060_20221215.tif\u001b[39m \u001b[90m<id: 1-EnBDA7rg-BMheOCr-k_GFpNQo_lkcnE>\u001b[39m\n",
            "\n",
            "Saved locally as:\n",
            "\n",
            "• \u001b[34m/content/imagery/naip/utm4/m_2115734_se_04_060_20221215.tif\u001b[39m\n",
            "\n",
            "File downloaded:\n",
            "\n",
            "• \u001b[36mm_2115657_ne_04_060_20220109.tif\u001b[39m \u001b[90m<id: 1-ApVBMXxXrf7-sCSTILSDri-pLnx56yn>\u001b[39m\n",
            "\n",
            "Saved locally as:\n",
            "\n",
            "• \u001b[34m/content/imagery/naip/utm4/m_2115657_ne_04_060_20220109.tif\u001b[39m\n",
            "\n",
            "File downloaded:\n",
            "\n",
            "• \u001b[36mm_2215952_ne_04_060_20220128.tif\u001b[39m \u001b[90m<id: 1-2rw5R7B9oQQ48un2Xpo_PD4xnoJqc-T>\u001b[39m\n",
            "\n",
            "Saved locally as:\n",
            "\n",
            "• \u001b[34m/content/imagery/naip/utm4/m_2215952_ne_04_060_20220128.tif\u001b[39m\n",
            "\n",
            "File downloaded:\n",
            "\n",
            "• \u001b[36mm_2115657_sw_04_060_20220109.tif\u001b[39m \u001b[90m<id: 1-2b1ttTGjvO3AFBvczalxFkBVMYAh3wk>\u001b[39m\n",
            "\n",
            "Saved locally as:\n",
            "\n",
            "• \u001b[34m/content/imagery/naip/utm4/m_2115657_sw_04_060_20220109.tif\u001b[39m\n",
            "\n",
            "File downloaded:\n",
            "\n",
            "• \u001b[36mm_2215954_se_04_060_20220128.tif\u001b[39m \u001b[90m<id: 1-2VJ2IEzppAc5B6K7fynlsIAfkQg1wjV>\u001b[39m\n",
            "\n",
            "Saved locally as:\n",
            "\n",
            "• \u001b[34m/content/imagery/naip/utm4/m_2215954_se_04_060_20220128.tif\u001b[39m\n",
            "\n"
          ]
        },
        {
          "output_type": "stream",
          "name": "stdout",
          "text": [
            "\u001b[90m# A dribble: 1 × 3\u001b[39m\n",
            "  name              id                                drive_resource   \n",
            "  \u001b[3m\u001b[90m<chr>\u001b[39m\u001b[23m             \u001b[3m\u001b[90m<drv_id>\u001b[39m\u001b[23m                          \u001b[3m\u001b[90m<list>\u001b[39m\u001b[23m           \n",
            "\u001b[90m1\u001b[39m hawaii_naip_tiles 1-6sv35-cMTza4S3BXZySBhQ5bC08-alG \u001b[90m<named list [34]>\u001b[39m\n"
          ]
        },
        {
          "output_type": "stream",
          "name": "stderr",
          "text": [
            "File downloaded:\n",
            "\n",
            "• \u001b[36mm_2015551_sw_05_060_20211226.tif\u001b[39m \u001b[90m<id: 1-_lwf1H3BEhMcgUgMKkgxJt5ttFM_Efj>\u001b[39m\n",
            "\n",
            "Saved locally as:\n",
            "\n",
            "• \u001b[34m/content/imagery/naip/utm5/m_2015551_sw_05_060_20211226.tif\u001b[39m\n",
            "\n",
            "File downloaded:\n",
            "\n",
            "• \u001b[36mm_2015551_nw_05_060_20211215.tif\u001b[39m \u001b[90m<id: 1-WtgksgMGZdud4zeejrHWOOtMMEKd6ug>\u001b[39m\n",
            "\n",
            "Saved locally as:\n",
            "\n",
            "• \u001b[34m/content/imagery/naip/utm5/m_2015551_nw_05_060_20211215.tif\u001b[39m\n",
            "\n",
            "File downloaded:\n",
            "\n",
            "• \u001b[36mm_2015551_se_05_060_20211226.tif\u001b[39m \u001b[90m<id: 1-UbnmpP5XIWsqcp-hZxQjsjIrqmJsuDG>\u001b[39m\n",
            "\n",
            "Saved locally as:\n",
            "\n",
            "• \u001b[34m/content/imagery/naip/utm5/m_2015551_se_05_060_20211226.tif\u001b[39m\n",
            "\n",
            "File downloaded:\n",
            "\n",
            "• \u001b[36mm_2015560_nw_05_060_20211226.tif\u001b[39m \u001b[90m<id: 1-QCt2yhPiTWNTeZPVhK6H7-2pIl7wfov>\u001b[39m\n",
            "\n",
            "Saved locally as:\n",
            "\n",
            "• \u001b[34m/content/imagery/naip/utm5/m_2015560_nw_05_060_20211226.tif\u001b[39m\n",
            "\n",
            "File downloaded:\n",
            "\n",
            "• \u001b[36mm_1915524_ne_05_060_20221225.tif\u001b[39m \u001b[90m<id: 1-MorzmqdhtMLx4Bb42FJU7U9XTZwjcHZ>\u001b[39m\n",
            "\n",
            "Saved locally as:\n",
            "\n",
            "• \u001b[34m/content/imagery/naip/utm5/m_1915524_ne_05_060_20221225.tif\u001b[39m\n",
            "\n",
            "File downloaded:\n",
            "\n",
            "• \u001b[36mm_2015552_sw_05_060_20211226.tif\u001b[39m \u001b[90m<id: 1-ANnsVhpU4rve4vYAt3KhRBpoPlsbo67>\u001b[39m\n",
            "\n",
            "Saved locally as:\n",
            "\n",
            "• \u001b[34m/content/imagery/naip/utm5/m_2015552_sw_05_060_20211226.tif\u001b[39m\n",
            "\n",
            "File downloaded:\n",
            "\n",
            "• \u001b[36mm_2015559_ne_05_060_20220310.tif\u001b[39m \u001b[90m<id: 1-9wTncHeQjYtkpf_cIGw651-HnUPn5Lm>\u001b[39m\n",
            "\n",
            "Saved locally as:\n",
            "\n",
            "• \u001b[34m/content/imagery/naip/utm5/m_2015559_ne_05_060_20220310.tif\u001b[39m\n",
            "\n"
          ]
        }
      ]
    },
    {
      "cell_type": "code",
      "source": [
        "cl <- makeCluster(8)\n",
        "\n",
        "# Load Planet 2018 utm4 image stacks\n",
        "# https://drive.google.com/drive/folders/1qKNxqjL8K71CO-KcmQGfbtPehlAjoD05?usp=drive_link\n",
        "jp_folder = \"1qKNxqjL8K71CO-KcmQGfbtPehlAjoD05\"\n",
        "folder_id = drive_get(as_id(jp_folder)) # get folder ID\n",
        "print(folder_id) #print folder ID\n",
        "\n",
        "# Find files in the folder\n",
        "files = drive_ls(folder_id)\n",
        "\n",
        "# Loop through directories and download files inside them\n",
        "for (i in seq_along(files$name)) {\n",
        "  i_dir <- files[i, ] # Select directory\n",
        "    try({\n",
        "\n",
        "      # Download files from the directory to the specified path\n",
        "      drive_download(\n",
        "        as_id(i_dir$id[1]),\n",
        "        path = paste0('/content/imagery/planet/stack/2018/utm4/', i_dir$name[1])\n",
        "      )\n",
        "    })\n",
        "  }\n",
        "\n",
        "# Load Planet 2019 utm4 image stacks\n",
        "# https://drive.google.com/drive/folders/1Oz9FMjFR0QKSJiJNg41-4vVNKxqm5Ewu?usp=drive_link\n",
        "jp_folder = \"1Oz9FMjFR0QKSJiJNg41-4vVNKxqm5Ewu\"\n",
        "folder_id = drive_get(as_id(jp_folder)) # get folder ID\n",
        "print(folder_id) #print folder ID\n",
        "\n",
        "# Find files in the folder\n",
        "files = drive_ls(folder_id)\n",
        "\n",
        "# Loop through directories and download files inside them\n",
        "for (i in seq_along(files$name)) {\n",
        "  i_dir <- files[i, ] # Select directory\n",
        "    try({\n",
        "\n",
        "      # Download files from the directory to the specified path\n",
        "      drive_download(\n",
        "        as_id(i_dir$id[1]),\n",
        "        path = paste0('/content/imagery/planet/stack/2019/utm4/', i_dir$name[1])\n",
        "      )\n",
        "    })\n",
        "  }\n",
        "\n",
        "# Load Planet 2020 utm4 utm4 image stacks\n",
        "# https://drive.google.com/drive/folders/18-AaCnLW5JnZ6owOf7uqCU06M0XhwMBL?usp=drive_link\n",
        "jp_folder = \"18-AaCnLW5JnZ6owOf7uqCU06M0XhwMBL\"\n",
        "folder_id = drive_get(as_id(jp_folder)) # get folder ID\n",
        "print(folder_id) #print folder ID\n",
        "\n",
        "# Find files in the folder\n",
        "files = drive_ls(folder_id)\n",
        "\n",
        "# Loop through directories and download files inside them\n",
        "for (i in seq_along(files$name)) {\n",
        "  i_dir <- files[i, ] # Select directory\n",
        "    try({\n",
        "\n",
        "      # Download files from the directory to the specified path\n",
        "      drive_download(\n",
        "        as_id(i_dir$id[1]),\n",
        "        path = paste0('/content/imagery/planet/stack/2020/utm4/', i_dir$name[1])\n",
        "      )\n",
        "    })\n",
        "  }\n",
        "\n",
        "# Load Planet 2018 utm5 image stacks\n",
        "# https://drive.google.com/drive/folders/1h0rEeSo2ki_eir55V7gvl0i5fKz_vAPu?usp=drive_link\n",
        "jp_folder = \"1h0rEeSo2ki_eir55V7gvl0i5fKz_vAPu\"\n",
        "folder_id = drive_get(as_id(jp_folder)) # get folder ID\n",
        "print(folder_id) #print folder ID\n",
        "\n",
        "# Find files in the folder\n",
        "files = drive_ls(folder_id)\n",
        "\n",
        "# Loop through directories and download files inside them\n",
        "for (i in seq_along(files$name)) {\n",
        "  i_dir <- files[i, ] # Select directory\n",
        "    try({\n",
        "\n",
        "      # Download files from the directory to the specified path\n",
        "      drive_download(\n",
        "        as_id(i_dir$id[1]),\n",
        "        path = paste0('/content/imagery/planet/stack/2018/utm5/', i_dir$name[1])\n",
        "      )\n",
        "    })\n",
        "  }\n",
        "\n",
        "# Load Planet 2019 utm5 image stacks\n",
        "# https://drive.google.com/drive/folders/1v2FNvU1rcgwvem6YU64rWeE9man76lPb?usp=drive_link\n",
        "jp_folder = \"1v2FNvU1rcgwvem6YU64rWeE9man76lPb\"\n",
        "folder_id = drive_get(as_id(jp_folder)) # get folder ID\n",
        "print(folder_id) #print folder ID\n",
        "\n",
        "# Find files in the folder\n",
        "files = drive_ls(folder_id)\n",
        "\n",
        "# Loop through directories and download files inside them\n",
        "for (i in seq_along(files$name)) {\n",
        "  i_dir <- files[i, ] # Select directory\n",
        "    try({\n",
        "\n",
        "      # Download files from the directory to the specified path\n",
        "      drive_download(\n",
        "        as_id(i_dir$id[1]),\n",
        "        path = paste0('/content/imagery/planet/stack/2019/utm5/', i_dir$name[1])\n",
        "      )\n",
        "    })\n",
        "  }\n",
        "\n",
        "# Load Planet 2020 utm5 image stacks\n",
        "# https://drive.google.com/drive/folders/1-aSDCj6ZCYapfMr1uaaq9xreoP4HXBW2?usp=drive_link\n",
        "jp_folder = \"1-aSDCj6ZCYapfMr1uaaq9xreoP4HXBW2\"\n",
        "folder_id = drive_get(as_id(jp_folder)) # get folder ID\n",
        "print(folder_id) #print folder ID\n",
        "\n",
        "# Find files in the folder\n",
        "files = drive_ls(folder_id)\n",
        "\n",
        "# Loop through directories and download files inside them\n",
        "for (i in seq_along(files$name)) {\n",
        "  i_dir <- files[i, ] # Select directory\n",
        "    try({\n",
        "\n",
        "      # Download files from the directory to the specified path\n",
        "      drive_download(\n",
        "        as_id(i_dir$id[1]),\n",
        "        path = paste0('/content/imagery/planet/stack/2020/utm5/', i_dir$name[1])\n",
        "      )\n",
        "    })\n",
        "  }\n",
        "\n",
        "\n",
        "stopCluster(cl)"
      ],
      "metadata": {
        "id": "gI5Eur0DrjEp"
      },
      "execution_count": null,
      "outputs": []
    },
    {
      "cell_type": "markdown",
      "source": [
        "stack planet 2020 individual images"
      ],
      "metadata": {
        "id": "LgknV2IarPCY"
      }
    },
    {
      "cell_type": "code",
      "source": [
        "lokoaka_kionakapahu_2018_stack <- stack(\n",
        "\"/content/imagery/planet/hawaii/2018/lokoaka_kionakapahu_2018-01-29.tif\",\n",
        "\"/content/imagery/planet/hawaii/2018/lokoaka_kionakapahu_2018-02-11.tif\",\n",
        "\"/content/imagery/planet/hawaii/2018/lokoaka_kionakapahu_2018-06-30.tif\",\n",
        "\"/content/imagery/planet/hawaii/2018/lokoaka_kionakapahu_2018-07-05.tif\",\n",
        "\"/content/imagery/planet/hawaii/2018/lokoaka_kionakapahu_2018-09-07.tif\",\n",
        "\"/content/imagery/planet/hawaii/2018/lokoaka_kionakapahu_2018-11-02.tif\")\n",
        "pololu_2018_stack <- stack(\n",
        "\"/content/imagery/planet/hawaii/2018/pololu_2018-01-10.tif\",\n",
        "\"/content/imagery/planet/hawaii/2018/pololu_2018-06-22.tif\",\n",
        "\"/content/imagery/planet/hawaii/2018/pololu_2018-08-31.tif\",\n",
        "\"/content/imagery/planet/hawaii/2018/pololu_2018-09-19.tif\",\n",
        "\"/content/imagery/planet/hawaii/2018/pololu_2018-11-15.tif\",\n",
        "\"/content/imagery/planet/hawaii/2018/pololu_2018-12-14.tif\")"
      ],
      "metadata": {
        "id": "LF_oqqGvtUc9"
      },
      "execution_count": 31,
      "outputs": []
    },
    {
      "cell_type": "code",
      "source": [
        "waimanu_2018_stack <- stack(\n",
        "\"/content/imagery/planet/hawaii/2018/waimanu_2018-03-15.tif\",\n",
        "\"/content/imagery/planet/hawaii/2018/waimanu_2018-07-20.tif\",\n",
        "\"/content/imagery/planet/hawaii/2018/waimanu_2018-09-19.tif\",\n",
        "\"/content/imagery/planet/hawaii/2018/waimanu_2018-10-01.tif\")\n",
        "waipio_2018_stack <- stack(\n",
        "\"/content/imagery/planet/hawaii/2018/waipio_2018-01-09.tif\",\n",
        "\"/content/imagery/planet/hawaii/2018/waipio_2018-02-06.tif\",\n",
        "\"/content/imagery/planet/hawaii/2018/waipio_2018-09-19.tif\",\n",
        "\"/content/imagery/planet/hawaii/2018/waipio_2018-10-01.tif\",\n",
        "\"/content/imagery/planet/hawaii/2018/waipio_2018-12-11.tif\")\n"
      ],
      "metadata": {
        "id": "2QFVpwgAt-Ii"
      },
      "execution_count": 32,
      "outputs": []
    },
    {
      "cell_type": "code",
      "source": [
        "lokoaka_kionakapahu_2019_stack <- stack(\n",
        "\"/content/imagery/planet/hawaii/2019/lokoaka_kionakapahu_2019-01-24.tif\",\n",
        "\"/content/imagery/planet/hawaii/2019/lokoaka_kionakapahu_2019-02-16.tif\",\n",
        "\"/content/imagery/planet/hawaii/2019/lokoaka_kionakapahu_2019-04-07.tif\",\n",
        "\"/content/imagery/planet/hawaii/2019/lokoaka_kionakapahu_2019-05-10.tif\",\n",
        "\"/content/imagery/planet/hawaii/2019/lokoaka_kionakapahu_2019-06-12.tif\",\n",
        "\"/content/imagery/planet/hawaii/2019/lokoaka_kionakapahu_2019-07-28.tif\",\n",
        "\"/content/imagery/planet/hawaii/2019/lokoaka_kionakapahu_2019-08-07.tif\",\n",
        "\"/content/imagery/planet/hawaii/2019/lokoaka_kionakapahu_2019-10-30.tif\",\n",
        "\"/content/imagery/planet/hawaii/2019/lokoaka_kionakapahu_2019-12-07.tif\")\n",
        "pololu_2019_stack <- stack(\n",
        "\"/content/imagery/planet/hawaii/2019/pololu_2019-01-07.tif\",\n",
        "\"/content/imagery/planet/hawaii/2019/pololu_2019-02-01.tif\",\n",
        "\"/content/imagery/planet/hawaii/2019/pololu_2019-03-19.tif\",\n",
        "\"/content/imagery/planet/hawaii/2019/pololu_2019-04-08.tif\",\n",
        "\"/content/imagery/planet/hawaii/2019/pololu_2019-05-04.tif\",\n",
        "\"/content/imagery/planet/hawaii/2019/pololu_2019-06-07.tif\",\n",
        "\"/content/imagery/planet/hawaii/2019/pololu_2019-07-27.tif\",\n",
        "\"/content/imagery/planet/hawaii/2019/pololu_2019-08-22.tif\",\n",
        "\"/content/imagery/planet/hawaii/2019/pololu_2019-09-24.tif\",\n",
        "\"/content/imagery/planet/hawaii/2019/pololu_2019-11-01.tif\")"
      ],
      "metadata": {
        "id": "RGmBMq_B2KZd"
      },
      "execution_count": 34,
      "outputs": []
    },
    {
      "cell_type": "code",
      "source": [
        "waimanu_2019_stack <- stack(\n",
        "\"/content/imagery/planet/hawaii/2019/waimanu_2019-02-26.tif\",\n",
        "\"/content/imagery/planet/hawaii/2019/waimanu_2019-04-20.tif\",\n",
        "\"/content/imagery/planet/hawaii/2019/waimanu_2019-06-07.tif\",\n",
        "\"/content/imagery/planet/hawaii/2019/waimanu_2019-08-27.tif\",\n",
        "\"/content/imagery/planet/hawaii/2019/waimanu_2019-09-22.tif\",\n",
        "\"/content/imagery/planet/hawaii/2019/waimanu_2019-11-05.tif\")\n",
        "waipio_2019_stack <- stack(\n",
        "\"/content/imagery/planet/hawaii/2019/waipio_2019-02-18.tif\",\n",
        "\"/content/imagery/planet/hawaii/2019/waipio_2019-03-31.tif\",\n",
        "\"/content/imagery/planet/hawaii/2019/waipio_2019-06-23.tif\",\n",
        "\"/content/imagery/planet/hawaii/2019/waipio_2019-10-20.tif\",\n",
        "\"/content/imagery/planet/hawaii/2019/waipio_2019-12-09.tif\")"
      ],
      "metadata": {
        "id": "LBjEarR8uy8Y"
      },
      "execution_count": 35,
      "outputs": []
    },
    {
      "cell_type": "code",
      "source": [
        "lokoaka_kionakapahu_2020_stack <- stack(\n",
        "\"/content/imagery/planet/hawaii/2020/lokoaka_kionakapahu_2020-02-04.tif\",\n",
        "\"/content/imagery/planet/hawaii/2020/lokoaka_kionakapahu_2020-04-19.tif\",\n",
        "\"/content/imagery/planet/hawaii/2020/lokoaka_kionakapahu_2020-06-03.tif\",\n",
        "\"/content/imagery/planet/hawaii/2020/lokoaka_kionakapahu_2020-09-14.tif\")\n",
        "pololu_2020_stack <- stack(\n",
        "\"/content/imagery/planet/hawaii/2020/pololu_2020-02-12.tif\",\n",
        "\"/content/imagery/planet/hawaii/2020/pololu_2020-05-04.tif\",\n",
        "\"/content/imagery/planet/hawaii/2020/pololu_2020-05-12.tif\",\n",
        "\"/content/imagery/planet/hawaii/2020/pololu_2020-07-01.tif\",\n",
        "\"/content/imagery/planet/hawaii/2020/pololu_2020-09-14.tif\",\n",
        "\"/content/imagery/planet/hawaii/2020/pololu_2020-12-04.tif\")\n",
        "waimanu_2020_stack <- stack(\n",
        "\"/content/imagery/planet/hawaii/2020/waimanu_2020-03-02.tif\",\n",
        "\"/content/imagery/planet/hawaii/2020/waimanu_2020-05-04.tif\",\n",
        "\"/content/imagery/planet/hawaii/2020/waimanu_2020-09-03.tif\",\n",
        "\"/content/imagery/planet/hawaii/2020/waimanu_2020-12-29.tif\")\n",
        "waipio_2020_stack <- stack(\n",
        "\"/content/imagery/planet/hawaii/2020/waipio_2020-03-02.tif\",\n",
        "\"/content/imagery/planet/hawaii/2020/waipio_2020-05-27.tif\",\n",
        "\"/content/imagery/planet/hawaii/2020/waipio_2020-08-28.tif\",\n",
        "\"/content/imagery/planet/hawaii/2020/waipio_2020-10-18.tif\",\n",
        "\"/content/imagery/planet/hawaii/2020/waipio_2020-11-09.tif\")"
      ],
      "metadata": {
        "id": "fiy9NfBzvTQr"
      },
      "execution_count": 36,
      "outputs": []
    },
    {
      "cell_type": "code",
      "source": [
        "test <- raster(\"/content/imagery/planet/2020/kawainui_2020-05-31.tif\")\n",
        "test%>% plot"
      ],
      "metadata": {
        "id": "HKmcejyPuCIP"
      },
      "execution_count": null,
      "outputs": []
    },
    {
      "cell_type": "code",
      "source": [
        "# https://drive.google.com/drive/folders/18-AaCnLW5JnZ6owOf7uqCU06M0XhwMBL?usp=drive_link\n",
        "\n",
        "# planet hawaii 18\n",
        "# https://drive.google.com/drive/folders/1h0rEeSo2ki_eir55V7gvl0i5fKz_vAPu?usp=drive_link\n",
        "# planet hawaii 19\n",
        "# https://drive.google.com/drive/folders/1v2FNvU1rcgwvem6YU64rWeE9man76lPb?usp=drive_link\n",
        "# planet hawaii 20\n",
        "# https://drive.google.com/drive/folders/1-aSDCj6ZCYapfMr1uaaq9xreoP4HXBW2?usp=drive_link"
      ],
      "metadata": {
        "id": "h04MFEvarR9O"
      },
      "execution_count": null,
      "outputs": []
    },
    {
      "cell_type": "code",
      "source": [
        "writeRaster(lokoaka_kionakapahu_2018_stack, \"/content/planet_output/2018_lokoaka_kionakapahu_stack.tif\", format = \"GTiff\")\n",
        "drive_upload(media = \"/content/planet_output/2018_lokoaka_kionakapahu_stack.tif\", path = as_id (\"1h0rEeSo2ki_eir55V7gvl0i5fKz_vAPu\"))\n",
        "\n",
        "writeRaster(pololu_2018_stack, \"/content/planet_output/2018_pololu_stack.tif\", format = \"GTiff\")\n",
        "drive_upload(media = \"/content/planet_output/2018_pololu_stack.tif\", path = as_id (\"1h0rEeSo2ki_eir55V7gvl0i5fKz_vAPu\"))\n",
        "\n",
        "writeRaster(waimanu_2018_stack, \"/content/planet_output/2018_waimanu_stack.tif\", format = \"GTiff\")\n",
        "drive_upload(media = \"/content/planet_output/2018_waimanu_stack.tif\", path = as_id (\"1h0rEeSo2ki_eir55V7gvl0i5fKz_vAPu\"))\n",
        "\n",
        "writeRaster(waipio_2018_stack, \"/content/planet_output/2018_waipio_stack.tif\", format = \"GTiff\")\n",
        "drive_upload(media = \"/content/planet_output/2018_waipio_stack.tif\", path = as_id (\"1h0rEeSo2ki_eir55V7gvl0i5fKz_vAPu\"))\n",
        "#\n",
        "\n",
        "\n",
        "writeRaster(lokoaka_kionakapahu_2019_stack, \"/content/planet_output/2019_lokoaka_kionakapahu_stack.tif\", format = \"GTiff\")\n",
        "drive_upload(media = \"/content/planet_output/2019_lokoaka_kionakapahu_stack.tif\", path = as_id (\"1v2FNvU1rcgwvem6YU64rWeE9man76lPb\"))\n",
        "\n",
        "writeRaster(pololu_2019_stack, \"/content/planet_output/2019_pololu_stack.tif\", format = \"GTiff\")\n",
        "drive_upload(media = \"/content/planet_output/2019_pololu_stack.tif\", path = as_id (\"1v2FNvU1rcgwvem6YU64rWeE9man76lPb\"))\n",
        "\n",
        "writeRaster(waimanu_2019_stack, \"/content/planet_output/2019_waimanu_stack.tif\", format = \"GTiff\")\n",
        "drive_upload(media = \"/content/planet_output/2019_waimanu_stack.tif\", path = as_id (\"1v2FNvU1rcgwvem6YU64rWeE9man76lPb\"))\n",
        "\n",
        "writeRaster(waipio_2019_stack, \"/content/planet_output/2019_waipio_stack.tif\", format = \"GTiff\")\n",
        "drive_upload(media = \"/content/planet_output/2019_waipio_stack.tif\", path = as_id (\"1v2FNvU1rcgwvem6YU64rWeE9man76lPb\"))\n",
        "\n",
        "\n",
        "#\n",
        "writeRaster(lokoaka_kionakapahu_2020_stack, \"/content/planet_output/2020_lokoaka_kionakapahu_stack.tif\", format = \"GTiff\")\n",
        "drive_upload(media = \"/content/planet_output/2020_lokoaka_kionakapahu_stack.tif\", path = as_id (\"1-aSDCj6ZCYapfMr1uaaq9xreoP4HXBW2\"))\n",
        "\n",
        "writeRaster(pololu_2020_stack, \"/content/planet_output/2020_pololu_stack.tif\", format = \"GTiff\")\n",
        "drive_upload(media = \"/content/planet_output/2020_pololu_stack.tif\", path = as_id (\"1-aSDCj6ZCYapfMr1uaaq9xreoP4HXBW2\"))\n",
        "\n",
        "writeRaster(waimanu_2020_stack, \"/content/planet_output/2020_waimanu_stack.tif\", format = \"GTiff\")\n",
        "drive_upload(media = \"/content/planet_output/2020_waimanu_stack.tif\", path = as_id (\"1-aSDCj6ZCYapfMr1uaaq9xreoP4HXBW2\"))\n",
        "\n",
        "writeRaster(waipio_2020_stack, \"/content/planet_output/2020_waipio_stack.tif\", format = \"GTiff\")\n",
        "drive_upload(media = \"/content/planet_output/2020_waipio_stack.tif\", path = as_id (\"1-aSDCj6ZCYapfMr1uaaq9xreoP4HXBW2\"))\n"
      ],
      "metadata": {
        "id": "qthfBBPMrR60"
      },
      "execution_count": null,
      "outputs": []
    },
    {
      "cell_type": "code",
      "source": [
        "# https://drive.google.com/drive/folders/16vkCRbPT1yZkaeXf9QzW1fACTdPlHb2x?usp=drive_link\n",
        "st_write(nwiutm4_numeric, \"/content/folder/nwi_utm4_numeric.gpkg\", driver = \"GPKG\")\n",
        "drive_upload(media = \"/content/folder/nwi_utm4_numeric.gpkg\", path = as_id (\"16vkCRbPT1yZkaeXf9QzW1fACTdPlHb2x\"))\n",
        "\n",
        "st_write(nwiutm5_numeric, \"/content/folder/nwi_utm5_numeric.gpkg\", driver = \"GPKG\")\n",
        "drive_upload(media = \"/content/folder/nwi_utm5_numeric.gpkg\", path = as_id (\"16vkCRbPT1yZkaeXf9QzW1fACTdPlHb2x\"))"
      ],
      "metadata": {
        "colab": {
          "base_uri": "https://localhost:8080/"
        },
        "id": "4yQKMz3CSCvU",
        "outputId": "90a4f134-12fc-40cf-d420-27555fa46cbe"
      },
      "execution_count": 432,
      "outputs": [
        {
          "output_type": "stream",
          "name": "stdout",
          "text": [
            "Writing layer `nwi_utm4_numeric' to data source \n",
            "  `/content/folder/nwi_utm4_numeric.gpkg' using driver `GPKG'\n",
            "Writing 10866 features with 8 fields and geometry type Multi Polygon.\n"
          ]
        },
        {
          "output_type": "stream",
          "name": "stderr",
          "text": [
            "Local file:\n",
            "\n",
            "• \u001b[34m/content/folder/nwi_utm4_numeric.gpkg\u001b[39m\n",
            "\n",
            "Uploaded into Drive file:\n",
            "\n",
            "• \u001b[36mnwi_utm4_numeric.gpkg\u001b[39m \u001b[90m<id: 1NHOKJKTqlNeuDg4DlfYfM3evDTvp0q8S>\u001b[39m\n",
            "\n",
            "With MIME type:\n",
            "\n",
            "• \u001b[32mapplication/geopackage+sqlite3\u001b[39m\n",
            "\n"
          ]
        },
        {
          "output_type": "stream",
          "name": "stdout",
          "text": [
            "Writing layer `nwi_utm5_numeric' to data source \n",
            "  `/content/folder/nwi_utm5_numeric.gpkg' using driver `GPKG'\n",
            "Writing 2105 features with 8 fields and geometry type Multi Polygon.\n"
          ]
        },
        {
          "output_type": "stream",
          "name": "stderr",
          "text": [
            "Local file:\n",
            "\n",
            "• \u001b[34m/content/folder/nwi_utm5_numeric.gpkg\u001b[39m\n",
            "\n",
            "Uploaded into Drive file:\n",
            "\n",
            "• \u001b[36mnwi_utm5_numeric.gpkg\u001b[39m \u001b[90m<id: 1vjY2D7TCsFj5Mcs3Wk5Gh0OV3MIPD_M4>\u001b[39m\n",
            "\n",
            "With MIME type:\n",
            "\n",
            "• \u001b[32mapplication/geopackage+sqlite3\u001b[39m\n",
            "\n"
          ]
        }
      ]
    },
    {
      "cell_type": "markdown",
      "source": [
        "working with utm4 data"
      ],
      "metadata": {
        "id": "x3wJK7RPvC1X"
      }
    },
    {
      "cell_type": "code",
      "source": [
        "aoi_utm4 <- st_read(\"/content/workingfolder/aoi/utm4/aoi_utm4.gpkg\")\n",
        "# WGS 84 / UTM zone 4N\n",
        "# sf data.frame"
      ],
      "metadata": {
        "colab": {
          "base_uri": "https://localhost:8080/"
        },
        "id": "PlXufcNsuzZy",
        "outputId": "da2b59d0-ba4e-4a5f-f784-88e453dd762a"
      },
      "execution_count": 38,
      "outputs": [
        {
          "output_type": "stream",
          "name": "stdout",
          "text": [
            "Reading layer `aoi_wetland_4' from data source \n",
            "  `/content/workingfolder/aoi/utm4/aoi_utm4.gpkg' using driver `GPKG'\n",
            "Simple feature collection with 16 features and 6 fields\n",
            "Geometry type: MULTIPOLYGON\n",
            "Dimension:     XY\n",
            "Bounding box:  xmin: 444046 ymin: 2299914 xmax: 766191.9 ymax: 2457336\n",
            "Projected CRS: WGS 84 / UTM zone 4N\n"
          ]
        }
      ]
    },
    {
      "cell_type": "code",
      "source": [
        "kauai_dem <- raster(\"/content/workingfolder/dem/utm4/wgs84_kauai_10m.tif\")\n",
        "maui_dem <- raster(\"/content/workingfolder/dem/utm4/wgs84_maui_dem.tif\")\n",
        "molokai_dem <- raster(\"/content/workingfolder/dem/utm4/wgs84_molokai_dem.tif\")\n",
        "oahu_dem <- raster(\"/content/workingfolder/dem/utm4/wgs84_oahu_dem.tif\")\n",
        "\n",
        "\n",
        "kauai_ccap <- raster(\"/content/workingfolder/ccap/utm4/wgs84_kauai_ccap.tif\")\n",
        "maui_ccap <- raster(\"/content/workingfolder/ccap/utm4/wgs84_maui_ccap.tif\")\n",
        "molokai_ccap <- raster(\"/content/workingfolder/ccap/utm4/wgs84_molokai_ccap.tif\")\n",
        "oahu_dem <- raster(\"/content/workingfolder/ccap/utm4/wgs84_oahu_ccap.tif\")\n",
        "\n",
        "nlcd_utm4 <- raster(\"/content/workingfolder/nlcd/utm4/nlcd_utm4.tif\")\n",
        "\n",
        "nwi_utm4 <- st_read(\"/content/workingfolder/nwi/utm4/nwi_utm4.gpkg\")"
      ],
      "metadata": {
        "colab": {
          "base_uri": "https://localhost:8080/"
        },
        "id": "S3_9a89DvNwN",
        "outputId": "755408d9-e8e6-4f61-d747-93b42f738a0f"
      },
      "execution_count": 39,
      "outputs": [
        {
          "output_type": "stream",
          "name": "stdout",
          "text": [
            "Reading layer `utm_nwi_numberic' from data source \n",
            "  `/content/workingfolder/nwi/utm4/nwi_utm4.gpkg' using driver `GPKG'\n",
            "Simple feature collection with 10866 features and 8 fields\n",
            "Geometry type: MULTIPOLYGON\n",
            "Dimension:     XY\n",
            "Bounding box:  xmin: 412977.7 ymin: 2263072 xmax: 820600.7 ymax: 2464465\n",
            "Projected CRS: WGS 84 / UTM zone 4N\n"
          ]
        }
      ]
    },
    {
      "cell_type": "code",
      "source": [
        "st_crs(aoi_utm4) # 'sf''data.frame' WGS 84 / UTM zone 4N"
      ],
      "metadata": {
        "id": "PUPWqnFcvV9f"
      },
      "execution_count": null,
      "outputs": []
    },
    {
      "cell_type": "code",
      "source": [
        "st_crs(kauai_dem) # 'RasterLayer' +proj=utm +zone=4 +datum=WGS84 +units=m +no_defs"
      ],
      "metadata": {
        "id": "AgKk97KByBWu"
      },
      "execution_count": null,
      "outputs": []
    },
    {
      "cell_type": "code",
      "source": [
        "st_crs(kauai_ccap) # 'RasterLayer' +proj=utm +zone=4 +datum=WGS84 +units=m +no_defs"
      ],
      "metadata": {
        "id": "dRSQuNqiyDe9"
      },
      "execution_count": null,
      "outputs": []
    },
    {
      "cell_type": "code",
      "source": [
        "st_crs(nlcd_utm4) # 'RasterLayer' +proj=utm +zone=4 +datum=WGS84 +units=m +no_defs"
      ],
      "metadata": {
        "id": "D1-KDQGryFRh"
      },
      "execution_count": null,
      "outputs": []
    },
    {
      "cell_type": "code",
      "source": [
        "st_crs(nwi_utm4) # 'sf''data.frame'  WGS 84 / UTM zone 4N"
      ],
      "metadata": {
        "id": "nzMVZlt9yOfr"
      },
      "execution_count": null,
      "outputs": []
    },
    {
      "cell_type": "code",
      "source": [
        "nwi_utm4$wetland_ty_numeric %>% unique"
      ],
      "metadata": {
        "colab": {
          "base_uri": "https://localhost:8080/",
          "height": 34
        },
        "id": "KK1T5xVyyS3z",
        "outputId": "e02b512c-8f91-40f5-d1ce-44aeb440583e"
      },
      "execution_count": 40,
      "outputs": [
        {
          "output_type": "display_data",
          "data": {
            "text/html": [
              "<style>\n",
              ".list-inline {list-style: none; margin:0; padding: 0}\n",
              ".list-inline>li {display: inline-block}\n",
              ".list-inline>li:not(:last-child)::after {content: \"\\00b7\"; padding: 0 .5ex}\n",
              "</style>\n",
              "<ol class=list-inline><li>1</li><li>2</li><li>3</li><li>4</li><li>5</li></ol>\n"
            ],
            "text/markdown": "1. 1\n2. 2\n3. 3\n4. 4\n5. 5\n\n\n",
            "text/latex": "\\begin{enumerate*}\n\\item 1\n\\item 2\n\\item 3\n\\item 4\n\\item 5\n\\end{enumerate*}\n",
            "text/plain": [
              "[1] 1 2 3 4 5"
            ]
          },
          "metadata": {}
        }
      ]
    },
    {
      "cell_type": "code",
      "source": [],
      "metadata": {
        "id": "3h3dth2J9cwD"
      },
      "execution_count": null,
      "outputs": []
    },
    {
      "cell_type": "code",
      "source": [
        "# changing the cell size affects the size of the individual grid cells in the fishnet grid\n",
        "# decreasing the cell size = smaller grid & provides higher spatial resolution\n",
        "# increasing the cell size = larger grid & reduces the spatial resolution\n",
        "\n",
        "# naip 0.6m pixel resolution\n",
        "# for 256 pixels wide tile and each pixel is 0.6m = (256*0.6) = (153.6,153.6) cell size\n",
        "# for 128 pixels wide tile and each pixel is 0.6m = (128*0.6) = (76.8,76.8) cell size\n",
        "# for 64 pixels wide tile and each pixel is 0.6m = (64*0.6) = (38.4,38.4) cell size\n",
        "# for 32 pixels wide tile and each pixel is 0.6m = (32*0.6) = (19.2,19.2) cell size\n",
        "# for 16 pixels wide tile and each pixel is 0.6m = (16*0.6) = (9.6,9.6) cell size\n",
        "\n",
        "\n",
        "# planet 3m pixel resolution\n",
        "# for 256 pixels wide tile and each pixel is 3m = (256*3) = (768,768) cell size\n",
        "# for 128 pixels wide tile and each pixel is 3m = (128*3) = (384,384) cell size\n",
        "# for 64 pixels wide tile and each pixel is 3m = (64*3) = (192,192) cell size\n",
        "# for 32 pixels wide tile and each pixel is 3m = (32*3) = (96,96) cell size\n",
        "# for 16 pixels wide tile and each pixel is 3m = (16*3) = (48,48) cell size\n",
        "\n",
        "# landsat 30m pixel resolution\n",
        "# for 256 pixels wide tile and each pixel is 30m = (256*30) = (7680,7680) cell size\n",
        "# for 128 pixels wide tile and each pixel is 30m = (128*30) = (3840,3840) cell size\n",
        "# for 64 pixels wide tile and each pixel is 30m = (64*30) = (1920,1920) cell size\n",
        "# for 32 pixels wide tile and each pixel is 30m = (32*30) = (960,960) cell size\n",
        "# for 16 pixels wide tile and each pixel is 30m = (16*30) = (480,480) cell size"
      ],
      "metadata": {
        "id": "qnjEH2Nk9cVL"
      },
      "execution_count": null,
      "outputs": []
    },
    {
      "cell_type": "markdown",
      "source": [
        ""
      ],
      "metadata": {
        "id": "UOxOqDl19Kv8"
      }
    },
    {
      "cell_type": "code",
      "source": [
        "\n",
        "# https://drive.google.com/file/d/1-VIDme5nDniwFNPHHD2445lHnDKRcPMZ/view?usp=drive_link\n",
        "# drive_download(file = as_id('1-VIDme5nDniwFNPHHD2445lHnDKRcPMZ'), path =  '/content/imagery/naip/utm5/naip_hawaii_index.vrt', overwrite = TRUE)\n",
        "\n",
        "\n",
        "# https://drive.google.com/file/d/1-_DRfwohvWdj6sQswVRZS04HJ0QkyhPs/view?usp=drive_link\n",
        "drive_download(file = as_id('1-_DRfwohvWdj6sQswVRZS04HJ0QkyhPs'), path =  '/content/imagery/naip/utm4/naip_index.vrt', overwrite = TRUE)\n"
      ],
      "metadata": {
        "colab": {
          "base_uri": "https://localhost:8080/"
        },
        "id": "ICilGtFdJN6P",
        "outputId": "7c376d57-1eb7-4b92-da45-1f6b1ed606f4"
      },
      "execution_count": 146,
      "outputs": [
        {
          "output_type": "stream",
          "name": "stderr",
          "text": [
            "File downloaded:\n",
            "\n",
            "• \u001b[36mnaip_index.vrt\u001b[39m \u001b[90m<id: 1-_DRfwohvWdj6sQswVRZS04HJ0QkyhPs>\u001b[39m\n",
            "\n",
            "Saved locally as:\n",
            "\n",
            "• \u001b[34m/content/imagery/naip/utm4/naip_index.vrt\u001b[39m\n",
            "\n"
          ]
        }
      ]
    },
    {
      "cell_type": "markdown",
      "source": [
        "testing"
      ],
      "metadata": {
        "id": "1augl5z5z3cy"
      }
    },
    {
      "cell_type": "code",
      "source": [
        "# naip_hawaii_index <-raster(\"/content/imagery/naip/utm5/naip_hawaii_index.vrt\")\n",
        "naip_index <- raster (\"/content/imagery/naip/utm4/naip_index.vrt\")"
      ],
      "metadata": {
        "id": "CHqaSXdiJjSx"
      },
      "execution_count": 147,
      "outputs": []
    },
    {
      "cell_type": "code",
      "source": [
        "naip_hawaii_index %>% plot"
      ],
      "metadata": {
        "colab": {
          "base_uri": "https://localhost:8080/",
          "height": 437
        },
        "id": "6hV7U5waJv8p",
        "outputId": "528b6bac-395f-4223-d3ad-65c2ec1c5406"
      },
      "execution_count": 143,
      "outputs": [
        {
          "output_type": "display_data",
          "data": {
            "text/plain": [
              "Plot with title “”"
            ],
            "image/png": "[encoded data removed]"
          },
          "metadata": {
            "image/png": {
              "width": 420,
              "height": 420
            }
          }
        }
      ]
    },
    {
      "cell_type": "code",
      "source": [
        "naip_index %>% plot"
      ],
      "metadata": {
        "colab": {
          "base_uri": "https://localhost:8080/",
          "height": 437
        },
        "id": "EUsOQdG2VHu_",
        "outputId": "180810c9-9be4-4284-ed5a-33f11ac4b114"
      },
      "execution_count": 148,
      "outputs": [
        {
          "output_type": "display_data",
          "data": {
            "text/plain": [
              "Plot with title “”"
            ],
            "image/png": "[encoded data removed]"
          },
          "metadata": {
            "image/png": {
              "width": 420,
              "height": 420
            }
          }
        }
      ]
    },
    {
      "cell_type": "code",
      "source": [
        "naipImages <- stack(\"/content/imagery/naip/utm4/naip_index.vrt\")"
      ],
      "metadata": {
        "id": "GZdroB0eXNJv"
      },
      "execution_count": 332,
      "outputs": []
    },
    {
      "cell_type": "code",
      "source": [
        "nlcdImages <- raster(\"/content/workingfolder/nlcd/utm4/nlcd_utm4.tif\")"
      ],
      "metadata": {
        "id": "22pltVbbgixz"
      },
      "execution_count": 187,
      "outputs": []
    },
    {
      "cell_type": "code",
      "source": [
        "unified_table <-\n",
        "data.table(\n",
        "  unified = c(0, 1, 2, 3, 4, 5, 6, 7, 8, 9, 10, 11),\n",
        "  nwi = list(-1, c(1,2,3), 4, 5, 6, 7, -1, -1, -1, -1, -1, -1),\n",
        "  nlcd = list(-1, 11, 90, 95, -1, -1, c(21,22,23,24), c(81,82), 71, 31, c(41,42,43), 52),\n",
        "  ccap = list(c(0,1), c(19,21), c(16,17,18), c(13,15), 14, c(22,23), c(2,3,4,5), c(6,7), 8, 20, c(9,10,11), 12)\n",
        ")"
      ],
      "metadata": {
        "id": "cgs6rXH-2vuT"
      },
      "execution_count": null,
      "outputs": []
    },
    {
      "cell_type": "code",
      "source": [
        "\n",
        "wetlandsVector <- aoi_utm4\n",
        "kauaiDem <- kauai_dem\n",
        "kauailandCover <- kauai_ccap\n",
        "nwiVector <- nwi_utm4"
      ],
      "metadata": {
        "id": "0zSTI2kMztfH"
      },
      "execution_count": 136,
      "outputs": []
    },
    {
      "cell_type": "code",
      "source": [
        "naipImages%>% plot"
      ],
      "metadata": {
        "id": "OJDA86rZT947"
      },
      "execution_count": null,
      "outputs": []
    },
    {
      "cell_type": "code",
      "source": [
        "kauaiDem"
      ],
      "metadata": {
        "colab": {
          "base_uri": "https://localhost:8080/",
          "height": 156
        },
        "id": "DmF2zN-BIaKG",
        "outputId": "ff9d5435-dbf2-40e9-951f-21cb56e2dc4e"
      },
      "execution_count": 134,
      "outputs": [
        {
          "output_type": "display_data",
          "data": {
            "text/plain": [
              "class      : RasterLayer \n",
              "dimensions : 5235, 6767, 35425245  (nrow, ncol, ncell)\n",
              "resolution : 9.27, 9.94  (x, y)\n",
              "extent     : 412805.4, 475535.5, 2412669, 2464705  (xmin, xmax, ymin, ymax)\n",
              "crs        : +proj=utm +zone=4 +datum=WGS84 +units=m +no_defs \n",
              "source     : wgs84_kauai_10m.tif \n",
              "names      : wgs84_kauai_10m \n",
              "values     : -1.514177, 1597.918  (min, max)\n"
            ]
          },
          "metadata": {}
        }
      ]
    },
    {
      "cell_type": "code",
      "source": [
        "# resample  dem and ccap to the planet resolution (3)\n",
        "kauaiDemResample <- resample(kauaiDem, naipImages, method = \"ngb\")\n",
        "kauaiDemResample <- setMinMax(kauaiDemResample)\n",
        "kauailandCoverResample <- resample(kauailandCover, naipImages, method = \"ngb\")\n",
        "kauailandCoverResample <- setMinMax(kauailandCoverResample)"
      ],
      "metadata": {
        "id": "L8gaBkGz6BtN"
      },
      "execution_count": null,
      "outputs": []
    },
    {
      "cell_type": "code",
      "source": [
        "kauaiDemResample"
      ],
      "metadata": {
        "colab": {
          "base_uri": "https://localhost:8080/",
          "height": 156
        },
        "id": "TaniYJNiH-JX",
        "outputId": "cd6ac8c9-b03d-4e86-fb9d-277089b7d68f"
      },
      "execution_count": 100,
      "outputs": [
        {
          "output_type": "display_data",
          "data": {
            "text/plain": [
              "class      : RasterLayer \n",
              "dimensions : 751, 918, 689418  (nrow, ncol, ncell)\n",
              "resolution : 3, 3  (x, y)\n",
              "extent     : 467439, 470193, 2447514, 2449767  (xmin, xmax, ymin, ymax)\n",
              "crs        : +proj=utm +zone=4 +datum=WGS84 +units=m +no_defs \n",
              "source     : memory\n",
              "names      : wgs84_kauai_10m \n",
              "values     : -0.1136936, 89.05328  (min, max)\n"
            ]
          },
          "metadata": {}
        }
      ]
    },
    {
      "cell_type": "code",
      "source": [
        "kauailandCoverResample"
      ],
      "metadata": {
        "id": "XoYtjHJ-H-8b"
      },
      "execution_count": null,
      "outputs": []
    },
    {
      "cell_type": "code",
      "source": [
        "wetlandsVector"
      ],
      "metadata": {
        "colab": {
          "base_uri": "https://localhost:8080/",
          "height": 1000
        },
        "id": "zEp8ixtpa3hD",
        "outputId": "d34ec53f-ea41-40c9-8aa9-1931a612ba03"
      },
      "execution_count": 153,
      "outputs": [
        {
          "output_type": "stream",
          "name": "stderr",
          "text": [
            "ERROR while rich displaying an object: Error in loadNamespace(x): there is no package called ‘geojsonio’\n",
            "\n",
            "Traceback:\n",
            "1. tryCatch(withCallingHandlers({\n",
            " .     if (!mime %in% names(repr::mime2repr)) \n",
            " .         stop(\"No repr_* for mimetype \", mime, \" in repr::mime2repr\")\n",
            " .     rpr <- repr::mime2repr[[mime]](obj)\n",
            " .     if (is.null(rpr)) \n",
            " .         return(NULL)\n",
            " .     prepare_content(is.raw(rpr), rpr)\n",
            " . }, error = error_handler), error = outer_handler)\n",
            "2. tryCatchList(expr, classes, parentenv, handlers)\n",
            "3. tryCatchOne(expr, names, parentenv, handlers[[1L]])\n",
            "4. doTryCatch(return(expr), name, parentenv, handler)\n",
            "5. withCallingHandlers({\n",
            " .     if (!mime %in% names(repr::mime2repr)) \n",
            " .         stop(\"No repr_* for mimetype \", mime, \" in repr::mime2repr\")\n",
            " .     rpr <- repr::mime2repr[[mime]](obj)\n",
            " .     if (is.null(rpr)) \n",
            " .         return(NULL)\n",
            " .     prepare_content(is.raw(rpr), rpr)\n",
            " . }, error = error_handler)\n",
            "6. repr::mime2repr[[mime]](obj)\n",
            "7. repr_geojson.sf(obj)\n",
            "8. repr_geojson(geojsonio::geojson_list(obj), ...)\n",
            "9. loadNamespace(x)\n",
            "10. withRestarts(stop(cond), retry_loadNamespace = function() NULL)\n",
            "11. withOneRestart(expr, restarts[[1L]])\n",
            "12. doWithOneRestart(return(expr), restart)\n"
          ]
        },
        {
          "output_type": "display_data",
          "data": {
            "text/html": [
              "<table class=\"dataframe\">\n",
              "<caption>A sf: 16 × 7</caption>\n",
              "<thead>\n",
              "\t<tr><th scope=col>id</th><th scope=col>island</th><th scope=col>name</th><th scope=col>lumahai</th><th scope=col>layer</th><th scope=col>path</th><th scope=col>geom</th></tr>\n",
              "\t<tr><th scope=col>&lt;dbl&gt;</th><th scope=col>&lt;chr&gt;</th><th scope=col>&lt;chr&gt;</th><th scope=col>&lt;dbl&gt;</th><th scope=col>&lt;chr&gt;</th><th scope=col>&lt;chr&gt;</th><th scope=col>&lt;MULTIPOLYGON [m]&gt;</th></tr>\n",
              "</thead>\n",
              "<tbody>\n",
              "\t<tr><td> 1</td><td>NA  </td><td>NA            </td><td>NA</td><td>anahola       </td><td>E:/Data/AOI_Shapefiles/kauai/anahola.shp       </td><td>MULTIPOLYGON (((467439.4 24...</td></tr>\n",
              "\t<tr><td> 1</td><td>NA  </td><td>NA            </td><td>NA</td><td>haleiwa       </td><td>E:/Data/AOI_Shapefiles/oahu/haleiwa.shp        </td><td>MULTIPOLYGON (((590409.2 23...</td></tr>\n",
              "\t<tr><td> 1</td><td>NA  </td><td>NA            </td><td>NA</td><td>hanalei       </td><td>E:/Data/AOI_Shapefiles/kauai/hanalei.shp       </td><td>MULTIPOLYGON (((445906 2451...</td></tr>\n",
              "\t<tr><td> 1</td><td>NA  </td><td>NA            </td><td>NA</td><td>huleia        </td><td>E:/Data/AOI_Shapefiles/kauai/huleia.shp        </td><td>MULTIPOLYGON (((459399.5 24...</td></tr>\n",
              "\t<tr><td> 1</td><td>NA  </td><td>NA            </td><td>NA</td><td>kahuku        </td><td>E:/Data/AOI_Shapefiles/oahu/kahuku.shp         </td><td>MULTIPOLYGON (((602662.2 23...</td></tr>\n",
              "\t<tr><td> 1</td><td>NA  </td><td>NA            </td><td>NA</td><td>kakahaia      </td><td>E:/Data/AOI_Shapefiles/molokai/kakahaia.shp    </td><td>MULTIPOLYGON (((712686.8 23...</td></tr>\n",
              "\t<tr><td> 1</td><td>NA  </td><td>NA            </td><td>NA</td><td>kaluaapuhi    </td><td>E:/Data/AOI_Shapefiles/molokai/kaluaapuhi.shp  </td><td>MULTIPOLYGON (((694186.8 23...</td></tr>\n",
              "\t<tr><td> 1</td><td>NA  </td><td>NA            </td><td>NA</td><td>kamalo        </td><td>E:/Data/AOI_Shapefiles/molokai/kamalo.shp      </td><td>MULTIPOLYGON (((718784.3 23...</td></tr>\n",
              "\t<tr><td> 1</td><td>NA  </td><td>NA            </td><td>NA</td><td>kanaha        </td><td>E:/Data/AOI_Shapefiles/maui/kanaha.shp         </td><td>MULTIPOLYGON (((763679.9 23...</td></tr>\n",
              "\t<tr><td> 1</td><td>oahu</td><td>kawainui marsh</td><td>NA</td><td>kawainui_marsh</td><td>E:/Data/AOI_Shapefiles/oahu/kawainui_marsh.shp </td><td>MULTIPOLYGON (((625876.9 23...</td></tr>\n",
              "\t<tr><td> 1</td><td>NA  </td><td>NA            </td><td>NA</td><td>kealia        </td><td>E:/Data/AOI_Shapefiles/maui/kealia.shp         </td><td>MULTIPOLYGON (((759252.1 22...</td></tr>\n",
              "\t<tr><td>NA</td><td>NA  </td><td>NA            </td><td> 1</td><td>lumahai       </td><td>E:/Data/AOI_Shapefiles/kauai/lumahai.shp       </td><td>MULTIPOLYGON (((444046 2452...</td></tr>\n",
              "\t<tr><td> 1</td><td>NA  </td><td>NA            </td><td>NA</td><td>paukukalo     </td><td>E:/Data/AOI_Shapefiles/maui/paukukalo.shp      </td><td>MULTIPOLYGON (((758616.3 23...</td></tr>\n",
              "\t<tr><td> 1</td><td>NA  </td><td>NA            </td><td>NA</td><td>pearl_harbor  </td><td>E:/Data/AOI_Shapefiles/oahu/pearl_harbor.shp   </td><td>MULTIPOLYGON (((599581.1 23...</td></tr>\n",
              "\t<tr><td> 1</td><td>NA  </td><td>NA            </td><td>NA</td><td>waihee        </td><td>E:/Data/AOI_Shapefiles/maui/waihee.shp         </td><td>MULTIPOLYGON (((757873.3 23...</td></tr>\n",
              "\t<tr><td> 1</td><td>NA  </td><td>NA            </td><td>NA</td><td>wailua_opaekaa</td><td>E:/Data/AOI_Shapefiles/kauai/wailua_opaekaa.shp</td><td>MULTIPOLYGON (((464124.8 24...</td></tr>\n",
              "</tbody>\n",
              "</table>\n"
            ],
            "text/markdown": "\nA sf: 16 × 7\n\n| id &lt;dbl&gt; | island &lt;chr&gt; | name &lt;chr&gt; | lumahai &lt;dbl&gt; | layer &lt;chr&gt; | path &lt;chr&gt; | geom &lt;MULTIPOLYGON [m]&gt; |\n|---|---|---|---|---|---|---|\n|  1 | NA   | NA             | NA | anahola        | E:/Data/AOI_Shapefiles/kauai/anahola.shp        | MULTIPOLYGON (((467439.4 24... |\n|  1 | NA   | NA             | NA | haleiwa        | E:/Data/AOI_Shapefiles/oahu/haleiwa.shp         | MULTIPOLYGON (((590409.2 23... |\n|  1 | NA   | NA             | NA | hanalei        | E:/Data/AOI_Shapefiles/kauai/hanalei.shp        | MULTIPOLYGON (((445906 2451... |\n|  1 | NA   | NA             | NA | huleia         | E:/Data/AOI_Shapefiles/kauai/huleia.shp         | MULTIPOLYGON (((459399.5 24... |\n|  1 | NA   | NA             | NA | kahuku         | E:/Data/AOI_Shapefiles/oahu/kahuku.shp          | MULTIPOLYGON (((602662.2 23... |\n|  1 | NA   | NA             | NA | kakahaia       | E:/Data/AOI_Shapefiles/molokai/kakahaia.shp     | MULTIPOLYGON (((712686.8 23... |\n|  1 | NA   | NA             | NA | kaluaapuhi     | E:/Data/AOI_Shapefiles/molokai/kaluaapuhi.shp   | MULTIPOLYGON (((694186.8 23... |\n|  1 | NA   | NA             | NA | kamalo         | E:/Data/AOI_Shapefiles/molokai/kamalo.shp       | MULTIPOLYGON (((718784.3 23... |\n|  1 | NA   | NA             | NA | kanaha         | E:/Data/AOI_Shapefiles/maui/kanaha.shp          | MULTIPOLYGON (((763679.9 23... |\n|  1 | oahu | kawainui marsh | NA | kawainui_marsh | E:/Data/AOI_Shapefiles/oahu/kawainui_marsh.shp  | MULTIPOLYGON (((625876.9 23... |\n|  1 | NA   | NA             | NA | kealia         | E:/Data/AOI_Shapefiles/maui/kealia.shp          | MULTIPOLYGON (((759252.1 22... |\n| NA | NA   | NA             |  1 | lumahai        | E:/Data/AOI_Shapefiles/kauai/lumahai.shp        | MULTIPOLYGON (((444046 2452... |\n|  1 | NA   | NA             | NA | paukukalo      | E:/Data/AOI_Shapefiles/maui/paukukalo.shp       | MULTIPOLYGON (((758616.3 23... |\n|  1 | NA   | NA             | NA | pearl_harbor   | E:/Data/AOI_Shapefiles/oahu/pearl_harbor.shp    | MULTIPOLYGON (((599581.1 23... |\n|  1 | NA   | NA             | NA | waihee         | E:/Data/AOI_Shapefiles/maui/waihee.shp          | MULTIPOLYGON (((757873.3 23... |\n|  1 | NA   | NA             | NA | wailua_opaekaa | E:/Data/AOI_Shapefiles/kauai/wailua_opaekaa.shp | MULTIPOLYGON (((464124.8 24... |\n\n",
            "text/latex": "A sf: 16 × 7\n\\begin{tabular}{lllllll}\n id & island & name & lumahai & layer & path & geom\\\\\n <dbl> & <chr> & <chr> & <dbl> & <chr> & <chr> & <MULTIPOLYGON {[}m{]}>\\\\\n\\hline\n\t  1 & NA   & NA             & NA & anahola        & E:/Data/AOI\\_Shapefiles/kauai/anahola.shp        & MULTIPOLYGON (((467439.4 24...\\\\\n\t  1 & NA   & NA             & NA & haleiwa        & E:/Data/AOI\\_Shapefiles/oahu/haleiwa.shp         & MULTIPOLYGON (((590409.2 23...\\\\\n\t  1 & NA   & NA             & NA & hanalei        & E:/Data/AOI\\_Shapefiles/kauai/hanalei.shp        & MULTIPOLYGON (((445906 2451...\\\\\n\t  1 & NA   & NA             & NA & huleia         & E:/Data/AOI\\_Shapefiles/kauai/huleia.shp         & MULTIPOLYGON (((459399.5 24...\\\\\n\t  1 & NA   & NA             & NA & kahuku         & E:/Data/AOI\\_Shapefiles/oahu/kahuku.shp          & MULTIPOLYGON (((602662.2 23...\\\\\n\t  1 & NA   & NA             & NA & kakahaia       & E:/Data/AOI\\_Shapefiles/molokai/kakahaia.shp     & MULTIPOLYGON (((712686.8 23...\\\\\n\t  1 & NA   & NA             & NA & kaluaapuhi     & E:/Data/AOI\\_Shapefiles/molokai/kaluaapuhi.shp   & MULTIPOLYGON (((694186.8 23...\\\\\n\t  1 & NA   & NA             & NA & kamalo         & E:/Data/AOI\\_Shapefiles/molokai/kamalo.shp       & MULTIPOLYGON (((718784.3 23...\\\\\n\t  1 & NA   & NA             & NA & kanaha         & E:/Data/AOI\\_Shapefiles/maui/kanaha.shp          & MULTIPOLYGON (((763679.9 23...\\\\\n\t  1 & oahu & kawainui marsh & NA & kawainui\\_marsh & E:/Data/AOI\\_Shapefiles/oahu/kawainui\\_marsh.shp  & MULTIPOLYGON (((625876.9 23...\\\\\n\t  1 & NA   & NA             & NA & kealia         & E:/Data/AOI\\_Shapefiles/maui/kealia.shp          & MULTIPOLYGON (((759252.1 22...\\\\\n\t NA & NA   & NA             &  1 & lumahai        & E:/Data/AOI\\_Shapefiles/kauai/lumahai.shp        & MULTIPOLYGON (((444046 2452...\\\\\n\t  1 & NA   & NA             & NA & paukukalo      & E:/Data/AOI\\_Shapefiles/maui/paukukalo.shp       & MULTIPOLYGON (((758616.3 23...\\\\\n\t  1 & NA   & NA             & NA & pearl\\_harbor   & E:/Data/AOI\\_Shapefiles/oahu/pearl\\_harbor.shp    & MULTIPOLYGON (((599581.1 23...\\\\\n\t  1 & NA   & NA             & NA & waihee         & E:/Data/AOI\\_Shapefiles/maui/waihee.shp          & MULTIPOLYGON (((757873.3 23...\\\\\n\t  1 & NA   & NA             & NA & wailua\\_opaekaa & E:/Data/AOI\\_Shapefiles/kauai/wailua\\_opaekaa.shp & MULTIPOLYGON (((464124.8 24...\\\\\n\\end{tabular}\n",
            "text/plain": [
              "   id island name           lumahai layer         \n",
              "1   1 NA     NA             NA      anahola       \n",
              "2   1 NA     NA             NA      haleiwa       \n",
              "3   1 NA     NA             NA      hanalei       \n",
              "4   1 NA     NA             NA      huleia        \n",
              "5   1 NA     NA             NA      kahuku        \n",
              "6   1 NA     NA             NA      kakahaia      \n",
              "7   1 NA     NA             NA      kaluaapuhi    \n",
              "8   1 NA     NA             NA      kamalo        \n",
              "9   1 NA     NA             NA      kanaha        \n",
              "10  1 oahu   kawainui marsh NA      kawainui_marsh\n",
              "11  1 NA     NA             NA      kealia        \n",
              "12 NA NA     NA              1      lumahai       \n",
              "13  1 NA     NA             NA      paukukalo     \n",
              "14  1 NA     NA             NA      pearl_harbor  \n",
              "15  1 NA     NA             NA      waihee        \n",
              "16  1 NA     NA             NA      wailua_opaekaa\n",
              "   path                                           \n",
              "1  E:/Data/AOI_Shapefiles/kauai/anahola.shp       \n",
              "2  E:/Data/AOI_Shapefiles/oahu/haleiwa.shp        \n",
              "3  E:/Data/AOI_Shapefiles/kauai/hanalei.shp       \n",
              "4  E:/Data/AOI_Shapefiles/kauai/huleia.shp        \n",
              "5  E:/Data/AOI_Shapefiles/oahu/kahuku.shp         \n",
              "6  E:/Data/AOI_Shapefiles/molokai/kakahaia.shp    \n",
              "7  E:/Data/AOI_Shapefiles/molokai/kaluaapuhi.shp  \n",
              "8  E:/Data/AOI_Shapefiles/molokai/kamalo.shp      \n",
              "9  E:/Data/AOI_Shapefiles/maui/kanaha.shp         \n",
              "10 E:/Data/AOI_Shapefiles/oahu/kawainui_marsh.shp \n",
              "11 E:/Data/AOI_Shapefiles/maui/kealia.shp         \n",
              "12 E:/Data/AOI_Shapefiles/kauai/lumahai.shp       \n",
              "13 E:/Data/AOI_Shapefiles/maui/paukukalo.shp      \n",
              "14 E:/Data/AOI_Shapefiles/oahu/pearl_harbor.shp   \n",
              "15 E:/Data/AOI_Shapefiles/maui/waihee.shp         \n",
              "16 E:/Data/AOI_Shapefiles/kauai/wailua_opaekaa.shp\n",
              "   geom                          \n",
              "1  MULTIPOLYGON (((467439.4 24...\n",
              "2  MULTIPOLYGON (((590409.2 23...\n",
              "3  MULTIPOLYGON (((445906 2451...\n",
              "4  MULTIPOLYGON (((459399.5 24...\n",
              "5  MULTIPOLYGON (((602662.2 23...\n",
              "6  MULTIPOLYGON (((712686.8 23...\n",
              "7  MULTIPOLYGON (((694186.8 23...\n",
              "8  MULTIPOLYGON (((718784.3 23...\n",
              "9  MULTIPOLYGON (((763679.9 23...\n",
              "10 MULTIPOLYGON (((625876.9 23...\n",
              "11 MULTIPOLYGON (((759252.1 22...\n",
              "12 MULTIPOLYGON (((444046 2452...\n",
              "13 MULTIPOLYGON (((758616.3 23...\n",
              "14 MULTIPOLYGON (((599581.1 23...\n",
              "15 MULTIPOLYGON (((757873.3 23...\n",
              "16 MULTIPOLYGON (((464124.8 24..."
            ]
          },
          "metadata": {}
        }
      ]
    },
    {
      "cell_type": "code",
      "source": [
        "links_dt <- data.table(\n",
        "island = c('kauai','oahu','molokai','maui'),\n",
        "ccap =c('/content/workingfolder/ccap/utm4/wgs84_kauai_ccap.tif','/content/workingfolder/ccap/utm4/wgs84_oahu_ccap.tif','/content/workingfolder/ccap/utm4/wgs84_molokai_ccap.tif','/content/workingfolder/ccap/utm4/wgs84_maui_ccap.tif'),\n",
        "dem =c('/content/workingfolder/dem/utm4/wgs84_kauai_10m.tif','/content/workingfolder/dem/utm4/wgs84_oahu_dem.tif','/content/workingfolder/dem/utm4/wgs84_molokai_dem.tif','/content/workingfolder/dem/utm4/wgs84_maui_dem.tif'))\n",
        "\n"
      ],
      "metadata": {
        "id": "PddVe59tjUG1"
      },
      "execution_count": 218,
      "outputs": []
    },
    {
      "cell_type": "code",
      "source": [
        "links_dt$ccap_raster <- links_dt$ccap %>% lapply(stack)\n",
        "links_dt$dem_raster <- links_dt$dem %>% lapply(stack)"
      ],
      "metadata": {
        "id": "RqHhtftwlQ-g"
      },
      "execution_count": 233,
      "outputs": []
    },
    {
      "cell_type": "code",
      "source": [
        "links_dt"
      ],
      "metadata": {
        "colab": {
          "base_uri": "https://localhost:8080/",
          "height": 224
        },
        "id": "AcqFA549lvQz",
        "outputId": "98bca7de-9339-41d7-ed3d-8aa1fba883ea"
      },
      "execution_count": 234,
      "outputs": [
        {
          "output_type": "display_data",
          "data": {
            "text/html": [
              "<table class=\"dataframe\">\n",
              "<caption>A data.table: 4 × 5</caption>\n",
              "<thead>\n",
              "\t<tr><th scope=col>island</th><th scope=col>ccap</th><th scope=col>dem</th><th scope=col>ccap_raster</th><th scope=col>dem_raster</th></tr>\n",
              "\t<tr><th scope=col>&lt;chr&gt;</th><th scope=col>&lt;chr&gt;</th><th scope=col>&lt;chr&gt;</th><th scope=col>&lt;list&gt;</th><th scope=col>&lt;list&gt;</th></tr>\n",
              "</thead>\n",
              "<tbody>\n",
              "\t<tr><td><span style=white-space:pre-wrap>kauai  </span></td><td><span style=white-space:pre-wrap>/content/workingfolder/ccap/utm4/wgs84_kauai_ccap.tif  </span></td><td><span style=white-space:pre-wrap>/content/workingfolder/dem/utm4/wgs84_kauai_10m.tif  </span></td><td>&lt;S4 class ‘RasterStack’ [package “raster”] with 12 slots&gt;</td><td>&lt;S4 class ‘RasterStack’ [package “raster”] with 12 slots&gt;</td></tr>\n",
              "\t<tr><td><span style=white-space:pre-wrap>oahu   </span></td><td><span style=white-space:pre-wrap>/content/workingfolder/ccap/utm4/wgs84_oahu_ccap.tif   </span></td><td><span style=white-space:pre-wrap>/content/workingfolder/dem/utm4/wgs84_oahu_dem.tif   </span></td><td>&lt;S4 class ‘RasterStack’ [package “raster”] with 12 slots&gt;</td><td>&lt;S4 class ‘RasterStack’ [package “raster”] with 12 slots&gt;</td></tr>\n",
              "\t<tr><td>molokai</td><td>/content/workingfolder/ccap/utm4/wgs84_molokai_ccap.tif</td><td>/content/workingfolder/dem/utm4/wgs84_molokai_dem.tif</td><td>&lt;S4 class ‘RasterStack’ [package “raster”] with 12 slots&gt;</td><td>&lt;S4 class ‘RasterStack’ [package “raster”] with 12 slots&gt;</td></tr>\n",
              "\t<tr><td><span style=white-space:pre-wrap>maui   </span></td><td><span style=white-space:pre-wrap>/content/workingfolder/ccap/utm4/wgs84_maui_ccap.tif   </span></td><td><span style=white-space:pre-wrap>/content/workingfolder/dem/utm4/wgs84_maui_dem.tif   </span></td><td>&lt;S4 class ‘RasterStack’ [package “raster”] with 12 slots&gt;</td><td>&lt;S4 class ‘RasterStack’ [package “raster”] with 12 slots&gt;</td></tr>\n",
              "</tbody>\n",
              "</table>\n"
            ],
            "text/markdown": "\nA data.table: 4 × 5\n\n| island &lt;chr&gt; | ccap &lt;chr&gt; | dem &lt;chr&gt; | ccap_raster &lt;list&gt; | dem_raster &lt;list&gt; |\n|---|---|---|---|---|\n| kauai   | /content/workingfolder/ccap/utm4/wgs84_kauai_ccap.tif   | /content/workingfolder/dem/utm4/wgs84_kauai_10m.tif   | &lt;S4 class ‘RasterStack’ [package “raster”] with 12 slots&gt; | &lt;S4 class ‘RasterStack’ [package “raster”] with 12 slots&gt; |\n| oahu    | /content/workingfolder/ccap/utm4/wgs84_oahu_ccap.tif    | /content/workingfolder/dem/utm4/wgs84_oahu_dem.tif    | &lt;S4 class ‘RasterStack’ [package “raster”] with 12 slots&gt; | &lt;S4 class ‘RasterStack’ [package “raster”] with 12 slots&gt; |\n| molokai | /content/workingfolder/ccap/utm4/wgs84_molokai_ccap.tif | /content/workingfolder/dem/utm4/wgs84_molokai_dem.tif | &lt;S4 class ‘RasterStack’ [package “raster”] with 12 slots&gt; | &lt;S4 class ‘RasterStack’ [package “raster”] with 12 slots&gt; |\n| maui    | /content/workingfolder/ccap/utm4/wgs84_maui_ccap.tif    | /content/workingfolder/dem/utm4/wgs84_maui_dem.tif    | &lt;S4 class ‘RasterStack’ [package “raster”] with 12 slots&gt; | &lt;S4 class ‘RasterStack’ [package “raster”] with 12 slots&gt; |\n\n",
            "text/latex": "A data.table: 4 × 5\n\\begin{tabular}{lllll}\n island & ccap & dem & ccap\\_raster & dem\\_raster\\\\\n <chr> & <chr> & <chr> & <list> & <list>\\\\\n\\hline\n\t kauai   & /content/workingfolder/ccap/utm4/wgs84\\_kauai\\_ccap.tif   & /content/workingfolder/dem/utm4/wgs84\\_kauai\\_10m.tif   & <S4 class ‘RasterStack’ {[}package “raster”{]} with 12 slots> & <S4 class ‘RasterStack’ {[}package “raster”{]} with 12 slots>\\\\\n\t oahu    & /content/workingfolder/ccap/utm4/wgs84\\_oahu\\_ccap.tif    & /content/workingfolder/dem/utm4/wgs84\\_oahu\\_dem.tif    & <S4 class ‘RasterStack’ {[}package “raster”{]} with 12 slots> & <S4 class ‘RasterStack’ {[}package “raster”{]} with 12 slots>\\\\\n\t molokai & /content/workingfolder/ccap/utm4/wgs84\\_molokai\\_ccap.tif & /content/workingfolder/dem/utm4/wgs84\\_molokai\\_dem.tif & <S4 class ‘RasterStack’ {[}package “raster”{]} with 12 slots> & <S4 class ‘RasterStack’ {[}package “raster”{]} with 12 slots>\\\\\n\t maui    & /content/workingfolder/ccap/utm4/wgs84\\_maui\\_ccap.tif    & /content/workingfolder/dem/utm4/wgs84\\_maui\\_dem.tif    & <S4 class ‘RasterStack’ {[}package “raster”{]} with 12 slots> & <S4 class ‘RasterStack’ {[}package “raster”{]} with 12 slots>\\\\\n\\end{tabular}\n",
            "text/plain": [
              "  island  ccap                                                   \n",
              "1 kauai   /content/workingfolder/ccap/utm4/wgs84_kauai_ccap.tif  \n",
              "2 oahu    /content/workingfolder/ccap/utm4/wgs84_oahu_ccap.tif   \n",
              "3 molokai /content/workingfolder/ccap/utm4/wgs84_molokai_ccap.tif\n",
              "4 maui    /content/workingfolder/ccap/utm4/wgs84_maui_ccap.tif   \n",
              "  dem                                                  \n",
              "1 /content/workingfolder/dem/utm4/wgs84_kauai_10m.tif  \n",
              "2 /content/workingfolder/dem/utm4/wgs84_oahu_dem.tif   \n",
              "3 /content/workingfolder/dem/utm4/wgs84_molokai_dem.tif\n",
              "4 /content/workingfolder/dem/utm4/wgs84_maui_dem.tif   \n",
              "  ccap_raster                                              \n",
              "1 <S4 class ‘RasterStack’ [package “raster”] with 12 slots>\n",
              "2 <S4 class ‘RasterStack’ [package “raster”] with 12 slots>\n",
              "3 <S4 class ‘RasterStack’ [package “raster”] with 12 slots>\n",
              "4 <S4 class ‘RasterStack’ [package “raster”] with 12 slots>\n",
              "  dem_raster                                               \n",
              "1 <S4 class ‘RasterStack’ [package “raster”] with 12 slots>\n",
              "2 <S4 class ‘RasterStack’ [package “raster”] with 12 slots>\n",
              "3 <S4 class ‘RasterStack’ [package “raster”] with 12 slots>\n",
              "4 <S4 class ‘RasterStack’ [package “raster”] with 12 slots>"
            ]
          },
          "metadata": {}
        }
      ]
    },
    {
      "cell_type": "code",
      "source": [
        "wetlandsVector[,island:= path %>% substr(24,1000) %>% gsub('.shp','',.) %>% gsub(layer,'',.) %>% gsub('/','',.),by=1:nrow(wetlandsVector)]\n",
        "\n",
        "wetlandsVector <- wetlandsVector %>% st_as_sf"
      ],
      "metadata": {
        "id": "-lQrcLNmiUYD"
      },
      "execution_count": 224,
      "outputs": []
    },
    {
      "cell_type": "code",
      "source": [
        "wetlandsFishnet <-\n",
        "1:nrow(wetlandsVector) %>%\n",
        "  lapply(function(x){\n",
        "  fishnet <- st_make_grid(wetlandsVector[x,], cellsize = c(76.8,76.8)) %>% data.table\n",
        "  fishnet$rowid <- 1:nrow(fishnet)\n",
        "  fishnet_int <- fishnet %>% st_as_sf %>% st_intersection(wetlandsVector)\n",
        "  fishnet[rowid %in%fishnet_int$rowid ]\n",
        "  fishnet$island <- wetlandsVector[x,]$island\n",
        "  return(fishnet)\n",
        "  }) %>%\n",
        "  rbindlist()"
      ],
      "metadata": {
        "colab": {
          "base_uri": "https://localhost:8080/"
        },
        "id": "9pTPe8tyYqXp",
        "outputId": "5790b2ff-e801-4262-9ea1-91cfbefaca58"
      },
      "execution_count": 225,
      "outputs": [
        {
          "output_type": "stream",
          "name": "stderr",
          "text": [
            "Warning message:\n",
            "“attribute variables are assumed to be spatially constant throughout all geometries”\n",
            "Warning message:\n",
            "“attribute variables are assumed to be spatially constant throughout all geometries”\n",
            "Warning message:\n",
            "“attribute variables are assumed to be spatially constant throughout all geometries”\n",
            "Warning message:\n",
            "“attribute variables are assumed to be spatially constant throughout all geometries”\n",
            "Warning message:\n",
            "“attribute variables are assumed to be spatially constant throughout all geometries”\n",
            "Warning message:\n",
            "“attribute variables are assumed to be spatially constant throughout all geometries”\n",
            "Warning message:\n",
            "“attribute variables are assumed to be spatially constant throughout all geometries”\n",
            "Warning message:\n",
            "“attribute variables are assumed to be spatially constant throughout all geometries”\n",
            "Warning message:\n",
            "“attribute variables are assumed to be spatially constant throughout all geometries”\n",
            "Warning message:\n",
            "“attribute variables are assumed to be spatially constant throughout all geometries”\n",
            "Warning message:\n",
            "“attribute variables are assumed to be spatially constant throughout all geometries”\n",
            "Warning message:\n",
            "“attribute variables are assumed to be spatially constant throughout all geometries”\n",
            "Warning message:\n",
            "“attribute variables are assumed to be spatially constant throughout all geometries”\n",
            "Warning message:\n",
            "“attribute variables are assumed to be spatially constant throughout all geometries”\n",
            "Warning message:\n",
            "“attribute variables are assumed to be spatially constant throughout all geometries”\n",
            "Warning message:\n",
            "“attribute variables are assumed to be spatially constant throughout all geometries”\n"
          ]
        }
      ]
    },
    {
      "cell_type": "code",
      "source": [
        "wetlandsFishnet <- wetlandsFishnet %>% st_as_sf %>%  as('Spatial') %>% st_as_sf %>% data.table"
      ],
      "metadata": {
        "id": "naq4Je_IbXee"
      },
      "execution_count": 226,
      "outputs": []
    },
    {
      "cell_type": "code",
      "source": [
        "wetlandsFishnet %>% st_as_sf %>% st_write('/content/76.8_fishnet.gpkg',delete_dsn = T)"
      ],
      "metadata": {
        "colab": {
          "base_uri": "https://localhost:8080/"
        },
        "id": "oo0lCtkxc8rS",
        "outputId": "28a3b93c-0638-42dd-d5c0-38cbb9260fec"
      },
      "execution_count": 388,
      "outputs": [
        {
          "output_type": "stream",
          "name": "stdout",
          "text": [
            "Deleting source `/content/76.8_fishnet.gpkg' failed\n",
            "Writing layer `76.8_fishnet' to data source \n",
            "  `/content/76.8_fishnet.gpkg' using driver `GPKG'\n",
            "Writing 63387 features with 2 fields and geometry type Polygon.\n"
          ]
        }
      ]
    },
    {
      "cell_type": "code",
      "source": [
        "wetlandsFishnet[4,]"
      ],
      "metadata": {
        "colab": {
          "base_uri": "https://localhost:8080/",
          "height": 129
        },
        "id": "fwB5hxlrlNkP",
        "outputId": "1a46d6eb-9263-456a-9de3-3b4368816938"
      },
      "execution_count": 228,
      "outputs": [
        {
          "output_type": "display_data",
          "data": {
            "text/html": [
              "<table class=\"dataframe\">\n",
              "<caption>A data.table: 1 × 3</caption>\n",
              "<thead>\n",
              "\t<tr><th scope=col>rowid</th><th scope=col>island</th><th scope=col>geometry</th></tr>\n",
              "\t<tr><th scope=col>&lt;int&gt;</th><th scope=col>&lt;chr&gt;</th><th scope=col>&lt;POLYGON [m]&gt;</th></tr>\n",
              "</thead>\n",
              "<tbody>\n",
              "\t<tr><td>4</td><td>kauai</td><td>POLYGON ((467669.8 2447515,...</td></tr>\n",
              "</tbody>\n",
              "</table>\n"
            ],
            "text/markdown": "\nA data.table: 1 × 3\n\n| rowid &lt;int&gt; | island &lt;chr&gt; | geometry &lt;POLYGON [m]&gt; |\n|---|---|---|\n| 4 | kauai | POLYGON ((467669.8 2447515,... |\n\n",
            "text/latex": "A data.table: 1 × 3\n\\begin{tabular}{lll}\n rowid & island & geometry\\\\\n <int> & <chr> & <POLYGON {[}m{]}>\\\\\n\\hline\n\t 4 & kauai & POLYGON ((467669.8 2447515,...\\\\\n\\end{tabular}\n",
            "text/plain": [
              "  rowid island geometry                      \n",
              "1 4     kauai  POLYGON ((467669.8 2447515,..."
            ]
          },
          "metadata": {}
        }
      ]
    },
    {
      "cell_type": "code",
      "source": [
        "nlcdImages"
      ],
      "metadata": {
        "colab": {
          "base_uri": "https://localhost:8080/",
          "height": 139
        },
        "id": "hvwDqJtczeiR",
        "outputId": "34504460-c560-4e02-c889-2c19267f693b"
      },
      "execution_count": 337,
      "outputs": [
        {
          "output_type": "display_data",
          "data": {
            "text/plain": [
              "class      : RasterLayer \n",
              "dimensions : 6513, 13806, 89918478  (nrow, ncol, ncell)\n",
              "resolution : 29.45744, 30.52793  (x, y)\n",
              "extent     : 413500.8, 820190.1, 2269763, 2468591  (xmin, xmax, ymin, ymax)\n",
              "crs        : +proj=utm +zone=4 +datum=WGS84 +units=m +no_defs \n",
              "source     : nlcd_utm4.tif \n",
              "names      : nlcd_utm4 \n"
            ]
          },
          "metadata": {}
        }
      ]
    },
    {
      "cell_type": "code",
      "source": [
        "test_crop"
      ],
      "metadata": {
        "colab": {
          "base_uri": "https://localhost:8080/",
          "height": 173
        },
        "id": "lkrH3wQqzfwq",
        "outputId": "9026d4da-5434-41d5-b1d3-ddea677f8328"
      },
      "execution_count": 338,
      "outputs": [
        {
          "output_type": "display_data",
          "data": {
            "text/plain": [
              "class      : RasterBrick \n",
              "dimensions : 128, 128, 16384, 4  (nrow, ncol, ncell, nlayers)\n",
              "resolution : 0.6, 0.6  (x, y)\n",
              "extent     : 594095.4, 594172.2, 2384491, 2384568  (xmin, xmax, ymin, ymax)\n",
              "crs        : +proj=utm +zone=4 +datum=NAD83 +units=m +no_defs \n",
              "source     : r_tmp_2024-02-20_231433.496152_2260_05612.grd \n",
              "names      : naip_index_1, naip_index_2, naip_index_3, naip_index_4 \n",
              "min values :           35,           49,           65,            1 \n",
              "max values :          136,          138,          105,          156 \n"
            ]
          },
          "metadata": {}
        }
      ]
    },
    {
      "cell_type": "code",
      "source": [
        "nlcd_crop <- wetlandsFishnet[x,] %>% st_as_sf %>% st_buffer(100) %>% st_transform(st_crs(nlcdImages)) %>% crop(nlcdImages,.) %>% resample(test_crop,method='ngb')\n",
        "nlcd_crop"
      ],
      "metadata": {
        "colab": {
          "base_uri": "https://localhost:8080/",
          "height": 156
        },
        "id": "EGjiIjiYz5NB",
        "outputId": "064735c5-4704-4e93-c3b4-d17d960af3d6"
      },
      "execution_count": 347,
      "outputs": [
        {
          "output_type": "display_data",
          "data": {
            "text/plain": [
              "class      : RasterLayer \n",
              "dimensions : 128, 128, 16384  (nrow, ncol, ncell)\n",
              "resolution : 0.6, 0.6  (x, y)\n",
              "extent     : 594095.4, 594172.2, 2384491, 2384568  (xmin, xmax, ymin, ymax)\n",
              "crs        : +proj=utm +zone=4 +datum=NAD83 +units=m +no_defs \n",
              "source     : memory\n",
              "names      : nlcd_utm4 \n",
              "values     : 22, 82  (min, max)\n"
            ]
          },
          "metadata": {}
        }
      ]
    },
    {
      "cell_type": "code",
      "source": [
        "dem_crop"
      ],
      "metadata": {
        "colab": {
          "base_uri": "https://localhost:8080/",
          "height": 156
        },
        "id": "QC2LIitnEu7R",
        "outputId": "f981e60b-be9e-43a0-999e-7122dcd998db"
      },
      "execution_count": 391,
      "outputs": [
        {
          "output_type": "display_data",
          "data": {
            "text/plain": [
              "class      : RasterLayer \n",
              "dimensions : 128, 128, 16384  (nrow, ncol, ncell)\n",
              "resolution : 0.6, 0.6  (x, y)\n",
              "extent     : 594018.6, 594095.4, 2384491, 2384568  (xmin, xmax, ymin, ymax)\n",
              "crs        : +proj=utm +zone=4 +datum=NAD83 +units=m +no_defs \n",
              "source     : memory\n",
              "names      : wgs84_oahu_dem \n",
              "values     : 105.4958, 115.4216  (min, max)\n"
            ]
          },
          "metadata": {}
        }
      ]
    },
    {
      "cell_type": "code",
      "source": [
        "# dem_crop <- wetlandsFishnet[x,] %>% st_as_sf %>% st_buffer(100) %>% st_transform(st_crs(nlcdImages)) %>% crop(nlcdImages,.) %>% resample(test_crop,method='ngb')\n",
        "dem_crop <- wetlandsFishnet[x,] %>% st_as_sf %>% st_buffer(100) %>% st_transform(st_crs(nlcdImages)) %>% crop(links_dt[island ==  wetlandsFishnet[x,]$island]$dem_raster[[1]],.) %>% resample(test_crop,method='ngb')\n"
      ],
      "metadata": {
        "id": "fUeWatibEXvk"
      },
      "execution_count": 395,
      "outputs": []
    },
    {
      "cell_type": "code",
      "source": [
        "dem_crop"
      ],
      "metadata": {
        "colab": {
          "base_uri": "https://localhost:8080/",
          "height": 156
        },
        "id": "HEJVQq_TFbV4",
        "outputId": "d5c3d945-e9c7-48e5-857f-0fea53b9839d"
      },
      "execution_count": 396,
      "outputs": [
        {
          "output_type": "display_data",
          "data": {
            "text/plain": [
              "class      : RasterLayer \n",
              "dimensions : 128, 128, 16384  (nrow, ncol, ncell)\n",
              "resolution : 0.6, 0.6  (x, y)\n",
              "extent     : 594018.6, 594095.4, 2384491, 2384568  (xmin, xmax, ymin, ymax)\n",
              "crs        : +proj=utm +zone=4 +datum=NAD83 +units=m +no_defs \n",
              "source     : memory\n",
              "names      : wgs84_oahu_dem \n",
              "values     : 102.4936, 116.0934  (min, max)\n"
            ]
          },
          "metadata": {}
        }
      ]
    },
    {
      "cell_type": "code",
      "source": [
        "x <- 2016\n",
        "c(1422:1423) %>% lapply(function(x){\n",
        "test_crop <- wetlandsFishnet[x,] %>% st_as_sf %>% st_transform(st_crs(naipImages)) %>% crop(naipImages,.)\n",
        "#if you need a fix for 128, put it here\n",
        "nwi_crop <- nwi_utm4 %>% st_intersection(wetlandsFishnet[x,] %>% st_as_sf %>% st_transform(st_crs(nwi_utm4))) %>% st_transform(st_crs(naipImages)) %>% fasterize(.,test_crop[[1]],'wetland_ty_numeric')\n",
        "nlcd_crop <- wetlandsFishnet[x,] %>% st_as_sf %>% st_buffer(100) %>% st_transform(st_crs(nlcdImages)) %>% crop(nlcdImages,.) %>% resample(test_crop,method='ngb')\n",
        "ccap_crop <- test_crop %>% crop(links_dt[island ==  wetlandsFishnet[x,]$island]$ccap_raster[[1]],.) %>% resample(test_crop,method='ngb')\n",
        "# dem_crop <- test_crop %>% crop(links_dt[island ==  wetlandsFishnet[x,]$island]$dem_raster[[1]],.) %>% resample(test_crop,method='ngb')\n",
        "dem_crop <- wetlandsFishnet[x,] %>% st_as_sf %>% st_buffer(100) %>% st_transform(st_crs(nlcdImages)) %>% crop(links_dt[island ==  wetlandsFishnet[x,]$island]$dem_raster[[1]],.) %>% resample(test_crop,method='ngb')\n",
        "\n",
        "\n",
        "nlcd_harm <- nlcd_crop\n",
        "ccap_harm <- ccap_crop\n",
        "nwi_harm <- nwi_crop\n",
        "\n",
        "\n",
        "\n",
        "values(nlcd_harm) <- -1\n",
        "values(ccap_harm) <- -1\n",
        "values(nwi_harm) <- -1\n",
        "\n",
        "for(i in 1:nrow(unified_table)){\n",
        " values(nlcd_harm)[ values(nlcd_crop %in% unified_table$nlcd[[i]])] <- unified_table$unified[[i]]\n",
        " values(ccap_harm)[ values(ccap_crop %in% unified_table$ccap[[i]])] <- unified_table$unified[[i]]\n",
        " values(nwi_harm)[ values(nwi_crop %in% unified_table$nwi[[i]])] <- unified_table$unified[[i]]\n",
        "}\n",
        "\n",
        "nwi_filled <- nlcd_harm\n",
        "values(nwi_filled)[values(nwi_harm) !=-1] <- values(nwi_harm)[values(nwi_harm) !=-1]\n",
        "values(nwi_filled)[values(nwi_filled) ==-1] <- 12\n",
        "\n",
        "ccap_filled <- ccap_harm\n",
        "values(ccap_filled)[values(ccap_harm) !=-1] <- values(ccap_harm)[values(ccap_harm) !=-1]\n",
        "values(ccap_filled)[values(ccap_filled) ==-1] <- 12\n",
        "\n",
        "test_crop %>% writeRaster(paste0('/content/image_chips/image/',x,'.tif'),overwrite=T)\n",
        "nwi_filled %>% writeRaster(paste0('/content/image_chips/ccap_filled/',x,'.tif'),overwrite=T)\n",
        "ccap_filled %>% writeRaster(paste0('/content/image_chips/nwi_filled/',x,'.tif'),overwrite=T)\n",
        "dem_crop %>% writeRaster(paste0('/content/image_chips/dem/',x,'.tif'),overwrite=T)\n",
        "# ccap_crop %>% writeRaster(paste0('/content/image_chips/ccap/',x,'.tif'),overwrite=T)\n",
        "# nlcd_crop %>% writeRaster(paste0('/content/image_chips/nlcd_crop/',x,'.tif'),overwrite=T)\n",
        "\n",
        "\n",
        "})"
      ],
      "metadata": {
        "colab": {
          "base_uri": "https://localhost:8080/",
          "height": 451
        },
        "id": "3yc9_zUfeCUK",
        "outputId": "5259df70-9a99-416c-c8c6-b30660c5a145"
      },
      "execution_count": 399,
      "outputs": [
        {
          "output_type": "stream",
          "name": "stderr",
          "text": [
            "Warning message:\n",
            "“attribute variables are assumed to be spatially constant throughout all geometries”\n",
            "Warning message:\n",
            "“attribute variables are assumed to be spatially constant throughout all geometries”\n"
          ]
        },
        {
          "output_type": "display_data",
          "data": {
            "text/plain": [
              "[[1]]\n",
              "class      : RasterLayer \n",
              "dimensions : 128, 128, 16384  (nrow, ncol, ncell)\n",
              "resolution : 0.6, 0.6  (x, y)\n",
              "extent     : 593865, 593941.8, 2383877, 2383954  (xmin, xmax, ymin, ymax)\n",
              "crs        : +proj=utm +zone=4 +datum=NAD83 +units=m +no_defs \n",
              "source     : 1422.tif \n",
              "names      : X1422 \n",
              "values     : 21, 71  (min, max)\n",
              "\n",
              "\n",
              "[[2]]\n",
              "class      : RasterLayer \n",
              "dimensions : 128, 128, 16384  (nrow, ncol, ncell)\n",
              "resolution : 0.6, 0.6  (x, y)\n",
              "extent     : 593941.8, 594018.6, 2383877, 2383954  (xmin, xmax, ymin, ymax)\n",
              "crs        : +proj=utm +zone=4 +datum=NAD83 +units=m +no_defs \n",
              "source     : 1423.tif \n",
              "names      : X1423 \n",
              "values     : 71, 71  (min, max)\n",
              "\n"
            ]
          },
          "metadata": {}
        }
      ]
    },
    {
      "cell_type": "code",
      "source": [
        "dem_crop %>% plot\n"
      ],
      "metadata": {
        "colab": {
          "base_uri": "https://localhost:8080/",
          "height": 437
        },
        "id": "lxLfEnBH3APs",
        "outputId": "6f520881-4269-4158-d620-f51a4327aa97"
      },
      "execution_count": 394,
      "outputs": [
        {
          "output_type": "display_data",
          "data": {
            "text/plain": [
              "Plot with title “”"
            ],
            "image/png": "[encoded data removed]"
          },
          "metadata": {
            "image/png": {
              "width": 420,
              "height": 420
            }
          }
        }
      ]
    },
    {
      "cell_type": "code",
      "source": [
        "nlcd_harm <- nlcd_crop\n",
        "ccap_harm <- ccap_crop\n",
        "nwi_harm <- nwi_crop\n",
        "\n",
        "\n",
        "\n",
        "values(nlcd_harm) <- -1\n",
        "values(ccap_harm) <- -1\n",
        "values(nwi_harm) <- -1\n",
        "\n",
        "for(i in 1:nrow(unified_table)){\n",
        " values(nlcd_harm)[ values(nlcd_crop %in% unified_table$nlcd[[i]])] <- unified_table$unified[[i]]\n",
        " values(ccap_harm)[ values(ccap_crop %in% unified_table$ccap[[i]])] <- unified_table$unified[[i]]\n",
        " values(nwi_harm)[ values(nwi_crop %in% unified_table$nwi[[i]])] <- unified_table$unified[[i]]\n",
        "}"
      ],
      "metadata": {
        "id": "a6wqCbKSpfYe"
      },
      "execution_count": 360,
      "outputs": []
    },
    {
      "cell_type": "code",
      "source": [
        "nwi_filled <- nlcd_harm\n",
        "values(nwi_filled)[values(nwi_harm) !=-1] <- values(nwi_harm)[values(nwi_harm) !=-1]\n",
        "values(nwi_filled)[values(nwi_filled) ==-1] <- 12"
      ],
      "metadata": {
        "id": "oZplU8ZTvgTS"
      },
      "execution_count": 376,
      "outputs": []
    },
    {
      "cell_type": "code",
      "source": [
        "ccap_filled <- ccap_harm\n",
        "values(ccap_filled)[values(ccap_harm) !=-1] <- values(ccap_harm)[values(ccap_harm) !=-1]\n",
        "values(ccap_filled)[values(ccap_filled) ==-1] <- 12"
      ],
      "metadata": {
        "id": "nV8SGJg_wt2O"
      },
      "execution_count": 378,
      "outputs": []
    },
    {
      "cell_type": "code",
      "source": [],
      "metadata": {
        "colab": {
          "base_uri": "https://localhost:8080/",
          "height": 437
        },
        "id": "3N7eBiGUy65A",
        "outputId": "e51cc943-8070-41d1-f5b4-5b3769813f0d"
      },
      "execution_count": 377,
      "outputs": [
        {
          "output_type": "display_data",
          "data": {
            "text/plain": [
              "Plot with title “”"
            ],
            "image/png": "[encoded data removed]"
          },
          "metadata": {
            "image/png": {
              "width": 420,
              "height": 420
            }
          }
        }
      ]
    }
  ]
}