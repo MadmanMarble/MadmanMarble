{
  "nbformat": 4,
  "nbformat_minor": 0,
  "metadata": {
    "colab": {
      "provenance": [],
      "authorship_tag": "ABX9TyM4L8lrSqzebk3LAabJsh9+",
      "include_colab_link": true
    },
    "kernelspec": {
      "name": "ir",
      "display_name": "R"
    },
    "language_info": {
      "name": "R"
    }
  },
  "cells": [
    {
      "cell_type": "markdown",
      "metadata": {
        "id": "view-in-github",
        "colab_type": "text"
      },
      "source": [
        "<a href=\"https://colab.research.google.com/github/MadmanMarble/MadmanMarble/blob/main/Clipping%20Raster%20In%20R.ipynb\" target=\"_parent\"><img src=\"https://colab.research.google.com/assets/colab-badge.svg\" alt=\"Open In Colab\"/></a>"
      ]
    },
    {
      "cell_type": "markdown",
      "source": [
        "### Clip Raster in R\n",
        "#### https://www.earthdatascience.org/courses/earth-analytics/lidar-raster-data-r/crop-raster-data-in-r/"
      ],
      "metadata": {
        "id": "9khKVgQfwWCg"
      }
    },
    {
      "cell_type": "code",
      "source": [
        "# load the raster and rgdal libraries\n",
        "install.packages(\"raster\")\n",
        "install.packages(\"rgdal\")\n",
        "install.packages(\"googledrive\")"
      ],
      "metadata": {
        "id": "uXepx1hmwXVJ",
        "outputId": "d55cb041-a4ff-44c8-b207-eda6a8514fcb",
        "colab": {
          "base_uri": "https://localhost:8080/"
        }
      },
      "execution_count": 1,
      "outputs": [
        {
          "output_type": "stream",
          "name": "stderr",
          "text": [
            "Installing package into ‘/usr/local/lib/R/site-library’\n",
            "(as ‘lib’ is unspecified)\n",
            "\n",
            "also installing the dependencies ‘sp’, ‘Rcpp’, ‘terra’\n",
            "\n",
            "\n",
            "Installing package into ‘/usr/local/lib/R/site-library’\n",
            "(as ‘lib’ is unspecified)\n",
            "\n",
            "Warning message:\n",
            "“package ‘rgdal’ is not available for this version of R\n",
            "\n",
            "A version of this package for your version of R might be available elsewhere,\n",
            "see the ideas at\n",
            "https://cran.r-project.org/doc/manuals/r-patched/R-admin.html#Installing-packages”\n",
            "Installing package into ‘/usr/local/lib/R/site-library’\n",
            "(as ‘lib’ is unspecified)\n",
            "\n"
          ]
        }
      ]
    },
    {
      "cell_type": "code",
      "source": [
        "# install.packages('sf')\n",
        "# install.packages('exactextractr')\n",
        "# install.packages(\"DBI\")\n",
        "# install.packages(\"RSQLite\")\n",
        "# install.packages(\"RPostgreSQL\")"
      ],
      "metadata": {
        "id": "M1hS4BZ1xMAZ"
      },
      "execution_count": 2,
      "outputs": []
    },
    {
      "cell_type": "code",
      "source": [
        "library(ggplot2)\n",
        "# library(sf)\n",
        "library(magrittr)\n",
        "library(data.table)\n",
        "library(raster)\n",
        "# library(exactextractr)\n",
        "library(googledrive)\n",
        "library(DBI)\n",
        "library(zip)"
      ],
      "metadata": {
        "id": "gcpBOCbUwwXO",
        "outputId": "a724dcea-38a2-4e0f-89f7-146f3b94079f",
        "colab": {
          "base_uri": "https://localhost:8080/"
        }
      },
      "execution_count": 3,
      "outputs": [
        {
          "output_type": "stream",
          "name": "stderr",
          "text": [
            "Loading required package: sp\n",
            "\n",
            "\n",
            "Attaching package: ‘zip’\n",
            "\n",
            "\n",
            "The following objects are masked from ‘package:utils’:\n",
            "\n",
            "    unzip, zip\n",
            "\n",
            "\n"
          ]
        }
      ]
    },
    {
      "cell_type": "code",
      "source": [
        "drive_auth(use_oob = TRUE, cache = FALSE)"
      ],
      "metadata": {
        "id": "6t3XMF-ExoaY",
        "outputId": "0bede58b-df82-4759-dc08-d75987c6032f",
        "colab": {
          "base_uri": "https://localhost:8080/"
        }
      },
      "execution_count": 4,
      "outputs": [
        {
          "output_type": "stream",
          "name": "stderr",
          "text": [
            "Please point your browser to the following url: \n",
            "\n",
            "https://accounts.google.com/o/oauth2/v2/auth?client_id=603366585132-frjlouoa3s2ono25d2l9ukvhlsrlnr7k.apps.googleusercontent.com&scope=https%3A%2F%2Fwww.googleapis.com%2Fauth%2Fdrive%20https%3A%2F%2Fwww.googleapis.com%2Fauth%2Fuserinfo.email&redirect_uri=https%3A%2F%2Fwww.tidyverse.org%2Fgoogle-callback%2F&response_type=code&state=b7fe85b33e45591c33f11cabb61d3a30&access_type=offline&prompt=consent\n",
            "\n"
          ]
        },
        {
          "name": "stdout",
          "output_type": "stream",
          "text": [
            "Enter authorization code: eyJjb2RlIjoiNC8wQWZKb2hYbTBJS3F1alNabXVMZkpkSHUya0NFS1A4NWJRRDR1Umw4WnVmYktnVC1hQVluTEtrSU5Ra2NjMy1OREdtUmRsdyIsInN0YXRlIjoiYjdmZTg1YjMzZTQ1NTkxYzMzZjExY2FiYjYxZDNhMzAifQ==\n"
          ]
        }
      ]
    },
    {
      "cell_type": "code",
      "source": [
        "dir.create('/content/Maui')"
      ],
      "metadata": {
        "id": "g5zHnAxNy3j7"
      },
      "execution_count": 5,
      "outputs": []
    },
    {
      "cell_type": "code",
      "source": [
        "# extract the data from drive and bring it to local memory\n",
        "#  Island Path LS 3x, CCAP 1x\n",
        "\n",
        "# LS  https://drive.google.com/file/d/1oq9MUsmPbGYdgtOLYJ1KUzgKWH_rajA8/view?usp=drive_link\n",
        "drive_download(file = as_id('file/d/1oq9MUsmPbGYdgtOLYJ1KUzgKWH_rajA8'), path =  '/content/Maui/Maui_oneYear.tif', overwrite = FALSE)\n",
        "# # LS  https://drive.google.com/file/d/1EXjKIHySNRVZIplTd2fKjH2wNakWjQxo/view?usp=drive_link\n",
        "# drive_download(file = as_id('1EXjKIHySNRVZIplTd2fKjH2wNakWjQxo'), path =  '/content/Lanai/Lanai_2001.tif', overwrite = FALSE)\n",
        "# # LS  https://drive.google.com/file/d/1n2NrtrDmT6n1Xvl9FP8AVABgY_LACecr/view?usp=drive_link\n",
        "# drive_download(file = as_id('1n2NrtrDmT6n1Xvl9FP8AVABgY_LACecr'), path =  '/content/Lanai/Lanai_2002.tif', overwrite = FALSE)\n",
        "\n",
        "\n",
        "# CCAP 2005 https://drive.google.com/file/d/1udii0_JG1WUGnvcNsKjly6f_1OOgmEN7/view?usp=drive_link\n",
        "drive_download(file = as_id('1udii0_JG1WUGnvcNsKjly6f_1OOgmEN7'), path =  '/content/Maui/Maui_CCAP.tif', overwrite = FALSE)"
      ],
      "metadata": {
        "id": "RI3f0m8azFp0",
        "outputId": "065908a2-f40f-41d3-c636-68136d9f4ec7",
        "colab": {
          "base_uri": "https://localhost:8080/"
        }
      },
      "execution_count": 6,
      "outputs": [
        {
          "output_type": "stream",
          "name": "stderr",
          "text": [
            "File downloaded:\n",
            "\n",
            "• \u001b[36mMaui_oneYear.tif\u001b[39m \u001b[90m<id: 1oq9MUsmPbGYdgtOLYJ1KUzgKWH_rajA8>\u001b[39m\n",
            "\n",
            "Saved locally as:\n",
            "\n",
            "• \u001b[34m/content/Maui/Maui_oneYear.tif\u001b[39m\n",
            "\n",
            "File downloaded:\n",
            "\n",
            "• \u001b[36mmaui_2010_ccap.img\u001b[39m \u001b[90m<id: 1udii0_JG1WUGnvcNsKjly6f_1OOgmEN7>\u001b[39m\n",
            "\n",
            "Saved locally as:\n",
            "\n",
            "• \u001b[34m/content/Maui/Maui_CCAP.tif\u001b[39m\n",
            "\n"
          ]
        }
      ]
    },
    {
      "cell_type": "code",
      "source": [
        "ccap_raster <- stack('/content/Maui/Maui_CCAP.tif')\n",
        "# ls_2000 <- stack('/content/Lanai/Lanai_2000.tif')\n",
        "# ls_2001 <- stack('/content/Lanai/Lanai_2001.tif')\n",
        "# ls_2002 <- stack('/content/Lanai/Lanai_2002.tif')\n",
        "# ls_stack <- c(ls_2000, ls_2001, ls_2002)\n",
        "\n",
        "ls_raster <- stack('/content/Maui/Maui_oneYear.tif')"
      ],
      "metadata": {
        "id": "9v64g0i2SY3m"
      },
      "execution_count": 7,
      "outputs": []
    },
    {
      "cell_type": "code",
      "source": [
        "ccap_raster\n",
        "ls_raster"
      ],
      "metadata": {
        "id": "nbx0yWt9AsV7",
        "outputId": "ac2ab569-df02-48d4-91c4-4c722a340cc8",
        "colab": {
          "base_uri": "https://localhost:8080/",
          "height": 273
        }
      },
      "execution_count": 8,
      "outputs": [
        {
          "output_type": "display_data",
          "data": {
            "text/plain": [
              "class      : RasterStack \n",
              "dimensions : 20986, 32476, 681541336, 1  (nrow, ncol, ncell, nlayers)\n",
              "resolution : 2.4, 2.4  (x, y)\n",
              "extent     : 739325.6, 817268, 2277248, 2327614  (xmin, xmax, ymin, ymax)\n",
              "crs        : +proj=utm +zone=4 +datum=WGS84 +units=m +no_defs \n",
              "names      : Class.Name \n",
              "min values :          0 \n",
              "max values :         22 \n"
            ]
          },
          "metadata": {}
        },
        {
          "output_type": "display_data",
          "data": {
            "text/plain": [
              "class      : RasterStack \n",
              "dimensions : 1863, 2805, 5225715, 7  (nrow, ncol, ncell, nlayers)\n",
              "resolution : 0.0002694946, 0.0002694946  (x, y)\n",
              "extent     : -156.7151, -155.9592, 20.54869, 21.05076  (xmin, xmax, ymin, ymax)\n",
              "crs        : +proj=longlat +datum=WGS84 +no_defs \n",
              "names      : Blue, Green, Red, NIR, SWIR1, SWIR2, elevation \n"
            ]
          },
          "metadata": {}
        }
      ]
    },
    {
      "cell_type": "code",
      "source": [
        "ccap_raster%>% plot"
      ],
      "metadata": {
        "colab": {
          "base_uri": "https://localhost:8080/",
          "height": 437
        },
        "id": "8r5WDVi7VLcK",
        "outputId": "8db50c1f-ee3b-46a2-a8a1-d0270307cf9b"
      },
      "execution_count": 9,
      "outputs": [
        {
          "output_type": "display_data",
          "data": {
            "text/plain": [
              "Plot with title “”"
            ],
            "image/png": "[encoded data removed]"
          },
          "metadata": {
            "image/png": {
              "width": 420,
              "height": 420
            }
          }
        }
      ]
    },
    {
      "cell_type": "code",
      "source": [
        "# # Stack all three layers into one\n",
        "# stack_all <- stack(ls_2000, ls_2001, ls_2002)\n",
        "\n",
        "# # Define the output file path\n",
        "# output_path <- '/content/Lanai/Lanai_2000_2002.tif'\n",
        "\n",
        "# # Write the stacked raster to a new .tif file\n",
        "# writeRaster(stack_all, filename = output_path, format = 'GTiff')\n",
        "\n",
        "# # Check the new file\n",
        "# stack_all\n"
      ],
      "metadata": {
        "id": "IPaQV1g5VpQg"
      },
      "execution_count": 10,
      "outputs": []
    },
    {
      "cell_type": "code",
      "source": [
        "# stack_all%>% plot"
      ],
      "metadata": {
        "id": "ArM0vgzl_yNT"
      },
      "execution_count": 11,
      "outputs": []
    },
    {
      "cell_type": "code",
      "source": [
        "nrow(ccap_raster)\n",
        "ncol(ccap_raster)\n",
        "nlayers(ccap_raster)\n",
        "dim(ccap_raster)"
      ],
      "metadata": {
        "colab": {
          "base_uri": "https://localhost:8080/",
          "height": 86
        },
        "id": "P1YJmg17YC9f",
        "outputId": "dfb4e72c-925b-4274-c6c6-37e586184421"
      },
      "execution_count": 12,
      "outputs": [
        {
          "output_type": "display_data",
          "data": {
            "text/html": [
              "20986"
            ],
            "text/markdown": "20986",
            "text/latex": "20986",
            "text/plain": [
              "[1] 20986"
            ]
          },
          "metadata": {}
        },
        {
          "output_type": "display_data",
          "data": {
            "text/html": [
              "32476"
            ],
            "text/markdown": "32476",
            "text/latex": "32476",
            "text/plain": [
              "[1] 32476"
            ]
          },
          "metadata": {}
        },
        {
          "output_type": "display_data",
          "data": {
            "text/html": [
              "1"
            ],
            "text/markdown": "1",
            "text/latex": "1",
            "text/plain": [
              "[1] 1"
            ]
          },
          "metadata": {}
        },
        {
          "output_type": "display_data",
          "data": {
            "text/html": [
              "<style>\n",
              ".list-inline {list-style: none; margin:0; padding: 0}\n",
              ".list-inline>li {display: inline-block}\n",
              ".list-inline>li:not(:last-child)::after {content: \"\\00b7\"; padding: 0 .5ex}\n",
              "</style>\n",
              "<ol class=list-inline><li>20986</li><li>32476</li><li>1</li></ol>\n"
            ],
            "text/markdown": "1. 20986\n2. 32476\n3. 1\n\n\n",
            "text/latex": "\\begin{enumerate*}\n\\item 20986\n\\item 32476\n\\item 1\n\\end{enumerate*}\n",
            "text/plain": [
              "[1] 20986 32476     1"
            ]
          },
          "metadata": {}
        }
      ]
    },
    {
      "cell_type": "code",
      "source": [
        "nrow(ls_raster)\n",
        "ncol(ls_raster)\n",
        "nlayers(ls_raster)\n",
        "dim(ls_raster)"
      ],
      "metadata": {
        "colab": {
          "base_uri": "https://localhost:8080/",
          "height": 86
        },
        "id": "lhOpeO9WYGS8",
        "outputId": "2d6c3a64-68de-4ab9-d2d7-e6cdea113350"
      },
      "execution_count": 13,
      "outputs": [
        {
          "output_type": "display_data",
          "data": {
            "text/html": [
              "1863"
            ],
            "text/markdown": "1863",
            "text/latex": "1863",
            "text/plain": [
              "[1] 1863"
            ]
          },
          "metadata": {}
        },
        {
          "output_type": "display_data",
          "data": {
            "text/html": [
              "2805"
            ],
            "text/markdown": "2805",
            "text/latex": "2805",
            "text/plain": [
              "[1] 2805"
            ]
          },
          "metadata": {}
        },
        {
          "output_type": "display_data",
          "data": {
            "text/html": [
              "7"
            ],
            "text/markdown": "7",
            "text/latex": "7",
            "text/plain": [
              "[1] 7"
            ]
          },
          "metadata": {}
        },
        {
          "output_type": "display_data",
          "data": {
            "text/html": [
              "<style>\n",
              ".list-inline {list-style: none; margin:0; padding: 0}\n",
              ".list-inline>li {display: inline-block}\n",
              ".list-inline>li:not(:last-child)::after {content: \"\\00b7\"; padding: 0 .5ex}\n",
              "</style>\n",
              "<ol class=list-inline><li>1863</li><li>2805</li><li>7</li></ol>\n"
            ],
            "text/markdown": "1. 1863\n2. 2805\n3. 7\n\n\n",
            "text/latex": "\\begin{enumerate*}\n\\item 1863\n\\item 2805\n\\item 7\n\\end{enumerate*}\n",
            "text/plain": [
              "[1] 1863 2805    7"
            ]
          },
          "metadata": {}
        }
      ]
    },
    {
      "cell_type": "code",
      "source": [
        "ls_raster_extended <- extend(ls_raster, projectExtent(ccap_raster, ls_raster), value=NA)"
      ],
      "metadata": {
        "id": "2TxNpJ1NaL95"
      },
      "execution_count": 14,
      "outputs": []
    },
    {
      "cell_type": "code",
      "source": [
        "ls_raster_extended"
      ],
      "metadata": {
        "colab": {
          "base_uri": "https://localhost:8080/",
          "height": 181
        },
        "id": "WtPYfQwTaRWC",
        "outputId": "5eb0b517-68ce-46a1-d21d-f9f1ee435dfd"
      },
      "execution_count": 15,
      "outputs": [
        {
          "output_type": "display_data",
          "data": {
            "text/plain": [
              "class      : RasterBrick \n",
              "dimensions : 1863, 2847, 5303961, 7  (nrow, ncol, ncell, nlayers)\n",
              "resolution : 0.0002694946, 0.0002694946  (x, y)\n",
              "extent     : -156.7151, -155.9479, 20.54869, 21.05076  (xmin, xmax, ymin, ymax)\n",
              "crs        : +proj=longlat +datum=WGS84 +no_defs \n",
              "source     : memory\n",
              "names      :    Blue,   Green,     Red,     NIR,   SWIR1,   SWIR2, elevation \n",
              "min values :     -14,      77,       6,     442,     275,     162,       -29 \n",
              "max values : 16951.0, 17054.0, 18155.0,  6389.5,  5223.0,  4624.0,    3051.0 \n"
            ]
          },
          "metadata": {}
        }
      ]
    },
    {
      "cell_type": "code",
      "source": [
        "ncol(ccap_raster)\n",
        "\n",
        "nrow(ccap_raster)\n",
        "\n",
        "\n",
        "y_end <- c(seq(1,ccap_raster %>% nrow,1024),nrow(ccap_raster))[-1]\n",
        "x_end <- c(seq(1,ccap_raster %>% ncol,1024),ncol(ccap_raster))[-1]\n",
        "\n",
        "extract_grid <- expand.grid(x_end,y_end) %>% data.table\n",
        "\n",
        "names(extract_grid) <- c('x_end','y_end')\n",
        "\n",
        "extract_grid$x_org <- extract_grid$x_end - 1024\n",
        "extract_grid$y_org <- extract_grid$y_end - 1024\n",
        "\n",
        "extract_grid$id <- 1:nrow(extract_grid)"
      ],
      "metadata": {
        "id": "LqhGfUrPXevx",
        "outputId": "cb61abc7-89e5-490c-bff1-3840b217e522",
        "colab": {
          "base_uri": "https://localhost:8080/",
          "height": 52
        }
      },
      "execution_count": 27,
      "outputs": [
        {
          "output_type": "display_data",
          "data": {
            "text/html": [
              "32476"
            ],
            "text/markdown": "32476",
            "text/latex": "32476",
            "text/plain": [
              "[1] 32476"
            ]
          },
          "metadata": {}
        },
        {
          "output_type": "display_data",
          "data": {
            "text/html": [
              "20986"
            ],
            "text/markdown": "20986",
            "text/latex": "20986",
            "text/plain": [
              "[1] 20986"
            ]
          },
          "metadata": {}
        }
      ]
    },
    {
      "cell_type": "code",
      "source": [
        "y_end\n",
        "x_end"
      ],
      "metadata": {
        "id": "8G2m9yg7ogpz",
        "outputId": "ca190770-922a-4ce2-dd8c-6053fb7aa44f",
        "colab": {
          "base_uri": "https://localhost:8080/",
          "height": 69
        }
      },
      "execution_count": 28,
      "outputs": [
        {
          "output_type": "display_data",
          "data": {
            "text/html": [
              "<style>\n",
              ".list-inline {list-style: none; margin:0; padding: 0}\n",
              ".list-inline>li {display: inline-block}\n",
              ".list-inline>li:not(:last-child)::after {content: \"\\00b7\"; padding: 0 .5ex}\n",
              "</style>\n",
              "<ol class=list-inline><li>1025</li><li>2049</li><li>3073</li><li>4097</li><li>5121</li><li>6145</li><li>7169</li><li>8193</li><li>9217</li><li>10241</li><li>11265</li><li>12289</li><li>13313</li><li>14337</li><li>15361</li><li>16385</li><li>17409</li><li>18433</li><li>19457</li><li>20481</li><li>20986</li></ol>\n"
            ],
            "text/markdown": "1. 1025\n2. 2049\n3. 3073\n4. 4097\n5. 5121\n6. 6145\n7. 7169\n8. 8193\n9. 9217\n10. 10241\n11. 11265\n12. 12289\n13. 13313\n14. 14337\n15. 15361\n16. 16385\n17. 17409\n18. 18433\n19. 19457\n20. 20481\n21. 20986\n\n\n",
            "text/latex": "\\begin{enumerate*}\n\\item 1025\n\\item 2049\n\\item 3073\n\\item 4097\n\\item 5121\n\\item 6145\n\\item 7169\n\\item 8193\n\\item 9217\n\\item 10241\n\\item 11265\n\\item 12289\n\\item 13313\n\\item 14337\n\\item 15361\n\\item 16385\n\\item 17409\n\\item 18433\n\\item 19457\n\\item 20481\n\\item 20986\n\\end{enumerate*}\n",
            "text/plain": [
              " [1]  1025  2049  3073  4097  5121  6145  7169  8193  9217 10241 11265 12289\n",
              "[13] 13313 14337 15361 16385 17409 18433 19457 20481 20986"
            ]
          },
          "metadata": {}
        },
        {
          "output_type": "display_data",
          "data": {
            "text/html": [
              "<style>\n",
              ".list-inline {list-style: none; margin:0; padding: 0}\n",
              ".list-inline>li {display: inline-block}\n",
              ".list-inline>li:not(:last-child)::after {content: \"\\00b7\"; padding: 0 .5ex}\n",
              "</style>\n",
              "<ol class=list-inline><li>1025</li><li>2049</li><li>3073</li><li>4097</li><li>5121</li><li>6145</li><li>7169</li><li>8193</li><li>9217</li><li>10241</li><li>11265</li><li>12289</li><li>13313</li><li>14337</li><li>15361</li><li>16385</li><li>17409</li><li>18433</li><li>19457</li><li>20481</li><li>21505</li><li>22529</li><li>23553</li><li>24577</li><li>25601</li><li>26625</li><li>27649</li><li>28673</li><li>29697</li><li>30721</li><li>31745</li><li>32476</li></ol>\n"
            ],
            "text/markdown": "1. 1025\n2. 2049\n3. 3073\n4. 4097\n5. 5121\n6. 6145\n7. 7169\n8. 8193\n9. 9217\n10. 10241\n11. 11265\n12. 12289\n13. 13313\n14. 14337\n15. 15361\n16. 16385\n17. 17409\n18. 18433\n19. 19457\n20. 20481\n21. 21505\n22. 22529\n23. 23553\n24. 24577\n25. 25601\n26. 26625\n27. 27649\n28. 28673\n29. 29697\n30. 30721\n31. 31745\n32. 32476\n\n\n",
            "text/latex": "\\begin{enumerate*}\n\\item 1025\n\\item 2049\n\\item 3073\n\\item 4097\n\\item 5121\n\\item 6145\n\\item 7169\n\\item 8193\n\\item 9217\n\\item 10241\n\\item 11265\n\\item 12289\n\\item 13313\n\\item 14337\n\\item 15361\n\\item 16385\n\\item 17409\n\\item 18433\n\\item 19457\n\\item 20481\n\\item 21505\n\\item 22529\n\\item 23553\n\\item 24577\n\\item 25601\n\\item 26625\n\\item 27649\n\\item 28673\n\\item 29697\n\\item 30721\n\\item 31745\n\\item 32476\n\\end{enumerate*}\n",
            "text/plain": [
              " [1]  1025  2049  3073  4097  5121  6145  7169  8193  9217 10241 11265 12289\n",
              "[13] 13313 14337 15361 16385 17409 18433 19457 20481 21505 22529 23553 24577\n",
              "[25] 25601 26625 27649 28673 29697 30721 31745 32476"
            ]
          },
          "metadata": {}
        }
      ]
    },
    {
      "cell_type": "code",
      "source": [
        "extract_grid"
      ],
      "metadata": {
        "id": "JAZ4Q2A_FSnS",
        "outputId": "b9525738-4878-4993-c03e-9ab0e059818d",
        "colab": {
          "base_uri": "https://localhost:8080/",
          "height": 1000
        }
      },
      "execution_count": 31,
      "outputs": [
        {
          "output_type": "display_data",
          "data": {
            "text/html": [
              "<table class=\"dataframe\">\n",
              "<caption>A data.table: 672 × 5</caption>\n",
              "<thead>\n",
              "\t<tr><th scope=col>x_end</th><th scope=col>y_end</th><th scope=col>x_org</th><th scope=col>y_org</th><th scope=col>id</th></tr>\n",
              "\t<tr><th scope=col>&lt;dbl&gt;</th><th scope=col>&lt;dbl&gt;</th><th scope=col>&lt;dbl&gt;</th><th scope=col>&lt;dbl&gt;</th><th scope=col>&lt;int&gt;</th></tr>\n",
              "</thead>\n",
              "<tbody>\n",
              "\t<tr><td> 1025</td><td>1025</td><td>    1</td><td>1</td><td> 1</td></tr>\n",
              "\t<tr><td> 2049</td><td>1025</td><td> 1025</td><td>1</td><td> 2</td></tr>\n",
              "\t<tr><td> 3073</td><td>1025</td><td> 2049</td><td>1</td><td> 3</td></tr>\n",
              "\t<tr><td> 4097</td><td>1025</td><td> 3073</td><td>1</td><td> 4</td></tr>\n",
              "\t<tr><td> 5121</td><td>1025</td><td> 4097</td><td>1</td><td> 5</td></tr>\n",
              "\t<tr><td> 6145</td><td>1025</td><td> 5121</td><td>1</td><td> 6</td></tr>\n",
              "\t<tr><td> 7169</td><td>1025</td><td> 6145</td><td>1</td><td> 7</td></tr>\n",
              "\t<tr><td> 8193</td><td>1025</td><td> 7169</td><td>1</td><td> 8</td></tr>\n",
              "\t<tr><td> 9217</td><td>1025</td><td> 8193</td><td>1</td><td> 9</td></tr>\n",
              "\t<tr><td>10241</td><td>1025</td><td> 9217</td><td>1</td><td>10</td></tr>\n",
              "\t<tr><td>11265</td><td>1025</td><td>10241</td><td>1</td><td>11</td></tr>\n",
              "\t<tr><td>12289</td><td>1025</td><td>11265</td><td>1</td><td>12</td></tr>\n",
              "\t<tr><td>13313</td><td>1025</td><td>12289</td><td>1</td><td>13</td></tr>\n",
              "\t<tr><td>14337</td><td>1025</td><td>13313</td><td>1</td><td>14</td></tr>\n",
              "\t<tr><td>15361</td><td>1025</td><td>14337</td><td>1</td><td>15</td></tr>\n",
              "\t<tr><td>16385</td><td>1025</td><td>15361</td><td>1</td><td>16</td></tr>\n",
              "\t<tr><td>17409</td><td>1025</td><td>16385</td><td>1</td><td>17</td></tr>\n",
              "\t<tr><td>18433</td><td>1025</td><td>17409</td><td>1</td><td>18</td></tr>\n",
              "\t<tr><td>19457</td><td>1025</td><td>18433</td><td>1</td><td>19</td></tr>\n",
              "\t<tr><td>20481</td><td>1025</td><td>19457</td><td>1</td><td>20</td></tr>\n",
              "\t<tr><td>21505</td><td>1025</td><td>20481</td><td>1</td><td>21</td></tr>\n",
              "\t<tr><td>22529</td><td>1025</td><td>21505</td><td>1</td><td>22</td></tr>\n",
              "\t<tr><td>23553</td><td>1025</td><td>22529</td><td>1</td><td>23</td></tr>\n",
              "\t<tr><td>24577</td><td>1025</td><td>23553</td><td>1</td><td>24</td></tr>\n",
              "\t<tr><td>25601</td><td>1025</td><td>24577</td><td>1</td><td>25</td></tr>\n",
              "\t<tr><td>26625</td><td>1025</td><td>25601</td><td>1</td><td>26</td></tr>\n",
              "\t<tr><td>27649</td><td>1025</td><td>26625</td><td>1</td><td>27</td></tr>\n",
              "\t<tr><td>28673</td><td>1025</td><td>27649</td><td>1</td><td>28</td></tr>\n",
              "\t<tr><td>29697</td><td>1025</td><td>28673</td><td>1</td><td>29</td></tr>\n",
              "\t<tr><td>30721</td><td>1025</td><td>29697</td><td>1</td><td>30</td></tr>\n",
              "\t<tr><td>⋮</td><td>⋮</td><td>⋮</td><td>⋮</td><td>⋮</td></tr>\n",
              "\t<tr><td> 3073</td><td>20986</td><td> 2049</td><td>19962</td><td>643</td></tr>\n",
              "\t<tr><td> 4097</td><td>20986</td><td> 3073</td><td>19962</td><td>644</td></tr>\n",
              "\t<tr><td> 5121</td><td>20986</td><td> 4097</td><td>19962</td><td>645</td></tr>\n",
              "\t<tr><td> 6145</td><td>20986</td><td> 5121</td><td>19962</td><td>646</td></tr>\n",
              "\t<tr><td> 7169</td><td>20986</td><td> 6145</td><td>19962</td><td>647</td></tr>\n",
              "\t<tr><td> 8193</td><td>20986</td><td> 7169</td><td>19962</td><td>648</td></tr>\n",
              "\t<tr><td> 9217</td><td>20986</td><td> 8193</td><td>19962</td><td>649</td></tr>\n",
              "\t<tr><td>10241</td><td>20986</td><td> 9217</td><td>19962</td><td>650</td></tr>\n",
              "\t<tr><td>11265</td><td>20986</td><td>10241</td><td>19962</td><td>651</td></tr>\n",
              "\t<tr><td>12289</td><td>20986</td><td>11265</td><td>19962</td><td>652</td></tr>\n",
              "\t<tr><td>13313</td><td>20986</td><td>12289</td><td>19962</td><td>653</td></tr>\n",
              "\t<tr><td>14337</td><td>20986</td><td>13313</td><td>19962</td><td>654</td></tr>\n",
              "\t<tr><td>15361</td><td>20986</td><td>14337</td><td>19962</td><td>655</td></tr>\n",
              "\t<tr><td>16385</td><td>20986</td><td>15361</td><td>19962</td><td>656</td></tr>\n",
              "\t<tr><td>17409</td><td>20986</td><td>16385</td><td>19962</td><td>657</td></tr>\n",
              "\t<tr><td>18433</td><td>20986</td><td>17409</td><td>19962</td><td>658</td></tr>\n",
              "\t<tr><td>19457</td><td>20986</td><td>18433</td><td>19962</td><td>659</td></tr>\n",
              "\t<tr><td>20481</td><td>20986</td><td>19457</td><td>19962</td><td>660</td></tr>\n",
              "\t<tr><td>21505</td><td>20986</td><td>20481</td><td>19962</td><td>661</td></tr>\n",
              "\t<tr><td>22529</td><td>20986</td><td>21505</td><td>19962</td><td>662</td></tr>\n",
              "\t<tr><td>23553</td><td>20986</td><td>22529</td><td>19962</td><td>663</td></tr>\n",
              "\t<tr><td>24577</td><td>20986</td><td>23553</td><td>19962</td><td>664</td></tr>\n",
              "\t<tr><td>25601</td><td>20986</td><td>24577</td><td>19962</td><td>665</td></tr>\n",
              "\t<tr><td>26625</td><td>20986</td><td>25601</td><td>19962</td><td>666</td></tr>\n",
              "\t<tr><td>27649</td><td>20986</td><td>26625</td><td>19962</td><td>667</td></tr>\n",
              "\t<tr><td>28673</td><td>20986</td><td>27649</td><td>19962</td><td>668</td></tr>\n",
              "\t<tr><td>29697</td><td>20986</td><td>28673</td><td>19962</td><td>669</td></tr>\n",
              "\t<tr><td>30721</td><td>20986</td><td>29697</td><td>19962</td><td>670</td></tr>\n",
              "\t<tr><td>31745</td><td>20986</td><td>30721</td><td>19962</td><td>671</td></tr>\n",
              "\t<tr><td>32476</td><td>20986</td><td>31452</td><td>19962</td><td>672</td></tr>\n",
              "</tbody>\n",
              "</table>\n"
            ],
            "text/markdown": "\nA data.table: 672 × 5\n\n| x_end &lt;dbl&gt; | y_end &lt;dbl&gt; | x_org &lt;dbl&gt; | y_org &lt;dbl&gt; | id &lt;int&gt; |\n|---|---|---|---|---|\n|  1025 | 1025 |     1 | 1 |  1 |\n|  2049 | 1025 |  1025 | 1 |  2 |\n|  3073 | 1025 |  2049 | 1 |  3 |\n|  4097 | 1025 |  3073 | 1 |  4 |\n|  5121 | 1025 |  4097 | 1 |  5 |\n|  6145 | 1025 |  5121 | 1 |  6 |\n|  7169 | 1025 |  6145 | 1 |  7 |\n|  8193 | 1025 |  7169 | 1 |  8 |\n|  9217 | 1025 |  8193 | 1 |  9 |\n| 10241 | 1025 |  9217 | 1 | 10 |\n| 11265 | 1025 | 10241 | 1 | 11 |\n| 12289 | 1025 | 11265 | 1 | 12 |\n| 13313 | 1025 | 12289 | 1 | 13 |\n| 14337 | 1025 | 13313 | 1 | 14 |\n| 15361 | 1025 | 14337 | 1 | 15 |\n| 16385 | 1025 | 15361 | 1 | 16 |\n| 17409 | 1025 | 16385 | 1 | 17 |\n| 18433 | 1025 | 17409 | 1 | 18 |\n| 19457 | 1025 | 18433 | 1 | 19 |\n| 20481 | 1025 | 19457 | 1 | 20 |\n| 21505 | 1025 | 20481 | 1 | 21 |\n| 22529 | 1025 | 21505 | 1 | 22 |\n| 23553 | 1025 | 22529 | 1 | 23 |\n| 24577 | 1025 | 23553 | 1 | 24 |\n| 25601 | 1025 | 24577 | 1 | 25 |\n| 26625 | 1025 | 25601 | 1 | 26 |\n| 27649 | 1025 | 26625 | 1 | 27 |\n| 28673 | 1025 | 27649 | 1 | 28 |\n| 29697 | 1025 | 28673 | 1 | 29 |\n| 30721 | 1025 | 29697 | 1 | 30 |\n| ⋮ | ⋮ | ⋮ | ⋮ | ⋮ |\n|  3073 | 20986 |  2049 | 19962 | 643 |\n|  4097 | 20986 |  3073 | 19962 | 644 |\n|  5121 | 20986 |  4097 | 19962 | 645 |\n|  6145 | 20986 |  5121 | 19962 | 646 |\n|  7169 | 20986 |  6145 | 19962 | 647 |\n|  8193 | 20986 |  7169 | 19962 | 648 |\n|  9217 | 20986 |  8193 | 19962 | 649 |\n| 10241 | 20986 |  9217 | 19962 | 650 |\n| 11265 | 20986 | 10241 | 19962 | 651 |\n| 12289 | 20986 | 11265 | 19962 | 652 |\n| 13313 | 20986 | 12289 | 19962 | 653 |\n| 14337 | 20986 | 13313 | 19962 | 654 |\n| 15361 | 20986 | 14337 | 19962 | 655 |\n| 16385 | 20986 | 15361 | 19962 | 656 |\n| 17409 | 20986 | 16385 | 19962 | 657 |\n| 18433 | 20986 | 17409 | 19962 | 658 |\n| 19457 | 20986 | 18433 | 19962 | 659 |\n| 20481 | 20986 | 19457 | 19962 | 660 |\n| 21505 | 20986 | 20481 | 19962 | 661 |\n| 22529 | 20986 | 21505 | 19962 | 662 |\n| 23553 | 20986 | 22529 | 19962 | 663 |\n| 24577 | 20986 | 23553 | 19962 | 664 |\n| 25601 | 20986 | 24577 | 19962 | 665 |\n| 26625 | 20986 | 25601 | 19962 | 666 |\n| 27649 | 20986 | 26625 | 19962 | 667 |\n| 28673 | 20986 | 27649 | 19962 | 668 |\n| 29697 | 20986 | 28673 | 19962 | 669 |\n| 30721 | 20986 | 29697 | 19962 | 670 |\n| 31745 | 20986 | 30721 | 19962 | 671 |\n| 32476 | 20986 | 31452 | 19962 | 672 |\n\n",
            "text/latex": "A data.table: 672 × 5\n\\begin{tabular}{lllll}\n x\\_end & y\\_end & x\\_org & y\\_org & id\\\\\n <dbl> & <dbl> & <dbl> & <dbl> & <int>\\\\\n\\hline\n\t  1025 & 1025 &     1 & 1 &  1\\\\\n\t  2049 & 1025 &  1025 & 1 &  2\\\\\n\t  3073 & 1025 &  2049 & 1 &  3\\\\\n\t  4097 & 1025 &  3073 & 1 &  4\\\\\n\t  5121 & 1025 &  4097 & 1 &  5\\\\\n\t  6145 & 1025 &  5121 & 1 &  6\\\\\n\t  7169 & 1025 &  6145 & 1 &  7\\\\\n\t  8193 & 1025 &  7169 & 1 &  8\\\\\n\t  9217 & 1025 &  8193 & 1 &  9\\\\\n\t 10241 & 1025 &  9217 & 1 & 10\\\\\n\t 11265 & 1025 & 10241 & 1 & 11\\\\\n\t 12289 & 1025 & 11265 & 1 & 12\\\\\n\t 13313 & 1025 & 12289 & 1 & 13\\\\\n\t 14337 & 1025 & 13313 & 1 & 14\\\\\n\t 15361 & 1025 & 14337 & 1 & 15\\\\\n\t 16385 & 1025 & 15361 & 1 & 16\\\\\n\t 17409 & 1025 & 16385 & 1 & 17\\\\\n\t 18433 & 1025 & 17409 & 1 & 18\\\\\n\t 19457 & 1025 & 18433 & 1 & 19\\\\\n\t 20481 & 1025 & 19457 & 1 & 20\\\\\n\t 21505 & 1025 & 20481 & 1 & 21\\\\\n\t 22529 & 1025 & 21505 & 1 & 22\\\\\n\t 23553 & 1025 & 22529 & 1 & 23\\\\\n\t 24577 & 1025 & 23553 & 1 & 24\\\\\n\t 25601 & 1025 & 24577 & 1 & 25\\\\\n\t 26625 & 1025 & 25601 & 1 & 26\\\\\n\t 27649 & 1025 & 26625 & 1 & 27\\\\\n\t 28673 & 1025 & 27649 & 1 & 28\\\\\n\t 29697 & 1025 & 28673 & 1 & 29\\\\\n\t 30721 & 1025 & 29697 & 1 & 30\\\\\n\t ⋮ & ⋮ & ⋮ & ⋮ & ⋮\\\\\n\t  3073 & 20986 &  2049 & 19962 & 643\\\\\n\t  4097 & 20986 &  3073 & 19962 & 644\\\\\n\t  5121 & 20986 &  4097 & 19962 & 645\\\\\n\t  6145 & 20986 &  5121 & 19962 & 646\\\\\n\t  7169 & 20986 &  6145 & 19962 & 647\\\\\n\t  8193 & 20986 &  7169 & 19962 & 648\\\\\n\t  9217 & 20986 &  8193 & 19962 & 649\\\\\n\t 10241 & 20986 &  9217 & 19962 & 650\\\\\n\t 11265 & 20986 & 10241 & 19962 & 651\\\\\n\t 12289 & 20986 & 11265 & 19962 & 652\\\\\n\t 13313 & 20986 & 12289 & 19962 & 653\\\\\n\t 14337 & 20986 & 13313 & 19962 & 654\\\\\n\t 15361 & 20986 & 14337 & 19962 & 655\\\\\n\t 16385 & 20986 & 15361 & 19962 & 656\\\\\n\t 17409 & 20986 & 16385 & 19962 & 657\\\\\n\t 18433 & 20986 & 17409 & 19962 & 658\\\\\n\t 19457 & 20986 & 18433 & 19962 & 659\\\\\n\t 20481 & 20986 & 19457 & 19962 & 660\\\\\n\t 21505 & 20986 & 20481 & 19962 & 661\\\\\n\t 22529 & 20986 & 21505 & 19962 & 662\\\\\n\t 23553 & 20986 & 22529 & 19962 & 663\\\\\n\t 24577 & 20986 & 23553 & 19962 & 664\\\\\n\t 25601 & 20986 & 24577 & 19962 & 665\\\\\n\t 26625 & 20986 & 25601 & 19962 & 666\\\\\n\t 27649 & 20986 & 26625 & 19962 & 667\\\\\n\t 28673 & 20986 & 27649 & 19962 & 668\\\\\n\t 29697 & 20986 & 28673 & 19962 & 669\\\\\n\t 30721 & 20986 & 29697 & 19962 & 670\\\\\n\t 31745 & 20986 & 30721 & 19962 & 671\\\\\n\t 32476 & 20986 & 31452 & 19962 & 672\\\\\n\\end{tabular}\n",
            "text/plain": [
              "    x_end y_end x_org y_org id \n",
              "1    1025 1025      1 1      1 \n",
              "2    2049 1025   1025 1      2 \n",
              "3    3073 1025   2049 1      3 \n",
              "4    4097 1025   3073 1      4 \n",
              "5    5121 1025   4097 1      5 \n",
              "6    6145 1025   5121 1      6 \n",
              "7    7169 1025   6145 1      7 \n",
              "8    8193 1025   7169 1      8 \n",
              "9    9217 1025   8193 1      9 \n",
              "10  10241 1025   9217 1     10 \n",
              "11  11265 1025  10241 1     11 \n",
              "12  12289 1025  11265 1     12 \n",
              "13  13313 1025  12289 1     13 \n",
              "14  14337 1025  13313 1     14 \n",
              "15  15361 1025  14337 1     15 \n",
              "16  16385 1025  15361 1     16 \n",
              "17  17409 1025  16385 1     17 \n",
              "18  18433 1025  17409 1     18 \n",
              "19  19457 1025  18433 1     19 \n",
              "20  20481 1025  19457 1     20 \n",
              "21  21505 1025  20481 1     21 \n",
              "22  22529 1025  21505 1     22 \n",
              "23  23553 1025  22529 1     23 \n",
              "24  24577 1025  23553 1     24 \n",
              "25  25601 1025  24577 1     25 \n",
              "26  26625 1025  25601 1     26 \n",
              "27  27649 1025  26625 1     27 \n",
              "28  28673 1025  27649 1     28 \n",
              "29  29697 1025  28673 1     29 \n",
              "30  30721 1025  29697 1     30 \n",
              "⋮   ⋮     ⋮     ⋮     ⋮     ⋮  \n",
              "643  3073 20986  2049 19962 643\n",
              "644  4097 20986  3073 19962 644\n",
              "645  5121 20986  4097 19962 645\n",
              "646  6145 20986  5121 19962 646\n",
              "647  7169 20986  6145 19962 647\n",
              "648  8193 20986  7169 19962 648\n",
              "649  9217 20986  8193 19962 649\n",
              "650 10241 20986  9217 19962 650\n",
              "651 11265 20986 10241 19962 651\n",
              "652 12289 20986 11265 19962 652\n",
              "653 13313 20986 12289 19962 653\n",
              "654 14337 20986 13313 19962 654\n",
              "655 15361 20986 14337 19962 655\n",
              "656 16385 20986 15361 19962 656\n",
              "657 17409 20986 16385 19962 657\n",
              "658 18433 20986 17409 19962 658\n",
              "659 19457 20986 18433 19962 659\n",
              "660 20481 20986 19457 19962 660\n",
              "661 21505 20986 20481 19962 661\n",
              "662 22529 20986 21505 19962 662\n",
              "663 23553 20986 22529 19962 663\n",
              "664 24577 20986 23553 19962 664\n",
              "665 25601 20986 24577 19962 665\n",
              "666 26625 20986 25601 19962 666\n",
              "667 27649 20986 26625 19962 667\n",
              "668 28673 20986 27649 19962 668\n",
              "669 29697 20986 28673 19962 669\n",
              "670 30721 20986 29697 19962 670\n",
              "671 31745 20986 30721 19962 671\n",
              "672 32476 20986 31452 19962 672"
            ]
          },
          "metadata": {}
        }
      ]
    },
    {
      "cell_type": "code",
      "source": [
        "dir.create('/content/Maui_exports')"
      ],
      "metadata": {
        "id": "DWJIAU7eoonA"
      },
      "execution_count": 18,
      "outputs": []
    },
    {
      "cell_type": "code",
      "source": [
        "new_folder_path <- \"/content/Maui_exports/Maui_Images\"\n",
        "new_folder_path2 <- \"/content/Maui_exports/Maui_Labels\"\n",
        "# Use dir.create to create the new folder\n",
        "dir.create(new_folder_path, showWarnings = FALSE)\n",
        "\n",
        "# Check if the folder was created successfully\n",
        "if (file.exists(new_folder_path)) {\n",
        "  cat(\"Folder created:\", new_folder_path, \"\\n\")\n",
        "} else {\n",
        "  cat(\"Failed to create folder:\", new_folder_path, \"\\n\")\n",
        "}\n",
        "\n",
        "\n",
        "# Use dir.create to create the new folder\n",
        "dir.create(new_folder_path2, showWarnings = FALSE)\n",
        "# Check if the folder was created successfully\n",
        "if (file.exists(new_folder_path2)) {\n",
        "  cat(\"Folder created:\", new_folder_path2, \"\\n\")\n",
        "} else {\n",
        "  cat(\"Failed to create folder:\", new_folder_path2, \"\\n\")\n",
        "}"
      ],
      "metadata": {
        "colab": {
          "base_uri": "https://localhost:8080/"
        },
        "id": "grL1dOdwanjd",
        "outputId": "4e4b73e0-0013-46d9-f259-584ce9e90777"
      },
      "execution_count": 19,
      "outputs": [
        {
          "output_type": "stream",
          "name": "stdout",
          "text": [
            "Folder created: /content/Maui_exports/Maui_Images \n",
            "Folder created: /content/Maui_exports/Maui_Labels \n"
          ]
        }
      ]
    },
    {
      "cell_type": "code",
      "source": [
        "# extract_grid"
      ],
      "metadata": {
        "id": "Y0vV5y3ro8-I"
      },
      "execution_count": null,
      "outputs": []
    },
    {
      "cell_type": "code",
      "source": [
        "result_dt <-\n",
        "1:nrow(extract_grid) %>% lapply(function(x){\n",
        "\n",
        "  nrow <- 0\n",
        "  ncol <- 0\n",
        "  i <- 0\n",
        "  while(nrow !=1024 | ncol != 1024){\n",
        "    i <- i + 1\n",
        "    # Calculate the geographic coordinates for the cropping extent\n",
        "    xmin <- xFromCol(ccap_raster, extract_grid[x,]$x_org) + rnorm(1)*.01*2.4\n",
        "    xmax <- xFromCol(ccap_raster, extract_grid[x,]$x_end) + rnorm(1)*.01*2.4\n",
        "    ymin <- yFromRow(ccap_raster, extract_grid[x,]$y_end) + rnorm(1)*.01*2.4 # Note row_max as raster origin is top-left\n",
        "    ymax <- yFromRow(ccap_raster, extract_grid[x,]$y_org) + rnorm(1)*.01*2.4 # Note row_min as raster origin is top-left\n",
        "\n",
        "    e <- extent(xmin, xmax, ymin, ymax)\n",
        "\n",
        "    ccap_cropped_raster <- crop(ccap_raster, e)\n",
        "\n",
        "    nrow <- nrow(ccap_cropped_raster)\n",
        "    ncol <- ncol(ccap_cropped_raster)\n",
        "\n",
        "\n",
        "    # print(dim(ccap_cropped_raster))\n",
        "    if(i>1000){return('failed to converge')}\n",
        "    }\n",
        "\n",
        "  ls_cropped_raster <- crop(ls_raster_extended, projectExtent(ccap_cropped_raster,ls_raster))\n",
        "\n",
        "  ls_resampled_raster <- projectRaster(ls_cropped_raster,ccap_cropped_raster)\n",
        "  print(ls_resampled_raster)\n",
        "  pixel_table <- (table(values(ccap_cropped_raster))/ncell(ccap_cropped_raster)) %>% data.table\n",
        "\n",
        "  names(pixel_table) <- c('label','percent')\n",
        "\n",
        "  out_dt <- data.table(extract_grid[x,],xmin = xmin,xmax =xmax,ymin= ymin,ymax, pixel_table)\n",
        "\n",
        "  if(ls_resampled_raster %>% nrow ==1024 & ls_resampled_raster %>% ncol ==1024 & ccap_cropped_raster%>% nrow ==1024 & ccap_cropped_raster%>% ncol ==1024){\n",
        "    ls_resampled_raster %>%\n",
        "    writeRaster(., paste(\"/content/Maui_exports/Maui_Images/\",extract_grid[x,]$x_org,'_',extract_grid[x,]$y_org,'.tif',sep=''),overwrite=T)\n",
        "\n",
        "    ccap_cropped_raster %>%\n",
        "    writeRaster(., paste(\"/content/Maui_exports/Maui_Labels/\",extract_grid[x,]$x_org,'_',extract_grid[x,]$y_org,'.tif',sep=''),overwrite=T)\n",
        "  }else(print('uh oh'))\n",
        "\n",
        "  return(out_dt)\n",
        "})\n",
        "result_dt[ result_dt %>% lapply(function(x){is.data.table(x)}) %>% unlist] %>% rbindlist %>%\n",
        "fwrite(\"/content/Maui_exports/Maui_oneYear.csv\") # /content/Maui10/\n"
      ],
      "metadata": {
        "id": "86_RVeZTa01L"
      },
      "execution_count": 39,
      "outputs": []
    },
    {
      "cell_type": "code",
      "source": [
        "result_dt[ result_dt %>% lapply(function(x){is.data.table(x)}) %>% unlist] %>% rbindlist %>%\n",
        "fwrite(\"content/Maui_oneYear.csv\")"
      ],
      "metadata": {
        "id": "AW5fh_aRxfy2",
        "outputId": "8362fc7b-1ab5-44ff-bad2-56db654c23b7",
        "colab": {
          "base_uri": "https://localhost:8080/",
          "height": 218
        }
      },
      "execution_count": 32,
      "outputs": [
        {
          "output_type": "error",
          "ename": "ERROR",
          "evalue": "ignored",
          "traceback": [
            "Error in fwrite(., \"content/Maui_oneYear.csv\"): No such file or directory: 'content/Maui_oneYear.csv'. Unable to create new file for writing (it does not exist already). Do you have permission to write here, is there space on the disk and does the path exist?\nTraceback:\n",
            "1. result_dt[result_dt %>% lapply(function(x) {\n .     is.data.table(x)\n . }) %>% unlist] %>% rbindlist %>% fwrite(\"content/Maui_oneYear.csv\")",
            "2. fwrite(., \"content/Maui_oneYear.csv\")"
          ]
        }
      ]
    },
    {
      "cell_type": "code",
      "source": [
        "zip(zipfile = 'content/Maui_oneYear.zip', files = c(\"/content/Maui_exports\"))"
      ],
      "metadata": {
        "id": "Pgq-SDbNdRz6",
        "outputId": "fcfca3e6-1c34-4fe9-fe54-218cc173d5f3",
        "colab": {
          "base_uri": "https://localhost:8080/",
          "height": 236
        }
      },
      "execution_count": 33,
      "outputs": [
        {
          "output_type": "stream",
          "name": "stderr",
          "text": [
            "Warning message in fix_absolute_paths(data$key):\n",
            "“Dropping leading `/` from paths, all paths in a zip file must be relative paths.”\n"
          ]
        },
        {
          "output_type": "error",
          "ename": "ERROR",
          "evalue": "ignored",
          "traceback": [
            "Error in zip_internal(zipfile, files, recurse, compression_level, append = FALSE, : zip error: Cannot open zip file `content/Maui_oneYear.zip` for writing in file zip.c:309\nTraceback:\n",
            "1. zip(zipfile = \"content/Maui_oneYear.zip\", files = c(\"/content/Maui_exports\"))",
            "2. zip_internal(zipfile, files, recurse, compression_level, append = FALSE, \n .     root = root, keep_path = (mode == \"mirror\"), include_directories = include_directories)"
          ]
        }
      ]
    },
    {
      "cell_type": "code",
      "source": [
        "zip(zipfile = \"/content/Maui_exports.zip\",\n",
        "    files = c(\"/content/Maui_exports/Maui_Images\",\n",
        "              \"/content/Maui_exports/Maui_Labels\",\n",
        "              \"/content/Maui_exports/Maui_oneYear.csv\"))\n",
        "\n",
        "\n"
      ],
      "metadata": {
        "id": "UmeIm641B3yt",
        "outputId": "8a338f03-3031-4430-e34f-b429e36c9224",
        "colab": {
          "base_uri": "https://localhost:8080/"
        }
      },
      "execution_count": 40,
      "outputs": [
        {
          "output_type": "stream",
          "name": "stderr",
          "text": [
            "Warning message in fix_absolute_paths(data$key):\n",
            "“Dropping leading `/` from paths, all paths in a zip file must be relative paths.”\n"
          ]
        }
      ]
    },
    {
      "cell_type": "code",
      "source": [
        "# revised_trainingdata https://drive.google.com/drive/folders/1bHbapyUMII5K7Ycik75RhO6wMZV6vfvE?usp=drive_link\n",
        "drive_upload(media = \"/content/Maui_exports.zip\", path = as_id(\"1bHbapyUMII5K7Ycik75RhO6wMZV6vfvE\"))"
      ],
      "metadata": {
        "id": "J8Ys5cMhCBee",
        "outputId": "15f6b844-eec4-4432-e6f9-c63ae87b7230",
        "colab": {
          "base_uri": "https://localhost:8080/"
        }
      },
      "execution_count": 42,
      "outputs": [
        {
          "output_type": "stream",
          "name": "stderr",
          "text": [
            "Auto-refreshing stale OAuth token.\n",
            "\n",
            "Local file:\n",
            "\n",
            "• \u001b[34m/content/Maui_exports.zip\u001b[39m\n",
            "\n",
            "Uploaded into Drive file:\n",
            "\n",
            "• \u001b[36mMaui_exports.zip\u001b[39m \u001b[90m<id: 1Tl6HJsC5yssdSoyjfgwVpL1jRQ-3MqT->\u001b[39m\n",
            "\n",
            "With MIME type:\n",
            "\n",
            "• \u001b[32mapplication/zip\u001b[39m\n",
            "\n"
          ]
        }
      ]
    }
  ]
}