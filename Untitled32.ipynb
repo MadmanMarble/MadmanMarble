{
  "nbformat": 4,
  "nbformat_minor": 0,
  "metadata": {
    "colab": {
      "provenance": [],
      "authorship_tag": "ABX9TyPRlyLLR5d6GQwLCuAYSUE0",
      "include_colab_link": true
    },
    "kernelspec": {
      "name": "python3",
      "display_name": "Python 3"
    },
    "language_info": {
      "name": "python"
    }
  },
  "cells": [
    {
      "cell_type": "markdown",
      "metadata": {
        "id": "view-in-github",
        "colab_type": "text"
      },
      "source": [
        "<a href=\"https://colab.research.google.com/github/MadmanMarble/MadmanMarble/blob/main/Untitled32.ipynb\" target=\"_parent\"><img src=\"https://colab.research.google.com/assets/colab-badge.svg\" alt=\"Open In Colab\"/></a>"
      ]
    },
    {
      "cell_type": "markdown",
      "source": [
        "Notebook for data exploration - looking at the planet crop data"
      ],
      "metadata": {
        "id": "x7n7x5swMqAq"
      }
    },
    {
      "cell_type": "code",
      "execution_count": 1,
      "metadata": {
        "colab": {
          "base_uri": "https://localhost:8080/"
        },
        "id": "GwymtbpkMQQQ",
        "outputId": "0ebc9d09-a911-48ab-9a27-05bec9d90eb5"
      },
      "outputs": [
        {
          "output_type": "stream",
          "name": "stdout",
          "text": [
            "Mounted at /content/drive\n"
          ]
        }
      ],
      "source": [
        "from google.colab import drive\n",
        "drive.mount('/content/drive')"
      ]
    },
    {
      "cell_type": "code",
      "source": [
        "import pandas as pd\n",
        "import numpy as np\n",
        "import matplotlib.pyplot as plt\n",
        "import os\n",
        "import cv2\n",
        "import shutil\n",
        "import hashlib"
      ],
      "metadata": {
        "id": "oXQC4Od4MqSq"
      },
      "execution_count": 2,
      "outputs": []
    },
    {
      "cell_type": "code",
      "source": [
        "# !mkdir /content/data\n",
        "!mkdir /content/image\n"
      ],
      "metadata": {
        "id": "LSh9L-nnM8Hn"
      },
      "execution_count": 9,
      "outputs": []
    },
    {
      "cell_type": "code",
      "source": [
        "!unzip /content/drive/MyDrive/DeepLearning_Project/trainingdata/feb27_exports/Planet_utm4_2018_export001_ccap_filled.zip -d /content/data/\n",
        "!unzip /content/drive/MyDrive/DeepLearning_Project/trainingdata/feb27_exports/Planet_utm4_2018_export002_ccap_filled.zip -d /content/data/\n",
        "!unzip /content/drive/MyDrive/DeepLearning_Project/trainingdata/feb27_exports/Planet_utm4_2018_export003_ccap_filled.zip -d /content/data/"
      ],
      "metadata": {
        "id": "4wyW-fKqNFFq"
      },
      "execution_count": null,
      "outputs": []
    },
    {
      "cell_type": "code",
      "source": [
        "!unzip /content/drive/MyDrive/DeepLearning_Project/trainingdata/feb27_exports/Planet_utm4_2018_export001_dem.zip -d /content/data/\n",
        "!unzip /content/drive/MyDrive/DeepLearning_Project/trainingdata/feb27_exports/Planet_utm4_2018_export002_dem.zip -d /content/data/\n",
        "!unzip /content/drive/MyDrive/DeepLearning_Project/trainingdata/feb27_exports/Planet_utm4_2018_export003_dem.zip -d /content/data/"
      ],
      "metadata": {
        "id": "esuZr1JoOvEl"
      },
      "execution_count": null,
      "outputs": []
    },
    {
      "cell_type": "code",
      "source": [
        "!unzip /content/drive/MyDrive/DeepLearning_Project/trainingdata/feb27_exports/Planet_utm4_2018_export001_nwi_nlcd_filled.zip -d /content/data/\n",
        "!unzip /content/drive/MyDrive/DeepLearning_Project/trainingdata/feb27_exports/Planet_utm4_2018_export002_nwi_nlcd_filled.zip -d /content/data/\n",
        "!unzip /content/drive/MyDrive/DeepLearning_Project/trainingdata/feb27_exports/Planet_utm4_2018_export003_nwi_nlcd_filled.zip -d /content/data/"
      ],
      "metadata": {
        "id": "PwcW57tMP7Af"
      },
      "execution_count": null,
      "outputs": []
    },
    {
      "cell_type": "code",
      "source": [
        "!unzip /content/drive/MyDrive/DeepLearning_Project/trainingdata/feb27_exports/Planet_utm4_2018_export001_nwi_ccap_filled.zip -d /content/data/\n",
        "!unzip /content/drive/MyDrive/DeepLearning_Project/trainingdata/feb27_exports/Planet_utm4_2018_export002_nwi_ccap_filled.zip -d /content/data/\n",
        "!unzip /content/drive/MyDrive/DeepLearning_Project/trainingdata/feb27_exports/Planet_utm4_2018_export003_nwi_ccap_filled.zip -d /content/data/"
      ],
      "metadata": {
        "id": "Ufd4cfd0NkAi"
      },
      "execution_count": null,
      "outputs": []
    },
    {
      "cell_type": "code",
      "source": [
        "!unzip /content/drive/MyDrive/DeepLearning_Project/trainingdata/feb27_exports/Planet_utm4_2018_export001_image.zip -d /content/image/\n",
        "!unzip /content/drive/MyDrive/DeepLearning_Project/trainingdata/feb27_exports/Planet_utm4_2018_export002_image.zip -d /content/image/\n",
        "!unzip /content/drive/MyDrive/DeepLearning_Project/trainingdata/feb27_exports/Planet_utm4_2018_export003_image.zip -d /content/image/"
      ],
      "metadata": {
        "id": "RiY0hYTKPHCv"
      },
      "execution_count": null,
      "outputs": []
    },
    {
      "cell_type": "code",
      "source": [
        "!unzip /content/drive/MyDrive/DeepLearning_Project/trainingdata/feb27_exports/Planet_utm4_2019_export001_image.zip -d /content/image/\n",
        "!unzip /content/drive/MyDrive/DeepLearning_Project/trainingdata/feb27_exports/Planet_utm4_2019_export002_image.zip -d /content/image/"
      ],
      "metadata": {
        "id": "qykysN5mOP_z"
      },
      "execution_count": null,
      "outputs": []
    },
    {
      "cell_type": "code",
      "source": [
        "!unzip /content/drive/MyDrive/DeepLearning_Project/trainingdata/feb27_exports/Planet_utm4_2020_export001_image.zip -d /content/image/\n",
        "!unzip /content/drive/MyDrive/DeepLearning_Project/trainingdata/feb27_exports/Planet_utm4_2020_export002_image.zip -d /content/image/"
      ],
      "metadata": {
        "id": "ESASGE4JRfoK"
      },
      "execution_count": null,
      "outputs": []
    },
    {
      "cell_type": "code",
      "source": [],
      "metadata": {
        "id": "dtHzCcGCTj7X"
      },
      "execution_count": null,
      "outputs": []
    },
    {
      "cell_type": "code",
      "source": [],
      "metadata": {
        "id": "nsRlZ6FVU9DT"
      },
      "execution_count": null,
      "outputs": []
    },
    {
      "cell_type": "markdown",
      "source": [
        "so far I've unzipped all the training data (ccap, nwi/ccap, nwi/nlcd) and dem, as well as the imagery data for 2018, 2019, 2020.\n"
      ],
      "metadata": {
        "id": "udd16oINR26z"
      }
    },
    {
      "cell_type": "markdown",
      "source": [
        "Next, I need to think about how I want to organize all of this so its in the correct //trainingdata//images, //trainindata//lables set up"
      ],
      "metadata": {
        "id": "FphnGa73SA5J"
      }
    },
    {
      "cell_type": "code",
      "source": [
        "!unzip /content/drive/MyDrive/DeepLearning_Project/trainingdata/feb27_exports/Planet_utm5_2018_export001_ccap_filled.zip -d /content/data/\n",
        "!unzip /content/drive/MyDrive/DeepLearning_Project/trainingdata/feb27_exports/Planet_utm5_2018_export002_ccap_filled.zip -d /content/data/\n",
        "!unzip /content/drive/MyDrive/DeepLearning_Project/trainingdata/feb27_exports/Planet_utm5_2018_export003_ccap_filled.zip -d /content/data/"
      ],
      "metadata": {
        "id": "ovgS9JOaX6Fl"
      },
      "execution_count": null,
      "outputs": []
    },
    {
      "cell_type": "code",
      "source": [
        "!unzip /content/drive/MyDrive/DeepLearning_Project/trainingdata/feb27_exports/Planet_utm5_2018_export001_dem.zip -d /content/data/\n",
        "!unzip /content/drive/MyDrive/DeepLearning_Project/trainingdata/feb27_exports/Planet_utm5_2018_export002_dem.zip -d /content/data/\n",
        "!unzip /content/drive/MyDrive/DeepLearning_Project/trainingdata/feb27_exports/Planet_utm5_2018_export003_dem.zip -d /content/data/"
      ],
      "metadata": {
        "id": "vYAUK4czZOBH"
      },
      "execution_count": null,
      "outputs": []
    },
    {
      "cell_type": "code",
      "source": [
        "!unzip /content/drive/MyDrive/DeepLearning_Project/trainingdata/feb27_exports/Planet_utm5_2018_export001_nwi_ccap_filled.zip -d /content/data/\n",
        "!unzip /content/drive/MyDrive/DeepLearning_Project/trainingdata/feb27_exports/Planet_utm5_2018_export002_nwi_ccap_filled.zip -d /content/data/\n",
        "!unzip /content/drive/MyDrive/DeepLearning_Project/trainingdata/feb27_exports/Planet_utm5_2018_export003_nwi_ccap_filled.zip -d /content/data/"
      ],
      "metadata": {
        "id": "Jbz_3ytWZile"
      },
      "execution_count": null,
      "outputs": []
    },
    {
      "cell_type": "code",
      "source": [
        "!unzip /content/drive/MyDrive/DeepLearning_Project/trainingdata/feb27_exports/Planet_utm5_2018_export001_nwi_nlcd_filled.zip -d /content/data/\n",
        "!unzip /content/drive/MyDrive/DeepLearning_Project/trainingdata/feb27_exports/Planet_utm5_2018_export002_nwi_nlcd_filled.zip -d /content/data/\n",
        "!unzip /content/drive/MyDrive/DeepLearning_Project/trainingdata/feb27_exports/Planet_utm5_2018_export003_nwi_nlcd_filled.zip -d /content/data/"
      ],
      "metadata": {
        "id": "QxZ-nmDzZpgG"
      },
      "execution_count": null,
      "outputs": []
    },
    {
      "cell_type": "code",
      "source": [
        "!unzip /content/drive/MyDrive/DeepLearning_Project/trainingdata/feb27_exports/Planet_utm5_2018_export001_image.zip -d /content/image/"
      ],
      "metadata": {
        "id": "m4aNpjNyZ-nu"
      },
      "execution_count": null,
      "outputs": []
    },
    {
      "cell_type": "code",
      "source": [
        "!unzip /content/drive/MyDrive/DeepLearning_Project/trainingdata/feb27_exports/Planet_utm5_2018_export002_image.zip -d /content/image/"
      ],
      "metadata": {
        "id": "f4wbSnpOaoNl"
      },
      "execution_count": null,
      "outputs": []
    },
    {
      "cell_type": "code",
      "source": [
        "!unzip /content/drive/MyDrive/DeepLearning_Project/trainingdata/feb27_exports/Planet_utm5_2018_export003_image.zip -d /content/image/"
      ],
      "metadata": {
        "id": "WVNTXd0_av0G"
      },
      "execution_count": null,
      "outputs": []
    },
    {
      "cell_type": "code",
      "source": [
        "!unzip /content/drive/MyDrive/DeepLearning_Project/trainingdata/feb27_exports/Planet_utm5_2019_export001_image.zip -d /content/image/"
      ],
      "metadata": {
        "id": "hqtBi09qagk4"
      },
      "execution_count": null,
      "outputs": []
    },
    {
      "cell_type": "code",
      "source": [
        "!unzip /content/drive/MyDrive/DeepLearning_Project/trainingdata/feb27_exports/Planet_utm5_2020_export001_image.zip -d /content/image/"
      ],
      "metadata": {
        "id": "b2sa53hOag_h"
      },
      "execution_count": null,
      "outputs": []
    },
    {
      "cell_type": "markdown",
      "source": [
        "check the number of files in image folders and data folders"
      ],
      "metadata": {
        "id": "_XtDUqZpcGYk"
      }
    },
    {
      "cell_type": "code",
      "source": [
        "\n",
        "# original images and labels folder: how many files are there?\n",
        "iamges = '/content/image/content/exports/planet_utm4_2018'\n",
        "image_folder_one = os.listdir(iamges)\n",
        "image_folder_one_count = len(image_folder_one)\n",
        "print(f'The number of files in the folder is: {image_folder_one_count}')\n",
        "\n",
        "\n",
        "iamges_two = '/content/image/content/exports/planet_utm4_2019'\n",
        "image_folder_two = os.listdir(iamges_two)\n",
        "image_folder_two_count = len(image_folder_two)\n",
        "print(f'The number of files in the folder is: {image_folder_two_count}')\n",
        "\n",
        "\n",
        "iamges_three = '/content/image/content/exports/planet_utm4_2020'\n",
        "image_folder_three = os.listdir(iamges_three)\n",
        "image_folder_three_count = len(image_folder_three)\n",
        "print(f'The number of files in the folder is: {image_folder_three_count}')\n"
      ],
      "metadata": {
        "colab": {
          "base_uri": "https://localhost:8080/"
        },
        "id": "GioCWbRGcJ9f",
        "outputId": "5a475652-5574-4355-a368-ecb1e058ec31"
      },
      "execution_count": 43,
      "outputs": [
        {
          "output_type": "stream",
          "name": "stdout",
          "text": [
            "The number of files in the folder is: 2630\n",
            "The number of files in the folder is: 2648\n",
            "The number of files in the folder is: 2648\n"
          ]
        }
      ]
    },
    {
      "cell_type": "code",
      "source": [
        "# original images and labels folder: how many files are there?\n",
        "iamges = '/content/image/content/exports/planet_utm5_2018'\n",
        "image_folder_one = os.listdir(iamges)\n",
        "image_folder_one_count = len(image_folder_one)\n",
        "print(f'The number of files in the folder is: {image_folder_one_count}')\n",
        "\n",
        "\n",
        "iamges_two = '/content/image/content/exports/planet_utm5_2019'\n",
        "image_folder_two = os.listdir(iamges_two)\n",
        "image_folder_two_count = len(image_folder_two)\n",
        "print(f'The number of files in the folder is: {image_folder_two_count}')\n",
        "\n",
        "\n",
        "iamges_three = '/content/image/content/exports/planet_utm5_2020'\n",
        "image_folder_three = os.listdir(iamges_three)\n",
        "image_folder_three_count = len(image_folder_three)\n",
        "print(f'The number of files in the folder is: {image_folder_three_count}')\n"
      ],
      "metadata": {
        "colab": {
          "base_uri": "https://localhost:8080/"
        },
        "id": "laCJb5iieCwZ",
        "outputId": "8e639262-eba7-4c33-d669-210b113b7867"
      },
      "execution_count": 37,
      "outputs": [
        {
          "output_type": "stream",
          "name": "stdout",
          "text": [
            "The number of files in the folder is: 229\n",
            "The number of files in the folder is: 229\n",
            "The number of files in the folder is: 229\n"
          ]
        }
      ]
    },
    {
      "cell_type": "code",
      "source": [
        "# original images and labels folder: how many files are there?\n",
        "iamges = '/content/data/content/exports_utm4/ccap_filled'\n",
        "image_folder_one = os.listdir(iamges)\n",
        "image_folder_one_count = len(image_folder_one)\n",
        "print(f'The number of files in the folder is: {image_folder_one_count}')\n",
        "\n",
        "\n",
        "iamges_two = '/content/data/content/exports_utm4/dem'\n",
        "image_folder_two = os.listdir(iamges_two)\n",
        "image_folder_two_count = len(image_folder_two)\n",
        "print(f'The number of files in the folder is: {image_folder_two_count}')\n",
        "\n",
        "\n",
        "iamges_three = '/content/data/content/exports_utm4/nwi_ccap_filled'\n",
        "image_folder_three = os.listdir(iamges_three)\n",
        "image_folder_three_count = len(image_folder_three)\n",
        "print(f'The number of files in the folder is: {image_folder_three_count}')\n",
        "\n",
        "\n",
        "\n",
        "iamges_four = '/content/data/content/exports_utm4/nwi_ccap_filled'\n",
        "image_folder_four = os.listdir(iamges_four)\n",
        "image_folder_four_count = len(image_folder_four)\n",
        "print(f'The number of files in the folder is: {image_folder_four_count}')\n"
      ],
      "metadata": {
        "colab": {
          "base_uri": "https://localhost:8080/"
        },
        "id": "vkqqroEyeu7_",
        "outputId": "dad816e5-a2ee-4a96-a6fd-a064d3b3ff0c"
      },
      "execution_count": 38,
      "outputs": [
        {
          "output_type": "stream",
          "name": "stdout",
          "text": [
            "The number of files in the folder is: 2630\n",
            "The number of files in the folder is: 2630\n",
            "The number of files in the folder is: 2630\n",
            "The number of files in the folder is: 2630\n"
          ]
        }
      ]
    },
    {
      "cell_type": "code",
      "source": [
        "# original images and labels folder: how many files are there?\n",
        "iamges = '/content/data/content/exports_utm5/ccap_filled'\n",
        "image_folder_one = os.listdir(iamges)\n",
        "image_folder_one_count = len(image_folder_one)\n",
        "print(f'The number of files in the folder is: {image_folder_one_count}')\n",
        "\n",
        "\n",
        "iamges_two = '/content/data/content/exports_utm5/dem'\n",
        "image_folder_two = os.listdir(iamges_two)\n",
        "image_folder_two_count = len(image_folder_two)\n",
        "print(f'The number of files in the folder is: {image_folder_two_count}')\n",
        "\n",
        "\n",
        "iamges_three = '/content/data/content/exports_utm5/nwi_ccap_filled'\n",
        "image_folder_three = os.listdir(iamges_three)\n",
        "image_folder_three_count = len(image_folder_three)\n",
        "print(f'The number of files in the folder is: {image_folder_three_count}')\n",
        "\n",
        "\n",
        "\n",
        "iamges_four = '/content/data/content/exports_utm5/nwi_nlcd_filled'\n",
        "image_folder_four = os.listdir(iamges_four)\n",
        "image_folder_four_count = len(image_folder_four)\n",
        "print(f'The number of files in the folder is: {image_folder_four_count}')\n"
      ],
      "metadata": {
        "colab": {
          "base_uri": "https://localhost:8080/"
        },
        "id": "Zchg7vRTe892",
        "outputId": "8786a99a-d899-4a8e-b232-43f7308d97de"
      },
      "execution_count": 39,
      "outputs": [
        {
          "output_type": "stream",
          "name": "stdout",
          "text": [
            "The number of files in the folder is: 229\n",
            "The number of files in the folder is: 229\n",
            "The number of files in the folder is: 229\n",
            "The number of files in the folder is: 229\n"
          ]
        }
      ]
    },
    {
      "cell_type": "markdown",
      "source": [
        "\n",
        "\n",
        "*   UTM 5 data and image count match.\n",
        "*   UTM 4 data and image count DO NOT match.\n",
        "\n"
      ],
      "metadata": {
        "id": "UDoUF_WtfF39"
      }
    },
    {
      "cell_type": "code",
      "source": [
        "\n",
        "# original images and labels folder: how many files are there?\n",
        "iamges = '/content/image/content/exports/planet_utm4_2018'\n",
        "image_folder_one = os.listdir(iamges)\n",
        "image_folder_one_count = len(image_folder_one)\n",
        "print(f'The number of files in the folder is: {image_folder_one_count}')\n",
        "\n",
        "\n",
        "iamges_two = '/content/image/content/exports/planet_utm4_2019'\n",
        "image_folder_two = os.listdir(iamges_two)\n",
        "image_folder_two_count = len(image_folder_two)\n",
        "print(f'The number of files in the folder is: {image_folder_two_count}')\n",
        "\n",
        "\n",
        "iamges_three = '/content/image/content/exports/planet_utm4_2020'\n",
        "image_folder_three = os.listdir(iamges_three)\n",
        "image_folder_three_count = len(image_folder_three)\n",
        "print(f'The number of files in the folder is: {image_folder_three_count}')"
      ],
      "metadata": {
        "id": "uSH72lwxfIi4"
      },
      "execution_count": 39,
      "outputs": []
    },
    {
      "cell_type": "code",
      "source": [
        "import re"
      ],
      "metadata": {
        "id": "mNF3U2F_gMW5"
      },
      "execution_count": 44,
      "outputs": []
    },
    {
      "cell_type": "code",
      "source": [
        "folder = '/content/image/content/exports/planet_utm4_2018'\n",
        "files = os.listdir(folder)\n",
        "\n",
        "\n",
        "# Function to extract the numerical part of a filename\n",
        "def extract_number(filename):\n",
        "    match = re.search(r'\\d+', filename)\n",
        "    return int(match.group()) if match else 0\n",
        "\n",
        "# Sort the files using the extract_number function as key\n",
        "files_sorted = sorted(files, key=extract_number)\n",
        "\n",
        "for file in files_sorted:\n",
        "    print(file)"
      ],
      "metadata": {
        "id": "3IW357krfdFG"
      },
      "execution_count": null,
      "outputs": []
    },
    {
      "cell_type": "code",
      "source": [
        "folder = '/content/image/content/exports/planet_utm4_2019'\n",
        "files = os.listdir(folder)\n",
        "\n",
        "\n",
        "# Function to extract the numerical part of a filename\n",
        "def extract_number(filename):\n",
        "    match = re.search(r'\\d+', filename)\n",
        "    return int(match.group()) if match else 0\n",
        "\n",
        "# Sort the files using the extract_number function as key\n",
        "files_sorted = sorted(files, key=extract_number)\n",
        "\n",
        "for file in files_sorted:\n",
        "    print(file)"
      ],
      "metadata": {
        "id": "whsRqnS6gWH9"
      },
      "execution_count": null,
      "outputs": []
    },
    {
      "cell_type": "code",
      "source": [
        "# Function to extract the numerical part of a filename\n",
        "def extract_number(filename):\n",
        "    match = re.search(r'\\d+', filename)\n",
        "    return int(match.group()) if match else 0\n",
        "\n",
        "def list_and_sort_files(folder_path):\n",
        "    files = os.listdir(folder_path)\n",
        "    return sorted(files, key=extract_number)\n",
        "\n",
        "\n",
        "folder_path_1 = '/content/image/content/exports/planet_utm4_2018'\n",
        "folder_path_2 = '/content/image/content/exports/planet_utm4_2019'\n",
        "\n",
        "\n",
        "files_folder_1 = list_and_sort_files(folder_path_1)\n",
        "files_folder_2 = list_and_sort_files(folder_path_2)\n",
        "\n",
        "# Find files in folder 1 not in folder 2\n",
        "missing_in_folder_2 = set(files_folder_1) - set(files_folder_2)\n",
        "\n",
        "# Find files in folder 2 not in folder 1\n",
        "missing_in_folder_1 = set(files_folder_2) - set(files_folder_1)\n",
        "\n",
        "# Print the results\n",
        "if missing_in_folder_2:\n",
        "    print(\"Files in folder 1 missing in folder 2:\", missing_in_folder_2)\n",
        "else:\n",
        "    print(\"No files in folder 1 are missing in folder 2.\")\n",
        "\n",
        "if missing_in_folder_1:\n",
        "    print(\"Files in folder 2 missing in folder 1:\", missing_in_folder_1)\n",
        "else:\n",
        "    print(\"No files in folder 2 are missing in folder 1.\")\n",
        "\n",
        "# for file_1, file_2 in zip(files_folder_1, files_folder_2):\n",
        "#     if file_1 != file_2:\n",
        "#         print(f\"File mismatch: {file_1} in folder 1 and {file_2} in folder 2\")"
      ],
      "metadata": {
        "colab": {
          "base_uri": "https://localhost:8080/"
        },
        "id": "FEq3qVw5g0p9",
        "outputId": "73070308-d475-4e5b-a06d-8d60c8d944fb"
      },
      "execution_count": 103,
      "outputs": [
        {
          "output_type": "stream",
          "name": "stdout",
          "text": [
            "Files in folder 1 missing in folder 2: {'.ipynb_checkpoints'}\n",
            "No files in folder 2 are missing in folder 1.\n"
          ]
        }
      ]
    },
    {
      "cell_type": "code",
      "source": [
        "# !mkdir /content/extra/planet_utm4_2019\n",
        "# !mkdir /content/extra/planet_utm4_2020\n",
        "!mkdir /content/extra/other"
      ],
      "metadata": {
        "id": "-PiFchiUlhhX"
      },
      "execution_count": 107,
      "outputs": []
    },
    {
      "cell_type": "code",
      "source": [
        "filetomove = \"/content/image/content/exports/planet_utm4_2018/.ipynb_checkpoints\"\n",
        "\n",
        "destination = \"/content/extra/other\"\n",
        "\n",
        "shutil.move(filetomove, destination)"
      ],
      "metadata": {
        "colab": {
          "base_uri": "https://localhost:8080/",
          "height": 35
        },
        "id": "_kW8B2Q3hPp-",
        "outputId": "37cf4dad-1c0a-4eb2-fe71-bcedf6f30f31"
      },
      "execution_count": 108,
      "outputs": [
        {
          "output_type": "execute_result",
          "data": {
            "text/plain": [
              "'/content/extra/other/.ipynb_checkpoints'"
            ],
            "application/vnd.google.colaboratory.intrinsic+json": {
              "type": "string"
            }
          },
          "metadata": {},
          "execution_count": 108
        }
      ]
    },
    {
      "cell_type": "code",
      "source": [
        "# original images and labels folder: how many files are there?\n",
        "iamges = '/content/image/content/exports/planet_utm4_2018'\n",
        "image_folder_one = os.listdir(iamges)\n",
        "image_folder_one_count = len(image_folder_one)\n",
        "print(f'The number of files in the folder is: {image_folder_one_count}')\n",
        "\n",
        "\n",
        "iamges_two = '/content/image/content/exports/planet_utm4_2019'\n",
        "image_folder_two = os.listdir(iamges_two)\n",
        "image_folder_two_count = len(image_folder_two)\n",
        "print(f'The number of files in the folder is: {image_folder_two_count}')\n",
        "\n",
        "\n",
        "iamges_three = '/content/image/content/exports/planet_utm4_2020'\n",
        "image_folder_three = os.listdir(iamges_three)\n",
        "image_folder_three_count = len(image_folder_three)\n",
        "print(f'The number of files in the folder is: {image_folder_three_count}')\n"
      ],
      "metadata": {
        "colab": {
          "base_uri": "https://localhost:8080/"
        },
        "id": "pyaxRsEDlvxJ",
        "outputId": "d70f081a-3b24-474a-9fc7-af8431af12e1"
      },
      "execution_count": 109,
      "outputs": [
        {
          "output_type": "stream",
          "name": "stdout",
          "text": [
            "The number of files in the folder is: 2629\n",
            "The number of files in the folder is: 2629\n",
            "The number of files in the folder is: 2629\n"
          ]
        }
      ]
    },
    {
      "cell_type": "code",
      "source": [
        "heit woi9 ru392q ''"
      ],
      "metadata": {
        "colab": {
          "base_uri": "https://localhost:8080/",
          "height": 106
        },
        "id": "7tAafPBhoEiE",
        "outputId": "b8ab15b1-5032-4401-ed7a-9493797e2546"
      },
      "execution_count": 110,
      "outputs": [
        {
          "output_type": "error",
          "ename": "SyntaxError",
          "evalue": "invalid syntax (<ipython-input-110-026ab5125b14>, line 1)",
          "traceback": [
            "\u001b[0;36m  File \u001b[0;32m\"<ipython-input-110-026ab5125b14>\"\u001b[0;36m, line \u001b[0;32m1\u001b[0m\n\u001b[0;31m    heit woi9 ru392q ''\u001b[0m\n\u001b[0m         ^\u001b[0m\n\u001b[0;31mSyntaxError\u001b[0m\u001b[0;31m:\u001b[0m invalid syntax\n"
          ]
        }
      ]
    }
  ]
}