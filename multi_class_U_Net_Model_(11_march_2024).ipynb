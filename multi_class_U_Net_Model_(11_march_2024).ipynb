{
  "nbformat": 4,
  "nbformat_minor": 0,
  "metadata": {
    "colab": {
      "provenance": [],
      "machine_shape": "hm",
      "gpuType": "T4",
      "authorship_tag": "ABX9TyMAGKpBvmgGwitXpc0dEaBP",
      "include_colab_link": true
    },
    "kernelspec": {
      "name": "python3",
      "display_name": "Python 3"
    },
    "language_info": {
      "name": "python"
    },
    "accelerator": "GPU"
  },
  "cells": [
    {
      "cell_type": "markdown",
      "metadata": {
        "id": "view-in-github",
        "colab_type": "text"
      },
      "source": [
        "<a href=\"https://colab.research.google.com/github/MadmanMarble/MadmanMarble/blob/main/multi_class_U_Net_Model_(11_march_2024).ipynb\" target=\"_parent\"><img src=\"https://colab.research.google.com/assets/colab-badge.svg\" alt=\"Open In Colab\"/></a>"
      ]
    },
    {
      "cell_type": "code",
      "source": [
        "from google.colab import drive\n",
        "drive.mount('/content/drive')"
      ],
      "metadata": {
        "colab": {
          "base_uri": "https://localhost:8080/"
        },
        "id": "LUIKBFlw6I9x",
        "outputId": "f2ee5ab5-83ad-4417-a2cf-508a56f60ed9"
      },
      "execution_count": 1,
      "outputs": [
        {
          "output_type": "stream",
          "name": "stdout",
          "text": [
            "Mounted at /content/drive\n"
          ]
        }
      ]
    },
    {
      "cell_type": "code",
      "source": [
        "# multi-class u-net model\n",
        "\n",
        "from keras.models import Model\n",
        "from keras.layers import Input, Conv2D, MaxPooling2D, UpSampling2D, concatenate, Conv2DTranspose, BatchNormalization, Dropout, Lambda\n",
        "from keras.utils import normalize\n",
        "import os\n",
        "import glob\n",
        "import cv2\n",
        "import numpy as np\n",
        "from matplotlib import pyplot as plt"
      ],
      "metadata": {
        "id": "8yJFp5hE5TqQ"
      },
      "execution_count": 2,
      "outputs": []
    },
    {
      "cell_type": "code",
      "source": [
        "pip install rasterio\n"
      ],
      "metadata": {
        "colab": {
          "base_uri": "https://localhost:8080/"
        },
        "id": "8UMP0jpjCOl7",
        "outputId": "51568e0c-7a58-407b-e2d0-38cd0e372209"
      },
      "execution_count": 3,
      "outputs": [
        {
          "output_type": "stream",
          "name": "stdout",
          "text": [
            "Collecting rasterio\n",
            "  Downloading rasterio-1.3.10-cp310-cp310-manylinux2014_x86_64.whl (21.5 MB)\n",
            "\u001b[?25l     \u001b[90m━━━━━━━━━━━━━━━━━━━━━━━━━━━━━━━━━━━━━━━━\u001b[0m \u001b[32m0.0/21.5 MB\u001b[0m \u001b[31m?\u001b[0m eta \u001b[36m-:--:--\u001b[0m\r\u001b[2K     \u001b[90m━━━━━━━━━━━━━━━━━━━━━━━━━━━━━━━━━━━━━━━━\u001b[0m \u001b[32m0.1/21.5 MB\u001b[0m \u001b[31m3.4 MB/s\u001b[0m eta \u001b[36m0:00:07\u001b[0m\r\u001b[2K     \u001b[91m╸\u001b[0m\u001b[90m━━━━━━━━━━━━━━━━━━━━━━━━━━━━━━━━━━━━━━━\u001b[0m \u001b[32m0.4/21.5 MB\u001b[0m \u001b[31m5.6 MB/s\u001b[0m eta \u001b[36m0:00:04\u001b[0m\r\u001b[2K     \u001b[91m━\u001b[0m\u001b[90m╺\u001b[0m\u001b[90m━━━━━━━━━━━━━━━━━━━━━━━━━━━━━━━━━━━━━━\u001b[0m \u001b[32m0.7/21.5 MB\u001b[0m \u001b[31m6.5 MB/s\u001b[0m eta \u001b[36m0:00:04\u001b[0m\r\u001b[2K     \u001b[91m━\u001b[0m\u001b[91m╸\u001b[0m\u001b[90m━━━━━━━━━━━━━━━━━━━━━━━━━━━━━━━━━━━━━━\u001b[0m \u001b[32m1.0/21.5 MB\u001b[0m \u001b[31m7.5 MB/s\u001b[0m eta \u001b[36m0:00:03\u001b[0m\r\u001b[2K     \u001b[91m━━\u001b[0m\u001b[91m╸\u001b[0m\u001b[90m━━━━━━━━━━━━━━━━━━━━━━━━━━━━━━━━━━━━━\u001b[0m \u001b[32m1.4/21.5 MB\u001b[0m \u001b[31m8.2 MB/s\u001b[0m eta \u001b[36m0:00:03\u001b[0m\r\u001b[2K     \u001b[91m━━━\u001b[0m\u001b[91m╸\u001b[0m\u001b[90m━━━━━━━━━━━━━━━━━━━━━━━━━━━━━━━━━━━━\u001b[0m \u001b[32m1.9/21.5 MB\u001b[0m \u001b[31m9.1 MB/s\u001b[0m eta \u001b[36m0:00:03\u001b[0m\r\u001b[2K     \u001b[91m━━━━\u001b[0m\u001b[91m╸\u001b[0m\u001b[90m━━━━━━━━━━━━━━━━━━━━━━━━━━━━━━━━━━━\u001b[0m \u001b[32m2.4/21.5 MB\u001b[0m \u001b[31m10.0 MB/s\u001b[0m eta \u001b[36m0:00:02\u001b[0m\r\u001b[2K     \u001b[91m━━━━━\u001b[0m\u001b[91m╸\u001b[0m\u001b[90m━━━━━━━━━━━━━━━━━━━━━━━━━━━━━━━━━━\u001b[0m \u001b[32m3.1/21.5 MB\u001b[0m \u001b[31m11.0 MB/s\u001b[0m eta \u001b[36m0:00:02\u001b[0m\r\u001b[2K     \u001b[91m━━━━━━━\u001b[0m\u001b[90m╺\u001b[0m\u001b[90m━━━━━━━━━━━━━━━━━━━━━━━━━━━━━━━━\u001b[0m \u001b[32m3.8/21.5 MB\u001b[0m \u001b[31m12.1 MB/s\u001b[0m eta \u001b[36m0:00:02\u001b[0m\r\u001b[2K     \u001b[91m━━━━━━━━\u001b[0m\u001b[91m╸\u001b[0m\u001b[90m━━━━━━━━━━━━━━━━━━━━━━━━━━━━━━━\u001b[0m \u001b[32m4.7/21.5 MB\u001b[0m \u001b[31m13.4 MB/s\u001b[0m eta \u001b[36m0:00:02\u001b[0m\r\u001b[2K     \u001b[91m━━━━━━━━━━\u001b[0m\u001b[90m╺\u001b[0m\u001b[90m━━━━━━━━━━━━━━━━━━━━━━━━━━━━━\u001b[0m \u001b[32m5.6/21.5 MB\u001b[0m \u001b[31m14.7 MB/s\u001b[0m eta \u001b[36m0:00:02\u001b[0m\r\u001b[2K     \u001b[91m━━━━━━━━━━━━\u001b[0m\u001b[91m╸\u001b[0m\u001b[90m━━━━━━━━━━━━━━━━━━━━━━━━━━━\u001b[0m \u001b[32m6.8/21.5 MB\u001b[0m \u001b[31m16.2 MB/s\u001b[0m eta \u001b[36m0:00:01\u001b[0m\r\u001b[2K     \u001b[91m━━━━━━━━━━━━━━━\u001b[0m\u001b[90m╺\u001b[0m\u001b[90m━━━━━━━━━━━━━━━━━━━━━━━━\u001b[0m \u001b[32m8.1/21.5 MB\u001b[0m \u001b[31m17.9 MB/s\u001b[0m eta \u001b[36m0:00:01\u001b[0m\r\u001b[2K     \u001b[91m━━━━━━━━━━━━━━━━━━\u001b[0m\u001b[90m╺\u001b[0m\u001b[90m━━━━━━━━━━━━━━━━━━━━━\u001b[0m \u001b[32m9.7/21.5 MB\u001b[0m \u001b[31m19.9 MB/s\u001b[0m eta \u001b[36m0:00:01\u001b[0m\r\u001b[2K     \u001b[91m━━━━━━━━━━━━━━━━━━━━━\u001b[0m\u001b[91m╸\u001b[0m\u001b[90m━━━━━━━━━━━━━━━━━━\u001b[0m \u001b[32m11.6/21.5 MB\u001b[0m \u001b[31m28.8 MB/s\u001b[0m eta \u001b[36m0:00:01\u001b[0m\r\u001b[2K     \u001b[91m━━━━━━━━━━━━━━━━━━━━━━━━━\u001b[0m\u001b[91m╸\u001b[0m\u001b[90m━━━━━━━━━━━━━━\u001b[0m \u001b[32m13.8/21.5 MB\u001b[0m \u001b[31m39.5 MB/s\u001b[0m eta \u001b[36m0:00:01\u001b[0m\r\u001b[2K     \u001b[91m━━━━━━━━━━━━━━━━━━━━━━━━━━━━━━\u001b[0m\u001b[90m╺\u001b[0m\u001b[90m━━━━━━━━━\u001b[0m \u001b[32m16.3/21.5 MB\u001b[0m \u001b[31m51.4 MB/s\u001b[0m eta \u001b[36m0:00:01\u001b[0m\r\u001b[2K     \u001b[91m━━━━━━━━━━━━━━━━━━━━━━━━━━━━━━━━━━━\u001b[0m\u001b[91m╸\u001b[0m\u001b[90m━━━━\u001b[0m \u001b[32m19.1/21.5 MB\u001b[0m \u001b[31m64.1 MB/s\u001b[0m eta \u001b[36m0:00:01\u001b[0m\r\u001b[2K     \u001b[91m━━━━━━━━━━━━━━━━━━━━━━━━━━━━━━━━━━━━━━━\u001b[0m\u001b[91m╸\u001b[0m \u001b[32m21.5/21.5 MB\u001b[0m \u001b[31m74.4 MB/s\u001b[0m eta \u001b[36m0:00:01\u001b[0m\r\u001b[2K     \u001b[91m━━━━━━━━━━━━━━━━━━━━━━━━━━━━━━━━━━━━━━━\u001b[0m\u001b[91m╸\u001b[0m \u001b[32m21.5/21.5 MB\u001b[0m \u001b[31m74.4 MB/s\u001b[0m eta \u001b[36m0:00:01\u001b[0m\r\u001b[2K     \u001b[91m━━━━━━━━━━━━━━━━━━━━━━━━━━━━━━━━━━━━━━━\u001b[0m\u001b[91m╸\u001b[0m \u001b[32m21.5/21.5 MB\u001b[0m \u001b[31m74.4 MB/s\u001b[0m eta \u001b[36m0:00:01\u001b[0m\r\u001b[2K     \u001b[90m━━━━━━━━━━━━━━━━━━━━━━━━━━━━━━━━━━━━━━━━\u001b[0m \u001b[32m21.5/21.5 MB\u001b[0m \u001b[31m43.5 MB/s\u001b[0m eta \u001b[36m0:00:00\u001b[0m\n",
            "\u001b[?25hCollecting affine (from rasterio)\n",
            "  Downloading affine-2.4.0-py3-none-any.whl (15 kB)\n",
            "Requirement already satisfied: attrs in /usr/local/lib/python3.10/dist-packages (from rasterio) (23.2.0)\n",
            "Requirement already satisfied: certifi in /usr/local/lib/python3.10/dist-packages (from rasterio) (2024.2.2)\n",
            "Requirement already satisfied: click>=4.0 in /usr/local/lib/python3.10/dist-packages (from rasterio) (8.1.7)\n",
            "Requirement already satisfied: cligj>=0.5 in /usr/local/lib/python3.10/dist-packages (from rasterio) (0.7.2)\n",
            "Requirement already satisfied: numpy in /usr/local/lib/python3.10/dist-packages (from rasterio) (1.25.2)\n",
            "Collecting snuggs>=1.4.1 (from rasterio)\n",
            "  Downloading snuggs-1.4.7-py3-none-any.whl (5.4 kB)\n",
            "Requirement already satisfied: click-plugins in /usr/local/lib/python3.10/dist-packages (from rasterio) (1.1.1)\n",
            "Requirement already satisfied: setuptools in /usr/local/lib/python3.10/dist-packages (from rasterio) (67.7.2)\n",
            "Requirement already satisfied: pyparsing>=2.1.6 in /usr/local/lib/python3.10/dist-packages (from snuggs>=1.4.1->rasterio) (3.1.2)\n",
            "Installing collected packages: snuggs, affine, rasterio\n",
            "Successfully installed affine-2.4.0 rasterio-1.3.10 snuggs-1.4.7\n"
          ]
        }
      ]
    },
    {
      "cell_type": "code",
      "source": [
        "import rasterio"
      ],
      "metadata": {
        "id": "zIoNIbnZCSbL"
      },
      "execution_count": 4,
      "outputs": []
    },
    {
      "cell_type": "code",
      "source": [
        "from tensorflow.keras.optimizers import Adam\n",
        "import numpy as np\n",
        "import cv2\n",
        "import os\n",
        "from tensorflow.keras.utils import Sequence\n",
        "from tensorflow.keras.callbacks import Callback\n",
        "import rasterio\n",
        "import tensorflow as tf\n",
        "from tensorflow.keras.models import load_model"
      ],
      "metadata": {
        "id": "M1i19bNB_51z"
      },
      "execution_count": 66,
      "outputs": []
    },
    {
      "cell_type": "code",
      "source": [
        "from sklearn.model_selection import train_test_split\n",
        "import shutil"
      ],
      "metadata": {
        "id": "VPCAjWgNs2J0"
      },
      "execution_count": 5,
      "outputs": []
    },
    {
      "cell_type": "markdown",
      "source": [
        "OneYear data loading"
      ],
      "metadata": {
        "id": "uxOmlQOlJ_Js"
      }
    },
    {
      "cell_type": "code",
      "source": [
        "directory_path = \"/content/drive/MyDrive/data/images/x_training/1year\"\n",
        "entries = os.listdir(directory_path)\n",
        "num_files = len(entries)\n",
        "print(f\"There are {num_files} files in {directory_path}.\")"
      ],
      "metadata": {
        "colab": {
          "base_uri": "https://localhost:8080/"
        },
        "id": "pSXuiuHUF0ac",
        "outputId": "1af94397-aca5-42b3-b7ef-8f67b3aa126a"
      },
      "execution_count": 6,
      "outputs": [
        {
          "output_type": "stream",
          "name": "stdout",
          "text": [
            "There are 199 files in /content/drive/MyDrive/data/images/x_training/3year.\n"
          ]
        }
      ]
    },
    {
      "cell_type": "code",
      "source": [
        "directory_path = \"/content/drive/MyDrive/data/labels/y_training\"\n",
        "entries = os.listdir(directory_path)\n",
        "num_files = len(entries)\n",
        "print(f\"There are {num_files} files in {directory_path}.\")"
      ],
      "metadata": {
        "colab": {
          "base_uri": "https://localhost:8080/"
        },
        "id": "_SzVVY3cF3H_",
        "outputId": "d27896f5-dd52-42f2-ea3b-a4b4292f5f7b"
      },
      "execution_count": 7,
      "outputs": [
        {
          "output_type": "stream",
          "name": "stdout",
          "text": [
            "There are 199 files in /content/drive/MyDrive/data/labels/y_training.\n"
          ]
        }
      ]
    },
    {
      "cell_type": "code",
      "source": [
        "# Ensure the lists are sorted so that images and labels correspond to each other\n",
        "x_training = sorted(glob.glob(f\"/content/drive/MyDrive/data/images/x_training/3year/*.tif\"))\n",
        "y_training = sorted(glob.glob(f\"/content/drive/MyDrive/data/labels/y_training/*.tif\"))\n",
        "\n",
        "# Split the file paths into training and testing sets (80% train, 20% test)\n",
        "x_train, x_test, y_train, y_test = train_test_split(x_training, y_training, test_size=0.2, random_state=16)"
      ],
      "metadata": {
        "id": "GTkdYTSBPAdL"
      },
      "execution_count": 165,
      "outputs": []
    },
    {
      "cell_type": "code",
      "source": [
        "# N = 50\n",
        "# nu = 5\n",
        "\n",
        "# random_train_indices = np.random.choice(len(x_train), N, replace=False)\n",
        "# random_test_indices = np.random.choice(len(x_test), nu, replace=False)\n",
        "\n",
        "# # Subset the data using these random indices\n",
        "# subset_x_train = [x_train[i] for i in random_train_indices]\n",
        "# subset_y_train = [y_train[i] for i in random_train_indices]\n",
        "# subset_x_test = [x_test[i] for i in random_test_indices]\n",
        "# subset_y_test = [y_test[i] for i in random_test_indices]"
      ],
      "metadata": {
        "id": "NEIOfGiy_nj0"
      },
      "execution_count": 12,
      "outputs": []
    },
    {
      "cell_type": "code",
      "source": [
        "destination = '/content/y_test'\n",
        "os.makedirs(destination, exist_ok=True)\n",
        "for file in y_test:\n",
        "    dest_file = os.path.join(destination, os.path.basename(file))\n",
        "    shutil.copy(file, dest_file)\n",
        "    print(f'Copied {file} to {dest_file}')\n",
        "directory_path = \"/content/y_test\"\n",
        "entries = os.listdir(directory_path)\n",
        "num_files = len(entries)\n",
        "print(f\"There are {num_files} files in {directory_path}.\")"
      ],
      "metadata": {
        "colab": {
          "base_uri": "https://localhost:8080/"
        },
        "id": "iApU1p_tGPzn",
        "outputId": "d6249826-5ec1-4168-9181-baead87b1090"
      },
      "execution_count": 166,
      "outputs": [
        {
          "output_type": "stream",
          "name": "stdout",
          "text": [
            "Copied /content/drive/MyDrive/data/labels/y_training/793_multi_wl.tif to /content/y_test/793_multi_wl.tif\n",
            "Copied /content/drive/MyDrive/data/labels/y_training/111_multi_wl.tif to /content/y_test/111_multi_wl.tif\n",
            "Copied /content/drive/MyDrive/data/labels/y_training/827_multi_wl.tif to /content/y_test/827_multi_wl.tif\n",
            "Copied /content/drive/MyDrive/data/labels/y_training/1577_multi_wl.tif to /content/y_test/1577_multi_wl.tif\n",
            "Copied /content/drive/MyDrive/data/labels/y_training/298_multi_wl.tif to /content/y_test/298_multi_wl.tif\n",
            "Copied /content/drive/MyDrive/data/labels/y_training/810_multi_wl.tif to /content/y_test/810_multi_wl.tif\n",
            "Copied /content/drive/MyDrive/data/labels/y_training/1612_multi_wl.tif to /content/y_test/1612_multi_wl.tif\n",
            "Copied /content/drive/MyDrive/data/labels/y_training/142_multi_wl.tif to /content/y_test/142_multi_wl.tif\n",
            "Copied /content/drive/MyDrive/data/labels/y_training/1520_multi_wl.tif to /content/y_test/1520_multi_wl.tif\n",
            "Copied /content/drive/MyDrive/data/labels/y_training/1529_multi_wl.tif to /content/y_test/1529_multi_wl.tif\n",
            "Copied /content/drive/MyDrive/data/labels/y_training/204_multi_wl.tif to /content/y_test/204_multi_wl.tif\n",
            "Copied /content/drive/MyDrive/data/labels/y_training/221_multi_wl.tif to /content/y_test/221_multi_wl.tif\n",
            "Copied /content/drive/MyDrive/data/labels/y_training/1563_multi_wl.tif to /content/y_test/1563_multi_wl.tif\n",
            "Copied /content/drive/MyDrive/data/labels/y_training/760_multi_wl.tif to /content/y_test/760_multi_wl.tif\n",
            "Copied /content/drive/MyDrive/data/labels/y_training/1565_multi_wl.tif to /content/y_test/1565_multi_wl.tif\n",
            "Copied /content/drive/MyDrive/data/labels/y_training/173_multi_wl.tif to /content/y_test/173_multi_wl.tif\n",
            "Copied /content/drive/MyDrive/data/labels/y_training/1611_multi_wl.tif to /content/y_test/1611_multi_wl.tif\n",
            "Copied /content/drive/MyDrive/data/labels/y_training/849_multi_wl.tif to /content/y_test/849_multi_wl.tif\n",
            "Copied /content/drive/MyDrive/data/labels/y_training/155_multi_wl.tif to /content/y_test/155_multi_wl.tif\n",
            "Copied /content/drive/MyDrive/data/labels/y_training/235_multi_wl.tif to /content/y_test/235_multi_wl.tif\n",
            "Copied /content/drive/MyDrive/data/labels/y_training/171_multi_wl.tif to /content/y_test/171_multi_wl.tif\n",
            "Copied /content/drive/MyDrive/data/labels/y_training/824_multi_wl.tif to /content/y_test/824_multi_wl.tif\n",
            "Copied /content/drive/MyDrive/data/labels/y_training/301_multi_wl.tif to /content/y_test/301_multi_wl.tif\n",
            "Copied /content/drive/MyDrive/data/labels/y_training/316_multi_wl.tif to /content/y_test/316_multi_wl.tif\n",
            "Copied /content/drive/MyDrive/data/labels/y_training/1550_multi_wl.tif to /content/y_test/1550_multi_wl.tif\n",
            "Copied /content/drive/MyDrive/data/labels/y_training/1561_multi_wl.tif to /content/y_test/1561_multi_wl.tif\n",
            "Copied /content/drive/MyDrive/data/labels/y_training/841_multi_wl.tif to /content/y_test/841_multi_wl.tif\n",
            "Copied /content/drive/MyDrive/data/labels/y_training/1537_multi_wl.tif to /content/y_test/1537_multi_wl.tif\n",
            "Copied /content/drive/MyDrive/data/labels/y_training/761_multi_wl.tif to /content/y_test/761_multi_wl.tif\n",
            "Copied /content/drive/MyDrive/data/labels/y_training/266_multi_wl.tif to /content/y_test/266_multi_wl.tif\n",
            "Copied /content/drive/MyDrive/data/labels/y_training/879_multi_wl.tif to /content/y_test/879_multi_wl.tif\n",
            "Copied /content/drive/MyDrive/data/labels/y_training/1498_multi_wl.tif to /content/y_test/1498_multi_wl.tif\n",
            "Copied /content/drive/MyDrive/data/labels/y_training/1610_multi_wl.tif to /content/y_test/1610_multi_wl.tif\n",
            "Copied /content/drive/MyDrive/data/labels/y_training/234_multi_wl.tif to /content/y_test/234_multi_wl.tif\n",
            "Copied /content/drive/MyDrive/data/labels/y_training/792_multi_wl.tif to /content/y_test/792_multi_wl.tif\n",
            "Copied /content/drive/MyDrive/data/labels/y_training/797_multi_wl.tif to /content/y_test/797_multi_wl.tif\n",
            "Copied /content/drive/MyDrive/data/labels/y_training/1465_multi_wl.tif to /content/y_test/1465_multi_wl.tif\n",
            "Copied /content/drive/MyDrive/data/labels/y_training/777_multi_wl.tif to /content/y_test/777_multi_wl.tif\n",
            "Copied /content/drive/MyDrive/data/labels/y_training/794_multi_wl.tif to /content/y_test/794_multi_wl.tif\n",
            "Copied /content/drive/MyDrive/data/labels/y_training/786_multi_wl.tif to /content/y_test/786_multi_wl.tif\n",
            "There are 40 files in /content/y_test.\n"
          ]
        }
      ]
    },
    {
      "cell_type": "code",
      "source": [
        "destination = '/content/y_train'\n",
        "os.makedirs(destination, exist_ok=True)\n",
        "for file in y_train:\n",
        "    dest_file = os.path.join(destination, os.path.basename(file))\n",
        "    shutil.copy(file, dest_file)\n",
        "    print(f'Copied {file} to {dest_file}')\n",
        "directory_path = \"/content/y_train\"\n",
        "entries = os.listdir(directory_path)\n",
        "num_files = len(entries)\n",
        "print(f\"There are {num_files} files in {directory_path}.\")"
      ],
      "metadata": {
        "colab": {
          "base_uri": "https://localhost:8080/"
        },
        "id": "NBMX52z6G364",
        "outputId": "b1a6a994-cc3e-41ac-b3ae-1b9150d5cf13"
      },
      "execution_count": 167,
      "outputs": [
        {
          "output_type": "stream",
          "name": "stdout",
          "text": [
            "Copied /content/drive/MyDrive/data/labels/y_training/1548_multi_wl.tif to /content/y_train/1548_multi_wl.tif\n",
            "Copied /content/drive/MyDrive/data/labels/y_training/758_multi_wl.tif to /content/y_train/758_multi_wl.tif\n",
            "Copied /content/drive/MyDrive/data/labels/y_training/831_multi_wl.tif to /content/y_train/831_multi_wl.tif\n",
            "Copied /content/drive/MyDrive/data/labels/y_training/252_multi_wl.tif to /content/y_train/252_multi_wl.tif\n",
            "Copied /content/drive/MyDrive/data/labels/y_training/779_multi_wl.tif to /content/y_train/779_multi_wl.tif\n",
            "Copied /content/drive/MyDrive/data/labels/y_training/865_multi_wl.tif to /content/y_train/865_multi_wl.tif\n",
            "Copied /content/drive/MyDrive/data/labels/y_training/174_multi_wl.tif to /content/y_train/174_multi_wl.tif\n",
            "Copied /content/drive/MyDrive/data/labels/y_training/97_multi_wl.tif to /content/y_train/97_multi_wl.tif\n",
            "Copied /content/drive/MyDrive/data/labels/y_training/1499_multi_wl.tif to /content/y_train/1499_multi_wl.tif\n",
            "Copied /content/drive/MyDrive/data/labels/y_training/812_multi_wl.tif to /content/y_train/812_multi_wl.tif\n",
            "Copied /content/drive/MyDrive/data/labels/y_training/185_multi_wl.tif to /content/y_train/185_multi_wl.tif\n",
            "Copied /content/drive/MyDrive/data/labels/y_training/759_multi_wl.tif to /content/y_train/759_multi_wl.tif\n",
            "Copied /content/drive/MyDrive/data/labels/y_training/1579_multi_wl.tif to /content/y_train/1579_multi_wl.tif\n",
            "Copied /content/drive/MyDrive/data/labels/y_training/169_multi_wl.tif to /content/y_train/169_multi_wl.tif\n",
            "Copied /content/drive/MyDrive/data/labels/y_training/842_multi_wl.tif to /content/y_train/842_multi_wl.tif\n",
            "Copied /content/drive/MyDrive/data/labels/y_training/1551_multi_wl.tif to /content/y_train/1551_multi_wl.tif\n",
            "Copied /content/drive/MyDrive/data/labels/y_training/250_multi_wl.tif to /content/y_train/250_multi_wl.tif\n",
            "Copied /content/drive/MyDrive/data/labels/y_training/1481_multi_wl.tif to /content/y_train/1481_multi_wl.tif\n",
            "Copied /content/drive/MyDrive/data/labels/y_training/1562_multi_wl.tif to /content/y_train/1562_multi_wl.tif\n",
            "Copied /content/drive/MyDrive/data/labels/y_training/113_multi_wl.tif to /content/y_train/113_multi_wl.tif\n",
            "Copied /content/drive/MyDrive/data/labels/y_training/1545_multi_wl.tif to /content/y_train/1545_multi_wl.tif\n",
            "Copied /content/drive/MyDrive/data/labels/y_training/112_multi_wl.tif to /content/y_train/112_multi_wl.tif\n",
            "Copied /content/drive/MyDrive/data/labels/y_training/1578_multi_wl.tif to /content/y_train/1578_multi_wl.tif\n",
            "Copied /content/drive/MyDrive/data/labels/y_training/861_multi_wl.tif to /content/y_train/861_multi_wl.tif\n",
            "Copied /content/drive/MyDrive/data/labels/y_training/189_multi_wl.tif to /content/y_train/189_multi_wl.tif\n",
            "Copied /content/drive/MyDrive/data/labels/y_training/315_multi_wl.tif to /content/y_train/315_multi_wl.tif\n",
            "Copied /content/drive/MyDrive/data/labels/y_training/796_multi_wl.tif to /content/y_train/796_multi_wl.tif\n",
            "Copied /content/drive/MyDrive/data/labels/y_training/722_multi_wl.tif to /content/y_train/722_multi_wl.tif\n",
            "Copied /content/drive/MyDrive/data/labels/y_training/741_multi_wl.tif to /content/y_train/741_multi_wl.tif\n",
            "Copied /content/drive/MyDrive/data/labels/y_training/1594_multi_wl.tif to /content/y_train/1594_multi_wl.tif\n",
            "Copied /content/drive/MyDrive/data/labels/y_training/840_multi_wl.tif to /content/y_train/840_multi_wl.tif\n",
            "Copied /content/drive/MyDrive/data/labels/y_training/795_multi_wl.tif to /content/y_train/795_multi_wl.tif\n",
            "Copied /content/drive/MyDrive/data/labels/y_training/1514_multi_wl.tif to /content/y_train/1514_multi_wl.tif\n",
            "Copied /content/drive/MyDrive/data/labels/y_training/830_multi_wl.tif to /content/y_train/830_multi_wl.tif\n",
            "Copied /content/drive/MyDrive/data/labels/y_training/170_multi_wl.tif to /content/y_train/170_multi_wl.tif\n",
            "Copied /content/drive/MyDrive/data/labels/y_training/1533_multi_wl.tif to /content/y_train/1533_multi_wl.tif\n",
            "Copied /content/drive/MyDrive/data/labels/y_training/866_multi_wl.tif to /content/y_train/866_multi_wl.tif\n",
            "Copied /content/drive/MyDrive/data/labels/y_training/1483_multi_wl.tif to /content/y_train/1483_multi_wl.tif\n",
            "Copied /content/drive/MyDrive/data/labels/y_training/1581_multi_wl.tif to /content/y_train/1581_multi_wl.tif\n",
            "Copied /content/drive/MyDrive/data/labels/y_training/140_multi_wl.tif to /content/y_train/140_multi_wl.tif\n",
            "Copied /content/drive/MyDrive/data/labels/y_training/1629_multi_wl.tif to /content/y_train/1629_multi_wl.tif\n",
            "Copied /content/drive/MyDrive/data/labels/y_training/160_multi_wl.tif to /content/y_train/160_multi_wl.tif\n",
            "Copied /content/drive/MyDrive/data/labels/y_training/762_multi_wl.tif to /content/y_train/762_multi_wl.tif\n",
            "Copied /content/drive/MyDrive/data/labels/y_training/1564_multi_wl.tif to /content/y_train/1564_multi_wl.tif\n",
            "Copied /content/drive/MyDrive/data/labels/y_training/1555_multi_wl.tif to /content/y_train/1555_multi_wl.tif\n",
            "Copied /content/drive/MyDrive/data/labels/y_training/775_multi_wl.tif to /content/y_train/775_multi_wl.tif\n",
            "Copied /content/drive/MyDrive/data/labels/y_training/219_multi_wl.tif to /content/y_train/219_multi_wl.tif\n",
            "Copied /content/drive/MyDrive/data/labels/y_training/220_multi_wl.tif to /content/y_train/220_multi_wl.tif\n",
            "Copied /content/drive/MyDrive/data/labels/y_training/251_multi_wl.tif to /content/y_train/251_multi_wl.tif\n",
            "Copied /content/drive/MyDrive/data/labels/y_training/790_multi_wl.tif to /content/y_train/790_multi_wl.tif\n",
            "Copied /content/drive/MyDrive/data/labels/y_training/1595_multi_wl.tif to /content/y_train/1595_multi_wl.tif\n",
            "Copied /content/drive/MyDrive/data/labels/y_training/725_multi_wl.tif to /content/y_train/725_multi_wl.tif\n",
            "Copied /content/drive/MyDrive/data/labels/y_training/843_multi_wl.tif to /content/y_train/843_multi_wl.tif\n",
            "Copied /content/drive/MyDrive/data/labels/y_training/882_multi_wl.tif to /content/y_train/882_multi_wl.tif\n",
            "Copied /content/drive/MyDrive/data/labels/y_training/1554_multi_wl.tif to /content/y_train/1554_multi_wl.tif\n",
            "Copied /content/drive/MyDrive/data/labels/y_training/825_multi_wl.tif to /content/y_train/825_multi_wl.tif\n",
            "Copied /content/drive/MyDrive/data/labels/y_training/1645_multi_wl.tif to /content/y_train/1645_multi_wl.tif\n",
            "Copied /content/drive/MyDrive/data/labels/y_training/774_multi_wl.tif to /content/y_train/774_multi_wl.tif\n",
            "Copied /content/drive/MyDrive/data/labels/y_training/1532_multi_wl.tif to /content/y_train/1532_multi_wl.tif\n",
            "Copied /content/drive/MyDrive/data/labels/y_training/203_multi_wl.tif to /content/y_train/203_multi_wl.tif\n",
            "Copied /content/drive/MyDrive/data/labels/y_training/768_multi_wl.tif to /content/y_train/768_multi_wl.tif\n",
            "Copied /content/drive/MyDrive/data/labels/y_training/1513_multi_wl.tif to /content/y_train/1513_multi_wl.tif\n",
            "Copied /content/drive/MyDrive/data/labels/y_training/1466_multi_wl.tif to /content/y_train/1466_multi_wl.tif\n",
            "Copied /content/drive/MyDrive/data/labels/y_training/1546_multi_wl.tif to /content/y_train/1546_multi_wl.tif\n",
            "Copied /content/drive/MyDrive/data/labels/y_training/862_multi_wl.tif to /content/y_train/862_multi_wl.tif\n",
            "Copied /content/drive/MyDrive/data/labels/y_training/1521_multi_wl.tif to /content/y_train/1521_multi_wl.tif\n",
            "Copied /content/drive/MyDrive/data/labels/y_training/186_multi_wl.tif to /content/y_train/186_multi_wl.tif\n",
            "Copied /content/drive/MyDrive/data/labels/y_training/288_multi_wl.tif to /content/y_train/288_multi_wl.tif\n",
            "Copied /content/drive/MyDrive/data/labels/y_training/1491_multi_wl.tif to /content/y_train/1491_multi_wl.tif\n",
            "Copied /content/drive/MyDrive/data/labels/y_training/809_multi_wl.tif to /content/y_train/809_multi_wl.tif\n",
            "Copied /content/drive/MyDrive/data/labels/y_training/826_multi_wl.tif to /content/y_train/826_multi_wl.tif\n",
            "Copied /content/drive/MyDrive/data/labels/y_training/844_multi_wl.tif to /content/y_train/844_multi_wl.tif\n",
            "Copied /content/drive/MyDrive/data/labels/y_training/126_multi_wl.tif to /content/y_train/126_multi_wl.tif\n",
            "Copied /content/drive/MyDrive/data/labels/y_training/1596_multi_wl.tif to /content/y_train/1596_multi_wl.tif\n",
            "Copied /content/drive/MyDrive/data/labels/y_training/223_multi_wl.tif to /content/y_train/223_multi_wl.tif\n",
            "Copied /content/drive/MyDrive/data/labels/y_training/281_multi_wl.tif to /content/y_train/281_multi_wl.tif\n",
            "Copied /content/drive/MyDrive/data/labels/y_training/806_multi_wl.tif to /content/y_train/806_multi_wl.tif\n",
            "Copied /content/drive/MyDrive/data/labels/y_training/188_multi_wl.tif to /content/y_train/188_multi_wl.tif\n",
            "Copied /content/drive/MyDrive/data/labels/y_training/829_multi_wl.tif to /content/y_train/829_multi_wl.tif\n",
            "Copied /content/drive/MyDrive/data/labels/y_training/156_multi_wl.tif to /content/y_train/156_multi_wl.tif\n",
            "Copied /content/drive/MyDrive/data/labels/y_training/1531_multi_wl.tif to /content/y_train/1531_multi_wl.tif\n",
            "Copied /content/drive/MyDrive/data/labels/y_training/1536_multi_wl.tif to /content/y_train/1536_multi_wl.tif\n",
            "Copied /content/drive/MyDrive/data/labels/y_training/96_multi_wl.tif to /content/y_train/96_multi_wl.tif\n",
            "Copied /content/drive/MyDrive/data/labels/y_training/222_multi_wl.tif to /content/y_train/222_multi_wl.tif\n",
            "Copied /content/drive/MyDrive/data/labels/y_training/763_multi_wl.tif to /content/y_train/763_multi_wl.tif\n",
            "Copied /content/drive/MyDrive/data/labels/y_training/158_multi_wl.tif to /content/y_train/158_multi_wl.tif\n",
            "Copied /content/drive/MyDrive/data/labels/y_training/769_multi_wl.tif to /content/y_train/769_multi_wl.tif\n",
            "Copied /content/drive/MyDrive/data/labels/y_training/791_multi_wl.tif to /content/y_train/791_multi_wl.tif\n",
            "Copied /content/drive/MyDrive/data/labels/y_training/267_multi_wl.tif to /content/y_train/267_multi_wl.tif\n",
            "Copied /content/drive/MyDrive/data/labels/y_training/205_multi_wl.tif to /content/y_train/205_multi_wl.tif\n",
            "Copied /content/drive/MyDrive/data/labels/y_training/789_multi_wl.tif to /content/y_train/789_multi_wl.tif\n",
            "Copied /content/drive/MyDrive/data/labels/y_training/860_multi_wl.tif to /content/y_train/860_multi_wl.tif\n",
            "Copied /content/drive/MyDrive/data/labels/y_training/757_multi_wl.tif to /content/y_train/757_multi_wl.tif\n",
            "Copied /content/drive/MyDrive/data/labels/y_training/864_multi_wl.tif to /content/y_train/864_multi_wl.tif\n",
            "Copied /content/drive/MyDrive/data/labels/y_training/1534_multi_wl.tif to /content/y_train/1534_multi_wl.tif\n",
            "Copied /content/drive/MyDrive/data/labels/y_training/172_multi_wl.tif to /content/y_train/172_multi_wl.tif\n",
            "Copied /content/drive/MyDrive/data/labels/y_training/1515_multi_wl.tif to /content/y_train/1515_multi_wl.tif\n",
            "Copied /content/drive/MyDrive/data/labels/y_training/778_multi_wl.tif to /content/y_train/778_multi_wl.tif\n",
            "Copied /content/drive/MyDrive/data/labels/y_training/1505_multi_wl.tif to /content/y_train/1505_multi_wl.tif\n",
            "Copied /content/drive/MyDrive/data/labels/y_training/845_multi_wl.tif to /content/y_train/845_multi_wl.tif\n",
            "Copied /content/drive/MyDrive/data/labels/y_training/1506_multi_wl.tif to /content/y_train/1506_multi_wl.tif\n",
            "Copied /content/drive/MyDrive/data/labels/y_training/208_multi_wl.tif to /content/y_train/208_multi_wl.tif\n",
            "Copied /content/drive/MyDrive/data/labels/y_training/1580_multi_wl.tif to /content/y_train/1580_multi_wl.tif\n",
            "Copied /content/drive/MyDrive/data/labels/y_training/1507_multi_wl.tif to /content/y_train/1507_multi_wl.tif\n",
            "Copied /content/drive/MyDrive/data/labels/y_training/744_multi_wl.tif to /content/y_train/744_multi_wl.tif\n",
            "Copied /content/drive/MyDrive/data/labels/y_training/1482_multi_wl.tif to /content/y_train/1482_multi_wl.tif\n",
            "Copied /content/drive/MyDrive/data/labels/y_training/815_multi_wl.tif to /content/y_train/815_multi_wl.tif\n",
            "Copied /content/drive/MyDrive/data/labels/y_training/141_multi_wl.tif to /content/y_train/141_multi_wl.tif\n",
            "Copied /content/drive/MyDrive/data/labels/y_training/154_multi_wl.tif to /content/y_train/154_multi_wl.tif\n",
            "Copied /content/drive/MyDrive/data/labels/y_training/863_multi_wl.tif to /content/y_train/863_multi_wl.tif\n",
            "Copied /content/drive/MyDrive/data/labels/y_training/329_multi_wl.tif to /content/y_train/329_multi_wl.tif\n",
            "Copied /content/drive/MyDrive/data/labels/y_training/268_multi_wl.tif to /content/y_train/268_multi_wl.tif\n",
            "Copied /content/drive/MyDrive/data/labels/y_training/190_multi_wl.tif to /content/y_train/190_multi_wl.tif\n",
            "Copied /content/drive/MyDrive/data/labels/y_training/847_multi_wl.tif to /content/y_train/847_multi_wl.tif\n",
            "Copied /content/drive/MyDrive/data/labels/y_training/1547_multi_wl.tif to /content/y_train/1547_multi_wl.tif\n",
            "Copied /content/drive/MyDrive/data/labels/y_training/787_multi_wl.tif to /content/y_train/787_multi_wl.tif\n",
            "Copied /content/drive/MyDrive/data/labels/y_training/1497_multi_wl.tif to /content/y_train/1497_multi_wl.tif\n",
            "Copied /content/drive/MyDrive/data/labels/y_training/1504_multi_wl.tif to /content/y_train/1504_multi_wl.tif\n",
            "Copied /content/drive/MyDrive/data/labels/y_training/1490_multi_wl.tif to /content/y_train/1490_multi_wl.tif\n",
            "Copied /content/drive/MyDrive/data/labels/y_training/813_multi_wl.tif to /content/y_train/813_multi_wl.tif\n",
            "Copied /content/drive/MyDrive/data/labels/y_training/848_multi_wl.tif to /content/y_train/848_multi_wl.tif\n",
            "Copied /content/drive/MyDrive/data/labels/y_training/1489_multi_wl.tif to /content/y_train/1489_multi_wl.tif\n",
            "Copied /content/drive/MyDrive/data/labels/y_training/187_multi_wl.tif to /content/y_train/187_multi_wl.tif\n",
            "Copied /content/drive/MyDrive/data/labels/y_training/1535_multi_wl.tif to /content/y_train/1535_multi_wl.tif\n",
            "Copied /content/drive/MyDrive/data/labels/y_training/1488_multi_wl.tif to /content/y_train/1488_multi_wl.tif\n",
            "Copied /content/drive/MyDrive/data/labels/y_training/280_multi_wl.tif to /content/y_train/280_multi_wl.tif\n",
            "Copied /content/drive/MyDrive/data/labels/y_training/742_multi_wl.tif to /content/y_train/742_multi_wl.tif\n",
            "Copied /content/drive/MyDrive/data/labels/y_training/1538_multi_wl.tif to /content/y_train/1538_multi_wl.tif\n",
            "Copied /content/drive/MyDrive/data/labels/y_training/781_multi_wl.tif to /content/y_train/781_multi_wl.tif\n",
            "Copied /content/drive/MyDrive/data/labels/y_training/811_multi_wl.tif to /content/y_train/811_multi_wl.tif\n",
            "Copied /content/drive/MyDrive/data/labels/y_training/143_multi_wl.tif to /content/y_train/143_multi_wl.tif\n",
            "Copied /content/drive/MyDrive/data/labels/y_training/303_multi_wl.tif to /content/y_train/303_multi_wl.tif\n",
            "Copied /content/drive/MyDrive/data/labels/y_training/302_multi_wl.tif to /content/y_train/302_multi_wl.tif\n",
            "Copied /content/drive/MyDrive/data/labels/y_training/828_multi_wl.tif to /content/y_train/828_multi_wl.tif\n",
            "Copied /content/drive/MyDrive/data/labels/y_training/1517_multi_wl.tif to /content/y_train/1517_multi_wl.tif\n",
            "Copied /content/drive/MyDrive/data/labels/y_training/236_multi_wl.tif to /content/y_train/236_multi_wl.tif\n",
            "Copied /content/drive/MyDrive/data/labels/y_training/743_multi_wl.tif to /content/y_train/743_multi_wl.tif\n",
            "Copied /content/drive/MyDrive/data/labels/y_training/209_multi_wl.tif to /content/y_train/209_multi_wl.tif\n",
            "Copied /content/drive/MyDrive/data/labels/y_training/807_multi_wl.tif to /content/y_train/807_multi_wl.tif\n",
            "Copied /content/drive/MyDrive/data/labels/y_training/1628_multi_wl.tif to /content/y_train/1628_multi_wl.tif\n",
            "Copied /content/drive/MyDrive/data/labels/y_training/1523_multi_wl.tif to /content/y_train/1523_multi_wl.tif\n",
            "Copied /content/drive/MyDrive/data/labels/y_training/880_multi_wl.tif to /content/y_train/880_multi_wl.tif\n",
            "Copied /content/drive/MyDrive/data/labels/y_training/805_multi_wl.tif to /content/y_train/805_multi_wl.tif\n",
            "Copied /content/drive/MyDrive/data/labels/y_training/314_multi_wl.tif to /content/y_train/314_multi_wl.tif\n",
            "Copied /content/drive/MyDrive/data/labels/y_training/785_multi_wl.tif to /content/y_train/785_multi_wl.tif\n",
            "Copied /content/drive/MyDrive/data/labels/y_training/282_multi_wl.tif to /content/y_train/282_multi_wl.tif\n",
            "Copied /content/drive/MyDrive/data/labels/y_training/1571_multi_wl.tif to /content/y_train/1571_multi_wl.tif\n",
            "Copied /content/drive/MyDrive/data/labels/y_training/330_multi_wl.tif to /content/y_train/330_multi_wl.tif\n",
            "Copied /content/drive/MyDrive/data/labels/y_training/798_multi_wl.tif to /content/y_train/798_multi_wl.tif\n",
            "Copied /content/drive/MyDrive/data/labels/y_training/780_multi_wl.tif to /content/y_train/780_multi_wl.tif\n",
            "Copied /content/drive/MyDrive/data/labels/y_training/1539_multi_wl.tif to /content/y_train/1539_multi_wl.tif\n",
            "Copied /content/drive/MyDrive/data/labels/y_training/127_multi_wl.tif to /content/y_train/127_multi_wl.tif\n",
            "Copied /content/drive/MyDrive/data/labels/y_training/804_multi_wl.tif to /content/y_train/804_multi_wl.tif\n",
            "Copied /content/drive/MyDrive/data/labels/y_training/740_multi_wl.tif to /content/y_train/740_multi_wl.tif\n",
            "Copied /content/drive/MyDrive/data/labels/y_training/723_multi_wl.tif to /content/y_train/723_multi_wl.tif\n",
            "Copied /content/drive/MyDrive/data/labels/y_training/1593_multi_wl.tif to /content/y_train/1593_multi_wl.tif\n",
            "Copied /content/drive/MyDrive/data/labels/y_training/159_multi_wl.tif to /content/y_train/159_multi_wl.tif\n",
            "Copied /content/drive/MyDrive/data/labels/y_training/331_multi_wl.tif to /content/y_train/331_multi_wl.tif\n",
            "Copied /content/drive/MyDrive/data/labels/y_training/821_multi_wl.tif to /content/y_train/821_multi_wl.tif\n",
            "There are 159 files in /content/y_train.\n"
          ]
        }
      ]
    },
    {
      "cell_type": "code",
      "source": [
        "destination = '/content/x_test'\n",
        "os.makedirs(destination, exist_ok=True)\n",
        "for file in x_test:\n",
        "    dest_file = os.path.join(destination, os.path.basename(file))\n",
        "    shutil.copy(file, dest_file)\n",
        "    print(f'Copied {file} to {dest_file}')\n",
        "directory_path = \"/content/x_test\"\n",
        "entries = os.listdir(directory_path)\n",
        "num_files = len(entries)\n",
        "print(f\"There are {num_files} files in {directory_path}.\")"
      ],
      "metadata": {
        "colab": {
          "base_uri": "https://localhost:8080/"
        },
        "id": "qpUwNJZIJHtD",
        "outputId": "bde8e8ed-5105-43ed-9fcd-9959e967dbf2"
      },
      "execution_count": 168,
      "outputs": [
        {
          "output_type": "stream",
          "name": "stdout",
          "text": [
            "Copied /content/drive/MyDrive/data/images/x_training/3year/793_3year.tif to /content/x_test/793_3year.tif\n",
            "Copied /content/drive/MyDrive/data/images/x_training/3year/111_3year.tif to /content/x_test/111_3year.tif\n",
            "Copied /content/drive/MyDrive/data/images/x_training/3year/827_3year.tif to /content/x_test/827_3year.tif\n",
            "Copied /content/drive/MyDrive/data/images/x_training/3year/1577_3year.tif to /content/x_test/1577_3year.tif\n",
            "Copied /content/drive/MyDrive/data/images/x_training/3year/298_3year.tif to /content/x_test/298_3year.tif\n",
            "Copied /content/drive/MyDrive/data/images/x_training/3year/810_3year.tif to /content/x_test/810_3year.tif\n",
            "Copied /content/drive/MyDrive/data/images/x_training/3year/1612_3year.tif to /content/x_test/1612_3year.tif\n",
            "Copied /content/drive/MyDrive/data/images/x_training/3year/142_3year.tif to /content/x_test/142_3year.tif\n",
            "Copied /content/drive/MyDrive/data/images/x_training/3year/1520_3year.tif to /content/x_test/1520_3year.tif\n",
            "Copied /content/drive/MyDrive/data/images/x_training/3year/1529_3year.tif to /content/x_test/1529_3year.tif\n",
            "Copied /content/drive/MyDrive/data/images/x_training/3year/204_3year.tif to /content/x_test/204_3year.tif\n",
            "Copied /content/drive/MyDrive/data/images/x_training/3year/221_3year.tif to /content/x_test/221_3year.tif\n",
            "Copied /content/drive/MyDrive/data/images/x_training/3year/1563_3year.tif to /content/x_test/1563_3year.tif\n",
            "Copied /content/drive/MyDrive/data/images/x_training/3year/760_3year.tif to /content/x_test/760_3year.tif\n",
            "Copied /content/drive/MyDrive/data/images/x_training/3year/1565_3year.tif to /content/x_test/1565_3year.tif\n",
            "Copied /content/drive/MyDrive/data/images/x_training/3year/173_3year.tif to /content/x_test/173_3year.tif\n",
            "Copied /content/drive/MyDrive/data/images/x_training/3year/1611_3year.tif to /content/x_test/1611_3year.tif\n",
            "Copied /content/drive/MyDrive/data/images/x_training/3year/849_3year.tif to /content/x_test/849_3year.tif\n",
            "Copied /content/drive/MyDrive/data/images/x_training/3year/155_3year.tif to /content/x_test/155_3year.tif\n",
            "Copied /content/drive/MyDrive/data/images/x_training/3year/235_3year.tif to /content/x_test/235_3year.tif\n",
            "Copied /content/drive/MyDrive/data/images/x_training/3year/171_3year.tif to /content/x_test/171_3year.tif\n",
            "Copied /content/drive/MyDrive/data/images/x_training/3year/824_3year.tif to /content/x_test/824_3year.tif\n",
            "Copied /content/drive/MyDrive/data/images/x_training/3year/301_3year.tif to /content/x_test/301_3year.tif\n",
            "Copied /content/drive/MyDrive/data/images/x_training/3year/316_3year.tif to /content/x_test/316_3year.tif\n",
            "Copied /content/drive/MyDrive/data/images/x_training/3year/1550_3year.tif to /content/x_test/1550_3year.tif\n",
            "Copied /content/drive/MyDrive/data/images/x_training/3year/1561_3year.tif to /content/x_test/1561_3year.tif\n",
            "Copied /content/drive/MyDrive/data/images/x_training/3year/841_3year.tif to /content/x_test/841_3year.tif\n",
            "Copied /content/drive/MyDrive/data/images/x_training/3year/1537_3year.tif to /content/x_test/1537_3year.tif\n",
            "Copied /content/drive/MyDrive/data/images/x_training/3year/761_3year.tif to /content/x_test/761_3year.tif\n",
            "Copied /content/drive/MyDrive/data/images/x_training/3year/266_3year.tif to /content/x_test/266_3year.tif\n",
            "Copied /content/drive/MyDrive/data/images/x_training/3year/879_3year.tif to /content/x_test/879_3year.tif\n",
            "Copied /content/drive/MyDrive/data/images/x_training/3year/1498_3year.tif to /content/x_test/1498_3year.tif\n",
            "Copied /content/drive/MyDrive/data/images/x_training/3year/1610_3year.tif to /content/x_test/1610_3year.tif\n",
            "Copied /content/drive/MyDrive/data/images/x_training/3year/234_3year.tif to /content/x_test/234_3year.tif\n",
            "Copied /content/drive/MyDrive/data/images/x_training/3year/792_3year.tif to /content/x_test/792_3year.tif\n",
            "Copied /content/drive/MyDrive/data/images/x_training/3year/797_3year.tif to /content/x_test/797_3year.tif\n",
            "Copied /content/drive/MyDrive/data/images/x_training/3year/1465_3year.tif to /content/x_test/1465_3year.tif\n",
            "Copied /content/drive/MyDrive/data/images/x_training/3year/777_3year.tif to /content/x_test/777_3year.tif\n",
            "Copied /content/drive/MyDrive/data/images/x_training/3year/794_3year.tif to /content/x_test/794_3year.tif\n",
            "Copied /content/drive/MyDrive/data/images/x_training/3year/786_3year.tif to /content/x_test/786_3year.tif\n",
            "There are 40 files in /content/x_test.\n"
          ]
        }
      ]
    },
    {
      "cell_type": "code",
      "source": [
        "destination = '/content/x_train'\n",
        "os.makedirs(destination, exist_ok=True)\n",
        "for file in x_train:\n",
        "    dest_file = os.path.join(destination, os.path.basename(file))\n",
        "    shutil.copy(file, dest_file)\n",
        "    print(f'Copied {file} to {dest_file}')\n",
        "directory_path = \"/content/x_train\"\n",
        "entries = os.listdir(directory_path)\n",
        "num_files = len(entries)\n",
        "print(f\"There are {num_files} files in {directory_path}.\")"
      ],
      "metadata": {
        "colab": {
          "base_uri": "https://localhost:8080/"
        },
        "id": "dPTS8L1dJPMe",
        "outputId": "b068517a-89dd-41bc-c92a-53f419c1b780"
      },
      "execution_count": 169,
      "outputs": [
        {
          "output_type": "stream",
          "name": "stdout",
          "text": [
            "Copied /content/drive/MyDrive/data/images/x_training/3year/1548_3year.tif to /content/x_train/1548_3year.tif\n",
            "Copied /content/drive/MyDrive/data/images/x_training/3year/758_3year.tif to /content/x_train/758_3year.tif\n",
            "Copied /content/drive/MyDrive/data/images/x_training/3year/831_3year.tif to /content/x_train/831_3year.tif\n",
            "Copied /content/drive/MyDrive/data/images/x_training/3year/252_3year.tif to /content/x_train/252_3year.tif\n",
            "Copied /content/drive/MyDrive/data/images/x_training/3year/779_3year.tif to /content/x_train/779_3year.tif\n",
            "Copied /content/drive/MyDrive/data/images/x_training/3year/865_3year.tif to /content/x_train/865_3year.tif\n",
            "Copied /content/drive/MyDrive/data/images/x_training/3year/174_3year.tif to /content/x_train/174_3year.tif\n",
            "Copied /content/drive/MyDrive/data/images/x_training/3year/97_3year.tif to /content/x_train/97_3year.tif\n",
            "Copied /content/drive/MyDrive/data/images/x_training/3year/1499_3year.tif to /content/x_train/1499_3year.tif\n",
            "Copied /content/drive/MyDrive/data/images/x_training/3year/812_3year.tif to /content/x_train/812_3year.tif\n",
            "Copied /content/drive/MyDrive/data/images/x_training/3year/185_3year.tif to /content/x_train/185_3year.tif\n",
            "Copied /content/drive/MyDrive/data/images/x_training/3year/759_3year.tif to /content/x_train/759_3year.tif\n",
            "Copied /content/drive/MyDrive/data/images/x_training/3year/1579_3year.tif to /content/x_train/1579_3year.tif\n",
            "Copied /content/drive/MyDrive/data/images/x_training/3year/169_3year.tif to /content/x_train/169_3year.tif\n",
            "Copied /content/drive/MyDrive/data/images/x_training/3year/842_3year.tif to /content/x_train/842_3year.tif\n",
            "Copied /content/drive/MyDrive/data/images/x_training/3year/1551_3year.tif to /content/x_train/1551_3year.tif\n",
            "Copied /content/drive/MyDrive/data/images/x_training/3year/250_3year.tif to /content/x_train/250_3year.tif\n",
            "Copied /content/drive/MyDrive/data/images/x_training/3year/1481_3year.tif to /content/x_train/1481_3year.tif\n",
            "Copied /content/drive/MyDrive/data/images/x_training/3year/1562_3year.tif to /content/x_train/1562_3year.tif\n",
            "Copied /content/drive/MyDrive/data/images/x_training/3year/113_3year.tif to /content/x_train/113_3year.tif\n",
            "Copied /content/drive/MyDrive/data/images/x_training/3year/1545_3year.tif to /content/x_train/1545_3year.tif\n",
            "Copied /content/drive/MyDrive/data/images/x_training/3year/112_3year.tif to /content/x_train/112_3year.tif\n",
            "Copied /content/drive/MyDrive/data/images/x_training/3year/1578_3year.tif to /content/x_train/1578_3year.tif\n",
            "Copied /content/drive/MyDrive/data/images/x_training/3year/861_3year.tif to /content/x_train/861_3year.tif\n",
            "Copied /content/drive/MyDrive/data/images/x_training/3year/189_3year.tif to /content/x_train/189_3year.tif\n",
            "Copied /content/drive/MyDrive/data/images/x_training/3year/315_3year.tif to /content/x_train/315_3year.tif\n",
            "Copied /content/drive/MyDrive/data/images/x_training/3year/796_3year.tif to /content/x_train/796_3year.tif\n",
            "Copied /content/drive/MyDrive/data/images/x_training/3year/722_3year.tif to /content/x_train/722_3year.tif\n",
            "Copied /content/drive/MyDrive/data/images/x_training/3year/741_3year.tif to /content/x_train/741_3year.tif\n",
            "Copied /content/drive/MyDrive/data/images/x_training/3year/1594_3year.tif to /content/x_train/1594_3year.tif\n",
            "Copied /content/drive/MyDrive/data/images/x_training/3year/840_3year.tif to /content/x_train/840_3year.tif\n",
            "Copied /content/drive/MyDrive/data/images/x_training/3year/795_3year.tif to /content/x_train/795_3year.tif\n",
            "Copied /content/drive/MyDrive/data/images/x_training/3year/1514_3year.tif to /content/x_train/1514_3year.tif\n",
            "Copied /content/drive/MyDrive/data/images/x_training/3year/830_3year.tif to /content/x_train/830_3year.tif\n",
            "Copied /content/drive/MyDrive/data/images/x_training/3year/170_3year.tif to /content/x_train/170_3year.tif\n",
            "Copied /content/drive/MyDrive/data/images/x_training/3year/1533_3year.tif to /content/x_train/1533_3year.tif\n",
            "Copied /content/drive/MyDrive/data/images/x_training/3year/866_3year.tif to /content/x_train/866_3year.tif\n",
            "Copied /content/drive/MyDrive/data/images/x_training/3year/1483_3year.tif to /content/x_train/1483_3year.tif\n",
            "Copied /content/drive/MyDrive/data/images/x_training/3year/1581_3year.tif to /content/x_train/1581_3year.tif\n",
            "Copied /content/drive/MyDrive/data/images/x_training/3year/140_3year.tif to /content/x_train/140_3year.tif\n",
            "Copied /content/drive/MyDrive/data/images/x_training/3year/1629_3year.tif to /content/x_train/1629_3year.tif\n",
            "Copied /content/drive/MyDrive/data/images/x_training/3year/160_3year.tif to /content/x_train/160_3year.tif\n",
            "Copied /content/drive/MyDrive/data/images/x_training/3year/762_3year.tif to /content/x_train/762_3year.tif\n",
            "Copied /content/drive/MyDrive/data/images/x_training/3year/1564_3year.tif to /content/x_train/1564_3year.tif\n",
            "Copied /content/drive/MyDrive/data/images/x_training/3year/1555_3year.tif to /content/x_train/1555_3year.tif\n",
            "Copied /content/drive/MyDrive/data/images/x_training/3year/775_3year.tif to /content/x_train/775_3year.tif\n",
            "Copied /content/drive/MyDrive/data/images/x_training/3year/219_3year.tif to /content/x_train/219_3year.tif\n",
            "Copied /content/drive/MyDrive/data/images/x_training/3year/220_3year.tif to /content/x_train/220_3year.tif\n",
            "Copied /content/drive/MyDrive/data/images/x_training/3year/251_3year.tif to /content/x_train/251_3year.tif\n",
            "Copied /content/drive/MyDrive/data/images/x_training/3year/790_3year.tif to /content/x_train/790_3year.tif\n",
            "Copied /content/drive/MyDrive/data/images/x_training/3year/1595_3year.tif to /content/x_train/1595_3year.tif\n",
            "Copied /content/drive/MyDrive/data/images/x_training/3year/725_3year.tif to /content/x_train/725_3year.tif\n",
            "Copied /content/drive/MyDrive/data/images/x_training/3year/843_3year.tif to /content/x_train/843_3year.tif\n",
            "Copied /content/drive/MyDrive/data/images/x_training/3year/882_3year.tif to /content/x_train/882_3year.tif\n",
            "Copied /content/drive/MyDrive/data/images/x_training/3year/1554_3year.tif to /content/x_train/1554_3year.tif\n",
            "Copied /content/drive/MyDrive/data/images/x_training/3year/825_3year.tif to /content/x_train/825_3year.tif\n",
            "Copied /content/drive/MyDrive/data/images/x_training/3year/1645_3year.tif to /content/x_train/1645_3year.tif\n",
            "Copied /content/drive/MyDrive/data/images/x_training/3year/774_3year.tif to /content/x_train/774_3year.tif\n",
            "Copied /content/drive/MyDrive/data/images/x_training/3year/1532_3year.tif to /content/x_train/1532_3year.tif\n",
            "Copied /content/drive/MyDrive/data/images/x_training/3year/203_3year.tif to /content/x_train/203_3year.tif\n",
            "Copied /content/drive/MyDrive/data/images/x_training/3year/768_3year.tif to /content/x_train/768_3year.tif\n",
            "Copied /content/drive/MyDrive/data/images/x_training/3year/1513_3year.tif to /content/x_train/1513_3year.tif\n",
            "Copied /content/drive/MyDrive/data/images/x_training/3year/1466_3year.tif to /content/x_train/1466_3year.tif\n",
            "Copied /content/drive/MyDrive/data/images/x_training/3year/1546_3year.tif to /content/x_train/1546_3year.tif\n",
            "Copied /content/drive/MyDrive/data/images/x_training/3year/862_3year.tif to /content/x_train/862_3year.tif\n",
            "Copied /content/drive/MyDrive/data/images/x_training/3year/1521_3year.tif to /content/x_train/1521_3year.tif\n",
            "Copied /content/drive/MyDrive/data/images/x_training/3year/186_3year.tif to /content/x_train/186_3year.tif\n",
            "Copied /content/drive/MyDrive/data/images/x_training/3year/288_3year.tif to /content/x_train/288_3year.tif\n",
            "Copied /content/drive/MyDrive/data/images/x_training/3year/1491_3year.tif to /content/x_train/1491_3year.tif\n",
            "Copied /content/drive/MyDrive/data/images/x_training/3year/809_3year.tif to /content/x_train/809_3year.tif\n",
            "Copied /content/drive/MyDrive/data/images/x_training/3year/826_3year.tif to /content/x_train/826_3year.tif\n",
            "Copied /content/drive/MyDrive/data/images/x_training/3year/844_3year.tif to /content/x_train/844_3year.tif\n",
            "Copied /content/drive/MyDrive/data/images/x_training/3year/126_3year.tif to /content/x_train/126_3year.tif\n",
            "Copied /content/drive/MyDrive/data/images/x_training/3year/1596_3year.tif to /content/x_train/1596_3year.tif\n",
            "Copied /content/drive/MyDrive/data/images/x_training/3year/223_3year.tif to /content/x_train/223_3year.tif\n",
            "Copied /content/drive/MyDrive/data/images/x_training/3year/281_3year.tif to /content/x_train/281_3year.tif\n",
            "Copied /content/drive/MyDrive/data/images/x_training/3year/806_3year.tif to /content/x_train/806_3year.tif\n",
            "Copied /content/drive/MyDrive/data/images/x_training/3year/188_3year.tif to /content/x_train/188_3year.tif\n",
            "Copied /content/drive/MyDrive/data/images/x_training/3year/829_3year.tif to /content/x_train/829_3year.tif\n",
            "Copied /content/drive/MyDrive/data/images/x_training/3year/156_3year.tif to /content/x_train/156_3year.tif\n",
            "Copied /content/drive/MyDrive/data/images/x_training/3year/1531_3year.tif to /content/x_train/1531_3year.tif\n",
            "Copied /content/drive/MyDrive/data/images/x_training/3year/1536_3year.tif to /content/x_train/1536_3year.tif\n",
            "Copied /content/drive/MyDrive/data/images/x_training/3year/96_3year.tif to /content/x_train/96_3year.tif\n",
            "Copied /content/drive/MyDrive/data/images/x_training/3year/222_3year.tif to /content/x_train/222_3year.tif\n",
            "Copied /content/drive/MyDrive/data/images/x_training/3year/763_3year.tif to /content/x_train/763_3year.tif\n",
            "Copied /content/drive/MyDrive/data/images/x_training/3year/158_3year.tif to /content/x_train/158_3year.tif\n",
            "Copied /content/drive/MyDrive/data/images/x_training/3year/769_3year.tif to /content/x_train/769_3year.tif\n",
            "Copied /content/drive/MyDrive/data/images/x_training/3year/791_3year.tif to /content/x_train/791_3year.tif\n",
            "Copied /content/drive/MyDrive/data/images/x_training/3year/267_3year.tif to /content/x_train/267_3year.tif\n",
            "Copied /content/drive/MyDrive/data/images/x_training/3year/205_3year.tif to /content/x_train/205_3year.tif\n",
            "Copied /content/drive/MyDrive/data/images/x_training/3year/789_3year.tif to /content/x_train/789_3year.tif\n",
            "Copied /content/drive/MyDrive/data/images/x_training/3year/860_3year.tif to /content/x_train/860_3year.tif\n",
            "Copied /content/drive/MyDrive/data/images/x_training/3year/757_3year.tif to /content/x_train/757_3year.tif\n",
            "Copied /content/drive/MyDrive/data/images/x_training/3year/864_3year.tif to /content/x_train/864_3year.tif\n",
            "Copied /content/drive/MyDrive/data/images/x_training/3year/1534_3year.tif to /content/x_train/1534_3year.tif\n",
            "Copied /content/drive/MyDrive/data/images/x_training/3year/172_3year.tif to /content/x_train/172_3year.tif\n",
            "Copied /content/drive/MyDrive/data/images/x_training/3year/1515_3year.tif to /content/x_train/1515_3year.tif\n",
            "Copied /content/drive/MyDrive/data/images/x_training/3year/778_3year.tif to /content/x_train/778_3year.tif\n",
            "Copied /content/drive/MyDrive/data/images/x_training/3year/1505_3year.tif to /content/x_train/1505_3year.tif\n",
            "Copied /content/drive/MyDrive/data/images/x_training/3year/845_3year.tif to /content/x_train/845_3year.tif\n",
            "Copied /content/drive/MyDrive/data/images/x_training/3year/1506_3year.tif to /content/x_train/1506_3year.tif\n",
            "Copied /content/drive/MyDrive/data/images/x_training/3year/208_3year.tif to /content/x_train/208_3year.tif\n",
            "Copied /content/drive/MyDrive/data/images/x_training/3year/1580_3year.tif to /content/x_train/1580_3year.tif\n",
            "Copied /content/drive/MyDrive/data/images/x_training/3year/1507_3year.tif to /content/x_train/1507_3year.tif\n",
            "Copied /content/drive/MyDrive/data/images/x_training/3year/744_3year.tif to /content/x_train/744_3year.tif\n",
            "Copied /content/drive/MyDrive/data/images/x_training/3year/1482_3year.tif to /content/x_train/1482_3year.tif\n",
            "Copied /content/drive/MyDrive/data/images/x_training/3year/815_3year.tif to /content/x_train/815_3year.tif\n",
            "Copied /content/drive/MyDrive/data/images/x_training/3year/141_3year.tif to /content/x_train/141_3year.tif\n",
            "Copied /content/drive/MyDrive/data/images/x_training/3year/154_3year.tif to /content/x_train/154_3year.tif\n",
            "Copied /content/drive/MyDrive/data/images/x_training/3year/863_3year.tif to /content/x_train/863_3year.tif\n",
            "Copied /content/drive/MyDrive/data/images/x_training/3year/329_3year.tif to /content/x_train/329_3year.tif\n",
            "Copied /content/drive/MyDrive/data/images/x_training/3year/268_3year.tif to /content/x_train/268_3year.tif\n",
            "Copied /content/drive/MyDrive/data/images/x_training/3year/190_3year.tif to /content/x_train/190_3year.tif\n",
            "Copied /content/drive/MyDrive/data/images/x_training/3year/847_3year.tif to /content/x_train/847_3year.tif\n",
            "Copied /content/drive/MyDrive/data/images/x_training/3year/1547_3year.tif to /content/x_train/1547_3year.tif\n",
            "Copied /content/drive/MyDrive/data/images/x_training/3year/787_3year.tif to /content/x_train/787_3year.tif\n",
            "Copied /content/drive/MyDrive/data/images/x_training/3year/1497_3year.tif to /content/x_train/1497_3year.tif\n",
            "Copied /content/drive/MyDrive/data/images/x_training/3year/1504_3year.tif to /content/x_train/1504_3year.tif\n",
            "Copied /content/drive/MyDrive/data/images/x_training/3year/1490_3year.tif to /content/x_train/1490_3year.tif\n",
            "Copied /content/drive/MyDrive/data/images/x_training/3year/813_3year.tif to /content/x_train/813_3year.tif\n",
            "Copied /content/drive/MyDrive/data/images/x_training/3year/848_3year.tif to /content/x_train/848_3year.tif\n",
            "Copied /content/drive/MyDrive/data/images/x_training/3year/1489_3year.tif to /content/x_train/1489_3year.tif\n",
            "Copied /content/drive/MyDrive/data/images/x_training/3year/187_3year.tif to /content/x_train/187_3year.tif\n",
            "Copied /content/drive/MyDrive/data/images/x_training/3year/1535_3year.tif to /content/x_train/1535_3year.tif\n",
            "Copied /content/drive/MyDrive/data/images/x_training/3year/1488_3year.tif to /content/x_train/1488_3year.tif\n",
            "Copied /content/drive/MyDrive/data/images/x_training/3year/280_3year.tif to /content/x_train/280_3year.tif\n",
            "Copied /content/drive/MyDrive/data/images/x_training/3year/742_3year.tif to /content/x_train/742_3year.tif\n",
            "Copied /content/drive/MyDrive/data/images/x_training/3year/1538_3year.tif to /content/x_train/1538_3year.tif\n",
            "Copied /content/drive/MyDrive/data/images/x_training/3year/781_3year.tif to /content/x_train/781_3year.tif\n",
            "Copied /content/drive/MyDrive/data/images/x_training/3year/811_3year.tif to /content/x_train/811_3year.tif\n",
            "Copied /content/drive/MyDrive/data/images/x_training/3year/143_3year.tif to /content/x_train/143_3year.tif\n",
            "Copied /content/drive/MyDrive/data/images/x_training/3year/303_3year.tif to /content/x_train/303_3year.tif\n",
            "Copied /content/drive/MyDrive/data/images/x_training/3year/302_3year.tif to /content/x_train/302_3year.tif\n",
            "Copied /content/drive/MyDrive/data/images/x_training/3year/828_3year.tif to /content/x_train/828_3year.tif\n",
            "Copied /content/drive/MyDrive/data/images/x_training/3year/1517_3year.tif to /content/x_train/1517_3year.tif\n",
            "Copied /content/drive/MyDrive/data/images/x_training/3year/236_3year.tif to /content/x_train/236_3year.tif\n",
            "Copied /content/drive/MyDrive/data/images/x_training/3year/743_3year.tif to /content/x_train/743_3year.tif\n",
            "Copied /content/drive/MyDrive/data/images/x_training/3year/209_3year.tif to /content/x_train/209_3year.tif\n",
            "Copied /content/drive/MyDrive/data/images/x_training/3year/807_3year.tif to /content/x_train/807_3year.tif\n",
            "Copied /content/drive/MyDrive/data/images/x_training/3year/1628_3year.tif to /content/x_train/1628_3year.tif\n",
            "Copied /content/drive/MyDrive/data/images/x_training/3year/1523_3year.tif to /content/x_train/1523_3year.tif\n",
            "Copied /content/drive/MyDrive/data/images/x_training/3year/880_3year.tif to /content/x_train/880_3year.tif\n",
            "Copied /content/drive/MyDrive/data/images/x_training/3year/805_3year.tif to /content/x_train/805_3year.tif\n",
            "Copied /content/drive/MyDrive/data/images/x_training/3year/314_3year.tif to /content/x_train/314_3year.tif\n",
            "Copied /content/drive/MyDrive/data/images/x_training/3year/785_3year.tif to /content/x_train/785_3year.tif\n",
            "Copied /content/drive/MyDrive/data/images/x_training/3year/282_3year.tif to /content/x_train/282_3year.tif\n",
            "Copied /content/drive/MyDrive/data/images/x_training/3year/1571_3year.tif to /content/x_train/1571_3year.tif\n",
            "Copied /content/drive/MyDrive/data/images/x_training/3year/330_3year.tif to /content/x_train/330_3year.tif\n",
            "Copied /content/drive/MyDrive/data/images/x_training/3year/798_3year.tif to /content/x_train/798_3year.tif\n",
            "Copied /content/drive/MyDrive/data/images/x_training/3year/780_3year.tif to /content/x_train/780_3year.tif\n",
            "Copied /content/drive/MyDrive/data/images/x_training/3year/1539_3year.tif to /content/x_train/1539_3year.tif\n",
            "Copied /content/drive/MyDrive/data/images/x_training/3year/127_3year.tif to /content/x_train/127_3year.tif\n",
            "Copied /content/drive/MyDrive/data/images/x_training/3year/804_3year.tif to /content/x_train/804_3year.tif\n",
            "Copied /content/drive/MyDrive/data/images/x_training/3year/740_3year.tif to /content/x_train/740_3year.tif\n",
            "Copied /content/drive/MyDrive/data/images/x_training/3year/723_3year.tif to /content/x_train/723_3year.tif\n",
            "Copied /content/drive/MyDrive/data/images/x_training/3year/1593_3year.tif to /content/x_train/1593_3year.tif\n",
            "Copied /content/drive/MyDrive/data/images/x_training/3year/159_3year.tif to /content/x_train/159_3year.tif\n",
            "Copied /content/drive/MyDrive/data/images/x_training/3year/331_3year.tif to /content/x_train/331_3year.tif\n",
            "Copied /content/drive/MyDrive/data/images/x_training/3year/821_3year.tif to /content/x_train/821_3year.tif\n",
            "There are 159 files in /content/x_train.\n"
          ]
        }
      ]
    },
    {
      "cell_type": "code",
      "source": [
        "three_x_train = sorted(glob.glob(f\"/content/x_train/*.tif\"))\n",
        "y_train = sorted(glob.glob(f\"/content/y_train/*.tif\"))\n",
        "\n",
        "three_x_test = sorted(glob.glob(f\"/content/x_test/*.tif\"))\n",
        "y_test= sorted(glob.glob(f\"/content/y_test/*.tif\"))"
      ],
      "metadata": {
        "id": "-IFr0L4L_Q5u"
      },
      "execution_count": 170,
      "outputs": []
    },
    {
      "cell_type": "code",
      "source": [
        "print(f\"there are {len(three_x_train)} images for training\")\n",
        "print(f\"there are {len(y_train)} labels for training\")\n",
        "print(f\"there are {len(three_x_test)} images for validation\")\n",
        "print(f\"there are {len(y_test)} labels for validation\")"
      ],
      "metadata": {
        "colab": {
          "base_uri": "https://localhost:8080/"
        },
        "id": "OFTi7Pz2N0RZ",
        "outputId": "b69acbe3-ffde-4dcc-ba5b-53bd3ea4fa3d"
      },
      "execution_count": 171,
      "outputs": [
        {
          "output_type": "stream",
          "name": "stdout",
          "text": [
            "there are 159 images for training\n",
            "there are 159 labels for training\n",
            "there are 40 images for validation\n",
            "there are 40 labels for validation\n"
          ]
        }
      ]
    },
    {
      "cell_type": "markdown",
      "source": [
        "same from here"
      ],
      "metadata": {
        "id": "xL6KVk_TKVeY"
      }
    },
    {
      "cell_type": "code",
      "source": [
        "# # for 1 year images - this works dont f it up\n",
        "# def read_multi_image(file_path):\n",
        "#     with rasterio.open(file_path) as src:\n",
        "#       bands = [src.read(i) for i in range(1,5)]\n",
        "\n",
        "#       image = np.stack(bands, axis=-1)\n",
        "\n",
        "#       image = image.astype(float)\n",
        "#       max_value = image.max(axis=(0,1), keepdims=True)\n",
        "#       min_value = image.min(axis=(0,1), keepdims=True)\n",
        "#       image = (image - min_value) / (max_value - min_value)\n",
        "\n",
        "#       return image"
      ],
      "metadata": {
        "id": "h8WjYNPxBI6W"
      },
      "execution_count": 84,
      "outputs": []
    },
    {
      "cell_type": "code",
      "source": [
        "# for 1 year images - this with handling of band 5\n",
        "def read_multi_image_withfive(file_path):\n",
        "    with rasterio.open(file_path) as src:\n",
        "      bands = [src.read(i) for i in range(1,5)]\n",
        "\n",
        "      image = np.stack(bands, axis=-1)\n",
        "\n",
        "      image = image.astype(float)\n",
        "      max_value = image.max(axis=(0,1), keepdims=True)\n",
        "      min_value = image.min(axis=(0,1), keepdims=True)\n",
        "      image = (image - min_value) / (max_value - min_value)\n",
        "\n",
        "      band_five = src.read(5)\n",
        "\n",
        "      band_five = band_five.astype(float) /band_five.max()\n",
        "      band_five = np.expand_dims(band_five, axis=-1)\n",
        "      combined_image = np.concatenate([image, band_five], axis=-1)\n",
        "\n",
        "\n",
        "      return combined_image"
      ],
      "metadata": {
        "id": "JA7kGfbWXtfl"
      },
      "execution_count": 172,
      "outputs": []
    },
    {
      "cell_type": "code",
      "source": [
        "# for 1 year images - this with handling of band 5\n",
        "def read_thirteen_band_image(file_path):\n",
        "    with rasterio.open(file_path) as src:\n",
        "      bands = [src.read(i) for i in range(1,13)]\n",
        "\n",
        "      image = np.stack(bands, axis=-1)\n",
        "\n",
        "      image = image.astype(float)\n",
        "      max_value = image.max(axis=(0,1), keepdims=True)\n",
        "      min_value = image.min(axis=(0,1), keepdims=True)\n",
        "      image = (image - min_value) / (max_value - min_value)\n",
        "\n",
        "      band_five = src.read(13)\n",
        "\n",
        "      band_five = band_five.astype(float) /band_five.max()\n",
        "      band_five = np.expand_dims(band_five, axis=-1)\n",
        "      combined_image = np.concatenate([image, band_five], axis=-1)\n",
        "\n",
        "\n",
        "      return combined_image"
      ],
      "metadata": {
        "id": "PxPUVvbiir7f"
      },
      "execution_count": 173,
      "outputs": []
    },
    {
      "cell_type": "code",
      "source": [
        "# def preprocess_data(image_path):\n",
        "#     with rasterio.open(image_path) as src:\n",
        "#         # Read the first four bands, assuming we drop the fifth band\n",
        "#         image = src.read([1, 2, 3, 4])  # Adjust the indices based on which bands you need\n",
        "#         image = np.transpose(image, (1, 2, 0))  # Reorder dimensions to (height, width, channels)\n",
        "#     return image\n",
        "\n",
        "# # Then use this function to load your images:\n",
        "# x_train = np.array([preprocess_data(path) for path in train_paths])\n",
        "# x_test = np.array([preprocess_data(path) for path in test_paths])\n"
      ],
      "metadata": {
        "id": "4cuh4hNdVDRO"
      },
      "execution_count": 85,
      "outputs": []
    },
    {
      "cell_type": "code",
      "source": [
        "# pre_x_train = np.array([preprocess_data(path) for path in subset_x_train])"
      ],
      "metadata": {
        "id": "zzccf58hXJ5Z"
      },
      "execution_count": 88,
      "outputs": []
    },
    {
      "cell_type": "code",
      "source": [
        "def read_image_labels(file_path):\n",
        "    with rasterio.open(file_path) as src:\n",
        "      label_image = src.read(1) # read the sing band\n",
        "      return label_image.astype(np.int32) # ensuring labels are interger type"
      ],
      "metadata": {
        "id": "4Kca72h1BK6D"
      },
      "execution_count": 174,
      "outputs": []
    },
    {
      "cell_type": "code",
      "source": [
        "# lets read and process image data for the subsets using read_multi_image to convert\n",
        "# each path in the subset into useable data array for x and y data\n",
        "\n",
        "# subset_x_train_data = [read_multi_image(file_path) for file_path in subset_x_train]\n",
        "# subset_x_test_data = [read_multi_image(file_path) for file_path in subset_x_test]\n",
        "# subset_y_train_data = [read_image_labels(file_path) for file_path in subset_y_train]\n",
        "# subset_y_test_data = [read_image_labels(file_path) for file_path in subset_y_test]\n",
        "# print(type(subset_x_train_data))\n",
        "# print(type(subset_y_train_data))"
      ],
      "metadata": {
        "colab": {
          "base_uri": "https://localhost:8080/"
        },
        "id": "JvqSXXrdBPCm",
        "outputId": "c28846f5-9d65-430a-918c-66f10f4fa9ef"
      },
      "execution_count": 126,
      "outputs": [
        {
          "output_type": "stream",
          "name": "stdout",
          "text": [
            "<class 'list'>\n",
            "<class 'list'>\n"
          ]
        }
      ]
    },
    {
      "cell_type": "code",
      "source": [
        "# subset_x_train_data[3] # 0.06685982, 0.09896104, 0.07385445, 0.39563863"
      ],
      "metadata": {
        "id": "at9VHYE2YPmE"
      },
      "execution_count": null,
      "outputs": []
    },
    {
      "cell_type": "code",
      "source": [
        "three_x_train_data = [read_thirteen_band_image(file_path) for file_path in three_x_train]\n",
        "three_x_test_data = [read_thirteen_band_image(file_path) for file_path in three_x_test]\n",
        "y_train_data = [read_image_labels(file_path) for file_path in y_train]\n",
        "y_test_data = [read_image_labels(file_path) for file_path in y_test]\n",
        "# subset_x_train_data[3] # 0.06685982, 0.09896104, 0.07385445, 0.39563863, 0.21425932"
      ],
      "metadata": {
        "id": "I4WU4pn6YW2L"
      },
      "execution_count": 175,
      "outputs": []
    },
    {
      "cell_type": "code",
      "source": [
        "# # Example: Check the first element to see its unique values and shape\n",
        "print(\"Unique labels y_train image:\", np.unique(y_train_data[8]))\n",
        "print(\"Shape of y_train image:\", y_test_data[8].shape)\n",
        "print(\"Shape of x_train image:\", three_x_train_data[8].shape)\n"
      ],
      "metadata": {
        "colab": {
          "base_uri": "https://localhost:8080/"
        },
        "id": "CDdAYHUDBWe1",
        "outputId": "b269e440-0c3a-439e-9421-bdae04a79899"
      },
      "execution_count": 176,
      "outputs": [
        {
          "output_type": "stream",
          "name": "stdout",
          "text": [
            "Unique labels y_train image: [1 2 5 7]\n",
            "Shape of y_train image: (384, 384)\n",
            "Shape of x_train image: (384, 384, 13)\n"
          ]
        }
      ]
    },
    {
      "cell_type": "code",
      "source": [],
      "metadata": {
        "id": "RlekIFu_WPTn"
      },
      "execution_count": null,
      "outputs": []
    },
    {
      "cell_type": "code",
      "source": [
        "three_x_train = np.array(three_x_train_data)\n",
        "three_x_test = np.array(three_x_test_data)\n",
        "y_train = np.array(y_train_data)\n",
        "y_test = np.array(y_test_data)\n",
        "print(type(three_x_train))\n",
        "print(type(y_train))"
      ],
      "metadata": {
        "colab": {
          "base_uri": "https://localhost:8080/"
        },
        "id": "arxfORtXESAv",
        "outputId": "e4297101-d36f-4c51-8b34-e5e07f39f1b8"
      },
      "execution_count": 177,
      "outputs": [
        {
          "output_type": "stream",
          "name": "stdout",
          "text": [
            "<class 'numpy.ndarray'>\n",
            "<class 'numpy.ndarray'>\n"
          ]
        }
      ]
    },
    {
      "cell_type": "code",
      "source": [
        "print(three_x_train.shape)\n",
        "print(three_x_test.shape)\n",
        "print(y_train.shape)\n",
        "print(y_test.shape)"
      ],
      "metadata": {
        "id": "lqmYFWltjm8x",
        "outputId": "280fef40-5e27-47f7-a848-9a16da5e2b68",
        "colab": {
          "base_uri": "https://localhost:8080/"
        }
      },
      "execution_count": 180,
      "outputs": [
        {
          "output_type": "stream",
          "name": "stdout",
          "text": [
            "(159, 384, 384, 13)\n",
            "(40, 384, 384, 13)\n",
            "(159, 384, 384)\n",
            "(40, 384, 384)\n"
          ]
        }
      ]
    },
    {
      "cell_type": "code",
      "source": [
        "from tensorflow.keras.utils import to_categorical"
      ],
      "metadata": {
        "id": "EKPS9XfxD2Im"
      },
      "execution_count": 181,
      "outputs": []
    },
    {
      "cell_type": "code",
      "source": [
        "y_train_shifted = y_train -1\n",
        "y_test_shifted = y_test -1"
      ],
      "metadata": {
        "id": "_SKN9v36E8iF"
      },
      "execution_count": 182,
      "outputs": []
    },
    {
      "cell_type": "code",
      "source": [
        "print(y_train_shifted.shape)\n",
        "print(y_test_shifted.shape)"
      ],
      "metadata": {
        "colab": {
          "base_uri": "https://localhost:8080/"
        },
        "id": "CfmgJ1oTFAb9",
        "outputId": "6c4d06a8-fb68-4020-966c-3041b49f7878"
      },
      "execution_count": 183,
      "outputs": [
        {
          "output_type": "stream",
          "name": "stdout",
          "text": [
            "(159, 384, 384)\n",
            "(40, 384, 384)\n"
          ]
        }
      ]
    },
    {
      "cell_type": "code",
      "source": [
        "y_train_encoded = to_categorical(y_train_shifted, num_classes = 7)\n",
        "y_test_encoded = to_categorical(y_test_shifted, num_classes = 7)"
      ],
      "metadata": {
        "id": "lDmNq6lkD2uy"
      },
      "execution_count": 184,
      "outputs": []
    },
    {
      "cell_type": "code",
      "source": [
        "print(y_train_encoded.shape)\n",
        "print(y_test_encoded.shape)"
      ],
      "metadata": {
        "colab": {
          "base_uri": "https://localhost:8080/"
        },
        "id": "SvQ6fzezFOGV",
        "outputId": "d1da1724-1b8f-4c88-819b-ed18bd192c8c"
      },
      "execution_count": 185,
      "outputs": [
        {
          "output_type": "stream",
          "name": "stdout",
          "text": [
            "(159, 384, 384, 7)\n",
            "(40, 384, 384, 7)\n"
          ]
        }
      ]
    },
    {
      "cell_type": "code",
      "source": [
        "print(three_x_train.shape)\n",
        "print(three_x_test.shape)"
      ],
      "metadata": {
        "colab": {
          "base_uri": "https://localhost:8080/"
        },
        "id": "4u7x8tn6FXvd",
        "outputId": "03ac8ead-7812-4f41-c496-011a8be55239"
      },
      "execution_count": 187,
      "outputs": [
        {
          "output_type": "stream",
          "name": "stdout",
          "text": [
            "(159, 384, 384, 13)\n",
            "(40, 384, 384, 13)\n"
          ]
        }
      ]
    },
    {
      "cell_type": "code",
      "source": [
        "from tensorflow.keras.models import Model\n",
        "from tensorflow.keras.layers import Input, Conv2D, MaxPooling2D, Dropout, UpSampling2D, concatenate\n",
        "\n",
        "def unet_model(input_size=(384, 384, 13), num_classes=7):\n",
        "    inputs = Input(input_size)\n",
        "\n",
        "    # Downsampling (Contracting Path)\n",
        "    c1 = Conv2D(64, (3, 3), activation='relu', kernel_initializer='he_normal', padding='same')(inputs)\n",
        "    c1 = BatchNormalization()(c1)\n",
        "    c1 = Dropout(0.1)(c1)\n",
        "    c1 = Conv2D(64, (3, 3), activation='relu', kernel_initializer='he_normal', padding='same')(c1)\n",
        "    c1 = BatchNormalization()(c1)\n",
        "    p1 = MaxPooling2D((2, 2))(c1)\n",
        "\n",
        "    c2 = Conv2D(128, (3, 3), activation='relu', kernel_initializer='he_normal', padding='same')(p1)\n",
        "    c2 = BatchNormalization()(c2)\n",
        "    c2 = Dropout(0.1)(c2)\n",
        "    c2 = Conv2D(128, (3, 3), activation='relu', kernel_initializer='he_normal', padding='same')(c2)\n",
        "    c2 = BatchNormalization()(c2)\n",
        "    p2 = MaxPooling2D((2, 2))(c2)\n",
        "\n",
        "    # Bottleneck\n",
        "    c3 = Conv2D(256, (3, 3), activation='relu', kernel_initializer='he_normal', padding='same')(p2)\n",
        "    c3 = BatchNormalization()(c3)\n",
        "    c3 = Dropout(0.2)(c3)\n",
        "    c3 = Conv2D(256, (3, 3), activation='relu', kernel_initializer='he_normal', padding='same')(c3)\n",
        "    c3 = BatchNormalization()(c3)\n",
        "\n",
        "    # Upsampling (Expanding Path)\n",
        "    u4 = UpSampling2D((2, 2))(c3)\n",
        "    u4 = concatenate([u4, c2])\n",
        "    c4 = Conv2D(128, (3, 3), activation='relu', kernel_initializer='he_normal', padding='same')(u4)\n",
        "    c4 = BatchNormalization()(c4)\n",
        "    c4 = Dropout(0.1)(c4)\n",
        "    c4 = Conv2D(128, (3, 3), activation='relu', kernel_initializer='he_normal', padding='same')(c4)\n",
        "    c4 = BatchNormalization()(c4)\n",
        "\n",
        "    u5 = UpSampling2D((2, 2))(c4)\n",
        "    u5 = concatenate([u5, c1], axis=3)\n",
        "    c5 = Conv2D(64, (3, 3), activation='relu', kernel_initializer='he_normal', padding='same')(u5)\n",
        "    c5 = BatchNormalization()(c5)\n",
        "    c5 = Dropout(0.1)(c5)\n",
        "    c5 = Conv2D(64, (3, 3), activation='relu', kernel_initializer='he_normal', padding='same')(c5)\n",
        "    c5 = BatchNormalization()(c5)\n",
        "\n",
        "    # Output layer\n",
        "    outputs = Conv2D(num_classes, (1, 1), activation='softmax')(c5)\n",
        "\n",
        "    model = Model(inputs=[inputs], outputs=[outputs])\n",
        "    model.compile(optimizer='adam', loss='categorical_crossentropy', metrics=['accuracy'])\n",
        "\n",
        "    return model\n",
        "\n",
        "# Create the U-Net model\n",
        "model = unet_model()\n"
      ],
      "metadata": {
        "id": "g1-a9ArZG-Oi"
      },
      "execution_count": 188,
      "outputs": []
    },
    {
      "cell_type": "code",
      "source": [
        "print(model.input)\n",
        "print(model.output)\n"
      ],
      "metadata": {
        "id": "VmnHrBSDW3OG",
        "outputId": "b1d3e963-649b-4518-91e0-4eb353c8cd45",
        "colab": {
          "base_uri": "https://localhost:8080/"
        }
      },
      "execution_count": 189,
      "outputs": [
        {
          "output_type": "stream",
          "name": "stdout",
          "text": [
            "KerasTensor(type_spec=TensorSpec(shape=(None, 384, 384, 13), dtype=tf.float32, name='input_7'), name='input_7', description=\"created by layer 'input_7'\")\n",
            "KerasTensor(type_spec=TensorSpec(shape=(None, 384, 384, 7), dtype=tf.float32, name=None), name='conv2d_80/Softmax:0', description=\"created by layer 'conv2d_80'\")\n"
          ]
        }
      ]
    },
    {
      "cell_type": "code",
      "source": [
        "print(model.summary()) # oneYear = 1,889,799  threeyear 1,894,407"
      ],
      "metadata": {
        "id": "FqdHXV6I7zBr",
        "colab": {
          "base_uri": "https://localhost:8080/"
        },
        "outputId": "986348cd-78e9-4f94-cee5-915fb68ce7a0"
      },
      "execution_count": 190,
      "outputs": [
        {
          "output_type": "stream",
          "name": "stdout",
          "text": [
            "Model: \"model_6\"\n",
            "__________________________________________________________________________________________________\n",
            " Layer (type)                Output Shape                 Param #   Connected to                  \n",
            "==================================================================================================\n",
            " input_7 (InputLayer)        [(None, 384, 384, 13)]       0         []                            \n",
            "                                                                                                  \n",
            " conv2d_70 (Conv2D)          (None, 384, 384, 64)         7552      ['input_7[0][0]']             \n",
            "                                                                                                  \n",
            " batch_normalization_54 (Ba  (None, 384, 384, 64)         256       ['conv2d_70[0][0]']           \n",
            " tchNormalization)                                                                                \n",
            "                                                                                                  \n",
            " dropout_32 (Dropout)        (None, 384, 384, 64)         0         ['batch_normalization_54[0][0]\n",
            "                                                                    ']                            \n",
            "                                                                                                  \n",
            " conv2d_71 (Conv2D)          (None, 384, 384, 64)         36928     ['dropout_32[0][0]']          \n",
            "                                                                                                  \n",
            " batch_normalization_55 (Ba  (None, 384, 384, 64)         256       ['conv2d_71[0][0]']           \n",
            " tchNormalization)                                                                                \n",
            "                                                                                                  \n",
            " max_pooling2d_13 (MaxPooli  (None, 192, 192, 64)         0         ['batch_normalization_55[0][0]\n",
            " ng2D)                                                              ']                            \n",
            "                                                                                                  \n",
            " conv2d_72 (Conv2D)          (None, 192, 192, 128)        73856     ['max_pooling2d_13[0][0]']    \n",
            "                                                                                                  \n",
            " batch_normalization_56 (Ba  (None, 192, 192, 128)        512       ['conv2d_72[0][0]']           \n",
            " tchNormalization)                                                                                \n",
            "                                                                                                  \n",
            " dropout_33 (Dropout)        (None, 192, 192, 128)        0         ['batch_normalization_56[0][0]\n",
            "                                                                    ']                            \n",
            "                                                                                                  \n",
            " conv2d_73 (Conv2D)          (None, 192, 192, 128)        147584    ['dropout_33[0][0]']          \n",
            "                                                                                                  \n",
            " batch_normalization_57 (Ba  (None, 192, 192, 128)        512       ['conv2d_73[0][0]']           \n",
            " tchNormalization)                                                                                \n",
            "                                                                                                  \n",
            " max_pooling2d_14 (MaxPooli  (None, 96, 96, 128)          0         ['batch_normalization_57[0][0]\n",
            " ng2D)                                                              ']                            \n",
            "                                                                                                  \n",
            " conv2d_74 (Conv2D)          (None, 96, 96, 256)          295168    ['max_pooling2d_14[0][0]']    \n",
            "                                                                                                  \n",
            " batch_normalization_58 (Ba  (None, 96, 96, 256)          1024      ['conv2d_74[0][0]']           \n",
            " tchNormalization)                                                                                \n",
            "                                                                                                  \n",
            " dropout_34 (Dropout)        (None, 96, 96, 256)          0         ['batch_normalization_58[0][0]\n",
            "                                                                    ']                            \n",
            "                                                                                                  \n",
            " conv2d_75 (Conv2D)          (None, 96, 96, 256)          590080    ['dropout_34[0][0]']          \n",
            "                                                                                                  \n",
            " batch_normalization_59 (Ba  (None, 96, 96, 256)          1024      ['conv2d_75[0][0]']           \n",
            " tchNormalization)                                                                                \n",
            "                                                                                                  \n",
            " up_sampling2d_13 (UpSampli  (None, 192, 192, 256)        0         ['batch_normalization_59[0][0]\n",
            " ng2D)                                                              ']                            \n",
            "                                                                                                  \n",
            " concatenate_13 (Concatenat  (None, 192, 192, 384)        0         ['up_sampling2d_13[0][0]',    \n",
            " e)                                                                  'batch_normalization_57[0][0]\n",
            "                                                                    ']                            \n",
            "                                                                                                  \n",
            " conv2d_76 (Conv2D)          (None, 192, 192, 128)        442496    ['concatenate_13[0][0]']      \n",
            "                                                                                                  \n",
            " batch_normalization_60 (Ba  (None, 192, 192, 128)        512       ['conv2d_76[0][0]']           \n",
            " tchNormalization)                                                                                \n",
            "                                                                                                  \n",
            " dropout_35 (Dropout)        (None, 192, 192, 128)        0         ['batch_normalization_60[0][0]\n",
            "                                                                    ']                            \n",
            "                                                                                                  \n",
            " conv2d_77 (Conv2D)          (None, 192, 192, 128)        147584    ['dropout_35[0][0]']          \n",
            "                                                                                                  \n",
            " batch_normalization_61 (Ba  (None, 192, 192, 128)        512       ['conv2d_77[0][0]']           \n",
            " tchNormalization)                                                                                \n",
            "                                                                                                  \n",
            " up_sampling2d_14 (UpSampli  (None, 384, 384, 128)        0         ['batch_normalization_61[0][0]\n",
            " ng2D)                                                              ']                            \n",
            "                                                                                                  \n",
            " concatenate_14 (Concatenat  (None, 384, 384, 192)        0         ['up_sampling2d_14[0][0]',    \n",
            " e)                                                                  'batch_normalization_55[0][0]\n",
            "                                                                    ']                            \n",
            "                                                                                                  \n",
            " conv2d_78 (Conv2D)          (None, 384, 384, 64)         110656    ['concatenate_14[0][0]']      \n",
            "                                                                                                  \n",
            " batch_normalization_62 (Ba  (None, 384, 384, 64)         256       ['conv2d_78[0][0]']           \n",
            " tchNormalization)                                                                                \n",
            "                                                                                                  \n",
            " dropout_36 (Dropout)        (None, 384, 384, 64)         0         ['batch_normalization_62[0][0]\n",
            "                                                                    ']                            \n",
            "                                                                                                  \n",
            " conv2d_79 (Conv2D)          (None, 384, 384, 64)         36928     ['dropout_36[0][0]']          \n",
            "                                                                                                  \n",
            " batch_normalization_63 (Ba  (None, 384, 384, 64)         256       ['conv2d_79[0][0]']           \n",
            " tchNormalization)                                                                                \n",
            "                                                                                                  \n",
            " conv2d_80 (Conv2D)          (None, 384, 384, 7)          455       ['batch_normalization_63[0][0]\n",
            "                                                                    ']                            \n",
            "                                                                                                  \n",
            "==================================================================================================\n",
            "Total params: 1894407 (7.23 MB)\n",
            "Trainable params: 1891847 (7.22 MB)\n",
            "Non-trainable params: 2560 (10.00 KB)\n",
            "__________________________________________________________________________________________________\n",
            "None\n"
          ]
        }
      ]
    },
    {
      "cell_type": "markdown",
      "source": [
        "# Compile, fit and predict on test_dataset"
      ],
      "metadata": {
        "id": "7sC8tCHAVgqB"
      }
    },
    {
      "source": [
        "import tensorflow as tf\n",
        "from tensorflow import keras\n",
        "import shutil\n",
        "import zipfile"
      ],
      "cell_type": "code",
      "metadata": {
        "id": "dH5gQNW5KH80"
      },
      "execution_count": 191,
      "outputs": []
    },
    {
      "cell_type": "code",
      "source": [
        "# def read_multi_image_withfive(file_path):\n",
        "#     with rasterio.open(file_path) as src:\n",
        "#       bands = [src.read(i) for i in range(1,5)]\n",
        "#       image = np.stack(bands, axis=-1)\n",
        "#       image = image.astype(float)\n",
        "#       max_value = image.max(axis=(0,1), keepdims=True)\n",
        "#       min_value = image.min(axis=(0,1), keepdims=True)\n",
        "#       image = (image - min_value) / (max_value - min_value)\n",
        "#       band_five = src.read(5)\n",
        "#       band_five = band_five.astype(float) /band_five.max()\n",
        "#       band_five = np.expand_dims(band_five, axis=-1)\n",
        "#       combined_image = np.concatenate([image, band_five], axis=-1)\n",
        "#       return combined_image"
      ],
      "metadata": {
        "id": "5LowrrInbRX1"
      },
      "execution_count": null,
      "outputs": []
    },
    {
      "cell_type": "code",
      "source": [
        "class SavePredictionCallback(Callback):\n",
        "    def __init__(self, x_holdout_dir, output_folder, model_input_size, epoch_frequency=5):\n",
        "        self.x_holdout_dir = glob.glob(x_holdout_dir)  # Get all file paths matching the pattern\n",
        "        self.output_folder = output_folder\n",
        "        self.model_input_size = model_input_size\n",
        "        self.epoch_frequency = epoch_frequency\n",
        "\n",
        "    def on_epoch_end(self, epoch, logs=None):\n",
        "        if epoch % self.epoch_frequency == 0:\n",
        "            for image_path in self.x_holdout_dir:\n",
        "                # Read the image with rasterio\n",
        "                with rasterio.open(image_path) as src:\n",
        "                    bands = [src.read(i) for i in range(1, 13)]\n",
        "                    image = np.stack(bands, axis=-1)\n",
        "                    image = image.astype(float)\n",
        "                    max_value = image.max(axis=(0, 1), keepdims=True)\n",
        "                    min_value = image.min(axis=(0, 1), keepdims=True)\n",
        "                    image = (image - min_value) / (max_value - min_value)\n",
        "                    band_five = src.read(13)\n",
        "                    band_five = band_five.astype(float) / band_five.max()\n",
        "                    band_five = np.expand_dims(band_five, axis=-1)\n",
        "                    combined_image = np.concatenate([image, band_five], axis=-1)\n",
        "                    combined_image_batch = np.expand_dims(combined_image, axis=0)\n",
        "                    # image = src.read()  # Read all bands\n",
        "                    # image = np.transpose(image, (1, 2, 0))  # Reorder dimensions to (height, width, channels)\n",
        "                    # image = np.expand_dims(image, axis=-1)  # Add batch dimension\n",
        "                    # image = image.astype(np.float32) / 255.0  # Normalize the image if needed\n",
        "\n",
        "                # Predict using the model\n",
        "                prediction = self.model.predict(combined_image_batch)\n",
        "                prediction_image = np.argmax(prediction, axis=-1)[0, :, :]# Get the predicted class for each pixel\n",
        "\n",
        "                # Prepare the output path\n",
        "                output_path = os.path.join(self.output_folder, f\"epoch_{epoch+1}_{os.path.basename(image_path)}\")\n",
        "\n",
        "                # Save the prediction using rasterio\n",
        "                meta = src.meta.copy()\n",
        "                meta.update(dtype=rasterio.uint8, count=1, compress='lzw', nodata= None)  # Set metadata for output\n",
        "                with rasterio.open(output_path, 'w', **meta) as dst:\n",
        "                    dst.write(prediction_image.astype(rasterio.uint8), 1)\n",
        "\n",
        "# Initialization of the callback\n",
        "img_height, img_width = 384, 384\n",
        "output_folder = \"/content/drive/MyDrive/data/model_prediction/threeyear_data/20240416_1940\"\n",
        "os.makedirs(output_folder, exist_ok=True)  # Ensure the output directory exists\n",
        "x_holdout_dir = \"/content/drive/MyDrive/data/images/x_test/3year/*.tif\"\n",
        "\n",
        "savepred_callback = SavePredictionCallback(\n",
        "    x_holdout_dir=x_holdout_dir,\n",
        "    output_folder=output_folder,\n",
        "    model_input_size = (img_height, img_width),\n",
        "    epoch_frequency=5\n",
        ")\n"
      ],
      "metadata": {
        "id": "Uyti86TgRRha"
      },
      "execution_count": 198,
      "outputs": []
    },
    {
      "cell_type": "code",
      "source": [
        "model.compile(optimizer = 'adam', loss = 'categorical_crossentropy', metrics = ['accuracy', 'categorical_accuracy'])\n",
        "callbacks = [keras.callbacks.ModelCheckpoint(filepath = \"/content/drive/MyDrive/data/model_prediction/threeyear_data/20240416_1940/20240416_1940.h5\", monitor = 'val_loss', save_best_only = True), savepred_callback]"
      ],
      "metadata": {
        "id": "hvIGa6e-RqjK"
      },
      "execution_count": 199,
      "outputs": []
    },
    {
      "cell_type": "code",
      "source": [
        "# model.compile(optimizer = 'adam', loss = 'categorical_crossentropy', metrics = ['accuracy', 'categorical_accuracy'])\n",
        "# callbacks = [keras.callbacks.ModelCheckpoint(filepath = \"/content/drive/MyDrive/data/model_prediction/20240416_1600/20240416_1600.h5\", monitor = 'val_loss', save_best_only = True)]"
      ],
      "metadata": {
        "id": "IvWil1QOez5O"
      },
      "execution_count": 147,
      "outputs": []
    },
    {
      "cell_type": "code",
      "source": [
        "model.fit(three_x_train, y_train_encoded, batch_size=8, epochs=500, validation_data=(three_x_test, y_test_encoded),\n",
        "          callbacks=[callbacks])"
      ],
      "metadata": {
        "colab": {
          "base_uri": "https://localhost:8080/",
          "height": 1000
        },
        "id": "jNPfbPR_RvQs",
        "outputId": "626b4d3a-ffd4-4831-d9f0-542e2adee41e"
      },
      "execution_count": 200,
      "outputs": [
        {
          "output_type": "stream",
          "name": "stdout",
          "text": [
            "Epoch 1/500\n",
            " 1/20 [>.............................] - ETA: 1:58 - loss: 1.8091 - accuracy: 0.4559 - categorical_accuracy: 0.4559"
          ]
        },
        {
          "output_type": "error",
          "ename": "ResourceExhaustedError",
          "evalue": "Graph execution error:\n\nDetected at node gradient_tape/model_6/batch_normalization_63/FusedBatchNormGradV3 defined at (most recent call last):\n  File \"/usr/lib/python3.10/runpy.py\", line 196, in _run_module_as_main\n\n  File \"/usr/lib/python3.10/runpy.py\", line 86, in _run_code\n\n  File \"/usr/local/lib/python3.10/dist-packages/colab_kernel_launcher.py\", line 37, in <module>\n\n  File \"/usr/local/lib/python3.10/dist-packages/traitlets/config/application.py\", line 992, in launch_instance\n\n  File \"/usr/local/lib/python3.10/dist-packages/ipykernel/kernelapp.py\", line 619, in start\n\n  File \"/usr/local/lib/python3.10/dist-packages/tornado/platform/asyncio.py\", line 195, in start\n\n  File \"/usr/lib/python3.10/asyncio/base_events.py\", line 603, in run_forever\n\n  File \"/usr/lib/python3.10/asyncio/base_events.py\", line 1909, in _run_once\n\n  File \"/usr/lib/python3.10/asyncio/events.py\", line 80, in _run\n\n  File \"/usr/local/lib/python3.10/dist-packages/tornado/ioloop.py\", line 685, in <lambda>\n\n  File \"/usr/local/lib/python3.10/dist-packages/tornado/ioloop.py\", line 738, in _run_callback\n\n  File \"/usr/local/lib/python3.10/dist-packages/tornado/gen.py\", line 825, in inner\n\n  File \"/usr/local/lib/python3.10/dist-packages/tornado/gen.py\", line 786, in run\n\n  File \"/usr/local/lib/python3.10/dist-packages/ipykernel/kernelbase.py\", line 361, in process_one\n\n  File \"/usr/local/lib/python3.10/dist-packages/tornado/gen.py\", line 234, in wrapper\n\n  File \"/usr/local/lib/python3.10/dist-packages/ipykernel/kernelbase.py\", line 261, in dispatch_shell\n\n  File \"/usr/local/lib/python3.10/dist-packages/tornado/gen.py\", line 234, in wrapper\n\n  File \"/usr/local/lib/python3.10/dist-packages/ipykernel/kernelbase.py\", line 539, in execute_request\n\n  File \"/usr/local/lib/python3.10/dist-packages/tornado/gen.py\", line 234, in wrapper\n\n  File \"/usr/local/lib/python3.10/dist-packages/ipykernel/ipkernel.py\", line 302, in do_execute\n\n  File \"/usr/local/lib/python3.10/dist-packages/ipykernel/zmqshell.py\", line 539, in run_cell\n\n  File \"/usr/local/lib/python3.10/dist-packages/IPython/core/interactiveshell.py\", line 2975, in run_cell\n\n  File \"/usr/local/lib/python3.10/dist-packages/IPython/core/interactiveshell.py\", line 3030, in _run_cell\n\n  File \"/usr/local/lib/python3.10/dist-packages/IPython/core/async_helpers.py\", line 78, in _pseudo_sync_runner\n\n  File \"/usr/local/lib/python3.10/dist-packages/IPython/core/interactiveshell.py\", line 3257, in run_cell_async\n\n  File \"/usr/local/lib/python3.10/dist-packages/IPython/core/interactiveshell.py\", line 3473, in run_ast_nodes\n\n  File \"/usr/local/lib/python3.10/dist-packages/IPython/core/interactiveshell.py\", line 3553, in run_code\n\n  File \"<ipython-input-200-de868bf2e91a>\", line 1, in <cell line: 1>\n\n  File \"/usr/local/lib/python3.10/dist-packages/keras/src/utils/traceback_utils.py\", line 65, in error_handler\n\n  File \"/usr/local/lib/python3.10/dist-packages/keras/src/engine/training.py\", line 1807, in fit\n\n  File \"/usr/local/lib/python3.10/dist-packages/keras/src/engine/training.py\", line 1401, in train_function\n\n  File \"/usr/local/lib/python3.10/dist-packages/keras/src/engine/training.py\", line 1384, in step_function\n\n  File \"/usr/local/lib/python3.10/dist-packages/keras/src/engine/training.py\", line 1373, in run_step\n\n  File \"/usr/local/lib/python3.10/dist-packages/keras/src/engine/training.py\", line 1154, in train_step\n\n  File \"/usr/local/lib/python3.10/dist-packages/keras/src/optimizers/optimizer.py\", line 543, in minimize\n\n  File \"/usr/local/lib/python3.10/dist-packages/keras/src/optimizers/optimizer.py\", line 276, in compute_gradients\n\nOOM when allocating tensor with shape[8,64,384,384] and type float on /job:localhost/replica:0/task:0/device:GPU:0 by allocator GPU_0_bfc\n\t [[{{node gradient_tape/model_6/batch_normalization_63/FusedBatchNormGradV3}}]]\nHint: If you want to see a list of allocated tensors when OOM happens, add report_tensor_allocations_upon_oom to RunOptions for current allocation info. This isn't available when running in Eager mode.\n [Op:__inference_train_function_74732]",
          "traceback": [
            "\u001b[0;31m---------------------------------------------------------------------------\u001b[0m",
            "\u001b[0;31mResourceExhaustedError\u001b[0m                    Traceback (most recent call last)",
            "\u001b[0;32m<ipython-input-200-de868bf2e91a>\u001b[0m in \u001b[0;36m<cell line: 1>\u001b[0;34m()\u001b[0m\n\u001b[0;32m----> 1\u001b[0;31m model.fit(three_x_train, y_train_encoded, batch_size=8, epochs=500, validation_data=(three_x_test, y_test_encoded),\n\u001b[0m\u001b[1;32m      2\u001b[0m           callbacks=[callbacks])\n",
            "\u001b[0;32m/usr/local/lib/python3.10/dist-packages/keras/src/utils/traceback_utils.py\u001b[0m in \u001b[0;36merror_handler\u001b[0;34m(*args, **kwargs)\u001b[0m\n\u001b[1;32m     68\u001b[0m             \u001b[0;31m# To get the full stack trace, call:\u001b[0m\u001b[0;34m\u001b[0m\u001b[0;34m\u001b[0m\u001b[0m\n\u001b[1;32m     69\u001b[0m             \u001b[0;31m# `tf.debugging.disable_traceback_filtering()`\u001b[0m\u001b[0;34m\u001b[0m\u001b[0;34m\u001b[0m\u001b[0m\n\u001b[0;32m---> 70\u001b[0;31m             \u001b[0;32mraise\u001b[0m \u001b[0me\u001b[0m\u001b[0;34m.\u001b[0m\u001b[0mwith_traceback\u001b[0m\u001b[0;34m(\u001b[0m\u001b[0mfiltered_tb\u001b[0m\u001b[0;34m)\u001b[0m \u001b[0;32mfrom\u001b[0m \u001b[0;32mNone\u001b[0m\u001b[0;34m\u001b[0m\u001b[0;34m\u001b[0m\u001b[0m\n\u001b[0m\u001b[1;32m     71\u001b[0m         \u001b[0;32mfinally\u001b[0m\u001b[0;34m:\u001b[0m\u001b[0;34m\u001b[0m\u001b[0;34m\u001b[0m\u001b[0m\n\u001b[1;32m     72\u001b[0m             \u001b[0;32mdel\u001b[0m \u001b[0mfiltered_tb\u001b[0m\u001b[0;34m\u001b[0m\u001b[0;34m\u001b[0m\u001b[0m\n",
            "\u001b[0;32m/usr/local/lib/python3.10/dist-packages/tensorflow/python/eager/execute.py\u001b[0m in \u001b[0;36mquick_execute\u001b[0;34m(op_name, num_outputs, inputs, attrs, ctx, name)\u001b[0m\n\u001b[1;32m     51\u001b[0m   \u001b[0;32mtry\u001b[0m\u001b[0;34m:\u001b[0m\u001b[0;34m\u001b[0m\u001b[0;34m\u001b[0m\u001b[0m\n\u001b[1;32m     52\u001b[0m     \u001b[0mctx\u001b[0m\u001b[0;34m.\u001b[0m\u001b[0mensure_initialized\u001b[0m\u001b[0;34m(\u001b[0m\u001b[0;34m)\u001b[0m\u001b[0;34m\u001b[0m\u001b[0;34m\u001b[0m\u001b[0m\n\u001b[0;32m---> 53\u001b[0;31m     tensors = pywrap_tfe.TFE_Py_Execute(ctx._handle, device_name, op_name,\n\u001b[0m\u001b[1;32m     54\u001b[0m                                         inputs, attrs, num_outputs)\n\u001b[1;32m     55\u001b[0m   \u001b[0;32mexcept\u001b[0m \u001b[0mcore\u001b[0m\u001b[0;34m.\u001b[0m\u001b[0m_NotOkStatusException\u001b[0m \u001b[0;32mas\u001b[0m \u001b[0me\u001b[0m\u001b[0;34m:\u001b[0m\u001b[0;34m\u001b[0m\u001b[0;34m\u001b[0m\u001b[0m\n",
            "\u001b[0;31mResourceExhaustedError\u001b[0m: Graph execution error:\n\nDetected at node gradient_tape/model_6/batch_normalization_63/FusedBatchNormGradV3 defined at (most recent call last):\n  File \"/usr/lib/python3.10/runpy.py\", line 196, in _run_module_as_main\n\n  File \"/usr/lib/python3.10/runpy.py\", line 86, in _run_code\n\n  File \"/usr/local/lib/python3.10/dist-packages/colab_kernel_launcher.py\", line 37, in <module>\n\n  File \"/usr/local/lib/python3.10/dist-packages/traitlets/config/application.py\", line 992, in launch_instance\n\n  File \"/usr/local/lib/python3.10/dist-packages/ipykernel/kernelapp.py\", line 619, in start\n\n  File \"/usr/local/lib/python3.10/dist-packages/tornado/platform/asyncio.py\", line 195, in start\n\n  File \"/usr/lib/python3.10/asyncio/base_events.py\", line 603, in run_forever\n\n  File \"/usr/lib/python3.10/asyncio/base_events.py\", line 1909, in _run_once\n\n  File \"/usr/lib/python3.10/asyncio/events.py\", line 80, in _run\n\n  File \"/usr/local/lib/python3.10/dist-packages/tornado/ioloop.py\", line 685, in <lambda>\n\n  File \"/usr/local/lib/python3.10/dist-packages/tornado/ioloop.py\", line 738, in _run_callback\n\n  File \"/usr/local/lib/python3.10/dist-packages/tornado/gen.py\", line 825, in inner\n\n  File \"/usr/local/lib/python3.10/dist-packages/tornado/gen.py\", line 786, in run\n\n  File \"/usr/local/lib/python3.10/dist-packages/ipykernel/kernelbase.py\", line 361, in process_one\n\n  File \"/usr/local/lib/python3.10/dist-packages/tornado/gen.py\", line 234, in wrapper\n\n  File \"/usr/local/lib/python3.10/dist-packages/ipykernel/kernelbase.py\", line 261, in dispatch_shell\n\n  File \"/usr/local/lib/python3.10/dist-packages/tornado/gen.py\", line 234, in wrapper\n\n  File \"/usr/local/lib/python3.10/dist-packages/ipykernel/kernelbase.py\", line 539, in execute_request\n\n  File \"/usr/local/lib/python3.10/dist-packages/tornado/gen.py\", line 234, in wrapper\n\n  File \"/usr/local/lib/python3.10/dist-packages/ipykernel/ipkernel.py\", line 302, in do_execute\n\n  File \"/usr/local/lib/python3.10/dist-packages/ipykernel/zmqshell.py\", line 539, in run_cell\n\n  File \"/usr/local/lib/python3.10/dist-packages/IPython/core/interactiveshell.py\", line 2975, in run_cell\n\n  File \"/usr/local/lib/python3.10/dist-packages/IPython/core/interactiveshell.py\", line 3030, in _run_cell\n\n  File \"/usr/local/lib/python3.10/dist-packages/IPython/core/async_helpers.py\", line 78, in _pseudo_sync_runner\n\n  File \"/usr/local/lib/python3.10/dist-packages/IPython/core/interactiveshell.py\", line 3257, in run_cell_async\n\n  File \"/usr/local/lib/python3.10/dist-packages/IPython/core/interactiveshell.py\", line 3473, in run_ast_nodes\n\n  File \"/usr/local/lib/python3.10/dist-packages/IPython/core/interactiveshell.py\", line 3553, in run_code\n\n  File \"<ipython-input-200-de868bf2e91a>\", line 1, in <cell line: 1>\n\n  File \"/usr/local/lib/python3.10/dist-packages/keras/src/utils/traceback_utils.py\", line 65, in error_handler\n\n  File \"/usr/local/lib/python3.10/dist-packages/keras/src/engine/training.py\", line 1807, in fit\n\n  File \"/usr/local/lib/python3.10/dist-packages/keras/src/engine/training.py\", line 1401, in train_function\n\n  File \"/usr/local/lib/python3.10/dist-packages/keras/src/engine/training.py\", line 1384, in step_function\n\n  File \"/usr/local/lib/python3.10/dist-packages/keras/src/engine/training.py\", line 1373, in run_step\n\n  File \"/usr/local/lib/python3.10/dist-packages/keras/src/engine/training.py\", line 1154, in train_step\n\n  File \"/usr/local/lib/python3.10/dist-packages/keras/src/optimizers/optimizer.py\", line 543, in minimize\n\n  File \"/usr/local/lib/python3.10/dist-packages/keras/src/optimizers/optimizer.py\", line 276, in compute_gradients\n\nOOM when allocating tensor with shape[8,64,384,384] and type float on /job:localhost/replica:0/task:0/device:GPU:0 by allocator GPU_0_bfc\n\t [[{{node gradient_tape/model_6/batch_normalization_63/FusedBatchNormGradV3}}]]\nHint: If you want to see a list of allocated tensors when OOM happens, add report_tensor_allocations_upon_oom to RunOptions for current allocation info. This isn't available when running in Eager mode.\n [Op:__inference_train_function_74732]"
          ]
        }
      ]
    },
    {
      "cell_type": "code",
      "source": [
        "\n",
        "# model.compile(optimizer= Adam(learning_rate=0.001), loss='categorical_crossentropy', metrics=['accuracy', \"categorical_accuracy\"])\n",
        "# callbacks = [\n",
        "#     keras.callbacks.ModelCheckpoint(filepath='/content/validation_prediction_3year/model_3year_20240415_1835.h5', monitor = 'val_loss', save_best_only=True),\n",
        "#     save_pred_callback\n",
        "# ]"
      ],
      "metadata": {
        "id": "BBLV_Pe2J7oj"
      },
      "execution_count": 134,
      "outputs": []
    },
    {
      "cell_type": "code",
      "source": [
        "\n",
        "\n",
        "def zip_folder(folder_path, output_zip_path):\n",
        "    \"\"\"Zips the contents of a folder into a zip file.\n",
        "\n",
        "    Args:\n",
        "        folder_path: The path to the folder to be zipped.\n",
        "        output_zip_path: The path to the output zip file.\n",
        "    \"\"\"\n",
        "\n",
        "    with zipfile.ZipFile(output_zip_path, \"w\") as zip_file:\n",
        "        for root, dirs, files in os.walk(folder_path):\n",
        "            for file in files:\n",
        "                file_path = os.path.join(root, file)\n",
        "                zip_file.write(file_path)\n",
        "\n",
        "if __name__ == \"__main__\":\n",
        "    folder_path = \"/content/validation_prediction_3year\" #Souce folder\n",
        "    output_zip_path = \"/content/drive/MyDrive/data/working_dir_3year/model_3year_20240415_1835/model_3year_20240415_1835.zip\" #zip file\n",
        "\n",
        "    zip_folder(folder_path, output_zip_path)"
      ],
      "metadata": {
        "id": "si1hb102MwdW"
      },
      "execution_count": null,
      "outputs": []
    },
    {
      "cell_type": "code",
      "source": [
        "import shutil\n",
        "import os\n",
        "\n",
        "def delete_folder(path):\n",
        "    \"\"\"Deletes a folder at a specified path along with all its contents.\"\"\"\n",
        "    try:\n",
        "        shutil.rmtree(path)\n",
        "        print(f\"Folder '{path}' has been deleted successfully.\")\n",
        "    except Exception as e:\n",
        "        print(f\"Failed to delete folder '{path}'. Reason: {e}\")\n",
        "\n",
        "# Specify the path to the directory you want to delete\n",
        "folder_path = '/content/validation_images_THREE'\n",
        "\n",
        "# Check if the folder exists then delete\n",
        "if os.path.exists(folder_path):\n",
        "    delete_folder(folder_path)\n",
        "else:\n",
        "    print(f\"No folder found at {folder_path}\")\n"
      ],
      "metadata": {
        "colab": {
          "base_uri": "https://localhost:8080/"
        },
        "id": "0QqGH8Ne14F5",
        "outputId": "167da6e0-b2e0-4543-86b7-efee46fa32c3"
      },
      "execution_count": 140,
      "outputs": [
        {
          "output_type": "stream",
          "name": "stdout",
          "text": [
            "Folder '/content/validation_images_THREE' has been deleted successfully.\n"
          ]
        }
      ]
    },
    {
      "cell_type": "markdown",
      "source": [
        "# using the model to predict\n"
      ],
      "metadata": {
        "id": "zzfIJ_bS1ZB8"
      }
    },
    {
      "cell_type": "markdown",
      "source": [
        "Only thing on here is the predict and save for the final model prediction."
      ],
      "metadata": {
        "id": "lgZghxKzHaIm"
      }
    },
    {
      "cell_type": "code",
      "source": [
        "# import matplotlib.pyplot as plt\n",
        "# import numpy as np\n",
        "# import rasterio\n",
        "# from tensorflow.keras.preprocessing.image import array_to_img\n",
        "# import PIL.ImageOps\n",
        "# from PIL import Image\n",
        "# import matplotlib.patches as mpatches\n",
        "# import matplotlib.colors as mcolors\n",
        "\n",
        "# class_names = ['Unclassified', 'Water', 'Forested Wetland', 'Emergent Wetland', 'Forested/Shrub Wetland', 'Aquatic Bed', 'Developed', 'Agriculture', 'Grassland', 'Forest', 'Shrubland']\n",
        "# colors = ['dimgrey', 'cornflowerblue', 'violet', 'teal', 'orange', 'mediumblue', 'lightgrey', 'saddlebrown', 'wheat', 'lightyellow', 'forestgreen', 'peru']\n",
        "# cmap = mcolors.ListedColormap(colors)\n"
      ],
      "metadata": {
        "id": "cuzuqikm-m8S"
      },
      "execution_count": null,
      "outputs": []
    },
    {
      "cell_type": "code",
      "source": [
        "from tensorflow.keras.models import load_model\n",
        "\n",
        "# Replace 'path/to/your/model.h5' with the actual path to your saved model\n",
        "model = load_model('/content/drive/MyDrive/data/model_prediction/20240416_1600/20240416_1600.h5')\n"
      ],
      "metadata": {
        "id": "k6qUyPHl1YyM"
      },
      "execution_count": 158,
      "outputs": []
    },
    {
      "cell_type": "code",
      "source": [
        "from tensorflow.image import resize\n",
        "\n",
        "def load_and_preprocess_image(image_path, expected_size):\n",
        "    with rasterio.open(image_path) as src:\n",
        "        # Read the imagery tile, assuming it's multi-band\n",
        "        image = src.read()\n",
        "        if image.shape[0] > 9:\n",
        "            image = image[:9, :, :]\n",
        "        image = np.transpose(image, (1, 2, 0))\n",
        "        image = resize(image, [expected_size, expected_size])\n",
        "\n",
        "        image = image / 2555.0  # Adjust based on your normalization method\n",
        "        image = np.expand_dims(image, axis=0)\n",
        "        return image\n",
        "\n",
        "image_path = '/content/drive/MyDrive/data/images/x_test/1year/1472_1year.tif'\n",
        "expected_size = 384\n",
        "image = load_and_preprocess_image(image_path, expected_size)"
      ],
      "metadata": {
        "id": "JaHGp97i1kdw"
      },
      "execution_count": 159,
      "outputs": []
    },
    {
      "cell_type": "code",
      "source": [
        "prediction = model.predict(image)\n",
        "predicted_mask = np.argmax(prediction, axis=-1)\n",
        "predicted_mask = predicted_mask[0, :, :]"
      ],
      "metadata": {
        "id": "lxtiQlUJ16hG",
        "colab": {
          "base_uri": "https://localhost:8080/"
        },
        "outputId": "0b7ea760-2bd8-4d25-acb0-faec64d4ce38"
      },
      "execution_count": 160,
      "outputs": [
        {
          "output_type": "stream",
          "name": "stdout",
          "text": [
            "1/1 [==============================] - 0s 214ms/step\n"
          ]
        }
      ]
    },
    {
      "cell_type": "code",
      "source": [
        "predicted_mask"
      ],
      "metadata": {
        "id": "wiqqpsag2DuM",
        "outputId": "be835097-83e1-48df-bf5b-616fe8aa3801",
        "colab": {
          "base_uri": "https://localhost:8080/"
        }
      },
      "execution_count": 161,
      "outputs": [
        {
          "output_type": "execute_result",
          "data": {
            "text/plain": [
              "array([[6, 6, 6, ..., 6, 6, 6],\n",
              "       [6, 6, 6, ..., 6, 6, 6],\n",
              "       [6, 6, 6, ..., 6, 6, 6],\n",
              "       ...,\n",
              "       [6, 6, 6, ..., 6, 6, 6],\n",
              "       [6, 6, 6, ..., 6, 6, 6],\n",
              "       [6, 6, 6, ..., 6, 6, 6]])"
            ]
          },
          "metadata": {},
          "execution_count": 161
        }
      ]
    },
    {
      "cell_type": "code",
      "source": [
        "pip install matplotlib"
      ],
      "metadata": {
        "id": "_UpsDzfp2F7j",
        "outputId": "7397e181-a942-4436-ec45-d865a233f66e",
        "colab": {
          "base_uri": "https://localhost:8080/"
        }
      },
      "execution_count": 162,
      "outputs": [
        {
          "output_type": "stream",
          "name": "stdout",
          "text": [
            "Requirement already satisfied: matplotlib in /usr/local/lib/python3.10/dist-packages (3.7.1)\n",
            "Requirement already satisfied: contourpy>=1.0.1 in /usr/local/lib/python3.10/dist-packages (from matplotlib) (1.2.1)\n",
            "Requirement already satisfied: cycler>=0.10 in /usr/local/lib/python3.10/dist-packages (from matplotlib) (0.12.1)\n",
            "Requirement already satisfied: fonttools>=4.22.0 in /usr/local/lib/python3.10/dist-packages (from matplotlib) (4.51.0)\n",
            "Requirement already satisfied: kiwisolver>=1.0.1 in /usr/local/lib/python3.10/dist-packages (from matplotlib) (1.4.5)\n",
            "Requirement already satisfied: numpy>=1.20 in /usr/local/lib/python3.10/dist-packages (from matplotlib) (1.25.2)\n",
            "Requirement already satisfied: packaging>=20.0 in /usr/local/lib/python3.10/dist-packages (from matplotlib) (24.0)\n",
            "Requirement already satisfied: pillow>=6.2.0 in /usr/local/lib/python3.10/dist-packages (from matplotlib) (9.4.0)\n",
            "Requirement already satisfied: pyparsing>=2.3.1 in /usr/local/lib/python3.10/dist-packages (from matplotlib) (3.1.2)\n",
            "Requirement already satisfied: python-dateutil>=2.7 in /usr/local/lib/python3.10/dist-packages (from matplotlib) (2.8.2)\n",
            "Requirement already satisfied: six>=1.5 in /usr/local/lib/python3.10/dist-packages (from python-dateutil>=2.7->matplotlib) (1.16.0)\n"
          ]
        }
      ]
    },
    {
      "cell_type": "code",
      "source": [
        "import matplotlib.pyplot as plt\n",
        "\n",
        "def visualize_prediction(original_image, predicted_mask, figsize=(12, 6)):\n",
        "    # If the original image has more than 3 channels, select the first three for visualization\n",
        "    if original_image.shape[-1] > 3:\n",
        "        original_image = original_image[:, :, :3]\n",
        "\n",
        "    fig, axes = plt.subplots(1, 2, figsize=figsize)\n",
        "    # Display the original image\n",
        "    axes[0].imshow(original_image)\n",
        "    axes[0].set_title(\"Original Image\")\n",
        "    axes[0].axis('off')\n",
        "    # Display the predicted mask\n",
        "    # Assuming predicted_mask is 2D (height, width), you might want to add a colormap\n",
        "    axes[1].imshow(predicted_mask, cmap='viridis')  # Use a colormap that suits your task\n",
        "    axes[1].set_title(\"Predicted Mask\")\n",
        "    axes[1].axis('off')\n",
        "    plt.show()\n",
        "\n",
        "prediction = model.predict(image)\n",
        "\n",
        "# Convert prediction to a class mask\n",
        "predicted_mask = np.argmax(prediction, axis=-1)[0, :, :]  # Remove batch dimension\n",
        "adjusted_image = np.clip(image, 0, 1)  # Ensure values are within [0, 1]\n",
        "visualize_prediction(adjusted_image[0], predicted_mask)\n"
      ],
      "metadata": {
        "id": "1zCCtu_W2bw_",
        "outputId": "520bd4f4-ade4-4f85-f7ff-ce9348020bf6",
        "colab": {
          "base_uri": "https://localhost:8080/",
          "height": 409
        }
      },
      "execution_count": 163,
      "outputs": [
        {
          "output_type": "stream",
          "name": "stdout",
          "text": [
            "1/1 [==============================] - 0s 22ms/step\n"
          ]
        },
        {
          "output_type": "display_data",
          "data": {
            "text/plain": [
              "<Figure size 1200x600 with 2 Axes>"
            ],
            "image/png": "[encoded data removed]"
          },
          "metadata": {}
        }
      ]
    },
    {
      "cell_type": "code",
      "source": [
        "# model = load_model('/content/drive/MyDrive/DeepLearning_Project/planet_ThreeYear/test_dataset/model_03222024_1255/model_03222023_1255.h5')"
      ],
      "metadata": {
        "id": "uBzeAN7v-20I"
      },
      "execution_count": null,
      "outputs": []
    },
    {
      "cell_type": "code",
      "source": [
        "def predict_and_save(model, test_image_dir, model_input_size, output_folder):\n",
        "    image_files = [os.path.join(test_image_dir, f) for f in os.listdir(test_image_dir) if f.endswith('.tif')]\n",
        "\n",
        "    for image_path in image_files:\n",
        "        with rasterio.open(image_path) as src:\n",
        "            image = src.read(out_shape=(src.count, model_input_size[0], model_input_size[1]),\n",
        "                             resampling=rasterio.enums.Resampling.nearest)\n",
        "            image = np.transpose(image, (1, 2, 0))\n",
        "            image = np.expand_dims(image, axis=0)  # Add batch dimension\n",
        "            # image = image / np.max(image)  # Normalize\n",
        "            image = image / 2555.0\n",
        "\n",
        "            prediction = model.predict(image)\n",
        "            prediction_image = np.argmax(prediction, axis=-1)[0, :, :]\n",
        "            meta = src.meta\n",
        "            # meta.update(dtype=rasterio.uint8, count=1)\n",
        "            meta.update(dtype=rasterio.uint8, count=1, nodata=None)\n",
        "\n",
        "\n",
        "\n",
        "            output_path = os.path.join(output_folder, f\"prediction_{os.path.basename(image_path)}\")\n",
        "            with rasterio.open(output_path, 'w', **meta) as dst:\n",
        "                dst.write(prediction_image.astype(rasterio.uint8), 1)"
      ],
      "metadata": {
        "id": "Eqk8Mh0r-1im"
      },
      "execution_count": 54,
      "outputs": []
    },
    {
      "cell_type": "code",
      "source": [
        "# Define model input size and paths\n",
        "IMG_HEIGHT, IMG_WIDTH = img_height, img_width  # Ensure these are defined or replace them with actual values\n",
        "test_image_dir = '/content/drive/MyDrive/data/working_dir_3year/hold_images/'\n",
        "output_folder = '/content/drive/MyDrive/data/working_dir_3year/model_3year_20240415_1835/'\n",
        "\n",
        "# /content/drive/MyDrive/DeepLearning_Project/planet_TwoYear/test_dataset/model_03222024_1255/model_03222024_1255.h5\n",
        "\n",
        "# Make sure the output directory exists\n",
        "os.makedirs(output_folder, exist_ok=True)\n",
        "\n",
        "# Execute prediction and saving\n",
        "predict_and_save(model, test_image_dir, (IMG_HEIGHT, IMG_WIDTH), output_folder)\n"
      ],
      "metadata": {
        "id": "Ge1rak65-_HE"
      },
      "execution_count": null,
      "outputs": []
    }
  ]
}