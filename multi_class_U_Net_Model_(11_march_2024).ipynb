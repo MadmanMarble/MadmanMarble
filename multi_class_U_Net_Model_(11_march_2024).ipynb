{
  "nbformat": 4,
  "nbformat_minor": 0,
  "metadata": {
    "colab": {
      "provenance": [],
      "machine_shape": "hm",
      "gpuType": "T4",
      "authorship_tag": "ABX9TyOrAoTRlGQ45OErAXq1xauS",
      "include_colab_link": true
    },
    "kernelspec": {
      "name": "python3",
      "display_name": "Python 3"
    },
    "language_info": {
      "name": "python"
    },
    "accelerator": "GPU"
  },
  "cells": [
    {
      "cell_type": "markdown",
      "metadata": {
        "id": "view-in-github",
        "colab_type": "text"
      },
      "source": [
        "<a href=\"https://colab.research.google.com/github/MadmanMarble/MadmanMarble/blob/main/multi_class_U_Net_Model_(11_march_2024).ipynb\" target=\"_parent\"><img src=\"https://colab.research.google.com/assets/colab-badge.svg\" alt=\"Open In Colab\"/></a>"
      ]
    },
    {
      "cell_type": "code",
      "source": [
        "from google.colab import drive\n",
        "drive.mount('/content/drive')"
      ],
      "metadata": {
        "colab": {
          "base_uri": "https://localhost:8080/"
        },
        "id": "LUIKBFlw6I9x",
        "outputId": "f2ee5ab5-83ad-4417-a2cf-508a56f60ed9"
      },
      "execution_count": 1,
      "outputs": [
        {
          "output_type": "stream",
          "name": "stdout",
          "text": [
            "Mounted at /content/drive\n"
          ]
        }
      ]
    },
    {
      "cell_type": "code",
      "source": [
        "# multi-class u-net model\n",
        "\n",
        "from keras.models import Model\n",
        "from keras.layers import Input, Conv2D, MaxPooling2D, UpSampling2D, concatenate, Conv2DTranspose, BatchNormalization, Dropout, Lambda\n",
        "from keras.utils import normalize\n",
        "import os\n",
        "import glob\n",
        "import cv2\n",
        "import numpy as np\n",
        "from matplotlib import pyplot as plt"
      ],
      "metadata": {
        "id": "8yJFp5hE5TqQ"
      },
      "execution_count": 2,
      "outputs": []
    },
    {
      "cell_type": "code",
      "source": [
        "pip install rasterio\n"
      ],
      "metadata": {
        "colab": {
          "base_uri": "https://localhost:8080/"
        },
        "id": "8UMP0jpjCOl7",
        "outputId": "51568e0c-7a58-407b-e2d0-38cd0e372209"
      },
      "execution_count": 3,
      "outputs": [
        {
          "output_type": "stream",
          "name": "stdout",
          "text": [
            "Collecting rasterio\n",
            "  Downloading rasterio-1.3.10-cp310-cp310-manylinux2014_x86_64.whl (21.5 MB)\n",
            "\u001b[?25l     \u001b[90m━━━━━━━━━━━━━━━━━━━━━━━━━━━━━━━━━━━━━━━━\u001b[0m \u001b[32m0.0/21.5 MB\u001b[0m \u001b[31m?\u001b[0m eta \u001b[36m-:--:--\u001b[0m\r\u001b[2K     \u001b[90m━━━━━━━━━━━━━━━━━━━━━━━━━━━━━━━━━━━━━━━━\u001b[0m \u001b[32m0.1/21.5 MB\u001b[0m \u001b[31m3.4 MB/s\u001b[0m eta \u001b[36m0:00:07\u001b[0m\r\u001b[2K     \u001b[91m╸\u001b[0m\u001b[90m━━━━━━━━━━━━━━━━━━━━━━━━━━━━━━━━━━━━━━━\u001b[0m \u001b[32m0.4/21.5 MB\u001b[0m \u001b[31m5.6 MB/s\u001b[0m eta \u001b[36m0:00:04\u001b[0m\r\u001b[2K     \u001b[91m━\u001b[0m\u001b[90m╺\u001b[0m\u001b[90m━━━━━━━━━━━━━━━━━━━━━━━━━━━━━━━━━━━━━━\u001b[0m \u001b[32m0.7/21.5 MB\u001b[0m \u001b[31m6.5 MB/s\u001b[0m eta \u001b[36m0:00:04\u001b[0m\r\u001b[2K     \u001b[91m━\u001b[0m\u001b[91m╸\u001b[0m\u001b[90m━━━━━━━━━━━━━━━━━━━━━━━━━━━━━━━━━━━━━━\u001b[0m \u001b[32m1.0/21.5 MB\u001b[0m \u001b[31m7.5 MB/s\u001b[0m eta \u001b[36m0:00:03\u001b[0m\r\u001b[2K     \u001b[91m━━\u001b[0m\u001b[91m╸\u001b[0m\u001b[90m━━━━━━━━━━━━━━━━━━━━━━━━━━━━━━━━━━━━━\u001b[0m \u001b[32m1.4/21.5 MB\u001b[0m \u001b[31m8.2 MB/s\u001b[0m eta \u001b[36m0:00:03\u001b[0m\r\u001b[2K     \u001b[91m━━━\u001b[0m\u001b[91m╸\u001b[0m\u001b[90m━━━━━━━━━━━━━━━━━━━━━━━━━━━━━━━━━━━━\u001b[0m \u001b[32m1.9/21.5 MB\u001b[0m \u001b[31m9.1 MB/s\u001b[0m eta \u001b[36m0:00:03\u001b[0m\r\u001b[2K     \u001b[91m━━━━\u001b[0m\u001b[91m╸\u001b[0m\u001b[90m━━━━━━━━━━━━━━━━━━━━━━━━━━━━━━━━━━━\u001b[0m \u001b[32m2.4/21.5 MB\u001b[0m \u001b[31m10.0 MB/s\u001b[0m eta \u001b[36m0:00:02\u001b[0m\r\u001b[2K     \u001b[91m━━━━━\u001b[0m\u001b[91m╸\u001b[0m\u001b[90m━━━━━━━━━━━━━━━━━━━━━━━━━━━━━━━━━━\u001b[0m \u001b[32m3.1/21.5 MB\u001b[0m \u001b[31m11.0 MB/s\u001b[0m eta \u001b[36m0:00:02\u001b[0m\r\u001b[2K     \u001b[91m━━━━━━━\u001b[0m\u001b[90m╺\u001b[0m\u001b[90m━━━━━━━━━━━━━━━━━━━━━━━━━━━━━━━━\u001b[0m \u001b[32m3.8/21.5 MB\u001b[0m \u001b[31m12.1 MB/s\u001b[0m eta \u001b[36m0:00:02\u001b[0m\r\u001b[2K     \u001b[91m━━━━━━━━\u001b[0m\u001b[91m╸\u001b[0m\u001b[90m━━━━━━━━━━━━━━━━━━━━━━━━━━━━━━━\u001b[0m \u001b[32m4.7/21.5 MB\u001b[0m \u001b[31m13.4 MB/s\u001b[0m eta \u001b[36m0:00:02\u001b[0m\r\u001b[2K     \u001b[91m━━━━━━━━━━\u001b[0m\u001b[90m╺\u001b[0m\u001b[90m━━━━━━━━━━━━━━━━━━━━━━━━━━━━━\u001b[0m \u001b[32m5.6/21.5 MB\u001b[0m \u001b[31m14.7 MB/s\u001b[0m eta \u001b[36m0:00:02\u001b[0m\r\u001b[2K     \u001b[91m━━━━━━━━━━━━\u001b[0m\u001b[91m╸\u001b[0m\u001b[90m━━━━━━━━━━━━━━━━━━━━━━━━━━━\u001b[0m \u001b[32m6.8/21.5 MB\u001b[0m \u001b[31m16.2 MB/s\u001b[0m eta \u001b[36m0:00:01\u001b[0m\r\u001b[2K     \u001b[91m━━━━━━━━━━━━━━━\u001b[0m\u001b[90m╺\u001b[0m\u001b[90m━━━━━━━━━━━━━━━━━━━━━━━━\u001b[0m \u001b[32m8.1/21.5 MB\u001b[0m \u001b[31m17.9 MB/s\u001b[0m eta \u001b[36m0:00:01\u001b[0m\r\u001b[2K     \u001b[91m━━━━━━━━━━━━━━━━━━\u001b[0m\u001b[90m╺\u001b[0m\u001b[90m━━━━━━━━━━━━━━━━━━━━━\u001b[0m \u001b[32m9.7/21.5 MB\u001b[0m \u001b[31m19.9 MB/s\u001b[0m eta \u001b[36m0:00:01\u001b[0m\r\u001b[2K     \u001b[91m━━━━━━━━━━━━━━━━━━━━━\u001b[0m\u001b[91m╸\u001b[0m\u001b[90m━━━━━━━━━━━━━━━━━━\u001b[0m \u001b[32m11.6/21.5 MB\u001b[0m \u001b[31m28.8 MB/s\u001b[0m eta \u001b[36m0:00:01\u001b[0m\r\u001b[2K     \u001b[91m━━━━━━━━━━━━━━━━━━━━━━━━━\u001b[0m\u001b[91m╸\u001b[0m\u001b[90m━━━━━━━━━━━━━━\u001b[0m \u001b[32m13.8/21.5 MB\u001b[0m \u001b[31m39.5 MB/s\u001b[0m eta \u001b[36m0:00:01\u001b[0m\r\u001b[2K     \u001b[91m━━━━━━━━━━━━━━━━━━━━━━━━━━━━━━\u001b[0m\u001b[90m╺\u001b[0m\u001b[90m━━━━━━━━━\u001b[0m \u001b[32m16.3/21.5 MB\u001b[0m \u001b[31m51.4 MB/s\u001b[0m eta \u001b[36m0:00:01\u001b[0m\r\u001b[2K     \u001b[91m━━━━━━━━━━━━━━━━━━━━━━━━━━━━━━━━━━━\u001b[0m\u001b[91m╸\u001b[0m\u001b[90m━━━━\u001b[0m \u001b[32m19.1/21.5 MB\u001b[0m \u001b[31m64.1 MB/s\u001b[0m eta \u001b[36m0:00:01\u001b[0m\r\u001b[2K     \u001b[91m━━━━━━━━━━━━━━━━━━━━━━━━━━━━━━━━━━━━━━━\u001b[0m\u001b[91m╸\u001b[0m \u001b[32m21.5/21.5 MB\u001b[0m \u001b[31m74.4 MB/s\u001b[0m eta \u001b[36m0:00:01\u001b[0m\r\u001b[2K     \u001b[91m━━━━━━━━━━━━━━━━━━━━━━━━━━━━━━━━━━━━━━━\u001b[0m\u001b[91m╸\u001b[0m \u001b[32m21.5/21.5 MB\u001b[0m \u001b[31m74.4 MB/s\u001b[0m eta \u001b[36m0:00:01\u001b[0m\r\u001b[2K     \u001b[91m━━━━━━━━━━━━━━━━━━━━━━━━━━━━━━━━━━━━━━━\u001b[0m\u001b[91m╸\u001b[0m \u001b[32m21.5/21.5 MB\u001b[0m \u001b[31m74.4 MB/s\u001b[0m eta \u001b[36m0:00:01\u001b[0m\r\u001b[2K     \u001b[90m━━━━━━━━━━━━━━━━━━━━━━━━━━━━━━━━━━━━━━━━\u001b[0m \u001b[32m21.5/21.5 MB\u001b[0m \u001b[31m43.5 MB/s\u001b[0m eta \u001b[36m0:00:00\u001b[0m\n",
            "\u001b[?25hCollecting affine (from rasterio)\n",
            "  Downloading affine-2.4.0-py3-none-any.whl (15 kB)\n",
            "Requirement already satisfied: attrs in /usr/local/lib/python3.10/dist-packages (from rasterio) (23.2.0)\n",
            "Requirement already satisfied: certifi in /usr/local/lib/python3.10/dist-packages (from rasterio) (2024.2.2)\n",
            "Requirement already satisfied: click>=4.0 in /usr/local/lib/python3.10/dist-packages (from rasterio) (8.1.7)\n",
            "Requirement already satisfied: cligj>=0.5 in /usr/local/lib/python3.10/dist-packages (from rasterio) (0.7.2)\n",
            "Requirement already satisfied: numpy in /usr/local/lib/python3.10/dist-packages (from rasterio) (1.25.2)\n",
            "Collecting snuggs>=1.4.1 (from rasterio)\n",
            "  Downloading snuggs-1.4.7-py3-none-any.whl (5.4 kB)\n",
            "Requirement already satisfied: click-plugins in /usr/local/lib/python3.10/dist-packages (from rasterio) (1.1.1)\n",
            "Requirement already satisfied: setuptools in /usr/local/lib/python3.10/dist-packages (from rasterio) (67.7.2)\n",
            "Requirement already satisfied: pyparsing>=2.1.6 in /usr/local/lib/python3.10/dist-packages (from snuggs>=1.4.1->rasterio) (3.1.2)\n",
            "Installing collected packages: snuggs, affine, rasterio\n",
            "Successfully installed affine-2.4.0 rasterio-1.3.10 snuggs-1.4.7\n"
          ]
        }
      ]
    },
    {
      "cell_type": "code",
      "source": [
        "import rasterio"
      ],
      "metadata": {
        "id": "zIoNIbnZCSbL"
      },
      "execution_count": 4,
      "outputs": []
    },
    {
      "cell_type": "code",
      "source": [
        "from tensorflow.keras.optimizers import Adam\n",
        "import numpy as np\n",
        "import cv2\n",
        "import os\n",
        "from tensorflow.keras.utils import Sequence\n",
        "from tensorflow.keras.callbacks import Callback\n",
        "import rasterio\n",
        "import tensorflow as tf\n",
        "from tensorflow.keras.models import load_model"
      ],
      "metadata": {
        "id": "M1i19bNB_51z"
      },
      "execution_count": 66,
      "outputs": []
    },
    {
      "cell_type": "code",
      "source": [
        "from sklearn.model_selection import train_test_split\n",
        "import shutil"
      ],
      "metadata": {
        "id": "VPCAjWgNs2J0"
      },
      "execution_count": 5,
      "outputs": []
    },
    {
      "cell_type": "markdown",
      "source": [
        "OneYear data loading"
      ],
      "metadata": {
        "id": "uxOmlQOlJ_Js"
      }
    },
    {
      "cell_type": "code",
      "source": [
        "directory_path = \"/content/drive/MyDrive/data/images/x_training/1year\"\n",
        "entries = os.listdir(directory_path)\n",
        "num_files = len(entries)\n",
        "print(f\"There are {num_files} files in {directory_path}.\")"
      ],
      "metadata": {
        "colab": {
          "base_uri": "https://localhost:8080/"
        },
        "id": "pSXuiuHUF0ac",
        "outputId": "1af94397-aca5-42b3-b7ef-8f67b3aa126a"
      },
      "execution_count": 6,
      "outputs": [
        {
          "output_type": "stream",
          "name": "stdout",
          "text": [
            "There are 199 files in /content/drive/MyDrive/data/images/x_training/3year.\n"
          ]
        }
      ]
    },
    {
      "cell_type": "code",
      "source": [
        "directory_path = \"/content/drive/MyDrive/data/labels/y_training\"\n",
        "entries = os.listdir(directory_path)\n",
        "num_files = len(entries)\n",
        "print(f\"There are {num_files} files in {directory_path}.\")"
      ],
      "metadata": {
        "colab": {
          "base_uri": "https://localhost:8080/"
        },
        "id": "_SzVVY3cF3H_",
        "outputId": "d27896f5-dd52-42f2-ea3b-a4b4292f5f7b"
      },
      "execution_count": 7,
      "outputs": [
        {
          "output_type": "stream",
          "name": "stdout",
          "text": [
            "There are 199 files in /content/drive/MyDrive/data/labels/y_training.\n"
          ]
        }
      ]
    },
    {
      "cell_type": "code",
      "source": [
        "# Ensure the lists are sorted so that images and labels correspond to each other\n",
        "x_training = sorted(glob.glob(f\"/content/drive/MyDrive/data/images/x_training/1year/*.tif\"))\n",
        "y_training = sorted(glob.glob(f\"/content/drive/MyDrive/data/labels/y_training/*.tif\"))\n",
        "\n",
        "# Split the file paths into training and testing sets (80% train, 20% test)\n",
        "x_train, x_test, y_train, y_test = train_test_split(x_training, y_training, test_size=0.2, random_state=80)"
      ],
      "metadata": {
        "id": "GTkdYTSBPAdL"
      },
      "execution_count": 10,
      "outputs": []
    },
    {
      "cell_type": "code",
      "source": [
        "N = 50\n",
        "nu = 5\n",
        "\n",
        "random_train_indices = np.random.choice(len(x_train), N, replace=False)\n",
        "random_test_indices = np.random.choice(len(x_test), nu, replace=False)\n",
        "\n",
        "# Subset the data using these random indices\n",
        "subset_x_train = [x_train[i] for i in random_train_indices]\n",
        "subset_y_train = [y_train[i] for i in random_train_indices]\n",
        "subset_x_test = [x_test[i] for i in random_test_indices]\n",
        "subset_y_test = [y_test[i] for i in random_test_indices]"
      ],
      "metadata": {
        "id": "NEIOfGiy_nj0"
      },
      "execution_count": 12,
      "outputs": []
    },
    {
      "cell_type": "code",
      "source": [
        "destination = '/content/subset_y_test'\n",
        "os.makedirs(destination, exist_ok=True)\n",
        "for file in subset_y_test:\n",
        "    dest_file = os.path.join(destination, os.path.basename(file))\n",
        "    shutil.copy(file, dest_file)\n",
        "    print(f'Copied {file} to {dest_file}')\n",
        "directory_path = \"/content/subset_y_test\"\n",
        "entries = os.listdir(directory_path)\n",
        "num_files = len(entries)\n",
        "print(f\"There are {num_files} files in {directory_path}.\")"
      ],
      "metadata": {
        "colab": {
          "base_uri": "https://localhost:8080/"
        },
        "id": "iApU1p_tGPzn",
        "outputId": "f8c4bb98-bdf7-4533-a12d-de6baaff62a9"
      },
      "execution_count": 14,
      "outputs": [
        {
          "output_type": "stream",
          "name": "stdout",
          "text": [
            "Copied /content/drive/MyDrive/data/labels/y_training/1610_multi_wl.tif to /content/subset_y_test/1610_multi_wl.tif\n",
            "Copied /content/drive/MyDrive/data/labels/y_training/331_multi_wl.tif to /content/subset_y_test/331_multi_wl.tif\n",
            "Copied /content/drive/MyDrive/data/labels/y_training/1521_multi_wl.tif to /content/subset_y_test/1521_multi_wl.tif\n",
            "Copied /content/drive/MyDrive/data/labels/y_training/787_multi_wl.tif to /content/subset_y_test/787_multi_wl.tif\n",
            "Copied /content/drive/MyDrive/data/labels/y_training/1535_multi_wl.tif to /content/subset_y_test/1535_multi_wl.tif\n",
            "There are 5 files in /content/subset_y_test.\n"
          ]
        }
      ]
    },
    {
      "cell_type": "code",
      "source": [
        "destination = '/content/subset_y_train'\n",
        "os.makedirs(destination, exist_ok=True)\n",
        "for file in subset_y_train:\n",
        "    dest_file = os.path.join(destination, os.path.basename(file))\n",
        "    shutil.copy(file, dest_file)\n",
        "    print(f'Copied {file} to {dest_file}')\n",
        "directory_path = \"/content/subset_y_train\"\n",
        "entries = os.listdir(directory_path)\n",
        "num_files = len(entries)\n",
        "print(f\"There are {num_files} files in {directory_path}.\")"
      ],
      "metadata": {
        "id": "NBMX52z6G364"
      },
      "execution_count": null,
      "outputs": []
    },
    {
      "cell_type": "code",
      "source": [
        "destination = '/content/subset_x_test'\n",
        "os.makedirs(destination, exist_ok=True)\n",
        "for file in subset_x_test:\n",
        "    dest_file = os.path.join(destination, os.path.basename(file))\n",
        "    shutil.copy(file, dest_file)\n",
        "    print(f'Copied {file} to {dest_file}')\n",
        "directory_path = \"/content/subset_x_test\"\n",
        "entries = os.listdir(directory_path)\n",
        "num_files = len(entries)\n",
        "print(f\"There are {num_files} files in {directory_path}.\")"
      ],
      "metadata": {
        "id": "qpUwNJZIJHtD"
      },
      "execution_count": null,
      "outputs": []
    },
    {
      "cell_type": "code",
      "source": [
        "destination = '/content/subset_x_train'\n",
        "os.makedirs(destination, exist_ok=True)\n",
        "for file in subset_x_train:\n",
        "    dest_file = os.path.join(destination, os.path.basename(file))\n",
        "    shutil.copy(file, dest_file)\n",
        "    print(f'Copied {file} to {dest_file}')\n",
        "directory_path = \"/content/subset_x_train\"\n",
        "entries = os.listdir(directory_path)\n",
        "num_files = len(entries)\n",
        "print(f\"There are {num_files} files in {directory_path}.\")"
      ],
      "metadata": {
        "id": "dPTS8L1dJPMe"
      },
      "execution_count": null,
      "outputs": []
    },
    {
      "cell_type": "code",
      "source": [
        "subset_x_train = sorted(glob.glob(f\"/content/subset_x_train/*.tif\"))\n",
        "subset_y_train = sorted(glob.glob(f\"/content/subset_y_train/*.tif\"))\n",
        "\n",
        "subset_x_test = sorted(glob.glob(f\"/content/subset_x_test/*.tif\"))\n",
        "subset_y_test= sorted(glob.glob(f\"/content/subset_y_test/*.tif\"))"
      ],
      "metadata": {
        "id": "-IFr0L4L_Q5u"
      },
      "execution_count": 18,
      "outputs": []
    },
    {
      "cell_type": "code",
      "source": [
        "print(f\"there are {len(subset_x_train)} images for training\")\n",
        "print(f\"there are {len(subset_y_train)} labels for training\")\n",
        "print(f\"there are {len(subset_x_test)} images for validation\")\n",
        "print(f\"there are {len(subset_y_test)} labels for validation\")"
      ],
      "metadata": {
        "colab": {
          "base_uri": "https://localhost:8080/"
        },
        "id": "OFTi7Pz2N0RZ",
        "outputId": "f6f144cc-1239-4f9e-80e9-06c296b1eb09"
      },
      "execution_count": 19,
      "outputs": [
        {
          "output_type": "stream",
          "name": "stdout",
          "text": [
            "there are 50 images for training\n",
            "there are 50 labels for training\n",
            "there are 5 images for validation\n",
            "there are 5 labels for validation\n"
          ]
        }
      ]
    },
    {
      "cell_type": "markdown",
      "source": [
        "same from here"
      ],
      "metadata": {
        "id": "xL6KVk_TKVeY"
      }
    },
    {
      "cell_type": "code",
      "source": [
        "# for 1 year images - this works dont f it up\n",
        "def read_multi_image(file_path):\n",
        "    with rasterio.open(file_path) as src:\n",
        "      bands = [src.read(i) for i in range(1,5)]\n",
        "\n",
        "      image = np.stack(bands, axis=-1)\n",
        "\n",
        "      image = image.astype(float)\n",
        "      max_value = image.max(axis=(0,1), keepdims=True)\n",
        "      min_value = image.min(axis=(0,1), keepdims=True)\n",
        "      image = (image - min_value) / (max_value - min_value)\n",
        "\n",
        "      return image"
      ],
      "metadata": {
        "id": "h8WjYNPxBI6W"
      },
      "execution_count": 84,
      "outputs": []
    },
    {
      "cell_type": "code",
      "source": [
        "# for 1 year images - this with handling of band 5\n",
        "def read_multi_image_withfive(file_path):\n",
        "    with rasterio.open(file_path) as src:\n",
        "      bands = [src.read(i) for i in range(1,5)]\n",
        "\n",
        "      image = np.stack(bands, axis=-1)\n",
        "\n",
        "      image = image.astype(float)\n",
        "      max_value = image.max(axis=(0,1), keepdims=True)\n",
        "      min_value = image.min(axis=(0,1), keepdims=True)\n",
        "      image = (image - min_value) / (max_value - min_value)\n",
        "\n",
        "      band_five = src.read(5)\n",
        "\n",
        "      band_five = band_five.astype(float) /band_five.max()\n",
        "      band_five = np.expand_dims(band_five, axis=-1)\n",
        "      combined_image = np.concatenate([image, band_five], axis=-1)\n",
        "\n",
        "\n",
        "      return combined_image"
      ],
      "metadata": {
        "id": "JA7kGfbWXtfl"
      },
      "execution_count": 124,
      "outputs": []
    },
    {
      "cell_type": "code",
      "source": [
        "# def preprocess_data(image_path):\n",
        "#     with rasterio.open(image_path) as src:\n",
        "#         # Read the first four bands, assuming we drop the fifth band\n",
        "#         image = src.read([1, 2, 3, 4])  # Adjust the indices based on which bands you need\n",
        "#         image = np.transpose(image, (1, 2, 0))  # Reorder dimensions to (height, width, channels)\n",
        "#     return image\n",
        "\n",
        "# # Then use this function to load your images:\n",
        "# x_train = np.array([preprocess_data(path) for path in train_paths])\n",
        "# x_test = np.array([preprocess_data(path) for path in test_paths])\n"
      ],
      "metadata": {
        "id": "4cuh4hNdVDRO"
      },
      "execution_count": 85,
      "outputs": []
    },
    {
      "cell_type": "code",
      "source": [
        "# pre_x_train = np.array([preprocess_data(path) for path in subset_x_train])"
      ],
      "metadata": {
        "id": "zzccf58hXJ5Z"
      },
      "execution_count": 88,
      "outputs": []
    },
    {
      "cell_type": "code",
      "source": [
        "def read_image_labels(file_path):\n",
        "    with rasterio.open(file_path) as src:\n",
        "      label_image = src.read(1) # read the sing band\n",
        "      return label_image.astype(np.int32) # ensuring labels are interger type"
      ],
      "metadata": {
        "id": "4Kca72h1BK6D"
      },
      "execution_count": 125,
      "outputs": []
    },
    {
      "cell_type": "code",
      "source": [
        "# lets read and process image data for the subsets using read_multi_image to convert\n",
        "# each path in the subset into useable data array for x and y data\n",
        "\n",
        "subset_x_train_data = [read_multi_image(file_path) for file_path in subset_x_train]\n",
        "subset_x_test_data = [read_multi_image(file_path) for file_path in subset_x_test]\n",
        "subset_y_train_data = [read_image_labels(file_path) for file_path in subset_y_train]\n",
        "subset_y_test_data = [read_image_labels(file_path) for file_path in subset_y_test]\n",
        "print(type(subset_x_train_data))\n",
        "print(type(subset_y_train_data))"
      ],
      "metadata": {
        "colab": {
          "base_uri": "https://localhost:8080/"
        },
        "id": "JvqSXXrdBPCm",
        "outputId": "c28846f5-9d65-430a-918c-66f10f4fa9ef"
      },
      "execution_count": 126,
      "outputs": [
        {
          "output_type": "stream",
          "name": "stdout",
          "text": [
            "<class 'list'>\n",
            "<class 'list'>\n"
          ]
        }
      ]
    },
    {
      "cell_type": "code",
      "source": [
        "subset_x_train_data[3] # 0.06685982, 0.09896104, 0.07385445, 0.39563863"
      ],
      "metadata": {
        "id": "at9VHYE2YPmE"
      },
      "execution_count": null,
      "outputs": []
    },
    {
      "cell_type": "code",
      "source": [
        "subset_x_train_data = [read_multi_image_withfive(file_path) for file_path in subset_x_train]\n",
        "subset_x_test_data = [read_multi_image_withfive(file_path) for file_path in subset_x_test]\n",
        "subset_y_train_data = [read_image_labels(file_path) for file_path in subset_y_train]\n",
        "subset_y_test_data = [read_image_labels(file_path) for file_path in subset_y_test]\n",
        "# subset_x_train_data[3] # 0.06685982, 0.09896104, 0.07385445, 0.39563863, 0.21425932"
      ],
      "metadata": {
        "id": "I4WU4pn6YW2L"
      },
      "execution_count": 127,
      "outputs": []
    },
    {
      "cell_type": "code",
      "source": [
        "# # Example: Check the first element to see its unique values and shape\n",
        "print(\"Unique labels y_train image:\", np.unique(subset_y_train_data[8]))\n",
        "print(\"Shape of y_train image:\", subset_y_train_data[8].shape)\n",
        "print(\"Shape of x_train image:\", subset_x_train_data[8].shape)\n"
      ],
      "metadata": {
        "colab": {
          "base_uri": "https://localhost:8080/"
        },
        "id": "CDdAYHUDBWe1",
        "outputId": "748b9d2f-5604-4ddb-b629-333ac892bc90"
      },
      "execution_count": 128,
      "outputs": [
        {
          "output_type": "stream",
          "name": "stdout",
          "text": [
            "Unique labels y_train image: [1 2 3 4 5 7]\n",
            "Shape of y_train image: (384, 384)\n",
            "Shape of x_train image: (384, 384, 5)\n"
          ]
        }
      ]
    },
    {
      "cell_type": "code",
      "source": [],
      "metadata": {
        "id": "RlekIFu_WPTn"
      },
      "execution_count": null,
      "outputs": []
    },
    {
      "cell_type": "code",
      "source": [
        "x_train = np.array(subset_x_train_data)\n",
        "x_test = np.array(subset_x_test_data)\n",
        "y_train = np.array(subset_y_train_data)\n",
        "y_test = np.array(subset_y_test_data)\n",
        "print(type(x_train))\n",
        "print(type(y_train))"
      ],
      "metadata": {
        "colab": {
          "base_uri": "https://localhost:8080/"
        },
        "id": "arxfORtXESAv",
        "outputId": "92f0afa6-b4f2-4d2b-88c4-de550e84cdb6"
      },
      "execution_count": 129,
      "outputs": [
        {
          "output_type": "stream",
          "name": "stdout",
          "text": [
            "<class 'numpy.ndarray'>\n",
            "<class 'numpy.ndarray'>\n"
          ]
        }
      ]
    },
    {
      "cell_type": "code",
      "source": [
        "from tensorflow.keras.utils import to_categorical"
      ],
      "metadata": {
        "id": "EKPS9XfxD2Im"
      },
      "execution_count": 104,
      "outputs": []
    },
    {
      "cell_type": "code",
      "source": [
        "y_train_shifted = y_train -1\n",
        "y_test_shifted = y_test -1"
      ],
      "metadata": {
        "id": "_SKN9v36E8iF"
      },
      "execution_count": 130,
      "outputs": []
    },
    {
      "cell_type": "code",
      "source": [
        "print(y_train_shifted.shape)\n",
        "print(y_test_shifted.shape)"
      ],
      "metadata": {
        "colab": {
          "base_uri": "https://localhost:8080/"
        },
        "id": "CfmgJ1oTFAb9",
        "outputId": "9ed7b5c6-80d5-4fbc-ab58-4e9cac669ed0"
      },
      "execution_count": 131,
      "outputs": [
        {
          "output_type": "stream",
          "name": "stdout",
          "text": [
            "(50, 384, 384)\n",
            "(5, 384, 384)\n"
          ]
        }
      ]
    },
    {
      "cell_type": "code",
      "source": [
        "y_train_encoded = to_categorical(y_train_shifted, num_classes = 7)\n",
        "y_test_encoded = to_categorical(y_test_shifted, num_classes = 7)"
      ],
      "metadata": {
        "id": "lDmNq6lkD2uy"
      },
      "execution_count": 132,
      "outputs": []
    },
    {
      "cell_type": "code",
      "source": [
        "print(y_train_encoded.shape)\n",
        "print(y_test_encoded.shape)"
      ],
      "metadata": {
        "colab": {
          "base_uri": "https://localhost:8080/"
        },
        "id": "SvQ6fzezFOGV",
        "outputId": "dce2b052-2d10-4d2a-f073-dc0fc32d76fd"
      },
      "execution_count": 133,
      "outputs": [
        {
          "output_type": "stream",
          "name": "stdout",
          "text": [
            "(50, 384, 384, 7)\n",
            "(5, 384, 384, 7)\n"
          ]
        }
      ]
    },
    {
      "cell_type": "code",
      "source": [
        "print(x_train.shape)\n",
        "print(x_test.shape)"
      ],
      "metadata": {
        "colab": {
          "base_uri": "https://localhost:8080/"
        },
        "id": "4u7x8tn6FXvd",
        "outputId": "b4253f94-ba87-4652-b4f4-ada0dd8468ad"
      },
      "execution_count": 134,
      "outputs": [
        {
          "output_type": "stream",
          "name": "stdout",
          "text": [
            "(50, 384, 384, 5)\n",
            "(5, 384, 384, 5)\n"
          ]
        }
      ]
    },
    {
      "cell_type": "code",
      "source": [
        "from tensorflow.keras.models import Model\n",
        "from tensorflow.keras.layers import Input, Conv2D, MaxPooling2D, Dropout, UpSampling2D, concatenate\n",
        "\n",
        "def unet_model(input_size=(384, 384, 5), num_classes=7):\n",
        "    inputs = Input(input_size)\n",
        "\n",
        "    # Downsampling (Contracting Path)\n",
        "    c1 = Conv2D(64, (3, 3), activation='relu', kernel_initializer='he_normal', padding='same')(inputs)\n",
        "    c1 = BatchNormalization()(c1)\n",
        "    c1 = Dropout(0.1)(c1)\n",
        "    c1 = Conv2D(64, (3, 3), activation='relu', kernel_initializer='he_normal', padding='same')(c1)\n",
        "    c1 = BatchNormalization()(c1)\n",
        "    p1 = MaxPooling2D((2, 2))(c1)\n",
        "\n",
        "    c2 = Conv2D(128, (3, 3), activation='relu', kernel_initializer='he_normal', padding='same')(p1)\n",
        "    c2 = BatchNormalization()(c2)\n",
        "    c2 = Dropout(0.1)(c2)\n",
        "    c2 = Conv2D(128, (3, 3), activation='relu', kernel_initializer='he_normal', padding='same')(c2)\n",
        "    c2 = BatchNormalization()(c2)\n",
        "    p2 = MaxPooling2D((2, 2))(c2)\n",
        "\n",
        "    # Bottleneck\n",
        "    c3 = Conv2D(256, (3, 3), activation='relu', kernel_initializer='he_normal', padding='same')(p2)\n",
        "    c3 = BatchNormalization()(c3)\n",
        "    c3 = Dropout(0.2)(c3)\n",
        "    c3 = Conv2D(256, (3, 3), activation='relu', kernel_initializer='he_normal', padding='same')(c3)\n",
        "    c3 = BatchNormalization()(c3)\n",
        "\n",
        "    # Upsampling (Expanding Path)\n",
        "    u4 = UpSampling2D((2, 2))(c3)\n",
        "    u4 = concatenate([u4, c2])\n",
        "    c4 = Conv2D(128, (3, 3), activation='relu', kernel_initializer='he_normal', padding='same')(u4)\n",
        "    c4 = BatchNormalization()(c4)\n",
        "    c4 = Dropout(0.1)(c4)\n",
        "    c4 = Conv2D(128, (3, 3), activation='relu', kernel_initializer='he_normal', padding='same')(c4)\n",
        "    c4 = BatchNormalization()(c4)\n",
        "\n",
        "    u5 = UpSampling2D((2, 2))(c4)\n",
        "    u5 = concatenate([u5, c1], axis=3)\n",
        "    c5 = Conv2D(64, (3, 3), activation='relu', kernel_initializer='he_normal', padding='same')(u5)\n",
        "    c5 = BatchNormalization()(c5)\n",
        "    c5 = Dropout(0.1)(c5)\n",
        "    c5 = Conv2D(64, (3, 3), activation='relu', kernel_initializer='he_normal', padding='same')(c5)\n",
        "    c5 = BatchNormalization()(c5)\n",
        "\n",
        "    # Output layer\n",
        "    outputs = Conv2D(num_classes, (1, 1), activation='softmax')(c5)\n",
        "\n",
        "    model = Model(inputs=[inputs], outputs=[outputs])\n",
        "    model.compile(optimizer='adam', loss='categorical_crossentropy', metrics=['accuracy'])\n",
        "\n",
        "    return model\n",
        "\n",
        "# Create the U-Net model\n",
        "model = unet_model()\n"
      ],
      "metadata": {
        "id": "g1-a9ArZG-Oi"
      },
      "execution_count": 135,
      "outputs": []
    },
    {
      "cell_type": "code",
      "source": [
        "print(model.input)\n",
        "print(model.output)\n"
      ],
      "metadata": {
        "id": "VmnHrBSDW3OG",
        "outputId": "fc95a5cd-c4e9-41d3-eae4-24c380d74717",
        "colab": {
          "base_uri": "https://localhost:8080/"
        }
      },
      "execution_count": 136,
      "outputs": [
        {
          "output_type": "stream",
          "name": "stdout",
          "text": [
            "KerasTensor(type_spec=TensorSpec(shape=(None, 384, 384, 5), dtype=tf.float32, name='input_6'), name='input_6', description=\"created by layer 'input_6'\")\n",
            "KerasTensor(type_spec=TensorSpec(shape=(None, 384, 384, 7), dtype=tf.float32, name=None), name='conv2d_69/Softmax:0', description=\"created by layer 'conv2d_69'\")\n"
          ]
        }
      ]
    },
    {
      "cell_type": "code",
      "source": [
        "print(model.summary()) # oneYear = 1,889,799"
      ],
      "metadata": {
        "id": "FqdHXV6I7zBr",
        "colab": {
          "base_uri": "https://localhost:8080/"
        },
        "outputId": "2a2e4c67-c5f8-4d2b-ccb9-aea69e2b94d5"
      },
      "execution_count": 137,
      "outputs": [
        {
          "output_type": "stream",
          "name": "stdout",
          "text": [
            "Model: \"model_5\"\n",
            "__________________________________________________________________________________________________\n",
            " Layer (type)                Output Shape                 Param #   Connected to                  \n",
            "==================================================================================================\n",
            " input_6 (InputLayer)        [(None, 384, 384, 5)]        0         []                            \n",
            "                                                                                                  \n",
            " conv2d_59 (Conv2D)          (None, 384, 384, 64)         2944      ['input_6[0][0]']             \n",
            "                                                                                                  \n",
            " batch_normalization_44 (Ba  (None, 384, 384, 64)         256       ['conv2d_59[0][0]']           \n",
            " tchNormalization)                                                                                \n",
            "                                                                                                  \n",
            " dropout_27 (Dropout)        (None, 384, 384, 64)         0         ['batch_normalization_44[0][0]\n",
            "                                                                    ']                            \n",
            "                                                                                                  \n",
            " conv2d_60 (Conv2D)          (None, 384, 384, 64)         36928     ['dropout_27[0][0]']          \n",
            "                                                                                                  \n",
            " batch_normalization_45 (Ba  (None, 384, 384, 64)         256       ['conv2d_60[0][0]']           \n",
            " tchNormalization)                                                                                \n",
            "                                                                                                  \n",
            " max_pooling2d_11 (MaxPooli  (None, 192, 192, 64)         0         ['batch_normalization_45[0][0]\n",
            " ng2D)                                                              ']                            \n",
            "                                                                                                  \n",
            " conv2d_61 (Conv2D)          (None, 192, 192, 128)        73856     ['max_pooling2d_11[0][0]']    \n",
            "                                                                                                  \n",
            " batch_normalization_46 (Ba  (None, 192, 192, 128)        512       ['conv2d_61[0][0]']           \n",
            " tchNormalization)                                                                                \n",
            "                                                                                                  \n",
            " dropout_28 (Dropout)        (None, 192, 192, 128)        0         ['batch_normalization_46[0][0]\n",
            "                                                                    ']                            \n",
            "                                                                                                  \n",
            " conv2d_62 (Conv2D)          (None, 192, 192, 128)        147584    ['dropout_28[0][0]']          \n",
            "                                                                                                  \n",
            " batch_normalization_47 (Ba  (None, 192, 192, 128)        512       ['conv2d_62[0][0]']           \n",
            " tchNormalization)                                                                                \n",
            "                                                                                                  \n",
            " max_pooling2d_12 (MaxPooli  (None, 96, 96, 128)          0         ['batch_normalization_47[0][0]\n",
            " ng2D)                                                              ']                            \n",
            "                                                                                                  \n",
            " conv2d_63 (Conv2D)          (None, 96, 96, 256)          295168    ['max_pooling2d_12[0][0]']    \n",
            "                                                                                                  \n",
            " batch_normalization_48 (Ba  (None, 96, 96, 256)          1024      ['conv2d_63[0][0]']           \n",
            " tchNormalization)                                                                                \n",
            "                                                                                                  \n",
            " dropout_29 (Dropout)        (None, 96, 96, 256)          0         ['batch_normalization_48[0][0]\n",
            "                                                                    ']                            \n",
            "                                                                                                  \n",
            " conv2d_64 (Conv2D)          (None, 96, 96, 256)          590080    ['dropout_29[0][0]']          \n",
            "                                                                                                  \n",
            " batch_normalization_49 (Ba  (None, 96, 96, 256)          1024      ['conv2d_64[0][0]']           \n",
            " tchNormalization)                                                                                \n",
            "                                                                                                  \n",
            " up_sampling2d_11 (UpSampli  (None, 192, 192, 256)        0         ['batch_normalization_49[0][0]\n",
            " ng2D)                                                              ']                            \n",
            "                                                                                                  \n",
            " concatenate_11 (Concatenat  (None, 192, 192, 384)        0         ['up_sampling2d_11[0][0]',    \n",
            " e)                                                                  'batch_normalization_47[0][0]\n",
            "                                                                    ']                            \n",
            "                                                                                                  \n",
            " conv2d_65 (Conv2D)          (None, 192, 192, 128)        442496    ['concatenate_11[0][0]']      \n",
            "                                                                                                  \n",
            " batch_normalization_50 (Ba  (None, 192, 192, 128)        512       ['conv2d_65[0][0]']           \n",
            " tchNormalization)                                                                                \n",
            "                                                                                                  \n",
            " dropout_30 (Dropout)        (None, 192, 192, 128)        0         ['batch_normalization_50[0][0]\n",
            "                                                                    ']                            \n",
            "                                                                                                  \n",
            " conv2d_66 (Conv2D)          (None, 192, 192, 128)        147584    ['dropout_30[0][0]']          \n",
            "                                                                                                  \n",
            " batch_normalization_51 (Ba  (None, 192, 192, 128)        512       ['conv2d_66[0][0]']           \n",
            " tchNormalization)                                                                                \n",
            "                                                                                                  \n",
            " up_sampling2d_12 (UpSampli  (None, 384, 384, 128)        0         ['batch_normalization_51[0][0]\n",
            " ng2D)                                                              ']                            \n",
            "                                                                                                  \n",
            " concatenate_12 (Concatenat  (None, 384, 384, 192)        0         ['up_sampling2d_12[0][0]',    \n",
            " e)                                                                  'batch_normalization_45[0][0]\n",
            "                                                                    ']                            \n",
            "                                                                                                  \n",
            " conv2d_67 (Conv2D)          (None, 384, 384, 64)         110656    ['concatenate_12[0][0]']      \n",
            "                                                                                                  \n",
            " batch_normalization_52 (Ba  (None, 384, 384, 64)         256       ['conv2d_67[0][0]']           \n",
            " tchNormalization)                                                                                \n",
            "                                                                                                  \n",
            " dropout_31 (Dropout)        (None, 384, 384, 64)         0         ['batch_normalization_52[0][0]\n",
            "                                                                    ']                            \n",
            "                                                                                                  \n",
            " conv2d_68 (Conv2D)          (None, 384, 384, 64)         36928     ['dropout_31[0][0]']          \n",
            "                                                                                                  \n",
            " batch_normalization_53 (Ba  (None, 384, 384, 64)         256       ['conv2d_68[0][0]']           \n",
            " tchNormalization)                                                                                \n",
            "                                                                                                  \n",
            " conv2d_69 (Conv2D)          (None, 384, 384, 7)          455       ['batch_normalization_53[0][0]\n",
            "                                                                    ']                            \n",
            "                                                                                                  \n",
            "==================================================================================================\n",
            "Total params: 1889799 (7.21 MB)\n",
            "Trainable params: 1887239 (7.20 MB)\n",
            "Non-trainable params: 2560 (10.00 KB)\n",
            "__________________________________________________________________________________________________\n",
            "None\n"
          ]
        }
      ]
    },
    {
      "cell_type": "markdown",
      "source": [
        "# Compile, fit and predict on test_dataset"
      ],
      "metadata": {
        "id": "7sC8tCHAVgqB"
      }
    },
    {
      "source": [
        "import tensorflow as tf\n",
        "from tensorflow import keras\n",
        "import shutil\n",
        "import zipfile"
      ],
      "cell_type": "code",
      "metadata": {
        "id": "dH5gQNW5KH80"
      },
      "execution_count": 74,
      "outputs": []
    },
    {
      "cell_type": "code",
      "source": [
        "# def read_multi_image_withfive(file_path):\n",
        "#     with rasterio.open(file_path) as src:\n",
        "#       bands = [src.read(i) for i in range(1,5)]\n",
        "#       image = np.stack(bands, axis=-1)\n",
        "#       image = image.astype(float)\n",
        "#       max_value = image.max(axis=(0,1), keepdims=True)\n",
        "#       min_value = image.min(axis=(0,1), keepdims=True)\n",
        "#       image = (image - min_value) / (max_value - min_value)\n",
        "#       band_five = src.read(5)\n",
        "#       band_five = band_five.astype(float) /band_five.max()\n",
        "#       band_five = np.expand_dims(band_five, axis=-1)\n",
        "#       combined_image = np.concatenate([image, band_five], axis=-1)\n",
        "#       return combined_image"
      ],
      "metadata": {
        "id": "5LowrrInbRX1"
      },
      "execution_count": null,
      "outputs": []
    },
    {
      "cell_type": "code",
      "source": [
        "class SavePredictionCallback(Callback):\n",
        "    def __init__(self, x_holdout_dir, output_folder, model_input_size, epoch_frequency=5):\n",
        "        self.x_holdout_dir = glob.glob(x_holdout_dir)  # Get all file paths matching the pattern\n",
        "        self.output_folder = output_folder\n",
        "        self.model_input_size = model_input_size\n",
        "        self.epoch_frequency = epoch_frequency\n",
        "\n",
        "    def on_epoch_end(self, epoch, logs=None):\n",
        "        if epoch % self.epoch_frequency == 0:\n",
        "            for image_path in self.x_holdout_dir:\n",
        "                # Read the image with rasterio\n",
        "                with rasterio.open(image_path) as src:\n",
        "                    bands = [src.read(i) for i in range(1, 5)]\n",
        "                    image = np.stack(bands, axis=-1)\n",
        "                    image = image.astype(float)\n",
        "                    max_value = image.max(axis=(0, 1), keepdims=True)\n",
        "                    min_value = image.min(axis=(0, 1), keepdims=True)\n",
        "                    image = (image - min_value) / (max_value - min_value)\n",
        "                    band_five = src.read(5)\n",
        "                    band_five = band_five.astype(float) / band_five.max()\n",
        "                    band_five = np.expand_dims(band_five, axis=-1)\n",
        "                    combined_image = np.concatenate([image, band_five], axis=-1)\n",
        "                    combined_image_batch = np.expand_dims(combined_image, axis=0)\n",
        "                    # image = src.read()  # Read all bands\n",
        "                    # image = np.transpose(image, (1, 2, 0))  # Reorder dimensions to (height, width, channels)\n",
        "                    # image = np.expand_dims(image, axis=-1)  # Add batch dimension\n",
        "                    # image = image.astype(np.float32) / 255.0  # Normalize the image if needed\n",
        "\n",
        "                # Predict using the model\n",
        "                prediction = self.model.predict(combined_image_batch)\n",
        "                prediction_image = np.argmax(prediction, axis=-1)[0, :, :]# Get the predicted class for each pixel\n",
        "\n",
        "                # Prepare the output path\n",
        "                output_path = os.path.join(self.output_folder, f\"epoch_{epoch+1}_{os.path.basename(image_path)}\")\n",
        "\n",
        "                # Save the prediction using rasterio\n",
        "                meta = src.meta.copy()\n",
        "                meta.update(dtype=rasterio.uint8, count=1, compress='lzw', nodata= None)  # Set metadata for output\n",
        "                with rasterio.open(output_path, 'w', **meta) as dst:\n",
        "                    dst.write(prediction_image.astype(rasterio.uint8), 1)\n",
        "\n",
        "# Initialization of the callback\n",
        "img_height, img_width = 384, 384\n",
        "output_folder = \"/content/drive/MyDrive/data/model_prediction/20240416_1600\"\n",
        "os.makedirs(output_folder, exist_ok=True)  # Ensure the output directory exists\n",
        "x_holdout_dir = \"/content/drive/MyDrive/data/images/x_test/1year/*.tif\"\n",
        "\n",
        "savepred_callback = SavePredictionCallback(\n",
        "    x_holdout_dir=x_holdout_dir,\n",
        "    output_folder=output_folder,\n",
        "    model_input_size = (img_height, img_width),\n",
        "    epoch_frequency=5\n",
        ")\n"
      ],
      "metadata": {
        "id": "Uyti86TgRRha"
      },
      "execution_count": 155,
      "outputs": []
    },
    {
      "cell_type": "code",
      "source": [
        "model.compile(optimizer = 'adam', loss = 'categorical_crossentropy', metrics = ['accuracy', 'categorical_accuracy'])\n",
        "callbacks = [keras.callbacks.ModelCheckpoint(filepath = \"/content/drive/MyDrive/data/model_prediction/20240416_1600/20240416_1600.h5\", monitor = 'val_loss', save_best_only = True), savepred_callback]"
      ],
      "metadata": {
        "id": "hvIGa6e-RqjK"
      },
      "execution_count": 156,
      "outputs": []
    },
    {
      "cell_type": "code",
      "source": [
        "# model.compile(optimizer = 'adam', loss = 'categorical_crossentropy', metrics = ['accuracy', 'categorical_accuracy'])\n",
        "# callbacks = [keras.callbacks.ModelCheckpoint(filepath = \"/content/drive/MyDrive/data/model_prediction/20240416_1600/20240416_1600.h5\", monitor = 'val_loss', save_best_only = True)]"
      ],
      "metadata": {
        "id": "IvWil1QOez5O"
      },
      "execution_count": 147,
      "outputs": []
    },
    {
      "cell_type": "code",
      "source": [
        "model.fit(x_train, y_train_encoded, batch_size=8, epochs=50, validation_data=(x_test, y_test_encoded),\n",
        "          callbacks=[callbacks])"
      ],
      "metadata": {
        "colab": {
          "base_uri": "https://localhost:8080/"
        },
        "id": "jNPfbPR_RvQs",
        "outputId": "5ed60fa3-bd75-4324-ef2f-b04d068a627d"
      },
      "execution_count": null,
      "outputs": [
        {
          "output_type": "stream",
          "name": "stdout",
          "text": [
            "Epoch 1/50\n",
            "6/7 [========================>.....] - ETA: 0s - loss: 0.9336 - accuracy: 0.7261 - categorical_accuracy: 0.7261"
          ]
        },
        {
          "output_type": "stream",
          "name": "stderr",
          "text": [
            "WARNING:tensorflow:Callback method `on_train_batch_end` is slow compared to the batch time (batch time: 0.3354s vs `on_train_batch_end` time: 0.5376s). Check your callbacks.\n"
          ]
        },
        {
          "output_type": "stream",
          "name": "stdout",
          "text": [
            "1/1 [==============================] - 0s 213ms/step\n",
            "1/1 [==============================] - 0s 20ms/step\n",
            "1/1 [==============================] - 0s 21ms/step\n",
            "1/1 [==============================] - 0s 21ms/step\n",
            "1/1 [==============================] - 0s 22ms/step\n",
            "1/1 [==============================] - 0s 22ms/step\n",
            "1/1 [==============================] - 0s 22ms/step\n",
            "1/1 [==============================] - 0s 20ms/step\n",
            "1/1 [==============================] - 0s 27ms/step\n",
            "1/1 [==============================] - 0s 22ms/step\n",
            "7/7 [==============================] - 16s 2s/step - loss: 0.9612 - accuracy: 0.7132 - categorical_accuracy: 0.7132 - val_loss: 1.8176 - val_accuracy: 0.3859 - val_categorical_accuracy: 0.3859\n",
            "Epoch 2/50\n",
            "7/7 [==============================] - 7s 930ms/step - loss: 0.8991 - accuracy: 0.7338 - categorical_accuracy: 0.7338 - val_loss: 1.4040 - val_accuracy: 0.4124 - val_categorical_accuracy: 0.4124\n",
            "Epoch 3/50\n",
            "4/7 [================>.............] - ETA: 2s - loss: 0.8400 - accuracy: 0.7347 - categorical_accuracy: 0.7347"
          ]
        }
      ]
    },
    {
      "cell_type": "code",
      "source": [
        "\n",
        "# model.compile(optimizer= Adam(learning_rate=0.001), loss='categorical_crossentropy', metrics=['accuracy', \"categorical_accuracy\"])\n",
        "# callbacks = [\n",
        "#     keras.callbacks.ModelCheckpoint(filepath='/content/validation_prediction_3year/model_3year_20240415_1835.h5', monitor = 'val_loss', save_best_only=True),\n",
        "#     save_pred_callback\n",
        "# ]"
      ],
      "metadata": {
        "id": "BBLV_Pe2J7oj"
      },
      "execution_count": 134,
      "outputs": []
    },
    {
      "cell_type": "code",
      "source": [
        "\n",
        "\n",
        "def zip_folder(folder_path, output_zip_path):\n",
        "    \"\"\"Zips the contents of a folder into a zip file.\n",
        "\n",
        "    Args:\n",
        "        folder_path: The path to the folder to be zipped.\n",
        "        output_zip_path: The path to the output zip file.\n",
        "    \"\"\"\n",
        "\n",
        "    with zipfile.ZipFile(output_zip_path, \"w\") as zip_file:\n",
        "        for root, dirs, files in os.walk(folder_path):\n",
        "            for file in files:\n",
        "                file_path = os.path.join(root, file)\n",
        "                zip_file.write(file_path)\n",
        "\n",
        "if __name__ == \"__main__\":\n",
        "    folder_path = \"/content/validation_prediction_3year\" #Souce folder\n",
        "    output_zip_path = \"/content/drive/MyDrive/data/working_dir_3year/model_3year_20240415_1835/model_3year_20240415_1835.zip\" #zip file\n",
        "\n",
        "    zip_folder(folder_path, output_zip_path)"
      ],
      "metadata": {
        "colab": {
          "base_uri": "https://localhost:8080/",
          "height": 582
        },
        "id": "si1hb102MwdW",
        "outputId": "12e008c3-732b-4c56-990c-b92afa6e863a"
      },
      "execution_count": 137,
      "outputs": [
        {
          "output_type": "error",
          "ename": "OSError",
          "evalue": "[Errno 28] No space left on device",
          "traceback": [
            "\u001b[0;31m---------------------------------------------------------------------------\u001b[0m",
            "\u001b[0;31mOSError\u001b[0m                                   Traceback (most recent call last)",
            "\u001b[0;32m/usr/lib/python3.10/zipfile.py\u001b[0m in \u001b[0;36mwrite\u001b[0;34m(self, filename, arcname, compress_type, compresslevel)\u001b[0m\n\u001b[1;32m   1775\u001b[0m             \u001b[0;32mwith\u001b[0m \u001b[0mopen\u001b[0m\u001b[0;34m(\u001b[0m\u001b[0mfilename\u001b[0m\u001b[0;34m,\u001b[0m \u001b[0;34m\"rb\"\u001b[0m\u001b[0;34m)\u001b[0m \u001b[0;32mas\u001b[0m \u001b[0msrc\u001b[0m\u001b[0;34m,\u001b[0m \u001b[0mself\u001b[0m\u001b[0;34m.\u001b[0m\u001b[0mopen\u001b[0m\u001b[0;34m(\u001b[0m\u001b[0mzinfo\u001b[0m\u001b[0;34m,\u001b[0m \u001b[0;34m'w'\u001b[0m\u001b[0;34m)\u001b[0m \u001b[0;32mas\u001b[0m \u001b[0mdest\u001b[0m\u001b[0;34m:\u001b[0m\u001b[0;34m\u001b[0m\u001b[0;34m\u001b[0m\u001b[0m\n\u001b[0;32m-> 1776\u001b[0;31m                 \u001b[0mshutil\u001b[0m\u001b[0;34m.\u001b[0m\u001b[0mcopyfileobj\u001b[0m\u001b[0;34m(\u001b[0m\u001b[0msrc\u001b[0m\u001b[0;34m,\u001b[0m \u001b[0mdest\u001b[0m\u001b[0;34m,\u001b[0m \u001b[0;36m1024\u001b[0m\u001b[0;34m*\u001b[0m\u001b[0;36m8\u001b[0m\u001b[0;34m)\u001b[0m\u001b[0;34m\u001b[0m\u001b[0;34m\u001b[0m\u001b[0m\n\u001b[0m\u001b[1;32m   1777\u001b[0m \u001b[0;34m\u001b[0m\u001b[0m\n",
            "\u001b[0;32m/usr/lib/python3.10/shutil.py\u001b[0m in \u001b[0;36mcopyfileobj\u001b[0;34m(fsrc, fdst, length)\u001b[0m\n\u001b[1;32m    197\u001b[0m             \u001b[0;32mbreak\u001b[0m\u001b[0;34m\u001b[0m\u001b[0;34m\u001b[0m\u001b[0m\n\u001b[0;32m--> 198\u001b[0;31m         \u001b[0mfdst_write\u001b[0m\u001b[0;34m(\u001b[0m\u001b[0mbuf\u001b[0m\u001b[0;34m)\u001b[0m\u001b[0;34m\u001b[0m\u001b[0;34m\u001b[0m\u001b[0m\n\u001b[0m\u001b[1;32m    199\u001b[0m \u001b[0;34m\u001b[0m\u001b[0m\n",
            "\u001b[0;32m/usr/lib/python3.10/zipfile.py\u001b[0m in \u001b[0;36mwrite\u001b[0;34m(self, data)\u001b[0m\n\u001b[1;32m   1140\u001b[0m             \u001b[0mself\u001b[0m\u001b[0;34m.\u001b[0m\u001b[0m_compress_size\u001b[0m \u001b[0;34m+=\u001b[0m \u001b[0mlen\u001b[0m\u001b[0;34m(\u001b[0m\u001b[0mdata\u001b[0m\u001b[0;34m)\u001b[0m\u001b[0;34m\u001b[0m\u001b[0;34m\u001b[0m\u001b[0m\n\u001b[0;32m-> 1141\u001b[0;31m         \u001b[0mself\u001b[0m\u001b[0;34m.\u001b[0m\u001b[0m_fileobj\u001b[0m\u001b[0;34m.\u001b[0m\u001b[0mwrite\u001b[0m\u001b[0;34m(\u001b[0m\u001b[0mdata\u001b[0m\u001b[0;34m)\u001b[0m\u001b[0;34m\u001b[0m\u001b[0;34m\u001b[0m\u001b[0m\n\u001b[0m\u001b[1;32m   1142\u001b[0m         \u001b[0;32mreturn\u001b[0m \u001b[0mnbytes\u001b[0m\u001b[0;34m\u001b[0m\u001b[0;34m\u001b[0m\u001b[0m\n",
            "\u001b[0;31mOSError\u001b[0m: [Errno 28] No space left on device",
            "\nDuring handling of the above exception, another exception occurred:\n",
            "\u001b[0;31mOSError\u001b[0m                                   Traceback (most recent call last)",
            "\u001b[0;32m<ipython-input-137-84e974714d03>\u001b[0m in \u001b[0;36mzip_folder\u001b[0;34m(folder_path, output_zip_path)\u001b[0m\n\u001b[1;32m     15\u001b[0m                 \u001b[0mfile_path\u001b[0m \u001b[0;34m=\u001b[0m \u001b[0mos\u001b[0m\u001b[0;34m.\u001b[0m\u001b[0mpath\u001b[0m\u001b[0;34m.\u001b[0m\u001b[0mjoin\u001b[0m\u001b[0;34m(\u001b[0m\u001b[0mroot\u001b[0m\u001b[0;34m,\u001b[0m \u001b[0mfile\u001b[0m\u001b[0;34m)\u001b[0m\u001b[0;34m\u001b[0m\u001b[0;34m\u001b[0m\u001b[0m\n\u001b[0;32m---> 16\u001b[0;31m                 \u001b[0mzip_file\u001b[0m\u001b[0;34m.\u001b[0m\u001b[0mwrite\u001b[0m\u001b[0;34m(\u001b[0m\u001b[0mfile_path\u001b[0m\u001b[0;34m)\u001b[0m\u001b[0;34m\u001b[0m\u001b[0;34m\u001b[0m\u001b[0m\n\u001b[0m\u001b[1;32m     17\u001b[0m \u001b[0;34m\u001b[0m\u001b[0m\n",
            "\u001b[0;32m/usr/lib/python3.10/zipfile.py\u001b[0m in \u001b[0;36mwrite\u001b[0;34m(self, filename, arcname, compress_type, compresslevel)\u001b[0m\n\u001b[1;32m   1774\u001b[0m         \u001b[0;32melse\u001b[0m\u001b[0;34m:\u001b[0m\u001b[0;34m\u001b[0m\u001b[0;34m\u001b[0m\u001b[0m\n\u001b[0;32m-> 1775\u001b[0;31m             \u001b[0;32mwith\u001b[0m \u001b[0mopen\u001b[0m\u001b[0;34m(\u001b[0m\u001b[0mfilename\u001b[0m\u001b[0;34m,\u001b[0m \u001b[0;34m\"rb\"\u001b[0m\u001b[0;34m)\u001b[0m \u001b[0;32mas\u001b[0m \u001b[0msrc\u001b[0m\u001b[0;34m,\u001b[0m \u001b[0mself\u001b[0m\u001b[0;34m.\u001b[0m\u001b[0mopen\u001b[0m\u001b[0;34m(\u001b[0m\u001b[0mzinfo\u001b[0m\u001b[0;34m,\u001b[0m \u001b[0;34m'w'\u001b[0m\u001b[0;34m)\u001b[0m \u001b[0;32mas\u001b[0m \u001b[0mdest\u001b[0m\u001b[0;34m:\u001b[0m\u001b[0;34m\u001b[0m\u001b[0;34m\u001b[0m\u001b[0m\n\u001b[0m\u001b[1;32m   1776\u001b[0m                 \u001b[0mshutil\u001b[0m\u001b[0;34m.\u001b[0m\u001b[0mcopyfileobj\u001b[0m\u001b[0;34m(\u001b[0m\u001b[0msrc\u001b[0m\u001b[0;34m,\u001b[0m \u001b[0mdest\u001b[0m\u001b[0;34m,\u001b[0m \u001b[0;36m1024\u001b[0m\u001b[0;34m*\u001b[0m\u001b[0;36m8\u001b[0m\u001b[0;34m)\u001b[0m\u001b[0;34m\u001b[0m\u001b[0;34m\u001b[0m\u001b[0m\n",
            "\u001b[0;32m/usr/lib/python3.10/zipfile.py\u001b[0m in \u001b[0;36mclose\u001b[0;34m(self)\u001b[0m\n\u001b[1;32m   1179\u001b[0m                 \u001b[0mself\u001b[0m\u001b[0;34m.\u001b[0m\u001b[0m_zipfile\u001b[0m\u001b[0;34m.\u001b[0m\u001b[0mstart_dir\u001b[0m \u001b[0;34m=\u001b[0m \u001b[0mself\u001b[0m\u001b[0;34m.\u001b[0m\u001b[0m_fileobj\u001b[0m\u001b[0;34m.\u001b[0m\u001b[0mtell\u001b[0m\u001b[0;34m(\u001b[0m\u001b[0;34m)\u001b[0m\u001b[0;34m\u001b[0m\u001b[0;34m\u001b[0m\u001b[0m\n\u001b[0;32m-> 1180\u001b[0;31m                 \u001b[0mself\u001b[0m\u001b[0;34m.\u001b[0m\u001b[0m_fileobj\u001b[0m\u001b[0;34m.\u001b[0m\u001b[0mseek\u001b[0m\u001b[0;34m(\u001b[0m\u001b[0mself\u001b[0m\u001b[0;34m.\u001b[0m\u001b[0m_zinfo\u001b[0m\u001b[0;34m.\u001b[0m\u001b[0mheader_offset\u001b[0m\u001b[0;34m)\u001b[0m\u001b[0;34m\u001b[0m\u001b[0;34m\u001b[0m\u001b[0m\n\u001b[0m\u001b[1;32m   1181\u001b[0m                 \u001b[0mself\u001b[0m\u001b[0;34m.\u001b[0m\u001b[0m_fileobj\u001b[0m\u001b[0;34m.\u001b[0m\u001b[0mwrite\u001b[0m\u001b[0;34m(\u001b[0m\u001b[0mself\u001b[0m\u001b[0;34m.\u001b[0m\u001b[0m_zinfo\u001b[0m\u001b[0;34m.\u001b[0m\u001b[0mFileHeader\u001b[0m\u001b[0;34m(\u001b[0m\u001b[0mself\u001b[0m\u001b[0;34m.\u001b[0m\u001b[0m_zip64\u001b[0m\u001b[0;34m)\u001b[0m\u001b[0;34m)\u001b[0m\u001b[0;34m\u001b[0m\u001b[0;34m\u001b[0m\u001b[0m\n",
            "\u001b[0;31mOSError\u001b[0m: [Errno 28] No space left on device",
            "\nDuring handling of the above exception, another exception occurred:\n",
            "\u001b[0;31mOSError\u001b[0m                                   Traceback (most recent call last)",
            "\u001b[0;32m/usr/lib/python3.10/zipfile.py\u001b[0m in \u001b[0;36mclose\u001b[0;34m(self)\u001b[0m\n\u001b[1;32m   1837\u001b[0m                     \u001b[0;32mif\u001b[0m \u001b[0mself\u001b[0m\u001b[0;34m.\u001b[0m\u001b[0m_seekable\u001b[0m\u001b[0;34m:\u001b[0m\u001b[0;34m\u001b[0m\u001b[0;34m\u001b[0m\u001b[0m\n\u001b[0;32m-> 1838\u001b[0;31m                         \u001b[0mself\u001b[0m\u001b[0;34m.\u001b[0m\u001b[0mfp\u001b[0m\u001b[0;34m.\u001b[0m\u001b[0mseek\u001b[0m\u001b[0;34m(\u001b[0m\u001b[0mself\u001b[0m\u001b[0;34m.\u001b[0m\u001b[0mstart_dir\u001b[0m\u001b[0;34m)\u001b[0m\u001b[0;34m\u001b[0m\u001b[0;34m\u001b[0m\u001b[0m\n\u001b[0m\u001b[1;32m   1839\u001b[0m                     \u001b[0mself\u001b[0m\u001b[0;34m.\u001b[0m\u001b[0m_write_end_record\u001b[0m\u001b[0;34m(\u001b[0m\u001b[0;34m)\u001b[0m\u001b[0;34m\u001b[0m\u001b[0;34m\u001b[0m\u001b[0m\n",
            "\u001b[0;31mOSError\u001b[0m: [Errno 28] No space left on device",
            "\nDuring handling of the above exception, another exception occurred:\n",
            "\u001b[0;31mOSError\u001b[0m                                   Traceback (most recent call last)",
            "\u001b[0;32m<ipython-input-137-84e974714d03>\u001b[0m in \u001b[0;36m<cell line: 18>\u001b[0;34m()\u001b[0m\n\u001b[1;32m     20\u001b[0m     \u001b[0moutput_zip_path\u001b[0m \u001b[0;34m=\u001b[0m \u001b[0;34m\"/content/drive/MyDrive/data/working_dir_3year/model_3year_20240415_1835/model_3year_20240415_1835.zip\"\u001b[0m \u001b[0;31m#zip file\u001b[0m\u001b[0;34m\u001b[0m\u001b[0;34m\u001b[0m\u001b[0m\n\u001b[1;32m     21\u001b[0m \u001b[0;34m\u001b[0m\u001b[0m\n\u001b[0;32m---> 22\u001b[0;31m     \u001b[0mzip_folder\u001b[0m\u001b[0;34m(\u001b[0m\u001b[0mfolder_path\u001b[0m\u001b[0;34m,\u001b[0m \u001b[0moutput_zip_path\u001b[0m\u001b[0;34m)\u001b[0m\u001b[0;34m\u001b[0m\u001b[0;34m\u001b[0m\u001b[0m\n\u001b[0m",
            "\u001b[0;32m<ipython-input-137-84e974714d03>\u001b[0m in \u001b[0;36mzip_folder\u001b[0;34m(folder_path, output_zip_path)\u001b[0m\n\u001b[1;32m     10\u001b[0m     \"\"\"\n\u001b[1;32m     11\u001b[0m \u001b[0;34m\u001b[0m\u001b[0m\n\u001b[0;32m---> 12\u001b[0;31m     \u001b[0;32mwith\u001b[0m \u001b[0mzipfile\u001b[0m\u001b[0;34m.\u001b[0m\u001b[0mZipFile\u001b[0m\u001b[0;34m(\u001b[0m\u001b[0moutput_zip_path\u001b[0m\u001b[0;34m,\u001b[0m \u001b[0;34m\"w\"\u001b[0m\u001b[0;34m)\u001b[0m \u001b[0;32mas\u001b[0m \u001b[0mzip_file\u001b[0m\u001b[0;34m:\u001b[0m\u001b[0;34m\u001b[0m\u001b[0;34m\u001b[0m\u001b[0m\n\u001b[0m\u001b[1;32m     13\u001b[0m         \u001b[0;32mfor\u001b[0m \u001b[0mroot\u001b[0m\u001b[0;34m,\u001b[0m \u001b[0mdirs\u001b[0m\u001b[0;34m,\u001b[0m \u001b[0mfiles\u001b[0m \u001b[0;32min\u001b[0m \u001b[0mos\u001b[0m\u001b[0;34m.\u001b[0m\u001b[0mwalk\u001b[0m\u001b[0;34m(\u001b[0m\u001b[0mfolder_path\u001b[0m\u001b[0;34m)\u001b[0m\u001b[0;34m:\u001b[0m\u001b[0;34m\u001b[0m\u001b[0;34m\u001b[0m\u001b[0m\n\u001b[1;32m     14\u001b[0m             \u001b[0;32mfor\u001b[0m \u001b[0mfile\u001b[0m \u001b[0;32min\u001b[0m \u001b[0mfiles\u001b[0m\u001b[0;34m:\u001b[0m\u001b[0;34m\u001b[0m\u001b[0;34m\u001b[0m\u001b[0m\n",
            "\u001b[0;32m/usr/lib/python3.10/zipfile.py\u001b[0m in \u001b[0;36m__exit__\u001b[0;34m(self, type, value, traceback)\u001b[0m\n\u001b[1;32m   1310\u001b[0m \u001b[0;34m\u001b[0m\u001b[0m\n\u001b[1;32m   1311\u001b[0m     \u001b[0;32mdef\u001b[0m \u001b[0m__exit__\u001b[0m\u001b[0;34m(\u001b[0m\u001b[0mself\u001b[0m\u001b[0;34m,\u001b[0m \u001b[0mtype\u001b[0m\u001b[0;34m,\u001b[0m \u001b[0mvalue\u001b[0m\u001b[0;34m,\u001b[0m \u001b[0mtraceback\u001b[0m\u001b[0;34m)\u001b[0m\u001b[0;34m:\u001b[0m\u001b[0;34m\u001b[0m\u001b[0;34m\u001b[0m\u001b[0m\n\u001b[0;32m-> 1312\u001b[0;31m         \u001b[0mself\u001b[0m\u001b[0;34m.\u001b[0m\u001b[0mclose\u001b[0m\u001b[0;34m(\u001b[0m\u001b[0;34m)\u001b[0m\u001b[0;34m\u001b[0m\u001b[0;34m\u001b[0m\u001b[0m\n\u001b[0m\u001b[1;32m   1313\u001b[0m \u001b[0;34m\u001b[0m\u001b[0m\n\u001b[1;32m   1314\u001b[0m     \u001b[0;32mdef\u001b[0m \u001b[0m__repr__\u001b[0m\u001b[0;34m(\u001b[0m\u001b[0mself\u001b[0m\u001b[0;34m)\u001b[0m\u001b[0;34m:\u001b[0m\u001b[0;34m\u001b[0m\u001b[0;34m\u001b[0m\u001b[0m\n",
            "\u001b[0;32m/usr/lib/python3.10/zipfile.py\u001b[0m in \u001b[0;36mclose\u001b[0;34m(self)\u001b[0m\n\u001b[1;32m   1841\u001b[0m             \u001b[0mfp\u001b[0m \u001b[0;34m=\u001b[0m \u001b[0mself\u001b[0m\u001b[0;34m.\u001b[0m\u001b[0mfp\u001b[0m\u001b[0;34m\u001b[0m\u001b[0;34m\u001b[0m\u001b[0m\n\u001b[1;32m   1842\u001b[0m             \u001b[0mself\u001b[0m\u001b[0;34m.\u001b[0m\u001b[0mfp\u001b[0m \u001b[0;34m=\u001b[0m \u001b[0;32mNone\u001b[0m\u001b[0;34m\u001b[0m\u001b[0;34m\u001b[0m\u001b[0m\n\u001b[0;32m-> 1843\u001b[0;31m             \u001b[0mself\u001b[0m\u001b[0;34m.\u001b[0m\u001b[0m_fpclose\u001b[0m\u001b[0;34m(\u001b[0m\u001b[0mfp\u001b[0m\u001b[0;34m)\u001b[0m\u001b[0;34m\u001b[0m\u001b[0;34m\u001b[0m\u001b[0m\n\u001b[0m\u001b[1;32m   1844\u001b[0m \u001b[0;34m\u001b[0m\u001b[0m\n\u001b[1;32m   1845\u001b[0m     \u001b[0;32mdef\u001b[0m \u001b[0m_write_end_record\u001b[0m\u001b[0;34m(\u001b[0m\u001b[0mself\u001b[0m\u001b[0;34m)\u001b[0m\u001b[0;34m:\u001b[0m\u001b[0;34m\u001b[0m\u001b[0;34m\u001b[0m\u001b[0m\n",
            "\u001b[0;32m/usr/lib/python3.10/zipfile.py\u001b[0m in \u001b[0;36m_fpclose\u001b[0;34m(self, fp)\u001b[0m\n\u001b[1;32m   1941\u001b[0m         \u001b[0mself\u001b[0m\u001b[0;34m.\u001b[0m\u001b[0m_fileRefCnt\u001b[0m \u001b[0;34m-=\u001b[0m \u001b[0;36m1\u001b[0m\u001b[0;34m\u001b[0m\u001b[0;34m\u001b[0m\u001b[0m\n\u001b[1;32m   1942\u001b[0m         \u001b[0;32mif\u001b[0m \u001b[0;32mnot\u001b[0m \u001b[0mself\u001b[0m\u001b[0;34m.\u001b[0m\u001b[0m_fileRefCnt\u001b[0m \u001b[0;32mand\u001b[0m \u001b[0;32mnot\u001b[0m \u001b[0mself\u001b[0m\u001b[0;34m.\u001b[0m\u001b[0m_filePassed\u001b[0m\u001b[0;34m:\u001b[0m\u001b[0;34m\u001b[0m\u001b[0;34m\u001b[0m\u001b[0m\n\u001b[0;32m-> 1943\u001b[0;31m             \u001b[0mfp\u001b[0m\u001b[0;34m.\u001b[0m\u001b[0mclose\u001b[0m\u001b[0;34m(\u001b[0m\u001b[0;34m)\u001b[0m\u001b[0;34m\u001b[0m\u001b[0;34m\u001b[0m\u001b[0m\n\u001b[0m\u001b[1;32m   1944\u001b[0m \u001b[0;34m\u001b[0m\u001b[0m\n\u001b[1;32m   1945\u001b[0m \u001b[0;34m\u001b[0m\u001b[0m\n",
            "\u001b[0;31mOSError\u001b[0m: [Errno 28] No space left on device"
          ]
        }
      ]
    },
    {
      "cell_type": "code",
      "source": [
        "import shutil\n",
        "import os\n",
        "\n",
        "def delete_folder(path):\n",
        "    \"\"\"Deletes a folder at a specified path along with all its contents.\"\"\"\n",
        "    try:\n",
        "        shutil.rmtree(path)\n",
        "        print(f\"Folder '{path}' has been deleted successfully.\")\n",
        "    except Exception as e:\n",
        "        print(f\"Failed to delete folder '{path}'. Reason: {e}\")\n",
        "\n",
        "# Specify the path to the directory you want to delete\n",
        "folder_path = '/content/validation_images_THREE'\n",
        "\n",
        "# Check if the folder exists then delete\n",
        "if os.path.exists(folder_path):\n",
        "    delete_folder(folder_path)\n",
        "else:\n",
        "    print(f\"No folder found at {folder_path}\")\n"
      ],
      "metadata": {
        "colab": {
          "base_uri": "https://localhost:8080/"
        },
        "id": "0QqGH8Ne14F5",
        "outputId": "167da6e0-b2e0-4543-86b7-efee46fa32c3"
      },
      "execution_count": 140,
      "outputs": [
        {
          "output_type": "stream",
          "name": "stdout",
          "text": [
            "Folder '/content/validation_images_THREE' has been deleted successfully.\n"
          ]
        }
      ]
    },
    {
      "cell_type": "markdown",
      "source": [
        "# using the model to predict\n"
      ],
      "metadata": {
        "id": "zzfIJ_bS1ZB8"
      }
    },
    {
      "cell_type": "markdown",
      "source": [
        "Only thing on here is the predict and save for the final model prediction."
      ],
      "metadata": {
        "id": "lgZghxKzHaIm"
      }
    },
    {
      "cell_type": "code",
      "source": [
        "# import matplotlib.pyplot as plt\n",
        "# import numpy as np\n",
        "# import rasterio\n",
        "# from tensorflow.keras.preprocessing.image import array_to_img\n",
        "# import PIL.ImageOps\n",
        "# from PIL import Image\n",
        "# import matplotlib.patches as mpatches\n",
        "# import matplotlib.colors as mcolors\n",
        "\n",
        "# class_names = ['Unclassified', 'Water', 'Forested Wetland', 'Emergent Wetland', 'Forested/Shrub Wetland', 'Aquatic Bed', 'Developed', 'Agriculture', 'Grassland', 'Forest', 'Shrubland']\n",
        "# colors = ['dimgrey', 'cornflowerblue', 'violet', 'teal', 'orange', 'mediumblue', 'lightgrey', 'saddlebrown', 'wheat', 'lightyellow', 'forestgreen', 'peru']\n",
        "# cmap = mcolors.ListedColormap(colors)\n"
      ],
      "metadata": {
        "id": "cuzuqikm-m8S"
      },
      "execution_count": null,
      "outputs": []
    },
    {
      "cell_type": "code",
      "source": [
        "from tensorflow.keras.models import load_model\n",
        "\n",
        "# Replace 'path/to/your/model.h5' with the actual path to your saved model\n",
        "model = load_model('/content/validation_prediction_3year/model_3year_20240415_1835.h5')\n"
      ],
      "metadata": {
        "id": "k6qUyPHl1YyM"
      },
      "execution_count": null,
      "outputs": []
    },
    {
      "cell_type": "code",
      "source": [
        "from tensorflow.image import resize\n",
        "\n",
        "def load_and_preprocess_image(image_path, expected_size):\n",
        "    with rasterio.open(image_path) as src:\n",
        "        # Read the imagery tile, assuming it's multi-band\n",
        "        image = src.read()\n",
        "        if image.shape[0] > 9:\n",
        "            image = image[:9, :, :]\n",
        "        image = np.transpose(image, (1, 2, 0))\n",
        "        image = resize(image, [expected_size, expected_size])\n",
        "\n",
        "        image = image / 2555.0  # Adjust based on your normalization method\n",
        "        image = np.expand_dims(image, axis=0)\n",
        "        return image\n",
        "\n",
        "image_path = '/content/drive/MyDrive/data/working_dir_2year/hold_images/1549_2year.tif'\n",
        "expected_size = 384\n",
        "image = load_and_preprocess_image(image_path, expected_size)"
      ],
      "metadata": {
        "id": "JaHGp97i1kdw"
      },
      "execution_count": 101,
      "outputs": []
    },
    {
      "cell_type": "code",
      "source": [
        "prediction = model.predict(image)\n",
        "predicted_mask = np.argmax(prediction, axis=-1)\n",
        "predicted_mask = predicted_mask[0, :, :]"
      ],
      "metadata": {
        "id": "lxtiQlUJ16hG",
        "colab": {
          "base_uri": "https://localhost:8080/"
        },
        "outputId": "445714f8-20bf-4c0c-e529-e2c96f154540"
      },
      "execution_count": 102,
      "outputs": [
        {
          "output_type": "stream",
          "name": "stdout",
          "text": [
            "1/1 [==============================] - 0s 377ms/step\n"
          ]
        }
      ]
    },
    {
      "cell_type": "code",
      "source": [
        "predicted_mask"
      ],
      "metadata": {
        "id": "wiqqpsag2DuM",
        "outputId": "2e2c3525-81aa-49bb-ad4d-701899e17f84",
        "colab": {
          "base_uri": "https://localhost:8080/"
        }
      },
      "execution_count": 103,
      "outputs": [
        {
          "output_type": "execute_result",
          "data": {
            "text/plain": [
              "array([[7, 7, 7, ..., 7, 7, 7],\n",
              "       [7, 7, 7, ..., 7, 7, 7],\n",
              "       [7, 7, 7, ..., 7, 7, 7],\n",
              "       ...,\n",
              "       [7, 7, 7, ..., 7, 7, 7],\n",
              "       [7, 7, 7, ..., 7, 7, 7],\n",
              "       [7, 7, 7, ..., 7, 7, 7]])"
            ]
          },
          "metadata": {},
          "execution_count": 103
        }
      ]
    },
    {
      "cell_type": "code",
      "source": [
        "pip install matplotlib"
      ],
      "metadata": {
        "id": "_UpsDzfp2F7j",
        "outputId": "07efb18b-2b3f-41f4-ed08-138402613348",
        "colab": {
          "base_uri": "https://localhost:8080/"
        }
      },
      "execution_count": 51,
      "outputs": [
        {
          "output_type": "stream",
          "name": "stdout",
          "text": [
            "Requirement already satisfied: matplotlib in /usr/local/lib/python3.10/dist-packages (3.7.1)\n",
            "Requirement already satisfied: contourpy>=1.0.1 in /usr/local/lib/python3.10/dist-packages (from matplotlib) (1.2.1)\n",
            "Requirement already satisfied: cycler>=0.10 in /usr/local/lib/python3.10/dist-packages (from matplotlib) (0.12.1)\n",
            "Requirement already satisfied: fonttools>=4.22.0 in /usr/local/lib/python3.10/dist-packages (from matplotlib) (4.51.0)\n",
            "Requirement already satisfied: kiwisolver>=1.0.1 in /usr/local/lib/python3.10/dist-packages (from matplotlib) (1.4.5)\n",
            "Requirement already satisfied: numpy>=1.20 in /usr/local/lib/python3.10/dist-packages (from matplotlib) (1.25.2)\n",
            "Requirement already satisfied: packaging>=20.0 in /usr/local/lib/python3.10/dist-packages (from matplotlib) (24.0)\n",
            "Requirement already satisfied: pillow>=6.2.0 in /usr/local/lib/python3.10/dist-packages (from matplotlib) (9.4.0)\n",
            "Requirement already satisfied: pyparsing>=2.3.1 in /usr/local/lib/python3.10/dist-packages (from matplotlib) (3.1.2)\n",
            "Requirement already satisfied: python-dateutil>=2.7 in /usr/local/lib/python3.10/dist-packages (from matplotlib) (2.8.2)\n",
            "Requirement already satisfied: six>=1.5 in /usr/local/lib/python3.10/dist-packages (from python-dateutil>=2.7->matplotlib) (1.16.0)\n"
          ]
        }
      ]
    },
    {
      "cell_type": "code",
      "source": [
        "import matplotlib.pyplot as plt\n",
        "\n",
        "def visualize_prediction(original_image, predicted_mask, figsize=(12, 6)):\n",
        "    # If the original image has more than 3 channels, select the first three for visualization\n",
        "    if original_image.shape[-1] > 3:\n",
        "        original_image = original_image[:, :, :3]\n",
        "\n",
        "    fig, axes = plt.subplots(1, 2, figsize=figsize)\n",
        "    # Display the original image\n",
        "    axes[0].imshow(original_image)\n",
        "    axes[0].set_title(\"Original Image\")\n",
        "    axes[0].axis('off')\n",
        "    # Display the predicted mask\n",
        "    # Assuming predicted_mask is 2D (height, width), you might want to add a colormap\n",
        "    axes[1].imshow(predicted_mask, cmap='viridis')  # Use a colormap that suits your task\n",
        "    axes[1].set_title(\"Predicted Mask\")\n",
        "    axes[1].axis('off')\n",
        "    plt.show()\n",
        "\n",
        "prediction = model.predict(image)\n",
        "\n",
        "# Convert prediction to a class mask\n",
        "predicted_mask = np.argmax(prediction, axis=-1)[0, :, :]  # Remove batch dimension\n",
        "adjusted_image = np.clip(image, 0, 1)  # Ensure values are within [0, 1]\n",
        "visualize_prediction(adjusted_image[0], predicted_mask)\n"
      ],
      "metadata": {
        "id": "1zCCtu_W2bw_",
        "outputId": "5025a9ed-b681-48b8-e6cd-7e65f4f18e16",
        "colab": {
          "base_uri": "https://localhost:8080/",
          "height": 499
        }
      },
      "execution_count": 104,
      "outputs": [
        {
          "output_type": "stream",
          "name": "stdout",
          "text": [
            "1/1 [==============================] - 0s 23ms/step\n"
          ]
        },
        {
          "output_type": "display_data",
          "data": {
            "text/plain": [
              "<Figure size 1200x600 with 2 Axes>"
            ],
            "image/png": "[encoded data removed]"
          },
          "metadata": {}
        }
      ]
    },
    {
      "cell_type": "code",
      "source": [
        "# model = load_model('/content/drive/MyDrive/DeepLearning_Project/planet_ThreeYear/test_dataset/model_03222024_1255/model_03222023_1255.h5')"
      ],
      "metadata": {
        "id": "uBzeAN7v-20I"
      },
      "execution_count": null,
      "outputs": []
    },
    {
      "cell_type": "code",
      "source": [
        "def predict_and_save(model, test_image_dir, model_input_size, output_folder):\n",
        "    image_files = [os.path.join(test_image_dir, f) for f in os.listdir(test_image_dir) if f.endswith('.tif')]\n",
        "\n",
        "    for image_path in image_files:\n",
        "        with rasterio.open(image_path) as src:\n",
        "            image = src.read(out_shape=(src.count, model_input_size[0], model_input_size[1]),\n",
        "                             resampling=rasterio.enums.Resampling.nearest)\n",
        "            image = np.transpose(image, (1, 2, 0))\n",
        "            image = np.expand_dims(image, axis=0)  # Add batch dimension\n",
        "            # image = image / np.max(image)  # Normalize\n",
        "            image = image / 2555.0\n",
        "\n",
        "            prediction = model.predict(image)\n",
        "            prediction_image = np.argmax(prediction, axis=-1)[0, :, :]\n",
        "            meta = src.meta\n",
        "            # meta.update(dtype=rasterio.uint8, count=1)\n",
        "            meta.update(dtype=rasterio.uint8, count=1, nodata=None)\n",
        "\n",
        "\n",
        "\n",
        "            output_path = os.path.join(output_folder, f\"prediction_{os.path.basename(image_path)}\")\n",
        "            with rasterio.open(output_path, 'w', **meta) as dst:\n",
        "                dst.write(prediction_image.astype(rasterio.uint8), 1)"
      ],
      "metadata": {
        "id": "Eqk8Mh0r-1im"
      },
      "execution_count": 54,
      "outputs": []
    },
    {
      "cell_type": "code",
      "source": [
        "# Define model input size and paths\n",
        "IMG_HEIGHT, IMG_WIDTH = img_height, img_width  # Ensure these are defined or replace them with actual values\n",
        "test_image_dir = '/content/drive/MyDrive/data/working_dir_3year/hold_images/'\n",
        "output_folder = '/content/drive/MyDrive/data/working_dir_3year/model_3year_20240415_1835/'\n",
        "\n",
        "# /content/drive/MyDrive/DeepLearning_Project/planet_TwoYear/test_dataset/model_03222024_1255/model_03222024_1255.h5\n",
        "\n",
        "# Make sure the output directory exists\n",
        "os.makedirs(output_folder, exist_ok=True)\n",
        "\n",
        "# Execute prediction and saving\n",
        "predict_and_save(model, test_image_dir, (IMG_HEIGHT, IMG_WIDTH), output_folder)\n"
      ],
      "metadata": {
        "id": "Ge1rak65-_HE"
      },
      "execution_count": null,
      "outputs": []
    }
  ]
}