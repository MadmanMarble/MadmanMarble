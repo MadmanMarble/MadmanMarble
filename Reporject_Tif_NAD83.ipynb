{
  "nbformat": 4,
  "nbformat_minor": 0,
  "metadata": {
    "colab": {
      "provenance": [],
      "authorship_tag": "ABX9TyOO7sDJgZMCqCZgV679hrId",
      "include_colab_link": true
    },
    "kernelspec": {
      "name": "python3",
      "display_name": "Python 3"
    },
    "language_info": {
      "name": "python"
    }
  },
  "cells": [
    {
      "cell_type": "markdown",
      "metadata": {
        "id": "view-in-github",
        "colab_type": "text"
      },
      "source": [
        "<a href=\"https://colab.research.google.com/github/MadmanMarble/MadmanMarble/blob/main/Reporject_Tif_NAD83.ipynb\" target=\"_parent\"><img src=\"https://colab.research.google.com/assets/colab-badge.svg\" alt=\"Open In Colab\"/></a>"
      ]
    },
    {
      "cell_type": "code",
      "execution_count": 1,
      "metadata": {
        "colab": {
          "base_uri": "https://localhost:8080/"
        },
        "id": "DlfUF-w7eWjZ",
        "outputId": "e5f4d232-4f3f-4601-8a2d-ac3504f3fc55"
      },
      "outputs": [
        {
          "output_type": "stream",
          "name": "stdout",
          "text": [
            "Collecting rasterio\n",
            "  Downloading rasterio-1.3.9-cp310-cp310-manylinux2014_x86_64.whl (20.6 MB)\n",
            "\u001b[2K     \u001b[90m━━━━━━━━━━━━━━━━━━━━━━━━━━━━━━━━━━━━━━━━\u001b[0m \u001b[32m20.6/20.6 MB\u001b[0m \u001b[31m24.9 MB/s\u001b[0m eta \u001b[36m0:00:00\u001b[0m\n",
            "\u001b[?25hCollecting affine (from rasterio)\n",
            "  Downloading affine-2.4.0-py3-none-any.whl (15 kB)\n",
            "Requirement already satisfied: attrs in /usr/local/lib/python3.10/dist-packages (from rasterio) (23.2.0)\n",
            "Requirement already satisfied: certifi in /usr/local/lib/python3.10/dist-packages (from rasterio) (2023.11.17)\n",
            "Requirement already satisfied: click>=4.0 in /usr/local/lib/python3.10/dist-packages (from rasterio) (8.1.7)\n",
            "Requirement already satisfied: cligj>=0.5 in /usr/local/lib/python3.10/dist-packages (from rasterio) (0.7.2)\n",
            "Requirement already satisfied: numpy in /usr/local/lib/python3.10/dist-packages (from rasterio) (1.23.5)\n",
            "Collecting snuggs>=1.4.1 (from rasterio)\n",
            "  Downloading snuggs-1.4.7-py3-none-any.whl (5.4 kB)\n",
            "Requirement already satisfied: click-plugins in /usr/local/lib/python3.10/dist-packages (from rasterio) (1.1.1)\n",
            "Requirement already satisfied: setuptools in /usr/local/lib/python3.10/dist-packages (from rasterio) (67.7.2)\n",
            "Requirement already satisfied: pyparsing>=2.1.6 in /usr/local/lib/python3.10/dist-packages (from snuggs>=1.4.1->rasterio) (3.1.1)\n",
            "Installing collected packages: snuggs, affine, rasterio\n",
            "Successfully installed affine-2.4.0 rasterio-1.3.9 snuggs-1.4.7\n"
          ]
        }
      ],
      "source": [
        "# Install necessary libraries\n",
        "!pip install rasterio\n",
        "\n",
        "import rasterio\n",
        "from rasterio.warp import calculate_default_transform, reproject, Resampling\n",
        "\n"
      ]
    },
    {
      "cell_type": "code",
      "source": [
        "from google.colab import drive\n",
        "drive.mount('/content/drive')\n"
      ],
      "metadata": {
        "colab": {
          "base_uri": "https://localhost:8080/"
        },
        "id": "zTAK8p8atxHc",
        "outputId": "cc101444-9671-4dc2-b9ed-b499ad79ab96"
      },
      "execution_count": 2,
      "outputs": [
        {
          "output_type": "stream",
          "name": "stdout",
          "text": [
            "Mounted at /content/drive\n"
          ]
        }
      ]
    },
    {
      "cell_type": "code",
      "source": [
        "!pip show GDAL\n"
      ],
      "metadata": {
        "colab": {
          "base_uri": "https://localhost:8080/"
        },
        "id": "ahvYHRgBuN-g",
        "outputId": "f1556c88-f39c-462f-dc14-4515ac6d9fae"
      },
      "execution_count": 3,
      "outputs": [
        {
          "output_type": "stream",
          "name": "stdout",
          "text": [
            "Name: GDAL\n",
            "Version: 3.4.3\n",
            "Summary: GDAL: Geospatial Data Abstraction Library\n",
            "Home-page: http://www.gdal.org\n",
            "Author: Frank Warmerdam\n",
            "Author-email: warmerdam@pobox.com\n",
            "License: MIT\n",
            "Location: /usr/local/lib/python3.10/dist-packages\n",
            "Requires: \n",
            "Required-by: \n"
          ]
        }
      ]
    },
    {
      "cell_type": "code",
      "source": [
        "import os\n",
        "from osgeo import gdal"
      ],
      "metadata": {
        "id": "Ha_w_crOuUbp"
      },
      "execution_count": 4,
      "outputs": []
    },
    {
      "cell_type": "code",
      "source": [
        "# I have to update Oahu and Maui from WGS84 to NAD83 because most of the other tiels are NAD83 and I don't have the time to re-export the others (theres more nad83 than wgs84)\n",
        "\n",
        "# # Define input and output CRS\n",
        "# input_crs = 'EPSG:32604'  # WGS 84 / UTM zone 4N\n",
        "# output_crs = 'EPSG:26904'  # NAD83 / UTM zone 4N\n",
        "\n",
        "# Directory containing the TIFF files\n",
        "input_dir = '/content/drive/MyDrive/NAIP/Maui_tif'\n",
        "output_dir = '/content/drive/MyDrive/NAIP/tiles/NAD83/Maui'\n",
        "\n",
        "# Loop through all TIFF files in the directory\n",
        "for filename in os.listdir(input_dir):\n",
        "    if filename.endswith(\".tif\"):\n",
        "        input_path = os.path.join(input_dir, filename)\n",
        "        output_path = os.path.join(output_dir, filename)\n",
        "\n",
        "        # Open the source dataset\n",
        "        ds = gdal.Open(input_path)\n",
        "        if ds is None:\n",
        "            print(f\"Failed to open {input_path}\")\n",
        "            continue\n",
        "\n",
        "        # Define target SRS to NAD83\n",
        "        target_srs = 'EPSG:26904'\n",
        "\n",
        "        # Reproject\n",
        "        ds_nad83 = gdal.Warp(output_path, ds, dstSRS=target_srs)\n",
        "\n",
        "        # Close datasets\n",
        "        ds_nad83 = None\n",
        "        ds = None\n",
        "        print(f\"Reprojected {filename} to {target_srs}\")\n",
        "\n",
        "print(\"Reprojection complete.\")"
      ],
      "metadata": {
        "colab": {
          "base_uri": "https://localhost:8080/"
        },
        "id": "b0wgZIvUefvX",
        "outputId": "75b1475f-6190-4c8a-9f0d-905ef456b815"
      },
      "execution_count": 10,
      "outputs": [
        {
          "output_type": "stream",
          "name": "stdout",
          "text": [
            "Reprojected 001.tif to EPSG:26904\n",
            "Reprojected 002.tif to EPSG:26904\n",
            "Reprojected 003.tif to EPSG:26904\n",
            "Reprojected 004.tif to EPSG:26904\n",
            "Reprojected 005.tif to EPSG:26904\n",
            "Reprojected 006.tif to EPSG:26904\n",
            "Reprojected 007.tif to EPSG:26904\n",
            "Reprojected 008.tif to EPSG:26904\n",
            "Reprojected 009.tif to EPSG:26904\n",
            "Reprojected 0010.tif to EPSG:26904\n",
            "Reprojected 0011.tif to EPSG:26904\n",
            "Reprojected 0012.tif to EPSG:26904\n",
            "Reprojected 0013.tif to EPSG:26904\n",
            "Reprojected 0014.tif to EPSG:26904\n",
            "Reprojected 0015.tif to EPSG:26904\n",
            "Reprojected 0016.tif to EPSG:26904\n",
            "Reprojected 0017.tif to EPSG:26904\n",
            "Reprojected 0018.tif to EPSG:26904\n",
            "Reprojected 0019.tif to EPSG:26904\n",
            "Reprojected 0020.tif to EPSG:26904\n",
            "Reprojected 0021.tif to EPSG:26904\n",
            "Reprojected 0022.tif to EPSG:26904\n",
            "Reprojected 0023.tif to EPSG:26904\n",
            "Reprojected 0024.tif to EPSG:26904\n",
            "Reprojected 0025.tif to EPSG:26904\n",
            "Reprojected 0026.tif to EPSG:26904\n",
            "Reprojected 0027.tif to EPSG:26904\n",
            "Reprojected 0028.tif to EPSG:26904\n",
            "Reprojected 0029.tif to EPSG:26904\n",
            "Reprojected 0030.tif to EPSG:26904\n",
            "Reprojected 0031.tif to EPSG:26904\n",
            "Reprojected 0032.tif to EPSG:26904\n",
            "Reprojected 0033.tif to EPSG:26904\n",
            "Reprojected 0034.tif to EPSG:26904\n",
            "Reprojected 0035.tif to EPSG:26904\n",
            "Reprojected 0036.tif to EPSG:26904\n",
            "Reprojected 0037.tif to EPSG:26904\n",
            "Reprojected 0038.tif to EPSG:26904\n",
            "Reprojected 0039.tif to EPSG:26904\n",
            "Reprojected 0040.tif to EPSG:26904\n",
            "Reprojected 0041.tif to EPSG:26904\n",
            "Reprojected 0042.tif to EPSG:26904\n",
            "Reprojected 0043.tif to EPSG:26904\n",
            "Reprojected 0044.tif to EPSG:26904\n",
            "Reprojection complete.\n"
          ]
        }
      ]
    },
    {
      "cell_type": "code",
      "source": [
        "# check the projection\n",
        "# Path to your TIFF file (adjust as needed)\n",
        "file_path = '/content/drive/MyDrive/NAIP/tiles/NAD83/Niihau/001.tif'\n",
        "\n",
        "# Open the dataset\n",
        "dataset = gdal.Open(file_path)\n",
        "\n",
        "# Check if the dataset was successfully opened\n",
        "if not dataset:\n",
        "    print(\"Unable to open file\")\n",
        "else:\n",
        "    # Get projection information\n",
        "    projection = dataset.GetProjection()\n",
        "    print(\"Projection Info:\\n\", projection)\n",
        "\n",
        "    # Close the dataset\n",
        "    dataset = None\n"
      ],
      "metadata": {
        "colab": {
          "base_uri": "https://localhost:8080/"
        },
        "id": "ewQ4Icuzx5TT",
        "outputId": "712dae17-6f18-4f37-ce50-37028a3d49f0"
      },
      "execution_count": 12,
      "outputs": [
        {
          "output_type": "stream",
          "name": "stdout",
          "text": [
            "Projection Info:\n",
            " PROJCS[\"NAD83 / UTM zone 4N\",GEOGCS[\"NAD83\",DATUM[\"North_American_Datum_1983\",SPHEROID[\"GRS 1980\",6378137,298.257222101,AUTHORITY[\"EPSG\",\"7019\"]],AUTHORITY[\"EPSG\",\"6269\"]],PRIMEM[\"Greenwich\",0,AUTHORITY[\"EPSG\",\"8901\"]],UNIT[\"degree\",0.0174532925199433,AUTHORITY[\"EPSG\",\"9122\"]],AUTHORITY[\"EPSG\",\"4269\"]],PROJECTION[\"Transverse_Mercator\"],PARAMETER[\"latitude_of_origin\",0],PARAMETER[\"central_meridian\",-159],PARAMETER[\"scale_factor\",0.9996],PARAMETER[\"false_easting\",500000],PARAMETER[\"false_northing\",0],UNIT[\"metre\",1,AUTHORITY[\"EPSG\",\"9001\"]],AXIS[\"Easting\",EAST],AXIS[\"Northing\",NORTH],AUTHORITY[\"EPSG\",\"26904\"]]\n"
          ]
        }
      ]
    }
  ]
}