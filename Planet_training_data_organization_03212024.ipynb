{
  "nbformat": 4,
  "nbformat_minor": 0,
  "metadata": {
    "colab": {
      "provenance": [],
      "authorship_tag": "ABX9TyNMwM0io5J7DTdwKg5xtAXU",
      "include_colab_link": true
    },
    "kernelspec": {
      "name": "python3",
      "display_name": "Python 3"
    },
    "language_info": {
      "name": "python"
    }
  },
  "cells": [
    {
      "cell_type": "markdown",
      "metadata": {
        "id": "view-in-github",
        "colab_type": "text"
      },
      "source": [
        "<a href=\"https://colab.research.google.com/github/MadmanMarble/MadmanMarble/blob/main/Planet_training_data_organization_03212024.ipynb\" target=\"_parent\"><img src=\"https://colab.research.google.com/assets/colab-badge.svg\" alt=\"Open In Colab\"/></a>"
      ]
    },
    {
      "cell_type": "code",
      "execution_count": 1,
      "metadata": {
        "colab": {
          "base_uri": "https://localhost:8080/"
        },
        "id": "DcPdxHHi6irP",
        "outputId": "4e1b4b68-710a-4d50-c945-a8daabb711a6"
      },
      "outputs": [
        {
          "output_type": "stream",
          "name": "stdout",
          "text": [
            "Mounted at /content/drive\n"
          ]
        }
      ],
      "source": [
        "from google.colab import drive\n",
        "drive.mount('/content/drive')"
      ]
    },
    {
      "cell_type": "code",
      "source": [
        "import os"
      ],
      "metadata": {
        "id": "-11nYPnG60NE"
      },
      "execution_count": 2,
      "outputs": []
    },
    {
      "cell_type": "markdown",
      "source": [
        "# review files in folders"
      ],
      "metadata": {
        "id": "wD4QsM956uvm"
      }
    },
    {
      "cell_type": "code",
      "source": [
        "# Define the folder containing .tif files\n",
        "# images_folder = '/content/drive/MyDrive/DeepLearning_Project/planet_ThreeYear/images'\n",
        "# images_folder = '/content/drive/MyDrive/DeepLearning_Project/planet_TwoYear/images'\n",
        "# images_folder = '/content/drive/MyDrive/DeepLearning_Project/planet_OneYear/images'\n",
        "\n",
        "images_folder = '/content/drive/MyDrive/DeepLearning_Project/planet_OneYear/labels'\n",
        "# images_folder = '/content/drive/MyDrive/DeepLearning_Project/planet_ThreeYear/labels'\n",
        "# images_folder = '/content/drive/MyDrive/DeepLearning_Project/planet_TwoYear/labels'\n",
        "\n",
        "# List all files in the folder\n",
        "files = os.listdir(images_folder)\n",
        "\n",
        "# Filter .tif files\n",
        "tif_files = [file for file in files if file.endswith('.tif')]\n",
        "\n",
        "# Count the number of .tif files\n",
        "num_tif_files = len(tif_files)\n",
        "\n",
        "# Print the number of .tif files\n",
        "print(f'The number of .tif files in the folder is: {num_tif_files}')"
      ],
      "metadata": {
        "colab": {
          "base_uri": "https://localhost:8080/"
        },
        "id": "TYinU4zs6sRC",
        "outputId": "94fcfa25-cbce-4b23-fd4d-f7aef13d17c2"
      },
      "execution_count": 38,
      "outputs": [
        {
          "output_type": "stream",
          "name": "stdout",
          "text": [
            "The number of .tif files in the folder is: 2834\n"
          ]
        }
      ]
    },
    {
      "cell_type": "markdown",
      "source": [
        "# move images and labels into test_datasets folders for one, two, three year folders."
      ],
      "metadata": {
        "id": "vGUfSleBHITG"
      }
    },
    {
      "cell_type": "code",
      "source": [
        "import shutil\n",
        "#  /content/drive/MyDrive/DeepLearning_Project/planet_OneYear/labels/1000_nwi_ccap_filled_utm4.tif\n",
        "# /content/drive/MyDrive/DeepLearning_Project/planet_OneYear/images/1000_planet_stack_utm4.tif\n",
        "\n",
        "# Define the source and destination directories\n",
        "source_dir = \"/content/drive/MyDrive/DeepLearning_Project/planet_TwoYear/labels/\"\n",
        "export_path = \"/content/drive/MyDrive/DeepLearning_Project/planet_TwoYear/test_dataset/test_labels/\"\n",
        "\n",
        "# Ensure the destination folder exists\n",
        "if not os.path.exists(export_path):\n",
        "    os.makedirs(export_path)\n",
        "\n",
        "# # List of specific file names to move\n",
        "# files_to_move = [\"1546_planet_stack_utm4.tif\", \"1530_planet_stack_utm4.tif\", \"1532_planet_stack_utm4.tif\",\n",
        "#                  \"2118_planet_stack_utm4.tif\", \"2355_planet_stack_utm4.tif\", \"823_planet_stack_utm4.tif\",\n",
        "#                  \"821_planet_stack_utm4.tif\", \"1555_planet_stack_utm4.tif\", \"1557_planet_stack_utm4.tif\",]\n",
        "\n",
        "files_to_move = [\"1546_nwi_ccap_filled_utm4.tif\", \"1530_nwi_ccap_filled_utm4.tif\", \"1532_nwi_ccap_filled_utm4.tif\",\n",
        "                 \"2118_nwi_ccap_filled_utm4.tif\", \"2355_nwi_ccap_filled_utm4.tif\", \"823_nwi_ccap_filled_utm4.tif\",\n",
        "                 \"821_nwi_ccap_filled_utm4.tif\", \"1555_nwi_ccap_filled_utm4.tif\", \"1557_nwi_ccap_filled_utm4.tif\",]\n",
        "\n",
        "# Move each specific file to the destination folder\n",
        "for filename in files_to_move:\n",
        "    source_file = os.path.join(source_dir, filename)\n",
        "    destination_file = os.path.join(export_path, filename)\n",
        "\n",
        "    # Check if the source file exists\n",
        "    if os.path.exists(source_file):\n",
        "        # Move the file to the destination folder\n",
        "        shutil.move(source_file, destination_file)\n",
        "        print(f\"Moved {filename} to the destination folder.\")\n",
        "    else:\n",
        "        print(f\"File '{filename}' does not exist in the source folder.\")\n"
      ],
      "metadata": {
        "colab": {
          "base_uri": "https://localhost:8080/"
        },
        "id": "fZv_CSWXGUA1",
        "outputId": "fc19ae2e-0093-4461-8faa-1baad482f98c"
      },
      "execution_count": 44,
      "outputs": [
        {
          "output_type": "stream",
          "name": "stdout",
          "text": [
            "Moved 1546_nwi_ccap_filled_utm4.tif to the destination folder.\n",
            "Moved 1530_nwi_ccap_filled_utm4.tif to the destination folder.\n",
            "Moved 1532_nwi_ccap_filled_utm4.tif to the destination folder.\n",
            "Moved 2118_nwi_ccap_filled_utm4.tif to the destination folder.\n",
            "Moved 2355_nwi_ccap_filled_utm4.tif to the destination folder.\n",
            "Moved 823_nwi_ccap_filled_utm4.tif to the destination folder.\n",
            "Moved 821_nwi_ccap_filled_utm4.tif to the destination folder.\n",
            "Moved 1555_nwi_ccap_filled_utm4.tif to the destination folder.\n",
            "Moved 1557_nwi_ccap_filled_utm4.tif to the destination folder.\n"
          ]
        }
      ]
    },
    {
      "cell_type": "code",
      "source": [
        "# Define the folder containing .tif files\n",
        "# images_folder = '/content/drive/MyDrive/DeepLearning_Project/planet_ThreeYear/images'\n",
        "# images_folder = '/content/drive/MyDrive/DeepLearning_Project/planet_TwoYear/images'\n",
        "# images_folder = '/content/drive/MyDrive/DeepLearning_Project/planet_OneYear/images'\n",
        "\n",
        "# images_folder = '/content/drive/MyDrive/DeepLearning_Project/planet_OneYear/labels'\n",
        "# images_folder = '/content/drive/MyDrive/DeepLearning_Project/planet_ThreeYear/labels'\n",
        "images_folder = '/content/drive/MyDrive/DeepLearning_Project/planet_TwoYear/labels'\n",
        "\n",
        "# List all files in the folder\n",
        "files = os.listdir(images_folder)\n",
        "\n",
        "# Filter .tif files\n",
        "tif_files = [file for file in files if file.endswith('.tif')]\n",
        "\n",
        "# Count the number of .tif files\n",
        "num_tif_files = len(tif_files)\n",
        "\n",
        "# Print the number of .tif files\n",
        "print(f'The number of .tif files in the folder is: {num_tif_files}')"
      ],
      "metadata": {
        "colab": {
          "base_uri": "https://localhost:8080/"
        },
        "id": "CkykYSzNHnEG",
        "outputId": "490d257e-ceb5-4402-9216-7cd1c5e9f923"
      },
      "execution_count": 50,
      "outputs": [
        {
          "output_type": "stream",
          "name": "stdout",
          "text": [
            "The number of .tif files in the folder is: 2825\n"
          ]
        }
      ]
    }
  ]
}