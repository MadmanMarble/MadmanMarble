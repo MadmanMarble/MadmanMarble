{
  "nbformat": 4,
  "nbformat_minor": 0,
  "metadata": {
    "colab": {
      "provenance": [],
      "include_colab_link": true
    },
    "kernelspec": {
      "name": "python3",
      "display_name": "Python 3"
    },
    "language_info": {
      "name": "python"
    }
  },
  "cells": [
    {
      "cell_type": "markdown",
      "metadata": {
        "id": "view-in-github",
        "colab_type": "text"
      },
      "source": [
        "<a href=\"https://colab.research.google.com/github/MadmanMarble/MadmanMarble/blob/main/CCAP_UNET_processing_Fall2023.ipynb\" target=\"_parent\"><img src=\"https://colab.research.google.com/assets/colab-badge.svg\" alt=\"Open In Colab\"/></a>"
      ]
    },
    {
      "cell_type": "code",
      "execution_count": 1,
      "metadata": {
        "id": "SeOck4T2ihge",
        "outputId": "b883d473-2324-479d-8db1-a9f0af5e456e",
        "colab": {
          "base_uri": "https://localhost:8080/"
        }
      },
      "outputs": [
        {
          "output_type": "stream",
          "name": "stdout",
          "text": [
            "Mounted at /content/drive\n"
          ]
        }
      ],
      "source": [
        "from google.colab import drive\n",
        "drive.mount('/content/drive')"
      ]
    },
    {
      "cell_type": "code",
      "source": [
        "import pandas as pd\n",
        "import numpy as np\n",
        "import matplotlib.pyplot as plt\n",
        "import os\n",
        "import cv2\n",
        "import shutil\n",
        "import hashlib"
      ],
      "metadata": {
        "id": "LAQCYL1CmNc3"
      },
      "execution_count": 2,
      "outputs": []
    },
    {
      "cell_type": "code",
      "source": [
        "# # OR Unzipping to a specific directory\n",
        "!mkdir /content/CCAP"
      ],
      "metadata": {
        "id": "nHJmKvGBj1cr"
      },
      "execution_count": 3,
      "outputs": []
    },
    {
      "cell_type": "code",
      "source": [
        "!mkdir '/content/kahuku2021'\n",
        "!mkdir '/content/kahuku2021/Images'\n",
        "!mkdir '/content/kahuku2021/Labels'"
      ],
      "metadata": {
        "id": "AUlSJzkscGLi"
      },
      "execution_count": 52,
      "outputs": []
    },
    {
      "cell_type": "code",
      "source": [
        "# Unzip the file and place the files to the newly cerated directory (CCAP/image_chips/ISLAND)\n",
        "!unzip /content/drive/MyDrive/data/wetland_project/processed_data/planet/Kahuku2021.zip -d /content/CCAP/"
      ],
      "metadata": {
        "id": "MOeK4u0nlKrk",
        "outputId": "60318e80-409d-4c1e-dde0-1bdbc1124c1c",
        "colab": {
          "base_uri": "https://localhost:8080/"
        }
      },
      "execution_count": 53,
      "outputs": [
        {
          "output_type": "stream",
          "name": "stdout",
          "text": [
            "Archive:  /content/drive/MyDrive/data/wetland_project/processed_data/planet/Kahuku2021.zip\n",
            "   creating: /content/CCAP/content/kahuku2021/Images/\n",
            "  inflating: /content/CCAP/content/kahuku2021/Images/1_1.tif  \n",
            "  inflating: /content/CCAP/content/kahuku2021/Images/1_1025.tif  \n",
            "  inflating: /content/CCAP/content/kahuku2021/Images/1_1388.tif  \n",
            "  inflating: /content/CCAP/content/kahuku2021/Images/1_513.tif  \n",
            "  inflating: /content/CCAP/content/kahuku2021/Images/1025_1.tif  \n",
            "  inflating: /content/CCAP/content/kahuku2021/Images/1025_1025.tif  \n",
            "  inflating: /content/CCAP/content/kahuku2021/Images/1025_1388.tif  \n",
            "  inflating: /content/CCAP/content/kahuku2021/Images/1025_513.tif  \n",
            "  inflating: /content/CCAP/content/kahuku2021/Images/1537_1.tif  \n",
            "  inflating: /content/CCAP/content/kahuku2021/Images/1537_1025.tif  \n",
            "  inflating: /content/CCAP/content/kahuku2021/Images/1537_1388.tif  \n",
            "  inflating: /content/CCAP/content/kahuku2021/Images/1537_513.tif  \n",
            "  inflating: /content/CCAP/content/kahuku2021/Images/2049_1.tif  \n",
            "  inflating: /content/CCAP/content/kahuku2021/Images/2049_1025.tif  \n",
            "  inflating: /content/CCAP/content/kahuku2021/Images/2049_1388.tif  \n",
            "  inflating: /content/CCAP/content/kahuku2021/Images/2049_513.tif  \n",
            "  inflating: /content/CCAP/content/kahuku2021/Images/2274_1.tif  \n",
            "  inflating: /content/CCAP/content/kahuku2021/Images/2274_1025.tif  \n",
            "  inflating: /content/CCAP/content/kahuku2021/Images/2274_1388.tif  \n",
            "  inflating: /content/CCAP/content/kahuku2021/Images/2274_513.tif  \n",
            "  inflating: /content/CCAP/content/kahuku2021/Images/513_1.tif  \n",
            "  inflating: /content/CCAP/content/kahuku2021/Images/513_1025.tif  \n",
            "  inflating: /content/CCAP/content/kahuku2021/Images/513_1388.tif  \n",
            "  inflating: /content/CCAP/content/kahuku2021/Images/513_513.tif  \n",
            "replace /content/CCAP/content/kahuku2021/Images/1_1.tif? [y]es, [n]o, [A]ll, [N]one, [r]ename: N\n"
          ]
        }
      ]
    },
    {
      "cell_type": "markdown",
      "source": [
        "Next two blocks of code are probably unnecessary but run them for a sanity check."
      ],
      "metadata": {
        "id": "rzf2ms0BCLR_"
      }
    },
    {
      "cell_type": "code",
      "source": [
        "# original images and labels folder: how many files are there?\n",
        "org_img = '/content/CCAP/content/kahuku2020/Images'\n",
        "org_img_files = os.listdir(org_img)\n",
        "org_img_count = len(org_img_files)\n",
        "print(f'The number of files in the folder is: {org_img_count}')\n",
        "org_label = '/content/CCAP/content/kahuku2020/Labels'\n",
        "org_label_files = os.listdir(org_label)\n",
        "org_label_count = len(org_label_files)\n",
        "print(f'The number of files in the folder is: {org_label_count}')"
      ],
      "metadata": {
        "id": "FPxgtxUF0lMB"
      },
      "execution_count": null,
      "outputs": []
    },
    {
      "cell_type": "code",
      "source": [
        "df = pd.read_csv('/content/CCAP/content/kahuku2020/kahuku2020.csv')"
      ],
      "metadata": {
        "id": "Ghdu0HZhmYbR"
      },
      "execution_count": null,
      "outputs": []
    },
    {
      "cell_type": "code",
      "source": [
        "subset_df = df[(df['label'] > 12) & (df['label'] < 19)]"
      ],
      "metadata": {
        "id": "CNxAZli4mgpP"
      },
      "execution_count": null,
      "outputs": []
    },
    {
      "cell_type": "code",
      "source": [
        "subset_df"
      ],
      "metadata": {
        "id": "eAelyqNGwOyM"
      },
      "execution_count": null,
      "outputs": []
    },
    {
      "cell_type": "code",
      "source": [
        "subset_df = subset_df.copy()  # Create a copy of the subset DataFrame to avoid modifying the original\n",
        "subset_df['tif_name'] = subset_df['x_org'].astype(str) + \"_\" + subset_df['y_org'].astype(str) + \".tif\""
      ],
      "metadata": {
        "id": "hD2UvC9DyCyU"
      },
      "execution_count": null,
      "outputs": []
    },
    {
      "cell_type": "code",
      "source": [
        "subset_df"
      ],
      "metadata": {
        "id": "03zhW7ODnQKK"
      },
      "execution_count": null,
      "outputs": []
    },
    {
      "cell_type": "code",
      "source": [
        "# Copy the useable images files to new folder\n",
        "source_images = '/content/CCAP/content/kahuku2020/Images'\n",
        "destination_images = '/content/kahuku2020/Images'\n",
        "for tif_name in subset_df['tif_name']:\n",
        "    source_path = os.path.join(source_images, tif_name)\n",
        "    destination_path = os.path.join(destination_images, tif_name)\n",
        "    try:\n",
        "        shutil.copy(source_path, destination_path)\n",
        "        print(f\"Copied {tif_name} to {destination_images}\")\n",
        "    except FileNotFoundError:\n",
        "        print(f\"File {tif_name} not found in {source_images}\")"
      ],
      "metadata": {
        "id": "5LEl74ON7wfH"
      },
      "execution_count": null,
      "outputs": []
    },
    {
      "cell_type": "code",
      "source": [
        "# Copy the useable labels files to new folder\n",
        "source_labels = '/content/CCAP/content/kahuku2020/Labels'\n",
        "destination_labels = '/content/kahuku2020/Labels'\n",
        "for tif_name in subset_df['tif_name']:\n",
        "    source_path = os.path.join(source_labels, tif_name)\n",
        "    destination_path = os.path.join(destination_labels, tif_name)\n",
        "    try:\n",
        "        shutil.copy(source_path, destination_path)\n",
        "        print(f\"Copied {tif_name} to {destination_labels}\")\n",
        "    except FileNotFoundError:\n",
        "        print(f\"File {tif_name} not found in {source_labels}\")"
      ],
      "metadata": {
        "id": "cspHXpSO1-TA"
      },
      "execution_count": null,
      "outputs": []
    },
    {
      "cell_type": "code",
      "source": [
        "# NEW images and labels folder: how many files are there?\n",
        "new_img = '/content/kahuku2020/Images'\n",
        "new_img_files = os.listdir(new_img)\n",
        "new_img_count = len(new_img_files)\n",
        "print(f'The number of files in the folder is: {new_img_count}')\n",
        "new_label = '/content/kahuku2020/Labels'\n",
        "new_label_files = os.listdir(new_label)\n",
        "new_label_count = len(new_label_files)\n",
        "print(f'The number of files in the folder is: {new_label_count}')"
      ],
      "metadata": {
        "id": "iFRixV350X-C"
      },
      "execution_count": null,
      "outputs": []
    },
    {
      "cell_type": "code",
      "source": [
        "# Define the file path where you want to save the CSV file\n",
        "csv_file_path = '/content/kahuku2020_subset.csv'\n",
        "subset_df.to_csv(csv_file_path, index=False)\n",
        "print(f\"DataFrame exported to {csv_file_path}\")"
      ],
      "metadata": {
        "id": "BZtZOmL24OzB"
      },
      "execution_count": null,
      "outputs": []
    },
    {
      "cell_type": "code",
      "source": [
        "# Define the path to the 'wetland_categories' folder\n",
        "folder_to_zip = '/content/kahuku2020'\n",
        "zip_file_path = '/content/kahuku2020_subset.zip'\n",
        "shutil.make_archive(zip_file_path[:-4], 'zip', folder_to_zip)\n",
        "print(f'ZIP file created: {zip_file_path}')"
      ],
      "metadata": {
        "id": "NQ-Qg6wa4x1D"
      },
      "execution_count": null,
      "outputs": []
    },
    {
      "cell_type": "code",
      "source": [
        "# Define the destination folder in Google Drive\n",
        "drive_folder = '/content/drive/MyDrive/data/wetland_project/trainingdata'\n",
        "shutil.move(zip_file_path, drive_folder)\n",
        "print(f'ZIP file moved to Google Drive: {drive_folder}')\n",
        "shutil.move(csv_file_path, drive_folder)\n",
        "print(f'CSV file moved to Google Drive: {drive_folder}')"
      ],
      "metadata": {
        "id": "oeI6TdZs6pfR"
      },
      "execution_count": null,
      "outputs": []
    },
    {
      "cell_type": "code",
      "source": [
        "stopppsps\"(W)"
      ],
      "metadata": {
        "id": "e_BtfFpW_QGf"
      },
      "execution_count": null,
      "outputs": []
    },
    {
      "cell_type": "markdown",
      "source": [
        "# Define next folder"
      ],
      "metadata": {
        "id": "-lBggaczb1Qr"
      }
    },
    {
      "cell_type": "code",
      "source": [
        "# Unzip the file and place the files to the newly cerated directory (CCAP/image_chips/ISLAND)\n",
        "!unzip /content/drive/MyDrive/data/wetland_project/processed_data/planet/Kahuku2021.zip -d /content/CCAP/"
      ],
      "metadata": {
        "id": "qy_yAuMc-bpU"
      },
      "execution_count": null,
      "outputs": []
    },
    {
      "cell_type": "code",
      "source": [
        "!mkdir '/content/kahuku2021'\n",
        "!mkdir '/content/kahuku2021/Images'\n",
        "!mkdir '/content/kahuku2021/Labels'"
      ],
      "metadata": {
        "id": "0UF5kmVaBLVl"
      },
      "execution_count": null,
      "outputs": []
    },
    {
      "cell_type": "code",
      "source": [
        "# original images and labels folder: how many files are there?\n",
        "org_img = '/content/CCAP/content/kahuku2021/Images'\n",
        "org_img_files = os.listdir(org_img)\n",
        "org_img_count = len(org_img_files)\n",
        "print(f'The number of files in the folder is: {org_img_count}')\n",
        "org_label = '/content/CCAP/content/kahuku2021/Labels'\n",
        "org_label_files = os.listdir(org_label)\n",
        "org_label_count = len(org_label_files)\n",
        "print(f'The number of files in the folder is: {org_label_count}')"
      ],
      "metadata": {
        "id": "TErpYMWqbEot"
      },
      "execution_count": null,
      "outputs": []
    },
    {
      "cell_type": "code",
      "source": [
        "df = pd.read_csv('/content/CCAP/content/kahuku2021/kahuku2021.csv')"
      ],
      "metadata": {
        "id": "gmW4GfadbJJl"
      },
      "execution_count": null,
      "outputs": []
    },
    {
      "cell_type": "code",
      "source": [
        "df"
      ],
      "metadata": {
        "id": "1qn7KybzbJDH"
      },
      "execution_count": null,
      "outputs": []
    },
    {
      "cell_type": "code",
      "source": [
        "subset_df = df[(df['label'] > 12) & (df['label'] < 19)]"
      ],
      "metadata": {
        "id": "sKDmAaWobMFS"
      },
      "execution_count": null,
      "outputs": []
    },
    {
      "cell_type": "code",
      "source": [
        "subset_df = subset_df.copy()  # Create a copy of the subset DataFrame to avoid modifying the original\n",
        "subset_df['tif_name'] = subset_df['x_org'].astype(str) + \"_\" + subset_df['y_org'].astype(str) + \".tif\""
      ],
      "metadata": {
        "id": "KwNmCyaJbOYt"
      },
      "execution_count": null,
      "outputs": []
    },
    {
      "cell_type": "code",
      "source": [
        "subset_df"
      ],
      "metadata": {
        "id": "e7-X_4f9bPAL"
      },
      "execution_count": null,
      "outputs": []
    },
    {
      "cell_type": "code",
      "source": [
        "# Copy the useable images files to new folder\n",
        "source_images = '/content/CCAP/content/kahuku2021/Images'\n",
        "destination_images = '/content/kahuku2021/Images'\n",
        "for tif_name in subset_df['tif_name']:\n",
        "    source_path = os.path.join(source_images, tif_name)\n",
        "    destination_path = os.path.join(destination_images, tif_name)\n",
        "    try:\n",
        "        shutil.copy(source_path, destination_path)\n",
        "        print(f\"Copied {tif_name} to {destination_images}\")\n",
        "    except FileNotFoundError:\n",
        "        print(f\"File {tif_name} not found in {source_images}\")"
      ],
      "metadata": {
        "id": "Rw8gnWVbbO4A"
      },
      "execution_count": null,
      "outputs": []
    },
    {
      "cell_type": "code",
      "source": [
        "# Copy the useable labels files to new folder\n",
        "source_labels = '/content/CCAP/content/kahuku2021/Labels'\n",
        "destination_labels = '/content/kahuku2021/Labels'\n",
        "for tif_name in subset_df['tif_name']:\n",
        "    source_path = os.path.join(source_labels, tif_name)\n",
        "    destination_path = os.path.join(destination_labels, tif_name)\n",
        "    try:\n",
        "        shutil.copy(source_path, destination_path)\n",
        "        print(f\"Copied {tif_name} to {destination_labels}\")\n",
        "    except FileNotFoundError:\n",
        "        print(f\"File {tif_name} not found in {source_labels}\")"
      ],
      "metadata": {
        "id": "VtS_Nb0agYzY"
      },
      "execution_count": null,
      "outputs": []
    },
    {
      "cell_type": "code",
      "source": [
        "# NEW images and labels folder: how many files are there?\n",
        "new_img = '/content/kahuku2021/Images'\n",
        "new_img_files = os.listdir(new_img)\n",
        "new_img_count = len(new_img_files)\n",
        "print(f'The number of files in the folder is: {new_img_count}')\n",
        "new_label = '/content/kahuku2021/Labels'\n",
        "new_label_files = os.listdir(new_label)\n",
        "new_label_count = len(new_label_files)\n",
        "print(f'The number of files in the folder is: {new_label_count}')"
      ],
      "metadata": {
        "id": "d8x44FXHbxbj"
      },
      "execution_count": null,
      "outputs": []
    },
    {
      "cell_type": "code",
      "source": [
        "# Define the file path where you want to save the CSV file\n",
        "csv_file_path = '/content/kahuku2021_subset.csv'\n",
        "subset_df.to_csv(csv_file_path, index=False)\n",
        "print(f\"DataFrame exported to {csv_file_path}\")"
      ],
      "metadata": {
        "id": "L1Sl_bkibOys"
      },
      "execution_count": null,
      "outputs": []
    },
    {
      "cell_type": "code",
      "source": [
        "# Define the path to the 'wetland_categories' folder\n",
        "folder_to_zip = '/content/kahuku2021'\n",
        "zip_file_path = '/content/kahuku2021_subset.zip'\n",
        "shutil.make_archive(zip_file_path[:-4], 'zip', folder_to_zip)\n",
        "print(f'ZIP file created: {zip_file_path}')"
      ],
      "metadata": {
        "id": "kiEu_Q1obOrc"
      },
      "execution_count": null,
      "outputs": []
    },
    {
      "cell_type": "code",
      "source": [
        "# Define the destination folder in Google Drive\n",
        "drive_folder = '/content/drive/MyDrive/wetland_unet/UNET_Image_Chips/imagechip_trainingdata'\n",
        "shutil.move(zip_file_path, drive_folder)\n",
        "print(f'ZIP file moved to Google Drive: {drive_folder}')\n",
        "shutil.move(csv_file_path, drive_folder)\n",
        "print(f'CSV file moved to Google Drive: {drive_folder}')"
      ],
      "metadata": {
        "id": "t2LhUl08bdAm"
      },
      "execution_count": null,
      "outputs": []
    },
    {
      "cell_type": "markdown",
      "source": [
        "# one more to do 7, 8, 9 together"
      ],
      "metadata": {
        "id": "EjCvQ0hBip2Y"
      }
    },
    {
      "cell_type": "code",
      "source": [
        "# Unzip the file and place the files to the newly cerated directory (CCAP/image_chips/ISLAND)\n",
        "!unzip /content/drive/MyDrive/wetland_unet/UNET_Image_Chips/Hawaii_Island_Update/Export/Hawaii_2005_009.zip -d /content/CCAP/"
      ],
      "metadata": {
        "id": "ufFay1CFiovc"
      },
      "execution_count": null,
      "outputs": []
    },
    {
      "cell_type": "code",
      "source": [
        "# original images and labels folder: how many files are there?\n",
        "org_img = '/content/CCAP/content/Hawaii_2005_009/Images'\n",
        "org_img_files = os.listdir(org_img)\n",
        "org_img_count = len(org_img_files)\n",
        "print(f'The number of files in the folder is: {org_img_count}')\n",
        "org_label = '/content/CCAP/content/Hawaii_2005_009/Labels'\n",
        "org_label_files = os.listdir(org_label)\n",
        "org_label_count = len(org_label_files)\n",
        "print(f'The number of files in the folder is: {org_label_count}')"
      ],
      "metadata": {
        "id": "0Q6FWAsQipPv"
      },
      "execution_count": null,
      "outputs": []
    },
    {
      "cell_type": "code",
      "source": [
        "df = pd.read_csv('/content/CCAP/content/Hawaii_2005_009/Hawaii_2005_009.csv')"
      ],
      "metadata": {
        "id": "cwr7WAg5ix2A"
      },
      "execution_count": null,
      "outputs": []
    },
    {
      "cell_type": "code",
      "source": [
        "subset_df = df[(df['label'] > 12) & (df['label'] < 19)]"
      ],
      "metadata": {
        "id": "dzvpRxwbixyw"
      },
      "execution_count": null,
      "outputs": []
    },
    {
      "cell_type": "code",
      "source": [
        "subset_df = subset_df.copy()  # Create a copy of the subset DataFrame to avoid modifying the original\n",
        "subset_df['tif_name'] = subset_df['x_org'].astype(str) + \"_\" + subset_df['y_org'].astype(str) + \".tif\""
      ],
      "metadata": {
        "id": "yrRkRF7Mixvm"
      },
      "execution_count": null,
      "outputs": []
    },
    {
      "cell_type": "code",
      "source": [
        "subset_df"
      ],
      "metadata": {
        "id": "kAAkWUFUpchb"
      },
      "execution_count": null,
      "outputs": []
    },
    {
      "cell_type": "code",
      "source": [
        "# Copy the useable images files to new folder\n",
        "source_images = '/content/CCAP/content/Hawaii_2005_009/Images'\n",
        "destination_images = '/content/Hawaii_2005_009/Images'\n",
        "for tif_name in subset_df['tif_name']:\n",
        "    source_path = os.path.join(source_images, tif_name)\n",
        "    destination_path = os.path.join(destination_images, tif_name)\n",
        "    try:\n",
        "        shutil.copy(source_path, destination_path)\n",
        "        print(f\"Copied {tif_name} to {destination_images}\")\n",
        "    except FileNotFoundError:\n",
        "        print(f\"File {tif_name} not found in {source_images}\")"
      ],
      "metadata": {
        "id": "cWN9izvWixsd"
      },
      "execution_count": null,
      "outputs": []
    },
    {
      "cell_type": "code",
      "source": [
        "# Copy the useable labels files to new folder\n",
        "source_labels = '/content/CCAP/content/Hawaii_2005_009/Labels'\n",
        "destination_labels = '/content/Hawaii_2005_009/Labels'\n",
        "for tif_name in subset_df['tif_name']:\n",
        "    source_path = os.path.join(source_labels, tif_name)\n",
        "    destination_path = os.path.join(destination_labels, tif_name)\n",
        "    try:\n",
        "        shutil.copy(source_path, destination_path)\n",
        "        print(f\"Copied {tif_name} to {destination_labels}\")\n",
        "    except FileNotFoundError:\n",
        "        print(f\"File {tif_name} not found in {source_labels}\")"
      ],
      "metadata": {
        "id": "Jt6TGZutixo9"
      },
      "execution_count": null,
      "outputs": []
    },
    {
      "cell_type": "code",
      "source": [
        "# NEW images and labels folder: how many files are there?\n",
        "new_img = '/content/Hawaii_2005_009/Images'\n",
        "new_img_files = os.listdir(new_img)\n",
        "new_img_count = len(new_img_files)\n",
        "print(f'The number of files in the folder is: {new_img_count}')\n",
        "new_label = '/content/Hawaii_2005_009/Labels'\n",
        "new_label_files = os.listdir(new_label)\n",
        "new_label_count = len(new_label_files)\n",
        "print(f'The number of files in the folder is: {new_label_count}')"
      ],
      "metadata": {
        "id": "LyucvNZoi4pb"
      },
      "execution_count": null,
      "outputs": []
    },
    {
      "cell_type": "code",
      "source": [
        "# Define the file path where you want to save the CSV file\n",
        "csv_file_path = '/content/Hawaii_2005_009_subset.csv'\n",
        "subset_df.to_csv(csv_file_path, index=False)\n",
        "print(f\"DataFrame exported to {csv_file_path}\")"
      ],
      "metadata": {
        "id": "bIuxup-ri4nI"
      },
      "execution_count": null,
      "outputs": []
    },
    {
      "cell_type": "code",
      "source": [
        "# Define the path to the 'wetland_categories' folder\n",
        "folder_to_zip = '/content/Hawaii_2005_009'\n",
        "zip_file_path = '/content/Hawaii_2005_009_subset.zip'\n",
        "shutil.make_archive(zip_file_path[:-4], 'zip', folder_to_zip)\n",
        "print(f'ZIP file created: {zip_file_path}')"
      ],
      "metadata": {
        "id": "XpSLgsmWixkC"
      },
      "execution_count": null,
      "outputs": []
    },
    {
      "cell_type": "code",
      "source": [
        "# Define the destination folder in Google Drive\n",
        "drive_folder = '/content/drive/MyDrive/wetland_unet/UNET_Image_Chips/imagechip_trainingdata'\n",
        "shutil.move(zip_file_path, drive_folder)\n",
        "print(f'ZIP file moved to Google Drive: {drive_folder}')\n",
        "shutil.move(csv_file_path, drive_folder)\n",
        "print(f'CSV file moved to Google Drive: {drive_folder}')"
      ],
      "metadata": {
        "id": "dsbN2fBXi8Aa"
      },
      "execution_count": null,
      "outputs": []
    }
  ]
}