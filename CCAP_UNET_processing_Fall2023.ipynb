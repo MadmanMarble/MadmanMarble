{
  "nbformat": 4,
  "nbformat_minor": 0,
  "metadata": {
    "colab": {
      "provenance": [],
      "include_colab_link": true
    },
    "kernelspec": {
      "name": "python3",
      "display_name": "Python 3"
    },
    "language_info": {
      "name": "python"
    }
  },
  "cells": [
    {
      "cell_type": "markdown",
      "metadata": {
        "id": "view-in-github",
        "colab_type": "text"
      },
      "source": [
        "<a href=\"https://colab.research.google.com/github/MadmanMarble/MadmanMarble/blob/main/CCAP_UNET_processing_Fall2023.ipynb\" target=\"_parent\"><img src=\"https://colab.research.google.com/assets/colab-badge.svg\" alt=\"Open In Colab\"/></a>"
      ]
    },
    {
      "cell_type": "code",
      "execution_count": 1,
      "metadata": {
        "id": "SeOck4T2ihge",
        "outputId": "cdd43fec-7536-4388-a0fc-1c5f6f0b9e74",
        "colab": {
          "base_uri": "https://localhost:8080/"
        }
      },
      "outputs": [
        {
          "output_type": "stream",
          "name": "stdout",
          "text": [
            "Mounted at /content/drive\n"
          ]
        }
      ],
      "source": [
        "from google.colab import drive\n",
        "drive.mount('/content/drive')"
      ]
    },
    {
      "cell_type": "code",
      "source": [
        "import pandas as pd\n",
        "import numpy as np\n",
        "import matplotlib.pyplot as plt\n",
        "import os\n",
        "import cv2\n",
        "import shutil\n",
        "import hashlib"
      ],
      "metadata": {
        "id": "LAQCYL1CmNc3"
      },
      "execution_count": 2,
      "outputs": []
    },
    {
      "cell_type": "code",
      "source": [
        "# # OR Unzipping to a specific directory\n",
        "!mkdir /content/CCAP"
      ],
      "metadata": {
        "id": "nHJmKvGBj1cr"
      },
      "execution_count": 3,
      "outputs": []
    },
    {
      "cell_type": "code",
      "source": [
        "!mkdir '/content/kamalo2018'\n",
        "!mkdir '/content/kamalo2018/Images'\n",
        "!mkdir '/content/kamalo2018/Labels'\n",
        "\n",
        "!mkdir '/content/kamalo2019'\n",
        "!mkdir '/content/kamalo2019/Images'\n",
        "!mkdir '/content/kamalo2019/Labels'\n",
        "\n",
        "!mkdir '/content/kamalo2020'\n",
        "!mkdir '/content/kamalo2020/Images'\n",
        "!mkdir '/content/kamalo2020/Labels'"
      ],
      "metadata": {
        "id": "AUlSJzkscGLi"
      },
      "execution_count": 147,
      "outputs": []
    },
    {
      "cell_type": "code",
      "source": [
        "# Unzip the file and place the files to the newly cerated directory (CCAP/image_chips/ISLAND)\n",
        "!unzip /content/drive/MyDrive/data/wetland_project/processed_data/landsat/kamalo2018.zip -d /content/CCAP/"
      ],
      "metadata": {
        "id": "MOeK4u0nlKrk",
        "outputId": "88d9ea2e-b43a-43e5-fe0b-8abd1bd88a18",
        "colab": {
          "base_uri": "https://localhost:8080/"
        }
      },
      "execution_count": 148,
      "outputs": [
        {
          "output_type": "stream",
          "name": "stdout",
          "text": [
            "Archive:  /content/drive/MyDrive/data/wetland_project/processed_data/landsat/kakahaia2018.zip\n",
            "   creating: /content/CCAP/content/kakahaia2018/Images/\n",
            "  inflating: /content/CCAP/content/kakahaia2018/Images/1_1.tif  \n",
            "  inflating: /content/CCAP/content/kakahaia2018/Images/1_250.tif  \n",
            "  inflating: /content/CCAP/content/kakahaia2018/Images/1025_1.tif  \n",
            "  inflating: /content/CCAP/content/kakahaia2018/Images/1025_250.tif  \n",
            "  inflating: /content/CCAP/content/kakahaia2018/Images/1537_1.tif  \n",
            "  inflating: /content/CCAP/content/kakahaia2018/Images/1537_250.tif  \n",
            "  inflating: /content/CCAP/content/kakahaia2018/Images/2019_1.tif  \n",
            "  inflating: /content/CCAP/content/kakahaia2018/Images/2019_250.tif  \n",
            "  inflating: /content/CCAP/content/kakahaia2018/Images/513_1.tif  \n",
            "  inflating: /content/CCAP/content/kakahaia2018/Images/513_250.tif  \n",
            "   creating: /content/CCAP/content/kakahaia2018/Labels/\n",
            "  inflating: /content/CCAP/content/kakahaia2018/Labels/1_1.tif  \n",
            "  inflating: /content/CCAP/content/kakahaia2018/Labels/1_250.tif  \n",
            "  inflating: /content/CCAP/content/kakahaia2018/Labels/1025_1.tif  \n",
            "  inflating: /content/CCAP/content/kakahaia2018/Labels/1025_250.tif  \n",
            "  inflating: /content/CCAP/content/kakahaia2018/Labels/1537_1.tif  \n",
            "  inflating: /content/CCAP/content/kakahaia2018/Labels/1537_250.tif  \n",
            "  inflating: /content/CCAP/content/kakahaia2018/Labels/2019_1.tif  \n",
            "  inflating: /content/CCAP/content/kakahaia2018/Labels/2019_250.tif  \n",
            "  inflating: /content/CCAP/content/kakahaia2018/Labels/513_1.tif  \n",
            "  inflating: /content/CCAP/content/kakahaia2018/Labels/513_250.tif  \n",
            "  inflating: /content/CCAP/content/kakahaia2018/kakahaia2018.csv  \n"
          ]
        }
      ]
    },
    {
      "cell_type": "code",
      "source": [
        "!unzip /content/drive/MyDrive/data/wetland_project/processed_data/landsat/kakahaia2019.zip -d /content/CCAP/"
      ],
      "metadata": {
        "colab": {
          "base_uri": "https://localhost:8080/"
        },
        "id": "J51HOXsY3GL9",
        "outputId": "7fa0fef5-7c7b-4133-c23c-da3aabd09b00"
      },
      "execution_count": 149,
      "outputs": [
        {
          "output_type": "stream",
          "name": "stdout",
          "text": [
            "Archive:  /content/drive/MyDrive/data/wetland_project/processed_data/landsat/kakahaia2019.zip\n",
            "   creating: /content/CCAP/content/kakahaia2019/Images/\n",
            "  inflating: /content/CCAP/content/kakahaia2019/Images/1_1.tif  \n",
            "  inflating: /content/CCAP/content/kakahaia2019/Images/1_250.tif  \n",
            "  inflating: /content/CCAP/content/kakahaia2019/Images/1025_1.tif  \n",
            "  inflating: /content/CCAP/content/kakahaia2019/Images/1025_250.tif  \n",
            "  inflating: /content/CCAP/content/kakahaia2019/Images/1537_1.tif  \n",
            "  inflating: /content/CCAP/content/kakahaia2019/Images/1537_250.tif  \n",
            "  inflating: /content/CCAP/content/kakahaia2019/Images/2019_1.tif  \n",
            "  inflating: /content/CCAP/content/kakahaia2019/Images/2019_250.tif  \n",
            "  inflating: /content/CCAP/content/kakahaia2019/Images/513_1.tif  \n",
            "  inflating: /content/CCAP/content/kakahaia2019/Images/513_250.tif  \n",
            "   creating: /content/CCAP/content/kakahaia2019/Labels/\n",
            "  inflating: /content/CCAP/content/kakahaia2019/Labels/1_1.tif  \n",
            "  inflating: /content/CCAP/content/kakahaia2019/Labels/1_250.tif  \n",
            "  inflating: /content/CCAP/content/kakahaia2019/Labels/1025_1.tif  \n",
            "  inflating: /content/CCAP/content/kakahaia2019/Labels/1025_250.tif  \n",
            "  inflating: /content/CCAP/content/kakahaia2019/Labels/1537_1.tif  \n",
            "  inflating: /content/CCAP/content/kakahaia2019/Labels/1537_250.tif  \n",
            "  inflating: /content/CCAP/content/kakahaia2019/Labels/2019_1.tif  \n",
            "  inflating: /content/CCAP/content/kakahaia2019/Labels/2019_250.tif  \n",
            "  inflating: /content/CCAP/content/kakahaia2019/Labels/513_1.tif  \n",
            "  inflating: /content/CCAP/content/kakahaia2019/Labels/513_250.tif  \n",
            "  inflating: /content/CCAP/content/kakahaia2019/kakahaia2019.csv  \n"
          ]
        }
      ]
    },
    {
      "cell_type": "code",
      "source": [
        "!unzip /content/drive/MyDrive/data/wetland_project/processed_data/landsat/kakahaia2020.zip -d /content/CCAP/"
      ],
      "metadata": {
        "colab": {
          "base_uri": "https://localhost:8080/"
        },
        "id": "7tIETYaw3GE3",
        "outputId": "ecb4057d-4cc3-4233-a2a4-935e6051b852"
      },
      "execution_count": 150,
      "outputs": [
        {
          "output_type": "stream",
          "name": "stdout",
          "text": [
            "Archive:  /content/drive/MyDrive/data/wetland_project/processed_data/landsat/kakahaia2020.zip\n",
            "   creating: /content/CCAP/content/kakahaia2020/Images/\n",
            "  inflating: /content/CCAP/content/kakahaia2020/Images/1_1.tif  \n",
            "  inflating: /content/CCAP/content/kakahaia2020/Images/1_250.tif  \n",
            "  inflating: /content/CCAP/content/kakahaia2020/Images/1025_1.tif  \n",
            "  inflating: /content/CCAP/content/kakahaia2020/Images/1025_250.tif  \n",
            "  inflating: /content/CCAP/content/kakahaia2020/Images/1537_1.tif  \n",
            "  inflating: /content/CCAP/content/kakahaia2020/Images/1537_250.tif  \n",
            "  inflating: /content/CCAP/content/kakahaia2020/Images/2019_1.tif  \n",
            "  inflating: /content/CCAP/content/kakahaia2020/Images/2019_250.tif  \n",
            "  inflating: /content/CCAP/content/kakahaia2020/Images/513_1.tif  \n",
            "  inflating: /content/CCAP/content/kakahaia2020/Images/513_250.tif  \n",
            "   creating: /content/CCAP/content/kakahaia2020/Labels/\n",
            "  inflating: /content/CCAP/content/kakahaia2020/Labels/1_1.tif  \n",
            "  inflating: /content/CCAP/content/kakahaia2020/Labels/1_250.tif  \n",
            "  inflating: /content/CCAP/content/kakahaia2020/Labels/1025_1.tif  \n",
            "  inflating: /content/CCAP/content/kakahaia2020/Labels/1025_250.tif  \n",
            "  inflating: /content/CCAP/content/kakahaia2020/Labels/1537_1.tif  \n",
            "  inflating: /content/CCAP/content/kakahaia2020/Labels/1537_250.tif  \n",
            "  inflating: /content/CCAP/content/kakahaia2020/Labels/2019_1.tif  \n",
            "  inflating: /content/CCAP/content/kakahaia2020/Labels/2019_250.tif  \n",
            "  inflating: /content/CCAP/content/kakahaia2020/Labels/513_1.tif  \n",
            "  inflating: /content/CCAP/content/kakahaia2020/Labels/513_250.tif  \n",
            "  inflating: /content/CCAP/content/kakahaia2020/kakahaia2020.csv  \n"
          ]
        }
      ]
    },
    {
      "cell_type": "code",
      "source": [
        "# original images and labels folder: how many files are there?\n",
        "org_img = '/content/CCAP/content/kakahaia2018/Images'\n",
        "org_img_files = os.listdir(org_img)\n",
        "org_img_count = len(org_img_files)\n",
        "print(f'The number of files in the folder is: {org_img_count}')\n",
        "org_label = '/content/CCAP/content/kakahaia2018/Labels'\n",
        "org_label_files = os.listdir(org_label)\n",
        "org_label_count = len(org_label_files)\n",
        "print(f'The number of files in the folder is: {org_label_count}')"
      ],
      "metadata": {
        "id": "FPxgtxUF0lMB",
        "colab": {
          "base_uri": "https://localhost:8080/"
        },
        "outputId": "1dd2d6a8-f6fd-41f9-806b-91eaa25ef54e"
      },
      "execution_count": 151,
      "outputs": [
        {
          "output_type": "stream",
          "name": "stdout",
          "text": [
            "The number of files in the folder is: 10\n",
            "The number of files in the folder is: 10\n"
          ]
        }
      ]
    },
    {
      "cell_type": "code",
      "source": [
        "df = pd.read_csv('/content/CCAP/content/kakahaia2018/kakahaia2018.csv')"
      ],
      "metadata": {
        "id": "Ghdu0HZhmYbR"
      },
      "execution_count": 152,
      "outputs": []
    },
    {
      "cell_type": "code",
      "source": [
        "subset_df = df[(df['label'] > 12) & (df['label'] < 19)]"
      ],
      "metadata": {
        "id": "CNxAZli4mgpP"
      },
      "execution_count": 153,
      "outputs": []
    },
    {
      "cell_type": "code",
      "source": [
        "# subset_df"
      ],
      "metadata": {
        "id": "eAelyqNGwOyM"
      },
      "execution_count": 154,
      "outputs": []
    },
    {
      "cell_type": "code",
      "source": [
        "subset_df = subset_df.copy()  # Create a copy of the subset DataFrame to avoid modifying the original\n",
        "subset_df['tif_name'] = subset_df['x_org'].astype(str) + \"_\" + subset_df['y_org'].astype(str) + \".tif\""
      ],
      "metadata": {
        "id": "hD2UvC9DyCyU"
      },
      "execution_count": 155,
      "outputs": []
    },
    {
      "cell_type": "code",
      "source": [
        "# subset_df"
      ],
      "metadata": {
        "id": "03zhW7ODnQKK"
      },
      "execution_count": 156,
      "outputs": []
    },
    {
      "cell_type": "code",
      "source": [
        "# Copy the useable images files to new folder\n",
        "source_images = '/content/CCAP/content/kakahaia2018/Images'\n",
        "destination_images = '/content/kakahaia2018/Images'\n",
        "for tif_name in subset_df['tif_name']:\n",
        "    source_path = os.path.join(source_images, tif_name)\n",
        "    destination_path = os.path.join(destination_images, tif_name)\n",
        "    try:\n",
        "        shutil.copy(source_path, destination_path)\n",
        "        print(f\"Copied {tif_name} to {destination_images}\")\n",
        "    except FileNotFoundError:\n",
        "        print(f\"File {tif_name} not found in {source_images}\")"
      ],
      "metadata": {
        "id": "5LEl74ON7wfH",
        "colab": {
          "base_uri": "https://localhost:8080/"
        },
        "outputId": "49761550-a6a2-41c2-f0a6-851bd9d688b3"
      },
      "execution_count": 157,
      "outputs": [
        {
          "output_type": "stream",
          "name": "stdout",
          "text": [
            "Copied 1_1.tif to /content/kakahaia2018/Images\n",
            "Copied 1_1.tif to /content/kakahaia2018/Images\n",
            "Copied 1_1.tif to /content/kakahaia2018/Images\n",
            "Copied 1_1.tif to /content/kakahaia2018/Images\n",
            "Copied 1_1.tif to /content/kakahaia2018/Images\n",
            "Copied 513_1.tif to /content/kakahaia2018/Images\n",
            "Copied 513_1.tif to /content/kakahaia2018/Images\n",
            "Copied 513_1.tif to /content/kakahaia2018/Images\n",
            "Copied 513_1.tif to /content/kakahaia2018/Images\n",
            "Copied 1025_1.tif to /content/kakahaia2018/Images\n",
            "Copied 1025_1.tif to /content/kakahaia2018/Images\n",
            "Copied 1537_1.tif to /content/kakahaia2018/Images\n",
            "Copied 1537_1.tif to /content/kakahaia2018/Images\n",
            "Copied 1_250.tif to /content/kakahaia2018/Images\n",
            "Copied 1_250.tif to /content/kakahaia2018/Images\n",
            "Copied 1_250.tif to /content/kakahaia2018/Images\n",
            "Copied 1_250.tif to /content/kakahaia2018/Images\n",
            "Copied 1_250.tif to /content/kakahaia2018/Images\n",
            "Copied 513_250.tif to /content/kakahaia2018/Images\n",
            "Copied 513_250.tif to /content/kakahaia2018/Images\n",
            "Copied 513_250.tif to /content/kakahaia2018/Images\n",
            "Copied 513_250.tif to /content/kakahaia2018/Images\n",
            "Copied 1025_250.tif to /content/kakahaia2018/Images\n",
            "Copied 1025_250.tif to /content/kakahaia2018/Images\n",
            "Copied 1537_250.tif to /content/kakahaia2018/Images\n",
            "Copied 1537_250.tif to /content/kakahaia2018/Images\n",
            "Copied 1537_250.tif to /content/kakahaia2018/Images\n",
            "Copied 1537_250.tif to /content/kakahaia2018/Images\n",
            "Copied 1537_250.tif to /content/kakahaia2018/Images\n",
            "Copied 2019_250.tif to /content/kakahaia2018/Images\n",
            "Copied 2019_250.tif to /content/kakahaia2018/Images\n",
            "Copied 2019_250.tif to /content/kakahaia2018/Images\n",
            "Copied 2019_250.tif to /content/kakahaia2018/Images\n"
          ]
        }
      ]
    },
    {
      "cell_type": "code",
      "source": [
        "# Copy the useable labels files to new folder\n",
        "source_labels = '/content/CCAP/content/kakahaia2018/Labels'\n",
        "destination_labels = '/content/kakahaia2018/Labels'\n",
        "for tif_name in subset_df['tif_name']:\n",
        "    source_path = os.path.join(source_labels, tif_name)\n",
        "    destination_path = os.path.join(destination_labels, tif_name)\n",
        "    try:\n",
        "        shutil.copy(source_path, destination_path)\n",
        "        print(f\"Copied {tif_name} to {destination_labels}\")\n",
        "    except FileNotFoundError:\n",
        "        print(f\"File {tif_name} not found in {source_labels}\")"
      ],
      "metadata": {
        "id": "cspHXpSO1-TA",
        "colab": {
          "base_uri": "https://localhost:8080/"
        },
        "outputId": "98d123a1-c1c7-4b2c-8615-c6075ef295ce"
      },
      "execution_count": 158,
      "outputs": [
        {
          "output_type": "stream",
          "name": "stdout",
          "text": [
            "Copied 1_1.tif to /content/kakahaia2018/Labels\n",
            "Copied 1_1.tif to /content/kakahaia2018/Labels\n",
            "Copied 1_1.tif to /content/kakahaia2018/Labels\n",
            "Copied 1_1.tif to /content/kakahaia2018/Labels\n",
            "Copied 1_1.tif to /content/kakahaia2018/Labels\n",
            "Copied 513_1.tif to /content/kakahaia2018/Labels\n",
            "Copied 513_1.tif to /content/kakahaia2018/Labels\n",
            "Copied 513_1.tif to /content/kakahaia2018/Labels\n",
            "Copied 513_1.tif to /content/kakahaia2018/Labels\n",
            "Copied 1025_1.tif to /content/kakahaia2018/Labels\n",
            "Copied 1025_1.tif to /content/kakahaia2018/Labels\n",
            "Copied 1537_1.tif to /content/kakahaia2018/Labels\n",
            "Copied 1537_1.tif to /content/kakahaia2018/Labels\n",
            "Copied 1_250.tif to /content/kakahaia2018/Labels\n",
            "Copied 1_250.tif to /content/kakahaia2018/Labels\n",
            "Copied 1_250.tif to /content/kakahaia2018/Labels\n",
            "Copied 1_250.tif to /content/kakahaia2018/Labels\n",
            "Copied 1_250.tif to /content/kakahaia2018/Labels\n",
            "Copied 513_250.tif to /content/kakahaia2018/Labels\n",
            "Copied 513_250.tif to /content/kakahaia2018/Labels\n",
            "Copied 513_250.tif to /content/kakahaia2018/Labels\n",
            "Copied 513_250.tif to /content/kakahaia2018/Labels\n",
            "Copied 1025_250.tif to /content/kakahaia2018/Labels\n",
            "Copied 1025_250.tif to /content/kakahaia2018/Labels\n",
            "Copied 1537_250.tif to /content/kakahaia2018/Labels\n",
            "Copied 1537_250.tif to /content/kakahaia2018/Labels\n",
            "Copied 1537_250.tif to /content/kakahaia2018/Labels\n",
            "Copied 1537_250.tif to /content/kakahaia2018/Labels\n",
            "Copied 1537_250.tif to /content/kakahaia2018/Labels\n",
            "Copied 2019_250.tif to /content/kakahaia2018/Labels\n",
            "Copied 2019_250.tif to /content/kakahaia2018/Labels\n",
            "Copied 2019_250.tif to /content/kakahaia2018/Labels\n",
            "Copied 2019_250.tif to /content/kakahaia2018/Labels\n"
          ]
        }
      ]
    },
    {
      "cell_type": "code",
      "source": [
        "# NEW images and labels folder: how many files are there?\n",
        "new_img = '/content/kakahaia2018/Images'\n",
        "new_img_files = os.listdir(new_img)\n",
        "new_img_count = len(new_img_files)\n",
        "print(f'The number of files in the folder is: {new_img_count}')\n",
        "new_label = '/content/kakahaia2018/Labels'\n",
        "new_label_files = os.listdir(new_label)\n",
        "new_label_count = len(new_label_files)\n",
        "print(f'The number of files in the folder is: {new_label_count}')"
      ],
      "metadata": {
        "id": "iFRixV350X-C",
        "colab": {
          "base_uri": "https://localhost:8080/"
        },
        "outputId": "ff5c9c58-d11d-45ea-f219-37d74f6858e1"
      },
      "execution_count": 159,
      "outputs": [
        {
          "output_type": "stream",
          "name": "stdout",
          "text": [
            "The number of files in the folder is: 9\n",
            "The number of files in the folder is: 9\n"
          ]
        }
      ]
    },
    {
      "cell_type": "code",
      "source": [
        "# Define the file path where you want to save the CSV file\n",
        "csv_file_path = '/content/kakahaia2018_subset.csv'\n",
        "subset_df.to_csv(csv_file_path, index=False)\n",
        "print(f\"DataFrame exported to {csv_file_path}\")"
      ],
      "metadata": {
        "id": "BZtZOmL24OzB",
        "colab": {
          "base_uri": "https://localhost:8080/"
        },
        "outputId": "00a6dd12-9cf6-4101-8354-a556dbe0c21c"
      },
      "execution_count": 160,
      "outputs": [
        {
          "output_type": "stream",
          "name": "stdout",
          "text": [
            "DataFrame exported to /content/kakahaia2018_subset.csv\n"
          ]
        }
      ]
    },
    {
      "cell_type": "code",
      "source": [
        "# Define the path to the 'wetland_categories' folder\n",
        "folder_to_zip = '/content/kakahaia2018'\n",
        "zip_file_path = '/content/kakahaia2018_subset.zip'\n",
        "shutil.make_archive(zip_file_path[:-4], 'zip', folder_to_zip)\n",
        "print(f'ZIP file created: {zip_file_path}')"
      ],
      "metadata": {
        "id": "NQ-Qg6wa4x1D",
        "colab": {
          "base_uri": "https://localhost:8080/"
        },
        "outputId": "8310eb22-57f4-4ea0-bf96-c7972353806c"
      },
      "execution_count": 161,
      "outputs": [
        {
          "output_type": "stream",
          "name": "stdout",
          "text": [
            "ZIP file created: /content/kakahaia2018_subset.zip\n"
          ]
        }
      ]
    },
    {
      "cell_type": "code",
      "source": [
        "# Define the destination folder in Google Drive\n",
        "drive_folder = '/content/drive/MyDrive/data/wetland_project/trainingdata/landsat'\n",
        "shutil.move(zip_file_path, drive_folder)\n",
        "print(f'ZIP file moved to Google Drive: {drive_folder}')\n",
        "shutil.move(csv_file_path, drive_folder)\n",
        "print(f'CSV file moved to Google Drive: {drive_folder}')"
      ],
      "metadata": {
        "id": "oeI6TdZs6pfR",
        "colab": {
          "base_uri": "https://localhost:8080/"
        },
        "outputId": "830f5e66-d88d-4127-f3a3-0f42a3e63311"
      },
      "execution_count": 162,
      "outputs": [
        {
          "output_type": "stream",
          "name": "stdout",
          "text": [
            "ZIP file moved to Google Drive: /content/drive/MyDrive/data/wetland_project/trainingdata/landsat\n",
            "CSV file moved to Google Drive: /content/drive/MyDrive/data/wetland_project/trainingdata/landsat\n"
          ]
        }
      ]
    },
    {
      "cell_type": "markdown",
      "source": [
        "# 2019 tiles"
      ],
      "metadata": {
        "id": "-lBggaczb1Qr"
      }
    },
    {
      "cell_type": "code",
      "source": [
        "# original images and labels folder: how many files are there?\n",
        "org_img = '/content/CCAP/content/kakahaia2019/Images'\n",
        "org_img_files = os.listdir(org_img)\n",
        "org_img_count = len(org_img_files)\n",
        "print(f'The number of files in the folder is: {org_img_count}')\n",
        "org_label = '/content/CCAP/content/kakahaia2019/Labels'\n",
        "org_label_files = os.listdir(org_label)\n",
        "org_label_count = len(org_label_files)\n",
        "print(f'The number of files in the folder is: {org_label_count}')"
      ],
      "metadata": {
        "colab": {
          "base_uri": "https://localhost:8080/"
        },
        "outputId": "fc868826-8599-4ac6-a89f-44fd95d07fea",
        "id": "iUQFu-Ttj9ue"
      },
      "execution_count": 163,
      "outputs": [
        {
          "output_type": "stream",
          "name": "stdout",
          "text": [
            "The number of files in the folder is: 10\n",
            "The number of files in the folder is: 10\n"
          ]
        }
      ]
    },
    {
      "cell_type": "code",
      "source": [
        "df = pd.read_csv('/content/CCAP/content/kakahaia2019/kakahaia2019.csv')"
      ],
      "metadata": {
        "id": "_uz-t7w-j9ue"
      },
      "execution_count": 164,
      "outputs": []
    },
    {
      "cell_type": "code",
      "source": [
        "subset_df = df[(df['label'] > 12) & (df['label'] < 19)]"
      ],
      "metadata": {
        "id": "VDrrQieej9uf"
      },
      "execution_count": 165,
      "outputs": []
    },
    {
      "cell_type": "code",
      "source": [
        "subset_df = subset_df.copy()  # Create a copy of the subset DataFrame to avoid modifying the original\n",
        "subset_df['tif_name'] = subset_df['x_org'].astype(str) + \"_\" + subset_df['y_org'].astype(str) + \".tif\""
      ],
      "metadata": {
        "id": "2z4c_4B_j9uf"
      },
      "execution_count": 166,
      "outputs": []
    },
    {
      "cell_type": "code",
      "source": [
        "# Copy the useable images files to new folder\n",
        "source_images = '/content/CCAP/content/kakahaia2019/Images'\n",
        "destination_images = '/content/kakahaia2019/Images'\n",
        "for tif_name in subset_df['tif_name']:\n",
        "    source_path = os.path.join(source_images, tif_name)\n",
        "    destination_path = os.path.join(destination_images, tif_name)\n",
        "    try:\n",
        "        shutil.copy(source_path, destination_path)\n",
        "        print(f\"Copied {tif_name} to {destination_images}\")\n",
        "    except FileNotFoundError:\n",
        "        print(f\"File {tif_name} not found in {source_images}\")"
      ],
      "metadata": {
        "colab": {
          "base_uri": "https://localhost:8080/"
        },
        "id": "M86TKQFGj9uf",
        "outputId": "80d8a692-2c5e-420e-865c-3d051391ff85"
      },
      "execution_count": 167,
      "outputs": [
        {
          "output_type": "stream",
          "name": "stdout",
          "text": [
            "Copied 1_1.tif to /content/kakahaia2019/Images\n",
            "Copied 1_1.tif to /content/kakahaia2019/Images\n",
            "Copied 1_1.tif to /content/kakahaia2019/Images\n",
            "Copied 1_1.tif to /content/kakahaia2019/Images\n",
            "Copied 1_1.tif to /content/kakahaia2019/Images\n",
            "Copied 513_1.tif to /content/kakahaia2019/Images\n",
            "Copied 513_1.tif to /content/kakahaia2019/Images\n",
            "Copied 513_1.tif to /content/kakahaia2019/Images\n",
            "Copied 513_1.tif to /content/kakahaia2019/Images\n",
            "Copied 1025_1.tif to /content/kakahaia2019/Images\n",
            "Copied 1025_1.tif to /content/kakahaia2019/Images\n",
            "Copied 1537_1.tif to /content/kakahaia2019/Images\n",
            "Copied 1537_1.tif to /content/kakahaia2019/Images\n",
            "Copied 1_250.tif to /content/kakahaia2019/Images\n",
            "Copied 1_250.tif to /content/kakahaia2019/Images\n",
            "Copied 1_250.tif to /content/kakahaia2019/Images\n",
            "Copied 1_250.tif to /content/kakahaia2019/Images\n",
            "Copied 1_250.tif to /content/kakahaia2019/Images\n",
            "Copied 513_250.tif to /content/kakahaia2019/Images\n",
            "Copied 513_250.tif to /content/kakahaia2019/Images\n",
            "Copied 513_250.tif to /content/kakahaia2019/Images\n",
            "Copied 513_250.tif to /content/kakahaia2019/Images\n",
            "Copied 1025_250.tif to /content/kakahaia2019/Images\n",
            "Copied 1025_250.tif to /content/kakahaia2019/Images\n",
            "Copied 1537_250.tif to /content/kakahaia2019/Images\n",
            "Copied 1537_250.tif to /content/kakahaia2019/Images\n",
            "Copied 1537_250.tif to /content/kakahaia2019/Images\n",
            "Copied 1537_250.tif to /content/kakahaia2019/Images\n",
            "Copied 1537_250.tif to /content/kakahaia2019/Images\n",
            "Copied 2019_250.tif to /content/kakahaia2019/Images\n",
            "Copied 2019_250.tif to /content/kakahaia2019/Images\n",
            "Copied 2019_250.tif to /content/kakahaia2019/Images\n",
            "Copied 2019_250.tif to /content/kakahaia2019/Images\n"
          ]
        }
      ]
    },
    {
      "cell_type": "code",
      "source": [
        "# Copy the useable labels files to new folder\n",
        "source_labels = '/content/CCAP/content/kakahaia2019/Labels'\n",
        "destination_labels = '/content/kakahaia2019/Labels'\n",
        "for tif_name in subset_df['tif_name']:\n",
        "    source_path = os.path.join(source_labels, tif_name)\n",
        "    destination_path = os.path.join(destination_labels, tif_name)\n",
        "    try:\n",
        "        shutil.copy(source_path, destination_path)\n",
        "        print(f\"Copied {tif_name} to {destination_labels}\")\n",
        "    except FileNotFoundError:\n",
        "        print(f\"File {tif_name} not found in {source_labels}\")"
      ],
      "metadata": {
        "colab": {
          "base_uri": "https://localhost:8080/"
        },
        "id": "7-K_k4O6j9uf",
        "outputId": "4952fd62-6243-4ce9-a80c-ce517cd8d863"
      },
      "execution_count": 168,
      "outputs": [
        {
          "output_type": "stream",
          "name": "stdout",
          "text": [
            "Copied 1_1.tif to /content/kakahaia2019/Labels\n",
            "Copied 1_1.tif to /content/kakahaia2019/Labels\n",
            "Copied 1_1.tif to /content/kakahaia2019/Labels\n",
            "Copied 1_1.tif to /content/kakahaia2019/Labels\n",
            "Copied 1_1.tif to /content/kakahaia2019/Labels\n",
            "Copied 513_1.tif to /content/kakahaia2019/Labels\n",
            "Copied 513_1.tif to /content/kakahaia2019/Labels\n",
            "Copied 513_1.tif to /content/kakahaia2019/Labels\n",
            "Copied 513_1.tif to /content/kakahaia2019/Labels\n",
            "Copied 1025_1.tif to /content/kakahaia2019/Labels\n",
            "Copied 1025_1.tif to /content/kakahaia2019/Labels\n",
            "Copied 1537_1.tif to /content/kakahaia2019/Labels\n",
            "Copied 1537_1.tif to /content/kakahaia2019/Labels\n",
            "Copied 1_250.tif to /content/kakahaia2019/Labels\n",
            "Copied 1_250.tif to /content/kakahaia2019/Labels\n",
            "Copied 1_250.tif to /content/kakahaia2019/Labels\n",
            "Copied 1_250.tif to /content/kakahaia2019/Labels\n",
            "Copied 1_250.tif to /content/kakahaia2019/Labels\n",
            "Copied 513_250.tif to /content/kakahaia2019/Labels\n",
            "Copied 513_250.tif to /content/kakahaia2019/Labels\n",
            "Copied 513_250.tif to /content/kakahaia2019/Labels\n",
            "Copied 513_250.tif to /content/kakahaia2019/Labels\n",
            "Copied 1025_250.tif to /content/kakahaia2019/Labels\n",
            "Copied 1025_250.tif to /content/kakahaia2019/Labels\n",
            "Copied 1537_250.tif to /content/kakahaia2019/Labels\n",
            "Copied 1537_250.tif to /content/kakahaia2019/Labels\n",
            "Copied 1537_250.tif to /content/kakahaia2019/Labels\n",
            "Copied 1537_250.tif to /content/kakahaia2019/Labels\n",
            "Copied 1537_250.tif to /content/kakahaia2019/Labels\n",
            "Copied 2019_250.tif to /content/kakahaia2019/Labels\n",
            "Copied 2019_250.tif to /content/kakahaia2019/Labels\n",
            "Copied 2019_250.tif to /content/kakahaia2019/Labels\n",
            "Copied 2019_250.tif to /content/kakahaia2019/Labels\n"
          ]
        }
      ]
    },
    {
      "cell_type": "code",
      "source": [
        "# NEW images and labels folder: how many files are there?\n",
        "new_img = '/content/kakahaia2019/Images'\n",
        "new_img_files = os.listdir(new_img)\n",
        "new_img_count = len(new_img_files)\n",
        "print(f'The number of files in the folder is: {new_img_count}')\n",
        "new_label = '/content/kakahaia2019/Labels'\n",
        "new_label_files = os.listdir(new_label)\n",
        "new_label_count = len(new_label_files)\n",
        "print(f'The number of files in the folder is: {new_label_count}')"
      ],
      "metadata": {
        "colab": {
          "base_uri": "https://localhost:8080/"
        },
        "outputId": "b7813726-e8f3-449a-a564-91cb6b01a9ca",
        "id": "B8bWYC-Fj9uf"
      },
      "execution_count": 169,
      "outputs": [
        {
          "output_type": "stream",
          "name": "stdout",
          "text": [
            "The number of files in the folder is: 9\n",
            "The number of files in the folder is: 9\n"
          ]
        }
      ]
    },
    {
      "cell_type": "code",
      "source": [
        "# Define the file path where you want to save the CSV file\n",
        "csv_file_path = '/content/kakahaia2019_subset.csv'\n",
        "subset_df.to_csv(csv_file_path, index=False)\n",
        "print(f\"DataFrame exported to {csv_file_path}\")"
      ],
      "metadata": {
        "colab": {
          "base_uri": "https://localhost:8080/"
        },
        "outputId": "0f914060-0dc8-4e45-c9c3-defba78a2fca",
        "id": "H0Ac1QgWj9ug"
      },
      "execution_count": 170,
      "outputs": [
        {
          "output_type": "stream",
          "name": "stdout",
          "text": [
            "DataFrame exported to /content/kakahaia2019_subset.csv\n"
          ]
        }
      ]
    },
    {
      "cell_type": "code",
      "source": [
        "# Define the path to the 'wetland_categories' folder\n",
        "folder_to_zip = '/content/kakahaia2019'\n",
        "zip_file_path = '/content/kakahaia2019.zip'\n",
        "shutil.make_archive(zip_file_path[:-4], 'zip', folder_to_zip)\n",
        "print(f'ZIP file created: {zip_file_path}')"
      ],
      "metadata": {
        "colab": {
          "base_uri": "https://localhost:8080/"
        },
        "outputId": "a345920a-15f7-466b-d0ac-29c967b0d236",
        "id": "Eu9c4nB9j9ug"
      },
      "execution_count": 171,
      "outputs": [
        {
          "output_type": "stream",
          "name": "stdout",
          "text": [
            "ZIP file created: /content/kakahaia2019.zip\n"
          ]
        }
      ]
    },
    {
      "cell_type": "code",
      "source": [
        "# Define the destination folder in Google Drive\n",
        "drive_folder = '/content/drive/MyDrive/data/wetland_project/trainingdata/landsat'\n",
        "shutil.move(zip_file_path, drive_folder)\n",
        "print(f'ZIP file moved to Google Drive: {drive_folder}')\n",
        "shutil.move(csv_file_path, drive_folder)\n",
        "print(f'CSV file moved to Google Drive: {drive_folder}')"
      ],
      "metadata": {
        "colab": {
          "base_uri": "https://localhost:8080/"
        },
        "outputId": "a8b1881c-4f05-4955-aa27-26d06365a1e6",
        "id": "iEippuXfj9ug"
      },
      "execution_count": 172,
      "outputs": [
        {
          "output_type": "stream",
          "name": "stdout",
          "text": [
            "ZIP file moved to Google Drive: /content/drive/MyDrive/data/wetland_project/trainingdata/landsat\n",
            "CSV file moved to Google Drive: /content/drive/MyDrive/data/wetland_project/trainingdata/landsat\n"
          ]
        }
      ]
    },
    {
      "cell_type": "markdown",
      "source": [
        "# 2020 tiles"
      ],
      "metadata": {
        "id": "j8WzTUAHkJIj"
      }
    },
    {
      "cell_type": "code",
      "source": [
        "# original images and labels folder: how many files are there?\n",
        "org_img = '/content/CCAP/content/kakahaia2020/Images'\n",
        "org_img_files = os.listdir(org_img)\n",
        "org_img_count = len(org_img_files)\n",
        "print(f'The number of files in the folder is: {org_img_count}')\n",
        "org_label = '/content/CCAP/content/kakahaia2020/Labels'\n",
        "org_label_files = os.listdir(org_label)\n",
        "org_label_count = len(org_label_files)\n",
        "print(f'The number of files in the folder is: {org_label_count}')"
      ],
      "metadata": {
        "colab": {
          "base_uri": "https://localhost:8080/"
        },
        "outputId": "d0838775-1273-4246-fafd-c68ffde85344",
        "id": "BhE6WZyxkJIk"
      },
      "execution_count": 173,
      "outputs": [
        {
          "output_type": "stream",
          "name": "stdout",
          "text": [
            "The number of files in the folder is: 10\n",
            "The number of files in the folder is: 10\n"
          ]
        }
      ]
    },
    {
      "cell_type": "code",
      "source": [
        "df = pd.read_csv('/content/CCAP/content/kakahaia2020/kakahaia2020.csv')"
      ],
      "metadata": {
        "id": "kpoUK6PXkJIk"
      },
      "execution_count": 174,
      "outputs": []
    },
    {
      "cell_type": "code",
      "source": [
        "subset_df = df[(df['label'] > 12) & (df['label'] < 19)]"
      ],
      "metadata": {
        "id": "cfYKahSNkJIk"
      },
      "execution_count": 175,
      "outputs": []
    },
    {
      "cell_type": "code",
      "source": [
        "subset_df = subset_df.copy()  # Create a copy of the subset DataFrame to avoid modifying the original\n",
        "subset_df['tif_name'] = subset_df['x_org'].astype(str) + \"_\" + subset_df['y_org'].astype(str) + \".tif\""
      ],
      "metadata": {
        "id": "mGtwZkojkJIk"
      },
      "execution_count": 176,
      "outputs": []
    },
    {
      "cell_type": "code",
      "source": [
        "# Copy the useable images files to new folder\n",
        "source_images = '/content/CCAP/content/kakahaia2020/Images'\n",
        "destination_images = '/content/kakahaia2020/Images'\n",
        "for tif_name in subset_df['tif_name']:\n",
        "    source_path = os.path.join(source_images, tif_name)\n",
        "    destination_path = os.path.join(destination_images, tif_name)\n",
        "    try:\n",
        "        shutil.copy(source_path, destination_path)\n",
        "        print(f\"Copied {tif_name} to {destination_images}\")\n",
        "    except FileNotFoundError:\n",
        "        print(f\"File {tif_name} not found in {source_images}\")"
      ],
      "metadata": {
        "id": "ZOrNddlKkJIl",
        "outputId": "a478c336-004f-4a5d-fdb8-0ddf5ea7b99a",
        "colab": {
          "base_uri": "https://localhost:8080/"
        }
      },
      "execution_count": 177,
      "outputs": [
        {
          "output_type": "stream",
          "name": "stdout",
          "text": [
            "Copied 1_1.tif to /content/kakahaia2020/Images\n",
            "Copied 1_1.tif to /content/kakahaia2020/Images\n",
            "Copied 1_1.tif to /content/kakahaia2020/Images\n",
            "Copied 1_1.tif to /content/kakahaia2020/Images\n",
            "Copied 1_1.tif to /content/kakahaia2020/Images\n",
            "Copied 513_1.tif to /content/kakahaia2020/Images\n",
            "Copied 513_1.tif to /content/kakahaia2020/Images\n",
            "Copied 513_1.tif to /content/kakahaia2020/Images\n",
            "Copied 513_1.tif to /content/kakahaia2020/Images\n",
            "Copied 1025_1.tif to /content/kakahaia2020/Images\n",
            "Copied 1025_1.tif to /content/kakahaia2020/Images\n",
            "Copied 1537_1.tif to /content/kakahaia2020/Images\n",
            "Copied 1537_1.tif to /content/kakahaia2020/Images\n",
            "Copied 1_250.tif to /content/kakahaia2020/Images\n",
            "Copied 1_250.tif to /content/kakahaia2020/Images\n",
            "Copied 1_250.tif to /content/kakahaia2020/Images\n",
            "Copied 1_250.tif to /content/kakahaia2020/Images\n",
            "Copied 1_250.tif to /content/kakahaia2020/Images\n",
            "Copied 513_250.tif to /content/kakahaia2020/Images\n",
            "Copied 513_250.tif to /content/kakahaia2020/Images\n",
            "Copied 513_250.tif to /content/kakahaia2020/Images\n",
            "Copied 513_250.tif to /content/kakahaia2020/Images\n",
            "Copied 1025_250.tif to /content/kakahaia2020/Images\n",
            "Copied 1025_250.tif to /content/kakahaia2020/Images\n",
            "Copied 1537_250.tif to /content/kakahaia2020/Images\n",
            "Copied 1537_250.tif to /content/kakahaia2020/Images\n",
            "Copied 1537_250.tif to /content/kakahaia2020/Images\n",
            "Copied 1537_250.tif to /content/kakahaia2020/Images\n",
            "Copied 1537_250.tif to /content/kakahaia2020/Images\n",
            "Copied 2019_250.tif to /content/kakahaia2020/Images\n",
            "Copied 2019_250.tif to /content/kakahaia2020/Images\n",
            "Copied 2019_250.tif to /content/kakahaia2020/Images\n",
            "Copied 2019_250.tif to /content/kakahaia2020/Images\n"
          ]
        }
      ]
    },
    {
      "cell_type": "code",
      "source": [
        "# Copy the useable labels files to new folder\n",
        "source_labels = '/content/CCAP/content/kakahaia2020/Labels'\n",
        "destination_labels = '/content/kakahaia2020/Labels'\n",
        "for tif_name in subset_df['tif_name']:\n",
        "    source_path = os.path.join(source_labels, tif_name)\n",
        "    destination_path = os.path.join(destination_labels, tif_name)\n",
        "    try:\n",
        "        shutil.copy(source_path, destination_path)\n",
        "        print(f\"Copied {tif_name} to {destination_labels}\")\n",
        "    except FileNotFoundError:\n",
        "        print(f\"File {tif_name} not found in {source_labels}\")"
      ],
      "metadata": {
        "id": "-z8MSXPgkJIl",
        "outputId": "a6abe6fc-0446-4be7-b1e2-db06afd97d68",
        "colab": {
          "base_uri": "https://localhost:8080/"
        }
      },
      "execution_count": 178,
      "outputs": [
        {
          "output_type": "stream",
          "name": "stdout",
          "text": [
            "Copied 1_1.tif to /content/kakahaia2020/Labels\n",
            "Copied 1_1.tif to /content/kakahaia2020/Labels\n",
            "Copied 1_1.tif to /content/kakahaia2020/Labels\n",
            "Copied 1_1.tif to /content/kakahaia2020/Labels\n",
            "Copied 1_1.tif to /content/kakahaia2020/Labels\n",
            "Copied 513_1.tif to /content/kakahaia2020/Labels\n",
            "Copied 513_1.tif to /content/kakahaia2020/Labels\n",
            "Copied 513_1.tif to /content/kakahaia2020/Labels\n",
            "Copied 513_1.tif to /content/kakahaia2020/Labels\n",
            "Copied 1025_1.tif to /content/kakahaia2020/Labels\n",
            "Copied 1025_1.tif to /content/kakahaia2020/Labels\n",
            "Copied 1537_1.tif to /content/kakahaia2020/Labels\n",
            "Copied 1537_1.tif to /content/kakahaia2020/Labels\n",
            "Copied 1_250.tif to /content/kakahaia2020/Labels\n",
            "Copied 1_250.tif to /content/kakahaia2020/Labels\n",
            "Copied 1_250.tif to /content/kakahaia2020/Labels\n",
            "Copied 1_250.tif to /content/kakahaia2020/Labels\n",
            "Copied 1_250.tif to /content/kakahaia2020/Labels\n",
            "Copied 513_250.tif to /content/kakahaia2020/Labels\n",
            "Copied 513_250.tif to /content/kakahaia2020/Labels\n",
            "Copied 513_250.tif to /content/kakahaia2020/Labels\n",
            "Copied 513_250.tif to /content/kakahaia2020/Labels\n",
            "Copied 1025_250.tif to /content/kakahaia2020/Labels\n",
            "Copied 1025_250.tif to /content/kakahaia2020/Labels\n",
            "Copied 1537_250.tif to /content/kakahaia2020/Labels\n",
            "Copied 1537_250.tif to /content/kakahaia2020/Labels\n",
            "Copied 1537_250.tif to /content/kakahaia2020/Labels\n",
            "Copied 1537_250.tif to /content/kakahaia2020/Labels\n",
            "Copied 1537_250.tif to /content/kakahaia2020/Labels\n",
            "Copied 2019_250.tif to /content/kakahaia2020/Labels\n",
            "Copied 2019_250.tif to /content/kakahaia2020/Labels\n",
            "Copied 2019_250.tif to /content/kakahaia2020/Labels\n",
            "Copied 2019_250.tif to /content/kakahaia2020/Labels\n"
          ]
        }
      ]
    },
    {
      "cell_type": "code",
      "source": [
        "# NEW images and labels folder: how many files are there?\n",
        "new_img = '/content/kakahaia2020/Images'\n",
        "new_img_files = os.listdir(new_img)\n",
        "new_img_count = len(new_img_files)\n",
        "print(f'The number of files in the folder is: {new_img_count}')\n",
        "new_label = '/content/kakahaia2020/Labels'\n",
        "new_label_files = os.listdir(new_label)\n",
        "new_label_count = len(new_label_files)\n",
        "print(f'The number of files in the folder is: {new_label_count}')"
      ],
      "metadata": {
        "colab": {
          "base_uri": "https://localhost:8080/"
        },
        "outputId": "26e0e340-98b8-42e3-972e-c58520d4101b",
        "id": "fBuQeX0skJIl"
      },
      "execution_count": 179,
      "outputs": [
        {
          "output_type": "stream",
          "name": "stdout",
          "text": [
            "The number of files in the folder is: 9\n",
            "The number of files in the folder is: 9\n"
          ]
        }
      ]
    },
    {
      "cell_type": "code",
      "source": [
        "# Define the file path where you want to save the CSV file\n",
        "csv_file_path = '/content/kakahaia2020_subset.csv'\n",
        "subset_df.to_csv(csv_file_path, index=False)\n",
        "print(f\"DataFrame exported to {csv_file_path}\")"
      ],
      "metadata": {
        "colab": {
          "base_uri": "https://localhost:8080/"
        },
        "outputId": "d29fd2ff-9e76-43f8-b161-1fa406be5607",
        "id": "xBCyzb9hkJIl"
      },
      "execution_count": 180,
      "outputs": [
        {
          "output_type": "stream",
          "name": "stdout",
          "text": [
            "DataFrame exported to /content/kakahaia2020_subset.csv\n"
          ]
        }
      ]
    },
    {
      "cell_type": "code",
      "source": [
        "# Define the path to the 'wetland_categories' folder\n",
        "folder_to_zip = '/content/kakahaia2020'\n",
        "zip_file_path = '/content/kakahaia2020_subset.zip'\n",
        "shutil.make_archive(zip_file_path[:-4], 'zip', folder_to_zip)\n",
        "print(f'ZIP file created: {zip_file_path}')"
      ],
      "metadata": {
        "colab": {
          "base_uri": "https://localhost:8080/"
        },
        "outputId": "81fe82a5-2dbb-4bb2-e6e6-4f2cb5ac3c4d",
        "id": "Lh_H8tpFkJIl"
      },
      "execution_count": 181,
      "outputs": [
        {
          "output_type": "stream",
          "name": "stdout",
          "text": [
            "ZIP file created: /content/kakahaia2020_subset.zip\n"
          ]
        }
      ]
    },
    {
      "cell_type": "code",
      "source": [
        "# Define the destination folder in Google Drive\n",
        "drive_folder = '/content/drive/MyDrive/data/wetland_project/trainingdata/landsat'\n",
        "shutil.move(zip_file_path, drive_folder)\n",
        "print(f'ZIP file moved to Google Drive: {drive_folder}')\n",
        "shutil.move(csv_file_path, drive_folder)\n",
        "print(f'CSV file moved to Google Drive: {drive_folder}')"
      ],
      "metadata": {
        "colab": {
          "base_uri": "https://localhost:8080/"
        },
        "outputId": "78a0ef9f-1c37-4517-d9cd-86f2ac5e112f",
        "id": "N4N_MrhmkJIl"
      },
      "execution_count": 182,
      "outputs": [
        {
          "output_type": "stream",
          "name": "stdout",
          "text": [
            "ZIP file moved to Google Drive: /content/drive/MyDrive/data/wetland_project/trainingdata/landsat\n",
            "CSV file moved to Google Drive: /content/drive/MyDrive/data/wetland_project/trainingdata/landsat\n"
          ]
        }
      ]
    },
    {
      "cell_type": "markdown",
      "source": [
        "## Next 2018 tiles"
      ],
      "metadata": {
        "id": "lheYHcOYngLD"
      }
    },
    {
      "cell_type": "code",
      "source": [
        "!mkdir '/content/kaluaapuhi2018'\n",
        "!mkdir '/content/kaluaapuhi2018/Images'\n",
        "!mkdir '/content/kaluaapuhi2018/Labels'\n",
        "\n",
        "!mkdir '/content/kaluaapuhi2019'\n",
        "!mkdir '/content/kaluaapuhi2019/Images'\n",
        "!mkdir '/content/kaluaapuhi2019/Labels'\n",
        "\n",
        "!mkdir '/content/kaluaapuhi2020'\n",
        "!mkdir '/content/kaluaapuhi2020/Images'\n",
        "!mkdir '/content/kaluaapuhi2020/Labels'"
      ],
      "metadata": {
        "id": "fi0c9R9UneGy"
      },
      "execution_count": 183,
      "outputs": []
    },
    {
      "cell_type": "code",
      "source": [
        "# Unzip the file and place the files to the newly cerated directory (CCAP/image_chips/ISLAND)\n",
        "!unzip /content/drive/MyDrive/data/wetland_project/processed_data/landsat/kaluaapuhi2018.zip -d /content/CCAP/"
      ],
      "metadata": {
        "id": "dS1rYmbwneGy",
        "outputId": "e1f593c5-3813-4c12-9cb1-95ddf6e01c85",
        "colab": {
          "base_uri": "https://localhost:8080/"
        }
      },
      "execution_count": 184,
      "outputs": [
        {
          "output_type": "stream",
          "name": "stdout",
          "text": [
            "Archive:  /content/drive/MyDrive/data/wetland_project/processed_data/landsat/kaluaapuhi2018.zip\n",
            "   creating: /content/CCAP/content/kaluaapuhi2018/Images/\n",
            "  inflating: /content/CCAP/content/kaluaapuhi2018/Images/1_1.tif  \n",
            "  inflating: /content/CCAP/content/kaluaapuhi2018/Images/1_1025.tif  \n",
            "  inflating: /content/CCAP/content/kaluaapuhi2018/Images/1_1057.tif  \n",
            "  inflating: /content/CCAP/content/kaluaapuhi2018/Images/1_513.tif  \n",
            "  inflating: /content/CCAP/content/kaluaapuhi2018/Images/1025_1.tif  \n",
            "  inflating: /content/CCAP/content/kaluaapuhi2018/Images/1025_1025.tif  \n",
            "  inflating: /content/CCAP/content/kaluaapuhi2018/Images/1025_1057.tif  \n",
            "  inflating: /content/CCAP/content/kaluaapuhi2018/Images/1025_513.tif  \n",
            "  inflating: /content/CCAP/content/kaluaapuhi2018/Images/1537_1.tif  \n",
            "  inflating: /content/CCAP/content/kaluaapuhi2018/Images/1537_1025.tif  \n",
            "  inflating: /content/CCAP/content/kaluaapuhi2018/Images/1537_1057.tif  \n",
            "  inflating: /content/CCAP/content/kaluaapuhi2018/Images/1537_513.tif  \n",
            "  inflating: /content/CCAP/content/kaluaapuhi2018/Images/2049_1.tif  \n",
            "  inflating: /content/CCAP/content/kaluaapuhi2018/Images/2049_1025.tif  \n",
            "  inflating: /content/CCAP/content/kaluaapuhi2018/Images/2049_1057.tif  \n",
            "  inflating: /content/CCAP/content/kaluaapuhi2018/Images/2049_513.tif  \n",
            "  inflating: /content/CCAP/content/kaluaapuhi2018/Images/2561_1.tif  \n",
            "  inflating: /content/CCAP/content/kaluaapuhi2018/Images/2561_1025.tif  \n",
            "  inflating: /content/CCAP/content/kaluaapuhi2018/Images/2561_1057.tif  \n",
            "  inflating: /content/CCAP/content/kaluaapuhi2018/Images/2561_513.tif  \n",
            "  inflating: /content/CCAP/content/kaluaapuhi2018/Images/3073_1.tif  \n",
            "  inflating: /content/CCAP/content/kaluaapuhi2018/Images/3073_1025.tif  \n",
            "  inflating: /content/CCAP/content/kaluaapuhi2018/Images/3073_1057.tif  \n",
            "  inflating: /content/CCAP/content/kaluaapuhi2018/Images/3073_513.tif  \n",
            "  inflating: /content/CCAP/content/kaluaapuhi2018/Images/3568_1.tif  \n",
            "  inflating: /content/CCAP/content/kaluaapuhi2018/Images/3568_1025.tif  \n",
            "  inflating: /content/CCAP/content/kaluaapuhi2018/Images/3568_1057.tif  \n",
            "  inflating: /content/CCAP/content/kaluaapuhi2018/Images/3568_513.tif  \n",
            "  inflating: /content/CCAP/content/kaluaapuhi2018/Images/513_1.tif  \n",
            "  inflating: /content/CCAP/content/kaluaapuhi2018/Images/513_1025.tif  \n",
            "  inflating: /content/CCAP/content/kaluaapuhi2018/Images/513_1057.tif  \n",
            "  inflating: /content/CCAP/content/kaluaapuhi2018/Images/513_513.tif  \n",
            "   creating: /content/CCAP/content/kaluaapuhi2018/Labels/\n",
            "  inflating: /content/CCAP/content/kaluaapuhi2018/Labels/1_1.tif  \n",
            "  inflating: /content/CCAP/content/kaluaapuhi2018/Labels/1_1025.tif  \n",
            "  inflating: /content/CCAP/content/kaluaapuhi2018/Labels/1_1057.tif  \n",
            "  inflating: /content/CCAP/content/kaluaapuhi2018/Labels/1_513.tif  \n",
            "  inflating: /content/CCAP/content/kaluaapuhi2018/Labels/1025_1.tif  \n",
            "  inflating: /content/CCAP/content/kaluaapuhi2018/Labels/1025_1025.tif  \n",
            "  inflating: /content/CCAP/content/kaluaapuhi2018/Labels/1025_1057.tif  \n",
            "  inflating: /content/CCAP/content/kaluaapuhi2018/Labels/1025_513.tif  \n",
            "  inflating: /content/CCAP/content/kaluaapuhi2018/Labels/1537_1.tif  \n",
            "  inflating: /content/CCAP/content/kaluaapuhi2018/Labels/1537_1025.tif  \n",
            "  inflating: /content/CCAP/content/kaluaapuhi2018/Labels/1537_1057.tif  \n",
            "  inflating: /content/CCAP/content/kaluaapuhi2018/Labels/1537_513.tif  \n",
            "  inflating: /content/CCAP/content/kaluaapuhi2018/Labels/2049_1.tif  \n",
            "  inflating: /content/CCAP/content/kaluaapuhi2018/Labels/2049_1025.tif  \n",
            "  inflating: /content/CCAP/content/kaluaapuhi2018/Labels/2049_1057.tif  \n",
            "  inflating: /content/CCAP/content/kaluaapuhi2018/Labels/2049_513.tif  \n",
            "  inflating: /content/CCAP/content/kaluaapuhi2018/Labels/2561_1.tif  \n",
            "  inflating: /content/CCAP/content/kaluaapuhi2018/Labels/2561_1025.tif  \n",
            "  inflating: /content/CCAP/content/kaluaapuhi2018/Labels/2561_1057.tif  \n",
            "  inflating: /content/CCAP/content/kaluaapuhi2018/Labels/2561_513.tif  \n",
            "  inflating: /content/CCAP/content/kaluaapuhi2018/Labels/3073_1.tif  \n",
            "  inflating: /content/CCAP/content/kaluaapuhi2018/Labels/3073_1025.tif  \n",
            "  inflating: /content/CCAP/content/kaluaapuhi2018/Labels/3073_1057.tif  \n",
            "  inflating: /content/CCAP/content/kaluaapuhi2018/Labels/3073_513.tif  \n",
            "  inflating: /content/CCAP/content/kaluaapuhi2018/Labels/3568_1.tif  \n",
            "  inflating: /content/CCAP/content/kaluaapuhi2018/Labels/3568_1025.tif  \n",
            "  inflating: /content/CCAP/content/kaluaapuhi2018/Labels/3568_1057.tif  \n",
            "  inflating: /content/CCAP/content/kaluaapuhi2018/Labels/3568_513.tif  \n",
            "  inflating: /content/CCAP/content/kaluaapuhi2018/Labels/513_1.tif  \n",
            "  inflating: /content/CCAP/content/kaluaapuhi2018/Labels/513_1025.tif  \n",
            "  inflating: /content/CCAP/content/kaluaapuhi2018/Labels/513_1057.tif  \n",
            "  inflating: /content/CCAP/content/kaluaapuhi2018/Labels/513_513.tif  \n",
            "  inflating: /content/CCAP/content/kaluaapuhi2018/kaluaapuhi2018.csv  \n"
          ]
        }
      ]
    },
    {
      "cell_type": "code",
      "source": [
        "!unzip /content/drive/MyDrive/data/wetland_project/processed_data/landsat/kaluaapuhi2019.zip -d /content/CCAP/"
      ],
      "metadata": {
        "id": "ggX4gogd39fH",
        "outputId": "8f041a0a-5b5a-4fb0-ee0f-bcbb91fb78b3",
        "colab": {
          "base_uri": "https://localhost:8080/"
        }
      },
      "execution_count": 185,
      "outputs": [
        {
          "output_type": "stream",
          "name": "stdout",
          "text": [
            "Archive:  /content/drive/MyDrive/data/wetland_project/processed_data/landsat/kaluaapuhi2019.zip\n",
            "   creating: /content/CCAP/content/kaluaapuhi2019/Images/\n",
            "  inflating: /content/CCAP/content/kaluaapuhi2019/Images/1_1.tif  \n",
            "  inflating: /content/CCAP/content/kaluaapuhi2019/Images/1_1025.tif  \n",
            "  inflating: /content/CCAP/content/kaluaapuhi2019/Images/1_1057.tif  \n",
            "  inflating: /content/CCAP/content/kaluaapuhi2019/Images/1_513.tif  \n",
            "  inflating: /content/CCAP/content/kaluaapuhi2019/Images/1025_1.tif  \n",
            "  inflating: /content/CCAP/content/kaluaapuhi2019/Images/1025_1025.tif  \n",
            "  inflating: /content/CCAP/content/kaluaapuhi2019/Images/1025_1057.tif  \n",
            "  inflating: /content/CCAP/content/kaluaapuhi2019/Images/1025_513.tif  \n",
            "  inflating: /content/CCAP/content/kaluaapuhi2019/Images/1537_1.tif  \n",
            "  inflating: /content/CCAP/content/kaluaapuhi2019/Images/1537_1025.tif  \n",
            "  inflating: /content/CCAP/content/kaluaapuhi2019/Images/1537_1057.tif  \n",
            "  inflating: /content/CCAP/content/kaluaapuhi2019/Images/1537_513.tif  \n",
            "  inflating: /content/CCAP/content/kaluaapuhi2019/Images/2049_1.tif  \n",
            "  inflating: /content/CCAP/content/kaluaapuhi2019/Images/2049_1025.tif  \n",
            "  inflating: /content/CCAP/content/kaluaapuhi2019/Images/2049_1057.tif  \n",
            "  inflating: /content/CCAP/content/kaluaapuhi2019/Images/2049_513.tif  \n",
            "  inflating: /content/CCAP/content/kaluaapuhi2019/Images/2561_1.tif  \n",
            "  inflating: /content/CCAP/content/kaluaapuhi2019/Images/2561_1025.tif  \n",
            "  inflating: /content/CCAP/content/kaluaapuhi2019/Images/2561_1057.tif  \n",
            "  inflating: /content/CCAP/content/kaluaapuhi2019/Images/2561_513.tif  \n",
            "  inflating: /content/CCAP/content/kaluaapuhi2019/Images/3073_1.tif  \n",
            "  inflating: /content/CCAP/content/kaluaapuhi2019/Images/3073_1025.tif  \n",
            "  inflating: /content/CCAP/content/kaluaapuhi2019/Images/3073_1057.tif  \n",
            "  inflating: /content/CCAP/content/kaluaapuhi2019/Images/3073_513.tif  \n",
            "  inflating: /content/CCAP/content/kaluaapuhi2019/Images/3568_1.tif  \n",
            "  inflating: /content/CCAP/content/kaluaapuhi2019/Images/3568_1025.tif  \n",
            "  inflating: /content/CCAP/content/kaluaapuhi2019/Images/3568_1057.tif  \n",
            "  inflating: /content/CCAP/content/kaluaapuhi2019/Images/3568_513.tif  \n",
            "  inflating: /content/CCAP/content/kaluaapuhi2019/Images/513_1.tif  \n",
            "  inflating: /content/CCAP/content/kaluaapuhi2019/Images/513_1025.tif  \n",
            "  inflating: /content/CCAP/content/kaluaapuhi2019/Images/513_1057.tif  \n",
            "  inflating: /content/CCAP/content/kaluaapuhi2019/Images/513_513.tif  \n",
            "   creating: /content/CCAP/content/kaluaapuhi2019/Labels/\n",
            "  inflating: /content/CCAP/content/kaluaapuhi2019/Labels/1_1.tif  \n",
            "  inflating: /content/CCAP/content/kaluaapuhi2019/Labels/1_1025.tif  \n",
            "  inflating: /content/CCAP/content/kaluaapuhi2019/Labels/1_1057.tif  \n",
            "  inflating: /content/CCAP/content/kaluaapuhi2019/Labels/1_513.tif  \n",
            "  inflating: /content/CCAP/content/kaluaapuhi2019/Labels/1025_1.tif  \n",
            "  inflating: /content/CCAP/content/kaluaapuhi2019/Labels/1025_1025.tif  \n",
            "  inflating: /content/CCAP/content/kaluaapuhi2019/Labels/1025_1057.tif  \n",
            "  inflating: /content/CCAP/content/kaluaapuhi2019/Labels/1025_513.tif  \n",
            "  inflating: /content/CCAP/content/kaluaapuhi2019/Labels/1537_1.tif  \n",
            "  inflating: /content/CCAP/content/kaluaapuhi2019/Labels/1537_1025.tif  \n",
            "  inflating: /content/CCAP/content/kaluaapuhi2019/Labels/1537_1057.tif  \n",
            "  inflating: /content/CCAP/content/kaluaapuhi2019/Labels/1537_513.tif  \n",
            "  inflating: /content/CCAP/content/kaluaapuhi2019/Labels/2049_1.tif  \n",
            "  inflating: /content/CCAP/content/kaluaapuhi2019/Labels/2049_1025.tif  \n",
            "  inflating: /content/CCAP/content/kaluaapuhi2019/Labels/2049_1057.tif  \n",
            "  inflating: /content/CCAP/content/kaluaapuhi2019/Labels/2049_513.tif  \n",
            "  inflating: /content/CCAP/content/kaluaapuhi2019/Labels/2561_1.tif  \n",
            "  inflating: /content/CCAP/content/kaluaapuhi2019/Labels/2561_1025.tif  \n",
            "  inflating: /content/CCAP/content/kaluaapuhi2019/Labels/2561_1057.tif  \n",
            "  inflating: /content/CCAP/content/kaluaapuhi2019/Labels/2561_513.tif  \n",
            "  inflating: /content/CCAP/content/kaluaapuhi2019/Labels/3073_1.tif  \n",
            "  inflating: /content/CCAP/content/kaluaapuhi2019/Labels/3073_1025.tif  \n",
            "  inflating: /content/CCAP/content/kaluaapuhi2019/Labels/3073_1057.tif  \n",
            "  inflating: /content/CCAP/content/kaluaapuhi2019/Labels/3073_513.tif  \n",
            "  inflating: /content/CCAP/content/kaluaapuhi2019/Labels/3568_1.tif  \n",
            "  inflating: /content/CCAP/content/kaluaapuhi2019/Labels/3568_1025.tif  \n",
            "  inflating: /content/CCAP/content/kaluaapuhi2019/Labels/3568_1057.tif  \n",
            "  inflating: /content/CCAP/content/kaluaapuhi2019/Labels/3568_513.tif  \n",
            "  inflating: /content/CCAP/content/kaluaapuhi2019/Labels/513_1.tif  \n",
            "  inflating: /content/CCAP/content/kaluaapuhi2019/Labels/513_1025.tif  \n",
            "  inflating: /content/CCAP/content/kaluaapuhi2019/Labels/513_1057.tif  \n",
            "  inflating: /content/CCAP/content/kaluaapuhi2019/Labels/513_513.tif  \n",
            "  inflating: /content/CCAP/content/kaluaapuhi2019/kaluaapuhi2019.csv  \n"
          ]
        }
      ]
    },
    {
      "cell_type": "code",
      "source": [
        "!unzip /content/drive/MyDrive/data/wetland_project/processed_data/landsat/kaluaapuhi2020.zip -d /content/CCAP/"
      ],
      "metadata": {
        "id": "K-M2Lmp3391-",
        "outputId": "3d64b18e-1372-4d3b-c2ff-e27fe67000f6",
        "colab": {
          "base_uri": "https://localhost:8080/"
        }
      },
      "execution_count": 186,
      "outputs": [
        {
          "output_type": "stream",
          "name": "stdout",
          "text": [
            "Archive:  /content/drive/MyDrive/data/wetland_project/processed_data/landsat/kaluaapuhi2020.zip\n",
            "   creating: /content/CCAP/content/kaluaapuhi2020/Images/\n",
            "  inflating: /content/CCAP/content/kaluaapuhi2020/Images/1_1.tif  \n",
            "  inflating: /content/CCAP/content/kaluaapuhi2020/Images/1_1025.tif  \n",
            "  inflating: /content/CCAP/content/kaluaapuhi2020/Images/1_1057.tif  \n",
            "  inflating: /content/CCAP/content/kaluaapuhi2020/Images/1_513.tif  \n",
            "  inflating: /content/CCAP/content/kaluaapuhi2020/Images/1025_1.tif  \n",
            "  inflating: /content/CCAP/content/kaluaapuhi2020/Images/1025_1025.tif  \n",
            "  inflating: /content/CCAP/content/kaluaapuhi2020/Images/1025_1057.tif  \n",
            "  inflating: /content/CCAP/content/kaluaapuhi2020/Images/1025_513.tif  \n",
            "  inflating: /content/CCAP/content/kaluaapuhi2020/Images/1537_1.tif  \n",
            "  inflating: /content/CCAP/content/kaluaapuhi2020/Images/1537_1025.tif  \n",
            "  inflating: /content/CCAP/content/kaluaapuhi2020/Images/1537_1057.tif  \n",
            "  inflating: /content/CCAP/content/kaluaapuhi2020/Images/1537_513.tif  \n",
            "  inflating: /content/CCAP/content/kaluaapuhi2020/Images/2049_1.tif  \n",
            "  inflating: /content/CCAP/content/kaluaapuhi2020/Images/2049_1025.tif  \n",
            "  inflating: /content/CCAP/content/kaluaapuhi2020/Images/2049_1057.tif  \n",
            "  inflating: /content/CCAP/content/kaluaapuhi2020/Images/2049_513.tif  \n",
            "  inflating: /content/CCAP/content/kaluaapuhi2020/Images/2561_1.tif  \n",
            "  inflating: /content/CCAP/content/kaluaapuhi2020/Images/2561_1025.tif  \n",
            "  inflating: /content/CCAP/content/kaluaapuhi2020/Images/2561_1057.tif  \n",
            "  inflating: /content/CCAP/content/kaluaapuhi2020/Images/2561_513.tif  \n",
            "  inflating: /content/CCAP/content/kaluaapuhi2020/Images/3073_1.tif  \n",
            "  inflating: /content/CCAP/content/kaluaapuhi2020/Images/3073_1025.tif  \n",
            "  inflating: /content/CCAP/content/kaluaapuhi2020/Images/3073_1057.tif  \n",
            "  inflating: /content/CCAP/content/kaluaapuhi2020/Images/3073_513.tif  \n",
            "  inflating: /content/CCAP/content/kaluaapuhi2020/Images/3568_1.tif  \n",
            "  inflating: /content/CCAP/content/kaluaapuhi2020/Images/3568_1025.tif  \n",
            "  inflating: /content/CCAP/content/kaluaapuhi2020/Images/3568_1057.tif  \n",
            "  inflating: /content/CCAP/content/kaluaapuhi2020/Images/3568_513.tif  \n",
            "  inflating: /content/CCAP/content/kaluaapuhi2020/Images/513_1.tif  \n",
            "  inflating: /content/CCAP/content/kaluaapuhi2020/Images/513_1025.tif  \n",
            "  inflating: /content/CCAP/content/kaluaapuhi2020/Images/513_1057.tif  \n",
            "  inflating: /content/CCAP/content/kaluaapuhi2020/Images/513_513.tif  \n",
            "   creating: /content/CCAP/content/kaluaapuhi2020/Labels/\n",
            "  inflating: /content/CCAP/content/kaluaapuhi2020/Labels/1_1.tif  \n",
            "  inflating: /content/CCAP/content/kaluaapuhi2020/Labels/1_1025.tif  \n",
            "  inflating: /content/CCAP/content/kaluaapuhi2020/Labels/1_1057.tif  \n",
            "  inflating: /content/CCAP/content/kaluaapuhi2020/Labels/1_513.tif  \n",
            "  inflating: /content/CCAP/content/kaluaapuhi2020/Labels/1025_1.tif  \n",
            "  inflating: /content/CCAP/content/kaluaapuhi2020/Labels/1025_1025.tif  \n",
            "  inflating: /content/CCAP/content/kaluaapuhi2020/Labels/1025_1057.tif  \n",
            "  inflating: /content/CCAP/content/kaluaapuhi2020/Labels/1025_513.tif  \n",
            "  inflating: /content/CCAP/content/kaluaapuhi2020/Labels/1537_1.tif  \n",
            "  inflating: /content/CCAP/content/kaluaapuhi2020/Labels/1537_1025.tif  \n",
            "  inflating: /content/CCAP/content/kaluaapuhi2020/Labels/1537_1057.tif  \n",
            "  inflating: /content/CCAP/content/kaluaapuhi2020/Labels/1537_513.tif  \n",
            "  inflating: /content/CCAP/content/kaluaapuhi2020/Labels/2049_1.tif  \n",
            "  inflating: /content/CCAP/content/kaluaapuhi2020/Labels/2049_1025.tif  \n",
            "  inflating: /content/CCAP/content/kaluaapuhi2020/Labels/2049_1057.tif  \n",
            "  inflating: /content/CCAP/content/kaluaapuhi2020/Labels/2049_513.tif  \n",
            "  inflating: /content/CCAP/content/kaluaapuhi2020/Labels/2561_1.tif  \n",
            "  inflating: /content/CCAP/content/kaluaapuhi2020/Labels/2561_1025.tif  \n",
            "  inflating: /content/CCAP/content/kaluaapuhi2020/Labels/2561_1057.tif  \n",
            "  inflating: /content/CCAP/content/kaluaapuhi2020/Labels/2561_513.tif  \n",
            "  inflating: /content/CCAP/content/kaluaapuhi2020/Labels/3073_1.tif  \n",
            "  inflating: /content/CCAP/content/kaluaapuhi2020/Labels/3073_1025.tif  \n",
            "  inflating: /content/CCAP/content/kaluaapuhi2020/Labels/3073_1057.tif  \n",
            "  inflating: /content/CCAP/content/kaluaapuhi2020/Labels/3073_513.tif  \n",
            "  inflating: /content/CCAP/content/kaluaapuhi2020/Labels/3568_1.tif  \n",
            "  inflating: /content/CCAP/content/kaluaapuhi2020/Labels/3568_1025.tif  \n",
            "  inflating: /content/CCAP/content/kaluaapuhi2020/Labels/3568_1057.tif  \n",
            "  inflating: /content/CCAP/content/kaluaapuhi2020/Labels/3568_513.tif  \n",
            "  inflating: /content/CCAP/content/kaluaapuhi2020/Labels/513_1.tif  \n",
            "  inflating: /content/CCAP/content/kaluaapuhi2020/Labels/513_1025.tif  \n",
            "  inflating: /content/CCAP/content/kaluaapuhi2020/Labels/513_1057.tif  \n",
            "  inflating: /content/CCAP/content/kaluaapuhi2020/Labels/513_513.tif  \n",
            "  inflating: /content/CCAP/content/kaluaapuhi2020/kaluaapuhi2020.csv  \n"
          ]
        }
      ]
    },
    {
      "cell_type": "code",
      "source": [
        "# original images and labels folder: how many files are there?\n",
        "org_img = '/content/CCAP/content/kaluaapuhi2018/Images'\n",
        "org_img_files = os.listdir(org_img)\n",
        "org_img_count = len(org_img_files)\n",
        "print(f'The number of files in the folder is: {org_img_count}')\n",
        "org_label = '/content/CCAP/content/kaluaapuhi2018/Labels'\n",
        "org_label_files = os.listdir(org_label)\n",
        "org_label_count = len(org_label_files)\n",
        "print(f'The number of files in the folder is: {org_label_count}')"
      ],
      "metadata": {
        "colab": {
          "base_uri": "https://localhost:8080/"
        },
        "outputId": "3d567d6a-5c10-4570-bb54-7ddadb6edc43",
        "id": "H79KgfkqneGy"
      },
      "execution_count": 187,
      "outputs": [
        {
          "output_type": "stream",
          "name": "stdout",
          "text": [
            "The number of files in the folder is: 32\n",
            "The number of files in the folder is: 32\n"
          ]
        }
      ]
    },
    {
      "cell_type": "code",
      "source": [
        "df = pd.read_csv('/content/CCAP/content/kaluaapuhi2018/kaluaapuhi2018.csv')"
      ],
      "metadata": {
        "id": "41zh4h1RneGz"
      },
      "execution_count": 188,
      "outputs": []
    },
    {
      "cell_type": "code",
      "source": [
        "subset_df = df[(df['label'] > 12) & (df['label'] < 19)]"
      ],
      "metadata": {
        "id": "cr7-VUdnneGz"
      },
      "execution_count": 189,
      "outputs": []
    },
    {
      "cell_type": "code",
      "source": [
        "subset_df = subset_df.copy()  # Create a copy of the subset DataFrame to avoid modifying the original\n",
        "subset_df['tif_name'] = subset_df['x_org'].astype(str) + \"_\" + subset_df['y_org'].astype(str) + \".tif\""
      ],
      "metadata": {
        "id": "9iv1DexPneGz"
      },
      "execution_count": 190,
      "outputs": []
    },
    {
      "cell_type": "code",
      "source": [
        "# Copy the useable images files to new folder\n",
        "source_images = '/content/CCAP/content/kaluaapuhi2018/Images'\n",
        "destination_images = '/content/kaluaapuhi2018/Images'\n",
        "for tif_name in subset_df['tif_name']:\n",
        "    source_path = os.path.join(source_images, tif_name)\n",
        "    destination_path = os.path.join(destination_images, tif_name)\n",
        "    try:\n",
        "        shutil.copy(source_path, destination_path)\n",
        "        print(f\"Copied {tif_name} to {destination_images}\")\n",
        "    except FileNotFoundError:\n",
        "        print(f\"File {tif_name} not found in {source_images}\")"
      ],
      "metadata": {
        "id": "ZqQDY7XaneGz",
        "outputId": "09a4c575-3f8e-4cde-920a-89a8d22a0304",
        "colab": {
          "base_uri": "https://localhost:8080/"
        }
      },
      "execution_count": 191,
      "outputs": [
        {
          "output_type": "stream",
          "name": "stdout",
          "text": [
            "Copied 1025_1.tif to /content/kaluaapuhi2018/Images\n",
            "Copied 1537_1.tif to /content/kaluaapuhi2018/Images\n",
            "Copied 1537_1.tif to /content/kaluaapuhi2018/Images\n",
            "Copied 1537_1.tif to /content/kaluaapuhi2018/Images\n",
            "Copied 1537_1.tif to /content/kaluaapuhi2018/Images\n",
            "Copied 1_513.tif to /content/kaluaapuhi2018/Images\n",
            "Copied 1_513.tif to /content/kaluaapuhi2018/Images\n",
            "Copied 513_513.tif to /content/kaluaapuhi2018/Images\n",
            "Copied 513_513.tif to /content/kaluaapuhi2018/Images\n",
            "Copied 513_513.tif to /content/kaluaapuhi2018/Images\n",
            "Copied 513_513.tif to /content/kaluaapuhi2018/Images\n",
            "Copied 1025_513.tif to /content/kaluaapuhi2018/Images\n",
            "Copied 1025_513.tif to /content/kaluaapuhi2018/Images\n",
            "Copied 1025_513.tif to /content/kaluaapuhi2018/Images\n",
            "Copied 1025_513.tif to /content/kaluaapuhi2018/Images\n",
            "Copied 1537_513.tif to /content/kaluaapuhi2018/Images\n",
            "Copied 1537_513.tif to /content/kaluaapuhi2018/Images\n",
            "Copied 1537_513.tif to /content/kaluaapuhi2018/Images\n",
            "Copied 2049_513.tif to /content/kaluaapuhi2018/Images\n",
            "Copied 2049_513.tif to /content/kaluaapuhi2018/Images\n",
            "Copied 2049_513.tif to /content/kaluaapuhi2018/Images\n",
            "Copied 2049_513.tif to /content/kaluaapuhi2018/Images\n",
            "Copied 2561_513.tif to /content/kaluaapuhi2018/Images\n",
            "Copied 2561_513.tif to /content/kaluaapuhi2018/Images\n",
            "Copied 2561_513.tif to /content/kaluaapuhi2018/Images\n",
            "Copied 3073_513.tif to /content/kaluaapuhi2018/Images\n",
            "Copied 3073_513.tif to /content/kaluaapuhi2018/Images\n",
            "Copied 3073_513.tif to /content/kaluaapuhi2018/Images\n",
            "Copied 3073_513.tif to /content/kaluaapuhi2018/Images\n",
            "Copied 3073_513.tif to /content/kaluaapuhi2018/Images\n",
            "Copied 3073_513.tif to /content/kaluaapuhi2018/Images\n",
            "Copied 3568_513.tif to /content/kaluaapuhi2018/Images\n",
            "Copied 3568_513.tif to /content/kaluaapuhi2018/Images\n",
            "Copied 3568_513.tif to /content/kaluaapuhi2018/Images\n",
            "Copied 3568_513.tif to /content/kaluaapuhi2018/Images\n",
            "Copied 3568_513.tif to /content/kaluaapuhi2018/Images\n",
            "Copied 1_1025.tif to /content/kaluaapuhi2018/Images\n",
            "Copied 1_1025.tif to /content/kaluaapuhi2018/Images\n",
            "Copied 1_1025.tif to /content/kaluaapuhi2018/Images\n",
            "Copied 513_1025.tif to /content/kaluaapuhi2018/Images\n",
            "Copied 513_1025.tif to /content/kaluaapuhi2018/Images\n",
            "Copied 513_1025.tif to /content/kaluaapuhi2018/Images\n",
            "Copied 1025_1025.tif to /content/kaluaapuhi2018/Images\n",
            "Copied 2049_1025.tif to /content/kaluaapuhi2018/Images\n",
            "Copied 2049_1025.tif to /content/kaluaapuhi2018/Images\n",
            "Copied 2561_1025.tif to /content/kaluaapuhi2018/Images\n",
            "Copied 2561_1025.tif to /content/kaluaapuhi2018/Images\n",
            "Copied 3073_1025.tif to /content/kaluaapuhi2018/Images\n",
            "Copied 3073_1025.tif to /content/kaluaapuhi2018/Images\n",
            "Copied 3073_1025.tif to /content/kaluaapuhi2018/Images\n",
            "Copied 3073_1025.tif to /content/kaluaapuhi2018/Images\n",
            "Copied 3073_1025.tif to /content/kaluaapuhi2018/Images\n",
            "Copied 3568_1025.tif to /content/kaluaapuhi2018/Images\n",
            "Copied 3568_1025.tif to /content/kaluaapuhi2018/Images\n",
            "Copied 3568_1025.tif to /content/kaluaapuhi2018/Images\n",
            "Copied 3568_1025.tif to /content/kaluaapuhi2018/Images\n",
            "Copied 3568_1025.tif to /content/kaluaapuhi2018/Images\n",
            "Copied 1_1057.tif to /content/kaluaapuhi2018/Images\n",
            "Copied 1_1057.tif to /content/kaluaapuhi2018/Images\n",
            "Copied 513_1057.tif to /content/kaluaapuhi2018/Images\n",
            "Copied 513_1057.tif to /content/kaluaapuhi2018/Images\n",
            "Copied 1025_1057.tif to /content/kaluaapuhi2018/Images\n",
            "Copied 2561_1057.tif to /content/kaluaapuhi2018/Images\n",
            "Copied 2561_1057.tif to /content/kaluaapuhi2018/Images\n",
            "Copied 3073_1057.tif to /content/kaluaapuhi2018/Images\n",
            "Copied 3073_1057.tif to /content/kaluaapuhi2018/Images\n",
            "Copied 3073_1057.tif to /content/kaluaapuhi2018/Images\n",
            "Copied 3073_1057.tif to /content/kaluaapuhi2018/Images\n",
            "Copied 3568_1057.tif to /content/kaluaapuhi2018/Images\n",
            "Copied 3568_1057.tif to /content/kaluaapuhi2018/Images\n",
            "Copied 3568_1057.tif to /content/kaluaapuhi2018/Images\n",
            "Copied 3568_1057.tif to /content/kaluaapuhi2018/Images\n"
          ]
        }
      ]
    },
    {
      "cell_type": "code",
      "source": [
        "# Copy the useable labels files to new folder\n",
        "source_labels = '/content/CCAP/content/kaluaapuhi2018/Labels'\n",
        "destination_labels = '/content/kaluaapuhi2018/Labels'\n",
        "for tif_name in subset_df['tif_name']:\n",
        "    source_path = os.path.join(source_labels, tif_name)\n",
        "    destination_path = os.path.join(destination_labels, tif_name)\n",
        "    try:\n",
        "        shutil.copy(source_path, destination_path)\n",
        "        print(f\"Copied {tif_name} to {destination_labels}\")\n",
        "    except FileNotFoundError:\n",
        "        print(f\"File {tif_name} not found in {source_labels}\")"
      ],
      "metadata": {
        "id": "bDRFNMcfneGz",
        "outputId": "b2b57958-9dcf-494d-9d4d-ce5c17a31bd5",
        "colab": {
          "base_uri": "https://localhost:8080/"
        }
      },
      "execution_count": 192,
      "outputs": [
        {
          "output_type": "stream",
          "name": "stdout",
          "text": [
            "Copied 1025_1.tif to /content/kaluaapuhi2018/Labels\n",
            "Copied 1537_1.tif to /content/kaluaapuhi2018/Labels\n",
            "Copied 1537_1.tif to /content/kaluaapuhi2018/Labels\n",
            "Copied 1537_1.tif to /content/kaluaapuhi2018/Labels\n",
            "Copied 1537_1.tif to /content/kaluaapuhi2018/Labels\n",
            "Copied 1_513.tif to /content/kaluaapuhi2018/Labels\n",
            "Copied 1_513.tif to /content/kaluaapuhi2018/Labels\n",
            "Copied 513_513.tif to /content/kaluaapuhi2018/Labels\n",
            "Copied 513_513.tif to /content/kaluaapuhi2018/Labels\n",
            "Copied 513_513.tif to /content/kaluaapuhi2018/Labels\n",
            "Copied 513_513.tif to /content/kaluaapuhi2018/Labels\n",
            "Copied 1025_513.tif to /content/kaluaapuhi2018/Labels\n",
            "Copied 1025_513.tif to /content/kaluaapuhi2018/Labels\n",
            "Copied 1025_513.tif to /content/kaluaapuhi2018/Labels\n",
            "Copied 1025_513.tif to /content/kaluaapuhi2018/Labels\n",
            "Copied 1537_513.tif to /content/kaluaapuhi2018/Labels\n",
            "Copied 1537_513.tif to /content/kaluaapuhi2018/Labels\n",
            "Copied 1537_513.tif to /content/kaluaapuhi2018/Labels\n",
            "Copied 2049_513.tif to /content/kaluaapuhi2018/Labels\n",
            "Copied 2049_513.tif to /content/kaluaapuhi2018/Labels\n",
            "Copied 2049_513.tif to /content/kaluaapuhi2018/Labels\n",
            "Copied 2049_513.tif to /content/kaluaapuhi2018/Labels\n",
            "Copied 2561_513.tif to /content/kaluaapuhi2018/Labels\n",
            "Copied 2561_513.tif to /content/kaluaapuhi2018/Labels\n",
            "Copied 2561_513.tif to /content/kaluaapuhi2018/Labels\n",
            "Copied 3073_513.tif to /content/kaluaapuhi2018/Labels\n",
            "Copied 3073_513.tif to /content/kaluaapuhi2018/Labels\n",
            "Copied 3073_513.tif to /content/kaluaapuhi2018/Labels\n",
            "Copied 3073_513.tif to /content/kaluaapuhi2018/Labels\n",
            "Copied 3073_513.tif to /content/kaluaapuhi2018/Labels\n",
            "Copied 3073_513.tif to /content/kaluaapuhi2018/Labels\n",
            "Copied 3568_513.tif to /content/kaluaapuhi2018/Labels\n",
            "Copied 3568_513.tif to /content/kaluaapuhi2018/Labels\n",
            "Copied 3568_513.tif to /content/kaluaapuhi2018/Labels\n",
            "Copied 3568_513.tif to /content/kaluaapuhi2018/Labels\n",
            "Copied 3568_513.tif to /content/kaluaapuhi2018/Labels\n",
            "Copied 1_1025.tif to /content/kaluaapuhi2018/Labels\n",
            "Copied 1_1025.tif to /content/kaluaapuhi2018/Labels\n",
            "Copied 1_1025.tif to /content/kaluaapuhi2018/Labels\n",
            "Copied 513_1025.tif to /content/kaluaapuhi2018/Labels\n",
            "Copied 513_1025.tif to /content/kaluaapuhi2018/Labels\n",
            "Copied 513_1025.tif to /content/kaluaapuhi2018/Labels\n",
            "Copied 1025_1025.tif to /content/kaluaapuhi2018/Labels\n",
            "Copied 2049_1025.tif to /content/kaluaapuhi2018/Labels\n",
            "Copied 2049_1025.tif to /content/kaluaapuhi2018/Labels\n",
            "Copied 2561_1025.tif to /content/kaluaapuhi2018/Labels\n",
            "Copied 2561_1025.tif to /content/kaluaapuhi2018/Labels\n",
            "Copied 3073_1025.tif to /content/kaluaapuhi2018/Labels\n",
            "Copied 3073_1025.tif to /content/kaluaapuhi2018/Labels\n",
            "Copied 3073_1025.tif to /content/kaluaapuhi2018/Labels\n",
            "Copied 3073_1025.tif to /content/kaluaapuhi2018/Labels\n",
            "Copied 3073_1025.tif to /content/kaluaapuhi2018/Labels\n",
            "Copied 3568_1025.tif to /content/kaluaapuhi2018/Labels\n",
            "Copied 3568_1025.tif to /content/kaluaapuhi2018/Labels\n",
            "Copied 3568_1025.tif to /content/kaluaapuhi2018/Labels\n",
            "Copied 3568_1025.tif to /content/kaluaapuhi2018/Labels\n",
            "Copied 3568_1025.tif to /content/kaluaapuhi2018/Labels\n",
            "Copied 1_1057.tif to /content/kaluaapuhi2018/Labels\n",
            "Copied 1_1057.tif to /content/kaluaapuhi2018/Labels\n",
            "Copied 513_1057.tif to /content/kaluaapuhi2018/Labels\n",
            "Copied 513_1057.tif to /content/kaluaapuhi2018/Labels\n",
            "Copied 1025_1057.tif to /content/kaluaapuhi2018/Labels\n",
            "Copied 2561_1057.tif to /content/kaluaapuhi2018/Labels\n",
            "Copied 2561_1057.tif to /content/kaluaapuhi2018/Labels\n",
            "Copied 3073_1057.tif to /content/kaluaapuhi2018/Labels\n",
            "Copied 3073_1057.tif to /content/kaluaapuhi2018/Labels\n",
            "Copied 3073_1057.tif to /content/kaluaapuhi2018/Labels\n",
            "Copied 3073_1057.tif to /content/kaluaapuhi2018/Labels\n",
            "Copied 3568_1057.tif to /content/kaluaapuhi2018/Labels\n",
            "Copied 3568_1057.tif to /content/kaluaapuhi2018/Labels\n",
            "Copied 3568_1057.tif to /content/kaluaapuhi2018/Labels\n",
            "Copied 3568_1057.tif to /content/kaluaapuhi2018/Labels\n"
          ]
        }
      ]
    },
    {
      "cell_type": "code",
      "source": [
        "# NEW images and labels folder: how many files are there?\n",
        "new_img = '/content/kaluaapuhi2018/Images'\n",
        "new_img_files = os.listdir(new_img)\n",
        "new_img_count = len(new_img_files)\n",
        "print(f'The number of files in the folder is: {new_img_count}')\n",
        "new_label = '/content/kaluaapuhi2018/Labels'\n",
        "new_label_files = os.listdir(new_label)\n",
        "new_label_count = len(new_label_files)\n",
        "print(f'The number of files in the folder is: {new_label_count}')"
      ],
      "metadata": {
        "colab": {
          "base_uri": "https://localhost:8080/"
        },
        "outputId": "b1cb7f58-74fe-4dd3-b129-836f5b17d305",
        "id": "unhpK8O6neGz"
      },
      "execution_count": 193,
      "outputs": [
        {
          "output_type": "stream",
          "name": "stdout",
          "text": [
            "The number of files in the folder is: 23\n",
            "The number of files in the folder is: 23\n"
          ]
        }
      ]
    },
    {
      "cell_type": "code",
      "source": [
        "# Define the file path where you want to save the CSV file\n",
        "csv_file_path = '/content/kaluaapuhi2018_subset.csv'\n",
        "subset_df.to_csv(csv_file_path, index=False)\n",
        "print(f\"DataFrame exported to {csv_file_path}\")"
      ],
      "metadata": {
        "colab": {
          "base_uri": "https://localhost:8080/"
        },
        "outputId": "5c9a20ef-95c9-4e1d-ea16-308563356040",
        "id": "muptwI7-neGz"
      },
      "execution_count": 194,
      "outputs": [
        {
          "output_type": "stream",
          "name": "stdout",
          "text": [
            "DataFrame exported to /content/kaluaapuhi2018_subset.csv\n"
          ]
        }
      ]
    },
    {
      "cell_type": "code",
      "source": [
        "# Define the path to the 'wetland_categories' folder\n",
        "folder_to_zip = '/content/kaluaapuhi2018'\n",
        "zip_file_path = '/content/kaluaapuhi2018_subset.zip'\n",
        "shutil.make_archive(zip_file_path[:-4], 'zip', folder_to_zip)\n",
        "print(f'ZIP file created: {zip_file_path}')"
      ],
      "metadata": {
        "colab": {
          "base_uri": "https://localhost:8080/"
        },
        "outputId": "a2954be3-6cc1-4aad-b281-620ef5c73487",
        "id": "Pc3bm84FneGz"
      },
      "execution_count": 195,
      "outputs": [
        {
          "output_type": "stream",
          "name": "stdout",
          "text": [
            "ZIP file created: /content/kaluaapuhi2018_subset.zip\n"
          ]
        }
      ]
    },
    {
      "cell_type": "code",
      "source": [
        "# Define the destination folder in Google Drive\n",
        "drive_folder = '/content/drive/MyDrive/data/wetland_project/trainingdata/landsat'\n",
        "shutil.move(zip_file_path, drive_folder)\n",
        "print(f'ZIP file moved to Google Drive: {drive_folder}')\n",
        "shutil.move(csv_file_path, drive_folder)\n",
        "print(f'CSV file moved to Google Drive: {drive_folder}')"
      ],
      "metadata": {
        "colab": {
          "base_uri": "https://localhost:8080/"
        },
        "outputId": "090dee29-761e-4f99-e5be-41d55850917f",
        "id": "OSsTJzhuneG0"
      },
      "execution_count": 196,
      "outputs": [
        {
          "output_type": "stream",
          "name": "stdout",
          "text": [
            "ZIP file moved to Google Drive: /content/drive/MyDrive/data/wetland_project/trainingdata/landsat\n",
            "CSV file moved to Google Drive: /content/drive/MyDrive/data/wetland_project/trainingdata/landsat\n"
          ]
        }
      ]
    },
    {
      "cell_type": "markdown",
      "source": [
        "## next 2019 tiles"
      ],
      "metadata": {
        "id": "Cr4vfaZxnj4A"
      }
    },
    {
      "cell_type": "code",
      "source": [
        "# original images and labels folder: how many files are there?\n",
        "org_img = '/content/CCAP/content/kaluaapuhi2019/Images'\n",
        "org_img_files = os.listdir(org_img)\n",
        "org_img_count = len(org_img_files)\n",
        "print(f'The number of files in the folder is: {org_img_count}')\n",
        "org_label = '/content/CCAP/content/kaluaapuhi2019/Labels'\n",
        "org_label_files = os.listdir(org_label)\n",
        "org_label_count = len(org_label_files)\n",
        "print(f'The number of files in the folder is: {org_label_count}')"
      ],
      "metadata": {
        "colab": {
          "base_uri": "https://localhost:8080/"
        },
        "outputId": "edfa4d6e-4d12-4520-92eb-71405aeec81e",
        "id": "lwCFx1GtnizJ"
      },
      "execution_count": 217,
      "outputs": [
        {
          "output_type": "stream",
          "name": "stdout",
          "text": [
            "The number of files in the folder is: 32\n",
            "The number of files in the folder is: 32\n"
          ]
        }
      ]
    },
    {
      "cell_type": "code",
      "source": [
        "df = pd.read_csv('/content/CCAP/content/kaluaapuhi2019/kaluaapuhi2019.csv')"
      ],
      "metadata": {
        "id": "ocdxjaJDnizJ"
      },
      "execution_count": 218,
      "outputs": []
    },
    {
      "cell_type": "code",
      "source": [
        "subset_df = df[(df['label'] > 12) & (df['label'] < 19)]"
      ],
      "metadata": {
        "id": "J9NckAyRnizJ"
      },
      "execution_count": 219,
      "outputs": []
    },
    {
      "cell_type": "code",
      "source": [
        "subset_df = subset_df.copy()  # Create a copy of the subset DataFrame to avoid modifying the original\n",
        "subset_df['tif_name'] = subset_df['x_org'].astype(str) + \"_\" + subset_df['y_org'].astype(str) + \".tif\""
      ],
      "metadata": {
        "id": "9fxDl_mdnizJ"
      },
      "execution_count": 220,
      "outputs": []
    },
    {
      "cell_type": "code",
      "source": [
        "# Copy the useable images files to new folder\n",
        "source_images = '/content/CCAP/content/kaluaapuhi2019/Images'\n",
        "destination_images = '/content/kaluaapuhi2019/Images'\n",
        "for tif_name in subset_df['tif_name']:\n",
        "    source_path = os.path.join(source_images, tif_name)\n",
        "    destination_path = os.path.join(destination_images, tif_name)\n",
        "    try:\n",
        "        shutil.copy(source_path, destination_path)\n",
        "        print(f\"Copied {tif_name} to {destination_images}\")\n",
        "    except FileNotFoundError:\n",
        "        print(f\"File {tif_name} not found in {source_images}\")"
      ],
      "metadata": {
        "id": "RxvxvBrCnizJ",
        "outputId": "39560bd6-3e3c-4e1b-fb41-b564c1749024",
        "colab": {
          "base_uri": "https://localhost:8080/"
        }
      },
      "execution_count": 221,
      "outputs": [
        {
          "output_type": "stream",
          "name": "stdout",
          "text": [
            "Copied 1025_1.tif to /content/kaluaapuhi2019/Images\n",
            "Copied 1537_1.tif to /content/kaluaapuhi2019/Images\n",
            "Copied 1537_1.tif to /content/kaluaapuhi2019/Images\n",
            "Copied 1537_1.tif to /content/kaluaapuhi2019/Images\n",
            "Copied 1537_1.tif to /content/kaluaapuhi2019/Images\n",
            "Copied 1_513.tif to /content/kaluaapuhi2019/Images\n",
            "Copied 1_513.tif to /content/kaluaapuhi2019/Images\n",
            "Copied 513_513.tif to /content/kaluaapuhi2019/Images\n",
            "Copied 513_513.tif to /content/kaluaapuhi2019/Images\n",
            "Copied 513_513.tif to /content/kaluaapuhi2019/Images\n",
            "Copied 513_513.tif to /content/kaluaapuhi2019/Images\n",
            "Copied 1025_513.tif to /content/kaluaapuhi2019/Images\n",
            "Copied 1025_513.tif to /content/kaluaapuhi2019/Images\n",
            "Copied 1025_513.tif to /content/kaluaapuhi2019/Images\n",
            "Copied 1025_513.tif to /content/kaluaapuhi2019/Images\n",
            "Copied 1537_513.tif to /content/kaluaapuhi2019/Images\n",
            "Copied 1537_513.tif to /content/kaluaapuhi2019/Images\n",
            "Copied 1537_513.tif to /content/kaluaapuhi2019/Images\n",
            "Copied 2049_513.tif to /content/kaluaapuhi2019/Images\n",
            "Copied 2049_513.tif to /content/kaluaapuhi2019/Images\n",
            "Copied 2049_513.tif to /content/kaluaapuhi2019/Images\n",
            "Copied 2049_513.tif to /content/kaluaapuhi2019/Images\n",
            "Copied 2561_513.tif to /content/kaluaapuhi2019/Images\n",
            "Copied 2561_513.tif to /content/kaluaapuhi2019/Images\n",
            "Copied 2561_513.tif to /content/kaluaapuhi2019/Images\n",
            "Copied 3073_513.tif to /content/kaluaapuhi2019/Images\n",
            "Copied 3073_513.tif to /content/kaluaapuhi2019/Images\n",
            "Copied 3073_513.tif to /content/kaluaapuhi2019/Images\n",
            "Copied 3073_513.tif to /content/kaluaapuhi2019/Images\n",
            "Copied 3073_513.tif to /content/kaluaapuhi2019/Images\n",
            "Copied 3073_513.tif to /content/kaluaapuhi2019/Images\n",
            "Copied 3568_513.tif to /content/kaluaapuhi2019/Images\n",
            "Copied 3568_513.tif to /content/kaluaapuhi2019/Images\n",
            "Copied 3568_513.tif to /content/kaluaapuhi2019/Images\n",
            "Copied 3568_513.tif to /content/kaluaapuhi2019/Images\n",
            "Copied 3568_513.tif to /content/kaluaapuhi2019/Images\n",
            "Copied 1_1025.tif to /content/kaluaapuhi2019/Images\n",
            "Copied 1_1025.tif to /content/kaluaapuhi2019/Images\n",
            "Copied 1_1025.tif to /content/kaluaapuhi2019/Images\n",
            "Copied 513_1025.tif to /content/kaluaapuhi2019/Images\n",
            "Copied 513_1025.tif to /content/kaluaapuhi2019/Images\n",
            "Copied 513_1025.tif to /content/kaluaapuhi2019/Images\n",
            "Copied 1025_1025.tif to /content/kaluaapuhi2019/Images\n",
            "Copied 2049_1025.tif to /content/kaluaapuhi2019/Images\n",
            "Copied 2049_1025.tif to /content/kaluaapuhi2019/Images\n",
            "Copied 2561_1025.tif to /content/kaluaapuhi2019/Images\n",
            "Copied 2561_1025.tif to /content/kaluaapuhi2019/Images\n",
            "Copied 3073_1025.tif to /content/kaluaapuhi2019/Images\n",
            "Copied 3073_1025.tif to /content/kaluaapuhi2019/Images\n",
            "Copied 3073_1025.tif to /content/kaluaapuhi2019/Images\n",
            "Copied 3073_1025.tif to /content/kaluaapuhi2019/Images\n",
            "Copied 3073_1025.tif to /content/kaluaapuhi2019/Images\n",
            "Copied 3568_1025.tif to /content/kaluaapuhi2019/Images\n",
            "Copied 3568_1025.tif to /content/kaluaapuhi2019/Images\n",
            "Copied 3568_1025.tif to /content/kaluaapuhi2019/Images\n",
            "Copied 3568_1025.tif to /content/kaluaapuhi2019/Images\n",
            "Copied 3568_1025.tif to /content/kaluaapuhi2019/Images\n",
            "Copied 1_1057.tif to /content/kaluaapuhi2019/Images\n",
            "Copied 1_1057.tif to /content/kaluaapuhi2019/Images\n",
            "Copied 513_1057.tif to /content/kaluaapuhi2019/Images\n",
            "Copied 513_1057.tif to /content/kaluaapuhi2019/Images\n",
            "Copied 1025_1057.tif to /content/kaluaapuhi2019/Images\n",
            "Copied 2561_1057.tif to /content/kaluaapuhi2019/Images\n",
            "Copied 2561_1057.tif to /content/kaluaapuhi2019/Images\n",
            "Copied 3073_1057.tif to /content/kaluaapuhi2019/Images\n",
            "Copied 3073_1057.tif to /content/kaluaapuhi2019/Images\n",
            "Copied 3073_1057.tif to /content/kaluaapuhi2019/Images\n",
            "Copied 3073_1057.tif to /content/kaluaapuhi2019/Images\n",
            "Copied 3568_1057.tif to /content/kaluaapuhi2019/Images\n",
            "Copied 3568_1057.tif to /content/kaluaapuhi2019/Images\n",
            "Copied 3568_1057.tif to /content/kaluaapuhi2019/Images\n",
            "Copied 3568_1057.tif to /content/kaluaapuhi2019/Images\n"
          ]
        }
      ]
    },
    {
      "cell_type": "code",
      "source": [
        "# Copy the useable labels files to new folder\n",
        "source_labels = '/content/CCAP/content/kaluaapuhi2019/Labels'\n",
        "destination_labels = '/content/kaluaapuhi2019/Labels'\n",
        "for tif_name in subset_df['tif_name']:\n",
        "    source_path = os.path.join(source_labels, tif_name)\n",
        "    destination_path = os.path.join(destination_labels, tif_name)\n",
        "    try:\n",
        "        shutil.copy(source_path, destination_path)\n",
        "        print(f\"Copied {tif_name} to {destination_labels}\")\n",
        "    except FileNotFoundError:\n",
        "        print(f\"File {tif_name} not found in {source_labels}\")"
      ],
      "metadata": {
        "id": "1l595MzynizJ",
        "outputId": "b2ce2c28-fa5a-4f38-bad1-b17eb7a681fa",
        "colab": {
          "base_uri": "https://localhost:8080/"
        }
      },
      "execution_count": 222,
      "outputs": [
        {
          "output_type": "stream",
          "name": "stdout",
          "text": [
            "Copied 1025_1.tif to /content/kaluaapuhi2019/Labels\n",
            "Copied 1537_1.tif to /content/kaluaapuhi2019/Labels\n",
            "Copied 1537_1.tif to /content/kaluaapuhi2019/Labels\n",
            "Copied 1537_1.tif to /content/kaluaapuhi2019/Labels\n",
            "Copied 1537_1.tif to /content/kaluaapuhi2019/Labels\n",
            "Copied 1_513.tif to /content/kaluaapuhi2019/Labels\n",
            "Copied 1_513.tif to /content/kaluaapuhi2019/Labels\n",
            "Copied 513_513.tif to /content/kaluaapuhi2019/Labels\n",
            "Copied 513_513.tif to /content/kaluaapuhi2019/Labels\n",
            "Copied 513_513.tif to /content/kaluaapuhi2019/Labels\n",
            "Copied 513_513.tif to /content/kaluaapuhi2019/Labels\n",
            "Copied 1025_513.tif to /content/kaluaapuhi2019/Labels\n",
            "Copied 1025_513.tif to /content/kaluaapuhi2019/Labels\n",
            "Copied 1025_513.tif to /content/kaluaapuhi2019/Labels\n",
            "Copied 1025_513.tif to /content/kaluaapuhi2019/Labels\n",
            "Copied 1537_513.tif to /content/kaluaapuhi2019/Labels\n",
            "Copied 1537_513.tif to /content/kaluaapuhi2019/Labels\n",
            "Copied 1537_513.tif to /content/kaluaapuhi2019/Labels\n",
            "Copied 2049_513.tif to /content/kaluaapuhi2019/Labels\n",
            "Copied 2049_513.tif to /content/kaluaapuhi2019/Labels\n",
            "Copied 2049_513.tif to /content/kaluaapuhi2019/Labels\n",
            "Copied 2049_513.tif to /content/kaluaapuhi2019/Labels\n",
            "Copied 2561_513.tif to /content/kaluaapuhi2019/Labels\n",
            "Copied 2561_513.tif to /content/kaluaapuhi2019/Labels\n",
            "Copied 2561_513.tif to /content/kaluaapuhi2019/Labels\n",
            "Copied 3073_513.tif to /content/kaluaapuhi2019/Labels\n",
            "Copied 3073_513.tif to /content/kaluaapuhi2019/Labels\n",
            "Copied 3073_513.tif to /content/kaluaapuhi2019/Labels\n",
            "Copied 3073_513.tif to /content/kaluaapuhi2019/Labels\n",
            "Copied 3073_513.tif to /content/kaluaapuhi2019/Labels\n",
            "Copied 3073_513.tif to /content/kaluaapuhi2019/Labels\n",
            "Copied 3568_513.tif to /content/kaluaapuhi2019/Labels\n",
            "Copied 3568_513.tif to /content/kaluaapuhi2019/Labels\n",
            "Copied 3568_513.tif to /content/kaluaapuhi2019/Labels\n",
            "Copied 3568_513.tif to /content/kaluaapuhi2019/Labels\n",
            "Copied 3568_513.tif to /content/kaluaapuhi2019/Labels\n",
            "Copied 1_1025.tif to /content/kaluaapuhi2019/Labels\n",
            "Copied 1_1025.tif to /content/kaluaapuhi2019/Labels\n",
            "Copied 1_1025.tif to /content/kaluaapuhi2019/Labels\n",
            "Copied 513_1025.tif to /content/kaluaapuhi2019/Labels\n",
            "Copied 513_1025.tif to /content/kaluaapuhi2019/Labels\n",
            "Copied 513_1025.tif to /content/kaluaapuhi2019/Labels\n",
            "Copied 1025_1025.tif to /content/kaluaapuhi2019/Labels\n",
            "Copied 2049_1025.tif to /content/kaluaapuhi2019/Labels\n",
            "Copied 2049_1025.tif to /content/kaluaapuhi2019/Labels\n",
            "Copied 2561_1025.tif to /content/kaluaapuhi2019/Labels\n",
            "Copied 2561_1025.tif to /content/kaluaapuhi2019/Labels\n",
            "Copied 3073_1025.tif to /content/kaluaapuhi2019/Labels\n",
            "Copied 3073_1025.tif to /content/kaluaapuhi2019/Labels\n",
            "Copied 3073_1025.tif to /content/kaluaapuhi2019/Labels\n",
            "Copied 3073_1025.tif to /content/kaluaapuhi2019/Labels\n",
            "Copied 3073_1025.tif to /content/kaluaapuhi2019/Labels\n",
            "Copied 3568_1025.tif to /content/kaluaapuhi2019/Labels\n",
            "Copied 3568_1025.tif to /content/kaluaapuhi2019/Labels\n",
            "Copied 3568_1025.tif to /content/kaluaapuhi2019/Labels\n",
            "Copied 3568_1025.tif to /content/kaluaapuhi2019/Labels\n",
            "Copied 3568_1025.tif to /content/kaluaapuhi2019/Labels\n",
            "Copied 1_1057.tif to /content/kaluaapuhi2019/Labels\n",
            "Copied 1_1057.tif to /content/kaluaapuhi2019/Labels\n",
            "Copied 513_1057.tif to /content/kaluaapuhi2019/Labels\n",
            "Copied 513_1057.tif to /content/kaluaapuhi2019/Labels\n",
            "Copied 1025_1057.tif to /content/kaluaapuhi2019/Labels\n",
            "Copied 2561_1057.tif to /content/kaluaapuhi2019/Labels\n",
            "Copied 2561_1057.tif to /content/kaluaapuhi2019/Labels\n",
            "Copied 3073_1057.tif to /content/kaluaapuhi2019/Labels\n",
            "Copied 3073_1057.tif to /content/kaluaapuhi2019/Labels\n",
            "Copied 3073_1057.tif to /content/kaluaapuhi2019/Labels\n",
            "Copied 3073_1057.tif to /content/kaluaapuhi2019/Labels\n",
            "Copied 3568_1057.tif to /content/kaluaapuhi2019/Labels\n",
            "Copied 3568_1057.tif to /content/kaluaapuhi2019/Labels\n",
            "Copied 3568_1057.tif to /content/kaluaapuhi2019/Labels\n",
            "Copied 3568_1057.tif to /content/kaluaapuhi2019/Labels\n"
          ]
        }
      ]
    },
    {
      "cell_type": "code",
      "source": [
        "# NEW images and labels folder: how many files are there?\n",
        "new_img = '/content/kaluaapuhi2019/Images'\n",
        "new_img_files = os.listdir(new_img)\n",
        "new_img_count = len(new_img_files)\n",
        "print(f'The number of files in the folder is: {new_img_count}')\n",
        "new_label = '/content/kaluaapuhi2019/Labels'\n",
        "new_label_files = os.listdir(new_label)\n",
        "new_label_count = len(new_label_files)\n",
        "print(f'The number of files in the folder is: {new_label_count}')"
      ],
      "metadata": {
        "colab": {
          "base_uri": "https://localhost:8080/"
        },
        "outputId": "33484cb5-057a-42c8-83d1-956c0ed22c6e",
        "id": "sdZfanvAnizJ"
      },
      "execution_count": 281,
      "outputs": [
        {
          "output_type": "stream",
          "name": "stdout",
          "text": [
            "The number of files in the folder is: 23\n",
            "The number of files in the folder is: 23\n"
          ]
        }
      ]
    },
    {
      "cell_type": "code",
      "source": [
        "# Define the file path where you want to save the CSV file\n",
        "csv_file_path = '/content/kaluaapuhi2019_subset.csv'\n",
        "subset_df.to_csv(csv_file_path, index=False)\n",
        "print(f\"DataFrame exported to {csv_file_path}\")"
      ],
      "metadata": {
        "colab": {
          "base_uri": "https://localhost:8080/"
        },
        "outputId": "aaca9455-c611-48bb-ba5f-f24ec358ec66",
        "id": "avxRA5jmnizJ"
      },
      "execution_count": 282,
      "outputs": [
        {
          "output_type": "stream",
          "name": "stdout",
          "text": [
            "DataFrame exported to /content/kaluaapuhi2019_subset.csv\n"
          ]
        }
      ]
    },
    {
      "cell_type": "code",
      "source": [
        "# Define the path to the 'wetland_categories' folder\n",
        "folder_to_zip = '/content/kaluaapuhi2019'\n",
        "zip_file_path = '/content/kaluaapuhi2019_subset.zip'\n",
        "shutil.make_archive(zip_file_path[:-4], 'zip', folder_to_zip)\n",
        "print(f'ZIP file created: {zip_file_path}')"
      ],
      "metadata": {
        "colab": {
          "base_uri": "https://localhost:8080/"
        },
        "outputId": "f32972dd-0e24-48f6-d706-3285d1c57cf7",
        "id": "_qSNMy_XnizJ"
      },
      "execution_count": 283,
      "outputs": [
        {
          "output_type": "stream",
          "name": "stdout",
          "text": [
            "ZIP file created: /content/kaluaapuhi2019_subset.zip\n"
          ]
        }
      ]
    },
    {
      "cell_type": "code",
      "source": [
        "# Define the destination folder in Google Drive\n",
        "drive_folder = '/content/drive/MyDrive/data/wetland_project/trainingdata/landsat'\n",
        "shutil.move(zip_file_path, drive_folder)\n",
        "print(f'ZIP file moved to Google Drive: {drive_folder}')\n",
        "shutil.move(csv_file_path, drive_folder)\n",
        "print(f'CSV file moved to Google Drive: {drive_folder}')"
      ],
      "metadata": {
        "colab": {
          "base_uri": "https://localhost:8080/"
        },
        "outputId": "62f9ef56-a145-496d-e73a-2b08bac198da",
        "id": "SKzbsx51nizK"
      },
      "execution_count": 284,
      "outputs": [
        {
          "output_type": "stream",
          "name": "stdout",
          "text": [
            "ZIP file moved to Google Drive: /content/drive/MyDrive/data/wetland_project/trainingdata/landsat\n",
            "CSV file moved to Google Drive: /content/drive/MyDrive/data/wetland_project/trainingdata/landsat\n"
          ]
        }
      ]
    },
    {
      "cell_type": "markdown",
      "source": [
        "## next 2020 tiles"
      ],
      "metadata": {
        "id": "j21JfjJqnn24"
      }
    },
    {
      "cell_type": "code",
      "source": [
        "# original images and labels folder: how many files are there?\n",
        "org_img = '/content/CCAP/content/kaluaapuhi2020/Images'\n",
        "org_img_files = os.listdir(org_img)\n",
        "org_img_count = len(org_img_files)\n",
        "print(f'The number of files in the folder is: {org_img_count}')\n",
        "org_label = '/content/CCAP/content/kaluaapuhi2020/Labels'\n",
        "org_label_files = os.listdir(org_label)\n",
        "org_label_count = len(org_label_files)\n",
        "print(f'The number of files in the folder is: {org_label_count}')"
      ],
      "metadata": {
        "colab": {
          "base_uri": "https://localhost:8080/"
        },
        "outputId": "6fc80c4f-5f25-4996-e51e-de7c1ceac6d8",
        "id": "FCO859innmeY"
      },
      "execution_count": 285,
      "outputs": [
        {
          "output_type": "stream",
          "name": "stdout",
          "text": [
            "The number of files in the folder is: 32\n",
            "The number of files in the folder is: 32\n"
          ]
        }
      ]
    },
    {
      "cell_type": "code",
      "source": [
        "df = pd.read_csv('/content/CCAP/content/kaluaapuhi2020/kaluaapuhi2020.csv')"
      ],
      "metadata": {
        "id": "2Tw6npxSnmeY"
      },
      "execution_count": 286,
      "outputs": []
    },
    {
      "cell_type": "code",
      "source": [
        "subset_df = df[(df['label'] > 12) & (df['label'] < 19)]"
      ],
      "metadata": {
        "id": "eCj5RvKNnmeY"
      },
      "execution_count": 287,
      "outputs": []
    },
    {
      "cell_type": "code",
      "source": [
        "subset_df = subset_df.copy()  # Create a copy of the subset DataFrame to avoid modifying the original\n",
        "subset_df['tif_name'] = subset_df['x_org'].astype(str) + \"_\" + subset_df['y_org'].astype(str) + \".tif\""
      ],
      "metadata": {
        "id": "HCoTvbPynmeY"
      },
      "execution_count": 288,
      "outputs": []
    },
    {
      "cell_type": "code",
      "source": [
        "# Copy the useable images files to new folder\n",
        "source_images = '/content/CCAP/content/kaluaapuhi2020/Images'\n",
        "destination_images = '/content/kaluaapuhi2020/Images'\n",
        "for tif_name in subset_df['tif_name']:\n",
        "    source_path = os.path.join(source_images, tif_name)\n",
        "    destination_path = os.path.join(destination_images, tif_name)\n",
        "    try:\n",
        "        shutil.copy(source_path, destination_path)\n",
        "        print(f\"Copied {tif_name} to {destination_images}\")\n",
        "    except FileNotFoundError:\n",
        "        print(f\"File {tif_name} not found in {source_images}\")"
      ],
      "metadata": {
        "id": "MDQ2-cDFnmeY",
        "outputId": "b9fc8f0e-00ad-4845-f953-99c28f2db5c2",
        "colab": {
          "base_uri": "https://localhost:8080/"
        }
      },
      "execution_count": 289,
      "outputs": [
        {
          "output_type": "stream",
          "name": "stdout",
          "text": [
            "Copied 1025_1.tif to /content/kaluaapuhi2020/Images\n",
            "Copied 1537_1.tif to /content/kaluaapuhi2020/Images\n",
            "Copied 1537_1.tif to /content/kaluaapuhi2020/Images\n",
            "Copied 1537_1.tif to /content/kaluaapuhi2020/Images\n",
            "Copied 1537_1.tif to /content/kaluaapuhi2020/Images\n",
            "Copied 1_513.tif to /content/kaluaapuhi2020/Images\n",
            "Copied 1_513.tif to /content/kaluaapuhi2020/Images\n",
            "Copied 513_513.tif to /content/kaluaapuhi2020/Images\n",
            "Copied 513_513.tif to /content/kaluaapuhi2020/Images\n",
            "Copied 513_513.tif to /content/kaluaapuhi2020/Images\n",
            "Copied 513_513.tif to /content/kaluaapuhi2020/Images\n",
            "Copied 1025_513.tif to /content/kaluaapuhi2020/Images\n",
            "Copied 1025_513.tif to /content/kaluaapuhi2020/Images\n",
            "Copied 1025_513.tif to /content/kaluaapuhi2020/Images\n",
            "Copied 1025_513.tif to /content/kaluaapuhi2020/Images\n",
            "Copied 1537_513.tif to /content/kaluaapuhi2020/Images\n",
            "Copied 1537_513.tif to /content/kaluaapuhi2020/Images\n",
            "Copied 1537_513.tif to /content/kaluaapuhi2020/Images\n",
            "Copied 2049_513.tif to /content/kaluaapuhi2020/Images\n",
            "Copied 2049_513.tif to /content/kaluaapuhi2020/Images\n",
            "Copied 2049_513.tif to /content/kaluaapuhi2020/Images\n",
            "Copied 2049_513.tif to /content/kaluaapuhi2020/Images\n",
            "Copied 2561_513.tif to /content/kaluaapuhi2020/Images\n",
            "Copied 2561_513.tif to /content/kaluaapuhi2020/Images\n",
            "Copied 2561_513.tif to /content/kaluaapuhi2020/Images\n",
            "Copied 3073_513.tif to /content/kaluaapuhi2020/Images\n",
            "Copied 3073_513.tif to /content/kaluaapuhi2020/Images\n",
            "Copied 3073_513.tif to /content/kaluaapuhi2020/Images\n",
            "Copied 3073_513.tif to /content/kaluaapuhi2020/Images\n",
            "Copied 3073_513.tif to /content/kaluaapuhi2020/Images\n",
            "Copied 3073_513.tif to /content/kaluaapuhi2020/Images\n",
            "Copied 3568_513.tif to /content/kaluaapuhi2020/Images\n",
            "Copied 3568_513.tif to /content/kaluaapuhi2020/Images\n",
            "Copied 3568_513.tif to /content/kaluaapuhi2020/Images\n",
            "Copied 3568_513.tif to /content/kaluaapuhi2020/Images\n",
            "Copied 3568_513.tif to /content/kaluaapuhi2020/Images\n",
            "Copied 1_1025.tif to /content/kaluaapuhi2020/Images\n",
            "Copied 1_1025.tif to /content/kaluaapuhi2020/Images\n",
            "Copied 1_1025.tif to /content/kaluaapuhi2020/Images\n",
            "Copied 513_1025.tif to /content/kaluaapuhi2020/Images\n",
            "Copied 513_1025.tif to /content/kaluaapuhi2020/Images\n",
            "Copied 513_1025.tif to /content/kaluaapuhi2020/Images\n",
            "Copied 1025_1025.tif to /content/kaluaapuhi2020/Images\n",
            "Copied 2049_1025.tif to /content/kaluaapuhi2020/Images\n",
            "Copied 2049_1025.tif to /content/kaluaapuhi2020/Images\n",
            "Copied 2561_1025.tif to /content/kaluaapuhi2020/Images\n",
            "Copied 2561_1025.tif to /content/kaluaapuhi2020/Images\n",
            "Copied 3073_1025.tif to /content/kaluaapuhi2020/Images\n",
            "Copied 3073_1025.tif to /content/kaluaapuhi2020/Images\n",
            "Copied 3073_1025.tif to /content/kaluaapuhi2020/Images\n",
            "Copied 3073_1025.tif to /content/kaluaapuhi2020/Images\n",
            "Copied 3073_1025.tif to /content/kaluaapuhi2020/Images\n",
            "Copied 3568_1025.tif to /content/kaluaapuhi2020/Images\n",
            "Copied 3568_1025.tif to /content/kaluaapuhi2020/Images\n",
            "Copied 3568_1025.tif to /content/kaluaapuhi2020/Images\n",
            "Copied 3568_1025.tif to /content/kaluaapuhi2020/Images\n",
            "Copied 3568_1025.tif to /content/kaluaapuhi2020/Images\n",
            "Copied 1_1057.tif to /content/kaluaapuhi2020/Images\n",
            "Copied 1_1057.tif to /content/kaluaapuhi2020/Images\n",
            "Copied 513_1057.tif to /content/kaluaapuhi2020/Images\n",
            "Copied 513_1057.tif to /content/kaluaapuhi2020/Images\n",
            "Copied 1025_1057.tif to /content/kaluaapuhi2020/Images\n",
            "Copied 2561_1057.tif to /content/kaluaapuhi2020/Images\n",
            "Copied 2561_1057.tif to /content/kaluaapuhi2020/Images\n",
            "Copied 3073_1057.tif to /content/kaluaapuhi2020/Images\n",
            "Copied 3073_1057.tif to /content/kaluaapuhi2020/Images\n",
            "Copied 3073_1057.tif to /content/kaluaapuhi2020/Images\n",
            "Copied 3073_1057.tif to /content/kaluaapuhi2020/Images\n",
            "Copied 3568_1057.tif to /content/kaluaapuhi2020/Images\n",
            "Copied 3568_1057.tif to /content/kaluaapuhi2020/Images\n",
            "Copied 3568_1057.tif to /content/kaluaapuhi2020/Images\n",
            "Copied 3568_1057.tif to /content/kaluaapuhi2020/Images\n"
          ]
        }
      ]
    },
    {
      "cell_type": "code",
      "source": [
        "# Copy the useable labels files to new folder\n",
        "source_labels = '/content/CCAP/content/kaluaapuhi2020/Labels'\n",
        "destination_labels = '/content/kaluaapuhi2020/Labels'\n",
        "for tif_name in subset_df['tif_name']:\n",
        "    source_path = os.path.join(source_labels, tif_name)\n",
        "    destination_path = os.path.join(destination_labels, tif_name)\n",
        "    try:\n",
        "        shutil.copy(source_path, destination_path)\n",
        "        print(f\"Copied {tif_name} to {destination_labels}\")\n",
        "    except FileNotFoundError:\n",
        "        print(f\"File {tif_name} not found in {source_labels}\")"
      ],
      "metadata": {
        "id": "jQluX6fgnmeY",
        "outputId": "8b4498b1-d99c-4a90-854d-268583ce9547",
        "colab": {
          "base_uri": "https://localhost:8080/"
        }
      },
      "execution_count": 290,
      "outputs": [
        {
          "output_type": "stream",
          "name": "stdout",
          "text": [
            "Copied 1025_1.tif to /content/kaluaapuhi2020/Labels\n",
            "Copied 1537_1.tif to /content/kaluaapuhi2020/Labels\n",
            "Copied 1537_1.tif to /content/kaluaapuhi2020/Labels\n",
            "Copied 1537_1.tif to /content/kaluaapuhi2020/Labels\n",
            "Copied 1537_1.tif to /content/kaluaapuhi2020/Labels\n",
            "Copied 1_513.tif to /content/kaluaapuhi2020/Labels\n",
            "Copied 1_513.tif to /content/kaluaapuhi2020/Labels\n",
            "Copied 513_513.tif to /content/kaluaapuhi2020/Labels\n",
            "Copied 513_513.tif to /content/kaluaapuhi2020/Labels\n",
            "Copied 513_513.tif to /content/kaluaapuhi2020/Labels\n",
            "Copied 513_513.tif to /content/kaluaapuhi2020/Labels\n",
            "Copied 1025_513.tif to /content/kaluaapuhi2020/Labels\n",
            "Copied 1025_513.tif to /content/kaluaapuhi2020/Labels\n",
            "Copied 1025_513.tif to /content/kaluaapuhi2020/Labels\n",
            "Copied 1025_513.tif to /content/kaluaapuhi2020/Labels\n",
            "Copied 1537_513.tif to /content/kaluaapuhi2020/Labels\n",
            "Copied 1537_513.tif to /content/kaluaapuhi2020/Labels\n",
            "Copied 1537_513.tif to /content/kaluaapuhi2020/Labels\n",
            "Copied 2049_513.tif to /content/kaluaapuhi2020/Labels\n",
            "Copied 2049_513.tif to /content/kaluaapuhi2020/Labels\n",
            "Copied 2049_513.tif to /content/kaluaapuhi2020/Labels\n",
            "Copied 2049_513.tif to /content/kaluaapuhi2020/Labels\n",
            "Copied 2561_513.tif to /content/kaluaapuhi2020/Labels\n",
            "Copied 2561_513.tif to /content/kaluaapuhi2020/Labels\n",
            "Copied 2561_513.tif to /content/kaluaapuhi2020/Labels\n",
            "Copied 3073_513.tif to /content/kaluaapuhi2020/Labels\n",
            "Copied 3073_513.tif to /content/kaluaapuhi2020/Labels\n",
            "Copied 3073_513.tif to /content/kaluaapuhi2020/Labels\n",
            "Copied 3073_513.tif to /content/kaluaapuhi2020/Labels\n",
            "Copied 3073_513.tif to /content/kaluaapuhi2020/Labels\n",
            "Copied 3073_513.tif to /content/kaluaapuhi2020/Labels\n",
            "Copied 3568_513.tif to /content/kaluaapuhi2020/Labels\n",
            "Copied 3568_513.tif to /content/kaluaapuhi2020/Labels\n",
            "Copied 3568_513.tif to /content/kaluaapuhi2020/Labels\n",
            "Copied 3568_513.tif to /content/kaluaapuhi2020/Labels\n",
            "Copied 3568_513.tif to /content/kaluaapuhi2020/Labels\n",
            "Copied 1_1025.tif to /content/kaluaapuhi2020/Labels\n",
            "Copied 1_1025.tif to /content/kaluaapuhi2020/Labels\n",
            "Copied 1_1025.tif to /content/kaluaapuhi2020/Labels\n",
            "Copied 513_1025.tif to /content/kaluaapuhi2020/Labels\n",
            "Copied 513_1025.tif to /content/kaluaapuhi2020/Labels\n",
            "Copied 513_1025.tif to /content/kaluaapuhi2020/Labels\n",
            "Copied 1025_1025.tif to /content/kaluaapuhi2020/Labels\n",
            "Copied 2049_1025.tif to /content/kaluaapuhi2020/Labels\n",
            "Copied 2049_1025.tif to /content/kaluaapuhi2020/Labels\n",
            "Copied 2561_1025.tif to /content/kaluaapuhi2020/Labels\n",
            "Copied 2561_1025.tif to /content/kaluaapuhi2020/Labels\n",
            "Copied 3073_1025.tif to /content/kaluaapuhi2020/Labels\n",
            "Copied 3073_1025.tif to /content/kaluaapuhi2020/Labels\n",
            "Copied 3073_1025.tif to /content/kaluaapuhi2020/Labels\n",
            "Copied 3073_1025.tif to /content/kaluaapuhi2020/Labels\n",
            "Copied 3073_1025.tif to /content/kaluaapuhi2020/Labels\n",
            "Copied 3568_1025.tif to /content/kaluaapuhi2020/Labels\n",
            "Copied 3568_1025.tif to /content/kaluaapuhi2020/Labels\n",
            "Copied 3568_1025.tif to /content/kaluaapuhi2020/Labels\n",
            "Copied 3568_1025.tif to /content/kaluaapuhi2020/Labels\n",
            "Copied 3568_1025.tif to /content/kaluaapuhi2020/Labels\n",
            "Copied 1_1057.tif to /content/kaluaapuhi2020/Labels\n",
            "Copied 1_1057.tif to /content/kaluaapuhi2020/Labels\n",
            "Copied 513_1057.tif to /content/kaluaapuhi2020/Labels\n",
            "Copied 513_1057.tif to /content/kaluaapuhi2020/Labels\n",
            "Copied 1025_1057.tif to /content/kaluaapuhi2020/Labels\n",
            "Copied 2561_1057.tif to /content/kaluaapuhi2020/Labels\n",
            "Copied 2561_1057.tif to /content/kaluaapuhi2020/Labels\n",
            "Copied 3073_1057.tif to /content/kaluaapuhi2020/Labels\n",
            "Copied 3073_1057.tif to /content/kaluaapuhi2020/Labels\n",
            "Copied 3073_1057.tif to /content/kaluaapuhi2020/Labels\n",
            "Copied 3073_1057.tif to /content/kaluaapuhi2020/Labels\n",
            "Copied 3568_1057.tif to /content/kaluaapuhi2020/Labels\n",
            "Copied 3568_1057.tif to /content/kaluaapuhi2020/Labels\n",
            "Copied 3568_1057.tif to /content/kaluaapuhi2020/Labels\n",
            "Copied 3568_1057.tif to /content/kaluaapuhi2020/Labels\n"
          ]
        }
      ]
    },
    {
      "cell_type": "code",
      "source": [
        "# NEW images and labels folder: how many files are there?\n",
        "new_img = '/content/kaluaapuhi2020/Images'\n",
        "new_img_files = os.listdir(new_img)\n",
        "new_img_count = len(new_img_files)\n",
        "print(f'The number of files in the folder is: {new_img_count}')\n",
        "new_label = '/content/kaluaapuhi2020/Labels'\n",
        "new_label_files = os.listdir(new_label)\n",
        "new_label_count = len(new_label_files)\n",
        "print(f'The number of files in the folder is: {new_label_count}')"
      ],
      "metadata": {
        "colab": {
          "base_uri": "https://localhost:8080/"
        },
        "outputId": "907eb2f3-8dce-47cd-a46f-12fd050e8c81",
        "id": "LvWJ-XBmnmeY"
      },
      "execution_count": 291,
      "outputs": [
        {
          "output_type": "stream",
          "name": "stdout",
          "text": [
            "The number of files in the folder is: 23\n",
            "The number of files in the folder is: 23\n"
          ]
        }
      ]
    },
    {
      "cell_type": "code",
      "source": [
        "# Define the file path where you want to save the CSV file\n",
        "csv_file_path = '/content/kaluaapuhi2020_subset.csv'\n",
        "subset_df.to_csv(csv_file_path, index=False)\n",
        "print(f\"DataFrame exported to {csv_file_path}\")"
      ],
      "metadata": {
        "colab": {
          "base_uri": "https://localhost:8080/"
        },
        "outputId": "e59464b9-d4fc-4db6-983c-33fdf615e303",
        "id": "boViUaF8nmeZ"
      },
      "execution_count": 292,
      "outputs": [
        {
          "output_type": "stream",
          "name": "stdout",
          "text": [
            "DataFrame exported to /content/kaluaapuhi2020_subset.csv\n"
          ]
        }
      ]
    },
    {
      "cell_type": "code",
      "source": [
        "# Define the path to the 'wetland_categories' folder\n",
        "folder_to_zip = '/content/kaluaapuhi2020'\n",
        "zip_file_path = '/content/kaluaapuhi2020_subset.zip'\n",
        "shutil.make_archive(zip_file_path[:-4], 'zip', folder_to_zip)\n",
        "print(f'ZIP file created: {zip_file_path}')"
      ],
      "metadata": {
        "colab": {
          "base_uri": "https://localhost:8080/"
        },
        "outputId": "b6a2bf54-974b-454d-87e6-2ab5fc847837",
        "id": "LmIRIHaYnmeZ"
      },
      "execution_count": 293,
      "outputs": [
        {
          "output_type": "stream",
          "name": "stdout",
          "text": [
            "ZIP file created: /content/kaluaapuhi2020_subset.zip\n"
          ]
        }
      ]
    },
    {
      "cell_type": "code",
      "source": [
        "# Define the destination folder in Google Drive\n",
        "drive_folder = '/content/drive/MyDrive/data/wetland_project/trainingdata/landsat'\n",
        "shutil.move(zip_file_path, drive_folder)\n",
        "print(f'ZIP file moved to Google Drive: {drive_folder}')\n",
        "shutil.move(csv_file_path, drive_folder)\n",
        "print(f'CSV file moved to Google Drive: {drive_folder}')"
      ],
      "metadata": {
        "colab": {
          "base_uri": "https://localhost:8080/"
        },
        "outputId": "c0c69f43-8b74-489b-e613-75ef0127ea11",
        "id": "mUZF1YY8nmeZ"
      },
      "execution_count": 294,
      "outputs": [
        {
          "output_type": "stream",
          "name": "stdout",
          "text": [
            "ZIP file moved to Google Drive: /content/drive/MyDrive/data/wetland_project/trainingdata/landsat\n",
            "CSV file moved to Google Drive: /content/drive/MyDrive/data/wetland_project/trainingdata/landsat\n"
          ]
        }
      ]
    },
    {
      "cell_type": "markdown",
      "source": [
        "## 2018 tiles"
      ],
      "metadata": {
        "id": "mtu9eL887r7w"
      }
    },
    {
      "cell_type": "code",
      "source": [
        "!mkdir '/content/kahuku2018'\n",
        "!mkdir '/content/kahuku2018/Images'\n",
        "!mkdir '/content/kahuku2018/Labels'\n",
        "\n",
        "!mkdir '/content/kahuku2019'\n",
        "!mkdir '/content/kahuku2019/Images'\n",
        "!mkdir '/content/kahuku2019/Labels'\n",
        "\n",
        "!mkdir '/content/kahuku2020'\n",
        "!mkdir '/content/kahuku2020/Images'\n",
        "!mkdir '/content/kahuku2020/Labels'"
      ],
      "metadata": {
        "id": "gAsvfrfo7pio",
        "outputId": "5a35f932-3bb1-4fe8-e181-543678e8a3e1",
        "colab": {
          "base_uri": "https://localhost:8080/"
        }
      },
      "execution_count": 295,
      "outputs": [
        {
          "output_type": "stream",
          "name": "stdout",
          "text": [
            "mkdir: cannot create directory ‘/content/kahuku2018’: File exists\n",
            "mkdir: cannot create directory ‘/content/kahuku2018/Images’: File exists\n",
            "mkdir: cannot create directory ‘/content/kahuku2018/Labels’: File exists\n",
            "mkdir: cannot create directory ‘/content/kahuku2019’: File exists\n",
            "mkdir: cannot create directory ‘/content/kahuku2019/Images’: File exists\n",
            "mkdir: cannot create directory ‘/content/kahuku2019/Labels’: File exists\n",
            "mkdir: cannot create directory ‘/content/kahuku2020’: File exists\n",
            "mkdir: cannot create directory ‘/content/kahuku2020/Images’: File exists\n",
            "mkdir: cannot create directory ‘/content/kahuku2020/Labels’: File exists\n"
          ]
        }
      ]
    },
    {
      "cell_type": "code",
      "source": [
        "# Unzip the file and place the files to the newly cerated directory (CCAP/image_chips/ISLAND)\n",
        "!unzip /content/drive/MyDrive/data/wetland_project/processed_data/landsat/kahuku2018.zip -d /content/CCAP/"
      ],
      "metadata": {
        "outputId": "8d316049-8c8a-4077-ca43-352d9c1f53ba",
        "colab": {
          "base_uri": "https://localhost:8080/"
        },
        "id": "WRIWRzwV7pip"
      },
      "execution_count": 296,
      "outputs": [
        {
          "output_type": "stream",
          "name": "stdout",
          "text": [
            "Archive:  /content/drive/MyDrive/data/wetland_project/processed_data/landsat/kahuku2018.zip\n",
            "replace /content/CCAP/content/kahuku2018/Images/1_1.tif? [y]es, [n]o, [A]ll, [N]one, [r]ename: "
          ]
        }
      ]
    },
    {
      "cell_type": "code",
      "source": [
        "!unzip /content/drive/MyDrive/data/wetland_project/processed_data/landsat/kahuku2019.zip -d /content/CCAP/"
      ],
      "metadata": {
        "outputId": "e4188985-8310-4fc6-fb79-991643e09c5f",
        "colab": {
          "base_uri": "https://localhost:8080/"
        },
        "id": "KR7i8iY57pip"
      },
      "execution_count": 297,
      "outputs": [
        {
          "output_type": "stream",
          "name": "stdout",
          "text": [
            "Archive:  /content/drive/MyDrive/data/wetland_project/processed_data/landsat/kahuku2019.zip\n",
            "replace /content/CCAP/content/kahuku2019/Images/1_1.tif? [y]es, [n]o, [A]ll, [N]one, [r]ename: "
          ]
        }
      ]
    },
    {
      "cell_type": "code",
      "source": [
        "!unzip /content/drive/MyDrive/data/wetland_project/processed_data/landsat/kahuku2020.zip -d /content/CCAP/"
      ],
      "metadata": {
        "outputId": "b38d7b7f-51ba-4071-9e04-abc45065fddd",
        "colab": {
          "base_uri": "https://localhost:8080/"
        },
        "id": "Q0bRIkMW7pip"
      },
      "execution_count": 298,
      "outputs": [
        {
          "output_type": "stream",
          "name": "stdout",
          "text": [
            "Archive:  /content/drive/MyDrive/data/wetland_project/processed_data/landsat/kahuku2020.zip\n",
            "replace /content/CCAP/content/kahuku2020/Images/1_1.tif? [y]es, [n]o, [A]ll, [N]one, [r]ename: "
          ]
        }
      ]
    },
    {
      "cell_type": "code",
      "source": [
        "# original images and labels folder: how many files are there?\n",
        "org_img = '/content/CCAP/content/kahuku2018/Images'\n",
        "org_img_files = os.listdir(org_img)\n",
        "org_img_count = len(org_img_files)\n",
        "print(f'The number of files in the folder is: {org_img_count}')\n",
        "org_label = '/content/CCAP/content/kahuku2018/Labels'\n",
        "org_label_files = os.listdir(org_label)\n",
        "org_label_count = len(org_label_files)\n",
        "print(f'The number of files in the folder is: {org_label_count}')"
      ],
      "metadata": {
        "colab": {
          "base_uri": "https://localhost:8080/"
        },
        "outputId": "7c16702b-5168-4bee-833b-fd52ad98c726",
        "id": "sYAHwD3o7pip"
      },
      "execution_count": 299,
      "outputs": [
        {
          "output_type": "stream",
          "name": "stdout",
          "text": [
            "The number of files in the folder is: 24\n",
            "The number of files in the folder is: 24\n"
          ]
        }
      ]
    },
    {
      "cell_type": "code",
      "source": [
        "df = pd.read_csv('/content/CCAP/content/kahuku2018/kahuku2018.csv')"
      ],
      "metadata": {
        "id": "yxZKFbZE7pip"
      },
      "execution_count": 300,
      "outputs": []
    },
    {
      "cell_type": "code",
      "source": [
        "subset_df = df[(df['label'] > 12) & (df['label'] < 19)]"
      ],
      "metadata": {
        "id": "erk_VYC77pip"
      },
      "execution_count": 301,
      "outputs": []
    },
    {
      "cell_type": "code",
      "source": [
        "# subset_df"
      ],
      "metadata": {
        "id": "jJvKok9G7pip"
      },
      "execution_count": 302,
      "outputs": []
    },
    {
      "cell_type": "code",
      "source": [
        "subset_df = subset_df.copy()  # Create a copy of the subset DataFrame to avoid modifying the original\n",
        "subset_df['tif_name'] = subset_df['x_org'].astype(str) + \"_\" + subset_df['y_org'].astype(str) + \".tif\""
      ],
      "metadata": {
        "id": "YSJtpcRb7pip"
      },
      "execution_count": 303,
      "outputs": []
    },
    {
      "cell_type": "code",
      "source": [
        "# subset_df"
      ],
      "metadata": {
        "id": "AjLsnbQ67piq"
      },
      "execution_count": 304,
      "outputs": []
    },
    {
      "cell_type": "code",
      "source": [
        "# Copy the useable images files to new folder\n",
        "source_images = '/content/CCAP/content/kahuku2018/Images'\n",
        "destination_images = '/content/kahuku2018/Images'\n",
        "for tif_name in subset_df['tif_name']:\n",
        "    source_path = os.path.join(source_images, tif_name)\n",
        "    destination_path = os.path.join(destination_images, tif_name)\n",
        "    try:\n",
        "        shutil.copy(source_path, destination_path)\n",
        "        print(f\"Copied {tif_name} to {destination_images}\")\n",
        "    except FileNotFoundError:\n",
        "        print(f\"File {tif_name} not found in {source_images}\")"
      ],
      "metadata": {
        "colab": {
          "base_uri": "https://localhost:8080/"
        },
        "outputId": "ae9098fe-17bb-40d6-8ae8-4510f295d872",
        "id": "0WEIaa6R7piq"
      },
      "execution_count": 305,
      "outputs": [
        {
          "output_type": "stream",
          "name": "stdout",
          "text": [
            "Copied 1537_1.tif to /content/kahuku2018/Images\n",
            "Copied 513_513.tif to /content/kahuku2018/Images\n",
            "Copied 513_513.tif to /content/kahuku2018/Images\n",
            "Copied 1025_513.tif to /content/kahuku2018/Images\n",
            "Copied 1025_513.tif to /content/kahuku2018/Images\n",
            "Copied 1025_513.tif to /content/kahuku2018/Images\n",
            "Copied 1537_513.tif to /content/kahuku2018/Images\n",
            "Copied 1537_513.tif to /content/kahuku2018/Images\n",
            "Copied 2049_513.tif to /content/kahuku2018/Images\n",
            "Copied 1025_1025.tif to /content/kahuku2018/Images\n",
            "Copied 1537_1025.tif to /content/kahuku2018/Images\n",
            "Copied 1537_1025.tif to /content/kahuku2018/Images\n",
            "Copied 1537_1025.tif to /content/kahuku2018/Images\n",
            "Copied 2049_1025.tif to /content/kahuku2018/Images\n",
            "Copied 2049_1025.tif to /content/kahuku2018/Images\n",
            "Copied 2274_1025.tif to /content/kahuku2018/Images\n",
            "Copied 2274_1025.tif to /content/kahuku2018/Images\n",
            "Copied 1537_1388.tif to /content/kahuku2018/Images\n",
            "Copied 1537_1388.tif to /content/kahuku2018/Images\n",
            "Copied 2049_1388.tif to /content/kahuku2018/Images\n",
            "Copied 2049_1388.tif to /content/kahuku2018/Images\n",
            "Copied 2274_1388.tif to /content/kahuku2018/Images\n",
            "Copied 2274_1388.tif to /content/kahuku2018/Images\n"
          ]
        }
      ]
    },
    {
      "cell_type": "code",
      "source": [
        "# Copy the useable labels files to new folder\n",
        "source_labels = '/content/CCAP/content/kahuku2018/Labels'\n",
        "destination_labels = '/content/kahuku2018/Labels'\n",
        "for tif_name in subset_df['tif_name']:\n",
        "    source_path = os.path.join(source_labels, tif_name)\n",
        "    destination_path = os.path.join(destination_labels, tif_name)\n",
        "    try:\n",
        "        shutil.copy(source_path, destination_path)\n",
        "        print(f\"Copied {tif_name} to {destination_labels}\")\n",
        "    except FileNotFoundError:\n",
        "        print(f\"File {tif_name} not found in {source_labels}\")"
      ],
      "metadata": {
        "colab": {
          "base_uri": "https://localhost:8080/"
        },
        "outputId": "79a47d12-b34f-4deb-f9f0-21d00f557aee",
        "id": "rH_gU6eq7piq"
      },
      "execution_count": 306,
      "outputs": [
        {
          "output_type": "stream",
          "name": "stdout",
          "text": [
            "Copied 1537_1.tif to /content/kahuku2018/Labels\n",
            "Copied 513_513.tif to /content/kahuku2018/Labels\n",
            "Copied 513_513.tif to /content/kahuku2018/Labels\n",
            "Copied 1025_513.tif to /content/kahuku2018/Labels\n",
            "Copied 1025_513.tif to /content/kahuku2018/Labels\n",
            "Copied 1025_513.tif to /content/kahuku2018/Labels\n",
            "Copied 1537_513.tif to /content/kahuku2018/Labels\n",
            "Copied 1537_513.tif to /content/kahuku2018/Labels\n",
            "Copied 2049_513.tif to /content/kahuku2018/Labels\n",
            "Copied 1025_1025.tif to /content/kahuku2018/Labels\n",
            "Copied 1537_1025.tif to /content/kahuku2018/Labels\n",
            "Copied 1537_1025.tif to /content/kahuku2018/Labels\n",
            "Copied 1537_1025.tif to /content/kahuku2018/Labels\n",
            "Copied 2049_1025.tif to /content/kahuku2018/Labels\n",
            "Copied 2049_1025.tif to /content/kahuku2018/Labels\n",
            "Copied 2274_1025.tif to /content/kahuku2018/Labels\n",
            "Copied 2274_1025.tif to /content/kahuku2018/Labels\n",
            "Copied 1537_1388.tif to /content/kahuku2018/Labels\n",
            "Copied 1537_1388.tif to /content/kahuku2018/Labels\n",
            "Copied 2049_1388.tif to /content/kahuku2018/Labels\n",
            "Copied 2049_1388.tif to /content/kahuku2018/Labels\n",
            "Copied 2274_1388.tif to /content/kahuku2018/Labels\n",
            "Copied 2274_1388.tif to /content/kahuku2018/Labels\n"
          ]
        }
      ]
    },
    {
      "cell_type": "code",
      "source": [
        "# NEW images and labels folder: how many files are there?\n",
        "new_img = '/content/kahuku2018/Images'\n",
        "new_img_files = os.listdir(new_img)\n",
        "new_img_count = len(new_img_files)\n",
        "print(f'The number of files in the folder is: {new_img_count}')\n",
        "new_label = '/content/kahuku2018/Labels'\n",
        "new_label_files = os.listdir(new_label)\n",
        "new_label_count = len(new_label_files)\n",
        "print(f'The number of files in the folder is: {new_label_count}')"
      ],
      "metadata": {
        "colab": {
          "base_uri": "https://localhost:8080/"
        },
        "outputId": "ed419812-71c9-4163-e406-8f0ecc5f5c60",
        "id": "yI6xVuMF7piq"
      },
      "execution_count": 307,
      "outputs": [
        {
          "output_type": "stream",
          "name": "stdout",
          "text": [
            "The number of files in the folder is: 12\n",
            "The number of files in the folder is: 12\n"
          ]
        }
      ]
    },
    {
      "cell_type": "code",
      "source": [
        "# Define the file path where you want to save the CSV file\n",
        "csv_file_path = '/content/kahuku2018_subset.csv'\n",
        "subset_df.to_csv(csv_file_path, index=False)\n",
        "print(f\"DataFrame exported to {csv_file_path}\")"
      ],
      "metadata": {
        "colab": {
          "base_uri": "https://localhost:8080/"
        },
        "outputId": "77288c99-1bcd-435c-aec1-655731a5cee3",
        "id": "gJWcfTQs7piq"
      },
      "execution_count": 308,
      "outputs": [
        {
          "output_type": "stream",
          "name": "stdout",
          "text": [
            "DataFrame exported to /content/kahuku2018_subset.csv\n"
          ]
        }
      ]
    },
    {
      "cell_type": "code",
      "source": [
        "# Define the path to the 'wetland_categories' folder\n",
        "folder_to_zip = '/content/kahuku2018'\n",
        "zip_file_path = '/content/kahuku2018_subset.zip'\n",
        "shutil.make_archive(zip_file_path[:-4], 'zip', folder_to_zip)\n",
        "print(f'ZIP file created: {zip_file_path}')"
      ],
      "metadata": {
        "colab": {
          "base_uri": "https://localhost:8080/",
          "height": 373
        },
        "outputId": "c28cb1d0-0edd-4e0f-8f73-8a42933f48d5",
        "id": "fpmBa6s07piq"
      },
      "execution_count": 309,
      "outputs": [
        {
          "output_type": "error",
          "ename": "KeyboardInterrupt",
          "evalue": "",
          "traceback": [
            "\u001b[0;31m---------------------------------------------------------------------------\u001b[0m",
            "\u001b[0;31mKeyboardInterrupt\u001b[0m                         Traceback (most recent call last)",
            "\u001b[0;32m<ipython-input-309-ccfb8c01ddd6>\u001b[0m in \u001b[0;36m<cell line: 4>\u001b[0;34m()\u001b[0m\n\u001b[1;32m      2\u001b[0m \u001b[0mfolder_to_zip\u001b[0m \u001b[0;34m=\u001b[0m \u001b[0;34m'/content/kahuku2018'\u001b[0m\u001b[0;34m\u001b[0m\u001b[0;34m\u001b[0m\u001b[0m\n\u001b[1;32m      3\u001b[0m \u001b[0mzip_file_path\u001b[0m \u001b[0;34m=\u001b[0m \u001b[0;34m'/content/kahuku2018_subset.zip'\u001b[0m\u001b[0;34m\u001b[0m\u001b[0;34m\u001b[0m\u001b[0m\n\u001b[0;32m----> 4\u001b[0;31m \u001b[0mshutil\u001b[0m\u001b[0;34m.\u001b[0m\u001b[0mmake_archive\u001b[0m\u001b[0;34m(\u001b[0m\u001b[0mzip_file_path\u001b[0m\u001b[0;34m[\u001b[0m\u001b[0;34m:\u001b[0m\u001b[0;34m-\u001b[0m\u001b[0;36m4\u001b[0m\u001b[0;34m]\u001b[0m\u001b[0;34m,\u001b[0m \u001b[0;34m'zip'\u001b[0m\u001b[0;34m,\u001b[0m \u001b[0mfolder_to_zip\u001b[0m\u001b[0;34m)\u001b[0m\u001b[0;34m\u001b[0m\u001b[0;34m\u001b[0m\u001b[0m\n\u001b[0m\u001b[1;32m      5\u001b[0m \u001b[0mprint\u001b[0m\u001b[0;34m(\u001b[0m\u001b[0;34mf'ZIP file created: {zip_file_path}'\u001b[0m\u001b[0;34m)\u001b[0m\u001b[0;34m\u001b[0m\u001b[0;34m\u001b[0m\u001b[0m\n",
            "\u001b[0;32m/usr/lib/python3.10/shutil.py\u001b[0m in \u001b[0;36mmake_archive\u001b[0;34m(base_name, format, root_dir, base_dir, verbose, dry_run, owner, group, logger)\u001b[0m\n\u001b[1;32m   1122\u001b[0m \u001b[0;34m\u001b[0m\u001b[0m\n\u001b[1;32m   1123\u001b[0m     \u001b[0;32mtry\u001b[0m\u001b[0;34m:\u001b[0m\u001b[0;34m\u001b[0m\u001b[0;34m\u001b[0m\u001b[0m\n\u001b[0;32m-> 1124\u001b[0;31m         \u001b[0mfilename\u001b[0m \u001b[0;34m=\u001b[0m \u001b[0mfunc\u001b[0m\u001b[0;34m(\u001b[0m\u001b[0mbase_name\u001b[0m\u001b[0;34m,\u001b[0m \u001b[0mbase_dir\u001b[0m\u001b[0;34m,\u001b[0m \u001b[0;34m**\u001b[0m\u001b[0mkwargs\u001b[0m\u001b[0;34m)\u001b[0m\u001b[0;34m\u001b[0m\u001b[0;34m\u001b[0m\u001b[0m\n\u001b[0m\u001b[1;32m   1125\u001b[0m     \u001b[0;32mfinally\u001b[0m\u001b[0;34m:\u001b[0m\u001b[0;34m\u001b[0m\u001b[0;34m\u001b[0m\u001b[0m\n\u001b[1;32m   1126\u001b[0m         \u001b[0;32mif\u001b[0m \u001b[0msave_cwd\u001b[0m \u001b[0;32mis\u001b[0m \u001b[0;32mnot\u001b[0m \u001b[0;32mNone\u001b[0m\u001b[0;34m:\u001b[0m\u001b[0;34m\u001b[0m\u001b[0;34m\u001b[0m\u001b[0m\n",
            "\u001b[0;32m/usr/lib/python3.10/shutil.py\u001b[0m in \u001b[0;36m_make_zipfile\u001b[0;34m(base_name, base_dir, verbose, dry_run, logger, owner, group, root_dir)\u001b[0m\n\u001b[1;32m   1007\u001b[0m                     \u001b[0;32mif\u001b[0m \u001b[0mos\u001b[0m\u001b[0;34m.\u001b[0m\u001b[0mpath\u001b[0m\u001b[0;34m.\u001b[0m\u001b[0misfile\u001b[0m\u001b[0;34m(\u001b[0m\u001b[0mpath\u001b[0m\u001b[0;34m)\u001b[0m\u001b[0;34m:\u001b[0m\u001b[0;34m\u001b[0m\u001b[0;34m\u001b[0m\u001b[0m\n\u001b[1;32m   1008\u001b[0m                         \u001b[0marcname\u001b[0m \u001b[0;34m=\u001b[0m \u001b[0mos\u001b[0m\u001b[0;34m.\u001b[0m\u001b[0mpath\u001b[0m\u001b[0;34m.\u001b[0m\u001b[0mjoin\u001b[0m\u001b[0;34m(\u001b[0m\u001b[0marcdirpath\u001b[0m\u001b[0;34m,\u001b[0m \u001b[0mname\u001b[0m\u001b[0;34m)\u001b[0m\u001b[0;34m\u001b[0m\u001b[0;34m\u001b[0m\u001b[0m\n\u001b[0;32m-> 1009\u001b[0;31m                         \u001b[0mzf\u001b[0m\u001b[0;34m.\u001b[0m\u001b[0mwrite\u001b[0m\u001b[0;34m(\u001b[0m\u001b[0mpath\u001b[0m\u001b[0;34m,\u001b[0m \u001b[0marcname\u001b[0m\u001b[0;34m)\u001b[0m\u001b[0;34m\u001b[0m\u001b[0;34m\u001b[0m\u001b[0m\n\u001b[0m\u001b[1;32m   1010\u001b[0m                         \u001b[0;32mif\u001b[0m \u001b[0mlogger\u001b[0m \u001b[0;32mis\u001b[0m \u001b[0;32mnot\u001b[0m \u001b[0;32mNone\u001b[0m\u001b[0;34m:\u001b[0m\u001b[0;34m\u001b[0m\u001b[0;34m\u001b[0m\u001b[0m\n\u001b[1;32m   1011\u001b[0m                             \u001b[0mlogger\u001b[0m\u001b[0;34m.\u001b[0m\u001b[0minfo\u001b[0m\u001b[0;34m(\u001b[0m\u001b[0;34m\"adding '%s'\"\u001b[0m\u001b[0;34m,\u001b[0m \u001b[0mpath\u001b[0m\u001b[0;34m)\u001b[0m\u001b[0;34m\u001b[0m\u001b[0;34m\u001b[0m\u001b[0m\n",
            "\u001b[0;32m/usr/lib/python3.10/zipfile.py\u001b[0m in \u001b[0;36mwrite\u001b[0;34m(self, filename, arcname, compress_type, compresslevel)\u001b[0m\n\u001b[1;32m   1774\u001b[0m         \u001b[0;32melse\u001b[0m\u001b[0;34m:\u001b[0m\u001b[0;34m\u001b[0m\u001b[0;34m\u001b[0m\u001b[0m\n\u001b[1;32m   1775\u001b[0m             \u001b[0;32mwith\u001b[0m \u001b[0mopen\u001b[0m\u001b[0;34m(\u001b[0m\u001b[0mfilename\u001b[0m\u001b[0;34m,\u001b[0m \u001b[0;34m\"rb\"\u001b[0m\u001b[0;34m)\u001b[0m \u001b[0;32mas\u001b[0m \u001b[0msrc\u001b[0m\u001b[0;34m,\u001b[0m \u001b[0mself\u001b[0m\u001b[0;34m.\u001b[0m\u001b[0mopen\u001b[0m\u001b[0;34m(\u001b[0m\u001b[0mzinfo\u001b[0m\u001b[0;34m,\u001b[0m \u001b[0;34m'w'\u001b[0m\u001b[0;34m)\u001b[0m \u001b[0;32mas\u001b[0m \u001b[0mdest\u001b[0m\u001b[0;34m:\u001b[0m\u001b[0;34m\u001b[0m\u001b[0;34m\u001b[0m\u001b[0m\n\u001b[0;32m-> 1776\u001b[0;31m                 \u001b[0mshutil\u001b[0m\u001b[0;34m.\u001b[0m\u001b[0mcopyfileobj\u001b[0m\u001b[0;34m(\u001b[0m\u001b[0msrc\u001b[0m\u001b[0;34m,\u001b[0m \u001b[0mdest\u001b[0m\u001b[0;34m,\u001b[0m \u001b[0;36m1024\u001b[0m\u001b[0;34m*\u001b[0m\u001b[0;36m8\u001b[0m\u001b[0;34m)\u001b[0m\u001b[0;34m\u001b[0m\u001b[0;34m\u001b[0m\u001b[0m\n\u001b[0m\u001b[1;32m   1777\u001b[0m \u001b[0;34m\u001b[0m\u001b[0m\n\u001b[1;32m   1778\u001b[0m     def writestr(self, zinfo_or_arcname, data,\n",
            "\u001b[0;32m/usr/lib/python3.10/shutil.py\u001b[0m in \u001b[0;36mcopyfileobj\u001b[0;34m(fsrc, fdst, length)\u001b[0m\n\u001b[1;32m    196\u001b[0m         \u001b[0;32mif\u001b[0m \u001b[0;32mnot\u001b[0m \u001b[0mbuf\u001b[0m\u001b[0;34m:\u001b[0m\u001b[0;34m\u001b[0m\u001b[0;34m\u001b[0m\u001b[0m\n\u001b[1;32m    197\u001b[0m             \u001b[0;32mbreak\u001b[0m\u001b[0;34m\u001b[0m\u001b[0;34m\u001b[0m\u001b[0m\n\u001b[0;32m--> 198\u001b[0;31m         \u001b[0mfdst_write\u001b[0m\u001b[0;34m(\u001b[0m\u001b[0mbuf\u001b[0m\u001b[0;34m)\u001b[0m\u001b[0;34m\u001b[0m\u001b[0;34m\u001b[0m\u001b[0m\n\u001b[0m\u001b[1;32m    199\u001b[0m \u001b[0;34m\u001b[0m\u001b[0m\n\u001b[1;32m    200\u001b[0m \u001b[0;32mdef\u001b[0m \u001b[0m_samefile\u001b[0m\u001b[0;34m(\u001b[0m\u001b[0msrc\u001b[0m\u001b[0;34m,\u001b[0m \u001b[0mdst\u001b[0m\u001b[0;34m)\u001b[0m\u001b[0;34m:\u001b[0m\u001b[0;34m\u001b[0m\u001b[0;34m\u001b[0m\u001b[0m\n",
            "\u001b[0;32m/usr/lib/python3.10/zipfile.py\u001b[0m in \u001b[0;36mwrite\u001b[0;34m(self, data)\u001b[0m\n\u001b[1;32m   1137\u001b[0m         \u001b[0mself\u001b[0m\u001b[0;34m.\u001b[0m\u001b[0m_crc\u001b[0m \u001b[0;34m=\u001b[0m \u001b[0mcrc32\u001b[0m\u001b[0;34m(\u001b[0m\u001b[0mdata\u001b[0m\u001b[0;34m,\u001b[0m \u001b[0mself\u001b[0m\u001b[0;34m.\u001b[0m\u001b[0m_crc\u001b[0m\u001b[0;34m)\u001b[0m\u001b[0;34m\u001b[0m\u001b[0;34m\u001b[0m\u001b[0m\n\u001b[1;32m   1138\u001b[0m         \u001b[0;32mif\u001b[0m \u001b[0mself\u001b[0m\u001b[0;34m.\u001b[0m\u001b[0m_compressor\u001b[0m\u001b[0;34m:\u001b[0m\u001b[0;34m\u001b[0m\u001b[0;34m\u001b[0m\u001b[0m\n\u001b[0;32m-> 1139\u001b[0;31m             \u001b[0mdata\u001b[0m \u001b[0;34m=\u001b[0m \u001b[0mself\u001b[0m\u001b[0;34m.\u001b[0m\u001b[0m_compressor\u001b[0m\u001b[0;34m.\u001b[0m\u001b[0mcompress\u001b[0m\u001b[0;34m(\u001b[0m\u001b[0mdata\u001b[0m\u001b[0;34m)\u001b[0m\u001b[0;34m\u001b[0m\u001b[0;34m\u001b[0m\u001b[0m\n\u001b[0m\u001b[1;32m   1140\u001b[0m             \u001b[0mself\u001b[0m\u001b[0;34m.\u001b[0m\u001b[0m_compress_size\u001b[0m \u001b[0;34m+=\u001b[0m \u001b[0mlen\u001b[0m\u001b[0;34m(\u001b[0m\u001b[0mdata\u001b[0m\u001b[0;34m)\u001b[0m\u001b[0;34m\u001b[0m\u001b[0;34m\u001b[0m\u001b[0m\n\u001b[1;32m   1141\u001b[0m         \u001b[0mself\u001b[0m\u001b[0;34m.\u001b[0m\u001b[0m_fileobj\u001b[0m\u001b[0;34m.\u001b[0m\u001b[0mwrite\u001b[0m\u001b[0;34m(\u001b[0m\u001b[0mdata\u001b[0m\u001b[0;34m)\u001b[0m\u001b[0;34m\u001b[0m\u001b[0;34m\u001b[0m\u001b[0m\n",
            "\u001b[0;31mKeyboardInterrupt\u001b[0m: "
          ]
        }
      ]
    },
    {
      "cell_type": "code",
      "source": [
        "# Define the destination folder in Google Drive\n",
        "drive_folder = '/content/drive/MyDrive/data/wetland_project/trainingdata/landsat'\n",
        "shutil.move(zip_file_path, drive_folder)\n",
        "print(f'ZIP file moved to Google Drive: {drive_folder}')\n",
        "shutil.move(csv_file_path, drive_folder)\n",
        "print(f'CSV file moved to Google Drive: {drive_folder}')"
      ],
      "metadata": {
        "id": "mRTpA5IN7piq"
      },
      "execution_count": null,
      "outputs": []
    },
    {
      "cell_type": "markdown",
      "source": [
        "## 2019 tiles"
      ],
      "metadata": {
        "id": "cnAfnhKV8H_W"
      }
    },
    {
      "cell_type": "code",
      "source": [
        "# original images and labels folder: how many files are there?\n",
        "org_img = '/content/CCAP/content/kahuku2019/Images'\n",
        "org_img_files = os.listdir(org_img)\n",
        "org_img_count = len(org_img_files)\n",
        "print(f'The number of files in the folder is: {org_img_count}')\n",
        "org_label = '/content/CCAP/content/kahuku2019/Labels'\n",
        "org_label_files = os.listdir(org_label)\n",
        "org_label_count = len(org_label_files)\n",
        "print(f'The number of files in the folder is: {org_label_count}')"
      ],
      "metadata": {
        "id": "qQdm7-SN8CUG"
      },
      "execution_count": null,
      "outputs": []
    },
    {
      "cell_type": "code",
      "source": [
        "df = pd.read_csv('/content/CCAP/content/kahuku2019/kahuku2019.csv')"
      ],
      "metadata": {
        "id": "4-C6KpWJ8CUM"
      },
      "execution_count": null,
      "outputs": []
    },
    {
      "cell_type": "code",
      "source": [
        "subset_df = df[(df['label'] > 12) & (df['label'] < 19)]"
      ],
      "metadata": {
        "id": "MGc0x8cH8CUM"
      },
      "execution_count": null,
      "outputs": []
    },
    {
      "cell_type": "code",
      "source": [
        "# subset_df"
      ],
      "metadata": {
        "id": "_qJ65YrT8CUM"
      },
      "execution_count": null,
      "outputs": []
    },
    {
      "cell_type": "code",
      "source": [
        "subset_df = subset_df.copy()  # Create a copy of the subset DataFrame to avoid modifying the original\n",
        "subset_df['tif_name'] = subset_df['x_org'].astype(str) + \"_\" + subset_df['y_org'].astype(str) + \".tif\""
      ],
      "metadata": {
        "id": "MECJ2qKa8CUM"
      },
      "execution_count": null,
      "outputs": []
    },
    {
      "cell_type": "code",
      "source": [
        "# subset_df"
      ],
      "metadata": {
        "id": "3OTfcCl88CUM"
      },
      "execution_count": null,
      "outputs": []
    },
    {
      "cell_type": "code",
      "source": [
        "# Copy the useable images files to new folder\n",
        "source_images = '/content/CCAP/content/kahuku2019/Images'\n",
        "destination_images = '/content/kahuku2019/Images'\n",
        "for tif_name in subset_df['tif_name']:\n",
        "    source_path = os.path.join(source_images, tif_name)\n",
        "    destination_path = os.path.join(destination_images, tif_name)\n",
        "    try:\n",
        "        shutil.copy(source_path, destination_path)\n",
        "        print(f\"Copied {tif_name} to {destination_images}\")\n",
        "    except FileNotFoundError:\n",
        "        print(f\"File {tif_name} not found in {source_images}\")"
      ],
      "metadata": {
        "id": "CghWAoBV8CUM"
      },
      "execution_count": null,
      "outputs": []
    },
    {
      "cell_type": "code",
      "source": [
        "# Copy the useable labels files to new folder\n",
        "source_labels = '/content/CCAP/content/kahuku2019/Labels'\n",
        "destination_labels = '/content/kahuku2019/Labels'\n",
        "for tif_name in subset_df['tif_name']:\n",
        "    source_path = os.path.join(source_labels, tif_name)\n",
        "    destination_path = os.path.join(destination_labels, tif_name)\n",
        "    try:\n",
        "        shutil.copy(source_path, destination_path)\n",
        "        print(f\"Copied {tif_name} to {destination_labels}\")\n",
        "    except FileNotFoundError:\n",
        "        print(f\"File {tif_name} not found in {source_labels}\")"
      ],
      "metadata": {
        "id": "1xcolzhn8CUM"
      },
      "execution_count": null,
      "outputs": []
    },
    {
      "cell_type": "code",
      "source": [
        "# NEW images and labels folder: how many files are there?\n",
        "new_img = '/content/kahuku2019/Images'\n",
        "new_img_files = os.listdir(new_img)\n",
        "new_img_count = len(new_img_files)\n",
        "print(f'The number of files in the folder is: {new_img_count}')\n",
        "new_label = '/content/kahuku2019/Labels'\n",
        "new_label_files = os.listdir(new_label)\n",
        "new_label_count = len(new_label_files)\n",
        "print(f'The number of files in the folder is: {new_label_count}')"
      ],
      "metadata": {
        "id": "YT76tzQa8CUM"
      },
      "execution_count": null,
      "outputs": []
    },
    {
      "cell_type": "code",
      "source": [
        "# Define the file path where you want to save the CSV file\n",
        "csv_file_path = '/content/kahuku2019_subset.csv'\n",
        "subset_df.to_csv(csv_file_path, index=False)\n",
        "print(f\"DataFrame exported to {csv_file_path}\")"
      ],
      "metadata": {
        "id": "uN_3omsm8CUM"
      },
      "execution_count": null,
      "outputs": []
    },
    {
      "cell_type": "code",
      "source": [
        "# Define the path to the 'wetland_categories' folder\n",
        "folder_to_zip = '/content/kahuku2019'\n",
        "zip_file_path = '/content/kahuku2019_subset.zip'\n",
        "shutil.make_archive(zip_file_path[:-4], 'zip', folder_to_zip)\n",
        "print(f'ZIP file created: {zip_file_path}')"
      ],
      "metadata": {
        "id": "_PkhUTni8CUM"
      },
      "execution_count": null,
      "outputs": []
    },
    {
      "cell_type": "code",
      "source": [
        "# Define the destination folder in Google Drive\n",
        "drive_folder = '/content/drive/MyDrive/data/wetland_project/trainingdata/landsat'\n",
        "shutil.move(zip_file_path, drive_folder)\n",
        "print(f'ZIP file moved to Google Drive: {drive_folder}')\n",
        "shutil.move(csv_file_path, drive_folder)\n",
        "print(f'CSV file moved to Google Drive: {drive_folder}')"
      ],
      "metadata": {
        "id": "T_k6GUK-8CUM"
      },
      "execution_count": null,
      "outputs": []
    },
    {
      "cell_type": "markdown",
      "source": [
        "## 2020 cells"
      ],
      "metadata": {
        "id": "43_J5Vvl8RcN"
      }
    },
    {
      "cell_type": "code",
      "source": [
        "# original images and labels folder: how many files are there?\n",
        "org_img = '/content/CCAP/content/kahuku2020/Images'\n",
        "org_img_files = os.listdir(org_img)\n",
        "org_img_count = len(org_img_files)\n",
        "print(f'The number of files in the folder is: {org_img_count}')\n",
        "org_label = '/content/CCAP/content/kahuku2020/Labels'\n",
        "org_label_files = os.listdir(org_label)\n",
        "org_label_count = len(org_label_files)\n",
        "print(f'The number of files in the folder is: {org_label_count}')"
      ],
      "metadata": {
        "id": "hOzj2KiQ8QL8"
      },
      "execution_count": null,
      "outputs": []
    },
    {
      "cell_type": "code",
      "source": [
        "df = pd.read_csv('/content/CCAP/content/kahuku2020/kahuku2020.csv')"
      ],
      "metadata": {
        "id": "oPX0e28k8QMC"
      },
      "execution_count": null,
      "outputs": []
    },
    {
      "cell_type": "code",
      "source": [
        "subset_df = df[(df['label'] > 12) & (df['label'] < 19)]"
      ],
      "metadata": {
        "id": "IpMg75qe8QMC"
      },
      "execution_count": null,
      "outputs": []
    },
    {
      "cell_type": "code",
      "source": [
        "# subset_df"
      ],
      "metadata": {
        "id": "bB45_2998QMC"
      },
      "execution_count": null,
      "outputs": []
    },
    {
      "cell_type": "code",
      "source": [
        "subset_df = subset_df.copy()  # Create a copy of the subset DataFrame to avoid modifying the original\n",
        "subset_df['tif_name'] = subset_df['x_org'].astype(str) + \"_\" + subset_df['y_org'].astype(str) + \".tif\""
      ],
      "metadata": {
        "id": "nU03n84j8QMD"
      },
      "execution_count": null,
      "outputs": []
    },
    {
      "cell_type": "code",
      "source": [
        "# subset_df"
      ],
      "metadata": {
        "id": "duiIeoNp8QMD"
      },
      "execution_count": null,
      "outputs": []
    },
    {
      "cell_type": "code",
      "source": [
        "# Copy the useable images files to new folder\n",
        "source_images = '/content/CCAP/content/kahuku2020/Images'\n",
        "destination_images = '/content/kahuku2020/Images'\n",
        "for tif_name in subset_df['tif_name']:\n",
        "    source_path = os.path.join(source_images, tif_name)\n",
        "    destination_path = os.path.join(destination_images, tif_name)\n",
        "    try:\n",
        "        shutil.copy(source_path, destination_path)\n",
        "        print(f\"Copied {tif_name} to {destination_images}\")\n",
        "    except FileNotFoundError:\n",
        "        print(f\"File {tif_name} not found in {source_images}\")"
      ],
      "metadata": {
        "id": "q__biEje8QMD"
      },
      "execution_count": null,
      "outputs": []
    },
    {
      "cell_type": "code",
      "source": [
        "# Copy the useable labels files to new folder\n",
        "source_labels = '/content/CCAP/content/kahuku2020/Labels'\n",
        "destination_labels = '/content/kahuku2020/Labels'\n",
        "for tif_name in subset_df['tif_name']:\n",
        "    source_path = os.path.join(source_labels, tif_name)\n",
        "    destination_path = os.path.join(destination_labels, tif_name)\n",
        "    try:\n",
        "        shutil.copy(source_path, destination_path)\n",
        "        print(f\"Copied {tif_name} to {destination_labels}\")\n",
        "    except FileNotFoundError:\n",
        "        print(f\"File {tif_name} not found in {source_labels}\")"
      ],
      "metadata": {
        "id": "0CMEoUyw8QMD"
      },
      "execution_count": null,
      "outputs": []
    },
    {
      "cell_type": "code",
      "source": [
        "# NEW images and labels folder: how many files are there?\n",
        "new_img = '/content/kahuku2020/Images'\n",
        "new_img_files = os.listdir(new_img)\n",
        "new_img_count = len(new_img_files)\n",
        "print(f'The number of files in the folder is: {new_img_count}')\n",
        "new_label = '/content/kahuku2020/Labels'\n",
        "new_label_files = os.listdir(new_label)\n",
        "new_label_count = len(new_label_files)\n",
        "print(f'The number of files in the folder is: {new_label_count}')"
      ],
      "metadata": {
        "id": "Yst8fQFG8QMD"
      },
      "execution_count": null,
      "outputs": []
    },
    {
      "cell_type": "code",
      "source": [
        "# Define the file path where you want to save the CSV file\n",
        "csv_file_path = '/content/kahuku2020_subset.csv'\n",
        "subset_df.to_csv(csv_file_path, index=False)\n",
        "print(f\"DataFrame exported to {csv_file_path}\")"
      ],
      "metadata": {
        "id": "RkGEUEBY8QMD"
      },
      "execution_count": null,
      "outputs": []
    },
    {
      "cell_type": "code",
      "source": [
        "# Define the path to the 'wetland_categories' folder\n",
        "folder_to_zip = '/content/kahuku2020'\n",
        "zip_file_path = '/content/kahuku2020_subset.zip'\n",
        "shutil.make_archive(zip_file_path[:-4], 'zip', folder_to_zip)\n",
        "print(f'ZIP file created: {zip_file_path}')"
      ],
      "metadata": {
        "id": "DUztswmE8QMD"
      },
      "execution_count": null,
      "outputs": []
    },
    {
      "cell_type": "code",
      "source": [
        "# Define the destination folder in Google Drive\n",
        "drive_folder = '/content/drive/MyDrive/data/wetland_project/trainingdata/landsat'\n",
        "shutil.move(zip_file_path, drive_folder)\n",
        "print(f'ZIP file moved to Google Drive: {drive_folder}')\n",
        "shutil.move(csv_file_path, drive_folder)\n",
        "print(f'CSV file moved to Google Drive: {drive_folder}')"
      ],
      "metadata": {
        "id": "Q6maNX4W8QMD"
      },
      "execution_count": null,
      "outputs": []
    }
  ]
}