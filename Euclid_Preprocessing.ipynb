{
  "nbformat": 4,
  "nbformat_minor": 0,
  "metadata": {
    "colab": {
      "provenance": []
    },
    "kernelspec": {
      "name": "python3",
      "display_name": "Python 3"
    },
    "language_info": {
      "name": "python"
    }
  },
  "cells": [
    {
      "cell_type": "code",
      "source": [
        "!pip install rasterio\n",
        "!pip install geopandas"
      ],
      "metadata": {
        "id": "MBP0OiuY7OUC",
        "outputId": "c89b3047-621d-478b-ffbf-ffdc56d038e0",
        "colab": {
          "base_uri": "https://localhost:8080/"
        }
      },
      "execution_count": 2,
      "outputs": [
        {
          "output_type": "stream",
          "name": "stdout",
          "text": [
            "Collecting rasterio\n",
            "  Downloading rasterio-1.3.9-cp310-cp310-manylinux2014_x86_64.whl (20.6 MB)\n",
            "\u001b[2K     \u001b[90m━━━━━━━━━━━━━━━━━━━━━━━━━━━━━━━━━━━━━━━━\u001b[0m \u001b[32m20.6/20.6 MB\u001b[0m \u001b[31m62.0 MB/s\u001b[0m eta \u001b[36m0:00:00\u001b[0m\n",
            "\u001b[?25hCollecting affine (from rasterio)\n",
            "  Downloading affine-2.4.0-py3-none-any.whl (15 kB)\n",
            "Requirement already satisfied: attrs in /usr/local/lib/python3.10/dist-packages (from rasterio) (23.2.0)\n",
            "Requirement already satisfied: certifi in /usr/local/lib/python3.10/dist-packages (from rasterio) (2024.2.2)\n",
            "Requirement already satisfied: click>=4.0 in /usr/local/lib/python3.10/dist-packages (from rasterio) (8.1.7)\n",
            "Requirement already satisfied: cligj>=0.5 in /usr/local/lib/python3.10/dist-packages (from rasterio) (0.7.2)\n",
            "Requirement already satisfied: numpy in /usr/local/lib/python3.10/dist-packages (from rasterio) (1.23.5)\n",
            "Collecting snuggs>=1.4.1 (from rasterio)\n",
            "  Downloading snuggs-1.4.7-py3-none-any.whl (5.4 kB)\n",
            "Requirement already satisfied: click-plugins in /usr/local/lib/python3.10/dist-packages (from rasterio) (1.1.1)\n",
            "Requirement already satisfied: setuptools in /usr/local/lib/python3.10/dist-packages (from rasterio) (67.7.2)\n",
            "Requirement already satisfied: pyparsing>=2.1.6 in /usr/local/lib/python3.10/dist-packages (from snuggs>=1.4.1->rasterio) (3.1.1)\n",
            "Installing collected packages: snuggs, affine, rasterio\n",
            "Successfully installed affine-2.4.0 rasterio-1.3.9 snuggs-1.4.7\n",
            "Requirement already satisfied: geopandas in /usr/local/lib/python3.10/dist-packages (0.13.2)\n",
            "Requirement already satisfied: fiona>=1.8.19 in /usr/local/lib/python3.10/dist-packages (from geopandas) (1.9.5)\n",
            "Requirement already satisfied: packaging in /usr/local/lib/python3.10/dist-packages (from geopandas) (23.2)\n",
            "Requirement already satisfied: pandas>=1.1.0 in /usr/local/lib/python3.10/dist-packages (from geopandas) (1.5.3)\n",
            "Requirement already satisfied: pyproj>=3.0.1 in /usr/local/lib/python3.10/dist-packages (from geopandas) (3.6.1)\n",
            "Requirement already satisfied: shapely>=1.7.1 in /usr/local/lib/python3.10/dist-packages (from geopandas) (2.0.2)\n",
            "Requirement already satisfied: attrs>=19.2.0 in /usr/local/lib/python3.10/dist-packages (from fiona>=1.8.19->geopandas) (23.2.0)\n",
            "Requirement already satisfied: certifi in /usr/local/lib/python3.10/dist-packages (from fiona>=1.8.19->geopandas) (2024.2.2)\n",
            "Requirement already satisfied: click~=8.0 in /usr/local/lib/python3.10/dist-packages (from fiona>=1.8.19->geopandas) (8.1.7)\n",
            "Requirement already satisfied: click-plugins>=1.0 in /usr/local/lib/python3.10/dist-packages (from fiona>=1.8.19->geopandas) (1.1.1)\n",
            "Requirement already satisfied: cligj>=0.5 in /usr/local/lib/python3.10/dist-packages (from fiona>=1.8.19->geopandas) (0.7.2)\n",
            "Requirement already satisfied: six in /usr/local/lib/python3.10/dist-packages (from fiona>=1.8.19->geopandas) (1.16.0)\n",
            "Requirement already satisfied: setuptools in /usr/local/lib/python3.10/dist-packages (from fiona>=1.8.19->geopandas) (67.7.2)\n",
            "Requirement already satisfied: python-dateutil>=2.8.1 in /usr/local/lib/python3.10/dist-packages (from pandas>=1.1.0->geopandas) (2.8.2)\n",
            "Requirement already satisfied: pytz>=2020.1 in /usr/local/lib/python3.10/dist-packages (from pandas>=1.1.0->geopandas) (2023.4)\n",
            "Requirement already satisfied: numpy>=1.21.0 in /usr/local/lib/python3.10/dist-packages (from pandas>=1.1.0->geopandas) (1.23.5)\n"
          ]
        }
      ]
    },
    {
      "cell_type": "code",
      "execution_count": 11,
      "metadata": {
        "id": "Ji9y4MJ57A_-"
      },
      "outputs": [],
      "source": [
        "import rasterio\n",
        "import rasterio.plot\n",
        "import geopandas\n",
        "import numpy as np\n",
        "from rasterio.enums import Resampling\n",
        "from google.colab import drive\n",
        "from osgeo import gdal\n",
        "import glob\n",
        "import geopandas as gpd\n",
        "from shapely import geometry"
      ]
    },
    {
      "cell_type": "code",
      "source": [
        "drive.mount('/content/drive')"
      ],
      "metadata": {
        "id": "pF05hvWIR7dR",
        "outputId": "da9c7e73-6cfa-4aab-f774-30dfc6dcc517",
        "colab": {
          "base_uri": "https://localhost:8080/"
        }
      },
      "execution_count": 7,
      "outputs": [
        {
          "output_type": "stream",
          "name": "stdout",
          "text": [
            "Mounted at /content/drive\n"
          ]
        }
      ]
    },
    {
      "cell_type": "code",
      "source": [
        "imagery_vrt = \"D:/madronus/Land_Cover/redwood/rgb_combined/rgb-imagery.vrt\"\n",
        "nir_vrt = \"D:/madronus/Land_Cover/redwood/nir_combined/nir-imagery.vrt\"\n",
        "label_vrt = \"D:/madronus/Land_Cover/AOI_2/Classified/classified_raster.tif\"\n",
        "dsm_vrt = \"D:/madronus/Land_Cover/redwood/dsm/expanded_demo_dtm.tif\"\n",
        "training_tiles = geopandas.read_file(\"D:/madronus/Land_Cover/redwood/training_data/validation_processing_grid.gpkg\")\n",
        "target_size = 256"
      ],
      "metadata": {
        "id": "5xar4nwQ7EFK"
      },
      "execution_count": null,
      "outputs": []
    },
    {
      "cell_type": "code",
      "source": [
        "  # Read the shapefile\n",
        "  gdf = gpd.read_file('/content/drive/MyDrive/pilot_2024_02_01/data/classified_data/lahaina_sub_final.gpkg')\n",
        "\n",
        "  # Reproject to projected coordinate system\n",
        "  gdf = gdf.to_crs('EPSG:3857')\n",
        "\n",
        "  # Get the extent of the shapefile\n",
        "  total_bounds = gdf.total_bounds\n",
        "\n",
        "  # Get minX, minY, maxX, maxY\n",
        "  minX, minY, maxX, maxY = total_bounds\n",
        "\n",
        "  # Create a fishnet\n",
        "  x, y = (minX, minY)\n",
        "  geom_array = []\n",
        "\n",
        "  # Polygon Size\n",
        "  square_size = (0.075*256)\n",
        "  while y <= maxY:\n",
        "      while x <= maxX:\n",
        "          geom = geometry.Polygon([(x,y), (x, y+square_size), (x+square_size, y+square_size), (x+square_size, y), (x, y)])\n",
        "          geom_array.append(geom)\n",
        "          x += square_size\n",
        "      x = minX\n",
        "      y += square_size\n",
        "\n",
        "  fishnet = gpd.GeoDataFrame(geom_array, columns=['geometry']).set_crs('EPSG:3857')"
      ],
      "metadata": {
        "id": "A45qqlFnVMNL"
      },
      "execution_count": 12,
      "outputs": []
    },
    {
      "cell_type": "code",
      "source": [
        "fishnet.to_file('fishnet.gpkg')"
      ],
      "metadata": {
        "id": "CcWIz06MVl4e"
      },
      "execution_count": 14,
      "outputs": []
    },
    {
      "cell_type": "code",
      "source": [
        "for id in training_tiles.id:\n",
        "    print(id)\n",
        "    tile_bounds = training_tiles[training_tiles['id'] == id].envelope.bounds\n",
        "    imagery_file = rasterio.open(imagery_vrt)\n",
        "    imagery_window = imagery_file.window(tile_bounds['minx'].values[0], tile_bounds['miny'].values[0],\n",
        "                                       tile_bounds['maxx'].values[0], tile_bounds['maxy'].values[0])\n",
        "    imagery_raster = imagery_file.read(window=imagery_window, out_shape=(int(256), int(256)),\n",
        "                               resampling=Resampling.nearest)\n",
        "    imagery_file.close()\n",
        "    output_transform = rasterio.transform.from_bounds(tile_bounds['minx'].values[0], tile_bounds['miny'].values[0],\n",
        "                                               tile_bounds['maxx'].values[0], tile_bounds['maxy'].values[0],\n",
        "                                               imagery_raster.shape[1], imagery_raster.shape[2])\n",
        "\n",
        "    nir_file = rasterio.open(nir_vrt)\n",
        "    nir_window = nir_file.window(tile_bounds['minx'].values[0], tile_bounds['miny'].values[0],\n",
        "                                       tile_bounds['maxx'].values[0], tile_bounds['maxy'].values[0])\n",
        "    nir_raster = nir_file.read(window=nir_window, out_shape=(int(256), int(256)),\n",
        "                               resampling=Resampling.cubic)\n",
        "    # nir_image = rasterio.plot.reshape_as_image(nir_raster)\n",
        "    nir_transform = nir_file.transform\n",
        "    nir_file.close()\n",
        "\n",
        "    dsm_file = rasterio.open(dsm_vrt)\n",
        "    dsm_window = dsm_file.window(tile_bounds['minx'].values[0], tile_bounds['miny'].values[0],\n",
        "                                       tile_bounds['maxx'].values[0], tile_bounds['maxy'].values[0])\n",
        "    dsm_raster = dsm_file.read(window=dsm_window, out_shape=(int(256), int(256)),\n",
        "                               resampling=Resampling.cubic)\n",
        "    # nir_image = rasterio.plot.reshape_as_image(nir_raster)\n",
        "    dsm_transform = nir_file.transform\n",
        "    dsm_file.close()\n",
        "    print(dsm_raster.min())\n",
        "    dsm_raster = ((dsm_raster-dsm_raster.min())/15.24)*256\n",
        "    print(imagery_raster.shape)\n",
        "    print(nir_raster.shape)\n",
        "    print(dsm_raster.shape)\n",
        "    stacked_raster = np.stack([imagery_raster[0], imagery_raster[1], imagery_raster[2], nir_raster[0], dsm_raster[0]])\n",
        "    # stacked_image = rasterio.plot.reshape_as_image(stacked_raster)\n",
        "\n",
        "\n",
        "\n",
        "    output_raster = rasterio.open(f'D:/madronus/Land_Cover/redwood/training_data/image-validation/{id}.tif',\n",
        "                                  'w',\n",
        "                                  driver='GTiff',\n",
        "                                  height=256, width= 256,\n",
        "                                  count=stacked_raster.shape[0], dtype=str(rasterio.uint8),\n",
        "                                  crs='EPSG:3857',\n",
        "                                  transform=output_transform)\n",
        "    for band in range(stacked_raster.shape[0]):\n",
        "        output_raster.write(stacked_raster[band], band + 1)\n",
        "    output_raster.close()\n",
        "\n",
        "    label_file = rasterio.open(label_vrt)\n",
        "    label_window = label_file.window(tile_bounds['minx'].values[0], tile_bounds['miny'].values[0],\n",
        "                                       tile_bounds['maxx'].values[0], tile_bounds['maxy'].values[0])\n",
        "    label_raster = label_file.read(window=label_window)\n",
        "    # label_image = rasterio.plot.reshape_as_image(label_raster)\n",
        "    label_transform = label_file.transform\n",
        "    label_file.close()\n",
        "    output_raster = rasterio.open(f'D:/madronus/Land_Cover/redwood/training_data/label-validation/{id}.tif',\n",
        "                                  'w',\n",
        "                                  driver='GTiff',\n",
        "                                  height=256, width=256,\n",
        "                                  count=1, dtype=str(rasterio.uint8),\n",
        "                                  crs='EPSG:3857',\n",
        "                                  transform=output_transform)\n",
        "    for band in range(label_raster.shape[0]):\n",
        "        output_raster.write(label_raster[band], band + 1)\n",
        "    output_raster.close()"
      ],
      "metadata": {
        "id": "_s00tbM07Hjx"
      },
      "execution_count": null,
      "outputs": []
    }
  ]
}